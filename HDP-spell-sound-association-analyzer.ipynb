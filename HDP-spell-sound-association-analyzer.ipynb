{
 "cells": [
  {
   "cell_type": "markdown",
   "id": "a4316af3",
   "metadata": {},
   "source": [
    "# Set up"
   ]
  },
  {
   "cell_type": "code",
   "execution_count": 115,
   "id": "c15cc18d",
   "metadata": {},
   "outputs": [],
   "source": [
    "## prepare packages\n",
    "#%pip install -U pandas\n",
    "#%pip install -U matplotlib\n",
    "#%pip install -U gensim\n",
    "#%pip install -U scipy\n",
    "#%pip install -U pyLDAvis\n",
    "#%pip install -U plotly\n",
    "#%pip install -U 'nbformat>=4.2.0'"
   ]
  },
  {
   "cell_type": "code",
   "execution_count": 116,
   "id": "ece3e270",
   "metadata": {},
   "outputs": [],
   "source": [
    "## import modules\n",
    "import os, sys\n",
    "## maake accessible files on level immediately above \n",
    "sys.path.append(os.path.join(os.path.dirname(\"__file__\"), \"..\"))\n",
    "## import other modules\n",
    "import re\n",
    "import gzip, glob\n",
    "import unicodedata"
   ]
  },
  {
   "cell_type": "markdown",
   "id": "e35a186e",
   "metadata": {},
   "source": [
    "# Preparation 1"
   ]
  },
  {
   "cell_type": "code",
   "execution_count": 117,
   "id": "a3fc73db-d5f9-44a1-9f49-16a02df376d3",
   "metadata": {},
   "outputs": [
    {
     "name": "stdout",
     "output_type": "stream",
     "text": [
      "sp_term_type: sp_4gram\n",
      "sn_term_type: sn_4gram\n"
     ]
    }
   ],
   "source": [
    "## parameters\n",
    "verbose              = True\n",
    "save_results         = False\n",
    "targets_csv          = True\n",
    "\n",
    "## source sampling\n",
    "source_sampling      = True\n",
    "source_sampling_rate = 0.03 # optimal values depend on kinds of source\n",
    "\n",
    "## doc settings # The longer sentences become, the less precise pairing becomes\n",
    "size_measures        = [ 'sp_size', 'sn_size' ]\n",
    "size_measure         = size_measures[1]\n",
    "max_doc_size         = 10 # values larger than 10 take considerably longer to complete\n",
    "min_doc_size         =  4\n",
    "\n",
    "## preprocessing settings\n",
    "lower_chars          = True\n",
    "strip_accents        = True\n",
    "add_boundaries       = True\n",
    "boundary_symbol      = '#'  # requires more processing resource\n",
    "if add_boundaries:\n",
    "    hash_status = \"-hashed\"\n",
    "else:\n",
    "    hash_status = \"\"\n",
    "\n",
    "## term settings\n",
    "ngram_is_inclusive    = True # takes significantly more time to complete but invites sum error if False with larger n, \n",
    "inclusion_degree      = 1    # Valid values are {0, 1, 2, ..., None}. With k, n-grams includes (n-k)-grams\n",
    "max_gap_size_factor   = 0.53 # It takes time at valuers larger than 0.5 with larger n such as n = 5\n",
    "max_gap_size          = round(max_doc_size * max_gap_size_factor) # This needs to be smaller than other cases.\n",
    "\n",
    "## Skippy n-gram の隙間を表わす記号\n",
    "gap_marker            = \"…\"\n",
    "\n",
    "## spell term と sound term の連結記号\n",
    "pair_marker           = \" :: \"\n",
    "\n",
    "## set spell term_type\n",
    "sp_term_types  = [ 'sp_1gram',\n",
    "                  'sp_2gram', 'sp_3gram', 'sp_4gram', 'sp_5gram',\n",
    "                 'sp_sk2gram', 'sp_sk3gram', 'sp_sk4gram', 'sp_sk5gram' ]\n",
    "sp_term_type   = sp_term_types[3]\n",
    "print(f\"sp_term_type: {sp_term_type}\")\n",
    "\n",
    "## set sound term_type\n",
    "sn_term_types = [ 'sn_1gram',\n",
    "                 'sn_2gram', 'sn_3gram', 'sn_4gram', 'sn_5gram',\n",
    "                 'sn_sk2gram', 'sn_sk3gram', 'sn_sk4gram', 'sn_sk5gram' ]\n",
    "sn_term_type = sn_term_types[3]\n",
    "print(f\"sn_term_type: {sn_term_type}\")"
   ]
  },
  {
   "cell_type": "code",
   "execution_count": 118,
   "id": "c2d56fdd",
   "metadata": {},
   "outputs": [],
   "source": [
    "## term filtering: some combinations cause \"Not all rows sum to 1\" error with HDP, but no with LDA\n",
    "apply_term_freq_filtering  = True\n",
    "term_minfreq               = 3 # Effective for speeding up\n",
    "apply_term_abuse_filtering = True\n",
    "term_abuse_threshold       = 0.1 # Larger values reveal deeper; 0.006 seems to be the smallest"
   ]
  },
  {
   "cell_type": "code",
   "execution_count": 119,
   "id": "536120cb",
   "metadata": {},
   "outputs": [
    {
     "name": "stdout",
     "output_type": "stream",
     "text": [
      "method_name: HDP\n",
      "max_n_topics for HDP: 45\n",
      "n_topics for LDA: 45\n",
      "top_perplexity_reduct_rate: 0.33\n"
     ]
    }
   ],
   "source": [
    "## select HDP or LDA: HDP takes considerably longer than LDA,\n",
    "## and is susceptible with \"Not all rows sum to 1\" error at pyLDAvis\n",
    "## HDP\n",
    "use_HDP         = True\n",
    "max_n_topics    = 45\n",
    "n_terms_to_show = 120\n",
    "\n",
    "## LDA\n",
    "n_topics  = max_n_topics # 精度にはあまり影響しない？\n",
    "if use_HDP:\n",
    "    method_name  = \"HDP\" # non-executive variable to be used in file names\n",
    "else:\n",
    "    method_name  = \"LDA\"\n",
    "\n",
    "## tSNE\n",
    "top_perplexity_reduct_rate = 0.33\n",
    "##\n",
    "print(f\"method_name: {method_name}\")\n",
    "print(f\"max_n_topics for HDP: {max_n_topics}\")\n",
    "print(f\"n_topics for LDA: {n_topics}\")\n",
    "print(f\"top_perplexity_reduct_rate: {top_perplexity_reduct_rate}\")"
   ]
  },
  {
   "cell_type": "code",
   "execution_count": 120,
   "id": "b88ae1c3-fd5d-4efe-ab39-45a8d4a9d786",
   "metadata": {},
   "outputs": [
    {
     "data": {
      "text/plain": [
       "['data/open-dict-ipa/data1/yue.csv.gz',\n",
       " 'data/open-dict-ipa/data1/vi_S.csv.gz',\n",
       " 'data/open-dict-ipa/data1/de.csv.gz',\n",
       " 'data/open-dict-ipa/data1/jam.csv.gz',\n",
       " 'data/open-dict-ipa/data1/fa.csv.gz',\n",
       " 'data/open-dict-ipa/data1/zh_hant.csv.gz',\n",
       " 'data/open-dict-ipa/data1/sw.csv.gz',\n",
       " 'data/open-dict-ipa/data1/ar.csv.gz',\n",
       " 'data/open-dict-ipa/data1/es_MX.csv.gz',\n",
       " 'data/open-dict-ipa/data1/vi_C.csv.gz',\n",
       " 'data/open-dict-ipa/data1/ma.csv.gz',\n",
       " 'data/open-dict-ipa/data1/fi.csv.gz',\n",
       " 'data/open-dict-ipa/data1/eo.csv.gz',\n",
       " 'data/open-dict-ipa/data1/fr_QC.csv.gz',\n",
       " 'data/open-dict-ipa/data1/es_ES.csv.gz',\n",
       " 'data/open-dict-ipa/data1/en_US.csv.gz',\n",
       " 'data/open-dict-ipa/data1/en_UK.csv.gz',\n",
       " 'data/open-dict-ipa/data1/nb.csv.gz',\n",
       " 'data/open-dict-ipa/data1/nl.csv.gz',\n",
       " 'data/open-dict-ipa/data1/sv.csv.gz',\n",
       " 'data/open-dict-ipa/data1/or.csv.gz',\n",
       " 'data/open-dict-ipa/data1/zh_hans.csv.gz',\n",
       " 'data/open-dict-ipa/data1/fr_FR.csv.gz',\n",
       " 'data/open-dict-ipa/data1/vi_N.csv.gz',\n",
       " 'data/open-dict-ipa/data1/ja.csv.gz',\n",
       " 'data/open-dict-ipa/data1/is.csv.gz',\n",
       " 'data/open-dict-ipa/data1a/de_N_only.csv.gz',\n",
       " 'data/open-dict-ipa/data1a/de_non_N_only.csv.gz']"
      ]
     },
     "execution_count": 120,
     "metadata": {},
     "output_type": "execute_result"
    }
   ],
   "source": [
    "## get data\n",
    "import glob\n",
    "data_dir1 = \"data/open-dict-ipa/data1\"\n",
    "data_dir2 = \"data/open-dict-ipa/data1a\"\n",
    "files = [ ]\n",
    "for dir in [ data_dir1, data_dir2 ]:\n",
    "    gz_files = glob.glob(f\"{dir}/*.gz\")\n",
    "    files.extend(gz_files)\n",
    "    csv_files = glob.glob(f\"{dir}/*.csv\")\n",
    "    files.extend(csv_files)\n",
    "    txt_files = glob.glob(f\"{data_dir2}/*.txt\")\n",
    "    files.extend(txt_files)\n",
    "#\n",
    "files"
   ]
  },
  {
   "cell_type": "code",
   "execution_count": 121,
   "id": "f508682d",
   "metadata": {},
   "outputs": [
    {
     "name": "stdout",
     "output_type": "stream",
     "text": [
      "lang_name: French () [lang_key: fr]\n",
      "['data/open-dict-ipa/data1/fr_QC.csv.gz', 'data/open-dict-ipa/data1/fr_FR.csv.gz']\n"
     ]
    }
   ],
   "source": [
    "## select language and file\n",
    "lang_names = {  'ar' : 'Arabic',  # 0\n",
    "                'de' : 'German',  # 1\n",
    "                'en' : 'English', # 2\n",
    "                'es' : 'Spanish', # 3\n",
    "                'fr' : 'French',  # 4\n",
    "                'sw' : 'Swahili'  # 5\n",
    "            }\n",
    "#\n",
    "lang_keys = [ 'ar', 'de', 'en', 'es', 'fr', 'sw' ]\n",
    "#\n",
    "lang_key  = lang_keys[4]\n",
    "lang_name = lang_names[lang_key]\n",
    "lang_attr = \"\"\n",
    "print(f\"lang_name: {lang_name} ({lang_attr}) [lang_key: {lang_key}]\")\n",
    "# aliases\n",
    "target_lang_dict = lang_names\n",
    "target_lang_keys = lang_keys\n",
    "target_lang_key  = lang_key\n",
    "target_lang_attr = lang_attr\n",
    "#\n",
    "files = [ file for file in files if f\"/{lang_key}\" in file ]\n",
    "print(files)\n",
    "if len(lang_attr) > 0:\n",
    "    print(f\"lang_attr: {lang_attr}\")\n",
    "    selected_files = [ file for file in files if lang_attr in file ]\n",
    "else:\n",
    "    selected_files = files\n",
    "selected_files\n",
    "if len(selected_files) == 0:\n",
    "    exit()"
   ]
  },
  {
   "cell_type": "code",
   "execution_count": 122,
   "id": "97086ae0-f619-46dc-932a-383d22e797f1",
   "metadata": {},
   "outputs": [
    {
     "data": {
      "text/html": [
       "<div>\n",
       "<style scoped>\n",
       "    .dataframe tbody tr th:only-of-type {\n",
       "        vertical-align: middle;\n",
       "    }\n",
       "\n",
       "    .dataframe tbody tr th {\n",
       "        vertical-align: top;\n",
       "    }\n",
       "\n",
       "    .dataframe thead th {\n",
       "        text-align: right;\n",
       "    }\n",
       "</style>\n",
       "<table border=\"1\" class=\"dataframe\">\n",
       "  <thead>\n",
       "    <tr style=\"text-align: right;\">\n",
       "      <th></th>\n",
       "      <th>sp_word</th>\n",
       "      <th>sn_word</th>\n",
       "    </tr>\n",
       "  </thead>\n",
       "  <tbody>\n",
       "    <tr>\n",
       "      <th>0</th>\n",
       "      <td>a</td>\n",
       "      <td>/a/</td>\n",
       "    </tr>\n",
       "    <tr>\n",
       "      <th>1</th>\n",
       "      <td>A</td>\n",
       "      <td>/a/</td>\n",
       "    </tr>\n",
       "    <tr>\n",
       "      <th>2</th>\n",
       "      <td>à</td>\n",
       "      <td>/a/</td>\n",
       "    </tr>\n",
       "    <tr>\n",
       "      <th>3</th>\n",
       "      <td>à aucun moment</td>\n",
       "      <td>/aokœ̃˞mɑɔ̯mæ̃/</td>\n",
       "    </tr>\n",
       "    <tr>\n",
       "      <th>4</th>\n",
       "      <td>à aucun prix</td>\n",
       "      <td>/aokœ̃˞pʁi/</td>\n",
       "    </tr>\n",
       "    <tr>\n",
       "      <th>...</th>\n",
       "      <td>...</td>\n",
       "      <td>...</td>\n",
       "    </tr>\n",
       "    <tr>\n",
       "      <th>245953</th>\n",
       "      <td>zyeutons</td>\n",
       "      <td>/zjøtõũ̯/</td>\n",
       "    </tr>\n",
       "    <tr>\n",
       "      <th>245954</th>\n",
       "      <td>zygomatique</td>\n",
       "      <td>/zɪgɑɔ̯mat͡sɪk/</td>\n",
       "    </tr>\n",
       "    <tr>\n",
       "      <th>245955</th>\n",
       "      <td>zygomatiques</td>\n",
       "      <td>/zɪgɑɔ̯mat͡sɪk/</td>\n",
       "    </tr>\n",
       "    <tr>\n",
       "      <th>245956</th>\n",
       "      <td>zygote</td>\n",
       "      <td>/zɪgɑɔ̯t/</td>\n",
       "    </tr>\n",
       "    <tr>\n",
       "      <th>245957</th>\n",
       "      <td>zygotes</td>\n",
       "      <td>/zɪgɑɔ̯t/</td>\n",
       "    </tr>\n",
       "  </tbody>\n",
       "</table>\n",
       "<p>245958 rows × 2 columns</p>\n",
       "</div>"
      ],
      "text/plain": [
       "               sp_word          sn_word\n",
       "0                    a              /a/\n",
       "1                    A              /a/\n",
       "2                    à              /a/\n",
       "3       à aucun moment  /aokœ̃˞mɑɔ̯mæ̃/\n",
       "4         à aucun prix      /aokœ̃˞pʁi/\n",
       "...                ...              ...\n",
       "245953        zyeutons        /zjøtõũ̯/\n",
       "245954     zygomatique  /zɪgɑɔ̯mat͡sɪk/\n",
       "245955    zygomatiques  /zɪgɑɔ̯mat͡sɪk/\n",
       "245956          zygote        /zɪgɑɔ̯t/\n",
       "245957         zygotes        /zɪgɑɔ̯t/\n",
       "\n",
       "[245958 rows x 2 columns]"
      ]
     },
     "execution_count": 122,
     "metadata": {},
     "output_type": "execute_result"
    }
   ],
   "source": [
    "## build data from files\n",
    "import re, unicodedata\n",
    "import pandas as pd\n",
    "check = False\n",
    "target_file = selected_files[0]\n",
    "col_names = [ 'sp_word', 'sn_word' ]\n",
    "if target_file.endswith(\".gz\"):\n",
    "    with gzip.open(target_file, \"rt\") as f:\n",
    "        raw_df = pd.read_csv(f, encoding = 'utf8', header = None, names = col_names )\n",
    "else:\n",
    "    with open(target_file, \"rt\") as f:\n",
    "        raw_df = pd.read_csv(f, encoding = 'utf8', header = None, names = col_names )\n",
    "#\n",
    "raw_df"
   ]
  },
  {
   "cell_type": "code",
   "execution_count": 123,
   "id": "83365b9b",
   "metadata": {},
   "outputs": [
    {
     "data": {
      "text/html": [
       "<div>\n",
       "<style scoped>\n",
       "    .dataframe tbody tr th:only-of-type {\n",
       "        vertical-align: middle;\n",
       "    }\n",
       "\n",
       "    .dataframe tbody tr th {\n",
       "        vertical-align: top;\n",
       "    }\n",
       "\n",
       "    .dataframe thead th {\n",
       "        text-align: right;\n",
       "    }\n",
       "</style>\n",
       "<table border=\"1\" class=\"dataframe\">\n",
       "  <thead>\n",
       "    <tr style=\"text-align: right;\">\n",
       "      <th></th>\n",
       "      <th>sp_word</th>\n",
       "      <th>sn_word</th>\n",
       "    </tr>\n",
       "  </thead>\n",
       "  <tbody>\n",
       "    <tr>\n",
       "      <th>0</th>\n",
       "      <td>a</td>\n",
       "      <td>a</td>\n",
       "    </tr>\n",
       "    <tr>\n",
       "      <th>1</th>\n",
       "      <td>a</td>\n",
       "      <td>a</td>\n",
       "    </tr>\n",
       "    <tr>\n",
       "      <th>2</th>\n",
       "      <td>à</td>\n",
       "      <td>a</td>\n",
       "    </tr>\n",
       "    <tr>\n",
       "      <th>3</th>\n",
       "      <td>à aucun moment</td>\n",
       "      <td>aokœ̃˞mɑɔ̯mæ̃</td>\n",
       "    </tr>\n",
       "    <tr>\n",
       "      <th>4</th>\n",
       "      <td>à aucun prix</td>\n",
       "      <td>aokœ̃˞pʁi</td>\n",
       "    </tr>\n",
       "    <tr>\n",
       "      <th>...</th>\n",
       "      <td>...</td>\n",
       "      <td>...</td>\n",
       "    </tr>\n",
       "    <tr>\n",
       "      <th>245953</th>\n",
       "      <td>zyeutons</td>\n",
       "      <td>zjøtõũ̯</td>\n",
       "    </tr>\n",
       "    <tr>\n",
       "      <th>245954</th>\n",
       "      <td>zygomatique</td>\n",
       "      <td>zɪgɑɔ̯mat͡sɪk</td>\n",
       "    </tr>\n",
       "    <tr>\n",
       "      <th>245955</th>\n",
       "      <td>zygomatiques</td>\n",
       "      <td>zɪgɑɔ̯mat͡sɪk</td>\n",
       "    </tr>\n",
       "    <tr>\n",
       "      <th>245956</th>\n",
       "      <td>zygote</td>\n",
       "      <td>zɪgɑɔ̯t</td>\n",
       "    </tr>\n",
       "    <tr>\n",
       "      <th>245957</th>\n",
       "      <td>zygotes</td>\n",
       "      <td>zɪgɑɔ̯t</td>\n",
       "    </tr>\n",
       "  </tbody>\n",
       "</table>\n",
       "<p>245958 rows × 2 columns</p>\n",
       "</div>"
      ],
      "text/plain": [
       "               sp_word        sn_word\n",
       "0                    a              a\n",
       "1                    a              a\n",
       "2                    à              a\n",
       "3       à aucun moment  aokœ̃˞mɑɔ̯mæ̃\n",
       "4         à aucun prix      aokœ̃˞pʁi\n",
       "...                ...            ...\n",
       "245953        zyeutons        zjøtõũ̯\n",
       "245954     zygomatique  zɪgɑɔ̯mat͡sɪk\n",
       "245955    zygomatiques  zɪgɑɔ̯mat͡sɪk\n",
       "245956          zygote        zɪgɑɔ̯t\n",
       "245957         zygotes        zɪgɑɔ̯t\n",
       "\n",
       "[245958 rows x 2 columns]"
      ]
     },
     "execution_count": 123,
     "metadata": {},
     "output_type": "execute_result"
    }
   ],
   "source": [
    "## modify spell\n",
    "raw_df['sp_word'] = raw_df['sp_word'].apply(lambda x: unicodedata.normalize('NFC', str(x)))\n",
    "if lower_chars:\n",
    "    raw_df['sp_word'] = raw_df['sp_word'].apply(lambda x: x.lower())\n",
    "\n",
    "## modify sound symbols\n",
    "raw_df['sn_word'] = raw_df['sn_word'].apply(lambda x: unicodedata.normalize('NFC', str(x)))\n",
    "raw_df['sn_word'] = raw_df['sn_word'].apply(lambda x: re.sub(r\"/\", \"\", x))\n",
    "raw_df['sn_word'] = raw_df['sn_word'].apply(lambda x: x.split(\",\")[0]) # pick up only the first\n",
    "if strip_accents:\n",
    "    raw_df['sn_word'] = raw_df['sn_word'].apply(lambda x: re.sub(r'\"', \"\", x))\n",
    "    raw_df['sn_word'] = raw_df['sn_word'].apply(lambda x: re.sub(r\"[ˈˌ]\", \"\", x))\n",
    "#\n",
    "raw_df"
   ]
  },
  {
   "cell_type": "code",
   "execution_count": 124,
   "id": "81bbbea3",
   "metadata": {},
   "outputs": [
    {
     "data": {
      "text/html": [
       "<div>\n",
       "<style scoped>\n",
       "    .dataframe tbody tr th:only-of-type {\n",
       "        vertical-align: middle;\n",
       "    }\n",
       "\n",
       "    .dataframe tbody tr th {\n",
       "        vertical-align: top;\n",
       "    }\n",
       "\n",
       "    .dataframe thead th {\n",
       "        text-align: right;\n",
       "    }\n",
       "</style>\n",
       "<table border=\"1\" class=\"dataframe\">\n",
       "  <thead>\n",
       "    <tr style=\"text-align: right;\">\n",
       "      <th></th>\n",
       "      <th>did</th>\n",
       "      <th>sid</th>\n",
       "      <th>sp_word</th>\n",
       "      <th>sn_word</th>\n",
       "    </tr>\n",
       "  </thead>\n",
       "  <tbody>\n",
       "    <tr>\n",
       "      <th>0</th>\n",
       "      <td>1</td>\n",
       "      <td>1</td>\n",
       "      <td>a</td>\n",
       "      <td>a</td>\n",
       "    </tr>\n",
       "    <tr>\n",
       "      <th>1</th>\n",
       "      <td>2</td>\n",
       "      <td>2</td>\n",
       "      <td>a</td>\n",
       "      <td>a</td>\n",
       "    </tr>\n",
       "    <tr>\n",
       "      <th>2</th>\n",
       "      <td>3</td>\n",
       "      <td>3</td>\n",
       "      <td>à</td>\n",
       "      <td>a</td>\n",
       "    </tr>\n",
       "    <tr>\n",
       "      <th>3</th>\n",
       "      <td>4</td>\n",
       "      <td>4</td>\n",
       "      <td>à aucun moment</td>\n",
       "      <td>aokœ̃˞mɑɔ̯mæ̃</td>\n",
       "    </tr>\n",
       "    <tr>\n",
       "      <th>4</th>\n",
       "      <td>5</td>\n",
       "      <td>5</td>\n",
       "      <td>à aucun prix</td>\n",
       "      <td>aokœ̃˞pʁi</td>\n",
       "    </tr>\n",
       "    <tr>\n",
       "      <th>...</th>\n",
       "      <td>...</td>\n",
       "      <td>...</td>\n",
       "      <td>...</td>\n",
       "      <td>...</td>\n",
       "    </tr>\n",
       "    <tr>\n",
       "      <th>245953</th>\n",
       "      <td>245954</td>\n",
       "      <td>245954</td>\n",
       "      <td>zyeutons</td>\n",
       "      <td>zjøtõũ̯</td>\n",
       "    </tr>\n",
       "    <tr>\n",
       "      <th>245954</th>\n",
       "      <td>245955</td>\n",
       "      <td>245955</td>\n",
       "      <td>zygomatique</td>\n",
       "      <td>zɪgɑɔ̯mat͡sɪk</td>\n",
       "    </tr>\n",
       "    <tr>\n",
       "      <th>245955</th>\n",
       "      <td>245956</td>\n",
       "      <td>245956</td>\n",
       "      <td>zygomatiques</td>\n",
       "      <td>zɪgɑɔ̯mat͡sɪk</td>\n",
       "    </tr>\n",
       "    <tr>\n",
       "      <th>245956</th>\n",
       "      <td>245957</td>\n",
       "      <td>245957</td>\n",
       "      <td>zygote</td>\n",
       "      <td>zɪgɑɔ̯t</td>\n",
       "    </tr>\n",
       "    <tr>\n",
       "      <th>245957</th>\n",
       "      <td>245958</td>\n",
       "      <td>245958</td>\n",
       "      <td>zygotes</td>\n",
       "      <td>zɪgɑɔ̯t</td>\n",
       "    </tr>\n",
       "  </tbody>\n",
       "</table>\n",
       "<p>245958 rows × 4 columns</p>\n",
       "</div>"
      ],
      "text/plain": [
       "           did     sid         sp_word        sn_word\n",
       "0            1       1               a              a\n",
       "1            2       2               a              a\n",
       "2            3       3               à              a\n",
       "3            4       4  à aucun moment  aokœ̃˞mɑɔ̯mæ̃\n",
       "4            5       5    à aucun prix      aokœ̃˞pʁi\n",
       "...        ...     ...             ...            ...\n",
       "245953  245954  245954        zyeutons        zjøtõũ̯\n",
       "245954  245955  245955     zygomatique  zɪgɑɔ̯mat͡sɪk\n",
       "245955  245956  245956    zygomatiques  zɪgɑɔ̯mat͡sɪk\n",
       "245956  245957  245957          zygote        zɪgɑɔ̯t\n",
       "245957  245958  245958         zygotes        zɪgɑɔ̯t\n",
       "\n",
       "[245958 rows x 4 columns]"
      ]
     },
     "execution_count": 124,
     "metadata": {},
     "output_type": "execute_result"
    }
   ],
   "source": [
    "## build df\n",
    "dids = [ ]\n",
    "sids = [ ]\n",
    "Spells = [ ]\n",
    "Sounds = [ ]\n",
    "for i, row in raw_df.iterrows():\n",
    "    spell = row['sp_word']\n",
    "    sound = row['sn_word']\n",
    "    if len(spell) > 0 and len(sound) > 0:\n",
    "        dids.append(i + 1)\n",
    "        sids.append(i + 1)\n",
    "        Spells.append(spell)\n",
    "        Sounds.append(sound)\n",
    "#\n",
    "var_names = [ 'did', 'sid', 'sp_word', 'sn_word',\n",
    "            'sp_size', 'sn_size', 'paired_terms', \n",
    "            'sp_1gram', 'sp_2gram', 'sp_3gram',\n",
    "            'sp_sk2gram', 'sp_sk3gram',\n",
    "            'sn_1gram', 'sn_2gram', 'sn_3gram', \n",
    "            'sn_sk2gram', 'sn_sk3gram' ]\n",
    "df = pd.DataFrame()\n",
    "df['did'] = dids\n",
    "df['sid'] = sids\n",
    "df['sp_word'] = Spells\n",
    "df['sn_word'] = Sounds\n",
    "#\n",
    "df[var_names[:4]]"
   ]
  },
  {
   "cell_type": "code",
   "execution_count": 125,
   "id": "fa5d409e-d2ae-4c3a-9fac-e4b646682d77",
   "metadata": {},
   "outputs": [
    {
     "name": "stdout",
     "output_type": "stream",
     "text": [
      "sampled 7379 (0.030) rows by discarding 238579 rows\n"
     ]
    }
   ],
   "source": [
    "## sampling\n",
    "if source_sampling:\n",
    "    original_size = len(df)\n",
    "    sample_size = round(len(df) * source_sampling_rate)\n",
    "    df = df.sample(sample_size)\n",
    "    print(f\"sampled {len(df)} ({source_sampling_rate:0.3f}) rows by discarding {original_size - len(df)} rows\")"
   ]
  },
  {
   "cell_type": "code",
   "execution_count": 126,
   "id": "5aa50f78-ca51-45b7-85a5-68b9ab978bcf",
   "metadata": {},
   "outputs": [],
   "source": [
    "## tokenization\n",
    "import gzip, re\n",
    "import pandas as pd\n",
    "check = False\n",
    "Snx = [ ]\n",
    "Spx = [ ]\n",
    "for i, row in df.iterrows():\n",
    "    Spt = row['sp_word']\n",
    "    Snt = row['sn_word']\n",
    "    split_pattern = r\"\"\n",
    "    ## Spell\n",
    "    sp_seg = [ x for x in re.split(split_pattern, Spt) if len(x) > 0 ]\n",
    "    if check:\n",
    "        print(sp_seg)\n",
    "    Spx.append(sp_seg)\n",
    "    ## Sound\n",
    "    sn_seg = [ x for x in re.split(split_pattern, Snt) if len(x) > 0 ]\n",
    "    if check:\n",
    "        print(sn_seg)\n",
    "    Snx.append(sn_seg)\n",
    "## Spell\n",
    "try:\n",
    "    df['sp_1gram'] = Spx\n",
    "except ValueError:\n",
    "    pass\n",
    "## Sound\n",
    "try:\n",
    "    df['sn_1gram'] = Snx\n",
    "except ValueError:\n",
    "    pass\n",
    "## check result\n",
    "if verbose:\n",
    "    df"
   ]
  },
  {
   "cell_type": "code",
   "execution_count": 127,
   "id": "756e28b8-e393-4e0f-a890-b73df31b846f",
   "metadata": {},
   "outputs": [],
   "source": [
    "## add size columns\n",
    "df['sp_size'] = df['sp_1gram'].apply(lambda x: len(x))\n",
    "df['sn_size'] = df['sn_1gram'].apply(lambda x: len(x))\n",
    "if verbose:\n",
    "    df"
   ]
  },
  {
   "cell_type": "code",
   "execution_count": 128,
   "id": "1b7f1f94-aed4-4a66-b5fd-9347a4c9700d",
   "metadata": {},
   "outputs": [
    {
     "data": {
      "image/png": "[encoded data removed]",
      "text/plain": [
       "<Figure size 640x480 with 1 Axes>"
      ]
     },
     "metadata": {},
     "output_type": "display_data"
    }
   ],
   "source": [
    "## 語の綴り文字数の分布\n",
    "import matplotlib.pyplot as plt\n",
    "plt.hist(df['sp_size'], bins = 20)\n",
    "plt.title(f\"Distribution of counts in spell\")\n",
    "plt.show()"
   ]
  },
  {
   "cell_type": "code",
   "execution_count": 129,
   "id": "4149bba3",
   "metadata": {},
   "outputs": [
    {
     "data": {
      "image/png": "[encoded data removed]",
      "text/plain": [
       "<Figure size 640x480 with 1 Axes>"
      ]
     },
     "metadata": {},
     "output_type": "display_data"
    }
   ],
   "source": [
    "## 語の発音記号数の分布\n",
    "import matplotlib.pyplot as plt\n",
    "plt.hist(df['sn_size'], bins = 20)\n",
    "plt.title(f\"Distribution of counts in sound\")\n",
    "plt.show()"
   ]
  },
  {
   "cell_type": "markdown",
   "id": "a39fc02b",
   "metadata": {},
   "source": [
    "# build terms, part 1"
   ]
  },
  {
   "cell_type": "code",
   "execution_count": 130,
   "id": "ecb048dc-7b78-46f9-80ef-5de9bff36232",
   "metadata": {
    "tags": [
     "Filtering by doc length"
    ]
   },
   "outputs": [
    {
     "name": "stdout",
     "output_type": "stream",
     "text": [
      "discarding pairs whose sn_size part has less than 4 chars\n",
      "discarding pairs whose sn_size part has more than 10 chars\n",
      "2895 (0.392) pairs were removed\n",
      "4484 pairs remain\n"
     ]
    }
   ],
   "source": [
    "## 長さで濾過\n",
    "original_size = len(df)\n",
    "print(f\"discarding pairs whose {size_measure} part has less than {min_doc_size} chars\")\n",
    "df = df[df[size_measure] >= min_doc_size]\n",
    "\n",
    "print(f\"discarding pairs whose {size_measure} part has more than {max_doc_size} chars\")\n",
    "df = df[df[size_measure] < max_doc_size]\n",
    "\n",
    "current_size = len(df)\n",
    "size_diff = original_size - current_size\n",
    "print(f\"{size_diff} ({size_diff/original_size:.3f}) pairs were removed\")\n",
    "print(f\"{current_size} pairs remain\")"
   ]
  },
  {
   "cell_type": "code",
   "execution_count": 131,
   "id": "ff957230",
   "metadata": {},
   "outputs": [],
   "source": [
    "## add boundaries\n",
    "if add_boundaries:\n",
    "    df['sp_word'] = df['sp_word'].apply(lambda x: f\"{boundary_symbol}{x}{boundary_symbol}\")\n",
    "    df['sn_word'] = df['sn_word'].apply(lambda x: f\"{boundary_symbol}{x}{boundary_symbol}\")\n",
    "    df[['sp_word', 'sn_word']]"
   ]
  },
  {
   "cell_type": "code",
   "execution_count": 132,
   "id": "d2915632",
   "metadata": {},
   "outputs": [
    {
     "data": {
      "text/html": [
       "<div>\n",
       "<style scoped>\n",
       "    .dataframe tbody tr th:only-of-type {\n",
       "        vertical-align: middle;\n",
       "    }\n",
       "\n",
       "    .dataframe tbody tr th {\n",
       "        vertical-align: top;\n",
       "    }\n",
       "\n",
       "    .dataframe thead th {\n",
       "        text-align: right;\n",
       "    }\n",
       "</style>\n",
       "<table border=\"1\" class=\"dataframe\">\n",
       "  <thead>\n",
       "    <tr style=\"text-align: right;\">\n",
       "      <th></th>\n",
       "      <th>sp_1gram</th>\n",
       "      <th>sn_1gram</th>\n",
       "    </tr>\n",
       "  </thead>\n",
       "  <tbody>\n",
       "    <tr>\n",
       "      <th>51481</th>\n",
       "      <td>[#, c, o, n, t, r, ô, l, e, r, #]</td>\n",
       "      <td>[#, k, õ, ũ, ̯, t, ʁ, o, l, e, #]</td>\n",
       "    </tr>\n",
       "    <tr>\n",
       "      <th>214755</th>\n",
       "      <td>[#, s, é, c, r, é, t, é, s, #]</td>\n",
       "      <td>[#, s, e, k, ʁ, e, t, e, #]</td>\n",
       "    </tr>\n",
       "    <tr>\n",
       "      <th>41129</th>\n",
       "      <td>[#, c, i, r, c, u, l, a, i, #]</td>\n",
       "      <td>[#, s, ɪ, ʁ, k, ʏ, l, a, #]</td>\n",
       "    </tr>\n",
       "    <tr>\n",
       "      <th>93809</th>\n",
       "      <td>[#, e, n, c, h, é, r, i, r, a, #]</td>\n",
       "      <td>[#, ɑ, ̃, ʃ, e, ʁ, ɪ, ʁ, ɔ, #]</td>\n",
       "    </tr>\n",
       "    <tr>\n",
       "      <th>12575</th>\n",
       "      <td>[#, a, p, p, e, l, #]</td>\n",
       "      <td>[#, a, p, a, l, #]</td>\n",
       "    </tr>\n",
       "    <tr>\n",
       "      <th>...</th>\n",
       "      <td>...</td>\n",
       "      <td>...</td>\n",
       "    </tr>\n",
       "    <tr>\n",
       "      <th>94800</th>\n",
       "      <td>[#, e, n, d, o, r, m, i, e, s, #]</td>\n",
       "      <td>[#, ɑ, ̃, d, ɑ, ɔ, ̯, ʁ, m, i, #]</td>\n",
       "    </tr>\n",
       "    <tr>\n",
       "      <th>157646</th>\n",
       "      <td>[#, m, u, t, a, s, s, e, s, #]</td>\n",
       "      <td>[#, m, ʏ, t, a, s, #]</td>\n",
       "    </tr>\n",
       "    <tr>\n",
       "      <th>228181</th>\n",
       "      <td>[#, t, a, i, l, l, e, r, i, o, n, s, #]</td>\n",
       "      <td>[#, t, a, j, ə, ʁ, j, õ, ũ, ̯, #]</td>\n",
       "    </tr>\n",
       "    <tr>\n",
       "      <th>60674</th>\n",
       "      <td>[#, d, é, c, a, p, s, u, l, e, z, #]</td>\n",
       "      <td>[#, d, e, k, a, p, s, ʏ, l, e, #]</td>\n",
       "    </tr>\n",
       "    <tr>\n",
       "      <th>116037</th>\n",
       "      <td>[#, f, r, a, i, s, o, n, s, #]</td>\n",
       "      <td>[#, f, ʁ, a, z, õ, ũ, ̯, #]</td>\n",
       "    </tr>\n",
       "  </tbody>\n",
       "</table>\n",
       "<p>4484 rows × 2 columns</p>\n",
       "</div>"
      ],
      "text/plain": [
       "                                       sp_1gram  \\\n",
       "51481         [#, c, o, n, t, r, ô, l, e, r, #]   \n",
       "214755           [#, s, é, c, r, é, t, é, s, #]   \n",
       "41129            [#, c, i, r, c, u, l, a, i, #]   \n",
       "93809         [#, e, n, c, h, é, r, i, r, a, #]   \n",
       "12575                     [#, a, p, p, e, l, #]   \n",
       "...                                         ...   \n",
       "94800         [#, e, n, d, o, r, m, i, e, s, #]   \n",
       "157646           [#, m, u, t, a, s, s, e, s, #]   \n",
       "228181  [#, t, a, i, l, l, e, r, i, o, n, s, #]   \n",
       "60674      [#, d, é, c, a, p, s, u, l, e, z, #]   \n",
       "116037           [#, f, r, a, i, s, o, n, s, #]   \n",
       "\n",
       "                                 sn_1gram  \n",
       "51481   [#, k, õ, ũ, ̯, t, ʁ, o, l, e, #]  \n",
       "214755        [#, s, e, k, ʁ, e, t, e, #]  \n",
       "41129         [#, s, ɪ, ʁ, k, ʏ, l, a, #]  \n",
       "93809      [#, ɑ, ̃, ʃ, e, ʁ, ɪ, ʁ, ɔ, #]  \n",
       "12575                  [#, a, p, a, l, #]  \n",
       "...                                   ...  \n",
       "94800   [#, ɑ, ̃, d, ɑ, ɔ, ̯, ʁ, m, i, #]  \n",
       "157646              [#, m, ʏ, t, a, s, #]  \n",
       "228181  [#, t, a, j, ə, ʁ, j, õ, ũ, ̯, #]  \n",
       "60674   [#, d, e, k, a, p, s, ʏ, l, e, #]  \n",
       "116037        [#, f, ʁ, a, z, õ, ũ, ̯, #]  \n",
       "\n",
       "[4484 rows x 2 columns]"
      ]
     },
     "execution_count": 132,
     "metadata": {},
     "output_type": "execute_result"
    }
   ],
   "source": [
    "## add 1gram\n",
    "import re\n",
    "w_splitter = r\"\"\n",
    "df['sp_1gram'] = [ [ x for x in re.split(w_splitter, w) if len(x) > 0 ] for w in df['sp_word'] ]\n",
    "df['sn_1gram'] = [ [ x for x in re.split(w_splitter, w) if len(x) > 0 ] for w in df['sn_word'] ]\n",
    "df[['sp_1gram', 'sn_1gram']]"
   ]
  },
  {
   "cell_type": "code",
   "execution_count": 133,
   "id": "9c4dcbd7-8763-42cf-92a9-b8b0ff711602",
   "metadata": {},
   "outputs": [
    {
     "data": {
      "text/plain": [
       "[('#', 8968),\n",
       " ('e', 4653),\n",
       " ('s', 4083),\n",
       " ('a', 3918),\n",
       " ('r', 3363),\n",
       " ('i', 3306),\n",
       " ('t', 2733),\n",
       " ('n', 2529),\n",
       " ('u', 1671),\n",
       " ('o', 1613)]"
      ]
     },
     "execution_count": 133,
     "metadata": {},
     "output_type": "execute_result"
    }
   ],
   "source": [
    "## inspect frequent tokens in sp_1gram\n",
    "from collections import Counter\n",
    "sp_chars_all = [ ] \n",
    "[ sp_chars_all.extend(list(x)) for x in df['sp_1gram'] ]\n",
    "sp_char_freqs = Counter(sp_chars_all)\n",
    "## Show most frequent 10 segments\n",
    "sｐ_char_freqs.most_common(10)"
   ]
  },
  {
   "cell_type": "code",
   "execution_count": 134,
   "id": "a8add992",
   "metadata": {},
   "outputs": [
    {
     "data": {
      "text/plain": [
       "[('#', 8968),\n",
       " ('a', 4051),\n",
       " ('ʁ', 3127),\n",
       " ('e', 2168),\n",
       " ('s', 1761),\n",
       " ('t', 1477),\n",
       " ('ɪ', 1281),\n",
       " ('l', 1153),\n",
       " ('̯', 1141),\n",
       " ('ɑ', 1090)]"
      ]
     },
     "execution_count": 134,
     "metadata": {},
     "output_type": "execute_result"
    }
   ],
   "source": [
    "## inspect frequent tokens in sn_1gram\n",
    "from collections import Counter\n",
    "sn_chars_all = [ ] \n",
    "[ sn_chars_all.extend(list(x)) for x in df['sn_1gram'] ]\n",
    "sn_char_freqs = Counter(sn_chars_all)\n",
    "## Show most frequent 10 segments\n",
    "sn_char_freqs.most_common(10)"
   ]
  },
  {
   "cell_type": "code",
   "execution_count": 135,
   "id": "bd49c4cc-4d7c-46e2-b3a0-3b29140a0fd9",
   "metadata": {},
   "outputs": [],
   "source": [
    "## Install nltk if necessary\n",
    "#!pip install -U nltk"
   ]
  },
  {
   "cell_type": "markdown",
   "id": "2c19a0e4",
   "metadata": {},
   "source": [
    "n-grams の構築"
   ]
  },
  {
   "cell_type": "code",
   "execution_count": 136,
   "id": "85034591",
   "metadata": {},
   "outputs": [],
   "source": [
    "def gen_ngrams_from_str(t: str, n: int, sep: str = r\"\", joint: str = \"\", check = False):\n",
    "    'returns the list of character n-grams from a given string'\n",
    "    import re\n",
    "    segs = [ x for x in re.split(sep, t) if len(x) > 0 ]\n",
    "    if check:\n",
    "        print(segs)\n",
    "    ## short input\n",
    "    if len(segs) <= n:\n",
    "        return segs\n",
    "    ## long enough input\n",
    "    G = [ ]\n",
    "    for i in range(len(segs)):\n",
    "        try:\n",
    "            b = segs[ i : i + n ]\n",
    "            if check:\n",
    "                print(b)\n",
    "            c = joint.join(b)\n",
    "            if check:\n",
    "                print(c)\n",
    "            if len(c) == n:\n",
    "                G.append(c)\n",
    "        except IndexError:\n",
    "            pass\n",
    "    return G"
   ]
  },
  {
   "cell_type": "code",
   "execution_count": 137,
   "id": "a202d751",
   "metadata": {},
   "outputs": [],
   "source": [
    "## generic n-gram generation function\n",
    "def add_ngrams(dfx, n_for_ngram: int, prefix: str = \"\", skippy: bool = False, skippiness_symbol: str = \"sk\", max_distance = None, seg_joint: str = \"\", gap_mark: str = \"…\", inclusive: bool = True, inclusion_degree = None, check: bool = False):\n",
    "    \"add ngram col to the dfx given\"\n",
    "    import gen_ngrams\n",
    "    ## set variable names\n",
    "    source_var_name = f\"{prefix}1gram\"\n",
    "    if skippy:\n",
    "        target_var_name  = f\"{prefix}{skippiness_symbol}{n_for_ngram}gram\"\n",
    "        if n_for_ngram == 2:\n",
    "            sub_var_name = f\"{prefix}{n_for_ngram - 1}gram\"\n",
    "        else:\n",
    "            sub_var_name = f\"{prefix}{skippiness_symbol}{n_for_ngram - 1}gram\"\n",
    "            \n",
    "    else:\n",
    "        target_var_name  = f\"{prefix}{n_for_ngram}gram\"\n",
    "        sub_var_name     = f\"{prefix}{n_for_ngram - 1}gram\"\n",
    "    if check:\n",
    "        print(f\"source_var_name: {source_var_name}\")\n",
    "        print(f\"target_var_name: {target_var_name}\")\n",
    "        print(f\"sub_var_name: {sub_var_name}\")\n",
    "        \n",
    "    ## 1gram\n",
    "    unigrams = dfx[source_var_name]\n",
    "    \n",
    "    ## ngram\n",
    "    if skippy:\n",
    "        ngrams = [ gen_ngrams.gen_skippy_ngrams(g, n = n_for_ngram, sep = seg_joint, missing_mark = gap_mark, max_distance = max_distance, check = check) for g in unigrams ]\n",
    "    else:\n",
    "        ngrams = [ gen_ngrams.gen_ngrams(g, n = n_for_ngram, sep = seg_joint, check = check) for g in unigrams ]\n",
    "    \n",
    "    ## make ngrams inclusive\n",
    "    if inclusive:\n",
    "        sub_ngrams = list(dfx[sub_var_name])\n",
    "        if inclusion_degree is None:\n",
    "            for i, gram in enumerate(ngrams):\n",
    "                assert len(ngrams) == len(sub_ngrams)\n",
    "                supplement = sub_ngrams[i]\n",
    "                supplement = [ g for g in supplement if len(g) > 0 ]\n",
    "                if len(supplement) > 0:\n",
    "                    gram.extend(supplement)\n",
    "        else:\n",
    "            min_size = (n_for_ngram - inclusion_degree)\n",
    "            assert min_size >= 0\n",
    "            for i, gram in enumerate(ngrams):\n",
    "                assert len(ngrams) == len(sub_ngrams)\n",
    "                supplement = sub_ngrams[i]\n",
    "                supplement = [ g for g in supplement if len(g) >= min_size ]\n",
    "                if len(supplement) > 0:\n",
    "                    gram.extend(supplement)\n",
    "    ## update df\n",
    "    dfx[target_var_name] = ngrams\n",
    "    print(dfx[target_var_name])"
   ]
  },
  {
   "cell_type": "markdown",
   "id": "aa8e1371",
   "metadata": {},
   "source": [
    "# Spell n-grams 生成"
   ]
  },
  {
   "cell_type": "code",
   "execution_count": 138,
   "id": "dd6de012",
   "metadata": {},
   "outputs": [
    {
     "name": "stdout",
     "output_type": "stream",
     "text": [
      "51481     [#c, co, on, nt, tr, rô, ôl, le, er, r#, #, c,...\n",
      "214755    [#s, sé, éc, cr, ré, ét, té, és, s#, #, s, é, ...\n",
      "41129     [#c, ci, ir, rc, cu, ul, la, ai, i#, #, c, i, ...\n",
      "93809     [#e, en, nc, ch, hé, ér, ri, ir, ra, a#, #, e,...\n",
      "12575         [#a, ap, pp, pe, el, l#, #, a, p, p, e, l, #]\n",
      "                                ...                        \n",
      "94800     [#e, en, nd, do, or, rm, mi, ie, es, s#, #, e,...\n",
      "157646    [#m, mu, ut, ta, as, ss, se, es, s#, #, m, u, ...\n",
      "228181    [#t, ta, ai, il, ll, le, er, ri, io, on, ns, s...\n",
      "60674     [#d, dé, éc, ca, ap, ps, su, ul, le, ez, z#, #...\n",
      "116037    [#f, fr, ra, ai, is, so, on, ns, s#, #, f, r, ...\n",
      "Name: sp_2gram, Length: 4484, dtype: object\n"
     ]
    }
   ],
   "source": [
    "## sp_2gram の追加\n",
    "add_ngrams(df, n_for_ngram = 2, prefix = \"sp_\", skippy = False, inclusive = True, inclusion_degree = inclusion_degree, check = False)"
   ]
  },
  {
   "cell_type": "code",
   "execution_count": 139,
   "id": "d9abc8d2",
   "metadata": {},
   "outputs": [
    {
     "name": "stdout",
     "output_type": "stream",
     "text": [
      "51481     [#co, con, ont, ntr, trô, rôl, ôle, ler, er#, ...\n",
      "214755    [#sé, séc, écr, cré, rét, été, tés, és#, #s, s...\n",
      "41129     [#ci, cir, irc, rcu, cul, ula, lai, ai#, #c, c...\n",
      "93809     [#en, enc, nch, ché, hér, éri, rir, ira, ra#, ...\n",
      "12575     [#ap, app, ppe, pel, el#, #a, ap, pp, pe, el, l#]\n",
      "                                ...                        \n",
      "94800     [#en, end, ndo, dor, orm, rmi, mie, ies, es#, ...\n",
      "157646    [#mu, mut, uta, tas, ass, sse, ses, es#, #m, m...\n",
      "228181    [#ta, tai, ail, ill, lle, ler, eri, rio, ion, ...\n",
      "60674     [#dé, déc, éca, cap, aps, psu, sul, ule, lez, ...\n",
      "116037    [#fr, fra, rai, ais, iso, son, ons, ns#, #f, f...\n",
      "Name: sp_3gram, Length: 4484, dtype: object\n"
     ]
    }
   ],
   "source": [
    "## sp_3gram の追加\n",
    "add_ngrams(df, n_for_ngram = 3, prefix = \"sp_\", skippy = False, inclusive = True, inclusion_degree = inclusion_degree, check = False)"
   ]
  },
  {
   "cell_type": "code",
   "execution_count": 140,
   "id": "51e459f1",
   "metadata": {},
   "outputs": [
    {
     "name": "stdout",
     "output_type": "stream",
     "text": [
      "51481     [#con, cont, ontr, ntrô, trôl, rôle, ôler, ler...\n",
      "214755    [#séc, sécr, écré, crét, rété, étés, tés#, #sé...\n",
      "41129     [#cir, circ, ircu, rcul, cula, ulai, lai#, #ci...\n",
      "93809     [#enc, ench, nché, chér, héri, érir, rira, ira...\n",
      "12575     [#app, appe, ppel, pel#, #ap, app, ppe, pel, el#]\n",
      "                                ...                        \n",
      "94800     [#end, endo, ndor, dorm, ormi, rmie, mies, ies...\n",
      "157646    [#mut, muta, utas, tass, asse, sses, ses#, #mu...\n",
      "228181    [#tai, tail, aill, ille, ller, leri, erio, rio...\n",
      "60674     [#déc, déca, écap, caps, apsu, psul, sule, ule...\n",
      "116037    [#fra, frai, rais, aiso, ison, sons, ons#, #fr...\n",
      "Name: sp_4gram, Length: 4484, dtype: object\n"
     ]
    }
   ],
   "source": [
    "## sp_4gram の追加\n",
    "add_ngrams(df, n_for_ngram = 4, prefix = \"sp_\", skippy = False, inclusive = True, inclusion_degree = inclusion_degree, check = False)"
   ]
  },
  {
   "cell_type": "code",
   "execution_count": 141,
   "id": "107fe329",
   "metadata": {},
   "outputs": [],
   "source": [
    "## sp_5gram の追加\n",
    "if \"5gram\" in sp_term_type:\n",
    "    add_ngrams(df, n_for_ngram = 5, prefix = \"sp_\", skippy = False, inclusive = True, inclusion_degree = inclusion_degree, check = False)"
   ]
  },
  {
   "cell_type": "code",
   "execution_count": 142,
   "id": "189db279",
   "metadata": {},
   "outputs": [
    {
     "name": "stdout",
     "output_type": "stream",
     "text": [
      "51481     [#c, #…o, #…n, #…t, co, c…n, c…t, on, o…t, nt,...\n",
      "214755    [#s, #…é, #…c, #…r, sé, s…c, s…r, éc, é…r, cr,...\n",
      "41129     [#c, #…i, #…r, #…c, ci, c…r, c…c, ir, i…c, rc,...\n",
      "93809     [#e, #…n, #…c, #…h, en, e…c, e…h, nc, n…h, ch,...\n",
      "12575     [#a, #…p, #…p, #…e, ap, a…p, a…e, pp, p…e, pe,...\n",
      "                                ...                        \n",
      "94800     [#e, #…n, #…d, #…o, en, e…d, e…o, nd, n…o, do,...\n",
      "157646    [#m, #…u, #…t, #…a, mu, m…t, m…a, ut, u…a, ta,...\n",
      "228181    [#t, #…a, #…i, #…l, ta, t…i, t…l, ai, a…l, il,...\n",
      "60674     [#d, #…é, #…c, #…a, dé, d…c, d…a, éc, é…a, ca,...\n",
      "116037    [#f, #…r, #…a, #…i, fr, f…a, f…i, ra, r…i, ai,...\n",
      "Name: sp_sk2gram, Length: 4484, dtype: object\n"
     ]
    }
   ],
   "source": [
    "## sp_sk2gram の追加\n",
    "add_ngrams(df, n_for_ngram = 2, prefix = \"sp_\", skippy = True, max_distance = max_gap_size, inclusive = True, inclusion_degree = inclusion_degree, check = False)"
   ]
  },
  {
   "cell_type": "code",
   "execution_count": 143,
   "id": "5d008d2b",
   "metadata": {},
   "outputs": [
    {
     "name": "stdout",
     "output_type": "stream",
     "text": [
      "51481     [#co, #c…n, #c…t, #…on, #…o…t, #…nt, con, co…t...\n",
      "214755    [#sé, #s…c, #s…r, #…éc, #…é…r, #…cr, séc, sé…r...\n",
      "41129     [#ci, #c…r, #c…c, #…ir, #…i…c, #…rc, cir, ci…c...\n",
      "93809     [#en, #e…c, #e…h, #…nc, #…n…h, #…ch, enc, en…h...\n",
      "12575     [#ap, #a…p, #a…e, #…pp, #…p…e, #…pe, app, ap…e...\n",
      "                                ...                        \n",
      "94800     [#en, #e…d, #e…o, #…nd, #…n…o, #…do, end, en…o...\n",
      "157646    [#mu, #m…t, #m…a, #…ut, #…u…a, #…ta, mut, mu…a...\n",
      "228181    [#ta, #t…i, #t…l, #…ai, #…a…l, #…il, tai, ta…l...\n",
      "60674     [#dé, #d…c, #d…a, #…éc, #…é…a, #…ca, déc, dé…a...\n",
      "116037    [#fr, #f…a, #f…i, #…ra, #…r…i, #…ai, fra, fr…i...\n",
      "Name: sp_sk3gram, Length: 4484, dtype: object\n"
     ]
    }
   ],
   "source": [
    "## sp_sk3gram の追加\n",
    "add_ngrams(df, n_for_ngram = 3, prefix = \"sp_\", skippy = True, max_distance = max_gap_size, inclusive = True, inclusion_degree = inclusion_degree, check = False)"
   ]
  },
  {
   "cell_type": "code",
   "execution_count": 144,
   "id": "71943f9f",
   "metadata": {},
   "outputs": [
    {
     "name": "stdout",
     "output_type": "stream",
     "text": [
      "51481     [#con, #co…t, #c…nt, #…ont, cont, cont, con…r,...\n",
      "214755    [#séc, #sé…r, #s…cr, #…écr, sécr, sécr, séc…é,...\n",
      "41129     [#cir, #ci…c, #c…rc, #…irc, circ, circ, cir…u,...\n",
      "93809     [#enc, #en…h, #e…ch, #…nch, ench, ench, enc…é,...\n",
      "12575     [#app, #ap…e, #a…pe, #…ppe, appe, appe, app…l,...\n",
      "                                ...                        \n",
      "94800     [#end, #en…o, #e…do, #…ndo, endo, endo, end…r,...\n",
      "157646    [#mut, #mu…a, #m…ta, #…uta, muta, muta, mut…s,...\n",
      "228181    [#tai, #ta…l, #t…il, #…ail, tail, tail, tai…l,...\n",
      "60674     [#déc, #dé…a, #d…ca, #…éca, déca, déca, déc…p,...\n",
      "116037    [#fra, #fr…i, #f…ai, #…rai, frai, frai, fra…s,...\n",
      "Name: sp_sk4gram, Length: 4484, dtype: object\n"
     ]
    }
   ],
   "source": [
    "## sp_sk4gram の追加\n",
    "add_ngrams(df, n_for_ngram = 4, prefix = \"sp_\", skippy = True, max_distance = max_gap_size, inclusive = True, inclusion_degree = inclusion_degree, check = False)"
   ]
  },
  {
   "cell_type": "code",
   "execution_count": 145,
   "id": "436b0185",
   "metadata": {},
   "outputs": [],
   "source": [
    "## sp_sk5gram の追加\n",
    "if \"5gram\" in sp_term_type:\n",
    "    add_ngrams(df, n_for_ngram = 5, prefix = \"sp_\", skippy = True, max_distance = max_gap_size, inclusive = True, inclusion_degree = inclusion_degree, check = False)"
   ]
  },
  {
   "cell_type": "code",
   "execution_count": 146,
   "id": "599db18c",
   "metadata": {},
   "outputs": [
    {
     "data": {
      "text/html": [
       "<div>\n",
       "<style scoped>\n",
       "    .dataframe tbody tr th:only-of-type {\n",
       "        vertical-align: middle;\n",
       "    }\n",
       "\n",
       "    .dataframe tbody tr th {\n",
       "        vertical-align: top;\n",
       "    }\n",
       "\n",
       "    .dataframe thead th {\n",
       "        text-align: right;\n",
       "    }\n",
       "</style>\n",
       "<table border=\"1\" class=\"dataframe\">\n",
       "  <thead>\n",
       "    <tr style=\"text-align: right;\">\n",
       "      <th></th>\n",
       "      <th>sp_word</th>\n",
       "      <th>sp_sk2gram</th>\n",
       "      <th>sp_sk3gram</th>\n",
       "      <th>sp_sk4gram</th>\n",
       "    </tr>\n",
       "  </thead>\n",
       "  <tbody>\n",
       "    <tr>\n",
       "      <th>51481</th>\n",
       "      <td>#contrôler#</td>\n",
       "      <td>[#c, #…o, #…n, #…t, co, c…n, c…t, on, o…t, nt,...</td>\n",
       "      <td>[#co, #c…n, #c…t, #…on, #…o…t, #…nt, con, co…t...</td>\n",
       "      <td>[#con, #co…t, #c…nt, #…ont, cont, cont, con…r,...</td>\n",
       "    </tr>\n",
       "    <tr>\n",
       "      <th>214755</th>\n",
       "      <td>#sécrétés#</td>\n",
       "      <td>[#s, #…é, #…c, #…r, sé, s…c, s…r, éc, é…r, cr,...</td>\n",
       "      <td>[#sé, #s…c, #s…r, #…éc, #…é…r, #…cr, séc, sé…r...</td>\n",
       "      <td>[#séc, #sé…r, #s…cr, #…écr, sécr, sécr, séc…é,...</td>\n",
       "    </tr>\n",
       "    <tr>\n",
       "      <th>41129</th>\n",
       "      <td>#circulai#</td>\n",
       "      <td>[#c, #…i, #…r, #…c, ci, c…r, c…c, ir, i…c, rc,...</td>\n",
       "      <td>[#ci, #c…r, #c…c, #…ir, #…i…c, #…rc, cir, ci…c...</td>\n",
       "      <td>[#cir, #ci…c, #c…rc, #…irc, circ, circ, cir…u,...</td>\n",
       "    </tr>\n",
       "    <tr>\n",
       "      <th>93809</th>\n",
       "      <td>#enchérira#</td>\n",
       "      <td>[#e, #…n, #…c, #…h, en, e…c, e…h, nc, n…h, ch,...</td>\n",
       "      <td>[#en, #e…c, #e…h, #…nc, #…n…h, #…ch, enc, en…h...</td>\n",
       "      <td>[#enc, #en…h, #e…ch, #…nch, ench, ench, enc…é,...</td>\n",
       "    </tr>\n",
       "    <tr>\n",
       "      <th>12575</th>\n",
       "      <td>#appel#</td>\n",
       "      <td>[#a, #…p, #…p, #…e, ap, a…p, a…e, pp, p…e, pe,...</td>\n",
       "      <td>[#ap, #a…p, #a…e, #…pp, #…p…e, #…pe, app, ap…e...</td>\n",
       "      <td>[#app, #ap…e, #a…pe, #…ppe, appe, appe, app…l,...</td>\n",
       "    </tr>\n",
       "    <tr>\n",
       "      <th>...</th>\n",
       "      <td>...</td>\n",
       "      <td>...</td>\n",
       "      <td>...</td>\n",
       "      <td>...</td>\n",
       "    </tr>\n",
       "    <tr>\n",
       "      <th>94800</th>\n",
       "      <td>#endormies#</td>\n",
       "      <td>[#e, #…n, #…d, #…o, en, e…d, e…o, nd, n…o, do,...</td>\n",
       "      <td>[#en, #e…d, #e…o, #…nd, #…n…o, #…do, end, en…o...</td>\n",
       "      <td>[#end, #en…o, #e…do, #…ndo, endo, endo, end…r,...</td>\n",
       "    </tr>\n",
       "    <tr>\n",
       "      <th>157646</th>\n",
       "      <td>#mutasses#</td>\n",
       "      <td>[#m, #…u, #…t, #…a, mu, m…t, m…a, ut, u…a, ta,...</td>\n",
       "      <td>[#mu, #m…t, #m…a, #…ut, #…u…a, #…ta, mut, mu…a...</td>\n",
       "      <td>[#mut, #mu…a, #m…ta, #…uta, muta, muta, mut…s,...</td>\n",
       "    </tr>\n",
       "    <tr>\n",
       "      <th>228181</th>\n",
       "      <td>#taillerions#</td>\n",
       "      <td>[#t, #…a, #…i, #…l, ta, t…i, t…l, ai, a…l, il,...</td>\n",
       "      <td>[#ta, #t…i, #t…l, #…ai, #…a…l, #…il, tai, ta…l...</td>\n",
       "      <td>[#tai, #ta…l, #t…il, #…ail, tail, tail, tai…l,...</td>\n",
       "    </tr>\n",
       "    <tr>\n",
       "      <th>60674</th>\n",
       "      <td>#décapsulez#</td>\n",
       "      <td>[#d, #…é, #…c, #…a, dé, d…c, d…a, éc, é…a, ca,...</td>\n",
       "      <td>[#dé, #d…c, #d…a, #…éc, #…é…a, #…ca, déc, dé…a...</td>\n",
       "      <td>[#déc, #dé…a, #d…ca, #…éca, déca, déca, déc…p,...</td>\n",
       "    </tr>\n",
       "    <tr>\n",
       "      <th>116037</th>\n",
       "      <td>#fraisons#</td>\n",
       "      <td>[#f, #…r, #…a, #…i, fr, f…a, f…i, ra, r…i, ai,...</td>\n",
       "      <td>[#fr, #f…a, #f…i, #…ra, #…r…i, #…ai, fra, fr…i...</td>\n",
       "      <td>[#fra, #fr…i, #f…ai, #…rai, frai, frai, fra…s,...</td>\n",
       "    </tr>\n",
       "  </tbody>\n",
       "</table>\n",
       "<p>4484 rows × 4 columns</p>\n",
       "</div>"
      ],
      "text/plain": [
       "              sp_word                                         sp_sk2gram  \\\n",
       "51481     #contrôler#  [#c, #…o, #…n, #…t, co, c…n, c…t, on, o…t, nt,...   \n",
       "214755     #sécrétés#  [#s, #…é, #…c, #…r, sé, s…c, s…r, éc, é…r, cr,...   \n",
       "41129      #circulai#  [#c, #…i, #…r, #…c, ci, c…r, c…c, ir, i…c, rc,...   \n",
       "93809     #enchérira#  [#e, #…n, #…c, #…h, en, e…c, e…h, nc, n…h, ch,...   \n",
       "12575         #appel#  [#a, #…p, #…p, #…e, ap, a…p, a…e, pp, p…e, pe,...   \n",
       "...               ...                                                ...   \n",
       "94800     #endormies#  [#e, #…n, #…d, #…o, en, e…d, e…o, nd, n…o, do,...   \n",
       "157646     #mutasses#  [#m, #…u, #…t, #…a, mu, m…t, m…a, ut, u…a, ta,...   \n",
       "228181  #taillerions#  [#t, #…a, #…i, #…l, ta, t…i, t…l, ai, a…l, il,...   \n",
       "60674    #décapsulez#  [#d, #…é, #…c, #…a, dé, d…c, d…a, éc, é…a, ca,...   \n",
       "116037     #fraisons#  [#f, #…r, #…a, #…i, fr, f…a, f…i, ra, r…i, ai,...   \n",
       "\n",
       "                                               sp_sk3gram  \\\n",
       "51481   [#co, #c…n, #c…t, #…on, #…o…t, #…nt, con, co…t...   \n",
       "214755  [#sé, #s…c, #s…r, #…éc, #…é…r, #…cr, séc, sé…r...   \n",
       "41129   [#ci, #c…r, #c…c, #…ir, #…i…c, #…rc, cir, ci…c...   \n",
       "93809   [#en, #e…c, #e…h, #…nc, #…n…h, #…ch, enc, en…h...   \n",
       "12575   [#ap, #a…p, #a…e, #…pp, #…p…e, #…pe, app, ap…e...   \n",
       "...                                                   ...   \n",
       "94800   [#en, #e…d, #e…o, #…nd, #…n…o, #…do, end, en…o...   \n",
       "157646  [#mu, #m…t, #m…a, #…ut, #…u…a, #…ta, mut, mu…a...   \n",
       "228181  [#ta, #t…i, #t…l, #…ai, #…a…l, #…il, tai, ta…l...   \n",
       "60674   [#dé, #d…c, #d…a, #…éc, #…é…a, #…ca, déc, dé…a...   \n",
       "116037  [#fr, #f…a, #f…i, #…ra, #…r…i, #…ai, fra, fr…i...   \n",
       "\n",
       "                                               sp_sk4gram  \n",
       "51481   [#con, #co…t, #c…nt, #…ont, cont, cont, con…r,...  \n",
       "214755  [#séc, #sé…r, #s…cr, #…écr, sécr, sécr, séc…é,...  \n",
       "41129   [#cir, #ci…c, #c…rc, #…irc, circ, circ, cir…u,...  \n",
       "93809   [#enc, #en…h, #e…ch, #…nch, ench, ench, enc…é,...  \n",
       "12575   [#app, #ap…e, #a…pe, #…ppe, appe, appe, app…l,...  \n",
       "...                                                   ...  \n",
       "94800   [#end, #en…o, #e…do, #…ndo, endo, endo, end…r,...  \n",
       "157646  [#mut, #mu…a, #m…ta, #…uta, muta, muta, mut…s,...  \n",
       "228181  [#tai, #ta…l, #t…il, #…ail, tail, tail, tai…l,...  \n",
       "60674   [#déc, #dé…a, #d…ca, #…éca, déca, déca, déc…p,...  \n",
       "116037  [#fra, #fr…i, #f…ai, #…rai, frai, frai, fra…s,...  \n",
       "\n",
       "[4484 rows x 4 columns]"
      ]
     },
     "execution_count": 146,
     "metadata": {},
     "output_type": "execute_result"
    }
   ],
   "source": [
    "## check result\n",
    "if \"5gram\" in sp_term_type:\n",
    "    var_names = [ 'sp_word', 'sp_sk2gram', 'sp_sk3gram', 'sp_sk4gram', 'sp_sk5gram' ]\n",
    "else:\n",
    "    var_names = [ 'sp_word', 'sp_sk2gram', 'sp_sk3gram', 'sp_sk4gram' ]\n",
    "df[var_names]"
   ]
  },
  {
   "cell_type": "markdown",
   "id": "8a04f220",
   "metadata": {},
   "source": [
    "# Sound n-grams 生成"
   ]
  },
  {
   "cell_type": "code",
   "execution_count": 147,
   "id": "e00161ab",
   "metadata": {},
   "outputs": [
    {
     "name": "stdout",
     "output_type": "stream",
     "text": [
      "51481     [#k, kõ, õũ, ũ̯, ̯t, tʁ, ʁo, ol, le, e#, #, k,...\n",
      "214755    [#s, se, ek, kʁ, ʁe, et, te, e#, #, s, e, k, ʁ...\n",
      "41129     [#s, sɪ, ɪʁ, ʁk, kʏ, ʏl, la, a#, #, s, ɪ, ʁ, k...\n",
      "93809     [#ɑ, ɑ̃, ̃ʃ, ʃe, eʁ, ʁɪ, ɪʁ, ʁɔ, ɔ#, #, ɑ, ̃, ...\n",
      "12575                [#a, ap, pa, al, l#, #, a, p, a, l, #]\n",
      "                                ...                        \n",
      "94800     [#ɑ, ɑ̃, ̃d, dɑ, ɑɔ, ɔ̯, ̯ʁ, ʁm, mi, i#, #, ɑ,...\n",
      "157646        [#m, mʏ, ʏt, ta, as, s#, #, m, ʏ, t, a, s, #]\n",
      "228181    [#t, ta, aj, jə, əʁ, ʁj, jõ, õũ, ũ̯, ̯#, #, t,...\n",
      "60674     [#d, de, ek, ka, ap, ps, sʏ, ʏl, le, e#, #, d,...\n",
      "116037    [#f, fʁ, ʁa, az, zõ, õũ, ũ̯, ̯#, #, f, ʁ, a, z...\n",
      "Name: sn_2gram, Length: 4484, dtype: object\n"
     ]
    }
   ],
   "source": [
    "## sn_2gram の追加\n",
    "add_ngrams(df, n_for_ngram = 2, prefix = \"sn_\", skippy = False, inclusive = True, inclusion_degree = inclusion_degree, check = False)"
   ]
  },
  {
   "cell_type": "code",
   "execution_count": 148,
   "id": "c323aec2",
   "metadata": {},
   "outputs": [
    {
     "name": "stdout",
     "output_type": "stream",
     "text": [
      "51481     [#kõ, kõũ, õũ̯, ũ̯t, ̯tʁ, tʁo, ʁol, ole, le#, ...\n",
      "214755    [#se, sek, ekʁ, kʁe, ʁet, ete, te#, #s, se, ek...\n",
      "41129     [#sɪ, sɪʁ, ɪʁk, ʁkʏ, kʏl, ʏla, la#, #s, sɪ, ɪʁ...\n",
      "93809     [#ɑ̃, ɑ̃ʃ, ̃ʃe, ʃeʁ, eʁɪ, ʁɪʁ, ɪʁɔ, ʁɔ#, #ɑ, ɑ...\n",
      "12575              [#ap, apa, pal, al#, #a, ap, pa, al, l#]\n",
      "                                ...                        \n",
      "94800     [#ɑ̃, ɑ̃d, ̃dɑ, dɑɔ, ɑɔ̯, ɔ̯ʁ, ̯ʁm, ʁmi, mi#, ...\n",
      "157646    [#mʏ, mʏt, ʏta, tas, as#, #m, mʏ, ʏt, ta, as, s#]\n",
      "228181    [#ta, taj, ajə, jəʁ, əʁj, ʁjõ, jõũ, õũ̯, ũ̯#, ...\n",
      "60674     [#de, dek, eka, kap, aps, psʏ, sʏl, ʏle, le#, ...\n",
      "116037    [#fʁ, fʁa, ʁaz, azõ, zõũ, õũ̯, ũ̯#, #f, fʁ, ʁa...\n",
      "Name: sn_3gram, Length: 4484, dtype: object\n"
     ]
    }
   ],
   "source": [
    "## sn_3gram の追加\n",
    "add_ngrams(df, n_for_ngram = 3, prefix = \"sn_\", skippy = False, inclusive = True, inclusion_degree = inclusion_degree, check = False)"
   ]
  },
  {
   "cell_type": "code",
   "execution_count": 149,
   "id": "9d680975",
   "metadata": {},
   "outputs": [
    {
     "name": "stdout",
     "output_type": "stream",
     "text": [
      "51481     [#kõũ, kõũ̯, õũ̯t, ũ̯tʁ, ̯tʁo, tʁol, ʁole, ole...\n",
      "214755    [#sek, sekʁ, ekʁe, kʁet, ʁete, ete#, #se, sek,...\n",
      "41129     [#sɪʁ, sɪʁk, ɪʁkʏ, ʁkʏl, kʏla, ʏla#, #sɪ, sɪʁ,...\n",
      "93809     [#ɑ̃ʃ, ɑ̃ʃe, ̃ʃeʁ, ʃeʁɪ, eʁɪʁ, ʁɪʁɔ, ɪʁɔ#, #ɑ̃...\n",
      "12575                [#apa, apal, pal#, #ap, apa, pal, al#]\n",
      "                                ...                        \n",
      "94800     [#ɑ̃d, ɑ̃dɑ, ̃dɑɔ, dɑɔ̯, ɑɔ̯ʁ, ɔ̯ʁm, ̯ʁmi, ʁmi...\n",
      "157646    [#mʏt, mʏta, ʏtas, tas#, #mʏ, mʏt, ʏta, tas, as#]\n",
      "228181    [#taj, tajə, ajəʁ, jəʁj, əʁjõ, ʁjõũ, jõũ̯, õũ̯...\n",
      "60674     [#dek, deka, ekap, kaps, apsʏ, psʏl, sʏle, ʏle...\n",
      "116037    [#fʁa, fʁaz, ʁazõ, azõũ, zõũ̯, õũ̯#, #fʁ, fʁa,...\n",
      "Name: sn_4gram, Length: 4484, dtype: object\n"
     ]
    }
   ],
   "source": [
    "## sn_4gram の追加\n",
    "add_ngrams(df, n_for_ngram = 4, prefix = \"sn_\", skippy = False, inclusive = True, inclusion_degree = inclusion_degree, check = False)"
   ]
  },
  {
   "cell_type": "code",
   "execution_count": 150,
   "id": "9412c517",
   "metadata": {},
   "outputs": [],
   "source": [
    "## sn_5gram の追加\n",
    "if \"5gram\" in sn_term_type:\n",
    "    add_ngrams(df, n_for_ngram = 5, prefix = \"sn_\", skippy = False, inclusive = True, inclusion_degree = inclusion_degree, check = False)"
   ]
  },
  {
   "cell_type": "code",
   "execution_count": 151,
   "id": "564821d8",
   "metadata": {},
   "outputs": [
    {
     "name": "stdout",
     "output_type": "stream",
     "text": [
      "51481     [#k, #…õ, #…ũ, #…̯, kõ, k…ũ, k…̯, õũ, õ…̯, ũ̯,...\n",
      "214755    [#s, #…e, #…k, #…ʁ, se, s…k, s…ʁ, ek, e…ʁ, kʁ,...\n",
      "41129     [#s, #…ɪ, #…ʁ, #…k, sɪ, s…ʁ, s…k, ɪʁ, ɪ…k, ʁk,...\n",
      "93809     [#ɑ, #…̃, #…ʃ, #…e, ɑ̃, ɑ…ʃ, ɑ…e, ̃ʃ, ̃…e, ʃe,...\n",
      "12575     [#a, #…p, #…a, #…l, ap, a…a, a…l, pa, p…l, al,...\n",
      "                                ...                        \n",
      "94800     [#ɑ, #…̃, #…d, #…ɑ, ɑ̃, ɑ…d, ɑ…ɑ, ̃d, ̃…ɑ, dɑ,...\n",
      "157646    [#m, #…ʏ, #…t, #…a, mʏ, m…t, m…a, ʏt, ʏ…a, ta,...\n",
      "228181    [#t, #…a, #…j, #…ə, ta, t…j, t…ə, aj, a…ə, jə,...\n",
      "60674     [#d, #…e, #…k, #…a, de, d…k, d…a, ek, e…a, ka,...\n",
      "116037    [#f, #…ʁ, #…a, #…z, fʁ, f…a, f…z, ʁa, ʁ…z, az,...\n",
      "Name: sn_sk2gram, Length: 4484, dtype: object\n"
     ]
    }
   ],
   "source": [
    "## sn_sk2gram の追加\n",
    "add_ngrams(df, n_for_ngram = 2, prefix = \"sn_\", skippy = True, max_distance = max_gap_size, inclusive = True, inclusion_degree = inclusion_degree, check = False)"
   ]
  },
  {
   "cell_type": "code",
   "execution_count": 152,
   "id": "621ecec8",
   "metadata": {},
   "outputs": [
    {
     "name": "stdout",
     "output_type": "stream",
     "text": [
      "51481     [#kõ, #k…ũ, #k…̯, #…õũ, #…õ…̯, #…ũ̯, kõũ, kõ…̯...\n",
      "214755    [#se, #s…k, #s…ʁ, #…ek, #…e…ʁ, #…kʁ, sek, se…ʁ...\n",
      "41129     [#sɪ, #s…ʁ, #s…k, #…ɪʁ, #…ɪ…k, #…ʁk, sɪʁ, sɪ…k...\n",
      "93809     [#ɑ̃, #ɑ…ʃ, #ɑ…e, #…̃ʃ, #…̃…e, #…ʃe, ɑ̃ʃ, ɑ̃…e...\n",
      "12575     [#ap, #a…a, #a…l, #…pa, #…p…l, #…al, apa, ap…l...\n",
      "                                ...                        \n",
      "94800     [#ɑ̃, #ɑ…d, #ɑ…ɑ, #…̃d, #…̃…ɑ, #…dɑ, ɑ̃d, ɑ̃…ɑ...\n",
      "157646    [#mʏ, #m…t, #m…a, #…ʏt, #…ʏ…a, #…ta, mʏt, mʏ…a...\n",
      "228181    [#ta, #t…j, #t…ə, #…aj, #…a…ə, #…jə, taj, ta…ə...\n",
      "60674     [#de, #d…k, #d…a, #…ek, #…e…a, #…ka, dek, de…a...\n",
      "116037    [#fʁ, #f…a, #f…z, #…ʁa, #…ʁ…z, #…az, fʁa, fʁ…z...\n",
      "Name: sn_sk3gram, Length: 4484, dtype: object\n"
     ]
    }
   ],
   "source": [
    "## sn_sk3gram の追加\n",
    "add_ngrams(df, n_for_ngram = 3, prefix = \"sn_\", skippy = True, max_distance = max_gap_size, inclusive = True, inclusion_degree = inclusion_degree, check = False)"
   ]
  },
  {
   "cell_type": "code",
   "execution_count": 153,
   "id": "a23e1a66",
   "metadata": {},
   "outputs": [
    {
     "name": "stdout",
     "output_type": "stream",
     "text": [
      "51481     [#kõũ, #kõ…̯, #k…ũ̯, #…õũ̯, kõũ̯, kõũ̯, kõũ…t,...\n",
      "214755    [#sek, #se…ʁ, #s…kʁ, #…ekʁ, sekʁ, sekʁ, sek…e,...\n",
      "41129     [#sɪʁ, #sɪ…k, #s…ʁk, #…ɪʁk, sɪʁk, sɪʁk, sɪʁ…ʏ,...\n",
      "93809     [#ɑ̃ʃ, #ɑ̃…e, #ɑ…ʃe, #…̃ʃe, ɑ̃ʃe, ɑ̃ʃe, ɑ̃ʃ…ʁ,...\n",
      "12575     [#apa, #ap…l, #a…al, #…pal, apal, apal, apa…#,...\n",
      "                                ...                        \n",
      "94800     [#ɑ̃d, #ɑ̃…ɑ, #ɑ…dɑ, #…̃dɑ, ɑ̃dɑ, ɑ̃dɑ, ɑ̃d…ɔ,...\n",
      "157646    [#mʏt, #mʏ…a, #m…ta, #…ʏta, mʏta, mʏta, mʏt…s,...\n",
      "228181    [#taj, #ta…ə, #t…jə, #…ajə, tajə, tajə, taj…ʁ,...\n",
      "60674     [#dek, #de…a, #d…ka, #…eka, deka, deka, dek…p,...\n",
      "116037    [#fʁa, #fʁ…z, #f…az, #…ʁaz, fʁaz, fʁaz, fʁa…õ,...\n",
      "Name: sn_sk4gram, Length: 4484, dtype: object\n"
     ]
    }
   ],
   "source": [
    "## sn_sk4gram の追加\n",
    "add_ngrams(df, n_for_ngram = 4, prefix = \"sn_\", skippy = True, max_distance = max_gap_size, inclusive = True, inclusion_degree = inclusion_degree, check = False)"
   ]
  },
  {
   "cell_type": "code",
   "execution_count": 154,
   "id": "f44e0d37",
   "metadata": {},
   "outputs": [],
   "source": [
    "## sn_sk5gram の追加\n",
    "if \"5gram\" in sn_term_type:\n",
    "    add_ngrams(df, n_for_ngram = 5, prefix = \"sn_\", skippy = True, max_distance = max_gap_size, inclusive = True, inclusion_degree = inclusion_degree, check = False)"
   ]
  },
  {
   "cell_type": "code",
   "execution_count": 155,
   "id": "05c2a69d",
   "metadata": {},
   "outputs": [
    {
     "data": {
      "text/html": [
       "<div>\n",
       "<style scoped>\n",
       "    .dataframe tbody tr th:only-of-type {\n",
       "        vertical-align: middle;\n",
       "    }\n",
       "\n",
       "    .dataframe tbody tr th {\n",
       "        vertical-align: top;\n",
       "    }\n",
       "\n",
       "    .dataframe thead th {\n",
       "        text-align: right;\n",
       "    }\n",
       "</style>\n",
       "<table border=\"1\" class=\"dataframe\">\n",
       "  <thead>\n",
       "    <tr style=\"text-align: right;\">\n",
       "      <th></th>\n",
       "      <th>sn_word</th>\n",
       "      <th>sn_sk2gram</th>\n",
       "      <th>sn_sk3gram</th>\n",
       "      <th>sn_sk4gram</th>\n",
       "    </tr>\n",
       "  </thead>\n",
       "  <tbody>\n",
       "    <tr>\n",
       "      <th>51481</th>\n",
       "      <td>#kõũ̯tʁole#</td>\n",
       "      <td>[#k, #…õ, #…ũ, #…̯, kõ, k…ũ, k…̯, õũ, õ…̯, ũ̯,...</td>\n",
       "      <td>[#kõ, #k…ũ, #k…̯, #…õũ, #…õ…̯, #…ũ̯, kõũ, kõ…̯...</td>\n",
       "      <td>[#kõũ, #kõ…̯, #k…ũ̯, #…õũ̯, kõũ̯, kõũ̯, kõũ…t,...</td>\n",
       "    </tr>\n",
       "    <tr>\n",
       "      <th>214755</th>\n",
       "      <td>#sekʁete#</td>\n",
       "      <td>[#s, #…e, #…k, #…ʁ, se, s…k, s…ʁ, ek, e…ʁ, kʁ,...</td>\n",
       "      <td>[#se, #s…k, #s…ʁ, #…ek, #…e…ʁ, #…kʁ, sek, se…ʁ...</td>\n",
       "      <td>[#sek, #se…ʁ, #s…kʁ, #…ekʁ, sekʁ, sekʁ, sek…e,...</td>\n",
       "    </tr>\n",
       "    <tr>\n",
       "      <th>41129</th>\n",
       "      <td>#sɪʁkʏla#</td>\n",
       "      <td>[#s, #…ɪ, #…ʁ, #…k, sɪ, s…ʁ, s…k, ɪʁ, ɪ…k, ʁk,...</td>\n",
       "      <td>[#sɪ, #s…ʁ, #s…k, #…ɪʁ, #…ɪ…k, #…ʁk, sɪʁ, sɪ…k...</td>\n",
       "      <td>[#sɪʁ, #sɪ…k, #s…ʁk, #…ɪʁk, sɪʁk, sɪʁk, sɪʁ…ʏ,...</td>\n",
       "    </tr>\n",
       "    <tr>\n",
       "      <th>93809</th>\n",
       "      <td>#ɑ̃ʃeʁɪʁɔ#</td>\n",
       "      <td>[#ɑ, #…̃, #…ʃ, #…e, ɑ̃, ɑ…ʃ, ɑ…e, ̃ʃ, ̃…e, ʃe,...</td>\n",
       "      <td>[#ɑ̃, #ɑ…ʃ, #ɑ…e, #…̃ʃ, #…̃…e, #…ʃe, ɑ̃ʃ, ɑ̃…e...</td>\n",
       "      <td>[#ɑ̃ʃ, #ɑ̃…e, #ɑ…ʃe, #…̃ʃe, ɑ̃ʃe, ɑ̃ʃe, ɑ̃ʃ…ʁ,...</td>\n",
       "    </tr>\n",
       "    <tr>\n",
       "      <th>12575</th>\n",
       "      <td>#apal#</td>\n",
       "      <td>[#a, #…p, #…a, #…l, ap, a…a, a…l, pa, p…l, al,...</td>\n",
       "      <td>[#ap, #a…a, #a…l, #…pa, #…p…l, #…al, apa, ap…l...</td>\n",
       "      <td>[#apa, #ap…l, #a…al, #…pal, apal, apal, apa…#,...</td>\n",
       "    </tr>\n",
       "    <tr>\n",
       "      <th>...</th>\n",
       "      <td>...</td>\n",
       "      <td>...</td>\n",
       "      <td>...</td>\n",
       "      <td>...</td>\n",
       "    </tr>\n",
       "    <tr>\n",
       "      <th>94800</th>\n",
       "      <td>#ɑ̃dɑɔ̯ʁmi#</td>\n",
       "      <td>[#ɑ, #…̃, #…d, #…ɑ, ɑ̃, ɑ…d, ɑ…ɑ, ̃d, ̃…ɑ, dɑ,...</td>\n",
       "      <td>[#ɑ̃, #ɑ…d, #ɑ…ɑ, #…̃d, #…̃…ɑ, #…dɑ, ɑ̃d, ɑ̃…ɑ...</td>\n",
       "      <td>[#ɑ̃d, #ɑ̃…ɑ, #ɑ…dɑ, #…̃dɑ, ɑ̃dɑ, ɑ̃dɑ, ɑ̃d…ɔ,...</td>\n",
       "    </tr>\n",
       "    <tr>\n",
       "      <th>157646</th>\n",
       "      <td>#mʏtas#</td>\n",
       "      <td>[#m, #…ʏ, #…t, #…a, mʏ, m…t, m…a, ʏt, ʏ…a, ta,...</td>\n",
       "      <td>[#mʏ, #m…t, #m…a, #…ʏt, #…ʏ…a, #…ta, mʏt, mʏ…a...</td>\n",
       "      <td>[#mʏt, #mʏ…a, #m…ta, #…ʏta, mʏta, mʏta, mʏt…s,...</td>\n",
       "    </tr>\n",
       "    <tr>\n",
       "      <th>228181</th>\n",
       "      <td>#tajəʁjõũ̯#</td>\n",
       "      <td>[#t, #…a, #…j, #…ə, ta, t…j, t…ə, aj, a…ə, jə,...</td>\n",
       "      <td>[#ta, #t…j, #t…ə, #…aj, #…a…ə, #…jə, taj, ta…ə...</td>\n",
       "      <td>[#taj, #ta…ə, #t…jə, #…ajə, tajə, tajə, taj…ʁ,...</td>\n",
       "    </tr>\n",
       "    <tr>\n",
       "      <th>60674</th>\n",
       "      <td>#dekapsʏle#</td>\n",
       "      <td>[#d, #…e, #…k, #…a, de, d…k, d…a, ek, e…a, ka,...</td>\n",
       "      <td>[#de, #d…k, #d…a, #…ek, #…e…a, #…ka, dek, de…a...</td>\n",
       "      <td>[#dek, #de…a, #d…ka, #…eka, deka, deka, dek…p,...</td>\n",
       "    </tr>\n",
       "    <tr>\n",
       "      <th>116037</th>\n",
       "      <td>#fʁazõũ̯#</td>\n",
       "      <td>[#f, #…ʁ, #…a, #…z, fʁ, f…a, f…z, ʁa, ʁ…z, az,...</td>\n",
       "      <td>[#fʁ, #f…a, #f…z, #…ʁa, #…ʁ…z, #…az, fʁa, fʁ…z...</td>\n",
       "      <td>[#fʁa, #fʁ…z, #f…az, #…ʁaz, fʁaz, fʁaz, fʁa…õ,...</td>\n",
       "    </tr>\n",
       "  </tbody>\n",
       "</table>\n",
       "<p>4484 rows × 4 columns</p>\n",
       "</div>"
      ],
      "text/plain": [
       "            sn_word                                         sn_sk2gram  \\\n",
       "51481   #kõũ̯tʁole#  [#k, #…õ, #…ũ, #…̯, kõ, k…ũ, k…̯, õũ, õ…̯, ũ̯,...   \n",
       "214755    #sekʁete#  [#s, #…e, #…k, #…ʁ, se, s…k, s…ʁ, ek, e…ʁ, kʁ,...   \n",
       "41129     #sɪʁkʏla#  [#s, #…ɪ, #…ʁ, #…k, sɪ, s…ʁ, s…k, ɪʁ, ɪ…k, ʁk,...   \n",
       "93809    #ɑ̃ʃeʁɪʁɔ#  [#ɑ, #…̃, #…ʃ, #…e, ɑ̃, ɑ…ʃ, ɑ…e, ̃ʃ, ̃…e, ʃe,...   \n",
       "12575        #apal#  [#a, #…p, #…a, #…l, ap, a…a, a…l, pa, p…l, al,...   \n",
       "...             ...                                                ...   \n",
       "94800   #ɑ̃dɑɔ̯ʁmi#  [#ɑ, #…̃, #…d, #…ɑ, ɑ̃, ɑ…d, ɑ…ɑ, ̃d, ̃…ɑ, dɑ,...   \n",
       "157646      #mʏtas#  [#m, #…ʏ, #…t, #…a, mʏ, m…t, m…a, ʏt, ʏ…a, ta,...   \n",
       "228181  #tajəʁjõũ̯#  [#t, #…a, #…j, #…ə, ta, t…j, t…ə, aj, a…ə, jə,...   \n",
       "60674   #dekapsʏle#  [#d, #…e, #…k, #…a, de, d…k, d…a, ek, e…a, ka,...   \n",
       "116037    #fʁazõũ̯#  [#f, #…ʁ, #…a, #…z, fʁ, f…a, f…z, ʁa, ʁ…z, az,...   \n",
       "\n",
       "                                               sn_sk3gram  \\\n",
       "51481   [#kõ, #k…ũ, #k…̯, #…õũ, #…õ…̯, #…ũ̯, kõũ, kõ…̯...   \n",
       "214755  [#se, #s…k, #s…ʁ, #…ek, #…e…ʁ, #…kʁ, sek, se…ʁ...   \n",
       "41129   [#sɪ, #s…ʁ, #s…k, #…ɪʁ, #…ɪ…k, #…ʁk, sɪʁ, sɪ…k...   \n",
       "93809   [#ɑ̃, #ɑ…ʃ, #ɑ…e, #…̃ʃ, #…̃…e, #…ʃe, ɑ̃ʃ, ɑ̃…e...   \n",
       "12575   [#ap, #a…a, #a…l, #…pa, #…p…l, #…al, apa, ap…l...   \n",
       "...                                                   ...   \n",
       "94800   [#ɑ̃, #ɑ…d, #ɑ…ɑ, #…̃d, #…̃…ɑ, #…dɑ, ɑ̃d, ɑ̃…ɑ...   \n",
       "157646  [#mʏ, #m…t, #m…a, #…ʏt, #…ʏ…a, #…ta, mʏt, mʏ…a...   \n",
       "228181  [#ta, #t…j, #t…ə, #…aj, #…a…ə, #…jə, taj, ta…ə...   \n",
       "60674   [#de, #d…k, #d…a, #…ek, #…e…a, #…ka, dek, de…a...   \n",
       "116037  [#fʁ, #f…a, #f…z, #…ʁa, #…ʁ…z, #…az, fʁa, fʁ…z...   \n",
       "\n",
       "                                               sn_sk4gram  \n",
       "51481   [#kõũ, #kõ…̯, #k…ũ̯, #…õũ̯, kõũ̯, kõũ̯, kõũ…t,...  \n",
       "214755  [#sek, #se…ʁ, #s…kʁ, #…ekʁ, sekʁ, sekʁ, sek…e,...  \n",
       "41129   [#sɪʁ, #sɪ…k, #s…ʁk, #…ɪʁk, sɪʁk, sɪʁk, sɪʁ…ʏ,...  \n",
       "93809   [#ɑ̃ʃ, #ɑ̃…e, #ɑ…ʃe, #…̃ʃe, ɑ̃ʃe, ɑ̃ʃe, ɑ̃ʃ…ʁ,...  \n",
       "12575   [#apa, #ap…l, #a…al, #…pal, apal, apal, apa…#,...  \n",
       "...                                                   ...  \n",
       "94800   [#ɑ̃d, #ɑ̃…ɑ, #ɑ…dɑ, #…̃dɑ, ɑ̃dɑ, ɑ̃dɑ, ɑ̃d…ɔ,...  \n",
       "157646  [#mʏt, #mʏ…a, #m…ta, #…ʏta, mʏta, mʏta, mʏt…s,...  \n",
       "228181  [#taj, #ta…ə, #t…jə, #…ajə, tajə, tajə, taj…ʁ,...  \n",
       "60674   [#dek, #de…a, #d…ka, #…eka, deka, deka, dek…p,...  \n",
       "116037  [#fʁa, #fʁ…z, #f…az, #…ʁaz, fʁaz, fʁaz, fʁa…õ,...  \n",
       "\n",
       "[4484 rows x 4 columns]"
      ]
     },
     "execution_count": 155,
     "metadata": {},
     "output_type": "execute_result"
    }
   ],
   "source": [
    "## check result\n",
    "if \"5gram\" in sn_term_type:\n",
    "    var_names = [ 'sn_word', 'sn_sk2gram', 'sn_sk3gram', 'sn_sk4gram', 'sn_sk5gram' ]\n",
    "else:\n",
    "    var_names = [ 'sn_word', 'sn_sk2gram', 'sn_sk3gram', 'sn_sk4gram' ]\n",
    "df[var_names]"
   ]
  },
  {
   "cell_type": "markdown",
   "id": "ff6f78c0-9731-4f9c-ab72-fb83da641cc1",
   "metadata": {},
   "source": [
    "# Pair = sp term :: sn term の生成"
   ]
  },
  {
   "cell_type": "code",
   "execution_count": 156,
   "id": "6e9b07cd-fdb0-48e8-9803-3bad862a609d",
   "metadata": {},
   "outputs": [],
   "source": [
    "## pair spell and sound terms\n",
    "paired_terms = [ ]\n",
    "for s_pair in zip(df[sp_term_type], df[sn_term_type]):\n",
    "    if check:\n",
    "        print(s_pair)\n",
    "    sp_tok, sn_tok = s_pair\n",
    "    paired = [ f\"{sp}{pair_marker}{sn}\" for sp in sp_tok for sn in sn_tok if len(sp) > 0 and len(sn) > 0 ]\n",
    "    #\n",
    "    paired_terms.append(paired)"
   ]
  },
  {
   "cell_type": "code",
   "execution_count": 157,
   "id": "4702e88e-a5e5-4606-aa01-c7eb8aa8bf89",
   "metadata": {},
   "outputs": [
    {
     "data": {
      "text/plain": [
       "[['#com :: #kɑɔ',\n",
       "  '#com :: kɑɔ̯',\n",
       "  '#com :: ɑɔ̯m',\n",
       "  '#com :: ɔ̯mæ',\n",
       "  '#com :: ̯mæ̃',\n",
       "  '#com :: mæ̃#',\n",
       "  '#com :: #kɑ',\n",
       "  '#com :: kɑɔ',\n",
       "  '#com :: ɑɔ̯',\n",
       "  '#com :: ɔ̯m',\n",
       "  '#com :: ̯mæ',\n",
       "  '#com :: mæ̃',\n",
       "  '#com :: æ̃#',\n",
       "  'comm :: #kɑɔ',\n",
       "  'comm :: kɑɔ̯',\n",
       "  'comm :: ɑɔ̯m',\n",
       "  'comm :: ɔ̯mæ',\n",
       "  'comm :: ̯mæ̃',\n",
       "  'comm :: mæ̃#',\n",
       "  'comm :: #kɑ',\n",
       "  'comm :: kɑɔ',\n",
       "  'comm :: ɑɔ̯',\n",
       "  'comm :: ɔ̯m',\n",
       "  'comm :: ̯mæ',\n",
       "  'comm :: mæ̃',\n",
       "  'comm :: æ̃#',\n",
       "  'omme :: #kɑɔ',\n",
       "  'omme :: kɑɔ̯',\n",
       "  'omme :: ɑɔ̯m',\n",
       "  'omme :: ɔ̯mæ',\n",
       "  'omme :: ̯mæ̃',\n",
       "  'omme :: mæ̃#',\n",
       "  'omme :: #kɑ',\n",
       "  'omme :: kɑɔ',\n",
       "  'omme :: ɑɔ̯',\n",
       "  'omme :: ɔ̯m',\n",
       "  'omme :: ̯mæ',\n",
       "  'omme :: mæ̃',\n",
       "  'omme :: æ̃#',\n",
       "  'mmen :: #kɑɔ',\n",
       "  'mmen :: kɑɔ̯',\n",
       "  'mmen :: ɑɔ̯m',\n",
       "  'mmen :: ɔ̯mæ',\n",
       "  'mmen :: ̯mæ̃',\n",
       "  'mmen :: mæ̃#',\n",
       "  'mmen :: #kɑ',\n",
       "  'mmen :: kɑɔ',\n",
       "  'mmen :: ɑɔ̯',\n",
       "  'mmen :: ɔ̯m',\n",
       "  'mmen :: ̯mæ',\n",
       "  'mmen :: mæ̃',\n",
       "  'mmen :: æ̃#',\n",
       "  'ment :: #kɑɔ',\n",
       "  'ment :: kɑɔ̯',\n",
       "  'ment :: ɑɔ̯m',\n",
       "  'ment :: ɔ̯mæ',\n",
       "  'ment :: ̯mæ̃',\n",
       "  'ment :: mæ̃#',\n",
       "  'ment :: #kɑ',\n",
       "  'ment :: kɑɔ',\n",
       "  'ment :: ɑɔ̯',\n",
       "  'ment :: ɔ̯m',\n",
       "  'ment :: ̯mæ',\n",
       "  'ment :: mæ̃',\n",
       "  'ment :: æ̃#',\n",
       "  'ent# :: #kɑɔ',\n",
       "  'ent# :: kɑɔ̯',\n",
       "  'ent# :: ɑɔ̯m',\n",
       "  'ent# :: ɔ̯mæ',\n",
       "  'ent# :: ̯mæ̃',\n",
       "  'ent# :: mæ̃#',\n",
       "  'ent# :: #kɑ',\n",
       "  'ent# :: kɑɔ',\n",
       "  'ent# :: ɑɔ̯',\n",
       "  'ent# :: ɔ̯m',\n",
       "  'ent# :: ̯mæ',\n",
       "  'ent# :: mæ̃',\n",
       "  'ent# :: æ̃#',\n",
       "  '#co :: #kɑɔ',\n",
       "  '#co :: kɑɔ̯',\n",
       "  '#co :: ɑɔ̯m',\n",
       "  '#co :: ɔ̯mæ',\n",
       "  '#co :: ̯mæ̃',\n",
       "  '#co :: mæ̃#',\n",
       "  '#co :: #kɑ',\n",
       "  '#co :: kɑɔ',\n",
       "  '#co :: ɑɔ̯',\n",
       "  '#co :: ɔ̯m',\n",
       "  '#co :: ̯mæ',\n",
       "  '#co :: mæ̃',\n",
       "  '#co :: æ̃#',\n",
       "  'com :: #kɑɔ',\n",
       "  'com :: kɑɔ̯',\n",
       "  'com :: ɑɔ̯m',\n",
       "  'com :: ɔ̯mæ',\n",
       "  'com :: ̯mæ̃',\n",
       "  'com :: mæ̃#',\n",
       "  'com :: #kɑ',\n",
       "  'com :: kɑɔ',\n",
       "  'com :: ɑɔ̯',\n",
       "  'com :: ɔ̯m',\n",
       "  'com :: ̯mæ',\n",
       "  'com :: mæ̃',\n",
       "  'com :: æ̃#',\n",
       "  'omm :: #kɑɔ',\n",
       "  'omm :: kɑɔ̯',\n",
       "  'omm :: ɑɔ̯m',\n",
       "  'omm :: ɔ̯mæ',\n",
       "  'omm :: ̯mæ̃',\n",
       "  'omm :: mæ̃#',\n",
       "  'omm :: #kɑ',\n",
       "  'omm :: kɑɔ',\n",
       "  'omm :: ɑɔ̯',\n",
       "  'omm :: ɔ̯m',\n",
       "  'omm :: ̯mæ',\n",
       "  'omm :: mæ̃',\n",
       "  'omm :: æ̃#',\n",
       "  'mme :: #kɑɔ',\n",
       "  'mme :: kɑɔ̯',\n",
       "  'mme :: ɑɔ̯m',\n",
       "  'mme :: ɔ̯mæ',\n",
       "  'mme :: ̯mæ̃',\n",
       "  'mme :: mæ̃#',\n",
       "  'mme :: #kɑ',\n",
       "  'mme :: kɑɔ',\n",
       "  'mme :: ɑɔ̯',\n",
       "  'mme :: ɔ̯m',\n",
       "  'mme :: ̯mæ',\n",
       "  'mme :: mæ̃',\n",
       "  'mme :: æ̃#',\n",
       "  'men :: #kɑɔ',\n",
       "  'men :: kɑɔ̯',\n",
       "  'men :: ɑɔ̯m',\n",
       "  'men :: ɔ̯mæ',\n",
       "  'men :: ̯mæ̃',\n",
       "  'men :: mæ̃#',\n",
       "  'men :: #kɑ',\n",
       "  'men :: kɑɔ',\n",
       "  'men :: ɑɔ̯',\n",
       "  'men :: ɔ̯m',\n",
       "  'men :: ̯mæ',\n",
       "  'men :: mæ̃',\n",
       "  'men :: æ̃#',\n",
       "  'ent :: #kɑɔ',\n",
       "  'ent :: kɑɔ̯',\n",
       "  'ent :: ɑɔ̯m',\n",
       "  'ent :: ɔ̯mæ',\n",
       "  'ent :: ̯mæ̃',\n",
       "  'ent :: mæ̃#',\n",
       "  'ent :: #kɑ',\n",
       "  'ent :: kɑɔ',\n",
       "  'ent :: ɑɔ̯',\n",
       "  'ent :: ɔ̯m',\n",
       "  'ent :: ̯mæ',\n",
       "  'ent :: mæ̃',\n",
       "  'ent :: æ̃#',\n",
       "  'nt# :: #kɑɔ',\n",
       "  'nt# :: kɑɔ̯',\n",
       "  'nt# :: ɑɔ̯m',\n",
       "  'nt# :: ɔ̯mæ',\n",
       "  'nt# :: ̯mæ̃',\n",
       "  'nt# :: mæ̃#',\n",
       "  'nt# :: #kɑ',\n",
       "  'nt# :: kɑɔ',\n",
       "  'nt# :: ɑɔ̯',\n",
       "  'nt# :: ɔ̯m',\n",
       "  'nt# :: ̯mæ',\n",
       "  'nt# :: mæ̃',\n",
       "  'nt# :: æ̃#']]"
      ]
     },
     "execution_count": 157,
     "metadata": {},
     "output_type": "execute_result"
    }
   ],
   "source": [
    "## random sampling\n",
    "import random\n",
    "random.sample(paired_terms, 1)"
   ]
  },
  {
   "cell_type": "code",
   "execution_count": 158,
   "id": "71f99e7f-7bd9-4699-a430-75b8992e5d89",
   "metadata": {},
   "outputs": [
    {
     "name": "stdout",
     "output_type": "stream",
     "text": [
      "4484\n"
     ]
    }
   ],
   "source": [
    "## number of sentences\n",
    "print(len(paired_terms))"
   ]
  },
  {
   "cell_type": "code",
   "execution_count": 159,
   "id": "070dc15d-e458-41b7-a042-48ef3439a8aa",
   "metadata": {},
   "outputs": [
    {
     "data": {
      "text/plain": [
       "1006608"
      ]
     },
     "execution_count": 159,
     "metadata": {},
     "output_type": "execute_result"
    }
   ],
   "source": [
    "## total number of units\n",
    "sum(map(len, paired_terms))"
   ]
  },
  {
   "cell_type": "code",
   "execution_count": 160,
   "id": "8830b5a7-77ff-418d-875d-763583142906",
   "metadata": {},
   "outputs": [
    {
     "data": {
      "text/html": [
       "<div>\n",
       "<style scoped>\n",
       "    .dataframe tbody tr th:only-of-type {\n",
       "        vertical-align: middle;\n",
       "    }\n",
       "\n",
       "    .dataframe tbody tr th {\n",
       "        vertical-align: top;\n",
       "    }\n",
       "\n",
       "    .dataframe thead th {\n",
       "        text-align: right;\n",
       "    }\n",
       "</style>\n",
       "<table border=\"1\" class=\"dataframe\">\n",
       "  <thead>\n",
       "    <tr style=\"text-align: right;\">\n",
       "      <th></th>\n",
       "      <th>sp_word</th>\n",
       "      <th>sn_word</th>\n",
       "      <th>paired_term</th>\n",
       "    </tr>\n",
       "  </thead>\n",
       "  <tbody>\n",
       "    <tr>\n",
       "      <th>51481</th>\n",
       "      <td>#contrôler#</td>\n",
       "      <td>#kõũ̯tʁole#</td>\n",
       "      <td>[#con :: #kõũ, #con :: kõũ̯, #con :: õũ̯t, #co...</td>\n",
       "    </tr>\n",
       "    <tr>\n",
       "      <th>214755</th>\n",
       "      <td>#sécrétés#</td>\n",
       "      <td>#sekʁete#</td>\n",
       "      <td>[#séc :: #sek, #séc :: sekʁ, #séc :: ekʁe, #sé...</td>\n",
       "    </tr>\n",
       "    <tr>\n",
       "      <th>41129</th>\n",
       "      <td>#circulai#</td>\n",
       "      <td>#sɪʁkʏla#</td>\n",
       "      <td>[#cir :: #sɪʁ, #cir :: sɪʁk, #cir :: ɪʁkʏ, #ci...</td>\n",
       "    </tr>\n",
       "    <tr>\n",
       "      <th>93809</th>\n",
       "      <td>#enchérira#</td>\n",
       "      <td>#ɑ̃ʃeʁɪʁɔ#</td>\n",
       "      <td>[#enc :: #ɑ̃ʃ, #enc :: ɑ̃ʃe, #enc :: ̃ʃeʁ, #en...</td>\n",
       "    </tr>\n",
       "    <tr>\n",
       "      <th>12575</th>\n",
       "      <td>#appel#</td>\n",
       "      <td>#apal#</td>\n",
       "      <td>[#app :: #apa, #app :: apal, #app :: pal#, #ap...</td>\n",
       "    </tr>\n",
       "    <tr>\n",
       "      <th>...</th>\n",
       "      <td>...</td>\n",
       "      <td>...</td>\n",
       "      <td>...</td>\n",
       "    </tr>\n",
       "    <tr>\n",
       "      <th>94800</th>\n",
       "      <td>#endormies#</td>\n",
       "      <td>#ɑ̃dɑɔ̯ʁmi#</td>\n",
       "      <td>[#end :: #ɑ̃d, #end :: ɑ̃dɑ, #end :: ̃dɑɔ, #en...</td>\n",
       "    </tr>\n",
       "    <tr>\n",
       "      <th>157646</th>\n",
       "      <td>#mutasses#</td>\n",
       "      <td>#mʏtas#</td>\n",
       "      <td>[#mut :: #mʏt, #mut :: mʏta, #mut :: ʏtas, #mu...</td>\n",
       "    </tr>\n",
       "    <tr>\n",
       "      <th>228181</th>\n",
       "      <td>#taillerions#</td>\n",
       "      <td>#tajəʁjõũ̯#</td>\n",
       "      <td>[#tai :: #taj, #tai :: tajə, #tai :: ajəʁ, #ta...</td>\n",
       "    </tr>\n",
       "    <tr>\n",
       "      <th>60674</th>\n",
       "      <td>#décapsulez#</td>\n",
       "      <td>#dekapsʏle#</td>\n",
       "      <td>[#déc :: #dek, #déc :: deka, #déc :: ekap, #dé...</td>\n",
       "    </tr>\n",
       "    <tr>\n",
       "      <th>116037</th>\n",
       "      <td>#fraisons#</td>\n",
       "      <td>#fʁazõũ̯#</td>\n",
       "      <td>[#fra :: #fʁa, #fra :: fʁaz, #fra :: ʁazõ, #fr...</td>\n",
       "    </tr>\n",
       "  </tbody>\n",
       "</table>\n",
       "<p>4484 rows × 3 columns</p>\n",
       "</div>"
      ],
      "text/plain": [
       "              sp_word      sn_word  \\\n",
       "51481     #contrôler#  #kõũ̯tʁole#   \n",
       "214755     #sécrétés#    #sekʁete#   \n",
       "41129      #circulai#    #sɪʁkʏla#   \n",
       "93809     #enchérira#   #ɑ̃ʃeʁɪʁɔ#   \n",
       "12575         #appel#       #apal#   \n",
       "...               ...          ...   \n",
       "94800     #endormies#  #ɑ̃dɑɔ̯ʁmi#   \n",
       "157646     #mutasses#      #mʏtas#   \n",
       "228181  #taillerions#  #tajəʁjõũ̯#   \n",
       "60674    #décapsulez#  #dekapsʏle#   \n",
       "116037     #fraisons#    #fʁazõũ̯#   \n",
       "\n",
       "                                              paired_term  \n",
       "51481   [#con :: #kõũ, #con :: kõũ̯, #con :: õũ̯t, #co...  \n",
       "214755  [#séc :: #sek, #séc :: sekʁ, #séc :: ekʁe, #sé...  \n",
       "41129   [#cir :: #sɪʁ, #cir :: sɪʁk, #cir :: ɪʁkʏ, #ci...  \n",
       "93809   [#enc :: #ɑ̃ʃ, #enc :: ɑ̃ʃe, #enc :: ̃ʃeʁ, #en...  \n",
       "12575   [#app :: #apa, #app :: apal, #app :: pal#, #ap...  \n",
       "...                                                   ...  \n",
       "94800   [#end :: #ɑ̃d, #end :: ɑ̃dɑ, #end :: ̃dɑɔ, #en...  \n",
       "157646  [#mut :: #mʏt, #mut :: mʏta, #mut :: ʏtas, #mu...  \n",
       "228181  [#tai :: #taj, #tai :: tajə, #tai :: ajəʁ, #ta...  \n",
       "60674   [#déc :: #dek, #déc :: deka, #déc :: ekap, #dé...  \n",
       "116037  [#fra :: #fʁa, #fra :: fʁaz, #fra :: ʁazõ, #fr...  \n",
       "\n",
       "[4484 rows x 3 columns]"
      ]
     },
     "execution_count": 160,
     "metadata": {},
     "output_type": "execute_result"
    }
   ],
   "source": [
    "## add pair_token column\n",
    "#df.loc[:,'paired_token'] = paired_tokens # Causes error\n",
    "df['paired_term'] = paired_terms\n",
    "df[ ['sp_word', 'sn_word', 'paired_term'] ]"
   ]
  },
  {
   "cell_type": "markdown",
   "id": "0f26e250-4848-4002-bf7c-0b475c67e6c8",
   "metadata": {},
   "source": [
    "# LDA/HDP の実行"
   ]
  },
  {
   "cell_type": "code",
   "execution_count": 161,
   "id": "4a8b7c93-6ecb-402c-b1da-df482c7df1e9",
   "metadata": {},
   "outputs": [
    {
     "name": "stdout",
     "output_type": "stream",
     "text": [
      "Dictionary<670586 unique tokens: ['#co :: #kõ', '#co :: #kõũ', '#co :: kõũ', '#co :: kõũ̯', '#co :: le#']...>\n"
     ]
    }
   ],
   "source": [
    "## build DTM\n",
    "from gensim.corpora.dictionary import Dictionary\n",
    "\n",
    "pair_bots = df['paired_term']\n",
    "pair_diction = Dictionary(pair_bots)\n",
    "\n",
    "## check\n",
    "print(pair_diction) # print(..) is required for inspection"
   ]
  },
  {
   "cell_type": "code",
   "execution_count": 162,
   "id": "71500974-f4e3-4657-8bc2-616459c3bba9",
   "metadata": {},
   "outputs": [
    {
     "name": "stdout",
     "output_type": "stream",
     "text": [
      "min freq filter: 3\n",
      "abuse filter: 0.1\n",
      "term filtering applied\n",
      "Dictionary<57881 unique tokens: ['#co :: #kõ', '#co :: #kõũ', '#co :: kõũ', '#co :: kõũ̯', '#co :: le#']...>\n"
     ]
    }
   ],
   "source": [
    "## filter DTM\n",
    "import copy\n",
    "pair_diction_copy = copy.deepcopy(pair_diction)\n",
    "\n",
    "if apply_term_freq_filtering and apply_term_abuse_filtering:\n",
    "    print(f\"min freq filter: {term_minfreq}\")\n",
    "    print(f\"abuse filter: {term_abuse_threshold}\")\n",
    "    print(f\"term filtering applied\")\n",
    "    pair_diction_copy.filter_extremes(no_below = term_minfreq, no_above = term_abuse_threshold)\n",
    "    pair_diction = pair_diction_copy\n",
    "elif apply_term_freq_filtering:\n",
    "    print(f\"min freq filter: {term_minfreq}\")\n",
    "    print(f\"term filtering applied\")\n",
    "    pair_diction_copy.filter_extremes(no_below = term_minfreq)\n",
    "    pair_diction = pair_diction_copy\n",
    "elif apply_term_abuse_filtering:\n",
    "    print(f\"abuse filter: {term_abuse_threshold}\")\n",
    "    print(f\"term filtering applied\")\n",
    "    pair_diction_copy.filter_extremes(no_above = term_abuse_threshold)\n",
    "    pair_diction = pair_diction_copy\n",
    "else:\n",
    "    print(f\"term filtering not applied\")\n",
    "## check\n",
    "print(pair_diction)"
   ]
  },
  {
   "cell_type": "code",
   "execution_count": 163,
   "id": "529b2347-b684-42e1-84c1-9a89a74508e1",
   "metadata": {},
   "outputs": [
    {
     "name": "stdout",
     "output_type": "stream",
     "text": [
      "Building pair corpus ...\n",
      "Number of documents: 4484\n",
      "12 empty docs are removed out from pair_corpus\n"
     ]
    }
   ],
   "source": [
    "## build corpus\n",
    "print(f\"Building pair corpus ...\")\n",
    "pair_corpus = [ pair_diction.doc2bow(bot) for bot in pair_bots ]\n",
    "print(f\"Number of documents: {len(pair_corpus)}\")\n",
    "\n",
    "## sanitize corpus for HDP model\n",
    "size0 = len(pair_corpus)\n",
    "pair_corpus = [ doc for doc in pair_corpus if len(doc) > 0 ]\n",
    "size1 = len(pair_corpus)\n",
    "print(f\"{size0 - size1} empty docs are removed out from pair_corpus\")\n",
    "check = False\n",
    "if check:\n",
    "    print(random.sample(pair_corpus, 3))"
   ]
  },
  {
   "cell_type": "code",
   "execution_count": 164,
   "id": "0c7d5504-4b80-4cf6-affb-c065fe237933",
   "metadata": {},
   "outputs": [
    {
     "name": "stdout",
     "output_type": "stream",
     "text": [
      "Building an HDP model with n_topics limit: 45\n",
      "<gensim.models.hdpmodel.HdpModel object at 0x296be70d0>\n"
     ]
    }
   ],
   "source": [
    "## build model: takes quite a while when complex terms are selected\n",
    "import gensim\n",
    "if use_HDP:\n",
    "    print(f\"Building an HDP model with n_topics limit: {max_n_topics}\")\n",
    "    ## the outcome of the following needs to be checked to avoid \"Not all rows sum to 1 error\".\n",
    "    pair_hdp = gensim.models.HdpModel(pair_corpus,\n",
    "                                      id2word = pair_diction, random_state = 1, T = max_n_topics)\n",
    "    print(pair_hdp)\n",
    "    pair_lda = pair_hdp.hdp_to_lda()\n",
    "else:\n",
    "    print(f\"Building an LDA model with n_topics: {n_topics}\")\n",
    "    pair_lda = gensim.models.LdaModel(pair_corpus,\n",
    "                                      id2word = pair_diction, random_state = 1, num_topics = n_topics, alpha = 'auto')\n",
    "    ## check results\n",
    "    print(pair_lda) # print(..)しないと中身が見れない"
   ]
  },
  {
   "cell_type": "markdown",
   "id": "cd30fdd7",
   "metadata": {},
   "source": [
    "# pyLDAvis の実行"
   ]
  },
  {
   "cell_type": "code",
   "execution_count": 166,
   "id": "c0b3b4f1-4b15-44b8-8bcc-76a2f6eb69fe",
   "metadata": {
    "scrolled": true
   },
   "outputs": [
    {
     "data": {
      "text/html": [
       "\n",
       "<link rel=\"stylesheet\" type=\"text/css\" href=\"https://cdn.jsdelivr.net/gh/bmabey/pyLDAvis@3.4.0/pyLDAvis/js/ldavis.v1.0.0.css\">\n",
       "\n",
       "\n",
       "<div id=\"ldavis_el8791759745829768942055601\" style=\"background-color:white;\"></div>\n",
       "<script type=\"text/javascript\">\n",
       "\n",
       "var ldavis_el8791759745829768942055601_data = {\"mdsDat\": {\"x\": [0.032858723472195005, 0.02086534218531416, -0.03317974950471921, 0.06100090802825815, 0.07169325378879901, 0.005858758309408605, 0.06214245557935361, 0.04005846417382557, 0.046781720337042365, 0.008021521830328452, -0.003442041628052883, 0.03602008903349741, -0.025807907505477887, 0.0014718081550101707, -0.0361153133070536, -0.009578457004597411, -0.028441087420752378, 0.01363155542741768, 0.015202652850813918, -0.015177537394174037, -0.03429377984774632, -0.004424793794733844, 0.010126650455298241, 0.0003152973984276828, -0.015426090059270245, 0.030550329459858333, 0.0027007975595431527, -0.02011228235188486, -0.0032335496663384966, -0.023003856216834123, -0.01891438214156676, 0.01114827188018327, -0.013776628663130655, -0.02618829055493722, -0.0183776073549762, -0.016184401195577076, -0.020548235052428285, -0.01894510307869556, 0.0015736665532845946, -0.01504737047902897, -0.015036572488601668, -0.01932231895473042, -0.013080572699022493, -0.01379294742069746, -0.01057139069283123], \"y\": [-0.07586798065204328, -0.08466152430738422, 0.000596852641884662, 0.004140599659065479, -0.005314322793912742, -0.039368442681037626, 0.041768765057619256, -0.002763747627404209, 0.03753333594119432, -0.01781108545811264, 0.03210819278478702, -0.02261877703355853, -0.0028443460252055293, 0.01871273872300945, -0.030177810120964994, -0.0036145454651715283, -0.01384975858531815, 0.02637457276460369, -0.025052641653152737, 0.015808184452658046, -0.04755797188427696, 0.02358903404155364, -0.0011511723928678305, -0.0027144330827427654, 0.01209555645519917, 0.011222235438684905, 0.01625236452398301, 0.011581356679071387, 0.012768408277569733, 0.018820365610216654, 0.009267616762696473, 0.008732539159547867, 0.009221763036579326, -0.00633048383444606, -0.008999234703226236, 0.009410499852891836, 0.013785654249161172, 0.01011810499833938, 0.017486511879093277, 0.01554176061601754, 0.004681023413334597, 0.005762362242815713, 0.00702578559543997, -0.013148394325420844, 0.00944048776922918], \"topics\": [1, 2, 3, 4, 5, 6, 7, 8, 9, 10, 11, 12, 13, 14, 15, 16, 17, 18, 19, 20, 21, 22, 23, 24, 25, 26, 27, 28, 29, 30, 31, 32, 33, 34, 35, 36, 37, 38, 39, 40, 41, 42, 43, 44, 45], \"cluster\": [1, 1, 1, 1, 1, 1, 1, 1, 1, 1, 1, 1, 1, 1, 1, 1, 1, 1, 1, 1, 1, 1, 1, 1, 1, 1, 1, 1, 1, 1, 1, 1, 1, 1, 1, 1, 1, 1, 1, 1, 1, 1, 1, 1, 1], \"Freq\": [4.4642985302778335, 4.272412344431423, 4.14927388835965, 3.57172777310976, 3.965004879363864, 3.4668977266797656, 3.6367252094887768, 3.143245855170223, 3.1043532345941793, 3.1346136307290715, 3.206843723384896, 2.669587880885452, 2.961082795562971, 2.7417811898383277, 2.7907197685156953, 2.5930745956177876, 2.1881257520612483, 2.297317433853119, 2.1639197181679646, 2.196501925195051, 2.1645991438180645, 1.99274218990262, 1.9458090556582412, 1.79931382403135, 1.8708693124611293, 1.97016321446481, 1.8432494015476668, 1.8227537312591815, 1.9170932141909576, 1.7217081756073005, 1.436980220993692, 1.6183838947734155, 1.6138742804691217, 1.416307397549286, 1.365137523852681, 1.2500053432174998, 1.339054972108519, 1.0640285261582136, 1.0462005757745707, 1.1914369443086912, 1.2579197710043126, 1.095835936691124, 1.1109427340784943, 0.9154697952924935, 0.5126129654994788]}, \"tinfo\": {\"Term\": [\"era :: \\u0259\\u0281a\", \"era :: \\u0281a#\", \"erai :: \\u0259\\u0281a\", \"rai :: \\u0281a#\", \"era :: \\u0259\\u0281a#\", \"erai :: \\u0259\\u0281a#\", \"rai :: \\u0259\\u0281a\", \"erai :: \\u0281a#\", \"ns# :: \\u00f5\\u0169\\u032f\", \"rai :: \\u0259\\u0281a#\", \"ons# :: \\u0169\\u032f#\", \"ons :: \\u0169\\u032f#\", \"ons# :: \\u00f5\\u0169\\u032f\", \"ons :: \\u00f5\\u0169\\u032f#\", \"ns# :: \\u0169\\u032f#\", \"ns# :: \\u00f5\\u0169\\u032f#\", \"ons# :: \\u00f5\\u0169\\u032f#\", \"ons :: \\u00f5\\u0169\\u032f\", \"ass :: as#\", \"ion :: \\u0169\\u032f#\", \"sse :: as#\", \"ns# :: j\\u00f5\\u0169\\u032f\", \"ez# :: je#\", \"ons :: j\\u00f5\\u0169\\u032f\", \"ions :: \\u0169\\u032f#\", \"ion :: \\u00f5\\u0169\\u032f#\", \"iez :: je#\", \"ions :: j\\u00f5\\u0169\\u032f\", \"ons# :: j\\u00f5\\u0169\", \"ons :: j\\u00f5\\u0169\", \"ssi :: \\u00f5\\u0169\\u032f#\", \"sion :: sj\\u00f5\\u0169\", \"ssi :: j\\u00f5\\u0169\", \"ssio :: j\\u00f5\\u0169\\u032f\", \"ssi :: sj\\u00f5\", \"sio :: sj\\u00f5\\u0169\", \"ssi :: sj\\u00f5\\u0169\", \"ion :: sj\\u00f5\\u0169\", \"ssi :: \\u00f5\\u0169\\u032f\", \"ions :: sj\\u00f5\", \"ns# :: sj\\u00f5\\u0169\", \"ons# :: sj\\u00f5\", \"ssi :: j\\u00f5\\u0169\\u032f\", \"sio :: sj\\u00f5\", \"ssio :: \\u00f5\\u0169\\u032f\", \"ions :: sj\\u00f5\\u0169\", \"ons :: sj\\u00f5\\u0169\", \"ons :: sj\\u00f5\", \"ssio :: sj\\u00f5\", \"ion :: sj\\u00f5\", \"ssio :: sj\\u00f5\\u0169\", \"sio :: \\u00f5\\u0169\\u032f\", \"sio :: j\\u00f5\\u0169\", \"ns# :: sj\\u00f5\", \"ssio :: j\\u00f5\\u0169\", \"ssi :: \\u0169\\u032f#\", \"sion :: \\u0169\\u032f#\", \"ssio :: \\u0169\\u032f#\", \"sio :: j\\u00f5\\u0169\\u032f\", \"sion :: sj\\u00f5\", \"ons# :: sj\\u00f5\\u0169\", \"sion :: j\\u00f5\\u0169\", \"ons :: j\\u00f5\\u0169\", \"ions :: \\u0169\\u032f#\", \"ons :: j\\u00f5\\u0169\\u032f\", \"ions :: \\u00f5\\u0169\\u032f#\", \"ions :: \\u00f5\\u0169\\u032f\", \"ion :: \\u0169\\u032f#\", \"ion :: j\\u00f5\\u0169\", \"ion :: j\\u00f5\\u0169\\u032f\", \"ons# :: j\\u00f5\\u0169\\u032f\", \"ions :: j\\u00f5\\u0169\\u032f\", \"ion :: \\u00f5\\u0169\\u032f#\", \"ons# :: j\\u00f5\\u0169\", \"ion :: \\u00f5\\u0169\\u032f\", \"ns# :: j\\u00f5\\u0169\\u032f\", \"ions :: j\\u00f5\\u0169\", \"ns# :: j\\u00f5\\u0169\", \"ns# :: \\u0169\\u032f#\", \"ons# :: \\u00f5\\u0169\\u032f\", \"rai :: \\u0281a#\", \"ons :: \\u00f5\\u0169\\u032f#\", \"ons# :: \\u00f5\\u0169\\u032f#\", \"ons :: \\u0169\\u032f#\", \"ns# :: \\u00f5\\u0169\\u032f\", \"ons# :: \\u0169\\u032f#\", \"ns# :: \\u00f5\\u0169\\u032f#\", \"ons :: \\u00f5\\u0169\\u032f\", \"erai :: \\u0281a#\", \"#d\\u00e9 :: #de\", \"era :: \\u0259\\u0281a\", \"rai :: \\u0259\\u0281a\", \"sons :: \\u00f5\\u0169\\u032f#\", \"rnis :: ta\\u0281\", \"upl :: #p\\u0153\", \"aill :: maj\", \"ns# :: \\u0281\\u00f5\\u0169\", \"\\u00e9pi :: p\\u026al\", \"nis :: ta\\u0281\", \"s\\u00e9e :: \\u026aze#\", \"nis :: n\\u026az\", \"rai :: aj\\u0259\\u0281\", \"son :: \\u00f5\\u0169\\u032f#\", \"rnis :: \\u0281n\\u026a\", \"rons :: \\u00f5\\u0169\\u032f\", \"is\\u00e9e :: l\\u026az\", \"ter :: n\\u026aze\", \"gali :: al\\u026a\", \"peu :: p\\u0153pl\", \"ron :: j\\u0259\\u0281\\u00f5\", \"alis :: l\\u026az\", \"is\\u00e9 :: \\u026aze#\", \"ller :: aj\\u0259\\u0281\", \"is\\u00e9 :: ze#\", \"rons :: \\u0281\\u00f5\\u0169\\u032f\", \"nis :: ze#\", \"erni :: a\\u0281n\", \"ler :: aj\\u0259\\u0281\", \"peup :: p\\u0153pl\", \"eup :: p\\u0153pl\", \"l\\u00e9e# :: je#\", \"upl :: p\\u0153pl\", \"sons :: \\u0169\\u032f#\", \"is\\u00e9 :: \\u026aze\", \"sons :: \\u00f5\\u0169\\u032f\", \"ons# :: \\u0281\\u00f5\\u0169\\u032f\", \"rons :: \\u0169\\u032f#\", \"ail :: j\\u0259\\u0281\", \"rons :: \\u00f5\\u0169\\u032f#\", \"ons# :: \\u0281\\u00f5\\u0169\", \"ons :: \\u0281\\u00f5\\u0169\\u032f\", \"alis :: al\\u026a\", \"lis :: l\\u026az\", \"ali :: al\\u026az\", \"ns# :: \\u0281\\u00f5\\u0169\\u032f\", \"rons :: \\u0281\\u00f5\\u0169\", \"ali :: l\\u026az\", \"ons :: \\u0281\\u00f5\\u0169\", \"ons# :: \\u0169\\u032f#\", \"ons# :: \\u00f5\\u0169\\u032f#\", \"ns# :: \\u00f5\\u0169\\u032f#\", \"ons# :: \\u00f5\\u0169\\u032f\", \"ons :: \\u0169\\u032f#\", \"ns# :: \\u0169\\u032f#\", \"ons :: \\u00f5\\u0169\\u032f#\", \"ns# :: \\u00f5\\u0169\\u032f\", \"ons :: \\u00f5\\u0169\\u032f\", \"ron :: \\u0169\\u032f#\", \"ron :: \\u00f5\\u0169\\u032f#\", \"ron :: \\u0281\\u00f5\\u0169\", \"ron :: \\u0281\\u00f5\\u0169\\u032f\", \"ali :: al\\u026a\", \"ron :: \\u00f5\\u0169\\u032f\", \"lle :: j\\u0259\\u0281\", \"ille :: j\\u0259\\u0281\", \"ller :: j\\u0259\\u0281\", \"#d\\u00e9 :: #de\", \"\\u00e2tes :: at#\", \"nnai :: \\u0254\\u032fn\", \"nai :: \\u032fna\", \"nnai :: \\u032fna#\", \"nna :: \\u032fna\", \"nai :: \\u0251\\u0254\\u032fn\", \"nai :: \\u0254\\u032fn\", \"onna :: \\u032fna\", \"nna :: na#\", \"nai :: \\u032fna#\", \"onn :: \\u032fna\", \"onn :: na#\", \"ent :: \\u0254\\u032fn\", \"onna :: \\u032fna#\", \"onn :: \\u0254\\u032fna\", \"nai :: \\u0254\\u032fna\", \"nna :: \\u0254\\u032fna\", \"nnai :: \\u0251\\u0254\\u032f\", \"ent :: na\\u0281#\", \"tonn :: \\u0251\\u0254\\u032f\", \"nt# :: \\u0254\\u032fn\", \"onne :: \\u032fn#\", \"n\\u00e8r :: na\\u0281#\", \"onn :: \\u032fn#\", \"\\u00e8re :: na\\u0281#\", \"ent :: na\\u0281\", \"nnai :: \\u032fna\", \"onna :: na#\", \"tonn :: t\\u0251\\u0254\", \"onna :: \\u0251\\u0254\\u032fn\", \"nna :: \\u0254\\u032fn\", \"nna :: \\u0251\\u0254\\u032f\", \"onn :: \\u0251\\u0254\\u032f\", \"onna :: \\u0254\\u032fna\", \"nnai :: \\u0254\\u032fna\", \"onn :: \\u0251\\u0254\\u032fn\", \"onn :: \\u0254\\u032fn\", \"nai :: \\u0251\\u0254\\u032f\", \"onna :: \\u0251\\u0254\\u032f\", \"nai :: na#\", \"nna :: \\u0251\\u0254\\u032fn\", \"ent :: \\u0251\\u0254\\u032f\", \"#d\\u00e9 :: #de\", \"ent# :: \\u0251\\u0254\\u032f\", \"nt# :: \\u0251\\u0254\\u032f\", \"\\u00e8re :: a\\u0281#\", \"ent :: a\\u0281#\", \"arg :: ga\\u0281\", \"gar :: ga\\u0281g\", \"amb :: l\\u0251\\u0303\", \"gar :: a\\u0281g\", \"#ga :: a\\u0281g\", \"gar :: a\\u0281\\u026a\", \"rga :: ga\\u0281\", \"arga :: ga\\u0281\", \"lla :: \\u028ajas\", \"arg :: #ga\", \"ari :: ga\\u0281\", \"gar :: #ga\\u0281\", \"garg :: ga\\u0281\", \"gar :: ga\\u0281\", \"ris :: ga\\u0281\", \"gar :: a\\u0281\\u026az\", \"gari :: ga\\u0281\", \"gar :: ga\\u0281\\u026a\", \"arg :: a\\u0281g\", \"ndr :: \\u1ebd\\u0129\\u032fd\", \"#ga :: ga\\u0281g\", \"gar :: \\u0281ga\", \"gar :: a\\u0281ga\", \"ind :: \\u0129\\u032fd\\u0281\", \"eus :: l\\u00f8z#\", \"#gar :: ga\\u0281g\", \"#gar :: ga\\u0281\", \"#bas :: #bas\", \"niez :: \\u0251\\u0254\\u032fn\", \"garg :: ga\\u0281g\", \"#ga :: ga\\u0281\", \"gar :: #ga\", \"tas :: as#\", \"ass :: tas#\", \"asse :: tas#\", \"asse :: tas\", \"sse :: tas\", \"tass :: as#\", \"tas :: tas#\", \"ass :: tas\", \"ass :: as#\", \"rai :: \\u0281a#\", \"erai :: \\u0281a#\", \"rai :: \\u0259\\u0281a#\", \"era :: \\u0259\\u0281a#\", \"era :: \\u0281a#\", \"asse :: as#\", \"sse :: as#\", \"era :: \\u0259\\u0281a\", \"erai :: \\u0259\\u0281a\", \"erai :: \\u0259\\u0281a#\", \"rai :: \\u0259\\u0281a\", \"ler :: l\\u0259\\u0281\", \"tass :: tas\", \"tas :: tas\", \"ent :: as#\", \"ent# :: as#\", \"cher :: \\u0283\\u0259\\u0281\", \"her :: \\u0283\\u0259\\u0281a\", \"her :: \\u0281a#\", \"erai :: \\u0283\\u0259\\u0281\", \"che :: a\\u0283\\u0259\\u0281\", \"her :: \\u0283\\u0259\\u0281\", \"che :: \\u0283\\u0259\\u0281\", \"che :: a\\u0283\\u0259\", \"cher :: a\\u0283\\u0259\\u0281\", \"hera :: \\u0283\\u0259\\u0281\", \"her :: \\u0259\\u0281a\", \"cher :: \\u0259\\u0281a\", \"che :: \\u0283\\u0259\\u0281a\", \"che :: \\u0259\\u0281a\", \"rai :: \\u0283\\u0259\\u0281a\", \"era :: \\u0283\\u0259\\u0281\", \"cher :: \\u0283\\u0259\\u0281a\", \"her :: \\u0259\\u0281a#\", \"her :: a\\u0283\\u0259\\u0281\", \"hera :: \\u0283\\u0259\\u0281a\", \"ont :: \\u0259\\u0281\\u00f5\", \"hera :: \\u0281a#\", \"bri :: \\u0303b\\u0281\\u1ebd\", \"ront :: \\u0169\\u032f#\", \"ont :: \\u0259\\u0281\\u00f5\\u0169\", \"nt# :: \\u0259\\u0281\\u00f5\", \"ront :: \\u0259\\u0281\\u00f5\\u0169\", \"ront :: \\u0281\\u00f5\\u0169\\u032f\", \"cher :: \\u0281a#\", \"ont :: \\u0169\\u032f#\", \"hera :: \\u0259\\u0281a\", \"ont# :: \\u0259\\u0281\\u00f5\\u0169\", \"ont# :: \\u0169\\u032f#\", \"ront :: \\u00f5\\u0169\\u032f\", \"nt# :: \\u0281\\u00f5\\u0169\\u032f\", \"era :: \\u0259\\u0281a#\", \"ont :: \\u00f5\\u0169\\u032f\", \"rai :: \\u0259\\u0281a\", \"erai :: \\u0259\\u0281a#\", \"erai :: \\u0259\\u0281a\", \"rai :: \\u0259\\u0281a#\", \"era :: \\u0259\\u0281a\", \"era :: \\u0281a#\", \"erai :: \\u0281a#\", \"rai :: \\u0281a#\", \"ront :: \\u00f5\\u0169\\u032f#\", \"ero :: \\u0281\\u00f5\\u0169\", \"eron :: \\u0281\\u00f5\\u0169\", \"ron :: \\u00f5\\u0169\\u032f\", \"ont# :: \\u0281\\u00f5\\u0169\", \"ron :: \\u00f5\\u0169\\u032f#\", \"sse :: as#\", \"ron :: \\u0281\\u00f5\\u0169\", \"asse :: as#\", \"ron :: \\u0281\\u00f5\\u0169\\u032f\", \"ass :: as#\", \"ron :: \\u0169\\u032f#\", \"ero :: \\u00f5\\u0169\\u032f\", \"apo :: ap\\u0251\", \"cao :: a\\u028at\\u0283\", \"udit :: \\u0361z\\u026at\", \"erg :: ba\\u0281\", \"pec :: pakt\", \"sail :: \\u026aza\", \"#d\\u00e9n :: denj\", \"\\u00e9gro :: deg\\u0281\", \"pot :: \\u0251\\u0254\\u032f\", \"pon :: p\\u00f5\\u0169\", \"urs :: \\u0281so\", \"apot :: \\u0251\\u0254\\u032f\", \"pot :: ap\\u0251\\u0254\", \"ez# :: j\\u0259\\u0281\", \"ons# :: \\u0281\\u00f5\\u0169\\u032f\", \"pta :: pta\", \"gra :: \\u0251\\u0303g\\u0281\", \"#cl :: #kl\", \"h\\u00e9b :: #eba\", \"rap :: t\\u0281\\u026aj\", \"d\\u00e9ni :: enj\", \"otai :: ta#\", \"gro :: eg\\u0281\", \"d\\u00e9ni :: denj\", \"d\\u00e9g :: eg\\u0281\", \"cla :: klap\", \"engr :: #\\u0251\\u0303g\", \"ota :: ap\\u0251\", \"ns# :: \\u0259\\u0281\\u00f5\\u0169\", \"ns# :: \\u0281\\u00f5\\u0169\\u032f\", \"ns# :: \\u0259\\u0281\\u00f5\", \"rons :: \\u0259\\u0281\\u00f5\", \"rons :: \\u0281\\u00f5\\u0169\\u032f\", \"ons :: \\u0259\\u0281\\u00f5\\u0169\", \"rons :: \\u00f5\\u0169\\u032f\", \"ons# :: \\u0281\\u00f5\\u0169\", \"ns# :: \\u0281\\u00f5\\u0169\", \"ons :: \\u0281\\u00f5\\u0169\", \"rons :: \\u0169\\u032f#\", \"rons :: \\u00f5\\u0169\\u032f#\", \"ons :: \\u0281\\u00f5\\u0169\\u032f\", \"rons :: \\u0281\\u00f5\\u0169\", \"ns# :: \\u00f5\\u0169\\u032f\", \"ns# :: \\u0169\\u032f#\", \"ons# :: \\u00f5\\u0169\\u032f\", \"ons :: \\u00f5\\u0169\\u032f#\", \"ons :: \\u0169\\u032f#\", \"ns# :: \\u00f5\\u0169\\u032f#\", \"ons# :: \\u00f5\\u0169\\u032f#\", \"ons# :: \\u0169\\u032f#\", \"ons :: \\u00f5\\u0169\\u032f\", \"ron :: \\u00f5\\u0169\\u032f#\", \"riez :: \\u0281je#\", \"#d\\u00e9 :: #de\", \"ron :: \\u0281\\u00f5\\u0169\\u032f\", \"ron :: \\u0281\\u00f5\\u0169\", \"eron :: \\u0169\\u032f#\", \"ron :: \\u0169\\u032f#\", \"ron :: \\u00f5\\u0169\\u032f\", \"eron :: \\u0281\\u00f5\\u0169\\u032f\", \"ez# :: je#\", \"rai :: k\\u0259\\u0281\", \"uera :: k\\u0259\\u0281\", \"erai :: k\\u0259\\u0281\", \"ique :: k\\u0259\\u0281a\", \"uera :: k\\u0259\\u0281a\", \"que :: \\u0259\\u0281a\", \"quer :: k\\u0259\\u0281a\", \"rai :: k\\u0259\\u0281a\", \"uer :: \\u0259\\u0281a#\", \"era :: \\u026ak\\u0259\\u0281\", \"que :: \\u0259\\u0281a#\", \"uera :: \\u026ak\\u0259\\u0281\", \"era :: \\u026ak\\u0259\", \"erai :: k\\u0259\\u0281a\", \"iqu :: \\u0259\\u0281a#\", \"quer :: \\u0259\\u0281a#\", \"iqu :: \\u0281a#\", \"rai :: \\u026ak\\u0259\\u0281\", \"que :: \\u0281a#\", \"uer :: \\u026ak\\u0259\\u0281\", \"quer :: \\u0259\\u0281a\", \"quer :: \\u0281a#\", \"que :: \\u026ak\\u0259\", \"erai :: \\u026ak\\u0259\\u0281\", \"ique :: \\u0281a#\", \"uer :: k\\u0259\\u0281a\", \"mbu :: \\u0251\\u0303b\", \"iqu :: k\\u0259\\u0281a\", \"erai :: \\u026ak\\u0259\", \"uer :: #\\u0251\\u0303\", \"que :: k\\u0259\\u0281a\", \"era :: k\\u0259\\u0281a\", \"quer :: \\u026ak\\u0259\", \"era :: k\\u0259\\u0281\", \"uer :: k\\u0259\\u0281\", \"uera :: \\u0259\\u0281a#\", \"uera :: \\u0281a#\", \"uer :: \\u0281a#\", \"uera :: \\u0259\\u0281a\", \"uer :: \\u0259\\u0281a\", \"que :: k\\u0259\\u0281\", \"ent :: \\u0259\\u0281a\", \"ent :: \\u0281a#\", \"aien :: \\u0259\\u0281a#\", \"rai :: \\u0281a#\", \"ien :: \\u0281a#\", \"raie :: \\u0259\\u0281a#\", \"ent# :: \\u0281a#\", \"raie :: \\u0281a#\", \"aien :: \\u0281a#\", \"ient :: \\u0281a#\", \"era :: \\u0281a#\", \"erai :: \\u0281a#\", \"erai :: \\u0259\\u0281a\", \"rai :: \\u0259\\u0281a#\", \"ent :: \\u0259\\u0281a#\", \"era :: \\u0259\\u0281a\", \"era :: \\u0259\\u0281a#\", \"erai :: \\u0259\\u0281a#\", \"rai :: \\u0259\\u0281a\", \"nt# :: \\u0281a#\", \"aie :: \\u0281a#\", \"aien :: \\u0259\\u0281a\", \"ient :: \\u0259\\u0281a#\", \"ent# :: \\u0259\\u0281a\", \"ient :: \\u0259\\u0281a\", \"ien :: \\u0259\\u0281a#\", \"aie :: \\u0259\\u0281a#\", \"ent# :: \\u0259\\u0281a#\", \"nt# :: \\u0259\\u0281a\", \"rai :: a\\u0281\\u0259\\u0281\", \"\\u00e8re :: \\u0281\\u0259\\u0281\", \"era :: a\\u0281\\u0259\", \"\\u00e8rer :: \\u0259\\u0281a#\", \"#inf :: \\u1ebd\\u0129\\u032f\", \"\\u00e8rer :: \\u0281\\u0259\\u0281\", \"ash :: ma\\u0283\", \"rera :: a\\u0281\\u0259\\u0281\", \"\\u00e8rer :: a\\u0281\\u0259\\u0281\", \"\\u00e8re :: a\\u0281\\u0259\\u0281\", \"ons :: k\\u00f5\\u0169\", \"inf :: \\u0129\\u032ff\", \"#in :: \\u032ffa\", \"rera :: a\\u0281\\u0259\", \"tra\\u00ee :: #t\\u0281a\", \"\\u00e8re :: \\u0281a#\", \"cons :: k\\u00f5\\u0169\", \"cons :: k\\u00f5\\u0169\\u032f\", \"rai :: a\\u0281\\u0259\", \"cons :: \\u00f5\\u0169\\u032f\", \"rait :: a\\u0281\\u0259\\u0281\", \"\\u00e8rer :: \\u0259\\u0281a\", \"\\u00e8re :: \\u0259\\u0281a#\", \"rer :: a\\u0281\\u0259\\u0281\", \"frei :: f\\u0281an\", \"inf :: #\\u1ebd\\u0129\", \"ons :: \\u0169\\u032fs\", \"rer :: a\\u0281\\u0259\", \"#in :: \\u1ebd\\u0129\\u032ff\", \"#inf :: \\u1ebd\\u0129\\u032ff\", \"#in :: #\\u1ebd\\u0129\", \"#inf :: #\\u1ebd\\u0129\", \"\\u00e8rer :: a\\u0281\\u0259\", \"#in :: #\\u1ebd\\u0129\\u032f\", \"#co :: #k\\u00f5\\u0169\", \"#in :: \\u1ebd\\u0129\\u032f\", \"#co :: k\\u00f5\\u0169\\u032f\", \"ner :: \\u0259\\u0281a#\", \"#co :: k\\u00f5\\u0169\", \"era :: a\\u0281\\u0259\\u0281\", \"#co :: #k\\u00f5\", \"era :: \\u0281a#\", \"era :: \\u0259\\u0281a\", \"erai :: \\u0259\\u0281a#\", \"erai :: \\u0259\\u0281a\", \"#co :: \\u00f5\\u0169\\u032f\", \"rai :: \\u0259\\u0281a#\", \"era :: \\u0259\\u0281a#\", \"rai :: \\u0281a#\", \"rai :: \\u0259\\u0281a\", \"erai :: \\u0281a#\", \"rera :: \\u0281\\u0259\\u0281\", \"con :: k\\u00f5\\u0169\\u032f\", \"ais :: \\u0281a#\", \"ais# :: \\u0259\\u0281a\", \"#re :: #\\u0281\\u0259\", \"ais# :: \\u0259\\u0281a#\", \"is# :: \\u0281a#\", \"rais :: \\u0281a#\", \"ais# :: \\u0281a#\", \"rer :: \\u0281\\u0259\\u0281\", \"ais :: \\u0259\\u0281a\", \"ais :: \\u0259\\u0281a#\", \"rai# :: \\u0281a#\", \"ez# :: tasj\", \"tass :: asje\", \"ssie :: tas\", \"iez :: tasj\", \"iez# :: tas\", \"cera :: \\u0259\\u0281a#\", \"iez :: tas\", \"ssi :: tasj\", \"sie :: tasj\", \"tas :: asj\", \"siez :: tasj\", \"tas :: asje\", \"ass :: tasj\", \"tass :: asj\", \"tass :: sje#\", \"tas :: sje#\", \"tas :: je#\", \"cer :: \\u0259\\u0281a\", \"ent# :: s\\u0259\\u0281a\", \"assi :: tasj\", \"sas :: sje#\", \"ier :: a\\u0281a#\", \"cera :: s\\u0259\\u0281\", \"tas :: tasj\", \"tass :: tasj\", \"tass :: sje\", \"ur# :: t\\u0153\\u0281\", \"siez :: asj\", \"es# :: \\u0129\\u032ft\", \"ent :: s\\u0259\\u0281\", \"ssi :: asje\", \"assi :: je#\", \"iez# :: asj\", \"siez :: sje\", \"iez :: asje\", \"ssie :: asje\", \"assi :: sje\", \"ez# :: asj\", \"iez# :: sje#\", \"ssie :: sje#\", \"ssi :: sje\", \"ssi :: je#\", \"assi :: asje\", \"ssie :: je#\", \"ssie :: sje\", \"sie :: sje\", \"siez :: je#\", \"iez :: sje#\", \"sie :: asje\", \"ez# :: asje\", \"ssi :: sje#\", \"iez# :: asje\", \"sie :: je#\", \"iez :: sje\", \"sie :: sje#\", \"iez# :: sje\", \"siez :: sje#\", \"ez# :: sje\", \"ez# :: sje#\", \"rai :: \\u0281a#\", \"era :: \\u0281a#\", \"erai :: \\u0281a#\", \"erai :: \\u0259\\u0281a#\", \"era :: \\u0259\\u0281a\", \"erai :: \\u0259\\u0281a\", \"rai :: \\u0259\\u0281a\", \"rai :: \\u0259\\u0281a#\", \"era :: \\u0259\\u0281a#\", \"ez# :: je#\", \"iez :: je#\", \"iez# :: je#\", \"ass :: asas\", \"asse :: \\u028ala\", \"ass :: sas#\", \"sse :: asas\", \"emon :: m\\u00f5\\u0169\", \"sass :: as#\", \"ass :: sas\", \"harg :: a\\u0281\\u0292\", \"sass :: sas\", \"ssas :: asas\", \"ban :: \\u0251\\u0303k\", \"sas :: sas#\", \"aud :: \\u026anod\", \"#re :: kla\", \"mon :: #\\u0281\\u0259m\", \"emon :: \\u0169\\u032ft\", \"sas :: sas\", \"sas :: asas\", \"ossi :: #fos\", \"emo :: #\\u0281\\u0259\", \"ssas :: sas#\", \"rtax :: \\u028f\\u0281ta\", \"ssas :: sas\", \"mont :: \\u00f5\\u0169\\u032ft\", \"cro :: \\u0281wa\", \"emo :: m\\u00f5\\u0169\\u032f\", \"sse :: sas\", \"ass :: asa\", \"ssa :: sas#\", \"ssa :: asas\", \"asse :: sas\", \"ssa :: sas\", \"sass :: sas#\", \"#re :: \\u00f5\\u0169\\u032f\", \"asse :: sas#\", \"sas :: asa\", \"ser :: \\u0259\\u0281a#\", \"ass :: as#\", \"ssas :: as#\", \"sse :: as#\", \"asse :: as#\", \"ses# :: as#\", \"sses :: as#\", \"#re :: #\\u0281\\u0259\", \"ses :: as#\", \"sas :: as#\", \"es# :: as#\", \"rai# :: \\u0281a#\", \"sera :: \\u0259\\u0281a#\", \"ai# :: \\u0259\\u0281a#\", \"rai :: \\u0281a#\", \"ass :: las\", \"erai :: \\u0259\\u0281a\", \"ai# :: \\u0281a#\", \"rai# :: \\u0259\\u0281a#\", \"rai :: \\u0259\\u0281a\", \"erai :: \\u0259\\u0281a#\", \"inas :: nas#\", \"fal :: ls\\u026af\", \"asse :: \\u026ana\", \"#fal :: als\\u026a\", \"nass :: \\u026ana\", \"inas :: \\u026anas\", \"sifi :: s\\u026afj\", \"ina :: \\u026anas\", \"sse :: \\u026ana\", \"nas :: \\u026ana\", \"nass :: \\u026anas\", \"inas :: nas\", \"inas :: \\u026ana\", \"l\\u00e9ch :: le\\u0283a\", \"ina :: nas\", \"ass :: \\u026ana\", \"pat :: \\u0281\\u026aj\", \"fal :: \\u026afj\", \"asse :: \\u026anas\", \"ina :: nas#\", \"sif :: \\u026afj\", \"ati :: s\\u026an\", \"ass :: \\u026anas\", \"ina :: as#\", \"asse :: \\u0283as#\", \"tre :: at\\u0281\", \"onf :: \\u0169\\u032ff\", \"sifi :: \\u026afja\", \"nas :: as#\", \"sifi :: \\u026afj\", \"inas :: as#\", \"nass :: as#\", \"sifi :: s\\u026af\", \"asse :: nas\", \"ina :: \\u026ana\", \"nas :: nas#\", \"sse :: \\u026anas\", \"sse :: as#\", \"asse :: as#\", \"ass :: as#\", \"nass :: nas\", \"ass :: nas#\", \"asse :: nas#\", \"ssen :: as#\", \"nt# :: as#\", \"ent :: as#\", \"ent# :: as#\", \"sen :: as#\", \"sent :: as#\", \"es# :: as#\", \"#co :: #k\\u00f5\", \"ass :: nas\", \"ses :: as#\", \"sse :: nas#\", \"ses# :: as#\", \"sses :: as#\", \"#con :: k\\u00f5\\u0169\", \"con :: k\\u00f5\\u0169\\u032f\", \"#co :: k\\u00f5\\u0169\\u032f\", \"#d\\u00e9 :: #de\", \"urer :: \\u0259\\u0281a#\", \"\\u00e9ali :: \\u0281ea\", \"tie :: t\\u0361sj\", \"tie :: je#\", \"tera :: \\u0259\\u0281\\u0254#\", \"ter :: \\u0259\\u0281\\u0254#\", \"ite :: \\u0259\\u0281\\u0254#\", \"ure :: \\u0281a#\", \"tera :: t\\u0259\\u0281\\u0254\", \"era :: t\\u0259\\u0281\\u0254\", \"ter :: \\u0281\\u0254#\", \"trac :: #t\\u0281\", \"tie :: sje#\", \"rac :: t\\u0281a\", \"tera :: \\u0259\\u0281\\u0254\", \"ter :: \\u0259\\u0281\\u0254\", \"ter :: t\\u0259\\u0281\\u0254\", \"as# :: t\\u0259\\u0281\", \"rais :: \\u0281\\u0259\\u0281\", \"rera :: \\u0259\\u0281a#\", \"erai :: \\u0281\\u0259\\u0281\", \"pic :: p\\u026ak\\u0251\", \"ais# :: \\u0281\\u0259\\u0281a\", \"ure :: \\u0259\\u0281a\", \"iez :: t\\u0361s\", \"rai :: \\u0281\\u0259\\u0281\", \"tiez :: t\\u0361sj\", \"#r\\u00e9 :: l\\u026az\", \"alt\\u00e9 :: #alt\", \"tiez :: je#\", \"rera :: \\u0281\\u0259\\u0281a\", \"rer :: \\u0281\\u0259\\u0281a\", \"rera :: \\u0281a#\", \"rera :: \\u0259\\u0281a\", \"rer :: \\u0259\\u0281a\", \"rer :: \\u0281a#\", \"tera :: \\u0281\\u0254#\", \"era :: \\u0281\\u0259\\u0281\", \"erai :: \\u0281\\u0259\\u0281a\", \"rer :: \\u0259\\u0281a#\", \"era :: \\u0281\\u0259\\u0281a\", \"rai :: \\u0281\\u0259\\u0281a\", \"rer :: \\u0281\\u0259\\u0281\", \"rera :: \\u0281\\u0259\\u0281\", \"era :: \\u0259\\u0281a\", \"erai :: \\u0259\\u0281a#\", \"rai :: \\u0259\\u0281a#\", \"era :: \\u0259\\u0281a#\", \"era :: \\u0281a#\", \"erai :: \\u0259\\u0281a\", \"rai :: \\u0259\\u0281a\", \"erai :: \\u0281a#\", \"rai :: \\u0281a#\", \"era :: \\u0259\\u0281\\u0254\", \"era :: \\u0281\\u0254#\", \"era :: \\u0259\\u0281\\u0254#\", \"ais# :: \\u0259\\u0281a\", \"rais :: \\u0259\\u0281a\", \"ter :: t\\u0259\\u0281\", \"it# :: \\u0259\\u0281a#\", \"#d\\u00e9 :: #de\", \"ez# :: je#\", \"era :: l\\u0259\\u0281\\u0254\", \"era :: fl\\u0259\", \"ass :: \\u0254\\u032fl\", \"out :: t\\u0283\\u028a\", \"lera :: fl\\u0259\\u0281\", \"lera :: \\u0281\\u0254#\", \"#end :: \\u0361z\\u028f\", \"ez# :: \\u0281je\", \"ler :: l\\u0259\\u0281\\u0254\", \"out :: \\u0283\\u028at\", \"lera :: \\u0259\\u0281\\u0254\", \"heus :: \\u0283\\u00f8z#\", \"#end :: #\\u0251\\u0303\", \"out :: ka\\u028at\", \"as# :: l\\u0259\\u0281\\u0254\", \"fler :: \\u0281\\u0254#\", \"fler :: l\\u0259\\u0281\\u0254\", \"fle :: \\u0259\\u0281\\u0254#\", \"#en :: \\u0361z\\u028f\\u0281\", \"out :: a\\u028at\", \"chou :: #ka\\u028a\", \"out :: ka\\u028a\", \"ras :: l\\u0259\\u0281\\u0254\", \"out :: t\\u0283\\u028at\", \"las :: asj\\u00f5\", \"erie :: \\u0259\\u0281je\", \"es# :: \\u026ak\\u0251\", \"iez :: \\u0281je\", \"rie :: je#\", \"fle :: fl\\u0259\", \"iez# :: \\u0259\\u0281je\", \"riez :: \\u0281je\", \"erie :: \\u0259\\u0281j\", \"iez# :: \\u0281je#\", \"ler :: \\u0281\\u0254#\", \"iez :: \\u0281je#\", \"iez# :: \\u0281je\", \"rie :: \\u0281je\", \"eri :: \\u0259\\u0281je\", \"iez :: \\u0259\\u0281je\", \"riez :: je#\", \"lera :: \\u0259\\u0281\\u0254#\", \"ez# :: \\u0259\\u0281je\", \"riez :: \\u0281je#\", \"riez :: \\u0259\\u0281j\", \"ez# :: \\u0281je#\", \"erie :: \\u0281je\", \"ler :: \\u0259\\u0281\\u0254\", \"rie :: \\u0259\\u0281j\", \"rie :: \\u0281je#\", \"ez# :: \\u0259\\u0281j\", \"eri :: \\u0281je#\", \"as# :: \\u0281\\u0254#\", \"iez# :: je#\", \"iez :: je#\", \"ez# :: je#\", \"ras# :: \\u0281\\u0254#\", \"ras :: \\u0281\\u0254#\", \"eras :: \\u0259\\u0281\\u0254\", \"era :: \\u0259\\u0281\\u0254\", \"era :: \\u0259\\u0281\\u0254#\", \"era :: \\u0281\\u0254#\", \"ran :: \\u0251\\u0303s\", \"ans :: \\u0251\\u0303s\", \"marb :: #ma\", \"#tra :: \\u0281\\u0251\\u0303s\", \"#tr :: \\u0281\\u0251\\u0303s\", \"marb :: a\\u0281b\", \"ans :: \\u0281\\u0251\\u0303\", \"lass :: asje\", \"ran :: \\u0281\\u0251\\u0303s\", \"tran :: \\u0281\\u0251\\u0303s\", \"iez# :: \\u0281asj\", \"ass :: sje#\", \"#bo :: #b\\u00f5\", \"siez :: \\u0281as\", \"rass :: asje\", \"sie :: \\u0281asj\", \"#ma :: \\u0281b\\u0281\", \"assi :: je#\", \"ass :: asje\", \"mar :: \\u0281b\\u0281\", \"rans :: t\\u0281\\u0251\", \"ass :: je#\", \"siez :: asje\", \"tra :: \\u0281\\u0251\\u0303s\", \"ssi :: asje\", \"arb :: #ma\\u0281\", \"ass :: sje\", \"assi :: asje\", \"iez :: asje\", \"iez# :: asj\", \"ssie :: asje\", \"ssie :: asj\", \"iez :: asj\", \"siez :: asj\", \"sie :: sje\", \"ez# :: asje\", \"ssi :: je#\", \"siez :: je#\", \"siez :: sje\", \"assi :: sje\", \"ass :: asj\", \"ssie :: je#\", \"sie :: asj\", \"ssi :: sje\", \"ez# :: asj\", \"iez# :: sje#\", \"ssi :: sje#\", \"iez# :: sje\", \"iez :: sje#\", \"iez :: sje\", \"sie :: sje#\", \"ez# :: sje#\", \"siez :: sje#\", \"sie :: je#\", \"ssie :: sje\", \"ssie :: sje#\", \"ez# :: sje\", \"iez :: je#\", \"ez# :: je#\", \"iez# :: je#\", \"ssi :: asj\", \"onn\\u00e9 :: \\u0254\\u032fne\", \"onn\\u00e9 :: \\u032fne#\", \"ien :: l\\u026aza\", \"rant :: e\\u0281\\u00e6\\u0303\", \"es# :: \\u0281ea\", \"nn\\u00e9 :: \\u0254\\u032fn\", \"nn\\u00e9 :: \\u0254\\u032fne\", \"lonn :: \\u032fne\", \"nn\\u00e9 :: \\u0251\\u0254\\u032fn\", \"onn :: \\u032fne\", \"onn\\u00e9 :: ne#\", \"nn\\u00e9 :: \\u032fne#\", \"nn\\u00e9 :: ne#\", \"nn\\u00e9e :: \\u0251\\u0254\\u032f\", \"ient :: al\\u026a\", \"nn\\u00e9 :: \\u032fne\", \"ati :: \\u0281at\\u0361\", \"onn :: \\u032fne#\", \"gnio :: \\u00f5\\u0169\\u032f\", \"maqu :: ak\\u026a\", \"onn\\u00e9 :: l\\u0251\\u0254\\u032f\", \"nn\\u00e9e :: \\u0251\\u0254\\u032fn\", \"onn\\u00e9 :: \\u0254\\u032fn\", \"ons :: \\u028aj\\u00f5\", \"onn :: ne#\", \"onn\\u00e9 :: \\u0251\\u0254\\u032fn\", \"onn\\u00e9 :: \\u032fne\", \"surt :: tak\", \"#ap :: ap\\u0281e\", \"rat :: \\u0361s\\u026af\", \"nn\\u00e9 :: \\u0251\\u0254\\u032f\", \"nion :: \\u00f5\\u0169\\u032f\", \"n\\u00e9e :: \\u0251\\u0254\\u032fn\", \"onn\\u00e9 :: \\u0251\\u0254\\u032f\", \"onn :: \\u0254\\u032fne\", \"\\u00e9ta :: #et\", \"#ho :: \\u0251\\u0254\\u032f\", \"ns# :: j\\u00f5\\u0169\\u032f\", \"\\u00e9es# :: \\u0251\\u0254\\u032f\", \"ion :: \\u00f5\\u0169\\u032f#\", \"ion :: \\u0169\\u032f#\", \"ions :: j\\u00f5\\u0169\", \"ns# :: j\\u00f5\\u0169\", \"ons :: j\\u00f5\\u0169\", \"ons :: j\\u00f5\\u0169\\u032f\", \"ons# :: j\\u00f5\\u0169\\u032f\", \"ions :: j\\u00f5\\u0169\\u032f\", \"ions :: \\u0169\\u032f#\", \"ons# :: j\\u00f5\\u0169\", \"ions :: \\u00f5\\u0169\\u032f#\", \"ions :: \\u00f5\\u0169\\u032f\", \"ion :: j\\u00f5\\u0169\", \"ion :: j\\u00f5\\u0169\\u032f\", \"ion :: \\u00f5\\u0169\\u032f\", \"onn :: \\u0254\\u032fn\", \"ons# :: \\u0169\\u032f#\", \"ns# :: \\u00f5\\u0169\\u032f#\", \"ons# :: \\u00f5\\u0169\\u032f\", \"ons :: \\u00f5\\u0169\\u032f\", \"ons :: \\u00f5\\u0169\\u032f#\", \"ns# :: \\u00f5\\u0169\\u032f\", \"ns# :: \\u0169\\u032f#\", \"ons :: \\u0169\\u032f#\", \"ons# :: \\u00f5\\u0169\\u032f#\", \"onn :: \\u0251\\u0254\\u032f\", \"onn :: \\u0251\\u0254\\u032fn\", \"sere :: \\u0259\\u0281e#\", \"atr :: #mat\", \"com :: #k\\u0251\", \"qu\\u00e2 :: kat#\", \"comm :: #k\\u0251\", \"\\u00e2tes :: kat#\", \"comm :: k\\u0251\\u0254\\u032f\", \"umin :: m\\u026an\", \"elon :: \\u00f5\\u0169\\u032f#\", \"es# :: kat#\", \"ra# :: mat\\u0281\", \"u\\u00e2t :: kat#\", \"seco :: \\u0259k\\u028a\\u0281\", \"com :: #k\\u0251\\u0254\", \"sere :: as\\u0259\\u0281\", \"omm :: k\\u0251\\u0254\\u032f\", \"#com :: #k\\u0251\\u0254\", \"sser :: \\u0281e#\", \"com :: \\u0251\\u0254\\u032f\", \"u\\u00e2te :: at#\", \"#co :: \\u0254\\u032fm\", \"u\\u00e2t :: kat\", \"sere :: \\u0281e#\", \"ill :: ja#\", \"rai :: la\\u0281a\", \"qu\\u00e2 :: at#\", \"u\\u00e2t :: at#\", \"com :: k\\u0251\\u0254\\u032f\", \"comm :: \\u0251\\u0254\\u032fm\", \"sere :: \\u0259\\u0281e\", \"omm :: k\\u0251\\u0254\", \"#com :: #k\\u0251\", \"qu\\u00e2 :: kat\", \"#com :: k\\u0251\\u0254\\u032f\", \"comm :: \\u0251\\u0254\\u032f\", \"comm :: k\\u0251\\u0254\", \"com :: k\\u0251\\u0254\", \"#co :: \\u0251\\u0254\\u032fm\", \"comm :: \\u0254\\u032fm\", \"omm :: #k\\u0251\", \"#com :: \\u0251\\u0254\\u032f\", \"#com :: \\u0254\\u032fm\", \"lons :: \\u0169\\u032f#\", \"#co :: #k\\u0251\", \"ons :: l\\u00f5\\u0169\", \"ons# :: \\u00f5\\u0169\\u032f\", \"ons :: \\u00f5\\u0169\\u032f#\", \"ns# :: \\u00f5\\u0169\\u032f\", \"ons :: \\u00f5\\u0169\\u032f\", \"#co :: k\\u0251\\u0254\", \"#co :: #k\\u0251\\u0254\", \"#co :: \\u0251\\u0254\\u032f\", \"ons# :: \\u00f5\\u0169\\u032f#\", \"ons# :: \\u0169\\u032f#\", \"ns# :: \\u0169\\u032f#\", \"ass :: as#\", \"ons :: \\u0169\\u032f#\", \"#ra :: #\\u0281a\", \"ns# :: \\u00f5\\u0169\\u032f#\", \"ez# :: \\u0259\\u0281e#\", \"ere :: \\u0259\\u0281e#\", \"ez# :: \\u0259\\u0281e\", \"asse :: as#\", \"erez :: \\u0259\\u0281e#\", \"ant# :: \\u00e6\\u0303#\", \"rez# :: \\u0259\\u0281e#\", \"sse :: as#\", \"#re :: \\u0281\\u0259b\\u0281\", \"mati :: at\\u0361s\", \"\\u00e2tes :: lat\", \"rtu :: \\u0281t\\u0265a\", \"ses :: jas#\", \"rai :: s\\u026a\\u0281a\", \"p\\u00e2ti :: #pa\", \"p\\u00e2ti :: at\\u0361\", \"l\\u00e2t :: lat\", \"#p\\u00e2 :: pat\", \"\\u00e2ti :: #pa\", \"#p\\u00e2t :: \\u0361s\\u026a\", \"p\\u00e2t :: #pat\", \"mati :: \\u0361s\\u026a\", \"p\\u00e2t :: at\\u0361\", \"que :: ak#\", \"ura :: \\u0281av\", \"tes :: lat\", \"brou :: \\u0281\\u0259b\", \"inss :: \\u1ebd\\u0129\\u032f\", \"pai :: \\u0303pa\", \"p\\u00e2ti :: pat\\u0361\", \"#p\\u00e2 :: pat\\u0361\", \"#p\\u00e2t :: #pat\", \"\\u00e2tes :: lat#\", \"d\\u00e9ra :: de\\u0281a\", \"rav :: #\\u0283\\u028a\", \"\\u00e2ti :: #pat\", \"ira :: s\\u026a\\u0281a\", \"ouss :: b\\u0281\\u028a\", \"ira :: t\\u0361s\\u026a\", \"nqu :: \\u0303ka\", \"l\\u00e2t :: at#\", \"#tra :: \\u0251\\u0303z\", \"#p\\u00e2 :: at\\u0361\", \"ses# :: jas#\", \"rav :: \\u028a\\u0281av\", \"tes :: lat#\", \"es# :: at#\", \"tes# :: at#\", \"tes :: at#\", \"asse :: jas\", \"ass :: jas#\", \"\\u00e2tes :: at#\", \"\\u00e2te :: at#\", \"cer :: \\u0281a#\", \"#d\\u00e9 :: #de\", \"irai :: \\u026a\\u0281a\", \"asse :: jas#\", \"sse :: jas#\", \"ass :: jas\", \"#ma :: #ma\", \"ass :: as#\", \"sse :: jas\", \"ez# :: je#\", \"ons# :: \\u00f5\\u0169\\u032f#\", \"ns# :: \\u00f5\\u0169\\u032f\", \"d\\u00e9b :: deb\", \"sse :: as#\", \"ons# :: \\u0169\\u032f#\", \"iez :: je#\", \"iez# :: je#\", \"asse :: as#\", \"ons :: \\u00f5\\u0169\\u032f#\", \"ons :: \\u00f5\\u0169\\u032f\", \"#en :: #\\u0251\\u0303\", \"enc :: \\u032fs#\", \"#sol :: \\u0254\\u032fl\", \"scel :: sel\", \"cel :: esel\", \"#des :: esel\", \"#de :: esel\", \"ass :: \\u0303tas\", \"chem :: \\u0259m\\u026an\", \"pai :: epe\", \"ass :: \\u0251\\u0303ta\", \"tas :: \\u0303ta\", \"#m\\u00e9p :: #me\", \"#av :: aval\", \"\\u00e9pr :: p\\u0281\\u0259n\", \"sse :: \\u0251\\u0303ta\", \"tas :: \\u0303tas\", \"ell :: sel\", \"nta :: \\u0303tas\", \"sse :: \\u0251\\u0303t\", \"sur :: s\\u028f\\u0281v\", \"des :: sel\", \"#de :: sel\", \"ssi :: m\\u026as\", \"surv :: #s\\u028f\", \"#su :: \\u028f\\u0281v\", \"ass :: \\u0303ta\", \"agea :: mena\", \"des :: esel\", \"#em :: \\u0303p\\u0251\\u0254\", \"tass :: \\u0303tas\", \"enr :: #\\u0251\\u0303\\u0281\", \"#ava :: ava\", \"nta :: \\u0251\\u0303ta\", \"ch\\u00e2 :: \\u0251\\u0254\\u032f\", \"nta :: \\u0251\\u0303t\", \"#em :: \\u0251\\u0303p\", \"nta :: \\u0303ta\", \"der :: \\u0259\\u0281a\", \"d\\u00e9m :: #de\", \"#en :: #\\u0251\\u0303\", \"ass :: as#\", \"sse :: as#\", \"#emp :: #\\u0251\\u0303\", \"asse :: as#\", \"ent :: as#\", \"ent :: tas\", \"erai :: \\u0259\\u0281a\", \"rai :: \\u0281a#\", \"nt# :: as#\", \"rai :: \\u0259\\u0281a#\", \"era :: \\u0259\\u0281a\", \"era :: \\u0281a#\", \"erai :: \\u0259\\u0281a#\", \"rai :: \\u0259\\u0281a\", \"era :: \\u0259\\u0281a#\", \"erai :: \\u0281a#\", \"ass :: tas\", \"gorg :: \\u0254\\u032f\\u0281\\u0292\", \"cio :: \\u0169\\u032f#\", \"gorg :: g\\u0251\\u0254\\u032f\", \"org :: \\u032f\\u0281\\u0292\", \"orge :: \\u0254\\u032f\\u0281\\u0292\", \"gor :: \\u0254\\u032f\\u0281\\u0292\", \"arf :: #pa\\u0281\", \"gorg :: \\u0254\\u032f\\u0281\", \"gor :: g\\u0251\\u0254\\u032f\", \"org :: g\\u0251\\u0254\", \"rge :: g\\u0251\\u0254\\u032f\", \"gor :: \\u0251\\u0254\\u032f\", \"gor :: g\\u0251\\u0254\", \"int :: #\\u1ebd\\u0129\\u032f\", \"rfum :: a\\u0281f\\u028f\", \"#par :: \\u0281f\\u028fm\", \"our :: \\u0281\\u0259s\", \"gorg :: g\\u0251\\u0254\", \"cion :: \\u0169\\u032f#\", \"org :: \\u0254\\u032f\\u0281\\u0292\", \"nt# :: g\\u0251\\u0254\\u032f\", \"uci :: \\u00f5\\u0169\\u032f\", \"gor :: \\u032f\\u0281\\u0292\", \"sour :: #\\u0281\\u0259s\", \"oup :: \\u0281\\u028ap\", \"ous :: #s\\u028at\", \"rfum :: \\u0281f\\u028fm\", \"org :: \\u0251\\u0254\\u032f\\u0281\", \"arf :: \\u0281f\\u028f\", \"gor :: \\u0254\\u032f\\u0281\", \"org :: g\\u0251\\u0254\\u032f\", \"gorg :: \\u0251\\u0254\\u032f\", \"gorg :: \\u032f\\u0281\\u0292\", \"tra :: \\u0281at\", \"#sou :: #s\\u028a\", \"ter :: ta\\u0281\", \"sou :: #s\\u028a\", \"ons :: \\u0169\\u032f#\", \"ons# :: \\u00f5\\u0169\\u032f#\", \"ons# :: \\u0169\\u032f#\", \"ns# :: \\u00f5\\u0169\\u032f\", \"ons :: \\u00f5\\u0169\\u032f#\", \"ns# :: \\u00f5\\u0169\\u032f#\", \"ion :: \\u0169\\u032f#\", \"ons :: \\u00f5\\u0169\\u032f\", \"ns# :: \\u0169\\u032f#\", \"ons# :: \\u00f5\\u0169\\u032f\", \"ns# :: j\\u00f5\\u0169\\u032f\", \"ons# :: j\\u00f5\\u0169\", \"ns# :: j\\u00f5\\u0169\", \"ons :: j\\u00f5\\u0169\\u032f\", \"ons :: j\\u00f5\\u0169\", \"rai :: \\u0281a#\", \"ons# :: j\\u00f5\\u0169\\u032f\", \"ion :: j\\u00f5\\u0169\\u032f\", \"ions :: \\u0169\\u032f#\", \"ion :: \\u00f5\\u0169\\u032f#\", \"ion :: j\\u00f5\\u0169\", \"ions :: \\u00f5\\u0169\\u032f\", \"ions :: j\\u00f5\\u0169\", \"#d\\u00e9v :: dev\", \"#mor :: \\u0254\\u032f\\u0281\", \"#re :: \\u0251\\u0303b\", \"mor :: #m\\u0251\", \"#d\\u00e9v :: #de\", \"#d\\u00e9 :: #dev\", \"remb :: #\\u0281\\u0251\", \"d\\u00e9vi :: #dev\", \"our :: \\u0251\\u0303b\\u028a\", \"\\u00e9vid :: ev\\u026ad\", \"#mor :: \\u0251\\u0254\\u032f\\u0281\", \"vide :: ev\\u026a\", \"ent# :: s\\u026asa\", \"emb :: #\\u0281\\u0251\\u0303\", \"#mo :: \\u0251\\u0254\\u032f\\u0281\", \"emb :: \\u0281\\u0251\\u0303\", \"mor :: \\u0254\\u032f\\u0281\", \"#mo :: \\u0254\\u032f\\u0281\", \"mor :: \\u0251\\u0254\\u032f\", \"#rem :: \\u0281\\u0251\\u0303b\", \"emb :: \\u0281\\u0251\\u0303b\", \"alu :: val\", \"#re :: \\u0281\\u0251\\u0303b\", \"d\\u00e9v :: #dev\", \"mor :: #m\\u0251\\u0254\", \"#mor :: #m\\u0251\\u0254\", \"#mor :: m\\u0251\\u0254\", \"\\u00e9va :: eval\", \"#d\\u00e9 :: dev\", \"remb :: \\u0281\\u0251\\u0303\", \"#mor :: m\\u0251\\u0254\\u032f\", \"d\\u00e9v :: #de\", \"mor :: m\\u0251\\u0254\", \"ent# :: sa#\", \"d\\u00e9v :: dev\", \"aie :: sa#\", \"ien :: sa#\", \"#d\\u00e9v :: #dev\", \"#mo :: #m\\u0251\\u0254\", \"remb :: \\u0281\\u0251\\u0303b\", \"emb :: \\u0251\\u0303b\", \"ient :: sa#\", \"rem :: #\\u0281\\u0251\", \"#d\\u00e9 :: #de\", \"sai :: sa#\", \"#mo :: m\\u0251\\u0254\", \"nch :: \\u0251\\u0303\\u0283\", \"nt# :: sa#\", \"ssai :: sa#\", \"ent :: sa#\", \"ssa :: \\u026asa#\", \"erez :: \\u0281e#\", \"aien :: sa#\", \"rio :: \\u00f5\\u0169\\u032f\", \"ion :: \\u0281j\\u00f5\", \"erio :: \\u00f5\\u0169\\u032f\", \"rio :: j\\u00f5\\u0169\\u032f\", \"ns# :: \\u0281j\\u00f5\", \"rion :: \\u0281j\\u00f5\", \"rion :: j\\u00f5\\u0169\\u032f\", \"rion :: j\\u00f5\\u0169\", \"ions :: \\u0281j\\u00f5\", \"rion :: \\u0281j\\u00f5\\u0169\", \"rio :: \\u0281j\\u00f5\", \"ions :: \\u0281j\\u00f5\\u0169\", \"rion :: \\u00f5\\u0169\\u032f#\", \"erio :: \\u00f5\\u0169\\u032f#\", \"rion :: \\u0169\\u032f#\", \"ns# :: \\u0281j\\u00f5\\u0169\", \"erio :: \\u0281j\\u00f5\", \"eri :: j\\u00f5\\u0169\\u032f\", \"erio :: \\u0281j\\u00f5\\u0169\", \"ons# :: \\u0281j\\u00f5\\u0169\", \"rion :: \\u00f5\\u0169\\u032f\", \"ions :: \\u0259\\u0281j\\u00f5\", \"eri :: \\u00f5\\u0169\\u032f\", \"rio :: \\u00f5\\u0169\\u032f#\", \"ons :: \\u0281j\\u00f5\", \"ons# :: \\u0281j\\u00f5\", \"ion :: \\u0281j\\u00f5\\u0169\", \"rio :: \\u0169\\u032f#\", \"erio :: j\\u00f5\\u0169\", \"rio :: \\u0281j\\u00f5\\u0169\", \"rio :: j\\u00f5\\u0169\", \"eri :: \\u0281j\\u00f5\", \"ons :: \\u0281j\\u00f5\\u0169\", \"ions :: \\u0169\\u032f#\", \"ions :: j\\u00f5\\u0169\\u032f\", \"ons# :: j\\u00f5\\u0169\", \"ion :: \\u00f5\\u0169\\u032f\", \"ion :: \\u00f5\\u0169\\u032f#\", \"ons :: j\\u00f5\\u0169\\u032f\", \"ons# :: j\\u00f5\\u0169\\u032f\", \"ns# :: j\\u00f5\\u0169\\u032f\", \"ion :: \\u0169\\u032f#\", \"ions :: \\u00f5\\u0169\\u032f\", \"ions :: j\\u00f5\\u0169\", \"ons :: j\\u00f5\\u0169\", \"ion :: j\\u00f5\\u0169\\u032f\", \"ns# :: j\\u00f5\\u0169\", \"ions :: \\u00f5\\u0169\\u032f#\", \"ion :: j\\u00f5\\u0169\", \"ns# :: \\u00f5\\u0169\\u032f\", \"ons :: \\u00f5\\u0169\\u032f#\", \"ns# :: \\u00f5\\u0169\\u032f#\", \"ons# :: \\u0169\\u032f#\", \"ns# :: \\u0169\\u032f#\", \"ons# :: \\u00f5\\u0169\\u032f#\", \"ons :: \\u0169\\u032f#\", \"ons# :: \\u00f5\\u0169\\u032f\", \"ons :: \\u00f5\\u0169\\u032f\", \"cint :: \\u1ebd\\u0129\\u032f\", \"ntr :: s\\u1ebd\\u0129\\u032f\", \"#tr :: \\u0251\\u0303\\u0283\", \"intr :: \\u0129\\u032ft\", \"intr :: \\u1ebd\\u0129\\u032f\", \"ntr :: \\u1ebd\\u0129\\u032f\", \"ture :: t\\u0361s\\u028f\", \"ntr :: \\u0129\\u032ft\\u0281\", \"#co :: k\\u028av\\u0281\", \"cint :: \\u0129\\u032ft\\u0281\", \"cint :: s\\u1ebd\\u0129\\u032f\", \"\\u00eetr :: #kl\", \"mpl :: lwa\", \"cin :: \\u1ebd\\u0129\\u032ft\", \"rai :: wat\", \"tur :: \\u0361s\\u028f\", \"nas :: je#\", \"\\u00e9niv :: en\\u026av\", \"int :: s\\u1ebd\\u0129\\u032f\", \"nive :: den\", \"ntr :: \\u0281e#\", \"ecou :: #\\u0281\\u0259k\", \"cint :: \\u0129\\u032ft\", \"#ca :: b\\u028f\\u0281\", \"tur :: t\\u0361s\", \"intr :: s\\u1ebd\\u0129\", \"ent# :: epe\", \"clo :: wat\\u0281\", \"emp :: lwa\", \"ture :: \\u0361s\\u028f\", \"emp :: \\u0303pl\", \"gere :: \\u0292\\u0259\\u0281\", \"\\u00e9ca :: #ek\", \"o\\u00eet :: lwat\", \"erez :: \\u0292\\u0259\\u0281e\", \"int :: s\\u1ebd\\u0129\", \"ntr :: \\u0129\\u032ft\", \"vel :: al#\", \"assi :: sje#\", \"ger :: \\u0281e#\", \"ass :: asje\", \"aie :: ja#\", \"erez :: \\u0259\\u0281e#\", \"rez :: \\u0259\\u0281e\", \"rez :: \\u0281e#\", \"cin :: s\\u1ebd\\u0129\", \"ez# :: \\u0281e#\", \"#cl :: #kl\", \"erez :: \\u0259\\u0281e\", \"ere :: \\u0259\\u0281e#\", \"ere :: \\u0281e#\", \"ez# :: \\u0259\\u0281e#\", \"con :: \\u00f5\\u0169\\u032f\", \"#d\\u00e9 :: #de\", \"sie :: asje\", \"sie :: je#\", \"ez# :: je#\", \"rez# :: \\u0281e#\", \"rez :: \\u0259\\u0281e#\", \"rez# :: \\u0259\\u0281e\", \"rez# :: \\u0259\\u0281e#\", \"ass :: as#\", \"ez# :: \\u0259\\u0281e\", \"iez# :: je#\", \"iez :: je#\", \"rai :: \\u0281a#\", \"ent# :: a\\u0281#\", \"ingl :: #s\\u1ebd\\u0129\", \"ing :: #s\\u1ebd\\u0129\", \"ingl :: #s\\u1ebd\", \"cing :: s\\u1ebd\\u0129\", \"ngl :: s\\u1ebd\\u0129\\u032f\", \"#foi :: wa\\u0281\", \"cin :: #s\\u1ebd\", \"ing :: s\\u1ebd\\u0129\", \"#ci :: \\u032fgl\", \"cing :: \\u0129\\u032fg\", \"ngl :: \\u1ebd\\u0129\\u032fg\", \"cing :: \\u1ebd\\u0129\\u032fg\", \"#ci :: #s\\u1ebd\", \"cing :: s\\u1ebd\\u0129\\u032f\", \"ingl :: s\\u1ebd\\u0129\\u032f\", \"ress :: \\u0259s\\u028a\", \"ang :: \\u0281e#\", \"ngl :: #s\\u1ebd\", \"#cin :: \\u0129\\u032fg\", \"ngl :: \\u032fgl\", \"ez# :: a\\u0272e#\", \"ai# :: l\\u0259\\u0281\", \"uill :: ep\\u028a\", \"cing :: #s\\u1ebd\\u0129\", \"gui :: l\\u0251\\u0303\", \"rive :: #\\u0281\\u026av\", \"\\u00e9pug :: epy\\u0272\", \"ing :: #s\\u1ebd\", \"ebi :: \\u0259b\\u026a\", \"cin :: \\u0129\\u032fg\", \"lera :: l\\u0259\\u0281\", \"ape :: t\\u0361s\\u026a\", \"era :: l\\u0259\\u0281\", \"ler :: l\\u0259\\u0281\", \"ngl :: s\\u1ebd\\u0129\", \"ing :: \\u1ebd\\u0129\\u032fg\", \"ns# :: t\\u00f5\\u0169\\u032f\", \"ing :: \\u1ebd\\u0129\\u032f\", \"angu :: \\u0251\\u0303g\", \"ons :: t\\u00f5\\u0169\", \"as# :: \\u0281\\u0254#\", \"ras :: \\u0281\\u0254#\", \"ras# :: \\u0281\\u0254#\", \"era :: \\u0259\\u0281\\u0254\", \"eras :: \\u0259\\u0281\\u0254\", \"era :: \\u0281\\u0254#\", \"rez# :: \\u0281e#\", \"rez :: \\u0281e#\", \"ez# :: \\u0281e#\", \"era :: \\u0259\\u0281\\u0254#\", \"ras :: \\u0259\\u0281\\u0254#\", \"eras :: \\u0281\\u0254#\", \"ras :: \\u0259\\u0281\\u0254\", \"as# :: \\u0259\\u0281\\u0254#\", \"erez :: \\u0259\\u0281e\", \"as# :: \\u0259\\u0281\\u0254\", \"ras# :: \\u0259\\u0281\\u0254\", \"eras :: \\u0259\\u0281\\u0254#\", \"rai :: \\u0259\\u0281a\", \"ras# :: \\u0259\\u0281\\u0254#\", \"rai :: \\u0281a#\", \"ere :: \\u0259\\u0281e\", \"era :: \\u0259\\u0281a\", \"erai :: \\u0259\\u0281a\", \"#d\\u00e9 :: #de\", \"ient :: \\u0281a#\", \"erai :: \\u0259\\u0281a#\", \"erai :: \\u0281a#\", \"#t\\u00e9l :: ele\", \"pil :: #\\u0281\\u0251\", \"aill :: paj\", \"#t\\u00e9 :: tele\", \"#re :: p\\u026al\", \"#rem :: p\\u026al\", \"remp :: #\\u0281\\u0251\", \"\\u00e9l\\u00e9 :: tele\", \"\\u00e9l\\u00e9g :: tele\", \"#s\\u00e9 :: #se\", \"pil :: \\u0281\\u0251\\u0303p\", \"ppr\\u00e9 :: ap\\u0281\", \"remp :: \\u0281\\u0251\\u0303p\", \"ez# :: \\u028f\\u0281e#\", \"#t\\u00e9 :: tel\", \"ant# :: v\\u00e6\\u0303#\", \"esqu :: #ask\", \"nce# :: \\u032fs#\", \"mpil :: \\u0303p\\u026a\", \"t\\u00e9l\\u00e9 :: #te\", \"\\u00e9pl :: pl\\u028f\\u0283\", \"tue :: t\\u0361s\", \"enq :: #\\u0251\\u0303\", \"#to :: #t\\u00f5\", \"#t\\u00e9l :: tel\", \"\\u00e9l\\u00e9 :: #te\", \"\\u00e9l\\u00e9 :: tel\", \"rem :: #\\u0281\\u0251\\u0303\", \"rem :: \\u0303p\\u026al\", \"t\\u00e9l :: tel\", \"#t\\u00e9l :: #te\", \"#t\\u00e9 :: #tel\", \"con :: \\u0169\\u032fsa\", \"nt# :: v\\u00e6\\u0303\", \"#t\\u00e9 :: #te\", \"ian# :: j\\u00e6\\u0303\", \"\\u00e9ra :: ne\\u0281\", \"rem :: \\u0251\\u0303p\", \"ant# :: \\u00e6\\u0303#\", \"ant :: \\u00e6\\u0303#\", \"nt# :: \\u00e6\\u0303#\", \"#re :: #\\u0281\\u0251\", \"#pr\\u00e9 :: \\u0281e\\u0292\", \"rai :: \\u0281a#\", \"era :: \\u0281a#\", \"ssi :: \\u026asje\", \"#cr :: #k\\u0281\", \"erai :: \\u0281a#\", \"ras# :: \\u0281\\u0254#\", \"aien :: #s\\u028f\", \"rap :: \\u0281ap\", \"rap :: apa\", \"#ra :: \\u0281apa\", \"rap :: at\\u0281\", \"#tri :: \\u0281\\u026ap\", \"aiss :: deka\", \"#cra :: \\u0281aka\", \"foir :: wa\\u0281\", \"rot :: \\u0281\\u0251\\u0254\", \"i\\u00e2t# :: \\u026aj\\u0254#\", \"#ra :: apat\", \"carb :: ka\\u0281\", \"rib :: \\u0281\\u026ab\", \"#ra :: at\\u0281\", \"teur :: at\\u0153\\u0281\", \"dam :: #dam\", \"erai :: \\u0281d\\u0259\", \"foi :: #fwa\", \"#rap :: pat\\u0281\", \"ass :: \\u026adas\", \"raco :: \\u0169\\u032ft\", \"atri :: \\u0281ap\", \"i\\u00e2t :: \\u0281\\u026aj\\u0254\", \"rapa :: \\u0281apa\", \"craq :: \\u0281aka\", \"h\\u00e2t :: #\\u0283a\", \"patr :: \\u0281ap\", \"ass :: \\u032fla\", \"cont :: #\\u0281a\", \"rap :: #\\u0281a\", \"t\\u00e2te :: tat#\", \"#tr :: t\\u0281\\u026a\", \"t\\u00e2t :: tat#\", \"#rap :: #\\u0281ap\", \"t\\u00e2te :: at#\", \"#rac :: \\u00f5\\u0169\\u032f\", \"urs# :: at\\u0153\", \"#\\u00e9cr :: ek\\u0281\\u026a\", \"es# :: \\u0281\\u026am\", \"#ra :: \\u0281ap\", \"t\\u00e2te :: tat\", \"tes# :: tat#\", \"tri :: t\\u0281\\u026a\", \"#ra :: #\\u0281a\", \"rapa :: apa\", \"iqu :: \\u0361s\\u026ak\", \"#cra :: k\\u0281ak\", \"#cr :: #k\\u0281\", \"car :: ka\\u0281\", \"es# :: at#\", \"tes :: at#\", \"sse :: as#\", \"ass :: as#\", \"eur :: t\\u0153\\u0281\", \"asse :: as#\", \"#re :: s\\u0259\\u0281\\u0254\", \"es# :: \\u0281aj\", \"cour :: ak\\u028a\\u0281\", \"#acc :: #ak\\u028a\", \"#coc :: \\u0251\\u0254\\u032f\", \"anim :: an\\u026a\", \"#pro :: p\\u0281\\u0251\", \"#pr :: p\\u0281\\u0251\", \"ais# :: #\\u0281\\u0259\", \"ide :: \\u026ad\\u0259\", \"ide :: \\u0259\\u0281a\", \"ccou :: ak\\u028a\\u0281\", \"era :: \\u026ad\\u0259\\u0281\", \"erai :: d\\u0259\\u0281a\", \"erai :: \\u026ad\\u0259\", \"era :: \\u026ad\\u0259\", \"#pro :: \\u0251\\u0254\\u032f\", \"pro :: p\\u0281\\u0251\\u0254\", \"ide :: d\\u0259\\u0281\", \"rai :: d\\u0259\\u0281\", \"cour :: #ak\\u028a\", \"rai :: \\u026ad\\u0259\", \"isa :: zaj\", \"ider :: d\\u0259\\u0281a\", \"dera :: \\u026ad\\u0259\", \"#pro :: \\u0281\\u0251\\u0254\", \"pro :: \\u0281\\u0251\\u0254\\u032f\", \"pro :: #p\\u0281\\u0251\", \"#d\\u00e9 :: d\\u0259\\u0281a\", \"#pro :: p\\u0281\\u0251\\u0254\", \"pro :: #p\\u0281\", \"dera :: \\u0259\\u0281a#\", \"dera :: \\u026ad\\u0259\\u0281\", \"era :: d\\u0259\\u0281a\", \"dera :: \\u0259\\u0281a\", \"der :: \\u0259\\u0281a#\", \"rai :: d\\u0259\\u0281a\", \"erai :: d\\u0259\\u0281\", \"der :: d\\u0259\\u0281a\", \"dera :: d\\u0259\\u0281a\", \"der :: \\u0259\\u0281a\", \"era :: d\\u0259\\u0281\", \"dera :: \\u0281a#\", \"dera :: d\\u0259\\u0281\", \"#d\\u00e9c :: eka\", \"der :: d\\u0259\\u0281\", \"der :: \\u0281a#\", \"acco :: ak\\u028a\", \"#re :: #\\u0281\\u0259p\", \"rai :: \\u0281a#\", \"ra# :: \\u0259\\u0281\\u0254\", \"#rep :: \\u0281\\u0259p\", \"rai :: \\u0259\\u0281a#\", \"era :: \\u0281a#\", \"era :: #de\", \"erai :: \\u0259\\u0281a\", \"era :: \\u0259\\u0281a#\", \"era :: \\u0259\\u0281a\", \"rai :: \\u0259\\u0281a\", \"erai :: \\u0259\\u0281a#\", \"erai :: \\u0281a#\", \"#d\\u00e9 :: #de\", \"era :: \\u0259\\u0281\\u0254#\", \"era :: \\u0259\\u0281\\u0254\", \"#re :: #\\u0281\\u0259\", \"nan :: \\u0272\\u00e3\\u0169\\u032f\", \"gna :: \\u032ft#\", \"m\\u00e8re :: a\\u0281#\", \"ssa :: gl\\u026as\", \"ante :: \\u0169\\u032ft\", \"nant :: \\u0272\\u00e3\\u0169\", \"ent :: la\\u0281#\", \"te# :: \\u00e3\\u0169\\u032f\", \"ante :: \\u0169\\u032ft#\", \"diff :: \\u0361z\\u026a\", \"#dif :: d\\u0361z\\u026a\", \"gent :: \\u0292\\u0251\\u0303\", \"#di :: z\\u026af\", \"dif :: #d\\u0361\", \"diff :: #d\\u0361\", \"dif :: \\u0361z\\u026a\", \"ilib :: ek\\u026al\", \"nt# :: ta\\u0281#\", \"ren :: ta\\u0281#\", \"ante :: \\u032ft#\", \"#dif :: \\u0361z\\u026a\", \"iff :: \\u0361z\\u026a\", \"nte :: \\u00e3\\u0169\\u032ft\", \"cara :: a\\u0281a\", \"era :: z\\u0259\\u0281\\u0254\", \"ante :: \\u00e3\\u0169\\u032f\", \"#dif :: #d\\u0361z\", \"#dif :: z\\u026af\", \"gna :: \\u00e3\\u0169\\u032ft\", \"iff :: \\u0361z\\u026af\", \"t\\u00e8re :: ta\\u0281#\", \"nte :: \\u0169\\u032ft\", \"nte :: \\u0169\\u032ft#\", \"nte :: \\u00e3\\u0169\\u032f\", \"sera :: \\u0259\\u0281\\u0254\", \"ren :: ta\\u0281\", \"te# :: \\u00e3\\u0169\\u032ft\", \"\\u00e8ren :: ta\\u0281#\", \"ant :: \\u00e3\\u0169\\u032f\", \"nte# :: \\u0169\\u032ft#\", \"ant :: \\u032ft#\", \"ent# :: a\\u0281#\", \"ent :: a\\u0281#\", \"ren :: a\\u0281#\", \"rent :: a\\u0281#\", \"\\u00e8ren :: a\\u0281#\", \"nt# :: a\\u0281#\", \"nte :: \\u032ft#\", \"ant :: \\u0169\\u032ft\", \"\\u00e8re :: a\\u0281#\", \"rent :: ta\\u0281\", \"\\u00e8ren :: ta\\u0281\", \"era :: \\u0259\\u0281\\u0254#\", \"era :: \\u0259\\u0281\\u0254\", \"era :: \\u0281\\u0254#\", \"ante :: \\u00e3\\u0169\\u032ft\", \"ras# :: \\u0259\\u0281\\u0254#\", \"t\\u00e8r :: a\\u0281#\", \"och\\u00e2 :: \\u0283am\", \"\\u00e2me :: \\u0254\\u032f\\u0283a\", \"es# :: \\u032f\\u0283am\", \"h\\u00e2me :: \\u0254\\u032f\\u0283\", \"mes :: \\u0254\\u032f\\u0283a\", \"mes# :: \\u0283am#\", \"m\\u00e9d :: med\\u0361\", \"m\\u00e9d :: #med\", \"rab :: abj\\u0251\", \"#m\\u00e9 :: d\\u0361z\", \"och :: \\u032f\\u0283am\", \"pil :: sp\\u026a\", \"\\u00e2me :: \\u0251\\u0254\\u032f\\u0283\", \"tres :: t\\u0281as\", \"ouch :: #m\\u028a\", \"\\u00e2mes :: \\u032f\\u0283a\", \"#m\\u00e9 :: #med\", \"biot :: j\\u0251\\u0254\\u032f\", \"es# :: \\u0283am#\", \"\\u00e2mes :: \\u0283am#\", \"ch\\u00e2 :: am#\", \"h\\u00e2m :: \\u032f\\u0283a\", \"\\u00e9du :: ed\\u0361\", \"mes :: \\u0283am#\", \"#m\\u00e9d :: med\\u0361\", \"#m\\u00e9d :: d\\u0361z\", \"m\\u00e9d :: d\\u0361z\", \"och :: \\u032f\\u0283a\", \"och :: \\u0251\\u0254\\u032f\\u0283\", \"mes :: \\u032f\\u0283a\", \"och :: \\u0283am#\", \"h\\u00e2me :: am#\", \"och :: \\u0251\\u0254\\u032f\", \"\\u00e9du :: \\u0361z\\u028f\", \"och :: \\u0254\\u032f\\u0283\", \"och :: \\u0254\\u032f\\u0283a\", \"\\u00e2mes :: am#\", \"h\\u00e2m :: am#\", \"ch\\u00e2 :: \\u0251\\u0254\\u032f\", \"\\u00e2me :: am#\", \"mes# :: am#\", \"es# :: am#\", \"mes :: am#\", \"es# :: sam\", \"es# :: \\u0251\\u0254\\u032f\", \"#m\\u00e9 :: #me\", \"ras# :: t\\u0259\\u0281\\u0254\", \"\\u00e2me :: \\u0251\\u0254\\u032f\", \"\\u00e8ren :: a\\u0281#\", \"ras# :: \\u0281\\u0254#\", \"asse :: t\\u0281as\", \"sen :: \\u0254\\u032fl\", \"lam :: lam\", \"mes# :: #k\\u00f5\\u0169\", \"iss :: \\u026as\\u026a\", \"er# :: #\\u0281a\", \"infe :: \\u1ebd\\u0129\\u032f\", \"sig :: i\\u0272al\", \"d\\u00e9fr :: def\\u0281\", \"rec :: as#\", \"\\u00e9fri :: ef\\u0281\", \"surs :: \\u028f\\u0281s\", \"sent :: \\u0281as\", \"ts# :: #p\\u0281\", \"cha :: \\u0283\\u0254#\", \"rass :: t\\u0281as\", \"tras :: as#\", \"ssen :: \\u0281as#\", \"rta :: #pa\", \"it# :: \\u0259na#\", \"ast :: \\u0361s\\u026a\", \"\\u00e9ra :: \\u0281as\", \"use :: t\\u00f8z#\", \"ass :: #al\", \"stas :: asta\", \"es# :: \\u0281\\u026av\", \"rass :: \\u0281as#\", \"ent# :: \\u0281as#\", \"issi :: \\u026as\\u026a\", \"prop :: \\u0254\\u032fp\", \"ras :: \\u0281as#\", \"ras :: as#\", \"rass :: e\\u0281as\", \"rass :: as#\", \"asse :: \\u0281as#\", \"sse :: \\u0281as#\", \"ass :: \\u0281as#\", \"nt# :: \\u0281as\", \"sen :: \\u0281as#\", \"ent :: \\u0281as\", \"asse :: \\u0281as\", \"rass :: \\u0281as\", \"ass :: as#\", \"ent :: as#\", \"ssen :: as#\", \"ent# :: as#\", \"sse :: \\u0281as\", \"ras :: \\u0281as\", \"asse :: as#\", \"sse :: as#\", \"sen :: as#\", \"nt# :: as#\", \"sent :: as#\", \"ass :: \\u0281as\", \"#d\\u00e9 :: #de\", \"ill :: \\u0281a#\", \"#pa :: #pa\", \"ste :: #s\\u028fs\", \"andi :: \\u0251\\u0303d\", \"tai# :: #de\", \"#pla :: plaz\", \"#gra :: #g\\u0281\", \"dit :: \\u0281eed\", \"ndi :: \\u0281\\u0251\\u0303d\", \"arb :: ka\\u0281b\", \"gra :: #g\\u0281\", \"ssa :: \\u0254\\u032fsa\", \"ndi :: \\u0251\\u0303d\", \"andi :: \\u0303d\\u0361z\", \"lais :: #pl\", \"gret :: \\u0281\\u0259g\", \"isa :: #pla\", \"ndi :: \\u0251\\u0303d\\u0361\", \"#mal :: alt\", \"ais :: #pla\", \"#re :: \\u0281\\u0259g\\u0281\", \"ges# :: ta\\u0292\", \"\\u00e9es# :: l\\u026aze\", \"per :: \\u0281\\u0251\\u0254\", \"it# :: d\\u0361z\", \"and :: g\\u0281\\u0251\\u0303\", \"#d\\u00e9n :: ene\\u0292\", \"lais :: plaz\", \"\\u00e2mes :: #\\u0251\\u0303\", \"ais :: pla\", \"ff\\u00fbt :: f\\u028ft\", \"mal :: alt\", \"ndi :: \\u0303d\\u0361\", \"ndi :: \\u0303d\\u0361z\", \"san :: \\u00e3\\u0169\\u032ft\", \"nte# :: \\u0169\\u032ft\", \"nt\\u00e9e :: \\u0251\\u0303t\", \"nte# :: \\u00e3\\u0169\\u032ft\", \"#gr :: #g\\u0281\", \"te# :: \\u00e3\\u0169\\u032f\", \"ndi :: d\\u0361z\", \"\\u00e9dit :: d\\u0361z\\u026a\", \"#reg :: #\\u0281\\u0259g\", \"lant :: l\\u00e6\\u0303\", \"sonn :: \\u032fne\", \"nte# :: \\u032ft#\", \"ant :: \\u0169\\u032ft\", \"#gr :: g\\u0281a\", \"ante :: \\u00e3\\u0169\\u032f\", \"ante :: \\u032ft#\", \"ante :: \\u0169\\u032ft#\", \"ante :: \\u0169\\u032ft\", \"nt# :: \\u00e6\\u0303#\", \"oir :: wa\\u0281#\", \"oir :: wa\\u0281\", \"nte :: \\u032ft#\", \"\\u00e2mes :: am#\", \"ant :: \\u00e3\\u0169\\u032ft\", \"#re :: #\\u0281\\u0259\", \"nte :: \\u00e3\\u0169\\u032ft\", \"ant :: \\u00e3\\u0169\\u032f\", \"ant :: \\u0169\\u032ft#\", \"visa :: v\\u026az\", \"vis :: v\\u026az\", \"empr :: #\\u0251\\u0303p\", \"isa :: v\\u026aza\", \"anie :: nje#\", \"vis :: v\\u026aza\", \"#emp :: p\\u0281e\", \"#d\\u00e9 :: det\\u0259\", \"visa :: v\\u026aza\", \"gno :: \\u0169\\u032f#\", \"#env :: #\\u0251\\u0303\", \"env :: #\\u0251\\u0303v\", \"mpre :: p\\u0281e\", \"ns# :: \\u0272\\u00f5\\u0169\\u032f\", \"bro :: \\u0281\\u0251\\u0254\\u032f\", \"visa :: \\u026aza\", \"#env :: #\\u0251\\u0303v\", \"isa :: v\\u026az\", \"hic :: kan\", \"mpr :: p\\u0281e\", \"igno :: \\u00f5\\u0169\\u032f\", \"envi :: \\u0251\\u0303v\\u026a\", \"#emp :: esa\", \"emp :: p\\u0281es\", \"ond :: m\\u00f5\\u0169\\u032f\", \"#env :: \\u0303v\\u026a\", \"env :: #\\u0251\\u0303\", \"ent# :: v\\u026aza\", \"vis :: \\u026aza\", \"sif :: fals\", \"d\\u00e9te :: eta\", \"sse :: zas\", \"#en :: \\u0251\\u0303v\", \"#en :: #\\u0251\\u0303v\", \"ire :: \\u0361s\\u026a\\u0281\", \"sas :: as#\", \"#em :: #\\u0251\\u0303p\", \"#d\\u00e9t :: det\", \"#emp :: #\\u0251\\u0303p\", \"emp :: #\\u0251\\u0303\", \"#emp :: #\\u0251\\u0303\", \"#d\\u00e9 :: #det\", \"#emp :: \\u0251\\u0303p\", \"#em :: \\u0251\\u0303p\", \"emp :: #\\u0251\\u0303p\", \"#en :: #\\u0251\\u0303\", \"#em :: #\\u0251\\u0303\", \"sse :: as#\", \"ass :: as#\", \"emp :: \\u0251\\u0303p\", \"asse :: as#\", \"#env :: \\u0251\\u0303v\", \"sass :: as#\", \"env :: \\u0251\\u0303v\", \"#d\\u00e9 :: #de\", \"t\\u00eate :: tat\", \"\\u00eate :: tat\", \"rai :: v\\u0259\\u0281a\", \"t\\u00eat :: tat\", \"#en :: #\\u0251\\u0303t\", \"ress :: t\\u0281as\", \"nfou :: \\u0251\\u0303f\", \"ien :: \\u026ama\", \"t\\u00eate :: #\\u0251\\u0303t\", \"#ent :: #\\u0251\\u0303\", \"la\\u00e7a :: sa#\", \"#en :: \\u0251\\u0303t\", \"ss\\u00e9 :: \\u0281as\", \"vera :: \\u0259\\u0281a#\", \"vera :: \\u0259\\u0281a\", \"\\u00eate :: \\u0303ta\", \"#en :: tat\", \"tres :: #t\\u0281a\", \"idez :: \\u026ade#\", \"leu :: \\u0281\\u0259\\u0281\", \"tent :: \\u032ft#\", \"xpi :: #ak\", \"ent :: \\u026ama\", \"#ent :: #\\u0251\\u0303t\", \"ond\\u00e9 :: de#\", \"#gas :: asp\", \"#tre :: #t\\u0281a\", \"ress :: se#\", \"ous :: m\\u028as\", \"tres :: t\\u0281a\", \"tre :: \\u0281as\", \"#ent :: \\u0251\\u0303t\", \"ent :: #\\u0251\\u0303t\", \"#tre :: #t\\u0281\", \"ent# :: \\u026ama\", \"vera :: v\\u0259\\u0281\", \"tre :: #t\\u0281\", \"era :: v\\u0259\\u0281a\", \"#en :: #\\u0251\\u0303f\", \"#en :: #\\u0251\\u0303\", \"ez# :: \\u0281je#\", \"ent :: \\u0251\\u0303t\", \"ent :: #\\u0251\\u0303\", \"rie :: \\u0281je#\", \"rai :: \\u0281a#\", \"riez :: \\u0281je\", \"rais :: \\u0281a#\", \"ez# :: je#\", \"era :: \\u0281a#\", \"erai :: \\u0281a#\", \"riez :: \\u0281je#\", \"erai :: \\u0259\\u0281a#\", \"ais :: \\u0281a#\", \"rai :: \\u0259\\u0281a\", \"#tr :: #t\\u0281\", \"era :: \\u0259\\u0281a\", \"era :: \\u0259\\u0281a#\", \"rai :: \\u0259\\u0281a#\", \"erai :: \\u0259\\u0281a\", \"iez :: je#\", \"ais# :: \\u0281a#\", \"est :: fast\", \"obse :: \\u032fpsa\", \"ess :: es\\u028f\\u0281\", \"esto :: stw\", \"est :: fas\", \"roch :: \\u0254\\u032f\\u0283\", \"tum :: s\\u028fm\", \"ist :: \\u026asta\", \"hel :: l\\u0251\\u0254\\u032f\", \"ient :: \\u0281\\u0251\\u0254\", \"#fes :: twa\", \"mes# :: dam\", \"d\\u00e9c :: \\u0251\\u0303t\", \"nt# :: \\u0254\\u032ft\\u00e6\", \"cuis :: k\\u0265i\", \"ent# :: eva\", \"anta :: #de\", \"bser :: psa\", \"tum :: \\u0361s\\u028fm\", \"r\\u00e2t# :: \\u0281\\u0254#\", \"#go\\u00fb :: #g\\u028at\", \"\\u00e9ca :: dek\", \"d\\u00e9ca :: dek\\u0251\", \"stoy :: fas\", \"#fe :: waj\", \"ant :: ta#\", \"cco :: ak\\u028a\", \"tes# :: #pa\\u0281\", \"aie :: #ev\", \"erv :: \\u0251\\u0254\\u032f\", \"d\\u00e9ca :: #de\", \"ais :: deka\", \"#d\\u00e9 :: ase\", \"\\u00e9ca :: #dek\", \"r\\u00e9c :: \\u0281a#\", \"#d\\u00e9 :: #dek\", \"ons :: as\\u00f5\\u0169\", \"#d\\u00e9c :: dek\", \"\\u00e9ca :: #de\", \"n\\u00e9e :: ane#\", \"#d\\u00e9c :: #dek\", \"#d\\u00e9 :: dek\", \"#d\\u00e9c :: #de\", \"d\\u00e9c :: dek\", \"d\\u00e9c :: #dek\", \"d\\u00e9ca :: #dek\", \"d\\u00e9c :: #de\", \"d\\u00e9ca :: dek\", \"#d\\u00e9 :: #de\", \"ent :: \\u0303ta#\", \"ant :: \\u00e6\\u0303#\", \"nt# :: \\u00e6\\u0303#\", \"ant# :: \\u00e6\\u0303#\", \"sif :: s\\u026af\", \"nt# :: \\u0251\\u0254\\u032f\", \"nne :: sjan\", \"nne# :: jan\", \"enne :: jan#\", \"flai :: la#\", \"ne# :: sja\", \"ienn :: jan\", \"ent# :: \\u0283\\u0251\\u0303\", \"glo :: gl\\u028a\", \"ffai :: #afe\", \"lou :: #gl\\u028a\", \"enne :: jan\", \"lou :: gl\\u028a\", \"ne# :: an#\", \"ssem :: sm\\u00e6\", \"enn :: sjan\", \"ent# :: la\\u0281\", \"nne :: sja\", \"l\\u00e2m :: lam\", \"ienn :: an#\", \"sem :: m\\u00e6\\u0303#\", \"enn :: sja\", \"nne :: jan#\", \"ien :: an#\", \"#red :: #\\u0281\\u0259\", \"ienn :: jan#\", \"erio :: j\\u00f5\\u0169\", \"ien :: jan\", \"seme :: m\\u00e6\\u0303\", \"enne :: sjan\", \"\\u00e2me :: lam\", \"enn :: an#\", \"ienn :: sjan\", \"nt# :: m\\u00e6\\u0303\", \"ent :: \\u00e6\\u0303#\", \"nne :: an#\", \"dou :: #d\\u028ab\", \"rion :: \\u0169\\u032f#\", \"men :: m\\u00e6\\u0303\", \"ment :: m\\u00e6\\u0303\", \"rio :: \\u0169\\u032f#\", \"ment :: m\\u00e6\\u0303#\", \"ent :: m\\u00e6\\u0303\", \"men :: m\\u00e6\\u0303#\", \"men :: \\u00e6\\u0303#\", \"ent :: m\\u00e6\\u0303#\", \"ment :: \\u00e6\\u0303#\", \"nt# :: \\u00e6\\u0303#\", \"emen :: m\\u00e6\\u0303\", \"eme :: m\\u00e6\\u0303#\", \"enne :: an#\", \"ado :: #\\u0281ad\", \"ons :: \\u0281\\u026a\\u0281\\u00f5\", \"riro :: \\u00f5\\u0169\\u032f#\", \"tou :: t\\u028a\\u0281\", \"t\\u00e9e :: \\u032fte#\", \"rons :: \\u026a\\u0281\\u00f5\\u0169\", \"rons :: \\u0281\\u026a\\u0281\\u00f5\", \"ais :: \\u0251\\u0254\\u032ft\", \"iron :: \\u026a\\u0281\\u00f5\\u0169\", \"#rad :: ad\\u028a\", \"#ra :: \\u0281ad\", \"adou :: \\u0281ad\", \"#da :: #dam\", \"rado :: #\\u0281ad\", \"ais# :: \\u032fta\", \"rado :: \\u0281ad\", \"#chi :: \\u0283ja\", \"#ch :: #\\u0283ja\", \"our :: \\u0281nwa\", \"dou :: #\\u0281ad\", \"gro :: \\u0251\\u0254\\u032f\\u0272\", \"es# :: #m\\u0251\\u0254\", \"adou :: ad\\u028as\", \"rim :: ma#\", \"ais# :: \\u0251\\u0254\\u032ft\", \"dou :: ad\\u028as\", \"rad :: \\u0281ad\\u028a\", \"uci :: \\u028as\\u026a\", \"muti :: \\u0361s\\u026a\", \"nda :: \\u032fda#\", \"douc :: \\u0281ad\", \"#ra :: #\\u0281ad\", \"#re :: klas\", \"ouc :: \\u028as\\u026a\", \"ron :: \\u0281\\u026a\\u0281\", \"iro :: \\u0169\\u032f#\", \"rad :: \\u0281ad\", \"t\\u00eat :: tat#\", \"es# :: a\\u0281d\", \"rons :: \\u00f5\\u0169\\u032f#\", \"ent :: na\\u0281#\", \"nn\\u00e9 :: \\u0254\\u032fn\", \"ifia :: s\\u026af\", \"ns# :: \\u0281\\u00f5\\u0169\\u032f\", \"iron :: \\u026a\\u0281\\u00f5\", \"ons# :: \\u0281\\u00f5\\u0169\", \"ons# :: \\u0281\\u00f5\\u0169\\u032f\", \"rons :: \\u00f5\\u0169\\u032f\", \"rons :: \\u0169\\u032f#\", \"ron :: \\u0169\\u032f#\", \"ons :: \\u0281\\u00f5\\u0169\\u032f\", \"ons# :: \\u0169\\u032f#\", \"ons :: \\u0281\\u00f5\\u0169\", \"ns# :: \\u0281\\u00f5\\u0169\", \"rons :: \\u0281\\u00f5\\u0169\", \"rons :: \\u0281\\u00f5\\u0169\\u032f\", \"ron :: \\u0281\\u00f5\\u0169\\u032f\", \"#d\\u00e9 :: #de\", \"ron :: \\u0281\\u00f5\\u0169\", \"ron :: \\u00f5\\u0169\\u032f#\", \"ns# :: \\u0169\\u032f#\", \"ons# :: \\u00f5\\u0169\\u032f#\", \"ron :: \\u00f5\\u0169\\u032f\", \"ons :: \\u00f5\\u0169\\u032f#\", \"ons# :: \\u00f5\\u0169\\u032f\", \"ns# :: \\u00f5\\u0169\\u032f#\", \"ns# :: \\u00f5\\u0169\\u032f\", \"ons :: \\u00f5\\u0169\\u032f\", \"ons :: \\u0169\\u032f#\", \"nia :: #nj\", \"rem :: \\u0281\\u0259ma\", \"tel :: #d\\u0251\", \"r\\u00e9vi :: #p\\u0281e\", \"enai :: v\\u0259na\", \"#re :: \\u0281\\u0259ma\", \"erd :: ma\\u0281\", \"#rem :: \\u0259ma\\u0281\", \"#gu\\u00e9 :: e\\u0281\\u026a\", \"br\\u00e9 :: \\u0251\\u0303b\", \"#d\\u00e9 :: ega\", \"rema :: \\u0259ma\", \"#\\u00e9t :: t\\u0251\\u0303\", \"lop :: gal\", \"vena :: na#\", \"merd :: \\u0251\\u0303ma\", \"mer :: a\\u0281d\", \"enn :: an#\", \"#rem :: \\u0281\\u0259ma\", \"rema :: #\\u0281\\u0259m\", \"anc :: t\\u0251\\u0303\", \"#re :: ma\\u0281\", \"#rim :: #\\u0281\\u026am\", \"ienn :: an#\", \"mer :: #\\u0251\\u0303m\", \"uras :: \\u0281as\", \"uil :: #t\\u0281\\u0153\", \"ema :: \\u0259ma\", \"#spo :: \\u0251\\u0254\\u032fl\", \"enne :: jan#\", \"ubv :: \\u028fbv\", \"rri :: a\\u0281\\u026a\", \"sent :: \\u0281\\u026af\", \"#re :: \\u0259ma\", \"#rem :: \\u0259ma\", \"#rem :: \\u0281\\u0259m\", \"ien :: jan#\", \"enn :: jan#\", \"#rem :: #\\u0281\\u0259\", \"les :: al#\", \"#su :: s\\u028fb\", \"enn :: jan\", \"#rem :: #\\u0281\\u0259m\", \"#re :: #\\u0281\\u0259m\", \"rem :: #\\u0281\\u0259m\", \"sub :: #s\\u028fb\", \"#re :: #\\u0281\\u0259\", \"rem :: #\\u0281\\u0259\", \"rem :: \\u0281\\u0259m\", \"#re :: \\u0281\\u0259m\", \"#vi :: #v\\u026a\", \"ond :: \\u00f5\\u0169\\u032f\", \"ond :: \\u0169\\u032fd\", \"nd\\u00e9e :: \\u00f5\\u0169\\u032f\", \"nne :: ne#\", \"d\\u00e9e :: \\u0169\\u032fde\", \"nd\\u00e9 :: \\u0169\\u032fde\", \"ond :: \\u032fde\", \"d\\u00e9e :: \\u0169\\u032fd\", \"#fon :: f\\u00f5\\u0169\", \"ond\\u00e9 :: \\u032fde\", \"d\\u00e9e# :: \\u0169\\u032fd\", \"ond :: de#\", \"d\\u00e9e :: \\u00f5\\u0169\\u032f\", \"nd\\u00e9e :: \\u0169\\u032fde\", \"ond :: \\u00f5\\u0169\\u032fd\", \"d\\u00e9e :: \\u00f5\\u0169\\u032fd\", \"ond\\u00e9 :: de#\", \"d\\u00e9e# :: \\u00f5\\u0169\\u032fd\", \"nne :: \\u0254\\u032fne\", \"\\u00e9nu :: ten\", \"ins# :: \\u1ebd\\u0129\\u032f#\", \"assi :: pasj\", \"ond :: \\u0169\\u032fde\", \"nd\\u00e9e :: \\u0169\\u032fd\", \"\\u00e9e# :: \\u0169\\u032fde\", \"nd\\u00e9e :: \\u032fde\", \"fond :: \\u00f5\\u0169\\u032f\", \"ond :: \\u032fde#\", \"ond\\u00e9 :: \\u00f5\\u0169\\u032f\", \"nd\\u00e9 :: \\u032fde\", \"ins :: \\u1ebd\\u0129\\u032f#\", \"ouss :: \\u028asa#\", \"pas :: pas\", \"onn :: \\u032fne#\", \"onn :: \\u0254\\u032fne\", \"onne :: \\u0254\\u032fne\", \"onn :: ne#\", \"t\\u00e9nu :: ten\", \"onn :: \\u032fne\", \"ins# :: \\u0129\\u032f#\", \"rs# :: \\u0153\\u0281#\", \"iez# :: sje#\", \"ssie :: sje#\", \"ez# :: sje#\", \"ez# :: sje\", \"onn :: \\u0254\\u032fn\", \"iez# :: sje\", \"sie :: je#\", \"iez :: sje\", \"siez :: sje\", \"ssie :: sje\", \"sie :: sje#\", \"iez :: je#\", \"ssi :: sje\", \"siez :: je#\", \"ssie :: je#\", \"iez# :: je#\", \"ez# :: je#\", \"iez :: sje#\", \"onn :: \\u0251\\u0254\\u032f\", \"sie :: sje\", \"ouil :: j\\u0254#\", \"ill :: \\u028aj\\u0254\", \"#fa :: fab\", \"uil :: \\u028aj\\u0254#\", \"las :: j\\u0254#\", \"uill :: \\u028aj\\u0254\", \"oup :: \\u0281\\u0259k\\u028a\", \"uill :: j\\u0254#\", \"las :: \\u028aj\\u0254\", \"illa :: \\u028aj\\u0254#\", \"lla :: j\\u0254#\", \"erm :: fa\\u0281\", \"paul :: epol\", \"#fab :: fab\\u028f\", \"ouil :: \\u028aj\\u0254\", \"#\\u00e9qu :: #ek\", \"lla :: \\u028aj\\u0254#\", \"oui :: \\u028aj\\u0254\", \"ffe :: fa\\u0281\", \"de# :: a\\u0281d\", \"llas :: \\u028aj\\u0254\", \"lla :: \\u028aj\\u0254\", \"ifi :: t\\u0281\\u026af\", \"ferm :: fa\\u0281\", \"reb :: \\u0259b\\u0281\", \"las :: \\u028aj\\u0254#\", \"as# :: \\u028aj\\u0254#\", \"ent# :: \\u0259la#\", \"las :: #ma\", \"ill :: \\u0281\\u026aj\", \"assu :: as\\u028f\\u0281\", \"#\\u00e9p :: ep\\u028a\", \"qu\\u00e9 :: \\u026ake\", \"illa :: j\\u0254#\", \"ferm :: a\\u0281m\", \"l\\u00e2t :: at#\", \"trai :: #\\u0281\\u0259\", \"tes# :: lat\", \"ill :: j\\u0254#\", \"es# :: #\\u0251\\u0303\", \"rait :: j\\u0259\\u0281\", \"as# :: j\\u0254#\", \"sse :: as#\", \"ant :: \\u00e6\\u0303#\", \"sse# :: as#\", \"asse :: as#\", \"ass :: jas#\", \"ass :: as#\", \"\\u00e2tes :: lat\", \"erm :: a\\u0281m\", \"#li :: #l\\u026ak\", \"ent :: g\\u028at\", \"asse :: fas#\", \"ais :: \\u0251\\u0254\\u032f\\u0281\", \"ffas :: fas#\", \"fas :: fas#\", \"sse :: fas\", \"oul :: \\u0281\\u028al\", \"fas :: \\u026afas\", \"fas :: fas\", \"asse :: fas\", \"cisa :: #s\\u026az\", \"fass :: fas#\", \"\\u00e8ren :: \\u026ala\", \"vici :: \\u026asj\", \"fass :: as#\", \"#ro :: #\\u0281\\u028al\", \"ffas :: as#\", \"ndas :: \\u00f5\\u0169\\u032fd\", \"ait# :: #sa\", \"ais# :: za#\", \"nda :: \\u0169\\u032fd\", \"#liq :: l\\u026ak\", \"#liq :: #l\\u026ak\", \"fas :: \\u028afas\", \"ndas :: \\u032fda\", \"uffa :: \\u028afa\", \"tte :: \\u0254\\u032fma\", \"ffas :: \\u028afa\", \"sse :: fas#\", \"ass :: fas\", \"fass :: fas\", \"sur :: \\u0281\\u0259\\u0281\", \"\\u00e9po :: #dep\", \"rec :: \\u0281a#\", \"fas :: as#\", \"ssa :: #\\u0281as\", \"eur :: l\\u0153\\u0281\", \"ass :: fas#\", \"rou :: #\\u0281\\u028a\", \"#\\u00e9t :: #et\", \"sse :: as#\", \"ssie :: sje\", \"ass :: asje\", \"ssi :: sje\", \"ez# :: je#\", \"asse :: as#\", \"ez# :: asj\", \"ass :: as#\", \"sie :: sje#\", \"iez :: je#\", \"iez# :: je#\", \"iez :: sje\", \"ssie :: je#\", \"sie :: sje\", \"sie :: asje\", \"iez :: sje#\", \"siez :: sje\", \"i\\u00e8r :: ja\\u0281\", \"\\u00e9su :: \\u0281ez\", \"#re :: k\\u028ap\", \"re# :: ka\\u0281\", \"rent :: #\\u1ebd\\u0129\", \"lass :: as\\u0259\\u0281\", \"i\\u00e8re :: lja\\u0281\", \"v\\u00e9n\\u00e9 :: ene\", \"our :: #ak\", \"res# :: lja\\u0281\", \"#\\u00e9vi :: v\\u026at\", \"ugn :: #\\u0281ep\", \"es# :: ja\\u0281#\", \"reco :: #\\u0281\\u0259\", \"i\\u00e8re :: ja\\u0281\", \"li\\u00e8r :: a\\u0281#\", \"n\\u00e7a :: \\u0281\\u0251\\u0303\", \"#biz :: \\u026az\\u028ft\", \"\\u00e8re :: ja\\u0281#\", \"i\\u00e8re :: a\\u0281#\", \"#d\\u00e9b :: eb\\u0281e\", \"r\\u00e9s :: ez\\u028fm\", \"t\\u00e2m :: \\u0251\\u0254\\u032f\", \"eco :: #\\u0281\\u0259k\", \"i\\u00e8re :: lja\", \"d\\u00e9br :: b\\u0281e\", \"res :: lja\", \"#pra :: p\\u0281a\", \"res# :: ja\\u0281#\", \"u\\u00e9r :: #ge\", \"i\\u00e8r :: ja\\u0281#\", \"\\u00e8re :: ja\\u0281\", \"i\\u00e8r :: a\\u0281#\", \"i\\u00e8re :: ja\\u0281#\", \"d\\u00e9g :: ega\\u0281\", \"#ch :: #\\u0283a\\u0281\", \"eco :: #\\u0281\\u0259\", \"\\u00e9su :: ez\\u028fm\", \"res :: a\\u0281#\", \"res# :: a\\u0281#\", \"#be :: #b\\u0259\", \"nt# :: m\\u0251\\u0254\", \"rec :: \\u0281\\u0259k\", \"#ar :: #a\\u0281\", \"#r\\u00e9 :: #\\u0281e\", \"\\u00e8re :: a\\u0281#\", \"#re :: #\\u0281\\u0259\", \"sse :: as#\", \"ass :: as#\", \"asse :: as#\", \"ling :: l\\u1ebd\\u0129\\u032f\", \"anac :: #\\u0251\\u0303p\", \"lin :: l\\u1ebd\\u0129\", \"r\\u00e9s :: eza\", \"\\u00e9ser :: za\\u0281\", \"ling :: l\\u1ebd\\u0129\", \"lin :: \\u1ebd\\u0129\\u032fg\", \"ling :: \\u1ebd\\u0129\\u032fg\", \"rga :: \\u0281ga\", \"ing :: l\\u1ebd\\u0129\", \"ian :: fj\\u00e6\", \"r\\u00e9se :: \\u0281ez\", \"eus :: t\\u00f8z#\", \"r\\u00e9se :: za\\u0281v\", \"#\\u00e9c :: \\u0281a#\", \"r\\u00e9se :: eza\", \"rei :: #et\\u0281\", \"pr\\u00e9s :: #p\\u0281\", \"ling :: \\u0283l\\u1ebd\\u0129\", \"\\u00e9se :: za\\u0281v\", \"chli :: l\\u1ebd\\u0129\", \"chl :: l\\u1ebd\\u0129\", \"ser :: za\\u0281v\", \"ian :: fj\\u00e6\\u0303\", \"ingu :: l\\u1ebd\\u0129\\u032f\", \"ngu :: l\\u1ebd\\u0129\\u032f\", \"fian :: fj\\u00e6\", \"r\\u00e9se :: eza\\u0281\", \"r\\u00e9s :: za\\u0281\", \"ling :: \\u1ebd\\u0129\\u032f\", \"rer :: \\u032f\\u0281\\u0259\\u0281\", \"\\u00e9se :: \\u0281ez\", \"lin :: \\u0129\\u032fg\", \"ngu :: \\u1ebd\\u0129\\u032f\", \"#fr :: \\u0281\\u026ak\", \"urt :: \\u0281ta\", \"ser :: eza\", \"eman :: #\\u0281\\u0259\", \"ingu :: #\\u0283l\", \"teus :: t\\u00f8z#\", \"eus :: t\\u00f8z\", \"ian :: \\u00e6\\u0303#\", \"pr\\u00e9s :: p\\u0281e\", \"ent :: k\\u0251\\u0254\\u032f\", \"r\\u00e9s :: \\u0281ez\", \"ses# :: \\u00f8z#\", \"eus :: \\u00f8z#\", \"euse :: \\u00f8z#\", \"ass :: ase\", \"cheu :: \\u00f8z#\", \"use :: \\u00f8z#\", \"ons# :: \\u0169\\u032f#\", \"ent# :: \\u0251\\u0254\\u032f\", \"cul :: \\u028fle#\", \"d\\u00e9co :: k\\u0251\\u0254\", \"#ver :: va\\u0281d\", \"ode :: k\\u0251\\u0254\", \"d\\u00e9co :: k\\u0251\\u0254\\u032f\", \"\\u00e9co :: ek\\u0251\\u0254\", \"d\\u00e9co :: dek\\u0251\", \"#d\\u00e9c :: \\u0251\\u0254\\u032f\", \"\\u00e9co :: k\\u0251\\u0254\", \"#ver :: a\\u0281d\", \"d\\u00e9c :: \\u0251\\u0254\\u032f\", \"erdo :: \\u0281dwa\", \"erdo :: a\\u0281dw\", \"\\u00e9co :: dek\\u0251\", \"rdo :: a\\u0281d\", \"verd :: dwa\", \"ircu :: #s\\u026a\", \"ver :: a\\u0281d\", \"#ve :: a\\u0281dw\", \"verd :: \\u0281dw\", \"hapo :: #\\u0283a\", \"#d\\u00e9c :: k\\u0251\\u0254\\u032f\", \"isse :: ev\\u026a\", \"cod :: ek\\u0251\", \"#d\\u00e9 :: dek\\u0251\", \"ode :: k\\u0251\\u0254\\u032f\", \"#d\\u00e9 :: k\\u0251\\u0254\\u032f\", \"d\\u00e9c :: k\\u0251\\u0254\\u032f\", \"\\u00e9co :: ek\\u0251\", \"ote :: j\\u0251\\u0254\\u032f\", \"#d\\u00e9 :: k\\u0251\\u0254\", \"niez :: je#\", \"d\\u00e9co :: #de\", \"#d\\u00e9c :: dek\\u0251\", \"#d\\u00e9c :: ek\\u0251\\u0254\", \"\\u00e9co :: #de\", \"d\\u00e9co :: ek\\u0251\", \"#pa :: a\\u0281f\\u028f\", \"#ve :: #va\\u0281\", \"\\u00e9co :: k\\u0251\\u0254\\u032f\", \"#ve :: #va\", \"ver :: va\\u0281\", \"d\\u00e9c :: #dek\", \"#d\\u00e9c :: #de\", \"d\\u00e9c :: #de\", \"#d\\u00e9 :: #de\", \"\\u00e9co :: dek\", \"d\\u00e9c :: ek\\u0251\\u0254\", \"#d\\u00e9c :: dek\", \"d\\u00e9c :: dek\", \"d\\u00e9co :: #dek\", \"ist :: \\u0281\\u026as\", \"rad\\u00e9 :: ade#\", \"hape :: \\u0254\\u032fn\", \"nn\\u00e2t :: n\\u0254#\", \"nn\\u00e2 :: n\\u0254#\", \"pero :: #\\u0283ap\", \"galo :: \\u0251\\u0254\\u032fp\", \"#cha :: \\u0254\\u032fn\", \"#ga :: gal\\u0251\", \"ron :: #\\u0283a\", \"eron :: p\\u0281\\u0251\", \"#d\\u00e9f :: f\\u0281\\u026a\", \"ero :: p\\u0281\\u0251\\u0254\", \"ili :: ek\\u026a\", \"#ch :: p\\u0281\\u0251\\u0254\", \"ape :: p\\u0281\\u0251\\u0254\", \"uil :: k\\u026al\\u026a\", \"n\\u00e2t :: \\u0251\\u0254\\u032f\", \"nn\\u00e2t :: \\u0254\\u032fn\\u0254\", \"alop :: al\\u0251\\u0254\", \"ape :: p\\u0281\\u0251\", \"n\\u00e2t# :: \\u0251\\u0254\\u032f\", \"lib :: \\u026al\\u026a\", \"quil :: ek\\u026a\", \"\\u00e2t# :: \\u032fn\\u0254#\", \"ron :: #\\u0283ap\", \"#fal :: fal\", \"lop :: \\u032fpa\", \"mbr :: b\\u0281az\", \"onn :: p\\u0281\\u0251\", \"rit :: \\u026ate#\", \"onn\\u00e2 :: \\u032fn\\u0254\", \"gal :: #ga\", \"sse :: \\u0281\\u00f5\\u0169\", \"chap :: \\u0251\\u0254\\u032fn\", \"but :: b\\u028ft\", \"iste :: \\u026as#\", \"aci :: \\u026ate\", \"is\\u00e9 :: \\u026aze\", \"onn :: \\u0283ap\", \"ppl :: s\\u028fpl\", \"onn :: n\\u0254#\", \"lis\\u00e9 :: \\u026aze\", \"rez :: \\u0281e#\", \"onn :: \\u032fn\\u0254\", \"onn :: \\u0251\\u0254\\u032fn\", \"onn :: \\u0251\\u0254\\u032f\", \"onn :: \\u0254\\u032fn\", \"in\\u00e9 :: ne#\", \"#d\\u00e9 :: #de\", \"#cha :: #\\u0283a\", \"tion :: \\u026aks\", \"#mi :: #m\\u026ak\", \"ion :: ksj\\u00f5\", \"luc :: #epl\", \"\\u00e9pl :: l\\u028f\\u0283\", \"luch :: #epl\", \"ctio :: ksj\", \"luc :: epl\\u028f\", \"nac :: \\u0251\\u0303p\", \"tio :: ksj\\u00f5\", \"tion :: ksj\", \"\\u00e9pl :: pl\\u028f\", \"ons :: ksj\", \"#\\u00e9pl :: #ep\", \"ion :: ksj\", \"#\\u00e9p :: epl\\u028f\", \"rir :: \\u0283e\\u0281\\u026a\", \"tion :: ksj\\u00f5\", \"#mix :: m\\u026ak\", \"don :: \\u00f5\\u0169\\u032f#\", \"#\\u00e9p :: epl\", \"tio :: ksj\", \"cti :: ksj\\u00f5\", \"#mi :: m\\u026aks\", \"tio :: \\u0169\\u032f#\", \"luch :: pl\\u028f\\u0283\", \"luc :: #ep\", \"cti :: sj\\u00f5\\u0169\", \"ctio :: sj\\u00f5\\u0169\", \"pluc :: l\\u028f\\u0283\", \"cti :: \\u00f5\\u0169\\u032f\", \"#\\u00e9p :: pl\\u028f\\u0283\", \"#bo :: \\u00f5\\u0169\\u032f#\", \"ion :: \\u026aks\", \"#mi :: m\\u026ak\", \"mons :: m\\u00f5\\u0169\", \"ns# :: m\\u00f5\\u0169\", \"#mi :: #m\\u026a\", \"rais :: k\\u0281a\", \"ion :: sj\\u00f5\\u0169\", \"ons :: \\u0169\\u032f#\", \"ns# :: \\u00f5\\u0169\\u032f\", \"ns# :: \\u00f5\\u0169\\u032f#\", \"ons :: \\u00f5\\u0169\\u032f\", \"ons# :: \\u0169\\u032f#\", \"ons# :: \\u00f5\\u0169\\u032f\", \"ns# :: \\u0169\\u032f#\", \"ons :: \\u00f5\\u0169\\u032f#\", \"ons# :: \\u00f5\\u0169\\u032f#\", \"tion :: \\u00f5\\u0169\\u032f#\", \"ion :: \\u0169\\u032f#\", \"ion :: sj\\u00f5\", \"ion :: j\\u00f5\\u0169\\u032f\", \"ion :: \\u00f5\\u0169\\u032f#\", \"ion :: j\\u00f5\\u0169\", \"ion :: \\u00f5\\u0169\\u032f\", \"ions :: sj\\u00f5\", \"ass :: \\u026alas\", \"ass :: #as\\u026a\", \"#ass :: as\\u026a\", \"gela :: \\u0259l\\u0254\", \"rir :: \\u0169\\u032f#\", \"ass :: \\u026ala\", \"ila :: m\\u026al\", \"ass :: as\\u026a\", \"tes :: \\u0129\\u032ft\", \"#chu :: \\u0283\\u028f\\u0283\\u0251\", \"ssi :: s\\u026am\\u026a\", \"nrub :: \\u0251\\u0303\\u0281\", \"oug :: bu\\u0292\", \"assi :: #as\\u026a\", \"ssi :: as\\u026a\", \"ren :: #ma\", \"tru :: t\\u0281\\u0265\", \"assi :: #as\", \"simi :: \\u026am\\u026a\", \"tire :: t\\u0361s\", \"assi :: as\\u026a\", \"ssi :: #as\", \"cos :: \\u0254\\u032fs\", \"ent# :: la#\", \"ent :: d\\u0251\\u0303t\", \"chap :: p\\u0281\\u0251\\u0254\", \"raw :: #k\\u0281\", \"sifi :: fja\", \"ssim :: s\\u026am\", \"imi :: s\\u026am\\u026a\", \"#as :: #as\\u026a\", \"as# :: #dez\", \"sten :: t\\u0251\\u0303t\", \"arqu :: \\u0303ba\", \"#gro :: g\\u0281\\u0251\", \"se# :: las\", \"#ass :: #as\\u026a\", \"ent# :: da#\", \"ass :: #as\", \"#ass :: #as\", \"#r\\u00e9 :: \\u0281ep\", \"ass :: las#\", \"lai :: la#\", \"las :: las#\", \"ass :: as#\", \"#as :: as\\u026a\", \"lass :: las#\", \"ass :: las\"], \"Freq\": [57.0, 62.0, 57.0, 76.0, 57.0, 57.0, 58.0, 62.0, 45.0, 57.0, 45.0, 43.0, 45.0, 43.0, 43.0, 44.0, 44.0, 47.0, 57.0, 19.0, 53.0, 20.0, 35.0, 19.0, 18.0, 20.0, 35.0, 19.0, 21.0, 21.0, 4.2030447586536575, 3.8288227741643874, 4.021596476840923, 3.5638163977556316, 3.6551218468150903, 3.7290409716150923, 3.7265896728522603, 4.410805432356707, 3.5892514585155757, 4.627047434208298, 4.3794473148852875, 4.433077715513682, 3.520706881620794, 3.5244797202471614, 3.653275978694289, 4.440381159665248, 4.706516351310833, 4.390692460307545, 3.649230412370368, 4.554614146602426, 3.7070943847659517, 3.6703369330009794, 3.572747275528252, 4.345652245318286, 4.063404082081291, 3.5197096037079745, 3.547258779379955, 3.662750882302685, 3.5510897972297606, 3.6903052748738623, 4.348291227249851, 3.6396122399246753, 6.072379239818197, 5.703013171160102, 5.73166316015914, 5.876669929965577, 5.7748482193371755, 5.664094968824216, 5.985211808375818, 5.6765809979599, 5.860874155440133, 5.615769453207321, 5.685319478475518, 5.821562111217717, 5.730298299590193, 5.673631798064123, 5.640181368530181, 5.618349738596242, 6.343350225672336, 6.067067983581903, 6.6424185905784885, 5.734039257314987, 5.744814605330682, 5.639325340995606, 5.675605281418642, 5.6652886985823825, 5.618189848319515, 5.674691186878829, 5.690533881577971, 5.73217156076819, 5.462091437519345, 5.431927290953677, 2.828626474229573, 2.1841488804814753, 1.6430306459879325, 2.5809792691028255, 4.700753666639508, 1.5914303358812996, 1.6079263974352642, 2.1460051405375373, 2.756757572914796, 2.47930164756978, 2.5787241930641227, 2.081504905883776, 4.3434962531994215, 1.7339825255324601, 1.6867375845225794, 1.6927366703147124, 1.9817790563473483, 1.4109939945627943, 2.8662822516214184, 2.749240716925397, 2.875097145210633, 2.7152300881036022, 4.606132342535892, 1.8264645911274047, 2.05644728307813, 2.7017430451734192, 1.7751210712539236, 1.7747280458292942, 1.9327394437455003, 1.7233852925159399, 2.8886042935406206, 2.6869002515957723, 2.7149833063177904, 4.038007757008028, 4.065668261953814, 2.600071703600018, 4.100048597734658, 4.123080404031662, 4.026239012157871, 3.559044599030253, 3.3775120192914936, 3.056891379195292, 4.007093320945044, 3.984442098900012, 3.036975679381242, 4.143186275576254, 8.375585974490818, 8.190058169872435, 8.011798019954261, 8.013832041352265, 7.711272690618325, 7.674641205596085, 7.611059851870652, 7.749448820077608, 7.831159393564702, 4.559233354679223, 4.369728375450646, 4.478538332056851, 4.409092586436439, 3.580209326594001, 4.2256237589809675, 3.2379357210008632, 3.227147654851514, 3.28704515029061, 3.7691375454421183, 3.38913154022673, 3.6941973722998194, 3.8483261855556417, 3.6949450403730135, 3.7756491908156615, 3.518081897562012, 4.301164613066972, 3.5455885975823986, 3.235887635630081, 3.2828168918195044, 4.154407934898335, 3.0953003357134583, 3.2220590749809777, 3.476941560785767, 4.093287033095972, 3.4207704116591873, 3.3682641328894323, 3.3681798752599326, 3.124289285444599, 2.9524783287324428, 2.8268874350334197, 2.7667294656117227, 2.6224886435494867, 2.982107332756698, 2.5914329268391794, 3.2173494771598095, 3.386728674128001, 3.090206463097733, 2.5003921256201065, 3.4711872519947518, 3.4415033484289164, 3.879757155841193, 7.069895974130969, 3.818548046601221, 3.4318243784218097, 7.152533189750258, 7.061008360160545, 3.3669809912061077, 3.606080247021773, 3.9519942033332063, 3.434221899736197, 4.073855091365573, 5.2589501708821125, 3.9256143956245624, 3.8166431262976643, 3.6114388114759985, 3.437471787358144, 2.7578644060487387, 2.7103502598861287, 2.0417851580070514, 2.885434889807667, 1.7409826500277237, 2.0156203629548775, 2.2917796500817205, 2.038782621819338, 1.8281933678214202, 1.8547582543443846, 2.0024473488279178, 2.59091720527017, 2.574774183428372, 4.277319477103441, 2.378199974369086, 1.8480110115774144, 2.331284761695261, 1.8121443298426196, 2.0841979209704653, 1.3879925431078628, 1.921870052418377, 1.855094060574957, 1.803333737240668, 1.4298605596306637, 1.8803640253029918, 1.7605243045347077, 2.516545631332051, 1.8724731385947413, 1.557114546998572, 1.673667054107895, 2.7574205661584394, 2.5612656929455895, 2.8802744050442364, 2.666111657027506, 2.7569323470519547, 2.7303765481968743, 2.7411286713035863, 2.54713826248128, 2.623362493226466, 2.86268574650597, 6.0174466150416785, 6.748414492582457, 6.0017331415058734, 5.775899849933422, 5.652394429184333, 5.804880238258071, 5.370798999392436, 5.415057576316583, 5.391002387558733, 5.3883252612801105, 5.2077371652837074, 5.1606368776401075, 3.044169574868828, 2.795490739018036, 2.7090502177685636, 2.731479002407097, 2.6499022350100243, 5.265416893279294, 3.074938284793987, 3.148931778986606, 3.270347045613825, 2.5112979193459535, 4.045144533746157, 4.364336899189142, 2.814066940698194, 2.303069295063726, 3.7831816000776186, 3.111795723333778, 3.1322498659949614, 3.459418874007706, 3.2897657116764787, 3.1343395720318914, 3.997304270128752, 2.7290228475051466, 2.7326462398049456, 2.458622450953655, 3.1296051295073437, 2.9857957419432757, 2.728959810512362, 1.3685194018181195, 3.598563844332776, 2.8863792587927057, 3.10786289910587, 2.6732848902749584, 3.2631376121003637, 3.1516570487721234, 3.4164316764350033, 3.427407777088877, 3.0464292058203766, 3.5768913526213324, 3.1345068762091244, 3.304594700948821, 8.451120037231348, 3.856927861918787, 8.21127017674487, 8.058718296790616, 8.024750949343263, 8.040470062852016, 7.968095624276376, 8.084410352168923, 7.978552889623962, 8.220616971106772, 3.49326041196299, 3.7142204538342933, 3.6737421205106418, 3.973120905375878, 3.3521469241735073, 3.7394101334643426, 4.5026357506242, 3.807288571660926, 4.399982697837091, 3.804183049578952, 4.279227902252562, 3.6385961654967254, 3.500249715703817, 1.6948265219496854, 1.6417910153489843, 1.669173165922179, 1.5302013010466817, 1.363994349068089, 1.7074695788202119, 1.1797528168431781, 1.6872261216131805, 1.4722056683537652, 1.419418301387662, 1.2991616780934996, 1.2583250688481442, 1.3869359996875612, 1.7722194577095864, 3.475986743002297, 1.5333536500476683, 1.028835412689483, 2.4268768635557216, 1.2327088651433906, 1.2964921012165438, 1.0620445543966028, 1.2843281141224456, 1.1894782863124411, 1.5013278363655058, 1.2825007355161282, 1.4041957607783415, 1.3149952350040106, 1.4768233598848992, 2.069273130925055, 3.355299006284122, 2.180479120038113, 2.334464753407703, 3.311114775530387, 1.9887984578656086, 2.819444444914395, 2.9647810259190264, 2.8066972550347247, 3.2525270948603575, 2.7730693463500717, 2.8318502185976318, 2.7989968231323807, 2.781306654591815, 6.011806601262185, 5.674943409257419, 5.772565463164332, 5.603477683250851, 5.507943973735849, 5.552722629051735, 5.551673802077789, 5.5558909467312025, 5.482687570844849, 3.1048075738545595, 2.575332749383861, 5.263338981013769, 3.067930516367461, 2.939336570144435, 2.570589460907246, 2.7464840287661745, 2.84812941504865, 2.422883393514824, 2.452278979497609, 3.938020136943162, 3.3135132357860955, 2.921235655982335, 1.9826876511696971, 3.014717357461481, 3.5415601522230875, 3.0373675479493842, 2.916161729464165, 3.347923252437842, 2.214905497397222, 2.9356223580081604, 1.9065977041990785, 2.0987483943321643, 2.839510276610704, 1.9033171886296933, 3.0189833761696754, 2.3911657722323816, 1.8834868736086987, 3.0505919192293103, 2.3867698611645687, 2.87882246702045, 2.9816412812689657, 2.0202548727214493, 1.9686052979349122, 2.004040997585961, 2.9816047797419967, 1.9760514518920043, 1.9094286510906042, 1.920242141447274, 1.3398575509261252, 2.9824592680432396, 2.9690836959992057, 2.433962121937644, 2.8526483025504397, 2.9177764085033715, 3.042951376556411, 3.547943739919137, 3.6219291416641672, 3.1285945215304674, 3.041485664855697, 2.8504593036248966, 4.197922464200081, 4.901680787798986, 4.388599518756017, 8.471775878282605, 4.482426696933536, 4.036609277999236, 4.490185345460636, 4.439049378047179, 4.469508738652531, 4.547282875758353, 6.589119175083537, 6.529069832997194, 6.252324457175336, 6.086717652460442, 3.98386392007623, 6.044777744358541, 6.054949279907489, 6.011186700939262, 6.011200142507748, 4.322667855903437, 4.3336736677667105, 3.981620325368136, 3.879035441765138, 3.866743670119546, 3.738417515105639, 3.707119795984235, 3.7196104697296306, 3.6975148842832724, 3.690230608239832, 2.1844142248602942, 1.9445114246407396, 2.0753072740037672, 1.6185682171634401, 2.101430173716618, 1.9304165875688901, 1.616987560759556, 2.132914205145792, 1.9296628568360514, 1.8786386965862234, 1.724038769232242, 1.7200878885989355, 1.5177518251606217, 2.1246852587028147, 1.6709426584925504, 1.972476377397682, 1.7481495786014352, 1.6856189991241146, 1.7832026690754268, 1.4303329399413076, 1.1316965947152624, 1.348714299958349, 1.392861824723229, 2.2621051018885936, 1.2285149795140524, 1.848864639119121, 1.6344100608309686, 2.177910545204963, 1.6531335593223, 1.8891728046336864, 2.728802437761293, 1.7942356498721632, 1.8424817436572074, 2.609135169328254, 2.860586152109244, 2.6402906750956, 2.8558370997298255, 1.9216156080805464, 2.8890995875389582, 2.096650893897741, 2.8274951599043847, 6.187705826348289, 5.889321920526039, 5.874325768872191, 5.806091736534059, 2.7625985969590596, 5.794571025423986, 5.702894789558431, 6.506427990404148, 5.622212723048523, 5.806589695206224, 2.394783537464097, 2.3494057408132196, 2.74294912492741, 2.567455109302335, 2.890872969894599, 2.4423843946800243, 2.458469087655375, 2.428603232630896, 2.4351128712060475, 2.257960790575613, 2.2918530965241204, 2.2824329712122027, 2.2693885070836184, 2.0358326968675535, 2.2922856362963335, 1.8068963367634956, 1.7955832136490857, 1.6469589728518481, 1.5708431230124733, 2.1794917614714016, 1.6465729488452063, 1.7750393197836951, 2.206393337719886, 1.7335441615391451, 1.7189119514513636, 1.517229658721088, 1.8660703424647904, 1.487001859373103, 1.4871305957003598, 1.438856352353596, 1.5165702349879804, 1.3162139398619481, 1.5178797296381785, 1.3380237350548723, 1.307448874910278, 2.097884856958324, 1.5421246142227734, 1.5519058567742816, 1.4465842837122633, 1.6784139880492774, 3.4582569006921293, 1.589844971285158, 1.7466159974498197, 3.1546306748930952, 3.0176213061536257, 3.262262864960302, 3.713742716352087, 3.186251784846018, 3.1058758304743823, 3.2861498528663757, 3.2404282546877687, 3.9441071006029595, 3.7980284223533345, 3.751771800945333, 3.6627146769007477, 3.1731174568627956, 3.746555991677868, 3.6794939186823328, 3.73433713296591, 3.716532322783147, 3.7724930297149584, 3.271025089584225, 3.1634123988016634, 3.443689747410998, 3.1507790006738845, 3.641938489681405, 3.7127047486996663, 3.4317113969945354, 3.6127584121279512, 3.4587945429162956, 3.644109959495622, 3.4879110919401564, 6.4914927838022525, 5.695897820836204, 5.646897116652471, 4.727253633290668, 4.604236285512898, 4.572894233047701, 4.385086681491638, 4.35657418719575, 4.325090936981978, 3.922464077153232, 3.8265829089077035, 3.5453001132848248, 2.848867945888121, 1.699727087717037, 3.233623747543073, 1.540550247650723, 1.3670173953225566, 2.513877611307446, 3.515303799365128, 1.2929610488205638, 2.572483695573648, 1.930410791300175, 1.3731308312878003, 1.72080272370816, 1.5080001343914655, 0.9811922487842214, 1.8168515037516777, 1.1665583518102054, 1.9939095265656877, 1.5515871404259787, 1.3505667572336628, 1.3180542007991574, 1.7043207912629974, 1.105161762812451, 1.967992863192073, 1.2409685174731964, 1.194827293549145, 1.3091049105624142, 2.2411547465006323, 3.0071301989057764, 1.8723700538661294, 1.6495654112452767, 2.268476762917366, 2.1600773598205274, 1.629741375592632, 1.9394042295377907, 1.793023697717004, 1.655003611339701, 1.796010058105596, 6.42521454653883, 1.7271030205315556, 5.35876102508931, 5.061164266500934, 3.029986829331953, 2.8708603597637485, 3.58983621128946, 2.781093105958599, 1.859450984658297, 2.746473123655562, 2.6283153489663054, 2.002783119062582, 2.1126509633486608, 3.0146603718949376, 2.0116778377587425, 2.2875087550178215, 1.9844539105719305, 1.9562532768604517, 2.042840667596139, 2.000799015444079, 2.693568344811745, 1.8308559049129816, 2.0759998127828005, 1.4873179370823009, 1.9851527010705161, 2.167753624751091, 1.7552234659698587, 1.979484309938744, 2.026042239351367, 1.989446752420747, 2.0416929909142283, 2.150333428881638, 1.9460644634321713, 1.5828722727873392, 2.1995401619862873, 1.9538484520557353, 1.2408923417470419, 1.0424274069833073, 2.0291948861985007, 2.1632422344416153, 1.5503841760148418, 1.794173448479407, 1.8918766992161888, 2.122577335959683, 1.438728751710318, 1.0393107260716152, 1.585455701617766, 1.1719658192615443, 2.574341329548984, 1.625887914128465, 2.1085978937290393, 2.684773025305625, 1.8538542139004195, 2.3243930191762403, 2.282451239809729, 2.2044325977264116, 1.9810675749169397, 6.569468907939125, 6.363416328327594, 6.462573586048028, 2.3610725245615005, 2.1535752999176876, 2.14513990783112, 2.9975521801027973, 3.009460378676467, 3.084993689057293, 3.035327729385009, 2.9645367801417035, 2.9117770487001615, 2.546149288172495, 2.335783557282326, 2.190106007117357, 2.4055283543262616, 2.1457869894974544, 2.3656150300072007, 2.3168368032046716, 2.217704183734974, 2.211317501820297, 2.1920121882888415, 2.2894983391702204, 1.332352343371399, 1.2794358770050103, 1.5542547273133338, 1.5127944660432557, 1.9015503600402792, 2.05413565692876, 0.8570190554927257, 1.292485763519099, 1.8699692219648842, 1.9896844584330042, 1.9528260690778732, 1.1700026369074121, 1.6127920443264838, 1.280319178939294, 1.8552165295780438, 1.9555095443928507, 1.917238008473413, 1.6688044033696732, 1.3120888628926435, 2.3850029950327447, 2.1977563166382943, 1.2122793812240262, 1.1881506393695054, 1.316198548018775, 1.1810790513509946, 2.314224517494214, 1.0795679088877874, 1.1226687525373036, 1.1498243692922034, 1.3673777716874573, 2.2449455585909255, 2.236721128903485, 2.1517270687311445, 2.4290983885076827, 2.4057795322244626, 2.305978642457594, 1.8842717712089114, 2.69443584901918, 2.233751609240585, 2.234855982334051, 2.1724414668062324, 2.2186866933829736, 2.5275420431858824, 2.181354529004606, 4.737702003834403, 4.551814103312663, 4.548294644727454, 4.498276039759085, 4.652046131744825, 4.4644036394946225, 4.471822154675347, 4.591518936219572, 4.496361085281718, 3.1238265978024873, 3.1276920084833137, 2.930167697389123, 2.3538440629197552, 2.3556061723518966, 2.23243966249863, 2.226307256008916, 2.3894406514698807, 2.286139218229629, 2.2008539116004306, 1.1477997258531611, 1.3453084812940068, 1.3901191938320925, 1.3210437562814037, 2.6788863246133037, 1.575451329798485, 3.4970094368421467, 1.972358558260908, 1.2152377147789886, 2.683159163413728, 1.3111653373236958, 1.4608572516742695, 1.2757246846659922, 1.6168386897904106, 1.0398627561104077, 1.24566739612885, 0.9992346872621211, 0.962961379153858, 1.2072080979982314, 1.1456148823129293, 1.242191665809559, 1.7768506834682007, 1.2540899023291991, 1.486905764798457, 2.678989020816426, 1.4206653296149667, 3.162889624074349, 3.341765885326889, 0.9183324468394136, 2.930022332539024, 3.3359941206611192, 2.437234556315445, 3.345221874967508, 2.5730699249871565, 3.1546122761068327, 3.100219351020454, 3.266863386189727, 2.3533782548077036, 2.9626923877646996, 3.176532864525089, 2.420017717046856, 2.7073064653914463, 3.1353036887788144, 2.75680883107629, 3.1751707455334794, 2.6475377144058774, 2.3309615984365153, 2.586250806439151, 3.014475469269408, 2.3933204766793046, 2.5536664920943952, 3.3779248708363863, 4.180921331609834, 3.8891313065233413, 3.7760916206247384, 3.005662027710251, 2.949050450229469, 2.715044086111795, 2.9541601293171365, 2.9264238430218183, 2.9349829535047545, 2.180271575899664, 1.5401644890449353, 1.556197854203699, 1.265971405037025, 1.2845474853747467, 1.2164355062167889, 1.383864805936384, 0.9300997006376045, 1.9559656151391815, 1.277192759555497, 1.13078597663585, 3.3193822533754, 1.2356476504188072, 1.0749205436670413, 1.3815397208540103, 1.396029492698786, 1.287519441259795, 2.898566297677833, 3.2090370649102926, 1.18726088180945, 1.4271572816606786, 3.260728909188601, 3.0337420587922845, 1.271574597084763, 2.966587475097372, 1.1993793583393777, 3.2578883722675207, 3.1370736154833248, 3.0522284976508516, 3.0901657506321802, 2.9359948928759936, 2.970087492519954, 2.9473527707423064, 3.0031553590728968, 3.6322079689984426, 3.0384951483387104, 3.474381214854386, 3.6013720780059484, 3.3366136958007253, 3.000155266064875, 3.3545919182178507, 3.5671358268693507, 2.916998759873988, 3.409218720796117, 2.902171931259204, 3.4710101215649605, 3.27067817366687, 3.596396798842262, 3.4668976921338537, 3.5995250607507363, 3.3251561113993895, 3.483085073712085, 3.3513704455455913, 3.4372711068281783, 3.30105190597058, 3.276365110834179, 3.476938190835464, 4.422254066546504, 4.1400474563261005, 3.9732409789609893, 3.135752156252323, 1.9254760714285224, 1.9327813589308451, 1.300390873380139, 1.342288044229127, 1.9801376318325776, 1.9350367345120187, 1.792138302830364, 1.1509920573437409, 1.7836438539393493, 1.9722743922009849, 1.7804908772078893, 1.7678585707258248, 1.6998366442451331, 1.4704828770171432, 1.0720789302880378, 1.7853392772515886, 1.3476349740341422, 1.7099962042382302, 0.9196765800045973, 1.256338141516021, 1.1361317907667026, 1.6755188995772679, 1.7057890210200342, 1.0491794154367913, 1.7423121448089385, 1.9053529525908868, 1.7668161701472658, 1.04624327936235, 1.085373841180253, 1.0656731712883885, 1.7639340985915342, 1.1828990700597153, 1.3840108133638245, 1.7393535902198287, 1.729118279982479, 1.42507110417723, 1.3655237876427402, 3.0870202419160573, 1.6512020105487781, 2.712741187485192, 2.6392636060718635, 2.701101697201603, 2.6122453747174252, 2.6329099529995093, 2.5288453726744202, 2.644297409113404, 2.500146061750382, 2.46694335666347, 2.5866931939867883, 2.441543245495736, 2.4028961187062152, 2.4777115063326405, 2.3758506225653533, 2.3379719447005542, 2.2709247478013737, 2.6604320262440715, 2.5706882962385214, 2.5172981923255477, 2.5241540435731467, 2.477817804041898, 2.4822266976559875, 2.468204091612829, 2.43911882368108, 2.4312740302837996, 2.1044986338326166, 2.071570134175698, 1.4545538529579238, 1.334498118810875, 1.3082657797354822, 1.6683166703448324, 1.2642325361750975, 1.2281580686683025, 1.4972146685321548, 1.1599842877639879, 0.9456692523172692, 1.0868334981937915, 0.984007310408966, 1.1415999613634937, 1.325280230778767, 1.346965869055149, 1.0467331531018549, 1.555118620797067, 1.3156999048219276, 1.3669834600241837, 1.4310925711690448, 1.2594674651136162, 1.4564658485321653, 1.2579742550460096, 1.0707584579964395, 1.6732110948952024, 1.3249654226724998, 1.168890740617565, 1.3811019319988342, 1.3984211996494595, 1.2854835813000325, 1.119797669109554, 1.4588752419762374, 1.4754268803548132, 1.3133555138565773, 1.3461816532065827, 1.3297298617815079, 1.4968524281630986, 1.4796444914958977, 1.4357156532584459, 1.5196634086466292, 1.3523710224075385, 1.4069118273373196, 1.312244567747573, 1.4739612513417577, 1.5115014532273248, 1.4297751756444013, 2.1202720755088107, 2.054008483025086, 2.0432412796429045, 2.0134640424789665, 1.4602989735027572, 1.4350532240913583, 1.476745108474822, 1.8331735750866056, 1.8095292570797734, 1.7962368920949254, 1.8385264486334332, 1.7605944802892257, 1.621785309516373, 1.7604905644302142, 1.5275467801037237, 1.5159551472709345, 1.5085066125270858, 1.6102322635600972, 1.502231581180385, 1.4993583104875239, 1.478456765920886, 1.4944906896795815, 0.8695034485987314, 1.0146279673187346, 1.4421709499343194, 0.9990803524309233, 1.0949934954891003, 0.89136203725916, 0.9998098112152559, 0.7925667705068069, 1.258673022560811, 1.0072827637227475, 0.8669060961262569, 0.6087235923766626, 0.81931725103612, 0.8991738782033227, 0.6769034953520456, 0.852025503404875, 0.7187362588683978, 1.0001377506089888, 0.8492471418441444, 0.6992960001147264, 0.9522123082476307, 0.7466823613388511, 0.9503821602817677, 0.8411005380611608, 0.9688491710723403, 0.7896116542635438, 0.7097403504643345, 0.8979408309378232, 0.9265547601841135, 0.8027705543468181, 0.8727383118933902, 0.9175719729076857, 1.1882070371910893, 0.852219329007958, 0.8776533876112692, 0.9567967560117729, 0.8900673748630986, 0.887665493206751, 2.034097597981734, 1.9879816749799673, 1.9641630379024062, 1.330396252027197, 1.3752558512107367, 1.857589217805827, 1.7633233843088376, 1.0878451226254053, 3.0770721190264023, 1.2119116191058876, 1.191163229400497, 1.1784245283134749, 1.2389626798390718, 1.4059779350419148, 1.9019832672718342, 1.1812020257108058, 1.3788967424312364, 1.3650085324289285, 1.3183663923334779, 1.0525389990084968, 1.3149022923789608, 1.2377090752003828, 1.1936015109494829, 1.1850540193449715, 1.2218346211376656, 1.1897414611863648, 1.1826116145857817, 1.1277029129631209, 1.0659081412458111, 0.9267568529642165, 1.2187048071648916, 0.9129888818200843, 1.1203675082399687, 1.03571163854096, 1.3275029242274823, 0.9901121369272964, 1.007373011303102, 1.0966787800751552, 1.0737807915329656, 0.8354739865138652, 1.0714631332986269, 1.1876150507786798, 0.9477617944146318, 1.2792826924000646, 1.1235852881247252, 1.0381968654561815, 1.0556812863597584, 0.6569847519948429, 1.1543493369751534, 0.9811871518042404, 1.2230789286074997, 1.1207333160045065, 1.077107539556671, 1.1878028727667356, 0.8970565499526587, 0.8462372104978065, 0.8714269028785047, 1.0416586540293717, 1.2479338685848302, 1.1113979045443247, 1.4206939841318216, 1.164915192458745, 1.3679263704263653, 1.4340297859585884, 1.29230292903725, 1.2650886636908254, 1.385629830690953, 1.9605402908443854, 2.5685461572793895, 2.4651335961202414, 1.2713566536999743, 2.2318661818104744, 1.4827055223969108, 1.131790367958239, 1.4950102008279238, 1.5388655609328343, 1.2996833859670014, 1.4303815119470689, 1.416469227801704, 1.4168321876492846, 1.373907619616631, 1.372676385927366, 1.3664875926694493, 1.351446472852099, 1.1906096280811624, 1.1520925607687458, 1.1211704233932096, 1.1222860307152782, 1.195462975447761, 1.238265283738613, 1.2151315862991257, 1.1234362967990006, 1.0095114003153336, 1.0710436665766265, 1.204589454684094, 1.0294385217644524, 0.9818546837228868, 1.1663673513854906, 0.9106629368003107, 0.9628403921517563, 0.9784143766673207, 0.8992914647250292, 1.0420241006285378, 0.8872689324179526, 0.9984766119916061, 1.036052731678504, 0.7127727834630178, 0.970862061959191, 0.949744478020458, 1.0784778163814184, 0.6887712588684628, 0.8455854756804946, 0.9621587698181526, 1.0301969430271312, 1.0363940460251928, 1.120472381823228, 0.9975429007771526, 1.00070732998992, 1.04258605357136, 1.4158151580205178, 1.2416754845378013, 1.3499549806569862, 1.9470580798826262, 1.9380036770223834, 1.8402220339558628, 1.8131703558641825, 1.7865907087572999, 1.7708426096470877, 1.4310608897935555, 1.802500733544221, 1.7655209872238116, 1.7473746099933132, 1.3410227990522101, 1.3279895190436901, 1.31185837007347, 1.2968195082336564, 1.3029861942737546, 1.5083943813216518, 1.2876334292222553, 1.2582013045032936, 1.2156405414513485, 1.2011605056614143, 1.198284869762273, 1.184304243173632, 1.1789822762153976, 1.8426849533345564, 1.4202197832047037, 1.430668842196652, 1.430223310128556, 1.8542286308482478, 1.7908732923485522, 1.2494095569824109, 1.2385214242918787, 1.3923165492349137, 1.211712067426765, 1.4101544625466353, 1.1620067610076497, 0.9962614456587212, 1.2901435529433376, 1.588884610323085, 1.487309638248764, 1.4056411233514676, 1.5569437664481993, 1.4464080256672966, 1.2696393975973606, 1.632703708797711, 0.9034517787907812, 1.348687547383874, 1.6889155449089306, 1.4294067214586346, 1.4452441048855003, 1.4542927205247376, 1.1244935224472552, 1.7162358657574561, 1.246521686446137, 1.383236750597762, 1.7366620073761654, 1.5966934541492284, 1.9499857629048194, 1.8173163600653492, 1.7019825700762912, 1.6367761368840668, 1.7553411875148863, 1.590892565138949, 1.41493920453364, 1.8889477030015462, 1.453768213051843, 1.4570148118014177, 2.1613497194184954, 1.5616635014309121, 1.4842534317247211, 1.4859518108799967, 1.479406828604994, 1.5004324235853608, 1.4730822344468089, 1.469290436459911, 1.4945628290892266, 1.454277503082497, 2.109827562904565, 2.298388080788516, 1.8136958755845012, 2.170849278586449, 2.308018606095714, 2.1455758779205545, 2.6105021466846514, 2.2782952810579147, 2.1446618157993473, 2.1572107559396017, 2.1178459344511897, 2.219816554101261, 2.10581425851151, 2.011614723479861, 2.116940373623037, 2.176050876351884, 1.8107601203940236, 1.7942842177850624, 1.9886363914422245, 2.163742626582954, 2.317225029251864, 1.6191505472749785, 1.7875289915589694, 2.1623304998304014, 2.228843420014677, 2.1060467952892963, 2.0813909174354377, 2.1363595985969663, 1.8218452820920714, 2.1032930217084336, 2.141311337993205, 1.9001053276443423, 2.3518974600973976, 3.1242197424821896, 3.1263684634485074, 3.1992526278877818, 3.1440457152764814, 3.078915015948669, 2.996375401324948, 3.070187658656363, 3.0171675226253445, 2.96595569119614, 2.9728865277073395, 3.00363245012144, 3.019895900356605, 2.954500485712376, 2.978463033003939, 2.937167567027525, 2.957925576645014, 3.031204756140333, 3.0075354190177164, 3.011602074860924, 3.025036558512785, 2.993479496180744, 2.9924740353224886, 2.974594980706091, 2.986167029483151, 2.997247959865338, 0.8420439902001371, 0.8755082563905873, 0.9153072292606597, 0.7527737004786649, 0.7967222946556147, 1.012973128573149, 1.0040994381688568, 0.9402041660824907, 0.7298451613668582, 0.7127873893418614, 0.8080604116744924, 0.7438651575184207, 0.680515768068292, 0.755182411439156, 0.8492191749510409, 0.9240463853550476, 0.7226447725445766, 0.7067814686254641, 0.8023438225862533, 0.5958510321611311, 0.776264940529432, 1.0623192481203725, 1.1204923035165968, 0.7875423563167371, 0.7151802269561116, 0.7873044361232177, 0.7495273232324083, 0.6999588018924712, 0.6763215122955657, 0.6694806959260635, 0.9769786002861449, 0.7406631807382172, 0.8762615288856676, 0.9018238633002287, 0.9975464405037535, 0.8330936801178981, 0.9694997391272364, 0.8701746564113819, 1.27346327764612, 0.7921654830471587, 1.1995690778474992, 0.913039849724264, 1.2466469297322833, 1.1648258752407699, 1.2706555760909495, 0.8928567849607825, 1.2680408736554465, 0.9998465130855037, 1.1716527970614337, 1.1387835170163483, 1.1592865682561981, 1.1288871792570723, 1.1046486019862323, 1.7497310801199617, 1.1082480979572493, 1.135034460181668, 1.3138859275618198, 1.1254439185467557, 1.0739100253511353, 1.0446942251391145, 1.0293787985467635, 1.1793210320739687, 1.0225037333187272, 1.0851558582846015, 1.0799607290494107, 1.0423531135093962, 1.017905473756961, 1.3540090513490992, 0.7687736949644018, 0.7462198029387687, 0.7268071309094598, 0.7644385408642272, 1.0050627206397993, 1.0831258141316322, 0.7819170303671933, 0.7197014404449819, 0.6961422595112399, 0.9792370328987824, 0.750211319453901, 0.912945191115758, 0.7905998619073954, 0.7688707254205467, 0.7977323992531032, 0.6411369573151684, 0.8461527884126859, 0.8035074379932242, 0.948990026197388, 0.5658804510928713, 0.7072896040345171, 0.8657094154152997, 0.8009222906898614, 0.8064133931697526, 0.7084164364390321, 0.6922200952082992, 0.842563947448468, 0.8109201921874897, 1.0246788901961061, 1.9053446673694707, 0.9803221471769528, 1.987741831673015, 2.251722321178056, 0.8763081494686642, 1.1014700121609509, 1.0560923131890319, 1.1239931746566356, 0.8723711141629329, 0.9455249015363791, 1.6616597759291356, 1.644914673657622, 1.6390796680403694, 1.8265751748292636, 1.456369455269634, 1.8517362333813578, 1.4578240669061266, 1.4428293840975157, 1.449912736753136, 1.6619391420757148, 1.3521214940233601, 1.3938470078775176, 1.3083381607052162, 1.3063729443781982, 1.2480097638253418, 1.2896814965396906, 1.3241140348426355, 1.2920566271057172, 1.7467927561171481, 1.2929058295800067, 1.574039730306751, 1.171696180172806, 1.4067706807866664, 1.3386877448309742, 1.3088567749407214, 1.2087031561304988, 1.259295866997475, 1.220487519976027, 0.7973817054145793, 0.7995822116152732, 0.9826418845384424, 0.9444600080587434, 0.865931143168083, 0.7536856548141982, 0.755256839268218, 0.8989489739534666, 0.6886713685278781, 1.055259644976383, 0.9093565001523883, 0.703463761207162, 1.0469402620618091, 0.7943327053019567, 0.9088178582691809, 0.7438820800626702, 0.9066146635413878, 0.9284541596237339, 0.6054323393047937, 0.8417017957193517, 0.8662022982397491, 0.7320564287542453, 0.8587607753734701, 0.636372913920538, 0.8040161046697825, 0.7071100268468451, 0.8134097050679103, 1.1699803195325198, 0.674653359605518, 0.7887481556706865, 0.8585255098360831, 0.9364122769739162, 0.9839638244470104, 1.0609880256840565, 0.9450234693123989, 0.9096633968405934, 0.9091554840318439, 0.8344234028260075, 1.390564947499136, 1.3700271260874761, 1.319641775359314, 0.9430264504832797, 0.8334179051802884, 1.173734191508949, 1.0798825740723834, 0.8483811081554136, 0.8840841285173331, 0.9036735976610324, 0.8714088927290676, 1.173735295030023, 1.2627005607987452, 1.0949250441168048, 0.7814915280847002, 0.9226912009256394, 0.9416585737094221, 0.8004941096898582, 0.8066929752774581, 0.6034105507925839, 0.9018810454722052, 0.4583146999774577, 0.7522578110084224, 0.47207650140789853, 0.7803143923234013, 0.8845172160125214, 1.0855622863230356, 0.7314092187126571, 0.8380332764347007, 0.5847991590926984, 0.7847713251846492, 0.6392061787973783, 0.6146195159062446, 0.5328447820514765, 0.6491243080162857, 0.6797623245633052, 0.7113949212662579, 0.6162096135652234, 0.6726974672976728, 0.6059390791025956, 0.6011077128772768, 0.8969660600251713, 0.9138394331386621, 0.948054043655182, 1.033072176482703, 0.8617616775490307, 0.8321374810446982, 0.8159463696610202, 0.81842658305108, 0.7829193986996108, 0.8549620162498832, 1.003714091353647, 0.8595599019841496, 0.8042224416085644, 1.2881181192855449, 1.7308367061186574, 0.856321137184856, 0.8927124760243814, 0.8536576939895388, 1.0917139461195993, 0.95883306452069, 1.0615537769828685, 0.9480957927598741, 1.0297716474407568, 1.02346634798387, 0.8396298431761655, 0.9729478638379142, 1.1807547072549247, 0.8907788202131783, 0.8649896622440777, 1.165342397695035, 0.9019833675681841, 0.9962212921865984, 1.0481905837685686, 1.0293636208102672, 0.8726171999185198, 0.9002751359046429, 1.1546589485521526, 0.8626151197420967, 0.9134621222063157, 1.3594540588169115, 0.741897518583199, 0.9451155386762696, 1.1163735419680234, 0.8347037295152998, 0.910943492173391, 1.3194557678650534, 0.7152411837916921, 0.8728225831447775, 1.0242308503666437, 0.979429668513855, 0.9482070311569549, 0.907589462500873, 0.9103719385175385, 0.8257327417866869, 0.7417667092902085, 0.917204724875261, 1.0094541924176936, 1.3108713220383348, 1.0428190997170623, 1.3785071773194246, 1.2852000395224046, 1.3803252953176948, 1.2406728176035446, 1.3132766655364807, 1.3772600384623759, 1.2782408922717192, 1.3195833944730357, 1.4628100775028803, 1.271955696155942, 1.400029941385873, 1.282773474702114, 1.5139631043818464, 1.3424123153308554, 1.067246940013901, 1.1555517108972844, 2.6080037119208748, 1.453045681693256, 1.1959738521918386, 2.117140533781938, 2.061646086303555, 1.274705243946187, 1.980358690171032, 1.980377631554782, 1.9560893984994239, 1.9440632321219036, 1.930606257072081, 1.9219633907803972, 1.7349772972020707, 1.366029895752354, 1.282642430142289, 1.283173223603858, 0.8886221516898217, 0.661966817295686, 0.8245275269578279, 0.9037491541072329, 1.329622231529597, 0.819901429769955, 0.9697140385974922, 0.9110116405767694, 1.287344461432463, 0.784001988028228, 0.5544731879012684, 0.6947324902995228, 0.7651988412766275, 0.5832437987399144, 0.617602090086825, 0.7655169110963361, 0.7493982137790615, 1.0877037939361858, 1.2314224054457297, 1.1476935592210988, 0.6193781701232196, 0.7142205373990408, 1.4378787688884482, 0.6532426411822391, 0.6723790305405913, 1.3608465944586428, 0.6065049318473282, 0.6085773574596052, 0.65776591621381, 0.9552226485902238, 1.3662990182960242, 1.5435635623035024, 1.4121245646509755, 1.3450929039892001, 1.1488988020845763, 1.2382002826641811, 0.9800938080792245, 1.1542454106458682, 1.1345207774713326, 0.9693997114435909, 1.125164980460468, 2.5448267228200074, 2.5797200478947264, 2.432819177751707, 2.4491352241467226, 2.474367318213653, 2.433123385550469, 1.383480526928638, 1.2404198152477541, 2.431414467537465, 1.2490858554106659, 1.153788520543421, 2.0872662882735824, 1.8929747770853789, 1.8745280757466272, 1.1438164899842083, 1.2015410951776149, 1.139055884367152, 0.706358456045264, 0.754376610383701, 0.736584109837835, 0.8389870644406311, 0.954528733322202, 1.0789207899245155, 0.9003561412494795, 0.8734431581040517, 0.7329201907748416, 0.6851715470960559, 0.8495390870203731, 0.7711988666323674, 0.83166746906007, 0.9758798511817894, 0.8122212699680093, 0.7870317540148173, 0.878315516197181, 0.6147930900578857, 0.9561426643126463, 0.9510530334749779, 1.058607726983816, 0.7351958875159453, 0.9205991209141783, 0.8528007000812212, 0.8140152010072267, 0.887911295906923, 0.6870896590283242, 1.0218434785733266, 1.2292392198281268, 0.7421579908827756, 0.8505270222839147, 1.1926551715241582, 1.0998515220123353, 0.92028151089698, 1.1835816623699096, 1.0105264745048275, 1.7975347523483505, 0.9085140427355465, 0.9790312313855282, 1.6237660018657523, 1.6406081652550069, 1.5966126537594825, 1.5637398938514853, 0.9798729083956614, 1.206391274936999, 0.9155465088552732, 0.9138516037346718, 0.8839162012576044, 0.96766123855981, 0.8833630544131178, 0.7194963402030536, 0.7207560446630189, 1.024317709560803, 0.8057695107224204, 0.7735937123665614, 0.6563548954032687, 0.8140768713451874, 0.6473000218109687, 0.7871383413784161, 1.1530762954583726, 0.5890072157992015, 0.7799197705716553, 1.0406672108231623, 0.7673354212094995, 0.9202546338622326, 0.8046617324738422, 0.8594239534556478, 0.9094604631028572, 0.723167147883549, 0.6810067638961403, 0.7179047029032101, 1.0572802065790348, 0.6679357332223139, 0.7110978057515106, 0.779903523900328, 0.6655728308432143, 1.1900894963574977, 0.9415352681915424, 0.7463057592667662, 0.7311295617277892, 1.189124426432517, 1.2923838778850705, 0.8253071261483783, 1.2846310691322387, 1.2955921690144212, 1.224505329091515, 1.2638007083830407, 1.0326288016257492, 0.8787510816472872, 0.9481350977505301, 1.1796335117787788, 1.268007695647233, 2.8118727860506993, 1.7694623555724858, 1.6869936554293576, 1.7218701096028948, 1.1660021340540447, 1.1905441097187053, 2.3572238117860413, 2.3700045166155306, 1.5681723613764935, 1.5202302543619504, 1.5010499794568493, 1.1635447549348394, 1.6320102645706271, 0.9276600106556127, 0.9475608009440607, 0.9640176249985108, 0.8455299373692394, 0.9789543081320172, 0.65434631604509, 0.9722502174149302, 0.6615971257656217, 0.7773208627558555, 0.9285305727603429, 0.9063169319547645, 0.7921590725073251, 0.8009776288554523, 0.8305444029270626, 0.8462429552664726, 0.8060245402620411, 0.526133014279413, 0.7199247074501582, 0.569327272365295, 0.7387011192368345, 0.5621167794015423, 0.6084500264568521, 0.7184223977770101, 0.6375474365845959, 0.7950683202034601, 0.4908199047841771, 0.6121642233724077, 0.5897883444920299, 0.5762404857604467, 0.7315650853998312, 0.667685783338378, 0.6416813797072095, 0.757350836185138, 0.7095995973201898, 0.7425592620388357, 0.8594493260611864, 0.7961641497200436, 1.022883330529012, 1.3245688333938146, 0.7680102486947157, 0.8303210885134961, 0.7049005072496687, 0.8108371265161338, 0.9327298476583981, 0.7761750126274826, 0.8278738627316314, 0.9953860883929243, 0.8488426798553218, 0.9342149515463503, 0.8514543961432142, 0.8405332384172677, 0.8320381923417738, 1.1049297322545435, 0.8022819999799219, 0.8377493627526088, 0.8656994977190076, 0.9050769842110207, 0.8369299735262673, 0.9491089349992955, 0.8299712802851283, 0.8191159942398275, 0.8219133671145432, 0.9104190638949252, 1.0218026038247057, 0.7056440173528236, 0.6589956402852251, 0.6389593119985232, 0.6620207108173105, 0.6520951094459908, 0.3907403804281267, 0.6773908554861019, 0.4972938870808414, 0.7308394104126569, 0.7568282056447339, 0.5485950293806566, 0.5545139485642679, 0.6210452804778763, 0.6998409205512552, 0.8314652988686225, 0.7191861346864876, 0.45880315013236267, 0.4688004471207886, 0.7498992969252274, 0.6671207917004898, 0.41635087201267806, 0.6195138300587887, 0.6779323354017279, 0.5229070510683411, 0.6989808765527321, 0.5943553499320348, 0.6768074342951681, 0.6402139134624057, 0.7545785531690312, 0.6512454341896712, 0.7190648353130445, 0.7334701004580146, 0.6417911787342039, 0.8979899705083508, 0.9032491898237321, 0.8500178289281414, 0.9145177797436949, 0.8773181452462459, 0.8591933858365736, 0.779328026654983, 0.8351817738243174, 0.8130695672065751, 0.8108663541176782, 1.013757646443818, 0.875191451712964, 1.1153856101669382, 1.074813845537175, 0.7909285197468289, 0.9480811487866647, 0.7187536974478257, 0.7209379547142379, 0.7144505045737177, 0.7194048343158504, 0.9638561575339816, 1.0079228976521388, 0.9065779247777593, 0.9947938922224855, 1.3829132234762516, 0.8666455923818394, 0.6821064284574208, 0.5807540163245982, 0.5969438094709048, 0.9879070981782975, 0.7307167296078554, 1.1620243054625488, 0.4861608079569742, 0.7042897448452984, 0.7591956730429857, 0.7570712287656401, 0.7863614854872057, 0.5633920485640808, 0.6839339118308749, 0.6265067329049099, 0.9018994698686258, 0.5799582475734935, 0.5950415715606256, 1.0226151846214542, 0.6728847824391639, 0.6907934267767687, 0.7704515050040507, 0.5931121868668527, 0.5856486119507879, 0.5791753874184746, 0.785230325481877, 0.8853249028394053, 1.0512890397988586, 0.9017462492510308, 0.6698347575471274, 0.7182347037659917, 0.7080434562171373, 0.781343487644157, 0.8426582635919617, 1.4771900734938914, 1.102166242068551, 1.182968277318056, 1.0623901109193818, 1.06359631522115, 1.976800559832108, 0.9868106660687795, 1.066591941581812, 1.179793526552409, 1.3417813052021745, 1.3220502155975853, 0.9185250737702184, 1.1580316036333438, 0.9882421426100633, 1.106979642307944, 0.9227482950231022, 1.0125630763237161, 1.0040547820230754, 0.9945729993572648, 0.9931314004852506, 0.9293569597275991, 0.9078308470233546, 0.7951263317961416, 0.7782824615726549, 0.7784840519898739, 0.758269714564169, 0.8119694910997213, 0.6638544439289966, 0.5161364309285231, 0.7858508481172595, 0.7967667462592396, 0.5822950606220426, 0.6353116123068987, 0.6699088284016762, 0.6462874072006111, 0.41082344000329807, 0.5445363375523283, 0.6159702204559987, 0.6569899320621159, 0.635120763688127, 0.698023216466534, 0.7899875256489878, 0.8601078676393663, 0.9360240815167071, 0.5409180743299283, 0.612842979445391, 0.6474571901822284, 0.7424590757444964, 0.7906620684488663, 0.5152874104520684, 0.46053236253747115, 0.5270162851881663, 0.902744591791056, 0.6534571687241092, 0.7521327788032792, 0.9917301293993095, 0.688607861633671, 1.3238184073871335, 0.7394901605697852, 1.2572371206220605, 0.9356097448783829, 0.7770561713206143, 1.075996591170428, 1.0646099736963672, 1.231213977420073, 1.078690908981748, 1.0889353410260108, 0.8835316538774969, 1.0970411788775227, 0.8582360992930754, 1.4825055103628615, 0.734534749115482, 0.9409847169175102, 0.9287425304780969, 0.8761154279725012, 0.7655839448247671, 0.7612312027983722, 0.8003956702049023, 0.808185466720507, 0.7749567592254585, 0.5537422399612263, 0.6177922315797386, 0.8799179373378901, 0.9440820462578484, 0.7365259429753312, 0.5712507695568912, 0.5728266404822315, 0.7781661166748982, 0.6425704087030212, 0.7823213495987464, 0.6238216922697559, 0.6101013834108191, 0.8042985884116235, 0.7962872130824921, 0.6092928768435858, 0.7810728547605845, 0.8089144907596765, 0.6768909463111519, 0.7596542208088438, 0.8144764511692365, 0.8676703457627757, 0.7281291591801594, 0.8963628869913911, 0.8509575220453485, 0.6390333930489198, 0.731379644092342, 0.6940629387367355, 0.8894337839865144, 0.9145089638747677, 1.070229494516665, 1.2284814538908442, 0.7307155052997947, 0.7457058721440074, 0.828519360457223, 0.946180992876059, 0.9615180316487819, 0.8458723853107896, 0.9743583761141184, 0.9589804390873339, 0.9319990680405218, 0.9397298163109038, 0.9003008710671374, 0.8978396304381997, 1.1545537702562847, 0.8096411146704259, 0.7956782155936504, 0.7831709010979132, 0.5152792624503834, 0.6510624121499802, 0.55799247143331, 0.7354555787000217, 0.755214427583873, 0.4989608271743721, 0.524667035060619, 0.6186308582918938, 0.5648889479298276, 0.5598461885785341, 0.5006837534131195, 0.561665204080752, 0.5210804849092416, 0.43003663551901744, 0.5018729600867289, 0.4354133740172124, 0.6652863043992321, 0.5275976805743648, 0.4937332636400135, 0.6020115456478543, 0.5449747201467765, 0.6722595261193843, 0.48888630742824685, 0.46288307020945535, 0.47994532737346063, 0.506900780340242, 0.47429831952824525, 0.4528410655814835, 0.491127250411097, 0.5340629030024039, 0.65734322622614, 0.599256774549465, 0.5332912389998006, 0.61450394465478, 0.6514935584630545, 0.6529364236008264, 0.7319184664633667, 0.5688673806152074, 0.6708210634913331, 1.0092295989891034, 0.6649158225907432, 0.6471716333126667, 0.6113637875910498, 0.8445392311508655, 0.5728676719957073, 0.7906800206500225, 0.7691739260227148, 0.7508768129608576, 0.7558941312064504, 0.8474294370016436, 0.750029276277596, 1.071935562893388, 0.7827353365950732, 0.741050334684461, 0.7534301836787016, 0.75391788925892, 0.8186863668919675, 1.0278960787766758, 0.8157579766072536, 0.75149159265402, 0.8434463130713825, 0.8299585055093905, 0.7571483060032029, 0.7596919339956515, 0.7516078477825389, 0.750108656400551, 0.7495230844161334, 0.7484547868208946, 0.7447160961055443, 0.6764169294765662, 0.6648835823839672, 0.5221931740357066, 0.5471395519119755, 0.5692725200195622, 0.6108123103735617, 0.5964803039738107, 0.5341240917760913, 0.5599124045026268, 0.5741221505340559, 0.6124944464934838, 0.48040319017065775, 0.4826575648597022, 0.5089434400836238, 0.5541180223918709, 0.5280951937117011, 0.47512103896194724, 0.7602433642387048, 0.633945221907989, 0.5576783869526335, 0.4630169507524926, 0.5699542134745467, 0.6462079632980143, 0.5963445170920171, 0.4986156393981525, 0.5566781548489417, 0.4950041602522991, 0.5580367858438398, 0.4513279930489663, 0.5252986090076915, 0.7375995286168381, 0.6159649107857986, 0.5950694312265596, 0.5868219091652407, 0.5849267725945234, 0.7170467257928257, 0.6111134052415499, 0.6212123044558334, 0.6362890247554143, 0.6260288244261865, 0.6576654620119471, 0.6022346893127458, 0.6209669783978558, 0.6097844423476452, 0.6106585562195824, 0.5896863754709413, 0.7467374728351279, 0.5881366734723259, 0.6052724016034523, 0.5994352926393146, 0.5948151265655937, 1.4204035227864735, 1.2361814134898874, 0.7863269819967827, 0.6968487922029333, 0.6659724811752782, 0.6794200808159476, 0.8515714940432595, 0.6408431229306109, 0.5647091980511142, 0.6176654317863569, 0.6585726155772028, 0.8234889724521587, 0.7545169030821189, 0.6944579285978323, 1.209735965290293, 0.683040458821813, 0.7001918764080258, 0.5754512795720963, 0.7333099195714357, 0.6224620962482236, 0.8660972744465045, 0.6030935189789404, 0.7272527224378782, 0.6122507580595037, 0.5774625144582367, 0.6419907782458318, 0.6839930812602425, 0.7364155438249824, 0.654503702853683, 0.6657238539796658, 0.9109073942662214, 0.720420818551398, 0.7885262938246357, 0.839325201862275, 0.8871196725249492, 0.7318469347149528, 0.8173267133229342, 0.7115749912852664, 0.8064836349332769, 0.7219230917460716, 0.784597088653249, 0.9406018126394569, 0.9014727652505888, 0.9150636567803827, 0.9229089478427792, 0.9423721532216465, 0.8999627351366134, 0.8889417116994737, 0.8887001054179131, 0.8583237045237818, 0.8636588065466104, 0.8633391964258827, 0.9841200075059068, 0.8473683111904915, 0.8457856949773256, 0.8431635262145345, 0.9153564520184365, 0.9105230534379956, 0.8308988699573064, 0.8187772894051099, 0.8149006042958317, 0.6840642313081751, 0.452346560836434, 0.6617540643613496, 0.5438220494738323, 0.4867637599260586, 0.5149720680767849, 0.5264504024110942, 0.4702230014362669, 0.3814929979935823, 0.4273837633567998, 0.5129074709659943, 0.4191520440683613, 0.43161299752758187, 0.33874009182098214, 0.40244973874743645, 0.4816869579322061, 0.38843500677147896, 0.3945345006327142, 0.4417220160390064, 0.4430008736211945, 0.5783803452359528, 0.4061729283365563, 0.4097347459414998, 0.43060543736292045, 0.47460131335314526, 0.39233718441168997, 0.45499593275765043, 0.5548072481704309, 0.3574858702200049, 0.4344183222854262, 0.43775109302093845, 0.549403062740732, 0.5541726422762755, 0.5613948669739903, 0.45304058273440395, 0.5861442886373096, 0.5661699398375317, 0.5040680151625753, 0.5181756608119299, 0.5747414153296733, 0.46357229634022595, 0.484237756419145, 0.7457831060249481, 0.5889913004564543, 0.5611414349629948, 0.640047266189707, 0.5079326420230729, 0.6205857540565798, 0.46071908766149217, 0.45900517232500326, 0.4429148775473332, 0.5336273324394841, 0.5517882411737466, 0.4539307356835403, 0.4401815732138261, 0.4812358370594704, 0.5001905589729111, 0.5392779558957405, 0.42074513834316746, 0.5701167115306858, 0.541081015977163, 0.4362554461934259, 0.5095891915311503, 0.6317544226096158, 0.4070552222571724, 0.47454934676615546, 0.3959847864115132, 0.37936294695385986, 0.4957099258033938, 0.4310823067607909, 0.44390919964664216, 0.4874426369500725, 0.41109174323968023, 0.347974847714529, 0.36221114143997013, 0.3595199156485546, 0.37053282965834683, 0.37867562853812814, 0.39113114161911944, 0.507326857122404, 0.49740907734912365, 0.48250249892719715, 0.5073058870643113, 0.5091609839586125, 0.45330394452445727, 0.4711325869008175, 0.5005676586005325, 0.5316116524154952, 0.48199069755751967, 0.4445156564820418, 0.5345614040213438, 0.978954794245822, 0.639155450319207, 0.5904273975640921, 0.5930780515937311, 0.7024022084570823, 0.7576738403982548, 0.5596278253602259, 0.7274948544928068, 0.5588193698524199, 0.5945564264552973, 0.5872013474822226, 0.5382069006914872, 0.5255726097453449, 0.5219642250856377, 0.5122009435111676, 0.5143085832908735, 0.5024671693382947, 1.0052164139235482, 0.6108459913635722, 0.6775312177410862, 0.48141970599250833, 0.6237479150656995, 0.5869750573747889, 0.5067201038912185, 0.5320944742939369, 0.585612914615642, 0.5490235530047091, 0.4834075929183282, 0.5577596139349396, 0.5580307796140632, 0.6199798136161632, 0.769455018052377, 0.57020131633627, 0.6148176701113253, 0.5361950526217828, 0.8542258660325202, 0.6384214775086696, 0.39868722263054257, 0.4079946135482675, 0.4493065143525315, 0.5877239376338884, 0.37508856903652, 0.3462971502351137, 0.4381890759797963, 0.46702073116373816, 0.49801220496592147, 0.44935455618349057, 0.6804719753710144, 0.7863548466139846, 0.7472768918925379, 0.6074196475992777, 0.5540112517008992, 0.5060827090574054, 0.5433251708112523, 0.5257868869059089, 0.6269953332956063, 0.6490984875748432, 0.5409883991311871, 0.5522808317445553, 0.5538911874754071, 0.5880502504257022, 0.6155893554604122, 0.6364731532498026, 0.6115110309763795, 0.5896556874157503, 0.59036061996971, 0.5698649348253233, 0.6766275326899867, 0.611639251999156, 0.727565518374012, 0.637281585653783, 0.6863412844738558, 0.8205304034835207, 0.7305199536940008, 0.6635475712226506, 0.6935264296946683, 0.519706110621956, 0.5007501468295593, 0.5066533081591411, 0.6263237171926672, 0.4210339233281947, 0.6754372951641995, 0.3808962732783486, 0.5084651623382621, 0.4628036667864104, 0.5294134957330986, 0.4789957663455944, 0.31931701350653086, 0.3984005929955809, 0.42454550789533874, 0.5963075561302686, 0.464991522183162, 0.38681332304287186, 0.38420310897657417, 0.49629155898341126, 0.41191165604242086, 0.4824804944959014, 0.5891439225643837, 0.47393941150108526, 0.5532182302070976, 0.6041319584918727, 0.6697541280587117, 0.6136295489505326, 0.5665235950651287, 0.5203134890663841, 0.5962948571284619, 0.5804939507788628, 0.5438921211097675, 0.5314836262904372, 0.5519545869287179, 0.5319367588372723, 0.6161882842150658, 0.6050692603734211, 0.6358332742677687, 0.615785281576136, 0.5412438465552641, 0.5441631110559577, 0.5922347282011432, 0.6451739943929616, 0.5928420227432254, 0.6227933256905888, 0.5437093797974107, 0.6084859090778972, 0.5803403449408097, 0.6420819256465654, 0.6096846039216809, 0.5008955368790845, 0.5247937520359339, 0.6676370952055274, 0.5403734350521936, 0.5176161611095705, 0.436201845600849, 0.5740428395407745, 0.6502721063253135, 0.5793982881588134, 0.40296602119214125, 0.4876143437029427, 0.46186681778994737, 0.5205208121879619, 0.48395764294512994, 0.5331244678715743, 0.5236535602428866, 0.6161869562085779, 0.4185575928926868, 0.5299746586971327, 0.5087540706371997, 0.5005135693213104, 0.5095713773867034, 0.5619890776243085, 0.42597166294128597, 0.6176025207527437, 0.6627987743809336, 0.6492072108274324, 0.5299509267361092, 0.5530201965699327, 0.5924856382715671, 0.5482889143447387, 0.6074588799506809, 0.5729320889125419, 0.5673270577731887, 0.6154639309595281, 0.6297766078225184, 0.6866923836038974, 0.7001183502385405, 0.6579090179521931, 0.8113541334972111, 0.5644620606423493, 0.5519097931895575, 0.5761683232795259, 0.5675249842008997, 0.5521549347305601, 0.5712435670843475, 0.6363935129050705, 0.5417455567800301, 0.45698761744377725, 0.46578386922824705, 0.45636473231233915, 0.38103728967874045, 0.5427451274952956, 0.4976346849299232, 0.35717751079773236, 0.428123859299862, 0.47420190473256246, 0.40848277310990094, 0.3482500908037737, 0.35229228033251603, 0.5333897361452329, 0.4902103131609035, 0.43597197237021335, 0.4817151959378548, 0.40847699206517823, 0.40655612046145456, 0.41709123011599025, 0.3558138161845745, 0.504945271751962, 0.4138944365764655, 0.3060513830417834, 0.4505787045087231, 0.355777090390374, 0.47380564209772424, 0.47548124699970057, 0.5103803323631306, 0.48680503969924865, 0.4464194475899092, 0.4848134320505688, 0.4731298069665156, 0.48353170840470927, 0.5510588115229804, 0.4582860838301834, 0.5642120809208452, 0.48150121617890995, 0.4540006901643353, 0.4796895853061918, 0.4767073392737393, 0.6150834013757849, 0.4867263881318102, 0.590840497374702, 0.5539207446566218, 0.5204170355344683, 0.47541282458369416, 0.501009971834375, 0.4725790652394738, 0.46294124455626867, 0.4900327532621896, 0.5671115721356094, 0.42251919595684057, 0.47527522586063753, 0.38152242968275013, 0.38107986250253917, 0.3211389021263415, 0.5053619515400618, 0.4310467433157861, 0.360792742307252, 0.3080142132797294, 0.3896210746206923, 0.3047722147323914, 0.52490833722971, 0.4358371997918538, 0.37208477595334455, 0.3960042204788105, 0.3533562686879065, 0.4043472884877737, 0.3607296778406086, 0.4425700587876516, 0.4048675253502321, 0.4861128818025881, 0.5139474436973632, 0.386958150265298, 0.2917997068297803, 0.40627323713296254, 0.4928560138463531, 0.33097866997408526, 0.4435170247194741, 0.37666654630250873, 0.4225135501978997, 0.4506508242919248, 0.4411567911169188, 0.4018306873439296, 0.41688183007207863, 0.6296896451336959, 0.5172781530563596, 0.6047227900462875, 1.2533712076060204, 1.246672309385605, 1.2055130150636748, 1.2463376627017833, 1.2147917975891258, 1.1899339686821209, 1.1251014766355785, 1.1051662993313385, 1.1043533778520778, 0.4840655554362329, 0.6324106578195642, 0.4980120000150332, 0.5540888835137998, 0.5537593098264586, 0.5512944379590685, 0.5442772179530971, 0.4734439325959774, 0.3030737516375496, 0.302236469766456, 0.24248923550356796, 0.3065922569827963, 0.2653538589127259, 0.25521281979681176, 0.21517017975868208, 0.280242653145721, 0.22733418286460713, 0.24843812010182686, 0.21811056682367394, 0.23177788615616413, 0.17934100817871412, 0.21789690187978789, 0.24280759186471476, 0.24908479409876377, 0.21904424080525825, 0.2505441514944377, 0.17483910254424823, 0.25906161681504014, 0.2406751663508574, 0.22151930582496204, 0.19029148246812966, 0.22102838998953173, 0.20218675104039016, 0.2039056482735977, 0.2682244097734132, 0.2699457526996003, 0.1779711204402133, 0.1932276188475557, 0.21754889509968717, 0.23199898742159192, 0.22130906577960852, 0.23243033141034591, 0.23882425465331214, 0.22335623019478404, 0.21729160265993913, 0.2307396776657739, 0.2853121024992512, 0.25382016355464293, 0.23717211236958713, 0.26448417544252495, 0.2557838689967499, 0.24951469194186793, 0.3247620413763299, 0.23081565604956739, 0.23043899343112736, 0.22898242637154817], \"Total\": [57.0, 62.0, 57.0, 76.0, 57.0, 57.0, 58.0, 62.0, 45.0, 57.0, 45.0, 43.0, 45.0, 43.0, 43.0, 44.0, 44.0, 47.0, 57.0, 19.0, 53.0, 20.0, 35.0, 19.0, 18.0, 20.0, 35.0, 19.0, 21.0, 21.0, 7.580599412838745, 7.007681042985192, 8.07579885187455, 7.185399505821062, 7.39144964227727, 7.592467227631119, 7.756700901322542, 9.349207237449408, 7.61161434143664, 9.83917537749842, 9.428304887257369, 9.603712865164619, 7.6650786822948636, 7.674705688004738, 7.981723113688984, 9.704667759058081, 10.325486022826103, 9.666795419675228, 8.0594252583561, 10.130762882750696, 8.24838013698684, 8.261309753160686, 8.152615965222282, 9.918749819076757, 9.34721707021104, 8.246882695724876, 8.385567887569895, 8.684134289886053, 8.420002775652334, 8.75591521595162, 10.653406357395834, 8.701221297892195, 21.0026606468943, 18.913517123831767, 19.425386248214014, 20.40546371212273, 19.788412982869826, 19.51925560420973, 21.963661647499357, 19.803748794278196, 21.24270617639431, 19.462130863794396, 20.010853697826057, 21.396626713193594, 20.77547033666943, 20.49842499306243, 20.453317660491436, 20.548869535173957, 43.96837784873219, 45.35128200566337, 76.27231104164477, 43.51796032981, 44.70823372101794, 43.20164706181137, 45.02769750173009, 45.80099080851559, 44.14137860149921, 47.458778736246316, 62.29381394261517, 66.08604763115515, 57.24081254996452, 58.10990398265196, 6.862796517020496, 5.394243196963321, 4.301957109931682, 7.036356445562657, 12.859730902967026, 4.370477682090269, 4.541941250097067, 6.105473510055847, 7.883751536175997, 7.09313691545075, 7.389390976605618, 6.053761576187522, 12.64981366906945, 5.08087831016361, 4.995796932848634, 5.053515224566763, 5.9567795865266175, 4.241747350855545, 8.666133334971356, 8.339714995766746, 8.748966486592167, 8.310048761373283, 14.221066295533445, 5.645983739716026, 6.358623239720182, 8.3731814328245, 5.5189486861756665, 5.5239025651009594, 6.015863502054287, 5.383483908179731, 9.04866085961668, 8.452896727255968, 8.561660407288386, 12.95099879747532, 13.101591489605985, 8.209256944254639, 13.529597119097058, 13.620371757597548, 13.35919222510526, 11.647797156870583, 11.010584625989011, 9.838349890700526, 13.636383771669282, 13.887505135603693, 10.090182754990218, 15.561642940751472, 45.80099080851559, 44.70823372101794, 44.14137860149921, 45.35128200566337, 43.20164706181137, 43.96837784873219, 43.51796032981, 45.02769750173009, 47.458778736246316, 20.106239270619305, 19.34948504114096, 22.27417644434483, 22.18568371487838, 14.799369236222082, 22.557090920203738, 12.113382172607922, 12.03044902446528, 13.263442648484496, 66.08604763115515, 21.162408111370517, 6.849449491893096, 7.620923958996137, 7.353335054269425, 7.734024598710392, 7.217701970642755, 8.987472141224421, 7.412616260879034, 6.873524017080955, 7.016854223237115, 8.898938466292798, 6.681931078235059, 7.021650091622124, 7.631530770649016, 9.354366389086902, 7.861088046379104, 7.806809482465412, 7.809199231113201, 7.3295062472636525, 7.0055856311882705, 6.720304941005514, 6.676721845666873, 6.365772513456441, 7.275766410287349, 6.323475988923671, 7.852939757069062, 8.321756193261518, 7.650091217212404, 6.207111731800507, 8.644751260474115, 8.57190936338174, 9.714036206770576, 19.050643960175048, 9.736975997581073, 8.643993104867414, 20.68801541990819, 21.094916468174937, 8.467235772066743, 9.6752533478047, 12.493517003213647, 9.551797051378616, 18.889541259205753, 66.08604763115515, 18.566505199261105, 19.21471791646965, 28.519068495286596, 24.657174442500544, 6.118468337226493, 6.077772620537195, 5.1605602102627985, 7.406160574402412, 4.508584542063538, 5.40983001670257, 6.271946952797954, 5.5814698702682355, 5.099916511809146, 5.298053729488269, 5.785119653150295, 7.507702654767023, 7.515155297095319, 12.611015044564958, 7.01210913847994, 5.459048773872137, 6.955437025601364, 5.472877965010292, 6.294993565041285, 4.248207376941516, 5.894842183540603, 5.776476016452675, 5.634874915732542, 4.473708643111276, 5.913234174931122, 5.546201533994365, 8.103268982739575, 6.1601565356036385, 5.212408986661998, 5.6089712154488724, 9.522474971991672, 9.122093862815227, 10.756089832999365, 10.048106044232387, 10.817583121758402, 10.668526725430144, 11.581639102619741, 10.23662861153106, 11.03015868410785, 13.021078037263841, 57.415420579744605, 76.27231104164477, 62.29381394261517, 57.934929314126386, 57.729100749689096, 62.360836869651024, 52.89517971243066, 53.953684901323754, 57.24081254996452, 57.49510499491139, 57.66135668209883, 58.10990398265196, 17.313377099277883, 13.195236085600547, 13.853768404986127, 23.974362143287674, 23.45576335574233, 10.437288528093942, 6.851649730470909, 7.133874985866966, 7.683554505308045, 5.92432515426856, 9.57210648376633, 10.45845322092261, 6.867977667033219, 5.764512786018952, 9.470697308326042, 7.883519156500018, 8.00360122908904, 8.86123847190202, 8.461192862224168, 8.067271345067423, 10.290387524314882, 7.147276117834947, 7.163867266049685, 6.4519496161092835, 8.336653427046972, 8.016906513133883, 7.362505378185137, 3.6952381061344126, 9.890618744178997, 7.958945791231921, 8.629963721820292, 7.44887916810809, 9.200357022667477, 8.915880123575146, 9.727823074840973, 9.900414133209823, 8.772004428982958, 10.875175128321668, 9.2575751597759, 10.312479334751224, 57.729100749689096, 13.685881897925514, 58.10990398265196, 57.66135668209883, 57.49510499491139, 57.934929314126386, 57.24081254996452, 62.360836869651024, 62.29381394261517, 76.27231104164477, 11.636812470110693, 14.636207731081164, 14.220292335187535, 22.557090920203738, 10.957390581510502, 19.34948504114096, 53.953684901323754, 22.27417644434483, 52.89517971243066, 22.18568371487838, 57.415420579744605, 20.106239270619305, 16.086246435882693, 5.333204045525496, 5.270120558627551, 5.40214459488208, 5.004112824395343, 4.523208545194697, 5.669623281617792, 4.01731647948407, 5.796846333642522, 5.123415345398662, 5.020065641028875, 4.637363214799717, 4.574488227741307, 5.07267669355555, 6.482793288698915, 12.95099879747532, 5.75335764838869, 3.8944594272314452, 9.310195713710842, 4.7479503570335195, 5.018504348908722, 4.1270805716241075, 5.017751531225523, 4.679730959753316, 5.986664159567878, 5.120877778618461, 5.6122924711309725, 5.25601104935248, 5.903337757897705, 8.33639499008087, 13.636383771669282, 8.978701970498047, 9.682548743187107, 14.221066295533445, 8.303203115085529, 12.64981366906945, 13.620371757597548, 12.859730902967026, 15.561642940751472, 13.101591489605985, 13.529597119097058, 13.35919222510526, 13.887505135603693, 45.02769750173009, 43.96837784873219, 45.35128200566337, 43.51796032981, 43.20164706181137, 44.14137860149921, 44.70823372101794, 45.80099080851559, 47.458778736246316, 19.34948504114096, 14.114742804402672, 66.08604763115515, 22.18568371487838, 22.27417644434483, 15.835738516739085, 20.106239270619305, 22.557090920203738, 14.990883534775127, 35.915572727584426, 8.709537874239537, 8.391823500378633, 7.568548083066778, 5.209366911754277, 7.96950501143359, 9.418444431335185, 8.087248844380241, 7.79400645534796, 8.972117380267694, 6.00893244663396, 8.028168490610568, 5.267113744912132, 5.8070280531824405, 7.89384311270469, 5.307005193657685, 8.436282497741274, 6.720630810629703, 5.310870752681122, 8.65294885886842, 6.7886825284763095, 8.278812573387897, 8.685822198667504, 5.899599481366114, 5.752240793689982, 5.91525696756962, 8.814146645390384, 5.851936600956138, 5.692215546441707, 5.729042968416226, 4.003646782191751, 8.952776976454336, 9.031971794957192, 7.394883309241728, 9.147974883101577, 9.41691008146145, 9.94104071873806, 12.123735085873758, 12.526094756487865, 10.473520578359334, 10.16584533352876, 9.68932645110019, 18.912325443262702, 25.19370031705609, 20.87505961392438, 76.27231104164477, 22.829314402292074, 18.929203027935664, 23.43875415682203, 23.257415639438474, 24.019234041796363, 25.09095819963731, 62.360836869651024, 62.29381394261517, 57.49510499491139, 57.934929314126386, 19.053376269718495, 57.24081254996452, 57.729100749689096, 57.66135668209883, 58.10990398265196, 23.727593215334434, 23.937772746208793, 19.33518416406904, 18.760758320126126, 19.245973597837377, 18.416551211786388, 17.746094666621907, 18.969254169796272, 19.43932633659653, 18.970633949680764, 5.8233785791861905, 5.737897333768478, 6.20636393948182, 4.964453280015102, 6.555852364143749, 6.166325267539886, 5.17009227958858, 6.949334404184036, 6.296400436256409, 6.373307140597599, 5.864517650645716, 5.878680487076913, 5.213527536809564, 7.298597891148295, 5.769864765113404, 6.862095473445476, 6.095699584900718, 5.9839643376472615, 6.388797862773934, 5.204982861440243, 4.123451746258466, 4.951576745981993, 5.150421878118788, 8.406439380431134, 4.578524879105551, 6.952613556500385, 6.235387608736914, 8.313930738300561, 6.426635476030878, 7.344368728515371, 10.624353414433221, 6.9845264526183355, 7.328829011076613, 11.378109505283659, 12.801659200371825, 11.702339192892282, 13.10946112402271, 7.752369582859421, 13.913462571772769, 8.811371495083725, 14.378135391314512, 62.360836869651024, 57.24081254996452, 57.66135668209883, 57.49510499491139, 14.56556050695999, 57.934929314126386, 57.729100749689096, 76.27231104164477, 58.10990398265196, 62.29381394261517, 12.120665951743538, 13.239660302717724, 24.244107854562476, 18.986575387868353, 33.503178077332905, 18.96323342248337, 24.016243364523074, 23.18078794556613, 23.89973690375967, 15.111860928396188, 19.40992267676529, 19.668673761511595, 19.63702058624738, 5.538466230376144, 6.468616367835093, 5.3126838662469025, 5.375927302457298, 5.025709165747098, 4.876448769300614, 6.828795649825761, 5.254740414205229, 5.665508568012317, 7.094311967716063, 5.681146778993911, 5.653011160268858, 4.998859155029707, 6.149097925073925, 4.925710976939038, 4.968257262987582, 4.858422794589588, 5.1227983489326, 4.452172598283426, 5.241504122336211, 4.644439587700655, 4.582099191804802, 7.426816350245079, 5.493447262943744, 5.555244999852569, 5.1789318973770255, 6.129884739283938, 12.672993619608974, 5.836480353692006, 6.500024555745922, 11.96781738255589, 11.467829354940719, 12.661253035251985, 14.646529251614185, 12.476688322401891, 12.221940401431667, 13.042815327054209, 12.896069542611686, 16.226046675399182, 15.594663309209333, 15.377971732923136, 15.239129032679323, 12.817059870869153, 15.913967088515403, 15.560242182735287, 15.86113910526259, 15.880910301863237, 16.322313948995617, 13.558085212582501, 13.043937976213494, 15.075247819737298, 13.357151527159417, 16.74408191661294, 17.32839976571742, 15.566076229123365, 17.107663456180244, 15.875773698445464, 18.142146488600567, 16.948323574541458, 76.27231104164477, 62.360836869651024, 62.29381394261517, 57.66135668209883, 57.24081254996452, 57.49510499491139, 58.10990398265196, 57.934929314126386, 57.729100749689096, 35.915572727584426, 35.354290481609425, 34.59232098227936, 8.154640208487388, 4.980490775640594, 9.753011781059794, 4.773309587512738, 4.387033650849788, 8.27437691409181, 11.838555471184335, 4.3741019574752675, 8.896842855535343, 6.688120848317542, 4.763462140689459, 6.267567975526051, 5.538013713982377, 3.617072790489985, 6.743792456781677, 4.332148243949063, 7.487827525289953, 5.858477607524719, 5.1391991045640735, 5.016011849603122, 6.4995296477917135, 4.239683153901409, 7.624521255310694, 4.811279548408511, 4.69177305942651, 5.171421301444374, 8.879559611889622, 11.919838074173951, 7.433368840111272, 6.577463475045141, 9.169155719873068, 8.912189833256239, 6.637557187255058, 8.691458259706044, 8.022593312220993, 7.2149690381392135, 8.15650729811064, 57.415420579744605, 7.720045720776386, 53.953684901323754, 52.89517971243066, 21.692309926907882, 20.408272371054053, 33.503178077332905, 20.89993892765616, 8.823857198788781, 21.55011020566793, 19.63702058624738, 10.506156008665105, 15.429145548676795, 76.27231104164477, 13.527748278667211, 57.49510499491139, 18.731087825972814, 17.462275616492704, 58.10990398265196, 57.66135668209883, 7.4995120046425985, 5.484704948337128, 6.366113110492959, 4.59495977432621, 6.179882791386555, 7.012328930875534, 5.794113547196458, 6.569393966641971, 6.724235299175982, 6.682189206689002, 6.910767682254928, 7.282080039044233, 6.618164734551202, 5.4251362065198325, 7.576539217114431, 6.751793222106565, 4.300101936209587, 3.6743748123729447, 7.179907547281443, 7.706956578029324, 5.525136058494914, 6.469160468624357, 6.8246214000269925, 7.683289630092265, 5.240676968128847, 3.8017879955215284, 5.827100220663504, 4.325178355718794, 9.513921623747581, 6.037277812241179, 7.885250061644997, 10.19696655854941, 7.11628209708465, 9.53423335254966, 9.340077021991668, 8.996404647031866, 7.983921800181652, 53.953684901323754, 52.89517971243066, 57.415420579744605, 11.127859880598947, 9.69455775006031, 9.638983614410304, 22.06617920805436, 22.440485697738726, 23.974362143287674, 23.45576335574233, 23.136107180335056, 22.303922920421144, 21.55011020566793, 14.378135391314512, 11.123069908879508, 20.89993892765616, 9.832193505151048, 21.692309926907882, 20.408272371054053, 13.273929419235948, 13.239660302717724, 13.10946112402271, 66.08604763115515, 4.435521610392781, 4.442282727129827, 5.464325357294232, 5.340538977266899, 6.7187666074466295, 7.273940176764618, 3.0827856834978404, 4.709821246503947, 6.8157052830059905, 7.386705589216106, 7.274606287979407, 4.436987516633327, 6.231680828066268, 4.983493678634186, 7.240556293865172, 7.6543104631355625, 7.545867564667533, 6.665386131965179, 5.246790684887789, 9.537994351794476, 8.83514719744944, 4.879529644003147, 4.795470853226414, 5.324201033161217, 4.8310354615902655, 9.562659175440995, 4.504484234041989, 4.686438337173271, 4.855561163206379, 5.789332063896185, 9.550584571491317, 9.55879840714559, 9.282591379320403, 10.67258397509446, 10.782967467007952, 10.283550426999916, 8.193927947966593, 13.246659896455045, 10.515507230939207, 10.562822409390364, 10.278273824244744, 10.603685780599816, 15.111860928396188, 12.120665951743538, 57.24081254996452, 57.66135668209883, 57.934929314126386, 57.729100749689096, 62.360836869651024, 57.49510499491139, 58.10990398265196, 62.29381394261517, 76.27231104164477, 28.548156180166565, 29.664750635948256, 27.68471449093814, 18.986575387868353, 20.098389113482817, 15.967164737053473, 16.276243937412058, 66.08604763115515, 35.915572727584426, 7.0462279654485735, 3.8591255781513922, 4.771354801713327, 4.991792483555302, 4.800066606772412, 9.738688497393762, 5.7823265659068275, 13.04692830482915, 7.379054727218972, 4.584878977138223, 10.253905232875983, 5.014679727549804, 5.602179464165935, 5.0006468334727545, 6.354025874958059, 4.108984358998126, 4.923698598143667, 3.951612191126195, 3.8085351195881505, 4.825413134583578, 4.614225822463366, 5.008504327771467, 7.171397274337037, 5.078394668107185, 6.023145305930207, 10.902073783466836, 5.803488765041039, 12.9241333995091, 13.68590509808957, 3.7976469040391567, 12.131594504309325, 13.96987603337584, 10.168346695867568, 14.19229007587005, 10.768052726107456, 13.428405898246293, 13.233468747913319, 14.031226753428415, 9.962082816221177, 12.80167383011031, 14.0178496857263, 10.360689634914973, 11.812681504543551, 14.114742804402672, 12.197303950386015, 14.527954415961986, 11.820974971856193, 10.102883398646448, 11.78005929650876, 14.714537377622198, 10.652169132681289, 11.751190773494313, 20.73274119211567, 34.59232098227936, 35.354290481609425, 35.915572727584426, 22.285635438936815, 21.418684461137417, 17.17547215051805, 28.548156180166565, 27.68471449093814, 29.664750635948256, 5.6257764613938495, 4.763669902224583, 5.306663248348355, 4.451244703952174, 4.7416728232585585, 4.639752908377984, 5.2993709831746525, 3.5630558379867154, 7.53696577094162, 4.930271606897306, 4.366463325552343, 12.890603932764453, 4.80038738200974, 4.1774388466410945, 5.417538508146501, 5.496690255524067, 5.07914080317238, 11.467829354940719, 12.721687490054894, 4.715622948083195, 5.683531684913955, 13.010275819100375, 12.138230114798388, 5.104302744098219, 11.96781738255589, 4.841869927364941, 13.273118580571785, 12.817059870869153, 12.476688322401891, 12.661253035251985, 12.221940401431667, 12.445622819846912, 12.356501190312228, 12.672993619608974, 15.86113910526259, 13.043937976213494, 15.239129032679323, 15.880910301863237, 14.646529251614185, 13.042815327054209, 14.815211238234854, 15.913967088515403, 12.816042347820066, 15.377971732923136, 12.896069542611686, 16.226046675399182, 15.075247819737298, 17.107663456180244, 16.322313948995617, 17.32839976571742, 15.566076229123365, 16.948323574541458, 15.875773698445464, 16.74408191661294, 15.560242182735287, 15.594663309209333, 18.142146488600567, 35.354290481609425, 35.915572727584426, 34.59232098227936, 14.72505560381012, 6.436066682107289, 6.591603263472283, 4.479262377978589, 4.716535079950079, 7.100502072867478, 6.954007371257707, 6.790147195525424, 4.416938421117181, 6.874938174412081, 7.67393461359994, 7.031634424054373, 7.0906893280545935, 6.827640000750877, 5.910873903253756, 4.325557756565127, 7.304915952883262, 5.539683101277963, 7.125113357391561, 3.8512463732948046, 5.274597620278598, 4.783016153718965, 7.072392405065167, 7.204207573248084, 4.447046557528149, 7.455546332395313, 8.203220138407989, 7.617886495684753, 4.517136497162693, 4.723988904512563, 4.639957629938057, 7.68676481394518, 5.194010958531438, 6.212374086816845, 8.080182291619858, 8.092517001626426, 6.45206582639181, 6.134042809982152, 20.49842499306243, 8.463981223944392, 20.010853697826057, 19.51925560420973, 20.453317660491436, 20.548869535173957, 21.0026606468943, 19.425386248214014, 21.24270617639431, 19.462130863794396, 18.913517123831767, 21.396626713193594, 20.40546371212273, 19.788412982869826, 21.963661647499357, 19.803748794278196, 20.77547033666943, 21.094916468174937, 45.80099080851559, 44.14137860149921, 45.35128200566337, 47.458778736246316, 43.51796032981, 45.02769750173009, 43.96837784873219, 43.20164706181137, 44.70823372101794, 19.050643960175048, 20.68801541990819, 4.408694318924379, 4.4388013656338074, 4.452227199261132, 5.781002696780856, 4.535075939590231, 4.54966298775501, 5.568949892574235, 4.356472435182895, 3.573224753394729, 4.114166825948654, 3.7524345327170594, 4.38075371518292, 5.295720825782138, 5.482566650847834, 4.27123462134568, 6.377167392092856, 5.403239050640352, 5.627293963453174, 5.917577347979097, 5.208691796451155, 6.0582390286300445, 5.252399201609739, 4.4727430018437575, 6.990549425203749, 5.566026315219037, 4.912382395690516, 5.853779260662419, 5.964568687174183, 5.511122482705505, 4.8020194578759146, 6.294303763757383, 6.510281792272473, 5.710632919198103, 5.906078366113515, 5.825792497290865, 6.91723637083759, 6.859707423051762, 6.631674835604817, 7.319519065299086, 6.048758451644456, 6.569094683964742, 5.862244269038085, 8.338926983322086, 9.431897119185416, 7.963003771021933, 45.35128200566337, 43.51796032981, 45.02769750173009, 47.458778736246316, 9.444733219476431, 8.571919577328096, 10.229852666434349, 44.70823372101794, 45.80099080851559, 43.96837784873219, 57.415420579744605, 43.20164706181137, 21.97138800385867, 44.14137860149921, 14.338378791000984, 14.029934371796868, 15.82382842647554, 52.89517971243066, 15.44600109242581, 22.541501645531405, 14.032905299740339, 53.953684901323754, 3.8190235942446606, 4.800629092620937, 6.826632904339864, 4.760673041920083, 5.405425931534651, 4.578553443610274, 5.188922369727486, 4.122409602426683, 6.574073866369939, 5.267157569962842, 4.55445702295002, 3.20384679224027, 4.3365446825170295, 4.819975975031006, 3.6747921722418484, 4.626424146580274, 3.9128868163104933, 5.445048363680519, 4.6389864282260165, 3.827263022721329, 5.23534276973793, 4.125462890438433, 5.258879110784182, 4.6996576645407595, 5.480292079528548, 4.466483494902554, 4.028391763258371, 5.106234100990632, 5.2758733656020045, 4.576784108908584, 4.998882861561581, 5.294487161843624, 7.298989927831509, 4.902483799401442, 5.095056016378367, 5.8475186743399945, 5.339185597429554, 5.332883315507283, 20.094518805239, 20.23194785437541, 20.116594710140948, 10.540474782174227, 11.707646733665786, 21.162408111370517, 19.24427828119613, 7.639981067160723, 66.08604763115515, 9.938991404176925, 10.815950283479832, 10.521120739558054, 12.15605606073682, 18.256651467558548, 57.415420579744605, 12.222031917996597, 35.915572727584426, 44.70823372101794, 45.02769750173009, 10.494282131608625, 53.953684901323754, 45.80099080851559, 35.354290481609425, 34.59232098227936, 52.89517971243066, 43.51796032981, 47.458778736246316, 26.967847529211795, 4.004606148570292, 3.5359059223439977, 4.801352379296747, 3.9264403009940216, 4.8232158473062725, 4.467822540125818, 5.759052934598157, 4.416427229168064, 4.526860141621182, 4.938744876504596, 4.866231761541562, 3.8486129754116662, 4.939374651068418, 5.479684341644272, 4.447387486666094, 6.030190156014045, 5.420655275438537, 5.0089115709502625, 5.098047732826207, 3.1889874155838784, 5.620318982010882, 4.784648885571522, 6.00179535989365, 5.539991752070056, 5.32514390606599, 5.909609461125954, 4.55742625081035, 4.3366760207841955, 4.481191369948226, 5.357669902189995, 6.460853635413535, 5.879104805586673, 7.887788783829893, 6.600151933427618, 8.397130857929794, 9.448331715274932, 8.4977285966164, 8.486910534025181, 10.910725917021175, 26.967847529211795, 57.415420579744605, 53.953684901323754, 8.996082878002877, 52.89517971243066, 23.974362143287674, 7.556867793195696, 57.49510499491139, 76.27231104164477, 22.440485697738726, 57.934929314126386, 57.24081254996452, 62.360836869651024, 57.66135668209883, 58.10990398265196, 57.729100749689096, 62.29381394261517, 13.021078037263841, 4.472145595705914, 4.353658049296478, 4.415828609839199, 4.775128456900744, 4.9602935669658486, 4.900957113857451, 4.585528144084549, 4.179438680557824, 4.468909385017986, 5.103563693981224, 4.584845707272302, 4.410503758027221, 5.444103223051179, 4.253273958882218, 4.547870320515105, 4.69614501727342, 4.323340905053486, 5.023768292256247, 4.295833256706218, 4.890318895137469, 5.08154254508349, 3.501570105072706, 4.792204566081622, 4.71048915770554, 5.380648379812198, 3.485672956095446, 4.368127441904863, 5.022028927850388, 5.3817469699482405, 5.424747636417051, 6.004106144214093, 5.335059043235416, 5.418700335858286, 5.765139235572151, 10.787882608495158, 8.36319092319854, 10.86583111220992, 43.20164706181137, 44.70823372101794, 45.80099080851559, 45.02769750173009, 43.51796032981, 44.14137860149921, 19.51925560420973, 47.458778736246316, 43.96837784873219, 45.35128200566337, 20.49842499306243, 21.396626713193594, 20.548869535173957, 19.425386248214014, 21.0026606468943, 76.27231104164477, 21.24270617639431, 19.803748794278196, 18.913517123831767, 20.010853697826057, 21.963661647499357, 19.788412982869826, 20.453317660491436, 5.0107970383205656, 4.650894991225797, 4.98557221926138, 5.060521173314647, 6.679006859477221, 6.5185398559212295, 4.7183047336047, 4.677963136671889, 5.323555656004707, 4.639693299458373, 5.475753058264024, 4.51491656274805, 3.8870331162325513, 5.113596517522111, 6.353569008991288, 5.968760431005203, 5.67779935707463, 6.428826168061947, 5.993257622929802, 5.267001043778295, 6.783934274609154, 3.765631758187473, 5.6226767736503716, 7.05878046983908, 5.987151150022695, 6.064509485532429, 6.1390015515317415, 4.758267246088997, 7.286473458593165, 5.317077221381959, 6.0270698962582125, 7.805778088522721, 7.169270532572775, 9.226969692660239, 8.500578114603085, 7.945365501760218, 7.5276258133998954, 8.47452047240011, 7.598755035342562, 6.470798742293741, 14.649982880921678, 7.128298799932935, 7.236086188920297, 66.08604763115515, 11.061423877012679, 8.10339451689202, 8.586221767781451, 8.636183889803364, 10.480380630861942, 9.262212665208432, 8.773603516980996, 16.80468374349731, 8.76155170963875, 5.620192813624116, 6.267744959617905, 5.105579955168069, 6.363546993225645, 6.784679065789036, 6.318777574101899, 7.713179164899014, 6.750688146690594, 6.4081042566323845, 6.578466307280757, 6.478999679133387, 6.850593720529526, 6.526771472834965, 6.434796549966786, 6.786431635385208, 7.146030626541319, 5.972418627372175, 5.969452386357473, 6.641374328733724, 7.240813651102281, 7.754828615503249, 5.454050224958585, 6.037277889463737, 7.311555031550733, 7.551963266528422, 7.190140104680227, 7.11371569311946, 7.314635990077708, 6.325914317451291, 7.346609193852652, 7.642316554826179, 6.672454768473043, 8.894874550120084, 18.913517123831767, 19.462130863794396, 21.396626713193594, 20.77547033666943, 20.010853697826057, 19.425386248214014, 21.24270617639431, 20.49842499306243, 19.51925560420973, 19.788412982869826, 20.453317660491436, 21.0026606468943, 19.803748794278196, 20.548869535173957, 20.40546371212273, 21.963661647499357, 45.02769750173009, 43.51796032981, 44.14137860149921, 45.80099080851559, 43.96837784873219, 44.70823372101794, 43.20164706181137, 45.35128200566337, 47.458778736246316, 3.60471723893438, 4.138781885131669, 4.355750228953101, 3.659188061237806, 3.948384117410897, 5.115502660823891, 5.145849210755294, 4.8569319891596745, 3.7956340207937105, 3.729413323338636, 4.266565381693532, 3.979140654518395, 3.6544992181164506, 4.080937492034657, 4.617065683732928, 5.076419544251276, 4.000316845678933, 3.9648262293822207, 4.537551167493794, 3.3823808716742136, 4.437275550046377, 6.111455212881055, 6.4502463270976556, 4.53979510243828, 4.124452067633079, 4.548457280473411, 4.338763017591182, 4.071986095285771, 3.978383620669409, 3.940939108575671, 5.766449961329844, 4.368202595906504, 5.3000645587402415, 5.5847448698719715, 6.5074354463947115, 5.223631569226284, 6.837513506433112, 5.771443279125116, 13.444431450179286, 4.907343797969624, 12.721687490054894, 6.914172559841953, 15.44600109242581, 13.739970417996298, 17.688510954761565, 6.604827612163839, 19.048865805127054, 9.310195713710842, 15.0895855641457, 14.029934371796868, 15.587148324162028, 14.338378791000984, 13.326847283370082, 66.08604763115515, 13.558085212582501, 16.74408191661294, 35.915572727584426, 17.851342154199877, 14.195829048543795, 15.130318369432032, 14.032905299740339, 57.415420579744605, 15.82382842647554, 34.59232098227936, 35.354290481609425, 76.27231104164477, 23.682454350468422, 5.2367074215702845, 3.3334738149427645, 3.240532985756471, 3.6246528377877776, 4.036382226376676, 5.330886772980224, 5.755948640850742, 4.1728831016157635, 3.904797787733858, 3.789083265891129, 5.38285601907711, 4.151573053426781, 5.099753841762054, 4.430972609183225, 4.323978322572144, 4.4910887276471065, 3.6100616731523165, 4.781337284015208, 4.564283121815835, 5.393997071311717, 3.2166662536618063, 4.02200863475656, 4.9279999248321955, 4.607221037963677, 4.655347094546915, 4.135084186626956, 4.055954738732844, 4.957579735496979, 4.7720632480274805, 6.054683852691418, 12.853371873166715, 6.046982734002445, 14.308948976526194, 17.313377099277883, 5.368137851186813, 7.450350300553748, 7.223563526347547, 8.16293611537247, 5.483255836299149, 6.493252673885481, 20.73274119211567, 21.418684461137417, 22.285635438936815, 28.548156180166565, 17.17547215051805, 29.664750635948256, 17.851342154199877, 17.688510954761565, 19.048865805127054, 27.68471449093814, 16.92333884792293, 19.004695716468287, 16.55745564567092, 17.339254519126335, 15.0895855641457, 16.939603814659083, 18.772074254990482, 17.239932901940765, 58.10990398265196, 17.798171433337117, 76.27231104164477, 14.688772765887727, 57.24081254996452, 57.49510499491139, 66.08604763115515, 25.09095819963731, 57.66135668209883, 62.29381394261517, 3.831784735858381, 4.084227144772373, 5.377513645338945, 5.209456745549196, 4.814386947585919, 4.221561839115001, 4.241980700890839, 5.106276991539907, 3.9252956550746583, 6.080854926824145, 5.290440592646478, 4.095109624885723, 6.109304373850639, 4.699198225275236, 5.445119132199571, 4.532903879605113, 5.529399434930474, 5.757591296510612, 3.7719898733447454, 5.244844312048768, 5.407715353068007, 4.600428464470205, 5.397759413722201, 4.023621691668539, 5.112138620504863, 4.500597179256005, 5.184769477909538, 7.500576144928638, 4.359934399512377, 5.125141908308832, 5.662776165420942, 6.304026944577284, 6.794556097028504, 7.596578552640236, 6.841424594489702, 6.578632959304961, 6.574758837769615, 5.669639567765743, 22.541501645531405, 25.239319628229662, 27.108151918706586, 9.806114690929535, 6.14035995182322, 76.27231104164477, 62.360836869651024, 7.146648043903326, 14.352835394188494, 62.29381394261517, 22.285635438936815, 5.6211112069235805, 6.2654467686914534, 5.585442665564093, 4.008687345199139, 5.06670152861342, 5.224498306595073, 4.659579566056576, 4.752637622103012, 3.709269493898561, 5.547140681852741, 2.8234956997973217, 4.64316511016147, 2.918480005289872, 4.831113531985142, 5.504105824950501, 6.790780929941239, 4.609176505974748, 5.357387687833876, 3.7398993058357175, 5.027362167617432, 4.125408175206197, 3.9889056247531918, 3.470596969286485, 4.250033859870667, 4.4876699090775425, 4.72918161998702, 4.109946641425518, 4.492549548085403, 4.06282005909996, 4.039421528050615, 6.057506973823485, 6.225182357726994, 6.48082073996602, 7.167571516633232, 5.904895694175929, 5.746975893467195, 5.648186773943224, 5.69655444779224, 5.3968848427644485, 6.042990095400203, 7.455734225469073, 6.163444926210253, 5.631568687874876, 11.547934004992161, 21.97138800385867, 6.323136304242573, 7.2506497295232135, 6.729533817356968, 14.352835394188494, 10.488829353043451, 20.094518805239, 20.116594710140948, 53.953684901323754, 57.415420579744605, 7.626505494007517, 52.89517971243066, 5.093970193335495, 4.045299116224398, 4.227239446638193, 5.741459271432783, 4.525279355646285, 5.11940664228432, 5.395555916762127, 5.361407588240825, 4.624255700981042, 4.839526951212424, 6.221707713761759, 4.687055032272047, 5.014286422648111, 7.479377892224162, 4.095934172405737, 5.235245453600654, 6.218108112202433, 4.650401014120918, 5.083356959782895, 7.385828886888307, 4.011992140662793, 4.904773602310786, 5.767749874065857, 5.526608626753843, 5.3592050285220525, 5.155119302018607, 5.1713838155889755, 4.696475580658941, 4.232053649264157, 5.306525816312818, 5.850478172451641, 7.652393818420582, 6.06019957738734, 8.21361286121521, 7.721950951802825, 8.451991689985357, 7.496052561004188, 8.272278731694325, 8.881975554182503, 8.053844744521616, 8.486910534025181, 9.960367873928584, 8.245373260668254, 9.622336396082067, 8.815842722481454, 12.249089916672226, 9.888103955512339, 6.591697374337863, 8.355782341831995, 76.27231104164477, 15.737738533835161, 9.313898582508608, 57.934929314126386, 62.360836869651024, 11.909159784720789, 57.49510499491139, 57.729100749689096, 57.24081254996452, 58.10990398265196, 57.66135668209883, 62.29381394261517, 66.08604763115515, 27.68471449093814, 28.548156180166565, 33.503178077332905, 4.444843988822719, 3.3504227547138137, 4.630719975190354, 5.166984562468098, 7.646085657298558, 4.737371750998587, 5.610122484703756, 5.377444626529479, 7.603728002864942, 4.656928654087049, 3.325326529452322, 4.211560618803613, 4.645424756866115, 3.5637144460372534, 3.779213335545011, 4.739114341998537, 4.650516380909751, 6.7555931728289895, 7.654658407905035, 7.197104038599349, 3.8997588146876714, 4.501571497683364, 9.131897375893885, 4.228917957392395, 4.362928505763129, 8.836695554812211, 3.9644411638220722, 3.9874934001854783, 4.32324147203915, 6.35099936002455, 9.259510262672519, 10.659087474410104, 9.826024693599065, 9.332548996199094, 7.923549285007703, 8.68945733969413, 6.655768610673115, 8.111439310932877, 8.064206064333813, 6.6307667709925955, 8.055743274613807, 23.682454350468422, 24.657174442500544, 23.622625684984552, 24.333381030016213, 24.849065584797994, 24.412173230207532, 11.007335763374678, 9.370275935687715, 28.519068495286596, 9.488645107045445, 8.525152446664674, 27.68471449093814, 28.548156180166565, 29.664750635948256, 8.744904352601726, 17.798171433337117, 9.39539048511884, 3.308050631135433, 3.5658482807405414, 3.646125181022288, 4.194163689817507, 4.787968059018168, 5.4937414031038925, 4.660461040758394, 4.529754585102407, 3.8081216004613143, 3.710304845457791, 4.6014357405879265, 4.246893142425766, 4.608388950984159, 5.4250170775100806, 4.519558395857627, 4.383377452274709, 4.925057321244391, 3.495784052908966, 5.460917322001214, 5.439114574696448, 6.0958695163169745, 4.23596386896789, 5.361819725284663, 4.986259254670448, 4.782791494430695, 5.237494142465699, 4.0697141787674855, 6.058251626755176, 7.291159271788335, 4.402688032947187, 5.070342914476398, 7.216582428456283, 7.064155891775445, 5.767891881431114, 8.48555615752814, 6.725619792573746, 18.130245380468924, 5.716887665930845, 6.600151933427618, 17.766412485739256, 18.427217120692553, 19.172731151072934, 18.395005192568014, 6.786901887903997, 24.715517115276974, 7.4341669157829, 8.156596707438357, 6.345874521825511, 24.849065584797994, 22.285635438936815, 3.912480192266391, 3.964058399610894, 5.861916804552342, 4.662456653346848, 4.639426764182453, 4.001027733472502, 5.03083397564786, 4.012119880198029, 4.904963364269738, 7.234888494193462, 3.7519422300720775, 4.971943563903473, 6.656090922127605, 4.9092709895692925, 5.904199183358437, 5.196714175894246, 5.552334785358036, 5.888788482322086, 4.686968042402053, 4.415540403480495, 4.683484807865353, 6.905919923631479, 4.384671249399423, 4.672982822695827, 5.125562831576234, 4.379601930403784, 7.839249297920275, 6.228446013581978, 4.957853336655073, 4.874361850818351, 8.180176868050676, 8.98991200177523, 5.571440404311028, 9.289987528368284, 9.39892206183712, 9.065352530556412, 10.066291778104544, 7.784287103455013, 6.225768031296166, 7.160284722843111, 10.390700708105806, 11.988502577457902, 57.415420579744605, 23.974362143287674, 22.06617920805436, 23.45576335574233, 11.001900018893968, 11.818604065549408, 52.89517971243066, 53.953684901323754, 23.136107180335056, 22.440485697738726, 22.303922920421144, 12.050549035085684, 66.08604763115515, 7.453026079110762, 18.213288919773937, 4.731465392039753, 4.214976649872684, 5.187332847476374, 3.4891939579437863, 5.35563235491149, 3.704868801993879, 4.371366563335758, 5.3321738083084655, 5.2797123589706905, 4.65069232456766, 4.833408557464906, 5.013719800065213, 5.161643502753421, 5.085174605130554, 3.331294445959225, 4.578604583500185, 3.663518561428146, 4.784301929878613, 3.6890844869211508, 4.04309163883626, 4.773937641374582, 4.236665623015178, 5.285976924018049, 3.2825266666891713, 4.118635494160535, 3.970003402234805, 3.883229797218821, 4.946001814790882, 4.514234258307203, 4.345727902144288, 5.170073776726354, 4.84859908717474, 5.101874526973116, 6.002878048651544, 5.5421441791692905, 7.5244899964779615, 10.316589876287662, 5.377444626529479, 6.001664573216756, 4.863610703343439, 5.927204252333358, 7.431001162657861, 5.701341285904108, 6.462922610478368, 9.370275935687715, 6.870504249284032, 8.836695554812211, 7.197104038599349, 7.603728002864942, 7.646085657298558, 27.108151918706586, 6.649898827166504, 8.40074351477155, 11.007335763374678, 18.130245380468924, 8.95278055739335, 33.503178077332905, 9.131897375893885, 8.064206064333813, 9.217714670123245, 4.971772665249403, 5.843311253786884, 4.064172453839201, 4.059668395016492, 3.980414344667292, 4.484721736599231, 4.433505586641536, 2.70140371927589, 4.734129172464369, 3.4814857910005452, 5.205621208238789, 5.3938834718326305, 3.9508020204977727, 4.019199570104068, 4.571650840949165, 5.271808945215367, 6.278917772326171, 5.4489749523224065, 3.5548667211542964, 3.648603312414707, 5.848340055344672, 5.221593658744416, 3.2637448369784594, 4.87580631588951, 5.345500026732637, 4.132089262674132, 5.544927344421556, 4.7339803482338905, 5.437374783646257, 5.210534418570306, 6.1419094951115, 5.382520558314538, 6.121407987682913, 6.293785515787348, 5.356597273164243, 8.823857198788781, 8.934364631612514, 8.496900779547673, 9.8090523788095, 9.233675570139145, 8.996082878002877, 7.98007314341439, 9.316918496456442, 9.448331715274932, 10.154663868153442, 26.967847529211795, 15.404643477212153, 53.953684901323754, 57.415420579744605, 11.729499110076725, 52.89517971243066, 7.985211122231343, 8.27437691409181, 7.867574408040911, 66.08604763115515, 4.634162875073676, 5.077605746279407, 4.670709179498795, 5.533584410112496, 7.869961336262263, 5.016880502661993, 4.176937851785498, 3.5924149888226187, 3.7435145131438237, 6.21834010827949, 4.702629179394569, 7.541034912026852, 3.1726608556577034, 4.6427406776664, 5.05870584052645, 5.058317216783926, 5.275552908601429, 3.829378414036501, 4.661613172033635, 4.285577553154391, 6.24463090777874, 4.023184857863223, 4.13320640114298, 7.111805546602607, 4.734750318715139, 4.8657273558473415, 5.567328121523518, 4.2898841543649935, 4.23933904475492, 4.196333183270552, 5.750564452290189, 6.550839504678363, 8.066444311426693, 7.279334162195241, 4.9704961341844385, 5.5143260728900865, 5.417157941270943, 6.328191012048576, 7.546877008827053, 26.967847529211795, 14.527954415961986, 17.559331534465237, 14.031933814519583, 14.714537377622198, 76.27231104164477, 13.96987603337584, 23.18078794556613, 35.915572727584426, 62.360836869651024, 62.29381394261517, 14.114742804402672, 57.66135668209883, 24.244107854562476, 58.10990398265196, 20.947409023436265, 57.24081254996452, 57.729100749689096, 57.934929314126386, 57.49510499491139, 35.354290481609425, 23.89973690375967, 4.212192693921647, 4.400496524687874, 4.511051175591653, 4.586141619719557, 5.039930328432091, 4.177133810884385, 3.3267029635730703, 5.093114269185803, 5.323409736588668, 3.9485468679523845, 4.342649461456601, 4.639655596437694, 4.485776654461179, 2.866819287417393, 3.8102616852642215, 4.314546016532289, 4.619272385287592, 4.480106842779869, 4.989311036736477, 5.688740362666575, 6.292052404057127, 6.8476886808989175, 3.9737269520702783, 4.538983715644897, 4.835749875334205, 5.545579316469084, 5.919052520913962, 3.859366050663585, 3.449762368127393, 3.9628686489374156, 6.794675022264138, 4.924315042523187, 5.7602759623665465, 8.009942668003472, 5.254950281723269, 11.579447247324994, 5.769417853669035, 11.60237161636183, 7.962640636027592, 6.603682357884419, 11.658406018608101, 12.15869212885596, 16.345982166618235, 12.630871956784238, 12.983452763249254, 8.834554425229356, 15.160482765544092, 9.034902602311266, 66.08604763115515, 6.094672437391681, 25.239319628229662, 27.108151918706586, 22.541501645531405, 8.263712773983634, 19.21471791646965, 4.851474179218036, 4.966428814507146, 4.779562363855354, 3.4492327331701533, 3.8941654155404013, 5.549569013229879, 5.966743276910414, 4.697284161889842, 3.7070092037411144, 3.7298526160156285, 5.082628708027119, 4.198814752308996, 5.119755096372511, 4.1612172422387, 4.110307873828278, 5.438491615277514, 5.402988498059948, 4.1439217855936255, 5.321143663842132, 5.512048981112489, 4.665604518914161, 5.248188269196551, 5.647996734821137, 6.031160260359421, 5.134177660420625, 6.325914317451291, 6.0400436184142245, 4.543093119742703, 5.233479505809731, 4.991107690629041, 6.491267319159566, 7.164665568352278, 9.334831888781967, 11.858160632541116, 5.4097332440999155, 5.618835357143763, 6.786431635385208, 8.590195027853328, 9.148368049784699, 7.314635990077708, 10.022345010194869, 10.179273227193695, 9.911956729718897, 10.156418673373345, 9.439197118634548, 9.917915966330545, 27.108151918706586, 8.115397519859838, 8.894197959979055, 6.760255809551726, 3.0393248312549117, 3.969325318014943, 3.992200062413166, 5.453800239442588, 5.623076772873324, 3.7765554425556442, 4.005911833309166, 4.79000414574982, 4.386930545444721, 4.377304199043579, 3.935974750658549, 4.502768271881601, 4.211807236076927, 3.5175566550627635, 4.111383106410788, 3.6065815856763543, 5.537169897206091, 4.406071523130893, 4.154955970463326, 5.145480454987262, 4.664735471035922, 5.768082158646309, 4.200505818083768, 3.9971050948849833, 4.147595030955982, 4.390993492932316, 4.114328994287611, 3.932792717814094, 4.265657121315413, 4.701977964451772, 5.884155151545978, 5.331854921226556, 4.705028691620047, 5.555185791538725, 6.084419506923684, 6.25721087467642, 7.5051867671583405, 5.249298984392451, 6.8581992046234665, 13.529597119097058, 7.3295062472636525, 6.954007371257707, 6.398271646280165, 13.636383771669282, 5.528755181656543, 13.620371757597548, 12.95099879747532, 12.64981366906945, 13.101591489605985, 20.106239270619305, 13.35919222510526, 45.80099080851559, 15.561642940751472, 12.859730902967026, 13.887505135603693, 14.221066295533445, 22.18568371487838, 66.08604763115515, 22.27417644434483, 19.34948504114096, 43.96837784873219, 44.70823372101794, 22.557090920203738, 43.51796032981, 45.35128200566337, 44.14137860149921, 45.02769750173009, 47.458778736246316, 43.20164706181137, 4.679680058487353, 4.6901577389408065, 3.7189776458995376, 3.9197141300198806, 4.144623729793567, 4.496495003443484, 4.507825452420614, 4.213642063149799, 4.427561086083742, 4.541347698078345, 4.960062436467417, 3.9265365980215203, 3.9659187082129312, 4.22480818852204, 4.648789243577711, 4.440232033276678, 4.026726683297272, 6.491267319159566, 5.433131713235201, 4.7972554484807715, 4.008760641305295, 4.948458395264927, 5.709018534005529, 5.321143663842132, 4.45507760015957, 4.980249075243186, 4.4446152047415, 5.036811603290274, 4.105199076840246, 4.779562363855354, 6.757589298666078, 5.690732582391056, 5.585630218019892, 5.4909386000031795, 5.503758825146248, 7.667646857779066, 6.006414684086223, 6.463876145313575, 6.7783234702522766, 6.5832984580820755, 7.488077042740282, 6.7392331610116925, 7.587278635164329, 7.302732644712785, 7.579758755963217, 6.420690618596111, 33.503178077332905, 6.412283036465032, 8.523411851101526, 8.277804959503102, 8.08685947206934, 7.007707384406917, 6.964385430518962, 4.4601033334567335, 4.151630250117403, 4.096386694170351, 4.180772308563744, 5.249931301229532, 3.961609509655889, 3.530556159030003, 3.899570011688179, 4.170107971529068, 5.3361195829306025, 5.013728523513422, 4.619274241376873, 8.066624420519593, 4.571300884275396, 4.734750318715139, 3.9242063860814262, 5.089860035441075, 4.326988262843764, 6.025848602457851, 4.199504132175251, 5.073705844984697, 4.291879600031593, 4.049640471872312, 4.5084384856008395, 4.812296119043181, 5.254439038985192, 4.685044636515389, 4.766646348738854, 6.535786854017502, 5.357448818370662, 6.077437062320083, 7.125113357391561, 8.092517001626426, 5.83055032627961, 7.455546332395313, 5.652663145649271, 7.67393461359994, 6.048982997467267, 8.2598641069488, 16.226046675399182, 15.594663309209333, 16.948323574541458, 18.142146488600567, 21.094916468174937, 17.107663456180244, 16.74408191661294, 17.32839976571742, 14.646529251614185, 15.560242182735287, 15.566076229123365, 35.354290481609425, 15.377971732923136, 15.880910301863237, 15.913967088515403, 34.59232098227936, 35.915572727584426, 16.322313948995617, 19.050643960175048, 15.86113910526259, 3.6695693277930634, 3.4630086007917416, 5.1300768511486385, 4.217412743447862, 4.299748611787962, 4.643282153721685, 4.834902450367209, 4.3370470694139405, 3.5336545204525587, 3.966353901653923, 4.786900640452823, 3.972221112844388, 4.096552667830314, 3.2159813759075013, 3.8587759491767866, 4.656199903029428, 3.7901113992329747, 3.857245340005164, 4.351882088094737, 4.429320667703275, 5.803279535017283, 4.091721747314526, 4.1462457276231826, 4.427463833642018, 4.923965255632729, 4.08897832877167, 4.75779019016352, 5.824055247001018, 3.7570227024379217, 4.574008967537451, 4.663233321432427, 6.079276174677002, 6.203201697326796, 6.527440661368735, 4.8743574075552045, 7.298989927831509, 7.073247225770725, 6.048883027113682, 6.831336770873786, 10.95800463054948, 5.905638817088616, 7.104072522659953, 53.953684901323754, 25.239319628229662, 20.664296613002485, 52.89517971243066, 11.707646733665786, 57.415420579744605, 6.826632904339864, 7.380960934477865, 3.3367609479089317, 4.493431830161477, 4.7068888488809, 3.9636506115876062, 3.889380132497274, 4.403735883122914, 4.582513454735034, 4.945209000716582, 3.909569820778821, 5.315706864767883, 5.119982437456542, 4.170805263928972, 4.891092678709104, 6.145795806389919, 4.061307632274675, 4.770354802523772, 3.9818634716993513, 3.835718983520004, 5.069414389794415, 4.411029307210222, 4.585299452939502, 5.03618566581073, 4.255245746593239, 3.6280740124314317, 3.7790315989192544, 3.778483780530483, 3.9620965461290667, 4.126630926395658, 4.264166351202541, 5.542502113802965, 5.461616579335154, 5.296970086323877, 5.613070243304712, 5.700374788395615, 4.970662260370235, 5.292986880768594, 5.857829373495321, 6.513796050802026, 5.7563925931048505, 4.981890194533378, 8.423818951229176, 53.953684901323754, 15.560242182735287, 12.721687490054894, 15.377971732923136, 35.915572727584426, 52.89517971243066, 12.896069542611686, 57.415420579744605, 15.566076229123365, 35.354290481609425, 34.59232098227936, 17.32839976571742, 15.913967088515403, 15.86113910526259, 13.558085212582501, 16.322313948995617, 14.646529251614185, 6.503063977849476, 3.994503028858579, 4.706532176406348, 3.505214283771471, 4.7940465399882894, 4.543708979871508, 3.932145359259394, 4.1464706683688455, 4.587360405346155, 4.456147462847344, 4.1489097840823215, 4.790479943465245, 4.840414777227841, 5.379528689604054, 6.8249526128131315, 5.093295190774991, 5.505959935224141, 4.888369036694675, 7.818759109321003, 5.8625906302582536, 3.7098685476893776, 3.797466689624685, 4.210379548684219, 5.552526933771234, 3.559051155626678, 3.31766573189284, 4.211630952385744, 4.496521626623925, 4.794978759632537, 4.349286788547846, 6.809964776310606, 8.270761534426075, 7.8866354425950504, 6.548777998334306, 5.8238086910196305, 5.157261263277617, 5.806835598867257, 5.536899696638664, 7.893399680102582, 9.22125843074392, 5.952295605663324, 6.417639896094165, 6.622385103839243, 9.9059267480404, 18.58851961392049, 28.519068495286596, 33.503178077332905, 53.953684901323754, 57.415420579744605, 52.89517971243066, 3.851849956358998, 3.5467314880617344, 4.593470130553997, 4.031688601225324, 4.3935783987123616, 5.269787874651864, 4.706357545004219, 4.732130828490906, 5.308029301927914, 4.043302898367231, 3.9181204009337463, 4.114005564189787, 5.11772300259167, 3.465309686635195, 5.604574081254596, 3.176335571701763, 4.2719484038283975, 3.9684397234598277, 4.548689973878624, 4.153375032209647, 2.7737821686167625, 3.4690239780981837, 3.706105557772381, 5.246854822380809, 4.097830301244848, 3.4417668286085243, 3.441064772662067, 4.457555473203956, 3.702463681052907, 4.360480541169288, 5.411465043793632, 4.314179369221775, 5.179628695943556, 5.766212985559872, 6.520943222837753, 5.87685864978368, 5.516433065324176, 4.92546171092838, 6.104918731115781, 5.8939699130484, 5.3328125330288, 5.140112836546796, 5.600606738229832, 5.282056387585052, 8.011668371812672, 8.397345455738568, 11.824856852229594, 11.260087775833085, 5.818407733466256, 6.077044292555874, 12.635135545216492, 45.80099080851559, 18.566505199261105, 4.143221324429482, 3.920917109965326, 4.52035127535408, 4.37636768654698, 4.973838274621293, 4.880384944002349, 4.010949615549166, 4.238578576376327, 5.4151954344413085, 4.435453356769051, 4.294184949940344, 3.643447346076016, 4.846732645716368, 5.501207587929455, 4.949548634662697, 3.462312816204954, 4.250512906780753, 4.043222137990003, 4.682092634481119, 4.363998000001368, 4.827979999364609, 4.748517290695784, 5.604859638863996, 3.847812372618569, 4.873089923886322, 4.744742496245514, 4.781856537055994, 4.883893845938436, 5.423599613979887, 4.132418106104425, 5.992490466132979, 6.627793529932523, 6.620571505459551, 5.148093853223732, 5.515453035579355, 6.150030747396134, 5.447838894507041, 6.586737818876266, 6.170430029054523, 6.08015652493586, 7.516916038964948, 9.233353855709245, 12.983452763249254, 16.345982166618235, 15.160482765544092, 66.08604763115515, 7.151133618996938, 6.338227737712042, 11.60237161636183, 12.630871956784238, 7.693784871647312, 3.971904231609516, 4.953657231457237, 4.309681333618458, 3.7105447451138853, 3.844492574446803, 3.9860808089429156, 3.335320204956723, 4.774647978794439, 4.513450295399971, 3.268265211393272, 3.9424483825966297, 4.392183531950987, 3.9163134913613558, 3.3433533402877242, 3.390908391111579, 5.142798794774768, 4.741949042154886, 4.219220773537962, 4.677461151776578, 4.015560708085467, 4.010907844922364, 4.130145244752761, 3.5326999149218175, 5.101541621929981, 4.189487709857914, 3.113440648926031, 4.6192126445984965, 3.6792726536065943, 4.907712788058477, 4.934968873699787, 5.344933321407846, 5.279955883802332, 4.836515197920442, 5.459295395641714, 5.268533341279782, 5.605070932486086, 7.232887144839852, 5.143499463670203, 8.452896727255968, 5.929728176746468, 5.158530577935376, 6.039563869043107, 6.265601012260569, 17.688510954761565, 7.2796245006244025, 20.68801541990819, 19.050643960175048, 21.094916468174937, 7.81150244071637, 66.08604763115515, 9.889152294184191, 3.6915333335280747, 4.1156364666545375, 4.931783405937046, 3.8448201712056966, 4.346745877896146, 3.563103083197318, 3.5727103558058313, 3.0298600322333855, 4.8808201609833635, 4.220442597126624, 3.612834301826553, 3.084651377824847, 3.933957761099445, 3.089963068724091, 5.325156817159652, 4.455239623599574, 3.83787322849987, 4.145364896047048, 3.706200860852539, 4.286469063635484, 3.828911287706499, 4.702831005316871, 4.325335965312063, 5.254503568552875, 5.590553390910908, 4.2209912041261894, 3.194804458024553, 4.466244096095499, 5.438090829160351, 3.671637666025117, 4.964256679510442, 4.207893779911893, 4.801403052382987, 5.2848457269461955, 5.221284077418594, 4.554151887386053, 4.855943698171768, 9.705759253430557, 6.981667702459781, 9.349207237449408, 43.20164706181137, 45.02769750173009, 44.14137860149921, 47.458778736246316, 45.80099080851559, 45.35128200566337, 43.96837784873219, 43.51796032981, 44.70823372101794, 6.779913990627738, 19.51925560420973, 10.130762882750696, 19.803748794278196, 20.010853697826057, 21.963661647499357, 20.77547033666943, 9.83917537749842, 3.788602041727837, 3.9166049903118396, 3.56341328957663, 4.572237274173721, 3.9707230240266878, 3.905568752874843, 3.449593587191843, 4.539965378144527, 4.059534170629729, 4.467819585672451, 3.922927088901058, 4.193886946323019, 3.2459807693913123, 4.101584340055476, 4.628572633628059, 4.755410630515807, 4.205953003418332, 4.842663503917628, 3.3897417922255735, 5.030833627518084, 4.806699280637603, 4.425281789832706, 3.8276898610969927, 4.453989675251626, 4.081486340878492, 4.135804704675329, 5.505843377901185, 5.553148996868881, 3.6753834413285578, 4.002466637672088, 4.593086388604091, 5.025701513010073, 4.747632787919609, 5.17933121660322, 5.590457338414973, 4.954904091177639, 4.730328008153689, 5.4582708583357125, 9.812425298082527, 7.819403959289237, 6.319971874351383, 10.301648496075504, 10.833940058308318, 9.622226874470066, 57.415420579744605, 6.425668361895198, 10.009869882203589, 13.527748278667211], \"Category\": [\"Default\", \"Default\", \"Default\", \"Default\", \"Default\", \"Default\", \"Default\", \"Default\", \"Default\", \"Default\", \"Default\", \"Default\", \"Default\", \"Default\", \"Default\", \"Default\", \"Default\", \"Default\", \"Default\", \"Default\", \"Default\", \"Default\", \"Default\", \"Default\", \"Default\", \"Default\", \"Default\", \"Default\", \"Default\", \"Default\", \"Topic1\", \"Topic1\", \"Topic1\", \"Topic1\", \"Topic1\", \"Topic1\", \"Topic1\", \"Topic1\", \"Topic1\", \"Topic1\", \"Topic1\", \"Topic1\", \"Topic1\", \"Topic1\", \"Topic1\", \"Topic1\", \"Topic1\", \"Topic1\", \"Topic1\", \"Topic1\", \"Topic1\", \"Topic1\", \"Topic1\", \"Topic1\", \"Topic1\", \"Topic1\", \"Topic1\", \"Topic1\", \"Topic1\", \"Topic1\", \"Topic1\", \"Topic1\", \"Topic1\", \"Topic1\", \"Topic1\", \"Topic1\", \"Topic1\", \"Topic1\", \"Topic1\", \"Topic1\", \"Topic1\", \"Topic1\", \"Topic1\", \"Topic1\", \"Topic1\", \"Topic1\", \"Topic1\", \"Topic1\", \"Topic1\", \"Topic1\", \"Topic1\", \"Topic1\", \"Topic1\", \"Topic1\", \"Topic1\", \"Topic1\", \"Topic1\", \"Topic1\", \"Topic1\", \"Topic1\", \"Topic1\", \"Topic1\", \"Topic2\", \"Topic2\", \"Topic2\", \"Topic2\", \"Topic2\", \"Topic2\", \"Topic2\", \"Topic2\", \"Topic2\", \"Topic2\", \"Topic2\", \"Topic2\", \"Topic2\", \"Topic2\", \"Topic2\", \"Topic2\", \"Topic2\", \"Topic2\", \"Topic2\", \"Topic2\", \"Topic2\", \"Topic2\", \"Topic2\", \"Topic2\", \"Topic2\", \"Topic2\", \"Topic2\", \"Topic2\", \"Topic2\", \"Topic2\", \"Topic2\", \"Topic2\", \"Topic2\", \"Topic2\", \"Topic2\", \"Topic2\", \"Topic2\", \"Topic2\", \"Topic2\", \"Topic2\", \"Topic2\", \"Topic2\", \"Topic2\", \"Topic2\", \"Topic2\", \"Topic2\", \"Topic2\", \"Topic2\", \"Topic2\", \"Topic2\", \"Topic2\", \"Topic2\", \"Topic2\", \"Topic2\", \"Topic2\", \"Topic2\", \"Topic2\", \"Topic2\", \"Topic2\", \"Topic2\", \"Topic2\", \"Topic2\", \"Topic2\", \"Topic2\", \"Topic2\", \"Topic2\", \"Topic3\", \"Topic3\", \"Topic3\", \"Topic3\", \"Topic3\", \"Topic3\", \"Topic3\", \"Topic3\", \"Topic3\", \"Topic3\", \"Topic3\", \"Topic3\", \"Topic3\", \"Topic3\", \"Topic3\", \"Topic3\", \"Topic3\", \"Topic3\", \"Topic3\", \"Topic3\", \"Topic3\", \"Topic3\", \"Topic3\", \"Topic3\", \"Topic3\", \"Topic3\", \"Topic3\", \"Topic3\", \"Topic3\", \"Topic3\", \"Topic3\", \"Topic3\", \"Topic3\", \"Topic3\", \"Topic3\", \"Topic3\", \"Topic3\", \"Topic3\", \"Topic3\", \"Topic3\", \"Topic3\", \"Topic3\", \"Topic3\", \"Topic3\", \"Topic3\", \"Topic3\", \"Topic4\", \"Topic4\", \"Topic4\", \"Topic4\", \"Topic4\", \"Topic4\", \"Topic4\", \"Topic4\", \"Topic4\", \"Topic4\", \"Topic4\", \"Topic4\", \"Topic4\", \"Topic4\", \"Topic4\", \"Topic4\", \"Topic4\", \"Topic4\", \"Topic4\", \"Topic4\", \"Topic4\", \"Topic4\", \"Topic4\", \"Topic4\", \"Topic4\", \"Topic4\", \"Topic4\", \"Topic4\", \"Topic4\", \"Topic4\", \"Topic4\", \"Topic4\", \"Topic4\", \"Topic4\", \"Topic4\", \"Topic4\", \"Topic4\", \"Topic4\", \"Topic4\", \"Topic4\", \"Topic4\", \"Topic4\", \"Topic4\", \"Topic4\", \"Topic4\", \"Topic4\", \"Topic4\", \"Topic4\", \"Topic4\", \"Topic4\", \"Topic4\", \"Topic4\", \"Topic4\", \"Topic4\", \"Topic4\", \"Topic4\", \"Topic4\", \"Topic5\", \"Topic5\", \"Topic5\", \"Topic5\", \"Topic5\", \"Topic5\", \"Topic5\", \"Topic5\", \"Topic5\", \"Topic5\", \"Topic5\", \"Topic5\", \"Topic5\", \"Topic5\", \"Topic5\", \"Topic5\", \"Topic5\", \"Topic5\", \"Topic5\", \"Topic5\", \"Topic5\", \"Topic5\", \"Topic5\", \"Topic5\", \"Topic5\", \"Topic5\", \"Topic5\", \"Topic5\", \"Topic5\", \"Topic5\", \"Topic5\", \"Topic5\", \"Topic5\", \"Topic5\", \"Topic5\", \"Topic5\", \"Topic5\", \"Topic5\", \"Topic5\", \"Topic5\", \"Topic5\", \"Topic5\", \"Topic5\", \"Topic5\", \"Topic5\", \"Topic5\", \"Topic5\", \"Topic5\", \"Topic5\", \"Topic5\", \"Topic5\", \"Topic5\", \"Topic5\", \"Topic5\", \"Topic5\", \"Topic5\", \"Topic5\", \"Topic5\", \"Topic6\", \"Topic6\", \"Topic6\", \"Topic6\", \"Topic6\", \"Topic6\", \"Topic6\", \"Topic6\", \"Topic6\", \"Topic6\", \"Topic6\", \"Topic6\", \"Topic6\", \"Topic6\", \"Topic6\", \"Topic6\", \"Topic6\", \"Topic6\", \"Topic6\", \"Topic6\", \"Topic6\", \"Topic6\", \"Topic6\", \"Topic6\", \"Topic6\", \"Topic6\", \"Topic6\", \"Topic6\", \"Topic6\", \"Topic6\", \"Topic6\", \"Topic6\", \"Topic6\", \"Topic6\", \"Topic6\", \"Topic6\", \"Topic6\", \"Topic6\", \"Topic6\", \"Topic6\", \"Topic6\", \"Topic6\", \"Topic6\", \"Topic6\", \"Topic6\", \"Topic6\", \"Topic6\", \"Topic6\", \"Topic6\", \"Topic6\", \"Topic6\", \"Topic6\", \"Topic6\", \"Topic6\", \"Topic6\", \"Topic6\", \"Topic6\", \"Topic6\", \"Topic6\", \"Topic6\", \"Topic6\", \"Topic7\", \"Topic7\", \"Topic7\", \"Topic7\", \"Topic7\", \"Topic7\", \"Topic7\", \"Topic7\", \"Topic7\", \"Topic7\", \"Topic7\", \"Topic7\", \"Topic7\", \"Topic7\", \"Topic7\", \"Topic7\", \"Topic7\", \"Topic7\", \"Topic7\", \"Topic7\", \"Topic7\", \"Topic7\", \"Topic7\", \"Topic7\", \"Topic7\", \"Topic7\", \"Topic7\", \"Topic7\", \"Topic7\", \"Topic7\", \"Topic7\", \"Topic7\", \"Topic7\", \"Topic7\", \"Topic7\", \"Topic7\", \"Topic7\", \"Topic7\", \"Topic7\", \"Topic7\", \"Topic7\", \"Topic7\", \"Topic7\", \"Topic7\", \"Topic7\", \"Topic7\", \"Topic7\", \"Topic7\", \"Topic7\", \"Topic7\", \"Topic7\", \"Topic7\", \"Topic7\", \"Topic7\", \"Topic7\", \"Topic7\", \"Topic7\", \"Topic7\", \"Topic7\", \"Topic7\", \"Topic7\", \"Topic7\", \"Topic7\", \"Topic7\", \"Topic7\", \"Topic7\", \"Topic7\", \"Topic7\", \"Topic7\", \"Topic7\", \"Topic8\", \"Topic8\", \"Topic8\", \"Topic8\", \"Topic8\", \"Topic8\", \"Topic8\", \"Topic8\", \"Topic8\", \"Topic8\", \"Topic8\", \"Topic8\", \"Topic8\", \"Topic8\", \"Topic8\", \"Topic8\", \"Topic8\", \"Topic8\", \"Topic8\", \"Topic8\", \"Topic8\", \"Topic8\", \"Topic8\", \"Topic8\", \"Topic8\", \"Topic8\", \"Topic8\", \"Topic8\", \"Topic8\", \"Topic8\", \"Topic8\", \"Topic8\", \"Topic8\", \"Topic8\", \"Topic8\", \"Topic8\", \"Topic8\", \"Topic8\", \"Topic8\", \"Topic8\", \"Topic8\", \"Topic8\", \"Topic8\", \"Topic8\", \"Topic8\", \"Topic8\", \"Topic8\", \"Topic8\", \"Topic8\", \"Topic8\", \"Topic8\", \"Topic8\", \"Topic8\", \"Topic8\", \"Topic8\", \"Topic8\", \"Topic8\", \"Topic8\", \"Topic8\", \"Topic8\", \"Topic8\", \"Topic8\", \"Topic8\", \"Topic8\", \"Topic9\", \"Topic9\", \"Topic9\", \"Topic9\", \"Topic9\", \"Topic9\", \"Topic9\", \"Topic9\", \"Topic9\", \"Topic9\", \"Topic9\", \"Topic9\", \"Topic9\", \"Topic9\", \"Topic9\", \"Topic9\", \"Topic9\", \"Topic9\", \"Topic9\", \"Topic9\", \"Topic9\", \"Topic9\", \"Topic9\", \"Topic9\", \"Topic9\", \"Topic9\", \"Topic9\", \"Topic9\", \"Topic9\", \"Topic9\", \"Topic9\", \"Topic9\", \"Topic9\", \"Topic9\", \"Topic9\", \"Topic9\", \"Topic9\", \"Topic9\", \"Topic9\", \"Topic9\", \"Topic9\", \"Topic9\", \"Topic9\", \"Topic9\", \"Topic9\", \"Topic9\", \"Topic9\", \"Topic9\", \"Topic9\", \"Topic9\", \"Topic9\", \"Topic9\", \"Topic9\", \"Topic9\", \"Topic9\", \"Topic9\", \"Topic9\", \"Topic9\", \"Topic9\", \"Topic9\", \"Topic9\", \"Topic9\", \"Topic9\", \"Topic9\", \"Topic9\", \"Topic9\", \"Topic9\", \"Topic9\", \"Topic9\", \"Topic9\", \"Topic9\", \"Topic10\", \"Topic10\", \"Topic10\", \"Topic10\", \"Topic10\", \"Topic10\", \"Topic10\", \"Topic10\", \"Topic10\", \"Topic10\", \"Topic10\", \"Topic10\", \"Topic10\", \"Topic10\", \"Topic10\", \"Topic10\", \"Topic10\", \"Topic10\", \"Topic10\", \"Topic10\", \"Topic10\", \"Topic10\", \"Topic10\", \"Topic10\", \"Topic10\", \"Topic10\", \"Topic10\", \"Topic10\", \"Topic10\", \"Topic10\", \"Topic10\", \"Topic10\", \"Topic10\", \"Topic10\", \"Topic10\", \"Topic10\", \"Topic10\", \"Topic10\", \"Topic10\", \"Topic10\", \"Topic10\", \"Topic10\", \"Topic10\", \"Topic10\", \"Topic10\", \"Topic10\", \"Topic10\", \"Topic10\", \"Topic10\", \"Topic10\", \"Topic10\", \"Topic10\", \"Topic10\", \"Topic10\", \"Topic10\", \"Topic10\", \"Topic10\", \"Topic11\", \"Topic11\", \"Topic11\", \"Topic11\", \"Topic11\", \"Topic11\", \"Topic11\", \"Topic11\", \"Topic11\", \"Topic11\", \"Topic11\", \"Topic11\", \"Topic11\", \"Topic11\", \"Topic11\", \"Topic11\", \"Topic11\", \"Topic11\", \"Topic11\", \"Topic11\", \"Topic11\", \"Topic11\", \"Topic11\", \"Topic11\", \"Topic11\", \"Topic11\", \"Topic11\", \"Topic11\", \"Topic11\", \"Topic11\", \"Topic11\", \"Topic11\", \"Topic11\", \"Topic11\", \"Topic11\", \"Topic11\", \"Topic11\", \"Topic11\", \"Topic11\", \"Topic11\", \"Topic11\", \"Topic11\", \"Topic11\", \"Topic11\", \"Topic11\", \"Topic11\", \"Topic11\", \"Topic11\", \"Topic11\", \"Topic11\", \"Topic11\", \"Topic11\", \"Topic11\", \"Topic11\", \"Topic11\", \"Topic11\", \"Topic11\", \"Topic11\", \"Topic11\", \"Topic11\", \"Topic12\", \"Topic12\", \"Topic12\", \"Topic12\", \"Topic12\", \"Topic12\", \"Topic12\", \"Topic12\", \"Topic12\", \"Topic12\", \"Topic12\", \"Topic12\", \"Topic12\", \"Topic12\", \"Topic12\", \"Topic12\", \"Topic12\", \"Topic12\", \"Topic12\", \"Topic12\", \"Topic12\", \"Topic12\", \"Topic12\", \"Topic12\", \"Topic12\", \"Topic12\", \"Topic12\", \"Topic12\", \"Topic12\", \"Topic12\", \"Topic12\", \"Topic12\", \"Topic12\", \"Topic12\", \"Topic12\", \"Topic12\", \"Topic12\", \"Topic12\", \"Topic12\", \"Topic12\", \"Topic12\", \"Topic12\", \"Topic12\", \"Topic12\", \"Topic12\", \"Topic12\", \"Topic12\", \"Topic12\", \"Topic12\", \"Topic12\", \"Topic12\", \"Topic12\", \"Topic12\", \"Topic12\", \"Topic12\", \"Topic12\", \"Topic12\", \"Topic12\", \"Topic12\", \"Topic12\", \"Topic12\", \"Topic12\", \"Topic13\", \"Topic13\", \"Topic13\", \"Topic13\", \"Topic13\", \"Topic13\", \"Topic13\", \"Topic13\", \"Topic13\", \"Topic13\", \"Topic13\", \"Topic13\", \"Topic13\", \"Topic13\", \"Topic13\", \"Topic13\", \"Topic13\", \"Topic13\", \"Topic13\", \"Topic13\", \"Topic13\", \"Topic13\", \"Topic13\", \"Topic13\", \"Topic13\", \"Topic13\", \"Topic13\", \"Topic13\", \"Topic13\", \"Topic13\", \"Topic13\", \"Topic13\", \"Topic13\", \"Topic13\", \"Topic13\", \"Topic13\", \"Topic13\", \"Topic13\", \"Topic13\", \"Topic13\", \"Topic13\", \"Topic13\", \"Topic13\", \"Topic13\", \"Topic13\", \"Topic13\", \"Topic13\", \"Topic13\", \"Topic13\", \"Topic13\", \"Topic13\", \"Topic13\", \"Topic13\", \"Topic13\", \"Topic13\", \"Topic13\", \"Topic13\", \"Topic13\", \"Topic13\", \"Topic13\", \"Topic13\", \"Topic13\", \"Topic14\", \"Topic14\", \"Topic14\", \"Topic14\", \"Topic14\", \"Topic14\", \"Topic14\", \"Topic14\", \"Topic14\", \"Topic14\", \"Topic14\", \"Topic14\", \"Topic14\", \"Topic14\", \"Topic14\", \"Topic14\", \"Topic14\", \"Topic14\", \"Topic14\", \"Topic14\", \"Topic14\", \"Topic14\", \"Topic14\", \"Topic14\", \"Topic14\", \"Topic14\", \"Topic14\", \"Topic14\", \"Topic14\", \"Topic14\", \"Topic14\", \"Topic14\", \"Topic14\", \"Topic14\", \"Topic14\", \"Topic14\", \"Topic14\", \"Topic14\", \"Topic14\", \"Topic14\", \"Topic14\", \"Topic14\", \"Topic14\", \"Topic14\", \"Topic14\", \"Topic14\", \"Topic14\", \"Topic14\", \"Topic14\", \"Topic14\", \"Topic14\", \"Topic14\", \"Topic14\", \"Topic14\", \"Topic14\", \"Topic14\", \"Topic14\", \"Topic14\", \"Topic14\", \"Topic14\", \"Topic14\", \"Topic15\", \"Topic15\", \"Topic15\", \"Topic15\", \"Topic15\", \"Topic15\", \"Topic15\", \"Topic15\", \"Topic15\", \"Topic15\", \"Topic15\", \"Topic15\", \"Topic15\", \"Topic15\", \"Topic15\", \"Topic15\", \"Topic15\", \"Topic15\", \"Topic15\", \"Topic15\", \"Topic15\", \"Topic15\", \"Topic15\", \"Topic15\", \"Topic15\", \"Topic15\", \"Topic15\", \"Topic15\", \"Topic15\", \"Topic15\", \"Topic15\", \"Topic15\", \"Topic15\", \"Topic15\", \"Topic15\", \"Topic15\", \"Topic15\", \"Topic15\", \"Topic15\", \"Topic15\", \"Topic15\", \"Topic15\", \"Topic15\", \"Topic15\", \"Topic15\", \"Topic15\", \"Topic15\", \"Topic15\", \"Topic15\", \"Topic15\", \"Topic15\", \"Topic15\", \"Topic15\", \"Topic15\", \"Topic15\", \"Topic15\", \"Topic15\", \"Topic15\", \"Topic15\", \"Topic15\", \"Topic15\", \"Topic15\", \"Topic15\", \"Topic15\", \"Topic15\", \"Topic15\", \"Topic16\", \"Topic16\", \"Topic16\", \"Topic16\", \"Topic16\", \"Topic16\", \"Topic16\", \"Topic16\", \"Topic16\", \"Topic16\", \"Topic16\", \"Topic16\", \"Topic16\", \"Topic16\", \"Topic16\", \"Topic16\", \"Topic16\", \"Topic16\", \"Topic16\", \"Topic16\", \"Topic16\", \"Topic16\", \"Topic16\", \"Topic16\", \"Topic16\", \"Topic16\", \"Topic16\", \"Topic16\", \"Topic16\", \"Topic16\", \"Topic16\", \"Topic16\", \"Topic16\", \"Topic16\", \"Topic16\", \"Topic16\", \"Topic16\", \"Topic16\", \"Topic16\", \"Topic16\", \"Topic16\", \"Topic16\", \"Topic16\", \"Topic16\", \"Topic16\", \"Topic16\", \"Topic16\", \"Topic16\", \"Topic16\", \"Topic16\", \"Topic16\", \"Topic16\", \"Topic16\", \"Topic16\", \"Topic16\", \"Topic16\", \"Topic16\", \"Topic16\", \"Topic16\", \"Topic16\", \"Topic16\", \"Topic16\", \"Topic16\", \"Topic16\", \"Topic16\", \"Topic16\", \"Topic16\", \"Topic17\", \"Topic17\", \"Topic17\", \"Topic17\", \"Topic17\", \"Topic17\", \"Topic17\", \"Topic17\", \"Topic17\", \"Topic17\", \"Topic17\", \"Topic17\", \"Topic17\", \"Topic17\", \"Topic17\", \"Topic17\", \"Topic17\", \"Topic17\", \"Topic17\", \"Topic17\", \"Topic17\", \"Topic17\", \"Topic17\", \"Topic17\", \"Topic17\", \"Topic17\", \"Topic17\", \"Topic17\", \"Topic17\", \"Topic17\", \"Topic17\", \"Topic17\", \"Topic17\", \"Topic17\", \"Topic17\", \"Topic17\", \"Topic17\", \"Topic17\", \"Topic17\", \"Topic17\", \"Topic17\", \"Topic17\", \"Topic17\", \"Topic17\", \"Topic17\", \"Topic17\", \"Topic17\", \"Topic17\", \"Topic17\", \"Topic17\", \"Topic17\", \"Topic17\", \"Topic17\", \"Topic17\", \"Topic17\", \"Topic17\", \"Topic17\", \"Topic17\", \"Topic17\", \"Topic17\", \"Topic17\", \"Topic17\", \"Topic17\", \"Topic17\", \"Topic17\", \"Topic17\", \"Topic18\", \"Topic18\", \"Topic18\", \"Topic18\", \"Topic18\", \"Topic18\", \"Topic18\", \"Topic18\", \"Topic18\", \"Topic18\", \"Topic18\", \"Topic18\", \"Topic18\", \"Topic18\", \"Topic18\", \"Topic18\", \"Topic18\", \"Topic18\", \"Topic18\", \"Topic18\", \"Topic18\", \"Topic18\", \"Topic18\", \"Topic18\", \"Topic18\", \"Topic18\", \"Topic18\", \"Topic18\", \"Topic18\", \"Topic18\", \"Topic18\", \"Topic18\", \"Topic18\", \"Topic18\", \"Topic18\", \"Topic18\", \"Topic18\", \"Topic18\", \"Topic18\", \"Topic18\", \"Topic18\", \"Topic18\", \"Topic18\", \"Topic18\", \"Topic18\", \"Topic18\", \"Topic18\", \"Topic18\", \"Topic18\", \"Topic18\", \"Topic18\", \"Topic18\", \"Topic18\", \"Topic18\", \"Topic18\", \"Topic18\", \"Topic18\", \"Topic19\", \"Topic19\", \"Topic19\", \"Topic19\", \"Topic19\", \"Topic19\", \"Topic19\", \"Topic19\", \"Topic19\", \"Topic19\", \"Topic19\", \"Topic19\", \"Topic19\", \"Topic19\", \"Topic19\", \"Topic19\", \"Topic19\", \"Topic19\", \"Topic19\", \"Topic19\", \"Topic19\", \"Topic19\", \"Topic19\", \"Topic19\", \"Topic19\", \"Topic19\", \"Topic19\", \"Topic19\", \"Topic19\", \"Topic19\", \"Topic19\", \"Topic19\", \"Topic19\", \"Topic19\", \"Topic19\", \"Topic19\", \"Topic19\", \"Topic19\", \"Topic19\", \"Topic19\", \"Topic19\", \"Topic19\", \"Topic19\", \"Topic19\", \"Topic19\", \"Topic19\", \"Topic19\", \"Topic19\", \"Topic19\", \"Topic19\", \"Topic19\", \"Topic19\", \"Topic19\", \"Topic19\", \"Topic19\", \"Topic19\", \"Topic19\", \"Topic19\", \"Topic19\", \"Topic19\", \"Topic20\", \"Topic20\", \"Topic20\", \"Topic20\", \"Topic20\", \"Topic20\", \"Topic20\", \"Topic20\", \"Topic20\", \"Topic20\", \"Topic20\", \"Topic20\", \"Topic20\", \"Topic20\", \"Topic20\", \"Topic20\", \"Topic20\", \"Topic20\", \"Topic20\", \"Topic20\", \"Topic20\", \"Topic20\", \"Topic20\", \"Topic20\", \"Topic20\", \"Topic20\", \"Topic20\", \"Topic20\", \"Topic20\", \"Topic20\", \"Topic20\", \"Topic20\", \"Topic20\", \"Topic20\", \"Topic20\", \"Topic20\", \"Topic20\", \"Topic20\", \"Topic20\", \"Topic20\", \"Topic20\", \"Topic20\", \"Topic20\", \"Topic20\", \"Topic20\", \"Topic20\", \"Topic20\", \"Topic20\", \"Topic20\", \"Topic20\", \"Topic20\", \"Topic20\", \"Topic20\", \"Topic21\", \"Topic21\", \"Topic21\", \"Topic21\", \"Topic21\", \"Topic21\", \"Topic21\", \"Topic21\", \"Topic21\", \"Topic21\", \"Topic21\", \"Topic21\", \"Topic21\", \"Topic21\", \"Topic21\", \"Topic21\", \"Topic21\", \"Topic21\", \"Topic21\", \"Topic21\", \"Topic21\", \"Topic21\", \"Topic21\", \"Topic21\", \"Topic21\", \"Topic21\", \"Topic21\", \"Topic21\", \"Topic21\", \"Topic21\", \"Topic21\", \"Topic21\", \"Topic21\", \"Topic21\", \"Topic21\", \"Topic21\", \"Topic21\", \"Topic21\", \"Topic21\", \"Topic21\", \"Topic21\", \"Topic21\", \"Topic21\", \"Topic21\", \"Topic21\", \"Topic21\", \"Topic21\", \"Topic21\", \"Topic21\", \"Topic21\", \"Topic21\", \"Topic21\", \"Topic21\", \"Topic21\", \"Topic21\", \"Topic21\", \"Topic21\", \"Topic21\", \"Topic22\", \"Topic22\", \"Topic22\", \"Topic22\", \"Topic22\", \"Topic22\", \"Topic22\", \"Topic22\", \"Topic22\", \"Topic22\", \"Topic22\", \"Topic22\", \"Topic22\", \"Topic22\", \"Topic22\", \"Topic22\", \"Topic22\", \"Topic22\", \"Topic22\", \"Topic22\", \"Topic22\", \"Topic22\", \"Topic22\", \"Topic22\", \"Topic22\", \"Topic22\", \"Topic22\", \"Topic22\", \"Topic22\", \"Topic22\", \"Topic22\", \"Topic22\", \"Topic22\", \"Topic22\", \"Topic22\", \"Topic22\", \"Topic22\", \"Topic22\", \"Topic22\", \"Topic22\", \"Topic22\", \"Topic22\", \"Topic22\", \"Topic22\", \"Topic22\", \"Topic22\", \"Topic22\", \"Topic22\", \"Topic22\", \"Topic22\", \"Topic22\", \"Topic22\", \"Topic22\", \"Topic22\", \"Topic22\", \"Topic22\", \"Topic22\", \"Topic22\", \"Topic22\", \"Topic22\", \"Topic22\", \"Topic22\", \"Topic22\", \"Topic22\", \"Topic22\", \"Topic22\", \"Topic22\", \"Topic23\", \"Topic23\", \"Topic23\", \"Topic23\", \"Topic23\", \"Topic23\", \"Topic23\", \"Topic23\", \"Topic23\", \"Topic23\", \"Topic23\", \"Topic23\", \"Topic23\", \"Topic23\", \"Topic23\", \"Topic23\", \"Topic23\", \"Topic23\", \"Topic23\", \"Topic23\", \"Topic23\", \"Topic23\", \"Topic23\", \"Topic23\", \"Topic23\", \"Topic23\", \"Topic23\", \"Topic23\", \"Topic23\", \"Topic23\", \"Topic23\", \"Topic23\", \"Topic23\", \"Topic23\", \"Topic23\", \"Topic23\", \"Topic23\", \"Topic23\", \"Topic23\", \"Topic23\", \"Topic23\", \"Topic23\", \"Topic23\", \"Topic23\", \"Topic23\", \"Topic23\", \"Topic23\", \"Topic23\", \"Topic23\", \"Topic23\", \"Topic23\", \"Topic23\", \"Topic23\", \"Topic23\", \"Topic23\", \"Topic23\", \"Topic23\", \"Topic23\", \"Topic23\", \"Topic23\", \"Topic23\", \"Topic23\", \"Topic23\", \"Topic23\", \"Topic23\", \"Topic23\", \"Topic23\", \"Topic23\", \"Topic24\", \"Topic24\", \"Topic24\", \"Topic24\", \"Topic24\", \"Topic24\", \"Topic24\", \"Topic24\", \"Topic24\", \"Topic24\", \"Topic24\", \"Topic24\", \"Topic24\", \"Topic24\", \"Topic24\", \"Topic24\", \"Topic24\", \"Topic24\", \"Topic24\", \"Topic24\", \"Topic24\", \"Topic24\", \"Topic24\", \"Topic24\", \"Topic24\", \"Topic24\", \"Topic24\", \"Topic24\", \"Topic24\", \"Topic24\", \"Topic24\", \"Topic24\", \"Topic24\", \"Topic24\", \"Topic24\", \"Topic24\", \"Topic24\", \"Topic24\", \"Topic24\", \"Topic24\", \"Topic24\", \"Topic24\", \"Topic24\", \"Topic24\", \"Topic24\", \"Topic24\", \"Topic24\", \"Topic24\", \"Topic24\", \"Topic25\", \"Topic25\", \"Topic25\", \"Topic25\", \"Topic25\", \"Topic25\", \"Topic25\", \"Topic25\", \"Topic25\", \"Topic25\", \"Topic25\", \"Topic25\", \"Topic25\", \"Topic25\", \"Topic25\", \"Topic25\", \"Topic25\", \"Topic25\", \"Topic25\", \"Topic25\", \"Topic25\", \"Topic25\", \"Topic25\", \"Topic25\", \"Topic25\", \"Topic25\", \"Topic25\", \"Topic25\", \"Topic25\", \"Topic25\", \"Topic25\", \"Topic25\", \"Topic25\", \"Topic25\", \"Topic25\", \"Topic25\", \"Topic25\", \"Topic25\", \"Topic25\", \"Topic25\", \"Topic25\", \"Topic25\", \"Topic25\", \"Topic25\", \"Topic25\", \"Topic25\", \"Topic25\", \"Topic25\", \"Topic25\", \"Topic25\", \"Topic25\", \"Topic25\", \"Topic25\", \"Topic25\", \"Topic25\", \"Topic25\", \"Topic26\", \"Topic26\", \"Topic26\", \"Topic26\", \"Topic26\", \"Topic26\", \"Topic26\", \"Topic26\", \"Topic26\", \"Topic26\", \"Topic26\", \"Topic26\", \"Topic26\", \"Topic26\", \"Topic26\", \"Topic26\", \"Topic26\", \"Topic26\", \"Topic26\", \"Topic26\", \"Topic26\", \"Topic26\", \"Topic26\", \"Topic26\", \"Topic26\", \"Topic26\", \"Topic26\", \"Topic26\", \"Topic26\", \"Topic26\", \"Topic26\", \"Topic26\", \"Topic26\", \"Topic26\", \"Topic26\", \"Topic26\", \"Topic26\", \"Topic26\", \"Topic26\", \"Topic26\", \"Topic26\", \"Topic26\", \"Topic26\", \"Topic26\", \"Topic26\", \"Topic26\", \"Topic26\", \"Topic26\", \"Topic26\", \"Topic26\", \"Topic26\", \"Topic26\", \"Topic26\", \"Topic26\", \"Topic26\", \"Topic26\", \"Topic26\", \"Topic26\", \"Topic26\", \"Topic26\", \"Topic26\", \"Topic26\", \"Topic26\", \"Topic26\", \"Topic26\", \"Topic27\", \"Topic27\", \"Topic27\", \"Topic27\", \"Topic27\", \"Topic27\", \"Topic27\", \"Topic27\", \"Topic27\", \"Topic27\", \"Topic27\", \"Topic27\", \"Topic27\", \"Topic27\", \"Topic27\", \"Topic27\", \"Topic27\", \"Topic27\", \"Topic27\", \"Topic27\", \"Topic27\", \"Topic27\", \"Topic27\", \"Topic27\", \"Topic27\", \"Topic27\", \"Topic27\", \"Topic27\", \"Topic27\", \"Topic27\", \"Topic27\", \"Topic27\", \"Topic27\", \"Topic27\", \"Topic27\", \"Topic27\", \"Topic27\", \"Topic27\", \"Topic27\", \"Topic27\", \"Topic27\", \"Topic27\", \"Topic27\", \"Topic27\", \"Topic27\", \"Topic27\", \"Topic27\", \"Topic27\", \"Topic27\", \"Topic27\", \"Topic27\", \"Topic27\", \"Topic27\", \"Topic27\", \"Topic27\", \"Topic27\", \"Topic27\", \"Topic27\", \"Topic28\", \"Topic28\", \"Topic28\", \"Topic28\", \"Topic28\", \"Topic28\", \"Topic28\", \"Topic28\", \"Topic28\", \"Topic28\", \"Topic28\", \"Topic28\", \"Topic28\", \"Topic28\", \"Topic28\", \"Topic28\", \"Topic28\", \"Topic28\", \"Topic28\", \"Topic28\", \"Topic28\", \"Topic28\", \"Topic28\", \"Topic28\", \"Topic28\", \"Topic28\", \"Topic28\", \"Topic28\", \"Topic28\", \"Topic28\", \"Topic28\", \"Topic28\", \"Topic28\", \"Topic28\", \"Topic28\", \"Topic28\", \"Topic28\", \"Topic28\", \"Topic28\", \"Topic28\", \"Topic28\", \"Topic28\", \"Topic28\", \"Topic28\", \"Topic28\", \"Topic28\", \"Topic28\", \"Topic28\", \"Topic28\", \"Topic28\", \"Topic29\", \"Topic29\", \"Topic29\", \"Topic29\", \"Topic29\", \"Topic29\", \"Topic29\", \"Topic29\", \"Topic29\", \"Topic29\", \"Topic29\", \"Topic29\", \"Topic29\", \"Topic29\", \"Topic29\", \"Topic29\", \"Topic29\", \"Topic29\", \"Topic29\", \"Topic29\", \"Topic29\", \"Topic29\", \"Topic29\", \"Topic29\", \"Topic29\", \"Topic29\", \"Topic29\", \"Topic29\", \"Topic29\", \"Topic29\", \"Topic29\", \"Topic29\", \"Topic29\", \"Topic29\", \"Topic29\", \"Topic29\", \"Topic29\", \"Topic29\", \"Topic29\", \"Topic29\", \"Topic29\", \"Topic29\", \"Topic29\", \"Topic29\", \"Topic29\", \"Topic29\", \"Topic29\", \"Topic29\", \"Topic29\", \"Topic29\", \"Topic29\", \"Topic29\", \"Topic29\", \"Topic29\", \"Topic29\", \"Topic29\", \"Topic29\", \"Topic30\", \"Topic30\", \"Topic30\", \"Topic30\", \"Topic30\", \"Topic30\", \"Topic30\", \"Topic30\", \"Topic30\", \"Topic30\", \"Topic30\", \"Topic30\", \"Topic30\", \"Topic30\", \"Topic30\", \"Topic30\", \"Topic30\", \"Topic30\", \"Topic30\", \"Topic30\", \"Topic30\", \"Topic30\", \"Topic30\", \"Topic30\", \"Topic30\", \"Topic30\", \"Topic30\", \"Topic30\", \"Topic30\", \"Topic30\", \"Topic30\", \"Topic30\", \"Topic30\", \"Topic30\", \"Topic30\", \"Topic30\", \"Topic30\", \"Topic30\", \"Topic30\", \"Topic30\", \"Topic30\", \"Topic30\", \"Topic30\", \"Topic30\", \"Topic30\", \"Topic30\", \"Topic30\", \"Topic30\", \"Topic30\", \"Topic30\", \"Topic30\", \"Topic30\", \"Topic30\", \"Topic30\", \"Topic30\", \"Topic30\", \"Topic30\", \"Topic30\", \"Topic30\", \"Topic30\", \"Topic31\", \"Topic31\", \"Topic31\", \"Topic31\", \"Topic31\", \"Topic31\", \"Topic31\", \"Topic31\", \"Topic31\", \"Topic31\", \"Topic31\", \"Topic31\", \"Topic31\", \"Topic31\", \"Topic31\", \"Topic31\", \"Topic31\", \"Topic31\", \"Topic31\", \"Topic31\", \"Topic31\", \"Topic31\", \"Topic31\", \"Topic31\", \"Topic31\", \"Topic31\", \"Topic31\", \"Topic31\", \"Topic31\", \"Topic31\", \"Topic31\", \"Topic31\", \"Topic31\", \"Topic31\", \"Topic31\", \"Topic31\", \"Topic31\", \"Topic31\", \"Topic31\", \"Topic31\", \"Topic31\", \"Topic31\", \"Topic31\", \"Topic31\", \"Topic31\", \"Topic31\", \"Topic31\", \"Topic31\", \"Topic31\", \"Topic31\", \"Topic31\", \"Topic31\", \"Topic31\", \"Topic31\", \"Topic31\", \"Topic32\", \"Topic32\", \"Topic32\", \"Topic32\", \"Topic32\", \"Topic32\", \"Topic32\", \"Topic32\", \"Topic32\", \"Topic32\", \"Topic32\", \"Topic32\", \"Topic32\", \"Topic32\", \"Topic32\", \"Topic32\", \"Topic32\", \"Topic32\", \"Topic32\", \"Topic32\", \"Topic32\", \"Topic32\", \"Topic32\", \"Topic32\", \"Topic32\", \"Topic32\", \"Topic32\", \"Topic32\", \"Topic32\", \"Topic32\", \"Topic32\", \"Topic32\", \"Topic32\", \"Topic32\", \"Topic32\", \"Topic32\", \"Topic32\", \"Topic32\", \"Topic32\", \"Topic32\", \"Topic32\", \"Topic32\", \"Topic32\", \"Topic32\", \"Topic32\", \"Topic32\", \"Topic32\", \"Topic32\", \"Topic32\", \"Topic32\", \"Topic32\", \"Topic32\", \"Topic32\", \"Topic32\", \"Topic32\", \"Topic32\", \"Topic32\", \"Topic32\", \"Topic32\", \"Topic32\", \"Topic32\", \"Topic33\", \"Topic33\", \"Topic33\", \"Topic33\", \"Topic33\", \"Topic33\", \"Topic33\", \"Topic33\", \"Topic33\", \"Topic33\", \"Topic33\", \"Topic33\", \"Topic33\", \"Topic33\", \"Topic33\", \"Topic33\", \"Topic33\", \"Topic33\", \"Topic33\", \"Topic33\", \"Topic33\", \"Topic33\", \"Topic33\", \"Topic33\", \"Topic33\", \"Topic33\", \"Topic33\", \"Topic33\", \"Topic33\", \"Topic33\", \"Topic33\", \"Topic33\", \"Topic33\", \"Topic33\", \"Topic33\", \"Topic33\", \"Topic33\", \"Topic33\", \"Topic33\", \"Topic33\", \"Topic33\", \"Topic33\", \"Topic33\", \"Topic33\", \"Topic33\", \"Topic33\", \"Topic33\", \"Topic33\", \"Topic33\", \"Topic33\", \"Topic33\", \"Topic33\", \"Topic33\", \"Topic33\", \"Topic33\", \"Topic34\", \"Topic34\", \"Topic34\", \"Topic34\", \"Topic34\", \"Topic34\", \"Topic34\", \"Topic34\", \"Topic34\", \"Topic34\", \"Topic34\", \"Topic34\", \"Topic34\", \"Topic34\", \"Topic34\", \"Topic34\", \"Topic34\", \"Topic34\", \"Topic34\", \"Topic34\", \"Topic34\", \"Topic34\", \"Topic34\", \"Topic34\", \"Topic34\", \"Topic34\", \"Topic34\", \"Topic34\", \"Topic34\", \"Topic34\", \"Topic34\", \"Topic34\", \"Topic34\", \"Topic34\", \"Topic34\", \"Topic34\", \"Topic34\", \"Topic34\", \"Topic34\", \"Topic34\", \"Topic34\", \"Topic34\", \"Topic34\", \"Topic34\", \"Topic34\", \"Topic34\", \"Topic34\", \"Topic34\", \"Topic34\", \"Topic34\", \"Topic35\", \"Topic35\", \"Topic35\", \"Topic35\", \"Topic35\", \"Topic35\", \"Topic35\", \"Topic35\", \"Topic35\", \"Topic35\", \"Topic35\", \"Topic35\", \"Topic35\", \"Topic35\", \"Topic35\", \"Topic35\", \"Topic35\", \"Topic35\", \"Topic35\", \"Topic35\", \"Topic35\", \"Topic35\", \"Topic35\", \"Topic35\", \"Topic35\", \"Topic35\", \"Topic35\", \"Topic35\", \"Topic35\", \"Topic35\", \"Topic35\", \"Topic35\", \"Topic35\", \"Topic35\", \"Topic35\", \"Topic35\", \"Topic35\", \"Topic35\", \"Topic35\", \"Topic35\", \"Topic35\", \"Topic35\", \"Topic35\", \"Topic35\", \"Topic35\", \"Topic35\", \"Topic35\", \"Topic35\", \"Topic35\", \"Topic35\", \"Topic35\", \"Topic35\", \"Topic35\", \"Topic35\", \"Topic35\", \"Topic35\", \"Topic35\", \"Topic35\", \"Topic35\", \"Topic35\", \"Topic35\", \"Topic35\", \"Topic35\", \"Topic35\", \"Topic35\", \"Topic35\", \"Topic35\", \"Topic35\", \"Topic35\", \"Topic36\", \"Topic36\", \"Topic36\", \"Topic36\", \"Topic36\", \"Topic36\", \"Topic36\", \"Topic36\", \"Topic36\", \"Topic36\", \"Topic36\", \"Topic36\", \"Topic36\", \"Topic36\", \"Topic36\", \"Topic36\", \"Topic36\", \"Topic36\", \"Topic36\", \"Topic36\", \"Topic36\", \"Topic36\", \"Topic36\", \"Topic36\", \"Topic36\", \"Topic36\", \"Topic36\", \"Topic36\", \"Topic36\", \"Topic36\", \"Topic36\", \"Topic36\", \"Topic36\", \"Topic36\", \"Topic36\", \"Topic36\", \"Topic36\", \"Topic36\", \"Topic36\", \"Topic36\", \"Topic36\", \"Topic36\", \"Topic36\", \"Topic36\", \"Topic36\", \"Topic36\", \"Topic36\", \"Topic36\", \"Topic36\", \"Topic36\", \"Topic36\", \"Topic37\", \"Topic37\", \"Topic37\", \"Topic37\", \"Topic37\", \"Topic37\", \"Topic37\", \"Topic37\", \"Topic37\", \"Topic37\", \"Topic37\", \"Topic37\", \"Topic37\", \"Topic37\", \"Topic37\", \"Topic37\", \"Topic37\", \"Topic37\", \"Topic37\", \"Topic37\", \"Topic37\", \"Topic37\", \"Topic37\", \"Topic37\", \"Topic37\", \"Topic37\", \"Topic37\", \"Topic37\", \"Topic37\", \"Topic37\", \"Topic37\", \"Topic37\", \"Topic37\", \"Topic37\", \"Topic37\", \"Topic37\", \"Topic37\", \"Topic37\", \"Topic37\", \"Topic37\", \"Topic37\", \"Topic37\", \"Topic37\", \"Topic37\", \"Topic37\", \"Topic37\", \"Topic37\", \"Topic37\", \"Topic37\", \"Topic37\", \"Topic37\", \"Topic37\", \"Topic37\", \"Topic37\", \"Topic37\", \"Topic37\", \"Topic37\", \"Topic37\", \"Topic37\", \"Topic37\", \"Topic37\", \"Topic38\", \"Topic38\", \"Topic38\", \"Topic38\", \"Topic38\", \"Topic38\", \"Topic38\", \"Topic38\", \"Topic38\", \"Topic38\", \"Topic38\", \"Topic38\", \"Topic38\", \"Topic38\", \"Topic38\", \"Topic38\", \"Topic38\", \"Topic38\", \"Topic38\", \"Topic38\", \"Topic38\", \"Topic38\", \"Topic38\", \"Topic38\", \"Topic38\", \"Topic38\", \"Topic38\", \"Topic38\", \"Topic38\", \"Topic38\", \"Topic38\", \"Topic38\", \"Topic38\", \"Topic38\", \"Topic38\", \"Topic38\", \"Topic38\", \"Topic38\", \"Topic38\", \"Topic38\", \"Topic38\", \"Topic38\", \"Topic38\", \"Topic38\", \"Topic38\", \"Topic38\", \"Topic38\", \"Topic38\", \"Topic38\", \"Topic38\", \"Topic39\", \"Topic39\", \"Topic39\", \"Topic39\", \"Topic39\", \"Topic39\", \"Topic39\", \"Topic39\", \"Topic39\", \"Topic39\", \"Topic39\", \"Topic39\", \"Topic39\", \"Topic39\", \"Topic39\", \"Topic39\", \"Topic39\", \"Topic39\", \"Topic39\", \"Topic39\", \"Topic39\", \"Topic39\", \"Topic39\", \"Topic39\", \"Topic39\", \"Topic39\", \"Topic39\", \"Topic39\", \"Topic39\", \"Topic39\", \"Topic39\", \"Topic39\", \"Topic39\", \"Topic39\", \"Topic39\", \"Topic39\", \"Topic39\", \"Topic39\", \"Topic39\", \"Topic39\", \"Topic39\", \"Topic39\", \"Topic39\", \"Topic39\", \"Topic39\", \"Topic39\", \"Topic39\", \"Topic39\", \"Topic39\", \"Topic39\", \"Topic39\", \"Topic39\", \"Topic39\", \"Topic39\", \"Topic39\", \"Topic39\", \"Topic39\", \"Topic39\", \"Topic40\", \"Topic40\", \"Topic40\", \"Topic40\", \"Topic40\", \"Topic40\", \"Topic40\", \"Topic40\", \"Topic40\", \"Topic40\", \"Topic40\", \"Topic40\", \"Topic40\", \"Topic40\", \"Topic40\", \"Topic40\", \"Topic40\", \"Topic40\", \"Topic40\", \"Topic40\", \"Topic40\", \"Topic40\", \"Topic40\", \"Topic40\", \"Topic40\", \"Topic40\", \"Topic40\", \"Topic40\", \"Topic40\", \"Topic40\", \"Topic40\", \"Topic40\", \"Topic40\", \"Topic40\", \"Topic40\", \"Topic40\", \"Topic40\", \"Topic40\", \"Topic40\", \"Topic40\", \"Topic40\", \"Topic40\", \"Topic40\", \"Topic40\", \"Topic40\", \"Topic40\", \"Topic40\", \"Topic40\", \"Topic40\", \"Topic40\", \"Topic41\", \"Topic41\", \"Topic41\", \"Topic41\", \"Topic41\", \"Topic41\", \"Topic41\", \"Topic41\", \"Topic41\", \"Topic41\", \"Topic41\", \"Topic41\", \"Topic41\", \"Topic41\", \"Topic41\", \"Topic41\", \"Topic41\", \"Topic41\", \"Topic41\", \"Topic41\", \"Topic41\", \"Topic41\", \"Topic41\", \"Topic41\", \"Topic41\", \"Topic41\", \"Topic41\", \"Topic41\", \"Topic41\", \"Topic41\", \"Topic41\", \"Topic41\", \"Topic41\", \"Topic41\", \"Topic41\", \"Topic41\", \"Topic41\", \"Topic41\", \"Topic41\", \"Topic41\", \"Topic41\", \"Topic41\", \"Topic41\", \"Topic41\", \"Topic41\", \"Topic41\", \"Topic41\", \"Topic41\", \"Topic41\", \"Topic41\", \"Topic41\", \"Topic41\", \"Topic41\", \"Topic42\", \"Topic42\", \"Topic42\", \"Topic42\", \"Topic42\", \"Topic42\", \"Topic42\", \"Topic42\", \"Topic42\", \"Topic42\", \"Topic42\", \"Topic42\", \"Topic42\", \"Topic42\", \"Topic42\", \"Topic42\", \"Topic42\", \"Topic42\", \"Topic42\", \"Topic42\", \"Topic42\", \"Topic42\", \"Topic42\", \"Topic42\", \"Topic42\", \"Topic42\", \"Topic42\", \"Topic42\", \"Topic42\", \"Topic42\", \"Topic42\", \"Topic42\", \"Topic42\", \"Topic42\", \"Topic42\", \"Topic42\", \"Topic42\", \"Topic42\", \"Topic42\", \"Topic42\", \"Topic42\", \"Topic42\", \"Topic42\", \"Topic42\", \"Topic42\", \"Topic42\", \"Topic42\", \"Topic42\", \"Topic42\", \"Topic42\", \"Topic42\", \"Topic43\", \"Topic43\", \"Topic43\", \"Topic43\", \"Topic43\", \"Topic43\", \"Topic43\", \"Topic43\", \"Topic43\", \"Topic43\", \"Topic43\", \"Topic43\", \"Topic43\", \"Topic43\", \"Topic43\", \"Topic43\", \"Topic43\", \"Topic43\", \"Topic43\", \"Topic43\", \"Topic43\", \"Topic43\", \"Topic43\", \"Topic43\", \"Topic43\", \"Topic43\", \"Topic43\", \"Topic43\", \"Topic43\", \"Topic43\", \"Topic43\", \"Topic43\", \"Topic43\", \"Topic43\", \"Topic43\", \"Topic43\", \"Topic43\", \"Topic43\", \"Topic43\", \"Topic43\", \"Topic43\", \"Topic43\", \"Topic43\", \"Topic43\", \"Topic43\", \"Topic43\", \"Topic43\", \"Topic43\", \"Topic43\", \"Topic43\", \"Topic43\", \"Topic44\", \"Topic44\", \"Topic44\", \"Topic44\", \"Topic44\", \"Topic44\", \"Topic44\", \"Topic44\", \"Topic44\", \"Topic44\", \"Topic44\", \"Topic44\", \"Topic44\", \"Topic44\", \"Topic44\", \"Topic44\", \"Topic44\", \"Topic44\", \"Topic44\", \"Topic44\", \"Topic44\", \"Topic44\", \"Topic44\", \"Topic44\", \"Topic44\", \"Topic44\", \"Topic44\", \"Topic44\", \"Topic44\", \"Topic44\", \"Topic44\", \"Topic44\", \"Topic44\", \"Topic44\", \"Topic44\", \"Topic44\", \"Topic44\", \"Topic44\", \"Topic44\", \"Topic44\", \"Topic44\", \"Topic44\", \"Topic44\", \"Topic44\", \"Topic44\", \"Topic44\", \"Topic44\", \"Topic44\", \"Topic44\", \"Topic44\", \"Topic44\", \"Topic44\", \"Topic44\", \"Topic44\", \"Topic44\", \"Topic44\", \"Topic44\", \"Topic45\", \"Topic45\", \"Topic45\", \"Topic45\", \"Topic45\", \"Topic45\", \"Topic45\", \"Topic45\", \"Topic45\", \"Topic45\", \"Topic45\", \"Topic45\", \"Topic45\", \"Topic45\", \"Topic45\", \"Topic45\", \"Topic45\", \"Topic45\", \"Topic45\", \"Topic45\", \"Topic45\", \"Topic45\", \"Topic45\", \"Topic45\", \"Topic45\", \"Topic45\", \"Topic45\", \"Topic45\", \"Topic45\", \"Topic45\", \"Topic45\", \"Topic45\", \"Topic45\", \"Topic45\", \"Topic45\", \"Topic45\", \"Topic45\", \"Topic45\", \"Topic45\", \"Topic45\", \"Topic45\", \"Topic45\", \"Topic45\", \"Topic45\", \"Topic45\", \"Topic45\", \"Topic45\", \"Topic45\"], \"logprob\": [30.0, 29.0, 28.0, 27.0, 26.0, 25.0, 24.0, 23.0, 22.0, 21.0, 20.0, 19.0, 18.0, 17.0, 16.0, 15.0, 14.0, 13.0, 12.0, 11.0, 10.0, 9.0, 8.0, 7.0, 6.0, 5.0, 4.0, 3.0, 2.0, 1.0, -8.0832, -8.1764, -8.1273, -8.2481, -8.2228, -8.2028, -8.2035, -8.0349, -8.241, -7.987, -8.042, -8.0299, -8.2603, -8.2592, -8.2233, -8.0282, -7.97, -8.0395, -8.2244, -8.0028, -8.2087, -8.2187, -8.2456, -8.0498, -8.1169, -8.2606, -8.2528, -8.2207, -8.2517, -8.2133, -8.0492, -8.2271, -7.7152, -7.778, -7.773, -7.748, -7.7655, -7.7848, -7.7297, -7.7826, -7.7507, -7.7934, -7.7811, -7.7574, -7.7732, -7.7831, -7.789, -7.7929, -7.6716, -7.7161, -7.6255, -7.7725, -7.7707, -7.7892, -7.7828, -7.7846, -7.793, -7.7829, -7.7802, -7.7729, -7.8211, -7.8267, -8.4352, -8.6938, -8.9785, -8.5269, -7.9273, -9.0104, -9.0001, -8.7114, -8.461, -8.5671, -8.5277, -8.7419, -8.0063, -8.9246, -8.9522, -8.9487, -8.791, -9.1307, -8.422, -8.4637, -8.4189, -8.4762, -7.9476, -8.8726, -8.754, -8.4811, -8.9012, -8.9014, -8.8161, -8.9307, -8.4143, -8.4866, -8.4762, -8.0793, -8.0725, -8.5195, -8.064, -8.0584, -8.0822, -8.2055, -8.2579, -8.3576, -8.087, -8.0926, -8.3642, -8.0536, -7.3497, -7.3721, -7.3941, -7.3939, -7.4323, -7.4371, -7.4454, -7.4274, -7.4169, -7.9579, -8.0003, -7.9757, -7.9914, -8.1996, -8.0339, -8.3001, -8.3034, -8.285, -8.1482, -8.2545, -8.139, -8.0981, -8.1388, -8.1172, -8.1879, -7.9869, -8.1801, -8.2715, -8.2571, -8.0216, -8.3159, -8.2758, -8.1996, -8.0364, -8.2159, -8.2314, -8.2314, -8.3066, -8.3631, -8.4066, -8.4281, -8.4817, -8.3532, -8.4936, -8.2772, -8.2259, -8.3175, -8.5293, -8.2013, -8.2099, -8.09, -7.4899, -8.1059, -8.2127, -7.4783, -7.4912, -8.2318, -8.1632, -8.0716, -8.212, -8.0412, -7.7859, -8.0783, -8.1064, -8.1617, -8.211, -8.2814, -8.2988, -8.5821, -8.2362, -8.7415, -8.595, -8.4666, -8.5835, -8.6926, -8.6781, -8.6015, -8.3439, -8.3501, -7.8426, -8.4296, -8.6818, -8.4495, -8.7014, -8.5615, -8.968, -8.6426, -8.678, -8.7063, -8.9383, -8.6644, -8.7303, -8.373, -8.6686, -8.8531, -8.7809, -8.2816, -8.3554, -8.238, -8.3153, -8.2818, -8.2915, -8.2875, -8.3609, -8.3314, -8.2441, -7.5012, -7.3866, -7.5039, -7.5422, -7.5638, -7.5372, -7.6149, -7.6067, -7.6112, -7.6117, -7.6458, -7.6548, -8.1827, -8.2679, -8.2993, -8.2911, -8.3214, -7.7392, -8.2771, -8.2533, -8.2155, -8.4796, -8.0028, -7.9269, -8.3657, -8.5661, -8.0698, -8.2652, -8.2586, -8.1593, -8.2095, -8.2579, -8.0147, -8.3964, -8.3951, -8.5008, -8.2595, -8.3065, -8.3964, -9.0866, -8.1198, -8.3404, -8.2664, -8.4171, -8.2177, -8.2524, -8.1718, -8.1686, -8.2864, -8.1259, -8.2579, -8.205, -7.2661, -8.0505, -7.2949, -7.3136, -7.3178, -7.3159, -7.3249, -7.3104, -7.3236, -7.2937, -8.1495, -8.0882, -8.0991, -8.0208, -8.1908, -8.0814, -7.8957, -8.0634, -7.9188, -8.0643, -7.9466, -8.1088, -8.1475, -8.7385, -8.7703, -8.7538, -8.8407, -8.9557, -8.7311, -9.1008, -8.743, -8.8793, -8.9159, -9.0044, -9.0363, -8.939, -8.6939, -8.0202, -8.8387, -9.2377, -8.3795, -9.0569, -9.0064, -9.2059, -9.0159, -9.0926, -8.8598, -9.0173, -8.9266, -8.9923, -8.8762, -8.5389, -8.0556, -8.4866, -8.4183, -8.0688, -8.5786, -8.2296, -8.1793, -8.2341, -8.0867, -8.2462, -8.2252, -8.2369, -8.2432, -7.4724, -7.5301, -7.513, -7.5427, -7.5599, -7.5518, -7.552, -7.5513, -7.5645, -8.1332, -8.3201, -7.6053, -8.1451, -8.1879, -8.322, -8.2558, -8.2194, -8.3812, -8.3691, -7.9433, -8.1159, -8.2419, -8.6295, -8.2104, -8.0494, -8.2029, -8.2437, -8.1056, -8.5187, -8.237, -8.6686, -8.5726, -8.2703, -8.6703, -8.209, -8.4422, -8.6808, -8.1986, -8.444, -8.2566, -8.2215, -8.6107, -8.6366, -8.6188, -8.2215, -8.6328, -8.6671, -8.6615, -9.0214, -8.2212, -8.2257, -8.4244, -8.2657, -8.2431, -8.2011, -8.0476, -8.0269, -8.1734, -8.2016, -8.2665, -7.8793, -7.7244, -7.8349, -7.1772, -7.8138, -7.9185, -7.812, -7.8235, -7.8167, -7.7994, -7.4285, -7.4377, -7.481, -7.5078, -7.9317, -7.5147, -7.5131, -7.5203, -7.5203, -7.8501, -7.8475, -7.9322, -7.9583, -7.9615, -7.9953, -8.0037, -8.0003, -8.0063, -8.0082, -8.3868, -8.5031, -8.438, -8.6866, -8.4255, -8.5104, -8.6875, -8.4106, -8.5108, -8.5376, -8.6234, -8.6257, -8.7509, -8.4145, -8.6547, -8.4888, -8.6095, -8.646, -8.5897, -8.8102, -9.0444, -8.869, -8.8367, -8.3518, -8.9623, -8.5535, -8.6768, -8.3897, -8.6654, -8.532, -8.1642, -8.5835, -8.557, -8.2091, -8.1171, -8.1972, -8.1187, -8.5149, -8.1072, -8.4278, -8.1287, -7.3455, -7.395, -7.3975, -7.4092, -8.1519, -7.4112, -7.4271, -7.2953, -7.4414, -7.4091, -8.2948, -8.3139, -8.1591, -8.2252, -8.1065, -8.2751, -8.2686, -8.2808, -8.2781, -8.3536, -8.3387, -8.3429, -8.3486, -8.4448, -8.3261, -8.564, -8.5703, -8.6567, -8.704, -8.3766, -8.657, -8.5818, -8.3643, -8.6055, -8.614, -8.7388, -8.5318, -8.7589, -8.7588, -8.7918, -8.7392, -8.8809, -8.7383, -8.8645, -8.8876, -8.4147, -8.7225, -8.7162, -8.7865, -8.6378, -7.9149, -8.692, -8.598, -8.0068, -8.0512, -7.9732, -7.8436, -7.9968, -8.0224, -7.9659, -7.98, -7.7834, -7.8212, -7.8334, -7.8575, -8.0009, -7.8348, -7.8529, -7.8381, -7.8429, -7.8279, -7.9706, -8.004, -7.9191, -8.008, -7.8631, -7.8439, -7.9226, -7.8712, -7.9147, -7.8625, -7.9064, -7.2852, -7.4159, -7.4246, -7.6023, -7.6287, -7.6355, -7.6774, -7.684, -7.6912, -7.7889, -7.8137, -7.89, -8.1184, -8.6349, -7.9918, -8.7332, -8.8527, -8.2435, -7.9082, -8.9084, -8.2205, -8.5076, -8.8483, -8.6226, -8.7546, -9.1843, -8.5683, -9.0113, -8.4753, -8.7261, -8.8648, -8.8892, -8.6322, -9.0654, -8.4883, -8.9495, -8.9874, -8.896, -8.3584, -8.0644, -8.5382, -8.6648, -8.3462, -8.3952, -8.6769, -8.503, -8.5815, -8.6616, -8.5798, -7.3051, -8.6189, -7.4866, -7.5438, -8.0568, -8.1107, -7.8873, -8.1425, -8.5451, -8.155, -8.199, -8.4708, -8.4174, -8.0619, -8.4664, -8.3379, -8.48, -8.4943, -8.451, -8.4718, -8.1973, -8.5834, -8.4577, -8.7912, -8.5024, -8.4144, -8.6255, -8.5053, -8.4821, -8.5003, -8.4744, -8.4225, -8.5223, -8.7289, -8.3999, -8.5183, -8.9723, -9.1466, -8.4805, -8.4165, -8.7496, -8.6036, -8.5506, -8.4355, -8.8244, -9.1496, -8.7273, -9.0295, -8.2425, -8.7021, -8.4421, -8.2005, -8.5709, -8.3447, -8.3629, -8.3977, -8.5045, -7.3057, -7.3376, -7.3221, -8.329, -8.421, -8.4249, -8.0903, -8.0864, -8.0616, -8.0778, -8.1014, -8.1194, -8.2536, -8.3398, -8.4042, -8.3104, -8.4246, -8.3271, -8.3479, -8.3917, -8.3945, -8.4033, -8.3598, -8.7178, -8.7584, -8.5638, -8.5908, -8.3621, -8.2849, -9.1591, -8.7482, -8.3789, -8.3168, -8.3355, -8.8478, -8.5268, -8.7577, -8.3868, -8.3341, -8.3539, -8.4927, -8.7332, -8.1356, -8.2173, -8.8123, -8.8324, -8.73, -8.8383, -8.1657, -8.9282, -8.8891, -8.8652, -8.6919, -8.1961, -8.1998, -8.2385, -8.1173, -8.1269, -8.1693, -8.3712, -8.0136, -8.2011, -8.2006, -8.2289, -8.2079, -8.0775, -8.2248, -7.4492, -7.4892, -7.49, -7.5011, -7.4675, -7.5086, -7.507, -7.4806, -7.5015, -7.8657, -7.8645, -7.9297, -8.1487, -8.148, -8.2017, -8.2044, -8.1337, -8.1779, -8.3196, -8.9706, -8.8118, -8.779, -8.83, -8.123, -8.6539, -7.8565, -8.4292, -8.9135, -8.1214, -8.8375, -8.7294, -8.8649, -8.6279, -9.0693, -8.8887, -9.1092, -9.1461, -8.9201, -8.9725, -8.8915, -8.5336, -8.882, -8.7117, -8.123, -8.7573, -7.9569, -7.9019, -9.1936, -8.0334, -7.9036, -8.2175, -7.9009, -8.1633, -7.9595, -7.9769, -7.9246, -8.2526, -8.0223, -7.9526, -8.2246, -8.1125, -7.9657, -8.0943, -7.953, -8.1348, -8.2621, -8.1582, -8.005, -8.2357, -8.1709, -7.8911, -7.6779, -7.7502, -7.7797, -8.0079, -8.0269, -8.1096, -8.0252, -8.0346, -8.0317, -8.252, -8.5996, -8.5892, -8.7956, -8.7811, -8.8355, -8.7066, -9.1039, -8.3606, -8.7868, -8.9085, -7.8317, -8.8199, -8.9592, -8.7083, -8.6978, -8.7787, -7.9672, -7.8655, -8.8598, -8.6758, -7.8495, -7.9217, -8.7912, -7.944, -8.8497, -7.8504, -7.8882, -7.9156, -7.9032, -7.9544, -7.9429, -7.9506, -7.9318, -7.7416, -7.9201, -7.786, -7.7501, -7.8265, -7.9328, -7.8211, -7.7597, -7.9609, -7.805, -7.966, -7.787, -7.8465, -7.7515, -7.7882, -7.7507, -7.8299, -7.7835, -7.8221, -7.7968, -7.8372, -7.8447, -7.7853, -7.5448, -7.6108, -7.6519, -7.8886, -8.394, -8.3902, -8.7865, -8.7548, -8.366, -8.389, -8.4657, -8.9085, -8.4705, -8.37, -8.4723, -8.4794, -8.5186, -8.6636, -8.9796, -8.4695, -8.7508, -8.5127, -9.1329, -8.8209, -8.9215, -8.533, -8.5151, -9.0011, -8.4939, -8.4045, -8.48, -9.0039, -8.9672, -8.9855, -8.4816, -8.8812, -8.7242, -8.4956, -8.5015, -8.6949, -8.7376, -7.9219, -8.5476, -8.0512, -8.0787, -8.0555, -8.0889, -8.0811, -8.1214, -8.0767, -8.1328, -8.1462, -8.0988, -8.1565, -8.1725, -8.1418, -8.1838, -8.1999, -8.229, -8.0707, -8.105, -8.126, -8.1232, -8.1418, -8.14, -8.1457, -8.1575, -8.1607, -8.3051, -8.3208, -8.601, -8.6871, -8.707, -8.4639, -8.7412, -8.7702, -8.5721, -8.8273, -9.0316, -8.8924, -8.9918, -8.8433, -8.6941, -8.6778, -8.93, -8.5341, -8.7013, -8.6631, -8.6173, -8.745, -8.5997, -8.7462, -8.9073, -8.461, -8.6943, -8.8196, -8.6528, -8.6404, -8.7246, -8.8625, -8.598, -8.5867, -8.7031, -8.6784, -8.6907, -8.5723, -8.5839, -8.614, -8.5572, -8.6738, -8.6343, -8.704, -8.5877, -8.5626, -8.6182, -8.2242, -8.2559, -8.2612, -8.2758, -8.5971, -8.6145, -8.5859, -8.3696, -8.3826, -8.39, -8.3667, -8.41, -8.4922, -8.4101, -8.552, -8.5596, -8.5646, -8.4993, -8.5687, -8.5707, -8.5847, -8.5739, -8.9457, -8.7914, -8.4397, -8.8068, -8.7151, -8.9209, -8.8061, -9.0384, -8.5758, -8.7986, -8.9487, -9.3023, -9.0052, -8.9122, -9.1961, -8.966, -9.1362, -8.8058, -8.9693, -9.1636, -8.8549, -9.098, -8.8568, -8.9789, -8.8375, -9.0421, -9.1488, -8.9135, -8.8822, -9.0256, -8.942, -8.8919, -8.6335, -8.9658, -8.9364, -8.8501, -8.9224, -8.9251, -8.0958, -8.1188, -8.1308, -8.5204, -8.4873, -8.1866, -8.2387, -8.7217, -7.6819, -8.6137, -8.631, -8.6417, -8.5916, -8.4652, -8.163, -8.6394, -8.4846, -8.4947, -8.5295, -8.7547, -8.5321, -8.5926, -8.6289, -8.6361, -8.6055, -8.6322, -8.6382, -8.6857, -8.7908, -8.9307, -8.6568, -8.9456, -8.7409, -8.8195, -8.5713, -8.8645, -8.8472, -8.7623, -8.7834, -9.0343, -8.7856, -8.6826, -8.9082, -8.6083, -8.7381, -8.8171, -8.8004, -9.2747, -8.7111, -8.8736, -8.6532, -8.7406, -8.7803, -8.6825, -8.9632, -9.0215, -8.9922, -8.8138, -8.6331, -8.749, -8.5034, -8.7019, -8.5413, -8.4941, -8.5982, -8.6195, -8.5284, -8.1814, -7.9113, -7.9523, -8.6145, -8.0518, -8.4607, -8.7308, -8.4525, -8.4235, -8.5925, -8.4967, -8.5064, -8.5062, -8.5369, -8.5378, -8.5423, -8.5534, -8.6801, -8.6532, -8.6804, -8.6794, -8.6162, -8.5811, -8.5999, -8.6784, -8.7853, -8.7261, -8.6086, -8.7658, -8.8131, -8.6409, -8.8884, -8.8326, -8.8166, -8.9009, -8.7536, -8.9144, -8.7963, -8.7594, -9.1334, -8.8243, -8.8463, -8.7192, -9.1676, -8.9625, -8.8333, -8.765, -8.759, -8.681, -8.7972, -8.7941, -8.7531, -8.4471, -8.5783, -8.4947, -8.1285, -8.1331, -8.1849, -8.1997, -8.2145, -8.2233, -8.4364, -8.2056, -8.2263, -8.2367, -8.5013, -8.5111, -8.5233, -8.5349, -8.5301, -8.3837, -8.542, -8.5651, -8.5995, -8.6115, -8.6139, -8.6256, -8.6301, -8.1985, -8.4589, -8.4516, -8.4519, -8.1922, -8.227, -8.587, -8.5958, -8.4787, -8.6177, -8.466, -8.6596, -8.8135, -8.555, -8.3467, -8.4127, -8.4692, -8.367, -8.4406, -8.571, -8.3195, -8.9112, -8.5106, -8.2856, -8.4525, -8.4414, -8.4352, -8.6924, -8.2696, -8.5894, -8.4853, -8.2578, -8.3418, -8.1419, -8.2124, -8.2779, -8.317, -8.2471, -8.3454, -8.4626, -8.1737, -8.4356, -8.4333, -8.039, -8.364, -8.4148, -8.4137, -8.4181, -8.404, -8.4224, -8.4249, -8.4079, -8.4352, -8.0485, -7.9629, -8.1997, -8.02, -7.9587, -8.0317, -7.8355, -7.9717, -8.0321, -8.0263, -8.0447, -7.9977, -8.0504, -8.0961, -8.0451, -8.0176, -8.2013, -8.2105, -8.1076, -8.0232, -7.9547, -8.3132, -8.2143, -8.0239, -7.9936, -8.0503, -8.062, -8.036, -8.1952, -8.0516, -8.0337, -8.1532, -7.9399, -7.6559, -7.6552, -7.6322, -7.6496, -7.6705, -7.6977, -7.6733, -7.6908, -7.7079, -7.7056, -7.6953, -7.6899, -7.7118, -7.7037, -7.7176, -7.7106, -7.6861, -7.694, -7.6926, -7.6882, -7.6986, -7.699, -7.705, -7.7011, -7.6974, -8.8843, -8.8453, -8.8009, -8.9964, -8.9396, -8.6995, -8.7083, -8.774, -9.0273, -9.0509, -8.9255, -9.0083, -9.0973, -8.9932, -8.8758, -8.7914, -9.0372, -9.0594, -8.9326, -9.2301, -8.9656, -8.6519, -8.5986, -8.9512, -9.0476, -8.9515, -9.0007, -9.0691, -9.1034, -9.1136, -8.7357, -9.0126, -8.8445, -8.8157, -8.7148, -8.895, -8.7433, -8.8514, -8.4706, -8.9453, -8.5304, -8.8033, -8.4919, -8.5598, -8.4728, -8.8257, -8.4749, -8.7125, -8.5539, -8.5824, -8.5646, -8.5911, -8.6128, -8.1529, -8.6096, -8.5857, -8.4394, -8.5942, -8.6411, -8.6686, -8.6834, -8.5474, -8.6901, -8.6306, -8.6354, -8.6709, -8.6946, -8.3855, -8.9515, -8.9813, -9.0076, -8.9571, -8.6835, -8.6087, -8.9345, -9.0174, -9.0507, -8.7095, -8.9759, -8.7796, -8.9235, -8.9514, -8.9145, -9.133, -8.8556, -8.9073, -8.7409, -9.2579, -9.0348, -8.8327, -8.9105, -8.9037, -9.0333, -9.0564, -8.8598, -8.8981, -8.6641, -8.0439, -8.7084, -8.0015, -7.8768, -8.8206, -8.5919, -8.634, -8.5716, -8.8251, -8.7445, -8.1807, -8.1908, -8.1944, -8.0861, -8.3126, -8.0724, -8.3116, -8.3219, -8.317, -8.1805, -8.3869, -8.3565, -8.4198, -8.4213, -8.467, -8.4341, -8.4078, -8.4323, -8.1307, -8.4316, -8.2349, -8.5301, -8.3472, -8.3968, -8.4194, -8.499, -8.458, -8.4893, -8.8367, -8.8339, -8.6278, -8.6674, -8.7542, -8.893, -8.891, -8.7168, -8.9832, -8.5565, -8.7053, -8.962, -8.5644, -8.8405, -8.7059, -8.9061, -8.7083, -8.6845, -9.1121, -8.7826, -8.7539, -8.9222, -8.7625, -9.0622, -8.8284, -8.9568, -8.8168, -8.4533, -9.0038, -8.8476, -8.7628, -8.676, -8.6264, -8.5511, -8.6668, -8.7049, -8.7055, -8.7913, -8.2805, -8.2954, -8.3329, -8.6689, -8.7925, -8.4501, -8.5334, -8.7747, -8.7335, -8.7115, -8.7479, -8.4891, -8.416, -8.5586, -8.8958, -8.7297, -8.7094, -8.8718, -8.8641, -9.1544, -8.7525, -9.4295, -8.9339, -9.3999, -8.8973, -8.772, -8.5672, -8.962, -8.826, -9.1857, -8.8916, -9.0968, -9.136, -9.2788, -9.0814, -9.0353, -8.9898, -9.1334, -9.0457, -9.1502, -9.1582, -8.758, -8.7394, -8.7026, -8.6167, -8.798, -8.833, -8.8527, -8.8496, -8.894, -8.806, -8.6455, -8.8006, -8.8671, -8.3961, -8.1006, -8.8044, -8.7627, -8.8075, -8.5615, -8.6913, -8.5895, -8.7026, -8.6199, -8.6261, -8.824, -8.6767, -8.5348, -8.8166, -8.846, -8.548, -8.8041, -8.7048, -8.6539, -8.672, -8.8372, -8.806, -8.5572, -8.8488, -8.7915, -8.3939, -8.9995, -8.7574, -8.5909, -8.8816, -8.7942, -8.4237, -9.0361, -8.837, -8.677, -8.7218, -8.7541, -8.7979, -8.7949, -8.8925, -8.9997, -8.7874, -8.6916, -8.4303, -8.659, -8.38, -8.4501, -8.3786, -8.4853, -8.4284, -8.3809, -8.4555, -8.4237, -8.3206, -8.4604, -8.3645, -8.4519, -8.2862, -8.4065, -8.6359, -8.5564, -7.7424, -8.3273, -8.522, -7.9509, -7.9775, -8.4583, -8.0177, -8.0177, -8.03, -8.0362, -8.0431, -8.0476, -8.15, -8.3891, -8.452, -8.4516, -8.7525, -9.0469, -8.8273, -8.7356, -8.3495, -8.833, -8.6651, -8.7276, -8.3818, -8.8777, -9.2241, -8.9986, -8.902, -9.1735, -9.1163, -8.9016, -8.9229, -8.5503, -8.4262, -8.4966, -9.1134, -8.9709, -8.2712, -9.0602, -9.0313, -8.3263, -9.1344, -9.131, -9.0533, -8.6802, -8.3223, -8.2003, -8.2893, -8.3379, -8.4956, -8.4207, -8.6545, -8.4909, -8.5082, -8.6655, -8.5165, -7.7003, -7.6867, -7.7453, -7.7386, -7.7284, -7.7452, -8.3098, -8.4189, -7.7459, -8.412, -8.4913, -7.8985, -7.9962, -8.006, -8.5, -8.4508, -8.5042, -8.9708, -8.9051, -8.9289, -8.7988, -8.6697, -8.5472, -8.7282, -8.7585, -8.9339, -9.0013, -8.7863, -8.883, -8.8075, -8.6476, -8.8312, -8.8627, -8.7529, -9.1097, -8.668, -8.6734, -8.5662, -8.9308, -8.7059, -8.7824, -8.829, -8.7421, -8.9985, -8.6016, -8.4168, -8.9214, -8.7851, -8.447, -8.528, -8.7063, -8.4547, -8.6127, -8.0368, -8.7191, -8.6444, -8.1385, -8.1281, -8.1553, -8.1761, -8.6435, -8.4356, -8.7114, -8.7133, -8.7466, -8.6561, -8.7472, -9.0029, -9.0011, -8.6496, -8.8896, -8.9304, -9.0947, -8.8794, -9.1086, -8.913, -8.5312, -9.203, -8.9222, -8.6338, -8.9385, -8.7568, -8.891, -8.8252, -8.7686, -8.9978, -9.0578, -9.0051, -8.618, -9.0772, -9.0146, -8.9222, -9.0808, -8.4996, -8.7339, -8.9663, -8.9868, -8.5004, -8.4172, -8.8657, -8.4232, -8.4147, -8.4711, -8.4395, -8.6416, -8.8029, -8.7269, -8.5085, -8.4362, -7.6398, -8.103, -8.1507, -8.1303, -8.5201, -8.4993, -7.8162, -7.8108, -8.2238, -8.2548, -8.2675, -8.5222, -8.1838, -8.7488, -8.7275, -8.6028, -8.734, -8.5874, -8.9903, -8.5943, -8.9793, -8.8181, -8.6403, -8.6645, -8.7992, -8.7881, -8.7518, -8.7331, -8.7818, -9.2084, -8.8948, -9.1295, -8.869, -9.1422, -9.063, -8.8969, -9.0163, -8.7955, -9.2778, -9.0569, -9.0942, -9.1174, -8.8787, -8.9701, -9.0098, -8.8441, -8.9092, -8.8638, -8.7176, -8.7941, -8.5435, -8.2851, -8.8301, -8.7521, -8.9159, -8.7759, -8.6358, -8.8195, -8.7551, -8.5708, -8.73, -8.6342, -8.727, -8.7399, -8.75, -8.4664, -8.7865, -8.7432, -8.7104, -8.6659, -8.7442, -8.6184, -8.7525, -8.7657, -8.7623, -8.4792, -8.3638, -8.734, -8.8024, -8.8333, -8.7979, -8.813, -9.3251, -8.7749, -9.084, -8.699, -8.664, -8.9858, -8.9751, -8.8617, -8.7423, -8.57, -8.715, -9.1645, -9.143, -8.6732, -8.7902, -9.2616, -8.8642, -8.7741, -9.0337, -8.7435, -8.9057, -8.7758, -8.8313, -8.667, -8.8143, -8.7152, -8.6954, -8.8289, -8.493, -8.4872, -8.5479, -8.4748, -8.5163, -8.5372, -8.6347, -8.5655, -8.5923, -8.595, -8.3717, -8.5187, -8.2762, -8.3132, -8.6199, -8.4387, -8.7156, -8.7126, -8.7216, -8.7147, -8.5411, -8.4964, -8.6024, -8.5095, -8.1801, -8.6474, -8.8868, -9.0477, -9.0202, -8.5164, -8.818, -8.3541, -9.2255, -8.8548, -8.7798, -8.7826, -8.7446, -9.0781, -8.8842, -8.9719, -8.6075, -9.0491, -9.0234, -8.4819, -8.9005, -8.8742, -8.7651, -9.0267, -9.0393, -9.0504, -8.7461, -8.6261, -8.4543, -8.6077, -8.905, -8.8352, -8.8495, -8.751, -8.6755, -8.1141, -8.407, -8.3363, -8.4438, -8.4426, -7.8228, -8.5176, -8.4398, -8.3389, -8.2103, -8.2251, -8.5893, -8.3576, -8.5161, -8.4026, -8.5847, -8.4918, -8.5002, -8.5097, -8.5112, -8.5775, -8.601, -8.7307, -8.7522, -8.7519, -8.7782, -8.7098, -8.9112, -9.1629, -8.7425, -8.7287, -9.0423, -8.9551, -8.9021, -8.938, -9.3911, -9.1093, -8.986, -8.9216, -8.9554, -8.861, -8.7372, -8.6522, -8.5676, -9.116, -8.9911, -8.9362, -8.7993, -8.7364, -9.1645, -9.2769, -9.142, -8.6038, -8.927, -8.7863, -8.5098, -8.8746, -8.221, -8.8033, -8.2726, -8.568, -8.7537, -8.4282, -8.4389, -8.2935, -8.4257, -8.4163, -8.6253, -8.4089, -8.6544, -8.1078, -8.81, -8.5623, -8.5754, -8.6337, -8.7686, -8.7743, -8.5936, -8.5839, -8.6259, -8.962, -8.8525, -8.4988, -8.4284, -8.6767, -8.9308, -8.9281, -8.6217, -8.8132, -8.6164, -8.8428, -8.865, -8.5887, -8.5987, -8.8664, -8.618, -8.583, -8.7611, -8.6458, -8.5761, -8.5128, -8.6882, -8.4803, -8.5323, -8.8187, -8.6837, -8.7361, -8.4881, -8.4603, -8.303, -8.1651, -8.6846, -8.6643, -8.559, -8.4262, -8.4101, -8.5383, -8.3969, -8.4128, -8.4413, -8.4331, -8.4759, -8.4787, -8.2272, -8.5821, -8.5995, -8.6153, -8.9972, -8.7633, -8.9175, -8.6414, -8.6149, -9.0293, -8.9791, -8.8144, -8.9052, -8.9142, -9.0259, -8.911, -8.986, -9.178, -9.0235, -9.1656, -8.7416, -8.9735, -9.0399, -8.8416, -8.9411, -8.7312, -9.0497, -9.1044, -9.0682, -9.0135, -9.08, -9.1263, -9.0452, -8.9613, -8.7537, -8.8462, -8.9628, -8.821, -8.7626, -8.7604, -8.6462, -8.8982, -8.7334, -8.3249, -8.7422, -8.7692, -8.8262, -8.5031, -8.8912, -8.569, -8.5965, -8.6206, -8.614, -8.4997, -8.6217, -8.2646, -8.5791, -8.6338, -8.6172, -8.6166, -8.5342, -8.3066, -8.5377, -8.6198, -8.5044, -8.5205, -8.6123, -8.6089, -8.6196, -8.6216, -8.6224, -8.6239, -8.6289, -8.6369, -8.6541, -8.8957, -8.8491, -8.8094, -8.739, -8.7627, -8.8731, -8.826, -8.8009, -8.7362, -8.9791, -8.9744, -8.9214, -8.8364, -8.8845, -8.9902, -8.5201, -8.7018, -8.83, -9.016, -8.8082, -8.6826, -8.7629, -8.9419, -8.8318, -8.9492, -8.8293, -9.0416, -8.8898, -8.5504, -8.7306, -8.7651, -8.779, -8.7823, -8.5786, -8.7385, -8.7221, -8.6981, -8.7144, -8.6651, -8.7531, -8.7225, -8.7406, -8.7392, -8.7742, -8.538, -8.7768, -8.7481, -8.7578, -8.7655, -7.9639, -8.1028, -8.5552, -8.676, -8.7213, -8.7013, -8.4755, -8.7598, -8.8863, -8.7966, -8.7325, -8.509, -8.5965, -8.6794, -8.1244, -8.696, -8.6712, -8.8674, -8.625, -8.7889, -8.4586, -8.8205, -8.6333, -8.8054, -8.8639, -8.758, -8.6946, -8.6208, -8.7387, -8.7217, -8.4081, -8.6427, -8.5524, -8.49, -8.4346, -8.627, -8.5165, -8.6551, -8.5299, -8.6407, -8.5574, -8.3761, -8.4185, -8.4036, -8.395, -8.3742, -8.4202, -8.4325, -8.4328, -8.4676, -8.4614, -8.4618, -8.3308, -8.4804, -8.4823, -8.4854, -8.4033, -8.4086, -8.5001, -8.5148, -8.5195, -8.4646, -8.8782, -8.4978, -8.694, -8.8049, -8.7486, -8.7265, -8.8395, -9.0486, -8.935, -8.7526, -8.9544, -8.9251, -9.1674, -8.9951, -8.8154, -9.0305, -9.015, -8.902, -8.8991, -8.6324, -8.9859, -8.9772, -8.9275, -8.8302, -9.0205, -8.8724, -8.674, -9.1136, -8.9187, -8.911, -8.6838, -8.6752, -8.6622, -8.8767, -8.6191, -8.6538, -8.77, -8.7424, -8.6387, -8.8537, -8.8101, -8.3782, -8.6143, -8.6627, -8.5311, -8.7623, -8.562, -8.8599, -8.8636, -8.8824, -8.6961, -8.6626, -8.8578, -8.8886, -8.7994, -8.7608, -8.6855, -8.9337, -8.6299, -8.6822, -8.8975, -8.7422, -8.5273, -8.9668, -8.8134, -8.9944, -9.0373, -8.7698, -8.9095, -8.8802, -8.7866, -8.957, -9.1236, -9.0835, -9.091, -9.0608, -9.0391, -9.0067, -8.7466, -8.7664, -8.7968, -8.7467, -8.743, -8.8592, -8.8206, -8.76, -8.6999, -8.7978, -8.8788, -8.6943, -8.0893, -8.5156, -8.5949, -8.5904, -8.4213, -8.3455, -8.6485, -8.3862, -8.6499, -8.588, -8.6004, -8.6875, -8.7113, -8.7182, -8.7371, -8.7329, -8.7562, -8.1928, -8.6909, -8.5873, -8.929, -8.67, -8.7308, -8.8778, -8.8289, -8.7331, -8.7976, -8.9249, -8.7818, -8.7814, -8.6761, -8.4601, -8.7598, -8.6844, -8.8213, -8.3556, -8.6468, -9.1176, -9.0945, -8.9981, -8.7295, -9.1786, -9.2585, -9.0231, -8.9594, -8.8951, -8.998, -8.583, -8.4384, -8.4893, -8.6965, -8.7886, -8.8791, -8.8081, -8.8409, -8.6648, -8.6302, -8.8124, -8.7917, -8.7888, -8.729, -8.6832, -8.6498, -8.6898, -8.7262, -8.725, -8.7604, -8.6429, -8.7439, -8.5704, -8.7029, -8.6287, -8.4501, -8.5663, -8.6625, -8.6183, -8.9068, -8.944, -8.9322, -8.7202, -9.1174, -8.6447, -9.2175, -8.9287, -9.0228, -8.8883, -8.9884, -9.3939, -9.1726, -9.109, -8.7693, -9.018, -9.2021, -9.2089, -8.9529, -9.1393, -8.9811, -8.7814, -8.999, -8.8443, -8.7563, -8.6532, -8.7407, -8.8205, -8.9056, -8.7693, -8.7962, -8.8613, -8.8844, -8.8466, -8.8835, -8.7365, -8.7547, -8.7051, -8.7372, -8.8662, -8.8608, -8.7762, -8.6905, -8.7751, -8.5879, -8.7237, -8.6111, -8.6585, -8.5574, -8.6092, -8.8057, -8.7591, -8.5184, -8.7299, -8.7729, -8.944, -8.6694, -8.5447, -8.6601, -9.0233, -8.8326, -8.8868, -8.7673, -8.8401, -8.7434, -8.7613, -8.5986, -8.9853, -8.7493, -8.7902, -8.8065, -8.7886, -8.6906, -8.9678, -8.5963, -8.5257, -8.5464, -8.7493, -8.7067, -8.6378, -8.7153, -8.6128, -8.6714, -8.6812, -8.5997, -8.5768, -8.4902, -8.4709, -8.5331, -8.3234, -8.6863, -8.7087, -8.6657, -8.6808, -8.7083, -8.688, -8.58, -8.741, -8.9112, -8.8921, -8.9125, -9.0929, -8.7392, -8.8259, -9.1576, -8.9764, -8.8742, -9.0234, -9.1829, -9.1714, -8.7566, -8.841, -8.9582, -8.8585, -9.0234, -9.0281, -9.0025, -9.1614, -8.8114, -9.0102, -9.3121, -8.9253, -9.1615, -8.875, -8.8715, -8.8007, -8.848, -8.9346, -8.8521, -8.8764, -8.8547, -8.724, -8.9083, -8.7004, -8.8589, -8.9177, -8.8627, -8.8689, -8.6141, -8.8481, -8.6543, -8.7188, -8.7812, -8.8716, -8.8192, -8.8776, -8.7047, -8.6478, -8.5017, -8.7961, -8.6784, -8.8981, -8.8993, -9.0704, -8.617, -8.7761, -8.954, -9.1121, -8.8771, -9.1227, -8.5791, -8.765, -8.9232, -8.8609, -8.9748, -8.84, -8.9542, -8.7497, -8.8387, -8.6558, -8.6002, -8.884, -9.1662, -8.8353, -8.6421, -9.0402, -8.7476, -8.9109, -8.7961, -8.7316, -8.7529, -8.8463, -8.8095, -8.3971, -8.5937, -8.4375, -7.7087, -7.7141, -7.7476, -7.7143, -7.74, -7.7606, -7.8167, -7.8345, -7.8353, -8.6601, -8.3927, -8.6317, -8.525, -8.5256, -8.53, -8.5428, -8.6823, -8.5484, -8.5512, -8.7714, -8.5369, -8.6813, -8.7203, -8.8909, -8.6267, -8.836, -8.7472, -8.8774, -8.8166, -9.0731, -8.8784, -8.7701, -8.7446, -8.8731, -8.7387, -9.0985, -8.7053, -8.7789, -8.8619, -9.0138, -8.8641, -8.9532, -8.9447, -8.6705, -8.6642, -9.0808, -8.9985, -8.8799, -8.8156, -8.8628, -8.8138, -8.7866, -8.8536, -8.8811, -8.8211, -8.6088, -8.7257, -8.7936, -8.6846, -8.718, -8.7429, -8.4793, -8.8208, -8.8224, -8.8287], \"loglift\": [30.0, 29.0, 28.0, 27.0, 26.0, 25.0, 24.0, 23.0, 22.0, 21.0, 20.0, 19.0, 18.0, 17.0, 16.0, 15.0, 14.0, 13.0, 12.0, 11.0, 10.0, 9.0, 8.0, 7.0, 6.0, 5.0, 4.0, 3.0, 2.0, 1.0, 2.5193, 2.5046, 2.4119, 2.4078, 2.4049, 2.3981, 2.376, 2.3578, 2.3573, 2.3546, 2.3423, 2.336, 2.331, 2.3309, 2.3275, 2.3272, 2.3234, 2.3198, 2.3167, 2.3096, 2.3093, 2.2978, 2.2841, 2.2838, 2.276, 2.2576, 2.2487, 2.2458, 2.2457, 2.245, 2.213, 2.2375, 1.8682, 1.9102, 1.8885, 1.8642, 1.8775, 1.8718, 1.809, 1.8595, 1.8213, 1.8662, 1.8507, 1.8074, 1.8211, 1.8245, 1.8208, 1.8123, 1.173, 1.0975, 0.6682, 1.0823, 1.0572, 1.0729, 1.038, 1.0191, 1.0477, 0.9852, 0.716, 0.6642, 0.7596, 0.739, 2.2667, 2.2489, 2.1905, 2.1501, 2.1466, 2.1428, 2.1146, 2.1074, 2.1022, 2.1018, 2.1002, 2.0854, 2.084, 2.0779, 2.0672, 2.0593, 2.0525, 2.0523, 2.0466, 2.0433, 2.0401, 2.0344, 2.0257, 2.0244, 2.0242, 2.0219, 2.0187, 2.0176, 2.0175, 2.0139, 2.0111, 2.0069, 2.0045, 1.9876, 1.9828, 2.0033, 1.9591, 1.958, 1.9536, 1.9674, 1.9713, 1.9841, 1.9283, 1.9044, 1.9523, 1.8296, 1.454, 1.4558, 1.4465, 1.4197, 1.4298, 1.4074, 1.4094, 1.3933, 1.3512, 1.6691, 1.665, 1.5489, 1.5372, 1.7338, 1.4781, 1.8336, 1.8371, 1.758, 0.2889, 1.3213, 2.5648, 2.499, 2.494, 2.4652, 2.4636, 2.4453, 2.4448, 2.4289, 2.4226, 2.4205, 2.4127, 2.4033, 2.3961, 2.3557, 2.3502, 2.3416, 2.3413, 2.3295, 2.3182, 2.3163, 2.3013, 2.2954, 2.2903, 2.2902, 2.2899, 2.2832, 2.2758, 2.273, 2.2698, 2.2697, 2.2644, 2.191, 2.2462, 2.2585, 2.1201, 2.0878, 2.26, 2.1953, 2.0312, 2.1593, 1.6482, 0.6512, 1.6284, 1.5659, 1.1158, 1.2119, 2.5353, 2.5246, 2.4049, 2.3895, 2.3806, 2.3448, 2.3254, 2.325, 2.3062, 2.2825, 2.2712, 2.2682, 2.261, 2.2509, 2.2508, 2.249, 2.239, 2.2268, 2.2268, 2.2135, 2.2113, 2.1963, 2.1928, 2.1915, 2.1864, 2.1846, 2.1627, 2.1413, 2.1239, 2.1228, 2.0928, 2.0619, 2.0145, 2.0054, 1.9651, 1.9693, 1.8911, 1.9411, 1.8959, 1.8173, 1.0765, 0.9071, 0.9923, 1.0265, 1.0084, 0.9579, 1.0448, 1.0332, 0.9696, 0.9647, 0.9277, 0.9108, 1.5939, 1.7803, 1.7002, 1.16, 1.1515, 2.5434, 2.4265, 2.4099, 2.3735, 2.3694, 2.3663, 2.3537, 2.3354, 2.3102, 2.31, 2.2981, 2.2895, 2.2871, 2.283, 2.2823, 2.2821, 2.2649, 2.2639, 2.2629, 2.2479, 2.24, 2.2352, 2.2343, 2.2166, 2.2134, 2.2064, 2.2029, 2.1911, 2.1878, 2.1813, 2.1669, 2.1701, 2.1157, 2.1447, 2.0896, 1.3062, 1.9612, 1.2708, 1.2598, 1.2585, 1.2528, 1.2558, 1.1847, 1.1726, 1.0, 2.0243, 1.8563, 1.8742, 1.4912, 2.0432, 1.5839, 0.7442, 1.4612, 0.741, 1.4643, 0.6311, 1.5182, 1.7025, 2.2155, 2.1956, 2.1874, 2.177, 2.1631, 2.1618, 2.1366, 2.1277, 2.1149, 2.0987, 2.0895, 2.0712, 2.0651, 2.065, 2.0466, 2.0396, 2.0308, 2.0174, 2.0134, 2.0084, 2.0045, 1.9992, 1.9922, 1.9787, 1.9774, 1.9764, 1.9764, 1.9763, 1.9685, 1.9597, 1.9466, 1.9394, 1.9045, 1.9328, 1.8608, 1.8371, 1.8398, 1.7965, 1.8091, 1.798, 1.799, 1.7538, 1.3484, 1.3145, 1.3006, 1.3121, 1.3022, 1.2888, 1.2759, 1.2525, 1.2036, 1.5322, 1.6607, 0.8317, 1.3835, 1.3367, 1.5438, 1.3712, 1.2925, 1.5394, 0.6778, 2.5203, 2.3848, 2.3621, 2.3481, 2.342, 2.336, 2.3348, 2.331, 2.3283, 2.316, 2.308, 2.2979, 2.2964, 2.2916, 2.2887, 2.2865, 2.2807, 2.2775, 2.2715, 2.2688, 2.2578, 2.2449, 2.2424, 2.2418, 2.2317, 2.2302, 2.2284, 2.2218, 2.221, 2.2194, 2.2149, 2.2016, 2.2028, 2.1488, 2.1424, 2.1302, 2.0853, 2.0733, 2.1058, 2.1074, 2.0905, 1.8089, 1.6771, 1.7545, 1.1165, 1.6862, 1.7688, 1.6616, 1.6579, 1.6325, 1.6061, 1.0666, 1.0585, 1.0953, 1.0609, 1.7491, 1.066, 1.0592, 1.0531, 1.0454, 1.6113, 1.605, 1.7338, 1.7379, 1.7092, 1.7195, 1.7482, 1.6849, 1.6544, 1.6769, 2.4794, 2.3778, 2.3644, 2.3392, 2.3222, 2.2985, 2.2976, 2.2788, 2.2773, 2.2383, 2.2357, 2.231, 2.2259, 2.2259, 2.2207, 2.2132, 2.2109, 2.193, 2.1838, 2.1682, 2.1669, 2.1594, 2.1522, 2.1472, 2.1443, 2.1354, 2.121, 2.1203, 2.1021, 2.1021, 2.1006, 2.1008, 2.0792, 1.9872, 1.9614, 1.971, 1.9359, 2.0651, 1.888, 2.0242, 1.8336, 1.1495, 1.1858, 1.1759, 1.1671, 1.7974, 1.1575, 1.1451, 0.9984, 1.1243, 1.087, 1.8383, 1.7309, 1.2808, 1.4591, 1.0098, 1.4104, 1.1807, 1.2039, 1.176, 1.5589, 1.3235, 1.3061, 1.302, 2.4716, 2.435, 2.3939, 2.3758, 2.3567, 2.3396, 2.3303, 2.3119, 2.3118, 2.3044, 2.2854, 2.2819, 2.28, 2.2799, 2.2747, 2.2661, 2.2555, 2.2551, 2.2537, 2.2331, 2.2279, 2.2183, 2.2082, 2.202, 2.1971, 2.197, 2.177, 2.1737, 2.1719, 2.1582, 2.139, 2.1373, 2.1162, 2.1002, 2.1073, 2.1024, 2.0938, 2.0911, 2.058, 2.0599, 2.0617, 2.0467, 2.0763, 2.026, 2.0304, 2.0261, 2.02, 2.0076, 2.0505, 2.0557, 1.9959, 2.028, 1.9468, 1.9318, 1.9603, 1.9173, 1.9485, 1.8672, 1.8915, 1.0085, 1.0792, 1.0716, 0.9711, 0.9521, 0.9408, 0.8882, 0.8847, 0.881, 1.2579, 1.2489, 1.1944, 2.411, 2.3876, 2.3587, 2.3318, 2.2966, 2.2713, 2.2484, 2.2439, 2.2218, 2.2201, 2.2188, 2.1701, 2.1618, 2.158, 2.1511, 2.1507, 2.1395, 2.1341, 2.1263, 2.1262, 2.1241, 2.1182, 2.1083, 2.1076, 2.0949, 2.0889, 2.0859, 2.0854, 2.0839, 2.0795, 2.0659, 2.0454, 2.0583, 1.9627, 1.9643, 1.9903, 1.9494, 1.2726, 1.9653, 1.1533, 1.1159, 1.4943, 1.5013, 1.2291, 1.4458, 1.9055, 1.4026, 1.4516, 1.8052, 1.4743, 0.2318, 1.5569, 0.2384, 1.2178, 1.2737, 0.1147, 0.1016, 2.4159, 2.3427, 2.3193, 2.3119, 2.3043, 2.2659, 2.2456, 2.2403, 2.2402, 2.2283, 2.2206, 2.2201, 2.2159, 2.2081, 2.2031, 2.1999, 2.1971, 2.1801, 2.1762, 2.1694, 2.1691, 2.1574, 2.1569, 2.1535, 2.1472, 2.143, 2.1382, 2.1341, 2.1327, 2.128, 2.1209, 2.1054, 2.0948, 2.0285, 2.0308, 2.0335, 2.0461, 1.3342, 1.3221, 1.2556, 1.8895, 1.9354, 1.9373, 1.4436, 1.4308, 1.3894, 1.3951, 1.3852, 1.4039, 1.3041, 1.6225, 1.8148, 1.2779, 1.9177, 1.224, 1.2641, 1.6506, 1.6503, 1.6514, 0.0773, 2.4205, 2.3785, 2.366, 2.3619, 2.361, 2.3588, 2.3431, 2.3302, 2.3299, 2.3115, 2.3081, 2.2903, 2.2716, 2.2642, 2.2615, 2.2586, 2.2531, 2.2384, 2.2372, 2.2372, 2.2319, 2.2307, 2.228, 2.2257, 2.2146, 2.2045, 2.1947, 2.1943, 2.1827, 2.1801, 2.1753, 2.1708, 2.1614, 2.1431, 2.1232, 2.1282, 2.1534, 2.0307, 2.0741, 2.0701, 2.0691, 2.059, 1.835, 1.9083, 1.1315, 1.0842, 1.0787, 1.0712, 1.0276, 1.0677, 1.0587, 1.0156, 0.7922, 1.4107, 1.3736, 1.3774, 1.5356, 1.4794, 1.6558, 1.6339, 0.3033, 0.8689, 2.356, 2.307, 2.2536, 2.2412, 2.2294, 2.2289, 2.2194, 2.203, 2.2002, 2.1918, 2.179, 2.1782, 2.1755, 2.1536, 2.151, 2.1455, 2.1452, 2.1447, 2.1446, 2.134, 2.1264, 2.1254, 2.1244, 2.121, 2.1207, 2.1161, 2.1123, 2.112, 2.1097, 2.1, 2.0988, 2.0875, 2.0912, 2.0744, 2.0881, 2.0711, 2.0683, 2.0622, 2.0767, 2.0561, 2.0351, 2.0654, 2.0464, 2.0151, 2.0325, 1.9989, 2.0234, 2.0531, 2.0034, 1.9342, 2.0265, 1.9932, 1.7052, 1.4065, 1.3124, 1.2671, 1.5162, 1.5368, 1.6749, 1.2512, 1.2725, 1.2064, 2.6487, 2.4674, 2.3698, 2.3392, 2.2906, 2.2578, 2.2539, 2.2535, 2.2476, 2.2458, 2.2455, 2.2398, 2.2395, 2.2391, 2.2301, 2.226, 2.2241, 2.2212, 2.2192, 2.2173, 2.2147, 2.2128, 2.21, 2.2067, 2.2018, 2.2011, 2.1919, 2.1891, 2.1886, 2.1862, 2.1704, 2.1638, 2.1633, 2.1568, 2.1225, 2.1396, 2.1181, 2.1128, 2.1173, 2.127, 2.1112, 2.1011, 2.1164, 2.0901, 2.1051, 2.0544, 2.0685, 2.037, 2.0473, 2.025, 2.053, 2.0143, 2.0411, 2.0132, 2.0461, 2.0364, 1.9445, 1.5178, 1.4361, 1.4325, 2.0499, 2.3721, 2.352, 2.3421, 2.3222, 2.3019, 2.2997, 2.2468, 2.234, 2.2296, 2.2202, 2.2053, 2.1899, 2.1884, 2.1877, 2.1839, 2.1699, 2.1653, 2.1517, 2.1467, 2.1442, 2.1414, 2.1388, 2.1382, 2.1346, 2.1251, 2.119, 2.1176, 2.1162, 2.1081, 2.1078, 2.1069, 2.0993, 2.0773, 2.043, 2.0355, 2.0687, 2.0766, 1.6857, 1.9446, 1.5806, 1.578, 1.5544, 1.5163, 1.5023, 1.5401, 1.4953, 1.5267, 1.542, 1.466, 1.4557, 1.4704, 1.3968, 1.4584, 1.3944, 1.35, 0.7331, 0.7356, 0.6876, 0.6449, 0.7131, 0.6807, 0.6989, 0.7046, 0.6671, 1.3758, 1.2776, 2.5434, 2.4505, 2.4276, 2.4096, 2.3749, 2.3428, 2.3387, 2.3291, 2.323, 2.3212, 2.3138, 2.3075, 2.2671, 2.2486, 2.2461, 2.2412, 2.2397, 2.2373, 2.2328, 2.2327, 2.2269, 2.2231, 2.2227, 2.2225, 2.217, 2.2166, 2.2081, 2.2018, 2.1967, 2.1964, 2.1903, 2.1679, 2.1826, 2.1736, 2.175, 2.1217, 2.1185, 2.1221, 2.0803, 2.1543, 2.1113, 2.1555, 1.9193, 1.8213, 1.935, 0.5894, 0.5989, 0.5596, 0.4923, 1.7855, 1.865, 1.7169, 0.4582, 0.4211, 0.4545, 0.211, 0.4521, 1.0461, 0.4305, 1.413, 1.4272, 1.3019, 0.1604, 1.3219, 0.942, 1.4019, 0.066, 2.3423, 2.2679, 2.2674, 2.2608, 2.2255, 2.1857, 2.1754, 2.1732, 2.169, 2.1679, 2.1632, 2.1614, 2.1558, 2.1431, 2.1304, 2.1302, 2.1276, 2.1276, 2.1242, 2.1223, 2.1177, 2.1128, 2.1113, 2.1016, 2.0893, 2.0893, 2.0859, 2.084, 2.0827, 2.0814, 2.0768, 2.0694, 2.0068, 2.0725, 2.0634, 2.0119, 2.0306, 2.0291, 1.5317, 1.502, 1.4956, 1.7524, 1.6805, 1.3892, 1.4321, 1.8729, 0.7551, 1.7179, 1.616, 1.6329, 1.5386, 1.2583, 0.4147, 1.4854, 0.5622, 0.3331, 0.2912, 1.5225, 0.1078, 0.2111, 0.4337, 0.4483, 0.0542, 0.2227, 0.13, 0.6477, 2.4498, 2.4344, 2.4023, 2.3147, 2.3136, 2.3116, 2.306, 2.2782, 2.2707, 2.2686, 2.2623, 2.246, 2.2452, 2.2443, 2.2275, 2.2229, 2.1997, 2.1997, 2.1988, 2.1936, 2.1906, 2.189, 2.1827, 2.1754, 2.1753, 2.169, 2.148, 2.1394, 2.1359, 2.1357, 2.1292, 2.1076, 2.0593, 2.039, 1.9588, 1.8881, 1.8901, 1.87, 1.7098, 1.152, 0.6665, 0.6875, 1.8167, 0.608, 0.9903, 1.8748, 0.1239, -0.1298, 0.9247, 0.072, 0.0743, -0.0111, 0.0365, 0.0279, 0.0299, -0.0573, 1.3813, 2.477, 2.4766, 2.4634, 2.4484, 2.4455, 2.4387, 2.4267, 2.4125, 2.4047, 2.3894, 2.3395, 2.3309, 2.2926, 2.292, 2.2807, 2.2647, 2.2631, 2.2602, 2.256, 2.2445, 2.2431, 2.2414, 2.2367, 2.2319, 2.226, 2.2117, 2.1912, 2.1808, 2.18, 2.178, 2.1546, 2.1565, 2.1441, 2.1231, 1.8025, 1.9259, 1.7477, 0.7337, 0.6947, 0.6188, 0.621, 0.6404, 0.6173, 1.2203, 0.5626, 0.6182, 0.5769, 1.1063, 1.0537, 1.0819, 1.1266, 1.0533, -0.09, 1.03, 1.0771, 1.0886, 1.0203, 0.9248, 1.0173, 0.9798, 2.8179, 2.6321, 2.5699, 2.5547, 2.5368, 2.5264, 2.4895, 2.4894, 2.4771, 2.4757, 2.4617, 2.4611, 2.4569, 2.4412, 2.4323, 2.4287, 2.4222, 2.4002, 2.3968, 2.3956, 2.394, 2.3909, 2.3906, 2.3881, 2.3859, 2.3841, 2.3782, 2.3758, 2.3724, 2.3677, 2.3465, 2.3154, 2.3164, 2.264, 2.2755, 2.2775, 2.2925, 2.2439, 2.2546, 2.2981, 1.7699, 2.2284, 2.2156, 0.3981, 1.8606, 2.1209, 2.0642, 2.054, 1.8746, 1.9797, 2.0313, 1.3985, 2.0224, 2.8532, 2.8297, 2.798, 2.7575, 2.7547, 2.7528, 2.7495, 2.7467, 2.7384, 2.7179, 2.7148, 2.706, 2.7017, 2.6702, 2.668, 2.6439, 2.6395, 2.6309, 2.6271, 2.625, 2.625, 2.6185, 2.6158, 2.6147, 2.6126, 2.605, 2.6039, 2.6022, 2.5881, 2.5822, 2.5607, 2.5769, 2.5027, 2.0322, 2.0043, 1.9326, 1.9447, 1.9612, 1.9638, 1.8987, 1.9169, 1.9487, 1.9374, 1.9146, 1.8935, 1.9304, 1.9015, 1.8946, 1.828, 1.1346, 1.1609, 1.148, 1.1156, 1.1459, 1.1289, 1.1572, 1.1125, 1.0708, 2.4615, 2.3623, 2.3557, 2.3344, 2.3151, 2.2963, 2.2816, 2.2736, 2.2669, 2.2608, 2.2517, 2.2387, 2.2348, 2.2285, 2.2225, 2.2121, 2.2044, 2.1912, 2.1831, 2.1793, 2.1724, 2.1659, 2.1653, 2.1639, 2.1635, 2.1617, 2.1598, 2.1548, 2.1437, 2.143, 2.1403, 2.1411, 2.1158, 2.0923, 2.0403, 2.0799, 1.9623, 2.0237, 1.5588, 2.0919, 1.5543, 1.8911, 1.3988, 1.4479, 1.2823, 1.9145, 1.2061, 1.6844, 1.3601, 1.4044, 1.317, 1.374, 1.4254, 0.2842, 1.4115, 1.2243, 0.6075, 1.1518, 1.334, 1.2427, 1.3032, 0.0303, 1.1764, 0.4538, 0.4272, -0.3772, 0.7687, 2.5869, 2.4725, 2.471, 2.3326, 2.2755, 2.271, 2.2691, 2.2649, 2.2484, 2.2452, 2.2353, 2.2286, 2.2192, 2.2159, 2.2125, 2.2114, 2.2113, 2.2077, 2.2025, 2.2018, 2.2018, 2.2014, 2.2004, 2.1899, 2.1863, 2.1753, 2.1715, 2.1673, 2.1671, 2.163, 2.0305, 2.1201, 1.9656, 1.8997, 2.127, 2.0279, 2.0167, 1.9568, 2.1013, 2.0127, 1.4156, 1.3729, 1.3297, 1.1903, 1.472, 1.1657, 1.4344, 1.4332, 1.364, 1.1266, 1.4125, 1.3269, 1.4014, 1.3538, 1.447, 1.3642, 1.2879, 1.3485, 0.4349, 1.3173, 0.0588, 1.4109, 0.2335, 0.1795, 0.0177, 0.9065, 0.1155, 0.0069, 2.448, 2.387, 2.318, 2.3101, 2.3022, 2.2948, 2.292, 2.2808, 2.2773, 2.2664, 2.2568, 2.2562, 2.2538, 2.2401, 2.2274, 2.2105, 2.2096, 2.193, 2.1883, 2.1882, 2.1863, 2.1797, 2.1795, 2.1736, 2.168, 2.167, 2.1655, 2.1598, 2.1518, 2.1463, 2.1313, 2.1109, 2.0855, 2.0493, 2.0382, 2.0393, 2.0393, 2.1016, 1.2321, 1.1042, 0.9953, 1.6761, 2.0207, -0.1564, -0.0383, 1.8867, 1.2306, -0.2154, 0.7762, 2.4124, 2.377, 2.3493, 2.3438, 2.2756, 2.2653, 2.2173, 2.2053, 2.1628, 2.1622, 2.1606, 2.1587, 2.1571, 2.1556, 2.1506, 2.1453, 2.1379, 2.1236, 2.1232, 2.1215, 2.1141, 2.1085, 2.1049, 2.0997, 2.0914, 2.0845, 2.0812, 2.0799, 2.0759, 2.0737, 2.0687, 2.0601, 2.0566, 2.0417, 2.0542, 2.0463, 2.044, 2.0385, 2.0482, 2.0232, 1.9735, 2.0088, 2.0325, 1.7854, 1.4376, 1.9794, 1.8842, 1.914, 1.4026, 1.5864, 1.0381, 0.9239, 0.02, -0.0484, 1.7723, -0.017, 2.4652, 2.4138, 2.3405, 2.3324, 2.3142, 2.2902, 2.2885, 2.2768, 2.2595, 2.2452, 2.2428, 2.2345, 2.2242, 2.222, 2.2185, 2.2152, 2.2097, 2.2094, 2.2078, 2.2047, 2.2026, 2.2008, 2.1987, 2.1967, 2.1951, 2.1901, 2.19, 2.1888, 2.1856, 2.1717, 2.1699, 2.1627, 2.1672, 2.1423, 2.1339, 2.115, 2.1283, 2.0867, 2.0631, 2.0864, 2.0658, 2.0088, 2.058, 1.9995, 1.9995, 1.8363, 1.9302, 2.1063, 1.9487, 0.5513, 1.5447, 1.8745, 0.6178, 0.5176, 1.6925, 0.5586, 0.5546, 0.5507, 0.5295, 0.5303, 0.4485, 0.2871, 0.9181, 0.8244, 0.6647, 2.3838, 2.372, 2.268, 2.2501, 2.2443, 2.2396, 2.2383, 2.2182, 2.2176, 2.2119, 2.2023, 2.1916, 2.1901, 2.1837, 2.1822, 2.1706, 2.1682, 2.1673, 2.1665, 2.1577, 2.1537, 2.1527, 2.145, 2.1259, 2.1236, 2.1228, 2.1162, 2.1138, 2.1107, 2.0992, 2.0801, 2.0613, 2.0537, 2.0566, 2.0626, 2.0452, 2.078, 2.0438, 2.0324, 2.0708, 2.0252, 1.763, 1.7363, 1.7205, 1.6975, 1.6868, 1.6877, 1.9197, 1.9715, 1.5315, 1.966, 1.9937, 1.4086, 1.2802, 1.232, 1.9595, 1.2981, 1.8836, 2.4608, 2.4516, 2.4054, 2.3956, 2.3922, 2.3772, 2.3607, 2.3588, 2.357, 2.3156, 2.3154, 2.2988, 2.2926, 2.2894, 2.2884, 2.2875, 2.2807, 2.2668, 2.2624, 2.261, 2.2542, 2.2536, 2.2428, 2.2389, 2.234, 2.2301, 2.226, 2.225, 2.2246, 2.2244, 2.2195, 2.2046, 2.145, 2.1694, 2.035, 2.1094, 1.6937, 2.1655, 2.0965, 1.6123, 1.5861, 1.5192, 1.5398, 2.0695, 0.985, 1.9105, 1.8159, 2.0336, 0.7591, 0.7769, 2.261, 2.2496, 2.2099, 2.1989, 2.1631, 2.1468, 2.1331, 2.1301, 2.1248, 2.1179, 2.1028, 2.102, 2.0987, 2.0984, 2.0956, 2.089, 2.0886, 2.0864, 2.0855, 2.085, 2.0789, 2.0777, 2.0727, 2.0716, 2.0715, 2.0703, 2.0692, 2.065, 2.0608, 2.0572, 2.0259, 2.0147, 2.0447, 1.9759, 1.9727, 1.9524, 1.8793, 1.9344, 1.9964, 1.9326, 1.7787, 1.7079, 0.9379, 1.3481, 1.3833, 1.3427, 1.7099, 1.6591, 0.8435, 0.8291, 1.2629, 1.2624, 1.2558, 1.6167, 0.2532, 1.8706, 0.9983, 2.471, 2.4554, 2.3944, 2.3881, 2.3556, 2.3391, 2.3349, 2.3139, 2.2996, 2.2918, 2.2644, 2.264, 2.2536, 2.2199, 2.2163, 2.2119, 2.2001, 2.1937, 2.1804, 2.168, 2.168, 2.168, 2.1675, 2.1616, 2.1556, 2.1551, 2.154, 2.1507, 2.1507, 2.149, 2.141, 2.1401, 2.1346, 2.1182, 2.1215, 2.0663, 2.0092, 2.1157, 2.0839, 2.1304, 2.0726, 1.9866, 2.0678, 2.0069, 1.8197, 1.9707, 1.8149, 1.9274, 1.8595, 1.8438, 0.8618, 1.947, 1.7565, 1.5191, 1.0645, 1.6919, 0.498, 1.6637, 1.7749, 1.6446, 2.545, 2.4989, 2.4918, 2.4245, 2.4133, 2.3295, 2.3259, 2.3091, 2.2983, 2.2966, 2.2793, 2.2787, 2.2683, 2.2619, 2.2464, 2.2234, 2.2209, 2.2176, 2.1952, 2.1907, 2.1887, 2.185, 2.1835, 2.1795, 2.1777, 2.1755, 2.1716, 2.1676, 2.159, 2.146, 2.1459, 2.1306, 2.101, 2.0931, 2.1208, 1.9576, 1.951, 1.9404, 1.87, 1.8889, 1.8941, 1.9164, 1.8307, 1.7898, 1.715, 0.9616, 1.3746, 0.3637, 0.2645, 1.546, 0.221, 1.8348, 1.8023, 1.8436, -0.2777, 2.5535, 2.5068, 2.4844, 2.4077, 2.3849, 2.3678, 2.3116, 2.3015, 2.2878, 2.2841, 2.2619, 2.2535, 2.248, 2.2379, 2.2271, 2.2244, 2.2203, 2.2073, 2.2045, 2.2009, 2.1888, 2.1869, 2.1856, 2.1843, 2.1726, 2.1716, 2.146, 2.1451, 2.1443, 2.1434, 2.1327, 2.1223, 2.086, 2.0353, 2.1195, 2.0854, 2.0889, 2.032, 1.9314, 1.2192, 1.5449, 1.4262, 1.5429, 1.4966, 0.4709, 1.4736, 1.0449, 0.7079, 0.2848, 0.2711, 1.3915, 0.2159, 0.9237, 0.163, 1.0013, 0.089, 0.072, 0.059, 0.0652, 0.4851, 0.8532, 2.4593, 2.3941, 2.3696, 2.3268, 2.3008, 2.2872, 2.2632, 2.2577, 2.2272, 2.2124, 2.2044, 2.1913, 2.1891, 2.1837, 2.181, 2.18, 2.1762, 2.1729, 2.1597, 2.1523, 2.1365, 2.1365, 2.1323, 2.1242, 2.1158, 2.1157, 2.1135, 2.113, 2.1129, 2.109, 2.1081, 2.1069, 2.0907, 2.0375, 2.0943, 1.9578, 2.0722, 1.9042, 1.9852, 1.9867, 1.7438, 1.6911, 1.5406, 1.6661, 1.6481, 1.824, 1.5005, 1.7726, 0.3293, 2.0106, 0.8373, 0.7528, 0.8789, 1.7475, 0.898, 2.4552, 2.4415, 2.4378, 2.4279, 2.416, 2.4155, 2.4134, 2.4043, 2.387, 2.3836, 2.3805, 2.38, 2.3785, 2.3594, 2.3495, 2.3458, 2.3424, 2.34, 2.3383, 2.3381, 2.3267, 2.3243, 2.3206, 2.3182, 2.3039, 2.3031, 2.2973, 2.2957, 2.2892, 2.2843, 2.2695, 2.1986, 2.0912, 1.9899, 2.2552, 2.2376, 2.1541, 2.0512, 2.0043, 2.0999, 1.9263, 1.8949, 1.893, 1.8768, 1.9072, 1.855, 1.101, 1.9522, 1.8432, 2.1017, 2.5192, 2.4862, 2.3262, 2.2903, 2.2863, 2.2699, 2.2612, 2.2471, 2.2442, 2.2374, 2.232, 2.2124, 2.2042, 2.1923, 2.1907, 2.1797, 2.1749, 2.1715, 2.1639, 2.1483, 2.1469, 2.1445, 2.1431, 2.1381, 2.1373, 2.1349, 2.1335, 2.1324, 2.1323, 2.1187, 2.1021, 2.1082, 2.1166, 2.0922, 2.0597, 2.0339, 1.9662, 2.0717, 1.9692, 1.6982, 1.8939, 1.9195, 1.9458, 1.5122, 2.0269, 1.4475, 1.4703, 1.4698, 1.4413, 1.1273, 1.4141, 0.5391, 1.3041, 1.4401, 1.3798, 1.3567, 0.9944, 0.1305, 0.9868, 1.0456, 0.3402, 0.3074, 0.8997, 0.2459, 0.1939, 0.219, 0.1983, 0.1443, 0.2333, 2.4478, 2.4284, 2.4189, 2.413, 2.3968, 2.3858, 2.3595, 2.3166, 2.3142, 2.3139, 2.2904, 2.2811, 2.2758, 2.2656, 2.255, 2.2528, 2.2449, 2.2374, 2.2337, 2.23, 2.2235, 2.2207, 2.2033, 2.1934, 2.1921, 2.1908, 2.1871, 2.1819, 2.1742, 2.1739, 2.167, 2.1586, 2.1427, 2.1459, 2.1403, 2.0124, 2.0967, 2.0397, 2.0162, 2.0291, 1.9497, 1.967, 1.8791, 1.8991, 1.8633, 1.9943, 0.5783, 1.993, 1.7371, 1.7567, 1.7723, 2.7171, 2.5844, 2.5777, 2.5285, 2.4966, 2.4962, 2.4943, 2.4916, 2.4803, 2.4705, 2.4676, 2.4445, 2.4193, 2.4183, 2.4159, 2.4122, 2.4019, 2.3934, 2.3758, 2.3743, 2.3734, 2.3726, 2.3707, 2.3659, 2.3655, 2.3641, 2.3622, 2.3482, 2.345, 2.3447, 2.3426, 2.3068, 2.271, 2.1744, 2.1025, 2.2379, 2.1025, 2.2408, 2.0603, 2.1875, 1.9592, 1.4654, 1.4626, 1.3943, 1.3347, 1.2048, 1.3683, 1.3774, 1.3429, 1.4762, 1.4219, 1.4212, 0.7318, 1.4147, 1.3806, 1.3754, 0.6811, 0.6383, 1.3354, 1.1662, 1.3446, 2.8633, 2.5077, 2.4951, 2.4948, 2.3646, 2.344, 2.3256, 2.3214, 2.3171, 2.3152, 2.3096, 2.2943, 2.2927, 2.2925, 2.2826, 2.2744, 2.2651, 2.2631, 2.2554, 2.2407, 2.2372, 2.2332, 2.2287, 2.2127, 2.2037, 2.1992, 2.1959, 2.192, 2.1908, 2.189, 2.1773, 2.1393, 2.1278, 2.0898, 2.1673, 2.0212, 2.0179, 2.0582, 1.9641, 1.5952, 1.9984, 1.8573, 0.2617, 0.7854, 0.9369, 0.1286, 1.4055, 0.0157, 1.8473, 1.7655, 2.5406, 2.4293, 2.4164, 2.393, 2.3812, 2.3462, 2.345, 2.3441, 2.3308, 2.3274, 2.3127, 2.3024, 2.2984, 2.285, 2.2597, 2.2522, 2.2519, 2.2464, 2.235, 2.2344, 2.225, 2.2248, 2.2229, 2.2157, 2.215, 2.2077, 2.1904, 2.1715, 2.171, 2.169, 2.1639, 2.1641, 2.1563, 2.1445, 2.1653, 2.141, 2.1002, 2.0542, 2.0799, 2.1434, 1.8026, 0.5506, 1.3677, 1.4898, 1.3046, 0.6256, 0.3142, 1.4226, 0.1915, 1.233, 0.4746, 0.484, 1.0881, 1.1495, 1.146, 1.284, 1.1025, 1.1876, 2.5629, 2.5522, 2.4918, 2.4447, 2.3906, 2.3835, 2.381, 2.3768, 2.3716, 2.3361, 2.2803, 2.2796, 2.2697, 2.2693, 2.2474, 2.2403, 2.2377, 2.2199, 2.2159, 2.2127, 2.1994, 2.1992, 2.1924, 2.1843, 2.1799, 2.1703, 2.1671, 2.1653, 2.1653, 2.1601, 2.1267, 2.0769, 2.0735, 2.0522, 2.0775, 2.1085, 2.0609, 2.0757, 1.8972, 1.7763, 2.0319, 1.9773, 1.9488, 1.6059, 1.0223, 0.6276, 0.4265, -0.0863, -0.1473, -0.1007, 2.6365, 2.6181, 2.533, 2.531, 2.5192, 2.5159, 2.5128, 2.4112, 2.3405, 2.3242, 2.3185, 2.2814, 2.2751, 2.2679, 2.2597, 2.2548, 2.2473, 2.2269, 2.2249, 2.2157, 2.2139, 2.2115, 2.209, 2.2011, 2.1995, 2.1899, 2.1833, 2.1805, 2.1798, 2.1743, 2.1581, 2.1671, 2.139, 2.1197, 2.0998, 2.1163, 2.0997, 2.128, 2.0496, 2.0579, 2.0928, 2.1066, 2.0585, 2.0802, 1.8106, 1.7454, 1.4527, 1.4696, 2.0008, 1.9627, 1.3154, 0.1132, 0.9315, 2.6186, 2.538, 2.5083, 2.4933, 2.4664, 2.4336, 2.4333, 2.4247, 2.4204, 2.4085, 2.3979, 2.3911, 2.3803, 2.3783, 2.3686, 2.3628, 2.3484, 2.3441, 2.317, 2.3145, 2.3102, 2.3089, 2.3058, 2.2952, 2.295, 2.2808, 2.2567, 2.2535, 2.2466, 2.2414, 2.2412, 2.2111, 2.1915, 2.2401, 2.2137, 2.1738, 2.2175, 2.1301, 2.1369, 2.1418, 2.0111, 1.8284, 1.5741, 1.3632, 1.3763, 0.1136, 1.9745, 2.0727, 1.5111, 1.411, 1.8793, 2.5608, 2.4479, 2.4261, 2.4057, 2.3893, 2.3327, 2.3305, 2.3255, 2.295, 2.2862, 2.2798, 2.274, 2.2395, 2.2382, 2.2356, 2.2339, 2.2306, 2.2301, 2.2268, 2.2145, 2.2109, 2.2072, 2.2046, 2.1871, 2.1852, 2.1802, 2.1725, 2.1638, 2.1622, 2.1602, 2.1512, 2.1162, 2.1173, 2.0787, 2.0898, 2.0497, 1.9254, 2.082, 1.7931, 1.9891, 2.0697, 1.967, 1.924, 1.141, 1.7948, 0.9442, 0.9621, 0.7978, 1.7008, -0.3821, 1.459, 2.6173, 2.5654, 2.5306, 2.4852, 2.4802, 2.4593, 2.4554, 2.4491, 2.4257, 2.412, 2.3895, 2.3894, 2.3813, 2.3771, 2.3765, 2.3689, 2.3599, 2.3452, 2.3432, 2.3325, 2.3313, 2.3302, 2.3248, 2.3131, 2.3068, 2.304, 2.3003, 2.2962, 2.2925, 2.2871, 2.2782, 2.2801, 2.263, 2.2316, 2.2224, 2.2657, 2.2383, 1.9582, 2.091, 1.9552, 1.1534, 1.1067, 1.093, 1.0538, 1.0638, 1.0529, 1.0279, 1.0203, 0.9926, 2.054, 1.2639, 1.6808, 1.1172, 1.1062, 1.0086, 1.0514, 1.6594, 2.7476, 2.7116, 2.5859, 2.5712, 2.5678, 2.5453, 2.4988, 2.4884, 2.391, 2.3839, 2.3838, 2.3778, 2.3775, 2.3383, 2.3257, 2.3242, 2.3184, 2.3118, 2.3088, 2.3071, 2.2791, 2.2788, 2.2719, 2.2701, 2.2684, 2.2636, 2.2517, 2.2495, 2.2456, 2.2426, 2.2235, 2.1978, 2.2076, 2.1696, 2.1203, 2.174, 2.1929, 2.1098, 1.7356, 1.8457, 1.9907, 1.6111, 1.5273, 1.6211, 0.0984, 1.947, 1.5021, 1.1946]}, \"token.table\": {\"Topic\": [5, 26, 15, 1, 5, 7, 9, 10, 14, 40, 2, 5, 6, 4, 8, 12, 13, 15, 8, 18, 18, 4, 22, 11, 40, 15, 40, 14, 22, 40, 35, 2, 3, 5, 9, 16, 24, 43, 12, 35, 2, 22, 23, 23, 23, 6, 7, 13, 22, 1, 4, 8, 11, 22, 1, 4, 8, 11, 22, 2, 3, 8, 13, 15, 16, 8, 13, 15, 16, 1, 4, 8, 11, 14, 22, 1, 4, 8, 11, 14, 22, 25, 1, 4, 8, 15, 16, 22, 1, 4, 8, 10, 11, 14, 16, 22, 8, 13, 15, 16, 8, 16, 16, 26, 16, 33, 11, 16, 16, 16, 16, 1, 4, 8, 11, 22, 29, 1, 8, 10, 14, 16, 24, 25, 1, 25, 25, 35, 18, 18, 18, 27, 27, 27, 27, 27, 1, 2, 3, 4, 5, 6, 7, 8, 9, 10, 11, 12, 13, 14, 15, 16, 17, 18, 19, 20, 21, 22, 23, 24, 26, 29, 31, 33, 35, 40, 42, 43, 1, 3, 8, 13, 16, 26, 33, 42, 3, 8, 9, 31, 20, 2, 5, 33, 1, 3, 4, 5, 8, 13, 16, 17, 21, 22, 26, 33, 42, 42, 1, 3, 20, 26, 10, 36, 5, 22, 42, 1, 42, 1, 3, 8, 10, 13, 16, 18, 21, 22, 26, 33, 42, 1, 3, 8, 13, 16, 17, 21, 26, 33, 42, 1, 3, 8, 13, 16, 17, 21, 22, 26, 33, 42, 42, 1, 13, 26, 42, 42, 13, 42, 6, 30, 2, 3, 8, 9, 31, 20, 1, 2, 11, 20, 20, 1, 3, 5, 6, 7, 9, 15, 18, 20, 21, 22, 27, 31, 1, 3, 18, 27, 31, 1, 3, 9, 18, 19, 21, 27, 31, 6, 18, 1, 18, 27, 31, 1, 2, 12, 18, 27, 31, 24, 31, 1, 3, 9, 18, 27, 31, 2, 3, 4, 5, 6, 11, 13, 14, 17, 18, 19, 21, 24, 27, 31, 32, 2, 5, 7, 13, 32, 5, 18, 32, 3, 31, 32, 5, 18, 32, 3, 31, 13, 2, 5, 13, 30, 1, 13, 5, 32, 5, 18, 32, 4, 5, 18, 32, 3, 31, 3, 31, 3, 7, 31, 3, 31, 38, 11, 11, 33, 33, 10, 23, 37, 5, 41, 4, 7, 2, 4, 7, 4, 2, 4, 4, 32, 1, 33, 6, 7, 11, 13, 15, 24, 30, 7, 15, 24, 30, 24, 30, 11, 36, 9, 15, 3, 8, 19, 25, 28, 29, 3, 8, 9, 19, 25, 28, 8, 3, 8, 9, 16, 19, 25, 28, 8, 8, 29, 8, 8, 12, 29, 1, 2, 3, 5, 7, 10, 11, 14, 15, 16, 17, 20, 21, 27, 30, 14, 30, 1, 2, 3, 11, 12, 44, 13, 4, 8, 14, 20, 3, 4, 14, 20, 5, 18, 20, 20, 20, 1, 20, 8, 20, 20, 20, 3, 28, 28, 28, 28, 2, 13, 28, 18, 3, 4, 5, 7, 9, 11, 13, 14, 15, 16, 18, 19, 24, 29, 12, 19, 42, 19, 30, 26, 9, 15, 26, 26, 4, 9, 12, 26, 16, 26, 21, 24, 28, 17, 17, 1, 17, 17, 17, 1, 2, 3, 6, 7, 9, 10, 11, 16, 25, 27, 28, 1, 35, 15, 25, 25, 35, 7, 25, 13, 25, 8, 9, 25, 35, 2, 25, 7, 25, 1, 7, 13, 19, 20, 24, 26, 1, 2, 3, 4, 5, 6, 7, 8, 9, 10, 12, 13, 14, 15, 17, 19, 23, 26, 28, 30, 36, 40, 3, 10, 36, 2, 5, 7, 9, 10, 16, 26, 10, 10, 35, 40, 36, 24, 31, 26, 10, 20, 2, 36, 7, 20, 17, 30, 3, 10, 27, 36, 13, 36, 34, 6, 30, 3, 10, 36, 3, 10, 23, 36, 24, 6, 21, 36, 36, 7, 20, 3, 10, 26, 36, 16, 36, 2, 5, 7, 10, 15, 26, 2, 36, 2, 3, 5, 7, 9, 12, 15, 17, 18, 20, 22, 23, 24, 30, 32, 40, 11, 12, 2, 10, 18, 1, 2, 3, 4, 9, 14, 19, 24, 27, 1, 16, 18, 36, 18, 24, 24, 1, 3, 4, 5, 6, 7, 8, 11, 12, 14, 16, 17, 25, 31, 32, 12, 25, 22, 14, 9, 17, 14, 6, 11, 32, 4, 32, 2, 25, 2, 24, 12, 24, 1, 24, 35, 24, 3, 24, 24, 24, 1, 2, 19, 42, 2, 19, 42, 42, 42, 42, 1, 3, 20, 36, 8, 41, 9, 25, 5, 38, 3, 13, 15, 39, 6, 26, 35, 12, 35, 18, 23, 1, 2, 4, 5, 8, 9, 10, 12, 14, 26, 1, 2, 4, 5, 8, 9, 10, 12, 14, 18, 26, 32, 4, 16, 22, 7, 20, 1, 4, 5, 6, 7, 9, 19, 23, 26, 27, 1, 3, 4, 5, 6, 7, 9, 22, 23, 26, 32, 4, 25, 7, 8, 20, 1, 4, 5, 6, 7, 9, 14, 23, 26, 1, 4, 5, 6, 7, 9, 23, 26, 1, 4, 5, 6, 7, 9, 15, 22, 23, 26, 32, 1, 2, 2, 15, 7, 24, 30, 33, 7, 30, 2, 11, 35, 1, 2, 3, 4, 5, 7, 8, 9, 12, 19, 32, 1, 2, 4, 5, 7, 8, 9, 12, 18, 32, 1, 2, 4, 5, 7, 8, 9, 10, 12, 16, 17, 18, 26, 32, 26, 7, 1, 2, 4, 5, 7, 8, 9, 11, 12, 32, 1, 2, 4, 5, 7, 8, 9, 12, 30, 32, 1, 2, 4, 5, 7, 8, 9, 10, 12, 16, 17, 18, 26, 32, 12, 35, 25, 1, 2, 12, 15, 18, 20, 2, 6, 12, 15, 18, 2, 12, 15, 18, 2, 3, 12, 15, 18, 28, 2, 12, 15, 18, 10, 1, 12, 20, 4, 41, 17, 30, 30, 23, 2, 23, 31, 26, 14, 14, 17, 2, 33, 1, 27, 30, 1, 5, 27, 30, 1, 2, 3, 4, 8, 11, 13, 15, 16, 17, 23, 24, 30, 33, 38, 41, 1, 27, 30, 1, 27, 30, 1, 15, 27, 30, 24, 1, 2, 3, 4, 6, 8, 11, 15, 16, 17, 24, 30, 33, 33, 1, 27, 30, 1, 20, 27, 30, 33, 1, 27, 30, 1, 27, 30, 1, 27, 30, 2, 43, 1, 13, 23, 6, 6, 14, 30, 19, 19, 4, 4, 4, 4, 4, 7, 28, 11, 1, 5, 13, 23, 32, 6, 12, 28, 3, 6, 9, 10, 11, 12, 13, 14, 23, 27, 28, 6, 9, 10, 11, 12, 13, 14, 23, 27, 28, 1, 4, 6, 9, 11, 12, 13, 14, 17, 23, 24, 27, 28, 8, 29, 1, 4, 8, 12, 13, 24, 1, 2, 3, 4, 5, 6, 7, 8, 9, 10, 11, 13, 14, 15, 16, 17, 18, 21, 22, 25, 29, 31, 32, 34, 38, 39, 40, 2, 3, 4, 10, 15, 20, 2, 4, 10, 13, 41, 1, 2, 9, 14, 22, 37, 2, 9, 14, 22, 39, 4, 1, 3, 4, 10, 14, 15, 17, 21, 22, 1, 3, 4, 10, 15, 17, 21, 22, 38, 2, 9, 14, 22, 37, 1, 2, 5, 7, 10, 13, 14, 16, 1, 5, 7, 10, 11, 13, 1, 5, 10, 11, 13, 16, 5, 10, 11, 16, 2, 4, 8, 9, 10, 4, 8, 10, 2, 9, 14, 22, 2, 9, 14, 22, 4, 9, 11, 18, 20, 29, 4, 9, 11, 13, 18, 29, 9, 18, 13, 18, 25, 11, 22, 11, 17, 2, 3, 4, 10, 13, 14, 29, 2, 4, 5, 13, 29, 4, 18, 4, 18, 13, 25, 1, 2, 3, 4, 5, 6, 7, 8, 9, 10, 11, 13, 14, 15, 16, 17, 18, 21, 22, 25, 29, 31, 38, 39, 40, 29, 39, 39, 1, 4, 10, 14, 15, 17, 1, 4, 10, 15, 17, 5, 10, 11, 16, 5, 10, 11, 16, 2, 4, 8, 10, 4, 7, 10, 4, 9, 11, 18, 29, 4, 9, 11, 18, 29, 29, 5, 11, 2, 9, 11, 2, 4, 10, 12, 14, 29, 2, 4, 13, 14, 29, 2, 11, 10, 14, 2, 9, 11, 14, 22, 2, 9, 14, 22, 37, 1, 2, 9, 14, 22, 2, 3, 6, 9, 14, 22, 9, 21, 7, 29, 11, 15, 16, 25, 10, 10, 28, 5, 11, 31, 4, 17, 3, 36, 11, 33, 3, 7, 6, 13, 9, 15, 21, 22, 25, 27, 30, 27, 1, 2, 26, 33, 26, 18, 9, 7, 9, 17, 5, 7, 9, 9, 15, 25, 29, 3, 5, 5, 5, 9, 5, 6, 9, 3, 5, 9, 18, 5, 5, 9, 3, 5, 9, 12, 5, 7, 9, 5, 9, 1, 3, 13, 41, 13, 28, 18, 28, 11, 23, 7, 22, 23, 11, 23, 22, 3, 23, 23, 23, 23, 23, 22, 5, 6, 22, 34, 22, 22, 19, 2, 19, 6, 22, 16, 16, 8, 16, 16, 16, 16, 3, 16, 16, 33, 6, 16, 16, 1, 16, 1, 4, 8, 11, 14, 25, 1, 4, 8, 11, 14, 22, 25, 29, 1, 4, 16, 24, 8, 14, 8, 8, 14, 25, 26, 26, 30, 1, 25, 10, 3, 2, 33, 42, 25, 2, 6, 7, 8, 9, 18, 20, 26, 6, 9, 18, 26, 6, 8, 18, 26, 1, 6, 12, 18, 26, 6, 8, 12, 15, 18, 26, 6, 9, 18, 20, 26, 6, 18, 26, 6, 8, 9, 18, 26, 6, 8, 9, 18, 26, 26, 20, 26, 3, 6, 7, 12, 18, 26, 18, 4, 18, 27, 27, 27, 27, 30, 2, 16, 34, 35, 35, 1, 2, 35, 6, 11, 12, 17, 1, 3, 8, 10, 13, 16, 21, 22, 26, 33, 42, 1, 3, 8, 13, 16, 17, 21, 26, 33, 42, 1, 3, 8, 13, 16, 17, 21, 22, 26, 33, 42, 7, 9, 42, 42, 42, 33, 1, 13, 26, 33, 1, 4, 13, 16, 26, 33, 1, 9, 11, 13, 26, 33, 33, 3, 21, 42, 3, 8, 17, 21, 42, 42, 42, 42, 42, 10, 37, 37, 37, 37, 37, 37, 10, 29, 1, 10, 40, 6, 7, 1, 2, 3, 13, 15, 18, 6, 6, 17, 1, 31, 12, 20, 3, 15, 20, 11, 13, 20, 20, 23, 1, 8, 23, 40, 8, 40, 6, 22, 18, 16, 9, 36, 41, 5, 20, 3, 5, 6, 7, 15, 20, 21, 23, 7, 20, 4, 20, 1, 2, 15, 23, 26, 34, 1, 2, 15, 23, 26, 34, 10, 2, 10, 10, 10, 1, 3, 13, 18, 27, 31, 1, 3, 7, 9, 18, 22, 27, 31, 22, 13, 31, 1, 3, 9, 18, 19, 21, 24, 27, 28, 31, 22, 31, 36, 18, 4, 6, 34, 36, 9, 24, 34, 36, 34, 36, 34, 34, 13, 29, 34, 36, 11, 34, 36, 34, 36, 34, 17, 24, 18, 3, 5, 7, 13, 18, 19, 27, 31, 32, 3, 18, 32, 1, 3, 4, 5, 7, 10, 11, 13, 15, 16, 18, 29, 1, 3, 4, 5, 7, 9, 11, 12, 14, 17, 18, 20, 22, 27, 28, 33, 39, 41, 27, 1, 2, 15, 23, 26, 30, 34, 1, 2, 15, 23, 26, 30, 34, 3, 3, 35, 7, 11, 20, 4, 9, 4, 11, 13, 18, 1, 2, 3, 15, 22, 23, 26, 34, 3, 4, 5, 6, 11, 13, 14, 18, 19, 29, 33, 1, 3, 4, 5, 7, 8, 10, 18, 26, 31, 32, 33, 3, 1, 4, 5, 6, 7, 9, 23, 26, 1, 4, 5, 6, 7, 9, 19, 23, 26, 32, 1, 2, 4, 5, 6, 7, 9, 15, 19, 22, 23, 26, 27, 32, 4, 13, 29, 3, 33, 1, 3, 4, 5, 7, 10, 11, 13, 14, 15, 17, 18, 29, 31, 1, 2, 3, 4, 5, 7, 9, 12, 14, 18, 19, 20, 22, 27, 28, 33, 14, 22, 33, 12, 34, 5, 7, 20, 9, 20, 11, 31, 3, 4, 5, 6, 11, 13, 14, 19, 41, 6, 38, 1, 4, 5, 6, 7, 9, 14, 23, 26, 27, 1, 3, 4, 5, 6, 7, 9, 23, 26, 32, 1, 4, 5, 6, 7, 9, 15, 22, 23, 26, 4, 29, 34, 3, 31, 3, 8, 31, 1, 3, 9, 31, 3, 31, 29, 2, 6, 7, 10, 11, 12, 23, 26, 8, 1, 6, 8, 6, 9, 18, 26, 6, 8, 18, 22, 26, 13, 1, 7, 11, 12, 13, 7, 12, 1, 2, 3, 4, 7, 10, 13, 19, 23, 2, 13, 23, 5, 12, 28, 32, 12, 27, 1, 2, 3, 4, 5, 6, 7, 8, 9, 10, 12, 14, 18, 19, 23, 24, 26, 32, 1, 2, 3, 4, 5, 6, 7, 8, 9, 10, 11, 12, 14, 16, 18, 19, 23, 24, 26, 32, 1, 2, 3, 5, 6, 9, 11, 12, 13, 14, 16, 20, 23, 26, 27, 28, 1, 2, 3, 5, 6, 9, 11, 12, 13, 14, 16, 20, 23, 26, 27, 28, 26, 26, 7, 7, 1, 2, 3, 4, 5, 6, 7, 8, 9, 10, 11, 12, 14, 16, 18, 19, 23, 24, 26, 32, 1, 2, 3, 5, 6, 8, 9, 11, 12, 13, 14, 16, 20, 22, 23, 24, 26, 27, 28, 1, 8, 12, 19, 1, 8, 12, 5, 9, 12, 5, 6, 8, 18, 26, 6, 9, 18, 26, 7, 12, 7, 9, 12, 1, 2, 3, 4, 5, 6, 7, 8, 9, 10, 12, 14, 18, 19, 23, 24, 26, 32, 1, 2, 3, 4, 5, 6, 7, 8, 9, 10, 12, 14, 18, 19, 23, 24, 26, 32, 12, 26, 7, 5, 7, 1, 2, 3, 4, 5, 6, 7, 8, 9, 10, 12, 14, 16, 18, 19, 23, 24, 26, 27, 32, 2, 6, 25, 1, 8, 12, 1, 8, 12, 5, 9, 1, 3, 6, 9, 11, 12, 13, 14, 23, 27, 28, 6, 9, 11, 12, 13, 14, 23, 26, 27, 28, 30, 6, 9, 11, 12, 13, 14, 16, 23, 24, 27, 28, 36, 42, 2, 6, 8, 9, 10, 12, 16, 20, 21, 22, 23, 29, 2, 3, 6, 16, 20, 21, 22, 23, 24, 2, 3, 6, 8, 14, 16, 20, 21, 22, 23, 2, 6, 8, 9, 16, 20, 21, 22, 23, 29, 2, 6, 16, 20, 21, 22, 23, 29, 2, 6, 7, 9, 16, 20, 21, 22, 23, 29, 9, 10, 22, 23, 6, 21, 21, 6, 8, 12, 13, 32, 6, 8, 12, 13, 17, 32, 21, 25, 6, 8, 12, 13, 32, 6, 8, 12, 13, 17, 32, 6, 8, 12, 13, 32, 21, 34, 21, 21, 5, 21, 21, 34, 2, 5, 8, 2, 9, 2, 4, 5, 6, 12, 19, 2, 4, 5, 6, 12, 19, 2, 3, 4, 5, 6, 12, 19, 2, 4, 5, 6, 12, 19, 2, 4, 5, 6, 12, 19, 33, 4, 20, 35, 3, 5, 7, 13, 17, 18, 38, 3, 5, 6, 7, 8, 10, 11, 13, 16, 17, 25, 28, 30, 34, 1, 2, 3, 4, 5, 7, 9, 10, 11, 12, 17, 29, 31, 1, 2, 3, 4, 5, 8, 11, 14, 15, 16, 17, 21, 25, 28, 2, 3, 9, 35, 40, 16, 2, 9, 15, 28, 9, 15, 2, 3, 4, 5, 6, 7, 10, 11, 13, 15, 19, 20, 28, 31, 13, 26, 15, 2, 25, 29, 28, 28, 16, 24, 33, 2, 4, 33, 26, 33, 10, 33, 2, 6, 39, 6, 7, 9, 25, 4, 24, 41, 29, 41, 3, 4, 12, 13, 24, 29, 41, 3, 4, 12, 13, 15, 24, 29, 41, 2, 9, 14, 16, 22, 37, 39, 2, 9, 14, 22, 23, 1, 2, 3, 4, 6, 7, 8, 9, 11, 12, 13, 14, 17, 18, 22, 28, 32, 37, 39, 6, 8, 2, 8, 9, 11, 12, 14, 16, 22, 37, 2, 9, 12, 14, 16, 22, 37, 9, 2, 3, 5, 6, 8, 9, 16, 20, 21, 22, 23, 29, 2, 6, 16, 20, 21, 22, 23, 6, 8, 10, 12, 13, 32, 6, 8, 12, 13, 32, 2, 3, 6, 8, 9, 15, 16, 20, 21, 22, 23, 29, 6, 8, 12, 13, 17, 32, 6, 8, 11, 12, 13, 17, 32, 24, 11, 34, 11, 1, 39, 14, 39, 34, 10, 15, 12, 30, 34, 13, 13, 13, 13, 25, 25, 23, 37, 3, 8, 2, 2, 4, 10, 2, 4, 4, 4, 6, 18, 4, 20, 4, 2, 4, 6, 10, 25, 4, 4, 4, 2, 4, 4, 4, 17, 8, 27, 22, 22, 30, 9, 34, 27, 27, 15, 19, 19, 19, 19, 19, 5, 19, 19, 19, 15, 19, 4, 19, 19, 9, 19, 11, 30, 6, 30, 6, 2, 11, 35, 23, 43, 42, 10, 5, 33, 5, 5, 9, 5, 9, 5, 9, 5, 9, 5, 9, 5, 9, 13, 5, 9, 5, 9, 2, 5, 9, 13, 13, 18, 28, 5, 28, 5, 8, 28, 28, 25, 32, 6, 41, 41, 41, 24, 12, 26, 1, 2, 26, 26, 23, 26, 32, 5, 34, 36, 3, 34, 36, 34, 36, 15, 7, 20, 1, 4, 5, 6, 7, 9, 23, 26, 32, 1, 4, 5, 6, 7, 9, 15, 22, 23, 26, 34, 36, 34, 36, 34, 36, 5, 7, 34, 15, 1, 7, 20, 1, 4, 5, 6, 7, 9, 23, 26, 1, 4, 5, 6, 7, 9, 19, 23, 26, 1, 2, 3, 4, 5, 6, 7, 9, 12, 22, 23, 26, 3, 33, 9, 2, 9, 14, 22, 37, 2, 9, 14, 22, 37, 1, 2, 3, 4, 6, 7, 8, 9, 11, 12, 13, 14, 16, 17, 18, 22, 28, 32, 37, 39, 2, 9, 12, 14, 16, 22, 37, 39, 2, 6, 9, 12, 14, 17, 22, 37, 39, 9, 9, 12, 6, 8, 12, 13, 19, 32, 6, 8, 12, 13, 17, 32, 6, 8, 11, 12, 13, 17, 32, 2, 9, 14, 22, 37, 2, 4, 9, 14, 22, 37, 1, 2, 3, 4, 5, 6, 7, 8, 9, 11, 12, 13, 14, 17, 18, 21, 22, 28, 32, 37, 39, 2, 3, 9, 12, 14, 21, 22, 37, 2, 3, 9, 12, 14, 22, 37, 9, 6, 8, 12, 13, 32, 14, 6, 8, 12, 13, 17, 32, 6, 7, 8, 12, 13, 17, 32, 27, 4, 27, 1, 8, 11, 35, 31, 27, 1, 16, 2, 14, 38, 1, 2, 29, 10, 12, 18, 38, 1, 2, 6, 8, 10, 13, 21, 4, 3, 11, 12, 5, 11, 3, 5, 11, 3, 11, 11, 5, 11, 11, 11, 11, 7, 11, 4, 8, 8, 8, 29, 23, 23, 41, 23, 5, 11, 23, 41, 5, 23, 23, 23, 23, 41, 1, 4, 20, 37, 11, 20, 37, 9, 20, 37, 17, 19, 22, 5, 22, 22, 22, 22, 8, 9, 13, 20, 1, 2, 3, 15, 17, 19, 21, 34, 44, 1, 3, 6, 7, 15, 17, 19, 21, 34, 44, 44, 7, 13, 44, 1, 19, 1, 19, 44, 1, 3, 15, 17, 19, 20, 21, 25, 34, 44, 1, 3, 15, 17, 19, 21, 25, 34, 44, 1, 3, 6, 15, 17, 19, 21, 34, 44, 3, 25, 21, 34, 2, 21, 1, 3, 6, 15, 17, 19, 21, 25, 34, 1, 3, 5, 6, 10, 15, 17, 19, 21, 34, 1, 19, 1, 19, 1, 3, 6, 15, 17, 19, 21, 34, 1, 3, 5, 6, 13, 15, 17, 19, 21, 34, 1, 3, 15, 17, 19, 21, 34, 21, 21, 34, 21, 34, 7, 7, 7, 12, 3, 6, 7, 25, 7, 7, 17, 17, 1, 3, 6, 7, 10, 17, 3, 31, 4, 6, 35, 6, 35, 35, 1, 2, 4, 5, 7, 8, 9, 12, 16, 17, 26, 32, 30, 12, 19, 31, 31, 6, 26, 29, 9, 10, 42, 29, 33, 43, 8, 10, 43, 2, 3, 12, 2, 3, 4, 12, 43, 2, 3, 4, 2, 12, 30, 29, 1, 2, 4, 5, 7, 8, 12, 18, 12, 25, 1, 2, 8, 11, 22, 40, 1, 8, 40, 1, 8, 40, 1, 8, 40, 1, 8, 40, 1, 8, 40, 40, 2, 7, 8, 10, 12, 16, 30, 30, 29, 13, 15, 30, 1, 13, 5, 7, 10, 13, 14, 40, 5, 7, 10, 11, 13, 32, 1, 2, 8, 21, 1, 2, 4, 6, 7, 8, 13, 19, 21, 23, 2, 13, 23, 1, 2, 6, 13, 23, 1, 2, 6, 13, 23, 9, 13, 1, 2, 4, 7, 13, 19, 23, 1, 2, 13, 23, 1, 2, 6, 13, 23, 1, 2, 6, 13, 23, 22, 36, 1, 32, 41, 41, 41, 1, 7, 41, 41, 41, 1, 41, 2, 6, 10, 12, 14, 15, 18, 20, 2, 19, 40, 2, 38, 4, 11, 9, 38, 1, 2, 6, 8, 13, 21, 1, 2, 8, 21, 1, 2, 6, 8, 12, 13, 21, 15, 2, 10, 16, 36, 34, 34, 7, 34, 11, 14, 17, 38, 17, 11, 2, 30, 13, 15, 21, 14, 14, 14, 7, 17, 17, 21, 7, 1, 2, 15, 23, 26, 34, 1, 2, 15, 23, 26, 30, 34, 1, 2, 15, 23, 26, 34, 1, 2, 15, 23, 26, 34, 1, 2, 15, 23, 26, 34, 1, 2, 7, 15, 23, 26, 34, 7, 36, 2, 3, 5, 6, 7, 8, 10, 13, 16, 17, 25, 28, 30, 34, 13, 28, 28, 28, 29, 2, 3, 5, 6, 7, 8, 10, 13, 16, 25, 28, 30, 34, 13, 33, 7, 28, 1, 10, 10, 20, 20, 20, 22, 20, 20, 24, 22, 31, 27, 28, 28, 28, 44, 1, 3, 4, 6, 9, 36, 1, 3, 5, 3, 3, 5, 6, 3, 12, 3, 3, 27, 14, 27, 5, 10, 11, 16, 18, 22, 1, 5, 10, 11, 11, 5, 10, 11, 16, 4, 5, 10, 11, 16, 22, 11, 11, 3, 24, 1, 5, 20, 35, 4, 12, 30, 34, 30, 30, 30, 30, 19, 30, 4, 37, 37, 17, 37, 37, 37, 37, 34, 34, 5, 8, 9, 5, 32, 23, 23, 2, 23, 23, 7, 23, 5, 41, 1, 36, 4, 42, 4, 15, 2, 2, 2, 22, 3, 3, 5, 3, 4, 5, 3, 5, 3, 5, 18, 3, 5, 3, 3, 3, 3, 3, 1, 34, 36, 34, 36, 37, 34, 34, 37, 34, 15, 6, 15, 6, 15, 6, 15, 35, 6, 15, 6, 12, 15, 6, 15, 5, 6, 15, 5, 6, 15, 10, 17, 18, 1, 3, 6, 10, 14, 15, 17, 19, 21, 34, 1, 3, 6, 10, 15, 17, 19, 21, 25, 34, 1, 5, 19, 1, 11, 19, 19, 23, 1, 2, 3, 4, 5, 6, 8, 10, 12, 15, 16, 17, 19, 21, 23, 24, 25, 34, 35, 44, 1, 2, 3, 4, 5, 6, 8, 10, 12, 15, 16, 17, 19, 21, 23, 25, 34, 35, 44, 1, 2, 3, 5, 6, 10, 12, 15, 16, 17, 19, 21, 23, 25, 31, 34, 35, 44, 2, 5, 6, 12, 2, 6, 12, 31, 21, 34, 21, 2, 6, 12, 35, 2, 6, 12, 35, 1, 3, 4, 5, 7, 10, 11, 13, 15, 16, 18, 24, 29, 1, 3, 4, 5, 7, 9, 11, 12, 13, 14, 18, 20, 21, 22, 27, 28, 33, 6, 19, 1, 2, 15, 23, 34, 3, 40, 4, 7, 20, 5, 7, 9, 27, 1, 2, 24, 1, 2, 3, 4, 8, 11, 13, 15, 16, 17, 19, 23, 24, 30, 33, 34, 1, 3, 4, 5, 6, 11, 13, 14, 19, 33, 3, 1, 4, 5, 6, 7, 9, 19, 23, 26, 4, 5, 19, 1, 4, 5, 6, 7, 9, 15, 22, 23, 26, 4, 14, 29, 1, 4, 5, 19, 24, 3, 4, 8, 18, 3, 4, 6, 18, 3, 18, 4, 9, 18, 1, 5, 27, 30, 1, 5, 10, 27, 30, 1, 4, 5, 27, 30, 1, 5, 6, 27, 30, 1, 3, 5, 8, 9, 27, 30, 1, 16, 27, 30, 27, 30, 27, 30, 27, 30, 22, 5, 8, 22, 22, 1, 22, 22, 9, 30, 16, 40, 3, 9, 33, 6, 15, 33, 2, 13, 28, 26, 28, 2, 13, 28, 2, 28, 3, 28, 28, 28, 28, 42, 42, 4, 7, 13, 19, 20, 30, 20, 30, 7, 16, 33, 16, 16, 37, 31, 9, 37, 8, 9, 37, 8, 9, 37, 3, 37, 37, 37, 32, 37, 37, 37, 11, 3, 6, 13, 15, 37, 5, 9, 3, 4, 5, 6, 8, 13, 15, 16, 37, 43, 1, 3, 4, 5, 6, 8, 15, 16, 37, 43, 3, 4, 5, 6, 8, 13, 15, 16, 21, 37, 43, 3, 5, 8, 15, 37, 7, 3, 16, 3, 5, 4, 15, 37, 6, 15, 37, 8, 13, 3, 8, 3, 5, 8, 3, 5, 3, 5, 20, 25, 3, 5, 3, 2, 4, 37, 3, 15, 6, 15, 1, 6, 13, 15, 5, 6, 15, 7, 15, 15, 15, 6, 15, 6, 8, 33, 1, 3, 10, 15, 17, 19, 21, 34, 1, 3, 6, 10, 15, 17, 19, 21, 34, 8, 2, 10, 16, 41, 1, 19, 1, 19, 2, 6, 12, 23, 1, 2, 3, 4, 5, 6, 8, 9, 10, 12, 13, 14, 15, 16, 17, 19, 21, 23, 25, 34, 35, 44, 1, 2, 3, 5, 6, 10, 12, 15, 16, 17, 19, 21, 23, 25, 34, 35, 44, 1, 2, 3, 5, 6, 8, 10, 12, 15, 16, 17, 19, 21, 23, 25, 34, 35, 44, 8, 14, 2, 5, 6, 12, 7, 9, 21, 3, 11, 21, 23, 2, 4, 6, 10, 12, 13, 35, 2, 6, 12, 35, 35, 15, 1, 3, 6, 10, 15, 17, 19, 21, 25, 34, 1, 3, 5, 10, 15, 17, 19, 21, 34, 1, 19, 1, 5, 10, 19, 1, 2, 3, 4, 5, 6, 7, 8, 10, 12, 15, 16, 17, 19, 21, 23, 24, 25, 34, 35, 44, 1, 2, 3, 4, 5, 6, 10, 12, 15, 16, 17, 19, 21, 23, 25, 34, 35, 44, 1, 2, 3, 5, 6, 8, 10, 12, 15, 16, 17, 19, 21, 23, 25, 34, 35, 41, 44, 21, 34, 21, 2, 4, 6, 12, 35, 2, 6, 12, 35, 4, 5, 10, 11, 19, 24, 4, 5, 19, 24, 4, 5, 19, 4, 5, 19, 4, 5, 6, 19, 4, 5, 19, 1, 3, 4, 5, 19, 19, 19, 19, 19, 19, 19, 10, 6, 10, 6, 35, 28, 38, 13, 27, 39, 8, 38, 19, 26, 40, 20, 19, 19, 32, 17, 15, 37, 13, 13, 13, 13, 13, 13, 22, 18, 1, 17, 1, 5, 37, 11, 6, 25, 6, 30, 2, 16, 2, 12, 24, 28, 1, 24, 6, 6, 6, 11, 24, 4, 15, 26, 15, 26, 26, 15, 26, 29, 11, 15, 41, 6, 11, 17, 17, 6, 17, 17, 11, 17, 17, 3, 5, 7, 11, 12, 7, 9, 12, 15, 7, 12, 7, 12, 1, 7, 1, 5, 7, 12, 7, 12, 3, 7, 12, 7, 12, 7, 7, 10, 12, 26, 43, 16, 16, 11, 16, 17, 38, 16, 2, 3, 5, 8, 11, 12, 16, 20, 26, 27, 28, 12, 25, 1, 35, 1, 43, 1, 2, 8, 8, 6, 9, 12, 18, 26, 6, 8, 9, 18, 26, 7, 12, 18, 7, 12, 16, 6, 17, 32, 22, 1, 2, 3, 4, 5, 6, 7, 8, 9, 10, 12, 14, 18, 19, 23, 24, 26, 32, 1, 2, 3, 4, 5, 6, 7, 8, 9, 10, 11, 12, 13, 14, 16, 18, 19, 23, 24, 26, 32, 26, 7, 1, 2, 3, 4, 5, 6, 7, 8, 9, 10, 12, 14, 16, 17, 18, 19, 22, 23, 24, 25, 26, 27, 32, 1, 8, 12, 1, 8, 12, 5, 9, 1, 2, 4, 5, 8, 9, 10, 12, 14, 18, 26, 32, 1, 2, 4, 5, 8, 9, 10, 12, 14, 17, 18, 19, 24, 26, 32, 1, 2, 4, 5, 6, 7, 9, 23, 26, 1, 4, 5, 6, 7, 9, 15, 19, 22, 23, 26, 27, 2, 10, 18, 44, 1, 2, 3, 4, 5, 7, 8, 9, 12, 32, 37, 1, 2, 4, 5, 7, 8, 9, 10, 12, 16, 17, 24, 26, 32, 12, 8, 2, 12, 14, 7, 14, 14, 15, 13, 25, 25, 15, 25, 6, 7, 25, 21, 25, 25, 2, 4, 10, 29, 13, 23, 3, 6, 9, 11, 12, 13, 14, 23, 26, 27, 28, 3, 6, 9, 11, 12, 13, 14, 23, 26, 27, 28, 30, 2, 3, 4, 10, 14, 29, 2, 4, 14, 29, 1, 3, 6, 7, 9, 10, 11, 12, 13, 14, 17, 23, 24, 27, 28, 5, 12, 28, 29, 1, 3, 6, 9, 11, 12, 13, 14, 23, 26, 27, 28, 3, 6, 9, 11, 12, 13, 14, 20, 23, 27, 28, 1, 3, 4, 6, 9, 11, 12, 13, 14, 17, 23, 24, 26, 27, 28, 2, 3, 4, 10, 14, 29, 14, 29, 29, 2, 3, 10, 13, 14, 29, 2, 29, 15, 17, 17, 19, 1, 42, 17, 2, 4, 29, 8, 10, 40, 1, 8, 40, 41, 17, 19, 20, 24, 7, 19, 20, 24, 3, 10, 36, 3, 10, 15, 23, 36, 18, 19, 24, 2, 3, 4, 5, 10, 12, 36, 36, 24, 10, 36, 20, 20, 7, 20, 24, 10, 19, 24, 1, 3, 4, 5, 7, 9, 12, 13, 14, 18, 19, 20, 22, 27, 28, 33, 4, 5, 7, 9, 27, 5, 7, 9, 27, 40, 1, 3, 4, 5, 7, 9, 11, 12, 13, 14, 18, 19, 20, 22, 27, 28, 33, 2, 5, 7, 9, 27, 2, 8, 9, 19, 8, 17, 19, 22, 1, 7, 8, 12, 29, 1, 8, 12, 14, 1, 8, 12, 19, 1, 6, 8, 12, 13, 14, 19, 1, 8, 12, 3, 41, 8, 19, 8, 1, 8, 12, 19, 1, 8, 12, 1, 8, 12, 1, 8, 12, 14, 19, 1, 8, 12, 8, 20, 40, 2, 8, 20, 34, 40, 8, 40, 26, 32, 32, 19, 23, 2, 3, 6, 16, 20, 21, 22, 23, 2, 3, 6, 12, 16, 20, 21, 22, 23, 29, 2, 3, 6, 8, 9, 16, 20, 21, 22, 23, 24, 29, 43, 2, 3, 5, 6, 9, 12, 16, 20, 21, 22, 23, 29, 2, 6, 9, 10, 12, 16, 20, 21, 22, 23, 1, 2, 3, 6, 9, 10, 14, 16, 20, 21, 22, 23, 24, 29, 19, 19, 4, 4, 6, 41, 19, 11, 25, 6, 8, 12, 13, 17, 32, 6, 8, 12, 13, 17, 32, 6, 8, 11, 12, 13, 17, 32, 6, 8, 12, 13, 17, 32, 6, 8, 11, 12, 13, 17, 32, 4, 6, 8, 12, 13, 15, 17, 32, 6, 8, 12, 13, 17, 32, 6, 8, 12, 13, 17, 32, 1, 11, 21, 34, 21, 21, 34, 21, 25, 34, 7, 21, 34, 21, 5, 12, 21, 21, 34, 9, 21, 4, 6, 21, 34, 21, 21, 34, 21, 34, 21, 34, 1, 35, 4, 8, 11, 43, 23, 2, 2, 19, 33, 2, 1, 2, 4, 5, 6, 9, 11, 12, 16, 19, 24, 35, 2, 4, 5, 6, 12, 19, 24, 35, 2, 4, 5, 6, 7, 12, 19, 24, 35, 1, 2, 4, 5, 6, 11, 12, 16, 19, 24, 35, 1, 2, 4, 5, 6, 11, 12, 19, 24, 35, 2, 4, 24, 35, 2, 6, 12, 35, 2, 4, 6, 12, 35, 2, 3, 6, 12, 35, 2, 6, 12, 29, 2, 4, 5, 6, 12, 35, 2, 6, 12, 35, 35, 4, 5, 19, 24, 2, 4, 5, 7, 19, 25, 26, 4, 5, 19, 4, 5, 19, 4, 5, 19, 24, 15, 25, 1, 36, 4, 13, 16, 25, 37, 11, 29, 10, 17, 4, 33, 33, 41, 8, 18, 41, 7, 41, 36, 2, 7, 9, 16, 20, 33, 6, 30, 4, 6, 10, 16, 31, 2, 3, 10, 2, 10, 2, 4, 10, 6, 10, 2, 9, 4, 10, 16, 31, 2, 4, 10, 10, 18, 27, 1, 9, 16, 2, 15, 34, 1, 34, 1, 3, 4, 5, 7, 9, 10, 11, 13, 15, 18, 29, 29, 4, 11, 29, 1, 3, 4, 5, 7, 10, 11, 13, 14, 15, 16, 18, 29, 4, 13, 29, 1, 20, 36, 41, 1, 4, 5, 9, 10, 12, 1, 4, 5, 9, 10, 12, 12, 26, 27, 16, 16, 16, 16, 2, 3, 4, 5, 7, 9, 10, 11, 17, 29, 31, 17, 2, 3, 4, 5, 6, 9, 10, 11, 17, 21, 25, 29, 31, 10, 17, 4, 9, 12, 13, 41, 2, 9, 14, 22, 37, 2, 5, 9, 14, 22, 39, 2, 9, 14, 20, 22, 28, 37, 2, 3, 9, 14, 22, 37, 39, 2, 3, 9, 14, 22, 37, 39, 9, 3, 14, 2, 9, 14, 22, 37, 2, 9, 14, 22, 2, 3, 9, 14, 22, 28, 37, 2, 9, 14, 22, 37, 39, 2, 3, 9, 14, 22, 37, 1, 9, 14, 11, 31, 3, 11, 33, 3, 11, 11, 3, 11, 11, 3, 11, 11, 29, 1, 1, 1, 1, 5, 1, 11, 20, 1, 6, 20, 1, 3, 15, 1, 1, 10, 2, 6, 30, 2, 6, 14, 2, 6, 2, 3, 6, 1, 3, 4, 9, 14, 19, 24, 19, 1, 3, 39, 2, 10, 27, 2, 4, 6, 10, 16, 4, 10, 30, 2, 7, 20, 2, 3, 7, 16, 20, 4, 10, 2, 6, 10, 2, 9, 10, 4, 10, 1, 2, 3, 4, 5, 6, 7, 8, 9, 10, 11, 13, 14, 15, 16, 17, 18, 21, 22, 25, 29, 31, 34, 38, 39, 40, 10, 29, 39, 39, 1, 3, 4, 15, 17, 22, 29, 1, 3, 4, 10, 15, 17, 22, 3, 5, 10, 11, 16, 4, 10, 14, 4, 8, 9, 11, 13, 18, 29, 16, 31, 4, 18, 4, 18, 11, 5, 11, 18, 2, 4, 10, 12, 14, 29, 2, 4, 14, 29, 1, 2, 4, 5, 6, 10, 11, 13, 14, 16, 18, 21, 22, 25, 38, 34, 1, 3, 4, 5, 7, 10, 11, 13, 15, 16, 18, 27, 29, 4, 29, 2, 16, 2, 4, 5, 6, 7, 8, 9, 10, 11, 17, 29, 31, 2, 1, 2, 9, 14, 22, 37, 2, 9, 14, 22, 37, 2, 3, 9, 14, 22, 37, 1, 1, 18, 2, 9, 14, 22, 37, 39, 2, 9, 14, 16, 22, 37, 1, 1, 9, 1, 1, 1, 5, 2, 16, 24, 2, 9, 14, 22, 37, 2, 9, 14, 22, 2, 9, 14, 22, 37, 39, 2, 3, 9, 14, 22, 37, 39, 2, 9, 14, 22, 37, 9, 1, 28, 1, 1, 8, 1, 1, 1, 8, 29, 3, 30, 3, 33, 1, 7, 36, 18, 7, 12, 39, 6, 29, 15, 18, 2, 4, 30, 4, 9, 11, 18, 29, 2, 9, 9, 9, 9, 3, 4, 7, 9, 11, 18, 29, 4, 9, 11, 18, 24, 26, 29, 9, 4, 18, 4, 18, 4, 9, 11, 18, 24, 29, 9, 5, 9, 9, 9, 2, 4, 6, 9, 11, 13, 18, 24, 29, 9, 4, 18, 27, 30, 2, 8, 27, 30, 36, 5, 32, 2, 2, 19, 2, 5, 6, 7, 8, 11, 12, 23, 27, 28, 7, 12, 20, 28, 12, 28, 7, 12, 28, 12, 28, 12, 28, 8, 12, 28, 12, 28, 1, 12, 28, 1, 2, 3, 4, 5, 8, 10, 11, 14, 16, 17, 25, 28, 7, 17, 1, 17, 21, 33, 1, 2, 3, 4, 5, 8, 11, 14, 16, 17, 21, 23, 25, 28, 32, 17, 38, 8, 25, 11, 13, 25, 14, 41, 12, 12, 12, 12, 12, 1, 44, 6, 1, 3, 3, 5, 3, 3, 2, 35, 12, 19, 10, 14, 12, 3, 38, 14, 6, 29, 8, 32, 11, 26, 32, 32, 32, 28, 1, 2, 3, 5, 16, 25, 29, 3, 29, 11, 7, 24, 33, 33, 22, 22, 10, 22, 22, 8, 9, 25, 8, 25, 8, 25, 2, 8, 25, 5, 7, 9, 13, 20, 27, 3, 5, 7, 9, 10, 27, 35, 2, 24, 24, 7, 23, 37, 32, 35, 32, 32, 1, 7, 36, 19, 1, 6, 20, 7, 7, 11, 12, 29, 3, 7, 12, 3, 4, 7, 12, 4, 7, 9, 12, 7, 4, 7, 9, 12, 7, 11, 12, 29, 7, 12, 4, 7, 9, 12, 2, 4, 5, 7, 12, 7, 4, 7, 9, 12, 40, 3, 38, 4, 23, 38, 16, 2, 2, 3, 6, 9, 12, 17, 36, 12, 29, 12, 12, 6, 6, 7, 25, 1, 23, 41, 29, 3, 4, 12, 13, 24, 29, 41, 1, 3, 16, 5, 16, 16, 14, 16, 1, 13, 15, 22, 36, 1, 2, 14, 19, 42, 14, 32, 32, 32, 20, 1, 2, 31, 31, 31, 1, 31, 31, 9, 31, 40, 32, 3, 5, 6, 7, 8, 13, 14, 16, 17, 25, 28, 30, 34, 7, 34, 13, 28, 28, 28, 30, 3, 5, 6, 7, 8, 10, 13, 16, 17, 25, 28, 30, 34, 3, 8, 28, 28, 1, 2, 3, 4, 5, 8, 11, 14, 15, 16, 17, 21, 25, 28, 37, 1, 2, 3, 4, 5, 8, 9, 11, 14, 15, 16, 17, 25, 28, 29, 37, 16, 17, 21, 17, 3, 17, 17, 1, 3, 4, 5, 7, 8, 9, 11, 13, 14, 18, 20, 21, 22, 26, 27, 28, 33, 40, 2, 8, 1, 8, 11, 18, 40, 1, 8, 9, 18, 40, 3, 8, 7, 8, 8, 1, 3, 4, 5, 7, 9, 12, 13, 14, 18, 20, 22, 27, 28, 33, 5, 7, 9, 19, 27, 5, 7, 9, 27, 6, 39, 2, 8, 1, 8, 8, 19, 8, 8, 12, 1, 13, 26, 33, 1, 13, 26, 33, 9, 22, 1, 13, 26, 33, 3, 21, 42, 3, 8, 10, 21, 42, 19, 42, 8, 42, 8, 42, 8, 42, 1, 42, 30, 20, 28, 20, 28, 37, 5, 30, 2, 11, 15, 29, 6, 24, 24, 4, 24, 24, 22, 13, 37, 2, 5, 24, 30, 4, 6, 39, 18, 23, 2, 24, 29, 41, 40, 6, 40, 15, 17, 20, 20, 32, 7, 32, 22], \"Freq\": [0.17417174845698238, 0.17417174845698238, 0.21168550989710325, 0.10094966633968103, 0.10094966633968103, 0.10094966633968103, 0.10094966633968103, 0.10094966633968103, 0.10094966633968103, 0.10094966633968103, 0.15562583433811983, 0.15562583433811983, 0.15562583433811983, 0.12788698540277196, 0.12788698540277196, 0.12788698540277196, 0.12788698540277196, 0.12788698540277196, 0.20245477831565048, 0.20245477831565048, 0.17009392298122342, 0.3246670743577165, 0.16233353717885826, 0.1680024088602972, 0.1680024088602972, 0.20456720687277757, 0.20456720687277757, 0.2083165212348629, 0.2202742585150836, 0.19390136526929908, 0.22695954769463522, 0.10112090199966886, 0.10112090199966886, 0.10112090199966886, 0.10112090199966886, 0.10112090199966886, 0.10112090199966886, 0.2094395240112533, 0.18059767328153925, 0.18059767328153925, 0.22382282471898202, 0.19608789581390512, 0.19608789581390512, 0.2560952075780467, 0.21909245621077164, 0.21481825532997775, 0.10740912766498888, 0.10740912766498888, 0.10740912766498888, 0.2086501426194824, 0.06955004753982746, 0.2086501426194824, 0.13910009507965493, 0.06955004753982746, 0.23434462307142692, 0.07811487435714232, 0.23434462307142692, 0.15622974871428463, 0.07811487435714232, 0.10602320904941813, 0.10602320904941813, 0.10602320904941813, 0.10602320904941813, 0.10602320904941813, 0.21204641809883626, 0.116659983913627, 0.116659983913627, 0.116659983913627, 0.116659983913627, 0.21561850506475028, 0.07187283502158343, 0.21561850506475028, 0.14374567004316685, 0.07187283502158343, 0.07187283502158343, 0.22884235832566652, 0.0762807861085555, 0.22884235832566652, 0.152561572217111, 0.0762807861085555, 0.0762807861085555, 0.0762807861085555, 0.1058791155622959, 0.1058791155622959, 0.1058791155622959, 0.1058791155622959, 0.1058791155622959, 0.2634605956532365, 0.20596529728921065, 0.06865509909640355, 0.20596529728921065, 0.06865509909640355, 0.1373101981928071, 0.06865509909640355, 0.06865509909640355, 0.06865509909640355, 0.09775311850591427, 0.09775311850591427, 0.09775311850591427, 0.09775311850591427, 0.15079147044892752, 0.15079147044892752, 0.1650644676240401, 0.2209808326534094, 0.15360318215211094, 0.15360318215211094, 0.18507417321865252, 0.18507417321865252, 0.1693170896169548, 0.1522279778431288, 0.1705831340535536, 0.22600692720669002, 0.07533564240223001, 0.15067128480446002, 0.15067128480446002, 0.07533564240223001, 0.07533564240223001, 0.06967264464029894, 0.06967264464029894, 0.1393452892805979, 0.06967264464029894, 0.06967264464029894, 0.06967264464029894, 0.06967264464029894, 0.14859870343778897, 0.14859870343778897, 0.21040947774964303, 0.23742777006372362, 0.22382267671084338, 0.2090017520440376, 0.20733055116297397, 0.21526556823936538, 0.25224236119975896, 0.30072234745761917, 0.25078411413884344, 0.25642611441346, 0.09079072232444116, 0.060527148216294104, 0.07565893527036763, 0.030263574108147052, 0.030263574108147052, 0.07565893527036763, 0.04539536116222058, 0.030263574108147052, 0.04539536116222058, 0.030263574108147052, 0.030263574108147052, 0.030263574108147052, 0.030263574108147052, 0.015131787054073526, 0.015131787054073526, 0.015131787054073526, 0.04539536116222058, 0.015131787054073526, 0.015131787054073526, 0.030263574108147052, 0.015131787054073526, 0.030263574108147052, 0.015131787054073526, 0.015131787054073526, 0.030263574108147052, 0.030263574108147052, 0.015131787054073526, 0.015131787054073526, 0.015131787054073526, 0.015131787054073526, 0.015131787054073526, 0.015131787054073526, 0.08635990808896454, 0.08635990808896454, 0.08635990808896454, 0.08635990808896454, 0.08635990808896454, 0.08635990808896454, 0.08635990808896454, 0.08635990808896454, 0.12531213461686838, 0.12531213461686838, 0.12531213461686838, 0.12531213461686838, 0.3068171774976976, 0.17360279377815796, 0.17360279377815796, 0.17360279377815796, 0.08224568805609624, 0.08224568805609624, 0.08224568805609624, 0.08224568805609624, 0.08224568805609624, 0.08224568805609624, 0.08224568805609624, 0.08224568805609624, 0.08224568805609624, 0.08224568805609624, 0.08224568805609624, 0.08224568805609624, 0.08224568805609624, 0.20520860801240728, 0.13724060146279252, 0.13724060146279252, 0.27448120292558503, 0.23629190054664687, 0.20161036535503885, 0.20161036535503885, 0.16687552623597432, 0.16687552623597432, 0.16687552623597432, 0.20912379789119767, 0.20912379789119767, 0.061177113116041446, 0.12235422623208289, 0.061177113116041446, 0.061177113116041446, 0.061177113116041446, 0.061177113116041446, 0.061177113116041446, 0.061177113116041446, 0.061177113116041446, 0.061177113116041446, 0.061177113116041446, 0.061177113116041446, 0.08577501919249422, 0.08577501919249422, 0.08577501919249422, 0.08577501919249422, 0.08577501919249422, 0.08577501919249422, 0.08577501919249422, 0.08577501919249422, 0.08577501919249422, 0.08577501919249422, 0.08618927518144529, 0.08618927518144529, 0.08618927518144529, 0.08618927518144529, 0.08618927518144529, 0.08618927518144529, 0.08618927518144529, 0.08618927518144529, 0.08618927518144529, 0.08618927518144529, 0.08618927518144529, 0.19424665293811627, 0.1134321506723209, 0.1134321506723209, 0.1134321506723209, 0.1813087689350541, 0.21059205195680636, 0.23592814949178706, 0.23592814949178706, 0.24892238515607973, 0.24279885933528603, 0.11768997025445252, 0.11768997025445252, 0.11768997025445252, 0.11768997025445252, 0.11768997025445252, 0.29944571731680236, 0.11800077694741648, 0.11800077694741648, 0.11800077694741648, 0.23600155389483296, 0.3991380981318545, 0.0649154913243714, 0.0649154913243714, 0.0649154913243714, 0.0649154913243714, 0.1298309826487428, 0.0649154913243714, 0.0649154913243714, 0.0649154913243714, 0.0649154913243714, 0.0649154913243714, 0.0649154913243714, 0.0649154913243714, 0.0649154913243714, 0.11192737718155069, 0.11192737718155069, 0.11192737718155069, 0.11192737718155069, 0.11192737718155069, 0.10583879039548534, 0.10583879039548534, 0.10583879039548534, 0.10583879039548534, 0.10583879039548534, 0.10583879039548534, 0.10583879039548534, 0.10583879039548534, 0.2231549419438326, 0.2231549419438326, 0.11115949169890253, 0.11115949169890253, 0.11115949169890253, 0.11115949169890253, 0.10194664697278, 0.10194664697278, 0.10194664697278, 0.10194664697278, 0.10194664697278, 0.10194664697278, 0.22555514602554474, 0.22555514602554474, 0.10733162476202146, 0.10733162476202146, 0.10733162476202146, 0.10733162476202146, 0.10733162476202146, 0.10733162476202146, 0.03708119451939172, 0.07416238903878344, 0.03708119451939172, 0.07416238903878344, 0.07416238903878344, 0.03708119451939172, 0.07416238903878344, 0.03708119451939172, 0.03708119451939172, 0.07416238903878344, 0.03708119451939172, 0.03708119451939172, 0.03708119451939172, 0.03708119451939172, 0.03708119451939172, 0.03708119451939172, 0.13250514071322086, 0.13250514071322086, 0.13250514071322086, 0.13250514071322086, 0.13250514071322086, 0.12706542729661455, 0.12706542729661455, 0.12706542729661455, 0.1588868888988348, 0.1588868888988348, 0.18955359131543695, 0.1326077934482369, 0.1326077934482369, 0.1326077934482369, 0.16336110940687715, 0.16336110940687715, 0.26256814460152295, 0.178501957389343, 0.178501957389343, 0.178501957389343, 0.178501957389343, 0.17294076849552212, 0.34588153699104424, 0.16081461975174646, 0.16081461975174646, 0.14061126860783077, 0.14061126860783077, 0.14061126860783077, 0.15265219049952874, 0.15265219049952874, 0.15265219049952874, 0.15265219049952874, 0.19210003186888214, 0.19210003186888214, 0.15926311448247024, 0.15926311448247024, 0.1252315041760055, 0.1252315041760055, 0.1252315041760055, 0.242008324707109, 0.242008324707109, 0.19492885370247373, 0.21762976154598368, 0.21648711088660444, 0.20679316047769916, 0.23027416992219826, 0.18758605136176087, 0.18758605136176087, 0.2832414936786456, 0.15335204828923887, 0.15335204828923887, 0.44359820279306955, 0.22155998948724048, 0.10501471549584394, 0.3150441464875319, 0.10501471549584394, 0.33927965121514847, 0.12340698576464104, 0.3702209572939231, 0.36060716289182576, 0.20551911910934745, 0.15893065343117582, 0.15893065343117582, 0.09693125460947775, 0.09693125460947775, 0.09693125460947775, 0.09693125460947775, 0.09693125460947775, 0.09693125460947775, 0.09693125460947775, 0.14554972440402886, 0.14554972440402886, 0.14554972440402886, 0.14554972440402886, 0.18671931412224924, 0.18671931412224924, 0.17887624204346825, 0.22585797927059617, 0.16302462029979045, 0.16302462029979045, 0.09412337494736353, 0.28237012484209056, 0.09412337494736353, 0.09412337494736353, 0.09412337494736353, 0.09412337494736353, 0.08788806255869039, 0.2636641876760712, 0.08788806255869039, 0.08788806255869039, 0.08788806255869039, 0.08788806255869039, 0.3836174233048948, 0.0854530007647852, 0.2563590022943556, 0.0854530007647852, 0.0854530007647852, 0.0854530007647852, 0.0854530007647852, 0.0854530007647852, 0.31120482987704945, 0.2863472582669147, 0.14317362913345735, 0.305070933405807, 0.2723174821322309, 0.13615874106611545, 0.13615874106611545, 0.05477455719505662, 0.05477455719505662, 0.05477455719505662, 0.05477455719505662, 0.05477455719505662, 0.05477455719505662, 0.05477455719505662, 0.05477455719505662, 0.05477455719505662, 0.05477455719505662, 0.05477455719505662, 0.05477455719505662, 0.05477455719505662, 0.05477455719505662, 0.05477455719505662, 0.19688369327651048, 0.2729616305288135, 0.10303160977813705, 0.2060632195562741, 0.10303160977813705, 0.10303160977813705, 0.10303160977813705, 0.10303160977813705, 0.19031293574235914, 0.13160050499705556, 0.13160050499705556, 0.13160050499705556, 0.2632010099941111, 0.12340507399898142, 0.12340507399898142, 0.12340507399898142, 0.12340507399898142, 0.15739185308050396, 0.15739185308050396, 0.3147837061610079, 0.3110987834662398, 0.16489379765760326, 0.1628929381440684, 0.1628929381440684, 0.1659181023636096, 0.1659181023636096, 0.1826232829274134, 0.21501237974337462, 0.13451406342208674, 0.13451406342208674, 0.20304332209220557, 0.2695196329283332, 0.19093100112360636, 0.20908291761504688, 0.20908291761504688, 0.20908291761504688, 0.2598338690818957, 0.05490496551198464, 0.05490496551198464, 0.10980993102396928, 0.05490496551198464, 0.05490496551198464, 0.05490496551198464, 0.05490496551198464, 0.05490496551198464, 0.05490496551198464, 0.05490496551198464, 0.05490496551198464, 0.05490496551198464, 0.05490496551198464, 0.05490496551198464, 0.1518202223161519, 0.1518202223161519, 0.1518202223161519, 0.21294061327360791, 0.2865991435423983, 0.186518182686446, 0.18533771411641675, 0.18533771411641675, 0.18533771411641675, 0.18844721284986402, 0.16082061970546913, 0.16082061970546913, 0.16082061970546913, 0.16082061970546913, 0.19398193163219846, 0.19398193163219846, 0.16285690217608106, 0.16285690217608106, 0.16285690217608106, 0.19626869592511628, 0.1898557213671993, 0.19015458977738017, 0.19015458977738017, 0.21278145588030142, 0.3121247877464066, 0.04551373813180931, 0.09102747626361862, 0.13654121439542793, 0.04551373813180931, 0.04551373813180931, 0.04551373813180931, 0.04551373813180931, 0.04551373813180931, 0.09102747626361862, 0.09102747626361862, 0.04551373813180931, 0.04551373813180931, 0.18755198983732982, 0.18755198983732982, 0.21537032956496008, 0.21537032956496008, 0.18168255331627697, 0.25406667048173637, 0.13412495265509355, 0.13412495265509355, 0.24945821758776332, 0.24945821758776332, 0.1770479695560528, 0.1770479695560528, 0.1770479695560528, 0.228451109296561, 0.16935100157422125, 0.16935100157422125, 0.1989114702022592, 0.1989114702022592, 0.10197718785861036, 0.10197718785861036, 0.10197718785861036, 0.10197718785861036, 0.10197718785861036, 0.10197718785861036, 0.10197718785861036, 0.05969582931456676, 0.02984791465728338, 0.05969582931456676, 0.05969582931456676, 0.02984791465728338, 0.02984791465728338, 0.02984791465728338, 0.08954374397185014, 0.08954374397185014, 0.11939165862913352, 0.02984791465728338, 0.02984791465728338, 0.02984791465728338, 0.02984791465728338, 0.02984791465728338, 0.02984791465728338, 0.02984791465728338, 0.02984791465728338, 0.02984791465728338, 0.02984791465728338, 0.02984791465728338, 0.02984791465728338, 0.13693504180575541, 0.13693504180575541, 0.13693504180575541, 0.11967760277737814, 0.11967760277737814, 0.11967760277737814, 0.11967760277737814, 0.11967760277737814, 0.11967760277737814, 0.11967760277737814, 0.2764666507760646, 0.21253855513805114, 0.21253855513805114, 0.21247066046057408, 0.20208313784286402, 0.20771076585388107, 0.20771076585388107, 0.19631053226583708, 0.23011098255767756, 0.20057878133558588, 0.18211822656320015, 0.18211822656320015, 0.17785123354170276, 0.17785123354170276, 0.26184703375674834, 0.2710699642540807, 0.12080497244042673, 0.12080497244042673, 0.12080497244042673, 0.12080497244042673, 0.2223954433918385, 0.2223954433918385, 0.1658055758479225, 0.1687136055090949, 0.1687136055090949, 0.14752910574254166, 0.14752910574254166, 0.14752910574254166, 0.13179956188314434, 0.13179956188314434, 0.13179956188314434, 0.13179956188314434, 0.23687915470868426, 0.18169400799887478, 0.18169400799887478, 0.18169400799887478, 0.23732438233077535, 0.18986136355170488, 0.18986136355170488, 0.13041810852119107, 0.13041810852119107, 0.13041810852119107, 0.13041810852119107, 0.18405590970010594, 0.18405590970010594, 0.10736642568537177, 0.10736642568537177, 0.10736642568537177, 0.10736642568537177, 0.10736642568537177, 0.10736642568537177, 0.1751614562194083, 0.1751614562194083, 0.05379664549785473, 0.05379664549785473, 0.05379664549785473, 0.05379664549785473, 0.10759329099570945, 0.05379664549785473, 0.05379664549785473, 0.05379664549785473, 0.05379664549785473, 0.05379664549785473, 0.05379664549785473, 0.05379664549785473, 0.05379664549785473, 0.05379664549785473, 0.05379664549785473, 0.05379664549785473, 0.2133816617340093, 0.2133816617340093, 0.15822855225959842, 0.15822855225959842, 0.2828129542929375, 0.09269659638421796, 0.09269659638421796, 0.09269659638421796, 0.09269659638421796, 0.09269659638421796, 0.09269659638421796, 0.09269659638421796, 0.09269659638421796, 0.09269659638421796, 0.13354563451901227, 0.13354563451901227, 0.13354563451901227, 0.13354563451901227, 0.1877883523224373, 0.16445056032972508, 0.2485323115914792, 0.09547720187075981, 0.047738600935379905, 0.047738600935379905, 0.047738600935379905, 0.09547720187075981, 0.09547720187075981, 0.047738600935379905, 0.047738600935379905, 0.09547720187075981, 0.047738600935379905, 0.047738600935379905, 0.047738600935379905, 0.047738600935379905, 0.047738600935379905, 0.047738600935379905, 0.1543014442342442, 0.1543014442342442, 0.22958157548908598, 0.2108960354866456, 0.20397823652616512, 0.20397823652616512, 0.22465626280040712, 0.13737520186852203, 0.13737520186852203, 0.13737520186852203, 0.17961937542965342, 0.17961937542965342, 0.19140593820035576, 0.19140593820035576, 0.14616838732760884, 0.14616838732760884, 0.1586287636127886, 0.1586287636127886, 0.18365071098013738, 0.18365071098013738, 0.18365071098013738, 0.19195859546283212, 0.17659182895244546, 0.17659182895244546, 0.2609749944045288, 0.19561284899219775, 0.1330332805124289, 0.1330332805124289, 0.1330332805124289, 0.1330332805124289, 0.16206325900971721, 0.16206325900971721, 0.16206325900971721, 0.21357971276252258, 0.2254560964943699, 0.22122174563118877, 0.12365739796194464, 0.12365739796194464, 0.12365739796194464, 0.12365739796194464, 0.17842569042751377, 0.17842569042751377, 0.18529207665801697, 0.18529207665801697, 0.16449326716977636, 0.16449326716977636, 0.23764858437584863, 0.11871100338096455, 0.11871100338096455, 0.11871100338096455, 0.15170599364787285, 0.15170599364787285, 0.3290204422102222, 0.2220856014831346, 0.2220856014831346, 0.21942209154173178, 0.24863198735040185, 0.06481240304883637, 0.06481240304883637, 0.06481240304883637, 0.06481240304883637, 0.12962480609767274, 0.06481240304883637, 0.12962480609767274, 0.06481240304883637, 0.06481240304883637, 0.06481240304883637, 0.05338718227637503, 0.05338718227637503, 0.05338718227637503, 0.05338718227637503, 0.10677436455275006, 0.10677436455275006, 0.10677436455275006, 0.05338718227637503, 0.05338718227637503, 0.05338718227637503, 0.05338718227637503, 0.05338718227637503, 0.14463046609627261, 0.14463046609627261, 0.14463046609627261, 0.25171906812303596, 0.25171906812303596, 0.10543377099055866, 0.10543377099055866, 0.10543377099055866, 0.05271688549527933, 0.21086754198111732, 0.15815065648583798, 0.05271688549527933, 0.05271688549527933, 0.05271688549527933, 0.05271688549527933, 0.1253249427925634, 0.04177498093085446, 0.08354996186170892, 0.08354996186170892, 0.04177498093085446, 0.16709992372341784, 0.1253249427925634, 0.04177498093085446, 0.04177498093085446, 0.04177498093085446, 0.04177498093085446, 0.17790076787100204, 0.17790076787100204, 0.11413503374064218, 0.11413503374064218, 0.11413503374064218, 0.10343837343513076, 0.10343837343513076, 0.10343837343513076, 0.05171918671756538, 0.20687674687026153, 0.15515756015269613, 0.05171918671756538, 0.05171918671756538, 0.05171918671756538, 0.09580810962886696, 0.09580810962886696, 0.09580810962886696, 0.04790405481443348, 0.19161621925773392, 0.14371216444330043, 0.04790405481443348, 0.04790405481443348, 0.1248999029186209, 0.08326660194574727, 0.08326660194574727, 0.041633300972873634, 0.16653320389149454, 0.1248999029186209, 0.041633300972873634, 0.041633300972873634, 0.041633300972873634, 0.041633300972873634, 0.041633300972873634, 0.12181370455213535, 0.365441113656406, 0.4263570248621916, 0.1421190082873972, 0.1859595467259795, 0.1859595467259795, 0.20901690876883514, 0.20307392832600055, 0.2021835085077259, 0.2021835085077259, 0.20876808653439308, 0.20876808653439308, 0.20876808653439308, 0.10304008075179538, 0.05152004037589769, 0.05152004037589769, 0.10304008075179538, 0.15456012112769307, 0.10304008075179538, 0.10304008075179538, 0.05152004037589769, 0.10304008075179538, 0.05152004037589769, 0.05152004037589769, 0.10168453777059822, 0.05084226888529911, 0.10168453777059822, 0.15252680665589732, 0.05084226888529911, 0.10168453777059822, 0.05084226888529911, 0.10168453777059822, 0.05084226888529911, 0.05084226888529911, 0.08249427085532544, 0.04124713542766272, 0.08249427085532544, 0.12374140628298817, 0.12374140628298817, 0.12374140628298817, 0.08249427085532544, 0.04124713542766272, 0.08249427085532544, 0.04124713542766272, 0.04124713542766272, 0.04124713542766272, 0.04124713542766272, 0.04124713542766272, 0.21625101738812771, 0.24110357750368636, 0.05266879253216771, 0.05266879253216771, 0.05266879253216771, 0.15800637759650313, 0.10533758506433542, 0.15800637759650313, 0.05266879253216771, 0.05266879253216771, 0.10533758506433542, 0.05266879253216771, 0.05273362288597737, 0.05273362288597737, 0.05273362288597737, 0.15820086865793212, 0.10546724577195474, 0.10546724577195474, 0.05273362288597737, 0.10546724577195474, 0.05273362288597737, 0.05273362288597737, 0.08368292956753762, 0.04184146478376881, 0.04184146478376881, 0.1255243943513064, 0.08368292956753762, 0.08368292956753762, 0.08368292956753762, 0.04184146478376881, 0.08368292956753762, 0.04184146478376881, 0.04184146478376881, 0.04184146478376881, 0.04184146478376881, 0.04184146478376881, 0.2085300965445751, 0.2432271510871177, 0.2146116373427023, 0.1351408947284669, 0.2702817894569338, 0.1351408947284669, 0.06757044736423345, 0.06757044736423345, 0.06757044736423345, 0.30492918358551985, 0.10164306119517329, 0.10164306119517329, 0.10164306119517329, 0.10164306119517329, 0.2973186980697961, 0.09910623268993203, 0.09910623268993203, 0.09910623268993203, 0.3434125737363614, 0.08585314343409035, 0.08585314343409035, 0.08585314343409035, 0.08585314343409035, 0.08585314343409035, 0.3461751491745212, 0.11539171639150707, 0.11539171639150707, 0.11539171639150707, 0.24903122445302997, 0.20594941890087284, 0.20594941890087284, 0.2655596893736986, 0.38755482321911544, 0.281949734104764, 0.24945365649828108, 0.23724923838669562, 0.1994527097399805, 0.2770035779269103, 0.18237339818798912, 0.18237339818798912, 0.2512301266675257, 0.19533513742401054, 0.4198443723117803, 0.18870164085038973, 0.18870164085038973, 0.1803238116223912, 0.1803238116223912, 0.24800953547622678, 0.12400476773811339, 0.12400476773811339, 0.2233942837287984, 0.1116971418643992, 0.1116971418643992, 0.1116971418643992, 0.19810359683418732, 0.03962071936683747, 0.03962071936683747, 0.03962071936683747, 0.03962071936683747, 0.03962071936683747, 0.03962071936683747, 0.03962071936683747, 0.03962071936683747, 0.03962071936683747, 0.03962071936683747, 0.03962071936683747, 0.03962071936683747, 0.03962071936683747, 0.03962071936683747, 0.03962071936683747, 0.2134408862371686, 0.1067204431185843, 0.1067204431185843, 0.2169735201809256, 0.1084867600904628, 0.1084867600904628, 0.24827007661758935, 0.12413503830879467, 0.12413503830879467, 0.12413503830879467, 0.2206091341356913, 0.17745046727146302, 0.08872523363573151, 0.044362616817865755, 0.044362616817865755, 0.044362616817865755, 0.044362616817865755, 0.044362616817865755, 0.044362616817865755, 0.044362616817865755, 0.044362616817865755, 0.044362616817865755, 0.044362616817865755, 0.044362616817865755, 0.21648431107570223, 0.22632894701355388, 0.11316447350677694, 0.11316447350677694, 0.22870461692413746, 0.11435230846206873, 0.11435230846206873, 0.11435230846206873, 0.11435230846206873, 0.2615717492114287, 0.13078587460571434, 0.13078587460571434, 0.26302887205413417, 0.13151443602706708, 0.13151443602706708, 0.27788954964019474, 0.13894477482009737, 0.13894477482009737, 0.19444665053122998, 0.19444665053122998, 0.16537173066113728, 0.16537173066113728, 0.16537173066113728, 0.3750090907693621, 0.21860368859092214, 0.2065317769790283, 0.18754077341624234, 0.21807738794276646, 0.18581326947996918, 0.3774971153780988, 0.3177127949910594, 0.49031879134638173, 0.3583285490178385, 0.34571454350315767, 0.1930751207403634, 0.1930751207403634, 0.19897719699653713, 0.14076432874387007, 0.14076432874387007, 0.3147610726425003, 0.15738053632125015, 0.15738053632125015, 0.15002881756606748, 0.30005763513213496, 0.15002881756606748, 0.05903325785781522, 0.05903325785781522, 0.05903325785781522, 0.05903325785781522, 0.05903325785781522, 0.11806651571563044, 0.11806651571563044, 0.05903325785781522, 0.05903325785781522, 0.05903325785781522, 0.05903325785781522, 0.057672606333619154, 0.057672606333619154, 0.057672606333619154, 0.057672606333619154, 0.11534521266723831, 0.17301781900085747, 0.057672606333619154, 0.057672606333619154, 0.057672606333619154, 0.057672606333619154, 0.04823288877885014, 0.04823288877885014, 0.09646577755770028, 0.04823288877885014, 0.04823288877885014, 0.09646577755770028, 0.1446986663365504, 0.04823288877885014, 0.04823288877885014, 0.09646577755770028, 0.04823288877885014, 0.04823288877885014, 0.04823288877885014, 0.38684029062613823, 0.2139960787236756, 0.1019116038718188, 0.1019116038718188, 0.1019116038718188, 0.1019116038718188, 0.1019116038718188, 0.1019116038718188, 0.034833847419478335, 0.017416923709739168, 0.017416923709739168, 0.10450154225843501, 0.06966769483895667, 0.034833847419478335, 0.034833847419478335, 0.017416923709739168, 0.017416923709739168, 0.10450154225843501, 0.10450154225843501, 0.034833847419478335, 0.017416923709739168, 0.017416923709739168, 0.034833847419478335, 0.034833847419478335, 0.052250771129217506, 0.017416923709739168, 0.017416923709739168, 0.017416923709739168, 0.052250771129217506, 0.017416923709739168, 0.017416923709739168, 0.017416923709739168, 0.017416923709739168, 0.017416923709739168, 0.017416923709739168, 0.08389375709445619, 0.08389375709445619, 0.08389375709445619, 0.2516812712833686, 0.08389375709445619, 0.08389375709445619, 0.1226295672688533, 0.1226295672688533, 0.3678887018065599, 0.1718683264921794, 0.1718683264921794, 0.13499638768824523, 0.06749819384412262, 0.20249458153236785, 0.20249458153236785, 0.06749819384412262, 0.06749819384412262, 0.07860592400039258, 0.23581777200117773, 0.23581777200117773, 0.07860592400039258, 0.07860592400039258, 0.17371990944429758, 0.16452704643736016, 0.08226352321868008, 0.08226352321868008, 0.08226352321868008, 0.08226352321868008, 0.08226352321868008, 0.08226352321868008, 0.08226352321868008, 0.08226352321868008, 0.17082852305826102, 0.08541426152913051, 0.08541426152913051, 0.08541426152913051, 0.08541426152913051, 0.08541426152913051, 0.08541426152913051, 0.08541426152913051, 0.08541426152913051, 0.07686232128391167, 0.230586963851735, 0.230586963851735, 0.07686232128391167, 0.07686232128391167, 0.07392213244956408, 0.07392213244956408, 0.07392213244956408, 0.14784426489912816, 0.14784426489912816, 0.07392213244956408, 0.07392213244956408, 0.07392213244956408, 0.09707184247074223, 0.09707184247074223, 0.19414368494148446, 0.09707184247074223, 0.09707184247074223, 0.09707184247074223, 0.08990323788234968, 0.17980647576469935, 0.08990323788234968, 0.17980647576469935, 0.08990323788234968, 0.08990323788234968, 0.2063013137435339, 0.10315065687176694, 0.2063013137435339, 0.10315065687176694, 0.08446976511906815, 0.08446976511906815, 0.08446976511906815, 0.08446976511906815, 0.3378790604762726, 0.10253243023267801, 0.10253243023267801, 0.30759729069803404, 0.07534024456496052, 0.2260207336948816, 0.2260207336948816, 0.07534024456496052, 0.1551517687170992, 0.23272765307564883, 0.23272765307564883, 0.0775758843585496, 0.23039567011383946, 0.1535971134092263, 0.07679855670461315, 0.07679855670461315, 0.07679855670461315, 0.07679855670461315, 0.2985637280094192, 0.09952124266980641, 0.09952124266980641, 0.09952124266980641, 0.09952124266980641, 0.09952124266980641, 0.40009128842681196, 0.20248059476758223, 0.20958407864385056, 0.2424002565394678, 0.2424002565394678, 0.2962176023773427, 0.14810880118867134, 0.2930565496266342, 0.1465282748133171, 0.08298377087122401, 0.08298377087122401, 0.08298377087122401, 0.16596754174244802, 0.08298377087122401, 0.08298377087122401, 0.08298377087122401, 0.0993414478780683, 0.0993414478780683, 0.0993414478780683, 0.0993414478780683, 0.0993414478780683, 0.16921591969454283, 0.16921591969454283, 0.17363966113115367, 0.17363966113115367, 0.2461344547514937, 0.2461344547514937, 0.03781062869760869, 0.018905314348804346, 0.018905314348804346, 0.09452657174402174, 0.07562125739521738, 0.03781062869760869, 0.03781062869760869, 0.018905314348804346, 0.018905314348804346, 0.09452657174402174, 0.11343188609282609, 0.03781062869760869, 0.018905314348804346, 0.018905314348804346, 0.03781062869760869, 0.018905314348804346, 0.03781062869760869, 0.018905314348804346, 0.018905314348804346, 0.018905314348804346, 0.03781062869760869, 0.018905314348804346, 0.018905314348804346, 0.018905314348804346, 0.018905314348804346, 0.19531316996016315, 0.19531316996016315, 0.21245456013641748, 0.1897447734880356, 0.0948723867440178, 0.0948723867440178, 0.0948723867440178, 0.0948723867440178, 0.0948723867440178, 0.09245604628262663, 0.09245604628262663, 0.09245604628262663, 0.09245604628262663, 0.09245604628262663, 0.20977040586752127, 0.10488520293376064, 0.20977040586752127, 0.10488520293376064, 0.2074907562878305, 0.10374537814391525, 0.2074907562878305, 0.10374537814391525, 0.10906129534179657, 0.10906129534179657, 0.10906129534179657, 0.21812259068359313, 0.12464797367662624, 0.12464797367662624, 0.24929594735325247, 0.2812009640327393, 0.09373365467757977, 0.09373365467757977, 0.09373365467757977, 0.09373365467757977, 0.2773262720732715, 0.0924420906910905, 0.0924420906910905, 0.0924420906910905, 0.0924420906910905, 0.25559234829524535, 0.157081720453843, 0.314163440907686, 0.13927755941351, 0.13927755941351, 0.27855511882702, 0.09623990028120992, 0.09623990028120992, 0.09623990028120992, 0.09623990028120992, 0.09623990028120992, 0.09623990028120992, 0.10639517951322806, 0.10639517951322806, 0.10639517951322806, 0.10639517951322806, 0.10639517951322806, 0.19081504280486958, 0.19081504280486958, 0.4015668515604787, 0.20649793222077437, 0.078021013405174, 0.23406304021552202, 0.078021013405174, 0.23406304021552202, 0.078021013405174, 0.0872004604401588, 0.2616013813204764, 0.2616013813204764, 0.0872004604401588, 0.2381233518353563, 0.07667056344236804, 0.07667056344236804, 0.23001169032710414, 0.23001169032710414, 0.07667056344236804, 0.07438023717891504, 0.07438023717891504, 0.07438023717891504, 0.22314071153674514, 0.22314071153674514, 0.07438023717891504, 0.38156986111623475, 0.19078493055811738, 0.21351622584973895, 0.21351622584973895, 0.3091591265512838, 0.18051574101220835, 0.22528604405284353, 0.2881348681076007, 0.36114031190468165, 0.2099313420501461, 0.28605885971928513, 0.2706185559030456, 0.2187393645732534, 0.2187393645732534, 0.21556432972415648, 0.21556432972415648, 0.220198951166665, 0.220198951166665, 0.22320896244061633, 0.22320896244061633, 0.1784098742094701, 0.1784098742094701, 0.37949795981912826, 0.18974897990956413, 0.09533952420627749, 0.09533952420627749, 0.09533952420627749, 0.09533952420627749, 0.09533952420627749, 0.09533952420627749, 0.09533952420627749, 0.23646710815279398, 0.16894595823684122, 0.16894595823684122, 0.16894595823684122, 0.16894595823684122, 0.21335358623157674, 0.25468361246873894, 0.3904116195431986, 0.13089037671812373, 0.26178075343624746, 0.13089037671812373, 0.13464719643525327, 0.13464719643525327, 0.26929439287050655, 0.4101345250648131, 0.16937097969502754, 0.16937097969502754, 0.16937097969502754, 0.189806144371308, 0.4368098071139942, 0.506386790373661, 0.3545599360338182, 0.11818664534460606, 0.38246573518135724, 0.09561643379533931, 0.09561643379533931, 0.11285104256824668, 0.33855312770474005, 0.11285104256824668, 0.22642736947991626, 0.34695039706577285, 0.3748312683416208, 0.12494375611387358, 0.11215942634264733, 0.336478279027942, 0.11215942634264733, 0.11215942634264733, 0.4790516221278689, 0.09581032442557377, 0.09581032442557377, 0.41974032492097985, 0.13991344164032662, 0.1645536796934257, 0.1645536796934257, 0.1645536796934257, 0.1645536796934257, 0.21672107921803807, 0.16404550611250351, 0.15151166368388067, 0.15151166368388067, 0.1737333083382408, 0.1737333083382408, 0.1514044057952915, 0.1514044057952915, 0.1514044057952915, 0.16516138981484255, 0.16516138981484255, 0.24504173414854832, 0.21705058033030367, 0.21705058033030367, 0.2758884904989485, 0.22568408523390376, 0.26391607938571304, 0.24087255291691964, 0.23438056388182407, 0.15503283894740166, 0.15503283894740166, 0.15503283894740166, 0.15503283894740166, 0.2681386891986492, 0.2774142696128971, 0.22969190245926485, 0.23278370929292977, 0.23278370929292977, 0.17818030780539187, 0.24558040636674133, 0.22460668677599263, 0.18239632341639808, 0.14577881217492478, 0.14577881217492478, 0.16765671626019402, 0.16898807420599388, 0.22050347410287366, 0.14456640577093835, 0.14456640577093835, 0.17956706727302807, 0.17956706727302807, 0.17165046651850788, 0.17165046651850788, 0.18145123849780284, 0.13662099805721847, 0.27324199611443695, 0.22659191636391046, 0.07553063878797016, 0.15106127757594032, 0.15106127757594032, 0.07553063878797016, 0.07553063878797016, 0.22510950536242377, 0.07503650178747459, 0.15007300357494918, 0.15007300357494918, 0.07503650178747459, 0.07503650178747459, 0.07503650178747459, 0.07503650178747459, 0.14717664932332147, 0.14717664932332147, 0.14717664932332147, 0.14717664932332147, 0.3281001585042145, 0.16405007925210724, 0.33422659079321115, 0.1921235913009895, 0.1921235913009895, 0.24756019966120996, 0.24925273154567973, 0.23656100219145912, 0.23656100219145912, 0.21145307589238765, 0.21145307589238765, 0.21313903876719753, 0.22390177932151642, 0.18388806502417346, 0.262449165595999, 0.24135809354517143, 0.21695849545005005, 0.08163871820704825, 0.08163871820704825, 0.08163871820704825, 0.08163871820704825, 0.08163871820704825, 0.08163871820704825, 0.08163871820704825, 0.1632774364140965, 0.11258756499606691, 0.11258756499606691, 0.11258756499606691, 0.11258756499606691, 0.1178285073220536, 0.1178285073220536, 0.1178285073220536, 0.1178285073220536, 0.11831530799833671, 0.11831530799833671, 0.11831530799833671, 0.11831530799833671, 0.11831530799833671, 0.10113162285703198, 0.10113162285703198, 0.10113162285703198, 0.10113162285703198, 0.10113162285703198, 0.10113162285703198, 0.10392486386229134, 0.10392486386229134, 0.10392486386229134, 0.10392486386229134, 0.10392486386229134, 0.12416430061930604, 0.12416430061930604, 0.12416430061930604, 0.12950095205752796, 0.12950095205752796, 0.12950095205752796, 0.12950095205752796, 0.12950095205752796, 0.13067806280341113, 0.13067806280341113, 0.13067806280341113, 0.13067806280341113, 0.13067806280341113, 0.18659483909981653, 0.165011067247907, 0.165011067247907, 0.1212801371613047, 0.1212801371613047, 0.1212801371613047, 0.1212801371613047, 0.1212801371613047, 0.1212801371613047, 0.2305913550395151, 0.17792584428049885, 0.17792584428049885, 0.2806060965720671, 0.21100989084350494, 0.26460533217180426, 0.21473380295881758, 0.2699150910450113, 0.17797282469375159, 0.17797282469375159, 0.17797282469375159, 0.19434531114208178, 0.22773889362614325, 0.16994793207267217, 0.16994793207267217, 0.16994793207267217, 0.1905799724953105, 0.09528998624765525, 0.09528998624765525, 0.09528998624765525, 0.06596096017949671, 0.13192192035899342, 0.06596096017949671, 0.06596096017949671, 0.06596096017949671, 0.06596096017949671, 0.06596096017949671, 0.06596096017949671, 0.06596096017949671, 0.06596096017949671, 0.06596096017949671, 0.15404222870985187, 0.07702111435492594, 0.07702111435492594, 0.07702111435492594, 0.07702111435492594, 0.07702111435492594, 0.07702111435492594, 0.07702111435492594, 0.07702111435492594, 0.07702111435492594, 0.0791710978799753, 0.0791710978799753, 0.0791710978799753, 0.0791710978799753, 0.0791710978799753, 0.0791710978799753, 0.0791710978799753, 0.0791710978799753, 0.0791710978799753, 0.0791710978799753, 0.0791710978799753, 0.15777280990553008, 0.15777280990553008, 0.15777280990553008, 0.20475465510611457, 0.23287306244550374, 0.2229268367620317, 0.14717407333291085, 0.14717407333291085, 0.14717407333291085, 0.14717407333291085, 0.11319189988170102, 0.11319189988170102, 0.11319189988170102, 0.11319189988170102, 0.11319189988170102, 0.11319189988170102, 0.11068187937567636, 0.11068187937567636, 0.11068187937567636, 0.11068187937567636, 0.11068187937567636, 0.11068187937567636, 0.2516529223224581, 0.15104436213329403, 0.15104436213329403, 0.15104436213329403, 0.1299750404622232, 0.1299750404622232, 0.1299750404622232, 0.1299750404622232, 0.1299750404622232, 0.2493175172590851, 0.18355902576492897, 0.25504237196405394, 0.20105197330247732, 0.1994523627097463, 0.1994523627097463, 0.21875611020045807, 0.2524226573978669, 0.24411757840711662, 0.25482859503691, 0.2398019444166398, 0.2038751211241477, 0.2038751211241477, 0.17170893706416038, 0.17170893706416038, 0.17170893706416038, 0.19527902114269666, 0.19527902114269666, 0.09165293011713908, 0.09165293011713908, 0.09165293011713908, 0.09165293011713908, 0.09165293011713908, 0.09165293011713908, 0.3340758637351659, 0.24230202988415986, 0.22388977842216726, 0.1628158149832597, 0.1628158149832597, 0.12811022663715702, 0.25622045327431403, 0.1416675308536401, 0.1416675308536401, 0.2833350617072802, 0.11763905778150627, 0.11763905778150627, 0.23527811556301254, 0.213768251434201, 0.2095529644149933, 0.17221083376203566, 0.17221083376203566, 0.17221083376203566, 0.17221083376203566, 0.18009818086930154, 0.18009818086930154, 0.1636271501904014, 0.1636271501904014, 0.18447954152906337, 0.2798592501213235, 0.19853829739169807, 0.19853829739169807, 0.2030266518530126, 0.19555707936154665, 0.19555707936154665, 0.06825946542929248, 0.06825946542929248, 0.06825946542929248, 0.20477839628787745, 0.06825946542929248, 0.13651893085858496, 0.06825946542929248, 0.06825946542929248, 0.16753897422409855, 0.16753897422409855, 0.14740708850066409, 0.29481417700132817, 0.11243284717741485, 0.11243284717741485, 0.11243284717741485, 0.11243284717741485, 0.11243284717741485, 0.11243284717741485, 0.1232225528759152, 0.1232225528759152, 0.1232225528759152, 0.1232225528759152, 0.1232225528759152, 0.1232225528759152, 0.1993615705032918, 0.1933704375856403, 0.1933704375856403, 0.22794445622870832, 0.23083235930274365, 0.10829923494755521, 0.10829923494755521, 0.10829923494755521, 0.10829923494755521, 0.10829923494755521, 0.10829923494755521, 0.09847691789544614, 0.09847691789544614, 0.09847691789544614, 0.09847691789544614, 0.09847691789544614, 0.09847691789544614, 0.09847691789544614, 0.09847691789544614, 0.25135836443840437, 0.2050942829170946, 0.2050942829170946, 0.08525513243279992, 0.08525513243279992, 0.08525513243279992, 0.08525513243279992, 0.08525513243279992, 0.08525513243279992, 0.08525513243279992, 0.08525513243279992, 0.08525513243279992, 0.08525513243279992, 0.17341692145185675, 0.24605255100711948, 0.2412764258457323, 0.24971244684249808, 0.19025835193462845, 0.19025835193462845, 0.1540531225772214, 0.1540531225772214, 0.1483848349075194, 0.1483848349075194, 0.1483848349075194, 0.1483848349075194, 0.1547059345691544, 0.1547059345691544, 0.21433449747959624, 0.24329077789217168, 0.14792339641749597, 0.14792339641749597, 0.14792339641749597, 0.14792339641749597, 0.1967485837438166, 0.1967485837438166, 0.1967485837438166, 0.20922417658200965, 0.20922417658200965, 0.19107746555420563, 0.18526205474401042, 0.18526205474401042, 0.15477830894028505, 0.07126601459345876, 0.07126601459345876, 0.07126601459345876, 0.07126601459345876, 0.07126601459345876, 0.07126601459345876, 0.07126601459345876, 0.07126601459345876, 0.07126601459345876, 0.12397035935442197, 0.12397035935442197, 0.12397035935442197, 0.04171122443313802, 0.04171122443313802, 0.12513367329941405, 0.08342244886627603, 0.08342244886627603, 0.04171122443313802, 0.12513367329941405, 0.04171122443313802, 0.04171122443313802, 0.04171122443313802, 0.04171122443313802, 0.08342244886627603, 0.04055614735305363, 0.12166844205916089, 0.04055614735305363, 0.04055614735305363, 0.04055614735305363, 0.08111229470610726, 0.04055614735305363, 0.04055614735305363, 0.04055614735305363, 0.04055614735305363, 0.04055614735305363, 0.04055614735305363, 0.04055614735305363, 0.12166844205916089, 0.04055614735305363, 0.04055614735305363, 0.22254705040536107, 0.18932020535608074, 0.17824922766419873, 0.09823884060096971, 0.09823884060096971, 0.09823884060096971, 0.09823884060096971, 0.09823884060096971, 0.09823884060096971, 0.09823884060096971, 0.10594121379516838, 0.10594121379516838, 0.10594121379516838, 0.10594121379516838, 0.10594121379516838, 0.10594121379516838, 0.10594121379516838, 0.3820225409598309, 0.40930451503742143, 0.13643483834580714, 0.10796556245747749, 0.10796556245747749, 0.10796556245747749, 0.1538455726472626, 0.3076911452945252, 0.13232995830632543, 0.13232995830632543, 0.13232995830632543, 0.13232995830632543, 0.0843301107977745, 0.0843301107977745, 0.0843301107977745, 0.0843301107977745, 0.0843301107977745, 0.0843301107977745, 0.0843301107977745, 0.0843301107977745, 0.21175739236391533, 0.10587869618195767, 0.05293934809097883, 0.05293934809097883, 0.10587869618195767, 0.05293934809097883, 0.05293934809097883, 0.05293934809097883, 0.05293934809097883, 0.05293934809097883, 0.05293934809097883, 0.05694977613682004, 0.17084932841046013, 0.05694977613682004, 0.05694977613682004, 0.05694977613682004, 0.05694977613682004, 0.05694977613682004, 0.05694977613682004, 0.05694977613682004, 0.05694977613682004, 0.05694977613682004, 0.05694977613682004, 0.42724999976564587, 0.10575114128614348, 0.10575114128614348, 0.10575114128614348, 0.05287557064307174, 0.21150228257228695, 0.10575114128614348, 0.05287557064307174, 0.05287557064307174, 0.10496827290282391, 0.10496827290282391, 0.10496827290282391, 0.05248413645141196, 0.20993654580564783, 0.10496827290282391, 0.05248413645141196, 0.05248413645141196, 0.05248413645141196, 0.2419429137929004, 0.11907738689616011, 0.03969246229872004, 0.07938492459744008, 0.07938492459744008, 0.03969246229872004, 0.1984623114936002, 0.11907738689616011, 0.03969246229872004, 0.03969246229872004, 0.03969246229872004, 0.03969246229872004, 0.03969246229872004, 0.03969246229872004, 0.03969246229872004, 0.13965925081299466, 0.13965925081299466, 0.13965925081299466, 0.16407772694474243, 0.16407772694474243, 0.04263344512960328, 0.04263344512960328, 0.12790033538880985, 0.08526689025920656, 0.08526689025920656, 0.04263344512960328, 0.12790033538880985, 0.04263344512960328, 0.04263344512960328, 0.04263344512960328, 0.04263344512960328, 0.04263344512960328, 0.08526689025920656, 0.04263344512960328, 0.042225353217253035, 0.042225353217253035, 0.12667605965175913, 0.042225353217253035, 0.042225353217253035, 0.042225353217253035, 0.042225353217253035, 0.042225353217253035, 0.042225353217253035, 0.042225353217253035, 0.042225353217253035, 0.042225353217253035, 0.042225353217253035, 0.12667605965175913, 0.042225353217253035, 0.042225353217253035, 0.1832082038348883, 0.23048043784497485, 0.23177409538993063, 0.2245178082824149, 0.1838745135123229, 0.10837794349703654, 0.21675588699407308, 0.21675588699407308, 0.22460944132883767, 0.2572656239598069, 0.21123873071696858, 0.21123873071696858, 0.21544172999015393, 0.10772086499507696, 0.05386043249753848, 0.05386043249753848, 0.10772086499507696, 0.05386043249753848, 0.05386043249753848, 0.05386043249753848, 0.05386043249753848, 0.17170166792544253, 0.17170166792544253, 0.10391783974102173, 0.10391783974102173, 0.10391783974102173, 0.051958919870510864, 0.20783567948204346, 0.10391783974102173, 0.051958919870510864, 0.051958919870510864, 0.051958919870510864, 0.051958919870510864, 0.1028842237312923, 0.05144211186564615, 0.1028842237312923, 0.1028842237312923, 0.05144211186564615, 0.2057684474625846, 0.1028842237312923, 0.05144211186564615, 0.05144211186564615, 0.20118715979327093, 0.12799315099803746, 0.08532876733202498, 0.08532876733202498, 0.04266438366601249, 0.17065753466404995, 0.12799315099803746, 0.04266438366601249, 0.04266438366601249, 0.04266438366601249, 0.04266438366601249, 0.16055369153386947, 0.16055369153386947, 0.1675956134847821, 0.18034501407958836, 0.18034501407958836, 0.18539518052662698, 0.18539518052662698, 0.18539518052662698, 0.12710397743146457, 0.12710397743146457, 0.12710397743146457, 0.12710397743146457, 0.1915124127526346, 0.1915124127526346, 0.2499357831574183, 0.08396898001847114, 0.08396898001847114, 0.08396898001847114, 0.08396898001847114, 0.08396898001847114, 0.08396898001847114, 0.08396898001847114, 0.08396898001847114, 0.32224987440343106, 0.11348971049035292, 0.11348971049035292, 0.22697942098070584, 0.10039789821593993, 0.10039789821593993, 0.10039789821593993, 0.10039789821593993, 0.1217491032140087, 0.1217491032140087, 0.1217491032140087, 0.1217491032140087, 0.1217491032140087, 0.2591260584163272, 0.10931381128376631, 0.3279414338512989, 0.10931381128376631, 0.10931381128376631, 0.10931381128376631, 0.33215338445531745, 0.11071779481843916, 0.0698863348831908, 0.0698863348831908, 0.0698863348831908, 0.1397726697663816, 0.0698863348831908, 0.0698863348831908, 0.1397726697663816, 0.0698863348831908, 0.1397726697663816, 0.14191990450827524, 0.2838398090165505, 0.14191990450827524, 0.13537834802295434, 0.2707566960459087, 0.13537834802295434, 0.15802304293534242, 0.229203847525594, 0.229203847525594, 0.08735026246588631, 0.034940104986354525, 0.017470052493177263, 0.08735026246588631, 0.1397604199454181, 0.017470052493177263, 0.10482031495906358, 0.10482031495906358, 0.08735026246588631, 0.034940104986354525, 0.08735026246588631, 0.017470052493177263, 0.017470052493177263, 0.017470052493177263, 0.017470052493177263, 0.017470052493177263, 0.034940104986354525, 0.017470052493177263, 0.08661143054487866, 0.03464457221795147, 0.017322286108975734, 0.1039337166538544, 0.13857828887180587, 0.017322286108975734, 0.1039337166538544, 0.1039337166538544, 0.06928914443590294, 0.03464457221795147, 0.017322286108975734, 0.06928914443590294, 0.017322286108975734, 0.017322286108975734, 0.017322286108975734, 0.017322286108975734, 0.017322286108975734, 0.017322286108975734, 0.03464457221795147, 0.017322286108975734, 0.03502853191950576, 0.07005706383901152, 0.03502853191950576, 0.03502853191950576, 0.07005706383901152, 0.03502853191950576, 0.07005706383901152, 0.10508559575851727, 0.10508559575851727, 0.03502853191950576, 0.03502853191950576, 0.03502853191950576, 0.07005706383901152, 0.03502853191950576, 0.07005706383901152, 0.03502853191950576, 0.03612101545520087, 0.07224203091040174, 0.03612101545520087, 0.03612101545520087, 0.07224203091040174, 0.03612101545520087, 0.03612101545520087, 0.1083630463656026, 0.1083630463656026, 0.03612101545520087, 0.03612101545520087, 0.03612101545520087, 0.07224203091040174, 0.03612101545520087, 0.07224203091040174, 0.03612101545520087, 0.19101301149351618, 0.19943017125692766, 0.34441025283215826, 0.33283782398325107, 0.08017852631534098, 0.032071410526136386, 0.016035705263068193, 0.09621423157840917, 0.12828564210454554, 0.016035705263068193, 0.11224993684147735, 0.09621423157840917, 0.09621423157840917, 0.032071410526136386, 0.016035705263068193, 0.08017852631534098, 0.016035705263068193, 0.016035705263068193, 0.016035705263068193, 0.016035705263068193, 0.016035705263068193, 0.016035705263068193, 0.032071410526136386, 0.016035705263068193, 0.03371004234190942, 0.06742008468381884, 0.03371004234190942, 0.03371004234190942, 0.06742008468381884, 0.03371004234190942, 0.03371004234190942, 0.03371004234190942, 0.10113012702572825, 0.10113012702572825, 0.03371004234190942, 0.03371004234190942, 0.03371004234190942, 0.03371004234190942, 0.06742008468381884, 0.03371004234190942, 0.03371004234190942, 0.06742008468381884, 0.03371004234190942, 0.07549072806403154, 0.15098145612806307, 0.22647218419209464, 0.07549072806403154, 0.09729260156906559, 0.19458520313813119, 0.19458520313813119, 0.3887122803245754, 0.09717807008114385, 0.09717807008114385, 0.12088567520925161, 0.12088567520925161, 0.12088567520925161, 0.12088567520925161, 0.12088567520925161, 0.13370095941263205, 0.13370095941263205, 0.13370095941263205, 0.13370095941263205, 0.3963772135783801, 0.13212573785946005, 0.3800430230456026, 0.12668100768186752, 0.12668100768186752, 0.0869639250235742, 0.03478557000942968, 0.01739278500471484, 0.0869639250235742, 0.13914228003771872, 0.01739278500471484, 0.10435671002828903, 0.10435671002828903, 0.0869639250235742, 0.03478557000942968, 0.06957114001885936, 0.01739278500471484, 0.01739278500471484, 0.01739278500471484, 0.01739278500471484, 0.01739278500471484, 0.03478557000942968, 0.01739278500471484, 0.08671318691938214, 0.034685274767752856, 0.017342637383876428, 0.08671318691938214, 0.13874109907101143, 0.017342637383876428, 0.10405582430325858, 0.10405582430325858, 0.08671318691938214, 0.034685274767752856, 0.08671318691938214, 0.017342637383876428, 0.017342637383876428, 0.017342637383876428, 0.017342637383876428, 0.017342637383876428, 0.034685274767752856, 0.017342637383876428, 0.24414454869343086, 0.24414454869343086, 0.3490984464640685, 0.17384529540157062, 0.34769059080314124, 0.09631775003417158, 0.03210591667805719, 0.016052958339028596, 0.09631775003417158, 0.12842366671222877, 0.016052958339028596, 0.11237070837320018, 0.09631775003417158, 0.09631775003417158, 0.03210591667805719, 0.08026479169514299, 0.016052958339028596, 0.016052958339028596, 0.016052958339028596, 0.016052958339028596, 0.016052958339028596, 0.016052958339028596, 0.03210591667805719, 0.016052958339028596, 0.016052958339028596, 0.1866581360671183, 0.1866581360671183, 0.1866581360671183, 0.1131843055527907, 0.2263686111055814, 0.2263686111055814, 0.09509764750650869, 0.19019529501301738, 0.19019529501301738, 0.3904442921472743, 0.13014809738242478, 0.05822256245630125, 0.05822256245630125, 0.05822256245630125, 0.05822256245630125, 0.05822256245630125, 0.1164451249126025, 0.17466768736890376, 0.05822256245630125, 0.05822256245630125, 0.05822256245630125, 0.05822256245630125, 0.05800486612609879, 0.05800486612609879, 0.05800486612609879, 0.11600973225219759, 0.11600973225219759, 0.05800486612609879, 0.05800486612609879, 0.05800486612609879, 0.05800486612609879, 0.05800486612609879, 0.05800486612609879, 0.05261857463644957, 0.05261857463644957, 0.05261857463644957, 0.10523714927289914, 0.1578557239093487, 0.05261857463644957, 0.05261857463644957, 0.05261857463644957, 0.05261857463644957, 0.05261857463644957, 0.05261857463644957, 0.22183645097948934, 0.2063245640099044, 0.06807920688393632, 0.13615841376787263, 0.06807920688393632, 0.06807920688393632, 0.06807920688393632, 0.06807920688393632, 0.06807920688393632, 0.06807920688393632, 0.06807920688393632, 0.06807920688393632, 0.06807920688393632, 0.06807920688393632, 0.07127617090000159, 0.07127617090000159, 0.14255234180000317, 0.14255234180000317, 0.07127617090000159, 0.07127617090000159, 0.07127617090000159, 0.07127617090000159, 0.07127617090000159, 0.06415541696295242, 0.06415541696295242, 0.12831083392590484, 0.06415541696295242, 0.06415541696295242, 0.06415541696295242, 0.06415541696295242, 0.06415541696295242, 0.06415541696295242, 0.06415541696295242, 0.06627087243377285, 0.1325417448675457, 0.06627087243377285, 0.06627087243377285, 0.06627087243377285, 0.06627087243377285, 0.06627087243377285, 0.06627087243377285, 0.06627087243377285, 0.06627087243377285, 0.0647416761151445, 0.129483352230289, 0.129483352230289, 0.0647416761151445, 0.0647416761151445, 0.0647416761151445, 0.0647416761151445, 0.0647416761151445, 0.05950721925290364, 0.11901443850580729, 0.05950721925290364, 0.05950721925290364, 0.05950721925290364, 0.05950721925290364, 0.05950721925290364, 0.05950721925290364, 0.05950721925290364, 0.05950721925290364, 0.1536703680332359, 0.1536703680332359, 0.1536703680332359, 0.1536703680332359, 0.3996712444711244, 0.33503910753535454, 0.3312751270718219, 0.2007612300455299, 0.10038061502276495, 0.10038061502276495, 0.2007612300455299, 0.10038061502276495, 0.1701955179309274, 0.0850977589654637, 0.0850977589654637, 0.2552932768963911, 0.0850977589654637, 0.0850977589654637, 0.2997397613618728, 0.1498698806809364, 0.1966888088909088, 0.0983444044454544, 0.0983444044454544, 0.1966888088909088, 0.0983444044454544, 0.18345133593142904, 0.09172566796571452, 0.09172566796571452, 0.27517700389714356, 0.09172566796571452, 0.09172566796571452, 0.1691907820430779, 0.08459539102153894, 0.08459539102153894, 0.2537861730646168, 0.08459539102153894, 0.31615983075878895, 0.15807991537939448, 0.39172826937623834, 0.3108101374254518, 0.16743635407888235, 0.3348727081577647, 0.3011424896420994, 0.1505712448210497, 0.1354837139604426, 0.1354837139604426, 0.1354837139604426, 0.3145334964189531, 0.15726674820947656, 0.18649471845141372, 0.06216490615047124, 0.24865962460188495, 0.12432981230094248, 0.06216490615047124, 0.06216490615047124, 0.13664741828942747, 0.06832370914471374, 0.27329483657885495, 0.13664741828942747, 0.06832370914471374, 0.06832370914471374, 0.18944490633189387, 0.0631483021106313, 0.0631483021106313, 0.18944490633189387, 0.18944490633189387, 0.0631483021106313, 0.0631483021106313, 0.14064408472469173, 0.07032204236234586, 0.28128816944938345, 0.14064408472469173, 0.07032204236234586, 0.07032204236234586, 0.2001216267900918, 0.0667072089300306, 0.2001216267900918, 0.1334144178600612, 0.0667072089300306, 0.0667072089300306, 0.2523424540624467, 0.17336784957215076, 0.17336784957215076, 0.17336784957215076, 0.09125749018321558, 0.09125749018321558, 0.09125749018321558, 0.09125749018321558, 0.09125749018321558, 0.09125749018321558, 0.09125749018321558, 0.052157410027837296, 0.052157410027837296, 0.052157410027837296, 0.052157410027837296, 0.10431482005567459, 0.052157410027837296, 0.052157410027837296, 0.10431482005567459, 0.052157410027837296, 0.052157410027837296, 0.052157410027837296, 0.10431482005567459, 0.052157410027837296, 0.052157410027837296, 0.046403474991834996, 0.046403474991834996, 0.046403474991834996, 0.046403474991834996, 0.046403474991834996, 0.046403474991834996, 0.046403474991834996, 0.13921042497550498, 0.13921042497550498, 0.046403474991834996, 0.046403474991834996, 0.046403474991834996, 0.046403474991834996, 0.04976481445971635, 0.14929444337914904, 0.04976481445971635, 0.04976481445971635, 0.04976481445971635, 0.04976481445971635, 0.04976481445971635, 0.04976481445971635, 0.04976481445971635, 0.04976481445971635, 0.0995296289194327, 0.04976481445971635, 0.04976481445971635, 0.04976481445971635, 0.14581087107033117, 0.14581087107033117, 0.14581087107033117, 0.14581087107033117, 0.206593865613457, 0.24306257920628135, 0.1473426338727921, 0.1473426338727921, 0.1473426338727921, 0.1473426338727921, 0.34267227486422563, 0.17133613743211282, 0.04046041178648402, 0.08092082357296804, 0.04046041178648402, 0.08092082357296804, 0.04046041178648402, 0.04046041178648402, 0.04046041178648402, 0.08092082357296804, 0.08092082357296804, 0.04046041178648402, 0.04046041178648402, 0.04046041178648402, 0.04046041178648402, 0.04046041178648402, 0.17231014661797636, 0.24720050885466555, 0.2816702226793826, 0.16548099272265546, 0.16548099272265546, 0.22833125381963731, 0.18311941767936138, 0.274263759567252, 0.1808514671019736, 0.1808514671019736, 0.2216778221029256, 0.19841544125295424, 0.19841544125295424, 0.19841544125295424, 0.23740604304333884, 0.23740604304333884, 0.2180482163263746, 0.2180482163263746, 0.3620628670454194, 0.15352031168935243, 0.15352031168935243, 0.1311216520837419, 0.1311216520837419, 0.2622433041674838, 0.1311216520837419, 0.3382243863229543, 0.18751831117379342, 0.18751831117379342, 0.1953993992042143, 0.1953993992042143, 0.08456761992949188, 0.08456761992949188, 0.08456761992949188, 0.08456761992949188, 0.08456761992949188, 0.08456761992949188, 0.08456761992949188, 0.08880925441329558, 0.08880925441329558, 0.08880925441329558, 0.08880925441329558, 0.08880925441329558, 0.08880925441329558, 0.08880925441329558, 0.08880925441329558, 0.07754300616135495, 0.23262901848406486, 0.23262901848406486, 0.07754300616135495, 0.07754300616135495, 0.07754300616135495, 0.07754300616135495, 0.07666396465726592, 0.22999189397179776, 0.22999189397179776, 0.07666396465726592, 0.31088086893118444, 0.027843075414246833, 0.055686150828493666, 0.027843075414246833, 0.027843075414246833, 0.055686150828493666, 0.027843075414246833, 0.027843075414246833, 0.11137230165698733, 0.055686150828493666, 0.055686150828493666, 0.11137230165698733, 0.11137230165698733, 0.027843075414246833, 0.027843075414246833, 0.027843075414246833, 0.027843075414246833, 0.027843075414246833, 0.027843075414246833, 0.027843075414246833, 0.3085089884766936, 0.1542544942383468, 0.11024053858547993, 0.055120269292739964, 0.22048107717095985, 0.055120269292739964, 0.055120269292739964, 0.16536080787821988, 0.055120269292739964, 0.055120269292739964, 0.055120269292739964, 0.11800577155632401, 0.177008657334486, 0.059002885778162005, 0.177008657334486, 0.059002885778162005, 0.059002885778162005, 0.059002885778162005, 0.36111080519564176, 0.06319583182075307, 0.06319583182075307, 0.06319583182075307, 0.12639166364150614, 0.06319583182075307, 0.06319583182075307, 0.12639166364150614, 0.06319583182075307, 0.06319583182075307, 0.06319583182075307, 0.06319583182075307, 0.06319583182075307, 0.06974289175758262, 0.13948578351516525, 0.13948578351516525, 0.06974289175758262, 0.06974289175758262, 0.06974289175758262, 0.06974289175758262, 0.18775518629946633, 0.09387759314973317, 0.09387759314973317, 0.09387759314973317, 0.18775518629946633, 0.09387759314973317, 0.16930956779209982, 0.08465478389604991, 0.08465478389604991, 0.25396435168814974, 0.08465478389604991, 0.05249656384953099, 0.05249656384953099, 0.10499312769906198, 0.05249656384953099, 0.05249656384953099, 0.05249656384953099, 0.05249656384953099, 0.05249656384953099, 0.05249656384953099, 0.05249656384953099, 0.05249656384953099, 0.05249656384953099, 0.15329278687457232, 0.07664639343728616, 0.07664639343728616, 0.22993918031185848, 0.07664639343728616, 0.07664639343728616, 0.1376656301869025, 0.06883281509345125, 0.06883281509345125, 0.06883281509345125, 0.20649844528035377, 0.06883281509345125, 0.06883281509345125, 0.21280225946234246, 0.3646504267483645, 0.18232521337418225, 0.2721551423204403, 0.18812173534773466, 0.18812173534773466, 0.188787171477875, 0.20445329207377194, 0.2697592439184666, 0.23451242696429728, 0.22978563751432018, 0.22152151234947007, 0.22152151234947007, 0.28991954946481985, 0.2633209524920301, 0.2530612700926514, 0.20309935307108767, 0.24336914250114722, 0.26738687815460854, 0.2695948627202517, 0.20780101125589667, 0.20780101125589667, 0.218410956892159, 0.218410956892159, 0.39576411886074003, 0.109623954219145, 0.328871862657435, 0.109623954219145, 0.13319653774048298, 0.3995896132214489, 0.4050681820711218, 0.35493245722562716, 0.17746622861281358, 0.17746622861281358, 0.3696973830647365, 0.18484869153236824, 0.36636419325878045, 0.07929575822930889, 0.31718303291723554, 0.07929575822930889, 0.07929575822930889, 0.07929575822930889, 0.49360188136403815, 0.3654384425866216, 0.3462318538679222, 0.13306444916534324, 0.3991933474960297, 0.35657162841045975, 0.2875448361675133, 0.14377241808375665, 0.21871130915460124, 0.23744167317341666, 0.20377622623744895, 0.22892711087556064, 0.24733547723588928, 0.21288897276286423, 0.21288897276286423, 0.2313079217220611, 0.29846979716009536, 0.25965620037559, 0.1836849815348549, 0.2237682427288633, 0.22673146988707954, 0.18434037249712176, 0.20404177730356, 0.20867222719952805, 0.20867222719952805, 0.19905376638118902, 0.22645806446650443, 0.18743935013576826, 0.18743935013576826, 0.23926658013954435, 0.23926658013954435, 0.22360631571570136, 0.1845460974068806, 0.1845460974068806, 0.18940425765826296, 0.18940425765826296, 0.25677504636654946, 0.1966500813936804, 0.21368749797802764, 0.21437442834843642, 0.21437442834843642, 0.21437442834843642, 0.21480675440320218, 0.23203571739732057, 0.20712596160953567, 0.22861835634421293, 0.18784952680362663, 0.18784952680362663, 0.3099838217902977, 0.38054071290313013, 0.12684690430104337, 0.4187682279119426, 0.1395894093039809, 0.4205288158179598, 0.14017627193931992, 0.41788085065536407, 0.10447021266384102, 0.4378507539079661, 0.14595025130265535, 0.3030176273068051, 0.10100587576893504, 0.10100587576893504, 0.40746999097466224, 0.13582333032488741, 0.4223553841683285, 0.10558884604208213, 0.11995220969072025, 0.35985662907216076, 0.11995220969072025, 0.11995220969072025, 0.1994145298065934, 0.1994145298065934, 0.1749203514981392, 0.23607377941201707, 0.23607377941201707, 0.1385697468176654, 0.1385697468176654, 0.1385697468176654, 0.23842655507885321, 0.24331216126279298, 0.24331216126279298, 0.2106171979070126, 0.25522441825975667, 0.19059036963142822, 0.19454825833586464, 0.15200726445538787, 0.19672039715320502, 0.19672039715320502, 0.16072757609427807, 0.16072757609427807, 0.16072757609427807, 0.20663176588973736, 0.18094279286560747, 0.18094279286560747, 0.21451801406416324, 0.1770539267196776, 0.1770539267196776, 0.1770539267196776, 0.16556171828814437, 0.16556171828814437, 0.16556171828814437, 0.16648867129495132, 0.16648867129495132, 0.22325104350133695, 0.13284401015522107, 0.26568802031044214, 0.11270085264234161, 0.11270085264234161, 0.11270085264234161, 0.05635042632117081, 0.22540170528468323, 0.1690512789635124, 0.05635042632117081, 0.05635042632117081, 0.2783642767083936, 0.13140999099380746, 0.08760666066253829, 0.08760666066253829, 0.043803330331269145, 0.17521332132507658, 0.13140999099380746, 0.043803330331269145, 0.043803330331269145, 0.043803330331269145, 0.043803330331269145, 0.1879295247739938, 0.1879295247739938, 0.18019417320805503, 0.18019417320805503, 0.19477315865187134, 0.19477315865187134, 0.13957385595458838, 0.13957385595458838, 0.13957385595458838, 0.2311840590920899, 0.14028592628712594, 0.14028592628712594, 0.14028592628712594, 0.10859796587322074, 0.10859796587322074, 0.10859796587322074, 0.05429898293661037, 0.21719593174644147, 0.10859796587322074, 0.05429898293661037, 0.05429898293661037, 0.10660549887551424, 0.10660549887551424, 0.10660549887551424, 0.05330274943775712, 0.21321099775102847, 0.10660549887551424, 0.05330274943775712, 0.05330274943775712, 0.05330274943775712, 0.11956498337490216, 0.03985499445830072, 0.03985499445830072, 0.07970998891660144, 0.07970998891660144, 0.03985499445830072, 0.1992749722915036, 0.11956498337490216, 0.03985499445830072, 0.03985499445830072, 0.03985499445830072, 0.03985499445830072, 0.2532577258019415, 0.2532577258019415, 0.21824058322188328, 0.08092905787797133, 0.242787173633914, 0.242787173633914, 0.08092905787797133, 0.08092905787797133, 0.08014947349486164, 0.2404484204845849, 0.2404484204845849, 0.08014947349486164, 0.08014947349486164, 0.02828511013451619, 0.05657022026903238, 0.02828511013451619, 0.02828511013451619, 0.05657022026903238, 0.02828511013451619, 0.02828511013451619, 0.11314044053806475, 0.05657022026903238, 0.05657022026903238, 0.11314044053806475, 0.11314044053806475, 0.02828511013451619, 0.02828511013451619, 0.02828511013451619, 0.02828511013451619, 0.02828511013451619, 0.02828511013451619, 0.02828511013451619, 0.02828511013451619, 0.05770873326563046, 0.23083493306252184, 0.05770873326563046, 0.23083493306252184, 0.05770873326563046, 0.05770873326563046, 0.05770873326563046, 0.05770873326563046, 0.1225316463247583, 0.06126582316237915, 0.2450632926495166, 0.06126582316237915, 0.18379746948713746, 0.06126582316237915, 0.06126582316237915, 0.06126582316237915, 0.06126582316237915, 0.29287741243963433, 0.3720288403241268, 0.20699496162895542, 0.15622957017510314, 0.07811478508755157, 0.07811478508755157, 0.2343443552626547, 0.07811478508755157, 0.07811478508755157, 0.15474925383205704, 0.07737462691602852, 0.07737462691602852, 0.23212388074808554, 0.07737462691602852, 0.07737462691602852, 0.14893800613080915, 0.07446900306540458, 0.07446900306540458, 0.07446900306540458, 0.2234070091962137, 0.07446900306540458, 0.07446900306540458, 0.07898112431808753, 0.23694337295426257, 0.23694337295426257, 0.07898112431808753, 0.07898112431808753, 0.0748662615653252, 0.0748662615653252, 0.22459878469597563, 0.22459878469597563, 0.0748662615653252, 0.0748662615653252, 0.028908149890036892, 0.057816299780073785, 0.028908149890036892, 0.028908149890036892, 0.028908149890036892, 0.057816299780073785, 0.028908149890036892, 0.028908149890036892, 0.11563259956014757, 0.057816299780073785, 0.057816299780073785, 0.11563259956014757, 0.11563259956014757, 0.028908149890036892, 0.028908149890036892, 0.028908149890036892, 0.028908149890036892, 0.028908149890036892, 0.028908149890036892, 0.028908149890036892, 0.028908149890036892, 0.058453335989535386, 0.058453335989535386, 0.23381334395814155, 0.058453335989535386, 0.23381334395814155, 0.058453335989535386, 0.058453335989535386, 0.058453335989535386, 0.12325861252650423, 0.061629306263252116, 0.24651722505300847, 0.061629306263252116, 0.18488791878975636, 0.061629306263252116, 0.061629306263252116, 0.3979537880208175, 0.16485879076238247, 0.08242939538119123, 0.08242939538119123, 0.2472881861435737, 0.08242939538119123, 0.2290182982067079, 0.15113195475036462, 0.07556597737518231, 0.07556597737518231, 0.22669793212554692, 0.07556597737518231, 0.07556597737518231, 0.140921584135349, 0.0704607920676745, 0.0704607920676745, 0.0704607920676745, 0.21138237620302353, 0.0704607920676745, 0.0704607920676745, 0.22214464449018043, 0.15745553468236131, 0.15745553468236131, 0.24118203929347085, 0.15629220753410514, 0.15629220753410514, 0.15629220753410514, 0.17098868918987045, 0.21502988444573037, 0.14305027247137353, 0.28610054494274706, 0.1463842339413888, 0.1463842339413888, 0.1463842339413888, 0.1341736885642714, 0.1341736885642714, 0.1341736885642714, 0.15319940109425836, 0.15319940109425836, 0.15319940109425836, 0.15319940109425836, 0.16624483391540695, 0.2493672508731104, 0.08312241695770348, 0.08312241695770348, 0.08312241695770348, 0.08312241695770348, 0.08312241695770348, 0.24984593015411602, 0.1301525841331575, 0.260305168266315, 0.1301525841331575, 0.13198638208604901, 0.26397276417209803, 0.12975290438910206, 0.12975290438910206, 0.2595058087782041, 0.10706549824433471, 0.21413099648866943, 0.3044420855493807, 0.12681905991341294, 0.2536381198268259, 0.27464680273721603, 0.40002602811260785, 0.30219858226838564, 0.14260597439988365, 0.2852119487997673, 0.2235281909875432, 0.28766160865220086, 0.34021240045220935, 0.19877420023013623, 0.19877420023013623, 0.2017113295909004, 0.299987357187976, 0.24732255414350002, 0.23964246676663298, 0.1225049401179064, 0.1225049401179064, 0.1225049401179064, 0.1225049401179064, 0.13422187677882405, 0.13422187677882405, 0.3085912115060787, 0.19095968506488356, 0.23126850446492156, 0.16380234431347335, 0.1530037656269814, 0.1530037656269814, 0.1530037656269814, 0.1530037656269814, 0.16531704592634894, 0.16531704592634894, 0.16531704592634894, 0.1659517299508845, 0.1659517299508845, 0.1659517299508845, 0.2612833228506365, 0.23511299993071808, 0.19143769746152262, 0.22038318976187452, 0.22038318976187452, 0.21985476356852107, 0.27328466951264774, 0.25326816496661864, 0.12801634609849688, 0.12801634609849688, 0.12801634609849688, 0.12801634609849688, 0.273178493472336, 0.045529748912056, 0.045529748912056, 0.091059497824112, 0.045529748912056, 0.045529748912056, 0.136589246736168, 0.045529748912056, 0.045529748912056, 0.3029729402411705, 0.05049549004019508, 0.05049549004019508, 0.05049549004019508, 0.10099098008039016, 0.05049549004019508, 0.05049549004019508, 0.15148647012058525, 0.05049549004019508, 0.05049549004019508, 0.18778789702072718, 0.2027664067315216, 0.2027664067315216, 0.2027664067315216, 0.4935462469971861, 0.09870924939943722, 0.427843762407737, 0.10696094060193426, 0.10696094060193426, 0.28880212590950544, 0.04813368765158424, 0.09626737530316848, 0.04813368765158424, 0.04813368765158424, 0.04813368765158424, 0.14440106295475272, 0.04813368765158424, 0.04813368765158424, 0.04813368765158424, 0.2998372828367552, 0.04997288047279253, 0.1499186414183776, 0.04997288047279253, 0.04997288047279253, 0.1499186414183776, 0.04997288047279253, 0.04997288047279253, 0.04997288047279253, 0.30738877146042276, 0.051231461910070455, 0.051231461910070455, 0.15369438573021138, 0.051231461910070455, 0.051231461910070455, 0.15369438573021138, 0.051231461910070455, 0.051231461910070455, 0.18922028223098988, 0.18922028223098988, 0.3190940302909077, 0.15954701514545386, 0.1405735122317612, 0.2811470244635224, 0.29335094186650584, 0.04889182364441764, 0.04889182364441764, 0.14667547093325292, 0.04889182364441764, 0.04889182364441764, 0.14667547093325292, 0.04889182364441764, 0.04889182364441764, 0.3082910109890311, 0.05138183516483852, 0.05138183516483852, 0.05138183516483852, 0.05138183516483852, 0.15414550549451556, 0.05138183516483852, 0.05138183516483852, 0.15414550549451556, 0.05138183516483852, 0.5081726677455805, 0.10163453354911609, 0.4121727914143692, 0.1030431978535923, 0.30320774107524445, 0.05053462351254075, 0.05053462351254075, 0.1010692470250815, 0.05053462351254075, 0.05053462351254075, 0.15160387053762223, 0.05053462351254075, 0.2940388949081047, 0.049006482484684116, 0.049006482484684116, 0.049006482484684116, 0.049006482484684116, 0.09801296496936823, 0.049006482484684116, 0.049006482484684116, 0.14701944745405235, 0.049006482484684116, 0.3172334347290577, 0.052872239121509616, 0.10574447824301923, 0.052872239121509616, 0.052872239121509616, 0.15861671736452884, 0.052872239121509616, 0.36669996012278877, 0.31210478480121495, 0.15605239240060748, 0.2919454986808658, 0.1459727493404329, 0.3513570390443544, 0.37686038114116927, 0.29759111255400233, 0.14879555627700117, 0.13791867450556844, 0.13791867450556844, 0.13791867450556844, 0.13791867450556844, 0.38392381144957427, 0.33810872646192625, 0.1895420778140483, 0.20004469552375428, 0.10061383085407878, 0.10061383085407878, 0.10061383085407878, 0.10061383085407878, 0.10061383085407878, 0.10061383085407878, 0.1866856791735775, 0.1866856791735775, 0.1598156143413839, 0.1598156143413839, 0.1598156143413839, 0.18087254131234237, 0.18087254131234237, 0.22794981357486388, 0.08327697090854813, 0.041638485454274066, 0.041638485454274066, 0.12491545636282218, 0.08327697090854813, 0.08327697090854813, 0.08327697090854813, 0.08327697090854813, 0.041638485454274066, 0.041638485454274066, 0.041638485454274066, 0.041638485454274066, 0.3001836121730322, 0.18352075550903207, 0.18352075550903207, 0.18352075550903207, 0.24632553762951806, 0.17337783742953305, 0.17337783742953305, 0.2155438701436679, 0.17841659995658374, 0.17841659995658374, 0.17841659995658374, 0.2017001980689232, 0.1963435232643744, 0.2517684067107466, 0.13825737633877344, 0.13825737633877344, 0.13825737633877344, 0.3610087119999321, 0.1203362373333107, 0.1203362373333107, 0.3549079205388421, 0.11830264017961405, 0.11830264017961405, 0.11830264017961405, 0.11830264017961405, 0.35972452314291375, 0.11990817438097126, 0.11990817438097126, 0.3936327299945898, 0.1968163649972949, 0.1891797891618237, 0.22647284559139405, 0.061439236462992035, 0.061439236462992035, 0.12287847292598407, 0.1843177093889761, 0.061439236462992035, 0.12287847292598407, 0.12287847292598407, 0.061439236462992035, 0.3243819397997735, 0.23529224306707783, 0.12679678264308816, 0.12679678264308816, 0.12679678264308816, 0.12679678264308816, 0.12679678264308816, 0.12679678264308816, 0.15377366782891377, 0.15377366782891377, 0.15377366782891377, 0.14684363764679617, 0.14684363764679617, 0.14684363764679617, 0.17057305602044892, 0.17057305602044892, 0.17057305602044892, 0.14652116384260383, 0.14652116384260383, 0.14652116384260383, 0.1527002442676102, 0.1527002442676102, 0.1527002442676102, 0.25431409793770865, 0.09230252286961116, 0.09230252286961116, 0.09230252286961116, 0.09230252286961116, 0.09230252286961116, 0.09230252286961116, 0.19373674285458908, 0.25188895290041247, 0.17059266334578543, 0.13457136906735837, 0.13457136906735837, 0.13457136906735837, 0.16602621208813112, 0.16602621208813112, 0.10392604675049028, 0.20785209350098055, 0.10392604675049028, 0.10392604675049028, 0.28065796481175675, 0.22008451783113078, 0.09990139849648659, 0.19980279699297318, 0.09990139849648659, 0.09990139849648659, 0.09990139849648659, 0.2126470027408674, 0.11942891815049002, 0.35828675445147007, 0.11942891815049002, 0.11942891815049002, 0.057758806630608686, 0.057758806630608686, 0.17327641989182607, 0.057758806630608686, 0.057758806630608686, 0.057758806630608686, 0.11551761326121737, 0.057758806630608686, 0.057758806630608686, 0.11551761326121737, 0.13551871302855634, 0.2710374260571127, 0.13551871302855634, 0.09898164321425078, 0.19796328642850156, 0.09898164321425078, 0.19796328642850156, 0.09898164321425078, 0.09286730158512978, 0.18573460317025955, 0.09286730158512978, 0.2786019047553893, 0.09286730158512978, 0.20833044245450685, 0.20833044245450685, 0.07780059659579644, 0.07780059659579644, 0.15560119319159288, 0.07780059659579644, 0.15560119319159288, 0.07780059659579644, 0.15560119319159288, 0.09752381919756861, 0.09752381919756861, 0.2925714575927058, 0.09752381919756861, 0.0965186715592805, 0.0965186715592805, 0.0965186715592805, 0.193037343118561, 0.0965186715592805, 0.10268323093685736, 0.10268323093685736, 0.10268323093685736, 0.3080496928105721, 0.10268323093685736, 0.15189953886601273, 0.15189953886601273, 0.23334077789910768, 0.23334077789910768, 0.21770033799684133, 0.19306403194174002, 0.21247854427496615, 0.18976095884429933, 0.18976095884429933, 0.18976095884429933, 0.25961551237194624, 0.2198435166482251, 0.2293325220829547, 0.2113212918753778, 0.27246509626009335, 0.09082169875336445, 0.09082169875336445, 0.09082169875336445, 0.09082169875336445, 0.09082169875336445, 0.09082169875336445, 0.09082169875336445, 0.15960160853574837, 0.15960160853574837, 0.196336548843901, 0.20890343775871723, 0.20890343775871723, 0.39216328254960386, 0.2443958953602646, 0.17231635904594106, 0.17231635904594106, 0.1651066540707858, 0.2476599811061787, 0.0825533270353929, 0.0825533270353929, 0.0825533270353929, 0.0825533270353929, 0.11429921483097516, 0.3428976444929255, 0.11429921483097516, 0.11429921483097516, 0.15079041339455887, 0.22618562009183832, 0.07539520669727943, 0.07539520669727943, 0.07539520669727943, 0.07539520669727943, 0.07539520669727943, 0.2264011640323183, 0.11991950547114841, 0.11991950547114841, 0.11991950547114841, 0.23669713638522105, 0.2681071084970211, 0.23816244797417743, 0.24131729596743534, 0.24131729596743534, 0.1370052582463413, 0.1370052582463413, 0.1370052582463413, 0.1370052582463413, 0.15211268086225177, 0.3686543385945657, 0.33245435161835757, 0.23011104756618, 0.1895879215801074, 0.1895879215801074, 0.1895879215801074, 0.21206105980260354, 0.37688466488286776, 0.21552871882343214, 0.20830603254417285, 0.20830603254417285, 0.20746991378801785, 0.20376090516812953, 0.34176720227509355, 0.1164117923699688, 0.1164117923699688, 0.1164117923699688, 0.1164117923699688, 0.1164117923699688, 0.1164117923699688, 0.1008882531742408, 0.1008882531742408, 0.1008882531742408, 0.1008882531742408, 0.1008882531742408, 0.1008882531742408, 0.1008882531742408, 0.09845990325523482, 0.09845990325523482, 0.09845990325523482, 0.09845990325523482, 0.09845990325523482, 0.09845990325523482, 0.10930911333672615, 0.10930911333672615, 0.10930911333672615, 0.10930911333672615, 0.10930911333672615, 0.10930911333672615, 0.09977704808433417, 0.09977704808433417, 0.09977704808433417, 0.09977704808433417, 0.09977704808433417, 0.09977704808433417, 0.10082763388949971, 0.10082763388949971, 0.10082763388949971, 0.10082763388949971, 0.10082763388949971, 0.10082763388949971, 0.10082763388949971, 0.24834066939481306, 0.22521345562701325, 0.05436258318665884, 0.05436258318665884, 0.05436258318665884, 0.05436258318665884, 0.05436258318665884, 0.05436258318665884, 0.05436258318665884, 0.10872516637331768, 0.05436258318665884, 0.05436258318665884, 0.05436258318665884, 0.10872516637331768, 0.05436258318665884, 0.05436258318665884, 0.20885686530771516, 0.20885686530771516, 0.20055114444026076, 0.2271339673664304, 0.21447920578139223, 0.05426755399094233, 0.05426755399094233, 0.05426755399094233, 0.05426755399094233, 0.05426755399094233, 0.05426755399094233, 0.05426755399094233, 0.10853510798188466, 0.05426755399094233, 0.05426755399094233, 0.10853510798188466, 0.05426755399094233, 0.05426755399094233, 0.21553323931366702, 0.21553323931366702, 0.18202531328376922, 0.18202531328376922, 0.14828451593203795, 0.2965690318640759, 0.20784491733197727, 0.19760810512427893, 0.16702434512551256, 0.27896840981425164, 0.13948420490712582, 0.1668541656167202, 0.17612457522895447, 0.26511205850965547, 0.2736353027639737, 0.25311316406434536, 0.2159491408156014, 0.22076251179011552, 0.24571750154278657, 0.21457104592323137, 0.2048835988659998, 0.08004151270957369, 0.32016605083829475, 0.08004151270957369, 0.08004151270957369, 0.08004151270957369, 0.08004151270957369, 0.118102297717867, 0.35430689315360103, 0.118102297717867, 0.5541930127164546, 0.44506396650204855, 0.11126599162551214, 0.11126599162551214, 0.3816265613997073, 0.12720885379990243, 0.5248707402831635, 0.42754201591721214, 0.2249797748840369, 0.21108750855138414, 0.21108750855138414, 0.21021825479493386, 0.10510912739746693, 0.3153273821924008, 0.10510912739746693, 0.10510912739746693, 0.2499801987135547, 0.111155515923789, 0.222311031847578, 0.111155515923789, 0.222311031847578, 0.29930310832832463, 0.19613676170420963, 0.09806838085210481, 0.29420514255631447, 0.09806838085210481, 0.08986453915936403, 0.17972907831872806, 0.08986453915936403, 0.17972907831872806, 0.08986453915936403, 0.08986453915936403, 0.3236307333834188, 0.28940344864080514, 0.17368374177688678, 0.17368374177688678, 0.11646566173638266, 0.11646566173638266, 0.11646566173638266, 0.21267645394348317, 0.1972614434545277, 0.1972614434545277, 0.16662044134599524, 0.16662044134599524, 0.20689333171630211, 0.21840715479202497, 0.22876141488278837, 0.19342083753264955, 0.20624514050772882, 0.20624514050772882, 0.23539340509312587, 0.23919025629586094, 0.20979110402528123, 0.22421005192831836, 0.22421005192831836, 0.2329981484085991, 0.21648422408926488, 0.2218062868538241, 0.19532184277887193, 0.25679443302775773, 0.12899281817149322, 0.25798563634298644, 0.12899281817149322, 0.23940983454482911, 0.23940983454482911, 0.2091465087274147, 0.18628433690072158, 0.24774660671758686, 0.24774660671758686, 0.18539127603879457, 0.18577498570572018, 0.18577498570572018, 0.17342404841865283, 0.17342404841865283, 0.21368982227456748, 0.21368982227456748, 0.15087977552164045, 0.15087977552164045, 0.3836997451884125, 0.19252943591839117, 0.380529496171203, 0.4403403500556634, 0.3542341055520987, 0.2956497325225882, 0.43645733870208236, 0.41177528216459025, 0.10294382054114756, 0.31407702486381955, 0.1046923416212732, 0.1046923416212732, 0.34998036876307537, 0.11666012292102512, 0.3842799041962264, 0.12809330139874212, 0.12809330139874212, 0.5171951483923363, 0.12929878709808407, 0.3841623079671832, 0.5839885387481635, 0.3470618224244888, 0.3605008282301311, 0.5439708609058358, 0.18485199821833034, 0.18485199821833034, 0.18485199821833034, 0.19054194489731802, 0.19054194489731802, 0.24086923443428546, 0.18508275565625767, 0.20612291502727956, 0.19646905672001302, 0.2013519245617612, 0.29292698498749903, 0.13009374219253064, 0.2601874843850613, 0.14545585351180504, 0.2909117070236101, 0.14380197584103785, 0.2876039516820757, 0.14380197584103785, 0.14727221239901556, 0.2945444247980311, 0.1368941143813295, 0.1368941143813295, 0.273788228762659, 0.1410300118556119, 0.2820600237112238, 0.16917972136903994, 0.16917972136903994, 0.16917972136903994, 0.14139486933499495, 0.14139486933499495, 0.2827897386699899, 0.18887570588645722, 0.18887570588645722, 0.23844228821588712, 0.2919868652496755, 0.048664477541612586, 0.048664477541612586, 0.048664477541612586, 0.048664477541612586, 0.14599343262483774, 0.048664477541612586, 0.048664477541612586, 0.14599343262483774, 0.048664477541612586, 0.2927054152712057, 0.04878423587853428, 0.04878423587853428, 0.04878423587853428, 0.14635270763560285, 0.04878423587853428, 0.04878423587853428, 0.14635270763560285, 0.04878423587853428, 0.04878423587853428, 0.403276629914265, 0.10081915747856625, 0.10081915747856625, 0.42425441771681754, 0.10606360442920439, 0.10606360442920439, 0.1384358282934116, 0.1384358282934116, 0.1332513171425091, 0.17766842285667878, 0.044417105714169694, 0.022208552857084847, 0.022208552857084847, 0.1332513171425091, 0.022208552857084847, 0.044417105714169694, 0.022208552857084847, 0.044417105714169694, 0.044417105714169694, 0.022208552857084847, 0.044417105714169694, 0.06662565857125455, 0.022208552857084847, 0.022208552857084847, 0.022208552857084847, 0.022208552857084847, 0.022208552857084847, 0.022208552857084847, 0.1359268828952301, 0.18123584386030683, 0.04530896096507671, 0.022654480482538354, 0.022654480482538354, 0.1359268828952301, 0.022654480482538354, 0.022654480482538354, 0.04530896096507671, 0.06796344144761506, 0.04530896096507671, 0.022654480482538354, 0.04530896096507671, 0.06796344144761506, 0.022654480482538354, 0.022654480482538354, 0.022654480482538354, 0.022654480482538354, 0.022654480482538354, 0.1364617093821897, 0.18194894584291962, 0.022743618230364953, 0.022743618230364953, 0.1364617093821897, 0.045487236460729906, 0.022743618230364953, 0.045487236460729906, 0.045487236460729906, 0.022743618230364953, 0.045487236460729906, 0.06823085469109486, 0.022743618230364953, 0.022743618230364953, 0.022743618230364953, 0.022743618230364953, 0.022743618230364953, 0.022743618230364953, 0.22274934690688483, 0.11137467345344242, 0.22274934690688483, 0.11137467345344242, 0.23991185666942572, 0.23991185666942572, 0.11995592833471286, 0.24880575909648278, 0.2947818136431493, 0.14739090682157466, 0.2798756546846764, 0.38881062424458573, 0.23328637454675147, 0.07776212484891715, 0.07776212484891715, 0.2933329002011759, 0.21999967515088192, 0.07333322505029398, 0.07333322505029398, 0.04456231533797718, 0.04456231533797718, 0.08912463067595436, 0.04456231533797718, 0.08912463067595436, 0.04456231533797718, 0.13368694601393155, 0.04456231533797718, 0.04456231533797718, 0.04456231533797718, 0.04456231533797718, 0.04456231533797718, 0.08912463067595436, 0.04096316991404123, 0.1228895097421237, 0.04096316991404123, 0.04096316991404123, 0.08192633982808246, 0.08192633982808246, 0.04096316991404123, 0.04096316991404123, 0.04096316991404123, 0.04096316991404123, 0.04096316991404123, 0.04096316991404123, 0.04096316991404123, 0.04096316991404123, 0.08192633982808246, 0.04096316991404123, 0.04096316991404123, 0.19679063810407788, 0.19679063810407788, 0.10712565709959268, 0.10712565709959268, 0.10712565709959268, 0.10712565709959268, 0.10712565709959268, 0.15582052221543455, 0.15582052221543455, 0.11579188363284942, 0.11579188363284942, 0.11579188363284942, 0.14802549153226133, 0.14802549153226133, 0.14802549153226133, 0.14802549153226133, 0.13163820963220924, 0.13163820963220924, 0.13163820963220924, 0.18444636192811206, 0.07377854477124482, 0.03688927238562241, 0.07377854477124482, 0.03688927238562241, 0.03688927238562241, 0.03688927238562241, 0.03688927238562241, 0.03688927238562241, 0.03688927238562241, 0.03688927238562241, 0.03688927238562241, 0.03688927238562241, 0.03688927238562241, 0.03688927238562241, 0.03688927238562241, 0.052043439011033456, 0.20817375604413382, 0.052043439011033456, 0.052043439011033456, 0.052043439011033456, 0.10408687802206691, 0.052043439011033456, 0.052043439011033456, 0.052043439011033456, 0.052043439011033456, 0.4464083142559198, 0.10542610253853198, 0.10542610253853198, 0.10542610253853198, 0.05271305126926599, 0.21085220507706395, 0.10542610253853198, 0.05271305126926599, 0.05271305126926599, 0.05271305126926599, 0.11587534226494674, 0.3476260267948402, 0.11587534226494674, 0.1264350738304629, 0.08429004922030861, 0.08429004922030861, 0.042145024610154305, 0.16858009844061722, 0.1264350738304629, 0.042145024610154305, 0.042145024610154305, 0.042145024610154305, 0.042145024610154305, 0.12846391541187574, 0.12846391541187574, 0.12846391541187574, 0.09696989128794446, 0.09696989128794446, 0.2909096738638334, 0.09696989128794446, 0.09696989128794446, 0.23817659077103803, 0.11908829538551902, 0.11908829538551902, 0.11908829538551902, 0.12677824259823206, 0.12677824259823206, 0.12677824259823206, 0.12677824259823206, 0.11767850533590553, 0.11767850533590553, 0.19964417136042303, 0.19964417136042303, 0.19964417136042303, 0.21430372353946905, 0.10715186176973453, 0.10715186176973453, 0.10715186176973453, 0.21901253569488652, 0.10950626784744326, 0.10950626784744326, 0.10950626784744326, 0.10950626784744326, 0.1876333227212477, 0.09381666136062385, 0.09381666136062385, 0.1876333227212477, 0.09381666136062385, 0.2035411127455087, 0.10177055637275435, 0.10177055637275435, 0.10177055637275435, 0.10177055637275435, 0.18169701033875169, 0.09084850516937584, 0.09084850516937584, 0.09084850516937584, 0.09084850516937584, 0.09084850516937584, 0.09084850516937584, 0.13289937264426915, 0.13289937264426915, 0.13289937264426915, 0.13289937264426915, 0.16658675920038638, 0.16658675920038638, 0.15081212091106388, 0.15081212091106388, 0.15472875976863704, 0.15472875976863704, 0.24161698484098457, 0.14625199629355679, 0.14625199629355679, 0.14625199629355679, 0.205891291504993, 0.22536351162360163, 0.22536351162360163, 0.19548421070295022, 0.18043558010608984, 0.18043558010608984, 0.181621372433632, 0.181621372433632, 0.4712703750657722, 0.15143066334892036, 0.15143066334892036, 0.16096905724368402, 0.16096905724368402, 0.2272470832302111, 0.1415597298984109, 0.1415597298984109, 0.1415597298984109, 0.13715240097268175, 0.13715240097268175, 0.11784731388676614, 0.11784731388676614, 0.11784731388676614, 0.14868518156559696, 0.14868518156559696, 0.19722531924712386, 0.19722531924712386, 0.1650641243727283, 0.21732347388431197, 0.3022928339088833, 0.22849999625808748, 0.2107595935482893, 0.1190370826393685, 0.1190370826393685, 0.1190370826393685, 0.1190370826393685, 0.1190370826393685, 0.1190370826393685, 0.15037822769795373, 0.15037822769795373, 0.1653231829299008, 0.1653231829299008, 0.1653231829299008, 0.15887380678352425, 0.31361886509045217, 0.1874020970592265, 0.1870732382375903, 0.14270002229618395, 0.14270002229618395, 0.12396759138261544, 0.12396759138261544, 0.12396759138261544, 0.14358768766844132, 0.14358768766844132, 0.14358768766844132, 0.197094595262847, 0.197094595262847, 0.19047868298120402, 0.19031527296834594, 0.211204378834356, 0.211204378834356, 0.21344513821831443, 0.2564385296334469, 0.34322388911517115, 0.4489720059777104, 0.13412833284327813, 0.13412833284327813, 0.26825666568655626, 0.13412833284327813, 0.16557486959044898, 0.16557486959044898, 0.3674416473602334, 0.05249166390860477, 0.10498332781720954, 0.05249166390860477, 0.05249166390860477, 0.05249166390860477, 0.10498332781720954, 0.05249166390860477, 0.05249166390860477, 0.05249166390860477, 0.09667432856200354, 0.3383601499670124, 0.04833716428100177, 0.09667432856200354, 0.04833716428100177, 0.04833716428100177, 0.09667432856200354, 0.04833716428100177, 0.04833716428100177, 0.04833716428100177, 0.3318335017140562, 0.04740478595915088, 0.09480957191830176, 0.04740478595915088, 0.04740478595915088, 0.04740478595915088, 0.09480957191830176, 0.04740478595915088, 0.04740478595915088, 0.04740478595915088, 0.04740478595915088, 0.4276077965757815, 0.10690194914394538, 0.10690194914394538, 0.2471418965938585, 0.12357094829692924, 0.16864179439481178, 0.41232769591918744, 0.13744256530639581, 0.44949181468678673, 0.11237295367169668, 0.13031124844714925, 0.2606224968942985, 0.13031124844714925, 0.14034864427281069, 0.28069728854562137, 0.14034864427281069, 0.13736972283587237, 0.13736972283587237, 0.39215218679355324, 0.1307173955978511, 0.4134258666112959, 0.10335646665282397, 0.10335646665282397, 0.34703138466420924, 0.11567712822140308, 0.4108051617867506, 0.10270129044668765, 0.10270129044668765, 0.10270129044668765, 0.5396205414153808, 0.1349051353538452, 0.39310592987950016, 0.17151039679612637, 0.17151039679612637, 0.17151039679612637, 0.4493222975803568, 0.2090730969458392, 0.1422144468402852, 0.2844288936805704, 0.12375958411694782, 0.12375958411694782, 0.12375958411694782, 0.24751916823389564, 0.12190334809106701, 0.12190334809106701, 0.24380669618213402, 0.13880777168517103, 0.27761554337034205, 0.3107488002820323, 0.2625400104258478, 0.15170815961293554, 0.3034163192258711, 0.17332771266758823, 0.17332771266758823, 0.17332771266758823, 0.2856780910225882, 0.047613015170431365, 0.047613015170431365, 0.1428390455112941, 0.047613015170431365, 0.047613015170431365, 0.1428390455112941, 0.047613015170431365, 0.3088741672022941, 0.05147902786704902, 0.05147902786704902, 0.05147902786704902, 0.15443708360114705, 0.05147902786704902, 0.05147902786704902, 0.15443708360114705, 0.05147902786704902, 0.3410340149253006, 0.12558075178101602, 0.12558075178101602, 0.12558075178101602, 0.12558075178101602, 0.4137875920968219, 0.10344689802420548, 0.48423870691865906, 0.09684774138373181, 0.15400601982143605, 0.15400601982143605, 0.15400601982143605, 0.15400601982143605, 0.12642550355847107, 0.16856733807796143, 0.042141834519490357, 0.021070917259745178, 0.021070917259745178, 0.10535458629872589, 0.042141834519490357, 0.021070917259745178, 0.021070917259745178, 0.021070917259745178, 0.021070917259745178, 0.021070917259745178, 0.06321275177923553, 0.042141834519490357, 0.021070917259745178, 0.042141834519490357, 0.06321275177923553, 0.021070917259745178, 0.021070917259745178, 0.021070917259745178, 0.021070917259745178, 0.021070917259745178, 0.13787410886281756, 0.1838321451504234, 0.022979018143802925, 0.022979018143802925, 0.13787410886281756, 0.022979018143802925, 0.04595803628760585, 0.04595803628760585, 0.04595803628760585, 0.022979018143802925, 0.04595803628760585, 0.06893705443140878, 0.022979018143802925, 0.022979018143802925, 0.022979018143802925, 0.022979018143802925, 0.022979018143802925, 0.13888359375315978, 0.18517812500421307, 0.023147265625526634, 0.023147265625526634, 0.13888359375315978, 0.023147265625526634, 0.04629453125105327, 0.023147265625526634, 0.04629453125105327, 0.04629453125105327, 0.023147265625526634, 0.04629453125105327, 0.06944179687657989, 0.023147265625526634, 0.023147265625526634, 0.023147265625526634, 0.023147265625526634, 0.023147265625526634, 0.32074990770383477, 0.16037495385191738, 0.24087089913124432, 0.12043544956562216, 0.24087089913124432, 0.12043544956562216, 0.13241589831774858, 0.13241589831774858, 0.26483179663549716, 0.11242429495382816, 0.11242429495382816, 0.22484858990765633, 0.11242429495382816, 0.25704226830222077, 0.06426056707555519, 0.1927817012266656, 0.06426056707555519, 0.06426056707555519, 0.06426056707555519, 0.06426056707555519, 0.29941930115228077, 0.22456447586421058, 0.07485482528807019, 0.07485482528807019, 0.2519319833679189, 0.22486834510584502, 0.2804180341334028, 0.04673633902223381, 0.04673633902223381, 0.04673633902223381, 0.1402090170667014, 0.04673633902223381, 0.04673633902223381, 0.1402090170667014, 0.04673633902223381, 0.04673633902223381, 0.28244988892551853, 0.047074981487586424, 0.047074981487586424, 0.047074981487586424, 0.14122494446275927, 0.047074981487586424, 0.047074981487586424, 0.14122494446275927, 0.047074981487586424, 0.4165055803062512, 0.1041263950765628, 0.37546676300609805, 0.09386669075152451, 0.09386669075152451, 0.09386669075152451, 0.13230055986621794, 0.1764007464882906, 0.04410018662207265, 0.022050093311036325, 0.022050093311036325, 0.13230055986621794, 0.022050093311036325, 0.022050093311036325, 0.04410018662207265, 0.022050093311036325, 0.06615027993310897, 0.04410018662207265, 0.022050093311036325, 0.04410018662207265, 0.06615027993310897, 0.022050093311036325, 0.022050093311036325, 0.022050093311036325, 0.022050093311036325, 0.022050093311036325, 0.022050093311036325, 0.13420346769770328, 0.17893795693027104, 0.02236724461628388, 0.02236724461628388, 0.02236724461628388, 0.13420346769770328, 0.02236724461628388, 0.02236724461628388, 0.04473448923256776, 0.04473448923256776, 0.02236724461628388, 0.04473448923256776, 0.06710173384885164, 0.02236724461628388, 0.02236724461628388, 0.02236724461628388, 0.02236724461628388, 0.02236724461628388, 0.13100153280711221, 0.17466871040948295, 0.04366717760237074, 0.02183358880118537, 0.13100153280711221, 0.02183358880118537, 0.04366717760237074, 0.02183358880118537, 0.06550076640355611, 0.04366717760237074, 0.02183358880118537, 0.04366717760237074, 0.06550076640355611, 0.02183358880118537, 0.02183358880118537, 0.02183358880118537, 0.02183358880118537, 0.02183358880118537, 0.02183358880118537, 0.2781586966154045, 0.13907934830770224, 0.27621205245290864, 0.29367774031342203, 0.07341943507835551, 0.2202583052350665, 0.07341943507835551, 0.07341943507835551, 0.3088564876386031, 0.23164236572895233, 0.07721412190965078, 0.07721412190965078, 0.14613599729390891, 0.29227199458781783, 0.07306799864695446, 0.07306799864695446, 0.07306799864695446, 0.07306799864695446, 0.10279792223876848, 0.3083937667163054, 0.10279792223876848, 0.10279792223876848, 0.12473639281707063, 0.3742091784512119, 0.12473639281707063, 0.12564478088312442, 0.37693434264937326, 0.12564478088312442, 0.09195254220741242, 0.3678101688296497, 0.09195254220741242, 0.09195254220741242, 0.11399903044918341, 0.34199709134755024, 0.11399903044918341, 0.09126260422690415, 0.09126260422690415, 0.1825252084538083, 0.27378781268071245, 0.09126260422690415, 0.1959415145889779, 0.1665526851092828, 0.1991227080462152, 0.20448564223374427, 0.2094184500010375, 0.20160097109165415, 0.19458284834925146, 0.16939569460720127, 0.16939569460720127, 0.19929245076743818, 0.18001198115158107, 0.22126055521631136, 0.27251154309201064, 0.20221592249288065, 0.20221592249288065, 0.20221592249288065, 0.20682940561169966, 0.20682940561169966, 0.18585120777487105, 0.21799028452933197, 0.21799028452933197, 0.18784437782143773, 0.23130260184458631, 0.2868886474995555, 0.2358858278243256, 0.21849402903963233, 0.18665600622650946, 0.18665600622650946, 0.20723614167521381, 0.19966040449543743, 0.1999741300078052, 0.20032884045046892, 0.19691262010022534, 0.21810826523150179, 0.17905920920303825, 0.22090366583357154, 0.19100946088579754, 0.19100946088579754, 0.1645430449950635, 0.1645430449950635, 0.1645430449950635, 0.2325526266201658, 0.22259075593861208, 0.22259075593861208, 0.22108200185957955, 0.2360346765549823, 0.3357518892462823, 0.16787594462314115, 0.3623878593054816, 0.20493778559763068, 0.24484436456477573, 0.23546624943541997, 0.18902017374317823, 0.18902017374317823, 0.19920058252366746, 0.19713458207782567, 0.1951823017624561, 0.1938536536503841, 0.24419370703120208, 0.17092619962394462, 0.17092619962394462, 0.17092619962394462, 0.2129256253600481, 0.2129256253600481, 0.2150352188904796, 0.19337183927163384, 0.19337183927163384, 0.2051550604172136, 0.17855208314734614, 0.17855208314734614, 0.17855208314734614, 0.34762309632534816, 0.17381154816267408, 0.23059833881835554, 0.2721242326446828, 0.19271824258425327, 0.19271824258425327, 0.24257657448967312, 0.2423970416308181, 0.2423970416308181, 0.21614965863844812, 0.10320634824791701, 0.10320634824791701, 0.309619044743751, 0.10320634824791701, 0.10320634824791701, 0.3350915596233385, 0.11169718654111283, 0.11169718654111283, 0.11169718654111283, 0.42469858256974913, 0.10617464564243728, 0.373684234892265, 0.124561411630755, 0.1695030320547183, 0.3390060641094366, 0.1155675384554132, 0.1155675384554132, 0.34670261536623964, 0.1155675384554132, 0.37095433289216445, 0.12365144429738814, 0.12079026927297316, 0.3623708078189195, 0.12079026927297316, 0.35560686840480016, 0.11853562280160004, 0.27045727651990226, 0.3453904456460358, 0.11513014854867862, 0.11513014854867862, 0.1960191789284445, 0.1960191789284445, 0.20356721432705843, 0.17511193840496786, 0.17298037251510862, 0.34596074503021723, 0.16120707479670368, 0.16120707479670368, 0.2664936566597262, 0.12708306188339094, 0.06354153094169547, 0.06354153094169547, 0.06354153094169547, 0.06354153094169547, 0.06354153094169547, 0.06354153094169547, 0.06354153094169547, 0.06354153094169547, 0.06354153094169547, 0.26259665654554215, 0.2006624397432902, 0.25069532700761094, 0.1332411878643529, 0.1332411878643529, 0.20187105269409727, 0.20187105269409727, 0.1409813474517505, 0.281962694903501, 0.31304793843197687, 0.3434432388009878, 0.13539441751422782, 0.13539441751422782, 0.13539441751422782, 0.13539441751422782, 0.13539441751422782, 0.13340354698180476, 0.13340354698180476, 0.13340354698180476, 0.13340354698180476, 0.13340354698180476, 0.45926661755854126, 0.11481665438963531, 0.11481665438963531, 0.3849111515607625, 0.12830371718692085, 0.17966138558592992, 0.21840959427820536, 0.21840959427820536, 0.21410024935598926, 0.21658777858050599, 0.08604385237829153, 0.03441754095131661, 0.017208770475658306, 0.08604385237829153, 0.13767016380526645, 0.017208770475658306, 0.10325262285394983, 0.10325262285394983, 0.06883508190263322, 0.03441754095131661, 0.06883508190263322, 0.017208770475658306, 0.017208770475658306, 0.017208770475658306, 0.03441754095131661, 0.017208770475658306, 0.03441754095131661, 0.017208770475658306, 0.08630372141976257, 0.03452148856790503, 0.017260744283952516, 0.1035644657037151, 0.13808595427162013, 0.017260744283952516, 0.1035644657037151, 0.1035644657037151, 0.06904297713581006, 0.03452148856790503, 0.017260744283952516, 0.08630372141976257, 0.017260744283952516, 0.017260744283952516, 0.017260744283952516, 0.017260744283952516, 0.017260744283952516, 0.017260744283952516, 0.017260744283952516, 0.03452148856790503, 0.017260744283952516, 0.2038830088974688, 0.3765860803504447, 0.09177642455566859, 0.026221835587333885, 0.026221835587333885, 0.09177642455566859, 0.10488734234933554, 0.026221835587333885, 0.10488734234933554, 0.09177642455566859, 0.07866550676200165, 0.039332753381000826, 0.05244367117466777, 0.013110917793666943, 0.013110917793666943, 0.013110917793666943, 0.026221835587333885, 0.026221835587333885, 0.013110917793666943, 0.026221835587333885, 0.013110917793666943, 0.013110917793666943, 0.039332753381000826, 0.013110917793666943, 0.026221835587333885, 0.10457342269064857, 0.20914684538129713, 0.20914684538129713, 0.09430683072762962, 0.18861366145525923, 0.18861366145525923, 0.3718729508006808, 0.12395765026689361, 0.0572663049170707, 0.0572663049170707, 0.0572663049170707, 0.0572663049170707, 0.1145326098341414, 0.1145326098341414, 0.1145326098341414, 0.0572663049170707, 0.0572663049170707, 0.0572663049170707, 0.0572663049170707, 0.0572663049170707, 0.050924222216293925, 0.050924222216293925, 0.050924222216293925, 0.050924222216293925, 0.10184844443258785, 0.10184844443258785, 0.15277266664888178, 0.050924222216293925, 0.050924222216293925, 0.050924222216293925, 0.050924222216293925, 0.050924222216293925, 0.050924222216293925, 0.050924222216293925, 0.050924222216293925, 0.10565685185205134, 0.05282842592602567, 0.10565685185205134, 0.10565685185205134, 0.05282842592602567, 0.21131370370410268, 0.10565685185205134, 0.05282842592602567, 0.05282842592602567, 0.1289911160598939, 0.0859940773732626, 0.0859940773732626, 0.0429970386866313, 0.1719881547465252, 0.1289911160598939, 0.0429970386866313, 0.0429970386866313, 0.0429970386866313, 0.0429970386866313, 0.0429970386866313, 0.0429970386866313, 0.1432322537561735, 0.1432322537561735, 0.1432322537561735, 0.1432322537561735, 0.09951046268968484, 0.04975523134484242, 0.04975523134484242, 0.04975523134484242, 0.14926569403452727, 0.09951046268968484, 0.09951046268968484, 0.04975523134484242, 0.09951046268968484, 0.04975523134484242, 0.04975523134484242, 0.08627834414845881, 0.043139172074229404, 0.043139172074229404, 0.1294175162226882, 0.08627834414845881, 0.08627834414845881, 0.08627834414845881, 0.043139172074229404, 0.08627834414845881, 0.043139172074229404, 0.043139172074229404, 0.043139172074229404, 0.043139172074229404, 0.043139172074229404, 0.19059269943439464, 0.24251526670765072, 0.16932969166796824, 0.16932969166796824, 0.3555064823006632, 0.1326793872217714, 0.2653587744435428, 0.17594693853020005, 0.2120200492626431, 0.16508441580361932, 0.16508441580361932, 0.17903683913278637, 0.1973670630394653, 0.1973670630394653, 0.19926255523071346, 0.1596055376285403, 0.1596055376285403, 0.1581493663720391, 0.1581493663720391, 0.22283278856522534, 0.11123579405477284, 0.11123579405477284, 0.11123579405477284, 0.11123579405477284, 0.2788856792465023, 0.13944283962325116, 0.06039575291034876, 0.06039575291034876, 0.06039575291034876, 0.06039575291034876, 0.12079150582069752, 0.18118725873104627, 0.06039575291034876, 0.06039575291034876, 0.06039575291034876, 0.06039575291034876, 0.06039575291034876, 0.059089994532771174, 0.11817998906554235, 0.059089994532771174, 0.059089994532771174, 0.11817998906554235, 0.11817998906554235, 0.059089994532771174, 0.059089994532771174, 0.059089994532771174, 0.059089994532771174, 0.059089994532771174, 0.059089994532771174, 0.08461236153218347, 0.16922472306436695, 0.08461236153218347, 0.08461236153218347, 0.08461236153218347, 0.08461236153218347, 0.12224674553256921, 0.12224674553256921, 0.12224674553256921, 0.12224674553256921, 0.04668820822373215, 0.04668820822373215, 0.0933764164474643, 0.04668820822373215, 0.04668820822373215, 0.04668820822373215, 0.04668820822373215, 0.0933764164474643, 0.14006462467119646, 0.04668820822373215, 0.04668820822373215, 0.0933764164474643, 0.04668820822373215, 0.04668820822373215, 0.04668820822373215, 0.12260015247389347, 0.12260015247389347, 0.12260015247389347, 0.12260015247389347, 0.053270618175514296, 0.053270618175514296, 0.053270618175514296, 0.053270618175514296, 0.053270618175514296, 0.10654123635102859, 0.10654123635102859, 0.053270618175514296, 0.053270618175514296, 0.053270618175514296, 0.053270618175514296, 0.053270618175514296, 0.05618554713586677, 0.11237109427173354, 0.05618554713586677, 0.05618554713586677, 0.11237109427173354, 0.1685566414076003, 0.05618554713586677, 0.05618554713586677, 0.05618554713586677, 0.05618554713586677, 0.05618554713586677, 0.04487195362860639, 0.04487195362860639, 0.04487195362860639, 0.08974390725721278, 0.04487195362860639, 0.04487195362860639, 0.08974390725721278, 0.13461586088581917, 0.04487195362860639, 0.04487195362860639, 0.08974390725721278, 0.04487195362860639, 0.04487195362860639, 0.04487195362860639, 0.04487195362860639, 0.10764277098826659, 0.10764277098826659, 0.10764277098826659, 0.10764277098826659, 0.10764277098826659, 0.10764277098826659, 0.1845856745635075, 0.17948679828401778, 0.19242928630530673, 0.16682650623611822, 0.08341325311805911, 0.08341325311805911, 0.08341325311805911, 0.08341325311805911, 0.08341325311805911, 0.1275632349471647, 0.1275632349471647, 0.21551920938841632, 0.2482380212174668, 0.18729448185532832, 0.18729448185532832, 0.20203862489536853, 0.20203862489536853, 0.2030883542194085, 0.13821913092407362, 0.13821913092407362, 0.13821913092407362, 0.1510029973068559, 0.1510029973068559, 0.1510029973068559, 0.18588989067620387, 0.18588989067620387, 0.18588989067620387, 0.23408522422785555, 0.13819625331870333, 0.13819625331870333, 0.13819625331870333, 0.13819625331870333, 0.1333230915435916, 0.1333230915435916, 0.1333230915435916, 0.1333230915435916, 0.155950695612351, 0.155950695612351, 0.155950695612351, 0.13193032023786652, 0.13193032023786652, 0.13193032023786652, 0.13193032023786652, 0.13193032023786652, 0.1763780550857969, 0.1763780550857969, 0.1763780550857969, 0.11732390942375553, 0.11732390942375553, 0.11732390942375553, 0.11732390942375553, 0.11732390942375553, 0.11732390942375553, 0.11732390942375553, 0.21321244522275562, 0.2293612491306846, 0.2084525226432724, 0.2084525226432724, 0.21194052874071528, 0.1880732512175346, 0.15454042689720932, 0.15454042689720932, 0.2357389320017403, 0.1636847566934546, 0.1636847566934546, 0.1636847566934546, 0.04233229672837082, 0.12699689018511245, 0.04233229672837082, 0.04233229672837082, 0.04233229672837082, 0.08466459345674164, 0.04233229672837082, 0.04233229672837082, 0.08466459345674164, 0.04233229672837082, 0.04233229672837082, 0.04233229672837082, 0.04233229672837082, 0.08466459345674164, 0.04233229672837082, 0.04233229672837082, 0.11508198508920928, 0.11508198508920928, 0.11508198508920928, 0.11508198508920928, 0.11508198508920928, 0.1306394024019793, 0.1306394024019793, 0.1306394024019793, 0.1306394024019793, 0.20859205092373648, 0.08219161971502928, 0.12328742957254392, 0.04109580985751464, 0.04109580985751464, 0.04109580985751464, 0.08219161971502928, 0.04109580985751464, 0.04109580985751464, 0.04109580985751464, 0.04109580985751464, 0.04109580985751464, 0.04109580985751464, 0.04109580985751464, 0.04109580985751464, 0.08219161971502928, 0.04109580985751464, 0.04109580985751464, 0.10538912444491014, 0.10538912444491014, 0.10538912444491014, 0.21077824888982027, 0.10538912444491014, 0.12028004941070854, 0.24056009882141707, 0.12028004941070854, 0.12028004941070854, 0.2379128557871582, 0.1189564278935791, 0.1189564278935791, 0.1189564278935791, 0.09273884977021814, 0.09273884977021814, 0.18547769954043627, 0.18547769954043627, 0.09273884977021814, 0.0946716664582942, 0.1893433329165884, 0.1893433329165884, 0.0946716664582942, 0.09724267966581424, 0.19448535933162847, 0.19448535933162847, 0.09724267966581424, 0.0661731870573884, 0.0661731870573884, 0.1323463741147768, 0.19851956117216518, 0.0661731870573884, 0.0661731870573884, 0.0661731870573884, 0.104615659563702, 0.209231319127404, 0.209231319127404, 0.18479284110813807, 0.18479284110813807, 0.2740252346859101, 0.13701261734295506, 0.28779734628914183, 0.09369802124149126, 0.18739604248298253, 0.18739604248298253, 0.09369802124149126, 0.10484384485002975, 0.2096876897000595, 0.2096876897000595, 0.10772853819977284, 0.21545707639954567, 0.21545707639954567, 0.08250371753345381, 0.16500743506690763, 0.16500743506690763, 0.08250371753345381, 0.08250371753345381, 0.1047056326777127, 0.2094112653554254, 0.2094112653554254, 0.12668812432249776, 0.12668812432249776, 0.12668812432249776, 0.10844506826378204, 0.10844506826378204, 0.10844506826378204, 0.10844506826378204, 0.10844506826378204, 0.20855149733272957, 0.22440909066349213, 0.23310652782604666, 0.23310652782604666, 0.19932705183418117, 0.2226631582324366, 0.2226631582324366, 0.07278036047954098, 0.07278036047954098, 0.14556072095908196, 0.07278036047954098, 0.07278036047954098, 0.07278036047954098, 0.07278036047954098, 0.07278036047954098, 0.07044322642801759, 0.07044322642801759, 0.14088645285603518, 0.07044322642801759, 0.07044322642801759, 0.07044322642801759, 0.07044322642801759, 0.07044322642801759, 0.07044322642801759, 0.07044322642801759, 0.05653387119794899, 0.05653387119794899, 0.11306774239589798, 0.05653387119794899, 0.05653387119794899, 0.05653387119794899, 0.05653387119794899, 0.05653387119794899, 0.05653387119794899, 0.05653387119794899, 0.05653387119794899, 0.05653387119794899, 0.05653387119794899, 0.06609246253669798, 0.06609246253669798, 0.06609246253669798, 0.13218492507339596, 0.06609246253669798, 0.06609246253669798, 0.06609246253669798, 0.06609246253669798, 0.06609246253669798, 0.06609246253669798, 0.06609246253669798, 0.06609246253669798, 0.07126108091233992, 0.14252216182467983, 0.07126108091233992, 0.07126108091233992, 0.07126108091233992, 0.07126108091233992, 0.07126108091233992, 0.07126108091233992, 0.07126108091233992, 0.07126108091233992, 0.05601819691550366, 0.05601819691550366, 0.05601819691550366, 0.11203639383100732, 0.05601819691550366, 0.05601819691550366, 0.05601819691550366, 0.05601819691550366, 0.05601819691550366, 0.05601819691550366, 0.05601819691550366, 0.05601819691550366, 0.05601819691550366, 0.05601819691550366, 0.21988313859545958, 0.22893104958584212, 0.31888024803969167, 0.18839383566266163, 0.18839383566266163, 0.18839383566266163, 0.21810984793094332, 0.20699161660750542, 0.20699161660750542, 0.14613574956611253, 0.07306787478305626, 0.07306787478305626, 0.21920362434916876, 0.07306787478305626, 0.07306787478305626, 0.1697784323201783, 0.08488921616008915, 0.08488921616008915, 0.25466764848026746, 0.08488921616008915, 0.08488921616008915, 0.1425392116559813, 0.07126960582799065, 0.07126960582799065, 0.07126960582799065, 0.21380881748397193, 0.07126960582799065, 0.07126960582799065, 0.13592000541189905, 0.13592000541189905, 0.06796000270594953, 0.20388000811784857, 0.06796000270594953, 0.06796000270594953, 0.14267523513513655, 0.07133761756756828, 0.07133761756756828, 0.07133761756756828, 0.21401285270270484, 0.07133761756756828, 0.07133761756756828, 0.08198533086226423, 0.16397066172452845, 0.08198533086226423, 0.08198533086226423, 0.2459559925867927, 0.08198533086226423, 0.08198533086226423, 0.08198533086226423, 0.1431651931070642, 0.0715825965535321, 0.0715825965535321, 0.21474778966059627, 0.0715825965535321, 0.0715825965535321, 0.212543724074394, 0.07084790802479801, 0.07084790802479801, 0.212543724074394, 0.07084790802479801, 0.07084790802479801, 0.13085037669219454, 0.13085037669219454, 0.2617007533843891, 0.13085037669219454, 0.3142901281516602, 0.3558596771185014, 0.1779298385592507, 0.27353962205982507, 0.13676981102991254, 0.13676981102991254, 0.13671220295261424, 0.2734244059052285, 0.13671220295261424, 0.30868962788211074, 0.1361172172921298, 0.1361172172921298, 0.2722344345842596, 0.29626609266204434, 0.14813304633102217, 0.12964822657702296, 0.38894467973106883, 0.1289519149399158, 0.1289519149399158, 0.2579038298798316, 0.1289519149399158, 0.30643021719454827, 0.2947056873853673, 0.14735284369268364, 0.3165169174805562, 0.1582584587402781, 0.3040222304986936, 0.1520111152493468, 0.2605609775158924, 0.2504884485662599, 0.2852208886802285, 0.14261044434011425, 0.14261044434011425, 0.18709307298460398, 0.24183304495566113, 0.3707656342090576, 0.33037310353731175, 0.16518655176865588, 0.2393986032705712, 0.23575190064026413, 0.04433195767741171, 0.17732783070964683, 0.08866391535482342, 0.17732783070964683, 0.13299587303223512, 0.04433195767741171, 0.04433195767741171, 0.04433195767741171, 0.04433195767741171, 0.04433195767741171, 0.04433195767741171, 0.04433195767741171, 0.20672384776624197, 0.10336192388312099, 0.20672384776624197, 0.15504288582468148, 0.051680961941560494, 0.051680961941560494, 0.051680961941560494, 0.051680961941560494, 0.24867902608253362, 0.09947161043301345, 0.1989432208660269, 0.14920741564952017, 0.04973580521650672, 0.04973580521650672, 0.04973580521650672, 0.04973580521650672, 0.04973580521650672, 0.04489503809483781, 0.17958015237935124, 0.08979007618967562, 0.17958015237935124, 0.13468511428451344, 0.04489503809483781, 0.04489503809483781, 0.04489503809483781, 0.04489503809483781, 0.04489503809483781, 0.04489503809483781, 0.04507411233530614, 0.18029644934122455, 0.09014822467061227, 0.18029644934122455, 0.1352223370059184, 0.04507411233530614, 0.04507411233530614, 0.04507411233530614, 0.04507411233530614, 0.04507411233530614, 0.16435421634916253, 0.16435421634916253, 0.16435421634916253, 0.16435421634916253, 0.3162101912837305, 0.23715764346279788, 0.07905254782093263, 0.07905254782093263, 0.29564812350206576, 0.07391203087551644, 0.2217360926265493, 0.07391203087551644, 0.07391203087551644, 0.3053064204584122, 0.07632660511460305, 0.22897981534380915, 0.07632660511460305, 0.07632660511460305, 0.20655718375879614, 0.20655718375879614, 0.10327859187939807, 0.10327859187939807, 0.2880286963671477, 0.07200717409178692, 0.07200717409178692, 0.21602152227536076, 0.07200717409178692, 0.07200717409178692, 0.35159107594979716, 0.21095464556987828, 0.07031821518995943, 0.07031821518995943, 0.24963105570247396, 0.10801964690980777, 0.3240589407294233, 0.10801964690980777, 0.10801964690980777, 0.08593418537666679, 0.08593418537666679, 0.25780255613000036, 0.08593418537666679, 0.08593418537666679, 0.08593418537666679, 0.08593418537666679, 0.10110590913116914, 0.40442363652467656, 0.10110590913116914, 0.134248385217663, 0.402745155652989, 0.134248385217663, 0.21738286841178867, 0.326074302617683, 0.10869143420589433, 0.10869143420589433, 0.18027305549892791, 0.18027305549892791, 0.17572430008296636, 0.17572430008296636, 0.12106736709611567, 0.12106736709611567, 0.12106736709611567, 0.12106736709611567, 0.12106736709611567, 0.21335754606244423, 0.21335754606244423, 0.23586668241464873, 0.2100543329051386, 0.17578583943867213, 0.17578583943867213, 0.19029675760739406, 0.24803502921730533, 0.12481794722286366, 0.12481794722286366, 0.12481794722286366, 0.22433820644776636, 0.24307210683049724, 0.25512064574845106, 0.09040427445133462, 0.09040427445133462, 0.09040427445133462, 0.09040427445133462, 0.18080854890266923, 0.09040427445133462, 0.35275712347316884, 0.1960063883800154, 0.11332912324751429, 0.11332912324751429, 0.22665824649502858, 0.11332912324751429, 0.11332912324751429, 0.13860073337998777, 0.13860073337998777, 0.27720146675997553, 0.17069280912085155, 0.3413856182417031, 0.13355008467042337, 0.13355008467042337, 0.26710016934084674, 0.15955152044698293, 0.31910304089396585, 0.21531122993787824, 0.21531122993787824, 0.1208550215179265, 0.3625650645537795, 0.1208550215179265, 0.1208550215179265, 0.11239942260841784, 0.11239942260841784, 0.33719826782525353, 0.30131567134973253, 0.20827465284821892, 0.20827465284821892, 0.20182025355052405, 0.20182025355052405, 0.18883170637158872, 0.18142073908025602, 0.18142073908025602, 0.18142073908025602, 0.22011435241209293, 0.22011435241209293, 0.043222483030765334, 0.043222483030765334, 0.129667449092296, 0.08644496606153067, 0.08644496606153067, 0.043222483030765334, 0.043222483030765334, 0.129667449092296, 0.043222483030765334, 0.043222483030765334, 0.043222483030765334, 0.08644496606153067, 0.25226671738694834, 0.16062275288335892, 0.16062275288335892, 0.16062275288335892, 0.04483516211780012, 0.04483516211780012, 0.08967032423560024, 0.08967032423560024, 0.08967032423560024, 0.04483516211780012, 0.13450548635340037, 0.04483516211780012, 0.04483516211780012, 0.04483516211780012, 0.04483516211780012, 0.04483516211780012, 0.08967032423560024, 0.1502383323334099, 0.1502383323334099, 0.1502383323334099, 0.17903082749264063, 0.17903082749264063, 0.17903082749264063, 0.18127655826840608, 0.12260149638211425, 0.12260149638211425, 0.12260149638211425, 0.12260149638211425, 0.2452029927642285, 0.12260149638211425, 0.0951822911419967, 0.0951822911419967, 0.0951822911419967, 0.0951822911419967, 0.1903645822839934, 0.0951822911419967, 0.12620606801703357, 0.12620606801703357, 0.12620606801703357, 0.2341243431120493, 0.2082457201125819, 0.22682452618851043, 0.22357644952723177, 0.047847029766997784, 0.047847029766997784, 0.09569405953399557, 0.047847029766997784, 0.047847029766997784, 0.047847029766997784, 0.14354108930099335, 0.09569405953399557, 0.047847029766997784, 0.047847029766997784, 0.047847029766997784, 0.1849992974958942, 0.04609928603129378, 0.04609928603129378, 0.04609928603129378, 0.04609928603129378, 0.04609928603129378, 0.04609928603129378, 0.13829785809388134, 0.09219857206258757, 0.04609928603129378, 0.04609928603129378, 0.04609928603129378, 0.04609928603129378, 0.04609928603129378, 0.1710127073878681, 0.1710127073878681, 0.11908525203242903, 0.11908525203242903, 0.11908525203242903, 0.11908525203242903, 0.11908525203242903, 0.07802720784315247, 0.2340816235294574, 0.2340816235294574, 0.07802720784315247, 0.07802720784315247, 0.07375672776211466, 0.07375672776211466, 0.22127018328634399, 0.22127018328634399, 0.07375672776211466, 0.07375672776211466, 0.11944518725841063, 0.23889037451682127, 0.17916778088761595, 0.05972259362920532, 0.05972259362920532, 0.05972259362920532, 0.05972259362920532, 0.1260943483773128, 0.0630471741886564, 0.2521886967546256, 0.2521886967546256, 0.0630471741886564, 0.0630471741886564, 0.0630471741886564, 0.12848453075529068, 0.06424226537764534, 0.192726796132936, 0.192726796132936, 0.06424226537764534, 0.06424226537764534, 0.06424226537764534, 0.35301332192701607, 0.18192766074002795, 0.18192766074002795, 0.07890795419108362, 0.23672386257325087, 0.23672386257325087, 0.07890795419108362, 0.07890795419108362, 0.08238433367487774, 0.24715300102463325, 0.24715300102463325, 0.08238433367487774, 0.0629686825875891, 0.0629686825875891, 0.2518747303503564, 0.2518747303503564, 0.0629686825875891, 0.0629686825875891, 0.0629686825875891, 0.13655112181471807, 0.27310224362943614, 0.2048266827220771, 0.06827556090735903, 0.06827556090735903, 0.06827556090735903, 0.12597811218459468, 0.06298905609229734, 0.188967168276892, 0.188967168276892, 0.06298905609229734, 0.06298905609229734, 0.17602079983173619, 0.35204159966347237, 0.23938112243200366, 0.19191889347012225, 0.19191889347012225, 0.12101098227279461, 0.24202196454558922, 0.12101098227279461, 0.1809910180333925, 0.361982036066785, 0.1800780062922579, 0.1405228160375589, 0.2810456320751178, 0.3451779092192145, 0.16563756565457383, 0.33127513130914765, 0.23120433835469234, 0.24924479573393063, 0.49064006167631863, 0.47505922581956667, 0.5211926245265459, 0.5268379671686797, 0.13170949179216992, 0.4841847260925719, 0.12104618152314298, 0.12104618152314298, 0.4597055819013556, 0.1149263954753389, 0.1149263954753389, 0.4568340260664879, 0.11420850651662197, 0.11420850651662197, 0.5708022347855098, 0.4770100312382283, 0.11925250780955708, 0.405987450048025, 0.13532915001600831, 0.17539732316540702, 0.350399321777135, 0.11679977392571167, 0.11679977392571167, 0.4371395818832261, 0.14571319396107538, 0.33154077123043885, 0.11051359041014629, 0.11051359041014629, 0.09203161632765498, 0.18406323265530997, 0.09203161632765498, 0.09203161632765498, 0.09203161632765498, 0.09203161632765498, 0.09203161632765498, 0.21229217741944573, 0.1707116981803292, 0.1707116981803292, 0.1707116981803292, 0.15203429160709053, 0.30406858321418107, 0.19353647914177877, 0.11220586844643443, 0.11220586844643443, 0.11220586844643443, 0.22441173689286886, 0.11220586844643443, 0.13452850538021072, 0.26905701076042143, 0.21502174949682626, 0.11397825284269293, 0.11397825284269293, 0.11397825284269293, 0.09541638183018517, 0.09541638183018517, 0.09541638183018517, 0.09541638183018517, 0.19083276366037033, 0.12953291161330485, 0.2590658232266097, 0.14951882938113464, 0.14951882938113464, 0.2990376587622693, 0.13115577575490026, 0.13115577575490026, 0.2623115515098005, 0.1538572872484336, 0.3077145744968672, 0.03706883049151903, 0.018534415245759515, 0.018534415245759515, 0.09267207622879758, 0.09267207622879758, 0.03706883049151903, 0.03706883049151903, 0.018534415245759515, 0.018534415245759515, 0.09267207622879758, 0.1297409067203166, 0.03706883049151903, 0.018534415245759515, 0.018534415245759515, 0.018534415245759515, 0.018534415245759515, 0.03706883049151903, 0.018534415245759515, 0.018534415245759515, 0.018534415245759515, 0.03706883049151903, 0.018534415245759515, 0.018534415245759515, 0.018534415245759515, 0.018534415245759515, 0.018534415245759515, 0.41899649778261167, 0.2182208540962857, 0.2182208540962857, 0.1804239275813021, 0.16363891155079185, 0.08181945577539593, 0.08181945577539593, 0.08181945577539593, 0.08181945577539593, 0.08181945577539593, 0.08181945577539593, 0.09504690847621673, 0.09504690847621673, 0.09504690847621673, 0.09504690847621673, 0.09504690847621673, 0.09504690847621673, 0.09504690847621673, 0.10170670455947636, 0.20341340911895273, 0.10170670455947636, 0.20341340911895273, 0.10170670455947636, 0.11261819771568538, 0.22523639543137075, 0.11261819771568538, 0.2590306927558645, 0.08634356425195482, 0.08634356425195482, 0.08634356425195482, 0.08634356425195482, 0.08634356425195482, 0.08634356425195482, 0.185786563964957, 0.185786563964957, 0.19615351844609535, 0.19615351844609535, 0.22485110708211137, 0.22485110708211137, 0.297431590510387, 0.12525172778837185, 0.2505034555767437, 0.12525172778837185, 0.09089339098543553, 0.09089339098543553, 0.18178678197087106, 0.09089339098543553, 0.09089339098543553, 0.09089339098543553, 0.11031010615740744, 0.11031010615740744, 0.11031010615740744, 0.11031010615740744, 0.04839264644366242, 0.04839264644366242, 0.09678529288732483, 0.04839264644366242, 0.09678529288732483, 0.04839264644366242, 0.04839264644366242, 0.04839264644366242, 0.04839264644366242, 0.04839264644366242, 0.04839264644366242, 0.04839264644366242, 0.04839264644366242, 0.04839264644366242, 0.04839264644366242, 0.24031429790529474, 0.04531822163553311, 0.04531822163553311, 0.09063644327106622, 0.04531822163553311, 0.09063644327106622, 0.04531822163553311, 0.13595466490659933, 0.04531822163553311, 0.04531822163553311, 0.04531822163553311, 0.04531822163553311, 0.04531822163553311, 0.09063644327106622, 0.16981421611626246, 0.16981421611626246, 0.17770530675926385, 0.17770530675926385, 0.04899973803849971, 0.09799947607699942, 0.09799947607699942, 0.04899973803849971, 0.04899973803849971, 0.04899973803849971, 0.04899973803849971, 0.14699921411549913, 0.09799947607699942, 0.04899973803849971, 0.04899973803849971, 0.04899973803849971, 0.2259743102230342, 0.13582291665387658, 0.06791145832693829, 0.20373437498081487, 0.20373437498081487, 0.06791145832693829, 0.06791145832693829, 0.08355742471953032, 0.25067227415859095, 0.25067227415859095, 0.08355742471953032, 0.08355742471953032, 0.13124109624054825, 0.06562054812027412, 0.2624821924810965, 0.19686164436082237, 0.06562054812027412, 0.06562054812027412, 0.49530703690960826, 0.5218472198125476, 0.16661681047681032, 0.13005616311012871, 0.26011232622025743, 0.19508424466519306, 0.06502808155506436, 0.06502808155506436, 0.06502808155506436, 0.13266780247429805, 0.19900170371144707, 0.19900170371144707, 0.06633390123714902, 0.06633390123714902, 0.06633390123714902, 0.5411658326292296, 0.5156831558785497, 0.38060871562624976, 0.525512699484066, 0.5276627588611889, 0.4850317565537304, 0.1212579391384326, 0.1399257377524113, 0.1399257377524113, 0.1399257377524113, 0.08034953448896988, 0.24104860346690962, 0.24104860346690962, 0.08034953448896988, 0.08034953448896988, 0.08182006843061196, 0.24546020529183588, 0.24546020529183588, 0.08182006843061196, 0.12567576575191836, 0.2513515315038367, 0.2513515315038367, 0.06283788287595918, 0.06283788287595918, 0.06283788287595918, 0.1285327038302193, 0.06426635191510965, 0.2570654076604386, 0.19279905574532896, 0.06426635191510965, 0.06426635191510965, 0.06426635191510965, 0.12824900161960612, 0.25649800323921224, 0.1923735024294092, 0.06412450080980306, 0.06412450080980306, 0.3764575589951077, 0.42793485696911165, 0.10698371424227791, 0.5566844260725525, 0.496313306690543, 0.12407832667263576, 0.48494370210503085, 0.5011449210935212, 0.460610104182588, 0.115152526045647, 0.19510052512466733, 0.2113510122429314, 0.2113510122429314, 0.2106312860894609, 0.22031363464760093, 0.15574648576022665, 0.15574648576022665, 0.15574648576022665, 0.31357916155868804, 0.1781556183432415, 0.1781556183432415, 0.1781556183432415, 0.20112859028812066, 0.20112859028812066, 0.2213791858244976, 0.18050568389859845, 0.32757492055382054, 0.19277729604077706, 0.19277729604077706, 0.2789117650166968, 0.09297058833889892, 0.09297058833889892, 0.09297058833889892, 0.09297058833889892, 0.14095799628641636, 0.28191599257283273, 0.3537937469603155, 0.20582811383019503, 0.20127782179271972, 0.0721825261378044, 0.21654757841341324, 0.0721825261378044, 0.21654757841341324, 0.0721825261378044, 0.0721825261378044, 0.0721825261378044, 0.2719815812189876, 0.09066052707299585, 0.09066052707299585, 0.09066052707299585, 0.09066052707299585, 0.09066052707299585, 0.09066052707299585, 0.3640701192293363, 0.20549781617536694, 0.20549781617536694, 0.16583224975130798, 0.16583224975130798, 0.2930652379652269, 0.09768841265507562, 0.09768841265507562, 0.09768841265507562, 0.09768841265507562, 0.09768841265507562, 0.3252509594691413, 0.15459256557127973, 0.30918513114255947, 0.19309000771114024, 0.20301637767253358, 0.07578492673513144, 0.22735478020539432, 0.07578492673513144, 0.1515698534702629, 0.07578492673513144, 0.07578492673513144, 0.07578492673513144, 0.07578492673513144, 0.07578492673513144, 0.3600201251345491, 0.18664830388136475, 0.18664830388136475, 0.18596193349282053, 0.18596193349282053, 0.150245607756918, 0.150245607756918, 0.150245607756918, 0.150245607756918, 0.2688911026670402, 0.16013756693839687, 0.16013756693839687, 0.4003365282622862, 0.23914317135248314, 0.11957158567624157, 0.06262852650849124, 0.12525705301698248, 0.06262852650849124, 0.12525705301698248, 0.12525705301698248, 0.06262852650849124, 0.12525705301698248, 0.06262852650849124, 0.06262852650849124, 0.06262852650849124, 0.1325228665133695, 0.265045733026739, 0.1325228665133695, 0.1325228665133695, 0.26129068184944076, 0.13064534092472038, 0.13747707235678572, 0.27495414471357144, 0.13747707235678572, 0.27492896808791, 0.137464484043955, 0.2934399180942757, 0.14671995904713786, 0.13811093504614927, 0.27622187009229854, 0.13811093504614927, 0.29767368281305295, 0.14883684140652648, 0.12204159059613896, 0.24408318119227793, 0.12204159059613896, 0.04971020266645286, 0.14913060799935857, 0.04971020266645286, 0.04971020266645286, 0.04971020266645286, 0.04971020266645286, 0.04971020266645286, 0.04971020266645286, 0.04971020266645286, 0.04971020266645286, 0.09942040533290572, 0.04971020266645286, 0.04971020266645286, 0.1836530978623046, 0.1836530978623046, 0.18751582227425434, 0.18751582227425434, 0.2591099125795695, 0.2591099125795695, 0.04942677824190505, 0.14828033472571514, 0.04942677824190505, 0.04942677824190505, 0.04942677824190505, 0.04942677824190505, 0.04942677824190505, 0.04942677824190505, 0.04942677824190505, 0.0988535564838101, 0.04942677824190505, 0.04942677824190505, 0.04942677824190505, 0.04942677824190505, 0.04942677824190505, 0.16531977813384258, 0.16531977813384258, 0.17757041695204098, 0.17757041695204098, 0.1472584685497509, 0.1472584685497509, 0.1472584685497509, 0.16966493123525184, 0.16966493123525184, 0.37449403674674236, 0.32094069885485665, 0.36601041651559696, 0.17273149803174465, 0.22200099901397022, 0.17887316873241826, 0.17887316873241826, 0.24123328707530273, 0.14749449644676277, 0.14749449644676277, 0.19877421398515635, 0.19877421398515635, 0.4833165777619707, 0.4282297238141313, 0.1833583842634849, 0.1833583842634849, 0.1734563484312373, 0.1734563484312373, 0.19591314428914633, 0.19591314428914633, 0.22537814141942292, 0.1413777813896554, 0.1413777813896554, 0.20282858222273784, 0.1801044134869321, 0.1801044134869321, 0.3466285747445401, 0.1845986421000281, 0.2630341305664574, 0.17389597287301864, 0.17389597287301864, 0.26113898703103416, 0.23830328916366378, 0.18433121697360072, 0.08659557627950601, 0.08659557627950601, 0.08659557627950601, 0.08659557627950601, 0.08659557627950601, 0.08659557627950601, 0.08659557627950601, 0.23775824389556025, 0.2036962315025379, 0.24232843155504447, 0.2173710574402252, 0.2173710574402252, 0.300597922612827, 0.20042847452022214, 0.24245644842076566, 0.1969892344954894, 0.19433138419794904, 0.19433138419794904, 0.253746625474104, 0.13951726853082344, 0.13951726853082344, 0.13951726853082344, 0.1740045579687811, 0.1740045579687811, 0.16224692716040456, 0.16224692716040456, 0.1606378644890221, 0.1606378644890221, 0.1606378644890221, 0.10643517175617967, 0.10643517175617967, 0.10643517175617967, 0.10643517175617967, 0.10643517175617967, 0.10643517175617967, 0.10799707237555087, 0.10799707237555087, 0.10799707237555087, 0.10799707237555087, 0.10799707237555087, 0.10799707237555087, 0.1778385820418049, 0.19511654855425747, 0.19511654855425747, 0.19066342878905684, 0.1769077643994544, 0.1769077643994544, 0.1769077643994544, 0.18071469157902847, 0.19050162754555675, 0.2671286558363559, 0.21578870379779252, 0.14798176624871182, 0.14798176624871182, 0.14798176624871182, 0.28558617134390807, 0.25427223648741276, 0.3702233372084807, 0.18511166860424036, 0.24977228372093338, 0.3185758358153949, 0.1061919452717983, 0.1061919452717983, 0.1061919452717983, 0.11345397804596084, 0.3403619341378825, 0.11345397804596084, 0.09836860262882643, 0.09836860262882643, 0.2951058078864793, 0.09836860262882643, 0.11145641074639662, 0.33436923223918985, 0.11145641074639662, 0.11145641074639662, 0.294607973139214, 0.07983334147157493, 0.31933336588629974, 0.07983334147157493, 0.07983334147157493, 0.3574908361531486, 0.11916361205104954, 0.11916361205104954, 0.11916361205104954, 0.3764349223315623, 0.1254783074438541, 0.09547887861758982, 0.28643663585276946, 0.09547887861758982, 0.09547887861758982, 0.10059308962642921, 0.10059308962642921, 0.10059308962642921, 0.30177926887928763, 0.10059308962642921, 0.379714602125678, 0.1649656632905436, 0.3299313265810872, 0.0824828316452718, 0.0824828316452718, 0.2087473513721966, 0.21088375077636212, 0.23711219670249062, 0.20292208101729045, 0.20292208101729045, 0.21536490070896933, 0.22954351597039718, 0.464904681495479, 0.37150663661521777, 0.18575331830760888, 0.16313520441769594, 0.3262704088353919, 0.16313520441769594, 0.25556578734442204, 0.20079317015909892, 0.18782160811952944, 0.18782160811952944, 0.21232228308925524, 0.22545262718524922, 0.2156397835754146, 0.17554471025683968, 0.17554471025683968, 0.17554471025683968, 0.17015893346980684, 0.17015893346980684, 0.17015893346980684, 0.22806726961273824, 0.07914438245805663, 0.07914438245805663, 0.07914438245805663, 0.07914438245805663, 0.07914438245805663, 0.07914438245805663, 0.07914438245805663, 0.17082981019117538, 0.17082981019117538, 0.17082981019117538, 0.19038918437378544, 0.19038918437378544, 0.2282712211221042, 0.19198678652504098, 0.19198678652504098, 0.22992275483720936, 0.17326688518570843, 0.17326688518570843, 0.17326688518570843, 0.21510977323428832, 0.10830300837887542, 0.10830300837887542, 0.10830300837887542, 0.10830300837887542, 0.10830300837887542, 0.18134582300387886, 0.18134582300387886, 0.19767901742551844, 0.2153900184023705, 0.22148803551561974, 0.17113584345723984, 0.17113584345723984, 0.17113584345723984, 0.22297927468701795, 0.18391228116326544, 0.20113550383942108, 0.20113550383942108, 0.21123209012048275, 0.18968820956753155, 0.18968820956753155, 0.24116895547542455, 0.24855929700707707, 0.05628598349850765, 0.05628598349850765, 0.05628598349850765, 0.05628598349850765, 0.05628598349850765, 0.1125719669970153, 0.05628598349850765, 0.05628598349850765, 0.05628598349850765, 0.05628598349850765, 0.1125719669970153, 0.05628598349850765, 0.05628598349850765, 0.20035632608719925, 0.20035632608719925, 0.1575826935374592, 0.1575826935374592, 0.21699557277743275, 0.28043817943715876, 0.25751759546040837, 0.055156451499396957, 0.055156451499396957, 0.055156451499396957, 0.055156451499396957, 0.055156451499396957, 0.055156451499396957, 0.11031290299879391, 0.055156451499396957, 0.055156451499396957, 0.055156451499396957, 0.11031290299879391, 0.055156451499396957, 0.055156451499396957, 0.18385345376840295, 0.18385345376840295, 0.18385345376840295, 0.22813458591868704, 0.051963497169811496, 0.1558904915094345, 0.051963497169811496, 0.051963497169811496, 0.051963497169811496, 0.051963497169811496, 0.051963497169811496, 0.051963497169811496, 0.051963497169811496, 0.051963497169811496, 0.10392699433962299, 0.051963497169811496, 0.051963497169811496, 0.051963497169811496, 0.051963497169811496, 0.04725360151535411, 0.14176080454606232, 0.04725360151535411, 0.04725360151535411, 0.04725360151535411, 0.04725360151535411, 0.04725360151535411, 0.04725360151535411, 0.04725360151535411, 0.04725360151535411, 0.04725360151535411, 0.09450720303070823, 0.04725360151535411, 0.04725360151535411, 0.04725360151535411, 0.04725360151535411, 0.21979649980480004, 0.14648509946452146, 0.14648509946452146, 0.18247202621470987, 0.2195651413463725, 0.2195651413463725, 0.19583904306424096, 0.03506425885422142, 0.14025703541688567, 0.03506425885422142, 0.03506425885422142, 0.07012851770844283, 0.03506425885422142, 0.07012851770844283, 0.03506425885422142, 0.03506425885422142, 0.07012851770844283, 0.03506425885422142, 0.03506425885422142, 0.03506425885422142, 0.03506425885422142, 0.03506425885422142, 0.07012851770844283, 0.03506425885422142, 0.03506425885422142, 0.03506425885422142, 0.15690441052653145, 0.3138088210530629, 0.12090785060572926, 0.12090785060572926, 0.12090785060572926, 0.12090785060572926, 0.12090785060572926, 0.12789753284608382, 0.12789753284608382, 0.12789753284608382, 0.12789753284608382, 0.12789753284608382, 0.47442261269827873, 0.19415885216091347, 0.14572808027369188, 0.29145616054738377, 0.34855973951113906, 0.08048592383383411, 0.12072888575075118, 0.04024296191691706, 0.08048592383383411, 0.04024296191691706, 0.08048592383383411, 0.04024296191691706, 0.04024296191691706, 0.04024296191691706, 0.04024296191691706, 0.04024296191691706, 0.04024296191691706, 0.08048592383383411, 0.04024296191691706, 0.04024296191691706, 0.11729995519214834, 0.11729995519214834, 0.11729995519214834, 0.11729995519214834, 0.11729995519214834, 0.12328268284670091, 0.12328268284670091, 0.12328268284670091, 0.12328268284670091, 0.16271285794433293, 0.16271285794433293, 0.13644744590010552, 0.27289489180021104, 0.15882090253372774, 0.3176418050674555, 0.20195587209901575, 0.20195587209901575, 0.4028640994671453, 0.3243422805683293, 0.22510949019359314, 0.12558647887177296, 0.12558647887177296, 0.12558647887177296, 0.12558647887177296, 0.1248448386521668, 0.1248448386521668, 0.1248448386521668, 0.1248448386521668, 0.1886769470290542, 0.1886769470290542, 0.14603467631193873, 0.14603467631193873, 0.14603467631193873, 0.14603467631193873, 0.16260081308103877, 0.16260081308103877, 0.16260081308103877, 0.139837968814274, 0.139837968814274, 0.139837968814274, 0.139837968814274, 0.139837968814274, 0.18177827031907734, 0.18177827031907734, 0.18437939213329776, 0.18437939213329776, 0.20490186972421714, 0.20490186972421714, 0.18466554201162844, 0.18466554201162844, 0.16446945007070343, 0.16446945007070343, 0.20560856141560843, 0.18650384593952554, 0.18650384593952554, 0.17337356881105104, 0.17337356881105104, 0.24693550129838063, 0.20947068753752413, 0.20947068753752413, 0.11814771010727491, 0.11814771010727491, 0.23629542021454983, 0.2665286240243601, 0.3450151832372749, 0.22219273580163207, 0.19287260586235222, 0.19583739809979023, 0.19583739809979023, 0.2547578801375613, 0.2522178633175091, 0.23110762943063418, 0.23110762943063418, 0.4576158821713648, 0.23005715725990555, 0.18492097581146927, 0.18492097581146927, 0.1754270617496455, 0.1754270617496455, 0.1754270617496455, 0.1824922637240694, 0.2465510747569187, 0.1520968334618391, 0.1520968334618391, 0.14480330079966375, 0.22760490635448155, 0.18060648644350177, 0.2503440334818692, 0.2503440334818692, 0.15498911928479658, 0.15498911928479658, 0.21016053707826907, 0.2155314878500132, 0.196943214965586, 0.1976942048398853, 0.1976942048398853, 0.2513105433617883], \"Term\": [\"#acc :: #ak\\u028a\", \"#acc :: #ak\\u028a\", \"#ap :: ap\\u0281e\", \"#ar :: #a\\u0281\", \"#ar :: #a\\u0281\", \"#ar :: #a\\u0281\", \"#ar :: #a\\u0281\", \"#ar :: #a\\u0281\", \"#ar :: #a\\u0281\", \"#ar :: #a\\u0281\", \"#as :: as\\u026a\", \"#as :: as\\u026a\", \"#as :: as\\u026a\", \"#ass :: #as\", \"#ass :: #as\", \"#ass :: #as\", \"#ass :: #as\", \"#ass :: #as\", \"#av :: aval\", \"#av :: aval\", \"#ava :: ava\", \"#bas :: #bas\", \"#bas :: #bas\", \"#be :: #b\\u0259\", \"#be :: #b\\u0259\", \"#biz :: \\u026az\\u028ft\", \"#biz :: \\u026az\\u028ft\", \"#bo :: #b\\u00f5\", \"#ca :: b\\u028f\\u0281\", \"#ch :: #\\u0283a\\u0281\", \"#ch :: #\\u0283ja\", \"#cha :: #\\u0283a\", \"#cha :: #\\u0283a\", \"#cha :: #\\u0283a\", \"#cha :: #\\u0283a\", \"#cha :: #\\u0283a\", \"#cha :: #\\u0283a\", \"#cha :: \\u0254\\u032fn\", \"#chi :: \\u0283ja\", \"#chi :: \\u0283ja\", \"#chu :: \\u0283\\u028f\\u0283\\u0251\", \"#ci :: #s\\u1ebd\", \"#ci :: #s\\u1ebd\", \"#ci :: \\u032fgl\", \"#cin :: \\u0129\\u032fg\", \"#cl :: #kl\", \"#cl :: #kl\", \"#cl :: #kl\", \"#cl :: #kl\", \"#co :: #k\\u00f5\", \"#co :: #k\\u00f5\", \"#co :: #k\\u00f5\", \"#co :: #k\\u00f5\", \"#co :: #k\\u00f5\", \"#co :: #k\\u00f5\\u0169\", \"#co :: #k\\u00f5\\u0169\", \"#co :: #k\\u00f5\\u0169\", \"#co :: #k\\u00f5\\u0169\", \"#co :: #k\\u00f5\\u0169\", \"#co :: #k\\u0251\", \"#co :: #k\\u0251\", \"#co :: #k\\u0251\", \"#co :: #k\\u0251\", \"#co :: #k\\u0251\", \"#co :: #k\\u0251\", \"#co :: #k\\u0251\\u0254\", \"#co :: #k\\u0251\\u0254\", \"#co :: #k\\u0251\\u0254\", \"#co :: #k\\u0251\\u0254\", \"#co :: k\\u00f5\\u0169\", \"#co :: k\\u00f5\\u0169\", \"#co :: k\\u00f5\\u0169\", \"#co :: k\\u00f5\\u0169\", \"#co :: k\\u00f5\\u0169\", \"#co :: k\\u00f5\\u0169\", \"#co :: k\\u00f5\\u0169\\u032f\", \"#co :: k\\u00f5\\u0169\\u032f\", \"#co :: k\\u00f5\\u0169\\u032f\", \"#co :: k\\u00f5\\u0169\\u032f\", \"#co :: k\\u00f5\\u0169\\u032f\", \"#co :: k\\u00f5\\u0169\\u032f\", \"#co :: k\\u00f5\\u0169\\u032f\", \"#co :: k\\u0251\\u0254\", \"#co :: k\\u0251\\u0254\", \"#co :: k\\u0251\\u0254\", \"#co :: k\\u0251\\u0254\", \"#co :: k\\u0251\\u0254\", \"#co :: k\\u028av\\u0281\", \"#co :: \\u00f5\\u0169\\u032f\", \"#co :: \\u00f5\\u0169\\u032f\", \"#co :: \\u00f5\\u0169\\u032f\", \"#co :: \\u00f5\\u0169\\u032f\", \"#co :: \\u00f5\\u0169\\u032f\", \"#co :: \\u00f5\\u0169\\u032f\", \"#co :: \\u00f5\\u0169\\u032f\", \"#co :: \\u00f5\\u0169\\u032f\", \"#co :: \\u0251\\u0254\\u032f\", \"#co :: \\u0251\\u0254\\u032f\", \"#co :: \\u0251\\u0254\\u032f\", \"#co :: \\u0251\\u0254\\u032f\", \"#co :: \\u0251\\u0254\\u032fm\", \"#co :: \\u0251\\u0254\\u032fm\", \"#co :: \\u0254\\u032fm\", \"#coc :: \\u0251\\u0254\\u032f\", \"#com :: #k\\u0251\", \"#com :: #k\\u0251\", \"#com :: #k\\u0251\\u0254\", \"#com :: #k\\u0251\\u0254\", \"#com :: k\\u0251\\u0254\\u032f\", \"#com :: \\u0251\\u0254\\u032f\", \"#com :: \\u0254\\u032fm\", \"#con :: k\\u00f5\\u0169\", \"#con :: k\\u00f5\\u0169\", \"#con :: k\\u00f5\\u0169\", \"#con :: k\\u00f5\\u0169\", \"#con :: k\\u00f5\\u0169\", \"#con :: k\\u00f5\\u0169\", \"#cr :: #k\\u0281\", \"#cr :: #k\\u0281\", \"#cr :: #k\\u0281\", \"#cr :: #k\\u0281\", \"#cr :: #k\\u0281\", \"#cr :: #k\\u0281\", \"#cr :: #k\\u0281\", \"#cra :: k\\u0281ak\", \"#cra :: k\\u0281ak\", \"#cra :: \\u0281aka\", \"#da :: #dam\", \"#de :: esel\", \"#de :: sel\", \"#des :: esel\", \"#di :: z\\u026af\", \"#dif :: #d\\u0361z\", \"#dif :: d\\u0361z\\u026a\", \"#dif :: z\\u026af\", \"#dif :: \\u0361z\\u026a\", \"#d\\u00e9 :: #de\", \"#d\\u00e9 :: #de\", \"#d\\u00e9 :: #de\", \"#d\\u00e9 :: #de\", \"#d\\u00e9 :: #de\", \"#d\\u00e9 :: #de\", \"#d\\u00e9 :: #de\", \"#d\\u00e9 :: #de\", \"#d\\u00e9 :: #de\", \"#d\\u00e9 :: #de\", \"#d\\u00e9 :: #de\", \"#d\\u00e9 :: #de\", \"#d\\u00e9 :: #de\", \"#d\\u00e9 :: #de\", \"#d\\u00e9 :: #de\", \"#d\\u00e9 :: #de\", \"#d\\u00e9 :: #de\", \"#d\\u00e9 :: #de\", \"#d\\u00e9 :: #de\", \"#d\\u00e9 :: #de\", \"#d\\u00e9 :: #de\", \"#d\\u00e9 :: #de\", \"#d\\u00e9 :: #de\", \"#d\\u00e9 :: #de\", \"#d\\u00e9 :: #de\", \"#d\\u00e9 :: #de\", \"#d\\u00e9 :: #de\", \"#d\\u00e9 :: #de\", \"#d\\u00e9 :: #de\", \"#d\\u00e9 :: #de\", \"#d\\u00e9 :: #de\", \"#d\\u00e9 :: #de\", \"#d\\u00e9 :: #dek\", \"#d\\u00e9 :: #dek\", \"#d\\u00e9 :: #dek\", \"#d\\u00e9 :: #dek\", \"#d\\u00e9 :: #dek\", \"#d\\u00e9 :: #dek\", \"#d\\u00e9 :: #dek\", \"#d\\u00e9 :: #dek\", \"#d\\u00e9 :: #det\", \"#d\\u00e9 :: #det\", \"#d\\u00e9 :: #det\", \"#d\\u00e9 :: #det\", \"#d\\u00e9 :: #dev\", \"#d\\u00e9 :: ase\", \"#d\\u00e9 :: ase\", \"#d\\u00e9 :: ase\", \"#d\\u00e9 :: dek\", \"#d\\u00e9 :: dek\", \"#d\\u00e9 :: dek\", \"#d\\u00e9 :: dek\", \"#d\\u00e9 :: dek\", \"#d\\u00e9 :: dek\", \"#d\\u00e9 :: dek\", \"#d\\u00e9 :: dek\", \"#d\\u00e9 :: dek\", \"#d\\u00e9 :: dek\", \"#d\\u00e9 :: dek\", \"#d\\u00e9 :: dek\", \"#d\\u00e9 :: dek\", \"#d\\u00e9 :: dek\\u0251\", \"#d\\u00e9 :: dev\", \"#d\\u00e9 :: dev\", \"#d\\u00e9 :: dev\", \"#d\\u00e9 :: d\\u0259\\u0281a\", \"#d\\u00e9 :: ega\", \"#d\\u00e9 :: ega\", \"#d\\u00e9 :: k\\u0251\\u0254\", \"#d\\u00e9 :: k\\u0251\\u0254\", \"#d\\u00e9 :: k\\u0251\\u0254\", \"#d\\u00e9 :: k\\u0251\\u0254\\u032f\", \"#d\\u00e9 :: k\\u0251\\u0254\\u032f\", \"#d\\u00e9c :: #de\", \"#d\\u00e9c :: #de\", \"#d\\u00e9c :: #de\", \"#d\\u00e9c :: #de\", \"#d\\u00e9c :: #de\", \"#d\\u00e9c :: #de\", \"#d\\u00e9c :: #de\", \"#d\\u00e9c :: #de\", \"#d\\u00e9c :: #de\", \"#d\\u00e9c :: #de\", \"#d\\u00e9c :: #de\", \"#d\\u00e9c :: #de\", \"#d\\u00e9c :: #dek\", \"#d\\u00e9c :: #dek\", \"#d\\u00e9c :: #dek\", \"#d\\u00e9c :: #dek\", \"#d\\u00e9c :: #dek\", \"#d\\u00e9c :: #dek\", \"#d\\u00e9c :: #dek\", \"#d\\u00e9c :: #dek\", \"#d\\u00e9c :: #dek\", \"#d\\u00e9c :: #dek\", \"#d\\u00e9c :: dek\", \"#d\\u00e9c :: dek\", \"#d\\u00e9c :: dek\", \"#d\\u00e9c :: dek\", \"#d\\u00e9c :: dek\", \"#d\\u00e9c :: dek\", \"#d\\u00e9c :: dek\", \"#d\\u00e9c :: dek\", \"#d\\u00e9c :: dek\", \"#d\\u00e9c :: dek\", \"#d\\u00e9c :: dek\", \"#d\\u00e9c :: dek\\u0251\", \"#d\\u00e9c :: eka\", \"#d\\u00e9c :: eka\", \"#d\\u00e9c :: eka\", \"#d\\u00e9c :: ek\\u0251\\u0254\", \"#d\\u00e9c :: k\\u0251\\u0254\\u032f\", \"#d\\u00e9c :: \\u0251\\u0254\\u032f\", \"#d\\u00e9c :: \\u0251\\u0254\\u032f\", \"#d\\u00e9n :: denj\", \"#d\\u00e9n :: ene\\u0292\", \"#d\\u00e9t :: det\", \"#d\\u00e9t :: det\", \"#d\\u00e9t :: det\", \"#d\\u00e9t :: det\", \"#d\\u00e9t :: det\", \"#d\\u00e9v :: #de\", \"#d\\u00e9v :: #dev\", \"#d\\u00e9v :: #dev\", \"#d\\u00e9v :: #dev\", \"#d\\u00e9v :: #dev\", \"#d\\u00e9v :: dev\", \"#em :: #\\u0251\\u0303\", \"#em :: #\\u0251\\u0303\", \"#em :: #\\u0251\\u0303\", \"#em :: #\\u0251\\u0303\", \"#em :: #\\u0251\\u0303\", \"#em :: #\\u0251\\u0303\", \"#em :: #\\u0251\\u0303\", \"#em :: #\\u0251\\u0303\", \"#em :: #\\u0251\\u0303\", \"#em :: #\\u0251\\u0303\", \"#em :: #\\u0251\\u0303\", \"#em :: #\\u0251\\u0303\", \"#em :: #\\u0251\\u0303\", \"#em :: #\\u0251\\u0303p\", \"#em :: #\\u0251\\u0303p\", \"#em :: #\\u0251\\u0303p\", \"#em :: #\\u0251\\u0303p\", \"#em :: #\\u0251\\u0303p\", \"#em :: \\u0251\\u0303p\", \"#em :: \\u0251\\u0303p\", \"#em :: \\u0251\\u0303p\", \"#em :: \\u0251\\u0303p\", \"#em :: \\u0251\\u0303p\", \"#em :: \\u0251\\u0303p\", \"#em :: \\u0251\\u0303p\", \"#em :: \\u0251\\u0303p\", \"#em :: \\u0303p\\u0251\\u0254\", \"#em :: \\u0303p\\u0251\\u0254\", \"#emp :: #\\u0251\\u0303\", \"#emp :: #\\u0251\\u0303\", \"#emp :: #\\u0251\\u0303\", \"#emp :: #\\u0251\\u0303\", \"#emp :: #\\u0251\\u0303p\", \"#emp :: #\\u0251\\u0303p\", \"#emp :: #\\u0251\\u0303p\", \"#emp :: #\\u0251\\u0303p\", \"#emp :: #\\u0251\\u0303p\", \"#emp :: #\\u0251\\u0303p\", \"#emp :: p\\u0281e\", \"#emp :: p\\u0281e\", \"#emp :: \\u0251\\u0303p\", \"#emp :: \\u0251\\u0303p\", \"#emp :: \\u0251\\u0303p\", \"#emp :: \\u0251\\u0303p\", \"#emp :: \\u0251\\u0303p\", \"#emp :: \\u0251\\u0303p\", \"#en :: #\\u0251\\u0303\", \"#en :: #\\u0251\\u0303\", \"#en :: #\\u0251\\u0303\", \"#en :: #\\u0251\\u0303\", \"#en :: #\\u0251\\u0303\", \"#en :: #\\u0251\\u0303\", \"#en :: #\\u0251\\u0303\", \"#en :: #\\u0251\\u0303\", \"#en :: #\\u0251\\u0303\", \"#en :: #\\u0251\\u0303\", \"#en :: #\\u0251\\u0303\", \"#en :: #\\u0251\\u0303\", \"#en :: #\\u0251\\u0303\", \"#en :: #\\u0251\\u0303\", \"#en :: #\\u0251\\u0303\", \"#en :: #\\u0251\\u0303\", \"#en :: #\\u0251\\u0303f\", \"#en :: #\\u0251\\u0303f\", \"#en :: #\\u0251\\u0303f\", \"#en :: #\\u0251\\u0303f\", \"#en :: #\\u0251\\u0303f\", \"#en :: #\\u0251\\u0303t\", \"#en :: #\\u0251\\u0303t\", \"#en :: #\\u0251\\u0303t\", \"#en :: #\\u0251\\u0303v\", \"#en :: #\\u0251\\u0303v\", \"#en :: tat\", \"#en :: \\u0251\\u0303t\", \"#en :: \\u0251\\u0303t\", \"#en :: \\u0251\\u0303t\", \"#en :: \\u0251\\u0303v\", \"#en :: \\u0251\\u0303v\", \"#en :: \\u0361z\\u028f\\u0281\", \"#end :: #\\u0251\\u0303\", \"#end :: #\\u0251\\u0303\", \"#end :: #\\u0251\\u0303\", \"#end :: #\\u0251\\u0303\", \"#end :: \\u0361z\\u028f\", \"#end :: \\u0361z\\u028f\", \"#ent :: #\\u0251\\u0303\", \"#ent :: #\\u0251\\u0303\", \"#ent :: #\\u0251\\u0303t\", \"#ent :: #\\u0251\\u0303t\", \"#ent :: #\\u0251\\u0303t\", \"#ent :: \\u0251\\u0303t\", \"#ent :: \\u0251\\u0303t\", \"#ent :: \\u0251\\u0303t\", \"#ent :: \\u0251\\u0303t\", \"#env :: #\\u0251\\u0303\", \"#env :: #\\u0251\\u0303\", \"#env :: #\\u0251\\u0303v\", \"#env :: #\\u0251\\u0303v\", \"#env :: \\u0251\\u0303v\", \"#env :: \\u0251\\u0303v\", \"#env :: \\u0251\\u0303v\", \"#env :: \\u0303v\\u026a\", \"#env :: \\u0303v\\u026a\", \"#fa :: fab\", \"#fal :: als\\u026a\", \"#fal :: fal\", \"#fe :: waj\", \"#fes :: twa\", \"#foi :: wa\\u0281\", \"#foi :: wa\\u0281\", \"#fon :: f\\u00f5\\u0169\", \"#fr :: \\u0281\\u026ak\", \"#fr :: \\u0281\\u026ak\", \"#ga :: a\\u0281g\", \"#ga :: gal\\u0251\", \"#ga :: ga\\u0281\", \"#ga :: ga\\u0281\", \"#ga :: ga\\u0281\", \"#ga :: ga\\u0281g\", \"#gar :: ga\\u0281\", \"#gar :: ga\\u0281\", \"#gar :: ga\\u0281g\", \"#gas :: asp\", \"#go\\u00fb :: #g\\u028at\", \"#go\\u00fb :: #g\\u028at\", \"#gr :: #g\\u0281\", \"#gr :: #g\\u0281\", \"#gr :: #g\\u0281\", \"#gr :: #g\\u0281\", \"#gr :: #g\\u0281\", \"#gr :: #g\\u0281\", \"#gr :: #g\\u0281\", \"#gr :: g\\u0281a\", \"#gr :: g\\u0281a\", \"#gr :: g\\u0281a\", \"#gr :: g\\u0281a\", \"#gra :: #g\\u0281\", \"#gra :: #g\\u0281\", \"#gro :: g\\u0281\\u0251\", \"#gu\\u00e9 :: e\\u0281\\u026a\", \"#ho :: \\u0251\\u0254\\u032f\", \"#ho :: \\u0251\\u0254\\u032f\", \"#in :: #\\u1ebd\\u0129\", \"#in :: #\\u1ebd\\u0129\", \"#in :: #\\u1ebd\\u0129\", \"#in :: #\\u1ebd\\u0129\", \"#in :: #\\u1ebd\\u0129\", \"#in :: #\\u1ebd\\u0129\", \"#in :: #\\u1ebd\\u0129\\u032f\", \"#in :: #\\u1ebd\\u0129\\u032f\", \"#in :: #\\u1ebd\\u0129\\u032f\", \"#in :: #\\u1ebd\\u0129\\u032f\", \"#in :: #\\u1ebd\\u0129\\u032f\", \"#in :: #\\u1ebd\\u0129\\u032f\", \"#in :: \\u032ffa\", \"#in :: \\u1ebd\\u0129\\u032f\", \"#in :: \\u1ebd\\u0129\\u032f\", \"#in :: \\u1ebd\\u0129\\u032f\", \"#in :: \\u1ebd\\u0129\\u032f\", \"#in :: \\u1ebd\\u0129\\u032f\", \"#in :: \\u1ebd\\u0129\\u032f\", \"#in :: \\u1ebd\\u0129\\u032f\", \"#in :: \\u1ebd\\u0129\\u032ff\", \"#inf :: #\\u1ebd\\u0129\", \"#inf :: #\\u1ebd\\u0129\", \"#inf :: \\u1ebd\\u0129\\u032f\", \"#inf :: \\u1ebd\\u0129\\u032ff\", \"#inf :: \\u1ebd\\u0129\\u032ff\", \"#inf :: \\u1ebd\\u0129\\u032ff\", \"#ma :: #ma\", \"#ma :: #ma\", \"#ma :: #ma\", \"#ma :: #ma\", \"#ma :: #ma\", \"#ma :: #ma\", \"#ma :: #ma\", \"#ma :: #ma\", \"#ma :: #ma\", \"#ma :: #ma\", \"#ma :: #ma\", \"#ma :: #ma\", \"#ma :: #ma\", \"#ma :: #ma\", \"#ma :: #ma\", \"#ma :: \\u0281b\\u0281\", \"#mal :: alt\", \"#mi :: #m\\u026a\", \"#mi :: #m\\u026a\", \"#mi :: #m\\u026a\", \"#mi :: #m\\u026a\", \"#mi :: #m\\u026a\", \"#mi :: #m\\u026a\", \"#mi :: m\\u026aks\", \"#mo :: #m\\u0251\\u0254\", \"#mo :: #m\\u0251\\u0254\", \"#mo :: #m\\u0251\\u0254\", \"#mo :: #m\\u0251\\u0254\", \"#mo :: m\\u0251\\u0254\", \"#mo :: m\\u0251\\u0254\", \"#mo :: m\\u0251\\u0254\", \"#mo :: m\\u0251\\u0254\", \"#mo :: \\u0251\\u0254\\u032f\\u0281\", \"#mo :: \\u0251\\u0254\\u032f\\u0281\", \"#mo :: \\u0251\\u0254\\u032f\\u0281\", \"#mo :: \\u0254\\u032f\\u0281\", \"#mor :: #m\\u0251\\u0254\", \"#mor :: m\\u0251\\u0254\", \"#mor :: m\\u0251\\u0254\", \"#mor :: m\\u0251\\u0254\\u032f\", \"#mor :: m\\u0251\\u0254\\u032f\", \"#mor :: \\u0251\\u0254\\u032f\\u0281\", \"#mor :: \\u0254\\u032f\\u0281\", \"#m\\u00e9 :: #me\", \"#m\\u00e9 :: #me\", \"#m\\u00e9 :: #med\", \"#m\\u00e9 :: d\\u0361z\", \"#m\\u00e9d :: d\\u0361z\", \"#m\\u00e9d :: med\\u0361\", \"#m\\u00e9d :: med\\u0361\", \"#m\\u00e9d :: med\\u0361\", \"#m\\u00e9p :: #me\", \"#pa :: #pa\", \"#pa :: #pa\", \"#pa :: #pa\", \"#pa :: #pa\", \"#pa :: #pa\", \"#pa :: #pa\", \"#pa :: #pa\", \"#pa :: #pa\", \"#pa :: #pa\", \"#pa :: #pa\", \"#pa :: #pa\", \"#pa :: #pa\", \"#pa :: #pa\", \"#pa :: #pa\", \"#pa :: a\\u0281f\\u028f\", \"#pa :: a\\u0281f\\u028f\", \"#pa :: a\\u0281f\\u028f\", \"#par :: \\u0281f\\u028fm\", \"#pla :: plaz\", \"#pr :: p\\u0281\\u0251\", \"#pro :: p\\u0281\\u0251\", \"#pro :: p\\u0281\\u0251\", \"#pro :: p\\u0281\\u0251\", \"#pro :: p\\u0281\\u0251\\u0254\", \"#pro :: \\u0251\\u0254\\u032f\", \"#pro :: \\u0251\\u0254\\u032f\", \"#pro :: \\u0251\\u0254\\u032f\", \"#pro :: \\u0251\\u0254\\u032f\", \"#pro :: \\u0281\\u0251\\u0254\", \"#pro :: \\u0281\\u0251\\u0254\", \"#pr\\u00e9 :: \\u0281e\\u0292\", \"#pr\\u00e9 :: \\u0281e\\u0292\", \"#pr\\u00e9 :: \\u0281e\\u0292\", \"#p\\u00e2 :: at\\u0361\", \"#p\\u00e2 :: pat\", \"#p\\u00e2 :: pat\\u0361\", \"#p\\u00e2 :: pat\\u0361\", \"#p\\u00e2t :: #pat\", \"#p\\u00e2t :: \\u0361s\\u026a\", \"#ra :: #\\u0281a\", \"#ra :: #\\u0281a\", \"#ra :: #\\u0281a\", \"#ra :: #\\u0281a\", \"#ra :: #\\u0281a\", \"#ra :: #\\u0281a\", \"#ra :: #\\u0281a\", \"#ra :: #\\u0281a\", \"#ra :: #\\u0281a\", \"#ra :: #\\u0281a\", \"#ra :: #\\u0281a\", \"#ra :: #\\u0281a\", \"#ra :: #\\u0281ad\", \"#ra :: #\\u0281ad\", \"#ra :: apat\", \"#ra :: apat\", \"#ra :: at\\u0281\", \"#ra :: \\u0281ad\", \"#ra :: \\u0281ap\", \"#ra :: \\u0281ap\", \"#ra :: \\u0281apa\", \"#ra :: \\u0281apa\", \"#rac :: \\u00f5\\u0169\\u032f\", \"#rac :: \\u00f5\\u0169\\u032f\", \"#rac :: \\u00f5\\u0169\\u032f\", \"#rad :: ad\\u028a\", \"#rap :: #\\u0281ap\", \"#rap :: #\\u0281ap\", \"#rap :: pat\\u0281\", \"#rap :: pat\\u0281\", \"#re :: #\\u0281\\u0251\", \"#re :: #\\u0281\\u0251\", \"#re :: #\\u0281\\u0251\", \"#re :: #\\u0281\\u0251\", \"#re :: #\\u0281\\u0251\", \"#re :: #\\u0281\\u0251\", \"#re :: #\\u0281\\u0251\", \"#re :: #\\u0281\\u0259\", \"#re :: #\\u0281\\u0259\", \"#re :: #\\u0281\\u0259\", \"#re :: #\\u0281\\u0259\", \"#re :: #\\u0281\\u0259\", \"#re :: #\\u0281\\u0259\", \"#re :: #\\u0281\\u0259\", \"#re :: #\\u0281\\u0259\", \"#re :: #\\u0281\\u0259\", \"#re :: #\\u0281\\u0259\", \"#re :: #\\u0281\\u0259\", \"#re :: #\\u0281\\u0259\", \"#re :: #\\u0281\\u0259\", \"#re :: #\\u0281\\u0259\", \"#re :: #\\u0281\\u0259\", \"#re :: #\\u0281\\u0259\", \"#re :: #\\u0281\\u0259\", \"#re :: #\\u0281\\u0259\", \"#re :: #\\u0281\\u0259\", \"#re :: #\\u0281\\u0259\", \"#re :: #\\u0281\\u0259\", \"#re :: #\\u0281\\u0259\", \"#re :: #\\u0281\\u0259m\", \"#re :: #\\u0281\\u0259m\", \"#re :: #\\u0281\\u0259m\", \"#re :: #\\u0281\\u0259p\", \"#re :: #\\u0281\\u0259p\", \"#re :: #\\u0281\\u0259p\", \"#re :: #\\u0281\\u0259p\", \"#re :: #\\u0281\\u0259p\", \"#re :: #\\u0281\\u0259p\", \"#re :: #\\u0281\\u0259p\", \"#re :: kla\", \"#re :: klas\", \"#re :: klas\", \"#re :: k\\u028ap\", \"#re :: ma\\u0281\", \"#re :: p\\u026al\", \"#re :: p\\u026al\", \"#re :: s\\u0259\\u0281\\u0254\", \"#re :: \\u00f5\\u0169\\u032f\", \"#re :: \\u0251\\u0303b\", \"#re :: \\u0259ma\", \"#re :: \\u0259ma\", \"#re :: \\u0281\\u0251\\u0303b\", \"#re :: \\u0281\\u0251\\u0303b\", \"#re :: \\u0281\\u0259b\\u0281\", \"#re :: \\u0281\\u0259g\\u0281\", \"#re :: \\u0281\\u0259m\", \"#re :: \\u0281\\u0259m\", \"#re :: \\u0281\\u0259m\", \"#re :: \\u0281\\u0259m\", \"#re :: \\u0281\\u0259ma\", \"#re :: \\u0281\\u0259ma\", \"#red :: #\\u0281\\u0259\", \"#reg :: #\\u0281\\u0259g\", \"#reg :: #\\u0281\\u0259g\", \"#rem :: #\\u0281\\u0259\", \"#rem :: #\\u0281\\u0259\", \"#rem :: #\\u0281\\u0259\", \"#rem :: #\\u0281\\u0259m\", \"#rem :: #\\u0281\\u0259m\", \"#rem :: #\\u0281\\u0259m\", \"#rem :: #\\u0281\\u0259m\", \"#rem :: p\\u026al\", \"#rem :: \\u0259ma\", \"#rem :: \\u0259ma\", \"#rem :: \\u0259ma\", \"#rem :: \\u0259ma\\u0281\", \"#rem :: \\u0281\\u0251\\u0303b\", \"#rem :: \\u0281\\u0251\\u0303b\", \"#rem :: \\u0281\\u0259m\", \"#rem :: \\u0281\\u0259m\", \"#rem :: \\u0281\\u0259m\", \"#rem :: \\u0281\\u0259m\", \"#rem :: \\u0281\\u0259ma\", \"#rem :: \\u0281\\u0259ma\", \"#rep :: \\u0281\\u0259p\", \"#rep :: \\u0281\\u0259p\", \"#rep :: \\u0281\\u0259p\", \"#rep :: \\u0281\\u0259p\", \"#rep :: \\u0281\\u0259p\", \"#rep :: \\u0281\\u0259p\", \"#rim :: #\\u0281\\u026am\", \"#rim :: #\\u0281\\u026am\", \"#r\\u00e9 :: #\\u0281e\", \"#r\\u00e9 :: #\\u0281e\", \"#r\\u00e9 :: #\\u0281e\", \"#r\\u00e9 :: #\\u0281e\", \"#r\\u00e9 :: #\\u0281e\", \"#r\\u00e9 :: #\\u0281e\", \"#r\\u00e9 :: #\\u0281e\", \"#r\\u00e9 :: #\\u0281e\", \"#r\\u00e9 :: #\\u0281e\", \"#r\\u00e9 :: #\\u0281e\", \"#r\\u00e9 :: #\\u0281e\", \"#r\\u00e9 :: #\\u0281e\", \"#r\\u00e9 :: #\\u0281e\", \"#r\\u00e9 :: #\\u0281e\", \"#r\\u00e9 :: #\\u0281e\", \"#r\\u00e9 :: #\\u0281e\", \"#r\\u00e9 :: l\\u026az\", \"#r\\u00e9 :: l\\u026az\", \"#r\\u00e9 :: \\u0281ep\", \"#r\\u00e9 :: \\u0281ep\", \"#sol :: \\u0254\\u032fl\", \"#sou :: #s\\u028a\", \"#sou :: #s\\u028a\", \"#sou :: #s\\u028a\", \"#sou :: #s\\u028a\", \"#sou :: #s\\u028a\", \"#sou :: #s\\u028a\", \"#sou :: #s\\u028a\", \"#sou :: #s\\u028a\", \"#sou :: #s\\u028a\", \"#su :: s\\u028fb\", \"#su :: s\\u028fb\", \"#su :: s\\u028fb\", \"#su :: s\\u028fb\", \"#su :: \\u028f\\u0281v\", \"#s\\u00e9 :: #se\", \"#to :: #t\\u00f5\", \"#tr :: #t\\u0281\", \"#tr :: #t\\u0281\", \"#tr :: #t\\u0281\", \"#tr :: #t\\u0281\", \"#tr :: #t\\u0281\", \"#tr :: #t\\u0281\", \"#tr :: #t\\u0281\", \"#tr :: #t\\u0281\", \"#tr :: #t\\u0281\", \"#tr :: #t\\u0281\", \"#tr :: #t\\u0281\", \"#tr :: #t\\u0281\", \"#tr :: #t\\u0281\", \"#tr :: #t\\u0281\", \"#tr :: #t\\u0281\", \"#tr :: t\\u0281\\u026a\", \"#tr :: t\\u0281\\u026a\", \"#tr :: \\u0251\\u0303\\u0283\", \"#tr :: \\u0281\\u0251\\u0303s\", \"#tra :: \\u0251\\u0303z\", \"#tra :: \\u0251\\u0303z\", \"#tra :: \\u0281\\u0251\\u0303s\", \"#tre :: #t\\u0281\", \"#tre :: #t\\u0281\", \"#tre :: #t\\u0281\", \"#tre :: #t\\u0281a\", \"#tre :: #t\\u0281a\", \"#tri :: \\u0281\\u026ap\", \"#tri :: \\u0281\\u026ap\", \"#t\\u00e9 :: #te\", \"#t\\u00e9 :: #te\", \"#t\\u00e9 :: #tel\", \"#t\\u00e9 :: #tel\", \"#t\\u00e9 :: tel\", \"#t\\u00e9 :: tel\", \"#t\\u00e9 :: tel\", \"#t\\u00e9 :: tele\", \"#t\\u00e9l :: #te\", \"#t\\u00e9l :: #te\", \"#t\\u00e9l :: ele\", \"#t\\u00e9l :: tel\", \"#ve :: #va\", \"#ve :: #va\", \"#ve :: #va\", \"#ve :: #va\", \"#ve :: #va\\u0281\", \"#ve :: #va\\u0281\", \"#ve :: #va\\u0281\", \"#ve :: a\\u0281dw\", \"#ver :: a\\u0281d\", \"#ver :: va\\u0281d\", \"#vi :: #v\\u026a\", \"#vi :: #v\\u026a\", \"#vi :: #v\\u026a\", \"#vi :: #v\\u026a\", \"#\\u00e9c :: \\u0281a#\", \"#\\u00e9c :: \\u0281a#\", \"#\\u00e9cr :: ek\\u0281\\u026a\", \"#\\u00e9cr :: ek\\u0281\\u026a\", \"#\\u00e9p :: ep\\u028a\", \"#\\u00e9p :: ep\\u028a\", \"#\\u00e9p :: pl\\u028f\\u0283\", \"#\\u00e9t :: #et\", \"#\\u00e9t :: #et\", \"#\\u00e9t :: #et\", \"acco :: ak\\u028a\", \"acco :: ak\\u028a\", \"ado :: #\\u0281ad\", \"adou :: \\u0281ad\", \"adou :: \\u0281ad\", \"agea :: mena\", \"ai# :: l\\u0259\\u0281\", \"ai# :: \\u0259\\u0281a#\", \"ai# :: \\u0259\\u0281a#\", \"ai# :: \\u0259\\u0281a#\", \"ai# :: \\u0259\\u0281a#\", \"ai# :: \\u0259\\u0281a#\", \"ai# :: \\u0259\\u0281a#\", \"ai# :: \\u0259\\u0281a#\", \"ai# :: \\u0259\\u0281a#\", \"ai# :: \\u0259\\u0281a#\", \"ai# :: \\u0259\\u0281a#\", \"ai# :: \\u0281a#\", \"ai# :: \\u0281a#\", \"ai# :: \\u0281a#\", \"ai# :: \\u0281a#\", \"ai# :: \\u0281a#\", \"ai# :: \\u0281a#\", \"ai# :: \\u0281a#\", \"ai# :: \\u0281a#\", \"ai# :: \\u0281a#\", \"ai# :: \\u0281a#\", \"ai# :: \\u0281a#\", \"ai# :: \\u0281a#\", \"aie :: ja#\", \"aie :: ja#\", \"aie :: ja#\", \"aie :: sa#\", \"aie :: sa#\", \"aie :: \\u0259\\u0281a#\", \"aie :: \\u0259\\u0281a#\", \"aie :: \\u0259\\u0281a#\", \"aie :: \\u0259\\u0281a#\", \"aie :: \\u0259\\u0281a#\", \"aie :: \\u0259\\u0281a#\", \"aie :: \\u0259\\u0281a#\", \"aie :: \\u0259\\u0281a#\", \"aie :: \\u0259\\u0281a#\", \"aie :: \\u0259\\u0281a#\", \"aie :: \\u0281a#\", \"aie :: \\u0281a#\", \"aie :: \\u0281a#\", \"aie :: \\u0281a#\", \"aie :: \\u0281a#\", \"aie :: \\u0281a#\", \"aie :: \\u0281a#\", \"aie :: \\u0281a#\", \"aie :: \\u0281a#\", \"aie :: \\u0281a#\", \"aie :: \\u0281a#\", \"aien :: #s\\u028f\", \"aien :: #s\\u028f\", \"aien :: sa#\", \"aien :: sa#\", \"aien :: sa#\", \"aien :: \\u0259\\u0281a\", \"aien :: \\u0259\\u0281a\", \"aien :: \\u0259\\u0281a\", \"aien :: \\u0259\\u0281a\", \"aien :: \\u0259\\u0281a\", \"aien :: \\u0259\\u0281a\", \"aien :: \\u0259\\u0281a\", \"aien :: \\u0259\\u0281a\", \"aien :: \\u0259\\u0281a\", \"aien :: \\u0259\\u0281a#\", \"aien :: \\u0259\\u0281a#\", \"aien :: \\u0259\\u0281a#\", \"aien :: \\u0259\\u0281a#\", \"aien :: \\u0259\\u0281a#\", \"aien :: \\u0259\\u0281a#\", \"aien :: \\u0259\\u0281a#\", \"aien :: \\u0259\\u0281a#\", \"aien :: \\u0281a#\", \"aien :: \\u0281a#\", \"aien :: \\u0281a#\", \"aien :: \\u0281a#\", \"aien :: \\u0281a#\", \"aien :: \\u0281a#\", \"aien :: \\u0281a#\", \"aien :: \\u0281a#\", \"aien :: \\u0281a#\", \"aien :: \\u0281a#\", \"aien :: \\u0281a#\", \"ail :: j\\u0259\\u0281\", \"ail :: j\\u0259\\u0281\", \"aill :: maj\", \"aill :: maj\", \"aill :: paj\", \"aill :: paj\", \"ais :: #pla\", \"ais :: deka\", \"ais :: pla\", \"ais :: pla\", \"ais :: \\u0251\\u0254\\u032ft\", \"ais :: \\u0251\\u0254\\u032ft\", \"ais :: \\u0251\\u0254\\u032ft\", \"ais :: \\u0259\\u0281a\", \"ais :: \\u0259\\u0281a\", \"ais :: \\u0259\\u0281a\", \"ais :: \\u0259\\u0281a\", \"ais :: \\u0259\\u0281a\", \"ais :: \\u0259\\u0281a\", \"ais :: \\u0259\\u0281a\", \"ais :: \\u0259\\u0281a\", \"ais :: \\u0259\\u0281a\", \"ais :: \\u0259\\u0281a\", \"ais :: \\u0259\\u0281a\", \"ais :: \\u0259\\u0281a#\", \"ais :: \\u0259\\u0281a#\", \"ais :: \\u0259\\u0281a#\", \"ais :: \\u0259\\u0281a#\", \"ais :: \\u0259\\u0281a#\", \"ais :: \\u0259\\u0281a#\", \"ais :: \\u0259\\u0281a#\", \"ais :: \\u0259\\u0281a#\", \"ais :: \\u0259\\u0281a#\", \"ais :: \\u0259\\u0281a#\", \"ais :: \\u0281a#\", \"ais :: \\u0281a#\", \"ais :: \\u0281a#\", \"ais :: \\u0281a#\", \"ais :: \\u0281a#\", \"ais :: \\u0281a#\", \"ais :: \\u0281a#\", \"ais :: \\u0281a#\", \"ais :: \\u0281a#\", \"ais :: \\u0281a#\", \"ais :: \\u0281a#\", \"ais :: \\u0281a#\", \"ais :: \\u0281a#\", \"ais :: \\u0281a#\", \"ais# :: #\\u0281\\u0259\", \"ais# :: \\u0251\\u0254\\u032ft\", \"ais# :: \\u0259\\u0281a\", \"ais# :: \\u0259\\u0281a\", \"ais# :: \\u0259\\u0281a\", \"ais# :: \\u0259\\u0281a\", \"ais# :: \\u0259\\u0281a\", \"ais# :: \\u0259\\u0281a\", \"ais# :: \\u0259\\u0281a\", \"ais# :: \\u0259\\u0281a\", \"ais# :: \\u0259\\u0281a\", \"ais# :: \\u0259\\u0281a\", \"ais# :: \\u0259\\u0281a#\", \"ais# :: \\u0259\\u0281a#\", \"ais# :: \\u0259\\u0281a#\", \"ais# :: \\u0259\\u0281a#\", \"ais# :: \\u0259\\u0281a#\", \"ais# :: \\u0259\\u0281a#\", \"ais# :: \\u0259\\u0281a#\", \"ais# :: \\u0259\\u0281a#\", \"ais# :: \\u0259\\u0281a#\", \"ais# :: \\u0259\\u0281a#\", \"ais# :: \\u0281a#\", \"ais# :: \\u0281a#\", \"ais# :: \\u0281a#\", \"ais# :: \\u0281a#\", \"ais# :: \\u0281a#\", \"ais# :: \\u0281a#\", \"ais# :: \\u0281a#\", \"ais# :: \\u0281a#\", \"ais# :: \\u0281a#\", \"ais# :: \\u0281a#\", \"ais# :: \\u0281a#\", \"ais# :: \\u0281a#\", \"ais# :: \\u0281a#\", \"ais# :: \\u0281a#\", \"ais# :: \\u0281\\u0259\\u0281a\", \"ais# :: \\u032fta\", \"aiss :: deka\", \"ali :: al\\u026a\", \"ali :: al\\u026a\", \"ali :: al\\u026a\", \"ali :: al\\u026a\", \"ali :: al\\u026a\", \"ali :: al\\u026a\", \"ali :: al\\u026az\", \"ali :: al\\u026az\", \"ali :: al\\u026az\", \"ali :: al\\u026az\", \"ali :: al\\u026az\", \"ali :: l\\u026az\", \"ali :: l\\u026az\", \"ali :: l\\u026az\", \"ali :: l\\u026az\", \"alis :: al\\u026a\", \"alis :: al\\u026a\", \"alis :: al\\u026a\", \"alis :: al\\u026a\", \"alis :: al\\u026a\", \"alis :: al\\u026a\", \"alis :: l\\u026az\", \"alis :: l\\u026az\", \"alis :: l\\u026az\", \"alis :: l\\u026az\", \"alop :: al\\u0251\\u0254\", \"alt\\u00e9 :: #alt\", \"alt\\u00e9 :: #alt\", \"alu :: val\", \"amb :: l\\u0251\\u0303\", \"anac :: #\\u0251\\u0303p\", \"anc :: t\\u0251\\u0303\", \"andi :: \\u0251\\u0303d\", \"andi :: \\u0303d\\u0361z\", \"ang :: \\u0281e#\", \"angu :: \\u0251\\u0303g\", \"angu :: \\u0251\\u0303g\", \"anie :: nje#\", \"anim :: an\\u026a\", \"ans :: \\u0251\\u0303s\", \"ans :: \\u0281\\u0251\\u0303\", \"ans :: \\u0281\\u0251\\u0303\", \"ant :: ta#\", \"ant :: ta#\", \"ant :: \\u00e3\\u0169\\u032f\", \"ant :: \\u00e3\\u0169\\u032f\", \"ant :: \\u00e3\\u0169\\u032f\", \"ant :: \\u00e3\\u0169\\u032ft\", \"ant :: \\u00e3\\u0169\\u032ft\", \"ant :: \\u00e3\\u0169\\u032ft\", \"ant :: \\u00e3\\u0169\\u032ft\", \"ant :: \\u00e6\\u0303#\", \"ant :: \\u00e6\\u0303#\", \"ant :: \\u00e6\\u0303#\", \"ant :: \\u00e6\\u0303#\", \"ant :: \\u00e6\\u0303#\", \"ant :: \\u00e6\\u0303#\", \"ant :: \\u00e6\\u0303#\", \"ant :: \\u00e6\\u0303#\", \"ant :: \\u00e6\\u0303#\", \"ant :: \\u00e6\\u0303#\", \"ant :: \\u00e6\\u0303#\", \"ant :: \\u00e6\\u0303#\", \"ant :: \\u00e6\\u0303#\", \"ant :: \\u00e6\\u0303#\", \"ant :: \\u00e6\\u0303#\", \"ant :: \\u00e6\\u0303#\", \"ant :: \\u0169\\u032ft\", \"ant :: \\u0169\\u032ft\", \"ant :: \\u0169\\u032ft\", \"ant :: \\u0169\\u032ft#\", \"ant :: \\u0169\\u032ft#\", \"ant :: \\u0169\\u032ft#\", \"ant :: \\u032ft#\", \"ant :: \\u032ft#\", \"ant :: \\u032ft#\", \"ant :: \\u032ft#\", \"ant# :: v\\u00e6\\u0303#\", \"ant# :: \\u00e6\\u0303#\", \"ant# :: \\u00e6\\u0303#\", \"ant# :: \\u00e6\\u0303#\", \"ant# :: \\u00e6\\u0303#\", \"ant# :: \\u00e6\\u0303#\", \"ant# :: \\u00e6\\u0303#\", \"ant# :: \\u00e6\\u0303#\", \"ant# :: \\u00e6\\u0303#\", \"ant# :: \\u00e6\\u0303#\", \"ant# :: \\u00e6\\u0303#\", \"ant# :: \\u00e6\\u0303#\", \"ant# :: \\u00e6\\u0303#\", \"ant# :: \\u00e6\\u0303#\", \"anta :: #de\", \"ante :: \\u00e3\\u0169\\u032f\", \"ante :: \\u00e3\\u0169\\u032f\", \"ante :: \\u00e3\\u0169\\u032f\", \"ante :: \\u00e3\\u0169\\u032ft\", \"ante :: \\u00e3\\u0169\\u032ft\", \"ante :: \\u00e3\\u0169\\u032ft\", \"ante :: \\u00e3\\u0169\\u032ft\", \"ante :: \\u00e3\\u0169\\u032ft\", \"ante :: \\u0169\\u032ft\", \"ante :: \\u0169\\u032ft\", \"ante :: \\u0169\\u032ft\", \"ante :: \\u0169\\u032ft#\", \"ante :: \\u0169\\u032ft#\", \"ante :: \\u0169\\u032ft#\", \"ante :: \\u032ft#\", \"ante :: \\u032ft#\", \"ante :: \\u032ft#\", \"ape :: p\\u0281\\u0251\\u0254\", \"ape :: p\\u0281\\u0251\\u0254\", \"ape :: t\\u0361s\\u026a\", \"ape :: t\\u0361s\\u026a\", \"ape :: t\\u0361s\\u026a\", \"apo :: ap\\u0251\", \"apot :: \\u0251\\u0254\\u032f\", \"arb :: #ma\\u0281\", \"arb :: ka\\u0281b\", \"arf :: #pa\\u0281\", \"arf :: \\u0281f\\u028f\", \"arg :: #ga\", \"arg :: a\\u0281g\", \"arg :: ga\\u0281\", \"arga :: ga\\u0281\", \"ari :: ga\\u0281\", \"arqu :: \\u0303ba\", \"arqu :: \\u0303ba\", \"as# :: #dez\", \"as# :: j\\u0254#\", \"as# :: j\\u0254#\", \"as# :: l\\u0259\\u0281\\u0254\", \"as# :: l\\u0259\\u0281\\u0254\", \"as# :: l\\u0259\\u0281\\u0254\", \"as# :: t\\u0259\\u0281\", \"as# :: t\\u0259\\u0281\", \"as# :: t\\u0259\\u0281\", \"as# :: \\u0259\\u0281\\u0254\", \"as# :: \\u0259\\u0281\\u0254\", \"as# :: \\u0259\\u0281\\u0254\", \"as# :: \\u0259\\u0281\\u0254\", \"as# :: \\u0259\\u0281\\u0254\", \"as# :: \\u0259\\u0281\\u0254\", \"as# :: \\u0259\\u0281\\u0254\", \"as# :: \\u0259\\u0281\\u0254\", \"as# :: \\u0259\\u0281\\u0254\", \"as# :: \\u0259\\u0281\\u0254\", \"as# :: \\u0259\\u0281\\u0254\", \"as# :: \\u0259\\u0281\\u0254#\", \"as# :: \\u0259\\u0281\\u0254#\", \"as# :: \\u0259\\u0281\\u0254#\", \"as# :: \\u0259\\u0281\\u0254#\", \"as# :: \\u0259\\u0281\\u0254#\", \"as# :: \\u0259\\u0281\\u0254#\", \"as# :: \\u0259\\u0281\\u0254#\", \"as# :: \\u0259\\u0281\\u0254#\", \"as# :: \\u0259\\u0281\\u0254#\", \"as# :: \\u0259\\u0281\\u0254#\", \"as# :: \\u0281\\u0254#\", \"as# :: \\u0281\\u0254#\", \"as# :: \\u0281\\u0254#\", \"as# :: \\u0281\\u0254#\", \"as# :: \\u0281\\u0254#\", \"as# :: \\u0281\\u0254#\", \"as# :: \\u0281\\u0254#\", \"as# :: \\u0281\\u0254#\", \"as# :: \\u0281\\u0254#\", \"as# :: \\u0281\\u0254#\", \"as# :: \\u0281\\u0254#\", \"as# :: \\u0281\\u0254#\", \"as# :: \\u0281\\u0254#\", \"ash :: ma\\u0283\", \"ass :: #al\", \"ass :: #as\", \"ass :: #as\", \"ass :: #as\", \"ass :: #as\", \"ass :: #as\", \"ass :: #as\", \"ass :: as#\", \"ass :: as#\", \"ass :: as#\", \"ass :: as#\", \"ass :: as#\", \"ass :: as#\", \"ass :: as#\", \"ass :: as#\", \"ass :: as#\", \"ass :: as#\", \"ass :: as#\", \"ass :: as#\", \"ass :: as#\", \"ass :: as#\", \"ass :: as#\", \"ass :: as#\", \"ass :: as#\", \"ass :: as#\", \"ass :: as#\", \"ass :: as#\", \"ass :: as#\", \"ass :: as#\", \"ass :: as#\", \"ass :: as#\", \"ass :: as#\", \"ass :: as#\", \"ass :: as#\", \"ass :: asa\", \"ass :: asa\", \"ass :: asa\", \"ass :: asa\", \"ass :: asa\", \"ass :: asa\", \"ass :: asas\", \"ass :: asas\", \"ass :: asas\", \"ass :: ase\", \"ass :: ase\", \"ass :: asj\", \"ass :: asj\", \"ass :: asj\", \"ass :: asj\", \"ass :: asj\", \"ass :: asj\", \"ass :: asje\", \"ass :: asje\", \"ass :: asje\", \"ass :: asje\", \"ass :: asje\", \"ass :: fas#\", \"ass :: jas\", \"ass :: jas\", \"ass :: jas\", \"ass :: jas\", \"ass :: jas\", \"ass :: jas\", \"ass :: jas\", \"ass :: jas\", \"ass :: jas\", \"ass :: jas#\", \"ass :: jas#\", \"ass :: jas#\", \"ass :: jas#\", \"ass :: jas#\", \"ass :: jas#\", \"ass :: jas#\", \"ass :: jas#\", \"ass :: jas#\", \"ass :: je#\", \"ass :: je#\", \"ass :: je#\", \"ass :: je#\", \"ass :: je#\", \"ass :: las\", \"ass :: las\", \"ass :: las\", \"ass :: las\", \"ass :: las\", \"ass :: las\", \"ass :: las\", \"ass :: las\", \"ass :: las#\", \"ass :: las#\", \"ass :: las#\", \"ass :: las#\", \"ass :: las#\", \"ass :: las#\", \"ass :: nas\", \"ass :: nas\", \"ass :: nas\", \"ass :: nas\", \"ass :: nas\", \"ass :: nas\", \"ass :: nas#\", \"ass :: nas#\", \"ass :: nas#\", \"ass :: nas#\", \"ass :: sas\", \"ass :: sas\", \"ass :: sas\", \"ass :: sas\", \"ass :: sas\", \"ass :: sas#\", \"ass :: sas#\", \"ass :: sas#\", \"ass :: sje\", \"ass :: sje\", \"ass :: sje\", \"ass :: sje\", \"ass :: sje#\", \"ass :: sje#\", \"ass :: sje#\", \"ass :: sje#\", \"ass :: tas\", \"ass :: tas\", \"ass :: tas\", \"ass :: tas\", \"ass :: tas\", \"ass :: tas\", \"ass :: tas#\", \"ass :: tas#\", \"ass :: tas#\", \"ass :: tas#\", \"ass :: tas#\", \"ass :: tas#\", \"ass :: tasj\", \"ass :: \\u0251\\u0303ta\", \"ass :: \\u0254\\u032fl\", \"ass :: \\u026adas\", \"ass :: \\u026adas\", \"ass :: \\u026ana\", \"ass :: \\u026ana\", \"ass :: \\u026anas\", \"ass :: \\u026anas\", \"ass :: \\u0281as\", \"ass :: \\u0281as\", \"ass :: \\u0281as\", \"ass :: \\u0281as\", \"ass :: \\u0281as\", \"ass :: \\u0281as\", \"ass :: \\u0281as\", \"ass :: \\u0281as#\", \"ass :: \\u0281as#\", \"ass :: \\u0281as#\", \"ass :: \\u0281as#\", \"ass :: \\u0281as#\", \"ass :: \\u0303ta\", \"ass :: \\u0303ta\", \"ass :: \\u0303tas\", \"ass :: \\u0303tas\", \"ass :: \\u032fla\", \"ass :: \\u032fla\", \"asse :: as#\", \"asse :: as#\", \"asse :: as#\", \"asse :: as#\", \"asse :: as#\", \"asse :: as#\", \"asse :: as#\", \"asse :: as#\", \"asse :: as#\", \"asse :: as#\", \"asse :: as#\", \"asse :: as#\", \"asse :: as#\", \"asse :: as#\", \"asse :: as#\", \"asse :: as#\", \"asse :: as#\", \"asse :: as#\", \"asse :: as#\", \"asse :: as#\", \"asse :: as#\", \"asse :: as#\", \"asse :: as#\", \"asse :: as#\", \"asse :: as#\", \"asse :: fas\", \"asse :: fas\", \"asse :: fas#\", \"asse :: jas\", \"asse :: jas\", \"asse :: jas\", \"asse :: jas\", \"asse :: jas\", \"asse :: jas\", \"asse :: jas#\", \"asse :: jas#\", \"asse :: jas#\", \"asse :: jas#\", \"asse :: jas#\", \"asse :: nas\", \"asse :: nas\", \"asse :: nas\", \"asse :: nas\", \"asse :: nas#\", \"asse :: nas#\", \"asse :: nas#\", \"asse :: nas#\", \"asse :: sas\", \"asse :: sas\", \"asse :: sas\", \"asse :: sas\", \"asse :: sas#\", \"asse :: sas#\", \"asse :: sas#\", \"asse :: tas\", \"asse :: tas\", \"asse :: tas\", \"asse :: tas\", \"asse :: tas\", \"asse :: tas#\", \"asse :: tas#\", \"asse :: tas#\", \"asse :: tas#\", \"asse :: tas#\", \"asse :: t\\u0281as\", \"asse :: \\u026ana\", \"asse :: \\u026ana\", \"asse :: \\u026anas\", \"asse :: \\u026anas\", \"asse :: \\u026anas\", \"asse :: \\u0281as\", \"asse :: \\u0281as\", \"asse :: \\u0281as\", \"asse :: \\u0281as\", \"asse :: \\u0281as\", \"asse :: \\u0281as\", \"asse :: \\u0281as#\", \"asse :: \\u0281as#\", \"asse :: \\u0281as#\", \"asse :: \\u0281as#\", \"asse :: \\u0281as#\", \"asse :: \\u0283as#\", \"asse :: \\u0283as#\", \"asse :: \\u028ala\", \"assi :: #as\", \"assi :: asje\", \"assi :: asje\", \"assi :: asje\", \"assi :: asje\", \"assi :: asje\", \"assi :: je#\", \"assi :: je#\", \"assi :: je#\", \"assi :: je#\", \"assi :: pasj\", \"assi :: sje\", \"assi :: sje\", \"assi :: sje\", \"assi :: sje\", \"assi :: sje\", \"assi :: sje#\", \"assi :: sje#\", \"assi :: sje#\", \"assi :: sje#\", \"assi :: sje#\", \"assi :: sje#\", \"assi :: tasj\", \"assi :: tasj\", \"ast :: \\u0361s\\u026a\", \"ast :: \\u0361s\\u026a\", \"ati :: s\\u026an\", \"ati :: \\u0281at\\u0361\", \"atr :: #mat\", \"atri :: \\u0281ap\", \"aud :: \\u026anod\", \"ban :: \\u0251\\u0303k\", \"biot :: j\\u0251\\u0254\\u032f\", \"bri :: \\u0303b\\u0281\\u1ebd\", \"bro :: \\u0281\\u0251\\u0254\\u032f\", \"bro :: \\u0281\\u0251\\u0254\\u032f\", \"brou :: \\u0281\\u0259b\", \"brou :: \\u0281\\u0259b\", \"br\\u00e9 :: \\u0251\\u0303b\", \"br\\u00e9 :: \\u0251\\u0303b\", \"bser :: psa\", \"bser :: psa\", \"but :: b\\u028ft\", \"but :: b\\u028ft\", \"cao :: a\\u028at\\u0283\", \"cao :: a\\u028at\\u0283\", \"car :: ka\\u0281\", \"car :: ka\\u0281\", \"car :: ka\\u0281\", \"car :: ka\\u0281\", \"car :: ka\\u0281\", \"car :: ka\\u0281\", \"car :: ka\\u0281\", \"cara :: a\\u0281a\", \"cco :: ak\\u028a\", \"cco :: ak\\u028a\", \"cco :: ak\\u028a\", \"cco :: ak\\u028a\", \"ccou :: ak\\u028a\\u0281\", \"cel :: esel\", \"cer :: \\u0259\\u0281a\", \"cer :: \\u0281a#\", \"cer :: \\u0281a#\", \"cer :: \\u0281a#\", \"cera :: s\\u0259\\u0281\", \"cera :: s\\u0259\\u0281\", \"cera :: s\\u0259\\u0281\", \"cera :: \\u0259\\u0281a#\", \"cha :: \\u0283\\u0254#\", \"cha :: \\u0283\\u0254#\", \"cha :: \\u0283\\u0254#\", \"chap :: \\u0251\\u0254\\u032fn\", \"che :: a\\u0283\\u0259\", \"che :: a\\u0283\\u0259\\u0281\", \"che :: \\u0259\\u0281a\", \"che :: \\u0259\\u0281a\", \"che :: \\u0283\\u0259\\u0281\", \"che :: \\u0283\\u0259\\u0281\", \"che :: \\u0283\\u0259\\u0281\", \"che :: \\u0283\\u0259\\u0281a\", \"che :: \\u0283\\u0259\\u0281a\", \"che :: \\u0283\\u0259\\u0281a\", \"chem :: \\u0259m\\u026an\", \"cher :: a\\u0283\\u0259\\u0281\", \"cher :: \\u0259\\u0281a\", \"cher :: \\u0259\\u0281a\", \"cher :: \\u0281a#\", \"cher :: \\u0281a#\", \"cher :: \\u0281a#\", \"cher :: \\u0281a#\", \"cher :: \\u0283\\u0259\\u0281\", \"cher :: \\u0283\\u0259\\u0281\", \"cher :: \\u0283\\u0259\\u0281\", \"cher :: \\u0283\\u0259\\u0281a\", \"cher :: \\u0283\\u0259\\u0281a\", \"cheu :: \\u00f8z#\", \"cheu :: \\u00f8z#\", \"cheu :: \\u00f8z#\", \"cheu :: \\u00f8z#\", \"chou :: #ka\\u028a\", \"ch\\u00e2 :: am#\", \"ch\\u00e2 :: \\u0251\\u0254\\u032f\", \"ch\\u00e2 :: \\u0251\\u0254\\u032f\", \"cin :: #s\\u1ebd\", \"cin :: #s\\u1ebd\", \"cin :: s\\u1ebd\\u0129\", \"cin :: s\\u1ebd\\u0129\", \"cin :: s\\u1ebd\\u0129\", \"cin :: \\u0129\\u032fg\", \"cin :: \\u0129\\u032fg\", \"cin :: \\u1ebd\\u0129\\u032ft\", \"cing :: #s\\u1ebd\\u0129\", \"cing :: #s\\u1ebd\\u0129\", \"cing :: s\\u1ebd\\u0129\", \"cing :: s\\u1ebd\\u0129\\u032f\", \"cing :: \\u0129\\u032fg\", \"cing :: \\u1ebd\\u0129\\u032fg\", \"cint :: s\\u1ebd\\u0129\\u032f\", \"cint :: \\u0129\\u032ft\", \"cint :: \\u0129\\u032ft\", \"cint :: \\u0129\\u032ft\", \"cint :: \\u0129\\u032ft\", \"cint :: \\u0129\\u032ft\\u0281\", \"cint :: \\u1ebd\\u0129\\u032f\", \"cio :: \\u0169\\u032f#\", \"cion :: \\u0169\\u032f#\", \"cion :: \\u0169\\u032f#\", \"cla :: klap\", \"clo :: wat\\u0281\", \"com :: #k\\u0251\", \"com :: #k\\u0251\\u0254\", \"com :: k\\u0251\\u0254\", \"com :: k\\u0251\\u0254\", \"com :: k\\u0251\\u0254\\u032f\", \"com :: \\u0251\\u0254\\u032f\", \"comm :: #k\\u0251\", \"comm :: k\\u0251\\u0254\", \"comm :: k\\u0251\\u0254\", \"comm :: k\\u0251\\u0254\\u032f\", \"comm :: k\\u0251\\u0254\\u032f\", \"comm :: \\u0251\\u0254\\u032f\", \"comm :: \\u0251\\u0254\\u032f\", \"comm :: \\u0251\\u0254\\u032fm\", \"comm :: \\u0254\\u032fm\", \"comm :: \\u0254\\u032fm\", \"con :: k\\u00f5\\u0169\\u032f\", \"con :: k\\u00f5\\u0169\\u032f\", \"con :: k\\u00f5\\u0169\\u032f\", \"con :: k\\u00f5\\u0169\\u032f\", \"con :: k\\u00f5\\u0169\\u032f\", \"con :: k\\u00f5\\u0169\\u032f\", \"con :: \\u00f5\\u0169\\u032f\", \"con :: \\u00f5\\u0169\\u032f\", \"con :: \\u00f5\\u0169\\u032f\", \"con :: \\u00f5\\u0169\\u032f\", \"con :: \\u00f5\\u0169\\u032f\", \"con :: \\u00f5\\u0169\\u032f\", \"con :: \\u00f5\\u0169\\u032f\", \"con :: \\u00f5\\u0169\\u032f\", \"con :: \\u0169\\u032fsa\", \"con :: \\u0169\\u032fsa\", \"con :: \\u0169\\u032fsa\", \"con :: \\u0169\\u032fsa\", \"cons :: k\\u00f5\\u0169\", \"cons :: k\\u00f5\\u0169\", \"cons :: k\\u00f5\\u0169\\u032f\", \"cons :: \\u00f5\\u0169\\u032f\", \"cons :: \\u00f5\\u0169\\u032f\", \"cont :: #\\u0281a\", \"cour :: #ak\\u028a\", \"cour :: ak\\u028a\\u0281\", \"cour :: ak\\u028a\\u0281\", \"craq :: \\u0281aka\", \"craq :: \\u0281aka\", \"cro :: \\u0281wa\", \"cti :: sj\\u00f5\\u0169\", \"ctio :: sj\\u00f5\\u0169\", \"cuis :: k\\u0265i\", \"cul :: \\u028fle#\", \"dam :: #dam\", \"der :: d\\u0259\\u0281\", \"der :: d\\u0259\\u0281\", \"der :: d\\u0259\\u0281\", \"der :: d\\u0259\\u0281\", \"der :: d\\u0259\\u0281\", \"der :: d\\u0259\\u0281\", \"der :: d\\u0259\\u0281\", \"der :: d\\u0259\\u0281\", \"der :: d\\u0259\\u0281a\", \"der :: d\\u0259\\u0281a\", \"der :: d\\u0259\\u0281a\", \"der :: d\\u0259\\u0281a\", \"der :: \\u0259\\u0281a\", \"der :: \\u0259\\u0281a\", \"der :: \\u0259\\u0281a\", \"der :: \\u0259\\u0281a\", \"der :: \\u0259\\u0281a#\", \"der :: \\u0259\\u0281a#\", \"der :: \\u0259\\u0281a#\", \"der :: \\u0259\\u0281a#\", \"der :: \\u0259\\u0281a#\", \"der :: \\u0281a#\", \"der :: \\u0281a#\", \"der :: \\u0281a#\", \"der :: \\u0281a#\", \"der :: \\u0281a#\", \"der :: \\u0281a#\", \"dera :: d\\u0259\\u0281\", \"dera :: d\\u0259\\u0281\", \"dera :: d\\u0259\\u0281\", \"dera :: d\\u0259\\u0281\", \"dera :: d\\u0259\\u0281\", \"dera :: d\\u0259\\u0281a\", \"dera :: d\\u0259\\u0281a\", \"dera :: d\\u0259\\u0281a\", \"dera :: \\u0259\\u0281a\", \"dera :: \\u0259\\u0281a\", \"dera :: \\u0259\\u0281a\", \"dera :: \\u0259\\u0281a\", \"dera :: \\u0259\\u0281a\", \"dera :: \\u0259\\u0281a#\", \"dera :: \\u0259\\u0281a#\", \"dera :: \\u0259\\u0281a#\", \"dera :: \\u0259\\u0281a#\", \"dera :: \\u0259\\u0281a#\", \"dera :: \\u026ad\\u0259\", \"dera :: \\u026ad\\u0259\\u0281\", \"dera :: \\u026ad\\u0259\\u0281\", \"dera :: \\u0281a#\", \"dera :: \\u0281a#\", \"dera :: \\u0281a#\", \"dera :: \\u0281a#\", \"dera :: \\u0281a#\", \"dera :: \\u0281a#\", \"des :: esel\", \"des :: sel\", \"des :: sel\", \"dif :: #d\\u0361\", \"dif :: \\u0361z\\u026a\", \"diff :: #d\\u0361\", \"diff :: \\u0361z\\u026a\", \"dit :: \\u0281eed\", \"dou :: #d\\u028ab\", \"dou :: #d\\u028ab\", \"dou :: #d\\u028ab\", \"dou :: #\\u0281ad\", \"dou :: ad\\u028as\", \"douc :: \\u0281ad\", \"douc :: \\u0281ad\", \"douc :: \\u0281ad\", \"d\\u00e9b :: deb\", \"d\\u00e9b :: deb\", \"d\\u00e9b :: deb\", \"d\\u00e9b :: deb\", \"d\\u00e9c :: #de\", \"d\\u00e9c :: #de\", \"d\\u00e9c :: #de\", \"d\\u00e9c :: #de\", \"d\\u00e9c :: #de\", \"d\\u00e9c :: #de\", \"d\\u00e9c :: #de\", \"d\\u00e9c :: #de\", \"d\\u00e9c :: #de\", \"d\\u00e9c :: #de\", \"d\\u00e9c :: #de\", \"d\\u00e9c :: #dek\", \"d\\u00e9c :: #dek\", \"d\\u00e9c :: #dek\", \"d\\u00e9c :: #dek\", \"d\\u00e9c :: #dek\", \"d\\u00e9c :: #dek\", \"d\\u00e9c :: #dek\", \"d\\u00e9c :: #dek\", \"d\\u00e9c :: #dek\", \"d\\u00e9c :: #dek\", \"d\\u00e9c :: dek\", \"d\\u00e9c :: dek\", \"d\\u00e9c :: dek\", \"d\\u00e9c :: dek\", \"d\\u00e9c :: dek\", \"d\\u00e9c :: dek\", \"d\\u00e9c :: dek\", \"d\\u00e9c :: dek\", \"d\\u00e9c :: dek\", \"d\\u00e9c :: dek\", \"d\\u00e9c :: dek\", \"d\\u00e9c :: ek\\u0251\\u0254\", \"d\\u00e9c :: ek\\u0251\\u0254\", \"d\\u00e9c :: ek\\u0251\\u0254\", \"d\\u00e9c :: k\\u0251\\u0254\\u032f\", \"d\\u00e9c :: \\u0251\\u0254\\u032f\", \"d\\u00e9c :: \\u0251\\u0303t\", \"d\\u00e9ca :: #de\", \"d\\u00e9ca :: #de\", \"d\\u00e9ca :: #de\", \"d\\u00e9ca :: #de\", \"d\\u00e9ca :: #dek\", \"d\\u00e9ca :: #dek\", \"d\\u00e9ca :: #dek\", \"d\\u00e9ca :: #dek\", \"d\\u00e9ca :: #dek\", \"d\\u00e9ca :: #dek\", \"d\\u00e9ca :: dek\", \"d\\u00e9ca :: dek\", \"d\\u00e9ca :: dek\", \"d\\u00e9ca :: dek\", \"d\\u00e9ca :: dek\", \"d\\u00e9ca :: dek\", \"d\\u00e9ca :: dek\\u0251\", \"d\\u00e9co :: #de\", \"d\\u00e9co :: #de\", \"d\\u00e9co :: #de\", \"d\\u00e9co :: #dek\", \"d\\u00e9co :: #dek\", \"d\\u00e9co :: #dek\", \"d\\u00e9co :: #dek\", \"d\\u00e9co :: #dek\", \"d\\u00e9co :: dek\\u0251\", \"d\\u00e9co :: ek\\u0251\", \"d\\u00e9co :: k\\u0251\\u0254\", \"d\\u00e9co :: k\\u0251\\u0254\\u032f\", \"d\\u00e9e :: \\u00f5\\u0169\\u032f\", \"d\\u00e9e :: \\u00f5\\u0169\\u032f\", \"d\\u00e9e :: \\u00f5\\u0169\\u032fd\", \"d\\u00e9e :: \\u0169\\u032fd\", \"d\\u00e9e :: \\u0169\\u032fde\", \"d\\u00e9e# :: \\u00f5\\u0169\\u032fd\", \"d\\u00e9e# :: \\u0169\\u032fd\", \"d\\u00e9fr :: def\\u0281\", \"d\\u00e9fr :: def\\u0281\", \"d\\u00e9g :: ega\\u0281\", \"d\\u00e9g :: ega\\u0281\", \"d\\u00e9g :: ega\\u0281\", \"d\\u00e9g :: eg\\u0281\", \"d\\u00e9g :: eg\\u0281\", \"d\\u00e9m :: #de\", \"d\\u00e9m :: #de\", \"d\\u00e9m :: #de\", \"d\\u00e9m :: #de\", \"d\\u00e9m :: #de\", \"d\\u00e9m :: #de\", \"d\\u00e9ni :: denj\", \"d\\u00e9ni :: enj\", \"d\\u00e9ra :: de\\u0281a\", \"d\\u00e9te :: eta\", \"d\\u00e9te :: eta\", \"d\\u00e9v :: #de\", \"d\\u00e9v :: #de\", \"d\\u00e9v :: #dev\", \"d\\u00e9v :: #dev\", \"d\\u00e9v :: #dev\", \"d\\u00e9v :: dev\", \"d\\u00e9v :: dev\", \"d\\u00e9v :: dev\", \"d\\u00e9vi :: #dev\", \"ebi :: \\u0259b\\u026a\", \"eco :: #\\u0281\\u0259\", \"eco :: #\\u0281\\u0259\", \"eco :: #\\u0281\\u0259\", \"eco :: #\\u0281\\u0259\", \"eco :: #\\u0281\\u0259k\", \"eco :: #\\u0281\\u0259k\", \"ecou :: #\\u0281\\u0259k\", \"ecou :: #\\u0281\\u0259k\", \"ell :: sel\", \"elon :: \\u00f5\\u0169\\u032f#\", \"ema :: \\u0259ma\", \"ema :: \\u0259ma\", \"eman :: #\\u0281\\u0259\", \"emb :: #\\u0281\\u0251\\u0303\", \"emb :: #\\u0281\\u0251\\u0303\", \"emb :: \\u0251\\u0303b\", \"emb :: \\u0251\\u0303b\", \"emb :: \\u0251\\u0303b\", \"emb :: \\u0251\\u0303b\", \"emb :: \\u0251\\u0303b\", \"emb :: \\u0251\\u0303b\", \"emb :: \\u0251\\u0303b\", \"emb :: \\u0251\\u0303b\", \"emb :: \\u0281\\u0251\\u0303\", \"emb :: \\u0281\\u0251\\u0303\", \"emb :: \\u0281\\u0251\\u0303b\", \"emb :: \\u0281\\u0251\\u0303b\", \"eme :: m\\u00e6\\u0303#\", \"eme :: m\\u00e6\\u0303#\", \"eme :: m\\u00e6\\u0303#\", \"eme :: m\\u00e6\\u0303#\", \"eme :: m\\u00e6\\u0303#\", \"eme :: m\\u00e6\\u0303#\", \"emen :: m\\u00e6\\u0303\", \"emen :: m\\u00e6\\u0303\", \"emen :: m\\u00e6\\u0303\", \"emen :: m\\u00e6\\u0303\", \"emen :: m\\u00e6\\u0303\", \"emen :: m\\u00e6\\u0303\", \"emo :: #\\u0281\\u0259\", \"emo :: m\\u00f5\\u0169\\u032f\", \"emo :: m\\u00f5\\u0169\\u032f\", \"emon :: m\\u00f5\\u0169\", \"emon :: \\u0169\\u032ft\", \"emp :: #\\u0251\\u0303\", \"emp :: #\\u0251\\u0303\", \"emp :: #\\u0251\\u0303\", \"emp :: #\\u0251\\u0303\", \"emp :: #\\u0251\\u0303\", \"emp :: #\\u0251\\u0303\", \"emp :: #\\u0251\\u0303p\", \"emp :: #\\u0251\\u0303p\", \"emp :: #\\u0251\\u0303p\", \"emp :: #\\u0251\\u0303p\", \"emp :: #\\u0251\\u0303p\", \"emp :: #\\u0251\\u0303p\", \"emp :: #\\u0251\\u0303p\", \"emp :: #\\u0251\\u0303p\", \"emp :: lwa\", \"emp :: p\\u0281es\", \"emp :: p\\u0281es\", \"emp :: \\u0251\\u0303p\", \"emp :: \\u0251\\u0303p\", \"emp :: \\u0251\\u0303p\", \"emp :: \\u0251\\u0303p\", \"emp :: \\u0251\\u0303p\", \"emp :: \\u0251\\u0303p\", \"emp :: \\u0251\\u0303p\", \"emp :: \\u0251\\u0303p\", \"emp :: \\u0251\\u0303p\", \"emp :: \\u0251\\u0303p\", \"emp :: \\u0303pl\", \"empr :: #\\u0251\\u0303p\", \"enai :: v\\u0259na\", \"enc :: \\u032fs#\", \"engr :: #\\u0251\\u0303g\", \"engr :: #\\u0251\\u0303g\", \"enn :: an#\", \"enn :: an#\", \"enn :: jan\", \"enn :: jan\", \"enn :: jan\", \"enn :: jan\", \"enn :: jan#\", \"enn :: jan#\", \"enn :: sja\", \"enn :: sjan\", \"enne :: an#\", \"enne :: an#\", \"enne :: an#\", \"enne :: an#\", \"enne :: jan\", \"enne :: jan\", \"enne :: jan\", \"enne :: jan#\", \"enne :: jan#\", \"enne :: sjan\", \"enq :: #\\u0251\\u0303\", \"enq :: #\\u0251\\u0303\", \"enr :: #\\u0251\\u0303\\u0281\", \"ent :: #\\u0251\\u0303\", \"ent :: #\\u0251\\u0303\", \"ent :: #\\u0251\\u0303\", \"ent :: #\\u0251\\u0303\", \"ent :: #\\u0251\\u0303\", \"ent :: #\\u0251\\u0303\", \"ent :: #\\u0251\\u0303\", \"ent :: #\\u0251\\u0303\", \"ent :: #\\u0251\\u0303\", \"ent :: #\\u0251\\u0303t\", \"ent :: #\\u0251\\u0303t\", \"ent :: #\\u0251\\u0303t\", \"ent :: as#\", \"ent :: as#\", \"ent :: as#\", \"ent :: as#\", \"ent :: as#\", \"ent :: as#\", \"ent :: as#\", \"ent :: as#\", \"ent :: as#\", \"ent :: as#\", \"ent :: as#\", \"ent :: as#\", \"ent :: a\\u0281#\", \"ent :: a\\u0281#\", \"ent :: a\\u0281#\", \"ent :: a\\u0281#\", \"ent :: a\\u0281#\", \"ent :: a\\u0281#\", \"ent :: a\\u0281#\", \"ent :: a\\u0281#\", \"ent :: a\\u0281#\", \"ent :: a\\u0281#\", \"ent :: a\\u0281#\", \"ent :: a\\u0281#\", \"ent :: a\\u0281#\", \"ent :: a\\u0281#\", \"ent :: a\\u0281#\", \"ent :: a\\u0281#\", \"ent :: g\\u028at\", \"ent :: k\\u0251\\u0254\\u032f\", \"ent :: la\\u0281#\", \"ent :: m\\u00e6\\u0303\", \"ent :: m\\u00e6\\u0303\", \"ent :: m\\u00e6\\u0303\", \"ent :: m\\u00e6\\u0303\", \"ent :: m\\u00e6\\u0303\", \"ent :: m\\u00e6\\u0303\", \"ent :: m\\u00e6\\u0303\", \"ent :: m\\u00e6\\u0303#\", \"ent :: m\\u00e6\\u0303#\", \"ent :: m\\u00e6\\u0303#\", \"ent :: m\\u00e6\\u0303#\", \"ent :: m\\u00e6\\u0303#\", \"ent :: m\\u00e6\\u0303#\", \"ent :: m\\u00e6\\u0303#\", \"ent :: na\\u0281\", \"ent :: na\\u0281#\", \"ent :: na\\u0281#\", \"ent :: sa#\", \"ent :: sa#\", \"ent :: sa#\", \"ent :: s\\u0259\\u0281\", \"ent :: s\\u0259\\u0281\", \"ent :: tas\", \"ent :: tas\", \"ent :: tas\", \"ent :: tas\", \"ent :: \\u00e6\\u0303#\", \"ent :: \\u00e6\\u0303#\", \"ent :: \\u00e6\\u0303#\", \"ent :: \\u00e6\\u0303#\", \"ent :: \\u00e6\\u0303#\", \"ent :: \\u00e6\\u0303#\", \"ent :: \\u00e6\\u0303#\", \"ent :: \\u00e6\\u0303#\", \"ent :: \\u0251\\u0254\\u032f\", \"ent :: \\u0251\\u0254\\u032f\", \"ent :: \\u0251\\u0254\\u032f\", \"ent :: \\u0251\\u0254\\u032f\", \"ent :: \\u0251\\u0254\\u032f\", \"ent :: \\u0251\\u0254\\u032f\", \"ent :: \\u0251\\u0254\\u032f\", \"ent :: \\u0251\\u0254\\u032f\", \"ent :: \\u0251\\u0254\\u032f\", \"ent :: \\u0251\\u0254\\u032f\", \"ent :: \\u0251\\u0254\\u032f\", \"ent :: \\u0251\\u0303t\", \"ent :: \\u0251\\u0303t\", \"ent :: \\u0251\\u0303t\", \"ent :: \\u0251\\u0303t\", \"ent :: \\u0251\\u0303t\", \"ent :: \\u0251\\u0303t\", \"ent :: \\u0251\\u0303t\", \"ent :: \\u0251\\u0303t\", \"ent :: \\u0251\\u0303t\", \"ent :: \\u0251\\u0303t\", \"ent :: \\u0251\\u0303t\", \"ent :: \\u0251\\u0303t\", \"ent :: \\u0254\\u032fn\", \"ent :: \\u0259\\u0281a\", \"ent :: \\u0259\\u0281a\", \"ent :: \\u0259\\u0281a\", \"ent :: \\u0259\\u0281a\", \"ent :: \\u0259\\u0281a\", \"ent :: \\u0259\\u0281a\", \"ent :: \\u0259\\u0281a\", \"ent :: \\u0259\\u0281a\", \"ent :: \\u0259\\u0281a#\", \"ent :: \\u0259\\u0281a#\", \"ent :: \\u0259\\u0281a#\", \"ent :: \\u0259\\u0281a#\", \"ent :: \\u0259\\u0281a#\", \"ent :: \\u0259\\u0281a#\", \"ent :: \\u0259\\u0281a#\", \"ent :: \\u0259\\u0281a#\", \"ent :: \\u0259\\u0281a#\", \"ent :: \\u026ama\", \"ent :: \\u0281a#\", \"ent :: \\u0281a#\", \"ent :: \\u0281a#\", \"ent :: \\u0281a#\", \"ent :: \\u0281a#\", \"ent :: \\u0281a#\", \"ent :: \\u0281a#\", \"ent :: \\u0281a#\", \"ent :: \\u0281a#\", \"ent :: \\u0281a#\", \"ent :: \\u0281a#\", \"ent :: \\u0281a#\", \"ent :: \\u0281a#\", \"ent :: \\u0281a#\", \"ent :: \\u0281as\", \"ent :: \\u0281as\", \"ent :: \\u0281as\", \"ent :: \\u0303ta#\", \"ent :: \\u0303ta#\", \"ent# :: as#\", \"ent# :: as#\", \"ent# :: as#\", \"ent# :: as#\", \"ent# :: as#\", \"ent# :: as#\", \"ent# :: as#\", \"ent# :: as#\", \"ent# :: as#\", \"ent# :: as#\", \"ent# :: as#\", \"ent# :: as#\", \"ent# :: as#\", \"ent# :: as#\", \"ent# :: a\\u0281#\", \"ent# :: a\\u0281#\", \"ent# :: a\\u0281#\", \"ent# :: a\\u0281#\", \"ent# :: a\\u0281#\", \"ent# :: a\\u0281#\", \"ent# :: a\\u0281#\", \"ent# :: a\\u0281#\", \"ent# :: a\\u0281#\", \"ent# :: a\\u0281#\", \"ent# :: a\\u0281#\", \"ent# :: a\\u0281#\", \"ent# :: a\\u0281#\", \"ent# :: a\\u0281#\", \"ent# :: a\\u0281#\", \"ent# :: a\\u0281#\", \"ent# :: da#\", \"ent# :: epe\", \"ent# :: eva\", \"ent# :: la#\", \"ent# :: la\\u0281\", \"ent# :: sa#\", \"ent# :: sa#\", \"ent# :: sa#\", \"ent# :: s\\u0259\\u0281a\", \"ent# :: s\\u026asa\", \"ent# :: v\\u026aza\", \"ent# :: v\\u026aza\", \"ent# :: \\u0251\\u0254\\u032f\", \"ent# :: \\u0251\\u0254\\u032f\", \"ent# :: \\u0251\\u0254\\u032f\", \"ent# :: \\u0251\\u0254\\u032f\", \"ent# :: \\u0251\\u0254\\u032f\", \"ent# :: \\u0251\\u0254\\u032f\", \"ent# :: \\u0251\\u0254\\u032f\", \"ent# :: \\u0251\\u0254\\u032f\", \"ent# :: \\u0251\\u0254\\u032f\", \"ent# :: \\u0259la#\", \"ent# :: \\u0259la#\", \"ent# :: \\u0259\\u0281a\", \"ent# :: \\u0259\\u0281a\", \"ent# :: \\u0259\\u0281a\", \"ent# :: \\u0259\\u0281a\", \"ent# :: \\u0259\\u0281a\", \"ent# :: \\u0259\\u0281a\", \"ent# :: \\u0259\\u0281a\", \"ent# :: \\u0259\\u0281a\", \"ent# :: \\u0259\\u0281a\", \"ent# :: \\u0259\\u0281a\", \"ent# :: \\u0259\\u0281a#\", \"ent# :: \\u0259\\u0281a#\", \"ent# :: \\u0259\\u0281a#\", \"ent# :: \\u0259\\u0281a#\", \"ent# :: \\u0259\\u0281a#\", \"ent# :: \\u0259\\u0281a#\", \"ent# :: \\u0259\\u0281a#\", \"ent# :: \\u0259\\u0281a#\", \"ent# :: \\u0259\\u0281a#\", \"ent# :: \\u026ama\", \"ent# :: \\u0281a#\", \"ent# :: \\u0281a#\", \"ent# :: \\u0281a#\", \"ent# :: \\u0281a#\", \"ent# :: \\u0281a#\", \"ent# :: \\u0281a#\", \"ent# :: \\u0281a#\", \"ent# :: \\u0281a#\", \"ent# :: \\u0281a#\", \"ent# :: \\u0281a#\", \"ent# :: \\u0281as#\", \"ent# :: \\u0281as#\", \"ent# :: \\u0283\\u0251\\u0303\", \"env :: #\\u0251\\u0303\", \"env :: #\\u0251\\u0303\", \"env :: #\\u0251\\u0303v\", \"env :: #\\u0251\\u0303v\", \"env :: #\\u0251\\u0303v\", \"env :: \\u0251\\u0303v\", \"env :: \\u0251\\u0303v\", \"env :: \\u0251\\u0303v\", \"env :: \\u0251\\u0303v\", \"envi :: \\u0251\\u0303v\\u026a\", \"envi :: \\u0251\\u0303v\\u026a\", \"er# :: #\\u0281a\", \"era :: #de\", \"era :: #de\", \"era :: #de\", \"era :: #de\", \"era :: #de\", \"era :: #de\", \"era :: #de\", \"era :: #de\", \"era :: a\\u0281\\u0259\", \"era :: a\\u0281\\u0259\\u0281\", \"era :: a\\u0281\\u0259\\u0281\", \"era :: a\\u0281\\u0259\\u0281\", \"era :: d\\u0259\\u0281\", \"era :: d\\u0259\\u0281\", \"era :: d\\u0259\\u0281\", \"era :: d\\u0259\\u0281\", \"era :: d\\u0259\\u0281a\", \"era :: d\\u0259\\u0281a\", \"era :: d\\u0259\\u0281a\", \"era :: d\\u0259\\u0281a\", \"era :: d\\u0259\\u0281a\", \"era :: fl\\u0259\", \"era :: k\\u0259\\u0281\", \"era :: k\\u0259\\u0281\", \"era :: k\\u0259\\u0281\", \"era :: k\\u0259\\u0281\", \"era :: k\\u0259\\u0281\", \"era :: k\\u0259\\u0281a\", \"era :: k\\u0259\\u0281a\", \"era :: l\\u0259\\u0281\", \"era :: l\\u0259\\u0281\", \"era :: l\\u0259\\u0281\", \"era :: l\\u0259\\u0281\", \"era :: l\\u0259\\u0281\", \"era :: l\\u0259\\u0281\", \"era :: l\\u0259\\u0281\", \"era :: l\\u0259\\u0281\", \"era :: l\\u0259\\u0281\", \"era :: l\\u0259\\u0281\\u0254\", \"era :: l\\u0259\\u0281\\u0254\", \"era :: l\\u0259\\u0281\\u0254\", \"era :: t\\u0259\\u0281\\u0254\", \"era :: t\\u0259\\u0281\\u0254\", \"era :: t\\u0259\\u0281\\u0254\", \"era :: v\\u0259\\u0281a\", \"era :: z\\u0259\\u0281\\u0254\", \"era :: z\\u0259\\u0281\\u0254\", \"era :: \\u0259\\u0281a\", \"era :: \\u0259\\u0281a\", \"era :: \\u0259\\u0281a\", \"era :: \\u0259\\u0281a\", \"era :: \\u0259\\u0281a\", \"era :: \\u0259\\u0281a\", \"era :: \\u0259\\u0281a\", \"era :: \\u0259\\u0281a\", \"era :: \\u0259\\u0281a\", \"era :: \\u0259\\u0281a\", \"era :: \\u0259\\u0281a\", \"era :: \\u0259\\u0281a\", \"era :: \\u0259\\u0281a\", \"era :: \\u0259\\u0281a\", \"era :: \\u0259\\u0281a\", \"era :: \\u0259\\u0281a\", \"era :: \\u0259\\u0281a\", \"era :: \\u0259\\u0281a\", \"era :: \\u0259\\u0281a#\", \"era :: \\u0259\\u0281a#\", \"era :: \\u0259\\u0281a#\", \"era :: \\u0259\\u0281a#\", \"era :: \\u0259\\u0281a#\", \"era :: \\u0259\\u0281a#\", \"era :: \\u0259\\u0281a#\", \"era :: \\u0259\\u0281a#\", \"era :: \\u0259\\u0281a#\", \"era :: \\u0259\\u0281a#\", \"era :: \\u0259\\u0281a#\", \"era :: \\u0259\\u0281a#\", \"era :: \\u0259\\u0281a#\", \"era :: \\u0259\\u0281a#\", \"era :: \\u0259\\u0281a#\", \"era :: \\u0259\\u0281a#\", \"era :: \\u0259\\u0281a#\", \"era :: \\u0259\\u0281a#\", \"era :: \\u0259\\u0281a#\", \"era :: \\u0259\\u0281a#\", \"era :: \\u0259\\u0281\\u0254\", \"era :: \\u0259\\u0281\\u0254\", \"era :: \\u0259\\u0281\\u0254\", \"era :: \\u0259\\u0281\\u0254\", \"era :: \\u0259\\u0281\\u0254\", \"era :: \\u0259\\u0281\\u0254\", \"era :: \\u0259\\u0281\\u0254\", \"era :: \\u0259\\u0281\\u0254\", \"era :: \\u0259\\u0281\\u0254\", \"era :: \\u0259\\u0281\\u0254\", \"era :: \\u0259\\u0281\\u0254\", \"era :: \\u0259\\u0281\\u0254\", \"era :: \\u0259\\u0281\\u0254\", \"era :: \\u0259\\u0281\\u0254\", \"era :: \\u0259\\u0281\\u0254\", \"era :: \\u0259\\u0281\\u0254\", \"era :: \\u0259\\u0281\\u0254#\", \"era :: \\u0259\\u0281\\u0254#\", \"era :: \\u0259\\u0281\\u0254#\", \"era :: \\u0259\\u0281\\u0254#\", \"era :: \\u0259\\u0281\\u0254#\", \"era :: \\u0259\\u0281\\u0254#\", \"era :: \\u0259\\u0281\\u0254#\", \"era :: \\u0259\\u0281\\u0254#\", \"era :: \\u0259\\u0281\\u0254#\", \"era :: \\u0259\\u0281\\u0254#\", \"era :: \\u0259\\u0281\\u0254#\", \"era :: \\u0259\\u0281\\u0254#\", \"era :: \\u0259\\u0281\\u0254#\", \"era :: \\u0259\\u0281\\u0254#\", \"era :: \\u0259\\u0281\\u0254#\", \"era :: \\u0259\\u0281\\u0254#\", \"era :: \\u026ad\\u0259\", \"era :: \\u026ad\\u0259\\u0281\", \"era :: \\u026ak\\u0259\", \"era :: \\u026ak\\u0259\\u0281\", \"era :: \\u0281a#\", \"era :: \\u0281a#\", \"era :: \\u0281a#\", \"era :: \\u0281a#\", \"era :: \\u0281a#\", \"era :: \\u0281a#\", \"era :: \\u0281a#\", \"era :: \\u0281a#\", \"era :: \\u0281a#\", \"era :: \\u0281a#\", \"era :: \\u0281a#\", \"era :: \\u0281a#\", \"era :: \\u0281a#\", \"era :: \\u0281a#\", \"era :: \\u0281a#\", \"era :: \\u0281a#\", \"era :: \\u0281a#\", \"era :: \\u0281a#\", \"era :: \\u0281a#\", \"era :: \\u0281a#\", \"era :: \\u0281\\u0254#\", \"era :: \\u0281\\u0254#\", \"era :: \\u0281\\u0254#\", \"era :: \\u0281\\u0254#\", \"era :: \\u0281\\u0254#\", \"era :: \\u0281\\u0254#\", \"era :: \\u0281\\u0254#\", \"era :: \\u0281\\u0254#\", \"era :: \\u0281\\u0254#\", \"era :: \\u0281\\u0254#\", \"era :: \\u0281\\u0254#\", \"era :: \\u0281\\u0254#\", \"era :: \\u0281\\u0254#\", \"era :: \\u0281\\u0254#\", \"era :: \\u0281\\u0254#\", \"era :: \\u0281\\u0254#\", \"era :: \\u0281\\u0254#\", \"era :: \\u0281\\u0254#\", \"era :: \\u0281\\u0254#\", \"era :: \\u0281\\u0259\\u0281\", \"era :: \\u0281\\u0259\\u0281\", \"era :: \\u0281\\u0259\\u0281\", \"era :: \\u0281\\u0259\\u0281\", \"era :: \\u0281\\u0259\\u0281a\", \"era :: \\u0281\\u0259\\u0281a\", \"era :: \\u0281\\u0259\\u0281a\", \"era :: \\u0283\\u0259\\u0281\", \"era :: \\u0283\\u0259\\u0281\", \"era :: \\u0283\\u0259\\u0281\", \"erai :: d\\u0259\\u0281\", \"erai :: d\\u0259\\u0281\", \"erai :: d\\u0259\\u0281\", \"erai :: d\\u0259\\u0281\", \"erai :: d\\u0259\\u0281\", \"erai :: d\\u0259\\u0281a\", \"erai :: d\\u0259\\u0281a\", \"erai :: d\\u0259\\u0281a\", \"erai :: d\\u0259\\u0281a\", \"erai :: k\\u0259\\u0281\", \"erai :: k\\u0259\\u0281\", \"erai :: k\\u0259\\u0281a\", \"erai :: k\\u0259\\u0281a\", \"erai :: k\\u0259\\u0281a\", \"erai :: \\u0259\\u0281a\", \"erai :: \\u0259\\u0281a\", \"erai :: \\u0259\\u0281a\", \"erai :: \\u0259\\u0281a\", \"erai :: \\u0259\\u0281a\", \"erai :: \\u0259\\u0281a\", \"erai :: \\u0259\\u0281a\", \"erai :: \\u0259\\u0281a\", \"erai :: \\u0259\\u0281a\", \"erai :: \\u0259\\u0281a\", \"erai :: \\u0259\\u0281a\", \"erai :: \\u0259\\u0281a\", \"erai :: \\u0259\\u0281a\", \"erai :: \\u0259\\u0281a\", \"erai :: \\u0259\\u0281a\", \"erai :: \\u0259\\u0281a\", \"erai :: \\u0259\\u0281a\", \"erai :: \\u0259\\u0281a\", \"erai :: \\u0259\\u0281a#\", \"erai :: \\u0259\\u0281a#\", \"erai :: \\u0259\\u0281a#\", \"erai :: \\u0259\\u0281a#\", \"erai :: \\u0259\\u0281a#\", \"erai :: \\u0259\\u0281a#\", \"erai :: \\u0259\\u0281a#\", \"erai :: \\u0259\\u0281a#\", \"erai :: \\u0259\\u0281a#\", \"erai :: \\u0259\\u0281a#\", \"erai :: \\u0259\\u0281a#\", \"erai :: \\u0259\\u0281a#\", \"erai :: \\u0259\\u0281a#\", \"erai :: \\u0259\\u0281a#\", \"erai :: \\u0259\\u0281a#\", \"erai :: \\u0259\\u0281a#\", \"erai :: \\u0259\\u0281a#\", \"erai :: \\u0259\\u0281a#\", \"erai :: \\u026ad\\u0259\", \"erai :: \\u026ad\\u0259\", \"erai :: \\u026ak\\u0259\", \"erai :: \\u026ak\\u0259\\u0281\", \"erai :: \\u026ak\\u0259\\u0281\", \"erai :: \\u0281a#\", \"erai :: \\u0281a#\", \"erai :: \\u0281a#\", \"erai :: \\u0281a#\", \"erai :: \\u0281a#\", \"erai :: \\u0281a#\", \"erai :: \\u0281a#\", \"erai :: \\u0281a#\", \"erai :: \\u0281a#\", \"erai :: \\u0281a#\", \"erai :: \\u0281a#\", \"erai :: \\u0281a#\", \"erai :: \\u0281a#\", \"erai :: \\u0281a#\", \"erai :: \\u0281a#\", \"erai :: \\u0281a#\", \"erai :: \\u0281a#\", \"erai :: \\u0281a#\", \"erai :: \\u0281a#\", \"erai :: \\u0281a#\", \"erai :: \\u0281d\\u0259\", \"erai :: \\u0281d\\u0259\", \"erai :: \\u0281d\\u0259\", \"erai :: \\u0281\\u0259\\u0281\", \"erai :: \\u0281\\u0259\\u0281\", \"erai :: \\u0281\\u0259\\u0281\", \"erai :: \\u0281\\u0259\\u0281a\", \"erai :: \\u0281\\u0259\\u0281a\", \"erai :: \\u0281\\u0259\\u0281a\", \"erai :: \\u0283\\u0259\\u0281\", \"erai :: \\u0283\\u0259\\u0281\", \"eras :: \\u0259\\u0281\\u0254\", \"eras :: \\u0259\\u0281\\u0254\", \"eras :: \\u0259\\u0281\\u0254\", \"eras :: \\u0259\\u0281\\u0254\", \"eras :: \\u0259\\u0281\\u0254\", \"eras :: \\u0259\\u0281\\u0254\", \"eras :: \\u0259\\u0281\\u0254\", \"eras :: \\u0259\\u0281\\u0254\", \"eras :: \\u0259\\u0281\\u0254\", \"eras :: \\u0259\\u0281\\u0254\", \"eras :: \\u0259\\u0281\\u0254\", \"eras :: \\u0259\\u0281\\u0254#\", \"eras :: \\u0259\\u0281\\u0254#\", \"eras :: \\u0259\\u0281\\u0254#\", \"eras :: \\u0259\\u0281\\u0254#\", \"eras :: \\u0259\\u0281\\u0254#\", \"eras :: \\u0259\\u0281\\u0254#\", \"eras :: \\u0259\\u0281\\u0254#\", \"eras :: \\u0259\\u0281\\u0254#\", \"eras :: \\u0259\\u0281\\u0254#\", \"eras :: \\u0259\\u0281\\u0254#\", \"eras :: \\u0259\\u0281\\u0254#\", \"eras :: \\u0281\\u0254#\", \"eras :: \\u0281\\u0254#\", \"eras :: \\u0281\\u0254#\", \"eras :: \\u0281\\u0254#\", \"eras :: \\u0281\\u0254#\", \"eras :: \\u0281\\u0254#\", \"eras :: \\u0281\\u0254#\", \"eras :: \\u0281\\u0254#\", \"eras :: \\u0281\\u0254#\", \"eras :: \\u0281\\u0254#\", \"eras :: \\u0281\\u0254#\", \"erd :: ma\\u0281\", \"erdo :: a\\u0281dw\", \"ere :: \\u0259\\u0281e\", \"ere :: \\u0259\\u0281e\", \"ere :: \\u0259\\u0281e\", \"ere :: \\u0259\\u0281e\", \"ere :: \\u0259\\u0281e\", \"ere :: \\u0259\\u0281e\", \"ere :: \\u0259\\u0281e\", \"ere :: \\u0259\\u0281e\", \"ere :: \\u0259\\u0281e\", \"ere :: \\u0259\\u0281e\", \"ere :: \\u0259\\u0281e\", \"ere :: \\u0259\\u0281e\", \"ere :: \\u0259\\u0281e#\", \"ere :: \\u0259\\u0281e#\", \"ere :: \\u0259\\u0281e#\", \"ere :: \\u0259\\u0281e#\", \"ere :: \\u0259\\u0281e#\", \"ere :: \\u0259\\u0281e#\", \"ere :: \\u0259\\u0281e#\", \"ere :: \\u0259\\u0281e#\", \"ere :: \\u0259\\u0281e#\", \"ere :: \\u0281e#\", \"ere :: \\u0281e#\", \"ere :: \\u0281e#\", \"ere :: \\u0281e#\", \"ere :: \\u0281e#\", \"ere :: \\u0281e#\", \"ere :: \\u0281e#\", \"ere :: \\u0281e#\", \"ere :: \\u0281e#\", \"ere :: \\u0281e#\", \"erez :: \\u0259\\u0281e\", \"erez :: \\u0259\\u0281e\", \"erez :: \\u0259\\u0281e\", \"erez :: \\u0259\\u0281e\", \"erez :: \\u0259\\u0281e\", \"erez :: \\u0259\\u0281e\", \"erez :: \\u0259\\u0281e\", \"erez :: \\u0259\\u0281e\", \"erez :: \\u0259\\u0281e\", \"erez :: \\u0259\\u0281e\", \"erez :: \\u0259\\u0281e#\", \"erez :: \\u0259\\u0281e#\", \"erez :: \\u0259\\u0281e#\", \"erez :: \\u0259\\u0281e#\", \"erez :: \\u0259\\u0281e#\", \"erez :: \\u0259\\u0281e#\", \"erez :: \\u0259\\u0281e#\", \"erez :: \\u0259\\u0281e#\", \"erez :: \\u0281e#\", \"erez :: \\u0281e#\", \"erez :: \\u0281e#\", \"erez :: \\u0281e#\", \"erez :: \\u0281e#\", \"erez :: \\u0281e#\", \"erez :: \\u0281e#\", \"erez :: \\u0281e#\", \"erez :: \\u0281e#\", \"erez :: \\u0281e#\", \"erez :: \\u0292\\u0259\\u0281e\", \"erez :: \\u0292\\u0259\\u0281e\", \"erez :: \\u0292\\u0259\\u0281e\", \"erez :: \\u0292\\u0259\\u0281e\", \"erg :: ba\\u0281\", \"eri :: j\\u00f5\\u0169\\u032f\", \"eri :: \\u00f5\\u0169\\u032f\", \"eri :: \\u0259\\u0281je\", \"eri :: \\u0259\\u0281je\", \"eri :: \\u0259\\u0281je\", \"eri :: \\u0259\\u0281je\", \"eri :: \\u0259\\u0281je\", \"eri :: \\u0281je#\", \"eri :: \\u0281je#\", \"eri :: \\u0281je#\", \"eri :: \\u0281je#\", \"eri :: \\u0281je#\", \"eri :: \\u0281je#\", \"eri :: \\u0281j\\u00f5\", \"eri :: \\u0281j\\u00f5\", \"erie :: \\u0259\\u0281j\", \"erie :: \\u0259\\u0281j\", \"erie :: \\u0259\\u0281j\", \"erie :: \\u0259\\u0281j\", \"erie :: \\u0259\\u0281j\", \"erie :: \\u0259\\u0281je\", \"erie :: \\u0259\\u0281je\", \"erie :: \\u0259\\u0281je\", \"erie :: \\u0259\\u0281je\", \"erie :: \\u0259\\u0281je\", \"erie :: \\u0259\\u0281je\", \"erie :: \\u0281je\", \"erie :: \\u0281je\", \"erie :: \\u0281je\", \"erie :: \\u0281je\", \"erie :: \\u0281je\", \"erio :: j\\u00f5\\u0169\", \"erio :: j\\u00f5\\u0169\", \"erio :: \\u00f5\\u0169\\u032f\", \"erio :: \\u00f5\\u0169\\u032f#\", \"erio :: \\u0281j\\u00f5\", \"erio :: \\u0281j\\u00f5\", \"erio :: \\u0281j\\u00f5\\u0169\", \"erio :: \\u0281j\\u00f5\\u0169\", \"erm :: a\\u0281m\", \"erm :: a\\u0281m\", \"erm :: a\\u0281m\", \"erni :: a\\u0281n\", \"erni :: a\\u0281n\", \"ero :: \\u00f5\\u0169\\u032f\", \"ero :: \\u00f5\\u0169\\u032f\", \"ero :: \\u00f5\\u0169\\u032f\", \"ero :: \\u00f5\\u0169\\u032f\", \"ero :: \\u00f5\\u0169\\u032f\", \"ero :: \\u00f5\\u0169\\u032f\", \"ero :: \\u0281\\u00f5\\u0169\", \"ero :: \\u0281\\u00f5\\u0169\", \"ero :: \\u0281\\u00f5\\u0169\", \"ero :: \\u0281\\u00f5\\u0169\", \"ero :: \\u0281\\u00f5\\u0169\", \"ero :: \\u0281\\u00f5\\u0169\", \"eron :: \\u0169\\u032f#\", \"eron :: \\u0169\\u032f#\", \"eron :: \\u0169\\u032f#\", \"eron :: \\u0169\\u032f#\", \"eron :: \\u0169\\u032f#\", \"eron :: \\u0169\\u032f#\", \"eron :: \\u0169\\u032f#\", \"eron :: \\u0281\\u00f5\\u0169\", \"eron :: \\u0281\\u00f5\\u0169\", \"eron :: \\u0281\\u00f5\\u0169\", \"eron :: \\u0281\\u00f5\\u0169\", \"eron :: \\u0281\\u00f5\\u0169\", \"eron :: \\u0281\\u00f5\\u0169\", \"eron :: \\u0281\\u00f5\\u0169\\u032f\", \"eron :: \\u0281\\u00f5\\u0169\\u032f\", \"eron :: \\u0281\\u00f5\\u0169\\u032f\", \"eron :: \\u0281\\u00f5\\u0169\\u032f\", \"eron :: \\u0281\\u00f5\\u0169\\u032f\", \"eron :: \\u0281\\u00f5\\u0169\\u032f\", \"erv :: \\u0251\\u0254\\u032f\", \"es# :: #m\\u0251\\u0254\", \"es# :: #m\\u0251\\u0254\", \"es# :: #m\\u0251\\u0254\", \"es# :: #\\u0251\\u0303\", \"es# :: #\\u0251\\u0303\", \"es# :: #\\u0251\\u0303\", \"es# :: #\\u0251\\u0303\", \"es# :: #\\u0251\\u0303\", \"es# :: #\\u0251\\u0303\", \"es# :: #\\u0251\\u0303\", \"es# :: am#\", \"es# :: am#\", \"es# :: am#\", \"es# :: am#\", \"es# :: am#\", \"es# :: am#\", \"es# :: am#\", \"es# :: am#\", \"es# :: am#\", \"es# :: am#\", \"es# :: am#\", \"es# :: am#\", \"es# :: am#\", \"es# :: am#\", \"es# :: as#\", \"es# :: as#\", \"es# :: as#\", \"es# :: as#\", \"es# :: as#\", \"es# :: as#\", \"es# :: as#\", \"es# :: as#\", \"es# :: as#\", \"es# :: as#\", \"es# :: as#\", \"es# :: as#\", \"es# :: as#\", \"es# :: at#\", \"es# :: at#\", \"es# :: at#\", \"es# :: at#\", \"es# :: at#\", \"es# :: at#\", \"es# :: at#\", \"es# :: at#\", \"es# :: at#\", \"es# :: at#\", \"es# :: at#\", \"es# :: at#\", \"es# :: at#\", \"es# :: at#\", \"es# :: a\\u0281d\", \"es# :: a\\u0281d\", \"es# :: a\\u0281d\", \"es# :: a\\u0281d\", \"es# :: ja\\u0281#\", \"es# :: kat#\", \"es# :: sam\", \"es# :: sam\", \"es# :: sam\", \"es# :: sam\", \"es# :: \\u0129\\u032ft\", \"es# :: \\u0129\\u032ft\", \"es# :: \\u0251\\u0254\\u032f\", \"es# :: \\u0251\\u0254\\u032f\", \"es# :: \\u0251\\u0254\\u032f\", \"es# :: \\u0251\\u0254\\u032f\", \"es# :: \\u0251\\u0254\\u032f\", \"es# :: \\u0251\\u0254\\u032f\", \"es# :: \\u0251\\u0254\\u032f\", \"es# :: \\u0251\\u0254\\u032f\", \"es# :: \\u0251\\u0254\\u032f\", \"es# :: \\u0251\\u0254\\u032f\", \"es# :: \\u0251\\u0254\\u032f\", \"es# :: \\u0251\\u0254\\u032f\", \"es# :: \\u0251\\u0254\\u032f\", \"es# :: \\u0251\\u0254\\u032f\", \"es# :: \\u026ak\\u0251\", \"es# :: \\u0281aj\", \"es# :: \\u0281ea\", \"es# :: \\u0281\\u026am\", \"es# :: \\u0281\\u026am\", \"es# :: \\u0281\\u026av\", \"es# :: \\u0283am#\", \"es# :: \\u032f\\u0283am\", \"esqu :: #ask\", \"esqu :: #ask\", \"ess :: es\\u028f\\u0281\", \"est :: fas\", \"est :: fas\", \"est :: fas\", \"est :: fast\", \"est :: fast\", \"esto :: stw\", \"esto :: stw\", \"eup :: p\\u0153pl\", \"eur :: l\\u0153\\u0281\", \"eur :: l\\u0153\\u0281\", \"eur :: t\\u0153\\u0281\", \"eur :: t\\u0153\\u0281\", \"eur :: t\\u0153\\u0281\", \"eur :: t\\u0153\\u0281\", \"eus :: l\\u00f8z#\", \"eus :: t\\u00f8z\", \"eus :: t\\u00f8z\", \"eus :: t\\u00f8z#\", \"eus :: t\\u00f8z#\", \"eus :: \\u00f8z#\", \"eus :: \\u00f8z#\", \"eus :: \\u00f8z#\", \"eus :: \\u00f8z#\", \"eus :: \\u00f8z#\", \"eus :: \\u00f8z#\", \"eus :: \\u00f8z#\", \"euse :: \\u00f8z#\", \"euse :: \\u00f8z#\", \"euse :: \\u00f8z#\", \"euse :: \\u00f8z#\", \"euse :: \\u00f8z#\", \"euse :: \\u00f8z#\", \"euse :: \\u00f8z#\", \"euse :: \\u00f8z#\", \"ez# :: asj\", \"ez# :: asj\", \"ez# :: asj\", \"ez# :: asj\", \"ez# :: asj\", \"ez# :: asj\", \"ez# :: asj\", \"ez# :: asje\", \"ez# :: asje\", \"ez# :: asje\", \"ez# :: asje\", \"ez# :: a\\u0272e#\", \"ez# :: je#\", \"ez# :: je#\", \"ez# :: je#\", \"ez# :: je#\", \"ez# :: je#\", \"ez# :: je#\", \"ez# :: je#\", \"ez# :: je#\", \"ez# :: je#\", \"ez# :: je#\", \"ez# :: je#\", \"ez# :: je#\", \"ez# :: je#\", \"ez# :: je#\", \"ez# :: je#\", \"ez# :: je#\", \"ez# :: je#\", \"ez# :: je#\", \"ez# :: je#\", \"ez# :: j\\u0259\\u0281\", \"ez# :: j\\u0259\\u0281\", \"ez# :: sje\", \"ez# :: sje\", \"ez# :: sje\", \"ez# :: sje\", \"ez# :: sje\", \"ez# :: sje\", \"ez# :: sje\", \"ez# :: sje\", \"ez# :: sje\", \"ez# :: sje#\", \"ez# :: sje#\", \"ez# :: sje#\", \"ez# :: sje#\", \"ez# :: sje#\", \"ez# :: sje#\", \"ez# :: sje#\", \"ez# :: tasj\", \"ez# :: \\u0259\\u0281e\", \"ez# :: \\u0259\\u0281e\", \"ez# :: \\u0259\\u0281e\", \"ez# :: \\u0259\\u0281e\", \"ez# :: \\u0259\\u0281e\", \"ez# :: \\u0259\\u0281e\", \"ez# :: \\u0259\\u0281e\", \"ez# :: \\u0259\\u0281e\", \"ez# :: \\u0259\\u0281e\", \"ez# :: \\u0259\\u0281e\", \"ez# :: \\u0259\\u0281e\", \"ez# :: \\u0259\\u0281e\", \"ez# :: \\u0259\\u0281e#\", \"ez# :: \\u0259\\u0281e#\", \"ez# :: \\u0259\\u0281e#\", \"ez# :: \\u0259\\u0281e#\", \"ez# :: \\u0259\\u0281e#\", \"ez# :: \\u0259\\u0281e#\", \"ez# :: \\u0259\\u0281e#\", \"ez# :: \\u0259\\u0281j\", \"ez# :: \\u0259\\u0281j\", \"ez# :: \\u0259\\u0281j\", \"ez# :: \\u0259\\u0281j\", \"ez# :: \\u0259\\u0281j\", \"ez# :: \\u0259\\u0281j\", \"ez# :: \\u0259\\u0281je\", \"ez# :: \\u0259\\u0281je\", \"ez# :: \\u0259\\u0281je\", \"ez# :: \\u0259\\u0281je\", \"ez# :: \\u0259\\u0281je\", \"ez# :: \\u0281e#\", \"ez# :: \\u0281e#\", \"ez# :: \\u0281e#\", \"ez# :: \\u0281e#\", \"ez# :: \\u0281e#\", \"ez# :: \\u0281e#\", \"ez# :: \\u0281e#\", \"ez# :: \\u0281e#\", \"ez# :: \\u0281e#\", \"ez# :: \\u0281e#\", \"ez# :: \\u0281e#\", \"ez# :: \\u0281e#\", \"ez# :: \\u0281je\", \"ez# :: \\u0281je\", \"ez# :: \\u0281je\", \"ez# :: \\u0281je\", \"ez# :: \\u0281je\", \"ez# :: \\u0281je\", \"ez# :: \\u0281je#\", \"ez# :: \\u0281je#\", \"ez# :: \\u0281je#\", \"ez# :: \\u0281je#\", \"ez# :: \\u0281je#\", \"ez# :: \\u0281je#\", \"ez# :: \\u0281je#\", \"ez# :: \\u028f\\u0281e#\", \"fal :: ls\\u026af\", \"fal :: ls\\u026af\", \"fal :: \\u026afj\", \"fas :: fas\", \"fas :: fas\", \"fass :: fas\", \"fass :: fas#\", \"ffai :: #afe\", \"ffas :: \\u028afa\", \"ffe :: fa\\u0281\", \"ff\\u00fbt :: f\\u028ft\", \"ff\\u00fbt :: f\\u028ft\", \"flai :: la#\", \"fle :: fl\\u0259\", \"fle :: \\u0259\\u0281\\u0254#\", \"fler :: l\\u0259\\u0281\\u0254\", \"fler :: \\u0281\\u0254#\", \"foi :: #fwa\", \"foir :: wa\\u0281\", \"fond :: \\u00f5\\u0169\\u032f\", \"fond :: \\u00f5\\u0169\\u032f\", \"frei :: f\\u0281an\", \"frei :: f\\u0281an\", \"gali :: al\\u026a\", \"gar :: #ga\", \"gar :: #ga\", \"gar :: #ga\", \"gar :: #ga\\u0281\", \"gar :: #ga\\u0281\", \"gar :: a\\u0281g\", \"gar :: a\\u0281ga\", \"gar :: a\\u0281ga\", \"gar :: a\\u0281ga\", \"gar :: a\\u0281\\u026a\", \"gar :: a\\u0281\\u026a\", \"gar :: a\\u0281\\u026az\", \"gar :: ga\\u0281\", \"gar :: ga\\u0281\", \"gar :: ga\\u0281\", \"gar :: ga\\u0281\", \"gar :: ga\\u0281\", \"gar :: ga\\u0281g\", \"gar :: ga\\u0281\\u026a\", \"gar :: \\u0281ga\", \"garg :: ga\\u0281\", \"garg :: ga\\u0281\", \"garg :: ga\\u0281g\", \"gari :: ga\\u0281\", \"gari :: ga\\u0281\", \"gela :: \\u0259l\\u0254\", \"gent :: \\u0292\\u0251\\u0303\", \"ger :: \\u0281e#\", \"gere :: \\u0292\\u0259\\u0281\", \"ges# :: ta\\u0292\", \"glo :: gl\\u028a\", \"glo :: gl\\u028a\", \"gna :: \\u00e3\\u0169\\u032ft\", \"gna :: \\u032ft#\", \"gnio :: \\u00f5\\u0169\\u032f\", \"gor :: g\\u0251\\u0254\", \"gor :: g\\u0251\\u0254\\u032f\", \"gor :: \\u0251\\u0254\\u032f\", \"gor :: \\u0254\\u032f\\u0281\", \"gor :: \\u0254\\u032f\\u0281\\u0292\", \"gor :: \\u032f\\u0281\\u0292\", \"gor :: \\u032f\\u0281\\u0292\", \"gorg :: g\\u0251\\u0254\", \"gorg :: g\\u0251\\u0254\\u032f\", \"gorg :: \\u0251\\u0254\\u032f\", \"gorg :: \\u0251\\u0254\\u032f\", \"gorg :: \\u0254\\u032f\\u0281\", \"gorg :: \\u0254\\u032f\\u0281\", \"gorg :: \\u0254\\u032f\\u0281\\u0292\", \"gorg :: \\u032f\\u0281\\u0292\", \"gorg :: \\u032f\\u0281\\u0292\", \"gra :: #g\\u0281\", \"gra :: #g\\u0281\", \"gra :: \\u0251\\u0303g\\u0281\", \"gret :: \\u0281\\u0259g\", \"gro :: eg\\u0281\", \"gro :: \\u0251\\u0254\\u032f\\u0272\", \"gro :: \\u0251\\u0254\\u032f\\u0272\", \"gro :: \\u0251\\u0254\\u032f\\u0272\", \"gui :: l\\u0251\\u0303\", \"hape :: \\u0254\\u032fn\", \"hapo :: #\\u0283a\", \"harg :: a\\u0281\\u0292\", \"hel :: l\\u0251\\u0254\\u032f\", \"hel :: l\\u0251\\u0254\\u032f\", \"her :: a\\u0283\\u0259\\u0281\", \"her :: \\u0259\\u0281a\", \"her :: \\u0259\\u0281a\", \"her :: \\u0259\\u0281a#\", \"her :: \\u0259\\u0281a#\", \"her :: \\u0281a#\", \"her :: \\u0281a#\", \"her :: \\u0283\\u0259\\u0281\", \"her :: \\u0283\\u0259\\u0281\", \"her :: \\u0283\\u0259\\u0281a\", \"her :: \\u0283\\u0259\\u0281a\", \"hera :: \\u0259\\u0281a\", \"hera :: \\u0259\\u0281a\", \"hera :: \\u0259\\u0281a\", \"hera :: \\u0281a#\", \"hera :: \\u0281a#\", \"hera :: \\u0283\\u0259\\u0281\", \"hera :: \\u0283\\u0259\\u0281\", \"hera :: \\u0283\\u0259\\u0281a\", \"hera :: \\u0283\\u0259\\u0281a\", \"hera :: \\u0283\\u0259\\u0281a\", \"hera :: \\u0283\\u0259\\u0281a\", \"heus :: \\u0283\\u00f8z#\", \"heus :: \\u0283\\u00f8z#\", \"h\\u00e2m :: am#\", \"h\\u00e2m :: \\u032f\\u0283a\", \"h\\u00e2m :: \\u032f\\u0283a\", \"h\\u00e2me :: am#\", \"h\\u00e2me :: am#\", \"h\\u00e2me :: am#\", \"h\\u00e2me :: \\u0254\\u032f\\u0283\", \"h\\u00e2t :: #\\u0283a\", \"h\\u00e2t :: #\\u0283a\", \"h\\u00e9b :: #eba\", \"ian :: fj\\u00e6\", \"ian :: fj\\u00e6\\u0303\", \"ian :: \\u00e6\\u0303#\", \"ian# :: j\\u00e6\\u0303\", \"ide :: d\\u0259\\u0281\", \"ide :: d\\u0259\\u0281\", \"ide :: \\u0259\\u0281a\", \"ide :: \\u0259\\u0281a\", \"ide :: \\u0259\\u0281a\", \"ide :: \\u026ad\\u0259\", \"ider :: d\\u0259\\u0281a\", \"ider :: d\\u0259\\u0281a\", \"idez :: \\u026ade#\", \"ien :: an#\", \"ien :: an#\", \"ien :: an#\", \"ien :: jan\", \"ien :: jan\", \"ien :: jan\", \"ien :: jan#\", \"ien :: jan#\", \"ien :: l\\u026aza\", \"ien :: sa#\", \"ien :: sa#\", \"ien :: \\u0259\\u0281a#\", \"ien :: \\u0259\\u0281a#\", \"ien :: \\u0259\\u0281a#\", \"ien :: \\u0259\\u0281a#\", \"ien :: \\u0259\\u0281a#\", \"ien :: \\u0259\\u0281a#\", \"ien :: \\u0259\\u0281a#\", \"ien :: \\u0259\\u0281a#\", \"ien :: \\u026ama\", \"ien :: \\u0281a#\", \"ien :: \\u0281a#\", \"ien :: \\u0281a#\", \"ien :: \\u0281a#\", \"ien :: \\u0281a#\", \"ien :: \\u0281a#\", \"ien :: \\u0281a#\", \"ien :: \\u0281a#\", \"ien :: \\u0281a#\", \"ien :: \\u0281a#\", \"ienn :: an#\", \"ienn :: an#\", \"ienn :: jan\", \"ienn :: jan\", \"ienn :: jan#\", \"ienn :: jan#\", \"ienn :: sjan\", \"ienn :: sjan\", \"ienn :: sjan\", \"ient :: al\\u026a\", \"ient :: sa#\", \"ient :: sa#\", \"ient :: sa#\", \"ient :: \\u0259\\u0281a\", \"ient :: \\u0259\\u0281a\", \"ient :: \\u0259\\u0281a\", \"ient :: \\u0259\\u0281a\", \"ient :: \\u0259\\u0281a\", \"ient :: \\u0259\\u0281a\", \"ient :: \\u0259\\u0281a\", \"ient :: \\u0259\\u0281a\", \"ient :: \\u0259\\u0281a#\", \"ient :: \\u0259\\u0281a#\", \"ient :: \\u0259\\u0281a#\", \"ient :: \\u0259\\u0281a#\", \"ient :: \\u0259\\u0281a#\", \"ient :: \\u0259\\u0281a#\", \"ient :: \\u0259\\u0281a#\", \"ient :: \\u0259\\u0281a#\", \"ient :: \\u0259\\u0281a#\", \"ient :: \\u0281a#\", \"ient :: \\u0281a#\", \"ient :: \\u0281a#\", \"ient :: \\u0281a#\", \"ient :: \\u0281a#\", \"ient :: \\u0281a#\", \"ient :: \\u0281a#\", \"ient :: \\u0281a#\", \"ient :: \\u0281a#\", \"ient :: \\u0281a#\", \"ient :: \\u0281a#\", \"ient :: \\u0281a#\", \"ient :: \\u0281\\u0251\\u0254\", \"ient :: \\u0281\\u0251\\u0254\", \"ier :: a\\u0281a#\", \"iez :: asj\", \"iez :: asj\", \"iez :: asj\", \"iez :: asj\", \"iez :: asj\", \"iez :: asje\", \"iez :: asje\", \"iez :: asje\", \"iez :: asje\", \"iez :: asje\", \"iez :: je#\", \"iez :: je#\", \"iez :: je#\", \"iez :: je#\", \"iez :: je#\", \"iez :: je#\", \"iez :: je#\", \"iez :: je#\", \"iez :: je#\", \"iez :: je#\", \"iez :: je#\", \"iez :: je#\", \"iez :: je#\", \"iez :: je#\", \"iez :: je#\", \"iez :: je#\", \"iez :: je#\", \"iez :: je#\", \"iez :: je#\", \"iez :: je#\", \"iez :: sje\", \"iez :: sje\", \"iez :: sje\", \"iez :: sje\", \"iez :: sje\", \"iez :: sje\", \"iez :: sje\", \"iez :: sje\", \"iez :: sje#\", \"iez :: sje#\", \"iez :: sje#\", \"iez :: sje#\", \"iez :: sje#\", \"iez :: sje#\", \"iez :: sje#\", \"iez :: sje#\", \"iez :: sje#\", \"iez :: tas\", \"iez :: tasj\", \"iez :: t\\u0361s\", \"iez :: \\u0259\\u0281je\", \"iez :: \\u0259\\u0281je\", \"iez :: \\u0259\\u0281je\", \"iez :: \\u0259\\u0281je\", \"iez :: \\u0259\\u0281je\", \"iez :: \\u0259\\u0281je\", \"iez :: \\u0281je\", \"iez :: \\u0281je\", \"iez :: \\u0281je\", \"iez :: \\u0281je\", \"iez :: \\u0281je\", \"iez :: \\u0281je\", \"iez :: \\u0281je#\", \"iez :: \\u0281je#\", \"iez :: \\u0281je#\", \"iez :: \\u0281je#\", \"iez :: \\u0281je#\", \"iez :: \\u0281je#\", \"iez :: \\u0281je#\", \"iez# :: asj\", \"iez# :: asj\", \"iez# :: asj\", \"iez# :: asj\", \"iez# :: asj\", \"iez# :: asje\", \"iez# :: asje\", \"iez# :: asje\", \"iez# :: asje\", \"iez# :: asje\", \"iez# :: asje\", \"iez# :: je#\", \"iez# :: je#\", \"iez# :: je#\", \"iez# :: je#\", \"iez# :: je#\", \"iez# :: je#\", \"iez# :: je#\", \"iez# :: je#\", \"iez# :: je#\", \"iez# :: je#\", \"iez# :: je#\", \"iez# :: je#\", \"iez# :: je#\", \"iez# :: je#\", \"iez# :: je#\", \"iez# :: je#\", \"iez# :: je#\", \"iez# :: je#\", \"iez# :: je#\", \"iez# :: je#\", \"iez# :: je#\", \"iez# :: sje\", \"iez# :: sje\", \"iez# :: sje\", \"iez# :: sje\", \"iez# :: sje\", \"iez# :: sje\", \"iez# :: sje\", \"iez# :: sje\", \"iez# :: sje#\", \"iez# :: sje#\", \"iez# :: sje#\", \"iez# :: sje#\", \"iez# :: sje#\", \"iez# :: sje#\", \"iez# :: sje#\", \"iez# :: tas\", \"iez# :: \\u0259\\u0281je\", \"iez# :: \\u0259\\u0281je\", \"iez# :: \\u0259\\u0281je\", \"iez# :: \\u0259\\u0281je\", \"iez# :: \\u0259\\u0281je\", \"iez# :: \\u0281asj\", \"iez# :: \\u0281je\", \"iez# :: \\u0281je\", \"iez# :: \\u0281je\", \"iez# :: \\u0281je\", \"iez# :: \\u0281je\", \"iez# :: \\u0281je\", \"iez# :: \\u0281je#\", \"iez# :: \\u0281je#\", \"iez# :: \\u0281je#\", \"iez# :: \\u0281je#\", \"iez# :: \\u0281je#\", \"iez# :: \\u0281je#\", \"iez# :: \\u0281je#\", \"iff :: \\u0361z\\u026a\", \"iff :: \\u0361z\\u026af\", \"iff :: \\u0361z\\u026af\", \"ifi :: t\\u0281\\u026af\", \"ifia :: s\\u026af\", \"ifia :: s\\u026af\", \"ifia :: s\\u026af\", \"igno :: \\u00f5\\u0169\\u032f\", \"ilib :: ek\\u026al\", \"ill :: ja#\", \"ill :: ja#\", \"ill :: j\\u0254#\", \"ill :: j\\u0254#\", \"ill :: j\\u0254#\", \"ill :: \\u0281a#\", \"ill :: \\u0281a#\", \"ill :: \\u0281a#\", \"illa :: j\\u0254#\", \"illa :: j\\u0254#\", \"illa :: j\\u0254#\", \"illa :: j\\u0254#\", \"ille :: j\\u0259\\u0281\", \"ille :: j\\u0259\\u0281\", \"ille :: j\\u0259\\u0281\", \"ille :: j\\u0259\\u0281\", \"ille :: j\\u0259\\u0281\", \"ille :: j\\u0259\\u0281\", \"ille :: j\\u0259\\u0281\", \"imi :: s\\u026am\\u026a\", \"ina :: as#\", \"ina :: as#\", \"ina :: as#\", \"ina :: nas\", \"ina :: nas\", \"ina :: nas#\", \"ina :: nas#\", \"ina :: nas#\", \"ina :: \\u026ana\", \"ina :: \\u026ana\", \"ina :: \\u026anas\", \"inas :: as#\", \"inas :: as#\", \"inas :: nas\", \"inas :: nas#\", \"inas :: \\u026ana\", \"inas :: \\u026anas\", \"inas :: \\u026anas\", \"ind :: \\u0129\\u032fd\\u0281\", \"inf :: #\\u1ebd\\u0129\", \"inf :: \\u0129\\u032ff\", \"infe :: \\u1ebd\\u0129\\u032f\", \"infe :: \\u1ebd\\u0129\\u032f\", \"ing :: #s\\u1ebd\", \"ing :: #s\\u1ebd\\u0129\", \"ing :: l\\u1ebd\\u0129\", \"ing :: s\\u1ebd\\u0129\", \"ing :: \\u1ebd\\u0129\\u032f\", \"ing :: \\u1ebd\\u0129\\u032f\", \"ing :: \\u1ebd\\u0129\\u032f\", \"ing :: \\u1ebd\\u0129\\u032f\", \"ing :: \\u1ebd\\u0129\\u032fg\", \"ing :: \\u1ebd\\u0129\\u032fg\", \"ingl :: #s\\u1ebd\", \"ingl :: #s\\u1ebd\\u0129\", \"ingl :: s\\u1ebd\\u0129\\u032f\", \"ingu :: #\\u0283l\", \"ins :: \\u1ebd\\u0129\\u032f#\", \"ins :: \\u1ebd\\u0129\\u032f#\", \"ins :: \\u1ebd\\u0129\\u032f#\", \"ins :: \\u1ebd\\u0129\\u032f#\", \"ins# :: \\u0129\\u032f#\", \"ins# :: \\u0129\\u032f#\", \"ins# :: \\u0129\\u032f#\", \"ins# :: \\u1ebd\\u0129\\u032f#\", \"ins# :: \\u1ebd\\u0129\\u032f#\", \"ins# :: \\u1ebd\\u0129\\u032f#\", \"inss :: \\u1ebd\\u0129\\u032f\", \"int :: #\\u1ebd\\u0129\\u032f\", \"int :: s\\u1ebd\\u0129\", \"int :: s\\u1ebd\\u0129\\u032f\", \"int :: s\\u1ebd\\u0129\\u032f\", \"intr :: s\\u1ebd\\u0129\", \"intr :: \\u0129\\u032ft\", \"intr :: \\u1ebd\\u0129\\u032f\", \"in\\u00e9 :: ne#\", \"in\\u00e9 :: ne#\", \"in\\u00e9 :: ne#\", \"in\\u00e9 :: ne#\", \"ion :: j\\u00f5\\u0169\", \"ion :: j\\u00f5\\u0169\", \"ion :: j\\u00f5\\u0169\", \"ion :: j\\u00f5\\u0169\", \"ion :: j\\u00f5\\u0169\", \"ion :: j\\u00f5\\u0169\", \"ion :: j\\u00f5\\u0169\", \"ion :: j\\u00f5\\u0169\", \"ion :: j\\u00f5\\u0169\", \"ion :: j\\u00f5\\u0169\\u032f\", \"ion :: j\\u00f5\\u0169\\u032f\", \"ion :: j\\u00f5\\u0169\\u032f\", \"ion :: j\\u00f5\\u0169\\u032f\", \"ion :: j\\u00f5\\u0169\\u032f\", \"ion :: j\\u00f5\\u0169\\u032f\", \"ion :: j\\u00f5\\u0169\\u032f\", \"ion :: j\\u00f5\\u0169\\u032f\", \"ion :: j\\u00f5\\u0169\\u032f\", \"ion :: j\\u00f5\\u0169\\u032f\", \"ion :: ksj\", \"ion :: ksj\\u00f5\", \"ion :: ksj\\u00f5\", \"ion :: ksj\\u00f5\", \"ion :: sj\\u00f5\", \"ion :: sj\\u00f5\", \"ion :: sj\\u00f5\\u0169\", \"ion :: sj\\u00f5\\u0169\", \"ion :: sj\\u00f5\\u0169\", \"ion :: \\u00f5\\u0169\\u032f\", \"ion :: \\u00f5\\u0169\\u032f\", \"ion :: \\u00f5\\u0169\\u032f\", \"ion :: \\u00f5\\u0169\\u032f\", \"ion :: \\u00f5\\u0169\\u032f\", \"ion :: \\u00f5\\u0169\\u032f\", \"ion :: \\u00f5\\u0169\\u032f\", \"ion :: \\u00f5\\u0169\\u032f\", \"ion :: \\u00f5\\u0169\\u032f\", \"ion :: \\u00f5\\u0169\\u032f\", \"ion :: \\u00f5\\u0169\\u032f#\", \"ion :: \\u00f5\\u0169\\u032f#\", \"ion :: \\u00f5\\u0169\\u032f#\", \"ion :: \\u00f5\\u0169\\u032f#\", \"ion :: \\u00f5\\u0169\\u032f#\", \"ion :: \\u00f5\\u0169\\u032f#\", \"ion :: \\u00f5\\u0169\\u032f#\", \"ion :: \\u00f5\\u0169\\u032f#\", \"ion :: \\u00f5\\u0169\\u032f#\", \"ion :: \\u0169\\u032f#\", \"ion :: \\u0169\\u032f#\", \"ion :: \\u0169\\u032f#\", \"ion :: \\u0169\\u032f#\", \"ion :: \\u0169\\u032f#\", \"ion :: \\u0169\\u032f#\", \"ion :: \\u0169\\u032f#\", \"ion :: \\u0169\\u032f#\", \"ion :: \\u0169\\u032f#\", \"ion :: \\u026aks\", \"ion :: \\u026aks\", \"ion :: \\u0281j\\u00f5\", \"ion :: \\u0281j\\u00f5\", \"ion :: \\u0281j\\u00f5\\u0169\", \"ion :: \\u0281j\\u00f5\\u0169\", \"ions :: j\\u00f5\\u0169\", \"ions :: j\\u00f5\\u0169\", \"ions :: j\\u00f5\\u0169\", \"ions :: j\\u00f5\\u0169\", \"ions :: j\\u00f5\\u0169\", \"ions :: j\\u00f5\\u0169\", \"ions :: j\\u00f5\\u0169\", \"ions :: j\\u00f5\\u0169\", \"ions :: j\\u00f5\\u0169\", \"ions :: j\\u00f5\\u0169\\u032f\", \"ions :: j\\u00f5\\u0169\\u032f\", \"ions :: j\\u00f5\\u0169\\u032f\", \"ions :: j\\u00f5\\u0169\\u032f\", \"ions :: j\\u00f5\\u0169\\u032f\", \"ions :: j\\u00f5\\u0169\\u032f\", \"ions :: j\\u00f5\\u0169\\u032f\", \"ions :: j\\u00f5\\u0169\\u032f\", \"ions :: j\\u00f5\\u0169\\u032f\", \"ions :: j\\u00f5\\u0169\\u032f\", \"ions :: sj\\u00f5\", \"ions :: sj\\u00f5\", \"ions :: sj\\u00f5\\u0169\", \"ions :: sj\\u00f5\\u0169\", \"ions :: \\u00f5\\u0169\\u032f\", \"ions :: \\u00f5\\u0169\\u032f\", \"ions :: \\u00f5\\u0169\\u032f\", \"ions :: \\u00f5\\u0169\\u032f\", \"ions :: \\u00f5\\u0169\\u032f\", \"ions :: \\u00f5\\u0169\\u032f\", \"ions :: \\u00f5\\u0169\\u032f\", \"ions :: \\u00f5\\u0169\\u032f\", \"ions :: \\u00f5\\u0169\\u032f#\", \"ions :: \\u00f5\\u0169\\u032f#\", \"ions :: \\u00f5\\u0169\\u032f#\", \"ions :: \\u00f5\\u0169\\u032f#\", \"ions :: \\u00f5\\u0169\\u032f#\", \"ions :: \\u00f5\\u0169\\u032f#\", \"ions :: \\u00f5\\u0169\\u032f#\", \"ions :: \\u00f5\\u0169\\u032f#\", \"ions :: \\u00f5\\u0169\\u032f#\", \"ions :: \\u00f5\\u0169\\u032f#\", \"ions :: \\u0169\\u032f#\", \"ions :: \\u0169\\u032f#\", \"ions :: \\u0169\\u032f#\", \"ions :: \\u0169\\u032f#\", \"ions :: \\u0169\\u032f#\", \"ions :: \\u0169\\u032f#\", \"ions :: \\u0169\\u032f#\", \"ions :: \\u0259\\u0281j\\u00f5\", \"ions :: \\u0281j\\u00f5\", \"ions :: \\u0281j\\u00f5\", \"ions :: \\u0281j\\u00f5\\u0169\", \"ions :: \\u0281j\\u00f5\\u0169\", \"iqu :: k\\u0259\\u0281a\", \"iqu :: \\u0259\\u0281a#\", \"iqu :: \\u0281a#\", \"iqu :: \\u0281a#\", \"iqu :: \\u0361s\\u026ak\", \"iqu :: \\u0361s\\u026ak\", \"iqu :: \\u0361s\\u026ak\", \"iqu :: \\u0361s\\u026ak\", \"ique :: k\\u0259\\u0281a\", \"ique :: \\u0281a#\", \"ira :: s\\u026a\\u0281a\", \"ira :: t\\u0361s\\u026a\", \"irai :: \\u026a\\u0281a\", \"irai :: \\u026a\\u0281a\", \"irai :: \\u026a\\u0281a\", \"irai :: \\u026a\\u0281a\", \"irai :: \\u026a\\u0281a\", \"irai :: \\u026a\\u0281a\", \"ire :: \\u0361s\\u026a\\u0281\", \"ire :: \\u0361s\\u026a\\u0281\", \"iro :: \\u0169\\u032f#\", \"iro :: \\u0169\\u032f#\", \"iro :: \\u0169\\u032f#\", \"iron :: \\u026a\\u0281\\u00f5\", \"iron :: \\u026a\\u0281\\u00f5\", \"iron :: \\u026a\\u0281\\u00f5\\u0169\", \"is# :: \\u0281a#\", \"is# :: \\u0281a#\", \"is# :: \\u0281a#\", \"is# :: \\u0281a#\", \"is# :: \\u0281a#\", \"is# :: \\u0281a#\", \"is# :: \\u0281a#\", \"is# :: \\u0281a#\", \"is# :: \\u0281a#\", \"is# :: \\u0281a#\", \"is# :: \\u0281a#\", \"is# :: \\u0281a#\", \"isa :: #pla\", \"isa :: v\\u026az\", \"isa :: v\\u026az\", \"isa :: v\\u026az\", \"isa :: v\\u026aza\", \"isa :: zaj\", \"isa :: zaj\", \"iss :: \\u026as\\u026a\", \"isse :: ev\\u026a\", \"isse :: ev\\u026a\", \"isse :: ev\\u026a\", \"issi :: \\u026as\\u026a\", \"ist :: \\u026asta\", \"ist :: \\u0281\\u026as\", \"iste :: \\u026as#\", \"iste :: \\u026as#\", \"iste :: \\u026as#\", \"is\\u00e9 :: ze#\", \"is\\u00e9 :: ze#\", \"is\\u00e9 :: ze#\", \"is\\u00e9 :: \\u026aze\", \"is\\u00e9 :: \\u026aze\", \"is\\u00e9 :: \\u026aze\", \"is\\u00e9 :: \\u026aze\", \"is\\u00e9 :: \\u026aze\", \"is\\u00e9 :: \\u026aze#\", \"is\\u00e9 :: \\u026aze#\", \"is\\u00e9 :: \\u026aze#\", \"is\\u00e9e :: l\\u026az\", \"is\\u00e9e :: l\\u026az\", \"it# :: d\\u0361z\", \"it# :: \\u0259na#\", \"it# :: \\u0259\\u0281a#\", \"it# :: \\u0259\\u0281a#\", \"it# :: \\u0259\\u0281a#\", \"it# :: \\u0259\\u0281a#\", \"it# :: \\u0259\\u0281a#\", \"it# :: \\u0259\\u0281a#\", \"it# :: \\u0259\\u0281a#\", \"it# :: \\u0259\\u0281a#\", \"ite :: \\u0259\\u0281\\u0254#\", \"i\\u00e2t :: \\u0281\\u026aj\\u0254\", \"i\\u00e8r :: a\\u0281#\", \"i\\u00e8r :: a\\u0281#\", \"i\\u00e8r :: a\\u0281#\", \"i\\u00e8r :: a\\u0281#\", \"i\\u00e8r :: a\\u0281#\", \"i\\u00e8r :: a\\u0281#\", \"i\\u00e8r :: ja\\u0281\", \"i\\u00e8r :: ja\\u0281\", \"i\\u00e8r :: ja\\u0281\", \"i\\u00e8r :: ja\\u0281#\", \"i\\u00e8r :: ja\\u0281#\", \"i\\u00e8r :: ja\\u0281#\", \"i\\u00e8re :: a\\u0281#\", \"i\\u00e8re :: a\\u0281#\", \"i\\u00e8re :: a\\u0281#\", \"i\\u00e8re :: ja\\u0281\", \"i\\u00e8re :: ja\\u0281\", \"i\\u00e8re :: ja\\u0281\", \"i\\u00e8re :: ja\\u0281#\", \"i\\u00e8re :: ja\\u0281#\", \"i\\u00e8re :: ja\\u0281#\", \"i\\u00e8re :: lja\\u0281\", \"lai :: la#\", \"lai :: la#\", \"lai :: la#\", \"lai :: la#\", \"lai :: la#\", \"lai :: la#\", \"lais :: #pl\", \"lais :: plaz\", \"lam :: lam\", \"lant :: l\\u00e6\\u0303\", \"lant :: l\\u00e6\\u0303\", \"lant :: l\\u00e6\\u0303\", \"las :: asj\\u00f5\", \"las :: asj\\u00f5\", \"las :: las#\", \"las :: las#\", \"las :: las#\", \"las :: las#\", \"lass :: asje\", \"lass :: as\\u0259\\u0281\", \"lass :: las#\", \"lass :: las#\", \"lass :: las#\", \"lass :: las#\", \"lass :: las#\", \"la\\u00e7a :: sa#\", \"ler :: aj\\u0259\\u0281\", \"ler :: aj\\u0259\\u0281\", \"ler :: aj\\u0259\\u0281\", \"ler :: aj\\u0259\\u0281\", \"ler :: l\\u0259\\u0281\", \"ler :: l\\u0259\\u0281\", \"ler :: l\\u0259\\u0281\", \"ler :: l\\u0259\\u0281\", \"ler :: l\\u0259\\u0281\", \"ler :: l\\u0259\\u0281\", \"ler :: l\\u0259\\u0281\", \"ler :: l\\u0259\\u0281\", \"ler :: l\\u0259\\u0281\", \"ler :: l\\u0259\\u0281\", \"ler :: l\\u0259\\u0281\\u0254\", \"ler :: l\\u0259\\u0281\\u0254\", \"ler :: l\\u0259\\u0281\\u0254\", \"ler :: \\u0259\\u0281\\u0254\", \"ler :: \\u0259\\u0281\\u0254\", \"ler :: \\u0259\\u0281\\u0254\", \"ler :: \\u0259\\u0281\\u0254\", \"ler :: \\u0259\\u0281\\u0254\", \"ler :: \\u0281\\u0254#\", \"ler :: \\u0281\\u0254#\", \"ler :: \\u0281\\u0254#\", \"ler :: \\u0281\\u0254#\", \"ler :: \\u0281\\u0254#\", \"lera :: fl\\u0259\\u0281\", \"lera :: fl\\u0259\\u0281\", \"lera :: l\\u0259\\u0281\", \"lera :: l\\u0259\\u0281\", \"lera :: l\\u0259\\u0281\", \"lera :: l\\u0259\\u0281\", \"lera :: l\\u0259\\u0281\", \"lera :: l\\u0259\\u0281\", \"lera :: l\\u0259\\u0281\", \"lera :: \\u0259\\u0281\\u0254\", \"lera :: \\u0259\\u0281\\u0254\", \"lera :: \\u0259\\u0281\\u0254\", \"lera :: \\u0259\\u0281\\u0254\", \"lera :: \\u0259\\u0281\\u0254#\", \"lera :: \\u0259\\u0281\\u0254#\", \"lera :: \\u0259\\u0281\\u0254#\", \"lera :: \\u0259\\u0281\\u0254#\", \"lera :: \\u0259\\u0281\\u0254#\", \"lera :: \\u0281\\u0254#\", \"lera :: \\u0281\\u0254#\", \"lera :: \\u0281\\u0254#\", \"lera :: \\u0281\\u0254#\", \"lera :: \\u0281\\u0254#\", \"les :: al#\", \"les :: al#\", \"leu :: \\u0281\\u0259\\u0281\", \"leu :: \\u0281\\u0259\\u0281\", \"lin :: l\\u1ebd\\u0129\", \"lin :: \\u0129\\u032fg\", \"lin :: \\u1ebd\\u0129\\u032fg\", \"ling :: l\\u1ebd\\u0129\", \"ling :: l\\u1ebd\\u0129\", \"ling :: l\\u1ebd\\u0129\", \"ling :: l\\u1ebd\\u0129\\u032f\", \"ling :: \\u0283l\\u1ebd\\u0129\", \"ling :: \\u1ebd\\u0129\\u032f\", \"ling :: \\u1ebd\\u0129\\u032fg\", \"lis :: l\\u026az\", \"lis :: l\\u026az\", \"lis :: l\\u026az\", \"lis :: l\\u026az\", \"lis :: l\\u026az\", \"lis :: l\\u026az\", \"lis :: l\\u026az\", \"lis :: l\\u026az\", \"lis\\u00e9 :: \\u026aze\", \"lis\\u00e9 :: \\u026aze\", \"li\\u00e8r :: a\\u0281#\", \"lla :: j\\u0254#\", \"lla :: j\\u0254#\", \"lla :: \\u028ajas\", \"lla :: \\u028aj\\u0254\", \"llas :: \\u028aj\\u0254\", \"llas :: \\u028aj\\u0254\", \"lle :: j\\u0259\\u0281\", \"lle :: j\\u0259\\u0281\", \"lle :: j\\u0259\\u0281\", \"lle :: j\\u0259\\u0281\", \"lle :: j\\u0259\\u0281\", \"lle :: j\\u0259\\u0281\", \"ller :: aj\\u0259\\u0281\", \"ller :: aj\\u0259\\u0281\", \"ller :: aj\\u0259\\u0281\", \"ller :: aj\\u0259\\u0281\", \"ller :: j\\u0259\\u0281\", \"ller :: j\\u0259\\u0281\", \"ller :: j\\u0259\\u0281\", \"ller :: j\\u0259\\u0281\", \"ller :: j\\u0259\\u0281\", \"ller :: j\\u0259\\u0281\", \"ller :: j\\u0259\\u0281\", \"lonn :: \\u032fne\", \"lons :: \\u0169\\u032f#\", \"lons :: \\u0169\\u032f#\", \"lons :: \\u0169\\u032f#\", \"lop :: gal\", \"lou :: #gl\\u028a\", \"lou :: gl\\u028a\", \"l\\u00e2m :: lam\", \"l\\u00e2m :: lam\", \"l\\u00e2t :: at#\", \"l\\u00e2t :: at#\", \"l\\u00e2t :: at#\", \"l\\u00e2t :: at#\", \"l\\u00e2t :: lat\", \"l\\u00e9ch :: le\\u0283a\", \"l\\u00e9e# :: je#\", \"mal :: alt\", \"maqu :: ak\\u026a\", \"maqu :: ak\\u026a\", \"maqu :: ak\\u026a\", \"mar :: \\u0281b\\u0281\", \"marb :: #ma\", \"marb :: a\\u0281b\", \"mati :: at\\u0361s\", \"mati :: at\\u0361s\", \"mati :: \\u0361s\\u026a\", \"mbr :: b\\u0281az\", \"mbu :: \\u0251\\u0303b\", \"men :: m\\u00e6\\u0303\", \"men :: m\\u00e6\\u0303\", \"men :: m\\u00e6\\u0303\", \"men :: m\\u00e6\\u0303\", \"men :: m\\u00e6\\u0303\", \"men :: m\\u00e6\\u0303\", \"men :: m\\u00e6\\u0303#\", \"men :: m\\u00e6\\u0303#\", \"men :: m\\u00e6\\u0303#\", \"men :: m\\u00e6\\u0303#\", \"men :: m\\u00e6\\u0303#\", \"men :: m\\u00e6\\u0303#\", \"men :: m\\u00e6\\u0303#\", \"men :: \\u00e6\\u0303#\", \"men :: \\u00e6\\u0303#\", \"men :: \\u00e6\\u0303#\", \"men :: \\u00e6\\u0303#\", \"men :: \\u00e6\\u0303#\", \"men :: \\u00e6\\u0303#\", \"ment :: m\\u00e6\\u0303\", \"ment :: m\\u00e6\\u0303\", \"ment :: m\\u00e6\\u0303\", \"ment :: m\\u00e6\\u0303\", \"ment :: m\\u00e6\\u0303\", \"ment :: m\\u00e6\\u0303\", \"ment :: m\\u00e6\\u0303#\", \"ment :: m\\u00e6\\u0303#\", \"ment :: m\\u00e6\\u0303#\", \"ment :: m\\u00e6\\u0303#\", \"ment :: m\\u00e6\\u0303#\", \"ment :: m\\u00e6\\u0303#\", \"ment :: \\u00e6\\u0303#\", \"ment :: \\u00e6\\u0303#\", \"ment :: \\u00e6\\u0303#\", \"ment :: \\u00e6\\u0303#\", \"ment :: \\u00e6\\u0303#\", \"ment :: \\u00e6\\u0303#\", \"ment :: \\u00e6\\u0303#\", \"mer :: a\\u0281d\", \"merd :: \\u0251\\u0303ma\", \"mes :: am#\", \"mes :: am#\", \"mes :: am#\", \"mes :: am#\", \"mes :: am#\", \"mes :: am#\", \"mes :: am#\", \"mes :: am#\", \"mes :: am#\", \"mes :: am#\", \"mes :: am#\", \"mes :: am#\", \"mes :: am#\", \"mes :: am#\", \"mes :: \\u0254\\u032f\\u0283a\", \"mes :: \\u0254\\u032f\\u0283a\", \"mes :: \\u0283am#\", \"mes :: \\u032f\\u0283a\", \"mes# :: #k\\u00f5\\u0169\", \"mes# :: am#\", \"mes# :: am#\", \"mes# :: am#\", \"mes# :: am#\", \"mes# :: am#\", \"mes# :: am#\", \"mes# :: am#\", \"mes# :: am#\", \"mes# :: am#\", \"mes# :: am#\", \"mes# :: am#\", \"mes# :: am#\", \"mes# :: am#\", \"mes# :: dam\", \"mes# :: dam\", \"mes# :: \\u0283am#\", \"mes# :: \\u0283am#\", \"mon :: #\\u0281\\u0259m\", \"mon :: #\\u0281\\u0259m\", \"mont :: \\u00f5\\u0169\\u032ft\", \"mor :: #m\\u0251\", \"mor :: #m\\u0251\\u0254\", \"mor :: m\\u0251\\u0254\", \"mor :: m\\u0251\\u0254\", \"mor :: \\u0251\\u0254\\u032f\", \"mor :: \\u0254\\u032f\\u0281\", \"mpil :: \\u0303p\\u026a\", \"mpl :: lwa\", \"mpre :: p\\u0281e\", \"m\\u00e8re :: a\\u0281#\", \"m\\u00e9d :: #med\", \"m\\u00e9d :: d\\u0361z\", \"m\\u00e9d :: med\\u0361\", \"nac :: \\u0251\\u0303p\", \"nai :: na#\", \"nai :: na#\", \"nai :: na#\", \"nai :: na#\", \"nai :: na#\", \"nai :: na#\", \"nai :: \\u0251\\u0254\\u032f\", \"nai :: \\u0251\\u0254\\u032f\", \"nai :: \\u0251\\u0254\\u032f\", \"nai :: \\u0251\\u0254\\u032fn\", \"nai :: \\u0254\\u032fn\", \"nai :: \\u0254\\u032fn\", \"nai :: \\u0254\\u032fn\", \"nai :: \\u0254\\u032fna\", \"nai :: \\u0254\\u032fna\", \"nai :: \\u032fna\", \"nai :: \\u032fna#\", \"nan :: \\u0272\\u00e3\\u0169\\u032f\", \"nant :: \\u0272\\u00e3\\u0169\", \"nant :: \\u0272\\u00e3\\u0169\", \"nas :: as#\", \"nas :: as#\", \"nas :: as#\", \"nas :: as#\", \"nas :: as#\", \"nas :: je#\", \"nas :: nas#\", \"nas :: nas#\", \"nas :: nas#\", \"nas :: nas#\", \"nas :: \\u026ana\", \"nass :: as#\", \"nass :: as#\", \"nass :: as#\", \"nass :: as#\", \"nass :: nas\", \"nass :: nas\", \"nass :: nas\", \"nass :: nas\", \"nass :: nas\", \"nass :: nas\", \"nass :: \\u026ana\", \"nass :: \\u026anas\", \"nce# :: \\u032fs#\", \"nce# :: \\u032fs#\", \"nch :: \\u0251\\u0303\\u0283\", \"nch :: \\u0251\\u0303\\u0283\", \"nch :: \\u0251\\u0303\\u0283\", \"nda :: \\u032fda#\", \"ndas :: \\u00f5\\u0169\\u032fd\", \"ndas :: \\u00f5\\u0169\\u032fd\", \"ndi :: d\\u0361z\", \"ndi :: d\\u0361z\", \"ndi :: \\u0251\\u0303d\", \"ndi :: \\u0251\\u0303d\\u0361\", \"ndi :: \\u0281\\u0251\\u0303d\", \"ndi :: \\u0303d\\u0361\", \"ndi :: \\u0303d\\u0361z\", \"ndi :: \\u0303d\\u0361z\", \"ndr :: \\u1ebd\\u0129\\u032fd\", \"nd\\u00e9 :: \\u0169\\u032fde\", \"nd\\u00e9 :: \\u032fde\", \"nd\\u00e9e :: \\u00f5\\u0169\\u032f\", \"nd\\u00e9e :: \\u00f5\\u0169\\u032f\", \"nd\\u00e9e :: \\u0169\\u032fd\", \"nd\\u00e9e :: \\u0169\\u032fde\", \"nd\\u00e9e :: \\u032fde\", \"ne# :: an#\", \"ne# :: sja\", \"ner :: \\u0259\\u0281a#\", \"ner :: \\u0259\\u0281a#\", \"ner :: \\u0259\\u0281a#\", \"nfou :: \\u0251\\u0303f\", \"nfou :: \\u0251\\u0303f\", \"ngl :: #s\\u1ebd\", \"ngl :: s\\u1ebd\\u0129\", \"ngl :: s\\u1ebd\\u0129\\u032f\", \"ngl :: s\\u1ebd\\u0129\\u032f\", \"ngl :: \\u032fgl\", \"ngl :: \\u1ebd\\u0129\\u032fg\", \"ngl :: \\u1ebd\\u0129\\u032fg\", \"ngu :: \\u1ebd\\u0129\\u032f\", \"ngu :: \\u1ebd\\u0129\\u032f\", \"nia :: #nj\", \"nia :: #nj\", \"niez :: je#\", \"niez :: je#\", \"niez :: \\u0251\\u0254\\u032fn\", \"nion :: \\u00f5\\u0169\\u032f\", \"nis :: n\\u026az\", \"nis :: ta\\u0281\", \"nis :: ze#\", \"nive :: den\", \"nna :: na#\", \"nna :: \\u0251\\u0254\\u032f\", \"nna :: \\u0251\\u0254\\u032f\", \"nna :: \\u0251\\u0254\\u032fn\", \"nna :: \\u0251\\u0254\\u032fn\", \"nna :: \\u0251\\u0254\\u032fn\", \"nna :: \\u0254\\u032fn\", \"nna :: \\u0254\\u032fn\", \"nna :: \\u0254\\u032fna\", \"nna :: \\u0254\\u032fna\", \"nna :: \\u0254\\u032fna\", \"nna :: \\u032fna\", \"nna :: \\u032fna\", \"nnai :: \\u0251\\u0254\\u032f\", \"nnai :: \\u0254\\u032fn\", \"nnai :: \\u0254\\u032fna\", \"nnai :: \\u032fna\", \"nnai :: \\u032fna#\", \"nne :: an#\", \"nne :: an#\", \"nne :: an#\", \"nne :: jan#\", \"nne :: jan#\", \"nne :: ne#\", \"nne :: sja\", \"nne :: sjan\", \"nne :: \\u0254\\u032fne\", \"nne# :: jan\", \"nn\\u00e9 :: ne#\", \"nn\\u00e9 :: \\u0251\\u0254\\u032f\", \"nn\\u00e9 :: \\u0251\\u0254\\u032f\", \"nn\\u00e9 :: \\u0251\\u0254\\u032fn\", \"nn\\u00e9 :: \\u0251\\u0254\\u032fn\", \"nn\\u00e9 :: \\u0254\\u032fn\", \"nn\\u00e9 :: \\u0254\\u032fn\", \"nn\\u00e9 :: \\u0254\\u032fn\", \"nn\\u00e9 :: \\u0254\\u032fne\", \"nn\\u00e9 :: \\u0254\\u032fne\", \"nn\\u00e9 :: \\u032fne\", \"nn\\u00e9 :: \\u032fne\", \"nn\\u00e9 :: \\u032fne\", \"nn\\u00e9 :: \\u032fne#\", \"nn\\u00e9 :: \\u032fne#\", \"nn\\u00e9e :: \\u0251\\u0254\\u032f\", \"nn\\u00e9e :: \\u0251\\u0254\\u032f\", \"nn\\u00e9e :: \\u0251\\u0254\\u032f\", \"nn\\u00e9e :: \\u0251\\u0254\\u032fn\", \"nn\\u00e9e :: \\u0251\\u0254\\u032fn\", \"nn\\u00e9e :: \\u0251\\u0254\\u032fn\", \"nqu :: \\u0303ka\", \"nqu :: \\u0303ka\", \"nrub :: \\u0251\\u0303\\u0281\", \"ns# :: j\\u00f5\\u0169\", \"ns# :: j\\u00f5\\u0169\", \"ns# :: j\\u00f5\\u0169\", \"ns# :: j\\u00f5\\u0169\", \"ns# :: j\\u00f5\\u0169\", \"ns# :: j\\u00f5\\u0169\", \"ns# :: j\\u00f5\\u0169\", \"ns# :: j\\u00f5\\u0169\", \"ns# :: j\\u00f5\\u0169\", \"ns# :: j\\u00f5\\u0169\", \"ns# :: j\\u00f5\\u0169\\u032f\", \"ns# :: j\\u00f5\\u0169\\u032f\", \"ns# :: j\\u00f5\\u0169\\u032f\", \"ns# :: j\\u00f5\\u0169\\u032f\", \"ns# :: j\\u00f5\\u0169\\u032f\", \"ns# :: j\\u00f5\\u0169\\u032f\", \"ns# :: j\\u00f5\\u0169\\u032f\", \"ns# :: j\\u00f5\\u0169\\u032f\", \"ns# :: j\\u00f5\\u0169\\u032f\", \"ns# :: j\\u00f5\\u0169\\u032f\", \"ns# :: sj\\u00f5\", \"ns# :: sj\\u00f5\", \"ns# :: sj\\u00f5\", \"ns# :: sj\\u00f5\\u0169\", \"ns# :: sj\\u00f5\\u0169\", \"ns# :: sj\\u00f5\\u0169\", \"ns# :: t\\u00f5\\u0169\\u032f\", \"ns# :: t\\u00f5\\u0169\\u032f\", \"ns# :: \\u00f5\\u0169\\u032f\", \"ns# :: \\u00f5\\u0169\\u032f\", \"ns# :: \\u00f5\\u0169\\u032f\", \"ns# :: \\u00f5\\u0169\\u032f\", \"ns# :: \\u00f5\\u0169\\u032f\", \"ns# :: \\u00f5\\u0169\\u032f\", \"ns# :: \\u00f5\\u0169\\u032f\", \"ns# :: \\u00f5\\u0169\\u032f\", \"ns# :: \\u00f5\\u0169\\u032f\", \"ns# :: \\u00f5\\u0169\\u032f\", \"ns# :: \\u00f5\\u0169\\u032f\", \"ns# :: \\u00f5\\u0169\\u032f\", \"ns# :: \\u00f5\\u0169\\u032f\", \"ns# :: \\u00f5\\u0169\\u032f\", \"ns# :: \\u00f5\\u0169\\u032f\", \"ns# :: \\u00f5\\u0169\\u032f\", \"ns# :: \\u00f5\\u0169\\u032f\", \"ns# :: \\u00f5\\u0169\\u032f\", \"ns# :: \\u00f5\\u0169\\u032f\", \"ns# :: \\u00f5\\u0169\\u032f\", \"ns# :: \\u00f5\\u0169\\u032f#\", \"ns# :: \\u00f5\\u0169\\u032f#\", \"ns# :: \\u00f5\\u0169\\u032f#\", \"ns# :: \\u00f5\\u0169\\u032f#\", \"ns# :: \\u00f5\\u0169\\u032f#\", \"ns# :: \\u00f5\\u0169\\u032f#\", \"ns# :: \\u00f5\\u0169\\u032f#\", \"ns# :: \\u00f5\\u0169\\u032f#\", \"ns# :: \\u00f5\\u0169\\u032f#\", \"ns# :: \\u00f5\\u0169\\u032f#\", \"ns# :: \\u00f5\\u0169\\u032f#\", \"ns# :: \\u00f5\\u0169\\u032f#\", \"ns# :: \\u00f5\\u0169\\u032f#\", \"ns# :: \\u00f5\\u0169\\u032f#\", \"ns# :: \\u00f5\\u0169\\u032f#\", \"ns# :: \\u00f5\\u0169\\u032f#\", \"ns# :: \\u00f5\\u0169\\u032f#\", \"ns# :: \\u00f5\\u0169\\u032f#\", \"ns# :: \\u00f5\\u0169\\u032f#\", \"ns# :: \\u0169\\u032f#\", \"ns# :: \\u0169\\u032f#\", \"ns# :: \\u0169\\u032f#\", \"ns# :: \\u0169\\u032f#\", \"ns# :: \\u0169\\u032f#\", \"ns# :: \\u0169\\u032f#\", \"ns# :: \\u0169\\u032f#\", \"ns# :: \\u0169\\u032f#\", \"ns# :: \\u0169\\u032f#\", \"ns# :: \\u0169\\u032f#\", \"ns# :: \\u0169\\u032f#\", \"ns# :: \\u0169\\u032f#\", \"ns# :: \\u0169\\u032f#\", \"ns# :: \\u0169\\u032f#\", \"ns# :: \\u0169\\u032f#\", \"ns# :: \\u0169\\u032f#\", \"ns# :: \\u0169\\u032f#\", \"ns# :: \\u0169\\u032f#\", \"ns# :: \\u0259\\u0281\\u00f5\", \"ns# :: \\u0259\\u0281\\u00f5\", \"ns# :: \\u0259\\u0281\\u00f5\", \"ns# :: \\u0259\\u0281\\u00f5\", \"ns# :: \\u0259\\u0281\\u00f5\\u0169\", \"ns# :: \\u0259\\u0281\\u00f5\\u0169\", \"ns# :: \\u0259\\u0281\\u00f5\\u0169\", \"ns# :: \\u0272\\u00f5\\u0169\\u032f\", \"ns# :: \\u0281j\\u00f5\", \"ns# :: \\u0281j\\u00f5\", \"ns# :: \\u0281j\\u00f5\\u0169\", \"ns# :: \\u0281\\u00f5\\u0169\", \"ns# :: \\u0281\\u00f5\\u0169\", \"ns# :: \\u0281\\u00f5\\u0169\", \"ns# :: \\u0281\\u00f5\\u0169\", \"ns# :: \\u0281\\u00f5\\u0169\\u032f\", \"ns# :: \\u0281\\u00f5\\u0169\\u032f\", \"ns# :: \\u0281\\u00f5\\u0169\\u032f\", \"ns# :: \\u0281\\u00f5\\u0169\\u032f\", \"nt# :: as#\", \"nt# :: as#\", \"nt# :: as#\", \"nt# :: as#\", \"nt# :: as#\", \"nt# :: as#\", \"nt# :: as#\", \"nt# :: as#\", \"nt# :: as#\", \"nt# :: as#\", \"nt# :: as#\", \"nt# :: as#\", \"nt# :: as#\", \"nt# :: a\\u0281#\", \"nt# :: a\\u0281#\", \"nt# :: a\\u0281#\", \"nt# :: a\\u0281#\", \"nt# :: a\\u0281#\", \"nt# :: a\\u0281#\", \"nt# :: a\\u0281#\", \"nt# :: a\\u0281#\", \"nt# :: a\\u0281#\", \"nt# :: a\\u0281#\", \"nt# :: a\\u0281#\", \"nt# :: a\\u0281#\", \"nt# :: a\\u0281#\", \"nt# :: a\\u0281#\", \"nt# :: a\\u0281#\", \"nt# :: a\\u0281#\", \"nt# :: a\\u0281#\", \"nt# :: g\\u0251\\u0254\\u032f\", \"nt# :: g\\u0251\\u0254\\u032f\", \"nt# :: m\\u00e6\\u0303\", \"nt# :: m\\u00e6\\u0303\", \"nt# :: m\\u00e6\\u0303\", \"nt# :: m\\u00e6\\u0303\", \"nt# :: m\\u00e6\\u0303\", \"nt# :: m\\u0251\\u0254\", \"nt# :: m\\u0251\\u0254\", \"nt# :: sa#\", \"nt# :: sa#\", \"nt# :: sa#\", \"nt# :: ta\\u0281#\", \"nt# :: ta\\u0281#\", \"nt# :: ta\\u0281#\", \"nt# :: ta\\u0281#\", \"nt# :: v\\u00e6\\u0303\", \"nt# :: v\\u00e6\\u0303\", \"nt# :: v\\u00e6\\u0303\", \"nt# :: \\u00e6\\u0303#\", \"nt# :: \\u00e6\\u0303#\", \"nt# :: \\u00e6\\u0303#\", \"nt# :: \\u00e6\\u0303#\", \"nt# :: \\u00e6\\u0303#\", \"nt# :: \\u00e6\\u0303#\", \"nt# :: \\u00e6\\u0303#\", \"nt# :: \\u00e6\\u0303#\", \"nt# :: \\u00e6\\u0303#\", \"nt# :: \\u00e6\\u0303#\", \"nt# :: \\u00e6\\u0303#\", \"nt# :: \\u00e6\\u0303#\", \"nt# :: \\u00e6\\u0303#\", \"nt# :: \\u00e6\\u0303#\", \"nt# :: \\u00e6\\u0303#\", \"nt# :: \\u00e6\\u0303#\", \"nt# :: \\u0251\\u0254\\u032f\", \"nt# :: \\u0251\\u0254\\u032f\", \"nt# :: \\u0251\\u0254\\u032f\", \"nt# :: \\u0251\\u0254\\u032f\", \"nt# :: \\u0251\\u0254\\u032f\", \"nt# :: \\u0251\\u0254\\u032f\", \"nt# :: \\u0251\\u0254\\u032f\", \"nt# :: \\u0251\\u0254\\u032f\", \"nt# :: \\u0251\\u0254\\u032f\", \"nt# :: \\u0251\\u0254\\u032f\", \"nt# :: \\u0254\\u032fn\", \"nt# :: \\u0259\\u0281a\", \"nt# :: \\u0259\\u0281a\", \"nt# :: \\u0259\\u0281a\", \"nt# :: \\u0259\\u0281a\", \"nt# :: \\u0259\\u0281a\", \"nt# :: \\u0259\\u0281a\", \"nt# :: \\u0259\\u0281a\", \"nt# :: \\u0259\\u0281a\", \"nt# :: \\u0259\\u0281a\", \"nt# :: \\u0259\\u0281\\u00f5\", \"nt# :: \\u0259\\u0281\\u00f5\", \"nt# :: \\u0259\\u0281\\u00f5\", \"nt# :: \\u0281a#\", \"nt# :: \\u0281a#\", \"nt# :: \\u0281a#\", \"nt# :: \\u0281a#\", \"nt# :: \\u0281a#\", \"nt# :: \\u0281a#\", \"nt# :: \\u0281a#\", \"nt# :: \\u0281a#\", \"nt# :: \\u0281a#\", \"nt# :: \\u0281a#\", \"nt# :: \\u0281as\", \"nt# :: \\u0281as\", \"nt# :: \\u0281as\", \"nt# :: \\u0281\\u00f5\\u0169\\u032f\", \"nt# :: \\u0281\\u00f5\\u0169\\u032f\", \"nt# :: \\u0281\\u00f5\\u0169\\u032f\", \"nt# :: \\u0281\\u00f5\\u0169\\u032f\", \"nt# :: \\u0281\\u00f5\\u0169\\u032f\", \"nta :: \\u0251\\u0303t\", \"nta :: \\u0251\\u0303t\", \"nta :: \\u0251\\u0303t\", \"nta :: \\u0251\\u0303t\", \"nta :: \\u0251\\u0303ta\", \"nta :: \\u0251\\u0303ta\", \"nta :: \\u0251\\u0303ta\", \"nta :: \\u0251\\u0303ta\", \"nta :: \\u0303ta\", \"nta :: \\u0303ta\", \"nta :: \\u0303tas\", \"nta :: \\u0303tas\", \"nta :: \\u0303tas\", \"nte :: \\u00e3\\u0169\\u032f\", \"nte :: \\u00e3\\u0169\\u032f\", \"nte :: \\u00e3\\u0169\\u032f\", \"nte :: \\u00e3\\u0169\\u032f\", \"nte :: \\u00e3\\u0169\\u032ft\", \"nte :: \\u00e3\\u0169\\u032ft\", \"nte :: \\u00e3\\u0169\\u032ft\", \"nte :: \\u00e3\\u0169\\u032ft\", \"nte :: \\u00e3\\u0169\\u032ft\", \"nte :: \\u0169\\u032ft\", \"nte :: \\u0169\\u032ft\", \"nte :: \\u0169\\u032ft\", \"nte :: \\u0169\\u032ft\", \"nte :: \\u0169\\u032ft\", \"nte :: \\u0169\\u032ft#\", \"nte :: \\u0169\\u032ft#\", \"nte :: \\u0169\\u032ft#\", \"nte :: \\u0169\\u032ft#\", \"nte :: \\u0169\\u032ft#\", \"nte :: \\u032ft#\", \"nte :: \\u032ft#\", \"nte :: \\u032ft#\", \"nte :: \\u032ft#\", \"nte :: \\u032ft#\", \"nte :: \\u032ft#\", \"nte :: \\u032ft#\", \"nte# :: \\u00e3\\u0169\\u032ft\", \"nte# :: \\u00e3\\u0169\\u032ft\", \"nte# :: \\u00e3\\u0169\\u032ft\", \"nte# :: \\u00e3\\u0169\\u032ft\", \"nte# :: \\u0169\\u032ft\", \"nte# :: \\u0169\\u032ft\", \"nte# :: \\u0169\\u032ft#\", \"nte# :: \\u0169\\u032ft#\", \"nte# :: \\u032ft#\", \"nte# :: \\u032ft#\", \"ntr :: s\\u1ebd\\u0129\\u032f\", \"ntr :: \\u0129\\u032ft\", \"ntr :: \\u0129\\u032ft\", \"ntr :: \\u0129\\u032ft\", \"ntr :: \\u0129\\u032ft\\u0281\", \"ntr :: \\u0281e#\", \"ntr :: \\u0281e#\", \"ntr :: \\u1ebd\\u0129\\u032f\", \"nt\\u00e9e :: \\u0251\\u0303t\", \"nt\\u00e9e :: \\u0251\\u0303t\", \"n\\u00e7a :: \\u0281\\u0251\\u0303\", \"n\\u00e7a :: \\u0281\\u0251\\u0303\", \"n\\u00e8r :: na\\u0281#\", \"n\\u00e9e :: ane#\", \"n\\u00e9e :: ane#\", \"n\\u00e9e :: \\u0251\\u0254\\u032fn\", \"n\\u00e9e :: \\u0251\\u0254\\u032fn\", \"obse :: \\u032fpsa\", \"och :: \\u0251\\u0254\\u032f\", \"och :: \\u0251\\u0254\\u032f\", \"och :: \\u0251\\u0254\\u032f\", \"och :: \\u0251\\u0254\\u032f\\u0283\", \"och :: \\u0251\\u0254\\u032f\\u0283\", \"och :: \\u0254\\u032f\\u0283\", \"och :: \\u0254\\u032f\\u0283\", \"och :: \\u0254\\u032f\\u0283\", \"och :: \\u0254\\u032f\\u0283a\", \"och :: \\u0254\\u032f\\u0283a\", \"och :: \\u0283am#\", \"och :: \\u0283am#\", \"och :: \\u032f\\u0283a\", \"och :: \\u032f\\u0283am\", \"och\\u00e2 :: \\u0283am\", \"ode :: k\\u0251\\u0254\", \"ode :: k\\u0251\\u0254\\u032f\", \"oir :: wa\\u0281\", \"oir :: wa\\u0281\", \"oir :: wa\\u0281\", \"oir :: wa\\u0281\", \"oir :: wa\\u0281\", \"oir :: wa\\u0281\", \"oir :: wa\\u0281#\", \"oir :: wa\\u0281#\", \"omm :: #k\\u0251\", \"omm :: #k\\u0251\", \"omm :: #k\\u0251\", \"omm :: k\\u0251\\u0254\", \"omm :: k\\u0251\\u0254\\u032f\", \"ond :: de#\", \"ond :: m\\u00f5\\u0169\\u032f\", \"ond :: \\u00f5\\u0169\\u032f\", \"ond :: \\u00f5\\u0169\\u032f\", \"ond :: \\u00f5\\u0169\\u032fd\", \"ond :: \\u00f5\\u0169\\u032fd\", \"ond :: \\u00f5\\u0169\\u032fd\", \"ond :: \\u0169\\u032fd\", \"ond :: \\u0169\\u032fd\", \"ond :: \\u0169\\u032fd\", \"ond :: \\u0169\\u032fde\", \"ond :: \\u0169\\u032fde\", \"ond :: \\u032fde\", \"ond :: \\u032fde#\", \"ond\\u00e9 :: de#\", \"ond\\u00e9 :: de#\", \"ond\\u00e9 :: \\u00f5\\u0169\\u032f\", \"ond\\u00e9 :: \\u032fde\", \"onf :: \\u0169\\u032ff\", \"onn :: na#\", \"onn :: ne#\", \"onn :: ne#\", \"onn :: ne#\", \"onn :: ne#\", \"onn :: n\\u0254#\", \"onn :: n\\u0254#\", \"onn :: \\u0251\\u0254\\u032f\", \"onn :: \\u0251\\u0254\\u032f\", \"onn :: \\u0251\\u0254\\u032f\", \"onn :: \\u0251\\u0254\\u032f\", \"onn :: \\u0251\\u0254\\u032f\", \"onn :: \\u0251\\u0254\\u032f\", \"onn :: \\u0251\\u0254\\u032f\", \"onn :: \\u0251\\u0254\\u032f\", \"onn :: \\u0251\\u0254\\u032f\", \"onn :: \\u0251\\u0254\\u032f\", \"onn :: \\u0251\\u0254\\u032fn\", \"onn :: \\u0251\\u0254\\u032fn\", \"onn :: \\u0251\\u0254\\u032fn\", \"onn :: \\u0251\\u0254\\u032fn\", \"onn :: \\u0251\\u0254\\u032fn\", \"onn :: \\u0251\\u0254\\u032fn\", \"onn :: \\u0251\\u0254\\u032fn\", \"onn :: \\u0251\\u0254\\u032fn\", \"onn :: \\u0251\\u0254\\u032fn\", \"onn :: \\u0251\\u0254\\u032fn\", \"onn :: \\u0254\\u032fn\", \"onn :: \\u0254\\u032fn\", \"onn :: \\u0254\\u032fn\", \"onn :: \\u0254\\u032fn\", \"onn :: \\u0254\\u032fn\", \"onn :: \\u0254\\u032fn\", \"onn :: \\u0254\\u032fn\", \"onn :: \\u0254\\u032fn\", \"onn :: \\u0254\\u032fn\", \"onn :: \\u0254\\u032fn\", \"onn :: \\u0254\\u032fn\", \"onn :: \\u0254\\u032fna\", \"onn :: \\u0254\\u032fna\", \"onn :: \\u0254\\u032fna\", \"onn :: \\u0254\\u032fne\", \"onn :: \\u0254\\u032fne\", \"onn :: \\u0283ap\", \"onn :: \\u032fn#\", \"onn :: \\u032fn#\", \"onn :: \\u032fna\", \"onn :: \\u032fna\", \"onn :: \\u032fne\", \"onn :: \\u032fne\", \"onn :: \\u032fne\", \"onn :: \\u032fne#\", \"onn :: \\u032fne#\", \"onn :: \\u032fne#\", \"onn :: \\u032fn\\u0254\", \"onn :: \\u032fn\\u0254\", \"onna :: na#\", \"onna :: na#\", \"onna :: \\u0251\\u0254\\u032f\", \"onna :: \\u0251\\u0254\\u032f\", \"onna :: \\u0251\\u0254\\u032f\", \"onna :: \\u0251\\u0254\\u032fn\", \"onna :: \\u0251\\u0254\\u032fn\", \"onna :: \\u0254\\u032fna\", \"onna :: \\u0254\\u032fna\", \"onna :: \\u0254\\u032fna\", \"onna :: \\u0254\\u032fna\", \"onna :: \\u032fna\", \"onna :: \\u032fna\", \"onna :: \\u032fna#\", \"onne :: \\u0254\\u032fne\", \"onne :: \\u0254\\u032fne\", \"onne :: \\u0254\\u032fne\", \"onne :: \\u032fn#\", \"onn\\u00e9 :: l\\u0251\\u0254\\u032f\", \"onn\\u00e9 :: ne#\", \"onn\\u00e9 :: ne#\", \"onn\\u00e9 :: \\u0251\\u0254\\u032f\", \"onn\\u00e9 :: \\u0251\\u0254\\u032f\", \"onn\\u00e9 :: \\u0251\\u0254\\u032f\", \"onn\\u00e9 :: \\u0251\\u0254\\u032f\", \"onn\\u00e9 :: \\u0251\\u0254\\u032fn\", \"onn\\u00e9 :: \\u0251\\u0254\\u032fn\", \"onn\\u00e9 :: \\u0251\\u0254\\u032fn\", \"onn\\u00e9 :: \\u0254\\u032fn\", \"onn\\u00e9 :: \\u0254\\u032fn\", \"onn\\u00e9 :: \\u0254\\u032fne\", \"onn\\u00e9 :: \\u032fne\", \"onn\\u00e9 :: \\u032fne#\", \"onn\\u00e9 :: \\u032fne#\", \"ons :: as\\u00f5\\u0169\", \"ons :: as\\u00f5\\u0169\", \"ons :: as\\u00f5\\u0169\", \"ons :: j\\u00f5\\u0169\", \"ons :: j\\u00f5\\u0169\", \"ons :: j\\u00f5\\u0169\", \"ons :: j\\u00f5\\u0169\", \"ons :: j\\u00f5\\u0169\", \"ons :: j\\u00f5\\u0169\", \"ons :: j\\u00f5\\u0169\", \"ons :: j\\u00f5\\u0169\", \"ons :: j\\u00f5\\u0169\\u032f\", \"ons :: j\\u00f5\\u0169\\u032f\", \"ons :: j\\u00f5\\u0169\\u032f\", \"ons :: j\\u00f5\\u0169\\u032f\", \"ons :: j\\u00f5\\u0169\\u032f\", \"ons :: j\\u00f5\\u0169\\u032f\", \"ons :: j\\u00f5\\u0169\\u032f\", \"ons :: j\\u00f5\\u0169\\u032f\", \"ons :: j\\u00f5\\u0169\\u032f\", \"ons :: k\\u00f5\\u0169\", \"ons :: l\\u00f5\\u0169\", \"ons :: l\\u00f5\\u0169\", \"ons :: l\\u00f5\\u0169\", \"ons :: l\\u00f5\\u0169\", \"ons :: sj\\u00f5\", \"ons :: sj\\u00f5\", \"ons :: sj\\u00f5\\u0169\", \"ons :: sj\\u00f5\\u0169\", \"ons :: t\\u00f5\\u0169\", \"ons :: t\\u00f5\\u0169\", \"ons :: t\\u00f5\\u0169\", \"ons :: t\\u00f5\\u0169\", \"ons :: \\u00f5\\u0169\\u032f\", \"ons :: \\u00f5\\u0169\\u032f\", \"ons :: \\u00f5\\u0169\\u032f\", \"ons :: \\u00f5\\u0169\\u032f\", \"ons :: \\u00f5\\u0169\\u032f\", \"ons :: \\u00f5\\u0169\\u032f\", \"ons :: \\u00f5\\u0169\\u032f\", \"ons :: \\u00f5\\u0169\\u032f\", \"ons :: \\u00f5\\u0169\\u032f\", \"ons :: \\u00f5\\u0169\\u032f\", \"ons :: \\u00f5\\u0169\\u032f\", \"ons :: \\u00f5\\u0169\\u032f\", \"ons :: \\u00f5\\u0169\\u032f\", \"ons :: \\u00f5\\u0169\\u032f\", \"ons :: \\u00f5\\u0169\\u032f\", \"ons :: \\u00f5\\u0169\\u032f\", \"ons :: \\u00f5\\u0169\\u032f\", \"ons :: \\u00f5\\u0169\\u032f\", \"ons :: \\u00f5\\u0169\\u032f\", \"ons :: \\u00f5\\u0169\\u032f\", \"ons :: \\u00f5\\u0169\\u032f\", \"ons :: \\u00f5\\u0169\\u032f\", \"ons :: \\u00f5\\u0169\\u032f#\", \"ons :: \\u00f5\\u0169\\u032f#\", \"ons :: \\u00f5\\u0169\\u032f#\", \"ons :: \\u00f5\\u0169\\u032f#\", \"ons :: \\u00f5\\u0169\\u032f#\", \"ons :: \\u00f5\\u0169\\u032f#\", \"ons :: \\u00f5\\u0169\\u032f#\", \"ons :: \\u00f5\\u0169\\u032f#\", \"ons :: \\u00f5\\u0169\\u032f#\", \"ons :: \\u00f5\\u0169\\u032f#\", \"ons :: \\u00f5\\u0169\\u032f#\", \"ons :: \\u00f5\\u0169\\u032f#\", \"ons :: \\u00f5\\u0169\\u032f#\", \"ons :: \\u00f5\\u0169\\u032f#\", \"ons :: \\u00f5\\u0169\\u032f#\", \"ons :: \\u00f5\\u0169\\u032f#\", \"ons :: \\u00f5\\u0169\\u032f#\", \"ons :: \\u0169\\u032f#\", \"ons :: \\u0169\\u032f#\", \"ons :: \\u0169\\u032f#\", \"ons :: \\u0169\\u032f#\", \"ons :: \\u0169\\u032f#\", \"ons :: \\u0169\\u032f#\", \"ons :: \\u0169\\u032f#\", \"ons :: \\u0169\\u032f#\", \"ons :: \\u0169\\u032f#\", \"ons :: \\u0169\\u032f#\", \"ons :: \\u0169\\u032f#\", \"ons :: \\u0169\\u032f#\", \"ons :: \\u0169\\u032f#\", \"ons :: \\u0169\\u032f#\", \"ons :: \\u0169\\u032f#\", \"ons :: \\u0169\\u032f#\", \"ons :: \\u0169\\u032f#\", \"ons :: \\u0169\\u032f#\", \"ons :: \\u0169\\u032fs\", \"ons :: \\u0169\\u032fs\", \"ons :: \\u0259\\u0281\\u00f5\\u0169\", \"ons :: \\u0259\\u0281\\u00f5\\u0169\", \"ons :: \\u0259\\u0281\\u00f5\\u0169\", \"ons :: \\u0259\\u0281\\u00f5\\u0169\", \"ons :: \\u0281j\\u00f5\", \"ons :: \\u0281j\\u00f5\", \"ons :: \\u0281j\\u00f5\", \"ons :: \\u0281j\\u00f5\\u0169\", \"ons :: \\u0281j\\u00f5\\u0169\", \"ons :: \\u0281j\\u00f5\\u0169\", \"ons :: \\u0281j\\u00f5\\u0169\", \"ons :: \\u0281\\u00f5\\u0169\", \"ons :: \\u0281\\u00f5\\u0169\", \"ons :: \\u0281\\u00f5\\u0169\", \"ons :: \\u0281\\u00f5\\u0169\", \"ons :: \\u0281\\u00f5\\u0169\", \"ons :: \\u0281\\u00f5\\u0169\", \"ons :: \\u0281\\u00f5\\u0169\", \"ons :: \\u0281\\u00f5\\u0169\\u032f\", \"ons :: \\u0281\\u00f5\\u0169\\u032f\", \"ons :: \\u0281\\u00f5\\u0169\\u032f\", \"ons :: \\u0281\\u00f5\\u0169\\u032f\", \"ons :: \\u0281\\u026a\\u0281\\u00f5\", \"ons :: \\u028aj\\u00f5\", \"ons# :: j\\u00f5\\u0169\", \"ons# :: j\\u00f5\\u0169\", \"ons# :: j\\u00f5\\u0169\", \"ons# :: j\\u00f5\\u0169\", \"ons# :: j\\u00f5\\u0169\", \"ons# :: j\\u00f5\\u0169\", \"ons# :: j\\u00f5\\u0169\", \"ons# :: j\\u00f5\\u0169\", \"ons# :: j\\u00f5\\u0169\", \"ons# :: j\\u00f5\\u0169\", \"ons# :: j\\u00f5\\u0169\\u032f\", \"ons# :: j\\u00f5\\u0169\\u032f\", \"ons# :: j\\u00f5\\u0169\\u032f\", \"ons# :: j\\u00f5\\u0169\\u032f\", \"ons# :: j\\u00f5\\u0169\\u032f\", \"ons# :: j\\u00f5\\u0169\\u032f\", \"ons# :: j\\u00f5\\u0169\\u032f\", \"ons# :: j\\u00f5\\u0169\\u032f\", \"ons# :: j\\u00f5\\u0169\\u032f\", \"ons# :: sj\\u00f5\", \"ons# :: sj\\u00f5\", \"ons# :: sj\\u00f5\\u0169\", \"ons# :: sj\\u00f5\\u0169\", \"ons# :: sj\\u00f5\\u0169\", \"ons# :: sj\\u00f5\\u0169\", \"ons# :: \\u00f5\\u0169\\u032f\", \"ons# :: \\u00f5\\u0169\\u032f\", \"ons# :: \\u00f5\\u0169\\u032f\", \"ons# :: \\u00f5\\u0169\\u032f\", \"ons# :: \\u00f5\\u0169\\u032f\", \"ons# :: \\u00f5\\u0169\\u032f\", \"ons# :: \\u00f5\\u0169\\u032f\", \"ons# :: \\u00f5\\u0169\\u032f\", \"ons# :: \\u00f5\\u0169\\u032f\", \"ons# :: \\u00f5\\u0169\\u032f\", \"ons# :: \\u00f5\\u0169\\u032f\", \"ons# :: \\u00f5\\u0169\\u032f\", \"ons# :: \\u00f5\\u0169\\u032f\", \"ons# :: \\u00f5\\u0169\\u032f\", \"ons# :: \\u00f5\\u0169\\u032f\", \"ons# :: \\u00f5\\u0169\\u032f\", \"ons# :: \\u00f5\\u0169\\u032f\", \"ons# :: \\u00f5\\u0169\\u032f\", \"ons# :: \\u00f5\\u0169\\u032f\", \"ons# :: \\u00f5\\u0169\\u032f\", \"ons# :: \\u00f5\\u0169\\u032f\", \"ons# :: \\u00f5\\u0169\\u032f#\", \"ons# :: \\u00f5\\u0169\\u032f#\", \"ons# :: \\u00f5\\u0169\\u032f#\", \"ons# :: \\u00f5\\u0169\\u032f#\", \"ons# :: \\u00f5\\u0169\\u032f#\", \"ons# :: \\u00f5\\u0169\\u032f#\", \"ons# :: \\u00f5\\u0169\\u032f#\", \"ons# :: \\u00f5\\u0169\\u032f#\", \"ons# :: \\u00f5\\u0169\\u032f#\", \"ons# :: \\u00f5\\u0169\\u032f#\", \"ons# :: \\u00f5\\u0169\\u032f#\", \"ons# :: \\u00f5\\u0169\\u032f#\", \"ons# :: \\u00f5\\u0169\\u032f#\", \"ons# :: \\u00f5\\u0169\\u032f#\", \"ons# :: \\u00f5\\u0169\\u032f#\", \"ons# :: \\u00f5\\u0169\\u032f#\", \"ons# :: \\u00f5\\u0169\\u032f#\", \"ons# :: \\u00f5\\u0169\\u032f#\", \"ons# :: \\u0169\\u032f#\", \"ons# :: \\u0169\\u032f#\", \"ons# :: \\u0169\\u032f#\", \"ons# :: \\u0169\\u032f#\", \"ons# :: \\u0169\\u032f#\", \"ons# :: \\u0169\\u032f#\", \"ons# :: \\u0169\\u032f#\", \"ons# :: \\u0169\\u032f#\", \"ons# :: \\u0169\\u032f#\", \"ons# :: \\u0169\\u032f#\", \"ons# :: \\u0169\\u032f#\", \"ons# :: \\u0169\\u032f#\", \"ons# :: \\u0169\\u032f#\", \"ons# :: \\u0169\\u032f#\", \"ons# :: \\u0169\\u032f#\", \"ons# :: \\u0169\\u032f#\", \"ons# :: \\u0169\\u032f#\", \"ons# :: \\u0169\\u032f#\", \"ons# :: \\u0169\\u032f#\", \"ons# :: \\u0281j\\u00f5\", \"ons# :: \\u0281j\\u00f5\", \"ons# :: \\u0281j\\u00f5\\u0169\", \"ons# :: \\u0281\\u00f5\\u0169\", \"ons# :: \\u0281\\u00f5\\u0169\", \"ons# :: \\u0281\\u00f5\\u0169\", \"ons# :: \\u0281\\u00f5\\u0169\", \"ons# :: \\u0281\\u00f5\\u0169\", \"ons# :: \\u0281\\u00f5\\u0169\\u032f\", \"ons# :: \\u0281\\u00f5\\u0169\\u032f\", \"ons# :: \\u0281\\u00f5\\u0169\\u032f\", \"ons# :: \\u0281\\u00f5\\u0169\\u032f\", \"ont :: \\u00f5\\u0169\\u032f\", \"ont :: \\u00f5\\u0169\\u032f\", \"ont :: \\u00f5\\u0169\\u032f\", \"ont :: \\u00f5\\u0169\\u032f\", \"ont :: \\u00f5\\u0169\\u032f\", \"ont :: \\u00f5\\u0169\\u032f\", \"ont :: \\u0169\\u032f#\", \"ont :: \\u0169\\u032f#\", \"ont :: \\u0169\\u032f#\", \"ont :: \\u0169\\u032f#\", \"ont :: \\u0259\\u0281\\u00f5\", \"ont :: \\u0259\\u0281\\u00f5\", \"ont :: \\u0259\\u0281\\u00f5\", \"ont :: \\u0259\\u0281\\u00f5\\u0169\", \"ont :: \\u0259\\u0281\\u00f5\\u0169\", \"ont :: \\u0259\\u0281\\u00f5\\u0169\", \"ont# :: \\u0169\\u032f#\", \"ont# :: \\u0169\\u032f#\", \"ont# :: \\u0169\\u032f#\", \"ont# :: \\u0169\\u032f#\", \"ont# :: \\u0259\\u0281\\u00f5\\u0169\", \"ont# :: \\u0259\\u0281\\u00f5\\u0169\", \"ont# :: \\u0259\\u0281\\u00f5\\u0169\", \"ont# :: \\u0281\\u00f5\\u0169\", \"ont# :: \\u0281\\u00f5\\u0169\", \"ont# :: \\u0281\\u00f5\\u0169\", \"ont# :: \\u0281\\u00f5\\u0169\", \"ont# :: \\u0281\\u00f5\\u0169\", \"org :: g\\u0251\\u0254\", \"org :: g\\u0251\\u0254\\u032f\", \"org :: \\u0251\\u0254\\u032f\\u0281\", \"org :: \\u0254\\u032f\\u0281\\u0292\", \"org :: \\u032f\\u0281\\u0292\", \"orge :: \\u0254\\u032f\\u0281\\u0292\", \"ossi :: #fos\", \"ota :: ap\\u0251\", \"ota :: ap\\u0251\", \"otai :: ta#\", \"ouc :: \\u028as\\u026a\", \"ouch :: #m\\u028a\", \"ouil :: j\\u0254#\", \"oul :: \\u0281\\u028al\", \"oul :: \\u0281\\u028al\", \"oul :: \\u0281\\u028al\", \"oup :: \\u0281\\u0259k\\u028a\", \"oup :: \\u0281\\u0259k\\u028a\", \"oup :: \\u0281\\u028ap\", \"our :: #ak\", \"our :: #ak\", \"our :: \\u0251\\u0303b\\u028a\", \"our :: \\u0281\\u0259s\", \"ous :: #s\\u028at\", \"ous :: m\\u028as\", \"ouss :: b\\u0281\\u028a\", \"ouss :: \\u028asa#\", \"ouss :: \\u028asa#\", \"out :: a\\u028at\", \"out :: ka\\u028a\", \"out :: ka\\u028at\", \"out :: t\\u0283\\u028a\", \"out :: t\\u0283\\u028at\", \"out :: \\u0283\\u028at\", \"o\\u00eet :: lwat\", \"pai :: epe\", \"pai :: \\u0303pa\", \"pai :: \\u0303pa\", \"pas :: pas\", \"pas :: pas\", \"pas :: pas\", \"pat :: \\u0281\\u026aj\", \"patr :: \\u0281ap\", \"patr :: \\u0281ap\", \"pec :: pakt\", \"per :: \\u0281\\u0251\\u0254\", \"peu :: p\\u0153pl\", \"peu :: p\\u0153pl\", \"peup :: p\\u0153pl\", \"pic :: p\\u026ak\\u0251\", \"pil :: #\\u0281\\u0251\", \"pil :: sp\\u026a\", \"pil :: \\u0281\\u0251\\u0303p\", \"pil :: \\u0281\\u0251\\u0303p\", \"pon :: p\\u00f5\\u0169\", \"pot :: ap\\u0251\\u0254\", \"pot :: \\u0251\\u0254\\u032f\", \"ppl :: s\\u028fpl\", \"ppr\\u00e9 :: ap\\u0281\", \"pro :: #p\\u0281\", \"pro :: #p\\u0281\", \"pro :: #p\\u0281\", \"pro :: #p\\u0281\\u0251\", \"pro :: #p\\u0281\\u0251\", \"pro :: p\\u0281\\u0251\\u0254\", \"pro :: \\u0281\\u0251\\u0254\\u032f\", \"pro :: \\u0281\\u0251\\u0254\\u032f\", \"prop :: \\u0254\\u032fp\", \"pr\\u00e9s :: p\\u0281e\", \"pr\\u00e9s :: p\\u0281e\", \"pr\\u00e9s :: p\\u0281e\", \"pta :: pta\", \"pta :: pta\", \"p\\u00e2t :: #pat\", \"p\\u00e2t :: at\\u0361\", \"p\\u00e2ti :: #pa\", \"p\\u00e2ti :: #pa\", \"p\\u00e2ti :: at\\u0361\", \"p\\u00e2ti :: pat\\u0361\", \"p\\u00e2ti :: pat\\u0361\", \"que :: ak#\", \"que :: k\\u0259\\u0281\", \"que :: k\\u0259\\u0281\", \"que :: k\\u0259\\u0281\", \"que :: k\\u0259\\u0281\", \"que :: k\\u0259\\u0281\", \"que :: k\\u0259\\u0281a\", \"que :: k\\u0259\\u0281a\", \"que :: k\\u0259\\u0281a\", \"que :: k\\u0259\\u0281a\", \"que :: \\u0259\\u0281a\", \"que :: \\u0259\\u0281a\", \"que :: \\u0259\\u0281a#\", \"que :: \\u0259\\u0281a#\", \"que :: \\u026ak\\u0259\", \"que :: \\u026ak\\u0259\", \"que :: \\u0281a#\", \"que :: \\u0281a#\", \"que :: \\u0281a#\", \"que :: \\u0281a#\", \"quer :: k\\u0259\\u0281a\", \"quer :: k\\u0259\\u0281a\", \"quer :: \\u0259\\u0281a\", \"quer :: \\u0259\\u0281a\", \"quer :: \\u0259\\u0281a\", \"quer :: \\u0259\\u0281a#\", \"quer :: \\u0259\\u0281a#\", \"quer :: \\u026ak\\u0259\", \"quer :: \\u0281a#\", \"quer :: \\u0281a#\", \"quer :: \\u0281a#\", \"quil :: ek\\u026a\", \"quil :: ek\\u026a\", \"qu\\u00e2 :: at#\", \"qu\\u00e2 :: kat\", \"qu\\u00e2 :: kat#\", \"qu\\u00e2 :: kat#\", \"qu\\u00e9 :: \\u026ake\", \"qu\\u00e9 :: \\u026ake\", \"ra# :: mat\\u0281\", \"ra# :: \\u0259\\u0281\\u0254\", \"ra# :: \\u0259\\u0281\\u0254\", \"ra# :: \\u0259\\u0281\\u0254\", \"ra# :: \\u0259\\u0281\\u0254\", \"ra# :: \\u0259\\u0281\\u0254\", \"ra# :: \\u0259\\u0281\\u0254\", \"ra# :: \\u0259\\u0281\\u0254\", \"ra# :: \\u0259\\u0281\\u0254\", \"ra# :: \\u0259\\u0281\\u0254\", \"ra# :: \\u0259\\u0281\\u0254\", \"rab :: abj\\u0251\", \"rac :: t\\u0281a\", \"raco :: \\u0169\\u032ft\", \"rad :: \\u0281ad\", \"rad :: \\u0281ad\", \"rad\\u00e9 :: ade#\", \"rad\\u00e9 :: ade#\", \"rai :: aj\\u0259\\u0281\", \"rai :: aj\\u0259\\u0281\", \"rai :: a\\u0281\\u0259\", \"rai :: a\\u0281\\u0259\\u0281\", \"rai :: d\\u0259\\u0281\", \"rai :: d\\u0259\\u0281\", \"rai :: d\\u0259\\u0281\", \"rai :: d\\u0259\\u0281\", \"rai :: d\\u0259\\u0281\", \"rai :: d\\u0259\\u0281a\", \"rai :: d\\u0259\\u0281a\", \"rai :: d\\u0259\\u0281a\", \"rai :: d\\u0259\\u0281a\", \"rai :: d\\u0259\\u0281a\", \"rai :: k\\u0259\\u0281\", \"rai :: k\\u0259\\u0281\", \"rai :: k\\u0259\\u0281\", \"rai :: k\\u0259\\u0281a\", \"rai :: k\\u0259\\u0281a\", \"rai :: la\\u0281a\", \"rai :: s\\u026a\\u0281a\", \"rai :: s\\u026a\\u0281a\", \"rai :: v\\u0259\\u0281a\", \"rai :: wat\", \"rai :: \\u0259\\u0281a\", \"rai :: \\u0259\\u0281a\", \"rai :: \\u0259\\u0281a\", \"rai :: \\u0259\\u0281a\", \"rai :: \\u0259\\u0281a\", \"rai :: \\u0259\\u0281a\", \"rai :: \\u0259\\u0281a\", \"rai :: \\u0259\\u0281a\", \"rai :: \\u0259\\u0281a\", \"rai :: \\u0259\\u0281a\", \"rai :: \\u0259\\u0281a\", \"rai :: \\u0259\\u0281a\", \"rai :: \\u0259\\u0281a\", \"rai :: \\u0259\\u0281a\", \"rai :: \\u0259\\u0281a\", \"rai :: \\u0259\\u0281a\", \"rai :: \\u0259\\u0281a\", \"rai :: \\u0259\\u0281a\", \"rai :: \\u0259\\u0281a#\", \"rai :: \\u0259\\u0281a#\", \"rai :: \\u0259\\u0281a#\", \"rai :: \\u0259\\u0281a#\", \"rai :: \\u0259\\u0281a#\", \"rai :: \\u0259\\u0281a#\", \"rai :: \\u0259\\u0281a#\", \"rai :: \\u0259\\u0281a#\", \"rai :: \\u0259\\u0281a#\", \"rai :: \\u0259\\u0281a#\", \"rai :: \\u0259\\u0281a#\", \"rai :: \\u0259\\u0281a#\", \"rai :: \\u0259\\u0281a#\", \"rai :: \\u0259\\u0281a#\", \"rai :: \\u0259\\u0281a#\", \"rai :: \\u0259\\u0281a#\", \"rai :: \\u0259\\u0281a#\", \"rai :: \\u0259\\u0281a#\", \"rai :: \\u0259\\u0281a#\", \"rai :: \\u0259\\u0281a#\", \"rai :: \\u0259\\u0281a#\", \"rai :: \\u026ad\\u0259\", \"rai :: \\u026ak\\u0259\\u0281\", \"rai :: \\u0281a#\", \"rai :: \\u0281a#\", \"rai :: \\u0281a#\", \"rai :: \\u0281a#\", \"rai :: \\u0281a#\", \"rai :: \\u0281a#\", \"rai :: \\u0281a#\", \"rai :: \\u0281a#\", \"rai :: \\u0281a#\", \"rai :: \\u0281a#\", \"rai :: \\u0281a#\", \"rai :: \\u0281a#\", \"rai :: \\u0281a#\", \"rai :: \\u0281a#\", \"rai :: \\u0281a#\", \"rai :: \\u0281a#\", \"rai :: \\u0281a#\", \"rai :: \\u0281a#\", \"rai :: \\u0281a#\", \"rai :: \\u0281a#\", \"rai :: \\u0281a#\", \"rai :: \\u0281a#\", \"rai :: \\u0281a#\", \"rai :: \\u0281\\u0259\\u0281\", \"rai :: \\u0281\\u0259\\u0281\", \"rai :: \\u0281\\u0259\\u0281\", \"rai :: \\u0281\\u0259\\u0281a\", \"rai :: \\u0281\\u0259\\u0281a\", \"rai :: \\u0281\\u0259\\u0281a\", \"rai :: \\u0283\\u0259\\u0281a\", \"rai :: \\u0283\\u0259\\u0281a\", \"rai# :: \\u0259\\u0281a#\", \"rai# :: \\u0259\\u0281a#\", \"rai# :: \\u0259\\u0281a#\", \"rai# :: \\u0259\\u0281a#\", \"rai# :: \\u0259\\u0281a#\", \"rai# :: \\u0259\\u0281a#\", \"rai# :: \\u0259\\u0281a#\", \"rai# :: \\u0259\\u0281a#\", \"rai# :: \\u0259\\u0281a#\", \"rai# :: \\u0259\\u0281a#\", \"rai# :: \\u0259\\u0281a#\", \"rai# :: \\u0259\\u0281a#\", \"rai# :: \\u0281a#\", \"rai# :: \\u0281a#\", \"rai# :: \\u0281a#\", \"rai# :: \\u0281a#\", \"rai# :: \\u0281a#\", \"rai# :: \\u0281a#\", \"rai# :: \\u0281a#\", \"rai# :: \\u0281a#\", \"rai# :: \\u0281a#\", \"rai# :: \\u0281a#\", \"rai# :: \\u0281a#\", \"rai# :: \\u0281a#\", \"rai# :: \\u0281a#\", \"rai# :: \\u0281a#\", \"rai# :: \\u0281a#\", \"raie :: \\u0259\\u0281a#\", \"raie :: \\u0259\\u0281a#\", \"raie :: \\u0259\\u0281a#\", \"raie :: \\u0259\\u0281a#\", \"raie :: \\u0259\\u0281a#\", \"raie :: \\u0259\\u0281a#\", \"raie :: \\u0259\\u0281a#\", \"raie :: \\u0259\\u0281a#\", \"raie :: \\u0259\\u0281a#\", \"raie :: \\u0281a#\", \"raie :: \\u0281a#\", \"raie :: \\u0281a#\", \"raie :: \\u0281a#\", \"raie :: \\u0281a#\", \"raie :: \\u0281a#\", \"raie :: \\u0281a#\", \"raie :: \\u0281a#\", \"raie :: \\u0281a#\", \"raie :: \\u0281a#\", \"raie :: \\u0281a#\", \"raie :: \\u0281a#\", \"rais :: k\\u0281a\", \"rais :: k\\u0281a\", \"rais :: k\\u0281a\", \"rais :: k\\u0281a\", \"rais :: \\u0259\\u0281a\", \"rais :: \\u0259\\u0281a\", \"rais :: \\u0259\\u0281a\", \"rais :: \\u0259\\u0281a\", \"rais :: \\u0259\\u0281a\", \"rais :: \\u0259\\u0281a\", \"rais :: \\u0259\\u0281a\", \"rais :: \\u0259\\u0281a\", \"rais :: \\u0259\\u0281a\", \"rais :: \\u0259\\u0281a\", \"rais :: \\u0259\\u0281a\", \"rais :: \\u0281a#\", \"rais :: \\u0281a#\", \"rais :: \\u0281a#\", \"rais :: \\u0281a#\", \"rais :: \\u0281a#\", \"rais :: \\u0281a#\", \"rais :: \\u0281a#\", \"rais :: \\u0281a#\", \"rais :: \\u0281a#\", \"rais :: \\u0281a#\", \"rais :: \\u0281a#\", \"rais :: \\u0281a#\", \"rais :: \\u0281a#\", \"rais :: \\u0281a#\", \"rais :: \\u0281\\u0259\\u0281\", \"rait :: a\\u0281\\u0259\\u0281\", \"rait :: j\\u0259\\u0281\", \"rait :: j\\u0259\\u0281\", \"ran :: \\u0251\\u0303s\", \"ran :: \\u0281\\u0251\\u0303s\", \"ran :: \\u0281\\u0251\\u0303s\", \"rans :: t\\u0281\\u0251\", \"rant :: e\\u0281\\u00e6\\u0303\", \"rap :: #\\u0281a\", \"rap :: #\\u0281a\", \"rap :: apa\", \"rap :: at\\u0281\", \"rap :: at\\u0281\", \"rap :: t\\u0281\\u026aj\", \"rap :: \\u0281ap\", \"rap :: \\u0281ap\", \"rapa :: apa\", \"rapa :: apa\", \"rapa :: \\u0281apa\", \"ras :: as#\", \"ras :: as#\", \"ras :: as#\", \"ras :: as#\", \"ras :: l\\u0259\\u0281\\u0254\", \"ras :: l\\u0259\\u0281\\u0254\", \"ras :: \\u0259\\u0281\\u0254\", \"ras :: \\u0259\\u0281\\u0254\", \"ras :: \\u0259\\u0281\\u0254\", \"ras :: \\u0259\\u0281\\u0254\", \"ras :: \\u0259\\u0281\\u0254\", \"ras :: \\u0259\\u0281\\u0254\", \"ras :: \\u0259\\u0281\\u0254\", \"ras :: \\u0259\\u0281\\u0254\", \"ras :: \\u0259\\u0281\\u0254\", \"ras :: \\u0259\\u0281\\u0254\", \"ras :: \\u0259\\u0281\\u0254\", \"ras :: \\u0259\\u0281\\u0254#\", \"ras :: \\u0259\\u0281\\u0254#\", \"ras :: \\u0259\\u0281\\u0254#\", \"ras :: \\u0259\\u0281\\u0254#\", \"ras :: \\u0259\\u0281\\u0254#\", \"ras :: \\u0259\\u0281\\u0254#\", \"ras :: \\u0259\\u0281\\u0254#\", \"ras :: \\u0259\\u0281\\u0254#\", \"ras :: \\u0259\\u0281\\u0254#\", \"ras :: \\u0259\\u0281\\u0254#\", \"ras :: \\u0259\\u0281\\u0254#\", \"ras :: \\u0259\\u0281\\u0254#\", \"ras :: \\u0281as\", \"ras :: \\u0281as\", \"ras :: \\u0281as\", \"ras :: \\u0281as\", \"ras :: \\u0281as\", \"ras :: \\u0281as\", \"ras :: \\u0281as#\", \"ras :: \\u0281as#\", \"ras :: \\u0281as#\", \"ras :: \\u0281as#\", \"ras :: \\u0281\\u0254#\", \"ras :: \\u0281\\u0254#\", \"ras :: \\u0281\\u0254#\", \"ras :: \\u0281\\u0254#\", \"ras :: \\u0281\\u0254#\", \"ras :: \\u0281\\u0254#\", \"ras :: \\u0281\\u0254#\", \"ras :: \\u0281\\u0254#\", \"ras :: \\u0281\\u0254#\", \"ras :: \\u0281\\u0254#\", \"ras :: \\u0281\\u0254#\", \"ras :: \\u0281\\u0254#\", \"ras :: \\u0281\\u0254#\", \"ras :: \\u0281\\u0254#\", \"ras :: \\u0281\\u0254#\", \"ras# :: t\\u0259\\u0281\\u0254\", \"ras# :: t\\u0259\\u0281\\u0254\", \"ras# :: t\\u0259\\u0281\\u0254\", \"ras# :: t\\u0259\\u0281\\u0254\", \"ras# :: \\u0259\\u0281\\u0254\", \"ras# :: \\u0259\\u0281\\u0254\", \"ras# :: \\u0259\\u0281\\u0254\", \"ras# :: \\u0259\\u0281\\u0254\", \"ras# :: \\u0259\\u0281\\u0254\", \"ras# :: \\u0259\\u0281\\u0254\", \"ras# :: \\u0259\\u0281\\u0254\", \"ras# :: \\u0259\\u0281\\u0254\", \"ras# :: \\u0259\\u0281\\u0254\", \"ras# :: \\u0259\\u0281\\u0254\", \"ras# :: \\u0259\\u0281\\u0254\", \"ras# :: \\u0259\\u0281\\u0254\", \"ras# :: \\u0259\\u0281\\u0254#\", \"ras# :: \\u0259\\u0281\\u0254#\", \"ras# :: \\u0259\\u0281\\u0254#\", \"ras# :: \\u0259\\u0281\\u0254#\", \"ras# :: \\u0259\\u0281\\u0254#\", \"ras# :: \\u0259\\u0281\\u0254#\", \"ras# :: \\u0259\\u0281\\u0254#\", \"ras# :: \\u0259\\u0281\\u0254#\", \"ras# :: \\u0259\\u0281\\u0254#\", \"ras# :: \\u0259\\u0281\\u0254#\", \"ras# :: \\u0259\\u0281\\u0254#\", \"ras# :: \\u0281\\u0254#\", \"ras# :: \\u0281\\u0254#\", \"ras# :: \\u0281\\u0254#\", \"ras# :: \\u0281\\u0254#\", \"ras# :: \\u0281\\u0254#\", \"ras# :: \\u0281\\u0254#\", \"ras# :: \\u0281\\u0254#\", \"ras# :: \\u0281\\u0254#\", \"ras# :: \\u0281\\u0254#\", \"ras# :: \\u0281\\u0254#\", \"ras# :: \\u0281\\u0254#\", \"ras# :: \\u0281\\u0254#\", \"ras# :: \\u0281\\u0254#\", \"ras# :: \\u0281\\u0254#\", \"ras# :: \\u0281\\u0254#\", \"rass :: as#\", \"rass :: as#\", \"rass :: as#\", \"rass :: as#\", \"rass :: as#\", \"rass :: as#\", \"rass :: asje\", \"rass :: e\\u0281as\", \"rass :: t\\u0281as\", \"rass :: \\u0281as\", \"rass :: \\u0281as\", \"rass :: \\u0281as\", \"rass :: \\u0281as\", \"rass :: \\u0281as\", \"rass :: \\u0281as\", \"rass :: \\u0281as#\", \"rass :: \\u0281as#\", \"rat :: \\u0361s\\u026af\", \"rav :: #\\u0283\\u028a\", \"rav :: \\u028a\\u0281av\", \"rav :: \\u028a\\u0281av\", \"rdo :: a\\u0281d\", \"rdo :: a\\u0281d\", \"reb :: \\u0259b\\u0281\", \"rec :: as#\", \"rec :: as#\", \"rec :: as#\", \"rec :: \\u0281\\u0259k\", \"rec :: \\u0281\\u0259k\", \"rec :: \\u0281\\u0259k\", \"reco :: #\\u0281\\u0259\", \"reco :: #\\u0281\\u0259\", \"reco :: #\\u0281\\u0259\", \"rei :: #et\\u0281\", \"rem :: #\\u0281\\u0251\", \"rem :: #\\u0281\\u0251\", \"rem :: #\\u0281\\u0251\", \"rem :: #\\u0281\\u0251\", \"rem :: #\\u0281\\u0251\\u0303\", \"rem :: #\\u0281\\u0251\\u0303\", \"rem :: #\\u0281\\u0251\\u0303\", \"rem :: #\\u0281\\u0251\\u0303\", \"rem :: #\\u0281\\u0259\", \"rem :: #\\u0281\\u0259\", \"rem :: #\\u0281\\u0259\", \"rem :: #\\u0281\\u0259m\", \"rem :: #\\u0281\\u0259m\", \"rem :: #\\u0281\\u0259m\", \"rem :: #\\u0281\\u0259m\", \"rem :: #\\u0281\\u0259m\", \"rem :: \\u0251\\u0303p\", \"rem :: \\u0251\\u0303p\", \"rem :: \\u0251\\u0303p\", \"rem :: \\u0281\\u0259m\", \"rem :: \\u0281\\u0259m\", \"rem :: \\u0281\\u0259m\", \"rem :: \\u0281\\u0259m\", \"rem :: \\u0281\\u0259m\", \"rem :: \\u0281\\u0259m\", \"rem :: \\u0281\\u0259m\", \"rem :: \\u0281\\u0259ma\", \"rem :: \\u0303p\\u026al\", \"rema :: #\\u0281\\u0259m\", \"rema :: #\\u0281\\u0259m\", \"remb :: #\\u0281\\u0251\", \"remb :: \\u0281\\u0251\\u0303\", \"remb :: \\u0281\\u0251\\u0303b\", \"remb :: \\u0281\\u0251\\u0303b\", \"remp :: #\\u0281\\u0251\", \"remp :: \\u0281\\u0251\\u0303p\", \"remp :: \\u0281\\u0251\\u0303p\", \"remp :: \\u0281\\u0251\\u0303p\", \"ren :: a\\u0281#\", \"ren :: a\\u0281#\", \"ren :: a\\u0281#\", \"ren :: a\\u0281#\", \"ren :: a\\u0281#\", \"ren :: a\\u0281#\", \"ren :: a\\u0281#\", \"ren :: a\\u0281#\", \"ren :: a\\u0281#\", \"ren :: a\\u0281#\", \"ren :: a\\u0281#\", \"ren :: a\\u0281#\", \"ren :: a\\u0281#\", \"ren :: a\\u0281#\", \"ren :: a\\u0281#\", \"ren :: a\\u0281#\", \"ren :: ta\\u0281\", \"ren :: ta\\u0281\", \"ren :: ta\\u0281\", \"ren :: ta\\u0281\", \"ren :: ta\\u0281\", \"ren :: ta\\u0281#\", \"ren :: ta\\u0281#\", \"ren :: ta\\u0281#\", \"ren :: ta\\u0281#\", \"rent :: #\\u1ebd\\u0129\", \"rent :: a\\u0281#\", \"rent :: a\\u0281#\", \"rent :: a\\u0281#\", \"rent :: a\\u0281#\", \"rent :: a\\u0281#\", \"rent :: a\\u0281#\", \"rent :: a\\u0281#\", \"rent :: a\\u0281#\", \"rent :: a\\u0281#\", \"rent :: a\\u0281#\", \"rent :: a\\u0281#\", \"rent :: a\\u0281#\", \"rent :: a\\u0281#\", \"rent :: a\\u0281#\", \"rent :: a\\u0281#\", \"rent :: a\\u0281#\", \"rent :: a\\u0281#\", \"rent :: ta\\u0281\", \"rent :: ta\\u0281\", \"rent :: ta\\u0281\", \"rent :: ta\\u0281\", \"rent :: ta\\u0281\", \"rer :: a\\u0281\\u0259\", \"rer :: a\\u0281\\u0259\", \"rer :: a\\u0281\\u0259\", \"rer :: a\\u0281\\u0259\", \"rer :: a\\u0281\\u0259\\u0281\", \"rer :: a\\u0281\\u0259\\u0281\", \"rer :: a\\u0281\\u0259\\u0281\", \"rer :: a\\u0281\\u0259\\u0281\", \"rer :: \\u0259\\u0281a\", \"rer :: \\u0259\\u0281a\", \"rer :: \\u0259\\u0281a\", \"rer :: \\u0259\\u0281a\", \"rer :: \\u0259\\u0281a\", \"rer :: \\u0259\\u0281a#\", \"rer :: \\u0259\\u0281a#\", \"rer :: \\u0259\\u0281a#\", \"rer :: \\u0259\\u0281a#\", \"rer :: \\u0281a#\", \"rer :: \\u0281a#\", \"rer :: \\u0281a#\", \"rer :: \\u0281a#\", \"rer :: \\u0281\\u0259\\u0281\", \"rer :: \\u0281\\u0259\\u0281\", \"rer :: \\u0281\\u0259\\u0281\", \"rer :: \\u0281\\u0259\\u0281\", \"rer :: \\u0281\\u0259\\u0281\", \"rer :: \\u0281\\u0259\\u0281\", \"rer :: \\u0281\\u0259\\u0281\", \"rer :: \\u0281\\u0259\\u0281a\", \"rer :: \\u0281\\u0259\\u0281a\", \"rer :: \\u0281\\u0259\\u0281a\", \"rer :: \\u032f\\u0281\\u0259\\u0281\", \"rer :: \\u032f\\u0281\\u0259\\u0281\", \"rera :: a\\u0281\\u0259\", \"rera :: a\\u0281\\u0259\", \"rera :: a\\u0281\\u0259\\u0281\", \"rera :: \\u0259\\u0281a\", \"rera :: \\u0259\\u0281a\", \"rera :: \\u0259\\u0281a\", \"rera :: \\u0259\\u0281a\", \"rera :: \\u0259\\u0281a#\", \"rera :: \\u0259\\u0281a#\", \"rera :: \\u0259\\u0281a#\", \"rera :: \\u0281a#\", \"rera :: \\u0281a#\", \"rera :: \\u0281a#\", \"rera :: \\u0281\\u0259\\u0281\", \"rera :: \\u0281\\u0259\\u0281\", \"rera :: \\u0281\\u0259\\u0281\", \"rera :: \\u0281\\u0259\\u0281\", \"rera :: \\u0281\\u0259\\u0281\", \"rera :: \\u0281\\u0259\\u0281a\", \"rera :: \\u0281\\u0259\\u0281a\", \"rera :: \\u0281\\u0259\\u0281a\", \"res :: a\\u0281#\", \"res :: a\\u0281#\", \"res :: a\\u0281#\", \"res# :: a\\u0281#\", \"res# :: a\\u0281#\", \"res# :: a\\u0281#\", \"res# :: a\\u0281#\", \"res# :: a\\u0281#\", \"res# :: ja\\u0281#\", \"res# :: lja\\u0281\", \"ress :: se#\", \"ress :: se#\", \"ress :: t\\u0281as\", \"ress :: \\u0259s\\u028a\", \"ress :: \\u0259s\\u028a\", \"rez :: \\u0259\\u0281e\", \"rez :: \\u0259\\u0281e\", \"rez :: \\u0259\\u0281e\", \"rez :: \\u0259\\u0281e\", \"rez :: \\u0259\\u0281e\", \"rez :: \\u0259\\u0281e\", \"rez :: \\u0259\\u0281e\", \"rez :: \\u0259\\u0281e\", \"rez :: \\u0259\\u0281e#\", \"rez :: \\u0259\\u0281e#\", \"rez :: \\u0259\\u0281e#\", \"rez :: \\u0259\\u0281e#\", \"rez :: \\u0259\\u0281e#\", \"rez :: \\u0259\\u0281e#\", \"rez :: \\u0259\\u0281e#\", \"rez :: \\u0259\\u0281e#\", \"rez :: \\u0259\\u0281e#\", \"rez :: \\u0259\\u0281e#\", \"rez :: \\u0281e#\", \"rez :: \\u0281e#\", \"rez :: \\u0281e#\", \"rez :: \\u0281e#\", \"rez :: \\u0281e#\", \"rez :: \\u0281e#\", \"rez :: \\u0281e#\", \"rez :: \\u0281e#\", \"rez :: \\u0281e#\", \"rez :: \\u0281e#\", \"rez :: \\u0281e#\", \"rez :: \\u0281e#\", \"rez :: \\u0281e#\", \"rez# :: \\u0259\\u0281e\", \"rez# :: \\u0259\\u0281e\", \"rez# :: \\u0259\\u0281e\", \"rez# :: \\u0259\\u0281e\", \"rez# :: \\u0259\\u0281e\", \"rez# :: \\u0259\\u0281e\", \"rez# :: \\u0259\\u0281e\", \"rez# :: \\u0259\\u0281e\", \"rez# :: \\u0259\\u0281e\", \"rez# :: \\u0259\\u0281e\", \"rez# :: \\u0259\\u0281e\", \"rez# :: \\u0259\\u0281e\", \"rez# :: \\u0259\\u0281e#\", \"rez# :: \\u0259\\u0281e#\", \"rez# :: \\u0259\\u0281e#\", \"rez# :: \\u0259\\u0281e#\", \"rez# :: \\u0259\\u0281e#\", \"rez# :: \\u0259\\u0281e#\", \"rez# :: \\u0259\\u0281e#\", \"rez# :: \\u0259\\u0281e#\", \"rez# :: \\u0259\\u0281e#\", \"rez# :: \\u0259\\u0281e#\", \"rez# :: \\u0281e#\", \"rez# :: \\u0281e#\", \"rez# :: \\u0281e#\", \"rez# :: \\u0281e#\", \"rez# :: \\u0281e#\", \"rez# :: \\u0281e#\", \"rez# :: \\u0281e#\", \"rez# :: \\u0281e#\", \"rez# :: \\u0281e#\", \"rez# :: \\u0281e#\", \"rez# :: \\u0281e#\", \"rez# :: \\u0281e#\", \"rez# :: \\u0281e#\", \"rez# :: \\u0281e#\", \"rfum :: a\\u0281f\\u028f\", \"rfum :: \\u0281f\\u028fm\", \"rga :: ga\\u0281\", \"rga :: \\u0281ga\", \"rga :: \\u0281ga\", \"rga :: \\u0281ga\", \"rge :: g\\u0251\\u0254\\u032f\", \"rib :: \\u0281\\u026ab\", \"rib :: \\u0281\\u026ab\", \"rie :: je#\", \"rie :: je#\", \"rie :: je#\", \"rie :: je#\", \"rie :: je#\", \"rie :: je#\", \"rie :: \\u0259\\u0281j\", \"rie :: \\u0259\\u0281j\", \"rie :: \\u0259\\u0281j\", \"rie :: \\u0259\\u0281j\", \"rie :: \\u0259\\u0281j\", \"rie :: \\u0259\\u0281j\", \"rie :: \\u0281je\", \"rie :: \\u0281je\", \"rie :: \\u0281je\", \"rie :: \\u0281je\", \"rie :: \\u0281je\", \"rie :: \\u0281je\", \"rie :: \\u0281je\", \"rie :: \\u0281je#\", \"rie :: \\u0281je#\", \"rie :: \\u0281je#\", \"rie :: \\u0281je#\", \"rie :: \\u0281je#\", \"rie :: \\u0281je#\", \"riez :: je#\", \"riez :: je#\", \"riez :: je#\", \"riez :: je#\", \"riez :: je#\", \"riez :: je#\", \"riez :: je#\", \"riez :: \\u0259\\u0281j\", \"riez :: \\u0259\\u0281j\", \"riez :: \\u0259\\u0281j\", \"riez :: \\u0259\\u0281j\", \"riez :: \\u0259\\u0281j\", \"riez :: \\u0259\\u0281j\", \"riez :: \\u0259\\u0281j\", \"riez :: \\u0259\\u0281j\", \"riez :: \\u0281je\", \"riez :: \\u0281je\", \"riez :: \\u0281je\", \"riez :: \\u0281je\", \"riez :: \\u0281je\", \"riez :: \\u0281je\", \"riez :: \\u0281je#\", \"riez :: \\u0281je#\", \"riez :: \\u0281je#\", \"riez :: \\u0281je#\", \"riez :: \\u0281je#\", \"riez :: \\u0281je#\", \"rio :: j\\u00f5\\u0169\", \"rio :: j\\u00f5\\u0169\", \"rio :: j\\u00f5\\u0169\", \"rio :: j\\u00f5\\u0169\", \"rio :: j\\u00f5\\u0169\\u032f\", \"rio :: \\u00f5\\u0169\\u032f\", \"rio :: \\u00f5\\u0169\\u032f\", \"rio :: \\u00f5\\u0169\\u032f#\", \"rio :: \\u00f5\\u0169\\u032f#\", \"rio :: \\u00f5\\u0169\\u032f#\", \"rio :: \\u0169\\u032f#\", \"rio :: \\u0169\\u032f#\", \"rio :: \\u0169\\u032f#\", \"rio :: \\u0281j\\u00f5\", \"rio :: \\u0281j\\u00f5\\u0169\", \"rio :: \\u0281j\\u00f5\\u0169\", \"rio :: \\u0281j\\u00f5\\u0169\", \"rion :: j\\u00f5\\u0169\", \"rion :: j\\u00f5\\u0169\", \"rion :: j\\u00f5\\u0169\\u032f\", \"rion :: j\\u00f5\\u0169\\u032f\", \"rion :: \\u00f5\\u0169\\u032f\", \"rion :: \\u00f5\\u0169\\u032f\", \"rion :: \\u00f5\\u0169\\u032f\", \"rion :: \\u00f5\\u0169\\u032f\", \"rion :: \\u00f5\\u0169\\u032f#\", \"rion :: \\u0169\\u032f#\", \"rion :: \\u0169\\u032f#\", \"rion :: \\u0281j\\u00f5\", \"rion :: \\u0281j\\u00f5\", \"rion :: \\u0281j\\u00f5\\u0169\", \"rion :: \\u0281j\\u00f5\\u0169\", \"rir :: \\u0283e\\u0281\\u026a\", \"riro :: \\u00f5\\u0169\\u032f#\", \"ris :: ga\\u0281\", \"ris :: ga\\u0281\", \"ris :: ga\\u0281\", \"rit :: \\u026ate#\", \"rive :: #\\u0281\\u026av\", \"rnis :: ta\\u0281\", \"rnis :: \\u0281n\\u026a\", \"rnis :: \\u0281n\\u026a\", \"roch :: \\u0254\\u032f\\u0283\", \"ron :: j\\u0259\\u0281\\u00f5\", \"ron :: \\u00f5\\u0169\\u032f\", \"ron :: \\u00f5\\u0169\\u032f\", \"ron :: \\u00f5\\u0169\\u032f\", \"ron :: \\u00f5\\u0169\\u032f\", \"ron :: \\u00f5\\u0169\\u032f\", \"ron :: \\u00f5\\u0169\\u032f\", \"ron :: \\u00f5\\u0169\\u032f\", \"ron :: \\u00f5\\u0169\\u032f\", \"ron :: \\u00f5\\u0169\\u032f\", \"ron :: \\u00f5\\u0169\\u032f\", \"ron :: \\u00f5\\u0169\\u032f\", \"ron :: \\u00f5\\u0169\\u032f\", \"ron :: \\u00f5\\u0169\\u032f#\", \"ron :: \\u00f5\\u0169\\u032f#\", \"ron :: \\u00f5\\u0169\\u032f#\", \"ron :: \\u00f5\\u0169\\u032f#\", \"ron :: \\u00f5\\u0169\\u032f#\", \"ron :: \\u00f5\\u0169\\u032f#\", \"ron :: \\u00f5\\u0169\\u032f#\", \"ron :: \\u00f5\\u0169\\u032f#\", \"ron :: \\u0169\\u032f#\", \"ron :: \\u0169\\u032f#\", \"ron :: \\u0169\\u032f#\", \"ron :: \\u0169\\u032f#\", \"ron :: \\u0169\\u032f#\", \"ron :: \\u0169\\u032f#\", \"ron :: \\u0169\\u032f#\", \"ron :: \\u0169\\u032f#\", \"ron :: \\u0169\\u032f#\", \"ron :: \\u0281\\u00f5\\u0169\", \"ron :: \\u0281\\u00f5\\u0169\", \"ron :: \\u0281\\u00f5\\u0169\", \"ron :: \\u0281\\u00f5\\u0169\", \"ron :: \\u0281\\u00f5\\u0169\", \"ron :: \\u0281\\u00f5\\u0169\", \"ron :: \\u0281\\u00f5\\u0169\", \"ron :: \\u0281\\u00f5\\u0169\", \"ron :: \\u0281\\u00f5\\u0169\", \"ron :: \\u0281\\u00f5\\u0169\", \"ron :: \\u0281\\u00f5\\u0169\", \"ron :: \\u0281\\u00f5\\u0169\\u032f\", \"ron :: \\u0281\\u00f5\\u0169\\u032f\", \"ron :: \\u0281\\u00f5\\u0169\\u032f\", \"ron :: \\u0281\\u00f5\\u0169\\u032f\", \"ron :: \\u0281\\u00f5\\u0169\\u032f\", \"ron :: \\u0281\\u00f5\\u0169\\u032f\", \"ron :: \\u0281\\u00f5\\u0169\\u032f\", \"ron :: \\u0281\\u00f5\\u0169\\u032f\", \"ron :: \\u0281\\u00f5\\u0169\\u032f\", \"ron :: \\u0281\\u00f5\\u0169\\u032f\", \"ron :: \\u0281\\u026a\\u0281\", \"ron :: \\u0281\\u026a\\u0281\", \"ron :: \\u0281\\u026a\\u0281\", \"ron :: \\u0281\\u026a\\u0281\", \"rons :: \\u00f5\\u0169\\u032f\", \"rons :: \\u00f5\\u0169\\u032f\", \"rons :: \\u00f5\\u0169\\u032f\", \"rons :: \\u00f5\\u0169\\u032f\", \"rons :: \\u00f5\\u0169\\u032f#\", \"rons :: \\u00f5\\u0169\\u032f#\", \"rons :: \\u00f5\\u0169\\u032f#\", \"rons :: \\u00f5\\u0169\\u032f#\", \"rons :: \\u00f5\\u0169\\u032f#\", \"rons :: \\u0169\\u032f#\", \"rons :: \\u0169\\u032f#\", \"rons :: \\u0169\\u032f#\", \"rons :: \\u0169\\u032f#\", \"rons :: \\u0169\\u032f#\", \"rons :: \\u0259\\u0281\\u00f5\", \"rons :: \\u0259\\u0281\\u00f5\", \"rons :: \\u0259\\u0281\\u00f5\", \"rons :: \\u0259\\u0281\\u00f5\", \"rons :: \\u0281\\u00f5\\u0169\", \"rons :: \\u0281\\u00f5\\u0169\", \"rons :: \\u0281\\u00f5\\u0169\", \"rons :: \\u0281\\u00f5\\u0169\", \"rons :: \\u0281\\u00f5\\u0169\", \"rons :: \\u0281\\u00f5\\u0169\", \"rons :: \\u0281\\u00f5\\u0169\\u032f\", \"rons :: \\u0281\\u00f5\\u0169\\u032f\", \"rons :: \\u0281\\u00f5\\u0169\\u032f\", \"rons :: \\u0281\\u00f5\\u0169\\u032f\", \"rons :: \\u0281\\u026a\\u0281\\u00f5\", \"ront :: \\u00f5\\u0169\\u032f\", \"ront :: \\u00f5\\u0169\\u032f\", \"ront :: \\u00f5\\u0169\\u032f\", \"ront :: \\u00f5\\u0169\\u032f\", \"ront :: \\u00f5\\u0169\\u032f#\", \"ront :: \\u00f5\\u0169\\u032f#\", \"ront :: \\u00f5\\u0169\\u032f#\", \"ront :: \\u00f5\\u0169\\u032f#\", \"ront :: \\u00f5\\u0169\\u032f#\", \"ront :: \\u00f5\\u0169\\u032f#\", \"ront :: \\u00f5\\u0169\\u032f#\", \"ront :: \\u0169\\u032f#\", \"ront :: \\u0169\\u032f#\", \"ront :: \\u0169\\u032f#\", \"ront :: \\u0259\\u0281\\u00f5\\u0169\", \"ront :: \\u0259\\u0281\\u00f5\\u0169\", \"ront :: \\u0259\\u0281\\u00f5\\u0169\", \"ront :: \\u0281\\u00f5\\u0169\\u032f\", \"ront :: \\u0281\\u00f5\\u0169\\u032f\", \"ront :: \\u0281\\u00f5\\u0169\\u032f\", \"ront :: \\u0281\\u00f5\\u0169\\u032f\", \"rot :: \\u0281\\u0251\\u0254\", \"rot :: \\u0281\\u0251\\u0254\", \"rri :: a\\u0281\\u026a\", \"rri :: a\\u0281\\u026a\", \"rs# :: \\u0153\\u0281#\", \"rs# :: \\u0153\\u0281#\", \"rs# :: \\u0153\\u0281#\", \"rs# :: \\u0153\\u0281#\", \"rs# :: \\u0153\\u0281#\", \"rta :: #pa\", \"rta :: #pa\", \"rtax :: \\u028f\\u0281ta\", \"rtu :: \\u0281t\\u0265a\", \"r\\u00e2t# :: \\u0281\\u0254#\", \"r\\u00e2t# :: \\u0281\\u0254#\", \"r\\u00e9c :: \\u0281a#\", \"r\\u00e9s :: eza\", \"r\\u00e9s :: \\u0281ez\", \"r\\u00e9s :: \\u0281ez\", \"r\\u00e9s :: \\u0281ez\", \"r\\u00e9se :: eza\\u0281\", \"r\\u00e9se :: \\u0281ez\", \"r\\u00e9vi :: #p\\u0281e\", \"sai :: sa#\", \"sai :: sa#\", \"sai :: sa#\", \"sai :: sa#\", \"sai :: sa#\", \"sai :: sa#\", \"sail :: \\u026aza\", \"san :: \\u00e3\\u0169\\u032ft\", \"sas :: as#\", \"sas :: as#\", \"sas :: as#\", \"sas :: as#\", \"sas :: as#\", \"sas :: asa\", \"sas :: asa\", \"sas :: asa\", \"sas :: asas\", \"sas :: asas\", \"sas :: sas\", \"sas :: sas\", \"sas :: sas\", \"sas :: sas#\", \"sas :: sas#\", \"sas :: sje#\", \"sas :: sje#\", \"sass :: as#\", \"sass :: as#\", \"sass :: as#\", \"sass :: as#\", \"sass :: sas\", \"sass :: sas\", \"sass :: sas\", \"sass :: sas#\", \"scel :: sel\", \"scel :: sel\", \"se# :: las\", \"se# :: las\", \"seco :: \\u0259k\\u028a\\u0281\", \"sem :: m\\u00e6\\u0303#\", \"sem :: m\\u00e6\\u0303#\", \"sem :: m\\u00e6\\u0303#\", \"seme :: m\\u00e6\\u0303\", \"seme :: m\\u00e6\\u0303\", \"sen :: as#\", \"sen :: as#\", \"sen :: as#\", \"sen :: as#\", \"sen :: as#\", \"sen :: as#\", \"sen :: as#\", \"sen :: as#\", \"sen :: as#\", \"sen :: as#\", \"sen :: as#\", \"sen :: as#\", \"sen :: \\u0254\\u032fl\", \"sen :: \\u0281as#\", \"sen :: \\u0281as#\", \"sen :: \\u0281as#\", \"sent :: as#\", \"sent :: as#\", \"sent :: as#\", \"sent :: as#\", \"sent :: as#\", \"sent :: as#\", \"sent :: as#\", \"sent :: as#\", \"sent :: as#\", \"sent :: as#\", \"sent :: as#\", \"sent :: as#\", \"sent :: as#\", \"sent :: \\u0281as\", \"sent :: \\u0281as\", \"sent :: \\u0281as\", \"sent :: \\u0281\\u026af\", \"sent :: \\u0281\\u026af\", \"sent :: \\u0281\\u026af\", \"ser :: eza\", \"ser :: \\u0259\\u0281a#\", \"ser :: \\u0259\\u0281a#\", \"ser :: \\u0259\\u0281a#\", \"ser :: \\u0259\\u0281a#\", \"ser :: \\u0259\\u0281a#\", \"ser :: \\u0259\\u0281a#\", \"sera :: \\u0259\\u0281a#\", \"sera :: \\u0259\\u0281a#\", \"sera :: \\u0259\\u0281a#\", \"sera :: \\u0259\\u0281a#\", \"sera :: \\u0259\\u0281a#\", \"sera :: \\u0259\\u0281a#\", \"sera :: \\u0259\\u0281\\u0254\", \"sera :: \\u0259\\u0281\\u0254\", \"sera :: \\u0259\\u0281\\u0254\", \"sere :: as\\u0259\\u0281\", \"sere :: \\u0259\\u0281e\", \"sere :: \\u0259\\u0281e#\", \"sere :: \\u0281e#\", \"ses :: as#\", \"ses :: as#\", \"ses :: as#\", \"ses :: as#\", \"ses :: as#\", \"ses :: as#\", \"ses :: as#\", \"ses :: as#\", \"ses :: as#\", \"ses :: as#\", \"ses :: as#\", \"ses :: jas#\", \"ses# :: as#\", \"ses# :: as#\", \"ses# :: as#\", \"ses# :: as#\", \"ses# :: as#\", \"ses# :: as#\", \"ses# :: as#\", \"ses# :: as#\", \"ses# :: as#\", \"ses# :: as#\", \"ses# :: as#\", \"ses# :: as#\", \"ses# :: as#\", \"ses# :: jas#\", \"ses# :: jas#\", \"ses# :: \\u00f8z#\", \"ses# :: \\u00f8z#\", \"ses# :: \\u00f8z#\", \"ses# :: \\u00f8z#\", \"ses# :: \\u00f8z#\", \"sie :: asj\", \"sie :: asj\", \"sie :: asj\", \"sie :: asj\", \"sie :: asj\", \"sie :: asje\", \"sie :: asje\", \"sie :: asje\", \"sie :: asje\", \"sie :: asje\", \"sie :: asje\", \"sie :: je#\", \"sie :: je#\", \"sie :: je#\", \"sie :: je#\", \"sie :: je#\", \"sie :: je#\", \"sie :: je#\", \"sie :: sje\", \"sie :: sje\", \"sie :: sje\", \"sie :: sje\", \"sie :: sje\", \"sie :: sje\", \"sie :: sje\", \"sie :: sje#\", \"sie :: sje#\", \"sie :: sje#\", \"sie :: sje#\", \"sie :: sje#\", \"sie :: sje#\", \"sie :: sje#\", \"sie :: tasj\", \"sie :: \\u0281asj\", \"sie :: \\u0281asj\", \"siez :: asj\", \"siez :: asj\", \"siez :: asj\", \"siez :: asj\", \"siez :: asj\", \"siez :: asje\", \"siez :: asje\", \"siez :: asje\", \"siez :: asje\", \"siez :: je#\", \"siez :: je#\", \"siez :: je#\", \"siez :: je#\", \"siez :: je#\", \"siez :: je#\", \"siez :: je#\", \"siez :: sje\", \"siez :: sje\", \"siez :: sje\", \"siez :: sje\", \"siez :: sje\", \"siez :: sje\", \"siez :: sje#\", \"siez :: sje#\", \"siez :: sje#\", \"siez :: sje#\", \"siez :: sje#\", \"siez :: sje#\", \"siez :: tasj\", \"siez :: tasj\", \"siez :: \\u0281as\", \"sif :: fals\", \"sif :: fals\", \"sif :: s\\u026af\", \"sif :: s\\u026af\", \"sif :: s\\u026af\", \"sif :: \\u026afj\", \"sif :: \\u026afj\", \"sifi :: fja\", \"sifi :: s\\u026af\", \"sifi :: s\\u026af\", \"sifi :: s\\u026afj\", \"sifi :: \\u026afj\", \"sifi :: \\u026afj\", \"sifi :: \\u026afja\", \"sig :: i\\u0272al\", \"sio :: j\\u00f5\\u0169\", \"sio :: j\\u00f5\\u0169\\u032f\", \"sio :: sj\\u00f5\", \"sio :: sj\\u00f5\\u0169\", \"sio :: sj\\u00f5\\u0169\", \"sio :: \\u00f5\\u0169\\u032f\", \"sio :: \\u00f5\\u0169\\u032f\", \"sio :: \\u00f5\\u0169\\u032f\", \"sion :: j\\u00f5\\u0169\", \"sion :: j\\u00f5\\u0169\", \"sion :: j\\u00f5\\u0169\", \"sion :: sj\\u00f5\", \"sion :: sj\\u00f5\", \"sion :: sj\\u00f5\", \"sion :: sj\\u00f5\\u0169\", \"sion :: \\u0169\\u032f#\", \"sion :: \\u0169\\u032f#\", \"son :: \\u00f5\\u0169\\u032f#\", \"son :: \\u00f5\\u0169\\u032f#\", \"sonn :: \\u032fne\", \"sons :: \\u00f5\\u0169\\u032f\", \"sons :: \\u00f5\\u0169\\u032f\", \"sons :: \\u00f5\\u0169\\u032f\", \"sons :: \\u00f5\\u0169\\u032f#\", \"sons :: \\u00f5\\u0169\\u032f#\", \"sons :: \\u0169\\u032f#\", \"sons :: \\u0169\\u032f#\", \"sons :: \\u0169\\u032f#\", \"sou :: #s\\u028a\", \"sou :: #s\\u028a\", \"sou :: #s\\u028a\", \"sou :: #s\\u028a\", \"sou :: #s\\u028a\", \"sou :: #s\\u028a\", \"sou :: #s\\u028a\", \"sour :: #\\u0281\\u0259s\", \"ssa :: #\\u0281as\", \"ssa :: #\\u0281as\", \"ssa :: #\\u0281as\", \"ssa :: asas\", \"ssa :: asas\", \"ssa :: gl\\u026as\", \"ssa :: sas\", \"ssa :: sas\", \"ssa :: sas\", \"ssa :: sas\", \"ssa :: sas\", \"ssa :: sas#\", \"ssa :: sas#\", \"ssa :: \\u0254\\u032fsa\", \"ssa :: \\u026asa#\", \"ssa :: \\u026asa#\", \"ssa :: \\u026asa#\", \"ssai :: sa#\", \"ssai :: sa#\", \"ssai :: sa#\", \"ssai :: sa#\", \"ssai :: sa#\", \"ssas :: as#\", \"ssas :: as#\", \"ssas :: asas\", \"ssas :: asas\", \"ssas :: asas\", \"ssas :: sas\", \"ssas :: sas\", \"ssas :: sas\", \"ssas :: sas#\", \"ssas :: sas#\", \"sse :: as#\", \"sse :: as#\", \"sse :: as#\", \"sse :: as#\", \"sse :: as#\", \"sse :: as#\", \"sse :: as#\", \"sse :: as#\", \"sse :: as#\", \"sse :: as#\", \"sse :: as#\", \"sse :: as#\", \"sse :: as#\", \"sse :: as#\", \"sse :: as#\", \"sse :: as#\", \"sse :: as#\", \"sse :: as#\", \"sse :: as#\", \"sse :: as#\", \"sse :: as#\", \"sse :: as#\", \"sse :: as#\", \"sse :: as#\", \"sse :: as#\", \"sse :: as#\", \"sse :: asas\", \"sse :: fas\", \"sse :: fas\", \"sse :: fas#\", \"sse :: jas\", \"sse :: jas\", \"sse :: jas\", \"sse :: jas\", \"sse :: jas\", \"sse :: jas\", \"sse :: jas\", \"sse :: jas#\", \"sse :: jas#\", \"sse :: jas#\", \"sse :: jas#\", \"sse :: jas#\", \"sse :: jas#\", \"sse :: jas#\", \"sse :: nas#\", \"sse :: nas#\", \"sse :: nas#\", \"sse :: nas#\", \"sse :: nas#\", \"sse :: sas\", \"sse :: sas\", \"sse :: sas\", \"sse :: tas\", \"sse :: tas\", \"sse :: tas\", \"sse :: tas\", \"sse :: tas\", \"sse :: tas\", \"sse :: tas\", \"sse :: zas\", \"sse :: zas\", \"sse :: \\u0251\\u0303t\", \"sse :: \\u0251\\u0303t\", \"sse :: \\u0251\\u0303ta\", \"sse :: \\u0251\\u0303ta\", \"sse :: \\u026ana\", \"sse :: \\u026anas\", \"sse :: \\u026anas\", \"sse :: \\u026anas\", \"sse :: \\u0281as\", \"sse :: \\u0281as\", \"sse :: \\u0281as\", \"sse :: \\u0281as\", \"sse :: \\u0281as\", \"sse :: \\u0281as\", \"sse :: \\u0281as#\", \"sse :: \\u0281as#\", \"sse :: \\u0281as#\", \"sse :: \\u0281as#\", \"sse# :: as#\", \"sse# :: as#\", \"sse# :: as#\", \"sse# :: as#\", \"sse# :: as#\", \"sse# :: as#\", \"sse# :: as#\", \"sse# :: as#\", \"sse# :: as#\", \"sse# :: as#\", \"sse# :: as#\", \"sse# :: as#\", \"sse# :: as#\", \"sse# :: as#\", \"sse# :: as#\", \"ssem :: sm\\u00e6\", \"ssen :: as#\", \"ssen :: as#\", \"ssen :: as#\", \"ssen :: as#\", \"ssen :: as#\", \"ssen :: as#\", \"ssen :: as#\", \"ssen :: as#\", \"ssen :: as#\", \"ssen :: as#\", \"ssen :: as#\", \"ssen :: as#\", \"ssen :: as#\", \"ssen :: \\u0281as#\", \"ssen :: \\u0281as#\", \"sser :: \\u0281e#\", \"sser :: \\u0281e#\", \"sses :: as#\", \"sses :: as#\", \"sses :: as#\", \"sses :: as#\", \"sses :: as#\", \"sses :: as#\", \"sses :: as#\", \"sses :: as#\", \"sses :: as#\", \"sses :: as#\", \"sses :: as#\", \"sses :: as#\", \"ssi :: #as\", \"ssi :: asj\", \"ssi :: asj\", \"ssi :: asj\", \"ssi :: asj\", \"ssi :: asj\", \"ssi :: asj\", \"ssi :: asje\", \"ssi :: asje\", \"ssi :: asje\", \"ssi :: asje\", \"ssi :: asje\", \"ssi :: je#\", \"ssi :: je#\", \"ssi :: je#\", \"ssi :: je#\", \"ssi :: je#\", \"ssi :: je#\", \"ssi :: j\\u00f5\\u0169\", \"ssi :: j\\u00f5\\u0169\\u032f\", \"ssi :: m\\u026as\", \"ssi :: sje\", \"ssi :: sje\", \"ssi :: sje\", \"ssi :: sje\", \"ssi :: sje\", \"ssi :: sje\", \"ssi :: sje#\", \"ssi :: sje#\", \"ssi :: sje#\", \"ssi :: sje#\", \"ssi :: sje#\", \"ssi :: sje#\", \"ssi :: sj\\u00f5\", \"ssi :: sj\\u00f5\\u0169\", \"ssi :: tasj\", \"ssi :: \\u00f5\\u0169\\u032f\", \"ssi :: \\u00f5\\u0169\\u032f#\", \"ssi :: \\u0169\\u032f#\", \"ssi :: \\u0169\\u032f#\", \"ssi :: \\u026asje\", \"ssi :: \\u026asje\", \"ssi :: \\u026asje\", \"ssie :: asj\", \"ssie :: asj\", \"ssie :: asj\", \"ssie :: asj\", \"ssie :: asj\", \"ssie :: asje\", \"ssie :: asje\", \"ssie :: asje\", \"ssie :: asje\", \"ssie :: je#\", \"ssie :: je#\", \"ssie :: je#\", \"ssie :: je#\", \"ssie :: je#\", \"ssie :: je#\", \"ssie :: sje\", \"ssie :: sje\", \"ssie :: sje\", \"ssie :: sje\", \"ssie :: sje\", \"ssie :: sje\", \"ssie :: sje\", \"ssie :: sje#\", \"ssie :: sje#\", \"ssie :: sje#\", \"ssie :: sje#\", \"ssie :: sje#\", \"ssie :: tas\", \"ssio :: j\\u00f5\\u0169\", \"ssio :: j\\u00f5\\u0169\", \"ssio :: j\\u00f5\\u0169\\u032f\", \"ssio :: sj\\u00f5\", \"ssio :: sj\\u00f5\", \"ssio :: sj\\u00f5\\u0169\", \"ssio :: \\u00f5\\u0169\\u032f\", \"ssio :: \\u0169\\u032f#\", \"ssio :: \\u0169\\u032f#\", \"stas :: asta\", \"ste :: #s\\u028fs\", \"ste :: #s\\u028fs\", \"sten :: t\\u0251\\u0303t\", \"stoy :: fas\", \"sub :: #s\\u028fb\", \"sub :: #s\\u028fb\", \"sub :: #s\\u028fb\", \"sur :: s\\u028f\\u0281v\", \"sur :: \\u0281\\u0259\\u0281\", \"sur :: \\u0281\\u0259\\u0281\", \"sur :: \\u0281\\u0259\\u0281\", \"surs :: \\u028f\\u0281s\", \"surs :: \\u028f\\u0281s\", \"surt :: tak\", \"surv :: #s\\u028f\", \"s\\u00e9e :: \\u026aze#\", \"tai# :: #de\", \"tai# :: #de\", \"tas :: as#\", \"tas :: as#\", \"tas :: as#\", \"tas :: as#\", \"tas :: as#\", \"tas :: asj\", \"tas :: asj\", \"tas :: asje\", \"tas :: je#\", \"tas :: sje#\", \"tas :: tas\", \"tas :: tas\", \"tas :: tas\", \"tas :: tas\", \"tas :: tas\", \"tas :: tas\", \"tas :: tas\", \"tas :: tas#\", \"tas :: tas#\", \"tas :: tas#\", \"tas :: tas#\", \"tas :: tas#\", \"tas :: tas#\", \"tas :: tas#\", \"tas :: tasj\", \"tas :: \\u0303ta\", \"tas :: \\u0303ta\", \"tas :: \\u0303tas\", \"tas :: \\u0303tas\", \"tass :: as#\", \"tass :: as#\", \"tass :: as#\", \"tass :: as#\", \"tass :: as#\", \"tass :: as#\", \"tass :: asj\", \"tass :: asje\", \"tass :: asje\", \"tass :: sje\", \"tass :: sje#\", \"tass :: tas\", \"tass :: tas\", \"tass :: tas\", \"tass :: tas\", \"tass :: tas\", \"tass :: tas\", \"tass :: tas\", \"tass :: tas\", \"tass :: tas\", \"tass :: tasj\", \"tass :: \\u0303tas\", \"tass :: \\u0303tas\", \"te# :: \\u00e3\\u0169\\u032f\", \"te# :: \\u00e3\\u0169\\u032f\", \"te# :: \\u00e3\\u0169\\u032ft\", \"te# :: \\u00e3\\u0169\\u032ft\", \"te# :: \\u00e3\\u0169\\u032ft\", \"te# :: \\u00e3\\u0169\\u032ft\", \"tel :: #d\\u0251\", \"tent :: \\u032ft#\", \"tent :: \\u032ft#\", \"ter :: n\\u026aze\", \"ter :: ta\\u0281\", \"ter :: ta\\u0281\", \"ter :: t\\u0259\\u0281\", \"ter :: t\\u0259\\u0281\", \"ter :: t\\u0259\\u0281\", \"ter :: t\\u0259\\u0281\", \"ter :: t\\u0259\\u0281\", \"ter :: t\\u0259\\u0281\", \"ter :: t\\u0259\\u0281\", \"ter :: t\\u0259\\u0281\", \"ter :: t\\u0259\\u0281\", \"ter :: t\\u0259\\u0281\", \"ter :: t\\u0259\\u0281\\u0254\", \"ter :: t\\u0259\\u0281\\u0254\", \"ter :: t\\u0259\\u0281\\u0254\", \"ter :: t\\u0259\\u0281\\u0254\", \"ter :: \\u0259\\u0281\\u0254\", \"ter :: \\u0259\\u0281\\u0254\", \"ter :: \\u0259\\u0281\\u0254#\", \"ter :: \\u0259\\u0281\\u0254#\", \"ter :: \\u0259\\u0281\\u0254#\", \"ter :: \\u0281\\u0254#\", \"ter :: \\u0281\\u0254#\", \"tera :: t\\u0259\\u0281\\u0254\", \"tera :: t\\u0259\\u0281\\u0254\", \"tera :: \\u0259\\u0281\\u0254\", \"tera :: \\u0259\\u0281\\u0254\", \"tera :: \\u0259\\u0281\\u0254\", \"tera :: \\u0259\\u0281\\u0254#\", \"tera :: \\u0259\\u0281\\u0254#\", \"tera :: \\u0281\\u0254#\", \"tera :: \\u0281\\u0254#\", \"tera :: \\u0281\\u0254#\", \"tes :: at#\", \"tes :: at#\", \"tes :: at#\", \"tes :: at#\", \"tes :: at#\", \"tes :: at#\", \"tes :: at#\", \"tes :: at#\", \"tes :: at#\", \"tes :: at#\", \"tes :: at#\", \"tes :: at#\", \"tes :: at#\", \"tes :: lat\", \"tes :: lat\", \"tes :: lat#\", \"tes :: lat#\", \"tes# :: #pa\\u0281\", \"tes# :: #pa\\u0281\", \"tes# :: at#\", \"tes# :: at#\", \"tes# :: at#\", \"tes# :: at#\", \"tes# :: at#\", \"tes# :: at#\", \"tes# :: at#\", \"tes# :: at#\", \"tes# :: at#\", \"tes# :: at#\", \"tes# :: at#\", \"tes# :: at#\", \"tes# :: at#\", \"tes# :: at#\", \"tes# :: at#\", \"tes# :: lat\", \"tes# :: lat\", \"tes# :: tat#\", \"tes# :: tat#\", \"teur :: at\\u0153\\u0281\", \"teur :: at\\u0153\\u0281\", \"teur :: at\\u0153\\u0281\", \"teus :: t\\u00f8z#\", \"teus :: t\\u00f8z#\", \"tie :: je#\", \"tie :: sje#\", \"tie :: t\\u0361sj\", \"tiez :: je#\", \"tiez :: t\\u0361sj\", \"tio :: \\u0169\\u032f#\", \"tio :: \\u0169\\u032f#\", \"tion :: ksj\\u00f5\", \"tion :: \\u00f5\\u0169\\u032f#\", \"tion :: \\u00f5\\u0169\\u032f#\", \"tire :: t\\u0361s\", \"tire :: t\\u0361s\", \"tonn :: t\\u0251\\u0254\", \"tonn :: \\u0251\\u0254\\u032f\", \"tou :: t\\u028a\\u0281\", \"tou :: t\\u028a\\u0281\", \"tra :: \\u0281at\", \"tra :: \\u0281at\", \"tra :: \\u0281\\u0251\\u0303s\", \"tra :: \\u0281\\u0251\\u0303s\", \"trac :: #t\\u0281\", \"trai :: #\\u0281\\u0259\", \"trai :: #\\u0281\\u0259\", \"tran :: \\u0281\\u0251\\u0303s\", \"tras :: as#\", \"tras :: as#\", \"tra\\u00ee :: #t\\u0281a\", \"tre :: #t\\u0281\", \"tre :: at\\u0281\", \"tre :: \\u0281as\", \"tre :: \\u0281as\", \"tres :: #t\\u0281a\", \"tres :: t\\u0281a\", \"tres :: t\\u0281as\", \"tri :: t\\u0281\\u026a\", \"tri :: t\\u0281\\u026a\", \"tri :: t\\u0281\\u026a\", \"tri :: t\\u0281\\u026a\", \"tri :: t\\u0281\\u026a\", \"tri :: t\\u0281\\u026a\", \"tri :: t\\u0281\\u026a\", \"tru :: t\\u0281\\u0265\", \"ts# :: #p\\u0281\", \"tte :: \\u0254\\u032fma\", \"tue :: t\\u0361s\", \"tue :: t\\u0361s\", \"tum :: s\\u028fm\", \"tum :: \\u0361s\\u028fm\", \"tur :: t\\u0361s\", \"tur :: \\u0361s\\u028f\", \"ture :: t\\u0361s\\u028f\", \"ture :: t\\u0361s\\u028f\", \"ture :: \\u0361s\\u028f\", \"t\\u00e2t :: tat#\", \"t\\u00e2t :: tat#\", \"t\\u00e2t :: tat#\", \"t\\u00e2te :: at#\", \"t\\u00e2te :: at#\", \"t\\u00e2te :: tat\", \"t\\u00e2te :: tat\", \"t\\u00e2te :: tat#\", \"t\\u00e2te :: tat#\", \"t\\u00e2te :: tat#\", \"t\\u00e8r :: a\\u0281#\", \"t\\u00e8r :: a\\u0281#\", \"t\\u00e8r :: a\\u0281#\", \"t\\u00e8r :: a\\u0281#\", \"t\\u00e8r :: a\\u0281#\", \"t\\u00e8r :: a\\u0281#\", \"t\\u00e8re :: ta\\u0281#\", \"t\\u00e8re :: ta\\u0281#\", \"t\\u00e8re :: ta\\u0281#\", \"t\\u00e8re :: ta\\u0281#\", \"t\\u00e8re :: ta\\u0281#\", \"t\\u00e8re :: ta\\u0281#\", \"t\\u00e9e :: \\u032fte#\", \"t\\u00e9l :: tel\", \"t\\u00e9l :: tel\", \"t\\u00e9l\\u00e9 :: #te\", \"t\\u00e9nu :: ten\", \"t\\u00e9nu :: ten\", \"t\\u00e9nu :: ten\", \"t\\u00eat :: tat\", \"t\\u00eat :: tat#\", \"t\\u00eate :: #\\u0251\\u0303t\", \"t\\u00eate :: tat\", \"ubv :: \\u028fbv\", \"ubv :: \\u028fbv\", \"ubv :: \\u028fbv\", \"uci :: \\u00f5\\u0169\\u032f\", \"uci :: \\u028as\\u026a\", \"udit :: \\u0361z\\u026at\", \"udit :: \\u0361z\\u026at\", \"uer :: #\\u0251\\u0303\", \"uer :: k\\u0259\\u0281\", \"uer :: k\\u0259\\u0281\", \"uer :: k\\u0259\\u0281\", \"uer :: k\\u0259\\u0281\", \"uer :: k\\u0259\\u0281a\", \"uer :: k\\u0259\\u0281a\", \"uer :: k\\u0259\\u0281a\", \"uer :: \\u0259\\u0281a\", \"uer :: \\u0259\\u0281a\", \"uer :: \\u0259\\u0281a\", \"uer :: \\u0259\\u0281a\", \"uer :: \\u0259\\u0281a#\", \"uer :: \\u0259\\u0281a#\", \"uer :: \\u0259\\u0281a#\", \"uer :: \\u0259\\u0281a#\", \"uer :: \\u026ak\\u0259\\u0281\", \"uer :: \\u0281a#\", \"uer :: \\u0281a#\", \"uer :: \\u0281a#\", \"uer :: \\u0281a#\", \"uera :: k\\u0259\\u0281\", \"uera :: k\\u0259\\u0281\", \"uera :: k\\u0259\\u0281\", \"uera :: k\\u0259\\u0281\", \"uera :: k\\u0259\\u0281a\", \"uera :: k\\u0259\\u0281a\", \"uera :: \\u0259\\u0281a\", \"uera :: \\u0259\\u0281a\", \"uera :: \\u0259\\u0281a\", \"uera :: \\u0259\\u0281a\", \"uera :: \\u0259\\u0281a#\", \"uera :: \\u0259\\u0281a#\", \"uera :: \\u0259\\u0281a#\", \"uera :: \\u0259\\u0281a#\", \"uera :: \\u0259\\u0281a#\", \"uera :: \\u026ak\\u0259\\u0281\", \"uera :: \\u0281a#\", \"uera :: \\u0281a#\", \"uera :: \\u0281a#\", \"uera :: \\u0281a#\", \"ugn :: #\\u0281ep\", \"uil :: k\\u026al\\u026a\", \"uil :: \\u028aj\\u0254#\", \"uill :: ep\\u028a\", \"uill :: ep\\u028a\", \"uill :: \\u028aj\\u0254\", \"umin :: m\\u026an\", \"upl :: #p\\u0153\", \"upl :: p\\u0153pl\", \"upl :: p\\u0153pl\", \"ur# :: t\\u0153\\u0281\", \"ur# :: t\\u0153\\u0281\", \"ur# :: t\\u0153\\u0281\", \"ura :: \\u0281av\", \"uras :: \\u0281as\", \"ure :: \\u0259\\u0281a\", \"ure :: \\u0259\\u0281a\", \"ure :: \\u0281a#\", \"urer :: \\u0259\\u0281a#\", \"urs :: \\u0281so\", \"urs# :: at\\u0153\", \"urs# :: at\\u0153\", \"urs# :: at\\u0153\", \"urt :: \\u0281ta\", \"urt :: \\u0281ta\", \"urt :: \\u0281ta\", \"use :: t\\u00f8z#\", \"use :: \\u00f8z#\", \"use :: \\u00f8z#\", \"use :: \\u00f8z#\", \"use :: \\u00f8z#\", \"use :: \\u00f8z#\", \"use :: \\u00f8z#\", \"use :: \\u00f8z#\", \"u\\u00e2t :: at#\", \"u\\u00e2t :: at#\", \"u\\u00e2t :: at#\", \"u\\u00e2t :: kat\", \"u\\u00e2t :: kat\", \"u\\u00e2t :: kat#\", \"u\\u00e2te :: at#\", \"u\\u00e2te :: at#\", \"u\\u00e9r :: #ge\", \"vel :: al#\", \"vel :: al#\", \"vel :: al#\", \"vena :: na#\", \"ver :: va\\u0281\", \"ver :: va\\u0281\", \"ver :: va\\u0281\", \"ver :: va\\u0281\", \"ver :: va\\u0281\", \"vera :: v\\u0259\\u0281\", \"vera :: v\\u0259\\u0281\", \"vera :: \\u0259\\u0281a\", \"vera :: \\u0259\\u0281a#\", \"vide :: ev\\u026a\", \"vis :: v\\u026az\", \"vis :: v\\u026az\", \"vis :: v\\u026az\", \"vis :: v\\u026aza\", \"vis :: \\u026aza\", \"visa :: v\\u026az\", \"visa :: v\\u026az\", \"visa :: v\\u026aza\", \"visa :: \\u026aza\", \"visa :: \\u026aza\", \"v\\u00e9n\\u00e9 :: ene\", \"xpi :: #ak\", \"\\u00e2me :: am#\", \"\\u00e2me :: am#\", \"\\u00e2me :: am#\", \"\\u00e2me :: am#\", \"\\u00e2me :: am#\", \"\\u00e2me :: am#\", \"\\u00e2me :: am#\", \"\\u00e2me :: am#\", \"\\u00e2me :: am#\", \"\\u00e2me :: am#\", \"\\u00e2me :: am#\", \"\\u00e2me :: am#\", \"\\u00e2me :: am#\", \"\\u00e2me :: lam\", \"\\u00e2me :: lam\", \"\\u00e2me :: \\u0251\\u0254\\u032f\", \"\\u00e2me :: \\u0251\\u0254\\u032f\", \"\\u00e2me :: \\u0251\\u0254\\u032f\\u0283\", \"\\u00e2me :: \\u0254\\u032f\\u0283a\", \"\\u00e2mes :: #\\u0251\\u0303\", \"\\u00e2mes :: am#\", \"\\u00e2mes :: am#\", \"\\u00e2mes :: am#\", \"\\u00e2mes :: am#\", \"\\u00e2mes :: am#\", \"\\u00e2mes :: am#\", \"\\u00e2mes :: am#\", \"\\u00e2mes :: am#\", \"\\u00e2mes :: am#\", \"\\u00e2mes :: am#\", \"\\u00e2mes :: am#\", \"\\u00e2mes :: am#\", \"\\u00e2mes :: am#\", \"\\u00e2mes :: \\u0283am#\", \"\\u00e2mes :: \\u0283am#\", \"\\u00e2mes :: \\u0283am#\", \"\\u00e2mes :: \\u032f\\u0283a\", \"\\u00e2te :: at#\", \"\\u00e2te :: at#\", \"\\u00e2te :: at#\", \"\\u00e2te :: at#\", \"\\u00e2te :: at#\", \"\\u00e2te :: at#\", \"\\u00e2te :: at#\", \"\\u00e2te :: at#\", \"\\u00e2te :: at#\", \"\\u00e2te :: at#\", \"\\u00e2te :: at#\", \"\\u00e2te :: at#\", \"\\u00e2te :: at#\", \"\\u00e2te :: at#\", \"\\u00e2te :: at#\", \"\\u00e2tes :: at#\", \"\\u00e2tes :: at#\", \"\\u00e2tes :: at#\", \"\\u00e2tes :: at#\", \"\\u00e2tes :: at#\", \"\\u00e2tes :: at#\", \"\\u00e2tes :: at#\", \"\\u00e2tes :: at#\", \"\\u00e2tes :: at#\", \"\\u00e2tes :: at#\", \"\\u00e2tes :: at#\", \"\\u00e2tes :: at#\", \"\\u00e2tes :: at#\", \"\\u00e2tes :: at#\", \"\\u00e2tes :: at#\", \"\\u00e2tes :: at#\", \"\\u00e2tes :: kat#\", \"\\u00e2tes :: lat\", \"\\u00e2tes :: lat\", \"\\u00e2tes :: lat#\", \"\\u00e2ti :: #pa\", \"\\u00e2ti :: #pa\", \"\\u00e2ti :: #pat\", \"\\u00e8re :: a\\u0281#\", \"\\u00e8re :: a\\u0281#\", \"\\u00e8re :: a\\u0281#\", \"\\u00e8re :: a\\u0281#\", \"\\u00e8re :: a\\u0281#\", \"\\u00e8re :: a\\u0281#\", \"\\u00e8re :: a\\u0281#\", \"\\u00e8re :: a\\u0281#\", \"\\u00e8re :: a\\u0281#\", \"\\u00e8re :: a\\u0281#\", \"\\u00e8re :: a\\u0281#\", \"\\u00e8re :: a\\u0281#\", \"\\u00e8re :: a\\u0281#\", \"\\u00e8re :: a\\u0281#\", \"\\u00e8re :: a\\u0281#\", \"\\u00e8re :: a\\u0281#\", \"\\u00e8re :: a\\u0281#\", \"\\u00e8re :: a\\u0281#\", \"\\u00e8re :: a\\u0281#\", \"\\u00e8re :: a\\u0281\\u0259\\u0281\", \"\\u00e8re :: a\\u0281\\u0259\\u0281\", \"\\u00e8re :: ja\\u0281\", \"\\u00e8re :: ja\\u0281\", \"\\u00e8re :: ja\\u0281\", \"\\u00e8re :: ja\\u0281\", \"\\u00e8re :: ja\\u0281\", \"\\u00e8re :: ja\\u0281#\", \"\\u00e8re :: ja\\u0281#\", \"\\u00e8re :: ja\\u0281#\", \"\\u00e8re :: ja\\u0281#\", \"\\u00e8re :: ja\\u0281#\", \"\\u00e8re :: na\\u0281#\", \"\\u00e8re :: \\u0259\\u0281a#\", \"\\u00e8re :: \\u0281a#\", \"\\u00e8re :: \\u0281a#\", \"\\u00e8re :: \\u0281\\u0259\\u0281\", \"\\u00e8ren :: a\\u0281#\", \"\\u00e8ren :: a\\u0281#\", \"\\u00e8ren :: a\\u0281#\", \"\\u00e8ren :: a\\u0281#\", \"\\u00e8ren :: a\\u0281#\", \"\\u00e8ren :: a\\u0281#\", \"\\u00e8ren :: a\\u0281#\", \"\\u00e8ren :: a\\u0281#\", \"\\u00e8ren :: a\\u0281#\", \"\\u00e8ren :: a\\u0281#\", \"\\u00e8ren :: a\\u0281#\", \"\\u00e8ren :: a\\u0281#\", \"\\u00e8ren :: a\\u0281#\", \"\\u00e8ren :: a\\u0281#\", \"\\u00e8ren :: a\\u0281#\", \"\\u00e8ren :: ta\\u0281\", \"\\u00e8ren :: ta\\u0281\", \"\\u00e8ren :: ta\\u0281\", \"\\u00e8ren :: ta\\u0281\", \"\\u00e8ren :: ta\\u0281\", \"\\u00e8ren :: ta\\u0281#\", \"\\u00e8ren :: ta\\u0281#\", \"\\u00e8ren :: ta\\u0281#\", \"\\u00e8ren :: ta\\u0281#\", \"\\u00e8ren :: \\u026ala\", \"\\u00e8ren :: \\u026ala\", \"\\u00e8rer :: a\\u0281\\u0259\", \"\\u00e8rer :: a\\u0281\\u0259\", \"\\u00e8rer :: a\\u0281\\u0259\\u0281\", \"\\u00e8rer :: a\\u0281\\u0259\\u0281\", \"\\u00e8rer :: \\u0259\\u0281a\", \"\\u00e8rer :: \\u0259\\u0281a\", \"\\u00e8rer :: \\u0259\\u0281a#\", \"\\u00e8rer :: \\u0281\\u0259\\u0281\", \"\\u00e9ali :: \\u0281ea\", \"\\u00e9ca :: #de\", \"\\u00e9ca :: #de\", \"\\u00e9ca :: #de\", \"\\u00e9ca :: #de\", \"\\u00e9ca :: #dek\", \"\\u00e9ca :: #dek\", \"\\u00e9ca :: #dek\", \"\\u00e9ca :: #dek\", \"\\u00e9ca :: #ek\", \"\\u00e9ca :: #ek\", \"\\u00e9ca :: dek\", \"\\u00e9ca :: dek\", \"\\u00e9ca :: dek\", \"\\u00e9ca :: dek\", \"\\u00e9co :: #de\", \"\\u00e9co :: #de\", \"\\u00e9co :: #de\", \"\\u00e9co :: dek\", \"\\u00e9co :: dek\", \"\\u00e9co :: dek\", \"\\u00e9co :: dek\", \"\\u00e9co :: dek\", \"\\u00e9co :: dek\\u0251\", \"\\u00e9co :: dek\\u0251\", \"\\u00e9co :: ek\\u0251\", \"\\u00e9co :: ek\\u0251\", \"\\u00e9co :: ek\\u0251\\u0254\", \"\\u00e9co :: ek\\u0251\\u0254\", \"\\u00e9co :: k\\u0251\\u0254\", \"\\u00e9co :: k\\u0251\\u0254\", \"\\u00e9co :: k\\u0251\\u0254\\u032f\", \"\\u00e9co :: k\\u0251\\u0254\\u032f\", \"\\u00e9dit :: d\\u0361z\\u026a\", \"\\u00e9du :: ed\\u0361\", \"\\u00e9du :: ed\\u0361\", \"\\u00e9du :: \\u0361z\\u028f\", \"\\u00e9du :: \\u0361z\\u028f\", \"\\u00e9e# :: \\u0169\\u032fde\", \"\\u00e9es# :: l\\u026aze\", \"\\u00e9es# :: l\\u026aze\", \"\\u00e9es# :: \\u0251\\u0254\\u032f\", \"\\u00e9es# :: \\u0251\\u0254\\u032f\", \"\\u00e9es# :: \\u0251\\u0254\\u032f\", \"\\u00e9fri :: ef\\u0281\", \"\\u00e9gro :: deg\\u0281\", \"\\u00e9l\\u00e9 :: #te\", \"\\u00e9l\\u00e9 :: tel\", \"\\u00e9l\\u00e9 :: tele\", \"\\u00e9l\\u00e9 :: tele\", \"\\u00e9l\\u00e9g :: tele\", \"\\u00e9niv :: en\\u026av\", \"\\u00e9nu :: ten\", \"\\u00e9nu :: ten\", \"\\u00e9pi :: p\\u026al\", \"\\u00e9pl :: l\\u028f\\u0283\", \"\\u00e9pl :: pl\\u028f\\u0283\", \"\\u00e9pl :: pl\\u028f\\u0283\", \"\\u00e9po :: #dep\", \"\\u00e9po :: #dep\", \"\\u00e9po :: #dep\", \"\\u00e9pr :: p\\u0281\\u0259n\", \"\\u00e9pug :: epy\\u0272\", \"\\u00e9ra :: ne\\u0281\", \"\\u00e9ra :: ne\\u0281\", \"\\u00e9ra :: \\u0281as\", \"\\u00e9ser :: za\\u0281\", \"\\u00e9su :: ez\\u028fm\", \"\\u00e9su :: \\u0281ez\", \"\\u00e9su :: \\u0281ez\", \"\\u00e9ta :: #et\", \"\\u00e9ta :: #et\", \"\\u00e9va :: eval\", \"\\u00e9vid :: ev\\u026ad\", \"\\u00eate :: tat\", \"\\u00eate :: \\u0303ta\", \"\\u00eate :: \\u0303ta\", \"\\u00eetr :: #kl\"]}, \"R\": 30, \"lambda.step\": 0.01, \"plot.opts\": {\"xlab\": \"PC1\", \"ylab\": \"PC2\"}, \"topic.order\": [1, 2, 3, 4, 5, 6, 7, 8, 9, 10, 11, 12, 13, 14, 15, 16, 17, 18, 19, 20, 21, 22, 23, 24, 25, 26, 27, 28, 29, 30, 31, 32, 33, 34, 35, 36, 37, 38, 39, 40, 41, 42, 43, 44, 45]};\n",
       "\n",
       "function LDAvis_load_lib(url, callback){\n",
       "  var s = document.createElement('script');\n",
       "  s.src = url;\n",
       "  s.async = true;\n",
       "  s.onreadystatechange = s.onload = callback;\n",
       "  s.onerror = function(){console.warn(\"failed to load library \" + url);};\n",
       "  document.getElementsByTagName(\"head\")[0].appendChild(s);\n",
       "}\n",
       "\n",
       "if(typeof(LDAvis) !== \"undefined\"){\n",
       "   // already loaded: just create the visualization\n",
       "   !function(LDAvis){\n",
       "       new LDAvis(\"#\" + \"ldavis_el8791759745829768942055601\", ldavis_el8791759745829768942055601_data);\n",
       "   }(LDAvis);\n",
       "}else if(typeof define === \"function\" && define.amd){\n",
       "   // require.js is available: use it to load d3/LDAvis\n",
       "   require.config({paths: {d3: \"https://d3js.org/d3.v5\"}});\n",
       "   require([\"d3\"], function(d3){\n",
       "      window.d3 = d3;\n",
       "      LDAvis_load_lib(\"https://cdn.jsdelivr.net/gh/bmabey/pyLDAvis@3.4.0/pyLDAvis/js/ldavis.v3.0.0.js\", function(){\n",
       "        new LDAvis(\"#\" + \"ldavis_el8791759745829768942055601\", ldavis_el8791759745829768942055601_data);\n",
       "      });\n",
       "    });\n",
       "}else{\n",
       "    // require.js not available: dynamically load d3 & LDAvis\n",
       "    LDAvis_load_lib(\"https://d3js.org/d3.v5.js\", function(){\n",
       "         LDAvis_load_lib(\"https://cdn.jsdelivr.net/gh/bmabey/pyLDAvis@3.4.0/pyLDAvis/js/ldavis.v3.0.0.js\", function(){\n",
       "                 new LDAvis(\"#\" + \"ldavis_el8791759745829768942055601\", ldavis_el8791759745829768942055601_data);\n",
       "            })\n",
       "         });\n",
       "}\n",
       "</script>"
      ],
      "text/plain": [
       "<IPython.core.display.HTML object>"
      ]
     },
     "execution_count": 166,
     "metadata": {},
     "output_type": "execute_result"
    }
   ],
   "source": [
    "%%capture --no-display\n",
    "\n",
    "## pyLDAvis を使った LDA の結果の可視化: 階層クラスタリングより詳しい\n",
    "import pyLDAvis\n",
    "\n",
    "installed_version = pyLDAvis.__version__\n",
    "print(f\"installed_version: {installed_version}\")\n",
    "if float(installed_version[:3]) > 3.1:\n",
    "    import pyLDAvis.gensim_models as gensimvis\n",
    "else:\n",
    "    import pyLDAvis.gensim as gensimvis\n",
    "pyLDAvis.enable_notebook()\n",
    "\n",
    "## set variable names\n",
    "if use_HDP:\n",
    "    model_used  = pair_hdp\n",
    "else:\n",
    "    model_used  = pair_lda\n",
    "corpus_used   = pair_corpus\n",
    "diction_used  = pair_diction\n",
    "\n",
    "## 実行パラメター: Setting for tSNE or MMDS solves \"TypeError: Object of type complex\n",
    "# is not JSON serializable\" and gives a better layout where overlapping is avoided\n",
    "use_MMDS = False\n",
    "use_tSNE = False\n",
    "if use_MMDS:\n",
    "    vis_data = gensimvis.prepare(model_used, corpus_used, diction_used, mds = 'mmds',\n",
    "                            n_jobs = 1, sort_topics = False)    \n",
    "elif use_tSNE:\n",
    "    vis_data = gensimvis.prepare(model_used, corpus_used, diction_used, mds = 'tsne',\n",
    "                            n_jobs = 1, sort_topics = False)\n",
    "else:\n",
    "    vis_data = gensimvis.prepare(model_used, corpus_used, diction_used,\n",
    "                            n_jobs = 1, sort_topics = False)\n",
    "##\n",
    "pyLDAvis.display(vis_data)"
   ]
  },
  {
   "cell_type": "code",
   "execution_count": 167,
   "id": "25748b85",
   "metadata": {},
   "outputs": [],
   "source": [
    "## save LDAvis output as a html file\n",
    "save_LDAvis = True\n",
    "if save_LDAvis:\n",
    "\tif not apply_term_abuse_filtering:\n",
    "\t\tterm_abuse_threshold = 0\n",
    "\tif len(lang_attr) > 0:\n",
    "\t\tvis_output = f\"results/LDAvis/{lang_name}-pair/{lang_name}-{lang_attr}-{method_name}-ntop{n_topics}-{sp_term_type}-{sn_term_type}{hash_status}-abuse={term_abuse_threshold}.html\"\n",
    "\telse:\n",
    "\t\tvis_output = f\"results/LDAvis/{lang_name}-pair/{lang_name}-{method_name}-ntop{n_topics}-{sp_term_type}-{sn_term_type}{hash_status}-abuse={term_abuse_threshold}.html\"\t\n",
    "\t#\n",
    "\tpyLDAvis.save_html(vis_data, vis_output)"
   ]
  },
  {
   "cell_type": "code",
   "execution_count": 168,
   "id": "8f1c9232",
   "metadata": {},
   "outputs": [],
   "source": [
    "## save topic structures\n",
    "hdp_topics = pair_hdp.show_topics(num_topics = max_n_topics,\n",
    "                               num_words = n_terms_to_show, formatted = False)\n",
    "hdp_dict = { tid: values for tid, values in hdp_topics }\n",
    "## convert to Pandas dataframe\n",
    "topics_df = pd.DataFrame.from_dict(hdp_dict)\n",
    "lang_dir_name = lang_name\n",
    "target_class = \"pair\"\n",
    "term_type = f\"{sp_term_type}-{sn_term_type}\"\n",
    "accent_status = \"-unaccented\"\n",
    "#\n",
    "pair_hdp_topics_out = f\"results/terms-by-topics-raw/{lang_dir_name}/{target_lang_dict[target_lang_key]}-{target_class}-topics{max_n_topics}-{term_type}{accent_status}.csv\"\n",
    "topics_df.to_csv(pair_hdp_topics_out, header = False, index = None)"
   ]
  },
  {
   "cell_type": "markdown",
   "id": "6d79c463",
   "metadata": {},
   "source": [
    "# t-SNE を使った可視化"
   ]
  },
  {
   "cell_type": "code",
   "execution_count": 169,
   "id": "24f33ef0-49d0-4df7-8ffb-3718ec8d5441",
   "metadata": {},
   "outputs": [
    {
     "name": "stdout",
     "output_type": "stream",
     "text": [
      "top_perplexity_val: 15\n"
     ]
    }
   ],
   "source": [
    "## t-SNE の実行\n",
    "from sklearn.manifold import TSNE\n",
    "import numpy as np\n",
    "## tSNE のパラメターを設定\n",
    "top_perplexity_val = round(n_topics * top_perplexity_reduct_rate) # 大き過ぎると良くない\n",
    "print(f\"top_perplexity_val: {top_perplexity_val}\")\n",
    "tSNE_3d = TSNE(n_components = 3, random_state = 0,\n",
    "               perplexity = top_perplexity_val, max_iter = 1000)\n",
    "## データに適用\n",
    "pair_top_dist = model_used.get_topics()\n",
    "pair_top_tsne_3d_fitted = tSNE_3d.fit_transform(np.array(pair_top_dist))"
   ]
  },
  {
   "cell_type": "code",
   "execution_count": 170,
   "id": "876f8dc4-ce17-47c9-917f-0c2df723eb00",
   "metadata": {},
   "outputs": [
    {
     "name": "stderr",
     "output_type": "stream",
     "text": [
      "/Users/kowk/anaconda3/lib/python3.10/site-packages/plotly/io/_renderers.py:395: DeprecationWarning:\n",
      "\n",
      "distutils Version classes are deprecated. Use packaging.version instead.\n",
      "\n",
      "/Users/kowk/anaconda3/lib/python3.10/site-packages/plotly/io/_renderers.py:395: DeprecationWarning:\n",
      "\n",
      "distutils Version classes are deprecated. Use packaging.version instead.\n",
      "\n"
     ]
    },
    {
     "data": {
      "application/vnd.plotly.v1+json": {
       "config": {
        "plotlyServerURL": "https://plot.ly"
       },
       "data": [
        {
         "mode": "markers",
         "type": "scatter3d",
         "x": [
          46.402015686035156,
          -25.96811866760254,
          142.92568969726562,
          -17.47942543029785,
          -59.04203414916992,
          -51.56421661376953,
          -86.20462036132812,
          -91.02601623535156,
          -81.25543212890625,
          73.96531677246094,
          140.57940673828125,
          -159.9707794189453,
          -102.3312759399414,
          -131.93724060058594,
          111.35773468017578,
          48.87942123413086,
          -107.48854064941406,
          -9.692525863647461,
          28.34861946105957,
          102.23790740966797,
          -6.611868858337402,
          46.199989318847656,
          -47.67313766479492,
          21.603391647338867,
          35.2564582824707,
          -37.10683822631836,
          52.191246032714844,
          -8.476716995239258,
          14.640066146850586,
          56.70716094970703,
          89.27274322509766,
          -124.61490631103516,
          31.5692195892334,
          110.43999481201172,
          -31.693471908569336,
          -28.47211456298828,
          -35.7070198059082,
          -3.6502034664154053,
          -70.86607360839844,
          -21.641386032104492,
          28.439027786254883,
          -107.24766540527344,
          85.82695007324219,
          -198.96742248535156,
          -78.59294891357422
         ],
         "y": [
          28.307178497314453,
          -115.56587219238281,
          40.02351379394531,
          -2.396493911743164,
          -3.8354272842407227,
          -142.29295349121094,
          139.31251525878906,
          74.74766540527344,
          5.693170070648193,
          -77.3909912109375,
          -47.148746490478516,
          -54.79327392578125,
          -43.56515884399414,
          4.21509313583374,
          -24.884321212768555,
          -113.74560546875,
          45.520233154296875,
          -82.807373046875,
          -41.383445739746094,
          125.67636108398438,
          -42.94944763183594,
          6.628077030181885,
          66.31761169433594,
          132.09030151367188,
          -112.79598999023438,
          136.07318115234375,
          -31.614032745361328,
          -7.406392574310303,
          114.29679107666016,
          0.8180254101753235,
          32.639102935791016,
          63.699981689453125,
          69.98552703857422,
          -62.68483352661133,
          -132.86782836914062,
          35.42346954345703,
          -70.31896209716797,
          82.13632202148438,
          -52.861732482910156,
          79.65227508544922,
          55.82571029663086,
          -10.415567398071289,
          71.18565368652344,
          -170.10008239746094,
          -71.5853500366211
         ],
         "z": [
          146.9479522705078,
          128.7637176513672,
          9.772500038146973,
          -105.74485778808594,
          -157.7046661376953,
          72.81382751464844,
          -41.93043899536133,
          -99.71925354003906,
          -48.552181243896484,
          -129.25457763671875,
          -68.27754974365234,
          -40.396568298339844,
          110.45979309082031,
          -89.25836181640625,
          103.77205657958984,
          55.179866790771484,
          94.4545669555664,
          -109.77487182617188,
          146.89137268066406,
          -18.659610748291016,
          79.00118255615234,
          -151.78518676757812,
          -14.17054271697998,
          -62.81037521362305,
          -36.15388107299805,
          2.8067877292633057,
          -43.07478332519531,
          0.3523690700531006,
          63.23322677612305,
          34.04642105102539,
          -66.6213150024414,
          -2.083125114440918,
          -5.866132736206055,
          23.964126586914062,
          12.166300773620605,
          58.211669921875,
          -27.71739387512207,
          -116.90705871582031,
          -70.27351379394531,
          118.86308288574219,
          -70.11029052734375,
          32.044551849365234,
          54.066856384277344,
          138.3330078125,
          21.027223587036133
         ]
        }
       ],
       "layout": {
        "autosize": false,
        "height": 600,
        "template": {
         "data": {
          "bar": [
           {
            "error_x": {
             "color": "#2a3f5f"
            },
            "error_y": {
             "color": "#2a3f5f"
            },
            "marker": {
             "line": {
              "color": "#E5ECF6",
              "width": 0.5
             },
             "pattern": {
              "fillmode": "overlay",
              "size": 10,
              "solidity": 0.2
             }
            },
            "type": "bar"
           }
          ],
          "barpolar": [
           {
            "marker": {
             "line": {
              "color": "#E5ECF6",
              "width": 0.5
             },
             "pattern": {
              "fillmode": "overlay",
              "size": 10,
              "solidity": 0.2
             }
            },
            "type": "barpolar"
           }
          ],
          "carpet": [
           {
            "aaxis": {
             "endlinecolor": "#2a3f5f",
             "gridcolor": "white",
             "linecolor": "white",
             "minorgridcolor": "white",
             "startlinecolor": "#2a3f5f"
            },
            "baxis": {
             "endlinecolor": "#2a3f5f",
             "gridcolor": "white",
             "linecolor": "white",
             "minorgridcolor": "white",
             "startlinecolor": "#2a3f5f"
            },
            "type": "carpet"
           }
          ],
          "choropleth": [
           {
            "colorbar": {
             "outlinewidth": 0,
             "ticks": ""
            },
            "type": "choropleth"
           }
          ],
          "contour": [
           {
            "colorbar": {
             "outlinewidth": 0,
             "ticks": ""
            },
            "colorscale": [
             [
              0,
              "#0d0887"
             ],
             [
              0.1111111111111111,
              "#46039f"
             ],
             [
              0.2222222222222222,
              "#7201a8"
             ],
             [
              0.3333333333333333,
              "#9c179e"
             ],
             [
              0.4444444444444444,
              "#bd3786"
             ],
             [
              0.5555555555555556,
              "#d8576b"
             ],
             [
              0.6666666666666666,
              "#ed7953"
             ],
             [
              0.7777777777777778,
              "#fb9f3a"
             ],
             [
              0.8888888888888888,
              "#fdca26"
             ],
             [
              1,
              "#f0f921"
             ]
            ],
            "type": "contour"
           }
          ],
          "contourcarpet": [
           {
            "colorbar": {
             "outlinewidth": 0,
             "ticks": ""
            },
            "type": "contourcarpet"
           }
          ],
          "heatmap": [
           {
            "colorbar": {
             "outlinewidth": 0,
             "ticks": ""
            },
            "colorscale": [
             [
              0,
              "#0d0887"
             ],
             [
              0.1111111111111111,
              "#46039f"
             ],
             [
              0.2222222222222222,
              "#7201a8"
             ],
             [
              0.3333333333333333,
              "#9c179e"
             ],
             [
              0.4444444444444444,
              "#bd3786"
             ],
             [
              0.5555555555555556,
              "#d8576b"
             ],
             [
              0.6666666666666666,
              "#ed7953"
             ],
             [
              0.7777777777777778,
              "#fb9f3a"
             ],
             [
              0.8888888888888888,
              "#fdca26"
             ],
             [
              1,
              "#f0f921"
             ]
            ],
            "type": "heatmap"
           }
          ],
          "heatmapgl": [
           {
            "colorbar": {
             "outlinewidth": 0,
             "ticks": ""
            },
            "colorscale": [
             [
              0,
              "#0d0887"
             ],
             [
              0.1111111111111111,
              "#46039f"
             ],
             [
              0.2222222222222222,
              "#7201a8"
             ],
             [
              0.3333333333333333,
              "#9c179e"
             ],
             [
              0.4444444444444444,
              "#bd3786"
             ],
             [
              0.5555555555555556,
              "#d8576b"
             ],
             [
              0.6666666666666666,
              "#ed7953"
             ],
             [
              0.7777777777777778,
              "#fb9f3a"
             ],
             [
              0.8888888888888888,
              "#fdca26"
             ],
             [
              1,
              "#f0f921"
             ]
            ],
            "type": "heatmapgl"
           }
          ],
          "histogram": [
           {
            "marker": {
             "pattern": {
              "fillmode": "overlay",
              "size": 10,
              "solidity": 0.2
             }
            },
            "type": "histogram"
           }
          ],
          "histogram2d": [
           {
            "colorbar": {
             "outlinewidth": 0,
             "ticks": ""
            },
            "colorscale": [
             [
              0,
              "#0d0887"
             ],
             [
              0.1111111111111111,
              "#46039f"
             ],
             [
              0.2222222222222222,
              "#7201a8"
             ],
             [
              0.3333333333333333,
              "#9c179e"
             ],
             [
              0.4444444444444444,
              "#bd3786"
             ],
             [
              0.5555555555555556,
              "#d8576b"
             ],
             [
              0.6666666666666666,
              "#ed7953"
             ],
             [
              0.7777777777777778,
              "#fb9f3a"
             ],
             [
              0.8888888888888888,
              "#fdca26"
             ],
             [
              1,
              "#f0f921"
             ]
            ],
            "type": "histogram2d"
           }
          ],
          "histogram2dcontour": [
           {
            "colorbar": {
             "outlinewidth": 0,
             "ticks": ""
            },
            "colorscale": [
             [
              0,
              "#0d0887"
             ],
             [
              0.1111111111111111,
              "#46039f"
             ],
             [
              0.2222222222222222,
              "#7201a8"
             ],
             [
              0.3333333333333333,
              "#9c179e"
             ],
             [
              0.4444444444444444,
              "#bd3786"
             ],
             [
              0.5555555555555556,
              "#d8576b"
             ],
             [
              0.6666666666666666,
              "#ed7953"
             ],
             [
              0.7777777777777778,
              "#fb9f3a"
             ],
             [
              0.8888888888888888,
              "#fdca26"
             ],
             [
              1,
              "#f0f921"
             ]
            ],
            "type": "histogram2dcontour"
           }
          ],
          "mesh3d": [
           {
            "colorbar": {
             "outlinewidth": 0,
             "ticks": ""
            },
            "type": "mesh3d"
           }
          ],
          "parcoords": [
           {
            "line": {
             "colorbar": {
              "outlinewidth": 0,
              "ticks": ""
             }
            },
            "type": "parcoords"
           }
          ],
          "pie": [
           {
            "automargin": true,
            "type": "pie"
           }
          ],
          "scatter": [
           {
            "fillpattern": {
             "fillmode": "overlay",
             "size": 10,
             "solidity": 0.2
            },
            "type": "scatter"
           }
          ],
          "scatter3d": [
           {
            "line": {
             "colorbar": {
              "outlinewidth": 0,
              "ticks": ""
             }
            },
            "marker": {
             "colorbar": {
              "outlinewidth": 0,
              "ticks": ""
             }
            },
            "type": "scatter3d"
           }
          ],
          "scattercarpet": [
           {
            "marker": {
             "colorbar": {
              "outlinewidth": 0,
              "ticks": ""
             }
            },
            "type": "scattercarpet"
           }
          ],
          "scattergeo": [
           {
            "marker": {
             "colorbar": {
              "outlinewidth": 0,
              "ticks": ""
             }
            },
            "type": "scattergeo"
           }
          ],
          "scattergl": [
           {
            "marker": {
             "colorbar": {
              "outlinewidth": 0,
              "ticks": ""
             }
            },
            "type": "scattergl"
           }
          ],
          "scattermapbox": [
           {
            "marker": {
             "colorbar": {
              "outlinewidth": 0,
              "ticks": ""
             }
            },
            "type": "scattermapbox"
           }
          ],
          "scatterpolar": [
           {
            "marker": {
             "colorbar": {
              "outlinewidth": 0,
              "ticks": ""
             }
            },
            "type": "scatterpolar"
           }
          ],
          "scatterpolargl": [
           {
            "marker": {
             "colorbar": {
              "outlinewidth": 0,
              "ticks": ""
             }
            },
            "type": "scatterpolargl"
           }
          ],
          "scatterternary": [
           {
            "marker": {
             "colorbar": {
              "outlinewidth": 0,
              "ticks": ""
             }
            },
            "type": "scatterternary"
           }
          ],
          "surface": [
           {
            "colorbar": {
             "outlinewidth": 0,
             "ticks": ""
            },
            "colorscale": [
             [
              0,
              "#0d0887"
             ],
             [
              0.1111111111111111,
              "#46039f"
             ],
             [
              0.2222222222222222,
              "#7201a8"
             ],
             [
              0.3333333333333333,
              "#9c179e"
             ],
             [
              0.4444444444444444,
              "#bd3786"
             ],
             [
              0.5555555555555556,
              "#d8576b"
             ],
             [
              0.6666666666666666,
              "#ed7953"
             ],
             [
              0.7777777777777778,
              "#fb9f3a"
             ],
             [
              0.8888888888888888,
              "#fdca26"
             ],
             [
              1,
              "#f0f921"
             ]
            ],
            "type": "surface"
           }
          ],
          "table": [
           {
            "cells": {
             "fill": {
              "color": "#EBF0F8"
             },
             "line": {
              "color": "white"
             }
            },
            "header": {
             "fill": {
              "color": "#C8D4E3"
             },
             "line": {
              "color": "white"
             }
            },
            "type": "table"
           }
          ]
         },
         "layout": {
          "annotationdefaults": {
           "arrowcolor": "#2a3f5f",
           "arrowhead": 0,
           "arrowwidth": 1
          },
          "autotypenumbers": "strict",
          "coloraxis": {
           "colorbar": {
            "outlinewidth": 0,
            "ticks": ""
           }
          },
          "colorscale": {
           "diverging": [
            [
             0,
             "#8e0152"
            ],
            [
             0.1,
             "#c51b7d"
            ],
            [
             0.2,
             "#de77ae"
            ],
            [
             0.3,
             "#f1b6da"
            ],
            [
             0.4,
             "#fde0ef"
            ],
            [
             0.5,
             "#f7f7f7"
            ],
            [
             0.6,
             "#e6f5d0"
            ],
            [
             0.7,
             "#b8e186"
            ],
            [
             0.8,
             "#7fbc41"
            ],
            [
             0.9,
             "#4d9221"
            ],
            [
             1,
             "#276419"
            ]
           ],
           "sequential": [
            [
             0,
             "#0d0887"
            ],
            [
             0.1111111111111111,
             "#46039f"
            ],
            [
             0.2222222222222222,
             "#7201a8"
            ],
            [
             0.3333333333333333,
             "#9c179e"
            ],
            [
             0.4444444444444444,
             "#bd3786"
            ],
            [
             0.5555555555555556,
             "#d8576b"
            ],
            [
             0.6666666666666666,
             "#ed7953"
            ],
            [
             0.7777777777777778,
             "#fb9f3a"
            ],
            [
             0.8888888888888888,
             "#fdca26"
            ],
            [
             1,
             "#f0f921"
            ]
           ],
           "sequentialminus": [
            [
             0,
             "#0d0887"
            ],
            [
             0.1111111111111111,
             "#46039f"
            ],
            [
             0.2222222222222222,
             "#7201a8"
            ],
            [
             0.3333333333333333,
             "#9c179e"
            ],
            [
             0.4444444444444444,
             "#bd3786"
            ],
            [
             0.5555555555555556,
             "#d8576b"
            ],
            [
             0.6666666666666666,
             "#ed7953"
            ],
            [
             0.7777777777777778,
             "#fb9f3a"
            ],
            [
             0.8888888888888888,
             "#fdca26"
            ],
            [
             1,
             "#f0f921"
            ]
           ]
          },
          "colorway": [
           "#636efa",
           "#EF553B",
           "#00cc96",
           "#ab63fa",
           "#FFA15A",
           "#19d3f3",
           "#FF6692",
           "#B6E880",
           "#FF97FF",
           "#FECB52"
          ],
          "font": {
           "color": "#2a3f5f"
          },
          "geo": {
           "bgcolor": "white",
           "lakecolor": "white",
           "landcolor": "#E5ECF6",
           "showlakes": true,
           "showland": true,
           "subunitcolor": "white"
          },
          "hoverlabel": {
           "align": "left"
          },
          "hovermode": "closest",
          "mapbox": {
           "style": "light"
          },
          "paper_bgcolor": "white",
          "plot_bgcolor": "#E5ECF6",
          "polar": {
           "angularaxis": {
            "gridcolor": "white",
            "linecolor": "white",
            "ticks": ""
           },
           "bgcolor": "#E5ECF6",
           "radialaxis": {
            "gridcolor": "white",
            "linecolor": "white",
            "ticks": ""
           }
          },
          "scene": {
           "xaxis": {
            "backgroundcolor": "#E5ECF6",
            "gridcolor": "white",
            "gridwidth": 2,
            "linecolor": "white",
            "showbackground": true,
            "ticks": "",
            "zerolinecolor": "white"
           },
           "yaxis": {
            "backgroundcolor": "#E5ECF6",
            "gridcolor": "white",
            "gridwidth": 2,
            "linecolor": "white",
            "showbackground": true,
            "ticks": "",
            "zerolinecolor": "white"
           },
           "zaxis": {
            "backgroundcolor": "#E5ECF6",
            "gridcolor": "white",
            "gridwidth": 2,
            "linecolor": "white",
            "showbackground": true,
            "ticks": "",
            "zerolinecolor": "white"
           }
          },
          "shapedefaults": {
           "line": {
            "color": "#2a3f5f"
           }
          },
          "ternary": {
           "aaxis": {
            "gridcolor": "white",
            "linecolor": "white",
            "ticks": ""
           },
           "baxis": {
            "gridcolor": "white",
            "linecolor": "white",
            "ticks": ""
           },
           "bgcolor": "#E5ECF6",
           "caxis": {
            "gridcolor": "white",
            "linecolor": "white",
            "ticks": ""
           }
          },
          "title": {
           "x": 0.05
          },
          "xaxis": {
           "automargin": true,
           "gridcolor": "white",
           "linecolor": "white",
           "ticks": "",
           "title": {
            "standoff": 15
           },
           "zerolinecolor": "white",
           "zerolinewidth": 2
          },
          "yaxis": {
           "automargin": true,
           "gridcolor": "white",
           "linecolor": "white",
           "ticks": "",
           "title": {
            "standoff": 15
           },
           "zerolinecolor": "white",
           "zerolinewidth": 2
          }
         }
        },
        "title": {
         "text": "t-SNE 3D view of 45 topics from LDA/HDP (term: sp_4gram-sn_4gram"
        },
        "width": 600
       }
      }
     },
     "metadata": {},
     "output_type": "display_data"
    }
   ],
   "source": [
    "## tSNE の結果の可視化 (3D)\n",
    "import numpy as np\n",
    "import plotly.graph_objects as go\n",
    "\n",
    "## 図の大きさを決める\n",
    "X = pair_top_tsne_3d_fitted[:,0] # 次元 1\n",
    "Y = pair_top_tsne_3d_fitted[:,1] # 次元 2\n",
    "Z = pair_top_tsne_3d_fitted[:,2] # 次元 3\n",
    "fig = go.Figure(data = [go.Scatter3d(x = X, y = Y, z = Z, mode = 'markers')])\n",
    "## 3D 散布図にラベルを追加する処理は未実装\n",
    "fig.update_layout(autosize = False, width = 600, height = 600,\n",
    "                 title = f\"t-SNE 3D view of {n_topics} topics from LDA/HDP (term: {sp_term_type}-{sn_term_type}\")\n",
    "fig.show()"
   ]
  },
  {
   "cell_type": "code",
   "execution_count": 171,
   "id": "404a29b7",
   "metadata": {},
   "outputs": [
    {
     "ename": "SystemExit",
     "evalue": "0",
     "output_type": "error",
     "traceback": [
      "An exception has occurred, use %tb to see the full traceback.\n",
      "\u001b[0;31mSystemExit\u001b[0m\u001b[0;31m:\u001b[0m 0\n"
     ]
    },
    {
     "name": "stderr",
     "output_type": "stream",
     "text": [
      "/Users/kowk/anaconda3/lib/python3.10/site-packages/IPython/core/interactiveshell.py:3585: UserWarning:\n",
      "\n",
      "To exit: use 'exit', 'quit', or Ctrl-D.\n",
      "\n"
     ]
    }
   ],
   "source": [
    "## stop if HDP is used\n",
    "if use_HDP:\n",
    "    sys.exit(0)"
   ]
  },
  {
   "cell_type": "code",
   "execution_count": null,
   "id": "2726147a-b2ad-4a58-b9b8-471d696f4432",
   "metadata": {},
   "outputs": [],
   "source": [
    "%%capture --no-display\n",
    "## LDA のtopic ごとに，関連度の高い term を表示\n",
    "import pandas as pd\n",
    "n_terms = 30 # topic ごとに表示する term 数の指定\n",
    "pair_topic_dfs = [ ]\n",
    "for topic in range(n_topics):\n",
    "    pair_terms = [ ]\n",
    "    if use_HDP:\n",
    "        for i, prob in pair_hdp.show_topics(topic, num_words = n_terms):\n",
    "            pair_terms.append(pair_diction.id2token[int(i)])\n",
    "    else:\n",
    "        for i, prob in model_used.get_topic_terms(topic, topn = n_terms):\n",
    "            pair_terms.append(pair_diction.id2token[int(i)])\n",
    "    pair_topic_dfs.append(pd.DataFrame([pair_terms], index = [ f'topic {topic + 1}' ]))\n",
    "#\n",
    "df_terms_by_topics = pd.concat(pair_topic_dfs)\n",
    "## Table として表示\n",
    "df_terms_by_topics.T"
   ]
  },
  {
   "cell_type": "code",
   "execution_count": 212,
   "id": "9bb82400-bebd-4899-bda7-c2ad6782e0c2",
   "metadata": {},
   "outputs": [],
   "source": [
    "## save encoding file\n",
    "from datetime import datetime\n",
    "datetime_str = datetime.today().strftime('%Y-%m-%d-%H-%M-%S')\n",
    "signature = \"-\".join(datetime_str.split(\"-\")[0:5])\n",
    "output_file = f\"../saved-term-lists/terms-by-topics-{sp_term_type}-{sn_term_type}-a={term_abuse_threshold}-{signature}.csv\"\n",
    "#\n",
    "save_results = False\n",
    "if save_results:\n",
    "    print(f\"saving a file: {output_file}\")\n",
    "    df_terms_by_topics.to_csv(output_file, index = False)"
   ]
  }
 ],
 "metadata": {
  "kernelspec": {
   "display_name": "Python 3 (ipykernel)",
   "language": "python",
   "name": "python3"
  },
  "language_info": {
   "codemirror_mode": {
    "name": "ipython",
    "version": 3
   },
   "file_extension": ".py",
   "mimetype": "text/x-python",
   "name": "python",
   "nbconvert_exporter": "python",
   "pygments_lexer": "ipython3",
   "version": "3.10.14"
  },
  "widgets": {
   "application/vnd.jupyter.widget-state+json": {
    "state": {},
    "version_major": 2,
    "version_minor": 0
   }
  }
 },
 "nbformat": 4,
 "nbformat_minor": 5
}
