{
 "cells": [
  {
   "cell_type": "markdown",
   "id": "a4316af3",
   "metadata": {},
   "source": [
    "# Set up"
   ]
  },
  {
   "cell_type": "code",
   "execution_count": 124,
   "id": "c15cc18d",
   "metadata": {},
   "outputs": [],
   "source": [
    "## prepare packages\n",
    "#%pip install -U pandas\n",
    "#%pip install -U matplotlib\n",
    "#%pip install -U gensim\n",
    "#%pip install -U scipy\n",
    "#%pip install -U pyLDAvis\n",
    "#%pip install -U plotly\n",
    "#%pip install -U 'nbformat>=4.2.0'\n",
    "#!conda update conda -y"
   ]
  },
  {
   "cell_type": "code",
   "execution_count": 125,
   "id": "ece3e270",
   "metadata": {},
   "outputs": [],
   "source": [
    "## import modules\n",
    "import os, sys\n",
    "## maake accessible files on level immediately above \n",
    "sys.path.append(os.path.join(os.path.dirname(\"__file__\"), \"..\"))\n",
    "## import other modules\n",
    "import re\n",
    "import gzip, glob\n",
    "import unicodedata\n",
    "## https://stackoverflow.com/questions/41385708/multiprocessing-example-giving-attributeerror\n",
    "#import multiprocessing as mp # fails on IPython environment\n",
    "import multiprocess as mp # provides Pool"
   ]
  },
  {
   "cell_type": "markdown",
   "id": "e35a186e",
   "metadata": {},
   "source": [
    "# Preparation 1"
   ]
  },
  {
   "cell_type": "code",
   "execution_count": 126,
   "id": "a3fc73db-d5f9-44a1-9f49-16a02df376d3",
   "metadata": {},
   "outputs": [
    {
     "name": "stdout",
     "output_type": "stream",
     "text": [
      "sp_term_type: sp_4gram\n",
      "sn_term_type: sn_4gram\n"
     ]
    }
   ],
   "source": [
    "## parameters\n",
    "verbose              = True\n",
    "save_results         = False\n",
    "targets_csv          = True\n",
    "\n",
    "## source sampling\n",
    "source_sampling      = True\n",
    "source_sampling_rate = 0.03 # optimal values depend on kinds of source\n",
    "\n",
    "## doc settings # The longer sentences become, the less precise pairing becomes\n",
    "size_measures        = [ 'sp_size', 'sn_size' ]\n",
    "size_measure         = size_measures[1]\n",
    "max_doc_size         = 10 # values larger than 10 take considerably longer to complete\n",
    "min_doc_size         =  4\n",
    "\n",
    "## preprocessing settings\n",
    "lower_chars          = True\n",
    "strip_accents        = True\n",
    "add_boundaries       = True\n",
    "boundary_symbol      = '#'  # requires more processing resource\n",
    "if add_boundaries:\n",
    "    hash_status = \"-hashed\"\n",
    "else:\n",
    "    hash_status = \"\"\n",
    "\n",
    "## term settings\n",
    "ngram_is_inclusive    = True # takes significantly more time to complete but invites sum error if False with larger n, \n",
    "inclusion_degree      = 1    # Valid values are {0, 1, 2, ..., None}. With k, n-grams includes (n-k)-grams\n",
    "max_gap_size_factor   = 0.53 # It takes time at valuers larger than 0.5 with larger n such as n = 5\n",
    "max_gap_size          = round(max_doc_size * max_gap_size_factor) # This needs to be smaller than other cases.\n",
    "\n",
    "## Skippy n-gram の隙間を表わす記号\n",
    "gap_marker            = \"…\"\n",
    "\n",
    "## spell term と sound term の連結記号\n",
    "pair_marker           = \" :: \"\n",
    "\n",
    "## set spell term_type\n",
    "sp_term_types  = [ 'sp_1gram',\n",
    "                  'sp_2gram', 'sp_3gram', 'sp_4gram', 'sp_5gram',\n",
    "                 'sp_sk2gram', 'sp_sk3gram', 'sp_sk4gram', 'sp_sk5gram' ]\n",
    "sp_term_type   = sp_term_types[3]\n",
    "print(f\"sp_term_type: {sp_term_type}\")\n",
    "\n",
    "## set sound term_type\n",
    "sn_term_types = [ 'sn_1gram',\n",
    "                 'sn_2gram', 'sn_3gram', 'sn_4gram', 'sn_5gram',\n",
    "                 'sn_sk2gram', 'sn_sk3gram', 'sn_sk4gram', 'sn_sk5gram' ]\n",
    "sn_term_type = sn_term_types[3]\n",
    "print(f\"sn_term_type: {sn_term_type}\")"
   ]
  },
  {
   "cell_type": "code",
   "execution_count": 127,
   "id": "c2d56fdd",
   "metadata": {},
   "outputs": [],
   "source": [
    "## term filtering: some combinations cause \"Not all rows sum to 1\" error with HDP, but no with LDA\n",
    "apply_term_freq_filtering  = True\n",
    "term_minfreq               = 3 # Effective for speeding up\n",
    "apply_term_abuse_filtering = True\n",
    "term_abuse_threshold       = 0.1 # Larger values reveal deeper; 0.006 seems to be the smallest"
   ]
  },
  {
   "cell_type": "code",
   "execution_count": 128,
   "id": "536120cb",
   "metadata": {},
   "outputs": [
    {
     "name": "stdout",
     "output_type": "stream",
     "text": [
      "method_name: HDP\n",
      "max_n_topics for HDP: 45\n",
      "n_topics for LDA: 45\n",
      "top_perplexity_reduct_rate: 0.33\n"
     ]
    }
   ],
   "source": [
    "## select HDP or LDA: HDP takes considerably longer than LDA,\n",
    "## and is susceptible with \"Not all rows sum to 1\" error at pyLDAvis\n",
    "## HDP\n",
    "use_HDP         = True\n",
    "max_n_topics    = 45\n",
    "n_terms_to_show = 120\n",
    "\n",
    "## LDA\n",
    "n_topics  = max_n_topics # 精度にはあまり影響しない？\n",
    "if use_HDP:\n",
    "    method_name  = \"HDP\" # non-executive variable to be used in file names\n",
    "else:\n",
    "    method_name  = \"LDA\"\n",
    "\n",
    "## tSNE\n",
    "top_perplexity_reduct_rate = 0.33\n",
    "##\n",
    "print(f\"method_name: {method_name}\")\n",
    "print(f\"max_n_topics for HDP: {max_n_topics}\")\n",
    "print(f\"n_topics for LDA: {n_topics}\")\n",
    "print(f\"top_perplexity_reduct_rate: {top_perplexity_reduct_rate}\")"
   ]
  },
  {
   "cell_type": "code",
   "execution_count": 129,
   "id": "b88ae1c3-fd5d-4efe-ab39-45a8d4a9d786",
   "metadata": {},
   "outputs": [
    {
     "data": {
      "text/plain": [
       "['data/open-dict-ipa/data1/yue.csv.gz',\n",
       " 'data/open-dict-ipa/data1/vi_S.csv.gz',\n",
       " 'data/open-dict-ipa/data1/de.csv.gz',\n",
       " 'data/open-dict-ipa/data1/jam.csv.gz',\n",
       " 'data/open-dict-ipa/data1/fa.csv.gz',\n",
       " 'data/open-dict-ipa/data1/zh_hant.csv.gz',\n",
       " 'data/open-dict-ipa/data1/sw.csv.gz',\n",
       " 'data/open-dict-ipa/data1/ar.csv.gz',\n",
       " 'data/open-dict-ipa/data1/es_MX.csv.gz',\n",
       " 'data/open-dict-ipa/data1/vi_C.csv.gz',\n",
       " 'data/open-dict-ipa/data1/ma.csv.gz',\n",
       " 'data/open-dict-ipa/data1/fi.csv.gz',\n",
       " 'data/open-dict-ipa/data1/eo.csv.gz',\n",
       " 'data/open-dict-ipa/data1/fr_QC.csv.gz',\n",
       " 'data/open-dict-ipa/data1/es_ES.csv.gz',\n",
       " 'data/open-dict-ipa/data1/en_US.csv.gz',\n",
       " 'data/open-dict-ipa/data1/en_UK.csv.gz',\n",
       " 'data/open-dict-ipa/data1/nb.csv.gz',\n",
       " 'data/open-dict-ipa/data1/nl.csv.gz',\n",
       " 'data/open-dict-ipa/data1/sv.csv.gz',\n",
       " 'data/open-dict-ipa/data1/or.csv.gz',\n",
       " 'data/open-dict-ipa/data1/zh_hans.csv.gz',\n",
       " 'data/open-dict-ipa/data1/fr_FR.csv.gz',\n",
       " 'data/open-dict-ipa/data1/vi_N.csv.gz',\n",
       " 'data/open-dict-ipa/data1/ja.csv.gz',\n",
       " 'data/open-dict-ipa/data1/is.csv.gz',\n",
       " 'data/open-dict-ipa/data1a/de_N_only.csv.gz',\n",
       " 'data/open-dict-ipa/data1a/de_non_N_only.csv.gz']"
      ]
     },
     "execution_count": 129,
     "metadata": {},
     "output_type": "execute_result"
    }
   ],
   "source": [
    "## get data\n",
    "import glob\n",
    "data_dir1 = \"data/open-dict-ipa/data1\"\n",
    "data_dir2 = \"data/open-dict-ipa/data1a\"\n",
    "files = [ ]\n",
    "for dir in [ data_dir1, data_dir2 ]:\n",
    "    gz_files = glob.glob(f\"{dir}/*.gz\")\n",
    "    files.extend(gz_files)\n",
    "    csv_files = glob.glob(f\"{dir}/*.csv\")\n",
    "    files.extend(csv_files)\n",
    "    txt_files = glob.glob(f\"{data_dir2}/*.txt\")\n",
    "    files.extend(txt_files)\n",
    "#\n",
    "files"
   ]
  },
  {
   "cell_type": "code",
   "execution_count": 130,
   "id": "f508682d",
   "metadata": {},
   "outputs": [
    {
     "name": "stdout",
     "output_type": "stream",
     "text": [
      "lang_name: French () [lang_key: fr]\n",
      "['data/open-dict-ipa/data1/fr_QC.csv.gz', 'data/open-dict-ipa/data1/fr_FR.csv.gz']\n"
     ]
    }
   ],
   "source": [
    "## select language and file\n",
    "lang_names = {  'ar' : 'Arabic',  # 0\n",
    "                'de' : 'German',  # 1\n",
    "                'en' : 'English', # 2\n",
    "                'es' : 'Spanish', # 3\n",
    "                'fr' : 'French',  # 4\n",
    "                'sw' : 'Swahili'  # 5\n",
    "            }\n",
    "#\n",
    "lang_keys = [ 'ar', 'de', 'en', 'es', 'fr', 'sw' ]\n",
    "#\n",
    "lang_key  = lang_keys[4]\n",
    "lang_name = lang_names[lang_key]\n",
    "lang_attr = \"\"\n",
    "print(f\"lang_name: {lang_name} ({lang_attr}) [lang_key: {lang_key}]\")\n",
    "# aliases\n",
    "target_lang_dict = lang_names\n",
    "target_lang_keys = lang_keys\n",
    "target_lang_key  = lang_key\n",
    "target_lang_attr = lang_attr\n",
    "#\n",
    "files = [ file for file in files if f\"/{lang_key}\" in file ]\n",
    "print(files)\n",
    "if len(lang_attr) > 0:\n",
    "    print(f\"lang_attr: {lang_attr}\")\n",
    "    selected_files = [ file for file in files if lang_attr in file ]\n",
    "else:\n",
    "    selected_files = files\n",
    "selected_files\n",
    "if len(selected_files) == 0:\n",
    "    exit()"
   ]
  },
  {
   "cell_type": "code",
   "execution_count": 131,
   "id": "97086ae0-f619-46dc-932a-383d22e797f1",
   "metadata": {},
   "outputs": [
    {
     "data": {
      "text/html": [
       "<div>\n",
       "<style scoped>\n",
       "    .dataframe tbody tr th:only-of-type {\n",
       "        vertical-align: middle;\n",
       "    }\n",
       "\n",
       "    .dataframe tbody tr th {\n",
       "        vertical-align: top;\n",
       "    }\n",
       "\n",
       "    .dataframe thead th {\n",
       "        text-align: right;\n",
       "    }\n",
       "</style>\n",
       "<table border=\"1\" class=\"dataframe\">\n",
       "  <thead>\n",
       "    <tr style=\"text-align: right;\">\n",
       "      <th></th>\n",
       "      <th>sp_word</th>\n",
       "      <th>sn_word</th>\n",
       "    </tr>\n",
       "  </thead>\n",
       "  <tbody>\n",
       "    <tr>\n",
       "      <th>0</th>\n",
       "      <td>a</td>\n",
       "      <td>/a/</td>\n",
       "    </tr>\n",
       "    <tr>\n",
       "      <th>1</th>\n",
       "      <td>A</td>\n",
       "      <td>/a/</td>\n",
       "    </tr>\n",
       "    <tr>\n",
       "      <th>2</th>\n",
       "      <td>à</td>\n",
       "      <td>/a/</td>\n",
       "    </tr>\n",
       "    <tr>\n",
       "      <th>3</th>\n",
       "      <td>à aucun moment</td>\n",
       "      <td>/aokœ̃˞mɑɔ̯mæ̃/</td>\n",
       "    </tr>\n",
       "    <tr>\n",
       "      <th>4</th>\n",
       "      <td>à aucun prix</td>\n",
       "      <td>/aokœ̃˞pʁi/</td>\n",
       "    </tr>\n",
       "    <tr>\n",
       "      <th>...</th>\n",
       "      <td>...</td>\n",
       "      <td>...</td>\n",
       "    </tr>\n",
       "    <tr>\n",
       "      <th>245953</th>\n",
       "      <td>zyeutons</td>\n",
       "      <td>/zjøtõũ̯/</td>\n",
       "    </tr>\n",
       "    <tr>\n",
       "      <th>245954</th>\n",
       "      <td>zygomatique</td>\n",
       "      <td>/zɪgɑɔ̯mat͡sɪk/</td>\n",
       "    </tr>\n",
       "    <tr>\n",
       "      <th>245955</th>\n",
       "      <td>zygomatiques</td>\n",
       "      <td>/zɪgɑɔ̯mat͡sɪk/</td>\n",
       "    </tr>\n",
       "    <tr>\n",
       "      <th>245956</th>\n",
       "      <td>zygote</td>\n",
       "      <td>/zɪgɑɔ̯t/</td>\n",
       "    </tr>\n",
       "    <tr>\n",
       "      <th>245957</th>\n",
       "      <td>zygotes</td>\n",
       "      <td>/zɪgɑɔ̯t/</td>\n",
       "    </tr>\n",
       "  </tbody>\n",
       "</table>\n",
       "<p>245958 rows × 2 columns</p>\n",
       "</div>"
      ],
      "text/plain": [
       "               sp_word          sn_word\n",
       "0                    a              /a/\n",
       "1                    A              /a/\n",
       "2                    à              /a/\n",
       "3       à aucun moment  /aokœ̃˞mɑɔ̯mæ̃/\n",
       "4         à aucun prix      /aokœ̃˞pʁi/\n",
       "...                ...              ...\n",
       "245953        zyeutons        /zjøtõũ̯/\n",
       "245954     zygomatique  /zɪgɑɔ̯mat͡sɪk/\n",
       "245955    zygomatiques  /zɪgɑɔ̯mat͡sɪk/\n",
       "245956          zygote        /zɪgɑɔ̯t/\n",
       "245957         zygotes        /zɪgɑɔ̯t/\n",
       "\n",
       "[245958 rows x 2 columns]"
      ]
     },
     "execution_count": 131,
     "metadata": {},
     "output_type": "execute_result"
    }
   ],
   "source": [
    "## build data from files\n",
    "import re, unicodedata\n",
    "import pandas as pd\n",
    "check = False\n",
    "target_file = selected_files[0]\n",
    "col_names = [ 'sp_word', 'sn_word' ]\n",
    "if target_file.endswith(\".gz\"):\n",
    "    with gzip.open(target_file, \"rt\") as f:\n",
    "        raw_df = pd.read_csv(f, encoding = 'utf8', header = None, names = col_names )\n",
    "else:\n",
    "    with open(target_file, \"rt\") as f:\n",
    "        raw_df = pd.read_csv(f, encoding = 'utf8', header = None, names = col_names )\n",
    "#\n",
    "raw_df"
   ]
  },
  {
   "cell_type": "code",
   "execution_count": 132,
   "id": "83365b9b",
   "metadata": {},
   "outputs": [
    {
     "data": {
      "text/html": [
       "<div>\n",
       "<style scoped>\n",
       "    .dataframe tbody tr th:only-of-type {\n",
       "        vertical-align: middle;\n",
       "    }\n",
       "\n",
       "    .dataframe tbody tr th {\n",
       "        vertical-align: top;\n",
       "    }\n",
       "\n",
       "    .dataframe thead th {\n",
       "        text-align: right;\n",
       "    }\n",
       "</style>\n",
       "<table border=\"1\" class=\"dataframe\">\n",
       "  <thead>\n",
       "    <tr style=\"text-align: right;\">\n",
       "      <th></th>\n",
       "      <th>sp_word</th>\n",
       "      <th>sn_word</th>\n",
       "    </tr>\n",
       "  </thead>\n",
       "  <tbody>\n",
       "    <tr>\n",
       "      <th>0</th>\n",
       "      <td>a</td>\n",
       "      <td>a</td>\n",
       "    </tr>\n",
       "    <tr>\n",
       "      <th>1</th>\n",
       "      <td>a</td>\n",
       "      <td>a</td>\n",
       "    </tr>\n",
       "    <tr>\n",
       "      <th>2</th>\n",
       "      <td>à</td>\n",
       "      <td>a</td>\n",
       "    </tr>\n",
       "    <tr>\n",
       "      <th>3</th>\n",
       "      <td>à aucun moment</td>\n",
       "      <td>aokœ̃˞mɑɔ̯mæ̃</td>\n",
       "    </tr>\n",
       "    <tr>\n",
       "      <th>4</th>\n",
       "      <td>à aucun prix</td>\n",
       "      <td>aokœ̃˞pʁi</td>\n",
       "    </tr>\n",
       "    <tr>\n",
       "      <th>...</th>\n",
       "      <td>...</td>\n",
       "      <td>...</td>\n",
       "    </tr>\n",
       "    <tr>\n",
       "      <th>245953</th>\n",
       "      <td>zyeutons</td>\n",
       "      <td>zjøtõũ̯</td>\n",
       "    </tr>\n",
       "    <tr>\n",
       "      <th>245954</th>\n",
       "      <td>zygomatique</td>\n",
       "      <td>zɪgɑɔ̯mat͡sɪk</td>\n",
       "    </tr>\n",
       "    <tr>\n",
       "      <th>245955</th>\n",
       "      <td>zygomatiques</td>\n",
       "      <td>zɪgɑɔ̯mat͡sɪk</td>\n",
       "    </tr>\n",
       "    <tr>\n",
       "      <th>245956</th>\n",
       "      <td>zygote</td>\n",
       "      <td>zɪgɑɔ̯t</td>\n",
       "    </tr>\n",
       "    <tr>\n",
       "      <th>245957</th>\n",
       "      <td>zygotes</td>\n",
       "      <td>zɪgɑɔ̯t</td>\n",
       "    </tr>\n",
       "  </tbody>\n",
       "</table>\n",
       "<p>245958 rows × 2 columns</p>\n",
       "</div>"
      ],
      "text/plain": [
       "               sp_word        sn_word\n",
       "0                    a              a\n",
       "1                    a              a\n",
       "2                    à              a\n",
       "3       à aucun moment  aokœ̃˞mɑɔ̯mæ̃\n",
       "4         à aucun prix      aokœ̃˞pʁi\n",
       "...                ...            ...\n",
       "245953        zyeutons        zjøtõũ̯\n",
       "245954     zygomatique  zɪgɑɔ̯mat͡sɪk\n",
       "245955    zygomatiques  zɪgɑɔ̯mat͡sɪk\n",
       "245956          zygote        zɪgɑɔ̯t\n",
       "245957         zygotes        zɪgɑɔ̯t\n",
       "\n",
       "[245958 rows x 2 columns]"
      ]
     },
     "execution_count": 132,
     "metadata": {},
     "output_type": "execute_result"
    }
   ],
   "source": [
    "## modify spell\n",
    "raw_df['sp_word'] = raw_df['sp_word'].apply(lambda x: unicodedata.normalize('NFC', str(x)))\n",
    "if lower_chars:\n",
    "    raw_df['sp_word'] = raw_df['sp_word'].apply(lambda x: x.lower())\n",
    "\n",
    "## modify sound symbols\n",
    "raw_df['sn_word'] = raw_df['sn_word'].apply(lambda x: unicodedata.normalize('NFC', str(x)))\n",
    "raw_df['sn_word'] = raw_df['sn_word'].apply(lambda x: re.sub(r\"/\", \"\", x))\n",
    "raw_df['sn_word'] = raw_df['sn_word'].apply(lambda x: x.split(\",\")[0]) # pick up only the first\n",
    "if strip_accents:\n",
    "    raw_df['sn_word'] = raw_df['sn_word'].apply(lambda x: re.sub(r'\"', \"\", x))\n",
    "    raw_df['sn_word'] = raw_df['sn_word'].apply(lambda x: re.sub(r\"[ˈˌ]\", \"\", x))\n",
    "#\n",
    "raw_df"
   ]
  },
  {
   "cell_type": "code",
   "execution_count": 133,
   "id": "81bbbea3",
   "metadata": {},
   "outputs": [
    {
     "data": {
      "text/html": [
       "<div>\n",
       "<style scoped>\n",
       "    .dataframe tbody tr th:only-of-type {\n",
       "        vertical-align: middle;\n",
       "    }\n",
       "\n",
       "    .dataframe tbody tr th {\n",
       "        vertical-align: top;\n",
       "    }\n",
       "\n",
       "    .dataframe thead th {\n",
       "        text-align: right;\n",
       "    }\n",
       "</style>\n",
       "<table border=\"1\" class=\"dataframe\">\n",
       "  <thead>\n",
       "    <tr style=\"text-align: right;\">\n",
       "      <th></th>\n",
       "      <th>did</th>\n",
       "      <th>sid</th>\n",
       "      <th>sp_word</th>\n",
       "      <th>sn_word</th>\n",
       "    </tr>\n",
       "  </thead>\n",
       "  <tbody>\n",
       "    <tr>\n",
       "      <th>0</th>\n",
       "      <td>1</td>\n",
       "      <td>1</td>\n",
       "      <td>a</td>\n",
       "      <td>a</td>\n",
       "    </tr>\n",
       "    <tr>\n",
       "      <th>1</th>\n",
       "      <td>2</td>\n",
       "      <td>2</td>\n",
       "      <td>a</td>\n",
       "      <td>a</td>\n",
       "    </tr>\n",
       "    <tr>\n",
       "      <th>2</th>\n",
       "      <td>3</td>\n",
       "      <td>3</td>\n",
       "      <td>à</td>\n",
       "      <td>a</td>\n",
       "    </tr>\n",
       "    <tr>\n",
       "      <th>3</th>\n",
       "      <td>4</td>\n",
       "      <td>4</td>\n",
       "      <td>à aucun moment</td>\n",
       "      <td>aokœ̃˞mɑɔ̯mæ̃</td>\n",
       "    </tr>\n",
       "    <tr>\n",
       "      <th>4</th>\n",
       "      <td>5</td>\n",
       "      <td>5</td>\n",
       "      <td>à aucun prix</td>\n",
       "      <td>aokœ̃˞pʁi</td>\n",
       "    </tr>\n",
       "    <tr>\n",
       "      <th>...</th>\n",
       "      <td>...</td>\n",
       "      <td>...</td>\n",
       "      <td>...</td>\n",
       "      <td>...</td>\n",
       "    </tr>\n",
       "    <tr>\n",
       "      <th>245953</th>\n",
       "      <td>245954</td>\n",
       "      <td>245954</td>\n",
       "      <td>zyeutons</td>\n",
       "      <td>zjøtõũ̯</td>\n",
       "    </tr>\n",
       "    <tr>\n",
       "      <th>245954</th>\n",
       "      <td>245955</td>\n",
       "      <td>245955</td>\n",
       "      <td>zygomatique</td>\n",
       "      <td>zɪgɑɔ̯mat͡sɪk</td>\n",
       "    </tr>\n",
       "    <tr>\n",
       "      <th>245955</th>\n",
       "      <td>245956</td>\n",
       "      <td>245956</td>\n",
       "      <td>zygomatiques</td>\n",
       "      <td>zɪgɑɔ̯mat͡sɪk</td>\n",
       "    </tr>\n",
       "    <tr>\n",
       "      <th>245956</th>\n",
       "      <td>245957</td>\n",
       "      <td>245957</td>\n",
       "      <td>zygote</td>\n",
       "      <td>zɪgɑɔ̯t</td>\n",
       "    </tr>\n",
       "    <tr>\n",
       "      <th>245957</th>\n",
       "      <td>245958</td>\n",
       "      <td>245958</td>\n",
       "      <td>zygotes</td>\n",
       "      <td>zɪgɑɔ̯t</td>\n",
       "    </tr>\n",
       "  </tbody>\n",
       "</table>\n",
       "<p>245958 rows × 4 columns</p>\n",
       "</div>"
      ],
      "text/plain": [
       "           did     sid         sp_word        sn_word\n",
       "0            1       1               a              a\n",
       "1            2       2               a              a\n",
       "2            3       3               à              a\n",
       "3            4       4  à aucun moment  aokœ̃˞mɑɔ̯mæ̃\n",
       "4            5       5    à aucun prix      aokœ̃˞pʁi\n",
       "...        ...     ...             ...            ...\n",
       "245953  245954  245954        zyeutons        zjøtõũ̯\n",
       "245954  245955  245955     zygomatique  zɪgɑɔ̯mat͡sɪk\n",
       "245955  245956  245956    zygomatiques  zɪgɑɔ̯mat͡sɪk\n",
       "245956  245957  245957          zygote        zɪgɑɔ̯t\n",
       "245957  245958  245958         zygotes        zɪgɑɔ̯t\n",
       "\n",
       "[245958 rows x 4 columns]"
      ]
     },
     "execution_count": 133,
     "metadata": {},
     "output_type": "execute_result"
    }
   ],
   "source": [
    "## build df\n",
    "dids = [ ]\n",
    "sids = [ ]\n",
    "Spells = [ ]\n",
    "Sounds = [ ]\n",
    "for i, row in raw_df.iterrows():\n",
    "    spell = row['sp_word']\n",
    "    sound = row['sn_word']\n",
    "    if len(spell) > 0 and len(sound) > 0:\n",
    "        dids.append(i + 1)\n",
    "        sids.append(i + 1)\n",
    "        Spells.append(spell)\n",
    "        Sounds.append(sound)\n",
    "#\n",
    "var_names = [ 'did', 'sid', 'sp_word', 'sn_word',\n",
    "            'sp_size', 'sn_size', 'paired_terms', \n",
    "            'sp_1gram', 'sp_2gram', 'sp_3gram',\n",
    "            'sp_sk2gram', 'sp_sk3gram',\n",
    "            'sn_1gram', 'sn_2gram', 'sn_3gram', \n",
    "            'sn_sk2gram', 'sn_sk3gram' ]\n",
    "df = pd.DataFrame()\n",
    "df['did'] = dids\n",
    "df['sid'] = sids\n",
    "df['sp_word'] = Spells\n",
    "df['sn_word'] = Sounds\n",
    "#\n",
    "df[var_names[:4]]"
   ]
  },
  {
   "cell_type": "code",
   "execution_count": 134,
   "id": "fa5d409e-d2ae-4c3a-9fac-e4b646682d77",
   "metadata": {},
   "outputs": [
    {
     "name": "stdout",
     "output_type": "stream",
     "text": [
      "sampled 7379 (0.030) rows by discarding 238579 rows\n"
     ]
    }
   ],
   "source": [
    "## sampling\n",
    "if source_sampling:\n",
    "    original_size = len(df)\n",
    "    sample_size = round(len(df) * source_sampling_rate)\n",
    "    df = df.sample(sample_size)\n",
    "    print(f\"sampled {len(df)} ({source_sampling_rate:0.3f}) rows by discarding {original_size - len(df)} rows\")"
   ]
  },
  {
   "cell_type": "code",
   "execution_count": 135,
   "id": "5aa50f78-ca51-45b7-85a5-68b9ab978bcf",
   "metadata": {},
   "outputs": [],
   "source": [
    "## tokenization\n",
    "import gzip, re\n",
    "import pandas as pd\n",
    "check = False\n",
    "Snx = [ ]\n",
    "Spx = [ ]\n",
    "for i, row in df.iterrows():\n",
    "    Spt = row['sp_word']\n",
    "    Snt = row['sn_word']\n",
    "    split_pattern = r\"\"\n",
    "    ## Spell\n",
    "    sp_seg = [ x for x in re.split(split_pattern, Spt) if len(x) > 0 ]\n",
    "    if check:\n",
    "        print(sp_seg)\n",
    "    Spx.append(sp_seg)\n",
    "    ## Sound\n",
    "    sn_seg = [ x for x in re.split(split_pattern, Snt) if len(x) > 0 ]\n",
    "    if check:\n",
    "        print(sn_seg)\n",
    "    Snx.append(sn_seg)\n",
    "## Spell\n",
    "try:\n",
    "    df['sp_1gram'] = Spx\n",
    "except ValueError:\n",
    "    pass\n",
    "## Sound\n",
    "try:\n",
    "    df['sn_1gram'] = Snx\n",
    "except ValueError:\n",
    "    pass\n",
    "## check result\n",
    "if verbose:\n",
    "    df"
   ]
  },
  {
   "cell_type": "code",
   "execution_count": 136,
   "id": "756e28b8-e393-4e0f-a890-b73df31b846f",
   "metadata": {},
   "outputs": [],
   "source": [
    "## add size columns\n",
    "df['sp_size'] = df['sp_1gram'].apply(lambda x: len(x))\n",
    "df['sn_size'] = df['sn_1gram'].apply(lambda x: len(x))\n",
    "if verbose:\n",
    "    df"
   ]
  },
  {
   "cell_type": "code",
   "execution_count": 137,
   "id": "1b7f1f94-aed4-4a66-b5fd-9347a4c9700d",
   "metadata": {},
   "outputs": [
    {
     "data": {
      "image/png": "[encoded data removed]",
      "text/plain": [
       "<Figure size 640x480 with 1 Axes>"
      ]
     },
     "metadata": {},
     "output_type": "display_data"
    }
   ],
   "source": [
    "## 語の綴り文字数の分布\n",
    "import matplotlib.pyplot as plt\n",
    "plt.hist(df['sp_size'], bins = 20)\n",
    "plt.title(f\"Distribution of counts in spell\")\n",
    "plt.show()"
   ]
  },
  {
   "cell_type": "code",
   "execution_count": 138,
   "id": "4149bba3",
   "metadata": {},
   "outputs": [
    {
     "data": {
      "image/png": "[encoded data removed]",
      "text/plain": [
       "<Figure size 640x480 with 1 Axes>"
      ]
     },
     "metadata": {},
     "output_type": "display_data"
    }
   ],
   "source": [
    "## 語の発音記号数の分布\n",
    "import matplotlib.pyplot as plt\n",
    "plt.hist(df['sn_size'], bins = 20)\n",
    "plt.title(f\"Distribution of counts in sound\")\n",
    "plt.show()"
   ]
  },
  {
   "cell_type": "markdown",
   "id": "a39fc02b",
   "metadata": {},
   "source": [
    "# build terms, part 1"
   ]
  },
  {
   "cell_type": "code",
   "execution_count": 139,
   "id": "ecb048dc-7b78-46f9-80ef-5de9bff36232",
   "metadata": {
    "tags": [
     "Filtering by doc length"
    ]
   },
   "outputs": [
    {
     "name": "stdout",
     "output_type": "stream",
     "text": [
      "discarding pairs whose sn_size part has less than 4 chars\n",
      "discarding pairs whose sn_size part has more than 10 chars\n",
      "2878 (0.390) pairs were removed\n",
      "4501 pairs remain\n"
     ]
    }
   ],
   "source": [
    "## 長さで濾過\n",
    "original_size = len(df)\n",
    "print(f\"discarding pairs whose {size_measure} part has less than {min_doc_size} chars\")\n",
    "df = df[df[size_measure] >= min_doc_size]\n",
    "\n",
    "print(f\"discarding pairs whose {size_measure} part has more than {max_doc_size} chars\")\n",
    "df = df[df[size_measure] < max_doc_size]\n",
    "\n",
    "current_size = len(df)\n",
    "size_diff = original_size - current_size\n",
    "print(f\"{size_diff} ({size_diff/original_size:.3f}) pairs were removed\")\n",
    "print(f\"{current_size} pairs remain\")"
   ]
  },
  {
   "cell_type": "code",
   "execution_count": 140,
   "id": "ff957230",
   "metadata": {},
   "outputs": [],
   "source": [
    "## add boundaries\n",
    "if add_boundaries:\n",
    "    df['sp_word'] = df['sp_word'].apply(lambda x: f\"{boundary_symbol}{x}{boundary_symbol}\")\n",
    "    df['sn_word'] = df['sn_word'].apply(lambda x: f\"{boundary_symbol}{x}{boundary_symbol}\")\n",
    "    df[['sp_word', 'sn_word']]"
   ]
  },
  {
   "cell_type": "code",
   "execution_count": 141,
   "id": "d2915632",
   "metadata": {},
   "outputs": [
    {
     "data": {
      "text/html": [
       "<div>\n",
       "<style scoped>\n",
       "    .dataframe tbody tr th:only-of-type {\n",
       "        vertical-align: middle;\n",
       "    }\n",
       "\n",
       "    .dataframe tbody tr th {\n",
       "        vertical-align: top;\n",
       "    }\n",
       "\n",
       "    .dataframe thead th {\n",
       "        text-align: right;\n",
       "    }\n",
       "</style>\n",
       "<table border=\"1\" class=\"dataframe\">\n",
       "  <thead>\n",
       "    <tr style=\"text-align: right;\">\n",
       "      <th></th>\n",
       "      <th>sp_1gram</th>\n",
       "      <th>sn_1gram</th>\n",
       "    </tr>\n",
       "  </thead>\n",
       "  <tbody>\n",
       "    <tr>\n",
       "      <th>22109</th>\n",
       "      <td>[#, b, a, s, s, e, m, e, n, t, #]</td>\n",
       "      <td>[#, b, a, s, m, æ, ̃, #]</td>\n",
       "    </tr>\n",
       "    <tr>\n",
       "      <th>163768</th>\n",
       "      <td>[#, o, r, t, i, e, #]</td>\n",
       "      <td>[#, ɑ, ɔ, ̯, ʁ, t, ͡, s, i, #]</td>\n",
       "    </tr>\n",
       "    <tr>\n",
       "      <th>77631</th>\n",
       "      <td>[#, d, é, t, a, l, e, r, a, i, t, #]</td>\n",
       "      <td>[#, d, e, t, a, l, ə, ʁ, a, #]</td>\n",
       "    </tr>\n",
       "    <tr>\n",
       "      <th>332</th>\n",
       "      <td>[#, a, b, a, t, t, e, s, #]</td>\n",
       "      <td>[#, a, b, a, t, #]</td>\n",
       "    </tr>\n",
       "    <tr>\n",
       "      <th>196052</th>\n",
       "      <td>[#, r, e, f, l, e, u, r, i, r, a, s, #]</td>\n",
       "      <td>[#, ʁ, ə, f, l, œ, ʁ, ɪ, ʁ, ɔ, #]</td>\n",
       "    </tr>\n",
       "    <tr>\n",
       "      <th>...</th>\n",
       "      <td>...</td>\n",
       "      <td>...</td>\n",
       "    </tr>\n",
       "    <tr>\n",
       "      <th>195204</th>\n",
       "      <td>[#, r, e, d, o, u, t, a, i, t, #]</td>\n",
       "      <td>[#, ʁ, ə, d, ʊ, t, a, #]</td>\n",
       "    </tr>\n",
       "    <tr>\n",
       "      <th>181227</th>\n",
       "      <td>[#, p, r, é, s, e, n, t, a, #]</td>\n",
       "      <td>[#, p, ʁ, e, z, ɑ, ̃, t, ɔ, #]</td>\n",
       "    </tr>\n",
       "    <tr>\n",
       "      <th>45611</th>\n",
       "      <td>[#, c, o, m, m, u, n, i, a, i, #]</td>\n",
       "      <td>[#, k, ɑ, ɔ, ̯, m, ʏ, n, j, a, #]</td>\n",
       "    </tr>\n",
       "    <tr>\n",
       "      <th>227062</th>\n",
       "      <td>[#, s, u, s, p, e, c, t, a, i, t, #]</td>\n",
       "      <td>[#, s, ʏ, s, p, a, k, t, a, #]</td>\n",
       "    </tr>\n",
       "    <tr>\n",
       "      <th>142099</th>\n",
       "      <td>[#, l, a, m, p, a, #]</td>\n",
       "      <td>[#, l, ɑ, ̃, p, ɔ, #]</td>\n",
       "    </tr>\n",
       "  </tbody>\n",
       "</table>\n",
       "<p>4501 rows × 2 columns</p>\n",
       "</div>"
      ],
      "text/plain": [
       "                                       sp_1gram  \\\n",
       "22109         [#, b, a, s, s, e, m, e, n, t, #]   \n",
       "163768                    [#, o, r, t, i, e, #]   \n",
       "77631      [#, d, é, t, a, l, e, r, a, i, t, #]   \n",
       "332                 [#, a, b, a, t, t, e, s, #]   \n",
       "196052  [#, r, e, f, l, e, u, r, i, r, a, s, #]   \n",
       "...                                         ...   \n",
       "195204        [#, r, e, d, o, u, t, a, i, t, #]   \n",
       "181227           [#, p, r, é, s, e, n, t, a, #]   \n",
       "45611         [#, c, o, m, m, u, n, i, a, i, #]   \n",
       "227062     [#, s, u, s, p, e, c, t, a, i, t, #]   \n",
       "142099                    [#, l, a, m, p, a, #]   \n",
       "\n",
       "                                 sn_1gram  \n",
       "22109            [#, b, a, s, m, æ, ̃, #]  \n",
       "163768     [#, ɑ, ɔ, ̯, ʁ, t, ͡, s, i, #]  \n",
       "77631      [#, d, e, t, a, l, ə, ʁ, a, #]  \n",
       "332                    [#, a, b, a, t, #]  \n",
       "196052  [#, ʁ, ə, f, l, œ, ʁ, ɪ, ʁ, ɔ, #]  \n",
       "...                                   ...  \n",
       "195204           [#, ʁ, ə, d, ʊ, t, a, #]  \n",
       "181227     [#, p, ʁ, e, z, ɑ, ̃, t, ɔ, #]  \n",
       "45611   [#, k, ɑ, ɔ, ̯, m, ʏ, n, j, a, #]  \n",
       "227062     [#, s, ʏ, s, p, a, k, t, a, #]  \n",
       "142099              [#, l, ɑ, ̃, p, ɔ, #]  \n",
       "\n",
       "[4501 rows x 2 columns]"
      ]
     },
     "execution_count": 141,
     "metadata": {},
     "output_type": "execute_result"
    }
   ],
   "source": [
    "## add 1gram\n",
    "import re\n",
    "w_splitter = r\"\"\n",
    "df['sp_1gram'] = [ [ x for x in re.split(w_splitter, w) if len(x) > 0 ] for w in df['sp_word'] ]\n",
    "df['sn_1gram'] = [ [ x for x in re.split(w_splitter, w) if len(x) > 0 ] for w in df['sn_word'] ]\n",
    "df[['sp_1gram', 'sn_1gram']]"
   ]
  },
  {
   "cell_type": "code",
   "execution_count": 142,
   "id": "9c4dcbd7-8763-42cf-92a9-b8b0ff711602",
   "metadata": {},
   "outputs": [
    {
     "data": {
      "text/plain": [
       "[('#', 9002),\n",
       " ('e', 4704),\n",
       " ('a', 3953),\n",
       " ('s', 3951),\n",
       " ('r', 3351),\n",
       " ('i', 3284),\n",
       " ('t', 2646),\n",
       " ('n', 2497),\n",
       " ('u', 1630),\n",
       " ('o', 1608)]"
      ]
     },
     "execution_count": 142,
     "metadata": {},
     "output_type": "execute_result"
    }
   ],
   "source": [
    "## inspect frequent tokens in sp_1gram\n",
    "from collections import Counter\n",
    "sp_chars_all = [ ] \n",
    "[ sp_chars_all.extend(list(x)) for x in df['sp_1gram'] ]\n",
    "sp_char_freqs = Counter(sp_chars_all)\n",
    "## Show most frequent 10 segments\n",
    "sｐ_char_freqs.most_common(10)"
   ]
  },
  {
   "cell_type": "code",
   "execution_count": 143,
   "id": "a8add992",
   "metadata": {},
   "outputs": [
    {
     "data": {
      "text/plain": [
       "[('#', 9002),\n",
       " ('a', 3980),\n",
       " ('ʁ', 3114),\n",
       " ('e', 2153),\n",
       " ('s', 1699),\n",
       " ('t', 1446),\n",
       " ('ɪ', 1278),\n",
       " ('̯', 1156),\n",
       " ('l', 1144),\n",
       " ('ɑ', 1066)]"
      ]
     },
     "execution_count": 143,
     "metadata": {},
     "output_type": "execute_result"
    }
   ],
   "source": [
    "## inspect frequent tokens in sn_1gram\n",
    "from collections import Counter\n",
    "sn_chars_all = [ ] \n",
    "[ sn_chars_all.extend(list(x)) for x in df['sn_1gram'] ]\n",
    "sn_char_freqs = Counter(sn_chars_all)\n",
    "## Show most frequent 10 segments\n",
    "sn_char_freqs.most_common(10)"
   ]
  },
  {
   "cell_type": "code",
   "execution_count": 144,
   "id": "bd49c4cc-4d7c-46e2-b3a0-3b29140a0fd9",
   "metadata": {},
   "outputs": [],
   "source": [
    "## Install nltk if necessary\n",
    "#!pip install -U nltk"
   ]
  },
  {
   "cell_type": "markdown",
   "id": "2c19a0e4",
   "metadata": {},
   "source": [
    "n-grams の構築"
   ]
  },
  {
   "cell_type": "code",
   "execution_count": 145,
   "id": "85034591",
   "metadata": {},
   "outputs": [],
   "source": [
    "def gen_ngrams_from_str(t: str, n: int, sep: str = r\"\", joint: str = \"\", check = False):\n",
    "    'returns the list of character n-grams from a given string'\n",
    "    import re\n",
    "    segs = [ x for x in re.split(sep, t) if len(x) > 0 ]\n",
    "    if check:\n",
    "        print(segs)\n",
    "    ## short input\n",
    "    if len(segs) <= n:\n",
    "        return segs\n",
    "    ## long enough input\n",
    "    G = [ ]\n",
    "    for i in range(len(segs)):\n",
    "        try:\n",
    "            b = segs[ i : i + n ]\n",
    "            if check:\n",
    "                print(b)\n",
    "            c = joint.join(b)\n",
    "            if check:\n",
    "                print(c)\n",
    "            if len(c) == n:\n",
    "                G.append(c)\n",
    "        except IndexError:\n",
    "            pass\n",
    "    return G"
   ]
  },
  {
   "cell_type": "code",
   "execution_count": 146,
   "id": "a202d751",
   "metadata": {},
   "outputs": [],
   "source": [
    "## generic n-gram generation function\n",
    "def add_ngrams(dfx, n_for_ngram: int, prefix: str = \"\", skippy: bool = False, skippiness_symbol: str = \"sk\", max_distance = None, seg_joint: str = \"\", gap_mark: str = \"…\", inclusive: bool = True, inclusion_degree = None, check: bool = False):\n",
    "    \"add ngram col to the dfx given\"\n",
    "    import gen_ngrams\n",
    "    ## set variable names\n",
    "    source_var_name = f\"{prefix}1gram\"\n",
    "    if skippy:\n",
    "        target_var_name  = f\"{prefix}{skippiness_symbol}{n_for_ngram}gram\"\n",
    "        if n_for_ngram == 2:\n",
    "            sub_var_name = f\"{prefix}{n_for_ngram - 1}gram\"\n",
    "        else:\n",
    "            sub_var_name = f\"{prefix}{skippiness_symbol}{n_for_ngram - 1}gram\"\n",
    "            \n",
    "    else:\n",
    "        target_var_name  = f\"{prefix}{n_for_ngram}gram\"\n",
    "        sub_var_name     = f\"{prefix}{n_for_ngram - 1}gram\"\n",
    "    if check:\n",
    "        print(f\"source_var_name: {source_var_name}\")\n",
    "        print(f\"target_var_name: {target_var_name}\")\n",
    "        print(f\"sub_var_name: {sub_var_name}\")\n",
    "        \n",
    "    ## 1gram\n",
    "    unigrams = dfx[source_var_name]\n",
    "    \n",
    "    ## ngram\n",
    "    pool = mp.Pool (processes = max(os.cpu_count() - 1, 1))\n",
    "    if skippy:\n",
    "        ngrams = [ gen_ngrams.gen_skippy_ngrams(g, n = n_for_ngram, sep = seg_joint, missing_mark = gap_mark, max_distance = max_distance, check = check) for g in unigrams ]\n",
    "    else:\n",
    "        ngrams = [ gen_ngrams.gen_ngrams(g, n = n_for_ngram, sep = seg_joint, check = check) for g in unigrams ]\n",
    "    \n",
    "    ## make ngrams inclusive\n",
    "    if inclusive:\n",
    "        sub_ngrams = list(dfx[sub_var_name])\n",
    "        if inclusion_degree is None:\n",
    "            for i, gram in enumerate(ngrams):\n",
    "                assert len(ngrams) == len(sub_ngrams)\n",
    "                supplement = sub_ngrams[i]\n",
    "                supplement = [ g for g in supplement if len(g) > 0 ]\n",
    "                if len(supplement) > 0:\n",
    "                    gram.extend(supplement)\n",
    "        else:\n",
    "            min_size = (n_for_ngram - inclusion_degree)\n",
    "            assert min_size >= 0\n",
    "            for i, gram in enumerate(ngrams):\n",
    "                assert len(ngrams) == len(sub_ngrams)\n",
    "                supplement = sub_ngrams[i]\n",
    "                supplement = [ g for g in supplement if len(g) >= min_size ]\n",
    "                if len(supplement) > 0:\n",
    "                    gram.extend(supplement)\n",
    "    ## update df\n",
    "    dfx[target_var_name] = ngrams\n",
    "    print(dfx[target_var_name])"
   ]
  },
  {
   "cell_type": "markdown",
   "id": "aa8e1371",
   "metadata": {},
   "source": [
    "# Spell n-grams 生成"
   ]
  },
  {
   "cell_type": "code",
   "execution_count": 147,
   "id": "53a99a97",
   "metadata": {},
   "outputs": [
    {
     "data": {
      "text/plain": [
       "Index(['did', 'sid', 'sp_word', 'sn_word', 'sp_1gram', 'sn_1gram', 'sp_size',\n",
       "       'sn_size'],\n",
       "      dtype='object')"
      ]
     },
     "execution_count": 147,
     "metadata": {},
     "output_type": "execute_result"
    }
   ],
   "source": [
    "df.columns\n",
    "#iter(df['sp_1gram'])"
   ]
  },
  {
   "cell_type": "code",
   "execution_count": 148,
   "id": "dd6de012",
   "metadata": {},
   "outputs": [
    {
     "name": "stdout",
     "output_type": "stream",
     "text": [
      "22109     [#b, ba, as, ss, se, em, me, en, nt, t#, #, b,...\n",
      "163768        [#o, or, rt, ti, ie, e#, #, o, r, t, i, e, #]\n",
      "77631     [#d, dé, ét, ta, al, le, er, ra, ai, it, t#, #...\n",
      "332       [#a, ab, ba, at, tt, te, es, s#, #, a, b, a, t...\n",
      "196052    [#r, re, ef, fl, le, eu, ur, ri, ir, ra, as, s...\n",
      "                                ...                        \n",
      "195204    [#r, re, ed, do, ou, ut, ta, ai, it, t#, #, r,...\n",
      "181227    [#p, pr, ré, és, se, en, nt, ta, a#, #, p, r, ...\n",
      "45611     [#c, co, om, mm, mu, un, ni, ia, ai, i#, #, c,...\n",
      "227062    [#s, su, us, sp, pe, ec, ct, ta, ai, it, t#, #...\n",
      "142099        [#l, la, am, mp, pa, a#, #, l, a, m, p, a, #]\n",
      "Name: sp_2gram, Length: 4501, dtype: object\n"
     ]
    }
   ],
   "source": [
    "## sp_2gram の追加\n",
    "add_ngrams(df, n_for_ngram = 2, prefix = \"sp_\", skippy = False, inclusive = True, inclusion_degree = inclusion_degree, check = False)"
   ]
  },
  {
   "cell_type": "code",
   "execution_count": 149,
   "id": "d9abc8d2",
   "metadata": {},
   "outputs": [
    {
     "name": "stdout",
     "output_type": "stream",
     "text": [
      "22109     [#ba, bas, ass, sse, sem, eme, men, ent, nt#, ...\n",
      "163768    [#or, ort, rti, tie, ie#, #o, or, rt, ti, ie, e#]\n",
      "77631     [#dé, dét, éta, tal, ale, ler, era, rai, ait, ...\n",
      "332       [#ab, aba, bat, att, tte, tes, es#, #a, ab, ba...\n",
      "196052    [#re, ref, efl, fle, leu, eur, uri, rir, ira, ...\n",
      "                                ...                        \n",
      "195204    [#re, red, edo, dou, out, uta, tai, ait, it#, ...\n",
      "181227    [#pr, pré, rés, ése, sen, ent, nta, ta#, #p, p...\n",
      "45611     [#co, com, omm, mmu, mun, uni, nia, iai, ai#, ...\n",
      "227062    [#su, sus, usp, spe, pec, ect, cta, tai, ait, ...\n",
      "142099    [#la, lam, amp, mpa, pa#, #l, la, am, mp, pa, a#]\n",
      "Name: sp_3gram, Length: 4501, dtype: object\n"
     ]
    }
   ],
   "source": [
    "## sp_3gram の追加\n",
    "add_ngrams(df, n_for_ngram = 3, prefix = \"sp_\", skippy = False, inclusive = True, inclusion_degree = inclusion_degree, check = False)"
   ]
  },
  {
   "cell_type": "code",
   "execution_count": 150,
   "id": "51e459f1",
   "metadata": {},
   "outputs": [
    {
     "name": "stdout",
     "output_type": "stream",
     "text": [
      "22109     [#bas, bass, asse, ssem, seme, emen, ment, ent...\n",
      "163768    [#ort, orti, rtie, tie#, #or, ort, rti, tie, ie#]\n",
      "77631     [#dét, déta, étal, tale, aler, lera, erai, rai...\n",
      "332       [#aba, abat, batt, atte, ttes, tes#, #ab, aba,...\n",
      "196052    [#ref, refl, efle, fleu, leur, euri, urir, rir...\n",
      "                                ...                        \n",
      "195204    [#red, redo, edou, dout, outa, utai, tait, ait...\n",
      "181227    [#pré, prés, rése, ésen, sent, enta, nta#, #pr...\n",
      "45611     [#com, comm, ommu, mmun, muni, unia, niai, iai...\n",
      "227062    [#sus, susp, uspe, spec, pect, ecta, ctai, tai...\n",
      "142099    [#lam, lamp, ampa, mpa#, #la, lam, amp, mpa, pa#]\n",
      "Name: sp_4gram, Length: 4501, dtype: object\n"
     ]
    }
   ],
   "source": [
    "## sp_4gram の追加\n",
    "add_ngrams(df, n_for_ngram = 4, prefix = \"sp_\", skippy = False, inclusive = True, inclusion_degree = inclusion_degree, check = False)"
   ]
  },
  {
   "cell_type": "code",
   "execution_count": 151,
   "id": "107fe329",
   "metadata": {},
   "outputs": [],
   "source": [
    "## sp_5gram の追加\n",
    "if \"5gram\" in sp_term_type:\n",
    "    add_ngrams(df, n_for_ngram = 5, prefix = \"sp_\", skippy = False, inclusive = True, inclusion_degree = inclusion_degree, check = False)"
   ]
  },
  {
   "cell_type": "code",
   "execution_count": 152,
   "id": "189db279",
   "metadata": {},
   "outputs": [
    {
     "name": "stdout",
     "output_type": "stream",
     "text": [
      "22109     [#b, #…a, #…s, #…s, ba, b…s, b…s, as, a…s, ss,...\n",
      "163768    [#o, #…r, #…t, #…i, or, o…t, o…i, rt, r…i, ti,...\n",
      "77631     [#d, #…é, #…t, #…a, dé, d…t, d…a, ét, é…a, ta,...\n",
      "332       [#a, #…b, #…a, #…t, ab, a…a, a…t, ba, b…t, at,...\n",
      "196052    [#r, #…e, #…f, #…l, re, r…f, r…l, ef, e…l, fl,...\n",
      "                                ...                        \n",
      "195204    [#r, #…e, #…d, #…o, re, r…d, r…o, ed, e…o, do,...\n",
      "181227    [#p, #…r, #…é, #…s, pr, p…é, p…s, ré, r…s, és,...\n",
      "45611     [#c, #…o, #…m, #…m, co, c…m, c…m, om, o…m, mm,...\n",
      "227062    [#s, #…u, #…s, #…p, su, s…s, s…p, us, u…p, sp,...\n",
      "142099    [#l, #…a, #…m, #…p, la, l…m, l…p, am, a…p, mp,...\n",
      "Name: sp_sk2gram, Length: 4501, dtype: object\n"
     ]
    }
   ],
   "source": [
    "## sp_sk2gram の追加\n",
    "add_ngrams(df, n_for_ngram = 2, prefix = \"sp_\", skippy = True, max_distance = max_gap_size, inclusive = True, inclusion_degree = inclusion_degree, check = False)"
   ]
  },
  {
   "cell_type": "code",
   "execution_count": 153,
   "id": "5d008d2b",
   "metadata": {},
   "outputs": [
    {
     "name": "stdout",
     "output_type": "stream",
     "text": [
      "22109     [#ba, #b…s, #b…s, #…as, #…a…s, #…ss, bas, ba…s...\n",
      "163768    [#or, #o…t, #o…i, #…rt, #…r…i, #…ti, ort, or…i...\n",
      "77631     [#dé, #d…t, #d…a, #…ét, #…é…a, #…ta, dét, dé…a...\n",
      "332       [#ab, #a…a, #a…t, #…ba, #…b…t, #…at, aba, ab…t...\n",
      "196052    [#re, #r…f, #r…l, #…ef, #…e…l, #…fl, ref, re…l...\n",
      "                                ...                        \n",
      "195204    [#re, #r…d, #r…o, #…ed, #…e…o, #…do, red, re…o...\n",
      "181227    [#pr, #p…é, #p…s, #…ré, #…r…s, #…és, pré, pr…s...\n",
      "45611     [#co, #c…m, #c…m, #…om, #…o…m, #…mm, com, co…m...\n",
      "227062    [#su, #s…s, #s…p, #…us, #…u…p, #…sp, sus, su…p...\n",
      "142099    [#la, #l…m, #l…p, #…am, #…a…p, #…mp, lam, la…p...\n",
      "Name: sp_sk3gram, Length: 4501, dtype: object\n"
     ]
    }
   ],
   "source": [
    "## sp_sk3gram の追加\n",
    "add_ngrams(df, n_for_ngram = 3, prefix = \"sp_\", skippy = True, max_distance = max_gap_size, inclusive = True, inclusion_degree = inclusion_degree, check = False)"
   ]
  },
  {
   "cell_type": "code",
   "execution_count": 154,
   "id": "71943f9f",
   "metadata": {},
   "outputs": [
    {
     "name": "stdout",
     "output_type": "stream",
     "text": [
      "22109     [#bas, #ba…s, #b…ss, #…ass, bass, bass, bas…e,...\n",
      "163768    [#ort, #or…i, #o…ti, #…rti, orti, orti, ort…e,...\n",
      "77631     [#dét, #dé…a, #d…ta, #…éta, déta, déta, dét…l,...\n",
      "332       [#aba, #ab…t, #a…at, #…bat, abat, abat, aba…t,...\n",
      "196052    [#ref, #re…l, #r…fl, #…efl, refl, refl, ref…e,...\n",
      "                                ...                        \n",
      "195204    [#red, #re…o, #r…do, #…edo, redo, redo, red…u,...\n",
      "181227    [#pré, #pr…s, #p…és, #…rés, prés, prés, pré…e,...\n",
      "45611     [#com, #co…m, #c…mm, #…omm, comm, comm, com…u,...\n",
      "227062    [#sus, #su…p, #s…sp, #…usp, susp, susp, sus…e,...\n",
      "142099    [#lam, #la…p, #l…mp, #…amp, lamp, lamp, lam…a,...\n",
      "Name: sp_sk4gram, Length: 4501, dtype: object\n"
     ]
    }
   ],
   "source": [
    "## sp_sk4gram の追加\n",
    "add_ngrams(df, n_for_ngram = 4, prefix = \"sp_\", skippy = True, max_distance = max_gap_size, inclusive = True, inclusion_degree = inclusion_degree, check = False)"
   ]
  },
  {
   "cell_type": "code",
   "execution_count": 155,
   "id": "436b0185",
   "metadata": {},
   "outputs": [],
   "source": [
    "## sp_sk5gram の追加\n",
    "if \"5gram\" in sp_term_type:\n",
    "    add_ngrams(df, n_for_ngram = 5, prefix = \"sp_\", skippy = True, max_distance = max_gap_size, inclusive = True, inclusion_degree = inclusion_degree, check = False)"
   ]
  },
  {
   "cell_type": "code",
   "execution_count": 156,
   "id": "599db18c",
   "metadata": {},
   "outputs": [
    {
     "data": {
      "text/html": [
       "<div>\n",
       "<style scoped>\n",
       "    .dataframe tbody tr th:only-of-type {\n",
       "        vertical-align: middle;\n",
       "    }\n",
       "\n",
       "    .dataframe tbody tr th {\n",
       "        vertical-align: top;\n",
       "    }\n",
       "\n",
       "    .dataframe thead th {\n",
       "        text-align: right;\n",
       "    }\n",
       "</style>\n",
       "<table border=\"1\" class=\"dataframe\">\n",
       "  <thead>\n",
       "    <tr style=\"text-align: right;\">\n",
       "      <th></th>\n",
       "      <th>sp_word</th>\n",
       "      <th>sp_sk2gram</th>\n",
       "      <th>sp_sk3gram</th>\n",
       "      <th>sp_sk4gram</th>\n",
       "    </tr>\n",
       "  </thead>\n",
       "  <tbody>\n",
       "    <tr>\n",
       "      <th>22109</th>\n",
       "      <td>#bassement#</td>\n",
       "      <td>[#b, #…a, #…s, #…s, ba, b…s, b…s, as, a…s, ss,...</td>\n",
       "      <td>[#ba, #b…s, #b…s, #…as, #…a…s, #…ss, bas, ba…s...</td>\n",
       "      <td>[#bas, #ba…s, #b…ss, #…ass, bass, bass, bas…e,...</td>\n",
       "    </tr>\n",
       "    <tr>\n",
       "      <th>163768</th>\n",
       "      <td>#ortie#</td>\n",
       "      <td>[#o, #…r, #…t, #…i, or, o…t, o…i, rt, r…i, ti,...</td>\n",
       "      <td>[#or, #o…t, #o…i, #…rt, #…r…i, #…ti, ort, or…i...</td>\n",
       "      <td>[#ort, #or…i, #o…ti, #…rti, orti, orti, ort…e,...</td>\n",
       "    </tr>\n",
       "    <tr>\n",
       "      <th>77631</th>\n",
       "      <td>#détalerait#</td>\n",
       "      <td>[#d, #…é, #…t, #…a, dé, d…t, d…a, ét, é…a, ta,...</td>\n",
       "      <td>[#dé, #d…t, #d…a, #…ét, #…é…a, #…ta, dét, dé…a...</td>\n",
       "      <td>[#dét, #dé…a, #d…ta, #…éta, déta, déta, dét…l,...</td>\n",
       "    </tr>\n",
       "    <tr>\n",
       "      <th>332</th>\n",
       "      <td>#abattes#</td>\n",
       "      <td>[#a, #…b, #…a, #…t, ab, a…a, a…t, ba, b…t, at,...</td>\n",
       "      <td>[#ab, #a…a, #a…t, #…ba, #…b…t, #…at, aba, ab…t...</td>\n",
       "      <td>[#aba, #ab…t, #a…at, #…bat, abat, abat, aba…t,...</td>\n",
       "    </tr>\n",
       "    <tr>\n",
       "      <th>196052</th>\n",
       "      <td>#refleuriras#</td>\n",
       "      <td>[#r, #…e, #…f, #…l, re, r…f, r…l, ef, e…l, fl,...</td>\n",
       "      <td>[#re, #r…f, #r…l, #…ef, #…e…l, #…fl, ref, re…l...</td>\n",
       "      <td>[#ref, #re…l, #r…fl, #…efl, refl, refl, ref…e,...</td>\n",
       "    </tr>\n",
       "    <tr>\n",
       "      <th>...</th>\n",
       "      <td>...</td>\n",
       "      <td>...</td>\n",
       "      <td>...</td>\n",
       "      <td>...</td>\n",
       "    </tr>\n",
       "    <tr>\n",
       "      <th>195204</th>\n",
       "      <td>#redoutait#</td>\n",
       "      <td>[#r, #…e, #…d, #…o, re, r…d, r…o, ed, e…o, do,...</td>\n",
       "      <td>[#re, #r…d, #r…o, #…ed, #…e…o, #…do, red, re…o...</td>\n",
       "      <td>[#red, #re…o, #r…do, #…edo, redo, redo, red…u,...</td>\n",
       "    </tr>\n",
       "    <tr>\n",
       "      <th>181227</th>\n",
       "      <td>#présenta#</td>\n",
       "      <td>[#p, #…r, #…é, #…s, pr, p…é, p…s, ré, r…s, és,...</td>\n",
       "      <td>[#pr, #p…é, #p…s, #…ré, #…r…s, #…és, pré, pr…s...</td>\n",
       "      <td>[#pré, #pr…s, #p…és, #…rés, prés, prés, pré…e,...</td>\n",
       "    </tr>\n",
       "    <tr>\n",
       "      <th>45611</th>\n",
       "      <td>#communiai#</td>\n",
       "      <td>[#c, #…o, #…m, #…m, co, c…m, c…m, om, o…m, mm,...</td>\n",
       "      <td>[#co, #c…m, #c…m, #…om, #…o…m, #…mm, com, co…m...</td>\n",
       "      <td>[#com, #co…m, #c…mm, #…omm, comm, comm, com…u,...</td>\n",
       "    </tr>\n",
       "    <tr>\n",
       "      <th>227062</th>\n",
       "      <td>#suspectait#</td>\n",
       "      <td>[#s, #…u, #…s, #…p, su, s…s, s…p, us, u…p, sp,...</td>\n",
       "      <td>[#su, #s…s, #s…p, #…us, #…u…p, #…sp, sus, su…p...</td>\n",
       "      <td>[#sus, #su…p, #s…sp, #…usp, susp, susp, sus…e,...</td>\n",
       "    </tr>\n",
       "    <tr>\n",
       "      <th>142099</th>\n",
       "      <td>#lampa#</td>\n",
       "      <td>[#l, #…a, #…m, #…p, la, l…m, l…p, am, a…p, mp,...</td>\n",
       "      <td>[#la, #l…m, #l…p, #…am, #…a…p, #…mp, lam, la…p...</td>\n",
       "      <td>[#lam, #la…p, #l…mp, #…amp, lamp, lamp, lam…a,...</td>\n",
       "    </tr>\n",
       "  </tbody>\n",
       "</table>\n",
       "<p>4501 rows × 4 columns</p>\n",
       "</div>"
      ],
      "text/plain": [
       "              sp_word                                         sp_sk2gram  \\\n",
       "22109     #bassement#  [#b, #…a, #…s, #…s, ba, b…s, b…s, as, a…s, ss,...   \n",
       "163768        #ortie#  [#o, #…r, #…t, #…i, or, o…t, o…i, rt, r…i, ti,...   \n",
       "77631    #détalerait#  [#d, #…é, #…t, #…a, dé, d…t, d…a, ét, é…a, ta,...   \n",
       "332         #abattes#  [#a, #…b, #…a, #…t, ab, a…a, a…t, ba, b…t, at,...   \n",
       "196052  #refleuriras#  [#r, #…e, #…f, #…l, re, r…f, r…l, ef, e…l, fl,...   \n",
       "...               ...                                                ...   \n",
       "195204    #redoutait#  [#r, #…e, #…d, #…o, re, r…d, r…o, ed, e…o, do,...   \n",
       "181227     #présenta#  [#p, #…r, #…é, #…s, pr, p…é, p…s, ré, r…s, és,...   \n",
       "45611     #communiai#  [#c, #…o, #…m, #…m, co, c…m, c…m, om, o…m, mm,...   \n",
       "227062   #suspectait#  [#s, #…u, #…s, #…p, su, s…s, s…p, us, u…p, sp,...   \n",
       "142099        #lampa#  [#l, #…a, #…m, #…p, la, l…m, l…p, am, a…p, mp,...   \n",
       "\n",
       "                                               sp_sk3gram  \\\n",
       "22109   [#ba, #b…s, #b…s, #…as, #…a…s, #…ss, bas, ba…s...   \n",
       "163768  [#or, #o…t, #o…i, #…rt, #…r…i, #…ti, ort, or…i...   \n",
       "77631   [#dé, #d…t, #d…a, #…ét, #…é…a, #…ta, dét, dé…a...   \n",
       "332     [#ab, #a…a, #a…t, #…ba, #…b…t, #…at, aba, ab…t...   \n",
       "196052  [#re, #r…f, #r…l, #…ef, #…e…l, #…fl, ref, re…l...   \n",
       "...                                                   ...   \n",
       "195204  [#re, #r…d, #r…o, #…ed, #…e…o, #…do, red, re…o...   \n",
       "181227  [#pr, #p…é, #p…s, #…ré, #…r…s, #…és, pré, pr…s...   \n",
       "45611   [#co, #c…m, #c…m, #…om, #…o…m, #…mm, com, co…m...   \n",
       "227062  [#su, #s…s, #s…p, #…us, #…u…p, #…sp, sus, su…p...   \n",
       "142099  [#la, #l…m, #l…p, #…am, #…a…p, #…mp, lam, la…p...   \n",
       "\n",
       "                                               sp_sk4gram  \n",
       "22109   [#bas, #ba…s, #b…ss, #…ass, bass, bass, bas…e,...  \n",
       "163768  [#ort, #or…i, #o…ti, #…rti, orti, orti, ort…e,...  \n",
       "77631   [#dét, #dé…a, #d…ta, #…éta, déta, déta, dét…l,...  \n",
       "332     [#aba, #ab…t, #a…at, #…bat, abat, abat, aba…t,...  \n",
       "196052  [#ref, #re…l, #r…fl, #…efl, refl, refl, ref…e,...  \n",
       "...                                                   ...  \n",
       "195204  [#red, #re…o, #r…do, #…edo, redo, redo, red…u,...  \n",
       "181227  [#pré, #pr…s, #p…és, #…rés, prés, prés, pré…e,...  \n",
       "45611   [#com, #co…m, #c…mm, #…omm, comm, comm, com…u,...  \n",
       "227062  [#sus, #su…p, #s…sp, #…usp, susp, susp, sus…e,...  \n",
       "142099  [#lam, #la…p, #l…mp, #…amp, lamp, lamp, lam…a,...  \n",
       "\n",
       "[4501 rows x 4 columns]"
      ]
     },
     "execution_count": 156,
     "metadata": {},
     "output_type": "execute_result"
    }
   ],
   "source": [
    "## check result\n",
    "if \"5gram\" in sp_term_type:\n",
    "    var_names = [ 'sp_word', 'sp_sk2gram', 'sp_sk3gram', 'sp_sk4gram', 'sp_sk5gram' ]\n",
    "else:\n",
    "    var_names = [ 'sp_word', 'sp_sk2gram', 'sp_sk3gram', 'sp_sk4gram' ]\n",
    "df[var_names]"
   ]
  },
  {
   "cell_type": "markdown",
   "id": "8a04f220",
   "metadata": {},
   "source": [
    "# Sound n-grams 生成"
   ]
  },
  {
   "cell_type": "code",
   "execution_count": 157,
   "id": "e00161ab",
   "metadata": {},
   "outputs": [
    {
     "name": "stdout",
     "output_type": "stream",
     "text": [
      "22109     [#b, ba, as, sm, mæ, æ̃, ̃#, #, b, a, s, m, æ,...\n",
      "163768    [#ɑ, ɑɔ, ɔ̯, ̯ʁ, ʁt, t͡, ͡s, si, i#, #, ɑ, ɔ, ...\n",
      "77631     [#d, de, et, ta, al, lə, əʁ, ʁa, a#, #, d, e, ...\n",
      "332                  [#a, ab, ba, at, t#, #, a, b, a, t, #]\n",
      "196052    [#ʁ, ʁə, əf, fl, lœ, œʁ, ʁɪ, ɪʁ, ʁɔ, ɔ#, #, ʁ,...\n",
      "                                ...                        \n",
      "195204    [#ʁ, ʁə, əd, dʊ, ʊt, ta, a#, #, ʁ, ə, d, ʊ, t,...\n",
      "181227    [#p, pʁ, ʁe, ez, zɑ, ɑ̃, ̃t, tɔ, ɔ#, #, p, ʁ, ...\n",
      "45611     [#k, kɑ, ɑɔ, ɔ̯, ̯m, mʏ, ʏn, nj, ja, a#, #, k,...\n",
      "227062    [#s, sʏ, ʏs, sp, pa, ak, kt, ta, a#, #, s, ʏ, ...\n",
      "142099        [#l, lɑ, ɑ̃, ̃p, pɔ, ɔ#, #, l, ɑ, ̃, p, ɔ, #]\n",
      "Name: sn_2gram, Length: 4501, dtype: object\n"
     ]
    }
   ],
   "source": [
    "## sn_2gram の追加\n",
    "add_ngrams(df, n_for_ngram = 2, prefix = \"sn_\", skippy = False, inclusive = True, inclusion_degree = inclusion_degree, check = False)"
   ]
  },
  {
   "cell_type": "code",
   "execution_count": 158,
   "id": "c323aec2",
   "metadata": {},
   "outputs": [
    {
     "name": "stdout",
     "output_type": "stream",
     "text": [
      "22109     [#ba, bas, asm, smæ, mæ̃, æ̃#, #b, ba, as, sm,...\n",
      "163768    [#ɑɔ, ɑɔ̯, ɔ̯ʁ, ̯ʁt, ʁt͡, t͡s, ͡si, si#, #ɑ, ɑ...\n",
      "77631     [#de, det, eta, tal, alə, ləʁ, əʁa, ʁa#, #d, d...\n",
      "332                [#ab, aba, bat, at#, #a, ab, ba, at, t#]\n",
      "196052    [#ʁə, ʁəf, əfl, flœ, lœʁ, œʁɪ, ʁɪʁ, ɪʁɔ, ʁɔ#, ...\n",
      "                                ...                        \n",
      "195204    [#ʁə, ʁəd, ədʊ, dʊt, ʊta, ta#, #ʁ, ʁə, əd, dʊ,...\n",
      "181227    [#pʁ, pʁe, ʁez, ezɑ, zɑ̃, ɑ̃t, ̃tɔ, tɔ#, #p, p...\n",
      "45611     [#kɑ, kɑɔ, ɑɔ̯, ɔ̯m, ̯mʏ, mʏn, ʏnj, nja, ja#, ...\n",
      "227062    [#sʏ, sʏs, ʏsp, spa, pak, akt, kta, ta#, #s, s...\n",
      "142099    [#lɑ, lɑ̃, ɑ̃p, ̃pɔ, pɔ#, #l, lɑ, ɑ̃, ̃p, pɔ, ɔ#]\n",
      "Name: sn_3gram, Length: 4501, dtype: object\n"
     ]
    }
   ],
   "source": [
    "## sn_3gram の追加\n",
    "add_ngrams(df, n_for_ngram = 3, prefix = \"sn_\", skippy = False, inclusive = True, inclusion_degree = inclusion_degree, check = False)"
   ]
  },
  {
   "cell_type": "code",
   "execution_count": 159,
   "id": "9d680975",
   "metadata": {},
   "outputs": [
    {
     "name": "stdout",
     "output_type": "stream",
     "text": [
      "22109     [#bas, basm, asmæ, smæ̃, mæ̃#, #ba, bas, asm, ...\n",
      "163768    [#ɑɔ̯, ɑɔ̯ʁ, ɔ̯ʁt, ̯ʁt͡, ʁt͡s, t͡si, ͡si#, #ɑɔ...\n",
      "77631     [#det, deta, etal, talə, aləʁ, ləʁa, əʁa#, #de...\n",
      "332                  [#aba, abat, bat#, #ab, aba, bat, at#]\n",
      "196052    [#ʁəf, ʁəfl, əflœ, flœʁ, lœʁɪ, œʁɪʁ, ʁɪʁɔ, ɪʁɔ...\n",
      "                                ...                        \n",
      "195204    [#ʁəd, ʁədʊ, ədʊt, dʊta, ʊta#, #ʁə, ʁəd, ədʊ, ...\n",
      "181227    [#pʁe, pʁez, ʁezɑ, ezɑ̃, zɑ̃t, ɑ̃tɔ, ̃tɔ#, #pʁ...\n",
      "45611     [#kɑɔ, kɑɔ̯, ɑɔ̯m, ɔ̯mʏ, ̯mʏn, mʏnj, ʏnja, nja...\n",
      "227062    [#sʏs, sʏsp, ʏspa, spak, pakt, akta, kta#, #sʏ...\n",
      "142099    [#lɑ̃, lɑ̃p, ɑ̃pɔ, ̃pɔ#, #lɑ, lɑ̃, ɑ̃p, ̃pɔ, pɔ#]\n",
      "Name: sn_4gram, Length: 4501, dtype: object\n"
     ]
    }
   ],
   "source": [
    "## sn_4gram の追加\n",
    "add_ngrams(df, n_for_ngram = 4, prefix = \"sn_\", skippy = False, inclusive = True, inclusion_degree = inclusion_degree, check = False)"
   ]
  },
  {
   "cell_type": "code",
   "execution_count": 160,
   "id": "9412c517",
   "metadata": {},
   "outputs": [],
   "source": [
    "## sn_5gram の追加\n",
    "if \"5gram\" in sn_term_type:\n",
    "    add_ngrams(df, n_for_ngram = 5, prefix = \"sn_\", skippy = False, inclusive = True, inclusion_degree = inclusion_degree, check = False)"
   ]
  },
  {
   "cell_type": "code",
   "execution_count": 161,
   "id": "564821d8",
   "metadata": {},
   "outputs": [
    {
     "name": "stdout",
     "output_type": "stream",
     "text": [
      "22109     [#b, #…a, #…s, #…m, ba, b…s, b…m, as, a…m, sm,...\n",
      "163768    [#ɑ, #…ɔ, #…̯, #…ʁ, ɑɔ, ɑ…̯, ɑ…ʁ, ɔ̯, ɔ…ʁ, ̯ʁ,...\n",
      "77631     [#d, #…e, #…t, #…a, de, d…t, d…a, et, e…a, ta,...\n",
      "332       [#a, #…b, #…a, #…t, ab, a…a, a…t, ba, b…t, at,...\n",
      "196052    [#ʁ, #…ə, #…f, #…l, ʁə, ʁ…f, ʁ…l, əf, ə…l, fl,...\n",
      "                                ...                        \n",
      "195204    [#ʁ, #…ə, #…d, #…ʊ, ʁə, ʁ…d, ʁ…ʊ, əd, ə…ʊ, dʊ,...\n",
      "181227    [#p, #…ʁ, #…e, #…z, pʁ, p…e, p…z, ʁe, ʁ…z, ez,...\n",
      "45611     [#k, #…ɑ, #…ɔ, #…̯, kɑ, k…ɔ, k…̯, ɑɔ, ɑ…̯, ɔ̯,...\n",
      "227062    [#s, #…ʏ, #…s, #…p, sʏ, s…s, s…p, ʏs, ʏ…p, sp,...\n",
      "142099    [#l, #…ɑ, #…̃, #…p, lɑ, l…̃, l…p, ɑ̃, ɑ…p, ̃p,...\n",
      "Name: sn_sk2gram, Length: 4501, dtype: object\n"
     ]
    }
   ],
   "source": [
    "## sn_sk2gram の追加\n",
    "add_ngrams(df, n_for_ngram = 2, prefix = \"sn_\", skippy = True, max_distance = max_gap_size, inclusive = True, inclusion_degree = inclusion_degree, check = False)"
   ]
  },
  {
   "cell_type": "code",
   "execution_count": 162,
   "id": "621ecec8",
   "metadata": {},
   "outputs": [
    {
     "name": "stdout",
     "output_type": "stream",
     "text": [
      "22109     [#ba, #b…s, #b…m, #…as, #…a…m, #…sm, bas, ba…m...\n",
      "163768    [#ɑɔ, #ɑ…̯, #ɑ…ʁ, #…ɔ̯, #…ɔ…ʁ, #…̯ʁ, ɑɔ̯, ɑɔ…ʁ...\n",
      "77631     [#de, #d…t, #d…a, #…et, #…e…a, #…ta, det, de…a...\n",
      "332       [#ab, #a…a, #a…t, #…ba, #…b…t, #…at, aba, ab…t...\n",
      "196052    [#ʁə, #ʁ…f, #ʁ…l, #…əf, #…ə…l, #…fl, ʁəf, ʁə…l...\n",
      "                                ...                        \n",
      "195204    [#ʁə, #ʁ…d, #ʁ…ʊ, #…əd, #…ə…ʊ, #…dʊ, ʁəd, ʁə…ʊ...\n",
      "181227    [#pʁ, #p…e, #p…z, #…ʁe, #…ʁ…z, #…ez, pʁe, pʁ…z...\n",
      "45611     [#kɑ, #k…ɔ, #k…̯, #…ɑɔ, #…ɑ…̯, #…ɔ̯, kɑɔ, kɑ…̯...\n",
      "227062    [#sʏ, #s…s, #s…p, #…ʏs, #…ʏ…p, #…sp, sʏs, sʏ…p...\n",
      "142099    [#lɑ, #l…̃, #l…p, #…ɑ̃, #…ɑ…p, #…̃p, lɑ̃, lɑ…p...\n",
      "Name: sn_sk3gram, Length: 4501, dtype: object\n"
     ]
    }
   ],
   "source": [
    "## sn_sk3gram の追加\n",
    "add_ngrams(df, n_for_ngram = 3, prefix = \"sn_\", skippy = True, max_distance = max_gap_size, inclusive = True, inclusion_degree = inclusion_degree, check = False)"
   ]
  },
  {
   "cell_type": "code",
   "execution_count": 163,
   "id": "a23e1a66",
   "metadata": {},
   "outputs": [
    {
     "name": "stdout",
     "output_type": "stream",
     "text": [
      "22109     [#bas, #ba…m, #b…sm, #…asm, basm, basm, bas…æ,...\n",
      "163768    [#ɑɔ̯, #ɑɔ…ʁ, #ɑ…̯ʁ, #…ɔ̯ʁ, ɑɔ̯ʁ, ɑɔ̯ʁ, ɑɔ̯…t,...\n",
      "77631     [#det, #de…a, #d…ta, #…eta, deta, deta, det…l,...\n",
      "332       [#aba, #ab…t, #a…at, #…bat, abat, abat, aba…#,...\n",
      "196052    [#ʁəf, #ʁə…l, #ʁ…fl, #…əfl, ʁəfl, ʁəfl, ʁəf…œ,...\n",
      "                                ...                        \n",
      "195204    [#ʁəd, #ʁə…ʊ, #ʁ…dʊ, #…ədʊ, ʁədʊ, ʁədʊ, ʁəd…t,...\n",
      "181227    [#pʁe, #pʁ…z, #p…ez, #…ʁez, pʁez, pʁez, pʁe…ɑ,...\n",
      "45611     [#kɑɔ, #kɑ…̯, #k…ɔ̯, #…ɑɔ̯, kɑɔ̯, kɑɔ̯, kɑɔ…m,...\n",
      "227062    [#sʏs, #sʏ…p, #s…sp, #…ʏsp, sʏsp, sʏsp, sʏs…a,...\n",
      "142099    [#lɑ̃, #lɑ…p, #l…̃p, #…ɑ̃p, lɑ̃p, lɑ̃p, lɑ̃…ɔ,...\n",
      "Name: sn_sk4gram, Length: 4501, dtype: object\n"
     ]
    }
   ],
   "source": [
    "## sn_sk4gram の追加\n",
    "add_ngrams(df, n_for_ngram = 4, prefix = \"sn_\", skippy = True, max_distance = max_gap_size, inclusive = True, inclusion_degree = inclusion_degree, check = False)"
   ]
  },
  {
   "cell_type": "code",
   "execution_count": 164,
   "id": "f44e0d37",
   "metadata": {},
   "outputs": [],
   "source": [
    "## sn_sk5gram の追加\n",
    "if \"5gram\" in sn_term_type:\n",
    "    add_ngrams(df, n_for_ngram = 5, prefix = \"sn_\", skippy = True, max_distance = max_gap_size, inclusive = True, inclusion_degree = inclusion_degree, check = False)"
   ]
  },
  {
   "cell_type": "code",
   "execution_count": 165,
   "id": "05c2a69d",
   "metadata": {},
   "outputs": [
    {
     "data": {
      "text/html": [
       "<div>\n",
       "<style scoped>\n",
       "    .dataframe tbody tr th:only-of-type {\n",
       "        vertical-align: middle;\n",
       "    }\n",
       "\n",
       "    .dataframe tbody tr th {\n",
       "        vertical-align: top;\n",
       "    }\n",
       "\n",
       "    .dataframe thead th {\n",
       "        text-align: right;\n",
       "    }\n",
       "</style>\n",
       "<table border=\"1\" class=\"dataframe\">\n",
       "  <thead>\n",
       "    <tr style=\"text-align: right;\">\n",
       "      <th></th>\n",
       "      <th>sn_word</th>\n",
       "      <th>sn_sk2gram</th>\n",
       "      <th>sn_sk3gram</th>\n",
       "      <th>sn_sk4gram</th>\n",
       "    </tr>\n",
       "  </thead>\n",
       "  <tbody>\n",
       "    <tr>\n",
       "      <th>22109</th>\n",
       "      <td>#basmæ̃#</td>\n",
       "      <td>[#b, #…a, #…s, #…m, ba, b…s, b…m, as, a…m, sm,...</td>\n",
       "      <td>[#ba, #b…s, #b…m, #…as, #…a…m, #…sm, bas, ba…m...</td>\n",
       "      <td>[#bas, #ba…m, #b…sm, #…asm, basm, basm, bas…æ,...</td>\n",
       "    </tr>\n",
       "    <tr>\n",
       "      <th>163768</th>\n",
       "      <td>#ɑɔ̯ʁt͡si#</td>\n",
       "      <td>[#ɑ, #…ɔ, #…̯, #…ʁ, ɑɔ, ɑ…̯, ɑ…ʁ, ɔ̯, ɔ…ʁ, ̯ʁ,...</td>\n",
       "      <td>[#ɑɔ, #ɑ…̯, #ɑ…ʁ, #…ɔ̯, #…ɔ…ʁ, #…̯ʁ, ɑɔ̯, ɑɔ…ʁ...</td>\n",
       "      <td>[#ɑɔ̯, #ɑɔ…ʁ, #ɑ…̯ʁ, #…ɔ̯ʁ, ɑɔ̯ʁ, ɑɔ̯ʁ, ɑɔ̯…t,...</td>\n",
       "    </tr>\n",
       "    <tr>\n",
       "      <th>77631</th>\n",
       "      <td>#detaləʁa#</td>\n",
       "      <td>[#d, #…e, #…t, #…a, de, d…t, d…a, et, e…a, ta,...</td>\n",
       "      <td>[#de, #d…t, #d…a, #…et, #…e…a, #…ta, det, de…a...</td>\n",
       "      <td>[#det, #de…a, #d…ta, #…eta, deta, deta, det…l,...</td>\n",
       "    </tr>\n",
       "    <tr>\n",
       "      <th>332</th>\n",
       "      <td>#abat#</td>\n",
       "      <td>[#a, #…b, #…a, #…t, ab, a…a, a…t, ba, b…t, at,...</td>\n",
       "      <td>[#ab, #a…a, #a…t, #…ba, #…b…t, #…at, aba, ab…t...</td>\n",
       "      <td>[#aba, #ab…t, #a…at, #…bat, abat, abat, aba…#,...</td>\n",
       "    </tr>\n",
       "    <tr>\n",
       "      <th>196052</th>\n",
       "      <td>#ʁəflœʁɪʁɔ#</td>\n",
       "      <td>[#ʁ, #…ə, #…f, #…l, ʁə, ʁ…f, ʁ…l, əf, ə…l, fl,...</td>\n",
       "      <td>[#ʁə, #ʁ…f, #ʁ…l, #…əf, #…ə…l, #…fl, ʁəf, ʁə…l...</td>\n",
       "      <td>[#ʁəf, #ʁə…l, #ʁ…fl, #…əfl, ʁəfl, ʁəfl, ʁəf…œ,...</td>\n",
       "    </tr>\n",
       "    <tr>\n",
       "      <th>...</th>\n",
       "      <td>...</td>\n",
       "      <td>...</td>\n",
       "      <td>...</td>\n",
       "      <td>...</td>\n",
       "    </tr>\n",
       "    <tr>\n",
       "      <th>195204</th>\n",
       "      <td>#ʁədʊta#</td>\n",
       "      <td>[#ʁ, #…ə, #…d, #…ʊ, ʁə, ʁ…d, ʁ…ʊ, əd, ə…ʊ, dʊ,...</td>\n",
       "      <td>[#ʁə, #ʁ…d, #ʁ…ʊ, #…əd, #…ə…ʊ, #…dʊ, ʁəd, ʁə…ʊ...</td>\n",
       "      <td>[#ʁəd, #ʁə…ʊ, #ʁ…dʊ, #…ədʊ, ʁədʊ, ʁədʊ, ʁəd…t,...</td>\n",
       "    </tr>\n",
       "    <tr>\n",
       "      <th>181227</th>\n",
       "      <td>#pʁezɑ̃tɔ#</td>\n",
       "      <td>[#p, #…ʁ, #…e, #…z, pʁ, p…e, p…z, ʁe, ʁ…z, ez,...</td>\n",
       "      <td>[#pʁ, #p…e, #p…z, #…ʁe, #…ʁ…z, #…ez, pʁe, pʁ…z...</td>\n",
       "      <td>[#pʁe, #pʁ…z, #p…ez, #…ʁez, pʁez, pʁez, pʁe…ɑ,...</td>\n",
       "    </tr>\n",
       "    <tr>\n",
       "      <th>45611</th>\n",
       "      <td>#kɑɔ̯mʏnja#</td>\n",
       "      <td>[#k, #…ɑ, #…ɔ, #…̯, kɑ, k…ɔ, k…̯, ɑɔ, ɑ…̯, ɔ̯,...</td>\n",
       "      <td>[#kɑ, #k…ɔ, #k…̯, #…ɑɔ, #…ɑ…̯, #…ɔ̯, kɑɔ, kɑ…̯...</td>\n",
       "      <td>[#kɑɔ, #kɑ…̯, #k…ɔ̯, #…ɑɔ̯, kɑɔ̯, kɑɔ̯, kɑɔ…m,...</td>\n",
       "    </tr>\n",
       "    <tr>\n",
       "      <th>227062</th>\n",
       "      <td>#sʏspakta#</td>\n",
       "      <td>[#s, #…ʏ, #…s, #…p, sʏ, s…s, s…p, ʏs, ʏ…p, sp,...</td>\n",
       "      <td>[#sʏ, #s…s, #s…p, #…ʏs, #…ʏ…p, #…sp, sʏs, sʏ…p...</td>\n",
       "      <td>[#sʏs, #sʏ…p, #s…sp, #…ʏsp, sʏsp, sʏsp, sʏs…a,...</td>\n",
       "    </tr>\n",
       "    <tr>\n",
       "      <th>142099</th>\n",
       "      <td>#lɑ̃pɔ#</td>\n",
       "      <td>[#l, #…ɑ, #…̃, #…p, lɑ, l…̃, l…p, ɑ̃, ɑ…p, ̃p,...</td>\n",
       "      <td>[#lɑ, #l…̃, #l…p, #…ɑ̃, #…ɑ…p, #…̃p, lɑ̃, lɑ…p...</td>\n",
       "      <td>[#lɑ̃, #lɑ…p, #l…̃p, #…ɑ̃p, lɑ̃p, lɑ̃p, lɑ̃…ɔ,...</td>\n",
       "    </tr>\n",
       "  </tbody>\n",
       "</table>\n",
       "<p>4501 rows × 4 columns</p>\n",
       "</div>"
      ],
      "text/plain": [
       "            sn_word                                         sn_sk2gram  \\\n",
       "22109      #basmæ̃#  [#b, #…a, #…s, #…m, ba, b…s, b…m, as, a…m, sm,...   \n",
       "163768   #ɑɔ̯ʁt͡si#  [#ɑ, #…ɔ, #…̯, #…ʁ, ɑɔ, ɑ…̯, ɑ…ʁ, ɔ̯, ɔ…ʁ, ̯ʁ,...   \n",
       "77631    #detaləʁa#  [#d, #…e, #…t, #…a, de, d…t, d…a, et, e…a, ta,...   \n",
       "332          #abat#  [#a, #…b, #…a, #…t, ab, a…a, a…t, ba, b…t, at,...   \n",
       "196052  #ʁəflœʁɪʁɔ#  [#ʁ, #…ə, #…f, #…l, ʁə, ʁ…f, ʁ…l, əf, ə…l, fl,...   \n",
       "...             ...                                                ...   \n",
       "195204     #ʁədʊta#  [#ʁ, #…ə, #…d, #…ʊ, ʁə, ʁ…d, ʁ…ʊ, əd, ə…ʊ, dʊ,...   \n",
       "181227   #pʁezɑ̃tɔ#  [#p, #…ʁ, #…e, #…z, pʁ, p…e, p…z, ʁe, ʁ…z, ez,...   \n",
       "45611   #kɑɔ̯mʏnja#  [#k, #…ɑ, #…ɔ, #…̯, kɑ, k…ɔ, k…̯, ɑɔ, ɑ…̯, ɔ̯,...   \n",
       "227062   #sʏspakta#  [#s, #…ʏ, #…s, #…p, sʏ, s…s, s…p, ʏs, ʏ…p, sp,...   \n",
       "142099      #lɑ̃pɔ#  [#l, #…ɑ, #…̃, #…p, lɑ, l…̃, l…p, ɑ̃, ɑ…p, ̃p,...   \n",
       "\n",
       "                                               sn_sk3gram  \\\n",
       "22109   [#ba, #b…s, #b…m, #…as, #…a…m, #…sm, bas, ba…m...   \n",
       "163768  [#ɑɔ, #ɑ…̯, #ɑ…ʁ, #…ɔ̯, #…ɔ…ʁ, #…̯ʁ, ɑɔ̯, ɑɔ…ʁ...   \n",
       "77631   [#de, #d…t, #d…a, #…et, #…e…a, #…ta, det, de…a...   \n",
       "332     [#ab, #a…a, #a…t, #…ba, #…b…t, #…at, aba, ab…t...   \n",
       "196052  [#ʁə, #ʁ…f, #ʁ…l, #…əf, #…ə…l, #…fl, ʁəf, ʁə…l...   \n",
       "...                                                   ...   \n",
       "195204  [#ʁə, #ʁ…d, #ʁ…ʊ, #…əd, #…ə…ʊ, #…dʊ, ʁəd, ʁə…ʊ...   \n",
       "181227  [#pʁ, #p…e, #p…z, #…ʁe, #…ʁ…z, #…ez, pʁe, pʁ…z...   \n",
       "45611   [#kɑ, #k…ɔ, #k…̯, #…ɑɔ, #…ɑ…̯, #…ɔ̯, kɑɔ, kɑ…̯...   \n",
       "227062  [#sʏ, #s…s, #s…p, #…ʏs, #…ʏ…p, #…sp, sʏs, sʏ…p...   \n",
       "142099  [#lɑ, #l…̃, #l…p, #…ɑ̃, #…ɑ…p, #…̃p, lɑ̃, lɑ…p...   \n",
       "\n",
       "                                               sn_sk4gram  \n",
       "22109   [#bas, #ba…m, #b…sm, #…asm, basm, basm, bas…æ,...  \n",
       "163768  [#ɑɔ̯, #ɑɔ…ʁ, #ɑ…̯ʁ, #…ɔ̯ʁ, ɑɔ̯ʁ, ɑɔ̯ʁ, ɑɔ̯…t,...  \n",
       "77631   [#det, #de…a, #d…ta, #…eta, deta, deta, det…l,...  \n",
       "332     [#aba, #ab…t, #a…at, #…bat, abat, abat, aba…#,...  \n",
       "196052  [#ʁəf, #ʁə…l, #ʁ…fl, #…əfl, ʁəfl, ʁəfl, ʁəf…œ,...  \n",
       "...                                                   ...  \n",
       "195204  [#ʁəd, #ʁə…ʊ, #ʁ…dʊ, #…ədʊ, ʁədʊ, ʁədʊ, ʁəd…t,...  \n",
       "181227  [#pʁe, #pʁ…z, #p…ez, #…ʁez, pʁez, pʁez, pʁe…ɑ,...  \n",
       "45611   [#kɑɔ, #kɑ…̯, #k…ɔ̯, #…ɑɔ̯, kɑɔ̯, kɑɔ̯, kɑɔ…m,...  \n",
       "227062  [#sʏs, #sʏ…p, #s…sp, #…ʏsp, sʏsp, sʏsp, sʏs…a,...  \n",
       "142099  [#lɑ̃, #lɑ…p, #l…̃p, #…ɑ̃p, lɑ̃p, lɑ̃p, lɑ̃…ɔ,...  \n",
       "\n",
       "[4501 rows x 4 columns]"
      ]
     },
     "execution_count": 165,
     "metadata": {},
     "output_type": "execute_result"
    }
   ],
   "source": [
    "## check result\n",
    "if \"5gram\" in sn_term_type:\n",
    "    var_names = [ 'sn_word', 'sn_sk2gram', 'sn_sk3gram', 'sn_sk4gram', 'sn_sk5gram' ]\n",
    "else:\n",
    "    var_names = [ 'sn_word', 'sn_sk2gram', 'sn_sk3gram', 'sn_sk4gram' ]\n",
    "df[var_names]"
   ]
  },
  {
   "cell_type": "markdown",
   "id": "ff6f78c0-9731-4f9c-ab72-fb83da641cc1",
   "metadata": {},
   "source": [
    "# Pair = sp term :: sn term の生成"
   ]
  },
  {
   "cell_type": "code",
   "execution_count": 166,
   "id": "6e9b07cd-fdb0-48e8-9803-3bad862a609d",
   "metadata": {},
   "outputs": [],
   "source": [
    "## pair spell and sound terms\n",
    "paired_terms = [ ]\n",
    "for s_pair in zip(df[sp_term_type], df[sn_term_type]):\n",
    "    if check:\n",
    "        print(s_pair)\n",
    "    sp_tok, sn_tok = s_pair\n",
    "    paired = [ f\"{sp}{pair_marker}{sn}\" for sp in sp_tok for sn in sn_tok if len(sp) > 0 and len(sn) > 0 ]\n",
    "    #\n",
    "    paired_terms.append(paired)"
   ]
  },
  {
   "cell_type": "code",
   "execution_count": 167,
   "id": "4702e88e-a5e5-4606-aa01-c7eb8aa8bf89",
   "metadata": {},
   "outputs": [
    {
     "data": {
      "text/plain": [
       "[['#gou :: #gʊp',\n",
       "  '#gou :: gʊpɪ',\n",
       "  '#gou :: ʊpɪj',\n",
       "  '#gou :: pɪja',\n",
       "  '#gou :: ɪja#',\n",
       "  '#gou :: #gʊ',\n",
       "  '#gou :: gʊp',\n",
       "  '#gou :: ʊpɪ',\n",
       "  '#gou :: pɪj',\n",
       "  '#gou :: ɪja',\n",
       "  '#gou :: ja#',\n",
       "  'goup :: #gʊp',\n",
       "  'goup :: gʊpɪ',\n",
       "  'goup :: ʊpɪj',\n",
       "  'goup :: pɪja',\n",
       "  'goup :: ɪja#',\n",
       "  'goup :: #gʊ',\n",
       "  'goup :: gʊp',\n",
       "  'goup :: ʊpɪ',\n",
       "  'goup :: pɪj',\n",
       "  'goup :: ɪja',\n",
       "  'goup :: ja#',\n",
       "  'oupi :: #gʊp',\n",
       "  'oupi :: gʊpɪ',\n",
       "  'oupi :: ʊpɪj',\n",
       "  'oupi :: pɪja',\n",
       "  'oupi :: ɪja#',\n",
       "  'oupi :: #gʊ',\n",
       "  'oupi :: gʊp',\n",
       "  'oupi :: ʊpɪ',\n",
       "  'oupi :: pɪj',\n",
       "  'oupi :: ɪja',\n",
       "  'oupi :: ja#',\n",
       "  'upil :: #gʊp',\n",
       "  'upil :: gʊpɪ',\n",
       "  'upil :: ʊpɪj',\n",
       "  'upil :: pɪja',\n",
       "  'upil :: ɪja#',\n",
       "  'upil :: #gʊ',\n",
       "  'upil :: gʊp',\n",
       "  'upil :: ʊpɪ',\n",
       "  'upil :: pɪj',\n",
       "  'upil :: ɪja',\n",
       "  'upil :: ja#',\n",
       "  'pill :: #gʊp',\n",
       "  'pill :: gʊpɪ',\n",
       "  'pill :: ʊpɪj',\n",
       "  'pill :: pɪja',\n",
       "  'pill :: ɪja#',\n",
       "  'pill :: #gʊ',\n",
       "  'pill :: gʊp',\n",
       "  'pill :: ʊpɪ',\n",
       "  'pill :: pɪj',\n",
       "  'pill :: ɪja',\n",
       "  'pill :: ja#',\n",
       "  'illa :: #gʊp',\n",
       "  'illa :: gʊpɪ',\n",
       "  'illa :: ʊpɪj',\n",
       "  'illa :: pɪja',\n",
       "  'illa :: ɪja#',\n",
       "  'illa :: #gʊ',\n",
       "  'illa :: gʊp',\n",
       "  'illa :: ʊpɪ',\n",
       "  'illa :: pɪj',\n",
       "  'illa :: ɪja',\n",
       "  'illa :: ja#',\n",
       "  'llai :: #gʊp',\n",
       "  'llai :: gʊpɪ',\n",
       "  'llai :: ʊpɪj',\n",
       "  'llai :: pɪja',\n",
       "  'llai :: ɪja#',\n",
       "  'llai :: #gʊ',\n",
       "  'llai :: gʊp',\n",
       "  'llai :: ʊpɪ',\n",
       "  'llai :: pɪj',\n",
       "  'llai :: ɪja',\n",
       "  'llai :: ja#',\n",
       "  'lai# :: #gʊp',\n",
       "  'lai# :: gʊpɪ',\n",
       "  'lai# :: ʊpɪj',\n",
       "  'lai# :: pɪja',\n",
       "  'lai# :: ɪja#',\n",
       "  'lai# :: #gʊ',\n",
       "  'lai# :: gʊp',\n",
       "  'lai# :: ʊpɪ',\n",
       "  'lai# :: pɪj',\n",
       "  'lai# :: ɪja',\n",
       "  'lai# :: ja#',\n",
       "  '#go :: #gʊp',\n",
       "  '#go :: gʊpɪ',\n",
       "  '#go :: ʊpɪj',\n",
       "  '#go :: pɪja',\n",
       "  '#go :: ɪja#',\n",
       "  '#go :: #gʊ',\n",
       "  '#go :: gʊp',\n",
       "  '#go :: ʊpɪ',\n",
       "  '#go :: pɪj',\n",
       "  '#go :: ɪja',\n",
       "  '#go :: ja#',\n",
       "  'gou :: #gʊp',\n",
       "  'gou :: gʊpɪ',\n",
       "  'gou :: ʊpɪj',\n",
       "  'gou :: pɪja',\n",
       "  'gou :: ɪja#',\n",
       "  'gou :: #gʊ',\n",
       "  'gou :: gʊp',\n",
       "  'gou :: ʊpɪ',\n",
       "  'gou :: pɪj',\n",
       "  'gou :: ɪja',\n",
       "  'gou :: ja#',\n",
       "  'oup :: #gʊp',\n",
       "  'oup :: gʊpɪ',\n",
       "  'oup :: ʊpɪj',\n",
       "  'oup :: pɪja',\n",
       "  'oup :: ɪja#',\n",
       "  'oup :: #gʊ',\n",
       "  'oup :: gʊp',\n",
       "  'oup :: ʊpɪ',\n",
       "  'oup :: pɪj',\n",
       "  'oup :: ɪja',\n",
       "  'oup :: ja#',\n",
       "  'upi :: #gʊp',\n",
       "  'upi :: gʊpɪ',\n",
       "  'upi :: ʊpɪj',\n",
       "  'upi :: pɪja',\n",
       "  'upi :: ɪja#',\n",
       "  'upi :: #gʊ',\n",
       "  'upi :: gʊp',\n",
       "  'upi :: ʊpɪ',\n",
       "  'upi :: pɪj',\n",
       "  'upi :: ɪja',\n",
       "  'upi :: ja#',\n",
       "  'pil :: #gʊp',\n",
       "  'pil :: gʊpɪ',\n",
       "  'pil :: ʊpɪj',\n",
       "  'pil :: pɪja',\n",
       "  'pil :: ɪja#',\n",
       "  'pil :: #gʊ',\n",
       "  'pil :: gʊp',\n",
       "  'pil :: ʊpɪ',\n",
       "  'pil :: pɪj',\n",
       "  'pil :: ɪja',\n",
       "  'pil :: ja#',\n",
       "  'ill :: #gʊp',\n",
       "  'ill :: gʊpɪ',\n",
       "  'ill :: ʊpɪj',\n",
       "  'ill :: pɪja',\n",
       "  'ill :: ɪja#',\n",
       "  'ill :: #gʊ',\n",
       "  'ill :: gʊp',\n",
       "  'ill :: ʊpɪ',\n",
       "  'ill :: pɪj',\n",
       "  'ill :: ɪja',\n",
       "  'ill :: ja#',\n",
       "  'lla :: #gʊp',\n",
       "  'lla :: gʊpɪ',\n",
       "  'lla :: ʊpɪj',\n",
       "  'lla :: pɪja',\n",
       "  'lla :: ɪja#',\n",
       "  'lla :: #gʊ',\n",
       "  'lla :: gʊp',\n",
       "  'lla :: ʊpɪ',\n",
       "  'lla :: pɪj',\n",
       "  'lla :: ɪja',\n",
       "  'lla :: ja#',\n",
       "  'lai :: #gʊp',\n",
       "  'lai :: gʊpɪ',\n",
       "  'lai :: ʊpɪj',\n",
       "  'lai :: pɪja',\n",
       "  'lai :: ɪja#',\n",
       "  'lai :: #gʊ',\n",
       "  'lai :: gʊp',\n",
       "  'lai :: ʊpɪ',\n",
       "  'lai :: pɪj',\n",
       "  'lai :: ɪja',\n",
       "  'lai :: ja#',\n",
       "  'ai# :: #gʊp',\n",
       "  'ai# :: gʊpɪ',\n",
       "  'ai# :: ʊpɪj',\n",
       "  'ai# :: pɪja',\n",
       "  'ai# :: ɪja#',\n",
       "  'ai# :: #gʊ',\n",
       "  'ai# :: gʊp',\n",
       "  'ai# :: ʊpɪ',\n",
       "  'ai# :: pɪj',\n",
       "  'ai# :: ɪja',\n",
       "  'ai# :: ja#']]"
      ]
     },
     "execution_count": 167,
     "metadata": {},
     "output_type": "execute_result"
    }
   ],
   "source": [
    "## random sampling\n",
    "import random\n",
    "random.sample(paired_terms, 1)"
   ]
  },
  {
   "cell_type": "code",
   "execution_count": 168,
   "id": "71f99e7f-7bd9-4699-a430-75b8992e5d89",
   "metadata": {},
   "outputs": [
    {
     "name": "stdout",
     "output_type": "stream",
     "text": [
      "4501\n"
     ]
    }
   ],
   "source": [
    "## number of sentences\n",
    "print(len(paired_terms))"
   ]
  },
  {
   "cell_type": "code",
   "execution_count": 169,
   "id": "070dc15d-e458-41b7-a042-48ef3439a8aa",
   "metadata": {},
   "outputs": [
    {
     "data": {
      "text/plain": [
       "997501"
      ]
     },
     "execution_count": 169,
     "metadata": {},
     "output_type": "execute_result"
    }
   ],
   "source": [
    "## total number of units\n",
    "sum(map(len, paired_terms))"
   ]
  },
  {
   "cell_type": "code",
   "execution_count": 170,
   "id": "8830b5a7-77ff-418d-875d-763583142906",
   "metadata": {},
   "outputs": [
    {
     "data": {
      "text/html": [
       "<div>\n",
       "<style scoped>\n",
       "    .dataframe tbody tr th:only-of-type {\n",
       "        vertical-align: middle;\n",
       "    }\n",
       "\n",
       "    .dataframe tbody tr th {\n",
       "        vertical-align: top;\n",
       "    }\n",
       "\n",
       "    .dataframe thead th {\n",
       "        text-align: right;\n",
       "    }\n",
       "</style>\n",
       "<table border=\"1\" class=\"dataframe\">\n",
       "  <thead>\n",
       "    <tr style=\"text-align: right;\">\n",
       "      <th></th>\n",
       "      <th>sp_word</th>\n",
       "      <th>sn_word</th>\n",
       "      <th>paired_term</th>\n",
       "    </tr>\n",
       "  </thead>\n",
       "  <tbody>\n",
       "    <tr>\n",
       "      <th>22109</th>\n",
       "      <td>#bassement#</td>\n",
       "      <td>#basmæ̃#</td>\n",
       "      <td>[#bas :: #bas, #bas :: basm, #bas :: asmæ, #ba...</td>\n",
       "    </tr>\n",
       "    <tr>\n",
       "      <th>163768</th>\n",
       "      <td>#ortie#</td>\n",
       "      <td>#ɑɔ̯ʁt͡si#</td>\n",
       "      <td>[#ort :: #ɑɔ̯, #ort :: ɑɔ̯ʁ, #ort :: ɔ̯ʁt, #or...</td>\n",
       "    </tr>\n",
       "    <tr>\n",
       "      <th>77631</th>\n",
       "      <td>#détalerait#</td>\n",
       "      <td>#detaləʁa#</td>\n",
       "      <td>[#dét :: #det, #dét :: deta, #dét :: etal, #dé...</td>\n",
       "    </tr>\n",
       "    <tr>\n",
       "      <th>332</th>\n",
       "      <td>#abattes#</td>\n",
       "      <td>#abat#</td>\n",
       "      <td>[#aba :: #aba, #aba :: abat, #aba :: bat#, #ab...</td>\n",
       "    </tr>\n",
       "    <tr>\n",
       "      <th>196052</th>\n",
       "      <td>#refleuriras#</td>\n",
       "      <td>#ʁəflœʁɪʁɔ#</td>\n",
       "      <td>[#ref :: #ʁəf, #ref :: ʁəfl, #ref :: əflœ, #re...</td>\n",
       "    </tr>\n",
       "    <tr>\n",
       "      <th>...</th>\n",
       "      <td>...</td>\n",
       "      <td>...</td>\n",
       "      <td>...</td>\n",
       "    </tr>\n",
       "    <tr>\n",
       "      <th>195204</th>\n",
       "      <td>#redoutait#</td>\n",
       "      <td>#ʁədʊta#</td>\n",
       "      <td>[#red :: #ʁəd, #red :: ʁədʊ, #red :: ədʊt, #re...</td>\n",
       "    </tr>\n",
       "    <tr>\n",
       "      <th>181227</th>\n",
       "      <td>#présenta#</td>\n",
       "      <td>#pʁezɑ̃tɔ#</td>\n",
       "      <td>[#pré :: #pʁe, #pré :: pʁez, #pré :: ʁezɑ, #pr...</td>\n",
       "    </tr>\n",
       "    <tr>\n",
       "      <th>45611</th>\n",
       "      <td>#communiai#</td>\n",
       "      <td>#kɑɔ̯mʏnja#</td>\n",
       "      <td>[#com :: #kɑɔ, #com :: kɑɔ̯, #com :: ɑɔ̯m, #co...</td>\n",
       "    </tr>\n",
       "    <tr>\n",
       "      <th>227062</th>\n",
       "      <td>#suspectait#</td>\n",
       "      <td>#sʏspakta#</td>\n",
       "      <td>[#sus :: #sʏs, #sus :: sʏsp, #sus :: ʏspa, #su...</td>\n",
       "    </tr>\n",
       "    <tr>\n",
       "      <th>142099</th>\n",
       "      <td>#lampa#</td>\n",
       "      <td>#lɑ̃pɔ#</td>\n",
       "      <td>[#lam :: #lɑ̃, #lam :: lɑ̃p, #lam :: ɑ̃pɔ, #la...</td>\n",
       "    </tr>\n",
       "  </tbody>\n",
       "</table>\n",
       "<p>4501 rows × 3 columns</p>\n",
       "</div>"
      ],
      "text/plain": [
       "              sp_word      sn_word  \\\n",
       "22109     #bassement#     #basmæ̃#   \n",
       "163768        #ortie#   #ɑɔ̯ʁt͡si#   \n",
       "77631    #détalerait#   #detaləʁa#   \n",
       "332         #abattes#       #abat#   \n",
       "196052  #refleuriras#  #ʁəflœʁɪʁɔ#   \n",
       "...               ...          ...   \n",
       "195204    #redoutait#     #ʁədʊta#   \n",
       "181227     #présenta#   #pʁezɑ̃tɔ#   \n",
       "45611     #communiai#  #kɑɔ̯mʏnja#   \n",
       "227062   #suspectait#   #sʏspakta#   \n",
       "142099        #lampa#      #lɑ̃pɔ#   \n",
       "\n",
       "                                              paired_term  \n",
       "22109   [#bas :: #bas, #bas :: basm, #bas :: asmæ, #ba...  \n",
       "163768  [#ort :: #ɑɔ̯, #ort :: ɑɔ̯ʁ, #ort :: ɔ̯ʁt, #or...  \n",
       "77631   [#dét :: #det, #dét :: deta, #dét :: etal, #dé...  \n",
       "332     [#aba :: #aba, #aba :: abat, #aba :: bat#, #ab...  \n",
       "196052  [#ref :: #ʁəf, #ref :: ʁəfl, #ref :: əflœ, #re...  \n",
       "...                                                   ...  \n",
       "195204  [#red :: #ʁəd, #red :: ʁədʊ, #red :: ədʊt, #re...  \n",
       "181227  [#pré :: #pʁe, #pré :: pʁez, #pré :: ʁezɑ, #pr...  \n",
       "45611   [#com :: #kɑɔ, #com :: kɑɔ̯, #com :: ɑɔ̯m, #co...  \n",
       "227062  [#sus :: #sʏs, #sus :: sʏsp, #sus :: ʏspa, #su...  \n",
       "142099  [#lam :: #lɑ̃, #lam :: lɑ̃p, #lam :: ɑ̃pɔ, #la...  \n",
       "\n",
       "[4501 rows x 3 columns]"
      ]
     },
     "execution_count": 170,
     "metadata": {},
     "output_type": "execute_result"
    }
   ],
   "source": [
    "## add pair_token column\n",
    "#df.loc[:,'paired_token'] = paired_tokens # Causes error\n",
    "df['paired_term'] = paired_terms\n",
    "df[ ['sp_word', 'sn_word', 'paired_term'] ]"
   ]
  },
  {
   "cell_type": "markdown",
   "id": "0f26e250-4848-4002-bf7c-0b475c67e6c8",
   "metadata": {},
   "source": [
    "# LDA/HDP の実行"
   ]
  },
  {
   "cell_type": "code",
   "execution_count": 171,
   "id": "4a8b7c93-6ecb-402c-b1da-df482c7df1e9",
   "metadata": {},
   "outputs": [
    {
     "name": "stdout",
     "output_type": "stream",
     "text": [
      "Dictionary<667428 unique tokens: ['#ba :: #ba', '#ba :: #bas', '#ba :: asm', '#ba :: asmæ', '#ba :: bas']...>\n"
     ]
    }
   ],
   "source": [
    "## build DTM\n",
    "from gensim.corpora.dictionary import Dictionary\n",
    "\n",
    "pair_bots = df['paired_term']\n",
    "pair_diction = Dictionary(pair_bots)\n",
    "\n",
    "## check\n",
    "print(pair_diction) # print(..) is required for inspection"
   ]
  },
  {
   "cell_type": "code",
   "execution_count": 172,
   "id": "71500974-f4e3-4657-8bc2-616459c3bba9",
   "metadata": {},
   "outputs": [
    {
     "name": "stdout",
     "output_type": "stream",
     "text": [
      "min freq filter: 3\n",
      "abuse filter: 0.1\n",
      "term filtering applied\n",
      "Dictionary<56628 unique tokens: ['#ba :: #ba', '#ba :: #bas', '#ba :: bas', '#ba :: æ̃#', '#bas :: #ba']...>\n"
     ]
    }
   ],
   "source": [
    "## filter DTM\n",
    "import copy\n",
    "pair_diction_copy = copy.deepcopy(pair_diction)\n",
    "\n",
    "if apply_term_freq_filtering and apply_term_abuse_filtering:\n",
    "    print(f\"min freq filter: {term_minfreq}\")\n",
    "    print(f\"abuse filter: {term_abuse_threshold}\")\n",
    "    print(f\"term filtering applied\")\n",
    "    pair_diction_copy.filter_extremes(no_below = term_minfreq, no_above = term_abuse_threshold)\n",
    "    pair_diction = pair_diction_copy\n",
    "elif apply_term_freq_filtering:\n",
    "    print(f\"min freq filter: {term_minfreq}\")\n",
    "    print(f\"term filtering applied\")\n",
    "    pair_diction_copy.filter_extremes(no_below = term_minfreq)\n",
    "    pair_diction = pair_diction_copy\n",
    "elif apply_term_abuse_filtering:\n",
    "    print(f\"abuse filter: {term_abuse_threshold}\")\n",
    "    print(f\"term filtering applied\")\n",
    "    pair_diction_copy.filter_extremes(no_above = term_abuse_threshold)\n",
    "    pair_diction = pair_diction_copy\n",
    "else:\n",
    "    print(f\"term filtering not applied\")\n",
    "## check\n",
    "print(pair_diction)"
   ]
  },
  {
   "cell_type": "code",
   "execution_count": 173,
   "id": "529b2347-b684-42e1-84c1-9a89a74508e1",
   "metadata": {},
   "outputs": [
    {
     "name": "stdout",
     "output_type": "stream",
     "text": [
      "Building pair corpus ...\n",
      "Number of documents: 4501\n",
      "14 empty docs are removed out from pair_corpus\n"
     ]
    }
   ],
   "source": [
    "## build corpus\n",
    "print(f\"Building pair corpus ...\")\n",
    "pair_corpus = [ pair_diction.doc2bow(bot) for bot in pair_bots ]\n",
    "print(f\"Number of documents: {len(pair_corpus)}\")\n",
    "\n",
    "## sanitize corpus for HDP model\n",
    "size0 = len(pair_corpus)\n",
    "pair_corpus = [ doc for doc in pair_corpus if len(doc) > 0 ]\n",
    "size1 = len(pair_corpus)\n",
    "print(f\"{size0 - size1} empty docs are removed out from pair_corpus\")\n",
    "check = False\n",
    "if check:\n",
    "    print(random.sample(pair_corpus, 3))"
   ]
  },
  {
   "cell_type": "code",
   "execution_count": 174,
   "id": "0c7d5504-4b80-4cf6-affb-c065fe237933",
   "metadata": {},
   "outputs": [
    {
     "name": "stdout",
     "output_type": "stream",
     "text": [
      "Building an HDP model with n_topics limit: 45\n",
      "<gensim.models.hdpmodel.HdpModel object at 0x2847c0cd0>\n"
     ]
    }
   ],
   "source": [
    "## build model: takes quite a while when complex terms are selected\n",
    "import gensim\n",
    "if use_HDP:\n",
    "    print(f\"Building an HDP model with n_topics limit: {max_n_topics}\")\n",
    "    ## the outcome of the following needs to be checked to avoid \"Not all rows sum to 1 error\".\n",
    "    pair_hdp = gensim.models.HdpModel(pair_corpus,\n",
    "                                      id2word = pair_diction, random_state = 1, T = max_n_topics)\n",
    "    print(pair_hdp)\n",
    "    pair_lda = pair_hdp.hdp_to_lda()\n",
    "else:\n",
    "    print(f\"Building an LDA model with n_topics: {n_topics}\")\n",
    "    pair_lda = gensim.models.LdaModel(pair_corpus,\n",
    "                                      id2word = pair_diction, random_state = 1, num_topics = n_topics, alpha = 'auto')\n",
    "    ## check results\n",
    "    print(pair_lda) # print(..)しないと中身が見れない"
   ]
  },
  {
   "cell_type": "markdown",
   "id": "cd30fdd7",
   "metadata": {},
   "source": [
    "# pyLDAvis の実行"
   ]
  },
  {
   "cell_type": "code",
   "execution_count": 175,
   "id": "c0b3b4f1-4b15-44b8-8bcc-76a2f6eb69fe",
   "metadata": {
    "scrolled": true
   },
   "outputs": [
    {
     "data": {
      "text/html": [
       "\n",
       "<link rel=\"stylesheet\" type=\"text/css\" href=\"https://cdn.jsdelivr.net/gh/bmabey/pyLDAvis@3.4.0/pyLDAvis/js/ldavis.v1.0.0.css\">\n",
       "\n",
       "\n",
       "<div id=\"ldavis_el39422115757292164827367866\" style=\"background-color:white;\"></div>\n",
       "<script type=\"text/javascript\">\n",
       "\n",
       "var ldavis_el39422115757292164827367866_data = {\"mdsDat\": {\"x\": [0.06312089876322217, 0.0680151911406379, 0.06863257490256008, 0.0005329334503602098, 0.05690061864978538, 0.014390906131820109, 0.029356712276678222, -0.021086740232417595, -0.015904130179602998, 0.06483081758011643, -0.006780325329375924, 0.009302170548356027, -0.011135435444186766, -0.013937419699001774, -0.0030465474272018045, 0.0005897963969202173, -0.008123122901075521, 0.008327204968555863, -0.024808940142992328, -0.006712342196037171, 0.0007776328940362786, -0.0032322007537690335, 0.025567021462075304, -0.01791040583550176, -0.010775945026542007, -0.01803953746533708, 0.01252467110822417, -0.0013793998086851225, -0.027595752070897497, -0.011777198865350086, -0.030259316225864627, -0.015032821618831767, -0.017326245413983758, -0.023342895793693415, -0.019592257631613832, 0.0001385768752983075, -0.006923025492144521, -0.012887314769884943, -0.019452347269720643, -0.012303394787449068, -0.016474272820967403, -0.017890376672419026, -0.013278040204628319, 0.0034099107030795602, -0.019409885772550862], \"y\": [0.06190723063472939, 0.025277615931150597, -0.005580069717653322, -0.10311387732608965, -0.00718125809421983, -0.005315674251912786, -0.009955119551753188, -0.005111303161547471, 0.013373850529921908, -0.052484131672182195, 0.021167052004181754, -0.013423311753050497, 0.007652168609335971, -0.02552156449653556, 0.012821354743523318, -0.023072234009008926, -0.03432017036358261, 0.0006484963481735234, 0.014609336386533367, 0.03309800842548484, 0.014087396643153106, 0.011616901207418553, 0.009526675434644636, -0.018604786610945223, -0.012932045487043799, 0.02831733019183667, -0.018965767053820064, 0.018526499710961722, -0.012338431363010785, 0.01028000761546114, -0.009945237678796494, 0.011574815098197794, 0.01946918790393791, 0.015953234866159672, 0.005608982065190684, 0.011667075308823428, -0.015376304203476967, 0.0017013458931386212, 0.0014365925604607214, 0.005640832043473015, 0.006060354350395609, -0.010586394679485718, 0.006386046244166174, 0.013595623207013654, 0.0018236675166481062], \"topics\": [1, 2, 3, 4, 5, 6, 7, 8, 9, 10, 11, 12, 13, 14, 15, 16, 17, 18, 19, 20, 21, 22, 23, 24, 25, 26, 27, 28, 29, 30, 31, 32, 33, 34, 35, 36, 37, 38, 39, 40, 41, 42, 43, 44, 45], \"cluster\": [1, 1, 1, 1, 1, 1, 1, 1, 1, 1, 1, 1, 1, 1, 1, 1, 1, 1, 1, 1, 1, 1, 1, 1, 1, 1, 1, 1, 1, 1, 1, 1, 1, 1, 1, 1, 1, 1, 1, 1, 1, 1, 1, 1, 1], \"Freq\": [5.019670118944113, 4.300184085492852, 3.718755507179021, 3.502387694443597, 3.079067020635865, 3.136643750834952, 2.8908911792494587, 3.0027417742614153, 2.8176422744402965, 2.966149204566772, 2.685086134159419, 2.6269112795674707, 2.7717551644367346, 2.639356297466474, 2.569005984612919, 2.5360274295655425, 2.7134695993065563, 2.468609634396158, 2.4913643007496833, 2.197788463801064, 2.29468707853833, 2.0951922165126313, 2.0967991255255902, 2.0431332471228982, 1.9958649729413933, 1.8368081935318743, 1.8533853358605978, 2.166594221608198, 1.9286025927936834, 1.745269590411984, 1.9022831534373823, 1.6950959289589478, 1.6470002626070421, 1.5941095816302102, 1.554815927075785, 1.436472131523901, 1.442994046828052, 1.3274825185484886, 1.26488016094071, 1.1189415501845303, 1.103016410989658, 1.1150643160718428, 0.9505340237091746, 0.8674336634260449, 0.7900328511106801]}, \"tinfo\": {\"Term\": [\"era :: \\u0259\\u0281a\", \"erai :: \\u0259\\u0281a#\", \"era :: \\u0281a#\", \"rai :: \\u0259\\u0281a\", \"erai :: \\u0259\\u0281a\", \"era :: \\u0259\\u0281a#\", \"erai :: \\u0281a#\", \"rai :: \\u0259\\u0281a#\", \"rai :: \\u0281a#\", \"ons :: \\u00f5\\u0169\\u032f\", \"ons# :: \\u00f5\\u0169\\u032f\", \"ons# :: \\u00f5\\u0169\\u032f#\", \"ons :: \\u0169\\u032f#\", \"ns# :: \\u00f5\\u0169\\u032f#\", \"ns# :: \\u0169\\u032f#\", \"ns# :: \\u00f5\\u0169\\u032f\", \"ons :: \\u00f5\\u0169\\u032f#\", \"ons# :: \\u0169\\u032f#\", \"ez# :: je#\", \"iez# :: je#\", \"iez :: je#\", \"ron :: \\u00f5\\u0169\\u032f#\", \"ero :: \\u00f5\\u0169\\u032f#\", \"ron :: \\u00f5\\u0169\\u032f\", \"ron :: \\u0169\\u032f#\", \"ass :: as#\", \"sse :: as#\", \"eron :: \\u00f5\\u0169\\u032f\", \"eron :: \\u00f5\\u0169\\u032f#\", \"ero :: \\u0169\\u032f#\", \"her :: \\u0283\\u0259\\u0281a\", \"hera :: \\u0283\\u0259\\u0281\", \"cher :: \\u0259\\u0281a\", \"era :: \\u0283\\u0259\\u0281\", \"cher :: \\u0283\\u0259\\u0281a\", \"lera :: \\u0259\\u0281a\", \"cher :: \\u0281a#\", \"ler :: \\u0259\\u0281a#\", \"hera :: \\u0281a#\", \"her :: \\u0259\\u0281a\", \"hera :: \\u0259\\u0281a#\", \"cher :: \\u0259\\u0281a#\", \"rait :: l\\u0259\\u0281a\", \"che :: \\u0283\\u0259\\u0281a\", \"her :: \\u0259\\u0281a#\", \"erai :: \\u0283\\u0259\\u0281\", \"rai :: \\u0283\\u0259\\u0281a\", \"lera :: \\u0281a#\", \"ler :: \\u0281a#\", \"erai :: l\\u0259\\u0281\", \"erai :: \\u0283\\u0259\\u0281a\", \"che :: \\u0283\\u0259\\u0281\", \"mp\\u00eac :: \\u0251\\u0303p\", \"hera :: \\u0259\\u0281a\", \"ait# :: l\\u0259\\u0281a\", \"ler :: \\u0259\\u0281a\", \"rai :: \\u0283\\u0259\\u0281\", \"ger :: an\\u026a\", \"lera :: \\u0259\\u0281a#\", \"ler :: l\\u0259\\u0281a\", \"erai :: l\\u0259\\u0281a\", \"cher :: \\u0283\\u0259\\u0281\", \"lera :: l\\u0259\\u0281a\", \"it# :: \\u0259\\u0281a\", \"rai :: l\\u0259\\u0281a\", \"ait :: \\u0259\\u0281a\", \"rai :: \\u0259\\u0281a\", \"erai :: \\u0259\\u0281a#\", \"era :: \\u0259\\u0281a\", \"erai :: \\u0259\\u0281a\", \"rai :: \\u0259\\u0281a#\", \"era :: \\u0259\\u0281a#\", \"erai :: \\u0281a#\", \"era :: \\u0281a#\", \"rait :: \\u0259\\u0281a\", \"ait# :: \\u0259\\u0281a\", \"it# :: \\u0259\\u0281a#\", \"ait# :: \\u0259\\u0281a#\", \"ait :: \\u0259\\u0281a#\", \"rai :: \\u0281a#\", \"ait :: \\u0281a#\", \"rait :: \\u0259\\u0281a#\", \"it# :: \\u0281a#\", \"ait# :: \\u0281a#\", \"rait :: \\u0281a#\", \"ez# :: je#\", \"iez# :: je#\", \"iez :: je#\", \"sera :: as\\u0259\\u0281\", \"sera :: as\\u0259\", \"era :: as\\u0259\", \"ass :: \\u0259\\u0281a#\", \"asse :: as\\u0259\\u0281\", \"era :: as\\u0259\\u0281\", \"asse :: s\\u0259\\u0281\", \"ass :: \\u0281a#\", \"sser :: as\\u0259\", \"era :: \\u0272\\u0259\\u0281\", \"asse :: \\u0281a#\", \"ser :: as\\u0259\\u0281\", \"asse :: \\u0259\\u0281a#\", \"ass :: as\\u0259\", \"ccr :: ak\\u0281\\u0251\", \"ser :: as\\u0259\", \"sse :: as\\u0259\", \"erai :: as\\u0259\\u0281\", \"ass :: as\\u0259\\u0281\", \"erai :: as\\u0259\", \"\\u00e9ba :: bo\\u0283\", \"asse :: as\\u0259\", \"ass :: s\\u0259\\u0281\", \"ura :: \\u028f\\u0281\\u0254\", \"has :: sje#\", \"sse :: as\\u0259\\u0281\", \"sera :: s\\u0259\\u0281\", \"fin :: f\\u026an\\u026a\", \"ass :: \\u0259\\u0281a\", \"sser :: as\\u0259\\u0281\", \"asse :: \\u0259\\u0281a\", \"sse :: s\\u0259\\u0281\", \"era :: s\\u0259\\u0281\", \"sser :: s\\u0259\\u0281\", \"ser :: \\u0281a#\", \"ser :: s\\u0259\\u0281\", \"rai :: \\u0281a#\", \"erai :: \\u0281a#\", \"era :: \\u0281a#\", \"era :: \\u0259\\u0281a#\", \"rai :: \\u0259\\u0281a\", \"erai :: \\u0259\\u0281a\", \"erai :: \\u0259\\u0281a#\", \"era :: \\u0259\\u0281a\", \"rai :: \\u0259\\u0281a#\", \"#d\\u00e9 :: #de\", \"ez# :: sje\", \"iez :: je#\", \"iez# :: je#\", \"ez# :: je#\", \"iez# :: sje\", \"iez :: sje\", \"iez# :: sje#\", \"iez :: sje#\", \"ez# :: sje#\", \"ais :: \\u0259\\u0281a#\", \"erai :: d\\u0259\\u0281\", \"era :: d\\u0259\\u0281\", \"dera :: d\\u0259\\u0281\", \"dera :: d\\u0259\\u0281a\", \"dera :: \\u0259\\u0281a#\", \"rai :: d\\u0259\\u0281a\", \"rai :: d\\u0259\\u0281\", \"reva :: \\u0281\\u0259v\", \"bro :: b\\u0281\\u0251\", \"era :: d\\u0259\\u0281a\", \"der :: d\\u0259\\u0281\", \"ait# :: \\u0254\\u032fn\", \"neme :: m\\u00e6\\u0303#\", \"der :: \\u0259\\u0281a\", \"era :: #\\u0292y\", \"uel :: ks\\u0265a\", \"#br :: b\\u0281\\u0251\", \"der :: \\u0259\\u0281a#\", \"nerv :: #in\", \"ait# :: \\u0251\\u0254\\u032fn\", \"ait# :: \\u032fna\", \"uger :: \\u0292y\\u0292\", \"nait :: \\u0254\\u032fna\", \"jug :: \\u0292y\\u0292\", \"ait :: \\u0251\\u0254\\u032fn\", \"iter :: \\u0259\\u0281a#\", \"inne :: #ina\", \"rai# :: d\\u0259\\u0281a\", \"#br :: \\u0281\\u0251\\u0254\\u032f\", \"ait# :: \\u0254\\u032fna\", \"onna :: \\u0251\\u0254\\u032fn\", \"nna :: \\u0251\\u0254\\u032f\", \"nna :: \\u0251\\u0254\\u032fn\", \"onna :: \\u0254\\u032fn\", \"nge :: \\u00f5\\u0169\\u032f\\u0292\", \"onna :: \\u0251\\u0254\\u032f\", \"ssel :: des\", \"onn :: \\u0254\\u032fn\", \"onn :: \\u0251\\u0254\\u032fn\", \"onn :: \\u0251\\u0254\\u032f\", \"erai :: d\\u0259\\u0281a\", \"erai :: t\\u0259\\u0281\", \"onn :: \\u032fna\", \"ent :: \\u0259\\u0281a#\", \"erai :: \\u0259\\u0281a\", \"era :: \\u0259\\u0281a\", \"rai :: \\u0259\\u0281a\", \"era :: \\u0259\\u0281a#\", \"erai :: \\u0281a#\", \"erai :: \\u0259\\u0281a#\", \"rai :: \\u0259\\u0281a#\", \"era :: \\u0281a#\", \"rai :: \\u0281a#\", \"ent :: \\u0259\\u0281a\", \"ns# :: \\u00f5\\u0169\\u032f#\", \"ons# :: \\u00f5\\u0169\\u032f\", \"ons# :: \\u00f5\\u0169\\u032f#\", \"ns# :: \\u00f5\\u0169\\u032f\", \"ons# :: \\u0169\\u032f#\", \"ons :: \\u00f5\\u0169\\u032f\", \"ons :: \\u00f5\\u0169\\u032f#\", \"ns# :: \\u0169\\u032f#\", \"ons :: \\u0169\\u032f#\", \"ais# :: \\u0259\\u0281a\", \"ient :: \\u0281a#\", \"ent :: \\u0281a#\", \"#br :: #b\\u0281\", \"aie :: \\u0259\\u0281a\", \"ont# :: \\u0259\\u0281\\u00f5\", \"ont :: \\u0169\\u032f#\", \"nt# :: \\u0259\\u0281\\u00f5\\u0169\", \"nt# :: \\u0169\\u032f#\", \"ront :: \\u0259\\u0281\\u00f5\\u0169\", \"ont :: \\u0281\\u00f5\\u0169\", \"ont :: \\u00f5\\u0169\\u032f#\", \"nt# :: \\u00f5\\u0169\\u032f#\", \"ont :: \\u0259\\u0281\\u00f5\\u0169\", \"ont :: \\u0281\\u00f5\\u0169\\u032f\", \"nt# :: \\u0259\\u0281\\u00f5\", \"ront :: \\u0259\\u0281\\u00f5\", \"ront :: \\u00f5\\u0169\\u032f#\", \"ont# :: \\u0281\\u00f5\\u0169\\u032f\", \"ont# :: \\u0281\\u00f5\\u0169\", \"ront :: \\u0169\\u032f#\", \"eron :: \\u00f5\\u0169\\u032f\", \"ront :: \\u00f5\\u0169\\u032f\", \"ont# :: \\u0259\\u0281\\u00f5\\u0169\", \"ront :: \\u0281\\u00f5\\u0169\", \"nt# :: \\u0281\\u00f5\\u0169\", \"ont# :: \\u00f5\\u0169\\u032f#\", \"ont :: \\u0259\\u0281\\u00f5\", \"nt# :: \\u0281\\u00f5\\u0169\\u032f\", \"ont# :: \\u0169\\u032f#\", \"ront :: \\u0281\\u00f5\\u0169\\u032f\", \"ont# :: \\u00f5\\u0169\\u032f\", \"eron :: \\u0281\\u00f5\\u0169\", \"ero :: \\u0169\\u032f#\", \"eron :: \\u00f5\\u0169\\u032f#\", \"ero :: \\u0259\\u0281\\u00f5\", \"ero :: \\u0281\\u00f5\\u0169\", \"ero :: \\u0281\\u00f5\\u0169\\u032f\", \"ron :: \\u0259\\u0281\\u00f5\", \"eron :: \\u0169\\u032f#\", \"ero :: \\u00f5\\u0169\\u032f\", \"eron :: \\u0259\\u0281\\u00f5\\u0169\", \"ero :: \\u00f5\\u0169\\u032f#\", \"ron :: \\u0259\\u0281\\u00f5\\u0169\", \"eron :: \\u0281\\u00f5\\u0169\\u032f\", \"ron :: \\u00f5\\u0169\\u032f#\", \"ron :: \\u0169\\u032f#\", \"eron :: \\u0259\\u0281\\u00f5\", \"ron :: \\u0281\\u00f5\\u0169\", \"ron :: \\u0281\\u00f5\\u0169\\u032f\", \"ron :: \\u00f5\\u0169\\u032f\", \"ero :: \\u0259\\u0281\\u00f5\\u0169\", \"nt# :: \\u00f5\\u0169\\u032f\", \"erm :: m\\u028ft\", \"ermu :: a\\u0281m\\u028f\", \"#per :: \\u0281m\\u028f\", \"ermu :: \\u0281m\\u028ft\", \"erm :: \\u0281m\\u028f\", \"mut :: \\u0281m\\u028f\", \"ong :: #\\u0281\\u00f5\", \"ermu :: \\u0281m\\u028f\", \"mute :: pa\\u0281m\", \"erm :: pa\\u0281m\", \"rmu :: \\u0281m\\u028f\", \"rmut :: a\\u0281m\", \"#pe :: \\u0281m\\u028ft\", \"rgea :: \\u0281\\u0292a#\", \"erm :: #pa\\u0281\", \"perm :: \\u0281m\\u028f\", \"rong :: \\u00f5\\u0169\\u032f\", \"rmu :: a\\u0281m\\u028f\", \"nt# :: \\u0281m\\u028f\", \"ermu :: #pa\", \"ermu :: a\\u0281m\", \"use :: z\\u0259\\u0281\", \"rmu :: a\\u0281m\", \"ien :: \\u0281\\u0259\\u0281a\", \"rong :: \\u0281\\u00f5\\u0169\\u032f\", \"rmut :: a\\u0281m\\u028f\", \"per :: \\u0281m\\u028f\", \"mut :: \\u0281m\\u028ft\", \"ent :: \\u0281\\u0259\\u0281a\", \"issa :: \\u0361s\\u026as\", \"rmut :: pa\\u0281\", \"#per :: \\u0281m\\u028ft\", \"#per :: a\\u0281m\", \"perm :: #pa\", \"ient :: \\u0259\\u0281a\", \"ien :: \\u0259\\u0281a#\", \"ien :: \\u0259\\u0281a\", \"aien :: \\u0259\\u0281a\", \"aie :: \\u0259\\u0281a\", \"raie :: \\u0259\\u0281a\", \"ient :: \\u0259\\u0281a#\", \"nt# :: \\u0259\\u0281a#\", \"era :: \\u0281a#\", \"ent :: \\u0259\\u0281a#\", \"nt# :: \\u0259\\u0281a\", \"raie :: \\u0259\\u0281a#\", \"aie :: \\u0259\\u0281a#\", \"era :: \\u0259\\u0281a\", \"erai :: \\u0259\\u0281a\", \"rai :: \\u0259\\u0281a#\", \"ent# :: \\u0259\\u0281a\", \"era :: \\u0259\\u0281a#\", \"erai :: \\u0259\\u0281a#\", \"rai :: \\u0281a#\", \"erai :: \\u0281a#\", \"rai :: \\u0259\\u0281a\", \"aien :: \\u0259\\u0281a#\", \"ent :: \\u0259\\u0281a\", \"ent# :: \\u0281a#\", \"aie :: \\u0281a#\", \"raie :: \\u0281a#\", \"ent# :: \\u0259\\u0281a#\", \"nt# :: \\u0281a#\", \"ent :: \\u0281a#\", \"era :: \\u0259\\u0281\\u0254#\", \"era :: \\u0259\\u0281\\u0254\", \"era :: \\u0281\\u0254#\", \"ien :: \\u0281a#\", \"b\\u00eem :: ab\\u026am\", \"tent :: \\u032ft#\", \"hou :: s\\u026al\", \"#\\u00e9v :: evaz\", \"ion :: zj\\u00f5\\u0169\", \"acco :: \\u0251\\u0254\\u032f\", \"#de :: #d\\u0259v\", \"erez :: b\\u0281\\u0259\", \"uvr :: v\\u0281\\u026a\\u0281\", \"chi :: go\\u0283\", \"uvri :: v\\u0281\\u026a\\u0281\", \"dou :: #d\\u028a\", \"acco :: ak\\u0251\\u0254\", \"#\\u00e9va :: vaz\", \"tri :: t\\u0281\\u026as\", \"auch :: #de\", \"uvri :: v\\u0281\\u026a\", \"auch :: go\\u0283\\u026a\", \"dou :: \\u0281\\u0259d\\u028a\", \"ien :: #k\\u00f5\\u0169\", \"rez# :: m\\u0259\\u0281e\", \"acc :: \\u0251\\u0254\\u032f\", \"rez :: \\u0281\\u0259\\u0281e\", \"nt# :: aja#\", \"uet :: lwat\", \"es# :: #b\\u0251\\u0254\", \"bre :: \\u0259\\u0281e\", \"empl :: \\u0251\\u0303pl\", \"ppau :: apov\", \"gau :: o\\u0283\\u026a\", \"ere :: a\\u0281\\u0259\", \"evi :: \\u026ane#\", \"rere :: \\u0281e#\", \"ere :: \\u0281e#\", \"ere :: \\u0259\\u0281e#\", \"ez# :: \\u0259\\u0281e\", \"ez# :: \\u0259\\u0281e#\", \"rez# :: \\u0259\\u0281e#\", \"erez :: \\u0281e#\", \"rez# :: \\u0259\\u0281e\", \"erez :: \\u0259\\u0281e\", \"rez :: \\u0259\\u0281e\", \"rez :: \\u0259\\u0281e#\", \"ere :: \\u0259\\u0281e\", \"erez :: \\u0259\\u0281e#\", \"ez# :: \\u0281e#\", \"rez# :: \\u0281e#\", \"rez :: \\u0281e#\", \"ere :: \\u0281\\u0259\\u0281\", \"mer :: \\u0259\\u0281a\", \"mer :: m\\u0259\\u0281\", \"ons# :: \\u00f5\\u0169\\u032f\", \"ons# :: \\u0169\\u032f#\", \"ons :: \\u00f5\\u0169\\u032f#\", \"rir :: \\u0281\\u026a\\u0281\", \"ns# :: \\u0169\\u032f#\", \"tai :: ta#\", \"ons :: \\u00f5\\u0169\\u032f\", \"ons :: \\u0169\\u032f#\", \"ns# :: \\u00f5\\u0169\\u032f\", \"ns# :: \\u00f5\\u0169\\u032f#\", \"ons# :: \\u00f5\\u0169\\u032f#\", \"rai :: \\u0281a#\", \"rai :: \\u0259\\u0281a\", \"rai :: \\u0259\\u0281a#\", \"era :: \\u0259\\u0281a#\", \"erai :: \\u0259\\u0281a#\", \"enc :: \\u0303\\u0283a\", \"enc :: l\\u0251\\u0303\", \"lenc :: l\\u0251\\u0303\", \"enc :: kl\\u0251\\u0303\", \"enne :: jan#\", \"enc :: kl\\u0251\", \"\\u00e9ba :: #de\", \"enc :: \\u0251\\u0303\\u0283a\", \"enc :: \\u0251\\u0303\\u0283\", \"foui :: \\u0281f\\u028a\", \"ienn :: jan\", \"far :: \\u0281f\\u028aj\", \"rou :: b\\u0281\\u028as\", \"foui :: fa\\u0281f\", \"d\\u00e9ba :: #deb\", \"ouil :: fa\\u0281f\", \"nne# :: jan\", \"mbul :: \\u0251\\u0303b\\u028f\", \"rfou :: a\\u0281f\\u028a\", \"nch :: kl\\u0251\", \"oui :: f\\u028aj\", \"nne# :: jan#\", \"rai :: #t\\u028a\", \"uill :: f\\u028aj\", \"fou :: f\\u028aj\", \"r\\u00e9f :: #\\u0281e\", \"nch :: l\\u0251\\u0303\\u0283\", \"nne :: jan#\", \"ench :: l\\u0251\\u0303\\u0283\", \"lera :: #\\u0251\\u0303\", \"nne :: jan\", \"d\\u00e9b :: #de\", \"#d\\u00e9b :: deb\", \"#d\\u00e9 :: deb\", \"d\\u00e9b :: #deb\", \"#d\\u00e9 :: #deb\", \"#d\\u00e9b :: #de\", \"ien :: an#\", \"d\\u00e9b :: deb\", \"#d\\u00e9 :: #de\", \"#d\\u00e9b :: #deb\", \"ne# :: an#\", \"nch :: \\u0251\\u0303\\u0283\", \"ien :: jan#\", \"ai# :: #de\", \"ons :: \\u00f5\\u0169\\u032f\", \"ons# :: \\u0169\\u032f#\", \"ns# :: \\u0169\\u032f#\", \"ons :: \\u0169\\u032f#\", \"ons :: \\u00f5\\u0169\\u032f#\", \"ons# :: j\\u00f5\\u0169\\u032f\", \"ons# :: \\u00f5\\u0169\\u032f\", \"ns# :: \\u00f5\\u0169\\u032f\", \"ons# :: \\u00f5\\u0169\\u032f#\", \"ns# :: \\u00f5\\u0169\\u032f#\", \"ons# :: j\\u00f5\\u0169\", \"ons :: j\\u00f5\\u0169\", \"rai :: \\u0259\\u0281a\", \"d\\u00e9m :: dem\", \"ons :: j\\u00f5\\u0169\\u032f\", \"ez# :: #de\", \"sse :: as#\", \"rai :: \\u0259\\u0281a#\", \"rai :: \\u0281a#\", \"asse :: as#\", \"ass :: as#\", \"era :: \\u0281a#\", \"\\u00e9cha :: #de\\u0283\", \"ech :: #\\u0281\\u0259\", \"#re :: #\\u0281\\u0259\\u0283\", \"gn\\u00ee :: a\\u0272i\", \"#re :: \\u0281\\u0259\\u0283\", \"cha :: #\\u0281\\u0259\\u0283\", \"encr :: k\\u0281a\", \"#rec :: #\\u0281\\u0259\\u0283\", \"rec :: #\\u0281\\u0259\\u0283\", \"eta :: \\u0259ta#\", \"ech :: \\u0281\\u0259\\u0283\", \"encr :: \\u0251\\u0303k\\u0281\", \"cra :: \\u0251\\u0303k\", \"\\u00e9ch :: #de\\u0283\", \"es# :: \\u0272it\", \"tra :: \\u0303t\\u0281\", \"iff :: \\u0259b\\u026af\", \"#emp :: #\\u0251\\u0303p\", \"rech :: \\u0281\\u0259\\u0283\", \"#d\\u00e9c :: #de\\u0283\", \"it\\u00e9# :: s\\u026ate\", \"#enc :: \\u0303k\\u0281\", \"ti\\u00e8r :: sja\", \"ava :: #pav\", \"cha :: #de\\u0283\", \"ass :: k\\u0281a\", \"ent :: \\u0303t\\u0281a\", \"ncra :: \\u0251\\u0303k\\u0281\", \"ais# :: #ab\", \"ncra :: \\u0303k\\u0281\", \"rech :: #\\u0281\\u0259\\u0283\", \"#emp :: #\\u0251\\u0303\", \"#rec :: #\\u0281\\u0259\", \"d\\u00e9c :: #de\\u0283\", \"rec :: #\\u0281\\u0259\", \"#em :: \\u0251\\u0303p\", \"#rec :: \\u0281\\u0259\\u0283\", \"#d\\u00e9 :: #de\\u0283\", \"emp :: #\\u0251\\u0303p\", \"\\u00e9ch :: de\\u0283\", \"rec :: \\u0281\\u0259\\u0283\", \"emp :: #\\u0251\\u0303\", \"#re :: #\\u0281\\u0259\", \"ez# :: \\u0259\\u0281e#\", \"erez :: \\u0281e#\", \"rez :: \\u0281e#\", \"ere :: \\u0281e#\", \"rez# :: \\u0281e#\", \"ez# :: \\u0281e#\", \"sse :: as#\", \"#em :: #\\u0251\\u0303p\", \"asse :: as#\", \"ass :: as#\", \"rez# :: \\u0259\\u0281e\", \"ere :: \\u0259\\u0281e\", \"ez# :: \\u0259\\u0281e\", \"rez :: \\u0259\\u0281e\", \"erez :: \\u0259\\u0281e\", \"se# :: as#\", \"erez :: \\u0259\\u0281e#\", \"rez# :: \\u0259\\u0281e#\", \"ere :: \\u0259\\u0281e#\", \"rez :: \\u0259\\u0281e#\", \"sse# :: as#\", \"#em :: #\\u0251\\u0303\", \"rass :: \\u0281as\", \"#en :: #\\u0251\\u0303\", \"\\u00e9vi :: v\\u026az\", \"ppar :: apa\", \"appa :: apa\\u0281\", \"ppa :: #apa\", \"\\u00e9vi :: ev\\u026az\", \"t\\u00e9l\\u00e9 :: tele\", \"#t\\u00e9l :: tel\", \"par :: apa\", \"ppa :: apa\\u0281\", \"\\u00e9l\\u00e9v :: ev\\u026a\", \"\\u00e9l\\u00e9 :: #te\", \"\\u00e9l\\u00e9 :: tele\", \"ppar :: pa\\u0281\", \"par :: apa\\u0281\", \"t\\u00e9l\\u00e9 :: elev\", \"ffer :: f\\u0259\\u0281j\", \"sass :: zasj\", \"atte :: #at\\u0251\", \"app :: apa\\u0281\", \"#t\\u00e9l :: tele\", \"ppa :: pa\\u0281\", \"app :: #apa\", \"#ap :: #apa\", \"ppar :: #ap\", \"iez :: tasj\", \"lamp :: l\\u0251\\u0303p\", \"#ap :: pa\\u0281\", \"appa :: #ap\", \"app :: apa\", \"appa :: apa\", \"eri :: \\u0281je\", \"iez :: \\u0281je#\", \"rie :: je#\", \"rie :: \\u0281je#\", \"rie :: \\u0281je\", \"riez :: \\u0281je#\", \"ez# :: \\u0281je\", \"riez :: je#\", \"eri :: je#\", \"riez :: \\u0281je\", \"ez# :: \\u0281je#\", \"erie :: \\u0281je\", \"iez# :: \\u0281je#\", \"iez :: \\u0281je\", \"par :: pa\\u0281\", \"iez# :: \\u0281je\", \"erie :: \\u0281je#\", \"iez# :: \\u0259\\u0281je\", \"iez# :: je#\", \"iez :: je#\", \"eri :: \\u0281je#\", \"ez# :: je#\", \"iez :: \\u0259\\u0281j\", \"erie :: je#\", \"erie :: \\u0259\\u0281j\", \"rie :: \\u0259\\u0281je\", \"eri :: \\u0259\\u0281je\", \"riez :: \\u0259\\u0281j\", \"eri :: \\u0259\\u0281j\", \"iez :: \\u0259\\u0281je\", \"iez# :: \\u0259\\u0281j\", \"erie :: \\u0259\\u0281je\", \"siez :: asje\", \"#d\\u00e9 :: #de\", \"rons :: \\u0259\\u0281\\u00f5\", \"rons :: \\u0259\\u0281\\u00f5\\u0169\", \"ons :: \\u0259\\u0281\\u00f5\", \"ns# :: \\u0259\\u0281\\u00f5\\u0169\", \"ons# :: \\u0259\\u0281\\u00f5\", \"ons :: \\u0259\\u0281\\u00f5\\u0169\", \"cata :: kat\", \"ons# :: \\u0259\\u0281\\u00f5\\u0169\", \"ns# :: \\u0259\\u0281\\u00f5\", \"ons# :: \\u0281\\u00f5\\u0169\\u032f\", \"sero :: \\u0281\\u00f5\\u0169\\u032f\", \"ser :: \\u0281\\u00f5\\u0169\\u032f\", \"ns# :: \\u0281\\u00f5\\u0169\\u032f\", \"ons :: \\u0281\\u00f5\\u0169\\u032f\", \"rons :: \\u0281\\u00f5\\u0169\\u032f\", \"ron :: s\\u0259\\u0281\", \"mero :: \\u0259\\u0281\\u00f5\", \"ns# :: \\u0281\\u00f5\\u0169\", \"#de :: es\\u026a\", \"ons# :: \\u0281\\u00f5\\u0169\", \"rons :: \\u00f5\\u0169\\u032f#\", \"sero :: \\u00f5\\u0169\\u032f\", \"ccin :: ks\\u026an\", \"ons :: \\u0281\\u00f5\\u0169\", \"eron :: s\\u0259\\u0281\", \"ser :: s\\u0259\\u0281\\u00f5\", \"sse :: \\u0259\\u0281\\u00f5\", \"rons :: \\u0281\\u00f5\\u0169\", \"ero :: \\u0259\\u0281\\u00f5\\u0169\", \"mer :: m\\u0259\\u0281\", \"ron :: \\u0259\\u0281\\u00f5\", \"eron :: \\u00f5\\u0169\\u032f#\", \"rons :: \\u0169\\u032f#\", \"ron :: \\u0259\\u0281\\u00f5\\u0169\", \"tera :: \\u0281a#\", \"eron :: \\u00f5\\u0169\\u032f\", \"ero :: \\u0169\\u032f#\", \"rai :: t\\u0259\\u0281a\", \"rons :: \\u00f5\\u0169\\u032f\", \"ero :: \\u0259\\u0281\\u00f5\", \"ero :: \\u0281\\u00f5\\u0169\\u032f\", \"eron :: \\u0259\\u0281\\u00f5\", \"eron :: \\u0259\\u0281\\u00f5\\u0169\", \"ero :: \\u0281\\u00f5\\u0169\", \"ron :: \\u00f5\\u0169\\u032f\", \"ron :: \\u00f5\\u0169\\u032f#\", \"nt# :: \\u00e6\\u0303#\", \"era :: \\u0281a#\", \"erai :: \\u0259\\u0281a\", \"rai :: \\u0259\\u0281a\", \"era :: \\u0259\\u0281a#\", \"erai :: \\u0259\\u0281a#\", \"era :: \\u0259\\u0281a\", \"erai :: \\u0281a#\", \"rai :: \\u0259\\u0281a#\", \"rai :: \\u0281a#\", \"ron :: \\u0281\\u00f5\\u0169\\u032f\", \"ron :: \\u0169\\u032f#\", \"ron :: \\u0281\\u00f5\\u0169\", \"eron :: \\u0281\\u00f5\\u0169\\u032f\", \"ons :: \\u0169\\u032f#\", \"ons# :: \\u0169\\u032f#\", \"eron :: \\u0169\\u032f#\", \"ons :: \\u00f5\\u0169\\u032f#\", \"#pr :: \\u0281\\u0251\\u0254\", \"#pro :: p\\u0281\\u0251\\u0254\", \"#pr :: \\u0281\\u0251\\u0254\\u032f\", \"#pr :: p\\u0281\\u0251\\u0254\", \"pro :: \\u0281\\u0251\\u0254\\u032f\", \"#pro :: #p\\u0281\", \"#pr :: \\u0251\\u0254\\u032f\", \"#pr :: p\\u0281\\u0251\", \"ler :: \\u0281je#\", \"rie :: \\u0259\\u0281je\", \"pro :: p\\u0281\\u0251\\u0254\", \"leri :: \\u0259\\u0281j\", \"iez# :: \\u0259\\u0281j\", \"iez# :: \\u0259\\u0281je\", \"#pro :: \\u0281\\u0251\\u0254\", \"#co :: \\u0254\\u032fa\", \"leri :: je#\", \"#pro :: \\u0251\\u0254\\u032f\", \"pro :: p\\u0281\\u0251\", \"#pro :: p\\u0281\\u0251\", \"erv :: za\\u0281v\", \"ler :: \\u0259\\u0281j\", \"ler :: \\u0281je\", \"epa :: \\u0281\\u0259pa\", \"#pr :: #p\\u0281\\u0251\", \"ser :: \\u0281ez\", \"rie :: \\u0259\\u0281j\", \"#pro :: #p\\u0281\\u0251\", \"pro :: #p\\u0281\\u0251\", \"pro :: \\u0281\\u0251\\u0254\", \"erie :: \\u0281je\", \"eri :: \\u0281je\", \"ez# :: \\u0259\\u0281je\", \"erie :: \\u0259\\u0281je\", \"eri :: je#\", \"riez :: \\u0259\\u0281j\", \"erie :: \\u0281je#\", \"erie :: \\u0259\\u0281j\", \"ez# :: \\u0259\\u0281j\", \"iez :: \\u0259\\u0281je\", \"eri :: \\u0281je#\", \"iez :: \\u0259\\u0281j\", \"eri :: \\u0259\\u0281je\", \"erie :: je#\", \"riez :: \\u0259\\u0281je\", \"eri :: \\u0259\\u0281j\", \"riez :: \\u0281je#\", \"iez :: \\u0281je#\", \"riez :: je#\", \"ez# :: \\u0281je\", \"rie :: je#\", \"iez# :: \\u0281je#\", \"rie :: \\u0281je#\", \"ez# :: \\u0281je#\", \"rie :: \\u0281je\", \"iez# :: \\u0281je\", \"ez# :: je#\", \"iez# :: je#\", \"iez :: je#\", \"iez :: \\u0281je\", \"ons :: sj\\u00f5\\u0169\", \"ion :: asj\\u00f5\", \"ion :: sj\\u00f5\\u0169\", \"sse :: \\u026aza\", \"assi :: asj\\u00f5\", \"assi :: \\u00f5\\u0169\\u032f\", \"ns# :: asj\\u00f5\", \"asse :: \\u026aza\", \"ions :: sj\\u00f5\\u0169\", \"ions :: asj\\u00f5\", \"sion :: asj\", \"isas :: \\u026azas\", \"ons# :: asj\\u00f5\", \"ons# :: sj\\u00f5\\u0169\", \"assi :: \\u00f5\\u0169\\u032f#\", \"sio :: j\\u00f5\\u0169\", \"ssio :: asj\\u00f5\", \"ns# :: asj\", \"ns# :: sj\\u00f5\", \"ass :: \\u026aza\", \"assi :: sj\\u00f5\\u0169\", \"ons# :: asj\", \"ons :: asj\\u00f5\", \"assi :: sj\\u00f5\", \"sio :: sj\\u00f5\\u0169\", \"assi :: j\\u00f5\\u0169\\u032f\", \"ons :: asj\", \"ass :: j\\u00f5\\u0169\\u032f\", \"se# :: \\u026aza\", \"ssi :: \\u00f5\\u0169\\u032f#\", \"sio :: \\u00f5\\u0169\\u032f\", \"ssio :: asj\", \"ns# :: sj\\u00f5\\u0169\", \"sion :: j\\u00f5\\u0169\\u032f\", \"ion :: sj\\u00f5\", \"sion :: \\u00f5\\u0169\\u032f#\", \"ass :: zas#\", \"ions :: \\u00f5\\u0169\\u032f#\", \"ion :: \\u00f5\\u0169\\u032f#\", \"ions :: \\u00f5\\u0169\\u032f\", \"ons :: j\\u00f5\\u0169\", \"ion :: \\u0169\\u032f#\", \"ion :: \\u00f5\\u0169\\u032f\", \"ion :: j\\u00f5\\u0169\", \"ion :: j\\u00f5\\u0169\\u032f\", \"ons# :: \\u00f5\\u0169\\u032f#\", \"ns# :: \\u00f5\\u0169\\u032f#\", \"ions :: \\u0169\\u032f#\", \"ons :: j\\u00f5\\u0169\\u032f\", \"ons# :: \\u0169\\u032f#\", \"ns# :: \\u00f5\\u0169\\u032f\", \"ns# :: j\\u00f5\\u0169\", \"ns# :: \\u0169\\u032f#\", \"ons :: \\u00f5\\u0169\\u032f#\", \"ons :: \\u0169\\u032f#\", \"ions :: j\\u00f5\\u0169\", \"ons# :: \\u00f5\\u0169\\u032f\", \"ons :: \\u00f5\\u0169\\u032f\", \"ions :: j\\u00f5\\u0169\\u032f\", \"ons# :: j\\u00f5\\u0169\", \"ns# :: j\\u00f5\\u0169\\u032f\", \"ons# :: j\\u00f5\\u0169\\u032f\", \"ass :: as#\", \"asse :: as#\", \"sse :: as#\", \"#d\\u00e9 :: #de\", \"nfis :: #k\\u00f5\\u0169\", \"#in :: \\u032fs\\u026a\", \"eint :: \\u1ebd\\u0129\\u032ft\", \"stra :: ast\\u0281\", \"uiv :: s\\u0265iv\", \"asse :: #kad\", \"nte :: \\u0129\\u032ft\", \"ert :: a\\u0281t\\u0361\", \"pir :: \\u026a\\u0281a#\", \"chas :: \\u0254\\u032f\\u0283a\", \"nfi :: k\\u00f5\\u0169\\u032f\", \"tra :: ast\", \"ewr :: \\u0281\\u0259\\u0281a\", \"ein :: \\u0129\\u032ft\", \"ast :: #\\u0251\\u0303k\", \"tise :: \\u026aze#\", \"#con :: \\u0169\\u032ff\\u026a\", \"spir :: sp\\u026a\", \"fis :: k\\u00f5\\u0169\\u032f\", \"cast :: #\\u0251\\u0303\", \"ein :: \\u0129\\u032fte\", \"drag :: d\\u0281a\", \"sse# :: das\", \"ein :: \\u1ebd\\u0129\\u032ft\", \"str :: ast\\u0281\", \"int :: \\u1ebd\\u0129\\u032f\", \"inda :: \\u1ebd\\u0129\\u032f\", \"rep\\u00e9 :: #\\u0281\\u0259\", \"tes# :: \\u0251t#\", \"#ta :: #tak\", \"iez# :: \\u0361sje\", \"int :: \\u1ebd\\u0129\\u032ft\", \"eint :: \\u0129\\u032ft\", \"#in :: #\\u1ebd\\u0129\", \"int :: \\u0129\\u032fte\", \"ass :: \\u0283as\", \"#in :: #\\u1ebd\\u0129\\u032f\", \"#in :: \\u1ebd\\u0129\\u032f\", \"int :: \\u0129\\u032ft\", \"sse :: as#\", \"ass :: as#\", \"asse :: as#\", \"#en :: #\\u0251\\u0303\", \"rai :: \\u0281a#\", \"ass :: \\u0283as#\", \"sse# :: as#\", \"#con :: k\\u00f5\\u0169\", \"se# :: as#\", \"has :: as#\", \"cha :: \\u0283as\", \"iez# :: je#\", \"rait :: \\u0281a#\", \"era :: \\u0281a#\", \"ais# :: \\u0281a#\", \"erai :: \\u0281a#\", \"ssen :: as#\", \"ent :: #\\u0251\\u0303\", \"sen :: as#\", \"ent# :: as#\", \"tai :: ta#\", \"ngl :: \\u0251\\u0303gl\", \"dit :: \\u0361z\\u026a\", \"lamb :: #fl\\u0251\", \"audi :: od\\u0361\", \"ass :: asa\", \"ass :: sas#\", \"dit :: \\u0361z\\u026at\", \"gla :: \\u0303gl\", \"las :: #ma\", \"flam :: l\\u0251\\u0303b\", \"lam :: fl\\u0251\", \"dit :: z\\u026at\", \"assa :: asa\", \"dit :: d\\u0361z\\u026a\", \"gla :: \\u0303gla\", \"atel :: tlas\", \"iss :: \\u026asj\\u00f5\", \"lamb :: l\\u0251\\u0303\", \"eur :: \\u0281d\\u0153\", \"\\u00e9di :: z\\u026at\", \"#dem :: #d\\u0259\", \"ass :: asas\", \"gon :: \\u00f5\\u0169\\u032f\", \"ent :: da\\u0281\", \"ssas :: as#\", \"ela :: #ma\", \"iss :: sj\\u00f5\", \"sas :: asa\", \"orta :: p\\u0251\\u0254\", \"ngla :: \\u0303gl\", \"ass :: #\\u0281a\", \"nt# :: da\\u0281\", \"dit :: d\\u0361z\", \"deus :: \\u00f8z#\", \"ass :: sas\", \"ses :: sas\", \"m\\u00e9r :: #n\\u028fm\", \"ssa :: asa\", \"stra :: t\\u0281\\u0254\", \"ion :: \\u00f5\\u0169\\u032f#\", \"ion :: \\u00f5\\u0169\\u032f\", \"ses :: asas\", \"ions :: \\u00f5\\u0169\\u032f\", \"eurs :: \\u0153\\u0281#\", \"ons# :: j\\u00f5\\u0169\", \"ons :: j\\u00f5\\u0169\\u032f\", \"ion :: \\u0169\\u032f#\", \"ion :: j\\u00f5\\u0169\\u032f\", \"ions :: \\u00f5\\u0169\\u032f#\", \"ass :: as#\", \"ions :: j\\u00f5\\u0169\\u032f\", \"ns# :: j\\u00f5\\u0169\\u032f\", \"ions :: \\u0169\\u032f#\", \"ons# :: j\\u00f5\\u0169\\u032f\", \"ons :: \\u0169\\u032f#\", \"ns# :: j\\u00f5\\u0169\", \"ions :: j\\u00f5\\u0169\", \"ons :: j\\u00f5\\u0169\", \"ion :: j\\u00f5\\u0169\", \"ns# :: \\u0169\\u032f#\", \"ons# :: \\u00f5\\u0169\\u032f\", \"ons :: \\u00f5\\u0169\\u032f\", \"ns# :: \\u00f5\\u0169\\u032f\", \"ns# :: \\u00f5\\u0169\\u032f#\", \"ons# :: \\u0169\\u032f#\", \"ons# :: \\u00f5\\u0169\\u032f#\", \"ons :: \\u00f5\\u0169\\u032f#\", \"sse :: as#\", \"asse :: as#\", \"lis :: \\u026ana\", \"ina :: f\\u026an\", \"lla :: \\u026aja\", \"oupi :: g\\u028ap\\u026a\", \"ubi :: #\\u0292y\", \"fin :: al\\u026a\", \"fina :: nal\", \"bill :: b\\u026aja\", \"inal :: f\\u026ana\", \"oupi :: \\u028ap\\u026aj\", \"fina :: al\\u026a\", \"oup :: \\u028ap\\u026aj\", \"nali :: f\\u026ana\", \"lis :: #f\\u026a\", \"fina :: #f\\u026an\", \"inal :: al\\u026az\", \"lis :: f\\u026ana\", \"#fin :: nal\", \"#fin :: al\\u026az\", \"#ab :: aps\", \"nal :: al\\u026a\", \"nali :: \\u026ana\", \"ali :: #f\\u026a\", \"rra :: \\u0281asj\", \"pill :: p\\u026aj\", \"fin :: nal\\u026a\", \"#fin :: l\\u026az\", \"alis :: \\u026anal\", \"fina :: al\\u026az\", \"#fin :: nal\\u026a\", \"inal :: \\u026ana\", \"ass :: zas\", \"upil :: \\u028ap\\u026aj\", \"ali :: f\\u026an\", \"ina :: #f\\u026a\", \"nal :: #f\\u026an\", \"illa :: \\u026aja\", \"nali :: \\u026anal\", \"#esq :: ask\\u026a\", \"ier :: \\u026afj\\u0259\", \"fin :: #f\\u026a\", \"#de :: v\\u0251\\u0303\", \"ill :: \\u026aja\", \"rit :: me\\u0281\\u026a\", \"ina :: al\\u026a\", \"ali :: al\\u026a\", \"#fi :: #f\\u026a\", \"asse :: as#\", \"sse :: as#\", \"ass :: as#\", \"ina :: \\u026ana\", \"#ab :: #aps\", \"fin :: f\\u026an\", \"lla :: jas\", \"#fi :: #f\\u026an\", \"lis :: al\\u026az\", \"se# :: as#\", \"erai :: \\u0259\\u0281a#\", \"lis :: al\\u026a\", \"rez :: \\u0281e#\", \"sse# :: as#\", \"sass :: as#\", \"nts# :: m\\u00e6\\u0303#\", \"enc :: \\u0169\\u032fs#\", \"cit :: \\u026as\\u026at\", \"cit\\u00e9 :: \\u026as\\u026at\", \"ion :: b\\u028a\\u0283\", \"nce :: \\u00e3\\u0169\\u032fs\", \"ici :: s\\u026ate\", \"tai :: \\u00f5\\u0169\\u032f\", \"it\\u00e9 :: \\u026as\\u026at\", \"cit\\u00e9 :: \\u026ate\", \"ence :: \\u00e3\\u0169\\u032f\", \"l\\u00e2t :: \\u0251t#\", \"enc :: \\u0169\\u032fs\", \"ents :: \\u00e6\\u0303#\", \"el\\u00e2t :: l\\u0251t\", \"hio :: j\\u00f5\\u0169\\u032f\", \"it\\u00e9 :: \\u026as\\u026a\", \"es# :: \\u0169\\u032fs\", \"#rou :: #\\u0281\\u028al\", \"nce :: \\u0169\\u032fs#\", \"ait# :: aka\", \"iez :: lje#\", \"bouc :: \\u0283j\\u00f5\", \"hion :: \\u00f5\\u0169\\u032f\", \"nce :: \\u00e3\\u0169\\u032f\", \"ions :: b\\u028a\\u0283j\", \"#en :: \\u0251\\u0303s\", \"lie :: lje\", \"ces# :: \\u032fs#\", \"conf :: k\\u00f5\\u0169\", \"t\\u00e9# :: \\u026ate\", \"cit\\u00e9 :: \\u026ate#\", \"ence :: \\u0169\\u032fs#\", \"cit\\u00e9 :: s\\u026at\", \"iez :: lje\", \"ts# :: m\\u00e6\\u0303\", \"it\\u00e9 :: \\u026ate\", \"it\\u00e9 :: \\u026ate#\", \"ense :: \\u0251\\u0303s\", \"#co :: k\\u00f5\\u0169\\u032f\", \"rit :: \\u0281ajt\", \"ons# :: \\u00f5\\u0169\\u032f\", \"#con :: #k\\u00f5\\u0169\", \"#re :: #\\u0281\\u0259\", \"ass :: as#\", \"con :: k\\u00f5\\u0169\\u032f\", \"#co :: \\u00f5\\u0169\\u032f\", \"sse :: as#\", \"ons# :: \\u00f5\\u0169\\u032f#\", \"ons :: \\u00f5\\u0169\\u032f#\", \"asse :: as#\", \"ion :: \\u00f5\\u0169\\u032f\", \"ons :: \\u0169\\u032f#\", \"ns# :: \\u00f5\\u0169\\u032f#\", \"ns# :: \\u0169\\u032f#\", \"ons :: \\u00f5\\u0169\\u032f\", \"ns# :: \\u00f5\\u0169\\u032f\", \"ons# :: \\u0169\\u032f#\", \"#con :: \\u00f5\\u0169\\u032f\", \"ons# :: j\\u00f5\\u0169\\u032f\", \"#en :: #\\u0251\\u0303\", \"ion :: j\\u00f5\\u0169\\u032f\", \"ons# :: j\\u00f5\\u0169\", \"era :: \\u0259\\u0281\\u0254\", \"#co :: #k\\u00f5\\u0169\", \"ion :: \\u0169\\u032f#\", \"ions :: j\\u00f5\\u0169\\u032f\", \"ons :: j\\u00f5\\u0169\\u032f\", \"ns# :: j\\u00f5\\u0169\\u032f\", \"ions :: j\\u00f5\\u0169\", \"ifi :: \\u026aje\", \"auto :: \\u0251\\u0254\\u032f\", \"iie :: f\\u026aj\", \"iiez :: f\\u026aje\", \"ors :: \\u0254\\u032f\\u0281\", \"#d\\u00e9n :: \\u026ag\\u0281\", \"ont :: #k\\u00f5\", \"top :: ot\\u0251\\u0254\", \"cons :: \\u00f5\\u0169\\u032fs\", \"ont :: \\u032ft\\u0281\", \"taie :: sta#\", \"ons :: k\\u00f5\\u0169\\u032f\", \"cons :: \\u00f5\\u0169\\u032f\", \"doy :: aje\", \"iez# :: \\u026af\\u026aj\", \"cons :: k\\u00f5\\u0169\", \"sifi :: #kl\", \"sif :: \\u026af\\u026aj\", \"#cl :: klas\", \"ass :: las\\u026a\", \"sif :: je#\", \"#co :: \\u0169\\u032fs\", \"lass :: #kla\", \"#con :: \\u0169\\u032ft\", \"cons :: #k\\u00f5\", \"#p\\u00e9t :: pet\", \"ons :: k\\u00f5\\u0169\", \"top :: t\\u0251\\u0254\", \"d\\u00e9g :: degw\", \"pos :: \\u0254\\u032fst\", \"con :: #k\\u00f5\", \"con :: \\u00f5\\u0169\\u032f\", \"#con :: #k\\u00f5\\u0169\", \"#con :: \\u00f5\\u0169\\u032f\", \"#co :: #k\\u00f5\\u0169\", \"con :: k\\u00f5\\u0169\", \"con :: #k\\u00f5\\u0169\", \"#co :: #k\\u00f5\", \"#con :: k\\u00f5\\u0169\", \"#con :: k\\u00f5\\u0169\\u032f\", \"#co :: k\\u00f5\\u0169\\u032f\", \"#con :: #k\\u00f5\", \"con :: k\\u00f5\\u0169\\u032f\", \"#co :: k\\u00f5\\u0169\", \"cons :: k\\u00f5\\u0169\\u032f\", \"#co :: \\u00f5\\u0169\\u032f\", \"ons :: \\u00f5\\u0169\\u032f\", \"ont :: \\u00f5\\u0169\\u032ft\", \"#co :: \\u00f5\\u0169\\u032fs\", \"ont :: \\u0169\\u032ft\", \"ns# :: \\u00f5\\u0169\\u032f\", \"ons# :: \\u00f5\\u0169\\u032f#\", \"ons# :: \\u00f5\\u0169\\u032f\", \"ns# :: \\u00f5\\u0169\\u032f#\", \"ons :: \\u00f5\\u0169\\u032f#\", \"ons :: \\u0169\\u032f#\", \"ns# :: \\u0169\\u032f#\", \"ons# :: \\u0169\\u032f#\", \"ez# :: je#\", \"las :: las\", \"#su :: #s\\u028f\", \"#d\\u00e9 :: #de\", \"ent# :: \\u0281as\", \"nt# :: \\u0281as#\", \"\\u00e8re :: ja\\u0281#\", \"ing :: \\u032f\\u0292e\\u0281\", \"ent :: \\u0281as#\", \"g\\u00e9r :: \\u0292e\\u0281\", \"ssen :: \\u0281as#\", \"sem :: m\\u00e6\\u0303#\", \"\\u00e9ra :: e\\u0281as\", \"ndr :: #\\u0251\\u0303\", \"ndr :: \\u0303d\\u0281\", \"ng\\u00e9 :: \\u1ebd\\u0129\\u032f\", \"iso :: \\u026az\\u0251\", \"g\\u00e9r :: #\\u1ebd\\u0129\", \"g\\u00e9r :: \\u0281a#\", \"nt# :: \\u0281as\", \"son :: \\u0251\\u0254\\u032fn\", \"isse :: sm\\u00e6\", \"sent :: \\u0281as\", \"oufr :: \\u0281\\u028af\", \"ng\\u00e9 :: \\u032f\\u0292e\", \"ing :: #\\u1ebd\\u0129\\u032f\", \"\\u00e8ren :: ja\\u0281#\", \"ng\\u00e9 :: #\\u1ebd\\u0129\\u032f\", \"ndo :: d\\u028aj\", \"sen :: \\u0281as#\", \"ni\\u00e8 :: a\\u0281#\", \"cim :: m\\u0251\\u0303t\", \"sen :: \\u0281as\", \"#p\\u00e9 :: et\\u0281\\u026a\", \"g\\u00e9r :: \\u1ebd\\u0129\\u032f\", \"sent :: \\u0281as#\", \"ent# :: \\u0281as#\", \"riso :: \\u0281\\u026az\", \"ndr :: \\u0251\\u0303d\", \"ssen :: \\u0281as\", \"rera :: \\u0281\\u0259\\u0281a\", \"onn :: \\u0251\\u0254\\u032f\", \"onn :: \\u0251\\u0254\\u032fn\", \"onn :: \\u0254\\u032fn\", \"\\u00e8re :: ja\\u0281\", \"sse :: \\u0281as#\", \"ent# :: ja\\u0281#\", \"onne :: \\u0254\\u032fn\", \"nna :: \\u0254\\u032fn\", \"end :: \\u0251\\u0303d\", \"rai :: \\u0281a#\", \"\\u00e8re :: a\\u0281#\", \"#d\\u00e9 :: #de\", \"sse :: \\u0281as\", \"sse :: as#\", \"ass :: as#\", \"nne :: \\u0251\\u0254\\u032f\", \"rer :: \\u0281\\u0259\\u0281\", \"sen :: as#\", \"asse :: as#\", \"ent :: as#\", \"era :: \\u0281a#\", \"rc\\u00e9 :: a\\u0281s\", \"sag :: \\u026asa\", \"alt :: #al\", \"rni :: \\u0281n\\u026as\", \"iss :: n\\u026as\", \"lis :: al\\u026a\", \"anou :: epa\", \"alis :: al\\u026a\", \"arni :: \\u0281n\\u026a\", \"cha :: \\u0303\\u0292a\", \"niss :: n\\u026as\", \"feui :: f\\u0153j\", \"gar :: ga\\u0281n\", \"erc\\u00e9 :: a\\u0281se\", \"#al :: #alt\", \"alis :: l\\u026aze\", \"nis :: n\\u026as\", \"rent :: na\\u0281#\", \"ois :: waz\\u0259\", \"#fe :: f\\u0153j\", \"as# :: v\\u0259\\u0281\", \"ill :: f\\u0153j\", \"#\\u00e9pa :: epa\", \"eign :: pa\\u0272\", \"sse :: \\u0259na\", \"\\u00e9pa :: #epa\", \"nt\\u00e2m :: \\u0251\\u0303t\", \"lter :: #al\", \"erai :: k\\u0259\\u0281\", \"chan :: e\\u0283\\u0251\\u0303\", \"nass :: \\u0272as\", \"ali :: al\\u026a\", \"ali :: \\u026aze#\", \"alis :: \\u026aze#\", \"ali :: l\\u026az\", \"niss :: a\\u0281n\", \"alis :: l\\u026az\", \"#\\u00e9p :: #epa\", \"ver :: \\u0281\\u0254#\", \"lis :: al\\u026az\", \"alis :: al\\u026az\", \"es# :: am#\", \"#ga :: #ga\\u0281\", \"ssa :: \\u026asa\", \"lis :: l\\u026az\", \"mes# :: am#\", \"\\u00e2me :: am#\", \"\\u00e2mes :: am#\", \"asse :: as#\", \"sse :: as#\", \"ass :: as#\", \"issa :: \\u026asa\", \"mes :: am#\", \"\\u00e8ren :: a\\u0281#\", \"tes# :: at#\", \"nt# :: as#\", \"#d\\u00e9 :: #de\", \"#r\\u00e9 :: #\\u0281e\", \"ras :: \\u0281\\u0254#\", \"rent :: a\\u0281#\", \"tes :: at#\", \"es# :: at#\", \"ssen :: as#\", \"\\u00e2tes :: at#\", \"ill :: \\u0259\\u0281\\u0254\", \"n\\u00e7a :: sas#\", \"ille :: j\\u0259\\u0281\\u0254\", \"ati :: s\\u026an\", \"tin :: \\u0361s\\u026an\", \"ill :: \\u0281\\u0254#\", \"ler :: \\u0281\\u0254#\", \"atin :: \\u0361s\\u026a\", \"lle :: j\\u0259\\u0281\\u0254\", \"\\u00e9pi :: p\\u026as\", \"tin :: t\\u0361s\", \"#ra :: ak\\u00f5\", \"l\\u00e2t :: aj\\u0254#\", \"ler :: \\u0259\\u0281\\u0254#\", \"acon :: \\u00f5\\u0169\\u032f\", \"tin :: t\\u0361s\\u026a\", \"meu :: am\\u00f8\", \"lera :: j\\u0259\\u0281\\u0254\", \"ller :: \\u0259\\u0281\\u0254#\", \"aco :: #\\u0281a\", \"ont :: \\u0281ak\\u00f5\", \"\\u00e9nig :: en\\u026ag\", \"for :: \\u0251\\u0254\\u032f\\u0281\", \"lle :: \\u0259\\u0281\\u0254#\", \"ller :: \\u0281\\u0254#\", \"ler :: \\u0259\\u0281\\u0254\", \"ati :: t\\u0361s\", \"lle :: \\u0281\\u0254#\", \"d\\u00e9cr :: \\u0281ep\", \"tin :: \\u026ane\", \"#mu :: m\\u028ft\\u0361\", \"ra# :: j\\u0259\\u0281\\u0254\", \"lera :: \\u0259\\u0281\\u0254#\", \"lera :: \\u0259\\u0281\\u0254\", \"lera :: j\\u0259\\u0281\", \"lera :: \\u0281\\u0254#\", \"lle :: \\u0259\\u0281\\u0254\", \"ill :: \\u0259\\u0281\\u0254#\", \"ller :: \\u0259\\u0281\\u0254\", \"ler :: j\\u0259\\u0281\\u0254\", \"ille :: \\u0259\\u0281\\u0254\", \"ill :: j\\u0259\\u0281\\u0254\", \"era :: j\\u0259\\u0281\\u0254\", \"era :: \\u0259\\u0281\\u0254#\", \"era :: \\u0259\\u0281\\u0254\", \"era :: \\u0281\\u0254#\", \"ras# :: \\u0281\\u0254#\", \"ras :: \\u0281\\u0254#\", \"as# :: \\u0281\\u0254#\", \"as# :: \\u0259\\u0281\\u0254\", \"eras :: \\u0281\\u0254#\", \"#d\\u00e9 :: #de\", \"ras# :: \\u0259\\u0281\\u0254#\", \"as# :: \\u0259\\u0281\\u0254#\", \"eras :: \\u0259\\u0281\\u0254\", \"ras# :: \\u0259\\u0281\\u0254\", \"ras :: \\u0259\\u0281\\u0254\", \"ras :: \\u0259\\u0281\\u0254#\", \"eras :: \\u0259\\u0281\\u0254#\", \"ouil :: \\u0259\\u0281\\u0254#\", \"rou :: \\u0281\\u028aj\", \"ouil :: \\u0281\\u0254#\", \"conv :: k\\u00f5\\u0169\", \"onv :: #k\\u00f5\", \"#sac :: #sa\", \"oui :: \\u028aja\", \"roui :: \\u028aj\\u0259\", \"uill :: \\u0259\\u0281\\u0254\", \"illa :: \\u028aja#\", \"oui :: \\u0281\\u0254#\", \"uil :: \\u0281\\u0254#\", \"oui :: \\u028aja#\", \"uil :: \\u0281\\u028aj\", \"lera :: \\u028aj\\u0259\\u0281\", \"onv :: #k\\u00f5\\u0169\", \"nvi :: \\u032fvj\", \"onv :: \\u0169\\u032fv\", \"uill :: ja#\", \"con :: \\u00f5\\u0169\\u032fv\", \"\\u00e9gr :: deg\\u0281\", \"ille :: \\u028aj\\u0259\\u0281\", \"con :: \\u0169\\u032fv\", \"ill :: \\u0281\\u028aj\", \"ouil :: \\u0281\\u028aj\", \"era :: \\u0281\\u028aj\\u0259\", \"onv :: k\\u00f5\\u0169\\u032f\", \"oui :: \\u0259\\u0281\\u0254#\", \"conv :: #k\\u00f5\", \"par :: a\\u0281v\", \"conv :: \\u00f5\\u0169\\u032fv\", \"uill :: \\u0281\\u028aj\", \"lera :: \\u028aj\\u0259\", \"oui :: \\u0281\\u028aj\", \"illa :: \\u028aja\", \"roui :: \\u0281\\u028aj\", \"ill :: \\u028aja\", \"ller :: \\u0259\\u0281\\u0254#\", \"uil :: j\\u0259\\u0281\\u0254\", \"lla :: \\u028aja\", \"uill :: \\u028aja\", \"lle :: \\u0281\\u0254#\", \"lera :: \\u0281\\u0254#\", \"con :: #k\\u00f5\", \"ller :: \\u0259\\u0281\\u0254\", \"era# :: \\u0281\\u0254#\", \"#co :: k\\u00f5\\u0169\", \"#con :: #k\\u00f5\", \"#con :: k\\u00f5\\u0169\", \"#con :: #k\\u00f5\\u0169\", \"era :: \\u0281\\u0254#\", \"#d\\u00e9 :: #de\", \"era :: \\u0259\\u0281\\u0254\", \"era# :: \\u0259\\u0281\\u0254#\", \"era :: \\u0259\\u0281\\u0254#\", \"con :: k\\u00f5\\u0169\", \"ra# :: \\u0281\\u0254#\", \"#co :: \\u00f5\\u0169\\u032f\", \"con :: k\\u00f5\\u0169\\u032f\", \"con :: #k\\u00f5\\u0169\", \"ra# :: \\u0259\\u0281\\u0254\", \"era# :: \\u0259\\u0281\\u0254\", \"ra# :: \\u0259\\u0281\\u0254#\", \"#con :: \\u00f5\\u0169\\u032f\", \"con :: \\u00f5\\u0169\\u032f\", \"ompt :: \\u0169\\u032ft\", \"ment :: fa\\u0281\", \"bliq :: bl\\u026a\", \"era# :: at\\u0259\\u0281\", \"obli :: l\\u026ak\", \"tant :: \\u032ft\\u00e6\\u0303\", \"ant :: t\\u00e6\\u0303\", \"tant :: t\\u00e6\\u0303#\", \"tan :: \\u00e6\\u0303#\", \"obli :: bl\\u026a\", \"#so :: #s\\u028a\", \"\\u00e9es :: \\u032fne#\", \"ien :: \\u1ebd\\u0129\\u032f#\", \"liq :: \\u032fbl\\u026a\", \"tan :: \\u0169\\u032ft\\u00e6\", \"tan :: t\\u00e6\\u0303\", \"sou :: #s\\u028a\", \"erme :: \\u0281m\\u0251\", \"sou :: #s\\u028af\", \"hamb :: b\\u028al\", \"tal :: al#\", \"bli :: \\u0251\\u0254\\u032fb\", \"ant :: \\u032ft\\u00e6\", \"tant :: t\\u00e6\\u0303\", \"souf :: #s\\u028af\", \"tant :: \\u032ft\\u00e6\", \"amb :: #\\u0283\\u0251\\u0303\", \"nt# :: t\\u00e6\\u0303\", \"obl :: \\u032fbl\\u026a\", \"ant :: t\\u00e6\\u0303#\", \"#sou :: #s\\u028a\", \"tan :: \\u032ft\\u00e6\", \"tant :: \\u00e6\\u0303#\", \"ant# :: t\\u00e6\\u0303\", \"nt# :: t\\u00e6\\u0303#\", \"ant# :: t\\u00e6\\u0303#\", \"tan :: t\\u00e6\\u0303#\", \"era :: at\\u0259\\u0281\", \"ter :: at\\u0259\", \"era :: at\\u0259\", \"ant :: \\u00e6\\u0303#\", \"ment :: m\\u0251\\u0303\", \"oura :: \\u028a\\u0281a\", \"sexu :: sak\", \"ant# :: \\u00e6\\u0303#\", \"nt# :: \\u00e6\\u0303#\", \"tera :: t\\u0259\\u0281\", \"sse :: as#\", \"asse :: as#\", \"ass :: as#\", \"nt# :: \\u0251\\u0254\\u032f\", \"era :: t\\u0259\\u0281\", \"rai :: \\u0281a#\", \"ent :: \\u0251\\u0303t\", \"#d\\u00e9 :: #de\", \"era :: \\u0281\\u0254#\", \"#d\\u00e9f :: def\\u0281\", \"d\\u00e9fr :: def\\u0281\", \"d\\u00e9fr :: ef\\u0281\", \"\\u00e9fr :: #def\", \"#d\\u00e9 :: ef\\u0281\", \"\\u00e9fr :: def\", \"ota :: \\u0251\\u0254\\u032f\", \"#d\\u00e9 :: def\\u0281\", \"d\\u00e9f :: def\\u0281\", \"ota :: \\u032ft\\u0254\", \"rais :: \\u026az\\u0259\", \"#d\\u00e9 :: f\\u0281\\u026a\", \"\\u00e9fri :: def\\u0281\", \"\\u00e9fr :: def\\u0281\", \"uera :: \\u0259\\u0281a#\", \"iss :: f\\u0281wa\", \"#arn :: a\\u0281na\", \"d\\u00e9fr :: def\", \"#d\\u00e9 :: ef\\u0281\\u026a\", \"fri :: def\\u0281\", \"fri :: def\", \"rai :: av\\u026a\", \"it# :: \\u032fta#\", \"otas :: \\u0254\\u032ft\", \"froi :: f\\u0281wa\", \"\\u00e9fr :: ef\\u0281\\u026a\", \"rois :: f\\u0281wa\", \"\\u00e9fr :: ef\\u0281\", \"ota :: \\u0254\\u032ft\\u0254\", \"era :: k\\u0259\\u0281a\", \"uera :: \\u0259\\u0281a\", \"#d\\u00e9l :: del\", \"d\\u00e9fr :: #de\", \"uera :: \\u0281a#\", \"d\\u00e9f :: #de\", \"uer :: k\\u0259\\u0281\", \"ota :: \\u0251\\u0254\\u032ft\", \"uer :: \\u0281a#\", \"ota :: \\u0254\\u032ft\", \"uer :: \\u0259\\u0281a#\", \"\\u00e9fr :: #de\", \"quer :: k\\u0259\\u0281\", \"#d\\u00e9f :: def\", \"d\\u00e9f :: ef\\u0281\", \"rai :: \\u0259\\u0281a#\", \"era :: \\u0259\\u0281a#\", \"erai :: \\u0281a#\", \"eus :: \\u00f8z#\", \"rai :: \\u0259\\u0281a\", \"erai :: \\u0259\\u0281a\", \"era :: \\u0259\\u0281a\", \"era :: \\u0281a#\", \"erai :: \\u0259\\u0281a#\", \"#d\\u00e9 :: #de\", \"rai :: \\u0281a#\", \"#d\\u00e9f :: #de\", \"#d\\u00e9f :: #def\", \"rais :: \\u0259\\u0281a#\", \"ais :: \\u0259\\u0281a\", \"ais :: \\u0259\\u0281a#\", \"d\\u00e9sa :: #de\", \"\\u00e9ri :: e\\u0281\\u026as\", \"eur# :: t\\u0153\\u0281#\", \"\\u00e9ri :: \\u0281\\u026as\", \"ssa :: asj\", \"ons# :: f\\u026al\", \"drai :: \\u0281a#\", \"\\u00e9ris :: e\\u0281\\u026a\", \"ndr :: d\\u0281a\", \"#d\\u00e9s :: deza\", \"tass :: sje\", \"#d\\u00e9 :: eza\", \"#d\\u00e9 :: deza\", \"ntas :: \\u0303ta\", \"teu :: t\\u0153\\u0281\", \"ur# :: t\\u0153\\u0281\", \"ris :: e\\u0281\\u026as\", \"ndr :: \\u0281a#\", \"eur :: t\\u0153\\u0281#\", \"\\u00e9sa :: deza\", \"rai :: \\u032fd\\u0281a\", \"eind :: \\u0281a#\", \"ndra :: \\u032fd\\u0281a\", \"iss :: e\\u0281\\u026a\", \"sass :: sasj\", \"ndr :: t\\u1ebd\\u0129\\u032f\", \"dra :: \\u032fd\\u0281a\", \"essa :: asje\", \"drai :: d\\u0281a\", \"res :: asje\", \"#d\\u00e9s :: eza\", \"teur :: t\\u0153\\u0281#\", \"d\\u00e9s :: #de\", \"ur# :: t\\u0153\\u0281#\", \"tass :: tas\", \"d\\u00e9s :: #dez\", \"tas :: tas\", \"teur :: \\u0153\\u0281#\", \"ssa :: je#\", \"ris :: e\\u0281\\u026a\", \"ass :: tas\", \"ssi :: asje\", \"ass :: sje#\", \"teur :: t\\u0153\\u0281\", \"teu :: \\u0153\\u0281#\", \"assi :: sje#\", \"ass :: asj\", \"iez :: sje#\", \"sie :: asj\", \"ssie :: asj\", \"ssi :: sje\", \"ssi :: asj\", \"assi :: sje\", \"assi :: asj\", \"sie :: sje#\", \"ssie :: je#\", \"ez# :: asje\", \"iez# :: asje\", \"assi :: je#\", \"#d\\u00e9 :: #de\", \"siez :: je#\", \"ssie :: asje\", \"assi :: asje\", \"ass :: sje\", \"ssie :: sje\", \"ass :: je#\", \"iez :: asje\", \"sie :: asje\", \"ssi :: sje#\", \"iez# :: sje#\", \"sse :: as#\", \"nt\\u00e2t :: tat#\", \"es# :: \\u0303tat\", \"t\\u00e2t :: \\u0303ta\", \"t\\u00e2t :: \\u0251\\u0303t\", \"tes :: \\u0303ta\", \"\\u00e2tes :: \\u0251\\u0303t\", \"tes :: tat#\", \"nt\\u00e2 :: tat#\", \"nt\\u00e2t :: \\u0303tat\", \"tes :: \\u0251\\u0303ta\", \"nt\\u00e2t :: \\u0251\\u0303t\", \"\\u00e2tes :: \\u0251\\u0303ta\", \"#r\\u00e9 :: \\u0281ea\", \"inte :: \\u0129\\u032ft\\u0251\", \"t\\u00e2te :: \\u0251\\u0303ta\", \"\\u00e2tes :: \\u0303tat\", \"nt\\u00e2 :: at#\", \"nt\\u00e2t :: \\u0303ta\", \"tes# :: \\u0303ta\", \"rad :: g\\u0281ad\", \"arr\\u00ea :: #a\\u0281e\", \"\\u00e2te :: \\u0251\\u0303ta\", \"t\\u00e2te :: \\u0251\\u0303t\", \"ali :: bal\\u026a\", \"ara :: a\\u0281o\", \"stas :: as#\", \"\\u00e2te :: tat#\", \"es# :: \\u00e3\\u0169\\u032ft\", \"tes# :: \\u0251\\u0303t\", \"eri :: #ba\", \"gra :: #g\\u0281a\", \"t\\u00e2te :: \\u0303ta\", \"assi :: je#\", \"es# :: tat\", \"ssie :: asj\", \"iez# :: sje#\", \"ass :: sje#\", \"ssi :: sje\", \"assi :: sje#\", \"ez# :: asje\", \"siez :: je#\", \"ez# :: asj\", \"siez :: sje\", \"siez :: asj\", \"assi :: sje\", \"iez :: sje#\", \"iez# :: asje\", \"ssie :: sje#\", \"sie :: je#\", \"assi :: asj\", \"iez :: asje\", \"ssi :: asje\", \"ass :: asje\", \"siez :: sje#\", \"sie :: sje#\", \"assi :: asje\", \"ass :: sje\", \"ssi :: asj\", \"iez# :: asj\", \"ass :: je#\", \"sie :: asj\", \"ssi :: sje#\", \"ssie :: je#\", \"iez :: sje\", \"ez# :: je#\", \"iez# :: sje\", \"iez :: asj\", \"iez# :: je#\", \"iez :: je#\", \"ez# :: sje\", \"rou :: f\\u0281\\u028a\", \"fro :: f\\u0281\\u028a\", \"frou :: f\\u0281\\u028a\", \"frou :: #f\\u0281\", \"frou :: \\u028af\\u0281\", \"rir :: \\u026a\\u0281a\", \"cri :: k\\u0281\\u026a\", \"rou :: #f\\u0281\", \"rou :: \\u0281\\u028af\", \"rout :: f\\u0281\\u028a\", \"\\u00e9cr :: ek\\u0281\\u026a\", \"\\u00e9cri :: ek\\u0281\", \"aill :: g\\u0281aj\", \"ira :: \\u0281\\u026a\\u0281\", \"fro :: f\\u0281\\u028af\", \"rou :: \\u0281\\u028at\", \"#fro :: f\\u0281\\u028a\", \"rou :: f\\u0281\\u028af\", \"oufr :: f\\u0281\\u028a\", \"fro :: \\u0281\\u028af\\u0281\", \"ufro :: f\\u0281\\u028a\", \"frou :: \\u0281\\u028at\", \"fro :: \\u028af\\u0281\", \"\\u00e9cri :: ek\\u0281\\u026a\", \"rira :: \\u0281\\u026a\\u0281\", \"res :: sje#\", \"rou :: \\u028af\\u0281\\u028a\", \"#fr :: \\u0281\\u028af\", \"rou :: \\u028af\\u0281\", \"ufr :: f\\u0281\\u028a\", \"rai :: \\u0281\\u026a\\u0281a\", \"cri :: ek\\u0281\\u026a\", \"cri :: ek\\u0281\", \"irai :: \\u026a\\u0281a#\", \"tas :: tas#\", \"fro :: #f\\u0281\", \"rir :: \\u0281\\u026a\\u0281\", \"rai :: \\u026a\\u0281a#\", \"ira :: \\u026a\\u0281a\", \"#po :: #p\\u00f5\\u0169\", \"sse :: as#\", \"ass :: as#\", \"asse :: as#\", \"iez# :: je#\", \"es# :: as#\", \"ez# :: je#\", \"iez :: je#\", \"#d\\u00e9 :: #de\", \"irai :: \\u0281a#\", \"ses :: as#\", \"\\u00e9cr :: ek\\u0281\", \"rai :: \\u0281a#\", \"se# :: as#\", \"ses# :: as#\", \"eri :: \\u0281je#\", \"ill :: \\u0283v\\u026a\", \"iva :: vas\", \"ns# :: \\u0281j\\u00f5\\u0169\", \"ons# :: \\u0259\\u0281j\", \"exc :: ks\\u026at\", \"ons# :: z\\u0259\\u0281j\", \"cit\\u00e9 :: s\\u026at\", \"asse :: #ak\", \"rio :: \\u0259\\u0281j\\u00f5\", \"chev :: #\\u0283v\\u026a\", \"eri :: \\u00f5\\u0169\\u032f#\", \"eri :: \\u0169\\u032f#\", \"effa :: fa\\u0281\", \"erio :: j\\u00f5\\u0169\", \"vil :: #\\u0283v\", \"d\\u00e9co :: ek\\u028a\", \"erio :: \\u00f5\\u0169\\u032f\", \"aci :: s\\u026at\", \"exci :: ks\\u026at\", \"vas :: vas\", \"\\u00e9cou :: dek\\u028a\", \"rion :: \\u0169\\u032f#\", \"rio :: \\u0169\\u032f#\", \"hev :: \\u0283v\\u026aj\", \"ivas :: \\u026avas\", \"erio :: \\u0281j\\u00f5\", \"ns# :: \\u0259\\u0281j\", \"ons# :: \\u0259\\u0281j\\u00f5\", \"acit :: s\\u026ate\", \"hevi :: \\u0283v\\u026aj\", \"cit\\u00e9 :: \\u026ate\", \"aque :: k\\u0259\\u0281\", \"it\\u00e9 :: s\\u026ate\", \"eri :: \\u0259\\u0281j\\u00f5\", \"it\\u00e9 :: \\u026ate#\", \"cit :: \\u026ate\", \"acit :: \\u026ate#\", \"cit\\u00e9 :: s\\u026ate\", \"cit :: \\u026ate#\", \"it\\u00e9 :: s\\u026at\", \"it\\u00e9 :: \\u026ate\", \"ons :: \\u0281j\\u00f5\\u0169\", \"cit :: s\\u026ate\", \"ssie :: sje#\", \"ssi :: asj\", \"it\\u00e9 :: te#\", \"ns# :: \\u0169\\u032f#\", \"ssi :: sje\", \"ons :: \\u00f5\\u0169\\u032f\", \"ons :: \\u0169\\u032f#\", \"sses :: as#\", \"ns# :: \\u00f5\\u0169\\u032f#\", \"ons :: \\u00f5\\u0169\\u032f#\", \"ons# :: \\u00f5\\u0169\\u032f#\", \"ons# :: \\u00f5\\u0169\\u032f\", \"ssie :: sje\", \"ns# :: \\u00f5\\u0169\\u032f\", \"ons# :: \\u0169\\u032f#\", \"iez# :: sje#\", \"ions :: \\u00f5\\u0169\\u032f\", \"ses :: as#\", \"siez :: sje#\", \"iez :: je#\", \"ssi :: sje#\", \"iez# :: je#\", \"sse :: as#\", \"lera :: l\\u0259\\u0281\", \"ez# :: je#\", \"siez :: je#\", \"assi :: asj\", \"siez :: sje\", \"asse :: as#\", \"rai :: \\u0259\\u0281a#\", \"ons# :: j\\u00f5\\u0169\", \"ras# :: l\\u0259\\u0281\\u0254\", \"#ba :: b\\u0251\\u0303\", \"te# :: \\u0169\\u032ft\", \"ras :: l\\u0259\\u0281\", \"nte# :: \\u0169\\u032ft\", \"as# :: l\\u0259\\u0281\", \"te# :: \\u0169\\u032ft#\", \"ras :: l\\u0259\\u0281\\u0254\", \"eras :: l\\u0259\\u0281\", \"ler :: l\\u0259\\u0281\\u0254\", \"te# :: \\u032ft#\", \"#po :: #p\\u028a\\u0281\", \"ant :: \\u032ft#\", \"bro :: aje#\", \"ante :: \\u0169\\u032ft#\", \"eras :: l\\u0259\\u0281\\u0254\", \"nte# :: \\u0169\\u032ft#\", \"cot\\u00e9 :: \\u032fte\", \"nte# :: \\u032ft#\", \"mand :: m\\u0251\\u0303\", \"ras# :: l\\u0259\\u0281\", \"nte# :: \\u00e3\\u0169\\u032ft\", \"nte :: \\u0169\\u032ft#\", \"ler :: \\u0259l\\u0259\\u0281\", \"lera :: l\\u0259\\u0281\\u0254\", \"era :: l\\u0259\\u0281\\u0254\", \"ante :: \\u032ft#\", \"as# :: l\\u0259\\u0281\\u0254\", \"ell :: \\u0259\\u0281\\u0254#\", \"te# :: \\u00e3\\u0169\\u032f\", \"ante :: \\u00e3\\u0169\\u032f\", \"ante :: \\u0169\\u032ft\", \"nte :: \\u032ft#\", \"te# :: \\u00e3\\u0169\\u032ft\", \"ler :: \\u0259\\u0281\\u0254\", \"eras :: \\u0259\\u0281\\u0254\", \"as# :: \\u0281\\u0254#\", \"as# :: \\u0259\\u0281\\u0254#\", \"ras :: \\u0259\\u0281\\u0254\", \"as# :: \\u0259\\u0281\\u0254\", \"era :: \\u0281\\u0254#\", \"ras# :: \\u0259\\u0281\\u0254#\", \"eras :: \\u0281\\u0254#\", \"ras :: \\u0259\\u0281\\u0254#\", \"eras :: \\u0259\\u0281\\u0254#\", \"era :: \\u0259\\u0281\\u0254\", \"era :: \\u0259\\u0281\\u0254#\", \"ras# :: \\u0281\\u0254#\", \"ras :: \\u0281\\u0254#\", \"ras# :: \\u0259\\u0281\\u0254\", \"lera :: \\u0281\\u0254#\", \"#d\\u00e9 :: #de\", \"ler :: l\\u0259\\u0281\", \"lera :: \\u0259\\u0281\\u0254#\", \"rch :: #ma\\u0281\", \"isme :: \\u0361s\\u026as\", \"nfl :: \\u0251\\u0303fl\", \"#inv :: \\u0129\\u032fv\", \"enf :: \\u0303fl\", \"sen :: \\u028fta\", \"tas :: \\u028ftas\", \"ent :: \\u028ftas\", \"#ma :: ma\\u0281\", \"buta :: b\\u028fta\", \"but :: tas\", \"mar :: #ma\\u0281\", \"#mar :: #ma\", \"sse :: \\u028fta\", \"ass :: b\\u028fta\", \"l\\u00e8re :: la\\u0281#\", \"bell :: bal\", \"#pu :: p\\u028fn\", \"nver :: \\u0129\\u032fva\", \"#mal :: #ma\", \"sse :: b\\u028ft\", \"nt# :: \\u028ftas\", \"ssem :: \\u0259s\\u0259m\", \"enf :: \\u0251\\u0303fl\", \"but :: b\\u028fta\", \"enfl :: \\u0251\\u0303fl\", \"nve :: va\\u0281s\", \"ent :: b\\u028fta\", \"nfla :: \\u0251\\u0303fl\", \"cer :: \\u0281s\\u0259\\u0281\", \"art :: #ma\\u0281\", \"mar :: #ma\", \"tas :: b\\u028fta\", \"#ma :: #ma\", \"ent :: tas\", \"enfl :: \\u0303fl\", \"#mar :: ma\\u0281\", \"nve :: va\\u0281\", \"nt# :: \\u0281\\u0251\\u0303\", \"#ma :: #ma\\u0281\", \"asse :: tas#\", \"nt# :: as#\", \"sent :: as#\", \"ssen :: as#\", \"asse :: as#\", \"sen :: as#\", \"mar :: ma\\u0281\", \"ent :: as#\", \"ent# :: as#\", \"#mar :: #ma\\u0281\", \"ass :: as#\", \"sse :: as#\", \"tass :: tas\", \"#re :: \\u0281\\u0251\\u0303\", \"asse :: tas\", \"ass :: tas#\", \"ass :: sas\", \"sse :: tas\", \"tass :: tas#\", \"tas :: as#\", \"sse :: tas#\", \"tas :: tas#\", \"#aff :: afl\", \"res# :: ja\\u0281\", \"ajo :: a\\u0292\\u0251\\u0254\", \"ent :: \\u0281a\\u0281\", \"#fl :: fla\", \"r\\u00e9f :: ef\\u0281a\", \"nt# :: \\u0281a\\u0281#\", \"cop :: #k\\u0251\", \"fra :: f\\u0281ak\", \"ras :: z\\u0259\\u0281\\u0254\", \"ffl :: #afl\", \"ent# :: \\u0281a\\u0281\", \"flas :: fla\", \"ecou :: \\u028av\\u0281\", \"nui :: am\\u0259n\", \"ract :: \\u0281ak\", \"#chu :: \\u0283\\u028ft\", \"nt# :: l\\u00e6\\u0303\", \"ute :: #fot\", \"pay :: eja\", \"r\\u00e9fr :: ef\\u0281a\", \"ava :: k\\u0281av\", \"\\u00e9fra :: ef\\u0281a\", \"#cor :: k\\u0251\\u0254\", \"trai :: at\\u0281\", \"r\\u00e8r :: \\u0281a\\u0281#\", \"caj :: \\u0251\\u0254\\u032f\", \"d\\u00e9ro :: de\\u0281\", \"ffl :: l\\u0153\\u0281\", \"cajo :: \\u0292\\u0251\\u0254\\u032f\", \"\\u00e2mes :: ajam\", \"\\u00e8re :: a\\u0281#\", \"rent :: \\u0254\\u032fp\", \"ent :: a\\u0281#\", \"es# :: a\\u0281#\", \"ract :: f\\u0281ak\", \"rent :: \\u0281a\\u0281#\", \"nt# :: a\\u0281#\", \"ren :: a\\u0281#\", \"rent :: a\\u0281#\", \"\\u00e8ren :: a\\u0281#\", \"ent# :: a\\u0281#\", \"res# :: a\\u0281#\", \"r\\u00e9f :: akt\", \"r\\u00e8re :: \\u0281a\\u0281#\", \"rav :: \\u0281av\", \"rass :: b\\u0281a\", \"res :: a\\u0281#\", \"tes :: at#\", \"i\\u00e8r :: ja\\u0281#\", \"ing :: \\u1ebd\\u0129\\u032fg\", \"i\\u00e8re :: a\\u0281#\", \"iez :: je#\", \"iez# :: je#\", \"ez# :: je#\", \"#re :: #\\u0281\\u0259\", \"era :: \\u0259\\u0281\\u0254#\", \"nt# :: \\u0251\\u0254\\u032f\", \"ant :: \\u00e6\\u0303#\", \"ncai :: kasa\", \"eai :: a\\u0292a#\", \"alon :: \\u0251\\u0254\\u032f\", \"ais :: asa\", \"aill :: emaj\", \"bra :: #b\\u0281\", \"quer :: ask\", \"tise :: t\\u0361s\\u026a\", \"ail :: maj\", \"mail :: maj\", \"\\u00e9ma :: ema\", \"alon :: al\\u0251\\u0254\", \"ail :: ema\", \"mail :: ema\", \"#en :: \\u0251\\u0303\\u0281a\", \"iss :: asa\", \"tal :: tal\\u0251\", \"nts :: j\\u00e6\\u0303#\", \"\\u00e9ma :: emaj\", \"cais :: kasa\", \"#bra :: #b\\u0281\", \"ran :: #\\u0251\\u0303\", \"sent :: sas\", \"#se :: s\\u0251\\u0303\", \"cha :: \\u0169\\u032f#\", \"que :: #a\\u0281\", \"bras :: #b\\u0281a\", \"sai :: asa\", \"aill :: dema\", \"alon :: \\u0251\\u0254\\u032fn\", \"mai :: maj\", \"#br :: #b\\u0281a\", \"cai :: kasa\", \"ssen :: sas\", \"aill :: maj\", \"#bra :: #b\\u0281a\", \"ercu :: \\u0281k\\u028ft\", \"sas :: asas\", \"bra :: b\\u0281a\", \"#br :: b\\u0281a\", \"#bra :: b\\u0281a\", \"aga :: aga\\u0281\", \"#br :: #b\\u0281\", \"ass :: asa\", \"ssa :: asa\", \"#d\\u00e9g :: #deg\", \"ill\\u00e9 :: aje#\", \"asse :: as#\", \"ass :: as#\", \"#re :: #\\u0281\\u0259\", \"sse :: as#\", \"es# :: at#\", \"tes# :: at#\", \"\\u00e2te :: at#\", \"tes :: at#\", \"ill :: maj\", \"#d\\u00e9 :: #de\", \"ass :: sas\", \"#en :: #\\u0251\\u0303\", \"onn :: \\u0251\\u0254\\u032f\", \"omm :: #k\\u0251\\u0254\", \"com :: \\u032fm\\u028f\", \"mmu :: \\u032fm\\u028fn\", \"comm :: #k\\u0251\", \"com :: k\\u0251\\u0254\\u032f\", \"#com :: \\u032fm\\u028f\", \"nde :: \\u032fd#\", \"de# :: \\u032fd#\", \"omm :: \\u032fm\\u028f\", \"nde :: \\u00e3\\u0169\\u032f\", \"#com :: \\u0254\\u032fm\", \"comm :: k\\u0251\\u0254\", \"mmu :: \\u032fm\\u028f\", \"mmu :: #k\\u0251\", \"com :: \\u0251\\u0254\\u032fm\", \"#co :: \\u0254\\u032fm\", \"omm :: \\u0254\\u032fm\\u028f\", \"#com :: #k\\u0251\\u0254\", \"ommu :: \\u0251\\u0254\\u032f\", \"omm :: k\\u0251\\u0254\", \"#co :: \\u0254\\u032fm\\u028f\", \"ndes :: \\u032fd#\", \"ommu :: #k\\u0251\\u0254\", \"nde :: \\u00e3\\u0169\\u032fd\", \"mmu :: \\u0254\\u032fm\", \"omm :: #k\\u0251\", \"mmu :: \\u0251\\u0254\\u032f\", \"ommu :: k\\u0251\\u0254\\u032f\", \"nde :: \\u0169\\u032fd\", \"#com :: \\u0251\\u0254\\u032f\", \"ommu :: \\u0251\\u0254\\u032fm\", \"es# :: at#\", \"#com :: #k\\u0251\", \"tes# :: at#\", \"tes :: at#\", \"ette :: at#\", \"omm :: \\u0251\\u0254\\u032fm\", \"nde :: \\u0169\\u032fd#\", \"com :: #k\\u0251\", \"comm :: \\u0251\\u0254\\u032fm\", \"#co :: #k\\u0251\", \"omm :: \\u0254\\u032fm\", \"com :: \\u0251\\u0254\\u032f\", \"#co :: #k\\u0251\\u0254\", \"\\u00e2te :: at#\", \"#co :: \\u0251\\u0254\\u032f\", \"#co :: k\\u0251\\u0254\\u032f\", \"\\u00e2tes :: at#\", \"#co :: k\\u0251\\u0254\", \"an\\u00e9 :: #ane\", \"\\u00e9tri :: #pe\", \"fia :: fja\", \"ifia :: fja\", \"all :: al\\u028fm\", \"nt# :: \\u026afja\", \"ias :: jas#\", \"rema :: manj\", \"tri :: \\u026afj\", \"ifi :: \\u026afj\", \"an\\u00e9 :: anem\", \"\\u00e9tr :: pet\", \"ifi :: \\u026afja\", \"\\u00e9di :: #ed\\u0361\", \"#an :: #ane\", \"iass :: jas\", \"ema :: \\u0259man\", \"#\\u00e9di :: \\u0361z\\u026a\", \"#gr :: \\u0281\\u026aja\", \"rifi :: \\u026afj\", \"fias :: jas#\", \"p\\u00e9t :: pet\\u0281\", \"#\\u00e9d :: ed\\u0361\", \"ent# :: \\u026afj\", \"#\\u00e9di :: ed\\u0361\", \"rifi :: pet\", \"fia :: \\u026afj\", \"#p\\u00e9t :: #pet\", \"iass :: jas#\", \"#\\u00e9d :: #ed\\u0361\", \"#an\\u00e9 :: ane\", \"#p\\u00e9 :: et\\u0281\", \"ifia :: \\u026afj\", \"p\\u00e9t :: pet\", \"i\\u00e2t# :: fj\\u0254#\", \"ifi :: fja\", \"n\\u00e9m :: anem\", \"#rem :: \\u0281\\u0259m\", \"#p\\u00e9 :: pet\", \"#re :: #\\u0281\\u0259m\", \"#p\\u00e9 :: #pe\", \"d\\u00e9cr :: #de\", \"#rem :: #\\u0281\\u0259\", \"rifi :: \\u0281\\u026af\", \"#su :: s\\u028f\\u0281\", \"#sur :: #s\\u028f\\u0281\", \"iez# :: je#\", \"tes :: la\\u0281\", \"iez :: je#\", \"ez# :: je#\", \"#p\\u00e9t :: pet\", \"#su :: #s\\u028f\", \"sse :: as#\", \"#re :: #\\u0281\\u0259\", \"ass :: as#\", \"rie :: \\u0281je\", \"asse :: as#\", \"sse :: jas#\", \"sse# :: as#\", \"era :: \\u0259\\u0281\\u0254#\", \"ai# :: a\\u0281\\u0259\", \"oubl :: \\u0259d\\u028ab\", \"edo :: #\\u0281\\u0259\", \"rie :: z\\u0259\\u0281j\", \"s\\u00e9# :: \\u026aze#\", \"uisi :: ed\\u0265\", \"gai :: dega\", \"seri :: z\\u0259\\u0281\", \"#ha :: ab\\u026aj\", \"scru :: k\\u0281\\u028f\", \"anch :: \\u0251\\u0303m\\u0251\", \"cime :: \\u0251\\u0303t\", \"dui :: ed\\u0265\", \"dena :: ase#\", \"scr :: k\\u0281\\u028f\", \"eri :: az\\u0259\\u0281\", \"es# :: aja\", \"\\u00e9du :: ed\\u0265\", \"ille :: \\u0153\\u0281#\", \"rie :: z\\u0259\\u0281\", \"gain :: egan\", \"adu :: ad\\u0361\", \"ser :: \\u0281je#\", \"abi :: b\\u026aj\", \"anc :: #\\u0251\\u0303m\", \"brou :: eb\\u0281\\u028a\", \"#re :: \\u0281\\u0259d\\u028a\", \"emm :: \\u0251\\u0303m\\u0251\", \"red :: d\\u028abl\", \"edou :: #\\u0281\\u0259\", \"mes :: tam#\", \"tai :: \\u0303ta#\", \"seri :: je#\", \"man :: \\u0303m\\u0251\", \"rut :: #sk\\u0281\", \"iez :: z\\u0259\\u0281\", \"es# :: tam#\", \"eri :: z\\u0259\\u0281j\", \"t\\u00e2me :: tam#\", \"#red :: \\u028abl\", \"rs# :: d\\u0153\\u0281#\", \"ez# :: z\\u0259\\u0281\", \"niss :: \\u026asa\\u0292\", \"iez# :: je#\", \"ez# :: je#\", \"#ma :: #ma\", \"iez :: je#\", \"#re :: #\\u0281\\u0259\", \"mes :: tam\", \"dou :: \\u0281\\u0259d\", \"mes# :: am#\", \"iez :: \\u0281je\", \"rie :: \\u0259\\u0281je\", \"\\u00e2me :: am#\", \"\\u00e2me :: tam#\", \"iez# :: \\u0259\\u0281j\", \"cap :: kap\", \"our :: waz\", \"avi :: av\\u026az\", \"#d\\u00e9 :: eka\", \"d\\u00e9ca :: #dek\", \"geo :: \\u0281\\u0292wa\", \"#d\\u00e9 :: deka\", \"gla :: glan\", \"troq :: \\u0251\\u0254\\u032fk\", \"nve :: #k\\u00f5\", \"d\\u00e9ca :: #de\", \"cap :: eka\", \"avis :: av\\u026az\", \"#d\\u00e9c :: ekap\", \"d\\u00e9c :: eka\", \"avi :: v\\u026az\", \"ass :: deka\", \"ns# :: n\\u00f5\\u0169\", \"cap :: ekap\", \"\\u00e9ca :: kap\", \"\\u00e9cap :: dek\", \"rgeo :: \\u0292waz\", \"d\\u00e9c :: kap\", \"ra\\u00ee :: t\\u0281an\", \"urge :: \\u028a\\u0281\\u0292\", \"eur :: pl\\u0153\", \"ass :: ase\", \"rgeo :: \\u028a\\u0281\\u0292w\", \"#adj :: ad\\u0292\", \"geoi :: \\u0281\\u0292wa\", \"d\\u00e9ca :: dek\", \"#d\\u00e9c :: eka\", \"urg :: \\u028a\\u0281\\u0292\", \"oque :: \\u0251\\u0254\\u032f\", \"\\u00e9ca :: eka\", \"d\\u00e9ca :: deka\", \"\\u00e9ca :: #dek\", \"ang\\u00e9 :: \\u0303\\u0292e#\", \"urg :: \\u028a\\u0281\\u0292w\", \"d\\u00e9ca :: eka\", \"\\u00e9ca :: #de\", \"ois :: waz\", \"#d\\u00e9c :: #dek\", \"#d\\u00e9 :: \\u0251\\u0254\\u032f\", \"#d\\u00e9 :: #de\", \"\\u00e9ca :: dek\", \"#rel :: #\\u0281\\u0259\", \"#d\\u00e9 :: #dek\", \"es# :: at#\", \"d\\u00e9c :: #dek\", \"#ca :: #ka\", \"#d\\u00e9 :: dek\", \"#d\\u00e9c :: #de\", \"d\\u00e9c :: #de\", \"\\u00e9bou :: deb\", \"sses :: \\u0281\\u0259k\", \"tou :: \\u0259\\u0281\\u0254#\", \"d\\u00e9bo :: eb\\u028a\", \"\\u00e9bou :: deb\\u028a\", \"idie :: \\u0361zj\", \"d\\u00e9b :: eb\\u028a\", \"bou :: #deb\", \"idi :: zje#\", \"#d\\u00e9b :: eb\\u028a\", \"d\\u00e9bo :: deb\\u028a\", \"d\\u00e9bo :: deb\", \"as# :: n\\u0259\\u0281\", \"#fol :: #f\\u0251\\u0254\", \"d\\u00e9bo :: #deb\", \"#ch :: \\u0259\\u0281\\u0254\", \"pa\\u00e7 :: #as\", \"reve :: \\u0281\\u0259v\", \"es# :: #deb\", \"uto :: \\u032fps\", \"ner :: \\u0259\\u0281\\u0254\", \"idie :: \\u026ad\\u0361z\", \"bou :: eb\\u028a\", \"as# :: n\\u0259\\u0281\\u0254\", \"our :: #de\", \"ller :: \\u026aj\\u0259\", \"#d\\u00e9 :: deb\\u028a\", \"bou :: deb\\u028a\", \"ner :: \\u0259\\u0281\\u0254#\", \"\\u00e8ren :: \\u0281a\\u0281\", \"\\u00e9bo :: deb\\u028a\", \"\\u00e9bo :: deb\", \"d\\u00e9bo :: #de\", \"\\u00e9bo :: #deb\", \"#d\\u00e9b :: deb\\u028a\", \"die :: je#\", \"\\u00e9bo :: #de\", \"#d\\u00e9 :: deb\", \"#d\\u00e9b :: #deb\", \"\\u00e9bou :: #deb\", \"d\\u00e9b :: #deb\", \"#d\\u00e9b :: deb\", \"#d\\u00e9b :: #de\", \"d\\u00e9b :: #de\", \"#d\\u00e9 :: #de\", \"era :: \\u0259\\u0281\\u0254\", \"#d\\u00e9 :: #deb\", \"era :: \\u0281\\u0254#\", \"d\\u00e9b :: deb\", \"era :: \\u0259\\u0281\\u0254#\", \"era# :: \\u0281\\u0254#\", \"as# :: \\u0259\\u0281\\u0254#\", \"ras# :: \\u0281\\u0254#\", \"ras :: \\u0281\\u0254#\", \"sse :: kas#\", \"rin\\u00e9 :: \\u0281\\u026ane\", \"buri :: b\\u028f\\u0281\\u026a\", \"rio :: \\u0281j\\u00f5\", \"#sou :: mat\", \"rion :: \\u00f5\\u0169\\u032f\", \"oui :: z\\u028aj\", \"pare :: apa\", \"n\\u00e9e :: \\u026ane\", \"mor :: \\u0251\\u0254\\u032f\\u0281\", \"pare :: pa\\u0281a\", \"ena :: m\\u0259n\", \"ions :: \\u0281j\\u00f5\\u0169\", \"d\\u00e9da :: #de\", \"argo :: a\\u0281g\", \"orse :: k\\u0251\\u0254\\u032f\", \"pol :: \\u0254\\u032fl\", \"ena :: m\\u0259na\", \"erie :: l\\u0281i#\", \"ion :: \\u0281j\\u00f5\", \"mena :: as#\", \"goi :: waz\", \"nie :: \\u028fni#\", \"sse :: nas\", \"rio :: \\u0169\\u032f#\", \"rev :: #\\u0281\\u0259\", \"rifi :: #pe\", \"rin\\u00e9 :: \\u0281\\u026an\", \"ns# :: \\u0281j\\u00f5\\u0169\", \"mena :: \\u0259na\", \"emb :: #\\u0251\\u0303\", \"d\\u00e9ma :: ema\", \"nte :: \\u0281\\u00e3\\u0169\\u032f\", \"ect :: akt\", \"ena :: \\u0259na\", \"mena :: m\\u0259na\", \"ons# :: j\\u00f5\\u0169\\u032f\", \"rio :: \\u00f5\\u0169\\u032f\", \"ns# :: j\\u00f5\\u0169\\u032f\", \"#se :: #s\\u0259\", \"it# :: at\\u0259\", \"ions :: \\u00f5\\u0169\\u032f\", \"ion :: j\\u00f5\\u0169\\u032f\", \"ons :: \\u00f5\\u0169\\u032f#\", \"ion :: \\u00f5\\u0169\\u032f\", \"ions :: j\\u00f5\\u0169\", \"ion :: j\\u00f5\\u0169\", \"ns# :: \\u00f5\\u0169\\u032f\", \"ons# :: \\u00f5\\u0169\\u032f\", \"ons :: \\u00f5\\u0169\\u032f\", \"ns# :: j\\u00f5\\u0169\", \"ns# :: \\u0169\\u032f#\", \"ions :: \\u0169\\u032f#\", \"ion :: \\u00f5\\u0169\\u032f#\", \"ons# :: \\u0169\\u032f#\", \"ons :: j\\u00f5\\u0169\\u032f\", \"ns# :: \\u00f5\\u0169\\u032f#\", \"ons :: \\u0169\\u032f#\", \"ons# :: \\u00f5\\u0169\\u032f#\", \"#d\\u00e9 :: #de\", \"ions :: j\\u00f5\\u0169\\u032f\", \"ions :: \\u00f5\\u0169\\u032f#\", \"ons :: j\\u00f5\\u0169\", \"ass :: as#\", \"sse :: as#\", \"asse :: as#\", \"ons# :: j\\u00f5\\u0169\", \"\\u00e9sul :: #\\u0281e\", \"#ef :: fa\\u0281\\u0259\", \"\\u00e9cr :: #\\u0281e\", \"eurs :: t\\u0153\\u0281\", \"#ef :: a\\u0281\\u0259\\u0281\", \"\\u00e9ch :: fle\", \"#ra :: av\\u026a\", \"eff :: efa\", \"ipi :: \\u026ap\\u026a\", \"ffar :: a\\u0281\\u0259\", \"effa :: efa\\u0281\", \"r\\u00e9cr :: #\\u0281e\", \"sult :: \\u0281ez\\u028f\", \"ula :: \\u028fla#\", \"#r\\u00e9s :: \\u0281ez\\u028f\", \"eff :: efa\\u0281\", \"#r\\u00e9 :: #\\u0281ek\", \"ula :: \\u028fla\", \"urs# :: at\\u0153\\u0281\", \"#ef :: fa\\u0281\", \"#eff :: efa\\u0281\", \"d\\u00e9g :: egwa\", \"ulai :: la#\", \"ress :: p\\u0281es\", \"ffa :: efa\\u0281\", \"#r\\u00e9c :: #\\u0281ek\", \"iron :: \\u0281\\u00f5\\u0169\\u032f\", \"#eff :: #efa\", \"#eff :: efa\", \"\\u00e9cr :: #\\u0281ek\", \"ffa :: efa\", \"rip :: \\u0254\\u032f\\u0281\\u026a\", \"ffar :: #efa\", \"r\\u00e9c :: #\\u0281ek\", \"far :: #ef\", \"#r\\u00e9 :: #\\u0281e\", \"effa :: #ef\", \"lai :: \\u028fla\", \"aie :: #\\u0251\\u0303t\", \"lai :: la#\", \"es# :: #ab\", \"\\u00e9su :: z\\u028fl\", \"eass :: asje\", \"ns# :: \\u00f5\\u0169\\u032f\", \"rer :: a\\u0281\\u0259\\u0281\", \"fuse :: \\u028fz\\u0259\", \"ent :: \\u0251\\u0303t\", \"niqu :: \\u026ak#\", \"niq :: n\\u026ak#\", \"enu :: m\\u0259n\", \"men :: \\u0265iz\", \"que :: n\\u026ak#\", \"que# :: \\u026ak#\", \"ue# :: \\u026ak#\", \"\\u00e9cou :: dek\", \"nuis :: m\\u0259n\\u0265\", \"ent# :: b\\u0281\\u0251\\u0254\", \"onn :: bal\", \"enu :: \\u0259n\\u0265\", \"iqu :: \\u0251\\u0254\\u032f\", \"ique :: n\\u026ak#\", \"lis :: l\\u026as#\", \"iqu :: n\\u026ak#\", \"san :: \\u00e3\\u0169\\u032f\", \"que# :: \\u0251\\u0254\\u032f\", \"niqu :: n\\u026ak\", \"p\\u00e8r :: #de\", \"bagu :: bag\", \"llo :: \\u0254\\u032fn\", \"allo :: l\\u0251\\u0254\", \"llon :: \\u0251\\u0254\\u032fn\", \"niq :: \\u0251\\u0254\\u032f\", \"que :: n\\u026ak\", \"nuis :: am\\u0259n\", \"ll\\u00e9 :: ale#\", \"niqu :: n\\u026ak#\", \"amen :: n\\u0265i\", \"ive :: \\u026av\\u0259\\u0281\", \"mute :: \\u0281m\\u028ft\", \"que# :: n\\u026ak#\", \"ste :: \\u026as#\", \"lis :: \\u026as#\", \"ani :: an\\u026a\", \"iqu :: \\u026ak#\", \"ique :: \\u026ak#\", \"iqu :: n\\u026ak\", \"rai :: \\u026a\\u0281a\", \"niq :: \\u026ak#\", \"niq :: n\\u026ak\", \"que :: \\u026ak#\", \"lis :: l\\u026as\", \"#ca :: #ka\", \"ique :: n\\u026ak\", \"#ca :: ka\\u0281\", \"ue# :: n\\u026ak#\", \"aib :: abl\", \"lcoo :: \\u0251\\u0254\\u032fl\", \"faib :: fab\", \"atu :: \\u0361s\\u028f\\u0281\", \"lco :: k\\u0251\\u0254\", \"alc :: \\u0251\\u0254\\u032f\", \"#al :: alk\\u0251\", \"#fai :: #fab\", \"sse :: \\u0281\\u026as#\", \"cors :: \\u0251\\u0254\\u032f\", \"halt :: fal\", \"#fai :: abl\", \"ibli :: abl\", \"rse :: \\u0281s\\u0259\\u0281\", \"mash :: #sma\", \"faib :: abl\\u026a\", \"ors :: \\u0281s\\u0259\", \"lco :: #alk\", \"ais# :: ata\", \"rse :: \\u0251\\u0254\\u032f\\u0281\", \"iai :: \\u0281ja#\", \"ess :: es\\u00e6\", \"los :: gloz\", \"#nu :: #n\\u028f\", \"ux# :: j\\u00f8#\", \"es# :: \\u0251\\u0303v\", \"our :: #k\\u028a\", \"ul\\u00e2 :: lat\", \"menu :: \\u0265iz\", \"cool :: \\u0251\\u0254\\u032f\", \"halt :: sfal\", \"ctai :: kta\", \"trem :: #t\\u0281\\u0251\", \"glos :: glo\", \"cors :: k\\u0251\\u0254\", \"alc :: alk\", \"aib :: fab\", \"alt :: asfa\", \"ect :: #det\", \"#alc :: alk\\u0251\", \"alt :: te#\", \"igr :: #meg\", \"cor :: \\u0251\\u0254\\u032f\", \"#ag :: agas\", \"tai :: ta#\", \"isi :: \\u00f5\\u0169\\u032f\", \"lit :: \\u0254\\u032fl\", \"ait :: ta#\", \"ais :: ta#\", \"ra# :: \\u0281\\u0254#\", \"era# :: \\u0259\\u0281\\u0254#\", \"era :: \\u0259\\u0281\\u0254\", \"ait# :: ta#\", \"era :: \\u0281\\u0254#\", \"ra# :: \\u0259\\u0281\\u0254\", \"era# :: \\u0259\\u0281\\u0254\", \"ra# :: \\u0259\\u0281\\u0254#\", \"lin :: \\u0129\\u032fg\", \"ling :: l\\u1ebd\\u0129\\u032f\", \"ingu :: l\\u1ebd\\u0129\", \"lin :: \\u1ebd\\u0129\\u032fg\", \"ling :: \\u1ebd\\u0129\\u032fg\", \"ing :: \\u0283l\\u1ebd\\u0129\", \"ling :: l\\u1ebd\\u0129\", \"ling :: \\u0129\\u032fg\", \"chli :: l\\u1ebd\\u0129\", \"ngua :: l\\u1ebd\\u0129\", \"#sc :: l\\u1ebd\\u0129\\u032f\", \"ingu :: l\\u1ebd\\u0129\\u032f\", \"ingu :: \\u0283l\\u1ebd\\u0129\", \"lin :: l\\u1ebd\\u0129\\u032f\", \"ngua :: \\u1ebd\\u0129\\u032f\", \"ing :: l\\u1ebd\\u0129\\u032f\", \"ingu :: \\u1ebd\\u0129\\u032fg\", \"hlin :: l\\u1ebd\\u0129\", \"ing :: \\u0129\\u032fg\", \"ingu :: \\u1ebd\\u0129\\u032f\", \"ngu :: \\u1ebd\\u0129\\u032fg\", \"cr\\u00e9p :: \\u0281ep\", \"lin :: #\\u0283l\", \"#off :: \\u0251\\u0254\\u032ff\", \"chl :: l\\u1ebd\\u0129\", \"#of :: #\\u0251\\u0254\", \"#cr :: \\u0281ep\", \"lin :: \\u1ebd\\u0129\\u032f\", \"hli :: l\\u1ebd\\u0129\", \"chl :: l\\u1ebd\\u0129\\u032f\", \"ngu :: l\\u1ebd\\u0129\", \"ent :: l\\u1ebd\\u0129\", \"ngu :: \\u1ebd\\u0129\\u032f\", \"ingu :: \\u0129\\u032fg\", \"ngu :: l\\u1ebd\\u0129\\u032f\", \"ling :: \\u1ebd\\u0129\\u032f\", \"ing :: \\u1ebd\\u0129\\u032fg\", \"ing :: l\\u1ebd\\u0129\", \"lin :: l\\u1ebd\\u0129\", \"ngu :: \\u0129\\u032fg\", \"ing :: \\u1ebd\\u0129\\u032f\", \"es# :: m\\u0251\\u0254\\u032f\", \"off :: #\\u0251\\u0254\", \"#co :: va\\u0281\", \"lla :: \\u028ap\\u026aj\", \"sci :: fas\", \"nve :: #k\\u00f5\", \"irai :: asp\", \"#fas :: #fa\", \"#eng :: \\u0303\\u0292\\u0251\\u0303\", \"#fa :: fas\\u026a\", \"atu :: at\\u0361s\", \"#in :: ze#\", \"atur :: \\u0361s\\u028f\", \"asci :: as\\u026a\", \"lass :: tla\", \"tur :: at\\u0361s\", \"#ajo :: a\\u0292u\\u0281\", \"nve :: \\u00f5\\u0169\\u032f\", \"cin :: fas\\u026a\", \"atur :: t\\u0361s\", \"\\u00e2t# :: \\u032ft\\u0254#\", \"re# :: at\\u0361\", \"jour :: #a\\u0292\", \"sci :: #fa\", \"atur :: \\u0361s\\u028f\\u0281\", \"tur :: \\u0361s\\u028f\\u0281\", \"atu :: t\\u0361s\", \"our :: #a\\u0292\", \"cina :: \\u026ana#\", \"asc :: #fas\", \"ula :: #ak\\u028f\", \"#ajo :: #a\\u0292u\", \"fas :: fas\\u026a\", \"#d\\u00een :: d\\u0361z\", \"nai :: \\u026ana\", \"asc :: fas\\u026a\", \"#fas :: as\\u026a\", \"#fas :: #fas\", \"tur :: t\\u0361s\", \"jou :: \\u0292u\\u0281\", \"#vis :: v\\u026az\", \"inai :: na#\", \"tur :: at\\u0361\", \"ina :: na#\", \"ort :: \\u032f\\u0281t\", \"ina :: \\u026ana\", \"\\u00e2me :: jam\", \"nai :: na#\", \"nai :: \\u026ana#\", \"#re :: #\\u0281\\u0259\", \"ina :: \\u026ana#\", \"inai :: \\u026ana\", \"#con :: k\\u00f5\\u0169\", \"tiq :: s\\u026ak\", \"mon :: #m\\u00f5\\u0169\", \"iqu :: s\\u026ak\", \"ique :: s\\u026ak#\", \"#du :: d\\u0361z\\u028f\", \"ique :: t\\u0361s\", \"ign :: pwa\", \"iqu :: t\\u0361s\", \"tiqu :: \\u0361s\\u026a\", \"ique :: s\\u026ak\", \"ubli :: s\\u028fb\", \"tiqu :: \\u026ak#\", \"que :: s\\u026ak\", \"\\u00e9cr :: k\\u0281a\", \"res :: asa\", \"que :: \\u0361s\\u026ak\", \"blim :: s\\u028fbl\", \"nten :: #\\u1ebd\\u0129\\u032f\", \"tiqu :: s\\u026ak\", \"rima :: m\\u00e6\\u0303#\", \"oign :: \\u0303pw\", \"tiq :: t\\u0361s\\u026a\", \"es# :: \\u0292e#\", \"tiq :: \\u026ak#\", \"lia :: l\\u026aj\", \"las :: aja\", \"ynch :: l\\u1ebd\\u0129\", \"poi :: wa\\u0272a\", \"emp :: pwa\\u0272\", \"iqu :: t\\u0361s\\u026a\", \"mpi :: #\\u0251\\u0303p\", \"iqu :: \\u026ak#\", \"hala :: ala\", \"#caj :: \\u0251\\u0254\\u032f\", \"iqu :: \\u0361s\\u026ak\", \"tiq :: \\u0361s\\u026a\", \"tiqu :: t\\u0361s\", \"utai :: #pa\\u0281\", \"#em :: \\u0251\\u0303p\", \"ique :: t\\u0361s\\u026a\", \"que :: \\u026ak#\", \"ique :: \\u026ak#\", \"#em :: #\\u0251\\u0303p\", \"iqu :: \\u0361s\\u026a\", \"que :: t\\u0361s\\u026a\", \"illa :: jas\", \"cras :: k\\u0281a\", \"#emp :: \\u0251\\u0303p\", \"ali :: \\u026az#\", \"l\\u00e2t :: l\\u0251t\", \"emp :: #\\u0251\\u0303p\", \"hass :: \\u0283as\", \"cou :: k\\u028av\", \"ecou :: \\u0281\\u0259k\", \"couv :: k\\u028av\", \"#rec :: \\u0281\\u0259k\\u028a\", \"ecou :: \\u0281\\u0259k\\u028a\", \"ouv :: k\\u028av\", \"orc :: f\\u0251\\u0254\", \"cou :: #\\u0281\\u0259\", \"eco :: \\u0281\\u0259k\", \"rec :: \\u0259k\\u028a\", \"#re :: \\u0259k\\u028a\", \"rec :: \\u0281\\u0259k\\u028a\", \"reco :: #\\u0281\\u0259k\", \"cou :: \\u0281\\u0259k\\u028a\", \"reco :: \\u0259k\\u028a\", \"opo :: \\u0254\\u032fpo\", \"for :: f\\u0251\\u0254\\u032f\", \"eco :: \\u0281\\u0259k\\u028a\", \"cou :: #\\u0281\\u0259k\", \"#fo :: \\u0254\\u032f\\u0281\", \"ndi :: \\u0361zi\", \"for :: \\u0254\\u032f\\u0281\", \"eco :: #\\u0281\\u0259\", \"couv :: \\u028av\\u0281\", \"ouvr :: k\\u028av\", \"cou :: \\u0281\\u0259k\", \"ouv :: #k\\u028av\", \"\\u00e2tr :: plat\", \"reco :: #\\u0281\\u0259\", \"ecou :: #\\u0281\\u0259k\", \"ouv :: \\u0281\\u0259k\\u028a\", \"reco :: \\u0281\\u0259k\\u028a\", \"#rec :: \\u0259k\\u028a\", \"for :: f\\u0251\\u0254\", \"cou :: #k\\u028a\", \"#co :: #k\\u028a\", \"eco :: \\u0259k\\u028a\", \"rec :: \\u0281\\u0259k\", \"#fo :: f\\u0251\\u0254\\u032f\", \"reco :: \\u0281\\u0259k\", \"#fo :: f\\u0251\\u0254\", \"#re :: \\u0281\\u0259k\", \"#re :: #\\u0281\\u0259k\", \"cou :: \\u028av\\u0281\", \"for :: \\u0251\\u0254\\u032f\", \"rec :: #\\u0281\\u0259\", \"#re :: #\\u0281\\u0259\", \"rai :: \\u0281a#\", \"ais :: \\u0281a#\", \"#pel :: p\\u0259l\\u0251\", \"#\\u00e9ta :: etal\", \"sse# :: eta\", \"uta :: b\\u028ft\", \"#\\u00e9tr :: et\\u0281\", \"nt# :: ta\\u0281#\", \"nt# :: ta\\u0281\", \"rent :: ta\\u0281\", \"oca :: \\u0254\\u032fk\", \"lle :: \\u032fla\", \"ores :: \\u0251\\u0254\\u032f\", \"orc :: #f\\u0251\\u0254\", \"#in :: ne#\", \"rai# :: \\u026an\\u0259\\u0281\", \"ore :: \\u0251\\u0254\\u032f\", \"tum :: t\\u0361s\\u028f\", \"ren :: ta\\u0281\", \"\\u00e8re :: eta\\u0281\", \"\\u00e9cri :: dek\\u0281\", \"\\u00e8ren :: eta\", \"oca :: \\u0251\\u0254\\u032fk\", \"t\\u00e8r :: eta\\u0281\", \"cri :: ak\\u0281\\u026a\", \"rig :: #i\\u0281\", \"\\u00e2te :: \\u0283at\", \"t\\u00e8r :: ta\\u0281#\", \"#in :: #in\\u0251\", \"lonn :: \\u032fna#\", \"gaz :: gaze\", \"ppr :: p\\u0281\\u026a\", \"froi :: \\u0281wa\", \"t\\u00e8re :: ta\\u0281\", \"ent :: ta\\u0281#\", \"ore :: \\u0251\\u0254\\u032f\\u0281\", \"in\\u00e9 :: \\u026ane\", \"rete :: #\\u0281\\u0259\", \"t\\u00e8r :: a\\u0281#\", \"ren :: ta\\u0281#\", \"rai :: \\u026a\\u0281\\u0259\", \"opin :: \\u032fp\\u026a\", \"ent# :: ta\\u0281\", \"\\u00e8re :: ta\\u0281#\", \"sig :: si\\u0272a\", \"\\u00e8ren :: a\\u0281#\", \"ent# :: a\\u0281#\", \"ina :: \\u026ana\", \"es# :: \\u0251\\u0254\\u032f\", \"lan :: pl\\u0251\\u0303\", \"eus :: \\u00f8z#\", \"#d\\u00e9t :: det\", \"\\u00e8re :: a\\u0281#\"], \"Freq\": [55.0, 56.0, 60.0, 57.0, 57.0, 56.0, 58.0, 57.0, 73.0, 37.0, 38.0, 36.0, 37.0, 36.0, 35.0, 38.0, 36.0, 37.0, 43.0, 41.0, 42.0, 18.0, 15.0, 20.0, 17.0, 48.0, 51.0, 13.0, 14.0, 14.0, 4.151935524557076, 5.06158971502809, 3.516570949553341, 4.526350281340425, 3.4968108149044688, 6.320737455258257, 3.5325124663919723, 6.3257981025580845, 3.600720418701021, 3.558509385049329, 3.5522669150058976, 3.558581444852802, 3.2277439704095707, 3.80400999708985, 3.6831491054511933, 4.055121011231485, 3.600890799869414, 6.517688462885976, 6.3250121580298195, 4.927538947502303, 3.498979598361434, 5.020947036022288, 3.1454816787279376, 3.5290971920177534, 2.684648523421776, 6.360035046832916, 3.369130021519022, 1.8562664892331573, 6.320374632584064, 4.717236963131311, 4.735699886272589, 5.000800738643508, 4.608161442689604, 7.291726150604974, 4.6410031945278, 6.94710166788818, 15.468544745196192, 15.112570866200471, 14.929120308891324, 15.08220499853801, 15.100026028265203, 14.750938180764257, 14.750781183131918, 14.918788711837474, 7.04466845153911, 6.702862942282278, 6.992322630740113, 6.67216398638931, 6.687164905276141, 15.896716456248607, 7.40814363212318, 6.6963868027389575, 6.934478597706062, 6.996366663971445, 6.991446417460102, 6.3406525105068665, 5.653126365103867, 5.505771614989697, 3.623315662038897, 3.4485932079268053, 3.511318458006669, 2.8942388481062062, 2.83818000103538, 4.0677258634379445, 2.9366203178958084, 2.489948178972341, 3.5076793542325486, 1.9090976209394446, 2.2176045800594184, 3.4591593056964007, 2.0795954042470353, 2.8194493092282844, 2.018352514998243, 3.397270902388602, 3.475455694636342, 2.571661586560993, 2.9047436820410617, 2.473692668026214, 2.179083006329536, 2.8289553157879452, 2.906705452435331, 1.8341235100516742, 1.456548397504408, 3.543116391270124, 3.8169776968932885, 1.7773980802280955, 2.3638249059514327, 3.406124624972023, 2.4157157957088886, 3.4594061893737456, 4.144594822462114, 3.683069499346097, 3.345196726092355, 3.7709050127501618, 8.95908452839837, 7.711662263715232, 7.720190237077767, 7.4209236549141355, 7.446132389224385, 7.411576479832404, 7.2363310680222055, 7.191366246319772, 7.221540105976512, 5.845252260584877, 3.6444407643001413, 4.961282281967437, 4.88458969638382, 4.910002757852965, 3.7141770723962444, 3.699281838976339, 3.6309220450672597, 3.623368409135115, 3.59230114622019, 3.5470094267851637, 2.9648097265776783, 2.9781333446250975, 2.6823009617090263, 2.4633210953097895, 2.3904262456643877, 1.8701813694943092, 1.9181510250525253, 1.493743069428588, 1.860515643842099, 2.456565219000081, 2.6032005735363546, 1.302190955500192, 1.5189861657380863, 1.8733307544375024, 1.7367022741132283, 1.2003595682753403, 1.6199931697098262, 2.10601276387668, 1.3868868546247812, 1.5311180500359258, 1.5746850588953982, 1.3399501212033231, 1.2395743959802625, 1.5119699736104815, 1.5080928738510095, 1.4775454259099365, 1.59271773906548, 1.5666745772109805, 1.3311590910653255, 1.3112565157257285, 2.5519722550173434, 2.508369633093835, 2.422873247712179, 2.3535938780537595, 2.3676563367055112, 2.6172545821035142, 1.753772908859693, 3.693787316634449, 3.6378854527698343, 3.548737743012259, 1.9608964923724477, 2.677292396817453, 2.158330924748121, 3.5419814881744394, 7.641948908852971, 7.432203735177148, 7.577947312116086, 7.385856569219464, 7.510692654191148, 7.35139431129765, 7.315214588413692, 7.437416769884307, 7.619575072025859, 2.9473282659466036, 4.220736179836505, 4.277984008597581, 4.07853605248052, 3.913680682003686, 3.7009456492126813, 3.672555256496657, 3.6213756432937037, 3.5792076412836273, 3.5184249829625878, 2.924771170321406, 2.8539265349300513, 2.89243551283074, 2.702497713948821, 2.7010549313360293, 4.8541406519692005, 5.730108651419842, 4.6907730375549965, 5.027427691491698, 4.764856604003429, 5.092196741889629, 5.062953736996287, 4.990989215123455, 4.933067482557239, 4.996294073649528, 4.717978744717437, 4.749540124185258, 5.01197965868987, 5.195542505779283, 5.108766695210789, 5.090766419895454, 6.6224851361257, 5.214517310506784, 4.783679650357174, 4.968961293915417, 5.0928860232150654, 5.004407584456884, 4.703885403470665, 4.984837531234054, 5.019539227085276, 5.068035123615462, 5.050098208366414, 6.63827731052793, 6.5633008759954174, 6.574172888688975, 6.312766277068801, 6.578188486668294, 6.634347983654139, 6.034381429020198, 6.5688275344242575, 6.709382938416987, 6.311749264933525, 6.5072355710133065, 5.898537311775736, 6.497166349829214, 7.108296088582372, 6.756299946770667, 6.023431130383166, 6.892600512822881, 6.940236269606281, 6.938837176222349, 5.767612698423182, 5.17613963006624, 1.4944803283479815, 1.4518197735851581, 1.468985957318841, 1.9266421219134284, 1.6682278361881235, 1.2769396985001882, 1.182461913358478, 1.8726148256582702, 1.0542895510530534, 1.674130310632619, 1.808840963727831, 1.5544703317420907, 1.5718605502275935, 1.851937413211967, 1.8675068428653492, 1.3455245552003852, 1.2941911406999147, 1.3877354570790923, 1.150671329509339, 1.326670026127159, 1.562626024660026, 1.4464012533927757, 1.3891653466950729, 1.324450463108806, 1.1698497920443611, 1.403966045790772, 1.277059767128044, 1.469614083191184, 1.604582541329152, 1.1654227128710433, 1.628325941029645, 1.7815967706963074, 1.5317565297591869, 1.6117578586644181, 2.6085303665248207, 2.509667262646713, 2.741309343621087, 2.5785473694992884, 2.4999496573406033, 2.413054942904849, 2.5513781461864906, 2.4794834714377436, 5.397281111754859, 2.717603013110476, 2.3527827906620993, 2.370787594946468, 2.4137906785082066, 4.68491776373157, 4.579963245182209, 4.509190397202258, 2.352867658593624, 4.431726023309834, 4.411673236187801, 4.937544441744587, 4.438329851361951, 4.4058654547882705, 2.3721783507113288, 2.4049214551250575, 2.5521858496560097, 2.559662795334476, 2.553422243339627, 2.3603176670846455, 2.4954973454534604, 2.4415096814003228, 2.6068466346125674, 2.5660599845797214, 2.545645457617356, 2.3925729184436837, 1.53599426697913, 1.4279904432987023, 1.3103541332633497, 1.2914784503434023, 1.3628503207930938, 1.4149376993741232, 1.1878209353450733, 1.1589764315446744, 1.1277434597079279, 1.2004421960516682, 1.3349130948564591, 0.9486926975912939, 1.3117258907335914, 1.320198212999848, 1.1055379043115312, 1.204784852095192, 1.2987286399930815, 1.6394653214524364, 1.5364829998649003, 1.57988650502648, 1.2439638374788848, 1.0966105022455355, 1.3530747806799004, 0.8975391977399916, 1.119930690711375, 1.134352292012, 1.2670215147528767, 1.3395047136309783, 1.0564926279482205, 1.1076834553396175, 1.3610062425515244, 1.3236747465880672, 1.5641108060893907, 3.383274311296898, 3.342135435016488, 3.1908854619844687, 3.148471153068496, 3.235638249954433, 3.2675003141156527, 3.159019247533065, 3.208846924234384, 3.200987000834608, 3.3982641250572683, 3.164845375233409, 3.163406203110109, 3.7390055012802015, 3.5049768711828264, 3.496686065566907, 1.5946883062439126, 1.4908116073559146, 1.6960260718233866, 2.9516651192841725, 2.8306784789959183, 2.7353189390592867, 1.56262216453994, 2.560983311581206, 2.0683827200688736, 2.5442410222481375, 2.5415300093053235, 2.5202610005359087, 2.407157519574589, 2.3601021097991937, 2.3050537022449498, 1.8691744121217333, 1.8227803019212219, 1.8187405080564736, 1.7481763701511586, 1.5822694291610797, 1.3652944161899268, 1.3700858597355967, 1.3505438388859539, 1.8354698662171212, 1.3124968593529414, 1.4584491254011882, 1.201421778979714, 1.7496389271234472, 1.130855531339755, 1.5621607386566472, 1.3562444867802435, 1.4674968626564338, 0.973072217561152, 1.239994433932501, 1.0589367836342425, 1.2215698953596672, 1.187073820582671, 1.0862167513722676, 1.024029589067023, 1.410474761405911, 1.2057814640787494, 1.2652802444815368, 1.3703066493285532, 1.4133423526478706, 1.2192450953667122, 1.1209454676056918, 1.3473353626838631, 1.1244923962872697, 1.2918598918678295, 1.4818102486203113, 2.105962308803072, 2.081987448267796, 2.1595319518141105, 2.1572288172774146, 2.1208553565434407, 2.152998504970433, 1.4670531026162392, 2.1223907403615083, 5.7975587466932685, 1.993323842874554, 1.5576991710399386, 1.6483672149496207, 1.4867882351862116, 1.5306335114026661, 2.972344034257575, 2.815807515015363, 2.6972811073817433, 2.745532021736582, 2.679551092813886, 1.9890058978947456, 2.574790381655918, 2.5785806222099312, 2.4998690813705076, 2.4919306681939664, 1.89604184576129, 1.75292695963424, 2.0365835005134563, 1.5567800274775458, 1.6978920261368957, 1.610961015710287, 1.797111536715512, 1.8095724419886676, 1.8018077334154508, 1.731644162362369, 1.7204380119165232, 1.7003557007506147, 1.335966280387931, 1.6340816697403473, 1.7547464003613285, 1.6580989243343511, 1.5822909391289566, 1.0734559359305083, 1.0103125381168518, 1.6725677950980886, 1.5909793246753172, 1.265907014692782, 1.5795058913579065, 1.2121277721295627, 1.2638804361923688, 1.845280596105619, 1.1511078992518784, 1.1988069267282948, 1.0837743724294087, 2.7953425387588315, 1.6607361665087503, 1.7011282881928382, 1.4239182440536595, 1.1837676655141323, 1.2404756584556034, 1.130474989045342, 1.0875840335412181, 1.530238859938184, 1.3359473630038396, 1.1173924271384714, 1.4147549650859486, 1.2808394196995834, 1.5548025140437391, 2.159247523816689, 2.3236708030970066, 1.6810840397213738, 2.3879368110897246, 2.0348661237640675, 1.687575016650749, 1.6605139754325253, 2.117039881393137, 1.4553842965121957, 1.626840278600787, 1.801922686877911, 4.233305209367132, 2.4881399896684915, 2.5825048865937665, 3.0412691254613207, 2.495656956258647, 2.8321088631435103, 2.8126520334353695, 4.091626372592536, 1.884908306709049, 3.7680838722472623, 3.668418965907677, 2.316221847887367, 2.3423778271360596, 2.272002685394773, 2.321016358450375, 2.2996890356695743, 2.5353435289043156, 2.2990180528843833, 2.2770871652603732, 2.2656024706904137, 2.243569135700392, 2.1616128786384157, 1.9897760952437, 1.9803631294478796, 2.150634614119216, 1.3152946456054808, 1.82240142214358, 1.5986459378236653, 1.610864070760735, 1.283250658826577, 1.215491238740488, 1.2255951271365084, 1.546222695593979, 1.3862209593324821, 1.2811689824910681, 1.2381536494935061, 1.1936937490194048, 1.502576428961176, 1.679360297583683, 1.2793462055109601, 1.228140208629411, 1.0938641015956563, 1.3951738984785906, 1.4440081602040553, 1.3011459224893216, 1.296418863404896, 1.407942507389528, 1.5071553860521174, 1.409288256091926, 1.3545491513848995, 1.1272833810844571, 1.3587750736641124, 1.375080186120126, 1.4415314777096546, 1.3842167159339054, 2.991627265610625, 3.8196210276445823, 3.720423135839218, 3.6967860749978882, 3.646069321526433, 3.4612019391666715, 3.5697794604923994, 3.4630793628177323, 2.907301823835503, 3.4801826928095623, 3.429302672681651, 2.801846601871908, 3.4410593375015823, 3.491617619084165, 3.0319333681385157, 3.43276130930882, 2.6054996448866032, 2.3045819428503505, 5.483199865827891, 5.3626073836754635, 2.594178606462664, 5.413315579756832, 2.564471600457474, 2.5676846821940265, 2.3766960467386973, 2.2443495626269083, 2.364957674029465, 2.311904405405182, 2.4288729507224085, 2.4029098107559617, 2.3205841284225732, 2.3481821932523923, 2.359335100030699, 2.6066533710041324, 3.87350810679661, 3.079083451791413, 3.418316111428702, 3.0495486871293385, 3.286963263320262, 3.0109426991035777, 1.237703552196603, 2.999274675288066, 3.0493645716777094, 3.2686694090403328, 1.419744167840424, 1.1565458812064835, 3.3787213746472293, 3.2658212404699225, 3.2325999053292263, 1.6858389891918766, 1.4827849560327915, 3.25393731402409, 0.9541868632798473, 3.1923746858067594, 3.2213889419185633, 1.4748212183670855, 0.9688070157639879, 3.2340286589448852, 1.6521254577936126, 1.1737846710515767, 1.025941420861996, 3.2730605782395, 3.9012638787644978, 2.221120825499781, 3.357551089047997, 3.619343843997238, 3.21408705891379, 3.184878338936184, 2.7630578489366724, 3.206774152419732, 3.351482148129189, 2.6346763557521875, 3.2618441605500688, 3.2459765793489583, 3.4102031761183462, 3.2758581348278586, 3.226749927537435, 3.2851513157126684, 3.825275480130341, 3.5913140526520415, 4.295124591177647, 5.721216175615311, 5.543382332857263, 5.391135997359221, 5.319541802246702, 5.301827497645333, 5.2202155516083355, 5.181476443677311, 5.133706466238714, 5.459128350967427, 3.523718780062574, 3.3832927197900706, 3.4449915153909427, 3.3188645471615046, 3.4509690571503993, 3.425722476507878, 3.2784757227775514, 3.300499669139497, 1.7184537473306962, 1.7778970842596888, 1.6295734899089447, 1.6096664467735695, 1.7787163595296493, 1.9547677289285867, 1.7175889960079493, 1.9346939370187992, 1.5067578278389828, 3.208160745831475, 1.6339262202691194, 1.442013014746119, 3.438507642402386, 2.9659477762938136, 1.6560827890201903, 1.096318110871773, 1.3646426951711985, 1.77345158557025, 1.6711714178869295, 1.67564390613246, 0.8621809928375936, 1.3302153033275785, 1.3921395230604354, 1.156383298559211, 1.6339799747923285, 1.0844259587459266, 3.1356608435859004, 1.792024638227642, 1.6220869213863538, 1.583709689357002, 3.0968736321023314, 2.9528927478882045, 3.023568716170524, 3.176060097388652, 3.1397864055797315, 2.8912184845245776, 2.981702532228952, 2.8988484257548004, 2.799651331164954, 3.0353770758865357, 3.0080508428337978, 2.9824958961542922, 2.852730959120338, 2.9579013834634362, 2.813571459490064, 2.9185476807115815, 3.120254845771802, 3.1269488742802465, 3.068714247833216, 3.06271725598439, 2.947591939131264, 3.0548151202346983, 3.0305200395126066, 2.976448583626833, 2.980775195059001, 3.02603104120297, 4.060219102599177, 3.818094598695827, 3.7324370188723885, 3.0111509372942704, 1.9072837375753662, 1.4987287019427582, 1.9308467403253733, 1.4542638087369206, 1.4020173811359724, 1.434389248820107, 1.4514589580043833, 1.4589685727710475, 1.5749671986397609, 1.4207597519763182, 1.3455129860732216, 1.49791894453022, 1.3263243683153938, 1.5732935803598327, 1.3454961555566396, 1.624166866762575, 1.2519214274929908, 1.3206336892375627, 1.6338645067254107, 1.5615851651172588, 1.2344157328942342, 1.5102220661278236, 1.6172265715405454, 1.3489217839680425, 1.4818496711256886, 1.5819030452207459, 1.3968200264734791, 1.2740588955575376, 1.0039767670665536, 1.2679813931065982, 2.008504213106971, 1.4722608601820097, 1.590557659504985, 1.6256267069663983, 1.7474769036376423, 1.8588939617213798, 1.7597809048553907, 2.824987240096932, 2.6080369522778395, 2.571552111062801, 2.6692578614733957, 2.573899915343981, 2.6470703897515993, 2.6325491685743656, 2.5210396855853148, 3.9046870681340358, 3.8687843195228826, 2.470197754517888, 2.5563189704571823, 3.7606728089811425, 3.808769599451504, 2.457119990107479, 3.5926693849326945, 3.6138255245422464, 3.595729161613044, 2.4557882207864457, 3.554341615809721, 3.532887918265522, 2.346852505831309, 2.4575989785911574, 2.3947333240764244, 2.3305628415924895, 2.7772587150046624, 2.7618174496139583, 2.648899697789187, 2.1548539336289596, 1.3810186308890835, 1.1791867996401242, 1.5298687989276643, 1.1783615884846164, 1.2452564726575395, 1.273019251608919, 1.3005720690869167, 0.6605435184661358, 1.2057147622808198, 1.4626493791108288, 1.1142364319433984, 0.9713835312165423, 1.180202365708481, 1.2834699079911565, 1.2598051797930199, 0.9649923307754775, 1.2004368857985706, 0.8031415777842305, 1.1191802213576818, 1.131270780445284, 1.2625824397610779, 0.8753079421214394, 1.2298806456237812, 1.383418228766712, 1.2798243715118898, 1.6470675903491772, 1.1734886391645676, 1.0324198074719575, 1.333194450061603, 0.8970010465982087, 1.5290903252104813, 1.728136551922978, 1.4000372231337805, 1.9366593860877455, 1.309422593386405, 1.6261016731932907, 1.8961620003565303, 1.8924424933599195, 1.5725439912375088, 3.995853790001975, 3.5348942884009267, 3.5236910364499012, 2.531316923493026, 3.2210525558448206, 1.3844839064465293, 1.790688590316559, 1.6147168859902494, 1.6450621701124248, 1.3423715618676901, 1.3868107669706993, 1.6801383064251116, 1.5391808670406506, 1.7251851231005353, 1.5053014662794237, 1.6052051115830825, 1.4227184000359714, 1.3873545554429911, 1.3980684669130536, 1.391754638208132, 1.3864168644951544, 1.600619400754466, 1.1988272882326354, 1.2389679442154837, 1.1606934349387796, 2.664349434110699, 2.0977569243010743, 1.3028525093538619, 1.2525340758378103, 1.0730272935487002, 0.9278205994371492, 0.8044651801128434, 1.08051576270048, 1.6911943227026667, 1.3308804076174356, 0.894491676989132, 0.9612869979492753, 1.110167523244152, 1.043774795776165, 0.9604102815603576, 0.935712184179598, 1.3563177586832837, 1.759438611264227, 0.947899813696322, 1.3155891784658449, 1.521742632778436, 0.7588623112461667, 0.7350358622636614, 1.4853499779110393, 0.9514247214596415, 1.0118853328042547, 1.3949973572275711, 1.2243362642916569, 1.308833203916033, 1.1943045888840471, 2.053168180697927, 1.101510954088897, 1.2018084096541155, 1.6789753765590818, 1.0564498398184579, 2.2336777686267526, 2.2587052453908107, 1.2069309739141918, 2.03073648737597, 1.4696239383164327, 2.0987345595790963, 2.0230672157505794, 1.9571850713528842, 1.9185373735473754, 1.945138851744248, 3.056079449357089, 1.8493248261010242, 1.8926459117953767, 1.8241274151232787, 1.8535506223331082, 2.485505694626093, 1.809569617433624, 1.8058973141432557, 1.8162759501609083, 1.8109228534959803, 2.2130127331527354, 2.252670802974566, 2.2299389315177134, 2.2310093625242375, 2.1852199947356588, 2.1115137887825894, 2.0546769407917607, 2.040540721443636, 2.1198083133054726, 1.9084808412941645, 1.0771617554675703, 1.2710133525421161, 1.5134331925440165, 1.19858362438048, 1.2899354377004875, 1.1341290601654714, 1.027832997888122, 1.0479837016734967, 1.347933526508467, 1.1464455939827032, 1.3344335633191409, 1.0881921303362487, 1.4011916765598127, 1.2625487040786196, 1.0503969763347294, 1.0149829088231002, 1.0067215208610494, 1.1556601792506476, 1.075877873925684, 1.1760722903160186, 1.0335964747163187, 1.2642901653437497, 1.0799550146995978, 1.2047345615593077, 1.1466951964076872, 1.1043355550477463, 1.0411637108986216, 1.2161739018999727, 1.0690285441633607, 1.0443462721022363, 1.3279273777001968, 1.9767399855928234, 1.2668431849403545, 1.1531574496156702, 1.3508427680305026, 1.175844222711609, 1.3552523128641696, 1.2264374954446011, 1.2509036596724266, 1.3421323624270447, 1.3313604240510195, 1.2400525727423442, 1.3865194634620215, 1.3114500070833126, 1.2008805554398299, 1.5741768856981242, 1.455041302476165, 2.501634482506658, 2.472931101379727, 2.4051166383876685, 1.4248234603787715, 1.295860798798697, 1.3390234042406695, 1.2853313111175926, 1.2831634033673556, 1.2722304969383014, 1.4608425682539934, 1.5286887779241163, 1.2937474686258346, 1.381949467418897, 1.3714943551760723, 1.2977916229264552, 1.3018437065683217, 1.1855592279378602, 1.3545624276369594, 1.1095456519874956, 1.1016984966779977, 1.2061319188998667, 1.1549633402519033, 0.9151453556399607, 1.1701393278888066, 1.432692157345509, 1.279092599561743, 1.0666040488536563, 1.1414064146120404, 1.3970312741086583, 0.8109868847446309, 0.8894360310023086, 1.1215135299423553, 0.9106022816241672, 0.9967028301671812, 1.2620509535788045, 0.8789049266578309, 1.2244829267714399, 0.7936465815434732, 0.8174575643210135, 1.1190222465133792, 1.0103160330041465, 1.3650889636652916, 1.454724864821547, 1.3350051049556295, 1.0958349512528045, 1.147723309833287, 1.3688393762982975, 1.1874711326968919, 1.1955487535562366, 1.1061448582820774, 1.1579466773995826, 1.3972772608509962, 1.306778270050292, 1.130586962573467, 1.7054395497705201, 1.1639093796937543, 2.3580360119361, 1.508643722548524, 2.2963415146986343, 2.4752154799816566, 1.6272801205082483, 1.604181996838262, 2.480553210769614, 2.181560404180221, 2.1598257624282886, 2.3437269679420396, 1.6504314772710258, 2.116588779767876, 2.079432021153718, 2.049351102922812, 2.071899272513617, 2.0489453542594838, 1.961903894865319, 1.5107586084955973, 1.5595686721595143, 1.7320515995758257, 1.5299310848092151, 1.5219064039545331, 1.6144935802840439, 1.472643124483636, 1.4816485421883934, 1.4786827648710392, 1.4853386840545826, 1.481198445538117, 1.4602314591112924, 1.67924465094934, 1.261673477341659, 1.4722737390686524, 1.3737808156569866, 1.0943183245281947, 1.1886705216044433, 1.536334517867677, 1.3082900392389034, 1.3567312315004934, 0.9066693799115236, 1.3966316529810436, 1.3934981689280743, 1.2941217827844855, 1.0863423263312078, 1.0603404803242664, 1.2977062607271617, 0.973431840405104, 1.0697299391886093, 1.2128552433660578, 1.0454178728924395, 0.9409215721348778, 1.2017056695361843, 1.0327898637815935, 1.3671630193528956, 1.1820452004265714, 1.3498786341088007, 1.2691574766441511, 1.1363587117065383, 0.9269954314543155, 1.1665656664218333, 2.719605604581661, 3.076568236172635, 2.5695838872943897, 2.790476785175626, 2.9329163494127646, 2.747733919841843, 2.618900156341624, 2.7786706451813568, 2.7797951119403894, 2.6275732133623744, 2.550562205350164, 2.579873800560195, 2.727147421290699, 2.592418842228333, 1.5337293041740452, 2.5798327127542335, 3.3775351269673495, 1.435916630291112, 1.4558576134851682, 1.4716828869697305, 2.5040325932179717, 2.31051524855234, 2.27338406067473, 2.2206833856865766, 2.2012678752299073, 2.190882147188512, 2.098882576830555, 1.9864694614188, 1.7696165931071548, 1.5090501030908583, 1.510201383419707, 1.5315366505169008, 1.592047587444904, 1.2610389549101177, 1.8535398155166747, 1.2612711810549484, 1.4905794177088874, 1.5428402754425978, 1.2332325986068355, 1.456859807121927, 1.2020220386956797, 0.9300019301658252, 1.2683959170841992, 0.9250676752006732, 0.9483058366284637, 0.8218452911958568, 0.9845494219346219, 1.5466638979980112, 1.398591539794194, 0.8239861910154889, 1.3028533521895647, 1.0588012045288278, 1.2183398343345941, 1.114421063604803, 1.0634523726592369, 1.0332019209617953, 0.770733663173271, 1.213374707580476, 0.8455357055547483, 1.152382270390781, 1.2053602602733202, 0.8517136787901252, 0.9756042628709349, 1.215635741293797, 1.1999341505740564, 1.1078397503441502, 1.3795242962395853, 1.22526619832614, 1.7239616741844097, 2.1222599007423284, 2.056839399395876, 2.038243891362352, 1.50268027844008, 1.452403459961797, 1.1624443511833737, 1.3774922723453105, 1.3924597616113978, 1.4217544367174508, 2.6687918039701763, 1.7209062270816187, 2.2687395848587135, 1.4415832915475304, 1.8834346542186413, 1.8553534527874413, 1.370346733598065, 1.3826229079751098, 1.3734729483224564, 1.4838395765386523, 1.3684945000912674, 1.445908193850323, 1.042839939149392, 1.293264888150539, 1.0791901746304904, 1.1148823454974786, 1.5235210035477242, 2.0629915875352367, 1.099674236550005, 2.024134555808537, 1.0509714360021623, 0.6951748011298546, 1.3009756535221302, 0.8441630215742115, 0.8877454474716517, 1.1045703881692714, 1.1252891217780794, 1.0395839209147173, 1.541870694284756, 1.4393514937843, 0.7772817520269432, 1.1700719275251306, 0.888701568181668, 0.829502020994678, 0.8507817978691662, 0.9479726549677333, 0.871183939827714, 1.1178210492960168, 0.9035433443321192, 0.9007222040269387, 1.3377265674331251, 0.9882276102298827, 1.245713183544076, 2.14355486248194, 1.2530764214363743, 1.0509893016806413, 1.2251102377076266, 1.0192629619455742, 1.3192560652309415, 1.1971793637366182, 1.1359518113376983, 1.207727730259567, 1.1982308448548677, 2.111067088316387, 1.189693484938952, 1.2701279207340082, 1.2530467373157501, 1.7398111733768438, 1.6471892932411019, 1.59612453484895, 2.0601937752822495, 2.086864631632763, 1.9580909271816498, 1.2500712965591343, 1.503002918274, 1.447977685144881, 1.4286922708425431, 1.3775049820193104, 1.6003739469115963, 1.3292582646307844, 1.3319180440321199, 1.2851436820397446, 1.2723587712923994, 1.2712871967997015, 1.2695957702277418, 1.2657312036565147, 1.6349831223467415, 1.3675995932302534, 1.6992661820886699, 0.9417139589489057, 1.122226013436573, 1.4515416445160922, 1.9648440492707901, 1.0945590590742975, 1.2097118260963142, 1.2198200010505387, 1.0203159040505063, 0.8385132448665287, 1.278433024690617, 1.9305570737102906, 0.9262288151587018, 1.0387306133998109, 1.0303006878583838, 1.5328475054075523, 1.4309368830745406, 1.0257192711057326, 0.6803072952686763, 0.919625259989983, 1.260355706224601, 1.4845851988107608, 1.4056216172474412, 1.8530756373688175, 1.1622258992584193, 1.3273992351232213, 0.7647632608305277, 0.7728955453594779, 0.8932814909470699, 1.0529182609719445, 1.9498984180432783, 1.9095875025729587, 1.4752968047434252, 1.961145714947814, 1.3374168800661872, 1.2830689901888532, 1.432508513536977, 1.2109633788092091, 1.2353088680121336, 1.2289274056139117, 1.2133534917159245, 2.3890368449551866, 2.32114025742753, 2.323035211407147, 1.7197262377139384, 1.6957586736792625, 1.6605415941370127, 1.549384394559627, 1.5655762028234577, 1.8985165835709104, 1.5176813279097081, 1.5139172266224306, 1.4868665809336512, 1.4854518392451108, 1.4792173992180304, 1.458925196152763, 1.4374094257255208, 1.2218485299633355, 1.612405859767763, 1.0532244523396388, 1.2676607116413696, 1.091276759418567, 1.0983950775693423, 1.7374914682900329, 1.0310406711845106, 0.9979081503102883, 1.1335098781614747, 1.0421086001759141, 1.088056521268426, 0.968285772834513, 1.663646879161646, 1.0411644757897105, 0.9952930878263401, 1.0737481680287992, 1.2108734410600261, 0.9493473065131941, 1.2438387157388557, 1.1800459435352877, 1.0212653191482934, 0.9470156382549213, 1.531049091384019, 1.4196854376098489, 1.079366187801114, 1.0115389241777974, 0.9548850264951019, 1.21213025880854, 0.771715910108923, 1.0659794592334777, 1.4308186806753023, 1.3439133038985185, 1.4834558057018747, 1.2533973836647574, 1.42478175917447, 1.3620272585661344, 1.2488438602820657, 1.1407199753389283, 1.3149126965153475, 1.302415969391726, 1.2173088722643193, 1.4836528175405288, 1.585890869705645, 1.275345434012445, 1.6750866317294026, 1.5545949680846924, 1.5316027431883807, 1.51850021798952, 1.4331322318174762, 1.8313500547552486, 2.102501704110686, 1.8035211483920963, 1.5396598487685567, 1.7290499566308448, 1.4304884560560918, 1.5019943569097396, 1.4189753907145692, 1.4203396774554247, 1.3846395215183493, 1.414814063518137, 1.416114198802712, 1.3983431468573164, 1.3738193584288823, 1.3659615261837248, 1.128820621987024, 0.8151500179617241, 0.8459388256666847, 0.9101924838233748, 0.755925016284034, 0.9073080209538807, 1.5960389402387845, 1.5573107171097658, 1.452639694424234, 0.8266721465281743, 1.8142245417459826, 0.7886985070755772, 0.8808301761671136, 0.7827041279830789, 0.9726734858694295, 1.507447827043475, 1.6846400074840306, 0.6568356944656483, 0.818533058931842, 0.7871824658383595, 0.9688466535070809, 0.7774809228064147, 0.8985311198506736, 1.3249841715492647, 1.213156812985908, 0.9174353468857318, 0.8572088909151564, 1.1689213734492447, 0.6576731055643319, 1.4407944090524425, 1.6964750116992193, 1.1430065631741024, 1.3082246947380696, 1.2049647702597, 1.2381687352271855, 1.2337435397238163, 1.4661749998353408, 1.1109995379038964, 1.0947947847649302, 1.1254404080487277, 1.7855528794847064, 0.9831045560287399, 1.0031085172327312, 0.9856449103067073, 1.388347617862864, 1.4323528922134532, 1.190297439777895, 1.5857294528145236, 1.4713529032734507, 1.442457805930588, 1.1656897990447177, 1.1371803916374823, 1.3025547901281107, 1.1547114787354384, 1.1582898496309308, 1.1456299994412698, 1.53181569170957, 1.164813032712216, 1.088848095816196, 1.0434181107796743, 1.2231776981026306, 1.0042663758872161, 1.4307053536829315, 1.0137879534280037, 1.066017927271182, 0.782024406119396, 1.049025025707094, 0.8246817324821922, 0.8900695911732169, 1.169884762595894, 1.1591320783399495, 0.8900406210796833, 0.7460935662419863, 1.1051836546689913, 0.9393242189261786, 0.8450205904599885, 0.7560497066637436, 0.80753421894796, 0.8351667521487898, 0.7817740249154923, 0.9975108392286044, 0.796408143135558, 0.7323868587032052, 1.0328406802567072, 1.1397521209989165, 0.9647288412424518, 1.1697328861509835, 1.2031901445999031, 1.0961576586531305, 1.0923556762462083, 1.3438722274075021, 1.3124679314255339, 1.2634493061248349, 1.1287505552276667, 1.2566182473307685, 1.111269788294708, 1.0795887877806147, 1.162329116833383, 1.1558816106219478, 1.092741271974554, 2.340445032839892, 2.268415283531601, 2.2105895664125716, 1.3066983281648925, 2.149143182525126, 2.1382335445024734, 2.1086333114382567, 2.112736179699401, 2.0684065050098006, 2.0845262789032217, 2.092202000823981, 1.168274937639298, 1.1443903392466201, 1.186132478519984, 1.1744592273875392, 1.1762129023950805, 1.219109900575971, 0.9507728666050687, 1.055149044757248, 0.8563266359543944, 0.8098803115327508, 1.001320386363253, 0.8650766325376065, 1.0011836393725386, 1.0810605578082544, 1.0687650099277757, 0.9916925972162063, 0.9010800265534521, 1.0472223665636569, 0.6307842541307932, 1.214275196105902, 1.038414834331265, 0.8746137261334521, 0.9454391642148481, 1.0911089580465947, 0.7695078159840966, 0.8632430835308575, 0.8478802520303848, 1.3216747258058028, 0.864254974677302, 0.72766989238168, 0.8722399635586108, 0.8636575465898857, 0.6713332712307389, 0.8890331578772019, 0.7233116259332174, 1.1015033327507633, 1.0171250157446012, 1.0663692120402797, 0.9890453475712191, 1.6124087595955796, 1.267041835702669, 1.7474949030762381, 1.0574588141877186, 0.9479647615042268, 1.0119089044522072, 1.5017741151865645, 1.7023635698908925, 1.656132473139895, 1.148819415889244, 1.0706186750189735, 1.4858205476707418, 1.5406373568700364, 1.5438370372655883, 1.4579059627182658, 1.4365287241039078, 1.4562882905593217, 1.4606166005837486, 1.387932177435939, 1.416508247919325, 1.3892248925252264, 1.4012389876159081, 1.35073129974683, 1.3617485054543637, 1.3585924956034263, 2.011201264140755, 1.3684114787274297, 1.3574570353925761, 1.3385822829313114, 1.3430191767555222, 1.3314053712881384, 1.3187179190676148, 1.3263470425794828, 1.310904393862461, 1.3111085735665635, 1.3161825451884703, 1.3262063309423127, 0.9828058822606972, 1.026565243536468, 0.8737492156502126, 1.047503372500997, 0.8035775820135489, 0.8467560883598947, 1.1783119617095137, 1.036549701151457, 0.9208026305692377, 0.9058799843375939, 0.9872496880444402, 1.0792580722554312, 0.8850008999256626, 0.9170255638264124, 0.9950860469049175, 0.8044838507018499, 1.0969779351822386, 0.9657120043936223, 0.8200955399066068, 0.6020701305634721, 1.0309105249339365, 0.842542069131439, 0.8452067580092845, 0.8835511052568946, 0.763918823416244, 0.7689554783821659, 0.95468443824363, 0.7958040393811198, 1.1769170888846086, 1.045723347197106, 1.0880138682559934, 0.9131755619647697, 1.900321871818364, 1.2400310085547575, 1.8695406370660368, 2.0087084797876655, 1.7678045196321597, 1.8518304608887395, 1.7703670668385887, 1.7264200235617344, 1.85162349488818, 1.7038097489163093, 1.727964256775693, 1.6944885900927007, 1.7097802379792102, 1.8747310584213814, 1.6970775638264615, 1.753358460040109, 1.8089345463903246, 1.7365962104048762, 1.743395123445966, 1.642399947377523, 1.6117358477282195, 1.614786467061635, 1.6577034123016634, 1.689987673556584, 1.7186423330685547, 1.683372392110934, 1.6241872021232688, 1.645837217435017, 1.6507306296260302, 1.634584151315294, 1.647381858472436, 1.7265556527630115, 2.1390674428660206, 1.6999690361025492, 1.645544553431748, 1.8653236714015744, 1.8219319586215283, 1.6530961371259945, 1.5927734107720177, 1.6270801123352987, 1.5775895430616818, 0.9093298437534582, 0.9100666003076935, 0.8384085059497277, 1.4662722199415934, 0.9316787409330728, 0.8525481037009888, 1.0091382320668767, 0.9037989507123596, 1.219518167665267, 0.8951135138899253, 1.0782714598461225, 0.8231464278175427, 0.9086174655252832, 0.8226761969122618, 0.914934726486885, 0.7786849814836013, 0.8316020853497087, 0.7854733001280079, 0.8341957968252256, 0.8761673575548415, 0.958967317032768, 1.0025803438035503, 0.8930142453430049, 1.0884112767227607, 0.8069440569545934, 0.8696976139881217, 0.7679715808748444, 0.8776369608251315, 0.9459900626676928, 0.983614057157543, 1.1189570263769888, 1.1819176887219764, 0.9778451279939911, 1.061066856422813, 1.008109159027743, 1.0193865548952212, 0.941349813546299, 1.8638395141283517, 1.698728821644646, 1.6707267870571683, 1.5826971720988348, 1.256390841431781, 1.5051003646610863, 1.3887407989268845, 1.4414116063045566, 1.0008706447728235, 1.1541242379306687, 1.0037893936936397, 1.1784993360025555, 1.0133793425323765, 0.9885995734660331, 0.979575567527082, 0.7918757729650565, 0.876593865704283, 0.9055953646497211, 0.7954166094237507, 0.9406726765455659, 0.6883625743912484, 1.1489479726530727, 0.778700627246925, 0.8404811422447497, 1.0283475203213015, 0.9202266591191192, 1.1658868297876996, 0.8777480000621758, 0.7960777966875128, 0.6666963154297594, 0.6619487181804133, 0.7963561954044852, 0.6526004789006657, 0.8001088091265264, 1.006941060179851, 0.8306148769929453, 0.850880760442239, 0.8726468173809377, 0.7808758646746239, 0.6320867469617791, 0.7496520573502318, 0.7958410864380112, 0.7544716910248355, 0.6911475234466703, 0.8188401520902019, 1.0160612335431887, 0.7857673151741764, 0.9537143994701981, 0.8741799284140929, 1.1326270911250897, 1.005087811521905, 0.7754288416579314, 0.8985183152950104, 0.9395905273061397, 0.9793143787591483, 1.0541175488969299, 0.9129546011041607, 0.9440476665311429, 1.2846166080524164, 1.282769301632607, 1.0006942389701279, 1.773038939257886, 1.257824196628246, 1.7388482568597656, 1.7392903894020884, 1.3081221049416334, 1.7174845646259105, 1.7156563165646577, 1.6882231645564776, 1.6881660568655437, 1.2234607665948873, 1.664600708863714, 1.6382159254854036, 1.229189028305269, 1.2148804115189231, 1.293771507794193, 1.1614265839469682, 1.5152393166588085, 1.1699252556755926, 1.4929788986695094, 1.5533169071629318, 1.178563086800539, 1.4027190543020303, 1.1654169636963936, 1.1582788980048058, 1.1494173554568565, 1.297415835671732, 1.2694382050407635, 1.1638006946061417, 1.6910330821446284, 1.1829961749800724, 1.5731954074917895, 1.4635705440652733, 1.5596307486999499, 1.455949622065485, 1.4894567646921768, 1.449081191169855, 1.4406680256033892, 1.5121458632911777, 1.7621143237536885, 1.0875342454976296, 1.7020322871222164, 0.8863910616570287, 1.4329558127061746, 1.3421841725416883, 1.2685398330684006, 0.8304428864510087, 1.4370569078832125, 0.9135611023448559, 1.349779887451745, 1.2767760148163938, 1.6183688743506892, 0.7890912607369008, 1.3714008361348662, 1.3596420713256032, 1.545887358126245, 1.4037205357326203, 0.8260893076590663, 1.2693033652312415, 1.4436109037476237, 1.3997463602152134, 1.565456954717521, 1.2728784415067056, 1.4838507392285825, 2.680381762439721, 3.056784237388803, 2.7185851469267486, 2.671038261092534, 2.6256907115554533, 3.7461585795840464, 2.635824890604726, 2.6436556505054503, 2.5911943342255364, 2.558454362583624, 3.43523146850059, 3.5114964486287388, 2.7985140450239956, 2.7687190810103224, 2.4874967942448527, 1.6108503923740105, 2.007043796038366, 1.592977331509258, 1.4933991897143097, 0.9017127728862121, 0.6991768358141582, 0.8825944005114682, 1.0232643140609148, 0.9757826958130985, 0.8843276771221088, 0.93037652271758, 0.8128091132912513, 1.4434254906009152, 0.7688503174577946, 0.8222305638437648, 1.1581515419069837, 1.309297015420974, 0.8191509351567245, 0.9744641268359876, 0.9037229624785305, 0.8619284636707113, 0.978408262797486, 0.6746926217586378, 0.8040814019390086, 0.8116741613287044, 0.7356271807143433, 0.6189285051569221, 0.808435702391714, 0.7102824567826888, 0.903168557793942, 0.9136778514341652, 0.7540166441724541, 0.735182111628311, 0.7851628659764995, 0.8723113731743743, 1.2089400228968297, 0.8720647551317808, 2.2849389551089616, 1.0620704367522196, 0.8113118996944106, 1.2364908327951025, 0.8276182199120726, 1.0345426433145903, 1.180571821702364, 1.1813513517422387, 1.8110051722562455, 1.8341335630169497, 1.7742129977631234, 2.9835217183414664, 1.7223662322956126, 1.2986512754879806, 1.780949651974155, 1.7236319769410928, 1.149601599583268, 2.3328290427411704, 2.3576562851378227, 1.1397661320509969, 1.0776197687420848, 1.105752774643464, 1.0508717581504332, 1.113788891534481, 1.09848780420487, 1.0557912890585777, 1.047374892842111, 1.04536793427352, 1.0349875754610458, 1.0641636226392908, 0.9232488548118031, 0.6556977155507956, 0.76532295766149, 1.0330026972373116, 0.5837062266892659, 0.5613115818517173, 0.7318176527920175, 0.5752054269801146, 0.8692458810213837, 0.9030467060240157, 0.7103972959982022, 0.6562659103493437, 0.5835464716761873, 0.6966318791647363, 0.6488460927954667, 0.5688844249377628, 0.7625757774481361, 0.8607785483324301, 0.6163013951026238, 0.5801009379011254, 0.8368403409710352, 0.6586693465903763, 0.5768630949678483, 0.6475016157206482, 0.6553602000621521, 0.6783791552222126, 0.7027414393927902, 0.7114275856744247, 0.6415525945795327, 0.6644690006398627, 2.1974602556248937, 0.7898021887749217, 1.7600136851950334, 1.0402575149118791, 0.7361637903591728, 0.8161873757966337, 1.4588180248750346, 1.4076140636569365, 1.429327234313999, 1.4029097332747265, 1.3496980227291349, 0.871105058614192, 0.7535070575356267, 0.7760047959340832, 0.9675362926365737, 0.7683053292710724, 0.8507359507976755, 1.0790464878536439, 0.7650710864016267, 0.8235669629557356, 0.829098660066348, 1.0440496529605403, 0.9624445642006261, 0.9419807189839491, 0.9121380012444092, 0.8450410207243905, 0.8143982560991884, 0.7848877348096761, 0.8344938448266106, 0.6932002795358341, 0.8085775587537094, 0.9649003922938915, 0.6004353332259554, 1.1969751098030117, 0.7962209779092543, 0.8513753361727681, 0.827511148915241, 0.8369999633620094, 1.2676698657333414, 0.7394941940930126, 0.8468311249240976, 0.7614507103635891, 0.5582395056629398, 1.000595050871018, 0.639102752191396, 0.6825372944713772, 0.8235774299096236, 0.7959746824139532, 1.1470905600478065, 0.7368677479135056, 0.9447640399165432, 0.6830748465286229, 0.8549272253495825, 0.7927135558622098, 0.6922520382458693, 0.8909211345153071, 0.6845674303988822, 0.7703694247340206, 0.8247007156174796, 0.9445960199123679, 0.7931389371230783, 0.8581243288938853, 0.8013438331337813, 0.9275168517463926, 0.9212880335175865, 0.9519361031226982, 1.0254975727215871, 0.8704603648218208, 0.9465236382271505, 0.8476721651853502, 1.2292033112669996, 1.0907738893468464, 1.0142051960766394, 1.0149791777364667, 0.8928071658647102, 1.534887345862813, 1.487312507490838, 1.303152033961646, 1.3997807896747994, 1.0414084868888032, 0.9623781196612001, 0.9440611703532873, 0.9539392869577356, 0.8735727308207708, 0.9769642953155597, 0.8965808841353362, 0.9196913167209168, 0.8815248599878738, 1.3136421774993239, 1.302729832505982, 1.2743242698248642, 1.285053074722862, 1.2103477180674573, 1.082132969512958, 1.2795601855004477, 1.0504887930370177, 1.1022951994702828, 1.244729641716587, 1.1361874735822435, 1.0470546065266673, 1.1909341528848425, 1.1871212744799786, 1.174207406638687, 1.1188430740336102, 1.1030759710166949, 1.1191263169554873, 1.050460288458934, 1.231834281738914, 1.1818936001471207, 0.9061256997488645, 1.120884442792014, 1.2422449152464023, 1.1455050164634184, 1.0528765988738444, 1.052937359193321, 1.0888714412290252, 1.319132649821681, 1.337586677308608, 1.2308770779937532, 2.4670908764939425, 1.2091791674418537, 2.1645336726063014, 2.195248499115546, 1.3805876378468374, 1.311343981951145, 1.1911030281946788, 1.203805500651737, 1.1834020069092168, 1.28453052560797, 1.1804420061523069, 1.160750560325193, 1.2071888283646632, 1.2275181657777385, 1.197638944821381, 1.1893883284279383, 1.1952073056069992, 1.1859495181098036, 0.7374058269375555, 0.691848219025645, 1.0234173623455134, 0.9098533854203521, 0.674318969938949, 0.8214718573601195, 0.6867893753864213, 0.6943670686666754, 0.6752212810880346, 1.1925908005929529, 0.49463439453321284, 0.5831832834664401, 0.9236560085940025, 0.6874942366828171, 0.7258334161239963, 0.6889195757061299, 0.578398240176283, 0.6306356481416311, 0.7147625532991598, 0.7462695441694764, 0.7680444075053556, 0.5235714026912222, 0.6710046001743409, 0.7376329183868552, 0.6706276740358026, 0.5251115606785612, 0.8138217570041969, 0.7501681988556491, 0.6577221899160642, 0.7650298408468367, 0.7969627751542094, 0.6782236890391877, 0.764982666039559, 0.8956835233199948, 0.7600094132449627, 0.906341999922662, 0.7318907416122555, 0.9661902056807397, 0.7498807241027162, 0.8961732654872562, 0.9130547096113381, 0.8069894766272665, 0.8644923415281862, 0.8048801446757741, 0.9529100635248822, 0.8931054182263658, 1.181522411990569, 0.7430960320561877, 1.142518717218007, 1.0680442817367233, 0.7604771302716492, 0.8649568764441524, 1.0234990215064745, 0.8957805111603243, 0.8893690327625337, 0.8154321984120094, 0.8668605984770815, 0.7780884754778445, 0.800450137544616, 0.766000984765354, 1.0503616171611991, 0.7629495235665927, 0.7303410308612713, 0.6999115067960147, 0.6731971319097786, 0.523949424582233, 0.6470525636635193, 0.7926208824212908, 0.8129997234231355, 0.6434487026900131, 0.5341899501881076, 0.6738841973562905, 0.6238829753121333, 0.7637974861036836, 0.5177294093906728, 0.7624883102391998, 0.8038752515092106, 0.6162042241001341, 0.5252976636310804, 0.754197860347357, 0.7097502703110169, 0.5951754501974685, 0.5864215612508501, 0.5768861579032796, 0.6694546564395356, 0.8296470967093386, 0.8136334425548691, 0.6442651564009453, 0.7380894999833371, 0.7996094304205745, 0.7661078929306402, 0.8344401521254778, 0.7532300677106466, 0.7863492281219998, 0.7258727947135936, 0.7448688504866877, 0.7633417814466784, 0.7284904044486642, 0.8202644903775901, 0.7655831721529498, 0.780536852533156, 0.7650737214220455, 0.7305646835400451, 1.234372422955882, 1.2068268950143335, 0.9273030661751027, 1.1549059295779631, 1.0546579290568048, 0.7670834372915117, 0.7552768882292387, 0.8672629286893626, 0.8379073400875034, 0.7932411399532486, 0.8110473458737752, 0.7581742521467396, 0.7582252207429231, 0.831831820178567, 0.7136838406840629, 0.6590070512119769, 0.9093053230570041, 0.8821566845576359, 0.5848833756812853, 0.7398396162119377, 0.6944291825066398, 0.8501855327150137, 0.6481044071245449, 0.7346764041765282, 0.684404197804893, 0.741596692310285, 0.6951838005971587, 0.6970033952233947, 0.6763246171862461, 0.5299245026244096, 0.6275103436763034, 0.4827591181028274, 0.6075467047863934, 0.5566851855721157, 0.5069226762142792, 0.604657821085248, 0.586372985514241, 0.6256440113187896, 0.6111919600495798, 0.897036049674579, 0.40786759733483774, 0.7429500809983528, 0.5603552186549798, 0.7982853644542045, 0.7296918646744694, 0.7183106744449301, 0.7016126709760262, 0.7604924557741491, 0.8075956147324403, 0.7375134836287929, 0.7018547402063017, 0.6780649693287887, 0.6869103980544836, 0.6935224495741874, 0.763187009323769, 0.8378308612498464, 0.7668166650863943, 1.4016590510917275, 0.7194893150207061, 0.7069016240329233, 0.730772575420921, 0.7717481227590409, 0.7270175506795356, 0.7538761419539735, 0.7289417728218287, 0.7194716646461786, 0.7181071125357357, 0.9898146554349406, 0.8034059997946311, 0.7390557161834886, 0.924596980477265, 0.7284632373242775, 0.5531957881815979, 0.8179552997456155, 0.7258344187931786, 0.763517266206623, 0.92803481911013, 0.8381978669589241, 0.8096281017370515, 0.7122551571275202, 0.5899795479278588, 0.7706051935820101, 0.5643958519136548, 0.6504972939434556, 0.6017803272446499, 0.6985136775196136, 0.6679728866292937, 0.6163072320396821, 0.5049704173188228, 0.7274148588504022, 0.8062799682829233, 0.6853926545750313, 0.6630994215778604, 0.6634711662940613, 0.6885627659358616, 0.6469878946020717, 0.6731048129761918, 0.7108011550269672, 0.889492817113185, 0.8178580630939922, 0.7838312292070944, 0.7129799532896233, 0.7244533256940465, 0.7998520084785111, 0.9542011517693377, 0.9801384463932504, 0.7476433842091427, 0.9137396570459243, 0.8843758861616525, 0.9000558779088805, 0.8495987207641666, 1.4989962079983032, 1.1899195556103408, 0.8480504431757859, 1.1286680511403362, 0.8425488562693012, 1.0309237064430132, 0.8325236227475903, 0.8167844559728397, 0.8102863922649668, 0.7876392953466583, 1.002451739557366, 0.8497138054789642, 0.5998078291160667, 0.9011883852575786, 0.7345154716007471, 0.8620175789874167, 0.6608368810467327, 0.6039733508621736, 0.8332697895832468, 0.48966666044772406, 0.6944600008520574, 0.6077301852643116, 0.5722676363206355, 0.49819372227077907, 0.40101409230062196, 0.4747109708344986, 0.579416611309898, 0.5410143305136593, 0.533284226710357, 0.7822154785718237, 0.5385590172312721, 0.6104023606574027, 0.5559592835542769, 0.5744283449512023, 0.6142074790129302, 0.5366221155332409, 0.5169864473365987, 0.5117968879188179, 0.5196961383122494, 0.5825505594483649, 0.754193285892628, 0.665576461119624, 0.5705662484664085, 0.7321418810517691, 0.6059172294898987, 0.5961709061615902, 1.044962795044911, 0.6990517542720482, 1.0262613067172004, 0.6188797608303008, 0.6020039621003331, 0.9727157162014176, 0.9509825811339278, 1.3757704160895134, 0.9635786634002282, 0.9497997061647724, 0.9443238037658582, 1.3115765220189426, 1.2975406893229242, 1.2795325017019294, 0.9018967786945035, 1.2235518939809382, 0.8948757816591134, 0.8895840550014542, 1.2248833133368913, 0.9225480207707625, 1.1920037222290654, 1.1964040239558569, 1.1770845220722352, 1.3390835204060076, 0.8760386498077679, 0.878642357565388, 0.8823563359571409, 1.0203453934742113, 1.0267227033936652, 1.0042287364500195, 0.8719037056135568, 0.7791138154016394, 0.6602434456062393, 0.6754399806269622, 0.5013734472595073, 0.5960012030277393, 0.7705156474634199, 0.6607434162523456, 0.6471866992970429, 0.4999616942292844, 0.6189492066379587, 0.551978121359659, 0.6000152839322563, 0.7256816510556183, 0.6357198892505579, 0.5847942679936934, 0.5115525845730778, 0.5382311728829797, 0.7641479935266187, 0.4157822609388876, 0.5761361301696774, 0.5420741068413815, 0.45755900243873326, 0.714379973406062, 0.6487855127480627, 0.56316413607827, 0.573669985568265, 0.6510729941612947, 0.4988901528331812, 0.5237088836156314, 0.597248785765792, 0.6226909886375916, 0.58069910727001, 0.5865004167095653, 0.5895723250672742, 0.6432197695527764, 1.2904660001192647, 0.7140479176110459, 0.6012136736713533, 0.659029873784509, 0.8612836213313134, 0.6164840593616455, 0.5935022890326341, 0.6133159048482354, 0.7430668985899188, 0.605201041280321, 0.5924851518348913, 0.6084574914401188, 0.6748429369048795, 0.6570774256149892, 0.511273148795854, 0.5386678758852156, 0.6625289256436793, 0.6675032408125585, 0.5995886430631273, 0.5230851451659817, 0.4322819718445193, 0.6269571291687333, 0.6545091578377294, 0.48727448267364076, 0.5266482091852049, 0.622889147183567, 0.6114547999088146, 0.5597156680289658, 0.567072219960566, 0.4920240506360524, 0.6014187743412549, 0.4085460821019482, 0.5505515800527255, 0.5104193990213379, 0.5376892662125956, 0.4524320995972565, 0.3951927815620751, 0.6855825888763336, 0.37125736345392474, 0.4228524305501657, 0.6530353817936759, 0.3968656522381446, 0.6845198091175557, 0.47665597880636407, 0.4919146269947141, 0.6470124368127191, 0.5767348943946062, 0.806164355816521, 0.6292005669419583, 0.6976079484663087, 0.6089454695850423, 0.6496484713125678, 0.6030665538287859, 0.5837541823536138, 0.5842905923348891, 0.5981282594444259, 0.697851404696553, 0.5737989424254054, 0.5736659729795929, 0.5531572581660585, 0.4522592856884578, 0.45396794822805653, 0.47958198539648994, 0.5021106213029046, 0.39967074518501505, 0.32518397273625205, 0.5054920101972545, 0.40820886535578116, 0.4690741501462896, 0.38015135532503314, 0.5035899320328785, 0.3560591056401124, 0.3716393034598095, 0.5487599977604769, 0.42444802342994664, 0.36135082117218514, 0.3063582531863204, 0.35944516459604825, 0.5301195940005126, 0.37264431760277283, 0.3942178673858423, 0.3571755589044035, 0.48935232005200224, 0.44623921030339964, 0.3317351017371072, 0.38939527528339396, 0.4998742328680977, 0.45051059429340395, 0.3718287807443754, 0.37929538487720993, 0.4154432255609736, 0.4717306646754348, 0.6110913830351106, 0.45636201809044863, 0.46498973707821967, 0.5509606324311503, 0.48986949596343454, 0.4826453132435323, 0.43260644064303916, 0.4188307560293544, 0.42310812013700333, 0.5381517666421216, 0.4996785392449192, 0.43559512045326054, 0.764991955532456, 0.4379000335134542, 0.456403770545886, 0.5116368264931029, 0.4769878290099812, 0.6082676167558116, 0.5475965439802714, 0.5305038691233481, 0.46002530113092527, 0.5146709031196884, 0.4779525248131351, 0.4762654168065297, 0.47319618728809004, 0.663206958125715, 0.787223938080553, 0.7630172401288815, 0.658666983270691, 0.6637143137213103, 0.5463782101570512, 0.7742442850149619, 0.7357853513079391, 0.4283138380608712, 0.5654667048273561, 0.7128748082717, 0.6688015638072403, 0.44411304585239025, 0.7489385372044489, 0.5441185909359672, 0.68654401902461, 0.6357507349131499, 0.4644741582851589, 0.7565318524090472, 0.7117547012320634, 0.6383943418394037, 0.5988851829563567, 0.5614696059495003, 0.4447520880245321, 0.48800885957038115, 0.4711503858610887, 0.4810631496291546, 0.6551436659364445, 0.4347271895434146, 0.4364940358538398, 0.6899929982939671, 0.6076649586479349, 0.6634711178440124, 0.6392509807170422, 0.6497415187225308, 0.6585991650801806, 0.7575507605561351, 0.6325009543853927, 0.6529197481638265, 0.6403135936750395, 0.6996453426451139, 0.6176428129468547, 0.590038044810734, 0.47330274537363926, 0.62827506280529, 0.49732312492382474, 0.5086407753620767, 0.4731816121959081, 0.5720478703465517, 0.4745801842725078, 0.5225476507693091, 0.4081765671729104, 0.5536668228554326, 0.5513079369328241, 0.39265708004008, 0.5071231151985126, 0.5229674872902955, 0.37720428935618294, 0.40099544701688367, 0.4612438753663731, 0.46190707120266633, 0.3631302153781983, 0.47748615775673636, 0.4906084966645294, 0.3920715611021486, 0.41442746016270965, 0.5674414569768682, 0.4284033691824384, 0.41384991508879393, 0.32066884146843083, 0.4788495134676326, 0.37930386282516193, 0.41581773973049796, 0.5117610353899098, 0.4767763078785615, 0.6685515129116278, 0.531021513368284, 0.49511115978048326, 0.450286694075772, 0.4992359264000408, 0.45834791075845144, 0.4640091164154949, 0.5311716263071989, 0.48707346985234884, 0.5395121336915459, 0.4996404139750485, 0.5447078194272611, 0.4940077539824298, 0.5408816620030116, 0.4918096403656062, 0.5651212051747997, 0.4862964229127565, 0.48089156944928163, 0.48283119237131905, 0.4988440949214772, 0.518837864102414, 0.4618564710693103, 0.4314451980339969, 0.6663991575857351, 0.3544209272062326, 0.3917553673356444, 0.43358708342577906, 0.4173638616989003, 0.41268413289184785, 0.3948931569701514, 0.35817128220477973, 0.40408090174288985, 0.4094767320901924, 0.41189101157493174, 0.35477445492767373, 0.38727954636028405, 0.3901238647845771, 0.45843884137517976, 0.4765008099355505, 0.36248219717749686, 0.4607539954510858, 0.41248191510882304, 0.46612103120746967, 0.3869233770010865, 0.34579551253603397, 0.3790510035424244, 0.3546607224330537, 0.33330348501014323, 0.47557141437205125, 0.36938432251904824, 0.536919735116013, 0.4565947485431835, 0.39870049965643883, 0.44303137189022096, 0.4487282438485072, 0.4038128480549158, 0.42274087731483856, 0.5678721269030987, 0.42157013987491154, 0.4853572849898155, 0.48495270463602913, 0.5196099607131187, 0.45199797548751186, 0.4465586881623745, 0.45146694727074344, 0.44355782590691095, 0.45691038143948093, 0.4244920014945109, 0.4188662721611809, 0.4305833438243221, 0.4221856218683964, 0.5803712716089988, 0.48860322984415144, 0.6865217692850661, 0.4090786652012791, 0.4821812758034965, 0.5909996505889317, 0.4496237550908054, 0.4067896123655466, 0.6142087362126473, 0.39067904693571887, 0.4360860669417886, 0.46909297256832727, 0.40858071077659264, 0.4062944827249554, 0.40318986721817235, 0.47570901192726434, 0.4673615797484188, 0.42859268960462255, 0.39914550642374036, 0.4124547455692135, 0.49522577745249224, 0.4799841501950567, 0.4745746579598202, 0.4087918375723957, 0.3727106713074431, 0.43224757751275567, 0.33260112793673285, 0.37515807276829705, 0.39037745987661127, 0.4544769133263435, 0.4767933923862307, 0.42612573150005095, 0.41499793819023406, 0.49465484662566556, 0.5196760521196091, 0.5107188944894969, 0.44537227701088183, 0.5176225454122306, 0.4676204220124404, 0.4535678868186347, 0.45005595767470796, 0.4608675860423276, 0.4428830522654629, 0.44233408794609247, 0.4461004225466226, 0.4610758488046859, 0.48948069293147456, 0.501478257855563, 0.44737905345771456, 0.5091722344124804, 0.404877949974581, 0.3355445501109015, 0.34458870210143255, 0.41013555853286926, 0.35482960034417405, 0.515952755110004, 0.4008665226125276, 0.28813719715456815, 0.3917776836248287, 0.2566079188516253, 0.31367995981297997, 0.3077949097483352, 0.37897043334235775, 0.39040766312361314, 0.2491172049353352, 0.35488688029858123, 0.3663936532359058, 0.3010814384604216, 0.3077942616233574, 0.32697398871537303, 0.25911959404693247, 0.326950116367172, 0.2979437801282151, 0.2858687699344542, 0.3795065844219686, 0.27844639779963076, 0.2966609650438441, 0.2765839823649723, 0.307085126124226, 0.33805643287504306, 0.3665243121396123, 0.40918985821223147, 0.3615902091824024, 0.3824192743291028, 0.3804064925095596, 0.3637335467293425, 0.38151633337667734, 0.37066581194022036, 0.336144385793724, 0.3552479378911439, 0.35438209275517446, 0.3415629022374251, 0.4719749091711677, 0.45693231166533116, 0.39236195816046066, 0.4096115443700732, 0.3519647073148904, 0.3667491770999514, 0.3530050034086317, 0.3715316914137233], \"Total\": [55.0, 56.0, 60.0, 57.0, 57.0, 56.0, 58.0, 57.0, 73.0, 37.0, 38.0, 36.0, 37.0, 36.0, 35.0, 38.0, 36.0, 37.0, 43.0, 41.0, 42.0, 18.0, 15.0, 20.0, 17.0, 48.0, 51.0, 13.0, 14.0, 14.0, 7.01383574656743, 10.150246850365066, 7.112666053162192, 9.258094806627692, 7.2005007506243395, 13.032723922139427, 7.384486678848163, 13.231912776660115, 7.549254369694681, 7.470991129759747, 7.46235851646188, 7.516837674097445, 6.842892722030659, 8.091869861838257, 7.835437244861783, 8.657097528248489, 7.6906920111821, 14.039410755075771, 13.722389962756802, 10.773538053305947, 7.795095109576577, 11.18980891017306, 7.01263115089468, 7.983769643259739, 6.116509204026225, 14.704619187362008, 7.800774786344278, 4.331368051381526, 14.89147640814618, 11.165796670076897, 11.278440640178538, 11.978482275865856, 11.195662127535172, 20.077082343334975, 11.424521704469724, 19.531057322113572, 57.8724354259111, 56.4015956000812, 55.98225585403207, 57.602517318673755, 57.99295622058302, 56.64117937228667, 58.16697487549408, 60.10933431589495, 20.126412433381528, 18.783245424568737, 20.047832220903057, 18.698527684469735, 19.079642001877815, 73.27992385660374, 22.59379327103373, 19.934557833787505, 22.114809474951645, 22.841246276893116, 22.99603647649597, 43.77606772769217, 41.78054743386778, 42.10345330971206, 7.268228111030091, 7.360877688790136, 8.33769527690808, 6.946815741143774, 6.855958529546984, 9.89456937879873, 7.347040509802508, 6.23823118103536, 8.886209973388457, 4.945185344605055, 5.827659196497464, 9.104439564958792, 5.486861313800226, 7.474631381410463, 5.413517611305563, 9.125633018527548, 9.526932513566551, 7.062455350685124, 8.019886215703432, 6.844430697850741, 6.052736234665472, 7.891907824492949, 8.149281575707784, 5.1874515346351835, 4.156294961344462, 10.183875179969085, 10.973218786804528, 5.141207339280017, 6.9267311143763255, 9.984878755195215, 7.1128374463960915, 10.746175384913851, 13.2062976450319, 12.106397932720986, 11.954441341581768, 14.74225726408859, 73.27992385660374, 58.16697487549408, 60.10933431589495, 56.64117937228667, 57.8724354259111, 57.602517318673755, 56.4015956000812, 55.98225585403207, 57.99295622058302, 59.1246722711855, 15.784759028761895, 42.10345330971206, 41.78054743386778, 43.77606772769217, 16.9541569417356, 16.958340664968528, 15.695460864472906, 16.50800025433915, 16.51333279104662, 19.33802363841185, 6.4502856268942095, 7.603322070445915, 7.3528011343052055, 6.801845391188967, 6.864897290227582, 5.43084038372954, 5.684048002769404, 4.471572700839115, 5.87178113344151, 7.775510814666247, 8.326643392155795, 4.18940803245445, 4.890803974790397, 6.033172346910969, 5.617833226518368, 3.9024778609262136, 5.357858641851446, 7.0152683253271055, 4.6272133012801655, 5.113660855037627, 5.297162160438683, 4.5333761976828555, 4.226676067524504, 5.2544935957603105, 5.250879933469063, 5.168185062595152, 5.602160977028067, 5.537961041389863, 4.730609073206001, 4.678822988728138, 9.131322302082081, 9.027705874717594, 8.721873092136164, 8.622465820271069, 8.710301411447714, 9.92034693538809, 6.276766786546046, 15.977233669087319, 15.881712303684, 15.498379321571035, 7.292090696393863, 10.995238791989184, 8.278591666335164, 17.360248608986357, 57.602517318673755, 55.98225585403207, 57.8724354259111, 56.64117937228667, 58.16697487549408, 56.4015956000812, 57.99295622058302, 60.10933431589495, 73.27992385660374, 15.269127632450454, 36.585533988640385, 38.21930770913158, 36.22298967264987, 38.9499179241678, 37.53956299067072, 37.74912973928784, 36.93074166898098, 35.64123412254387, 37.800586314117126, 17.40735571441461, 18.158979917621274, 20.378112033319617, 13.927094121865357, 14.700334337040129, 7.7734462551540195, 9.912100865623131, 8.267284160233547, 9.212253228143592, 8.82054991020653, 9.458042049594606, 9.483520821789357, 9.385483021213451, 9.29548634008434, 9.520104093201214, 9.222784228232914, 9.35859339959247, 9.878788885079617, 10.349263687763889, 10.32022120318281, 10.328670144065214, 13.479847697081142, 10.627426146552766, 9.789857267021143, 10.188321146001726, 10.553835708701957, 10.370790607984866, 9.78699878608188, 10.41505929448233, 10.662357309113386, 10.880019385008886, 11.015909049409705, 14.524382186821796, 14.526078970039507, 14.69032232037196, 14.261849679164916, 14.972714089059817, 15.267011889564476, 13.551933393440429, 15.170691207257667, 15.647569670391865, 14.545132009910738, 15.402248885559521, 13.315081424511817, 15.635921576936651, 18.17610257885451, 17.201205124555496, 14.595635611388094, 19.476179007588986, 20.21040809581551, 20.473245612171873, 15.347723759056866, 13.091234164773734, 4.548237889704334, 4.449076593079879, 4.5400012474313165, 6.129406727845814, 5.380182450076028, 4.260792862862484, 3.948749140263154, 6.291537508493082, 3.572085003575784, 5.752127366653067, 6.289862290616179, 5.410359069178176, 5.581424532008696, 6.701172832276113, 6.789639269114561, 4.945868855221344, 4.787394888990416, 5.1513170707216585, 4.287530307622091, 4.954189096176135, 5.882114296906435, 5.500814104646437, 5.320168623509226, 5.081775800579319, 4.512017216661189, 5.415509070483168, 4.927094408742806, 5.731360819717856, 6.289319700175535, 4.590000591148841, 6.460542878185579, 7.11439713542494, 6.086629234087849, 6.652839388193536, 13.384776960176104, 13.39619259153106, 15.453376993043294, 14.821176311204475, 14.700334337040129, 13.832249460277191, 15.268027515503126, 14.541277797406632, 60.10933431589495, 17.360248608986357, 13.386725087873558, 13.642645060861245, 14.837698691134023, 55.98225585403207, 57.602517318673755, 57.99295622058302, 14.144161006369368, 56.64117937228667, 56.4015956000812, 73.27992385660374, 58.16697487549408, 57.8724354259111, 14.399447980572608, 15.269127632450454, 18.187083825181507, 18.352648762799664, 18.267139354879443, 14.564993590943882, 18.358482789759336, 20.378112033319617, 33.797479971240755, 32.12004236281669, 33.667291913459266, 19.137729890685492, 4.886230239967164, 4.880116730251719, 4.765571217395781, 4.702251771307098, 4.969454756202811, 5.279561456968031, 4.5092774192150955, 4.448136986745693, 4.385192642969352, 4.69348807923994, 5.227066628970574, 3.7367783885406762, 5.17818850385436, 5.294829825427924, 4.441107871344068, 4.845821967636176, 5.241542206669809, 6.630946424727473, 6.218337809886236, 6.4038351812127, 5.045806470734433, 4.458734648647286, 5.507781020613717, 3.654563823664969, 4.564260230260238, 4.631562594723237, 5.2192816777584845, 5.524410611553833, 4.363702401939776, 4.603348279475824, 5.736011047986815, 5.599036731602241, 6.742846515349259, 16.126136235920768, 16.381486397304904, 15.680395921700827, 15.662738290172529, 16.400024435024896, 16.715747826207803, 16.13441162687914, 16.579210809809023, 16.627995950087854, 17.957958946260906, 16.607903313309162, 16.666352334356993, 21.54135996760046, 21.61183016710176, 22.804628182346434, 7.2532879332879325, 6.696580394813929, 8.792894306363863, 38.21930770913158, 37.53956299067072, 36.93074166898098, 7.959112563394323, 35.64123412254387, 18.866535681051516, 37.74912973928784, 37.800586314117126, 38.9499179241678, 36.585533988640385, 36.22298967264987, 73.27992385660374, 57.8724354259111, 57.99295622058302, 56.64117937228667, 56.4015956000812, 4.84486149914973, 4.420113950673065, 4.613759742773809, 4.819872971326754, 6.611413297597687, 4.9366827300659875, 5.534436436052814, 4.588024418641532, 6.752243383816381, 4.373721664689633, 6.09460679094455, 5.309379698522198, 5.754674055293923, 3.844271875042269, 4.946921847288909, 4.275889606151386, 4.958267906325574, 4.835921180821988, 4.527609234352114, 4.295270828231746, 5.934702005494145, 5.076993114127366, 5.350863409333395, 5.8017819304978655, 6.04689516695983, 5.2252018211773015, 4.884227369296895, 5.888531693452969, 4.938142510455962, 5.705077559087429, 6.575197885011938, 9.828907645334192, 9.959294340935717, 10.434238937879703, 10.589861365547359, 10.62937791420041, 11.030033703995317, 6.637906372824325, 11.907065275679726, 59.1246722711855, 11.078333313608178, 7.56806210458997, 8.508031014933726, 7.067498675156239, 7.580179721952025, 37.74912973928784, 37.53956299067072, 35.64123412254387, 37.800586314117126, 36.93074166898098, 16.23198047248627, 38.21930770913158, 38.9499179241678, 36.22298967264987, 36.585533988640385, 17.444119050512754, 16.644795725714303, 57.8724354259111, 8.734716323591984, 16.60954737154229, 11.646888348361026, 51.7266556584831, 57.99295622058302, 73.27992385660374, 48.27377610645201, 48.03327960951186, 60.10933431589495, 4.188667325322876, 5.421659680032098, 5.905300410636593, 5.858639842709609, 5.907011981017547, 4.0316672655867585, 3.82978645879781, 6.342396115365795, 6.092344731834835, 4.8575602484499525, 6.075081709470023, 4.681195368268498, 4.915766429723154, 7.204859006286658, 4.583966352195064, 4.794019451709198, 4.38763967952698, 11.32652539891659, 6.737775544009358, 6.9630650758277675, 5.8516814923360965, 4.869106678136396, 5.180896487921039, 4.723797476754152, 4.548473171702637, 6.428940137237941, 5.682799067902037, 4.754898980042386, 6.043352301743398, 5.488524803392206, 6.663326286320369, 9.578984622591985, 10.469386658002099, 7.405969122989458, 11.066864387649254, 9.296425550403855, 7.501285387042349, 7.38346815166749, 10.560602174987478, 6.33299012062455, 7.54514099379425, 8.937545376215995, 36.8242177214043, 15.662738290172529, 16.715747826207803, 22.804628182346434, 16.126136235920768, 21.61183016710176, 21.54135996760046, 51.7266556584831, 10.167705297036052, 48.27377610645201, 48.03327960951186, 16.13441162687914, 16.607903313309162, 15.680395921700827, 16.627995950087854, 16.579210809809023, 21.834451587753883, 16.666352334356993, 16.400024435024896, 16.381486397304904, 17.957958946260906, 20.469861506999756, 13.970493754811836, 14.427691774396509, 27.47808959914944, 4.1365228961335765, 5.738296045605329, 5.238909778478096, 5.5310367349926235, 4.459721527166827, 4.224736310792674, 4.285230456414937, 5.459799658124434, 4.94053029244563, 4.701800300105716, 4.568248615093728, 4.4212036345033, 5.568534513334471, 6.228799622117997, 4.853935401139187, 4.698110730430238, 4.235462265340206, 5.435499423348799, 5.690722349225475, 5.128667428262395, 5.112318828654919, 5.580811508294934, 5.990342595765894, 5.611030262609111, 5.402862116725808, 4.508919276854722, 5.4548353982407365, 5.554216814011572, 5.8286371685302765, 5.625726804391247, 12.51938487234468, 16.49230993564919, 16.16255114439809, 17.069649112457174, 17.12137797599097, 16.231102902995904, 16.83185107955861, 16.504128714611024, 13.467923903519361, 16.85165887934126, 16.63899258656436, 12.972722146793767, 17.320155735810637, 18.070287822613665, 15.109542885324633, 18.16606154683669, 12.885289208657191, 11.13163461218338, 41.78054743386778, 42.10345330971206, 13.586918821892276, 43.77606772769217, 13.58186184433969, 13.702268850142822, 12.657811325972569, 11.458523538199719, 13.02098915250071, 12.435295878155866, 13.923786347981943, 13.6727024498131, 12.903791243003434, 13.623967268293915, 14.788189548487493, 59.1246722711855, 9.71610615961249, 8.414716683217693, 9.552957622888014, 9.152227917850068, 10.319807501851557, 9.786448198651858, 4.051286517457496, 9.833034994130951, 10.136637218120455, 10.93992901973671, 4.875710399493734, 4.0215021668912705, 12.173384629433459, 11.892856683244352, 11.817457820432786, 6.184708901394786, 5.472914225311582, 12.190502148508163, 3.630180974522646, 12.216754714726695, 12.441216738956184, 5.70870848960926, 3.7600622585970167, 12.577907700447428, 6.434311050207447, 4.5918796508043656, 4.02389269846357, 12.873555885924903, 15.347723759056866, 8.792894306363863, 13.551933393440429, 14.69032232037196, 13.211699089869635, 13.315081424511817, 11.41082404958283, 13.479847697081142, 14.526078970039507, 10.880253574957369, 14.271935128845966, 14.261849679164916, 15.267011889564476, 14.595635611388094, 14.545132009910738, 14.972714089059817, 20.473245612171873, 18.17610257885451, 27.80585011112188, 60.10933431589495, 57.602517318673755, 57.8724354259111, 56.64117937228667, 56.4015956000812, 55.98225585403207, 58.16697487549408, 57.99295622058302, 73.27992385660374, 20.21040809581551, 17.201205124555496, 19.476179007588986, 15.635921576936651, 37.800586314117126, 37.53956299067072, 15.170691207257667, 36.93074166898098, 5.453516907405897, 5.69836617210038, 5.2373643914624, 5.2439956089277775, 5.957866924290336, 6.564436901847471, 5.990398691078933, 6.800323732904265, 5.302323848136833, 11.458523538199719, 5.894559590983322, 5.365618617267888, 12.903791243003434, 11.13163461218338, 6.3091244546683845, 4.179828539749747, 5.214349932341937, 6.816956622871483, 6.458904332119676, 6.630340361985634, 3.4372924761609007, 5.30884763502101, 5.569269446060982, 4.6449589758137515, 6.589299656527974, 4.386805907692252, 12.726361400917039, 7.364292049462074, 6.724414525089206, 6.619786305025938, 12.972722146793767, 12.51938487234468, 12.922515928581944, 13.623967268293915, 13.467923903519361, 12.435295878155866, 12.885289208657191, 12.657811325972569, 12.326524007195607, 13.6727024498131, 13.586918821892276, 13.58186184433969, 13.02098915250071, 13.702268850142822, 13.164034256721639, 13.923786347981943, 16.231102902995904, 16.49230993564919, 16.504128714611024, 16.83185107955861, 16.16255114439809, 17.320155735810637, 17.069649112457174, 16.63899258656436, 17.12137797599097, 18.16606154683669, 43.77606772769217, 41.78054743386778, 42.10345330971206, 18.070287822613665, 5.911125202002955, 4.886254925618494, 6.329850329195268, 5.015991646335011, 4.905689845119959, 5.0207289790313565, 5.099211151244681, 5.127437016650801, 5.536796782534044, 5.03530659048606, 4.783784585387958, 5.349181600433806, 4.7380550634389875, 5.745998176049855, 4.93832732881288, 5.994212628144312, 4.6215620714968315, 4.883834358776538, 6.048839499634255, 5.824853787526597, 4.613865689922583, 5.700263403452963, 6.116803813637864, 5.118929918755492, 5.647081939491145, 6.126720970493935, 5.442011427306593, 4.96585672637711, 3.9141975694395033, 4.959637765883187, 7.875983502417791, 5.784767546838169, 6.326773204641438, 6.48630067788787, 7.165776018087834, 7.775450845010537, 7.518845916288304, 15.951595738775929, 14.963679984482612, 15.206459099018993, 16.644795725714303, 15.716196091451096, 16.67038067995716, 16.544010132784987, 15.272022974615107, 36.22298967264987, 36.585533988640385, 15.201251708081871, 16.60954737154229, 37.53956299067072, 38.9499179241678, 15.455157302230218, 35.64123412254387, 36.93074166898098, 37.800586314117126, 16.138194143490114, 38.21930770913158, 37.74912973928784, 15.388290526576196, 17.444119050512754, 16.403236671559977, 16.23198047248627, 48.03327960951186, 48.27377610645201, 51.7266556584831, 59.1246722711855, 4.57298870645876, 4.145218481595516, 5.783344457675241, 4.5428394868308395, 4.889707360695347, 5.117849853640363, 5.38688096083525, 2.767866118825654, 5.075799259849763, 6.181925180765697, 4.825020300437395, 4.252666496527786, 5.171962974172446, 5.629636616514738, 5.546137850799818, 4.298020637201927, 5.393913020033436, 3.611189551089197, 5.046136609721227, 5.137062623671308, 5.762979035111784, 4.008121191990399, 5.6869808269925475, 6.42073718571867, 5.958666436466762, 7.770551610069361, 5.551326117103183, 4.894637381800553, 6.322755908228367, 4.2710184834175475, 7.306765382714185, 8.30879053118866, 7.051261020146266, 10.482320191874553, 6.539658271579471, 8.665236385472005, 10.75657653156161, 11.108781252949955, 8.878542736742101, 51.7266556584831, 48.03327960951186, 48.27377610645201, 27.47808959914944, 73.27992385660374, 8.090084797439827, 20.469861506999756, 14.473854160514167, 21.834451587753883, 7.9887481020321, 9.6825671151969, 41.78054743386778, 22.99603647649597, 60.10933431589495, 23.17983035878541, 58.16697487549408, 18.34007442183492, 14.433451158728785, 18.287783649882112, 19.71340479299213, 18.866535681051516, 5.94491748916625, 4.454619032109802, 4.78987476889289, 4.527746650585028, 10.611119811357973, 8.363900425044115, 5.504086399290828, 5.350193968201147, 4.59030736429433, 4.000031733502757, 3.4722729082311656, 4.669355454040049, 7.342887427133394, 5.814249861125813, 3.9155810936976416, 4.22903884590768, 4.99172907549764, 4.695288730778623, 4.324802532629438, 4.2161256407393, 6.111323199166842, 7.94877036898214, 4.30031858114803, 5.9817389051331125, 6.96934543131484, 3.4811548740790266, 3.3722395892166426, 6.8341176790656295, 4.38749623853751, 4.695443739983049, 6.590002809236701, 5.74950182193583, 6.23226303805156, 5.6352470479869154, 11.754772530370447, 5.238911086108501, 5.8954891693927545, 9.271482911906233, 4.974120416884684, 14.963679984482612, 16.67038067995716, 6.095118394360813, 15.206459099018993, 8.851027630779074, 17.444119050512754, 16.60954737154229, 15.716196091451096, 15.272022974615107, 15.951595738775929, 48.03327960951186, 15.388290526576196, 16.403236671559977, 15.201251708081871, 16.23198047248627, 37.800586314117126, 15.455157302230218, 16.138194143490114, 16.644795725714303, 16.544010132784987, 35.64123412254387, 38.21930770913158, 37.74912973928784, 38.9499179241678, 36.585533988640385, 37.53956299067072, 36.22298967264987, 36.93074166898098, 51.7266556584831, 48.27377610645201, 3.836220318559304, 4.7084095743583125, 5.751771754262883, 4.561617807253388, 4.936681391653987, 4.34825811424669, 4.010831769577806, 4.1159592142571535, 5.294249283369074, 4.511404214609829, 5.256189212609558, 4.33100114351176, 5.586666351504886, 5.0640881980144625, 4.282066075086105, 4.175073902257716, 4.145389331000711, 4.7622488790328505, 4.533883207445062, 4.96358061672596, 4.3827333168143205, 5.375090404756607, 4.604982098548156, 5.137194954712195, 4.895561106358161, 4.717306008302915, 4.456909170542744, 5.206170382765422, 4.583910147928142, 4.478469781916926, 5.786290850742381, 9.2415255815036, 5.576442378231522, 5.023306020808083, 6.138333831622429, 5.171521084007912, 6.389832252423744, 5.529851586182094, 5.783133845794665, 6.520048822825397, 6.478208605852163, 5.765143536144793, 7.357224365326076, 6.602811280983953, 5.470098221336374, 11.537137500448633, 9.530239877620788, 48.27377610645201, 51.7266556584831, 48.03327960951186, 9.677511780472871, 7.03546150646026, 8.11548069128236, 7.085206478295129, 7.282028582110741, 7.006510099816464, 21.834451587753883, 56.4015956000812, 8.855247890007908, 22.804628182346434, 20.469861506999756, 10.120567066642272, 4.857741049867478, 4.757047202121133, 5.5217253558470585, 4.633637410007151, 4.617421171465301, 5.060212268708676, 4.9051887014963915, 3.946068915436773, 5.157790904260052, 6.32773608190276, 5.686067146915788, 4.839688836210982, 5.228150036378869, 6.471990699566365, 3.8306231060293907, 4.218704875917144, 5.321914226887908, 4.404220081243626, 4.834866395757076, 6.144065584002327, 4.288241331820134, 5.993536968897294, 3.8889323135248293, 4.026721282525488, 5.51509903286095, 5.008318733078644, 6.77699814744566, 7.265850232195276, 6.698271002677077, 5.546408789376525, 5.811298150900364, 7.081238732713475, 6.193066467876149, 6.288925246199968, 5.7116460596206755, 6.150085725239233, 8.309257477219159, 7.699696728926007, 6.017498949998978, 13.877252483740616, 6.401152210872765, 38.21930770913158, 12.375148513040733, 36.8242177214043, 48.03327960951186, 15.277187726289466, 14.835277410677133, 51.7266556584831, 36.22298967264987, 36.93074166898098, 48.27377610645201, 16.67038067995716, 37.800586314117126, 36.585533988640385, 35.64123412254387, 37.74912973928784, 38.9499179241678, 37.53956299067072, 13.743462250764175, 16.23198047248627, 27.47808959914944, 15.272022974615107, 17.444119050512754, 32.12004236281669, 14.623917964802054, 15.716196091451096, 15.388290526576196, 16.60954737154229, 16.403236671559977, 16.138194143490114, 5.938231934260334, 4.719317186292757, 5.550162941277057, 5.429008815254972, 4.351187013595247, 4.755642402477747, 6.201795399435522, 5.327166262450416, 5.546694471371725, 3.7237728641443995, 5.766089202666043, 6.001390676697803, 5.609690057076131, 4.744696180693643, 4.6431640746022556, 5.69771338317891, 4.297874581179468, 4.768384618390587, 5.414377578709873, 4.6913052726041045, 4.226145088897545, 5.419363432986017, 4.664165888923222, 6.202307427302448, 5.367120216510659, 6.137645114110214, 5.8002869660756025, 5.223506630711021, 4.265306832955961, 5.3906795110357715, 12.743183626320498, 14.5637111161114, 12.375148513040733, 13.743462250764175, 14.623917964802054, 14.05848424737959, 13.388167383956029, 14.38932399142591, 14.473854160514167, 13.622010307351877, 13.877252483740616, 14.083579752441109, 15.277187726289466, 14.419312843442993, 7.384186074842016, 14.835277410677133, 37.74912973928784, 7.024233876981897, 7.256237742913945, 7.779798401252015, 38.9499179241678, 36.22298967264987, 38.21930770913158, 36.585533988640385, 36.93074166898098, 37.800586314117126, 35.64123412254387, 37.53956299067072, 43.77606772769217, 13.360808555744955, 14.597827393414834, 59.1246722711855, 6.4878482606111, 5.143322194584124, 7.5863600193863325, 5.190672626188602, 6.147201657759398, 6.3947072284134485, 5.349876861581141, 6.481976721154106, 5.390296155114501, 4.187508423124906, 5.718844783527491, 4.176934355157261, 4.284514580768967, 3.719362323344777, 4.47440499331762, 7.077344818077454, 6.422836240902498, 3.794769451529303, 6.082096972751562, 5.108550857506678, 5.878320859898318, 5.396396690779058, 5.170247203807948, 5.030013257165779, 3.753382958518331, 5.9380750165470415, 4.1513661227812655, 5.672985775645861, 5.948716541207631, 4.221810071949051, 4.844270423901188, 6.12809082368856, 6.085825515361537, 5.586253105368953, 7.262132792847626, 6.4226990400596415, 10.728794309216317, 15.498379321571035, 15.881712303684, 15.977233669087319, 9.557688397855157, 9.84964334699002, 6.257576818634726, 9.252627902819608, 9.8277939703872, 10.894883546594075, 73.27992385660374, 21.03454875791923, 59.1246722711855, 13.705721076238195, 51.7266556584831, 48.03327960951186, 11.926684606545914, 16.455931910437297, 18.287783649882112, 48.27377610645201, 19.84977422819787, 60.10933431589495, 3.9113544528963544, 4.9470724314011605, 4.298580485167583, 4.547527633420252, 6.414484341097991, 8.855247890007908, 4.797906672173165, 8.838024998788919, 4.655583094872914, 3.1013437273687203, 5.824763223232508, 3.7861163360095698, 3.9882967516938366, 5.039763713103528, 5.157347686849903, 4.776815896692956, 7.099564596940608, 6.737486592501303, 3.668909270980297, 5.540728886469097, 4.26411202903027, 3.9914849458928265, 4.145909521876369, 4.628077471116052, 4.274649049863142, 5.552057857311978, 4.489223782675043, 4.495045571894537, 6.700384676608229, 4.956365417335004, 6.25213863017619, 11.537137500448633, 6.625018137297134, 5.402819437157355, 6.581673226174752, 5.208093121014065, 7.29264443489249, 6.531954308335752, 6.253358691259575, 7.006510099816464, 6.91951859119785, 19.066233291053237, 6.933451767867764, 7.988766862890362, 7.869270359203265, 19.002664784431197, 17.16241217780435, 18.426315743514927, 48.27377610645201, 51.7266556584831, 48.03327960951186, 8.21190235015789, 17.854277828403966, 16.295107310776245, 17.191631697514616, 17.718930182591897, 59.1246722711855, 17.292635282034386, 24.67252486453508, 16.445259862543306, 18.158595450734264, 17.493019916533417, 18.34007442183492, 14.449062876192542, 6.326118212642138, 5.660026462135035, 7.194870394486025, 4.016478013150712, 4.822425225808328, 6.266717966301143, 8.673852313510517, 4.857316519484413, 5.417174657574486, 5.486931402507057, 4.637638713770927, 3.8743763401430233, 5.907323685025572, 8.937958217587063, 4.322783134082429, 4.893654736249253, 4.868866653837287, 7.308256945032524, 6.82594138568499, 4.9263690274787395, 3.2716424593964333, 4.442480343360996, 6.11156647512498, 7.200274568132696, 6.8271757631451875, 9.005950671787192, 5.73074415901225, 6.6406259094719156, 3.835117990853675, 3.8780676504897063, 4.484185897656734, 5.307031211152185, 10.212826678051544, 10.112989797538676, 7.683432830245848, 10.580450161687102, 6.964635642534136, 6.632780818721022, 7.792367505965741, 6.207910097466325, 6.4572706162725755, 6.625602194122394, 6.5842765721465195, 33.797479971240755, 32.12004236281669, 33.667291913459266, 24.877828754303877, 24.67252486453508, 23.606161686764025, 19.478841461815886, 20.781127427570496, 59.1246722711855, 20.206306128739598, 20.39922238150518, 19.7690651892661, 20.53523326920905, 19.94402538087532, 20.228621377987977, 19.895541817183457, 4.395394419551711, 6.210387609504546, 4.099317128571457, 4.9694434387153095, 4.4748715597756075, 4.517004368948721, 7.238851510891232, 4.399902661028083, 4.281808412236726, 4.886332924172488, 4.531957797806484, 4.74883312261269, 4.245628695204632, 7.350550974436338, 4.6103480553216, 4.432605041957951, 4.794720562088749, 5.407777731032781, 4.299575599493927, 5.686216484044185, 5.4043137498298295, 4.694555583432888, 4.361766558003087, 7.120039610280008, 6.63023460752446, 5.0982418473487385, 4.7808241990286025, 4.535311774360137, 5.843952741462491, 3.726701526319279, 5.181167476963111, 7.1679378820876165, 6.726772936287987, 7.820224494257822, 6.595882872175887, 8.151026928439949, 7.917155660986008, 6.82594138568499, 5.754777398652595, 7.642385514192812, 7.52322077882246, 6.6406259094719156, 10.580450161687102, 12.743183626320498, 7.792367505965741, 18.049506101458306, 14.419312843442993, 14.083579752441109, 14.473854160514167, 12.375148513040733, 33.667291913459266, 59.1246722711855, 32.12004236281669, 16.87479255616207, 33.797479971240755, 14.05848424737959, 20.83911587940087, 14.835277410677133, 15.277187726289466, 13.388167383956029, 16.32222657331335, 17.051422430672808, 17.279169265143373, 13.743462250764175, 14.5637111161114, 4.421109437654743, 3.7985448418665104, 4.173885189618496, 4.56666334959778, 3.792768261834227, 4.567839023669818, 8.173410649597518, 8.000198083569071, 7.467089606767043, 4.289882216664263, 9.471172845592823, 4.1321635612971575, 4.647133731864708, 4.143801662412254, 5.1550962477969735, 8.032575833879662, 8.995450337759573, 3.512610058778282, 4.3871980644021535, 4.223420273144989, 5.2246092165884415, 4.198329301094841, 4.872555989880687, 7.1955727764062765, 6.684058763118541, 5.075223385609651, 4.7424690193612875, 6.479659142294827, 3.700307439852743, 8.126583423361994, 9.621949950285668, 6.463815103086373, 7.637764260888842, 6.9886690823373225, 7.472108861237175, 7.541740175226592, 10.196626744375347, 7.420634313964891, 7.699464643264944, 8.320539209837063, 24.63836553576505, 6.247975621243187, 6.892602532232046, 6.656134066093067, 22.14646529612036, 27.80585011112188, 13.911346766814528, 51.7266556584831, 48.27377610645201, 48.03327960951186, 16.575595874333658, 15.168792084538206, 73.27992385660374, 18.6621510604672, 59.1246722711855, 33.667291913459266, 5.10086895104114, 4.090373645897382, 4.076325333916745, 4.085361711818267, 4.96056319896169, 4.126375064777065, 5.982095939069972, 4.318404883024751, 4.663217078746881, 3.5525258167413747, 4.795584766525465, 3.808927851333095, 4.1150770623306885, 5.437675520705649, 5.540466635454729, 4.298976574129388, 3.632808707657485, 5.445999446238472, 4.6499156841794775, 4.235816584215951, 3.81047651176064, 4.143347678959995, 4.293058279604712, 4.064145029540926, 5.1946846467629415, 4.154614759822809, 3.92507858049461, 5.546777665771221, 6.13514517020703, 5.2065623823854486, 6.477881677922621, 6.7486566668721935, 6.090528137945484, 6.115020029289747, 8.129702902247866, 7.927272719786927, 7.943255500870828, 6.874886547999779, 8.538824663906535, 6.833646080879029, 6.472523601683768, 7.582585940144813, 7.543165163820463, 6.761619899969495, 57.99295622058302, 56.64117937228667, 58.16697487549408, 11.57306966787366, 57.8724354259111, 57.602517318673755, 55.98225585403207, 60.10933431589495, 56.4015956000812, 59.1246722711855, 73.27992385660374, 8.711435874021243, 8.286579307547031, 17.662101791903265, 18.018941649325978, 19.33802363841185, 5.391459370919221, 4.2228869435421945, 4.711304816488806, 3.88307655146606, 3.8180077303953386, 4.770619702514609, 4.142414566738431, 4.901491778574684, 5.34037271383127, 5.308381657130279, 4.949790307325676, 4.52499976932754, 5.267884807346751, 3.216577738325098, 6.210016444992382, 5.325425455717835, 4.519524665369961, 4.928148748256243, 5.710774503237548, 4.082944779794921, 4.583421024508324, 4.593936892935459, 7.181325467837324, 4.709603235001882, 3.991874156478602, 4.788539992259321, 4.786072386785453, 3.7352967563151083, 4.963018344299611, 4.038562444796418, 6.208756596154176, 5.741867338050046, 6.0439605625898105, 5.609011030931184, 9.891957444842658, 7.4889814662739855, 11.274722261909936, 6.090129584916113, 5.349468725164048, 5.855368212719657, 10.872465479760814, 13.531137163583788, 13.269229604753225, 7.326471327914535, 6.489093809638935, 13.922780903858722, 15.896388102639646, 16.50800025433915, 14.462017705554958, 14.109971905173127, 14.776836997149914, 14.909963045077776, 13.905503903872559, 14.821141059370282, 14.002897197804442, 14.741570233822461, 13.521785269302503, 13.90892476565513, 13.871397915123696, 59.1246722711855, 15.192124264685427, 14.844384417956158, 14.721211571175974, 15.426984801131125, 14.771617091114154, 14.344390685934032, 15.019610413063557, 14.19475052785122, 14.341538114679855, 15.695460864472906, 51.7266556584831, 4.211993858100796, 4.593114296052133, 3.963696397642969, 4.766466971570651, 3.764372472159492, 4.120156250521873, 5.76369356592207, 5.0709589884940796, 4.51312949139219, 4.520190721830174, 4.989749686440178, 5.483618312453128, 4.5486492616485865, 4.726766276183853, 5.1302967374800605, 4.2053017670801625, 5.737339121391937, 5.092529440860215, 4.347351986806463, 3.252067646808491, 5.581112897106143, 4.679497193565046, 4.7007021736546735, 4.9208731245207975, 4.269225415469625, 4.318208747161361, 5.378112747937096, 4.487532290294253, 6.728016248496804, 6.045577759492471, 6.508449235623575, 5.300515299550168, 13.871397915123696, 8.039823689896751, 14.109971905173127, 15.695460864472906, 13.269229604753225, 14.776836997149914, 13.922780903858722, 13.521785269302503, 15.192124264685427, 13.38087112460513, 14.111361316481053, 13.690170649315437, 13.905503903872559, 16.50800025433915, 13.90892476565513, 14.735670643080075, 15.955599068767134, 14.821141059370282, 15.019610413063557, 13.531137163583788, 13.112322081691508, 13.282681003328442, 14.002897197804442, 14.721211571175974, 15.426984801131125, 14.909963045077776, 13.748604355320738, 14.344390685934032, 14.462017705554958, 14.341538114679855, 14.741570233822461, 16.958340664968528, 43.77606772769217, 16.9541569417356, 14.793475122838716, 41.78054743386778, 42.10345330971206, 15.784759028761895, 5.916069769287616, 6.364916915295564, 6.84579129880476, 4.102840459673502, 4.292453803796335, 4.007896667963752, 7.108896320967657, 4.5275828790496035, 4.1650619200259555, 4.960142830250743, 4.4473204375235085, 6.067863525101446, 4.473183438792709, 5.416951183183267, 4.202726122765513, 4.702883717659164, 4.317851397475103, 4.832939136283319, 4.138021975454775, 4.43561102956041, 4.196804144676002, 4.528084217210396, 4.782229644160656, 5.279206826421541, 5.604476298513691, 5.018495464329881, 6.255014282416333, 4.641814801130981, 5.010407956230477, 4.442438637293175, 5.16113506628453, 5.702648286877532, 6.188063818453707, 7.993509700171334, 9.65886211938453, 6.484800634540459, 7.959112563394323, 7.30601241486594, 7.611037198134679, 6.152366845270705, 51.7266556584831, 48.03327960951186, 48.27377610645201, 41.78054743386778, 18.917580884202568, 43.77606772769217, 42.10345330971206, 59.1246722711855, 7.863448344874082, 18.9840244334519, 8.84216993667003, 73.27992385660374, 21.834451587753883, 17.957052545490154, 13.586918821892276, 3.5009731701967413, 4.2601781041956786, 4.5831762845968855, 4.229629173040958, 5.010517628717378, 3.750469082109602, 6.288925246199968, 4.265582960727729, 4.666529089994415, 5.715252193263829, 5.123328369494799, 6.621343805993919, 4.998957482378743, 4.604168907804135, 3.8915770555445937, 3.892578074875291, 4.702647325257846, 3.8656898618469033, 4.752608209461742, 5.981798770783373, 4.935287415401601, 5.117695584181657, 5.26723310944301, 4.738933051975529, 3.8427778988863097, 4.567574688094449, 4.865565562631335, 4.6209243995180405, 4.255635403964169, 5.0478313847309, 6.32773608190276, 4.874803813273545, 6.0416739083731335, 5.556222837894042, 7.699696728926007, 7.0629734007704785, 4.816345269588035, 6.0983163208401905, 6.617160444486749, 7.202124853953982, 8.309257477219159, 6.347859383906351, 6.868591180978462, 14.735670643080075, 14.909963045077776, 8.182977507287132, 35.64123412254387, 14.776836997149914, 37.74912973928784, 37.800586314117126, 17.151341693311267, 36.585533988640385, 36.93074166898098, 36.22298967264987, 38.21930770913158, 14.771617091114154, 38.9499179241678, 37.53956299067072, 15.695460864472906, 15.206459099018993, 18.9840244334519, 13.282681003328442, 42.10345330971206, 14.341538114679855, 41.78054743386778, 51.7266556584831, 14.979380931435056, 43.77606772769217, 15.192124264685427, 14.821141059370282, 14.111361316481053, 48.27377610645201, 57.99295622058302, 17.444119050512754, 6.1569161165912245, 4.581873350476134, 6.702047474534586, 6.350258985567795, 6.857410837745948, 6.492349385528776, 6.705723411805903, 6.739624516018147, 6.756299161945039, 7.108209961136306, 8.617747606654746, 5.373351777768394, 8.515415212379638, 4.4572340923341995, 7.243024383173888, 6.839242601863362, 6.7131249601771215, 4.429514503008428, 7.709273296404598, 4.906502864875339, 7.269689673703293, 6.879891965962157, 8.734819696631481, 4.265098988670942, 7.415684936280141, 7.385348189894764, 8.428004961856546, 7.678684063226665, 4.571441783768156, 7.083621332481505, 8.098206113615465, 8.178524836703296, 9.427752822686289, 7.384746312917431, 9.005950671787192, 19.7690651892661, 23.606161686764025, 20.39922238150518, 19.94402538087532, 19.478841461815886, 33.667291913459266, 20.206306128739598, 20.781127427570496, 20.228621377987977, 19.895541817183457, 32.12004236281669, 33.797479971240755, 24.877828754303877, 24.67252486453508, 20.53523326920905, 10.580450161687102, 59.1246722711855, 17.784689140712416, 10.212826678051544, 3.846925941957557, 3.329081638640554, 4.231868763149083, 5.057901863451247, 4.8275021499603445, 4.466096991753106, 4.811971310532174, 4.232069658897036, 7.588236444824035, 4.048429992979785, 4.363090009923935, 6.14796848302713, 7.076990299800926, 4.452367430702691, 5.386821517291599, 5.073303993845052, 4.842373890887813, 5.506104223395892, 3.8951200719527845, 4.668651997041193, 4.734551959318536, 4.294251743191726, 3.657840117192885, 4.7935914595286855, 4.2143371573007355, 5.359266708765053, 5.430637153004174, 4.498015066375717, 4.425701776219616, 4.728653869804172, 5.259452656804376, 7.325655627244443, 5.29038687751553, 15.678394558283676, 6.753759627015446, 4.913004504064416, 8.55793731410889, 5.050844602451349, 7.111983260265338, 8.737910091040488, 8.794427697234154, 17.718930182591897, 18.93971077188482, 18.34007442183492, 48.27377610645201, 18.287783649882112, 10.7806031311143, 19.84977422819787, 19.71340479299213, 8.899399117498406, 48.03327960951186, 51.7266556584831, 9.891957444842658, 8.491896352923636, 9.374231687815152, 8.716477530469382, 11.754772530370447, 11.475757353812476, 9.056845738369883, 8.95851156420603, 9.30505304234767, 9.65886211938453, 5.6344870872497035, 5.218770418988794, 3.79701653748814, 4.477799320428084, 6.381713813092171, 3.6429984420007475, 3.512116934904185, 4.63861462133019, 3.655509454719674, 5.609453301459331, 5.8791282643275045, 4.6320311575900055, 4.285098531117473, 3.8221925441586264, 4.599003691874833, 4.293316438635197, 3.7703228481404976, 5.110593068109539, 5.783603925977637, 4.162723460968276, 3.9256186138806126, 5.71560622548461, 4.517906990050787, 3.9660310045293716, 4.474345488872946, 4.551888053126056, 4.7287981332609474, 4.907220995716204, 4.9679694640065195, 4.519756662834521, 4.717247765101343, 21.03454875791923, 5.878122253779674, 17.767317947433614, 8.837606794289044, 5.454552979226933, 6.424716751334588, 16.5332229846898, 15.682292155586676, 16.445259862543306, 16.295107310776245, 15.691762817980281, 7.545303127868062, 5.801132133150037, 6.160796973983266, 10.027499716036653, 6.238920432540869, 8.539066074341445, 18.158595450734264, 6.310196267923872, 8.141752020602786, 9.316569008345924, 42.10345330971206, 41.78054743386778, 43.77606772769217, 36.8242177214043, 33.797479971240755, 16.575595874333658, 24.63836553576505, 3.928638530073983, 3.39661984397122, 3.983656775202692, 4.837643777952664, 3.0956856608642083, 6.332840583586333, 4.394203827007787, 4.770033030543757, 4.641224016203136, 4.732145695253574, 7.250244763968977, 4.2862883421647675, 4.9458304348081965, 4.448187997923698, 3.2919410021473934, 5.95421776887231, 3.80645602098963, 4.0753946367929315, 4.937601990208944, 4.777898071693354, 6.976503153385265, 4.500920756937093, 5.78372613686132, 4.206180458025291, 5.278513342530527, 4.951496703265823, 4.336515012374651, 5.592287253437329, 4.319574401910454, 4.889240733372474, 5.257749344692293, 6.154843600659922, 5.0951283458355, 5.818972653773939, 5.278664923206648, 6.6187677152496045, 6.576168630598507, 6.939115128682775, 8.064780589328974, 6.12974277788706, 7.192013136074403, 5.84208106839192, 13.927094121865357, 10.611119811357973, 9.271482911906233, 10.303888628095322, 6.9374593665319075, 48.27377610645201, 48.03327960951186, 36.8242177214043, 51.7266556584831, 17.493019916533417, 17.191631697514616, 15.618581704955128, 18.158595450734264, 7.615467499181438, 59.1246722711855, 11.754772530370447, 27.47808959914944, 15.498379321571035, 4.578962357446287, 4.694311953529785, 4.781951098465788, 4.849172224584714, 4.7417924198497285, 4.258224670972186, 5.086822986009017, 4.2383388485409, 4.492770208404132, 5.151092087128381, 4.7380005736480175, 4.395993166562187, 5.013178299969045, 5.040458050743069, 5.031001935242279, 4.796872308494141, 4.799304700185006, 4.94266108799624, 4.678016681842242, 5.499273093409488, 5.284210284240683, 4.086957194999325, 5.065705590851459, 5.649607162979792, 5.230468838706884, 4.849156216600756, 4.892296390932733, 5.104909993024084, 6.208551646635678, 6.300299101644537, 5.849056514748587, 17.493019916533417, 6.096060402559074, 17.191631697514616, 18.158595450734264, 8.451466958601845, 8.014491239701785, 6.373137427510491, 6.633474982828554, 6.305033856345436, 10.357903048572023, 6.745876934996942, 6.134578017675912, 9.31722558436931, 15.618581704955128, 10.400445757055731, 9.75258267844602, 14.449062876192542, 10.926544870785802, 3.437234016363765, 3.5128663610435686, 5.332226263465303, 5.022942075552244, 3.7509867111418504, 4.821294507124724, 4.173016244650448, 4.2228564885206445, 4.12188074866147, 7.304064367179276, 3.0296917970343396, 3.575218476427487, 5.712279582740583, 4.293018787005884, 4.536778149477243, 4.311080606356692, 3.6303756722229306, 3.962051860292135, 4.5081329924210305, 4.75832169893961, 4.900915242057239, 3.3598672651281163, 4.341686330369673, 4.8142751314366485, 4.409289917143946, 3.4752822186117327, 5.39615461554431, 4.99871521203955, 4.389413925476935, 5.138719781126047, 5.383308548709793, 4.557656349577845, 5.261308068637355, 6.452180352904239, 5.2566502891942175, 6.723914970577357, 5.013009756670512, 7.6396150829957135, 5.2447614674499015, 7.269617923623467, 7.524130782229031, 6.27344135928817, 7.488216982256859, 6.377324991517915, 10.34045370341419, 9.939506550797834, 41.78054743386778, 5.382100661871729, 42.10345330971206, 43.77606772769217, 6.137645114110214, 14.597827393414834, 51.7266556584831, 36.8242177214043, 48.03327960951186, 17.12137797599097, 48.27377610645201, 8.469149141543681, 20.469861506999756, 33.797479971240755, 5.942426736517972, 4.603230285440244, 4.458390456281406, 4.292186862897851, 4.158060079852354, 3.2473341986424846, 4.019689676957204, 4.93891919000834, 5.093233446817545, 4.060170540868065, 3.3826288433661005, 4.340857391871093, 4.027533260899183, 4.966784269749686, 3.366898670389005, 4.961980472352769, 5.2370430307212565, 4.015859556745598, 3.4910678191450897, 5.065065830540963, 4.795610053572915, 4.073350799038207, 4.030722174444619, 3.967230240924652, 4.609501198528374, 5.740116331826038, 5.631810071281124, 4.460237575967661, 5.116459678252521, 5.584577790596002, 5.366553274284171, 5.923545180586934, 5.377853146761738, 5.661355194654026, 5.168278146754527, 5.402504804154336, 5.676659391396273, 5.356148730836321, 6.5549809224184274, 5.9507844387224536, 6.452179596224696, 6.225521587218999, 5.592669238380279, 41.78054743386778, 43.77606772769217, 15.678394558283676, 42.10345330971206, 36.8242177214043, 7.209413669309666, 6.748251499087323, 19.002664784431197, 18.070287822613665, 11.458523538199719, 17.16241217780435, 8.20492059512266, 12.903791243003434, 5.171054994569363, 4.47752237748625, 4.304685635248144, 6.002523720248925, 5.9252243519915915, 3.9313933527212925, 4.9868427491798535, 4.681405331749874, 5.768582745170966, 4.408201201226096, 5.009920840920959, 4.826623024790139, 5.258612314526053, 4.9350843014753645, 4.993699418249116, 4.9372460452611024, 3.881942475091695, 4.634113345710001, 3.6093782118533557, 4.562675731303426, 4.210282484298231, 3.834760087709907, 4.578439777101881, 4.449409710498259, 4.758211401492931, 4.655806451979084, 6.843877594156747, 3.115491977801448, 5.6994975048103305, 4.3481013786553255, 6.247073756565671, 5.705471146087095, 5.722727590273454, 5.6246283512171455, 6.33036270455094, 6.895186201255763, 6.126278460502867, 5.9037322070791145, 5.581667521116636, 5.823760687034744, 5.963950142691947, 7.800335810849072, 10.14689770727761, 8.176807727875067, 59.1246722711855, 6.818459188220345, 6.918525517677476, 9.855727680488542, 17.493019916533417, 10.338243414663571, 18.473203435782427, 11.308400629559419, 15.847513600334318, 14.472379008962662, 5.5412126070084655, 4.566555769690673, 4.277015027379679, 5.74176634507822, 4.706440067895959, 3.6027596368988686, 5.3504283431722905, 4.87679844112141, 5.242734489213163, 6.429318665078737, 5.815326157304312, 5.69502052156364, 5.061100260635168, 4.293548826379179, 5.6369191975795925, 4.224266172099528, 4.874533649049409, 4.541812248134606, 5.274802057092929, 5.05742144983312, 4.6776820062551145, 3.833964159794305, 5.547278015304689, 6.1620656683515325, 5.240328431885189, 5.0782447031327225, 5.1641758756477, 5.366976594283598, 5.1480482341387015, 5.367125624848393, 5.697083291303073, 7.407165856209973, 6.732812884475656, 6.722623363368227, 5.91135266912508, 6.152606909342504, 7.3217430126786205, 10.434238937879703, 11.078333313608178, 6.681507565989603, 10.589861365547359, 9.959294340935717, 11.030033703995317, 9.828907645334192, 59.1246722711855, 32.12004236281669, 10.62937791420041, 33.667291913459266, 11.907065275679726, 33.797479971240755, 18.049506101458306, 20.39922238150518, 24.877828754303877, 24.67252486453508, 5.577926912724726, 4.885593444574735, 3.932236710832726, 6.105770155504284, 4.982740500204635, 6.073149375562015, 4.876038989386356, 4.547434485959559, 6.363117784699248, 3.8105396871358512, 5.406876278286871, 4.753163841292699, 4.545886594096626, 3.976426214554698, 3.2574939869736514, 3.9024269681372226, 4.808175223628172, 4.520698033810416, 4.467391098564827, 6.561059139169897, 4.552665881826595, 5.225369232739443, 4.767048866530182, 4.9255241475729425, 5.26723310944301, 4.659976300249788, 4.506014503553337, 4.5072050162871555, 4.5831762845968855, 5.158646893104677, 6.9572701729836, 6.071720402283469, 5.136619588357059, 7.289546378335579, 5.61097619109611, 5.510657027455039, 16.23198047248627, 7.596611105907664, 16.403236671559977, 6.028479370847145, 5.708207107781059, 15.206459099018993, 15.272022974615107, 36.93074166898098, 16.67038067995716, 16.138194143490114, 16.544010132784987, 38.9499179241678, 38.21930770913158, 37.74912973928784, 15.455157302230218, 35.64123412254387, 15.201251708081871, 14.963679984482612, 37.53956299067072, 16.60954737154229, 36.585533988640385, 37.800586314117126, 36.22298967264987, 59.1246722711855, 15.388290526576196, 15.951595738775929, 16.644795725714303, 48.03327960951186, 51.7266556584831, 48.27377610645201, 17.444119050512754, 4.221558562204893, 4.305109108253171, 4.42787563455902, 3.550987878167734, 4.240763592470556, 5.499951972705434, 4.7735229153943575, 4.7075424708686056, 3.637306163208987, 4.567713413948864, 4.1818571626053656, 4.550292557168119, 5.507470565276653, 4.8460335199522, 4.477118792216661, 3.919300671352551, 4.1521107702228015, 5.945314572488724, 3.24980695096508, 4.507909426478011, 4.2844131524059375, 3.632099386545033, 5.6737089260217735, 5.169323824885551, 4.548889991704703, 4.635645071416788, 5.328618938614999, 4.086238199350228, 4.3246344903547955, 4.952005541310733, 5.186127337562305, 4.826618523159954, 4.983281769110738, 5.0465657112220565, 5.712604460559675, 17.292635282034386, 7.037219020970459, 5.233195911927044, 6.3329097919390325, 12.05901329938653, 5.872655698299688, 5.556737284478395, 7.159308564316111, 38.9499179241678, 7.375969425881362, 6.6034939241401105, 18.6621510604672, 4.515149700459887, 4.608721030682242, 3.754515946903476, 4.014980957424312, 5.0650344978328325, 5.1035974685769565, 4.648716556608844, 4.159038276416978, 3.483045003592846, 5.099099105935777, 5.340206758112886, 4.04194695337716, 4.390093700676508, 5.221986763128426, 5.1818655433833545, 4.753193138607091, 4.8262877672116415, 4.269310047556916, 5.321614103770519, 3.6433779166922453, 4.913083329932256, 4.6179565624786605, 4.865608280809567, 4.128129490025501, 3.629481216405229, 6.345920935857249, 3.4412378739243294, 4.028810290091033, 6.254627998193388, 3.8051087783118813, 6.570918860971034, 4.58767646804706, 4.805465497379419, 6.8239025611792306, 5.925413273459486, 9.341747696015204, 6.722736921516329, 7.87249555562581, 6.568169201460416, 7.820738712728665, 6.734113613034278, 6.420362309023236, 7.093664228444593, 8.110620718544347, 18.473203435782427, 6.774787278247934, 7.360114749331842, 6.487257449175299, 3.517122532317486, 3.829418515171948, 4.0496865599075065, 4.7251904597201735, 3.7771110469102087, 3.1016403604201597, 4.9020278636029735, 3.978130088784136, 4.617575013976598, 3.7483850004631187, 5.015766287743121, 3.5827296262217665, 3.746454011354948, 5.547344990873034, 4.292674318032743, 3.6596936486301357, 3.1076004816088814, 3.648697157784177, 5.481683696902011, 3.8559096322309987, 4.0796265140473, 3.7104592773130523, 5.105666016339607, 4.683141412693603, 3.5004755925711173, 4.11262565462597, 5.294398009979195, 4.789922526200878, 3.960543378776206, 4.042650643372394, 4.461093540180514, 5.125020433091018, 6.792166107129937, 4.99798050674076, 5.1376206501209305, 6.498020737218402, 5.578328301309413, 5.482642317021932, 4.735837960627133, 4.5723507801397, 4.6762611857336305, 6.932617157915377, 6.246862717498472, 4.9774641461245, 18.866535681051516, 5.0982249566651285, 5.894213029238607, 8.469767238003694, 6.955962531285614, 20.83911587940087, 16.87479255616207, 32.12004236281669, 8.179052412167465, 33.667291913459266, 16.32222657331335, 17.051422430672808, 17.279169265143373, 3.5146455471981506, 4.273175778294313, 4.1987401353786264, 4.038406663196685, 4.428861640627515, 3.6945992464635813, 5.26573974891727, 5.187715233319069, 3.098489887052536, 4.094095342961278, 5.167521787052032, 4.903734421935601, 3.2875058863481668, 5.600337456719062, 4.090400697518982, 5.217770085033838, 4.8752869385957105, 3.704972149450478, 6.119838263528856, 5.767151689339577, 5.208885442878085, 4.8961974099654615, 4.592321220967437, 3.6531904623563607, 4.010810493559328, 3.919355307471917, 4.042471566941242, 5.5811785717688025, 3.713591505628762, 3.7545570093458385, 6.008084416252202, 5.303728300736142, 5.882808588361969, 5.76834394925791, 5.913966368725457, 6.429481508524542, 8.141752020602786, 6.102481105284776, 6.5873237767734105, 6.636379541999987, 8.85946211454541, 6.28351306702527, 5.965754626024496, 3.16695861327583, 4.926689953160642, 3.980228300673669, 4.408201201226096, 4.119195620630318, 4.987167964802661, 4.319571507287884, 4.757393195850942, 3.7267144810405073, 5.104353596010817, 5.111943288898738, 3.6450801814546523, 4.840816554508798, 4.995368544422277, 3.6357928771718977, 3.8977096036927916, 4.550925940755931, 4.568276510442643, 3.5964217287435423, 4.737611413168412, 4.87521300435191, 3.901056657633522, 4.166863749123291, 5.800366348695914, 4.381761057061144, 4.240753345782139, 3.287640524050619, 4.913647297589184, 3.8990237168493995, 4.298983777585233, 5.40225887898252, 5.04223546534399, 7.497662731014959, 6.157132144797731, 5.679857645208382, 4.880886182474303, 5.810548800411139, 5.063829769762052, 5.201887450849439, 6.932321496277233, 5.958190065728782, 8.033079734409132, 6.534062641851351, 9.677511780472871, 6.8231041327576385, 12.045106335613275, 7.873964801304389, 36.8242177214043, 7.178834067001876, 6.439261087482826, 14.473854160514167, 4.26955799410242, 4.703505578814798, 4.296044340590096, 4.211988084316531, 6.541290541668739, 3.5490207262701934, 4.104852861257794, 4.575374731269023, 4.409614744960339, 4.386081097554483, 4.209692200600611, 3.8284029273234315, 4.355132559997076, 4.444119338775043, 4.492581978821168, 3.876220394016565, 4.292669597031895, 4.332284444824642, 5.091627926705972, 5.292244988620303, 4.079295471784001, 5.211621261734302, 4.675611461543211, 5.312785645758658, 4.4350721992469815, 3.9955803577137745, 4.390085642115525, 4.120752777542425, 3.8791666517101846, 5.558468729216899, 4.3182615461650355, 6.722736921516329, 5.670294566695376, 4.782544328287038, 5.530554071852478, 5.677635946217022, 4.877561406806162, 5.321932380512888, 9.296425550403855, 5.312180208228888, 7.093664228444593, 7.87249555562581, 10.167705297036052, 6.750848867117312, 6.90113449517234, 7.344108302186513, 7.4577120472843985, 9.52908697744274, 6.760971788139273, 5.977695348052011, 10.560602174987478, 10.293154328029415, 4.481026134827907, 3.9202775899936455, 5.644544488231854, 3.4777399457997564, 4.322105013391585, 5.306282134763877, 4.103441744630628, 3.8427365244501366, 5.976205947560625, 3.842149714977183, 4.31383922258464, 4.693858220645708, 4.118445244361231, 4.138856456248259, 4.110878497211348, 4.961955676916319, 4.891664704796809, 4.490102874639678, 4.228175821731981, 4.3786433378424965, 5.3823178371989515, 5.285675114948094, 5.2378135183746, 4.515793655861473, 4.1606487633486, 4.848097100430483, 3.7574584118091137, 4.245053433955371, 4.437781043986184, 5.178629444248302, 5.513609274382455, 4.950985501751124, 4.869535128548587, 6.3872118354217555, 7.214934337764481, 7.320029571839756, 5.593680988861792, 8.261645877193411, 6.4174028294150745, 6.111345510124311, 6.013623435158319, 7.021506795687798, 5.972105816886057, 5.955801891709205, 7.234296481403997, 11.066864387649254, 36.8242177214043, 73.27992385660374, 22.83222583577083, 4.799860289642024, 4.709969677044222, 3.9581893836033326, 4.255542375254393, 5.2686038012820156, 4.683344528809919, 6.818877341555717, 5.336058249306882, 3.842875955030583, 5.2402196381712844, 3.4838366889247414, 4.268085104712707, 4.2641360620671165, 5.289067537348269, 5.448796063352092, 3.513587544715921, 5.023136872212444, 5.192273606833229, 4.318449599000886, 4.4357452388325145, 4.76142320488631, 3.789235259769782, 4.810298426311835, 4.394133663376164, 4.235629723908262, 5.692148146098196, 4.195293315340454, 4.475181871866787, 4.173512935362748, 4.68772342054071, 5.169683212959809, 5.6308177807999895, 6.344403070391455, 5.604756268450708, 6.0688691010681755, 6.036448172310884, 5.7242407459670765, 6.165180574684596, 5.952516687193919, 5.321600923878209, 6.072036695151247, 6.189581132941901, 5.844753185221156, 16.295107310776245, 15.691762817980281, 9.677511780472871, 20.18170156874231, 7.237357154539946, 11.57306966787366, 8.132385095525851, 21.03454875791923], \"Category\": [\"Default\", \"Default\", \"Default\", \"Default\", \"Default\", \"Default\", \"Default\", \"Default\", \"Default\", \"Default\", \"Default\", \"Default\", \"Default\", \"Default\", \"Default\", \"Default\", \"Default\", \"Default\", \"Default\", \"Default\", \"Default\", \"Default\", \"Default\", \"Default\", \"Default\", \"Default\", \"Default\", \"Default\", \"Default\", \"Default\", \"Topic1\", \"Topic1\", \"Topic1\", \"Topic1\", \"Topic1\", \"Topic1\", \"Topic1\", \"Topic1\", \"Topic1\", \"Topic1\", \"Topic1\", \"Topic1\", \"Topic1\", \"Topic1\", \"Topic1\", \"Topic1\", \"Topic1\", \"Topic1\", \"Topic1\", \"Topic1\", \"Topic1\", \"Topic1\", \"Topic1\", \"Topic1\", \"Topic1\", \"Topic1\", \"Topic1\", \"Topic1\", \"Topic1\", \"Topic1\", \"Topic1\", \"Topic1\", \"Topic1\", \"Topic1\", \"Topic1\", \"Topic1\", \"Topic1\", \"Topic1\", \"Topic1\", \"Topic1\", \"Topic1\", \"Topic1\", \"Topic1\", \"Topic1\", \"Topic1\", \"Topic1\", \"Topic1\", \"Topic1\", \"Topic1\", \"Topic1\", \"Topic1\", \"Topic1\", \"Topic1\", \"Topic1\", \"Topic1\", \"Topic1\", \"Topic1\", \"Topic1\", \"Topic2\", \"Topic2\", \"Topic2\", \"Topic2\", \"Topic2\", \"Topic2\", \"Topic2\", \"Topic2\", \"Topic2\", \"Topic2\", \"Topic2\", \"Topic2\", \"Topic2\", \"Topic2\", \"Topic2\", \"Topic2\", \"Topic2\", \"Topic2\", \"Topic2\", \"Topic2\", \"Topic2\", \"Topic2\", \"Topic2\", \"Topic2\", \"Topic2\", \"Topic2\", \"Topic2\", \"Topic2\", \"Topic2\", \"Topic2\", \"Topic2\", \"Topic2\", \"Topic2\", \"Topic2\", \"Topic2\", \"Topic2\", \"Topic2\", \"Topic2\", \"Topic2\", \"Topic2\", \"Topic2\", \"Topic2\", \"Topic2\", \"Topic2\", \"Topic2\", \"Topic2\", \"Topic2\", \"Topic2\", \"Topic2\", \"Topic2\", \"Topic2\", \"Topic2\", \"Topic2\", \"Topic2\", \"Topic2\", \"Topic2\", \"Topic3\", \"Topic3\", \"Topic3\", \"Topic3\", \"Topic3\", \"Topic3\", \"Topic3\", \"Topic3\", \"Topic3\", \"Topic3\", \"Topic3\", \"Topic3\", \"Topic3\", \"Topic3\", \"Topic3\", \"Topic3\", \"Topic3\", \"Topic3\", \"Topic3\", \"Topic3\", \"Topic3\", \"Topic3\", \"Topic3\", \"Topic3\", \"Topic3\", \"Topic3\", \"Topic3\", \"Topic3\", \"Topic3\", \"Topic3\", \"Topic3\", \"Topic3\", \"Topic3\", \"Topic3\", \"Topic3\", \"Topic3\", \"Topic3\", \"Topic3\", \"Topic3\", \"Topic3\", \"Topic3\", \"Topic3\", \"Topic3\", \"Topic3\", \"Topic3\", \"Topic3\", \"Topic3\", \"Topic3\", \"Topic3\", \"Topic3\", \"Topic3\", \"Topic3\", \"Topic3\", \"Topic3\", \"Topic3\", \"Topic3\", \"Topic3\", \"Topic3\", \"Topic3\", \"Topic3\", \"Topic3\", \"Topic3\", \"Topic3\", \"Topic3\", \"Topic3\", \"Topic3\", \"Topic3\", \"Topic3\", \"Topic4\", \"Topic4\", \"Topic4\", \"Topic4\", \"Topic4\", \"Topic4\", \"Topic4\", \"Topic4\", \"Topic4\", \"Topic4\", \"Topic4\", \"Topic4\", \"Topic4\", \"Topic4\", \"Topic4\", \"Topic4\", \"Topic4\", \"Topic4\", \"Topic4\", \"Topic4\", \"Topic4\", \"Topic4\", \"Topic4\", \"Topic4\", \"Topic4\", \"Topic4\", \"Topic4\", \"Topic4\", \"Topic4\", \"Topic4\", \"Topic4\", \"Topic4\", \"Topic4\", \"Topic4\", \"Topic4\", \"Topic4\", \"Topic4\", \"Topic4\", \"Topic4\", \"Topic4\", \"Topic4\", \"Topic4\", \"Topic4\", \"Topic4\", \"Topic4\", \"Topic4\", \"Topic4\", \"Topic4\", \"Topic5\", \"Topic5\", \"Topic5\", \"Topic5\", \"Topic5\", \"Topic5\", \"Topic5\", \"Topic5\", \"Topic5\", \"Topic5\", \"Topic5\", \"Topic5\", \"Topic5\", \"Topic5\", \"Topic5\", \"Topic5\", \"Topic5\", \"Topic5\", \"Topic5\", \"Topic5\", \"Topic5\", \"Topic5\", \"Topic5\", \"Topic5\", \"Topic5\", \"Topic5\", \"Topic5\", \"Topic5\", \"Topic5\", \"Topic5\", \"Topic5\", \"Topic5\", \"Topic5\", \"Topic5\", \"Topic5\", \"Topic5\", \"Topic5\", \"Topic5\", \"Topic5\", \"Topic5\", \"Topic5\", \"Topic5\", \"Topic5\", \"Topic5\", \"Topic5\", \"Topic5\", \"Topic5\", \"Topic5\", \"Topic5\", \"Topic5\", \"Topic5\", \"Topic5\", \"Topic5\", \"Topic5\", \"Topic5\", \"Topic5\", \"Topic5\", \"Topic5\", \"Topic5\", \"Topic5\", \"Topic5\", \"Topic5\", \"Topic5\", \"Topic5\", \"Topic5\", \"Topic5\", \"Topic5\", \"Topic5\", \"Topic6\", \"Topic6\", \"Topic6\", \"Topic6\", \"Topic6\", \"Topic6\", \"Topic6\", \"Topic6\", \"Topic6\", \"Topic6\", \"Topic6\", \"Topic6\", \"Topic6\", \"Topic6\", \"Topic6\", \"Topic6\", \"Topic6\", \"Topic6\", \"Topic6\", \"Topic6\", \"Topic6\", \"Topic6\", \"Topic6\", \"Topic6\", \"Topic6\", \"Topic6\", \"Topic6\", \"Topic6\", \"Topic6\", \"Topic6\", \"Topic6\", \"Topic6\", \"Topic6\", \"Topic6\", \"Topic6\", \"Topic6\", \"Topic6\", \"Topic6\", \"Topic6\", \"Topic6\", \"Topic6\", \"Topic6\", \"Topic6\", \"Topic6\", \"Topic6\", \"Topic6\", \"Topic6\", \"Topic6\", \"Topic6\", \"Topic6\", \"Topic6\", \"Topic6\", \"Topic6\", \"Topic6\", \"Topic6\", \"Topic6\", \"Topic6\", \"Topic6\", \"Topic6\", \"Topic6\", \"Topic6\", \"Topic6\", \"Topic6\", \"Topic6\", \"Topic6\", \"Topic6\", \"Topic6\", \"Topic7\", \"Topic7\", \"Topic7\", \"Topic7\", \"Topic7\", \"Topic7\", \"Topic7\", \"Topic7\", \"Topic7\", \"Topic7\", \"Topic7\", \"Topic7\", \"Topic7\", \"Topic7\", \"Topic7\", \"Topic7\", \"Topic7\", \"Topic7\", \"Topic7\", \"Topic7\", \"Topic7\", \"Topic7\", \"Topic7\", \"Topic7\", \"Topic7\", \"Topic7\", \"Topic7\", \"Topic7\", \"Topic7\", \"Topic7\", \"Topic7\", \"Topic7\", \"Topic7\", \"Topic7\", \"Topic7\", \"Topic7\", \"Topic7\", \"Topic7\", \"Topic7\", \"Topic7\", \"Topic7\", \"Topic7\", \"Topic7\", \"Topic7\", \"Topic7\", \"Topic7\", \"Topic7\", \"Topic7\", \"Topic7\", \"Topic7\", \"Topic7\", \"Topic7\", \"Topic7\", \"Topic7\", \"Topic7\", \"Topic7\", \"Topic7\", \"Topic7\", \"Topic7\", \"Topic7\", \"Topic7\", \"Topic7\", \"Topic7\", \"Topic7\", \"Topic7\", \"Topic7\", \"Topic7\", \"Topic8\", \"Topic8\", \"Topic8\", \"Topic8\", \"Topic8\", \"Topic8\", \"Topic8\", \"Topic8\", \"Topic8\", \"Topic8\", \"Topic8\", \"Topic8\", \"Topic8\", \"Topic8\", \"Topic8\", \"Topic8\", \"Topic8\", \"Topic8\", \"Topic8\", \"Topic8\", \"Topic8\", \"Topic8\", \"Topic8\", \"Topic8\", \"Topic8\", \"Topic8\", \"Topic8\", \"Topic8\", \"Topic8\", \"Topic8\", \"Topic8\", \"Topic8\", \"Topic8\", \"Topic8\", \"Topic8\", \"Topic8\", \"Topic8\", \"Topic8\", \"Topic8\", \"Topic8\", \"Topic8\", \"Topic8\", \"Topic8\", \"Topic8\", \"Topic8\", \"Topic8\", \"Topic8\", \"Topic8\", \"Topic8\", \"Topic8\", \"Topic8\", \"Topic8\", \"Topic8\", \"Topic8\", \"Topic8\", \"Topic8\", \"Topic8\", \"Topic8\", \"Topic8\", \"Topic8\", \"Topic8\", \"Topic8\", \"Topic8\", \"Topic8\", \"Topic8\", \"Topic8\", \"Topic8\", \"Topic9\", \"Topic9\", \"Topic9\", \"Topic9\", \"Topic9\", \"Topic9\", \"Topic9\", \"Topic9\", \"Topic9\", \"Topic9\", \"Topic9\", \"Topic9\", \"Topic9\", \"Topic9\", \"Topic9\", \"Topic9\", \"Topic9\", \"Topic9\", \"Topic9\", \"Topic9\", \"Topic9\", \"Topic9\", \"Topic9\", \"Topic9\", \"Topic9\", \"Topic9\", \"Topic9\", \"Topic9\", \"Topic9\", \"Topic9\", \"Topic9\", \"Topic9\", \"Topic9\", \"Topic9\", \"Topic9\", \"Topic9\", \"Topic9\", \"Topic9\", \"Topic9\", \"Topic9\", \"Topic9\", \"Topic9\", \"Topic9\", \"Topic9\", \"Topic9\", \"Topic9\", \"Topic9\", \"Topic9\", \"Topic9\", \"Topic9\", \"Topic9\", \"Topic9\", \"Topic9\", \"Topic9\", \"Topic9\", \"Topic9\", \"Topic9\", \"Topic9\", \"Topic9\", \"Topic9\", \"Topic9\", \"Topic9\", \"Topic9\", \"Topic9\", \"Topic10\", \"Topic10\", \"Topic10\", \"Topic10\", \"Topic10\", \"Topic10\", \"Topic10\", \"Topic10\", \"Topic10\", \"Topic10\", \"Topic10\", \"Topic10\", \"Topic10\", \"Topic10\", \"Topic10\", \"Topic10\", \"Topic10\", \"Topic10\", \"Topic10\", \"Topic10\", \"Topic10\", \"Topic10\", \"Topic10\", \"Topic10\", \"Topic10\", \"Topic10\", \"Topic10\", \"Topic10\", \"Topic10\", \"Topic10\", \"Topic10\", \"Topic10\", \"Topic10\", \"Topic10\", \"Topic10\", \"Topic10\", \"Topic10\", \"Topic10\", \"Topic10\", \"Topic10\", \"Topic10\", \"Topic10\", \"Topic10\", \"Topic10\", \"Topic10\", \"Topic10\", \"Topic10\", \"Topic10\", \"Topic10\", \"Topic10\", \"Topic10\", \"Topic10\", \"Topic10\", \"Topic10\", \"Topic10\", \"Topic10\", \"Topic10\", \"Topic10\", \"Topic10\", \"Topic10\", \"Topic10\", \"Topic10\", \"Topic10\", \"Topic10\", \"Topic11\", \"Topic11\", \"Topic11\", \"Topic11\", \"Topic11\", \"Topic11\", \"Topic11\", \"Topic11\", \"Topic11\", \"Topic11\", \"Topic11\", \"Topic11\", \"Topic11\", \"Topic11\", \"Topic11\", \"Topic11\", \"Topic11\", \"Topic11\", \"Topic11\", \"Topic11\", \"Topic11\", \"Topic11\", \"Topic11\", \"Topic11\", \"Topic11\", \"Topic11\", \"Topic11\", \"Topic11\", \"Topic11\", \"Topic11\", \"Topic11\", \"Topic11\", \"Topic11\", \"Topic11\", \"Topic11\", \"Topic11\", \"Topic11\", \"Topic11\", \"Topic11\", \"Topic11\", \"Topic11\", \"Topic11\", \"Topic11\", \"Topic11\", \"Topic11\", \"Topic11\", \"Topic11\", \"Topic11\", \"Topic11\", \"Topic11\", \"Topic11\", \"Topic11\", \"Topic11\", \"Topic11\", \"Topic11\", \"Topic11\", \"Topic11\", \"Topic11\", \"Topic11\", \"Topic11\", \"Topic12\", \"Topic12\", \"Topic12\", \"Topic12\", \"Topic12\", \"Topic12\", \"Topic12\", \"Topic12\", \"Topic12\", \"Topic12\", \"Topic12\", \"Topic12\", \"Topic12\", \"Topic12\", \"Topic12\", \"Topic12\", \"Topic12\", \"Topic12\", \"Topic12\", \"Topic12\", \"Topic12\", \"Topic12\", \"Topic12\", \"Topic12\", \"Topic12\", \"Topic12\", \"Topic12\", \"Topic12\", \"Topic12\", \"Topic12\", \"Topic12\", \"Topic12\", \"Topic12\", \"Topic12\", \"Topic12\", \"Topic12\", \"Topic12\", \"Topic12\", \"Topic12\", \"Topic12\", \"Topic12\", \"Topic12\", \"Topic12\", \"Topic12\", \"Topic12\", \"Topic12\", \"Topic12\", \"Topic12\", \"Topic12\", \"Topic12\", \"Topic12\", \"Topic12\", \"Topic12\", \"Topic12\", \"Topic12\", \"Topic12\", \"Topic12\", \"Topic12\", \"Topic12\", \"Topic12\", \"Topic12\", \"Topic12\", \"Topic12\", \"Topic12\", \"Topic12\", \"Topic12\", \"Topic13\", \"Topic13\", \"Topic13\", \"Topic13\", \"Topic13\", \"Topic13\", \"Topic13\", \"Topic13\", \"Topic13\", \"Topic13\", \"Topic13\", \"Topic13\", \"Topic13\", \"Topic13\", \"Topic13\", \"Topic13\", \"Topic13\", \"Topic13\", \"Topic13\", \"Topic13\", \"Topic13\", \"Topic13\", \"Topic13\", \"Topic13\", \"Topic13\", \"Topic13\", \"Topic13\", \"Topic13\", \"Topic13\", \"Topic13\", \"Topic13\", \"Topic13\", \"Topic13\", \"Topic13\", \"Topic13\", \"Topic13\", \"Topic13\", \"Topic13\", \"Topic13\", \"Topic13\", \"Topic13\", \"Topic13\", \"Topic13\", \"Topic13\", \"Topic13\", \"Topic13\", \"Topic13\", \"Topic13\", \"Topic13\", \"Topic13\", \"Topic13\", \"Topic13\", \"Topic13\", \"Topic13\", \"Topic13\", \"Topic13\", \"Topic13\", \"Topic13\", \"Topic13\", \"Topic13\", \"Topic14\", \"Topic14\", \"Topic14\", \"Topic14\", \"Topic14\", \"Topic14\", \"Topic14\", \"Topic14\", \"Topic14\", \"Topic14\", \"Topic14\", \"Topic14\", \"Topic14\", \"Topic14\", \"Topic14\", \"Topic14\", \"Topic14\", \"Topic14\", \"Topic14\", \"Topic14\", \"Topic14\", \"Topic14\", \"Topic14\", \"Topic14\", \"Topic14\", \"Topic14\", \"Topic14\", \"Topic14\", \"Topic14\", \"Topic14\", \"Topic14\", \"Topic14\", \"Topic14\", \"Topic14\", \"Topic14\", \"Topic14\", \"Topic14\", \"Topic14\", \"Topic14\", \"Topic14\", \"Topic14\", \"Topic14\", \"Topic14\", \"Topic14\", \"Topic14\", \"Topic14\", \"Topic14\", \"Topic14\", \"Topic14\", \"Topic14\", \"Topic14\", \"Topic14\", \"Topic14\", \"Topic14\", \"Topic14\", \"Topic14\", \"Topic14\", \"Topic14\", \"Topic14\", \"Topic14\", \"Topic14\", \"Topic14\", \"Topic14\", \"Topic14\", \"Topic14\", \"Topic14\", \"Topic14\", \"Topic14\", \"Topic14\", \"Topic15\", \"Topic15\", \"Topic15\", \"Topic15\", \"Topic15\", \"Topic15\", \"Topic15\", \"Topic15\", \"Topic15\", \"Topic15\", \"Topic15\", \"Topic15\", \"Topic15\", \"Topic15\", \"Topic15\", \"Topic15\", \"Topic15\", \"Topic15\", \"Topic15\", \"Topic15\", \"Topic15\", \"Topic15\", \"Topic15\", \"Topic15\", \"Topic15\", \"Topic15\", \"Topic15\", \"Topic15\", \"Topic15\", \"Topic15\", \"Topic15\", \"Topic15\", \"Topic15\", \"Topic15\", \"Topic15\", \"Topic15\", \"Topic15\", \"Topic15\", \"Topic15\", \"Topic15\", \"Topic15\", \"Topic15\", \"Topic15\", \"Topic15\", \"Topic15\", \"Topic15\", \"Topic15\", \"Topic15\", \"Topic15\", \"Topic15\", \"Topic15\", \"Topic15\", \"Topic15\", \"Topic15\", \"Topic15\", \"Topic15\", \"Topic15\", \"Topic15\", \"Topic15\", \"Topic15\", \"Topic15\", \"Topic15\", \"Topic16\", \"Topic16\", \"Topic16\", \"Topic16\", \"Topic16\", \"Topic16\", \"Topic16\", \"Topic16\", \"Topic16\", \"Topic16\", \"Topic16\", \"Topic16\", \"Topic16\", \"Topic16\", \"Topic16\", \"Topic16\", \"Topic16\", \"Topic16\", \"Topic16\", \"Topic16\", \"Topic16\", \"Topic16\", \"Topic16\", \"Topic16\", \"Topic16\", \"Topic16\", \"Topic16\", \"Topic16\", \"Topic16\", \"Topic16\", \"Topic16\", \"Topic16\", \"Topic16\", \"Topic16\", \"Topic16\", \"Topic16\", \"Topic16\", \"Topic16\", \"Topic16\", \"Topic16\", \"Topic16\", \"Topic16\", \"Topic16\", \"Topic16\", \"Topic16\", \"Topic16\", \"Topic16\", \"Topic16\", \"Topic16\", \"Topic16\", \"Topic16\", \"Topic16\", \"Topic16\", \"Topic16\", \"Topic16\", \"Topic16\", \"Topic16\", \"Topic16\", \"Topic16\", \"Topic16\", \"Topic16\", \"Topic16\", \"Topic16\", \"Topic16\", \"Topic16\", \"Topic16\", \"Topic16\", \"Topic16\", \"Topic16\", \"Topic16\", \"Topic17\", \"Topic17\", \"Topic17\", \"Topic17\", \"Topic17\", \"Topic17\", \"Topic17\", \"Topic17\", \"Topic17\", \"Topic17\", \"Topic17\", \"Topic17\", \"Topic17\", \"Topic17\", \"Topic17\", \"Topic17\", \"Topic17\", \"Topic17\", \"Topic17\", \"Topic17\", \"Topic17\", \"Topic17\", \"Topic17\", \"Topic17\", \"Topic17\", \"Topic17\", \"Topic17\", \"Topic17\", \"Topic17\", \"Topic17\", \"Topic17\", \"Topic17\", \"Topic17\", \"Topic17\", \"Topic17\", \"Topic17\", \"Topic17\", \"Topic17\", \"Topic17\", \"Topic17\", \"Topic17\", \"Topic17\", \"Topic17\", \"Topic17\", \"Topic17\", \"Topic17\", \"Topic17\", \"Topic17\", \"Topic17\", \"Topic17\", \"Topic17\", \"Topic17\", \"Topic17\", \"Topic17\", \"Topic17\", \"Topic17\", \"Topic17\", \"Topic17\", \"Topic17\", \"Topic17\", \"Topic17\", \"Topic17\", \"Topic18\", \"Topic18\", \"Topic18\", \"Topic18\", \"Topic18\", \"Topic18\", \"Topic18\", \"Topic18\", \"Topic18\", \"Topic18\", \"Topic18\", \"Topic18\", \"Topic18\", \"Topic18\", \"Topic18\", \"Topic18\", \"Topic18\", \"Topic18\", \"Topic18\", \"Topic18\", \"Topic18\", \"Topic18\", \"Topic18\", \"Topic18\", \"Topic18\", \"Topic18\", \"Topic18\", \"Topic18\", \"Topic18\", \"Topic18\", \"Topic18\", \"Topic18\", \"Topic18\", \"Topic18\", \"Topic18\", \"Topic18\", \"Topic18\", \"Topic18\", \"Topic18\", \"Topic18\", \"Topic18\", \"Topic18\", \"Topic18\", \"Topic18\", \"Topic18\", \"Topic18\", \"Topic18\", \"Topic18\", \"Topic18\", \"Topic18\", \"Topic18\", \"Topic18\", \"Topic18\", \"Topic18\", \"Topic18\", \"Topic18\", \"Topic18\", \"Topic18\", \"Topic19\", \"Topic19\", \"Topic19\", \"Topic19\", \"Topic19\", \"Topic19\", \"Topic19\", \"Topic19\", \"Topic19\", \"Topic19\", \"Topic19\", \"Topic19\", \"Topic19\", \"Topic19\", \"Topic19\", \"Topic19\", \"Topic19\", \"Topic19\", \"Topic19\", \"Topic19\", \"Topic19\", \"Topic19\", \"Topic19\", \"Topic19\", \"Topic19\", \"Topic19\", \"Topic19\", \"Topic19\", \"Topic19\", \"Topic19\", \"Topic19\", \"Topic19\", \"Topic19\", \"Topic19\", \"Topic19\", \"Topic19\", \"Topic19\", \"Topic19\", \"Topic19\", \"Topic19\", \"Topic19\", \"Topic19\", \"Topic19\", \"Topic19\", \"Topic19\", \"Topic19\", \"Topic19\", \"Topic19\", \"Topic19\", \"Topic19\", \"Topic19\", \"Topic19\", \"Topic19\", \"Topic19\", \"Topic19\", \"Topic19\", \"Topic19\", \"Topic19\", \"Topic19\", \"Topic19\", \"Topic19\", \"Topic19\", \"Topic19\", \"Topic19\", \"Topic20\", \"Topic20\", \"Topic20\", \"Topic20\", \"Topic20\", \"Topic20\", \"Topic20\", \"Topic20\", \"Topic20\", \"Topic20\", \"Topic20\", \"Topic20\", \"Topic20\", \"Topic20\", \"Topic20\", \"Topic20\", \"Topic20\", \"Topic20\", \"Topic20\", \"Topic20\", \"Topic20\", \"Topic20\", \"Topic20\", \"Topic20\", \"Topic20\", \"Topic20\", \"Topic20\", \"Topic20\", \"Topic20\", \"Topic20\", \"Topic20\", \"Topic20\", \"Topic20\", \"Topic20\", \"Topic20\", \"Topic20\", \"Topic20\", \"Topic20\", \"Topic20\", \"Topic20\", \"Topic20\", \"Topic20\", \"Topic20\", \"Topic20\", \"Topic20\", \"Topic20\", \"Topic20\", \"Topic20\", \"Topic20\", \"Topic20\", \"Topic20\", \"Topic20\", \"Topic20\", \"Topic20\", \"Topic20\", \"Topic20\", \"Topic20\", \"Topic20\", \"Topic20\", \"Topic21\", \"Topic21\", \"Topic21\", \"Topic21\", \"Topic21\", \"Topic21\", \"Topic21\", \"Topic21\", \"Topic21\", \"Topic21\", \"Topic21\", \"Topic21\", \"Topic21\", \"Topic21\", \"Topic21\", \"Topic21\", \"Topic21\", \"Topic21\", \"Topic21\", \"Topic21\", \"Topic21\", \"Topic21\", \"Topic21\", \"Topic21\", \"Topic21\", \"Topic21\", \"Topic21\", \"Topic21\", \"Topic21\", \"Topic21\", \"Topic21\", \"Topic21\", \"Topic21\", \"Topic21\", \"Topic21\", \"Topic21\", \"Topic21\", \"Topic21\", \"Topic21\", \"Topic21\", \"Topic21\", \"Topic21\", \"Topic21\", \"Topic21\", \"Topic21\", \"Topic21\", \"Topic21\", \"Topic21\", \"Topic21\", \"Topic21\", \"Topic21\", \"Topic21\", \"Topic21\", \"Topic21\", \"Topic21\", \"Topic21\", \"Topic21\", \"Topic21\", \"Topic21\", \"Topic21\", \"Topic21\", \"Topic21\", \"Topic21\", \"Topic21\", \"Topic21\", \"Topic22\", \"Topic22\", \"Topic22\", \"Topic22\", \"Topic22\", \"Topic22\", \"Topic22\", \"Topic22\", \"Topic22\", \"Topic22\", \"Topic22\", \"Topic22\", \"Topic22\", \"Topic22\", \"Topic22\", \"Topic22\", \"Topic22\", \"Topic22\", \"Topic22\", \"Topic22\", \"Topic22\", \"Topic22\", \"Topic22\", \"Topic22\", \"Topic22\", \"Topic22\", \"Topic22\", \"Topic22\", \"Topic22\", \"Topic22\", \"Topic22\", \"Topic22\", \"Topic22\", \"Topic22\", \"Topic22\", \"Topic22\", \"Topic22\", \"Topic22\", \"Topic22\", \"Topic22\", \"Topic22\", \"Topic22\", \"Topic22\", \"Topic22\", \"Topic22\", \"Topic22\", \"Topic22\", \"Topic22\", \"Topic22\", \"Topic22\", \"Topic22\", \"Topic22\", \"Topic22\", \"Topic22\", \"Topic22\", \"Topic22\", \"Topic23\", \"Topic23\", \"Topic23\", \"Topic23\", \"Topic23\", \"Topic23\", \"Topic23\", \"Topic23\", \"Topic23\", \"Topic23\", \"Topic23\", \"Topic23\", \"Topic23\", \"Topic23\", \"Topic23\", \"Topic23\", \"Topic23\", \"Topic23\", \"Topic23\", \"Topic23\", \"Topic23\", \"Topic23\", \"Topic23\", \"Topic23\", \"Topic23\", \"Topic23\", \"Topic23\", \"Topic23\", \"Topic23\", \"Topic23\", \"Topic23\", \"Topic23\", \"Topic23\", \"Topic23\", \"Topic23\", \"Topic23\", \"Topic23\", \"Topic23\", \"Topic23\", \"Topic23\", \"Topic23\", \"Topic23\", \"Topic23\", \"Topic23\", \"Topic23\", \"Topic23\", \"Topic23\", \"Topic23\", \"Topic23\", \"Topic23\", \"Topic23\", \"Topic23\", \"Topic23\", \"Topic23\", \"Topic23\", \"Topic23\", \"Topic23\", \"Topic23\", \"Topic23\", \"Topic23\", \"Topic24\", \"Topic24\", \"Topic24\", \"Topic24\", \"Topic24\", \"Topic24\", \"Topic24\", \"Topic24\", \"Topic24\", \"Topic24\", \"Topic24\", \"Topic24\", \"Topic24\", \"Topic24\", \"Topic24\", \"Topic24\", \"Topic24\", \"Topic24\", \"Topic24\", \"Topic24\", \"Topic24\", \"Topic24\", \"Topic24\", \"Topic24\", \"Topic24\", \"Topic24\", \"Topic24\", \"Topic24\", \"Topic24\", \"Topic24\", \"Topic24\", \"Topic24\", \"Topic24\", \"Topic24\", \"Topic24\", \"Topic24\", \"Topic24\", \"Topic24\", \"Topic24\", \"Topic24\", \"Topic24\", \"Topic24\", \"Topic24\", \"Topic24\", \"Topic24\", \"Topic24\", \"Topic24\", \"Topic24\", \"Topic24\", \"Topic24\", \"Topic24\", \"Topic24\", \"Topic24\", \"Topic24\", \"Topic24\", \"Topic24\", \"Topic24\", \"Topic24\", \"Topic24\", \"Topic24\", \"Topic24\", \"Topic24\", \"Topic24\", \"Topic24\", \"Topic24\", \"Topic24\", \"Topic24\", \"Topic24\", \"Topic24\", \"Topic24\", \"Topic24\", \"Topic25\", \"Topic25\", \"Topic25\", \"Topic25\", \"Topic25\", \"Topic25\", \"Topic25\", \"Topic25\", \"Topic25\", \"Topic25\", \"Topic25\", \"Topic25\", \"Topic25\", \"Topic25\", \"Topic25\", \"Topic25\", \"Topic25\", \"Topic25\", \"Topic25\", \"Topic25\", \"Topic25\", \"Topic25\", \"Topic25\", \"Topic25\", \"Topic25\", \"Topic25\", \"Topic25\", \"Topic25\", \"Topic25\", \"Topic25\", \"Topic25\", \"Topic25\", \"Topic25\", \"Topic25\", \"Topic25\", \"Topic25\", \"Topic25\", \"Topic25\", \"Topic25\", \"Topic25\", \"Topic25\", \"Topic25\", \"Topic25\", \"Topic25\", \"Topic25\", \"Topic25\", \"Topic25\", \"Topic25\", \"Topic25\", \"Topic25\", \"Topic25\", \"Topic25\", \"Topic25\", \"Topic25\", \"Topic25\", \"Topic25\", \"Topic25\", \"Topic25\", \"Topic25\", \"Topic25\", \"Topic25\", \"Topic25\", \"Topic25\", \"Topic25\", \"Topic25\", \"Topic25\", \"Topic25\", \"Topic25\", \"Topic25\", \"Topic25\", \"Topic26\", \"Topic26\", \"Topic26\", \"Topic26\", \"Topic26\", \"Topic26\", \"Topic26\", \"Topic26\", \"Topic26\", \"Topic26\", \"Topic26\", \"Topic26\", \"Topic26\", \"Topic26\", \"Topic26\", \"Topic26\", \"Topic26\", \"Topic26\", \"Topic26\", \"Topic26\", \"Topic26\", \"Topic26\", \"Topic26\", \"Topic26\", \"Topic26\", \"Topic26\", \"Topic26\", \"Topic26\", \"Topic26\", \"Topic26\", \"Topic26\", \"Topic26\", \"Topic26\", \"Topic26\", \"Topic26\", \"Topic26\", \"Topic26\", \"Topic26\", \"Topic26\", \"Topic26\", \"Topic26\", \"Topic26\", \"Topic26\", \"Topic26\", \"Topic26\", \"Topic26\", \"Topic26\", \"Topic26\", \"Topic26\", \"Topic26\", \"Topic26\", \"Topic26\", \"Topic26\", \"Topic26\", \"Topic26\", \"Topic27\", \"Topic27\", \"Topic27\", \"Topic27\", \"Topic27\", \"Topic27\", \"Topic27\", \"Topic27\", \"Topic27\", \"Topic27\", \"Topic27\", \"Topic27\", \"Topic27\", \"Topic27\", \"Topic27\", \"Topic27\", \"Topic27\", \"Topic27\", \"Topic27\", \"Topic27\", \"Topic27\", \"Topic27\", \"Topic27\", \"Topic27\", \"Topic27\", \"Topic27\", \"Topic27\", \"Topic27\", \"Topic27\", \"Topic27\", \"Topic27\", \"Topic27\", \"Topic27\", \"Topic27\", \"Topic27\", \"Topic27\", \"Topic27\", \"Topic27\", \"Topic27\", \"Topic27\", \"Topic27\", \"Topic27\", \"Topic27\", \"Topic27\", \"Topic27\", \"Topic27\", \"Topic27\", \"Topic27\", \"Topic27\", \"Topic27\", \"Topic27\", \"Topic27\", \"Topic27\", \"Topic27\", \"Topic27\", \"Topic27\", \"Topic27\", \"Topic27\", \"Topic27\", \"Topic27\", \"Topic27\", \"Topic27\", \"Topic27\", \"Topic27\", \"Topic27\", \"Topic27\", \"Topic27\", \"Topic27\", \"Topic27\", \"Topic27\", \"Topic27\", \"Topic27\", \"Topic27\", \"Topic27\", \"Topic28\", \"Topic28\", \"Topic28\", \"Topic28\", \"Topic28\", \"Topic28\", \"Topic28\", \"Topic28\", \"Topic28\", \"Topic28\", \"Topic28\", \"Topic28\", \"Topic28\", \"Topic28\", \"Topic28\", \"Topic28\", \"Topic28\", \"Topic28\", \"Topic28\", \"Topic28\", \"Topic28\", \"Topic28\", \"Topic28\", \"Topic28\", \"Topic28\", \"Topic28\", \"Topic28\", \"Topic28\", \"Topic28\", \"Topic28\", \"Topic28\", \"Topic28\", \"Topic28\", \"Topic28\", \"Topic28\", \"Topic28\", \"Topic28\", \"Topic28\", \"Topic28\", \"Topic28\", \"Topic28\", \"Topic28\", \"Topic28\", \"Topic28\", \"Topic28\", \"Topic28\", \"Topic28\", \"Topic28\", \"Topic28\", \"Topic28\", \"Topic28\", \"Topic28\", \"Topic28\", \"Topic28\", \"Topic29\", \"Topic29\", \"Topic29\", \"Topic29\", \"Topic29\", \"Topic29\", \"Topic29\", \"Topic29\", \"Topic29\", \"Topic29\", \"Topic29\", \"Topic29\", \"Topic29\", \"Topic29\", \"Topic29\", \"Topic29\", \"Topic29\", \"Topic29\", \"Topic29\", \"Topic29\", \"Topic29\", \"Topic29\", \"Topic29\", \"Topic29\", \"Topic29\", \"Topic29\", \"Topic29\", \"Topic29\", \"Topic29\", \"Topic29\", \"Topic29\", \"Topic29\", \"Topic29\", \"Topic29\", \"Topic29\", \"Topic29\", \"Topic29\", \"Topic29\", \"Topic29\", \"Topic29\", \"Topic29\", \"Topic29\", \"Topic29\", \"Topic29\", \"Topic29\", \"Topic29\", \"Topic29\", \"Topic29\", \"Topic29\", \"Topic29\", \"Topic29\", \"Topic29\", \"Topic29\", \"Topic29\", \"Topic29\", \"Topic29\", \"Topic29\", \"Topic29\", \"Topic29\", \"Topic29\", \"Topic29\", \"Topic29\", \"Topic30\", \"Topic30\", \"Topic30\", \"Topic30\", \"Topic30\", \"Topic30\", \"Topic30\", \"Topic30\", \"Topic30\", \"Topic30\", \"Topic30\", \"Topic30\", \"Topic30\", \"Topic30\", \"Topic30\", \"Topic30\", \"Topic30\", \"Topic30\", \"Topic30\", \"Topic30\", \"Topic30\", \"Topic30\", \"Topic30\", \"Topic30\", \"Topic30\", \"Topic30\", \"Topic30\", \"Topic30\", \"Topic30\", \"Topic30\", \"Topic30\", \"Topic30\", \"Topic30\", \"Topic30\", \"Topic30\", \"Topic30\", \"Topic30\", \"Topic30\", \"Topic30\", \"Topic30\", \"Topic30\", \"Topic30\", \"Topic30\", \"Topic30\", \"Topic30\", \"Topic30\", \"Topic30\", \"Topic30\", \"Topic30\", \"Topic30\", \"Topic30\", \"Topic30\", \"Topic30\", \"Topic30\", \"Topic30\", \"Topic30\", \"Topic30\", \"Topic30\", \"Topic30\", \"Topic31\", \"Topic31\", \"Topic31\", \"Topic31\", \"Topic31\", \"Topic31\", \"Topic31\", \"Topic31\", \"Topic31\", \"Topic31\", \"Topic31\", \"Topic31\", \"Topic31\", \"Topic31\", \"Topic31\", \"Topic31\", \"Topic31\", \"Topic31\", \"Topic31\", \"Topic31\", \"Topic31\", \"Topic31\", \"Topic31\", \"Topic31\", \"Topic31\", \"Topic31\", \"Topic31\", \"Topic31\", \"Topic31\", \"Topic31\", \"Topic31\", \"Topic31\", \"Topic31\", \"Topic31\", \"Topic31\", \"Topic31\", \"Topic31\", \"Topic31\", \"Topic31\", \"Topic31\", \"Topic31\", \"Topic31\", \"Topic31\", \"Topic31\", \"Topic31\", \"Topic31\", \"Topic31\", \"Topic31\", \"Topic31\", \"Topic31\", \"Topic31\", \"Topic31\", \"Topic31\", \"Topic31\", \"Topic31\", \"Topic31\", \"Topic31\", \"Topic31\", \"Topic31\", \"Topic31\", \"Topic32\", \"Topic32\", \"Topic32\", \"Topic32\", \"Topic32\", \"Topic32\", \"Topic32\", \"Topic32\", \"Topic32\", \"Topic32\", \"Topic32\", \"Topic32\", \"Topic32\", \"Topic32\", \"Topic32\", \"Topic32\", \"Topic32\", \"Topic32\", \"Topic32\", \"Topic32\", \"Topic32\", \"Topic32\", \"Topic32\", \"Topic32\", \"Topic32\", \"Topic32\", \"Topic32\", \"Topic32\", \"Topic32\", \"Topic32\", \"Topic32\", \"Topic32\", \"Topic32\", \"Topic32\", \"Topic32\", \"Topic32\", \"Topic32\", \"Topic32\", \"Topic32\", \"Topic32\", \"Topic32\", \"Topic32\", \"Topic32\", \"Topic32\", \"Topic32\", \"Topic32\", \"Topic32\", \"Topic32\", \"Topic32\", \"Topic33\", \"Topic33\", \"Topic33\", \"Topic33\", \"Topic33\", \"Topic33\", \"Topic33\", \"Topic33\", \"Topic33\", \"Topic33\", \"Topic33\", \"Topic33\", \"Topic33\", \"Topic33\", \"Topic33\", \"Topic33\", \"Topic33\", \"Topic33\", \"Topic33\", \"Topic33\", \"Topic33\", \"Topic33\", \"Topic33\", \"Topic33\", \"Topic33\", \"Topic33\", \"Topic33\", \"Topic33\", \"Topic33\", \"Topic33\", \"Topic33\", \"Topic33\", \"Topic33\", \"Topic33\", \"Topic33\", \"Topic33\", \"Topic33\", \"Topic33\", \"Topic33\", \"Topic33\", \"Topic33\", \"Topic33\", \"Topic33\", \"Topic33\", \"Topic33\", \"Topic33\", \"Topic33\", \"Topic33\", \"Topic33\", \"Topic33\", \"Topic33\", \"Topic33\", \"Topic33\", \"Topic33\", \"Topic33\", \"Topic33\", \"Topic33\", \"Topic33\", \"Topic33\", \"Topic33\", \"Topic34\", \"Topic34\", \"Topic34\", \"Topic34\", \"Topic34\", \"Topic34\", \"Topic34\", \"Topic34\", \"Topic34\", \"Topic34\", \"Topic34\", \"Topic34\", \"Topic34\", \"Topic34\", \"Topic34\", \"Topic34\", \"Topic34\", \"Topic34\", \"Topic34\", \"Topic34\", \"Topic34\", \"Topic34\", \"Topic34\", \"Topic34\", \"Topic34\", \"Topic34\", \"Topic34\", \"Topic34\", \"Topic34\", \"Topic34\", \"Topic34\", \"Topic34\", \"Topic34\", \"Topic34\", \"Topic34\", \"Topic34\", \"Topic34\", \"Topic34\", \"Topic34\", \"Topic34\", \"Topic34\", \"Topic34\", \"Topic34\", \"Topic34\", \"Topic34\", \"Topic34\", \"Topic34\", \"Topic34\", \"Topic34\", \"Topic34\", \"Topic34\", \"Topic34\", \"Topic34\", \"Topic34\", \"Topic34\", \"Topic34\", \"Topic35\", \"Topic35\", \"Topic35\", \"Topic35\", \"Topic35\", \"Topic35\", \"Topic35\", \"Topic35\", \"Topic35\", \"Topic35\", \"Topic35\", \"Topic35\", \"Topic35\", \"Topic35\", \"Topic35\", \"Topic35\", \"Topic35\", \"Topic35\", \"Topic35\", \"Topic35\", \"Topic35\", \"Topic35\", \"Topic35\", \"Topic35\", \"Topic35\", \"Topic35\", \"Topic35\", \"Topic35\", \"Topic35\", \"Topic35\", \"Topic35\", \"Topic35\", \"Topic35\", \"Topic35\", \"Topic35\", \"Topic35\", \"Topic35\", \"Topic35\", \"Topic35\", \"Topic35\", \"Topic35\", \"Topic35\", \"Topic35\", \"Topic35\", \"Topic35\", \"Topic35\", \"Topic35\", \"Topic35\", \"Topic35\", \"Topic35\", \"Topic35\", \"Topic35\", \"Topic35\", \"Topic35\", \"Topic36\", \"Topic36\", \"Topic36\", \"Topic36\", \"Topic36\", \"Topic36\", \"Topic36\", \"Topic36\", \"Topic36\", \"Topic36\", \"Topic36\", \"Topic36\", \"Topic36\", \"Topic36\", \"Topic36\", \"Topic36\", \"Topic36\", \"Topic36\", \"Topic36\", \"Topic36\", \"Topic36\", \"Topic36\", \"Topic36\", \"Topic36\", \"Topic36\", \"Topic36\", \"Topic36\", \"Topic36\", \"Topic36\", \"Topic36\", \"Topic36\", \"Topic36\", \"Topic36\", \"Topic36\", \"Topic36\", \"Topic36\", \"Topic36\", \"Topic36\", \"Topic36\", \"Topic36\", \"Topic36\", \"Topic36\", \"Topic36\", \"Topic36\", \"Topic36\", \"Topic36\", \"Topic36\", \"Topic36\", \"Topic36\", \"Topic36\", \"Topic36\", \"Topic36\", \"Topic36\", \"Topic36\", \"Topic37\", \"Topic37\", \"Topic37\", \"Topic37\", \"Topic37\", \"Topic37\", \"Topic37\", \"Topic37\", \"Topic37\", \"Topic37\", \"Topic37\", \"Topic37\", \"Topic37\", \"Topic37\", \"Topic37\", \"Topic37\", \"Topic37\", \"Topic37\", \"Topic37\", \"Topic37\", \"Topic37\", \"Topic37\", \"Topic37\", \"Topic37\", \"Topic37\", \"Topic37\", \"Topic37\", \"Topic37\", \"Topic37\", \"Topic37\", \"Topic37\", \"Topic37\", \"Topic37\", \"Topic37\", \"Topic37\", \"Topic37\", \"Topic37\", \"Topic37\", \"Topic37\", \"Topic37\", \"Topic37\", \"Topic37\", \"Topic37\", \"Topic37\", \"Topic37\", \"Topic37\", \"Topic37\", \"Topic37\", \"Topic37\", \"Topic37\", \"Topic37\", \"Topic37\", \"Topic37\", \"Topic37\", \"Topic37\", \"Topic37\", \"Topic37\", \"Topic37\", \"Topic37\", \"Topic37\", \"Topic37\", \"Topic37\", \"Topic37\", \"Topic37\", \"Topic37\", \"Topic37\", \"Topic37\", \"Topic38\", \"Topic38\", \"Topic38\", \"Topic38\", \"Topic38\", \"Topic38\", \"Topic38\", \"Topic38\", \"Topic38\", \"Topic38\", \"Topic38\", \"Topic38\", \"Topic38\", \"Topic38\", \"Topic38\", \"Topic38\", \"Topic38\", \"Topic38\", \"Topic38\", \"Topic38\", \"Topic38\", \"Topic38\", \"Topic38\", \"Topic38\", \"Topic38\", \"Topic38\", \"Topic38\", \"Topic38\", \"Topic38\", \"Topic38\", \"Topic38\", \"Topic38\", \"Topic38\", \"Topic38\", \"Topic38\", \"Topic38\", \"Topic38\", \"Topic38\", \"Topic38\", \"Topic38\", \"Topic38\", \"Topic38\", \"Topic38\", \"Topic38\", \"Topic38\", \"Topic38\", \"Topic38\", \"Topic39\", \"Topic39\", \"Topic39\", \"Topic39\", \"Topic39\", \"Topic39\", \"Topic39\", \"Topic39\", \"Topic39\", \"Topic39\", \"Topic39\", \"Topic39\", \"Topic39\", \"Topic39\", \"Topic39\", \"Topic39\", \"Topic39\", \"Topic39\", \"Topic39\", \"Topic39\", \"Topic39\", \"Topic39\", \"Topic39\", \"Topic39\", \"Topic39\", \"Topic39\", \"Topic39\", \"Topic39\", \"Topic39\", \"Topic39\", \"Topic39\", \"Topic39\", \"Topic39\", \"Topic39\", \"Topic39\", \"Topic39\", \"Topic39\", \"Topic39\", \"Topic39\", \"Topic39\", \"Topic39\", \"Topic39\", \"Topic39\", \"Topic39\", \"Topic39\", \"Topic39\", \"Topic39\", \"Topic39\", \"Topic40\", \"Topic40\", \"Topic40\", \"Topic40\", \"Topic40\", \"Topic40\", \"Topic40\", \"Topic40\", \"Topic40\", \"Topic40\", \"Topic40\", \"Topic40\", \"Topic40\", \"Topic40\", \"Topic40\", \"Topic40\", \"Topic40\", \"Topic40\", \"Topic40\", \"Topic40\", \"Topic40\", \"Topic40\", \"Topic40\", \"Topic40\", \"Topic40\", \"Topic40\", \"Topic40\", \"Topic40\", \"Topic40\", \"Topic40\", \"Topic40\", \"Topic40\", \"Topic40\", \"Topic40\", \"Topic40\", \"Topic40\", \"Topic40\", \"Topic40\", \"Topic40\", \"Topic40\", \"Topic40\", \"Topic40\", \"Topic40\", \"Topic40\", \"Topic40\", \"Topic40\", \"Topic40\", \"Topic40\", \"Topic40\", \"Topic40\", \"Topic40\", \"Topic40\", \"Topic40\", \"Topic40\", \"Topic40\", \"Topic40\", \"Topic40\", \"Topic41\", \"Topic41\", \"Topic41\", \"Topic41\", \"Topic41\", \"Topic41\", \"Topic41\", \"Topic41\", \"Topic41\", \"Topic41\", \"Topic41\", \"Topic41\", \"Topic41\", \"Topic41\", \"Topic41\", \"Topic41\", \"Topic41\", \"Topic41\", \"Topic41\", \"Topic41\", \"Topic41\", \"Topic41\", \"Topic41\", \"Topic41\", \"Topic41\", \"Topic41\", \"Topic41\", \"Topic41\", \"Topic41\", \"Topic41\", \"Topic41\", \"Topic41\", \"Topic41\", \"Topic41\", \"Topic41\", \"Topic41\", \"Topic41\", \"Topic41\", \"Topic41\", \"Topic41\", \"Topic41\", \"Topic41\", \"Topic41\", \"Topic42\", \"Topic42\", \"Topic42\", \"Topic42\", \"Topic42\", \"Topic42\", \"Topic42\", \"Topic42\", \"Topic42\", \"Topic42\", \"Topic42\", \"Topic42\", \"Topic42\", \"Topic42\", \"Topic42\", \"Topic42\", \"Topic42\", \"Topic42\", \"Topic42\", \"Topic42\", \"Topic42\", \"Topic42\", \"Topic42\", \"Topic42\", \"Topic42\", \"Topic42\", \"Topic42\", \"Topic42\", \"Topic42\", \"Topic42\", \"Topic42\", \"Topic42\", \"Topic42\", \"Topic42\", \"Topic42\", \"Topic42\", \"Topic42\", \"Topic42\", \"Topic42\", \"Topic42\", \"Topic42\", \"Topic42\", \"Topic42\", \"Topic42\", \"Topic42\", \"Topic42\", \"Topic42\", \"Topic42\", \"Topic42\", \"Topic42\", \"Topic42\", \"Topic43\", \"Topic43\", \"Topic43\", \"Topic43\", \"Topic43\", \"Topic43\", \"Topic43\", \"Topic43\", \"Topic43\", \"Topic43\", \"Topic43\", \"Topic43\", \"Topic43\", \"Topic43\", \"Topic43\", \"Topic43\", \"Topic43\", \"Topic43\", \"Topic43\", \"Topic43\", \"Topic43\", \"Topic43\", \"Topic43\", \"Topic43\", \"Topic43\", \"Topic43\", \"Topic43\", \"Topic43\", \"Topic43\", \"Topic43\", \"Topic43\", \"Topic43\", \"Topic43\", \"Topic43\", \"Topic43\", \"Topic43\", \"Topic43\", \"Topic43\", \"Topic43\", \"Topic43\", \"Topic43\", \"Topic43\", \"Topic43\", \"Topic43\", \"Topic43\", \"Topic43\", \"Topic43\", \"Topic43\", \"Topic43\", \"Topic43\", \"Topic43\", \"Topic43\", \"Topic44\", \"Topic44\", \"Topic44\", \"Topic44\", \"Topic44\", \"Topic44\", \"Topic44\", \"Topic44\", \"Topic44\", \"Topic44\", \"Topic44\", \"Topic44\", \"Topic44\", \"Topic44\", \"Topic44\", \"Topic44\", \"Topic44\", \"Topic44\", \"Topic44\", \"Topic44\", \"Topic44\", \"Topic44\", \"Topic44\", \"Topic44\", \"Topic44\", \"Topic44\", \"Topic44\", \"Topic44\", \"Topic44\", \"Topic44\", \"Topic44\", \"Topic44\", \"Topic44\", \"Topic44\", \"Topic44\", \"Topic44\", \"Topic44\", \"Topic44\", \"Topic44\", \"Topic44\", \"Topic44\", \"Topic44\", \"Topic44\", \"Topic44\", \"Topic44\", \"Topic44\", \"Topic44\", \"Topic44\", \"Topic44\", \"Topic45\", \"Topic45\", \"Topic45\", \"Topic45\", \"Topic45\", \"Topic45\", \"Topic45\", \"Topic45\", \"Topic45\", \"Topic45\", \"Topic45\", \"Topic45\", \"Topic45\", \"Topic45\", \"Topic45\", \"Topic45\", \"Topic45\", \"Topic45\", \"Topic45\", \"Topic45\", \"Topic45\", \"Topic45\", \"Topic45\", \"Topic45\", \"Topic45\", \"Topic45\", \"Topic45\", \"Topic45\", \"Topic45\", \"Topic45\", \"Topic45\", \"Topic45\", \"Topic45\", \"Topic45\", \"Topic45\", \"Topic45\", \"Topic45\", \"Topic45\", \"Topic45\", \"Topic45\", \"Topic45\", \"Topic45\", \"Topic45\", \"Topic45\", \"Topic45\", \"Topic45\", \"Topic45\", \"Topic45\", \"Topic45\", \"Topic45\", \"Topic45\"], \"logprob\": [30.0, 29.0, 28.0, 27.0, 26.0, 25.0, 24.0, 23.0, 22.0, 21.0, 20.0, 19.0, 18.0, 17.0, 16.0, 15.0, 14.0, 13.0, 12.0, 11.0, 10.0, 9.0, 8.0, 7.0, 6.0, 5.0, 4.0, 3.0, 2.0, 1.0, -8.1869, -7.9888, -8.353, -8.1005, -8.3586, -7.7666, -8.3484, -7.7658, -8.3293, -8.3411, -8.3429, -8.3411, -8.4387, -8.2744, -8.3067, -8.2105, -8.3293, -7.7359, -7.7659, -8.0156, -8.358, -7.9968, -8.4645, -8.3494, -8.6229, -7.7604, -8.3958, -8.9919, -7.7667, -8.0592, -8.0553, -8.0008, -8.0826, -7.6237, -8.0755, -7.6721, -6.8716, -6.8949, -6.9071, -6.8969, -6.8957, -6.9191, -6.9191, -6.9078, -7.6582, -7.7079, -7.6656, -7.7125, -7.7103, -6.8443, -7.6079, -7.7089, -7.6739, -7.6651, -7.6658, -7.7635, -7.8782, -7.9046, -8.1683, -8.2178, -8.1997, -8.393, -8.4126, -8.0527, -8.3785, -8.5435, -8.2008, -8.8091, -8.6593, -8.2147, -8.7236, -8.4192, -8.7535, -8.2328, -8.21, -8.5112, -8.3894, -8.55, -8.6768, -8.4158, -8.3887, -8.8492, -9.0797, -8.1907, -8.1163, -8.8806, -8.5955, -8.2302, -8.5737, -8.2146, -8.0339, -8.152, -8.2482, -8.1284, -7.2631, -7.413, -7.4119, -7.4514, -7.448, -7.4527, -7.4766, -7.4829, -7.4787, -7.6901, -8.1625, -7.8541, -7.8697, -7.8645, -8.1436, -8.1476, -8.1662, -8.1683, -8.1769, -8.1896, -8.2237, -8.2192, -8.3238, -8.409, -8.439, -8.6844, -8.6591, -8.9092, -8.6896, -8.4117, -8.3537, -9.0464, -8.8924, -8.6827, -8.7585, -9.1278, -8.828, -8.5657, -8.9834, -8.8845, -8.8564, -9.0178, -9.0957, -8.8971, -8.8996, -8.9201, -8.845, -8.8615, -9.0244, -9.0395, -8.3736, -8.3908, -8.4255, -8.4545, -8.4486, -8.3483, -8.7487, -8.0038, -8.0191, -8.0439, -8.6371, -8.3257, -8.5411, -8.0458, -7.2768, -7.3046, -7.2852, -7.3109, -7.2941, -7.3156, -7.3205, -7.3039, -7.2797, -8.2296, -7.8705, -7.857, -7.9047, -7.946, -8.0019, -8.0096, -8.0236, -8.0353, -8.0525, -8.2373, -8.2618, -8.2484, -8.3163, -8.3168, -7.6707, -7.5048, -7.7049, -7.6356, -7.6893, -7.6228, -7.6286, -7.6429, -7.6546, -7.6418, -7.6991, -7.6925, -7.6387, -7.6027, -7.6196, -7.6231, -7.3601, -7.5991, -7.6853, -7.6473, -7.6227, -7.6402, -7.7021, -7.6441, -7.6372, -7.6276, -7.6311, -7.3577, -7.369, -7.3674, -7.4079, -7.3668, -7.3583, -7.453, -7.3682, -7.347, -7.4081, -7.3776, -7.4758, -7.3792, -7.2893, -7.34, -7.4549, -7.3201, -7.3132, -7.3134, -7.4983, -7.6065, -8.7199, -8.7489, -8.7371, -8.4659, -8.6099, -8.8772, -8.9541, -8.4944, -9.0688, -8.6064, -8.529, -8.6806, -8.6694, -8.5055, -8.4971, -8.8249, -8.8638, -8.794, -8.9814, -8.839, -8.6753, -8.7526, -8.793, -8.8407, -8.9648, -8.7824, -8.8771, -8.7367, -8.6488, -8.9686, -8.6342, -8.5442, -8.6953, -8.6444, -8.1629, -8.2016, -8.1133, -8.1745, -8.2054, -8.2408, -8.1851, -8.2137, -7.4358, -8.122, -8.2661, -8.2585, -8.2405, -7.5774, -7.6, -7.6156, -8.2661, -7.6329, -7.6375, -7.5248, -7.6314, -7.6388, -8.2579, -8.2442, -8.1848, -8.1818, -8.1843, -8.2629, -8.2072, -8.2291, -8.1636, -8.1793, -8.1873, -8.2493, -8.7111, -8.784, -8.8699, -8.8844, -8.8307, -8.7931, -8.9681, -8.9927, -9.02, -8.9575, -8.8514, -9.1929, -8.8689, -8.8624, -9.0399, -8.9539, -8.8788, -8.6459, -8.7107, -8.6829, -8.9219, -9.048, -8.8379, -9.2483, -9.027, -9.0142, -8.9036, -8.8479, -9.0853, -9.038, -8.832, -8.8598, -8.6929, -7.9214, -7.9336, -7.9799, -7.9933, -7.966, -7.9562, -7.99, -7.9743, -7.9768, -7.917, -7.9881, -7.9886, -7.8214, -7.886, -7.8884, -8.6736, -8.7409, -8.6119, -8.0579, -8.0997, -8.134, -8.6939, -8.1998, -8.4135, -8.2064, -8.2075, -8.2159, -8.2618, -8.2815, -8.3051, -8.5147, -8.5399, -8.5421, -8.5817, -8.5998, -8.7473, -8.7438, -8.7581, -8.4513, -8.7867, -8.6813, -8.8751, -8.4992, -8.9357, -8.6126, -8.7539, -8.6751, -9.0859, -8.8435, -9.0014, -8.8585, -8.8872, -8.9759, -9.0349, -8.7147, -8.8715, -8.8233, -8.7436, -8.7127, -8.8604, -8.9445, -8.7605, -8.9413, -8.8026, -8.6654, -8.3139, -8.3253, -8.2888, -8.2898, -8.3068, -8.2918, -8.6754, -8.3061, -7.3012, -8.3688, -8.6154, -8.5589, -8.662, -8.633, -7.9693, -8.0234, -8.0664, -8.0487, -8.073, -8.371, -8.1129, -8.1114, -8.1424, -8.1456, -8.4189, -8.4974, -8.3474, -8.616, -8.5293, -8.5818, -8.4725, -8.4656, -8.4699, -8.5096, -8.5161, -8.5278, -8.8069, -8.6055, -8.5343, -8.5909, -8.6377, -9.0257, -9.0863, -8.5822, -8.6323, -8.8608, -8.6395, -8.9042, -8.8624, -8.484, -8.9559, -8.9153, -9.0162, -8.0686, -8.5893, -8.5653, -8.7432, -8.9279, -8.8811, -8.974, -9.0126, -8.6712, -8.807, -8.9856, -8.7496, -8.8491, -8.6553, -8.3268, -8.2535, -8.5772, -8.2262, -8.3862, -8.5733, -8.5895, -8.3466, -8.7213, -8.61, -8.5077, -7.6536, -8.1851, -8.1478, -7.9843, -8.1821, -8.0556, -8.0625, -7.6877, -8.4627, -7.77, -7.7968, -8.2567, -8.2454, -8.2759, -8.2546, -8.2638, -8.1663, -8.2641, -8.2737, -8.2788, -8.2885, -8.3257, -8.4086, -8.4133, -8.3308, -8.7589, -8.4328, -8.5638, -8.5562, -8.7836, -8.8378, -8.8296, -8.5972, -8.7064, -8.7852, -8.8194, -8.8559, -8.6258, -8.5146, -8.7866, -8.8275, -8.9433, -8.7, -8.6656, -8.7697, -8.7734, -8.6908, -8.6228, -8.6899, -8.7295, -8.9132, -8.7264, -8.7145, -8.6673, -8.7078, -7.9372, -7.6928, -7.7191, -7.7255, -7.7393, -7.7914, -7.7605, -7.7908, -7.9658, -7.7859, -7.8006, -8.0027, -7.7972, -7.7826, -7.9238, -7.7996, -8.0754, -8.1981, -7.3313, -7.3535, -8.0797, -7.3441, -8.0912, -8.09, -8.1673, -8.2246, -8.1722, -8.1949, -8.1456, -8.1563, -8.1912, -8.1793, -8.1746, -8.0749, -7.7302, -7.9597, -7.8552, -7.9693, -7.8944, -7.9821, -8.8711, -7.986, -7.9694, -7.9, -8.7339, -8.9389, -7.8668, -7.9008, -7.9111, -8.5621, -8.6904, -7.9045, -9.1312, -7.9236, -7.9145, -8.6958, -9.116, -7.9106, -8.5823, -8.9241, -9.0587, -7.8986, -7.723, -8.2863, -7.8731, -7.798, -7.9168, -7.9259, -8.068, -7.9191, -7.8749, -8.1156, -7.902, -7.9069, -7.8576, -7.8978, -7.9129, -7.8949, -7.7427, -7.8058, -7.6269, -7.3402, -7.3717, -7.3996, -7.413, -7.4163, -7.4318, -7.4393, -7.4485, -7.3871, -7.8248, -7.8655, -7.8474, -7.8847, -7.8457, -7.853, -7.897, -7.8903, -8.4434, -8.4094, -8.4965, -8.5088, -8.4089, -8.3145, -8.4439, -8.3248, -8.5748, -7.8191, -8.4938, -8.6188, -7.7498, -7.8976, -8.4803, -8.8928, -8.6739, -8.4119, -8.4713, -8.4686, -9.1331, -8.6994, -8.6539, -8.8395, -8.4938, -8.9037, -7.842, -8.4014, -8.5011, -8.525, -7.8544, -7.902, -7.8784, -7.8291, -7.8406, -7.9231, -7.8923, -7.9205, -7.9553, -7.8745, -7.8835, -7.892, -7.9365, -7.9003, -7.9503, -7.9137, -7.8469, -7.8447, -7.8635, -7.8655, -7.9038, -7.8681, -7.8761, -7.8941, -7.8926, -7.8775, -7.5836, -7.645, -7.6677, -7.8825, -8.3172, -8.5583, -8.3049, -8.5884, -8.625, -8.6021, -8.5903, -8.5852, -8.5087, -8.6117, -8.6661, -8.5588, -8.6805, -8.5097, -8.6661, -8.4779, -8.7382, -8.6848, -8.4719, -8.5172, -8.7523, -8.5506, -8.4822, -8.6636, -8.5696, -8.5043, -8.6287, -8.7207, -8.9589, -8.7255, -8.2655, -8.5761, -8.4988, -8.477, -8.4047, -8.3429, -8.3977, -7.9244, -8.0043, -8.0184, -7.9811, -8.0175, -7.9894, -7.9949, -8.0382, -7.6007, -7.6099, -8.0586, -8.0243, -7.6383, -7.6256, -8.0639, -7.684, -7.6781, -7.6831, -8.0644, -7.6947, -7.7008, -8.1098, -8.0637, -8.0896, -8.1168, -7.9414, -7.947, -7.9887, -8.1952, -8.6937, -8.8517, -8.5914, -8.8524, -8.7972, -8.7752, -8.7538, -9.4313, -8.8295, -8.6363, -8.9084, -9.0456, -8.8509, -8.767, -8.7856, -9.0522, -8.8339, -9.2358, -8.904, -8.8932, -8.7834, -9.1497, -8.8096, -8.692, -8.7698, -8.5176, -8.8566, -8.9847, -8.729, -9.1253, -8.5919, -8.4695, -8.6801, -8.3556, -8.747, -8.5304, -8.3767, -8.3787, -8.5639, -7.6313, -7.7539, -7.757, -8.0878, -7.8469, -8.6912, -8.434, -8.5374, -8.5188, -8.7221, -8.6896, -8.4977, -8.5853, -8.4712, -8.6076, -8.5433, -8.664, -8.6892, -8.6815, -8.686, -8.6898, -8.4972, -8.7863, -8.7533, -8.8186, -7.9877, -8.2267, -8.7031, -8.7424, -8.8971, -9.0425, -9.1852, -8.8902, -8.4422, -8.6818, -9.0791, -9.0071, -8.8631, -8.9248, -9.008, -9.0341, -8.6628, -8.4026, -9.0211, -8.6933, -8.5478, -9.2435, -9.2754, -8.572, -9.0174, -8.9558, -8.6347, -8.7652, -8.6985, -8.79, -8.2482, -8.8709, -8.7838, -8.4494, -8.9127, -8.164, -8.1528, -8.7795, -8.2592, -8.5826, -8.2263, -8.263, -8.2961, -8.316, -8.3023, -7.8505, -8.3528, -8.3296, -8.3665, -8.3505, -8.0571, -8.3745, -8.3766, -8.3708, -8.3738, -8.1733, -8.1555, -8.1656, -8.1652, -8.1859, -8.2202, -8.2475, -8.2544, -8.2163, -8.3213, -8.8663, -8.7008, -8.5262, -8.7595, -8.686, -8.8147, -8.9131, -8.8937, -8.642, -8.8039, -8.6521, -8.8561, -8.6033, -8.7075, -8.8914, -8.9257, -8.9339, -8.7959, -8.8675, -8.7784, -8.9076, -8.7061, -8.8637, -8.7543, -8.8037, -8.8414, -8.9003, -8.7449, -8.8738, -8.8972, -8.657, -8.2591, -8.7041, -8.7981, -8.6399, -8.7786, -8.6366, -8.7365, -8.7167, -8.6463, -8.6544, -8.7254, -8.6138, -8.6695, -8.7575, -8.4869, -8.5656, -8.0237, -8.0352, -8.063, -8.5865, -8.6814, -8.6487, -8.6896, -8.6913, -8.6998, -8.5616, -8.5162, -8.6831, -8.6171, -8.6247, -8.6799, -8.6639, -8.7575, -8.6242, -8.8237, -8.8308, -8.7403, -8.7836, -9.0163, -8.7706, -8.5681, -8.6815, -8.8632, -8.7954, -8.5933, -9.1372, -9.0448, -8.813, -9.0213, -8.931, -8.6949, -9.0568, -8.7252, -9.1588, -9.1292, -8.8152, -8.9174, -8.6165, -8.5529, -8.6387, -8.8362, -8.7899, -8.6137, -8.7559, -8.7491, -8.8268, -8.781, -8.5932, -8.6601, -8.8049, -8.3939, -8.7759, -8.0698, -8.5165, -8.0964, -8.0213, -8.4408, -8.4551, -8.0192, -8.1476, -8.1576, -8.0759, -8.4266, -8.1779, -8.1956, -8.2102, -8.1992, -8.2104, -8.2538, -8.5151, -8.4833, -8.3784, -8.5025, -8.5077, -8.4487, -8.5406, -8.5345, -8.5365, -8.532, -8.5348, -8.5491, -8.477, -8.7629, -8.6085, -8.6777, -8.9052, -8.8225, -8.5659, -8.7266, -8.6902, -9.0933, -8.6612, -8.6635, -8.7375, -8.9125, -8.9367, -8.7347, -9.0222, -8.9279, -8.8023, -8.9509, -9.0562, -8.8116, -8.963, -8.6826, -8.8281, -8.6953, -8.757, -8.8675, -9.0711, -8.8412, -7.9948, -7.8715, -8.0516, -7.9691, -7.9193, -7.9845, -8.0326, -7.9733, -7.9729, -8.0292, -8.059, -8.0476, -7.992, -8.0427, -8.5676, -8.0476, -7.7782, -8.6335, -8.6197, -8.6089, -8.0774, -8.1578, -8.174, -8.1975, -8.2063, -8.211, -8.2539, -8.3089, -8.4245, -8.5838, -8.5831, -8.569, -8.4357, -8.6688, -8.2836, -8.6686, -8.5016, -8.4671, -8.6911, -8.5244, -8.7167, -8.9733, -8.663, -8.9786, -8.9538, -9.0969, -8.9163, -8.4646, -8.5653, -9.0943, -8.6362, -8.8436, -8.7032, -8.7924, -8.8392, -8.8681, -9.1611, -8.7073, -9.0685, -8.7589, -8.714, -9.0612, -8.9254, -8.7055, -8.7185, -8.7983, -8.579, -8.6976, -8.3561, -8.1483, -8.1796, -8.1886, -8.4935, -8.5275, -8.7502, -8.5805, -8.5697, -8.5488, -7.9191, -8.3579, -8.0815, -8.535, -8.2676, -8.2827, -8.5857, -8.5768, -8.5834, -8.5061, -8.587, -8.532, -8.868, -8.6527, -8.8337, -8.8012, -8.4889, -8.1858, -8.8149, -8.2048, -8.8602, -9.2735, -8.6468, -9.0793, -9.029, -8.8105, -8.7919, -8.8711, -8.4769, -8.5457, -9.1619, -8.7528, -9.0279, -9.0968, -9.0715, -8.9633, -9.0478, -8.7985, -9.0113, -9.0145, -8.6189, -8.9218, -8.6902, -8.1474, -8.6843, -8.8602, -8.7069, -8.8908, -8.6328, -8.7299, -8.7824, -8.7212, -8.7291, -8.1627, -8.7362, -8.6708, -8.6843, -8.3561, -8.4108, -8.4423, -8.1871, -8.1742, -8.2379, -8.6867, -8.5024, -8.5397, -8.5531, -8.5896, -8.4397, -8.6253, -8.6233, -8.659, -8.669, -8.6699, -8.6712, -8.6743, -8.2929, -8.4715, -8.2543, -8.8446, -8.6692, -8.4119, -8.1091, -8.6942, -8.5941, -8.5858, -8.7644, -8.9607, -8.5389, -8.1267, -8.8612, -8.7465, -8.7547, -8.3574, -8.4262, -8.7591, -9.1697, -8.8683, -8.5531, -8.3894, -8.444, -8.1677, -8.6342, -8.5013, -9.0527, -9.0421, -8.8974, -8.733, -8.1168, -8.1376, -8.3957, -8.111, -8.4938, -8.5353, -8.4251, -8.5931, -8.5732, -8.5784, -8.5911, -7.9136, -7.9425, -7.9417, -8.2424, -8.2564, -8.2774, -8.3467, -8.3363, -8.1435, -8.3673, -8.3698, -8.3879, -8.3888, -8.393, -8.4068, -8.4217, -8.6273, -8.3499, -8.7758, -8.5905, -8.7403, -8.7338, -8.2752, -8.7971, -8.8298, -8.7024, -8.7864, -8.7433, -8.8599, -8.3187, -8.7873, -8.8324, -8.7565, -8.6363, -8.8797, -8.6095, -8.6621, -8.8066, -8.8821, -8.4017, -8.4772, -8.7513, -8.8162, -8.8738, -8.6353, -9.0868, -8.7638, -8.4694, -8.5321, -8.4333, -8.6018, -8.4737, -8.5187, -8.6055, -8.696, -8.5539, -8.5635, -8.631, -8.4332, -8.3665, -8.5845, -8.3118, -8.3865, -8.4014, -8.41, -8.4678, -8.2226, -8.0845, -8.2379, -8.3961, -8.2801, -8.4697, -8.4209, -8.4777, -8.4768, -8.5022, -8.4807, -8.4798, -8.4924, -8.5101, -8.5158, -8.6155, -8.9411, -8.904, -8.8308, -9.0165, -8.834, -8.2692, -8.2938, -8.3633, -8.9271, -8.1411, -8.9741, -8.8636, -8.9817, -8.7644, -8.3263, -8.2152, -9.157, -8.937, -8.976, -8.7684, -8.9884, -8.8437, -8.4553, -8.5435, -8.8229, -8.8908, -8.5806, -9.1558, -8.3715, -8.2082, -8.6031, -8.4681, -8.5503, -8.5231, -8.5267, -8.3541, -8.6315, -8.6462, -8.6185, -8.157, -8.7538, -8.7336, -8.7512, -8.4086, -8.3774, -8.5625, -8.2757, -8.3505, -8.3704, -8.5834, -8.6082, -8.4724, -8.5929, -8.5898, -8.6008, -8.311, -8.5849, -8.6524, -8.695, -8.536, -8.7332, -8.3793, -8.7238, -8.6736, -8.9834, -8.6896, -8.9302, -8.8539, -8.5806, -8.5898, -8.854, -9.0304, -8.6375, -8.8001, -8.9059, -9.0171, -8.9513, -8.9176, -8.9837, -8.74, -8.9651, -9.0489, -8.7052, -8.6067, -8.7734, -8.5807, -8.5525, -8.6457, -8.6492, -8.4419, -8.4656, -8.5036, -8.6164, -8.5091, -8.632, -8.6609, -8.5871, -8.5926, -8.6488, -7.8871, -7.9184, -7.9442, -8.47, -7.9724, -7.9775, -7.9914, -7.9895, -8.0107, -8.0029, -7.9993, -8.582, -8.6026, -8.5668, -8.5767, -8.5752, -8.5134, -8.762, -8.6579, -8.8667, -8.9224, -8.7102, -8.8565, -8.7104, -8.6336, -8.6451, -8.7199, -8.8157, -8.6654, -9.1724, -8.5174, -8.6739, -8.8455, -8.7677, -8.6244, -8.9736, -8.8586, -8.8766, -8.4327, -8.8574, -9.0295, -8.8483, -8.8581, -9.1101, -8.8292, -9.0355, -8.6149, -8.6946, -8.6473, -8.7226, -8.2338, -8.4749, -8.1534, -8.6557, -8.765, -8.6997, -8.3049, -8.1795, -8.2071, -8.5728, -8.6433, -8.3156, -8.2794, -8.2773, -8.3346, -8.3493, -8.3357, -8.3327, -8.3837, -8.3634, -8.3828, -8.3742, -8.4109, -8.4028, -8.4051, -8.0128, -8.3979, -8.4059, -8.42, -8.4166, -8.4253, -8.4349, -8.4291, -8.4408, -8.4407, -8.4368, -8.4292, -8.7055, -8.6619, -8.8231, -8.6417, -8.9068, -8.8545, -8.5241, -8.6523, -8.7707, -8.787, -8.701, -8.6119, -8.8103, -8.7748, -8.6931, -8.9057, -8.5956, -8.723, -8.8865, -9.1955, -8.6577, -8.8595, -8.8563, -8.812, -8.9574, -8.9509, -8.7345, -8.9166, -8.5253, -8.6434, -8.6038, -8.779, -8.0461, -8.473, -8.0625, -7.9907, -8.1184, -8.072, -8.117, -8.1421, -8.0721, -8.1553, -8.1412, -8.1608, -8.1518, -8.0597, -8.1592, -8.1266, -8.0954, -8.1362, -8.1323, -8.192, -8.2108, -8.209, -8.1827, -8.1634, -8.1466, -8.1674, -8.2031, -8.1899, -8.1869, -8.1968, -8.189, -8.142, -7.9278, -8.1575, -8.1901, -8.0647, -8.0883, -8.1855, -8.1396, -8.1183, -8.1492, -8.7002, -8.6993, -8.7814, -8.2224, -8.6759, -8.7646, -8.596, -8.7063, -8.4067, -8.7159, -8.5297, -8.7997, -8.7009, -8.8003, -8.694, -8.8553, -8.7895, -8.8466, -8.7864, -8.7373, -8.647, -8.6025, -8.7183, -8.5204, -8.8196, -8.7447, -8.8691, -8.7356, -8.6606, -8.6216, -8.4927, -8.438, -8.6275, -8.5458, -8.597, -8.5859, -8.6655, -7.9825, -8.0752, -8.0918, -8.146, -8.3769, -8.1962, -8.2767, -8.2395, -8.6042, -8.4618, -8.6013, -8.4409, -8.5918, -8.6166, -8.6257, -8.8474, -8.7458, -8.7133, -8.843, -8.6753, -8.9875, -8.4752, -8.8642, -8.7879, -8.5861, -8.6972, -8.4606, -8.7445, -8.8422, -9.0195, -9.0267, -8.8418, -9.0409, -8.8371, -8.6072, -8.7997, -8.7756, -8.7503, -8.8614, -9.0728, -8.9022, -8.8424, -8.8958, -8.9835, -8.814, -8.5982, -8.8552, -8.6615, -8.7486, -8.4896, -8.609, -8.8684, -8.7211, -8.6764, -8.635, -8.5614, -8.7052, -8.6717, -8.3636, -8.3651, -8.6134, -8.0414, -8.3847, -8.0609, -8.0606, -8.3455, -8.0732, -8.0743, -8.0904, -8.0904, -8.4124, -8.1045, -8.1205, -8.4077, -8.4194, -8.3565, -8.4644, -8.1985, -8.4572, -8.2133, -8.1737, -8.4498, -8.2757, -8.461, -8.4672, -8.4748, -8.3537, -8.3755, -8.4624, -8.2449, -8.6022, -8.3171, -8.3894, -8.3258, -8.3946, -8.3718, -8.3993, -8.4051, -8.3567, -8.2037, -8.6863, -8.2384, -8.8908, -8.4105, -8.4759, -8.5324, -8.956, -8.4076, -8.8606, -8.4703, -8.5259, -8.2888, -9.0071, -8.4544, -8.463, -8.3346, -8.4311, -8.9613, -8.5318, -8.4031, -8.4339, -8.3221, -8.529, -8.3756, -7.7843, -7.6529, -7.7701, -7.7878, -7.8049, -7.4495, -7.801, -7.7981, -7.8181, -7.8308, -7.5362, -7.5142, -7.7411, -7.7518, -7.859, -8.2935, -8.0736, -8.3046, -8.3692, -8.7573, -9.0117, -8.7788, -8.6309, -8.6784, -8.7768, -8.726, -8.8611, -8.2869, -8.9167, -8.8496, -8.507, -8.3844, -8.8534, -8.6797, -8.7551, -8.8025, -8.6757, -9.0474, -8.8719, -8.8625, -8.9609, -9.1336, -8.8665, -8.996, -8.7557, -8.7442, -8.9362, -8.9615, -8.8957, -8.7905, -8.4641, -8.7908, -7.8275, -8.5937, -8.863, -8.4416, -8.8431, -8.6199, -8.4879, -8.4872, -8.06, -8.0473, -8.0805, -7.5608, -8.1102, -8.3925, -8.0767, -8.1094, -8.5145, -7.8068, -7.7962, -8.5231, -8.5791, -8.5533, -8.6043, -8.5461, -8.5599, -8.5996, -8.6076, -8.6095, -8.6195, -8.4918, -8.6338, -8.976, -8.8214, -8.5215, -9.0923, -9.1315, -8.8662, -9.107, -8.6941, -8.656, -8.8959, -8.9752, -9.0926, -8.9155, -8.9865, -9.1181, -8.825, -8.7039, -9.038, -9.0985, -8.7321, -8.9715, -9.1041, -8.9886, -8.9766, -8.942, -8.9068, -8.8945, -8.9979, -8.9628, -7.7667, -8.79, -7.9887, -8.5145, -8.8603, -8.7571, -8.1764, -8.2121, -8.1968, -8.2154, -8.2541, -8.692, -8.837, -8.8076, -8.587, -8.8176, -8.7156, -8.4779, -8.8218, -8.7481, -8.7414, -8.5109, -8.5923, -8.6138, -8.646, -8.7224, -8.7593, -8.7962, -8.8211, -9.0066, -8.8526, -8.6759, -9.1502, -8.4603, -8.868, -8.801, -8.8295, -8.8181, -8.403, -8.9419, -8.8064, -8.9127, -9.2231, -8.6395, -9.0878, -9.0221, -8.8342, -8.8683, -8.5029, -8.9455, -8.697, -9.0213, -8.7969, -8.8724, -9.0079, -8.7556, -9.0191, -8.901, -8.8329, -8.6971, -8.8719, -8.7931, -8.8616, -8.7154, -8.7221, -8.6894, -8.615, -8.7789, -8.6951, -8.8054, -8.4338, -8.5532, -8.626, -8.6253, -8.7535, -8.2117, -8.2432, -8.3753, -8.3038, -8.5996, -8.6785, -8.6977, -8.6873, -8.7753, -8.6634, -8.7493, -8.7238, -8.7662, -8.252, -8.2604, -8.2824, -8.274, -8.3339, -8.4459, -8.2783, -8.4756, -8.4274, -8.3059, -8.3971, -8.4788, -8.3501, -8.3533, -8.3642, -8.4125, -8.4267, -8.4123, -8.4756, -8.3163, -8.3577, -8.6234, -8.4107, -8.3079, -8.389, -8.4733, -8.4732, -8.4397, -8.2478, -8.234, -8.3171, -7.6218, -8.3349, -7.7526, -7.7385, -8.2023, -8.2538, -8.3499, -8.3393, -8.3564, -8.2744, -8.3589, -8.3758, -8.3365, -8.3198, -8.3445, -8.3514, -8.3465, -8.3543, -8.8007, -8.8644, -8.4729, -8.5905, -8.8901, -8.6927, -8.8718, -8.8608, -8.8887, -8.3199, -9.2, -9.0353, -8.5754, -8.8707, -8.8165, -8.8687, -9.0435, -8.9571, -8.8318, -8.7887, -8.7599, -9.1431, -8.895, -8.8003, -8.8956, -9.1402, -8.702, -8.7835, -8.915, -8.7639, -8.723, -8.8843, -8.7639, -8.6062, -8.7705, -8.5944, -8.8082, -8.5304, -8.7839, -8.6057, -8.587, -8.7105, -8.6416, -8.7131, -8.5443, -8.6091, -8.3292, -8.793, -8.3628, -8.4302, -8.7698, -8.6411, -8.4728, -8.6061, -8.6133, -8.7001, -8.6389, -8.7469, -8.7186, -8.7626, -8.4143, -8.734, -8.7776, -8.8202, -8.8591, -9.1098, -8.8987, -8.6958, -8.6704, -8.9043, -9.0904, -8.8581, -8.9352, -8.7328, -9.1217, -8.7346, -8.6817, -8.9476, -9.1072, -8.7455, -8.8062, -8.9823, -8.9971, -9.0135, -8.8647, -8.6501, -8.6696, -8.903, -8.7671, -8.687, -8.7298, -8.6444, -8.7468, -8.7037, -8.7838, -8.7579, -8.7334, -8.7802, -8.6615, -8.7305, -8.7112, -8.7312, -8.7773, -8.2528, -8.2754, -8.5389, -8.3194, -8.4102, -8.7286, -8.7441, -8.6058, -8.6402, -8.695, -8.6728, -8.7402, -8.7402, -8.6226, -8.7758, -8.8555, -8.5335, -8.5638, -8.9748, -8.7398, -8.8031, -8.6007, -8.8721, -8.7468, -8.8176, -8.7374, -8.802, -8.7994, -8.8295, -9.0735, -8.9044, -9.1667, -8.9368, -9.0242, -9.1178, -8.9415, -8.9722, -8.9074, -8.9308, -8.5471, -9.3352, -8.7356, -9.0176, -8.6637, -8.7536, -8.7693, -8.7928, -8.7122, -8.6521, -8.7429, -8.7925, -8.8269, -8.814, -8.8044, -8.7087, -8.6154, -8.7039, -8.1008, -8.7676, -8.7853, -8.7521, -8.6975, -8.7572, -8.721, -8.7546, -8.7677, -8.7696, -8.3695, -8.5782, -8.6617, -8.4377, -8.6761, -8.9513, -8.5602, -8.6797, -8.6291, -8.434, -8.5358, -8.5704, -8.6986, -8.8869, -8.6198, -8.9313, -8.7893, -8.8671, -8.7181, -8.7628, -8.8433, -9.0425, -8.6775, -8.5746, -8.737, -8.7701, -8.7695, -8.7324, -8.7947, -8.7551, -8.7006, -8.4764, -8.5603, -8.6028, -8.6976, -8.6816, -8.5826, -8.4061, -8.3793, -8.6501, -8.4495, -8.4821, -8.4646, -8.5223, -7.9545, -8.1854, -8.5241, -8.2382, -8.5306, -8.3288, -8.5426, -8.5616, -8.5696, -8.598, -8.3613, -8.5267, -8.8749, -8.4678, -8.6723, -8.5123, -8.778, -8.868, -8.5462, -9.0778, -8.7284, -8.8618, -8.9219, -9.0606, -9.2776, -9.1088, -8.9095, -8.9781, -8.9925, -8.6094, -8.9827, -8.8574, -8.9509, -8.9182, -8.8512, -8.9863, -9.0235, -9.0336, -9.0183, -8.9041, -8.6459, -8.7709, -8.9249, -8.6756, -8.8648, -8.881, -8.3198, -8.7218, -8.3379, -8.8436, -8.8713, -8.3915, -8.4141, -8.0448, -8.4009, -8.4153, -8.4211, -8.0926, -8.1033, -8.1173, -8.4671, -8.162, -8.4749, -8.4808, -8.161, -8.4444, -8.1882, -8.1845, -8.2008, -8.0718, -8.4961, -8.4932, -8.489, -8.3437, -8.3374, -8.3596, -8.5009, -8.53, -8.6955, -8.6728, -8.9708, -8.7979, -8.5411, -8.6948, -8.7155, -8.9736, -8.7601, -8.8746, -8.7912, -8.601, -8.7334, -8.8169, -8.9507, -8.8998, -8.5494, -9.158, -8.8318, -8.8927, -9.0622, -8.6167, -8.713, -8.8545, -8.8361, -8.7095, -8.9757, -8.9272, -8.7958, -8.7541, -8.8239, -8.8139, -8.8087, -8.7216, -8.0254, -8.6172, -8.7892, -8.6973, -8.4297, -8.7641, -8.8021, -8.7692, -8.5773, -8.7826, -8.8038, -8.7772, -8.6253, -8.652, -8.9029, -8.8507, -8.6437, -8.6363, -8.7436, -8.8801, -9.0707, -8.6989, -8.6559, -8.951, -8.8733, -8.7054, -8.724, -8.8124, -8.7993, -8.9413, -8.7405, -9.1272, -8.8289, -8.9046, -8.8525, -9.0252, -9.1604, -8.6095, -9.2229, -9.0928, -8.6582, -9.1562, -8.6111, -8.973, -8.9415, -8.6674, -8.7824, -8.4475, -8.6954, -8.5922, -8.7281, -8.6634, -8.7378, -8.7703, -8.7694, -8.746, -8.5918, -8.7875, -8.7878, -8.8242, -8.903, -8.8992, -8.8443, -8.7984, -9.0266, -9.2328, -8.7917, -9.0054, -8.8665, -9.0766, -8.7955, -9.1421, -9.0993, -8.7096, -8.9664, -9.1274, -9.2925, -9.1327, -8.7441, -9.0966, -9.0403, -9.139, -8.8241, -8.9164, -9.2129, -9.0526, -8.8029, -8.9068, -9.0988, -9.0789, -8.9879, -8.8608, -8.602, -8.8939, -8.8752, -8.7056, -8.8231, -8.8379, -8.9474, -8.9797, -8.9696, -8.7291, -8.8033, -8.9405, -8.3774, -8.9352, -8.8938, -8.7796, -8.8497, -8.6066, -8.7117, -8.7434, -8.8859, -8.7737, -8.8477, -8.8512, -8.8577, -8.5058, -8.3344, -8.3656, -8.5127, -8.505, -8.6996, -8.351, -8.4019, -8.943, -8.6652, -8.4336, -8.4974, -8.9068, -8.3842, -8.7037, -8.4712, -8.5481, -8.862, -8.3741, -8.4351, -8.5439, -8.6078, -8.6723, -8.9054, -8.8125, -8.8477, -8.8269, -8.518, -8.9282, -8.9241, -8.4662, -8.5933, -8.5054, -8.5426, -8.5263, -8.5128, -8.3728, -8.5532, -8.5214, -8.5409, -8.4523, -8.577, -8.6227, -8.854, -8.5708, -8.8045, -8.782, -8.8543, -8.6645, -8.8513, -8.755, -9.002, -8.6972, -8.7015, -9.0408, -8.785, -8.7542, -9.081, -9.0198, -8.8798, -8.8784, -9.119, -8.8452, -8.8181, -9.0423, -8.9868, -8.6726, -8.9537, -8.9882, -9.2433, -8.8424, -9.0754, -8.9835, -8.7759, -8.8467, -8.5086, -8.7389, -8.809, -8.9039, -8.8007, -8.8861, -8.8738, -8.7387, -8.8253, -8.7231, -8.7999, -8.7135, -8.8112, -8.7205, -8.8157, -8.6767, -8.8269, -8.8381, -8.8341, -8.6418, -8.6025, -8.7188, -8.787, -8.3522, -8.9836, -8.8835, -8.782, -8.8201, -8.8314, -8.8755, -8.9731, -8.8525, -8.8392, -8.8333, -8.9826, -8.895, -8.8876, -8.7263, -8.6876, -8.9611, -8.7212, -8.8319, -8.7097, -8.8959, -9.0083, -8.9164, -8.9829, -9.045, -8.6896, -8.9423, -8.5683, -8.7303, -8.8659, -8.7605, -8.7477, -8.8532, -8.8073, -8.5122, -8.8101, -8.6692, -8.6701, -8.601, -8.7404, -8.7525, -8.7416, -8.7593, -8.7296, -8.8032, -8.8166, -8.789, -8.8087, -8.3989, -8.5711, -8.231, -8.7487, -8.5843, -8.3808, -8.6542, -8.7543, -8.3423, -8.7947, -8.6848, -8.6118, -8.7499, -8.7555, -8.7632, -8.5978, -8.6155, -8.7021, -8.7733, -8.7405, -8.5576, -8.5889, -8.6002, -8.7494, -8.8418, -8.6936, -8.9557, -8.8353, -8.7955, -8.6435, -8.5955, -8.7079, -8.7343, -8.5588, -8.5094, -8.5268, -8.6637, -8.5134, -8.615, -8.6455, -8.6532, -8.6295, -8.6693, -8.6706, -8.6621, -8.6291, -8.5693, -8.5451, -8.6592, -8.4364, -8.6656, -8.8534, -8.8268, -8.6527, -8.7975, -8.4231, -8.6755, -9.0057, -8.6985, -9.1216, -8.9208, -8.9397, -8.7317, -8.702, -9.1512, -8.7974, -8.7654, -8.9618, -8.9397, -8.8793, -9.1119, -8.8793, -8.9722, -9.0136, -8.7303, -9.0399, -8.9766, -9.0466, -8.942, -8.8459, -8.7651, -8.655, -8.7786, -8.7226, -8.7279, -8.7727, -8.725, -8.7539, -8.8516, -8.7963, -8.7988, -8.8356, -8.5122, -8.5446, -8.697, -8.6539, -8.8056, -8.7645, -8.8027, -8.7515], \"loglift\": [30.0, 29.0, 28.0, 27.0, 26.0, 25.0, 24.0, 23.0, 22.0, 21.0, 20.0, 19.0, 18.0, 17.0, 16.0, 15.0, 14.0, 13.0, 12.0, 11.0, 10.0, 9.0, 8.0, 7.0, 6.0, 5.0, 4.0, 3.0, 2.0, 1.0, 2.4675, 2.296, 2.2874, 2.2762, 2.2695, 2.2682, 2.2544, 2.2538, 2.2515, 2.2501, 2.2495, 2.244, 2.2404, 2.237, 2.2369, 2.2334, 2.233, 2.2245, 2.2173, 2.2096, 2.1908, 2.1904, 2.1901, 2.1754, 2.1684, 2.1537, 2.1522, 2.1445, 2.1348, 2.1302, 2.124, 2.1183, 2.1041, 1.979, 2.091, 1.9581, 1.6724, 1.6748, 1.6701, 1.6518, 1.6462, 1.6464, 1.6198, 1.5983, 1.942, 1.9614, 1.9385, 1.9613, 1.9434, 1.4636, 1.8767, 1.9009, 1.8321, 1.8086, 1.8012, 1.0597, 0.9916, 0.9575, 2.4504, 2.3883, 2.2817, 2.271, 2.2646, 2.2576, 2.2295, 2.2281, 2.217, 2.1947, 2.1803, 2.1788, 2.1763, 2.1715, 2.1599, 2.1584, 2.1381, 2.1363, 2.1309, 2.1288, 2.1249, 2.1206, 2.1156, 2.1068, 2.098, 2.0907, 2.0905, 2.0844, 2.0714, 2.071, 2.0666, 2.0131, 1.9876, 1.9565, 1.8729, 1.7831, 1.0449, 1.1259, 1.0942, 1.1141, 1.096, 1.096, 1.0931, 1.0944, 1.0633, 0.8325, 1.6807, 1.008, 1.0002, 0.9587, 1.6282, 1.6239, 1.6826, 1.6301, 1.6211, 1.4505, 2.5145, 2.3545, 2.2834, 2.2761, 2.2368, 2.2257, 2.2055, 2.1953, 2.1425, 2.1396, 2.1291, 2.1233, 2.1225, 2.1222, 2.1178, 2.1128, 2.0956, 2.0885, 2.0869, 2.0859, 2.0787, 2.0729, 2.0651, 2.0461, 2.0442, 2.0396, 2.0341, 2.0291, 2.0238, 2.0197, 2.0169, 2.0111, 2.0109, 1.9934, 1.9892, 1.9593, 2.0167, 1.8273, 1.818, 1.8176, 1.9784, 1.8791, 1.9474, 1.7023, 1.2719, 1.2726, 1.2588, 1.2546, 1.2448, 1.2542, 1.2214, 1.2021, 1.0282, 1.6468, 1.1321, 1.1019, 1.1078, 0.994, 0.975, 0.9617, 0.9696, 0.9934, 0.9175, 1.5081, 1.4413, 1.3394, 1.6521, 1.5976, 2.8808, 2.8037, 2.785, 2.7461, 2.7359, 2.7326, 2.7241, 2.7202, 2.7182, 2.707, 2.6814, 2.6735, 2.6732, 2.6626, 2.6486, 2.6442, 2.641, 2.6397, 2.6356, 2.6337, 2.6231, 2.6231, 2.6191, 2.6149, 2.5983, 2.5878, 2.5718, 2.5687, 2.5573, 2.5477, 2.5367, 2.5293, 2.5183, 2.5427, 2.5147, 2.5049, 2.5169, 2.4901, 2.5375, 2.4735, 2.4129, 2.4172, 2.4667, 2.313, 2.2829, 2.2697, 2.373, 2.4238, 2.3676, 2.3607, 2.3522, 2.3232, 2.3096, 2.2756, 2.2747, 2.2687, 2.2603, 2.2463, 2.2343, 2.2334, 2.2134, 2.1945, 2.1898, 2.1788, 2.1724, 2.169, 2.1652, 2.163, 2.155, 2.1447, 2.1377, 2.1359, 2.1307, 2.1306, 2.1304, 2.1196, 2.1146, 2.1097, 2.1024, 2.0959, 2.1009, 2.0628, 1.8452, 1.8057, 1.7512, 1.7317, 1.7089, 1.7344, 1.6914, 1.7116, 1.0703, 1.6261, 1.7419, 1.7306, 1.6646, 0.9999, 0.9487, 0.9263, 1.6869, 0.9326, 0.9323, 0.7831, 0.9075, 0.9052, 1.6772, 1.6322, 1.5168, 1.5106, 1.5129, 1.6607, 1.4849, 1.3587, 0.9183, 0.9534, 0.8984, 1.4013, 2.3048, 2.2331, 2.1709, 2.1698, 2.1683, 2.1453, 2.128, 2.1171, 2.104, 2.0985, 2.097, 2.0911, 2.0889, 2.0731, 2.0714, 2.0702, 2.0668, 2.0646, 2.064, 2.0625, 2.0618, 2.0594, 2.0582, 2.0579, 2.057, 2.0552, 2.0463, 2.0451, 2.0437, 2.0375, 2.0235, 2.0198, 2.0009, 1.9004, 1.8725, 1.8699, 1.8576, 1.839, 1.8297, 1.8313, 1.8198, 1.8144, 1.7972, 1.8042, 1.8003, 1.7109, 1.643, 1.5869, 1.9472, 1.9597, 1.8164, 0.901, 0.8771, 0.8592, 1.8341, 0.8289, 1.2514, 0.7649, 0.7625, 0.7241, 0.7408, 0.731, 0.0028, 0.0293, 0.0021, 0.0234, -0.0119, 2.4245, 2.3688, 2.3294, 2.2714, 2.2621, 2.2188, 2.21, 2.2037, 2.1931, 2.191, 2.1823, 2.1788, 2.1772, 2.1697, 2.1599, 2.1479, 2.1427, 2.139, 2.1161, 2.1098, 2.1067, 2.106, 2.1016, 2.1005, 2.09, 2.0883, 2.0718, 2.0687, 2.0639, 2.0583, 2.0536, 2.0031, 1.9784, 1.9684, 1.9525, 1.9318, 1.9098, 2.0341, 1.819, 1.2214, 1.8284, 1.9629, 1.9024, 1.9847, 1.9438, 1.002, 0.9535, 0.9623, 0.9213, 0.9202, 1.4443, 0.846, 0.8286, 0.8701, 0.857, 1.3244, 1.2928, 0.1966, 1.8189, 1.263, 1.5654, 0.1838, 0.0764, -0.1619, 0.2158, 0.2143, -0.0217, 2.3629, 2.3063, 2.2921, 2.2434, 2.1884, 2.1823, 2.1731, 2.1727, 2.163, 2.1609, 2.1586, 2.1545, 2.1474, 2.1435, 2.1238, 2.1196, 2.1073, 2.1065, 2.1052, 2.0963, 2.0923, 2.0914, 2.0762, 2.0757, 2.0748, 2.0703, 2.0578, 2.0575, 2.0536, 2.0505, 2.0504, 2.0158, 2.0003, 2.0228, 1.9721, 1.9864, 2.0139, 2.0135, 1.8985, 2.0351, 1.9714, 1.9042, 1.3425, 1.6659, 1.6381, 1.491, 1.6398, 1.4734, 1.4698, 0.9686, 1.8203, 0.9553, 0.9335, 1.5646, 1.5469, 1.5739, 1.5366, 1.5303, 1.3525, 1.5247, 1.5313, 1.5273, 1.4257, 1.2575, 1.5567, 1.5198, 0.958, 2.4235, 2.4223, 2.3823, 2.3357, 2.3236, 2.3235, 2.3175, 2.3077, 2.2984, 2.2691, 2.2638, 2.2599, 2.2593, 2.2585, 2.2358, 2.2276, 2.2155, 2.2093, 2.1979, 2.1977, 2.1972, 2.1921, 2.1893, 2.1876, 2.1858, 2.183, 2.1794, 2.1732, 2.1722, 2.1671, 2.1378, 2.1065, 2.1004, 2.0394, 2.0226, 2.024, 2.0185, 2.0078, 2.0362, 1.9919, 1.9899, 2.0367, 1.9532, 1.9254, 1.9631, 1.9031, 1.9708, 1.9944, 1.5385, 1.5086, 1.9134, 1.479, 1.9023, 1.8947, 1.8967, 1.939, 1.8635, 1.8868, 1.8231, 1.8305, 1.8536, 1.8111, 1.7338, 0.4477, 2.5983, 2.5126, 2.4902, 2.4189, 2.3738, 2.3392, 2.3321, 2.3305, 2.3167, 2.3099, 2.2841, 2.2717, 2.2362, 2.2255, 2.2216, 2.2181, 2.212, 2.1971, 2.1817, 2.1759, 2.1667, 2.1644, 2.1618, 2.1597, 2.1583, 2.1538, 2.1513, 2.1485, 2.1482, 2.142, 2.1226, 2.117, 2.1043, 2.0874, 2.0997, 2.082, 2.0514, 2.0997, 2.0419, 2.0377, 2.019, 2.0238, 2.0121, 2.0011, 1.8404, 1.8963, 1.6501, 1.1659, 1.1769, 1.1444, 1.1526, 1.1535, 1.1454, 1.0997, 1.0934, 0.9209, 1.7712, 1.8918, 1.7856, 1.968, 1.1242, 1.1238, 1.9859, 1.1029, 2.4626, 2.4527, 2.45, 2.4364, 2.4086, 2.4061, 2.3682, 2.3604, 2.3593, 2.3444, 2.3344, 2.3035, 2.295, 2.2949, 2.2799, 2.2791, 2.2769, 2.271, 2.2655, 2.242, 2.2345, 2.2334, 2.231, 2.227, 2.223, 2.2199, 2.2166, 2.2042, 2.1954, 2.1872, 2.185, 2.173, 2.1649, 2.1613, 2.1613, 2.1586, 2.1539, 2.1435, 2.1352, 2.1124, 2.1096, 2.1015, 2.0992, 2.0844, 2.0744, 2.0549, 1.9684, 1.9546, 1.9351, 1.9135, 1.9157, 1.8823, 1.8889, 1.8964, 1.8693, 1.8252, 1.2396, 1.2248, 1.1944, 1.8255, 2.5082, 2.4576, 2.452, 2.4012, 2.3869, 2.3865, 2.3828, 2.3825, 2.3822, 2.3741, 2.3709, 2.3665, 2.3661, 2.344, 2.3391, 2.3336, 2.3333, 2.3315, 2.3304, 2.3229, 2.3209, 2.3111, 2.309, 2.3057, 2.3015, 2.2853, 2.2794, 2.279, 2.2787, 2.2755, 2.2729, 2.2709, 2.2587, 2.2556, 2.2282, 2.2084, 2.1871, 1.9083, 1.8923, 1.8622, 1.8091, 1.8301, 1.7992, 1.8013, 1.838, 1.4118, 1.3926, 1.8223, 1.768, 1.3386, 1.3144, 1.8004, 1.3448, 1.3151, 1.2868, 1.7566, 1.2642, 1.2705, 1.7588, 1.6795, 1.7152, 1.6985, 0.7889, 0.7784, 0.6675, 0.3274, 2.3883, 2.3286, 2.2559, 2.2363, 2.2179, 2.1943, 2.1645, 2.1529, 2.1483, 2.1443, 2.12, 2.1091, 2.1081, 2.1072, 2.1035, 2.0919, 2.0831, 2.0824, 2.0797, 2.0725, 2.0674, 2.0642, 2.0544, 2.0507, 2.0476, 2.0343, 2.0316, 2.0295, 2.0291, 2.0251, 2.0216, 2.0154, 1.969, 1.897, 1.9774, 1.9126, 1.85, 1.8158, 1.8547, 1.025, 0.9765, 0.9683, 1.201, 0.4611, 1.8204, 1.1493, 1.3925, 1.0, 1.8021, 1.6424, 0.3721, 0.8816, 0.0349, 0.8514, -0.0044, 1.0292, 1.2435, 1.0145, 0.935, 0.975, 2.3225, 2.322, 2.2824, 2.2734, 2.2527, 2.2516, 2.1937, 2.1827, 2.1812, 2.1734, 2.1722, 2.1711, 2.1663, 2.1602, 2.1582, 2.1532, 2.1314, 2.1309, 2.1299, 2.1293, 2.1293, 2.1266, 2.1224, 2.1202, 2.113, 2.1113, 2.1112, 2.1084, 2.1061, 2.0999, 2.082, 2.0879, 2.074, 2.0832, 1.8898, 2.0752, 2.0443, 1.9259, 2.0853, 1.7327, 1.6358, 2.0152, 1.6213, 1.8391, 1.517, 1.5293, 1.5515, 1.5602, 1.5304, 0.8799, 1.5158, 1.4751, 1.5144, 1.4648, 0.9128, 1.4898, 1.4445, 1.4193, 1.4224, 0.8555, 0.8034, 0.8056, 0.7748, 0.8167, 0.7566, 0.7651, 0.7388, 0.44, 0.4041, 2.3915, 2.3521, 2.3265, 2.3251, 2.3195, 2.3177, 2.3001, 2.2936, 2.2936, 2.2917, 2.2908, 2.2804, 2.2786, 2.2726, 2.2564, 2.2474, 2.2464, 2.2456, 2.2232, 2.2217, 2.217, 2.2144, 2.2114, 2.2114, 2.2102, 2.2097, 2.2075, 2.2075, 2.2058, 2.2058, 2.1898, 2.1194, 2.1796, 2.1901, 2.1478, 2.1805, 2.1109, 2.1556, 2.1306, 2.081, 2.0794, 2.125, 1.9928, 2.0453, 2.1454, 1.6698, 1.7822, 0.7017, 0.6211, 0.6674, 1.7459, 1.9699, 1.8598, 1.9547, 1.9256, 1.9556, 0.9572, 0.0536, 1.7382, 0.8582, 0.9586, 1.6077, 2.3578, 2.2852, 2.2694, 2.2452, 2.2416, 2.2406, 2.2283, 2.2132, 2.1912, 2.1892, 2.1827, 2.1622, 2.1528, 2.1414, 2.122, 2.1179, 2.1174, 2.0984, 2.0954, 2.0918, 2.0896, 2.0864, 2.0853, 2.0801, 2.0795, 2.0737, 2.0723, 2.0662, 2.0617, 2.0529, 2.0525, 2.0311, 2.023, 2.0144, 2.0329, 2.0048, 1.8917, 1.901, 2.0026, 1.5781, 1.9699, 0.8891, 1.5701, 0.8997, 0.709, 1.4351, 1.4502, 0.6371, 0.8649, 0.8356, 0.6494, 1.362, 0.7921, 0.807, 0.8186, 0.7721, 0.7296, 0.7231, 1.4666, 1.332, 0.9105, 1.3738, 1.2355, 0.6841, 1.379, 1.313, 1.3321, 1.2602, 1.2699, 1.272, 2.3439, 2.2877, 2.2799, 2.2328, 2.2266, 2.2204, 2.2115, 2.2028, 2.1988, 2.1942, 2.189, 2.1468, 2.1403, 2.1327, 2.1301, 2.1275, 2.1219, 2.1123, 2.1109, 2.1056, 2.1048, 2.1007, 2.0993, 2.0948, 2.0939, 2.0925, 2.0874, 2.0816, 2.0806, 2.0763, 2.0624, 2.0522, 2.035, 2.0126, 2.0003, 1.9745, 1.9753, 1.9624, 1.957, 1.9613, 1.913, 1.9097, 1.8838, 1.891, 2.0353, 1.8577, 1.1931, 2.0194, 2.0007, 1.9418, 0.8626, 0.8547, 0.7849, 0.8051, 0.7869, 0.7589, 0.7748, 0.6679, 0.3986, 1.4261, 1.3383, -0.0464, 2.2966, 2.2958, 2.2923, 2.2868, 2.2847, 2.2797, 2.2341, 2.2088, 2.2009, 2.1968, 2.1955, 2.194, 2.1934, 2.1918, 2.1876, 2.1807, 2.1771, 2.1743, 2.1607, 2.1277, 2.1277, 2.1241, 2.1201, 2.1188, 2.1184, 2.1135, 2.1103, 2.1076, 2.1051, 2.1007, 2.099, 2.0839, 2.0778, 2.0836, 2.0406, 2.0448, 1.8732, 1.7133, 1.6575, 1.6424, 1.8514, 1.7873, 2.0182, 1.7969, 1.7474, 1.6651, 0.3889, 1.1982, 0.4411, 1.4494, 0.3886, 0.4477, 1.5378, 1.2248, 1.1126, 0.2193, 1.027, -0.0259, 2.3704, 2.3507, 2.3103, 2.2865, 2.2548, 2.2355, 2.2192, 2.2184, 2.204, 2.1969, 2.1933, 2.1916, 2.1899, 2.1744, 2.17, 2.1674, 2.1653, 2.1488, 2.1405, 2.1373, 2.1241, 2.1212, 2.1086, 2.1068, 2.1017, 2.0896, 2.0892, 2.0848, 2.0811, 2.0798, 2.0791, 2.0092, 2.0271, 2.0552, 2.0111, 2.0612, 1.9825, 1.9956, 1.9867, 1.9342, 1.9388, 1.4916, 1.9297, 1.8534, 1.855, 1.3015, 1.3487, 1.2461, 0.5383, 0.482, 0.4924, 1.81, 1.2176, 1.2716, 1.2047, 1.138, 0.0829, 1.1267, 0.7733, 1.1432, 1.0341, 1.0706, 1.0219, 1.2574, 2.4647, 2.3973, 2.3745, 2.3673, 2.3598, 2.3551, 2.3328, 2.3276, 2.3185, 2.3141, 2.3036, 2.2872, 2.2872, 2.2852, 2.2772, 2.2678, 2.2647, 2.2558, 2.2553, 2.2485, 2.2472, 2.2427, 2.2389, 2.2387, 2.2373, 2.2367, 2.2222, 2.2077, 2.2053, 2.2048, 2.2043, 2.2003, 2.1619, 2.1508, 2.1675, 2.1322, 2.1676, 2.1749, 2.124, 2.1833, 2.1638, 2.1329, 2.1264, 1.1682, 1.1903, 1.1441, 1.1459, 1.1402, 1.1634, 1.2862, 1.2319, 0.3791, 1.2289, 1.2169, 1.2303, 1.1913, 1.2163, 1.1883, 1.1901, 2.4944, 2.4261, 2.4156, 2.4084, 2.3634, 2.3606, 2.3476, 2.3236, 2.3181, 2.3135, 2.3047, 2.3011, 2.2965, 2.2888, 2.2866, 2.2809, 2.2782, 2.2781, 2.2641, 2.2547, 2.2529, 2.2492, 2.2473, 2.2376, 2.2334, 2.2221, 2.2214, 2.2165, 2.2015, 2.1999, 2.1934, 2.1632, 2.1641, 2.1122, 2.114, 2.0304, 2.0145, 2.0761, 2.1562, 2.0146, 2.0208, 2.078, 1.8101, 1.6907, 1.9646, 1.3973, 1.5472, 1.5559, 1.52, 1.6187, 0.8631, 0.4381, 0.8948, 1.3803, 0.8018, 1.4894, 1.1445, 1.4275, 1.3991, 1.5056, 1.329, 1.2863, 1.2604, 1.4716, 1.4079, 2.5003, 2.3265, 2.2694, 2.2526, 2.2526, 2.2492, 2.2322, 2.229, 2.2284, 2.2189, 2.2129, 2.2094, 2.2024, 2.1989, 2.1978, 2.1924, 2.1904, 2.1888, 2.1866, 2.1856, 2.1805, 2.1791, 2.1749, 2.1735, 2.159, 2.155, 2.1549, 2.1529, 2.1381, 2.1356, 2.13, 2.133, 2.1011, 2.1077, 2.068, 2.0551, 1.9261, 1.9665, 1.9149, 1.865, 1.2409, 2.0162, 1.9382, 1.9555, 1.096, 0.8996, 1.407, 0.3806, 0.3748, 0.36, 1.2109, 1.2748, -0.1644, 1.0829, -0.0672, 0.485, 2.6618, 2.6087, 2.5447, 2.4998, 2.4647, 2.4516, 2.4342, 2.4156, 2.389, 2.3512, 2.3449, 2.3347, 2.3336, 2.3283, 2.3004, 2.2899, 2.2818, 2.2699, 2.2653, 2.2528, 2.2474, 2.2295, 2.2276, 2.2164, 2.2146, 2.2129, 2.1859, 2.1839, 2.1815, 2.1789, 2.1531, 2.1404, 2.1498, 2.1423, 2.0648, 2.0664, 2.0263, 2.058, 1.9486, 2.0484, 2.0738, 1.9893, 1.989, 2.0422, 0.6548, 0.6471, 0.5947, 1.6836, 0.5716, 0.5712, 0.5858, 0.5166, 0.559, 0.5197, 0.3087, 1.8556, 1.885, 1.164, 1.1341, 1.065, 2.404, 2.3997, 2.3944, 2.379, 2.3401, 2.3295, 2.3245, 2.3023, 2.2933, 2.2879, 2.283, 2.2769, 2.2752, 2.2616, 2.2587, 2.2559, 2.2483, 2.2396, 2.2355, 2.2219, 2.2212, 2.2009, 2.1981, 2.1952, 2.1885, 2.1878, 2.1784, 2.1744, 2.1711, 2.1709, 2.1614, 2.1599, 2.1559, 2.1553, 2.0767, 2.1139, 2.0263, 2.1399, 2.1603, 2.1352, 1.9111, 1.8177, 1.8097, 2.0379, 2.0888, 1.6531, 1.5568, 1.5211, 1.5962, 1.606, 1.5735, 1.5675, 1.5862, 1.5428, 1.5802, 1.5374, 1.587, 1.5669, 1.5673, 0.5098, 1.4836, 1.4987, 1.493, 1.4495, 1.4842, 1.504, 1.4638, 1.5085, 1.4984, 1.412, 0.227, 2.4588, 2.4158, 2.402, 2.3989, 2.3698, 2.3319, 2.3266, 2.3265, 2.3246, 2.3067, 2.2939, 2.2886, 2.2771, 2.2742, 2.274, 2.2602, 2.2597, 2.2514, 2.2462, 2.2274, 2.2251, 2.1996, 2.1982, 2.1968, 2.1934, 2.1885, 2.1854, 2.1844, 2.1707, 2.1595, 2.1253, 2.1555, 1.9263, 2.0448, 1.8929, 1.8582, 1.8984, 1.8372, 1.8518, 1.8558, 1.8094, 1.8531, 1.8141, 1.8248, 1.8182, 1.7387, 1.8105, 1.7854, 1.737, 1.77, 1.7606, 1.8053, 1.8179, 1.8068, 1.7803, 1.7495, 1.7195, 1.7329, 1.7782, 1.749, 1.7438, 1.7423, 1.7226, 1.6295, 0.8954, 1.6142, 1.718, 0.8051, 0.7739, 1.6577, 2.6849, 2.6331, 2.5294, 2.4904, 2.446, 2.4326, 2.4185, 2.4162, 2.4109, 2.4048, 2.4037, 2.3926, 2.3882, 2.383, 2.3668, 2.3531, 2.3392, 2.3328, 2.3268, 2.3231, 2.3213, 2.3056, 2.3, 2.2915, 2.2762, 2.2709, 2.2485, 2.2475, 2.246, 2.2419, 2.2255, 2.2007, 2.158, 2.0309, 1.8964, 2.1053, 1.9821, 2.0165, 1.9867, 2.1199, 0.6738, 0.6551, 0.6335, 0.7238, 1.2853, 0.6269, 0.5854, 0.2831, 1.9358, 1.1969, 1.8214, -0.1329, 0.9269, 1.0977, 1.3674, 2.5018, 2.4071, 2.3666, 2.3172, 2.3155, 2.2928, 2.2882, 2.2874, 2.274, 2.273, 2.2712, 2.2513, 2.2485, 2.2331, 2.2239, 2.2165, 2.2123, 2.2092, 2.2065, 2.2064, 2.2062, 2.194, 2.1904, 2.185, 2.1832, 2.181, 2.1776, 2.1758, 2.1705, 2.1693, 2.1591, 2.163, 2.1421, 2.1388, 2.0715, 2.0384, 2.1618, 2.0731, 2.0362, 1.9929, 1.9235, 2.049, 2.0036, 1.5483, 1.5351, 1.8868, 0.9873, 1.5245, 0.9104, 0.9093, 1.4147, 0.9294, 0.9189, 0.9221, 0.8685, 1.4971, 0.8355, 0.8564, 1.4411, 1.4611, 1.3021, 1.5513, 0.6636, 1.4819, 0.6565, 0.4826, 1.4458, 0.5475, 1.4205, 1.439, 1.4804, 0.3716, 0.1664, 1.2808, 2.5398, 2.478, 2.3827, 2.3644, 2.3511, 2.337, 2.3275, 2.2949, 2.2866, 2.2843, 2.2447, 2.2345, 2.222, 2.2169, 2.2117, 2.2036, 2.1658, 2.1579, 2.1522, 2.151, 2.1482, 2.1477, 2.1461, 2.1447, 2.1442, 2.1397, 2.1361, 2.1327, 2.1211, 2.1127, 2.1075, 2.0668, 2.0365, 2.0739, 2.0288, 1.8339, 1.7879, 1.8166, 1.8216, 1.828, 1.6362, 1.7952, 1.7701, 1.777, 1.7809, 1.5966, 1.5677, 1.6471, 1.6447, 1.7211, 1.9498, 0.449, 1.4193, 1.9094, 2.4976, 2.3878, 2.3808, 2.3504, 2.3495, 2.3289, 2.3051, 2.2984, 2.2888, 2.2872, 2.2795, 2.2791, 2.261, 2.2555, 2.2386, 2.2231, 2.2224, 2.2207, 2.1952, 2.1894, 2.1848, 2.1841, 2.1717, 2.1684, 2.1678, 2.1677, 2.166, 2.1624, 2.1533, 2.1529, 2.1517, 2.1467, 2.1456, 2.0224, 2.0985, 2.1474, 2.0138, 2.1396, 2.0206, 1.9467, 1.9409, 1.6676, 1.6137, 1.6126, 1.1646, 1.5858, 1.832, 1.5373, 1.5115, 1.9018, 0.9236, 0.8601, 1.7875, 1.884, 1.8109, 1.8328, 1.5919, 1.6021, 1.7991, 1.8021, 1.7622, 1.7149, 2.3815, 2.3161, 2.292, 2.2817, 2.2273, 2.2171, 2.2146, 2.2016, 2.199, 2.1837, 2.1749, 2.1733, 2.1719, 2.1688, 2.1609, 2.1586, 2.157, 2.1459, 2.1433, 2.1381, 2.1362, 2.1269, 2.1227, 2.1203, 2.1153, 2.1101, 2.1065, 2.1048, 2.1048, 2.0959, 2.0883, 1.7894, 2.0411, 1.7362, 1.9087, 2.0455, 1.985, 1.6205, 1.6376, 1.6054, 1.5959, 1.595, 1.8893, 2.0072, 1.9765, 1.7099, 1.9539, 1.742, 1.2252, 1.9383, 1.7571, 1.6291, 0.3512, 0.2776, 0.2094, 0.3501, 0.3595, 1.035, 0.6017, 2.4129, 2.3729, 2.3674, 2.35, 2.322, 2.2962, 2.254, 2.2389, 2.2378, 2.2298, 2.2183, 2.2049, 2.1973, 2.1971, 2.1877, 2.1786, 2.1777, 2.1752, 2.1711, 2.1699, 2.1568, 2.1525, 2.1502, 2.1444, 2.1417, 2.1301, 2.1272, 2.1252, 2.12, 2.1142, 2.1097, 2.0879, 2.1021, 2.048, 2.077, 1.997, 1.9967, 1.9757, 1.8998, 2.0102, 1.9342, 2.0318, 1.5346, 1.6871, 1.7493, 1.6445, 1.9118, 0.5137, 0.4872, 0.6207, 0.3525, 1.1409, 1.0793, 1.1561, 1.0158, 1.7968, -0.1408, 1.3887, 0.565, 1.0953, 2.8288, 2.7955, 2.755, 2.7494, 2.7119, 2.7075, 2.6973, 2.6825, 2.6724, 2.6571, 2.6495, 2.6427, 2.6401, 2.6315, 2.6224, 2.6218, 2.6071, 2.5921, 2.5838, 2.5813, 2.5798, 2.5711, 2.5691, 2.5628, 2.5588, 2.5502, 2.5414, 2.5324, 2.5285, 2.5277, 2.5189, 2.1187, 2.4597, 2.0052, 1.9646, 2.2656, 2.2672, 2.4002, 2.3708, 2.4045, 1.9901, 2.3344, 2.4126, 2.0339, 1.534, 1.9159, 1.9733, 1.5851, 1.8568, 2.5669, 2.4814, 2.4556, 2.3977, 2.3901, 2.3365, 2.3018, 2.3009, 2.2972, 2.2939, 2.2938, 2.2929, 2.2842, 2.2745, 2.2736, 2.2724, 2.2694, 2.2684, 2.2645, 2.2537, 2.2529, 2.2472, 2.239, 2.2303, 2.223, 2.2164, 2.2145, 2.2096, 2.208, 2.2016, 2.196, 2.2011, 2.1779, 2.1316, 2.1723, 2.1022, 2.1821, 2.0385, 2.1611, 2.0129, 1.9971, 2.0554, 1.9473, 2.0364, 1.7219, 1.6966, 0.5406, 2.1262, 0.4993, 0.393, 2.018, 1.2803, 0.1835, 0.39, 0.1171, 1.0618, 0.0864, 1.7189, 0.8647, 0.3193, 2.4059, 2.3415, 2.3298, 2.3253, 2.3181, 2.3147, 2.3123, 2.3093, 2.3039, 2.2967, 2.2932, 2.2761, 2.2739, 2.2666, 2.2666, 2.2659, 2.2648, 2.2644, 2.2449, 2.2344, 2.2283, 2.2155, 2.2112, 2.2107, 2.2094, 2.2046, 2.2042, 2.204, 2.2027, 2.1952, 2.1922, 2.1789, 2.1732, 2.1648, 2.1759, 2.1574, 2.1324, 2.1438, 2.0605, 2.0882, 2.0267, 2.0424, 2.1035, 0.617, 0.5478, 1.3111, 0.5427, 0.5859, 1.8983, 1.9489, 1.0519, 1.0677, 1.4685, 1.0867, 1.7573, 1.3046, 2.3366, 2.3274, 2.2871, 2.2766, 2.2592, 2.2585, 2.2557, 2.2555, 2.2491, 2.2466, 2.2441, 2.2105, 2.205, 2.2039, 2.1947, 2.1759, 2.1725, 2.1644, 2.152, 2.1476, 2.1405, 2.1403, 2.1394, 2.1372, 2.135, 2.1334, 2.1318, 2.1306, 2.1263, 2.1149, 2.1064, 2.1073, 2.0885, 2.0823, 2.0447, 2.0193, 2.0468, 2.0342, 2.0558, 2.0263, 2.0121, 1.8394, 1.6697, 1.797, 0.4218, 1.915, 1.8827, 1.5621, 1.0429, 1.5092, 0.965, 1.4221, 1.0716, 1.1604, 2.5205, 2.5053, 2.4873, 2.4168, 2.3772, 2.3692, 2.3649, 2.3381, 2.3163, 2.3074, 2.306, 2.2922, 2.2821, 2.2582, 2.2531, 2.2301, 2.2289, 2.2218, 2.2212, 2.2186, 2.2162, 2.2158, 2.2114, 2.2092, 2.2088, 2.2072, 2.191, 2.1896, 2.1689, 2.1668, 2.1617, 2.1234, 2.1349, 2.0939, 2.1278, 2.1038, 2.0288, 1.851, 1.8179, 2.0528, 1.7929, 1.8216, 1.7371, 1.7947, 0.5681, 0.9474, 1.7145, 0.8475, 1.5945, 0.753, 1.1666, 1.0251, 0.8186, 0.7986, 2.5221, 2.4893, 2.3581, 2.3252, 2.3239, 2.2861, 2.2399, 2.2197, 2.2055, 2.1866, 2.1862, 2.1816, 2.1661, 2.1613, 2.1437, 2.1318, 2.1224, 2.1155, 2.1129, 2.1117, 2.1039, 2.0913, 2.0897, 2.0896, 2.0895, 2.077, 2.0733, 2.0629, 2.0615, 2.0574, 2.0166, 2.0277, 2.0409, 1.9402, 2.0127, 2.0145, 1.4954, 1.8527, 1.4669, 1.9621, 1.9891, 1.4891, 1.4622, 0.9484, 1.3877, 1.4058, 1.3751, 0.8474, 0.8556, 0.854, 1.3973, 0.8667, 1.406, 1.4158, 0.8159, 1.3479, 0.8144, 0.7854, 0.8118, 0.4508, 1.3725, 1.3395, 1.3012, 0.3867, 0.3188, 0.3658, 1.2424, 2.6321, 2.4469, 2.4416, 2.3643, 2.3596, 2.3565, 2.3444, 2.3376, 2.3374, 2.3231, 2.2969, 2.2959, 2.2951, 2.2907, 2.2864, 2.2857, 2.2788, 2.2703, 2.2657, 2.2646, 2.2545, 2.2502, 2.2497, 2.2465, 2.2328, 2.2324, 2.2197, 2.2189, 2.2107, 2.2067, 2.2022, 2.2042, 2.1822, 2.1748, 2.1379, 1.7266, 2.0339, 2.1581, 2.0591, 1.6827, 2.0679, 2.0852, 1.8646, 0.3626, 1.8215, 1.9109, 0.8986, 2.4695, 2.4223, 2.3764, 2.3615, 2.3361, 2.336, 2.3221, 2.2969, 2.2836, 2.2743, 2.2711, 2.2545, 2.2496, 2.2439, 2.2331, 2.231, 2.2288, 2.2095, 2.19, 2.1821, 2.1815, 2.1677, 2.1675, 2.1593, 2.1527, 2.1449, 2.1435, 2.116, 2.1107, 2.1097, 2.1085, 2.1059, 2.091, 2.0144, 2.0406, 1.9202, 2.0014, 1.9467, 1.9919, 1.8821, 1.9573, 1.9724, 1.8736, 1.7631, 1.0941, 1.9015, 1.8184, 1.9082, 2.4416, 2.3603, 2.3593, 2.2509, 2.2467, 2.2375, 2.2209, 2.216, 2.2059, 2.2043, 2.1942, 2.184, 2.1821, 2.1794, 2.1789, 2.1775, 2.1759, 2.1752, 2.1567, 2.156, 2.1559, 2.1521, 2.1478, 2.1419, 2.1365, 2.1356, 2.1327, 2.1289, 2.1271, 2.1264, 2.119, 2.1073, 2.0845, 2.0993, 2.0905, 2.0252, 2.0603, 2.0627, 2.0997, 2.1025, 2.0902, 1.9369, 1.9669, 2.0568, 1.2875, 2.0381, 1.9344, 1.6861, 1.8129, 0.9588, 1.0647, 0.3894, 1.6147, 0.312, 0.962, 0.9148, 0.895, 2.8395, 2.8155, 2.8019, 2.6937, 2.6091, 2.5958, 2.59, 2.554, 2.5283, 2.5275, 2.5263, 2.5149, 2.5053, 2.4952, 2.4899, 2.479, 2.47, 2.4306, 2.4166, 2.4149, 2.408, 2.406, 2.4055, 2.4013, 2.4007, 2.3886, 2.3785, 2.3648, 2.3621, 2.3552, 2.3429, 2.3406, 2.3248, 2.3073, 2.2986, 2.2286, 2.1325, 2.2404, 2.1957, 2.1688, 1.9685, 2.1873, 2.1935, 2.5955, 2.4368, 2.4164, 2.3368, 2.3323, 2.3309, 2.2878, 2.2875, 2.2847, 2.275, 2.2692, 2.2681, 2.2402, 2.2395, 2.2305, 2.2221, 2.2071, 2.2047, 2.2033, 2.2015, 2.2, 2.1987, 2.1882, 2.1717, 2.1711, 2.1693, 2.1687, 2.1679, 2.1661, 2.1604, 2.1395, 2.1377, 2.079, 2.0457, 2.0564, 2.1131, 2.0419, 2.094, 2.0794, 1.9274, 1.9922, 1.7956, 1.9254, 1.6189, 1.8707, 1.393, 1.723, 0.3194, 1.8042, 1.9017, 1.0958, 2.5089, 2.4514, 2.4257, 2.3774, 2.3719, 2.352, 2.3066, 2.2996, 2.2983, 2.2924, 2.2894, 2.2867, 2.2784, 2.2714, 2.2665, 2.2648, 2.2504, 2.2485, 2.2484, 2.2484, 2.2352, 2.2301, 2.228, 2.2225, 2.2168, 2.2088, 2.2065, 2.2033, 2.2016, 2.1973, 2.1971, 2.1285, 2.1367, 2.1714, 2.1315, 2.118, 2.1645, 2.1231, 1.8604, 2.1221, 1.9738, 1.8688, 1.682, 1.9522, 1.918, 1.8667, 1.8337, 1.6183, 1.8879, 1.9977, 1.4562, 1.4621, 2.7034, 2.665, 2.6406, 2.6072, 2.5542, 2.5526, 2.5362, 2.5017, 2.4722, 2.4615, 2.4556, 2.4442, 2.4368, 2.4263, 2.4254, 2.4026, 2.3992, 2.3983, 2.3872, 2.385, 2.3615, 2.3484, 2.3461, 2.3453, 2.3348, 2.33, 2.3228, 2.3212, 2.3166, 2.3142, 2.2995, 2.2948, 2.2849, 2.1892, 2.1167, 2.0848, 2.2169, 1.9773, 2.1283, 2.1466, 2.155, 2.0238, 2.1458, 2.1473, 1.9613, 1.5692, 0.4268, -0.2371, 0.8149, 2.5973, 2.387, 2.3731, 2.3272, 2.2878, 2.2607, 2.2594, 2.2522, 2.2503, 2.2474, 2.2325, 2.2303, 2.2123, 2.2049, 2.2049, 2.1944, 2.1908, 2.1896, 2.1776, 2.1728, 2.1624, 2.1582, 2.1521, 2.1497, 2.1451, 2.1329, 2.1284, 2.1271, 2.1269, 2.1153, 2.1135, 2.1089, 2.0997, 2.1, 2.0764, 2.0765, 2.0848, 2.0583, 2.0646, 2.0789, 2.0022, 1.9806, 2.0011, 1.2992, 1.3045, 1.6355, 0.9435, 1.8174, 1.3891, 1.7037, 0.8046]}, \"token.table\": {\"Topic\": [1, 15, 17, 15, 1, 35, 30, 1, 17, 2, 19, 40, 4, 33, 33, 9, 6, 9, 23, 28, 2, 3, 6, 9, 15, 16, 21, 31, 36, 3, 8, 31, 3, 31, 3, 3, 3, 31, 2, 3, 31, 3, 31, 2, 3, 4, 6, 8, 9, 10, 11, 13, 14, 19, 20, 30, 35, 39, 2, 9, 19, 39, 8, 36, 30, 3, 17, 1, 4, 13, 16, 17, 21, 1, 4, 13, 16, 17, 21, 6, 11, 16, 17, 30, 32, 11, 16, 30, 32, 6, 44, 1, 4, 11, 13, 16, 17, 21, 1, 2, 4, 13, 16, 17, 21, 3, 8, 10, 11, 16, 30, 32, 3, 11, 16, 30, 32, 1, 4, 11, 13, 16, 17, 21, 4, 17, 4, 17, 5, 11, 16, 30, 32, 11, 32, 32, 32, 32, 32, 32, 32, 1, 4, 7, 13, 16, 17, 21, 1, 4, 13, 16, 17, 21, 25, 1, 3, 4, 13, 16, 17, 21, 1, 4, 13, 16, 17, 21, 1, 4, 7, 13, 16, 17, 21, 25, 29, 13, 16, 17, 30, 6, 10, 1, 15, 20, 14, 1, 5, 9, 43, 1, 2, 3, 4, 5, 6, 7, 8, 9, 10, 11, 12, 14, 15, 16, 17, 18, 19, 20, 21, 22, 23, 24, 26, 27, 28, 29, 31, 34, 35, 36, 37, 7, 9, 12, 24, 28, 36, 2, 7, 17, 20, 22, 27, 35, 5, 8, 7, 9, 12, 16, 28, 36, 22, 36, 23, 2, 7, 17, 20, 22, 28, 33, 35, 2, 35, 24, 23, 23, 2, 35, 24, 23, 18, 28, 35, 1, 7, 9, 12, 13, 24, 28, 36, 7, 9, 12, 24, 28, 36, 7, 9, 12, 24, 28, 36, 1, 36, 5, 36, 2, 3, 5, 7, 8, 9, 14, 17, 20, 22, 28, 35, 2, 7, 17, 20, 22, 27, 28, 35, 5, 8, 10, 11, 2, 35, 35, 1, 2, 10, 20, 23, 1, 2, 5, 23, 1, 2, 21, 23, 10, 23, 6, 12, 21, 23, 31, 35, 2, 3, 23, 17, 24, 24, 1, 4, 12, 1, 38, 38, 38, 38, 38, 1, 2, 6, 8, 16, 1, 6, 7, 8, 43, 1, 6, 7, 8, 43, 1, 6, 7, 8, 1, 6, 8, 1, 6, 8, 1, 2, 3, 6, 7, 8, 10, 12, 13, 14, 16, 18, 20, 24, 26, 28, 29, 31, 35, 2, 16, 31, 8, 18, 2, 15, 42, 42, 1, 2, 19, 2, 3, 9, 12, 15, 2, 15, 15, 15, 15, 15, 7, 10, 30, 20, 10, 20, 20, 36, 26, 26, 3, 11, 19, 7, 33, 15, 34, 1, 6, 13, 15, 18, 29, 1, 13, 15, 18, 24, 29, 42, 13, 1, 13, 15, 18, 29, 29, 1, 3, 7, 12, 14, 21, 29, 34, 16, 29, 34, 1, 29, 34, 29, 29, 34, 15, 25, 29, 34, 29, 34, 20, 12, 5, 23, 45, 2, 5, 5, 5, 10, 23, 1, 26, 3, 9, 28, 7, 11, 11, 11, 11, 11, 11, 1, 11, 7, 11, 11, 11, 1, 11, 11, 23, 29, 1, 3, 33, 33, 18, 13, 33, 33, 17, 33, 20, 38, 1, 2, 4, 5, 6, 8, 11, 14, 16, 19, 21, 22, 26, 28, 30, 31, 32, 33, 34, 36, 42, 1, 16, 1, 4, 33, 6, 8, 29, 1, 2, 4, 29, 10, 27, 34, 1, 16, 6, 8, 1, 6, 8, 16, 21, 4, 6, 8, 2, 6, 8, 22, 34, 1, 2, 12, 35, 1, 4, 18, 33, 1, 33, 16, 31, 1, 3, 7, 8, 9, 11, 14, 16, 19, 21, 25, 30, 38, 38, 25, 38, 38, 6, 21, 41, 37, 31, 1, 8, 17, 18, 22, 23, 1, 17, 18, 22, 23, 37, 1, 2, 3, 4, 17, 32, 33, 1, 2, 4, 17, 33, 1, 2, 3, 4, 17, 18, 33, 13, 9, 9, 33, 33, 33, 33, 5, 13, 19, 19, 14, 6, 6, 13, 34, 2, 6, 4, 6, 6, 27, 27, 27, 4, 20, 20, 34, 31, 1, 2, 7, 34, 20, 23, 38, 1, 2, 3, 5, 10, 23, 1, 2, 3, 5, 6, 10, 23, 1, 2, 3, 5, 10, 11, 13, 18, 21, 23, 1, 2, 3, 5, 10, 16, 21, 23, 1, 2, 3, 5, 10, 23, 9, 31, 31, 1, 31, 31, 1, 26, 31, 31, 1, 2, 3, 6, 15, 22, 23, 27, 1, 2, 3, 6, 10, 12, 15, 22, 23, 1, 2, 3, 6, 9, 13, 15, 22, 23, 24, 8, 8, 40, 1, 2, 3, 6, 15, 22, 23, 1, 2, 3, 5, 6, 9, 12, 13, 15, 21, 22, 23, 6, 8, 23, 40, 2, 3, 1, 2, 3, 5, 6, 7, 10, 13, 18, 1, 2, 3, 5, 6, 7, 10, 18, 1, 2, 3, 5, 6, 7, 10, 11, 12, 13, 18, 16, 1, 6, 8, 23, 3, 3, 3, 1, 2, 3, 5, 6, 10, 12, 13, 18, 1, 2, 3, 5, 6, 7, 10, 13, 18, 23, 1, 2, 3, 5, 6, 7, 10, 11, 13, 18, 3, 30, 3, 4, 9, 40, 15, 6, 9, 10, 14, 15, 19, 25, 15, 9, 15, 19, 1, 7, 19, 1, 10, 15, 19, 15, 19, 9, 10, 15, 19, 19, 2, 15, 19, 33, 2, 3, 39, 31, 31, 9, 31, 19, 22, 34, 34, 2, 6, 35, 1, 3, 39, 9, 19, 9, 14, 22, 9, 14, 22, 1, 3, 4, 5, 6, 7, 9, 10, 11, 13, 14, 16, 18, 19, 21, 22, 25, 27, 28, 30, 36, 15, 18, 25, 28, 34, 22, 9, 14, 22, 9, 14, 22, 1, 3, 4, 6, 7, 9, 10, 11, 13, 14, 21, 22, 28, 30, 1, 18, 25, 28, 34, 1, 18, 25, 28, 34, 18, 25, 28, 34, 2, 13, 18, 25, 28, 34, 33, 9, 9, 2, 9, 6, 9, 9, 9, 27, 25, 19, 10, 25, 14, 29, 20, 28, 1, 12, 19, 20, 28, 14, 36, 36, 19, 1, 2, 5, 8, 12, 16, 18, 19, 20, 28, 36, 1, 2, 5, 6, 7, 12, 16, 18, 19, 20, 28, 36, 1, 2, 5, 6, 7, 8, 9, 12, 14, 16, 18, 19, 20, 21, 28, 30, 36, 42, 8, 14, 1, 2, 3, 4, 7, 8, 9, 11, 12, 13, 14, 15, 16, 17, 18, 19, 20, 21, 22, 24, 25, 26, 27, 29, 31, 33, 37, 1, 8, 14, 24, 29, 31, 14, 29, 35, 2, 7, 9, 12, 24, 25, 27, 2, 7, 9, 23, 24, 25, 27, 2, 3, 2, 29, 35, 2, 5, 7, 9, 14, 17, 24, 25, 27, 12, 2, 8, 17, 8, 9, 11, 14, 24, 29, 31, 14, 29, 31, 1, 2, 7, 9, 24, 25, 27, 1, 2, 7, 9, 24, 25, 27, 2, 10, 8, 9, 14, 24, 25, 26, 27, 29, 8, 24, 26, 29, 8, 12, 15, 12, 15, 2, 2, 12, 1, 2, 2, 7, 12, 13, 7, 10, 12, 13, 8, 14, 27, 13, 1, 2, 3, 4, 7, 8, 9, 11, 12, 13, 14, 15, 16, 17, 18, 19, 20, 21, 22, 24, 25, 26, 27, 28, 29, 31, 33, 37, 2, 3, 14, 2, 2, 14, 8, 14, 24, 26, 29, 3, 8, 24, 26, 29, 2, 2, 12, 2, 2, 7, 9, 12, 24, 25, 27, 2, 7, 9, 24, 25, 27, 12, 2, 7, 9, 24, 25, 27, 2, 12, 2, 4, 5, 7, 9, 24, 25, 27, 36, 1, 2, 7, 9, 24, 25, 27, 12, 12, 7, 12, 12, 13, 14, 1, 20, 3, 4, 20, 20, 9, 40, 11, 42, 6, 1, 6, 14, 17, 8, 1, 3, 30, 35, 11, 35, 4, 35, 2, 5, 39, 29, 15, 22, 22, 36, 1, 36, 1, 36, 10, 16, 2, 3, 31, 2, 3, 22, 31, 31, 6, 12, 28, 3, 1, 21, 34, 37, 29, 29, 29, 6, 10, 2, 31, 31, 30, 30, 1, 35, 9, 35, 13, 10, 10, 2, 29, 2, 4, 16, 8, 8, 31, 2, 7, 11, 12, 13, 19, 1, 19, 13, 1, 4, 8, 23, 1, 1, 7, 1, 1, 1, 4, 5, 10, 23, 1, 10, 27, 6, 5, 9, 18, 34, 4, 16, 27, 16, 8, 16, 27, 16, 27, 16, 27, 16, 27, 3, 16, 5, 16, 27, 16, 27, 32, 32, 32, 32, 32, 32, 32, 3, 32, 1, 4, 13, 16, 17, 21, 1, 3, 4, 13, 16, 17, 21, 1, 3, 4, 7, 13, 16, 17, 20, 21, 1, 3, 4, 13, 16, 17, 20, 21, 1, 3, 4, 13, 16, 17, 20, 21, 21, 21, 13, 16, 17, 17, 4, 10, 17, 17, 17, 5, 21, 21, 21, 30, 3, 6, 17, 28, 6, 44, 11, 44, 3, 44, 8, 2, 3, 8, 21, 26, 26, 21, 26, 20, 41, 32, 2, 34, 3, 9, 3, 3, 12, 3, 3, 29, 3, 18, 14, 36, 14, 32, 14, 14, 14, 14, 18, 6, 6, 26, 34, 6, 34, 17, 1, 24, 13, 24, 24, 34, 7, 9, 11, 12, 24, 28, 36, 7, 9, 12, 28, 36, 5, 7, 9, 10, 12, 24, 28, 36, 28, 36, 7, 1, 36, 36, 36, 1, 36, 1, 36, 2, 3, 5, 7, 8, 9, 17, 20, 22, 26, 27, 28, 35, 2, 7, 17, 20, 22, 25, 35, 5, 8, 9, 2, 35, 35, 2, 35, 2, 35, 2, 35, 2, 13, 35, 2, 16, 35, 27, 2, 20, 33, 20, 1, 2, 16, 23, 23, 1, 23, 14, 23, 23, 23, 23, 17, 2, 3, 7, 18, 31, 2, 3, 37, 17, 21, 30, 24, 26, 18, 24, 26, 24, 31, 1, 2, 38, 6, 8, 6, 8, 3, 44, 30, 37, 6, 34, 19, 25, 34, 38, 8, 38, 4, 29, 38, 38, 27, 38, 4, 19, 13, 12, 13, 13, 24, 3, 13, 1, 3, 13, 14, 10, 28, 16, 33, 2, 4, 16, 37, 17, 34, 1, 6, 8, 1, 6, 8, 10, 6, 37, 4, 37, 37, 7, 7, 7, 16, 16, 7, 8, 38, 7, 7, 16, 18, 3, 16, 2, 7, 8, 8, 3, 7, 9, 14, 18, 20, 23, 24, 26, 29, 29, 29, 29, 1, 7, 2, 14, 16, 2, 6, 8, 13, 16, 28, 38, 1, 7, 8, 12, 13, 14, 15, 16, 18, 19, 21, 22, 24, 29, 31, 35, 38, 2, 4, 5, 11, 12, 13, 14, 17, 18, 19, 29, 30, 29, 5, 9, 14, 41, 8, 24, 29, 5, 11, 12, 2, 3, 5, 8, 9, 13, 19, 22, 25, 28, 34, 38, 1, 2, 3, 5, 10, 21, 23, 1, 2, 3, 4, 5, 10, 21, 23, 1, 2, 3, 5, 8, 10, 11, 18, 20, 21, 23, 18, 30, 2, 5, 29, 8, 1, 8, 12, 13, 14, 15, 16, 18, 19, 21, 22, 24, 29, 31, 33, 38, 4, 5, 10, 11, 12, 13, 14, 18, 19, 29, 30, 3, 39, 18, 5, 12, 1, 2, 3, 5, 10, 21, 23, 1, 2, 3, 5, 10, 23, 33, 1, 2, 3, 5, 10, 11, 18, 23, 4, 18, 8, 9, 18, 30, 16, 39, 8, 11, 3, 2, 14, 2, 13, 14, 1, 10, 16, 22, 10, 22, 2, 3, 1, 3, 20, 21, 23, 19, 20, 28, 29, 1, 2, 3, 7, 14, 15, 3, 4, 5, 8, 10, 16, 22, 28, 1, 2, 3, 5, 6, 7, 10, 12, 13, 15, 18, 21, 22, 23, 27, 1, 2, 3, 5, 6, 7, 10, 12, 13, 15, 18, 21, 22, 23, 27, 28, 30, 1, 2, 3, 5, 7, 8, 12, 14, 16, 19, 20, 21, 22, 23, 28, 30, 33, 36, 40, 1, 2, 3, 5, 6, 7, 8, 10, 12, 14, 16, 18, 19, 20, 21, 22, 23, 28, 29, 30, 33, 36, 2, 1, 2, 3, 5, 6, 7, 10, 11, 12, 13, 15, 18, 21, 22, 23, 27, 1, 2, 3, 4, 5, 7, 8, 10, 12, 14, 16, 19, 20, 21, 22, 23, 28, 30, 33, 36, 40, 21, 1, 22, 1, 2, 5, 8, 14, 20, 21, 22, 28, 33, 1, 2, 5, 12, 13, 14, 20, 21, 22, 28, 33, 36, 40, 1, 2, 3, 5, 20, 21, 22, 23, 28, 33, 36, 2, 2, 3, 3, 14, 19, 23, 1, 2, 27, 1, 2, 27, 3, 5, 10, 22, 1, 2, 3, 5, 6, 7, 10, 12, 13, 15, 18, 21, 22, 23, 27, 28, 1, 2, 3, 5, 6, 7, 10, 12, 13, 15, 18, 21, 22, 23, 27, 30, 32, 1, 2, 3, 5, 6, 7, 10, 11, 12, 13, 15, 18, 21, 22, 23, 27, 1, 1, 14, 20, 28, 1, 7, 20, 28, 1, 2, 5, 7, 10, 12, 16, 19, 20, 28, 36, 1, 2, 3, 5, 6, 7, 8, 12, 16, 17, 18, 19, 20, 28, 36, 1, 2, 5, 7, 8, 11, 12, 16, 19, 20, 28, 30, 36, 31, 4, 19, 6, 2, 3, 6, 8, 10, 14, 15, 16, 23, 28, 2, 3, 6, 8, 10, 14, 15, 16, 23, 28, 2, 3, 6, 8, 10, 14, 15, 16, 23, 28, 2, 6, 16, 6, 2, 3, 5, 6, 8, 10, 14, 15, 16, 23, 28, 2, 3, 6, 8, 10, 14, 15, 16, 23, 28, 3, 6, 7, 8, 10, 14, 15, 16, 23, 28, 25, 37, 2, 34, 1, 9, 11, 26, 34, 2, 34, 27, 37, 2, 27, 1, 9, 11, 26, 27, 34, 1, 9, 11, 26, 34, 21, 27, 1, 9, 11, 26, 34, 1, 3, 9, 11, 26, 34, 1, 3, 9, 11, 26, 34, 37, 1, 9, 11, 26, 34, 1, 9, 11, 26, 34, 1, 9, 11, 26, 34, 1, 9, 11, 26, 34, 27, 27, 27, 1, 5, 5, 5, 5, 22, 5, 5, 5, 5, 5, 17, 2, 4, 10, 1, 4, 5, 10, 24, 4, 10, 4, 10, 12, 24, 4, 10, 4, 10, 24, 1, 4, 10, 6, 10, 4, 10, 4, 10, 4, 10, 4, 10, 24, 4, 10, 24, 4, 10, 4, 10, 13, 17, 24, 13, 11, 38, 6, 28, 36, 16, 34, 1, 2, 3, 5, 6, 12, 16, 19, 33, 34, 36, 1, 2, 4, 7, 8, 11, 12, 13, 14, 16, 20, 25, 26, 27, 29, 1, 5, 8, 17, 19, 21, 24, 25, 30, 31, 32, 35, 6, 8, 11, 30, 27, 41, 19, 34, 5, 25, 32, 15, 25, 16, 2, 3, 6, 11, 13, 15, 16, 17, 18, 20, 22, 29, 30, 32, 8, 3, 25, 24, 8, 19, 31, 32, 35, 6, 32, 35, 24, 14, 24, 38, 3, 6, 14, 38, 3, 4, 6, 14, 17, 23, 6, 7, 13, 16, 27, 27, 2, 7, 9, 19, 20, 23, 2, 7, 9, 16, 24, 25, 27, 2, 7, 9, 24, 25, 27, 1, 2, 6, 7, 9, 11, 13, 14, 16, 17, 21, 23, 24, 25, 26, 27, 30, 33, 34, 36, 2, 7, 9, 13, 24, 25, 27, 1, 2, 7, 8, 9, 13, 24, 25, 27, 4, 28, 34, 2, 3, 6, 8, 10, 14, 15, 16, 23, 28, 3, 6, 8, 10, 14, 15, 16, 23, 28, 1, 9, 11, 26, 34, 1, 9, 11, 26, 34, 2, 3, 4, 5, 6, 7, 8, 10, 14, 15, 16, 23, 28, 31, 1, 2, 9, 11, 26, 33, 34, 1, 2, 6, 9, 11, 26, 33, 34, 6, 7, 38, 7, 18, 31, 42, 19, 2, 38, 22, 38, 38, 38, 9, 2, 14, 30, 30, 7, 33, 33, 33, 2, 3, 15, 15, 2, 15, 2, 15, 15, 15, 15, 15, 13, 14, 30, 20, 20, 22, 4, 6, 13, 20, 20, 22, 20, 7, 10, 7, 7, 30, 23, 23, 6, 26, 2, 26, 26, 2, 26, 26, 23, 23, 26, 8, 26, 8, 26, 26, 1, 11, 21, 38, 34, 34, 19, 6, 17, 35, 35, 1, 5, 35, 14, 14, 2, 8, 26, 2, 37, 14, 1, 22, 25, 18, 18, 1, 18, 18, 40, 22, 7, 12, 13, 2, 2, 5, 7, 10, 12, 13, 1, 1, 1, 1, 1, 1, 1, 8, 10, 27, 27, 16, 16, 6, 33, 33, 33, 16, 36, 36, 36, 6, 1, 2, 7, 7, 1, 2, 3, 5, 7, 8, 10, 23, 36, 1, 2, 3, 5, 10, 23, 1, 2, 3, 5, 6, 7, 10, 11, 18, 21, 23, 24, 5, 20, 22, 7, 17, 1, 2, 3, 5, 10, 23, 1, 2, 3, 5, 10, 23, 1, 2, 3, 5, 10, 11, 18, 21, 32, 12, 15, 2, 7, 8, 9, 24, 25, 27, 2, 3, 7, 9, 24, 25, 27, 1, 2, 3, 6, 7, 9, 11, 13, 14, 16, 17, 21, 23, 24, 25, 26, 27, 30, 33, 34, 10, 16, 7, 16, 1, 2, 7, 9, 13, 24, 25, 27, 2, 7, 9, 13, 24, 25, 27, 9, 24, 28, 34, 1, 3, 9, 11, 26, 34, 1, 3, 9, 11, 26, 34, 1, 2, 4, 9, 11, 16, 26, 33, 34, 1, 6, 9, 11, 26, 33, 34, 2, 7, 9, 24, 25, 27, 2, 7, 9, 24, 25, 27, 1, 2, 6, 7, 9, 11, 13, 14, 16, 17, 19, 21, 24, 25, 26, 27, 30, 33, 34, 2, 7, 9, 13, 14, 24, 25, 27, 2, 7, 9, 13, 24, 25, 27, 1, 9, 11, 16, 26, 34, 1, 9, 11, 26, 34, 17, 1, 2, 6, 9, 11, 22, 26, 33, 34, 1, 2, 6, 9, 11, 26, 33, 34, 2, 13, 16, 8, 2, 6, 33, 15, 33, 17, 33, 17, 37, 33, 1, 33, 12, 13, 40, 17, 17, 19, 1, 20, 21, 6, 20, 31, 20, 21, 34, 13, 20, 21, 14, 15, 20, 21, 5, 11, 21, 27, 7, 16, 19, 21, 2, 7, 15, 21, 12, 15, 7, 21, 21, 20, 21, 34, 20, 21, 1, 21, 28, 31, 15, 15, 15, 2, 42, 2, 9, 15, 16, 42, 2, 13, 23, 1, 2, 42, 2, 23, 15, 15, 3, 13, 15, 13, 18, 1, 41, 41, 17, 30, 41, 41, 18, 3, 5, 17, 18, 30, 41, 12, 17, 18, 30, 41, 41, 41, 30, 41, 30, 41, 2, 30, 41, 3, 1, 2, 3, 13, 13, 3, 13, 24, 33, 3, 13, 25, 20, 12, 16, 1, 3, 4, 6, 7, 9, 12, 14, 16, 27, 37, 3, 6, 7, 9, 12, 14, 16, 27, 37, 12, 14, 12, 14, 6, 3, 6, 7, 9, 12, 14, 16, 27, 37, 3, 6, 7, 9, 12, 14, 16, 27, 37, 3, 6, 7, 9, 12, 14, 16, 27, 37, 21, 27, 37, 12, 16, 3, 6, 7, 10, 12, 14, 16, 27, 37, 3, 6, 7, 12, 14, 16, 27, 37, 12, 14, 3, 6, 7, 12, 14, 16, 27, 37, 3, 6, 7, 12, 14, 16, 27, 37, 2, 3, 6, 7, 12, 14, 16, 27, 37, 12, 27, 37, 1, 39, 39, 2, 6, 22, 39, 1, 6, 39, 43, 2, 3, 14, 15, 1, 2, 39, 1, 6, 39, 1, 17, 6, 10, 39, 13, 21, 26, 26, 13, 13, 14, 26, 2, 13, 21, 26, 17, 38, 12, 29, 18, 3, 27, 31, 24, 23, 2, 19, 14, 14, 2, 5, 19, 5, 18, 10, 37, 1, 2, 3, 5, 6, 8, 10, 12, 18, 1, 2, 3, 5, 6, 7, 10, 18, 1, 2, 3, 5, 6, 7, 10, 11, 12, 13, 18, 23, 3, 4, 16, 27, 16, 27, 16, 25, 27, 8, 16, 13, 16, 16, 20, 27, 3, 16, 20, 27, 8, 16, 27, 27, 20, 27, 1, 39, 33, 8, 18, 30, 4, 8, 9, 18, 30, 2, 3, 2, 3, 7, 12, 17, 28, 29, 34, 38, 19, 28, 38, 14, 14, 14, 9, 14, 2, 8, 11, 13, 14, 17, 18, 26, 29, 31, 17, 14, 42, 2, 7, 20, 21, 1, 2, 3, 4, 11, 20, 21, 22, 27, 28, 29, 1, 2, 27, 19, 20, 28, 3, 28, 1, 2, 11, 27, 28, 1, 2, 10, 27, 1, 11, 20, 21, 28, 29, 1, 20, 21, 28, 1, 2, 27, 30, 1, 11, 11, 19, 20, 21, 28, 2, 7, 1, 20, 21, 20, 21, 1, 2, 20, 21, 27, 28, 1, 2, 21, 27, 19, 20, 28, 1, 2, 27, 1, 2, 21, 27, 19, 20, 21, 28, 20, 21, 28, 1, 2, 10, 18, 27, 19, 20, 21, 28, 1, 4, 21, 1, 21, 11, 1, 11, 7, 16, 16, 41, 1, 41, 41, 41, 17, 41, 41, 41, 41, 41, 41, 41, 22, 15, 10, 15, 19, 10, 15, 19, 15, 7, 16, 19, 39, 19, 39, 5, 15, 19, 15, 5, 39, 1, 4, 1, 7, 15, 21, 15, 1, 7, 21, 15, 42, 20, 21, 20, 21, 28, 14, 20, 21, 28, 20, 21, 28, 25, 3, 20, 21, 28, 20, 21, 28, 1, 36, 20, 21, 28, 39, 3, 19, 4, 20, 3, 4, 16, 16, 29, 31, 31, 31, 34, 28, 7, 29, 34, 29, 34, 1, 2, 3, 29, 34, 7, 39, 37, 4, 37, 37, 8, 22, 9, 22, 6, 8, 10, 11, 6, 10, 16, 10, 1, 2, 3, 5, 6, 12, 16, 19, 20, 34, 36, 19, 34, 19, 34, 1, 2, 3, 5, 6, 12, 16, 19, 20, 22, 33, 34, 7, 20, 32, 32, 32, 32, 32, 43, 27, 1, 5, 5, 26, 5, 5, 12, 14, 1, 2, 3, 4, 21, 42, 1, 2, 42, 2, 8, 15, 16, 23, 3, 15, 15, 15, 15, 15, 2, 16, 19, 31, 16, 16, 26, 16, 7, 7, 13, 1, 7, 13, 8, 8, 32, 32, 32, 32, 1, 32, 32, 6, 18, 18, 24, 24, 18, 24, 18, 1, 24, 2, 7, 3, 17, 36, 36, 3, 13, 13, 29, 29, 1, 3, 5, 1, 14, 1, 14, 9, 41, 1, 41, 30, 41, 19, 30, 41, 2, 19, 30, 41, 41, 41, 18, 1, 18, 18, 3, 37, 1, 12, 13, 39, 39, 1, 4, 39, 1, 11, 39, 1, 23, 39, 39, 2, 19, 19, 2, 19, 19, 34, 2, 18, 1, 3, 9, 18, 25, 3, 9, 18, 25, 3, 9, 18, 2, 7, 7, 1, 3, 15, 17, 18, 31, 7, 2, 7, 12, 12, 3, 6, 7, 12, 14, 16, 27, 37, 2, 3, 6, 7, 9, 12, 14, 16, 27, 37, 35, 12, 14, 12, 14, 1, 3, 4, 5, 6, 7, 10, 11, 12, 14, 16, 17, 24, 25, 27, 31, 37, 38, 3, 4, 5, 6, 7, 8, 10, 11, 12, 14, 16, 17, 24, 27, 37, 3, 4, 5, 6, 7, 10, 11, 12, 14, 16, 17, 24, 27, 31, 35, 37, 2, 7, 27, 3, 4, 10, 18, 24, 4, 10, 27, 37, 4, 5, 7, 10, 17, 24, 4, 7, 10, 17, 24, 6, 7, 8, 11, 12, 13, 14, 15, 16, 18, 19, 21, 22, 24, 29, 31, 3, 4, 5, 11, 12, 13, 14, 18, 19, 29, 30, 14, 4, 30, 5, 8, 12, 45, 9, 14, 22, 9, 14, 22, 1, 2, 3, 4, 6, 7, 9, 10, 11, 13, 14, 18, 21, 22, 23, 25, 27, 28, 30, 31, 4, 17, 21, 22, 23, 4, 18, 4, 18, 3, 5, 6, 7, 10, 11, 13, 17, 18, 22, 30, 32, 1, 2, 3, 5, 10, 23, 1, 2, 3, 5, 10, 23, 4, 4, 2, 33, 1, 2, 3, 5, 10, 11, 18, 21, 23, 9, 18, 18, 30, 5, 4, 18, 4, 18, 2, 6, 14, 29, 29, 24, 13, 6, 15, 18, 25, 28, 34, 37, 2, 6, 13, 15, 18, 28, 34, 18, 28, 34, 2, 18, 28, 34, 2, 18, 28, 18, 28, 34, 15, 31, 16, 25, 25, 19, 25, 25, 25, 25, 30, 35, 42, 29, 29, 29, 21, 20, 1, 2, 37, 18, 33, 22, 22, 5, 22, 6, 24, 10, 41, 8, 11, 35, 19, 32, 32, 32, 10, 32, 33, 32, 32, 32, 32, 32, 32, 32, 22, 5, 3, 39, 3, 9, 15, 17, 18, 22, 31, 3, 9, 15, 17, 18, 22, 25, 27, 31, 39, 3, 9, 15, 17, 18, 21, 22, 31, 3, 6, 9, 1, 3, 18, 3, 9, 18, 3, 18, 3, 15, 17, 18, 31, 12, 12, 3, 6, 7, 9, 12, 14, 16, 27, 37, 3, 6, 7, 12, 14, 16, 27, 37, 17, 1, 17, 12, 14, 3, 4, 5, 6, 7, 10, 11, 12, 14, 16, 17, 24, 25, 27, 37, 3, 4, 5, 6, 7, 10, 11, 12, 14, 16, 17, 23, 24, 25, 27, 31, 37, 1, 2, 3, 4, 5, 6, 7, 10, 11, 12, 14, 16, 17, 24, 27, 37, 4, 10, 4, 10, 27, 37, 4, 7, 10, 17, 24, 25, 4, 5, 7, 10, 17, 24, 4, 12, 12, 24, 3, 6, 7, 12, 14, 16, 27, 37, 3, 6, 7, 12, 14, 16, 27, 37, 12, 14, 27, 3, 4, 5, 6, 7, 10, 11, 12, 14, 16, 17, 24, 25, 27, 37, 3, 4, 5, 6, 7, 10, 11, 12, 14, 16, 17, 24, 25, 27, 37, 3, 4, 5, 6, 7, 10, 11, 12, 14, 16, 17, 24, 25, 27, 31, 37, 27, 1, 27, 4, 5, 10, 24, 4, 10, 18, 4, 5, 7, 10, 17, 24, 27, 4, 5, 7, 10, 17, 24, 1, 16, 17, 4, 18, 1, 16, 17, 20, 21, 4, 18, 1, 16, 17, 20, 4, 13, 4, 20, 4, 4, 17, 3, 4, 18, 1, 4, 18, 27, 4, 18, 4, 4, 2, 4, 4, 18, 21, 21, 21, 4, 21, 11, 3, 35, 22, 6, 17, 14, 23, 14, 6, 22, 23, 2, 4, 6, 23, 3, 6, 22, 23, 16, 23, 4, 23, 23, 34, 26, 18, 7, 37, 21, 21, 11, 21, 1, 3, 7, 21, 21, 7, 21, 21, 11, 21, 15, 15, 2, 15, 2, 10, 36, 30, 31, 5, 35, 11, 22, 44, 9, 9, 21, 1, 4, 5, 7, 9, 10, 11, 19, 21, 25, 10, 37, 9, 37, 30, 11, 36, 5, 1, 5, 8, 10, 5, 15, 13, 13, 37, 17, 3, 9, 9, 9, 4, 9, 9, 9, 6, 11, 11, 11, 11, 11, 11, 33, 33, 31, 1, 5, 39, 39, 17, 1, 6, 39, 27, 1, 39, 31, 8, 23, 26, 20, 21, 1, 2, 5, 20, 21, 22, 28, 29, 33, 36, 1, 2, 5, 8, 13, 14, 16, 20, 21, 22, 28, 29, 33, 1, 2, 4, 5, 7, 8, 14, 20, 21, 22, 23, 28, 29, 30, 33, 36, 40, 30, 6, 30, 25, 1, 7, 23, 3, 3, 1, 2, 27, 3, 5, 10, 1, 2, 3, 5, 6, 7, 10, 12, 13, 15, 17, 18, 21, 22, 23, 27, 1, 2, 3, 5, 6, 7, 10, 11, 12, 13, 15, 18, 22, 23, 27, 13, 20, 21, 26, 39, 13, 14, 26, 5, 7, 1, 2, 3, 5, 6, 7, 8, 9, 10, 11, 12, 13, 14, 15, 18, 21, 22, 23, 24, 26, 27, 32, 44, 19, 26, 1, 1, 24, 3, 6, 14, 1, 2, 3, 5, 10, 23, 1, 2, 3, 5, 10, 23, 1, 2, 3, 5, 8, 10, 11, 18, 21, 23, 1, 2, 3, 5, 6, 15, 22, 23, 27, 23, 29, 1, 1, 2, 3, 5, 6, 7, 10, 18, 23, 1, 2, 3, 5, 6, 10, 12, 18, 1, 2, 3, 5, 6, 7, 10, 11, 12, 13, 18, 31, 4, 20, 28, 4, 20, 28, 1, 30, 1, 2, 5, 12, 14, 16, 19, 20, 28, 36, 1, 2, 3, 5, 12, 16, 17, 19, 20, 21, 28, 36, 1, 2, 5, 6, 7, 8, 9, 12, 14, 15, 16, 18, 19, 20, 23, 28, 36, 19, 20, 28, 20, 28, 1, 2, 3, 5, 7, 12, 16, 18, 19, 20, 28, 36, 1, 2, 5, 7, 12, 16, 17, 18, 19, 20, 28, 30, 36, 1, 2, 3, 5, 7, 8, 9, 12, 16, 18, 19, 20, 23, 28, 36, 1, 2, 30, 31, 1, 2, 4, 7, 8, 14, 18, 20, 22, 25, 31, 1, 3, 5, 10, 12, 30, 35, 35, 29, 19, 1, 6, 8, 16, 21, 4, 6, 8, 1, 16, 24, 31, 44, 4, 6, 8, 6, 8, 6, 8, 1, 3, 34, 33, 4, 5, 11, 12, 13, 14, 18, 19, 20, 22, 29, 30, 12, 4, 10, 38, 4, 5, 11, 12, 13, 14, 17, 18, 19, 24, 29, 30, 7, 19, 7, 16, 28, 30, 3, 24, 30, 13, 4, 5, 18, 38, 1, 2, 3, 4, 5, 6, 7, 16, 18, 36, 38, 1, 2, 3, 5, 18, 6, 16, 24, 8, 30, 26, 8, 16, 18, 30, 8, 30, 4, 38, 22, 37, 3, 36, 2, 3, 6, 7, 8, 10, 14, 15, 16, 23, 28, 1, 2, 3, 6, 8, 10, 14, 15, 16, 23, 25, 28, 2, 3, 4, 5, 6, 7, 8, 10, 14, 15, 16, 20, 23, 28, 31, 2, 6, 6, 2, 3, 6, 8, 10, 14, 15, 16, 23, 28, 2, 3, 6, 8, 10, 14, 15, 16, 23, 28, 2, 3, 5, 6, 7, 8, 10, 14, 15, 16, 23, 25, 28, 31, 7, 5, 1, 35, 1, 6, 9, 11, 26, 33, 34, 22, 34, 34, 1, 3, 9, 11, 26, 34, 1, 9, 11, 26, 34, 1, 9, 11, 26, 33, 34, 1, 2, 3, 6, 9, 11, 26, 33, 34, 1, 2, 6, 9, 11, 26, 33, 34, 1, 9, 11, 26, 34, 1, 9, 11, 26, 34, 1, 2, 6, 9, 11, 26, 33, 34, 1, 2, 6, 9, 11, 26, 33, 34, 33, 37, 33, 12, 33, 2, 12, 33, 11, 37, 37, 12, 13, 27, 37, 2, 27, 37, 27, 10, 27, 37, 27, 37, 5, 7, 27, 37, 38, 26, 2, 6, 26, 26, 1, 12, 24, 24, 14, 18, 15, 2, 16, 2, 5, 5, 17, 2, 5, 5, 7, 5, 5, 19, 23, 10, 21, 4, 5, 7, 10, 17, 18, 24, 25, 4, 7, 10, 17, 18, 23, 24, 4, 7, 10, 17, 18, 24, 4, 10, 24, 4, 10, 4, 5, 7, 10, 17, 24, 4, 5, 7, 10, 17, 18, 23, 24, 5, 5, 1, 4, 7, 10, 12, 17, 24, 4, 7, 10, 17, 24, 4, 5, 7, 10, 17, 24, 4, 10, 31, 4, 10, 24, 4, 7, 10, 17, 24, 31, 4, 7, 10, 17, 24, 4, 11, 18, 4, 18, 1, 4, 6, 18, 4, 21, 4, 4, 18, 4, 18, 26, 7, 26, 26, 26, 11, 21, 26, 26, 26, 2, 10, 11, 21, 9, 21, 26, 15, 5, 34, 2, 40, 34, 30, 30, 38, 38, 7, 30, 3, 30, 30, 30, 19, 31, 14, 28, 39, 14, 14, 31, 8, 12, 14, 15, 19, 31, 24, 9, 18, 34, 34, 3, 4, 7, 8, 9, 11, 12, 13, 14, 15, 17, 18, 19, 20, 22, 24, 26, 31, 12, 2, 11, 18, 8, 12, 13, 14, 15, 16, 18, 19, 21, 22, 24, 29, 31, 8, 18, 18, 29, 7, 8, 12, 13, 14, 15, 16, 18, 19, 21, 22, 23, 24, 29, 31, 21, 29, 31, 18, 1, 18, 2, 3, 14, 2, 8, 1, 2, 3, 7, 8, 10, 14, 15, 26, 10, 15, 2, 3, 5, 23, 11, 34, 10, 2, 2, 2, 3, 7, 14, 28, 34, 34, 10, 10, 2, 4, 7, 8, 11, 12, 13, 14, 16, 20, 25, 26, 27, 14, 14, 1, 2, 4, 7, 8, 11, 12, 13, 14, 16, 20, 25, 26, 27, 2, 3, 22, 30, 1, 2, 7, 9, 24, 25, 27, 2, 7, 9, 24, 25, 27, 2, 7, 9, 14, 15, 19, 24, 25, 27, 2, 7, 9, 24, 25, 27, 2, 7, 9, 24, 25, 27, 2, 7, 9, 15, 20, 24, 25, 27, 2, 7, 9, 14, 24, 25, 27, 1, 2, 7, 9, 14, 24, 25, 27, 2, 7, 9, 24, 25, 27, 17, 17, 6, 17, 6, 12, 12, 14, 1, 12, 14, 1, 12, 14, 12, 6, 12, 14, 6, 12, 13, 14, 3, 18, 1, 17, 18, 22, 22, 22, 13, 4, 14, 24, 27, 31, 24, 14, 24, 2, 5, 11, 19, 14, 31, 1, 2, 3, 4, 5, 7, 8, 9, 10, 11, 12, 13, 14, 15, 16, 17, 18, 19, 20, 21, 22, 24, 25, 26, 27, 28, 29, 31, 33, 37, 2, 8, 14, 2, 8, 14, 29, 1, 15, 21, 33, 37, 37, 2, 3, 10, 14, 2, 8, 22, 24, 26, 27, 29, 8, 22, 24, 26, 29, 19, 10, 12, 1, 2, 4, 8, 18, 19, 20, 23, 31, 2, 4, 8, 18, 24, 29, 1, 3, 4, 8, 9, 10, 11, 12, 13, 14, 15, 16, 17, 19, 22, 26, 29, 31, 33, 1, 13, 1, 3, 29, 1, 7, 8, 11, 12, 13, 14, 15, 16, 18, 19, 21, 22, 24, 29, 31, 19, 29, 31, 8, 18, 23, 18, 2, 2, 8, 14, 2, 3, 8, 10, 14, 2, 4, 7, 8, 11, 12, 13, 14, 16, 20, 25, 26, 27, 29, 36, 2, 4, 7, 9, 12, 24, 25, 27, 2, 7, 9, 24, 25, 27, 2, 7, 9, 24, 25, 27, 2, 7, 9, 24, 25, 27, 12, 14, 1, 2, 7, 9, 24, 25, 27, 2, 7, 9, 24, 25, 27, 1, 2, 4, 7, 9, 24, 25, 27, 2, 7, 9, 24, 25, 27, 35, 2, 7, 9, 19, 24, 25, 27, 12, 12, 25, 1, 3, 9, 30, 39, 5, 13, 13, 13, 14, 1, 38, 34, 1, 2, 5, 6, 7, 8, 13, 14, 17, 18, 23, 40, 16, 5, 34, 17, 3, 22, 31, 1, 3, 9, 14, 22, 2, 3, 4, 9, 13, 14, 21, 22, 5, 9, 14, 22, 22, 22, 9, 14, 22, 9, 14, 22, 3, 9, 14, 22, 22, 22, 8, 24, 26, 29, 10, 29, 2, 8, 9, 24, 26, 29, 3, 8, 24, 25, 26, 29, 29, 9, 24, 8, 9, 24, 26, 29, 8, 14, 24, 26, 29, 2, 18, 28, 34, 2, 11, 18, 28, 34, 18, 28, 18, 28, 34, 8, 10, 18, 28, 6, 6, 10, 22, 3, 5, 7, 10, 16, 22, 28, 3, 5, 7, 10, 5, 8, 9, 15, 17, 19, 21, 24, 25, 30, 31, 32, 35, 33, 5, 25, 32, 25, 25, 5, 8, 12, 17, 19, 24, 25, 30, 31, 32, 35, 13, 16, 9, 25, 13, 25, 1, 24, 1, 24, 7, 24, 24, 24, 20, 1, 20, 23, 20, 20, 4, 19, 2, 31, 13, 8, 17, 4, 17, 36, 13, 8, 30, 2, 3, 40, 6, 33, 35, 1, 16, 13, 42, 2, 18, 2, 42, 19, 34, 25, 25, 25, 25, 25, 12, 19, 12, 12, 16, 27, 9, 9, 15, 20, 1, 39, 39, 3, 8, 23, 28, 1, 13, 23, 13, 23, 13, 23, 1, 13, 23, 13, 23, 6, 26, 26, 3, 21, 21, 11, 14, 21, 7, 21, 21, 10, 11, 21, 1, 7, 19, 21, 34, 13, 19, 38, 38, 7, 38, 6, 15, 24, 24, 2, 3, 35, 2, 35, 35, 5, 15, 1, 30, 3, 17, 36, 6, 6, 20, 6, 13, 3, 27, 11, 19, 27, 1, 2, 3, 5, 6, 12, 16, 19, 33, 34, 36, 4, 19, 12, 14, 19, 20, 34, 30, 1, 2, 3, 5, 6, 7, 12, 15, 16, 19, 20, 33, 34, 36, 1, 5, 8, 12, 17, 19, 21, 25, 31, 32, 2, 5, 25, 32, 25, 5, 8, 15, 17, 19, 25, 31, 32, 25, 25, 25, 1, 4, 5, 8, 11, 12, 13, 14, 18, 19, 24, 29, 30, 8, 9, 18, 30, 8, 14, 18, 30, 12, 1, 4, 11, 12, 13, 14, 18, 19, 24, 29, 30, 18, 2, 30, 36, 7, 2, 11, 36, 1, 17, 36, 1, 36, 36, 2, 13, 36, 36, 36, 2, 35, 2, 35, 2, 18, 33, 35, 2, 14, 17, 35, 35, 35, 2, 5, 8, 5, 8, 15, 38, 8, 27, 39, 27, 13, 38, 2, 38, 1, 2, 9, 20, 26, 38, 26, 2, 10, 26, 26, 33, 14, 34, 22, 9, 23, 23, 23, 23, 23, 30, 23, 2, 30, 23, 21, 9, 4, 9, 9, 3, 6, 31, 31, 20, 19, 20, 18, 23, 24, 24, 12, 24, 24, 5, 38, 38, 33, 33, 9, 9], \"Freq\": [0.2842741727978349, 0.14213708639891745, 0.14213708639891745, 0.2014674641588903, 0.1754540640040649, 0.1754540640040649, 0.1774784438255086, 0.2009055154678732, 0.2009055154678732, 0.23261311317664624, 0.19389811599279588, 0.2039972084664985, 0.21870587977273406, 0.22042074067810138, 0.18575936915963476, 0.33387072075203916, 0.18332358852157382, 0.18332358852157382, 0.27526910456147363, 0.21825134033791727, 0.07180248738536296, 0.21540746215608889, 0.07180248738536296, 0.07180248738536296, 0.07180248738536296, 0.07180248738536296, 0.07180248738536296, 0.07180248738536296, 0.07180248738536296, 0.16247366543851416, 0.16247366543851416, 0.16247366543851416, 0.1631389825373232, 0.1631389825373232, 0.37328345775634086, 0.2113892702874063, 0.14333828538653523, 0.14333828538653523, 0.151085525738576, 0.151085525738576, 0.151085525738576, 0.1390431275749626, 0.1390431275749626, 0.10826492583987996, 0.10826492583987996, 0.10826492583987996, 0.05413246291993998, 0.05413246291993998, 0.05413246291993998, 0.05413246291993998, 0.05413246291993998, 0.05413246291993998, 0.05413246291993998, 0.05413246291993998, 0.05413246291993998, 0.05413246291993998, 0.05413246291993998, 0.05413246291993998, 0.13586744691593033, 0.13586744691593033, 0.13586744691593033, 0.13586744691593033, 0.20909372320615155, 0.23672750704129614, 0.26522927618604186, 0.18469343621917814, 0.18469343621917814, 0.06949596802433976, 0.2084879040730193, 0.06949596802433976, 0.06949596802433976, 0.2084879040730193, 0.06949596802433976, 0.06838112757517344, 0.13676225515034687, 0.06838112757517344, 0.06838112757517344, 0.20514338272552032, 0.06838112757517344, 0.09654463797456218, 0.09654463797456218, 0.09654463797456218, 0.09654463797456218, 0.09654463797456218, 0.09654463797456218, 0.10732808720201129, 0.10732808720201129, 0.10732808720201129, 0.10732808720201129, 0.13661146996550566, 0.13661146996550566, 0.06935143240579164, 0.13870286481158328, 0.06935143240579164, 0.06935143240579164, 0.06935143240579164, 0.20805429721737492, 0.13870286481158328, 0.07206037370665824, 0.07206037370665824, 0.14412074741331649, 0.07206037370665824, 0.14412074741331649, 0.2161811211199747, 0.07206037370665824, 0.09152023918134362, 0.09152023918134362, 0.09152023918134362, 0.09152023918134362, 0.09152023918134362, 0.09152023918134362, 0.09152023918134362, 0.10253694154370813, 0.10253694154370813, 0.10253694154370813, 0.10253694154370813, 0.10253694154370813, 0.06740689589533982, 0.20222068768601947, 0.06740689589533982, 0.06740689589533982, 0.13481379179067965, 0.20222068768601947, 0.06740689589533982, 0.13781246362504407, 0.13781246362504407, 0.18452351689744667, 0.18452351689744667, 0.09614972505592785, 0.09614972505592785, 0.09614972505592785, 0.09614972505592785, 0.09614972505592785, 0.23924426336872462, 0.2084691723457457, 0.1892430365578639, 0.16404036934742455, 0.20232016361158217, 0.15872262314323693, 0.21105949323050657, 0.2348396520307822, 0.07100467477572027, 0.14200934955144054, 0.07100467477572027, 0.07100467477572027, 0.07100467477572027, 0.21301402432716082, 0.14200934955144054, 0.0808071110375941, 0.1616142220751882, 0.0808071110375941, 0.1616142220751882, 0.2424213331127823, 0.0808071110375941, 0.0808071110375941, 0.0690900978350383, 0.0690900978350383, 0.1381801956700766, 0.1381801956700766, 0.0690900978350383, 0.20727029350511492, 0.1381801956700766, 0.07341060368015537, 0.14682120736031073, 0.07341060368015537, 0.07341060368015537, 0.2202318110404661, 0.07341060368015537, 0.07276186900752736, 0.14552373801505472, 0.07276186900752736, 0.07276186900752736, 0.14552373801505472, 0.21828560702258207, 0.07276186900752736, 0.07276186900752736, 0.07276186900752736, 0.1853941649199603, 0.16123031818739228, 0.16123031818739228, 0.25214124621263895, 0.22176502065248058, 0.2754683601225958, 0.173456219039554, 0.173456219039554, 0.173456219039554, 0.1636306847813793, 0.15287503186563725, 0.15287503186563725, 0.15287503186563725, 0.15287503186563725, 0.050740238968936396, 0.10148047793787279, 0.03382682597929093, 0.03382682597929093, 0.016913412989645465, 0.016913412989645465, 0.10148047793787279, 0.03382682597929093, 0.050740238968936396, 0.016913412989645465, 0.016913412989645465, 0.03382682597929093, 0.016913412989645465, 0.016913412989645465, 0.016913412989645465, 0.03382682597929093, 0.03382682597929093, 0.03382682597929093, 0.03382682597929093, 0.03382682597929093, 0.016913412989645465, 0.03382682597929093, 0.03382682597929093, 0.016913412989645465, 0.016913412989645465, 0.03382682597929093, 0.016913412989645465, 0.016913412989645465, 0.016913412989645465, 0.016913412989645465, 0.016913412989645465, 0.016913412989645465, 0.18815776578308338, 0.09407888289154169, 0.09407888289154169, 0.09407888289154169, 0.09407888289154169, 0.09407888289154169, 0.10146384238879769, 0.10146384238879769, 0.10146384238879769, 0.10146384238879769, 0.10146384238879769, 0.10146384238879769, 0.10146384238879769, 0.13543770751881135, 0.2708754150376227, 0.19167665336274264, 0.09583832668137132, 0.09583832668137132, 0.09583832668137132, 0.09583832668137132, 0.09583832668137132, 0.19364173956886746, 0.19364173956886746, 0.23156698528452188, 0.17685966968415773, 0.08842983484207886, 0.08842983484207886, 0.08842983484207886, 0.08842983484207886, 0.08842983484207886, 0.08842983484207886, 0.08842983484207886, 0.20052767859272524, 0.20052767859272524, 0.18982951157272268, 0.2015900130471703, 0.21505766295985207, 0.16659659280089106, 0.16659659280089106, 0.22099448640383246, 0.26254107166929086, 0.12229711560796026, 0.12229711560796026, 0.12229711560796026, 0.09066155433757, 0.18132310867514, 0.09066155433757, 0.09066155433757, 0.09066155433757, 0.09066155433757, 0.09066155433757, 0.09066155433757, 0.1805325714061411, 0.09026628570307055, 0.09026628570307055, 0.09026628570307055, 0.09026628570307055, 0.09026628570307055, 0.20081744062723342, 0.10040872031361671, 0.10040872031361671, 0.10040872031361671, 0.10040872031361671, 0.10040872031361671, 0.1691660193483274, 0.1691660193483274, 0.1555374763785726, 0.1555374763785726, 0.06310138140401432, 0.06310138140401432, 0.06310138140401432, 0.06310138140401432, 0.12620276280802864, 0.06310138140401432, 0.06310138140401432, 0.06310138140401432, 0.06310138140401432, 0.06310138140401432, 0.06310138140401432, 0.06310138140401432, 0.09855228946309126, 0.09855228946309126, 0.09855228946309126, 0.09855228946309126, 0.09855228946309126, 0.09855228946309126, 0.09855228946309126, 0.09855228946309126, 0.14361491514297248, 0.28722983028594495, 0.14361491514297248, 0.14361491514297248, 0.1752703631996836, 0.1752703631996836, 0.20263078377426008, 0.11479163876785733, 0.11479163876785733, 0.11479163876785733, 0.11479163876785733, 0.11479163876785733, 0.1206770565858516, 0.1206770565858516, 0.1206770565858516, 0.1206770565858516, 0.13257034391827102, 0.13257034391827102, 0.13257034391827102, 0.13257034391827102, 0.19604502871925178, 0.39209005743850356, 0.09705073842445543, 0.09705073842445543, 0.09705073842445543, 0.09705073842445543, 0.09705073842445543, 0.09705073842445543, 0.14817763732281716, 0.14817763732281716, 0.14817763732281716, 0.21027653371897514, 0.1883813306183041, 0.16106284479237265, 0.12296515576348743, 0.12296515576348743, 0.12296515576348743, 0.19832473252650415, 0.2358065895904909, 0.2218323185746194, 0.23228215008138486, 0.23123341457649046, 0.2334041943266942, 0.14315886289352822, 0.14315886289352822, 0.07157943144676411, 0.14315886289352822, 0.07157943144676411, 0.19670121640750268, 0.09835060820375134, 0.09835060820375134, 0.19670121640750268, 0.09835060820375134, 0.2151364510107991, 0.10756822550539955, 0.10756822550539955, 0.2151364510107991, 0.10756822550539955, 0.20879039676950836, 0.10439519838475418, 0.10439519838475418, 0.20879039676950836, 0.17657665785054477, 0.08828832892527239, 0.26486498677581716, 0.31482554489234926, 0.10494184829744975, 0.2098836965948995, 0.03639263189646758, 0.07278526379293516, 0.03639263189646758, 0.03639263189646758, 0.03639263189646758, 0.07278526379293516, 0.03639263189646758, 0.03639263189646758, 0.10917789568940275, 0.03639263189646758, 0.07278526379293516, 0.03639263189646758, 0.03639263189646758, 0.03639263189646758, 0.03639263189646758, 0.03639263189646758, 0.03639263189646758, 0.03639263189646758, 0.03639263189646758, 0.14755795681852343, 0.14755795681852343, 0.3037721512468424, 0.20537648199212188, 0.23150444397385767, 0.17291662732778912, 0.17291662732778912, 0.21019914874224155, 0.2005146020863104, 0.20488082750027636, 0.1760607505442704, 0.1804816695583283, 0.10492915318409055, 0.10492915318409055, 0.10492915318409055, 0.10492915318409055, 0.10492915318409055, 0.1373243717357319, 0.1373243717357319, 0.22056148212153018, 0.2243707380463004, 0.20998482553122816, 0.22329055429552735, 0.15669771934123505, 0.15669771934123505, 0.15669771934123505, 0.16628909521563237, 0.15582627841536742, 0.15582627841536742, 0.2283812411386613, 0.23290756445020253, 0.21543298103068423, 0.23159666879336277, 0.14422830553669932, 0.14422830553669932, 0.14422830553669932, 0.22182131753459292, 0.22182131753459292, 0.19633892898132124, 0.19633892898132124, 0.09539872677951178, 0.09539872677951178, 0.19079745355902356, 0.09539872677951178, 0.09539872677951178, 0.09539872677951178, 0.09296638173547424, 0.18593276347094848, 0.09296638173547424, 0.09296638173547424, 0.09296638173547424, 0.09296638173547424, 0.1959111925125104, 0.24124180774546167, 0.09001887580912157, 0.18003775161824315, 0.09001887580912157, 0.09001887580912157, 0.09001887580912157, 0.197710439426686, 0.0637820407110274, 0.0637820407110274, 0.0637820407110274, 0.0637820407110274, 0.0637820407110274, 0.0637820407110274, 0.1275640814220548, 0.0637820407110274, 0.11444384178607662, 0.11444384178607662, 0.11444384178607662, 0.131782925752413, 0.131782925752413, 0.131782925752413, 0.21419458992312138, 0.14130300560509879, 0.14130300560509879, 0.11236713701644802, 0.11236713701644802, 0.11236713701644802, 0.11236713701644802, 0.11685058715624942, 0.11685058715624942, 0.22300591965256442, 0.21353188210151228, 0.3583314597429881, 0.2083393973274544, 0.2083393973274544, 0.16429454818761627, 0.32858909637523254, 0.2202642566597948, 0.281120095199822, 0.140560047599911, 0.140560047599911, 0.16253907238458892, 0.16253907238458892, 0.18610357954552342, 0.18610357954552342, 0.18610357954552342, 0.15176119650429115, 0.3035223930085823, 0.2941036454371629, 0.38138857259816306, 0.3338675943186311, 0.36673582093125856, 0.38187146253567267, 0.15233599087814578, 0.30467198175629157, 0.13579037785078676, 0.27158075570157353, 0.30164363981475095, 0.35097779602022544, 0.14669302671589737, 0.29338605343179475, 0.31700119634192925, 0.15850059817096462, 0.18161661302212867, 0.1329057174766105, 0.1329057174766105, 0.1329057174766105, 0.21941101375329133, 0.2368652267529263, 0.19066644044847633, 0.19066644044847633, 0.20005140472725294, 0.16292893795717153, 0.16292893795717153, 0.2581060568739393, 0.20948888645219513, 0.10862416766765355, 0.054312083833826776, 0.13578020958456694, 0.027156041916913388, 0.054312083833826776, 0.10862416766765355, 0.027156041916913388, 0.027156041916913388, 0.054312083833826776, 0.027156041916913388, 0.027156041916913388, 0.027156041916913388, 0.027156041916913388, 0.027156041916913388, 0.027156041916913388, 0.027156041916913388, 0.027156041916913388, 0.027156041916913388, 0.027156041916913388, 0.027156041916913388, 0.027156041916913388, 0.16744512415913868, 0.16744512415913868, 0.27511762255080396, 0.13755881127540198, 0.13755881127540198, 0.16933939519805052, 0.33867879039610105, 0.16933939519805052, 0.11775932706193648, 0.11775932706193648, 0.11775932706193648, 0.11775932706193648, 0.17756280615701234, 0.17756280615701234, 0.17756280615701234, 0.14241957304864278, 0.14241957304864278, 0.16929032871670918, 0.33858065743341836, 0.09551657921007883, 0.09551657921007883, 0.19103315842015767, 0.09551657921007883, 0.09551657921007883, 0.15766911776091824, 0.15766911776091824, 0.3153382355218365, 0.1333104859238379, 0.1333104859238379, 0.2666209718476758, 0.16804507209047642, 0.16804507209047642, 0.14453946833684533, 0.14453946833684533, 0.14453946833684533, 0.14453946833684533, 0.26708627764646103, 0.13354313882323052, 0.13354313882323052, 0.13354313882323052, 0.2617932943312299, 0.13089664716561494, 0.20683094798184454, 0.20683094798184454, 0.05782808598518915, 0.05782808598518915, 0.05782808598518915, 0.05782808598518915, 0.05782808598518915, 0.05782808598518915, 0.05782808598518915, 0.05782808598518915, 0.05782808598518915, 0.05782808598518915, 0.05782808598518915, 0.05782808598518915, 0.05782808598518915, 0.2408413588509201, 0.21984548433562137, 0.21571970774163926, 0.22335793317310912, 0.22138566145171518, 0.22138566145171518, 0.19351635875162512, 0.16587931026783562, 0.23774538681335558, 0.10558354454119431, 0.10558354454119431, 0.10558354454119431, 0.10558354454119431, 0.21116708908238863, 0.10558354454119431, 0.10392903779034007, 0.10392903779034007, 0.10392903779034007, 0.20785807558068015, 0.20069277136927585, 0.20069277136927585, 0.06850334457654335, 0.06850334457654335, 0.06850334457654335, 0.06850334457654335, 0.1370066891530867, 0.06850334457654335, 0.06850334457654335, 0.09670755545956577, 0.09670755545956577, 0.09670755545956577, 0.09670755545956577, 0.09670755545956577, 0.10060861622146937, 0.10060861622146937, 0.10060861622146937, 0.10060861622146937, 0.10060861622146937, 0.10060861622146937, 0.10060861622146937, 0.23413619114095438, 0.2333596781248981, 0.19498242262489662, 0.1946009984184952, 0.23032525242671203, 0.22679388717712978, 0.252394475201611, 0.15309353874748483, 0.15309353874748483, 0.15309353874748483, 0.24120159755618997, 0.18980360598697302, 0.2126640700317132, 0.18886348248580034, 0.18886348248580034, 0.25206502755608345, 0.22427887703597368, 0.22427887703597368, 0.19311772818924125, 0.19311772818924125, 0.18940967126733368, 0.25868603942330537, 0.2349825361139936, 0.20762631082832125, 0.20298925931494596, 0.20298925931494596, 0.23133244694040475, 0.24549812901852658, 0.17117188007034248, 0.13192299347521053, 0.13192299347521053, 0.26384598695042105, 0.16828141840684444, 0.15790529675203482, 0.15790529675203482, 0.15790529675203482, 0.06802566370754716, 0.13605132741509432, 0.20407699112264147, 0.13605132741509432, 0.13605132741509432, 0.06802566370754716, 0.06739589614375513, 0.13479179228751026, 0.2021876884312654, 0.13479179228751026, 0.06739589614375513, 0.13479179228751026, 0.06739589614375513, 0.05448804763413626, 0.10897609526827252, 0.10897609526827252, 0.1634641429024088, 0.10897609526827252, 0.05448804763413626, 0.05448804763413626, 0.05448804763413626, 0.05448804763413626, 0.05448804763413626, 0.0674710278727352, 0.1349420557454704, 0.20241308361820565, 0.20241308361820565, 0.1349420557454704, 0.0674710278727352, 0.0674710278727352, 0.0674710278727352, 0.06944710667722652, 0.13889421335445304, 0.20834132003167957, 0.13889421335445304, 0.13889421335445304, 0.06944710667722652, 0.20219051445074074, 0.20219051445074074, 0.21546040365835947, 0.23150428883866933, 0.23150428883866933, 0.3230302135136145, 0.22355443582476806, 0.22355443582476806, 0.1894418407964654, 0.20671220244811192, 0.22198862052198418, 0.16649146539148812, 0.11099431026099209, 0.055497155130496044, 0.055497155130496044, 0.055497155130496044, 0.055497155130496044, 0.055497155130496044, 0.20684637038371637, 0.20684637038371637, 0.10342318519185818, 0.05171159259592909, 0.05171159259592909, 0.05171159259592909, 0.05171159259592909, 0.05171159259592909, 0.05171159259592909, 0.17519097913499407, 0.13139323435124553, 0.08759548956749703, 0.04379774478374852, 0.04379774478374852, 0.04379774478374852, 0.04379774478374852, 0.04379774478374852, 0.04379774478374852, 0.04379774478374852, 0.16547107467349173, 0.18242570262949553, 0.18242570262949553, 0.2297879164201658, 0.17234093731512434, 0.17234093731512434, 0.05744697910504145, 0.05744697910504145, 0.05744697910504145, 0.05744697910504145, 0.21570477102758198, 0.12942286261654917, 0.0862819084110328, 0.0431409542055164, 0.0431409542055164, 0.0431409542055164, 0.0431409542055164, 0.0862819084110328, 0.0431409542055164, 0.0431409542055164, 0.0431409542055164, 0.0431409542055164, 0.11806699899768412, 0.11806699899768412, 0.11806699899768412, 0.11806699899768412, 0.1904442708023104, 0.3808885416046208, 0.35840353568951017, 0.05120050509850145, 0.1024010101970029, 0.05120050509850145, 0.05120050509850145, 0.05120050509850145, 0.05120050509850145, 0.05120050509850145, 0.05120050509850145, 0.36688319410348796, 0.1048237697438537, 0.1048237697438537, 0.05241188487192685, 0.05241188487192685, 0.05241188487192685, 0.05241188487192685, 0.05241188487192685, 0.309819600278202, 0.088519885793772, 0.088519885793772, 0.044259942896886, 0.044259942896886, 0.044259942896886, 0.044259942896886, 0.044259942896886, 0.044259942896886, 0.044259942896886, 0.044259942896886, 0.2331958307895774, 0.4904758416819244, 0.12226355201152184, 0.12226355201152184, 0.12226355201152184, 0.39110923792095786, 0.23869720787596085, 0.21372896611158906, 0.372672551615809, 0.05323893594511556, 0.10647787189023113, 0.05323893594511556, 0.05323893594511556, 0.10647787189023113, 0.05323893594511556, 0.05323893594511556, 0.05323893594511556, 0.37436102553753076, 0.05348014650536154, 0.10696029301072307, 0.05348014650536154, 0.05348014650536154, 0.05348014650536154, 0.10696029301072307, 0.05348014650536154, 0.05348014650536154, 0.05348014650536154, 0.30646313756887283, 0.08756089644824938, 0.08756089644824938, 0.04378044822412469, 0.04378044822412469, 0.04378044822412469, 0.08756089644824938, 0.04378044822412469, 0.04378044822412469, 0.04378044822412469, 0.37756065218029317, 0.2633646680563407, 0.1538930145717061, 0.1538930145717061, 0.1538930145717061, 0.1538930145717061, 0.21715611018667733, 0.08667661280461587, 0.08667661280461587, 0.08667661280461587, 0.08667661280461587, 0.17335322560923175, 0.17335322560923175, 0.20321596893384272, 0.19907208437186416, 0.15193704786544027, 0.15193704786544027, 0.15193704786544027, 0.14790773151195413, 0.14790773151195413, 0.15094298298902145, 0.11314745094486955, 0.11314745094486955, 0.11314745094486955, 0.2262949018897391, 0.14451872436213634, 0.14451872436213634, 0.13712446958409022, 0.13712446958409022, 0.13712446958409022, 0.13712446958409022, 0.2093444716369143, 0.19207976813636635, 0.19207976813636635, 0.18508854712459927, 0.26659651899848685, 0.20552414873677716, 0.20552414873677716, 0.20552414873677716, 0.2333020833346352, 0.25102564212478345, 0.2045307348387048, 0.2045307348387048, 0.23263493691709122, 0.21086062890816298, 0.21694321292708618, 0.2956280592123392, 0.16938437668309356, 0.16938437668309356, 0.16938437668309356, 0.21409270139602632, 0.10704635069801316, 0.10704635069801316, 0.20842422921641776, 0.20842422921641776, 0.12234794541361296, 0.12234794541361296, 0.24469589082722593, 0.12305294216573694, 0.12305294216573694, 0.12305294216573694, 0.04058710788052885, 0.04058710788052885, 0.04058710788052885, 0.04058710788052885, 0.04058710788052885, 0.04058710788052885, 0.0811742157610577, 0.12176132364158654, 0.0811742157610577, 0.04058710788052885, 0.04058710788052885, 0.04058710788052885, 0.04058710788052885, 0.04058710788052885, 0.04058710788052885, 0.0811742157610577, 0.04058710788052885, 0.04058710788052885, 0.04058710788052885, 0.04058710788052885, 0.04058710788052885, 0.11743408572094154, 0.11743408572094154, 0.11743408572094154, 0.23486817144188307, 0.11743408572094154, 0.2052310947430461, 0.14308876099561368, 0.14308876099561368, 0.14308876099561368, 0.13259539267672463, 0.13259539267672463, 0.13259539267672463, 0.04515393254088186, 0.04515393254088186, 0.04515393254088186, 0.04515393254088186, 0.04515393254088186, 0.04515393254088186, 0.13546179762264557, 0.04515393254088186, 0.04515393254088186, 0.04515393254088186, 0.04515393254088186, 0.04515393254088186, 0.04515393254088186, 0.04515393254088186, 0.12348413784118263, 0.12348413784118263, 0.12348413784118263, 0.12348413784118263, 0.12348413784118263, 0.12227143891673901, 0.12227143891673901, 0.12227143891673901, 0.12227143891673901, 0.12227143891673901, 0.13806387319682067, 0.13806387319682067, 0.13806387319682067, 0.13806387319682067, 0.11865204215301234, 0.11865204215301234, 0.11865204215301234, 0.11865204215301234, 0.23730408430602468, 0.11865204215301234, 0.2909316023405051, 0.17918541031419336, 0.17156669236492475, 0.17572461607375786, 0.17572461607375786, 0.18004338568082345, 0.18004338568082345, 0.17775481013749808, 0.3817588171142356, 0.20513646052321366, 0.2342345279723295, 0.21479586544192003, 0.17917573402224293, 0.17917573402224293, 0.1901338533214588, 0.1901338533214588, 0.15402744686368322, 0.15402744686368322, 0.13023064782532404, 0.13023064782532404, 0.13023064782532404, 0.13023064782532404, 0.13023064782532404, 0.19758549495213912, 0.19758549495213912, 0.16228324296120633, 0.23451541450880142, 0.15401326643993998, 0.10267551095995998, 0.05133775547997999, 0.05133775547997999, 0.05133775547997999, 0.05133775547997999, 0.05133775547997999, 0.05133775547997999, 0.10267551095995998, 0.15401326643993998, 0.05133775547997999, 0.09804295294183796, 0.09804295294183796, 0.04902147647091898, 0.04902147647091898, 0.04902147647091898, 0.04902147647091898, 0.04902147647091898, 0.04902147647091898, 0.04902147647091898, 0.09804295294183796, 0.14706442941275694, 0.04902147647091898, 0.12708546352463984, 0.08472364234975989, 0.042361821174879945, 0.042361821174879945, 0.042361821174879945, 0.042361821174879945, 0.042361821174879945, 0.042361821174879945, 0.042361821174879945, 0.042361821174879945, 0.042361821174879945, 0.042361821174879945, 0.08472364234975989, 0.042361821174879945, 0.12708546352463984, 0.042361821174879945, 0.042361821174879945, 0.16241327560996358, 0.1517450035982347, 0.1517450035982347, 0.02081889906601284, 0.02081889906601284, 0.02081889906601284, 0.02081889906601284, 0.04163779813202568, 0.08327559626405136, 0.02081889906601284, 0.04163779813202568, 0.06245669719803852, 0.08327559626405136, 0.06245669719803852, 0.04163779813202568, 0.04163779813202568, 0.02081889906601284, 0.04163779813202568, 0.04163779813202568, 0.02081889906601284, 0.02081889906601284, 0.02081889906601284, 0.02081889906601284, 0.04163779813202568, 0.04163779813202568, 0.02081889906601284, 0.04163779813202568, 0.02081889906601284, 0.02081889906601284, 0.02081889906601284, 0.0942407604265872, 0.0942407604265872, 0.2827222812797616, 0.0942407604265872, 0.0942407604265872, 0.0942407604265872, 0.25161124389810563, 0.12580562194905281, 0.14611599728986865, 0.18872211603224762, 0.06290737201074921, 0.12581474402149842, 0.06290737201074921, 0.12581474402149842, 0.12581474402149842, 0.06290737201074921, 0.2287924275585668, 0.07626414251952227, 0.15252828503904453, 0.07626414251952227, 0.07626414251952227, 0.15252828503904453, 0.07626414251952227, 0.40135758499891405, 0.13378586166630468, 0.37407014505091296, 0.18563822781022504, 0.25760299293883254, 0.20914098518954663, 0.06971366172984887, 0.06971366172984887, 0.13942732345969774, 0.06971366172984887, 0.06971366172984887, 0.06971366172984887, 0.13942732345969774, 0.06971366172984887, 0.20137512117260778, 0.15554663422789763, 0.31109326845579527, 0.21316029162282768, 0.08507182911590425, 0.08507182911590425, 0.08507182911590425, 0.1701436582318085, 0.08507182911590425, 0.08507182911590425, 0.08507182911590425, 0.23912288506106302, 0.11956144253053151, 0.11956144253053151, 0.06482148085909041, 0.19446444257727125, 0.06482148085909041, 0.12964296171818082, 0.06482148085909041, 0.12964296171818082, 0.06482148085909041, 0.07536232545420617, 0.2260869763626185, 0.07536232545420617, 0.15072465090841233, 0.15072465090841233, 0.15072465090841233, 0.07536232545420617, 0.368130610303454, 0.12271020343448467, 0.09197545872750834, 0.09197545872750834, 0.09197545872750834, 0.18395091745501668, 0.09197545872750834, 0.09197545872750834, 0.09197545872750834, 0.09197545872750834, 0.11472524268024473, 0.11472524268024473, 0.11472524268024473, 0.11472524268024473, 0.1082072425359558, 0.2164144850719116, 0.2164144850719116, 0.26599826918481456, 0.13299913459240728, 0.28873648579328137, 0.43185253672872836, 0.34335625802021347, 0.16030185015266296, 0.3206037003053259, 0.11540366073297018, 0.11540366073297018, 0.11540366073297018, 0.23080732146594035, 0.1236080986835216, 0.1236080986835216, 0.1236080986835216, 0.1236080986835216, 0.1361862087528138, 0.2723724175056276, 0.23443454486919538, 0.19539455603385722, 0.02071518080116267, 0.02071518080116267, 0.02071518080116267, 0.02071518080116267, 0.04143036160232534, 0.08286072320465068, 0.02071518080116267, 0.04143036160232534, 0.06214554240348801, 0.08286072320465068, 0.04143036160232534, 0.06214554240348801, 0.04143036160232534, 0.02071518080116267, 0.02071518080116267, 0.04143036160232534, 0.02071518080116267, 0.02071518080116267, 0.02071518080116267, 0.02071518080116267, 0.02071518080116267, 0.04143036160232534, 0.02071518080116267, 0.02071518080116267, 0.06214554240348801, 0.04143036160232534, 0.02071518080116267, 0.02071518080116267, 0.3801362188607098, 0.12671207295356993, 0.12671207295356993, 0.437575575620967, 0.4083276791515393, 0.13610922638384643, 0.10667540906843849, 0.10667540906843849, 0.10667540906843849, 0.10667540906843849, 0.10667540906843849, 0.11370836561820843, 0.11370836561820843, 0.11370836561820843, 0.11370836561820843, 0.11370836561820843, 0.2811817386623046, 0.3645071172055542, 0.19502921181725047, 0.3431909678592802, 0.20241356505431327, 0.06747118835143776, 0.1349423767028755, 0.06747118835143776, 0.06747118835143776, 0.1349423767028755, 0.06747118835143776, 0.20378757451417778, 0.06792919150472593, 0.13585838300945186, 0.06792919150472593, 0.13585838300945186, 0.06792919150472593, 0.20384492937211912, 0.21627236262389693, 0.07209078754129898, 0.14418157508259796, 0.07209078754129898, 0.14418157508259796, 0.07209078754129898, 0.1632194455755311, 0.3264388911510622, 0.21574191203272589, 0.0719139706775753, 0.0719139706775753, 0.0719139706775753, 0.1438279413551506, 0.0719139706775753, 0.1438279413551506, 0.0719139706775753, 0.0719139706775753, 0.07182473148901225, 0.1436494629780245, 0.07182473148901225, 0.1436494629780245, 0.07182473148901225, 0.1436494629780245, 0.07182473148901225, 0.19535332889322282, 0.2167379952529089, 0.1991742641708832, 0.1991742641708832, 0.202497714998651, 0.18030565177095054, 0.23646034865999668, 0.24897434934930804, 0.24897434934930804, 0.17449740771054764, 0.17449740771054764, 0.17449740771054764, 0.2058749920843426, 0.18397573472354492, 0.21163168099243562, 0.21890093511504738, 0.19562032352190456, 0.2063633387026405, 0.15080803492407938, 0.30161606984815875, 0.22086041405845674, 0.21189506034993727, 0.21169408826712166, 0.17495956868778392, 0.17495956868778392, 0.17495956868778392, 0.23230500081392236, 0.20254206309199965, 0.20254206309199965, 0.19016423729082751, 0.19016423729082751, 0.20353817202888527, 0.20353817202888527, 0.20353817202888527, 0.20651028246326877, 0.2429567320628758, 0.2381899866071058, 0.23958493216038904, 0.2050525589837689, 0.18632464338769553, 0.18632464338769553, 0.1802685924954627, 0.1802685924954627, 0.25713998583164477, 0.25713998583164477, 0.1579070224176862, 0.1579070224176862, 0.1579070224176862, 0.12399593379182118, 0.12399593379182118, 0.12399593379182118, 0.12399593379182118, 0.2305999165565913, 0.19159724685130775, 0.19159724685130775, 0.2243543819517705, 0.3406121506487044, 0.17421249713276826, 0.17421249713276826, 0.17421249713276826, 0.2543081898516305, 0.23728523909570054, 0.2291953633148709, 0.24700933491107877, 0.4093134997284615, 0.20465674986423074, 0.19626590973264676, 0.19626590973264676, 0.2092970559427581, 0.2114702238960678, 0.2212508492377242, 0.20718419376526298, 0.20718419376526298, 0.19338413554878048, 0.19338413554878048, 0.19466377446754374, 0.24683517092431653, 0.2659530431214529, 0.36944555159905823, 0.21147667550499166, 0.14929225759906298, 0.14929225759906298, 0.14929225759906298, 0.2198539954508885, 0.24803634182208797, 0.18944728091197713, 0.1032783959153238, 0.1032783959153238, 0.1032783959153238, 0.1032783959153238, 0.1032783959153238, 0.32244087979516933, 0.20176074921806142, 0.20176074921806142, 0.16176190600160892, 0.44683515510745847, 0.0893670310214917, 0.0893670310214917, 0.0893670310214917, 0.4943233230757009, 0.5623770285435594, 0.14059425713588986, 0.532138669667399, 0.5416761074886145, 0.4174151520075258, 0.08348303040150516, 0.08348303040150516, 0.08348303040150516, 0.08348303040150516, 0.41663769005785833, 0.13887923001928612, 0.17497040658654234, 0.2130611568873824, 0.1762740185764262, 0.1762740185764262, 0.1762740185764262, 0.23036923578108098, 0.14559026351274929, 0.14559026351274929, 0.14559026351274929, 0.18110281398568318, 0.1415834299886947, 0.1415834299886947, 0.1415834299886947, 0.15112222355635563, 0.15112222355635563, 0.15900968144028138, 0.15900968144028138, 0.16397968675101882, 0.16397968675101882, 0.21581317472971126, 0.21581317472971126, 0.15803440394108512, 0.15803440394108512, 0.15803440394108512, 0.14121822999417616, 0.14121822999417616, 0.1507505496875476, 0.21089071630674436, 0.16301039731154165, 0.1987675641694705, 0.2130237636312329, 0.20622076380998008, 0.2274798804525971, 0.1586034306530475, 0.1586034306530475, 0.07847332576566997, 0.15694665153133994, 0.07847332576566997, 0.07847332576566997, 0.23541997729700992, 0.15694665153133994, 0.07469282175231612, 0.07469282175231612, 0.14938564350463224, 0.07469282175231612, 0.07469282175231612, 0.22407846525694836, 0.07469282175231612, 0.07113142372986572, 0.07113142372986572, 0.14226284745973145, 0.07113142372986572, 0.07113142372986572, 0.07113142372986572, 0.21339427118959717, 0.07113142372986572, 0.07113142372986572, 0.06545707350831126, 0.06545707350831126, 0.13091414701662252, 0.06545707350831126, 0.13091414701662252, 0.19637122052493375, 0.06545707350831126, 0.06545707350831126, 0.06866381734898118, 0.06866381734898118, 0.13732763469796236, 0.06866381734898118, 0.06866381734898118, 0.20599145204694355, 0.06866381734898118, 0.06866381734898118, 0.17586386357361722, 0.2292649060195973, 0.18029684395340262, 0.18029684395340262, 0.18631965740654358, 0.1755090038316516, 0.13542453966687112, 0.13542453966687112, 0.27084907933374225, 0.17826296815429007, 0.18028755778082275, 0.17111705796404897, 0.17111705796404897, 0.20122977800880615, 0.19300669288268982, 0.21558160822449082, 0.16008035476733598, 0.16008035476733598, 0.16008035476733598, 0.22575837584927697, 0.13860139998305876, 0.13860139998305876, 0.26023121638377006, 0.2231631706469404, 0.1771622142557067, 0.1771622142557067, 0.2034270778110013, 0.13408938205976098, 0.13408938205976098, 0.13408938205976098, 0.20788730997023042, 0.16160143614192446, 0.17535712351419572, 0.14066881198569525, 0.14066881198569525, 0.20424013091560664, 0.20424013091560664, 0.23594149399929695, 0.20133751451427495, 0.20133751451427495, 0.3602892376568189, 0.12009641255227298, 0.3315005580810261, 0.28509244511424225, 0.14254622255712113, 0.4080077708076735, 0.29403785075602823, 0.14701892537801411, 0.2913372065809446, 0.1456686032904723, 0.17745450935593515, 0.1625327303913301, 0.16045535849408527, 0.16045535849408527, 0.1719912325553842, 0.21416232065493618, 0.22448608798907296, 0.18168319453140208, 0.18168319453140208, 0.26761019681194687, 0.14818653396887274, 0.14818653396887274, 0.14818653396887274, 0.3216293583826045, 0.16081467919130224, 0.21076165088695029, 0.20893958953923095, 0.20893958953923095, 0.2494934539400513, 0.20149028889820103, 0.24140509934218377, 0.2482909352253843, 0.2034814113803791, 0.10174070569018955, 0.10174070569018955, 0.10174070569018955, 0.10174070569018955, 0.10174070569018955, 0.10174070569018955, 0.1888598850318024, 0.0944299425159012, 0.0944299425159012, 0.0944299425159012, 0.0944299425159012, 0.08398375055879705, 0.1679675011175941, 0.08398375055879705, 0.08398375055879705, 0.08398375055879705, 0.08398375055879705, 0.08398375055879705, 0.08398375055879705, 0.18690092378792536, 0.18690092378792536, 0.20214590625644024, 0.14852633173658722, 0.14852633173658722, 0.1774018688132668, 0.17559199237537382, 0.1719594005478016, 0.1719594005478016, 0.17416243363110537, 0.17416243363110537, 0.06909714010258478, 0.06909714010258478, 0.06909714010258478, 0.06909714010258478, 0.06909714010258478, 0.06909714010258478, 0.06909714010258478, 0.06909714010258478, 0.06909714010258478, 0.06909714010258478, 0.06909714010258478, 0.06909714010258478, 0.06909714010258478, 0.09672823127588762, 0.09672823127588762, 0.09672823127588762, 0.09672823127588762, 0.09672823127588762, 0.09672823127588762, 0.09672823127588762, 0.13502621782419, 0.27005243564838, 0.13502621782419, 0.20025234124936953, 0.20025234124936953, 0.21841501661795204, 0.1996039521886284, 0.1996039521886284, 0.16876998077952596, 0.16876998077952596, 0.16007494692198898, 0.16007494692198898, 0.14502871580435034, 0.14502871580435034, 0.14502871580435034, 0.17171035242335228, 0.17171035242335228, 0.17171035242335228, 0.25689915032264, 0.15940214353314164, 0.15940214353314164, 0.15940214353314164, 0.26074817056082433, 0.12300572505835357, 0.12300572505835357, 0.12300572505835357, 0.12300572505835357, 0.214444230906086, 0.14789355432483148, 0.14789355432483148, 0.16418937362258532, 0.16418937362258532, 0.18362102491411297, 0.24447644312469924, 0.2453189866077613, 0.23444972171133954, 0.11448568710801237, 0.11448568710801237, 0.22897137421602473, 0.11448568710801237, 0.11448568710801237, 0.1646979659379436, 0.1646979659379436, 0.1646979659379436, 0.20378132569797805, 0.20378132569797805, 0.20378132569797805, 0.16545442175610497, 0.16545442175610497, 0.13352950658289356, 0.13352950658289356, 0.13352950658289356, 0.18547853766530456, 0.2944103390831138, 0.13967829309442878, 0.13967829309442878, 0.13967829309442878, 0.18444536526019642, 0.36889073052039284, 0.1646068395164413, 0.3292136790328826, 0.17877315527846735, 0.16733024410047, 0.2616299384310919, 0.1371827474713632, 0.22429619159782305, 0.22429619159782305, 0.17906456629253562, 0.17906456629253562, 0.17906456629253562, 0.21242506173619002, 0.25514755918302634, 0.25514755918302634, 0.14210158828651837, 0.14210158828651837, 0.14210158828651837, 0.23912820575081134, 0.20004170940140747, 0.20004170940140747, 0.2160724417948976, 0.2160724417948976, 0.17763135849061104, 0.17352136697137976, 0.17352136697137976, 0.15574535619122534, 0.2176782187708753, 0.14181860480598926, 0.14181860480598926, 0.17291033022819027, 0.17291033022819027, 0.34582066045638055, 0.28726099130092847, 0.21874936777073387, 0.21874936777073387, 0.2610541346200316, 0.2754535867048949, 0.14373453597981428, 0.14373453597981428, 0.14373453597981428, 0.14373453597981428, 0.22420330374061906, 0.22420330374061906, 0.2237750876568714, 0.1118875438284357, 0.2237750876568714, 0.18938313998201256, 0.09469156999100628, 0.18938313998201256, 0.09469156999100628, 0.18101478516252673, 0.2103861834748019, 0.22120477689971205, 0.22120477689971205, 0.17822210715968997, 0.20256517477002886, 0.20747434755002112, 0.22623851130528586, 0.19127224602234671, 0.2102144371311067, 0.2961978540041304, 0.1480989270020652, 0.1480989270020652, 0.2179587353408398, 0.4128084983133158, 0.1758684824083401, 0.1758684824083401, 0.16147089736353823, 0.16147089736353823, 0.20250529381900428, 0.20250529381900428, 0.2611111639665427, 0.21362065056684112, 0.0917862036545234, 0.0917862036545234, 0.0917862036545234, 0.0917862036545234, 0.0917862036545234, 0.0917862036545234, 0.0917862036545234, 0.0917862036545234, 0.0917862036545234, 0.20861185364726967, 0.20714646393440023, 0.18659269156440847, 0.20354143766257957, 0.151253590569411, 0.302507181138822, 0.16618199825363822, 0.16618199825363822, 0.16618199825363822, 0.13856699814932885, 0.06928349907466443, 0.06928349907466443, 0.06928349907466443, 0.06928349907466443, 0.06928349907466443, 0.06928349907466443, 0.05037840675182271, 0.05037840675182271, 0.05037840675182271, 0.05037840675182271, 0.05037840675182271, 0.05037840675182271, 0.05037840675182271, 0.05037840675182271, 0.05037840675182271, 0.05037840675182271, 0.05037840675182271, 0.05037840675182271, 0.05037840675182271, 0.10075681350364542, 0.05037840675182271, 0.05037840675182271, 0.05037840675182271, 0.05628311504069437, 0.05628311504069437, 0.05628311504069437, 0.05628311504069437, 0.05628311504069437, 0.05628311504069437, 0.05628311504069437, 0.05628311504069437, 0.05628311504069437, 0.05628311504069437, 0.05628311504069437, 0.11256623008138875, 0.2223202868917359, 0.16717546784629292, 0.16717546784629292, 0.16717546784629292, 0.1885466116092717, 0.14806567826310246, 0.14806567826310246, 0.14806567826310246, 0.1576192415432866, 0.1576192415432866, 0.1576192415432866, 0.16075317310848605, 0.05358439103616201, 0.05358439103616201, 0.05358439103616201, 0.05358439103616201, 0.05358439103616201, 0.05358439103616201, 0.05358439103616201, 0.05358439103616201, 0.05358439103616201, 0.05358439103616201, 0.05358439103616201, 0.06549162624554707, 0.13098325249109413, 0.19647487873664118, 0.13098325249109413, 0.13098325249109413, 0.06549162624554707, 0.06549162624554707, 0.057602861717219886, 0.11520572343443977, 0.23041144686887954, 0.057602861717219886, 0.17280858515165967, 0.11520572343443977, 0.057602861717219886, 0.057602861717219886, 0.04907225941073104, 0.14721677823219312, 0.14721677823219312, 0.09814451882146208, 0.04907225941073104, 0.09814451882146208, 0.04907225941073104, 0.04907225941073104, 0.04907225941073104, 0.04907225941073104, 0.04907225941073104, 0.1626756458750194, 0.22332398761997188, 0.15899970866039612, 0.31799941732079223, 0.23629100667039127, 0.1759696213171193, 0.05072690438312755, 0.05072690438312755, 0.05072690438312755, 0.05072690438312755, 0.05072690438312755, 0.05072690438312755, 0.05072690438312755, 0.05072690438312755, 0.05072690438312755, 0.05072690438312755, 0.05072690438312755, 0.05072690438312755, 0.1014538087662551, 0.05072690438312755, 0.05072690438312755, 0.05072690438312755, 0.06372770297382764, 0.06372770297382764, 0.06372770297382764, 0.06372770297382764, 0.12745540594765528, 0.06372770297382764, 0.06372770297382764, 0.06372770297382764, 0.06372770297382764, 0.06372770297382764, 0.06372770297382764, 0.19611307394200606, 0.19611307394200606, 0.15980626830214117, 0.16468938680797798, 0.16468938680797798, 0.0707005526555928, 0.1414011053111856, 0.2121016579667784, 0.1414011053111856, 0.1414011053111856, 0.0707005526555928, 0.0707005526555928, 0.06865777137188532, 0.13731554274377064, 0.20597331411565595, 0.13731554274377064, 0.13731554274377064, 0.06865777137188532, 0.20771559013528704, 0.054984076040569964, 0.10996815208113993, 0.10996815208113993, 0.1649522281217099, 0.10996815208113993, 0.054984076040569964, 0.054984076040569964, 0.054984076040569964, 0.15413430768274602, 0.30826861536549205, 0.1643162455899943, 0.1643162455899943, 0.1643162455899943, 0.2158880124028114, 0.15451196493020328, 0.2663459189259128, 0.24740552301520732, 0.21528715435528895, 0.3560091443368626, 0.47974888349281875, 0.11993722087320469, 0.40426216107705215, 0.10106554026926304, 0.10106554026926304, 0.12018451866890277, 0.12018451866890277, 0.12018451866890277, 0.12018451866890277, 0.26951873861190007, 0.13475936930595003, 0.13152145742806243, 0.39456437228418734, 0.12860891378528982, 0.25721782757057965, 0.1518769737331968, 0.1518769737331968, 0.19206530654144166, 0.13540323005600216, 0.13540323005600216, 0.13540323005600216, 0.13540323005600216, 0.07572144948407943, 0.3028857979363177, 0.07572144948407943, 0.07572144948407943, 0.07572144948407943, 0.07572144948407943, 0.13184965479476987, 0.06592482739738494, 0.13184965479476987, 0.06592482739738494, 0.1977744821921548, 0.06592482739738494, 0.06592482739738494, 0.06592482739738494, 0.267942042905719, 0.12503962002266888, 0.12503962002266888, 0.08931401430190634, 0.035725605720762534, 0.035725605720762534, 0.08931401430190634, 0.017862802860381267, 0.017862802860381267, 0.017862802860381267, 0.017862802860381267, 0.017862802860381267, 0.017862802860381267, 0.035725605720762534, 0.017862802860381267, 0.26482499422212213, 0.12358499730365699, 0.12358499730365699, 0.07061999845923256, 0.03530999922961628, 0.03530999922961628, 0.0882749980740407, 0.01765499961480814, 0.01765499961480814, 0.01765499961480814, 0.01765499961480814, 0.01765499961480814, 0.01765499961480814, 0.03530999922961628, 0.01765499961480814, 0.01765499961480814, 0.01765499961480814, 0.09339962774995923, 0.09339962774995923, 0.031133209249986412, 0.09339962774995923, 0.031133209249986412, 0.031133209249986412, 0.031133209249986412, 0.031133209249986412, 0.062266418499972824, 0.031133209249986412, 0.062266418499972824, 0.062266418499972824, 0.031133209249986412, 0.031133209249986412, 0.09339962774995923, 0.031133209249986412, 0.031133209249986412, 0.031133209249986412, 0.031133209249986412, 0.11835201924533174, 0.08876401443399881, 0.029588004811332936, 0.08876401443399881, 0.029588004811332936, 0.029588004811332936, 0.029588004811332936, 0.029588004811332936, 0.029588004811332936, 0.029588004811332936, 0.029588004811332936, 0.029588004811332936, 0.029588004811332936, 0.05917600962266587, 0.05917600962266587, 0.029588004811332936, 0.029588004811332936, 0.11835201924533174, 0.029588004811332936, 0.029588004811332936, 0.029588004811332936, 0.029588004811332936, 0.4044337796523437, 0.24954526897885626, 0.13309081012205667, 0.11645445885679959, 0.08318175632628542, 0.03327270253051417, 0.03327270253051417, 0.09981810759154251, 0.016636351265257084, 0.016636351265257084, 0.03327270253051417, 0.016636351265257084, 0.016636351265257084, 0.016636351265257084, 0.016636351265257084, 0.03327270253051417, 0.016636351265257084, 0.08910725601902901, 0.08910725601902901, 0.02970241867300967, 0.02970241867300967, 0.08910725601902901, 0.02970241867300967, 0.02970241867300967, 0.02970241867300967, 0.02970241867300967, 0.02970241867300967, 0.02970241867300967, 0.02970241867300967, 0.05940483734601934, 0.05940483734601934, 0.02970241867300967, 0.02970241867300967, 0.11880967469203868, 0.02970241867300967, 0.02970241867300967, 0.02970241867300967, 0.02970241867300967, 0.1961460499407329, 0.5400679194190792, 0.2189782612480242, 0.11729226744170719, 0.058646133720853595, 0.11729226744170719, 0.058646133720853595, 0.058646133720853595, 0.058646133720853595, 0.058646133720853595, 0.058646133720853595, 0.058646133720853595, 0.058646133720853595, 0.05925998774040252, 0.05925998774040252, 0.11851997548080503, 0.05925998774040252, 0.05925998774040252, 0.05925998774040252, 0.05925998774040252, 0.11851997548080503, 0.05925998774040252, 0.05925998774040252, 0.05925998774040252, 0.05925998774040252, 0.05925998774040252, 0.05540317803594666, 0.11080635607189332, 0.05540317803594666, 0.11080635607189332, 0.05540317803594666, 0.11080635607189332, 0.05540317803594666, 0.05540317803594666, 0.05540317803594666, 0.05540317803594666, 0.05540317803594666, 0.2922083790881295, 0.4247814465416722, 0.4650956831262819, 0.2742697647725438, 0.1371348823862719, 0.1492451625189683, 0.1492451625189683, 0.4641000918417613, 0.09282001836835226, 0.09282001836835226, 0.44332369691142426, 0.08866473938228486, 0.08866473938228486, 0.2728453703239, 0.09094845677463334, 0.18189691354926668, 0.09094845677463334, 0.2604052860574768, 0.1215224668268225, 0.1388828192306543, 0.08680176201915893, 0.03472070480766357, 0.03472070480766357, 0.10416211442299071, 0.017360352403831786, 0.017360352403831786, 0.017360352403831786, 0.017360352403831786, 0.017360352403831786, 0.017360352403831786, 0.03472070480766357, 0.017360352403831786, 0.017360352403831786, 0.2659499228773309, 0.12410996400942108, 0.12410996400942108, 0.0709199794339549, 0.03545998971697745, 0.03545998971697745, 0.08864997429244363, 0.017729994858488723, 0.017729994858488723, 0.03545998971697745, 0.017729994858488723, 0.017729994858488723, 0.017729994858488723, 0.03545998971697745, 0.017729994858488723, 0.017729994858488723, 0.017729994858488723, 0.2578782897358402, 0.13753508785911478, 0.13753508785911478, 0.06876754392955739, 0.034383771964778695, 0.034383771964778695, 0.08595942991194674, 0.017191885982389347, 0.017191885982389347, 0.034383771964778695, 0.017191885982389347, 0.017191885982389347, 0.017191885982389347, 0.017191885982389347, 0.034383771964778695, 0.017191885982389347, 0.46204862391209345, 0.38485739530161517, 0.12828579843387172, 0.14801002383561043, 0.14801002383561043, 0.1462150209041493, 0.1462150209041493, 0.1462150209041493, 0.1462150209041493, 0.10116816252322992, 0.10116816252322992, 0.05058408126161496, 0.05058408126161496, 0.05058408126161496, 0.05058408126161496, 0.05058408126161496, 0.05058408126161496, 0.05058408126161496, 0.1517522437848449, 0.05058408126161496, 0.10052503311433482, 0.10052503311433482, 0.05026251655716741, 0.05026251655716741, 0.05026251655716741, 0.05026251655716741, 0.05026251655716741, 0.05026251655716741, 0.05026251655716741, 0.05026251655716741, 0.05026251655716741, 0.05026251655716741, 0.05026251655716741, 0.1507875496715022, 0.05026251655716741, 0.09624116915555714, 0.09624116915555714, 0.04812058457777857, 0.04812058457777857, 0.04812058457777857, 0.04812058457777857, 0.04812058457777857, 0.04812058457777857, 0.04812058457777857, 0.09624116915555714, 0.1443617537333357, 0.04812058457777857, 0.04812058457777857, 0.15206422708612757, 0.19842200089658404, 0.19842200089658404, 0.17433718164663806, 0.06021229658765082, 0.06021229658765082, 0.18063688976295245, 0.12042459317530164, 0.06021229658765082, 0.06021229658765082, 0.06021229658765082, 0.06021229658765082, 0.06021229658765082, 0.06021229658765082, 0.06104452158654668, 0.06104452158654668, 0.18313356475964004, 0.12208904317309335, 0.06104452158654668, 0.06104452158654668, 0.06104452158654668, 0.06104452158654668, 0.06104452158654668, 0.06104452158654668, 0.06201113430832318, 0.06201113430832318, 0.18603340292496956, 0.12402226861664636, 0.06201113430832318, 0.06201113430832318, 0.06201113430832318, 0.06201113430832318, 0.06201113430832318, 0.06201113430832318, 0.13786851000504782, 0.27573702001009565, 0.13786851000504782, 0.22481322022674738, 0.06031650188128099, 0.06031650188128099, 0.06031650188128099, 0.18094950564384296, 0.12063300376256197, 0.06031650188128099, 0.06031650188128099, 0.06031650188128099, 0.06031650188128099, 0.06031650188128099, 0.06031650188128099, 0.060001131617657064, 0.060001131617657064, 0.18000339485297118, 0.12000226323531413, 0.060001131617657064, 0.060001131617657064, 0.060001131617657064, 0.060001131617657064, 0.060001131617657064, 0.060001131617657064, 0.05982382663323916, 0.17947147989971748, 0.05982382663323916, 0.17947147989971748, 0.05982382663323916, 0.05982382663323916, 0.05982382663323916, 0.05982382663323916, 0.05982382663323916, 0.05982382663323916, 0.16541016256549654, 0.16541016256549654, 0.20153243358610815, 0.20153243358610815, 0.14850098755587499, 0.22275148133381248, 0.22275148133381248, 0.07425049377793749, 0.07425049377793749, 0.1867013128748308, 0.1867013128748308, 0.1951856152641272, 0.1951856152641272, 0.1510267446156108, 0.1510267446156108, 0.14363908997281274, 0.14363908997281274, 0.2154586349592191, 0.07181954498640637, 0.07181954498640637, 0.07181954498640637, 0.07679908095215238, 0.15359816190430475, 0.2303972428564571, 0.07679908095215238, 0.07679908095215238, 0.17997838264871086, 0.17997838264871086, 0.15975225783001526, 0.23962838674502288, 0.23962838674502288, 0.07987612891500763, 0.07987612891500763, 0.14720040843825813, 0.07360020421912906, 0.2208006126573872, 0.2208006126573872, 0.07360020421912906, 0.07360020421912906, 0.145961228893794, 0.072980614446897, 0.218941843340691, 0.218941843340691, 0.072980614446897, 0.072980614446897, 0.22384429254946034, 0.15800519920029138, 0.15800519920029138, 0.23700779880043707, 0.07900259960014569, 0.07900259960014569, 0.1468001178081554, 0.1468001178081554, 0.2202001767122331, 0.0734000589040777, 0.0734000589040777, 0.15416964746248757, 0.23125447119373135, 0.23125447119373135, 0.07708482373124378, 0.07708482373124378, 0.15521576331063391, 0.23282364496595087, 0.23282364496595087, 0.07760788165531696, 0.07760788165531696, 0.21719446441354165, 0.21264618221081888, 0.2189345699385139, 0.14728322969217336, 0.2945664593843467, 0.21986536857794103, 0.3476974469645167, 0.37173460538903064, 0.28468858861829066, 0.20184938051150383, 0.34001379419843214, 0.2247657416272415, 0.3178873204364048, 0.3262958535471347, 0.16314792677356735, 0.06390768797100724, 0.4473538157970507, 0.19172306391302174, 0.06492558375274383, 0.4544790862692068, 0.06492558375274383, 0.1947767512582315, 0.06492558375274383, 0.4818919141523132, 0.20652510606527708, 0.4207027934648181, 0.21035139673240905, 0.07011713224413635, 0.07011713224413635, 0.39093745067305713, 0.2606249671153714, 0.46751710867936247, 0.2003644751482982, 0.06678815838276607, 0.06550070224832498, 0.45850491573827484, 0.19650210674497492, 0.15541679477366255, 0.3108335895473251, 0.5192937010346003, 0.22255444330054297, 0.4765041805987249, 0.2722881031992714, 0.4614160228013339, 0.19774972405771454, 0.41108178908759285, 0.20554089454379643, 0.06851363151459881, 0.4125091471092686, 0.2062545735546343, 0.06875152451821143, 0.48194821025511236, 0.20654923296647673, 0.3837317788067024, 0.1918658894033512, 0.06395529646778372, 0.06395529646778372, 0.06395529646778372, 0.361289150945017, 0.2909266543174401, 0.1702807130834403, 0.21590985321871828, 0.18958057367391037, 0.18958057367391037, 0.19094744765965344, 0.19094744765965344, 0.05244874458077918, 0.15734623374233753, 0.05244874458077918, 0.05244874458077918, 0.05244874458077918, 0.05244874458077918, 0.05244874458077918, 0.10489748916155836, 0.05244874458077918, 0.05244874458077918, 0.05244874458077918, 0.052860881426708535, 0.052860881426708535, 0.052860881426708535, 0.052860881426708535, 0.052860881426708535, 0.052860881426708535, 0.052860881426708535, 0.052860881426708535, 0.052860881426708535, 0.052860881426708535, 0.052860881426708535, 0.10572176285341707, 0.052860881426708535, 0.052860881426708535, 0.052860881426708535, 0.057165658346667536, 0.057165658346667536, 0.057165658346667536, 0.057165658346667536, 0.057165658346667536, 0.057165658346667536, 0.057165658346667536, 0.057165658346667536, 0.057165658346667536, 0.057165658346667536, 0.11433131669333507, 0.057165658346667536, 0.11315280519678819, 0.11315280519678819, 0.11315280519678819, 0.11315280519678819, 0.15914664127107772, 0.15914664127107772, 0.17615994391272305, 0.17615994391272305, 0.12438083701470351, 0.12438083701470351, 0.12438083701470351, 0.2228396221600065, 0.2228396221600065, 0.22705495673541107, 0.04954983585471373, 0.09909967170942746, 0.04954983585471373, 0.04954983585471373, 0.04954983585471373, 0.04954983585471373, 0.04954983585471373, 0.04954983585471373, 0.04954983585471373, 0.04954983585471373, 0.04954983585471373, 0.04954983585471373, 0.04954983585471373, 0.04954983585471373, 0.21815168855267514, 0.21771720352343912, 0.21771720352343912, 0.26771634631420976, 0.20586466226931513, 0.11832265391302357, 0.11832265391302357, 0.11832265391302357, 0.11832265391302357, 0.21478556085056358, 0.21478556085056358, 0.21478556085056358, 0.1751075969525816, 0.23122442989137115, 0.21225542369921843, 0.28161177517620467, 0.11298123130048113, 0.11298123130048113, 0.11298123130048113, 0.11298123130048113, 0.08640749850283513, 0.08640749850283513, 0.08640749850283513, 0.08640749850283513, 0.08640749850283513, 0.08640749850283513, 0.1786021503227103, 0.1786021503227103, 0.1933501854119533, 0.1933501854119533, 0.19958017795777838, 0.21041077991851875, 0.08585984256822743, 0.17171968513645486, 0.08585984256822743, 0.08585984256822743, 0.08585984256822743, 0.08585984256822743, 0.224200649723284, 0.07473354990776133, 0.14946709981552267, 0.07473354990776133, 0.07473354990776133, 0.14946709981552267, 0.07473354990776133, 0.22186419472365645, 0.07395473157455215, 0.1479094631491043, 0.07395473157455215, 0.1479094631491043, 0.07395473157455215, 0.13706119145563359, 0.11421765954636133, 0.022843531909272265, 0.022843531909272265, 0.11421765954636133, 0.09137412763708906, 0.022843531909272265, 0.022843531909272265, 0.022843531909272265, 0.04568706381854453, 0.022843531909272265, 0.022843531909272265, 0.022843531909272265, 0.04568706381854453, 0.04568706381854453, 0.022843531909272265, 0.022843531909272265, 0.022843531909272265, 0.022843531909272265, 0.022843531909272265, 0.25340899995441657, 0.06335224998860414, 0.12670449997720828, 0.06335224998860414, 0.06335224998860414, 0.12670449997720828, 0.06335224998860414, 0.060557127543762156, 0.24222851017504862, 0.060557127543762156, 0.060557127543762156, 0.12111425508752431, 0.060557127543762156, 0.060557127543762156, 0.12111425508752431, 0.060557127543762156, 0.16062911131060903, 0.16062911131060903, 0.16062911131060903, 0.06377389990619138, 0.06377389990619138, 0.19132169971857413, 0.12754779981238276, 0.06377389990619138, 0.06377389990619138, 0.06377389990619138, 0.06377389990619138, 0.06377389990619138, 0.06377389990619138, 0.06384579640377716, 0.19153738921133148, 0.12769159280755432, 0.06384579640377716, 0.06384579640377716, 0.06384579640377716, 0.06384579640377716, 0.06384579640377716, 0.06384579640377716, 0.16225174257012764, 0.16225174257012764, 0.2433776138551915, 0.08112587128506382, 0.08112587128506382, 0.15476862331246286, 0.15476862331246286, 0.23215293496869427, 0.07738431165623143, 0.07738431165623143, 0.046422324379893465, 0.046422324379893465, 0.046422324379893465, 0.046422324379893465, 0.18568929751957386, 0.09284464875978693, 0.1392669731396804, 0.046422324379893465, 0.046422324379893465, 0.046422324379893465, 0.046422324379893465, 0.046422324379893465, 0.046422324379893465, 0.046422324379893465, 0.1782335160773458, 0.05941117202578194, 0.23764468810312775, 0.1782335160773458, 0.05941117202578194, 0.05941117202578194, 0.05941117202578194, 0.18029937716436256, 0.060099792388120854, 0.060099792388120854, 0.18029937716436256, 0.18029937716436256, 0.060099792388120854, 0.060099792388120854, 0.060099792388120854, 0.17505150354870327, 0.17505150354870327, 0.17505150354870327, 0.18834591925650712, 0.1851077525904022, 0.1851077525904022, 0.1851077525904022, 0.2641228930260405, 0.19282210692305166, 0.19282210692305166, 0.21983384997737623, 0.21983384997737623, 0.20067097273097786, 0.21892792068482322, 0.21285151785011744, 0.17009324427698755, 0.17009324427698755, 0.17009324427698755, 0.20128948199965982, 0.18753892850565587, 0.18753892850565587, 0.18531715105408078, 0.20404352056907513, 0.15436366144440591, 0.15436366144440591, 0.15436366144440591, 0.22997714802706556, 0.12322129003081715, 0.12322129003081715, 0.38901368258765523, 0.21198539976840666, 0.23353212735744433, 0.1902519029568052, 0.21815436335548263, 0.24932484268849386, 0.19817140861258706, 0.24999801667181218, 0.2333668625676196, 0.15656283614303654, 0.20442938352242157, 0.20442938352242157, 0.13823044197463205, 0.13823044197463205, 0.13823044197463205, 0.13823044197463205, 0.16362417132664014, 0.16362417132664014, 0.18919059122115947, 0.16537412546259925, 0.16537412546259925, 0.2601272835285628, 0.2286382345893887, 0.2735596809109295, 0.2624343692747098, 0.2360819879988028, 0.1542067453351809, 0.1542067453351809, 0.1571112417189445, 0.314222483437889, 0.23794079623298692, 0.22544808220009876, 0.22544808220009876, 0.2091074821597182, 0.19250446716205347, 0.1934354502599141, 0.2437335816074063, 0.14607515133781465, 0.2921503026756293, 0.2208439490147264, 0.2208439490147264, 0.23296698012581504, 0.15143498449273085, 0.15143498449273085, 0.15143498449273085, 0.15143498449273085, 0.24877542307120906, 0.20852404362088642, 0.25073359939309886, 0.21723318317202547, 0.23960630181036766, 0.2543627437605053, 0.2299854379911573, 0.4617478764849095, 0.21361106956876294, 0.21361106956876294, 0.1869091113225979, 0.2553899347429067, 0.20008081237037706, 0.3413761647234154, 0.1706880823617077, 0.19137403606514936, 0.19137403606514936, 0.23254091089526582, 0.15364643155339752, 0.15364643155339752, 0.15364643155339752, 0.2688632924314597, 0.22349340336725618, 0.15637932500751936, 0.3127586500150387, 0.20642943363898336, 0.1993713308460305, 0.23677492063922528, 0.1251760585298252, 0.1251760585298252, 0.1251760585298252, 0.24059890101652553, 0.09715194857973593, 0.09715194857973593, 0.09715194857973593, 0.09715194857973593, 0.09715194857973593, 0.09715194857973593, 0.5354041961134858, 0.5105011851920664, 0.5703013507206237, 0.5010164594837705, 0.5360235629494408, 0.5298536523100061, 0.4925988573194324, 0.09851977146388649, 0.09851977146388649, 0.2110179631221268, 0.19810487391177192, 0.23703957243100598, 0.24834100247753374, 0.20983843371172306, 0.23963482080424175, 0.23196040420248673, 0.2278208473791508, 0.20386575539793952, 0.19074015707976114, 0.2608266426918427, 0.27756500593549605, 0.31231284744296905, 0.15064991035336275, 0.15064991035336275, 0.15064991035336275, 0.14149277502027877, 0.06471077489730392, 0.12942154979460785, 0.12942154979460785, 0.19413232469191177, 0.06471077489730392, 0.06471077489730392, 0.12942154979460785, 0.06471077489730392, 0.06471077489730392, 0.07464807579970073, 0.14929615159940146, 0.22394422739910222, 0.22394422739910222, 0.14929615159940146, 0.07464807579970073, 0.05225280144050466, 0.10450560288100932, 0.10450560288100932, 0.10450560288100932, 0.05225280144050466, 0.05225280144050466, 0.10450560288100932, 0.05225280144050466, 0.05225280144050466, 0.05225280144050466, 0.05225280144050466, 0.05225280144050466, 0.19678160533685896, 0.21518640471720193, 0.21518640471720193, 0.3281589885292727, 0.16407949426463636, 0.07471174177764131, 0.14942348355528262, 0.22413522533292396, 0.22413522533292396, 0.14942348355528262, 0.07471174177764131, 0.06549634515556131, 0.13099269031112262, 0.19648903546668395, 0.19648903546668395, 0.13099269031112262, 0.06549634515556131, 0.05506917263725872, 0.11013834527451744, 0.16520751791177615, 0.11013834527451744, 0.11013834527451744, 0.05506917263725872, 0.05506917263725872, 0.05506917263725872, 0.05506917263725872, 0.15337308464611468, 0.15337308464611468, 0.20279210767512554, 0.06759736922504185, 0.06759736922504185, 0.1351947384500837, 0.06759736922504185, 0.1351947384500837, 0.06759736922504185, 0.1331592461453239, 0.06657962307266195, 0.06657962307266195, 0.1331592461453239, 0.06657962307266195, 0.1331592461453239, 0.06657962307266195, 0.14250612546823974, 0.11875510455686644, 0.023751020911373287, 0.023751020911373287, 0.023751020911373287, 0.11875510455686644, 0.09500408364549315, 0.023751020911373287, 0.023751020911373287, 0.023751020911373287, 0.023751020911373287, 0.023751020911373287, 0.023751020911373287, 0.023751020911373287, 0.047502041822746574, 0.023751020911373287, 0.047502041822746574, 0.023751020911373287, 0.023751020911373287, 0.023751020911373287, 0.17508087678430348, 0.17508087678430348, 0.1668463889001393, 0.1668463889001393, 0.05896803347427364, 0.23587213389709455, 0.05896803347427364, 0.11793606694854727, 0.05896803347427364, 0.05896803347427364, 0.11793606694854727, 0.05896803347427364, 0.242306756625388, 0.060576689156347, 0.121153378312694, 0.060576689156347, 0.121153378312694, 0.121153378312694, 0.060576689156347, 0.1850870850292975, 0.1850870850292975, 0.18509932637746757, 0.18509932637746757, 0.14725521603163047, 0.07362760801581524, 0.2208828240474457, 0.2208828240474457, 0.07362760801581524, 0.07362760801581524, 0.146276861311155, 0.0731384306555775, 0.146276861311155, 0.2194152919667325, 0.0731384306555775, 0.0731384306555775, 0.16601838495597818, 0.05533946165199272, 0.05533946165199272, 0.16601838495597818, 0.16601838495597818, 0.05533946165199272, 0.05533946165199272, 0.05533946165199272, 0.05533946165199272, 0.18190296033154865, 0.06063432011051621, 0.24253728044206485, 0.18190296033154865, 0.06063432011051621, 0.06063432011051621, 0.06063432011051621, 0.2182039661966848, 0.07273465539889494, 0.14546931079778988, 0.07273465539889494, 0.14546931079778988, 0.07273465539889494, 0.21568885090296883, 0.07189628363432295, 0.1437925672686459, 0.07189628363432295, 0.1437925672686459, 0.07189628363432295, 0.14360750082313026, 0.11967291735260854, 0.02393458347052171, 0.02393458347052171, 0.11967291735260854, 0.09573833388208684, 0.04786916694104342, 0.02393458347052171, 0.02393458347052171, 0.02393458347052171, 0.02393458347052171, 0.02393458347052171, 0.02393458347052171, 0.04786916694104342, 0.04786916694104342, 0.02393458347052171, 0.02393458347052171, 0.02393458347052171, 0.02393458347052171, 0.23593033931125798, 0.058982584827814495, 0.11796516965562899, 0.058982584827814495, 0.058982584827814495, 0.058982584827814495, 0.11796516965562899, 0.058982584827814495, 0.25485075172619537, 0.06371268793154884, 0.12742537586309768, 0.06371268793154884, 0.06371268793154884, 0.12742537586309768, 0.06371268793154884, 0.15499320799105612, 0.15499320799105612, 0.2324898119865842, 0.07749660399552806, 0.07749660399552806, 0.07749660399552806, 0.08983406614025198, 0.17966813228050396, 0.26950219842075596, 0.08983406614025198, 0.08983406614025198, 0.21537037759874172, 0.1651431154884752, 0.05504770516282507, 0.05504770516282507, 0.1651431154884752, 0.1651431154884752, 0.05504770516282507, 0.05504770516282507, 0.05504770516282507, 0.05504770516282507, 0.17320860422734477, 0.05773620140911492, 0.05773620140911492, 0.17320860422734477, 0.17320860422734477, 0.05773620140911492, 0.05773620140911492, 0.05773620140911492, 0.13685946484140948, 0.27371892968281897, 0.13685946484140948, 0.22791297213079437, 0.14872288010419826, 0.14872288010419826, 0.14872288010419826, 0.13691007495682647, 0.13691007495682647, 0.17506145935529116, 0.17506145935529116, 0.3368005867977469, 0.16840029339887344, 0.19908650845631257, 0.1900668022009579, 0.1900668022009579, 0.14424566901956226, 0.14424566901956226, 0.14424566901956226, 0.18017489046364943, 0.1841956854426355, 0.25053332620707586, 0.15092967713743893, 0.15092967713743893, 0.15092967713743893, 0.1313117021519016, 0.1313117021519016, 0.1313117021519016, 0.3161496407075025, 0.15807482035375126, 0.15807482035375126, 0.15076632672340087, 0.15076632672340087, 0.15076632672340087, 0.135920824259881, 0.135920824259881, 0.15957316180135012, 0.15957316180135012, 0.14044865685244035, 0.14044865685244035, 0.2808973137048807, 0.2856348653319739, 0.12630798771934962, 0.12630798771934962, 0.12630798771934962, 0.12630798771934962, 0.13616356933383958, 0.13616356933383958, 0.13616356933383958, 0.13616356933383958, 0.15649863102754963, 0.15649863102754963, 0.15160972676128107, 0.15160972676128107, 0.20465244908979516, 0.2779758203195365, 0.13898791015976825, 0.2864453089441514, 0.1548641925397955, 0.1548641925397955, 0.2130127084934313, 0.2130127084934313, 0.14414498841236575, 0.14414498841236575, 0.16291065742439248, 0.18281207384895817, 0.21238594141128544, 0.12448525759262297, 0.12448525759262297, 0.10333234644237624, 0.10333234644237624, 0.10333234644237624, 0.10333234644237624, 0.10333234644237624, 0.13929838615390003, 0.13929838615390003, 0.13929838615390003, 0.14425182105835915, 0.14425182105835915, 0.14425182105835915, 0.1552973216047853, 0.1552973216047853, 0.23951671836497057, 0.188884192352128, 0.17282228387667378, 0.17282228387667378, 0.17282228387667378, 0.1801371382090275, 0.1853088379712192, 0.16386777488487356, 0.16386777488487356, 0.19165275274744398, 0.16340301114810415, 0.16340301114810415, 0.16340301114810415, 0.270665350499702, 0.1926532594166468, 0.11287366965068976, 0.11287366965068976, 0.11287366965068976, 0.11287366965068976, 0.11287366965068976, 0.11287366965068976, 0.12282368677767266, 0.12282368677767266, 0.12282368677767266, 0.12282368677767266, 0.12282368677767266, 0.23816668042253675, 0.20392621499377206, 0.1733599814429666, 0.1733599814429666, 0.17339582065241543, 0.17339582065241543, 0.20511613215693975, 0.20511613215693975, 0.20511613215693975, 0.3570050928920281, 0.11263109607635235, 0.11263109607635235, 0.11263109607635235, 0.2252621921527047, 0.15291318880466181, 0.12869099263225586, 0.2573819852645117, 0.12869099263225586, 0.12869099263225586, 0.12035446028471963, 0.24070892056943927, 0.21156112690372927, 0.1647753450183974, 0.20465571592612344, 0.21657110384034087, 0.060444837253714974, 0.12088967450742995, 0.060444837253714974, 0.060444837253714974, 0.060444837253714974, 0.060444837253714974, 0.18133451176114493, 0.12088967450742995, 0.060444837253714974, 0.060444837253714974, 0.060444837253714974, 0.13095842006814457, 0.06547921003407228, 0.06547921003407228, 0.06547921003407228, 0.19643763010221688, 0.13095842006814457, 0.13095842006814457, 0.06547921003407228, 0.06547921003407228, 0.27910445357929203, 0.13955222678964602, 0.3159632370413829, 0.15798161852069145, 0.20122931972603483, 0.11997326506194338, 0.05998663253097169, 0.05998663253097169, 0.05998663253097169, 0.17995989759291506, 0.11997326506194338, 0.11997326506194338, 0.05998663253097169, 0.05998663253097169, 0.13365696152777973, 0.06682848076388986, 0.06682848076388986, 0.06682848076388986, 0.2004854422916696, 0.13365696152777973, 0.06682848076388986, 0.06682848076388986, 0.06682848076388986, 0.12725725667726367, 0.06362862833863184, 0.06362862833863184, 0.06362862833863184, 0.19088588501589548, 0.12725725667726367, 0.06362862833863184, 0.06362862833863184, 0.06362862833863184, 0.15241441645144502, 0.15241441645144502, 0.15241441645144502, 0.19859763889838325, 0.19966780336787668, 0.12392960341270697, 0.06196480170635348, 0.06196480170635348, 0.06196480170635348, 0.12392960341270697, 0.12392960341270697, 0.06196480170635348, 0.06196480170635348, 0.06196480170635348, 0.12996895246719703, 0.06498447623359851, 0.06498447623359851, 0.12996895246719703, 0.12996895246719703, 0.06498447623359851, 0.06498447623359851, 0.06498447623359851, 0.3612196868610109, 0.18060984343050546, 0.13152305786486646, 0.06576152893243323, 0.06576152893243323, 0.19728458679729968, 0.13152305786486646, 0.06576152893243323, 0.06576152893243323, 0.06576152893243323, 0.1253793057918526, 0.0626896528959263, 0.0626896528959263, 0.1880689586877789, 0.1253793057918526, 0.0626896528959263, 0.0626896528959263, 0.0626896528959263, 0.0657840564187449, 0.1315681128374898, 0.0657840564187449, 0.0657840564187449, 0.1315681128374898, 0.1315681128374898, 0.0657840564187449, 0.0657840564187449, 0.0657840564187449, 0.21997909083315426, 0.21997909083315426, 0.21997909083315426, 0.15224942740172598, 0.15224942740172598, 0.21038488671492256, 0.1799056626411721, 0.1799056626411721, 0.22778557091979637, 0.22778557091979637, 0.1487489413425459, 0.1487489413425459, 0.1487489413425459, 0.1487489413425459, 0.14812951966246746, 0.14812951966246746, 0.14812951966246746, 0.14812951966246746, 0.14760611055800052, 0.29521222111600104, 0.14760611055800052, 0.19149799594683628, 0.19149799594683628, 0.19149799594683628, 0.18824662583000096, 0.18824662583000096, 0.1270245239180077, 0.1270245239180077, 0.1270245239180077, 0.1313881372495566, 0.1313881372495566, 0.1313881372495566, 0.18460568799373062, 0.2427658436495862, 0.1251014932750461, 0.1251014932750461, 0.1251014932750461, 0.12717067069587434, 0.12717067069587434, 0.12717067069587434, 0.12717067069587434, 0.18766588707503215, 0.18766588707503215, 0.18694448510009498, 0.30038314122220044, 0.2333986688920368, 0.16794817368418044, 0.16794817368418044, 0.16794817368418044, 0.2123321116666424, 0.23261350294808622, 0.15589717689276117, 0.31179435378552234, 0.2965388352588245, 0.20033138515240978, 0.24354892626816804, 0.12177446313408402, 0.12177446313408402, 0.21786489568832668, 0.26352062036258805, 0.17518635556107706, 0.17518635556107706, 0.3486562380078001, 0.0498080340011143, 0.0996160680022286, 0.0498080340011143, 0.0498080340011143, 0.0498080340011143, 0.0996160680022286, 0.0498080340011143, 0.0498080340011143, 0.34916493328896603, 0.04988070475556658, 0.09976140951113316, 0.04988070475556658, 0.04988070475556658, 0.04988070475556658, 0.09976140951113316, 0.04988070475556658, 0.31652997091964796, 0.09043713454847085, 0.09043713454847085, 0.04521856727423543, 0.04521856727423543, 0.04521856727423543, 0.04521856727423543, 0.04521856727423543, 0.04521856727423543, 0.04521856727423543, 0.04521856727423543, 0.23293417765856095, 0.19349152321141147, 0.1388479122867466, 0.1388479122867466, 0.1388479122867466, 0.16551704298606776, 0.16551704298606776, 0.12220490635706584, 0.12220490635706584, 0.12220490635706584, 0.1879023143491678, 0.1879023143491678, 0.19388145401048634, 0.19388145401048634, 0.12034769685999282, 0.12034769685999282, 0.12034769685999282, 0.1298752451175418, 0.1298752451175418, 0.1298752451175418, 0.1298752451175418, 0.17089105094145887, 0.17089105094145887, 0.17089105094145887, 0.23473197024676976, 0.2602284145252875, 0.2602284145252875, 0.15218571727306682, 0.15218571727306682, 0.19023521539099536, 0.15847367618075875, 0.15847367618075875, 0.15847367618075875, 0.10733565104323113, 0.10733565104323113, 0.10733565104323113, 0.10733565104323113, 0.10733565104323113, 0.2051192428120247, 0.3806265938955066, 0.08292552426746824, 0.08292552426746824, 0.08292552426746824, 0.08292552426746824, 0.08292552426746824, 0.08292552426746824, 0.08292552426746824, 0.08292552426746824, 0.08292552426746824, 0.191087820297514, 0.191087820297514, 0.191087820297514, 0.28799579596104297, 0.20877372546237477, 0.21297944755660836, 0.22178263539407786, 0.21785033563950254, 0.07484576968734534, 0.07484576968734534, 0.07484576968734534, 0.07484576968734534, 0.07484576968734534, 0.14969153937469068, 0.07484576968734534, 0.07484576968734534, 0.07484576968734534, 0.07484576968734534, 0.2144006074858675, 0.20657671877042877, 0.20657671877042877, 0.2611362524200618, 0.21674297227249992, 0.1610848070122885, 0.1610848070122885, 0.2811407025694974, 0.05622814051389948, 0.05622814051389948, 0.05622814051389948, 0.05622814051389948, 0.05622814051389948, 0.05622814051389948, 0.05622814051389948, 0.05622814051389948, 0.11245628102779896, 0.05622814051389948, 0.44779608188634207, 0.08955921637726842, 0.08955921637726842, 0.14068239478960773, 0.14068239478960773, 0.28136478957921546, 0.23446114677671587, 0.23446114677671587, 0.40803504827630926, 0.06800584137938487, 0.06800584137938487, 0.06800584137938487, 0.06800584137938487, 0.4534491801203112, 0.1511497267067704, 0.0755748633533852, 0.0755748633533852, 0.18836479566738262, 0.18836479566738262, 0.22207538913858038, 0.11103769456929019, 0.11103769456929019, 0.11103769456929019, 0.11188237577932705, 0.2237647515586541, 0.11188237577932705, 0.11188237577932705, 0.4372416187183338, 0.1457472062394446, 0.0728736031197223, 0.0728736031197223, 0.17955676407563245, 0.17955676407563245, 0.3771931057554649, 0.11528902774173197, 0.23057805548346394, 0.11528902774173197, 0.11528902774173197, 0.17528245490845837, 0.17528245490845837, 0.26030031682283944, 0.13015015841141972, 0.13015015841141972, 0.27366306563145876, 0.13683153281572938, 0.33379216556988844, 0.1335168662279554, 0.0667584331139777, 0.0667584331139777, 0.0667584331139777, 0.0667584331139777, 0.4466015446913809, 0.08932030893827618, 0.08932030893827618, 0.08932030893827618, 0.13484931042682896, 0.13484931042682896, 0.13484931042682896, 0.4603795826448422, 0.07672993044080703, 0.07672993044080703, 0.4029150525812055, 0.1343050175270685, 0.06715250876353425, 0.06715250876353425, 0.09888272608001468, 0.19776545216002936, 0.09888272608001468, 0.09888272608001468, 0.1958321690015766, 0.0979160845007883, 0.0979160845007883, 0.49859642417465694, 0.14245612119275913, 0.07122806059637957, 0.07122806059637957, 0.07122806059637957, 0.0945139369987397, 0.1890278739974794, 0.0945139369987397, 0.1890278739974794, 0.1486596930610574, 0.1486596930610574, 0.1486596930610574, 0.21690336347723835, 0.21690336347723835, 0.19177846001426047, 0.18637180003471596, 0.18637180003471596, 0.1376301421090349, 0.1376301421090349, 0.2177548023936653, 0.2177548023936653, 0.15180671755136013, 0.15180671755136013, 0.17856066848261792, 0.2845237127246566, 0.17917362563138295, 0.17917362563138295, 0.2476224123522095, 0.1899068407635637, 0.2340179884664519, 0.19276308645033433, 0.15553353698492606, 0.22579165508957114, 0.2413242914280469, 0.1974689146196312, 0.11292738638388439, 0.11292738638388439, 0.22585477276776877, 0.1427244071233402, 0.1427244071233402, 0.1427244071233402, 0.24123186512823794, 0.12329512557695768, 0.12329512557695768, 0.12329512557695768, 0.12329512557695768, 0.19298069230624573, 0.19298069230624573, 0.12707658453117965, 0.12707658453117965, 0.12707658453117965, 0.2606732452675062, 0.1687645998430353, 0.1687645998430353, 0.16965793313533772, 0.16965793313533772, 0.14113914718835746, 0.14113914718835746, 0.14113914718835746, 0.14113914718835746, 0.3477189439093641, 0.13084919599291112, 0.13084919599291112, 0.13084919599291112, 0.20297603654933988, 0.20297603654933988, 0.18459807246601595, 0.18459807246601595, 0.14358252912655492, 0.14358252912655492, 0.14358252912655492, 0.13888359263768157, 0.13888359263768157, 0.13888359263768157, 0.13888359263768157, 0.15058821467019262, 0.15058821467019262, 0.15058821467019262, 0.19083169581589846, 0.12833070299038288, 0.12833070299038288, 0.12833070299038288, 0.12833070299038288, 0.1464999394951073, 0.1464999394951073, 0.1464999394951073, 0.19691843510083498, 0.19691843510083498, 0.14647345178928184, 0.14647345178928184, 0.14647345178928184, 0.2165459952839522, 0.22345460556284785, 0.22246715500562272, 0.16928139599576913, 0.16928139599576913, 0.16728855215511715, 0.16728855215511715, 0.16728855215511715, 0.2066248541678777, 0.19711020692101303, 0.19019544950531006, 0.22481064210118248, 0.21132062797707554, 0.17663615258486032, 0.20381115175918832, 0.136506553253876, 0.136506553253876, 0.136506553253876, 0.1626553556285671, 0.1626553556285671, 0.18551837737424223, 0.09275918868712112, 0.09275918868712112, 0.09275918868712112, 0.09275918868712112, 0.20678583513017978, 0.2490671837809959, 0.2196515241743999, 0.18146656469778982, 0.18146656469778982, 0.19384928271339008, 0.26325870606509016, 0.26325870606509016, 0.16005184088746902, 0.16005184088746902, 0.22745639038928273, 0.11372819519464136, 0.22745639038928273, 0.11372819519464136, 0.1493299476811233, 0.1493299476811233, 0.1493299476811233, 0.18271801070353305, 0.05600898617188104, 0.11201797234376208, 0.05600898617188104, 0.05600898617188104, 0.05600898617188104, 0.05600898617188104, 0.05600898617188104, 0.11201797234376208, 0.05600898617188104, 0.05600898617188104, 0.05600898617188104, 0.13870753515739853, 0.13870753515739853, 0.1863393408935062, 0.1863393408935062, 0.052624198308191796, 0.1578725949245754, 0.052624198308191796, 0.052624198308191796, 0.052624198308191796, 0.052624198308191796, 0.052624198308191796, 0.10524839661638359, 0.052624198308191796, 0.052624198308191796, 0.052624198308191796, 0.052624198308191796, 0.20538660659598731, 0.20538660659598731, 0.1983946676934607, 0.20440298790019681, 0.1911874500809047, 0.199474253689755, 0.20911966254126563, 0.21260738044069308, 0.26243001834515434, 0.42779948573471693, 0.2346981024860665, 0.17447863281607667, 0.17447863281607667, 0.2799485451771065, 0.2179752663390609, 0.16962120890521484, 0.16962120890521484, 0.0830212679022468, 0.0830212679022468, 0.0830212679022468, 0.0830212679022468, 0.0830212679022468, 0.0830212679022468, 0.1333748977349145, 0.1333748977349145, 0.1333748977349145, 0.12700082172507826, 0.12700082172507826, 0.12700082172507826, 0.12700082172507826, 0.12700082172507826, 0.2365925337130659, 0.19336670657542854, 0.2281681151265828, 0.17899762346298503, 0.18604338247317007, 0.18083667968572326, 0.15994526979511636, 0.15994526979511636, 0.15994526979511636, 0.254541106885995, 0.18132040676724737, 0.19762016826523202, 0.19762016826523202, 0.16275867930247362, 0.23281419030140055, 0.20474067327130885, 0.20474067327130885, 0.11753600783127723, 0.23507201566255445, 0.11753600783127723, 0.2103094101887914, 0.1821983202812431, 0.19413359013689807, 0.1770034572585338, 0.1610681616125212, 0.15690858880327416, 0.19658635709369804, 0.19658635709369804, 0.2446808107566111, 0.18579356148176057, 0.26642631755187474, 0.2388054897937985, 0.18725284799131253, 0.20883191987881503, 0.13770059409886942, 0.2029159530450123, 0.17486048981087773, 0.1392500596830842, 0.1392500596830842, 0.132134222232863, 0.264268444465726, 0.40893072188314666, 0.2137810989850902, 0.2137810989850902, 0.1942483742418365, 0.21611279508626496, 0.20725301402552618, 0.21867537057059164, 0.23630222390352784, 0.22595286591004526, 0.11480658966470747, 0.22961317932941494, 0.11480658966470747, 0.16821091324183304, 0.3364218264836661, 0.21297241653322632, 0.21297241653322632, 0.1664424017237415, 0.1664424017237415, 0.1690912557920944, 0.1690912557920944, 0.15068457035515373, 0.15068457035515373, 0.16998683281626945, 0.16998683281626945, 0.16998683281626945, 0.19197964919103044, 0.19197964919103044, 0.19197964919103044, 0.19197964919103044, 0.2442542042210222, 0.24447482629429104, 0.1988066330790273, 0.17011660707770512, 0.17011660707770512, 0.23941003496147836, 0.2097733897844172, 0.2097733897844172, 0.15575444996220708, 0.15575444996220708, 0.15575444996220708, 0.15575444996220708, 0.21697993724127998, 0.29699528622874444, 0.14849764311437222, 0.14849764311437222, 0.1879129114776419, 0.1879129114776419, 0.1879129114776419, 0.1598816109109677, 0.1598816109109677, 0.1598816109109677, 0.22147659908112147, 0.14085370818809462, 0.28170741637618923, 0.19200885559536432, 0.17168079828746077, 0.17168079828746077, 0.17880549651271976, 0.17880549651271976, 0.24088455954591548, 0.24088455954591548, 0.11077011301404215, 0.3323103390421264, 0.11077011301404215, 0.11077011301404215, 0.11077011301404215, 0.2293085417401045, 0.11465427087005226, 0.11465427087005226, 0.11465427087005226, 0.20350446967308608, 0.10175223483654304, 0.10175223483654304, 0.15208667746403262, 0.15208667746403262, 0.16982162142590274, 0.08384559774903026, 0.08384559774903026, 0.08384559774903026, 0.08384559774903026, 0.08384559774903026, 0.08384559774903026, 0.2016833335536866, 0.1969669797694575, 0.1969669797694575, 0.20475714910415443, 0.19610876473626848, 0.1294066414782718, 0.0647033207391359, 0.1294066414782718, 0.1294066414782718, 0.1294066414782718, 0.0647033207391359, 0.0647033207391359, 0.0647033207391359, 0.06096357810491179, 0.18289073431473538, 0.06096357810491179, 0.12192715620982358, 0.06096357810491179, 0.12192715620982358, 0.12192715620982358, 0.06096357810491179, 0.06096357810491179, 0.06096357810491179, 0.21579101014560706, 0.3306419355515931, 0.16532096777579655, 0.3161169106761663, 0.15805845533808316, 0.025673995050436705, 0.10269598020174682, 0.12836997525218352, 0.025673995050436705, 0.07702198515131012, 0.07702198515131012, 0.07702198515131012, 0.025673995050436705, 0.10269598020174682, 0.05134799010087341, 0.05134799010087341, 0.07702198515131012, 0.025673995050436705, 0.025673995050436705, 0.05134799010087341, 0.025673995050436705, 0.025673995050436705, 0.025673995050436705, 0.10933283087359005, 0.10933283087359005, 0.027333207718397513, 0.05466641543679503, 0.05466641543679503, 0.027333207718397513, 0.08199962315519255, 0.027333207718397513, 0.10933283087359005, 0.05466641543679503, 0.05466641543679503, 0.05466641543679503, 0.027333207718397513, 0.05466641543679503, 0.027333207718397513, 0.11222955934261299, 0.11222955934261299, 0.028057389835653247, 0.08417216950695973, 0.08417216950695973, 0.08417216950695973, 0.028057389835653247, 0.11222955934261299, 0.05611477967130649, 0.05611477967130649, 0.05611477967130649, 0.028057389835653247, 0.05611477967130649, 0.028057389835653247, 0.028057389835653247, 0.028057389835653247, 0.2055259531759741, 0.2055259531759741, 0.2055259531759741, 0.09865204588878647, 0.09865204588878647, 0.2959561376663594, 0.09865204588878647, 0.09865204588878647, 0.10926301322213008, 0.3277890396663902, 0.21818929447701907, 0.21818929447701907, 0.1640621506510094, 0.0820310753255047, 0.0820310753255047, 0.24609322597651412, 0.0820310753255047, 0.0820310753255047, 0.1642928454888621, 0.08214642274443106, 0.24643926823329315, 0.08214642274443106, 0.08214642274443106, 0.2736304654264193, 0.05643681586275778, 0.05643681586275778, 0.05643681586275778, 0.05643681586275778, 0.05643681586275778, 0.05643681586275778, 0.05643681586275778, 0.05643681586275778, 0.05643681586275778, 0.05643681586275778, 0.05643681586275778, 0.05643681586275778, 0.05643681586275778, 0.11287363172551557, 0.05643681586275778, 0.06048427465872966, 0.06048427465872966, 0.06048427465872966, 0.06048427465872966, 0.12096854931745932, 0.06048427465872966, 0.06048427465872966, 0.06048427465872966, 0.06048427465872966, 0.06048427465872966, 0.06048427465872966, 0.17392811255137663, 0.1956720064917848, 0.1956720064917848, 0.14665170671215674, 0.14665170671215674, 0.14665170671215674, 0.14665170671215674, 0.15432910559641588, 0.15432910559641588, 0.15432910559641588, 0.13383102663127255, 0.13383102663127255, 0.13383102663127255, 0.03596365498640218, 0.03596365498640218, 0.10789096495920654, 0.03596365498640218, 0.03596365498640218, 0.03596365498640218, 0.07192730997280436, 0.14385461994560872, 0.03596365498640218, 0.03596365498640218, 0.03596365498640218, 0.03596365498640218, 0.03596365498640218, 0.03596365498640218, 0.03596365498640218, 0.03596365498640218, 0.03596365498640218, 0.03596365498640218, 0.03596365498640218, 0.03596365498640218, 0.38193496022354734, 0.07638699204470946, 0.07638699204470946, 0.07638699204470946, 0.07638699204470946, 0.5327376320109254, 0.10654752640218508, 0.5427553798374662, 0.10855107596749326, 0.12065931235068798, 0.06032965617534399, 0.06032965617534399, 0.06032965617534399, 0.06032965617534399, 0.06032965617534399, 0.06032965617534399, 0.06032965617534399, 0.06032965617534399, 0.06032965617534399, 0.06032965617534399, 0.06032965617534399, 0.07470086921452176, 0.14940173842904353, 0.14940173842904353, 0.14940173842904353, 0.14940173842904353, 0.07470086921452176, 0.06876974733116957, 0.13753949466233914, 0.2063092419935087, 0.13753949466233914, 0.13753949466233914, 0.06876974733116957, 0.5421356367303847, 0.6047935335343247, 0.20741317472355988, 0.20741317472355988, 0.054470732219648155, 0.10894146443929631, 0.16341219665894446, 0.10894146443929631, 0.10894146443929631, 0.054470732219648155, 0.054470732219648155, 0.054470732219648155, 0.054470732219648155, 0.14129592745654124, 0.2825918549130825, 0.19442686306002602, 0.2847285607326401, 0.23323450290771483, 0.47376140182638515, 0.09475228036527703, 0.48007407914123834, 0.09601481582824767, 0.1406077550248187, 0.1406077550248187, 0.1406077550248187, 0.1406077550248187, 0.23286944031295764, 0.31088942390079133, 0.1856361793160819, 0.11448433221645578, 0.11448433221645578, 0.11448433221645578, 0.11448433221645578, 0.22896866443291156, 0.11448433221645578, 0.19468056428913957, 0.10606981523674121, 0.10606981523674121, 0.10606981523674121, 0.10606981523674121, 0.10606981523674121, 0.21213963047348242, 0.10606981523674121, 0.14535111960295868, 0.14535111960295868, 0.14535111960295868, 0.14582763431579712, 0.14582763431579712, 0.29165526863159424, 0.14582763431579712, 0.14896192249244466, 0.14896192249244466, 0.14896192249244466, 0.12971391226542373, 0.12971391226542373, 0.12971391226542373, 0.23082510226091055, 0.2453750100596232, 0.20585700014357097, 0.17429682625373377, 0.1972013582182351, 0.22275565853037493, 0.23741725028319574, 0.2004108548205405, 0.1963660714411271, 0.2215757384997, 0.21743839905297824, 0.22684989961934138, 0.22684989961934138, 0.1979866891004062, 0.18414045568240736, 0.25673149518563076, 0.2085627279109598, 0.17667761921077432, 0.15715566391126687, 0.15715566391126687, 0.15715566391126687, 0.19948096024935116, 0.19948096024935116, 0.270247814878808, 0.23310663311814245, 0.26365966253798706, 0.26365966253798706, 0.21002123881233054, 0.2602217744475808, 0.16762338759922943, 0.16762338759922943, 0.2451403696831672, 0.1281996088692942, 0.1281996088692942, 0.2725605694067244, 0.20622144458381608, 0.21839008970532475, 0.1818422149644529, 0.1247739837865503, 0.1247739837865503, 0.1247739837865503, 0.14823869596732472, 0.2083635156487254, 0.22257982349718436, 0.1974058661849547, 0.1958898396576063, 0.21376580461576972, 0.17096774453768182, 0.22618756990789804, 0.25324475282655146, 0.18725866718190112, 0.18725866718190112, 0.2580915021503377, 0.06452287553758443, 0.06452287553758443, 0.06452287553758443, 0.12904575107516886, 0.06452287553758443, 0.06452287553758443, 0.25186201106741746, 0.06296550276685436, 0.06296550276685436, 0.06296550276685436, 0.12593100553370873, 0.06296550276685436, 0.06296550276685436, 0.06296550276685436, 0.06296550276685436, 0.06296550276685436, 0.2503562307997775, 0.06258905769994437, 0.06258905769994437, 0.06258905769994437, 0.12517811539988874, 0.06258905769994437, 0.06258905769994437, 0.06258905769994437, 0.24158698491350725, 0.12079349245675362, 0.12079349245675362, 0.10080292619936274, 0.3024087785980882, 0.10080292619936274, 0.32853949304975844, 0.10951316434991948, 0.10951316434991948, 0.23195220969134847, 0.11597610484567424, 0.10807740357690858, 0.10807740357690858, 0.10807740357690858, 0.10807740357690858, 0.10807740357690858, 0.18375558621252816, 0.3269681456091256, 0.1201576776884218, 0.0600788388442109, 0.1201576776884218, 0.0600788388442109, 0.1802365165326327, 0.1201576776884218, 0.0600788388442109, 0.0600788388442109, 0.0600788388442109, 0.12041267322110588, 0.06020633661055294, 0.12041267322110588, 0.18061900983165882, 0.12041267322110588, 0.06020633661055294, 0.06020633661055294, 0.06020633661055294, 0.17240526302383738, 0.16662804570993844, 0.16662804570993844, 0.33834505811555304, 0.16917252905777652, 0.10596270768692594, 0.10596270768692594, 0.026490676921731484, 0.07947203076519445, 0.07947203076519445, 0.07947203076519445, 0.026490676921731484, 0.10596270768692594, 0.05298135384346297, 0.05298135384346297, 0.07947203076519445, 0.026490676921731484, 0.026490676921731484, 0.05298135384346297, 0.026490676921731484, 0.1083108494233057, 0.1083108494233057, 0.027077712355826424, 0.08123313706747927, 0.08123313706747927, 0.08123313706747927, 0.027077712355826424, 0.1083108494233057, 0.05415542471165285, 0.05415542471165285, 0.05415542471165285, 0.027077712355826424, 0.027077712355826424, 0.027077712355826424, 0.05415542471165285, 0.027077712355826424, 0.027077712355826424, 0.02645461611865361, 0.02645461611865361, 0.10581846447461445, 0.13227308059326806, 0.02645461611865361, 0.07936384835596083, 0.07936384835596083, 0.07936384835596083, 0.02645461611865361, 0.10581846447461445, 0.05290923223730722, 0.05290923223730722, 0.05290923223730722, 0.02645461611865361, 0.05290923223730722, 0.02645461611865361, 0.10467962273841677, 0.3140388682152503, 0.10218211752633156, 0.3065463525789947, 0.1575334202479796, 0.1575334202479796, 0.15900895821718067, 0.07950447910859033, 0.238513437325771, 0.07950447910859033, 0.07950447910859033, 0.07950447910859033, 0.16816817466721573, 0.08408408733360787, 0.08408408733360787, 0.25225226200082357, 0.08408408733360787, 0.08408408733360787, 0.1754304896496967, 0.3508609792993934, 0.2110570659502166, 0.20961637320889293, 0.11465182014687132, 0.05732591007343566, 0.11465182014687132, 0.11465182014687132, 0.11465182014687132, 0.11465182014687132, 0.05732591007343566, 0.05732591007343566, 0.12321355384760747, 0.06160677692380374, 0.12321355384760747, 0.12321355384760747, 0.12321355384760747, 0.12321355384760747, 0.06160677692380374, 0.06160677692380374, 0.3480683318585598, 0.1740341659292799, 0.2666333138887016, 0.10465914323833493, 0.10465914323833493, 0.026164785809583733, 0.07849435742875119, 0.07849435742875119, 0.07849435742875119, 0.026164785809583733, 0.10465914323833493, 0.052329571619167466, 0.052329571619167466, 0.052329571619167466, 0.026164785809583733, 0.026164785809583733, 0.052329571619167466, 0.026164785809583733, 0.110427108202507, 0.13803388525313373, 0.02760677705062675, 0.0552135541012535, 0.0552135541012535, 0.08282033115188024, 0.02760677705062675, 0.110427108202507, 0.0552135541012535, 0.0552135541012535, 0.0552135541012535, 0.02760677705062675, 0.02760677705062675, 0.0552135541012535, 0.02760677705062675, 0.10655425053813425, 0.10655425053813425, 0.053277125269067124, 0.0799156879036007, 0.0799156879036007, 0.0799156879036007, 0.026638562634533562, 0.10655425053813425, 0.053277125269067124, 0.053277125269067124, 0.053277125269067124, 0.026638562634533562, 0.026638562634533562, 0.053277125269067124, 0.026638562634533562, 0.026638562634533562, 0.23642734601270834, 0.21640691635299192, 0.21640691635299192, 0.0969010322935367, 0.0969010322935367, 0.2907030968806101, 0.0969010322935367, 0.2033960014577128, 0.3050940021865692, 0.1016980007288564, 0.16370959773704047, 0.08185479886852023, 0.08185479886852023, 0.2455643966055607, 0.08185479886852023, 0.08185479886852023, 0.08185479886852023, 0.18281654262946342, 0.09140827131473171, 0.09140827131473171, 0.2742248139441951, 0.09140827131473171, 0.09140827131473171, 0.16124362956104912, 0.16124362956104912, 0.32248725912209825, 0.5272303497781109, 0.10544606995562217, 0.14236428022092995, 0.14236428022092995, 0.14236428022092995, 0.14236428022092995, 0.14236428022092995, 0.6053207167018478, 0.10088678611697464, 0.12853803510372047, 0.12853803510372047, 0.12853803510372047, 0.12853803510372047, 0.5108818453222366, 0.10217636906444733, 0.5378954706693306, 0.30565687186505225, 0.5286506418328212, 0.5252043413654218, 0.26854484322307537, 0.09077780104344504, 0.4538890052172252, 0.09077780104344504, 0.09642466402031703, 0.48212332010158515, 0.09642466402031703, 0.09642466402031703, 0.46893945260363523, 0.09378789052072704, 0.643215355954234, 0.5107326760363893, 0.09689714787233386, 0.48448573936166933, 0.4831261576523154, 0.09662523153046308, 0.22347010112847687, 0.22560097065591128, 0.20916895463405372, 0.1849188427737061, 0.1849188427737061, 0.18791337687742896, 0.2015334406657709, 0.17778952449073446, 0.18352678066369055, 0.1784198905542104, 0.2298223443109911, 0.15304414034767527, 0.15304414034767527, 0.22792042331945822, 0.16716549018695084, 0.16716549018695084, 0.16716549018695084, 0.1258929666671768, 0.1258929666671768, 0.1258929666671768, 0.1258929666671768, 0.1171121365481344, 0.1171121365481344, 0.1171121365481344, 0.1171121365481344, 0.1629953281066787, 0.1629953281066787, 0.28148986146348964, 0.28148986146348964, 0.24605421133629107, 0.21723875148348396, 0.24166135557801102, 0.19575022895789831, 0.16850045698574823, 0.20508449628411377, 0.22049200799234683, 0.22065518802580436, 0.12787356689494947, 0.12787356689494947, 0.1381434608094181, 0.1381434608094181, 0.1381434608094181, 0.2762869216188362, 0.23553637677488937, 0.23386946158791813, 0.22751086809224064, 0.2439430687199561, 0.15082422556588407, 0.15082422556588407, 0.2308934971070355, 0.21922047007311943, 0.2216604747500963, 0.2216604747500963, 0.23580715935639168, 0.1908277339861795, 0.1908277339861795, 0.1888788863465007, 0.1888788863465007, 0.2233378006167365, 0.2233378006167365, 0.14508307933377493, 0.14508307933377493, 0.18845586695221941, 0.36631380732512914, 0.32108915382317826, 0.2683338048238228, 0.06618333907184346, 0.06618333907184346, 0.1323666781436869, 0.06618333907184346, 0.19855001721553037, 0.06618333907184346, 0.06618333907184346, 0.06618333907184346, 0.06618333907184346, 0.06618333907184346, 0.2199042126032936, 0.2199042126032936, 0.18494967307016735, 0.18494967307016735, 0.24022734379943503, 0.2051478299252302, 0.2051478299252302, 0.20295937464189148, 0.1503117603852951, 0.3006235207705902, 0.1503117603852951, 0.1503117603852951, 0.20218894379787322, 0.2042666771539711, 0.19701330742335124, 0.20797910922335647, 0.20797910922335647, 0.1855053705108614, 0.18079793136671937, 0.36159586273343874, 0.20240742203909984, 0.195605953680926, 0.1782203896963128, 0.1782203896963128, 0.3485355206676203, 0.35916092379615844, 0.22916319856172473, 0.29742366306209655, 0.3096500423538, 0.33929591670585907, 0.3021245562687636, 0.3356906130021069, 0.15498636822045472, 0.15498636822045472, 0.2976308053532194, 0.20195913678796093, 0.15758154097848265, 0.15758154097848265, 0.15758154097848265, 0.1974320215248027, 0.14490371122306714, 0.1409708674947062, 0.1409708674947062, 0.1409708674947062, 0.2080963853648171, 0.19594021788689997, 0.19594021788689997, 0.22757251128265152, 0.13188112972194047, 0.13188112972194047, 0.13188112972194047, 0.18842926679960012, 0.18842926679960012, 0.06126615112885323, 0.06126615112885323, 0.12253230225770646, 0.06126615112885323, 0.06126615112885323, 0.06126615112885323, 0.06126615112885323, 0.06126615112885323, 0.06126615112885323, 0.06126615112885323, 0.11574630523670636, 0.05787315261835318, 0.11574630523670636, 0.05787315261835318, 0.05787315261835318, 0.05787315261835318, 0.05787315261835318, 0.05787315261835318, 0.05787315261835318, 0.05787315261835318, 0.05787315261835318, 0.05787315261835318, 0.05787315261835318, 0.09597336142158351, 0.09597336142158351, 0.047986680710791756, 0.09597336142158351, 0.047986680710791756, 0.047986680710791756, 0.047986680710791756, 0.047986680710791756, 0.09597336142158351, 0.047986680710791756, 0.047986680710791756, 0.047986680710791756, 0.047986680710791756, 0.047986680710791756, 0.047986680710791756, 0.047986680710791756, 0.047986680710791756, 0.18333308042077698, 0.23292017122266676, 0.23292017122266676, 0.3074966786073403, 0.18688572731191785, 0.18688572731191785, 0.24135073314702035, 0.3518619123247292, 0.36826712970461734, 0.43765508345472376, 0.08753101669094475, 0.08753101669094475, 0.1838192452245155, 0.09190962261225775, 0.27572886783677325, 0.2591907509958373, 0.12095568379805743, 0.13823506719777992, 0.06911753359888996, 0.03455876679944498, 0.03455876679944498, 0.08639691699861245, 0.01727938339972249, 0.01727938339972249, 0.01727938339972249, 0.01727938339972249, 0.01727938339972249, 0.01727938339972249, 0.01727938339972249, 0.03455876679944498, 0.01727938339972249, 0.25865210152325635, 0.1207043140441863, 0.1207043140441863, 0.08621736717441879, 0.03448694686976751, 0.03448694686976751, 0.08621736717441879, 0.017243473434883756, 0.017243473434883756, 0.017243473434883756, 0.017243473434883756, 0.017243473434883756, 0.017243473434883756, 0.03448694686976751, 0.017243473434883756, 0.12786515912780044, 0.12786515912780044, 0.12786515912780044, 0.12786515912780044, 0.12786515912780044, 0.13687356976909124, 0.13687356976909124, 0.13687356976909124, 0.1679961691079964, 0.1679961691079964, 0.21834083822615943, 0.12281672150221469, 0.10917041911307972, 0.06823151194567482, 0.02729260477826993, 0.02729260477826993, 0.013646302389134965, 0.013646302389134965, 0.06823151194567482, 0.013646302389134965, 0.013646302389134965, 0.04093890716740489, 0.013646302389134965, 0.013646302389134965, 0.04093890716740489, 0.013646302389134965, 0.013646302389134965, 0.02729260477826993, 0.013646302389134965, 0.013646302389134965, 0.013646302389134965, 0.013646302389134965, 0.013646302389134965, 0.19375582835112548, 0.19375582835112548, 0.38457718395507057, 0.5201092429893287, 0.21817764387186594, 0.36114374677833766, 0.18057187338916883, 0.18906924385793733, 0.07229482108978394, 0.14458964217956788, 0.14458964217956788, 0.14458964217956788, 0.14458964217956788, 0.07229482108978394, 0.07329956878148607, 0.14659913756297213, 0.14659913756297213, 0.14659913756297213, 0.14659913756297213, 0.07329956878148607, 0.05474310895498173, 0.10948621790996346, 0.10948621790996346, 0.16422932686494518, 0.05474310895498173, 0.10948621790996346, 0.05474310895498173, 0.05474310895498173, 0.05474310895498173, 0.05474310895498173, 0.2264736126610762, 0.16985520949580715, 0.1132368063305381, 0.05661840316526905, 0.05661840316526905, 0.05661840316526905, 0.05661840316526905, 0.05661840316526905, 0.05661840316526905, 0.20852514316508014, 0.20852514316508014, 0.4384110816674818, 0.3478016771826582, 0.049685953883236884, 0.09937190776647377, 0.049685953883236884, 0.049685953883236884, 0.049685953883236884, 0.049685953883236884, 0.049685953883236884, 0.049685953883236884, 0.35114899755316126, 0.10032828501518894, 0.10032828501518894, 0.05016414250759447, 0.05016414250759447, 0.10032828501518894, 0.05016414250759447, 0.05016414250759447, 0.30440028250758056, 0.08697150928788015, 0.08697150928788015, 0.043485754643940076, 0.043485754643940076, 0.043485754643940076, 0.043485754643940076, 0.043485754643940076, 0.043485754643940076, 0.08697150928788015, 0.043485754643940076, 0.22217676204557457, 0.1574738923676492, 0.1574738923676492, 0.1574738923676492, 0.14837621853017002, 0.14837621853017002, 0.14837621853017002, 0.17827049201743855, 0.17827049201743855, 0.10028065858348914, 0.10028065858348914, 0.05014032929174457, 0.05014032929174457, 0.05014032929174457, 0.05014032929174457, 0.05014032929174457, 0.05014032929174457, 0.15042098787523372, 0.05014032929174457, 0.09886981236281008, 0.14830471854421512, 0.04943490618140504, 0.04943490618140504, 0.04943490618140504, 0.04943490618140504, 0.04943490618140504, 0.04943490618140504, 0.04943490618140504, 0.04943490618140504, 0.14830471854421512, 0.04943490618140504, 0.1215927440126842, 0.08106182934178946, 0.04053091467089473, 0.04053091467089473, 0.04053091467089473, 0.04053091467089473, 0.04053091467089473, 0.04053091467089473, 0.04053091467089473, 0.04053091467089473, 0.04053091467089473, 0.04053091467089473, 0.04053091467089473, 0.08106182934178946, 0.04053091467089473, 0.1215927440126842, 0.04053091467089473, 0.13755745360318586, 0.13755745360318586, 0.13755745360318586, 0.1624189742175097, 0.3248379484350194, 0.0973935856379504, 0.0973935856379504, 0.0486967928189752, 0.0486967928189752, 0.0486967928189752, 0.0486967928189752, 0.0486967928189752, 0.0486967928189752, 0.0486967928189752, 0.0486967928189752, 0.0973935856379504, 0.0486967928189752, 0.09897900127106277, 0.09897900127106277, 0.04948950063553138, 0.04948950063553138, 0.04948950063553138, 0.04948950063553138, 0.04948950063553138, 0.04948950063553138, 0.04948950063553138, 0.09897900127106277, 0.14846850190659414, 0.04948950063553138, 0.04948950063553138, 0.1607857357450456, 0.0803928678725228, 0.0401964339362614, 0.0401964339362614, 0.0401964339362614, 0.0401964339362614, 0.0401964339362614, 0.0401964339362614, 0.0401964339362614, 0.0401964339362614, 0.0401964339362614, 0.0803928678725228, 0.0401964339362614, 0.12058930180878419, 0.0401964339362614, 0.1602841406318014, 0.1602841406318014, 0.1602841406318014, 0.1602841406318014, 0.06931115632610114, 0.1386223126522023, 0.06931115632610114, 0.06931115632610114, 0.1386223126522023, 0.06931115632610114, 0.06931115632610114, 0.06931115632610114, 0.06931115632610114, 0.06931115632610114, 0.06931115632610114, 0.09972575700009571, 0.09972575700009571, 0.09972575700009571, 0.09972575700009571, 0.09972575700009571, 0.09972575700009571, 0.09972575700009571, 0.22474891391559823, 0.25994781679918105, 0.25566591114223897, 0.09035983138241138, 0.09035983138241138, 0.18071966276482276, 0.09035983138241138, 0.09035983138241138, 0.16414041621358308, 0.16414041621358308, 0.32828083242716616, 0.12104125677433575, 0.12104125677433575, 0.12104125677433575, 0.12104125677433575, 0.12104125677433575, 0.13253562800516028, 0.13253562800516028, 0.26507125601032056, 0.15007519623539572, 0.30015039247079145, 0.14841693574804712, 0.29683387149609425, 0.1636300874076516, 0.1636300874076516, 0.1954476460061815, 0.2368065319573105, 0.06376618864632992, 0.06376618864632992, 0.06376618864632992, 0.12753237729265984, 0.06376618864632992, 0.06376618864632992, 0.06376618864632992, 0.06376618864632992, 0.06376618864632992, 0.06376618864632992, 0.06376618864632992, 0.06376618864632992, 0.19907878790480765, 0.16220125069915878, 0.16220125069915878, 0.16220125069915878, 0.060807795581124195, 0.060807795581124195, 0.060807795581124195, 0.060807795581124195, 0.060807795581124195, 0.060807795581124195, 0.060807795581124195, 0.060807795581124195, 0.060807795581124195, 0.060807795581124195, 0.060807795581124195, 0.060807795581124195, 0.14842330092544917, 0.14842330092544917, 0.18740425109300357, 0.17012235486544924, 0.17012235486544924, 0.17012235486544924, 0.15564888518894981, 0.15564888518894981, 0.15564888518894981, 0.20430522671980605, 0.13557539928122858, 0.13557539928122858, 0.13557539928122858, 0.13557539928122858, 0.06076836033611336, 0.12153672067222672, 0.06076836033611336, 0.06076836033611336, 0.12153672067222672, 0.06076836033611336, 0.06076836033611336, 0.06076836033611336, 0.06076836033611336, 0.06076836033611336, 0.06076836033611336, 0.09320711826313732, 0.09320711826313732, 0.09320711826313732, 0.18641423652627465, 0.18641423652627465, 0.29661063698354195, 0.14830531849177098, 0.24761286068226426, 0.11710882563666339, 0.11710882563666339, 0.19926290799856883, 0.13253278006904298, 0.13253278006904298, 0.13253278006904298, 0.13253278006904298, 0.19161601674629006, 0.19161601674629006, 0.1934488985166527, 0.1934488985166527, 0.2145933660534705, 0.2145933660534705, 0.2236349640054705, 0.2201764285634475, 0.06013953834254551, 0.06013953834254551, 0.18041861502763654, 0.06013953834254551, 0.12027907668509102, 0.06013953834254551, 0.06013953834254551, 0.06013953834254551, 0.06013953834254551, 0.06013953834254551, 0.06013953834254551, 0.05568561566448028, 0.05568561566448028, 0.05568561566448028, 0.16705684699344084, 0.11137123132896055, 0.05568561566448028, 0.05568561566448028, 0.05568561566448028, 0.05568561566448028, 0.05568561566448028, 0.05568561566448028, 0.05568561566448028, 0.043850747839603986, 0.043850747839603986, 0.043850747839603986, 0.043850747839603986, 0.13155224351881195, 0.08770149567920797, 0.13155224351881195, 0.043850747839603986, 0.043850747839603986, 0.043850747839603986, 0.043850747839603986, 0.043850747839603986, 0.043850747839603986, 0.043850747839603986, 0.043850747839603986, 0.18156132138466402, 0.18156132138466402, 0.1981843746485281, 0.061979328600619624, 0.061979328600619624, 0.18593798580185886, 0.12395865720123925, 0.061979328600619624, 0.061979328600619624, 0.061979328600619624, 0.061979328600619624, 0.061979328600619624, 0.061979328600619624, 0.060975518906199844, 0.060975518906199844, 0.18292655671859953, 0.12195103781239969, 0.060975518906199844, 0.060975518906199844, 0.060975518906199844, 0.060975518906199844, 0.060975518906199844, 0.060975518906199844, 0.04627095402231288, 0.04627095402231288, 0.04627095402231288, 0.1850838160892515, 0.04627095402231288, 0.13881286206693863, 0.04627095402231288, 0.04627095402231288, 0.04627095402231288, 0.04627095402231288, 0.04627095402231288, 0.04627095402231288, 0.04627095402231288, 0.04627095402231288, 0.2208671173326416, 0.2984552182219545, 0.2607725065265278, 0.2607725065265278, 0.18561426183265595, 0.06187142061088531, 0.24748568244354124, 0.18561426183265595, 0.06187142061088531, 0.06187142061088531, 0.06187142061088531, 0.19743080020209675, 0.19743080020209675, 0.2329814688740868, 0.15715411003933014, 0.07857705501966507, 0.15715411003933014, 0.23573116505899522, 0.07857705501966507, 0.07857705501966507, 0.1745425571918165, 0.1745425571918165, 0.26181383578772477, 0.08727127859590825, 0.08727127859590825, 0.1752195415700098, 0.23362605542667972, 0.1752195415700098, 0.05840651385666993, 0.05840651385666993, 0.05840651385666993, 0.17575053712209263, 0.05858351237403087, 0.05858351237403087, 0.05858351237403087, 0.2343340494961235, 0.17575053712209263, 0.05858351237403087, 0.05858351237403087, 0.05858351237403087, 0.18177269772163826, 0.06059089924054609, 0.06059089924054609, 0.18177269772163826, 0.18177269772163826, 0.06059089924054609, 0.06059089924054609, 0.06059089924054609, 0.16083252216887312, 0.16083252216887312, 0.2412487832533097, 0.08041626108443656, 0.08041626108443656, 0.15192910934418052, 0.15192910934418052, 0.22789366401627079, 0.07596455467209026, 0.07596455467209026, 0.17802401659564518, 0.05934133886521505, 0.05934133886521505, 0.17802401659564518, 0.17802401659564518, 0.05934133886521505, 0.05934133886521505, 0.05934133886521505, 0.18483032348012937, 0.061610107826709795, 0.061610107826709795, 0.18483032348012937, 0.18483032348012937, 0.061610107826709795, 0.061610107826709795, 0.061610107826709795, 0.22192560614516962, 0.22192560614516962, 0.28774641513847155, 0.21015813206216166, 0.21015813206216166, 0.15680555739750415, 0.15680555739750415, 0.15680555739750415, 0.18895572713475262, 0.22186698771997676, 0.20468342512422144, 0.13163764553148297, 0.13163764553148297, 0.13163764553148297, 0.13163764553148297, 0.18985299857096055, 0.18985299857096055, 0.18985299857096055, 0.214292031768133, 0.16377950275421213, 0.16377950275421213, 0.16377950275421213, 0.16465921355795057, 0.16465921355795057, 0.195400446070085, 0.195400446070085, 0.195400446070085, 0.195400446070085, 0.20718438699922503, 0.24950743066638464, 0.12564214817104308, 0.25128429634208616, 0.12564214817104308, 0.17842880346647202, 0.17078345266616932, 0.17078345266616932, 0.17078345266616932, 0.22126220654625894, 0.17901086491030976, 0.17901086491030976, 0.15145064086262658, 0.15622187491518108, 0.15622187491518108, 0.18796396707824495, 0.18796396707824495, 0.1941251113591243, 0.1941251113591243, 0.15898599266503752, 0.31797198533007504, 0.36966123217100944, 0.18483061608550472, 0.18465484721472006, 0.3095715077989999, 0.21989970828344096, 0.25477196939939667, 0.3233781948167288, 0.1616890974083644, 0.3419096381981721, 0.048844234028310306, 0.048844234028310306, 0.19537693611324122, 0.048844234028310306, 0.048844234028310306, 0.048844234028310306, 0.048844234028310306, 0.3851210659508256, 0.055017295135832235, 0.22006918054332894, 0.055017295135832235, 0.055017295135832235, 0.055017295135832235, 0.055017295135832235, 0.4069482312031257, 0.058135461600446525, 0.17440638480133958, 0.058135461600446525, 0.058135461600446525, 0.058135461600446525, 0.4427412551263123, 0.22137062756315615, 0.07379020918771871, 0.4506168463194346, 0.2253084231597173, 0.35941341457543685, 0.05134477351077669, 0.05134477351077669, 0.15403432053233007, 0.05134477351077669, 0.05134477351077669, 0.34635619265151424, 0.09895891218614693, 0.049479456093073464, 0.19791782437229385, 0.049479456093073464, 0.049479456093073464, 0.049479456093073464, 0.049479456093073464, 0.20888187065990785, 0.22163035998785083, 0.0700675830552812, 0.21020274916584358, 0.0700675830552812, 0.21020274916584358, 0.0700675830552812, 0.0700675830552812, 0.0700675830552812, 0.16075598086299392, 0.08037799043149696, 0.24113397129449088, 0.08037799043149696, 0.08037799043149696, 0.15138098335387798, 0.07569049167693899, 0.07569049167693899, 0.22707147503081695, 0.07569049167693899, 0.07569049167693899, 0.10292188903377351, 0.41168755613509406, 0.10292188903377351, 0.11883941404639321, 0.35651824213917965, 0.11883941404639321, 0.15535723134481189, 0.07767861567240594, 0.23303584701721786, 0.07767861567240594, 0.07767861567240594, 0.07767861567240594, 0.16924113717096853, 0.08462056858548427, 0.2538617057564528, 0.08462056858548427, 0.08462056858548427, 0.4704808041994117, 0.09409616083988233, 0.09409616083988233, 0.506134917768283, 0.1012269835536566, 0.09681788517320339, 0.48408942586601694, 0.09681788517320339, 0.09681788517320339, 0.5342683228675936, 0.10685366457351872, 0.5668580815142087, 0.49075798930446796, 0.09815159786089359, 0.4595580047301466, 0.09191160094602932, 0.22086840301196486, 0.17377178800944695, 0.3380622741102038, 0.20691342717157227, 0.24009246901994874, 0.16102054539551972, 0.32204109079103943, 0.21263549346224211, 0.19958454655503513, 0.1598717372734274, 0.12268392790003863, 0.12268392790003863, 0.12268392790003863, 0.12268392790003863, 0.22727775522341662, 0.22727775522341662, 0.20160709766284057, 0.19465876004622523, 0.1549863863964854, 0.1549863863964854, 0.259342177431012, 0.18026641603240567, 0.19348803829916938, 0.21968905832673974, 0.16231666198755607, 0.19815455841113855, 0.21976608919896598, 0.19138016754627246, 0.19138016754627246, 0.1723801452970864, 0.1723801452970864, 0.2744991566482242, 0.25473692132600334, 0.20213975313006885, 0.17881770994244703, 0.20719858579376504, 0.20719858579376504, 0.20719858579376504, 0.14632466793236745, 0.14411059356350903, 0.14411059356350903, 0.0988086925777147, 0.1976173851554294, 0.0988086925777147, 0.0988086925777147, 0.0988086925777147, 0.0988086925777147, 0.25050889902855594, 0.23610173750885177, 0.23610173750885177, 0.29700923547083224, 0.24629507306020693, 0.04579918098611014, 0.04579918098611014, 0.04579918098611014, 0.13739754295833043, 0.04579918098611014, 0.04579918098611014, 0.09159836197222028, 0.09159836197222028, 0.04579918098611014, 0.04579918098611014, 0.04579918098611014, 0.04579918098611014, 0.04579918098611014, 0.04579918098611014, 0.04579918098611014, 0.04579918098611014, 0.04579918098611014, 0.04579918098611014, 0.2554802056512431, 0.15427392646080834, 0.15427392646080834, 0.15427392646080834, 0.05468131180600697, 0.05468131180600697, 0.05468131180600697, 0.05468131180600697, 0.05468131180600697, 0.05468131180600697, 0.05468131180600697, 0.05468131180600697, 0.05468131180600697, 0.05468131180600697, 0.05468131180600697, 0.10936262361201395, 0.05468131180600697, 0.16810348805038086, 0.16810348805038086, 0.1684047434923607, 0.22390915420031296, 0.052799116736484526, 0.052799116736484526, 0.052799116736484526, 0.052799116736484526, 0.052799116736484526, 0.052799116736484526, 0.052799116736484526, 0.052799116736484526, 0.052799116736484526, 0.052799116736484526, 0.052799116736484526, 0.052799116736484526, 0.052799116736484526, 0.10559823347296905, 0.052799116736484526, 0.17289891954370343, 0.17289891954370343, 0.17289891954370343, 0.16441697731557156, 0.16318296003943522, 0.16318296003943522, 0.3287443176719, 0.10958143922396667, 0.10958143922396667, 0.32950957371900336, 0.10983652457300112, 0.06783221742005212, 0.2713288696802085, 0.06783221742005212, 0.06783221742005212, 0.06783221742005212, 0.06783221742005212, 0.06783221742005212, 0.06783221742005212, 0.06783221742005212, 0.21777574240754083, 0.21777574240754083, 0.2509527559071239, 0.08365091863570796, 0.16730183727141593, 0.08365091863570796, 0.2279562900757708, 0.24809449937784092, 0.24866330005561751, 0.4075600936242553, 0.5503404597235597, 0.3645238537310551, 0.09113096343276378, 0.09113096343276378, 0.09113096343276378, 0.18594780718438692, 0.18594780718438692, 0.2024734484465844, 0.1751709693742737, 0.20509831759159328, 0.052675869834948805, 0.052675869834948805, 0.052675869834948805, 0.052675869834948805, 0.052675869834948805, 0.052675869834948805, 0.052675869834948805, 0.052675869834948805, 0.052675869834948805, 0.052675869834948805, 0.052675869834948805, 0.052675869834948805, 0.052675869834948805, 0.16406572199240582, 0.1908793609136831, 0.05568842645343521, 0.05568842645343521, 0.05568842645343521, 0.05568842645343521, 0.05568842645343521, 0.05568842645343521, 0.05568842645343521, 0.05568842645343521, 0.05568842645343521, 0.05568842645343521, 0.05568842645343521, 0.05568842645343521, 0.05568842645343521, 0.05568842645343521, 0.15023735851326794, 0.15023735851326794, 0.15023735851326794, 0.15023735851326794, 0.06914664470476296, 0.2074399341142889, 0.06914664470476296, 0.13829328940952593, 0.06914664470476296, 0.13829328940952593, 0.06914664470476296, 0.21134573616589905, 0.07044857872196635, 0.1408971574439327, 0.07044857872196635, 0.1408971574439327, 0.07044857872196635, 0.1880217713587739, 0.06267392378625797, 0.12534784757251594, 0.06267392378625797, 0.06267392378625797, 0.06267392378625797, 0.06267392378625797, 0.12534784757251594, 0.06267392378625797, 0.21424137859630787, 0.07141379286543595, 0.1428275857308719, 0.07141379286543595, 0.1428275857308719, 0.07141379286543595, 0.2191353253985926, 0.07304510846619754, 0.14609021693239507, 0.07304510846619754, 0.14609021693239507, 0.07304510846619754, 0.20286458935109025, 0.06762152978369675, 0.1352430595673935, 0.06762152978369675, 0.06762152978369675, 0.06762152978369675, 0.1352430595673935, 0.06762152978369675, 0.19747073863617576, 0.06582357954539192, 0.13164715909078384, 0.06582357954539192, 0.06582357954539192, 0.13164715909078384, 0.06582357954539192, 0.07086488522068186, 0.2125946556620456, 0.07086488522068186, 0.14172977044136373, 0.07086488522068186, 0.07086488522068186, 0.14172977044136373, 0.07086488522068186, 0.2258580176131795, 0.07528600587105984, 0.15057201174211968, 0.07528600587105984, 0.15057201174211968, 0.07528600587105984, 0.2366222595213515, 0.2097146266564205, 0.23267314601943767, 0.23267314601943767, 0.17109362334213976, 0.17109362334213976, 0.33365516441800963, 0.16682758220900482, 0.17708260845425405, 0.17708260845425405, 0.17708260845425405, 0.12696827001897823, 0.25393654003795646, 0.12696827001897823, 0.20903951299448015, 0.1541710829732348, 0.3083421659464696, 0.1541710829732348, 0.1286099057062002, 0.2572198114124004, 0.1286099057062002, 0.1286099057062002, 0.15569445685563454, 0.15569445685563454, 0.11116730818938213, 0.11116730818938213, 0.11116730818938213, 0.22233461637876425, 0.22793591383849926, 0.14960969606039728, 0.27691706177494413, 0.10785761129061913, 0.21571522258123826, 0.10785761129061913, 0.10785761129061913, 0.10785761129061913, 0.26191670384503235, 0.18693445113455334, 0.18693445113455334, 0.1251757645657714, 0.1251757645657714, 0.1251757645657714, 0.1251757645657714, 0.2869709960154291, 0.14348549800771454, 0.01933239230856792, 0.03866478461713584, 0.01933239230856792, 0.01933239230856792, 0.01933239230856792, 0.03866478461713584, 0.07732956923427169, 0.01933239230856792, 0.01933239230856792, 0.03866478461713584, 0.05799717692570377, 0.07732956923427169, 0.03866478461713584, 0.03866478461713584, 0.03866478461713584, 0.01933239230856792, 0.03866478461713584, 0.03866478461713584, 0.01933239230856792, 0.01933239230856792, 0.03866478461713584, 0.01933239230856792, 0.03866478461713584, 0.03866478461713584, 0.03866478461713584, 0.01933239230856792, 0.03866478461713584, 0.01933239230856792, 0.01933239230856792, 0.01933239230856792, 0.31489674097385884, 0.1049655803246196, 0.1049655803246196, 0.3927777912937993, 0.09819444782344983, 0.09819444782344983, 0.2112132274801213, 0.11807561577758788, 0.11807561577758788, 0.11807561577758788, 0.11807561577758788, 0.17927807510685298, 0.2030240782583009, 0.279169089703448, 0.09305636323448267, 0.09305636323448267, 0.09305636323448267, 0.08714021821555681, 0.08714021821555681, 0.08714021821555681, 0.08714021821555681, 0.08714021821555681, 0.08714021821555681, 0.08714021821555681, 0.1074684900181611, 0.1074684900181611, 0.1074684900181611, 0.1074684900181611, 0.1074684900181611, 0.23393733341267306, 0.2485155730871817, 0.19936237348614025, 0.07296223193493367, 0.14592446386986735, 0.07296223193493367, 0.14592446386986735, 0.07296223193493367, 0.07296223193493367, 0.07296223193493367, 0.07296223193493367, 0.07296223193493367, 0.10152651875517836, 0.10152651875517836, 0.10152651875517836, 0.10152651875517836, 0.21656388839881832, 0.22459961258008213, 0.048852309023099436, 0.048852309023099436, 0.048852309023099436, 0.09770461804619887, 0.048852309023099436, 0.048852309023099436, 0.048852309023099436, 0.048852309023099436, 0.09770461804619887, 0.048852309023099436, 0.048852309023099436, 0.048852309023099436, 0.048852309023099436, 0.048852309023099436, 0.048852309023099436, 0.048852309023099436, 0.048852309023099436, 0.048852309023099436, 0.048852309023099436, 0.17584022707683913, 0.17584022707683913, 0.1593176923736362, 0.3186353847472724, 0.2733853771518653, 0.054525405786218735, 0.054525405786218735, 0.054525405786218735, 0.054525405786218735, 0.054525405786218735, 0.054525405786218735, 0.054525405786218735, 0.054525405786218735, 0.054525405786218735, 0.054525405786218735, 0.054525405786218735, 0.054525405786218735, 0.054525405786218735, 0.054525405786218735, 0.10905081157243747, 0.054525405786218735, 0.1718516410884733, 0.1718516410884733, 0.1718516410884733, 0.15569778277991894, 0.15569778277991894, 0.15569778277991894, 0.18692019010404903, 0.4501356609824441, 0.3004543243390988, 0.10015144144636626, 0.10015144144636626, 0.3304038098061242, 0.08260095245153105, 0.08260095245153105, 0.08260095245153105, 0.08260095245153105, 0.05830447657572953, 0.05830447657572953, 0.05830447657572953, 0.05830447657572953, 0.05830447657572953, 0.05830447657572953, 0.05830447657572953, 0.05830447657572953, 0.05830447657572953, 0.05830447657572953, 0.05830447657572953, 0.05830447657572953, 0.05830447657572953, 0.05830447657572953, 0.2189834199851976, 0.20120774216072854, 0.06706924738690952, 0.06706924738690952, 0.13413849477381903, 0.06706924738690952, 0.06706924738690952, 0.13413849477381903, 0.06706924738690952, 0.22171085576413116, 0.07390361858804372, 0.14780723717608743, 0.14780723717608743, 0.14780723717608743, 0.07390361858804372, 0.20302044345340114, 0.06767348115113371, 0.13534696230226742, 0.06767348115113371, 0.13534696230226742, 0.06767348115113371, 0.209182583904946, 0.06972752796831534, 0.13945505593663068, 0.06972752796831534, 0.13945505593663068, 0.06972752796831534, 0.2016276283076341, 0.2016276283076341, 0.07087186329785468, 0.21261558989356402, 0.07087186329785468, 0.14174372659570936, 0.07087186329785468, 0.14174372659570936, 0.07087186329785468, 0.2020966256014713, 0.0673655418671571, 0.1347310837343142, 0.0673655418671571, 0.1347310837343142, 0.0673655418671571, 0.06783537873771686, 0.20350613621315058, 0.06783537873771686, 0.06783537873771686, 0.13567075747543372, 0.06783537873771686, 0.13567075747543372, 0.06783537873771686, 0.20309218560807712, 0.06769739520269237, 0.13539479040538474, 0.06769739520269237, 0.13539479040538474, 0.06769739520269237, 0.06769739520269237, 0.2035876121735125, 0.06786253739117083, 0.13572507478234166, 0.06786253739117083, 0.06786253739117083, 0.13572507478234166, 0.06786253739117083, 0.1728677932005373, 0.21637705704905094, 0.23157750320833032, 0.1465437102940097, 0.1465437102940097, 0.1465437102940097, 0.1465437102940097, 0.1465437102940097, 0.1678227856286847, 0.1678227856286847, 0.2201266416959884, 0.2010405692241574, 0.2010405692241574, 0.18157155597067956, 0.18157155597067956, 0.24049676550982121, 0.05300390155911578, 0.05300390155911578, 0.05300390155911578, 0.10600780311823156, 0.05300390155911578, 0.10600780311823156, 0.05300390155911578, 0.05300390155911578, 0.05300390155911578, 0.05300390155911578, 0.05300390155911578, 0.05300390155911578, 0.2534167601807619, 0.16881782269126125, 0.16881782269126125, 0.17342777138058046, 0.19140187496223474, 0.19140187496223474, 0.2627115601719241, 0.12449306681702486, 0.12449306681702486, 0.12449306681702486, 0.12449306681702486, 0.24898613363404973, 0.09807164909234507, 0.09807164909234507, 0.09807164909234507, 0.09807164909234507, 0.09807164909234507, 0.09807164909234507, 0.09807164909234507, 0.09807164909234507, 0.13392098563994073, 0.13392098563994073, 0.13392098563994073, 0.13392098563994073, 0.19398279914314873, 0.15470739556311183, 0.13897434312372217, 0.13897434312372217, 0.13897434312372217, 0.12499690502086633, 0.12499690502086633, 0.24999381004173266, 0.13092836671076116, 0.13092836671076116, 0.13092836671076116, 0.13092836671076116, 0.1970356620824636, 0.21892190044748916, 0.11162568612352151, 0.11162568612352151, 0.11162568612352151, 0.11162568612352151, 0.18902209293049277, 0.18902209293049277, 0.08869398081568354, 0.08869398081568354, 0.08869398081568354, 0.17738796163136708, 0.08869398081568354, 0.08869398081568354, 0.10353186406844793, 0.10353186406844793, 0.10353186406844793, 0.10353186406844793, 0.10353186406844793, 0.10353186406844793, 0.20781503784348337, 0.20202876039415302, 0.20202876039415302, 0.1010922262429836, 0.1010922262429836, 0.2021844524859672, 0.1010922262429836, 0.1010922262429836, 0.11041371674946815, 0.11041371674946815, 0.11041371674946815, 0.11041371674946815, 0.11041371674946815, 0.14117073076938233, 0.14117073076938233, 0.14117073076938233, 0.14117073076938233, 0.13541426578876453, 0.13541426578876453, 0.13541426578876453, 0.13541426578876453, 0.13541426578876453, 0.14920813434993513, 0.29841626869987026, 0.14912634157254814, 0.14912634157254814, 0.14912634157254814, 0.11603960172003483, 0.11603960172003483, 0.11603960172003483, 0.23207920344006966, 0.2049131312374201, 0.12987915995883473, 0.12987915995883473, 0.12987915995883473, 0.14376753261380798, 0.14376753261380798, 0.07188376630690399, 0.21565129892071197, 0.07188376630690399, 0.07188376630690399, 0.07188376630690399, 0.17527217940698317, 0.08763608970349158, 0.08763608970349158, 0.26290826911047477, 0.05507033860152239, 0.05507033860152239, 0.05507033860152239, 0.05507033860152239, 0.05507033860152239, 0.05507033860152239, 0.05507033860152239, 0.05507033860152239, 0.05507033860152239, 0.05507033860152239, 0.05507033860152239, 0.11014067720304478, 0.05507033860152239, 0.1858010585131328, 0.17349985535534296, 0.17349985535534296, 0.17349985535534296, 0.22122960324893357, 0.26564852638674574, 0.05816783523489335, 0.05816783523489335, 0.05816783523489335, 0.05816783523489335, 0.05816783523489335, 0.05816783523489335, 0.05816783523489335, 0.05816783523489335, 0.05816783523489335, 0.1163356704697867, 0.05816783523489335, 0.15815888111363127, 0.15815888111363127, 0.1486322213064547, 0.1486322213064547, 0.23002508263302454, 0.23002508263302454, 0.1610301693816572, 0.1610301693816572, 0.1541047223750402, 0.1541047223750402, 0.13649135514799698, 0.13649135514799698, 0.17415937031028703, 0.16420011857822797, 0.21562697349205248, 0.20434625119598263, 0.20434625119598263, 0.20434625119598263, 0.2578603805103101, 0.20736454235687632, 0.19187887027447273, 0.18822517351106144, 0.20502048392555292, 0.20964215417309295, 0.23266523928349825, 0.19301678818162885, 0.18771706208020905, 0.19144227636672503, 0.19144227636672503, 0.23380792295524191, 0.2351465841058732, 0.20859322955885648, 0.22349637561222221, 0.14722843702987043, 0.14722843702987043, 0.14722843702987043, 0.22516904091711637, 0.24260769803317037, 0.1733528050433404, 0.16259935953349672, 0.16259935953349672, 0.16783620343901937, 0.20018542998525682, 0.1721007833079799, 0.1721007833079799, 0.17240290352088333, 0.17240290352088333, 0.15255574529285662, 0.15255574529285662, 0.20979899912544217, 0.2522897567519689, 0.21273417524823235, 0.1949204989829083, 0.1886609024758151, 0.17469565735936843, 0.26390549317878875, 0.17568059971971586, 0.17759409715047228, 0.17207859139787324, 0.17207859139787324, 0.20601839896042015, 0.23670116344193162, 0.202565229688635, 0.202565229688635, 0.15414834509568082, 0.15414834509568082, 0.2151131366738957, 0.25624744986065345, 0.1261467891099473, 0.1261467891099473, 0.1261467891099473, 0.14633476597479386, 0.14633476597479386, 0.14633476597479386, 0.14545694580093776, 0.14545694580093776, 0.15437145192202523, 0.15437145192202523, 0.1804902124309834, 0.1804902124309834, 0.1804902124309834, 0.16353176199099856, 0.16353176199099856, 0.2190935550453887, 0.22510158983519707, 0.23827654699316475, 0.22058614957018788, 0.1737686674438766, 0.21057804605478006, 0.1360442235524641, 0.1360442235524641, 0.2720884471049282, 0.17236083878702202, 0.23258109477542457, 0.23354618042744726, 0.1395101375667553, 0.1395101375667553, 0.1395101375667553, 0.1329217936571736, 0.1329217936571736, 0.1329217936571736, 0.1329217936571736, 0.30794489843947687, 0.20451121636403896, 0.16819967855483844, 0.16819967855483844, 0.2063543299654815, 0.17625155132890621, 0.17625155132890621, 0.20877164391073125, 0.1793258016802343, 0.1877784241494384, 0.1782845486459998, 0.3855457707212398, 0.17474184892176847, 0.17474184892176847, 0.17915793017351664, 0.17915793017351664, 0.2101630036206969, 0.1817912732508663, 0.1817912732508663, 0.17290257299750417, 0.17290257299750417, 0.19772922029920942, 0.19772922029920942, 0.19772922029920942, 0.22804015271786746, 0.19078354434073053, 0.19078354434073053, 0.19131189077590569, 0.19131189077590569, 0.16717379475957206, 0.16717379475957206, 0.15991406368512281, 0.15991406368512281, 0.2569652317625915, 0.05826686771299381, 0.17480060313898144, 0.05826686771299381, 0.05826686771299381, 0.05826686771299381, 0.05826686771299381, 0.05826686771299381, 0.11653373542598762, 0.05826686771299381, 0.05826686771299381, 0.05826686771299381, 0.14656085859792353, 0.14656085859792353, 0.12187808381648944, 0.12187808381648944, 0.12187808381648944, 0.12187808381648944, 0.12187808381648944, 0.2119880171226318, 0.05427020864721404, 0.1628106259416421, 0.05427020864721404, 0.05427020864721404, 0.05427020864721404, 0.05427020864721404, 0.05427020864721404, 0.05427020864721404, 0.05427020864721404, 0.10854041729442808, 0.05427020864721404, 0.05427020864721404, 0.05427020864721404, 0.05427020864721404, 0.06402630013983546, 0.06402630013983546, 0.06402630013983546, 0.06402630013983546, 0.06402630013983546, 0.06402630013983546, 0.06402630013983546, 0.06402630013983546, 0.06402630013983546, 0.06402630013983546, 0.1859388314950396, 0.1859388314950396, 0.1859388314950396, 0.1859388314950396, 0.2136981728240243, 0.06920864062732275, 0.06920864062732275, 0.06920864062732275, 0.06920864062732275, 0.06920864062732275, 0.06920864062732275, 0.06920864062732275, 0.06920864062732275, 0.24270924188210982, 0.18236134300759607, 0.23779506332415307, 0.04754083443903275, 0.04754083443903275, 0.04754083443903275, 0.04754083443903275, 0.04754083443903275, 0.0950816688780655, 0.04754083443903275, 0.04754083443903275, 0.0950816688780655, 0.04754083443903275, 0.04754083443903275, 0.04754083443903275, 0.0950816688780655, 0.1046278094004833, 0.1046278094004833, 0.2092556188009666, 0.1046278094004833, 0.13181552120444856, 0.13181552120444856, 0.2636310424088971, 0.13181552120444856, 0.16156182115100592, 0.061368113810375595, 0.061368113810375595, 0.061368113810375595, 0.061368113810375595, 0.061368113810375595, 0.061368113810375595, 0.061368113810375595, 0.061368113810375595, 0.061368113810375595, 0.061368113810375595, 0.061368113810375595, 0.19341434956214246, 0.18631946965620863, 0.18631946965620863, 0.18631946965620863, 0.18068687057018668, 0.33042906917792325, 0.13657950002729682, 0.13657950002729682, 0.14875145400068515, 0.14875145400068515, 0.14875145400068515, 0.13500440241413336, 0.13500440241413336, 0.17552841495692326, 0.1496668214655968, 0.1496668214655968, 0.1496668214655968, 0.1804659143984497, 0.21247481866842421, 0.16767410459079227, 0.16767410459079227, 0.16323123515314653, 0.16323123515314653, 0.1466607003716635, 0.1466607003716635, 0.1466607003716635, 0.1466607003716635, 0.15796883159334507, 0.15796883159334507, 0.15796883159334507, 0.15796883159334507, 0.2191696405552644, 0.23751375441657088, 0.13879522127045676, 0.13879522127045676, 0.27759044254091353, 0.15790329385534893, 0.15790329385534893, 0.18181976951120515, 0.18181976951120515, 0.2387394181329301, 0.24044020120476087, 0.24044020120476087, 0.20262244441514995, 0.2258419347181127, 0.2258419347181127, 0.20193838469237915, 0.20193838469237915, 0.11309441089260505, 0.11309441089260505, 0.11309441089260505, 0.11309441089260505, 0.11309441089260505, 0.11309441089260505, 0.22485449700513377, 0.22501645967851877, 0.22501645967851877, 0.16480265184989992, 0.18942239485582726, 0.23293632048077723, 0.23718458253171257, 0.24901269226914585, 0.24200397326142695, 0.1544992435006122, 0.1544992435006122, 0.24477636756304036, 0.24234345746610575, 0.18390210967759799, 0.18028485370360714, 0.18028485370360714, 0.24069620357355329, 0.22134143137567308, 0.22134143137567308, 0.24300881486618434, 0.1850373694590711, 0.2189022718019218, 0.22618275082286388, 0.22618275082286388, 0.212684490231862, 0.13792637801272978, 0.13792637801272978, 0.13792637801272978, 0.20252746211277411, 0.225099476578312, 0.18011339681610392, 0.18225123054082393, 0.18551856358600355, 0.18551856358600355, 0.23680482413322465, 0.25752775840137604, 0.20401952001045534, 0.20401952001045534, 0.24492126490386384, 0.1799617201254583, 0.1799617201254583, 0.2368793385819351, 0.27970318641876213, 0.2846678174523353, 0.22422924702997774, 0.24174893385328625], \"Term\": [\"#ab :: #aps\", \"#ab :: #aps\", \"#ab :: #aps\", \"#ab :: aps\", \"#adj :: ad\\u0292\", \"#adj :: ad\\u0292\", \"#aff :: afl\", \"#ag :: agas\", \"#ag :: agas\", \"#ajo :: #a\\u0292u\", \"#al :: #alt\", \"#al :: alk\\u0251\", \"#alc :: alk\\u0251\", \"#an :: #ane\", \"#an\\u00e9 :: ane\", \"#ap :: #apa\", \"#ap :: pa\\u0281\", \"#ap :: pa\\u0281\", \"#arn :: a\\u0281na\", \"#ba :: b\\u0251\\u0303\", \"#br :: #b\\u0281\", \"#br :: #b\\u0281\", \"#br :: #b\\u0281\", \"#br :: #b\\u0281\", \"#br :: #b\\u0281\", \"#br :: #b\\u0281\", \"#br :: #b\\u0281\", \"#br :: #b\\u0281\", \"#br :: #b\\u0281\", \"#br :: #b\\u0281a\", \"#br :: #b\\u0281a\", \"#br :: #b\\u0281a\", \"#br :: b\\u0281a\", \"#br :: b\\u0281a\", \"#br :: b\\u0281\\u0251\", \"#br :: \\u0281\\u0251\\u0254\\u032f\", \"#bra :: #b\\u0281\", \"#bra :: #b\\u0281\", \"#bra :: #b\\u0281a\", \"#bra :: #b\\u0281a\", \"#bra :: #b\\u0281a\", \"#bra :: b\\u0281a\", \"#bra :: b\\u0281a\", \"#ca :: #ka\", \"#ca :: #ka\", \"#ca :: #ka\", \"#ca :: #ka\", \"#ca :: #ka\", \"#ca :: #ka\", \"#ca :: #ka\", \"#ca :: #ka\", \"#ca :: #ka\", \"#ca :: #ka\", \"#ca :: #ka\", \"#ca :: #ka\", \"#ca :: #ka\", \"#ca :: #ka\", \"#ca :: #ka\", \"#ca :: ka\\u0281\", \"#ca :: ka\\u0281\", \"#ca :: ka\\u0281\", \"#ca :: ka\\u0281\", \"#caj :: \\u0251\\u0254\\u032f\", \"#ch :: \\u0259\\u0281\\u0254\", \"#chu :: \\u0283\\u028ft\", \"#cl :: klas\", \"#cl :: klas\", \"#co :: #k\\u00f5\", \"#co :: #k\\u00f5\", \"#co :: #k\\u00f5\", \"#co :: #k\\u00f5\", \"#co :: #k\\u00f5\", \"#co :: #k\\u00f5\", \"#co :: #k\\u00f5\\u0169\", \"#co :: #k\\u00f5\\u0169\", \"#co :: #k\\u00f5\\u0169\", \"#co :: #k\\u00f5\\u0169\", \"#co :: #k\\u00f5\\u0169\", \"#co :: #k\\u00f5\\u0169\", \"#co :: #k\\u0251\", \"#co :: #k\\u0251\", \"#co :: #k\\u0251\", \"#co :: #k\\u0251\", \"#co :: #k\\u0251\", \"#co :: #k\\u0251\", \"#co :: #k\\u0251\\u0254\", \"#co :: #k\\u0251\\u0254\", \"#co :: #k\\u0251\\u0254\", \"#co :: #k\\u0251\\u0254\", \"#co :: #k\\u028a\", \"#co :: #k\\u028a\", \"#co :: k\\u00f5\\u0169\", \"#co :: k\\u00f5\\u0169\", \"#co :: k\\u00f5\\u0169\", \"#co :: k\\u00f5\\u0169\", \"#co :: k\\u00f5\\u0169\", \"#co :: k\\u00f5\\u0169\", \"#co :: k\\u00f5\\u0169\", \"#co :: k\\u00f5\\u0169\\u032f\", \"#co :: k\\u00f5\\u0169\\u032f\", \"#co :: k\\u00f5\\u0169\\u032f\", \"#co :: k\\u00f5\\u0169\\u032f\", \"#co :: k\\u00f5\\u0169\\u032f\", \"#co :: k\\u00f5\\u0169\\u032f\", \"#co :: k\\u00f5\\u0169\\u032f\", \"#co :: k\\u0251\\u0254\", \"#co :: k\\u0251\\u0254\", \"#co :: k\\u0251\\u0254\", \"#co :: k\\u0251\\u0254\", \"#co :: k\\u0251\\u0254\", \"#co :: k\\u0251\\u0254\", \"#co :: k\\u0251\\u0254\", \"#co :: k\\u0251\\u0254\\u032f\", \"#co :: k\\u0251\\u0254\\u032f\", \"#co :: k\\u0251\\u0254\\u032f\", \"#co :: k\\u0251\\u0254\\u032f\", \"#co :: k\\u0251\\u0254\\u032f\", \"#co :: \\u00f5\\u0169\\u032f\", \"#co :: \\u00f5\\u0169\\u032f\", \"#co :: \\u00f5\\u0169\\u032f\", \"#co :: \\u00f5\\u0169\\u032f\", \"#co :: \\u00f5\\u0169\\u032f\", \"#co :: \\u00f5\\u0169\\u032f\", \"#co :: \\u00f5\\u0169\\u032f\", \"#co :: \\u00f5\\u0169\\u032fs\", \"#co :: \\u00f5\\u0169\\u032fs\", \"#co :: \\u0169\\u032fs\", \"#co :: \\u0169\\u032fs\", \"#co :: \\u0251\\u0254\\u032f\", \"#co :: \\u0251\\u0254\\u032f\", \"#co :: \\u0251\\u0254\\u032f\", \"#co :: \\u0251\\u0254\\u032f\", \"#co :: \\u0251\\u0254\\u032f\", \"#co :: \\u0254\\u032fa\", \"#co :: \\u0254\\u032fm\", \"#co :: \\u0254\\u032fm\\u028f\", \"#com :: #k\\u0251\", \"#com :: #k\\u0251\\u0254\", \"#com :: \\u0251\\u0254\\u032f\", \"#com :: \\u0254\\u032fm\", \"#com :: \\u032fm\\u028f\", \"#con :: #k\\u00f5\", \"#con :: #k\\u00f5\", \"#con :: #k\\u00f5\", \"#con :: #k\\u00f5\", \"#con :: #k\\u00f5\", \"#con :: #k\\u00f5\", \"#con :: #k\\u00f5\", \"#con :: #k\\u00f5\\u0169\", \"#con :: #k\\u00f5\\u0169\", \"#con :: #k\\u00f5\\u0169\", \"#con :: #k\\u00f5\\u0169\", \"#con :: #k\\u00f5\\u0169\", \"#con :: #k\\u00f5\\u0169\", \"#con :: #k\\u00f5\\u0169\", \"#con :: k\\u00f5\\u0169\", \"#con :: k\\u00f5\\u0169\", \"#con :: k\\u00f5\\u0169\", \"#con :: k\\u00f5\\u0169\", \"#con :: k\\u00f5\\u0169\", \"#con :: k\\u00f5\\u0169\", \"#con :: k\\u00f5\\u0169\", \"#con :: k\\u00f5\\u0169\\u032f\", \"#con :: k\\u00f5\\u0169\\u032f\", \"#con :: k\\u00f5\\u0169\\u032f\", \"#con :: k\\u00f5\\u0169\\u032f\", \"#con :: k\\u00f5\\u0169\\u032f\", \"#con :: k\\u00f5\\u0169\\u032f\", \"#con :: \\u00f5\\u0169\\u032f\", \"#con :: \\u00f5\\u0169\\u032f\", \"#con :: \\u00f5\\u0169\\u032f\", \"#con :: \\u00f5\\u0169\\u032f\", \"#con :: \\u00f5\\u0169\\u032f\", \"#con :: \\u00f5\\u0169\\u032f\", \"#con :: \\u00f5\\u0169\\u032f\", \"#con :: \\u00f5\\u0169\\u032f\", \"#con :: \\u00f5\\u0169\\u032f\", \"#con :: \\u0169\\u032ff\\u026a\", \"#con :: \\u0169\\u032ft\", \"#con :: \\u0169\\u032ft\", \"#cor :: k\\u0251\\u0254\", \"#de :: #d\\u0259v\", \"#de :: es\\u026a\", \"#de :: v\\u0251\\u0303\", \"#de :: v\\u0251\\u0303\", \"#de :: v\\u0251\\u0303\", \"#dem :: #d\\u0259\", \"#du :: d\\u0361z\\u028f\", \"#du :: d\\u0361z\\u028f\", \"#du :: d\\u0361z\\u028f\", \"#du :: d\\u0361z\\u028f\", \"#d\\u00e9 :: #de\", \"#d\\u00e9 :: #de\", \"#d\\u00e9 :: #de\", \"#d\\u00e9 :: #de\", \"#d\\u00e9 :: #de\", \"#d\\u00e9 :: #de\", \"#d\\u00e9 :: #de\", \"#d\\u00e9 :: #de\", \"#d\\u00e9 :: #de\", \"#d\\u00e9 :: #de\", \"#d\\u00e9 :: #de\", \"#d\\u00e9 :: #de\", \"#d\\u00e9 :: #de\", \"#d\\u00e9 :: #de\", \"#d\\u00e9 :: #de\", \"#d\\u00e9 :: #de\", \"#d\\u00e9 :: #de\", \"#d\\u00e9 :: #de\", \"#d\\u00e9 :: #de\", \"#d\\u00e9 :: #de\", \"#d\\u00e9 :: #de\", \"#d\\u00e9 :: #de\", \"#d\\u00e9 :: #de\", \"#d\\u00e9 :: #de\", \"#d\\u00e9 :: #de\", \"#d\\u00e9 :: #de\", \"#d\\u00e9 :: #de\", \"#d\\u00e9 :: #de\", \"#d\\u00e9 :: #de\", \"#d\\u00e9 :: #de\", \"#d\\u00e9 :: #de\", \"#d\\u00e9 :: #de\", \"#d\\u00e9 :: #deb\", \"#d\\u00e9 :: #deb\", \"#d\\u00e9 :: #deb\", \"#d\\u00e9 :: #deb\", \"#d\\u00e9 :: #deb\", \"#d\\u00e9 :: #deb\", \"#d\\u00e9 :: #dek\", \"#d\\u00e9 :: #dek\", \"#d\\u00e9 :: #dek\", \"#d\\u00e9 :: #dek\", \"#d\\u00e9 :: #dek\", \"#d\\u00e9 :: #dek\", \"#d\\u00e9 :: #dek\", \"#d\\u00e9 :: #de\\u0283\", \"#d\\u00e9 :: #de\\u0283\", \"#d\\u00e9 :: deb\", \"#d\\u00e9 :: deb\", \"#d\\u00e9 :: deb\", \"#d\\u00e9 :: deb\", \"#d\\u00e9 :: deb\", \"#d\\u00e9 :: deb\", \"#d\\u00e9 :: deb\\u028a\", \"#d\\u00e9 :: deb\\u028a\", \"#d\\u00e9 :: def\\u0281\", \"#d\\u00e9 :: dek\", \"#d\\u00e9 :: dek\", \"#d\\u00e9 :: dek\", \"#d\\u00e9 :: dek\", \"#d\\u00e9 :: dek\", \"#d\\u00e9 :: dek\", \"#d\\u00e9 :: dek\", \"#d\\u00e9 :: dek\", \"#d\\u00e9 :: deka\", \"#d\\u00e9 :: deka\", \"#d\\u00e9 :: deza\", \"#d\\u00e9 :: ef\\u0281\", \"#d\\u00e9 :: ef\\u0281\\u026a\", \"#d\\u00e9 :: eka\", \"#d\\u00e9 :: eka\", \"#d\\u00e9 :: eza\", \"#d\\u00e9 :: f\\u0281\\u026a\", \"#d\\u00e9 :: \\u0251\\u0254\\u032f\", \"#d\\u00e9 :: \\u0251\\u0254\\u032f\", \"#d\\u00e9 :: \\u0251\\u0254\\u032f\", \"#d\\u00e9b :: #de\", \"#d\\u00e9b :: #de\", \"#d\\u00e9b :: #de\", \"#d\\u00e9b :: #de\", \"#d\\u00e9b :: #de\", \"#d\\u00e9b :: #de\", \"#d\\u00e9b :: #de\", \"#d\\u00e9b :: #de\", \"#d\\u00e9b :: #deb\", \"#d\\u00e9b :: #deb\", \"#d\\u00e9b :: #deb\", \"#d\\u00e9b :: #deb\", \"#d\\u00e9b :: #deb\", \"#d\\u00e9b :: #deb\", \"#d\\u00e9b :: deb\", \"#d\\u00e9b :: deb\", \"#d\\u00e9b :: deb\", \"#d\\u00e9b :: deb\", \"#d\\u00e9b :: deb\", \"#d\\u00e9b :: deb\", \"#d\\u00e9b :: deb\\u028a\", \"#d\\u00e9b :: deb\\u028a\", \"#d\\u00e9b :: eb\\u028a\", \"#d\\u00e9b :: eb\\u028a\", \"#d\\u00e9c :: #de\", \"#d\\u00e9c :: #de\", \"#d\\u00e9c :: #de\", \"#d\\u00e9c :: #de\", \"#d\\u00e9c :: #de\", \"#d\\u00e9c :: #de\", \"#d\\u00e9c :: #de\", \"#d\\u00e9c :: #de\", \"#d\\u00e9c :: #de\", \"#d\\u00e9c :: #de\", \"#d\\u00e9c :: #de\", \"#d\\u00e9c :: #de\", \"#d\\u00e9c :: #dek\", \"#d\\u00e9c :: #dek\", \"#d\\u00e9c :: #dek\", \"#d\\u00e9c :: #dek\", \"#d\\u00e9c :: #dek\", \"#d\\u00e9c :: #dek\", \"#d\\u00e9c :: #dek\", \"#d\\u00e9c :: #dek\", \"#d\\u00e9c :: #de\\u0283\", \"#d\\u00e9c :: #de\\u0283\", \"#d\\u00e9c :: #de\\u0283\", \"#d\\u00e9c :: #de\\u0283\", \"#d\\u00e9c :: eka\", \"#d\\u00e9c :: eka\", \"#d\\u00e9c :: ekap\", \"#d\\u00e9f :: #de\", \"#d\\u00e9f :: #de\", \"#d\\u00e9f :: #de\", \"#d\\u00e9f :: #de\", \"#d\\u00e9f :: #de\", \"#d\\u00e9f :: #def\", \"#d\\u00e9f :: #def\", \"#d\\u00e9f :: #def\", \"#d\\u00e9f :: #def\", \"#d\\u00e9f :: def\", \"#d\\u00e9f :: def\", \"#d\\u00e9f :: def\", \"#d\\u00e9f :: def\", \"#d\\u00e9f :: def\\u0281\", \"#d\\u00e9f :: def\\u0281\", \"#d\\u00e9g :: #deg\", \"#d\\u00e9g :: #deg\", \"#d\\u00e9g :: #deg\", \"#d\\u00e9g :: #deg\", \"#d\\u00e9g :: #deg\", \"#d\\u00e9g :: #deg\", \"#d\\u00e9l :: del\", \"#d\\u00e9l :: del\", \"#d\\u00e9l :: del\", \"#d\\u00e9n :: \\u026ag\\u0281\", \"#d\\u00e9s :: deza\", \"#d\\u00e9s :: eza\", \"#d\\u00e9t :: det\", \"#d\\u00e9t :: det\", \"#d\\u00e9t :: det\", \"#d\\u00een :: d\\u0361z\", \"#ef :: a\\u0281\\u0259\\u0281\", \"#ef :: fa\\u0281\", \"#ef :: fa\\u0281\\u0259\", \"#eff :: efa\", \"#eff :: efa\\u0281\", \"#em :: #\\u0251\\u0303\", \"#em :: #\\u0251\\u0303\", \"#em :: #\\u0251\\u0303\", \"#em :: #\\u0251\\u0303\", \"#em :: #\\u0251\\u0303\", \"#em :: #\\u0251\\u0303p\", \"#em :: #\\u0251\\u0303p\", \"#em :: #\\u0251\\u0303p\", \"#em :: #\\u0251\\u0303p\", \"#em :: #\\u0251\\u0303p\", \"#em :: \\u0251\\u0303p\", \"#em :: \\u0251\\u0303p\", \"#em :: \\u0251\\u0303p\", \"#em :: \\u0251\\u0303p\", \"#em :: \\u0251\\u0303p\", \"#emp :: #\\u0251\\u0303\", \"#emp :: #\\u0251\\u0303\", \"#emp :: #\\u0251\\u0303\", \"#emp :: #\\u0251\\u0303\", \"#emp :: #\\u0251\\u0303p\", \"#emp :: #\\u0251\\u0303p\", \"#emp :: #\\u0251\\u0303p\", \"#emp :: \\u0251\\u0303p\", \"#emp :: \\u0251\\u0303p\", \"#emp :: \\u0251\\u0303p\", \"#en :: #\\u0251\\u0303\", \"#en :: #\\u0251\\u0303\", \"#en :: #\\u0251\\u0303\", \"#en :: #\\u0251\\u0303\", \"#en :: #\\u0251\\u0303\", \"#en :: #\\u0251\\u0303\", \"#en :: #\\u0251\\u0303\", \"#en :: #\\u0251\\u0303\", \"#en :: #\\u0251\\u0303\", \"#en :: #\\u0251\\u0303\", \"#en :: #\\u0251\\u0303\", \"#en :: #\\u0251\\u0303\", \"#en :: #\\u0251\\u0303\", \"#en :: #\\u0251\\u0303\", \"#en :: #\\u0251\\u0303\", \"#en :: #\\u0251\\u0303\", \"#en :: #\\u0251\\u0303\", \"#en :: #\\u0251\\u0303\", \"#en :: #\\u0251\\u0303\", \"#en :: \\u0251\\u0303s\", \"#en :: \\u0251\\u0303s\", \"#en :: \\u0251\\u0303\\u0281a\", \"#enc :: \\u0303k\\u0281\", \"#eng :: \\u0303\\u0292\\u0251\\u0303\", \"#esq :: ask\\u026a\", \"#esq :: ask\\u026a\", \"#fa :: fas\\u026a\", \"#fas :: #fa\", \"#fas :: #fas\", \"#fas :: as\\u026a\", \"#fe :: f\\u0153j\", \"#fi :: #f\\u026a\", \"#fi :: #f\\u026a\", \"#fi :: #f\\u026a\", \"#fi :: #f\\u026a\", \"#fi :: #f\\u026a\", \"#fi :: #f\\u026an\", \"#fi :: #f\\u026an\", \"#fin :: al\\u026az\", \"#fin :: l\\u026az\", \"#fin :: nal\", \"#fin :: nal\\u026a\", \"#fl :: fla\", \"#fl :: fla\", \"#fl :: fla\", \"#fo :: f\\u0251\\u0254\", \"#fo :: f\\u0251\\u0254\\u032f\", \"#fo :: f\\u0251\\u0254\\u032f\", \"#fo :: \\u0254\\u032f\\u0281\", \"#fol :: #f\\u0251\\u0254\", \"#fr :: \\u0281\\u028af\", \"#fro :: f\\u0281\\u028a\", \"#ga :: #ga\\u0281\", \"#ga :: #ga\\u0281\", \"#ga :: #ga\\u0281\", \"#gr :: \\u0281\\u026aja\", \"#gr :: \\u0281\\u026aja\", \"#ha :: ab\\u026aj\", \"#ha :: ab\\u026aj\", \"#in :: #\\u1ebd\\u0129\", \"#in :: #\\u1ebd\\u0129\", \"#in :: #\\u1ebd\\u0129\", \"#in :: #\\u1ebd\\u0129\", \"#in :: #\\u1ebd\\u0129\", \"#in :: #\\u1ebd\\u0129\", \"#in :: #\\u1ebd\\u0129\\u032f\", \"#in :: #\\u1ebd\\u0129\\u032f\", \"#in :: #\\u1ebd\\u0129\\u032f\", \"#in :: #\\u1ebd\\u0129\\u032f\", \"#in :: #\\u1ebd\\u0129\\u032f\", \"#in :: #\\u1ebd\\u0129\\u032f\", \"#in :: ze#\", \"#in :: \\u032fs\\u026a\", \"#in :: \\u1ebd\\u0129\\u032f\", \"#in :: \\u1ebd\\u0129\\u032f\", \"#in :: \\u1ebd\\u0129\\u032f\", \"#in :: \\u1ebd\\u0129\\u032f\", \"#in :: \\u1ebd\\u0129\\u032f\", \"#inv :: \\u0129\\u032fv\", \"#ma :: #ma\", \"#ma :: #ma\", \"#ma :: #ma\", \"#ma :: #ma\", \"#ma :: #ma\", \"#ma :: #ma\", \"#ma :: #ma\", \"#ma :: #ma\", \"#ma :: #ma\\u0281\", \"#ma :: #ma\\u0281\", \"#ma :: #ma\\u0281\", \"#ma :: ma\\u0281\", \"#ma :: ma\\u0281\", \"#ma :: ma\\u0281\", \"#mal :: #ma\", \"#mar :: #ma\", \"#mar :: #ma\", \"#mar :: #ma\\u0281\", \"#mar :: #ma\\u0281\", \"#mar :: #ma\\u0281\", \"#mar :: #ma\\u0281\", \"#mar :: ma\\u0281\", \"#mar :: ma\\u0281\", \"#mu :: m\\u028ft\\u0361\", \"#nu :: #n\\u028f\", \"#pe :: \\u0281m\\u028ft\", \"#pel :: p\\u0259l\\u0251\", \"#pel :: p\\u0259l\\u0251\", \"#per :: a\\u0281m\", \"#per :: a\\u0281m\", \"#per :: \\u0281m\\u028f\", \"#per :: \\u0281m\\u028ft\", \"#per :: \\u0281m\\u028ft\", \"#per :: \\u0281m\\u028ft\", \"#po :: #p\\u00f5\\u0169\", \"#po :: #p\\u00f5\\u0169\", \"#po :: #p\\u028a\\u0281\", \"#po :: #p\\u028a\\u0281\", \"#po :: #p\\u028a\\u0281\", \"#pr :: #p\\u0281\\u0251\", \"#pr :: #p\\u0281\\u0251\", \"#pr :: p\\u0281\\u0251\", \"#pr :: p\\u0281\\u0251\\u0254\", \"#pr :: \\u0251\\u0254\\u032f\", \"#pr :: \\u0281\\u0251\\u0254\", \"#pr :: \\u0281\\u0251\\u0254\\u032f\", \"#pro :: #p\\u0281\", \"#pro :: #p\\u0281\", \"#pro :: #p\\u0281\\u0251\", \"#pro :: #p\\u0281\\u0251\", \"#pro :: p\\u0281\\u0251\", \"#pro :: p\\u0281\\u0251\\u0254\", \"#pro :: \\u0251\\u0254\\u032f\", \"#pro :: \\u0251\\u0254\\u032f\", \"#pro :: \\u0281\\u0251\\u0254\", \"#pro :: \\u0281\\u0251\\u0254\", \"#pu :: p\\u028fn\", \"#p\\u00e9 :: #pe\", \"#p\\u00e9 :: #pe\", \"#p\\u00e9 :: #pe\", \"#p\\u00e9 :: et\\u0281\", \"#p\\u00e9 :: et\\u0281\\u026a\", \"#p\\u00e9 :: pet\", \"#p\\u00e9 :: pet\", \"#p\\u00e9t :: #pet\", \"#p\\u00e9t :: pet\", \"#p\\u00e9t :: pet\", \"#ra :: ak\\u00f5\", \"#ra :: av\\u026a\", \"#re :: #\\u0281\\u0259\", \"#re :: #\\u0281\\u0259\", \"#re :: #\\u0281\\u0259\", \"#re :: #\\u0281\\u0259\", \"#re :: #\\u0281\\u0259\", \"#re :: #\\u0281\\u0259\", \"#re :: #\\u0281\\u0259\", \"#re :: #\\u0281\\u0259\", \"#re :: #\\u0281\\u0259\", \"#re :: #\\u0281\\u0259\", \"#re :: #\\u0281\\u0259\", \"#re :: #\\u0281\\u0259\", \"#re :: #\\u0281\\u0259\", \"#re :: #\\u0281\\u0259\", \"#re :: #\\u0281\\u0259\", \"#re :: #\\u0281\\u0259\", \"#re :: #\\u0281\\u0259\", \"#re :: #\\u0281\\u0259\", \"#re :: #\\u0281\\u0259\", \"#re :: #\\u0281\\u0259\", \"#re :: #\\u0281\\u0259\", \"#re :: #\\u0281\\u0259k\", \"#re :: #\\u0281\\u0259k\", \"#re :: #\\u0281\\u0259m\", \"#re :: #\\u0281\\u0259m\", \"#re :: #\\u0281\\u0259m\", \"#re :: #\\u0281\\u0259\\u0283\", \"#re :: #\\u0281\\u0259\\u0283\", \"#re :: #\\u0281\\u0259\\u0283\", \"#re :: \\u0281\\u0251\\u0303\", \"#re :: \\u0281\\u0251\\u0303\", \"#re :: \\u0281\\u0251\\u0303\", \"#re :: \\u0281\\u0251\\u0303\", \"#re :: \\u0281\\u0259d\\u028a\", \"#re :: \\u0281\\u0259d\\u028a\", \"#re :: \\u0281\\u0259d\\u028a\", \"#re :: \\u0281\\u0259k\", \"#re :: \\u0281\\u0259k\", \"#re :: \\u0281\\u0259\\u0283\", \"#re :: \\u0281\\u0259\\u0283\", \"#rec :: #\\u0281\\u0259\", \"#rec :: #\\u0281\\u0259\", \"#rec :: #\\u0281\\u0259\", \"#rec :: #\\u0281\\u0259\", \"#rec :: #\\u0281\\u0259\", \"#rec :: #\\u0281\\u0259\\u0283\", \"#rec :: #\\u0281\\u0259\\u0283\", \"#rec :: #\\u0281\\u0259\\u0283\", \"#rec :: \\u0281\\u0259\\u0283\", \"#rec :: \\u0281\\u0259\\u0283\", \"#rec :: \\u0281\\u0259\\u0283\", \"#red :: \\u028abl\", \"#red :: \\u028abl\", \"#rel :: #\\u0281\\u0259\", \"#rel :: #\\u0281\\u0259\", \"#rel :: #\\u0281\\u0259\", \"#rel :: #\\u0281\\u0259\", \"#rem :: #\\u0281\\u0259\", \"#rem :: #\\u0281\\u0259\", \"#rem :: #\\u0281\\u0259\", \"#rem :: #\\u0281\\u0259\", \"#rem :: \\u0281\\u0259m\", \"#rem :: \\u0281\\u0259m\", \"#rou :: #\\u0281\\u028al\", \"#rou :: #\\u0281\\u028al\", \"#r\\u00e9 :: #\\u0281e\", \"#r\\u00e9 :: #\\u0281e\", \"#r\\u00e9 :: #\\u0281e\", \"#r\\u00e9 :: #\\u0281e\", \"#r\\u00e9 :: #\\u0281e\", \"#r\\u00e9 :: #\\u0281e\", \"#r\\u00e9 :: #\\u0281e\", \"#r\\u00e9 :: #\\u0281e\", \"#r\\u00e9 :: #\\u0281e\", \"#r\\u00e9 :: #\\u0281e\", \"#r\\u00e9 :: #\\u0281e\", \"#r\\u00e9 :: #\\u0281e\", \"#r\\u00e9 :: #\\u0281e\", \"#r\\u00e9 :: #\\u0281ek\", \"#r\\u00e9 :: \\u0281ea\", \"#r\\u00e9c :: #\\u0281ek\", \"#r\\u00e9s :: \\u0281ez\\u028f\", \"#sac :: #sa\", \"#sac :: #sa\", \"#sc :: l\\u1ebd\\u0129\\u032f\", \"#se :: #s\\u0259\", \"#se :: s\\u0251\\u0303\", \"#so :: #s\\u028a\", \"#so :: #s\\u028a\", \"#so :: #s\\u028a\", \"#so :: #s\\u028a\", \"#so :: #s\\u028a\", \"#so :: #s\\u028a\", \"#sou :: #s\\u028a\", \"#sou :: #s\\u028a\", \"#sou :: #s\\u028a\", \"#sou :: #s\\u028a\", \"#sou :: mat\", \"#sou :: mat\", \"#su :: #s\\u028f\", \"#su :: #s\\u028f\", \"#su :: #s\\u028f\", \"#su :: #s\\u028f\", \"#su :: #s\\u028f\", \"#su :: #s\\u028f\", \"#su :: #s\\u028f\", \"#su :: s\\u028f\\u0281\", \"#su :: s\\u028f\\u0281\", \"#su :: s\\u028f\\u0281\", \"#su :: s\\u028f\\u0281\", \"#su :: s\\u028f\\u0281\", \"#sur :: #s\\u028f\\u0281\", \"#sur :: #s\\u028f\\u0281\", \"#sur :: #s\\u028f\\u0281\", \"#sur :: #s\\u028f\\u0281\", \"#sur :: #s\\u028f\\u0281\", \"#sur :: #s\\u028f\\u0281\", \"#sur :: #s\\u028f\\u0281\", \"#ta :: #tak\", \"#t\\u00e9l :: tel\", \"#t\\u00e9l :: tele\", \"#\\u00e9d :: #ed\\u0361\", \"#\\u00e9d :: ed\\u0361\", \"#\\u00e9di :: ed\\u0361\", \"#\\u00e9di :: \\u0361z\\u026a\", \"#\\u00e9p :: #epa\", \"#\\u00e9p :: #epa\", \"#\\u00e9p :: #epa\", \"#\\u00e9pa :: epa\", \"#\\u00e9tr :: et\\u0281\", \"#\\u00e9v :: evaz\", \"#\\u00e9va :: vaz\", \"#\\u00e9va :: vaz\", \"abi :: b\\u026aj\", \"acc :: \\u0251\\u0254\\u032f\", \"acc :: \\u0251\\u0254\\u032f\", \"acco :: ak\\u0251\\u0254\", \"acco :: ak\\u0251\\u0254\", \"acco :: \\u0251\\u0254\\u032f\", \"aci :: s\\u026at\", \"acit :: s\\u026ate\", \"acit :: \\u026ate#\", \"aco :: #\\u0281a\", \"aco :: #\\u0281a\", \"acon :: \\u00f5\\u0169\\u032f\", \"adu :: ad\\u0361\", \"aga :: aga\\u0281\", \"ai# :: #de\", \"ai# :: #de\", \"ai# :: #de\", \"ai# :: a\\u0281\\u0259\", \"aie :: #\\u0251\\u0303t\", \"aie :: #\\u0251\\u0303t\", \"aie :: #\\u0251\\u0303t\", \"aie :: \\u0259\\u0281a\", \"aie :: \\u0259\\u0281a\", \"aie :: \\u0259\\u0281a\", \"aie :: \\u0259\\u0281a\", \"aie :: \\u0259\\u0281a\", \"aie :: \\u0259\\u0281a\", \"aie :: \\u0259\\u0281a#\", \"aie :: \\u0259\\u0281a#\", \"aie :: \\u0259\\u0281a#\", \"aie :: \\u0259\\u0281a#\", \"aie :: \\u0259\\u0281a#\", \"aie :: \\u0259\\u0281a#\", \"aie :: \\u0259\\u0281a#\", \"aie :: \\u0281a#\", \"aie :: \\u0281a#\", \"aie :: \\u0281a#\", \"aie :: \\u0281a#\", \"aie :: \\u0281a#\", \"aie :: \\u0281a#\", \"aie :: \\u0281a#\", \"aie :: \\u0281a#\", \"aie :: \\u0281a#\", \"aie :: \\u0281a#\", \"aien :: \\u0259\\u0281a\", \"aien :: \\u0259\\u0281a\", \"aien :: \\u0259\\u0281a\", \"aien :: \\u0259\\u0281a\", \"aien :: \\u0259\\u0281a\", \"aien :: \\u0259\\u0281a\", \"aien :: \\u0259\\u0281a\", \"aien :: \\u0259\\u0281a\", \"aien :: \\u0259\\u0281a#\", \"aien :: \\u0259\\u0281a#\", \"aien :: \\u0259\\u0281a#\", \"aien :: \\u0259\\u0281a#\", \"aien :: \\u0259\\u0281a#\", \"aien :: \\u0259\\u0281a#\", \"ail :: ema\", \"ail :: ema\", \"ail :: maj\", \"aill :: dema\", \"aill :: dema\", \"aill :: emaj\", \"aill :: g\\u0281aj\", \"aill :: g\\u0281aj\", \"aill :: maj\", \"ais :: asa\", \"ais :: \\u0259\\u0281a\", \"ais :: \\u0259\\u0281a\", \"ais :: \\u0259\\u0281a\", \"ais :: \\u0259\\u0281a\", \"ais :: \\u0259\\u0281a\", \"ais :: \\u0259\\u0281a\", \"ais :: \\u0259\\u0281a\", \"ais :: \\u0259\\u0281a\", \"ais :: \\u0259\\u0281a#\", \"ais :: \\u0259\\u0281a#\", \"ais :: \\u0259\\u0281a#\", \"ais :: \\u0259\\u0281a#\", \"ais :: \\u0259\\u0281a#\", \"ais :: \\u0259\\u0281a#\", \"ais :: \\u0259\\u0281a#\", \"ais :: \\u0259\\u0281a#\", \"ais :: \\u0259\\u0281a#\", \"ais :: \\u0281a#\", \"ais :: \\u0281a#\", \"ais :: \\u0281a#\", \"ais :: \\u0281a#\", \"ais :: \\u0281a#\", \"ais :: \\u0281a#\", \"ais :: \\u0281a#\", \"ais :: \\u0281a#\", \"ais :: \\u0281a#\", \"ais :: \\u0281a#\", \"ais# :: #ab\", \"ais# :: ata\", \"ais# :: ata\", \"ais# :: \\u0259\\u0281a\", \"ais# :: \\u0259\\u0281a\", \"ais# :: \\u0259\\u0281a\", \"ais# :: \\u0259\\u0281a\", \"ais# :: \\u0259\\u0281a\", \"ais# :: \\u0259\\u0281a\", \"ais# :: \\u0259\\u0281a\", \"ais# :: \\u0281a#\", \"ais# :: \\u0281a#\", \"ais# :: \\u0281a#\", \"ais# :: \\u0281a#\", \"ais# :: \\u0281a#\", \"ais# :: \\u0281a#\", \"ais# :: \\u0281a#\", \"ais# :: \\u0281a#\", \"ais# :: \\u0281a#\", \"ais# :: \\u0281a#\", \"ais# :: \\u0281a#\", \"ais# :: \\u0281a#\", \"ait :: ta#\", \"ait :: ta#\", \"ait :: ta#\", \"ait :: ta#\", \"ait :: \\u0251\\u0254\\u032fn\", \"ait :: \\u0251\\u0254\\u032fn\", \"ait :: \\u0259\\u0281a\", \"ait :: \\u0259\\u0281a\", \"ait :: \\u0259\\u0281a\", \"ait :: \\u0259\\u0281a\", \"ait :: \\u0259\\u0281a\", \"ait :: \\u0259\\u0281a\", \"ait :: \\u0259\\u0281a\", \"ait :: \\u0259\\u0281a\", \"ait :: \\u0259\\u0281a\", \"ait :: \\u0259\\u0281a#\", \"ait :: \\u0259\\u0281a#\", \"ait :: \\u0259\\u0281a#\", \"ait :: \\u0259\\u0281a#\", \"ait :: \\u0259\\u0281a#\", \"ait :: \\u0259\\u0281a#\", \"ait :: \\u0259\\u0281a#\", \"ait :: \\u0259\\u0281a#\", \"ait :: \\u0281a#\", \"ait :: \\u0281a#\", \"ait :: \\u0281a#\", \"ait :: \\u0281a#\", \"ait :: \\u0281a#\", \"ait :: \\u0281a#\", \"ait :: \\u0281a#\", \"ait :: \\u0281a#\", \"ait :: \\u0281a#\", \"ait :: \\u0281a#\", \"ait :: \\u0281a#\", \"ait# :: aka\", \"ait# :: l\\u0259\\u0281a\", \"ait# :: ta#\", \"ait# :: ta#\", \"ait# :: ta#\", \"ait# :: \\u0251\\u0254\\u032fn\", \"ait# :: \\u0254\\u032fn\", \"ait# :: \\u0254\\u032fna\", \"ait# :: \\u0259\\u0281a\", \"ait# :: \\u0259\\u0281a\", \"ait# :: \\u0259\\u0281a\", \"ait# :: \\u0259\\u0281a\", \"ait# :: \\u0259\\u0281a\", \"ait# :: \\u0259\\u0281a\", \"ait# :: \\u0259\\u0281a\", \"ait# :: \\u0259\\u0281a\", \"ait# :: \\u0259\\u0281a\", \"ait# :: \\u0259\\u0281a#\", \"ait# :: \\u0259\\u0281a#\", \"ait# :: \\u0259\\u0281a#\", \"ait# :: \\u0259\\u0281a#\", \"ait# :: \\u0259\\u0281a#\", \"ait# :: \\u0259\\u0281a#\", \"ait# :: \\u0259\\u0281a#\", \"ait# :: \\u0259\\u0281a#\", \"ait# :: \\u0259\\u0281a#\", \"ait# :: \\u0259\\u0281a#\", \"ait# :: \\u0281a#\", \"ait# :: \\u0281a#\", \"ait# :: \\u0281a#\", \"ait# :: \\u0281a#\", \"ait# :: \\u0281a#\", \"ait# :: \\u0281a#\", \"ait# :: \\u0281a#\", \"ait# :: \\u0281a#\", \"ait# :: \\u0281a#\", \"ait# :: \\u0281a#\", \"ait# :: \\u032fna\", \"ajo :: a\\u0292\\u0251\\u0254\", \"alc :: alk\", \"alc :: alk\", \"alc :: alk\", \"alc :: alk\", \"ali :: #f\\u026a\", \"ali :: al\\u026a\", \"ali :: al\\u026a\", \"ali :: al\\u026a\", \"ali :: al\\u026a\", \"ali :: al\\u026a\", \"ali :: al\\u026a\", \"ali :: bal\\u026a\", \"ali :: f\\u026an\", \"ali :: l\\u026az\", \"ali :: l\\u026az\", \"ali :: l\\u026az\", \"ali :: \\u026az#\", \"ali :: \\u026az#\", \"ali :: \\u026aze#\", \"alis :: al\\u026a\", \"alis :: al\\u026a\", \"alis :: al\\u026a\", \"alis :: al\\u026a\", \"alis :: al\\u026az\", \"alis :: al\\u026az\", \"alis :: l\\u026az\", \"alis :: l\\u026az\", \"alis :: l\\u026az\", \"alis :: l\\u026az\", \"alis :: l\\u026aze\", \"alis :: \\u026anal\", \"alis :: \\u026anal\", \"alis :: \\u026aze#\", \"all :: al\\u028fm\", \"allo :: l\\u0251\\u0254\", \"allo :: l\\u0251\\u0254\", \"allo :: l\\u0251\\u0254\", \"alon :: al\\u0251\\u0254\", \"alon :: \\u0251\\u0254\\u032f\", \"alon :: \\u0251\\u0254\\u032fn\", \"alon :: \\u0251\\u0254\\u032fn\", \"alt :: #al\", \"amb :: #\\u0283\\u0251\\u0303\", \"anc :: #\\u0251\\u0303m\", \"anch :: \\u0251\\u0303m\\u0251\", \"ang\\u00e9 :: \\u0303\\u0292e#\", \"ang\\u00e9 :: \\u0303\\u0292e#\", \"ang\\u00e9 :: \\u0303\\u0292e#\", \"ani :: an\\u026a\", \"ani :: an\\u026a\", \"ani :: an\\u026a\", \"anou :: epa\", \"anou :: epa\", \"ant :: t\\u00e6\\u0303\", \"ant :: t\\u00e6\\u0303\", \"ant :: t\\u00e6\\u0303\", \"ant :: t\\u00e6\\u0303#\", \"ant :: t\\u00e6\\u0303#\", \"ant :: t\\u00e6\\u0303#\", \"ant :: \\u00e6\\u0303#\", \"ant :: \\u00e6\\u0303#\", \"ant :: \\u00e6\\u0303#\", \"ant :: \\u00e6\\u0303#\", \"ant :: \\u00e6\\u0303#\", \"ant :: \\u00e6\\u0303#\", \"ant :: \\u00e6\\u0303#\", \"ant :: \\u00e6\\u0303#\", \"ant :: \\u00e6\\u0303#\", \"ant :: \\u00e6\\u0303#\", \"ant :: \\u00e6\\u0303#\", \"ant :: \\u00e6\\u0303#\", \"ant :: \\u00e6\\u0303#\", \"ant :: \\u00e6\\u0303#\", \"ant :: \\u00e6\\u0303#\", \"ant :: \\u00e6\\u0303#\", \"ant :: \\u00e6\\u0303#\", \"ant :: \\u00e6\\u0303#\", \"ant :: \\u00e6\\u0303#\", \"ant :: \\u00e6\\u0303#\", \"ant :: \\u00e6\\u0303#\", \"ant :: \\u032ft#\", \"ant :: \\u032ft#\", \"ant :: \\u032ft#\", \"ant :: \\u032ft#\", \"ant :: \\u032ft#\", \"ant :: \\u032ft\\u00e6\", \"ant# :: t\\u00e6\\u0303\", \"ant# :: t\\u00e6\\u0303\", \"ant# :: t\\u00e6\\u0303\", \"ant# :: t\\u00e6\\u0303#\", \"ant# :: t\\u00e6\\u0303#\", \"ant# :: t\\u00e6\\u0303#\", \"ant# :: \\u00e6\\u0303#\", \"ant# :: \\u00e6\\u0303#\", \"ant# :: \\u00e6\\u0303#\", \"ant# :: \\u00e6\\u0303#\", \"ant# :: \\u00e6\\u0303#\", \"ant# :: \\u00e6\\u0303#\", \"ant# :: \\u00e6\\u0303#\", \"ant# :: \\u00e6\\u0303#\", \"ant# :: \\u00e6\\u0303#\", \"ant# :: \\u00e6\\u0303#\", \"ant# :: \\u00e6\\u0303#\", \"ant# :: \\u00e6\\u0303#\", \"ant# :: \\u00e6\\u0303#\", \"ant# :: \\u00e6\\u0303#\", \"ante :: \\u00e3\\u0169\\u032f\", \"ante :: \\u00e3\\u0169\\u032f\", \"ante :: \\u00e3\\u0169\\u032f\", \"ante :: \\u00e3\\u0169\\u032f\", \"ante :: \\u00e3\\u0169\\u032f\", \"ante :: \\u0169\\u032ft\", \"ante :: \\u0169\\u032ft\", \"ante :: \\u0169\\u032ft\", \"ante :: \\u0169\\u032ft\", \"ante :: \\u0169\\u032ft\", \"ante :: \\u0169\\u032ft#\", \"ante :: \\u0169\\u032ft#\", \"ante :: \\u0169\\u032ft#\", \"ante :: \\u0169\\u032ft#\", \"ante :: \\u032ft#\", \"ante :: \\u032ft#\", \"ante :: \\u032ft#\", \"ante :: \\u032ft#\", \"ante :: \\u032ft#\", \"ante :: \\u032ft#\", \"an\\u00e9 :: #ane\", \"app :: #apa\", \"app :: apa\", \"app :: apa\\u0281\", \"app :: apa\\u0281\", \"appa :: #ap\", \"appa :: #ap\", \"appa :: apa\", \"appa :: apa\\u0281\", \"aque :: k\\u0259\\u0281\", \"ara :: a\\u0281o\", \"arni :: \\u0281n\\u026a\", \"arr\\u00ea :: #a\\u0281e\", \"arr\\u00ea :: #a\\u0281e\", \"art :: #ma\\u0281\", \"art :: #ma\\u0281\", \"as# :: l\\u0259\\u0281\", \"as# :: l\\u0259\\u0281\", \"as# :: l\\u0259\\u0281\\u0254\", \"as# :: l\\u0259\\u0281\\u0254\", \"as# :: l\\u0259\\u0281\\u0254\", \"as# :: l\\u0259\\u0281\\u0254\", \"as# :: l\\u0259\\u0281\\u0254\", \"as# :: n\\u0259\\u0281\", \"as# :: n\\u0259\\u0281\", \"as# :: n\\u0259\\u0281\\u0254\", \"as# :: v\\u0259\\u0281\", \"as# :: \\u0259\\u0281\\u0254\", \"as# :: \\u0259\\u0281\\u0254\", \"as# :: \\u0259\\u0281\\u0254\", \"as# :: \\u0259\\u0281\\u0254\", \"as# :: \\u0259\\u0281\\u0254\", \"as# :: \\u0259\\u0281\\u0254\", \"as# :: \\u0259\\u0281\\u0254\", \"as# :: \\u0259\\u0281\\u0254\", \"as# :: \\u0259\\u0281\\u0254\", \"as# :: \\u0259\\u0281\\u0254\", \"as# :: \\u0259\\u0281\\u0254\", \"as# :: \\u0259\\u0281\\u0254#\", \"as# :: \\u0259\\u0281\\u0254#\", \"as# :: \\u0259\\u0281\\u0254#\", \"as# :: \\u0259\\u0281\\u0254#\", \"as# :: \\u0259\\u0281\\u0254#\", \"as# :: \\u0259\\u0281\\u0254#\", \"as# :: \\u0259\\u0281\\u0254#\", \"as# :: \\u0259\\u0281\\u0254#\", \"as# :: \\u0259\\u0281\\u0254#\", \"as# :: \\u0259\\u0281\\u0254#\", \"as# :: \\u0259\\u0281\\u0254#\", \"as# :: \\u0259\\u0281\\u0254#\", \"as# :: \\u0281\\u0254#\", \"as# :: \\u0281\\u0254#\", \"as# :: \\u0281\\u0254#\", \"as# :: \\u0281\\u0254#\", \"as# :: \\u0281\\u0254#\", \"as# :: \\u0281\\u0254#\", \"as# :: \\u0281\\u0254#\", \"as# :: \\u0281\\u0254#\", \"as# :: \\u0281\\u0254#\", \"as# :: \\u0281\\u0254#\", \"as# :: \\u0281\\u0254#\", \"as# :: \\u0281\\u0254#\", \"as# :: \\u0281\\u0254#\", \"as# :: \\u0281\\u0254#\", \"as# :: \\u0281\\u0254#\", \"as# :: \\u0281\\u0254#\", \"as# :: \\u0281\\u0254#\", \"asc :: fas\\u026a\", \"ass :: #\\u0281a\", \"ass :: #\\u0281a\", \"ass :: as#\", \"ass :: as#\", \"ass :: as#\", \"ass :: as#\", \"ass :: as#\", \"ass :: as#\", \"ass :: as#\", \"ass :: as#\", \"ass :: as#\", \"ass :: as#\", \"ass :: as#\", \"ass :: as#\", \"ass :: as#\", \"ass :: as#\", \"ass :: as#\", \"ass :: as#\", \"ass :: as#\", \"ass :: as#\", \"ass :: as#\", \"ass :: as#\", \"ass :: as#\", \"ass :: as#\", \"ass :: as#\", \"ass :: as#\", \"ass :: as#\", \"ass :: as#\", \"ass :: as#\", \"ass :: asa\", \"ass :: asa\", \"ass :: asa\", \"ass :: asa\", \"ass :: asa\", \"ass :: asa\", \"ass :: asas\", \"ass :: asas\", \"ass :: ase\", \"ass :: asj\", \"ass :: asj\", \"ass :: asj\", \"ass :: asj\", \"ass :: asj\", \"ass :: asj\", \"ass :: asj\", \"ass :: asje\", \"ass :: asje\", \"ass :: asje\", \"ass :: asje\", \"ass :: asje\", \"ass :: asje\", \"ass :: asje\", \"ass :: as\\u0259\", \"ass :: as\\u0259\", \"ass :: as\\u0259\\u0281\", \"ass :: b\\u028fta\", \"ass :: deka\", \"ass :: je#\", \"ass :: je#\", \"ass :: je#\", \"ass :: je#\", \"ass :: je#\", \"ass :: je#\", \"ass :: je#\", \"ass :: je#\", \"ass :: je#\", \"ass :: j\\u00f5\\u0169\\u032f\", \"ass :: k\\u0281a\", \"ass :: k\\u0281a\", \"ass :: las\\u026a\", \"ass :: sas\", \"ass :: sas\", \"ass :: sas\", \"ass :: sas\", \"ass :: sas\", \"ass :: sas\", \"ass :: sas\", \"ass :: sas#\", \"ass :: sas#\", \"ass :: sas#\", \"ass :: sje\", \"ass :: sje\", \"ass :: sje\", \"ass :: sje\", \"ass :: sje\", \"ass :: sje\", \"ass :: sje\", \"ass :: sje#\", \"ass :: sje#\", \"ass :: sje#\", \"ass :: sje#\", \"ass :: sje#\", \"ass :: sje#\", \"ass :: sje#\", \"ass :: s\\u0259\\u0281\", \"ass :: s\\u0259\\u0281\", \"ass :: tas\", \"ass :: tas\", \"ass :: tas\", \"ass :: tas\", \"ass :: tas\", \"ass :: tas\", \"ass :: tas\", \"ass :: tas\", \"ass :: tas#\", \"ass :: tas#\", \"ass :: tas#\", \"ass :: tas#\", \"ass :: zas\", \"ass :: zas\", \"ass :: zas\", \"ass :: zas#\", \"ass :: zas#\", \"ass :: \\u0259\\u0281a\", \"ass :: \\u0259\\u0281a#\", \"ass :: \\u026aza\", \"ass :: \\u0281a#\", \"ass :: \\u0281a#\", \"ass :: \\u0283as\", \"ass :: \\u0283as\", \"ass :: \\u0283as\", \"ass :: \\u0283as\", \"ass :: \\u0283as#\", \"ass :: \\u0283as#\", \"ass :: \\u0283as#\", \"ass :: \\u0283as#\", \"assa :: asa\", \"assa :: asa\", \"asse :: #ak\", \"asse :: #kad\", \"asse :: as#\", \"asse :: as#\", \"asse :: as#\", \"asse :: as#\", \"asse :: as#\", \"asse :: as#\", \"asse :: as#\", \"asse :: as#\", \"asse :: as#\", \"asse :: as#\", \"asse :: as#\", \"asse :: as#\", \"asse :: as#\", \"asse :: as#\", \"asse :: as#\", \"asse :: as#\", \"asse :: as#\", \"asse :: as#\", \"asse :: as#\", \"asse :: as#\", \"asse :: as#\", \"asse :: as#\", \"asse :: as#\", \"asse :: as#\", \"asse :: as#\", \"asse :: as#\", \"asse :: as#\", \"asse :: as#\", \"asse :: as\\u0259\", \"asse :: as\\u0259\", \"asse :: as\\u0259\", \"asse :: as\\u0259\\u0281\", \"asse :: s\\u0259\\u0281\", \"asse :: s\\u0259\\u0281\", \"asse :: tas\", \"asse :: tas\", \"asse :: tas\", \"asse :: tas\", \"asse :: tas\", \"asse :: tas#\", \"asse :: tas#\", \"asse :: tas#\", \"asse :: tas#\", \"asse :: tas#\", \"asse :: \\u0259\\u0281a\", \"asse :: \\u0259\\u0281a#\", \"asse :: \\u026aza\", \"asse :: \\u0281a#\", \"assi :: asj\", \"assi :: asj\", \"assi :: asj\", \"assi :: asj\", \"assi :: asj\", \"assi :: asj\", \"assi :: asj\", \"assi :: asje\", \"assi :: asje\", \"assi :: asje\", \"assi :: asje\", \"assi :: asje\", \"assi :: asje\", \"assi :: asj\\u00f5\", \"assi :: je#\", \"assi :: je#\", \"assi :: je#\", \"assi :: je#\", \"assi :: je#\", \"assi :: je#\", \"assi :: j\\u00f5\\u0169\\u032f\", \"assi :: j\\u00f5\\u0169\\u032f\", \"assi :: sje\", \"assi :: sje\", \"assi :: sje\", \"assi :: sje\", \"assi :: sje\", \"assi :: sje\", \"assi :: sje\", \"assi :: sje\", \"assi :: sje\", \"assi :: sje#\", \"assi :: sje#\", \"assi :: sje#\", \"assi :: sje#\", \"assi :: sje#\", \"assi :: sje#\", \"assi :: sje#\", \"assi :: sj\\u00f5\", \"assi :: sj\\u00f5\\u0169\", \"assi :: \\u00f5\\u0169\\u032f\", \"assi :: \\u00f5\\u0169\\u032f\", \"assi :: \\u00f5\\u0169\\u032f#\", \"ast :: #\\u0251\\u0303k\", \"atel :: tlas\", \"ati :: s\\u026an\", \"ati :: s\\u026an\", \"ati :: t\\u0361s\", \"ati :: t\\u0361s\", \"ati :: t\\u0361s\", \"atin :: \\u0361s\\u026a\", \"atte :: #at\\u0251\", \"atu :: \\u0361s\\u028f\\u0281\", \"atur :: t\\u0361s\", \"atur :: \\u0361s\\u028f\", \"auch :: #de\", \"auch :: go\\u0283\\u026a\", \"auch :: go\\u0283\\u026a\", \"audi :: od\\u0361\", \"auto :: \\u0251\\u0254\\u032f\", \"ava :: #pav\", \"ava :: k\\u0281av\", \"ava :: k\\u0281av\", \"ava :: k\\u0281av\", \"avi :: av\\u026az\", \"avi :: v\\u026az\", \"avi :: v\\u026az\", \"avis :: av\\u026az\", \"avis :: av\\u026az\", \"bagu :: bag\", \"bagu :: bag\", \"bagu :: bag\", \"bell :: bal\", \"bill :: b\\u026aja\", \"bli :: \\u0251\\u0254\\u032fb\", \"bliq :: bl\\u026a\", \"bou :: #deb\", \"bou :: deb\\u028a\", \"bou :: deb\\u028a\", \"bou :: eb\\u028a\", \"bou :: eb\\u028a\", \"bouc :: \\u0283j\\u00f5\", \"bouc :: \\u0283j\\u00f5\", \"bra :: #b\\u0281\", \"bra :: #b\\u0281\", \"bra :: #b\\u0281\", \"bra :: b\\u0281a\", \"bra :: b\\u0281a\", \"bra :: b\\u0281a\", \"bra :: b\\u0281a\", \"bras :: #b\\u0281a\", \"bre :: \\u0259\\u0281e\", \"bre :: \\u0259\\u0281e\", \"bro :: aje#\", \"bro :: b\\u0281\\u0251\", \"brou :: eb\\u0281\\u028a\", \"brou :: eb\\u0281\\u028a\", \"brou :: eb\\u0281\\u028a\", \"buri :: b\\u028f\\u0281\\u026a\", \"but :: b\\u028fta\", \"but :: tas\", \"buta :: b\\u028fta\", \"b\\u00eem :: ab\\u026am\", \"b\\u00eem :: ab\\u026am\", \"cai :: kasa\", \"cai :: kasa\", \"cais :: kasa\", \"caj :: \\u0251\\u0254\\u032f\", \"cajo :: \\u0292\\u0251\\u0254\\u032f\", \"cap :: eka\", \"cap :: eka\", \"cap :: kap\", \"cap :: kap\", \"cast :: #\\u0251\\u0303\", \"cata :: kat\", \"ccin :: ks\\u026an\", \"ccr :: ak\\u0281\\u0251\", \"cer :: \\u0281s\\u0259\\u0281\", \"ces# :: \\u032fs#\", \"ces# :: \\u032fs#\", \"ces# :: \\u032fs#\", \"cha :: #de\\u0283\", \"cha :: #\\u0281\\u0259\\u0283\", \"cha :: \\u0169\\u032f#\", \"cha :: \\u0283as\", \"cha :: \\u0283as\", \"cha :: \\u0283as\", \"cha :: \\u0283as\", \"cha :: \\u0283as\", \"cha :: \\u0303\\u0292a\", \"chan :: e\\u0283\\u0251\\u0303\", \"chan :: e\\u0283\\u0251\\u0303\", \"chas :: \\u0254\\u032f\\u0283a\", \"che :: \\u0283\\u0259\\u0281\", \"che :: \\u0283\\u0259\\u0281\", \"che :: \\u0283\\u0259\\u0281\", \"che :: \\u0283\\u0259\\u0281\", \"che :: \\u0283\\u0259\\u0281a\", \"cher :: \\u0259\\u0281a\", \"cher :: \\u0259\\u0281a\", \"cher :: \\u0259\\u0281a#\", \"cher :: \\u0281a#\", \"cher :: \\u0283\\u0259\\u0281\", \"cher :: \\u0283\\u0259\\u0281\", \"cher :: \\u0283\\u0259\\u0281\", \"cher :: \\u0283\\u0259\\u0281\", \"cher :: \\u0283\\u0259\\u0281\", \"cher :: \\u0283\\u0259\\u0281a\", \"cher :: \\u0283\\u0259\\u0281a\", \"chev :: #\\u0283v\\u026a\", \"chi :: go\\u0283\", \"cim :: m\\u0251\\u0303t\", \"cim :: m\\u0251\\u0303t\", \"cim :: m\\u0251\\u0303t\", \"cime :: \\u0251\\u0303t\", \"cit :: s\\u026ate\", \"cit :: s\\u026ate\", \"cit :: s\\u026ate\", \"cit :: \\u026as\\u026at\", \"cit :: \\u026ate\", \"cit :: \\u026ate\", \"cit :: \\u026ate\", \"cit :: \\u026ate#\", \"cit :: \\u026ate#\", \"cit\\u00e9 :: s\\u026at\", \"cit\\u00e9 :: s\\u026at\", \"cit\\u00e9 :: s\\u026ate\", \"cit\\u00e9 :: s\\u026ate\", \"cit\\u00e9 :: \\u026as\\u026at\", \"cit\\u00e9 :: \\u026as\\u026at\", \"cit\\u00e9 :: \\u026ate\", \"cit\\u00e9 :: \\u026ate\", \"cit\\u00e9 :: \\u026ate\", \"cit\\u00e9 :: \\u026ate#\", \"cit\\u00e9 :: \\u026ate#\", \"com :: #k\\u0251\", \"com :: k\\u0251\\u0254\\u032f\", \"com :: \\u0251\\u0254\\u032f\", \"com :: \\u0251\\u0254\\u032fm\", \"com :: \\u032fm\\u028f\", \"comm :: #k\\u0251\", \"comm :: k\\u0251\\u0254\", \"comm :: \\u0251\\u0254\\u032fm\", \"comm :: \\u0251\\u0254\\u032fm\", \"con :: #k\\u00f5\", \"con :: #k\\u00f5\", \"con :: #k\\u00f5\", \"con :: #k\\u00f5\", \"con :: #k\\u00f5\", \"con :: #k\\u00f5\", \"con :: #k\\u00f5\\u0169\", \"con :: #k\\u00f5\\u0169\", \"con :: #k\\u00f5\\u0169\", \"con :: #k\\u00f5\\u0169\", \"con :: #k\\u00f5\\u0169\", \"con :: #k\\u00f5\\u0169\", \"con :: #k\\u00f5\\u0169\", \"con :: k\\u00f5\\u0169\", \"con :: k\\u00f5\\u0169\", \"con :: k\\u00f5\\u0169\", \"con :: k\\u00f5\\u0169\", \"con :: k\\u00f5\\u0169\", \"con :: k\\u00f5\\u0169\", \"con :: k\\u00f5\\u0169\", \"con :: k\\u00f5\\u0169\", \"con :: k\\u00f5\\u0169\", \"con :: k\\u00f5\\u0169\\u032f\", \"con :: k\\u00f5\\u0169\\u032f\", \"con :: k\\u00f5\\u0169\\u032f\", \"con :: k\\u00f5\\u0169\\u032f\", \"con :: k\\u00f5\\u0169\\u032f\", \"con :: k\\u00f5\\u0169\\u032f\", \"con :: k\\u00f5\\u0169\\u032f\", \"con :: k\\u00f5\\u0169\\u032f\", \"con :: \\u00f5\\u0169\\u032f\", \"con :: \\u00f5\\u0169\\u032f\", \"con :: \\u00f5\\u0169\\u032f\", \"con :: \\u00f5\\u0169\\u032f\", \"con :: \\u00f5\\u0169\\u032f\", \"con :: \\u00f5\\u0169\\u032f\", \"con :: \\u00f5\\u0169\\u032f\", \"con :: \\u00f5\\u0169\\u032f\", \"con :: \\u00f5\\u0169\\u032fv\", \"con :: \\u0169\\u032fv\", \"conf :: k\\u00f5\\u0169\", \"conf :: k\\u00f5\\u0169\", \"cons :: #k\\u00f5\", \"cons :: k\\u00f5\\u0169\", \"cons :: k\\u00f5\\u0169\\u032f\", \"cons :: k\\u00f5\\u0169\\u032f\", \"cons :: k\\u00f5\\u0169\\u032f\", \"cons :: \\u00f5\\u0169\\u032f\", \"cons :: \\u00f5\\u0169\\u032fs\", \"conv :: #k\\u00f5\", \"conv :: #k\\u00f5\", \"conv :: k\\u00f5\\u0169\", \"conv :: \\u00f5\\u0169\\u032fv\", \"cop :: #k\\u0251\", \"cor :: \\u0251\\u0254\\u032f\", \"cor :: \\u0251\\u0254\\u032f\", \"cor :: \\u0251\\u0254\\u032f\", \"cot\\u00e9 :: \\u032fte\", \"cou :: #k\\u028a\", \"cou :: #k\\u028a\", \"cou :: #\\u0281\\u0259\", \"cou :: k\\u028av\", \"couv :: k\\u028av\", \"couv :: k\\u028av\", \"cra :: \\u0251\\u0303k\", \"cras :: k\\u0281a\", \"cras :: k\\u0281a\", \"cras :: k\\u0281a\", \"cri :: ak\\u0281\\u026a\", \"cri :: ek\\u0281\", \"cri :: ek\\u0281\\u026a\", \"cri :: k\\u0281\\u026a\", \"cri :: k\\u0281\\u026a\", \"cr\\u00e9p :: \\u0281ep\", \"cr\\u00e9p :: \\u0281ep\", \"de# :: \\u032fd#\", \"dena :: ase#\", \"dena :: ase#\", \"der :: d\\u0259\\u0281\", \"der :: d\\u0259\\u0281\", \"der :: \\u0259\\u0281a\", \"der :: \\u0259\\u0281a#\", \"der :: \\u0259\\u0281a#\", \"dera :: d\\u0259\\u0281\", \"dera :: d\\u0259\\u0281a\", \"dera :: d\\u0259\\u0281a\", \"dera :: \\u0259\\u0281a#\", \"dera :: \\u0259\\u0281a#\", \"deus :: \\u00f8z#\", \"die :: je#\", \"dit :: d\\u0361z\", \"dit :: d\\u0361z\", \"dit :: d\\u0361z\\u026a\", \"dit :: z\\u026at\", \"dit :: \\u0361z\\u026a\", \"dit :: \\u0361z\\u026at\", \"dit :: \\u0361z\\u026at\", \"dou :: #d\\u028a\", \"dou :: \\u0281\\u0259d\", \"dou :: \\u0281\\u0259d\", \"dou :: \\u0281\\u0259d\", \"dou :: \\u0281\\u0259d\\u028a\", \"dou :: \\u0281\\u0259d\\u028a\", \"doy :: aje\", \"dra :: \\u032fd\\u0281a\", \"dra :: \\u032fd\\u0281a\", \"drag :: d\\u0281a\", \"drai :: d\\u0281a\", \"drai :: \\u0281a#\", \"dui :: ed\\u0265\", \"d\\u00e9b :: #de\", \"d\\u00e9b :: #de\", \"d\\u00e9b :: #de\", \"d\\u00e9b :: #de\", \"d\\u00e9b :: #de\", \"d\\u00e9b :: #de\", \"d\\u00e9b :: #de\", \"d\\u00e9b :: #deb\", \"d\\u00e9b :: #deb\", \"d\\u00e9b :: #deb\", \"d\\u00e9b :: #deb\", \"d\\u00e9b :: #deb\", \"d\\u00e9b :: deb\", \"d\\u00e9b :: deb\", \"d\\u00e9b :: deb\", \"d\\u00e9b :: deb\", \"d\\u00e9b :: deb\", \"d\\u00e9b :: deb\", \"d\\u00e9b :: deb\", \"d\\u00e9b :: deb\", \"d\\u00e9b :: eb\\u028a\", \"d\\u00e9b :: eb\\u028a\", \"d\\u00e9ba :: #deb\", \"d\\u00e9bo :: #de\", \"d\\u00e9bo :: #de\", \"d\\u00e9bo :: #deb\", \"d\\u00e9bo :: deb\", \"d\\u00e9bo :: deb\\u028a\", \"d\\u00e9bo :: deb\\u028a\", \"d\\u00e9bo :: eb\\u028a\", \"d\\u00e9bo :: eb\\u028a\", \"d\\u00e9c :: #de\", \"d\\u00e9c :: #de\", \"d\\u00e9c :: #de\", \"d\\u00e9c :: #de\", \"d\\u00e9c :: #de\", \"d\\u00e9c :: #de\", \"d\\u00e9c :: #de\", \"d\\u00e9c :: #de\", \"d\\u00e9c :: #de\", \"d\\u00e9c :: #de\", \"d\\u00e9c :: #de\", \"d\\u00e9c :: #de\", \"d\\u00e9c :: #de\", \"d\\u00e9c :: #dek\", \"d\\u00e9c :: #dek\", \"d\\u00e9c :: #dek\", \"d\\u00e9c :: #dek\", \"d\\u00e9c :: #dek\", \"d\\u00e9c :: #dek\", \"d\\u00e9c :: #dek\", \"d\\u00e9c :: #de\\u0283\", \"d\\u00e9c :: #de\\u0283\", \"d\\u00e9c :: #de\\u0283\", \"d\\u00e9c :: eka\", \"d\\u00e9c :: eka\", \"d\\u00e9c :: kap\", \"d\\u00e9ca :: #de\", \"d\\u00e9ca :: #de\", \"d\\u00e9ca :: #dek\", \"d\\u00e9ca :: #dek\", \"d\\u00e9ca :: dek\", \"d\\u00e9ca :: dek\", \"d\\u00e9ca :: deka\", \"d\\u00e9ca :: deka\", \"d\\u00e9ca :: deka\", \"d\\u00e9ca :: eka\", \"d\\u00e9ca :: eka\", \"d\\u00e9ca :: eka\", \"d\\u00e9co :: ek\\u028a\", \"d\\u00e9cr :: #de\", \"d\\u00e9cr :: #de\", \"d\\u00e9cr :: #de\", \"d\\u00e9cr :: \\u0281ep\", \"d\\u00e9f :: #de\", \"d\\u00e9f :: #de\", \"d\\u00e9f :: #de\", \"d\\u00e9f :: #de\", \"d\\u00e9f :: def\\u0281\", \"d\\u00e9f :: ef\\u0281\", \"d\\u00e9f :: ef\\u0281\", \"d\\u00e9fr :: #de\", \"d\\u00e9fr :: #de\", \"d\\u00e9fr :: def\", \"d\\u00e9fr :: def\\u0281\", \"d\\u00e9fr :: ef\\u0281\", \"d\\u00e9g :: degw\", \"d\\u00e9m :: dem\", \"d\\u00e9m :: dem\", \"d\\u00e9m :: dem\", \"d\\u00e9m :: dem\", \"d\\u00e9m :: dem\", \"d\\u00e9ma :: ema\", \"d\\u00e9ma :: ema\", \"d\\u00e9ma :: ema\", \"d\\u00e9ro :: de\\u0281\", \"d\\u00e9ro :: de\\u0281\", \"d\\u00e9ro :: de\\u0281\", \"d\\u00e9s :: #de\", \"d\\u00e9s :: #de\", \"d\\u00e9s :: #dez\", \"d\\u00e9s :: #dez\", \"d\\u00e9s :: #dez\", \"d\\u00e9sa :: #de\", \"eai :: a\\u0292a#\", \"eass :: asje\", \"eass :: asje\", \"eass :: asje\", \"ech :: #\\u0281\\u0259\", \"ech :: #\\u0281\\u0259\", \"ech :: \\u0281\\u0259\\u0283\", \"ech :: \\u0281\\u0259\\u0283\", \"eco :: \\u0259k\\u028a\", \"eco :: \\u0281\\u0259k\", \"ecou :: \\u028av\\u0281\", \"ect :: akt\", \"edo :: #\\u0281\\u0259\", \"edo :: #\\u0281\\u0259\", \"edou :: #\\u0281\\u0259\", \"edou :: #\\u0281\\u0259\", \"edou :: #\\u0281\\u0259\", \"eff :: efa\", \"eff :: efa\\u0281\", \"eff :: efa\\u0281\", \"effa :: #ef\", \"effa :: #ef\", \"effa :: #ef\", \"effa :: efa\\u0281\", \"effa :: fa\\u0281\", \"effa :: fa\\u0281\", \"eign :: pa\\u0272\", \"eign :: pa\\u0272\", \"ein :: \\u0129\\u032ft\", \"ein :: \\u0129\\u032fte\", \"ein :: \\u0129\\u032fte\", \"ein :: \\u1ebd\\u0129\\u032ft\", \"eind :: \\u0281a#\", \"eint :: \\u0129\\u032ft\", \"eint :: \\u0129\\u032ft\", \"eint :: \\u1ebd\\u0129\\u032ft\", \"eint :: \\u1ebd\\u0129\\u032ft\", \"eint :: \\u1ebd\\u0129\\u032ft\", \"ela :: #ma\", \"ell :: \\u0259\\u0281\\u0254#\", \"ell :: \\u0259\\u0281\\u0254#\", \"el\\u00e2t :: l\\u0251t\", \"ema :: \\u0259man\", \"emb :: #\\u0251\\u0303\", \"emb :: #\\u0251\\u0303\", \"emb :: #\\u0251\\u0303\", \"emb :: #\\u0251\\u0303\", \"emm :: \\u0251\\u0303m\\u0251\", \"emm :: \\u0251\\u0303m\\u0251\", \"emp :: #\\u0251\\u0303\", \"emp :: #\\u0251\\u0303\", \"emp :: #\\u0251\\u0303\", \"emp :: #\\u0251\\u0303p\", \"emp :: #\\u0251\\u0303p\", \"emp :: #\\u0251\\u0303p\", \"emp :: #\\u0251\\u0303p\", \"empl :: \\u0251\\u0303pl\", \"ena :: m\\u0259n\", \"ena :: m\\u0259na\", \"ena :: m\\u0259na\", \"ena :: \\u0259na\", \"enc :: kl\\u0251\", \"enc :: kl\\u0251\\u0303\", \"enc :: l\\u0251\\u0303\", \"enc :: \\u0169\\u032fs\", \"enc :: \\u0169\\u032fs#\", \"enc :: \\u0251\\u0303\\u0283\", \"enc :: \\u0251\\u0303\\u0283\", \"enc :: \\u0251\\u0303\\u0283\", \"enc :: \\u0251\\u0303\\u0283a\", \"enc :: \\u0303\\u0283a\", \"ence :: \\u00e3\\u0169\\u032f\", \"ence :: \\u00e3\\u0169\\u032f\", \"ence :: \\u0169\\u032fs#\", \"ence :: \\u0169\\u032fs#\", \"ench :: l\\u0251\\u0303\\u0283\", \"ench :: l\\u0251\\u0303\\u0283\", \"encr :: k\\u0281a\", \"encr :: \\u0251\\u0303k\\u0281\", \"end :: \\u0251\\u0303d\", \"end :: \\u0251\\u0303d\", \"end :: \\u0251\\u0303d\", \"end :: \\u0251\\u0303d\", \"end :: \\u0251\\u0303d\", \"end :: \\u0251\\u0303d\", \"end :: \\u0251\\u0303d\", \"end :: \\u0251\\u0303d\", \"end :: \\u0251\\u0303d\", \"enf :: \\u0251\\u0303fl\", \"enf :: \\u0303fl\", \"enfl :: \\u0251\\u0303fl\", \"enfl :: \\u0303fl\", \"enne :: jan#\", \"enne :: jan#\", \"ense :: \\u0251\\u0303s\", \"ense :: \\u0251\\u0303s\", \"ense :: \\u0251\\u0303s\", \"ent :: #\\u0251\\u0303\", \"ent :: #\\u0251\\u0303\", \"ent :: #\\u0251\\u0303\", \"ent :: #\\u0251\\u0303\", \"ent :: #\\u0251\\u0303\", \"ent :: #\\u0251\\u0303\", \"ent :: #\\u0251\\u0303\", \"ent :: as#\", \"ent :: as#\", \"ent :: as#\", \"ent :: as#\", \"ent :: as#\", \"ent :: as#\", \"ent :: as#\", \"ent :: as#\", \"ent :: as#\", \"ent :: as#\", \"ent :: as#\", \"ent :: as#\", \"ent :: as#\", \"ent :: as#\", \"ent :: as#\", \"ent :: as#\", \"ent :: as#\", \"ent :: a\\u0281#\", \"ent :: a\\u0281#\", \"ent :: a\\u0281#\", \"ent :: a\\u0281#\", \"ent :: a\\u0281#\", \"ent :: a\\u0281#\", \"ent :: a\\u0281#\", \"ent :: a\\u0281#\", \"ent :: a\\u0281#\", \"ent :: a\\u0281#\", \"ent :: a\\u0281#\", \"ent :: a\\u0281#\", \"ent :: b\\u028fta\", \"ent :: da\\u0281\", \"ent :: da\\u0281\", \"ent :: da\\u0281\", \"ent :: l\\u1ebd\\u0129\", \"ent :: tas\", \"ent :: tas\", \"ent :: tas\", \"ent :: ta\\u0281#\", \"ent :: ta\\u0281#\", \"ent :: ta\\u0281#\", \"ent :: \\u0251\\u0303t\", \"ent :: \\u0251\\u0303t\", \"ent :: \\u0251\\u0303t\", \"ent :: \\u0251\\u0303t\", \"ent :: \\u0251\\u0303t\", \"ent :: \\u0251\\u0303t\", \"ent :: \\u0251\\u0303t\", \"ent :: \\u0251\\u0303t\", \"ent :: \\u0251\\u0303t\", \"ent :: \\u0251\\u0303t\", \"ent :: \\u0251\\u0303t\", \"ent :: \\u0251\\u0303t\", \"ent :: \\u0259\\u0281a\", \"ent :: \\u0259\\u0281a\", \"ent :: \\u0259\\u0281a\", \"ent :: \\u0259\\u0281a\", \"ent :: \\u0259\\u0281a\", \"ent :: \\u0259\\u0281a\", \"ent :: \\u0259\\u0281a\", \"ent :: \\u0259\\u0281a#\", \"ent :: \\u0259\\u0281a#\", \"ent :: \\u0259\\u0281a#\", \"ent :: \\u0259\\u0281a#\", \"ent :: \\u0259\\u0281a#\", \"ent :: \\u0259\\u0281a#\", \"ent :: \\u0259\\u0281a#\", \"ent :: \\u0259\\u0281a#\", \"ent :: \\u0281a#\", \"ent :: \\u0281a#\", \"ent :: \\u0281a#\", \"ent :: \\u0281a#\", \"ent :: \\u0281a#\", \"ent :: \\u0281a#\", \"ent :: \\u0281a#\", \"ent :: \\u0281a#\", \"ent :: \\u0281a#\", \"ent :: \\u0281a#\", \"ent :: \\u0281a#\", \"ent :: \\u0281as#\", \"ent :: \\u0281a\\u0281\", \"ent :: \\u0281\\u0259\\u0281a\", \"ent :: \\u0281\\u0259\\u0281a\", \"ent :: \\u028ftas\", \"ent :: \\u0303t\\u0281a\", \"ent# :: as#\", \"ent# :: as#\", \"ent# :: as#\", \"ent# :: as#\", \"ent# :: as#\", \"ent# :: as#\", \"ent# :: as#\", \"ent# :: as#\", \"ent# :: as#\", \"ent# :: as#\", \"ent# :: as#\", \"ent# :: as#\", \"ent# :: as#\", \"ent# :: as#\", \"ent# :: as#\", \"ent# :: as#\", \"ent# :: a\\u0281#\", \"ent# :: a\\u0281#\", \"ent# :: a\\u0281#\", \"ent# :: a\\u0281#\", \"ent# :: a\\u0281#\", \"ent# :: a\\u0281#\", \"ent# :: a\\u0281#\", \"ent# :: a\\u0281#\", \"ent# :: a\\u0281#\", \"ent# :: a\\u0281#\", \"ent# :: a\\u0281#\", \"ent# :: b\\u0281\\u0251\\u0254\", \"ent# :: b\\u0281\\u0251\\u0254\", \"ent# :: ja\\u0281#\", \"ent# :: ta\\u0281\", \"ent# :: ta\\u0281\", \"ent# :: \\u0259\\u0281a\", \"ent# :: \\u0259\\u0281a\", \"ent# :: \\u0259\\u0281a\", \"ent# :: \\u0259\\u0281a\", \"ent# :: \\u0259\\u0281a\", \"ent# :: \\u0259\\u0281a\", \"ent# :: \\u0259\\u0281a\", \"ent# :: \\u0259\\u0281a#\", \"ent# :: \\u0259\\u0281a#\", \"ent# :: \\u0259\\u0281a#\", \"ent# :: \\u0259\\u0281a#\", \"ent# :: \\u0259\\u0281a#\", \"ent# :: \\u0259\\u0281a#\", \"ent# :: \\u026afj\", \"ent# :: \\u0281a#\", \"ent# :: \\u0281a#\", \"ent# :: \\u0281a#\", \"ent# :: \\u0281a#\", \"ent# :: \\u0281a#\", \"ent# :: \\u0281a#\", \"ent# :: \\u0281a#\", \"ent# :: \\u0281a#\", \"ent# :: \\u0281as\", \"ent# :: \\u0281as\", \"ent# :: \\u0281as#\", \"ent# :: \\u0281as#\", \"ent# :: \\u0281as#\", \"ent# :: \\u0281a\\u0281\", \"ents :: \\u00e6\\u0303#\", \"enu :: m\\u0259n\", \"enu :: \\u0259n\\u0265\", \"epa :: \\u0281\\u0259pa\", \"era :: #\\u0292y\", \"era :: as\\u0259\", \"era :: as\\u0259\", \"era :: as\\u0259\\u0281\", \"era :: as\\u0259\\u0281\", \"era :: as\\u0259\\u0281\", \"era :: at\\u0259\", \"era :: at\\u0259\", \"era :: at\\u0259\", \"era :: at\\u0259\", \"era :: at\\u0259\\u0281\", \"era :: at\\u0259\\u0281\", \"era :: d\\u0259\\u0281\", \"era :: d\\u0259\\u0281\", \"era :: d\\u0259\\u0281a\", \"era :: d\\u0259\\u0281a\", \"era :: j\\u0259\\u0281\\u0254\", \"era :: j\\u0259\\u0281\\u0254\", \"era :: k\\u0259\\u0281a\", \"era :: l\\u0259\\u0281\\u0254\", \"era :: l\\u0259\\u0281\\u0254\", \"era :: l\\u0259\\u0281\\u0254\", \"era :: l\\u0259\\u0281\\u0254\", \"era :: s\\u0259\\u0281\", \"era :: s\\u0259\\u0281\", \"era :: s\\u0259\\u0281\", \"era :: s\\u0259\\u0281\", \"era :: s\\u0259\\u0281\", \"era :: s\\u0259\\u0281\", \"era :: t\\u0259\\u0281\", \"era :: t\\u0259\\u0281\", \"era :: t\\u0259\\u0281\", \"era :: t\\u0259\\u0281\", \"era :: t\\u0259\\u0281\", \"era :: t\\u0259\\u0281\", \"era :: t\\u0259\\u0281\", \"era :: t\\u0259\\u0281\", \"era :: \\u0259\\u0281a\", \"era :: \\u0259\\u0281a\", \"era :: \\u0259\\u0281a\", \"era :: \\u0259\\u0281a\", \"era :: \\u0259\\u0281a\", \"era :: \\u0259\\u0281a\", \"era :: \\u0259\\u0281a\", \"era :: \\u0259\\u0281a\", \"era :: \\u0259\\u0281a\", \"era :: \\u0259\\u0281a\", \"era :: \\u0259\\u0281a\", \"era :: \\u0259\\u0281a\", \"era :: \\u0259\\u0281a\", \"era :: \\u0259\\u0281a\", \"era :: \\u0259\\u0281a\", \"era :: \\u0259\\u0281a#\", \"era :: \\u0259\\u0281a#\", \"era :: \\u0259\\u0281a#\", \"era :: \\u0259\\u0281a#\", \"era :: \\u0259\\u0281a#\", \"era :: \\u0259\\u0281a#\", \"era :: \\u0259\\u0281a#\", \"era :: \\u0259\\u0281a#\", \"era :: \\u0259\\u0281a#\", \"era :: \\u0259\\u0281a#\", \"era :: \\u0259\\u0281a#\", \"era :: \\u0259\\u0281a#\", \"era :: \\u0259\\u0281a#\", \"era :: \\u0259\\u0281a#\", \"era :: \\u0259\\u0281a#\", \"era :: \\u0259\\u0281a#\", \"era :: \\u0259\\u0281a#\", \"era :: \\u0259\\u0281\\u0254\", \"era :: \\u0259\\u0281\\u0254\", \"era :: \\u0259\\u0281\\u0254\", \"era :: \\u0259\\u0281\\u0254\", \"era :: \\u0259\\u0281\\u0254\", \"era :: \\u0259\\u0281\\u0254\", \"era :: \\u0259\\u0281\\u0254\", \"era :: \\u0259\\u0281\\u0254\", \"era :: \\u0259\\u0281\\u0254\", \"era :: \\u0259\\u0281\\u0254\", \"era :: \\u0259\\u0281\\u0254\", \"era :: \\u0259\\u0281\\u0254\", \"era :: \\u0259\\u0281\\u0254\", \"era :: \\u0259\\u0281\\u0254\", \"era :: \\u0259\\u0281\\u0254\", \"era :: \\u0259\\u0281\\u0254\", \"era :: \\u0259\\u0281\\u0254\", \"era :: \\u0259\\u0281\\u0254\", \"era :: \\u0259\\u0281\\u0254\", \"era :: \\u0259\\u0281\\u0254#\", \"era :: \\u0259\\u0281\\u0254#\", \"era :: \\u0259\\u0281\\u0254#\", \"era :: \\u0259\\u0281\\u0254#\", \"era :: \\u0259\\u0281\\u0254#\", \"era :: \\u0259\\u0281\\u0254#\", \"era :: \\u0259\\u0281\\u0254#\", \"era :: \\u0259\\u0281\\u0254#\", \"era :: \\u0259\\u0281\\u0254#\", \"era :: \\u0259\\u0281\\u0254#\", \"era :: \\u0259\\u0281\\u0254#\", \"era :: \\u0259\\u0281\\u0254#\", \"era :: \\u0259\\u0281\\u0254#\", \"era :: \\u0259\\u0281\\u0254#\", \"era :: \\u0259\\u0281\\u0254#\", \"era :: \\u0259\\u0281\\u0254#\", \"era :: \\u0259\\u0281\\u0254#\", \"era :: \\u0259\\u0281\\u0254#\", \"era :: \\u0259\\u0281\\u0254#\", \"era :: \\u0259\\u0281\\u0254#\", \"era :: \\u0259\\u0281\\u0254#\", \"era :: \\u0259\\u0281\\u0254#\", \"era :: \\u0272\\u0259\\u0281\", \"era :: \\u0281a#\", \"era :: \\u0281a#\", \"era :: \\u0281a#\", \"era :: \\u0281a#\", \"era :: \\u0281a#\", \"era :: \\u0281a#\", \"era :: \\u0281a#\", \"era :: \\u0281a#\", \"era :: \\u0281a#\", \"era :: \\u0281a#\", \"era :: \\u0281a#\", \"era :: \\u0281a#\", \"era :: \\u0281a#\", \"era :: \\u0281a#\", \"era :: \\u0281a#\", \"era :: \\u0281a#\", \"era :: \\u0281\\u0254#\", \"era :: \\u0281\\u0254#\", \"era :: \\u0281\\u0254#\", \"era :: \\u0281\\u0254#\", \"era :: \\u0281\\u0254#\", \"era :: \\u0281\\u0254#\", \"era :: \\u0281\\u0254#\", \"era :: \\u0281\\u0254#\", \"era :: \\u0281\\u0254#\", \"era :: \\u0281\\u0254#\", \"era :: \\u0281\\u0254#\", \"era :: \\u0281\\u0254#\", \"era :: \\u0281\\u0254#\", \"era :: \\u0281\\u0254#\", \"era :: \\u0281\\u0254#\", \"era :: \\u0281\\u0254#\", \"era :: \\u0281\\u0254#\", \"era :: \\u0281\\u0254#\", \"era :: \\u0281\\u0254#\", \"era :: \\u0281\\u0254#\", \"era :: \\u0281\\u0254#\", \"era :: \\u0281\\u028aj\\u0259\", \"era :: \\u0283\\u0259\\u0281\", \"era# :: at\\u0259\\u0281\", \"era# :: \\u0259\\u0281\\u0254\", \"era# :: \\u0259\\u0281\\u0254\", \"era# :: \\u0259\\u0281\\u0254\", \"era# :: \\u0259\\u0281\\u0254\", \"era# :: \\u0259\\u0281\\u0254\", \"era# :: \\u0259\\u0281\\u0254\", \"era# :: \\u0259\\u0281\\u0254\", \"era# :: \\u0259\\u0281\\u0254\", \"era# :: \\u0259\\u0281\\u0254\", \"era# :: \\u0259\\u0281\\u0254\", \"era# :: \\u0259\\u0281\\u0254#\", \"era# :: \\u0259\\u0281\\u0254#\", \"era# :: \\u0259\\u0281\\u0254#\", \"era# :: \\u0259\\u0281\\u0254#\", \"era# :: \\u0259\\u0281\\u0254#\", \"era# :: \\u0259\\u0281\\u0254#\", \"era# :: \\u0259\\u0281\\u0254#\", \"era# :: \\u0259\\u0281\\u0254#\", \"era# :: \\u0259\\u0281\\u0254#\", \"era# :: \\u0259\\u0281\\u0254#\", \"era# :: \\u0259\\u0281\\u0254#\", \"era# :: \\u0259\\u0281\\u0254#\", \"era# :: \\u0259\\u0281\\u0254#\", \"era# :: \\u0281\\u0254#\", \"era# :: \\u0281\\u0254#\", \"era# :: \\u0281\\u0254#\", \"era# :: \\u0281\\u0254#\", \"era# :: \\u0281\\u0254#\", \"era# :: \\u0281\\u0254#\", \"era# :: \\u0281\\u0254#\", \"era# :: \\u0281\\u0254#\", \"era# :: \\u0281\\u0254#\", \"era# :: \\u0281\\u0254#\", \"era# :: \\u0281\\u0254#\", \"erai :: as\\u0259\", \"erai :: as\\u0259\\u0281\", \"erai :: d\\u0259\\u0281\", \"erai :: d\\u0259\\u0281a\", \"erai :: d\\u0259\\u0281a\", \"erai :: k\\u0259\\u0281\", \"erai :: k\\u0259\\u0281\", \"erai :: l\\u0259\\u0281\", \"erai :: l\\u0259\\u0281\", \"erai :: l\\u0259\\u0281\", \"erai :: l\\u0259\\u0281a\", \"erai :: l\\u0259\\u0281a\", \"erai :: l\\u0259\\u0281a\", \"erai :: t\\u0259\\u0281\", \"erai :: t\\u0259\\u0281\", \"erai :: t\\u0259\\u0281\", \"erai :: t\\u0259\\u0281\", \"erai :: \\u0259\\u0281a\", \"erai :: \\u0259\\u0281a\", \"erai :: \\u0259\\u0281a\", \"erai :: \\u0259\\u0281a\", \"erai :: \\u0259\\u0281a\", \"erai :: \\u0259\\u0281a\", \"erai :: \\u0259\\u0281a\", \"erai :: \\u0259\\u0281a\", \"erai :: \\u0259\\u0281a\", \"erai :: \\u0259\\u0281a\", \"erai :: \\u0259\\u0281a\", \"erai :: \\u0259\\u0281a\", \"erai :: \\u0259\\u0281a\", \"erai :: \\u0259\\u0281a\", \"erai :: \\u0259\\u0281a\", \"erai :: \\u0259\\u0281a\", \"erai :: \\u0259\\u0281a#\", \"erai :: \\u0259\\u0281a#\", \"erai :: \\u0259\\u0281a#\", \"erai :: \\u0259\\u0281a#\", \"erai :: \\u0259\\u0281a#\", \"erai :: \\u0259\\u0281a#\", \"erai :: \\u0259\\u0281a#\", \"erai :: \\u0259\\u0281a#\", \"erai :: \\u0259\\u0281a#\", \"erai :: \\u0259\\u0281a#\", \"erai :: \\u0259\\u0281a#\", \"erai :: \\u0259\\u0281a#\", \"erai :: \\u0259\\u0281a#\", \"erai :: \\u0259\\u0281a#\", \"erai :: \\u0259\\u0281a#\", \"erai :: \\u0259\\u0281a#\", \"erai :: \\u0259\\u0281a#\", \"erai :: \\u0281a#\", \"erai :: \\u0281a#\", \"erai :: \\u0281a#\", \"erai :: \\u0281a#\", \"erai :: \\u0281a#\", \"erai :: \\u0281a#\", \"erai :: \\u0281a#\", \"erai :: \\u0281a#\", \"erai :: \\u0281a#\", \"erai :: \\u0281a#\", \"erai :: \\u0281a#\", \"erai :: \\u0281a#\", \"erai :: \\u0281a#\", \"erai :: \\u0281a#\", \"erai :: \\u0281a#\", \"erai :: \\u0281a#\", \"erai :: \\u0283\\u0259\\u0281\", \"erai :: \\u0283\\u0259\\u0281a\", \"erai :: \\u0283\\u0259\\u0281a\", \"eras :: l\\u0259\\u0281\", \"eras :: l\\u0259\\u0281\", \"eras :: l\\u0259\\u0281\\u0254\", \"eras :: l\\u0259\\u0281\\u0254\", \"eras :: l\\u0259\\u0281\\u0254\", \"eras :: l\\u0259\\u0281\\u0254\", \"eras :: \\u0259\\u0281\\u0254\", \"eras :: \\u0259\\u0281\\u0254\", \"eras :: \\u0259\\u0281\\u0254\", \"eras :: \\u0259\\u0281\\u0254\", \"eras :: \\u0259\\u0281\\u0254\", \"eras :: \\u0259\\u0281\\u0254\", \"eras :: \\u0259\\u0281\\u0254\", \"eras :: \\u0259\\u0281\\u0254\", \"eras :: \\u0259\\u0281\\u0254\", \"eras :: \\u0259\\u0281\\u0254\", \"eras :: \\u0259\\u0281\\u0254\", \"eras :: \\u0259\\u0281\\u0254#\", \"eras :: \\u0259\\u0281\\u0254#\", \"eras :: \\u0259\\u0281\\u0254#\", \"eras :: \\u0259\\u0281\\u0254#\", \"eras :: \\u0259\\u0281\\u0254#\", \"eras :: \\u0259\\u0281\\u0254#\", \"eras :: \\u0259\\u0281\\u0254#\", \"eras :: \\u0259\\u0281\\u0254#\", \"eras :: \\u0259\\u0281\\u0254#\", \"eras :: \\u0259\\u0281\\u0254#\", \"eras :: \\u0259\\u0281\\u0254#\", \"eras :: \\u0259\\u0281\\u0254#\", \"eras :: \\u0259\\u0281\\u0254#\", \"eras :: \\u0259\\u0281\\u0254#\", \"eras :: \\u0259\\u0281\\u0254#\", \"eras :: \\u0281\\u0254#\", \"eras :: \\u0281\\u0254#\", \"eras :: \\u0281\\u0254#\", \"eras :: \\u0281\\u0254#\", \"eras :: \\u0281\\u0254#\", \"eras :: \\u0281\\u0254#\", \"eras :: \\u0281\\u0254#\", \"eras :: \\u0281\\u0254#\", \"eras :: \\u0281\\u0254#\", \"eras :: \\u0281\\u0254#\", \"eras :: \\u0281\\u0254#\", \"eras :: \\u0281\\u0254#\", \"eras :: \\u0281\\u0254#\", \"ercu :: \\u0281k\\u028ft\", \"erc\\u00e9 :: a\\u0281se\", \"erc\\u00e9 :: a\\u0281se\", \"ere :: a\\u0281\\u0259\", \"ere :: \\u0259\\u0281e\", \"ere :: \\u0259\\u0281e\", \"ere :: \\u0259\\u0281e\", \"ere :: \\u0259\\u0281e\", \"ere :: \\u0259\\u0281e\", \"ere :: \\u0259\\u0281e\", \"ere :: \\u0259\\u0281e\", \"ere :: \\u0259\\u0281e\", \"ere :: \\u0259\\u0281e\", \"ere :: \\u0259\\u0281e\", \"ere :: \\u0259\\u0281e#\", \"ere :: \\u0259\\u0281e#\", \"ere :: \\u0259\\u0281e#\", \"ere :: \\u0259\\u0281e#\", \"ere :: \\u0259\\u0281e#\", \"ere :: \\u0259\\u0281e#\", \"ere :: \\u0259\\u0281e#\", \"ere :: \\u0259\\u0281e#\", \"ere :: \\u0259\\u0281e#\", \"ere :: \\u0259\\u0281e#\", \"ere :: \\u0281e#\", \"ere :: \\u0281e#\", \"ere :: \\u0281e#\", \"ere :: \\u0281e#\", \"ere :: \\u0281e#\", \"ere :: \\u0281e#\", \"ere :: \\u0281e#\", \"ere :: \\u0281e#\", \"ere :: \\u0281e#\", \"ere :: \\u0281e#\", \"ere :: \\u0281\\u0259\\u0281\", \"ere :: \\u0281\\u0259\\u0281\", \"ere :: \\u0281\\u0259\\u0281\", \"erez :: b\\u0281\\u0259\", \"erez :: \\u0259\\u0281e\", \"erez :: \\u0259\\u0281e\", \"erez :: \\u0259\\u0281e\", \"erez :: \\u0259\\u0281e\", \"erez :: \\u0259\\u0281e\", \"erez :: \\u0259\\u0281e\", \"erez :: \\u0259\\u0281e\", \"erez :: \\u0259\\u0281e\", \"erez :: \\u0259\\u0281e\", \"erez :: \\u0259\\u0281e\", \"erez :: \\u0259\\u0281e\", \"erez :: \\u0259\\u0281e#\", \"erez :: \\u0259\\u0281e#\", \"erez :: \\u0259\\u0281e#\", \"erez :: \\u0259\\u0281e#\", \"erez :: \\u0259\\u0281e#\", \"erez :: \\u0259\\u0281e#\", \"erez :: \\u0259\\u0281e#\", \"erez :: \\u0259\\u0281e#\", \"erez :: \\u0259\\u0281e#\", \"erez :: \\u0259\\u0281e#\", \"erez :: \\u0281e#\", \"erez :: \\u0281e#\", \"erez :: \\u0281e#\", \"erez :: \\u0281e#\", \"erez :: \\u0281e#\", \"erez :: \\u0281e#\", \"erez :: \\u0281e#\", \"erez :: \\u0281e#\", \"erez :: \\u0281e#\", \"erez :: \\u0281e#\", \"eri :: #ba\", \"eri :: #ba\", \"eri :: az\\u0259\\u0281\", \"eri :: az\\u0259\\u0281\", \"eri :: je#\", \"eri :: je#\", \"eri :: je#\", \"eri :: je#\", \"eri :: je#\", \"eri :: z\\u0259\\u0281j\", \"eri :: z\\u0259\\u0281j\", \"eri :: \\u00f5\\u0169\\u032f#\", \"eri :: \\u00f5\\u0169\\u032f#\", \"eri :: \\u0169\\u032f#\", \"eri :: \\u0169\\u032f#\", \"eri :: \\u0259\\u0281j\", \"eri :: \\u0259\\u0281j\", \"eri :: \\u0259\\u0281j\", \"eri :: \\u0259\\u0281j\", \"eri :: \\u0259\\u0281j\", \"eri :: \\u0259\\u0281j\", \"eri :: \\u0259\\u0281je\", \"eri :: \\u0259\\u0281je\", \"eri :: \\u0259\\u0281je\", \"eri :: \\u0259\\u0281je\", \"eri :: \\u0259\\u0281je\", \"eri :: \\u0259\\u0281j\\u00f5\", \"eri :: \\u0259\\u0281j\\u00f5\", \"eri :: \\u0281je\", \"eri :: \\u0281je\", \"eri :: \\u0281je\", \"eri :: \\u0281je\", \"eri :: \\u0281je\", \"eri :: \\u0281je#\", \"eri :: \\u0281je#\", \"eri :: \\u0281je#\", \"eri :: \\u0281je#\", \"eri :: \\u0281je#\", \"eri :: \\u0281je#\", \"erie :: je#\", \"erie :: je#\", \"erie :: je#\", \"erie :: je#\", \"erie :: je#\", \"erie :: je#\", \"erie :: l\\u0281i#\", \"erie :: \\u0259\\u0281j\", \"erie :: \\u0259\\u0281j\", \"erie :: \\u0259\\u0281j\", \"erie :: \\u0259\\u0281j\", \"erie :: \\u0259\\u0281j\", \"erie :: \\u0259\\u0281je\", \"erie :: \\u0259\\u0281je\", \"erie :: \\u0259\\u0281je\", \"erie :: \\u0259\\u0281je\", \"erie :: \\u0259\\u0281je\", \"erie :: \\u0281je\", \"erie :: \\u0281je\", \"erie :: \\u0281je\", \"erie :: \\u0281je\", \"erie :: \\u0281je\", \"erie :: \\u0281je#\", \"erie :: \\u0281je#\", \"erie :: \\u0281je#\", \"erie :: \\u0281je#\", \"erie :: \\u0281je#\", \"erio :: j\\u00f5\\u0169\", \"erio :: \\u00f5\\u0169\\u032f\", \"erio :: \\u0281j\\u00f5\", \"erm :: #pa\\u0281\", \"erm :: #pa\\u0281\", \"erm :: m\\u028ft\", \"erm :: pa\\u0281m\", \"erm :: \\u0281m\\u028f\", \"erme :: \\u0281m\\u0251\", \"ermu :: #pa\", \"ermu :: a\\u0281m\", \"ermu :: a\\u0281m\\u028f\", \"ermu :: \\u0281m\\u028f\", \"ermu :: \\u0281m\\u028ft\", \"ermu :: \\u0281m\\u028ft\", \"ero :: \\u00f5\\u0169\\u032f\", \"ero :: \\u00f5\\u0169\\u032f\", \"ero :: \\u00f5\\u0169\\u032f\", \"ero :: \\u00f5\\u0169\\u032f#\", \"ero :: \\u00f5\\u0169\\u032f#\", \"ero :: \\u00f5\\u0169\\u032f#\", \"ero :: \\u00f5\\u0169\\u032f#\", \"ero :: \\u00f5\\u0169\\u032f#\", \"ero :: \\u0169\\u032f#\", \"ero :: \\u0169\\u032f#\", \"ero :: \\u0259\\u0281\\u00f5\", \"ero :: \\u0259\\u0281\\u00f5\", \"ero :: \\u0259\\u0281\\u00f5\", \"ero :: \\u0259\\u0281\\u00f5\", \"ero :: \\u0259\\u0281\\u00f5\\u0169\", \"ero :: \\u0259\\u0281\\u00f5\\u0169\", \"ero :: \\u0281\\u00f5\\u0169\", \"ero :: \\u0281\\u00f5\\u0169\", \"ero :: \\u0281\\u00f5\\u0169\", \"ero :: \\u0281\\u00f5\\u0169\\u032f\", \"ero :: \\u0281\\u00f5\\u0169\\u032f\", \"ero :: \\u0281\\u00f5\\u0169\\u032f\", \"eron :: s\\u0259\\u0281\", \"eron :: s\\u0259\\u0281\", \"eron :: \\u00f5\\u0169\\u032f\", \"eron :: \\u00f5\\u0169\\u032f\", \"eron :: \\u00f5\\u0169\\u032f#\", \"eron :: \\u00f5\\u0169\\u032f#\", \"eron :: \\u0169\\u032f#\", \"eron :: \\u0169\\u032f#\", \"eron :: \\u0259\\u0281\\u00f5\", \"eron :: \\u0259\\u0281\\u00f5\", \"eron :: \\u0259\\u0281\\u00f5\", \"eron :: \\u0259\\u0281\\u00f5\\u0169\", \"eron :: \\u0259\\u0281\\u00f5\\u0169\", \"eron :: \\u0259\\u0281\\u00f5\\u0169\", \"eron :: \\u0281\\u00f5\\u0169\", \"eron :: \\u0281\\u00f5\\u0169\", \"eron :: \\u0281\\u00f5\\u0169\\u032f\", \"eron :: \\u0281\\u00f5\\u0169\\u032f\", \"eron :: \\u0281\\u00f5\\u0169\\u032f\", \"eron :: \\u0281\\u00f5\\u0169\\u032f\", \"eron :: \\u0281\\u00f5\\u0169\\u032f\", \"ert :: a\\u0281t\\u0361\", \"erv :: za\\u0281v\", \"es# :: #ab\", \"es# :: #b\\u0251\\u0254\", \"es# :: #deb\", \"es# :: #deb\", \"es# :: aja\", \"es# :: aja\", \"es# :: am#\", \"es# :: am#\", \"es# :: am#\", \"es# :: am#\", \"es# :: am#\", \"es# :: am#\", \"es# :: am#\", \"es# :: am#\", \"es# :: am#\", \"es# :: am#\", \"es# :: am#\", \"es# :: as#\", \"es# :: as#\", \"es# :: as#\", \"es# :: as#\", \"es# :: as#\", \"es# :: as#\", \"es# :: as#\", \"es# :: as#\", \"es# :: as#\", \"es# :: as#\", \"es# :: as#\", \"es# :: as#\", \"es# :: as#\", \"es# :: as#\", \"es# :: as#\", \"es# :: at#\", \"es# :: at#\", \"es# :: at#\", \"es# :: at#\", \"es# :: at#\", \"es# :: at#\", \"es# :: at#\", \"es# :: at#\", \"es# :: at#\", \"es# :: at#\", \"es# :: at#\", \"es# :: at#\", \"es# :: a\\u0281#\", \"es# :: a\\u0281#\", \"es# :: a\\u0281#\", \"es# :: a\\u0281#\", \"es# :: m\\u0251\\u0254\\u032f\", \"es# :: m\\u0251\\u0254\\u032f\", \"es# :: tam#\", \"es# :: tam#\", \"es# :: tat\", \"es# :: tat\", \"es# :: tat\", \"es# :: \\u00e3\\u0169\\u032ft\", \"es# :: \\u00e3\\u0169\\u032ft\", \"es# :: \\u0169\\u032fs\", \"es# :: \\u0251\\u0254\\u032f\", \"es# :: \\u0251\\u0254\\u032f\", \"es# :: \\u0251\\u0254\\u032f\", \"es# :: \\u0251\\u0254\\u032f\", \"es# :: \\u0251\\u0254\\u032f\", \"es# :: \\u0251\\u0254\\u032f\", \"es# :: \\u0251\\u0254\\u032f\", \"es# :: \\u0251\\u0254\\u032f\", \"es# :: \\u0251\\u0254\\u032f\", \"es# :: \\u0251\\u0254\\u032f\", \"es# :: \\u0251\\u0254\\u032f\", \"es# :: \\u0251\\u0254\\u032f\", \"es# :: \\u0251\\u0254\\u032f\", \"es# :: \\u0251\\u0254\\u032f\", \"es# :: \\u0272it\", \"es# :: \\u0303tat\", \"es# :: \\u0303tat\", \"essa :: asje\", \"eta :: \\u0259ta#\", \"ette :: at#\", \"ette :: at#\", \"ette :: at#\", \"ette :: at#\", \"eur :: pl\\u0153\", \"eur :: pl\\u0153\", \"eur :: pl\\u0153\", \"eur :: t\\u0153\\u0281#\", \"eur :: \\u0281d\\u0153\", \"eur# :: t\\u0153\\u0281#\", \"eurs :: t\\u0153\\u0281\", \"eurs :: \\u0153\\u0281#\", \"eurs :: \\u0153\\u0281#\", \"eurs :: \\u0153\\u0281#\", \"eurs :: \\u0153\\u0281#\", \"eus :: \\u00f8z#\", \"eus :: \\u00f8z#\", \"eus :: \\u00f8z#\", \"eus :: \\u00f8z#\", \"eus :: \\u00f8z#\", \"eus :: \\u00f8z#\", \"evi :: \\u026ane#\", \"evi :: \\u026ane#\", \"ewr :: \\u0281\\u0259\\u0281a\", \"ewr :: \\u0281\\u0259\\u0281a\", \"exc :: ks\\u026at\", \"exci :: ks\\u026at\", \"ez# :: #de\", \"ez# :: #de\", \"ez# :: #de\", \"ez# :: #de\", \"ez# :: #de\", \"ez# :: #de\", \"ez# :: asj\", \"ez# :: asj\", \"ez# :: asj\", \"ez# :: asj\", \"ez# :: asj\", \"ez# :: asj\", \"ez# :: asj\", \"ez# :: asje\", \"ez# :: asje\", \"ez# :: asje\", \"ez# :: asje\", \"ez# :: asje\", \"ez# :: asje\", \"ez# :: je#\", \"ez# :: je#\", \"ez# :: je#\", \"ez# :: je#\", \"ez# :: je#\", \"ez# :: je#\", \"ez# :: je#\", \"ez# :: je#\", \"ez# :: je#\", \"ez# :: je#\", \"ez# :: je#\", \"ez# :: je#\", \"ez# :: je#\", \"ez# :: je#\", \"ez# :: je#\", \"ez# :: je#\", \"ez# :: je#\", \"ez# :: je#\", \"ez# :: je#\", \"ez# :: je#\", \"ez# :: sje\", \"ez# :: sje\", \"ez# :: sje\", \"ez# :: sje\", \"ez# :: sje\", \"ez# :: sje\", \"ez# :: sje\", \"ez# :: sje#\", \"ez# :: sje#\", \"ez# :: sje#\", \"ez# :: sje#\", \"ez# :: sje#\", \"ez# :: sje#\", \"ez# :: sje#\", \"ez# :: sje#\", \"ez# :: sje#\", \"ez# :: z\\u0259\\u0281\", \"ez# :: z\\u0259\\u0281\", \"ez# :: z\\u0259\\u0281\", \"ez# :: \\u0259\\u0281e\", \"ez# :: \\u0259\\u0281e\", \"ez# :: \\u0259\\u0281e\", \"ez# :: \\u0259\\u0281e\", \"ez# :: \\u0259\\u0281e\", \"ez# :: \\u0259\\u0281e\", \"ez# :: \\u0259\\u0281e\", \"ez# :: \\u0259\\u0281e\", \"ez# :: \\u0259\\u0281e\", \"ez# :: \\u0259\\u0281e\", \"ez# :: \\u0259\\u0281e#\", \"ez# :: \\u0259\\u0281e#\", \"ez# :: \\u0259\\u0281e#\", \"ez# :: \\u0259\\u0281e#\", \"ez# :: \\u0259\\u0281e#\", \"ez# :: \\u0259\\u0281e#\", \"ez# :: \\u0259\\u0281e#\", \"ez# :: \\u0259\\u0281e#\", \"ez# :: \\u0259\\u0281e#\", \"ez# :: \\u0259\\u0281j\", \"ez# :: \\u0259\\u0281j\", \"ez# :: \\u0259\\u0281j\", \"ez# :: \\u0259\\u0281j\", \"ez# :: \\u0259\\u0281j\", \"ez# :: \\u0259\\u0281je\", \"ez# :: \\u0259\\u0281je\", \"ez# :: \\u0259\\u0281je\", \"ez# :: \\u0259\\u0281je\", \"ez# :: \\u0259\\u0281je\", \"ez# :: \\u0281e#\", \"ez# :: \\u0281e#\", \"ez# :: \\u0281e#\", \"ez# :: \\u0281e#\", \"ez# :: \\u0281e#\", \"ez# :: \\u0281e#\", \"ez# :: \\u0281e#\", \"ez# :: \\u0281e#\", \"ez# :: \\u0281e#\", \"ez# :: \\u0281e#\", \"ez# :: \\u0281e#\", \"ez# :: \\u0281e#\", \"ez# :: \\u0281e#\", \"ez# :: \\u0281e#\", \"ez# :: \\u0281je\", \"ez# :: \\u0281je\", \"ez# :: \\u0281je\", \"ez# :: \\u0281je\", \"ez# :: \\u0281je\", \"ez# :: \\u0281je\", \"ez# :: \\u0281je\", \"ez# :: \\u0281je#\", \"ez# :: \\u0281je#\", \"ez# :: \\u0281je#\", \"ez# :: \\u0281je#\", \"ez# :: \\u0281je#\", \"ez# :: \\u0281je#\", \"ez# :: \\u0281je#\", \"ez# :: \\u0281je#\", \"far :: #ef\", \"far :: #ef\", \"far :: #ef\", \"far :: \\u0281f\\u028aj\", \"fas :: fas\\u026a\", \"fas :: fas\\u026a\", \"fas :: fas\\u026a\", \"feui :: f\\u0153j\", \"ffa :: efa\", \"ffa :: efa\", \"ffa :: efa\\u0281\", \"ffa :: efa\\u0281\", \"ffar :: #efa\", \"ffar :: a\\u0281\\u0259\", \"ffer :: f\\u0259\\u0281j\", \"ffl :: #afl\", \"ffl :: #afl\", \"ffl :: #afl\", \"ffl :: l\\u0153\\u0281\", \"fia :: fja\", \"fia :: fja\", \"fia :: \\u026afj\", \"fias :: jas#\", \"fin :: #f\\u026a\", \"fin :: #f\\u026a\", \"fin :: #f\\u026a\", \"fin :: al\\u026a\", \"fin :: f\\u026an\", \"fin :: f\\u026an\", \"fin :: f\\u026an\\u026a\", \"fin :: nal\\u026a\", \"fina :: #f\\u026an\", \"fina :: al\\u026a\", \"fina :: al\\u026az\", \"fina :: nal\", \"fis :: k\\u00f5\\u0169\\u032f\", \"flam :: l\\u0251\\u0303b\", \"flas :: fla\", \"for :: f\\u0251\\u0254\", \"for :: f\\u0251\\u0254\\u032f\", \"for :: f\\u0251\\u0254\\u032f\", \"for :: \\u0251\\u0254\\u032f\", \"for :: \\u0251\\u0254\\u032f\", \"for :: \\u0251\\u0254\\u032f\", \"for :: \\u0251\\u0254\\u032f\", \"for :: \\u0251\\u0254\\u032f\\u0281\", \"for :: \\u0251\\u0254\\u032f\\u0281\", \"for :: \\u0254\\u032f\\u0281\", \"fou :: f\\u028aj\", \"fou :: f\\u028aj\", \"foui :: fa\\u0281f\", \"foui :: \\u0281f\\u028a\", \"fra :: f\\u0281ak\", \"fri :: def\", \"fri :: def\\u0281\", \"fro :: #f\\u0281\", \"fro :: #f\\u0281\", \"fro :: f\\u0281\\u028a\", \"fro :: f\\u0281\\u028a\", \"fro :: f\\u0281\\u028af\", \"fro :: \\u0281\\u028af\\u0281\", \"fro :: \\u0281\\u028af\\u0281\", \"fro :: \\u028af\\u0281\", \"froi :: f\\u0281wa\", \"froi :: \\u0281wa\", \"frou :: #f\\u0281\", \"frou :: f\\u0281\\u028a\", \"frou :: f\\u0281\\u028a\", \"frou :: \\u0281\\u028at\", \"frou :: \\u0281\\u028at\", \"frou :: \\u028af\\u0281\", \"fuse :: \\u028fz\\u0259\", \"fuse :: \\u028fz\\u0259\", \"fuse :: \\u028fz\\u0259\", \"fuse :: \\u028fz\\u0259\", \"gai :: dega\", \"gain :: egan\", \"gar :: ga\\u0281n\", \"gau :: o\\u0283\\u026a\", \"gaz :: gaze\", \"geo :: \\u0281\\u0292wa\", \"geoi :: \\u0281\\u0292wa\", \"ger :: an\\u026a\", \"gla :: glan\", \"gla :: glan\", \"gla :: \\u0303gl\", \"gla :: \\u0303gla\", \"glos :: glo\", \"gn\\u00ee :: a\\u0272i\", \"gn\\u00ee :: a\\u0272i\", \"goi :: waz\", \"goi :: waz\", \"gon :: \\u00f5\\u0169\\u032f\", \"gra :: #g\\u0281a\", \"gra :: #g\\u0281a\", \"gra :: #g\\u0281a\", \"g\\u00e9r :: #\\u1ebd\\u0129\", \"g\\u00e9r :: \\u0281a#\", \"g\\u00e9r :: \\u0292e\\u0281\", \"g\\u00e9r :: \\u0292e\\u0281\", \"g\\u00e9r :: \\u1ebd\\u0129\\u032f\", \"halt :: fal\", \"hamb :: b\\u028al\", \"has :: as#\", \"has :: as#\", \"has :: as#\", \"has :: sje#\", \"hass :: \\u0283as\", \"hass :: \\u0283as\", \"hass :: \\u0283as\", \"hass :: \\u0283as\", \"hass :: \\u0283as\", \"hass :: \\u0283as\", \"her :: \\u0259\\u0281a\", \"her :: \\u0259\\u0281a#\", \"her :: \\u0283\\u0259\\u0281a\", \"hera :: \\u0259\\u0281a\", \"hera :: \\u0259\\u0281a#\", \"hera :: \\u0281a#\", \"hera :: \\u0283\\u0259\\u0281\", \"hera :: \\u0283\\u0259\\u0281\", \"hera :: \\u0283\\u0259\\u0281\", \"hev :: \\u0283v\\u026aj\", \"hevi :: \\u0283v\\u026aj\", \"hio :: j\\u00f5\\u0169\\u032f\", \"hion :: \\u00f5\\u0169\\u032f\", \"hou :: s\\u026al\", \"ias :: jas#\", \"iass :: jas\", \"iass :: jas#\", \"ici :: s\\u026ate\", \"idi :: zje#\", \"idie :: \\u026ad\\u0361z\", \"idie :: \\u0361zj\", \"ien :: #k\\u00f5\\u0169\", \"ien :: an#\", \"ien :: an#\", \"ien :: an#\", \"ien :: jan#\", \"ien :: \\u0259\\u0281a\", \"ien :: \\u0259\\u0281a\", \"ien :: \\u0259\\u0281a\", \"ien :: \\u0259\\u0281a\", \"ien :: \\u0259\\u0281a\", \"ien :: \\u0259\\u0281a\", \"ien :: \\u0259\\u0281a\", \"ien :: \\u0259\\u0281a\", \"ien :: \\u0259\\u0281a\", \"ien :: \\u0259\\u0281a#\", \"ien :: \\u0259\\u0281a#\", \"ien :: \\u0259\\u0281a#\", \"ien :: \\u0259\\u0281a#\", \"ien :: \\u0259\\u0281a#\", \"ien :: \\u0259\\u0281a#\", \"ien :: \\u0281a#\", \"ien :: \\u0281a#\", \"ien :: \\u0281a#\", \"ien :: \\u0281a#\", \"ien :: \\u0281a#\", \"ien :: \\u0281a#\", \"ien :: \\u0281a#\", \"ien :: \\u0281a#\", \"ien :: \\u0281a#\", \"ien :: \\u0281a#\", \"ien :: \\u0281a#\", \"ien :: \\u0281a#\", \"ien :: \\u0281\\u0259\\u0281a\", \"ien :: \\u1ebd\\u0129\\u032f#\", \"ien :: \\u1ebd\\u0129\\u032f#\", \"ienn :: jan\", \"ienn :: jan\", \"ient :: \\u0259\\u0281a\", \"ient :: \\u0259\\u0281a\", \"ient :: \\u0259\\u0281a\", \"ient :: \\u0259\\u0281a\", \"ient :: \\u0259\\u0281a\", \"ient :: \\u0259\\u0281a\", \"ient :: \\u0259\\u0281a#\", \"ient :: \\u0259\\u0281a#\", \"ient :: \\u0259\\u0281a#\", \"ient :: \\u0259\\u0281a#\", \"ient :: \\u0259\\u0281a#\", \"ient :: \\u0259\\u0281a#\", \"ient :: \\u0281a#\", \"ient :: \\u0281a#\", \"ient :: \\u0281a#\", \"ient :: \\u0281a#\", \"ient :: \\u0281a#\", \"ient :: \\u0281a#\", \"ient :: \\u0281a#\", \"ient :: \\u0281a#\", \"ient :: \\u0281a#\", \"ier :: \\u026afj\\u0259\", \"ier :: \\u026afj\\u0259\", \"iez :: asj\", \"iez :: asj\", \"iez :: asj\", \"iez :: asj\", \"iez :: asj\", \"iez :: asj\", \"iez :: asj\", \"iez :: asje\", \"iez :: asje\", \"iez :: asje\", \"iez :: asje\", \"iez :: asje\", \"iez :: asje\", \"iez :: asje\", \"iez :: je#\", \"iez :: je#\", \"iez :: je#\", \"iez :: je#\", \"iez :: je#\", \"iez :: je#\", \"iez :: je#\", \"iez :: je#\", \"iez :: je#\", \"iez :: je#\", \"iez :: je#\", \"iez :: je#\", \"iez :: je#\", \"iez :: je#\", \"iez :: je#\", \"iez :: je#\", \"iez :: je#\", \"iez :: je#\", \"iez :: je#\", \"iez :: je#\", \"iez :: lje\", \"iez :: lje\", \"iez :: lje#\", \"iez :: lje#\", \"iez :: sje\", \"iez :: sje\", \"iez :: sje\", \"iez :: sje\", \"iez :: sje\", \"iez :: sje\", \"iez :: sje\", \"iez :: sje\", \"iez :: sje#\", \"iez :: sje#\", \"iez :: sje#\", \"iez :: sje#\", \"iez :: sje#\", \"iez :: sje#\", \"iez :: sje#\", \"iez :: tasj\", \"iez :: tasj\", \"iez :: z\\u0259\\u0281\", \"iez :: z\\u0259\\u0281\", \"iez :: \\u0259\\u0281j\", \"iez :: \\u0259\\u0281j\", \"iez :: \\u0259\\u0281j\", \"iez :: \\u0259\\u0281j\", \"iez :: \\u0259\\u0281j\", \"iez :: \\u0259\\u0281j\", \"iez :: \\u0259\\u0281je\", \"iez :: \\u0259\\u0281je\", \"iez :: \\u0259\\u0281je\", \"iez :: \\u0259\\u0281je\", \"iez :: \\u0259\\u0281je\", \"iez :: \\u0259\\u0281je\", \"iez :: \\u0281je\", \"iez :: \\u0281je\", \"iez :: \\u0281je\", \"iez :: \\u0281je\", \"iez :: \\u0281je\", \"iez :: \\u0281je\", \"iez :: \\u0281je\", \"iez :: \\u0281je\", \"iez :: \\u0281je\", \"iez :: \\u0281je#\", \"iez :: \\u0281je#\", \"iez :: \\u0281je#\", \"iez :: \\u0281je#\", \"iez :: \\u0281je#\", \"iez :: \\u0281je#\", \"iez :: \\u0281je#\", \"iez# :: asj\", \"iez# :: asj\", \"iez# :: asj\", \"iez# :: asj\", \"iez# :: asj\", \"iez# :: asj\", \"iez# :: asje\", \"iez# :: asje\", \"iez# :: asje\", \"iez# :: asje\", \"iez# :: asje\", \"iez# :: asje\", \"iez# :: je#\", \"iez# :: je#\", \"iez# :: je#\", \"iez# :: je#\", \"iez# :: je#\", \"iez# :: je#\", \"iez# :: je#\", \"iez# :: je#\", \"iez# :: je#\", \"iez# :: je#\", \"iez# :: je#\", \"iez# :: je#\", \"iez# :: je#\", \"iez# :: je#\", \"iez# :: je#\", \"iez# :: je#\", \"iez# :: je#\", \"iez# :: je#\", \"iez# :: je#\", \"iez# :: sje\", \"iez# :: sje\", \"iez# :: sje\", \"iez# :: sje\", \"iez# :: sje\", \"iez# :: sje\", \"iez# :: sje\", \"iez# :: sje\", \"iez# :: sje#\", \"iez# :: sje#\", \"iez# :: sje#\", \"iez# :: sje#\", \"iez# :: sje#\", \"iez# :: sje#\", \"iez# :: sje#\", \"iez# :: \\u0259\\u0281j\", \"iez# :: \\u0259\\u0281j\", \"iez# :: \\u0259\\u0281j\", \"iez# :: \\u0259\\u0281j\", \"iez# :: \\u0259\\u0281j\", \"iez# :: \\u0259\\u0281j\", \"iez# :: \\u0259\\u0281je\", \"iez# :: \\u0259\\u0281je\", \"iez# :: \\u0259\\u0281je\", \"iez# :: \\u0259\\u0281je\", \"iez# :: \\u0259\\u0281je\", \"iez# :: \\u026af\\u026aj\", \"iez# :: \\u0281je\", \"iez# :: \\u0281je\", \"iez# :: \\u0281je\", \"iez# :: \\u0281je\", \"iez# :: \\u0281je\", \"iez# :: \\u0281je\", \"iez# :: \\u0281je\", \"iez# :: \\u0281je\", \"iez# :: \\u0281je\", \"iez# :: \\u0281je#\", \"iez# :: \\u0281je#\", \"iez# :: \\u0281je#\", \"iez# :: \\u0281je#\", \"iez# :: \\u0281je#\", \"iez# :: \\u0281je#\", \"iez# :: \\u0281je#\", \"iez# :: \\u0281je#\", \"iez# :: \\u0361sje\", \"iez# :: \\u0361sje\", \"iez# :: \\u0361sje\", \"iff :: \\u0259b\\u026af\", \"ifi :: fja\", \"ifi :: fja\", \"ifi :: fja\", \"ifi :: \\u026afj\", \"ifi :: \\u026afj\", \"ifi :: \\u026afja\", \"ifi :: \\u026afja\", \"ifi :: \\u026aje\", \"ifi :: \\u026aje\", \"ifia :: fja\", \"ifia :: \\u026afj\", \"ifia :: \\u026afj\", \"igr :: #meg\", \"igr :: #meg\", \"igr :: #meg\", \"iie :: f\\u026aj\", \"iiez :: f\\u026aje\", \"ill :: f\\u0153j\", \"ill :: j\\u0259\\u0281\\u0254\", \"ill :: j\\u0259\\u0281\\u0254\", \"ill :: j\\u0259\\u0281\\u0254\", \"ill :: maj\", \"ill :: maj\", \"ill :: maj\", \"ill :: \\u0259\\u0281\\u0254\", \"ill :: \\u0259\\u0281\\u0254\", \"ill :: \\u0259\\u0281\\u0254\", \"ill :: \\u0259\\u0281\\u0254#\", \"ill :: \\u0259\\u0281\\u0254#\", \"ill :: \\u0259\\u0281\\u0254#\", \"ill :: \\u026aja\", \"ill :: \\u026aja\", \"ill :: \\u0281\\u0254#\", \"ill :: \\u0281\\u0254#\", \"ill :: \\u0281\\u028aj\", \"ill :: \\u0281\\u028aj\", \"ill :: \\u0281\\u028aj\", \"ill :: \\u0283v\\u026a\", \"ill :: \\u028aja\", \"ill :: \\u028aja\", \"ill :: \\u028aja\", \"ill :: \\u028aja\", \"illa :: jas\", \"illa :: jas\", \"illa :: jas\", \"illa :: jas\", \"illa :: \\u026aja\", \"illa :: \\u026aja\", \"illa :: \\u028aja\", \"illa :: \\u028aja\", \"illa :: \\u028aja#\", \"ille :: j\\u0259\\u0281\\u0254\", \"ille :: j\\u0259\\u0281\\u0254\", \"ille :: \\u0153\\u0281#\", \"ille :: \\u0259\\u0281\\u0254\", \"ille :: \\u0259\\u0281\\u0254\", \"ille :: \\u028aj\\u0259\\u0281\", \"ille :: \\u028aj\\u0259\\u0281\", \"ill\\u00e9 :: aje#\", \"ill\\u00e9 :: aje#\", \"ina :: #f\\u026a\", \"ina :: al\\u026a\", \"ina :: f\\u026an\", \"ina :: na#\", \"ina :: na#\", \"ina :: \\u026ana\", \"ina :: \\u026ana\", \"ina :: \\u026ana\", \"ina :: \\u026ana\", \"ina :: \\u026ana\", \"ina :: \\u026ana#\", \"ina :: \\u026ana#\", \"ina :: \\u026ana#\", \"inai :: na#\", \"inai :: na#\", \"inai :: na#\", \"inai :: \\u026ana\", \"inai :: \\u026ana\", \"inal :: al\\u026az\", \"inal :: f\\u026ana\", \"inal :: \\u026ana\", \"inal :: \\u026ana\", \"inal :: \\u026ana\", \"inda :: \\u1ebd\\u0129\\u032f\", \"ing :: #\\u1ebd\\u0129\\u032f\", \"ing :: l\\u1ebd\\u0129\", \"ing :: l\\u1ebd\\u0129\", \"ing :: l\\u1ebd\\u0129\\u032f\", \"ing :: \\u0129\\u032fg\", \"ing :: \\u0129\\u032fg\", \"ing :: \\u0129\\u032fg\", \"ing :: \\u0283l\\u1ebd\\u0129\", \"ing :: \\u032f\\u0292e\\u0281\", \"ing :: \\u1ebd\\u0129\\u032f\", \"ing :: \\u1ebd\\u0129\\u032f\", \"ing :: \\u1ebd\\u0129\\u032f\", \"ing :: \\u1ebd\\u0129\\u032f\", \"ing :: \\u1ebd\\u0129\\u032f\", \"ing :: \\u1ebd\\u0129\\u032f\", \"ing :: \\u1ebd\\u0129\\u032fg\", \"ing :: \\u1ebd\\u0129\\u032fg\", \"ing :: \\u1ebd\\u0129\\u032fg\", \"ing :: \\u1ebd\\u0129\\u032fg\", \"ing :: \\u1ebd\\u0129\\u032fg\", \"ingu :: l\\u1ebd\\u0129\", \"ingu :: l\\u1ebd\\u0129\\u032f\", \"ingu :: \\u0129\\u032fg\", \"ingu :: \\u0129\\u032fg\", \"ingu :: \\u1ebd\\u0129\\u032f\", \"ingu :: \\u1ebd\\u0129\\u032f\", \"ingu :: \\u1ebd\\u0129\\u032fg\", \"ingu :: \\u1ebd\\u0129\\u032fg\", \"ingu :: \\u1ebd\\u0129\\u032fg\", \"inne :: #ina\", \"int :: \\u0129\\u032ft\", \"int :: \\u0129\\u032ft\", \"int :: \\u0129\\u032ft\", \"int :: \\u0129\\u032ft\", \"int :: \\u0129\\u032fte\", \"int :: \\u1ebd\\u0129\\u032f\", \"int :: \\u1ebd\\u0129\\u032f\", \"int :: \\u1ebd\\u0129\\u032f\", \"int :: \\u1ebd\\u0129\\u032f\", \"int :: \\u1ebd\\u0129\\u032ft\", \"int :: \\u1ebd\\u0129\\u032ft\", \"inte :: \\u0129\\u032ft\\u0251\", \"in\\u00e9 :: \\u026ane\", \"ion :: asj\\u00f5\", \"ion :: b\\u028a\\u0283\", \"ion :: j\\u00f5\\u0169\", \"ion :: j\\u00f5\\u0169\", \"ion :: j\\u00f5\\u0169\", \"ion :: j\\u00f5\\u0169\", \"ion :: j\\u00f5\\u0169\", \"ion :: j\\u00f5\\u0169\", \"ion :: j\\u00f5\\u0169\", \"ion :: j\\u00f5\\u0169\", \"ion :: j\\u00f5\\u0169\", \"ion :: j\\u00f5\\u0169\", \"ion :: j\\u00f5\\u0169\", \"ion :: j\\u00f5\\u0169\\u032f\", \"ion :: j\\u00f5\\u0169\\u032f\", \"ion :: j\\u00f5\\u0169\\u032f\", \"ion :: j\\u00f5\\u0169\\u032f\", \"ion :: j\\u00f5\\u0169\\u032f\", \"ion :: j\\u00f5\\u0169\\u032f\", \"ion :: j\\u00f5\\u0169\\u032f\", \"ion :: j\\u00f5\\u0169\\u032f\", \"ion :: j\\u00f5\\u0169\\u032f\", \"ion :: sj\\u00f5\", \"ion :: sj\\u00f5\", \"ion :: sj\\u00f5\\u0169\", \"ion :: sj\\u00f5\\u0169\", \"ion :: zj\\u00f5\\u0169\", \"ion :: \\u00f5\\u0169\\u032f\", \"ion :: \\u00f5\\u0169\\u032f\", \"ion :: \\u00f5\\u0169\\u032f\", \"ion :: \\u00f5\\u0169\\u032f\", \"ion :: \\u00f5\\u0169\\u032f\", \"ion :: \\u00f5\\u0169\\u032f\", \"ion :: \\u00f5\\u0169\\u032f\", \"ion :: \\u00f5\\u0169\\u032f\", \"ion :: \\u00f5\\u0169\\u032f\", \"ion :: \\u00f5\\u0169\\u032f#\", \"ion :: \\u00f5\\u0169\\u032f#\", \"ion :: \\u00f5\\u0169\\u032f#\", \"ion :: \\u00f5\\u0169\\u032f#\", \"ion :: \\u00f5\\u0169\\u032f#\", \"ion :: \\u00f5\\u0169\\u032f#\", \"ion :: \\u00f5\\u0169\\u032f#\", \"ion :: \\u00f5\\u0169\\u032f#\", \"ion :: \\u00f5\\u0169\\u032f#\", \"ion :: \\u0169\\u032f#\", \"ion :: \\u0169\\u032f#\", \"ion :: \\u0169\\u032f#\", \"ion :: \\u0169\\u032f#\", \"ion :: \\u0169\\u032f#\", \"ion :: \\u0169\\u032f#\", \"ion :: \\u0169\\u032f#\", \"ion :: \\u0169\\u032f#\", \"ion :: \\u0169\\u032f#\", \"ion :: \\u0281j\\u00f5\", \"ion :: \\u0281j\\u00f5\", \"ion :: \\u0281j\\u00f5\", \"ions :: asj\\u00f5\", \"ions :: b\\u028a\\u0283j\", \"ions :: j\\u00f5\\u0169\", \"ions :: j\\u00f5\\u0169\", \"ions :: j\\u00f5\\u0169\", \"ions :: j\\u00f5\\u0169\", \"ions :: j\\u00f5\\u0169\", \"ions :: j\\u00f5\\u0169\", \"ions :: j\\u00f5\\u0169\", \"ions :: j\\u00f5\\u0169\", \"ions :: j\\u00f5\\u0169\", \"ions :: j\\u00f5\\u0169\\u032f\", \"ions :: j\\u00f5\\u0169\\u032f\", \"ions :: j\\u00f5\\u0169\\u032f\", \"ions :: j\\u00f5\\u0169\\u032f\", \"ions :: j\\u00f5\\u0169\\u032f\", \"ions :: j\\u00f5\\u0169\\u032f\", \"ions :: j\\u00f5\\u0169\\u032f\", \"ions :: j\\u00f5\\u0169\\u032f\", \"ions :: sj\\u00f5\\u0169\", \"ions :: sj\\u00f5\\u0169\", \"ions :: \\u00f5\\u0169\\u032f\", \"ions :: \\u00f5\\u0169\\u032f\", \"ions :: \\u00f5\\u0169\\u032f\", \"ions :: \\u00f5\\u0169\\u032f\", \"ions :: \\u00f5\\u0169\\u032f\", \"ions :: \\u00f5\\u0169\\u032f\", \"ions :: \\u00f5\\u0169\\u032f\", \"ions :: \\u00f5\\u0169\\u032f\", \"ions :: \\u00f5\\u0169\\u032f#\", \"ions :: \\u00f5\\u0169\\u032f#\", \"ions :: \\u00f5\\u0169\\u032f#\", \"ions :: \\u00f5\\u0169\\u032f#\", \"ions :: \\u00f5\\u0169\\u032f#\", \"ions :: \\u00f5\\u0169\\u032f#\", \"ions :: \\u00f5\\u0169\\u032f#\", \"ions :: \\u00f5\\u0169\\u032f#\", \"ions :: \\u0169\\u032f#\", \"ions :: \\u0169\\u032f#\", \"ions :: \\u0169\\u032f#\", \"ions :: \\u0169\\u032f#\", \"ions :: \\u0169\\u032f#\", \"ions :: \\u0169\\u032f#\", \"ions :: \\u0169\\u032f#\", \"ions :: \\u0169\\u032f#\", \"ions :: \\u0169\\u032f#\", \"ions :: \\u0281j\\u00f5\\u0169\", \"ions :: \\u0281j\\u00f5\\u0169\", \"ions :: \\u0281j\\u00f5\\u0169\", \"iqu :: n\\u026ak\", \"iqu :: n\\u026ak\", \"iqu :: n\\u026ak#\", \"iqu :: t\\u0361s\\u026a\", \"iqu :: t\\u0361s\\u026a\", \"iqu :: \\u0251\\u0254\\u032f\", \"iqu :: \\u0251\\u0254\\u032f\", \"iqu :: \\u026ak#\", \"iqu :: \\u026ak#\", \"iqu :: \\u026ak#\", \"iqu :: \\u026ak#\", \"iqu :: \\u0361s\\u026a\", \"iqu :: \\u0361s\\u026a\", \"iqu :: \\u0361s\\u026a\", \"iqu :: \\u0361s\\u026a\", \"ique :: n\\u026ak\", \"ique :: n\\u026ak\", \"ique :: n\\u026ak\", \"ique :: n\\u026ak#\", \"ique :: n\\u026ak#\", \"ique :: n\\u026ak#\", \"ique :: t\\u0361s\\u026a\", \"ique :: t\\u0361s\\u026a\", \"ique :: \\u026ak#\", \"ique :: \\u026ak#\", \"ique :: \\u026ak#\", \"ira :: \\u026a\\u0281a\", \"ira :: \\u026a\\u0281a\", \"ira :: \\u026a\\u0281a\", \"ira :: \\u0281\\u026a\\u0281\", \"irai :: asp\", \"irai :: \\u026a\\u0281a#\", \"irai :: \\u026a\\u0281a#\", \"irai :: \\u026a\\u0281a#\", \"irai :: \\u0281a#\", \"irai :: \\u0281a#\", \"irai :: \\u0281a#\", \"irai :: \\u0281a#\", \"iron :: \\u0281\\u00f5\\u0169\\u032f\", \"iron :: \\u0281\\u00f5\\u0169\\u032f\", \"isas :: \\u026azas\", \"isme :: \\u0361s\\u026as\", \"iso :: \\u026az\\u0251\", \"iss :: asa\", \"iss :: asa\", \"iss :: asa\", \"iss :: e\\u0281\\u026a\", \"iss :: f\\u0281wa\", \"iss :: n\\u026as\", \"iss :: n\\u026as\", \"iss :: sj\\u00f5\", \"iss :: \\u026asj\\u00f5\", \"issa :: \\u026asa\", \"issa :: \\u026asa\", \"issa :: \\u026asa\", \"issa :: \\u0361s\\u026as\", \"isse :: sm\\u00e6\", \"it# :: at\\u0259\", \"it# :: at\\u0259\", \"it# :: \\u0259\\u0281a\", \"it# :: \\u0259\\u0281a\", \"it# :: \\u0259\\u0281a\", \"it# :: \\u0259\\u0281a\", \"it# :: \\u0259\\u0281a\", \"it# :: \\u0259\\u0281a\", \"it# :: \\u0259\\u0281a\", \"it# :: \\u0259\\u0281a\", \"it# :: \\u0259\\u0281a\", \"it# :: \\u0259\\u0281a#\", \"it# :: \\u0259\\u0281a#\", \"it# :: \\u0259\\u0281a#\", \"it# :: \\u0259\\u0281a#\", \"it# :: \\u0259\\u0281a#\", \"it# :: \\u0259\\u0281a#\", \"it# :: \\u0259\\u0281a#\", \"it# :: \\u0259\\u0281a#\", \"it# :: \\u0281a#\", \"it# :: \\u0281a#\", \"it# :: \\u0281a#\", \"it# :: \\u0281a#\", \"it# :: \\u0281a#\", \"it# :: \\u0281a#\", \"it# :: \\u0281a#\", \"it# :: \\u0281a#\", \"it# :: \\u0281a#\", \"it# :: \\u0281a#\", \"it# :: \\u0281a#\", \"it# :: \\u032fta#\", \"iter :: \\u0259\\u0281a#\", \"it\\u00e9 :: s\\u026at\", \"it\\u00e9 :: s\\u026at\", \"it\\u00e9 :: s\\u026at\", \"it\\u00e9 :: s\\u026ate\", \"it\\u00e9 :: s\\u026ate\", \"it\\u00e9 :: te#\", \"it\\u00e9 :: te#\", \"it\\u00e9 :: te#\", \"it\\u00e9 :: \\u026as\\u026a\", \"it\\u00e9 :: \\u026as\\u026a\", \"it\\u00e9 :: \\u026as\\u026at\", \"it\\u00e9 :: \\u026as\\u026at\", \"it\\u00e9 :: \\u026ate\", \"it\\u00e9 :: \\u026ate\", \"it\\u00e9 :: \\u026ate\", \"it\\u00e9 :: \\u026ate#\", \"it\\u00e9 :: \\u026ate#\", \"it\\u00e9 :: \\u026ate#\", \"it\\u00e9 :: \\u026ate#\", \"it\\u00e9# :: s\\u026ate\", \"it\\u00e9# :: s\\u026ate\", \"it\\u00e9# :: s\\u026ate\", \"iva :: vas\", \"ivas :: \\u026avas\", \"ivas :: \\u026avas\", \"ive :: \\u026av\\u0259\\u0281\", \"ive :: \\u026av\\u0259\\u0281\", \"i\\u00e2t# :: fj\\u0254#\", \"i\\u00e8r :: ja\\u0281#\", \"i\\u00e8r :: ja\\u0281#\", \"i\\u00e8r :: ja\\u0281#\", \"i\\u00e8re :: a\\u0281#\", \"i\\u00e8re :: a\\u0281#\", \"i\\u00e8re :: a\\u0281#\", \"i\\u00e8re :: a\\u0281#\", \"i\\u00e8re :: a\\u0281#\", \"jour :: #a\\u0292\", \"jug :: \\u0292y\\u0292\", \"lai :: la#\", \"lai :: la#\", \"lai :: la#\", \"lai :: la#\", \"lai :: la#\", \"lai :: la#\", \"lai :: la#\", \"lai :: la#\", \"lai :: la#\", \"lai :: \\u028fla\", \"lai :: \\u028fla\", \"lai :: \\u028fla\", \"lam :: fl\\u0251\", \"lamb :: #fl\\u0251\", \"lamb :: l\\u0251\\u0303\", \"lamp :: l\\u0251\\u0303p\", \"las :: #ma\", \"las :: las\", \"las :: las\", \"las :: las\", \"las :: las\", \"las :: las\", \"las :: las\", \"las :: las\", \"las :: las\", \"las :: las\", \"las :: las\", \"lass :: #kla\", \"lass :: tla\", \"lass :: tla\", \"lcoo :: \\u0251\\u0254\\u032fl\", \"lenc :: l\\u0251\\u0303\", \"ler :: j\\u0259\\u0281\\u0254\", \"ler :: j\\u0259\\u0281\\u0254\", \"ler :: l\\u0259\\u0281\", \"ler :: l\\u0259\\u0281\", \"ler :: l\\u0259\\u0281\", \"ler :: l\\u0259\\u0281\", \"ler :: l\\u0259\\u0281\", \"ler :: l\\u0259\\u0281\", \"ler :: l\\u0259\\u0281\", \"ler :: l\\u0259\\u0281\", \"ler :: l\\u0259\\u0281\", \"ler :: l\\u0259\\u0281\", \"ler :: l\\u0259\\u0281\", \"ler :: l\\u0259\\u0281a\", \"ler :: l\\u0259\\u0281a\", \"ler :: l\\u0259\\u0281a\", \"ler :: l\\u0259\\u0281\\u0254\", \"ler :: l\\u0259\\u0281\\u0254\", \"ler :: l\\u0259\\u0281\\u0254\", \"ler :: \\u0259l\\u0259\\u0281\", \"ler :: \\u0259l\\u0259\\u0281\", \"ler :: \\u0259\\u0281a\", \"ler :: \\u0259\\u0281a\", \"ler :: \\u0259\\u0281a\", \"ler :: \\u0259\\u0281a\", \"ler :: \\u0259\\u0281a\", \"ler :: \\u0259\\u0281a#\", \"ler :: \\u0259\\u0281a#\", \"ler :: \\u0259\\u0281a#\", \"ler :: \\u0259\\u0281a#\", \"ler :: \\u0259\\u0281j\", \"ler :: \\u0259\\u0281j\", \"ler :: \\u0259\\u0281\\u0254\", \"ler :: \\u0259\\u0281\\u0254\", \"ler :: \\u0259\\u0281\\u0254\", \"ler :: \\u0259\\u0281\\u0254\", \"ler :: \\u0259\\u0281\\u0254#\", \"ler :: \\u0259\\u0281\\u0254#\", \"ler :: \\u0259\\u0281\\u0254#\", \"ler :: \\u0259\\u0281\\u0254#\", \"ler :: \\u0281a#\", \"ler :: \\u0281a#\", \"ler :: \\u0281a#\", \"ler :: \\u0281a#\", \"ler :: \\u0281je\", \"ler :: \\u0281je\", \"ler :: \\u0281je#\", \"ler :: \\u0281\\u0254#\", \"ler :: \\u0281\\u0254#\", \"ler :: \\u0281\\u0254#\", \"ler :: \\u0281\\u0254#\", \"lera :: #\\u0251\\u0303\", \"lera :: #\\u0251\\u0303\", \"lera :: j\\u0259\\u0281\", \"lera :: j\\u0259\\u0281\", \"lera :: j\\u0259\\u0281\", \"lera :: j\\u0259\\u0281\\u0254\", \"lera :: j\\u0259\\u0281\\u0254\", \"lera :: l\\u0259\\u0281\", \"lera :: l\\u0259\\u0281\", \"lera :: l\\u0259\\u0281\", \"lera :: l\\u0259\\u0281\", \"lera :: l\\u0259\\u0281\", \"lera :: l\\u0259\\u0281\", \"lera :: l\\u0259\\u0281a\", \"lera :: l\\u0259\\u0281a\", \"lera :: l\\u0259\\u0281a\", \"lera :: l\\u0259\\u0281a\", \"lera :: l\\u0259\\u0281\\u0254\", \"lera :: l\\u0259\\u0281\\u0254\", \"lera :: l\\u0259\\u0281\\u0254\", \"lera :: \\u0259\\u0281a\", \"lera :: \\u0259\\u0281a\", \"lera :: \\u0259\\u0281a\", \"lera :: \\u0259\\u0281a#\", \"lera :: \\u0259\\u0281a#\", \"lera :: \\u0259\\u0281a#\", \"lera :: \\u0259\\u0281a#\", \"lera :: \\u0259\\u0281\\u0254\", \"lera :: \\u0259\\u0281\\u0254\", \"lera :: \\u0259\\u0281\\u0254\", \"lera :: \\u0259\\u0281\\u0254\", \"lera :: \\u0259\\u0281\\u0254#\", \"lera :: \\u0259\\u0281\\u0254#\", \"lera :: \\u0259\\u0281\\u0254#\", \"lera :: \\u0281a#\", \"lera :: \\u0281a#\", \"lera :: \\u0281a#\", \"lera :: \\u0281a#\", \"lera :: \\u0281a#\", \"lera :: \\u0281\\u0254#\", \"lera :: \\u0281\\u0254#\", \"lera :: \\u0281\\u0254#\", \"lera :: \\u0281\\u0254#\", \"lera :: \\u028aj\\u0259\", \"lera :: \\u028aj\\u0259\", \"lera :: \\u028aj\\u0259\", \"lera :: \\u028aj\\u0259\\u0281\", \"lera :: \\u028aj\\u0259\\u0281\", \"leri :: je#\", \"leri :: \\u0259\\u0281j\", \"leri :: \\u0259\\u0281j\", \"lie :: lje\", \"lie :: lje\", \"lin :: #\\u0283l\", \"lin :: #\\u0283l\", \"lin :: l\\u1ebd\\u0129\", \"lin :: l\\u1ebd\\u0129\", \"lin :: l\\u1ebd\\u0129\\u032f\", \"lin :: \\u0129\\u032fg\", \"lin :: \\u1ebd\\u0129\\u032f\", \"lin :: \\u1ebd\\u0129\\u032f\", \"lin :: \\u1ebd\\u0129\\u032fg\", \"ling :: l\\u1ebd\\u0129\", \"ling :: l\\u1ebd\\u0129\\u032f\", \"ling :: \\u0129\\u032fg\", \"ling :: \\u1ebd\\u0129\\u032f\", \"ling :: \\u1ebd\\u0129\\u032fg\", \"liq :: \\u032fbl\\u026a\", \"lis :: #f\\u026a\", \"lis :: al\\u026a\", \"lis :: al\\u026a\", \"lis :: al\\u026a\", \"lis :: al\\u026az\", \"lis :: al\\u026az\", \"lis :: al\\u026az\", \"lis :: f\\u026ana\", \"lis :: l\\u026as\", \"lis :: l\\u026as\", \"lis :: l\\u026as\", \"lis :: l\\u026as\", \"lis :: l\\u026as#\", \"lis :: l\\u026as#\", \"lis :: l\\u026az\", \"lis :: l\\u026az\", \"lis :: l\\u026az\", \"lis :: \\u026ana\", \"lis :: \\u026as#\", \"lis :: \\u026as#\", \"lit :: \\u0254\\u032fl\", \"lit :: \\u0254\\u032fl\", \"lla :: jas\", \"lla :: jas\", \"lla :: jas\", \"lla :: jas\", \"lla :: \\u026aja\", \"lla :: \\u028aja\", \"lla :: \\u028aja\", \"lla :: \\u028aja\", \"lla :: \\u028ap\\u026aj\", \"lla :: \\u028ap\\u026aj\", \"lle :: j\\u0259\\u0281\\u0254\", \"lle :: j\\u0259\\u0281\\u0254\", \"lle :: \\u0259\\u0281\\u0254\", \"lle :: \\u0259\\u0281\\u0254\", \"lle :: \\u0259\\u0281\\u0254\", \"lle :: \\u0259\\u0281\\u0254#\", \"lle :: \\u0259\\u0281\\u0254#\", \"lle :: \\u0259\\u0281\\u0254#\", \"lle :: \\u0259\\u0281\\u0254#\", \"lle :: \\u0281\\u0254#\", \"lle :: \\u0281\\u0254#\", \"lle :: \\u0281\\u0254#\", \"lle :: \\u032fla\", \"ller :: \\u0259\\u0281\\u0254\", \"ller :: \\u0259\\u0281\\u0254\", \"ller :: \\u0259\\u0281\\u0254\", \"ller :: \\u0259\\u0281\\u0254\", \"ller :: \\u0259\\u0281\\u0254#\", \"ller :: \\u0259\\u0281\\u0254#\", \"ller :: \\u0259\\u0281\\u0254#\", \"ller :: \\u026aj\\u0259\", \"ller :: \\u026aj\\u0259\", \"ller :: \\u0281\\u0254#\", \"ller :: \\u0281\\u0254#\", \"ller :: \\u0281\\u0254#\", \"llo :: \\u0254\\u032fn\", \"lonn :: \\u032fna#\", \"lter :: #al\", \"l\\u00e2t :: aj\\u0254#\", \"l\\u00e2t :: aj\\u0254#\", \"l\\u00e2t :: l\\u0251t\", \"l\\u00e2t :: l\\u0251t\", \"l\\u00e2t :: l\\u0251t\", \"l\\u00e2t :: \\u0251t#\", \"l\\u00e8re :: la\\u0281#\", \"mai :: maj\", \"mail :: ema\", \"mail :: maj\", \"man :: \\u0303m\\u0251\", \"mand :: m\\u0251\\u0303\", \"mar :: #ma\", \"mar :: #ma\", \"mar :: #ma\", \"mar :: #ma\\u0281\", \"mar :: #ma\\u0281\", \"mar :: ma\\u0281\", \"mar :: ma\\u0281\", \"mar :: ma\\u0281\", \"mar :: ma\\u0281\", \"mar :: ma\\u0281\", \"mbul :: \\u0251\\u0303b\\u028f\", \"men :: \\u0265iz\", \"mena :: as#\", \"mena :: m\\u0259na\", \"mena :: m\\u0259na\", \"mena :: \\u0259na\", \"ment :: fa\\u0281\", \"ment :: fa\\u0281\", \"ment :: m\\u0251\\u0303\", \"ment :: m\\u0251\\u0303\", \"mer :: m\\u0259\\u0281\", \"mer :: m\\u0259\\u0281\", \"mer :: m\\u0259\\u0281\", \"mer :: m\\u0259\\u0281\", \"mer :: \\u0259\\u0281a\", \"mer :: \\u0259\\u0281a\", \"mer :: \\u0259\\u0281a\", \"mero :: \\u0259\\u0281\\u00f5\", \"mes :: am#\", \"mes :: am#\", \"mes :: am#\", \"mes :: am#\", \"mes :: am#\", \"mes :: am#\", \"mes :: am#\", \"mes :: am#\", \"mes :: am#\", \"mes :: am#\", \"mes :: am#\", \"mes :: tam\", \"mes :: tam\", \"mes :: tam#\", \"mes :: tam#\", \"mes# :: am#\", \"mes# :: am#\", \"mes# :: am#\", \"mes# :: am#\", \"mes# :: am#\", \"mes# :: am#\", \"mes# :: am#\", \"mes# :: am#\", \"mes# :: am#\", \"mes# :: am#\", \"mes# :: am#\", \"mes# :: am#\", \"meu :: am\\u00f8\", \"meu :: am\\u00f8\", \"mmu :: #k\\u0251\", \"mmu :: \\u0251\\u0254\\u032f\", \"mmu :: \\u0254\\u032fm\", \"mmu :: \\u032fm\\u028f\", \"mmu :: \\u032fm\\u028fn\", \"mon :: #m\\u00f5\\u0169\", \"mor :: \\u0251\\u0254\\u032f\\u0281\", \"mp\\u00eac :: \\u0251\\u0303p\", \"mut :: \\u0281m\\u028f\", \"mut :: \\u0281m\\u028ft\", \"mut :: \\u0281m\\u028ft\", \"mute :: pa\\u0281m\", \"mute :: \\u0281m\\u028ft\", \"m\\u00e9r :: #n\\u028fm\", \"m\\u00e9r :: #n\\u028fm\", \"nai :: na#\", \"nai :: na#\", \"nai :: na#\", \"nai :: na#\", \"nai :: na#\", \"nai :: na#\", \"nai :: \\u026ana\", \"nai :: \\u026ana\", \"nai :: \\u026ana\", \"nai :: \\u026ana#\", \"nai :: \\u026ana#\", \"nai :: \\u026ana#\", \"nai :: \\u026ana#\", \"nai :: \\u026ana#\", \"nait :: \\u0254\\u032fna\", \"nal :: #f\\u026an\", \"nal :: al\\u026a\", \"nali :: f\\u026ana\", \"nali :: \\u026ana\", \"nali :: \\u026anal\", \"nass :: \\u0272as\", \"nass :: \\u0272as\", \"nass :: \\u0272as\", \"ncai :: kasa\", \"nce :: \\u00e3\\u0169\\u032f\", \"nce :: \\u00e3\\u0169\\u032fs\", \"nce :: \\u00e3\\u0169\\u032fs\", \"nce :: \\u0169\\u032fs#\", \"nch :: kl\\u0251\", \"nch :: l\\u0251\\u0303\\u0283\", \"nch :: l\\u0251\\u0303\\u0283\", \"nch :: \\u0251\\u0303\\u0283\", \"nch :: \\u0251\\u0303\\u0283\", \"nch :: \\u0251\\u0303\\u0283\", \"ncra :: \\u0251\\u0303k\\u0281\", \"ncra :: \\u0303k\\u0281\", \"nde :: \\u00e3\\u0169\\u032f\", \"nde :: \\u00e3\\u0169\\u032fd\", \"nde :: \\u0169\\u032fd\", \"nde :: \\u0169\\u032fd#\", \"nde :: \\u032fd#\", \"nde :: \\u032fd#\", \"ndes :: \\u032fd#\", \"ndi :: \\u0361zi\", \"ndo :: d\\u028aj\", \"ndr :: #\\u0251\\u0303\", \"ndr :: d\\u0281a\", \"ndr :: t\\u1ebd\\u0129\\u032f\", \"ndr :: \\u0251\\u0303d\", \"ndr :: \\u0281a#\", \"ndr :: \\u0303d\\u0281\", \"ndra :: \\u032fd\\u0281a\", \"ndra :: \\u032fd\\u0281a\", \"ne# :: an#\", \"ne# :: an#\", \"neme :: m\\u00e6\\u0303#\", \"ner :: \\u0259\\u0281\\u0254\", \"ner :: \\u0259\\u0281\\u0254\", \"ner :: \\u0259\\u0281\\u0254#\", \"nerv :: #in\", \"nfi :: k\\u00f5\\u0169\\u032f\", \"nfis :: #k\\u00f5\\u0169\", \"nfl :: \\u0251\\u0303fl\", \"nfla :: \\u0251\\u0303fl\", \"nge :: \\u00f5\\u0169\\u032f\\u0292\", \"nge :: \\u00f5\\u0169\\u032f\\u0292\", \"nge :: \\u00f5\\u0169\\u032f\\u0292\", \"ngl :: \\u0251\\u0303gl\", \"ngl :: \\u0251\\u0303gl\", \"ngla :: \\u0303gl\", \"ngla :: \\u0303gl\", \"ngu :: l\\u1ebd\\u0129\", \"ngu :: l\\u1ebd\\u0129\", \"ngu :: l\\u1ebd\\u0129\\u032f\", \"ngu :: l\\u1ebd\\u0129\\u032f\", \"ngu :: \\u0129\\u032fg\", \"ngu :: \\u0129\\u032fg\", \"ngu :: \\u1ebd\\u0129\\u032f\", \"ngu :: \\u1ebd\\u0129\\u032f\", \"ngu :: \\u1ebd\\u0129\\u032f\", \"ngu :: \\u1ebd\\u0129\\u032fg\", \"ngu :: \\u1ebd\\u0129\\u032fg\", \"ngu :: \\u1ebd\\u0129\\u032fg\", \"ngu :: \\u1ebd\\u0129\\u032fg\", \"ngua :: l\\u1ebd\\u0129\", \"ngua :: \\u1ebd\\u0129\\u032f\", \"ng\\u00e9 :: #\\u1ebd\\u0129\\u032f\", \"ng\\u00e9 :: \\u032f\\u0292e\", \"ng\\u00e9 :: \\u032f\\u0292e\", \"ng\\u00e9 :: \\u1ebd\\u0129\\u032f\", \"nie :: \\u028fni#\", \"nie :: \\u028fni#\", \"niq :: n\\u026ak\", \"niq :: n\\u026ak\", \"niq :: n\\u026ak\", \"niq :: n\\u026ak\", \"niq :: n\\u026ak#\", \"niq :: \\u026ak#\", \"niq :: \\u026ak#\", \"niq :: \\u026ak#\", \"niqu :: n\\u026ak\", \"niqu :: n\\u026ak\", \"niqu :: n\\u026ak\", \"niqu :: n\\u026ak#\", \"niqu :: n\\u026ak#\", \"niqu :: n\\u026ak#\", \"niqu :: \\u026ak#\", \"nis :: n\\u026as\", \"nis :: n\\u026as\", \"niss :: a\\u0281n\", \"niss :: n\\u026as\", \"niss :: n\\u026as\", \"niss :: \\u026asa\\u0292\", \"niss :: \\u026asa\\u0292\", \"ni\\u00e8 :: a\\u0281#\", \"ni\\u00e8 :: a\\u0281#\", \"nna :: \\u0251\\u0254\\u032f\", \"nna :: \\u0251\\u0254\\u032f\", \"nna :: \\u0251\\u0254\\u032f\", \"nna :: \\u0251\\u0254\\u032f\", \"nna :: \\u0251\\u0254\\u032f\", \"nna :: \\u0251\\u0254\\u032fn\", \"nna :: \\u0251\\u0254\\u032fn\", \"nna :: \\u0251\\u0254\\u032fn\", \"nna :: \\u0251\\u0254\\u032fn\", \"nna :: \\u0254\\u032fn\", \"nna :: \\u0254\\u032fn\", \"nna :: \\u0254\\u032fn\", \"nne :: jan\", \"nne :: jan\", \"nne :: jan#\", \"nne :: \\u0251\\u0254\\u032f\", \"nne :: \\u0251\\u0254\\u032f\", \"nne :: \\u0251\\u0254\\u032f\", \"nne :: \\u0251\\u0254\\u032f\", \"nne :: \\u0251\\u0254\\u032f\", \"nne :: \\u0251\\u0254\\u032f\", \"nne# :: jan\", \"nne# :: jan#\", \"nne# :: jan#\", \"ns# :: asj\", \"ns# :: asj\\u00f5\", \"ns# :: j\\u00f5\\u0169\", \"ns# :: j\\u00f5\\u0169\", \"ns# :: j\\u00f5\\u0169\", \"ns# :: j\\u00f5\\u0169\", \"ns# :: j\\u00f5\\u0169\", \"ns# :: j\\u00f5\\u0169\", \"ns# :: j\\u00f5\\u0169\", \"ns# :: j\\u00f5\\u0169\", \"ns# :: j\\u00f5\\u0169\\u032f\", \"ns# :: j\\u00f5\\u0169\\u032f\", \"ns# :: j\\u00f5\\u0169\\u032f\", \"ns# :: j\\u00f5\\u0169\\u032f\", \"ns# :: j\\u00f5\\u0169\\u032f\", \"ns# :: j\\u00f5\\u0169\\u032f\", \"ns# :: j\\u00f5\\u0169\\u032f\", \"ns# :: j\\u00f5\\u0169\\u032f\", \"ns# :: j\\u00f5\\u0169\\u032f\", \"ns# :: j\\u00f5\\u0169\\u032f\", \"ns# :: n\\u00f5\\u0169\", \"ns# :: sj\\u00f5\", \"ns# :: sj\\u00f5\", \"ns# :: sj\\u00f5\\u0169\", \"ns# :: sj\\u00f5\\u0169\", \"ns# :: \\u00f5\\u0169\\u032f\", \"ns# :: \\u00f5\\u0169\\u032f\", \"ns# :: \\u00f5\\u0169\\u032f\", \"ns# :: \\u00f5\\u0169\\u032f\", \"ns# :: \\u00f5\\u0169\\u032f\", \"ns# :: \\u00f5\\u0169\\u032f\", \"ns# :: \\u00f5\\u0169\\u032f\", \"ns# :: \\u00f5\\u0169\\u032f\", \"ns# :: \\u00f5\\u0169\\u032f\", \"ns# :: \\u00f5\\u0169\\u032f\", \"ns# :: \\u00f5\\u0169\\u032f\", \"ns# :: \\u00f5\\u0169\\u032f\", \"ns# :: \\u00f5\\u0169\\u032f\", \"ns# :: \\u00f5\\u0169\\u032f\", \"ns# :: \\u00f5\\u0169\\u032f\", \"ns# :: \\u00f5\\u0169\\u032f\", \"ns# :: \\u00f5\\u0169\\u032f\", \"ns# :: \\u00f5\\u0169\\u032f\", \"ns# :: \\u00f5\\u0169\\u032f#\", \"ns# :: \\u00f5\\u0169\\u032f#\", \"ns# :: \\u00f5\\u0169\\u032f#\", \"ns# :: \\u00f5\\u0169\\u032f#\", \"ns# :: \\u00f5\\u0169\\u032f#\", \"ns# :: \\u00f5\\u0169\\u032f#\", \"ns# :: \\u00f5\\u0169\\u032f#\", \"ns# :: \\u00f5\\u0169\\u032f#\", \"ns# :: \\u00f5\\u0169\\u032f#\", \"ns# :: \\u00f5\\u0169\\u032f#\", \"ns# :: \\u00f5\\u0169\\u032f#\", \"ns# :: \\u00f5\\u0169\\u032f#\", \"ns# :: \\u00f5\\u0169\\u032f#\", \"ns# :: \\u00f5\\u0169\\u032f#\", \"ns# :: \\u00f5\\u0169\\u032f#\", \"ns# :: \\u0169\\u032f#\", \"ns# :: \\u0169\\u032f#\", \"ns# :: \\u0169\\u032f#\", \"ns# :: \\u0169\\u032f#\", \"ns# :: \\u0169\\u032f#\", \"ns# :: \\u0169\\u032f#\", \"ns# :: \\u0169\\u032f#\", \"ns# :: \\u0169\\u032f#\", \"ns# :: \\u0169\\u032f#\", \"ns# :: \\u0169\\u032f#\", \"ns# :: \\u0169\\u032f#\", \"ns# :: \\u0169\\u032f#\", \"ns# :: \\u0169\\u032f#\", \"ns# :: \\u0169\\u032f#\", \"ns# :: \\u0169\\u032f#\", \"ns# :: \\u0169\\u032f#\", \"ns# :: \\u0259\\u0281j\", \"ns# :: \\u0259\\u0281j\", \"ns# :: \\u0259\\u0281j\", \"ns# :: \\u0259\\u0281\\u00f5\", \"ns# :: \\u0259\\u0281\\u00f5\", \"ns# :: \\u0259\\u0281\\u00f5\", \"ns# :: \\u0259\\u0281\\u00f5\", \"ns# :: \\u0259\\u0281\\u00f5\", \"ns# :: \\u0259\\u0281\\u00f5\\u0169\", \"ns# :: \\u0259\\u0281\\u00f5\\u0169\", \"ns# :: \\u0281j\\u00f5\\u0169\", \"ns# :: \\u0281j\\u00f5\\u0169\", \"ns# :: \\u0281\\u00f5\\u0169\", \"ns# :: \\u0281\\u00f5\\u0169\", \"ns# :: \\u0281\\u00f5\\u0169\", \"ns# :: \\u0281\\u00f5\\u0169\", \"ns# :: \\u0281\\u00f5\\u0169\", \"ns# :: \\u0281\\u00f5\\u0169\", \"ns# :: \\u0281\\u00f5\\u0169\\u032f\", \"ns# :: \\u0281\\u00f5\\u0169\\u032f\", \"ns# :: \\u0281\\u00f5\\u0169\\u032f\", \"ns# :: \\u0281\\u00f5\\u0169\\u032f\", \"ns# :: \\u0281\\u00f5\\u0169\\u032f\", \"nt# :: aja#\", \"nt# :: as#\", \"nt# :: as#\", \"nt# :: as#\", \"nt# :: as#\", \"nt# :: as#\", \"nt# :: as#\", \"nt# :: as#\", \"nt# :: as#\", \"nt# :: as#\", \"nt# :: as#\", \"nt# :: as#\", \"nt# :: as#\", \"nt# :: as#\", \"nt# :: as#\", \"nt# :: as#\", \"nt# :: a\\u0281#\", \"nt# :: a\\u0281#\", \"nt# :: a\\u0281#\", \"nt# :: a\\u0281#\", \"nt# :: a\\u0281#\", \"nt# :: a\\u0281#\", \"nt# :: a\\u0281#\", \"nt# :: a\\u0281#\", \"nt# :: a\\u0281#\", \"nt# :: a\\u0281#\", \"nt# :: a\\u0281#\", \"nt# :: da\\u0281\", \"nt# :: l\\u00e6\\u0303\", \"nt# :: l\\u00e6\\u0303\", \"nt# :: ta\\u0281\", \"nt# :: ta\\u0281\", \"nt# :: ta\\u0281\", \"nt# :: ta\\u0281\", \"nt# :: t\\u00e6\\u0303\", \"nt# :: t\\u00e6\\u0303\", \"nt# :: t\\u00e6\\u0303\", \"nt# :: t\\u00e6\\u0303#\", \"nt# :: t\\u00e6\\u0303#\", \"nt# :: t\\u00e6\\u0303#\", \"nt# :: \\u00e6\\u0303#\", \"nt# :: \\u00e6\\u0303#\", \"nt# :: \\u00e6\\u0303#\", \"nt# :: \\u00e6\\u0303#\", \"nt# :: \\u00e6\\u0303#\", \"nt# :: \\u00e6\\u0303#\", \"nt# :: \\u00e6\\u0303#\", \"nt# :: \\u00e6\\u0303#\", \"nt# :: \\u00e6\\u0303#\", \"nt# :: \\u00e6\\u0303#\", \"nt# :: \\u00e6\\u0303#\", \"nt# :: \\u00e6\\u0303#\", \"nt# :: \\u00e6\\u0303#\", \"nt# :: \\u00e6\\u0303#\", \"nt# :: \\u00e6\\u0303#\", \"nt# :: \\u00e6\\u0303#\", \"nt# :: \\u00e6\\u0303#\", \"nt# :: \\u00e6\\u0303#\", \"nt# :: \\u00e6\\u0303#\", \"nt# :: \\u00e6\\u0303#\", \"nt# :: \\u00f5\\u0169\\u032f\", \"nt# :: \\u00f5\\u0169\\u032f\", \"nt# :: \\u00f5\\u0169\\u032f\", \"nt# :: \\u00f5\\u0169\\u032f\", \"nt# :: \\u00f5\\u0169\\u032f\", \"nt# :: \\u00f5\\u0169\\u032f#\", \"nt# :: \\u00f5\\u0169\\u032f#\", \"nt# :: \\u0169\\u032f#\", \"nt# :: \\u0169\\u032f#\", \"nt# :: \\u0251\\u0254\\u032f\", \"nt# :: \\u0251\\u0254\\u032f\", \"nt# :: \\u0251\\u0254\\u032f\", \"nt# :: \\u0251\\u0254\\u032f\", \"nt# :: \\u0251\\u0254\\u032f\", \"nt# :: \\u0251\\u0254\\u032f\", \"nt# :: \\u0251\\u0254\\u032f\", \"nt# :: \\u0251\\u0254\\u032f\", \"nt# :: \\u0251\\u0254\\u032f\", \"nt# :: \\u0251\\u0254\\u032f\", \"nt# :: \\u0251\\u0254\\u032f\", \"nt# :: \\u0251\\u0254\\u032f\", \"nt# :: \\u0259\\u0281a\", \"nt# :: \\u0259\\u0281a\", \"nt# :: \\u0259\\u0281a\", \"nt# :: \\u0259\\u0281a\", \"nt# :: \\u0259\\u0281a\", \"nt# :: \\u0259\\u0281a\", \"nt# :: \\u0259\\u0281a#\", \"nt# :: \\u0259\\u0281a#\", \"nt# :: \\u0259\\u0281a#\", \"nt# :: \\u0259\\u0281a#\", \"nt# :: \\u0259\\u0281a#\", \"nt# :: \\u0259\\u0281a#\", \"nt# :: \\u0259\\u0281\\u00f5\", \"nt# :: \\u0259\\u0281\\u00f5\\u0169\", \"nt# :: \\u026afja\", \"nt# :: \\u026afja\", \"nt# :: \\u0281a#\", \"nt# :: \\u0281a#\", \"nt# :: \\u0281a#\", \"nt# :: \\u0281a#\", \"nt# :: \\u0281a#\", \"nt# :: \\u0281a#\", \"nt# :: \\u0281a#\", \"nt# :: \\u0281a#\", \"nt# :: \\u0281a#\", \"nt# :: \\u0281as\", \"nt# :: \\u0281as\", \"nt# :: \\u0281as#\", \"nt# :: \\u0281a\\u0281#\", \"nt# :: \\u0281m\\u028f\", \"nt# :: \\u0281\\u00f5\\u0169\", \"nt# :: \\u0281\\u00f5\\u0169\", \"nt# :: \\u0281\\u00f5\\u0169\\u032f\", \"nt# :: \\u0281\\u00f5\\u0169\\u032f\", \"nt# :: \\u0281\\u0251\\u0303\", \"nt# :: \\u0281\\u0251\\u0303\", \"nt# :: \\u0281\\u0251\\u0303\", \"nt# :: \\u0281\\u0251\\u0303\", \"nt# :: \\u028ftas\", \"ntas :: \\u0303ta\", \"nte :: \\u0129\\u032ft\", \"nte :: \\u0169\\u032ft#\", \"nte :: \\u0169\\u032ft#\", \"nte :: \\u0169\\u032ft#\", \"nte :: \\u0169\\u032ft#\", \"nte :: \\u0169\\u032ft#\", \"nte :: \\u0169\\u032ft#\", \"nte :: \\u0281\\u00e3\\u0169\\u032f\", \"nte :: \\u032ft#\", \"nte :: \\u032ft#\", \"nte :: \\u032ft#\", \"nte :: \\u032ft#\", \"nte :: \\u032ft#\", \"nte :: \\u032ft#\", \"nte :: \\u032ft#\", \"nte# :: \\u00e3\\u0169\\u032ft\", \"nte# :: \\u00e3\\u0169\\u032ft\", \"nte# :: \\u00e3\\u0169\\u032ft\", \"nte# :: \\u0169\\u032ft\", \"nte# :: \\u0169\\u032ft\", \"nte# :: \\u0169\\u032ft\", \"nte# :: \\u0169\\u032ft\", \"nte# :: \\u0169\\u032ft#\", \"nte# :: \\u0169\\u032ft#\", \"nte# :: \\u0169\\u032ft#\", \"nte# :: \\u032ft#\", \"nte# :: \\u032ft#\", \"nte# :: \\u032ft#\", \"nten :: #\\u1ebd\\u0129\\u032f\", \"nts :: j\\u00e6\\u0303#\", \"nts# :: m\\u00e6\\u0303#\", \"nt\\u00e2 :: at#\", \"nt\\u00e2 :: tat#\", \"nt\\u00e2m :: \\u0251\\u0303t\", \"nt\\u00e2t :: tat#\", \"nt\\u00e2t :: \\u0251\\u0303t\", \"nt\\u00e2t :: \\u0303ta\", \"nt\\u00e2t :: \\u0303tat\", \"nui :: am\\u0259n\", \"nve :: #k\\u00f5\", \"nve :: #k\\u00f5\", \"nve :: va\\u0281\", \"nve :: va\\u0281s\", \"nver :: \\u0129\\u032fva\", \"nvi :: \\u032fvj\", \"n\\u00e7a :: sas#\", \"n\\u00e9e :: \\u026ane\", \"n\\u00e9e :: \\u026ane\", \"n\\u00e9e :: \\u026ane\", \"n\\u00e9m :: anem\", \"n\\u00e9m :: anem\", \"obl :: \\u032fbl\\u026a\", \"obli :: bl\\u026a\", \"obli :: l\\u026ak\", \"obli :: l\\u026ak\", \"oca :: \\u0251\\u0254\\u032fk\", \"oca :: \\u0254\\u032fk\", \"off :: #\\u0251\\u0254\", \"off :: #\\u0251\\u0254\", \"oign :: \\u0303pw\", \"ois :: waz\", \"ois :: waz\", \"ois :: waz\\u0259\", \"omm :: #k\\u0251\", \"omm :: #k\\u0251\\u0254\", \"omm :: k\\u0251\\u0254\", \"omm :: \\u0251\\u0254\\u032fm\", \"omm :: \\u0251\\u0254\\u032fm\", \"omm :: \\u0251\\u0254\\u032fm\", \"omm :: \\u0254\\u032fm\", \"omm :: \\u0254\\u032fm\\u028f\", \"omm :: \\u032fm\\u028f\", \"ommu :: #k\\u0251\\u0254\", \"ommu :: k\\u0251\\u0254\\u032f\", \"ommu :: \\u0251\\u0254\\u032f\", \"ommu :: \\u0251\\u0254\\u032fm\", \"ompt :: \\u0169\\u032ft\", \"ong :: #\\u0281\\u00f5\", \"onn :: bal\", \"onn :: bal\", \"onn :: \\u0251\\u0254\\u032f\", \"onn :: \\u0251\\u0254\\u032f\", \"onn :: \\u0251\\u0254\\u032f\", \"onn :: \\u0251\\u0254\\u032f\", \"onn :: \\u0251\\u0254\\u032f\", \"onn :: \\u0251\\u0254\\u032f\", \"onn :: \\u0251\\u0254\\u032f\", \"onn :: \\u0251\\u0254\\u032fn\", \"onn :: \\u0251\\u0254\\u032fn\", \"onn :: \\u0251\\u0254\\u032fn\", \"onn :: \\u0251\\u0254\\u032fn\", \"onn :: \\u0251\\u0254\\u032fn\", \"onn :: \\u0251\\u0254\\u032fn\", \"onn :: \\u0251\\u0254\\u032fn\", \"onn :: \\u0251\\u0254\\u032fn\", \"onn :: \\u0251\\u0254\\u032fn\", \"onn :: \\u0251\\u0254\\u032fn\", \"onn :: \\u0254\\u032fn\", \"onn :: \\u0254\\u032fn\", \"onn :: \\u0254\\u032fn\", \"onn :: \\u0254\\u032fn\", \"onn :: \\u0254\\u032fn\", \"onn :: \\u0254\\u032fn\", \"onn :: \\u0254\\u032fn\", \"onn :: \\u0254\\u032fn\", \"onn :: \\u032fna\", \"onn :: \\u032fna\", \"onn :: \\u032fna\", \"onna :: \\u0251\\u0254\\u032f\", \"onna :: \\u0251\\u0254\\u032f\", \"onna :: \\u0251\\u0254\\u032f\", \"onna :: \\u0251\\u0254\\u032fn\", \"onna :: \\u0251\\u0254\\u032fn\", \"onna :: \\u0251\\u0254\\u032fn\", \"onna :: \\u0254\\u032fn\", \"onna :: \\u0254\\u032fn\", \"onne :: \\u0254\\u032fn\", \"onne :: \\u0254\\u032fn\", \"onne :: \\u0254\\u032fn\", \"onne :: \\u0254\\u032fn\", \"onne :: \\u0254\\u032fn\", \"ons :: asj\", \"ons :: asj\\u00f5\", \"ons :: j\\u00f5\\u0169\", \"ons :: j\\u00f5\\u0169\", \"ons :: j\\u00f5\\u0169\", \"ons :: j\\u00f5\\u0169\", \"ons :: j\\u00f5\\u0169\", \"ons :: j\\u00f5\\u0169\", \"ons :: j\\u00f5\\u0169\", \"ons :: j\\u00f5\\u0169\", \"ons :: j\\u00f5\\u0169\", \"ons :: j\\u00f5\\u0169\\u032f\", \"ons :: j\\u00f5\\u0169\\u032f\", \"ons :: j\\u00f5\\u0169\\u032f\", \"ons :: j\\u00f5\\u0169\\u032f\", \"ons :: j\\u00f5\\u0169\\u032f\", \"ons :: j\\u00f5\\u0169\\u032f\", \"ons :: j\\u00f5\\u0169\\u032f\", \"ons :: j\\u00f5\\u0169\\u032f\", \"ons :: k\\u00f5\\u0169\", \"ons :: k\\u00f5\\u0169\\u032f\", \"ons :: k\\u00f5\\u0169\\u032f\", \"ons :: sj\\u00f5\\u0169\", \"ons :: sj\\u00f5\\u0169\", \"ons :: \\u00f5\\u0169\\u032f\", \"ons :: \\u00f5\\u0169\\u032f\", \"ons :: \\u00f5\\u0169\\u032f\", \"ons :: \\u00f5\\u0169\\u032f\", \"ons :: \\u00f5\\u0169\\u032f\", \"ons :: \\u00f5\\u0169\\u032f\", \"ons :: \\u00f5\\u0169\\u032f\", \"ons :: \\u00f5\\u0169\\u032f\", \"ons :: \\u00f5\\u0169\\u032f\", \"ons :: \\u00f5\\u0169\\u032f\", \"ons :: \\u00f5\\u0169\\u032f\", \"ons :: \\u00f5\\u0169\\u032f\", \"ons :: \\u00f5\\u0169\\u032f\", \"ons :: \\u00f5\\u0169\\u032f\", \"ons :: \\u00f5\\u0169\\u032f\", \"ons :: \\u00f5\\u0169\\u032f#\", \"ons :: \\u00f5\\u0169\\u032f#\", \"ons :: \\u00f5\\u0169\\u032f#\", \"ons :: \\u00f5\\u0169\\u032f#\", \"ons :: \\u00f5\\u0169\\u032f#\", \"ons :: \\u00f5\\u0169\\u032f#\", \"ons :: \\u00f5\\u0169\\u032f#\", \"ons :: \\u00f5\\u0169\\u032f#\", \"ons :: \\u00f5\\u0169\\u032f#\", \"ons :: \\u00f5\\u0169\\u032f#\", \"ons :: \\u00f5\\u0169\\u032f#\", \"ons :: \\u00f5\\u0169\\u032f#\", \"ons :: \\u00f5\\u0169\\u032f#\", \"ons :: \\u00f5\\u0169\\u032f#\", \"ons :: \\u00f5\\u0169\\u032f#\", \"ons :: \\u00f5\\u0169\\u032f#\", \"ons :: \\u00f5\\u0169\\u032f#\", \"ons :: \\u0169\\u032f#\", \"ons :: \\u0169\\u032f#\", \"ons :: \\u0169\\u032f#\", \"ons :: \\u0169\\u032f#\", \"ons :: \\u0169\\u032f#\", \"ons :: \\u0169\\u032f#\", \"ons :: \\u0169\\u032f#\", \"ons :: \\u0169\\u032f#\", \"ons :: \\u0169\\u032f#\", \"ons :: \\u0169\\u032f#\", \"ons :: \\u0169\\u032f#\", \"ons :: \\u0169\\u032f#\", \"ons :: \\u0169\\u032f#\", \"ons :: \\u0169\\u032f#\", \"ons :: \\u0169\\u032f#\", \"ons :: \\u0169\\u032f#\", \"ons :: \\u0259\\u0281\\u00f5\", \"ons :: \\u0259\\u0281\\u00f5\", \"ons :: \\u0259\\u0281\\u00f5\\u0169\", \"ons :: \\u0259\\u0281\\u00f5\\u0169\", \"ons :: \\u0281j\\u00f5\\u0169\", \"ons :: \\u0281j\\u00f5\\u0169\", \"ons :: \\u0281\\u00f5\\u0169\", \"ons :: \\u0281\\u00f5\\u0169\", \"ons :: \\u0281\\u00f5\\u0169\", \"ons :: \\u0281\\u00f5\\u0169\", \"ons :: \\u0281\\u00f5\\u0169\", \"ons :: \\u0281\\u00f5\\u0169\", \"ons :: \\u0281\\u00f5\\u0169\\u032f\", \"ons :: \\u0281\\u00f5\\u0169\\u032f\", \"ons :: \\u0281\\u00f5\\u0169\\u032f\", \"ons :: \\u0281\\u00f5\\u0169\\u032f\", \"ons :: \\u0281\\u00f5\\u0169\\u032f\", \"ons :: \\u0281\\u00f5\\u0169\\u032f\", \"ons# :: asj\", \"ons# :: asj\", \"ons# :: asj\\u00f5\", \"ons# :: f\\u026al\", \"ons# :: j\\u00f5\\u0169\", \"ons# :: j\\u00f5\\u0169\", \"ons# :: j\\u00f5\\u0169\", \"ons# :: j\\u00f5\\u0169\", \"ons# :: j\\u00f5\\u0169\", \"ons# :: j\\u00f5\\u0169\", \"ons# :: j\\u00f5\\u0169\", \"ons# :: j\\u00f5\\u0169\", \"ons# :: j\\u00f5\\u0169\\u032f\", \"ons# :: j\\u00f5\\u0169\\u032f\", \"ons# :: j\\u00f5\\u0169\\u032f\", \"ons# :: j\\u00f5\\u0169\\u032f\", \"ons# :: j\\u00f5\\u0169\\u032f\", \"ons# :: j\\u00f5\\u0169\\u032f\", \"ons# :: j\\u00f5\\u0169\\u032f\", \"ons# :: j\\u00f5\\u0169\\u032f\", \"ons# :: sj\\u00f5\\u0169\", \"ons# :: sj\\u00f5\\u0169\", \"ons# :: z\\u0259\\u0281j\", \"ons# :: \\u00f5\\u0169\\u032f\", \"ons# :: \\u00f5\\u0169\\u032f\", \"ons# :: \\u00f5\\u0169\\u032f\", \"ons# :: \\u00f5\\u0169\\u032f\", \"ons# :: \\u00f5\\u0169\\u032f\", \"ons# :: \\u00f5\\u0169\\u032f\", \"ons# :: \\u00f5\\u0169\\u032f\", \"ons# :: \\u00f5\\u0169\\u032f\", \"ons# :: \\u00f5\\u0169\\u032f\", \"ons# :: \\u00f5\\u0169\\u032f\", \"ons# :: \\u00f5\\u0169\\u032f\", \"ons# :: \\u00f5\\u0169\\u032f\", \"ons# :: \\u00f5\\u0169\\u032f\", \"ons# :: \\u00f5\\u0169\\u032f\", \"ons# :: \\u00f5\\u0169\\u032f\", \"ons# :: \\u00f5\\u0169\\u032f#\", \"ons# :: \\u00f5\\u0169\\u032f#\", \"ons# :: \\u00f5\\u0169\\u032f#\", \"ons# :: \\u00f5\\u0169\\u032f#\", \"ons# :: \\u00f5\\u0169\\u032f#\", \"ons# :: \\u00f5\\u0169\\u032f#\", \"ons# :: \\u00f5\\u0169\\u032f#\", \"ons# :: \\u00f5\\u0169\\u032f#\", \"ons# :: \\u00f5\\u0169\\u032f#\", \"ons# :: \\u00f5\\u0169\\u032f#\", \"ons# :: \\u00f5\\u0169\\u032f#\", \"ons# :: \\u00f5\\u0169\\u032f#\", \"ons# :: \\u00f5\\u0169\\u032f#\", \"ons# :: \\u00f5\\u0169\\u032f#\", \"ons# :: \\u00f5\\u0169\\u032f#\", \"ons# :: \\u0169\\u032f#\", \"ons# :: \\u0169\\u032f#\", \"ons# :: \\u0169\\u032f#\", \"ons# :: \\u0169\\u032f#\", \"ons# :: \\u0169\\u032f#\", \"ons# :: \\u0169\\u032f#\", \"ons# :: \\u0169\\u032f#\", \"ons# :: \\u0169\\u032f#\", \"ons# :: \\u0169\\u032f#\", \"ons# :: \\u0169\\u032f#\", \"ons# :: \\u0169\\u032f#\", \"ons# :: \\u0169\\u032f#\", \"ons# :: \\u0169\\u032f#\", \"ons# :: \\u0169\\u032f#\", \"ons# :: \\u0169\\u032f#\", \"ons# :: \\u0169\\u032f#\", \"ons# :: \\u0259\\u0281j\", \"ons# :: \\u0259\\u0281j\\u00f5\", \"ons# :: \\u0259\\u0281j\\u00f5\", \"ons# :: \\u0259\\u0281\\u00f5\", \"ons# :: \\u0259\\u0281\\u00f5\", \"ons# :: \\u0259\\u0281\\u00f5\", \"ons# :: \\u0259\\u0281\\u00f5\", \"ons# :: \\u0259\\u0281\\u00f5\\u0169\", \"ons# :: \\u0259\\u0281\\u00f5\\u0169\", \"ons# :: \\u0259\\u0281\\u00f5\\u0169\", \"ons# :: \\u0281\\u00f5\\u0169\", \"ons# :: \\u0281\\u00f5\\u0169\", \"ons# :: \\u0281\\u00f5\\u0169\", \"ons# :: \\u0281\\u00f5\\u0169\", \"ons# :: \\u0281\\u00f5\\u0169\", \"ons# :: \\u0281\\u00f5\\u0169\", \"ons# :: \\u0281\\u00f5\\u0169\", \"ons# :: \\u0281\\u00f5\\u0169\\u032f\", \"ons# :: \\u0281\\u00f5\\u0169\\u032f\", \"ons# :: \\u0281\\u00f5\\u0169\\u032f\", \"ons# :: \\u0281\\u00f5\\u0169\\u032f\", \"ons# :: \\u0281\\u00f5\\u0169\\u032f\", \"ons# :: \\u0281\\u00f5\\u0169\\u032f\", \"ont :: #k\\u00f5\", \"ont :: #k\\u00f5\", \"ont :: #k\\u00f5\", \"ont :: \\u00f5\\u0169\\u032f#\", \"ont :: \\u00f5\\u0169\\u032f#\", \"ont :: \\u00f5\\u0169\\u032ft\", \"ont :: \\u00f5\\u0169\\u032ft\", \"ont :: \\u00f5\\u0169\\u032ft\", \"ont :: \\u00f5\\u0169\\u032ft\", \"ont :: \\u00f5\\u0169\\u032ft\", \"ont :: \\u0169\\u032f#\", \"ont :: \\u0169\\u032f#\", \"ont :: \\u0169\\u032ft\", \"ont :: \\u0169\\u032ft\", \"ont :: \\u0169\\u032ft\", \"ont :: \\u0169\\u032ft\", \"ont :: \\u0259\\u0281\\u00f5\", \"ont :: \\u0259\\u0281\\u00f5\", \"ont :: \\u0259\\u0281\\u00f5\\u0169\", \"ont :: \\u0281ak\\u00f5\", \"ont :: \\u0281\\u00f5\\u0169\", \"ont :: \\u0281\\u00f5\\u0169\\u032f\", \"ont :: \\u032ft\\u0281\", \"ont# :: \\u00f5\\u0169\\u032f\", \"ont# :: \\u00f5\\u0169\\u032f\", \"ont# :: \\u00f5\\u0169\\u032f\", \"ont# :: \\u00f5\\u0169\\u032f#\", \"ont# :: \\u00f5\\u0169\\u032f#\", \"ont# :: \\u00f5\\u0169\\u032f#\", \"ont# :: \\u00f5\\u0169\\u032f#\", \"ont# :: \\u0169\\u032f#\", \"ont# :: \\u0169\\u032f#\", \"ont# :: \\u0259\\u0281\\u00f5\", \"ont# :: \\u0259\\u0281\\u00f5\\u0169\", \"ont# :: \\u0281\\u00f5\\u0169\", \"ont# :: \\u0281\\u00f5\\u0169\", \"ont# :: \\u0281\\u00f5\\u0169\\u032f\", \"ont# :: \\u0281\\u00f5\\u0169\\u032f\", \"onv :: #k\\u00f5\", \"onv :: #k\\u00f5\\u0169\", \"onv :: k\\u00f5\\u0169\\u032f\", \"onv :: \\u0169\\u032fv\", \"onv :: \\u0169\\u032fv\", \"opin :: \\u032fp\\u026a\", \"opo :: \\u0254\\u032fpo\", \"oque :: \\u0251\\u0254\\u032f\", \"ore :: \\u0251\\u0254\\u032f\", \"ore :: \\u0251\\u0254\\u032f\\u0281\", \"ors :: \\u0254\\u032f\\u0281\", \"ort :: \\u032f\\u0281t\", \"ort :: \\u032f\\u0281t\", \"orta :: p\\u0251\\u0254\", \"ota :: \\u0251\\u0254\\u032f\", \"ota :: \\u0251\\u0254\\u032f\", \"ota :: \\u0251\\u0254\\u032f\", \"ota :: \\u0251\\u0254\\u032ft\", \"ota :: \\u0251\\u0254\\u032ft\", \"ota :: \\u0251\\u0254\\u032ft\", \"ota :: \\u0251\\u0254\\u032ft\", \"ota :: \\u0254\\u032ft\", \"ota :: \\u0254\\u032ft\", \"ota :: \\u0254\\u032ft\", \"ota :: \\u0254\\u032ft\", \"ota :: \\u0254\\u032ft\\u0254\", \"ota :: \\u0254\\u032ft\\u0254\", \"ota :: \\u032ft\\u0254\", \"ota :: \\u032ft\\u0254\", \"otas :: \\u0254\\u032ft\", \"oubl :: \\u0259d\\u028ab\", \"oufr :: f\\u0281\\u028a\", \"oufr :: \\u0281\\u028af\", \"oui :: f\\u028aj\", \"oui :: z\\u028aj\", \"oui :: \\u0259\\u0281\\u0254#\", \"oui :: \\u0281\\u0254#\", \"oui :: \\u0281\\u028aj\", \"oui :: \\u0281\\u028aj\", \"oui :: \\u028aja\", \"oui :: \\u028aja\", \"oui :: \\u028aja\", \"oui :: \\u028aja\", \"oui :: \\u028aja#\", \"ouil :: fa\\u0281f\", \"ouil :: \\u0259\\u0281\\u0254#\", \"ouil :: \\u0281\\u0254#\", \"ouil :: \\u0281\\u028aj\", \"ouil :: \\u0281\\u028aj\", \"oup :: \\u028ap\\u026aj\", \"oupi :: g\\u028ap\\u026a\", \"oupi :: \\u028ap\\u026aj\", \"oupi :: \\u028ap\\u026aj\", \"our :: #a\\u0292\", \"our :: #de\", \"our :: #de\", \"our :: #k\\u028a\", \"our :: #k\\u028a\", \"our :: waz\", \"our :: waz\", \"oura :: \\u028a\\u0281a\", \"oura :: \\u028a\\u0281a\", \"ouv :: k\\u028av\", \"par :: apa\", \"par :: apa\\u0281\", \"par :: a\\u0281v\", \"par :: pa\\u0281\", \"par :: pa\\u0281\", \"par :: pa\\u0281\", \"par :: pa\\u0281\", \"par :: pa\\u0281\", \"par :: pa\\u0281\", \"par :: pa\\u0281\", \"par :: pa\\u0281\", \"par :: pa\\u0281\", \"par :: pa\\u0281\", \"pare :: apa\", \"pare :: apa\", \"pare :: pa\\u0281a\", \"pare :: pa\\u0281a\", \"pay :: eja\", \"pa\\u00e7 :: #as\", \"pa\\u00e7 :: #as\", \"per :: \\u0281m\\u028f\", \"perm :: #pa\", \"perm :: #pa\", \"perm :: #pa\", \"perm :: #pa\", \"perm :: \\u0281m\\u028f\", \"pill :: p\\u026aj\", \"pir :: \\u026a\\u0281a#\", \"pol :: \\u0254\\u032fl\", \"pol :: \\u0254\\u032fl\", \"pos :: \\u0254\\u032fst\", \"ppa :: #apa\", \"ppa :: #apa\", \"ppa :: apa\\u0281\", \"ppa :: pa\\u0281\", \"ppar :: #ap\", \"ppar :: #ap\", \"ppar :: apa\", \"ppar :: pa\\u0281\", \"ppau :: apov\", \"pro :: #p\\u0281\\u0251\", \"pro :: p\\u0281\\u0251\", \"pro :: p\\u0281\\u0251\\u0254\", \"pro :: \\u0281\\u0251\\u0254\", \"pro :: \\u0281\\u0251\\u0254\\u032f\", \"p\\u00e9t :: pet\", \"p\\u00e9t :: pet\", \"p\\u00e9t :: pet\\u0281\", \"que :: #a\\u0281\", \"que :: n\\u026ak\", \"que :: n\\u026ak\", \"que :: n\\u026ak\", \"que :: n\\u026ak#\", \"que :: t\\u0361s\\u026a\", \"que :: \\u026ak#\", \"que :: \\u026ak#\", \"que :: \\u026ak#\", \"que# :: n\\u026ak#\", \"que# :: \\u026ak#\", \"que# :: \\u026ak#\", \"quer :: ask\", \"quer :: k\\u0259\\u0281\", \"quer :: k\\u0259\\u0281\", \"quer :: k\\u0259\\u0281\", \"ra# :: j\\u0259\\u0281\\u0254\", \"ra# :: j\\u0259\\u0281\\u0254\", \"ra# :: \\u0259\\u0281\\u0254\", \"ra# :: \\u0259\\u0281\\u0254\", \"ra# :: \\u0259\\u0281\\u0254\", \"ra# :: \\u0259\\u0281\\u0254\", \"ra# :: \\u0259\\u0281\\u0254\", \"ra# :: \\u0259\\u0281\\u0254\", \"ra# :: \\u0259\\u0281\\u0254\", \"ra# :: \\u0259\\u0281\\u0254\", \"ra# :: \\u0259\\u0281\\u0254\", \"ra# :: \\u0259\\u0281\\u0254\", \"ra# :: \\u0259\\u0281\\u0254#\", \"ra# :: \\u0259\\u0281\\u0254#\", \"ra# :: \\u0259\\u0281\\u0254#\", \"ra# :: \\u0259\\u0281\\u0254#\", \"ra# :: \\u0259\\u0281\\u0254#\", \"ra# :: \\u0259\\u0281\\u0254#\", \"ra# :: \\u0259\\u0281\\u0254#\", \"ra# :: \\u0259\\u0281\\u0254#\", \"ra# :: \\u0259\\u0281\\u0254#\", \"ra# :: \\u0259\\u0281\\u0254#\", \"ra# :: \\u0259\\u0281\\u0254#\", \"ra# :: \\u0259\\u0281\\u0254#\", \"ra# :: \\u0259\\u0281\\u0254#\", \"ra# :: \\u0281\\u0254#\", \"ra# :: \\u0281\\u0254#\", \"ra# :: \\u0281\\u0254#\", \"ra# :: \\u0281\\u0254#\", \"ra# :: \\u0281\\u0254#\", \"ra# :: \\u0281\\u0254#\", \"ra# :: \\u0281\\u0254#\", \"ra# :: \\u0281\\u0254#\", \"ra# :: \\u0281\\u0254#\", \"ra# :: \\u0281\\u0254#\", \"ra# :: \\u0281\\u0254#\", \"ra# :: \\u0281\\u0254#\", \"ra# :: \\u0281\\u0254#\", \"ra# :: \\u0281\\u0254#\", \"ra# :: \\u0281\\u0254#\", \"ra# :: \\u0281\\u0254#\", \"ra# :: \\u0281\\u0254#\", \"ract :: f\\u0281ak\", \"ract :: \\u0281ak\", \"ract :: \\u0281ak\", \"rad :: g\\u0281ad\", \"rai :: #t\\u028a\", \"rai :: #t\\u028a\", \"rai :: av\\u026a\", \"rai :: d\\u0259\\u0281\", \"rai :: d\\u0259\\u0281a\", \"rai :: l\\u0259\\u0281a\", \"rai :: l\\u0259\\u0281a\", \"rai :: l\\u0259\\u0281a\", \"rai :: t\\u0259\\u0281a\", \"rai :: t\\u0259\\u0281a\", \"rai :: t\\u0259\\u0281a\", \"rai :: \\u0259\\u0281a\", \"rai :: \\u0259\\u0281a\", \"rai :: \\u0259\\u0281a\", \"rai :: \\u0259\\u0281a\", \"rai :: \\u0259\\u0281a\", \"rai :: \\u0259\\u0281a\", \"rai :: \\u0259\\u0281a\", \"rai :: \\u0259\\u0281a\", \"rai :: \\u0259\\u0281a\", \"rai :: \\u0259\\u0281a\", \"rai :: \\u0259\\u0281a\", \"rai :: \\u0259\\u0281a\", \"rai :: \\u0259\\u0281a\", \"rai :: \\u0259\\u0281a\", \"rai :: \\u0259\\u0281a\", \"rai :: \\u0259\\u0281a\", \"rai :: \\u0259\\u0281a#\", \"rai :: \\u0259\\u0281a#\", \"rai :: \\u0259\\u0281a#\", \"rai :: \\u0259\\u0281a#\", \"rai :: \\u0259\\u0281a#\", \"rai :: \\u0259\\u0281a#\", \"rai :: \\u0259\\u0281a#\", \"rai :: \\u0259\\u0281a#\", \"rai :: \\u0259\\u0281a#\", \"rai :: \\u0259\\u0281a#\", \"rai :: \\u0259\\u0281a#\", \"rai :: \\u0259\\u0281a#\", \"rai :: \\u0259\\u0281a#\", \"rai :: \\u0259\\u0281a#\", \"rai :: \\u0259\\u0281a#\", \"rai :: \\u026a\\u0281a\", \"rai :: \\u026a\\u0281a\", \"rai :: \\u026a\\u0281a\", \"rai :: \\u026a\\u0281a\", \"rai :: \\u026a\\u0281a\", \"rai :: \\u026a\\u0281a#\", \"rai :: \\u026a\\u0281a#\", \"rai :: \\u026a\\u0281a#\", \"rai :: \\u026a\\u0281\\u0259\", \"rai :: \\u026a\\u0281\\u0259\", \"rai :: \\u0281a#\", \"rai :: \\u0281a#\", \"rai :: \\u0281a#\", \"rai :: \\u0281a#\", \"rai :: \\u0281a#\", \"rai :: \\u0281a#\", \"rai :: \\u0281a#\", \"rai :: \\u0281a#\", \"rai :: \\u0281a#\", \"rai :: \\u0281a#\", \"rai :: \\u0281a#\", \"rai :: \\u0281a#\", \"rai :: \\u0281a#\", \"rai :: \\u0281a#\", \"rai :: \\u0281a#\", \"rai :: \\u0281a#\", \"rai :: \\u0281a#\", \"rai :: \\u0281a#\", \"rai :: \\u0281a#\", \"rai :: \\u0281a#\", \"rai :: \\u0281a#\", \"rai :: \\u0281a#\", \"rai :: \\u0281a#\", \"rai :: \\u0281\\u026a\\u0281a\", \"rai :: \\u0281\\u026a\\u0281a\", \"rai :: \\u0283\\u0259\\u0281\", \"rai :: \\u0283\\u0259\\u0281a\", \"rai :: \\u032fd\\u0281a\", \"rai# :: d\\u0259\\u0281a\", \"rai# :: d\\u0259\\u0281a\", \"rai# :: \\u026an\\u0259\\u0281\", \"raie :: \\u0259\\u0281a\", \"raie :: \\u0259\\u0281a\", \"raie :: \\u0259\\u0281a\", \"raie :: \\u0259\\u0281a\", \"raie :: \\u0259\\u0281a\", \"raie :: \\u0259\\u0281a\", \"raie :: \\u0259\\u0281a#\", \"raie :: \\u0259\\u0281a#\", \"raie :: \\u0259\\u0281a#\", \"raie :: \\u0259\\u0281a#\", \"raie :: \\u0259\\u0281a#\", \"raie :: \\u0259\\u0281a#\", \"raie :: \\u0281a#\", \"raie :: \\u0281a#\", \"raie :: \\u0281a#\", \"raie :: \\u0281a#\", \"raie :: \\u0281a#\", \"raie :: \\u0281a#\", \"raie :: \\u0281a#\", \"raie :: \\u0281a#\", \"raie :: \\u0281a#\", \"raie :: \\u0281a#\", \"rais :: \\u0259\\u0281a#\", \"rais :: \\u0259\\u0281a#\", \"rais :: \\u0259\\u0281a#\", \"rais :: \\u0259\\u0281a#\", \"rais :: \\u0259\\u0281a#\", \"rais :: \\u0259\\u0281a#\", \"rais :: \\u0259\\u0281a#\", \"rais :: \\u0259\\u0281a#\", \"rais :: \\u0259\\u0281a#\", \"rais :: \\u026az\\u0259\", \"rais :: \\u026az\\u0259\", \"rait :: l\\u0259\\u0281a\", \"rait :: \\u0259\\u0281a\", \"rait :: \\u0259\\u0281a\", \"rait :: \\u0259\\u0281a\", \"rait :: \\u0259\\u0281a\", \"rait :: \\u0259\\u0281a\", \"rait :: \\u0259\\u0281a\", \"rait :: \\u0259\\u0281a\", \"rait :: \\u0259\\u0281a\", \"rait :: \\u0259\\u0281a\", \"rait :: \\u0259\\u0281a#\", \"rait :: \\u0259\\u0281a#\", \"rait :: \\u0259\\u0281a#\", \"rait :: \\u0259\\u0281a#\", \"rait :: \\u0259\\u0281a#\", \"rait :: \\u0259\\u0281a#\", \"rait :: \\u0259\\u0281a#\", \"rait :: \\u0259\\u0281a#\", \"rait :: \\u0281a#\", \"rait :: \\u0281a#\", \"rait :: \\u0281a#\", \"rait :: \\u0281a#\", \"rait :: \\u0281a#\", \"rait :: \\u0281a#\", \"rait :: \\u0281a#\", \"rait :: \\u0281a#\", \"rait :: \\u0281a#\", \"rait :: \\u0281a#\", \"rait :: \\u0281a#\", \"ran :: #\\u0251\\u0303\", \"ras :: l\\u0259\\u0281\", \"ras :: l\\u0259\\u0281\", \"ras :: l\\u0259\\u0281\", \"ras :: l\\u0259\\u0281\\u0254\", \"ras :: l\\u0259\\u0281\\u0254\", \"ras :: l\\u0259\\u0281\\u0254\", \"ras :: z\\u0259\\u0281\\u0254\", \"ras :: z\\u0259\\u0281\\u0254\", \"ras :: \\u0259\\u0281\\u0254\", \"ras :: \\u0259\\u0281\\u0254\", \"ras :: \\u0259\\u0281\\u0254\", \"ras :: \\u0259\\u0281\\u0254\", \"ras :: \\u0259\\u0281\\u0254\", \"ras :: \\u0259\\u0281\\u0254\", \"ras :: \\u0259\\u0281\\u0254\", \"ras :: \\u0259\\u0281\\u0254\", \"ras :: \\u0259\\u0281\\u0254\", \"ras :: \\u0259\\u0281\\u0254\", \"ras :: \\u0259\\u0281\\u0254#\", \"ras :: \\u0259\\u0281\\u0254#\", \"ras :: \\u0259\\u0281\\u0254#\", \"ras :: \\u0259\\u0281\\u0254#\", \"ras :: \\u0259\\u0281\\u0254#\", \"ras :: \\u0259\\u0281\\u0254#\", \"ras :: \\u0259\\u0281\\u0254#\", \"ras :: \\u0259\\u0281\\u0254#\", \"ras :: \\u0259\\u0281\\u0254#\", \"ras :: \\u0259\\u0281\\u0254#\", \"ras :: \\u0259\\u0281\\u0254#\", \"ras :: \\u0259\\u0281\\u0254#\", \"ras :: \\u0281\\u0254#\", \"ras :: \\u0281\\u0254#\", \"ras :: \\u0281\\u0254#\", \"ras :: \\u0281\\u0254#\", \"ras :: \\u0281\\u0254#\", \"ras :: \\u0281\\u0254#\", \"ras :: \\u0281\\u0254#\", \"ras :: \\u0281\\u0254#\", \"ras :: \\u0281\\u0254#\", \"ras :: \\u0281\\u0254#\", \"ras :: \\u0281\\u0254#\", \"ras :: \\u0281\\u0254#\", \"ras :: \\u0281\\u0254#\", \"ras :: \\u0281\\u0254#\", \"ras :: \\u0281\\u0254#\", \"ras :: \\u0281\\u0254#\", \"ras :: \\u0281\\u0254#\", \"ras# :: l\\u0259\\u0281\", \"ras# :: l\\u0259\\u0281\", \"ras# :: l\\u0259\\u0281\", \"ras# :: l\\u0259\\u0281\\u0254\", \"ras# :: l\\u0259\\u0281\\u0254\", \"ras# :: \\u0259\\u0281\\u0254\", \"ras# :: \\u0259\\u0281\\u0254\", \"ras# :: \\u0259\\u0281\\u0254\", \"ras# :: \\u0259\\u0281\\u0254\", \"ras# :: \\u0259\\u0281\\u0254\", \"ras# :: \\u0259\\u0281\\u0254\", \"ras# :: \\u0259\\u0281\\u0254\", \"ras# :: \\u0259\\u0281\\u0254\", \"ras# :: \\u0259\\u0281\\u0254\", \"ras# :: \\u0259\\u0281\\u0254\", \"ras# :: \\u0259\\u0281\\u0254\", \"ras# :: \\u0259\\u0281\\u0254\", \"ras# :: \\u0259\\u0281\\u0254#\", \"ras# :: \\u0259\\u0281\\u0254#\", \"ras# :: \\u0259\\u0281\\u0254#\", \"ras# :: \\u0259\\u0281\\u0254#\", \"ras# :: \\u0259\\u0281\\u0254#\", \"ras# :: \\u0259\\u0281\\u0254#\", \"ras# :: \\u0259\\u0281\\u0254#\", \"ras# :: \\u0259\\u0281\\u0254#\", \"ras# :: \\u0259\\u0281\\u0254#\", \"ras# :: \\u0259\\u0281\\u0254#\", \"ras# :: \\u0259\\u0281\\u0254#\", \"ras# :: \\u0259\\u0281\\u0254#\", \"ras# :: \\u0259\\u0281\\u0254#\", \"ras# :: \\u0281\\u0254#\", \"ras# :: \\u0281\\u0254#\", \"ras# :: \\u0281\\u0254#\", \"ras# :: \\u0281\\u0254#\", \"ras# :: \\u0281\\u0254#\", \"ras# :: \\u0281\\u0254#\", \"ras# :: \\u0281\\u0254#\", \"ras# :: \\u0281\\u0254#\", \"ras# :: \\u0281\\u0254#\", \"ras# :: \\u0281\\u0254#\", \"ras# :: \\u0281\\u0254#\", \"ras# :: \\u0281\\u0254#\", \"ras# :: \\u0281\\u0254#\", \"ras# :: \\u0281\\u0254#\", \"ras# :: \\u0281\\u0254#\", \"rass :: b\\u0281a\", \"rass :: b\\u0281a\", \"rass :: b\\u0281a\", \"rass :: b\\u0281a\", \"rass :: \\u0281as\", \"rass :: \\u0281as\", \"rass :: \\u0281as\", \"rass :: \\u0281as\", \"rass :: \\u0281as\", \"rass :: \\u0281as\", \"rass :: \\u0281as\", \"rass :: \\u0281as\", \"rass :: \\u0281as\", \"rass :: \\u0281as\", \"rass :: \\u0281as\", \"rav :: \\u0281av\", \"rav :: \\u0281av\", \"rav :: \\u0281av\", \"rav :: \\u0281av\", \"rav :: \\u0281av\", \"rav :: \\u0281av\", \"rav :: \\u0281av\", \"ra\\u00ee :: t\\u0281an\", \"rch :: #ma\\u0281\", \"rc\\u00e9 :: a\\u0281s\", \"rec :: #\\u0281\\u0259\", \"rec :: #\\u0281\\u0259\", \"rec :: #\\u0281\\u0259\", \"rec :: #\\u0281\\u0259\", \"rec :: #\\u0281\\u0259\", \"rec :: #\\u0281\\u0259\\u0283\", \"rec :: #\\u0281\\u0259\\u0283\", \"rec :: #\\u0281\\u0259\\u0283\", \"rec :: \\u0281\\u0259k\", \"rec :: \\u0281\\u0259k\", \"rec :: \\u0281\\u0259k\", \"rec :: \\u0281\\u0259k\", \"rec :: \\u0281\\u0259k\", \"rec :: \\u0281\\u0259\\u0283\", \"rec :: \\u0281\\u0259\\u0283\", \"rec :: \\u0281\\u0259\\u0283\", \"rech :: #\\u0281\\u0259\\u0283\", \"rech :: #\\u0281\\u0259\\u0283\", \"rech :: \\u0281\\u0259\\u0283\", \"rech :: \\u0281\\u0259\\u0283\", \"reco :: \\u0281\\u0259k\", \"reco :: \\u0281\\u0259k\", \"red :: d\\u028abl\", \"rema :: manj\", \"ren :: a\\u0281#\", \"ren :: a\\u0281#\", \"ren :: a\\u0281#\", \"ren :: a\\u0281#\", \"ren :: a\\u0281#\", \"ren :: a\\u0281#\", \"ren :: a\\u0281#\", \"ren :: a\\u0281#\", \"ren :: a\\u0281#\", \"ren :: a\\u0281#\", \"ren :: a\\u0281#\", \"ren :: a\\u0281#\", \"ren :: ta\\u0281\", \"ren :: ta\\u0281#\", \"ren :: ta\\u0281#\", \"ren :: ta\\u0281#\", \"rent :: a\\u0281#\", \"rent :: a\\u0281#\", \"rent :: a\\u0281#\", \"rent :: a\\u0281#\", \"rent :: a\\u0281#\", \"rent :: a\\u0281#\", \"rent :: a\\u0281#\", \"rent :: a\\u0281#\", \"rent :: a\\u0281#\", \"rent :: a\\u0281#\", \"rent :: a\\u0281#\", \"rent :: a\\u0281#\", \"rent :: na\\u0281#\", \"rent :: na\\u0281#\", \"rent :: ta\\u0281\", \"rent :: \\u0254\\u032fp\", \"rent :: \\u0254\\u032fp\", \"rent :: \\u0254\\u032fp\", \"rent :: \\u0281a\\u0281#\", \"rent :: \\u0281a\\u0281#\", \"rent :: \\u0281a\\u0281#\", \"rep\\u00e9 :: #\\u0281\\u0259\", \"rer :: a\\u0281\\u0259\\u0281\", \"rer :: a\\u0281\\u0259\\u0281\", \"rer :: a\\u0281\\u0259\\u0281\", \"rer :: a\\u0281\\u0259\\u0281\", \"rer :: \\u0281\\u0259\\u0281\", \"rer :: \\u0281\\u0259\\u0281\", \"rer :: \\u0281\\u0259\\u0281\", \"rer :: \\u0281\\u0259\\u0281\", \"rer :: \\u0281\\u0259\\u0281\", \"rer :: \\u0281\\u0259\\u0281\", \"rer :: \\u0281\\u0259\\u0281\", \"rer :: \\u0281\\u0259\\u0281\", \"rer :: \\u0281\\u0259\\u0281\", \"rer :: \\u0281\\u0259\\u0281\", \"rer :: \\u0281\\u0259\\u0281\", \"rera :: \\u0281\\u0259\\u0281a\", \"rera :: \\u0281\\u0259\\u0281a\", \"rera :: \\u0281\\u0259\\u0281a\", \"rera :: \\u0281\\u0259\\u0281a\", \"rera :: \\u0281\\u0259\\u0281a\", \"rere :: \\u0281e#\", \"rere :: \\u0281e#\", \"res :: asje\", \"res :: a\\u0281#\", \"res :: a\\u0281#\", \"res :: sje#\", \"res# :: a\\u0281#\", \"res# :: a\\u0281#\", \"res# :: a\\u0281#\", \"res# :: a\\u0281#\", \"res# :: ja\\u0281\", \"res# :: ja\\u0281\", \"ress :: p\\u0281es\", \"ress :: p\\u0281es\", \"rev :: #\\u0281\\u0259\", \"rev :: #\\u0281\\u0259\", \"reva :: \\u0281\\u0259v\", \"reve :: \\u0281\\u0259v\", \"rez :: \\u0259\\u0281e\", \"rez :: \\u0259\\u0281e\", \"rez :: \\u0259\\u0281e\", \"rez :: \\u0259\\u0281e\", \"rez :: \\u0259\\u0281e\", \"rez :: \\u0259\\u0281e\", \"rez :: \\u0259\\u0281e\", \"rez :: \\u0259\\u0281e\", \"rez :: \\u0259\\u0281e\", \"rez :: \\u0259\\u0281e\", \"rez :: \\u0259\\u0281e\", \"rez :: \\u0259\\u0281e#\", \"rez :: \\u0259\\u0281e#\", \"rez :: \\u0259\\u0281e#\", \"rez :: \\u0259\\u0281e#\", \"rez :: \\u0259\\u0281e#\", \"rez :: \\u0259\\u0281e#\", \"rez :: \\u0259\\u0281e#\", \"rez :: \\u0259\\u0281e#\", \"rez :: \\u0259\\u0281e#\", \"rez :: \\u0259\\u0281e#\", \"rez :: \\u0259\\u0281e#\", \"rez :: \\u0259\\u0281e#\", \"rez :: \\u0281e#\", \"rez :: \\u0281e#\", \"rez :: \\u0281e#\", \"rez :: \\u0281e#\", \"rez :: \\u0281e#\", \"rez :: \\u0281e#\", \"rez :: \\u0281e#\", \"rez :: \\u0281e#\", \"rez :: \\u0281e#\", \"rez :: \\u0281e#\", \"rez :: \\u0281e#\", \"rez :: \\u0281e#\", \"rez :: \\u0281e#\", \"rez :: \\u0281e#\", \"rez :: \\u0281e#\", \"rez :: \\u0281\\u0259\\u0281e\", \"rez :: \\u0281\\u0259\\u0281e\", \"rez# :: m\\u0259\\u0281e\", \"rez# :: \\u0259\\u0281e\", \"rez# :: \\u0259\\u0281e\", \"rez# :: \\u0259\\u0281e\", \"rez# :: \\u0259\\u0281e\", \"rez# :: \\u0259\\u0281e\", \"rez# :: \\u0259\\u0281e\", \"rez# :: \\u0259\\u0281e\", \"rez# :: \\u0259\\u0281e\", \"rez# :: \\u0259\\u0281e\", \"rez# :: \\u0259\\u0281e\", \"rez# :: \\u0259\\u0281e#\", \"rez# :: \\u0259\\u0281e#\", \"rez# :: \\u0259\\u0281e#\", \"rez# :: \\u0259\\u0281e#\", \"rez# :: \\u0259\\u0281e#\", \"rez# :: \\u0259\\u0281e#\", \"rez# :: \\u0259\\u0281e#\", \"rez# :: \\u0259\\u0281e#\", \"rez# :: \\u0259\\u0281e#\", \"rez# :: \\u0259\\u0281e#\", \"rez# :: \\u0281e#\", \"rez# :: \\u0281e#\", \"rez# :: \\u0281e#\", \"rez# :: \\u0281e#\", \"rez# :: \\u0281e#\", \"rez# :: \\u0281e#\", \"rez# :: \\u0281e#\", \"rez# :: \\u0281e#\", \"rez# :: \\u0281e#\", \"rez# :: \\u0281e#\", \"rez# :: \\u0281e#\", \"rez# :: \\u0281e#\", \"rez# :: \\u0281e#\", \"rez# :: \\u0281e#\", \"rfou :: a\\u0281f\\u028a\", \"rgea :: \\u0281\\u0292a#\", \"rgeo :: \\u0292waz\", \"rgeo :: \\u0292waz\", \"rie :: je#\", \"rie :: je#\", \"rie :: je#\", \"rie :: je#\", \"rie :: je#\", \"rie :: je#\", \"rie :: je#\", \"rie :: z\\u0259\\u0281\", \"rie :: z\\u0259\\u0281\", \"rie :: z\\u0259\\u0281j\", \"rie :: \\u0259\\u0281j\", \"rie :: \\u0259\\u0281j\", \"rie :: \\u0259\\u0281j\", \"rie :: \\u0259\\u0281j\", \"rie :: \\u0259\\u0281j\", \"rie :: \\u0259\\u0281j\", \"rie :: \\u0259\\u0281je\", \"rie :: \\u0259\\u0281je\", \"rie :: \\u0259\\u0281je\", \"rie :: \\u0259\\u0281je\", \"rie :: \\u0259\\u0281je\", \"rie :: \\u0281je\", \"rie :: \\u0281je\", \"rie :: \\u0281je\", \"rie :: \\u0281je\", \"rie :: \\u0281je\", \"rie :: \\u0281je\", \"rie :: \\u0281je#\", \"rie :: \\u0281je#\", \"rie :: \\u0281je#\", \"rie :: \\u0281je#\", \"rie :: \\u0281je#\", \"rie :: \\u0281je#\", \"rie :: \\u0281je#\", \"rie :: \\u0281je#\", \"rie :: \\u0281je#\", \"riez :: je#\", \"riez :: je#\", \"riez :: je#\", \"riez :: je#\", \"riez :: je#\", \"riez :: je#\", \"riez :: je#\", \"riez :: je#\", \"riez :: \\u0259\\u0281j\", \"riez :: \\u0259\\u0281j\", \"riez :: \\u0259\\u0281j\", \"riez :: \\u0259\\u0281j\", \"riez :: \\u0259\\u0281j\", \"riez :: \\u0259\\u0281je\", \"riez :: \\u0259\\u0281je\", \"riez :: \\u0259\\u0281je\", \"riez :: \\u0259\\u0281je\", \"riez :: \\u0259\\u0281je\", \"riez :: \\u0281je\", \"riez :: \\u0281je\", \"riez :: \\u0281je\", \"riez :: \\u0281je\", \"riez :: \\u0281je\", \"riez :: \\u0281je\", \"riez :: \\u0281je\", \"riez :: \\u0281je\", \"riez :: \\u0281je#\", \"riez :: \\u0281je#\", \"riez :: \\u0281je#\", \"riez :: \\u0281je#\", \"riez :: \\u0281je#\", \"riez :: \\u0281je#\", \"riez :: \\u0281je#\", \"riez :: \\u0281je#\", \"rifi :: #pe\", \"rifi :: #pe\", \"rifi :: pet\", \"rifi :: \\u026afj\", \"rifi :: \\u026afj\", \"rifi :: \\u0281\\u026af\", \"rifi :: \\u0281\\u026af\", \"rifi :: \\u0281\\u026af\", \"rima :: m\\u00e6\\u0303#\", \"rin\\u00e9 :: \\u0281\\u026an\", \"rin\\u00e9 :: \\u0281\\u026ane\", \"rio :: \\u00f5\\u0169\\u032f\", \"rio :: \\u00f5\\u0169\\u032f\", \"rio :: \\u00f5\\u0169\\u032f\", \"rio :: \\u00f5\\u0169\\u032f\", \"rio :: \\u0169\\u032f#\", \"rio :: \\u0169\\u032f#\", \"rio :: \\u0169\\u032f#\", \"rio :: \\u0259\\u0281j\\u00f5\", \"rio :: \\u0281j\\u00f5\", \"rio :: \\u0281j\\u00f5\", \"rio :: \\u0281j\\u00f5\", \"rion :: \\u00f5\\u0169\\u032f\", \"rion :: \\u00f5\\u0169\\u032f\", \"rion :: \\u0169\\u032f#\", \"rion :: \\u0169\\u032f#\", \"rion :: \\u0169\\u032f#\", \"rion :: \\u0169\\u032f#\", \"rip :: \\u0254\\u032f\\u0281\\u026a\", \"rir :: \\u026a\\u0281a\", \"rir :: \\u0281\\u026a\\u0281\", \"rir :: \\u0281\\u026a\\u0281\", \"rir :: \\u0281\\u026a\\u0281\", \"rira :: \\u0281\\u026a\\u0281\", \"ris :: e\\u0281\\u026a\", \"ris :: e\\u0281\\u026a\", \"ris :: e\\u0281\\u026a\", \"ris :: e\\u0281\\u026as\", \"riso :: \\u0281\\u026az\", \"riso :: \\u0281\\u026az\", \"rit :: me\\u0281\\u026a\", \"rit :: \\u0281ajt\", \"rit :: \\u0281ajt\", \"rmu :: a\\u0281m\", \"rmu :: a\\u0281m\", \"rmu :: a\\u0281m\\u028f\", \"rmu :: a\\u0281m\\u028f\", \"rmu :: \\u0281m\\u028f\", \"rmu :: \\u0281m\\u028f\", \"rmut :: a\\u0281m\", \"rmut :: a\\u0281m\", \"rmut :: a\\u0281m\\u028f\", \"rmut :: pa\\u0281\", \"rni :: \\u0281n\\u026as\", \"rois :: f\\u0281wa\", \"ron :: s\\u0259\\u0281\", \"ron :: s\\u0259\\u0281\", \"ron :: \\u00f5\\u0169\\u032f\", \"ron :: \\u00f5\\u0169\\u032f\", \"ron :: \\u00f5\\u0169\\u032f\", \"ron :: \\u00f5\\u0169\\u032f\", \"ron :: \\u00f5\\u0169\\u032f\", \"ron :: \\u00f5\\u0169\\u032f\", \"ron :: \\u00f5\\u0169\\u032f\", \"ron :: \\u00f5\\u0169\\u032f\", \"ron :: \\u00f5\\u0169\\u032f#\", \"ron :: \\u00f5\\u0169\\u032f#\", \"ron :: \\u00f5\\u0169\\u032f#\", \"ron :: \\u00f5\\u0169\\u032f#\", \"ron :: \\u00f5\\u0169\\u032f#\", \"ron :: \\u00f5\\u0169\\u032f#\", \"ron :: \\u00f5\\u0169\\u032f#\", \"ron :: \\u0169\\u032f#\", \"ron :: \\u0169\\u032f#\", \"ron :: \\u0169\\u032f#\", \"ron :: \\u0169\\u032f#\", \"ron :: \\u0169\\u032f#\", \"ron :: \\u0169\\u032f#\", \"ron :: \\u0259\\u0281\\u00f5\", \"ron :: \\u0259\\u0281\\u00f5\", \"ron :: \\u0259\\u0281\\u00f5\", \"ron :: \\u0259\\u0281\\u00f5\\u0169\", \"ron :: \\u0259\\u0281\\u00f5\\u0169\", \"ron :: \\u0281\\u00f5\\u0169\", \"ron :: \\u0281\\u00f5\\u0169\", \"ron :: \\u0281\\u00f5\\u0169\", \"ron :: \\u0281\\u00f5\\u0169\", \"ron :: \\u0281\\u00f5\\u0169\", \"ron :: \\u0281\\u00f5\\u0169\", \"ron :: \\u0281\\u00f5\\u0169\\u032f\", \"ron :: \\u0281\\u00f5\\u0169\\u032f\", \"ron :: \\u0281\\u00f5\\u0169\\u032f\", \"ron :: \\u0281\\u00f5\\u0169\\u032f\", \"ron :: \\u0281\\u00f5\\u0169\\u032f\", \"ron :: \\u0281\\u00f5\\u0169\\u032f\", \"ron :: \\u0281\\u00f5\\u0169\\u032f\", \"ron :: \\u0281\\u00f5\\u0169\\u032f\", \"rong :: \\u00f5\\u0169\\u032f\", \"rong :: \\u0281\\u00f5\\u0169\\u032f\", \"rons :: \\u00f5\\u0169\\u032f\", \"rons :: \\u00f5\\u0169\\u032f\", \"rons :: \\u00f5\\u0169\\u032f\", \"rons :: \\u00f5\\u0169\\u032f\", \"rons :: \\u00f5\\u0169\\u032f\", \"rons :: \\u00f5\\u0169\\u032f\", \"rons :: \\u00f5\\u0169\\u032f\", \"rons :: \\u00f5\\u0169\\u032f#\", \"rons :: \\u00f5\\u0169\\u032f#\", \"rons :: \\u00f5\\u0169\\u032f#\", \"rons :: \\u00f5\\u0169\\u032f#\", \"rons :: \\u00f5\\u0169\\u032f#\", \"rons :: \\u0169\\u032f#\", \"rons :: \\u0169\\u032f#\", \"rons :: \\u0169\\u032f#\", \"rons :: \\u0169\\u032f#\", \"rons :: \\u0169\\u032f#\", \"rons :: \\u0169\\u032f#\", \"rons :: \\u0259\\u0281\\u00f5\", \"rons :: \\u0259\\u0281\\u00f5\", \"rons :: \\u0259\\u0281\\u00f5\", \"rons :: \\u0259\\u0281\\u00f5\\u0169\", \"rons :: \\u0259\\u0281\\u00f5\\u0169\", \"rons :: \\u0259\\u0281\\u00f5\\u0169\", \"rons :: \\u0281\\u00f5\\u0169\", \"rons :: \\u0281\\u00f5\\u0169\", \"rons :: \\u0281\\u00f5\\u0169\", \"rons :: \\u0281\\u00f5\\u0169\", \"rons :: \\u0281\\u00f5\\u0169\", \"rons :: \\u0281\\u00f5\\u0169\", \"rons :: \\u0281\\u00f5\\u0169\\u032f\", \"rons :: \\u0281\\u00f5\\u0169\\u032f\", \"rons :: \\u0281\\u00f5\\u0169\\u032f\", \"rons :: \\u0281\\u00f5\\u0169\\u032f\", \"rons :: \\u0281\\u00f5\\u0169\\u032f\", \"ront :: \\u00f5\\u0169\\u032f\", \"ront :: \\u00f5\\u0169\\u032f\", \"ront :: \\u00f5\\u0169\\u032f\", \"ront :: \\u00f5\\u0169\\u032f#\", \"ront :: \\u00f5\\u0169\\u032f#\", \"ront :: \\u0169\\u032f#\", \"ront :: \\u0169\\u032f#\", \"ront :: \\u0169\\u032f#\", \"ront :: \\u0169\\u032f#\", \"ront :: \\u0259\\u0281\\u00f5\", \"ront :: \\u0259\\u0281\\u00f5\", \"ront :: \\u0259\\u0281\\u00f5\\u0169\", \"ront :: \\u0281\\u00f5\\u0169\", \"ront :: \\u0281\\u00f5\\u0169\", \"ront :: \\u0281\\u00f5\\u0169\\u032f\", \"ront :: \\u0281\\u00f5\\u0169\\u032f\", \"rou :: #f\\u0281\", \"rou :: b\\u0281\\u028as\", \"rou :: f\\u0281\\u028a\", \"rou :: f\\u0281\\u028af\", \"rou :: \\u0281\\u028af\", \"rou :: \\u0281\\u028aj\", \"rou :: \\u0281\\u028aj\", \"rou :: \\u0281\\u028at\", \"rou :: \\u028af\\u0281\", \"rou :: \\u028af\\u0281\\u028a\", \"roui :: \\u0281\\u028aj\", \"roui :: \\u0281\\u028aj\", \"roui :: \\u0281\\u028aj\", \"roui :: \\u0281\\u028aj\", \"roui :: \\u028aj\\u0259\", \"roui :: \\u028aj\\u0259\", \"rout :: f\\u0281\\u028a\", \"rra :: \\u0281asj\", \"rs# :: d\\u0153\\u0281#\", \"rs# :: d\\u0153\\u0281#\", \"rse :: \\u0251\\u0254\\u032f\\u0281\", \"rse :: \\u0281s\\u0259\\u0281\", \"rut :: #sk\\u0281\", \"r\\u00e8r :: \\u0281a\\u0281#\", \"r\\u00e8re :: \\u0281a\\u0281#\", \"r\\u00e9c :: #\\u0281ek\", \"r\\u00e9cr :: #\\u0281e\", \"r\\u00e9f :: #\\u0281e\", \"r\\u00e9f :: #\\u0281e\", \"r\\u00e9f :: akt\", \"r\\u00e9f :: akt\", \"r\\u00e9f :: ef\\u0281a\", \"r\\u00e9fr :: ef\\u0281a\", \"sag :: \\u026asa\", \"sai :: asa\", \"san :: \\u00e3\\u0169\\u032f\", \"san :: \\u00e3\\u0169\\u032f\", \"san :: \\u00e3\\u0169\\u032f\", \"sas :: asa\", \"sas :: asas\", \"sas :: asas\", \"sass :: as#\", \"sass :: as#\", \"sass :: as#\", \"sass :: as#\", \"sass :: as#\", \"sass :: as#\", \"sass :: sasj\", \"sass :: zasj\", \"sass :: zasj\", \"scr :: k\\u0281\\u028f\", \"scru :: k\\u0281\\u028f\", \"se# :: as#\", \"se# :: as#\", \"se# :: as#\", \"se# :: as#\", \"se# :: as#\", \"se# :: as#\", \"se# :: as#\", \"se# :: as#\", \"se# :: as#\", \"se# :: as#\", \"se# :: as#\", \"se# :: as#\", \"se# :: as#\", \"se# :: as#\", \"se# :: as#\", \"se# :: as#\", \"se# :: as#\", \"se# :: as#\", \"se# :: \\u026aza\", \"sem :: m\\u00e6\\u0303#\", \"sem :: m\\u00e6\\u0303#\", \"sem :: m\\u00e6\\u0303#\", \"sen :: as#\", \"sen :: as#\", \"sen :: as#\", \"sen :: as#\", \"sen :: as#\", \"sen :: as#\", \"sen :: as#\", \"sen :: as#\", \"sen :: as#\", \"sen :: as#\", \"sen :: as#\", \"sen :: as#\", \"sen :: as#\", \"sen :: \\u0281as\", \"sen :: \\u0281as\", \"sen :: \\u0281as#\", \"sen :: \\u028fta\", \"sent :: as#\", \"sent :: as#\", \"sent :: as#\", \"sent :: as#\", \"sent :: as#\", \"sent :: as#\", \"sent :: as#\", \"sent :: as#\", \"sent :: as#\", \"sent :: as#\", \"sent :: as#\", \"sent :: as#\", \"sent :: as#\", \"sent :: as#\", \"sent :: as#\", \"sent :: sas\", \"sent :: sas\", \"sent :: sas\", \"sent :: \\u0281as\", \"sent :: \\u0281as#\", \"sent :: \\u0281as#\", \"ser :: as\\u0259\", \"ser :: as\\u0259\", \"ser :: as\\u0259\", \"ser :: as\\u0259\\u0281\", \"ser :: as\\u0259\\u0281\", \"ser :: s\\u0259\\u0281\", \"ser :: s\\u0259\\u0281\", \"ser :: s\\u0259\\u0281\", \"ser :: s\\u0259\\u0281\", \"ser :: s\\u0259\\u0281\", \"ser :: s\\u0259\\u0281\", \"ser :: s\\u0259\\u0281\", \"ser :: s\\u0259\\u0281\", \"ser :: s\\u0259\\u0281\", \"ser :: s\\u0259\\u0281\\u00f5\", \"ser :: s\\u0259\\u0281\\u00f5\", \"ser :: \\u0281a#\", \"ser :: \\u0281a#\", \"ser :: \\u0281a#\", \"ser :: \\u0281a#\", \"ser :: \\u0281ez\", \"ser :: \\u0281je#\", \"ser :: \\u0281\\u00f5\\u0169\\u032f\", \"sera :: as\\u0259\", \"sera :: as\\u0259\\u0281\", \"sera :: s\\u0259\\u0281\", \"sera :: s\\u0259\\u0281\", \"sera :: s\\u0259\\u0281\", \"sera :: s\\u0259\\u0281\", \"seri :: je#\", \"seri :: je#\", \"seri :: z\\u0259\\u0281\", \"sero :: \\u00f5\\u0169\\u032f\", \"sero :: \\u0281\\u00f5\\u0169\\u032f\", \"ses :: as#\", \"ses :: as#\", \"ses :: as#\", \"ses :: as#\", \"ses :: as#\", \"ses :: as#\", \"ses :: as#\", \"ses :: as#\", \"ses :: as#\", \"ses :: as#\", \"ses :: as#\", \"ses :: as#\", \"ses :: as#\", \"ses :: asas\", \"ses :: sas\", \"ses# :: as#\", \"ses# :: as#\", \"ses# :: as#\", \"ses# :: as#\", \"ses# :: as#\", \"ses# :: as#\", \"ses# :: as#\", \"ses# :: as#\", \"ses# :: as#\", \"ses# :: as#\", \"ses# :: as#\", \"ses# :: as#\", \"ses# :: as#\", \"ses# :: as#\", \"sexu :: sak\", \"sexu :: sak\", \"sexu :: sak\", \"sexu :: sak\", \"sie :: asj\", \"sie :: asj\", \"sie :: asj\", \"sie :: asj\", \"sie :: asj\", \"sie :: asj\", \"sie :: asj\", \"sie :: asje\", \"sie :: asje\", \"sie :: asje\", \"sie :: asje\", \"sie :: asje\", \"sie :: asje\", \"sie :: je#\", \"sie :: je#\", \"sie :: je#\", \"sie :: je#\", \"sie :: je#\", \"sie :: je#\", \"sie :: je#\", \"sie :: je#\", \"sie :: je#\", \"sie :: sje#\", \"sie :: sje#\", \"sie :: sje#\", \"sie :: sje#\", \"sie :: sje#\", \"sie :: sje#\", \"siez :: asj\", \"siez :: asj\", \"siez :: asj\", \"siez :: asj\", \"siez :: asj\", \"siez :: asj\", \"siez :: asje\", \"siez :: asje\", \"siez :: asje\", \"siez :: asje\", \"siez :: asje\", \"siez :: asje\", \"siez :: asje\", \"siez :: asje\", \"siez :: je#\", \"siez :: je#\", \"siez :: je#\", \"siez :: je#\", \"siez :: je#\", \"siez :: je#\", \"siez :: je#\", \"siez :: sje\", \"siez :: sje\", \"siez :: sje\", \"siez :: sje\", \"siez :: sje\", \"siez :: sje\", \"siez :: sje\", \"siez :: sje\", \"siez :: sje#\", \"siez :: sje#\", \"siez :: sje#\", \"siez :: sje#\", \"siez :: sje#\", \"siez :: sje#\", \"sif :: je#\", \"sif :: \\u026af\\u026aj\", \"sifi :: #kl\", \"sifi :: #kl\", \"sig :: si\\u0272a\", \"sig :: si\\u0272a\", \"sio :: j\\u00f5\\u0169\", \"sio :: j\\u00f5\\u0169\", \"sio :: sj\\u00f5\\u0169\", \"sio :: sj\\u00f5\\u0169\", \"sio :: sj\\u00f5\\u0169\", \"sio :: \\u00f5\\u0169\\u032f\", \"sio :: \\u00f5\\u0169\\u032f\", \"sio :: \\u00f5\\u0169\\u032f\", \"sion :: asj\", \"sion :: j\\u00f5\\u0169\\u032f\", \"sion :: j\\u00f5\\u0169\\u032f\", \"sion :: j\\u00f5\\u0169\\u032f\", \"sion :: \\u00f5\\u0169\\u032f#\", \"sion :: \\u00f5\\u0169\\u032f#\", \"sion :: \\u00f5\\u0169\\u032f#\", \"sion :: \\u00f5\\u0169\\u032f#\", \"son :: \\u0251\\u0254\\u032fn\", \"son :: \\u0251\\u0254\\u032fn\", \"sou :: #s\\u028a\", \"sou :: #s\\u028a\", \"sou :: #s\\u028a\", \"sou :: #s\\u028a\", \"sou :: #s\\u028af\", \"souf :: #s\\u028af\", \"spir :: sp\\u026a\", \"ssa :: asa\", \"ssa :: asa\", \"ssa :: asa\", \"ssa :: asa\", \"ssa :: asa\", \"ssa :: asj\", \"ssa :: je#\", \"ssa :: je#\", \"ssa :: \\u026asa\", \"ssa :: \\u026asa\", \"ssa :: \\u026asa\", \"ssa :: \\u026asa\", \"ssas :: as#\", \"ssas :: as#\", \"sse :: as#\", \"sse :: as#\", \"sse :: as#\", \"sse :: as#\", \"sse :: as#\", \"sse :: as#\", \"sse :: as#\", \"sse :: as#\", \"sse :: as#\", \"sse :: as#\", \"sse :: as#\", \"sse :: as#\", \"sse :: as#\", \"sse :: as#\", \"sse :: as#\", \"sse :: as#\", \"sse :: as#\", \"sse :: as#\", \"sse :: as#\", \"sse :: as#\", \"sse :: as#\", \"sse :: as#\", \"sse :: as#\", \"sse :: as#\", \"sse :: as#\", \"sse :: as#\", \"sse :: as#\", \"sse :: as#\", \"sse :: as#\", \"sse :: as#\", \"sse :: as\\u0259\", \"sse :: as\\u0259\", \"sse :: as\\u0259\", \"sse :: as\\u0259\\u0281\", \"sse :: as\\u0259\\u0281\", \"sse :: as\\u0259\\u0281\", \"sse :: b\\u028ft\", \"sse :: jas#\", \"sse :: jas#\", \"sse :: jas#\", \"sse :: jas#\", \"sse :: kas#\", \"sse :: nas\", \"sse :: s\\u0259\\u0281\", \"sse :: s\\u0259\\u0281\", \"sse :: s\\u0259\\u0281\", \"sse :: s\\u0259\\u0281\", \"sse :: tas\", \"sse :: tas\", \"sse :: tas\", \"sse :: tas\", \"sse :: tas\", \"sse :: tas\", \"sse :: tas\", \"sse :: tas#\", \"sse :: tas#\", \"sse :: tas#\", \"sse :: tas#\", \"sse :: tas#\", \"sse :: \\u0259na\", \"sse :: \\u0259\\u0281\\u00f5\", \"sse :: \\u026aza\", \"sse :: \\u0281as\", \"sse :: \\u0281as\", \"sse :: \\u0281as\", \"sse :: \\u0281as\", \"sse :: \\u0281as\", \"sse :: \\u0281as\", \"sse :: \\u0281as\", \"sse :: \\u0281as\", \"sse :: \\u0281as\", \"sse :: \\u0281as#\", \"sse :: \\u0281as#\", \"sse :: \\u0281as#\", \"sse :: \\u0281as#\", \"sse :: \\u0281\\u026as#\", \"sse :: \\u028fta\", \"sse# :: as#\", \"sse# :: as#\", \"sse# :: as#\", \"sse# :: as#\", \"sse# :: as#\", \"sse# :: as#\", \"sse# :: as#\", \"sse# :: as#\", \"sse# :: as#\", \"sse# :: as#\", \"sse# :: as#\", \"sse# :: as#\", \"sse# :: as#\", \"sse# :: as#\", \"sse# :: as#\", \"sse# :: as#\", \"sse# :: as#\", \"sse# :: as#\", \"sse# :: as#\", \"sse# :: das\", \"sse# :: das\", \"ssel :: des\", \"ssel :: des\", \"ssem :: \\u0259s\\u0259m\", \"ssen :: as#\", \"ssen :: as#\", \"ssen :: as#\", \"ssen :: as#\", \"ssen :: as#\", \"ssen :: as#\", \"ssen :: as#\", \"ssen :: as#\", \"ssen :: as#\", \"ssen :: as#\", \"ssen :: as#\", \"ssen :: as#\", \"ssen :: as#\", \"ssen :: as#\", \"ssen :: as#\", \"ssen :: as#\", \"ssen :: sas\", \"ssen :: sas\", \"ssen :: sas\", \"ssen :: \\u0281as\", \"ssen :: \\u0281as\", \"ssen :: \\u0281as\", \"ssen :: \\u0281as#\", \"sser :: as\\u0259\", \"sser :: as\\u0259\\u0281\", \"sser :: as\\u0259\\u0281\", \"sser :: as\\u0259\\u0281\", \"sser :: s\\u0259\\u0281\", \"sser :: s\\u0259\\u0281\", \"sser :: s\\u0259\\u0281\", \"sser :: s\\u0259\\u0281\", \"sser :: s\\u0259\\u0281\", \"sses :: as#\", \"sses :: as#\", \"sses :: as#\", \"sses :: as#\", \"sses :: as#\", \"sses :: as#\", \"sses :: as#\", \"sses :: as#\", \"sses :: as#\", \"sses :: as#\", \"sses :: as#\", \"sses :: as#\", \"sses :: as#\", \"sses :: as#\", \"sses :: \\u0281\\u0259k\", \"ssi :: asj\", \"ssi :: asj\", \"ssi :: asj\", \"ssi :: asj\", \"ssi :: asj\", \"ssi :: asj\", \"ssi :: asj\", \"ssi :: asj\", \"ssi :: asje\", \"ssi :: asje\", \"ssi :: asje\", \"ssi :: asje\", \"ssi :: asje\", \"ssi :: asje\", \"ssi :: sje\", \"ssi :: sje\", \"ssi :: sje\", \"ssi :: sje\", \"ssi :: sje\", \"ssi :: sje\", \"ssi :: sje#\", \"ssi :: sje#\", \"ssi :: sje#\", \"ssi :: sje#\", \"ssi :: sje#\", \"ssi :: sje#\", \"ssi :: \\u00f5\\u0169\\u032f#\", \"ssi :: \\u00f5\\u0169\\u032f#\", \"ssie :: asj\", \"ssie :: asj\", \"ssie :: asj\", \"ssie :: asj\", \"ssie :: asj\", \"ssie :: asj\", \"ssie :: asj\", \"ssie :: asje\", \"ssie :: asje\", \"ssie :: asje\", \"ssie :: asje\", \"ssie :: asje\", \"ssie :: asje\", \"ssie :: je#\", \"ssie :: je#\", \"ssie :: je#\", \"ssie :: je#\", \"ssie :: je#\", \"ssie :: je#\", \"ssie :: je#\", \"ssie :: je#\", \"ssie :: sje\", \"ssie :: sje\", \"ssie :: sje\", \"ssie :: sje\", \"ssie :: sje\", \"ssie :: sje\", \"ssie :: sje\", \"ssie :: sje#\", \"ssie :: sje#\", \"ssie :: sje#\", \"ssie :: sje#\", \"ssie :: sje#\", \"ssie :: sje#\", \"ssie :: sje#\", \"ssio :: asj\", \"ssio :: asj\\u00f5\", \"stas :: as#\", \"ste :: \\u026as#\", \"ste :: \\u026as#\", \"ste :: \\u026as#\", \"ste :: \\u026as#\", \"ste :: \\u026as#\", \"str :: ast\\u0281\", \"str :: ast\\u0281\", \"stra :: ast\\u0281\", \"stra :: t\\u0281\\u0254\", \"stra :: t\\u0281\\u0254\", \"sult :: \\u0281ez\\u028f\", \"sult :: \\u0281ez\\u028f\", \"s\\u00e9# :: \\u026aze#\", \"tai :: ta#\", \"tai :: ta#\", \"tai :: ta#\", \"tai :: ta#\", \"tai :: ta#\", \"tai :: ta#\", \"tai :: ta#\", \"tai :: ta#\", \"tai :: ta#\", \"tai :: ta#\", \"tai :: ta#\", \"tai :: ta#\", \"tai :: \\u00f5\\u0169\\u032f\", \"tai :: \\u0303ta#\", \"tai :: \\u0303ta#\", \"taie :: sta#\", \"tal :: al#\", \"tal :: al#\", \"tal :: tal\\u0251\", \"tan :: t\\u00e6\\u0303\", \"tan :: t\\u00e6\\u0303\", \"tan :: t\\u00e6\\u0303\", \"tan :: t\\u00e6\\u0303\", \"tan :: t\\u00e6\\u0303\", \"tan :: t\\u00e6\\u0303#\", \"tan :: t\\u00e6\\u0303#\", \"tan :: t\\u00e6\\u0303#\", \"tan :: t\\u00e6\\u0303#\", \"tan :: t\\u00e6\\u0303#\", \"tan :: t\\u00e6\\u0303#\", \"tan :: t\\u00e6\\u0303#\", \"tan :: t\\u00e6\\u0303#\", \"tan :: \\u00e6\\u0303#\", \"tan :: \\u00e6\\u0303#\", \"tan :: \\u00e6\\u0303#\", \"tan :: \\u00e6\\u0303#\", \"tan :: \\u0169\\u032ft\\u00e6\", \"tan :: \\u032ft\\u00e6\", \"tant :: t\\u00e6\\u0303\", \"tant :: t\\u00e6\\u0303\", \"tant :: t\\u00e6\\u0303\", \"tant :: t\\u00e6\\u0303#\", \"tant :: t\\u00e6\\u0303#\", \"tant :: t\\u00e6\\u0303#\", \"tant :: \\u00e6\\u0303#\", \"tant :: \\u00e6\\u0303#\", \"tant :: \\u00e6\\u0303#\", \"tant :: \\u00e6\\u0303#\", \"tant :: \\u032ft\\u00e6\", \"tant :: \\u032ft\\u00e6\\u0303\", \"tas :: as#\", \"tas :: as#\", \"tas :: as#\", \"tas :: as#\", \"tas :: b\\u028fta\", \"tas :: b\\u028fta\", \"tas :: tas\", \"tas :: tas\", \"tas :: tas\", \"tas :: tas\", \"tas :: tas\", \"tas :: tas\", \"tas :: tas#\", \"tas :: tas#\", \"tas :: tas#\", \"tas :: tas#\", \"tas :: tas#\", \"tas :: tas#\", \"tas :: \\u028ftas\", \"tass :: sje\", \"tass :: sje\", \"tass :: tas\", \"tass :: tas\", \"tass :: tas\", \"tass :: tas\", \"tass :: tas\", \"tass :: tas#\", \"tass :: tas#\", \"tass :: tas#\", \"tass :: tas#\", \"tass :: tas#\", \"te# :: \\u00e3\\u0169\\u032f\", \"te# :: \\u00e3\\u0169\\u032f\", \"te# :: \\u00e3\\u0169\\u032f\", \"te# :: \\u00e3\\u0169\\u032f\", \"te# :: \\u00e3\\u0169\\u032ft\", \"te# :: \\u00e3\\u0169\\u032ft\", \"te# :: \\u00e3\\u0169\\u032ft\", \"te# :: \\u00e3\\u0169\\u032ft\", \"te# :: \\u00e3\\u0169\\u032ft\", \"te# :: \\u0169\\u032ft\", \"te# :: \\u0169\\u032ft\", \"te# :: \\u0169\\u032ft#\", \"te# :: \\u0169\\u032ft#\", \"te# :: \\u0169\\u032ft#\", \"te# :: \\u032ft#\", \"te# :: \\u032ft#\", \"te# :: \\u032ft#\", \"te# :: \\u032ft#\", \"tent :: \\u032ft#\", \"ter :: at\\u0259\", \"ter :: at\\u0259\", \"ter :: at\\u0259\", \"tera :: t\\u0259\\u0281\", \"tera :: t\\u0259\\u0281\", \"tera :: t\\u0259\\u0281\", \"tera :: t\\u0259\\u0281\", \"tera :: t\\u0259\\u0281\", \"tera :: t\\u0259\\u0281\", \"tera :: t\\u0259\\u0281\", \"tera :: \\u0281a#\", \"tera :: \\u0281a#\", \"tera :: \\u0281a#\", \"tera :: \\u0281a#\", \"tes :: at#\", \"tes :: at#\", \"tes :: at#\", \"tes :: at#\", \"tes :: at#\", \"tes :: at#\", \"tes :: at#\", \"tes :: at#\", \"tes :: at#\", \"tes :: at#\", \"tes :: at#\", \"tes :: at#\", \"tes :: at#\", \"tes :: la\\u0281\", \"tes :: tat#\", \"tes :: tat#\", \"tes :: tat#\", \"tes :: \\u0251\\u0303ta\", \"tes :: \\u0303ta\", \"tes# :: at#\", \"tes# :: at#\", \"tes# :: at#\", \"tes# :: at#\", \"tes# :: at#\", \"tes# :: at#\", \"tes# :: at#\", \"tes# :: at#\", \"tes# :: at#\", \"tes# :: at#\", \"tes# :: at#\", \"tes# :: \\u0251t#\", \"tes# :: \\u0251t#\", \"tes# :: \\u0251\\u0303t\", \"tes# :: \\u0251\\u0303t\", \"tes# :: \\u0303ta\", \"tes# :: \\u0303ta\", \"teu :: t\\u0153\\u0281\", \"teu :: t\\u0153\\u0281\", \"teu :: \\u0153\\u0281#\", \"teu :: \\u0153\\u0281#\", \"teur :: t\\u0153\\u0281\", \"teur :: t\\u0153\\u0281\", \"teur :: t\\u0153\\u0281#\", \"teur :: \\u0153\\u0281#\", \"tin :: t\\u0361s\", \"tin :: t\\u0361s\\u026a\", \"tin :: t\\u0361s\\u026a\", \"tin :: t\\u0361s\\u026a\", \"tin :: \\u026ane\", \"tin :: \\u0361s\\u026an\", \"tiq :: t\\u0361s\\u026a\", \"tiq :: \\u026ak#\", \"tiqu :: t\\u0361s\", \"tise :: t\\u0361s\\u026a\", \"tise :: \\u026aze#\", \"ti\\u00e8r :: sja\", \"top :: ot\\u0251\\u0254\", \"top :: t\\u0251\\u0254\", \"top :: t\\u0251\\u0254\", \"tou :: \\u0259\\u0281\\u0254#\", \"tra :: ast\", \"tra :: \\u0303t\\u0281\", \"trai :: at\\u0281\", \"trem :: #t\\u0281\\u0251\", \"trem :: #t\\u0281\\u0251\", \"trem :: #t\\u0281\\u0251\", \"tri :: t\\u0281\\u026as\", \"tri :: \\u026afj\", \"troq :: \\u0251\\u0254\\u032fk\", \"ts# :: m\\u00e6\\u0303\", \"ts# :: m\\u00e6\\u0303\", \"tur :: at\\u0361\", \"tur :: at\\u0361s\", \"tur :: t\\u0361s\", \"tur :: t\\u0361s\", \"tur :: \\u0361s\\u028f\\u0281\", \"tur :: \\u0361s\\u028f\\u0281\", \"t\\u00e2me :: tam#\", \"t\\u00e2me :: tam#\", \"t\\u00e2t :: \\u0251\\u0303t\", \"t\\u00e2t :: \\u0303ta\", \"t\\u00e2te :: \\u0251\\u0303t\", \"t\\u00e2te :: \\u0251\\u0303ta\", \"t\\u00e2te :: \\u0303ta\", \"t\\u00e8r :: a\\u0281#\", \"t\\u00e8r :: eta\\u0281\", \"t\\u00e8r :: ta\\u0281#\", \"t\\u00e8re :: ta\\u0281\", \"t\\u00e9# :: \\u026ate\", \"t\\u00e9# :: \\u026ate\", \"t\\u00e9l\\u00e9 :: elev\", \"t\\u00e9l\\u00e9 :: tele\", \"ubi :: #\\u0292y\", \"ubi :: #\\u0292y\", \"ue# :: n\\u026ak#\", \"ue# :: n\\u026ak#\", \"ue# :: \\u026ak#\", \"uel :: ks\\u0265a\", \"uer :: k\\u0259\\u0281\", \"uer :: k\\u0259\\u0281\", \"uer :: k\\u0259\\u0281\", \"uer :: \\u0259\\u0281a#\", \"uer :: \\u0259\\u0281a#\", \"uer :: \\u0259\\u0281a#\", \"uer :: \\u0281a#\", \"uer :: \\u0281a#\", \"uera :: \\u0259\\u0281a\", \"uera :: \\u0259\\u0281a\", \"uera :: \\u0259\\u0281a#\", \"uera :: \\u0259\\u0281a#\", \"uera :: \\u0259\\u0281a#\", \"uera :: \\u0281a#\", \"uera :: \\u0281a#\", \"uet :: lwat\", \"ufr :: f\\u0281\\u028a\", \"ufro :: f\\u0281\\u028a\", \"uger :: \\u0292y\\u0292\", \"uil :: j\\u0259\\u0281\\u0254\", \"uil :: \\u0281\\u0254#\", \"uil :: \\u0281\\u028aj\", \"uil :: \\u0281\\u028aj\", \"uil :: \\u0281\\u028aj\", \"uill :: f\\u028aj\", \"uill :: ja#\", \"uill :: \\u0259\\u0281\\u0254\", \"uill :: \\u0281\\u028aj\", \"uill :: \\u0281\\u028aj\", \"uill :: \\u0281\\u028aj\", \"uill :: \\u028aja\", \"uill :: \\u028aja\", \"uill :: \\u028aja\", \"uill :: \\u028aja\", \"uisi :: ed\\u0265\", \"uiv :: s\\u0265iv\", \"ula :: \\u028fla\", \"ula :: \\u028fla\", \"ula :: \\u028fla#\", \"ulai :: la#\", \"ulai :: la#\", \"ul\\u00e2 :: lat\", \"upil :: \\u028ap\\u026aj\", \"ur# :: t\\u0153\\u0281\", \"ur# :: t\\u0153\\u0281#\", \"ura :: \\u028f\\u0281\\u0254\", \"urg :: \\u028a\\u0281\\u0292\", \"urg :: \\u028a\\u0281\\u0292\", \"urg :: \\u028a\\u0281\\u0292w\", \"urg :: \\u028a\\u0281\\u0292w\", \"urge :: \\u028a\\u0281\\u0292\", \"use :: z\\u0259\\u0281\", \"use :: z\\u0259\\u0281\", \"ute :: #fot\", \"ute :: #fot\", \"uto :: \\u032fps\", \"uto :: \\u032fps\", \"uto :: \\u032fps\", \"uvr :: v\\u0281\\u026a\\u0281\", \"uvri :: v\\u0281\\u026a\", \"uvri :: v\\u0281\\u026a\", \"uvri :: v\\u0281\\u026a\\u0281\", \"uvri :: v\\u0281\\u026a\\u0281\", \"vas :: vas\", \"vas :: vas\", \"ver :: \\u0281\\u0254#\", \"ver :: \\u0281\\u0254#\", \"vil :: #\\u0283v\", \"\\u00e2me :: am#\", \"\\u00e2me :: am#\", \"\\u00e2me :: am#\", \"\\u00e2me :: am#\", \"\\u00e2me :: am#\", \"\\u00e2me :: am#\", \"\\u00e2me :: am#\", \"\\u00e2me :: am#\", \"\\u00e2me :: am#\", \"\\u00e2me :: am#\", \"\\u00e2me :: am#\", \"\\u00e2me :: jam\", \"\\u00e2me :: jam\", \"\\u00e2me :: tam#\", \"\\u00e2me :: tam#\", \"\\u00e2me :: tam#\", \"\\u00e2me :: tam#\", \"\\u00e2me :: tam#\", \"\\u00e2mes :: ajam\", \"\\u00e2mes :: am#\", \"\\u00e2mes :: am#\", \"\\u00e2mes :: am#\", \"\\u00e2mes :: am#\", \"\\u00e2mes :: am#\", \"\\u00e2mes :: am#\", \"\\u00e2mes :: am#\", \"\\u00e2mes :: am#\", \"\\u00e2mes :: am#\", \"\\u00e2mes :: am#\", \"\\u00e2mes :: am#\", \"\\u00e2mes :: am#\", \"\\u00e2mes :: am#\", \"\\u00e2mes :: am#\", \"\\u00e2te :: at#\", \"\\u00e2te :: at#\", \"\\u00e2te :: at#\", \"\\u00e2te :: at#\", \"\\u00e2te :: at#\", \"\\u00e2te :: at#\", \"\\u00e2te :: at#\", \"\\u00e2te :: at#\", \"\\u00e2te :: at#\", \"\\u00e2te :: at#\", \"\\u00e2te :: tat#\", \"\\u00e2te :: tat#\", \"\\u00e2te :: tat#\", \"\\u00e2te :: tat#\", \"\\u00e2te :: \\u0251\\u0303ta\", \"\\u00e2tes :: at#\", \"\\u00e2tes :: at#\", \"\\u00e2tes :: at#\", \"\\u00e2tes :: at#\", \"\\u00e2tes :: at#\", \"\\u00e2tes :: at#\", \"\\u00e2tes :: at#\", \"\\u00e2tes :: at#\", \"\\u00e2tes :: \\u0251\\u0303t\", \"\\u00e2tes :: \\u0251\\u0303ta\", \"\\u00e2tes :: \\u0303tat\", \"\\u00e8re :: a\\u0281#\", \"\\u00e8re :: a\\u0281#\", \"\\u00e8re :: a\\u0281#\", \"\\u00e8re :: a\\u0281#\", \"\\u00e8re :: a\\u0281#\", \"\\u00e8re :: a\\u0281#\", \"\\u00e8re :: a\\u0281#\", \"\\u00e8re :: a\\u0281#\", \"\\u00e8re :: a\\u0281#\", \"\\u00e8re :: a\\u0281#\", \"\\u00e8re :: a\\u0281#\", \"\\u00e8re :: a\\u0281#\", \"\\u00e8re :: a\\u0281#\", \"\\u00e8re :: ja\\u0281\", \"\\u00e8re :: ja\\u0281\", \"\\u00e8re :: ja\\u0281\", \"\\u00e8re :: ja\\u0281\", \"\\u00e8re :: ja\\u0281#\", \"\\u00e8re :: ja\\u0281#\", \"\\u00e8re :: ja\\u0281#\", \"\\u00e8re :: ja\\u0281#\", \"\\u00e8re :: ta\\u0281#\", \"\\u00e8ren :: a\\u0281#\", \"\\u00e8ren :: a\\u0281#\", \"\\u00e8ren :: a\\u0281#\", \"\\u00e8ren :: a\\u0281#\", \"\\u00e8ren :: a\\u0281#\", \"\\u00e8ren :: a\\u0281#\", \"\\u00e8ren :: a\\u0281#\", \"\\u00e8ren :: a\\u0281#\", \"\\u00e8ren :: a\\u0281#\", \"\\u00e8ren :: a\\u0281#\", \"\\u00e8ren :: a\\u0281#\", \"\\u00e8ren :: ja\\u0281#\", \"\\u00e8ren :: \\u0281a\\u0281\", \"\\u00e8ren :: \\u0281a\\u0281\", \"\\u00e8ren :: \\u0281a\\u0281\", \"\\u00e9ba :: #de\", \"\\u00e9ba :: bo\\u0283\", \"\\u00e9bo :: #de\", \"\\u00e9bo :: #de\", \"\\u00e9bo :: #deb\", \"\\u00e9bo :: #deb\", \"\\u00e9bo :: #deb\", \"\\u00e9bo :: deb\", \"\\u00e9bo :: deb\", \"\\u00e9bo :: deb\\u028a\", \"\\u00e9bou :: #deb\", \"\\u00e9bou :: #deb\", \"\\u00e9bou :: #deb\", \"\\u00e9bou :: deb\", \"\\u00e9bou :: deb\\u028a\", \"\\u00e9ca :: #de\", \"\\u00e9ca :: #de\", \"\\u00e9ca :: #dek\", \"\\u00e9ca :: #dek\", \"\\u00e9ca :: dek\", \"\\u00e9ca :: dek\", \"\\u00e9ca :: dek\", \"\\u00e9ca :: dek\", \"\\u00e9ca :: eka\", \"\\u00e9ca :: eka\", \"\\u00e9ca :: eka\", \"\\u00e9ca :: eka\", \"\\u00e9ca :: kap\", \"\\u00e9cap :: dek\", \"\\u00e9ch :: #de\\u0283\", \"\\u00e9ch :: #de\\u0283\", \"\\u00e9ch :: #de\\u0283\", \"\\u00e9ch :: de\\u0283\", \"\\u00e9ch :: de\\u0283\", \"\\u00e9ch :: fle\", \"\\u00e9ch :: fle\", \"\\u00e9cha :: #de\\u0283\", \"\\u00e9cou :: dek\", \"\\u00e9cou :: dek\", \"\\u00e9cou :: dek\\u028a\", \"\\u00e9cr :: #\\u0281e\", \"\\u00e9cr :: #\\u0281e\", \"\\u00e9cr :: #\\u0281ek\", \"\\u00e9cr :: #\\u0281ek\", \"\\u00e9cr :: ek\\u0281\", \"\\u00e9cr :: ek\\u0281\", \"\\u00e9cr :: ek\\u0281\", \"\\u00e9cr :: ek\\u0281\", \"\\u00e9cr :: ek\\u0281\", \"\\u00e9cr :: ek\\u0281\", \"\\u00e9cr :: ek\\u0281\\u026a\", \"\\u00e9cr :: k\\u0281a\", \"\\u00e9cr :: k\\u0281a\", \"\\u00e9cri :: ek\\u0281\", \"\\u00e9cri :: ek\\u0281\\u026a\", \"\\u00e9di :: #ed\\u0361\", \"\\u00e9di :: z\\u026at\", \"\\u00e9du :: ed\\u0265\", \"\\u00e9es :: \\u032fne#\", \"\\u00e9fr :: #de\", \"\\u00e9fr :: #de\", \"\\u00e9fr :: #def\", \"\\u00e9fr :: def\", \"\\u00e9fr :: def\\u0281\", \"\\u00e9fr :: ef\\u0281\", \"\\u00e9fr :: ef\\u0281\", \"\\u00e9fr :: ef\\u0281\\u026a\", \"\\u00e9fra :: ef\\u0281a\", \"\\u00e9fra :: ef\\u0281a\", \"\\u00e9fri :: def\\u0281\", \"\\u00e9gr :: deg\\u0281\", \"\\u00e9l\\u00e9 :: #te\", \"\\u00e9l\\u00e9 :: tele\", \"\\u00e9l\\u00e9 :: tele\", \"\\u00e9l\\u00e9v :: ev\\u026a\", \"\\u00e9ma :: ema\", \"\\u00e9ma :: ema\", \"\\u00e9ma :: ema\", \"\\u00e9ma :: emaj\", \"\\u00e9nig :: en\\u026ag\", \"\\u00e9pa :: #epa\", \"\\u00e9pi :: p\\u026as\", \"\\u00e9ra :: e\\u0281as\", \"\\u00e9ra :: e\\u0281as\", \"\\u00e9ri :: e\\u0281\\u026as\", \"\\u00e9ri :: \\u0281\\u026as\", \"\\u00e9ris :: e\\u0281\\u026a\", \"\\u00e9ris :: e\\u0281\\u026a\", \"\\u00e9sa :: deza\", \"\\u00e9su :: z\\u028fl\", \"\\u00e9su :: z\\u028fl\", \"\\u00e9sul :: #\\u0281e\", \"\\u00e9tr :: pet\", \"\\u00e9tri :: #pe\", \"\\u00e9vi :: ev\\u026az\", \"\\u00e9vi :: v\\u026az\"]}, \"R\": 30, \"lambda.step\": 0.01, \"plot.opts\": {\"xlab\": \"PC1\", \"ylab\": \"PC2\"}, \"topic.order\": [1, 2, 3, 4, 5, 6, 7, 8, 9, 10, 11, 12, 13, 14, 15, 16, 17, 18, 19, 20, 21, 22, 23, 24, 25, 26, 27, 28, 29, 30, 31, 32, 33, 34, 35, 36, 37, 38, 39, 40, 41, 42, 43, 44, 45]};\n",
       "\n",
       "function LDAvis_load_lib(url, callback){\n",
       "  var s = document.createElement('script');\n",
       "  s.src = url;\n",
       "  s.async = true;\n",
       "  s.onreadystatechange = s.onload = callback;\n",
       "  s.onerror = function(){console.warn(\"failed to load library \" + url);};\n",
       "  document.getElementsByTagName(\"head\")[0].appendChild(s);\n",
       "}\n",
       "\n",
       "if(typeof(LDAvis) !== \"undefined\"){\n",
       "   // already loaded: just create the visualization\n",
       "   !function(LDAvis){\n",
       "       new LDAvis(\"#\" + \"ldavis_el39422115757292164827367866\", ldavis_el39422115757292164827367866_data);\n",
       "   }(LDAvis);\n",
       "}else if(typeof define === \"function\" && define.amd){\n",
       "   // require.js is available: use it to load d3/LDAvis\n",
       "   require.config({paths: {d3: \"https://d3js.org/d3.v5\"}});\n",
       "   require([\"d3\"], function(d3){\n",
       "      window.d3 = d3;\n",
       "      LDAvis_load_lib(\"https://cdn.jsdelivr.net/gh/bmabey/pyLDAvis@3.4.0/pyLDAvis/js/ldavis.v3.0.0.js\", function(){\n",
       "        new LDAvis(\"#\" + \"ldavis_el39422115757292164827367866\", ldavis_el39422115757292164827367866_data);\n",
       "      });\n",
       "    });\n",
       "}else{\n",
       "    // require.js not available: dynamically load d3 & LDAvis\n",
       "    LDAvis_load_lib(\"https://d3js.org/d3.v5.js\", function(){\n",
       "         LDAvis_load_lib(\"https://cdn.jsdelivr.net/gh/bmabey/pyLDAvis@3.4.0/pyLDAvis/js/ldavis.v3.0.0.js\", function(){\n",
       "                 new LDAvis(\"#\" + \"ldavis_el39422115757292164827367866\", ldavis_el39422115757292164827367866_data);\n",
       "            })\n",
       "         });\n",
       "}\n",
       "</script>"
      ],
      "text/plain": [
       "<IPython.core.display.HTML object>"
      ]
     },
     "execution_count": 175,
     "metadata": {},
     "output_type": "execute_result"
    }
   ],
   "source": [
    "%%capture --no-display\n",
    "\n",
    "## pyLDAvis を使った LDA の結果の可視化: 階層クラスタリングより詳しい\n",
    "import pyLDAvis\n",
    "\n",
    "installed_version = pyLDAvis.__version__\n",
    "print(f\"installed_version: {installed_version}\")\n",
    "if float(installed_version[:3]) > 3.1:\n",
    "    import pyLDAvis.gensim_models as gensimvis\n",
    "else:\n",
    "    import pyLDAvis.gensim as gensimvis\n",
    "pyLDAvis.enable_notebook()\n",
    "\n",
    "## set variable names\n",
    "if use_HDP:\n",
    "    model_used  = pair_hdp\n",
    "else:\n",
    "    model_used  = pair_lda\n",
    "corpus_used   = pair_corpus\n",
    "diction_used  = pair_diction\n",
    "\n",
    "## 実行パラメター: Setting for tSNE or MMDS solves \"TypeError: Object of type complex\n",
    "# is not JSON serializable\" and gives a better layout where overlapping is avoided\n",
    "use_MMDS = False\n",
    "use_tSNE = False\n",
    "if use_MMDS:\n",
    "    vis_data = gensimvis.prepare(model_used, corpus_used, diction_used, mds = 'mmds',\n",
    "                            n_jobs = 1, sort_topics = False)    \n",
    "elif use_tSNE:\n",
    "    vis_data = gensimvis.prepare(model_used, corpus_used, diction_used, mds = 'tsne',\n",
    "                            n_jobs = 1, sort_topics = False)\n",
    "else:\n",
    "    vis_data = gensimvis.prepare(model_used, corpus_used, diction_used,\n",
    "                            n_jobs = 1, sort_topics = False)\n",
    "##\n",
    "pyLDAvis.display(vis_data)"
   ]
  },
  {
   "cell_type": "code",
   "execution_count": 176,
   "id": "25748b85",
   "metadata": {},
   "outputs": [],
   "source": [
    "## save LDAvis output as a html file\n",
    "save_LDAvis = True\n",
    "if save_LDAvis:\n",
    "\tif not apply_term_abuse_filtering:\n",
    "\t\tterm_abuse_threshold = 0\n",
    "\tif len(lang_attr) > 0:\n",
    "\t\tvis_output = f\"results/LDAvis/{lang_name}-pair/{lang_name}-{lang_attr}-{method_name}-ntop{n_topics}-{sp_term_type}-{sn_term_type}{hash_status}-abuse={term_abuse_threshold}.html\"\n",
    "\telse:\n",
    "\t\tvis_output = f\"results/LDAvis/{lang_name}-pair/{lang_name}-{method_name}-ntop{n_topics}-{sp_term_type}-{sn_term_type}{hash_status}-abuse={term_abuse_threshold}.html\"\t\n",
    "\t#\n",
    "\tpyLDAvis.save_html(vis_data, vis_output)"
   ]
  },
  {
   "cell_type": "code",
   "execution_count": 177,
   "id": "8f1c9232",
   "metadata": {},
   "outputs": [],
   "source": [
    "## save topic structures\n",
    "hdp_topics = pair_hdp.show_topics(num_topics = max_n_topics,\n",
    "                               num_words = n_terms_to_show, formatted = False)\n",
    "hdp_dict = { tid: values for tid, values in hdp_topics }\n",
    "## convert to Pandas dataframe\n",
    "topics_df = pd.DataFrame.from_dict(hdp_dict)\n",
    "lang_dir_name = lang_name\n",
    "target_class = \"pair\"\n",
    "term_type = f\"{sp_term_type}-{sn_term_type}\"\n",
    "accent_status = \"-unaccented\"\n",
    "#\n",
    "pair_hdp_topics_out = f\"results/terms-by-topics-raw/{lang_dir_name}/{target_lang_dict[target_lang_key]}-{target_class}-topics{max_n_topics}-{term_type}{accent_status}.csv\"\n",
    "topics_df.to_csv(pair_hdp_topics_out, header = False, index = None)"
   ]
  },
  {
   "cell_type": "markdown",
   "id": "6d79c463",
   "metadata": {},
   "source": [
    "# t-SNE を使った可視化"
   ]
  },
  {
   "cell_type": "code",
   "execution_count": 178,
   "id": "24f33ef0-49d0-4df7-8ffb-3718ec8d5441",
   "metadata": {},
   "outputs": [
    {
     "name": "stdout",
     "output_type": "stream",
     "text": [
      "top_perplexity_val: 15\n"
     ]
    }
   ],
   "source": [
    "## t-SNE の実行\n",
    "from sklearn.manifold import TSNE\n",
    "import numpy as np\n",
    "## tSNE のパラメターを設定\n",
    "top_perplexity_val = round(n_topics * top_perplexity_reduct_rate) # 大き過ぎると良くない\n",
    "print(f\"top_perplexity_val: {top_perplexity_val}\")\n",
    "tSNE_3d = TSNE(n_components = 3, random_state = 0,\n",
    "               perplexity = top_perplexity_val, max_iter = 1000)\n",
    "## データに適用\n",
    "pair_top_dist = model_used.get_topics()\n",
    "pair_top_tsne_3d_fitted = tSNE_3d.fit_transform(np.array(pair_top_dist))"
   ]
  },
  {
   "cell_type": "code",
   "execution_count": 179,
   "id": "876f8dc4-ce17-47c9-917f-0c2df723eb00",
   "metadata": {},
   "outputs": [
    {
     "data": {
      "application/vnd.plotly.v1+json": {
       "config": {
        "plotlyServerURL": "https://plot.ly"
       },
       "data": [
        {
         "mode": "markers",
         "type": "scatter3d",
         "x": [
          -91.32115173339844,
          -136.31436157226562,
          69.63739776611328,
          91.7285385131836,
          -59.4248161315918,
          17.118301391601562,
          92.5703353881836,
          56.93474578857422,
          23.024147033691406,
          -112.78280639648438,
          76.8863296508789,
          -6.242221832275391,
          58.918453216552734,
          13.431819915771484,
          78.20753479003906,
          135.2664031982422,
          65.92530059814453,
          30.783702850341797,
          -74.0619125366211,
          -37.116451263427734,
          -62.69287872314453,
          -2.2541463375091553,
          -74.122314453125,
          64.23944091796875,
          -38.552337646484375,
          -55.781211853027344,
          147.20811462402344,
          7.110288619995117,
          18.791589736938477,
          9.449522018432617,
          -9.433510780334473,
          -68.12511444091797,
          -9.233444213867188,
          -123.1241226196289,
          -73.2179183959961,
          93.72815704345703,
          131.8280029296875,
          -7.817423343658447,
          -58.742305755615234,
          -8.8506441116333,
          10.226269721984863,
          -29.090665817260742,
          109.8055419921875,
          -103.10380554199219,
          631.7606201171875
         ],
         "y": [
          132.891357421875,
          73.85050201416016,
          74.3604736328125,
          109.32484436035156,
          8.523809432983398,
          -135.1026153564453,
          -119.42747497558594,
          14.734940528869629,
          -95.15380859375,
          50.870018005371094,
          -88.21219635009766,
          -93.37418365478516,
          -16.72661781311035,
          -132.5537872314453,
          67.68998718261719,
          7.208449363708496,
          -32.41776657104492,
          143.5522918701172,
          -102.16389465332031,
          65.79700469970703,
          138.01210021972656,
          62.646175384521484,
          60.06510925292969,
          13.468037605285645,
          -39.88112258911133,
          -105.0119400024414,
          24.999746322631836,
          115.62503814697266,
          -55.41136169433594,
          38.450477600097656,
          38.84743881225586,
          -5.688448429107666,
          -44.79389572143555,
          -63.44019317626953,
          -14.526143074035645,
          -64.1668472290039,
          34.934165954589844,
          91.20790100097656,
          53.675079345703125,
          99.15103149414062,
          12.419548988342285,
          -14.388267517089844,
          -46.35559844970703,
          -14.623138427734375,
          188.05250549316406
         ],
         "z": [
          36.71693420410156,
          34.22315216064453,
          -59.96567153930664,
          39.18362045288086,
          -11.244650840759277,
          -30.490764617919922,
          12.500338554382324,
          -135.48130798339844,
          -127.88748931884766,
          -48.735084533691406,
          -100.3936767578125,
          120.6760025024414,
          -57.41445541381836,
          60.054779052734375,
          121.40225219726562,
          76.31656646728516,
          136.5618438720703,
          -13.136696815490723,
          38.87757110595703,
          -89.4505386352539,
          -47.40608215332031,
          -20.741195678710938,
          26.60759925842285,
          12.193655014038086,
          -140.9793243408203,
          -66.88573455810547,
          -42.02302551269531,
          -104.50231170654297,
          24.57328224182129,
          43.409996032714844,
          -156.27853393554688,
          144.68453979492188,
          -51.000518798828125,
          -26.95482063293457,
          -76.78041076660156,
          62.94655990600586,
          19.683034896850586,
          130.527099609375,
          94.10511779785156,
          50.65650939941406,
          106.7818603515625,
          53.28860092163086,
          -8.04521369934082,
          52.129676818847656,
          -175.910888671875
         ]
        }
       ],
       "layout": {
        "autosize": false,
        "height": 600,
        "template": {
         "data": {
          "bar": [
           {
            "error_x": {
             "color": "#2a3f5f"
            },
            "error_y": {
             "color": "#2a3f5f"
            },
            "marker": {
             "line": {
              "color": "#E5ECF6",
              "width": 0.5
             },
             "pattern": {
              "fillmode": "overlay",
              "size": 10,
              "solidity": 0.2
             }
            },
            "type": "bar"
           }
          ],
          "barpolar": [
           {
            "marker": {
             "line": {
              "color": "#E5ECF6",
              "width": 0.5
             },
             "pattern": {
              "fillmode": "overlay",
              "size": 10,
              "solidity": 0.2
             }
            },
            "type": "barpolar"
           }
          ],
          "carpet": [
           {
            "aaxis": {
             "endlinecolor": "#2a3f5f",
             "gridcolor": "white",
             "linecolor": "white",
             "minorgridcolor": "white",
             "startlinecolor": "#2a3f5f"
            },
            "baxis": {
             "endlinecolor": "#2a3f5f",
             "gridcolor": "white",
             "linecolor": "white",
             "minorgridcolor": "white",
             "startlinecolor": "#2a3f5f"
            },
            "type": "carpet"
           }
          ],
          "choropleth": [
           {
            "colorbar": {
             "outlinewidth": 0,
             "ticks": ""
            },
            "type": "choropleth"
           }
          ],
          "contour": [
           {
            "colorbar": {
             "outlinewidth": 0,
             "ticks": ""
            },
            "colorscale": [
             [
              0,
              "#0d0887"
             ],
             [
              0.1111111111111111,
              "#46039f"
             ],
             [
              0.2222222222222222,
              "#7201a8"
             ],
             [
              0.3333333333333333,
              "#9c179e"
             ],
             [
              0.4444444444444444,
              "#bd3786"
             ],
             [
              0.5555555555555556,
              "#d8576b"
             ],
             [
              0.6666666666666666,
              "#ed7953"
             ],
             [
              0.7777777777777778,
              "#fb9f3a"
             ],
             [
              0.8888888888888888,
              "#fdca26"
             ],
             [
              1,
              "#f0f921"
             ]
            ],
            "type": "contour"
           }
          ],
          "contourcarpet": [
           {
            "colorbar": {
             "outlinewidth": 0,
             "ticks": ""
            },
            "type": "contourcarpet"
           }
          ],
          "heatmap": [
           {
            "colorbar": {
             "outlinewidth": 0,
             "ticks": ""
            },
            "colorscale": [
             [
              0,
              "#0d0887"
             ],
             [
              0.1111111111111111,
              "#46039f"
             ],
             [
              0.2222222222222222,
              "#7201a8"
             ],
             [
              0.3333333333333333,
              "#9c179e"
             ],
             [
              0.4444444444444444,
              "#bd3786"
             ],
             [
              0.5555555555555556,
              "#d8576b"
             ],
             [
              0.6666666666666666,
              "#ed7953"
             ],
             [
              0.7777777777777778,
              "#fb9f3a"
             ],
             [
              0.8888888888888888,
              "#fdca26"
             ],
             [
              1,
              "#f0f921"
             ]
            ],
            "type": "heatmap"
           }
          ],
          "heatmapgl": [
           {
            "colorbar": {
             "outlinewidth": 0,
             "ticks": ""
            },
            "colorscale": [
             [
              0,
              "#0d0887"
             ],
             [
              0.1111111111111111,
              "#46039f"
             ],
             [
              0.2222222222222222,
              "#7201a8"
             ],
             [
              0.3333333333333333,
              "#9c179e"
             ],
             [
              0.4444444444444444,
              "#bd3786"
             ],
             [
              0.5555555555555556,
              "#d8576b"
             ],
             [
              0.6666666666666666,
              "#ed7953"
             ],
             [
              0.7777777777777778,
              "#fb9f3a"
             ],
             [
              0.8888888888888888,
              "#fdca26"
             ],
             [
              1,
              "#f0f921"
             ]
            ],
            "type": "heatmapgl"
           }
          ],
          "histogram": [
           {
            "marker": {
             "pattern": {
              "fillmode": "overlay",
              "size": 10,
              "solidity": 0.2
             }
            },
            "type": "histogram"
           }
          ],
          "histogram2d": [
           {
            "colorbar": {
             "outlinewidth": 0,
             "ticks": ""
            },
            "colorscale": [
             [
              0,
              "#0d0887"
             ],
             [
              0.1111111111111111,
              "#46039f"
             ],
             [
              0.2222222222222222,
              "#7201a8"
             ],
             [
              0.3333333333333333,
              "#9c179e"
             ],
             [
              0.4444444444444444,
              "#bd3786"
             ],
             [
              0.5555555555555556,
              "#d8576b"
             ],
             [
              0.6666666666666666,
              "#ed7953"
             ],
             [
              0.7777777777777778,
              "#fb9f3a"
             ],
             [
              0.8888888888888888,
              "#fdca26"
             ],
             [
              1,
              "#f0f921"
             ]
            ],
            "type": "histogram2d"
           }
          ],
          "histogram2dcontour": [
           {
            "colorbar": {
             "outlinewidth": 0,
             "ticks": ""
            },
            "colorscale": [
             [
              0,
              "#0d0887"
             ],
             [
              0.1111111111111111,
              "#46039f"
             ],
             [
              0.2222222222222222,
              "#7201a8"
             ],
             [
              0.3333333333333333,
              "#9c179e"
             ],
             [
              0.4444444444444444,
              "#bd3786"
             ],
             [
              0.5555555555555556,
              "#d8576b"
             ],
             [
              0.6666666666666666,
              "#ed7953"
             ],
             [
              0.7777777777777778,
              "#fb9f3a"
             ],
             [
              0.8888888888888888,
              "#fdca26"
             ],
             [
              1,
              "#f0f921"
             ]
            ],
            "type": "histogram2dcontour"
           }
          ],
          "mesh3d": [
           {
            "colorbar": {
             "outlinewidth": 0,
             "ticks": ""
            },
            "type": "mesh3d"
           }
          ],
          "parcoords": [
           {
            "line": {
             "colorbar": {
              "outlinewidth": 0,
              "ticks": ""
             }
            },
            "type": "parcoords"
           }
          ],
          "pie": [
           {
            "automargin": true,
            "type": "pie"
           }
          ],
          "scatter": [
           {
            "fillpattern": {
             "fillmode": "overlay",
             "size": 10,
             "solidity": 0.2
            },
            "type": "scatter"
           }
          ],
          "scatter3d": [
           {
            "line": {
             "colorbar": {
              "outlinewidth": 0,
              "ticks": ""
             }
            },
            "marker": {
             "colorbar": {
              "outlinewidth": 0,
              "ticks": ""
             }
            },
            "type": "scatter3d"
           }
          ],
          "scattercarpet": [
           {
            "marker": {
             "colorbar": {
              "outlinewidth": 0,
              "ticks": ""
             }
            },
            "type": "scattercarpet"
           }
          ],
          "scattergeo": [
           {
            "marker": {
             "colorbar": {
              "outlinewidth": 0,
              "ticks": ""
             }
            },
            "type": "scattergeo"
           }
          ],
          "scattergl": [
           {
            "marker": {
             "colorbar": {
              "outlinewidth": 0,
              "ticks": ""
             }
            },
            "type": "scattergl"
           }
          ],
          "scattermapbox": [
           {
            "marker": {
             "colorbar": {
              "outlinewidth": 0,
              "ticks": ""
             }
            },
            "type": "scattermapbox"
           }
          ],
          "scatterpolar": [
           {
            "marker": {
             "colorbar": {
              "outlinewidth": 0,
              "ticks": ""
             }
            },
            "type": "scatterpolar"
           }
          ],
          "scatterpolargl": [
           {
            "marker": {
             "colorbar": {
              "outlinewidth": 0,
              "ticks": ""
             }
            },
            "type": "scatterpolargl"
           }
          ],
          "scatterternary": [
           {
            "marker": {
             "colorbar": {
              "outlinewidth": 0,
              "ticks": ""
             }
            },
            "type": "scatterternary"
           }
          ],
          "surface": [
           {
            "colorbar": {
             "outlinewidth": 0,
             "ticks": ""
            },
            "colorscale": [
             [
              0,
              "#0d0887"
             ],
             [
              0.1111111111111111,
              "#46039f"
             ],
             [
              0.2222222222222222,
              "#7201a8"
             ],
             [
              0.3333333333333333,
              "#9c179e"
             ],
             [
              0.4444444444444444,
              "#bd3786"
             ],
             [
              0.5555555555555556,
              "#d8576b"
             ],
             [
              0.6666666666666666,
              "#ed7953"
             ],
             [
              0.7777777777777778,
              "#fb9f3a"
             ],
             [
              0.8888888888888888,
              "#fdca26"
             ],
             [
              1,
              "#f0f921"
             ]
            ],
            "type": "surface"
           }
          ],
          "table": [
           {
            "cells": {
             "fill": {
              "color": "#EBF0F8"
             },
             "line": {
              "color": "white"
             }
            },
            "header": {
             "fill": {
              "color": "#C8D4E3"
             },
             "line": {
              "color": "white"
             }
            },
            "type": "table"
           }
          ]
         },
         "layout": {
          "annotationdefaults": {
           "arrowcolor": "#2a3f5f",
           "arrowhead": 0,
           "arrowwidth": 1
          },
          "autotypenumbers": "strict",
          "coloraxis": {
           "colorbar": {
            "outlinewidth": 0,
            "ticks": ""
           }
          },
          "colorscale": {
           "diverging": [
            [
             0,
             "#8e0152"
            ],
            [
             0.1,
             "#c51b7d"
            ],
            [
             0.2,
             "#de77ae"
            ],
            [
             0.3,
             "#f1b6da"
            ],
            [
             0.4,
             "#fde0ef"
            ],
            [
             0.5,
             "#f7f7f7"
            ],
            [
             0.6,
             "#e6f5d0"
            ],
            [
             0.7,
             "#b8e186"
            ],
            [
             0.8,
             "#7fbc41"
            ],
            [
             0.9,
             "#4d9221"
            ],
            [
             1,
             "#276419"
            ]
           ],
           "sequential": [
            [
             0,
             "#0d0887"
            ],
            [
             0.1111111111111111,
             "#46039f"
            ],
            [
             0.2222222222222222,
             "#7201a8"
            ],
            [
             0.3333333333333333,
             "#9c179e"
            ],
            [
             0.4444444444444444,
             "#bd3786"
            ],
            [
             0.5555555555555556,
             "#d8576b"
            ],
            [
             0.6666666666666666,
             "#ed7953"
            ],
            [
             0.7777777777777778,
             "#fb9f3a"
            ],
            [
             0.8888888888888888,
             "#fdca26"
            ],
            [
             1,
             "#f0f921"
            ]
           ],
           "sequentialminus": [
            [
             0,
             "#0d0887"
            ],
            [
             0.1111111111111111,
             "#46039f"
            ],
            [
             0.2222222222222222,
             "#7201a8"
            ],
            [
             0.3333333333333333,
             "#9c179e"
            ],
            [
             0.4444444444444444,
             "#bd3786"
            ],
            [
             0.5555555555555556,
             "#d8576b"
            ],
            [
             0.6666666666666666,
             "#ed7953"
            ],
            [
             0.7777777777777778,
             "#fb9f3a"
            ],
            [
             0.8888888888888888,
             "#fdca26"
            ],
            [
             1,
             "#f0f921"
            ]
           ]
          },
          "colorway": [
           "#636efa",
           "#EF553B",
           "#00cc96",
           "#ab63fa",
           "#FFA15A",
           "#19d3f3",
           "#FF6692",
           "#B6E880",
           "#FF97FF",
           "#FECB52"
          ],
          "font": {
           "color": "#2a3f5f"
          },
          "geo": {
           "bgcolor": "white",
           "lakecolor": "white",
           "landcolor": "#E5ECF6",
           "showlakes": true,
           "showland": true,
           "subunitcolor": "white"
          },
          "hoverlabel": {
           "align": "left"
          },
          "hovermode": "closest",
          "mapbox": {
           "style": "light"
          },
          "paper_bgcolor": "white",
          "plot_bgcolor": "#E5ECF6",
          "polar": {
           "angularaxis": {
            "gridcolor": "white",
            "linecolor": "white",
            "ticks": ""
           },
           "bgcolor": "#E5ECF6",
           "radialaxis": {
            "gridcolor": "white",
            "linecolor": "white",
            "ticks": ""
           }
          },
          "scene": {
           "xaxis": {
            "backgroundcolor": "#E5ECF6",
            "gridcolor": "white",
            "gridwidth": 2,
            "linecolor": "white",
            "showbackground": true,
            "ticks": "",
            "zerolinecolor": "white"
           },
           "yaxis": {
            "backgroundcolor": "#E5ECF6",
            "gridcolor": "white",
            "gridwidth": 2,
            "linecolor": "white",
            "showbackground": true,
            "ticks": "",
            "zerolinecolor": "white"
           },
           "zaxis": {
            "backgroundcolor": "#E5ECF6",
            "gridcolor": "white",
            "gridwidth": 2,
            "linecolor": "white",
            "showbackground": true,
            "ticks": "",
            "zerolinecolor": "white"
           }
          },
          "shapedefaults": {
           "line": {
            "color": "#2a3f5f"
           }
          },
          "ternary": {
           "aaxis": {
            "gridcolor": "white",
            "linecolor": "white",
            "ticks": ""
           },
           "baxis": {
            "gridcolor": "white",
            "linecolor": "white",
            "ticks": ""
           },
           "bgcolor": "#E5ECF6",
           "caxis": {
            "gridcolor": "white",
            "linecolor": "white",
            "ticks": ""
           }
          },
          "title": {
           "x": 0.05
          },
          "xaxis": {
           "automargin": true,
           "gridcolor": "white",
           "linecolor": "white",
           "ticks": "",
           "title": {
            "standoff": 15
           },
           "zerolinecolor": "white",
           "zerolinewidth": 2
          },
          "yaxis": {
           "automargin": true,
           "gridcolor": "white",
           "linecolor": "white",
           "ticks": "",
           "title": {
            "standoff": 15
           },
           "zerolinecolor": "white",
           "zerolinewidth": 2
          }
         }
        },
        "title": {
         "text": "t-SNE 3D view of 45 topics from LDA/HDP (term: sp_4gram-sn_4gram"
        },
        "width": 600
       }
      }
     },
     "metadata": {},
     "output_type": "display_data"
    }
   ],
   "source": [
    "## tSNE の結果の可視化 (3D)\n",
    "import numpy as np\n",
    "import plotly.graph_objects as go\n",
    "\n",
    "## 図の大きさを決める\n",
    "X = pair_top_tsne_3d_fitted[:,0] # 次元 1\n",
    "Y = pair_top_tsne_3d_fitted[:,1] # 次元 2\n",
    "Z = pair_top_tsne_3d_fitted[:,2] # 次元 3\n",
    "fig = go.Figure(data = [go.Scatter3d(x = X, y = Y, z = Z, mode = 'markers')])\n",
    "## 3D 散布図にラベルを追加する処理は未実装\n",
    "fig.update_layout(autosize = False, width = 600, height = 600,\n",
    "                 title = f\"t-SNE 3D view of {n_topics} topics from LDA/HDP (term: {sp_term_type}-{sn_term_type}\")\n",
    "fig.show()"
   ]
  },
  {
   "cell_type": "code",
   "execution_count": 180,
   "id": "404a29b7",
   "metadata": {},
   "outputs": [
    {
     "ename": "SystemExit",
     "evalue": "0",
     "output_type": "error",
     "traceback": [
      "An exception has occurred, use %tb to see the full traceback.\n",
      "\u001b[0;31mSystemExit\u001b[0m\u001b[0;31m:\u001b[0m 0\n"
     ]
    },
    {
     "name": "stderr",
     "output_type": "stream",
     "text": [
      "/Users/kowk/anaconda3/lib/python3.10/site-packages/IPython/core/interactiveshell.py:3585: UserWarning:\n",
      "\n",
      "To exit: use 'exit', 'quit', or Ctrl-D.\n",
      "\n"
     ]
    }
   ],
   "source": [
    "## stop if HDP is used\n",
    "if use_HDP:\n",
    "    sys.exit(0)"
   ]
  },
  {
   "cell_type": "code",
   "execution_count": null,
   "id": "2726147a-b2ad-4a58-b9b8-471d696f4432",
   "metadata": {},
   "outputs": [],
   "source": [
    "%%capture --no-display\n",
    "## LDA のtopic ごとに，関連度の高い term を表示\n",
    "import pandas as pd\n",
    "n_terms = 30 # topic ごとに表示する term 数の指定\n",
    "pair_topic_dfs = [ ]\n",
    "for topic in range(n_topics):\n",
    "    pair_terms = [ ]\n",
    "    if use_HDP:\n",
    "        for i, prob in pair_hdp.show_topics(topic, num_words = n_terms):\n",
    "            pair_terms.append(pair_diction.id2token[int(i)])\n",
    "    else:\n",
    "        for i, prob in model_used.get_topic_terms(topic, topn = n_terms):\n",
    "            pair_terms.append(pair_diction.id2token[int(i)])\n",
    "    pair_topic_dfs.append(pd.DataFrame([pair_terms], index = [ f'topic {topic + 1}' ]))\n",
    "#\n",
    "df_terms_by_topics = pd.concat(pair_topic_dfs)\n",
    "## Table として表示\n",
    "df_terms_by_topics.T"
   ]
  },
  {
   "cell_type": "code",
   "execution_count": 212,
   "id": "9bb82400-bebd-4899-bda7-c2ad6782e0c2",
   "metadata": {},
   "outputs": [],
   "source": [
    "## save encoding file\n",
    "from datetime import datetime\n",
    "datetime_str = datetime.today().strftime('%Y-%m-%d-%H-%M-%S')\n",
    "signature = \"-\".join(datetime_str.split(\"-\")[0:5])\n",
    "output_file = f\"../saved-term-lists/terms-by-topics-{sp_term_type}-{sn_term_type}-a={term_abuse_threshold}-{signature}.csv\"\n",
    "#\n",
    "save_results = False\n",
    "if save_results:\n",
    "    print(f\"saving a file: {output_file}\")\n",
    "    df_terms_by_topics.to_csv(output_file, index = False)"
   ]
  }
 ],
 "metadata": {
  "kernelspec": {
   "display_name": "Python 3",
   "language": "python",
   "name": "python3"
  },
  "language_info": {
   "codemirror_mode": {
    "name": "ipython",
    "version": 3
   },
   "file_extension": ".py",
   "mimetype": "text/x-python",
   "name": "python",
   "nbconvert_exporter": "python",
   "pygments_lexer": "ipython3",
   "version": "3.10.14"
  },
  "widgets": {
   "application/vnd.jupyter.widget-state+json": {
    "state": {},
    "version_major": 2,
    "version_minor": 0
   }
  }
 },
 "nbformat": 4,
 "nbformat_minor": 5
}
