{
 "cells": [
  {
   "cell_type": "markdown",
   "id": "a4316af3",
   "metadata": {},
   "source": [
    "# Set up"
   ]
  },
  {
   "cell_type": "code",
   "execution_count": 1,
   "id": "c15cc18d",
   "metadata": {},
   "outputs": [],
   "source": [
    "## prepare packages\n",
    "#%pip install -U pandas\n",
    "#%pip install -U matplotlib\n",
    "#%pip install -U gensim\n",
    "#%pip install -U scipy\n",
    "#%pip install -U pyLDAvis\n",
    "#%pip install -U plotly\n",
    "#%pip install -U 'nbformat>=4.2.0'\n",
    "#%pip install -U multiprocess\n",
    "#!conda update conda -y"
   ]
  },
  {
   "cell_type": "code",
   "execution_count": 2,
   "id": "ece3e270",
   "metadata": {},
   "outputs": [],
   "source": [
    "## import modules\n",
    "import os, sys\n",
    "## maake accessible files on level immediately above \n",
    "sys.path.append(os.path.join(os.path.dirname(\"__file__\"), \"..\"))\n",
    "## import other modules\n",
    "import re\n",
    "import gzip, glob\n",
    "import unicodedata\n",
    "## https://stackoverflow.com/questions/41385708/multiprocessing-example-giving-attributeerror\n",
    "#import multiprocessing as mp # fails on IPython environment\n",
    "import multiprocess as mp # provides Pool"
   ]
  },
  {
   "cell_type": "markdown",
   "id": "e35a186e",
   "metadata": {},
   "source": [
    "# Preparation 1"
   ]
  },
  {
   "cell_type": "code",
   "execution_count": 179,
   "id": "a3fc73db-d5f9-44a1-9f49-16a02df376d3",
   "metadata": {},
   "outputs": [
    {
     "name": "stdout",
     "output_type": "stream",
     "text": [
      "sp_term_type: sp_5gram\n",
      "sn_term_type: sn_4gram\n"
     ]
    }
   ],
   "source": [
    "## parameters\n",
    "verbose              = True\n",
    "save_results         = False\n",
    "targets_csv          = True\n",
    "\n",
    "## source sampling\n",
    "source_sampling      = True\n",
    "source_sampling_rate = 0.03 # optimal values depend on kinds of source\n",
    "\n",
    "## doc settings # The longer sentences become, the less precise pairing becomes\n",
    "size_measures        = [ 'sp_size', 'sn_size' ]\n",
    "size_measure         = size_measures[1]\n",
    "max_doc_size         = 10 # values larger than 10 take considerably longer to complete\n",
    "min_doc_size         =  4\n",
    "\n",
    "## preprocessing settings\n",
    "lower_chars          = True\n",
    "strip_accents        = True\n",
    "add_boundaries       = True\n",
    "boundary_symbol      = '#'  # requires more processing resource\n",
    "if add_boundaries:\n",
    "    hash_status = \"-hashed\"\n",
    "else:\n",
    "    hash_status = \"\"\n",
    "\n",
    "## term settings\n",
    "ngram_is_inclusive    = True # takes significantly more time to complete but invites sum error if False with larger n, \n",
    "inclusion_degree      = 1    # Valid values are {0, 1, 2, ..., None}. With k, n-grams includes (n-k)-grams\n",
    "max_gap_size_factor   = 0.53 # It takes time at valuers larger than 0.5 with larger n such as n = 5\n",
    "max_gap_size          = round(max_doc_size * max_gap_size_factor) # This needs to be smaller than other cases.\n",
    "\n",
    "## Skippy n-gram の隙間を表わす記号\n",
    "gap_marker            = \"…\"\n",
    "\n",
    "## spell term と sound term の連結記号\n",
    "pair_marker           = \" :: \"\n",
    "\n",
    "## set spell term_type\n",
    "sp_term_types  = [ 'sp_1gram',\n",
    "                  'sp_2gram', 'sp_3gram', 'sp_4gram', 'sp_5gram',\n",
    "                 'sp_sk2gram', 'sp_sk3gram', 'sp_sk4gram', 'sp_sk5gram' ]\n",
    "sp_term_type   = sp_term_types[4]\n",
    "print(f\"sp_term_type: {sp_term_type}\")\n",
    "\n",
    "## set sound term_type\n",
    "sn_term_types = [ 'sn_1gram',\n",
    "                 'sn_2gram', 'sn_3gram', 'sn_4gram', 'sn_5gram',\n",
    "                 'sn_sk2gram', 'sn_sk3gram', 'sn_sk4gram', 'sn_sk5gram' ]\n",
    "sn_term_type = sn_term_types[3]\n",
    "print(f\"sn_term_type: {sn_term_type}\")"
   ]
  },
  {
   "cell_type": "code",
   "execution_count": 180,
   "id": "c2d56fdd",
   "metadata": {},
   "outputs": [],
   "source": [
    "## term filtering: some combinations cause \"Not all rows sum to 1\" error with HDP, but no with LDA\n",
    "apply_term_freq_filtering  = True\n",
    "term_minfreq               = 2 # Effective for speeding up\n",
    "apply_term_abuse_filtering = True\n",
    "term_abuse_threshold       = 0.01 # Larger values reveal deeper; 0.006 seems to be the smallest"
   ]
  },
  {
   "cell_type": "code",
   "execution_count": 181,
   "id": "536120cb",
   "metadata": {},
   "outputs": [
    {
     "name": "stdout",
     "output_type": "stream",
     "text": [
      "method_name: HDP\n",
      "max_n_topics for HDP: 60\n",
      "n_topics for LDA: 60\n",
      "top_perplexity_reduct_rate: 0.33\n"
     ]
    }
   ],
   "source": [
    "## select HDP or LDA: HDP takes considerably longer than LDA,\n",
    "## and is susceptible with \"Not all rows sum to 1\" error at pyLDAvis\n",
    "## HDP\n",
    "use_HDP         = True\n",
    "max_n_topics    = 60\n",
    "n_terms_to_show = 120\n",
    "\n",
    "## LDA\n",
    "n_topics  = max_n_topics # 精度にはあまり影響しない？\n",
    "if use_HDP:\n",
    "    method_name  = \"HDP\" # non-executive variable to be used in file names\n",
    "else:\n",
    "    method_name  = \"LDA\"\n",
    "\n",
    "## tSNE\n",
    "top_perplexity_reduct_rate = 0.33\n",
    "##\n",
    "print(f\"method_name: {method_name}\")\n",
    "print(f\"max_n_topics for HDP: {max_n_topics}\")\n",
    "print(f\"n_topics for LDA: {n_topics}\")\n",
    "print(f\"top_perplexity_reduct_rate: {top_perplexity_reduct_rate}\")"
   ]
  },
  {
   "cell_type": "code",
   "execution_count": 182,
   "id": "b88ae1c3-fd5d-4efe-ab39-45a8d4a9d786",
   "metadata": {},
   "outputs": [
    {
     "data": {
      "text/plain": [
       "['data/open-dict-ipa/data1/yue.csv.gz',\n",
       " 'data/open-dict-ipa/data1/vi_S.csv.gz',\n",
       " 'data/open-dict-ipa/data1/de.csv.gz',\n",
       " 'data/open-dict-ipa/data1/jam.csv.gz',\n",
       " 'data/open-dict-ipa/data1/fa.csv.gz',\n",
       " 'data/open-dict-ipa/data1/zh_hant.csv.gz',\n",
       " 'data/open-dict-ipa/data1/sw.csv.gz',\n",
       " 'data/open-dict-ipa/data1/ar.csv.gz',\n",
       " 'data/open-dict-ipa/data1/es_MX.csv.gz',\n",
       " 'data/open-dict-ipa/data1/vi_C.csv.gz',\n",
       " 'data/open-dict-ipa/data1/ma.csv.gz',\n",
       " 'data/open-dict-ipa/data1/fi.csv.gz',\n",
       " 'data/open-dict-ipa/data1/eo.csv.gz',\n",
       " 'data/open-dict-ipa/data1/fr_QC.csv.gz',\n",
       " 'data/open-dict-ipa/data1/es_ES.csv.gz',\n",
       " 'data/open-dict-ipa/data1/en_US.csv.gz',\n",
       " 'data/open-dict-ipa/data1/en_UK.csv.gz',\n",
       " 'data/open-dict-ipa/data1/nb.csv.gz',\n",
       " 'data/open-dict-ipa/data1/nl.csv.gz',\n",
       " 'data/open-dict-ipa/data1/sv.csv.gz',\n",
       " 'data/open-dict-ipa/data1/or.csv.gz',\n",
       " 'data/open-dict-ipa/data1/zh_hans.csv.gz',\n",
       " 'data/open-dict-ipa/data1/fr_FR.csv.gz',\n",
       " 'data/open-dict-ipa/data1/vi_N.csv.gz',\n",
       " 'data/open-dict-ipa/data1/ja.csv.gz',\n",
       " 'data/open-dict-ipa/data1/is.csv.gz',\n",
       " 'data/open-dict-ipa/data1/en_US.csv',\n",
       " 'data/open-dict-ipa/data1a/de_N_only.csv.gz',\n",
       " 'data/open-dict-ipa/data1a/de_non_N_only.csv.gz']"
      ]
     },
     "execution_count": 182,
     "metadata": {},
     "output_type": "execute_result"
    }
   ],
   "source": [
    "## get data\n",
    "import glob\n",
    "data_dir1 = \"data/open-dict-ipa/data1\"\n",
    "data_dir2 = \"data/open-dict-ipa/data1a\"\n",
    "files = [ ]\n",
    "for dir in [ data_dir1, data_dir2 ]:\n",
    "    gz_files = glob.glob(f\"{dir}/*.gz\")\n",
    "    files.extend(gz_files)\n",
    "    csv_files = glob.glob(f\"{dir}/*.csv\")\n",
    "    files.extend(csv_files)\n",
    "    txt_files = glob.glob(f\"{data_dir2}/*.txt\")\n",
    "    files.extend(txt_files)\n",
    "#\n",
    "files"
   ]
  },
  {
   "cell_type": "code",
   "execution_count": 183,
   "id": "f508682d",
   "metadata": {},
   "outputs": [
    {
     "name": "stdout",
     "output_type": "stream",
     "text": [
      "lang_name: English () [lang_key: en]\n",
      "['data/open-dict-ipa/data1/en_US.csv.gz', 'data/open-dict-ipa/data1/en_UK.csv.gz', 'data/open-dict-ipa/data1/en_US.csv']\n"
     ]
    }
   ],
   "source": [
    "## select language and file\n",
    "lang_names = {  'ar' : 'Arabic',  # 0\n",
    "                'de' : 'German',  # 1\n",
    "                'en' : 'English', # 2\n",
    "                'es' : 'Spanish', # 3\n",
    "                'fr' : 'French',  # 4\n",
    "                'sw' : 'Swahili'  # 5\n",
    "            }\n",
    "#\n",
    "lang_keys = [ 'ar', 'de', 'en', 'es', 'fr', 'sw' ]\n",
    "#\n",
    "lang_key  = lang_keys[2]\n",
    "lang_name = lang_names[lang_key]\n",
    "lang_attr = \"\"\n",
    "print(f\"lang_name: {lang_name} ({lang_attr}) [lang_key: {lang_key}]\")\n",
    "# aliases\n",
    "target_lang_dict = lang_names\n",
    "target_lang_keys = lang_keys\n",
    "target_lang_key  = lang_key\n",
    "target_lang_attr = lang_attr\n",
    "#\n",
    "files = [ file for file in files if f\"/{lang_key}\" in file ]\n",
    "print(files)\n",
    "if len(lang_attr) > 0:\n",
    "    print(f\"lang_attr: {lang_attr}\")\n",
    "    selected_files = [ file for file in files if lang_attr in file ]\n",
    "else:\n",
    "    selected_files = files\n",
    "selected_files\n",
    "if len(selected_files) == 0:\n",
    "    exit()"
   ]
  },
  {
   "cell_type": "code",
   "execution_count": 184,
   "id": "97086ae0-f619-46dc-932a-383d22e797f1",
   "metadata": {},
   "outputs": [
    {
     "data": {
      "text/html": [
       "<div>\n",
       "<style scoped>\n",
       "    .dataframe tbody tr th:only-of-type {\n",
       "        vertical-align: middle;\n",
       "    }\n",
       "\n",
       "    .dataframe tbody tr th {\n",
       "        vertical-align: top;\n",
       "    }\n",
       "\n",
       "    .dataframe thead th {\n",
       "        text-align: right;\n",
       "    }\n",
       "</style>\n",
       "<table border=\"1\" class=\"dataframe\">\n",
       "  <thead>\n",
       "    <tr style=\"text-align: right;\">\n",
       "      <th></th>\n",
       "      <th>sp_word</th>\n",
       "      <th>sn_word</th>\n",
       "    </tr>\n",
       "  </thead>\n",
       "  <tbody>\n",
       "    <tr>\n",
       "      <th>0</th>\n",
       "      <td>'bout</td>\n",
       "      <td>/ˈbaʊt/</td>\n",
       "    </tr>\n",
       "    <tr>\n",
       "      <th>1</th>\n",
       "      <td>'cause</td>\n",
       "      <td>/kəz/</td>\n",
       "    </tr>\n",
       "    <tr>\n",
       "      <th>2</th>\n",
       "      <td>'course</td>\n",
       "      <td>/ˈkɔɹs/</td>\n",
       "    </tr>\n",
       "    <tr>\n",
       "      <th>3</th>\n",
       "      <td>'cuse</td>\n",
       "      <td>/ˈkjuz/</td>\n",
       "    </tr>\n",
       "    <tr>\n",
       "      <th>4</th>\n",
       "      <td>'em</td>\n",
       "      <td>/əm/</td>\n",
       "    </tr>\n",
       "    <tr>\n",
       "      <th>...</th>\n",
       "      <td>...</td>\n",
       "      <td>...</td>\n",
       "    </tr>\n",
       "    <tr>\n",
       "      <th>125922</th>\n",
       "      <td>zysk</td>\n",
       "      <td>/ˈzaɪsk/</td>\n",
       "    </tr>\n",
       "    <tr>\n",
       "      <th>125923</th>\n",
       "      <td>zyskowski</td>\n",
       "      <td>/zɪˈskɔfski/</td>\n",
       "    </tr>\n",
       "    <tr>\n",
       "      <th>125924</th>\n",
       "      <td>zyuganov</td>\n",
       "      <td>/ˈzjuɡɑnɑv/, /ˈzuɡɑnɑv/</td>\n",
       "    </tr>\n",
       "    <tr>\n",
       "      <th>125925</th>\n",
       "      <td>zyuganov's</td>\n",
       "      <td>/ˈzjuɡɑnɑvz/, /ˈzuɡɑnɑvz/</td>\n",
       "    </tr>\n",
       "    <tr>\n",
       "      <th>125926</th>\n",
       "      <td>zywicki</td>\n",
       "      <td>/zɪˈwɪki/</td>\n",
       "    </tr>\n",
       "  </tbody>\n",
       "</table>\n",
       "<p>125927 rows × 2 columns</p>\n",
       "</div>"
      ],
      "text/plain": [
       "           sp_word                    sn_word\n",
       "0            'bout                    /ˈbaʊt/\n",
       "1           'cause                      /kəz/\n",
       "2          'course                    /ˈkɔɹs/\n",
       "3            'cuse                    /ˈkjuz/\n",
       "4              'em                       /əm/\n",
       "...            ...                        ...\n",
       "125922        zysk                   /ˈzaɪsk/\n",
       "125923   zyskowski               /zɪˈskɔfski/\n",
       "125924    zyuganov    /ˈzjuɡɑnɑv/, /ˈzuɡɑnɑv/\n",
       "125925  zyuganov's  /ˈzjuɡɑnɑvz/, /ˈzuɡɑnɑvz/\n",
       "125926     zywicki                  /zɪˈwɪki/\n",
       "\n",
       "[125927 rows x 2 columns]"
      ]
     },
     "execution_count": 184,
     "metadata": {},
     "output_type": "execute_result"
    }
   ],
   "source": [
    "## build data from files\n",
    "import re, unicodedata\n",
    "import pandas as pd\n",
    "check = False\n",
    "target_file = selected_files[0]\n",
    "col_names = [ 'sp_word', 'sn_word' ]\n",
    "if target_file.endswith(\".gz\"):\n",
    "    with gzip.open(target_file, \"rt\") as f:\n",
    "        raw_df = pd.read_csv(f, encoding = 'utf8', header = None, names = col_names )\n",
    "else:\n",
    "    with open(target_file, \"rt\") as f:\n",
    "        raw_df = pd.read_csv(f, encoding = 'utf8', header = None, names = col_names )\n",
    "#\n",
    "raw_df"
   ]
  },
  {
   "cell_type": "code",
   "execution_count": 185,
   "id": "83365b9b",
   "metadata": {},
   "outputs": [
    {
     "data": {
      "text/html": [
       "<div>\n",
       "<style scoped>\n",
       "    .dataframe tbody tr th:only-of-type {\n",
       "        vertical-align: middle;\n",
       "    }\n",
       "\n",
       "    .dataframe tbody tr th {\n",
       "        vertical-align: top;\n",
       "    }\n",
       "\n",
       "    .dataframe thead th {\n",
       "        text-align: right;\n",
       "    }\n",
       "</style>\n",
       "<table border=\"1\" class=\"dataframe\">\n",
       "  <thead>\n",
       "    <tr style=\"text-align: right;\">\n",
       "      <th></th>\n",
       "      <th>sp_word</th>\n",
       "      <th>sn_word</th>\n",
       "    </tr>\n",
       "  </thead>\n",
       "  <tbody>\n",
       "    <tr>\n",
       "      <th>0</th>\n",
       "      <td>'bout</td>\n",
       "      <td>baʊt</td>\n",
       "    </tr>\n",
       "    <tr>\n",
       "      <th>1</th>\n",
       "      <td>'cause</td>\n",
       "      <td>kəz</td>\n",
       "    </tr>\n",
       "    <tr>\n",
       "      <th>2</th>\n",
       "      <td>'course</td>\n",
       "      <td>kɔɹs</td>\n",
       "    </tr>\n",
       "    <tr>\n",
       "      <th>3</th>\n",
       "      <td>'cuse</td>\n",
       "      <td>kjuz</td>\n",
       "    </tr>\n",
       "    <tr>\n",
       "      <th>4</th>\n",
       "      <td>'em</td>\n",
       "      <td>əm</td>\n",
       "    </tr>\n",
       "    <tr>\n",
       "      <th>...</th>\n",
       "      <td>...</td>\n",
       "      <td>...</td>\n",
       "    </tr>\n",
       "    <tr>\n",
       "      <th>125922</th>\n",
       "      <td>zysk</td>\n",
       "      <td>zaɪsk</td>\n",
       "    </tr>\n",
       "    <tr>\n",
       "      <th>125923</th>\n",
       "      <td>zyskowski</td>\n",
       "      <td>zɪskɔfski</td>\n",
       "    </tr>\n",
       "    <tr>\n",
       "      <th>125924</th>\n",
       "      <td>zyuganov</td>\n",
       "      <td>zjuɡɑnɑv</td>\n",
       "    </tr>\n",
       "    <tr>\n",
       "      <th>125925</th>\n",
       "      <td>zyuganov's</td>\n",
       "      <td>zjuɡɑnɑvz</td>\n",
       "    </tr>\n",
       "    <tr>\n",
       "      <th>125926</th>\n",
       "      <td>zywicki</td>\n",
       "      <td>zɪwɪki</td>\n",
       "    </tr>\n",
       "  </tbody>\n",
       "</table>\n",
       "<p>125927 rows × 2 columns</p>\n",
       "</div>"
      ],
      "text/plain": [
       "           sp_word    sn_word\n",
       "0            'bout       baʊt\n",
       "1           'cause        kəz\n",
       "2          'course       kɔɹs\n",
       "3            'cuse       kjuz\n",
       "4              'em         əm\n",
       "...            ...        ...\n",
       "125922        zysk      zaɪsk\n",
       "125923   zyskowski  zɪskɔfski\n",
       "125924    zyuganov   zjuɡɑnɑv\n",
       "125925  zyuganov's  zjuɡɑnɑvz\n",
       "125926     zywicki     zɪwɪki\n",
       "\n",
       "[125927 rows x 2 columns]"
      ]
     },
     "execution_count": 185,
     "metadata": {},
     "output_type": "execute_result"
    }
   ],
   "source": [
    "## modify spell\n",
    "raw_df['sp_word'] = raw_df['sp_word'].apply(lambda x: unicodedata.normalize('NFC', str(x)))\n",
    "if lower_chars:\n",
    "    raw_df['sp_word'] = raw_df['sp_word'].apply(lambda x: x.lower())\n",
    "\n",
    "## modify sound symbols\n",
    "raw_df['sn_word'] = raw_df['sn_word'].apply(lambda x: unicodedata.normalize('NFC', str(x)))\n",
    "raw_df['sn_word'] = raw_df['sn_word'].apply(lambda x: re.sub(r\"/\", \"\", x))\n",
    "raw_df['sn_word'] = raw_df['sn_word'].apply(lambda x: x.split(\",\")[0]) # pick up only the first\n",
    "if strip_accents:\n",
    "    raw_df['sn_word'] = raw_df['sn_word'].apply(lambda x: re.sub(r'\"', \"\", x))\n",
    "    raw_df['sn_word'] = raw_df['sn_word'].apply(lambda x: re.sub(r\"[ˈˌ]\", \"\", x))\n",
    "#\n",
    "raw_df"
   ]
  },
  {
   "cell_type": "code",
   "execution_count": 186,
   "id": "81bbbea3",
   "metadata": {},
   "outputs": [
    {
     "data": {
      "text/html": [
       "<div>\n",
       "<style scoped>\n",
       "    .dataframe tbody tr th:only-of-type {\n",
       "        vertical-align: middle;\n",
       "    }\n",
       "\n",
       "    .dataframe tbody tr th {\n",
       "        vertical-align: top;\n",
       "    }\n",
       "\n",
       "    .dataframe thead th {\n",
       "        text-align: right;\n",
       "    }\n",
       "</style>\n",
       "<table border=\"1\" class=\"dataframe\">\n",
       "  <thead>\n",
       "    <tr style=\"text-align: right;\">\n",
       "      <th></th>\n",
       "      <th>did</th>\n",
       "      <th>sid</th>\n",
       "      <th>sp_word</th>\n",
       "      <th>sn_word</th>\n",
       "    </tr>\n",
       "  </thead>\n",
       "  <tbody>\n",
       "    <tr>\n",
       "      <th>0</th>\n",
       "      <td>1</td>\n",
       "      <td>1</td>\n",
       "      <td>'bout</td>\n",
       "      <td>baʊt</td>\n",
       "    </tr>\n",
       "    <tr>\n",
       "      <th>1</th>\n",
       "      <td>2</td>\n",
       "      <td>2</td>\n",
       "      <td>'cause</td>\n",
       "      <td>kəz</td>\n",
       "    </tr>\n",
       "    <tr>\n",
       "      <th>2</th>\n",
       "      <td>3</td>\n",
       "      <td>3</td>\n",
       "      <td>'course</td>\n",
       "      <td>kɔɹs</td>\n",
       "    </tr>\n",
       "    <tr>\n",
       "      <th>3</th>\n",
       "      <td>4</td>\n",
       "      <td>4</td>\n",
       "      <td>'cuse</td>\n",
       "      <td>kjuz</td>\n",
       "    </tr>\n",
       "    <tr>\n",
       "      <th>4</th>\n",
       "      <td>5</td>\n",
       "      <td>5</td>\n",
       "      <td>'em</td>\n",
       "      <td>əm</td>\n",
       "    </tr>\n",
       "    <tr>\n",
       "      <th>...</th>\n",
       "      <td>...</td>\n",
       "      <td>...</td>\n",
       "      <td>...</td>\n",
       "      <td>...</td>\n",
       "    </tr>\n",
       "    <tr>\n",
       "      <th>125922</th>\n",
       "      <td>125923</td>\n",
       "      <td>125923</td>\n",
       "      <td>zysk</td>\n",
       "      <td>zaɪsk</td>\n",
       "    </tr>\n",
       "    <tr>\n",
       "      <th>125923</th>\n",
       "      <td>125924</td>\n",
       "      <td>125924</td>\n",
       "      <td>zyskowski</td>\n",
       "      <td>zɪskɔfski</td>\n",
       "    </tr>\n",
       "    <tr>\n",
       "      <th>125924</th>\n",
       "      <td>125925</td>\n",
       "      <td>125925</td>\n",
       "      <td>zyuganov</td>\n",
       "      <td>zjuɡɑnɑv</td>\n",
       "    </tr>\n",
       "    <tr>\n",
       "      <th>125925</th>\n",
       "      <td>125926</td>\n",
       "      <td>125926</td>\n",
       "      <td>zyuganov's</td>\n",
       "      <td>zjuɡɑnɑvz</td>\n",
       "    </tr>\n",
       "    <tr>\n",
       "      <th>125926</th>\n",
       "      <td>125927</td>\n",
       "      <td>125927</td>\n",
       "      <td>zywicki</td>\n",
       "      <td>zɪwɪki</td>\n",
       "    </tr>\n",
       "  </tbody>\n",
       "</table>\n",
       "<p>125927 rows × 4 columns</p>\n",
       "</div>"
      ],
      "text/plain": [
       "           did     sid     sp_word    sn_word\n",
       "0            1       1       'bout       baʊt\n",
       "1            2       2      'cause        kəz\n",
       "2            3       3     'course       kɔɹs\n",
       "3            4       4       'cuse       kjuz\n",
       "4            5       5         'em         əm\n",
       "...        ...     ...         ...        ...\n",
       "125922  125923  125923        zysk      zaɪsk\n",
       "125923  125924  125924   zyskowski  zɪskɔfski\n",
       "125924  125925  125925    zyuganov   zjuɡɑnɑv\n",
       "125925  125926  125926  zyuganov's  zjuɡɑnɑvz\n",
       "125926  125927  125927     zywicki     zɪwɪki\n",
       "\n",
       "[125927 rows x 4 columns]"
      ]
     },
     "execution_count": 186,
     "metadata": {},
     "output_type": "execute_result"
    }
   ],
   "source": [
    "## build df\n",
    "dids = [ ]\n",
    "sids = [ ]\n",
    "Spells = [ ]\n",
    "Sounds = [ ]\n",
    "for i, row in raw_df.iterrows():\n",
    "    spell = row['sp_word']\n",
    "    sound = row['sn_word']\n",
    "    if len(spell) > 0 and len(sound) > 0:\n",
    "        dids.append(i + 1)\n",
    "        sids.append(i + 1)\n",
    "        Spells.append(spell)\n",
    "        Sounds.append(sound)\n",
    "#\n",
    "var_names = [ 'did', 'sid', 'sp_word', 'sn_word',\n",
    "            'sp_size', 'sn_size', 'paired_terms', \n",
    "            'sp_1gram', 'sp_2gram', 'sp_3gram',\n",
    "            'sp_sk2gram', 'sp_sk3gram',\n",
    "            'sn_1gram', 'sn_2gram', 'sn_3gram', \n",
    "            'sn_sk2gram', 'sn_sk3gram' ]\n",
    "df = pd.DataFrame()\n",
    "df['did'] = dids\n",
    "df['sid'] = sids\n",
    "df['sp_word'] = Spells\n",
    "df['sn_word'] = Sounds\n",
    "#\n",
    "df[var_names[:4]]"
   ]
  },
  {
   "cell_type": "code",
   "execution_count": 187,
   "id": "fa5d409e-d2ae-4c3a-9fac-e4b646682d77",
   "metadata": {},
   "outputs": [
    {
     "name": "stdout",
     "output_type": "stream",
     "text": [
      "sampled 3778 (0.030) rows by discarding 122149 rows\n"
     ]
    }
   ],
   "source": [
    "## sampling\n",
    "if source_sampling:\n",
    "    original_size = len(df)\n",
    "    sample_size = round(len(df) * source_sampling_rate)\n",
    "    df = df.sample(sample_size)\n",
    "    print(f\"sampled {len(df)} ({source_sampling_rate:0.3f}) rows by discarding {original_size - len(df)} rows\")"
   ]
  },
  {
   "cell_type": "code",
   "execution_count": 188,
   "id": "5aa50f78-ca51-45b7-85a5-68b9ab978bcf",
   "metadata": {},
   "outputs": [],
   "source": [
    "## tokenization\n",
    "import gzip, re\n",
    "import pandas as pd\n",
    "check = False\n",
    "Snx = [ ]\n",
    "Spx = [ ]\n",
    "for i, row in df.iterrows():\n",
    "    Spt = row['sp_word']\n",
    "    Snt = row['sn_word']\n",
    "    split_pattern = r\"\"\n",
    "    ## Spell\n",
    "    sp_seg = [ x for x in re.split(split_pattern, Spt) if len(x) > 0 ]\n",
    "    if check:\n",
    "        print(sp_seg)\n",
    "    Spx.append(sp_seg)\n",
    "    ## Sound\n",
    "    sn_seg = [ x for x in re.split(split_pattern, Snt) if len(x) > 0 ]\n",
    "    if check:\n",
    "        print(sn_seg)\n",
    "    Snx.append(sn_seg)\n",
    "## Spell\n",
    "try:\n",
    "    df['sp_1gram'] = Spx\n",
    "except ValueError:\n",
    "    pass\n",
    "## Sound\n",
    "try:\n",
    "    df['sn_1gram'] = Snx\n",
    "except ValueError:\n",
    "    pass\n",
    "## check result\n",
    "if verbose:\n",
    "    df"
   ]
  },
  {
   "cell_type": "code",
   "execution_count": 189,
   "id": "756e28b8-e393-4e0f-a890-b73df31b846f",
   "metadata": {},
   "outputs": [],
   "source": [
    "## add size columns\n",
    "df['sp_size'] = df['sp_1gram'].apply(lambda x: len(x))\n",
    "df['sn_size'] = df['sn_1gram'].apply(lambda x: len(x))\n",
    "if verbose:\n",
    "    df"
   ]
  },
  {
   "cell_type": "code",
   "execution_count": 190,
   "id": "1b7f1f94-aed4-4a66-b5fd-9347a4c9700d",
   "metadata": {},
   "outputs": [
    {
     "data": {
      "image/png": "[encoded data removed]",
      "text/plain": [
       "<Figure size 640x480 with 1 Axes>"
      ]
     },
     "metadata": {},
     "output_type": "display_data"
    }
   ],
   "source": [
    "## 語の綴り文字数の分布\n",
    "import matplotlib.pyplot as plt\n",
    "plt.hist(df['sp_size'], bins = 20)\n",
    "plt.title(f\"Distribution of counts in spell\")\n",
    "plt.show()"
   ]
  },
  {
   "cell_type": "code",
   "execution_count": 191,
   "id": "4149bba3",
   "metadata": {},
   "outputs": [
    {
     "data": {
      "image/png": "[encoded data removed]",
      "text/plain": [
       "<Figure size 640x480 with 1 Axes>"
      ]
     },
     "metadata": {},
     "output_type": "display_data"
    }
   ],
   "source": [
    "## 語の発音記号数の分布\n",
    "import matplotlib.pyplot as plt\n",
    "plt.hist(df['sn_size'], bins = 20)\n",
    "plt.title(f\"Distribution of counts in sound\")\n",
    "plt.show()"
   ]
  },
  {
   "cell_type": "markdown",
   "id": "a39fc02b",
   "metadata": {},
   "source": [
    "# build terms, part 1"
   ]
  },
  {
   "cell_type": "code",
   "execution_count": 192,
   "id": "ecb048dc-7b78-46f9-80ef-5de9bff36232",
   "metadata": {
    "tags": [
     "Filtering by doc length"
    ]
   },
   "outputs": [
    {
     "name": "stdout",
     "output_type": "stream",
     "text": [
      "discarding pairs whose sn_size part has less than 4 chars\n",
      "discarding pairs whose sn_size part has more than 10 chars\n",
      "603 (0.160) pairs were removed\n",
      "3175 pairs remain\n"
     ]
    }
   ],
   "source": [
    "## 長さで濾過\n",
    "original_size = len(df)\n",
    "print(f\"discarding pairs whose {size_measure} part has less than {min_doc_size} chars\")\n",
    "df = df[df[size_measure] >= min_doc_size]\n",
    "\n",
    "print(f\"discarding pairs whose {size_measure} part has more than {max_doc_size} chars\")\n",
    "df = df[df[size_measure] < max_doc_size]\n",
    "\n",
    "current_size = len(df)\n",
    "size_diff = original_size - current_size\n",
    "print(f\"{size_diff} ({size_diff/original_size:.3f}) pairs were removed\")\n",
    "print(f\"{current_size} pairs remain\")"
   ]
  },
  {
   "cell_type": "code",
   "execution_count": 193,
   "id": "ff957230",
   "metadata": {},
   "outputs": [],
   "source": [
    "## add boundaries\n",
    "if add_boundaries:\n",
    "    df['sp_word'] = df['sp_word'].apply(lambda x: f\"{boundary_symbol}{x}{boundary_symbol}\")\n",
    "    df['sn_word'] = df['sn_word'].apply(lambda x: f\"{boundary_symbol}{x}{boundary_symbol}\")\n",
    "    df[['sp_word', 'sn_word']]"
   ]
  },
  {
   "cell_type": "code",
   "execution_count": 194,
   "id": "d2915632",
   "metadata": {},
   "outputs": [
    {
     "data": {
      "text/html": [
       "<div>\n",
       "<style scoped>\n",
       "    .dataframe tbody tr th:only-of-type {\n",
       "        vertical-align: middle;\n",
       "    }\n",
       "\n",
       "    .dataframe tbody tr th {\n",
       "        vertical-align: top;\n",
       "    }\n",
       "\n",
       "    .dataframe thead th {\n",
       "        text-align: right;\n",
       "    }\n",
       "</style>\n",
       "<table border=\"1\" class=\"dataframe\">\n",
       "  <thead>\n",
       "    <tr style=\"text-align: right;\">\n",
       "      <th></th>\n",
       "      <th>sp_1gram</th>\n",
       "      <th>sn_1gram</th>\n",
       "    </tr>\n",
       "  </thead>\n",
       "  <tbody>\n",
       "    <tr>\n",
       "      <th>98407</th>\n",
       "      <td>[#, s, a, n, d, e, f, e, r, #]</td>\n",
       "      <td>[#, s, æ, n, d, i, f, ɝ, #]</td>\n",
       "    </tr>\n",
       "    <tr>\n",
       "      <th>85362</th>\n",
       "      <td>[#, p, e, r, s, o, n, a, e, #]</td>\n",
       "      <td>[#, p, ɝ, s, o, ʊ, n, e, ɪ, #]</td>\n",
       "    </tr>\n",
       "    <tr>\n",
       "      <th>14876</th>\n",
       "      <td>[#, b, r, u, s, s, e, a, u, #]</td>\n",
       "      <td>[#, b, ɹ, ə, s, o, ʊ, #]</td>\n",
       "    </tr>\n",
       "    <tr>\n",
       "      <th>76137</th>\n",
       "      <td>[#, m, o, w, r, e, r, #]</td>\n",
       "      <td>[#, m, ɔ, ɹ, ɝ, #]</td>\n",
       "    </tr>\n",
       "    <tr>\n",
       "      <th>33449</th>\n",
       "      <td>[#, e, a, r, m, a, r, k, #]</td>\n",
       "      <td>[#, i, ɹ, m, ɑ, ɹ, k, #]</td>\n",
       "    </tr>\n",
       "    <tr>\n",
       "      <th>...</th>\n",
       "      <td>...</td>\n",
       "      <td>...</td>\n",
       "    </tr>\n",
       "    <tr>\n",
       "      <th>10804</th>\n",
       "      <td>[#, b, i, l, l, m, e, y, e, r, #]</td>\n",
       "      <td>[#, b, ɪ, ɫ, m, a, ɪ, ɝ, #]</td>\n",
       "    </tr>\n",
       "    <tr>\n",
       "      <th>30543</th>\n",
       "      <td>[#, d, i, s, c, o, l, o, r, s, #]</td>\n",
       "      <td>[#, d, ɪ, s, k, ə, ɫ, ɝ, z, #]</td>\n",
       "    </tr>\n",
       "    <tr>\n",
       "      <th>110715</th>\n",
       "      <td>[#, s, w, i, n, b, u, r, n, e, ', s, #]</td>\n",
       "      <td>[#, s, w, ɪ, n, b, ɝ, n, z, #]</td>\n",
       "    </tr>\n",
       "    <tr>\n",
       "      <th>103031</th>\n",
       "      <td>[#, s, h, o, w, e, l, l, #]</td>\n",
       "      <td>[#, ʃ, ɑ, w, ɛ, ɫ, #]</td>\n",
       "    </tr>\n",
       "    <tr>\n",
       "      <th>34764</th>\n",
       "      <td>[#, e, l, s, i, e, #]</td>\n",
       "      <td>[#, ɛ, ɫ, s, i, #]</td>\n",
       "    </tr>\n",
       "  </tbody>\n",
       "</table>\n",
       "<p>3175 rows × 2 columns</p>\n",
       "</div>"
      ],
      "text/plain": [
       "                                       sp_1gram  \\\n",
       "98407            [#, s, a, n, d, e, f, e, r, #]   \n",
       "85362            [#, p, e, r, s, o, n, a, e, #]   \n",
       "14876            [#, b, r, u, s, s, e, a, u, #]   \n",
       "76137                  [#, m, o, w, r, e, r, #]   \n",
       "33449               [#, e, a, r, m, a, r, k, #]   \n",
       "...                                         ...   \n",
       "10804         [#, b, i, l, l, m, e, y, e, r, #]   \n",
       "30543         [#, d, i, s, c, o, l, o, r, s, #]   \n",
       "110715  [#, s, w, i, n, b, u, r, n, e, ', s, #]   \n",
       "103031              [#, s, h, o, w, e, l, l, #]   \n",
       "34764                     [#, e, l, s, i, e, #]   \n",
       "\n",
       "                              sn_1gram  \n",
       "98407      [#, s, æ, n, d, i, f, ɝ, #]  \n",
       "85362   [#, p, ɝ, s, o, ʊ, n, e, ɪ, #]  \n",
       "14876         [#, b, ɹ, ə, s, o, ʊ, #]  \n",
       "76137               [#, m, ɔ, ɹ, ɝ, #]  \n",
       "33449         [#, i, ɹ, m, ɑ, ɹ, k, #]  \n",
       "...                                ...  \n",
       "10804      [#, b, ɪ, ɫ, m, a, ɪ, ɝ, #]  \n",
       "30543   [#, d, ɪ, s, k, ə, ɫ, ɝ, z, #]  \n",
       "110715  [#, s, w, ɪ, n, b, ɝ, n, z, #]  \n",
       "103031           [#, ʃ, ɑ, w, ɛ, ɫ, #]  \n",
       "34764               [#, ɛ, ɫ, s, i, #]  \n",
       "\n",
       "[3175 rows x 2 columns]"
      ]
     },
     "execution_count": 194,
     "metadata": {},
     "output_type": "execute_result"
    }
   ],
   "source": [
    "## add 1gram\n",
    "import re\n",
    "w_splitter = r\"\"\n",
    "df['sp_1gram'] = [ [ x for x in re.split(w_splitter, w) if len(x) > 0 ] for w in df['sp_word'] ]\n",
    "df['sn_1gram'] = [ [ x for x in re.split(w_splitter, w) if len(x) > 0 ] for w in df['sn_word'] ]\n",
    "df[['sp_1gram', 'sn_1gram']]"
   ]
  },
  {
   "cell_type": "code",
   "execution_count": 195,
   "id": "9c4dcbd7-8763-42cf-92a9-b8b0ff711602",
   "metadata": {},
   "outputs": [
    {
     "data": {
      "text/plain": [
       "[('#', 6350),\n",
       " ('e', 2603),\n",
       " ('a', 2034),\n",
       " ('r', 1824),\n",
       " ('s', 1691),\n",
       " ('i', 1626),\n",
       " ('n', 1590),\n",
       " ('o', 1423),\n",
       " ('l', 1386),\n",
       " ('t', 1218)]"
      ]
     },
     "execution_count": 195,
     "metadata": {},
     "output_type": "execute_result"
    }
   ],
   "source": [
    "## inspect frequent tokens in sp_1gram\n",
    "from collections import Counter\n",
    "sp_chars_all = [ ] \n",
    "[ sp_chars_all.extend(list(x)) for x in df['sp_1gram'] ]\n",
    "sp_char_freqs = Counter(sp_chars_all)\n",
    "## Show most frequent 10 segments\n",
    "sｐ_char_freqs.most_common(10)"
   ]
  },
  {
   "cell_type": "code",
   "execution_count": 196,
   "id": "a8add992",
   "metadata": {},
   "outputs": [
    {
     "data": {
      "text/plain": [
       "[('#', 6350),\n",
       " ('ɪ', 1602),\n",
       " ('ə', 1483),\n",
       " ('n', 1317),\n",
       " ('ɫ', 1174),\n",
       " ('t', 1109),\n",
       " ('s', 1072),\n",
       " ('ɹ', 1051),\n",
       " ('k', 954),\n",
       " ('d', 917)]"
      ]
     },
     "execution_count": 196,
     "metadata": {},
     "output_type": "execute_result"
    }
   ],
   "source": [
    "## inspect frequent tokens in sn_1gram\n",
    "from collections import Counter\n",
    "sn_chars_all = [ ] \n",
    "[ sn_chars_all.extend(list(x)) for x in df['sn_1gram'] ]\n",
    "sn_char_freqs = Counter(sn_chars_all)\n",
    "## Show most frequent 10 segments\n",
    "sn_char_freqs.most_common(10)"
   ]
  },
  {
   "cell_type": "code",
   "execution_count": 197,
   "id": "bd49c4cc-4d7c-46e2-b3a0-3b29140a0fd9",
   "metadata": {},
   "outputs": [],
   "source": [
    "## Install nltk if necessary\n",
    "#!pip install -U nltk"
   ]
  },
  {
   "cell_type": "markdown",
   "id": "2c19a0e4",
   "metadata": {},
   "source": [
    "n-grams の構築"
   ]
  },
  {
   "cell_type": "code",
   "execution_count": 198,
   "id": "85034591",
   "metadata": {},
   "outputs": [],
   "source": [
    "def gen_ngrams_from_str(t: str, n: int, sep: str = r\"\", joint: str = \"\", check = False):\n",
    "    'returns the list of character n-grams from a given string'\n",
    "    import re\n",
    "    segs = [ x for x in re.split(sep, t) if len(x) > 0 ]\n",
    "    if check:\n",
    "        print(segs)\n",
    "    ## short input\n",
    "    if len(segs) <= n:\n",
    "        return segs\n",
    "    ## long enough input\n",
    "    G = [ ]\n",
    "    for i in range(len(segs)):\n",
    "        try:\n",
    "            b = segs[ i : i + n ]\n",
    "            if check:\n",
    "                print(b)\n",
    "            c = joint.join(b)\n",
    "            if check:\n",
    "                print(c)\n",
    "            if len(c) == n:\n",
    "                G.append(c)\n",
    "        except IndexError:\n",
    "            pass\n",
    "    return G"
   ]
  },
  {
   "cell_type": "code",
   "execution_count": 199,
   "id": "a202d751",
   "metadata": {},
   "outputs": [],
   "source": [
    "## generic n-gram generation function\n",
    "def add_ngrams(dfx, n_for_ngram: int, prefix: str = \"\", skippy: bool = False, skippiness_symbol: str = \"sk\", max_distance = None, seg_joint: str = \"\", gap_mark: str = \"…\", inclusive: bool = True, inclusion_degree = None, check: bool = False):\n",
    "    \"add ngram col to the dfx given\"\n",
    "    import gen_ngrams\n",
    "    ## set variable names\n",
    "    source_var_name = f\"{prefix}1gram\"\n",
    "    if skippy:\n",
    "        target_var_name  = f\"{prefix}{skippiness_symbol}{n_for_ngram}gram\"\n",
    "        if n_for_ngram == 2:\n",
    "            sub_var_name = f\"{prefix}{n_for_ngram - 1}gram\"\n",
    "        else:\n",
    "            sub_var_name = f\"{prefix}{skippiness_symbol}{n_for_ngram - 1}gram\"\n",
    "            \n",
    "    else:\n",
    "        target_var_name  = f\"{prefix}{n_for_ngram}gram\"\n",
    "        sub_var_name     = f\"{prefix}{n_for_ngram - 1}gram\"\n",
    "    if check:\n",
    "        print(f\"source_var_name: {source_var_name}\")\n",
    "        print(f\"target_var_name: {target_var_name}\")\n",
    "        print(f\"sub_var_name: {sub_var_name}\")\n",
    "        \n",
    "    ## 1gram\n",
    "    unigrams = dfx[source_var_name]\n",
    "    \n",
    "    ## ngram\n",
    "    pool = mp.Pool (processes = max(os.cpu_count() - 1, 1))\n",
    "    if skippy:\n",
    "        ngrams = [ gen_ngrams.gen_skippy_ngrams(g, n = n_for_ngram, sep = seg_joint, missing_mark = gap_mark, max_distance = max_distance, check = check) for g in unigrams ]\n",
    "    else:\n",
    "        ngrams = [ gen_ngrams.gen_ngrams(g, n = n_for_ngram, sep = seg_joint, check = check) for g in unigrams ]\n",
    "    \n",
    "    ## make ngrams inclusive\n",
    "    if inclusive:\n",
    "        sub_ngrams = list(dfx[sub_var_name])\n",
    "        if inclusion_degree is None:\n",
    "            for i, gram in enumerate(ngrams):\n",
    "                assert len(ngrams) == len(sub_ngrams)\n",
    "                supplement = sub_ngrams[i]\n",
    "                supplement = [ g for g in supplement if len(g) > 0 ]\n",
    "                if len(supplement) > 0:\n",
    "                    gram.extend(supplement)\n",
    "        else:\n",
    "            min_size = (n_for_ngram - inclusion_degree)\n",
    "            assert min_size >= 0\n",
    "            for i, gram in enumerate(ngrams):\n",
    "                assert len(ngrams) == len(sub_ngrams)\n",
    "                supplement = sub_ngrams[i]\n",
    "                supplement = [ g for g in supplement if len(g) >= min_size ]\n",
    "                if len(supplement) > 0:\n",
    "                    gram.extend(supplement)\n",
    "    ## update df\n",
    "    dfx[target_var_name] = ngrams\n",
    "    print(dfx[target_var_name])"
   ]
  },
  {
   "cell_type": "markdown",
   "id": "aa8e1371",
   "metadata": {},
   "source": [
    "# Spell n-grams 生成"
   ]
  },
  {
   "cell_type": "code",
   "execution_count": 200,
   "id": "53a99a97",
   "metadata": {},
   "outputs": [
    {
     "data": {
      "text/plain": [
       "Index(['did', 'sid', 'sp_word', 'sn_word', 'sp_1gram', 'sn_1gram', 'sp_size',\n",
       "       'sn_size'],\n",
       "      dtype='object')"
      ]
     },
     "execution_count": 200,
     "metadata": {},
     "output_type": "execute_result"
    }
   ],
   "source": [
    "df.columns\n",
    "#iter(df['sp_1gram'])"
   ]
  },
  {
   "cell_type": "code",
   "execution_count": 201,
   "id": "dd6de012",
   "metadata": {},
   "outputs": [
    {
     "name": "stdout",
     "output_type": "stream",
     "text": [
      "98407     [#s, sa, an, nd, de, ef, fe, er, r#, #, s, a, ...\n",
      "85362     [#p, pe, er, rs, so, on, na, ae, e#, #, p, e, ...\n",
      "14876     [#b, br, ru, us, ss, se, ea, au, u#, #, b, r, ...\n",
      "76137     [#m, mo, ow, wr, re, er, r#, #, m, o, w, r, e,...\n",
      "33449     [#e, ea, ar, rm, ma, ar, rk, k#, #, e, a, r, m...\n",
      "                                ...                        \n",
      "10804     [#b, bi, il, ll, lm, me, ey, ye, er, r#, #, b,...\n",
      "30543     [#d, di, is, sc, co, ol, lo, or, rs, s#, #, d,...\n",
      "110715    [#s, sw, wi, in, nb, bu, ur, rn, ne, e', 's, s...\n",
      "103031    [#s, sh, ho, ow, we, el, ll, l#, #, s, h, o, w...\n",
      "34764         [#e, el, ls, si, ie, e#, #, e, l, s, i, e, #]\n",
      "Name: sp_2gram, Length: 3175, dtype: object\n"
     ]
    }
   ],
   "source": [
    "## sp_2gram の追加\n",
    "add_ngrams(df, n_for_ngram = 2, prefix = \"sp_\", skippy = False, inclusive = True, inclusion_degree = inclusion_degree, check = False)"
   ]
  },
  {
   "cell_type": "code",
   "execution_count": 202,
   "id": "d9abc8d2",
   "metadata": {},
   "outputs": [
    {
     "name": "stdout",
     "output_type": "stream",
     "text": [
      "98407     [#sa, san, and, nde, def, efe, fer, er#, #s, s...\n",
      "85362     [#pe, per, ers, rso, son, ona, nae, ae#, #p, p...\n",
      "14876     [#br, bru, rus, uss, sse, sea, eau, au#, #b, b...\n",
      "76137     [#mo, mow, owr, wre, rer, er#, #m, mo, ow, wr,...\n",
      "33449     [#ea, ear, arm, rma, mar, ark, rk#, #e, ea, ar...\n",
      "                                ...                        \n",
      "10804     [#bi, bil, ill, llm, lme, mey, eye, yer, er#, ...\n",
      "30543     [#di, dis, isc, sco, col, olo, lor, ors, rs#, ...\n",
      "110715    [#sw, swi, win, inb, nbu, bur, urn, rne, ne', ...\n",
      "103031    [#sh, sho, how, owe, wel, ell, ll#, #s, sh, ho...\n",
      "34764     [#el, els, lsi, sie, ie#, #e, el, ls, si, ie, e#]\n",
      "Name: sp_3gram, Length: 3175, dtype: object\n"
     ]
    }
   ],
   "source": [
    "## sp_3gram の追加\n",
    "add_ngrams(df, n_for_ngram = 3, prefix = \"sp_\", skippy = False, inclusive = True, inclusion_degree = inclusion_degree, check = False)"
   ]
  },
  {
   "cell_type": "code",
   "execution_count": 203,
   "id": "51e459f1",
   "metadata": {},
   "outputs": [
    {
     "name": "stdout",
     "output_type": "stream",
     "text": [
      "98407     [#san, sand, ande, ndef, defe, efer, fer#, #sa...\n",
      "85362     [#per, pers, erso, rson, sona, onae, nae#, #pe...\n",
      "14876     [#bru, brus, russ, usse, ssea, seau, eau#, #br...\n",
      "76137     [#mow, mowr, owre, wrer, rer#, #mo, mow, owr, ...\n",
      "33449     [#ear, earm, arma, rmar, mark, ark#, #ea, ear,...\n",
      "                                ...                        \n",
      "10804     [#bil, bill, illm, llme, lmey, meye, eyer, yer...\n",
      "30543     [#dis, disc, isco, scol, colo, olor, lors, ors...\n",
      "110715    [#swi, swin, winb, inbu, nbur, burn, urne, rne...\n",
      "103031    [#sho, show, howe, owel, well, ell#, #sh, sho,...\n",
      "34764     [#els, elsi, lsie, sie#, #el, els, lsi, sie, ie#]\n",
      "Name: sp_4gram, Length: 3175, dtype: object\n"
     ]
    }
   ],
   "source": [
    "## sp_4gram の追加\n",
    "add_ngrams(df, n_for_ngram = 4, prefix = \"sp_\", skippy = False, inclusive = True, inclusion_degree = inclusion_degree, check = False)"
   ]
  },
  {
   "cell_type": "code",
   "execution_count": 204,
   "id": "107fe329",
   "metadata": {},
   "outputs": [
    {
     "name": "stdout",
     "output_type": "stream",
     "text": [
      "98407     [#sand, sande, andef, ndefe, defer, efer#, #sa...\n",
      "85362     [#pers, perso, erson, rsona, sonae, onae#, #pe...\n",
      "14876     [#brus, bruss, russe, ussea, sseau, seau#, #br...\n",
      "76137     [#mowr, mowre, owrer, wrer#, #mow, mowr, owre,...\n",
      "33449     [#earm, earma, armar, rmark, mark#, #ear, earm...\n",
      "                                ...                        \n",
      "10804     [#bill, billm, illme, llmey, lmeye, meyer, eye...\n",
      "30543     [#disc, disco, iscol, scolo, color, olors, lor...\n",
      "110715    [#swin, swinb, winbu, inbur, nburn, burne, urn...\n",
      "103031    [#show, showe, howel, owell, well#, #sho, show...\n",
      "34764         [#elsi, elsie, lsie#, #els, elsi, lsie, sie#]\n",
      "Name: sp_5gram, Length: 3175, dtype: object\n"
     ]
    }
   ],
   "source": [
    "## sp_5gram の追加\n",
    "if \"5gram\" in sp_term_type:\n",
    "    add_ngrams(df, n_for_ngram = 5, prefix = \"sp_\", skippy = False, inclusive = True, inclusion_degree = inclusion_degree, check = False)"
   ]
  },
  {
   "cell_type": "code",
   "execution_count": 205,
   "id": "189db279",
   "metadata": {},
   "outputs": [
    {
     "name": "stdout",
     "output_type": "stream",
     "text": [
      "98407     [#s, #…a, #…n, #…d, sa, s…n, s…d, an, a…d, nd,...\n",
      "85362     [#p, #…e, #…r, #…s, pe, p…r, p…s, er, e…s, rs,...\n",
      "14876     [#b, #…r, #…u, #…s, br, b…u, b…s, ru, r…s, us,...\n",
      "76137     [#m, #…o, #…w, #…r, mo, m…w, m…r, ow, o…r, wr,...\n",
      "33449     [#e, #…a, #…r, #…m, ea, e…r, e…m, ar, a…m, rm,...\n",
      "                                ...                        \n",
      "10804     [#b, #…i, #…l, #…l, bi, b…l, b…l, il, i…l, ll,...\n",
      "30543     [#d, #…i, #…s, #…c, di, d…s, d…c, is, i…c, sc,...\n",
      "110715    [#s, #…w, #…i, #…n, sw, s…i, s…n, wi, w…n, in,...\n",
      "103031    [#s, #…h, #…o, #…w, sh, s…o, s…w, ho, h…w, ow,...\n",
      "34764     [#e, #…l, #…s, #…i, el, e…s, e…i, ls, l…i, si,...\n",
      "Name: sp_sk2gram, Length: 3175, dtype: object\n"
     ]
    }
   ],
   "source": [
    "## sp_sk2gram の追加\n",
    "add_ngrams(df, n_for_ngram = 2, prefix = \"sp_\", skippy = True, max_distance = max_gap_size, inclusive = True, inclusion_degree = inclusion_degree, check = False)"
   ]
  },
  {
   "cell_type": "code",
   "execution_count": 206,
   "id": "5d008d2b",
   "metadata": {},
   "outputs": [
    {
     "name": "stdout",
     "output_type": "stream",
     "text": [
      "98407     [#sa, #s…n, #s…d, #…an, #…a…d, #…nd, san, sa…d...\n",
      "85362     [#pe, #p…r, #p…s, #…er, #…e…s, #…rs, per, pe…s...\n",
      "14876     [#br, #b…u, #b…s, #…ru, #…r…s, #…us, bru, br…s...\n",
      "76137     [#mo, #m…w, #m…r, #…ow, #…o…r, #…wr, mow, mo…r...\n",
      "33449     [#ea, #e…r, #e…m, #…ar, #…a…m, #…rm, ear, ea…m...\n",
      "                                ...                        \n",
      "10804     [#bi, #b…l, #b…l, #…il, #…i…l, #…ll, bil, bi…l...\n",
      "30543     [#di, #d…s, #d…c, #…is, #…i…c, #…sc, dis, di…c...\n",
      "110715    [#sw, #s…i, #s…n, #…wi, #…w…n, #…in, swi, sw…n...\n",
      "103031    [#sh, #s…o, #s…w, #…ho, #…h…w, #…ow, sho, sh…w...\n",
      "34764     [#el, #e…s, #e…i, #…ls, #…l…i, #…si, els, el…i...\n",
      "Name: sp_sk3gram, Length: 3175, dtype: object\n"
     ]
    }
   ],
   "source": [
    "## sp_sk3gram の追加\n",
    "add_ngrams(df, n_for_ngram = 3, prefix = \"sp_\", skippy = True, max_distance = max_gap_size, inclusive = True, inclusion_degree = inclusion_degree, check = False)"
   ]
  },
  {
   "cell_type": "code",
   "execution_count": 207,
   "id": "71943f9f",
   "metadata": {},
   "outputs": [
    {
     "name": "stdout",
     "output_type": "stream",
     "text": [
      "98407     [#san, #sa…d, #s…nd, #…and, sand, sand, san…e,...\n",
      "85362     [#per, #pe…s, #p…rs, #…ers, pers, pers, per…o,...\n",
      "14876     [#bru, #br…s, #b…us, #…rus, brus, brus, bru…s,...\n",
      "76137     [#mow, #mo…r, #m…wr, #…owr, mowr, mowr, mow…e,...\n",
      "33449     [#ear, #ea…m, #e…rm, #…arm, earm, earm, ear…a,...\n",
      "                                ...                        \n",
      "10804     [#bil, #bi…l, #b…ll, #…ill, bill, bill, bil…m,...\n",
      "30543     [#dis, #di…c, #d…sc, #…isc, disc, disc, dis…o,...\n",
      "110715    [#swi, #sw…n, #s…in, #…win, swin, swin, swi…b,...\n",
      "103031    [#sho, #sh…w, #s…ow, #…how, show, show, sho…e,...\n",
      "34764     [#els, #el…i, #e…si, #…lsi, elsi, elsi, els…e,...\n",
      "Name: sp_sk4gram, Length: 3175, dtype: object\n"
     ]
    }
   ],
   "source": [
    "## sp_sk4gram の追加\n",
    "add_ngrams(df, n_for_ngram = 4, prefix = \"sp_\", skippy = True, max_distance = max_gap_size, inclusive = True, inclusion_degree = inclusion_degree, check = False)"
   ]
  },
  {
   "cell_type": "code",
   "execution_count": 208,
   "id": "436b0185",
   "metadata": {},
   "outputs": [
    {
     "name": "stdout",
     "output_type": "stream",
     "text": [
      "98407     [#sand, sande, andef, ndefe, defer, efer#, #sa...\n",
      "85362     [#pers, perso, erson, rsona, sonae, onae#, #pe...\n",
      "14876     [#brus, bruss, russe, ussea, sseau, seau#, #br...\n",
      "76137     [#mowr, mowre, owrer, wrer#, #mow, #mo…r, #m…w...\n",
      "33449     [#earm, earma, armar, rmark, mark#, #ear, #ea…...\n",
      "                                ...                        \n",
      "10804     [#bill, billm, illme, llmey, lmeye, meyer, eye...\n",
      "30543     [#disc, disco, iscol, scolo, color, olors, lor...\n",
      "110715    [#swin, swinb, winbu, inbur, nburn, burne, urn...\n",
      "103031    [#show, showe, howel, owell, well#, #sho, #sh…...\n",
      "34764     [#elsi, elsie, lsie#, #els, #el…i, #e…si, #…ls...\n",
      "Name: sp_sk5gram, Length: 3175, dtype: object\n"
     ]
    }
   ],
   "source": [
    "## sp_sk5gram の追加\n",
    "if \"5gram\" in sp_term_type:\n",
    "    add_ngrams(df, n_for_ngram = 5, prefix = \"sp_\", skippy = True, max_distance = max_gap_size, inclusive = True, inclusion_degree = inclusion_degree, check = False)"
   ]
  },
  {
   "cell_type": "code",
   "execution_count": 209,
   "id": "599db18c",
   "metadata": {},
   "outputs": [
    {
     "data": {
      "text/html": [
       "<div>\n",
       "<style scoped>\n",
       "    .dataframe tbody tr th:only-of-type {\n",
       "        vertical-align: middle;\n",
       "    }\n",
       "\n",
       "    .dataframe tbody tr th {\n",
       "        vertical-align: top;\n",
       "    }\n",
       "\n",
       "    .dataframe thead th {\n",
       "        text-align: right;\n",
       "    }\n",
       "</style>\n",
       "<table border=\"1\" class=\"dataframe\">\n",
       "  <thead>\n",
       "    <tr style=\"text-align: right;\">\n",
       "      <th></th>\n",
       "      <th>sp_word</th>\n",
       "      <th>sp_sk2gram</th>\n",
       "      <th>sp_sk3gram</th>\n",
       "      <th>sp_sk4gram</th>\n",
       "      <th>sp_sk5gram</th>\n",
       "    </tr>\n",
       "  </thead>\n",
       "  <tbody>\n",
       "    <tr>\n",
       "      <th>98407</th>\n",
       "      <td>#sandefer#</td>\n",
       "      <td>[#s, #…a, #…n, #…d, sa, s…n, s…d, an, a…d, nd,...</td>\n",
       "      <td>[#sa, #s…n, #s…d, #…an, #…a…d, #…nd, san, sa…d...</td>\n",
       "      <td>[#san, #sa…d, #s…nd, #…and, sand, sand, san…e,...</td>\n",
       "      <td>[#sand, sande, andef, ndefe, defer, efer#, #sa...</td>\n",
       "    </tr>\n",
       "    <tr>\n",
       "      <th>85362</th>\n",
       "      <td>#personae#</td>\n",
       "      <td>[#p, #…e, #…r, #…s, pe, p…r, p…s, er, e…s, rs,...</td>\n",
       "      <td>[#pe, #p…r, #p…s, #…er, #…e…s, #…rs, per, pe…s...</td>\n",
       "      <td>[#per, #pe…s, #p…rs, #…ers, pers, pers, per…o,...</td>\n",
       "      <td>[#pers, perso, erson, rsona, sonae, onae#, #pe...</td>\n",
       "    </tr>\n",
       "    <tr>\n",
       "      <th>14876</th>\n",
       "      <td>#brusseau#</td>\n",
       "      <td>[#b, #…r, #…u, #…s, br, b…u, b…s, ru, r…s, us,...</td>\n",
       "      <td>[#br, #b…u, #b…s, #…ru, #…r…s, #…us, bru, br…s...</td>\n",
       "      <td>[#bru, #br…s, #b…us, #…rus, brus, brus, bru…s,...</td>\n",
       "      <td>[#brus, bruss, russe, ussea, sseau, seau#, #br...</td>\n",
       "    </tr>\n",
       "    <tr>\n",
       "      <th>76137</th>\n",
       "      <td>#mowrer#</td>\n",
       "      <td>[#m, #…o, #…w, #…r, mo, m…w, m…r, ow, o…r, wr,...</td>\n",
       "      <td>[#mo, #m…w, #m…r, #…ow, #…o…r, #…wr, mow, mo…r...</td>\n",
       "      <td>[#mow, #mo…r, #m…wr, #…owr, mowr, mowr, mow…e,...</td>\n",
       "      <td>[#mowr, mowre, owrer, wrer#, #mow, #mo…r, #m…w...</td>\n",
       "    </tr>\n",
       "    <tr>\n",
       "      <th>33449</th>\n",
       "      <td>#earmark#</td>\n",
       "      <td>[#e, #…a, #…r, #…m, ea, e…r, e…m, ar, a…m, rm,...</td>\n",
       "      <td>[#ea, #e…r, #e…m, #…ar, #…a…m, #…rm, ear, ea…m...</td>\n",
       "      <td>[#ear, #ea…m, #e…rm, #…arm, earm, earm, ear…a,...</td>\n",
       "      <td>[#earm, earma, armar, rmark, mark#, #ear, #ea…...</td>\n",
       "    </tr>\n",
       "    <tr>\n",
       "      <th>...</th>\n",
       "      <td>...</td>\n",
       "      <td>...</td>\n",
       "      <td>...</td>\n",
       "      <td>...</td>\n",
       "      <td>...</td>\n",
       "    </tr>\n",
       "    <tr>\n",
       "      <th>10804</th>\n",
       "      <td>#billmeyer#</td>\n",
       "      <td>[#b, #…i, #…l, #…l, bi, b…l, b…l, il, i…l, ll,...</td>\n",
       "      <td>[#bi, #b…l, #b…l, #…il, #…i…l, #…ll, bil, bi…l...</td>\n",
       "      <td>[#bil, #bi…l, #b…ll, #…ill, bill, bill, bil…m,...</td>\n",
       "      <td>[#bill, billm, illme, llmey, lmeye, meyer, eye...</td>\n",
       "    </tr>\n",
       "    <tr>\n",
       "      <th>30543</th>\n",
       "      <td>#discolors#</td>\n",
       "      <td>[#d, #…i, #…s, #…c, di, d…s, d…c, is, i…c, sc,...</td>\n",
       "      <td>[#di, #d…s, #d…c, #…is, #…i…c, #…sc, dis, di…c...</td>\n",
       "      <td>[#dis, #di…c, #d…sc, #…isc, disc, disc, dis…o,...</td>\n",
       "      <td>[#disc, disco, iscol, scolo, color, olors, lor...</td>\n",
       "    </tr>\n",
       "    <tr>\n",
       "      <th>110715</th>\n",
       "      <td>#swinburne's#</td>\n",
       "      <td>[#s, #…w, #…i, #…n, sw, s…i, s…n, wi, w…n, in,...</td>\n",
       "      <td>[#sw, #s…i, #s…n, #…wi, #…w…n, #…in, swi, sw…n...</td>\n",
       "      <td>[#swi, #sw…n, #s…in, #…win, swin, swin, swi…b,...</td>\n",
       "      <td>[#swin, swinb, winbu, inbur, nburn, burne, urn...</td>\n",
       "    </tr>\n",
       "    <tr>\n",
       "      <th>103031</th>\n",
       "      <td>#showell#</td>\n",
       "      <td>[#s, #…h, #…o, #…w, sh, s…o, s…w, ho, h…w, ow,...</td>\n",
       "      <td>[#sh, #s…o, #s…w, #…ho, #…h…w, #…ow, sho, sh…w...</td>\n",
       "      <td>[#sho, #sh…w, #s…ow, #…how, show, show, sho…e,...</td>\n",
       "      <td>[#show, showe, howel, owell, well#, #sho, #sh…...</td>\n",
       "    </tr>\n",
       "    <tr>\n",
       "      <th>34764</th>\n",
       "      <td>#elsie#</td>\n",
       "      <td>[#e, #…l, #…s, #…i, el, e…s, e…i, ls, l…i, si,...</td>\n",
       "      <td>[#el, #e…s, #e…i, #…ls, #…l…i, #…si, els, el…i...</td>\n",
       "      <td>[#els, #el…i, #e…si, #…lsi, elsi, elsi, els…e,...</td>\n",
       "      <td>[#elsi, elsie, lsie#, #els, #el…i, #e…si, #…ls...</td>\n",
       "    </tr>\n",
       "  </tbody>\n",
       "</table>\n",
       "<p>3175 rows × 5 columns</p>\n",
       "</div>"
      ],
      "text/plain": [
       "              sp_word                                         sp_sk2gram  \\\n",
       "98407      #sandefer#  [#s, #…a, #…n, #…d, sa, s…n, s…d, an, a…d, nd,...   \n",
       "85362      #personae#  [#p, #…e, #…r, #…s, pe, p…r, p…s, er, e…s, rs,...   \n",
       "14876      #brusseau#  [#b, #…r, #…u, #…s, br, b…u, b…s, ru, r…s, us,...   \n",
       "76137        #mowrer#  [#m, #…o, #…w, #…r, mo, m…w, m…r, ow, o…r, wr,...   \n",
       "33449       #earmark#  [#e, #…a, #…r, #…m, ea, e…r, e…m, ar, a…m, rm,...   \n",
       "...               ...                                                ...   \n",
       "10804     #billmeyer#  [#b, #…i, #…l, #…l, bi, b…l, b…l, il, i…l, ll,...   \n",
       "30543     #discolors#  [#d, #…i, #…s, #…c, di, d…s, d…c, is, i…c, sc,...   \n",
       "110715  #swinburne's#  [#s, #…w, #…i, #…n, sw, s…i, s…n, wi, w…n, in,...   \n",
       "103031      #showell#  [#s, #…h, #…o, #…w, sh, s…o, s…w, ho, h…w, ow,...   \n",
       "34764         #elsie#  [#e, #…l, #…s, #…i, el, e…s, e…i, ls, l…i, si,...   \n",
       "\n",
       "                                               sp_sk3gram  \\\n",
       "98407   [#sa, #s…n, #s…d, #…an, #…a…d, #…nd, san, sa…d...   \n",
       "85362   [#pe, #p…r, #p…s, #…er, #…e…s, #…rs, per, pe…s...   \n",
       "14876   [#br, #b…u, #b…s, #…ru, #…r…s, #…us, bru, br…s...   \n",
       "76137   [#mo, #m…w, #m…r, #…ow, #…o…r, #…wr, mow, mo…r...   \n",
       "33449   [#ea, #e…r, #e…m, #…ar, #…a…m, #…rm, ear, ea…m...   \n",
       "...                                                   ...   \n",
       "10804   [#bi, #b…l, #b…l, #…il, #…i…l, #…ll, bil, bi…l...   \n",
       "30543   [#di, #d…s, #d…c, #…is, #…i…c, #…sc, dis, di…c...   \n",
       "110715  [#sw, #s…i, #s…n, #…wi, #…w…n, #…in, swi, sw…n...   \n",
       "103031  [#sh, #s…o, #s…w, #…ho, #…h…w, #…ow, sho, sh…w...   \n",
       "34764   [#el, #e…s, #e…i, #…ls, #…l…i, #…si, els, el…i...   \n",
       "\n",
       "                                               sp_sk4gram  \\\n",
       "98407   [#san, #sa…d, #s…nd, #…and, sand, sand, san…e,...   \n",
       "85362   [#per, #pe…s, #p…rs, #…ers, pers, pers, per…o,...   \n",
       "14876   [#bru, #br…s, #b…us, #…rus, brus, brus, bru…s,...   \n",
       "76137   [#mow, #mo…r, #m…wr, #…owr, mowr, mowr, mow…e,...   \n",
       "33449   [#ear, #ea…m, #e…rm, #…arm, earm, earm, ear…a,...   \n",
       "...                                                   ...   \n",
       "10804   [#bil, #bi…l, #b…ll, #…ill, bill, bill, bil…m,...   \n",
       "30543   [#dis, #di…c, #d…sc, #…isc, disc, disc, dis…o,...   \n",
       "110715  [#swi, #sw…n, #s…in, #…win, swin, swin, swi…b,...   \n",
       "103031  [#sho, #sh…w, #s…ow, #…how, show, show, sho…e,...   \n",
       "34764   [#els, #el…i, #e…si, #…lsi, elsi, elsi, els…e,...   \n",
       "\n",
       "                                               sp_sk5gram  \n",
       "98407   [#sand, sande, andef, ndefe, defer, efer#, #sa...  \n",
       "85362   [#pers, perso, erson, rsona, sonae, onae#, #pe...  \n",
       "14876   [#brus, bruss, russe, ussea, sseau, seau#, #br...  \n",
       "76137   [#mowr, mowre, owrer, wrer#, #mow, #mo…r, #m…w...  \n",
       "33449   [#earm, earma, armar, rmark, mark#, #ear, #ea…...  \n",
       "...                                                   ...  \n",
       "10804   [#bill, billm, illme, llmey, lmeye, meyer, eye...  \n",
       "30543   [#disc, disco, iscol, scolo, color, olors, lor...  \n",
       "110715  [#swin, swinb, winbu, inbur, nburn, burne, urn...  \n",
       "103031  [#show, showe, howel, owell, well#, #sho, #sh…...  \n",
       "34764   [#elsi, elsie, lsie#, #els, #el…i, #e…si, #…ls...  \n",
       "\n",
       "[3175 rows x 5 columns]"
      ]
     },
     "execution_count": 209,
     "metadata": {},
     "output_type": "execute_result"
    }
   ],
   "source": [
    "## check result\n",
    "if \"5gram\" in sp_term_type:\n",
    "    var_names = [ 'sp_word', 'sp_sk2gram', 'sp_sk3gram', 'sp_sk4gram', 'sp_sk5gram' ]\n",
    "else:\n",
    "    var_names = [ 'sp_word', 'sp_sk2gram', 'sp_sk3gram', 'sp_sk4gram' ]\n",
    "df[var_names]"
   ]
  },
  {
   "cell_type": "markdown",
   "id": "8a04f220",
   "metadata": {},
   "source": [
    "# Sound n-grams 生成"
   ]
  },
  {
   "cell_type": "code",
   "execution_count": 210,
   "id": "e00161ab",
   "metadata": {},
   "outputs": [
    {
     "name": "stdout",
     "output_type": "stream",
     "text": [
      "98407     [#s, sæ, æn, nd, di, if, fɝ, ɝ#, #, s, æ, n, d...\n",
      "85362     [#p, pɝ, ɝs, so, oʊ, ʊn, ne, eɪ, ɪ#, #, p, ɝ, ...\n",
      "14876     [#b, bɹ, ɹə, əs, so, oʊ, ʊ#, #, b, ɹ, ə, s, o,...\n",
      "76137                [#m, mɔ, ɔɹ, ɹɝ, ɝ#, #, m, ɔ, ɹ, ɝ, #]\n",
      "33449     [#i, iɹ, ɹm, mɑ, ɑɹ, ɹk, k#, #, i, ɹ, m, ɑ, ɹ,...\n",
      "                                ...                        \n",
      "10804     [#b, bɪ, ɪɫ, ɫm, ma, aɪ, ɪɝ, ɝ#, #, b, ɪ, ɫ, m...\n",
      "30543     [#d, dɪ, ɪs, sk, kə, əɫ, ɫɝ, ɝz, z#, #, d, ɪ, ...\n",
      "110715    [#s, sw, wɪ, ɪn, nb, bɝ, ɝn, nz, z#, #, s, w, ...\n",
      "103031        [#ʃ, ʃɑ, ɑw, wɛ, ɛɫ, ɫ#, #, ʃ, ɑ, w, ɛ, ɫ, #]\n",
      "34764                [#ɛ, ɛɫ, ɫs, si, i#, #, ɛ, ɫ, s, i, #]\n",
      "Name: sn_2gram, Length: 3175, dtype: object\n"
     ]
    }
   ],
   "source": [
    "## sn_2gram の追加\n",
    "add_ngrams(df, n_for_ngram = 2, prefix = \"sn_\", skippy = False, inclusive = True, inclusion_degree = inclusion_degree, check = False)"
   ]
  },
  {
   "cell_type": "code",
   "execution_count": 211,
   "id": "c323aec2",
   "metadata": {},
   "outputs": [
    {
     "name": "stdout",
     "output_type": "stream",
     "text": [
      "98407     [#sæ, sæn, ænd, ndi, dif, ifɝ, fɝ#, #s, sæ, æn...\n",
      "85362     [#pɝ, pɝs, ɝso, soʊ, oʊn, ʊne, neɪ, eɪ#, #p, p...\n",
      "14876     [#bɹ, bɹə, ɹəs, əso, soʊ, oʊ#, #b, bɹ, ɹə, əs,...\n",
      "76137              [#mɔ, mɔɹ, ɔɹɝ, ɹɝ#, #m, mɔ, ɔɹ, ɹɝ, ɝ#]\n",
      "33449     [#iɹ, iɹm, ɹmɑ, mɑɹ, ɑɹk, ɹk#, #i, iɹ, ɹm, mɑ,...\n",
      "                                ...                        \n",
      "10804     [#bɪ, bɪɫ, ɪɫm, ɫma, maɪ, aɪɝ, ɪɝ#, #b, bɪ, ɪɫ...\n",
      "30543     [#dɪ, dɪs, ɪsk, skə, kəɫ, əɫɝ, ɫɝz, ɝz#, #d, d...\n",
      "110715    [#sw, swɪ, wɪn, ɪnb, nbɝ, bɝn, ɝnz, nz#, #s, s...\n",
      "103031    [#ʃɑ, ʃɑw, ɑwɛ, wɛɫ, ɛɫ#, #ʃ, ʃɑ, ɑw, wɛ, ɛɫ, ɫ#]\n",
      "34764              [#ɛɫ, ɛɫs, ɫsi, si#, #ɛ, ɛɫ, ɫs, si, i#]\n",
      "Name: sn_3gram, Length: 3175, dtype: object\n"
     ]
    }
   ],
   "source": [
    "## sn_3gram の追加\n",
    "add_ngrams(df, n_for_ngram = 3, prefix = \"sn_\", skippy = False, inclusive = True, inclusion_degree = inclusion_degree, check = False)"
   ]
  },
  {
   "cell_type": "code",
   "execution_count": 212,
   "id": "9d680975",
   "metadata": {},
   "outputs": [
    {
     "name": "stdout",
     "output_type": "stream",
     "text": [
      "98407     [#sæn, sænd, ændi, ndif, difɝ, ifɝ#, #sæ, sæn,...\n",
      "85362     [#pɝs, pɝso, ɝsoʊ, soʊn, oʊne, ʊneɪ, neɪ#, #pɝ...\n",
      "14876     [#bɹə, bɹəs, ɹəso, əsoʊ, soʊ#, #bɹ, bɹə, ɹəs, ...\n",
      "76137                [#mɔɹ, mɔɹɝ, ɔɹɝ#, #mɔ, mɔɹ, ɔɹɝ, ɹɝ#]\n",
      "33449     [#iɹm, iɹmɑ, ɹmɑɹ, mɑɹk, ɑɹk#, #iɹ, iɹm, ɹmɑ, ...\n",
      "                                ...                        \n",
      "10804     [#bɪɫ, bɪɫm, ɪɫma, ɫmaɪ, maɪɝ, aɪɝ#, #bɪ, bɪɫ,...\n",
      "30543     [#dɪs, dɪsk, ɪskə, skəɫ, kəɫɝ, əɫɝz, ɫɝz#, #dɪ...\n",
      "110715    [#swɪ, swɪn, wɪnb, ɪnbɝ, nbɝn, bɝnz, ɝnz#, #sw...\n",
      "103031    [#ʃɑw, ʃɑwɛ, ɑwɛɫ, wɛɫ#, #ʃɑ, ʃɑw, ɑwɛ, wɛɫ, ɛɫ#]\n",
      "34764                [#ɛɫs, ɛɫsi, ɫsi#, #ɛɫ, ɛɫs, ɫsi, si#]\n",
      "Name: sn_4gram, Length: 3175, dtype: object\n"
     ]
    }
   ],
   "source": [
    "## sn_4gram の追加\n",
    "add_ngrams(df, n_for_ngram = 4, prefix = \"sn_\", skippy = False, inclusive = True, inclusion_degree = inclusion_degree, check = False)"
   ]
  },
  {
   "cell_type": "code",
   "execution_count": 213,
   "id": "9412c517",
   "metadata": {},
   "outputs": [],
   "source": [
    "## sn_5gram の追加\n",
    "if \"5gram\" in sn_term_type:\n",
    "    add_ngrams(df, n_for_ngram = 5, prefix = \"sn_\", skippy = False, inclusive = True, inclusion_degree = inclusion_degree, check = False)"
   ]
  },
  {
   "cell_type": "code",
   "execution_count": 214,
   "id": "564821d8",
   "metadata": {},
   "outputs": [
    {
     "name": "stdout",
     "output_type": "stream",
     "text": [
      "98407     [#s, #…æ, #…n, #…d, sæ, s…n, s…d, æn, æ…d, nd,...\n",
      "85362     [#p, #…ɝ, #…s, #…o, pɝ, p…s, p…o, ɝs, ɝ…o, so,...\n",
      "14876     [#b, #…ɹ, #…ə, #…s, bɹ, b…ə, b…s, ɹə, ɹ…s, əs,...\n",
      "76137     [#m, #…ɔ, #…ɹ, #…ɝ, mɔ, m…ɹ, m…ɝ, ɔɹ, ɔ…ɝ, ɹɝ,...\n",
      "33449     [#i, #…ɹ, #…m, #…ɑ, iɹ, i…m, i…ɑ, ɹm, ɹ…ɑ, mɑ,...\n",
      "                                ...                        \n",
      "10804     [#b, #…ɪ, #…ɫ, #…m, bɪ, b…ɫ, b…m, ɪɫ, ɪ…m, ɫm,...\n",
      "30543     [#d, #…ɪ, #…s, #…k, dɪ, d…s, d…k, ɪs, ɪ…k, sk,...\n",
      "110715    [#s, #…w, #…ɪ, #…n, sw, s…ɪ, s…n, wɪ, w…n, ɪn,...\n",
      "103031    [#ʃ, #…ɑ, #…w, #…ɛ, ʃɑ, ʃ…w, ʃ…ɛ, ɑw, ɑ…ɛ, wɛ,...\n",
      "34764     [#ɛ, #…ɫ, #…s, #…i, ɛɫ, ɛ…s, ɛ…i, ɫs, ɫ…i, si,...\n",
      "Name: sn_sk2gram, Length: 3175, dtype: object\n"
     ]
    }
   ],
   "source": [
    "## sn_sk2gram の追加\n",
    "add_ngrams(df, n_for_ngram = 2, prefix = \"sn_\", skippy = True, max_distance = max_gap_size, inclusive = True, inclusion_degree = inclusion_degree, check = False)"
   ]
  },
  {
   "cell_type": "code",
   "execution_count": 215,
   "id": "621ecec8",
   "metadata": {},
   "outputs": [
    {
     "name": "stdout",
     "output_type": "stream",
     "text": [
      "98407     [#sæ, #s…n, #s…d, #…æn, #…æ…d, #…nd, sæn, sæ…d...\n",
      "85362     [#pɝ, #p…s, #p…o, #…ɝs, #…ɝ…o, #…so, pɝs, pɝ…o...\n",
      "14876     [#bɹ, #b…ə, #b…s, #…ɹə, #…ɹ…s, #…əs, bɹə, bɹ…s...\n",
      "76137     [#mɔ, #m…ɹ, #m…ɝ, #…ɔɹ, #…ɔ…ɝ, #…ɹɝ, mɔɹ, mɔ…ɝ...\n",
      "33449     [#iɹ, #i…m, #i…ɑ, #…ɹm, #…ɹ…ɑ, #…mɑ, iɹm, iɹ…ɑ...\n",
      "                                ...                        \n",
      "10804     [#bɪ, #b…ɫ, #b…m, #…ɪɫ, #…ɪ…m, #…ɫm, bɪɫ, bɪ…m...\n",
      "30543     [#dɪ, #d…s, #d…k, #…ɪs, #…ɪ…k, #…sk, dɪs, dɪ…k...\n",
      "110715    [#sw, #s…ɪ, #s…n, #…wɪ, #…w…n, #…ɪn, swɪ, sw…n...\n",
      "103031    [#ʃɑ, #ʃ…w, #ʃ…ɛ, #…ɑw, #…ɑ…ɛ, #…wɛ, ʃɑw, ʃɑ…ɛ...\n",
      "34764     [#ɛɫ, #ɛ…s, #ɛ…i, #…ɫs, #…ɫ…i, #…si, ɛɫs, ɛɫ…i...\n",
      "Name: sn_sk3gram, Length: 3175, dtype: object\n"
     ]
    }
   ],
   "source": [
    "## sn_sk3gram の追加\n",
    "add_ngrams(df, n_for_ngram = 3, prefix = \"sn_\", skippy = True, max_distance = max_gap_size, inclusive = True, inclusion_degree = inclusion_degree, check = False)"
   ]
  },
  {
   "cell_type": "code",
   "execution_count": 216,
   "id": "a23e1a66",
   "metadata": {},
   "outputs": [
    {
     "name": "stdout",
     "output_type": "stream",
     "text": [
      "98407     [#sæn, #sæ…d, #s…nd, #…ænd, sænd, sænd, sæn…i,...\n",
      "85362     [#pɝs, #pɝ…o, #p…so, #…ɝso, pɝso, pɝso, pɝs…ʊ,...\n",
      "14876     [#bɹə, #bɹ…s, #b…əs, #…ɹəs, bɹəs, bɹəs, bɹə…o,...\n",
      "76137     [#mɔɹ, #mɔ…ɝ, #m…ɹɝ, #…ɔɹɝ, mɔɹɝ, mɔɹɝ, mɔɹ…#,...\n",
      "33449     [#iɹm, #iɹ…ɑ, #i…mɑ, #…ɹmɑ, iɹmɑ, iɹmɑ, iɹm…ɹ,...\n",
      "                                ...                        \n",
      "10804     [#bɪɫ, #bɪ…m, #b…ɫm, #…ɪɫm, bɪɫm, bɪɫm, bɪɫ…a,...\n",
      "30543     [#dɪs, #dɪ…k, #d…sk, #…ɪsk, dɪsk, dɪsk, dɪs…ə,...\n",
      "110715    [#swɪ, #sw…n, #s…ɪn, #…wɪn, swɪn, swɪn, swɪ…b,...\n",
      "103031    [#ʃɑw, #ʃɑ…ɛ, #ʃ…wɛ, #…ɑwɛ, ʃɑwɛ, ʃɑwɛ, ʃɑw…ɫ,...\n",
      "34764     [#ɛɫs, #ɛɫ…i, #ɛ…si, #…ɫsi, ɛɫsi, ɛɫsi, ɛɫs…#,...\n",
      "Name: sn_sk4gram, Length: 3175, dtype: object\n"
     ]
    }
   ],
   "source": [
    "## sn_sk4gram の追加\n",
    "add_ngrams(df, n_for_ngram = 4, prefix = \"sn_\", skippy = True, max_distance = max_gap_size, inclusive = True, inclusion_degree = inclusion_degree, check = False)"
   ]
  },
  {
   "cell_type": "code",
   "execution_count": 217,
   "id": "f44e0d37",
   "metadata": {},
   "outputs": [],
   "source": [
    "## sn_sk5gram の追加\n",
    "if \"5gram\" in sn_term_type:\n",
    "    add_ngrams(df, n_for_ngram = 5, prefix = \"sn_\", skippy = True, max_distance = max_gap_size, inclusive = True, inclusion_degree = inclusion_degree, check = False)"
   ]
  },
  {
   "cell_type": "code",
   "execution_count": 218,
   "id": "05c2a69d",
   "metadata": {},
   "outputs": [
    {
     "data": {
      "text/html": [
       "<div>\n",
       "<style scoped>\n",
       "    .dataframe tbody tr th:only-of-type {\n",
       "        vertical-align: middle;\n",
       "    }\n",
       "\n",
       "    .dataframe tbody tr th {\n",
       "        vertical-align: top;\n",
       "    }\n",
       "\n",
       "    .dataframe thead th {\n",
       "        text-align: right;\n",
       "    }\n",
       "</style>\n",
       "<table border=\"1\" class=\"dataframe\">\n",
       "  <thead>\n",
       "    <tr style=\"text-align: right;\">\n",
       "      <th></th>\n",
       "      <th>sn_word</th>\n",
       "      <th>sn_sk2gram</th>\n",
       "      <th>sn_sk3gram</th>\n",
       "      <th>sn_sk4gram</th>\n",
       "    </tr>\n",
       "  </thead>\n",
       "  <tbody>\n",
       "    <tr>\n",
       "      <th>98407</th>\n",
       "      <td>#sændifɝ#</td>\n",
       "      <td>[#s, #…æ, #…n, #…d, sæ, s…n, s…d, æn, æ…d, nd,...</td>\n",
       "      <td>[#sæ, #s…n, #s…d, #…æn, #…æ…d, #…nd, sæn, sæ…d...</td>\n",
       "      <td>[#sæn, #sæ…d, #s…nd, #…ænd, sænd, sænd, sæn…i,...</td>\n",
       "    </tr>\n",
       "    <tr>\n",
       "      <th>85362</th>\n",
       "      <td>#pɝsoʊneɪ#</td>\n",
       "      <td>[#p, #…ɝ, #…s, #…o, pɝ, p…s, p…o, ɝs, ɝ…o, so,...</td>\n",
       "      <td>[#pɝ, #p…s, #p…o, #…ɝs, #…ɝ…o, #…so, pɝs, pɝ…o...</td>\n",
       "      <td>[#pɝs, #pɝ…o, #p…so, #…ɝso, pɝso, pɝso, pɝs…ʊ,...</td>\n",
       "    </tr>\n",
       "    <tr>\n",
       "      <th>14876</th>\n",
       "      <td>#bɹəsoʊ#</td>\n",
       "      <td>[#b, #…ɹ, #…ə, #…s, bɹ, b…ə, b…s, ɹə, ɹ…s, əs,...</td>\n",
       "      <td>[#bɹ, #b…ə, #b…s, #…ɹə, #…ɹ…s, #…əs, bɹə, bɹ…s...</td>\n",
       "      <td>[#bɹə, #bɹ…s, #b…əs, #…ɹəs, bɹəs, bɹəs, bɹə…o,...</td>\n",
       "    </tr>\n",
       "    <tr>\n",
       "      <th>76137</th>\n",
       "      <td>#mɔɹɝ#</td>\n",
       "      <td>[#m, #…ɔ, #…ɹ, #…ɝ, mɔ, m…ɹ, m…ɝ, ɔɹ, ɔ…ɝ, ɹɝ,...</td>\n",
       "      <td>[#mɔ, #m…ɹ, #m…ɝ, #…ɔɹ, #…ɔ…ɝ, #…ɹɝ, mɔɹ, mɔ…ɝ...</td>\n",
       "      <td>[#mɔɹ, #mɔ…ɝ, #m…ɹɝ, #…ɔɹɝ, mɔɹɝ, mɔɹɝ, mɔɹ…#,...</td>\n",
       "    </tr>\n",
       "    <tr>\n",
       "      <th>33449</th>\n",
       "      <td>#iɹmɑɹk#</td>\n",
       "      <td>[#i, #…ɹ, #…m, #…ɑ, iɹ, i…m, i…ɑ, ɹm, ɹ…ɑ, mɑ,...</td>\n",
       "      <td>[#iɹ, #i…m, #i…ɑ, #…ɹm, #…ɹ…ɑ, #…mɑ, iɹm, iɹ…ɑ...</td>\n",
       "      <td>[#iɹm, #iɹ…ɑ, #i…mɑ, #…ɹmɑ, iɹmɑ, iɹmɑ, iɹm…ɹ,...</td>\n",
       "    </tr>\n",
       "    <tr>\n",
       "      <th>...</th>\n",
       "      <td>...</td>\n",
       "      <td>...</td>\n",
       "      <td>...</td>\n",
       "      <td>...</td>\n",
       "    </tr>\n",
       "    <tr>\n",
       "      <th>10804</th>\n",
       "      <td>#bɪɫmaɪɝ#</td>\n",
       "      <td>[#b, #…ɪ, #…ɫ, #…m, bɪ, b…ɫ, b…m, ɪɫ, ɪ…m, ɫm,...</td>\n",
       "      <td>[#bɪ, #b…ɫ, #b…m, #…ɪɫ, #…ɪ…m, #…ɫm, bɪɫ, bɪ…m...</td>\n",
       "      <td>[#bɪɫ, #bɪ…m, #b…ɫm, #…ɪɫm, bɪɫm, bɪɫm, bɪɫ…a,...</td>\n",
       "    </tr>\n",
       "    <tr>\n",
       "      <th>30543</th>\n",
       "      <td>#dɪskəɫɝz#</td>\n",
       "      <td>[#d, #…ɪ, #…s, #…k, dɪ, d…s, d…k, ɪs, ɪ…k, sk,...</td>\n",
       "      <td>[#dɪ, #d…s, #d…k, #…ɪs, #…ɪ…k, #…sk, dɪs, dɪ…k...</td>\n",
       "      <td>[#dɪs, #dɪ…k, #d…sk, #…ɪsk, dɪsk, dɪsk, dɪs…ə,...</td>\n",
       "    </tr>\n",
       "    <tr>\n",
       "      <th>110715</th>\n",
       "      <td>#swɪnbɝnz#</td>\n",
       "      <td>[#s, #…w, #…ɪ, #…n, sw, s…ɪ, s…n, wɪ, w…n, ɪn,...</td>\n",
       "      <td>[#sw, #s…ɪ, #s…n, #…wɪ, #…w…n, #…ɪn, swɪ, sw…n...</td>\n",
       "      <td>[#swɪ, #sw…n, #s…ɪn, #…wɪn, swɪn, swɪn, swɪ…b,...</td>\n",
       "    </tr>\n",
       "    <tr>\n",
       "      <th>103031</th>\n",
       "      <td>#ʃɑwɛɫ#</td>\n",
       "      <td>[#ʃ, #…ɑ, #…w, #…ɛ, ʃɑ, ʃ…w, ʃ…ɛ, ɑw, ɑ…ɛ, wɛ,...</td>\n",
       "      <td>[#ʃɑ, #ʃ…w, #ʃ…ɛ, #…ɑw, #…ɑ…ɛ, #…wɛ, ʃɑw, ʃɑ…ɛ...</td>\n",
       "      <td>[#ʃɑw, #ʃɑ…ɛ, #ʃ…wɛ, #…ɑwɛ, ʃɑwɛ, ʃɑwɛ, ʃɑw…ɫ,...</td>\n",
       "    </tr>\n",
       "    <tr>\n",
       "      <th>34764</th>\n",
       "      <td>#ɛɫsi#</td>\n",
       "      <td>[#ɛ, #…ɫ, #…s, #…i, ɛɫ, ɛ…s, ɛ…i, ɫs, ɫ…i, si,...</td>\n",
       "      <td>[#ɛɫ, #ɛ…s, #ɛ…i, #…ɫs, #…ɫ…i, #…si, ɛɫs, ɛɫ…i...</td>\n",
       "      <td>[#ɛɫs, #ɛɫ…i, #ɛ…si, #…ɫsi, ɛɫsi, ɛɫsi, ɛɫs…#,...</td>\n",
       "    </tr>\n",
       "  </tbody>\n",
       "</table>\n",
       "<p>3175 rows × 4 columns</p>\n",
       "</div>"
      ],
      "text/plain": [
       "           sn_word                                         sn_sk2gram  \\\n",
       "98407    #sændifɝ#  [#s, #…æ, #…n, #…d, sæ, s…n, s…d, æn, æ…d, nd,...   \n",
       "85362   #pɝsoʊneɪ#  [#p, #…ɝ, #…s, #…o, pɝ, p…s, p…o, ɝs, ɝ…o, so,...   \n",
       "14876     #bɹəsoʊ#  [#b, #…ɹ, #…ə, #…s, bɹ, b…ə, b…s, ɹə, ɹ…s, əs,...   \n",
       "76137       #mɔɹɝ#  [#m, #…ɔ, #…ɹ, #…ɝ, mɔ, m…ɹ, m…ɝ, ɔɹ, ɔ…ɝ, ɹɝ,...   \n",
       "33449     #iɹmɑɹk#  [#i, #…ɹ, #…m, #…ɑ, iɹ, i…m, i…ɑ, ɹm, ɹ…ɑ, mɑ,...   \n",
       "...            ...                                                ...   \n",
       "10804    #bɪɫmaɪɝ#  [#b, #…ɪ, #…ɫ, #…m, bɪ, b…ɫ, b…m, ɪɫ, ɪ…m, ɫm,...   \n",
       "30543   #dɪskəɫɝz#  [#d, #…ɪ, #…s, #…k, dɪ, d…s, d…k, ɪs, ɪ…k, sk,...   \n",
       "110715  #swɪnbɝnz#  [#s, #…w, #…ɪ, #…n, sw, s…ɪ, s…n, wɪ, w…n, ɪn,...   \n",
       "103031     #ʃɑwɛɫ#  [#ʃ, #…ɑ, #…w, #…ɛ, ʃɑ, ʃ…w, ʃ…ɛ, ɑw, ɑ…ɛ, wɛ,...   \n",
       "34764       #ɛɫsi#  [#ɛ, #…ɫ, #…s, #…i, ɛɫ, ɛ…s, ɛ…i, ɫs, ɫ…i, si,...   \n",
       "\n",
       "                                               sn_sk3gram  \\\n",
       "98407   [#sæ, #s…n, #s…d, #…æn, #…æ…d, #…nd, sæn, sæ…d...   \n",
       "85362   [#pɝ, #p…s, #p…o, #…ɝs, #…ɝ…o, #…so, pɝs, pɝ…o...   \n",
       "14876   [#bɹ, #b…ə, #b…s, #…ɹə, #…ɹ…s, #…əs, bɹə, bɹ…s...   \n",
       "76137   [#mɔ, #m…ɹ, #m…ɝ, #…ɔɹ, #…ɔ…ɝ, #…ɹɝ, mɔɹ, mɔ…ɝ...   \n",
       "33449   [#iɹ, #i…m, #i…ɑ, #…ɹm, #…ɹ…ɑ, #…mɑ, iɹm, iɹ…ɑ...   \n",
       "...                                                   ...   \n",
       "10804   [#bɪ, #b…ɫ, #b…m, #…ɪɫ, #…ɪ…m, #…ɫm, bɪɫ, bɪ…m...   \n",
       "30543   [#dɪ, #d…s, #d…k, #…ɪs, #…ɪ…k, #…sk, dɪs, dɪ…k...   \n",
       "110715  [#sw, #s…ɪ, #s…n, #…wɪ, #…w…n, #…ɪn, swɪ, sw…n...   \n",
       "103031  [#ʃɑ, #ʃ…w, #ʃ…ɛ, #…ɑw, #…ɑ…ɛ, #…wɛ, ʃɑw, ʃɑ…ɛ...   \n",
       "34764   [#ɛɫ, #ɛ…s, #ɛ…i, #…ɫs, #…ɫ…i, #…si, ɛɫs, ɛɫ…i...   \n",
       "\n",
       "                                               sn_sk4gram  \n",
       "98407   [#sæn, #sæ…d, #s…nd, #…ænd, sænd, sænd, sæn…i,...  \n",
       "85362   [#pɝs, #pɝ…o, #p…so, #…ɝso, pɝso, pɝso, pɝs…ʊ,...  \n",
       "14876   [#bɹə, #bɹ…s, #b…əs, #…ɹəs, bɹəs, bɹəs, bɹə…o,...  \n",
       "76137   [#mɔɹ, #mɔ…ɝ, #m…ɹɝ, #…ɔɹɝ, mɔɹɝ, mɔɹɝ, mɔɹ…#,...  \n",
       "33449   [#iɹm, #iɹ…ɑ, #i…mɑ, #…ɹmɑ, iɹmɑ, iɹmɑ, iɹm…ɹ,...  \n",
       "...                                                   ...  \n",
       "10804   [#bɪɫ, #bɪ…m, #b…ɫm, #…ɪɫm, bɪɫm, bɪɫm, bɪɫ…a,...  \n",
       "30543   [#dɪs, #dɪ…k, #d…sk, #…ɪsk, dɪsk, dɪsk, dɪs…ə,...  \n",
       "110715  [#swɪ, #sw…n, #s…ɪn, #…wɪn, swɪn, swɪn, swɪ…b,...  \n",
       "103031  [#ʃɑw, #ʃɑ…ɛ, #ʃ…wɛ, #…ɑwɛ, ʃɑwɛ, ʃɑwɛ, ʃɑw…ɫ,...  \n",
       "34764   [#ɛɫs, #ɛɫ…i, #ɛ…si, #…ɫsi, ɛɫsi, ɛɫsi, ɛɫs…#,...  \n",
       "\n",
       "[3175 rows x 4 columns]"
      ]
     },
     "execution_count": 218,
     "metadata": {},
     "output_type": "execute_result"
    }
   ],
   "source": [
    "## check result\n",
    "if \"5gram\" in sn_term_type:\n",
    "    var_names = [ 'sn_word', 'sn_sk2gram', 'sn_sk3gram', 'sn_sk4gram', 'sn_sk5gram' ]\n",
    "else:\n",
    "    var_names = [ 'sn_word', 'sn_sk2gram', 'sn_sk3gram', 'sn_sk4gram' ]\n",
    "df[var_names]"
   ]
  },
  {
   "cell_type": "markdown",
   "id": "ff6f78c0-9731-4f9c-ab72-fb83da641cc1",
   "metadata": {},
   "source": [
    "# Pair = sp term :: sn term の生成"
   ]
  },
  {
   "cell_type": "code",
   "execution_count": 219,
   "id": "6e9b07cd-fdb0-48e8-9803-3bad862a609d",
   "metadata": {},
   "outputs": [],
   "source": [
    "## pair spell and sound terms\n",
    "paired_terms = [ ]\n",
    "for s_pair in zip(df[sp_term_type], df[sn_term_type]):\n",
    "    if check:\n",
    "        print(s_pair)\n",
    "    sp_tok, sn_tok = s_pair\n",
    "    paired = [ f\"{sp}{pair_marker}{sn}\" for sp in sp_tok for sn in sn_tok if len(sp) > 0 and len(sn) > 0 ]\n",
    "    #\n",
    "    paired_terms.append(paired)"
   ]
  },
  {
   "cell_type": "code",
   "execution_count": 220,
   "id": "4702e88e-a5e5-4606-aa01-c7eb8aa8bf89",
   "metadata": {},
   "outputs": [
    {
     "data": {
      "text/plain": [
       "[['#dril :: #dɹɪ',\n",
       "  '#dril :: dɹɪɫ',\n",
       "  '#dril :: ɹɪɫz',\n",
       "  '#dril :: ɪɫz#',\n",
       "  '#dril :: #dɹ',\n",
       "  '#dril :: dɹɪ',\n",
       "  '#dril :: ɹɪɫ',\n",
       "  '#dril :: ɪɫz',\n",
       "  '#dril :: ɫz#',\n",
       "  'drill :: #dɹɪ',\n",
       "  'drill :: dɹɪɫ',\n",
       "  'drill :: ɹɪɫz',\n",
       "  'drill :: ɪɫz#',\n",
       "  'drill :: #dɹ',\n",
       "  'drill :: dɹɪ',\n",
       "  'drill :: ɹɪɫ',\n",
       "  'drill :: ɪɫz',\n",
       "  'drill :: ɫz#',\n",
       "  'rills :: #dɹɪ',\n",
       "  'rills :: dɹɪɫ',\n",
       "  'rills :: ɹɪɫz',\n",
       "  'rills :: ɪɫz#',\n",
       "  'rills :: #dɹ',\n",
       "  'rills :: dɹɪ',\n",
       "  'rills :: ɹɪɫ',\n",
       "  'rills :: ɪɫz',\n",
       "  'rills :: ɫz#',\n",
       "  'ills# :: #dɹɪ',\n",
       "  'ills# :: dɹɪɫ',\n",
       "  'ills# :: ɹɪɫz',\n",
       "  'ills# :: ɪɫz#',\n",
       "  'ills# :: #dɹ',\n",
       "  'ills# :: dɹɪ',\n",
       "  'ills# :: ɹɪɫ',\n",
       "  'ills# :: ɪɫz',\n",
       "  'ills# :: ɫz#',\n",
       "  '#dri :: #dɹɪ',\n",
       "  '#dri :: dɹɪɫ',\n",
       "  '#dri :: ɹɪɫz',\n",
       "  '#dri :: ɪɫz#',\n",
       "  '#dri :: #dɹ',\n",
       "  '#dri :: dɹɪ',\n",
       "  '#dri :: ɹɪɫ',\n",
       "  '#dri :: ɪɫz',\n",
       "  '#dri :: ɫz#',\n",
       "  'dril :: #dɹɪ',\n",
       "  'dril :: dɹɪɫ',\n",
       "  'dril :: ɹɪɫz',\n",
       "  'dril :: ɪɫz#',\n",
       "  'dril :: #dɹ',\n",
       "  'dril :: dɹɪ',\n",
       "  'dril :: ɹɪɫ',\n",
       "  'dril :: ɪɫz',\n",
       "  'dril :: ɫz#',\n",
       "  'rill :: #dɹɪ',\n",
       "  'rill :: dɹɪɫ',\n",
       "  'rill :: ɹɪɫz',\n",
       "  'rill :: ɪɫz#',\n",
       "  'rill :: #dɹ',\n",
       "  'rill :: dɹɪ',\n",
       "  'rill :: ɹɪɫ',\n",
       "  'rill :: ɪɫz',\n",
       "  'rill :: ɫz#',\n",
       "  'ills :: #dɹɪ',\n",
       "  'ills :: dɹɪɫ',\n",
       "  'ills :: ɹɪɫz',\n",
       "  'ills :: ɪɫz#',\n",
       "  'ills :: #dɹ',\n",
       "  'ills :: dɹɪ',\n",
       "  'ills :: ɹɪɫ',\n",
       "  'ills :: ɪɫz',\n",
       "  'ills :: ɫz#',\n",
       "  'lls# :: #dɹɪ',\n",
       "  'lls# :: dɹɪɫ',\n",
       "  'lls# :: ɹɪɫz',\n",
       "  'lls# :: ɪɫz#',\n",
       "  'lls# :: #dɹ',\n",
       "  'lls# :: dɹɪ',\n",
       "  'lls# :: ɹɪɫ',\n",
       "  'lls# :: ɪɫz',\n",
       "  'lls# :: ɫz#']]"
      ]
     },
     "execution_count": 220,
     "metadata": {},
     "output_type": "execute_result"
    }
   ],
   "source": [
    "## random sampling\n",
    "import random\n",
    "random.sample(paired_terms, 1)"
   ]
  },
  {
   "cell_type": "code",
   "execution_count": 221,
   "id": "71f99e7f-7bd9-4699-a430-75b8992e5d89",
   "metadata": {},
   "outputs": [
    {
     "name": "stdout",
     "output_type": "stream",
     "text": [
      "3175\n"
     ]
    }
   ],
   "source": [
    "## number of sentences\n",
    "print(len(paired_terms))"
   ]
  },
  {
   "cell_type": "code",
   "execution_count": 222,
   "id": "070dc15d-e458-41b7-a042-48ef3439a8aa",
   "metadata": {},
   "outputs": [
    {
     "data": {
      "text/plain": [
       "454413"
      ]
     },
     "execution_count": 222,
     "metadata": {},
     "output_type": "execute_result"
    }
   ],
   "source": [
    "## total number of units\n",
    "sum(map(len, paired_terms))"
   ]
  },
  {
   "cell_type": "code",
   "execution_count": 223,
   "id": "8830b5a7-77ff-418d-875d-763583142906",
   "metadata": {},
   "outputs": [
    {
     "data": {
      "text/html": [
       "<div>\n",
       "<style scoped>\n",
       "    .dataframe tbody tr th:only-of-type {\n",
       "        vertical-align: middle;\n",
       "    }\n",
       "\n",
       "    .dataframe tbody tr th {\n",
       "        vertical-align: top;\n",
       "    }\n",
       "\n",
       "    .dataframe thead th {\n",
       "        text-align: right;\n",
       "    }\n",
       "</style>\n",
       "<table border=\"1\" class=\"dataframe\">\n",
       "  <thead>\n",
       "    <tr style=\"text-align: right;\">\n",
       "      <th></th>\n",
       "      <th>sp_word</th>\n",
       "      <th>sn_word</th>\n",
       "      <th>paired_term</th>\n",
       "    </tr>\n",
       "  </thead>\n",
       "  <tbody>\n",
       "    <tr>\n",
       "      <th>98407</th>\n",
       "      <td>#sandefer#</td>\n",
       "      <td>#sændifɝ#</td>\n",
       "      <td>[#sand :: #sæn, #sand :: sænd, #sand :: ændi, ...</td>\n",
       "    </tr>\n",
       "    <tr>\n",
       "      <th>85362</th>\n",
       "      <td>#personae#</td>\n",
       "      <td>#pɝsoʊneɪ#</td>\n",
       "      <td>[#pers :: #pɝs, #pers :: pɝso, #pers :: ɝsoʊ, ...</td>\n",
       "    </tr>\n",
       "    <tr>\n",
       "      <th>14876</th>\n",
       "      <td>#brusseau#</td>\n",
       "      <td>#bɹəsoʊ#</td>\n",
       "      <td>[#brus :: #bɹə, #brus :: bɹəs, #brus :: ɹəso, ...</td>\n",
       "    </tr>\n",
       "    <tr>\n",
       "      <th>76137</th>\n",
       "      <td>#mowrer#</td>\n",
       "      <td>#mɔɹɝ#</td>\n",
       "      <td>[#mowr :: #mɔɹ, #mowr :: mɔɹɝ, #mowr :: ɔɹɝ#, ...</td>\n",
       "    </tr>\n",
       "    <tr>\n",
       "      <th>33449</th>\n",
       "      <td>#earmark#</td>\n",
       "      <td>#iɹmɑɹk#</td>\n",
       "      <td>[#earm :: #iɹm, #earm :: iɹmɑ, #earm :: ɹmɑɹ, ...</td>\n",
       "    </tr>\n",
       "    <tr>\n",
       "      <th>...</th>\n",
       "      <td>...</td>\n",
       "      <td>...</td>\n",
       "      <td>...</td>\n",
       "    </tr>\n",
       "    <tr>\n",
       "      <th>10804</th>\n",
       "      <td>#billmeyer#</td>\n",
       "      <td>#bɪɫmaɪɝ#</td>\n",
       "      <td>[#bill :: #bɪɫ, #bill :: bɪɫm, #bill :: ɪɫma, ...</td>\n",
       "    </tr>\n",
       "    <tr>\n",
       "      <th>30543</th>\n",
       "      <td>#discolors#</td>\n",
       "      <td>#dɪskəɫɝz#</td>\n",
       "      <td>[#disc :: #dɪs, #disc :: dɪsk, #disc :: ɪskə, ...</td>\n",
       "    </tr>\n",
       "    <tr>\n",
       "      <th>110715</th>\n",
       "      <td>#swinburne's#</td>\n",
       "      <td>#swɪnbɝnz#</td>\n",
       "      <td>[#swin :: #swɪ, #swin :: swɪn, #swin :: wɪnb, ...</td>\n",
       "    </tr>\n",
       "    <tr>\n",
       "      <th>103031</th>\n",
       "      <td>#showell#</td>\n",
       "      <td>#ʃɑwɛɫ#</td>\n",
       "      <td>[#show :: #ʃɑw, #show :: ʃɑwɛ, #show :: ɑwɛɫ, ...</td>\n",
       "    </tr>\n",
       "    <tr>\n",
       "      <th>34764</th>\n",
       "      <td>#elsie#</td>\n",
       "      <td>#ɛɫsi#</td>\n",
       "      <td>[#elsi :: #ɛɫs, #elsi :: ɛɫsi, #elsi :: ɫsi#, ...</td>\n",
       "    </tr>\n",
       "  </tbody>\n",
       "</table>\n",
       "<p>3175 rows × 3 columns</p>\n",
       "</div>"
      ],
      "text/plain": [
       "              sp_word     sn_word  \\\n",
       "98407      #sandefer#   #sændifɝ#   \n",
       "85362      #personae#  #pɝsoʊneɪ#   \n",
       "14876      #brusseau#    #bɹəsoʊ#   \n",
       "76137        #mowrer#      #mɔɹɝ#   \n",
       "33449       #earmark#    #iɹmɑɹk#   \n",
       "...               ...         ...   \n",
       "10804     #billmeyer#   #bɪɫmaɪɝ#   \n",
       "30543     #discolors#  #dɪskəɫɝz#   \n",
       "110715  #swinburne's#  #swɪnbɝnz#   \n",
       "103031      #showell#     #ʃɑwɛɫ#   \n",
       "34764         #elsie#      #ɛɫsi#   \n",
       "\n",
       "                                              paired_term  \n",
       "98407   [#sand :: #sæn, #sand :: sænd, #sand :: ændi, ...  \n",
       "85362   [#pers :: #pɝs, #pers :: pɝso, #pers :: ɝsoʊ, ...  \n",
       "14876   [#brus :: #bɹə, #brus :: bɹəs, #brus :: ɹəso, ...  \n",
       "76137   [#mowr :: #mɔɹ, #mowr :: mɔɹɝ, #mowr :: ɔɹɝ#, ...  \n",
       "33449   [#earm :: #iɹm, #earm :: iɹmɑ, #earm :: ɹmɑɹ, ...  \n",
       "...                                                   ...  \n",
       "10804   [#bill :: #bɪɫ, #bill :: bɪɫm, #bill :: ɪɫma, ...  \n",
       "30543   [#disc :: #dɪs, #disc :: dɪsk, #disc :: ɪskə, ...  \n",
       "110715  [#swin :: #swɪ, #swin :: swɪn, #swin :: wɪnb, ...  \n",
       "103031  [#show :: #ʃɑw, #show :: ʃɑwɛ, #show :: ɑwɛɫ, ...  \n",
       "34764   [#elsi :: #ɛɫs, #elsi :: ɛɫsi, #elsi :: ɫsi#, ...  \n",
       "\n",
       "[3175 rows x 3 columns]"
      ]
     },
     "execution_count": 223,
     "metadata": {},
     "output_type": "execute_result"
    }
   ],
   "source": [
    "## add pair_token column\n",
    "#df.loc[:,'paired_token'] = paired_tokens # Causes error\n",
    "df['paired_term'] = paired_terms\n",
    "df[ ['sp_word', 'sn_word', 'paired_term'] ]"
   ]
  },
  {
   "cell_type": "markdown",
   "id": "0f26e250-4848-4002-bf7c-0b475c67e6c8",
   "metadata": {},
   "source": [
    "# LDA/HDP の実行"
   ]
  },
  {
   "cell_type": "code",
   "execution_count": 224,
   "id": "4a8b7c93-6ecb-402c-b1da-df482c7df1e9",
   "metadata": {},
   "outputs": [
    {
     "name": "stdout",
     "output_type": "stream",
     "text": [
      "Dictionary<417924 unique tokens: ['#san :: #sæ', '#san :: #sæn', '#san :: dif', '#san :: difɝ', '#san :: fɝ#']...>\n"
     ]
    }
   ],
   "source": [
    "## build DTM\n",
    "from gensim.corpora.dictionary import Dictionary\n",
    "\n",
    "pair_bots = df['paired_term']\n",
    "pair_diction = Dictionary(pair_bots)\n",
    "\n",
    "## check\n",
    "print(pair_diction) # print(..) is required for inspection"
   ]
  },
  {
   "cell_type": "code",
   "execution_count": 225,
   "id": "71500974-f4e3-4657-8bc2-616459c3bba9",
   "metadata": {},
   "outputs": [
    {
     "name": "stdout",
     "output_type": "stream",
     "text": [
      "min freq filter: 2\n",
      "abuse filter: 0.01\n",
      "term filtering applied\n",
      "Dictionary<23200 unique tokens: ['#san :: #sæ', '#san :: #sæn', '#san :: sæn', '#san :: sænd', '#san :: ænd']...>\n"
     ]
    }
   ],
   "source": [
    "## filter DTM\n",
    "import copy\n",
    "pair_diction_copy = copy.deepcopy(pair_diction)\n",
    "\n",
    "if apply_term_freq_filtering and apply_term_abuse_filtering:\n",
    "    print(f\"min freq filter: {term_minfreq}\")\n",
    "    print(f\"abuse filter: {term_abuse_threshold}\")\n",
    "    print(f\"term filtering applied\")\n",
    "    pair_diction_copy.filter_extremes(no_below = term_minfreq, no_above = term_abuse_threshold)\n",
    "    pair_diction = pair_diction_copy\n",
    "elif apply_term_freq_filtering:\n",
    "    print(f\"min freq filter: {term_minfreq}\")\n",
    "    print(f\"term filtering applied\")\n",
    "    pair_diction_copy.filter_extremes(no_below = term_minfreq)\n",
    "    pair_diction = pair_diction_copy\n",
    "elif apply_term_abuse_filtering:\n",
    "    print(f\"abuse filter: {term_abuse_threshold}\")\n",
    "    print(f\"term filtering applied\")\n",
    "    pair_diction_copy.filter_extremes(no_above = term_abuse_threshold)\n",
    "    pair_diction = pair_diction_copy\n",
    "else:\n",
    "    print(f\"term filtering not applied\")\n",
    "## check\n",
    "print(pair_diction)"
   ]
  },
  {
   "cell_type": "code",
   "execution_count": 226,
   "id": "529b2347-b684-42e1-84c1-9a89a74508e1",
   "metadata": {},
   "outputs": [
    {
     "name": "stdout",
     "output_type": "stream",
     "text": [
      "Building pair corpus ...\n",
      "Number of documents: 3175\n",
      "207 empty docs are removed out from pair_corpus\n"
     ]
    }
   ],
   "source": [
    "## build corpus\n",
    "print(f\"Building pair corpus ...\")\n",
    "pair_corpus = [ pair_diction.doc2bow(bot) for bot in pair_bots ]\n",
    "print(f\"Number of documents: {len(pair_corpus)}\")\n",
    "\n",
    "## sanitize corpus for HDP model\n",
    "size0 = len(pair_corpus)\n",
    "pair_corpus = [ doc for doc in pair_corpus if len(doc) > 0 ]\n",
    "size1 = len(pair_corpus)\n",
    "print(f\"{size0 - size1} empty docs are removed out from pair_corpus\")\n",
    "check = False\n",
    "if check:\n",
    "    print(random.sample(pair_corpus, 3))"
   ]
  },
  {
   "cell_type": "code",
   "execution_count": 227,
   "id": "0c7d5504-4b80-4cf6-affb-c065fe237933",
   "metadata": {},
   "outputs": [
    {
     "name": "stdout",
     "output_type": "stream",
     "text": [
      "Building an HDP model with n_topics limit: 60\n",
      "<gensim.models.hdpmodel.HdpModel object at 0x7f85a105ca30>\n"
     ]
    }
   ],
   "source": [
    "## build model: takes quite a while when complex terms are selected\n",
    "import gensim\n",
    "if use_HDP:\n",
    "    print(f\"Building an HDP model with n_topics limit: {max_n_topics}\")\n",
    "    ## the outcome of the following needs to be checked to avoid \"Not all rows sum to 1 error\".\n",
    "    pair_hdp = gensim.models.HdpModel(pair_corpus,\n",
    "                                      id2word = pair_diction, random_state = 1, T = max_n_topics)\n",
    "    print(pair_hdp)\n",
    "    pair_lda = pair_hdp.hdp_to_lda()\n",
    "else:\n",
    "    print(f\"Building an LDA model with n_topics: {n_topics}\")\n",
    "    pair_lda = gensim.models.LdaModel(pair_corpus,\n",
    "                                      id2word = pair_diction, random_state = 1, num_topics = n_topics, alpha = 'auto')\n",
    "    ## check results\n",
    "    print(pair_lda) # print(..)しないと中身が見れない"
   ]
  },
  {
   "cell_type": "markdown",
   "id": "cd30fdd7",
   "metadata": {},
   "source": [
    "# pyLDAvis の実行"
   ]
  },
  {
   "cell_type": "code",
   "execution_count": 228,
   "id": "ca972ab6",
   "metadata": {},
   "outputs": [],
   "source": [
    "##!conda install pyLDAvis\n",
    "#!pip install pyLDAvis\n",
    "#!conda update conda -y"
   ]
  },
  {
   "cell_type": "code",
   "execution_count": 229,
   "id": "c0b3b4f1-4b15-44b8-8bcc-76a2f6eb69fe",
   "metadata": {
    "scrolled": true
   },
   "outputs": [
    {
     "data": {
      "text/html": [
       "\n",
       "<link rel=\"stylesheet\" type=\"text/css\" href=\"https://cdn.jsdelivr.net/gh/bmabey/pyLDAvis@3.4.0/pyLDAvis/js/ldavis.v1.0.0.css\">\n",
       "\n",
       "\n",
       "<div id=\"ldavis_el196021402111850439363761575320\" style=\"background-color:white;\"></div>\n",
       "<script type=\"text/javascript\">\n",
       "\n",
       "var ldavis_el196021402111850439363761575320_data = {\"mdsDat\": {\"x\": [0.0028666004667782523, -0.0007170520906315523, 0.008781368328626398, 0.015250983196730353, -0.0004953023633278948, 0.0382263441035346, -0.004708278615351581, 0.03550686106252513, 0.0011300590786334937, -0.0008432651748817958, 0.025591053957702302, 0.0027555648726368983, -0.028554160375965854, -0.030269835486455572, -0.006633740098017901, 0.004580071991526422, -0.023736026195125666, -0.038276554765767634, 0.015516056337372018, 0.008940080928904744, 0.0010680598922772964, -0.002578525914853546, 0.03658175489817095, 0.0175872204821165, -0.0016126934419800041, -0.0025898436596585614, -0.017229818334791494, 0.013309064994803659, 0.021736407696882804, -0.0006132436621674744, -0.01634749655792996, 0.020023012320307256, 0.0073917964832392515, -0.004700114038369349, -0.006679144721334342, 0.00025514406744324105, 0.0006149237385742566, -0.008878586218488417, -0.008297391655270282, -0.009025791994734944, -0.009207766691541287, -0.03371539620896438, 0.03619331780403804, -0.006619432656749936, -0.04806359362890982, -0.0019413915636886192, 0.02733461386261719, 0.008293934293638963, -0.009219744175280561, -0.009054594694267233, -0.010050969286921629, 0.025198739042286835, 0.012095135725030445, 0.0007238145779423381, -0.007471188293948498, -0.036079503674605544, -0.009938391161222354, 0.03431014354370398, -0.020655610149272047, -0.007057680197567193], \"y\": [0.010174055325853937, -0.002183494004293983, 0.015161236560431572, -0.01146171636842341, -0.01654432663355062, 0.019814367710684545, -0.00121111346263498, -0.005914810385741257, 0.021591382848575702, 0.004558281676815398, 0.0016424039751233655, -0.009133547003305223, -0.01780479956590001, 0.008716901851759, -0.01458489204683974, 0.005382391679540117, 0.005220077941584365, 0.03766092281069345, 0.03433814669795034, -0.0235067827883257, -0.026774937326299424, -0.034538526837032485, 0.0041538354896251475, -0.005792295712315792, 0.011026716167186614, 0.01630459959696842, -0.006948220062902383, -0.01555321039342496, 0.012038006268210758, -0.037463245270496714, -0.01854889154198818, -0.004769249973719666, -0.030259936005613497, -0.02826569928053025, 4.69882694286773e-05, -0.04303305294263881, 0.03693826015226106, -0.0011080304423836899, 0.02134680439861267, -0.007230071050875409, 0.024062459915993168, 0.0023758715786747694, -0.0006179104992781179, -0.023398623656836766, -0.00019649175875795626, 0.00689778338926277, 0.010684717778571008, 0.024917754634032094, -0.003775420546815132, -0.021307252163564775, 0.028192811928698984, -0.014785054548296817, 0.00436160274084261, 0.023570258319060993, -0.009868651514814863, -0.015204119659167853, 0.022053763786897374, 0.006246222330199377, 0.02513720194409413, 0.00716854567913647], \"topics\": [1, 2, 3, 4, 5, 6, 7, 8, 9, 10, 11, 12, 13, 14, 15, 16, 17, 18, 19, 20, 21, 22, 23, 24, 25, 26, 27, 28, 29, 30, 31, 32, 33, 34, 35, 36, 37, 38, 39, 40, 41, 42, 43, 44, 45, 46, 47, 48, 49, 50, 51, 52, 53, 54, 55, 56, 57, 58, 59, 60], \"cluster\": [1, 1, 1, 1, 1, 1, 1, 1, 1, 1, 1, 1, 1, 1, 1, 1, 1, 1, 1, 1, 1, 1, 1, 1, 1, 1, 1, 1, 1, 1, 1, 1, 1, 1, 1, 1, 1, 1, 1, 1, 1, 1, 1, 1, 1, 1, 1, 1, 1, 1, 1, 1, 1, 1, 1, 1, 1, 1, 1, 1], \"Freq\": [3.0338839073002286, 3.295092090375409, 2.0996032036005476, 2.5034974182823135, 2.435148353977079, 2.2511732021932582, 1.8870027479212574, 1.814256322786224, 2.208118117069649, 1.8317755606899837, 2.36461845253809, 2.262140354087336, 2.6596831390440947, 2.052784960995132, 1.937848635638649, 2.1427770083954942, 1.5163475486464442, 2.022063368965619, 1.5128805480728813, 2.0536502214810364, 1.517743070985512, 2.0692466781717846, 2.020829648441592, 1.3212344571129895, 1.7888775240593842, 1.9762530520881056, 1.6881045996103672, 1.8733786146868974, 2.100644399392538, 1.8828577527417796, 1.6980817122900445, 2.156734715977483, 1.4665495656014151, 1.7188098336801838, 2.3186583852736855, 1.6491687035867255, 1.5423534920410895, 0.9258070380729609, 1.6487667796464995, 1.3386055214853345, 1.3411196470501983, 1.2044320535791095, 1.1674651661998658, 1.348246871945945, 0.9830108772695636, 1.8919989690401602, 0.9975714033943714, 1.0073958481417769, 1.1255214518010959, 0.8512744576800455, 1.2013410713577684, 0.9291610148440793, 0.9898764607732171, 0.8110436101741633, 0.490308708608643, 1.1579240019522197, 1.0801889060833716, 0.9975422006407122, 1.2534620613418803, 0.5840645111147019]}, \"tinfo\": {\"Term\": [\"#mcg :: #m\\u0259\\u0261\", \"ruise :: \\u0279uz\", \"ling :: \\u025d\\u026b\\u026a\\u014b\", \"lson :: s\\u0259n#\", \"nger :: d\\u0292\\u025d\", \"roy# :: \\u0254\\u026a#\", \"#hyp :: #ha\\u026a\", \"ler# :: \\u026at\\u026b\\u025d\", \"#zor :: z\\u0254\\u0279\", \"drew :: #d\\u0279u\", \"ustin :: st\\u026a\", \"ifie :: \\u0259fa\", \"#car :: \\u0251\\u0279d\", \"tter :: \\u0251t\\u025d\", \"rson# :: \\u025ds\\u0259n\", \"ties :: iz#\", \"yer# :: \\u026a\\u025d#\", \"ids# :: \\u026adz\", \"#hitc :: #h\\u026a\", \"fabi :: f\\u0251b\", \"#need :: nid\", \"tial# :: \\u0283\\u0259\\u026b#\", \"ists# :: sts\", \"ings# :: \\u026a\\u014bz#\", \"ting :: \\u026a\\u014b#\", \"like :: \\u0259n#\", \"lack :: #b\\u026b\\u00e6\", \"tera :: n\\u025d\\u00e6k\", \"sive# :: s\\u026av#\", \"#brea :: \\u0279\\u025bs\", \"bino :: no\\u028a\", \"ster :: st\\u025d#\", \"aler :: \\u0259\\u026b\\u025dt\", \"#ann :: #\\u00e6n\", \"ter# :: st\\u025d#\", \"#scr :: #sk\\u0279\", \"ester :: st\\u025d#\", \"dina# :: in\\u0259\", \"sting :: \\u026a\\u014b#\", \"nrol :: n\\u0279o\", \"ster# :: st\\u025d\", \"#lak :: \\u026be\\u026a\", \"#lib :: #\\u026b\\u026ab\", \"inste :: sta\\u026a\", \"lings :: \\u026b\\u026a\\u014bz\", \"lings :: \\u026a\\u014bz\", \"nkst :: \\u026a\\u014bk\", \"aving :: v\\u026a\\u014b#\", \"zberg :: \\u025d\\u0261#\", \"burn# :: b\\u025dn\", \"chin :: t\\u0283\\u026a\", \"#roa :: #\\u0279o\", \"sant :: s\\u0251nt\", \"son' :: \\u026bs\\u0259n\", \"ngs# :: \\u026a\\u014bz#\", \"malay :: #m\\u0259\\u026b\", \"dman :: m\\u0259n\", \"este :: t\\u025d#\", \"ster# :: st\\u025d#\", \"#fre :: a\\u026ad\", \"ling :: \\u026a\\u014bz\", \"#insi :: #\\u026an\", \"ling :: \\u026b\\u026a\\u014bz\", \"ter# :: st\\u025d\", \"#ind :: \\u026and\", \"#pic :: \\u026at#\", \"ring# :: \\u026a\\u0279\\u026a\", \"ell# :: #k\\u0251\", \"ove# :: o\\u028av\", \"blin :: b\\u026b\\u026a\", \"#veri :: #v\\u025b\", \"rest :: \\u0279\\u025bs\", \"thal# :: \\u0259\\u026b#\", \"assey :: si#\", \"anec :: n\\u026ak\", \"ager :: e\\u026a\\u0261\", \"#ost :: #\\u0251s\", \"high :: \\u026ba\\u026a\", \"derw :: nd\\u025d\", \"#cla :: \\u026b\\u025b\\u0279\", \"#nard :: n\\u0251\\u0279\", \"#aft :: #\\u00e6f\", \"cclo :: m\\u0259k\", \"eowne :: n\\u025dz\", \"tles :: \\u0259\\u026bz\", \"#mcg :: #m\\u0259\\u0261\", \"poin :: \\u0254\\u026an\", \"ick# :: \\u0279\\u026ak#\", \"mann# :: m\\u0259n#\", \"#jean :: #d\\u0292i\", \"ndig :: nd\\u026a\\u0261\", \"iles# :: \\u026a\\u026bz#\", \"nail :: e\\u026a\\u026b#\", \"hwarz :: w\\u0254\\u0279t\", \"ion# :: \\u0283\\u0259n#\", \"tine :: t\\u0259n\\u0259\", \"tion :: \\u025bk\\u0283\\u0259\", \"undi :: nd\\u026a\\u014b\", \"#sed :: \\u026adu\", \"call :: k\\u00e6\\u026b\", \"ooks :: ks#\", \"cont :: #k\\u0251\", \"#emmi :: \\u025bm\\u026a\", \"fract :: f\\u0279\\u00e6\", \"#bla :: b\\u026b\\u00e6k\", \"#crui :: #k\\u0279\", \"oltz :: o\\u028a\\u026bt\", \"long# :: \\u0254\\u014b#\", \"acti :: f\\u0279\\u00e6\", \"table :: \\u0259b\\u0259\", \"illa :: #v\\u026a\\u026b\", \"#loe :: #\\u026bo\", \"ncher :: nt\\u0283\", \"#str :: st\\u0279\", \"itch :: #h\\u026a\", \"adow :: f\\u0254\\u0279\", \"erman :: \\u0259n#\", \"nscom :: \\u0259ns\", \"a's# :: t\\u0259z#\", \"freem :: f\\u0279im\", \"#grun :: \\u0261\\u0279\\u0259n\", \"ann# :: \\u0259n#\", \"uist# :: w\\u026as\", \"ing# :: \\u0279o\\u028a\", \"rds# :: \\u0254\\u0279dz\", \"euerm :: \\u026a\\u025dm\", \"tate# :: \\u026at#\", \"man# :: #\\u026bi\", \"#swe :: #sw\", \"#inte :: \\u026an\\u025ds\", \"like :: \\u026ba\\u026a\", \"oden :: d\\u0259n\", \"erin :: \\u025din\", \"#open :: #o\\u028ap\", \"righ :: a\\u026at#\", \"esco :: \\u025bsk\", \"sewa :: \\u026bis\", \"bel# :: b\\u0259\\u026b\", \"ices :: s\\u0259z\", \"hard :: dz#\", \"#nag :: ne\\u026a\\u0261\", \"ddle :: d\\u0259\\u026b\", \"eptic :: pt\\u026a\", \"#stra :: #st\", \"rtran :: \\u0259nd#\", \"ren# :: \\u0279\\u0259n#\", \"rate# :: e\\u026at#\", \"#pra :: #p\\u0279\", \"onnel :: \\u0251n\\u0259\\u026b\", \"nges# :: \\u026az#\", \"#ava :: \\u00e6v\\u0259\", \"board :: \\u0279d#\", \"#hor :: #h\\u0254\", \"tera :: \\u026an\\u025d\\u00e6\", \"#lobb :: #\\u026b\\u0251\", \"reem :: m\\u0259n\", \"oltz# :: \\u028a\\u026bts\", \"#flo :: #f\\u026b\", \"tola :: to\\u028a\", \"uerm :: \\u026a\\u025dm\\u0259\", \"#trus :: t\\u0279\\u0259\", \"clinc :: \\u026ant\\u0283\", \"icia :: t\\u026a\\u0283\", \"owell :: w\\u025b\\u026b\", \"#ava :: #\\u00e6v\\u0259\", \"mend :: m\\u025bn\", \"arin :: \\u0279\\u026a\\u014b\", \"sko# :: sko\\u028a\", \"hase :: \\u0283e\\u026a\", \"#bern :: #b\\u025d\", \"ting# :: \\u026at\\u026a\\u014b\", \"fer# :: f\\u025d#\", \"den# :: \\u025dd\\u0259n\", \"ourse :: \\u0254\\u0279s\", \"hemi :: #k\\u025bm\", \"mond :: \\u0259nd#\", \"than :: \\u03b8\\u0259n\", \"ridg :: \\u0279\\u026ad\", \"arist :: st\\u0259\", \"pers :: p\\u025dz\", \"iric :: \\u026a\\u0279\\u026ak\", \"atio :: \\u0283\\u0259n\", \"tic# :: \\u026at\\u026a\", \"cal# :: k\\u0259\\u026b#\", \"douga :: u\\u0261\\u0259\", \"#ban :: #b\\u0259\", \"aron :: \\u0251n\\u0259\", \"#unde :: \\u0259nd\", \"#mus :: mju\", \"enda# :: nd\\u0259\", \"itt# :: m\\u026at\", \"rsen :: \\u0259n#\", \"less :: \\u026b\\u0259s\", \"istry :: t\\u0279i\", \"mail :: me\\u026a\", \"bered :: mb\\u025dd\", \"#home :: \\u028an\\u025d\", \"nger :: d\\u0292\\u025d\", \"ouga :: u\\u0261\\u0259\\u026b\", \"n's# :: \\u026at\\u0259n\", \"#book :: #b\\u028ak\", \"ide# :: sa\\u026a\", \"#lor :: #\\u026b\\u0254\", \"#ann :: \\u00e6n\\u0259\", \"#clea :: k\\u026bi\", \"autho :: \\u025da\\u026az\", \"aval :: #\\u00e6v\\u0259\", \"resh :: do\\u028a\", \"thes :: #p\\u0279\", \"ins# :: \\u0259nz\", \"pfer# :: pf\\u025d#\", \"ligh :: ts#\", \"ter# :: pit\", \"#sant :: \\u0251nt\", \"oriz :: \\u025da\\u026az\", \"azza :: ts\\u0251\", \"oltz :: o\\u028a\\u026b\", \"#purp :: #p\\u025dp\", \"nste :: nst\", \"uthor :: \\u03b8\\u025da\", \"rist :: \\u0279\\u026as\", \"enfe :: f\\u025b\\u026bt\", \"corp :: #b\\u00e6\", \"#home :: n\\u025dz#\", \"tman :: tm\\u0259\", \"mpel :: k\\u0259m\", \"eade :: \\u026ad#\", \"erson :: p\\u025ds\\u0259\", \"bers :: b\\u025dz#\", \"tic# :: \\u026at\\u026ak\", \"#pra :: #p\\u0279\", \"#bou :: #bo\\u028a\", \"#ban :: #b\\u00e6n\", \"owbo :: o\\u028ab\", \"laun :: \\u026b\\u0254nt\", \"#min :: m\\u026ant\", \"rust :: \\u0279\\u0259st\", \"tman# :: tm\\u0259n\", \"purp :: #p\\u025d\", \"m's# :: a\\u026am\", \"ery# :: \\u026ba\\u028a\\u025d\", \"der# :: d\\u025d#\", \"ski# :: \\u026bsk\", \"man# :: tm\\u0259n\", \"eship :: \\u0283\\u026ap\", \"#mcl :: #m\\u0259k\", \"eebu :: ib\\u025d\\u0261\", \"ists# :: sts\", \"#love :: #\\u026b\\u0259\", \"yan# :: i\\u0259n#\", \"ghts :: \\u026ba\\u026a\", \"free :: \\u0259nz#\", \"flect :: #\\u0279\\u026a\", \"ysia :: \\u0259\\u026be\", \"ibera :: #\\u026b\\u026ab\", \"ues# :: uz#\", \"hadow :: \\u0279\\u0283\\u00e6\", \"#open :: #o\\u028ap\", \"#skil :: #sk\", \"#ite :: a\\u026at\", \"ther :: #f\\u025b\", \"#mos :: #mo\", \"poli :: #p\\u0251\\u026b\", \"ntic# :: \\u00e6nt\\u026a\", \"thre :: #\\u03b8\\u0279\\u025b\", \"part :: p\\u0251\\u0279t\", \"avoi :: #\\u0259v\", \"rg's# :: b\\u025d\\u0261\", \"ff's# :: fs#\", \"anti :: t\\u026a\\u014b\", \"cates :: e\\u026at\", \"ongs# :: \\u0254\\u014bz\", \"#pro :: p\\u0279o\\u028a\", \"elle# :: t\\u025b\\u026b#\", \"erri :: #d\\u0292\", \"ista# :: st\\u0259\", \"wood :: w\\u028ad\", \"ded# :: \\u0279d\\u026a\", \"ayto :: #de\", \"rley# :: \\u025d\\u026bi#\", \"and# :: \\u026a\\u026b\\u0259\", \"#scra :: sk\\u0279\", \"rist :: \\u0251\\u0279i\", \"sting :: t\\u026a\\u014b\", \"dge# :: \\u0279\\u026ad\\u0292\", \"ils# :: \\u026a\\u026bz#\", \"nber :: \\u025d\\u0261#\", \"goner :: \\u0261\\u0259n\", \"houg :: #ha\", \"arist :: \\u0279ist\", \"peri :: p\\u026a\\u0279i\", \"ving :: v\\u026a\\u014b\", \"tone :: sto\", \"ches :: t\\u0283\\u026a\", \"sler :: s\\u0259\\u026b\", \"free :: m\\u0259nz\", \"ation :: e\\u026a\\u0283\\u0259\", \"iberi :: \\u026ab\\u026a\\u0279\", \"afor :: \\u0254\\u0279\\u0259\", \"atter :: t\\u025d#\", \"cal# :: z\\u026ak\", \"ting# :: \\u0279t\\u026a\", \"yton :: e\\u026at\\u0259\", \"#bay :: e\\u026a\\u026b\", \"dayto :: #de\\u026a\", \"ing# :: \\u026ast\", \"tract :: t\\u0279\\u00e6\", \"eurs# :: \\u025dz#\", \"tute :: uts\", \"mans :: \\u025dm\\u0259n\", \"on's# :: \\u026at\\u0259n\", \"bune :: bjun\", \"ing# :: u\\u026a\\u014b#\", \"tion# :: \\u0283\\u0259n\", \"uerm :: m\\u0259n\", \"ovell :: \\u028av\\u025b\\u026b\", \"#indi :: #\\u026an\", \"yton :: e\\u026at\", \"suppo :: #s\\u0259\", \"nste :: \\u026anst\", \"ton's :: nz#\", \"ding :: \\u026a\\u014b#\", \"easew :: #\\u026bis\", \"ter# :: st\\u025d\", \"iler# :: a\\u026a\\u026b\\u025d\", \"#jet :: #d\\u0292\\u025b\", \"boro :: b\\u025do\", \"rio# :: \\u0279io\", \"#van :: #v\\u00e6n\", \"er's# :: n\\u025dz#\", \"#smi :: #sm\\u026a\", \"ion# :: \\u0283\\u0259n#\", \"ton# :: t\\u0259n#\", \"ion# :: \\u026a\\u0283\\u0259\", \"race# :: \\u0251t\\u0283\", \"hwarz :: \\u0283w\\u0254\\u0279\", \"ulga :: \\u0259\\u026b\\u0261\", \"xie# :: ksi\", \"an's :: m\\u0259n\", \"ous# :: \\u0279\\u0259s\", \"carb :: k\\u0251\\u0279b\", \"lski# :: \\u026bsk\", \"emon :: \\u025bm\\u0259\", \"eeman :: im\\u0259\", \"dick :: d\\u026ak\", \"mistr :: m\\u026as\", \"der# :: nd\\u025d#\", \"ncou :: \\u026b\\u0259n\", \"iberi :: b\\u026a\\u0279i\", \"#hol :: #ho\", \"#inc :: \\u026a\\u014bk\", \"guir :: \\u0259\\u0261w\", \"itio :: \\u0259z\\u026a\", \"rain :: \\u0279e\\u026a\", \"odi# :: \\u028adi#\", \"ulli# :: u\\u026bi\", \"tan# :: t\\u0259n\", \"#sty :: ta\\u026a\", \"stro :: #b\\u026as\", \"ert# :: \\u025bb\\u025dt\", \"flaun :: #f\\u026b\", \"isti :: k\\u0279\\u026a\", \"crui :: #k\\u0279u\", \"bala :: b\\u0251\\u026b\\u0259\", \"eema :: \\u0259nz#\", \"#for :: #f\\u025d\", \"hip# :: \\u0283\\u026ap\", \"ner# :: sn\\u025d\", \"deca :: d\\u026ak\\u0251\", \"astr :: t\\u0279\\u0259\", \"#dyn :: a\\u026an\", \"anti :: #\\u00e6n\", \"allu :: \\u0259\\u026bu\", \"ugal :: \\u0261\\u0259\\u026b\", \"#har :: #h\\u0251\", \"ifie :: \\u0259fa\", \"balak :: #b\\u0251\", \"smit :: sm\\u026a\\u03b8\", \"ion# :: \\u0259z\\u026a\", \"eto# :: o\\u028a#\", \"svill :: v\\u026a\\u026b\", \"terat :: \\u025de\\u026a\", \"aysia :: e\\u026a\\u0292\\u0259\", \"stei :: a\\u026an#\", \"#swi :: #sw\\u026a\", \"nail :: \\u026a\\u026b#\", \"chri :: k\\u0279\\u026as\", \"#ant :: #\\u00e6nt\", \"colou :: k\\u0259\\u026b\", \"ent# :: \\u0259nt\", \"ics# :: ks#\", \"#inc :: #\\u026a\\u014bk\", \"refl :: f\\u026b\\u025bk\", \"agge :: \\u0261d#\", \"jean :: #d\\u0292\", \"irene :: #a\\u026a\\u0279\", \"mcco :: m\\u0259k\", \"ings :: v\\u026a\\u014bz\", \"ger# :: \\u025d\\u0261\\u025d\", \"#land :: #\\u026b\\u00e6n\", \"idman :: dm\\u0259\", \"sylv :: \\u026a\\u026bv\\u0259\", \"mcclo :: #m\\u0259\", \"pprov :: p\\u0279u\", \"#bluf :: b\\u026b\\u0259f\", \"stat :: te\\u026a\", \"reas :: \\u026a\\u014b#\", \"sek# :: s\\u026ak\", \"itio :: \\u0283\\u0259n#\", \"#dar :: d\\u0251\\u0279\", \"#dev :: #d\\u026av\", \"closk :: k\\u026b\\u0254s\", \"ptic# :: pt\\u026ak\", \"eier :: a\\u026a\\u025d#\", \"rson :: \\u0279s\\u0259\", \"flow :: f\\u026ba\\u028a\", \"mous :: m\\u0259s#\", \"#kri :: #k\\u0279\", \"remi :: \\u0279\\u025bm\", \"pape :: \\u026ap\\u025d\", \"mcke :: m\\u0259k\", \"#mids :: \\u026ads\", \"#ship :: \\u0283\\u026ap\", \"agon :: \\u00e6\\u0261\\u0259n\", \"ocke :: \\u0251k\\u026a\", \"unde :: \\u0254nd\\u025d\", \"#bro :: b\\u0279o\", \"olls :: o\\u028a\\u026b\", \"alia# :: \\u026bi\\u0259#\", \"vings :: v\\u026a\\u014bz\", \"ane# :: e\\u026an#\", \"nger :: \\u026a\\u014b\\u025d\", \"ser# :: z\\u025d#\", \"essle :: s\\u026b\\u025d#\", \"ized# :: na\\u026a\", \"flect :: #\\u0279\\u026af\", \"inter :: n\\u025d\\u00e6\", \"ings# :: \\u014bz#\", \"#reit :: \\u0279a\\u026a\", \"#emm :: #\\u025bm\", \"ality :: ti#\", \"ton# :: \\u026a\\u014bt\", \"ansb :: b\\u025b\\u0279\", \"stro# :: o\\u028a#\", \"ling :: h\\u00e6m#\", \"uist :: kw\\u026a\", \"hing :: \\u0283\\u026a\\u014b#\", \"age# :: \\u026ad\\u0292\", \"ayne :: e\\u026an#\", \"stee :: \\u0259sti\", \"ester :: \\u025bst\\u025d\", \"prov :: #\\u0259p\\u0279\", \"#hor :: #h\\u0254\", \"ngs# :: \\u026a\\u014bz#\", \"#loe :: #\\u026bo\\u028a\", \"ntel :: nt\\u025b\\u026b\", \"#fore :: \\u0254\\u0279\\u0283\", \"ting :: \\u014bz#\", \"nize :: \\u0259na\", \"#finc :: #f\\u026a\", \"ttab :: t\\u0259b\", \"ical :: \\u026bi#\", \"sbur :: sb\\u025b\", \"lling :: \\u026a\\u026b\\u026a\\u014b\", \"rted :: t\\u0259d#\", \"plow :: p\\u026ba\", \"ess# :: n\\u026as\", \"ranc :: \\u014bk#\", \"onte :: m\\u0251nt\", \"omet :: \\u0251m\\u0259\", \"edic :: #m\\u025bd\", \"lloc :: \\u0259ke\", \"agged :: \\u00e6\\u0261d\", \"#gas :: #\\u0261\\u00e6s\", \"ynth :: s\\u026an\\u03b8\", \"rity# :: \\u0279\\u0259ti\", \"dicke :: #d\\u026a\", \"#sam :: \\u00e6mp\", \"ripp :: t\\u0279\\u026ap\", \"#appr :: p\\u0279u\", \"ovel :: v\\u025b\\u026b\", \"anda :: nd\\u0259\\u026b\", \"cavan :: \\u00e6v\\u0259n\", \"#shi :: \\u0283\\u026an\", \"head# :: h\\u025bd\", \"ably :: b\\u026bi#\", \"#lib :: \\u026ab\\u025dt\", \"arti :: p\\u0251\\u0279\", \"rman# :: m\\u0259n\", \"mber :: b\\u025dd\", \"vorh :: v\\u0254\\u0279h\", \"berti :: \\u026b\\u026ab\", \"sco# :: sko\\u028a\", \"nson# :: \\u0259n#\", \"rson# :: \\u025ds\\u0259n\", \"user# :: \\u028az\\u025d#\", \"franc :: f\\u0279\\u00e6\", \"ders :: d\\u025dz#\", \"om's :: mz#\", \"rged :: \\u0292d#\", \"okes :: o\\u028ak\", \"#nar :: n\\u0251\\u0279\", \"ques :: \\u025bst\", \"clay :: #k\\u026b\", \"ably# :: b\\u026bi#\", \"ised :: \\u026azd#\", \"clas :: k\\u026b\\u00e6s\", \"elli :: \\u0254\\u0279t\", \"rcut :: \\u0279k\\u0259\", \"ings :: \\u026b\\u026a\\u014bz\", \"#pla :: \\u026be\\u026a\", \"#davy :: de\\u026a\", \"ckma :: km\\u0259\", \"#mill :: #m\\u026a\\u026b\", \"#wel :: #w\\u025b\\u026b\", \"asur :: \\u0251\\u0292\\u025d#\", \"#ento :: \\u0251nt\\u025d\", \"nthe :: s\\u026an\\u03b8\", \"erie :: \\u025diz\", \"crow :: #k\\u0279o\", \"rsen# :: \\u025ds\\u0259\", \"ross :: k\\u0279\\u0254\", \"ane# :: \\u026be\\u026a\", \"ingto :: \\u014bt\\u0259\", \"torti :: t\\u0254\\u0279\", \"#ker :: #k\\u025b\\u0279\", \"ers'# :: \\u025dz#\", \"eber :: b\\u025dt#\", \"ment :: m\\u0259n\", \"tes# :: e\\u026ats\", \"#pat :: #p\\u00e6\", \"oresh :: \\u00e6do\", \"ertz# :: ts#\", \"irts :: \\u025dts\", \"free :: m\\u0259n\", \"iome :: \\u026ao\\u028am\", \"wald :: w\\u0254\\u026bd\", \"#mcc :: m\\u0259k\", \"vill :: #v\\u026a\", \"stro :: t\\u0279\\u0259\", \"mcga :: m\\u0259\\u0261\", \"#wes :: w\\u025bst\", \"#mari :: m\\u0251\\u0279\", \"#avo :: \\u0254\\u026ad\", \"#cha :: t\\u0283\\u0251\\u0279\", \"stees :: #t\\u0279\\u0259\", \"samp :: s\\u00e6m\", \"#bar :: o\\u028a#\", \"rowe :: \\u028az#\", \"scra :: \\u0279e\\u026a\", \"naco :: o\\u028a#\", \"ande :: a\\u026a\\u026b\", \"tten :: t\\u0259n#\", \"rtin :: \\u0254\\u0279t\", \"card :: d\\u026ad\", \"mcco :: #m\\u0259\", \"tran :: \\u0279\\u00e6n\", \"card :: \\u0251\\u0279d\", \"nite# :: \\u026at#\", \"agen# :: \\u0261\\u0259n\", \"eown :: n\\u025dz\", \"ersc :: \\u025dsk\", \"arde :: d\\u026ad\", \"#gra :: #\\u0261\\u0279\", \"enda# :: \\u025bnd\\u0259\", \"#men :: \\u0259\\u026b#\", \"rista :: ist\\u0259\", \"itic# :: t\\u026ak#\", \"rista :: #b\\u0251\", \"rded# :: \\u0279d\\u026a\", \"ails# :: e\\u026a\\u026bz\", \"meow :: n\\u025dz#\", \"ayto :: de\\u026a\", \"hunt :: \\u0259nt#\", \"rded# :: k\\u0251\\u0279d\", \"inch :: \\u026ant\", \"owne :: n\\u025dz#\", \"resh :: f\\u0279\\u025b\\u0283\", \"aco# :: ko\\u028a\", \"strac :: st\\u0279\", \"ing# :: #d\\u026as\", \"rns# :: nz#\", \"erson :: s\\u0259n\", \"#chr :: #k\\u0279\", \"mars :: m\\u0251\\u0279\\u0283\", \"wski :: fski\", \"ive# :: #\\u0279\\u0259\", \"ding :: \\u026a\\u014bz#\", \"olou :: \\u0259\\u026b\\u025d\", \"#har :: h\\u0251\\u0279d\", \"res# :: a\\u026a\\u0279\", \"ski# :: msk\", \"tein# :: ta\\u026an\", \"#thru :: \\u03b8\\u0279\\u0259\", \"inda# :: nd\\u0259#\", \"ille :: sv\\u026a\\u026b\", \"#cons :: #k\\u0251\", \"erso :: s\\u0259n\", \"stil :: st\\u026a\", \"#vand :: #v\\u00e6n\", \"light :: a\\u026a\\u026ba\", \"rummo :: \\u0279\\u0259m\", \"avoid :: \\u0254\\u026ad\", \"bert :: \\u026b\\u026ab\", \"#but :: #b\\u0259t\", \"#una :: #\\u0259n\", \"#tru :: sti\", \"aday :: \\u0259de\\u026a\", \"rson# :: t\\u025ds\", \"rson :: s\\u0259n\", \"#mend :: m\\u025bnd\", \"rate :: t\\u025de\", \"son# :: \\u0259n#\", \"son# :: s\\u0259n#\", \"#zer :: #z\\u026a\", \"ting :: #h\\u0254\", \"son# :: s\\u0259n\", \"fran :: \\u014bk#\", \"rson :: \\u0259n#\", \"linch :: \\u026b\\u026an\", \"stro :: b\\u026as\", \"eson :: \\u0259s\\u0259n\", \"chee :: \\u0283\\u026a\\u0279\", \"hunt :: \\u0259nt\", \"ates# :: ts#\", \"eath :: #w\\u025b\", \"#bul :: #b\\u0259\\u026b\", \"carn :: k\\u0251\\u0279n\", \"randa :: \\u00e6nd\", \"ally :: \\u026ak\\u026b\", \"rdel :: d\\u025b\\u026b\", \"enson :: s\\u0259n\", \"locat :: \\u0259ke\\u026a\", \"man# :: \\u0251tm\", \"ynski :: ski\", \"novel :: \\u028av\\u025b\", \"lson :: s\\u0259n#\", \"rdo# :: o\\u028a#\", \"romer :: \\u0279o\\u028a\", \"iren :: \\u026a\\u0279i\", \"holl :: \\u026bm\\u0259n\", \"agre :: \\u0279\\u025bk\", \"nail# :: e\\u026a\\u026b\", \"nger :: d\\u0292\\u025d\", \"nness :: n\\u026as\", \"da's# :: \\u0259z#\", \"rsha :: \\u0251\\u0279\\u0283\", \"#ying :: #j\\u026a\\u014b\", \"oliti :: #p\\u0251\\u026b\", \"anum :: n\\u0259m\", \"gham :: h\\u00e6m\", \"sylva :: #s\\u026a\\u026b\", \"alloc :: \\u00e6\\u026b\\u0259k\", \"pros :: p\\u0279\\u0251s\", \"unta :: nt\\u0259\", \"idge :: \\u026ad\\u0292#\", \"eth# :: \\u026a\\u03b8#\", \"etti# :: \\u025bti\", \"terin :: \\u026a\\u014b#\", \"ley# :: d\\u026bi\", \"acti :: f\\u0279\\u00e6\", \"#bari :: \\u0251\\u0279i\", \"ppers :: \\u025dz#\", \"mote :: o\\u028at\", \"chec :: t\\u0283\\u025bk\", \"vand :: \\u00e6nd\", \"ren# :: \\u0279\\u025bn\", \"gora :: \\u0261\\u0254\\u0279\", \"edle :: id\\u0259\", \"lli# :: \\u025b\\u026bi#\", \"tran :: t\\u0279\\u0259n\", \"#sch :: d\\u025d#\", \"ingl :: \\u014b\\u026bi#\", \"#mus :: #mju\", \"lge# :: \\u026bd\\u0292#\", \"rned :: \\u025dnd#\", \"human :: hju\", \"vand :: v\\u00e6nd\", \"ouch :: t\\u0283\\u025d\", \"free :: im\\u0259n\", \"ing# :: k\\u026a\\u014b#\", \"fabi :: f\\u0251b\", \"#mcm :: m\\u0259km\", \"easew :: \\u026bisw\", \"shed# :: \\u026a\\u0283t\", \"esse :: \\u025bs\\u025d#\", \"emot :: d\\u026amo\", \"vand :: v\\u00e6n\", \"ord# :: \\u025dd#\", \"#kiss :: k\\u026as\", \"lambe :: \\u026b\\u00e6m\", \"en's# :: nz#\", \"rous :: t\\u0279a\", \"ists# :: sts\", \"esse :: #h\\u025b\", \"inst :: \\u026an#\", \"antic :: nt\\u026a\", \"ford :: f\\u025dd\", \"#car :: \\u0259\\u026b#\", \"#jac :: #j\\u0251k\", \"ould :: o\\u028a\\u026bd\", \"ford# :: \\u025dd#\", \"#rig :: \\u0279a\\u026at\", \"over :: #o\\u028a\", \"ock# :: \\u0251k#\", \"chan :: \\u0283\\u00e6n\", \"eim's :: \\u026amz#\", \"nbur :: nb\\u025d\", \"ills# :: \\u026a\\u026bz#\", \"iber :: #\\u026b\\u026a\", \"wski :: ki#\", \"ocket :: \\u0279\\u0251k\", \"quir :: \\u026a\\u0279#\", \"liken :: \\u0259n#\", \"birds :: b\\u025dd\", \"#kre :: \\u0279a\\u026a\", \"quire :: kwa\\u026a\", \"ynth :: #s\\u026a\", \"lva# :: \\u026bv\\u0259\", \"nder :: nd\\u025dz\", \"rent :: \\u0279\\u025bn\", \"suit :: #\\u0259ns\", \"omer# :: \\u0279o\\u028a\", \"aving :: e\\u026av\\u026a\", \"bling :: \\u026b\\u026a\\u014b#\", \"voca :: v\\u0259k\", \"indi :: nd\\u026a\", \"brook :: \\u0279\\u028ak\", \"nfel :: \\u0259nf\", \"ar's :: \\u025dz#\", \"arsh :: #m\\u0251\\u0279\", \"uire# :: kwa\", \"crow :: k\\u0279o\", \"elter :: \\u026bt\\u025d#\", \"nnel :: #k\\u0251n\", \"beach :: it\\u0283\", \"side# :: a\\u026ad#\", \"roni :: \\u0279o\\u028a\", \"ark# :: \\u0251\\u0279k\", \"#fre :: #f\\u0279\", \"#hom :: #ho\", \"nce# :: \\u0259ns\", \"ler# :: \\u026at\\u026b\\u025d\", \"whitt :: #hw\", \"#spa :: #sp\", \"ield :: fi\\u026b\", \"ile# :: a\\u026a\\u026b\", \"ally :: \\u0259\\u026bi\", \"aysi :: \\u026be\\u026a\", \"nding :: a\\u028and\", \"uerm :: \\u025dm\\u0259\", \"sts# :: \\u026b\\u026as\", \"#rei :: \\u0279a\\u026a\", \"#file :: fa\\u026a\", \"hard :: \\u0251\\u0279d\", \"beac :: it\\u0283\", \"aves :: \\u026avz#\", \"ntera :: \\u00e6kt\", \"ive# :: s\\u026av\", \"rell :: \\u0279\\u025b\\u026b#\", \"ing# :: ksp\", \"efle :: \\u026af\\u026b\\u025b\", \"nstei :: a\\u026an\", \"uist :: st#\", \"er's :: \\u026ast\", \"pers :: up\\u025d\", \"and# :: t\\u0279\\u0259n\", \"trip :: \\u0279\\u026ap\", \"#per :: #p\\u025d\\u0279\", \"onis :: \\u028an\\u026a\", \"flaun :: #f\\u026b\", \"aund :: \\u0254nd\\u025d\", \"burg :: b\\u025d\\u0261#\", \"mple :: mp\\u026b\", \"ward# :: \\u025dd#\", \"troy# :: t\\u0279\\u0254\\u026a\", \"resh :: f\\u0279\\u025b\\u0283\", \"ia's# :: \\u0259z#\", \"iome :: a\\u026ao\", \"lin# :: \\u026b\\u026an\", \"art# :: \\u0279t#\", \"flec :: #\\u0279\\u026af\", \"man# :: \\u0283m\\u0259\", \"gham# :: h\\u00e6m\", \"hewi :: hju\", \"gres :: \\u0261\\u0279\\u025bs\", \"brea :: b\\u0279\\u025b\", \"man# :: sm\\u0259n\", \"inger :: \\u026as\\u026a\", \"mise :: st#\", \"ison :: \\u026b\\u026as\\u0259\", \"enson :: s\\u0259n#\", \"#pick :: \\u026ak\\u026a\", \"rook :: \\u028aks\", \"hrist :: \\u0279\\u026ast\", \"kens# :: \\u0259nz#\", \"libe :: \\u026b\\u026ab\", \"tend :: t\\u025bnd\", \"hrma :: \\u0279m\\u0259n\", \"holi :: #h\\u0251\", \"#coll :: k\\u0251\\u026b\\u025d\", \"ette# :: \\u025d\\u025bt\", \"ches :: t\\u0283\\u0259s\", \"#chri :: \\u0279\\u026as\", \"lean :: #k\\u026bi\", \"kman :: m\\u0259n#\", \"#krei :: \\u0279a\\u026a\", \"lake :: \\u026ak#\", \"ease :: we\\u026a\", \"gton# :: \\u014bt\\u0259n\", \"ridg :: \\u026ad\\u0292#\", \"ners# :: n\\u025dz\", \"lair :: k\\u026b\\u025b\", \"baum :: ba\\u028am\", \"irene :: \\u0279in\", \"gree :: \\u0261\\u0279i\", \"comet :: #k\\u0251m\", \"stei :: \\u026an#\", \"lari :: #\\u026b\\u0251\\u0279\", \"ando :: o\\u028a#\", \"zerb :: \\u026a\\u0279b\", \"arro :: \\u00e6\\u0279o\", \"berg :: b\\u025d\\u0261\", \"knee :: ni\\u026b\", \"y's# :: e\\u026az\", \"asur :: \\u0292\\u025d#\", \"#mini :: #m\\u026a\", \"voir# :: vw\\u0251\", \"polit :: #p\\u0251\", \"frac :: f\\u0279\\u00e6k\", \"eidl :: \\u026b\\u025d#\", \"erat :: e\\u026at#\", \"nger :: d\\u0292\\u025d\", \"stry# :: t\\u0279i#\", \"mint :: m\\u026an\", \"ety# :: \\u0259ti#\", \"quist :: w\\u026ast\", \"fman :: \\u0254fm\\u0259\", \"membe :: m\\u025bmb\", \"ori# :: \\u0254\\u0279i#\", \"roll :: \\u0279o\\u028a\\u026b\", \"thru :: #\\u03b8\\u0279\", \"mccon :: k\\u0251n\\u0259\", \"erin# :: \\u026an#\", \"#mcc :: k\\u0251n\", \"cept :: \\u025bpt\\u026a\", \"fres :: #f\\u0279\", \"raph :: \\u0279\\u0259f\", \"ler# :: s\\u0259\\u026b\\u025d\", \"chman :: \\u0283m\\u0259\", \"foun :: fa\\u028an\", \"stra :: kst\", \"pps# :: ps#\", \"uand :: w\\u0251nd\", \"denb :: b\\u025d\\u0261\", \"conne :: n\\u0259\\u026b\", \"slig :: \\u026ba\\u026a\", \"tors :: t\\u025dz#\", \"olid :: \\u0251\\u026b\\u0259\", \"kies# :: kiz\", \"cket :: #p\\u026ak\", \"unsu :: #\\u0259n\", \"cott :: k\\u0251t\", \"#fib :: fa\\u026a\", \"ines# :: \\u0259nz\", \"mote :: #d\\u026a\", \"vest :: st#\", \"rette :: \\u025d\\u025bt#\", \"ling :: \\u025d\\u026b\\u026a\\u014b\", \"inter :: #\\u026ant\", \"hilli :: \\u026b\\u026a\\u014b\", \"#leas :: we\\u026a\", \"vell :: \\u028av\\u025b\", \"rodi :: o\\u028ad\", \"es'# :: st\\u026a\", \"tter :: \\u025bt\\u025d\", \"ay's# :: \\u026az#\", \"#gre :: \\u0261\\u0279in\", \"singe :: s\\u026an\", \"#fel :: #f\\u025b\", \"llin :: \\u0283\\u026a\\u026b\", \"erri :: #b\\u025b\", \"#yin :: #j\\u026a\\u014b\", \"nnes :: n\\u0259s\", \"nstei :: \\u026anst\", \"y's# :: e\\u026az#\", \"ngs# :: \\u026b\\u026a\\u014bz\", \"ay's :: e\\u026az#\", \"grun :: \\u0259nd\", \"#pink :: p\\u026a\\u014b\", \"bed# :: \\u0259bd#\", \"ista :: \\u0279is\", \"unit :: #ju\", \"nnell :: \\u0251n\\u0259\", \"mcclo :: ski#\", \"lmore :: \\u026bm\\u0254\", \"light :: \\u026ats\", \"#sep :: s\\u025bp\", \"russ :: \\u0279\\u0259s\", \"immi :: \\u026am\\u026ak\", \"#ado :: #\\u0259d\", \"way's :: e\\u026az#\", \"reid :: a\\u026ad\\u0259\", \"uire :: wa\\u026a\", \"#leb :: #\\u026b\\u025b\", \"#boun :: ba\\u028a\", \"einer :: \\u026an\\u025d\", \"tate :: e\\u026at#\", \"#upl :: \\u0259p\\u026b\", \"leas :: we\\u026a\", \"rcia :: #k\\u0259m\", \"ance :: \\u0279\\u0259ns\", \"ders :: d\\u025dz#\", \"ndin :: nd\\u026a\\u014b\", \"owsk :: \\u0254fs\", \"#mos :: mo\\u028as\", \"capri :: p\\u0279i\", \"lvin :: \\u026a\\u014b#\", \"cian# :: \\u0283\\u0259n#\", \"port :: \\u0254\\u0279t#\", \"anti :: \\u00e6nt\\u026a\", \"unt# :: \\u0259nt#\", \"well :: \\u0251w\\u025b\\u026b\", \"ight# :: \\u026ba\\u026at\", \"ansen :: \\u0259ns\\u0259\", \"oles# :: o\\u028a\\u026bz\", \"icia :: \\u0259n#\", \"#unsu :: #\\u0259ns\", \"olt# :: o\\u028a\\u026bt\", \"#all :: #\\u00e6\\u026b\", \"raff :: \\u00e6f#\", \"#unde :: \\u0259nd\\u026a\", \"#nic :: #n\\u026ak\", \"heue :: \\u025dm\\u0259n\", \"rek# :: \\u0279\\u025bk#\", \"gway :: we\\u026a#\", \"nber :: nb\\u025d\", \"elli# :: \\u026bi#\", \"educe :: #s\\u026ad\", \"assai :: \\u0259se\", \"#bric :: #b\\u0279\\u026a\", \"#cal :: \\u026be\\u026a\", \"emote :: mo\\u028at\", \"#orth :: #\\u0254\\u0279\\u03b8\", \"dar# :: d\\u0251\\u0279#\", \"decl :: k\\u026b\\u025b\", \"sligh :: \\u026ba\\u026a\", \"ritt :: #b\\u0279\\u026a\", \"able# :: b\\u0259\\u026b\", \"omer# :: m\\u025d#\", \"flor :: \\u026b\\u0254\\u0279\", \"eim' :: ha\\u026a\", \"der# :: \\u026b\\u00e6nd\", \"allon :: \\u0259n#\", \"flec :: #\\u0279\\u026af\", \"able# :: \\u0259b\\u0259\", \"ance :: \\u00e6ns\", \"ohlm :: o\\u028a\\u026b\", \"off# :: \\u0254f#\", \"ster :: \\u0259n#\", \"#kris :: #k\\u0279\", \"home :: #ho\", \"#lau :: \\u026b\\u0254d\", \"ney# :: \\u0259ni\", \"#nag :: e\\u026a\\u0261\", \"forg :: #f\\u025d\", \"cemen :: m\\u025bn\", \"heue :: \\u0254\\u026a\\u025d\", \"ia's# :: \\u0259z#\", \"#boh :: #bo\", \"ebur :: b\\u025d\\u0261\", \"heim' :: ha\\u026a\", \"burg# :: \\u0259nb\", \"#mal :: \\u0259\\u026be\", \"ff's :: fs#\", \"aded :: \\u025bd\\u026a\", \"ander :: nd\\u025d#\", \"#gra :: \\u0261\\u0279e\\u026a\", \"ets# :: \\u026b\\u0259t\", \"lberg :: \\u0259\\u026bb\", \"im's :: mz#\", \"teen :: tin\", \"nstei :: \\u026an#\", \"#schw :: \\u0283w\\u0254\", \"inger :: s\\u026an\", \"temp :: \\u025bmp\", \"rsen :: \\u0259n#\", \"ster# :: \\u026ast\", \"eway :: iswe\", \"#bell :: b\\u025b\\u026b\", \"dist :: d\\u026as\", \"ream# :: \\u0279im#\", \"mise :: #p\\u0279\", \"chase :: t\\u0283e\\u026a\", \"#mis :: m\\u026as\", \"quez# :: kw\\u025b\", \"ers# :: st\\u0279\", \"tera :: n\\u025d\\u00e6k\", \"rile# :: \\u026a\\u026b#\", \"righ :: #\\u0279a\", \"carde :: \\u0279d\\u026a\", \"#sle :: #s\\u026bi\", \"owery :: a\\u028a\\u025d\", \"libe :: \\u026ab\\u025dt\", \"viole :: #va\", \"ell# :: w\\u025b\\u026b\", \"idma :: m\\u0259n\", \"#kar :: k\\u0251\\u0279\", \"#fib :: #fa\", \"dest :: st#\", \"oden# :: \\u028ad\\u0259n\", \"reema :: im\\u0259\", \"ale# :: \\u026a\\u026b#\", \"bury# :: b\\u025b\\u0279\", \"#clea :: #k\\u026bi\", \"fide :: fa\\u026a\", \"ches :: \\u026az#\", \"bert :: #n\\u0254\\u0279\", \"svill :: v\\u026a\\u026b\", \"picke :: \\u026ak\\u026at\", \"vest :: \\u025bst\", \"avin :: \\u026a\\u014b#\", \"ner# :: un\\u025d#\", \"ville :: ksv\\u026a\", \"ns'# :: \\u0259nz#\", \"elsen :: s\\u0259n#\", \"les# :: a\\u026a\\u026bz\", \"pac# :: \\u00e6k#\", \"tial :: \\u0259\\u026b#\", \"#wag :: w\\u00e6\\u0261\\u0259\", \"alak :: \\u0251\\u026b\\u0259k\", \"#orl :: #\\u0254\\u0279\\u026b\", \"stei :: \\u026ans\", \"calam :: #k\\u0259\\u026b\", \"tine :: t\\u0259n\", \"ros# :: o\\u028az\", \"vest# :: \\u025bst#\", \"#mar :: m\\u0251\\u0279\\u0283\", \"ranc :: \\u00e6ns\", \"#lev :: \\u026b\\u025bv\", \"eilly :: \\u026a\\u026bi#\", \"ows# :: o\\u028az#\", \"nger :: \\u026and\\u0292\", \"#cat :: k\\u00e6t\", \"ollar :: k\\u0251\\u026b\\u025d\", \"ell# :: w\\u025b\\u026b#\", \"pres :: p\\u0279\\u025bs\", \"oniz :: a\\u026az\", \"terl :: nt\\u025d\\u026b\", \"vest# :: \\u025bst\", \"laun :: \\u026b\\u0254n\", \"ngly# :: \\u026a\\u014b\\u026bi\", \"lers :: \\u026b\\u025dz#\", \"on's# :: s\\u0259n\", \"tt's :: \\u026ats\", \"elso :: \\u0259n#\", \"led# :: s\\u0259\\u026b\", \"vande :: v\\u00e6nd\", \"eeman :: f\\u0279i\", \"#hen :: h\\u025bn\", \"e's# :: \\u0279o\\u028a\", \"ppers :: \\u0251p\\u025d\", \"estra :: st\\u0279\", \"rist :: st\\u0259\", \"lber :: \\u026bb\\u025d\", \"rate# :: \\u026at#\", \"ther :: \\u025di#\", \"ghla :: #ha\", \"#unm :: #\\u0259n\", \"langu :: \\u026b\\u00e6\\u014b\", \"ized :: a\\u026azd\", \"ager# :: \\u0261\\u025d#\", \"etti :: \\u025bt\\u026a\", \"pes# :: \\u026aps\", \"bera :: \\u026b\\u026ab\\u025d\", \"dman :: dm\\u0259\", \"velli :: \\u025b\\u026bi\", \"cros :: \\u0279\\u0251s\", \"#hom :: mo\\u028a\", \"eedl :: nid\\u0259\", \"ens# :: k\\u0259n\", \"berr :: \\u025b\\u0279i\", \"nal# :: n\\u0259\\u026b#\", \"#dim :: d\\u026ami\", \"highl :: a\\u026a\\u026ba\", \"duce :: #s\\u026ad\", \"reil :: \\u026bi#\", \"ustin :: st\\u026a\", \"divi :: #d\\u026av\", \"sampl :: \\u00e6mp\", \"#lap :: \\u026b\\u00e6p\", \"orial :: i\\u0259\\u026b#\", \"enbu :: \\u0259nb\\u025d\", \"elle :: \\u025b\\u026b#\", \"#henn :: \\u025bn\\u026a\", \"ling :: \\u026b\\u026a\\u014b#\", \"vill :: v\\u026a\\u026b\", \"#rain :: #\\u0279e\", \"erti :: \\u026ab\\u025d\", \"port :: p\\u0254\\u0279\", \"eflec :: \\u026af\\u026b\\u025b\", \"ren# :: \\u025b\\u0279\\u0259n\", \"#cle :: k\\u026bin\", \"peri :: \\u026a\\u0279i\", \"nduc :: d\\u0259kt\", \"ding# :: \\u025bnd\", \"eman# :: m\\u0259n\", \"#ter :: t\\u025b\\u0279\", \"resp :: p\\u0251nd\", \"#val :: #v\\u00e6\\u026b\", \"inte :: \\u026an\\u025ds\", \"zyns :: \\u0283\\u026ans\", \"tein# :: nsta\", \"land :: dz#\", \"trus :: t\\u0279\\u0259s\", \"her# :: t\\u0283\\u025d\", \"son's :: \\u0259nz\", \"tein# :: a\\u026an#\", \"rrow :: \\u00e6\\u0279o\\u028a\", \"nia# :: i\\u0259#\", \"arbu :: w\\u0254\\u0279\", \"ompel :: p\\u025b\\u026b\", \"rist :: \\u0279\\u026ast\", \"#schn :: #\\u0283n\", \"stei :: a\\u026an\", \"llin :: \\u00e6m#\", \"#warb :: \\u0254\\u0279b\", \"pper :: \\u00e6p\\u025d#\", \"#mids :: m\\u026ads\", \"hing :: \\u0283\\u026a\\u014b\", \"ita# :: t\\u0259#\", \"decla :: \\u026b\\u025b\\u0279\", \"ides# :: \\u026adz#\", \"#man :: me\\u026an\", \"isle :: \\u026as\\u0259\", \"ter' :: t\\u025dz#\", \"tive :: kt\\u026av\", \"ling :: h\\u00e6m#\", \"tein# :: ta\\u026a\", \"ner# :: \\u026an\\u025d#\", \"ison# :: s\\u0259n#\", \"#man :: ni#\", \"gren :: \\u0261\\u0279\\u025bn\", \"ping :: p\\u026a\\u014b#\", \"#sylv :: \\u026bv\\u0259\", \"#tour :: #t\\u028a\\u0279\", \"rner :: \\u0254\\u0279n\", \"nely :: n\\u026bi#\", \"aint :: pe\\u026an\", \"tran :: t\\u0279\\u0259\", \"enbu :: \\u0259nb\\u025d\", \"#tim :: #t\\u026am\", \"lman# :: m\\u0259n\", \"nail# :: e\\u026a\\u026b#\", \"lain :: \\u026be\\u026an\", \"allo :: \\u00e6\\u026bo\\u028a\", \"mane :: me\\u026a\", \"mala :: #m\\u0259\", \"#dimi :: #d\\u026am\", \"conf :: k\\u0259n\", \"closk :: \\u0259k\\u026b\\u0254\", \"sen# :: \\u025ds\\u0259\", \"iles# :: a\\u026a\\u026b\", \"tic# :: \\u00e6nt\\u026a\", \"cates :: \\u0259ke\", \"yton' :: e\\u026at\\u0259\", \"lean :: k\\u026bin\", \"tate :: \\u026at#\", \"laur :: \\u026b\\u0254\\u0279\", \"#kil :: k\\u026a\\u026bm\", \"lings :: \\u014bz#\", \"ners :: \\u028amo\\u028a\", \"e's# :: #\\u0279o\\u028a\", \"conn :: \\u0251n\\u0259\", \"ented :: nt\\u026ad\", \"hing# :: \\u026a\\u014b#\", \"hers# :: \\u026a\\u0283\\u025dz\", \"ond# :: m\\u0259n\", \"#rem :: \\u0279im\", \"ctive :: \\u025bkt\\u026a\", \"#inte :: \\u00e6kt\", \"ids# :: \\u026adz\", \"#hom :: #ho\\u028a\", \"ous# :: t\\u0279\\u0259s\", \"ntou :: \\u0251nt\", \"orts :: ts#\", \"#cav :: k\\u00e6v\", \"huma :: nhju\", \"nders :: nd\\u025ds\", \"tripp :: #t\\u0279\\u026a\", \"#mcco :: m\\u0259k\\u0251\", \"ease :: swe\\u026a\", \"rest# :: st#\", \"stin :: t\\u026a\\u014b#\", \"ling# :: i\\u026b\\u026a\\u014b\", \"#stoo :: #stu\", \"hass :: h\\u00e6s\", \"#pur :: p\\u025dp\", \"laun :: \\u0254nd\", \"mist :: st\\u0279\", \"oted :: t\\u026ad#\", \"ring# :: a\\u028a\\u025d\", \"goner :: \\u0259n\\u025d\", \"vill :: v\\u026a\\u026b\", \"vill :: \\u026a\\u026b#\", \"llard :: \\u026b\\u025dd\", \"#lan :: \\u026b\\u00e6nd\", \"ons# :: nz#\", \"estr :: t\\u0279\\u0254\", \"resha :: \\u0254\\u0279\\u0283\", \"ngly# :: \\u026bi#\", \"chil :: \\u0283\\u026a\\u026b\", \"embl :: mb\\u026b\", \"lman# :: \\u026a\\u026bm\\u0259\", \"led# :: \\u0259\\u026bd\", \"ling :: \\u026a\\u026b\\u026a\", \"hes# :: t\\u0283\\u026a\", \"alay :: \\u0259\\u026be\", \"lingh :: h\\u00e6m#\", \"#non :: n\\u0251n\", \"#hyp :: #ha\\u026a\", \"linc :: \\u026b\\u026ant\", \"odi# :: \\u0279o\\u028ad\", \"berg# :: nb\\u025d\\u0261\", \"#fla :: #f\\u026b\\u0254\", \"nber :: b\\u025d\\u0261\", \"#vorh :: hiz#\", \"aving :: e\\u026av\", \"kins :: \\u00e6tk\\u0259\", \"ickh :: \\u026akh\", \"liot :: \\u026bio\\u028a\", \"#int :: nt\\u025dd\", \"gone :: \\u00e6\\u0261\\u0259n\", \"pape :: e\\u026ap\\u025d\", \"wner :: o\\u028am\", \"enber :: nb\\u025d\", \"stat :: e\\u026at\", \"inda# :: \\u026and\\u0259\", \"nberg :: b\\u025d\\u0261\", \"berg :: \\u025d\\u0261#\", \"enber :: \\u025d\\u0261#\", \"enber :: b\\u025d\\u0261\", \"nberg :: \\u025d\\u0261#\", \"sylva :: \\u026bv\\u0259\", \"ours :: #k\\u0254\\u0279\", \"till :: #st\", \"inge :: \\u026and\", \"enbe :: nb\\u025d\", \"gham :: h\\u00e6m\", \"enbe :: \\u025d\\u0261#\", \"berg# :: b\\u025d\\u0261#\", \"conn :: n\\u0259\\u026b\", \"#man :: #m\\u0251\", \"ile# :: a\\u026a\\u026b#\", \"nber :: b\\u025d\\u0261#\", \"ltz# :: \\u028a\\u026bts\", \"mult :: m\\u0259\\u026b\", \"carde :: \\u026ad#\", \"erg# :: b\\u025d\\u0261#\", \"dust :: \\u0259st\", \"nger :: \\u014b\\u025d#\", \"ayton :: \\u026at\\u0259\", \"aday# :: de\\u026a\", \"ians# :: nz#\", \"#unbu :: \\u0259nd\", \"ski# :: nski\", \"tter :: \\u0251t\\u025d\", \"#matu :: #m\\u0259\", \"kind :: \\u026and\", \"hrma :: \\u0279m\\u0259\", \"eurs :: \\u025dz#\", \"beat :: #bit\", \"#meth :: m\\u025b\\u03b8\", \"ile# :: a\\u026a\\u026b\", \"igne :: nd#\", \"itte :: \\u0259n#\", \"samp :: #s\\u00e6\", \"#wat :: #w\\u0251t\", \"#hea :: #hi\", \"marc :: \\u0251\\u0279s\", \"race :: t\\u0283i#\", \"amber :: \\u026b\\u00e6mb\", \"win# :: \\u026an#\", \"roll :: o\\u028a\\u026b\", \"ives# :: vz#\", \"oint :: #p\\u0254\\u026a\", \"luff :: #b\\u026b\", \"#mcke :: #m\\u0259\", \"ower :: \\u025d\\u026a\\u014b#\", \"broo :: \\u0279\\u028ak\", \"rged# :: \\u0292d#\", \"#ban :: b\\u00e6n\", \"ucher :: \\u028at\\u0283\\u025d\", \"llard :: \\u026b\\u025dd#\", \"conf :: k\\u0259nf\", \"well# :: w\\u025b\\u026b#\", \"ymie :: a\\u026am\", \"tellu :: #t\\u025b\", \"autho :: a\\u026az\", \"samp :: #s\\u00e6m\", \"#berr :: #b\\u025b\\u0279\", \"tter :: t\\u025d#\", \"olly :: \\u0251\\u026bi#\", \"sky# :: #\\u026b\\u0259\", \"iott# :: \\u0259t#\", \"cate :: \\u026b\\u0259k\", \"ppro :: \\u0259p\\u0279\", \"ecto :: \\u025bkt\", \"ton' :: t\\u0259nz\", \"#bas :: #b\\u00e6s\", \"#dom :: \\u0251m\\u0259\", \"stee :: ti\\u026b\", \"#chan :: \\u0283\\u00e6n\", \"mond# :: \\u0259nd\", \"ger# :: \\u026a\\u0261\\u025d#\", \"eine :: a\\u026an\\u025d\", \"#com :: \\u0251m\\u0259t\", \"idi# :: di#\", \"#bun :: #b\\u0259\", \"ling :: \\u0283\\u026a\\u026b\", \"owsk :: \\u0254fsk\", \"#bon :: #b\\u0251\", \"bluff :: #b\\u026b\\u0259\", \"svill :: sv\\u026a\", \"ssett :: s\\u026at#\", \"nski# :: \\u026ans\", \"tone :: o\\u028an#\", \"schw :: #\\u0283w\\u025d\", \"hama :: \\u0251m\\u0259\", \"#hono :: #\\u0251n\", \"#adv :: \\u00e6dv\", \"gone :: \\u0259n\\u025d#\", \"atch :: \\u00e6t\\u0283\", \"rsen :: \\u025ds\\u0259n\", \"ring :: \\u026a\\u014b#\", \"eland :: \\u0259nd\", \"ne's :: nz#\", \"cros :: k\\u0279\\u0254s\", \"ally# :: k\\u026bi#\", \"ting :: \\u026at\\u026a\", \"idle :: \\u026ad\\u026b\", \"ifie :: \\u0259fa\", \"ntin :: nt\\u0259\", \"#mcc :: ski\", \"coope :: kup\", \"barr :: o\\u028a#\", \"rette :: \\u025d\\u025bt\", \"apes :: \\u026aps\", \"defe :: d\\u026af\", \"good :: #\\u0261\\u028a\", \"asp# :: \\u00e6sp#\", \"ille :: \\u026a\\u026b\\u0259t\", \"#mark :: \\u0251\\u0279k\", \"pprov :: #\\u0259p\", \"#aft :: \\u00e6ft\\u025d\", \"mark# :: \\u0251\\u0279k#\", \"odny :: ni#\", \"ectiv :: kt\\u026a\", \"merc :: #k\\u0259\", \"ight# :: a\\u026at#\", \"owne :: o\\u028an\", \"enfel :: \\u0259nf\\u025b\", \"illi :: \\u0259n#\", \"#pla :: p\\u026b\\u00e6\", \"lving :: \\u026bv\\u026a\", \"gham# :: \\u026a\\u014bh\", \"llar :: \\u0251\\u0279d\", \"cci# :: \\u0283i#\", \"#mint :: \\u026ant\", \"ng's# :: t\\u026a\\u014b\", \"#mon :: m\\u0251n\", \"sbury :: sb\\u025b\", \"n's# :: t\\u0259nz\", \"own# :: \\u028an#\", \"ma's# :: m\\u0259z\", \"rret :: \\u0279\\u026at\", \"tive# :: \\u025bkt\", \"lson# :: \\u026bs\\u0259\", \"nny# :: ni#\", \"hiro# :: \\u0283\\u026a\\u0279\", \"son# :: \\u026a\\u026bs\\u0259\", \"ield :: i\\u026bdz\", \"nsky# :: \\u026ansk\", \"tive# :: kt\\u026a\", \"blake :: b\\u026be\", \"porti :: \\u0254\\u0279t\", \"#int :: n\\u025d\\u00e6\", \"rtin :: \\u0279t\\u026a\", \"ing's :: \\u026a\\u014bz#\", \"ano# :: i\\u0251n\", \"oards :: b\\u0254\\u0279\", \"cheu :: #\\u0283\\u0254\\u026a\", \"#lin :: \\u026and\", \"highl :: #ha\\u026a\", \"ooki :: \\u028akiz\", \"anda :: nd\\u0259\", \"#pri :: \\u0279\\u026an\", \"#poet :: o\\u028a\\u0259t\", \"uner :: un\\u025d\", \"emmi :: \\u025bm\\u026a\", \"toura :: #\\u0251nt\", \"ghli :: #ha\\u026a\", \"dent# :: \\u0259nt#\", \"rski# :: ki#\", \"marke :: m\\u0251\\u0279\", \"bill :: \\u026a\\u026b\\u0259\", \"nfie :: fi\\u026b\", \"ghts# :: a\\u026ats\", \"fman :: m\\u0259n\", \"finc :: #f\\u026a\", \"rint :: \\u0279\\u026ant\", \"anck :: f\\u0279\\u00e6\", \"mail :: me\\u026a\\u026b\", \"flec :: \\u0279\\u026af\", \"#cat :: #k\\u00e6t\", \"sive# :: s\\u026av#\", \"ller :: \\u026a\\u026b\\u025d\", \"jaco :: k\\u0259b\", \"salz :: #s\\u0254\", \"acia :: \\u026asi\", \"orin :: \\u0279\\u026a\\u014b#\", \"oley :: \\u026bi#\", \"laun :: \\u0254nd\", \"#fei :: a\\u026an\", \"#bil :: #b\\u026a\\u026b\", \"ling# :: \\u026b\\u026a\\u014b\", \"arge :: \\u0279d\\u0292\", \"ardi :: \\u0251\\u0279d\", \"iome :: a\\u026ao\", \"dhei :: dha\", \"ski# :: \\u026bsk\", \"inch :: #k\\u026b\\u026a\", \"antic :: \\u00e6nt\\u026a\", \"bing# :: \\u026a\\u014b#\", \"her# :: \\u0283\\u025d#\", \"sman :: \\u0251sm\\u0259\", \"locat :: e\\u026at\", \"atin :: \\u026at\\u026a\\u014b\", \"anne :: n\\u025d#\", \"lets :: \\u0259ts#\", \"#jet :: #d\\u0292\", \"iglia :: \\u026bi\\u0259\", \"#pro :: \\u026av#\", \"onfi :: k\\u0259nf\", \"green :: \\u0261\\u0279i\", \"quist :: \\u026ast#\", \"crap :: sk\\u0279\", \"ante# :: ti#\", \"#poet :: po\\u028a\", \"llner :: \\u026bn\\u025d\", \"scot :: sk\\u0251\", \"#bou :: ba\\u028a\", \"thori :: \\u0254\\u03b8\\u025d\", \"hler :: \\u026b\\u025d#\", \"okes :: o\\u028aks\", \"alide :: \\u026ad#\", \"#car :: k\\u0251\\u0279n\", \"rost :: \\u0279\\u0254s\", \"eflec :: \\u026b\\u025bkt\", \"uste :: \\u0259sti\", \"lude# :: ud#\", \"tts# :: ts#\", \"low# :: o\\u028a#\", \"#halt :: #h\\u0254\\u026b\", \"mcco :: \\u0251n\\u0259\", \"tting :: t\\u026a\\u014b\", \"#mids :: #m\\u026a\", \"#rest :: \\u0279\\u025bst\", \"sert# :: \\u0259s\\u025dt\", \"vell :: #no\", \"#stu :: #stu\", \"meyer :: a\\u026a\\u025d\", \"eyer# :: ma\\u026a\", \"mosu :: #mo\\u028a\", \"quis :: \\u026ast#\", \"gerr :: #d\\u0292\\u025b\", \"lward :: m\\u026a\\u026bw\", \"human :: hjum\", \"#samp :: s\\u00e6m\", \"ster :: t\\u025dz#\", \"#cal :: k\\u0259\\u026b\", \"port :: \\u0279t#\", \"ving :: v\\u026a\\u014b#\", \"#bris :: b\\u0279\\u026as\", \"ject :: kt#\", \"scom :: nsk\", \"card :: \\u026ad#\", \"ector :: \\u025bkt\", \"dler :: a\\u026ad\", \"entha :: \\u03b8\\u0259\\u026b\", \"#luc :: \\u026buk\", \"antic :: nt\\u026ak\", \"rate :: \\u025de\\u026at\", \"icket :: p\\u026ak\", \"rano# :: no\\u028a#\", \"rrin :: \\u025b\\u0279\\u026a\", \"#ble :: #b\\u026b\", \"aving :: v\\u026a\\u014b\", \"#pen :: p\\u025bn\", \"iles# :: a\\u026a\\u026b\", \"agre :: \\u0251\\u0261\\u0279\\u025b\", \"#syl :: \\u026a\\u026bv\\u0259\", \"ests :: \\u025bst\", \"olls :: \\u028a\\u026bz#\", \"#disp :: #d\\u026a\", \"ello :: \\u025b\\u026bo\\u028a\", \"#ren :: #\\u0279\\u025b\", \"nsbur :: \\u00e6nsb\", \"ouche :: a\\u028at\\u0283\", \"aini :: n\\u026a\\u014b\", \"ora# :: \\u0254\\u0279\\u0259#\", \"eber :: \\u025dt#\", \"ore# :: \\u0254\\u0279#\", \"imo# :: mo\\u028a\", \"hilli :: \\u026a\\u026b\\u026a\", \"rock# :: \\u0279\\u0259k\", \"erje :: \\u025dd\\u0292\", \"eaki :: ik\\u026a\", \"#cor :: k\\u0254\\u0279\", \"freid :: a\\u026ad\", \"oste :: #\\u0251s\", \"irts# :: ts#\", \"alloc :: \\u026b\\u0259k\", \"call :: m\\u0259k\", \"ruste :: sti\", \"tion# :: \\u026a\\u0283\\u0259n\", \"nsky# :: ski\", \"aysia :: \\u0259\\u026be\\u026a\", \"#carv :: \\u0251\\u0279v\", \"nbur :: nb\\u025d\\u0261\", \"stri :: #st\\u0279\", \"#inv :: #\\u026an\", \"kins :: k\\u0259n\", \"pres :: \\u0279\\u025bs\", \"king# :: k\\u026a\\u014b#\", \"anum# :: \\u0259m#\", \"king :: k\\u026a\\u014b#\", \"eson# :: s\\u0259n\", \"llme :: ma\\u026a\\u025d\", \"duce :: \\u026adu\", \"#indi :: #\\u026an\", \"#del :: #d\\u025b\\u026b\", \"ancor :: #b\\u00e6n\", \"wate :: w\\u0254t\\u025d\", \"r's# :: \\u0251\\u0279z#\", \"ving# :: v\\u026a\\u014b#\", \"#pic :: #p\\u026a\", \"lati :: e\\u026a\\u0283\\u0259\", \"krei :: #k\\u0279\", \"ring :: \\u025b\\u0279\\u026a\", \"slig :: a\\u026at\", \"opper :: \\u0251p\\u025dz\", \"#god :: #\\u0261\\u0251\", \"nted :: t\\u026ad#\", \"skin :: sk\\u026an\", \"rdo# :: \\u0279do\\u028a\", \"nly# :: \\u026bi#\", \"strou :: t\\u0279\\u0259s\", \"#sun :: #s\\u0259n\", \"ion# :: p\\u0283\\u0259n\", \"#ento :: #\\u0251nt\", \"erna :: #b\\u025dn\", \"beat :: bit\", \"owma :: \\u028am\\u0259\", \"refle :: \\u0279\\u026af\\u026b\", \"#mcc :: k\\u026b\\u0254s\", \"ansen :: s\\u0259n#\", \"ocate :: ke\\u026a\", \"adop :: d\\u0251p\", \"brea :: b\\u0279\\u025bs\", \"#resp :: sp\\u0251n\", \"anco :: nk\\u0254\", \"allon :: \\u026b\\u0259n\", \"euerm :: m\\u0259n#\", \"ires# :: \\u026a\\u0279z#\", \"flau :: \\u026b\\u0254n\", \"#grz :: #\\u0261\\u025dz\", \"dopt :: \\u0259d\\u0251\", \"#mala :: e\\u026a\\u0292\\u0259\", \"list :: \\u026ast\", \"rson# :: \\u0259n#\", \"#cap :: k\\u00e6p\", \"blak :: \\u026be\\u026ak\", \"ders :: nd\\u025d\", \"quire :: wa\\u026a\\u0279\", \"lard# :: \\u025dd#\", \"#bre :: b\\u0279\\u025bs\", \"ised# :: a\\u026azd\", \"lack :: #b\\u026b\\u00e6\", \"seid :: #sa\", \"ains :: e\\u026an\", \"tion# :: \\u0259z\\u026a\\u0283\", \"philb :: #f\\u026a\\u026b\", \"ord# :: \\u00e6nd\", \"nook :: n\\u028ak#\", \"ta's :: t\\u0259z#\", \"#sch :: \\u0283\\u0254\\u026a\", \"icia :: \\u0259t\\u026a\", \"#sol :: so\\u028a\\u026b\", \"atkin :: tk\\u0259\", \"der# :: \\u026ad\\u025d\", \"#deca :: #d\\u026a\", \"meye :: ma\\u026a\", \"uche :: \\u0283\\u025d#\", \"dings :: \\u026a\\u014bz#\", \"braun :: b\\u0279\\u0254n\", \"#ben :: #b\\u025b\", \"hes# :: t\\u0283\\u026a\", \"eway :: e\\u026az#\", \"olle :: \\u0259n#\", \"terac :: #\\u026an\", \"eter# :: \\u0259t\\u025d\", \"porti :: \\u0279t\\u026a\\u014b\", \"perm :: p\\u025dm\", \"utter :: b\\u0259t\\u025d\", \"ande :: \\u0259n#\", \"tion :: \\u026a\\u0283\\u0259\", \"#fran :: f\\u0279\\u00e6\", \"uste :: t\\u0279\\u0259\", \"arce :: #m\\u0251\", \"son# :: ms\\u0259n\", \"spon :: sp\\u0251n\", \"anec :: \\u00e6n\\u026ak\", \"pick :: p\\u026ak\", \"ner# :: \\u026an\\u025d\", \"#all :: #\\u0259\\u026ba\", \"apper :: \\u00e6p\\u025d\", \"arme :: \\u0279m\\u0259\", \"on's# :: t\\u0259nz\", \"rbert :: #n\\u0254\", \"r's# :: \\u0259\\u026b\\u025d\", \"#ber :: #b\\u025dn\", \"#cal :: \\u0259\\u026be\\u026a\", \"berr :: b\\u025b\\u0279\", \"paint :: e\\u026ant\", \"cclo :: ski\", \"cian# :: \\u0283\\u0259n\", \"ranc :: f\\u0279\\u00e6\\u014b\", \"#stor :: t\\u0254\\u0279\", \"educe :: #s\\u026a\", \"zerb :: z\\u026a\\u0279\", \"#chee :: t\\u0283\\u026a\", \"eder :: id\\u025d#\", \"aid# :: e\\u026ad#\", \"lman# :: k\\u026a\\u026b\", \"#pol :: #p\\u0251\\u026b\", \"liet# :: v\\u00e6n\", \"#rut :: #\\u0279\\u0259\", \"#kir :: #k\\u025d\", \"ting' :: \\u014bz#\", \"avana :: v\\u0259n\", \"chase :: e\\u026as\", \"#fre :: m\\u0259nz\", \"lman :: #k\\u026a\", \"inch :: \\u026ant\\u0283\", \"der# :: \\u026and\", \"mote :: d\\u026amo\", \"unsui :: \\u0259nsu\", \"ewin :: ju\\u026a\", \"mant :: nt\\u0259\", \"ranto :: \\u00e6nt\", \"vitr :: v\\u026at\\u0279\", \"inde :: \\u026and\\u025d\", \"#rep :: t\\u026a\\u014b#\", \"#nee :: nid\", \"iole# :: o\\u028a\\u026b#\", \"reil :: \\u026bi#\", \"#card :: #k\\u0251\\u0279\", \"ally# :: k\\u026bi#\", \"ston# :: t\\u0259n\", \"lly# :: k\\u026bi#\", \"#resp :: p\\u0251nd\", \"ive# :: t\\u026av\", \"ansb :: \\u025b\\u0279i\", \"ders :: #\\u0259n\", \"atin :: e\\u026at\", \"illa :: \\u026b\\u0259#\", \"lyn# :: \\u026b\\u026an#\", \"ppers :: p\\u025dz\", \"list :: \\u026b\\u0259s\", \"inst :: \\u026ans\", \"#mcc :: \\u0259ko\", \"emmi :: #\\u025bm\\u026a\", \"en's :: nz#\", \"cates :: e\\u026ats\", \"arti :: #p\\u0251\", \"#mor :: m\\u0254\\u0279\", \"#sol :: o\\u028a\\u026b\", \"#boul :: #bo\", \"ple# :: \\u0259\\u026b#\", \"#abs :: bst\", \"dell :: d\\u025b\\u026b#\", \"ners :: mo\\u028a\", \"mcclo :: \\u0259k\\u026b\", \"#int :: t\\u026a\\u014b\", \"#wil :: w\\u026a\\u026b\", \"ting :: \\u026a\\u014b#\", \"rumm :: \\u0259nd\", \"hlig :: a\\u026a\\u026b\", \"ubbe :: bd#\", \"uire :: kwa\", \"and# :: \\u026a\\u026b\\u0259n\", \"terf :: t\\u025df\", \"#mon :: #m\\u0251n\", \"neel :: ni\\u026b\", \"maxi :: #m\\u00e6\", \"rming :: m\\u026a\\u014b\", \"nder :: \\u0251nd\", \"ing# :: t\\u026a\\u014b\", \"ting :: t\\u026a\\u014b\", \"heuer :: m\\u0259n\", \"ging# :: \\u026a\\u014b#\", \"dler# :: d\\u0259\\u026b\", \"illa :: \\u026a\\u026b\\u0259\", \"post :: o\\u028as\", \"void :: \\u0254\\u026ad\", \"antin :: t\\u026a\\u014b\", \"ity# :: \\u026b\\u0259ti\", \"flec :: \\u0279\\u026af\\u026b\", \"oweri :: \\u025d\\u026a\\u014b\", \"cal# :: \\u0259\\u026b#\", \"alin :: \\u0259\\u026bin\", \"medi :: m\\u025bd\\u0259\", \"er's# :: t\\u025dz#\", \"eria :: b\\u026a\\u0279i\", \"ler# :: d\\u0259\\u026b\\u025d\", \"icia :: \\u0283\\u0259n#\", \"ers# :: n\\u025dz\", \"mccl :: \\u026b\\u0254s\", \"#sand :: #s\\u00e6\", \"unde :: nd\\u025d\", \"mark# :: m\\u0251\\u0279k\", \"ompe :: mp\\u025b\\u026b\", \"hirts :: \\u0283\\u025dts\", \"ring# :: \\u026a\\u014b#\", \"#slig :: \\u026ba\\u026a\", \"oltz# :: \\u028a\\u026bt\", \"ler# :: a\\u026a\\u026b\", \"#veri :: #v\\u025b\\u0279\", \"ties# :: tiz\", \"indu :: #\\u026and\", \"emot :: mo\\u028at\", \"#unsu :: \\u0259ns\", \"troy :: t\\u0279\\u0254\", \"mann# :: km\\u0259\", \"unit :: \\u026at#\", \"ally# :: \\u026bi#\", \"stone :: to\\u028an\", \"erin :: \\u026a\\u014b#\", \"#car :: \\u0251\\u0279d\", \"dill :: #d\\u026a\", \"ollar :: k\\u0251\\u026b\\u025d\", \"lman :: k\\u026a\\u026bm\", \"ero# :: o\\u028a#\", \"#jac :: #d\\u0292\\u00e6\", \"#ope :: p\\u0259n\", \"like :: \\u0259n#\", \"ater :: w\\u0254t\\u025d\", \"lade :: \\u026be\\u026ad\", \"#samp :: #s\\u00e6m\", \"nterl :: t\\u025d\\u026b\", \"birds :: dz#\", \"sser :: \\u025dt#\", \"ture :: \\u025dz#\", \"#fore :: f\\u0254\\u0279\", \"ine' :: \\u026anz#\", \"ing# :: \\u026at\\u026a\\u014b\", \"colou :: k\\u0259\\u026b\\u025d\", \"ised :: a\\u026azd\", \"sner :: n\\u025d#\", \"ows# :: o\\u028az\", \"#con :: t\\u0259d\", \"#cle :: k\\u026bin\", \"ors# :: \\u026b\\u025dz\", \"#fran :: f\\u0279\\u00e6n\", \"#lie :: #\\u026bi\", \"ande :: \\u00e6nd\", \"sewa :: we\\u026a\", \"schw :: w\\u0254\\u0279t\", \"rts# :: \\u0279ts\", \"disc :: d\\u026as\", \"ized# :: na\\u026az\", \"#west :: #w\\u025bs\", \"line :: \\u026anz\", \"iren :: #a\\u026a\\u0279\", \"avin :: \\u026av\\u026a\", \"ain# :: e\\u026an\", \"terac :: \\u026an\\u025d\", \"#lan :: #\\u026b\\u00e6n\", \"#coll :: #k\\u0251\", \"hiro :: \\u0283\\u026a\\u0279\", \"sman :: sm\\u0259n\", \"#min :: m\\u026ant\", \"anda :: \\u00e6nd\\u0259\", \"#brea :: \\u0279\\u025bs\", \"#mid :: #m\\u026ad\", \"shir :: #\\u0283\\u026a\\u0279\", \"etter :: \\u025bt\\u025d\", \"ify# :: a\\u026a#\", \"#appr :: #\\u0259p\", \"mir# :: \\u026a\\u0279#\", \"astro :: \\u00e6st\\u0279\", \"egle :: \\u025b\\u0261\\u026b\", \"eyer :: a\\u026a\\u025d\", \"losk :: ki#\", \"yist :: \\u026ast\", \"rista :: b\\u0251\\u0279i\", \"tte# :: \\u025d\\u025bt#\", \"rman# :: \\u0279m\\u0259\", \"undi :: \\u026a\\u014b#\", \"bing# :: b\\u026a\\u014b#\", \"ved# :: uvd#\", \"rund :: \\u0279\\u0259n\", \"ted# :: #d\\u026a\", \"anto :: \\u00e6nt\", \"#con :: n\\u0259\\u026b\", \"ised :: m\\u0259s\", \"#flau :: \\u026b\\u0254n\", \"#mil :: #m\\u026a\", \"asew :: #\\u026bi\", \"#kas :: #k\\u00e6s\", \"home :: \\u025dz#\", \"idma :: m\\u0259n#\", \"#wea :: #w\\u025b\", \"ails :: e\\u026a\\u026b\", \"water :: w\\u0254t\", \"cket :: #p\\u026a\", \"chwa :: \\u0254\\u0279t\", \"siti :: \\u026a\\u0283\\u0259n\", \"fect :: f\\u025bk\", \"ders# :: d\\u025dz#\", \"tting :: t\\u026a\\u014b\", \"#hard :: h\\u0251\\u0279\", \"tkins :: k\\u0259n\", \"lemm :: \\u026b\\u025bm\", \"#gra :: #\\u0261\\u0279\\u00e6\", \"rsen# :: s\\u0259n#\", \"lowe :: \\u028a\\u025di\", \"sner# :: n\\u025d#\", \"art# :: \\u0251\\u0279t#\", \"icket :: p\\u026ak\", \"zyns :: \\u026ansk\", \"vorh :: #v\\u0254\", \"ckel :: \\u026ak\\u0259\\u026b\", \"#dim :: \\u026amit\", \"ener :: sin\\u025d\", \"sthe :: #p\\u0279\", \"#sud :: sud\", \"#und :: \\u0279d#\", \"#refl :: #\\u0279\\u026a\", \"sant :: #s\\u00e6\", \"jour :: d\\u0292\\u025dn\", \"yton' :: t\\u0259n\", \"#che :: #t\\u0283\\u025b\", \"inter :: t\\u026a\\u014b\", \"#hew :: #hju\", \"schma :: \\u0283m\\u0259\", \"elley :: \\u025b\\u026bi\", \"supp :: s\\u0259p\", \"sions :: \\u0259nz\", \"#cha :: t\\u0283e\\u026a\", \"ives# :: \\u026avz\", \"ial# :: \\u0254\\u0279i\", \"liken :: \\u026ak\\u0259\", \"witt# :: u\\u026at#\", \"#lund :: \\u0259nd\", \"#comp :: \\u0259mp\\u025b\", \"man# :: \\u0279im\", \"ilin :: a\\u026a\\u026b\", \"sylva :: \\u026a\\u026bv\\u0259\", \"nito# :: nito\", \"n's# :: \\u00e6nz\", \"oden# :: \\u028ad\\u0259\", \"rant :: f\\u0279\\u00e6n\", \"water :: \\u0254t\\u025d#\", \"fresh :: f\\u0279\\u025b\", \"linc :: #k\\u026b\", \"inte :: p\\u0254\\u026a\", \"#bal :: \\u026b\\u0259k\", \"vin# :: v\\u026an#\", \"ion# :: k\\u0283\\u0259\", \"ener# :: n\\u025d#\", \"wery# :: \\u026ba\\u028a\", \"ield :: \\u026bdz\", \"nstei :: nst\", \"dist :: #d\\u026as\", \"stre :: #st\", \"ation :: \\u026a\\u0283\\u0259n\", \"caro# :: \\u0251\\u0279o\\u028a\", \"lla# :: d\\u025b\\u026b\", \"idler :: d\\u026b\\u025d\", \"ing' :: \\u026a\\u014bz#\", \"bayl :: e\\u026a\\u026b\", \"kman# :: km\\u0259n\", \"tars :: \\u0251\\u0279s\", \"#slig :: #s\\u026b\", \"sewa :: swe\", \"#schw :: \\u025dt#\", \"gton# :: t\\u0259n\", \"#bla :: \\u026be\\u026ak\", \"nger :: \\u025dz#\", \"nook# :: \\u028ak#\", \"#wal :: \\u0254\\u026bd\", \"wski# :: ki#\", \"mmond :: \\u0259m\\u0259n\", \"#mala :: \\u0259\\u026be\\u026a\", \"#cod :: #ko\", \"llon# :: \\u0259n#\", \"ston# :: t\\u0259n#\", \"plane :: p\\u026be\\u026a\", \"#stro :: #st\", \"colo :: k\\u0259\\u026b\", \"#lea :: swe\", \"#ret :: \\u0279it\", \"#clam :: k\\u026b\\u00e6m\", \"ngel :: \\u026a\\u014b\\u0261\", \"#hitc :: #h\\u026a\", \"alls :: \\u026bz#\", \"bury# :: \\u0279i#\", \"meyer :: ma\\u026a\\u025d\", \"#day :: e\\u026at\\u0259\", \"huma :: um\\u0259\", \"alert :: #\\u0259\\u026b\", \"lity# :: \\u026b\\u0259t\", \"lude :: \\u0259\\u026bu\", \"liet :: v\\u026bi\", \"svill :: \\u026a\\u026b#\", \"grun :: \\u0261\\u0279\\u0259\", \"toura :: \\u025d\\u0251\\u0292\", \"nier# :: ni\\u025d#\", \"denbu :: b\\u025d\\u0261#\", \"ing# :: st\\u0279\", \"elan :: \\u026b\\u0259n\", \"#noti :: o\\u028at\", \"#whit :: #hw\\u026a\", \"illa :: \\u026a\\u026b\\u0259#\", \"nski# :: nsk\", \"aded :: d\\u026ad#\", \"ston# :: \\u025bst\", \"iole :: o\\u028a\\u026b\", \"lenbe :: \\u0259nb\\u025d\", \"#pink :: \\u026a\\u014bks\", \"grun :: #\\u0261\\u0279\", \"alin :: \\u026bin\", \"amad :: \\u0251m\\u0251d\", \"ided :: d\\u026ad#\", \"mote :: mo\\u028at\", \"on's :: \\u0279\\u0251n\", \"oria :: \\u0259\\u026b#\", \"nste :: ta\\u026an\", \"ay's :: we\\u026a\", \"boro :: \\u025do\\u028a#\", \"okies :: \\u028akiz\", \"ing# :: \\u0259\\u026b\\u026a\", \"ella# :: \\u025b\\u026b\\u0259\", \"allin :: \\u026b\\u026a\\u014b\", \"lski# :: ski#\", \"g's# :: b\\u025d\\u0261z\", \"iff# :: \\u026af#\", \"#fran :: f\\u0279\\u00e6\\u014b\", \"#dya :: #da\\u026a\", \"uld# :: \\u028a\\u026bd\", \"#nee :: nid\", \"#mend :: \\u025bnd\", \"#dem :: d\\u025bm\", \"rmans :: m\\u0259n\", \"ron's :: \\u0279\\u0251nz\", \"tting :: \\u025bt\\u026a\", \"#bis :: #b\\u026as\", \"ook# :: n\\u028ak#\", \"hal# :: n\\u03b8\\u0259\\u026b\", \"isle :: \\u026as\\u0259\\u026b\", \"home :: o\\u028an\", \"#nee :: id\\u0259\", \"#tra :: t\\u0279\\u00e6\", \"ski# :: \\u0283\\u026ans\", \"open :: #o\\u028a\", \"#mala :: m\\u0259\\u026be\", \"scrap :: k\\u0279e\\u026a\", \"adop :: #\\u0259d\", \"eria :: \\u026a\\u0279i\\u0259\", \"ghli :: ha\\u026a\\u026b\", \"dlin :: \\u026a\\u014b#\", \"franc :: \\u00e6\\u014bk\", \"bert# :: b\\u025dt\", \"hase :: e\\u026as\", \"#libe :: #\\u026b\\u026ab\", \"allo :: \\u00e6\\u026b\\u0259n\", \"#pink :: #p\\u026a\\u014b\", \"tect :: t\\u025bk\", \"#hig :: a\\u026at\", \"chan :: \\u026bi#\", \"ring :: \\u0279\\u026a\\u014b\", \"ght# :: \\u026ba\\u026at\", \"rman :: \\u025dm\\u0259n\", \"llard :: \\u026b\\u025dd\", \"iste :: \\u026ast\\u025d\", \"ligh :: a\\u026at#\", \"lati :: \\u026a\\u0283\\u0259\", \"ert# :: \\u025dt#\", \"tle# :: t\\u0259\\u026b#\", \"ling :: \\u025d\\u026b\\u026a\\u014b\", \"over :: o\\u028av\\u025d\", \"whitt :: #hw\\u026a\", \"eidle :: \\u026b\\u025d#\", \"ens# :: \\u0259nz#\", \"#pep :: #p\\u025bp\", \"cian :: \\u0259n#\", \"#fra :: \\u0279\\u00e6nt\", \"avan :: k\\u00e6v\", \"#ven :: #v\\u025bn\", \"irene :: \\u026a\\u0279i\", \"lare :: \\u026ak\\u026b\", \"augh :: t\\u025d#\", \"#carl :: k\\u0251\\u0279\", \"ater :: t\\u025dz\", \"terac :: n\\u025d\\u00e6k\", \"ttler :: \\u026at\\u026b\", \"iken :: k\\u0259n#\", \"telle :: t\\u025b\\u026b#\", \"#jac :: d\\u0292\\u00e6\", \"rese :: #\\u0279\\u025b\", \"#farm :: #f\\u0251\", \"eman# :: im\\u0259\", \"lant :: \\u026b\\u0251n\", \"emot :: d\\u026am\", \"dlema :: d\\u0259\\u026bm\", \"elin :: \\u026bini\", \"#car :: \\u0251\\u0279d\", \"orn# :: \\u025dn#\", \"da's :: \\u0259z#\", \"#uni :: jun\", \"#zie :: #zi\", \"petr :: #p\\u025b\", \"#ava :: #\\u00e6v\\u0259\", \"disc :: #d\\u026as\", \"ecti :: \\u025bkt\", \"epti :: \\u026ak#\", \"ram# :: \\u0261\\u0279\\u00e6\", \"rier :: \\u0279i\\u025d#\", \"lets :: \\u0259ts\", \"denb :: d\\u0259nb\", \"#uni :: #jun\", \"den# :: o\\u028ad\", \"roy# :: \\u0254\\u026a#\", \"ist# :: kw\\u026as\", \"ocke :: #\\u0279\\u0251k\", \"#zerb :: #z\\u026a\\u0279\", \"herr :: h\\u025b\\u0279\", \"ddle# :: d\\u0259\\u026b\", \"bluf :: b\\u026b\\u0259\", \"#left :: \\u026b\\u025bf\", \"lity :: \\u0259ti\", \"meown :: \\u028an\\u025dz\", \"dding :: \\u026a\\u014bz#\", \"#pol :: po\\u028a\\u026b\", \"clayb :: k\\u026be\", \"trous :: \\u0279a\\u028a\", \"#kos :: o\\u028as\", \"hama :: #h\\u0251\", \"#pic :: p\\u026ak\\u026a\", \"rost :: #p\\u0279\", \"rumm :: \\u0259m\\u0259\", \"dia's :: di\\u0259\", \"hal# :: n\\u03b8\\u0259\\u026b\", \"chwe :: \\u0283w\\u025d\", \"adia :: di\\u0259\", \"porti :: p\\u0254\\u0279t\", \"kell :: \\u026ak\\u0259\", \"shir :: \\u025dts#\", \"hein :: a\\u026an\\u0259\", \"chwar :: #\\u0283w\", \"appr :: #\\u0259p\", \"#col :: \\u026b\\u025dd\", \"clayb :: e\\u026ab\", \"ont# :: nt#\", \"nnes :: n\\u026as\", \"ption :: p\\u0283\\u0259\", \"anch :: \\u00e6nt\", \"bris :: \\u0279\\u026as\", \"hler :: \\u0283\\u026b\\u025d\", \"side# :: sa\\u026ad\", \"ment# :: m\\u0259nt\", \"ction :: \\u0283\\u0259n#\", \"tanc :: ns#\", \"stin :: tin#\", \"#sta :: st\\u0251\\u0279\", \"rlin :: \\u026a\\u014bz\", \"#del :: ni#\", \"akers :: k\\u025dz\", \"beach :: bit\\u0283\", \"#mun :: #m\\u0259\", \"heue :: \\u025dm\\u0259\", \"#bot :: #b\\u0251\", \"#bore :: #b\\u0254\\u0279\", \"#con :: k\\u0259n\", \"#sch :: \\u0254\\u026a\\u025d\", \"ify# :: fa\\u026a\", \"#emmi :: #\\u025bm\", \"owsk :: \\u0254fsk\", \"unea :: \\u0259n\\u025d\", \"rill :: \\u0279\\u026a\\u026b\", \"ked# :: \\u00e6kt\", \"ooper :: #ku\", \"#ort :: \\u0254\\u0279\\u03b8\", \"ther :: f\\u0251\\u00f0\\u025d\", \"#bari :: \\u0279is\", \"tman# :: tm\\u0259\", \"#sedu :: s\\u026adu\", \"ingh :: \\u00e6m#\", \"mmon :: \\u0279\\u0259m\", \"olour :: \\u0259\\u026b\\u025d\", \"sner :: sn\\u025d#\", \"ndal :: \\u00e6nd\", \"#fis :: f\\u026a\\u0283\", \"sett# :: s\\u026at\", \"fran :: f\\u0279\\u00e6\", \"enson :: ns\\u0259\", \"ras# :: \\u0279\\u0259z\", \"nduc :: nd\\u0259\", \"owner :: #ho\", \"nburg :: b\\u025d\\u0261#\", \"mory# :: m\\u025di#\", \"reas :: \\u0279\\u025bst\", \"#sti :: sta\", \"sman# :: \\u0251sm\\u0259\", \"milli :: \\u026a\\u026bi\", \"ositi :: p\\u0259z\\u026a\", \"endo :: \\u025bnd\", \"sley# :: \\u026bi#\", \"king :: \\u026a\\u014b#\", \"nal# :: \\u0259\\u026b#\", \"uest :: kw\\u025bs\", \"anci :: t\\u0283in\", \"#bou :: bo\\u028a\", \"perm :: p\\u025dm\", \"lva# :: \\u026bv\\u0259#\", \"ayne :: \\u026an#\", \"ture :: t\\u0283\\u025dz\", \"gerri :: d\\u0292\\u025b\", \"#wes :: \\u025bst\", \"#syl :: #s\\u026a\", \"anti :: t\\u026a\\u014b\", \"ives :: a\\u026avz\", \"ollar :: \\u0251\\u026b\\u025d\", \"eptic :: pt\\u026ak\", \"ches :: \\u026az#\", \"nte# :: \\u0251nti\", \"#whit :: \\u026a\\u014b#\", \"nder :: nd\\u025dz\", \"line# :: ini#\", \"ancou :: \\u026b\\u0259nk\", \"file :: #fa\\u026a\", \"human :: nhj\", \"and# :: t\\u0279\\u0259\", \"odny :: dni#\", \"owsk :: ski\", \"infie :: fi\\u026b\", \"fman :: m\\u0259n\", \"bera :: b\\u025d\\u0251\", \"table :: \\u0259b\\u0259\", \"ium# :: i\\u0259m#\", \"ical :: k\\u0259\\u026b\", \"ches# :: \\u026az#\", \"ndig :: \\u026and\", \"lity :: \\u0259ti\", \"ansbu :: sb\\u025b\\u0279\", \"brot :: #b\\u0279\", \"ecla :: \\u026ak\\u026b\\u025b\", \"lors :: \\u026b\\u025dz\", \"barr :: b\\u0251\\u0279\", \"tic# :: nt\\u026a\", \"ruste :: #t\\u0279\", \"ctor# :: kt\\u025d\", \"#rak :: #\\u0279e\", \"man# :: \\u026bm\\u0259n\", \"#kel :: k\\u025b\\u026b\", \"iano :: \\u0251no\\u028a\", \"rake :: e\\u026ak\", \"#stan :: #st\", \"llude :: \\u026bud\", \"inte :: \\u00e6kt\", \"kins :: tk\\u0259n\", \"elte :: \\u026bt\\u025d#\", \"eltz# :: \\u025b\\u026bt\", \"baug :: b\\u0254#\", \"scot :: sk\\u0251\", \"conti :: #k\\u0251\", \"nted# :: t\\u026ad#\", \"eter# :: \\u0259t\\u025d\", \"lson' :: s\\u0259n\", \"home :: o\\u028amo\", \"aint :: e\\u026an\", \"#sant :: #s\\u00e6n\", \"#cha :: t\\u0283e\\u026a\", \"oria :: \\u0259\\u026b#\", \"lare :: k\\u026b\\u025b\", \"adopt :: \\u0259d\\u0251p\", \"appro :: p\\u0279uv\", \"demot :: \\u026amo\", \"#over :: #o\\u028av\", \"gan# :: \\u0261\\u0259n\", \"bino# :: no\\u028a\", \"rock :: #\\u0279\\u0251\", \"der# :: o\\u028a\\u026b\", \"cann :: #k\\u00e6n\", \"son# :: \\u026a\\u026bs\\u0259\", \"eper :: \\u025dz#\", \"#ful :: f\\u028a\\u026b\", \"cally :: \\u026bi#\", \"tract :: \\u0279\\u00e6k\", \"ia's :: i\\u0259z#\", \"#hyp :: #ha\\u026a\", \"ngha :: h\\u00e6m#\", \"omeo :: o\\u028an\\u025d\", \"arded :: \\u0251\\u0279d\\u026a\", \"shado :: #f\\u0254\", \"itic :: t\\u026ak#\", \"#grun :: \\u0279\\u0259n\", \"membe :: mb\\u025d\", \"brai :: b\\u0279e\", \"nella :: n\\u025b\\u026b\\u0259\", \"itte :: \\u0259n#\", \"ngton :: \\u026a\\u014bt\", \"theo :: #\\u03b8i\", \"yton :: #de\", \"#drew :: d\\u0279u\", \"#orc :: \\u0279k\\u0259\", \"houg :: #ha\\u028a\", \"#ban :: b\\u00e6nk\", \"ale's :: \\u026bz#\", \"orber :: \\u0254\\u0279b\", \"kies# :: \\u028akiz\", \"rtly# :: \\u026bi#\", \"gham# :: \\u014bh\\u00e6\", \"#the :: #\\u00f0\\u025b\", \"#has :: h\\u00e6s\", \"davy :: de\\u026a\", \"alays :: m\\u0259\\u026b\", \"crow :: k\\u0279o\", \"elte :: \\u025b\\u026bt\", \"ler# :: \\u026at\\u026b\\u025d\", \"ties :: iz#\", \"pes# :: e\\u026ap\", \"#con :: \\u0259nf\", \"ling# :: \\u0259\\u026b\\u026a\\u014b\", \"#fran :: #f\\u0279\", \"king# :: \\u026a\\u014b#\", \"tion :: \\u0259z\\u026a\\u0283\", \"#vor :: iz#\", \"illm :: \\u026a\\u026bm\", \"ards :: \\u0279dz\", \"land :: ndz\", \"avel :: v\\u025b\\u026b\", \"sylv :: s\\u026a\\u026b\", \"#ker :: #k\\u025b\\u0279\", \"rin# :: \\u025d\\u026an#\", \"iberi :: b\\u026a\\u0279i\", \"hing :: \\u0283\\u026a\\u014b\", \"tial# :: \\u0283\\u0259\\u026b#\", \"hed# :: \\u026a\\u0283t\", \"yer# :: \\u026a\\u025d#\", \"eepe :: p\\u025dz\", \"e's# :: \\u026bz#\", \"unbu :: #\\u0259nb\", \"trand :: t\\u0279\\u0259\", \"lude :: ud#\", \"#medi :: \\u025bd\\u0259\", \"#rock :: #\\u0279\\u0251k\", \"per# :: \\u00e6p\\u025d\", \"#bron :: #b\\u0279\", \"strou :: t\\u0279\\u0259s\", \"ling# :: #sw\", \"#ass :: #\\u0259s\", \"ulli :: \\u026bi#\", \"avoid :: \\u0254\\u026ad\", \"ticia :: t\\u026a\\u0283\", \"hiro# :: o\\u028a#\", \"clos :: \\u0254ski\", \"ised :: \\u026azd#\", \"ald# :: w\\u0254\\u026b\", \"hark :: h\\u0251\\u0279\", \"ess# :: n\\u026as\", \"unit :: n\\u026at\", \"trou :: \\u0279\\u0259s\", \"#flor :: f\\u026b\\u0254\\u0279\", \"nell :: \\u0251n\\u0259\", \"#che :: k\\u025bm\", \"#bol :: bo\\u028a\", \"gren :: #\\u0261\\u0279\", \"pres :: #p\\u0279\\u025b\", \"#fib :: #fa\\u026a\", \"lick# :: \\u026b\\u026ak#\", \"thori :: \\u03b8\\u025da\\u026a\", \"appr :: p\\u0279u\", \"ling :: \\u026b\\u026a\\u014b\", \"gate :: e\\u026at\", \"cros :: k\\u0279\\u0254s\", \"illa :: #v\\u026a\\u026b\", \"ding# :: \\u025bnd\", \"tion# :: e\\u026a\\u0283\\u0259\", \"ange :: nd\\u0292\", \"ford :: \\u00e6nd\", \"file :: #fa\\u026a\", \"n's# :: \\u0251nz#\", \"cart :: k\\u0251\\u0279\", \"arlin :: \\u026a\\u014bz\", \"#cli :: k\\u026b\\u026an\", \"anci :: nt\\u0283\", \"ollar :: #k\\u0251\\u026b\", \"arro :: o\\u028a#\", \"ight :: #s\\u026ba\", \"comp :: mp\\u025b\", \"cava :: \\u00e6v\\u0259n\", \"drew :: #d\\u0279u\", \"#safe :: se\\u026af\", \"ield :: i\\u026bd#\", \"#rock :: #\\u0279\\u0251\", \"efle :: \\u026af\\u026b\\u025b\", \"quis :: w\\u026as\", \"unear :: \\u0259n\\u025d\", \"otte :: \\u0251t\\u025d#\", \"drum :: d\\u0279\\u0259\", \"norbe :: \\u0254\\u0279b\", \"le's :: \\u026bz#\", \"meow :: #ho\\u028a\", \"#int :: #\\u026an\\u025d\", \"cate :: \\u026ats\", \"alays :: \\u026a\\u0292\\u0259\", \"ches# :: \\u026az#\", \"lity# :: \\u0259ti#\", \"#holi :: #h\\u0251\\u026b\", \"#free :: im\\u0259n\", \"rson# :: \\u025ds\\u0259n\", \"meen :: min\", \"ertz# :: \\u025dts#\", \"#fed :: #f\\u025bd\", \"#els :: #\\u025b\\u026b\", \"fores :: \\u00e6do\\u028a\", \"#mcg :: #m\\u0259\\u0261\", \"tter :: \\u0251t\\u025d\", \"es'# :: st\\u026a\", \"pinks :: \\u026a\\u014bks\", \"lson :: nz#\", \"ski# :: \\u0279sk\", \"#foun :: a\\u028and\", \"eport :: \\u0254\\u0279t\\u026a\", \"dric :: d\\u0279\\u026a\", \"scrap :: sk\\u0279\", \"ent# :: m\\u0259n\", \"#sav :: #s\\u00e6v\", \"itera :: \\u026at\\u025d\", \"ates# :: \\u026ats\", \"eed# :: wid#\", \"dlema :: \\u0259n#\", \"gall :: #\\u0261\\u00e6\\u026b\", \"ness :: n\\u026as\", \"ser# :: o\\u028az\", \"#ther :: #\\u00f0\\u025b\", \"thel :: \\u03b8\\u0259\\u026b\", \"ack# :: \\u00e6k#\", \"#pape :: #pe\\u026a\", \"stud :: st\\u0259d\", \"shir :: \\u026a\\u0279o\", \"ide# :: \\u026ad#\", \"colla :: #k\\u0251\", \"xon# :: \\u00e6ks\", \"quez :: kw\\u025bz\", \"stor :: st\\u0254\\u0279\", \"aini :: n\\u026a\\u014b#\", \"brook :: \\u028aks\", \"led# :: \\u0259\\u026bd\", \"ness :: n\\u0259s#\", \"arte :: \\u0279t\\u0259\", \"cours :: \\u0279s\\u0259\", \"clayb :: #k\\u026be\", \"sen# :: \\u026bs\\u0259n\", \"catch :: k\\u00e6t\\u0283\", \"ess# :: tn\\u0259\", \"elle :: \\u025b\\u026b\\u025d\", \"conf :: #k\\u0259\", \"tabl :: \\u0259\\u026b#\", \"ition :: \\u0283\\u0259n#\", \"ordi :: \\u0254\\u0279d\\u026a\", \"kies# :: \\u028aki\", \"ghts# :: \\u026ba\\u026at\", \"ane# :: \\u026be\\u026an\", \"vest :: v\\u025bs\", \"#schw :: \\u0254\\u0279ts\", \"shir :: \\u025b\\u026b#\", \"tors :: t\\u025dz\", \"ccor :: \\u0259k\\u0254\", \"elson :: \\u0259n#\", \"perso :: #p\\u025d\", \"sed# :: \\u026azd\", \"fter :: \\u00e6ft\\u025d\", \"#ven :: #v\\u025b\", \"erin :: \\u025d\\u026a\\u014b\", \"oring :: \\u0254\\u0279\\u026a\\u014b\", \"ing# :: #hw\", \"#lar :: \\u0251\\u0279i\", \"verit :: v\\u025b\\u0279\", \"lward :: \\u026a\\u026bw\", \"#home :: mo\\u028a\", \"anch :: nt\\u0283\", \"pper :: \\u00e6p\\u025d\", \"ckert :: \\u025dt#\", \"burg' :: b\\u025d\\u0261z\", \"cally :: \\u026ak\\u026b\", \"nell :: n\\u025b\\u026b\", \"#cra :: #k\\u0279\", \"over# :: v\\u025d#\", \"pple :: \\u0259\\u026b#\", \"#dis :: #d\\u026a\", \"hers :: \\u0259n#\", \"sman :: m\\u0259n\", \"#rei :: #\\u0279a\", \"est# :: \\u0259st#\", \"meow :: n\\u025dz\", \"sylv :: \\u026a\\u026bv\", \"est# :: \\u0259st\", \"nbur :: \\u025d\\u0261#\", \"#nove :: #no\\u028a\", \"odny# :: \\u0251dn\", \"#bris :: b\\u0279\\u026a\", \"tellu :: #t\\u025b\\u026b\", \"rance :: \\u0279\\u0259n\", \"rill :: \\u026a\\u026bi\", \"rity# :: \\u0279\\u0259ti\", \"mcclo :: ski\", \"ing# :: e\\u026an\", \"ing# :: #t\\u0279\", \"#fre :: f\\u0279\\u025b\", \"ace# :: \\u0251t\\u0283\", \"heuer :: \\u0254\\u026a\\u025d\", \"ited :: t\\u026ad\", \"#gro :: #\\u0261\\u0279o\", \"#poet :: o\\u028a\\u0259\", \"#need :: nid\", \"rcept :: s\\u025bpt\", \"sen# :: s\\u0259n#\", \"le's :: \\u026bz#\", \"sylva :: #s\\u026a\", \"#beac :: it\\u0283\", \"llon# :: \\u026b\\u0259n#\", \"oltz :: \\u028a\\u026bts\", \"#wit :: w\\u026at\", \"#sam :: \\u025dz#\", \"rel# :: \\u0279\\u0259\\u026b\", \"#ger :: d\\u0292\\u025b\\u0279\", \"irel :: \\u026a\\u0279\\u025b\", \"tract :: \\u0279\\u00e6k\", \"#con :: #k\\u0259\", \"#int :: n\\u025ds\", \"#merr :: #m\\u025b\", \"tream :: t\\u0279im\", \"ssert :: \\u0259s\\u025d\", \"nkst :: \\u014bks\", \"#hyp :: #ha\\u026a\", \"vill :: v\\u026a\\u026b#\", \"ing# :: t\\u0283\\u026a\", \"tness :: n\\u0259s\", \"ofit# :: f\\u026at#\", \"#clas :: k\\u026b\\u00e6s\", \"ltz# :: \\u026bts\", \"elbe :: \\u026bb\\u025d\\u0261\", \"stre :: st\\u0279\", \"berr :: b\\u025b\\u0279i\", \"elan :: \\u026b\\u0259nd\", \"tter :: #b\\u0259t\", \"osman :: \\u0251sm\", \"human :: nhju\", \"plane :: \\u026be\\u026an\", \"des# :: \\u026adz\", \"#res :: a\\u026ad\", \"ining :: e\\u026an\\u026a\", \"#dil :: d\\u026a\\u026b\\u0259\", \"closk :: ki#\", \"#boul :: bo\\u028a\\u026b\", \"nding :: \\u028and\", \"#abst :: \\u00e6bs\", \"ison :: \\u026as\\u0259n\", \"osky :: ki#\", \"lack :: #b\\u026b\\u00e6\", \"lake :: \\u026ak#\", \"gins :: \\u0261\\u026anz\", \"#res :: #\\u0279i\", \"essle :: \\u026b\\u025d#\", \"caro# :: \\u0279o\\u028a\", \"ate# :: e\\u026at\", \"nterl :: #\\u026an\", \"#will :: #w\\u026a\", \"henn :: #h\\u025bn\", \"#bay :: #be\\u026a\", \"siti :: p\\u0259z\\u026a\", \"lanc :: \\u0259nk\", \"locat :: \\u026b\\u0259ke\", \"loca :: ke\\u026at\", \"inkst :: \\u026a\\u014bk\", \"#men :: \\u025bnd\", \"ouche :: t\\u0283\\u025d#\", \"rock :: \\u0279\\u0259k\", \"ter' :: \\u025dz#\", \"ing# :: #k\\u0259\", \"mann :: \\u0259n#\", \"eali :: #\\u0279i\", \"kers# :: \\u025dz#\", \"tine :: \\u0259nt\", \"lmeye :: ma\\u026a\\u025d\", \"yan# :: \\u0259n#\", \"#bris :: #b\\u0279\\u026a\", \"irds# :: dz#\", \"#nov :: #no\", \"elli :: \\u0254\\u0279t\", \"hire :: \\u0283\\u026a\\u0279\", \"resh :: \\u0283\\u00e6d\", \"oint# :: \\u026ant#\", \"ruise :: \\u0279uz\", \"sing :: \\u026a\\u014b#\", \"elin :: ini#\", \"#fuji :: fud\", \"nduc :: d\\u0259k\", \"ires# :: a\\u026a\\u0279z\", \"a's# :: t\\u0259z#\", \"epai :: \\u0279ip\", \"rley# :: \\u026bi#\", \"achin :: \\u0283\\u026a\\u014b\", \"bly# :: \\u0259b\\u026bi\", \"mote :: mo\\u028a\", \"ions :: \\u0259nz#\", \"nnes :: \\u0259s#\", \"#ven :: #v\\u025b\", \"ened :: nd#\", \"ars# :: \\u0251\\u0279z\", \"lberg :: \\u026bb\\u025d\\u0261\", \"rock :: \\u0279\\u0259k#\", \"#goo :: #\\u0261\\u028ad\", \"#can :: o\\u028a#\", \"irel :: \\u026a\\u0279\\u025b\", \"#tour :: t\\u028a\\u0279\", \"son# :: t\\u025ds\", \"bacha :: #b\\u00e6\", \"#cow :: ka\\u028a\", \"eown :: ho\\u028a\", \"rner :: \\u0254\\u0279n\\u025d\", \"hwarz :: #\\u0283w\", \"ortin :: \\u0279t\\u026a\", \"illin :: \\u026b\\u026a\\u014b\", \"land# :: \\u0259nd\", \"ling# :: \\u026a\\u026b\\u026a\\u014b\", \"ive# :: t\\u026av\", \"ide# :: sa\\u026a\", \"refle :: #\\u0279\\u026af\", \"nsbu :: \\u00e6nsb\", \"#car :: #k\\u0251\"], \"Freq\": [3.0, 3.0, 4.0, 3.0, 3.0, 2.0, 3.0, 2.0, 3.0, 3.0, 3.0, 2.0, 3.0, 2.0, 3.0, 3.0, 2.0, 2.0, 3.0, 3.0, 3.0, 3.0, 3.0, 3.0, 3.0, 2.0, 2.0, 3.0, 2.0, 3.0, 0.7895159453195393, 0.7514466090263896, 0.5619784890000531, 0.6558578586535337, 0.5670628800598142, 0.5218139420547465, 0.6029146965743355, 0.6816027837561108, 0.5919838561623314, 0.4770695170039713, 0.49894055360383177, 0.4821448495193055, 0.528667059517489, 0.6657506680184269, 0.5341651937287362, 0.4572043533791445, 0.4445532685597078, 0.4783037536490582, 0.46444281780202284, 0.42480847056385646, 0.4951212852599228, 0.5333234674805738, 0.537196092819358, 0.394040735801806, 0.5895777540019767, 0.372260398554504, 0.5452023317324276, 0.5126519623175693, 0.5127855171390973, 0.39743216651604035, 0.4603332026795336, 0.4535234147007088, 0.5211414819194913, 0.5092077815081322, 0.5963461487933654, 0.4844949970349466, 0.513483984869686, 0.5072857609211712, 0.49862908474009343, 0.509157561845093, 0.502539499325297, 0.5038183708524203, 0.4992135354733955, 0.4981040592752408, 0.4984418770330222, 0.7114918434957026, 0.5882301341143198, 0.7047140100660366, 0.8037402204219937, 0.560787108317265, 0.5079239044025367, 0.6122245772749759, 0.5812491817579949, 0.7257994690801686, 0.5313632136713996, 0.7117234148981992, 0.5867757935481895, 0.5301490320689639, 0.5837358780376533, 0.4757414836517529, 0.6144671373925592, 0.5514304616834158, 0.594629121470212, 0.4990140623275311, 0.654598743644117, 0.6236781393832419, 0.46596450624270264, 0.5177103556591578, 0.5246172122124231, 0.40924284552751417, 0.4535425353465812, 0.4813971290510584, 0.5404189071570447, 0.40394655734549084, 0.4964794917996504, 0.5555953682673623, 0.5475816460968619, 0.6219587143699171, 0.6262372423684435, 0.567948772879736, 0.5781705627736187, 0.5488537845525291, 0.5654816342780924, 0.5746962445187181, 0.5387722308331759, 0.5354420390468484, 0.6007861362235647, 0.5604702075461788, 0.40026091321667323, 0.48796043532191513, 0.4096708754620769, 0.37240173032133794, 0.37791967300162277, 0.35925358060315543, 0.30367219124235495, 0.3354965570234091, 0.3950238421991957, 0.3697904661950004, 0.3808723439723071, 0.4128921066241521, 0.38045490519097985, 0.3735886696125817, 0.3134235581137781, 0.32621230340597057, 0.38668274671890557, 0.32910702715561946, 0.3258148287691264, 0.327269135218017, 0.39574729291041455, 0.3372415183515763, 0.2996500981897386, 0.2683961389358531, 0.2975427463058777, 0.30301023316589426, 0.2619367092617666, 0.33636143493214876, 0.28390867011277854, 0.3127350094558266, 0.34949089855176213, 0.35091302812474834, 0.39252732080178393, 0.384396198171879, 0.4296772716080844, 0.3923059514622339, 0.3774826565740096, 0.35284622307376606, 0.3570523217565231, 0.3687945055407663, 0.34535973964259287, 0.34024967828606373, 0.3388657516988727, 0.6030684762869929, 0.4707710428017407, 0.5232883157225138, 0.5422715152625756, 0.5133749251952033, 0.4809019335331914, 0.4361907543370583, 0.38604122184597955, 0.4624854331072691, 0.47581697401205697, 0.4920908190876437, 0.3366596177665601, 0.5637630048937416, 0.38929307350363324, 0.40592627711483104, 0.5262033993867621, 0.4487326726279108, 0.4160501857827763, 0.4810896694011202, 0.38907617617015183, 0.45730146429734, 0.36584235432662066, 0.3537861129289571, 0.4212018166818136, 0.3667079554135569, 0.38177445757725537, 0.40965978309842926, 0.3498740467657054, 0.3372183295804151, 0.48669277368351943, 0.45483363546501415, 0.41303877439136955, 0.40948020166911486, 0.4383933272632099, 0.4071706678798937, 0.4351828889778515, 0.517754498225766, 0.4607140720499357, 0.4232390572515454, 0.4357704290299936, 0.42899813463457076, 0.41503708343766216, 0.4184645960217908, 0.6046140128639411, 0.3995306476682616, 0.4908068141156769, 0.4289194243382813, 0.43715229623630597, 0.413187421953917, 0.44730054594922763, 0.43829159147393637, 0.43024294898002163, 0.3999921472008465, 0.34512730566148986, 0.3759802877287971, 0.40482648894047474, 0.4079297153727975, 0.4310586095514177, 0.4283724999800126, 0.427756716971367, 0.42636261456127594, 0.43193845811395293, 0.41865550940498236, 0.4705516793726315, 0.44368426152730167, 0.4257215044013665, 0.34040316629351225, 0.3472109000970032, 0.35652737620321157, 0.37628145017726194, 0.35722373518191286, 0.4175125379085977, 0.3210686863110444, 0.5215793141701943, 0.5358005870555078, 0.41942728571632504, 0.4242758368906166, 0.42107531281405924, 0.43313650521561026, 0.4192348095770368, 0.44675795107269345, 0.42781948374093237, 0.41756261045344967, 0.41687887228306447, 0.4099310696157407, 0.5584208050131743, 0.6443858108770931, 0.529364444728918, 0.4469542226406121, 0.4545061193849748, 0.45062210680954107, 0.4349687390184058, 0.4519270485737545, 0.3785067992467069, 0.4032434032443328, 0.48805940134662856, 0.3900308838100481, 0.42947546146273385, 0.38527597346078724, 0.431551083750232, 0.35857998667878604, 0.3781617155164133, 0.3389762197436343, 0.37425474429821, 0.3983265621358708, 0.3248746835722284, 0.3155478955944145, 0.2796573829726708, 0.38967797535715915, 0.32018456909596554, 0.3415283655371982, 0.3364014558996856, 0.32459846064432296, 0.3075881565588525, 0.3051375413636991, 0.444046234116833, 0.3430974073447257, 0.357277769626535, 0.42280240257559054, 0.4297864788964777, 0.3877724278485507, 0.3721934161287752, 0.4335797798226372, 0.36200017360390135, 0.37208400151126914, 0.421204109350293, 0.4286529869987326, 0.3926997239597191, 0.395734831640572, 0.3841294378549005, 0.38531310156682974, 0.3858808690845259, 0.4223005851118913, 0.5390456509605425, 0.3770640206290027, 0.3339139245555756, 0.45729511356842883, 0.4105427546680383, 0.32439535707458517, 0.33900481497461127, 0.4505323574450214, 0.26504339614755923, 0.37018319235503894, 0.3370544149232595, 0.35654445824511993, 0.3189691098359413, 0.30002082076195763, 0.33561344355132383, 0.23095515830312813, 0.31048594913658023, 0.2878794603280297, 0.2704073586355747, 0.39335767434714497, 0.2758502017647238, 0.2947705131982541, 0.3570675431336261, 0.33120152558405724, 0.25980846136505115, 0.31653989118536824, 0.3183240749191496, 0.356250226994555, 0.344064884267467, 0.3534171695195205, 0.36147880903882573, 0.34468196747789687, 0.32989349856872774, 0.3284286295793725, 0.36334749124043825, 0.34800587402323846, 0.328652763814177, 0.3339934496388713, 0.33635302975648346, 0.3201640118115997, 0.38700938799114487, 0.4219845007764443, 0.3886819086872478, 0.32725850697424713, 0.29750375719942135, 0.3871930774599535, 0.3414116822895116, 0.2865198840114898, 0.33738754909710433, 0.32392247142771247, 0.31438411597844723, 0.31427390912213393, 0.36528618738337415, 0.32534547855694157, 0.39372028928050334, 0.29818856575462704, 0.2901784878590543, 0.3631437555307252, 0.29533808235451214, 0.2908008390508661, 0.2758062029002023, 0.3607997870247608, 0.35704292119033154, 0.33963019056471133, 0.2414231532939198, 0.31273316996395356, 0.2751659478070156, 0.23826607615032652, 0.2808805531957529, 0.31367163649500945, 0.3299030365286021, 0.36430746451022095, 0.37537285935208226, 0.31776798028821435, 0.32881965918247724, 0.3133028078937704, 0.3182240078912945, 0.3062629665659351, 0.3074784944826217, 0.30343990209040933, 0.29982320870499013, 0.677333737262689, 0.46915437724343234, 0.43721841481293416, 0.3667391156211803, 0.40277464848859357, 0.33652021708908236, 0.43246832960923454, 0.5005143806694933, 0.39039665570603044, 0.41062576518773247, 0.360128206783584, 0.3048049423584601, 0.4458732263602327, 0.38282436424644845, 0.3761121771036165, 0.36698954408234086, 0.4116441685838092, 0.3363776418231669, 0.3930568511524333, 0.27771543939253307, 0.440668400649018, 0.32855128994934524, 0.3479399569797421, 0.3271102871446667, 0.3613354735094551, 0.3420517874486797, 0.36905907086112694, 0.34230309213070226, 0.3544104023214611, 0.3500604860398286, 0.38630453247577035, 0.35939502731207457, 0.40126533109432894, 0.370686612316429, 0.3798336406771543, 0.3717835397948132, 0.36478552523519525, 0.3724924038358101, 0.36468700720238284, 0.3595119326967679, 0.3564990539240481, 0.5001389295070723, 0.4319002719195594, 0.498863177084835, 0.39825847472763903, 0.49985949295275, 0.42558851638601886, 0.41682386463479815, 0.3131480982812578, 0.3301048355266394, 0.37188854898943463, 0.3491406035534326, 0.3024817581764764, 0.34295066269953706, 0.305009220007421, 0.2979632355532266, 0.2902133782445459, 0.30620842102552465, 0.3184512362197361, 0.30720995463178874, 0.3467490909337158, 0.31600805355904193, 0.3430412680994115, 0.2971790628967095, 0.29957670675695547, 0.3338913599710072, 0.2916473141152744, 0.29639171652001256, 0.285442378682715, 0.3817917416593613, 0.3090556696455141, 0.34112233532614655, 0.38438446776630597, 0.3115077229339494, 0.3466071900486179, 0.3320205055154408, 0.31867886703640447, 0.3435982379761446, 0.3203617372475479, 0.31094370123747905, 0.3101728018208663, 0.8214103197550041, 0.45177516329915846, 0.5175812456009732, 0.4498507906234406, 0.439540908431355, 0.6367302947202704, 0.5119824382016609, 0.45831514251047023, 0.38318440725970665, 0.6218400152622053, 0.503217588490027, 0.40918616630600185, 0.44514943461784867, 0.47278129571375593, 0.5007660785975164, 0.33599489698586366, 0.34981357802335666, 0.47667559995001835, 0.45231337442894487, 0.33032796600478626, 0.3830104255491383, 0.41098215409656075, 0.34885169421857004, 0.43681600915134583, 0.3857640827501855, 0.5667094224223049, 0.4684699744812856, 0.3916678090941733, 0.3653941251001945, 0.3661398264553055, 0.41754244270947766, 0.4479181856028358, 0.4149030441063006, 0.4119394312469029, 0.3730520337008786, 0.4132956198271962, 0.43674588512976326, 0.41860017666504834, 0.40863800370524644, 0.39645132316809245, 0.39947602572391555, 0.6044604695920308, 0.4619527334425113, 0.4772712212195772, 0.36667930890327266, 0.4860303988102802, 0.4174360262579882, 0.377377426970686, 0.4843495126310642, 0.4267065801911746, 0.6168485613101249, 0.38639096820171687, 0.47812944877800634, 0.4662341892129926, 0.3856228680573926, 0.3988229299654325, 0.38502177843510776, 0.45989711567691705, 0.3899656247702558, 0.39798895304530946, 0.3578752403147262, 0.33497301501727855, 0.3159822523951375, 0.3503339733242243, 0.28299447277944617, 0.42086813153852737, 0.35622750812858756, 0.4068132615872855, 0.3678222053673252, 0.3641530780771659, 0.2784206035588638, 0.32733533370605516, 0.36339689573396095, 0.4445267052972678, 0.4464663547411691, 0.37313050811569776, 0.39630073170586994, 0.3835291165292239, 0.36950672731866974, 0.37532423803913456, 0.37511066815804384, 0.37091004996062654, 0.8038407972628865, 0.832058131197897, 0.6100421021530574, 0.5260949711279521, 0.525091496310324, 0.5213807125423648, 0.40171291839572265, 0.39079869654319777, 0.45047068820359715, 0.5839417316550264, 0.5027114038316778, 0.589782781275653, 0.4547312182954097, 0.5062102311553501, 0.5019441069712834, 0.47296339517427616, 0.43662449241137463, 0.5245792973031734, 0.3795301942411636, 0.3685473323480469, 0.5005343251181584, 0.5004003097321932, 0.44806947991064217, 0.5155875008563858, 0.32254562913483437, 0.5211426536106661, 0.41606710774455785, 0.36511488666320596, 0.4787776460037269, 0.37835667494771685, 0.5126107439162001, 0.5277758789340037, 0.4235547964842795, 0.4510145875378234, 0.5003386175879401, 0.47578580604489623, 0.45596825048696776, 0.48033031348757793, 0.45386218531826406, 0.4605631363477351, 0.44897787450233034, 0.5201695055244643, 0.5113208053266848, 0.46538661090588607, 0.50236217174316, 0.4992072405700774, 0.4196751231756946, 0.509907013210538, 0.3163460629257, 0.3858808564848629, 0.33930416312996003, 0.3348579410123072, 0.37754331118538237, 0.2707336602600456, 0.3831915712855466, 0.4664822516909576, 0.26993549327239963, 0.39613936184091153, 0.33906852583871344, 0.3166762983199, 0.36146906820483266, 0.34226385174318075, 0.3791941138722256, 0.3434301364220599, 0.3318853796227724, 0.31063111718700676, 0.4228449842302921, 0.2483960440862857, 0.2603736734240672, 0.33187337152288554, 0.38535123263834065, 0.34339366292507767, 0.3117771508875656, 0.33393719880923906, 0.37013257782285297, 0.37607137646638583, 0.3475740585807686, 0.33316628960824535, 0.3598392331415116, 0.343230049201182, 0.33478150598692324, 0.3416449183461768, 0.3361525267605884, 0.42750652218501234, 0.40700535354069745, 0.4695005309118949, 0.3455452903392996, 0.4451120987059887, 0.35302424030314283, 0.30433742759699434, 0.295664876520804, 0.34038394221203067, 0.3275954765929708, 0.36134270011116243, 0.30820319739435365, 0.3634127813503536, 0.3291191632380855, 0.3367463506497883, 0.5053155053571387, 0.3562369521154989, 0.310941449515238, 0.36401439846378164, 0.2977627780714361, 0.36194552084232984, 0.37139367329080614, 0.5009712974445669, 0.31945666667750106, 0.28648364388280984, 0.32942806920327156, 0.240889040857825, 0.319750247425062, 0.3143224546241169, 0.3129052504034015, 0.35844335151100404, 0.3425297164678899, 0.34502772312984664, 0.3260869284144846, 0.3248112006823629, 0.31680972900130805, 0.3194034480887646, 0.319604141657164, 0.3148617289772016, 0.31504293863857, 0.46756058270334794, 0.2687272982368899, 0.35491543813867316, 0.3824000311484331, 0.40011021100016314, 0.3378202427333533, 0.3071895281699376, 0.3430781933433095, 0.39842627770146233, 0.39490579263772463, 0.3226724662828087, 0.3920222240774854, 0.2844567399388496, 0.3520854175059597, 0.2667586292294825, 0.3371890855962839, 0.31693142912348593, 0.36858216244863035, 0.3104893738130529, 0.3258039176435141, 0.44658302950104634, 0.3286169223968726, 0.41162874884351197, 0.4078528370634083, 0.32355345671592683, 0.40289807198853395, 0.3244051888167439, 0.3152574779594465, 0.344860547816117, 0.29481078177697845, 0.3677369114752152, 0.40144148560441095, 0.40378255476951275, 0.36089629486125646, 0.36182781432937977, 0.3758787814423891, 0.3614868744405378, 0.39816622273491986, 0.3651160452804481, 0.35736080569659645, 0.34978796375250104, 0.3466787633816889, 0.34634938040224517, 0.34161946204422766, 0.3387066478614668, 0.5368432990704586, 0.3697620122977067, 0.3487865240997991, 0.28634483811775396, 0.40072396316465836, 0.3068792419537342, 0.30894521951861387, 0.29175787323120095, 0.27630867450959523, 0.27565348328708544, 0.24613857099281328, 0.23138882846103473, 0.300956724512542, 0.21910538917352096, 0.2657229735523808, 0.2835989538378162, 0.2700406926184777, 0.22784962868011602, 0.27064464618805073, 0.2520786291568556, 0.24598950929287222, 0.21969855943678873, 0.2735860550887638, 0.2735244944017554, 0.2185770300545551, 0.23321217853602325, 0.1934371860632796, 0.25762868503321146, 0.20596838546824459, 0.2185520140609882, 0.23103146723996507, 0.2710458810314874, 0.2708007790092475, 0.2894166338055508, 0.2656264369451261, 0.2943226028772119, 0.25905102036495425, 0.24662800970396928, 0.2460471284553436, 0.24035481975319678, 0.4406444422387953, 0.5661093851851661, 0.39540865984863033, 0.4081064593049349, 0.35205221122192526, 0.3792930813548058, 0.3055532166025417, 0.40756998025184754, 0.400304875050361, 0.36005007821781077, 0.3512536031128593, 0.31596280302668567, 0.32132361526001013, 0.4362438942356148, 0.3918710878484466, 0.3267666949872982, 0.32402763954327557, 0.3537233081624267, 0.40839850639980674, 0.34302338106320385, 0.33572451445314844, 0.3025270947859532, 0.33764760143028405, 0.3381440153242904, 0.3068715764757121, 0.3540150167786819, 0.33692224111804586, 0.29341397852119905, 0.3170751196101585, 0.3513918408452107, 0.42145825973097223, 0.377924450671047, 0.36840960086627333, 0.3515450656054489, 0.34358563644316326, 0.36270249653781544, 0.364974094690866, 0.3618479148927479, 0.35320789335929154, 0.3433208809105012, 0.3501480055598793, 0.34825118793334076, 0.3403247220457439, 0.3638387473612099, 0.33893785262933684, 0.32488652452761985, 0.29392978628326194, 0.29197057237692275, 0.3072592907079953, 0.23259625245519716, 0.2927857037306427, 0.34567554061328637, 0.2593397805412226, 0.23749263923268588, 0.26664364169847854, 0.27358766077959, 0.2600795226703558, 0.20063928243873258, 0.2527175355212388, 0.235633587495874, 0.21946401666920184, 0.23647271544802634, 0.20928918708725724, 0.21199507171080686, 0.21586125782937163, 0.25490783285019003, 0.2707872054367806, 0.26513733500018893, 0.21314979486793553, 0.2115301748143282, 0.2080094779176985, 0.2448921304332901, 0.18280476898497364, 0.23890847110496458, 0.2555849866724163, 0.26376504177634813, 0.27999329951380125, 0.2474030311368879, 0.2445055113106935, 0.23764586093816273, 0.25441516338734527, 0.24309913197178246, 0.24978920784254194, 0.26630116447016444, 0.2621134563049507, 0.250762104562384, 0.2572103658003599, 0.24472611106168432, 0.24454658409531424, 0.45356336905600947, 0.39499958462371587, 0.40806799583867803, 0.4633580857424572, 0.4015880711830526, 0.48179905689056984, 0.37050608978545096, 0.4087948899048103, 0.35262314618705176, 0.3989941251036271, 0.33533540754107666, 0.3444351819817282, 0.36585303044819967, 0.3750361768166289, 0.39507627603280765, 0.42933838957610015, 0.43991414668812256, 0.3250857863815046, 0.33493550417368445, 0.42534339077004657, 0.31135012924876165, 0.3376878023290016, 0.2880271100847718, 0.27774339096572515, 0.26436630316780885, 0.361165479691142, 0.2697530416304551, 0.36534220573385146, 0.27275452849628634, 0.25655776558192195, 0.3643927398044166, 0.3559023666993085, 0.36448584761945263, 0.48769950950008584, 0.36987194578680244, 0.3493880771799396, 0.3613629402074517, 0.34942194433057644, 0.3811698411962251, 0.34742224416428125, 0.343165603736187, 0.34482545739736975, 0.26261078375132296, 0.3195471639860771, 0.3251230500868538, 0.2371926430036352, 0.33474083771425567, 0.3768300503401238, 0.24913804365946948, 0.24416028517929173, 0.286688741425879, 0.2901472030306354, 0.251185202360819, 0.3007341877646799, 0.21033121141052594, 0.22571260482887442, 0.2409212029906182, 0.24808932531664005, 0.26364748422080714, 0.22491522056759417, 0.21653520554753303, 0.2559945330594546, 0.2773767829620764, 0.24378602884971545, 0.2794753875998576, 0.22673563302833163, 0.19317410808694324, 0.2002587464186714, 0.22402548780305453, 0.23422486016493976, 0.19732739001276792, 0.23995978778468635, 0.2511696619606971, 0.276145045804157, 0.2625716718064548, 0.26887612912754566, 0.27329911754391034, 0.27348510012005944, 0.27259321706905704, 0.2555809478159722, 0.25599125834921127, 0.2566335750405652, 0.26448409963272096, 0.2563383215882978, 0.2556979407043389, 0.25254354008675967, 0.24827529036573615, 0.531294264271928, 0.5033075905105521, 0.4411013921058849, 0.43220792980095163, 0.41942313216731203, 0.40039417188813786, 0.3761391242886356, 0.47432591398527, 0.4666018771197408, 0.3373568773797791, 0.40818628682259595, 0.39750095229453647, 0.3701963176101826, 0.33926545980821116, 0.38228432204360296, 0.3588208650087355, 0.46692360360238483, 0.3761409459324845, 0.31479063905492993, 0.37419655548762937, 0.3513288071720055, 0.33599535495202637, 0.3666823716373625, 0.42578421641298386, 0.36455073100168484, 0.3796396854919433, 0.3458475989077406, 0.33267721185541116, 0.2959809832974729, 0.4338091443712157, 0.38719885768868906, 0.3838556811756058, 0.3984059168538936, 0.3715421635066393, 0.3892812861761946, 0.36881186108123754, 0.3651948026131409, 0.3632323383058253, 0.40331472774406374, 0.2921002961792423, 0.2813578393250118, 0.3226263642976881, 0.39635393464541724, 0.3476355275543008, 0.32840734058702153, 0.33087938794032895, 0.42587959296572364, 0.4478567232242738, 0.2646053974031345, 0.4375019685494082, 0.36171737781965546, 0.33253641465956413, 0.39073292880299737, 0.2854016960478499, 0.3229534225142728, 0.2758358106820648, 0.26122991123624845, 0.260870129253832, 0.26048913705023574, 0.2965273040927823, 0.2930247517220406, 0.40196831351813966, 0.3307863409508063, 0.3459519606814222, 0.3822522821617263, 0.2784348518088109, 0.36274013070385447, 0.24335847702753227, 0.28996207944240354, 0.3846961702898271, 0.34443596730534004, 0.32224569248732604, 0.3689440144133116, 0.360042687512025, 0.35497570848799165, 0.36854776335108774, 0.3288960286085214, 0.34370609256672885, 0.32583929912488063, 0.3492714443345109, 0.3517269616546154, 0.3275882137685374, 0.33216428717466834, 0.34014912866663655, 0.3282688436280924, 0.2735686384858406, 0.265926579760068, 0.24705256083645352, 0.21730347398593225, 0.2310136964194417, 0.2277879821180804, 0.23332029131073742, 0.1973436158617893, 0.22994703662284754, 0.2136121024440745, 0.2519637850430842, 0.18750992569989625, 0.2152690796567592, 0.18314302087692574, 0.24291146718902157, 0.2661429089266996, 0.16035584825568672, 0.16162911997426208, 0.19902214020772105, 0.20471128191956411, 0.2670796728037636, 0.16771591542533212, 0.21026212752541146, 0.20526210224903216, 0.20564788250191846, 0.2066682628700581, 0.21785060724209643, 0.1923694601863748, 0.16988812298473965, 0.2042256851998842, 0.2622070099469527, 0.20129853762284675, 0.21913514599614367, 0.22498835129543016, 0.22773291361060066, 0.23952769359337037, 0.2466506682381227, 0.22856198925850693, 0.2377034820637339, 0.21092844747284828, 0.21780994334173148, 0.21257907749835114, 0.21200504849758187, 0.21513332882919026, 0.21692780383717286, 0.2155284794378448, 0.2116217587979958, 0.21162421585723734, 0.5144946457035785, 0.3607388134237563, 0.33391014530755037, 0.4155312769591533, 0.34021213930165933, 0.34582714677042786, 0.3362160124566635, 0.30919145111592883, 0.3554533932528327, 0.28884865271214066, 0.34695446107051336, 0.2998192396877977, 0.35219512308710116, 0.3446365424541929, 0.3300843755066801, 0.33637054535995864, 0.2988066622682738, 0.2809443734452245, 0.32086056959829407, 0.25650483854860223, 0.254573172090643, 0.2790881623649553, 0.3113258467846614, 0.3442121524826881, 0.3495018004800262, 0.2776069210526996, 0.3148704865433234, 0.3465350977938498, 0.30806838973351397, 0.27528729909533456, 0.3164977375298482, 0.35337755156676653, 0.35421365366963703, 0.3050773771951798, 0.3432330869906327, 0.3278835611098047, 0.313547266663156, 0.3210040301096582, 0.3133327219724748, 0.322688861076981, 0.31468298976618597, 0.3095164565875616, 0.39758887530159204, 0.4473546068030956, 0.457476980811207, 0.584177305493647, 0.3614045210128346, 0.3581193899800579, 0.39295231859059704, 0.3297341681045784, 0.426987686811257, 0.3730093716005715, 0.3357546988407117, 0.2963317799731646, 0.32666399924016465, 0.38254306266018256, 0.2934661880457329, 0.33169647373904265, 0.3659945833362233, 0.30025722227988344, 0.2546364768921181, 0.34341850539463326, 0.2581743665205258, 0.27868580511083696, 0.30397921552076645, 0.2984127525295685, 0.2350370538615514, 0.3142899206587426, 0.27070618266522534, 0.3140385507194268, 0.23861192686549504, 0.28778709039644984, 0.3521683272766566, 0.3701366347536582, 0.34149975914568836, 0.3243184334966923, 0.35413837208487603, 0.3024060922862742, 0.3116412424906665, 0.35097003031443397, 0.35391838973938977, 0.35711008143675094, 0.3361963114942399, 0.3251008224654365, 0.3265132965553285, 0.32043993514541685, 0.31959420458622234, 0.31889876243925125, 0.4363634221030545, 0.3825850209031204, 0.3260147040945452, 0.3674326872135232, 0.3850902804338708, 0.3629825985977154, 0.31206487277070666, 0.37500498370819657, 0.2862952660975288, 0.3098604635471394, 0.3206185800298939, 0.334770914725518, 0.29634865111732556, 0.24815483485876505, 0.31742821091370244, 0.3053107063023714, 0.3418255356989845, 0.2693131525756003, 0.2639035763367721, 0.31077832622741325, 0.2620425665087602, 0.3060021570524494, 0.23983871739077453, 0.31305133286607095, 0.21908810577317564, 0.23757795901760698, 0.2903305154277343, 0.2896746663120123, 0.2689222043845799, 0.2973148554953631, 0.33634783684211333, 0.33342669390478735, 0.30064014913526865, 0.2829017916789933, 0.3141408588109898, 0.29681365270825505, 0.28622080817549744, 0.3008179973464601, 0.6471077426898585, 0.48599724870797506, 0.36443000430889716, 0.4507455795075325, 0.452434250430298, 0.3975498636926528, 0.32864856956660177, 0.3693618176921438, 0.40221698069358175, 0.30777202329408454, 0.304276694235485, 0.39429223825745496, 0.3287522595920899, 0.3404336033189283, 0.3989829609957635, 0.3481526104547578, 0.2908835601622177, 0.4225082916158607, 0.2963257062862829, 0.2954712581203126, 0.29864035311251313, 0.2865003374806136, 0.40936834113203197, 0.2696086505110136, 0.3873588811330745, 0.378617475221258, 0.2730883662730144, 0.34390756695253694, 0.3577263170202496, 0.3428001206571787, 0.37391292588139863, 0.36677866688625793, 0.3566847090342193, 0.35135649324610496, 0.35799642907897467, 0.3330362823427225, 0.32952339631515515, 0.33339328918271344, 0.3452423499990447, 0.33504086738691086, 0.3292054956092773, 0.5820026286662915, 0.3571878999876138, 0.42281355077658256, 0.42957293250136763, 0.4543637973226523, 0.4525344264965588, 0.5124321522332002, 0.4397100918967375, 0.436661879096399, 0.3853246513529938, 0.4721646066887382, 0.42270084280896053, 0.4723714105654628, 0.3789345527099385, 0.4387920609950343, 0.3192578200588204, 0.29782918209429843, 0.4259801228176163, 0.40405447771068126, 0.41977692085012297, 0.308860160248263, 0.34258763994275115, 0.32257499465214184, 0.3578441922675172, 0.3994156148817069, 0.29900631765664004, 0.3717396088004852, 0.40629735730020533, 0.41695265771268, 0.4206863492874694, 0.4281435012264832, 0.43251456552179657, 0.3779011868980112, 0.3822709640373085, 0.40912845405428255, 0.374129135283529, 0.378345474272796, 0.3667008261803066, 0.4904346543854573, 0.41326467261686073, 0.3570536585172506, 0.38185975454871246, 0.4000136049205439, 0.40210835358525876, 0.4234347329458659, 0.3461559799347065, 0.3168061979304522, 0.2963315222627293, 0.33141836048933343, 0.3403736902447104, 0.3093219339804211, 0.2825506732214768, 0.30620961911100425, 0.2775163305343499, 0.29437409148699045, 0.29655823301465106, 0.40486241588311483, 0.3093677158829809, 0.32566166583555956, 0.29360997059616634, 0.25995389881149056, 0.27498174724371816, 0.3647053146928123, 0.3391179903648879, 0.30890163469696874, 0.22205179974507966, 0.2627151261819737, 0.28137005079191807, 0.3435909377934763, 0.3366356395263002, 0.30309763533468603, 0.3484468493508193, 0.33061526326182467, 0.3078084006028675, 0.32341473165170564, 0.31790645310551924, 0.34539141283642205, 0.3216658666768766, 0.3070588805194635, 0.30630659220140943, 0.35407873607116847, 0.31211164743835335, 0.3367662598296337, 0.40371896088841047, 0.31382335100248926, 0.31742090329886175, 0.34766842540816756, 0.2344567590711476, 0.2726507110966805, 0.38001671594566455, 0.27800811955214394, 0.26264611332579874, 0.24436055015642028, 0.32429374927795285, 0.31055553659933194, 0.30961170463592086, 0.2515063048973363, 0.31277675831029944, 0.2522160558838977, 0.30237622511917905, 0.2801410463350308, 0.2731109269525697, 0.22838020222635216, 0.3467492489356089, 0.27212526690727795, 0.25097061834559514, 0.21632232425484985, 0.33118665011305654, 0.24555060100790302, 0.2157102416145721, 0.31726281615910135, 0.3580318190666577, 0.3038497785995218, 0.27498210283696933, 0.28843586388247927, 0.32966105755553476, 0.31310445605105497, 0.2943496014714846, 0.29023201426403555, 0.28408561216082473, 0.2855467023715808, 0.28336015961696576, 0.2822035220076952, 0.6885045364398944, 0.4075116890149285, 0.5461967899253853, 0.4879473960464384, 0.3984298478684877, 0.5559674773643318, 0.36668962877701666, 0.39087467694423783, 0.32228298780796905, 0.38493656236353707, 0.4157201054287521, 0.41450883094718116, 0.43599883623027497, 0.41531406497598583, 0.3750122509425655, 0.40475749375241493, 0.40000127308436356, 0.3762179679246226, 0.32330959019660627, 0.3455815258619807, 0.38134922585563935, 0.3025899718584734, 0.3604588612540491, 0.4248933567278742, 0.3330622402581894, 0.3426624384680803, 0.3101160066341025, 0.4205542134196814, 0.3262950602560422, 0.3176130515743428, 0.38945377401193637, 0.3663602407725554, 0.3794124084512559, 0.4268326358868765, 0.39743591048725774, 0.38292597026226577, 0.35994200658764663, 0.3742778396565812, 0.36694052607466554, 0.37438143370620436, 0.3715991838499116, 0.3684368838290087, 0.2619543476450526, 0.27185058177990745, 0.274522857597087, 0.3803364203895604, 0.31599220180280363, 0.25778924519978763, 0.31305256516662855, 0.2620635074425452, 0.2846787176300679, 0.23644763348325018, 0.23359465905366378, 0.2907709218180818, 0.19425976164879977, 0.26647316091349427, 0.21629972933315167, 0.2503650095265648, 0.2380565204694215, 0.21063134524801042, 0.19712480782373556, 0.2307404728965246, 0.22545803609016352, 0.26152633880845194, 0.26979406603146794, 0.20819522277224614, 0.24479553315575148, 0.1861567359857328, 0.17877951555863136, 0.19791193115043257, 0.24595761929856808, 0.2403726310652163, 0.268734915990732, 0.234609153926789, 0.27608484772841496, 0.2421932383742467, 0.2501247735374281, 0.2640216513362195, 0.2534397969407863, 0.2422316522720821, 0.2677517200267726, 0.24100209254696348, 0.24108343951396838, 0.24146447528376427, 0.24249977431815406, 0.23974007610820958, 0.49098931225283277, 0.3971065826013666, 0.3613100038068579, 0.35697168811764196, 0.41704268490487445, 0.3576338342096449, 0.36645333169214295, 0.35771357006563326, 0.3450457387570737, 0.3200576759485309, 0.29007708295668994, 0.3947079520732967, 0.3198657593680089, 0.3317038413585962, 0.28077458015861023, 0.35988825949969694, 0.28489072930058584, 0.35384711946916425, 0.29794612220518674, 0.27932318489775176, 0.29344106843033374, 0.2477494002463373, 0.3274198404276241, 0.25355182571922324, 0.2980484716987878, 0.26856656215925206, 0.2777797054550825, 0.2736917438801859, 0.3149156516003428, 0.23331236563080524, 0.2805068578532459, 0.32434481989405556, 0.30202794316308035, 0.3108120930984256, 0.3104593537065462, 0.2868009671581919, 0.29766963850557954, 0.2896508111018415, 0.2838321486506893, 0.5651227228497467, 0.5257838844336025, 0.5189696150693914, 0.45351780602942704, 0.36546863417199715, 0.46128943608749956, 0.3770501164441791, 0.42555422694497547, 0.43545753510366536, 0.3577786231288104, 0.43050786851558015, 0.36606641401423395, 0.4945435064369721, 0.3593631402284306, 0.36420129124931666, 0.39659280976671085, 0.4037302639724157, 0.3929360449956286, 0.44242755432732767, 0.35030251020835507, 0.40121658055881815, 0.45599157525847167, 0.30736201938232754, 0.39539499131093675, 0.30062973921387653, 0.3865612135552193, 0.36879030946750385, 0.4295684578539781, 0.4249422364581163, 0.37207703529569675, 0.4052731913919178, 0.4098108697520265, 0.43838152520194584, 0.39133952115544385, 0.4128284702600479, 0.3976817152780774, 0.3971323052274035, 0.39411894698607347, 0.3771285266656056, 0.37576279671718243, 0.39819955561144355, 0.30703080303396046, 0.34884774997702317, 0.3146164492728407, 0.3725769947395436, 0.37354533553339914, 0.2763466010574233, 0.32342647005351177, 0.3322024701640296, 0.3206196571327164, 0.29281121070766253, 0.28440320626435617, 0.3442147679348714, 0.27637817832672407, 0.2502562581318422, 0.30758715658038965, 0.31232393915535456, 0.2758041562063286, 0.3303321920862073, 0.2608217717014979, 0.3220974549549133, 0.29334066983436974, 0.28847446711646346, 0.2715696466823898, 0.3079170574155362, 0.26742746077820134, 0.2755146411566442, 0.25102775531241855, 0.3055575072107368, 0.290159589305211, 0.3020801246255831, 0.3288804004906999, 0.30617174278744336, 0.29923799097328935, 0.29035662191108114, 0.2925264242529756, 0.29216896084702465, 0.2855769804948489, 0.2803174160831703, 0.4301345082966836, 0.2569185847949523, 0.3907476491158998, 0.33687508001210054, 0.24606938688678848, 0.34232177150036797, 0.37953255382074436, 0.27671212131481926, 0.2700002460355685, 0.2779144443319056, 0.3057489445467904, 0.29906204194421915, 0.30889643772468167, 0.25547784820437547, 0.30130134389046875, 0.2855260502511786, 0.26491070532982613, 0.27043919048528386, 0.2344452182030998, 0.2275715624711563, 0.2266443808518756, 0.2079408939656466, 0.1999835711918719, 0.19013106140268662, 0.2523644373200072, 0.23924855711020449, 0.17514269013558836, 0.24764957768738835, 0.26194692901406313, 0.20358139460346486, 0.2755506598854541, 0.2997618278420452, 0.2602487853336571, 0.2514557217733755, 0.2728451342434941, 0.25967436756565687, 0.2666113721010965, 0.27219367242955406, 0.24050083491504373, 0.22890382529150016, 0.22924135076474905, 0.24852353923243697, 0.22904984699654568, 0.17605195402295565, 0.17850972815295957, 0.20432559153962623, 0.16138821252704114, 0.20148246198727765, 0.1530950436396464, 0.1994050867149569, 0.17911916743046027, 0.1883005648142291, 0.16790705955471974, 0.1748742344538361, 0.14180891184484734, 0.18806935604455666, 0.15874354588810866, 0.15601589816066513, 0.19301489871817623, 0.17685053806036266, 0.1741518846909609, 0.18745837929100265, 0.1577140904465508, 0.19663048105184489, 0.11613233928992436, 0.15774270091048853, 0.17445488429779835, 0.19031258114495028, 0.20365881095310334, 0.1482979241938342, 0.20315881461670204, 0.18897874929218167, 0.1723056768073307, 0.18262367189955866, 0.1662945897201282, 0.18038014827391183, 0.1703121457523492, 0.1626972747115535, 0.37520366257398463, 0.3749183891321252, 0.45893215689054173, 0.3571991360252227, 0.37878620242851924, 0.3418189609166641, 0.4086356117757338, 0.3428135164359579, 0.38524201908770944, 0.2730752911601223, 0.2833561172779756, 0.25458109438205245, 0.26851316728979924, 0.25147405667639705, 0.22020695425642067, 0.31255324991307726, 0.26576975161719746, 0.2829324755691514, 0.2746421914196283, 0.26978262315905904, 0.27694402372207133, 0.286930083101167, 0.2983892951404991, 0.23752679193078832, 0.23547384749273942, 0.23166193749949285, 0.25366139677936356, 0.2586787939136623, 0.24848661238849312, 0.290143344160132, 0.3016643620728322, 0.33092622399511823, 0.2842106808851812, 0.2765216933753469, 0.3357292283329888, 0.27713301181335537, 0.3207539423286004, 0.3214834467477094, 0.3076712900878552, 0.3080881846687037, 0.29309583443775444, 0.3153446946238153, 0.3011392087311917, 0.28555175720059894, 0.2785973944366484, 0.2802981752094414, 0.3097850286913007, 0.277742216988119, 0.28651976583309924, 0.2673130534144086, 0.2793253833350775, 0.27264651290122793, 0.2358891061010952, 0.3014322754908761, 0.25181381062489405, 0.27723577987003356, 0.23515778529140965, 0.22232121609391858, 0.25370389233456947, 0.2285037782093448, 0.21387622053520106, 0.24958929299815336, 0.2386165516448396, 0.1838955250723035, 0.2094783623137395, 0.25897352096136156, 0.2213740196784901, 0.2440069301034602, 0.1952561549325699, 0.33474495175139146, 0.2414449254803469, 0.19030866573598818, 0.25256212854525123, 0.21190736707823643, 0.2672279068838881, 0.2046449043872697, 0.23996585687777755, 0.24530950866855408, 0.21918485599319315, 0.2327695140554677, 0.2240333027337609, 0.2523500893282498, 0.2615710146821729, 0.23485917256511632, 0.23766384880715422, 0.22783245072363514, 0.2252174349178568, 0.32169207562514107, 0.3852520659514994, 0.33034068434790387, 0.332892353173555, 0.3082504104499197, 0.23783588003275055, 0.29439644419433136, 0.2565742174020877, 0.25252854678766, 0.20427886627351313, 0.24687232339273313, 0.2557932420460579, 0.30100035731995384, 0.2360592636814965, 0.24936811692195315, 0.2511796857422227, 0.23343421192019567, 0.21531782465367505, 0.21600979825669156, 0.2673798773418701, 0.23322053251811858, 0.22551951469346543, 0.22256430364936086, 0.2423618640557379, 0.22105513621364659, 0.19168617738971153, 0.17271654001098946, 0.22311106337925332, 0.18630176032508317, 0.1798056012656903, 0.25699650070105423, 0.24778914873046204, 0.22555438210067877, 0.24235044740605108, 0.24321469563482329, 0.24260536139143585, 0.2326899205779985, 0.2298372987075672, 0.2409490409058286, 0.23417806700546767, 0.2713276338349852, 0.25807868446181587, 0.3062501226479172, 0.20194865707094536, 0.2597355937239567, 0.22826166286711685, 0.24371966537483938, 0.17432560310126977, 0.258719468606435, 0.23344228669851871, 0.23041218136719785, 0.2549058174361465, 0.23240018285478745, 0.21775152527825148, 0.2027554931733415, 0.2244852954247314, 0.17649634393958302, 0.17196463258112818, 0.2150588536678535, 0.20917299153219016, 0.21484559159606512, 0.17675501515671135, 0.24214513484842917, 0.22424251048072802, 0.1906749164911773, 0.21619478129200978, 0.19672367605231297, 0.2494361422904485, 0.19903882542269055, 0.17863324241571202, 0.19177920587121838, 0.23128140802419905, 0.21053539398365448, 0.23844697141636279, 0.2249884702735734, 0.22512658783842454, 0.2116590904058587, 0.22032537036010003, 0.24874207046736024, 0.22347088565656215, 0.22722603169730451, 0.21521931119894816, 0.21533928987466613, 0.2124426136095031, 0.28067452933882925, 0.21836864219610952, 0.258010552527802, 0.29434661657558103, 0.2522875179453621, 0.20743732693061234, 0.20441358873128554, 0.18519901414192386, 0.2514720542268355, 0.1986170171981208, 0.23412956922205874, 0.21686595199707248, 0.24031567461537884, 0.18013181344208115, 0.228372695806131, 0.2257552228214829, 0.23706701972034067, 0.17287646047855446, 0.18552312992190453, 0.18446005399924065, 0.1996500627450978, 0.17322162735951557, 0.18840099736731786, 0.21268979408570954, 0.20409140773893197, 0.1888386292848564, 0.18487534884086315, 0.1899514933785684, 0.1969588016417524, 0.17379509889144773, 0.20544971720944777, 0.23897763427413704, 0.2537029794196576, 0.22916638665175704, 0.22749207394729154, 0.19875724735296887, 0.19572764431517928, 0.19664928753722097, 0.20013092697031631, 0.20791720722287438, 0.2006473613849728, 0.2001003605251393, 0.35802598531325175, 0.2500431861417245, 0.2416720709458263, 0.24762442511506833, 0.2176257252140795, 0.28794212486928783, 0.1749224990079736, 0.20768172870424295, 0.31718464100025007, 0.2100525515780605, 0.22003366214745823, 0.28594522047337473, 0.2178225920205271, 0.2609993882725199, 0.22540235533703362, 0.20207268100175355, 0.254399782085282, 0.29261785410227514, 0.23672866183406255, 0.26416922618362165, 0.18737201990016988, 0.2345982105103776, 0.24135504029254393, 0.20745610404253303, 0.1894456922815097, 0.23656509061134842, 0.1984507642166654, 0.2758046075016089, 0.18970900302730911, 0.20835414427627696, 0.2500013345428836, 0.228433346576696, 0.2348102185296014, 0.2824021776867848, 0.22046230906309935, 0.2614732926346788, 0.24943805117491735, 0.23356060856156774, 0.218172256071165, 0.22103035840257276, 0.22067773545277372, 0.2191697328463261, 0.19128604927038054, 0.17694407529232298, 0.21889138257391147, 0.1932809645914353, 0.2168689936377846, 0.17626204945296883, 0.20191247803465912, 0.178094050815107, 0.16832318432112567, 0.19961703880302364, 0.20666284626908263, 0.16141993460167867, 0.19029498494364047, 0.18283622326783175, 0.15852169747124698, 0.16124006913945976, 0.1936657489548482, 0.16987829923857517, 0.1792991215766105, 0.1814460818783104, 0.17796789667904353, 0.15679898154830418, 0.2153059521098572, 0.1587677925430651, 0.18322895348301968, 0.146413103250624, 0.161929979303518, 0.1446045855681914, 0.1872864785436922, 0.1389713735568155, 0.17987249973573924, 0.16273141284392093, 0.1941127216157689, 0.16584921452904736, 0.1783878372277272, 0.16469543732770847, 0.16818336748241497, 0.16614765726603808, 0.16877662471291202, 0.168088042096869, 0.35339729516681895, 0.35819705251708833, 0.4076627393085923, 0.4183437217706537, 0.35050995337797725, 0.3787017857672361, 0.3522117857287599, 0.34328450893165113, 0.37731604694923737, 0.36714848174845455, 0.3738125544096966, 0.28090425576065814, 0.42941981320999806, 0.309719255523151, 0.37174095014079644, 0.29851357312866095, 0.3463351877815425, 0.364637346435904, 0.33858684513358667, 0.23554354075023654, 0.3215293878047445, 0.2932869290134943, 0.2901960727329748, 0.44962392894565306, 0.2922923231677354, 0.3537023579718358, 0.2699147432779509, 0.2747332105128784, 0.2883581743277046, 0.37275215515123183, 0.35955183778337513, 0.33478465827726894, 0.3267553650025412, 0.379875601791935, 0.32103072732995286, 0.3348221293865639, 0.34060922623206386, 0.33097491011197994, 0.3278048009591533, 0.3403374031315301, 0.3324313322986313, 0.2569098003312621, 0.2615915861092373, 0.19737385299076315, 0.2411469874033062, 0.2405206813580649, 0.21200107241161464, 0.2262729088917422, 0.18802506487362836, 0.192614466380948, 0.2064747484845959, 0.21423567756475245, 0.28781887884548196, 0.1492874294149826, 0.16727792808696149, 0.14474350494704658, 0.15383722193344898, 0.2107950744510238, 0.2326722783868528, 0.200463402484094, 0.16178554300771236, 0.1503868654621694, 0.190904050191678, 0.17658064768213408, 0.19128494589129735, 0.17427572732553323, 0.15629473497884389, 0.1720670445997998, 0.1972708099204164, 0.16946205859248664, 0.1371371231708232, 0.1538270021647386, 0.18558844588502438, 0.19017975247910388, 0.16367494031720337, 0.16844142921497268, 0.1689034781261757, 0.1616283560307145, 0.1772396925685869, 0.18808126399501526, 0.1726334960669956, 0.25567455150027274, 0.2566392117002744, 0.21602359381346448, 0.21678959361707323, 0.19727488717432995, 0.1970350017982424, 0.2170400570466798, 0.17480802664416875, 0.14899858038194555, 0.20597250671667588, 0.179552540159198, 0.1693036631947598, 0.1874627916119881, 0.15924581748931135, 0.21794046293506636, 0.1652674421326589, 0.16000117841835557, 0.16234376716204005, 0.19149592302092464, 0.15986048369527256, 0.15377940952334143, 0.2165368502793658, 0.16985364932094724, 0.16221024626907188, 0.14783278742881162, 0.22146507924028758, 0.11841866165105354, 0.11974699504019941, 0.14282546436886318, 0.13022138019832277, 0.1737146708990842, 0.1777117520087107, 0.16593009912049494, 0.1753741185899545, 0.17612670542661862, 0.17334721571358686, 0.17275893865403402, 0.1651962465920783, 0.16372946809839878, 0.16277855266012323, 0.16483620410243321, 0.3349490173283635, 0.22701380394102477, 0.2666276990886581, 0.18849155254120561, 0.23884550023953485, 0.24948255132661512, 0.2404101351295536, 0.21734165678255876, 0.24378438628256852, 0.15673672926878052, 0.17406182924382577, 0.23380704070061498, 0.1911373854984695, 0.19702579566561343, 0.1695513859437483, 0.21900143484429488, 0.20264185611048913, 0.1910106237136114, 0.17665095093526575, 0.2243346070630104, 0.17508762190849456, 0.17136833057697046, 0.21482800933684662, 0.1453758887811354, 0.22000026546640566, 0.2104199304363372, 0.17396367524972134, 0.1567563257933046, 0.16665269409220948, 0.1837753128652249, 0.1954997316588006, 0.194384241690995, 0.20894351622404597, 0.25507230800503, 0.22052866592871628, 0.1946550422877103, 0.1888339880842008, 0.1927068045090904, 0.17808107183407096, 0.17957669443616725, 0.18202232880918098, 0.1289144478015325, 0.14032735746644745, 0.15447815556483258, 0.1434676308458111, 0.20820818408815314, 0.16046534330720028, 0.19021951011255162, 0.13920211671919822, 0.14617513794871362, 0.16615052037780934, 0.14852167899042387, 0.14485486582935156, 0.15864521028091375, 0.14816665892924202, 0.14419350520665586, 0.14193036112727694, 0.17571924083077792, 0.1360771865665712, 0.12458987347767965, 0.1097627229580342, 0.12789571571611644, 0.13306346272705538, 0.12724514391503053, 0.13066960063490593, 0.15327418865592168, 0.14442196557692322, 0.1357499646601698, 0.1260723982860845, 0.13246557819486715, 0.13944265198059982, 0.1512800351656143, 0.16945979289315422, 0.15170739254033008, 0.16085707463973234, 0.1366434040838632, 0.1465078194302975, 0.15466855624424958, 0.14483937625009558, 0.14326482838796764, 0.14065640489751405, 0.1379309785243293, 0.34574241505641057, 0.28404262970132765, 0.24769312054790277, 0.25456298325796395, 0.2446947742616087, 0.2306366442884836, 0.2524125624221294, 0.234675836532942, 0.24911910026295359, 0.1522444584248048, 0.18669119230273892, 0.2561024149606358, 0.19915964727959398, 0.23219044844900588, 0.19732919642814176, 0.16444066687459985, 0.22511417075588588, 0.22891263431530304, 0.18748832936056317, 0.1864171570248176, 0.19683790316978783, 0.17433574817590752, 0.1427312042639238, 0.1663609291235079, 0.1685457937359732, 0.23406037644994881, 0.17744065586560395, 0.22522183076683233, 0.1804572329882458, 0.1854964838857099, 0.19160882511552976, 0.19793904989401165, 0.21411781926392875, 0.23048218417699606, 0.23410507149581616, 0.2336217336334277, 0.19735972165207782, 0.18691657728185332, 0.21772092328816184, 0.20895916939996154, 0.21900021037928222, 0.2078555085910943, 0.20455087468572872, 0.2074582023229168, 0.20185926450141226, 0.20064869852287778, 0.1987720835023106, 0.19107251672698325, 0.16561746829121185, 0.2106119072129389, 0.130568555059368, 0.16041312964273302, 0.13788068347737062, 0.1889944386116513, 0.17463150613247128, 0.19577671774334587, 0.14963336352957013, 0.15816209324697444, 0.12302048565699059, 0.19369708318313072, 0.157729070439718, 0.14423141585377613, 0.17566317142171364, 0.15158728629541096, 0.16376963637056507, 0.13250054441767284, 0.13754405267376688, 0.15376647158821408, 0.13093895849854947, 0.13781873019745255, 0.11026007823567192, 0.11525647958297582, 0.1352405836351285, 0.15959711176649483, 0.1360952703186856, 0.14218505436750978, 0.14380098634911323, 0.15919289140796208, 0.17424555912967335, 0.17033914444464884, 0.16895236800831792, 0.17656491306640865, 0.15126622474363247, 0.15269139674679816, 0.15133444069006166, 0.14976640018269638, 0.1693564873626114, 0.15668694261765784, 0.15579214953197798, 0.15457045781895412, 0.15492460910684597, 0.15250810795933414, 0.1500140103261635, 0.24990708435529838, 0.20655554288384315, 0.2364334779474762, 0.17654687574579817, 0.18178798695846698, 0.19367951473590117, 0.1612813390998626, 0.18156705309453564, 0.1892119598344981, 0.1372613088919752, 0.1960671105237083, 0.17001619515333333, 0.16914587082402027, 0.16610192852395045, 0.18281153251101873, 0.16721064984242232, 0.13869239892134033, 0.20789890133662112, 0.1683181384512227, 0.12075283987521995, 0.1398380957890714, 0.13904110502810796, 0.2000560702242636, 0.2210105525983429, 0.15888021306055408, 0.13601656799106793, 0.15887867104966621, 0.1672160725381964, 0.13743074445717177, 0.20692337755022455, 0.1549259511328569, 0.1766232467740276, 0.17465382920029343, 0.17592093729020264, 0.19222930217532325, 0.18337403080998152, 0.16403010971281307, 0.16637471245788985, 0.1723644950304342, 0.16934331940868164, 0.1766512235858643, 0.19619962514422148, 0.2391037658917874, 0.23475402695522407, 0.13961173090128215, 0.17652059255883723, 0.12702162080238416, 0.19706203984410967, 0.13585889322534944, 0.15641334216188651, 0.1323071945633054, 0.16996145125880135, 0.14401727110975268, 0.14747778751572135, 0.1304849975897706, 0.13347528885489834, 0.14785785271465118, 0.1240058688951121, 0.13303329594593247, 0.15777372504336482, 0.14944968368216865, 0.12666893663887563, 0.13232469825414955, 0.17442609532297, 0.1310957535670242, 0.11945872286156255, 0.18052440404653092, 0.11732246223474525, 0.14434932790285124, 0.12955153750612505, 0.13234775675121885, 0.14234802896006382, 0.13638598266764745, 0.14558675327721046, 0.14761335225775485, 0.1458414297993148, 0.15003313999449322, 0.13359681016114955, 0.13833158972981155, 0.13509094762932605, 0.13314586327603542, 0.13242225374778138, 0.12391531998696904, 0.09087779338238511, 0.09182505637619576, 0.10082551463731398, 0.09477657492766402, 0.11058335254816765, 0.08576363179173871, 0.10521112797237665, 0.08237007821399657, 0.08779704322074112, 0.08715088234056234, 0.09017758742685558, 0.09151146903243039, 0.1173739470916985, 0.09941281049640041, 0.11289307851959886, 0.10314959399814762, 0.08641442556169725, 0.08597165473792373, 0.07358909142164156, 0.07135669715506186, 0.07954665801445322, 0.07222563660118408, 0.07977045525753554, 0.07926425139735759, 0.0873728805520853, 0.0911793467831558, 0.080424251221343, 0.08069060605687739, 0.08072584007201987, 0.09178478299278281, 0.08577281845174707, 0.11091839517946814, 0.0869930933920183, 0.08750842669482609, 0.08563629030478306, 0.0935883913471246, 0.08382063985554075, 0.09200068176405649, 0.08524173291944558, 0.08574163515092813, 0.23985792472528047, 0.22699370016438752, 0.25423998096943734, 0.20471965554197943, 0.247604595939564, 0.191097358701322, 0.17446592501328836, 0.23518814853836675, 0.2355176879868212, 0.24585237871357282, 0.22399250441967722, 0.1823750274995617, 0.23882799472142277, 0.2194273844670863, 0.20055784680782504, 0.18607442595900991, 0.15708299098008144, 0.1962554111073055, 0.20708013992026172, 0.17786202899187614, 0.17599447760102438, 0.19208447267227763, 0.170074290893995, 0.16220450260604383, 0.1616251122169768, 0.20399345800376534, 0.2088049016882236, 0.1993698901627566, 0.1543973156985946, 0.2227914681377013, 0.23006367067189165, 0.21456566614498684, 0.21457725391993285, 0.23878813591456996, 0.20348475784067144, 0.24121508612967893, 0.19913440249083872, 0.2062002432640288, 0.1949500547079891, 0.20207046280371693, 0.1922825365323262, 0.24550241008221407, 0.2196448143907636, 0.22226123780056417, 0.21686666947377853, 0.18673074239417217, 0.1957370252409709, 0.197877403801915, 0.19163281905091006, 0.20502802727076241, 0.14051006770370106, 0.20279763475935464, 0.17408574124918574, 0.20237154850153746, 0.1750068699559133, 0.18729771332014591, 0.16514156294879798, 0.16899364750977258, 0.16028939851435164, 0.1822034090483433, 0.21193621469997906, 0.2053501814261328, 0.20546445639500088, 0.15867350654587042, 0.19068287399597658, 0.18956727036515258, 0.16466655385413162, 0.20893206119825974, 0.1803454406703767, 0.1334926769014143, 0.19021838913661396, 0.20730811293548432, 0.20787634296626975, 0.1817247678551429, 0.19034263419234987, 0.1948879623529046, 0.195658101777903, 0.1864455695247215, 0.1913531320343723, 0.19082048744775915, 0.2674548760104477, 0.20440276734609503, 0.2369560266493619, 0.23726673081741936, 0.198605944484677, 0.18145571340482053, 0.17818206405702666, 0.16038265740153093, 0.19511166240883904, 0.18912378653373438, 0.16557973608348078, 0.1207127056971051, 0.16534116516700414, 0.14920269034256442, 0.1796552498609483, 0.10750147031245644, 0.2036727117902592, 0.13913894603378843, 0.14730445585178653, 0.1552330208003054, 0.16608702823325858, 0.14735124360939508, 0.20305910961438237, 0.17311736324852797, 0.15074091477738485, 0.13009823927818787, 0.17646875445013313, 0.13239532858065492, 0.1256260654853319, 0.17125304572212052, 0.17495715825319108, 0.1749768632020082, 0.1708413522996168, 0.18324078618087286, 0.16940644376923536, 0.16495369640904772, 0.20254807601548827, 0.16911503686513948, 0.17469655917523044, 0.16464221397744458, 0.16984916309479098, 0.17091784670946877, 0.16791300602210651, 0.1666349562697462, 0.16689004559133394, 0.27741444512454977, 0.2635267611541395, 0.26987053209123135, 0.2026112508073164, 0.24163800253321902, 0.21318520060567672, 0.23637931038817572, 0.26686703978859894, 0.25407327654613815, 0.28324142136626906, 0.20908805198117397, 0.19444991503151018, 0.21424894902059355, 0.19789295757119618, 0.21263727746301664, 0.2860715971660254, 0.1890927314239065, 0.20826155955080622, 0.17300016090630532, 0.20896253230179468, 0.17314853870264016, 0.23617970240810385, 0.25452928462854024, 0.23990468533056986, 0.21115670808938164, 0.23526885562018707, 0.19990773075985582, 0.22932297980423427, 0.19885691024352906, 0.2439240145911423, 0.22665742486811105, 0.219652817860818, 0.22398608994803693, 0.20367199167095795, 0.2248538425898093, 0.22272679903854944, 0.22589390861543585, 0.23407992770748468, 0.21702764748402187, 0.22184817219965905, 0.21789092649804348, 0.2123571833279522, 0.13116423863238047, 0.1244819751583617, 0.1275276887334606, 0.1263596188517919, 0.11811935153131378, 0.09700236280412738, 0.09390971892417424, 0.10438487104971134, 0.14323173165518918, 0.11481444741918968, 0.12325303730729373, 0.09963201544729372, 0.10655750679345356, 0.09512112900072464, 0.09804942671441327, 0.06953397672166928, 0.11185564383111588, 0.13125183784696368, 0.11111313459324079, 0.09067202987055514, 0.11558514554374667, 0.11213086012976792, 0.09626484637257238, 0.09978534895917741, 0.09819975734155648, 0.0893202469085165, 0.09873789708188725, 0.08809220736942397, 0.09430929726610725, 0.08211111441425539, 0.10976591067584136, 0.11798229345145901, 0.12069432093451349, 0.10618183235219529, 0.10262487582670625, 0.10996039112359475, 0.11074611109239622, 0.10506283341446283, 0.10393501329018329, 0.10661033502666331, 0.10436867344286707, 0.10543352195710734, 0.10545013754773615, 0.10149838127806783, 0.10147195740663294, 0.1023535416026329], \"Total\": [3.0, 3.0, 4.0, 3.0, 3.0, 2.0, 3.0, 2.0, 3.0, 3.0, 3.0, 2.0, 3.0, 2.0, 3.0, 3.0, 2.0, 2.0, 3.0, 3.0, 3.0, 3.0, 3.0, 3.0, 3.0, 2.0, 2.0, 3.0, 2.0, 3.0, 3.1930347587313928, 3.1688879466331183, 2.4228026134924563, 2.904766610816551, 2.5283589737639662, 2.369151288919658, 2.761678234096422, 3.1446421649943233, 2.7341713526034024, 2.3245949627296363, 2.4557436702530144, 2.377803784008043, 2.618803296823929, 3.3100335325441512, 2.6736747990604504, 2.3158536652778228, 2.290095112457946, 2.4701516788885662, 2.4314751237970973, 2.27564677614269, 2.6722077907781956, 2.8800765509952297, 2.9497686881543617, 2.1691220890144858, 3.246183166293361, 2.060855184425983, 3.0289140748158245, 2.851684531250768, 2.85390485165897, 2.216360026262444, 2.6012715982428625, 2.5639583354361264, 3.0182924767703527, 3.0074093050350252, 3.8455620541565416, 2.836797033787594, 3.2165859051994983, 3.1597723200651955, 3.0374671458376503, 3.271510035620445, 3.2749509055975925, 3.4283662990455457, 3.2377512810115463, 3.192521891358108, 3.4018887025250244, 2.9519686874814903, 2.467690831375109, 2.967911226571514, 3.4611792539067174, 2.4911783809830292, 2.2960153982997347, 2.7750961981567785, 2.6722345578559112, 3.4143305315529244, 2.610687115969357, 3.5263055233286718, 2.910047091843044, 2.64884689348452, 2.920352604622916, 2.395053277649655, 3.105688632377231, 2.79165024563698, 3.0132105237638296, 2.540265344451464, 3.372123033946525, 3.236643599891663, 2.4186304737706372, 2.7083473979658814, 2.7513794781411725, 2.154454006854771, 2.3964877353248712, 2.5608801860139736, 2.8750788860999745, 2.159690193974323, 2.675334020143434, 3.0050919860279115, 2.967414706242339, 3.4238641282586957, 3.588613724616645, 3.179751504880944, 3.3272299061808015, 3.121304470427103, 3.3859720170065684, 3.8571033097879703, 3.377131116411546, 3.570150401206136, 2.450894176411279, 2.944583301294612, 2.2539304411877796, 2.8687301040560382, 2.574666224030427, 2.3463420371276573, 2.495992422318581, 2.3848786635480264, 2.104614882126387, 2.3452330756104387, 2.8365556669138727, 2.6584049091985724, 2.78316801901366, 3.042518637511721, 2.8133481946804535, 2.8229793704478423, 2.3718385758359486, 2.501932697916408, 2.965844906148476, 2.550350122891812, 2.5341401375676966, 2.5464139060256104, 3.0960061898150446, 2.643516864912755, 2.3601297819796447, 2.149522411033016, 2.4021310562201843, 2.4596554966288187, 2.12736903609204, 2.7329089124774635, 2.3113447157876754, 2.5543008943565866, 2.8714726522128227, 2.8875281380440487, 3.284529903221008, 3.21726342179532, 3.6721282878057693, 3.320822800689526, 3.300774419152155, 2.9756733778071105, 3.059253256714152, 3.3599309248120415, 2.967842307817299, 3.017743985487859, 3.1175189654342077, 2.830434437241028, 2.4550765040264424, 2.7787208424653964, 2.893250739409122, 2.7958589761420116, 2.664819153181109, 2.4276815867820156, 2.1488741248734575, 2.663800039693839, 2.752441305049868, 2.8589106230831525, 1.9649901918171087, 3.3430302229987814, 2.3156787980126894, 2.4336201140508775, 3.1610119629284887, 2.703272027187096, 2.506852242666409, 3.019880128971659, 2.4754452068454773, 2.9136132888100668, 2.3576715361555327, 2.302584443662012, 2.7475042120139883, 2.426078333147405, 2.551929986514319, 2.743962141250577, 2.3481387174369135, 2.269232815607525, 3.279231917373916, 3.107099687020886, 2.8075812668229263, 2.8069492270860756, 3.079337505488737, 2.7911022465301434, 3.066229387841556, 3.972500275677658, 3.355153321911284, 3.046018751369073, 3.3370960714184195, 3.194734531697895, 2.920796628825671, 3.2692193059512262, 3.2337229282716744, 2.145131382930959, 2.660603517464886, 2.3877523572873294, 2.491455058553003, 2.375420861816727, 2.6075592597340718, 2.566564690558621, 2.54675359535832, 2.3817340655451904, 2.096099603131627, 2.289156879134046, 2.531129356663105, 2.5524145271511656, 2.725685160317878, 2.779036027097811, 2.778402157998007, 2.778913113020242, 2.8340464393249305, 2.7578395655996517, 3.120290129040131, 2.9468929758915894, 2.841549526825586, 2.273083212918237, 2.3204241697172905, 2.398602732162902, 2.5543008943565866, 2.452165718418504, 2.8674603471156397, 2.222257475073838, 3.661688361140241, 3.8364381271245556, 2.943116361923499, 2.9876607260242873, 2.981086736957139, 3.1061809027129885, 3.0611494166554354, 3.493177280483141, 3.448051802825123, 3.0663307862952354, 3.1102204330816927, 3.4079291875343096, 2.611462885606413, 3.314066666991003, 2.829693048832289, 2.5593186912169394, 2.6050951025658766, 2.723417453496078, 2.6507467811235133, 2.7784248549551824, 2.3562967081200497, 2.5133263899149525, 3.0700588430060374, 2.501932697916408, 2.778990424605668, 2.501324551343776, 2.811437323992527, 2.338140218941088, 2.4663309568540153, 2.2190280243047695, 2.522150719714424, 2.696564068021547, 2.22295586344646, 2.1603153343903663, 1.922914060483112, 2.6866495396991255, 2.226583807839719, 2.3806227653273484, 2.3732289083382474, 2.2913592612572384, 2.177352846230091, 2.165670761374387, 3.2312887629246445, 2.458412756331376, 2.576391693034353, 3.16416410855438, 3.256014429292949, 2.8676421888521246, 2.7252130563695838, 3.373513185986752, 2.6757560286317092, 2.8080440412833276, 3.5431196011625414, 3.7428411814015528, 3.2445036966269596, 3.5652425065136764, 3.2402143765200435, 3.348743822682011, 3.3937355061658145, 2.1979983754009695, 2.815476015074399, 2.420248968641049, 2.165593252348186, 3.0634338162697348, 2.790117115768848, 2.244699280457024, 2.352381336832846, 3.2755431040866703, 1.9632250651275542, 2.777145304428368, 2.536122727619522, 2.7057837005548917, 2.4461030463310887, 2.31784795590583, 2.5984865466773974, 1.800861770256389, 2.440562674218686, 2.265496193688653, 2.1351677646563205, 3.1314164874702595, 2.1984156493176688, 2.402741798030793, 2.9120593352070565, 2.7125000130301284, 2.1299577849378033, 2.59625577633545, 2.6130136501632126, 2.929014123172734, 2.849992051943635, 3.0074093050350252, 3.1341224802091747, 3.0007828854236855, 2.8605486380104135, 2.873492991459123, 3.4678327183913065, 3.2835288443593913, 3.0761749184279865, 3.372123033946525, 3.7283688637822596, 2.836544980615756, 2.0654091415167226, 2.5134215337928314, 2.4514616376567067, 2.277941028676762, 2.0753790164979113, 2.743087536344967, 2.4424219387296033, 2.0565200095480334, 2.4374906124381126, 2.354727093763593, 2.2942274767695436, 2.3083569564030944, 2.7153119248201856, 2.479544981508653, 3.01324506459906, 2.3148300262387482, 2.2674010225589494, 2.8925139660341594, 2.3865034680669646, 2.370726972824911, 2.2532112428563424, 2.948597222062732, 2.9593479195460883, 2.835358486969619, 2.0258697632930005, 2.655592477608613, 2.343974326819353, 2.0450284091911124, 2.4132734945225596, 2.7129628292767562, 2.8943509524447766, 3.230725244417242, 3.3965384822429225, 2.8201091387004653, 2.985361992529519, 2.8418711714605065, 3.0168262126152525, 2.8829286244453343, 2.9699204417857925, 3.0696662830189467, 3.2596465296805643, 2.9648414450760776, 2.35243773896344, 2.4479741642531807, 2.2689938240478753, 2.52404145691765, 2.1095561375721292, 2.7755780723875882, 3.215357381982158, 2.532149827218163, 2.663996908663021, 2.366875665872844, 2.0200805325596423, 2.9618128177576466, 2.5815589625830957, 2.604305749070122, 2.5507244833008453, 2.872620354594874, 2.350854189346599, 2.7479925536624514, 1.9437704983647364, 3.0937505904900333, 2.3156176940630813, 2.489605064516832, 2.3424491120259363, 2.6257320086556217, 2.5045105548941833, 2.707720580008229, 2.521585682765983, 2.6139654263105525, 2.6157435553831005, 2.8964836528302174, 2.7041847712689484, 3.1842508369873856, 2.868931201760595, 2.995521131879729, 2.8992092591255485, 2.8411635282870984, 2.986910055403883, 2.9117810638015027, 2.8588290148974105, 2.9429147276138963, 2.434895266789687, 2.505327228968859, 3.026630163815837, 2.427793549585148, 3.056122676214683, 2.661459260818613, 2.640632909088699, 2.1116455765465663, 2.3077983663596426, 2.649834705316971, 2.508330317041383, 2.210909089080079, 2.5854822840171447, 2.3682531591554983, 2.341582221855142, 2.3350970478604265, 2.4759231964537234, 2.5754233579630457, 2.4848224838101074, 2.844769780307992, 2.6050021053301933, 2.8362042223731216, 2.4601744564028354, 2.486726603519971, 2.790101265296798, 2.4577728628396036, 2.5164329050599843, 2.4608406204327755, 3.2985420188312577, 2.67580208173577, 2.9632315386513146, 3.4680641103468264, 2.7332300205827162, 3.3764944217569353, 3.151636760035815, 2.8809364178089574, 3.6721282878057693, 3.246183166293361, 2.893248365803329, 2.9051885709017293, 3.185491744410035, 2.3581656184121482, 2.85575023254915, 2.5411830155825967, 2.487443406165086, 3.605827197498464, 2.9492284472512837, 2.6624554548223265, 2.2632960739980423, 3.6885329033640066, 3.075939385523424, 2.537558050297612, 2.7628586427741464, 2.9820666856632716, 3.229057960003079, 2.1710912431785334, 2.2654655509831696, 3.0995288657750413, 2.994508990282629, 2.2147854505273217, 2.5770220266490886, 2.7683917281334884, 2.3636060527982976, 2.970928341420779, 2.6387442879073, 3.9005536660372058, 3.234258270730216, 2.710427765397376, 2.5322802849811095, 2.5402989144524173, 2.955411336543117, 3.2530838534881554, 3.038748694423588, 3.0548478391513676, 2.61775124716507, 3.2469184567381806, 3.6658464231616508, 3.913987526267916, 3.5707630493174807, 3.065591160038042, 3.4190085891540045, 3.327969082990437, 2.637102218365649, 2.7274912465267476, 2.0979072367340734, 2.8655181516528154, 2.5254367223927474, 2.290212648636213, 2.940530814675704, 2.607623450908795, 3.8096277295736054, 2.3921153172641803, 2.9981529724144185, 2.936766363777593, 2.4848875432663586, 2.622645262622979, 2.5336769530123373, 3.0354393538286017, 2.6147442846736833, 2.6751077104919436, 2.4079743438560435, 2.259659114044426, 2.162198974499164, 2.402927522152838, 1.9550209882221727, 2.9227943264644574, 2.492626573368175, 2.8954356427265435, 2.6208086782704476, 2.598531915086681, 1.9932519829484463, 2.3563309901474563, 2.653765913833896, 3.518851711086893, 3.6450078897825526, 2.8286726732942666, 3.3617968954659565, 3.0873967234996433, 2.8011532718287113, 3.064453233896864, 3.183642788097878, 3.2063562825428304, 2.833076405677242, 3.0513384589406387, 2.888457464412027, 2.57657203460407, 2.6131485543527284, 2.5975054978081884, 2.0978664018159323, 2.0500153473113847, 2.40700021456782, 3.1221376035937154, 2.6925204616033014, 3.170976511899718, 2.5399442374151486, 2.835220233462828, 2.8415076584655137, 2.6817473795800804, 2.4821161906978904, 2.983383614599784, 2.1957750866515453, 2.1353908254875202, 2.9179795621247053, 2.919167452555237, 2.624575080102688, 3.046804243610846, 1.9231630801754949, 3.1342802306252966, 2.512146181928398, 2.239991868807902, 2.938679883776545, 2.3618512741897058, 3.3315749511376995, 3.471924334212643, 2.6876910841323016, 2.908030308210906, 3.440998992999328, 3.200627021267134, 3.008995964757426, 3.520588760546391, 3.0885980536504025, 3.29294838528066, 3.1842674534835527, 2.54634236479868, 2.899592269113211, 2.7169838919240954, 2.986147660150838, 2.995050789906007, 2.594990969373192, 3.3018450182761723, 2.0820391223431036, 2.6041755444070565, 2.30633151192652, 2.3458805935594134, 2.6549885424582125, 1.922231907862287, 2.7219994552646822, 3.3209893141413085, 1.926724562290364, 2.833059456309299, 2.446634624674137, 2.299407905591075, 2.6952667400148025, 2.5605783567389775, 2.857380604137183, 2.5994463241723866, 2.5409877383417188, 2.3903643916667, 3.302427165109564, 1.9519901809900042, 2.0532612728207713, 2.6189776648804037, 3.0415620631632923, 2.7642774535173658, 2.492722857540183, 2.7308221821361935, 3.2341072262348245, 3.391701873689362, 3.032966765426284, 2.7858679613353234, 3.992981012119305, 3.2133362235760474, 2.8516001530117028, 3.6325678215593515, 3.0503835743317644, 2.271233924924968, 2.225972870910177, 2.7227752810803563, 2.0270465266908864, 2.8305865240756964, 2.4333319572877783, 2.148275554855065, 2.097851444479474, 2.517252207955831, 2.4360762140163383, 2.7043368871920634, 2.3132086473836884, 2.731486304670504, 2.4741065048835837, 2.538467288564577, 3.8294866389138256, 2.7461147148339493, 2.4121605209234174, 2.8246438809487744, 2.324641960300084, 2.826089558355631, 2.9254236609133795, 3.972500275677658, 2.536283664155626, 2.275295831646543, 2.688829184969184, 1.9781613872742876, 2.6411595693641745, 2.6468233852905283, 2.6781504469518733, 3.0986546504327825, 2.9835099238445273, 3.065969716192426, 2.857618753115737, 2.8991124437517306, 2.750302261678876, 3.0638985921995077, 3.11173884229738, 2.897654488830462, 3.588613724616645, 2.755523943141731, 1.756038503034577, 2.3283371066099487, 2.515590294650695, 2.645844879947758, 2.264817796694081, 2.0665192869632523, 2.308025507515464, 2.694767571553555, 2.6912054810472177, 2.2321257778643417, 2.750542490454454, 2.0178604947794354, 2.5063091883804125, 1.8998899053936575, 2.4061698695656495, 2.2980175687591613, 2.7052982966323436, 2.2793975874325327, 2.418175816827032, 3.322759129895848, 2.4489491031490735, 3.070338887819666, 3.0471388251475906, 2.4239913719488415, 3.0440309260070535, 2.465314603040058, 2.4049930635412085, 2.636718507668805, 2.2837624613410035, 2.8536112123572326, 3.157675853153338, 3.314066666991003, 2.854457555075232, 2.8759310958538418, 3.045132672692149, 2.8900249675313545, 3.454466363589523, 3.0367449041669508, 3.0671430593327185, 3.018448321029125, 2.9862678191481375, 3.0729286526799098, 3.1474764647450626, 2.950631882512565, 2.8200440160330635, 2.5714729678281105, 2.591905923119246, 2.218075625532031, 3.2125407618915407, 2.499901875857112, 2.570134613459906, 2.4501507609952426, 2.3719453731697273, 2.491159980970795, 2.2521788289902123, 2.1260593391093203, 2.7840984566794136, 2.035347733885787, 2.527167196012717, 2.747170958470954, 2.664543866552521, 2.2784593611505652, 2.7226963827041764, 2.547966184890203, 2.488700309900498, 2.2571195979941465, 2.8159626634171366, 2.830722933263616, 2.295985022657175, 2.455888487955362, 2.0473125818730247, 2.7273634290797615, 2.1978552446070316, 2.3442691524993946, 2.47845670332639, 2.9431500692739556, 2.9621191734982184, 3.2642643898076282, 2.973090131721677, 3.494039764065228, 2.9632900372826785, 2.803444146988899, 2.7971474824128717, 2.636122881765666, 2.1828499426457815, 3.2521894904011734, 2.3255300431298283, 2.5254426209572016, 2.1986123290089403, 2.3703701243677306, 1.976046626188438, 2.75144221914043, 2.7478061067344117, 2.476856179162096, 2.4196279845772866, 2.281202391282373, 2.3463397976138074, 3.1903366251669323, 2.887280317218891, 2.4086016191370696, 2.3998753987289736, 2.629987980222369, 3.0424106891314193, 2.590498140542185, 2.554620802454541, 2.3043049350235667, 2.575771107970802, 2.580295088246485, 2.343974326819353, 2.711696454738721, 2.596232935469374, 2.2706471781592312, 2.4566794922251023, 2.7360839294358077, 3.29294838528066, 2.949674772844751, 2.9852117231158166, 2.842831074114206, 2.7577182325305243, 3.124044892934419, 3.185300517891952, 3.122432864804379, 3.1172102753952773, 2.839658394539063, 3.302775507860071, 3.424204663362029, 2.901970241555254, 2.7325953019846105, 2.6554647672910456, 2.624534446438676, 2.4314261928584453, 2.46156918425462, 2.7400736105193455, 2.123836374755737, 2.706366090255211, 3.211632548520294, 2.457025233146925, 2.2535993145800037, 2.5548128461227, 2.6562914021299746, 2.5519779358830554, 1.9759315954778485, 2.5216158426614674, 2.4038705959608793, 2.2620940245491696, 2.4377871980954238, 2.1580704233746246, 2.196264155186666, 2.248479111553914, 2.6578010689829012, 2.8323629224590134, 2.789130585136998, 2.243999499248271, 2.2405298942964107, 2.221940517953079, 2.6171713004779296, 1.9582139649591204, 2.623901532395209, 2.837339165732896, 2.9595355899616504, 3.227079054537968, 2.7573707458106154, 2.7661871339796074, 2.6497171678824585, 3.0161874382808023, 2.8135632693455506, 2.9974756913910796, 3.7514112771772004, 3.5690864289818807, 3.2807643702289684, 3.972500275677658, 2.9387201447448725, 3.057013760121949, 2.42675752285495, 2.359638251148927, 2.5062531595947184, 2.9035212251890545, 2.5217030826697076, 3.0905817127853963, 2.4121627419250746, 2.7276988733120073, 2.4420238709432, 2.783555365574697, 2.3507820209214656, 2.4355200612688, 2.59042614074012, 2.6696989459239453, 2.831184339897633, 3.1366433763417536, 3.234101471366287, 2.4265225936191444, 2.5274116874524464, 3.2419351616530947, 2.397514539272767, 2.630602927435861, 2.249582900559231, 2.1718378335002337, 2.0802824685643984, 2.8440921965811072, 2.1308995980504237, 2.9298023596539666, 2.19475090372632, 2.0645043658857007, 2.93660214647274, 2.869873877255631, 2.9809779470700795, 4.149109524237741, 3.057289475611949, 2.8622660592673568, 3.0571307050026686, 2.899353711181416, 3.877103759186471, 3.188556690260668, 3.6600765921711425, 2.441018246625331, 2.1552310749158226, 2.634696880896275, 2.7405068108424855, 2.0244780513851284, 2.9132108767665352, 3.3771585288030734, 2.255731388998151, 2.2141406855469006, 2.671037459665325, 2.7126898839975553, 2.3502822821788154, 2.818519681929812, 2.039063234546268, 2.194864062370521, 2.3582490555704445, 2.4300062569475096, 2.6154527351283643, 2.2499960543240523, 2.184170988643607, 2.595425240639557, 2.8746515135533772, 2.5296351536800783, 2.907142451626394, 2.375945719113446, 2.057733382467308, 2.1383021808448346, 2.4009571059948707, 2.529048225864257, 2.1356233262519146, 2.6064375837114677, 2.8083489652586473, 3.145362045302065, 2.976246871352985, 3.073523569488491, 3.181566923782337, 3.327969082990437, 3.322326325660397, 2.949062135745416, 3.070751265963267, 3.24139164044072, 3.6097226990080724, 3.2471599071025716, 3.211833445748673, 3.139370999510645, 3.2876985491564903, 2.775304923859587, 2.6686609955733087, 2.3634582971271367, 2.4151744385463227, 2.452096222065708, 2.464144007620254, 2.3211137056470514, 2.927726731713894, 2.8959032150213315, 2.14028466654252, 2.698101271501675, 2.62979338654443, 2.462716766267954, 2.295362586823968, 2.618150142402132, 2.4675820442342213, 3.2355277250528602, 2.6181152886816466, 2.222444766497573, 2.6421031327061084, 2.4820343908959805, 2.3834197509126365, 2.608914364513958, 3.0441916626649697, 2.607527797695176, 2.7438448596544243, 2.5214781176719, 2.450535765147737, 2.196047379274695, 3.246870884108747, 2.904082132064312, 2.9232865842785554, 3.124044892934419, 2.832144361378808, 3.498468112827369, 3.1883628513304, 3.1575460574661713, 3.1401296329516137, 2.446738849695719, 1.8283882267433345, 1.830262110948236, 2.1097550284390416, 2.6251980143135087, 2.361186117160887, 2.253119100941468, 2.289413716931033, 2.949674772844751, 3.1536286698933447, 1.8896030842507459, 3.1312300124245085, 2.6409887436373793, 2.4375799134749476, 2.9298746718893702, 2.168557054041126, 2.482358121643449, 2.122684582951377, 2.0349496770621127, 2.063762046772717, 2.0752931951684976, 2.3698431632905654, 2.3515037918754325, 3.2401417824149523, 2.6670450224647304, 2.806320034901306, 3.107099687020886, 2.2636177036540164, 2.9523822047795223, 1.9868166283093993, 2.3680472152734215, 3.196393185671533, 2.851759821982059, 2.653529849196433, 3.1561200567956456, 3.074000104736038, 3.0272231878636164, 3.183919454009539, 2.7614961382585537, 3.0086111063144334, 2.7466250780382224, 3.1866681433659734, 3.28370981435595, 2.7823729286826753, 2.937688167943318, 3.220721895237511, 2.855921035661724, 2.3923397708424403, 2.3722183108454375, 2.3855610908920606, 2.1333282221674255, 2.382162324848294, 2.3625368397526456, 2.4518944554322712, 2.1190587696536065, 2.491448731173392, 2.380283248890463, 2.825141965764293, 2.1095561375721292, 2.4614564724088024, 2.106132355767338, 2.8156379596032663, 3.091502919251444, 1.8632745432293936, 1.8808861778359867, 2.325086868157321, 2.4072598763689834, 3.1452255947515217, 1.9752069288145722, 2.4845098254131055, 2.429640630309148, 2.448522953104636, 2.4621380237598536, 2.6027347119532425, 2.301041237823134, 2.0322190844377257, 2.4560825642655595, 3.1938838203012616, 2.444763852487494, 2.7089264066292316, 2.7993223012039965, 2.8549289746389723, 3.069052214339448, 3.2448866496813746, 2.9081700441943537, 3.158454334511305, 2.6166259401755942, 2.7943123176015843, 2.6589704594739842, 2.660535640996936, 2.890310059235765, 3.062019056807757, 3.303262783489555, 2.8590278240714744, 3.132711918007722, 2.828653156628002, 2.2180960344572007, 2.1319527872708557, 2.6800985080748094, 2.38603335705567, 2.4714433015400386, 2.4029397132223558, 2.210812546186242, 2.652850867112422, 2.1785737732571864, 2.641296129425756, 2.3250498646400573, 2.7382234769700955, 2.6924522921148926, 2.581898903330003, 2.6422985824999343, 2.446966055218793, 2.3062186299365233, 2.673133421349346, 2.143847020174846, 2.1488399279466877, 2.36701463210495, 2.640430981137359, 2.9278151381592497, 2.993811384069702, 2.384101485045966, 2.70752035824586, 2.985871029720879, 2.6588755460672293, 2.3827932441281354, 2.743935904122525, 3.1008775141632436, 3.145838905345172, 2.6462331696313797, 3.073364115153924, 2.9082439374346, 2.779299095296684, 2.94777521995228, 2.7762674979203608, 3.079411739358386, 3.5804614790370675, 3.2100242168958304, 2.314233299133987, 2.6167978287320515, 2.7288605881169894, 3.507193298160603, 2.4970406790147077, 2.5516263713281258, 2.8532336075787983, 2.4123333449607802, 3.1261317047569896, 2.7316793509152153, 2.471384161680651, 2.1877200271829986, 2.4660700900235004, 2.902180331829835, 2.234794696974394, 2.539027022772806, 2.804443504275552, 2.3587650690159214, 2.0075915614161763, 2.7180394296537673, 2.066320472805292, 2.2423318705078548, 2.451065485597556, 2.4072441266150704, 1.912026597719715, 2.5578823494507925, 2.2140185930979435, 2.5704085224784827, 1.9605949151223414, 2.3852249628779005, 2.992465977738442, 3.168249259820021, 2.9111706178201233, 2.7613949603488424, 3.1280552848845637, 2.545503027297305, 2.65421060043755, 3.2814957946043437, 3.4354286886282086, 3.901253483949562, 3.2985420188312577, 3.247056936101033, 3.375602441530526, 3.12043375216832, 3.197601334017075, 3.1123861657158023, 2.983311342468858, 2.63520480820557, 2.371790852404479, 2.811235048415381, 2.9489778226126626, 2.7967758589774987, 2.404636738398813, 2.94777521995228, 2.2554482566824428, 2.441349274482954, 2.5317032322669015, 2.6491856948113797, 2.3732553769539, 2.013285793924914, 2.59513853232033, 2.501942534552623, 2.8292271461873537, 2.280532830352853, 2.2445021699455823, 2.6550623974887912, 2.2699954148527715, 2.666749452053281, 2.0987729133286392, 2.746787788488837, 1.9228855024091085, 2.0871467043256615, 2.586680027342201, 2.6217763865072095, 2.47498503931709, 2.737783221327154, 3.1702200379328986, 3.1396750674494087, 2.8513921248035214, 2.6376212068646603, 3.056182309948576, 3.0151227333289747, 2.8190793744274156, 3.3759865227674726, 2.9421648952735997, 2.671014918616007, 2.0301241889570294, 2.6737355069983906, 2.7247165158761755, 2.4417422258003367, 2.188924040791836, 2.499862214270685, 2.7704181707932976, 2.125393830907412, 2.112567613753344, 2.7532489271335474, 2.3068361033635183, 2.3992891258454185, 2.829814491032927, 2.5038427853893177, 2.1258150590484832, 3.1378548224334164, 2.218577553006498, 2.2494958326442056, 2.274909181035649, 2.197626667074472, 3.2100242168958304, 2.1470916686968753, 3.1134993726974654, 3.0576556133082144, 2.2138024931337363, 2.8044875703512715, 2.9526689097552623, 2.829908440202515, 3.108988627008267, 3.1410677498014086, 3.0337845179506493, 3.0301584213205617, 3.1392337174662424, 2.8209211172802546, 2.82456336344191, 3.0504270660841586, 3.576817311677445, 3.7229268492766865, 3.202341311142629, 3.2688725334082047, 2.090090087536442, 2.4833028170562104, 2.555470933593896, 2.7065498141729396, 2.717548085184069, 3.0849403157615716, 2.649061874978685, 2.647448704147181, 2.356584038057063, 2.937830317073586, 2.645619366021478, 2.9628286522302543, 2.401858713221112, 2.8629448022432387, 2.0995603476495215, 2.0021261465742075, 2.8776257012293187, 2.7453164491608884, 2.901265832473368, 2.1531044793196554, 2.3891677428399967, 2.254508080384659, 2.529748895957199, 2.852666130717632, 2.1494228872672174, 2.6781504469518733, 2.931818121157758, 3.0360733192769493, 3.06630328402953, 3.1737003759482603, 3.2641438728624994, 2.793642705389923, 2.922076294900805, 3.294100059500217, 2.863496834231678, 2.9895305157752263, 2.7655689587536103, 2.4804026807784156, 2.4815373169822013, 2.1985967752957443, 2.360511326395621, 2.5152771756937464, 2.7717274720169303, 2.972674550886574, 2.573277360228539, 2.3906182370793414, 2.2378484224066746, 2.521932332937108, 2.6170715240581206, 2.3837485550766044, 2.1828499426457815, 2.4328031211764234, 2.207697129751583, 2.352502356080503, 2.3735622232358913, 3.2889863661373986, 2.5150716939114393, 2.6560320724340265, 2.4013738216124128, 2.155115648413916, 2.302393774270534, 3.064555191296051, 2.8861819877103985, 2.643826642029847, 1.904038209965167, 2.2691025654024357, 2.4380132057466124, 2.9890739129635353, 2.938738758549267, 2.6376655033351115, 3.069952003654184, 2.947440806302704, 2.7468742065373775, 3.0582945305803833, 2.9464949323314134, 3.9856765061714796, 3.313077151737258, 2.9695075788403082, 3.0626946422178802, 2.3384004765710564, 2.1180757131899886, 2.3914647663293236, 2.9375863289043727, 2.3632263743086086, 2.566968562781867, 2.828287532357069, 1.9406912687298647, 2.2701264259644836, 3.1840228578623684, 2.365112945992833, 2.286287591486012, 2.1623613290023505, 2.9043677437328084, 2.822203533891169, 2.8162531239506667, 2.296015027158766, 2.867548212973063, 2.31759914815629, 2.7798618268384265, 2.5849350026316027, 2.5281735186390915, 2.1199535847905717, 3.3085736141123716, 2.6267029707528025, 2.4256568640730514, 2.091997690792595, 3.217171016052072, 2.389188162512891, 2.102730629603126, 3.096232461066733, 3.5123642203405736, 3.0307691821377483, 2.7137711806450833, 2.9043082498073933, 3.5058888359315525, 3.427789450240603, 3.1483764603154336, 3.09250294340874, 2.9648414450760776, 3.2071242220121055, 3.1737255493019143, 3.1439094725144097, 3.308560394911679, 2.1672156511535374, 2.9869175600569324, 2.757705497643424, 2.2695670129940906, 3.3735094751364185, 2.3313665046900716, 2.5184776148584853, 2.1011792332713384, 2.573272389599405, 2.8183214155546237, 2.811687239041687, 2.9948362032876834, 2.8713257394118057, 2.599385473964474, 2.813482628494972, 2.7830759566491436, 2.6550904743185106, 2.287592912433697, 2.4582606305685655, 2.7237178083512665, 2.1662794283319817, 2.594512769486046, 3.0743275678516375, 2.4126327841735007, 2.489805276285977, 2.2617340999610325, 3.077233146133505, 2.3883223229372335, 2.326301977489539, 2.8576212535049774, 2.708234132752286, 2.837561358733177, 3.2859636336097227, 3.0432047528025747, 2.9723497726022696, 2.769733239008579, 3.016808952638661, 2.9495060040311887, 3.28078623181195, 3.464505135635823, 3.1883587398306927, 2.2310217013307625, 2.318433705137991, 2.3528880619306585, 3.294024224111304, 2.8197169848003076, 2.359363471104525, 2.870170457463781, 2.4735779331313945, 2.729398142839595, 2.3163877155436006, 2.324277778826704, 2.8978430749902055, 1.9612803161002916, 2.6983371196606516, 2.2012048059764733, 2.553405585462427, 2.44508674092672, 2.1907472834126738, 2.0572307248802644, 2.4163962936871184, 2.3838116901782866, 2.770757029704609, 2.8947637901088665, 2.2599296442071246, 2.6605268072565247, 2.033879160318934, 1.9547354958716106, 2.1661658425275707, 2.7062488728471226, 2.658767985606707, 3.013033358422633, 2.619115193196738, 3.140847211915933, 2.7200544677745766, 2.874631014101986, 3.1378548224334164, 2.9541935029618176, 2.7965334300253426, 3.6014428849202265, 2.881647546419114, 2.9094930733043087, 2.9852117231158166, 3.51502501360652, 3.448051802825123, 3.149422596188702, 2.6463347176206873, 2.4087604039643176, 2.4733904006973897, 2.917725246081812, 2.58487523857032, 2.7726524734481557, 2.7288183898096685, 2.660417318926938, 2.5166826580422708, 2.314604840610417, 3.165673392861493, 2.568697301858157, 2.6727065000963655, 2.3148537352553866, 3.0057746276757213, 2.403159464899948, 3.0261260645669097, 2.5507401313187485, 2.4048332746515957, 2.526820807248015, 2.1490784237090734, 2.8462277530709548, 2.2052251599611528, 2.5941664783731104, 2.3387919094871688, 2.4438355330700468, 2.4463774557904663, 2.8814146423095823, 2.1385755118007044, 2.5715014147221327, 3.0263490616478284, 2.810101730500977, 2.989072846767351, 3.1722118963745576, 2.699068532260351, 3.0048347083168534, 3.1306435968737865, 2.907308438268151, 2.4898602347545347, 2.933541201823134, 2.9312564102610743, 2.602383094939875, 2.102933993892203, 2.660390297584208, 2.2690842609611876, 2.5679023498196485, 2.635849574391153, 2.1795927536686546, 2.647709121996805, 2.253667606808524, 3.0790738347280944, 2.2546582449204067, 2.3247537761105974, 2.543152969058363, 2.622114067021395, 2.592028757911202, 2.9686646789546933, 2.35509939102565, 2.715872982266555, 3.0899612718235367, 2.1001293200288202, 2.7249898886747506, 2.0767322114059312, 2.684097140213651, 2.564600302217014, 3.039419828271879, 3.0079374444569793, 2.6550623974887912, 2.9447360235868194, 3.06031629589321, 3.476314275867217, 2.885313534287314, 3.3100601514641106, 3.1639808689146784, 3.4043062672119535, 3.3983336924960756, 2.7632295733822336, 3.1020552170700033, 2.736870690931184, 2.164403282631408, 2.480480363349758, 2.271523086549142, 2.723278019285084, 2.736409663146738, 2.1792050923480693, 2.5689700227090504, 2.691797791190492, 2.6472668833729514, 2.4313050510962717, 2.373591430954451, 3.051825341343464, 2.4756015950208043, 2.2495505350261027, 2.769849530867396, 2.812986182708141, 2.4900512897429974, 2.9992115278976677, 2.378205751241596, 2.937126647771797, 2.729973278191086, 2.6867466105159226, 2.534752041584789, 2.8976112869646724, 2.5230578617918136, 2.607414514899978, 2.4095925861292558, 2.938222311867269, 2.791065888150768, 2.9120593352070565, 3.4723392656144716, 3.1420381789916485, 3.1160476356302427, 3.06962806034508, 3.208948105034922, 3.5767621655336126, 3.122143797283889, 2.9259885060208157, 2.958918954488294, 2.0380616682253287, 3.1427094116064915, 2.8424460385505985, 2.0791275072352624, 2.907691565715838, 3.227545104345126, 2.459845062417113, 2.412027075781963, 2.4933211601407788, 2.7854933326433406, 2.7360001547013706, 2.922049380876124, 2.4210731397952086, 2.8849018829730237, 2.761075611344376, 2.6128499877238913, 2.6948404736077998, 2.356063368091883, 2.3039873606445798, 2.317258744914482, 2.1325275633835625, 2.055446656355822, 1.9592321620644666, 2.628699623346228, 2.4941794298981446, 1.8273639599673241, 2.584042672300371, 2.783112111698384, 2.1803336816608834, 2.961933310566914, 3.2739808156141654, 2.8091159879469694, 2.7417037325051394, 3.1031356753087698, 2.9629099302573243, 3.1348491131010787, 3.295103016923819, 2.6760079453165644, 2.2115268220843998, 2.2170868021435273, 2.4725136249243698, 2.43168869786569, 2.087576930831468, 2.1818658720311834, 2.5144542775289493, 1.9927013708921233, 2.5751731059423677, 1.9784531069395623, 2.645605699038056, 2.4575004233481232, 2.625758277812648, 2.347724588835924, 2.4623357499974263, 2.0011691982327395, 2.6671911787068425, 2.275562344420343, 2.278871358482064, 2.8209211172802546, 2.586655277554517, 2.5673484836267493, 2.771587110244865, 2.3635142004569896, 2.9567194583245935, 1.7603470957354854, 2.392521447151442, 2.6531238759468483, 2.9009209608911726, 3.1075693258115806, 2.2877181346635487, 3.216191821106185, 2.9806494125467125, 2.7444477924692823, 3.0218188751796, 2.607866734352439, 3.331996162474705, 2.975637512470106, 2.5387392861700544, 2.204078773172688, 2.4092415926031023, 3.211702977900655, 2.5069198082053665, 2.907557100845884, 2.6435211413697504, 3.166350955961712, 2.6961108728180996, 3.060450290223597, 2.248350635676874, 2.335594016421122, 2.2329785966456153, 2.380309085493266, 2.2426136438644555, 1.984318858434928, 2.8275604633181546, 2.409269064268869, 2.5735754917680556, 2.499471892241433, 2.4583729653023947, 2.5272093370632325, 2.6472699861672315, 2.763724316704106, 2.203593548298457, 2.188869284312974, 2.154351885185036, 2.3792525732517777, 2.4263450774895157, 2.3437769369046357, 2.7394470663082595, 2.854535941506694, 3.1732059587871544, 2.6959438956601027, 2.6213021249598403, 3.2773733490774024, 2.6344309895397546, 3.194631610583737, 3.233250926239401, 3.083272359375395, 3.1008775141632436, 2.9202780481740165, 3.427789450240603, 3.2634252835649584, 3.1753800058422454, 2.8450287243119847, 3.1431406940156226, 2.541962350541772, 2.3185296838133613, 2.4265343462639595, 2.3665984268943054, 2.4837023859131966, 2.4950569518019194, 2.2253586774699534, 2.874175580255499, 2.4558226406730235, 2.7344902832905604, 2.350082607899085, 2.259832061300544, 2.5803734179083886, 2.370029620223017, 2.2355072587308724, 2.6170486287849717, 2.540356969025967, 2.0119242607822727, 2.322285685413878, 2.8924628229644895, 2.49421062005447, 2.7546142197010965, 2.2071041418700466, 3.7910506846752288, 2.7354949601365206, 2.159422309910335, 2.870913996081547, 2.4180126393720904, 3.062581379270217, 2.364805644914317, 2.8762654254466558, 2.9566354387712988, 2.590218298371386, 2.828022433858728, 2.6948310596622846, 3.371377124131511, 3.957929404125922, 3.114109182558252, 3.4745966350631754, 3.126469424216373, 3.413460473533434, 2.3764474702452647, 2.9272656984954706, 2.6392507680251414, 2.7094136215380042, 2.5540813131028774, 1.9935561804597546, 2.510191787854594, 2.297304093277876, 2.321487473926089, 1.8886610686591543, 2.325342149525916, 2.508087733622307, 2.9638305886869363, 2.3471849115616896, 2.495383172710495, 2.546885106806605, 2.3776964516778274, 2.254172892495408, 2.369901469916451, 2.934270389850002, 2.5632463108044643, 2.5307256653495926, 2.5095764640615306, 2.734071850619213, 2.5304451936299994, 2.212267184722177, 1.998126637693278, 2.591616540437494, 2.176078682726302, 2.1443742467934337, 3.079608862802223, 3.005250031368677, 2.7370124572745014, 3.0213081393751517, 3.135421164401114, 3.4450621547493654, 3.0321828325115954, 2.9081700441943537, 3.4774132186244024, 3.216591916841095, 2.235729121121265, 2.271856415674505, 2.813208196339549, 1.9823451960722878, 2.5798554770099864, 2.277846439664492, 2.4763746686617107, 1.832827723768349, 2.753405826350066, 2.4957803996777463, 2.4930013591305475, 2.824476186697927, 2.617277582248437, 2.4922402730477873, 2.3398523562145797, 2.5982597637961486, 2.0776230972144982, 2.027709628876295, 2.5516263713281258, 2.5227233548967574, 2.601192198558753, 2.151954078235195, 2.950145000201545, 2.743363468030005, 2.3502406393111297, 2.6655969538822006, 2.4445656569002083, 3.1185175712206585, 2.502220265409385, 2.2732525025000796, 2.4458310091884843, 2.981328775634864, 2.6985966353462065, 3.1783515671867404, 2.961439295812549, 3.0594629802043856, 2.788083594714586, 3.0203218470107913, 3.8364381271245556, 3.1290456009657435, 3.4783887761149104, 2.9272007722541726, 3.0240831282868257, 3.2314911318252797, 2.275706036785485, 1.9832580898266958, 2.356092761482243, 2.7863313887807153, 2.554890828490876, 2.1521445389952056, 2.122812771817827, 1.9411866939124935, 2.6770163540979883, 2.1348662811660524, 2.5736692131365446, 2.4113102717346555, 2.7049510195381075, 2.031225855925026, 2.583511800291379, 2.5719401614964656, 2.702170655366782, 2.032279337833257, 2.187843937039845, 2.1812843056383207, 2.374414927940634, 2.063672041208658, 2.252201880140564, 2.557399876202796, 2.4573514812542494, 2.305846294098473, 2.2714880413395644, 2.363989866113451, 2.463903234347484, 2.1979147050502927, 2.612005324063045, 3.1275396360295415, 3.5620438497512685, 3.1722118963745576, 3.1604070555085104, 2.602901435507373, 2.5734740769235693, 2.6211974417476114, 2.777184407137468, 3.182352793586981, 2.8355278837694655, 2.9850283656235166, 2.7249898886747506, 2.0550396690249917, 2.0059848235868523, 2.2330301787927667, 1.9940926566434771, 2.6868316476860987, 1.670794475511618, 2.022441397708773, 3.092456579827658, 2.1077081846390042, 2.2082569239838303, 2.9221783372940577, 2.233511303922529, 2.6959135648326087, 2.3353461945452443, 2.095904407116119, 2.6443628389456544, 3.28756572742666, 2.6817730731806697, 3.01747660545866, 2.1469217319647584, 2.690199136503282, 2.78048873485619, 2.3925249662467696, 2.205233723510143, 2.7564304157416344, 2.3125511421206038, 3.2180177652330775, 2.238321108440601, 2.459810177675398, 2.9757972460674846, 2.711716930868647, 2.8328738047846, 3.600828454369825, 2.651708188867772, 3.4865880112468726, 3.2598822167986956, 3.2854853177268843, 2.7088002340065582, 3.0745849195457664, 3.237671518377612, 3.3085822574718646, 1.7178567073065787, 1.957069655762836, 2.5760335962800722, 2.29804322496208, 2.634066725709619, 2.156278077634508, 2.5353150289257256, 2.2862434886255207, 2.192687719091073, 2.6062384504594784, 2.709272936619248, 2.1285905830485192, 2.5160078731102353, 2.422597571907605, 2.1054628609817962, 2.1514543917905398, 2.584872412577438, 2.278556226125223, 2.436896335781644, 2.4970869815613748, 2.470911040237711, 2.2066667975581646, 3.199426340423506, 2.3734626238888086, 2.739435612453217, 2.2148184507716504, 2.449852153772815, 2.205729519892497, 2.866584266076247, 2.1523327377379684, 2.8101271256944504, 2.5460506958235793, 3.181826119658518, 2.622863146894391, 3.39353062736691, 2.6488084511362984, 2.9018453868960137, 2.785132904938807, 3.0682898361902304, 2.9922218497755275, 2.1466922107266173, 2.3547703442864925, 2.7155645861650473, 2.84386590311968, 2.428606646885914, 2.6246665498018293, 2.4438273463372946, 2.419048659520974, 2.6722152160090036, 2.6138050052296267, 2.766439613885741, 2.08644859310098, 3.255701966600405, 2.362403477107008, 2.858792537278919, 2.305989266875788, 2.678703918433889, 2.8342308223799866, 2.6789330247047047, 1.9326527229057409, 2.6508595447771977, 2.4250324428453736, 2.4010770578011655, 3.723760709787971, 2.424706833465507, 2.964828368618281, 2.2724563461280898, 2.3223992107654174, 2.439616163166938, 3.160838019790815, 3.069781515579648, 2.8628365713191144, 2.8277816909311917, 3.382352966112763, 2.789118073699714, 3.006354716044985, 3.13911380935155, 3.0286867955523644, 2.9705523676327603, 3.327024425920938, 3.233250926239401, 2.3590830638601035, 2.522212890486585, 2.1858552614488893, 2.7995344661315205, 2.8094222769950243, 2.492539059026584, 2.6719610981932203, 2.2628383506945187, 2.3281810702192787, 2.5120994246721335, 2.6100329797655757, 3.5417160622835304, 1.9798170699630582, 2.246966847219835, 1.962764341139866, 2.1111024994043275, 2.9263282121586744, 3.2495484448052916, 2.811436633796396, 2.2777813360186685, 2.126792051146192, 2.713583566131427, 2.5287114367799033, 2.7650121237575522, 2.522145061902278, 2.2647192830470333, 2.4997769002839094, 2.8688529479800877, 2.467170193519672, 2.001943312817316, 2.3078112743772783, 2.918143263463887, 3.1134993726974654, 2.5040822555696978, 2.662413831864863, 2.7063539753531063, 2.4720872083028507, 3.335847474021848, 4.149109524237741, 3.249691813725805, 2.8095739080124362, 3.0900564911020654, 2.7124148474708427, 2.8057279291741466, 2.565222115627162, 2.689245345837349, 3.016803657428588, 2.439250210506002, 2.0815858378208287, 2.8863723299864126, 2.5426176034666375, 2.4149329671361452, 2.7306412520898897, 2.339940275953515, 3.2280011755105136, 2.502640888638743, 2.4268173455105972, 2.475257607310121, 2.9216323543657556, 2.4467170207902993, 2.362488623593274, 3.329840077261715, 2.612270916232088, 2.504956197942977, 2.2933555114735893, 3.4450621547493654, 1.8539703983685478, 1.8834924802435493, 2.257415715487434, 2.058990913846041, 2.810157640148343, 2.893250739409122, 2.700794094881806, 2.908927446940605, 3.0191594362766128, 3.0025697621167695, 3.048001337061372, 2.7904658027272085, 2.6980549204536577, 2.7512108369292165, 3.0937285537911396, 2.7969386803832883, 2.192889357612782, 2.6031682987348788, 1.9123661116762416, 2.453619769454384, 2.7770486502480245, 2.7111563145548065, 2.5076687538117346, 2.8754604702078193, 1.8718337107705942, 2.1479101531446534, 2.8884686589312087, 2.3705201581413013, 2.446284715744902, 2.108440295867477, 2.7587889413009616, 2.563706804715608, 2.4450297976133735, 2.264938686205347, 2.8916405687068067, 2.2628383506945187, 2.236810000250498, 2.808086085278121, 1.911080612643824, 2.9030462272213846, 2.7848832546790514, 2.304779600116191, 2.080496977440766, 2.227205141922129, 2.459180440187451, 2.6246460011630703, 2.660317537067368, 2.977524632247008, 3.867587527739636, 3.2236893355624057, 2.878255439988322, 2.782569454189188, 3.0943205559402704, 2.6988396130667422, 3.1034103612443538, 2.3390310336279416, 1.712008012192322, 1.9623140244891697, 2.1703160708230875, 2.050369107399347, 2.9799222335319056, 2.3507077049261778, 2.8631678388857034, 2.1070915870606495, 2.227692400913206, 2.5660801193453864, 2.325893604787389, 2.292604412973544, 2.511964418868982, 2.380461086341946, 2.31759914815629, 2.3097660090417858, 2.904335015773319, 2.2617986500784237, 2.100136594623571, 1.863244968324527, 2.1851889344030555, 2.2757971600005424, 2.1886873820870156, 2.286816358996038, 2.685477912803405, 2.5518979111261637, 2.4061805415346575, 2.236237609957039, 2.353370903713578, 2.5026841111557125, 2.758798032152104, 3.2256948493839053, 2.8493205235230645, 3.1420909266890105, 2.4515300991083895, 2.965875353946629, 3.4531593860176666, 2.896392718042509, 3.023268615642359, 2.8512200931456366, 3.1226085994691286, 2.118783860139134, 2.382029152821515, 2.284426111146348, 2.410160231238705, 2.3916152725789783, 2.3602346879890623, 2.746546394265617, 2.554435534075814, 2.8503220102303297, 1.7603470957354854, 2.1598170951271807, 2.968611459598106, 2.3160826290535645, 2.73146683127387, 2.3216057016247893, 1.9381697628451702, 2.6866495396991255, 2.735226916940559, 2.246361190332778, 2.2354713096693613, 2.380283248890463, 2.12130036079968, 1.745783248338086, 2.035347733885787, 2.0653178589246743, 2.890430489954267, 2.2036491515508985, 2.798609193236516, 2.29317462454471, 2.3583260013583778, 2.438820724413215, 2.5315930836713467, 2.770757029704609, 3.056055657661427, 3.179751504880944, 3.2039593678546288, 2.56506398143865, 2.3810998475390117, 3.0721145425806213, 2.8754604702078193, 3.1142542136657942, 2.966304028001706, 3.029726067119851, 3.337843761307552, 3.064403263690328, 2.9810211700517, 2.8969291630154883, 2.305135637005462, 2.0987967948680053, 2.7405633749073335, 1.7314934927899677, 2.1288214689724883, 1.8357721206601259, 2.562065873070868, 2.465121996509019, 2.784567787491018, 2.1681637892029273, 2.336619907875727, 1.8397719562897357, 2.9039205485208104, 2.4048332746515957, 2.20578526982283, 2.72630255848018, 2.3635142004569896, 2.555402017295951, 2.079528723756208, 2.200156494622335, 2.4610270044021836, 2.1469217319647584, 2.2724563461280898, 1.8277526450558126, 1.9179035971034497, 2.2615709676254885, 2.6701675973423016, 2.278596090086734, 2.38140854443276, 2.4376510569803007, 2.7039030661899375, 2.9877552430094267, 2.985702563852504, 2.9723497726022696, 3.2191343847038354, 2.645345116274806, 2.7378448531834056, 2.703486830781395, 2.710200468665543, 3.7229268492766865, 3.205205704491658, 3.1648969544372116, 3.154483702961255, 3.4022664679659496, 3.0994823539809087, 3.645806264745638, 2.802214166216161, 2.354486700215753, 2.953565558184159, 2.207697129751583, 2.3121888970339777, 2.52159685483888, 2.112904359913735, 2.402362098093149, 2.543427890649767, 1.8646099008269845, 2.692202569415141, 2.3402644036588915, 2.330661346090603, 2.3027713657155133, 2.551342662619754, 2.33623592831968, 1.9452496570375843, 2.9633422882797507, 2.405346419186471, 1.7634627941622485, 2.0473125818730247, 2.057792623963898, 2.9632900372826785, 3.281753993351209, 2.3776220120345255, 2.0501446624234223, 2.4022323584876504, 2.532911427617815, 2.0925294517301576, 3.159100249574743, 2.3753095811020324, 2.757997215381663, 2.8080836627783587, 2.8533610099345195, 3.2505543223933544, 3.0507209132463613, 2.598531915086681, 2.7476214707822795, 3.01324506459906, 2.9111706178201233, 3.437401696023801, 2.0470089322959226, 2.896972831524873, 2.942354857017151, 1.8196168636088978, 2.3810653043785166, 1.7967200747585779, 2.9031002452883983, 2.066337700209344, 2.4172036128859022, 2.064676573550286, 2.735337998080792, 2.412027075781963, 2.4926891732754544, 2.216016998906213, 2.28404782157886, 2.5409877383417188, 2.135476499669795, 2.3048769057732437, 2.750792546597335, 2.607623450908795, 2.22821578761644, 2.330872263910426, 3.075939385523424, 2.3158795128375416, 2.1201195171859495, 3.242543234912981, 2.1151717959735894, 2.606580688402966, 2.3439309987447663, 2.4062621972365914, 2.5949976191464352, 2.543188854596651, 2.8324204038889014, 2.901166206151217, 2.8502581602727766, 4.20174493880449, 2.5466580542925876, 3.5058888359315525, 3.3272299061808015, 3.1261317047569896, 2.6385754115736915, 2.317481974528925, 2.0566799170518637, 2.2036491515508985, 2.425417015742115, 2.3052176897006307, 2.6916033451037342, 2.1034903582380644, 2.597425648874415, 2.0715821291319796, 2.2112112982094954, 2.2054477106367827, 2.322001746688028, 2.3680255966988653, 3.0698835871782584, 2.6557187229524333, 3.039957754393668, 2.849371398765498, 2.4086016191370696, 2.4414589006970675, 2.0967135293924084, 2.0352612294151653, 2.2740377016230795, 2.0814136305308706, 2.312668259874566, 2.2997402021743283, 2.5379606214147854, 2.6531952978500177, 2.347487493152799, 2.3810998475390117, 2.394398825880194, 2.724168427464823, 2.579350694740834, 3.5707630493174807, 2.6437347560542825, 2.728825510683686, 2.6641282332261187, 3.1657491150736297, 2.6009222708363624, 3.5263055233286718, 2.972674550886574, 3.188556690260668, 2.147141304894639, 2.201526360775155, 2.4958239060938423, 2.0811102773946986, 2.6031521789507837, 2.0119478578143957, 1.8462831158878286, 2.517772937988683, 2.7607851350607464, 2.88326493634628, 2.6390681197745027, 2.180335780318768, 2.8945721271653624, 2.7004305377637357, 2.489095842586173, 2.3194015251260685, 1.9718842422515344, 2.4830293206639626, 2.624926000190761, 2.263712728041367, 2.264624761974062, 2.515304648846442, 2.24931143739506, 2.147595880378561, 2.1408710870291885, 2.7430097465827727, 2.820392373506182, 2.696082886474859, 2.0988650886310465, 3.0301584213205617, 3.199203569317422, 2.976706014246864, 2.9933132623474683, 3.475285068431555, 2.8474100524989843, 3.7551599540306078, 2.821277466013471, 3.176239888002215, 2.733218319861322, 3.3995250047883943, 3.132400418813795, 2.2712481506442717, 2.390296981325699, 2.424451904984455, 2.4774815688977005, 2.1664111074194, 2.275207921673954, 2.365173643921148, 2.336328193617043, 2.5734137736281957, 1.7745144307173797, 2.5705724734182405, 2.222862966035616, 2.6081503476908114, 2.270442003637645, 2.4665447300273904, 2.195641209949288, 2.2728474509477605, 2.2249666201196634, 2.5564281839944707, 2.9764030830671278, 2.885736814589403, 2.9041399672570702, 2.2443370015789, 2.7071758072239644, 2.693994437425867, 2.34216101122731, 2.989357693479052, 2.580666495859321, 1.9126208936714262, 2.732238723821522, 2.984238273619741, 3.0474362709970944, 2.620138100139422, 2.797025534134481, 2.933212261312148, 3.0338788132946677, 2.8050318162771095, 3.033160795908822, 3.262450557278054, 2.778977853274441, 2.152825065800237, 2.528006654287786, 2.6679767083861625, 2.425961496241043, 2.217980075629129, 2.2147854505273217, 2.0267056609913605, 2.5136218775568393, 2.490160393275628, 2.276411963561266, 1.6858337424085643, 2.3345484112141617, 2.1332191430969223, 2.620081959787955, 1.5749007142192488, 3.003479511937338, 2.065598047946426, 2.191215789507205, 2.312668259874566, 2.504162826325831, 2.257043482014767, 3.1113208251375277, 2.6542466455571265, 2.3329143827625636, 2.0224286737352988, 2.7599468230768895, 2.0742613849952063, 1.9785593670190798, 2.703486830781395, 2.7659076765893182, 2.7780733043006616, 2.7282748294162977, 2.9521367263632845, 2.710770514994322, 2.635876612458842, 3.7229268492766865, 2.855892759675835, 3.0718512970456597, 2.7460090870675637, 2.982053644321224, 3.0690286245436975, 3.1309388729933145, 2.9563560939704994, 3.045692001247509, 2.551454164764775, 2.4306962885320527, 2.522780776699521, 1.8965753390556057, 2.42539392085421, 2.1970203021524757, 2.4808411144395364, 2.8314551465598874, 2.7029515550597085, 3.0258616191240058, 2.2521422574987495, 2.1497005838372583, 2.3839374318043145, 2.218208476167359, 2.4709394025773164, 3.3413518223581584, 2.2115268220843998, 2.4377871980954238, 2.0305827900644213, 2.4601568457393554, 2.0466377128596394, 2.7960717175969383, 3.018500518830033, 2.847345028597241, 2.5092001186237867, 2.796940686151966, 2.386106679675825, 2.766054287885617, 2.4045806802967826, 2.9563296511926542, 2.753574882824137, 2.6767479399126284, 2.849340680895977, 2.4959338790806584, 2.954420652015134, 2.936121717198358, 3.0195138405478468, 3.280048564737321, 2.8084871195578645, 3.2401713331447417, 3.490472427032142, 2.8583490507345166, 2.5130232590139294, 2.3915666920846803, 2.486867454686828, 2.5101741889987688, 2.3921153172641803, 1.9790710857758305, 1.9622611931004568, 2.1933835668240813, 3.0098338853889857, 2.511038371801606, 2.7481451083552026, 2.2474499347331176, 2.4063738201863734, 2.1833477996201545, 2.2539304411877796, 1.6037988884695409, 2.5969888704039445, 3.058892052742777, 2.5918828006460615, 2.127883474846497, 2.72018111428504, 2.6439405774131814, 2.270442003637645, 2.355157410926435, 2.318263135505774, 2.1200386065261285, 2.364402898299086, 2.114019343010547, 2.270779065763735, 1.9785593670190798, 2.6567707624156336, 2.882692362924985, 3.0193628146212648, 2.6128319590257143, 2.5147515254172865, 2.880886663624696, 3.0000690177078844, 2.72193998376025, 2.676802289461902, 3.0013648976012486, 2.8523875586445726, 3.1431406940156226, 3.194734531697895, 2.7865203467585005, 2.786440130513849, 3.597022279798284], \"Category\": [\"Default\", \"Default\", \"Default\", \"Default\", \"Default\", \"Default\", \"Default\", \"Default\", \"Default\", \"Default\", \"Default\", \"Default\", \"Default\", \"Default\", \"Default\", \"Default\", \"Default\", \"Default\", \"Default\", \"Default\", \"Default\", \"Default\", \"Default\", \"Default\", \"Default\", \"Default\", \"Default\", \"Default\", \"Default\", \"Default\", \"Topic1\", \"Topic1\", \"Topic1\", \"Topic1\", \"Topic1\", \"Topic1\", \"Topic1\", \"Topic1\", \"Topic1\", \"Topic1\", \"Topic1\", \"Topic1\", \"Topic1\", \"Topic1\", \"Topic1\", \"Topic1\", \"Topic1\", \"Topic1\", \"Topic1\", \"Topic1\", \"Topic1\", \"Topic1\", \"Topic1\", \"Topic1\", \"Topic1\", \"Topic1\", \"Topic1\", \"Topic1\", \"Topic1\", \"Topic1\", \"Topic1\", \"Topic1\", \"Topic1\", \"Topic1\", \"Topic1\", \"Topic1\", \"Topic1\", \"Topic1\", \"Topic1\", \"Topic1\", \"Topic1\", \"Topic1\", \"Topic1\", \"Topic1\", \"Topic1\", \"Topic2\", \"Topic2\", \"Topic2\", \"Topic2\", \"Topic2\", \"Topic2\", \"Topic2\", \"Topic2\", \"Topic2\", \"Topic2\", \"Topic2\", \"Topic2\", \"Topic2\", \"Topic2\", \"Topic2\", \"Topic2\", \"Topic2\", \"Topic2\", \"Topic2\", \"Topic2\", \"Topic2\", \"Topic2\", \"Topic2\", \"Topic2\", \"Topic2\", \"Topic2\", \"Topic2\", \"Topic2\", \"Topic2\", \"Topic2\", \"Topic2\", \"Topic2\", \"Topic2\", \"Topic2\", \"Topic2\", \"Topic2\", \"Topic2\", \"Topic2\", \"Topic2\", \"Topic2\", \"Topic2\", \"Topic3\", \"Topic3\", \"Topic3\", \"Topic3\", \"Topic3\", \"Topic3\", \"Topic3\", \"Topic3\", \"Topic3\", \"Topic3\", \"Topic3\", \"Topic3\", \"Topic3\", \"Topic3\", \"Topic3\", \"Topic3\", \"Topic3\", \"Topic3\", \"Topic3\", \"Topic3\", \"Topic3\", \"Topic3\", \"Topic3\", \"Topic3\", \"Topic3\", \"Topic3\", \"Topic3\", \"Topic3\", \"Topic3\", \"Topic3\", \"Topic3\", \"Topic3\", \"Topic3\", \"Topic3\", \"Topic3\", \"Topic3\", \"Topic3\", \"Topic3\", \"Topic3\", \"Topic3\", \"Topic3\", \"Topic3\", \"Topic3\", \"Topic3\", \"Topic3\", \"Topic4\", \"Topic4\", \"Topic4\", \"Topic4\", \"Topic4\", \"Topic4\", \"Topic4\", \"Topic4\", \"Topic4\", \"Topic4\", \"Topic4\", \"Topic4\", \"Topic4\", \"Topic4\", \"Topic4\", \"Topic4\", \"Topic4\", \"Topic4\", \"Topic4\", \"Topic4\", \"Topic4\", \"Topic4\", \"Topic4\", \"Topic4\", \"Topic4\", \"Topic4\", \"Topic4\", \"Topic4\", \"Topic4\", \"Topic4\", \"Topic4\", \"Topic4\", \"Topic4\", \"Topic4\", \"Topic4\", \"Topic4\", \"Topic4\", \"Topic4\", \"Topic4\", \"Topic4\", \"Topic4\", \"Topic4\", \"Topic4\", \"Topic5\", \"Topic5\", \"Topic5\", \"Topic5\", \"Topic5\", \"Topic5\", \"Topic5\", \"Topic5\", \"Topic5\", \"Topic5\", \"Topic5\", \"Topic5\", \"Topic5\", \"Topic5\", \"Topic5\", \"Topic5\", \"Topic5\", \"Topic5\", \"Topic5\", \"Topic5\", \"Topic5\", \"Topic5\", \"Topic5\", \"Topic5\", \"Topic5\", \"Topic5\", \"Topic5\", \"Topic5\", \"Topic5\", \"Topic5\", \"Topic5\", \"Topic5\", \"Topic5\", \"Topic5\", \"Topic5\", \"Topic5\", \"Topic5\", \"Topic5\", \"Topic5\", \"Topic5\", \"Topic5\", \"Topic5\", \"Topic6\", \"Topic6\", \"Topic6\", \"Topic6\", \"Topic6\", \"Topic6\", \"Topic6\", \"Topic6\", \"Topic6\", \"Topic6\", \"Topic6\", \"Topic6\", \"Topic6\", \"Topic6\", \"Topic6\", \"Topic6\", \"Topic6\", \"Topic6\", \"Topic6\", \"Topic6\", \"Topic6\", \"Topic6\", \"Topic6\", \"Topic6\", \"Topic6\", \"Topic6\", \"Topic6\", \"Topic6\", \"Topic6\", \"Topic6\", \"Topic6\", \"Topic6\", \"Topic6\", \"Topic6\", \"Topic6\", \"Topic6\", \"Topic6\", \"Topic6\", \"Topic6\", \"Topic6\", \"Topic6\", \"Topic6\", \"Topic6\", \"Topic6\", \"Topic6\", \"Topic6\", \"Topic6\", \"Topic7\", \"Topic7\", \"Topic7\", \"Topic7\", \"Topic7\", \"Topic7\", \"Topic7\", \"Topic7\", \"Topic7\", \"Topic7\", \"Topic7\", \"Topic7\", \"Topic7\", \"Topic7\", \"Topic7\", \"Topic7\", \"Topic7\", \"Topic7\", \"Topic7\", \"Topic7\", \"Topic7\", \"Topic7\", \"Topic7\", \"Topic7\", \"Topic7\", \"Topic7\", \"Topic7\", \"Topic7\", \"Topic7\", \"Topic7\", \"Topic7\", \"Topic7\", \"Topic7\", \"Topic7\", \"Topic7\", \"Topic7\", \"Topic7\", \"Topic7\", \"Topic7\", \"Topic7\", \"Topic7\", \"Topic8\", \"Topic8\", \"Topic8\", \"Topic8\", \"Topic8\", \"Topic8\", \"Topic8\", \"Topic8\", \"Topic8\", \"Topic8\", \"Topic8\", \"Topic8\", \"Topic8\", \"Topic8\", \"Topic8\", \"Topic8\", \"Topic8\", \"Topic8\", \"Topic8\", \"Topic8\", \"Topic8\", \"Topic8\", \"Topic8\", \"Topic8\", \"Topic8\", \"Topic8\", \"Topic8\", \"Topic8\", \"Topic8\", \"Topic8\", \"Topic8\", \"Topic8\", \"Topic8\", \"Topic8\", \"Topic8\", \"Topic8\", \"Topic8\", \"Topic8\", \"Topic8\", \"Topic8\", \"Topic8\", \"Topic9\", \"Topic9\", \"Topic9\", \"Topic9\", \"Topic9\", \"Topic9\", \"Topic9\", \"Topic9\", \"Topic9\", \"Topic9\", \"Topic9\", \"Topic9\", \"Topic9\", \"Topic9\", \"Topic9\", \"Topic9\", \"Topic9\", \"Topic9\", \"Topic9\", \"Topic9\", \"Topic9\", \"Topic9\", \"Topic9\", \"Topic9\", \"Topic9\", \"Topic9\", \"Topic9\", \"Topic9\", \"Topic9\", \"Topic9\", \"Topic9\", \"Topic9\", \"Topic9\", \"Topic9\", \"Topic9\", \"Topic9\", \"Topic9\", \"Topic9\", \"Topic9\", \"Topic9\", \"Topic9\", \"Topic10\", \"Topic10\", \"Topic10\", \"Topic10\", \"Topic10\", \"Topic10\", \"Topic10\", \"Topic10\", \"Topic10\", \"Topic10\", \"Topic10\", \"Topic10\", \"Topic10\", \"Topic10\", \"Topic10\", \"Topic10\", \"Topic10\", \"Topic10\", \"Topic10\", \"Topic10\", \"Topic10\", \"Topic10\", \"Topic10\", \"Topic10\", \"Topic10\", \"Topic10\", \"Topic10\", \"Topic10\", \"Topic10\", \"Topic10\", \"Topic10\", \"Topic10\", \"Topic10\", \"Topic10\", \"Topic10\", \"Topic10\", \"Topic10\", \"Topic10\", \"Topic10\", \"Topic10\", \"Topic11\", \"Topic11\", \"Topic11\", \"Topic11\", \"Topic11\", \"Topic11\", \"Topic11\", \"Topic11\", \"Topic11\", \"Topic11\", \"Topic11\", \"Topic11\", \"Topic11\", \"Topic11\", \"Topic11\", \"Topic11\", \"Topic11\", \"Topic11\", \"Topic11\", \"Topic11\", \"Topic11\", \"Topic11\", \"Topic11\", \"Topic11\", \"Topic11\", \"Topic11\", \"Topic11\", \"Topic11\", \"Topic11\", \"Topic11\", \"Topic11\", \"Topic11\", \"Topic11\", \"Topic11\", \"Topic11\", \"Topic11\", \"Topic11\", \"Topic11\", \"Topic11\", \"Topic11\", \"Topic11\", \"Topic12\", \"Topic12\", \"Topic12\", \"Topic12\", \"Topic12\", \"Topic12\", \"Topic12\", \"Topic12\", \"Topic12\", \"Topic12\", \"Topic12\", \"Topic12\", \"Topic12\", \"Topic12\", \"Topic12\", \"Topic12\", \"Topic12\", \"Topic12\", \"Topic12\", \"Topic12\", \"Topic12\", \"Topic12\", \"Topic12\", \"Topic12\", \"Topic12\", \"Topic12\", \"Topic12\", \"Topic12\", \"Topic12\", \"Topic12\", \"Topic12\", \"Topic12\", \"Topic12\", \"Topic12\", \"Topic12\", \"Topic12\", \"Topic12\", \"Topic12\", \"Topic12\", \"Topic12\", \"Topic12\", \"Topic13\", \"Topic13\", \"Topic13\", \"Topic13\", \"Topic13\", \"Topic13\", \"Topic13\", \"Topic13\", \"Topic13\", \"Topic13\", \"Topic13\", \"Topic13\", \"Topic13\", \"Topic13\", \"Topic13\", \"Topic13\", \"Topic13\", \"Topic13\", \"Topic13\", \"Topic13\", \"Topic13\", \"Topic13\", \"Topic13\", \"Topic13\", \"Topic13\", \"Topic13\", \"Topic13\", \"Topic13\", \"Topic13\", \"Topic13\", \"Topic13\", \"Topic13\", \"Topic13\", \"Topic13\", \"Topic13\", \"Topic13\", \"Topic13\", \"Topic13\", \"Topic13\", \"Topic13\", \"Topic13\", \"Topic14\", \"Topic14\", \"Topic14\", \"Topic14\", \"Topic14\", \"Topic14\", \"Topic14\", \"Topic14\", \"Topic14\", \"Topic14\", \"Topic14\", \"Topic14\", \"Topic14\", \"Topic14\", \"Topic14\", \"Topic14\", \"Topic14\", \"Topic14\", \"Topic14\", \"Topic14\", \"Topic14\", \"Topic14\", \"Topic14\", \"Topic14\", \"Topic14\", \"Topic14\", \"Topic14\", \"Topic14\", \"Topic14\", \"Topic14\", \"Topic14\", \"Topic14\", \"Topic14\", \"Topic14\", \"Topic14\", \"Topic14\", \"Topic14\", \"Topic14\", \"Topic14\", \"Topic14\", \"Topic14\", \"Topic14\", \"Topic15\", \"Topic15\", \"Topic15\", \"Topic15\", \"Topic15\", \"Topic15\", \"Topic15\", \"Topic15\", \"Topic15\", \"Topic15\", \"Topic15\", \"Topic15\", \"Topic15\", \"Topic15\", \"Topic15\", \"Topic15\", \"Topic15\", \"Topic15\", \"Topic15\", \"Topic15\", \"Topic15\", \"Topic15\", \"Topic15\", \"Topic15\", \"Topic15\", \"Topic15\", \"Topic15\", \"Topic15\", \"Topic15\", \"Topic15\", \"Topic15\", \"Topic15\", \"Topic15\", \"Topic15\", \"Topic15\", \"Topic15\", \"Topic15\", \"Topic15\", \"Topic15\", \"Topic15\", \"Topic16\", \"Topic16\", \"Topic16\", \"Topic16\", \"Topic16\", \"Topic16\", \"Topic16\", \"Topic16\", \"Topic16\", \"Topic16\", \"Topic16\", \"Topic16\", \"Topic16\", \"Topic16\", \"Topic16\", \"Topic16\", \"Topic16\", \"Topic16\", \"Topic16\", \"Topic16\", \"Topic16\", \"Topic16\", \"Topic16\", \"Topic16\", \"Topic16\", \"Topic16\", \"Topic16\", \"Topic16\", \"Topic16\", \"Topic16\", \"Topic16\", \"Topic16\", \"Topic16\", \"Topic16\", \"Topic16\", \"Topic16\", \"Topic16\", \"Topic16\", \"Topic16\", \"Topic16\", \"Topic16\", \"Topic16\", \"Topic16\", \"Topic16\", \"Topic16\", \"Topic17\", \"Topic17\", \"Topic17\", \"Topic17\", \"Topic17\", \"Topic17\", \"Topic17\", \"Topic17\", \"Topic17\", \"Topic17\", \"Topic17\", \"Topic17\", \"Topic17\", \"Topic17\", \"Topic17\", \"Topic17\", \"Topic17\", \"Topic17\", \"Topic17\", \"Topic17\", \"Topic17\", \"Topic17\", \"Topic17\", \"Topic17\", \"Topic17\", \"Topic17\", \"Topic17\", \"Topic17\", \"Topic17\", \"Topic17\", \"Topic17\", \"Topic17\", \"Topic17\", \"Topic17\", \"Topic17\", \"Topic17\", \"Topic17\", \"Topic17\", \"Topic17\", \"Topic17\", \"Topic18\", \"Topic18\", \"Topic18\", \"Topic18\", \"Topic18\", \"Topic18\", \"Topic18\", \"Topic18\", \"Topic18\", \"Topic18\", \"Topic18\", \"Topic18\", \"Topic18\", \"Topic18\", \"Topic18\", \"Topic18\", \"Topic18\", \"Topic18\", \"Topic18\", \"Topic18\", \"Topic18\", \"Topic18\", \"Topic18\", \"Topic18\", \"Topic18\", \"Topic18\", \"Topic18\", \"Topic18\", \"Topic18\", \"Topic18\", \"Topic18\", \"Topic18\", \"Topic18\", \"Topic18\", \"Topic18\", \"Topic18\", \"Topic18\", \"Topic18\", \"Topic18\", \"Topic18\", \"Topic18\", \"Topic18\", \"Topic18\", \"Topic19\", \"Topic19\", \"Topic19\", \"Topic19\", \"Topic19\", \"Topic19\", \"Topic19\", \"Topic19\", \"Topic19\", \"Topic19\", \"Topic19\", \"Topic19\", \"Topic19\", \"Topic19\", \"Topic19\", \"Topic19\", \"Topic19\", \"Topic19\", \"Topic19\", \"Topic19\", \"Topic19\", \"Topic19\", \"Topic19\", \"Topic19\", \"Topic19\", \"Topic19\", \"Topic19\", \"Topic19\", \"Topic19\", \"Topic19\", \"Topic19\", \"Topic19\", \"Topic19\", \"Topic19\", \"Topic19\", \"Topic19\", \"Topic19\", \"Topic19\", \"Topic19\", \"Topic19\", \"Topic19\", \"Topic19\", \"Topic19\", \"Topic19\", \"Topic19\", \"Topic19\", \"Topic20\", \"Topic20\", \"Topic20\", \"Topic20\", \"Topic20\", \"Topic20\", \"Topic20\", \"Topic20\", \"Topic20\", \"Topic20\", \"Topic20\", \"Topic20\", \"Topic20\", \"Topic20\", \"Topic20\", \"Topic20\", \"Topic20\", \"Topic20\", \"Topic20\", \"Topic20\", \"Topic20\", \"Topic20\", \"Topic20\", \"Topic20\", \"Topic20\", \"Topic20\", \"Topic20\", \"Topic20\", \"Topic20\", \"Topic20\", \"Topic20\", \"Topic20\", \"Topic20\", \"Topic20\", \"Topic20\", \"Topic20\", \"Topic20\", \"Topic20\", \"Topic20\", \"Topic20\", \"Topic20\", \"Topic21\", \"Topic21\", \"Topic21\", \"Topic21\", \"Topic21\", \"Topic21\", \"Topic21\", \"Topic21\", \"Topic21\", \"Topic21\", \"Topic21\", \"Topic21\", \"Topic21\", \"Topic21\", \"Topic21\", \"Topic21\", \"Topic21\", \"Topic21\", \"Topic21\", \"Topic21\", \"Topic21\", \"Topic21\", \"Topic21\", \"Topic21\", \"Topic21\", \"Topic21\", \"Topic21\", \"Topic21\", \"Topic21\", \"Topic21\", \"Topic21\", \"Topic21\", \"Topic21\", \"Topic21\", \"Topic21\", \"Topic21\", \"Topic21\", \"Topic21\", \"Topic21\", \"Topic21\", \"Topic21\", \"Topic21\", \"Topic21\", \"Topic21\", \"Topic21\", \"Topic21\", \"Topic22\", \"Topic22\", \"Topic22\", \"Topic22\", \"Topic22\", \"Topic22\", \"Topic22\", \"Topic22\", \"Topic22\", \"Topic22\", \"Topic22\", \"Topic22\", \"Topic22\", \"Topic22\", \"Topic22\", \"Topic22\", \"Topic22\", \"Topic22\", \"Topic22\", \"Topic22\", \"Topic22\", \"Topic22\", \"Topic22\", \"Topic22\", \"Topic22\", \"Topic22\", \"Topic22\", \"Topic22\", \"Topic22\", \"Topic22\", \"Topic22\", \"Topic22\", \"Topic22\", \"Topic22\", \"Topic22\", \"Topic22\", \"Topic22\", \"Topic22\", \"Topic23\", \"Topic23\", \"Topic23\", \"Topic23\", \"Topic23\", \"Topic23\", \"Topic23\", \"Topic23\", \"Topic23\", \"Topic23\", \"Topic23\", \"Topic23\", \"Topic23\", \"Topic23\", \"Topic23\", \"Topic23\", \"Topic23\", \"Topic23\", \"Topic23\", \"Topic23\", \"Topic23\", \"Topic23\", \"Topic23\", \"Topic23\", \"Topic23\", \"Topic23\", \"Topic23\", \"Topic23\", \"Topic23\", \"Topic23\", \"Topic23\", \"Topic23\", \"Topic23\", \"Topic23\", \"Topic23\", \"Topic23\", \"Topic23\", \"Topic23\", \"Topic23\", \"Topic23\", \"Topic23\", \"Topic23\", \"Topic23\", \"Topic23\", \"Topic23\", \"Topic23\", \"Topic23\", \"Topic24\", \"Topic24\", \"Topic24\", \"Topic24\", \"Topic24\", \"Topic24\", \"Topic24\", \"Topic24\", \"Topic24\", \"Topic24\", \"Topic24\", \"Topic24\", \"Topic24\", \"Topic24\", \"Topic24\", \"Topic24\", \"Topic24\", \"Topic24\", \"Topic24\", \"Topic24\", \"Topic24\", \"Topic24\", \"Topic24\", \"Topic24\", \"Topic24\", \"Topic24\", \"Topic24\", \"Topic24\", \"Topic24\", \"Topic24\", \"Topic24\", \"Topic24\", \"Topic24\", \"Topic24\", \"Topic24\", \"Topic24\", \"Topic24\", \"Topic24\", \"Topic24\", \"Topic24\", \"Topic24\", \"Topic24\", \"Topic24\", \"Topic24\", \"Topic24\", \"Topic24\", \"Topic24\", \"Topic24\", \"Topic25\", \"Topic25\", \"Topic25\", \"Topic25\", \"Topic25\", \"Topic25\", \"Topic25\", \"Topic25\", \"Topic25\", \"Topic25\", \"Topic25\", \"Topic25\", \"Topic25\", \"Topic25\", \"Topic25\", \"Topic25\", \"Topic25\", \"Topic25\", \"Topic25\", \"Topic25\", \"Topic25\", \"Topic25\", \"Topic25\", \"Topic25\", \"Topic25\", \"Topic25\", \"Topic25\", \"Topic25\", \"Topic25\", \"Topic25\", \"Topic25\", \"Topic25\", \"Topic25\", \"Topic25\", \"Topic25\", \"Topic25\", \"Topic25\", \"Topic25\", \"Topic25\", \"Topic25\", \"Topic25\", \"Topic25\", \"Topic26\", \"Topic26\", \"Topic26\", \"Topic26\", \"Topic26\", \"Topic26\", \"Topic26\", \"Topic26\", \"Topic26\", \"Topic26\", \"Topic26\", \"Topic26\", \"Topic26\", \"Topic26\", \"Topic26\", \"Topic26\", \"Topic26\", \"Topic26\", \"Topic26\", \"Topic26\", \"Topic26\", \"Topic26\", \"Topic26\", \"Topic26\", \"Topic26\", \"Topic26\", \"Topic26\", \"Topic26\", \"Topic26\", \"Topic26\", \"Topic26\", \"Topic26\", \"Topic26\", \"Topic26\", \"Topic26\", \"Topic26\", \"Topic26\", \"Topic26\", \"Topic26\", \"Topic26\", \"Topic26\", \"Topic26\", \"Topic26\", \"Topic26\", \"Topic26\", \"Topic26\", \"Topic27\", \"Topic27\", \"Topic27\", \"Topic27\", \"Topic27\", \"Topic27\", \"Topic27\", \"Topic27\", \"Topic27\", \"Topic27\", \"Topic27\", \"Topic27\", \"Topic27\", \"Topic27\", \"Topic27\", \"Topic27\", \"Topic27\", \"Topic27\", \"Topic27\", \"Topic27\", \"Topic27\", \"Topic27\", \"Topic27\", \"Topic27\", \"Topic27\", \"Topic27\", \"Topic27\", \"Topic27\", \"Topic27\", \"Topic27\", \"Topic27\", \"Topic27\", \"Topic27\", \"Topic27\", \"Topic27\", \"Topic27\", \"Topic27\", \"Topic27\", \"Topic28\", \"Topic28\", \"Topic28\", \"Topic28\", \"Topic28\", \"Topic28\", \"Topic28\", \"Topic28\", \"Topic28\", \"Topic28\", \"Topic28\", \"Topic28\", \"Topic28\", \"Topic28\", \"Topic28\", \"Topic28\", \"Topic28\", \"Topic28\", \"Topic28\", \"Topic28\", \"Topic28\", \"Topic28\", \"Topic28\", \"Topic28\", \"Topic28\", \"Topic28\", \"Topic28\", \"Topic28\", \"Topic28\", \"Topic28\", \"Topic28\", \"Topic28\", \"Topic28\", \"Topic28\", \"Topic28\", \"Topic28\", \"Topic28\", \"Topic28\", \"Topic28\", \"Topic28\", \"Topic28\", \"Topic29\", \"Topic29\", \"Topic29\", \"Topic29\", \"Topic29\", \"Topic29\", \"Topic29\", \"Topic29\", \"Topic29\", \"Topic29\", \"Topic29\", \"Topic29\", \"Topic29\", \"Topic29\", \"Topic29\", \"Topic29\", \"Topic29\", \"Topic29\", \"Topic29\", \"Topic29\", \"Topic29\", \"Topic29\", \"Topic29\", \"Topic29\", \"Topic29\", \"Topic29\", \"Topic29\", \"Topic29\", \"Topic29\", \"Topic29\", \"Topic29\", \"Topic29\", \"Topic29\", \"Topic29\", \"Topic29\", \"Topic29\", \"Topic29\", \"Topic29\", \"Topic30\", \"Topic30\", \"Topic30\", \"Topic30\", \"Topic30\", \"Topic30\", \"Topic30\", \"Topic30\", \"Topic30\", \"Topic30\", \"Topic30\", \"Topic30\", \"Topic30\", \"Topic30\", \"Topic30\", \"Topic30\", \"Topic30\", \"Topic30\", \"Topic30\", \"Topic30\", \"Topic30\", \"Topic30\", \"Topic30\", \"Topic30\", \"Topic30\", \"Topic30\", \"Topic30\", \"Topic30\", \"Topic30\", \"Topic30\", \"Topic30\", \"Topic30\", \"Topic30\", \"Topic30\", \"Topic30\", \"Topic30\", \"Topic30\", \"Topic30\", \"Topic30\", \"Topic30\", \"Topic30\", \"Topic30\", \"Topic31\", \"Topic31\", \"Topic31\", \"Topic31\", \"Topic31\", \"Topic31\", \"Topic31\", \"Topic31\", \"Topic31\", \"Topic31\", \"Topic31\", \"Topic31\", \"Topic31\", \"Topic31\", \"Topic31\", \"Topic31\", \"Topic31\", \"Topic31\", \"Topic31\", \"Topic31\", \"Topic31\", \"Topic31\", \"Topic31\", \"Topic31\", \"Topic31\", \"Topic31\", \"Topic31\", \"Topic31\", \"Topic31\", \"Topic31\", \"Topic31\", \"Topic31\", \"Topic31\", \"Topic31\", \"Topic31\", \"Topic31\", \"Topic31\", \"Topic31\", \"Topic31\", \"Topic31\", \"Topic31\", \"Topic31\", \"Topic31\", \"Topic32\", \"Topic32\", \"Topic32\", \"Topic32\", \"Topic32\", \"Topic32\", \"Topic32\", \"Topic32\", \"Topic32\", \"Topic32\", \"Topic32\", \"Topic32\", \"Topic32\", \"Topic32\", \"Topic32\", \"Topic32\", \"Topic32\", \"Topic32\", \"Topic32\", \"Topic32\", \"Topic32\", \"Topic32\", \"Topic32\", \"Topic32\", \"Topic32\", \"Topic32\", \"Topic32\", \"Topic32\", \"Topic32\", \"Topic32\", \"Topic32\", \"Topic32\", \"Topic32\", \"Topic32\", \"Topic32\", \"Topic32\", \"Topic32\", \"Topic32\", \"Topic32\", \"Topic32\", \"Topic32\", \"Topic32\", \"Topic33\", \"Topic33\", \"Topic33\", \"Topic33\", \"Topic33\", \"Topic33\", \"Topic33\", \"Topic33\", \"Topic33\", \"Topic33\", \"Topic33\", \"Topic33\", \"Topic33\", \"Topic33\", \"Topic33\", \"Topic33\", \"Topic33\", \"Topic33\", \"Topic33\", \"Topic33\", \"Topic33\", \"Topic33\", \"Topic33\", \"Topic33\", \"Topic33\", \"Topic33\", \"Topic33\", \"Topic33\", \"Topic33\", \"Topic33\", \"Topic33\", \"Topic33\", \"Topic33\", \"Topic33\", \"Topic33\", \"Topic33\", \"Topic33\", \"Topic33\", \"Topic33\", \"Topic33\", \"Topic33\", \"Topic33\", \"Topic33\", \"Topic33\", \"Topic34\", \"Topic34\", \"Topic34\", \"Topic34\", \"Topic34\", \"Topic34\", \"Topic34\", \"Topic34\", \"Topic34\", \"Topic34\", \"Topic34\", \"Topic34\", \"Topic34\", \"Topic34\", \"Topic34\", \"Topic34\", \"Topic34\", \"Topic34\", \"Topic34\", \"Topic34\", \"Topic34\", \"Topic34\", \"Topic34\", \"Topic34\", \"Topic34\", \"Topic34\", \"Topic34\", \"Topic34\", \"Topic34\", \"Topic34\", \"Topic34\", \"Topic34\", \"Topic34\", \"Topic34\", \"Topic34\", \"Topic34\", \"Topic34\", \"Topic34\", \"Topic34\", \"Topic35\", \"Topic35\", \"Topic35\", \"Topic35\", \"Topic35\", \"Topic35\", \"Topic35\", \"Topic35\", \"Topic35\", \"Topic35\", \"Topic35\", \"Topic35\", \"Topic35\", \"Topic35\", \"Topic35\", \"Topic35\", \"Topic35\", \"Topic35\", \"Topic35\", \"Topic35\", \"Topic35\", \"Topic35\", \"Topic35\", \"Topic35\", \"Topic35\", \"Topic35\", \"Topic35\", \"Topic35\", \"Topic35\", \"Topic35\", \"Topic35\", \"Topic35\", \"Topic35\", \"Topic35\", \"Topic35\", \"Topic35\", \"Topic35\", \"Topic35\", \"Topic35\", \"Topic35\", \"Topic36\", \"Topic36\", \"Topic36\", \"Topic36\", \"Topic36\", \"Topic36\", \"Topic36\", \"Topic36\", \"Topic36\", \"Topic36\", \"Topic36\", \"Topic36\", \"Topic36\", \"Topic36\", \"Topic36\", \"Topic36\", \"Topic36\", \"Topic36\", \"Topic36\", \"Topic36\", \"Topic36\", \"Topic36\", \"Topic36\", \"Topic36\", \"Topic36\", \"Topic36\", \"Topic36\", \"Topic36\", \"Topic36\", \"Topic36\", \"Topic36\", \"Topic36\", \"Topic36\", \"Topic36\", \"Topic36\", \"Topic36\", \"Topic36\", \"Topic36\", \"Topic36\", \"Topic37\", \"Topic37\", \"Topic37\", \"Topic37\", \"Topic37\", \"Topic37\", \"Topic37\", \"Topic37\", \"Topic37\", \"Topic37\", \"Topic37\", \"Topic37\", \"Topic37\", \"Topic37\", \"Topic37\", \"Topic37\", \"Topic37\", \"Topic37\", \"Topic37\", \"Topic37\", \"Topic37\", \"Topic37\", \"Topic37\", \"Topic37\", \"Topic37\", \"Topic37\", \"Topic37\", \"Topic37\", \"Topic37\", \"Topic37\", \"Topic37\", \"Topic37\", \"Topic37\", \"Topic37\", \"Topic37\", \"Topic37\", \"Topic37\", \"Topic37\", \"Topic37\", \"Topic38\", \"Topic38\", \"Topic38\", \"Topic38\", \"Topic38\", \"Topic38\", \"Topic38\", \"Topic38\", \"Topic38\", \"Topic38\", \"Topic38\", \"Topic38\", \"Topic38\", \"Topic38\", \"Topic38\", \"Topic38\", \"Topic38\", \"Topic38\", \"Topic38\", \"Topic38\", \"Topic38\", \"Topic38\", \"Topic38\", \"Topic38\", \"Topic38\", \"Topic38\", \"Topic38\", \"Topic38\", \"Topic38\", \"Topic38\", \"Topic38\", \"Topic38\", \"Topic38\", \"Topic38\", \"Topic38\", \"Topic38\", \"Topic38\", \"Topic38\", \"Topic38\", \"Topic39\", \"Topic39\", \"Topic39\", \"Topic39\", \"Topic39\", \"Topic39\", \"Topic39\", \"Topic39\", \"Topic39\", \"Topic39\", \"Topic39\", \"Topic39\", \"Topic39\", \"Topic39\", \"Topic39\", \"Topic39\", \"Topic39\", \"Topic39\", \"Topic39\", \"Topic39\", \"Topic39\", \"Topic39\", \"Topic39\", \"Topic39\", \"Topic39\", \"Topic39\", \"Topic39\", \"Topic39\", \"Topic39\", \"Topic39\", \"Topic39\", \"Topic39\", \"Topic39\", \"Topic39\", \"Topic39\", \"Topic39\", \"Topic39\", \"Topic39\", \"Topic39\", \"Topic39\", \"Topic39\", \"Topic39\", \"Topic39\", \"Topic39\", \"Topic39\", \"Topic39\", \"Topic40\", \"Topic40\", \"Topic40\", \"Topic40\", \"Topic40\", \"Topic40\", \"Topic40\", \"Topic40\", \"Topic40\", \"Topic40\", \"Topic40\", \"Topic40\", \"Topic40\", \"Topic40\", \"Topic40\", \"Topic40\", \"Topic40\", \"Topic40\", \"Topic40\", \"Topic40\", \"Topic40\", \"Topic40\", \"Topic40\", \"Topic40\", \"Topic40\", \"Topic40\", \"Topic40\", \"Topic40\", \"Topic40\", \"Topic40\", \"Topic40\", \"Topic40\", \"Topic40\", \"Topic40\", \"Topic40\", \"Topic40\", \"Topic40\", \"Topic40\", \"Topic40\", \"Topic40\", \"Topic40\", \"Topic41\", \"Topic41\", \"Topic41\", \"Topic41\", \"Topic41\", \"Topic41\", \"Topic41\", \"Topic41\", \"Topic41\", \"Topic41\", \"Topic41\", \"Topic41\", \"Topic41\", \"Topic41\", \"Topic41\", \"Topic41\", \"Topic41\", \"Topic41\", \"Topic41\", \"Topic41\", \"Topic41\", \"Topic41\", \"Topic41\", \"Topic41\", \"Topic41\", \"Topic41\", \"Topic41\", \"Topic41\", \"Topic41\", \"Topic41\", \"Topic41\", \"Topic41\", \"Topic41\", \"Topic41\", \"Topic41\", \"Topic41\", \"Topic41\", \"Topic41\", \"Topic41\", \"Topic41\", \"Topic42\", \"Topic42\", \"Topic42\", \"Topic42\", \"Topic42\", \"Topic42\", \"Topic42\", \"Topic42\", \"Topic42\", \"Topic42\", \"Topic42\", \"Topic42\", \"Topic42\", \"Topic42\", \"Topic42\", \"Topic42\", \"Topic42\", \"Topic42\", \"Topic42\", \"Topic42\", \"Topic42\", \"Topic42\", \"Topic42\", \"Topic42\", \"Topic42\", \"Topic42\", \"Topic42\", \"Topic42\", \"Topic42\", \"Topic42\", \"Topic42\", \"Topic42\", \"Topic42\", \"Topic42\", \"Topic42\", \"Topic42\", \"Topic42\", \"Topic42\", \"Topic42\", \"Topic42\", \"Topic42\", \"Topic42\", \"Topic42\", \"Topic42\", \"Topic43\", \"Topic43\", \"Topic43\", \"Topic43\", \"Topic43\", \"Topic43\", \"Topic43\", \"Topic43\", \"Topic43\", \"Topic43\", \"Topic43\", \"Topic43\", \"Topic43\", \"Topic43\", \"Topic43\", \"Topic43\", \"Topic43\", \"Topic43\", \"Topic43\", \"Topic43\", \"Topic43\", \"Topic43\", \"Topic43\", \"Topic43\", \"Topic43\", \"Topic43\", \"Topic43\", \"Topic43\", \"Topic43\", \"Topic43\", \"Topic43\", \"Topic43\", \"Topic43\", \"Topic43\", \"Topic43\", \"Topic43\", \"Topic43\", \"Topic43\", \"Topic43\", \"Topic43\", \"Topic43\", \"Topic43\", \"Topic44\", \"Topic44\", \"Topic44\", \"Topic44\", \"Topic44\", \"Topic44\", \"Topic44\", \"Topic44\", \"Topic44\", \"Topic44\", \"Topic44\", \"Topic44\", \"Topic44\", \"Topic44\", \"Topic44\", \"Topic44\", \"Topic44\", \"Topic44\", \"Topic44\", \"Topic44\", \"Topic44\", \"Topic44\", \"Topic44\", \"Topic44\", \"Topic44\", \"Topic44\", \"Topic44\", \"Topic44\", \"Topic44\", \"Topic44\", \"Topic44\", \"Topic44\", \"Topic44\", \"Topic44\", \"Topic44\", \"Topic44\", \"Topic44\", \"Topic44\", \"Topic44\", \"Topic44\", \"Topic44\", \"Topic44\", \"Topic45\", \"Topic45\", \"Topic45\", \"Topic45\", \"Topic45\", \"Topic45\", \"Topic45\", \"Topic45\", \"Topic45\", \"Topic45\", \"Topic45\", \"Topic45\", \"Topic45\", \"Topic45\", \"Topic45\", \"Topic45\", \"Topic45\", \"Topic45\", \"Topic45\", \"Topic45\", \"Topic45\", \"Topic45\", \"Topic45\", \"Topic45\", \"Topic45\", \"Topic45\", \"Topic45\", \"Topic45\", \"Topic45\", \"Topic45\", \"Topic45\", \"Topic45\", \"Topic45\", \"Topic45\", \"Topic45\", \"Topic45\", \"Topic45\", \"Topic45\", \"Topic45\", \"Topic45\", \"Topic46\", \"Topic46\", \"Topic46\", \"Topic46\", \"Topic46\", \"Topic46\", \"Topic46\", \"Topic46\", \"Topic46\", \"Topic46\", \"Topic46\", \"Topic46\", \"Topic46\", \"Topic46\", \"Topic46\", \"Topic46\", \"Topic46\", \"Topic46\", \"Topic46\", \"Topic46\", \"Topic46\", \"Topic46\", \"Topic46\", \"Topic46\", \"Topic46\", \"Topic46\", \"Topic46\", \"Topic46\", \"Topic46\", \"Topic46\", \"Topic46\", \"Topic46\", \"Topic46\", \"Topic46\", \"Topic46\", \"Topic46\", \"Topic46\", \"Topic46\", \"Topic46\", \"Topic46\", \"Topic46\", \"Topic47\", \"Topic47\", \"Topic47\", \"Topic47\", \"Topic47\", \"Topic47\", \"Topic47\", \"Topic47\", \"Topic47\", \"Topic47\", \"Topic47\", \"Topic47\", \"Topic47\", \"Topic47\", \"Topic47\", \"Topic47\", \"Topic47\", \"Topic47\", \"Topic47\", \"Topic47\", \"Topic47\", \"Topic47\", \"Topic47\", \"Topic47\", \"Topic47\", \"Topic47\", \"Topic47\", \"Topic47\", \"Topic47\", \"Topic47\", \"Topic47\", \"Topic47\", \"Topic47\", \"Topic47\", \"Topic47\", \"Topic47\", \"Topic47\", \"Topic47\", \"Topic47\", \"Topic47\", \"Topic48\", \"Topic48\", \"Topic48\", \"Topic48\", \"Topic48\", \"Topic48\", \"Topic48\", \"Topic48\", \"Topic48\", \"Topic48\", \"Topic48\", \"Topic48\", \"Topic48\", \"Topic48\", \"Topic48\", \"Topic48\", \"Topic48\", \"Topic48\", \"Topic48\", \"Topic48\", \"Topic48\", \"Topic48\", \"Topic48\", \"Topic48\", \"Topic48\", \"Topic48\", \"Topic48\", \"Topic48\", \"Topic48\", \"Topic48\", \"Topic48\", \"Topic48\", \"Topic48\", \"Topic48\", \"Topic48\", \"Topic48\", \"Topic48\", \"Topic48\", \"Topic48\", \"Topic48\", \"Topic48\", \"Topic49\", \"Topic49\", \"Topic49\", \"Topic49\", \"Topic49\", \"Topic49\", \"Topic49\", \"Topic49\", \"Topic49\", \"Topic49\", \"Topic49\", \"Topic49\", \"Topic49\", \"Topic49\", \"Topic49\", \"Topic49\", \"Topic49\", \"Topic49\", \"Topic49\", \"Topic49\", \"Topic49\", \"Topic49\", \"Topic49\", \"Topic49\", \"Topic49\", \"Topic49\", \"Topic49\", \"Topic49\", \"Topic49\", \"Topic49\", \"Topic49\", \"Topic49\", \"Topic49\", \"Topic49\", \"Topic49\", \"Topic49\", \"Topic49\", \"Topic49\", \"Topic49\", \"Topic49\", \"Topic50\", \"Topic50\", \"Topic50\", \"Topic50\", \"Topic50\", \"Topic50\", \"Topic50\", \"Topic50\", \"Topic50\", \"Topic50\", \"Topic50\", \"Topic50\", \"Topic50\", \"Topic50\", \"Topic50\", \"Topic50\", \"Topic50\", \"Topic50\", \"Topic50\", \"Topic50\", \"Topic50\", \"Topic50\", \"Topic50\", \"Topic50\", \"Topic50\", \"Topic50\", \"Topic50\", \"Topic50\", \"Topic50\", \"Topic50\", \"Topic50\", \"Topic50\", \"Topic50\", \"Topic50\", \"Topic50\", \"Topic50\", \"Topic50\", \"Topic50\", \"Topic50\", \"Topic50\", \"Topic50\", \"Topic50\", \"Topic51\", \"Topic51\", \"Topic51\", \"Topic51\", \"Topic51\", \"Topic51\", \"Topic51\", \"Topic51\", \"Topic51\", \"Topic51\", \"Topic51\", \"Topic51\", \"Topic51\", \"Topic51\", \"Topic51\", \"Topic51\", \"Topic51\", \"Topic51\", \"Topic51\", \"Topic51\", \"Topic51\", \"Topic51\", \"Topic51\", \"Topic51\", \"Topic51\", \"Topic51\", \"Topic51\", \"Topic51\", \"Topic51\", \"Topic51\", \"Topic51\", \"Topic51\", \"Topic51\", \"Topic51\", \"Topic51\", \"Topic51\", \"Topic51\", \"Topic51\", \"Topic51\", \"Topic51\", \"Topic51\", \"Topic51\", \"Topic51\", \"Topic51\", \"Topic51\", \"Topic51\", \"Topic51\", \"Topic52\", \"Topic52\", \"Topic52\", \"Topic52\", \"Topic52\", \"Topic52\", \"Topic52\", \"Topic52\", \"Topic52\", \"Topic52\", \"Topic52\", \"Topic52\", \"Topic52\", \"Topic52\", \"Topic52\", \"Topic52\", \"Topic52\", \"Topic52\", \"Topic52\", \"Topic52\", \"Topic52\", \"Topic52\", \"Topic52\", \"Topic52\", \"Topic52\", \"Topic52\", \"Topic52\", \"Topic52\", \"Topic52\", \"Topic52\", \"Topic52\", \"Topic52\", \"Topic52\", \"Topic52\", \"Topic52\", \"Topic52\", \"Topic52\", \"Topic52\", \"Topic52\", \"Topic52\", \"Topic52\", \"Topic52\", \"Topic52\", \"Topic52\", \"Topic52\", \"Topic52\", \"Topic53\", \"Topic53\", \"Topic53\", \"Topic53\", \"Topic53\", \"Topic53\", \"Topic53\", \"Topic53\", \"Topic53\", \"Topic53\", \"Topic53\", \"Topic53\", \"Topic53\", \"Topic53\", \"Topic53\", \"Topic53\", \"Topic53\", \"Topic53\", \"Topic53\", \"Topic53\", \"Topic53\", \"Topic53\", \"Topic53\", \"Topic53\", \"Topic53\", \"Topic53\", \"Topic53\", \"Topic53\", \"Topic53\", \"Topic53\", \"Topic53\", \"Topic53\", \"Topic53\", \"Topic53\", \"Topic53\", \"Topic53\", \"Topic53\", \"Topic53\", \"Topic53\", \"Topic53\", \"Topic53\", \"Topic54\", \"Topic54\", \"Topic54\", \"Topic54\", \"Topic54\", \"Topic54\", \"Topic54\", \"Topic54\", \"Topic54\", \"Topic54\", \"Topic54\", \"Topic54\", \"Topic54\", \"Topic54\", \"Topic54\", \"Topic54\", \"Topic54\", \"Topic54\", \"Topic54\", \"Topic54\", \"Topic54\", \"Topic54\", \"Topic54\", \"Topic54\", \"Topic54\", \"Topic54\", \"Topic54\", \"Topic54\", \"Topic54\", \"Topic54\", \"Topic54\", \"Topic54\", \"Topic54\", \"Topic54\", \"Topic54\", \"Topic54\", \"Topic54\", \"Topic54\", \"Topic54\", \"Topic54\", \"Topic54\", \"Topic55\", \"Topic55\", \"Topic55\", \"Topic55\", \"Topic55\", \"Topic55\", \"Topic55\", \"Topic55\", \"Topic55\", \"Topic55\", \"Topic55\", \"Topic55\", \"Topic55\", \"Topic55\", \"Topic55\", \"Topic55\", \"Topic55\", \"Topic55\", \"Topic55\", \"Topic55\", \"Topic55\", \"Topic55\", \"Topic55\", \"Topic55\", \"Topic55\", \"Topic55\", \"Topic55\", \"Topic55\", \"Topic55\", \"Topic55\", \"Topic55\", \"Topic55\", \"Topic55\", \"Topic55\", \"Topic55\", \"Topic55\", \"Topic55\", \"Topic55\", \"Topic55\", \"Topic55\", \"Topic55\", \"Topic56\", \"Topic56\", \"Topic56\", \"Topic56\", \"Topic56\", \"Topic56\", \"Topic56\", \"Topic56\", \"Topic56\", \"Topic56\", \"Topic56\", \"Topic56\", \"Topic56\", \"Topic56\", \"Topic56\", \"Topic56\", \"Topic56\", \"Topic56\", \"Topic56\", \"Topic56\", \"Topic56\", \"Topic56\", \"Topic56\", \"Topic56\", \"Topic56\", \"Topic56\", \"Topic56\", \"Topic56\", \"Topic56\", \"Topic56\", \"Topic56\", \"Topic56\", \"Topic56\", \"Topic56\", \"Topic56\", \"Topic56\", \"Topic56\", \"Topic56\", \"Topic56\", \"Topic56\", \"Topic56\", \"Topic57\", \"Topic57\", \"Topic57\", \"Topic57\", \"Topic57\", \"Topic57\", \"Topic57\", \"Topic57\", \"Topic57\", \"Topic57\", \"Topic57\", \"Topic57\", \"Topic57\", \"Topic57\", \"Topic57\", \"Topic57\", \"Topic57\", \"Topic57\", \"Topic57\", \"Topic57\", \"Topic57\", \"Topic57\", \"Topic57\", \"Topic57\", \"Topic57\", \"Topic57\", \"Topic57\", \"Topic57\", \"Topic57\", \"Topic57\", \"Topic57\", \"Topic57\", \"Topic57\", \"Topic57\", \"Topic57\", \"Topic57\", \"Topic57\", \"Topic57\", \"Topic57\", \"Topic58\", \"Topic58\", \"Topic58\", \"Topic58\", \"Topic58\", \"Topic58\", \"Topic58\", \"Topic58\", \"Topic58\", \"Topic58\", \"Topic58\", \"Topic58\", \"Topic58\", \"Topic58\", \"Topic58\", \"Topic58\", \"Topic58\", \"Topic58\", \"Topic58\", \"Topic58\", \"Topic58\", \"Topic58\", \"Topic58\", \"Topic58\", \"Topic58\", \"Topic58\", \"Topic58\", \"Topic58\", \"Topic58\", \"Topic58\", \"Topic58\", \"Topic58\", \"Topic58\", \"Topic58\", \"Topic58\", \"Topic58\", \"Topic58\", \"Topic58\", \"Topic58\", \"Topic58\", \"Topic58\", \"Topic58\", \"Topic58\", \"Topic58\", \"Topic58\", \"Topic59\", \"Topic59\", \"Topic59\", \"Topic59\", \"Topic59\", \"Topic59\", \"Topic59\", \"Topic59\", \"Topic59\", \"Topic59\", \"Topic59\", \"Topic59\", \"Topic59\", \"Topic59\", \"Topic59\", \"Topic59\", \"Topic59\", \"Topic59\", \"Topic59\", \"Topic59\", \"Topic59\", \"Topic59\", \"Topic59\", \"Topic59\", \"Topic59\", \"Topic59\", \"Topic59\", \"Topic59\", \"Topic59\", \"Topic59\", \"Topic59\", \"Topic59\", \"Topic59\", \"Topic59\", \"Topic59\", \"Topic59\", \"Topic59\", \"Topic59\", \"Topic59\", \"Topic59\", \"Topic59\", \"Topic59\", \"Topic60\", \"Topic60\", \"Topic60\", \"Topic60\", \"Topic60\", \"Topic60\", \"Topic60\", \"Topic60\", \"Topic60\", \"Topic60\", \"Topic60\", \"Topic60\", \"Topic60\", \"Topic60\", \"Topic60\", \"Topic60\", \"Topic60\", \"Topic60\", \"Topic60\", \"Topic60\", \"Topic60\", \"Topic60\", \"Topic60\", \"Topic60\", \"Topic60\", \"Topic60\", \"Topic60\", \"Topic60\", \"Topic60\", \"Topic60\", \"Topic60\", \"Topic60\", \"Topic60\", \"Topic60\", \"Topic60\", \"Topic60\", \"Topic60\", \"Topic60\", \"Topic60\", \"Topic60\", \"Topic60\", \"Topic60\", \"Topic60\", \"Topic60\", \"Topic60\", \"Topic60\"], \"logprob\": [30.0, 29.0, 28.0, 27.0, 26.0, 25.0, 24.0, 23.0, 22.0, 21.0, 20.0, 19.0, 18.0, 17.0, 16.0, 15.0, 14.0, 13.0, 12.0, 11.0, 10.0, 9.0, 8.0, 7.0, 6.0, 5.0, 4.0, 3.0, 2.0, 1.0, -7.7297, -7.7791, -8.0696, -7.9152, -8.0606, -8.1438, -7.9993, -7.8767, -8.0176, -8.2334, -8.1886, -8.2229, -8.1307, -7.9002, -8.1204, -8.276, -8.304, -8.2309, -8.2603, -8.3495, -8.1963, -8.122, -8.1147, -8.4247, -8.0217, -8.4815, -8.0999, -8.1615, -8.1612, -8.4161, -8.2692, -8.2841, -8.1451, -8.1682, -8.0103, -8.218, -8.1599, -8.172, -8.1892, -8.1683, -8.1814, -8.1789, -8.1881, -8.1903, -8.1896, -7.9163, -8.1066, -7.9259, -7.7944, -8.1544, -8.2534, -8.0666, -8.1185, -7.8964, -8.2083, -7.916, -8.1091, -8.2105, -8.1142, -8.3188, -8.0629, -8.1712, -8.0958, -8.2711, -7.9997, -8.0481, -8.3396, -8.2343, -8.221, -8.4694, -8.3666, -8.307, -8.1914, -8.4824, -8.2762, -8.1637, -8.1782, -8.0508, -8.044, -8.1417, -8.1238, -8.1759, -8.146, -8.1299, -8.1944, -8.2006, -7.6348, -7.7042, -8.0409, -7.8428, -8.0177, -8.113, -8.0983, -8.149, -8.3171, -8.2174, -8.0541, -8.1201, -8.0905, -8.0098, -8.0916, -8.1099, -8.2855, -8.2455, -8.0754, -8.2366, -8.2467, -8.2422, -8.0522, -8.2122, -8.3304, -8.4405, -8.3375, -8.3192, -8.4649, -8.2148, -8.3844, -8.2877, -8.1765, -8.1725, -8.0604, -8.0813, -7.97, -8.061, -8.0995, -8.167, -8.1551, -8.1228, -8.1884, -8.2033, -8.2074, -7.8069, -8.0546, -7.9488, -7.9132, -7.9679, -8.0333, -8.1309, -8.253, -8.0723, -8.0439, -8.0103, -8.3899, -7.8743, -8.2446, -8.2028, -7.9433, -8.1025, -8.1781, -8.0329, -8.2452, -8.0836, -8.3067, -8.3403, -8.1658, -8.3044, -8.2641, -8.1936, -8.3514, -8.3882, -8.0213, -8.089, -8.1854, -8.1941, -8.1258, -8.1997, -8.1332, -7.9594, -8.0762, -8.161, -8.1318, -8.1475, -8.1806, -8.1724, -7.7767, -8.191, -7.9852, -8.12, -8.101, -8.1574, -8.078, -8.0984, -8.1169, -8.1898, -8.3374, -8.2517, -8.1778, -8.1702, -8.115, -8.1213, -8.1227, -8.126, -8.113, -8.1442, -8.0274, -8.0862, -8.1275, -8.3511, -8.3313, -8.3049, -8.2509, -8.3029, -8.147, -8.4096, -7.9244, -7.8975, -8.1424, -8.1309, -8.1385, -8.1102, -8.1428, -8.0793, -8.1226, -8.1468, -8.1485, -8.1653, -7.7776, -7.6344, -7.831, -8.0003, -7.9835, -7.9921, -8.0274, -7.9892, -8.1665, -8.1032, -7.9123, -8.1365, -8.0401, -8.1488, -8.0353, -8.2206, -8.1674, -8.2768, -8.1778, -8.1154, -8.3193, -8.3484, -8.4691, -8.1374, -8.3338, -8.2693, -8.2844, -8.3201, -8.374, -8.382, -8.0068, -8.2647, -8.2242, -8.0558, -8.0394, -8.1423, -8.1833, -8.0306, -8.2111, -8.1836, -8.0596, -8.0421, -8.1297, -8.122, -8.1517, -8.1487, -8.1472, -7.8805, -7.6365, -7.9938, -8.1154, -7.8009, -7.9088, -8.1443, -8.1002, -7.8158, -8.3464, -8.0123, -8.106, -8.0498, -8.1612, -8.2224, -8.1103, -8.484, -8.1881, -8.2637, -8.3263, -7.9515, -8.3064, -8.2401, -8.0483, -8.1235, -8.3663, -8.1688, -8.1632, -8.0506, -8.0854, -8.0586, -8.036, -8.0836, -8.1275, -8.1319, -8.0309, -8.074, -8.1312, -8.1151, -8.1081, -8.1574, -7.9285, -7.842, -7.9242, -8.0962, -8.1915, -7.928, -8.0538, -8.2291, -8.0657, -8.1064, -8.1363, -8.1367, -7.9863, -8.102, -7.9113, -8.1892, -8.2164, -7.9921, -8.1988, -8.2143, -8.2672, -7.9986, -8.0091, -8.0591, -8.4004, -8.1416, -8.2696, -8.4135, -8.249, -8.1386, -8.0881, -7.9889, -7.959, -8.1256, -8.0914, -8.1398, -8.1242, -8.1625, -8.1585, -8.1718, -8.1837, -7.5652, -7.9325, -8.003, -8.1788, -8.085, -8.2647, -8.0139, -7.8678, -8.1162, -8.0657, -8.1969, -8.3637, -7.9834, -8.1358, -8.1535, -8.1781, -8.0632, -8.2652, -8.1094, -8.4568, -7.9951, -8.2887, -8.2314, -8.2931, -8.1936, -8.2484, -8.1724, -8.2477, -8.2129, -8.2253, -8.1268, -8.199, -8.0888, -8.168, -8.1437, -8.1651, -8.1841, -8.1632, -8.1844, -8.1987, -8.2071, -7.6817, -7.8284, -7.6842, -7.9094, -7.6822, -7.8431, -7.8639, -8.1499, -8.0971, -7.978, -8.0411, -8.1845, -8.059, -8.1762, -8.1996, -8.2259, -8.1723, -8.1331, -8.169, -8.0479, -8.1408, -8.0587, -8.2022, -8.1942, -8.0857, -8.221, -8.2049, -8.2425, -7.9517, -8.163, -8.0643, -7.9449, -8.1551, -8.0484, -8.0914, -8.1324, -8.0571, -8.1271, -8.1569, -8.1594, -7.4409, -8.0387, -7.9027, -8.043, -8.0661, -7.6955, -7.9136, -8.0243, -8.2034, -7.7192, -7.9309, -8.1377, -8.0535, -7.9932, -7.9357, -8.3348, -8.2945, -7.985, -8.0375, -8.3518, -8.2038, -8.1333, -8.2972, -8.0724, -8.1967, -7.812, -8.0024, -8.1815, -8.2509, -8.2489, -8.1175, -8.0473, -8.1238, -8.131, -8.2302, -8.1277, -8.0725, -8.115, -8.139, -8.1693, -8.1617, -7.7032, -7.9721, -7.9395, -8.2031, -7.9213, -8.0734, -8.1743, -7.9248, -8.0515, -7.6829, -8.1507, -7.9377, -7.9629, -8.1527, -8.1191, -8.1543, -7.9766, -8.1415, -8.1211, -8.2274, -8.2935, -8.3519, -8.2487, -8.4621, -8.0653, -8.232, -8.0992, -8.2, -8.21, -8.4784, -8.3166, -8.2121, -8.0106, -8.0062, -8.1856, -8.1254, -8.1582, -8.1954, -8.1798, -8.1804, -8.1916, -7.5801, -7.5456, -7.8559, -8.004, -8.0059, -8.013, -8.2737, -8.3013, -8.1592, -7.8997, -8.0495, -7.8897, -8.1498, -8.0425, -8.051, -8.1105, -8.1904, -8.0069, -8.3305, -8.3599, -8.0538, -8.0541, -8.1645, -8.0242, -8.4932, -8.0134, -8.2386, -8.3693, -8.0982, -8.3336, -8.03, -8.0008, -8.2208, -8.158, -8.0542, -8.1045, -8.147, -8.095, -8.1517, -8.137, -8.1625, -7.7563, -7.7735, -7.8676, -7.7911, -7.7974, -7.971, -7.7762, -8.2536, -8.0549, -8.1836, -8.1968, -8.0768, -8.4093, -8.0619, -7.8652, -8.4123, -8.0287, -8.1843, -8.2526, -8.1203, -8.1749, -8.0724, -8.1715, -8.2057, -8.2719, -7.9635, -8.4954, -8.4483, -8.2057, -8.0563, -8.1716, -8.2682, -8.1995, -8.0966, -8.0807, -8.1595, -8.2018, -8.1248, -8.1721, -8.197, -8.1767, -8.1929, -7.8949, -7.944, -7.8012, -8.1077, -7.8545, -8.0863, -8.2347, -8.2636, -8.1228, -8.1611, -8.063, -8.2221, -8.0573, -8.1564, -8.1335, -7.7277, -8.0772, -8.2132, -8.0556, -8.2565, -8.0613, -8.0356, -7.7363, -8.1862, -8.2952, -8.1555, -8.4685, -8.1853, -8.2024, -8.2069, -8.0711, -8.1165, -8.1092, -8.1657, -8.1696, -8.1945, -8.1864, -8.1858, -8.2007, -8.2001, -7.9058, -8.4597, -8.1815, -8.1069, -8.0616, -8.2309, -8.3259, -8.2154, -8.0658, -8.0747, -8.2767, -8.082, -8.4028, -8.1895, -8.467, -8.2327, -8.2947, -8.1437, -8.3152, -8.2671, -7.9517, -8.2585, -8.0332, -8.0425, -8.274, -8.0547, -8.2714, -8.3, -8.2102, -8.367, -8.146, -8.0583, -8.0525, -8.1648, -8.1622, -8.1241, -8.1631, -8.0665, -8.1531, -8.1746, -8.196, -8.205, -8.2059, -8.2197, -8.2282, -7.4219, -7.7947, -7.8531, -8.0504, -7.7143, -7.9811, -7.9744, -8.0316, -8.086, -8.0884, -8.2017, -8.2635, -8.0006, -8.318, -8.1251, -8.06, -8.109, -8.2789, -8.1068, -8.1778, -8.2023, -8.3153, -8.096, -8.0962, -8.3204, -8.2556, -8.4426, -8.156, -8.3798, -8.3205, -8.265, -8.1053, -8.1062, -8.0397, -8.1255, -8.0229, -8.1505, -8.1997, -8.202, -8.2255, -7.9071, -7.6566, -8.0155, -7.9839, -8.1316, -8.0571, -8.2733, -7.9852, -8.0032, -8.1091, -8.1339, -8.2398, -8.2229, -7.9172, -8.0244, -8.2061, -8.2146, -8.1269, -7.9831, -8.1576, -8.1791, -8.2832, -8.1734, -8.1719, -8.269, -8.126, -8.1755, -8.3138, -8.2362, -8.1335, -7.9517, -8.0607, -8.0862, -8.133, -8.1559, -8.1018, -8.0956, -8.1042, -8.1283, -8.1567, -8.137, -8.1425, -8.1655, -7.8086, -7.8795, -7.9218, -8.0219, -8.0286, -7.9776, -8.256, -8.0258, -7.8598, -8.1471, -8.2351, -8.1194, -8.0937, -8.1443, -8.4038, -8.173, -8.243, -8.3141, -8.2394, -8.3616, -8.3487, -8.3306, -8.1644, -8.1039, -8.125, -8.3433, -8.3509, -8.3677, -8.2045, -8.4969, -8.2292, -8.1617, -8.1302, -8.0705, -8.1943, -8.206, -8.2345, -8.1663, -8.2118, -8.1847, -8.1206, -8.1365, -8.1808, -8.1554, -8.2051, -8.2059, -7.8937, -8.032, -7.9994, -7.8724, -8.0155, -7.8334, -8.096, -7.9977, -8.1455, -8.0219, -8.1957, -8.169, -8.1086, -8.0839, -8.0318, -7.9486, -7.9243, -8.2268, -8.1969, -7.958, -8.27, -8.1888, -8.3478, -8.3842, -8.4335, -8.1215, -8.4134, -8.11, -8.4023, -8.4635, -8.1126, -8.1362, -8.1124, -7.8212, -8.0977, -8.1547, -8.121, -8.1546, -8.0676, -8.1603, -8.1727, -7.8654, -8.1378, -7.9416, -7.9243, -8.2396, -7.8951, -7.7767, -8.1905, -8.2107, -8.0501, -8.0381, -8.1823, -8.0023, -8.3598, -8.2892, -8.224, -8.1947, -8.1339, -8.2928, -8.3307, -8.1633, -8.0831, -8.2122, -8.0756, -8.2847, -8.4449, -8.4089, -8.2967, -8.2522, -8.4236, -8.228, -8.1824, -8.0876, -8.138, -8.1142, -8.0979, -8.0972, -8.1005, -8.1649, -8.1633, -8.1608, -8.1307, -8.162, -8.1645, -8.1769, -8.1939, -7.7431, -7.7972, -7.9292, -7.9495, -7.9796, -8.026, -8.0885, -7.8566, -7.873, -8.1973, -8.0067, -8.0332, -8.1044, -8.1917, -8.0723, -8.1356, -7.8723, -8.0885, -8.2665, -8.0937, -8.1567, -8.2013, -8.114, -7.9645, -8.1198, -8.0792, -8.1724, -8.2113, -8.3282, -7.9458, -8.0595, -8.0682, -8.031, -8.1008, -8.0541, -8.1082, -8.118, -8.1234, -7.9951, -8.3177, -8.3551, -8.2183, -8.0125, -8.1436, -8.2005, -8.193, -7.9406, -7.8903, -8.4165, -7.9137, -8.1039, -8.188, -8.0267, -8.3409, -8.2173, -8.375, -8.4294, -8.4307, -8.4322, -8.3026, -8.3145, -7.9984, -8.1933, -8.1485, -8.0487, -8.3656, -8.1011, -8.5002, -8.325, -8.0423, -8.1529, -8.2195, -8.0841, -8.1085, -8.1227, -8.0852, -8.199, -8.155, -8.2084, -8.1389, -8.1319, -8.203, -8.1891, -8.1654, -8.2009, -7.9583, -7.9866, -8.0602, -8.1885, -8.1274, -8.1414, -8.1174, -8.2849, -8.132, -8.2057, -8.0405, -8.336, -8.1979, -8.3596, -8.0771, -7.9858, -8.4924, -8.4845, -8.2764, -8.2482, -7.9823, -8.4476, -8.2215, -8.2455, -8.2437, -8.2387, -8.186, -8.3104, -8.4347, -8.2506, -8.0007, -8.265, -8.1801, -8.1538, -8.1417, -8.0912, -8.0619, -8.138, -8.0988, -8.2183, -8.1862, -8.2105, -8.2132, -8.1986, -8.1903, -8.1967, -8.215, -8.215, -7.6297, -7.9847, -8.062, -7.8433, -8.0433, -8.0269, -8.0551, -8.1389, -7.9995, -8.2069, -8.0237, -8.1697, -8.0087, -8.0304, -8.0735, -8.0546, -8.1731, -8.2347, -8.1018, -8.3257, -8.3333, -8.2413, -8.132, -8.0316, -8.0163, -8.2466, -8.1207, -8.0249, -8.1425, -8.255, -8.1155, -8.0053, -8.0029, -8.1523, -8.0344, -8.0802, -8.1249, -8.1014, -8.1256, -8.0962, -8.1213, -8.1378, -7.987, -7.8691, -7.8467, -7.6023, -8.0825, -8.0916, -7.9988, -8.1742, -7.9157, -8.0509, -8.1561, -8.281, -8.1835, -8.0256, -8.2907, -8.1682, -8.0698, -8.2678, -8.4326, -8.1335, -8.4188, -8.3424, -8.2555, -8.274, -8.5127, -8.2221, -8.3714, -8.2229, -8.4976, -8.3102, -8.1084, -8.0586, -8.1391, -8.1907, -8.1028, -8.2607, -8.2306, -8.1118, -8.1034, -8.0944, -8.1548, -8.1883, -8.184, -8.2028, -8.2054, -8.2076, -7.7364, -7.8679, -8.0279, -7.9083, -7.8614, -7.9205, -8.0717, -7.8879, -8.1578, -8.0787, -8.0446, -8.0014, -8.1233, -8.3008, -8.0546, -8.0935, -7.9806, -8.219, -8.2393, -8.0758, -8.2464, -8.0913, -8.3349, -8.0685, -8.4254, -8.3444, -8.1438, -8.1461, -8.2204, -8.1201, -7.9967, -8.0054, -8.109, -8.1698, -8.065, -8.1218, -8.1581, -8.1084, -7.4465, -7.7328, -8.0207, -7.8081, -7.8044, -7.9337, -8.124, -8.0072, -7.922, -8.1896, -8.2011, -7.9419, -8.1237, -8.0888, -7.9301, -8.0664, -8.2461, -7.8728, -8.2275, -8.2304, -8.2198, -8.2613, -7.9044, -8.322, -7.9597, -7.9825, -8.3092, -8.0786, -8.0392, -8.0819, -7.995, -8.0142, -8.0422, -8.0572, -8.0385, -8.1108, -8.1214, -8.1097, -8.0748, -8.1048, -8.1223, -7.667, -8.1552, -7.9866, -7.9707, -7.9146, -7.9186, -7.7943, -7.9474, -7.9543, -8.0794, -7.8762, -7.9868, -7.8757, -8.0961, -7.9495, -8.2675, -8.337, -7.9791, -8.032, -7.9938, -8.3006, -8.197, -8.2572, -8.1534, -8.0435, -8.333, -8.1153, -8.0264, -8.0005, -7.9916, -7.974, -7.9639, -8.0989, -8.0874, -8.0195, -8.1089, -8.0977, -8.129, -7.7288, -7.9, -8.0462, -7.979, -7.9326, -7.9273, -7.8757, -8.0772, -8.1658, -8.2326, -8.1207, -8.094, -8.1897, -8.2802, -8.1998, -8.2982, -8.2392, -8.2318, -7.9205, -8.1895, -8.1382, -8.2418, -8.3635, -8.3073, -8.025, -8.0977, -8.191, -8.5211, -8.353, -8.2844, -8.0846, -8.1051, -8.21, -8.0706, -8.1231, -8.1946, -8.1451, -8.1623, -8.0794, -8.1505, -8.197, -8.1995, -7.9512, -8.0774, -8.0014, -7.82, -8.0719, -8.0605, -7.9695, -8.3635, -8.2126, -7.8805, -8.1931, -8.25, -8.3221, -8.0391, -8.0824, -8.0854, -8.2933, -8.0753, -8.2905, -8.1091, -8.1855, -8.2109, -8.3897, -7.9722, -8.2145, -8.2954, -8.444, -8.0181, -8.3173, -8.4468, -8.061, -7.9401, -8.1042, -8.2041, -8.1563, -8.0227, -8.0742, -8.136, -8.1501, -8.1715, -8.1664, -8.174, -8.1781, -7.5253, -8.0498, -7.7569, -7.8696, -8.0723, -7.7391, -8.1553, -8.0915, -8.2844, -8.1068, -8.0298, -8.0328, -7.9822, -8.0308, -8.1329, -8.0566, -8.0684, -8.1297, -8.2812, -8.2146, -8.1161, -8.3475, -8.1725, -8.008, -8.2515, -8.2231, -8.3229, -8.0183, -8.2721, -8.299, -8.0951, -8.1562, -8.1212, -8.0035, -8.0748, -8.112, -8.1739, -8.1349, -8.1547, -8.1346, -8.142, -8.1506, -8.106, -8.0689, -8.0591, -7.7331, -7.9185, -8.122, -7.9278, -8.1056, -8.0228, -8.2084, -8.2206, -8.0016, -8.405, -8.0889, -8.2975, -8.1513, -8.2017, -8.3241, -8.3903, -8.2329, -8.256, -8.1076, -8.0765, -8.3357, -8.1738, -8.4476, -8.488, -8.3864, -8.169, -8.192, -8.0804, -8.2163, -8.0535, -8.1844, -8.1522, -8.0981, -8.139, -8.1843, -8.0841, -8.1894, -8.189, -8.1875, -8.1832, -8.1946, -7.6365, -7.8487, -7.9432, -7.9552, -7.7997, -7.9534, -7.929, -7.9532, -7.9892, -8.0644, -8.1627, -7.8547, -8.065, -8.0287, -8.1953, -7.9471, -8.1808, -7.964, -8.136, -8.2005, -8.1512, -8.3205, -8.0417, -8.2973, -8.1356, -8.2398, -8.2061, -8.2209, -8.0806, -8.3805, -8.1963, -8.0511, -8.1224, -8.0937, -8.0948, -8.1741, -8.1369, -8.1642, -8.1845, -7.7952, -7.8674, -7.8804, -8.0152, -8.2311, -7.9982, -8.1999, -8.0789, -8.0559, -8.2523, -8.0673, -8.2294, -7.9286, -8.2479, -8.2345, -8.1493, -8.1315, -8.1586, -8.04, -8.2735, -8.1377, -8.0098, -8.4042, -8.1524, -8.4264, -8.175, -8.222, -8.0695, -8.0803, -8.2131, -8.1277, -8.1166, -8.0492, -8.1627, -8.1092, -8.1466, -8.148, -8.1556, -8.1997, -8.2033, -7.8046, -8.0646, -7.9369, -8.0402, -7.8711, -7.8685, -8.1699, -8.0126, -7.9858, -8.0213, -8.112, -8.1411, -7.9503, -8.1698, -8.269, -8.0628, -8.0475, -8.1718, -7.9914, -8.2277, -8.0167, -8.1102, -8.1269, -8.1873, -8.0617, -8.2027, -8.1729, -8.266, -8.0694, -8.1211, -8.0808, -7.9958, -8.0674, -8.0903, -8.1204, -8.113, -8.1142, -8.137, -8.1556, -7.6605, -8.1758, -7.7565, -7.9049, -8.219, -7.8888, -7.7856, -8.1016, -8.1261, -8.0973, -8.0018, -8.0239, -7.9916, -8.1814, -8.0165, -8.0702, -8.1452, -8.1245, -8.2673, -8.2971, -8.3012, -8.3873, -8.4263, -8.4769, -8.1937, -8.2471, -8.559, -8.2126, -8.1564, -8.4085, -8.1058, -8.0216, -8.1629, -8.1973, -8.1157, -8.1651, -8.1388, -8.1181, -8.2418, -7.7809, -7.7794, -7.6986, -7.7802, -8.0434, -8.0295, -7.8945, -8.1304, -7.9085, -8.1831, -7.9188, -8.0261, -7.9761, -8.0908, -8.0501, -8.2597, -7.9774, -8.1469, -8.1642, -7.9514, -8.0389, -8.0542, -7.9806, -8.1534, -7.9328, -8.4594, -8.1532, -8.0525, -7.9655, -7.8977, -8.2149, -7.9002, -7.9725, -8.0649, -8.0067, -8.1004, -8.0191, -8.0765, -8.1223, -7.8638, -7.8646, -7.6624, -7.913, -7.8543, -7.957, -7.7785, -7.9541, -7.8374, -8.1815, -8.1446, -8.2517, -8.1984, -8.2639, -8.3967, -8.0465, -8.2087, -8.1461, -8.1758, -8.1937, -8.1675, -8.1321, -8.0929, -8.321, -8.3297, -8.346, -8.2553, -8.2357, -8.2759, -8.1209, -8.082, -7.9894, -8.1416, -8.169, -7.975, -8.1668, -8.0206, -8.0183, -8.0623, -8.0609, -8.1108, -8.0376, -8.0837, -8.1369, -8.1615, -8.1554, -7.847, -7.9562, -7.9251, -7.9945, -7.9505, -7.9747, -8.1195, -7.8743, -8.0542, -7.958, -8.1226, -8.1788, -8.0467, -8.1513, -8.2175, -8.0631, -8.108, -8.3685, -8.2383, -8.0262, -8.183, -8.0857, -8.3086, -7.7695, -8.0962, -8.3342, -8.0512, -8.2267, -7.9948, -8.2616, -8.1024, -8.0804, -8.193, -8.1328, -8.1711, -8.0521, -8.0162, -8.1239, -8.112, -8.1543, -8.1658, -7.8112, -7.6309, -7.7846, -7.7769, -7.8539, -8.1132, -7.8998, -8.0373, -8.0532, -8.2653, -8.0759, -8.0404, -7.8777, -8.1207, -8.0658, -8.0586, -8.1319, -8.2127, -8.2094, -7.9961, -8.1328, -8.1664, -8.1796, -8.0943, -8.1864, -8.3289, -8.4331, -8.1771, -8.3574, -8.3929, -8.0357, -8.0722, -8.1662, -8.0944, -8.0908, -8.0933, -8.1351, -8.1474, -8.1002, -8.1287, -7.8739, -7.924, -7.7529, -8.1693, -7.9176, -8.0468, -7.9813, -8.3163, -7.9215, -8.0243, -8.0374, -7.9364, -8.0288, -8.0939, -8.1653, -8.0635, -8.304, -8.33, -8.1064, -8.1341, -8.1074, -8.3025, -7.9877, -8.0645, -8.2267, -8.1011, -8.1955, -7.9581, -8.1838, -8.2919, -8.2209, -8.0336, -8.1276, -8.0031, -8.0612, -8.0606, -8.1223, -8.0822, -7.9609, -8.068, -8.0513, -8.1056, -8.1051, -8.1186, -7.8089, -8.0599, -7.8931, -7.7613, -7.9155, -8.1113, -8.126, -8.2247, -7.9188, -8.1547, -7.9902, -8.0668, -7.9641, -8.2524, -8.0151, -8.0266, -7.9778, -8.2935, -8.2229, -8.2287, -8.1495, -8.2915, -8.2075, -8.0863, -8.1275, -8.2052, -8.2264, -8.1993, -8.1631, -8.2882, -8.1209, -7.9697, -7.9099, -8.0116, -8.019, -8.154, -8.1694, -8.1647, -8.1471, -8.109, -8.1445, -8.1473, -7.7095, -8.0684, -8.1025, -8.0782, -8.2073, -7.9273, -8.4257, -8.2541, -7.8306, -8.2427, -8.1963, -7.9343, -8.2064, -8.0255, -8.1722, -8.2814, -8.0512, -7.9112, -8.1232, -8.0135, -8.357, -8.1322, -8.1038, -8.2551, -8.346, -8.1238, -8.2995, -7.9704, -8.3446, -8.2508, -8.0686, -8.1588, -8.1313, -7.9467, -8.1943, -8.0237, -8.0709, -8.1366, -8.2048, -8.1918, -8.1934, -8.2002, -8.0204, -8.0983, -7.8856, -8.01, -7.8948, -8.1022, -7.9663, -8.0918, -8.1482, -7.9777, -7.943, -8.1901, -8.0256, -8.0655, -8.2082, -8.1912, -8.008, -8.139, -8.0851, -8.0732, -8.0925, -8.2192, -7.9021, -8.2067, -8.0634, -8.2877, -8.187, -8.3001, -8.0415, -8.3399, -8.0819, -8.182, -8.0057, -8.163, -8.0902, -8.17, -8.1491, -8.1612, -8.1456, -8.1496, -8.0613, -8.0478, -7.9185, -7.8926, -8.0695, -7.9921, -8.0647, -8.0903, -7.9958, -8.0231, -8.0051, -8.2909, -7.8665, -8.1932, -8.0107, -8.2301, -8.0815, -8.03, -8.1041, -8.467, -8.1558, -8.2477, -8.2583, -7.8205, -8.2511, -8.0604, -8.3308, -8.3131, -8.2647, -8.008, -8.044, -8.1154, -8.1397, -7.9891, -8.1574, -8.1153, -8.0982, -8.1269, -8.1365, -8.099, -8.1225, -7.7401, -7.722, -8.0037, -7.8034, -7.806, -7.9322, -7.8671, -8.0523, -8.0281, -7.9587, -7.9218, -7.6265, -8.283, -8.1692, -8.3139, -8.2529, -7.9379, -7.8392, -7.9882, -8.2026, -8.2756, -8.0371, -8.1151, -8.0351, -8.1282, -8.2371, -8.1409, -8.0043, -8.1562, -8.3678, -8.253, -8.0653, -8.0409, -8.1909, -8.1622, -8.1595, -8.2035, -8.1113, -8.052, -8.1377, -7.7547, -7.751, -7.9232, -7.9197, -8.014, -8.0152, -7.9185, -8.1349, -8.2947, -7.9709, -8.1082, -8.1669, -8.0651, -8.2282, -7.9144, -8.1911, -8.2234, -8.2089, -8.0438, -8.2243, -8.2631, -7.9209, -8.1637, -8.2097, -8.3025, -7.8984, -8.5244, -8.5132, -8.337, -8.4294, -8.1412, -8.1185, -8.1871, -8.1317, -8.1274, -8.1433, -8.1467, -8.1915, -8.2004, -8.2062, -8.1937, -7.5955, -7.9845, -7.8237, -8.1705, -7.9337, -7.8901, -7.9272, -8.028, -7.9132, -8.3549, -8.2501, -7.955, -8.1565, -8.1262, -8.2764, -8.0204, -8.0981, -8.1572, -8.2353, -7.9964, -8.2442, -8.2657, -8.0397, -8.4302, -8.0159, -8.0604, -8.2507, -8.3548, -8.2936, -8.1958, -8.1339, -8.1397, -8.0674, -7.868, -8.0135, -8.1383, -8.1686, -8.1483, -8.2273, -8.2189, -7.9261, -8.2711, -8.1863, -8.0902, -8.1641, -7.7917, -8.0522, -7.8821, -8.1943, -8.1454, -8.0173, -8.1295, -8.1545, -8.0636, -8.1319, -8.1591, -8.1749, -7.9614, -8.217, -8.3052, -8.4319, -8.279, -8.2394, -8.2841, -8.2576, -8.098, -8.1575, -8.2194, -8.2934, -8.2439, -8.1926, -8.1111, -7.9976, -8.1083, -8.0497, -8.2129, -8.1432, -8.089, -8.1546, -8.1655, -8.1839, -8.2035, -7.629, -7.8256, -7.9625, -7.9352, -7.9747, -8.0339, -7.9436, -8.0165, -7.9568, -8.4492, -8.2452, -7.9291, -8.1806, -8.0271, -8.1898, -8.3722, -8.0581, -8.0414, -8.241, -8.2467, -8.1923, -8.3137, -8.5137, -8.3605, -8.3475, -8.0191, -8.2961, -8.0576, -8.2792, -8.2517, -8.2192, -8.1867, -8.1082, -8.0345, -8.0189, -8.021, -8.1897, -8.244, -8.0915, -8.1326, -8.0856, -8.1379, -8.1539, -8.1398, -8.1671, -8.1731, -8.1825, -7.9651, -8.1081, -7.8678, -8.3459, -8.14, -8.2914, -7.9761, -8.0551, -7.9408, -8.2096, -8.1542, -8.4054, -7.9515, -8.1569, -8.2464, -8.0492, -8.1966, -8.1193, -8.3312, -8.2938, -8.1824, -8.3431, -8.2918, -8.5149, -8.4706, -8.3107, -8.1451, -8.3044, -8.2607, -8.2494, -8.1477, -8.0573, -8.08, -8.0882, -8.0441, -8.1987, -8.1894, -8.1983, -8.2087, -8.0858, -8.1635, -8.1693, -8.1771, -8.1749, -8.1906, -8.2071, -7.76, -7.9505, -7.8154, -8.1075, -8.0782, -8.0149, -8.1979, -8.0795, -8.0382, -8.3592, -8.0026, -8.1452, -8.1503, -8.1685, -8.0726, -8.1618, -8.3488, -7.944, -8.1552, -8.4873, -8.3406, -8.3463, -7.9825, -7.8829, -8.2129, -8.3683, -8.2129, -8.1618, -8.358, -7.9487, -8.2381, -8.1071, -8.1183, -8.1111, -8.0224, -8.0696, -8.181, -8.1668, -8.1315, -8.1492, -8.1069, -7.8027, -7.6049, -7.6233, -8.143, -7.9084, -8.2375, -7.7983, -8.1702, -8.0293, -8.1967, -7.9463, -8.1119, -8.0882, -8.2106, -8.1879, -8.0856, -8.2615, -8.1912, -8.0207, -8.0749, -8.2403, -8.1966, -7.9203, -8.2059, -8.2989, -7.886, -8.3169, -8.1096, -8.2177, -8.1964, -8.1236, -8.1663, -8.1011, -8.0872, -8.0993, -8.071, -8.187, -8.1522, -8.1759, -8.1904, -8.1958, -7.7589, -8.069, -8.0587, -7.9652, -8.027, -7.8728, -8.1269, -7.9226, -8.1673, -8.1035, -8.1109, -8.0768, -8.0621, -7.8132, -7.9793, -7.8521, -7.9424, -8.1194, -8.1245, -8.28, -8.3109, -8.2022, -8.2987, -8.1994, -8.2058, -8.1084, -8.0657, -8.1912, -8.1879, -8.1875, -8.0591, -8.1268, -7.8697, -8.1127, -8.1068, -8.1284, -8.0396, -8.1499, -8.0567, -8.1331, -8.1272, -7.9578, -8.013, -7.8996, -8.1162, -7.9261, -8.1851, -8.2762, -7.9775, -7.9761, -7.9332, -8.0263, -8.2318, -7.9621, -8.0469, -8.1368, -8.2117, -8.3811, -8.1585, -8.1048, -8.2569, -8.2674, -8.18, -8.3017, -8.349, -8.3526, -8.1198, -8.0965, -8.1427, -8.3984, -8.0317, -7.9995, -8.0693, -8.0692, -7.9623, -8.1223, -7.9522, -8.1439, -8.109, -8.1651, -8.1293, -8.1789, -7.8651, -7.9764, -7.9645, -7.9891, -8.1387, -8.0916, -8.0808, -8.1128, -8.0453, -8.4231, -8.0562, -8.2088, -8.0583, -8.2036, -8.1357, -8.2616, -8.2385, -8.2914, -8.1633, -8.0121, -8.0437, -8.0431, -8.3015, -8.1178, -8.1237, -8.2645, -8.0264, -8.1735, -8.4744, -8.1202, -8.0342, -8.0315, -8.1659, -8.1196, -8.096, -8.092, -8.1403, -8.1143, -8.1171, -7.6999, -7.9687, -7.8209, -7.8196, -7.9975, -8.0878, -8.106, -8.2112, -8.0152, -8.0464, -8.1793, -8.4954, -8.1808, -8.2835, -8.0978, -8.6113, -7.9723, -8.3533, -8.2963, -8.2439, -8.1763, -8.296, -7.9753, -8.1348, -8.2732, -8.4205, -8.1157, -8.403, -8.4555, -8.1457, -8.1243, -8.1241, -8.1481, -8.078, -8.1565, -8.1831, -7.9778, -8.1582, -8.1258, -8.185, -8.1539, -8.1476, -8.1654, -8.173, -8.1715, -7.8917, -7.943, -7.9192, -8.2059, -8.0297, -8.155, -8.0517, -7.9304, -7.9795, -7.8709, -8.1744, -8.247, -8.15, -8.2294, -8.1576, -7.8609, -8.2749, -8.1784, -8.3639, -8.175, -8.363, -8.0526, -7.9778, -8.0369, -8.1646, -8.0564, -8.2193, -8.082, -8.2246, -8.0203, -8.0937, -8.1251, -8.1056, -8.2007, -8.1017, -8.1112, -8.0971, -8.0615, -8.1371, -8.1152, -8.1332, -8.1589, -7.8771, -7.9294, -7.9052, -7.9144, -7.9818, -8.1788, -8.2112, -8.1054, -7.7891, -8.0102, -7.9393, -8.152, -8.0848, -8.1984, -8.168, -8.5117, -8.0363, -7.8764, -8.043, -8.2463, -8.0035, -8.0339, -8.1864, -8.1505, -8.1665, -8.2613, -8.161, -8.2751, -8.2069, -8.3454, -8.0552, -7.983, -7.9603, -8.0884, -8.1224, -8.0534, -8.0463, -8.099, -8.1098, -8.0843, -8.1056, -8.0954, -8.0953, -8.1335, -8.1337, -8.1251], \"loglift\": [30.0, 29.0, 28.0, 27.0, 26.0, 25.0, 24.0, 23.0, 22.0, 21.0, 20.0, 19.0, 18.0, 17.0, 16.0, 15.0, 14.0, 13.0, 12.0, 11.0, 10.0, 9.0, 8.0, 7.0, 6.0, 5.0, 4.0, 3.0, 2.0, 1.0, 2.098, 2.0562, 2.0341, 2.0072, 2.0005, 1.9824, 1.9735, 1.9663, 1.9652, 1.9117, 1.9016, 1.8996, 1.8952, 1.8915, 1.8848, 1.8729, 1.856, 1.8535, 1.8399, 1.8169, 1.8095, 1.8089, 1.7922, 1.7897, 1.7895, 1.784, 1.7805, 1.7793, 1.7787, 1.7767, 1.7635, 1.7631, 1.7389, 1.7193, 1.6315, 1.728, 1.6605, 1.6661, 1.6884, 1.6351, 1.6209, 1.5777, 1.6257, 1.6376, 1.5747, 1.9899, 1.9788, 1.9749, 1.9526, 1.9216, 1.9041, 1.9014, 1.8872, 1.8643, 1.8208, 1.8124, 1.8115, 1.804, 1.8027, 1.7964, 1.7925, 1.7909, 1.7899, 1.7853, 1.7735, 1.7661, 1.7659, 1.7581, 1.7555, 1.7518, 1.7481, 1.7413, 1.7412, 1.7363, 1.7284, 1.7247, 1.7228, 1.7071, 1.6669, 1.6902, 1.6627, 1.6746, 1.623, 1.5089, 1.5772, 1.5155, 2.4575, 2.2045, 2.1351, 2.092, 2.0253, 2.0228, 1.9757, 1.9705, 1.9275, 1.9189, 1.892, 1.8909, 1.8745, 1.8662, 1.8627, 1.841, 1.8396, 1.8262, 1.8261, 1.8158, 1.8121, 1.8118, 1.8063, 1.8044, 1.7996, 1.7829, 1.7749, 1.7694, 1.7689, 1.7685, 1.7665, 1.7632, 1.7573, 1.7558, 1.739, 1.7388, 1.7179, 1.7275, 1.695, 1.7312, 1.7154, 1.654, 1.7124, 1.6808, 1.6442, 2.1413, 2.0359, 2.0179, 2.0131, 1.9926, 1.9753, 1.9709, 1.9707, 1.9366, 1.9323, 1.9279, 1.9233, 1.9075, 1.9044, 1.8965, 1.8945, 1.8917, 1.8915, 1.8506, 1.8371, 1.8357, 1.8243, 1.8144, 1.8121, 1.798, 1.7877, 1.7857, 1.7837, 1.781, 1.7798, 1.766, 1.7709, 1.7625, 1.7381, 1.7625, 1.735, 1.6498, 1.702, 1.7138, 1.6517, 1.6797, 1.7362, 1.6318, 2.0384, 2.0345, 2.0249, 1.9983, 1.9748, 1.9661, 1.9522, 1.9477, 1.9369, 1.931, 1.9112, 1.9088, 1.8822, 1.8815, 1.8709, 1.8453, 1.8441, 1.8406, 1.834, 1.83, 1.8234, 1.8218, 1.8168, 1.8164, 1.8156, 1.8089, 1.8, 1.7888, 1.7883, 1.7805, 1.7663, 1.7466, 1.7668, 1.7633, 1.7579, 1.7451, 1.727, 1.6586, 1.6283, 1.7214, 1.7055, 1.5973, 2.2512, 2.1561, 2.1175, 2.0487, 2.0477, 1.9947, 1.9864, 1.9776, 1.9651, 1.9639, 1.9547, 1.9351, 1.9264, 1.9231, 1.9197, 1.9188, 1.9186, 1.9148, 1.8858, 1.8813, 1.8706, 1.87, 1.8657, 1.863, 1.8544, 1.852, 1.84, 1.8394, 1.8366, 1.834, 1.809, 1.8245, 1.8181, 1.781, 1.7687, 1.7929, 1.8028, 1.7421, 1.7934, 1.7726, 1.6641, 1.6268, 1.682, 1.5955, 1.6613, 1.6314, 1.6196, 2.3206, 2.3171, 2.111, 2.1006, 2.0682, 2.0538, 2.0358, 2.033, 1.9864, 1.9677, 1.955, 1.952, 1.9435, 1.933, 1.9256, 1.9235, 1.9164, 1.9083, 1.9072, 1.9038, 1.8957, 1.8945, 1.872, 1.8715, 1.8673, 1.8663, 1.8658, 1.865, 1.8634, 1.8559, 1.829, 1.8103, 1.8062, 1.8102, 1.8012, 1.7143, 1.7257, 1.7337, 1.658, 1.5646, 1.7887, 2.3349, 2.2251, 2.1678, 2.0692, 2.067, 2.0516, 2.0418, 2.0385, 2.032, 2.0258, 2.022, 2.0155, 2.0035, 1.9786, 1.9744, 1.9601, 1.9536, 1.9344, 1.92, 1.9112, 1.9091, 1.9087, 1.8946, 1.8874, 1.8823, 1.8704, 1.8673, 1.8597, 1.8587, 1.852, 1.8378, 1.827, 1.8069, 1.8263, 1.8035, 1.8044, 1.7603, 1.7674, 1.7416, 1.6954, 1.6233, 2.3366, 2.2008, 2.0904, 1.9906, 1.9778, 1.9775, 1.9539, 1.953, 1.9434, 1.9431, 1.9302, 1.9218, 1.9195, 1.9045, 1.878, 1.8742, 1.8702, 1.8687, 1.8684, 1.8672, 1.8642, 1.8603, 1.8452, 1.8444, 1.8297, 1.8221, 1.8201, 1.8161, 1.8149, 1.8018, 1.7984, 1.7949, 1.7417, 1.7667, 1.7479, 1.7591, 1.7604, 1.7313, 1.7355, 1.7396, 1.7022, 2.4171, 2.2419, 2.197, 2.1922, 2.1893, 2.1667, 2.1538, 2.0913, 2.0552, 2.0362, 2.028, 2.0107, 1.9798, 1.9503, 1.9383, 1.9147, 1.9098, 1.9096, 1.9095, 1.8952, 1.8905, 1.8875, 1.8862, 1.8835, 1.8769, 1.8684, 1.861, 1.8457, 1.8435, 1.8414, 1.8381, 1.8002, 1.8281, 1.7235, 1.7494, 1.7982, 1.6308, 1.6841, 1.7694, 1.7628, 2.3892, 2.0921, 2.0366, 2.0131, 2.0113, 2.0106, 1.9935, 1.9851, 1.9685, 1.9643, 1.9342, 1.9198, 1.9189, 1.9028, 1.8807, 1.8787, 1.8764, 1.8724, 1.8544, 1.8417, 1.8382, 1.8371, 1.8313, 1.8274, 1.8217, 1.8155, 1.8125, 1.8101, 1.8087, 1.8075, 1.7875, 1.7618, 1.7534, 1.7409, 1.7962, 1.6833, 1.6171, 1.5092, 1.5768, 1.6991, 1.5976, 2.0831, 2.0469, 2.0458, 2.0447, 2.0146, 1.9888, 1.9857, 1.9853, 1.9788, 1.9682, 1.9658, 1.953, 1.9485, 1.9257, 1.9054, 1.9047, 1.9018, 1.886, 1.8835, 1.8825, 1.8799, 1.8657, 1.8633, 1.8561, 1.8509, 1.8433, 1.8263, 1.8252, 1.8237, 1.8205, 1.815, 1.8006, 1.72, 1.6891, 1.7632, 1.6508, 1.7032, 1.7632, 1.689, 1.6503, 1.6319, 2.3672, 2.3275, 2.072, 2.0382, 2.0222, 2.0211, 1.974, 1.9696, 1.9511, 1.9505, 1.9487, 1.9449, 1.9068, 1.904, 1.8934, 1.8918, 1.8892, 1.8887, 1.8716, 1.8701, 1.864, 1.8633, 1.8592, 1.8504, 1.8415, 1.8328, 1.8289, 1.8129, 1.8125, 1.7956, 1.7553, 1.7432, 1.7792, 1.7632, 1.6987, 1.7208, 1.74, 1.6351, 1.7093, 1.6599, 1.668, 2.2977, 2.1506, 2.1216, 2.1036, 2.0943, 2.0641, 2.018, 2.0017, 1.9766, 1.9695, 1.9393, 1.9355, 1.9259, 1.9254, 1.9232, 1.9206, 1.9186, 1.9097, 1.9034, 1.8769, 1.8736, 1.8664, 1.8619, 1.8505, 1.8454, 1.8306, 1.8244, 1.8209, 1.8202, 1.82, 1.8003, 1.8071, 1.7846, 1.7183, 1.6867, 1.7197, 1.7623, 1.4793, 1.6493, 1.7438, 1.522, 1.6805, 2.2735, 2.2445, 2.1859, 2.1744, 2.0937, 2.0131, 1.9893, 1.9841, 1.9427, 1.9372, 1.9308, 1.928, 1.9265, 1.9264, 1.9236, 1.9183, 1.9012, 1.8949, 1.8946, 1.8886, 1.8884, 1.8797, 1.873, 1.8718, 1.8714, 1.8441, 1.838, 1.8322, 1.8129, 1.7966, 1.7866, 1.7791, 1.7591, 1.773, 1.7547, 1.7824, 1.6826, 1.6677, 1.7241, 1.5108, 2.0692, 1.9659, 1.962, 1.9593, 1.9541, 1.9403, 1.9369, 1.9369, 1.9315, 1.924, 1.909, 1.8948, 1.8839, 1.8804, 1.8799, 1.8779, 1.862, 1.8498, 1.8496, 1.8386, 1.8361, 1.8345, 1.8336, 1.832, 1.8293, 1.8208, 1.815, 1.8112, 1.8089, 1.7958, 1.7941, 1.7805, 1.738, 1.775, 1.7701, 1.751, 1.7643, 1.6825, 1.7247, 1.6933, 1.6879, 1.6897, 1.6601, 1.6224, 1.6784, 2.5301, 2.2495, 2.1832, 2.1417, 2.1073, 2.0913, 2.0703, 2.0609, 2.0389, 1.9875, 1.9751, 1.9709, 1.9642, 1.96, 1.9365, 1.9181, 1.8997, 1.8863, 1.8803, 1.8756, 1.8746, 1.8593, 1.8574, 1.852, 1.8371, 1.8346, 1.8295, 1.8293, 1.8214, 1.8162, 1.816, 1.8039, 1.7966, 1.7659, 1.7736, 1.7147, 1.7518, 1.7581, 1.758, 1.7939, 2.3009, 2.1528, 2.1293, 2.0784, 2.0692, 2.0686, 2.0343, 1.9914, 1.9747, 1.9725, 1.9712, 1.9242, 1.9129, 1.9114, 1.9039, 1.9035, 1.8987, 1.8948, 1.8929, 1.8792, 1.8717, 1.8707, 1.8692, 1.8689, 1.8679, 1.8651, 1.8591, 1.8548, 1.8536, 1.8487, 1.8452, 1.8463, 1.8088, 1.8108, 1.8183, 1.7478, 1.7346, 1.7459, 1.7234, 1.7883, 1.6569, 1.6154, 1.7578, 2.1749, 2.1326, 2.102, 2.0783, 2.0593, 2.0031, 1.9795, 1.9672, 1.9621, 1.9426, 1.941, 1.9313, 1.9181, 1.9075, 1.9039, 1.8908, 1.8686, 1.8583, 1.8581, 1.8579, 1.8532, 1.8478, 1.8468, 1.8436, 1.8379, 1.8371, 1.8311, 1.8226, 1.8221, 1.8198, 1.7948, 1.7841, 1.7734, 1.7466, 1.7801, 1.7652, 1.7797, 1.7184, 1.7424, 1.7062, 1.5459, 1.5799, 1.6198, 1.4539, 1.7056, 1.6654, 2.2084, 2.0982, 2.0704, 2.0504, 2.0483, 2.027, 2.0121, 1.9876, 1.9504, 1.943, 1.9382, 1.9295, 1.9282, 1.9229, 1.9162, 1.8969, 1.8906, 1.8754, 1.8645, 1.8545, 1.8443, 1.8327, 1.8301, 1.8289, 1.8226, 1.8219, 1.8188, 1.8037, 1.8003, 1.8003, 1.7988, 1.7982, 1.784, 1.7446, 1.7734, 1.7824, 1.7502, 1.7696, 1.566, 1.6688, 1.5185, 2.2308, 2.083, 2.0783, 2.0563, 2.0438, 2.0243, 1.995, 1.9847, 1.9832, 1.9561, 1.9526, 1.9518, 1.9502, 1.9164, 1.9133, 1.9067, 1.9061, 1.8934, 1.885, 1.8767, 1.8716, 1.8496, 1.8484, 1.8459, 1.8386, 1.8222, 1.8198, 1.8161, 1.8086, 1.8063, 1.8027, 1.7737, 1.7552, 1.7601, 1.7516, 1.7334, 1.6891, 1.6875, 1.7422, 1.7034, 1.6518, 1.5743, 1.6489, 1.6573, 1.6678, 1.6045, 2.2248, 2.2099, 2.1994, 2.1574, 2.1122, 2.0608, 2.0581, 2.0579, 2.0524, 2.0304, 1.9894, 1.9885, 1.983, 1.9661, 1.9539, 1.9498, 1.9422, 1.9377, 1.9235, 1.9234, 1.9229, 1.9188, 1.9158, 1.9109, 1.9105, 1.9001, 1.8914, 1.8811, 1.8739, 1.8651, 1.8631, 1.8478, 1.8186, 1.8469, 1.6822, 1.721, 1.7209, 1.721, 2.0989, 2.0676, 2.0291, 2.0238, 2.0111, 1.9859, 1.9758, 1.9674, 1.9664, 1.9498, 1.9358, 1.9336, 1.9136, 1.9097, 1.887, 1.8737, 1.8622, 1.861, 1.8488, 1.8334, 1.8264, 1.8232, 1.8191, 1.8147, 1.8144, 1.8083, 1.8063, 1.8061, 1.805, 1.8019, 1.8016, 1.7843, 1.7879, 1.7933, 1.7552, 1.7571, 1.7583, 1.7454, 1.7739, 1.7322, 1.7699, 1.6908, 1.6678, 1.7624, 1.7219, 1.6537, 1.7383, 2.1581, 2.1382, 2.059, 2.0425, 1.9933, 1.9875, 1.9744, 1.9528, 1.9438, 1.9158, 1.9096, 1.9062, 1.89, 1.8843, 1.8764, 1.8742, 1.8739, 1.8724, 1.8685, 1.862, 1.8605, 1.8604, 1.8571, 1.8554, 1.8495, 1.8489, 1.8461, 1.8449, 1.8449, 1.8395, 1.8267, 1.8297, 1.812, 1.8055, 1.798, 1.7761, 1.7497, 1.7831, 1.7398, 1.8085, 1.7749, 1.8002, 1.7969, 1.7287, 1.6793, 1.597, 1.7232, 1.6318, 2.3192, 2.2073, 2.1697, 2.1595, 2.0758, 2.057, 2.0569, 2.0564, 2.0136, 2.0031, 1.9938, 1.9753, 1.9727, 1.9679, 1.9666, 1.9624, 1.9208, 1.9184, 1.9036, 1.9004, 1.8905, 1.8857, 1.8857, 1.8828, 1.8758, 1.8732, 1.872, 1.8699, 1.8682, 1.8654, 1.8637, 1.8517, 1.8396, 1.8633, 1.8315, 1.8409, 1.8416, 1.8062, 1.842, 1.7678, 1.5919, 1.6846, 2.1626, 2.1576, 2.1381, 2.1316, 1.9911, 1.9603, 1.9414, 1.9339, 1.9332, 1.9329, 1.9278, 1.9248, 1.9025, 1.8976, 1.8938, 1.8887, 1.8876, 1.8627, 1.8591, 1.8553, 1.8441, 1.8388, 1.8366, 1.8362, 1.8278, 1.8273, 1.8224, 1.8217, 1.8178, 1.8091, 1.7842, 1.7769, 1.781, 1.7822, 1.7455, 1.7937, 1.7819, 1.6886, 1.6511, 1.533, 1.6404, 1.6226, 1.5881, 1.6479, 1.6209, 1.6457, 2.1593, 2.1518, 2.0971, 2.0467, 2.0458, 2.0397, 2.0396, 2.0197, 2.0175, 2.0174, 2.0152, 2.013, 2.0011, 1.9881, 1.9804, 1.9781, 1.9681, 1.9453, 1.9409, 1.9364, 1.9225, 1.9165, 1.9124, 1.9097, 1.9095, 1.9085, 1.8945, 1.8787, 1.862, 1.8615, 1.8382, 1.8391, 1.8319, 1.849, 1.8065, 1.7633, 1.7942, 1.6636, 2.463, 2.2734, 2.2599, 2.1971, 2.1819, 2.1623, 2.0813, 2.0652, 2.0477, 2.0451, 2.0397, 2.034, 2.0291, 2.0247, 2.0184, 2.0045, 1.9884, 1.9723, 1.9643, 1.9475, 1.947, 1.94, 1.918, 1.9025, 1.8933, 1.8885, 1.8848, 1.8788, 1.8667, 1.8666, 1.8594, 1.8299, 1.8367, 1.8229, 1.8062, 1.8409, 1.829, 1.7637, 1.6394, 1.5694, 1.7025, 2.1372, 2.0962, 2.0925, 2.0797, 2.0784, 2.0703, 2.0678, 2.0671, 2.0607, 2.052, 2.0348, 2.0289, 2.0268, 2.0163, 1.9873, 1.9794, 1.9575, 1.9526, 1.9468, 1.9297, 1.9211, 1.9208, 1.9186, 1.9071, 1.8969, 1.8904, 1.8882, 1.8866, 1.8776, 1.8766, 1.8597, 1.8418, 1.8625, 1.829, 1.7771, 1.8277, 1.7959, 1.8425, 2.3515, 2.1798, 2.1547, 2.1508, 2.1337, 2.0419, 2.0236, 1.9663, 1.9514, 1.9506, 1.943, 1.9326, 1.9303, 1.9279, 1.8998, 1.8986, 1.894, 1.8925, 1.8776, 1.8769, 1.8736, 1.8708, 1.8573, 1.8474, 1.8438, 1.831, 1.8254, 1.8236, 1.8163, 1.8131, 1.8091, 1.8056, 1.8088, 1.7964, 1.7846, 1.7836, 1.7257, 1.7458, 1.5266, 1.6403, 1.7033, 1.6699, 2.188, 2.1608, 2.1154, 2.091, 2.0567, 1.9854, 1.9795, 1.9621, 1.9563, 1.95, 1.9347, 1.9118, 1.8954, 1.8833, 1.8688, 1.8678, 1.8642, 1.8599, 1.8577, 1.8572, 1.8535, 1.8503, 1.8475, 1.82, 1.8084, 1.8071, 1.8066, 1.8021, 1.8005, 1.7986, 1.7975, 1.7922, 1.7756, 1.7863, 1.7662, 1.7115, 1.6825, 1.7058, 1.7096, 1.7304, 1.6569, 1.6597, 1.6651, 2.2668, 2.1654, 2.1376, 2.1046, 2.0968, 2.0336, 1.9869, 1.9736, 1.9618, 1.9367, 1.9227, 1.9221, 1.9096, 1.9031, 1.9005, 1.8977, 1.8967, 1.8825, 1.8799, 1.8746, 1.8705, 1.8682, 1.8628, 1.8576, 1.8564, 1.8534, 1.8496, 1.8464, 1.846, 1.8454, 1.8436, 1.8361, 1.8245, 1.7956, 1.8009, 1.7873, 1.796, 1.7496, 1.7524, 1.666, 1.6041, 1.6786, 2.0802, 2.0789, 2.0739, 2.0634, 2.0336, 2.0083, 2.0065, 1.9774, 1.9618, 1.9402, 1.9247, 1.9231, 1.9101, 1.9071, 1.9022, 1.9, 1.8929, 1.8804, 1.877, 1.8735, 1.8639, 1.8619, 1.8493, 1.8376, 1.8364, 1.8311, 1.8304, 1.8294, 1.8241, 1.8188, 1.8053, 1.8096, 1.7907, 1.8036, 1.7805, 1.747, 1.7664, 1.776, 1.6232, 1.7409, 1.7317, 1.7076, 1.5485, 1.5562, 2.205, 2.1668, 2.1664, 2.1278, 2.1182, 2.0856, 2.0398, 2.0316, 2.021, 2.0013, 1.9867, 1.9816, 1.9803, 1.9769, 1.954, 1.941, 1.9311, 1.9174, 1.9163, 1.9107, 1.9105, 1.9032, 1.901, 1.9005, 1.8998, 1.8992, 1.889, 1.8732, 1.8498, 1.848, 1.8479, 1.8302, 1.8331, 1.8, 1.7394, 1.8217, 1.7515, 1.6832, 1.7369, 2.2812, 2.0451, 2.0328, 2.017, 2.0143, 2.012, 1.9694, 1.9667, 1.9636, 1.9572, 1.9477, 1.9467, 1.9354, 1.9278, 1.9105, 1.9059, 1.8932, 1.8776, 1.8606, 1.8586, 1.8518, 1.8507, 1.8425, 1.8338, 1.8315, 1.8264, 1.8249, 1.8075, 1.8071, 1.7991, 1.781, 1.7536, 1.6935, 1.7664, 1.6825, 1.6902, 1.6157, 1.6098, 1.7726, 1.6533, 2.1773, 2.1519, 2.1433, 2.128, 2.1158, 2.1135, 2.0398, 2.0326, 2.0127, 1.9939, 1.9882, 1.9831, 1.9227, 1.9124, 1.9089, 1.9071, 1.9069, 1.9045, 1.8989, 1.8946, 1.8946, 1.8742, 1.8734, 1.8713, 1.8631, 1.8605, 1.8574, 1.8432, 1.8415, 1.8412, 1.839, 1.748, 1.7764, 1.7618, 1.7467, 1.7098, 1.6, 1.7131, 1.7594, 2.2434, 2.1009, 2.0871, 2.0392, 2.0378, 2.0325, 2.0313, 1.987, 1.9821, 1.9778, 1.9624, 1.9583, 1.9248, 1.923, 1.9127, 1.9028, 1.8831, 1.8728, 1.8643, 1.8569, 1.8471, 1.8441, 1.8418, 1.8393, 1.8285, 1.8276, 1.8268, 1.8268, 1.8087, 1.8007, 1.797, 1.7811, 1.7929, 1.7828, 1.7406, 1.7374, 1.7073, 1.6782, 1.7625, 2.4141, 2.4131, 2.3848, 2.3199, 2.2093, 2.179, 2.1722, 2.1688, 2.1343, 2.1232, 2.0969, 2.0634, 2.0472, 2.0445, 2.0375, 2.0353, 2.0303, 2.0196, 2.0008, 2.0002, 1.9994, 1.9916, 1.9886, 1.9751, 1.9718, 1.9637, 1.9631, 1.9604, 1.9581, 1.9571, 1.9462, 1.9203, 1.924, 1.9142, 1.8761, 1.9297, 1.766, 1.8217, 1.9347, 2.3345, 2.2448, 2.1595, 2.1566, 2.067, 2.0596, 2.0576, 2.0428, 2.0327, 1.9969, 1.9958, 1.9337, 1.9231, 1.9171, 1.9067, 1.9027, 1.9007, 1.8973, 1.8968, 1.8955, 1.8941, 1.8831, 1.8792, 1.8776, 1.8756, 1.8752, 1.8666, 1.8666, 1.861, 1.86, 1.8578, 1.8445, 1.8554, 1.856, 1.8266, 1.8532, 1.8066, 1.7968, 1.8004, 1.7961, 1.8062, 1.7191, 1.7222, 1.6964, 1.7816, 1.688, 2.2087, 2.1915, 2.1771, 2.1328, 2.1284, 2.0997, 2.0692, 2.0586, 2.036, 2.0247, 2.0116, 1.9946, 1.994, 1.9744, 1.9667, 1.9636, 1.9483, 1.9211, 1.9079, 1.9004, 1.8917, 1.8897, 1.8884, 1.8865, 1.8861, 1.8846, 1.8828, 1.879, 1.8746, 1.8664, 1.8298, 1.8243, 1.844, 1.8163, 1.8262, 1.7213, 1.5968, 1.7288, 1.6312, 1.6945, 1.5951, 2.3119, 2.2837, 2.2335, 2.215, 2.1971, 2.1856, 2.1685, 2.1196, 2.0932, 2.0875, 2.0689, 2.0288, 2.0245, 2.0148, 2.0084, 1.9952, 1.9907, 1.9632, 1.9164, 1.9161, 1.9146, 1.8938, 1.889, 1.8885, 1.8739, 1.8658, 1.8634, 1.8593, 1.8538, 1.8329, 1.8282, 1.8161, 1.8156, 1.7886, 1.7551, 1.6584, 1.7443, 1.7738, 1.6422, 1.6917, 2.3102, 2.2441, 2.2015, 2.1351, 2.1233, 2.1187, 2.1006, 2.0665, 2.0543, 2.0497, 2.0378, 2.014, 1.9977, 1.9816, 1.9733, 1.9704, 1.9535, 1.9518, 1.9456, 1.9292, 1.9254, 1.9198, 1.9191, 1.915, 1.9075, 1.9072, 1.8993, 1.8933, 1.8877, 1.8755, 1.8734, 1.8627, 1.8683, 1.8292, 1.8418, 1.8098, 1.841, 1.8011, 1.6833, 1.78, 1.6908, 1.809, 1.777, 1.6971, 2.3575, 2.244, 2.2386, 2.2026, 2.1351, 2.1109, 2.11, 2.1007, 2.0852, 2.0756, 2.0531, 2.0417, 2.0294, 2.0276, 2.0244, 2.0174, 2.0169, 1.986, 1.9828, 1.9801, 1.9744, 1.9727, 1.9692, 1.9634, 1.9621, 1.948, 1.9418, 1.929, 1.9238, 1.9129, 1.9077, 1.8787, 1.8084, 1.8226, 1.819, 1.878, 1.874, 1.8604, 1.8201, 1.7221, 1.8019, 1.7478, 2.2768, 2.1999, 2.1901, 2.1072, 2.0912, 2.073, 2.0497, 2.0303, 2.0291, 2.0004, 2.0002, 1.9821, 1.9787, 1.9714, 1.9683, 1.9673, 1.9651, 1.8873, 1.879, 1.8708, 1.8677, 1.8669, 1.8623, 1.8612, 1.8519, 1.8509, 1.8508, 1.8495, 1.8384, 1.8378, 1.8296, 1.8323, 1.8161, 1.7608, 1.8191, 1.716, 1.7361, 1.6625, 1.7874, 1.6737, 1.6205, 1.5919, 2.4272, 2.2189, 2.1569, 2.1466, 2.1253, 2.1181, 2.0921, 2.07, 2.0553, 2.053, 2.049, 2.0431, 2.0405, 2.0383, 2.0359, 2.0313, 2.031, 2.0261, 2.0129, 2.0004, 1.9916, 1.978, 1.9236, 1.9176, 1.9175, 1.9058, 1.9057, 1.8975, 1.8941, 1.8823, 1.8736, 1.8721, 1.8255, 1.8614, 1.6766, 1.8445, 1.7743, 1.8031, 1.722, 1.743, 2.1634, 2.0844, 2.0712, 2.0509, 2.0319, 2.0316, 2.0304, 2.015, 2.01, 2.0047, 1.966, 1.9623, 1.9418, 1.9358, 1.9276, 1.9231, 1.9219, 1.9169, 1.8991, 1.8628, 1.858, 1.8551, 1.8544, 1.8535, 1.8518, 1.8414, 1.837, 1.833, 1.8321, 1.8299, 1.823, 1.8215, 1.8095, 1.7811, 1.8056, 1.7727, 1.7466, 1.7537, 1.7635, 1.6876, 1.6927, 2.3903, 2.3415, 2.2029, 2.1558, 2.1497, 2.1431, 2.1388, 2.1198, 2.1154, 2.1089, 2.1076, 2.0976, 2.0227, 2.0099, 2.0005, 1.9885, 1.977, 1.971, 1.9668, 1.9629, 1.9584, 1.9533, 1.9459, 1.9366, 1.9354, 1.9341, 1.9315, 1.9305, 1.9294, 1.9267, 1.8994, 1.8524, 1.8121, 1.8798, 1.8472, 1.8336, 1.8801, 1.6726, 1.5138, 1.6725, 2.2009, 2.1095, 2.0676, 2.0373, 2.0326, 1.9842, 1.9659, 1.962, 1.9609, 1.9578, 1.9473, 1.9401, 1.9191, 1.9104, 1.9024, 1.8803, 1.8786, 1.8734, 1.8728, 1.8696, 1.8658, 1.8649, 1.8648, 1.8607, 1.8561, 1.8534, 1.8469, 1.8423, 1.8374, 1.8371, 1.8142, 1.8078, 1.8081, 1.7892, 1.7563, 1.7459, 1.7275, 1.771, 1.7957, 1.7704, 1.6656, 2.3646, 2.219, 2.2083, 2.1699, 2.1574, 2.0772, 2.0641, 2.0413, 2.0192, 2.0068, 1.9741, 1.9729, 1.9691, 1.9679, 1.9664, 1.9535, 1.9492, 1.9374, 1.9358, 1.9305, 1.9278, 1.9179, 1.9165, 1.9108, 1.907, 1.9041, 1.903, 1.9013, 1.8943, 1.8931, 1.8898, 1.8706, 1.8301, 1.7681, 1.8047, 1.7932, 1.7967, 1.7108, 1.7686, 1.6373, 2.2128, 2.1799, 2.1283, 2.1236, 2.1065, 2.1051, 2.0818, 2.0547, 2.0491, 2.0423, 2.029, 2.0151, 2.0045, 2.004, 1.9895, 1.9891, 1.9766, 1.9611, 1.9555, 1.9415, 1.9344, 1.9279, 1.9269, 1.9212, 1.9039, 1.9028, 1.8943, 1.8912, 1.8905, 1.8889, 1.8787, 1.8628, 1.8199, 1.8333, 1.7941, 1.8791, 1.7583, 1.6604, 1.7706, 1.7168, 1.757, 1.6465, 2.6088, 2.2951, 2.2001, 2.1738, 2.142, 2.0961, 2.0347, 2.0344, 1.9845, 1.974, 1.9734, 1.9715, 1.9682, 1.9567, 1.9566, 1.9548, 1.9423, 1.9411, 1.9384, 1.9375, 1.9291, 1.9229, 1.9177, 1.9175, 1.9159, 1.9082, 1.9025, 1.9019, 1.8795, 1.8791, 1.8779, 1.8731, 1.8614, 1.837, 1.8129, 1.8033, 1.857, 1.8771, 1.7748, 1.7999, 1.7671, 1.7635, 1.7263, 1.6436, 1.7017, 1.7233, 1.7425, 2.1884, 2.1392, 2.1127, 2.0938, 2.0931, 2.0898, 2.0718, 2.0313, 2.0238, 2.0052, 1.9858, 1.9736, 1.9711, 1.9543, 1.9512, 1.9365, 1.9319, 1.9311, 1.9253, 1.9063, 1.9057, 1.8816, 1.876, 1.8706, 1.8668, 1.8619, 1.8614, 1.8607, 1.8603, 1.8483, 1.8463, 1.8368, 1.8148, 1.8112, 1.7755, 1.8171, 1.7921, 1.7958, 1.7829, 1.5884, 1.6604, 1.6673, 1.6627, 1.5894, 1.6669, 1.488, 2.1983, 2.1818, 2.0902, 2.0892, 2.0722, 2.0489, 2.0427, 2.0328, 2.0169, 2.0064, 1.9957, 1.9932, 1.9922, 1.9861, 1.9794, 1.9783, 1.9745, 1.9583, 1.9558, 1.9341, 1.9315, 1.9207, 1.9199, 1.9174, 1.9096, 1.9025, 1.8993, 1.8975, 1.8923, 1.8897, 1.8854, 1.8671, 1.8379, 1.8291, 1.7875, 1.8037, 1.8527, 1.8111, 1.7542, 1.771, 1.6471, 2.4696, 2.3201, 2.2862, 2.2471, 2.2127, 2.1652, 2.1246, 2.0927, 2.0767, 2.067, 2.0362, 1.9963, 1.9872, 1.9824, 1.9748, 1.9705, 1.9685, 1.9624, 1.9561, 1.9554, 1.9472, 1.9459, 1.9447, 1.943, 1.9383, 1.9264, 1.9226, 1.921, 1.9191, 1.9142, 1.9115, 1.8889, 1.8465, 1.8363, 1.842, 1.4822, 1.8669, 1.5821, 1.6107, 1.6585, 1.8226, 2.3893, 2.1986, 2.1399, 2.1375, 2.1265, 2.1258, 2.1181, 2.1116, 2.093, 2.0916, 2.0868, 2.0695, 2.0645, 2.0539, 2.0327, 2.0247, 1.9992, 1.9902, 1.9716, 1.9683, 1.9672, 1.9649, 1.9569, 1.9509, 1.9501, 1.949, 1.9472, 1.9441, 1.9332, 1.9281, 1.9274, 1.9143, 1.8462, 1.9038, 1.878, 1.8804, 1.7967, 1.8829, 1.6717, 1.7662, 1.7019, 2.2667, 2.1866, 2.1744, 2.1395, 2.1059, 2.1045, 2.0993, 2.0878, 1.9971, 1.9966, 1.992, 1.9774, 1.9637, 1.9484, 1.94, 1.9356, 1.9286, 1.9207, 1.9188, 1.9148, 1.9038, 1.8863, 1.8764, 1.8753, 1.8749, 1.8598, 1.8553, 1.8541, 1.8489, 1.8484, 1.8262, 1.8286, 1.8231, 1.7807, 1.82, 1.7133, 1.8076, 1.7239, 1.818, 1.6358, 1.668, 2.3033, 2.1409, 2.1385, 2.0923, 2.0769, 2.075, 2.0471, 2.0273, 1.9982, 1.992, 1.9884, 1.981, 1.9717, 1.9651, 1.9502, 1.9406, 1.9291, 1.8975, 1.8868, 1.8858, 1.8852, 1.8794, 1.8787, 1.875, 1.874, 1.8731, 1.8672, 1.8671, 1.8659, 1.8633, 1.8611, 1.8429, 1.8595, 1.8405, 1.8166, 1.7868, 1.817, 1.7648, 1.6891, 2.2667, 2.2532, 2.2403, 2.1877, 2.105, 2.1043, 2.0875, 2.071, 2.0517, 2.0299, 1.9867, 1.971, 1.9601, 1.9475, 1.9277, 1.9232, 1.9166, 1.9099, 1.9079, 1.9064, 1.8944, 1.8786, 1.8783, 1.8777, 1.8683, 1.8639, 1.8578, 1.8561, 1.8508, 1.8485, 1.847, 1.8428, 1.8369, 1.8281, 1.8349, 1.8363, 1.6963, 1.7811, 1.7406, 1.7935, 1.7422, 1.7197, 1.682, 1.7317, 1.7035, 2.1604, 2.1575, 2.1441, 2.1427, 2.073, 2.0466, 2.0283, 2.0175, 2.0148, 2.0106, 2.0024, 1.9764, 1.9699, 1.9625, 1.9265, 1.9214, 1.9201, 1.9192, 1.9165, 1.9134, 1.9095, 1.9079, 1.9062, 1.9054, 1.9041, 1.9037, 1.8997, 1.8892, 1.8867, 1.8844, 1.882, 1.879, 1.836, 1.8734, 1.8037, 1.8004, 1.7865, 1.7393, 1.8189, 1.6979, 1.6055, 1.7795, 2.1901, 2.1874, 2.1725, 2.1539, 2.1347, 2.1273, 2.1034, 2.0978, 2.0977, 2.0578, 2.0385, 2.0268, 2.0257, 2.0095, 2.008, 2.0046, 1.998, 1.9942, 1.9933, 1.9873, 1.9845, 1.9826, 1.9823, 1.9816, 1.9813, 1.976, 1.9671, 1.965, 1.9616, 1.9609, 1.9564, 1.947, 1.9234, 1.9399, 1.9441, 1.8772, 1.8438, 1.8884, 1.8943, 1.8053, 1.8349, 1.748, 1.7319, 1.8304, 1.8302, 1.5835]}, \"token.table\": {\"Topic\": [2, 1, 4, 13, 13, 2, 2, 5, 2, 2, 11, 13, 1, 1, 2, 6, 13, 2, 5, 2, 2, 1, 1, 2, 2, 35, 1, 13, 2, 2, 13, 2, 1, 18, 11, 13, 32, 32, 9, 13, 32, 1, 1, 2, 12, 4, 12, 2, 1, 1, 11, 6, 26, 17, 1, 25, 2, 2, 3, 13, 14, 11, 1, 1, 35, 2, 11, 2, 28, 9, 22, 2, 2, 14, 1, 2, 6, 2, 29, 5, 1, 1, 2, 15, 2, 13, 13, 4, 35, 10, 2, 2, 2, 4, 15, 1, 13, 11, 3, 29, 2, 4, 4, 11, 2, 13, 1, 1, 13, 13, 1, 11, 13, 7, 1, 1, 1, 14, 13, 2, 1, 1, 4, 2, 2, 13, 2, 13, 22, 14], \"Freq\": [0.3603478685402693, 0.34426173733761445, 0.34563198632560493, 0.38498474819160694, 0.3202933781166329, 0.28748942811301337, 0.40141645722109864, 0.3092410890423656, 0.3327685157890245, 0.3478165433423962, 0.31392327472040077, 0.31905251809615554, 0.26004001129539256, 0.38185380368689575, 0.32037887026867495, 0.3533952208748095, 0.3826801190978207, 0.2835829151457204, 0.2606584458979686, 0.43553714872318744, 0.405237150167128, 0.34721299322910126, 0.422092081952269, 0.3634540447599756, 0.25926191747634864, 0.40162896938614145, 0.30534808881891506, 0.3881125722742176, 0.27865913601688225, 0.2801002444216807, 0.34256342476162827, 0.338756980804279, 0.4127451383909916, 0.3074851582146418, 0.2563738601284153, 0.35270628651610564, 0.33479330443286137, 0.2964272095188237, 0.3110074188342741, 0.29061327888630256, 0.3022462583841377, 0.31318168311994965, 0.30566924420586383, 0.3742186467352469, 0.2624928394544014, 0.35330265447686965, 0.3004835607130769, 0.2889188703160276, 0.31800120571168555, 0.33015132661391383, 0.30968784468614696, 0.3829271346384798, 0.2851282820722953, 0.35460439422739687, 0.3164784986721344, 0.35352513886576536, 0.3022442611912313, 0.29288318478796327, 0.40801435232273053, 0.32821275016174795, 0.3348796221113485, 0.32510393563227935, 0.3506699247554544, 0.3620986643750641, 0.34115063987559324, 0.33693730157663265, 0.2773288749648758, 0.3775227637579741, 0.3398857764928255, 0.3372861647157459, 0.3747197570837093, 0.3582110622786225, 0.300550316087974, 0.3448760746992308, 0.3021117430285916, 0.29654908493349413, 0.30174408075741793, 0.2961093204644582, 0.3241553798920523, 0.27309806334491077, 0.3313131539425976, 0.37401706458519474, 0.2920676646443265, 0.26113160699879984, 0.34242440396306967, 0.33518988141729417, 0.3462055482279915, 0.3576718312809517, 0.3408849343511934, 0.4106952827250186, 0.33187193264906384, 0.2953361678647506, 0.3219897801649729, 0.2517306307371905, 0.2517306307371905, 0.308054089610059, 0.3427028800955197, 0.3501706797051934, 0.33960662602424635, 0.3059158745958736, 0.33699367934531405, 0.2991298113670582, 0.3598778202968955, 0.27111050008201976, 0.343637050686579, 0.28802471014299286, 0.2916841179655742, 0.31088863455614074, 0.3001583379231825, 0.37139922026981925, 0.33900963286232766, 0.3390717327889645, 0.315360267175522, 0.35517972614431065, 0.3155681162732436, 0.35039710571244226, 0.365741524958861, 0.3927201674936836, 0.32772503393385577, 0.31448998403334094, 0.3325121054609338, 0.39551345769200674, 0.31635438642046765, 0.3089620371033351, 0.38304092201745765, 0.3519258507084318, 0.3692288517902302, 0.352973184202193, 0.3603207674237506, 0.3028609745354069], \"Term\": [\"#aft :: #\\u00e6f\", \"#ann :: #\\u00e6n\", \"#ava :: #\\u00e6v\\u0259\", \"#avo :: \\u0254\\u026ad\", \"#bar :: o\\u028a#\", \"#brea :: \\u0279\\u025bs\", \"#cla :: \\u026b\\u025b\\u0279\", \"#clea :: k\\u026bi\", \"#crui :: #k\\u0279\", \"#emmi :: \\u025bm\\u026a\", \"#fore :: \\u0254\\u0279\\u0283\", \"#gra :: #\\u0261\\u0279\", \"#ind :: \\u026and\", \"#lib :: #\\u026b\\u026ab\", \"#loe :: #\\u026bo\", \"#love :: #\\u026b\\u0259\", \"#mari :: m\\u0251\\u0279\", \"#mcg :: #m\\u0259\\u0261\", \"#min :: m\\u026ant\", \"#nard :: n\\u0251\\u0279\", \"#ost :: #\\u0251s\", \"#roa :: #\\u0279o\", \"#scr :: #sk\\u0279\", \"#sed :: \\u026adu\", \"#str :: st\\u0279\", \"#stu :: #stu\", \"#veri :: #v\\u025b\", \"#wes :: w\\u025bst\", \"acti :: f\\u0279\\u00e6\", \"adow :: f\\u0254\\u0279\", \"agen# :: \\u0261\\u0259n\", \"ager :: e\\u026a\\u0261\", \"aler :: \\u0259\\u026b\\u025dt\", \"ally :: \\u0259\\u026bi\", \"anda :: nd\\u0259\\u026b\", \"ande :: a\\u026a\\u026b\", \"apes :: \\u026aps\", \"asp# :: \\u00e6sp#\", \"aysia :: e\\u026a\\u0292\\u0259\", \"ayto :: de\\u026a\", \"barr :: o\\u028a#\", \"bino :: no\\u028a\", \"blin :: b\\u026b\\u026a\", \"cclo :: m\\u0259k\", \"clas :: k\\u026b\\u00e6s\", \"clinc :: \\u026ant\\u0283\", \"ders :: d\\u025dz#\", \"derw :: nd\\u025d\", \"dina# :: in\\u0259\", \"dman :: m\\u0259n\", \"edic :: #m\\u025bd\", \"eebu :: ib\\u025d\\u0261\", \"eflec :: \\u026af\\u026b\\u025b\", \"eim's :: \\u026amz#\", \"ell# :: #k\\u0251\", \"elso :: \\u0259n#\", \"ener# :: n\\u025d#\", \"eowne :: n\\u025dz\", \"erman :: \\u0259n#\", \"ersc :: \\u025dsk\", \"erson :: s\\u0259n\", \"ess# :: n\\u026as\", \"este :: t\\u025d#\", \"ester :: st\\u025d#\", \"eyer# :: ma\\u026a\", \"high :: \\u026ba\\u026a\", \"ical :: \\u026bi#\", \"ick# :: \\u0279\\u026ak#\", \"ids# :: \\u026adz\", \"ifie :: \\u0259fa\", \"ight# :: \\u026ba\\u026at\", \"iles# :: \\u026a\\u026bz#\", \"illa :: #v\\u026a\\u026b\", \"ing# :: #d\\u026as\", \"inste :: sta\\u026a\", \"ion# :: \\u0283\\u0259n#\", \"ists# :: sts\", \"itch :: #h\\u026a\", \"kins :: \\u00e6tk\\u0259\", \"laun :: \\u026b\\u0254nt\", \"ling :: \\u026b\\u026a\\u014bz\", \"lings :: \\u026b\\u026a\\u014bz\", \"long# :: \\u0254\\u014b#\", \"lson :: s\\u0259n#\", \"mann# :: m\\u0259n#\", \"mcco :: #m\\u0259\", \"mcga :: m\\u0259\\u0261\", \"mend :: m\\u025bn\", \"meyer :: a\\u026a\\u025d\", \"mous :: m\\u0259s#\", \"nail :: e\\u026a\\u026b#\", \"ncher :: nt\\u0283\", \"ndig :: nd\\u026a\\u0261\", \"nger :: d\\u0292\\u025d\", \"nger :: d\\u0292\\u025d\", \"ngs# :: \\u026a\\u014bz#\", \"nite# :: \\u026at#\", \"nize :: \\u0259na\", \"nscom :: \\u0259ns\", \"odi# :: \\u0279o\\u028ad\", \"oltz :: o\\u028a\\u026bt\", \"ourse :: \\u0254\\u0279s\", \"owell :: w\\u025b\\u026b\", \"plow :: p\\u026ba\", \"poin :: \\u0254\\u026an\", \"rded# :: \\u0279d\\u026a\", \"rest :: \\u0279\\u025bs\", \"ring# :: \\u026a\\u0279\\u026a\", \"rista :: #b\\u0251\", \"rowe :: \\u028az#\", \"sant :: s\\u0251nt\", \"sbur :: sb\\u025b\", \"scra :: \\u0279e\\u026a\", \"sler :: s\\u0259\\u026b\", \"ster :: st\\u025d#\", \"ster# :: st\\u025d#\", \"sting :: \\u026a\\u014b#\", \"strac :: st\\u0279\", \"stro :: t\\u0279\\u0259\", \"table :: \\u0259b\\u0259\", \"ter# :: st\\u025d\", \"ter# :: st\\u025d#\", \"than :: \\u03b8\\u0259n\", \"tine :: t\\u0259n\\u0259\", \"tles :: \\u0259\\u026bz\", \"tten :: t\\u0259n#\", \"undi :: nd\\u026a\\u014b\", \"vill :: #v\\u026a\", \"well :: \\u0251w\\u025b\\u026b\", \"wski :: fski\"]}, \"R\": 30, \"lambda.step\": 0.01, \"plot.opts\": {\"xlab\": \"PC1\", \"ylab\": \"PC2\"}, \"topic.order\": [1, 2, 3, 4, 5, 6, 7, 8, 9, 10, 11, 12, 13, 14, 15, 16, 17, 18, 19, 20, 21, 22, 23, 24, 25, 26, 27, 28, 29, 30, 31, 32, 33, 34, 35, 36, 37, 38, 39, 40, 41, 42, 43, 44, 45, 46, 47, 48, 49, 50, 51, 52, 53, 54, 55, 56, 57, 58, 59, 60]};\n",
       "\n",
       "function LDAvis_load_lib(url, callback){\n",
       "  var s = document.createElement('script');\n",
       "  s.src = url;\n",
       "  s.async = true;\n",
       "  s.onreadystatechange = s.onload = callback;\n",
       "  s.onerror = function(){console.warn(\"failed to load library \" + url);};\n",
       "  document.getElementsByTagName(\"head\")[0].appendChild(s);\n",
       "}\n",
       "\n",
       "if(typeof(LDAvis) !== \"undefined\"){\n",
       "   // already loaded: just create the visualization\n",
       "   !function(LDAvis){\n",
       "       new LDAvis(\"#\" + \"ldavis_el196021402111850439363761575320\", ldavis_el196021402111850439363761575320_data);\n",
       "   }(LDAvis);\n",
       "}else if(typeof define === \"function\" && define.amd){\n",
       "   // require.js is available: use it to load d3/LDAvis\n",
       "   require.config({paths: {d3: \"https://d3js.org/d3.v5\"}});\n",
       "   require([\"d3\"], function(d3){\n",
       "      window.d3 = d3;\n",
       "      LDAvis_load_lib(\"https://cdn.jsdelivr.net/gh/bmabey/pyLDAvis@3.4.0/pyLDAvis/js/ldavis.v3.0.0.js\", function(){\n",
       "        new LDAvis(\"#\" + \"ldavis_el196021402111850439363761575320\", ldavis_el196021402111850439363761575320_data);\n",
       "      });\n",
       "    });\n",
       "}else{\n",
       "    // require.js not available: dynamically load d3 & LDAvis\n",
       "    LDAvis_load_lib(\"https://d3js.org/d3.v5.js\", function(){\n",
       "         LDAvis_load_lib(\"https://cdn.jsdelivr.net/gh/bmabey/pyLDAvis@3.4.0/pyLDAvis/js/ldavis.v3.0.0.js\", function(){\n",
       "                 new LDAvis(\"#\" + \"ldavis_el196021402111850439363761575320\", ldavis_el196021402111850439363761575320_data);\n",
       "            })\n",
       "         });\n",
       "}\n",
       "</script>"
      ],
      "text/plain": [
       "<IPython.core.display.HTML object>"
      ]
     },
     "execution_count": 229,
     "metadata": {},
     "output_type": "execute_result"
    }
   ],
   "source": [
    "%%capture --no-display\n",
    "\n",
    "## pyLDAvis を使った LDA の結果の可視化: 階層クラスタリングより詳しい\n",
    "import pyLDAvis\n",
    "\n",
    "installed_version = pyLDAvis.__version__\n",
    "print(f\"installed_version: {installed_version}\")\n",
    "if float(installed_version[:3]) > 3.1:\n",
    "    import pyLDAvis.gensim_models as gensimvis\n",
    "else:\n",
    "    import pyLDAvis.gensim as gensimvis\n",
    "pyLDAvis.enable_notebook()\n",
    "\n",
    "## set variable names\n",
    "if use_HDP:\n",
    "    model_used  = pair_hdp\n",
    "else:\n",
    "    model_used  = pair_lda\n",
    "corpus_used   = pair_corpus\n",
    "diction_used  = pair_diction\n",
    "\n",
    "## 実行パラメター: Setting for tSNE or MMDS solves \"TypeError: Object of type complex\n",
    "# is not JSON serializable\" and gives a better layout where overlapping is avoided\n",
    "use_MMDS = False\n",
    "use_tSNE = False\n",
    "if use_MMDS:\n",
    "    vis_data = gensimvis.prepare(model_used, corpus_used, diction_used, mds = 'mmds',\n",
    "                            n_jobs = 1, sort_topics = False)    \n",
    "elif use_tSNE:\n",
    "    vis_data = gensimvis.prepare(model_used, corpus_used, diction_used, mds = 'tsne',\n",
    "                            n_jobs = 1, sort_topics = False)\n",
    "else:\n",
    "    vis_data = gensimvis.prepare(model_used, corpus_used, diction_used,\n",
    "                            n_jobs = 1, sort_topics = False)\n",
    "##\n",
    "pyLDAvis.display(vis_data)"
   ]
  },
  {
   "cell_type": "code",
   "execution_count": 230,
   "id": "25748b85",
   "metadata": {},
   "outputs": [],
   "source": [
    "## save LDAvis output as a html file\n",
    "save_LDAvis = True\n",
    "if save_LDAvis:\n",
    "\tif not apply_term_abuse_filtering:\n",
    "\t\tterm_abuse_threshold = 0\n",
    "\tif len(lang_attr) > 0:\n",
    "\t\tvis_output = f\"results/LDAvis/{lang_name}-pair/{lang_name}-{lang_attr}-{method_name}-ntop{n_topics}-{sp_term_type}-{sn_term_type}{hash_status}-abuse={term_abuse_threshold}.html\"\n",
    "\telse:\n",
    "\t\tvis_output = f\"results/LDAvis/{lang_name}-pair/{lang_name}-{method_name}-ntop{n_topics}-{sp_term_type}-{sn_term_type}{hash_status}-abuse={term_abuse_threshold}.html\"\t\n",
    "\t#\n",
    "\tpyLDAvis.save_html(vis_data, vis_output)"
   ]
  },
  {
   "cell_type": "code",
   "execution_count": 231,
   "id": "8f1c9232",
   "metadata": {},
   "outputs": [],
   "source": [
    "## save topic structures\n",
    "hdp_topics = pair_hdp.show_topics(num_topics = max_n_topics,\n",
    "                               num_words = n_terms_to_show, formatted = False)\n",
    "hdp_dict = { tid: values for tid, values in hdp_topics }\n",
    "## convert to Pandas dataframe\n",
    "topics_df = pd.DataFrame.from_dict(hdp_dict)\n",
    "lang_dir_name = lang_name\n",
    "target_class = \"pair\"\n",
    "term_type = f\"{sp_term_type}-{sn_term_type}\"\n",
    "accent_status = \"-unaccented\"\n",
    "#\n",
    "pair_hdp_topics_out = f\"results/terms-by-topics-raw/{lang_dir_name}/{target_lang_dict[target_lang_key]}-{target_class}-topics{max_n_topics}-{term_type}{accent_status}.csv\"\n",
    "topics_df.to_csv(pair_hdp_topics_out, header = False, index = None)"
   ]
  },
  {
   "cell_type": "markdown",
   "id": "6d79c463",
   "metadata": {},
   "source": [
    "# t-SNE を使った可視化"
   ]
  },
  {
   "cell_type": "code",
   "execution_count": 232,
   "id": "24f33ef0-49d0-4df7-8ffb-3718ec8d5441",
   "metadata": {},
   "outputs": [
    {
     "name": "stdout",
     "output_type": "stream",
     "text": [
      "top_perplexity_val: 20\n"
     ]
    }
   ],
   "source": [
    "## t-SNE の実行\n",
    "from sklearn.manifold import TSNE\n",
    "import numpy as np\n",
    "## tSNE のパラメターを設定\n",
    "top_perplexity_val = round(n_topics * top_perplexity_reduct_rate) # 大き過ぎると良くない\n",
    "print(f\"top_perplexity_val: {top_perplexity_val}\")\n",
    "tSNE_3d = TSNE(n_components = 3, random_state = 0,\n",
    "               perplexity = top_perplexity_val, max_iter = 1000)\n",
    "## データに適用\n",
    "pair_top_dist = model_used.get_topics()\n",
    "pair_top_tsne_3d_fitted = tSNE_3d.fit_transform(np.array(pair_top_dist))"
   ]
  },
  {
   "cell_type": "code",
   "execution_count": 233,
   "id": "876f8dc4-ce17-47c9-917f-0c2df723eb00",
   "metadata": {},
   "outputs": [
    {
     "data": {
      "application/vnd.plotly.v1+json": {
       "config": {
        "plotlyServerURL": "https://plot.ly"
       },
       "data": [
        {
         "mode": "markers",
         "type": "scatter3d",
         "x": [
          -5.779008388519287,
          -8.245412826538086,
          41.169105529785156,
          -46.93696212768555,
          72.15931701660156,
          -123.08335876464844,
          -33.36571502685547,
          -85.19702911376953,
          -217.92581176757812,
          46.91697692871094,
          59.339839935302734,
          128.54466247558594,
          5.688716888427734,
          157.4578857421875,
          153.54454040527344,
          -69.79588317871094,
          108.6202621459961,
          -31.54527473449707,
          6.9644365310668945,
          -127.1731948852539,
          7.016482830047607,
          37.66029739379883,
          -135.968505859375,
          121.9147720336914,
          1.3334972858428955,
          114.005859375,
          33.900962829589844,
          21.94977378845215,
          -23.146602630615234,
          -124.93315887451172,
          38.21363830566406,
          -138.83480834960938,
          -566.257080078125,
          26.697063446044922,
          -60.246910095214844,
          61.12314224243164,
          -361.7342834472656,
          -73.37063598632812,
          -92.11267852783203,
          96.11074829101562,
          -124.59394836425781,
          15.61181640625,
          -97.03571319580078,
          -30.7274169921875,
          131.2879638671875,
          -63.21383285522461,
          -18.23793601989746,
          -9.798837661743164,
          -85.81767272949219,
          76.1109390258789,
          52.48278045654297,
          70.46902465820312,
          -10.645803451538086,
          12.762492179870605,
          85.252197265625,
          107.66981506347656,
          89.16539001464844,
          -65.27536010742188,
          -49.97032928466797,
          35.489585876464844
         ],
         "y": [
          159.7234649658203,
          3.2085564136505127,
          67.87498474121094,
          -87.63822174072266,
          7.644259452819824,
          82.86036682128906,
          -85.50272369384766,
          -13.791261672973633,
          -181.39767456054688,
          86.5821304321289,
          74.21114349365234,
          61.632015228271484,
          -142.99501037597656,
          38.521297454833984,
          -18.288116455078125,
          -112.11235046386719,
          -25.896907806396484,
          78.63681030273438,
          -27.687641143798828,
          -67.2739486694336,
          98.00921630859375,
          -88.84918975830078,
          9.900283813476562,
          92.9791259765625,
          -141.76524353027344,
          -69.60829162597656,
          41.449790954589844,
          10.036322593688965,
          -51.16436767578125,
          -43.90201950073242,
          -91.73560333251953,
          28.868349075317383,
          -381.3648376464844,
          -66.00775146484375,
          88.09880065917969,
          -93.69347381591797,
          -197.4968719482422,
          -0.7698696851730347,
          -17.205907821655273,
          96.53437805175781,
          58.08685302734375,
          -18.163537979125977,
          -124.63325500488281,
          54.17058181762695,
          -46.8223762512207,
          118.66728973388672,
          29.412456512451172,
          155.33824157714844,
          130.34649658203125,
          -34.639495849609375,
          73.55056762695312,
          -2.5418341159820557,
          12.452695846557617,
          143.6943817138672,
          21.28092384338379,
          -109.43385314941406,
          141.42147827148438,
          4.7505717277526855,
          -70.42359161376953,
          -44.422569274902344
         ],
         "z": [
          -17.722579956054688,
          8.154672622680664,
          -154.55361938476562,
          -128.07391357421875,
          78.57780456542969,
          -27.86077880859375,
          114.62860107421875,
          -135.6607666015625,
          -19.718626022338867,
          0.07801233977079391,
          -83.9255599975586,
          -48.052146911621094,
          50.788326263427734,
          34.34982681274414,
          -32.21989440917969,
          -52.00188064575195,
          122.95358276367188,
          92.45018005371094,
          80.09540557861328,
          -28.29359245300293,
          -44.755226135253906,
          -120.27961730957031,
          -2.264650821685791,
          -139.77337646484375,
          -28.338882446289062,
          -86.70515441894531,
          44.579917907714844,
          -52.96862030029297,
          -57.87041091918945,
          55.472381591796875,
          -41.13529968261719,
          -85.38530731201172,
          -237.99896240234375,
          20.47372817993164,
          -90.5408935546875,
          80.85757446289062,
          174.2447509765625,
          -42.77638626098633,
          135.33892822265625,
          59.64335250854492,
          68.40765380859375,
          -165.66783142089844,
          62.2851448059082,
          -5.764969348907471,
          57.50320053100586,
          -6.039863109588623,
          -111.65353393554688,
          -85.69036865234375,
          62.679168701171875,
          -18.971500396728516,
          130.3483428955078,
          -98.27281951904297,
          122.27582550048828,
          56.2943000793457,
          13.558354377746582,
          3.689671516418457,
          -36.27662658691406,
          55.16950988769531,
          20.995786666870117,
          160.5437774658203
         ]
        }
       ],
       "layout": {
        "autosize": false,
        "height": 600,
        "template": {
         "data": {
          "bar": [
           {
            "error_x": {
             "color": "#2a3f5f"
            },
            "error_y": {
             "color": "#2a3f5f"
            },
            "marker": {
             "line": {
              "color": "#E5ECF6",
              "width": 0.5
             },
             "pattern": {
              "fillmode": "overlay",
              "size": 10,
              "solidity": 0.2
             }
            },
            "type": "bar"
           }
          ],
          "barpolar": [
           {
            "marker": {
             "line": {
              "color": "#E5ECF6",
              "width": 0.5
             },
             "pattern": {
              "fillmode": "overlay",
              "size": 10,
              "solidity": 0.2
             }
            },
            "type": "barpolar"
           }
          ],
          "carpet": [
           {
            "aaxis": {
             "endlinecolor": "#2a3f5f",
             "gridcolor": "white",
             "linecolor": "white",
             "minorgridcolor": "white",
             "startlinecolor": "#2a3f5f"
            },
            "baxis": {
             "endlinecolor": "#2a3f5f",
             "gridcolor": "white",
             "linecolor": "white",
             "minorgridcolor": "white",
             "startlinecolor": "#2a3f5f"
            },
            "type": "carpet"
           }
          ],
          "choropleth": [
           {
            "colorbar": {
             "outlinewidth": 0,
             "ticks": ""
            },
            "type": "choropleth"
           }
          ],
          "contour": [
           {
            "colorbar": {
             "outlinewidth": 0,
             "ticks": ""
            },
            "colorscale": [
             [
              0,
              "#0d0887"
             ],
             [
              0.1111111111111111,
              "#46039f"
             ],
             [
              0.2222222222222222,
              "#7201a8"
             ],
             [
              0.3333333333333333,
              "#9c179e"
             ],
             [
              0.4444444444444444,
              "#bd3786"
             ],
             [
              0.5555555555555556,
              "#d8576b"
             ],
             [
              0.6666666666666666,
              "#ed7953"
             ],
             [
              0.7777777777777778,
              "#fb9f3a"
             ],
             [
              0.8888888888888888,
              "#fdca26"
             ],
             [
              1,
              "#f0f921"
             ]
            ],
            "type": "contour"
           }
          ],
          "contourcarpet": [
           {
            "colorbar": {
             "outlinewidth": 0,
             "ticks": ""
            },
            "type": "contourcarpet"
           }
          ],
          "heatmap": [
           {
            "colorbar": {
             "outlinewidth": 0,
             "ticks": ""
            },
            "colorscale": [
             [
              0,
              "#0d0887"
             ],
             [
              0.1111111111111111,
              "#46039f"
             ],
             [
              0.2222222222222222,
              "#7201a8"
             ],
             [
              0.3333333333333333,
              "#9c179e"
             ],
             [
              0.4444444444444444,
              "#bd3786"
             ],
             [
              0.5555555555555556,
              "#d8576b"
             ],
             [
              0.6666666666666666,
              "#ed7953"
             ],
             [
              0.7777777777777778,
              "#fb9f3a"
             ],
             [
              0.8888888888888888,
              "#fdca26"
             ],
             [
              1,
              "#f0f921"
             ]
            ],
            "type": "heatmap"
           }
          ],
          "heatmapgl": [
           {
            "colorbar": {
             "outlinewidth": 0,
             "ticks": ""
            },
            "colorscale": [
             [
              0,
              "#0d0887"
             ],
             [
              0.1111111111111111,
              "#46039f"
             ],
             [
              0.2222222222222222,
              "#7201a8"
             ],
             [
              0.3333333333333333,
              "#9c179e"
             ],
             [
              0.4444444444444444,
              "#bd3786"
             ],
             [
              0.5555555555555556,
              "#d8576b"
             ],
             [
              0.6666666666666666,
              "#ed7953"
             ],
             [
              0.7777777777777778,
              "#fb9f3a"
             ],
             [
              0.8888888888888888,
              "#fdca26"
             ],
             [
              1,
              "#f0f921"
             ]
            ],
            "type": "heatmapgl"
           }
          ],
          "histogram": [
           {
            "marker": {
             "pattern": {
              "fillmode": "overlay",
              "size": 10,
              "solidity": 0.2
             }
            },
            "type": "histogram"
           }
          ],
          "histogram2d": [
           {
            "colorbar": {
             "outlinewidth": 0,
             "ticks": ""
            },
            "colorscale": [
             [
              0,
              "#0d0887"
             ],
             [
              0.1111111111111111,
              "#46039f"
             ],
             [
              0.2222222222222222,
              "#7201a8"
             ],
             [
              0.3333333333333333,
              "#9c179e"
             ],
             [
              0.4444444444444444,
              "#bd3786"
             ],
             [
              0.5555555555555556,
              "#d8576b"
             ],
             [
              0.6666666666666666,
              "#ed7953"
             ],
             [
              0.7777777777777778,
              "#fb9f3a"
             ],
             [
              0.8888888888888888,
              "#fdca26"
             ],
             [
              1,
              "#f0f921"
             ]
            ],
            "type": "histogram2d"
           }
          ],
          "histogram2dcontour": [
           {
            "colorbar": {
             "outlinewidth": 0,
             "ticks": ""
            },
            "colorscale": [
             [
              0,
              "#0d0887"
             ],
             [
              0.1111111111111111,
              "#46039f"
             ],
             [
              0.2222222222222222,
              "#7201a8"
             ],
             [
              0.3333333333333333,
              "#9c179e"
             ],
             [
              0.4444444444444444,
              "#bd3786"
             ],
             [
              0.5555555555555556,
              "#d8576b"
             ],
             [
              0.6666666666666666,
              "#ed7953"
             ],
             [
              0.7777777777777778,
              "#fb9f3a"
             ],
             [
              0.8888888888888888,
              "#fdca26"
             ],
             [
              1,
              "#f0f921"
             ]
            ],
            "type": "histogram2dcontour"
           }
          ],
          "mesh3d": [
           {
            "colorbar": {
             "outlinewidth": 0,
             "ticks": ""
            },
            "type": "mesh3d"
           }
          ],
          "parcoords": [
           {
            "line": {
             "colorbar": {
              "outlinewidth": 0,
              "ticks": ""
             }
            },
            "type": "parcoords"
           }
          ],
          "pie": [
           {
            "automargin": true,
            "type": "pie"
           }
          ],
          "scatter": [
           {
            "fillpattern": {
             "fillmode": "overlay",
             "size": 10,
             "solidity": 0.2
            },
            "type": "scatter"
           }
          ],
          "scatter3d": [
           {
            "line": {
             "colorbar": {
              "outlinewidth": 0,
              "ticks": ""
             }
            },
            "marker": {
             "colorbar": {
              "outlinewidth": 0,
              "ticks": ""
             }
            },
            "type": "scatter3d"
           }
          ],
          "scattercarpet": [
           {
            "marker": {
             "colorbar": {
              "outlinewidth": 0,
              "ticks": ""
             }
            },
            "type": "scattercarpet"
           }
          ],
          "scattergeo": [
           {
            "marker": {
             "colorbar": {
              "outlinewidth": 0,
              "ticks": ""
             }
            },
            "type": "scattergeo"
           }
          ],
          "scattergl": [
           {
            "marker": {
             "colorbar": {
              "outlinewidth": 0,
              "ticks": ""
             }
            },
            "type": "scattergl"
           }
          ],
          "scattermapbox": [
           {
            "marker": {
             "colorbar": {
              "outlinewidth": 0,
              "ticks": ""
             }
            },
            "type": "scattermapbox"
           }
          ],
          "scatterpolar": [
           {
            "marker": {
             "colorbar": {
              "outlinewidth": 0,
              "ticks": ""
             }
            },
            "type": "scatterpolar"
           }
          ],
          "scatterpolargl": [
           {
            "marker": {
             "colorbar": {
              "outlinewidth": 0,
              "ticks": ""
             }
            },
            "type": "scatterpolargl"
           }
          ],
          "scatterternary": [
           {
            "marker": {
             "colorbar": {
              "outlinewidth": 0,
              "ticks": ""
             }
            },
            "type": "scatterternary"
           }
          ],
          "surface": [
           {
            "colorbar": {
             "outlinewidth": 0,
             "ticks": ""
            },
            "colorscale": [
             [
              0,
              "#0d0887"
             ],
             [
              0.1111111111111111,
              "#46039f"
             ],
             [
              0.2222222222222222,
              "#7201a8"
             ],
             [
              0.3333333333333333,
              "#9c179e"
             ],
             [
              0.4444444444444444,
              "#bd3786"
             ],
             [
              0.5555555555555556,
              "#d8576b"
             ],
             [
              0.6666666666666666,
              "#ed7953"
             ],
             [
              0.7777777777777778,
              "#fb9f3a"
             ],
             [
              0.8888888888888888,
              "#fdca26"
             ],
             [
              1,
              "#f0f921"
             ]
            ],
            "type": "surface"
           }
          ],
          "table": [
           {
            "cells": {
             "fill": {
              "color": "#EBF0F8"
             },
             "line": {
              "color": "white"
             }
            },
            "header": {
             "fill": {
              "color": "#C8D4E3"
             },
             "line": {
              "color": "white"
             }
            },
            "type": "table"
           }
          ]
         },
         "layout": {
          "annotationdefaults": {
           "arrowcolor": "#2a3f5f",
           "arrowhead": 0,
           "arrowwidth": 1
          },
          "autotypenumbers": "strict",
          "coloraxis": {
           "colorbar": {
            "outlinewidth": 0,
            "ticks": ""
           }
          },
          "colorscale": {
           "diverging": [
            [
             0,
             "#8e0152"
            ],
            [
             0.1,
             "#c51b7d"
            ],
            [
             0.2,
             "#de77ae"
            ],
            [
             0.3,
             "#f1b6da"
            ],
            [
             0.4,
             "#fde0ef"
            ],
            [
             0.5,
             "#f7f7f7"
            ],
            [
             0.6,
             "#e6f5d0"
            ],
            [
             0.7,
             "#b8e186"
            ],
            [
             0.8,
             "#7fbc41"
            ],
            [
             0.9,
             "#4d9221"
            ],
            [
             1,
             "#276419"
            ]
           ],
           "sequential": [
            [
             0,
             "#0d0887"
            ],
            [
             0.1111111111111111,
             "#46039f"
            ],
            [
             0.2222222222222222,
             "#7201a8"
            ],
            [
             0.3333333333333333,
             "#9c179e"
            ],
            [
             0.4444444444444444,
             "#bd3786"
            ],
            [
             0.5555555555555556,
             "#d8576b"
            ],
            [
             0.6666666666666666,
             "#ed7953"
            ],
            [
             0.7777777777777778,
             "#fb9f3a"
            ],
            [
             0.8888888888888888,
             "#fdca26"
            ],
            [
             1,
             "#f0f921"
            ]
           ],
           "sequentialminus": [
            [
             0,
             "#0d0887"
            ],
            [
             0.1111111111111111,
             "#46039f"
            ],
            [
             0.2222222222222222,
             "#7201a8"
            ],
            [
             0.3333333333333333,
             "#9c179e"
            ],
            [
             0.4444444444444444,
             "#bd3786"
            ],
            [
             0.5555555555555556,
             "#d8576b"
            ],
            [
             0.6666666666666666,
             "#ed7953"
            ],
            [
             0.7777777777777778,
             "#fb9f3a"
            ],
            [
             0.8888888888888888,
             "#fdca26"
            ],
            [
             1,
             "#f0f921"
            ]
           ]
          },
          "colorway": [
           "#636efa",
           "#EF553B",
           "#00cc96",
           "#ab63fa",
           "#FFA15A",
           "#19d3f3",
           "#FF6692",
           "#B6E880",
           "#FF97FF",
           "#FECB52"
          ],
          "font": {
           "color": "#2a3f5f"
          },
          "geo": {
           "bgcolor": "white",
           "lakecolor": "white",
           "landcolor": "#E5ECF6",
           "showlakes": true,
           "showland": true,
           "subunitcolor": "white"
          },
          "hoverlabel": {
           "align": "left"
          },
          "hovermode": "closest",
          "mapbox": {
           "style": "light"
          },
          "paper_bgcolor": "white",
          "plot_bgcolor": "#E5ECF6",
          "polar": {
           "angularaxis": {
            "gridcolor": "white",
            "linecolor": "white",
            "ticks": ""
           },
           "bgcolor": "#E5ECF6",
           "radialaxis": {
            "gridcolor": "white",
            "linecolor": "white",
            "ticks": ""
           }
          },
          "scene": {
           "xaxis": {
            "backgroundcolor": "#E5ECF6",
            "gridcolor": "white",
            "gridwidth": 2,
            "linecolor": "white",
            "showbackground": true,
            "ticks": "",
            "zerolinecolor": "white"
           },
           "yaxis": {
            "backgroundcolor": "#E5ECF6",
            "gridcolor": "white",
            "gridwidth": 2,
            "linecolor": "white",
            "showbackground": true,
            "ticks": "",
            "zerolinecolor": "white"
           },
           "zaxis": {
            "backgroundcolor": "#E5ECF6",
            "gridcolor": "white",
            "gridwidth": 2,
            "linecolor": "white",
            "showbackground": true,
            "ticks": "",
            "zerolinecolor": "white"
           }
          },
          "shapedefaults": {
           "line": {
            "color": "#2a3f5f"
           }
          },
          "ternary": {
           "aaxis": {
            "gridcolor": "white",
            "linecolor": "white",
            "ticks": ""
           },
           "baxis": {
            "gridcolor": "white",
            "linecolor": "white",
            "ticks": ""
           },
           "bgcolor": "#E5ECF6",
           "caxis": {
            "gridcolor": "white",
            "linecolor": "white",
            "ticks": ""
           }
          },
          "title": {
           "x": 0.05
          },
          "xaxis": {
           "automargin": true,
           "gridcolor": "white",
           "linecolor": "white",
           "ticks": "",
           "title": {
            "standoff": 15
           },
           "zerolinecolor": "white",
           "zerolinewidth": 2
          },
          "yaxis": {
           "automargin": true,
           "gridcolor": "white",
           "linecolor": "white",
           "ticks": "",
           "title": {
            "standoff": 15
           },
           "zerolinecolor": "white",
           "zerolinewidth": 2
          }
         }
        },
        "title": {
         "text": "t-SNE 3D view of 60 topics from LDA/HDP (term: sp_5gram-sn_4gram"
        },
        "width": 600
       }
      }
     },
     "metadata": {},
     "output_type": "display_data"
    }
   ],
   "source": [
    "## tSNE の結果の可視化 (3D)\n",
    "import numpy as np\n",
    "import plotly.graph_objects as go\n",
    "\n",
    "## 図の大きさを決める\n",
    "X = pair_top_tsne_3d_fitted[:,0] # 次元 1\n",
    "Y = pair_top_tsne_3d_fitted[:,1] # 次元 2\n",
    "Z = pair_top_tsne_3d_fitted[:,2] # 次元 3\n",
    "fig = go.Figure(data = [go.Scatter3d(x = X, y = Y, z = Z, mode = 'markers')])\n",
    "## 3D 散布図にラベルを追加する処理は未実装\n",
    "fig.update_layout(autosize = False, width = 600, height = 600,\n",
    "                 title = f\"t-SNE 3D view of {n_topics} topics from LDA/HDP (term: {sp_term_type}-{sn_term_type}\")\n",
    "fig.show()"
   ]
  },
  {
   "cell_type": "code",
   "execution_count": 234,
   "id": "404a29b7",
   "metadata": {},
   "outputs": [
    {
     "ename": "SystemExit",
     "evalue": "0",
     "output_type": "error",
     "traceback": [
      "An exception has occurred, use %tb to see the full traceback.\n",
      "\u001b[0;31mSystemExit\u001b[0m\u001b[0;31m:\u001b[0m 0\n"
     ]
    },
    {
     "name": "stderr",
     "output_type": "stream",
     "text": [
      "/Users/kowk/opt/miniconda3/lib/python3.10/site-packages/IPython/core/interactiveshell.py:3585: UserWarning:\n",
      "\n",
      "To exit: use 'exit', 'quit', or Ctrl-D.\n",
      "\n"
     ]
    }
   ],
   "source": [
    "## stop if HDP is used\n",
    "if use_HDP:\n",
    "    sys.exit(0)"
   ]
  },
  {
   "cell_type": "code",
   "execution_count": null,
   "id": "2726147a-b2ad-4a58-b9b8-471d696f4432",
   "metadata": {},
   "outputs": [],
   "source": [
    "%%capture --no-display\n",
    "## LDA のtopic ごとに，関連度の高い term を表示\n",
    "import pandas as pd\n",
    "n_terms = 30 # topic ごとに表示する term 数の指定\n",
    "pair_topic_dfs = [ ]\n",
    "for topic in range(n_topics):\n",
    "    pair_terms = [ ]\n",
    "    if use_HDP:\n",
    "        for i, prob in pair_hdp.show_topics(topic, num_words = n_terms):\n",
    "            pair_terms.append(pair_diction.id2token[int(i)])\n",
    "    else:\n",
    "        for i, prob in model_used.get_topic_terms(topic, topn = n_terms):\n",
    "            pair_terms.append(pair_diction.id2token[int(i)])\n",
    "    pair_topic_dfs.append(pd.DataFrame([pair_terms], index = [ f'topic {topic + 1}' ]))\n",
    "#\n",
    "df_terms_by_topics = pd.concat(pair_topic_dfs)\n",
    "## Table として表示\n",
    "df_terms_by_topics.T"
   ]
  },
  {
   "cell_type": "code",
   "execution_count": 212,
   "id": "9bb82400-bebd-4899-bda7-c2ad6782e0c2",
   "metadata": {},
   "outputs": [],
   "source": [
    "## save encoding file\n",
    "from datetime import datetime\n",
    "datetime_str = datetime.today().strftime('%Y-%m-%d-%H-%M-%S')\n",
    "signature = \"-\".join(datetime_str.split(\"-\")[0:5])\n",
    "output_file = f\"../saved-term-lists/terms-by-topics-{sp_term_type}-{sn_term_type}-a={term_abuse_threshold}-{signature}.csv\"\n",
    "#\n",
    "save_results = False\n",
    "if save_results:\n",
    "    print(f\"saving a file: {output_file}\")\n",
    "    df_terms_by_topics.to_csv(output_file, index = False)"
   ]
  }
 ],
 "metadata": {
  "kernelspec": {
   "display_name": "base",
   "language": "python",
   "name": "python3"
  },
  "language_info": {
   "codemirror_mode": {
    "name": "ipython",
    "version": 3
   },
   "file_extension": ".py",
   "mimetype": "text/x-python",
   "name": "python",
   "nbconvert_exporter": "python",
   "pygments_lexer": "ipython3",
   "version": "3.10.14"
  },
  "widgets": {
   "application/vnd.jupyter.widget-state+json": {
    "state": {},
    "version_major": 2,
    "version_minor": 0
   }
  }
 },
 "nbformat": 4,
 "nbformat_minor": 5
}
