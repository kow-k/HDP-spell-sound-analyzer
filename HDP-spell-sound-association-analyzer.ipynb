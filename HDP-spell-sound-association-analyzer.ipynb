{
 "cells": [
  {
   "cell_type": "markdown",
   "id": "a4316af3",
   "metadata": {},
   "source": [
    "# Set up"
   ]
  },
  {
   "cell_type": "code",
   "execution_count": 58,
   "id": "c15cc18d",
   "metadata": {},
   "outputs": [],
   "source": [
    "## prepare packages\n",
    "#%pip install -U pandas\n",
    "#%pip install -U matplotlib\n",
    "#%pip install -U gensim\n",
    "#%pip install -U scipy\n",
    "#%pip install -U pyLDAvis\n",
    "#%pip install -U plotly\n",
    "#%pip install -U 'nbformat>=4.2.0'"
   ]
  },
  {
   "cell_type": "code",
   "execution_count": 59,
   "id": "ece3e270",
   "metadata": {},
   "outputs": [],
   "source": [
    "## import modules\n",
    "import os, sys\n",
    "## maake accessible files on level immediately above \n",
    "sys.path.append(os.path.join(os.path.dirname(\"__file__\"), \"..\"))\n",
    "## import other modules\n",
    "import re\n",
    "import gzip, glob\n",
    "import unicodedata"
   ]
  },
  {
   "cell_type": "markdown",
   "id": "e35a186e",
   "metadata": {},
   "source": [
    "# Preparation 1"
   ]
  },
  {
   "cell_type": "code",
   "execution_count": 60,
   "id": "a3fc73db-d5f9-44a1-9f49-16a02df376d3",
   "metadata": {},
   "outputs": [
    {
     "name": "stdout",
     "output_type": "stream",
     "text": [
      "sp_term_type: sp_sk5gram\n",
      "sn_term_type: sn_sk5gram\n"
     ]
    }
   ],
   "source": [
    "## parameters\n",
    "verbose              = True\n",
    "save_results         = False\n",
    "targets_csv          = True\n",
    "\n",
    "## source sampling\n",
    "source_sampling      = True\n",
    "source_sampling_rate = 0.03 # optimal values depend on kinds of source\n",
    "\n",
    "## doc settings # The longer sentences become, the less precise pairing becomes\n",
    "size_measures        = [ 'sp_size', 'sn_size' ]\n",
    "size_measure         = size_measures[1]\n",
    "max_doc_size         = 10 # values larger than 10 take considerably longer to complete\n",
    "min_doc_size         =  4\n",
    "\n",
    "## preprocessing settings\n",
    "lower_chars          = True\n",
    "strip_accents        = True\n",
    "add_boundaries       = True\n",
    "boundary_symbol      = '#'  # requires more processing resource\n",
    "if add_boundaries:\n",
    "    hash_status = \"-hashed\"\n",
    "else:\n",
    "    hash_status = \"\"\n",
    "\n",
    "## term settings\n",
    "ngram_is_inclusive    = True # takes significantly more time to complete but invites sum error if False with larger n, \n",
    "inclusion_degree      = 1    # Valid values are {0, 1, 2, ..., None}. With k, n-grams includes (n-k)-grams\n",
    "max_gap_size_factor   = 0.53 # It takes time at valuers larger than 0.5 with larger n such as n = 5\n",
    "max_gap_size          = round(max_doc_size * max_gap_size_factor) # This needs to be smaller than other cases.\n",
    "\n",
    "## Skippy n-gram の隙間を表わす記号\n",
    "gap_marker            = \"…\"\n",
    "\n",
    "## spell term と sound term の連結記号\n",
    "pair_marker           = \" :: \"\n",
    "\n",
    "## set spell term_type\n",
    "sp_term_types  = [ 'sp_1gram',\n",
    "                  'sp_2gram', 'sp_3gram', 'sp_4gram', 'sp_5gram',\n",
    "                 'sp_sk2gram', 'sp_sk3gram', 'sp_sk4gram', 'sp_sk5gram' ]\n",
    "sp_term_type   = sp_term_types[-1]\n",
    "print(f\"sp_term_type: {sp_term_type}\")\n",
    "\n",
    "## set sound term_type\n",
    "sn_term_types = [ 'sn_1gram',\n",
    "                 'sn_2gram', 'sn_3gram', 'sn_4gram', 'sn_5gram',\n",
    "                 'sn_sk2gram', 'sn_sk3gram', 'sn_sk4gram', 'sn_sk5gram' ]\n",
    "sn_term_type = sn_term_types[-1]\n",
    "print(f\"sn_term_type: {sn_term_type}\")"
   ]
  },
  {
   "cell_type": "code",
   "execution_count": 61,
   "id": "c2d56fdd",
   "metadata": {},
   "outputs": [],
   "source": [
    "## term filtering: some combinations cause \"Not all rows sum to 1\" error with HDP, but no with LDA\n",
    "apply_term_freq_filtering  = True\n",
    "term_minfreq               = 3 # Effective for speeding up\n",
    "apply_term_abuse_filtering = True\n",
    "term_abuse_threshold       = 0.1 # Larger values reveal deeper; 0.006 seems to be the smallest"
   ]
  },
  {
   "cell_type": "code",
   "execution_count": 62,
   "id": "536120cb",
   "metadata": {},
   "outputs": [
    {
     "name": "stdout",
     "output_type": "stream",
     "text": [
      "method_name: HDP\n",
      "max_n_topics for HDP: 45\n",
      "n_topics for LDA: 45\n",
      "top_perplexity_reduct_rate: 0.33\n"
     ]
    }
   ],
   "source": [
    "## select HDP or LDA: HDP takes considerably longer than LDA,\n",
    "## and is susceptible with \"Not all rows sum to 1\" error at pyLDAvis\n",
    "## HDP\n",
    "use_HDP         = True\n",
    "max_n_topics    = 45\n",
    "n_terms_to_show = 120\n",
    "\n",
    "## LDA\n",
    "n_topics  = max_n_topics # 精度にはあまり影響しない？\n",
    "if use_HDP:\n",
    "    method_name  = \"HDP\" # non-executive variable to be used in file names\n",
    "else:\n",
    "    method_name  = \"LDA\"\n",
    "\n",
    "## tSNE\n",
    "top_perplexity_reduct_rate = 0.33\n",
    "##\n",
    "print(f\"method_name: {method_name}\")\n",
    "print(f\"max_n_topics for HDP: {max_n_topics}\")\n",
    "print(f\"n_topics for LDA: {n_topics}\")\n",
    "print(f\"top_perplexity_reduct_rate: {top_perplexity_reduct_rate}\")"
   ]
  },
  {
   "cell_type": "code",
   "execution_count": 63,
   "id": "b88ae1c3-fd5d-4efe-ab39-45a8d4a9d786",
   "metadata": {},
   "outputs": [
    {
     "data": {
      "text/plain": [
       "['data/open-dict-ipa/data1/yue.csv.gz',\n",
       " 'data/open-dict-ipa/data1/vi_S.csv.gz',\n",
       " 'data/open-dict-ipa/data1/de.csv.gz',\n",
       " 'data/open-dict-ipa/data1/jam.csv.gz',\n",
       " 'data/open-dict-ipa/data1/fa.csv.gz',\n",
       " 'data/open-dict-ipa/data1/zh_hant.csv.gz',\n",
       " 'data/open-dict-ipa/data1/sw.csv.gz',\n",
       " 'data/open-dict-ipa/data1/ar.csv.gz',\n",
       " 'data/open-dict-ipa/data1/es_MX.csv.gz',\n",
       " 'data/open-dict-ipa/data1/vi_C.csv.gz',\n",
       " 'data/open-dict-ipa/data1/ma.csv.gz',\n",
       " 'data/open-dict-ipa/data1/fi.csv.gz',\n",
       " 'data/open-dict-ipa/data1/eo.csv.gz',\n",
       " 'data/open-dict-ipa/data1/fr_QC.csv.gz',\n",
       " 'data/open-dict-ipa/data1/es_ES.csv.gz',\n",
       " 'data/open-dict-ipa/data1/en_US.csv.gz',\n",
       " 'data/open-dict-ipa/data1/en_UK.csv.gz',\n",
       " 'data/open-dict-ipa/data1/nb.csv.gz',\n",
       " 'data/open-dict-ipa/data1/nl.csv.gz',\n",
       " 'data/open-dict-ipa/data1/sv.csv.gz',\n",
       " 'data/open-dict-ipa/data1/or.csv.gz',\n",
       " 'data/open-dict-ipa/data1/zh_hans.csv.gz',\n",
       " 'data/open-dict-ipa/data1/fr_FR.csv.gz',\n",
       " 'data/open-dict-ipa/data1/vi_N.csv.gz',\n",
       " 'data/open-dict-ipa/data1/ja.csv.gz',\n",
       " 'data/open-dict-ipa/data1/is.csv.gz',\n",
       " 'data/open-dict-ipa/data1a/de_N_only.csv.gz',\n",
       " 'data/open-dict-ipa/data1a/de_non_N_only.csv.gz']"
      ]
     },
     "execution_count": 63,
     "metadata": {},
     "output_type": "execute_result"
    }
   ],
   "source": [
    "## get data\n",
    "import glob\n",
    "data_dir1 = \"data/open-dict-ipa/data1\"\n",
    "data_dir2 = \"data/open-dict-ipa/data1a\"\n",
    "files = [ ]\n",
    "for dir in [ data_dir1, data_dir2 ]:\n",
    "    gz_files = glob.glob(f\"{dir}/*.gz\")\n",
    "    files.extend(gz_files)\n",
    "    csv_files = glob.glob(f\"{dir}/*.csv\")\n",
    "    files.extend(csv_files)\n",
    "    txt_files = glob.glob(f\"{data_dir2}/*.txt\")\n",
    "    files.extend(txt_files)\n",
    "#\n",
    "files"
   ]
  },
  {
   "cell_type": "code",
   "execution_count": 64,
   "id": "f508682d",
   "metadata": {},
   "outputs": [
    {
     "name": "stdout",
     "output_type": "stream",
     "text": [
      "lang_name: English () [lang_key: en]\n",
      "['data/open-dict-ipa/data1/en_US.csv.gz', 'data/open-dict-ipa/data1/en_UK.csv.gz']\n"
     ]
    }
   ],
   "source": [
    "## select language and file\n",
    "lang_names = {  'ar' : 'Arabic',\n",
    "                'de' : 'German',\n",
    "                'en' : 'English',\n",
    "                'es' : 'Spanish',\n",
    "                'fr' : 'French',\n",
    "                'sw' : 'Swahili'\n",
    "            }\n",
    "#\n",
    "lang_keys = [ 'ar', 'de', 'en', 'es', 'fr', 'sw' ]\n",
    "#\n",
    "lang_key  = lang_keys[2]\n",
    "lang_name = lang_names[lang_key]\n",
    "lang_attr = \"\"\n",
    "print(f\"lang_name: {lang_name} ({lang_attr}) [lang_key: {lang_key}]\")\n",
    "# aliases\n",
    "target_lang_dict = lang_names\n",
    "target_lang_keys = lang_keys\n",
    "target_lang_key  = lang_key\n",
    "target_lang_attr = lang_attr\n",
    "#\n",
    "files = [ file for file in files if f\"/{lang_key}\" in file ]\n",
    "print(files)\n",
    "if len(lang_attr) > 0:\n",
    "    print(f\"lang_attr: {lang_attr}\")\n",
    "    selected_files = [ file for file in files if lang_attr in file ]\n",
    "else:\n",
    "    selected_files = files\n",
    "selected_files\n",
    "if len(selected_files) == 0:\n",
    "    exit()"
   ]
  },
  {
   "cell_type": "code",
   "execution_count": 65,
   "id": "97086ae0-f619-46dc-932a-383d22e797f1",
   "metadata": {},
   "outputs": [
    {
     "data": {
      "text/html": [
       "<div>\n",
       "<style scoped>\n",
       "    .dataframe tbody tr th:only-of-type {\n",
       "        vertical-align: middle;\n",
       "    }\n",
       "\n",
       "    .dataframe tbody tr th {\n",
       "        vertical-align: top;\n",
       "    }\n",
       "\n",
       "    .dataframe thead th {\n",
       "        text-align: right;\n",
       "    }\n",
       "</style>\n",
       "<table border=\"1\" class=\"dataframe\">\n",
       "  <thead>\n",
       "    <tr style=\"text-align: right;\">\n",
       "      <th></th>\n",
       "      <th>sp_word</th>\n",
       "      <th>sn_word</th>\n",
       "    </tr>\n",
       "  </thead>\n",
       "  <tbody>\n",
       "    <tr>\n",
       "      <th>0</th>\n",
       "      <td>'bout</td>\n",
       "      <td>/ˈbaʊt/</td>\n",
       "    </tr>\n",
       "    <tr>\n",
       "      <th>1</th>\n",
       "      <td>'cause</td>\n",
       "      <td>/kəz/</td>\n",
       "    </tr>\n",
       "    <tr>\n",
       "      <th>2</th>\n",
       "      <td>'course</td>\n",
       "      <td>/ˈkɔɹs/</td>\n",
       "    </tr>\n",
       "    <tr>\n",
       "      <th>3</th>\n",
       "      <td>'cuse</td>\n",
       "      <td>/ˈkjuz/</td>\n",
       "    </tr>\n",
       "    <tr>\n",
       "      <th>4</th>\n",
       "      <td>'em</td>\n",
       "      <td>/əm/</td>\n",
       "    </tr>\n",
       "    <tr>\n",
       "      <th>...</th>\n",
       "      <td>...</td>\n",
       "      <td>...</td>\n",
       "    </tr>\n",
       "    <tr>\n",
       "      <th>125922</th>\n",
       "      <td>zysk</td>\n",
       "      <td>/ˈzaɪsk/</td>\n",
       "    </tr>\n",
       "    <tr>\n",
       "      <th>125923</th>\n",
       "      <td>zyskowski</td>\n",
       "      <td>/zɪˈskɔfski/</td>\n",
       "    </tr>\n",
       "    <tr>\n",
       "      <th>125924</th>\n",
       "      <td>zyuganov</td>\n",
       "      <td>/ˈzjuɡɑnɑv/, /ˈzuɡɑnɑv/</td>\n",
       "    </tr>\n",
       "    <tr>\n",
       "      <th>125925</th>\n",
       "      <td>zyuganov's</td>\n",
       "      <td>/ˈzjuɡɑnɑvz/, /ˈzuɡɑnɑvz/</td>\n",
       "    </tr>\n",
       "    <tr>\n",
       "      <th>125926</th>\n",
       "      <td>zywicki</td>\n",
       "      <td>/zɪˈwɪki/</td>\n",
       "    </tr>\n",
       "  </tbody>\n",
       "</table>\n",
       "<p>125927 rows × 2 columns</p>\n",
       "</div>"
      ],
      "text/plain": [
       "           sp_word                    sn_word\n",
       "0            'bout                    /ˈbaʊt/\n",
       "1           'cause                      /kəz/\n",
       "2          'course                    /ˈkɔɹs/\n",
       "3            'cuse                    /ˈkjuz/\n",
       "4              'em                       /əm/\n",
       "...            ...                        ...\n",
       "125922        zysk                   /ˈzaɪsk/\n",
       "125923   zyskowski               /zɪˈskɔfski/\n",
       "125924    zyuganov    /ˈzjuɡɑnɑv/, /ˈzuɡɑnɑv/\n",
       "125925  zyuganov's  /ˈzjuɡɑnɑvz/, /ˈzuɡɑnɑvz/\n",
       "125926     zywicki                  /zɪˈwɪki/\n",
       "\n",
       "[125927 rows x 2 columns]"
      ]
     },
     "execution_count": 65,
     "metadata": {},
     "output_type": "execute_result"
    }
   ],
   "source": [
    "## build data from files\n",
    "import re, unicodedata\n",
    "import pandas as pd\n",
    "check = False\n",
    "target_file = selected_files[0]\n",
    "col_names = [ 'sp_word', 'sn_word' ]\n",
    "if target_file.endswith(\".gz\"):\n",
    "    with gzip.open(target_file, \"rt\") as f:\n",
    "        raw_df = pd.read_csv(f, encoding = 'utf8', header = None, names = col_names )\n",
    "else:\n",
    "    with open(target_file, \"rt\") as f:\n",
    "        raw_df = pd.read_csv(f, encoding = 'utf8', header = None, names = col_names )\n",
    "#\n",
    "raw_df"
   ]
  },
  {
   "cell_type": "code",
   "execution_count": 66,
   "id": "83365b9b",
   "metadata": {},
   "outputs": [
    {
     "data": {
      "text/html": [
       "<div>\n",
       "<style scoped>\n",
       "    .dataframe tbody tr th:only-of-type {\n",
       "        vertical-align: middle;\n",
       "    }\n",
       "\n",
       "    .dataframe tbody tr th {\n",
       "        vertical-align: top;\n",
       "    }\n",
       "\n",
       "    .dataframe thead th {\n",
       "        text-align: right;\n",
       "    }\n",
       "</style>\n",
       "<table border=\"1\" class=\"dataframe\">\n",
       "  <thead>\n",
       "    <tr style=\"text-align: right;\">\n",
       "      <th></th>\n",
       "      <th>sp_word</th>\n",
       "      <th>sn_word</th>\n",
       "    </tr>\n",
       "  </thead>\n",
       "  <tbody>\n",
       "    <tr>\n",
       "      <th>0</th>\n",
       "      <td>'bout</td>\n",
       "      <td>baʊt</td>\n",
       "    </tr>\n",
       "    <tr>\n",
       "      <th>1</th>\n",
       "      <td>'cause</td>\n",
       "      <td>kəz</td>\n",
       "    </tr>\n",
       "    <tr>\n",
       "      <th>2</th>\n",
       "      <td>'course</td>\n",
       "      <td>kɔɹs</td>\n",
       "    </tr>\n",
       "    <tr>\n",
       "      <th>3</th>\n",
       "      <td>'cuse</td>\n",
       "      <td>kjuz</td>\n",
       "    </tr>\n",
       "    <tr>\n",
       "      <th>4</th>\n",
       "      <td>'em</td>\n",
       "      <td>əm</td>\n",
       "    </tr>\n",
       "    <tr>\n",
       "      <th>...</th>\n",
       "      <td>...</td>\n",
       "      <td>...</td>\n",
       "    </tr>\n",
       "    <tr>\n",
       "      <th>125922</th>\n",
       "      <td>zysk</td>\n",
       "      <td>zaɪsk</td>\n",
       "    </tr>\n",
       "    <tr>\n",
       "      <th>125923</th>\n",
       "      <td>zyskowski</td>\n",
       "      <td>zɪskɔfski</td>\n",
       "    </tr>\n",
       "    <tr>\n",
       "      <th>125924</th>\n",
       "      <td>zyuganov</td>\n",
       "      <td>zjuɡɑnɑv</td>\n",
       "    </tr>\n",
       "    <tr>\n",
       "      <th>125925</th>\n",
       "      <td>zyuganov's</td>\n",
       "      <td>zjuɡɑnɑvz</td>\n",
       "    </tr>\n",
       "    <tr>\n",
       "      <th>125926</th>\n",
       "      <td>zywicki</td>\n",
       "      <td>zɪwɪki</td>\n",
       "    </tr>\n",
       "  </tbody>\n",
       "</table>\n",
       "<p>125927 rows × 2 columns</p>\n",
       "</div>"
      ],
      "text/plain": [
       "           sp_word    sn_word\n",
       "0            'bout       baʊt\n",
       "1           'cause        kəz\n",
       "2          'course       kɔɹs\n",
       "3            'cuse       kjuz\n",
       "4              'em         əm\n",
       "...            ...        ...\n",
       "125922        zysk      zaɪsk\n",
       "125923   zyskowski  zɪskɔfski\n",
       "125924    zyuganov   zjuɡɑnɑv\n",
       "125925  zyuganov's  zjuɡɑnɑvz\n",
       "125926     zywicki     zɪwɪki\n",
       "\n",
       "[125927 rows x 2 columns]"
      ]
     },
     "execution_count": 66,
     "metadata": {},
     "output_type": "execute_result"
    }
   ],
   "source": [
    "## modify spell\n",
    "raw_df['sp_word'] = raw_df['sp_word'].apply(lambda x: unicodedata.normalize('NFC', str(x)))\n",
    "if lower_chars:\n",
    "    raw_df['sp_word'] = raw_df['sp_word'].apply(lambda x: x.lower())\n",
    "\n",
    "## modify sound symbols\n",
    "raw_df['sn_word'] = raw_df['sn_word'].apply(lambda x: unicodedata.normalize('NFC', str(x)))\n",
    "raw_df['sn_word'] = raw_df['sn_word'].apply(lambda x: re.sub(r\"/\", \"\", x))\n",
    "raw_df['sn_word'] = raw_df['sn_word'].apply(lambda x: x.split(\",\")[0]) # pick up only the first\n",
    "if strip_accents:\n",
    "    raw_df['sn_word'] = raw_df['sn_word'].apply(lambda x: re.sub(r'\"', \"\", x))\n",
    "    raw_df['sn_word'] = raw_df['sn_word'].apply(lambda x: re.sub(r\"[ˈˌ]\", \"\", x))\n",
    "#\n",
    "raw_df"
   ]
  },
  {
   "cell_type": "code",
   "execution_count": 67,
   "id": "81bbbea3",
   "metadata": {},
   "outputs": [
    {
     "data": {
      "text/html": [
       "<div>\n",
       "<style scoped>\n",
       "    .dataframe tbody tr th:only-of-type {\n",
       "        vertical-align: middle;\n",
       "    }\n",
       "\n",
       "    .dataframe tbody tr th {\n",
       "        vertical-align: top;\n",
       "    }\n",
       "\n",
       "    .dataframe thead th {\n",
       "        text-align: right;\n",
       "    }\n",
       "</style>\n",
       "<table border=\"1\" class=\"dataframe\">\n",
       "  <thead>\n",
       "    <tr style=\"text-align: right;\">\n",
       "      <th></th>\n",
       "      <th>did</th>\n",
       "      <th>sid</th>\n",
       "      <th>sp_word</th>\n",
       "      <th>sn_word</th>\n",
       "    </tr>\n",
       "  </thead>\n",
       "  <tbody>\n",
       "    <tr>\n",
       "      <th>0</th>\n",
       "      <td>1</td>\n",
       "      <td>1</td>\n",
       "      <td>'bout</td>\n",
       "      <td>baʊt</td>\n",
       "    </tr>\n",
       "    <tr>\n",
       "      <th>1</th>\n",
       "      <td>2</td>\n",
       "      <td>2</td>\n",
       "      <td>'cause</td>\n",
       "      <td>kəz</td>\n",
       "    </tr>\n",
       "    <tr>\n",
       "      <th>2</th>\n",
       "      <td>3</td>\n",
       "      <td>3</td>\n",
       "      <td>'course</td>\n",
       "      <td>kɔɹs</td>\n",
       "    </tr>\n",
       "    <tr>\n",
       "      <th>3</th>\n",
       "      <td>4</td>\n",
       "      <td>4</td>\n",
       "      <td>'cuse</td>\n",
       "      <td>kjuz</td>\n",
       "    </tr>\n",
       "    <tr>\n",
       "      <th>4</th>\n",
       "      <td>5</td>\n",
       "      <td>5</td>\n",
       "      <td>'em</td>\n",
       "      <td>əm</td>\n",
       "    </tr>\n",
       "    <tr>\n",
       "      <th>...</th>\n",
       "      <td>...</td>\n",
       "      <td>...</td>\n",
       "      <td>...</td>\n",
       "      <td>...</td>\n",
       "    </tr>\n",
       "    <tr>\n",
       "      <th>125922</th>\n",
       "      <td>125923</td>\n",
       "      <td>125923</td>\n",
       "      <td>zysk</td>\n",
       "      <td>zaɪsk</td>\n",
       "    </tr>\n",
       "    <tr>\n",
       "      <th>125923</th>\n",
       "      <td>125924</td>\n",
       "      <td>125924</td>\n",
       "      <td>zyskowski</td>\n",
       "      <td>zɪskɔfski</td>\n",
       "    </tr>\n",
       "    <tr>\n",
       "      <th>125924</th>\n",
       "      <td>125925</td>\n",
       "      <td>125925</td>\n",
       "      <td>zyuganov</td>\n",
       "      <td>zjuɡɑnɑv</td>\n",
       "    </tr>\n",
       "    <tr>\n",
       "      <th>125925</th>\n",
       "      <td>125926</td>\n",
       "      <td>125926</td>\n",
       "      <td>zyuganov's</td>\n",
       "      <td>zjuɡɑnɑvz</td>\n",
       "    </tr>\n",
       "    <tr>\n",
       "      <th>125926</th>\n",
       "      <td>125927</td>\n",
       "      <td>125927</td>\n",
       "      <td>zywicki</td>\n",
       "      <td>zɪwɪki</td>\n",
       "    </tr>\n",
       "  </tbody>\n",
       "</table>\n",
       "<p>125927 rows × 4 columns</p>\n",
       "</div>"
      ],
      "text/plain": [
       "           did     sid     sp_word    sn_word\n",
       "0            1       1       'bout       baʊt\n",
       "1            2       2      'cause        kəz\n",
       "2            3       3     'course       kɔɹs\n",
       "3            4       4       'cuse       kjuz\n",
       "4            5       5         'em         əm\n",
       "...        ...     ...         ...        ...\n",
       "125922  125923  125923        zysk      zaɪsk\n",
       "125923  125924  125924   zyskowski  zɪskɔfski\n",
       "125924  125925  125925    zyuganov   zjuɡɑnɑv\n",
       "125925  125926  125926  zyuganov's  zjuɡɑnɑvz\n",
       "125926  125927  125927     zywicki     zɪwɪki\n",
       "\n",
       "[125927 rows x 4 columns]"
      ]
     },
     "execution_count": 67,
     "metadata": {},
     "output_type": "execute_result"
    }
   ],
   "source": [
    "## build df\n",
    "dids = [ ]\n",
    "sids = [ ]\n",
    "Spells = [ ]\n",
    "Sounds = [ ]\n",
    "for i, row in raw_df.iterrows():\n",
    "    spell = row['sp_word']\n",
    "    sound = row['sn_word']\n",
    "    if len(spell) > 0 and len(sound) > 0:\n",
    "        dids.append(i + 1)\n",
    "        sids.append(i + 1)\n",
    "        Spells.append(spell)\n",
    "        Sounds.append(sound)\n",
    "#\n",
    "var_names = [ 'did', 'sid', 'sp_word', 'sn_word',\n",
    "            'sp_size', 'sn_size', 'paired_terms', \n",
    "            'sp_1gram', 'sp_2gram', 'sp_3gram',\n",
    "            'sp_sk2gram', 'sp_sk3gram',\n",
    "            'sn_1gram', 'sn_2gram', 'sn_3gram', \n",
    "            'sn_sk2gram', 'sn_sk3gram' ]\n",
    "df = pd.DataFrame()\n",
    "df['did'] = dids\n",
    "df['sid'] = sids\n",
    "df['sp_word'] = Spells\n",
    "df['sn_word'] = Sounds\n",
    "#\n",
    "df[var_names[:4]]"
   ]
  },
  {
   "cell_type": "code",
   "execution_count": 68,
   "id": "fa5d409e-d2ae-4c3a-9fac-e4b646682d77",
   "metadata": {},
   "outputs": [
    {
     "name": "stdout",
     "output_type": "stream",
     "text": [
      "sampled 3778 (0.030) rows by discarding 122149 rows\n"
     ]
    }
   ],
   "source": [
    "## sampling\n",
    "if source_sampling:\n",
    "    original_size = len(df)\n",
    "    sample_size = round(len(df) * source_sampling_rate)\n",
    "    df = df.sample(sample_size)\n",
    "    print(f\"sampled {len(df)} ({source_sampling_rate:0.3f}) rows by discarding {original_size - len(df)} rows\")"
   ]
  },
  {
   "cell_type": "code",
   "execution_count": 69,
   "id": "5aa50f78-ca51-45b7-85a5-68b9ab978bcf",
   "metadata": {},
   "outputs": [],
   "source": [
    "## tokenization\n",
    "import gzip, re\n",
    "import pandas as pd\n",
    "check = False\n",
    "Snx = [ ]\n",
    "Spx = [ ]\n",
    "for i, row in df.iterrows():\n",
    "    Spt = row['sp_word']\n",
    "    Snt = row['sn_word']\n",
    "    split_pattern = r\"\"\n",
    "    ## Spell\n",
    "    sp_seg = [ x for x in re.split(split_pattern, Spt) if len(x) > 0 ]\n",
    "    if check:\n",
    "        print(sp_seg)\n",
    "    Spx.append(sp_seg)\n",
    "    ## Sound\n",
    "    sn_seg = [ x for x in re.split(split_pattern, Snt) if len(x) > 0 ]\n",
    "    if check:\n",
    "        print(sn_seg)\n",
    "    Snx.append(sn_seg)\n",
    "## Spell\n",
    "try:\n",
    "    df['sp_1gram'] = Spx\n",
    "except ValueError:\n",
    "    pass\n",
    "## Sound\n",
    "try:\n",
    "    df['sn_1gram'] = Snx\n",
    "except ValueError:\n",
    "    pass\n",
    "## check result\n",
    "if verbose:\n",
    "    df"
   ]
  },
  {
   "cell_type": "code",
   "execution_count": 70,
   "id": "756e28b8-e393-4e0f-a890-b73df31b846f",
   "metadata": {},
   "outputs": [],
   "source": [
    "## add size columns\n",
    "df['sp_size'] = df['sp_1gram'].apply(lambda x: len(x))\n",
    "df['sn_size'] = df['sn_1gram'].apply(lambda x: len(x))\n",
    "if verbose:\n",
    "    df"
   ]
  },
  {
   "cell_type": "code",
   "execution_count": 71,
   "id": "1b7f1f94-aed4-4a66-b5fd-9347a4c9700d",
   "metadata": {},
   "outputs": [
    {
     "data": {
      "image/png": "[encoded data removed]",
      "text/plain": [
       "<Figure size 640x480 with 1 Axes>"
      ]
     },
     "metadata": {},
     "output_type": "display_data"
    }
   ],
   "source": [
    "## 語の綴り文字数の分布\n",
    "import matplotlib.pyplot as plt\n",
    "plt.hist(df['sp_size'], bins = 20)\n",
    "plt.title(f\"Distribution of counts in spell\")\n",
    "plt.show()"
   ]
  },
  {
   "cell_type": "code",
   "execution_count": 72,
   "id": "4149bba3",
   "metadata": {},
   "outputs": [
    {
     "data": {
      "image/png": "[encoded data removed]",
      "text/plain": [
       "<Figure size 640x480 with 1 Axes>"
      ]
     },
     "metadata": {},
     "output_type": "display_data"
    }
   ],
   "source": [
    "## 語の発音記号数の分布\n",
    "import matplotlib.pyplot as plt\n",
    "plt.hist(df['sn_size'], bins = 20)\n",
    "plt.title(f\"Distribution of counts in sound\")\n",
    "plt.show()"
   ]
  },
  {
   "cell_type": "markdown",
   "id": "a39fc02b",
   "metadata": {},
   "source": [
    "# build terms, part 1"
   ]
  },
  {
   "cell_type": "code",
   "execution_count": 73,
   "id": "ecb048dc-7b78-46f9-80ef-5de9bff36232",
   "metadata": {
    "tags": [
     "Filtering by doc length"
    ]
   },
   "outputs": [
    {
     "name": "stdout",
     "output_type": "stream",
     "text": [
      "discarding pairs whose sn_size part has less than 4 chars\n",
      "discarding pairs whose sn_size part has more than 10 chars\n",
      "597 (0.158) pairs were removed\n",
      "3181 pairs remain\n"
     ]
    }
   ],
   "source": [
    "## 長さで濾過\n",
    "original_size = len(df)\n",
    "print(f\"discarding pairs whose {size_measure} part has less than {min_doc_size} chars\")\n",
    "df = df[df[size_measure] >= min_doc_size]\n",
    "\n",
    "print(f\"discarding pairs whose {size_measure} part has more than {max_doc_size} chars\")\n",
    "df = df[df[size_measure] < max_doc_size]\n",
    "\n",
    "current_size = len(df)\n",
    "size_diff = original_size - current_size\n",
    "print(f\"{size_diff} ({size_diff/original_size:.3f}) pairs were removed\")\n",
    "print(f\"{current_size} pairs remain\")"
   ]
  },
  {
   "cell_type": "code",
   "execution_count": 74,
   "id": "ff957230",
   "metadata": {},
   "outputs": [],
   "source": [
    "## add boundaries\n",
    "if add_boundaries:\n",
    "    df['sp_word'] = df['sp_word'].apply(lambda x: f\"{boundary_symbol}{x}{boundary_symbol}\")\n",
    "    df['sn_word'] = df['sn_word'].apply(lambda x: f\"{boundary_symbol}{x}{boundary_symbol}\")\n",
    "    df[['sp_word', 'sn_word']]"
   ]
  },
  {
   "cell_type": "code",
   "execution_count": 75,
   "id": "d2915632",
   "metadata": {},
   "outputs": [
    {
     "data": {
      "text/html": [
       "<div>\n",
       "<style scoped>\n",
       "    .dataframe tbody tr th:only-of-type {\n",
       "        vertical-align: middle;\n",
       "    }\n",
       "\n",
       "    .dataframe tbody tr th {\n",
       "        vertical-align: top;\n",
       "    }\n",
       "\n",
       "    .dataframe thead th {\n",
       "        text-align: right;\n",
       "    }\n",
       "</style>\n",
       "<table border=\"1\" class=\"dataframe\">\n",
       "  <thead>\n",
       "    <tr style=\"text-align: right;\">\n",
       "      <th></th>\n",
       "      <th>sp_1gram</th>\n",
       "      <th>sn_1gram</th>\n",
       "    </tr>\n",
       "  </thead>\n",
       "  <tbody>\n",
       "    <tr>\n",
       "      <th>26523</th>\n",
       "      <td>[#, d, a, l, o, i, a, #]</td>\n",
       "      <td>[#, d, ɑ, ɫ, o, ʊ, j, ə, #]</td>\n",
       "    </tr>\n",
       "    <tr>\n",
       "      <th>78055</th>\n",
       "      <td>[#, n, e, u, m, a, n, #]</td>\n",
       "      <td>[#, n, u, m, ə, n, #]</td>\n",
       "    </tr>\n",
       "    <tr>\n",
       "      <th>77269</th>\n",
       "      <td>[#, n, a, r, l, y, #]</td>\n",
       "      <td>[#, n, ɑ, ɹ, ɫ, i, #]</td>\n",
       "    </tr>\n",
       "    <tr>\n",
       "      <th>40747</th>\n",
       "      <td>[#, f, o, r, b, e, s, ', s, #]</td>\n",
       "      <td>[#, f, ɔ, ɹ, b, z, ɪ, z, #]</td>\n",
       "    </tr>\n",
       "    <tr>\n",
       "      <th>110595</th>\n",
       "      <td>[#, s, w, e, a, t, s, h, o, p, #]</td>\n",
       "      <td>[#, s, w, ɛ, t, ʃ, ɑ, p, #]</td>\n",
       "    </tr>\n",
       "    <tr>\n",
       "      <th>...</th>\n",
       "      <td>...</td>\n",
       "      <td>...</td>\n",
       "    </tr>\n",
       "    <tr>\n",
       "      <th>92443</th>\n",
       "      <td>[#, r, e, c, e, i, v, e, r, s, #]</td>\n",
       "      <td>[#, ɹ, ə, s, i, v, ɝ, z, #]</td>\n",
       "    </tr>\n",
       "    <tr>\n",
       "      <th>58650</th>\n",
       "      <td>[#, k, a, e, h, l, e, r, #]</td>\n",
       "      <td>[#, k, ɛ, ɫ, ɝ, #]</td>\n",
       "    </tr>\n",
       "    <tr>\n",
       "      <th>7278</th>\n",
       "      <td>[#, b, a, i, l, i, f, f, s, #]</td>\n",
       "      <td>[#, b, e, ɪ, ɫ, ə, f, s, #]</td>\n",
       "    </tr>\n",
       "    <tr>\n",
       "      <th>75784</th>\n",
       "      <td>[#, m, o, r, t, g, a, g, e, #]</td>\n",
       "      <td>[#, m, ɔ, ɹ, ɡ, ə, d, ʒ, #]</td>\n",
       "    </tr>\n",
       "    <tr>\n",
       "      <th>19678</th>\n",
       "      <td>[#, c, h, i, l, d, r, e, n, s, #]</td>\n",
       "      <td>[#, t, ʃ, ɪ, ɫ, d, ɹ, ə, n, z, #]</td>\n",
       "    </tr>\n",
       "  </tbody>\n",
       "</table>\n",
       "<p>3181 rows × 2 columns</p>\n",
       "</div>"
      ],
      "text/plain": [
       "                                 sp_1gram                           sn_1gram\n",
       "26523            [#, d, a, l, o, i, a, #]        [#, d, ɑ, ɫ, o, ʊ, j, ə, #]\n",
       "78055            [#, n, e, u, m, a, n, #]              [#, n, u, m, ə, n, #]\n",
       "77269               [#, n, a, r, l, y, #]              [#, n, ɑ, ɹ, ɫ, i, #]\n",
       "40747      [#, f, o, r, b, e, s, ', s, #]        [#, f, ɔ, ɹ, b, z, ɪ, z, #]\n",
       "110595  [#, s, w, e, a, t, s, h, o, p, #]        [#, s, w, ɛ, t, ʃ, ɑ, p, #]\n",
       "...                                   ...                                ...\n",
       "92443   [#, r, e, c, e, i, v, e, r, s, #]        [#, ɹ, ə, s, i, v, ɝ, z, #]\n",
       "58650         [#, k, a, e, h, l, e, r, #]                 [#, k, ɛ, ɫ, ɝ, #]\n",
       "7278       [#, b, a, i, l, i, f, f, s, #]        [#, b, e, ɪ, ɫ, ə, f, s, #]\n",
       "75784      [#, m, o, r, t, g, a, g, e, #]        [#, m, ɔ, ɹ, ɡ, ə, d, ʒ, #]\n",
       "19678   [#, c, h, i, l, d, r, e, n, s, #]  [#, t, ʃ, ɪ, ɫ, d, ɹ, ə, n, z, #]\n",
       "\n",
       "[3181 rows x 2 columns]"
      ]
     },
     "execution_count": 75,
     "metadata": {},
     "output_type": "execute_result"
    }
   ],
   "source": [
    "## add 1gram\n",
    "import re\n",
    "w_splitter = r\"\"\n",
    "df['sp_1gram'] = [ [ x for x in re.split(w_splitter, w) if len(x) > 0 ] for w in df['sp_word'] ]\n",
    "df['sn_1gram'] = [ [ x for x in re.split(w_splitter, w) if len(x) > 0 ] for w in df['sn_word'] ]\n",
    "df[['sp_1gram', 'sn_1gram']]"
   ]
  },
  {
   "cell_type": "code",
   "execution_count": 76,
   "id": "9c4dcbd7-8763-42cf-92a9-b8b0ff711602",
   "metadata": {},
   "outputs": [
    {
     "data": {
      "text/plain": [
       "[('#', 6362),\n",
       " ('e', 2569),\n",
       " ('a', 1973),\n",
       " ('r', 1790),\n",
       " ('s', 1764),\n",
       " ('i', 1551),\n",
       " ('n', 1527),\n",
       " ('o', 1389),\n",
       " ('l', 1315),\n",
       " ('t', 1199)]"
      ]
     },
     "execution_count": 76,
     "metadata": {},
     "output_type": "execute_result"
    }
   ],
   "source": [
    "## inspect frequent tokens in sp_1gram\n",
    "from collections import Counter\n",
    "sp_chars_all = [ ] \n",
    "[ sp_chars_all.extend(list(x)) for x in df['sp_1gram'] ]\n",
    "sp_char_freqs = Counter(sp_chars_all)\n",
    "## Show most frequent 10 segments\n",
    "sｐ_char_freqs.most_common(10)"
   ]
  },
  {
   "cell_type": "code",
   "execution_count": 77,
   "id": "a8add992",
   "metadata": {},
   "outputs": [
    {
     "data": {
      "text/plain": [
       "[('#', 6362),\n",
       " ('ɪ', 1565),\n",
       " ('ə', 1458),\n",
       " ('n', 1261),\n",
       " ('s', 1144),\n",
       " ('ɫ', 1142),\n",
       " ('t', 1097),\n",
       " ('ɹ', 1079),\n",
       " ('k', 989),\n",
       " ('d', 833)]"
      ]
     },
     "execution_count": 77,
     "metadata": {},
     "output_type": "execute_result"
    }
   ],
   "source": [
    "## inspect frequent tokens in sn_1gram\n",
    "from collections import Counter\n",
    "sn_chars_all = [ ] \n",
    "[ sn_chars_all.extend(list(x)) for x in df['sn_1gram'] ]\n",
    "sn_char_freqs = Counter(sn_chars_all)\n",
    "## Show most frequent 10 segments\n",
    "sn_char_freqs.most_common(10)"
   ]
  },
  {
   "cell_type": "code",
   "execution_count": 78,
   "id": "bd49c4cc-4d7c-46e2-b3a0-3b29140a0fd9",
   "metadata": {},
   "outputs": [],
   "source": [
    "## Install nltk if necessary\n",
    "#!pip install -U nltk"
   ]
  },
  {
   "cell_type": "markdown",
   "id": "2c19a0e4",
   "metadata": {},
   "source": [
    "n-grams の構築"
   ]
  },
  {
   "cell_type": "code",
   "execution_count": 79,
   "id": "85034591",
   "metadata": {},
   "outputs": [],
   "source": [
    "def gen_ngrams_from_str(t: str, n: int, sep: str = r\"\", joint: str = \"\", check = False):\n",
    "    'returns the list of character n-grams from a given string'\n",
    "    import re\n",
    "    segs = [ x for x in re.split(sep, t) if len(x) > 0 ]\n",
    "    if check:\n",
    "        print(segs)\n",
    "    ## short input\n",
    "    if len(segs) <= n:\n",
    "        return segs\n",
    "    ## long enough input\n",
    "    G = [ ]\n",
    "    for i in range(len(segs)):\n",
    "        try:\n",
    "            b = segs[ i : i + n ]\n",
    "            if check:\n",
    "                print(b)\n",
    "            c = joint.join(b)\n",
    "            if check:\n",
    "                print(c)\n",
    "            if len(c) == n:\n",
    "                G.append(c)\n",
    "        except IndexError:\n",
    "            pass\n",
    "    return G"
   ]
  },
  {
   "cell_type": "code",
   "execution_count": 80,
   "id": "a202d751",
   "metadata": {},
   "outputs": [],
   "source": [
    "## generic n-gram generation function\n",
    "def add_ngrams(dfx, n_for_ngram: int, prefix: str = \"\", skippy: bool = False, skippiness_symbol: str = \"sk\", max_distance = None, seg_joint: str = \"\", gap_mark: str = \"…\", inclusive: bool = True, inclusion_degree = None, check: bool = False):\n",
    "    \"add ngram col to the dfx given\"\n",
    "    import gen_ngrams\n",
    "    ## set variable names\n",
    "    source_var_name = f\"{prefix}1gram\"\n",
    "    if skippy:\n",
    "        target_var_name  = f\"{prefix}{skippiness_symbol}{n_for_ngram}gram\"\n",
    "        if n_for_ngram == 2:\n",
    "            sub_var_name = f\"{prefix}{n_for_ngram - 1}gram\"\n",
    "        else:\n",
    "            sub_var_name = f\"{prefix}{skippiness_symbol}{n_for_ngram - 1}gram\"\n",
    "            \n",
    "    else:\n",
    "        target_var_name  = f\"{prefix}{n_for_ngram}gram\"\n",
    "        sub_var_name     = f\"{prefix}{n_for_ngram - 1}gram\"\n",
    "    if check:\n",
    "        print(f\"source_var_name: {source_var_name}\")\n",
    "        print(f\"target_var_name: {target_var_name}\")\n",
    "        print(f\"sub_var_name: {sub_var_name}\")\n",
    "        \n",
    "    ## 1gram\n",
    "    unigrams = dfx[source_var_name]\n",
    "    \n",
    "    ## ngram\n",
    "    if skippy:\n",
    "        ngrams = [ gen_ngrams.gen_skippy_ngrams(g, n = n_for_ngram, sep = seg_joint, missing_mark = gap_mark, max_distance = max_distance, check = check) for g in unigrams ]\n",
    "    else:\n",
    "        ngrams = [ gen_ngrams.gen_ngrams(g, n = n_for_ngram, sep = seg_joint, check = check) for g in unigrams ]\n",
    "    \n",
    "    ## make ngrams inclusive\n",
    "    if inclusive:\n",
    "        sub_ngrams = list(dfx[sub_var_name])\n",
    "        if inclusion_degree is None:\n",
    "            for i, gram in enumerate(ngrams):\n",
    "                assert len(ngrams) == len(sub_ngrams)\n",
    "                supplement = sub_ngrams[i]\n",
    "                supplement = [ g for g in supplement if len(g) > 0 ]\n",
    "                if len(supplement) > 0:\n",
    "                    gram.extend(supplement)\n",
    "        else:\n",
    "            min_size = (n_for_ngram - inclusion_degree)\n",
    "            assert min_size >= 0\n",
    "            for i, gram in enumerate(ngrams):\n",
    "                assert len(ngrams) == len(sub_ngrams)\n",
    "                supplement = sub_ngrams[i]\n",
    "                supplement = [ g for g in supplement if len(g) >= min_size ]\n",
    "                if len(supplement) > 0:\n",
    "                    gram.extend(supplement)\n",
    "    ## update df\n",
    "    dfx[target_var_name] = ngrams\n",
    "    print(dfx[target_var_name])"
   ]
  },
  {
   "cell_type": "markdown",
   "id": "aa8e1371",
   "metadata": {},
   "source": [
    "# Spell n-grams 生成"
   ]
  },
  {
   "cell_type": "code",
   "execution_count": 81,
   "id": "dd6de012",
   "metadata": {},
   "outputs": [
    {
     "name": "stdout",
     "output_type": "stream",
     "text": [
      "26523     [#d, da, al, lo, oi, ia, a#, #, d, a, l, o, i,...\n",
      "78055     [#n, ne, eu, um, ma, an, n#, #, n, e, u, m, a,...\n",
      "77269         [#n, na, ar, rl, ly, y#, #, n, a, r, l, y, #]\n",
      "40747     [#f, fo, or, rb, be, es, s', 's, s#, #, f, o, ...\n",
      "110595    [#s, sw, we, ea, at, ts, sh, ho, op, p#, #, s,...\n",
      "                                ...                        \n",
      "92443     [#r, re, ec, ce, ei, iv, ve, er, rs, s#, #, r,...\n",
      "58650     [#k, ka, ae, eh, hl, le, er, r#, #, k, a, e, h...\n",
      "7278      [#b, ba, ai, il, li, if, ff, fs, s#, #, b, a, ...\n",
      "75784     [#m, mo, or, rt, tg, ga, ag, ge, e#, #, m, o, ...\n",
      "19678     [#c, ch, hi, il, ld, dr, re, en, ns, s#, #, c,...\n",
      "Name: sp_2gram, Length: 3181, dtype: object\n"
     ]
    }
   ],
   "source": [
    "## sp_2gram の追加\n",
    "add_ngrams(df, n_for_ngram = 2, prefix = \"sp_\", skippy = False, inclusive = True, inclusion_degree = inclusion_degree, check = False)"
   ]
  },
  {
   "cell_type": "code",
   "execution_count": 82,
   "id": "d9abc8d2",
   "metadata": {},
   "outputs": [
    {
     "name": "stdout",
     "output_type": "stream",
     "text": [
      "26523     [#da, dal, alo, loi, oia, ia#, #d, da, al, lo,...\n",
      "78055     [#ne, neu, eum, uma, man, an#, #n, ne, eu, um,...\n",
      "77269     [#na, nar, arl, rly, ly#, #n, na, ar, rl, ly, y#]\n",
      "40747     [#fo, for, orb, rbe, bes, es', s's, 's#, #f, f...\n",
      "110595    [#sw, swe, wea, eat, ats, tsh, sho, hop, op#, ...\n",
      "                                ...                        \n",
      "92443     [#re, rec, ece, cei, eiv, ive, ver, ers, rs#, ...\n",
      "58650     [#ka, kae, aeh, ehl, hle, ler, er#, #k, ka, ae...\n",
      "7278      [#ba, bai, ail, ili, lif, iff, ffs, fs#, #b, b...\n",
      "75784     [#mo, mor, ort, rtg, tga, gag, age, ge#, #m, m...\n",
      "19678     [#ch, chi, hil, ild, ldr, dre, ren, ens, ns#, ...\n",
      "Name: sp_3gram, Length: 3181, dtype: object\n"
     ]
    }
   ],
   "source": [
    "## sp_3gram の追加\n",
    "add_ngrams(df, n_for_ngram = 3, prefix = \"sp_\", skippy = False, inclusive = True, inclusion_degree = inclusion_degree, check = False)"
   ]
  },
  {
   "cell_type": "code",
   "execution_count": 83,
   "id": "51e459f1",
   "metadata": {},
   "outputs": [
    {
     "name": "stdout",
     "output_type": "stream",
     "text": [
      "26523     [#dal, dalo, aloi, loia, oia#, #da, dal, alo, ...\n",
      "78055     [#neu, neum, euma, uman, man#, #ne, neu, eum, ...\n",
      "77269     [#nar, narl, arly, rly#, #na, nar, arl, rly, ly#]\n",
      "40747     [#for, forb, orbe, rbes, bes', es's, s's#, #fo...\n",
      "110595    [#swe, swea, weat, eats, atsh, tsho, shop, hop...\n",
      "                                ...                        \n",
      "92443     [#rec, rece, ecei, ceiv, eive, iver, vers, ers...\n",
      "58650     [#kae, kaeh, aehl, ehle, hler, ler#, #ka, kae,...\n",
      "7278      [#bai, bail, aili, ilif, liff, iffs, ffs#, #ba...\n",
      "75784     [#mor, mort, ortg, rtga, tgag, gage, age#, #mo...\n",
      "19678     [#chi, chil, hild, ildr, ldre, dren, rens, ens...\n",
      "Name: sp_4gram, Length: 3181, dtype: object\n"
     ]
    }
   ],
   "source": [
    "## sp_4gram の追加\n",
    "add_ngrams(df, n_for_ngram = 4, prefix = \"sp_\", skippy = False, inclusive = True, inclusion_degree = inclusion_degree, check = False)"
   ]
  },
  {
   "cell_type": "code",
   "execution_count": 84,
   "id": "107fe329",
   "metadata": {},
   "outputs": [
    {
     "name": "stdout",
     "output_type": "stream",
     "text": [
      "26523     [#dalo, daloi, aloia, loia#, #dal, dalo, aloi,...\n",
      "78055     [#neum, neuma, euman, uman#, #neu, neum, euma,...\n",
      "77269         [#narl, narly, arly#, #nar, narl, arly, rly#]\n",
      "40747     [#forb, forbe, orbes, rbes', bes's, es's#, #fo...\n",
      "110595    [#swea, sweat, weats, eatsh, atsho, tshop, sho...\n",
      "                                ...                        \n",
      "92443     [#rece, recei, eceiv, ceive, eiver, ivers, ver...\n",
      "58650     [#kaeh, kaehl, aehle, ehler, hler#, #kae, kaeh...\n",
      "7278      [#bail, baili, ailif, iliff, liffs, iffs#, #ba...\n",
      "75784     [#mort, mortg, ortga, rtgag, tgage, gage#, #mo...\n",
      "19678     [#chil, child, hildr, ildre, ldren, drens, ren...\n",
      "Name: sp_5gram, Length: 3181, dtype: object\n"
     ]
    }
   ],
   "source": [
    "## sp_5gram の追加\n",
    "if \"5gram\" in sp_term_type:\n",
    "    add_ngrams(df, n_for_ngram = 5, prefix = \"sp_\", skippy = False, inclusive = True, inclusion_degree = inclusion_degree, check = False)"
   ]
  },
  {
   "cell_type": "code",
   "execution_count": 85,
   "id": "189db279",
   "metadata": {},
   "outputs": [
    {
     "name": "stdout",
     "output_type": "stream",
     "text": [
      "26523     [#d, #…a, #…l, #…o, da, d…l, d…o, al, a…o, lo,...\n",
      "78055     [#n, #…e, #…u, #…m, ne, n…u, n…m, eu, e…m, um,...\n",
      "77269     [#n, #…a, #…r, #…l, na, n…r, n…l, ar, a…l, rl,...\n",
      "40747     [#f, #…o, #…r, #…b, fo, f…r, f…b, or, o…b, rb,...\n",
      "110595    [#s, #…w, #…e, #…a, sw, s…e, s…a, we, w…a, ea,...\n",
      "                                ...                        \n",
      "92443     [#r, #…e, #…c, #…e, re, r…c, r…e, ec, e…e, ce,...\n",
      "58650     [#k, #…a, #…e, #…h, ka, k…e, k…h, ae, a…h, eh,...\n",
      "7278      [#b, #…a, #…i, #…l, ba, b…i, b…l, ai, a…l, il,...\n",
      "75784     [#m, #…o, #…r, #…t, mo, m…r, m…t, or, o…t, rt,...\n",
      "19678     [#c, #…h, #…i, #…l, ch, c…i, c…l, hi, h…l, il,...\n",
      "Name: sp_sk2gram, Length: 3181, dtype: object\n"
     ]
    }
   ],
   "source": [
    "## sp_sk2gram の追加\n",
    "add_ngrams(df, n_for_ngram = 2, prefix = \"sp_\", skippy = True, max_distance = max_gap_size, inclusive = True, inclusion_degree = inclusion_degree, check = False)"
   ]
  },
  {
   "cell_type": "code",
   "execution_count": 86,
   "id": "5d008d2b",
   "metadata": {},
   "outputs": [
    {
     "name": "stdout",
     "output_type": "stream",
     "text": [
      "26523     [#da, #d…l, #d…o, #…al, #…a…o, #…lo, dal, da…o...\n",
      "78055     [#ne, #n…u, #n…m, #…eu, #…e…m, #…um, neu, ne…m...\n",
      "77269     [#na, #n…r, #n…l, #…ar, #…a…l, #…rl, nar, na…l...\n",
      "40747     [#fo, #f…r, #f…b, #…or, #…o…b, #…rb, for, fo…b...\n",
      "110595    [#sw, #s…e, #s…a, #…we, #…w…a, #…ea, swe, sw…a...\n",
      "                                ...                        \n",
      "92443     [#re, #r…c, #r…e, #…ec, #…e…e, #…ce, rec, re…e...\n",
      "58650     [#ka, #k…e, #k…h, #…ae, #…a…h, #…eh, kae, ka…h...\n",
      "7278      [#ba, #b…i, #b…l, #…ai, #…a…l, #…il, bai, ba…l...\n",
      "75784     [#mo, #m…r, #m…t, #…or, #…o…t, #…rt, mor, mo…t...\n",
      "19678     [#ch, #c…i, #c…l, #…hi, #…h…l, #…il, chi, ch…l...\n",
      "Name: sp_sk3gram, Length: 3181, dtype: object\n"
     ]
    }
   ],
   "source": [
    "## sp_sk3gram の追加\n",
    "add_ngrams(df, n_for_ngram = 3, prefix = \"sp_\", skippy = True, max_distance = max_gap_size, inclusive = True, inclusion_degree = inclusion_degree, check = False)"
   ]
  },
  {
   "cell_type": "code",
   "execution_count": 87,
   "id": "71943f9f",
   "metadata": {},
   "outputs": [
    {
     "name": "stdout",
     "output_type": "stream",
     "text": [
      "26523     [#dal, #da…o, #d…lo, #…alo, dalo, dalo, dal…i,...\n",
      "78055     [#neu, #ne…m, #n…um, #…eum, neum, neum, neu…a,...\n",
      "77269     [#nar, #na…l, #n…rl, #…arl, narl, narl, nar…y,...\n",
      "40747     [#for, #fo…b, #f…rb, #…orb, forb, forb, for…e,...\n",
      "110595    [#swe, #sw…a, #s…ea, #…wea, swea, swea, swe…t,...\n",
      "                                ...                        \n",
      "92443     [#rec, #re…e, #r…ce, #…ece, rece, rece, rec…i,...\n",
      "58650     [#kae, #ka…h, #k…eh, #…aeh, kaeh, kaeh, kae…l,...\n",
      "7278      [#bai, #ba…l, #b…il, #…ail, bail, bail, bai…i,...\n",
      "75784     [#mor, #mo…t, #m…rt, #…ort, mort, mort, mor…g,...\n",
      "19678     [#chi, #ch…l, #c…il, #…hil, chil, chil, chi…d,...\n",
      "Name: sp_sk4gram, Length: 3181, dtype: object\n"
     ]
    }
   ],
   "source": [
    "## sp_sk4gram の追加\n",
    "add_ngrams(df, n_for_ngram = 4, prefix = \"sp_\", skippy = True, max_distance = max_gap_size, inclusive = True, inclusion_degree = inclusion_degree, check = False)"
   ]
  },
  {
   "cell_type": "code",
   "execution_count": 88,
   "id": "436b0185",
   "metadata": {},
   "outputs": [
    {
     "name": "stdout",
     "output_type": "stream",
     "text": [
      "26523     [#dalo, daloi, aloia, loia#, #dal, #da…o, #d…l...\n",
      "78055     [#neum, neuma, euman, uman#, #neu, #ne…m, #n…u...\n",
      "77269     [#narl, narly, arly#, #nar, #na…l, #n…rl, #…ar...\n",
      "40747     [#forb, forbe, orbes, rbes', bes's, es's#, #fo...\n",
      "110595    [#swea, sweat, weats, eatsh, atsho, tshop, sho...\n",
      "                                ...                        \n",
      "92443     [#rece, recei, eceiv, ceive, eiver, ivers, ver...\n",
      "58650     [#kaeh, kaehl, aehle, ehler, hler#, #kae, #ka…...\n",
      "7278      [#bail, baili, ailif, iliff, liffs, iffs#, #ba...\n",
      "75784     [#mort, mortg, ortga, rtgag, tgage, gage#, #mo...\n",
      "19678     [#chil, child, hildr, ildre, ldren, drens, ren...\n",
      "Name: sp_sk5gram, Length: 3181, dtype: object\n"
     ]
    }
   ],
   "source": [
    "## sp_sk5gram の追加\n",
    "if \"5gram\" in sp_term_type:\n",
    "    add_ngrams(df, n_for_ngram = 5, prefix = \"sp_\", skippy = True, max_distance = max_gap_size, inclusive = True, inclusion_degree = inclusion_degree, check = False)"
   ]
  },
  {
   "cell_type": "code",
   "execution_count": 89,
   "id": "599db18c",
   "metadata": {},
   "outputs": [
    {
     "data": {
      "text/html": [
       "<div>\n",
       "<style scoped>\n",
       "    .dataframe tbody tr th:only-of-type {\n",
       "        vertical-align: middle;\n",
       "    }\n",
       "\n",
       "    .dataframe tbody tr th {\n",
       "        vertical-align: top;\n",
       "    }\n",
       "\n",
       "    .dataframe thead th {\n",
       "        text-align: right;\n",
       "    }\n",
       "</style>\n",
       "<table border=\"1\" class=\"dataframe\">\n",
       "  <thead>\n",
       "    <tr style=\"text-align: right;\">\n",
       "      <th></th>\n",
       "      <th>sp_word</th>\n",
       "      <th>sp_sk2gram</th>\n",
       "      <th>sp_sk3gram</th>\n",
       "      <th>sp_sk4gram</th>\n",
       "      <th>sp_sk5gram</th>\n",
       "    </tr>\n",
       "  </thead>\n",
       "  <tbody>\n",
       "    <tr>\n",
       "      <th>26523</th>\n",
       "      <td>#daloia#</td>\n",
       "      <td>[#d, #…a, #…l, #…o, da, d…l, d…o, al, a…o, lo,...</td>\n",
       "      <td>[#da, #d…l, #d…o, #…al, #…a…o, #…lo, dal, da…o...</td>\n",
       "      <td>[#dal, #da…o, #d…lo, #…alo, dalo, dalo, dal…i,...</td>\n",
       "      <td>[#dalo, daloi, aloia, loia#, #dal, #da…o, #d…l...</td>\n",
       "    </tr>\n",
       "    <tr>\n",
       "      <th>78055</th>\n",
       "      <td>#neuman#</td>\n",
       "      <td>[#n, #…e, #…u, #…m, ne, n…u, n…m, eu, e…m, um,...</td>\n",
       "      <td>[#ne, #n…u, #n…m, #…eu, #…e…m, #…um, neu, ne…m...</td>\n",
       "      <td>[#neu, #ne…m, #n…um, #…eum, neum, neum, neu…a,...</td>\n",
       "      <td>[#neum, neuma, euman, uman#, #neu, #ne…m, #n…u...</td>\n",
       "    </tr>\n",
       "    <tr>\n",
       "      <th>77269</th>\n",
       "      <td>#narly#</td>\n",
       "      <td>[#n, #…a, #…r, #…l, na, n…r, n…l, ar, a…l, rl,...</td>\n",
       "      <td>[#na, #n…r, #n…l, #…ar, #…a…l, #…rl, nar, na…l...</td>\n",
       "      <td>[#nar, #na…l, #n…rl, #…arl, narl, narl, nar…y,...</td>\n",
       "      <td>[#narl, narly, arly#, #nar, #na…l, #n…rl, #…ar...</td>\n",
       "    </tr>\n",
       "    <tr>\n",
       "      <th>40747</th>\n",
       "      <td>#forbes's#</td>\n",
       "      <td>[#f, #…o, #…r, #…b, fo, f…r, f…b, or, o…b, rb,...</td>\n",
       "      <td>[#fo, #f…r, #f…b, #…or, #…o…b, #…rb, for, fo…b...</td>\n",
       "      <td>[#for, #fo…b, #f…rb, #…orb, forb, forb, for…e,...</td>\n",
       "      <td>[#forb, forbe, orbes, rbes', bes's, es's#, #fo...</td>\n",
       "    </tr>\n",
       "    <tr>\n",
       "      <th>110595</th>\n",
       "      <td>#sweatshop#</td>\n",
       "      <td>[#s, #…w, #…e, #…a, sw, s…e, s…a, we, w…a, ea,...</td>\n",
       "      <td>[#sw, #s…e, #s…a, #…we, #…w…a, #…ea, swe, sw…a...</td>\n",
       "      <td>[#swe, #sw…a, #s…ea, #…wea, swea, swea, swe…t,...</td>\n",
       "      <td>[#swea, sweat, weats, eatsh, atsho, tshop, sho...</td>\n",
       "    </tr>\n",
       "    <tr>\n",
       "      <th>...</th>\n",
       "      <td>...</td>\n",
       "      <td>...</td>\n",
       "      <td>...</td>\n",
       "      <td>...</td>\n",
       "      <td>...</td>\n",
       "    </tr>\n",
       "    <tr>\n",
       "      <th>92443</th>\n",
       "      <td>#receivers#</td>\n",
       "      <td>[#r, #…e, #…c, #…e, re, r…c, r…e, ec, e…e, ce,...</td>\n",
       "      <td>[#re, #r…c, #r…e, #…ec, #…e…e, #…ce, rec, re…e...</td>\n",
       "      <td>[#rec, #re…e, #r…ce, #…ece, rece, rece, rec…i,...</td>\n",
       "      <td>[#rece, recei, eceiv, ceive, eiver, ivers, ver...</td>\n",
       "    </tr>\n",
       "    <tr>\n",
       "      <th>58650</th>\n",
       "      <td>#kaehler#</td>\n",
       "      <td>[#k, #…a, #…e, #…h, ka, k…e, k…h, ae, a…h, eh,...</td>\n",
       "      <td>[#ka, #k…e, #k…h, #…ae, #…a…h, #…eh, kae, ka…h...</td>\n",
       "      <td>[#kae, #ka…h, #k…eh, #…aeh, kaeh, kaeh, kae…l,...</td>\n",
       "      <td>[#kaeh, kaehl, aehle, ehler, hler#, #kae, #ka…...</td>\n",
       "    </tr>\n",
       "    <tr>\n",
       "      <th>7278</th>\n",
       "      <td>#bailiffs#</td>\n",
       "      <td>[#b, #…a, #…i, #…l, ba, b…i, b…l, ai, a…l, il,...</td>\n",
       "      <td>[#ba, #b…i, #b…l, #…ai, #…a…l, #…il, bai, ba…l...</td>\n",
       "      <td>[#bai, #ba…l, #b…il, #…ail, bail, bail, bai…i,...</td>\n",
       "      <td>[#bail, baili, ailif, iliff, liffs, iffs#, #ba...</td>\n",
       "    </tr>\n",
       "    <tr>\n",
       "      <th>75784</th>\n",
       "      <td>#mortgage#</td>\n",
       "      <td>[#m, #…o, #…r, #…t, mo, m…r, m…t, or, o…t, rt,...</td>\n",
       "      <td>[#mo, #m…r, #m…t, #…or, #…o…t, #…rt, mor, mo…t...</td>\n",
       "      <td>[#mor, #mo…t, #m…rt, #…ort, mort, mort, mor…g,...</td>\n",
       "      <td>[#mort, mortg, ortga, rtgag, tgage, gage#, #mo...</td>\n",
       "    </tr>\n",
       "    <tr>\n",
       "      <th>19678</th>\n",
       "      <td>#childrens#</td>\n",
       "      <td>[#c, #…h, #…i, #…l, ch, c…i, c…l, hi, h…l, il,...</td>\n",
       "      <td>[#ch, #c…i, #c…l, #…hi, #…h…l, #…il, chi, ch…l...</td>\n",
       "      <td>[#chi, #ch…l, #c…il, #…hil, chil, chil, chi…d,...</td>\n",
       "      <td>[#chil, child, hildr, ildre, ldren, drens, ren...</td>\n",
       "    </tr>\n",
       "  </tbody>\n",
       "</table>\n",
       "<p>3181 rows × 5 columns</p>\n",
       "</div>"
      ],
      "text/plain": [
       "            sp_word                                         sp_sk2gram  \\\n",
       "26523      #daloia#  [#d, #…a, #…l, #…o, da, d…l, d…o, al, a…o, lo,...   \n",
       "78055      #neuman#  [#n, #…e, #…u, #…m, ne, n…u, n…m, eu, e…m, um,...   \n",
       "77269       #narly#  [#n, #…a, #…r, #…l, na, n…r, n…l, ar, a…l, rl,...   \n",
       "40747    #forbes's#  [#f, #…o, #…r, #…b, fo, f…r, f…b, or, o…b, rb,...   \n",
       "110595  #sweatshop#  [#s, #…w, #…e, #…a, sw, s…e, s…a, we, w…a, ea,...   \n",
       "...             ...                                                ...   \n",
       "92443   #receivers#  [#r, #…e, #…c, #…e, re, r…c, r…e, ec, e…e, ce,...   \n",
       "58650     #kaehler#  [#k, #…a, #…e, #…h, ka, k…e, k…h, ae, a…h, eh,...   \n",
       "7278     #bailiffs#  [#b, #…a, #…i, #…l, ba, b…i, b…l, ai, a…l, il,...   \n",
       "75784    #mortgage#  [#m, #…o, #…r, #…t, mo, m…r, m…t, or, o…t, rt,...   \n",
       "19678   #childrens#  [#c, #…h, #…i, #…l, ch, c…i, c…l, hi, h…l, il,...   \n",
       "\n",
       "                                               sp_sk3gram  \\\n",
       "26523   [#da, #d…l, #d…o, #…al, #…a…o, #…lo, dal, da…o...   \n",
       "78055   [#ne, #n…u, #n…m, #…eu, #…e…m, #…um, neu, ne…m...   \n",
       "77269   [#na, #n…r, #n…l, #…ar, #…a…l, #…rl, nar, na…l...   \n",
       "40747   [#fo, #f…r, #f…b, #…or, #…o…b, #…rb, for, fo…b...   \n",
       "110595  [#sw, #s…e, #s…a, #…we, #…w…a, #…ea, swe, sw…a...   \n",
       "...                                                   ...   \n",
       "92443   [#re, #r…c, #r…e, #…ec, #…e…e, #…ce, rec, re…e...   \n",
       "58650   [#ka, #k…e, #k…h, #…ae, #…a…h, #…eh, kae, ka…h...   \n",
       "7278    [#ba, #b…i, #b…l, #…ai, #…a…l, #…il, bai, ba…l...   \n",
       "75784   [#mo, #m…r, #m…t, #…or, #…o…t, #…rt, mor, mo…t...   \n",
       "19678   [#ch, #c…i, #c…l, #…hi, #…h…l, #…il, chi, ch…l...   \n",
       "\n",
       "                                               sp_sk4gram  \\\n",
       "26523   [#dal, #da…o, #d…lo, #…alo, dalo, dalo, dal…i,...   \n",
       "78055   [#neu, #ne…m, #n…um, #…eum, neum, neum, neu…a,...   \n",
       "77269   [#nar, #na…l, #n…rl, #…arl, narl, narl, nar…y,...   \n",
       "40747   [#for, #fo…b, #f…rb, #…orb, forb, forb, for…e,...   \n",
       "110595  [#swe, #sw…a, #s…ea, #…wea, swea, swea, swe…t,...   \n",
       "...                                                   ...   \n",
       "92443   [#rec, #re…e, #r…ce, #…ece, rece, rece, rec…i,...   \n",
       "58650   [#kae, #ka…h, #k…eh, #…aeh, kaeh, kaeh, kae…l,...   \n",
       "7278    [#bai, #ba…l, #b…il, #…ail, bail, bail, bai…i,...   \n",
       "75784   [#mor, #mo…t, #m…rt, #…ort, mort, mort, mor…g,...   \n",
       "19678   [#chi, #ch…l, #c…il, #…hil, chil, chil, chi…d,...   \n",
       "\n",
       "                                               sp_sk5gram  \n",
       "26523   [#dalo, daloi, aloia, loia#, #dal, #da…o, #d…l...  \n",
       "78055   [#neum, neuma, euman, uman#, #neu, #ne…m, #n…u...  \n",
       "77269   [#narl, narly, arly#, #nar, #na…l, #n…rl, #…ar...  \n",
       "40747   [#forb, forbe, orbes, rbes', bes's, es's#, #fo...  \n",
       "110595  [#swea, sweat, weats, eatsh, atsho, tshop, sho...  \n",
       "...                                                   ...  \n",
       "92443   [#rece, recei, eceiv, ceive, eiver, ivers, ver...  \n",
       "58650   [#kaeh, kaehl, aehle, ehler, hler#, #kae, #ka…...  \n",
       "7278    [#bail, baili, ailif, iliff, liffs, iffs#, #ba...  \n",
       "75784   [#mort, mortg, ortga, rtgag, tgage, gage#, #mo...  \n",
       "19678   [#chil, child, hildr, ildre, ldren, drens, ren...  \n",
       "\n",
       "[3181 rows x 5 columns]"
      ]
     },
     "execution_count": 89,
     "metadata": {},
     "output_type": "execute_result"
    }
   ],
   "source": [
    "## check result\n",
    "if \"5gram\" in sp_term_type:\n",
    "    var_names = [ 'sp_word', 'sp_sk2gram', 'sp_sk3gram', 'sp_sk4gram', 'sp_sk5gram' ]\n",
    "else:\n",
    "    var_names = [ 'sp_word', 'sp_sk2gram', 'sp_sk3gram', 'sp_sk4gram' ]\n",
    "df[var_names]"
   ]
  },
  {
   "cell_type": "markdown",
   "id": "8a04f220",
   "metadata": {},
   "source": [
    "# Sound n-grams 生成"
   ]
  },
  {
   "cell_type": "code",
   "execution_count": 90,
   "id": "e00161ab",
   "metadata": {},
   "outputs": [
    {
     "name": "stdout",
     "output_type": "stream",
     "text": [
      "26523     [#d, dɑ, ɑɫ, ɫo, oʊ, ʊj, jə, ə#, #, d, ɑ, ɫ, o...\n",
      "78055         [#n, nu, um, mə, ən, n#, #, n, u, m, ə, n, #]\n",
      "77269         [#n, nɑ, ɑɹ, ɹɫ, ɫi, i#, #, n, ɑ, ɹ, ɫ, i, #]\n",
      "40747     [#f, fɔ, ɔɹ, ɹb, bz, zɪ, ɪz, z#, #, f, ɔ, ɹ, b...\n",
      "110595    [#s, sw, wɛ, ɛt, tʃ, ʃɑ, ɑp, p#, #, s, w, ɛ, t...\n",
      "                                ...                        \n",
      "92443     [#ɹ, ɹə, əs, si, iv, vɝ, ɝz, z#, #, ɹ, ə, s, i...\n",
      "58650                [#k, kɛ, ɛɫ, ɫɝ, ɝ#, #, k, ɛ, ɫ, ɝ, #]\n",
      "7278      [#b, be, eɪ, ɪɫ, ɫə, əf, fs, s#, #, b, e, ɪ, ɫ...\n",
      "75784     [#m, mɔ, ɔɹ, ɹɡ, ɡə, əd, dʒ, ʒ#, #, m, ɔ, ɹ, ɡ...\n",
      "19678     [#t, tʃ, ʃɪ, ɪɫ, ɫd, dɹ, ɹə, ən, nz, z#, #, t,...\n",
      "Name: sn_2gram, Length: 3181, dtype: object\n"
     ]
    }
   ],
   "source": [
    "## sn_2gram の追加\n",
    "add_ngrams(df, n_for_ngram = 2, prefix = \"sn_\", skippy = False, inclusive = True, inclusion_degree = inclusion_degree, check = False)"
   ]
  },
  {
   "cell_type": "code",
   "execution_count": 91,
   "id": "c323aec2",
   "metadata": {},
   "outputs": [
    {
     "name": "stdout",
     "output_type": "stream",
     "text": [
      "26523     [#dɑ, dɑɫ, ɑɫo, ɫoʊ, oʊj, ʊjə, jə#, #d, dɑ, ɑɫ...\n",
      "78055     [#nu, num, umə, mən, ən#, #n, nu, um, mə, ən, n#]\n",
      "77269     [#nɑ, nɑɹ, ɑɹɫ, ɹɫi, ɫi#, #n, nɑ, ɑɹ, ɹɫ, ɫi, i#]\n",
      "40747     [#fɔ, fɔɹ, ɔɹb, ɹbz, bzɪ, zɪz, ɪz#, #f, fɔ, ɔɹ...\n",
      "110595    [#sw, swɛ, wɛt, ɛtʃ, tʃɑ, ʃɑp, ɑp#, #s, sw, wɛ...\n",
      "                                ...                        \n",
      "92443     [#ɹə, ɹəs, əsi, siv, ivɝ, vɝz, ɝz#, #ɹ, ɹə, əs...\n",
      "58650              [#kɛ, kɛɫ, ɛɫɝ, ɫɝ#, #k, kɛ, ɛɫ, ɫɝ, ɝ#]\n",
      "7278      [#be, beɪ, eɪɫ, ɪɫə, ɫəf, əfs, fs#, #b, be, eɪ...\n",
      "75784     [#mɔ, mɔɹ, ɔɹɡ, ɹɡə, ɡəd, ədʒ, dʒ#, #m, mɔ, ɔɹ...\n",
      "19678     [#tʃ, tʃɪ, ʃɪɫ, ɪɫd, ɫdɹ, dɹə, ɹən, ənz, nz#, ...\n",
      "Name: sn_3gram, Length: 3181, dtype: object\n"
     ]
    }
   ],
   "source": [
    "## sn_3gram の追加\n",
    "add_ngrams(df, n_for_ngram = 3, prefix = \"sn_\", skippy = False, inclusive = True, inclusion_degree = inclusion_degree, check = False)"
   ]
  },
  {
   "cell_type": "code",
   "execution_count": 92,
   "id": "9d680975",
   "metadata": {},
   "outputs": [
    {
     "name": "stdout",
     "output_type": "stream",
     "text": [
      "26523     [#dɑɫ, dɑɫo, ɑɫoʊ, ɫoʊj, oʊjə, ʊjə#, #dɑ, dɑɫ,...\n",
      "78055     [#num, numə, umən, mən#, #nu, num, umə, mən, ən#]\n",
      "77269     [#nɑɹ, nɑɹɫ, ɑɹɫi, ɹɫi#, #nɑ, nɑɹ, ɑɹɫ, ɹɫi, ɫi#]\n",
      "40747     [#fɔɹ, fɔɹb, ɔɹbz, ɹbzɪ, bzɪz, zɪz#, #fɔ, fɔɹ,...\n",
      "110595    [#swɛ, swɛt, wɛtʃ, ɛtʃɑ, tʃɑp, ʃɑp#, #sw, swɛ,...\n",
      "                                ...                        \n",
      "92443     [#ɹəs, ɹəsi, əsiv, sivɝ, ivɝz, vɝz#, #ɹə, ɹəs,...\n",
      "58650                [#kɛɫ, kɛɫɝ, ɛɫɝ#, #kɛ, kɛɫ, ɛɫɝ, ɫɝ#]\n",
      "7278      [#beɪ, beɪɫ, eɪɫə, ɪɫəf, ɫəfs, əfs#, #be, beɪ,...\n",
      "75784     [#mɔɹ, mɔɹɡ, ɔɹɡə, ɹɡəd, ɡədʒ, ədʒ#, #mɔ, mɔɹ,...\n",
      "19678     [#tʃɪ, tʃɪɫ, ʃɪɫd, ɪɫdɹ, ɫdɹə, dɹən, ɹənz, ənz...\n",
      "Name: sn_4gram, Length: 3181, dtype: object\n"
     ]
    }
   ],
   "source": [
    "## sn_4gram の追加\n",
    "add_ngrams(df, n_for_ngram = 4, prefix = \"sn_\", skippy = False, inclusive = True, inclusion_degree = inclusion_degree, check = False)"
   ]
  },
  {
   "cell_type": "code",
   "execution_count": 93,
   "id": "9412c517",
   "metadata": {},
   "outputs": [
    {
     "name": "stdout",
     "output_type": "stream",
     "text": [
      "26523     [#dɑɫo, dɑɫoʊ, ɑɫoʊj, ɫoʊjə, oʊjə#, #dɑɫ, dɑɫo...\n",
      "78055         [#numə, numən, umən#, #num, numə, umən, mən#]\n",
      "77269         [#nɑɹɫ, nɑɹɫi, ɑɹɫi#, #nɑɹ, nɑɹɫ, ɑɹɫi, ɹɫi#]\n",
      "40747     [#fɔɹb, fɔɹbz, ɔɹbzɪ, ɹbzɪz, bzɪz#, #fɔɹ, fɔɹb...\n",
      "110595    [#swɛt, swɛtʃ, wɛtʃɑ, ɛtʃɑp, tʃɑp#, #swɛ, swɛt...\n",
      "                                ...                        \n",
      "92443     [#ɹəsi, ɹəsiv, əsivɝ, sivɝz, ivɝz#, #ɹəs, ɹəsi...\n",
      "58650                      [#kɛɫɝ, kɛɫɝ#, #kɛɫ, kɛɫɝ, ɛɫɝ#]\n",
      "7278      [#beɪɫ, beɪɫə, eɪɫəf, ɪɫəfs, ɫəfs#, #beɪ, beɪɫ...\n",
      "75784     [#mɔɹɡ, mɔɹɡə, ɔɹɡəd, ɹɡədʒ, ɡədʒ#, #mɔɹ, mɔɹɡ...\n",
      "19678     [#tʃɪɫ, tʃɪɫd, ʃɪɫdɹ, ɪɫdɹə, ɫdɹən, dɹənz, ɹən...\n",
      "Name: sn_5gram, Length: 3181, dtype: object\n"
     ]
    }
   ],
   "source": [
    "## sn_5gram の追加\n",
    "if \"5gram\" in sn_term_type:\n",
    "    add_ngrams(df, n_for_ngram = 5, prefix = \"sn_\", skippy = False, inclusive = True, inclusion_degree = inclusion_degree, check = False)"
   ]
  },
  {
   "cell_type": "code",
   "execution_count": 94,
   "id": "564821d8",
   "metadata": {},
   "outputs": [
    {
     "name": "stdout",
     "output_type": "stream",
     "text": [
      "26523     [#d, #…ɑ, #…ɫ, #…o, dɑ, d…ɫ, d…o, ɑɫ, ɑ…o, ɫo,...\n",
      "78055     [#n, #…u, #…m, #…ə, nu, n…m, n…ə, um, u…ə, mə,...\n",
      "77269     [#n, #…ɑ, #…ɹ, #…ɫ, nɑ, n…ɹ, n…ɫ, ɑɹ, ɑ…ɫ, ɹɫ,...\n",
      "40747     [#f, #…ɔ, #…ɹ, #…b, fɔ, f…ɹ, f…b, ɔɹ, ɔ…b, ɹb,...\n",
      "110595    [#s, #…w, #…ɛ, #…t, sw, s…ɛ, s…t, wɛ, w…t, ɛt,...\n",
      "                                ...                        \n",
      "92443     [#ɹ, #…ə, #…s, #…i, ɹə, ɹ…s, ɹ…i, əs, ə…i, si,...\n",
      "58650     [#k, #…ɛ, #…ɫ, #…ɝ, kɛ, k…ɫ, k…ɝ, ɛɫ, ɛ…ɝ, ɫɝ,...\n",
      "7278      [#b, #…e, #…ɪ, #…ɫ, be, b…ɪ, b…ɫ, eɪ, e…ɫ, ɪɫ,...\n",
      "75784     [#m, #…ɔ, #…ɹ, #…ɡ, mɔ, m…ɹ, m…ɡ, ɔɹ, ɔ…ɡ, ɹɡ,...\n",
      "19678     [#t, #…ʃ, #…ɪ, #…ɫ, tʃ, t…ɪ, t…ɫ, ʃɪ, ʃ…ɫ, ɪɫ,...\n",
      "Name: sn_sk2gram, Length: 3181, dtype: object\n"
     ]
    }
   ],
   "source": [
    "## sn_sk2gram の追加\n",
    "add_ngrams(df, n_for_ngram = 2, prefix = \"sn_\", skippy = True, max_distance = max_gap_size, inclusive = True, inclusion_degree = inclusion_degree, check = False)"
   ]
  },
  {
   "cell_type": "code",
   "execution_count": 95,
   "id": "621ecec8",
   "metadata": {},
   "outputs": [
    {
     "name": "stdout",
     "output_type": "stream",
     "text": [
      "26523     [#dɑ, #d…ɫ, #d…o, #…ɑɫ, #…ɑ…o, #…ɫo, dɑɫ, dɑ…o...\n",
      "78055     [#nu, #n…m, #n…ə, #…um, #…u…ə, #…mə, num, nu…ə...\n",
      "77269     [#nɑ, #n…ɹ, #n…ɫ, #…ɑɹ, #…ɑ…ɫ, #…ɹɫ, nɑɹ, nɑ…ɫ...\n",
      "40747     [#fɔ, #f…ɹ, #f…b, #…ɔɹ, #…ɔ…b, #…ɹb, fɔɹ, fɔ…b...\n",
      "110595    [#sw, #s…ɛ, #s…t, #…wɛ, #…w…t, #…ɛt, swɛ, sw…t...\n",
      "                                ...                        \n",
      "92443     [#ɹə, #ɹ…s, #ɹ…i, #…əs, #…ə…i, #…si, ɹəs, ɹə…i...\n",
      "58650     [#kɛ, #k…ɫ, #k…ɝ, #…ɛɫ, #…ɛ…ɝ, #…ɫɝ, kɛɫ, kɛ…ɝ...\n",
      "7278      [#be, #b…ɪ, #b…ɫ, #…eɪ, #…e…ɫ, #…ɪɫ, beɪ, be…ɫ...\n",
      "75784     [#mɔ, #m…ɹ, #m…ɡ, #…ɔɹ, #…ɔ…ɡ, #…ɹɡ, mɔɹ, mɔ…ɡ...\n",
      "19678     [#tʃ, #t…ɪ, #t…ɫ, #…ʃɪ, #…ʃ…ɫ, #…ɪɫ, tʃɪ, tʃ…ɫ...\n",
      "Name: sn_sk3gram, Length: 3181, dtype: object\n"
     ]
    }
   ],
   "source": [
    "## sn_sk3gram の追加\n",
    "add_ngrams(df, n_for_ngram = 3, prefix = \"sn_\", skippy = True, max_distance = max_gap_size, inclusive = True, inclusion_degree = inclusion_degree, check = False)"
   ]
  },
  {
   "cell_type": "code",
   "execution_count": 96,
   "id": "a23e1a66",
   "metadata": {},
   "outputs": [
    {
     "name": "stdout",
     "output_type": "stream",
     "text": [
      "26523     [#dɑɫ, #dɑ…o, #d…ɫo, #…ɑɫo, dɑɫo, dɑɫo, dɑɫ…ʊ,...\n",
      "78055     [#num, #nu…ə, #n…mə, #…umə, numə, numə, num…n,...\n",
      "77269     [#nɑɹ, #nɑ…ɫ, #n…ɹɫ, #…ɑɹɫ, nɑɹɫ, nɑɹɫ, nɑɹ…i,...\n",
      "40747     [#fɔɹ, #fɔ…b, #f…ɹb, #…ɔɹb, fɔɹb, fɔɹb, fɔɹ…z,...\n",
      "110595    [#swɛ, #sw…t, #s…ɛt, #…wɛt, swɛt, swɛt, swɛ…ʃ,...\n",
      "                                ...                        \n",
      "92443     [#ɹəs, #ɹə…i, #ɹ…si, #…əsi, ɹəsi, ɹəsi, ɹəs…v,...\n",
      "58650     [#kɛɫ, #kɛ…ɝ, #k…ɫɝ, #…ɛɫɝ, kɛɫɝ, kɛɫɝ, kɛɫ…#,...\n",
      "7278      [#beɪ, #be…ɫ, #b…ɪɫ, #…eɪɫ, beɪɫ, beɪɫ, beɪ…ə,...\n",
      "75784     [#mɔɹ, #mɔ…ɡ, #m…ɹɡ, #…ɔɹɡ, mɔɹɡ, mɔɹɡ, mɔɹ…ə,...\n",
      "19678     [#tʃɪ, #tʃ…ɫ, #t…ɪɫ, #…ʃɪɫ, tʃɪɫ, tʃɪɫ, tʃɪ…d,...\n",
      "Name: sn_sk4gram, Length: 3181, dtype: object\n"
     ]
    }
   ],
   "source": [
    "## sn_sk4gram の追加\n",
    "add_ngrams(df, n_for_ngram = 4, prefix = \"sn_\", skippy = True, max_distance = max_gap_size, inclusive = True, inclusion_degree = inclusion_degree, check = False)"
   ]
  },
  {
   "cell_type": "code",
   "execution_count": 97,
   "id": "f44e0d37",
   "metadata": {},
   "outputs": [
    {
     "name": "stdout",
     "output_type": "stream",
     "text": [
      "26523     [#dɑɫo, dɑɫoʊ, ɑɫoʊj, ɫoʊjə, oʊjə#, #dɑɫ, #dɑ…...\n",
      "78055     [#numə, numən, umən#, #num, #nu…ə, #n…mə, #…um...\n",
      "77269     [#nɑɹɫ, nɑɹɫi, ɑɹɫi#, #nɑɹ, #nɑ…ɫ, #n…ɹɫ, #…ɑɹ...\n",
      "40747     [#fɔɹb, fɔɹbz, ɔɹbzɪ, ɹbzɪz, bzɪz#, #fɔɹ, #fɔ…...\n",
      "110595    [#swɛt, swɛtʃ, wɛtʃɑ, ɛtʃɑp, tʃɑp#, #swɛ, #sw…...\n",
      "                                ...                        \n",
      "92443     [#ɹəsi, ɹəsiv, əsivɝ, sivɝz, ivɝz#, #ɹəs, #ɹə…...\n",
      "58650     [#kɛɫɝ, kɛɫɝ#, #kɛɫ, #kɛ…ɝ, #k…ɫɝ, #…ɛɫɝ, kɛɫɝ...\n",
      "7278      [#beɪɫ, beɪɫə, eɪɫəf, ɪɫəfs, ɫəfs#, #beɪ, #be…...\n",
      "75784     [#mɔɹɡ, mɔɹɡə, ɔɹɡəd, ɹɡədʒ, ɡədʒ#, #mɔɹ, #mɔ…...\n",
      "19678     [#tʃɪɫ, tʃɪɫd, ʃɪɫdɹ, ɪɫdɹə, ɫdɹən, dɹənz, ɹən...\n",
      "Name: sn_sk5gram, Length: 3181, dtype: object\n"
     ]
    }
   ],
   "source": [
    "## sn_sk5gram の追加\n",
    "if \"5gram\" in sn_term_type:\n",
    "    add_ngrams(df, n_for_ngram = 5, prefix = \"sn_\", skippy = True, max_distance = max_gap_size, inclusive = True, inclusion_degree = inclusion_degree, check = False)"
   ]
  },
  {
   "cell_type": "code",
   "execution_count": 98,
   "id": "05c2a69d",
   "metadata": {},
   "outputs": [
    {
     "data": {
      "text/html": [
       "<div>\n",
       "<style scoped>\n",
       "    .dataframe tbody tr th:only-of-type {\n",
       "        vertical-align: middle;\n",
       "    }\n",
       "\n",
       "    .dataframe tbody tr th {\n",
       "        vertical-align: top;\n",
       "    }\n",
       "\n",
       "    .dataframe thead th {\n",
       "        text-align: right;\n",
       "    }\n",
       "</style>\n",
       "<table border=\"1\" class=\"dataframe\">\n",
       "  <thead>\n",
       "    <tr style=\"text-align: right;\">\n",
       "      <th></th>\n",
       "      <th>sn_word</th>\n",
       "      <th>sn_sk2gram</th>\n",
       "      <th>sn_sk3gram</th>\n",
       "      <th>sn_sk4gram</th>\n",
       "      <th>sn_sk5gram</th>\n",
       "    </tr>\n",
       "  </thead>\n",
       "  <tbody>\n",
       "    <tr>\n",
       "      <th>26523</th>\n",
       "      <td>#dɑɫoʊjə#</td>\n",
       "      <td>[#d, #…ɑ, #…ɫ, #…o, dɑ, d…ɫ, d…o, ɑɫ, ɑ…o, ɫo,...</td>\n",
       "      <td>[#dɑ, #d…ɫ, #d…o, #…ɑɫ, #…ɑ…o, #…ɫo, dɑɫ, dɑ…o...</td>\n",
       "      <td>[#dɑɫ, #dɑ…o, #d…ɫo, #…ɑɫo, dɑɫo, dɑɫo, dɑɫ…ʊ,...</td>\n",
       "      <td>[#dɑɫo, dɑɫoʊ, ɑɫoʊj, ɫoʊjə, oʊjə#, #dɑɫ, #dɑ…...</td>\n",
       "    </tr>\n",
       "    <tr>\n",
       "      <th>78055</th>\n",
       "      <td>#numən#</td>\n",
       "      <td>[#n, #…u, #…m, #…ə, nu, n…m, n…ə, um, u…ə, mə,...</td>\n",
       "      <td>[#nu, #n…m, #n…ə, #…um, #…u…ə, #…mə, num, nu…ə...</td>\n",
       "      <td>[#num, #nu…ə, #n…mə, #…umə, numə, numə, num…n,...</td>\n",
       "      <td>[#numə, numən, umən#, #num, #nu…ə, #n…mə, #…um...</td>\n",
       "    </tr>\n",
       "    <tr>\n",
       "      <th>77269</th>\n",
       "      <td>#nɑɹɫi#</td>\n",
       "      <td>[#n, #…ɑ, #…ɹ, #…ɫ, nɑ, n…ɹ, n…ɫ, ɑɹ, ɑ…ɫ, ɹɫ,...</td>\n",
       "      <td>[#nɑ, #n…ɹ, #n…ɫ, #…ɑɹ, #…ɑ…ɫ, #…ɹɫ, nɑɹ, nɑ…ɫ...</td>\n",
       "      <td>[#nɑɹ, #nɑ…ɫ, #n…ɹɫ, #…ɑɹɫ, nɑɹɫ, nɑɹɫ, nɑɹ…i,...</td>\n",
       "      <td>[#nɑɹɫ, nɑɹɫi, ɑɹɫi#, #nɑɹ, #nɑ…ɫ, #n…ɹɫ, #…ɑɹ...</td>\n",
       "    </tr>\n",
       "    <tr>\n",
       "      <th>40747</th>\n",
       "      <td>#fɔɹbzɪz#</td>\n",
       "      <td>[#f, #…ɔ, #…ɹ, #…b, fɔ, f…ɹ, f…b, ɔɹ, ɔ…b, ɹb,...</td>\n",
       "      <td>[#fɔ, #f…ɹ, #f…b, #…ɔɹ, #…ɔ…b, #…ɹb, fɔɹ, fɔ…b...</td>\n",
       "      <td>[#fɔɹ, #fɔ…b, #f…ɹb, #…ɔɹb, fɔɹb, fɔɹb, fɔɹ…z,...</td>\n",
       "      <td>[#fɔɹb, fɔɹbz, ɔɹbzɪ, ɹbzɪz, bzɪz#, #fɔɹ, #fɔ…...</td>\n",
       "    </tr>\n",
       "    <tr>\n",
       "      <th>110595</th>\n",
       "      <td>#swɛtʃɑp#</td>\n",
       "      <td>[#s, #…w, #…ɛ, #…t, sw, s…ɛ, s…t, wɛ, w…t, ɛt,...</td>\n",
       "      <td>[#sw, #s…ɛ, #s…t, #…wɛ, #…w…t, #…ɛt, swɛ, sw…t...</td>\n",
       "      <td>[#swɛ, #sw…t, #s…ɛt, #…wɛt, swɛt, swɛt, swɛ…ʃ,...</td>\n",
       "      <td>[#swɛt, swɛtʃ, wɛtʃɑ, ɛtʃɑp, tʃɑp#, #swɛ, #sw…...</td>\n",
       "    </tr>\n",
       "    <tr>\n",
       "      <th>...</th>\n",
       "      <td>...</td>\n",
       "      <td>...</td>\n",
       "      <td>...</td>\n",
       "      <td>...</td>\n",
       "      <td>...</td>\n",
       "    </tr>\n",
       "    <tr>\n",
       "      <th>92443</th>\n",
       "      <td>#ɹəsivɝz#</td>\n",
       "      <td>[#ɹ, #…ə, #…s, #…i, ɹə, ɹ…s, ɹ…i, əs, ə…i, si,...</td>\n",
       "      <td>[#ɹə, #ɹ…s, #ɹ…i, #…əs, #…ə…i, #…si, ɹəs, ɹə…i...</td>\n",
       "      <td>[#ɹəs, #ɹə…i, #ɹ…si, #…əsi, ɹəsi, ɹəsi, ɹəs…v,...</td>\n",
       "      <td>[#ɹəsi, ɹəsiv, əsivɝ, sivɝz, ivɝz#, #ɹəs, #ɹə…...</td>\n",
       "    </tr>\n",
       "    <tr>\n",
       "      <th>58650</th>\n",
       "      <td>#kɛɫɝ#</td>\n",
       "      <td>[#k, #…ɛ, #…ɫ, #…ɝ, kɛ, k…ɫ, k…ɝ, ɛɫ, ɛ…ɝ, ɫɝ,...</td>\n",
       "      <td>[#kɛ, #k…ɫ, #k…ɝ, #…ɛɫ, #…ɛ…ɝ, #…ɫɝ, kɛɫ, kɛ…ɝ...</td>\n",
       "      <td>[#kɛɫ, #kɛ…ɝ, #k…ɫɝ, #…ɛɫɝ, kɛɫɝ, kɛɫɝ, kɛɫ…#,...</td>\n",
       "      <td>[#kɛɫɝ, kɛɫɝ#, #kɛɫ, #kɛ…ɝ, #k…ɫɝ, #…ɛɫɝ, kɛɫɝ...</td>\n",
       "    </tr>\n",
       "    <tr>\n",
       "      <th>7278</th>\n",
       "      <td>#beɪɫəfs#</td>\n",
       "      <td>[#b, #…e, #…ɪ, #…ɫ, be, b…ɪ, b…ɫ, eɪ, e…ɫ, ɪɫ,...</td>\n",
       "      <td>[#be, #b…ɪ, #b…ɫ, #…eɪ, #…e…ɫ, #…ɪɫ, beɪ, be…ɫ...</td>\n",
       "      <td>[#beɪ, #be…ɫ, #b…ɪɫ, #…eɪɫ, beɪɫ, beɪɫ, beɪ…ə,...</td>\n",
       "      <td>[#beɪɫ, beɪɫə, eɪɫəf, ɪɫəfs, ɫəfs#, #beɪ, #be…...</td>\n",
       "    </tr>\n",
       "    <tr>\n",
       "      <th>75784</th>\n",
       "      <td>#mɔɹɡədʒ#</td>\n",
       "      <td>[#m, #…ɔ, #…ɹ, #…ɡ, mɔ, m…ɹ, m…ɡ, ɔɹ, ɔ…ɡ, ɹɡ,...</td>\n",
       "      <td>[#mɔ, #m…ɹ, #m…ɡ, #…ɔɹ, #…ɔ…ɡ, #…ɹɡ, mɔɹ, mɔ…ɡ...</td>\n",
       "      <td>[#mɔɹ, #mɔ…ɡ, #m…ɹɡ, #…ɔɹɡ, mɔɹɡ, mɔɹɡ, mɔɹ…ə,...</td>\n",
       "      <td>[#mɔɹɡ, mɔɹɡə, ɔɹɡəd, ɹɡədʒ, ɡədʒ#, #mɔɹ, #mɔ…...</td>\n",
       "    </tr>\n",
       "    <tr>\n",
       "      <th>19678</th>\n",
       "      <td>#tʃɪɫdɹənz#</td>\n",
       "      <td>[#t, #…ʃ, #…ɪ, #…ɫ, tʃ, t…ɪ, t…ɫ, ʃɪ, ʃ…ɫ, ɪɫ,...</td>\n",
       "      <td>[#tʃ, #t…ɪ, #t…ɫ, #…ʃɪ, #…ʃ…ɫ, #…ɪɫ, tʃɪ, tʃ…ɫ...</td>\n",
       "      <td>[#tʃɪ, #tʃ…ɫ, #t…ɪɫ, #…ʃɪɫ, tʃɪɫ, tʃɪɫ, tʃɪ…d,...</td>\n",
       "      <td>[#tʃɪɫ, tʃɪɫd, ʃɪɫdɹ, ɪɫdɹə, ɫdɹən, dɹənz, ɹən...</td>\n",
       "    </tr>\n",
       "  </tbody>\n",
       "</table>\n",
       "<p>3181 rows × 5 columns</p>\n",
       "</div>"
      ],
      "text/plain": [
       "            sn_word                                         sn_sk2gram  \\\n",
       "26523     #dɑɫoʊjə#  [#d, #…ɑ, #…ɫ, #…o, dɑ, d…ɫ, d…o, ɑɫ, ɑ…o, ɫo,...   \n",
       "78055       #numən#  [#n, #…u, #…m, #…ə, nu, n…m, n…ə, um, u…ə, mə,...   \n",
       "77269       #nɑɹɫi#  [#n, #…ɑ, #…ɹ, #…ɫ, nɑ, n…ɹ, n…ɫ, ɑɹ, ɑ…ɫ, ɹɫ,...   \n",
       "40747     #fɔɹbzɪz#  [#f, #…ɔ, #…ɹ, #…b, fɔ, f…ɹ, f…b, ɔɹ, ɔ…b, ɹb,...   \n",
       "110595    #swɛtʃɑp#  [#s, #…w, #…ɛ, #…t, sw, s…ɛ, s…t, wɛ, w…t, ɛt,...   \n",
       "...             ...                                                ...   \n",
       "92443     #ɹəsivɝz#  [#ɹ, #…ə, #…s, #…i, ɹə, ɹ…s, ɹ…i, əs, ə…i, si,...   \n",
       "58650        #kɛɫɝ#  [#k, #…ɛ, #…ɫ, #…ɝ, kɛ, k…ɫ, k…ɝ, ɛɫ, ɛ…ɝ, ɫɝ,...   \n",
       "7278      #beɪɫəfs#  [#b, #…e, #…ɪ, #…ɫ, be, b…ɪ, b…ɫ, eɪ, e…ɫ, ɪɫ,...   \n",
       "75784     #mɔɹɡədʒ#  [#m, #…ɔ, #…ɹ, #…ɡ, mɔ, m…ɹ, m…ɡ, ɔɹ, ɔ…ɡ, ɹɡ,...   \n",
       "19678   #tʃɪɫdɹənz#  [#t, #…ʃ, #…ɪ, #…ɫ, tʃ, t…ɪ, t…ɫ, ʃɪ, ʃ…ɫ, ɪɫ,...   \n",
       "\n",
       "                                               sn_sk3gram  \\\n",
       "26523   [#dɑ, #d…ɫ, #d…o, #…ɑɫ, #…ɑ…o, #…ɫo, dɑɫ, dɑ…o...   \n",
       "78055   [#nu, #n…m, #n…ə, #…um, #…u…ə, #…mə, num, nu…ə...   \n",
       "77269   [#nɑ, #n…ɹ, #n…ɫ, #…ɑɹ, #…ɑ…ɫ, #…ɹɫ, nɑɹ, nɑ…ɫ...   \n",
       "40747   [#fɔ, #f…ɹ, #f…b, #…ɔɹ, #…ɔ…b, #…ɹb, fɔɹ, fɔ…b...   \n",
       "110595  [#sw, #s…ɛ, #s…t, #…wɛ, #…w…t, #…ɛt, swɛ, sw…t...   \n",
       "...                                                   ...   \n",
       "92443   [#ɹə, #ɹ…s, #ɹ…i, #…əs, #…ə…i, #…si, ɹəs, ɹə…i...   \n",
       "58650   [#kɛ, #k…ɫ, #k…ɝ, #…ɛɫ, #…ɛ…ɝ, #…ɫɝ, kɛɫ, kɛ…ɝ...   \n",
       "7278    [#be, #b…ɪ, #b…ɫ, #…eɪ, #…e…ɫ, #…ɪɫ, beɪ, be…ɫ...   \n",
       "75784   [#mɔ, #m…ɹ, #m…ɡ, #…ɔɹ, #…ɔ…ɡ, #…ɹɡ, mɔɹ, mɔ…ɡ...   \n",
       "19678   [#tʃ, #t…ɪ, #t…ɫ, #…ʃɪ, #…ʃ…ɫ, #…ɪɫ, tʃɪ, tʃ…ɫ...   \n",
       "\n",
       "                                               sn_sk4gram  \\\n",
       "26523   [#dɑɫ, #dɑ…o, #d…ɫo, #…ɑɫo, dɑɫo, dɑɫo, dɑɫ…ʊ,...   \n",
       "78055   [#num, #nu…ə, #n…mə, #…umə, numə, numə, num…n,...   \n",
       "77269   [#nɑɹ, #nɑ…ɫ, #n…ɹɫ, #…ɑɹɫ, nɑɹɫ, nɑɹɫ, nɑɹ…i,...   \n",
       "40747   [#fɔɹ, #fɔ…b, #f…ɹb, #…ɔɹb, fɔɹb, fɔɹb, fɔɹ…z,...   \n",
       "110595  [#swɛ, #sw…t, #s…ɛt, #…wɛt, swɛt, swɛt, swɛ…ʃ,...   \n",
       "...                                                   ...   \n",
       "92443   [#ɹəs, #ɹə…i, #ɹ…si, #…əsi, ɹəsi, ɹəsi, ɹəs…v,...   \n",
       "58650   [#kɛɫ, #kɛ…ɝ, #k…ɫɝ, #…ɛɫɝ, kɛɫɝ, kɛɫɝ, kɛɫ…#,...   \n",
       "7278    [#beɪ, #be…ɫ, #b…ɪɫ, #…eɪɫ, beɪɫ, beɪɫ, beɪ…ə,...   \n",
       "75784   [#mɔɹ, #mɔ…ɡ, #m…ɹɡ, #…ɔɹɡ, mɔɹɡ, mɔɹɡ, mɔɹ…ə,...   \n",
       "19678   [#tʃɪ, #tʃ…ɫ, #t…ɪɫ, #…ʃɪɫ, tʃɪɫ, tʃɪɫ, tʃɪ…d,...   \n",
       "\n",
       "                                               sn_sk5gram  \n",
       "26523   [#dɑɫo, dɑɫoʊ, ɑɫoʊj, ɫoʊjə, oʊjə#, #dɑɫ, #dɑ…...  \n",
       "78055   [#numə, numən, umən#, #num, #nu…ə, #n…mə, #…um...  \n",
       "77269   [#nɑɹɫ, nɑɹɫi, ɑɹɫi#, #nɑɹ, #nɑ…ɫ, #n…ɹɫ, #…ɑɹ...  \n",
       "40747   [#fɔɹb, fɔɹbz, ɔɹbzɪ, ɹbzɪz, bzɪz#, #fɔɹ, #fɔ…...  \n",
       "110595  [#swɛt, swɛtʃ, wɛtʃɑ, ɛtʃɑp, tʃɑp#, #swɛ, #sw…...  \n",
       "...                                                   ...  \n",
       "92443   [#ɹəsi, ɹəsiv, əsivɝ, sivɝz, ivɝz#, #ɹəs, #ɹə…...  \n",
       "58650   [#kɛɫɝ, kɛɫɝ#, #kɛɫ, #kɛ…ɝ, #k…ɫɝ, #…ɛɫɝ, kɛɫɝ...  \n",
       "7278    [#beɪɫ, beɪɫə, eɪɫəf, ɪɫəfs, ɫəfs#, #beɪ, #be…...  \n",
       "75784   [#mɔɹɡ, mɔɹɡə, ɔɹɡəd, ɹɡədʒ, ɡədʒ#, #mɔɹ, #mɔ…...  \n",
       "19678   [#tʃɪɫ, tʃɪɫd, ʃɪɫdɹ, ɪɫdɹə, ɫdɹən, dɹənz, ɹən...  \n",
       "\n",
       "[3181 rows x 5 columns]"
      ]
     },
     "execution_count": 98,
     "metadata": {},
     "output_type": "execute_result"
    }
   ],
   "source": [
    "## check result\n",
    "if \"5gram\" in sn_term_type:\n",
    "    var_names = [ 'sn_word', 'sn_sk2gram', 'sn_sk3gram', 'sn_sk4gram', 'sn_sk5gram' ]\n",
    "else:\n",
    "    var_names = [ 'sn_word', 'sn_sk2gram', 'sn_sk3gram', 'sn_sk4gram' ]\n",
    "df[var_names]"
   ]
  },
  {
   "cell_type": "markdown",
   "id": "ff6f78c0-9731-4f9c-ab72-fb83da641cc1",
   "metadata": {},
   "source": [
    "# Pair = sp term :: sn term の生成"
   ]
  },
  {
   "cell_type": "code",
   "execution_count": 99,
   "id": "6e9b07cd-fdb0-48e8-9803-3bad862a609d",
   "metadata": {},
   "outputs": [],
   "source": [
    "## pair spell and sound terms\n",
    "paired_terms = [ ]\n",
    "for s_pair in zip(df[sp_term_type], df[sn_term_type]):\n",
    "    if check:\n",
    "        print(s_pair)\n",
    "    sp_tok, sn_tok = s_pair\n",
    "    paired = [ f\"{sp}{pair_marker}{sn}\" for sp in sp_tok for sn in sn_tok if len(sp) > 0 and len(sn) > 0 ]\n",
    "    #\n",
    "    paired_terms.append(paired)"
   ]
  },
  {
   "cell_type": "code",
   "execution_count": 100,
   "id": "4702e88e-a5e5-4606-aa01-c7eb8aa8bf89",
   "metadata": {},
   "outputs": [
    {
     "data": {
      "text/plain": [
       "[['#pati :: #pæti',\n",
       "  '#pati :: pætio',\n",
       "  '#pati :: ætioʊ',\n",
       "  '#pati :: tioʊz',\n",
       "  '#pati :: ioʊz#',\n",
       "  '#pati :: #pæt',\n",
       "  '#pati :: #pæ…i',\n",
       "  '#pati :: #p…ti',\n",
       "  '#pati :: #…æti',\n",
       "  '#pati :: pæti',\n",
       "  '#pati :: pæti',\n",
       "  '#pati :: pæt…o',\n",
       "  '#pati :: pæ…io',\n",
       "  '#pati :: p…tio',\n",
       "  '#pati :: ætio',\n",
       "  '#pati :: ætio',\n",
       "  '#pati :: æti…ʊ',\n",
       "  '#pati :: æt…oʊ',\n",
       "  '#pati :: æ…ioʊ',\n",
       "  '#pati :: tioʊ',\n",
       "  '#pati :: tioʊ',\n",
       "  '#pati :: tio…z',\n",
       "  '#pati :: ti…ʊz',\n",
       "  '#pati :: t…oʊz',\n",
       "  '#pati :: ioʊz',\n",
       "  '#pati :: ioʊz',\n",
       "  '#pati :: ioʊ…#',\n",
       "  '#pati :: io…z#',\n",
       "  '#pati :: i…ʊz#',\n",
       "  '#pati :: oʊz#',\n",
       "  '#pati :: oʊz#',\n",
       "  '#pati :: #p…t',\n",
       "  '#pati :: #p…i',\n",
       "  '#pati :: #…æt',\n",
       "  '#pati :: #…æ…i',\n",
       "  '#pati :: #…ti',\n",
       "  '#pati :: pæ…i',\n",
       "  '#pati :: p…ti',\n",
       "  '#pati :: pæ…i',\n",
       "  '#pati :: pæ…o',\n",
       "  '#pati :: p…ti',\n",
       "  '#pati :: p…t…o',\n",
       "  '#pati :: p…io',\n",
       "  '#pati :: æt…o',\n",
       "  '#pati :: æ…io',\n",
       "  '#pati :: æt…o',\n",
       "  '#pati :: æt…ʊ',\n",
       "  '#pati :: æ…io',\n",
       "  '#pati :: æ…i…ʊ',\n",
       "  '#pati :: æ…oʊ',\n",
       "  '#pati :: ti…ʊ',\n",
       "  '#pati :: t…oʊ',\n",
       "  '#pati :: ti…ʊ',\n",
       "  '#pati :: ti…z',\n",
       "  '#pati :: t…oʊ',\n",
       "  '#pati :: t…o…z',\n",
       "  '#pati :: t…ʊz',\n",
       "  '#pati :: io…z',\n",
       "  '#pati :: i…ʊz',\n",
       "  '#pati :: io…z',\n",
       "  '#pati :: io…#',\n",
       "  '#pati :: i…ʊz',\n",
       "  '#pati :: i…ʊ…#',\n",
       "  '#pati :: i…z#',\n",
       "  '#pati :: oʊ…#',\n",
       "  '#pati :: o…z#',\n",
       "  '#pati :: oʊ…#',\n",
       "  '#pati :: o…z#',\n",
       "  'patio :: #pæti',\n",
       "  'patio :: pætio',\n",
       "  'patio :: ætioʊ',\n",
       "  'patio :: tioʊz',\n",
       "  'patio :: ioʊz#',\n",
       "  'patio :: #pæt',\n",
       "  'patio :: #pæ…i',\n",
       "  'patio :: #p…ti',\n",
       "  'patio :: #…æti',\n",
       "  'patio :: pæti',\n",
       "  'patio :: pæti',\n",
       "  'patio :: pæt…o',\n",
       "  'patio :: pæ…io',\n",
       "  'patio :: p…tio',\n",
       "  'patio :: ætio',\n",
       "  'patio :: ætio',\n",
       "  'patio :: æti…ʊ',\n",
       "  'patio :: æt…oʊ',\n",
       "  'patio :: æ…ioʊ',\n",
       "  'patio :: tioʊ',\n",
       "  'patio :: tioʊ',\n",
       "  'patio :: tio…z',\n",
       "  'patio :: ti…ʊz',\n",
       "  'patio :: t…oʊz',\n",
       "  'patio :: ioʊz',\n",
       "  'patio :: ioʊz',\n",
       "  'patio :: ioʊ…#',\n",
       "  'patio :: io…z#',\n",
       "  'patio :: i…ʊz#',\n",
       "  'patio :: oʊz#',\n",
       "  'patio :: oʊz#',\n",
       "  'patio :: #p…t',\n",
       "  'patio :: #p…i',\n",
       "  'patio :: #…æt',\n",
       "  'patio :: #…æ…i',\n",
       "  'patio :: #…ti',\n",
       "  'patio :: pæ…i',\n",
       "  'patio :: p…ti',\n",
       "  'patio :: pæ…i',\n",
       "  'patio :: pæ…o',\n",
       "  'patio :: p…ti',\n",
       "  'patio :: p…t…o',\n",
       "  'patio :: p…io',\n",
       "  'patio :: æt…o',\n",
       "  'patio :: æ…io',\n",
       "  'patio :: æt…o',\n",
       "  'patio :: æt…ʊ',\n",
       "  'patio :: æ…io',\n",
       "  'patio :: æ…i…ʊ',\n",
       "  'patio :: æ…oʊ',\n",
       "  'patio :: ti…ʊ',\n",
       "  'patio :: t…oʊ',\n",
       "  'patio :: ti…ʊ',\n",
       "  'patio :: ti…z',\n",
       "  'patio :: t…oʊ',\n",
       "  'patio :: t…o…z',\n",
       "  'patio :: t…ʊz',\n",
       "  'patio :: io…z',\n",
       "  'patio :: i…ʊz',\n",
       "  'patio :: io…z',\n",
       "  'patio :: io…#',\n",
       "  'patio :: i…ʊz',\n",
       "  'patio :: i…ʊ…#',\n",
       "  'patio :: i…z#',\n",
       "  'patio :: oʊ…#',\n",
       "  'patio :: o…z#',\n",
       "  'patio :: oʊ…#',\n",
       "  'patio :: o…z#',\n",
       "  'atios :: #pæti',\n",
       "  'atios :: pætio',\n",
       "  'atios :: ætioʊ',\n",
       "  'atios :: tioʊz',\n",
       "  'atios :: ioʊz#',\n",
       "  'atios :: #pæt',\n",
       "  'atios :: #pæ…i',\n",
       "  'atios :: #p…ti',\n",
       "  'atios :: #…æti',\n",
       "  'atios :: pæti',\n",
       "  'atios :: pæti',\n",
       "  'atios :: pæt…o',\n",
       "  'atios :: pæ…io',\n",
       "  'atios :: p…tio',\n",
       "  'atios :: ætio',\n",
       "  'atios :: ætio',\n",
       "  'atios :: æti…ʊ',\n",
       "  'atios :: æt…oʊ',\n",
       "  'atios :: æ…ioʊ',\n",
       "  'atios :: tioʊ',\n",
       "  'atios :: tioʊ',\n",
       "  'atios :: tio…z',\n",
       "  'atios :: ti…ʊz',\n",
       "  'atios :: t…oʊz',\n",
       "  'atios :: ioʊz',\n",
       "  'atios :: ioʊz',\n",
       "  'atios :: ioʊ…#',\n",
       "  'atios :: io…z#',\n",
       "  'atios :: i…ʊz#',\n",
       "  'atios :: oʊz#',\n",
       "  'atios :: oʊz#',\n",
       "  'atios :: #p…t',\n",
       "  'atios :: #p…i',\n",
       "  'atios :: #…æt',\n",
       "  'atios :: #…æ…i',\n",
       "  'atios :: #…ti',\n",
       "  'atios :: pæ…i',\n",
       "  'atios :: p…ti',\n",
       "  'atios :: pæ…i',\n",
       "  'atios :: pæ…o',\n",
       "  'atios :: p…ti',\n",
       "  'atios :: p…t…o',\n",
       "  'atios :: p…io',\n",
       "  'atios :: æt…o',\n",
       "  'atios :: æ…io',\n",
       "  'atios :: æt…o',\n",
       "  'atios :: æt…ʊ',\n",
       "  'atios :: æ…io',\n",
       "  'atios :: æ…i…ʊ',\n",
       "  'atios :: æ…oʊ',\n",
       "  'atios :: ti…ʊ',\n",
       "  'atios :: t…oʊ',\n",
       "  'atios :: ti…ʊ',\n",
       "  'atios :: ti…z',\n",
       "  'atios :: t…oʊ',\n",
       "  'atios :: t…o…z',\n",
       "  'atios :: t…ʊz',\n",
       "  'atios :: io…z',\n",
       "  'atios :: i…ʊz',\n",
       "  'atios :: io…z',\n",
       "  'atios :: io…#',\n",
       "  'atios :: i…ʊz',\n",
       "  'atios :: i…ʊ…#',\n",
       "  'atios :: i…z#',\n",
       "  'atios :: oʊ…#',\n",
       "  'atios :: o…z#',\n",
       "  'atios :: oʊ…#',\n",
       "  'atios :: o…z#',\n",
       "  'tios# :: #pæti',\n",
       "  'tios# :: pætio',\n",
       "  'tios# :: ætioʊ',\n",
       "  'tios# :: tioʊz',\n",
       "  'tios# :: ioʊz#',\n",
       "  'tios# :: #pæt',\n",
       "  'tios# :: #pæ…i',\n",
       "  'tios# :: #p…ti',\n",
       "  'tios# :: #…æti',\n",
       "  'tios# :: pæti',\n",
       "  'tios# :: pæti',\n",
       "  'tios# :: pæt…o',\n",
       "  'tios# :: pæ…io',\n",
       "  'tios# :: p…tio',\n",
       "  'tios# :: ætio',\n",
       "  'tios# :: ætio',\n",
       "  'tios# :: æti…ʊ',\n",
       "  'tios# :: æt…oʊ',\n",
       "  'tios# :: æ…ioʊ',\n",
       "  'tios# :: tioʊ',\n",
       "  'tios# :: tioʊ',\n",
       "  'tios# :: tio…z',\n",
       "  'tios# :: ti…ʊz',\n",
       "  'tios# :: t…oʊz',\n",
       "  'tios# :: ioʊz',\n",
       "  'tios# :: ioʊz',\n",
       "  'tios# :: ioʊ…#',\n",
       "  'tios# :: io…z#',\n",
       "  'tios# :: i…ʊz#',\n",
       "  'tios# :: oʊz#',\n",
       "  'tios# :: oʊz#',\n",
       "  'tios# :: #p…t',\n",
       "  'tios# :: #p…i',\n",
       "  'tios# :: #…æt',\n",
       "  'tios# :: #…æ…i',\n",
       "  'tios# :: #…ti',\n",
       "  'tios# :: pæ…i',\n",
       "  'tios# :: p…ti',\n",
       "  'tios# :: pæ…i',\n",
       "  'tios# :: pæ…o',\n",
       "  'tios# :: p…ti',\n",
       "  'tios# :: p…t…o',\n",
       "  'tios# :: p…io',\n",
       "  'tios# :: æt…o',\n",
       "  'tios# :: æ…io',\n",
       "  'tios# :: æt…o',\n",
       "  'tios# :: æt…ʊ',\n",
       "  'tios# :: æ…io',\n",
       "  'tios# :: æ…i…ʊ',\n",
       "  'tios# :: æ…oʊ',\n",
       "  'tios# :: ti…ʊ',\n",
       "  'tios# :: t…oʊ',\n",
       "  'tios# :: ti…ʊ',\n",
       "  'tios# :: ti…z',\n",
       "  'tios# :: t…oʊ',\n",
       "  'tios# :: t…o…z',\n",
       "  'tios# :: t…ʊz',\n",
       "  'tios# :: io…z',\n",
       "  'tios# :: i…ʊz',\n",
       "  'tios# :: io…z',\n",
       "  'tios# :: io…#',\n",
       "  'tios# :: i…ʊz',\n",
       "  'tios# :: i…ʊ…#',\n",
       "  'tios# :: i…z#',\n",
       "  'tios# :: oʊ…#',\n",
       "  'tios# :: o…z#',\n",
       "  'tios# :: oʊ…#',\n",
       "  'tios# :: o…z#',\n",
       "  '#pat :: #pæti',\n",
       "  '#pat :: pætio',\n",
       "  '#pat :: ætioʊ',\n",
       "  '#pat :: tioʊz',\n",
       "  '#pat :: ioʊz#',\n",
       "  '#pat :: #pæt',\n",
       "  '#pat :: #pæ…i',\n",
       "  '#pat :: #p…ti',\n",
       "  '#pat :: #…æti',\n",
       "  '#pat :: pæti',\n",
       "  '#pat :: pæti',\n",
       "  '#pat :: pæt…o',\n",
       "  '#pat :: pæ…io',\n",
       "  '#pat :: p…tio',\n",
       "  '#pat :: ætio',\n",
       "  '#pat :: ætio',\n",
       "  '#pat :: æti…ʊ',\n",
       "  '#pat :: æt…oʊ',\n",
       "  '#pat :: æ…ioʊ',\n",
       "  '#pat :: tioʊ',\n",
       "  '#pat :: tioʊ',\n",
       "  '#pat :: tio…z',\n",
       "  '#pat :: ti…ʊz',\n",
       "  '#pat :: t…oʊz',\n",
       "  '#pat :: ioʊz',\n",
       "  '#pat :: ioʊz',\n",
       "  '#pat :: ioʊ…#',\n",
       "  '#pat :: io…z#',\n",
       "  '#pat :: i…ʊz#',\n",
       "  '#pat :: oʊz#',\n",
       "  '#pat :: oʊz#',\n",
       "  '#pat :: #p…t',\n",
       "  '#pat :: #p…i',\n",
       "  '#pat :: #…æt',\n",
       "  '#pat :: #…æ…i',\n",
       "  '#pat :: #…ti',\n",
       "  '#pat :: pæ…i',\n",
       "  '#pat :: p…ti',\n",
       "  '#pat :: pæ…i',\n",
       "  '#pat :: pæ…o',\n",
       "  '#pat :: p…ti',\n",
       "  '#pat :: p…t…o',\n",
       "  '#pat :: p…io',\n",
       "  '#pat :: æt…o',\n",
       "  '#pat :: æ…io',\n",
       "  '#pat :: æt…o',\n",
       "  '#pat :: æt…ʊ',\n",
       "  '#pat :: æ…io',\n",
       "  '#pat :: æ…i…ʊ',\n",
       "  '#pat :: æ…oʊ',\n",
       "  '#pat :: ti…ʊ',\n",
       "  '#pat :: t…oʊ',\n",
       "  '#pat :: ti…ʊ',\n",
       "  '#pat :: ti…z',\n",
       "  '#pat :: t…oʊ',\n",
       "  '#pat :: t…o…z',\n",
       "  '#pat :: t…ʊz',\n",
       "  '#pat :: io…z',\n",
       "  '#pat :: i…ʊz',\n",
       "  '#pat :: io…z',\n",
       "  '#pat :: io…#',\n",
       "  '#pat :: i…ʊz',\n",
       "  '#pat :: i…ʊ…#',\n",
       "  '#pat :: i…z#',\n",
       "  '#pat :: oʊ…#',\n",
       "  '#pat :: o…z#',\n",
       "  '#pat :: oʊ…#',\n",
       "  '#pat :: o…z#',\n",
       "  '#pa…i :: #pæti',\n",
       "  '#pa…i :: pætio',\n",
       "  '#pa…i :: ætioʊ',\n",
       "  '#pa…i :: tioʊz',\n",
       "  '#pa…i :: ioʊz#',\n",
       "  '#pa…i :: #pæt',\n",
       "  '#pa…i :: #pæ…i',\n",
       "  '#pa…i :: #p…ti',\n",
       "  '#pa…i :: #…æti',\n",
       "  '#pa…i :: pæti',\n",
       "  '#pa…i :: pæti',\n",
       "  '#pa…i :: pæt…o',\n",
       "  '#pa…i :: pæ…io',\n",
       "  '#pa…i :: p…tio',\n",
       "  '#pa…i :: ætio',\n",
       "  '#pa…i :: ætio',\n",
       "  '#pa…i :: æti…ʊ',\n",
       "  '#pa…i :: æt…oʊ',\n",
       "  '#pa…i :: æ…ioʊ',\n",
       "  '#pa…i :: tioʊ',\n",
       "  '#pa…i :: tioʊ',\n",
       "  '#pa…i :: tio…z',\n",
       "  '#pa…i :: ti…ʊz',\n",
       "  '#pa…i :: t…oʊz',\n",
       "  '#pa…i :: ioʊz',\n",
       "  '#pa…i :: ioʊz',\n",
       "  '#pa…i :: ioʊ…#',\n",
       "  '#pa…i :: io…z#',\n",
       "  '#pa…i :: i…ʊz#',\n",
       "  '#pa…i :: oʊz#',\n",
       "  '#pa…i :: oʊz#',\n",
       "  '#pa…i :: #p…t',\n",
       "  '#pa…i :: #p…i',\n",
       "  '#pa…i :: #…æt',\n",
       "  '#pa…i :: #…æ…i',\n",
       "  '#pa…i :: #…ti',\n",
       "  '#pa…i :: pæ…i',\n",
       "  '#pa…i :: p…ti',\n",
       "  '#pa…i :: pæ…i',\n",
       "  '#pa…i :: pæ…o',\n",
       "  '#pa…i :: p…ti',\n",
       "  '#pa…i :: p…t…o',\n",
       "  '#pa…i :: p…io',\n",
       "  '#pa…i :: æt…o',\n",
       "  '#pa…i :: æ…io',\n",
       "  '#pa…i :: æt…o',\n",
       "  '#pa…i :: æt…ʊ',\n",
       "  '#pa…i :: æ…io',\n",
       "  '#pa…i :: æ…i…ʊ',\n",
       "  '#pa…i :: æ…oʊ',\n",
       "  '#pa…i :: ti…ʊ',\n",
       "  '#pa…i :: t…oʊ',\n",
       "  '#pa…i :: ti…ʊ',\n",
       "  '#pa…i :: ti…z',\n",
       "  '#pa…i :: t…oʊ',\n",
       "  '#pa…i :: t…o…z',\n",
       "  '#pa…i :: t…ʊz',\n",
       "  '#pa…i :: io…z',\n",
       "  '#pa…i :: i…ʊz',\n",
       "  '#pa…i :: io…z',\n",
       "  '#pa…i :: io…#',\n",
       "  '#pa…i :: i…ʊz',\n",
       "  '#pa…i :: i…ʊ…#',\n",
       "  '#pa…i :: i…z#',\n",
       "  '#pa…i :: oʊ…#',\n",
       "  '#pa…i :: o…z#',\n",
       "  '#pa…i :: oʊ…#',\n",
       "  '#pa…i :: o…z#',\n",
       "  '#p…ti :: #pæti',\n",
       "  '#p…ti :: pætio',\n",
       "  '#p…ti :: ætioʊ',\n",
       "  '#p…ti :: tioʊz',\n",
       "  '#p…ti :: ioʊz#',\n",
       "  '#p…ti :: #pæt',\n",
       "  '#p…ti :: #pæ…i',\n",
       "  '#p…ti :: #p…ti',\n",
       "  '#p…ti :: #…æti',\n",
       "  '#p…ti :: pæti',\n",
       "  '#p…ti :: pæti',\n",
       "  '#p…ti :: pæt…o',\n",
       "  '#p…ti :: pæ…io',\n",
       "  '#p…ti :: p…tio',\n",
       "  '#p…ti :: ætio',\n",
       "  '#p…ti :: ætio',\n",
       "  '#p…ti :: æti…ʊ',\n",
       "  '#p…ti :: æt…oʊ',\n",
       "  '#p…ti :: æ…ioʊ',\n",
       "  '#p…ti :: tioʊ',\n",
       "  '#p…ti :: tioʊ',\n",
       "  '#p…ti :: tio…z',\n",
       "  '#p…ti :: ti…ʊz',\n",
       "  '#p…ti :: t…oʊz',\n",
       "  '#p…ti :: ioʊz',\n",
       "  '#p…ti :: ioʊz',\n",
       "  '#p…ti :: ioʊ…#',\n",
       "  '#p…ti :: io…z#',\n",
       "  '#p…ti :: i…ʊz#',\n",
       "  '#p…ti :: oʊz#',\n",
       "  '#p…ti :: oʊz#',\n",
       "  '#p…ti :: #p…t',\n",
       "  '#p…ti :: #p…i',\n",
       "  '#p…ti :: #…æt',\n",
       "  '#p…ti :: #…æ…i',\n",
       "  '#p…ti :: #…ti',\n",
       "  '#p…ti :: pæ…i',\n",
       "  '#p…ti :: p…ti',\n",
       "  '#p…ti :: pæ…i',\n",
       "  '#p…ti :: pæ…o',\n",
       "  '#p…ti :: p…ti',\n",
       "  '#p…ti :: p…t…o',\n",
       "  '#p…ti :: p…io',\n",
       "  '#p…ti :: æt…o',\n",
       "  '#p…ti :: æ…io',\n",
       "  '#p…ti :: æt…o',\n",
       "  '#p…ti :: æt…ʊ',\n",
       "  '#p…ti :: æ…io',\n",
       "  '#p…ti :: æ…i…ʊ',\n",
       "  '#p…ti :: æ…oʊ',\n",
       "  '#p…ti :: ti…ʊ',\n",
       "  '#p…ti :: t…oʊ',\n",
       "  '#p…ti :: ti…ʊ',\n",
       "  '#p…ti :: ti…z',\n",
       "  '#p…ti :: t…oʊ',\n",
       "  '#p…ti :: t…o…z',\n",
       "  '#p…ti :: t…ʊz',\n",
       "  '#p…ti :: io…z',\n",
       "  '#p…ti :: i…ʊz',\n",
       "  '#p…ti :: io…z',\n",
       "  '#p…ti :: io…#',\n",
       "  '#p…ti :: i…ʊz',\n",
       "  '#p…ti :: i…ʊ…#',\n",
       "  '#p…ti :: i…z#',\n",
       "  '#p…ti :: oʊ…#',\n",
       "  '#p…ti :: o…z#',\n",
       "  '#p…ti :: oʊ…#',\n",
       "  '#p…ti :: o…z#',\n",
       "  '#…ati :: #pæti',\n",
       "  '#…ati :: pætio',\n",
       "  '#…ati :: ætioʊ',\n",
       "  '#…ati :: tioʊz',\n",
       "  '#…ati :: ioʊz#',\n",
       "  '#…ati :: #pæt',\n",
       "  '#…ati :: #pæ…i',\n",
       "  '#…ati :: #p…ti',\n",
       "  '#…ati :: #…æti',\n",
       "  '#…ati :: pæti',\n",
       "  '#…ati :: pæti',\n",
       "  '#…ati :: pæt…o',\n",
       "  '#…ati :: pæ…io',\n",
       "  '#…ati :: p…tio',\n",
       "  '#…ati :: ætio',\n",
       "  '#…ati :: ætio',\n",
       "  '#…ati :: æti…ʊ',\n",
       "  '#…ati :: æt…oʊ',\n",
       "  '#…ati :: æ…ioʊ',\n",
       "  '#…ati :: tioʊ',\n",
       "  '#…ati :: tioʊ',\n",
       "  '#…ati :: tio…z',\n",
       "  '#…ati :: ti…ʊz',\n",
       "  '#…ati :: t…oʊz',\n",
       "  '#…ati :: ioʊz',\n",
       "  '#…ati :: ioʊz',\n",
       "  '#…ati :: ioʊ…#',\n",
       "  '#…ati :: io…z#',\n",
       "  '#…ati :: i…ʊz#',\n",
       "  '#…ati :: oʊz#',\n",
       "  '#…ati :: oʊz#',\n",
       "  '#…ati :: #p…t',\n",
       "  '#…ati :: #p…i',\n",
       "  '#…ati :: #…æt',\n",
       "  '#…ati :: #…æ…i',\n",
       "  '#…ati :: #…ti',\n",
       "  '#…ati :: pæ…i',\n",
       "  '#…ati :: p…ti',\n",
       "  '#…ati :: pæ…i',\n",
       "  '#…ati :: pæ…o',\n",
       "  '#…ati :: p…ti',\n",
       "  '#…ati :: p…t…o',\n",
       "  '#…ati :: p…io',\n",
       "  '#…ati :: æt…o',\n",
       "  '#…ati :: æ…io',\n",
       "  '#…ati :: æt…o',\n",
       "  '#…ati :: æt…ʊ',\n",
       "  '#…ati :: æ…io',\n",
       "  '#…ati :: æ…i…ʊ',\n",
       "  '#…ati :: æ…oʊ',\n",
       "  '#…ati :: ti…ʊ',\n",
       "  '#…ati :: t…oʊ',\n",
       "  '#…ati :: ti…ʊ',\n",
       "  '#…ati :: ti…z',\n",
       "  '#…ati :: t…oʊ',\n",
       "  '#…ati :: t…o…z',\n",
       "  '#…ati :: t…ʊz',\n",
       "  '#…ati :: io…z',\n",
       "  '#…ati :: i…ʊz',\n",
       "  '#…ati :: io…z',\n",
       "  '#…ati :: io…#',\n",
       "  '#…ati :: i…ʊz',\n",
       "  '#…ati :: i…ʊ…#',\n",
       "  '#…ati :: i…z#',\n",
       "  '#…ati :: oʊ…#',\n",
       "  '#…ati :: o…z#',\n",
       "  '#…ati :: oʊ…#',\n",
       "  '#…ati :: o…z#',\n",
       "  'pati :: #pæti',\n",
       "  'pati :: pætio',\n",
       "  'pati :: ætioʊ',\n",
       "  'pati :: tioʊz',\n",
       "  'pati :: ioʊz#',\n",
       "  'pati :: #pæt',\n",
       "  'pati :: #pæ…i',\n",
       "  'pati :: #p…ti',\n",
       "  'pati :: #…æti',\n",
       "  'pati :: pæti',\n",
       "  'pati :: pæti',\n",
       "  'pati :: pæt…o',\n",
       "  'pati :: pæ…io',\n",
       "  'pati :: p…tio',\n",
       "  'pati :: ætio',\n",
       "  'pati :: ætio',\n",
       "  'pati :: æti…ʊ',\n",
       "  'pati :: æt…oʊ',\n",
       "  'pati :: æ…ioʊ',\n",
       "  'pati :: tioʊ',\n",
       "  'pati :: tioʊ',\n",
       "  'pati :: tio…z',\n",
       "  'pati :: ti…ʊz',\n",
       "  'pati :: t…oʊz',\n",
       "  'pati :: ioʊz',\n",
       "  'pati :: ioʊz',\n",
       "  'pati :: ioʊ…#',\n",
       "  'pati :: io…z#',\n",
       "  'pati :: i…ʊz#',\n",
       "  'pati :: oʊz#',\n",
       "  'pati :: oʊz#',\n",
       "  'pati :: #p…t',\n",
       "  'pati :: #p…i',\n",
       "  'pati :: #…æt',\n",
       "  'pati :: #…æ…i',\n",
       "  'pati :: #…ti',\n",
       "  'pati :: pæ…i',\n",
       "  'pati :: p…ti',\n",
       "  'pati :: pæ…i',\n",
       "  'pati :: pæ…o',\n",
       "  'pati :: p…ti',\n",
       "  'pati :: p…t…o',\n",
       "  'pati :: p…io',\n",
       "  'pati :: æt…o',\n",
       "  'pati :: æ…io',\n",
       "  'pati :: æt…o',\n",
       "  'pati :: æt…ʊ',\n",
       "  'pati :: æ…io',\n",
       "  'pati :: æ…i…ʊ',\n",
       "  'pati :: æ…oʊ',\n",
       "  'pati :: ti…ʊ',\n",
       "  'pati :: t…oʊ',\n",
       "  'pati :: ti…ʊ',\n",
       "  'pati :: ti…z',\n",
       "  'pati :: t…oʊ',\n",
       "  'pati :: t…o…z',\n",
       "  'pati :: t…ʊz',\n",
       "  'pati :: io…z',\n",
       "  'pati :: i…ʊz',\n",
       "  'pati :: io…z',\n",
       "  'pati :: io…#',\n",
       "  'pati :: i…ʊz',\n",
       "  'pati :: i…ʊ…#',\n",
       "  'pati :: i…z#',\n",
       "  'pati :: oʊ…#',\n",
       "  'pati :: o…z#',\n",
       "  'pati :: oʊ…#',\n",
       "  'pati :: o…z#',\n",
       "  'pati :: #pæti',\n",
       "  'pati :: pætio',\n",
       "  'pati :: ætioʊ',\n",
       "  'pati :: tioʊz',\n",
       "  'pati :: ioʊz#',\n",
       "  'pati :: #pæt',\n",
       "  'pati :: #pæ…i',\n",
       "  'pati :: #p…ti',\n",
       "  'pati :: #…æti',\n",
       "  'pati :: pæti',\n",
       "  'pati :: pæti',\n",
       "  'pati :: pæt…o',\n",
       "  'pati :: pæ…io',\n",
       "  'pati :: p…tio',\n",
       "  'pati :: ætio',\n",
       "  'pati :: ætio',\n",
       "  'pati :: æti…ʊ',\n",
       "  'pati :: æt…oʊ',\n",
       "  'pati :: æ…ioʊ',\n",
       "  'pati :: tioʊ',\n",
       "  'pati :: tioʊ',\n",
       "  'pati :: tio…z',\n",
       "  'pati :: ti…ʊz',\n",
       "  'pati :: t…oʊz',\n",
       "  'pati :: ioʊz',\n",
       "  'pati :: ioʊz',\n",
       "  'pati :: ioʊ…#',\n",
       "  'pati :: io…z#',\n",
       "  'pati :: i…ʊz#',\n",
       "  'pati :: oʊz#',\n",
       "  'pati :: oʊz#',\n",
       "  'pati :: #p…t',\n",
       "  'pati :: #p…i',\n",
       "  'pati :: #…æt',\n",
       "  'pati :: #…æ…i',\n",
       "  'pati :: #…ti',\n",
       "  'pati :: pæ…i',\n",
       "  'pati :: p…ti',\n",
       "  'pati :: pæ…i',\n",
       "  'pati :: pæ…o',\n",
       "  'pati :: p…ti',\n",
       "  'pati :: p…t…o',\n",
       "  'pati :: p…io',\n",
       "  'pati :: æt…o',\n",
       "  'pati :: æ…io',\n",
       "  'pati :: æt…o',\n",
       "  'pati :: æt…ʊ',\n",
       "  'pati :: æ…io',\n",
       "  'pati :: æ…i…ʊ',\n",
       "  'pati :: æ…oʊ',\n",
       "  'pati :: ti…ʊ',\n",
       "  'pati :: t…oʊ',\n",
       "  'pati :: ti…ʊ',\n",
       "  'pati :: ti…z',\n",
       "  'pati :: t…oʊ',\n",
       "  'pati :: t…o…z',\n",
       "  'pati :: t…ʊz',\n",
       "  'pati :: io…z',\n",
       "  'pati :: i…ʊz',\n",
       "  'pati :: io…z',\n",
       "  'pati :: io…#',\n",
       "  'pati :: i…ʊz',\n",
       "  'pati :: i…ʊ…#',\n",
       "  'pati :: i…z#',\n",
       "  'pati :: oʊ…#',\n",
       "  'pati :: o…z#',\n",
       "  'pati :: oʊ…#',\n",
       "  'pati :: o…z#',\n",
       "  'pat…o :: #pæti',\n",
       "  'pat…o :: pætio',\n",
       "  'pat…o :: ætioʊ',\n",
       "  'pat…o :: tioʊz',\n",
       "  'pat…o :: ioʊz#',\n",
       "  'pat…o :: #pæt',\n",
       "  'pat…o :: #pæ…i',\n",
       "  'pat…o :: #p…ti',\n",
       "  'pat…o :: #…æti',\n",
       "  'pat…o :: pæti',\n",
       "  'pat…o :: pæti',\n",
       "  'pat…o :: pæt…o',\n",
       "  'pat…o :: pæ…io',\n",
       "  'pat…o :: p…tio',\n",
       "  'pat…o :: ætio',\n",
       "  'pat…o :: ætio',\n",
       "  'pat…o :: æti…ʊ',\n",
       "  'pat…o :: æt…oʊ',\n",
       "  'pat…o :: æ…ioʊ',\n",
       "  'pat…o :: tioʊ',\n",
       "  'pat…o :: tioʊ',\n",
       "  'pat…o :: tio…z',\n",
       "  'pat…o :: ti…ʊz',\n",
       "  'pat…o :: t…oʊz',\n",
       "  'pat…o :: ioʊz',\n",
       "  'pat…o :: ioʊz',\n",
       "  'pat…o :: ioʊ…#',\n",
       "  'pat…o :: io…z#',\n",
       "  'pat…o :: i…ʊz#',\n",
       "  'pat…o :: oʊz#',\n",
       "  'pat…o :: oʊz#',\n",
       "  'pat…o :: #p…t',\n",
       "  'pat…o :: #p…i',\n",
       "  'pat…o :: #…æt',\n",
       "  'pat…o :: #…æ…i',\n",
       "  'pat…o :: #…ti',\n",
       "  'pat…o :: pæ…i',\n",
       "  'pat…o :: p…ti',\n",
       "  'pat…o :: pæ…i',\n",
       "  'pat…o :: pæ…o',\n",
       "  'pat…o :: p…ti',\n",
       "  'pat…o :: p…t…o',\n",
       "  'pat…o :: p…io',\n",
       "  'pat…o :: æt…o',\n",
       "  'pat…o :: æ…io',\n",
       "  'pat…o :: æt…o',\n",
       "  'pat…o :: æt…ʊ',\n",
       "  'pat…o :: æ…io',\n",
       "  'pat…o :: æ…i…ʊ',\n",
       "  'pat…o :: æ…oʊ',\n",
       "  'pat…o :: ti…ʊ',\n",
       "  'pat…o :: t…oʊ',\n",
       "  'pat…o :: ti…ʊ',\n",
       "  'pat…o :: ti…z',\n",
       "  'pat…o :: t…oʊ',\n",
       "  'pat…o :: t…o…z',\n",
       "  'pat…o :: t…ʊz',\n",
       "  'pat…o :: io…z',\n",
       "  'pat…o :: i…ʊz',\n",
       "  'pat…o :: io…z',\n",
       "  'pat…o :: io…#',\n",
       "  'pat…o :: i…ʊz',\n",
       "  'pat…o :: i…ʊ…#',\n",
       "  'pat…o :: i…z#',\n",
       "  'pat…o :: oʊ…#',\n",
       "  'pat…o :: o…z#',\n",
       "  'pat…o :: oʊ…#',\n",
       "  'pat…o :: o…z#',\n",
       "  'pa…io :: #pæti',\n",
       "  'pa…io :: pætio',\n",
       "  'pa…io :: ætioʊ',\n",
       "  'pa…io :: tioʊz',\n",
       "  'pa…io :: ioʊz#',\n",
       "  'pa…io :: #pæt',\n",
       "  'pa…io :: #pæ…i',\n",
       "  'pa…io :: #p…ti',\n",
       "  'pa…io :: #…æti',\n",
       "  'pa…io :: pæti',\n",
       "  'pa…io :: pæti',\n",
       "  'pa…io :: pæt…o',\n",
       "  'pa…io :: pæ…io',\n",
       "  'pa…io :: p…tio',\n",
       "  'pa…io :: ætio',\n",
       "  'pa…io :: ætio',\n",
       "  'pa…io :: æti…ʊ',\n",
       "  'pa…io :: æt…oʊ',\n",
       "  'pa…io :: æ…ioʊ',\n",
       "  'pa…io :: tioʊ',\n",
       "  'pa…io :: tioʊ',\n",
       "  'pa…io :: tio…z',\n",
       "  'pa…io :: ti…ʊz',\n",
       "  'pa…io :: t…oʊz',\n",
       "  'pa…io :: ioʊz',\n",
       "  'pa…io :: ioʊz',\n",
       "  'pa…io :: ioʊ…#',\n",
       "  'pa…io :: io…z#',\n",
       "  'pa…io :: i…ʊz#',\n",
       "  'pa…io :: oʊz#',\n",
       "  'pa…io :: oʊz#',\n",
       "  'pa…io :: #p…t',\n",
       "  'pa…io :: #p…i',\n",
       "  'pa…io :: #…æt',\n",
       "  'pa…io :: #…æ…i',\n",
       "  'pa…io :: #…ti',\n",
       "  'pa…io :: pæ…i',\n",
       "  'pa…io :: p…ti',\n",
       "  'pa…io :: pæ…i',\n",
       "  'pa…io :: pæ…o',\n",
       "  'pa…io :: p…ti',\n",
       "  'pa…io :: p…t…o',\n",
       "  'pa…io :: p…io',\n",
       "  'pa…io :: æt…o',\n",
       "  'pa…io :: æ…io',\n",
       "  'pa…io :: æt…o',\n",
       "  'pa…io :: æt…ʊ',\n",
       "  'pa…io :: æ…io',\n",
       "  'pa…io :: æ…i…ʊ',\n",
       "  'pa…io :: æ…oʊ',\n",
       "  'pa…io :: ti…ʊ',\n",
       "  'pa…io :: t…oʊ',\n",
       "  'pa…io :: ti…ʊ',\n",
       "  'pa…io :: ti…z',\n",
       "  'pa…io :: t…oʊ',\n",
       "  'pa…io :: t…o…z',\n",
       "  'pa…io :: t…ʊz',\n",
       "  'pa…io :: io…z',\n",
       "  'pa…io :: i…ʊz',\n",
       "  'pa…io :: io…z',\n",
       "  'pa…io :: io…#',\n",
       "  'pa…io :: i…ʊz',\n",
       "  'pa…io :: i…ʊ…#',\n",
       "  'pa…io :: i…z#',\n",
       "  'pa…io :: oʊ…#',\n",
       "  'pa…io :: o…z#',\n",
       "  'pa…io :: oʊ…#',\n",
       "  'pa…io :: o…z#',\n",
       "  'p…tio :: #pæti',\n",
       "  'p…tio :: pætio',\n",
       "  'p…tio :: ætioʊ',\n",
       "  'p…tio :: tioʊz',\n",
       "  'p…tio :: ioʊz#',\n",
       "  'p…tio :: #pæt',\n",
       "  'p…tio :: #pæ…i',\n",
       "  'p…tio :: #p…ti',\n",
       "  'p…tio :: #…æti',\n",
       "  'p…tio :: pæti',\n",
       "  'p…tio :: pæti',\n",
       "  'p…tio :: pæt…o',\n",
       "  'p…tio :: pæ…io',\n",
       "  'p…tio :: p…tio',\n",
       "  'p…tio :: ætio',\n",
       "  'p…tio :: ætio',\n",
       "  'p…tio :: æti…ʊ',\n",
       "  'p…tio :: æt…oʊ',\n",
       "  'p…tio :: æ…ioʊ',\n",
       "  'p…tio :: tioʊ',\n",
       "  'p…tio :: tioʊ',\n",
       "  'p…tio :: tio…z',\n",
       "  'p…tio :: ti…ʊz',\n",
       "  'p…tio :: t…oʊz',\n",
       "  'p…tio :: ioʊz',\n",
       "  'p…tio :: ioʊz',\n",
       "  'p…tio :: ioʊ…#',\n",
       "  'p…tio :: io…z#',\n",
       "  'p…tio :: i…ʊz#',\n",
       "  'p…tio :: oʊz#',\n",
       "  'p…tio :: oʊz#',\n",
       "  'p…tio :: #p…t',\n",
       "  'p…tio :: #p…i',\n",
       "  'p…tio :: #…æt',\n",
       "  'p…tio :: #…æ…i',\n",
       "  'p…tio :: #…ti',\n",
       "  'p…tio :: pæ…i',\n",
       "  'p…tio :: p…ti',\n",
       "  'p…tio :: pæ…i',\n",
       "  'p…tio :: pæ…o',\n",
       "  'p…tio :: p…ti',\n",
       "  'p…tio :: p…t…o',\n",
       "  'p…tio :: p…io',\n",
       "  'p…tio :: æt…o',\n",
       "  'p…tio :: æ…io',\n",
       "  'p…tio :: æt…o',\n",
       "  'p…tio :: æt…ʊ',\n",
       "  'p…tio :: æ…io',\n",
       "  'p…tio :: æ…i…ʊ',\n",
       "  'p…tio :: æ…oʊ',\n",
       "  'p…tio :: ti…ʊ',\n",
       "  'p…tio :: t…oʊ',\n",
       "  'p…tio :: ti…ʊ',\n",
       "  'p…tio :: ti…z',\n",
       "  'p…tio :: t…oʊ',\n",
       "  'p…tio :: t…o…z',\n",
       "  'p…tio :: t…ʊz',\n",
       "  'p…tio :: io…z',\n",
       "  'p…tio :: i…ʊz',\n",
       "  'p…tio :: io…z',\n",
       "  'p…tio :: io…#',\n",
       "  'p…tio :: i…ʊz',\n",
       "  'p…tio :: i…ʊ…#',\n",
       "  'p…tio :: i…z#',\n",
       "  'p…tio :: oʊ…#',\n",
       "  'p…tio :: o…z#',\n",
       "  'p…tio :: oʊ…#',\n",
       "  'p…tio :: o…z#',\n",
       "  'atio :: #pæti',\n",
       "  'atio :: pætio',\n",
       "  'atio :: ætioʊ',\n",
       "  'atio :: tioʊz',\n",
       "  'atio :: ioʊz#',\n",
       "  'atio :: #pæt',\n",
       "  'atio :: #pæ…i',\n",
       "  'atio :: #p…ti',\n",
       "  'atio :: #…æti',\n",
       "  'atio :: pæti',\n",
       "  'atio :: pæti',\n",
       "  'atio :: pæt…o',\n",
       "  'atio :: pæ…io',\n",
       "  'atio :: p…tio',\n",
       "  'atio :: ætio',\n",
       "  'atio :: ætio',\n",
       "  'atio :: æti…ʊ',\n",
       "  'atio :: æt…oʊ',\n",
       "  'atio :: æ…ioʊ',\n",
       "  'atio :: tioʊ',\n",
       "  'atio :: tioʊ',\n",
       "  'atio :: tio…z',\n",
       "  'atio :: ti…ʊz',\n",
       "  'atio :: t…oʊz',\n",
       "  'atio :: ioʊz',\n",
       "  'atio :: ioʊz',\n",
       "  'atio :: ioʊ…#',\n",
       "  'atio :: io…z#',\n",
       "  'atio :: i…ʊz#',\n",
       "  'atio :: oʊz#',\n",
       "  'atio :: oʊz#',\n",
       "  'atio :: #p…t',\n",
       "  'atio :: #p…i',\n",
       "  'atio :: #…æt',\n",
       "  'atio :: #…æ…i',\n",
       "  'atio :: #…ti',\n",
       "  'atio :: pæ…i',\n",
       "  'atio :: p…ti',\n",
       "  'atio :: pæ…i',\n",
       "  'atio :: pæ…o',\n",
       "  'atio :: p…ti',\n",
       "  'atio :: p…t…o',\n",
       "  'atio :: p…io',\n",
       "  'atio :: æt…o',\n",
       "  'atio :: æ…io',\n",
       "  'atio :: æt…o',\n",
       "  'atio :: æt…ʊ',\n",
       "  'atio :: æ…io',\n",
       "  'atio :: æ…i…ʊ',\n",
       "  'atio :: æ…oʊ',\n",
       "  'atio :: ti…ʊ',\n",
       "  'atio :: t…oʊ',\n",
       "  'atio :: ti…ʊ',\n",
       "  'atio :: ti…z',\n",
       "  'atio :: t…oʊ',\n",
       "  'atio :: t…o…z',\n",
       "  'atio :: t…ʊz',\n",
       "  'atio :: io…z',\n",
       "  'atio :: i…ʊz',\n",
       "  'atio :: io…z',\n",
       "  'atio :: io…#',\n",
       "  'atio :: i…ʊz',\n",
       "  'atio :: i…ʊ…#',\n",
       "  'atio :: i…z#',\n",
       "  'atio :: oʊ…#',\n",
       "  'atio :: o…z#',\n",
       "  'atio :: oʊ…#',\n",
       "  'atio :: o…z#',\n",
       "  'atio :: #pæti',\n",
       "  'atio :: pætio',\n",
       "  'atio :: ætioʊ',\n",
       "  'atio :: tioʊz',\n",
       "  'atio :: ioʊz#',\n",
       "  'atio :: #pæt',\n",
       "  'atio :: #pæ…i',\n",
       "  'atio :: #p…ti',\n",
       "  'atio :: #…æti',\n",
       "  'atio :: pæti',\n",
       "  'atio :: pæti',\n",
       "  'atio :: pæt…o',\n",
       "  'atio :: pæ…io',\n",
       "  'atio :: p…tio',\n",
       "  'atio :: ætio',\n",
       "  'atio :: ætio',\n",
       "  'atio :: æti…ʊ',\n",
       "  'atio :: æt…oʊ',\n",
       "  'atio :: æ…ioʊ',\n",
       "  'atio :: tioʊ',\n",
       "  'atio :: tioʊ',\n",
       "  'atio :: tio…z',\n",
       "  'atio :: ti…ʊz',\n",
       "  'atio :: t…oʊz',\n",
       "  'atio :: ioʊz',\n",
       "  'atio :: ioʊz',\n",
       "  'atio :: ioʊ…#',\n",
       "  'atio :: io…z#',\n",
       "  'atio :: i…ʊz#',\n",
       "  'atio :: oʊz#',\n",
       "  'atio :: oʊz#',\n",
       "  'atio :: #p…t',\n",
       "  'atio :: #p…i',\n",
       "  'atio :: #…æt',\n",
       "  'atio :: #…æ…i',\n",
       "  'atio :: #…ti',\n",
       "  'atio :: pæ…i',\n",
       "  'atio :: p…ti',\n",
       "  'atio :: pæ…i',\n",
       "  'atio :: pæ…o',\n",
       "  'atio :: p…ti',\n",
       "  'atio :: p…t…o',\n",
       "  'atio :: p…io',\n",
       "  'atio :: æt…o',\n",
       "  'atio :: æ…io',\n",
       "  'atio :: æt…o',\n",
       "  'atio :: æt…ʊ',\n",
       "  'atio :: æ…io',\n",
       "  ...]]"
      ]
     },
     "execution_count": 100,
     "metadata": {},
     "output_type": "execute_result"
    }
   ],
   "source": [
    "## random sampling\n",
    "import random\n",
    "random.sample(paired_terms, 1)"
   ]
  },
  {
   "cell_type": "code",
   "execution_count": 101,
   "id": "71f99e7f-7bd9-4699-a430-75b8992e5d89",
   "metadata": {},
   "outputs": [
    {
     "name": "stdout",
     "output_type": "stream",
     "text": [
      "3181\n"
     ]
    }
   ],
   "source": [
    "## number of sentences\n",
    "print(len(paired_terms))"
   ]
  },
  {
   "cell_type": "code",
   "execution_count": 102,
   "id": "070dc15d-e458-41b7-a042-48ef3439a8aa",
   "metadata": {},
   "outputs": [
    {
     "data": {
      "text/plain": [
       "14238701"
      ]
     },
     "execution_count": 102,
     "metadata": {},
     "output_type": "execute_result"
    }
   ],
   "source": [
    "## total number of units\n",
    "sum(map(len, paired_terms))"
   ]
  },
  {
   "cell_type": "code",
   "execution_count": 103,
   "id": "8830b5a7-77ff-418d-875d-763583142906",
   "metadata": {},
   "outputs": [
    {
     "data": {
      "text/html": [
       "<div>\n",
       "<style scoped>\n",
       "    .dataframe tbody tr th:only-of-type {\n",
       "        vertical-align: middle;\n",
       "    }\n",
       "\n",
       "    .dataframe tbody tr th {\n",
       "        vertical-align: top;\n",
       "    }\n",
       "\n",
       "    .dataframe thead th {\n",
       "        text-align: right;\n",
       "    }\n",
       "</style>\n",
       "<table border=\"1\" class=\"dataframe\">\n",
       "  <thead>\n",
       "    <tr style=\"text-align: right;\">\n",
       "      <th></th>\n",
       "      <th>sp_word</th>\n",
       "      <th>sn_word</th>\n",
       "      <th>paired_term</th>\n",
       "    </tr>\n",
       "  </thead>\n",
       "  <tbody>\n",
       "    <tr>\n",
       "      <th>26523</th>\n",
       "      <td>#daloia#</td>\n",
       "      <td>#dɑɫoʊjə#</td>\n",
       "      <td>[#dalo :: #dɑɫo, #dalo :: dɑɫoʊ, #dalo :: ɑɫoʊ...</td>\n",
       "    </tr>\n",
       "    <tr>\n",
       "      <th>78055</th>\n",
       "      <td>#neuman#</td>\n",
       "      <td>#numən#</td>\n",
       "      <td>[#neum :: #numə, #neum :: numən, #neum :: umən...</td>\n",
       "    </tr>\n",
       "    <tr>\n",
       "      <th>77269</th>\n",
       "      <td>#narly#</td>\n",
       "      <td>#nɑɹɫi#</td>\n",
       "      <td>[#narl :: #nɑɹɫ, #narl :: nɑɹɫi, #narl :: ɑɹɫi...</td>\n",
       "    </tr>\n",
       "    <tr>\n",
       "      <th>40747</th>\n",
       "      <td>#forbes's#</td>\n",
       "      <td>#fɔɹbzɪz#</td>\n",
       "      <td>[#forb :: #fɔɹb, #forb :: fɔɹbz, #forb :: ɔɹbz...</td>\n",
       "    </tr>\n",
       "    <tr>\n",
       "      <th>110595</th>\n",
       "      <td>#sweatshop#</td>\n",
       "      <td>#swɛtʃɑp#</td>\n",
       "      <td>[#swea :: #swɛt, #swea :: swɛtʃ, #swea :: wɛtʃ...</td>\n",
       "    </tr>\n",
       "    <tr>\n",
       "      <th>...</th>\n",
       "      <td>...</td>\n",
       "      <td>...</td>\n",
       "      <td>...</td>\n",
       "    </tr>\n",
       "    <tr>\n",
       "      <th>92443</th>\n",
       "      <td>#receivers#</td>\n",
       "      <td>#ɹəsivɝz#</td>\n",
       "      <td>[#rece :: #ɹəsi, #rece :: ɹəsiv, #rece :: əsiv...</td>\n",
       "    </tr>\n",
       "    <tr>\n",
       "      <th>58650</th>\n",
       "      <td>#kaehler#</td>\n",
       "      <td>#kɛɫɝ#</td>\n",
       "      <td>[#kaeh :: #kɛɫɝ, #kaeh :: kɛɫɝ#, #kaeh :: #kɛɫ...</td>\n",
       "    </tr>\n",
       "    <tr>\n",
       "      <th>7278</th>\n",
       "      <td>#bailiffs#</td>\n",
       "      <td>#beɪɫəfs#</td>\n",
       "      <td>[#bail :: #beɪɫ, #bail :: beɪɫə, #bail :: eɪɫə...</td>\n",
       "    </tr>\n",
       "    <tr>\n",
       "      <th>75784</th>\n",
       "      <td>#mortgage#</td>\n",
       "      <td>#mɔɹɡədʒ#</td>\n",
       "      <td>[#mort :: #mɔɹɡ, #mort :: mɔɹɡə, #mort :: ɔɹɡə...</td>\n",
       "    </tr>\n",
       "    <tr>\n",
       "      <th>19678</th>\n",
       "      <td>#childrens#</td>\n",
       "      <td>#tʃɪɫdɹənz#</td>\n",
       "      <td>[#chil :: #tʃɪɫ, #chil :: tʃɪɫd, #chil :: ʃɪɫd...</td>\n",
       "    </tr>\n",
       "  </tbody>\n",
       "</table>\n",
       "<p>3181 rows × 3 columns</p>\n",
       "</div>"
      ],
      "text/plain": [
       "            sp_word      sn_word  \\\n",
       "26523      #daloia#    #dɑɫoʊjə#   \n",
       "78055      #neuman#      #numən#   \n",
       "77269       #narly#      #nɑɹɫi#   \n",
       "40747    #forbes's#    #fɔɹbzɪz#   \n",
       "110595  #sweatshop#    #swɛtʃɑp#   \n",
       "...             ...          ...   \n",
       "92443   #receivers#    #ɹəsivɝz#   \n",
       "58650     #kaehler#       #kɛɫɝ#   \n",
       "7278     #bailiffs#    #beɪɫəfs#   \n",
       "75784    #mortgage#    #mɔɹɡədʒ#   \n",
       "19678   #childrens#  #tʃɪɫdɹənz#   \n",
       "\n",
       "                                              paired_term  \n",
       "26523   [#dalo :: #dɑɫo, #dalo :: dɑɫoʊ, #dalo :: ɑɫoʊ...  \n",
       "78055   [#neum :: #numə, #neum :: numən, #neum :: umən...  \n",
       "77269   [#narl :: #nɑɹɫ, #narl :: nɑɹɫi, #narl :: ɑɹɫi...  \n",
       "40747   [#forb :: #fɔɹb, #forb :: fɔɹbz, #forb :: ɔɹbz...  \n",
       "110595  [#swea :: #swɛt, #swea :: swɛtʃ, #swea :: wɛtʃ...  \n",
       "...                                                   ...  \n",
       "92443   [#rece :: #ɹəsi, #rece :: ɹəsiv, #rece :: əsiv...  \n",
       "58650   [#kaeh :: #kɛɫɝ, #kaeh :: kɛɫɝ#, #kaeh :: #kɛɫ...  \n",
       "7278    [#bail :: #beɪɫ, #bail :: beɪɫə, #bail :: eɪɫə...  \n",
       "75784   [#mort :: #mɔɹɡ, #mort :: mɔɹɡə, #mort :: ɔɹɡə...  \n",
       "19678   [#chil :: #tʃɪɫ, #chil :: tʃɪɫd, #chil :: ʃɪɫd...  \n",
       "\n",
       "[3181 rows x 3 columns]"
      ]
     },
     "execution_count": 103,
     "metadata": {},
     "output_type": "execute_result"
    }
   ],
   "source": [
    "## add pair_token column\n",
    "#df.loc[:,'paired_token'] = paired_tokens # Causes error\n",
    "df['paired_term'] = paired_terms\n",
    "df[ ['sp_word', 'sn_word', 'paired_term'] ]"
   ]
  },
  {
   "cell_type": "markdown",
   "id": "0f26e250-4848-4002-bf7c-0b475c67e6c8",
   "metadata": {},
   "source": [
    "# LDA/HDP の実行"
   ]
  },
  {
   "cell_type": "code",
   "execution_count": 104,
   "id": "4a8b7c93-6ecb-402c-b1da-df482c7df1e9",
   "metadata": {},
   "outputs": [
    {
     "name": "stdout",
     "output_type": "stream",
     "text": [
      "Dictionary<7947123 unique tokens: ['#dal :: #dɑɫ', '#dal :: #dɑɫo', '#dal :: #dɑ…o', '#dal :: #d…o', '#dal :: #d…ɫ']...>\n"
     ]
    }
   ],
   "source": [
    "## build DTM\n",
    "from gensim.corpora.dictionary import Dictionary\n",
    "\n",
    "pair_bots = df['paired_term']\n",
    "pair_diction = Dictionary(pair_bots)\n",
    "\n",
    "## check\n",
    "print(pair_diction) # print(..) is required for inspection"
   ]
  },
  {
   "cell_type": "code",
   "execution_count": 105,
   "id": "71500974-f4e3-4657-8bc2-616459c3bba9",
   "metadata": {},
   "outputs": [
    {
     "name": "stdout",
     "output_type": "stream",
     "text": [
      "min freq filter: 3\n",
      "abuse filter: 0.1\n",
      "term filtering applied\n",
      "Dictionary<98785 unique tokens: ['#dal :: #d…ɫ', '#d…l :: #dɑɫ', '#d…l :: #d…ɫ', '#d…l :: #…ɑɫ', '#d…l :: ɑ…oʊ']...>\n"
     ]
    }
   ],
   "source": [
    "## filter DTM\n",
    "import copy\n",
    "pair_diction_copy = copy.deepcopy(pair_diction)\n",
    "\n",
    "if apply_term_freq_filtering and apply_term_abuse_filtering:\n",
    "    print(f\"min freq filter: {term_minfreq}\")\n",
    "    print(f\"abuse filter: {term_abuse_threshold}\")\n",
    "    print(f\"term filtering applied\")\n",
    "    pair_diction_copy.filter_extremes(no_below = term_minfreq, no_above = term_abuse_threshold)\n",
    "    pair_diction = pair_diction_copy\n",
    "elif apply_term_freq_filtering:\n",
    "    print(f\"min freq filter: {term_minfreq}\")\n",
    "    print(f\"term filtering applied\")\n",
    "    pair_diction_copy.filter_extremes(no_below = term_minfreq)\n",
    "    pair_diction = pair_diction_copy\n",
    "elif apply_term_abuse_filtering:\n",
    "    print(f\"abuse filter: {term_abuse_threshold}\")\n",
    "    print(f\"term filtering applied\")\n",
    "    pair_diction_copy.filter_extremes(no_above = term_abuse_threshold)\n",
    "    pair_diction = pair_diction_copy\n",
    "else:\n",
    "    print(f\"term filtering not applied\")\n",
    "## check\n",
    "print(pair_diction)"
   ]
  },
  {
   "cell_type": "code",
   "execution_count": 106,
   "id": "529b2347-b684-42e1-84c1-9a89a74508e1",
   "metadata": {},
   "outputs": [
    {
     "name": "stdout",
     "output_type": "stream",
     "text": [
      "Building pair corpus ...\n",
      "Number of documents: 3181\n",
      "6 empty docs are removed out from pair_corpus\n"
     ]
    }
   ],
   "source": [
    "## build corpus\n",
    "print(f\"Building pair corpus ...\")\n",
    "pair_corpus = [ pair_diction.doc2bow(bot) for bot in pair_bots ]\n",
    "print(f\"Number of documents: {len(pair_corpus)}\")\n",
    "\n",
    "## sanitize corpus for HDP model\n",
    "size0 = len(pair_corpus)\n",
    "pair_corpus = [ doc for doc in pair_corpus if len(doc) > 0 ]\n",
    "size1 = len(pair_corpus)\n",
    "print(f\"{size0 - size1} empty docs are removed out from pair_corpus\")\n",
    "check = False\n",
    "if check:\n",
    "    print(random.sample(pair_corpus, 3))"
   ]
  },
  {
   "cell_type": "code",
   "execution_count": 107,
   "id": "0c7d5504-4b80-4cf6-affb-c065fe237933",
   "metadata": {},
   "outputs": [
    {
     "name": "stdout",
     "output_type": "stream",
     "text": [
      "Building an HDP model with n_topics limit: 45\n",
      "<gensim.models.hdpmodel.HdpModel object at 0x2ef46f310>\n"
     ]
    }
   ],
   "source": [
    "## build model: takes quite a while when complex terms are selected\n",
    "import gensim\n",
    "if use_HDP:\n",
    "    print(f\"Building an HDP model with n_topics limit: {max_n_topics}\")\n",
    "    ## the outcome of the following needs to be checked to avoid \"Not all rows sum to 1 error\".\n",
    "    pair_hdp = gensim.models.HdpModel(pair_corpus,\n",
    "                                      id2word = pair_diction, random_state = 1, T = max_n_topics)\n",
    "    print(pair_hdp)\n",
    "    pair_lda = pair_hdp.hdp_to_lda()\n",
    "else:\n",
    "    print(f\"Building an LDA model with n_topics: {n_topics}\")\n",
    "    pair_lda = gensim.models.LdaModel(pair_corpus,\n",
    "                                      id2word = pair_diction, random_state = 1, num_topics = n_topics, alpha = 'auto')\n",
    "    ## check results\n",
    "    print(pair_lda) # print(..)しないと中身が見れない"
   ]
  },
  {
   "cell_type": "code",
   "execution_count": 108,
   "id": "6bf679d4",
   "metadata": {},
   "outputs": [],
   "source": [
    "## Outdated: filter corpus to prevent \"Not all rows sum to 1\" error at pyLDAvis\n",
    "#check = False\n",
    "#s_threshold = 0.96 # putative lower boundary\n",
    "#sums = [ ]\n",
    "#filtered_corpus = [ ]\n",
    "#original_size = len(pair_corpus)\n",
    "#for i, doc in enumerate(pair_corpus):\n",
    "#    if check:\n",
    "#        print(doc)\n",
    "#    s = sum([ enc[-1] for enc in pair_hdp[doc] ])\n",
    "#    sums.append(s)\n",
    "#    if check:\n",
    "#        print(f\"doc id {i}: sum: {s}\")\n",
    "#    if s >= s_threshold:\n",
    "#        filtered_corpus.append(doc)\n",
    "## replace targe corpus\n",
    "#pair_corpus = filtered_corpus\n",
    "#print(f\"{original_size - len(pair_corpus)} docs were discarded due to insufficient sum\")"
   ]
  },
  {
   "cell_type": "markdown",
   "id": "cd30fdd7",
   "metadata": {},
   "source": [
    "# pyLDAvis の実行"
   ]
  },
  {
   "cell_type": "code",
   "execution_count": 109,
   "id": "c0b3b4f1-4b15-44b8-8bcc-76a2f6eb69fe",
   "metadata": {
    "scrolled": true
   },
   "outputs": [
    {
     "data": {
      "text/html": [
       "\n",
       "<link rel=\"stylesheet\" type=\"text/css\" href=\"https://cdn.jsdelivr.net/gh/bmabey/pyLDAvis@3.4.0/pyLDAvis/js/ldavis.v1.0.0.css\">\n",
       "\n",
       "\n",
       "<div id=\"ldavis_el79104123411514403101636650\" style=\"background-color:white;\"></div>\n",
       "<script type=\"text/javascript\">\n",
       "\n",
       "var ldavis_el79104123411514403101636650_data = {\"mdsDat\": {\"x\": [0.10908959745268196, 0.07425833607659896, -0.16509961996756722, -0.04397545099816486, -0.019484572924403868, -0.01540392213632018, 0.007532379840632146, -0.014636267374346782, -0.010895884418922898, -0.06500608761575273, 0.027467908315774427, -0.00403047906745098, 0.006890721559269694, 0.02063872990769916, 0.03617288735298199, -0.014366125151877419, 0.009316388711520813, -0.0044813595210915595, 0.007303551636340894, 0.00032658036270927, -0.004246528564983615, 0.0292299381841964, 0.004348739405801187, 0.019535031386784526, 0.011739116421439353, 0.02293727439274051, 0.018092980514817097, -0.004588968620596296, 0.00020929434775628178, 0.00015819559904873802, -0.02189921466193441, 0.00801335736261661, -0.005179952788098853, -0.010732600666167364, 0.0017322309676461277, -0.003650125723972836, 0.008055918058969316, 0.008259919725311139, 0.004923037770342852, -0.008818556193081766, -0.014629381057791834, 0.0013194955430312007, -0.0028861678277623116, -0.004867473151853495, 0.00132712753542984], \"y\": [-0.01669960630965693, 0.16214851288288687, 0.07392838029196919, -0.10245491799741693, 0.05765211044339434, -0.023638062994453292, -0.008029569989630133, -0.009382569793866855, -0.06709585050676992, 0.02505796850385101, -0.009906192782537359, -0.020262577319887023, -0.01282744610496196, 0.003960075198185601, -0.010755970290843457, 0.002577312590808574, 0.010161148927983943, -0.0019612504264510315, 0.006766070474532016, -0.023107060139376384, -0.018968439945017037, -0.01777919592649818, -0.010361292753241819, 0.015623738312342381, 0.015524712004627175, -0.0011507090793393916, -0.0048536927156350735, -0.024797466627606197, -0.002470073001002747, 0.0072797606831552265, 0.015213638048881602, -0.008846654484915195, -0.0004930752335768603, 0.00971499381640682, -0.003098501845251977, -0.0015958662360732589, 0.00113540452577781, 0.002108900671001821, 0.0007337181837334651, -0.006857408029179566, 0.005715682956214762, 7.400039226529504e-05, -0.005081375197328752, -0.0036955607593736404, 0.0007942575818728619], \"topics\": [1, 2, 3, 4, 5, 6, 7, 8, 9, 10, 11, 12, 13, 14, 15, 16, 17, 18, 19, 20, 21, 22, 23, 24, 25, 26, 27, 28, 29, 30, 31, 32, 33, 34, 35, 36, 37, 38, 39, 40, 41, 42, 43, 44, 45], \"cluster\": [1, 1, 1, 1, 1, 1, 1, 1, 1, 1, 1, 1, 1, 1, 1, 1, 1, 1, 1, 1, 1, 1, 1, 1, 1, 1, 1, 1, 1, 1, 1, 1, 1, 1, 1, 1, 1, 1, 1, 1, 1, 1, 1, 1, 1], \"Freq\": [4.445578444519774, 4.579338689167315, 3.9809303582368507, 4.174250871699833, 3.3215040370157904, 3.27653932083177, 3.2162360833198864, 3.0799372101741516, 3.15515657082917, 2.7323985878648807, 2.723826717242593, 2.7106770814851746, 2.3948294557696053, 2.4906512382230166, 2.5136531521861025, 2.471461489864353, 2.2539883935667775, 2.4854123328310638, 2.2865756012731118, 2.248147107106988, 2.242300402141249, 2.1757827516350745, 2.2904060204138177, 2.1556230201426643, 2.109726680357745, 1.8309172399893923, 1.8339787534487986, 1.9723788493963765, 1.8309555742831312, 1.7067161884056115, 1.628560618009821, 1.6604579251378058, 1.4585058881189592, 1.5051139905493995, 1.4602230977953867, 1.26753797672496, 1.4175629367560074, 1.414799074568589, 1.2994580793878827, 1.2917793322626214, 1.2753234168905778, 0.851335754953063, 1.0124976657795846, 0.897563432592803, 0.8694025870504501]}, \"tinfo\": {\"Term\": [\"m\\u2026n# :: m\\u2026n#\", \"ma\\u2026# :: m\\u2026n#\", \"m\\u2026n# :: m\\u0259\\u2026#\", \"m\\u2026n# :: m\\u0259n#\", \"ma\\u2026# :: m\\u0259n#\", \"ma\\u2026# :: m\\u0259\\u2026#\", \"man# :: m\\u2026n#\", \"man# :: m\\u0259\\u2026#\", \"t\\u2026n# :: t\\u0259n#\", \"i\\u2026e# :: a\\u026a\\u2026#\", \"man# :: m\\u0259n#\", \"t\\u2026n# :: t\\u2026n#\", \"l\\u2026nd :: \\u026b\\u2026nd\", \"t\\u2026n# :: t\\u0259\\u2026#\", \"b\\u2026e# :: b\\u0259\\u2026#\", \"b\\u2026e# :: b\\u0259\\u026b#\", \"to\\u2026# :: t\\u2026n#\", \"b\\u2026e# :: b\\u2026\\u026b#\", \"ton# :: t\\u0259\\u2026#\", \"ble# :: b\\u2026\\u026b#\", \"s\\u2026n# :: s\\u0259\\u2026#\", \"ton# :: t\\u0259n#\", \"s\\u2026n# :: s\\u0259n#\", \"to\\u2026# :: t\\u0259\\u2026#\", \"ton# :: t\\u2026n#\", \"ble# :: b\\u0259\\u026b#\", \"bl\\u2026# :: b\\u2026\\u026b#\", \"to\\u2026# :: t\\u0259n#\", \"bl\\u2026# :: b\\u0259\\u026b#\", \"s\\u2026n# :: s\\u2026n#\", \"nce# :: \\u0259\\u2026s#\", \"nc\\u2026# :: \\u0259ns#\", \"n\\u2026e# :: \\u0259\\u2026s#\", \"nce# :: \\u0259ns#\", \"nce# :: \\u0259n\\u2026#\", \"nc\\u2026# :: \\u0259\\u2026s#\", \"nc\\u2026# :: \\u0259n\\u2026#\", \"n\\u2026e# :: \\u0259ns#\", \"e\\u2026ce :: \\u0259\\u2026s#\", \"en\\u2026e :: \\u0259\\u2026s#\", \"ence :: \\u0259ns#\", \"n\\u2026e# :: \\u0259n\\u2026#\", \"en\\u2026e :: \\u0259ns#\", \"owle :: \\u028a\\u026b\\u2026#\", \"ow\\u2026e :: \\u028a\\u026b\\u2026#\", \"nd\\u2026s :: ndz#\", \"e\\u2026ce :: \\u0259ns#\", \"e\\u2026ce :: \\u0259n\\u2026#\", \"ence :: \\u0259n\\u2026#\", \"d'\\u2026# :: nd\\u2026#\", \"d\\u2026s# :: n\\u2026z#\", \"d\\u2026s# :: \\u0259ndz\", \"fa\\u2026l :: f\\u2026\\u0279\\u026b\", \"n\\u2026's :: \\u0259ndz\", \"nd\\u2026s :: n\\u2026z#\", \"d\\u2026rs :: d\\u025d\\u2026#\", \"bail :: be\\u2026\\u026b\", \"fa\\u2026l :: f\\u0251\\u2026\\u026b\", \"nd's :: n\\u2026z#\", \"b\\u2026il :: be\\u2026\\u026b\", \"b\\u2026il :: b\\u2026\\u026a\\u026b\", \"d\\u2026rs :: d\\u2026z#\", \"en\\u2026e :: \\u0259n\\u2026#\", \"ence :: \\u0259\\u2026s#\", \"d\\u2026rs :: d\\u025dz#\", \"nd\\u2026s :: nd\\u2026#\", \"n\\u2026s# :: n\\u2026z#\", \"d\\u2026s# :: nd\\u2026#\", \"s\\u2026en :: s\\u2026\\u025bn\", \"n\\u2026's :: n\\u2026z#\", \"nd\\u2026# :: nd\\u2026#\", \"e\\u2026s# :: n\\u2026z#\", \"c\\u2026er :: t\\u0283\\u2026#\", \"et\\u2026e :: \\u025d\\u025b\\u2026#\", \"sted :: s\\u2026\\u026ad\", \"cher :: t\\u0283\\u025d#\", \"t\\u2026e# :: \\u025d\\u2026t#\", \"r\\u2026tt :: v\\u025d\\u025bt\", \"sc\\u2026o :: s\\u2026u\\u026b\", \"r\\u2026tt :: \\u025d\\u2026t#\", \"ted# :: st\\u026ad\", \"h\\u2026r# :: t\\u2026\\u025d#\", \"st\\u2026d :: st\\u026ad\", \"ted# :: s\\u2026\\u026ad\", \"he\\u2026# :: t\\u0283\\u025d#\", \"et\\u2026e :: v\\u025d\\u2026t\", \"it\\u2026s :: \\u026ats#\", \"r\\u2026tt :: v\\u2026\\u025bt\", \"ren# :: \\u0279\\u0259n#\", \"sc\\u2026o :: sk\\u2026\\u026b\", \"tt\\u2026# :: \\u025d\\u025bt#\", \"st\\u2026d :: t\\u026a\\u2026#\", \"tte# :: \\u025d\\u2026t#\", \"r\\u2026tt :: v\\u025d\\u2026t\", \"cher :: t\\u2026\\u025d#\", \"tes# :: a\\u026ats\", \"ch\\u2026r :: t\\u0283\\u025d#\", \"her# :: t\\u0283\\u025d#\", \"e\\u2026te :: \\u025d\\u025bt#\", \"tte# :: \\u025d\\u025bt#\", \"rett :: \\u025d\\u2026t#\", \"ette :: \\u025d\\u025bt#\", \"sc\\u2026o :: sku\\u026b\", \"r\\u2026tt :: \\u025d\\u025bt#\", \"r\\u2026n# :: \\u0279\\u0259n#\", \"r\\u2026n# :: \\u0279\\u0259\\u2026#\", \"cher :: t\\u0283\\u2026#\", \"st\\u2026d :: t\\u2026d#\", \"r\\u2026tt :: \\u025d\\u025b\\u2026#\", \"et\\u2026e :: \\u025d\\u2026t#\", \"ette :: \\u025d\\u2026t#\", \"t\\u2026s# :: \\u026a\\u2026s#\", \"t\\u2026s# :: \\u026ats#\", \"t\\u2026s# :: \\u026at\\u2026#\", \"ou\\u2026# :: a\\u028a\\u2026#\", \"it\\u2026# :: \\u026a\\u2026s#\", \"it\\u2026s :: \\u026a\\u2026s#\", \"it\\u2026# :: \\u026ats#\", \"tt\\u2026# :: \\u025d\\u2026t#\", \"it\\u2026# :: \\u026at\\u2026#\", \"ted# :: t\\u026ad#\", \"te\\u2026# :: t\\u026ad#\", \"r\\u2026n# :: \\u0279\\u2026n#\", \"te\\u2026# :: t\\u026a\\u2026#\", \"ted# :: t\\u026a\\u2026#\", \"te\\u2026# :: \\u026at\\u2026#\", \"te\\u2026# :: t\\u2026d#\", \"t\\u2026d# :: t\\u026a\\u2026#\", \"t\\u2026d# :: t\\u2026d#\", \"t\\u2026d# :: t\\u026ad#\", \"ted# :: t\\u2026d#\", \"ch\\u2026r :: t\\u0283\\u2026#\", \"t\\u2026d# :: st\\u2026d\", \"m\\u2026n# :: m\\u0259\\u2026#\", \"ab\\u2026e :: b\\u2026\\u026b#\", \"able :: \\u0259b\\u2026\\u026b\", \"ab\\u2026e :: b\\u0259\\u026b#\", \"bl\\u2026# :: \\u0259b\\u2026\\u026b\", \"bl\\u2026# :: \\u0259\\u2026\\u0259\\u026b\", \"ble# :: \\u0259b\\u0259\\u026b\", \"ble# :: \\u0259b\\u2026\\u026b\", \"b\\u2026e# :: \\u0259\\u2026\\u0259\\u026b\", \"bl\\u2026# :: \\u0259b\\u0259\\u026b\", \"ble# :: \\u0259\\u2026\\u0259\\u026b\", \"b\\u2026e# :: \\u0259b\\u2026\\u026b\", \"able :: b\\u2026\\u026b#\", \"able :: b\\u0259\\u2026#\", \"a\\u2026le :: \\u0259b\\u0259\\u026b\", \"a\\u2026le :: \\u0259\\u2026\\u0259\\u026b\", \"b\\u2026e# :: \\u0259b\\u0259\\u026b\", \"ab\\u2026e :: \\u0259\\u2026\\u0259\\u026b\", \"ab\\u2026e :: \\u0259b\\u0259\\u026b\", \"able :: \\u0259b\\u0259\\u026b\", \"ab\\u2026e :: \\u0259b\\u2026\\u026b\", \"able :: b\\u0259\\u026b#\", \"b\\u2026e# :: b\\u0259\\u026b#\", \"ble# :: b\\u2026\\u026b#\", \"a\\u2026le :: b\\u0259\\u026b#\", \"in\\u2026# :: \\u026ba\\u2026n\", \"b\\u2026e# :: b\\u2026\\u026b#\", \"i\\u2026e# :: \\u026ba\\u2026n\", \"i\\u2026e# :: \\u026b\\u2026\\u026an\", \"able :: \\u0259\\u2026\\u0259\\u026b\", \"ble# :: b\\u0259\\u026b#\", \"b\\u2026e# :: b\\u0259\\u2026#\", \"bl\\u2026# :: b\\u0259\\u026b#\", \"bl\\u2026# :: b\\u2026\\u026b#\", \"ble# :: b\\u0259\\u2026#\", \"bl\\u2026# :: b\\u0259\\u2026#\", \"a\\u2026le :: b\\u2026\\u026b#\", \"ab\\u2026e :: b\\u0259\\u2026#\", \"a\\u2026le :: b\\u0259\\u2026#\", \"i\\u2026e# :: a\\u026a\\u2026#\", \"a\\u2026le :: \\u0259b\\u2026\\u026b\", \"am\\u2026l :: mb\\u2026\\u026b\", \"am\\u2026l :: m\\u2026\\u0259\\u026b\", \"mble :: \\u00e6mb\\u0259\", \"am\\u2026l :: mb\\u0259\\u026b\", \"am\\u2026l :: \\u00e6mb\\u0259\", \"am\\u2026l :: \\u00e6\\u2026b\\u0259\", \"a\\u2026bl :: \\u00e6m\\u2026\\u0259\", \"dge# :: \\u026ad\\u0292#\", \"m\\u2026le :: \\u00e6mb\\u0259\", \"a\\u2026bl :: \\u00e6mb\\u0259\", \"mble :: \\u00e6m\\u2026\\u0259\", \"idge :: \\u026a\\u2026\\u0292#\", \"dg\\u2026# :: \\u0279\\u2026d\\u0292\", \"mb\\u2026e :: \\u00e6m\\u2026\\u0259\", \"am\\u2026l :: \\u00e6m\\u2026\\u0259\", \"i\\u2026ge :: \\u026ad\\u2026#\", \"ambl :: mb\\u2026\\u026b\", \"a\\u2026bl :: mb\\u2026\\u026b\", \"m\\u2026le :: \\u00e6m\\u2026\\u0259\", \"ambl :: \\u00e6\\u2026b\\u0259\", \"r\\u2026dg :: \\u026ad\\u0292#\", \"m\\u2026le :: \\u00e6\\u2026b\\u0259\", \"mb\\u2026e :: \\u00e6mb\\u0259\", \"idge :: \\u026ad\\u0292#\", \"id\\u2026e :: \\u026ad\\u0292#\", \"ambl :: \\u00e6mb\\u0259\", \"i\\u2026ge :: \\u026a\\u2026\\u0292#\", \"mble :: \\u00e6\\u2026b\\u0259\", \"ambl :: mb\\u0259\\u026b\", \"dge# :: \\u026ad\\u2026#\", \"on's :: \\u0259\\u2026z#\", \"l\\u2026rs :: \\u026b\\u025dz#\", \"l\\u2026rs :: \\u026b\\u2026z#\", \"l\\u2026rs :: \\u026b\\u025d\\u2026#\", \"ambl :: \\u00e6m\\u2026\\u0259\", \"a\\u2026bl :: \\u00e6\\u2026b\\u0259\", \"mb\\u2026e :: \\u00e6\\u2026b\\u0259\", \"a\\u2026bl :: m\\u2026\\u0259\\u026b\", \"ambl :: m\\u2026\\u0259\\u026b\", \"mble :: m\\u2026\\u0259\\u026b\", \"n's# :: \\u0259nz#\", \"n's# :: \\u0259\\u2026z#\", \"n'\\u2026# :: \\u0259n\\u2026#\", \"n's# :: \\u0259n\\u2026#\", \"n'\\u2026# :: \\u0259\\u2026z#\", \"s\\u2026on :: s\\u2026\\u0259n\", \"n'\\u2026# :: \\u0259nz#\", \"n\\u2026s# :: \\u0259nz#\", \"n\\u2026s# :: \\u0259\\u2026z#\", \"n\\u2026s# :: \\u0259n\\u2026#\", \"t\\u2026n# :: t\\u0259n#\", \"t\\u2026n# :: t\\u0259\\u2026#\", \"t\\u2026n# :: t\\u2026n#\", \"to\\u2026# :: t\\u2026n#\", \"st\\u2026n :: st\\u0259n\", \"to\\u2026# :: t\\u0259\\u2026#\", \"ton# :: t\\u2026n#\", \"to\\u2026# :: t\\u0259n#\", \"ton# :: t\\u0259n#\", \"ton# :: t\\u0259\\u2026#\", \"st\\u2026n :: st\\u2026n\", \"m\\u2026le :: m\\u2026\\u0259\\u026b\", \"st\\u2026n :: s\\u2026\\u0259n\", \"o\\u2026's :: \\u0259n\\u2026#\", \"ers# :: t\\u2026z#\", \"tr\\u2026m :: t\\u2026\\u0259m\", \"ters :: t\\u025dz#\", \"ters :: t\\u025d\\u2026#\", \"er\\u2026# :: t\\u025d\\u2026#\", \"ters :: t\\u2026z#\", \"er\\u2026# :: t\\u025dz#\", \"ers# :: t\\u025dz#\", \"st\\u2026r :: t\\u025d\\u2026#\", \"t\\u2026re :: t\\u025dd#\", \"s\\u2026ro :: \\u0279\\u2026m#\", \"r\\u2026m# :: s\\u2026\\u0279\\u0259\", \"e\\u2026s# :: t\\u025dz#\", \"tr\\u2026m :: \\u0279\\u2026m#\", \"t\\u2026re :: t\\u025d\\u2026#\", \"re\\u2026# :: t\\u025d\\u2026#\", \"r\\u2026m# :: st\\u2026\\u0259\", \"ered :: t\\u025d\\u2026#\", \"ers# :: t\\u025d\\u2026#\", \"e\\u2026s# :: t\\u2026z#\", \"tr\\u2026m :: t\\u0279\\u2026m\", \"trom :: \\u0279\\u0259m#\", \"r\\u2026m# :: st\\u0279\\u0259\", \"er\\u2026# :: t\\u2026z#\", \"te\\u2026s :: t\\u025dz#\", \"t\\u2026om :: \\u0279\\u2026m#\", \"r\\u2026m# :: t\\u0279\\u2026m\", \"stro :: \\u0279\\u2026m#\", \"l\\u2026ng :: \\u025b\\u026b\\u026a\\u014b\", \"re\\u2026# :: t\\u025dd#\", \"stro :: t\\u0279\\u2026m\", \"te\\u2026s :: t\\u2026z#\", \"e\\u2026s# :: t\\u025d\\u2026#\", \"ster :: t\\u025d\\u2026#\", \"te\\u2026s :: t\\u025d\\u2026#\", \"tr\\u2026m :: t\\u0279\\u0259m\", \"t\\u2026rs :: t\\u025dz#\", \"t\\u2026rs :: t\\u025d\\u2026#\", \"t\\u2026rs :: t\\u2026z#\", \"l\\u2026ng :: \\u025b\\u2026\\u026a\\u014b\", \"r\\u2026m# :: \\u0279\\u2026m#\", \"s\\u2026er :: t\\u025d\\u2026#\", \"r\\u2026m# :: \\u0279\\u0259m#\", \"l\\u2026ng :: \\u026b\\u026a\\u014b#\", \"l\\u2026ng :: \\u026b\\u026a\\u2026#\", \"l\\u2026ng :: \\u026b\\u2026\\u014b#\", \"nski :: sk\\u2026#\", \"n\\u2026ki :: ns\\u2026i\", \"ns\\u2026i :: ns\\u2026i\", \"nski :: n\\u2026ki\", \"ns\\u2026i :: ski#\", \"nski :: ski#\", \"i\\u2026sk :: \\u026a\\u2026sk\", \"nski :: nski\", \"s\\u2026i# :: ns\\u2026i\", \"ski# :: nski\", \"ns\\u2026i :: sk\\u2026#\", \"ns\\u2026i :: nski\", \"ns\\u2026i :: s\\u2026i#\", \"sk\\u2026# :: nski\", \"ski# :: ns\\u2026i\", \"s\\u2026i# :: n\\u2026ki\", \"sk\\u2026# :: ns\\u2026i\", \"n\\u2026ki :: n\\u2026ki\", \"i\\u2026sk :: n\\u2026ki\", \"ski# :: n\\u2026ki\", \"n\\u2026ki :: sk\\u2026#\", \"nski :: s\\u2026i#\", \"ns\\u2026i :: n\\u2026ki\", \"sk\\u2026# :: n\\u2026ki\", \"n\\u2026ki :: nski\", \"in\\u2026k :: nski\", \"n\\u2026ki :: ski#\", \"s\\u2026i# :: nski\", \"e\\u2026se :: s\\u2026\\u026b#\", \"i\\u2026sk :: nski\", \"ns\\u2026i :: \\u026ansk\", \"nski :: ns\\u2026i\", \"ski# :: \\u026a\\u2026sk\", \"n\\u2026ki :: s\\u2026i#\", \"i\\u2026sk :: ski#\", \"ch\\u2026k :: t\\u0283\\u2026k\", \"s\\u2026i# :: s\\u2026i#\", \"ski# :: s\\u2026i#\", \"ski# :: ski#\", \"ski# :: sk\\u2026#\", \"s\\u2026i# :: sk\\u2026#\", \"s\\u2026i# :: ski#\", \"sk\\u2026# :: ski#\", \"sk\\u2026# :: sk\\u2026#\", \"sk\\u2026# :: s\\u2026i#\", \"p\\u2026in :: p\\u2026\\u026an\", \"prin :: p\\u2026\\u026an\", \"p\\u2026in :: p\\u0279\\u2026n\", \"oi\\u2026t :: p\\u0254\\u026an\", \"o\\u2026nt :: p\\u0254\\u026an\", \"po\\u2026n :: p\\u0254\\u026an\", \"t\\u2026n# :: \\u0279\\u2026\\u0259n\", \"pr\\u2026n :: p\\u0279\\u2026n\", \"p\\u2026in :: p\\u0254\\u2026n\", \"o\\u2026nt :: p\\u2026\\u026an\", \"p\\u2026in :: \\u0254\\u026a\\u2026t\", \"poin :: p\\u0254\\u2026n\", \"p\\u2026in :: \\u0254\\u2026nt\", \"oi\\u2026t :: p\\u0254\\u2026n\", \"po\\u2026n :: \\u0254\\u026a\\u2026t\", \"p\\u2026in :: \\u0254\\u026ant\", \"prin :: p\\u0279\\u2026n\", \"oint :: p\\u0254\\u2026n\", \"t\\u2026n# :: \\u0279t\\u0259n\", \"poin :: p\\u0254\\u026an\", \"prin :: p\\u0279\\u026an\", \"ma\\u2026t :: m\\u0251\\u0279t\", \"n\\u2026en :: \\u026a\\u2026s\\u0259\", \"oint :: p\\u2026\\u026an\", \"m\\u2026rt :: m\\u0251\\u2026t\", \"oint :: p\\u0254\\u026an\", \"poin :: p\\u2026\\u026an\", \"m\\u2026rt :: \\u0279t\\u026an\", \"oi\\u2026t :: \\u026an\\u2026#\", \"t\\u2026n# :: \\u0279t\\u2026n\", \"p\\u2026in :: p\\u0279\\u026an\", \"rt\\u2026n :: \\u0279t\\u2026n\", \"ma\\u2026t :: m\\u0251\\u2026t\", \"p\\u2026in :: p\\u0254\\u026an\", \"ma\\u2026t :: m\\u2026\\u0279t\", \"m\\u2026rt :: m\\u2026\\u0279t\", \"mart :: m\\u0251\\u2026t\", \"mart :: m\\u2026\\u0279t\", \"m\\u2026rt :: m\\u0251\\u0279t\", \"mart :: m\\u0251\\u0279t\", \"p\\u2026in :: \\u026an\\u2026#\", \"se\\u2026# :: s\\u0259n#\", \"sen# :: s\\u0259\\u2026#\", \"sen# :: s\\u2026n#\", \"sen# :: s\\u0259n#\", \"t\\u2026n# :: t\\u2026n#\", \"se\\u2026# :: s\\u0259\\u2026#\", \"rt\\u2026n :: t\\u2026n#\", \"se\\u2026# :: s\\u2026n#\", \"t\\u2026n# :: t\\u0259n#\", \"t\\u2026n# :: t\\u0259\\u2026#\", \"n\\u2026en :: s\\u2026n#\", \"i\\u2026e# :: a\\u026a\\u2026#\", \"s\\u2026n# :: s\\u2026n#\", \"s\\u2026n# :: s\\u0259\\u2026#\", \"s\\u2026n# :: s\\u0259n#\", \"r\\u2026in :: \\u0279\\u2026\\u026an\", \"in\\u2026# :: \\u026an\\u2026#\", \"nson :: s\\u2026n#\", \"nson :: n\\u2026\\u0259n\", \"son# :: n\\u2026\\u0259n\", \"so\\u2026# :: ns\\u0259n\", \"so\\u2026# :: n\\u2026\\u0259n\", \"so\\u2026# :: ns\\u2026n\", \"nson :: s\\u0259n#\", \"son# :: ns\\u2026n\", \"n\\u2026on :: ns\\u0259n\", \"n\\u2026on :: s\\u0259\\u2026#\", \"ch\\u2026p :: t\\u2026\\u026ap\", \"chip :: t\\u0283\\u2026p\", \"n\\u2026on :: s\\u2026n#\", \"n\\u2026on :: ns\\u2026n\", \"nson :: ns\\u0259n\", \"nson :: s\\u0259\\u2026#\", \"son# :: n\\u2026\\u0259\\u2026#\", \"nson :: ns\\u2026n\", \"c\\u2026ip :: t\\u2026\\u026ap\", \"ch\\u2026p :: t\\u0283\\u026ap\", \"s\\u2026y# :: \\u026a\\u2026i#\", \"b\\u2026ck :: b\\u00e6\\u2026s\", \"or\\u2026y :: \\u0254\\u0279\\u2026i\", \"son# :: ns\\u0259n\", \"ing# :: \\u026a\\u2026\\u025d\\u026a\", \"b\\u2026ck :: b\\u00e6ks\", \"n\\u2026on :: s\\u0259n#\", \"chip :: t\\u0283\\u026ap\", \"ri\\u2026g :: \\u026a\\u2026\\u026a\\u014b\", \"i\\u2026si :: \\u026a\\u2026i#\", \"il\\u2026e :: \\u0259nz#\", \"s\\u2026n# :: n\\u2026\\u0259n\", \"rd\\u2026# :: \\u0254\\u0279\\u2026i\", \"n\\u2026on :: n\\u2026\\u0259n\", \"ring :: \\u0279\\u026a\\u014b#\", \"i\\u2026g# :: \\u0279\\u026a\\u014b#\", \"ns\\u2026n :: n\\u2026\\u0259n\", \"r\\u2026ng :: \\u0279\\u026a\\u014b#\", \"ns\\u2026n :: s\\u0259\\u2026#\", \"s\\u2026n# :: ns\\u0259n\", \"ns\\u2026n :: s\\u2026n#\", \"ns\\u2026n :: ns\\u2026n\", \"ns\\u2026n :: ns\\u0259n\", \"ns\\u2026n :: s\\u0259n#\", \"s\\u2026n# :: ns\\u2026n\", \"so\\u2026# :: s\\u2026n#\", \"son# :: s\\u0259\\u2026#\", \"s\\u2026n# :: s\\u0259\\u2026#\", \"s\\u2026n# :: s\\u0259n#\", \"s\\u2026n# :: s\\u2026n#\", \"son# :: s\\u2026n#\", \"son# :: s\\u0259n#\", \"so\\u2026# :: s\\u0259n#\", \"so\\u2026# :: s\\u0259\\u2026#\", \"ri\\u2026# :: \\u0279\\u026a\\u2026#\", \"nb\\u2026r :: b\\u2026\\u0261#\", \"nb\\u2026r :: b\\u025d\\u0261#\", \"nber :: b\\u025d\\u0261#\", \"nb\\u2026r :: nb\\u2026\\u0261\", \"b\\u2026rg :: \\u0259nb\\u025d\", \"be\\u2026g :: \\u0259nb\\u025d\", \"er\\u2026# :: n\\u2026\\u025d\\u0261\", \"nber :: \\u0259n\\u2026\\u025d\", \"erg# :: n\\u2026\\u025d\\u0261\", \"b\\u2026rg :: nb\\u2026\\u0261\", \"berg :: nb\\u025d\\u0261\", \"e\\u2026be :: n\\u2026\\u025d\\u0261\", \"er\\u2026# :: nb\\u2026\\u0261\", \"b\\u2026rg :: nb\\u025d\\u0261\", \"nber :: nb\\u2026\\u0261\", \"b\\u2026rg :: n\\u2026\\u025d\\u0261\", \"e\\u2026be :: \\u0259\\u2026b\\u025d\", \"b\\u2026rg :: \\u0259\\u2026b\\u025d\", \"en\\u2026e :: \\u0259\\u2026b\\u025d\", \"be\\u2026g :: \\u0259\\u2026b\\u025d\", \"nber :: \\u0259\\u2026b\\u025d\", \"nb\\u2026r :: n\\u2026\\u025d\\u0261\", \"nber :: b\\u025d\\u2026#\", \"e\\u2026g# :: nb\\u2026\\u0261\", \"n\\u2026er :: \\u0259nb\\u025d\", \"n\\u2026er :: b\\u025d\\u2026#\", \"berg :: \\u0259\\u2026b\\u025d\", \"en\\u2026e :: b\\u2026\\u0261#\", \"n\\u2026l' :: \\u0259\\u026bz#\", \"b\\u2026rg :: nb\\u025d\\u0261#\", \"n\\u2026er :: nb\\u025d\\u0261\", \"nb\\u2026r :: nb\\u025d\\u0261\", \"be\\u2026g :: n\\u2026\\u025d\\u0261\", \"berg :: n\\u2026\\u025d\\u0261\", \"n\\u2026er :: n\\u2026\\u025d\\u0261\", \"nb\\u2026r :: \\u0259n\\u2026\\u025d\", \"be\\u2026g :: nb\\u2026\\u0261\", \"berg :: nb\\u2026\\u0261\", \"b\\u2026rg :: b\\u2026\\u0261#\", \"nber :: nb\\u025d\\u0261\", \"b\\u2026rg :: b\\u025d\\u2026#\", \"b\\u2026rg :: b\\u025d\\u0261#\", \"nb\\u2026r :: b\\u025d\\u2026#\", \"nb\\u2026r :: \\u0259nb\\u025d\", \"l\\u2026s# :: \\u0259\\u026bz#\", \"l\\u2026s# :: \\u0259\\u026b\\u2026#\", \"l\\u2026s# :: \\u0259\\u2026z#\", \"l'\\u2026# :: \\u0259\\u026bz#\", \"l's# :: \\u0259\\u026bz#\", \"l's# :: \\u0259\\u2026z#\", \"l'\\u2026# :: \\u0259\\u2026z#\", \"l'\\u2026# :: \\u0259\\u026b\\u2026#\", \"l's# :: \\u0259\\u026b\\u2026#\", \"er\\u2026# :: b\\u025d\\u2026#\", \"berg :: b\\u025d\\u2026#\", \"be\\u2026g :: b\\u025d\\u2026#\", \"berg :: b\\u2026\\u0261#\", \"or\\u2026# :: f\\u025dd#\", \"o\\u2026d# :: f\\u025dd#\", \"leis :: a\\u026a\\u2026#\", \"w\\u2026lf :: w\\u2026\\u026bf\", \"ford :: f\\u025dd#\", \"le\\u2026s :: f\\u026b\\u2026\\u026a\", \"o\\u2026d# :: f\\u025d\\u2026#\", \"le\\u2026s :: f\\u026ba\\u026a\", \"f\\u2026ei :: f\\u026ba\\u026a\", \"l\\u2026is :: f\\u026b\\u2026\\u026a\", \"ord# :: f\\u025d\\u2026#\", \"le\\u2026s :: f\\u2026a\\u026a\", \"le\\u2026s :: \\u026ba\\u026as\", \"le\\u2026s :: \\u026b\\u2026\\u026as\", \"fo\\u2026d :: f\\u025d\\u2026#\", \"l\\u2026is :: \\u026ba\\u026as\", \"flei :: f\\u026b\\u2026\\u026a\", \"le\\u2026s :: \\u026ba\\u2026s\", \"fl\\u2026i :: f\\u2026a\\u026a\", \"l\\u2026is :: a\\u026a\\u2026#\", \"le\\u2026s :: #\\u2026a\\u026a\", \"leis :: \\u026ba\\u026as\", \"le\\u2026s :: #\\u2026\\u026ba\", \"le\\u2026s :: #\\u2026\\u026ba\\u026a\", \"s\\u2026ra :: s\\u2026\\u0279e\", \"f\\u2026rd :: f\\u025dd#\", \"f\\u2026rd :: f\\u2026d#\", \"i\\u2026g# :: \\u0259\\u026b\\u026a\\u014b\", \"or\\u2026# :: f\\u2026d#\", \"f\\u2026rd :: f\\u025d\\u2026#\", \"ford :: f\\u025d\\u2026#\", \"tr\\u2026p :: t\\u0279\\u2026p\", \"le\\u2026s :: a\\u026a\\u2026#\", \"ord# :: f\\u2026d#\", \"fo\\u2026d :: f\\u2026d#\", \"l\\u2026ng :: \\u026b\\u2026\\u014b#\", \"o\\u2026e# :: o\\u028a\\u2026#\", \"ing# :: \\u026b\\u026a\\u014b#\", \"li\\u2026g :: \\u026b\\u026a\\u014b#\", \"i\\u2026g# :: \\u026b\\u026a\\u2026#\", \"ing# :: \\u026b\\u026a\\u2026#\", \"li\\u2026g :: \\u026b\\u2026\\u014b#\", \"ling :: \\u026b\\u2026\\u014b#\", \"ling :: \\u026b\\u026a\\u014b#\", \"i\\u2026g# :: \\u026b\\u026a\\u014b#\", \"in\\u2026# :: \\u026b\\u026a\\u014b#\", \"in\\u2026# :: \\u026b\\u026a\\u2026#\", \"ing# :: \\u026b\\u2026\\u014b#\", \"i\\u2026g# :: \\u026b\\u2026\\u014b#\", \"l\\u2026ng :: \\u026b\\u026a\\u014b#\", \"li\\u2026g :: \\u026b\\u026a\\u2026#\", \"ling :: \\u026b\\u026a\\u2026#\", \"in\\u2026# :: \\u026b\\u2026\\u014b#\", \"l\\u2026ng :: \\u026b\\u026a\\u2026#\", \"li\\u2026# :: \\u026b\\u026a\\u2026#\", \"land :: \\u0259\\u2026d#\", \"la\\u2026d :: \\u0259nd#\", \"ni\\u2026a :: \\u026ak\\u0259\\u026b\", \"a\\u2026d# :: \\u026b\\u0259\\u2026d\", \"and# :: \\u026b\\u0259\\u2026d\", \"l\\u2026nd :: \\u0259nd#\", \"li\\u2026# :: i\\u2026\\u028a#\", \"an\\u2026# :: \\u026b\\u0259nd\", \"l\\u2026nd :: \\u0259\\u2026d#\", \"an\\u2026# :: \\u026b\\u0259\\u2026d\", \"e\\u2026ry :: b\\u025b\\u2026i\", \"la\\u2026d :: \\u0259\\u2026d#\", \"an\\u2026# :: \\u0259\\u2026d#\", \"a\\u2026d# :: \\u026b\\u0259nd\", \"cal# :: \\u026ak\\u2026\\u026b\", \"land :: \\u0259nd#\", \"n\\u2026ca :: k\\u2026\\u026b#\", \"and# :: \\u026b\\u0259nd\", \"n\\u2026ca :: \\u026ak\\u0259\\u026b\", \"l\\u2026nd :: \\u026b\\u0259\\u2026#\", \"c\\u2026l# :: k\\u0259\\u026b#\", \"be\\u2026r :: b\\u2026\\u0279i\", \"c\\u2026l# :: n\\u026ak\\u0259\", \"l\\u2026nd :: \\u026b\\u0259\\u2026d#\", \"an\\u2026# :: \\u0259nd#\", \"er\\u2026y :: \\u025b\\u0279i#\", \"berr :: b\\u025b\\u0279i\", \"nica :: \\u026ak\\u2026\\u026b\", \"ic\\u2026l :: k\\u0259\\u026b#\", \"a\\u2026d# :: \\u0259nd#\", \"a\\u2026d# :: \\u0259n\\u2026#\", \"and# :: \\u0259\\u2026d#\", \"l\\u2026nd :: \\u0259n\\u2026#\", \"and# :: \\u0259n\\u2026#\", \"land :: \\u0259n\\u2026#\", \"li\\u2026# :: \\u026bi\\u2026\\u028a\", \"l\\u2026nd :: \\u026b\\u0259\\u2026d\", \"la\\u2026d :: \\u0259n\\u2026#\", \"and# :: \\u0259nd#\", \"a\\u2026d# :: \\u0259\\u2026d#\", \"l\\u2026nd :: \\u026b\\u0259nd\", \"l\\u2026o# :: \\u026bi\\u2026\\u028a\", \"li\\u2026# :: \\u026b\\u2026o\\u028a\", \"land :: \\u026b\\u0259nd\", \"la\\u2026d :: \\u026b\\u0259nd\", \"an\\u2026# :: \\u026b\\u2026nd\", \"land :: \\u026b\\u0259\\u2026d\", \"and# :: \\u026b\\u2026nd\", \"l\\u2026nd :: \\u026b\\u2026nd\", \"a\\u2026d# :: \\u026b\\u2026nd\", \"land :: \\u026b\\u2026nd\", \"an\\u2026# :: \\u0259n\\u2026#\", \"n\\u2026to :: \\u026a\\u014bt\\u0259\", \"ng\\u2026o :: \\u014bt\\u2026n\", \"gt\\u2026n :: \\u014bt\\u2026n\", \"ingt :: \\u014bt\\u0259n\", \"i\\u2026gt :: \\u026a\\u2026t\\u0259\", \"gt\\u2026n :: t\\u0259\\u2026#\", \"gton :: t\\u0259n#\", \"gton :: \\u014bt\\u0259n\", \"t\\u2026n# :: \\u014bt\\u2026n\", \"ingt :: \\u014bt\\u2026n\", \"in\\u2026t :: \\u026a\\u014bt\\u0259\", \"ingt :: \\u026a\\u014bt\\u0259\", \"to\\u2026# :: \\u026a\\u014b\\u2026\\u0259\", \"gt\\u2026n :: t\\u0259n#\", \"ton# :: \\u014bt\\u0259n\", \"to\\u2026# :: \\u026a\\u014bt\\u0259\", \"g\\u2026on :: \\u026a\\u2026t\\u0259\", \"in\\u2026t :: t\\u0259n#\", \"in\\u2026t :: \\u026a\\u014b\\u2026\\u0259\", \"ngto :: \\u014bt\\u0259n\", \"ng\\u2026o :: \\u026a\\u014bt\\u0259\", \"ng\\u2026o :: \\u026a\\u014b\\u2026\\u0259\", \"gt\\u2026n :: \\u026a\\u014b\\u2026\\u0259\", \"g\\u2026on :: \\u014bt\\u2026n\", \"gton :: t\\u2026n#\", \"ng\\u2026o :: t\\u0259n#\", \"gt\\u2026n :: \\u014b\\u2026\\u0259n\", \"to\\u2026# :: \\u014bt\\u0259n\", \"to\\u2026# :: \\u014bt\\u2026n\", \"i\\u2026gt :: \\u014b\\u2026\\u0259n\", \"t\\u2026n# :: \\u026a\\u014bt\\u0259\", \"ton# :: \\u026a\\u2026t\\u0259\", \"in\\u2026t :: \\u014b\\u2026\\u0259n\", \"n\\u2026to :: \\u026a\\u014b\\u2026\\u0259\", \"to\\u2026# :: \\u026a\\u2026t\\u0259\", \"i\\u2026gt :: \\u014bt\\u0259n\", \"t\\u2026n# :: \\u026a\\u2026t\\u0259\", \"i\\u2026gt :: t\\u2026n#\", \"n\\u2026to :: \\u014bt\\u0259n\", \"i\\u2026gt :: t\\u0259n#\", \"ngto :: \\u026a\\u2026t\\u0259\", \"ton# :: t\\u0259n#\", \"to\\u2026# :: t\\u0259n#\", \"to\\u2026# :: t\\u0259\\u2026#\", \"ton# :: t\\u0259\\u2026#\", \"ton# :: t\\u2026n#\", \"to\\u2026# :: t\\u2026n#\", \"g\\u2026on :: t\\u0259\\u2026#\", \"t\\u2026n# :: t\\u0259n#\", \"t\\u2026n# :: t\\u0259\\u2026#\", \"t\\u2026n# :: t\\u2026n#\", \"e\\u2026s# :: \\u028a\\u2026z#\", \"ting :: t\\u026a\\u014b#\", \"to\\u2026# :: \\u014b\\u2026\\u0259n\", \"a\\u2026ia :: e\\u2026nj\", \"an\\u2026a :: e\\u026a\\u2026j\", \"o\\u2026in :: a\\u028a\\u2026n\", \"r\\u2026wl :: \\u0254\\u026b\\u2026#\", \"sc\\u2026t :: sk\\u2026t\", \"an\\u2026a :: e\\u2026nj\", \"an\\u2026a :: \\u026a\\u2026j\\u0259\", \"t\\u2026s# :: \\u0279\\u2026s#\", \"an\\u2026a :: \\u026an\\u2026\\u0259\", \"t's# :: \\u0279t\\u2026#\", \"an\\u2026a :: e\\u026anj\", \"an\\u2026a :: \\u026anj\\u0259\", \"ania :: e\\u026a\\u2026j\", \"ni\\u2026# :: \\u026a\\u2026j\\u0259\", \"t\\u2026s# :: \\u0279ts#\", \"t'\\u2026# :: \\u0279ts#\", \"wi\\u2026# :: a\\u028a\\u026an\", \"a\\u2026ia :: \\u026an\\u2026\\u0259\", \"owin :: a\\u028a\\u2026n\", \"ania :: \\u026a\\u2026j\\u0259\", \"ni\\u2026# :: e\\u2026nj\", \"ania :: e\\u026anj\", \"ut\\u2026# :: s\\u2026\\u0259t\", \"owin :: a\\u028a\\u026an\", \"o\\u2026in :: a\\u2026\\u026an\", \"an\\u2026a :: nj\\u2026#\", \"ra\\u2026l :: \\u0254\\u026b\\u2026#\", \"a\\u2026ia :: e\\u026anj\", \"ania :: \\u026anj\\u0259\", \"wi\\u2026# :: a\\u028a\\u2026n\", \"s\\u2026ut :: s\\u2026\\u0259t\", \"r\\u2026's :: \\u0279\\u2026s#\", \"o\\u2026in :: a\\u028a\\u026an\", \"ania :: \\u026an\\u2026\\u0259\", \"a\\u2026ia :: \\u026anj\\u0259\", \"owin :: a\\u2026\\u026an\", \"ow\\u2026n :: a\\u028a\\u026an\", \"ania :: e\\u2026nj\", \"n\\u2026a# :: n\\u2026\\u0259#\", \"ow\\u2026n :: a\\u2026\\u026an\", \"an\\u2026a :: n\\u2026\\u0259#\", \"a\\u2026ia :: \\u026a\\u2026j\\u0259\", \"a\\u2026ia :: e\\u026a\\u2026j\", \"ow\\u2026n :: a\\u028a\\u2026n\", \"f\\u2026ng :: f\\u026a\\u014b#\", \"ba\\u2026h :: b\\u2026k#\", \"ach# :: b\\u2026k#\", \"ach# :: b\\u0251\\u2026#\", \"ac\\u2026# :: b\\u0251\\u2026#\", \"bach :: b\\u2026k#\", \"c\\u2026ma :: m\\u2026n#\", \"e\\u2026ba :: nb\\u0251k\", \"ba\\u2026h :: nb\\u2026k\", \"ach# :: b\\u0251k#\", \"rowa :: \\u0279\\u2026\\u028a\\u0259\", \"ow\\u2026n :: \\u0279o\\u2026\\u0259\", \"b\\u2026ch :: b\\u0251\\u2026#\", \"ac\\u2026# :: b\\u0251k#\", \"ba\\u2026h :: b\\u0251k#\", \"a\\u2026h# :: b\\u0251\\u2026#\", \"b\\u2026ch :: b\\u0251k#\", \"bach :: b\\u0251\\u2026#\", \"xton :: st\\u2026n\", \"ach# :: nb\\u2026k\", \"ac\\u2026# :: b\\u2026k#\", \"a\\u2026h# :: b\\u2026k#\", \"x\\u2026on :: kst\\u0259\", \"n\\u2026ac :: b\\u0251k#\", \"xt\\u2026n :: t\\u0259\\u2026#\", \"fing :: f\\u2026\\u014b#\", \"n\\u2026ac :: n\\u2026\\u0251k\", \"f\\u2026ng :: f\\u2026\\u014b#\", \"o\\u2026an :: \\u0279\\u2026\\u028a\\u0259\", \"tted :: t\\u2026d#\", \"ba\\u2026h :: b\\u0251\\u2026#\", \"a\\u2026h# :: b\\u0251k#\", \"f\\u2026ng :: f\\u026a\\u2026#\", \"ow\\u2026n :: \\u0279\\u2026\\u028a\\u0259\", \"b\\u2026ch :: b\\u2026k#\", \"bach :: b\\u0251k#\", \"t\\u2026d# :: \\u026at\\u2026d\", \"t\\u2026d# :: t\\u2026d#\", \"to\\u2026# :: st\\u0259n\", \"ar\\u2026# :: \\u0251\\u0279\\u2026#\", \"ton# :: t\\u2026n#\", \"ton# :: t\\u0259n#\", \"ton# :: t\\u0259\\u2026#\", \"to\\u2026# :: t\\u0259n#\", \"to\\u2026# :: t\\u0259\\u2026#\", \"to\\u2026# :: t\\u2026n#\", \"te\\u2026# :: t\\u2026d#\", \"t\\u2026n# :: t\\u0259n#\", \"t\\u2026n# :: t\\u2026n#\", \"t\\u2026n# :: t\\u0259\\u2026#\", \"ma\\u2026# :: m\\u0259\\u2026#\", \"ted# :: t\\u2026d#\", \"ma\\u2026# :: m\\u0259n#\", \"ma\\u2026# :: m\\u2026n#\", \"m\\u2026n# :: m\\u0259\\u2026#\", \"m\\u2026n# :: m\\u0259n#\", \"m\\u2026n# :: m\\u2026n#\", \"t\\u2026d# :: t\\u026ad#\", \"t\\u2026d# :: t\\u026a\\u2026#\", \"l\\u2026y# :: \\u00e6\\u026bi#\", \"l\\u2026y# :: m\\u2026\\u026bi\", \"land :: \\u00e6nd#\", \"and# :: \\u00e6n\\u2026#\", \"ll\\u2026y :: \\u00e6\\u026b\\u2026#\", \"orou :: \\u025do\\u028a#\", \"and# :: \\u00e6\\u2026d#\", \"ley# :: \\u00e6\\u026bi#\", \"l\\u2026ey :: \\u00e6\\u026bi#\", \"bo\\u2026o :: \\u025do\\u028a#\", \"l\\u2026y# :: \\u00e6\\u026b\\u2026#\", \"boro :: b\\u025do\\u028a\", \"o\\u2026gh :: \\u025d\\u2026\\u028a#\", \"la\\u2026d :: \\u00e6nd#\", \"rman :: \\u0279\\u2026\\u0259n\", \"an\\u2026# :: \\u00e6\\u2026d#\", \"and# :: \\u00e6nd#\", \"an\\u2026# :: \\u026b\\u00e6\\u2026d\", \"b\\u2026ro :: b\\u025do\\u028a\", \"u\\u2026h# :: \\u025do\\u2026#\", \"lley :: \\u00e6\\u026b\\u2026#\", \"r\\u2026an :: \\u0254\\u0279m\\u0259\", \"l\\u2026y# :: \\u00e6\\u2026i#\", \"lley :: \\u00e6\\u026bi#\", \"b\\u2026ro :: b\\u2026o\\u028a\", \"orou :: \\u025do\\u2026#\", \"and# :: \\u026b\\u00e6\\u2026d\", \"rman :: \\u0279m\\u0259n\", \"a\\u2026d# :: \\u026b\\u00e6nd\", \"u\\u2026h# :: b\\u025do\\u028a\", \"boro :: b\\u2026o\\u028a\", \"l\\u2026ey :: \\u00e6\\u2026i#\", \"and# :: \\u026b\\u00e6nd\", \"d\\u2026r# :: n\\u2026\\u025d#\", \"bo\\u2026o :: b\\u025do\\u028a\", \"al\\u2026e :: \\u00e6\\u026bi#\", \"r\\u2026an :: \\u0279m\\u0259n\", \"le\\u2026# :: \\u00e6\\u026b\\u2026#\", \"d\\u2026r# :: nd\\u025d#\", \"r\\u2026an :: \\u0279m\\u2026n\", \"n\\u2026er :: nd\\u025d#\", \"la\\u2026d :: \\u026b\\u2026nd\", \"b\\u2026ro :: b\\u025d\\u2026\\u028a\", \"cr\\u2026p :: k\\u0279\\u2026p\", \"land :: \\u026b\\u2026nd\", \"l\\u2026nd :: \\u026b\\u2026nd\", \"bo\\u2026o :: b\\u025d\\u2026\\u028a\", \"m\\u2026l# :: m\\u0259\\u2026#\", \"m\\u2026l# :: m\\u0259\\u026b#\", \"land :: \\u00e6\\u2026d#\", \"ma\\u2026# :: m\\u0259\\u2026#\", \"ra\\u2026# :: \\u0279\\u0259\\u2026#\", \"man# :: m\\u2026n#\", \"man# :: m\\u0259\\u2026#\", \"man# :: m\\u0259n#\", \"ma\\u2026# :: m\\u0259n#\", \"ma\\u2026# :: m\\u2026n#\", \"m\\u2026n# :: m\\u0259\\u2026#\", \"m\\u2026n# :: m\\u0259n#\", \"m\\u2026n# :: m\\u2026n#\", \"m\\u2026l# :: m\\u2026\\u026b#\", \"i\\u2026n# :: \\u026a\\u0283\\u2026n\", \"ng\\u2026l :: \\u014b\\u0261\\u2026\\u026b\", \"i\\u2026n# :: \\u026a\\u0283\\u0259n\", \"i\\u2026n# :: e\\u026a\\u0283\\u0259\", \"ti\\u2026n :: \\u026a\\u0283\\u2026n\", \"io\\u2026# :: e\\u026a\\u2026\\u0259\", \"ion# :: \\u026a\\u2026\\u0259n\", \"a\\u2026io :: e\\u2026\\u0283\\u0259\", \"ti\\u2026n :: \\u026a\\u0283\\u0259n\", \"i\\u2026n# :: \\u0283\\u0259\\u2026#\", \"whit :: hw\\u2026\\u026a\", \"io\\u2026# :: \\u026a\\u2026\\u0259n\", \"i\\u2026n# :: e\\u2026\\u0283\\u0259\", \"i\\u2026n# :: \\u0283\\u0259n#\", \"io\\u2026# :: \\u026a\\u0283\\u2026n\", \"ion# :: \\u026a\\u0283\\u2026n\", \"tion :: \\u026a\\u0283\\u0259n\", \"ti\\u2026n :: e\\u026a\\u2026\\u0259\", \"ion# :: e\\u026a\\u0283\\u0259\", \"s\\u2026d# :: \\u0259st#\", \"w\\u2026it :: wa\\u2026t\", \"ti\\u2026n :: e\\u2026\\u0283\\u0259\", \"tion :: e\\u026a\\u0283\\u0259\", \"a\\u2026io :: \\u026a\\u0283\\u2026n\", \"l\\u2026's :: \\u026biz#\", \"i\\u2026n# :: \\u0283\\u2026n#\", \"i\\u2026n# :: e\\u026a\\u2026\\u0259\", \"atio :: \\u0283\\u2026n#\", \"a\\u2026io :: e\\u026a\\u0283\\u0259\", \"atio :: \\u026a\\u0283\\u2026n\", \"tion :: \\u026a\\u0283\\u2026n\", \"ti\\u2026n :: \\u0283\\u2026n#\", \"ion# :: e\\u026a\\u2026\\u0259\", \"ti\\u2026n :: \\u026a\\u2026\\u0259n\", \"ti\\u2026n :: e\\u026a\\u0283\\u0259\", \"ti\\u2026n :: \\u0283\\u0259n#\", \"ti\\u2026n :: \\u0283\\u0259\\u2026#\", \"i\\u2026n# :: \\u026a\\u2026\\u0259n\", \"ion# :: \\u026a\\u0283\\u0259n\", \"io\\u2026# :: \\u026a\\u0283\\u0259n\", \"l\\u2026's :: \\u026bi\\u2026#\", \"tion :: \\u0283\\u0259n#\", \"se\\u2026# :: \\u0259s\\u2026#\", \"t\\u2026on :: \\u026a\\u2026\\u0259n\", \"l\\u2026's :: \\u026b\\u2026z#\", \"io\\u2026# :: \\u0283\\u2026n#\", \"t\\u2026on :: \\u0283\\u0259\\u2026#\", \"io\\u2026# :: \\u0283\\u0259n#\", \"e\\u2026ve :: i\\u2026\\u025dz\", \"e\\u2026ve :: v\\u2026z#\", \"e\\u2026ve :: v\\u025dz#\", \"er\\u2026# :: iv\\u025dz\", \"e\\u2026ve :: iv\\u025dz\", \"vers :: i\\u2026\\u025dz\", \"e\\u2026ve :: iv\\u2026z\", \"e\\u2026s# :: iv\\u025dz\", \"ic\\u2026s :: \\u026a\\u2026s#\", \"ve\\u2026s :: iv\\u025dz\", \"er\\u2026# :: iv\\u2026z\", \"e\\u2026s# :: iv\\u2026z\", \"v\\u2026rs :: i\\u2026\\u025dz\", \"ic\\u2026s :: \\u026aks#\", \"ve\\u2026s :: i\\u2026\\u025dz\", \"e\\u2026ve :: v\\u025d\\u2026#\", \"red# :: nd\\u025dd\", \"e\\u2026er :: v\\u025dz#\", \"ve\\u2026s :: iv\\u2026z\", \"ic\\u2026s :: \\u026ak\\u2026#\", \"ded# :: \\u028ad\\u2026d\", \"vers :: iv\\u025dz\", \"vers :: iv\\u2026z\", \"ic\\u2026# :: \\u026aks#\", \"ers# :: iv\\u025dz\", \"oded :: d\\u2026d#\", \"e\\u2026er :: v\\u025d\\u2026#\", \"e\\u2026ver :: iv\\u2026z\", \"o\\u2026ed :: \\u028ad\\u2026d\", \"e\\u2026er :: iv\\u2026z\", \"e\\u2026s# :: v\\u025dz#\", \"v\\u2026rs :: iv\\u2026z\", \"e\\u2026s# :: v\\u025d\\u2026#\", \"e\\u2026s# :: v\\u2026z#\", \"e\\u2026s# :: i\\u2026\\u025dz\", \"er\\u2026# :: i\\u2026\\u025dz\", \"er\\u2026# :: v\\u025d\\u2026#\", \"ve\\u2026s :: v\\u025d\\u2026#\", \"er\\u2026# :: v\\u2026z#\", \"er\\u2026# :: v\\u025dz#\", \"ve\\u2026s :: v\\u2026z#\", \"ve\\u2026s :: v\\u025dz#\", \"v\\u2026rs :: v\\u025d\\u2026#\", \"ers# :: v\\u2026z#\", \"ers# :: iv\\u2026z\", \"v\\u2026rs :: v\\u025dz#\", \"ws\\u2026i :: s\\u2026i#\", \"w\\u2026ki :: s\\u2026i#\", \"ws\\u2026i :: ski#\", \"nger :: \\u026a\\u014b\\u2026#\", \"w\\u2026ki :: ski#\", \"s\\u2026i# :: fski\", \"s\\u2026i# :: fs\\u2026i\", \"ws\\u2026i :: sk\\u2026#\", \"wski :: fs\\u2026i\", \"nger :: \\u026a\\u2026\\u025d#\", \"ws\\u2026i :: fski\", \"s\\u2026i# :: f\\u2026ki\", \"inge :: \\u026a\\u014b\\u025d#\", \"w\\u2026ki :: sk\\u2026#\", \"ng\\u2026r :: \\u026a\\u014b\\u025d#\", \"inge :: \\u026a\\u014b\\u2026#\", \"wski :: fski\", \"ski# :: fs\\u2026i\", \"w\\u2026ki :: f\\u2026ki\", \"i\\u2026ge :: \\u026a\\u014b\\u025d#\", \"ger# :: \\u026a\\u014b\\u025d#\", \"wski :: sk\\u2026#\", \"wski :: ski#\", \"g\\u2026r# :: \\u026a\\u014b\\u025d#\", \"ng\\u2026r :: \\u026a\\u014b\\u2026#\", \"ski# :: fski\", \"ger# :: \\u026a\\u014b\\u2026#\", \"i\\u2026ge :: \\u026a\\u014b\\u2026#\", \"ling :: \\u026a\\u014b\\u025d#\", \"ws\\u2026i :: fs\\u2026i\", \"inge :: \\u026a\\u2026\\u025d#\", \"wski :: s\\u2026i#\", \"in\\u2026e :: \\u026a\\u2026\\u025d#\", \"n\\u2026er :: \\u026a\\u014b\\u2026#\", \"ger# :: \\u026a\\u2026\\u025d#\", \"ski# :: ski#\", \"ski# :: s\\u2026i#\", \"s\\u2026i# :: s\\u2026i#\", \"s\\u2026i# :: ski#\", \"ski# :: sk\\u2026#\", \"sk\\u2026# :: sk\\u2026#\", \"s\\u2026i# :: sk\\u2026#\", \"sk\\u2026# :: ski#\", \"sk\\u2026# :: s\\u2026i#\", \"in\\u2026e :: \\u026a\\u014b\\u2026#\", \"in\\u2026e :: \\u026a\\u014b\\u025d#\", \"n\\u2026er :: \\u026a\\u2026\\u025d#\", \"ge\\u2026# :: \\u026a\\u014b\\u2026#\", \"le\\u2026# :: \\u025b\\u026b\\u025d#\", \"l\\u2026r# :: \\u025b\\u026b\\u025d#\", \"co\\u2026t :: k\\u2026nt\", \"cont :: k\\u0259nt\", \"ler# :: \\u025b\\u026b\\u025d#\", \"cont :: k\\u2026nt\", \"ler# :: \\u025b\\u026b\\u2026#\", \"u\\u2026st :: st\\u2026#\", \"e\\u2026le :: \\u025b\\u026b\\u025d#\", \"l\\u2026r# :: \\u025b\\u026b\\u2026#\", \"c\\u2026nt :: k\\u0259nt\", \"lt\\u2026s :: \\u026bts#\", \"lt\\u2026s :: \\u028a\\u026b\\u2026s\", \"l\\u2026r# :: \\u025b\\u2026\\u025d#\", \"cont :: k\\u0259\\u2026t\", \"e\\u2026le :: \\u025b\\u2026\\u025d#\", \"co\\u2026t :: k\\u0259nt\", \"e\\u2026ler :: \\u025b\\u026b\\u025d#\", \"uest :: w\\u2026st\", \"c\\u2026nt :: k\\u2026nt\", \"t\\u2026er :: tn\\u2026#\", \"ue\\u2026t :: kw\\u2026s\", \"qu\\u2026s :: w\\u025b\\u2026t\", \"e\\u2026te :: kw\\u2026s\", \"co\\u2026t :: k\\u0259\\u2026t\", \"tn\\u2026r :: t\\u2026\\u025d#\", \"b\\u2026ow :: b\\u0279a\\u028a\", \"qu\\u2026s :: kw\\u025bs\", \"c\\u2026nt :: k\\u0259\\u2026t\", \"ques :: st\\u2026#\", \"qu\\u2026s :: w\\u2026st\", \"ler# :: \\u025b\\u2026\\u025d#\", \"le\\u2026# :: \\u025b\\u2026\\u025d#\", \"ue\\u2026t :: kw\\u025bs\", \"u\\u2026st :: w\\u025b\\u2026t\", \"e\\u2026le :: \\u025b\\u026b\\u2026#\", \"uest :: kw\\u025bs\", \"le\\u2026# :: \\u025b\\u026b\\u2026#\", \"ue\\u2026t :: w\\u025bst\", \"q\\u2026es :: w\\u2026st\", \"ques :: kw\\u2026s\", \"ques :: k\\u2026\\u025bs\", \"st\\u2026# :: st\\u2026#\", \"tr\\u2026l :: t\\u0279\\u2026\\u026b\", \"aum# :: ba\\u2026m\", \"ba\\u2026m :: ba\\u028am\", \"ba\\u2026m :: a\\u028a\\u2026#\", \"a\\u2026m# :: a\\u028a\\u2026#\", \"baum :: a\\u028a\\u2026#\", \"aum# :: a\\u028a\\u2026#\", \"aum# :: a\\u2026m#\", \"au\\u2026# :: b\\u2026\\u028am\", \"s\\u2026on :: sk\\u2026\\u028a\", \"ba\\u2026m :: a\\u2026m#\", \"a\\u2026m# :: a\\u2026m#\", \"a\\u2026m# :: ba\\u2026m\", \"b\\u2026um :: a\\u028am#\", \"au\\u2026# :: ba\\u2026m\", \"s\\u2026ra :: st\\u0279\\u00e6\", \"b\\u2026um :: ba\\u2026m\", \"b\\u2026um :: a\\u028a\\u2026#\", \"ba\\u2026m :: ba\\u2026m\", \"illo :: \\u026bo\\u2026#\", \"ba\\u2026m :: b\\u2026\\u028am\", \"b\\u2026um :: ba\\u028am\", \"mb\\u2026r :: m\\u2026\\u025d\\u0261\", \"aum# :: ba\\u028am\", \"st\\u2026a :: st\\u0279\\u00e6\", \"scon :: s\\u2026o\\u028a\", \"rand :: \\u0279\\u00e6\\u2026d\", \"au\\u2026# :: a\\u2026m#\", \"b\\u2026um :: a\\u2026m#\", \"stra :: s\\u2026\\u0279\\u00e6\", \"au\\u2026# :: ba\\u028am\", \"a\\u2026m# :: b\\u2026\\u028am\", \"st\\u2026a :: s\\u2026\\u0279\\u00e6\", \"baum :: a\\u028am#\", \"stra :: st\\u0279\\u00e6\", \"ba\\u2026m :: a\\u028am#\", \"st\\u2026a :: st\\u2026\\u00e6\", \"l\\u2026nd :: \\u026b\\u00e6nd\", \"land :: \\u026b\\u00e6nd\", \"l\\u2026nd :: \\u026b\\u00e6\\u2026d\", \"la\\u2026d :: \\u026b\\u00e6nd\", \"la\\u2026d :: \\u026b\\u00e6\\u2026d\", \"land :: \\u026b\\u00e6\\u2026d\", \"l\\u2026nd :: \\u026b\\u2026nd\", \"s\\u2026ra :: s\\u2026\\u0279\\u00e6\", \"land :: \\u026b\\u2026nd\", \"la\\u2026d :: \\u026b\\u2026nd\", \"b\\u2026um :: b\\u2026\\u028am\", \"s\\u2026ra :: st\\u2026\\u00e6\", \"au\\u2026# :: a\\u028a\\u2026#\", \"on\\u2026# :: \\u028an\\u2026#\", \"b\\u2026rg :: b\\u025d\\u2026#\", \"b\\u2026rg :: b\\u025d\\u0261#\", \"s\\u2026ve :: s\\u026av#\", \"ions :: \\u0259n\\u2026#\", \"ll\\u2026t :: \\u026b\\u025bt#\", \"s\\u2026ve :: s\\u2026v#\", \"ions :: \\u0259nz#\", \"io\\u2026s :: \\u0259n\\u2026#\", \"io\\u2026s :: \\u0259\\u2026z#\", \"i\\u2026ns :: \\u0259\\u2026z#\", \"ions :: \\u0259\\u2026z#\", \"ki\\u2026s :: \\u026anz#\", \"i\\u2026e# :: s\\u026av#\", \"iv\\u2026# :: s\\u026a\\u2026#\", \"ive# :: s\\u026a\\u2026#\", \"si\\u2026e :: s\\u026av#\", \"i\\u2026ns :: \\u0259n\\u2026#\", \"kins :: \\u026a\\u2026z#\", \"e\\u2026te :: \\u026b\\u025bt#\", \"s\\u2026ve :: s\\u026a\\u2026#\", \"sive :: s\\u026av#\", \"i\\u2026ns :: \\u0259nz#\", \"s\\u2026iv :: s\\u026a\\u2026#\", \"ki\\u2026s :: \\u026an\\u2026#\", \"i\\u2026s# :: k\\u026anz\", \"kins :: \\u026an\\u2026#\", \"ki\\u2026s :: k\\u026anz\", \"tt\\u2026# :: \\u026b\\u025bt#\", \"sive :: s\\u2026v#\", \"in\\u2026# :: k\\u026anz\", \"l\\u2026tt :: \\u026b\\u025bt#\", \"ki\\u2026s :: \\u026a\\u2026z#\", \"io\\u2026s :: \\u0259nz#\", \"ons# :: \\u0259nz#\", \"ons# :: \\u0259\\u2026z#\", \"ll\\u2026t :: \\u026b\\u025b\\u2026#\", \"in\\u2026# :: k\\u026a\\u2026z\", \"ki\\u2026s :: k\\u2026nz\", \"ons# :: \\u0259n\\u2026#\", \"o\\u2026s# :: \\u0259n\\u2026#\", \"on\\u2026# :: \\u0259nz#\", \"on\\u2026# :: \\u0259\\u2026z#\", \"o\\u2026s# :: \\u0259\\u2026z#\", \"o\\u2026s# :: \\u0259nz#\", \"on\\u2026# :: \\u0259n\\u2026#\", \"o\\u2026d# :: w\\u2026d#\", \"ki\\u2026s :: k\\u026a\\u2026z\", \"in\\u2026# :: k\\u2026nz\", \"w\\u2026od :: w\\u028ad#\", \"oo\\u2026# :: w\\u2026d#\", \"wood :: w\\u028a\\u2026#\", \"in\\u2026# :: \\u026anz#\", \"i\\u2026s# :: k\\u2026nz\", \"i\\u2026s# :: \\u026a\\u2026z#\", \"i\\u2026s# :: \\u026an\\u2026#\", \"n\\u2026ss :: \\u0259\\u2026n\\u0259\", \"ess# :: \\u0259\\u2026n\\u0259\", \"d\\u2026n# :: e\\u026a\\u2026\\u0259\", \"nk\\u2026r :: j\\u2026\\u014bk\", \"nt's :: n\\u2026s#\", \"d\\u2026n# :: e\\u2026d\\u0259\", \"t'\\u2026# :: nts#\", \"n\\u2026er :: k\\u025dz#\", \"nk\\u2026r :: \\u014bk\\u2026z\", \"t'\\u2026# :: \\u0259n\\u2026s\", \"d\\u2026n# :: e\\u026ad\\u0259\", \"en\\u2026' :: \\u0259n\\u2026s\", \"e\\u2026en :: n\\u2026s#\", \"en\\u2026' :: nts#\", \"t's# :: nts#\", \"ad\\u2026n :: \\u026ad\\u0259n\", \"nk\\u2026r :: \\u014b\\u2026\\u025dz\", \"t's# :: \\u0259\\u2026ts\", \"rd\\u2026s :: \\u025ddz#\", \"n\\u2026's :: nt\\u2026#\", \"k\\u2026rs :: \\u014b\\u2026\\u025dz\", \"t'\\u2026# :: nt\\u2026#\", \"nt\\u2026s :: nt\\u2026#\", \"r\\u2026's :: \\u025dd\\u2026#\", \"n\\u2026er :: \\u014bk\\u025dz\", \"r\\u2026's :: \\u025ddz#\", \"nt\\u2026s :: n\\u2026s#\", \"e\\u2026t' :: nt\\u2026#\", \"ness :: \\u0259\\u2026n\\u0259\", \"nt's :: \\u0259n\\u2026s\", \"es\\u2026# :: \\u0259\\u2026n\\u0259\", \"ne\\u2026s :: \\u0259\\u2026n\\u0259\", \"n\\u2026's :: \\u0259n\\u2026s\", \"ad\\u2026n :: d\\u0259\\u2026#\", \"e\\u2026s# :: \\u0259\\u2026n\\u0259\", \"d\\u2026n# :: \\u026ad\\u0259n\", \"ers# :: k\\u025d\\u2026#\", \"d\\u2026n# :: \\u026ad\\u2026n\", \"ers# :: k\\u2026z#\", \"rd\\u2026# :: \\u025ddz#\", \"ers# :: k\\u025dz#\", \"d\\u2026n# :: \\u026a\\u2026\\u0259n\", \"ad\\u2026n :: d\\u0259n#\", \"r\\u2026s# :: \\u025ddz#\", \"k\\u2026rs :: k\\u025dz#\", \"n\\u2026ss :: n\\u2026s#\", \"k\\u2026rs :: k\\u025d\\u2026#\", \"n\\u2026ss :: n\\u0259s#\", \"n\\u2026ss :: n\\u0259\\u2026#\", \"ne\\u2026s :: n\\u2026s#\", \"ness :: n\\u2026s#\", \"kers :: k\\u2026z#\", \"k\\u2026rs :: k\\u2026z#\", \"es\\u2026# :: n\\u2026s#\", \"ess# :: n\\u2026s#\", \"e\\u2026s# :: k\\u025d\\u2026#\", \"e\\u2026s# :: n\\u2026s#\", \"ke\\u2026s :: k\\u025d\\u2026#\", \"kers :: k\\u025d\\u2026#\", \"ness :: n\\u0259s#\", \"d\\u2026n# :: d\\u0259n#\", \"d\\u2026n# :: d\\u0259\\u2026#\", \"d\\u2026n# :: d\\u2026n#\", \"ess# :: n\\u0259\\u2026#\", \"e\\u2026s# :: n\\u0259\\u2026#\", \"e\\u2026s# :: k\\u025dz#\", \"nger :: nd\\u2026\\u025d\", \"inte :: \\u026a\\u2026t\\u025d\", \"ng\\u2026r :: n\\u2026\\u0292\\u025d\", \"n\\u2026er :: \\u026and\\u0292\", \"ge\\u2026# :: n\\u2026\\u0292\\u025d\", \"nger :: d\\u0292\\u025d#\", \"inte :: \\u026an\\u2026\\u025d\", \"i\\u2026ge :: n\\u2026\\u0292\\u025d\", \"inge :: d\\u0292\\u2026#\", \"ger# :: n\\u2026\\u0292\\u025d\", \"ng\\u2026r :: nd\\u0292\\u025d\", \"n\\u2026er :: \\u026an\\u2026\\u0292\", \"ge\\u2026# :: nd\\u0292\\u025d\", \"nger :: \\u026and\\u0292\", \"n\\u2026er :: nd\\u2026\\u025d\", \"nger :: n\\u2026\\u0292\\u025d\", \"in\\u2026e :: d\\u0292\\u2026#\", \"ng\\u2026r :: d\\u0292\\u025d#\", \"n\\u2026er :: d\\u0292\\u2026#\", \"inge :: n\\u2026\\u0292\\u025d\", \"nger :: \\u026a\\u2026d\\u0292\", \"n\\u2026er :: n\\u2026\\u0292\\u025d\", \"ng\\u2026r :: nd\\u2026\\u025d\", \"ger# :: nd\\u0292\\u025d\", \"inge :: \\u026an\\u2026\\u0292\", \"nger :: d\\u0292\\u2026#\", \"in\\u2026e :: w\\u2026nt\", \"ng\\u2026r :: d\\u0292\\u2026#\", \"n\\u2026er :: nd\\u0292\\u025d\", \"ger# :: \\u026and\\u0292\", \"i\\u2026te :: \\u026an\\u2026\\u025d\", \"n\\u2026er :: \\u026a\\u2026d\\u0292\", \"ng\\u2026r :: \\u026a\\u2026d\\u0292\", \"nger :: nd\\u0292\\u025d\", \"n\\u2026er :: d\\u2026\\u025d#\", \"ge\\u2026# :: nd\\u2026\\u025d\", \"in\\u2026e :: \\u026an\\u2026\\u025d\", \"n\\u2026er :: \\u026an\\u2026\\u025d\", \"n\\u2026er :: d\\u0292\\u025d#\", \"nger :: \\u026an\\u2026\\u0292\", \"in\\u2026# :: k\\u2026\\u014b#\", \"i\\u2026ge :: nd\\u2026\\u025d\", \"k\\u2026ng :: k\\u026a\\u014b#\", \"ger# :: d\\u2026\\u025d#\", \"ge\\u2026# :: d\\u0292\\u2026#\", \"g\\u2026r# :: d\\u0292\\u025d#\", \"king :: k\\u026a\\u014b#\", \"m\\u2026n# :: \\u026bm\\u2026n\", \"man# :: \\u026bm\\u0259n\", \"el\\u2026a :: m\\u0259\\u2026#\", \"e\\u2026ma :: \\u026bm\\u0259n\", \"el\\u2026a :: m\\u0259n#\", \"elma :: \\u026bm\\u0259n\", \"e\\u2026ma :: \\u026b\\u2026\\u0259n\", \"elma :: \\u026b\\u2026\\u0259n\", \"e\\u2026ma :: \\u026bm\\u2026n\", \"el\\u2026a :: \\u026b\\u2026\\u0259n\", \"el\\u2026a :: m\\u2026n#\", \"elma :: m\\u2026n#\", \"lm\\u2026n :: m\\u0259n#\", \"ma\\u2026# :: \\u026bm\\u2026n\", \"t\\u2026re :: t\\u0283\\u025dz\", \"elma :: m\\u0259n#\", \"m\\u2026n# :: \\u026bm\\u0259n\", \"lman :: \\u026bm\\u0259n\", \"l\\u2026an :: \\u026bm\\u2026n\", \"l\\u2026an :: \\u026bm\\u0259n\", \"el\\u2026a :: \\u026bm\\u2026n\", \"ge\\u2026# :: d\\u0292\\u026az\", \"l\\u2026an :: m\\u0259\\u2026#\", \"l\\u2026an :: m\\u2026n#\", \"ma\\u2026# :: \\u026bm\\u0259n\", \"re\\u2026# :: \\u0283\\u025d\\u2026#\", \"man# :: \\u026b\\u2026\\u0259n\", \"lman :: m\\u0259n#\", \"el\\u2026a :: \\u026bm\\u0259n\", \"lm\\u2026n :: m\\u2026n#\", \"lman :: \\u026bm\\u2026n\", \"lman :: m\\u0259\\u2026#\", \"ma\\u2026# :: \\u026b\\u2026\\u0259n\", \"lm\\u2026n :: \\u026bm\\u2026n\", \"lman :: m\\u2026n#\", \"lm\\u2026n :: \\u026bm\\u0259n\", \"l\\u2026an :: m\\u0259n#\", \"lm\\u2026n :: m\\u0259\\u2026#\", \"lm\\u2026n :: \\u026b\\u2026\\u0259n\", \"m\\u2026n# :: \\u026b\\u2026\\u0259n\", \"l\\u2026an :: \\u026b\\u2026\\u0259n\", \"lman :: \\u026b\\u2026\\u0259n\", \"m\\u2026n# :: m\\u2026n#\", \"man# :: \\u026bm\\u2026n\", \"e\\u2026ma :: m\\u2026n#\", \"m\\u2026n# :: m\\u0259\\u2026#\", \"m\\u2026n# :: m\\u0259n#\", \"e\\u2026ma :: m\\u0259n#\", \"e\\u2026ma :: m\\u0259\\u2026#\", \"ma\\u2026# :: m\\u0259\\u2026#\", \"man# :: m\\u0259n#\", \"man# :: m\\u0259\\u2026#\", \"man# :: m\\u2026n#\", \"ma\\u2026# :: m\\u2026n#\", \"ma\\u2026# :: m\\u0259n#\", \"m\\u2026n# :: \\u025dm\\u2026n\", \"erma :: m\\u0259n#\", \"man# :: \\u025dm\\u0259n\", \"man# :: \\u025d\\u2026\\u0259n\", \"erma :: m\\u2026n#\", \"ma\\u2026# :: \\u025d\\u2026\\u0259n\", \"er\\u2026a :: \\u025dm\\u0259n\", \"er\\u2026a :: m\\u2026n#\", \"m\\u2026n# :: \\u025d\\u2026\\u0259n\", \"ma\\u2026# :: \\u025dm\\u2026n\", \"o\\u2026on :: \\u0251\\u026b\\u2026n\", \"rman :: \\u025dm\\u0259n\", \"man# :: \\u025dm\\u2026n\", \"e\\u2026ma :: \\u025d\\u2026\\u0259n\", \"erman :: m\\u2026n#\", \"er\\u2026a :: m\\u0259n#\", \"erma :: \\u025dm\\u2026n\", \"rman :: \\u025dm\\u2026n\", \"w\\u2026ys :: e\\u2026z#\", \"r\\u2026an :: \\u025dm\\u0259n\", \"ma\\u2026# :: \\u025dm\\u0259n\", \"e\\u2026ma :: \\u025dm\\u2026n\", \"erma :: \\u025dm\\u0259n\", \"olon :: \\u0251\\u2026\\u0259n\", \"m\\u2026n# :: \\u025dm\\u0259n\", \"ays# :: e\\u2026z#\", \"er\\u2026a :: m\\u0259\\u2026#\", \"ays# :: we\\u2026z\", \"ays# :: e\\u026a\\u2026#\", \"r\\u2026an :: \\u025dm\\u2026n\", \"e\\u2026ma :: \\u025dm\\u0259n\", \"er\\u2026a :: \\u025dm\\u2026n\", \"erma :: \\u025d\\u2026\\u0259n\", \"rman :: \\u025d\\u2026\\u0259n\", \"rm\\u2026n :: \\u025d\\u2026\\u0259n\", \"rman :: m\\u0259n#\", \"rm\\u2026n :: m\\u2026n#\", \"rm\\u2026n :: m\\u0259n#\", \"man# :: m\\u2026n#\", \"m\\u2026n# :: m\\u2026n#\", \"ma\\u2026# :: m\\u2026n#\", \"ma\\u2026# :: m\\u0259\\u2026#\", \"man# :: m\\u0259n#\", \"rman :: m\\u2026n#\", \"man# :: m\\u0259\\u2026#\", \"ma\\u2026# :: m\\u0259n#\", \"m\\u2026n# :: m\\u0259n#\", \"m\\u2026n# :: m\\u0259\\u2026#\", \"r\\u2026an :: m\\u0259\\u2026#\", \"rm\\u2026n :: \\u025dm\\u2026n\", \"r\\u2026an :: \\u025d\\u2026\\u0259n\", \"o\\u2026ch :: \\u0279o\\u2026t\", \"o\\u2026al :: \\u028ak\\u2026\\u026b\", \"r\\u2026ac :: o\\u2026t\\u0283\", \"oa\\u2026h :: o\\u2026t\\u0283\", \"st\\u2026f :: t\\u00e6\\u2026#\", \"r\\u2026ac :: o\\u028at\\u0283\", \"r\\u2026ac :: \\u0279o\\u2026t\", \"roac :: o\\u028at\\u0283\", \"roac :: o\\u028a\\u2026\\u0283\", \"st\\u2026f :: st\\u00e6f\", \"o\\u2026ch :: \\u0279o\\u028at\", \"oa\\u2026h :: o\\u028a\\u2026\\u0283\", \"roac :: \\u0279o\\u2026t\", \"oach :: o\\u2026t\\u0283\", \"oa\\u2026h :: \\u0279o\\u028at\", \"roac :: \\u0279\\u2026\\u028at\", \"ro\\u2026c :: \\u0279o\\u028at\", \"oach :: \\u0279\\u2026\\u028at\", \"ro\\u2026c :: o\\u028at\\u0283\", \"irs# :: \\u025b\\u0279\\u2026#\", \"oa\\u2026h :: o\\u028at\\u0283\", \"roac :: o\\u2026t\\u0283\", \"oach :: \\u0279o\\u028at\", \"o\\u2026ch :: o\\u028at\\u0283\", \"ro\\u2026c :: \\u0279o\\u2026t\", \"ro\\u2026c :: \\u0279\\u2026\\u028at\", \"oach :: o\\u028a\\u2026\\u0283\", \"ocal :: \\u028ak\\u2026\\u026b\", \"roac :: \\u0279o\\u028at\", \"li\\u2026h :: \\u026ba\\u026at\", \"o\\u2026ch :: o\\u2026t\\u0283\", \"oa\\u2026h :: \\u0279o\\u2026t\", \"st\\u2026p :: st\\u2026p\", \"oa\\u2026h :: \\u0279\\u2026\\u028at\", \"ro\\u2026c :: o\\u2026t\\u0283\", \"r\\u2026ac :: \\u0279o\\u028at\", \"o\\u2026ch :: \\u0279\\u2026\\u028at\", \"r\\u2026ac :: o\\u028a\\u2026\\u0283\", \"oach :: o\\u028at\\u0283\", \"st\\u2026f :: st\\u2026f\", \"oach :: \\u0279o\\u2026t\", \"st\\u2026f :: s\\u2026\\u00e6f\", \"o\\u2026ch :: o\\u028a\\u2026\\u0283\", \"tn\\u2026s :: tn\\u2026s\", \"tn\\u2026s :: t\\u2026\\u0259s\", \"ess# :: t\\u2026\\u0259s\", \"n\\u2026ss :: tn\\u2026s\", \"tn\\u2026s :: tn\\u0259s\", \"es\\u2026# :: tn\\u2026s\", \"e\\u2026s# :: t\\u2026\\u0259s\", \"ness :: t\\u2026\\u0259s\", \"es\\u2026# :: tn\\u0259s\", \"ness :: tn\\u0259s\", \"ness :: tn\\u2026s\", \"t\\u2026es :: tn\\u2026s\", \"ne\\u2026s :: t\\u2026\\u0259s\", \"tnes :: tn\\u2026s\", \"n\\u2026ss :: tn\\u0259s\", \"t\\u2026es :: t\\u2026\\u0259s\", \"t\\u2026es :: tn\\u0259s\", \"ne\\u2026s :: tn\\u0259s\", \"ield :: i\\u026bdz\", \"es\\u2026# :: t\\u2026\\u0259s\", \"ea\\u2026e :: i\\u2026i#\", \"t\\u2026ss :: t\\u2026\\u0259s\", \"ne\\u2026s :: tn\\u2026s\", \"n\\u2026ss :: t\\u2026\\u0259s\", \"ea\\u2026e :: i\\u026b\\u2026#\", \"ield :: \\u026bdz#\", \"tnes :: t\\u2026\\u0259s\", \"t\\u2026ry :: \\u0279\\u2026z#\", \"ield :: \\u026b\\u2026z#\", \"l\\u2026y# :: \\u026a\\u026b\\u2026#\", \"l\\u2026y# :: \\u026a\\u026bi#\", \"e\\u2026ne :: n\\u0259\\u2026#\", \"e\\u2026ne :: n\\u2026s#\", \"l\\u2026y# :: d\\u2026\\u026bi\", \"e\\u2026ne :: n\\u0259s#\", \"ness :: n\\u0259s#\", \"ess# :: n\\u0259s#\", \"ne\\u2026s :: n\\u0259s#\", \"ness :: n\\u0259\\u2026#\", \"ess# :: n\\u0259\\u2026#\", \"ne\\u2026s :: n\\u2026s#\", \"ne\\u2026s :: n\\u0259\\u2026#\", \"e\\u2026s# :: n\\u0259\\u2026#\", \"e\\u2026s# :: n\\u0259s#\", \"es\\u2026# :: n\\u0259s#\", \"n\\u2026ss :: n\\u0259s#\", \"es\\u2026# :: n\\u2026s#\", \"n\\u2026ss :: n\\u0259\\u2026#\", \"es\\u2026# :: n\\u0259\\u2026#\", \"ess# :: n\\u2026s#\", \"e\\u2026s# :: n\\u2026s#\", \"l\\u2026y# :: \\u026a\\u2026i#\", \"ness :: n\\u2026s#\", \"n\\u2026ss :: n\\u2026s#\", \"b\\u2026rn :: b\\u025d\\u2026#\", \"b\\u2026rn :: b\\u025dn#\", \"b\\u2026rn :: b\\u2026n#\", \"ur\\u2026# :: b\\u025dn#\", \"burn :: b\\u2026n#\", \"burn :: b\\u025d\\u2026#\", \"bu\\u2026n :: b\\u2026n#\", \"t\\u2026a# :: \\u025bt\\u2026#\", \"b\\u2026n# :: b\\u025dn#\", \"etta :: \\u025b\\u2026\\u0259#\", \"nb\\u2026r :: \\u026a\\u2026b\\u025d\", \"b\\u2026rn :: \\u026a\\u2026\\u025dn\", \"bo\\u2026n :: b\\u025dn#\", \"b\\u2026rn# :: b\\u025dn#\", \"tta# :: \\u025b\\u2026\\u0259#\", \"urn# :: b\\u025d\\u2026#\", \"nb\\u2026r :: \\u026an\\u2026\\u025d\", \"b\\u2026rn :: \\u026anb\\u025d\", \"b\\u2026rn :: \\u026a\\u2026b\\u025d\", \"bo\\u2026n :: b\\u025d\\u2026#\", \"e\\u2026ta :: \\u025bt\\u2026#\", \"u\\u2026n# :: b\\u025dn#\", \"e\\u2026ta :: \\u025bt\\u0259#\", \"r\\u2026e# :: b\\u2026n#\", \"etta :: \\u025bt\\u0259#\", \"o\\u2026n# :: b\\u025dn#\", \"et\\u2026a :: \\u025bt\\u0259#\", \"et\\u2026a :: \\u025b\\u2026\\u0259#\", \"bu\\u2026n :: b\\u025dn#\", \"t\\u2026l# :: t\\u025b\\u2026#\", \"nb\\u2026r :: \\u026anb\\u025d\", \"bu\\u2026n :: b\\u025d\\u2026#\", \"ur\\u2026# :: b\\u2026n#\", \"burn :: b\\u025dn#\", \"urn# :: b\\u2026n#\", \"i\\u2026i# :: i\\u2026i#\", \"ur\\u2026# :: b\\u025d\\u2026#\", \"tt\\u2026# :: \\u025bt\\u0259#\", \"bo\\u2026n :: b\\u2026n#\", \"t\\u2026a# :: \\u025b\\u2026\\u0259#\", \"et\\u2026a :: \\u025bt\\u2026#\", \"etta :: \\u025bt\\u2026#\", \"tt\\u2026# :: \\u025b\\u2026\\u0259#\", \"t\\u2026a# :: \\u025bt\\u0259#\", \"in\\u2026# :: in\\u2026#\", \"tt\\u2026# :: \\u025bt\\u2026#\", \"a\\u2026es :: \\u026a\\u2026s#\", \"ates :: \\u026at\\u2026#\", \"te\\u2026# :: e\\u026a\\u2026s\", \"a\\u2026es :: \\u026at\\u2026#\", \"tes# :: e\\u026a\\u2026s\", \"a\\u2026es :: \\u026ats#\", \"ates :: \\u026a\\u2026s#\", \"at\\u2026s :: \\u026ats#\", \"a\\u2026e\\u2026# :: \\u026a\\u2026s#\", \"at\\u2026s :: \\u026at\\u2026#\", \"t\\u2026s# :: e\\u026ats\", \"a\\u2026es :: e\\u2026ts\", \"ates :: e\\u026ats\", \"tes# :: e\\u026ats\", \"t\\u2026s# :: e\\u026a\\u2026s\", \"a\\u2026es :: e\\u026a\\u2026s\", \"ates :: \\u026ats#\", \"te\\u2026# :: e\\u2026ts\", \"at\\u2026s :: e\\u026a\\u2026s\", \"at\\u2026s :: e\\u026ats\", \"tes# :: e\\u2026ts\", \"at\\u2026s :: \\u026a\\u2026s#\", \"ates :: e\\u026a\\u2026s\", \"at\\u2026s :: e\\u2026ts\", \"e\\u2026d# :: i\\u026b\\u2026#\", \"a\\u2026es :: e\\u026ats\", \"ates :: e\\u2026ts\", \"eld# :: i\\u026b\\u2026#\", \"a\\u2026es :: e\\u2026s#\", \"t\\u2026s# :: e\\u2026ts\", \"te\\u2026# :: e\\u026ats\", \"te\\u2026# :: \\u026ats#\", \"tes# :: \\u026a\\u2026s#\", \"tes# :: \\u026at\\u2026#\", \"tes# :: \\u026ats#\", \"te\\u2026# :: \\u026a\\u2026s#\", \"t\\u2026s# :: \\u026at\\u2026#\", \"te\\u2026# :: \\u026at\\u2026#\", \"t\\u2026s# :: \\u026a\\u2026s#\", \"t\\u2026s# :: \\u026ats#\", \"i\\u2026o# :: \\u026ako\\u028a\", \"s\\u2026n# :: \\u025ds\\u2026n\", \"ico# :: \\u026ako\\u028a\", \"r\\u2026on :: s\\u0259n#\", \"ico# :: \\u026a\\u2026o\\u028a\", \"rs\\u2026n :: \\u025ds\\u2026n\", \"s\\u2026n# :: \\u025d\\u2026\\u0259n\", \"ic\\u2026# :: \\u026ak\\u2026\\u028a\", \"rs\\u2026n :: s\\u2026n#\", \"in\\u2026l :: \\u026a\\u014b\\u026bi\", \"wa\\u2026n :: w\\u0254\\u0279n\", \"son# :: \\u025ds\\u2026n\", \"ic\\u2026# :: \\u026a\\u2026o\\u028a\", \"i\\u2026o# :: \\u026ak\\u2026\\u028a\", \"ico# :: ko\\u028a#\", \"son# :: \\u025d\\u2026\\u0259n\", \"in\\u2026l :: \\u026a\\u2026\\u026bi\", \"a\\u2026ic :: \\u026ak\\u2026\\u028a\", \"er\\u2026o :: \\u025ds\\u0259n\", \"er\\u2026o :: s\\u0259n#\", \"rs\\u2026n :: s\\u0259n#\", \"ico# :: k\\u2026\\u028a#\", \"gl\\u2026# :: \\u026a\\u014b\\u2026i\", \"rson :: s\\u0259n#\", \"rs\\u2026n :: \\u025ds\\u0259n\", \"so\\u2026# :: \\u025d\\u2026\\u0259n\", \"i\\u2026gl :: \\u026a\\u2026\\u026bi\", \"i\\u2026gl :: \\u026a\\u014b\\u026bi\", \"erso :: s\\u0259n#\", \"ic\\u2026# :: ko\\u028a#\", \"s\\u2026n# :: \\u025ds\\u0259n\", \"ic\\u2026# :: \\u026ako\\u028a\", \"ic\\u2026# :: ko\\u2026#\", \"son# :: \\u025ds\\u0259n\", \"ic\\u2026# :: k\\u2026\\u028a#\", \"so\\u2026# :: \\u025ds\\u2026n\", \"ico# :: \\u026ak\\u2026\\u028a\", \"i\\u2026o# :: k\\u2026\\u028a#\", \"ico# :: ko\\u2026#\", \"i\\u2026o# :: ko\\u028a#\", \"so\\u2026# :: \\u025ds\\u0259n\", \"i\\u2026o# :: ko\\u2026#\", \"er\\u2026o :: \\u025d\\u2026\\u0259n\", \"r\\u2026on :: \\u025d\\u2026\\u0259n\", \"i\\u2026o# :: \\u026a\\u2026o\\u028a\", \"s\\u2026n# :: s\\u0259n#\", \"so\\u2026# :: s\\u0259n#\", \"s\\u2026n# :: s\\u2026n#\", \"s\\u2026n# :: s\\u0259\\u2026#\", \"son# :: s\\u0259n#\", \"s\\u2026ng :: s\\u2026\\u014b#\", \"s\\u2026ng :: s\\u026a\\u2026#\", \"sing :: s\\u2026\\u014b#\", \"s\\u2026ng :: s\\u026a\\u014b#\", \"c\\u2026mp :: k\\u0259\\u2026p\", \"sing :: s\\u026a\\u2026#\", \"si\\u2026g :: s\\u026a\\u2026#\", \"sing :: s\\u026a\\u014b#\", \"si\\u2026g :: s\\u026a\\u014b#\", \"ut\\u2026r :: j\\u2026t\\u025d\", \"co\\u2026p :: k\\u0259\\u2026p\", \"ing# :: \\u0259n\\u026a\\u014b\", \"ning :: \\u0259n\\u2026\\u014b\", \"uter :: j\\u2026t\\u025d\", \"n\\u2026ng :: \\u0259n\\u026a\\u014b\", \"c\\u2026mp :: k\\u0259mp\", \"comp :: k\\u0259\\u2026p\", \"si\\u2026g :: s\\u2026\\u014b#\", \"om\\u2026o :: k\\u0259\\u2026p\", \"co\\u2026p :: k\\u0259mp\", \"e\\u2026si :: s\\u2026\\u014b#\", \"u\\u2026er :: ju\\u2026\\u025d\", \"comp :: k\\u2026mp\", \"comp :: k\\u0259mp\", \"om\\u2026o :: k\\u2026mp\", \"s\\u2026ng :: \\u025bs\\u2026\\u014b\", \"e\\u2026si :: s\\u026a\\u014b#\", \"mp\\u2026t :: k\\u0259\\u2026p\", \"si\\u2026g# :: s\\u2026\\u014b#\", \"co\\u2026p :: k\\u2026mp\", \"i\\u2026g# :: s\\u026a\\u2026#\", \"ssin :: s\\u026a\\u014b#\", \"in\\u2026# :: s\\u026a\\u2026#\", \"in\\u2026# :: s\\u026a\\u014b#\", \"o\\u2026er :: \\u028a\\u2026\\u025dz\", \"ing# :: s\\u026a\\u2026#\", \"ing# :: s\\u026a\\u014b#\", \"i\\u2026g# :: s\\u026a\\u014b#\", \"c\\u2026mp :: k\\u2026mp\", \"ing# :: s\\u2026\\u014b#\", \"i\\u2026g# :: s\\u2026\\u014b#\", \"in\\u2026# :: s\\u2026\\u014b#\", \"o\\u2026er :: o\\u028a\\u2026\\u025d\", \"s\\u2026ng :: \\u025b\\u2026\\u026a\\u014b\", \"er\\u2026s :: o\\u028a\\u2026\\u025d\", \"ow\\u2026l :: w\\u025b\\u2026#\", \"ow\\u2026l :: \\u0251w\\u025b\\u026b\", \"b\\u2026ri :: b\\u025d\\u2026\\u014b\", \"ow\\u2026l :: \\u0251w\\u2026\\u026b\", \"ow\\u2026l :: \\u0251\\u2026\\u025b\\u026b\", \"b\\u2026ri :: \\u025d\\u026a\\u014b#\", \"ow\\u2026l :: w\\u2026\\u026b#\", \"w\\u2026ll :: \\u0251w\\u2026\\u026b\", \"le\\u2026# :: \\u026a\\u026bd#\", \"we\\u2026l :: \\u0251w\\u025b\\u026b\", \"owel :: w\\u025b\\u026b#\", \"ow\\u2026l :: w\\u025b\\u026b#\", \"we\\u2026l :: \\u0251w\\u2026\\u026b\", \"o\\u2026el :: \\u0251\\u2026\\u025b\\u026b\", \"be\\u2026i :: \\u025d\\u2026\\u014b#\", \"b\\u2026ri :: \\u025d\\u2026\\u014b#\", \"erin :: b\\u025d\\u2026\\u014b\", \"i\\u2026g# :: b\\u025d\\u2026\\u014b\", \"in\\u2026# :: b\\u025d\\u2026\\u014b\", \"el\\u2026# :: \\u0251w\\u2026\\u026b\", \"r\\u2026ng :: b\\u025d\\u026a\\u014b\", \"led# :: \\u026a\\u026b\\u2026#\", \"owel :: w\\u025b\\u2026#\", \"ell# :: \\u0251w\\u2026\\u026b\", \"beri :: \\u025d\\u026a\\u014b#\", \"ing# :: b\\u025d\\u026a\\u014b\", \"il\\u2026d :: \\u026a\\u026b\\u2026#\", \"il\\u2026d :: \\u026a\\u2026d#\", \"o\\u2026el :: \\u0251w\\u025b\\u026b\", \"er\\u2026n :: b\\u025d\\u2026\\u014b\", \"ing# :: b\\u025d\\u2026\\u014b\", \"ring :: b\\u025d\\u026a\\u014b\", \"b\\u2026ri :: b\\u025d\\u026a\\u014b\", \"h\\u2026mp :: h\\u2026mp\", \"well :: \\u0251w\\u025b\\u026b\", \"b\\u2026ri :: \\u025d\\u026a\\u2026#\", \"b\\u2026ri :: b\\u2026\\u026a\\u014b\", \"n\\u2026ei :: \\u0259n\\u2026e\", \"v\\u2026il :: ve\\u026a\\u026b\", \"el\\u2026# :: \\u0251\\u2026\\u025b\\u026b\", \"we\\u2026l :: \\u0251\\u2026\\u025b\\u026b\", \"w\\u2026ll :: \\u0251w\\u025b\\u026b\", \"beri :: b\\u025d\\u2026\\u014b\", \"be\\u2026i :: \\u025d\\u026a\\u014b#\", \"owel :: \\u0251w\\u2026\\u026b\", \"e\\u2026in :: \\u025d\\u026a\\u014b#\", \"we\\u2026l :: w\\u2026\\u026b#\", \"ell# :: w\\u025b\\u026b#\", \"er\\u2026n :: \\u025d\\u2026\\u014b#\", \"ng\\u2026r :: \\u014b\\u0261\\u025d#\", \"g\\u2026r# :: \\u014b\\u0261\\u2026#\", \"r\\u2026ed :: d\\u2026d#\", \"one# :: o\\u028an#\", \"o\\u2026ba :: \\u0251\\u2026b\\u0251\", \"rd\\u2026d :: d\\u2026d#\", \"on\\u2026# :: o\\u2026n#\", \"om\\u2026a :: \\u0251m\\u2026\\u0251\", \"t\\u2026ri :: \\u025d\\u2026\\u014b#\", \"rded :: d\\u2026d#\", \"rded :: d\\u026a\\u2026#\", \"pl\\u2026# :: p\\u026b\\u2026#\", \"o\\u2026ba :: \\u0251mb\\u0251\", \"one# :: o\\u2026n#\", \"o\\u2026ba :: \\u0251m\\u2026\\u0251\", \"in\\u2026# :: t\\u025d\\u2026\\u014b\", \"rd\\u2026d :: d\\u026a\\u2026#\", \"on\\u2026# :: o\\u028an#\", \"t\\u2026ri :: \\u025d\\u026a\\u014b#\", \"omba :: \\u0251m\\u2026\\u0251\", \"g\\u2026r# :: \\u014b\\u2026\\u025d#\", \"omba :: \\u0251\\u2026b\\u0251\", \"g\\u2026r# :: \\u014b\\u0261\\u025d#\", \"o\\u2026e# :: o\\u028an#\", \"i\\u2026g# :: t\\u025d\\u026a\\u014b\", \"rded :: d\\u026ad#\", \"ng\\u2026r :: \\u014b\\u2026\\u025d#\", \"om\\u2026a :: \\u0251\\u2026b\\u0251\", \"o\\u2026e# :: o\\u2026n#\", \"r\\u2026ed :: d\\u026ad#\", \"one# :: o\\u028a\\u2026#\", \"t\\u2026ri :: t\\u2026\\u026a\\u014b\", \"t\\u2026ri :: t\\u025d\\u2026\\u014b\", \"t\\u2026ri :: \\u025d\\u026a\\u2026#\", \"t\\u2026ri :: t\\u025d\\u026a\\u014b\", \"on\\u2026# :: o\\u028a\\u2026#\", \"o\\u2026e# :: o\\u028a\\u2026#\", \"ri\\u2026g :: \\u025d\\u026a\\u014b#\", \"ing# :: \\u025d\\u026a\\u2026#\", \"r\\u2026ng :: \\u025d\\u2026\\u014b#\", \"ring :: \\u025d\\u026a\\u014b#\", \"ing# :: t\\u2026\\u014b#\", \"ring :: \\u025d\\u2026\\u014b#\", \"i\\u2026g# :: \\u025d\\u2026\\u014b#\", \"i\\u2026g# :: \\u025d\\u026a\\u2026#\", \"i\\u2026g# :: t\\u2026\\u014b#\", \"in\\u2026# :: t\\u2026\\u014b#\", \"ri\\u2026g :: \\u025d\\u2026\\u014b#\", \"in\\u2026# :: \\u025d\\u026a\\u2026#\", \"ing# :: \\u025d\\u026a\\u014b#\", \"r\\u2026ng :: \\u025d\\u026a\\u014b#\", \"in\\u2026# :: \\u025d\\u026a\\u014b#\", \"i\\u2026g# :: \\u025d\\u026a\\u014b#\", \"in\\u2026# :: \\u025d\\u2026\\u014b#\", \"ri\\u2026g :: \\u025d\\u026a\\u2026#\", \"r\\u2026ng :: \\u025d\\u026a\\u2026#\", \"ring :: \\u025d\\u026a\\u2026#\", \"ing# :: \\u025d\\u2026\\u014b#\", \"ou\\u2026# :: \\u025d\\u2026s#\", \"a\\u2026ni :: n\\u026a\\u2026#\", \"r\\u2026us :: \\u025d\\u0259\\u2026#\", \"r\\u2026us :: \\u025d\\u2026s#\", \"n\\u2026in :: n\\u026a\\u2026#\", \"am\\u2026# :: k\\u00e6\\u2026p\", \"o\\u2026s# :: \\u025d\\u2026s#\", \"a\\u2026p# :: \\u00e6m\\u2026#\", \"ba\\u2026t :: \\u0251\\u0279\\u2026\\u0259\", \"ac\\u2026i :: t\\u0283\\u2026#\", \"a\\u2026p# :: k\\u00e6mp\", \"rous :: \\u025d\\u0259s#\", \"u\\u2026e# :: t\\u2026\\u025d#\", \"ous# :: \\u025d\\u2026s#\", \"r\\u2026l# :: \\u025b\\u0279\\u2026\\u026b\", \"amp# :: \\u00e6mp#\", \"ure# :: t\\u0283\\u025d#\", \"nn\\u2026n :: n\\u026a\\u2026#\", \"am\\u2026# :: \\u00e6\\u2026p#\", \"o\\u2026s# :: \\u025d\\u0259s#\", \"am\\u2026# :: k\\u00e6mp\", \"u\\u2026e# :: t\\u0283\\u2026#\", \"amp# :: k\\u00e6mp\", \"amp# :: \\u00e6m\\u2026#\", \"bart :: \\u0251\\u0279\\u2026\\u0259\", \"ou\\u2026# :: \\u025d\\u0259s#\", \"nn\\u2026n :: n\\u2026\\u014b#\", \"ou\\u2026# :: \\u025d\\u0259\\u2026#\", \"amp# :: k\\u2026mp\", \"ro\\u2026s :: \\u025d\\u2026s#\", \"r\\u2026l# :: \\u025b\\u0279\\u0259\\u026b\", \"r\\u2026l# :: \\u025b\\u2026\\u0259\\u026b\", \"nnin :: n\\u026a\\u014b#\", \"ture :: t\\u2026\\u025d#\", \"n\\u2026ng :: n\\u026a\\u2026#\", \"n\\u2026ng :: n\\u2026\\u014b#\", \"n\\u2026ng :: n\\u026a\\u014b#\", \"a\\u2026p# :: \\u00e6mp#\", \"r\\u2026l# :: \\u0279\\u0259\\u026b#\", \"nnin :: n\\u026a\\u2026#\", \"amp# :: \\u00e6\\u2026p#\", \"r\\u2026l# :: \\u0279\\u0259\\u2026#\", \"r\\u2026l# :: \\u0279\\u2026\\u026b#\", \"o\\u2026er :: o\\u028a\\u2026\\u025d\", \"r\\u2026s# :: \\u025d\\u2026s#\", \"am\\u2026# :: \\u00e6m\\u2026#\", \"ov\\u2026r :: o\\u028a\\u2026\\u025d\", \"amp# :: k\\u00e6\\u2026p\", \"n\\u2026ng :: \\u00e6n\\u2026\\u014b\", \"in\\u2026# :: o\\u028a\\u2026\\u026a\", \"o\\u2026in :: o\\u028a\\u2026\\u026a\", \"ni\\u2026g :: n\\u026a\\u2026#\", \"o\\u2026er :: o\\u028av\\u025d\", \"i\\u2026g# :: \\u00e6\\u2026\\u026a\\u014b\", \"in\\u2026# :: n\\u026a\\u2026#\", \"ing# :: \\u028a\\u2026\\u026a\\u014b\", \"i\\u2026g# :: o\\u028a\\u2026\\u026a\", \"o\\u2026er :: o\\u2026v\\u025d\", \"r\\u2026an :: i\\u2026n#\", \"ri\\u2026n :: i\\u2026n#\", \"rian :: i\\u0259n#\", \"ri\\u2026n :: i\\u0259\\u2026#\", \"i\\u2026n# :: \\u0279\\u2026\\u0259n\", \"ri\\u2026n :: \\u0279\\u2026\\u0259n\", \"i\\u2026n# :: \\u0279i\\u0259n\", \"rian :: i\\u0259\\u2026#\", \"i\\u2026n# :: \\u0279i\\u2026n\", \"ri\\u2026n :: \\u0279i\\u0259n\", \"rian :: \\u0279\\u2026\\u0259n\", \"ia\\u2026# :: \\u0279i\\u0259n\", \"ri\\u2026n :: i\\u0259n#\", \"r\\u2026n# :: i\\u0259\\u2026#\", \"g\\u2026or :: \\u0292\\u0254\\u2026d\", \"r\\u2026an :: \\u0279i\\u2026n\", \"i\\u2026n# :: i\\u2026n#\", \"ri\\u2026n :: \\u0279\\u2026n#\", \"rian :: \\u0279i\\u0259n\", \"ian# :: \\u0279\\u2026\\u0259n\", \"ia\\u2026# :: \\u0279i\\u2026n\", \"i\\u2026n# :: i\\u0259n#\", \"rian :: i\\u2026n#\", \"i\\u2026n# :: i\\u0259\\u2026#\", \"ia\\u2026# :: \\u0279\\u2026\\u0259n\", \"ri\\u2026n :: \\u0279i\\u2026n\", \"r\\u2026an :: i\\u0259n#\", \"ian# :: \\u0279i\\u2026n\", \"r\\u2026an :: \\u0279i\\u0259n\", \"ian# :: \\u0279i\\u0259n\", \"ia\\u2026# :: i\\u2026n#\", \"ian# :: i\\u0259\\u2026#\", \"ia\\u2026# :: i\\u0259n#\", \"ian# :: i\\u2026n#\", \"ian# :: i\\u0259n#\", \"ia\\u2026# :: i\\u0259\\u2026#\", \"r\\u2026an :: i\\u0259\\u2026#\", \"r\\u2026an :: \\u0279\\u2026\\u0259n\", \"dl\\u2026# :: d\\u2026i#\", \"st\\u2026e :: st\\u2026\\u025b\", \"dl\\u2026# :: d\\u026bi#\", \"d\\u2026y# :: d\\u026bi#\", \"ze\\u2026# :: a\\u026azd\", \"ized :: \\u026azd#\", \"ized :: \\u026az\\u2026#\", \"ized :: a\\u2026zd\", \"zed# :: a\\u026azd\", \"z\\u2026d# :: a\\u026azd\", \"z\\u2026d# :: a\\u2026zd\", \"iz\\u2026d :: a\\u026azd\", \"zed# :: a\\u2026zd\", \"i\\u2026ed :: a\\u2026zd\", \"iz\\u2026d :: \\u026azd#\", \"iz\\u2026d :: a\\u026a\\u2026d\", \"zed# :: a\\u026a\\u2026d\", \"ized :: a\\u026a\\u2026d\", \"ze\\u2026# :: a\\u2026zd\", \"iz\\u2026d :: a\\u2026zd\", \"ze\\u2026# :: a\\u026a\\u2026d\", \"i\\u2026ed :: \\u026azd#\", \"zed# :: \\u026az\\u2026#\", \"ized :: a\\u026azd\", \"i\\u2026ed :: a\\u026azd\", \"i\\u2026ed :: \\u026az\\u2026#\", \"ze\\u2026# :: \\u026azd#\", \"zed# :: \\u026azd#\", \"ized :: \\u026a\\u2026d#\", \"z\\u2026d# :: a\\u026a\\u2026d\", \"iz\\u2026d :: \\u026az\\u2026#\", \"iz\\u2026d :: \\u026a\\u2026d#\", \"ized :: \\u0259\\u2026a\\u026a\", \"iz\\u2026d :: \\u0259\\u2026a\\u026a\", \"zed# :: \\u026a\\u2026d#\", \"z\\u2026d# :: \\u026az\\u2026#\", \"z\\u2026d# :: \\u026a\\u2026d#\", \"z\\u2026d# :: \\u026azd#\", \"ze\\u2026# :: \\u026az\\u2026#\", \"ze\\u2026# :: \\u026a\\u2026d#\", \"i\\u2026ed :: a\\u026a\\u2026d\", \"i\\u2026ed :: \\u026a\\u2026d#\", \"ts\\u2026n :: s\\u0259n#\", \"sand :: s\\u00e6nd\", \"in\\u2026e :: v\\u025b\\u2026t\", \"or\\u2026# :: \\u0254\\u0279i#\", \"i\\u2026ve :: \\u026an\\u2026\\u025b\", \"n\\u2026or :: \\u025bn\\u2026\\u025d\", \"r\\u2026ne :: \\u0279\\u2026n\\u026a\", \"in\\u2026e :: \\u026a\\u2026v\\u025b\", \"inve :: v\\u025b\\u2026t\", \"i\\u2026ve :: v\\u025b\\u2026t\", \"or\\u2026# :: \\u0254\\u2026i#\", \"#\\u2026nd :: s\\u2026nd\", \"or\\u2026# :: t\\u0254\\u2026i\", \"s\\u2026nd :: #s\\u2026nd\", \"s\\u2026n# :: ts\\u2026n\", \"ts\\u2026n :: s\\u2026n#\", \"inve :: \\u026an\\u2026\\u025b\", \"or\\u2026# :: t\\u0254\\u0279i\", \"sa\\u2026d :: s\\u00e6nd\", \"s\\u2026nd :: s\\u2026nd\", \"i\\u2026ve :: \\u026a\\u2026v\\u025b\", \"sa\\u2026d :: s\\u2026nd\", \"s\\u2026n# :: ts\\u0259n\", \"or\\u2026# :: \\u0259\\u2026\\u0254\\u0279\", \"r\\u2026ne :: \\u0279\\u026a\\u2026\\u026a\", \"inve :: \\u026a\\u2026v\\u025b\", \"r\\u2026ne :: \\u0279\\u026an\\u026a\", \"in\\u2026e :: \\u026anv\\u025b\", \"inve :: \\u026anv\\u025b\", \"i\\u2026ve :: \\u026anv\\u025b\", \"da\\u2026# :: s\\u2026nd\", \"ve\\u2026t :: \\u026anv\\u025b\", \"en\\u2026o :: \\u025bn\\u2026\\u025d\", \"or\\u2026# :: \\u0254\\u0279\\u2026#\", \"sa\\u2026d :: s\\u00e6\\u2026d\", \"or\\u2026# :: t\\u2026\\u0279i\", \"ve\\u2026t :: \\u026a\\u2026v\\u025b\", \"ts\\u2026n :: ts\\u0259n\", \"pl\\u2026s :: p\\u026b\\u2026s\", \"ve\\u2026t :: v\\u025b\\u2026t\", \"ne\\u2026# :: n\\u2026k#\", \"s\\u2026nd :: s\\u00e6\\u2026d\", \"ts\\u2026n :: s\\u0259\\u2026#\", \"s\\u2026n# :: s\\u2026n#\", \"en\\u2026y :: tw\\u2026n\", \"enty :: tw\\u025bn\", \"s\\u2026an :: m\\u2026n#\", \"we\\u2026t :: t\\u2026\\u025bn\", \"p\\u2026rt :: p\\u0251\\u2026t\", \"w\\u2026nt :: tw\\u025bn\", \"ma\\u2026# :: s\\u2026\\u0259n\", \"s\\u2026an :: m\\u0259\\u2026#\", \"tw\\u2026n :: t\\u2026\\u025bn\", \"w\\u2026nt :: tw\\u2026n\", \"s\\u2026an :: sm\\u0259n\", \"p\\u2026rt :: p\\u0251\\u0279t\", \"rt\\u2026# :: p\\u0251\\u0279t\", \"e\\u2026ty :: t\\u2026\\u025bn\", \"went :: tw\\u025bn\", \"tw\\u2026n :: tw\\u2026n\", \"m\\u2026n# :: sm\\u2026n\", \"t\\u2026en :: tw\\u2026n\", \"pa\\u2026t :: p\\u0251\\u0279t\", \"twen :: tw\\u2026n\", \"twen :: tw\\u025bn\", \"o\\u2026l# :: \\u0279\\u2026\\u028a\\u026b\", \"part :: p\\u0251\\u2026t\", \"went :: tw\\u2026n\", \"pa\\u2026t :: p\\u2026\\u0279t\", \"e\\u2026ty :: \\u025dti#\", \"e\\u2026ty :: tw\\u025bn\", \"pp\\u2026# :: p\\u0259\\u2026#\", \"pa\\u2026t :: \\u0279t\\u2026#\", \"went :: t\\u2026\\u025bn\", \"part :: p\\u0251\\u0279t\", \"rt\\u2026# :: p\\u0251\\u2026t\", \"rty# :: \\u025dti#\", \"p\\u2026rt :: p\\u2026\\u0279t\", \"rt\\u2026# :: \\u0279t\\u2026#\", \"p\\u2026rt :: \\u0279t\\u2026#\", \"en\\u2026y :: t\\u2026\\u025bn\", \"we\\u2026t :: tw\\u025bn\", \"ee\\u2026# :: wi\\u2026#\", \"pa\\u2026t :: p\\u0251\\u2026t\", \"t\\u2026en :: tw\\u025bn\", \"rt\\u2026# :: p\\u2026\\u0279t\", \"man# :: sm\\u0259n\", \"m\\u2026n# :: m\\u0259n#\", \"m\\u2026n# :: m\\u0259\\u2026#\", \"ma\\u2026# :: m\\u2026n#\", \"man# :: m\\u2026n#\", \"man# :: m\\u0259\\u2026#\", \"man# :: m\\u0259n#\", \"ma\\u2026# :: m\\u0259n#\", \"m\\u2026n# :: m\\u2026n#\", \"ma\\u2026# :: m\\u0259\\u2026#\", \"p\\u2026l# :: p\\u0259\\u2026#\", \"ro\\u2026l :: \\u0279\\u2026\\u028a\\u026b\", \"pe\\u2026# :: p\\u0259\\u2026#\", \"p\\u2026l# :: p\\u2026\\u026b#\", \"ona# :: o\\u2026n\\u0259\", \"on\\u2026# :: o\\u2026n\\u0259\", \"o\\u2026a# :: o\\u2026n\\u0259\", \"on\\u2026# :: \\u028an\\u0259#\", \"ona# :: \\u028a\\u2026\\u0259#\", \"o\\u2026a# :: \\u028an\\u0259#\", \"ting :: \\u025d\\u2026\\u026a\\u014b\", \"o\\u2026a# :: o\\u028an\\u0259\", \"rt\\u2026n :: \\u025dt\\u026a\\u014b\", \"rt\\u2026n :: \\u025d\\u2026\\u026a\\u014b\", \"t\\u2026ng :: \\u025dt\\u2026\\u014b\", \"list :: \\u026b\\u2026st\", \"r\\u2026in :: \\u025dt\\u026a\\u014b\", \"l\\u2026st :: \\u026b\\u026ast\", \"ona# :: o\\u028an\\u0259\", \"list :: \\u026b\\u026a\\u2026t\", \"list :: \\u026b\\u026ast\", \"is\\u2026s :: sts#\", \"in\\u2026# :: \\u025dt\\u026a\\u014b\", \"ona# :: \\u028an\\u2026#\", \"o\\u2026a# :: \\u028an\\u2026#\", \"i\\u2026ts :: s\\u2026s#\", \"i\\u2026ts :: st\\u2026#\", \"ona# :: o\\u028a\\u2026\\u0259\", \"ona# :: \\u028an\\u0259#\", \"l\\u2026st :: \\u026b\\u026a\\u2026t\", \"ing# :: \\u025dt\\u026a\\u014b\", \"on\\u2026# :: \\u028a\\u2026\\u0259#\", \"rtin :: \\u025dt\\u026a\\u014b\", \"i\\u2026g# :: \\u025dt\\u2026\\u014b\", \"ists :: s\\u2026s#\", \"te\\u2026# :: \\u00e6\\u2026st\", \"on\\u2026# :: o\\u028an\\u0259\", \"t\\u2026r# :: s\\u2026\\u025d#\", \"te\\u2026# :: st\\u025d#\", \"t\\u2026r# :: st\\u025d#\", \"is\\u2026s :: s\\u2026s#\", \"t\\u2026r# :: st\\u2026#\", \"te\\u2026# :: s\\u2026\\u025d#\", \"ter# :: st\\u2026#\", \"ter# :: s\\u2026\\u025d#\", \"ter# :: st\\u025d#\", \"t\\u2026r# :: \\u00e6\\u2026st\", \"o\\u2026a# :: \\u028a\\u2026\\u0259#\", \"o\\u2026a# :: o\\u028a\\u2026\\u0259\", \"st\\u2026# :: st\\u2026#\", \"on\\u2026# :: o\\u028a\\u2026\\u0259\", \"te\\u2026# :: st\\u2026#\", \"on\\u2026# :: \\u028an\\u2026#\", \"ti\\u2026# :: t\\u026a\\u2026#\", \"l\\u2026n# :: \\u026b\\u2026n#\", \"ou\\u2026# :: u\\u0259\\u2026#\", \"ou\\u2026# :: u\\u2026s#\", \"ato# :: \\u0251\\u2026o\\u028a\", \"a\\u2026o# :: no\\u2026#\", \"sl\\u2026r :: s\\u2026\\u025d#\", \"a\\u2026o# :: \\u0251to\\u028a\", \"sler :: s\\u2026\\u025d#\", \"u\\u2026us :: u\\u2026s#\", \"a\\u2026an :: n\\u2026\\u028a#\", \"ous# :: u\\u0259s#\", \"uo\\u2026s :: u\\u2026s#\", \"ato# :: \\u0251to\\u028a\", \"at\\u2026# :: \\u0251t\\u2026\\u028a\", \"a\\u2026o# :: t\\u2026\\u028a#\", \"at\\u2026# :: t\\u2026\\u028a#\", \"uo\\u2026s :: u\\u0259\\u2026#\", \"uous :: u\\u0259\\u2026#\", \"ano# :: no\\u028a#\", \"o\\u2026s# :: u\\u2026s#\", \"a\\u2026o# :: s\\u0251\\u2026o\", \"if\\u2026r :: \\u026a\\u2026\\u025d#\", \"i\\u2026er :: \\u026af\\u025d#\", \"uous :: u\\u2026s#\", \"at\\u2026# :: \\u0251\\u2026o\\u028a\", \"e\\u2026a# :: \\u025b\\u0279\\u2026#\", \"ano# :: no\\u2026#\", \"if\\u2026r :: \\u026af\\u2026#\", \"a\\u2026an :: no\\u2026#\", \"ifer :: \\u026a\\u2026\\u025d#\", \"uous :: u\\u0259s#\", \"ler# :: \\u0259\\u026b\\u2026#\", \"if\\u2026r :: \\u026af\\u025d#\", \"le\\u2026# :: \\u0259\\u2026\\u025d#\", \"a\\u2026o# :: no\\u028a#\", \"an\\u2026# :: n\\u2026\\u028a#\", \"ler# :: \\u0259\\u2026\\u025d#\", \"ano# :: \\u0251\\u2026o\\u028a\", \"ler# :: \\u0259\\u026b\\u025d#\", \"an\\u2026# :: \\u0251\\u2026o\\u028a\", \"a\\u2026o# :: n\\u2026\\u028a#\", \"ano# :: \\u0251no\\u028a\", \"a\\u2026o# :: \\u0251\\u2026o\\u028a\", \"le\\u2026# :: \\u0259\\u026b\\u025d#\", \"an\\u2026# :: \\u0251n\\u2026\\u028a\", \"a\\u2026o# :: \\u0251no\\u028a\", \"an\\u2026# :: no\\u2026#\", \"l\\u2026r# :: \\u0259\\u2026\\u025d#\", \"ano# :: \\u0251n\\u2026\\u028a\", \"l\\u2026r# :: \\u0259\\u026b\\u025d#\", \"an\\u2026# :: no\\u028a#\", \"a\\u2026o# :: \\u0251n\\u2026\\u028a\", \"l\\u2026r# :: \\u0259\\u026b\\u2026#\", \"an\\u2026# :: \\u0251no\\u028a\", \"ano# :: n\\u2026\\u028a#\", \"s\\u2026er :: \\u025bs\\u2026\\u025d\", \"e\\u2026a# :: \\u025b\\u2026\\u0259#\", \"i\\u2026er :: \\u026a\\u2026\\u025d#\", \"s\\u2026er :: s\\u2026\\u025d#\", \"le\\u2026# :: \\u0259\\u026b\\u2026#\", \"a\\u2026o# :: \\u0251\\u2026o\\u028a#\", \"a\\u2026o# :: \\u0251\\u2026o\\u2026#\", \"i\\u2026gs :: \\u028a\\u2026\\u026a\\u014b\", \"ings :: \\u028a\\u2026\\u026a\\u014b\", \"in\\u2026s :: \\u028a\\u2026\\u026a\\u014b\", \"ne\\u2026# :: \\u026an\\u025d#\", \"ng\\u2026# :: \\u028a\\u2026\\u026a\\u014b\", \"n\\u2026r# :: \\u026an\\u025d#\", \"ngs# :: \\u028a\\u2026\\u026a\\u014b\", \"n\\u2026s# :: \\u028a\\u2026\\u026a\\u014b\", \"ner# :: \\u026an\\u2026#\", \"y\\u2026er :: \\u026a\\u2026\\u025d#\", \"n\\u2026r# :: \\u026an\\u2026#\", \"lv\\u2026# :: \\u0251\\u026b\\u2026#\", \"ner# :: a\\u026a\\u2026\\u025d\", \"ne\\u2026# :: a\\u026a\\u2026\\u025d\", \"ne\\u2026# :: \\u026a\\u2026\\u025d#\", \"s\\u2026lv :: \\u0251\\u026b\\u2026#\", \"ner# :: \\u026an\\u025d#\", \"ol\\u2026e :: \\u0251\\u026b\\u2026#\", \"ner# :: \\u026a\\u2026\\u025d#\", \"u\\u2026in :: \\u026a\\u014b\\u2026#\", \"o\\u2026ve :: \\u0251\\u026b\\u2026#\", \"olve :: \\u026bv\\u2026#\", \"n\\u2026r# :: a\\u2026n\\u2026#\", \"ve\\u2026# :: \\u026bv\\u2026#\", \"olve :: \\u0251\\u026b\\u2026#\", \"moni :: m\\u2026n\\u026a\", \"ner# :: a\\u2026n\\u025d#\", \"mo\\u2026i :: m\\u0251n\\u026a\", \"moni :: m\\u0251n\\u026a\", \"i\\u2026gs# :: \\u028a\\u2026\\u026a\\u014b\", \"n\\u2026r# :: a\\u026a\\u2026\\u025d\", \"ngs# :: \\u026a\\u2026z#\", \"ings :: \\u026a\\u014b\\u2026#\", \"ngs# :: \\u026a\\u014bz#\", \"ings :: \\u026a\\u014bz#\", \"ng\\u2026# :: \\u026a\\u2026z#\", \"i\\u2026gs :: \\u026a\\u014b\\u2026#\", \"i\\u2026gs :: \\u026a\\u014bz#\", \"ings :: \\u026a\\u2026z#\", \"ngs# :: \\u026a\\u014b\\u2026#\", \"n\\u2026s# :: \\u026a\\u014b\\u2026#\", \"in\\u2026s :: \\u026a\\u014b\\u2026#\", \"ng\\u2026# :: \\u026a\\u014bz#\", \"n\\u2026s# :: \\u026a\\u014bz#\", \"in\\u2026s :: \\u026a\\u014bz#\", \"i\\u2026gs :: \\u026a\\u2026z#\", \"ng\\u2026# :: \\u026a\\u014b\\u2026#\", \"n\\u2026r# :: \\u026a\\u2026\\u025d#\", \"in\\u2026s :: \\u026a\\u2026z#\", \"n\\u2026s# :: \\u026a\\u2026z#\", \"ne\\u2026# :: \\u026an\\u2026#\", \"ne\\u2026# :: t\\u2026nz\", \"nes# :: t\\u2026nz\", \"ess# :: in\\u2026s\", \"t\\u2026ne :: t\\u2026nz\", \"es\\u2026# :: in\\u0259s\", \"in\\u2026s :: n\\u0259s#\", \"ne\\u2026s :: in\\u0259s\", \"ne\\u2026s :: in\\u2026s\", \"n\\u2026ss :: in\\u2026s\", \"in\\u2026s :: i\\u2026\\u0259s\", \"in\\u2026s :: n\\u0259\\u2026#\", \"in\\u2026s :: in\\u2026#\", \"ess# :: in\\u0259s\", \"in\\u2026s :: in\\u2026s\", \"e\\u2026s# :: in\\u0259s\", \"e\\u2026s# :: in\\u2026s\", \"in\\u2026s :: in\\u0259s\", \"n\\u2026ss :: in\\u0259s\", \"ness :: in\\u0259s\", \"nes# :: t\\u2026n\\u2026#\", \"i\\u2026es :: i\\u2026\\u0259s\", \"ne\\u2026# :: t\\u2026nz#\", \"i\\u2026es :: in\\u2026s\", \"u\\u2026es :: u\\u2026z#\", \"ness :: i\\u2026\\u0259s\", \"ness :: in\\u2026s\", \"i\\u2026es :: in\\u0259s\", \"i\\u2026es :: n\\u0259\\u2026#\", \"ines :: n\\u0259s#\", \"ines :: i\\u2026\\u0259s\", \"in\\u2026s :: n\\u2026s#\", \"i\\u2026es :: n\\u0259s#\", \"ne\\u2026# :: un\\u2026#\", \"n\\u2026s# :: t\\u2026nz\", \"n\\u2026ss :: i\\u2026\\u0259s\", \"ines :: in\\u0259s\", \"ines :: n\\u0259\\u2026#\", \"n\\u2026ss :: n\\u2026s#\", \"e\\u2026s# :: n\\u0259\\u2026#\", \"ness :: n\\u2026s#\", \"ness :: n\\u0259s#\", \"e\\u2026s# :: n\\u2026s#\", \"es\\u2026# :: n\\u0259\\u2026#\", \"ess# :: n\\u0259s#\", \"w\\u2026d# :: o\\u028a\\u2026#\", \"ow\\u2026d :: o\\u028ad#\", \"ow\\u2026d :: o\\u2026d#\", \"ow\\u2026d :: o\\u028a\\u2026#\", \"w\\u2026d# :: o\\u028ad#\", \"w\\u2026d# :: o\\u2026d#\", \"wed# :: o\\u028ad#\", \"we\\u2026# :: o\\u028ad#\", \"we\\u2026# :: o\\u2026d#\", \"owed :: o\\u028ad#\", \"wed# :: o\\u028a\\u2026#\", \"owed :: o\\u028a\\u2026#\", \"wed# :: o\\u2026d#\", \"ho\\u2026d :: o\\u028a\\u2026d\", \"ho\\u2026d :: o\\u2026\\u026bd\", \"o\\u2026ed :: o\\u2026d#\", \"o\\u2026ed :: o\\u028ad#\", \"ho\\u2026d :: o\\u028a\\u026bd\", \"hold :: o\\u028a\\u026bd\", \"ho\\u2026d :: \\u028a\\u026bd#\", \"owed :: o\\u2026d#\", \"we\\u2026# :: o\\u028a\\u2026#\", \"e\\u2026ho :: \\u028a\\u026b\\u2026#\", \"owed# :: o\\u2026d#\", \"ol\\u2026# :: h\\u2026\\u028a\\u026b\", \"ol\\u2026# :: \\u028a\\u026bd#\", \"ho\\u2026d :: \\u028a\\u026b\\u2026#\", \"wed# :: #\\u2026\\u028ad\", \"ol\\u2026# :: ho\\u2026\\u026b\", \"ho\\u2026d :: \\u028a\\u2026d#\", \"old# :: \\u028a\\u026b\\u2026#\", \"o\\u2026ed :: o\\u028a\\u2026#\", \"o\\u2026d# :: \\u028a\\u026bd#\", \"o\\u2026d# :: \\u028a\\u026b\\u2026#\", \"o\\u2026d# :: o\\u028a\\u2026#\", \"old# :: \\u028a\\u2026d#\", \"o\\u2026d# :: o\\u2026d#\", \"ol\\u2026# :: \\u028a\\u2026d#\", \"old# :: \\u028a\\u026bd#\", \"old# :: o\\u028a\\u2026d\", \"old# :: o\\u028a\\u026bd\", \"ol\\u2026# :: \\u028a\\u026b\\u2026#\", \"ol\\u2026# :: o\\u028a\\u2026d\", \"o\\u2026d# :: \\u028a\\u2026d#\", \"o\\u2026d# :: o\\u2026\\u026bd\", \"t\\u2026ng :: \\u0259t\\u026a\\u014b\", \"t\\u2026ng :: \\u0259t\\u2026\\u014b\", \"i\\u2026g# :: \\u0259t\\u026a\\u014b\", \"in\\u2026# :: \\u0259t\\u026a\\u014b\", \"i\\u2026g# :: \\u0259t\\u2026\\u014b\", \"ti\\u2026g :: \\u0259\\u2026\\u026a\\u014b\", \"t\\u2026in :: t\\u026a\\u2026#\", \"m\\u2026er :: m\\u2026\\u025d#\", \"ting :: \\u0259\\u2026\\u026a\\u014b\", \"ti\\u2026g :: \\u0259t\\u2026\\u014b\", \"pe\\u2026# :: m\\u2026\\u025d#\", \"t\\u2026ng :: \\u0259\\u2026\\u026a\\u014b\", \"ti\\u2026g :: \\u0259t\\u026a\\u014b\", \"ship :: \\u0283\\u026a\\u2026#\", \"mp\\u2026r :: mp\\u2026#\", \"p\\u2026r# :: mp\\u025d#\", \"ut\\u2026i :: t\\u026a\\u2026#\", \"ing# :: \\u0259t\\u026a\\u014b\", \"sh\\u2026p :: \\u0283\\u026a\\u2026#\", \"mper :: m\\u2026\\u025d#\", \"t\\u2026in :: t\\u026a\\u014b#\", \"ting :: \\u0259t\\u2026\\u014b\", \"ut\\u2026i :: t\\u026a\\u014b#\", \"in\\u2026# :: \\u0259t\\u2026\\u014b\", \"ting :: \\u0259t\\u026a\\u014b\", \"ttin :: t\\u026a\\u014b#\", \"t\\u2026in :: t\\u2026\\u014b#\", \"t\\u2026ng :: \\u0259\\u2026\\u026a\\u2026#\", \"tt\\u2026n :: t\\u026a\\u2026#\", \"p\\u2026r# :: m\\u2026\\u025d#\", \"per# :: mp\\u025d#\", \"ing# :: \\u0259t\\u2026\\u014b\", \"t\\u2026ng :: t\\u2026\\u014b#\", \"t\\u2026ng :: t\\u026a\\u014b#\", \"t\\u2026ng :: t\\u026a\\u2026#\", \"i\\u2026g# :: t\\u026a\\u2026#\", \"ting :: t\\u026a\\u014b#\", \"in\\u2026# :: t\\u026a\\u2026#\", \"ting :: t\\u2026\\u014b#\", \"ing# :: t\\u026a\\u014b#\", \"i\\u2026g# :: t\\u026a\\u014b#\", \"ing# :: t\\u026a\\u2026#\", \"ti\\u2026g :: t\\u026a\\u014b#\", \"ti\\u2026g :: t\\u2026\\u014b#\", \"ti\\u2026g :: t\\u026a\\u2026#\", \"in\\u2026# :: t\\u026a\\u014b#\", \"ting :: t\\u026a\\u2026#\", \"i\\u2026g# :: t\\u2026\\u014b#\", \"ing# :: t\\u2026\\u014b#\", \"in\\u2026# :: t\\u2026\\u014b#\", \"in\\u2026# :: \\u0259\\u2026\\u026a\\u014b\", \"ing# :: \\u0259\\u2026\\u026a\\u014b\", \"or\\u2026l :: \\u0279\\u0259\\u2026#\", \"ist# :: n\\u2026st\", \"or\\u2026l :: \\u0254\\u0279\\u0259\\u026b\", \"r\\u2026l# :: \\u0254\\u0279\\u0259\\u026b\", \"r\\u2026l# :: \\u0254\\u0279\\u2026\\u026b\", \"ist# :: \\u0259\\u2026t#\", \"ni\\u2026t :: \\u0259\\u2026t#\", \"ni\\u2026t :: n\\u2026st\", \"is\\u2026# :: \\u0259st#\", \"i\\u2026t# :: n\\u2026st\", \"nist :: n\\u2026st\", \"is\\u2026# :: n\\u2026st\", \"ni\\u2026# :: n\\u2026st\", \"r\\u2026l# :: \\u0254\\u2026\\u0259\\u026b\", \"m\\u2026n# :: \\u00e6m\\u2026n\", \"is\\u2026# :: \\u0259\\u2026t#\", \"ll\\u2026# :: k\\u2026i#\", \"b\\u2026ac :: b\\u2026\\u00e6k\", \"i\\u2026t# :: \\u0259\\u2026t#\", \"ist# :: \\u0259st#\", \"r\\u2026sh :: \\u0259\\u0283\\u2026#\", \"ni\\u2026t :: n\\u2026s\\u2026#\", \"o\\u2026al :: \\u0254\\u0279\\u2026\\u026b\", \"ist# :: \\u0259s\\u2026#\", \"or\\u2026l :: \\u0279\\u2026\\u026b#\", \"ni\\u2026t# :: n\\u2026st\", \"sh\\u2026# :: \\u0259\\u0283\\u2026#\", \"l\\u2026y# :: k\\u2026i#\", \"r\\u2026l# :: \\u0254\\u0279\\u0259\\u2026#\", \"n\\u2026st :: \\u0259\\u2026t#\", \"ik\\u2026# :: ik\\u2026#\", \"or\\u2026l :: \\u0279\\u0259\\u026b#\", \"m\\u2026n# :: \\u00e6\\u2026\\u0259n\", \"or\\u2026l :: \\u0254\\u2026\\u0259\\u026b\", \"i\\u2026t# :: \\u0259s\\u2026#\", \"r\\u2026l# :: \\u0279\\u0259\\u2026#\", \"i\\u2026t# :: \\u0259st#\", \"r\\u2026l# :: \\u0279\\u0259\\u026b#\", \"n\\u2026st :: n\\u2026st\", \"is\\u2026# :: \\u0259s\\u2026#\", \"r\\u2026l# :: \\u0279\\u2026\\u026b#\", \"l\\u2026ri :: \\u026b\\u2026\\u0279\\u026a\", \"a\\u2026t# :: \\u00e6\\u2026t#\", \"or\\u2026l :: \\u0254\\u0279\\u2026\\u026b\", \"i\\u2026o# :: ko\\u028a#\", \"i\\u2026o# :: ko\\u2026#\"], \"Freq\": [64.0, 53.0, 60.0, 61.0, 51.0, 56.0, 48.0, 47.0, 55.0, 65.0, 48.0, 68.0, 49.0, 58.0, 32.0, 32.0, 46.0, 32.0, 43.0, 31.0, 48.0, 43.0, 49.0, 45.0, 46.0, 31.0, 32.0, 46.0, 32.0, 56.0, 18.016577938240022, 17.8228377867341, 17.934997598547348, 17.81309175042916, 17.951886346633664, 17.938723480474636, 17.83148725331596, 17.897708110473953, 12.918121860420888, 12.508812983600652, 12.553833122021238, 17.98284601945607, 12.97025882436339, 9.795214312774966, 9.869797545730943, 9.555955409875523, 12.53646757742554, 12.704005888351732, 12.529486034970164, 9.0414364773891, 10.295100874339049, 7.203835831770514, 8.982183411809801, 7.320726114491673, 10.41827462411078, 12.131512025088034, 8.385401112070813, 9.22934727732656, 8.913944556325267, 8.06596786934582, 8.287932719419967, 12.371107411897269, 12.573349590773539, 12.472799654811364, 12.356390540499294, 10.307237057663219, 13.258726794756567, 10.482307263747623, 10.208286672962233, 11.55073248630115, 10.73497549201463, 10.377596464227516, 10.654333843014651, 9.590227838191838, 9.839633622896322, 9.79617092327018, 10.36631700543188, 9.47366476161892, 11.812882056240246, 11.8081668464234, 9.48957731053732, 9.573267708854626, 9.650766079270392, 9.41612864823457, 9.532193553503719, 8.602480720860683, 10.349729857504519, 10.00693752249059, 7.801922965221079, 11.50862607649706, 9.470631701094913, 9.490807344753664, 10.37578068983345, 9.904031735626853, 9.860965179789948, 9.717760575803489, 9.442272533961413, 9.528149472386998, 9.629326766835318, 9.43132661522438, 9.96116926338996, 9.771173804471577, 11.505811516211118, 11.325688046721048, 13.52830931124933, 13.296896378581854, 10.590607501281706, 10.430821702703822, 11.659576430829999, 10.366297552030447, 10.472003464662972, 16.31835050507252, 16.294648462966844, 16.055275212602602, 10.46037436256741, 14.28345236934916, 10.438312223016364, 14.123946946366873, 10.371074641147061, 15.21748632961757, 13.729546797249506, 13.930003543004638, 14.980633312356609, 13.410080953991503, 13.334655435030982, 13.760137037642847, 14.144446292991338, 13.557735159310045, 14.177553671029585, 13.172053109611626, 13.223420552726799, 10.606749716112907, 10.479426453480665, 10.888106501844042, 18.439944097063663, 17.007806520206817, 18.62643676420167, 18.849220762547567, 18.39932061575744, 18.55263204824615, 18.38596795784477, 18.66968293991782, 18.614223473095375, 18.42761134461143, 18.40162465604749, 18.462459421317334, 18.4389762746591, 16.811183032621713, 16.697936653465405, 18.476972416296327, 16.8049989883266, 16.69130783880645, 16.83134193614842, 17.236362683768366, 18.795180460997784, 24.309394028712173, 23.399696955974058, 18.388263261754304, 11.097195386041005, 24.269423237382167, 10.136477887202082, 11.889511829515829, 16.76004372596147, 23.47257389173196, 24.254696188293902, 23.624441324196354, 23.618657176333873, 23.406735219987464, 23.46376470993191, 18.5148390650291, 18.37389460511888, 18.54172774234657, 25.23861887468696, 17.024762079094735, 10.107489176151494, 9.05437207709342, 9.438043227453896, 9.178551430768838, 9.058801763379114, 9.299133924779037, 9.00865839491002, 7.2149627659943985, 9.071457594878144, 9.28637290389003, 9.258200837034686, 7.743093282288055, 8.111569615634567, 9.300738639491092, 9.074442250949392, 8.329351489750076, 9.26156677718642, 9.304782300539756, 9.075898029449498, 9.056973400560759, 7.254361644767436, 9.02163181736714, 9.018418655256434, 7.2369227532318, 7.250928741060562, 9.023778240215924, 8.22239390275175, 9.230644359773821, 9.236660239341173, 7.214053203639872, 9.234269308761288, 16.546609779424866, 16.26287501952282, 16.345596819935743, 9.05196632802703, 9.11397391632885, 9.534895996863094, 9.29876097874332, 9.015826451776327, 9.305506693924041, 11.407486319097462, 10.995243759365938, 10.8155213414555, 10.841817819440877, 10.849836787103905, 9.397060236260328, 10.861217177431412, 10.784229680516997, 10.97002552959106, 10.810514220061435, 12.089524245182295, 11.96789829178645, 12.170838049721478, 10.663406034695507, 9.477527671337612, 10.3321697371983, 10.252183726062556, 10.222119634162567, 10.150648484673336, 10.144488517021616, 9.67485693094179, 9.38229655825839, 9.354934664400405, 9.319929241787248, 11.11810589915754, 8.105995178154917, 10.970419505091547, 11.165965897624355, 16.020203622657757, 11.009585153546018, 11.346500517846389, 10.980578161692401, 7.964432560492794, 7.288093896637504, 6.307311818321315, 7.982851701036091, 10.953608395909097, 7.852866800485564, 7.028830157561169, 6.583192585872841, 6.392141668637598, 6.330031866353796, 10.919682947782968, 12.479652792977536, 9.565774738975037, 4.7152327830879095, 6.644463045864343, 10.970851118115915, 11.252142623137432, 6.492688972287225, 7.959927416521858, 6.250654532054008, 7.088884049675167, 6.295023813552205, 6.545499469637196, 12.513567478887975, 10.915840226289733, 8.016361160385847, 11.090357402953995, 8.049885565255487, 11.767646157887153, 12.057722717089682, 11.79910537735516, 7.869674185454232, 9.528484514385935, 7.878545706599564, 8.011162065726943, 8.93737453349765, 8.69010839242851, 8.635727467153387, 9.388199500957771, 9.307744238390276, 10.84527407397853, 9.275398965075626, 9.308775582514714, 9.538158656516602, 8.000181761974977, 9.33735086230749, 9.368442862779867, 9.320065990065622, 9.464130318326394, 9.39746561742916, 9.532867347114832, 9.467415313246171, 9.350831016557297, 9.498388251594744, 9.325857875892401, 9.271962392499564, 6.415957307488628, 9.277591427550352, 9.40282203188818, 9.330242065364995, 9.303129634747714, 9.287504984392282, 9.295672992601533, 6.27266989442015, 9.372408444660662, 9.350022640996974, 4.882232812646339, 6.577022661329321, 6.769688774452942, 9.467021241997285, 8.299573763471336, 9.311115491193505, 7.78829328496766, 8.716828797768088, 11.234929856796395, 11.048975765609862, 10.937576605937107, 10.867417685608604, 10.965462568099877, 10.888110616807628, 11.055388072206437, 11.111338642922307, 10.942665450532745, 13.37686640213737, 6.172911022785094, 6.171147389635037, 6.455762176375194, 6.249854946250583, 6.5585993058010805, 6.123469043141536, 7.7466104127544115, 6.954904641830878, 6.345435042614251, 5.500258136422648, 6.233504893775647, 5.421467277517896, 6.206888461410248, 4.68963588969891, 5.444508281933373, 6.5755244406869675, 6.330002284788829, 4.621485047749538, 6.318833267174455, 6.255762633187697, 7.8077024794524235, 4.672804883187377, 6.290850381054999, 8.114355860143252, 6.283037763380268, 6.202169466702567, 4.946904327557878, 4.644189626947504, 6.576840384693585, 6.3332232645402975, 10.22632357714256, 7.905091739412976, 6.967283405830162, 7.786379896443739, 7.708677085749315, 7.757851840010667, 7.90159440561481, 7.712858738958302, 7.755024652493819, 7.322939943544371, 7.879148281512896, 7.899010233599538, 7.700959451048038, 7.699332244644278, 14.20918267437278, 9.317368658979746, 6.730407980880946, 7.7447543490754525, 10.933255016503292, 10.897679452746951, 6.511960449187429, 8.443602434803598, 8.244279640598728, 7.857862634289007, 7.771150753508951, 7.056588894444972, 7.437128750328204, 7.6672258621540434, 8.295596306284388, 8.201247414602618, 7.492161857818978, 8.178194894381972, 7.63405422073309, 7.769226232896001, 7.487735420206653, 7.511313379937073, 7.478442778376229, 5.976018471439431, 4.488575457615855, 7.428874604816437, 7.543075420336558, 7.450709390945541, 7.428815793160363, 3.7241845137205343, 7.818561891981805, 4.490272509382877, 6.026554013513894, 6.608438346837633, 4.525935681348137, 5.249203214770554, 7.616519218011031, 3.87446792088789, 4.712050030426268, 7.576573443757821, 4.585890303218556, 5.423888309950355, 4.686641034309589, 5.0981428695400055, 10.808638233268752, 5.321360762970145, 9.663885081001926, 6.396744356230644, 6.021885124951628, 10.45883988437067, 6.2667690984414515, 8.974521195661431, 9.109964851695763, 9.023804534448441, 9.010715927399177, 8.941730821097464, 8.92139604802644, 8.955513587002484, 9.276555932696121, 9.117706227588068, 10.417954142948725, 10.446948002619287, 10.604034696366718, 8.938561571154812, 8.95482970571059, 8.966649872221874, 8.94893435325784, 7.796139839291664, 9.2142230582667, 9.32764556829045, 7.8646529018546945, 10.782922385547803, 9.486179004699741, 7.707967528057994, 8.470903909537574, 7.685379129921347, 8.621825538751597, 10.797757665764399, 9.521799040152889, 8.06897889963852, 7.739248473854806, 10.755483149222274, 9.410366494337284, 12.359624584532808, 7.703787681706228, 9.290289420479471, 8.032593238397512, 7.887389274536239, 7.834720155591568, 10.74363191240383, 9.98416673158774, 7.993142082847792, 7.71688912419908, 11.30394768424589, 7.854354940653018, 7.0133128295520155, 7.668321711689134, 4.968971184671518, 9.210160565063783, 10.888615424796207, 10.221495717959183, 10.017138476589489, 9.965878201443621, 9.272829178584342, 9.30742351226266, 9.381537996499047, 13.950021934436467, 9.31871868638915, 15.048723405573934, 14.054172720101858, 11.790890040854041, 9.50772017274385, 14.73552811077885, 14.610531533823542, 14.736531105212947, 9.983960871014853, 10.003666182474438, 10.405228305442234, 10.209658586413305, 9.980419294226865, 9.95734798983517, 10.77029724660159, 10.038677860469885, 10.00750683121032, 9.666512082668296, 6.81556431758865, 7.213006826836909, 6.788019610177973, 6.5743503751385575, 6.871778448925888, 8.407976296170924, 6.737983609129038, 8.860827703557089, 6.100175481236205, 6.431095811112332, 6.903006485997786, 8.380578289068486, 8.458817105434413, 8.68483232375952, 6.9027985776914145, 6.116002524730719, 6.15605597559946, 8.497905364133262, 6.387271844397521, 6.793601879099401, 6.724205078625782, 6.2304381262588375, 6.598310651737509, 6.545432528106407, 5.487605098897337, 7.402051954310425, 7.651015224998428, 5.634005117740515, 6.855031154907867, 7.559236794043007, 6.7540955663194415, 7.512400306354904, 7.692636944385923, 6.794507361090664, 6.832327921175737, 10.836812660466341, 10.01937538485899, 9.632978226445138, 9.459115217843658, 9.587460365780407, 9.470782574527833, 9.507356222661564, 9.424666608205289, 9.467567568511146, 9.425255287430948, 9.425046662394367, 9.667269990031317, 9.625713928838936, 9.575848219350108, 9.45136134550845, 9.565448421766606, 9.472709867964877, 9.43045957982818, 9.482368802469956, 8.074515048829106, 7.017650997899065, 6.883283176262472, 4.372358546221148, 7.002868174496914, 7.086847458391801, 8.898934640175439, 5.482711582380479, 6.901104055734652, 9.038263861387382, 7.019679740312506, 4.136261004933122, 6.9389777279433975, 6.823915206400211, 6.846726007288263, 4.3475955162283775, 6.90245386243158, 4.81220564004093, 7.040473068585764, 4.808435522374134, 4.501059730633573, 4.306780553960407, 4.113693485302743, 4.204916409639195, 4.8101317591644825, 6.806985697139722, 4.191805551349088, 4.123465217681745, 4.1293014045904135, 4.149046624779489, 6.978531700618274, 6.980569854177799, 6.847740981552298, 9.15754534239829, 6.9638562272287405, 7.181041561600498, 5.476198080340032, 8.914842873543492, 6.937781430401424, 6.903447477956157, 7.143055171440965, 8.92224007349744, 5.6499720200821875, 5.613114583627537, 7.080575144490281, 6.862774342078012, 6.867702504245154, 6.843637050063945, 7.0193224071468405, 10.375866294085796, 6.941609418617177, 6.945119799395161, 6.892226971007851, 6.927947311815963, 6.984964924122398, 7.16952691411159, 7.083542513748083, 7.086058665277549, 6.919268749243492, 6.900517053685715, 6.968387473171113, 7.161246527946993, 7.021429321589333, 6.902962560100816, 6.915658973348575, 7.364978386592344, 7.225845745876415, 6.933170790315717, 7.009792657924392, 6.935922559563168, 6.901089184868532, 7.008118229310629, 6.907383234063935, 6.912652170104675, 6.897920305806799, 7.125133086631738, 7.04449265801665, 7.464005628177103, 6.994927304499171, 6.89189396931297, 7.10261068806163, 6.976797926694799, 6.963792323963908, 7.0829790466068845, 8.356871578068182, 7.200791510329974, 7.103187719142982, 8.345737757931902, 7.1823433213827945, 8.409578021334898, 7.37376525462163, 7.229379141339503, 7.098839173150089, 7.175700578662023, 9.856691528931169, 9.866788825807223, 9.755684840934896, 9.630935765334169, 9.750341571871505, 9.715329131917155, 7.515052202408393, 9.664127133875946, 9.666885191631252, 9.652747188588393, 7.4593444957124495, 7.1223288714081665, 7.099218260774469, 5.694732028032716, 6.918005174572254, 5.653634365375023, 5.33280733441765, 6.570857674464447, 6.993567534691119, 7.009256534033191, 5.086318354987154, 6.922089029022946, 5.48399904629299, 6.966087483344827, 7.051122285116336, 5.644116222407791, 5.03179303200706, 5.1321890250393825, 5.0956044555629845, 5.008032152543489, 5.796582097369043, 5.6383711849878875, 5.786883839541741, 5.140400305203377, 5.757457120519828, 5.675183471965782, 5.90944855527981, 5.647736967916312, 6.4067310764288425, 5.064278622008776, 5.757011706724205, 5.776526446763718, 5.0685644604312525, 5.661927055802133, 5.744225551175844, 5.769408872099791, 5.636170331457099, 5.644530552474721, 5.820254016083659, 5.8613151769498115, 5.67390311610097, 6.97185792145449, 5.7056079034560385, 5.82316962937775, 5.719453213259497, 5.684259462567184, 5.668149406965393, 5.608656819037201, 5.370728811719978, 5.324140677033409, 5.7903215934909245, 5.482629292937811, 5.332041249174213, 4.065800519183641, 3.9608935621227204, 4.044705505545723, 5.636306353333155, 4.107016375198259, 3.9510375004011404, 5.477586977542652, 5.521092627714691, 5.2832649709655675, 5.481439584820441, 5.614758074320406, 5.449101710299716, 4.022069263811709, 3.986287683205892, 5.412218351791126, 5.246755711987753, 4.024798621652542, 4.055971034466028, 3.9797106592221323, 4.167999951370108, 4.459131365201774, 5.504505511470254, 3.9613909957973896, 4.007487436889767, 5.30340749476285, 5.387002873670136, 5.3595783229234355, 5.279878003663388, 5.435240989397378, 5.267498877600874, 5.309287780019933, 8.7613355509536, 5.6543433046317375, 7.456918142257135, 7.959128472456478, 7.72069953818166, 7.703739983903667, 7.779325057414037, 7.739921313984542, 7.682956226023784, 6.893885763603349, 7.747644587448095, 8.047753195756062, 7.739323684658553, 7.5106807225824594, 6.720606513793226, 6.769235304913637, 6.78953405002298, 6.868360130927786, 6.740102119258804, 6.686477470796518, 6.000036555012846, 5.903926907711922, 8.31871549234208, 6.204252310783861, 5.601594026359165, 5.752920808749442, 5.561629342455952, 4.088904400007304, 5.4185039091500675, 5.503989335765994, 5.334131202349235, 3.9724373954336323, 8.060326360958554, 5.622999494616288, 4.209133128956725, 5.513707821107123, 5.392884602190303, 5.673411104127484, 5.316546470799643, 5.3287075901373875, 5.582995458525958, 3.982409473294703, 5.460758620289819, 3.997227106189051, 8.00749623437504, 5.3278109867132555, 6.142930733450314, 4.091164836320083, 5.355200954156813, 5.300681293071411, 5.342694706888784, 4.036443021864607, 5.319632408268479, 5.529862523908943, 5.631715168155241, 5.563072238305251, 5.457070917316822, 5.380053092418852, 5.3244323279887515, 5.553150218651643, 5.6435913318354745, 5.678195015004535, 5.746401038331776, 8.544569835294883, 5.884626683746937, 6.014798824031223, 7.968000807874643, 8.649869143396945, 5.579699519292726, 5.782208648203803, 5.771463755128731, 5.645506505631502, 7.314756427855437, 5.986778261931666, 6.93852399627382, 6.773350670692356, 6.666244682944771, 6.662565589139323, 6.634443008766532, 6.678653915001372, 6.671175579948256, 6.6624672092536406, 5.76687207253492, 10.607627424584642, 8.877613526187506, 10.438830694404993, 8.053456382685564, 9.222999275840282, 6.69072645805909, 7.84176340679256, 5.2356494144672014, 9.149293041430285, 11.835417349575906, 5.3440255490540265, 7.917811597706226, 7.907380212897561, 12.044891913467124, 6.575696911771872, 6.559261498555445, 6.577622853209062, 7.884386734477089, 5.254966300999228, 5.804222083295041, 5.524175236536426, 7.845734916024232, 5.306215563154576, 5.361096108707479, 7.668159446465084, 11.76716955174126, 9.551591142418065, 5.2255712376730035, 5.2216027082230525, 5.32085111078986, 6.533457405063885, 10.517697803725484, 6.59990124307479, 9.80435235452493, 7.954240614461387, 10.815137754727829, 10.542216479530966, 12.378238873052428, 6.533287990912309, 6.699099257542796, 7.646754523597474, 7.160879216460207, 7.10349253026813, 6.976983346512484, 7.2037043995762255, 6.765688048221814, 6.782036721678333, 6.759424487451782, 7.13711331493989, 7.203916466685905, 7.153474889707911, 6.892918551326962, 7.176308035518881, 5.3422265897162715, 7.221035530456777, 7.210036373606879, 5.3917131683056585, 6.950134462384501, 6.863029281918293, 6.828807200739077, 5.456481789594216, 5.531082410226013, 6.883866623372948, 7.361680529289543, 3.6930475352417194, 5.207901784339386, 6.957756366725717, 5.435340664057826, 3.7290973814134984, 5.765072806930577, 5.467869879078043, 4.798716967792776, 5.377999744466654, 3.816828654520534, 5.495091319912084, 3.8391259999362792, 4.380893725718408, 4.859655774639419, 6.836414475014548, 5.447186726191871, 7.123593900651631, 6.854442521268889, 6.84205259872626, 6.855594304215391, 6.960323983473679, 7.245655589082268, 6.859122683699214, 6.901412697648806, 7.331532680376326, 6.9848796165763005, 5.837825510738409, 5.655383531505679, 5.574747343170204, 5.544071528388937, 7.976058321088712, 8.273096977399787, 8.024312811206032, 7.349175725680828, 8.082131865445632, 6.748674818916667, 6.707865510962305, 8.077271658590979, 6.764690934860555, 6.741064105468701, 6.659773364357164, 6.819814686173429, 6.724477070535922, 8.033230259342513, 6.810805414248658, 7.415562220775231, 6.777236263723484, 6.722801290771862, 6.7777587867447595, 6.749127598529148, 6.695826481834144, 7.981751457090498, 8.000595894688667, 6.74783845492775, 7.3950092509392515, 6.908677692297004, 6.711833639270793, 7.3879838913447475, 4.0921146786970555, 6.735493870833941, 6.830944367512359, 8.080982594540114, 7.014642561560104, 7.382875767814347, 7.098090807219214, 9.779836990442172, 9.48736093831171, 9.519972339435547, 9.516895950160826, 9.353246514005297, 9.98797215562074, 9.341936957496742, 9.730623253532215, 9.346783099439904, 7.355095358171519, 6.9230129826006905, 6.892228315512012, 6.848659682011997, 5.549652118414594, 6.853898029785384, 7.11470658926381, 5.555768122085449, 5.677994983666557, 6.817524089938997, 5.541249324843015, 5.640777882990244, 5.573914316138394, 6.83514959343092, 5.557566389625233, 3.867461105948283, 3.792173999845264, 6.811429141060474, 5.522732420522462, 5.670908187878794, 5.644707566217206, 2.810314773594077, 4.964194867350117, 6.797069782173807, 4.411601584638965, 5.289844960979934, 5.015854081914902, 3.868868025360699, 5.6144108768024035, 4.085233705038984, 3.9374857418465865, 4.992590063359723, 5.800135582384936, 4.4641060533380355, 5.218917544609411, 5.536875116789171, 5.648513391460239, 5.028877958256781, 5.1986553159144595, 5.568082804792312, 5.4243665180381395, 5.550821890353922, 5.167379424903392, 5.321572282355374, 5.174145071286513, 5.180327003341062, 5.683976125635061, 5.231936381459001, 4.86853170797125, 5.232498088439988, 5.141456944685553, 4.931335900715834, 5.096531110467861, 4.86536148496908, 5.328220815902891, 5.408160450409386, 3.6711005483442496, 5.1245180150023275, 4.913969946869896, 5.151782231905104, 4.885656241465847, 5.493260656560886, 4.8984492528983585, 4.882498505574322, 5.017134849085829, 4.875344925752185, 4.003235943096793, 4.962043039521162, 4.952465598241678, 3.680977056698649, 5.073109597703427, 4.897566995717259, 3.8659077745968005, 3.765716203220744, 4.926485043367059, 4.871464523301771, 4.987901088296294, 5.3269847925847165, 4.8952763811511675, 4.881439560810324, 5.025662094702264, 4.9301274521569685, 5.090193851997419, 5.186048967932999, 6.447891096524684, 6.237608437240117, 6.13482732956318, 6.270329419052896, 6.139231759595321, 6.135879573703443, 7.358745118876827, 5.35008258111413, 6.179575022753414, 6.1074853286517445, 5.007003558503589, 4.969153214281474, 5.010863625051653, 5.076334973938889, 5.100087130243642, 5.083235783852219, 6.741595273589042, 7.375113979522032, 5.522609631613857, 6.700221395021704, 7.287304538960258, 8.049680939507017, 7.929494548395732, 7.48190094043791, 7.31022602143469, 5.4887444489007216, 4.959520768419037, 5.028865983320733, 5.147421535976637, 4.919500889984613, 7.346212696448612, 5.041854259095229, 3.6693667804399563, 6.857365996226207, 4.981433658800605, 7.442482392338244, 3.6877916596673734, 5.600609857049071, 5.519783328256921, 4.9205945253717065, 5.569808455205113, 3.6616775491656384, 5.055233812386709, 5.494966541497308, 5.504914116721102, 5.621086443749817, 8.029864051240791, 7.3642367671937246, 7.307839261812049, 5.475635697265692, 5.615170833344855, 5.524928317242381, 7.629157797057799, 7.889316186391827, 7.908102066989522, 7.924061181820159, 8.35770841322867, 8.034158348668743, 8.289287864615481, 5.997205782809281, 5.682318908711593, 5.669718303086528, 5.900974224875705, 5.781424623624829, 5.897338380508182, 5.959443855532906, 5.710617343128051, 6.082604627618864, 5.67344983128651, 5.378723832504993, 4.820586257110834, 5.368870584248087, 3.5924804705663558, 3.698890387116537, 5.593743560023757, 3.6436678495535455, 3.6774850400538006, 3.5834253964712035, 3.5526398172456966, 5.585721839529728, 3.590696946536515, 4.192280848292462, 3.6124324968714574, 3.6928559282300393, 4.219562089782822, 3.582403072543297, 3.902291386594828, 3.5477156517662993, 3.6541214812722074, 3.746030199178425, 3.7354284313271817, 3.650665703348923, 3.5754091466936053, 3.9268473306326634, 4.010316143497724, 3.569905243443669, 3.548731123713849, 4.745318853147761, 3.6250316109519383, 4.739670703177184, 4.860028477479965, 3.9449514780104917, 4.169374723192751, 4.808219990618136, 5.499314985919433, 5.006276309716383, 5.353111462236031, 5.253463168070786, 4.3581463388798305, 4.831785067183941, 5.410366879039567, 4.30882114718188, 4.163853418458485, 4.801648624137994, 6.2154672209475335, 4.823424741342834, 5.466467490013822, 5.357946675336028, 5.3873684804702435, 5.617632562874585, 4.733096259383924, 4.902378833486075, 5.376939350911772, 5.348983107492727, 4.777808078085593, 5.365689300728935, 4.866233733301722, 4.855761283668598, 4.9182593703329, 5.507390853386725, 5.382379839713064, 5.360014653055375, 4.883915768913007, 4.865773161526553, 4.825530725233208, 6.259717781690765, 5.175158674051972, 6.564613799460222, 5.530674061883713, 5.655237226611445, 5.1235917651752505, 5.06382251564682, 5.2198605659418185, 5.166998188108868, 5.179920212059044, 6.24469175004248, 5.0244654980564, 5.810448536038919, 5.080907153893583, 6.230705739217337, 6.453798253281426, 4.4824334900682885, 5.0153833184003895, 5.64551260923634, 5.12180835672211, 5.150346891168115, 6.2705217402744555, 6.541409772583711, 5.196643456326291, 5.545650350906913, 5.652747630879356, 3.886528043004521, 5.608182461160444, 6.374868890268987, 3.785947974734687, 5.072267321957827, 5.027164070966973, 5.082002046837224, 6.417277586543376, 5.109768806687459, 5.751469492279066, 7.820120775755173, 7.54088016844648, 5.36652587481415, 5.225832033525857, 5.393985779171149, 5.211000953342704, 5.238395288594845, 5.2988191357522885, 5.325973110427883, 5.234992026843301, 5.191229823206208, 8.5036399133835, 7.480935590247486, 6.552084443014835, 7.185342934227085, 6.6630370694836305, 5.9856192888820745, 7.569512901999369, 6.062399913823892, 7.187964598023413, 6.540508014247654, 6.71527850765256, 5.9360269440821, 7.201495555938432, 7.156369182627675, 3.63834964350405, 5.9354611221056395, 7.212843242770084, 7.249607473361769, 7.714053799710988, 7.723239421692472, 6.633957075309033, 3.580500636870321, 7.690694251193074, 7.824320657767822, 7.100664585088894, 4.9033628613913836, 7.170269957364738, 7.117923811356379, 6.649387312595424, 8.307165755834246, 7.141530277424002, 7.311895632906476, 7.152761605777673, 8.43241511821095, 7.321979503492415, 7.100963118933076, 7.714528529065788, 7.195811390994716, 7.143753364272545, 7.299681271591749, 7.73787338792968, 7.10141063776209, 10.169994992050487, 7.21201754627363, 8.227309859747594, 9.112656261898099, 9.023798220909068, 7.850354773425366, 7.89235749773249, 7.98464500428851, 7.864707521347603, 7.839336596260731, 7.783338851480147, 7.787275388789446, 7.747678691014443, 7.071149234060135, 7.2768748310192635, 7.610634485631448, 7.133621883168256, 7.118516539555728, 7.138660460219763, 7.272824838723214, 7.238132023822228, 7.16181422643393, 7.146201253847541, 4.836317406818226, 7.059778281164943, 7.197053372365046, 7.1179774096819965, 3.57767704520412, 7.0526760707711595, 7.286613691324766, 7.089522268383888, 4.985786832515185, 7.1431411830331815, 7.1538808300926835, 7.075136089196569, 7.093820643380423, 4.836516577691478, 7.128630744526501, 5.915234381960427, 7.287289331260311, 4.7483934815294155, 5.913325714616996, 7.213449178536826, 7.091560187286398, 7.082725934817848, 7.172887455428335, 7.218687881431316, 7.5154471016745825, 7.298376334682404, 7.706513191304375, 7.313195444838802, 9.504417624073831, 10.003169339359172, 9.41128981097855, 8.757177285425561, 8.3873499273149, 7.282685189945936, 8.26649971927315, 8.269058427446657, 8.348949839194672, 8.242271827373052, 7.293692172707318, 7.162666012271738, 7.146991393750538, 4.871586862061639, 5.901550448747019, 4.946629793014235, 4.885109567805388, 3.8967247725435152, 4.78865144429483, 4.642128916260305, 4.668744519050845, 4.651208255108669, 4.739875194138944, 4.808373271426764, 4.640957479491634, 4.8818396812920035, 4.730472257097901, 4.67093264254999, 4.6940056283235965, 4.844641630682935, 4.7830592301762245, 4.635238386106567, 3.3144787049741637, 4.651431993217863, 4.688734113440594, 4.807606246180635, 4.824336850105547, 4.7770288668020875, 4.662116057861148, 4.896204457136524, 4.719105735266896, 5.1049980650704105, 4.4204127501059585, 4.683601707100327, 4.689854783287259, 6.9117914707279855, 4.807330301904127, 4.722231004248399, 4.903512400254483, 4.7637193553007995, 4.735284416268668, 4.771853482534563, 4.783964053905783, 4.714449410618083, 4.718115929249886, 4.706124601868666, 7.055376249322953, 7.0212225362902485, 5.989773164113063, 4.703309562729779, 7.028436710939589, 4.713056839347032, 6.19506976679639, 4.708421959107868, 4.846185787090819, 4.676510717401488, 4.873541620615581, 4.803931869285625, 4.818782043541327, 4.730229230574505, 4.934483056546095, 7.033779530950264, 4.67596972275382, 4.94198310667152, 3.176871421662776, 7.096501072308904, 3.8527905736369332, 3.6053206199466548, 4.7050264080237625, 4.71144372989181, 4.261864925525636, 3.4898149663456044, 4.683344357832664, 3.506126516045334, 3.265627241368975, 5.002332560871466, 5.00352966160611, 4.429174286228951, 4.769703319251472, 4.924401773441531, 4.423169852192216, 5.848792385223298, 5.8382539864631156, 5.710187675571933, 5.7178911942533315, 5.707530793089541, 5.926761295712436, 6.008837587321602, 5.733250122753366, 5.704180482084788, 5.727794793627397, 5.7864125480687125, 5.841831541958753, 5.706273809573506, 5.721751025559128, 5.748412624348054, 5.8875467911438095, 5.506304088576189, 5.706016772525343, 5.724961619686575, 10.280694461276122, 10.139049089088802, 10.178907531205667, 6.304069485984194, 5.7554366917495265, 5.727034128804028, 5.985524208565142, 4.525680120290139, 3.9617112774720846, 4.55457261304061, 4.582104410420684, 5.381247529732645, 4.539748408268126, 3.954607415171916, 4.795725751703031, 4.523551152509299, 4.557459976973169, 3.53693285024364, 5.2020982819253305, 4.593818079643832, 4.5616350095516465, 4.5691096727806215, 4.8714151191086525, 3.7467273205276337, 4.615892486139606, 3.470177494818237, 4.523454707013285, 4.575780574338834, 5.627269749026792, 3.4855742482129783, 4.600250633854275, 5.694272885100308, 6.262868866627262, 5.649653664315424, 4.808967800742514, 5.401975673572377, 6.319162233049164, 4.8048907748483725, 4.672007173284106, 4.751645257457369, 4.640654927057861, 4.690344414585505, 4.610624564874468, 4.618159122705149, 4.642982554042818, 4.613782634556834, 8.550375965165484, 7.784437407442388, 6.689070392055703, 7.5362802791945525, 6.493802511536814, 7.57840330615162, 7.483608982031308, 7.607663193400497, 4.253670452682098, 7.472098771229835, 6.407325206430924, 6.41034468131832, 6.410217437049427, 6.45350512767293, 6.498110542149397, 7.477243711101826, 7.439025361117702, 6.521173601788515, 6.554444122649895, 6.714564790652952, 6.414278467679993, 7.606909619638556, 6.506550461935785, 6.601164275221932, 4.510892878550724, 6.408003758567833, 6.408204972419167, 4.344257455112427, 3.7857747658530765, 6.381726902784129, 6.4273702060720295, 7.5043115830892795, 7.477423163786665, 7.522452132000436, 7.635676955683857, 7.439348107837745, 7.552999595063783, 7.524968797456317, 7.451063789383444, 7.481218718714217, 4.469899074068091, 4.581925201359318, 4.482666023389155, 3.559050173525108, 4.6038806120989735, 3.8764343396023997, 4.641221217047381, 4.494467053291605, 3.558296393629923, 3.3966886164467556, 3.076631020432966, 4.157037358403943, 4.551962138189112, 4.546404165877796, 4.595271354279544, 4.020558472536916, 3.1567867078023997, 3.7767080594577007, 3.4928092895308906, 3.715779441921792, 3.6485363723267614, 4.576546712990574, 3.3355564666057096, 2.9944636913775384, 3.5487886612236417, 4.41909570030934, 3.162824160720655, 3.0100991049730683, 2.9948454641543423, 4.6106670484271195, 4.482748541725745, 4.459406430668898, 4.591742367407249, 4.074347389898364, 4.97947432464612, 4.04300255079202, 4.509060990338273, 4.677692897896088, 4.483359267248416, 4.489989083420723, 4.0150796596069345, 4.461605366766859, 4.535191973464026, 4.51354815833896, 4.462803311806362, 4.629888694479328, 4.441707554404735, 4.574331893889632, 4.496054675235721, 4.186619001893867, 6.273849244392173, 6.4545486839310495, 4.78046193518954, 6.231557099438369, 4.818869246163041, 4.8124676169431915, 4.980632937686966, 4.8022409305592095, 4.877545126758713, 2.892381105907906, 4.865440430290643, 2.996718451759126, 2.884533796342922, 3.0598989394095852, 2.8935752381551394, 4.844402076630598, 4.794111773280152, 4.916103582857688, 3.013590235822673, 4.776566901266026, 2.919023262696014, 2.970395808772347, 4.784864231767577, 5.052206471116749, 2.915712492890304, 2.9162246778416416, 2.895124845361106, 2.691255175287915, 2.466961401954697, 4.867135367866669, 5.098179539613581, 3.10281043190492, 4.858462454108528, 4.9174657791211605, 4.547925643551528, 4.852100660481147, 4.818814098996714, 4.77917280168083, 4.946409161883992, 4.855623203427949, 4.909032163714432, 4.794642420875247, 5.322325077593835, 3.4536826830981946, 3.5491517233356076, 4.6061378955230134, 4.50163879092569, 3.7096322702378206, 4.740141214574319, 4.476921798640894, 3.478138377088155, 4.517484749267113, 2.9787064225887567, 3.082113812224386, 3.046096253663519, 3.0124602381462333, 4.568311782501726, 3.327632280366842, 2.9881950068107406, 3.025498851045866, 3.828455012103272, 3.04082808227277, 3.0238894543258104, 3.145478365327853, 3.096616101859185, 3.192409748009228, 3.075095528335429, 3.025905387581749, 3.2540667010789828, 3.2039477935067624, 3.0497161499116214, 2.999361363050628, 2.9846697858898565, 2.9801839543268307, 3.1066309681498976, 3.2638830251229463, 3.119330545393943, 3.6109589562357414, 3.6278351691171045, 3.238677650353429, 3.6504883863597786, 3.650192376655068, 3.2615779215071306, 3.311080435884019, 3.434249006871657, 3.1861955593212716, 3.1749515511066577, 3.176527872868577, 3.1279883775095554, 3.1932960071893177, 3.3182931707582575, 3.3037951526948683, 3.1758132559479564, 3.1689136755576137, 3.104966953332867, 2.7115263324773795, 2.670795712167101, 4.452939249480178, 2.6443289597618804, 2.642506846814379, 4.453766806691122, 2.708340781022466, 3.096873477224351, 2.6548083722144873, 2.6915665077205055, 2.247801988134581, 2.6478308381423674, 4.487305492143686, 2.6452191383815236, 2.634827445224024, 2.684331329515439, 4.476165741035392, 3.187211330008133, 2.665284643143831, 2.646197410145767, 2.7639406937803153, 2.656386834790101, 4.40832044541039, 2.7063507430239686, 2.6643891171656815, 2.708989594704654, 2.7306102603457454, 4.403457547359649, 2.630992448493841, 4.496609164033607, 3.114497505542618, 3.2036774007480093, 3.2586920120515437, 3.097736200844493, 4.6201111633215035, 5.351392410770768, 3.7626427517582135, 3.6840885482167383, 3.7116972781913824, 3.645786979297994, 4.064776245949631, 3.61813942914286, 3.6861542469578454, 3.6499174268665557, 3.960719031937704, 3.955541758895884, 3.595343735552268, 3.56806863632163, 3.6351622187488726, 3.5837996009253477, 3.5260034101991784, 3.5675565670341203, 3.61385131845624, 3.5717924977735396, 3.5412005102084416, 3.530133005620502, 3.5248026697924906, 2.818916250928181, 3.0720618353198854, 2.891349794299798, 2.78545143618249, 2.8308515016103697, 2.788168330531674, 2.9061003211314396, 2.7978123416925866, 2.7392889116302497, 2.7547829764785066, 2.8069035254019834, 2.7641763434484123, 2.7475923835767415, 2.7425980559722944, 3.257055295909212, 2.7713859329355235, 2.8941481880694497, 2.7233737605261568, 2.9468262966565093, 2.7278610087584294, 2.831576188827103, 2.721201072183771, 2.9323277852181726, 2.8751449615657543, 2.8774658489525393, 2.8035417756305803, 2.7336637080078896, 2.7887311978112814, 2.766035602100274, 2.824332610649159, 3.2431780699175383, 3.171903324620098, 2.9844421571362045, 2.946076034557294, 4.34056919218497, 4.35260470364186, 4.142936239853536, 2.9369776214834666, 3.351416250042932, 2.8856716544725365, 2.9162789729199337, 3.180898799954051, 3.4061433439738873, 3.7306152736354665, 3.0682089025791472, 2.9550652113371427, 3.002010374331476, 2.9169022554732607, 2.9020195438688976, 3.285994493635944, 3.190101845760181, 3.0490430874334744, 2.966447629916769, 2.973751853207112, 3.0014562332626142, 2.9901335824305137, 2.9621722329845723, 2.913541132298184, 5.842437670727271, 5.538913119487308, 3.7148981431832286, 4.6196509806605786, 4.50330208700206, 4.523380846021611, 4.4609374580757075, 3.5715926597121874, 5.3261608572605965, 4.4728233374439625, 3.547319525590188, 3.560703440390779, 4.469552503853018, 2.6559351978871604, 2.725483785187864, 6.054535211395061, 6.210845117749019, 2.7707774966068586, 3.5867136565479028, 3.741628712255667, 3.615700552527562, 5.354607720379275, 3.577162632664357, 5.388744283607209, 3.632656283151388, 5.319388034469342, 3.5932318796385383, 3.6563050762096285, 3.554529398161663, 3.5444661158453696, 4.429404529435918, 4.44209544844742, 4.480692415637999, 4.477324129155969, 4.503931575596034, 4.523274963709901, 3.638605845352513, 4.034140435402354, 3.6326469479011134, 3.6069889014803858, 3.6117413759148658, 3.608271428817913, 6.170157635062511, 6.2018420554798945, 6.1766459143131325, 6.167814682458821, 6.168482022427045, 6.2255096215439485, 6.230350019080827, 6.37952269325247, 6.3538264404634495, 6.264613321369316, 6.178274740730673, 6.280432903837019, 6.178576154255809, 6.185640033275451, 6.332313317055216, 6.160163932407349, 6.23892986932924, 6.280391865729494, 6.175480500030324, 6.361371365679868, 6.315224711740963, 6.187595209753043, 6.19669662910861, 6.184407763626739, 6.200055845772376, 6.1813571607804905, 6.2047368326447065, 6.173062485538845, 3.620613550074123, 3.501805423968422, 6.663626318833133, 6.161470791448181, 6.278482201051218, 6.384316645814889, 6.442185943726289, 6.249184493734514, 6.270873792011662, 6.236600928660901, 2.7233376149199064, 2.677712186169384, 2.8149441520423357, 3.5426462437050583, 2.739057076754464, 2.906698478022052, 2.7082426183111004, 2.701854692119808, 2.6370112034706814, 2.666737108409974, 3.6802092164697036, 2.4662540493637555, 2.6967444885989327, 2.1889590793371343, 2.7231374781074775, 2.6734643074651205, 2.660576898895869, 2.641974019265163, 3.0331109341659013, 4.445574478367113, 2.7300978278574046, 2.638210447520446, 2.758053155697065, 3.0424022462304645, 2.7090864886420367, 2.6356708367835866, 2.7932394167524803, 2.6623862362809083, 2.658748617785023, 2.6269772900572317, 2.6912384287125053, 2.715491669707676, 2.937774204135379, 5.356245601591951, 2.6961320810551457, 2.6770695401724423, 2.67549712106739, 2.752146087842562, 2.73083776970489, 2.7504543051227093, 2.71757031728159, 2.689576511004083, 2.687107391770104, 2.680462996366974, 2.6415195846088713, 2.6461169196304835, 2.705994864018793, 2.81114303002525, 2.6332921681646986, 2.843911551568575, 2.633081003237588, 2.7734791941804136, 2.6918290688315536, 2.7950171399635924, 2.631892017259494, 2.730650706582016, 2.653587329634748, 2.692195787857561, 2.6306155065924637, 3.1130975032921318, 2.7783004508153173, 3.1270608173722305, 2.6854520198877445, 2.742452781553132, 2.683751202206759, 2.7202254842781843, 2.762587795836914, 2.720612977414548, 2.6873383619676883, 2.691604892684821, 2.6365500260263204, 2.568254186751468, 2.74306331429555, 2.6983607982885793, 2.7439062505195646, 2.9218141664119286, 2.8781653947907313, 3.8596653497732003, 3.9686493153262536, 3.0894758042402746, 2.8147045071051515, 2.837978906151709, 3.099870991261728, 2.7836501853292663, 2.7890202896485423, 2.890267659638436, 2.79778648234383, 3.742192475336667, 3.6778447889917536, 3.591081872508519, 3.544145049132318, 3.527606453858281, 3.535551364386454, 3.5335813806641805, 3.586691782915442, 3.528057503933057, 2.888532137422008, 2.9047828887647147, 2.8240838259752907, 2.8158379620686205, 3.285379677009261, 3.3800701179908335, 3.411487341970497, 3.4290881377438938, 3.3944343102564236, 3.2701365094184576, 2.6521749776152905, 3.2741036038291917, 2.516751667699629, 2.5564168106234004, 2.7066807914330857, 2.53710657682792, 2.533042743562827, 2.532795322788001, 3.272377623605998, 2.483778173175744, 2.5317819603712297, 2.87275611374302, 2.5528404812545693, 3.26795580311041, 3.4932396134443273, 2.4533696310607396, 2.4542893496907365, 3.3170584222258492, 3.263229688556565, 2.4996970799318303, 2.4912191467193416, 3.2675608982787154, 2.4892539105139804, 2.455817576698189, 2.5976144828686607, 2.836133960030849, 3.2593724649332114, 4.1898600105065, 3.945203042523642, 4.264060775042765, 3.024019494791036, 4.186799047136771, 3.7049058770222008, 3.6979345493513183, 3.654768492167457, 3.583236871547075, 2.855479380041309, 4.106075830383473, 4.108160724649112, 4.580207273889999, 3.2602391285555172, 3.6218692174897864, 3.3254920100328524, 3.187556271779261, 3.3387826185550535, 2.540053367659924, 2.600841106755528, 2.6118409348441753, 3.404534074124395, 2.8310129840924203, 2.5276823615732575, 2.865204600485047, 2.452461454417655, 2.264679109804403, 2.5758515158799202, 2.4442155691508676, 2.4409372847917763, 2.489645822888018, 2.5154475368078537, 2.5779105853247586, 2.5403411288947138, 2.462857059626006, 3.2987722068037515, 2.465795697753334, 2.4463494487749906, 2.4774901098539583, 2.462432889678939, 2.4478421070049325, 2.5152337063323653, 2.1483005548058904, 3.332461233867693, 2.5187295596318977, 2.0628716126685847, 2.5781429316985967, 2.5015428471086674, 4.1018188416695445, 2.575013434166144, 4.2827864266264015, 3.272331978453757, 3.3522430635682334, 4.045045083929968, 3.2945228870984313, 4.0681186357120875, 3.702122649011524, 3.3082967234838363, 3.2723727274455947, 6.743234328693938, 4.094510601018396, 3.3052227799880334, 3.3132967997303338, 3.3613493109557044, 4.067901594947137, 3.273929750884833, 4.122422324910317, 3.277452744735326, 3.3348238681039835, 4.062407214922523, 3.319421267442424, 3.401526568830043, 3.6229233472004254, 3.6725004882763232, 4.193657783843619, 3.8494249234082685, 4.1512781231069, 3.2891277915795576, 3.2756877227635464, 3.9931541806357824, 4.007515838542318, 3.9952569171206083, 3.6637782527979392, 3.2449014876252806, 3.8150717002666883, 3.230490542148328, 3.2140555320750765, 3.9470402089001606, 2.785071393887007, 3.6566239426091594, 2.045590964167732, 2.856741002491244, 2.917820673888679, 3.5956200381350767, 2.4096929992251606, 3.7120684660721217, 2.5296302476438686, 3.5916796795185766, 2.426772908864567, 2.6015294995800162, 2.0408410024347017, 1.6269382365207927, 2.059932978898822, 2.448773075590433, 2.533515416994921, 2.2568809263669536, 2.4392547940402443, 2.4623411633802106, 1.6851690246727382, 2.820078493122473, 5.099483916362255, 5.030320662095121, 4.963419769293676, 5.015796181793709, 4.979066474766016, 4.979305583824182, 4.97946058213071, 5.148711741676291, 4.990237349258146, 4.963916485034314, 4.952062890595875, 4.966443219459867, 5.020265313903126, 4.976163324665373, 4.965436679311782, 4.959013296655101, 3.673426561125488, 5.016706294774036, 5.015352455919472, 3.604675240562289, 2.5408806928221424, 2.5097647696872025, 1.7241677726900937, 2.509324375382158, 1.7522686424505467, 2.522970320695826, 1.6899788175433537, 1.8469381630148987, 1.75160269218976, 2.702808159634921, 3.1074363384111514, 2.1264283348461808, 1.6699458929471662, 2.505337444285779, 1.875359488428248, 1.7395249046651116, 2.4949842248244725, 1.6941901944000897, 1.696398744835141, 1.2665343728830425, 1.6689803846022933, 1.330922652364803, 1.693945914675976, 1.9822585090989149, 1.6824602535962412, 1.702033155983915, 1.667336842302575, 1.6682084703406326, 1.7097968496771065, 1.7422249326522206, 2.492875612438631, 1.7387318837262191, 1.9995871720363212, 2.5922146174512193, 1.8480585698117196, 1.7227795380136313, 1.7022133401425843, 1.8674865070474926, 1.7739077257621878, 1.7522293232551143, 1.7295334860973681, 1.737385041649585, 1.7308982785336249, 1.723328279361225, 2.9919802069068826, 3.004497257880874, 3.0210750668907767, 2.980842151202087, 3.010804082265819, 3.2825994897504467, 3.1227227605935184, 3.1926267691731396, 3.000841221385322, 2.988734979981551, 2.9933335132998327, 3.1174396791604257, 2.9950699591567718, 2.0244652967217136, 2.170186658210319, 3.0667216466871206, 2.9810540637297094, 2.0271499053953534, 2.0620476811032042, 2.075944592621568, 3.0267340530723237, 3.00259102757045, 2.020531358868866, 1.6371286540903478, 1.988937131691469, 2.799371914886982, 2.0102692586616113, 1.6826882448834615, 2.107611601022155, 2.0137020639086645, 2.731832962644297, 2.981225186426975, 2.6708596365589834, 2.8451748624610733, 2.8574616374502586, 2.75655440992623, 2.9047860643148216, 2.813293300793326, 2.717546455164988, 2.6797566697327193, 2.669682766763303, 3.490016714751313, 2.7338126735105845, 2.8234712827184802, 2.728056892263803, 3.108242909755064, 3.0230187274015345, 2.4130405150239387, 2.5557704949775917, 2.4451834920428803, 2.4058289807069198, 2.1582603891242935, 2.4255745340342965, 2.506289814135146, 2.4030367280107265, 1.7995866558392843, 2.9942264878521816, 2.459201324537415, 2.0763379616219133, 1.8700346083377397, 2.03672747100385, 1.8230892846779212, 2.4349686897078255, 2.133951778904793, 1.8048473848547502, 2.114413562495601, 2.51020527495848, 1.8932407412496337, 2.435425188328433, 2.4042773646055156, 1.817537163515386, 2.1764441493086224, 1.6687048930394328, 1.8454610519050068, 1.855064268234405, 1.9747587631145513, 2.4617295666480743, 4.731730793048214, 4.507487871878501, 4.4981456056652265, 3.7091727938538717, 3.6551109257526013, 3.7595118033094734, 3.703101580653023, 3.6166464218134085, 3.6111069834158225, 3.6362920738955906, 3.610539478201783, 3.613127604863347, 3.5950801750148136, 3.5956917146189684, 3.63906457103615, 3.7111465063520783, 3.6203080861812307, 3.6114708204897465, 2.4851882501999274, 2.4644771437259605, 1.7483596979073202, 1.9482564748605755, 1.5972773539321357, 2.182604058860103, 2.2379819721137375, 1.7818682015765228, 1.1792175092458497, 1.7703141664689763, 1.7803956287144542, 1.789778499162878, 1.763747113862941, 1.775129002650451, 0.9905671551633498, 2.097940708646571, 1.5433586324074287, 1.807288779358547, 1.3825877976555878, 1.8400911050774038, 2.042103019016022, 1.8546276807398612, 1.256531600272316, 0.9009938507757004, 1.2728493174597473, 1.7643270052100293, 1.4821034665549653, 0.9648495603100531, 1.7030747272981495, 1.234742526878384, 1.0648556020360065, 1.2198906465376138, 1.4850434336874667, 1.504401783752262, 1.5490552492159062, 1.5232002855880418, 1.7905826712084623, 2.088266253872097, 1.8073680126011231, 2.1247049348458575, 1.7637150385413616, 1.7884663489963282, 2.1525939620782064, 1.8691510414319548, 1.8496365097193403, 1.5766962249615082, 1.570289144886221, 1.5591080802330437], \"Total\": [64.0, 53.0, 60.0, 61.0, 51.0, 56.0, 48.0, 47.0, 55.0, 65.0, 48.0, 68.0, 49.0, 58.0, 32.0, 32.0, 46.0, 32.0, 43.0, 31.0, 48.0, 43.0, 49.0, 45.0, 46.0, 31.0, 32.0, 46.0, 32.0, 56.0, 21.913959867495862, 22.002832351874584, 22.273746923776237, 22.203773504777885, 22.699727230270607, 22.71437753065861, 22.673737429608998, 22.7715139147546, 16.802926503392587, 16.301049520430766, 16.83865991821478, 24.12208472320422, 17.45394006467563, 13.236243003856085, 13.635530415901439, 13.23515077918094, 17.380858625797448, 17.676907613150213, 17.671315253623117, 12.816026061167948, 14.623555765138013, 10.245522996023992, 12.783815989054002, 10.432512230956593, 14.926643644118613, 17.491079158727217, 12.161085017163357, 13.59712862368874, 13.165053157553942, 11.91721174910191, 12.24702054381163, 18.524301908791617, 18.9792199825891, 19.03373777075054, 18.9867937316058, 15.660039660960939, 25.269793465094313, 17.070909548296168, 16.433758837082248, 22.92443468289994, 28.083237098918083, 22.481708097889268, 14.242249966484755, 12.821416001451354, 13.185792808793966, 13.405235333858101, 14.202861987062514, 13.050711583900526, 16.36407699086264, 16.464697487950836, 13.24016919906304, 13.376698460125176, 13.57574718569971, 13.288792809302898, 13.461870801466514, 12.152344317594775, 14.729712445064962, 14.257407687111495, 11.154094537821434, 16.463237209697105, 13.575411489239384, 13.61120831689101, 14.884653101176465, 14.237149150249627, 14.190821213302982, 13.993476828089133, 13.656351262417525, 13.789372395725747, 13.939059979937468, 13.69200762705363, 14.47367173452235, 14.205458677392954, 16.75472912778535, 16.544226495969625, 20.111704816310993, 19.838625906169483, 15.486779807862362, 15.353138383895606, 17.672685636091433, 15.27866149820993, 15.627888283852133, 29.694571324442606, 30.990875548156808, 31.60675799525491, 15.757913419518031, 27.78927349869517, 15.75495179218349, 28.20132332242, 15.57323439693941, 34.44330581487917, 28.195154109710103, 29.13288683699997, 35.066848694213434, 28.85451172402678, 28.50560517199525, 31.223754477402572, 33.60462587011629, 31.373140677402752, 36.31833646126615, 29.951907933376628, 32.590599434567615, 16.499609595734142, 16.364699963840394, 60.29472488023818, 22.280182938016907, 20.620781107225028, 22.734230830862927, 23.113220443269626, 22.70716664653345, 22.928914603273412, 22.948279251458494, 23.31902889768818, 23.253846279361095, 23.15865889854627, 23.20448604484126, 23.334288291325453, 23.491320346696508, 21.577379014132873, 21.459581593355793, 23.754715482702526, 21.634966802385033, 21.546906268363873, 21.87302616840322, 22.6572353402043, 24.781387964780215, 32.35608979483365, 31.190770803989803, 24.743419627682666, 14.960294123053238, 32.729861497483725, 13.700615536136363, 16.082116685804962, 22.67622965489887, 31.786602130398503, 32.87332496035199, 32.31713147884653, 32.50221171306997, 32.48090709924685, 35.58023094102694, 25.569351071571386, 25.455652486106533, 27.21349577932911, 65.29110339963495, 23.921549963073588, 13.55184123981942, 12.418179681994038, 13.232240961017961, 12.909725335712418, 12.834121362808736, 13.177613544575037, 12.995541121962987, 10.582182412374168, 13.339321211271082, 13.686437084453324, 13.724530194813182, 11.483969618187485, 12.038473711205018, 13.85798824596662, 13.54346655278073, 12.456171152505949, 13.869622940443362, 13.949366009718561, 13.676255881890631, 13.691873572755222, 11.036730069473192, 13.766547862141696, 13.79381964232731, 11.077008992998127, 11.11695042906336, 13.888292472675221, 12.673317675701874, 14.236505660488909, 14.34279329527186, 11.239346843115827, 14.432421491059314, 26.50602962409537, 26.098071850604214, 26.83010334399721, 14.157891751839143, 14.298813363662674, 15.329824588525085, 14.89652536309758, 14.337525939966305, 15.40091139291737, 25.00549421879022, 25.55225235559475, 24.935743290031912, 25.50914008640746, 26.300184943924446, 15.895945565533566, 26.829946884241075, 27.51945043761136, 29.7008419384434, 31.26339389537654, 55.796257536745074, 58.169772651913576, 68.90020656120168, 46.71652236537319, 18.00162372088088, 45.791770643420875, 46.527930142602045, 46.16071196588082, 43.97675184759757, 43.854272271548105, 28.975142462265747, 17.27160708917004, 19.286260206603206, 16.20038253139284, 15.914899152956561, 11.720269404213138, 15.932405832664447, 16.299230042007576, 23.728838991028486, 16.80418544683785, 17.402951443407147, 16.84987639888364, 12.368641966316558, 11.337120062350873, 9.924231574387944, 12.583119716200901, 17.288423193715282, 12.416204620840508, 11.131050042569184, 10.455092253058666, 10.21153251019348, 10.133534443273284, 17.58189324627818, 20.15755304406867, 15.482837489764856, 7.706431557255183, 10.861227677448046, 18.015388313487268, 18.662610317487133, 10.770199554450693, 13.205359622627705, 10.450802514657273, 11.886177249660086, 10.56255654470106, 10.986560907939559, 21.196733662916913, 18.77666258799567, 13.58115715883636, 19.448188388561366, 13.686741683878124, 21.0921882572105, 22.716066848824948, 23.41358376769662, 13.626412381143927, 22.00074319467611, 15.341932391678904, 17.50323630777098, 34.19617382490887, 38.36291365289957, 36.89408483826543, 13.140045241757601, 13.103812489350739, 15.52765863921766, 13.373091615742197, 13.430480722187632, 14.002501585576827, 11.777037202246257, 13.962465590940534, 14.020561102154966, 13.959160396534932, 14.23384772110203, 14.161779591339204, 14.371225766701855, 14.297109577307127, 14.225493939021089, 14.525159638751141, 14.3851014062187, 14.330588041774602, 9.940442672334267, 14.456211675837844, 14.653309841139695, 14.587877415554225, 14.571520958561234, 14.554626561872224, 14.583478309960586, 9.843188455582991, 14.765424204466692, 14.822844127845741, 7.818906209321655, 10.568567197533275, 10.879060644132203, 15.317766981702073, 13.480258807269172, 15.263001182610285, 12.634018423158071, 15.602951031009185, 28.812714454997423, 28.162862066827813, 28.798152477587227, 28.488129072595388, 29.832045725428635, 29.07428866783322, 35.246598652614274, 36.39091758484491, 33.887748776875334, 20.799065256279164, 9.761689199416523, 9.790530907254162, 10.54331770398024, 10.253539467767048, 10.836913186789658, 10.146601054903956, 12.904212556617345, 11.660364319117406, 10.639012512996628, 9.279810821215396, 10.624541712551792, 9.295506835069833, 10.718752698103588, 8.124093885929657, 9.466829272536483, 11.463229517532541, 11.041731248889533, 8.088815857461942, 11.06907467679155, 11.009796061709975, 13.741532672672038, 8.227298099208085, 11.132400732558787, 14.377669201754864, 11.133017489112152, 11.009414623485604, 8.811109563337595, 8.27764908694308, 11.770278181953879, 11.340386225124762, 18.702675551374753, 14.454119574155849, 12.629099425260216, 14.374492986523089, 14.272468176656618, 14.82516552292365, 15.368503164182851, 15.202377792073136, 15.337463139871215, 14.158323747316944, 17.007913923954785, 17.79650036105217, 16.98100170568232, 17.02585801378051, 68.90020656120168, 29.477502845029306, 12.883526813531322, 18.76217429426194, 55.796257536745074, 58.169772651913576, 12.127936375672952, 65.29110339963495, 56.34320751094172, 48.831902519271495, 49.23490903057877, 20.86824486511836, 46.58743014610444, 11.287556119834546, 12.593456834652411, 12.599622889366257, 11.673660809829402, 12.992400937534711, 12.153297143274987, 12.862435751302492, 12.55325855698069, 12.608149219640042, 12.618590375406635, 10.090364131923822, 7.6857982578301804, 12.723444232339231, 13.018778148433706, 12.982835716389738, 13.019066321986665, 6.556553207106144, 13.812304673748416, 7.959713053499951, 10.845845355113669, 11.934077763828354, 8.27946718314175, 9.6363454981764, 13.993243057253197, 7.158675169196036, 8.707407009576874, 14.118103067224531, 8.554691281048132, 10.175336853839928, 8.795159871806282, 9.627300865196577, 22.47486861839867, 10.157462354396337, 20.870655812453993, 12.706779845426173, 11.818563772426081, 23.530398195133582, 12.637151565879453, 20.661933020126696, 21.539334544975755, 21.398185049313163, 21.390548531102922, 21.594101416186554, 21.78730211768247, 23.043339275877507, 33.57029116670757, 33.07349518284499, 48.831902519271495, 49.23490903057877, 56.34320751094172, 32.93781614925252, 33.56594552526707, 33.99506275918635, 35.36884550061514, 25.79057101066309, 12.41735117056296, 12.851337275334117, 11.264108295789665, 15.711041477436284, 13.901800709712296, 11.419111544605098, 12.6292203804617, 11.586182135538431, 13.056725438215793, 16.370559260605027, 14.45595263559011, 12.299477516188349, 11.799157454848888, 16.485223795433363, 14.478273984146158, 19.154562843981495, 11.955935022599718, 14.432972035968113, 12.50522035147075, 12.302543171966533, 12.223743421549255, 16.762305765544866, 15.618109158910675, 12.51450333232033, 12.118989667220035, 17.77230671043923, 12.375994950950043, 11.057573536939811, 12.170282073769274, 7.897668890210245, 14.66466039648488, 17.38809142722125, 16.485169103790184, 16.201822084295816, 16.127115433249088, 14.89996874963801, 14.983000005275201, 15.204420103687703, 26.005694302453673, 15.360977924624187, 30.698184477359874, 27.965877192995606, 21.98283874656754, 15.872589805718455, 32.1440941245839, 35.25491501163963, 36.10302665455644, 17.4602287095786, 18.15110863788664, 20.52340422958411, 19.92283807832453, 18.700534128302408, 19.647263238037674, 28.2021593378631, 23.761574898360077, 23.72765656092805, 20.76549790046308, 10.258971726558913, 11.119977330631933, 10.504253215719968, 10.384033706790955, 10.870559911606515, 13.396277318115155, 10.791545446283907, 14.199584829623724, 9.784484119660577, 10.34474116786198, 11.168529937130872, 13.572599380789633, 13.745352251382698, 14.172974094161399, 11.424926719179295, 10.138367342857622, 10.285408131701855, 14.248295777131212, 10.722691382337368, 11.40894217450777, 11.320938380069583, 10.50257048144051, 11.171682728658961, 11.0953571036705, 9.310142304295502, 12.726655099852108, 13.184163118433116, 9.729453715270463, 11.91129858728499, 13.138637178338545, 11.759239219219207, 13.25882765702717, 14.015561595489665, 12.440345755987655, 12.896053816432802, 36.89408483826543, 34.59135137172803, 33.020715124906616, 31.522740404913495, 33.2679641700639, 32.51730762018269, 33.23014964802396, 32.69366644282092, 33.266529892762875, 32.88832483275588, 33.09089241464548, 36.18730803767465, 35.89148462571245, 35.649275960571046, 34.19617382490887, 36.22892829405128, 35.43354653072467, 35.46269627499416, 38.36291365289957, 45.38564232965537, 10.891950335207923, 10.860863161336612, 7.053477400057176, 11.346937081990307, 11.517816029632803, 14.820218832589676, 9.216877679716553, 11.699804957736983, 15.4176717784245, 12.139132699677102, 7.166184148564217, 12.15042052487417, 11.9861257753224, 12.083020758510209, 7.739207898514702, 12.29678670222558, 8.702910408130547, 12.771403033906486, 8.74489422340022, 8.218902777153527, 7.889298946794804, 7.566288054094055, 7.76439185576027, 8.960275919412016, 12.777546530900475, 7.9158373949654495, 7.817278523384632, 7.873031586817261, 7.916822212180738, 13.340568245646878, 13.405527605343433, 13.235722166680139, 18.55682626004243, 13.856658688702641, 14.422235937994769, 10.634292063829529, 19.230363051439674, 14.224839815900902, 14.170921045549198, 15.057028452949151, 20.699647193824248, 11.15133317664685, 11.197767373349729, 16.515025224711916, 15.674747607769739, 15.714547631808339, 15.642510287656625, 17.287772600390696, 49.271741492452456, 17.210166751193984, 29.19165367546479, 28.056438181217107, 10.614358198013628, 10.888461754235832, 11.186573434650292, 11.117227084446922, 11.204703952471402, 10.98919267924586, 11.040592897456978, 11.156996403846719, 11.540369703170752, 11.325090959110993, 11.138858307866986, 11.181592214153103, 11.929344010154475, 11.743671784741625, 11.28348327950966, 11.460095282652789, 11.36535580300948, 11.31758080917006, 11.5108101299145, 11.354871004658904, 11.373436274468466, 11.381832760346665, 11.757017746534544, 11.63389167472674, 12.33466003142599, 11.576647036564845, 11.406177164507271, 11.766054226981504, 11.61292304508277, 11.626788436549582, 11.851902727064456, 15.440513518940447, 12.23558799896085, 11.96918574868999, 17.06948023519746, 12.39761208644004, 18.372055003009493, 13.400149399226846, 12.729377700691368, 12.158964386077747, 12.671327340874212, 43.97675184759757, 46.16071196588082, 45.791770643420875, 43.854272271548105, 46.527930142602045, 46.71652236537319, 15.46204355726392, 55.796257536745074, 58.169772651913576, 68.90020656120168, 18.38763011522346, 19.934484953853786, 14.825840070238852, 9.383629457361545, 11.652241726534228, 9.561147785267234, 9.037767382976691, 11.335828927523755, 12.142300298403795, 12.180210508556497, 8.926116046800361, 12.210688153360875, 9.687187238975541, 12.333528520911006, 12.498952341271378, 10.011804603111905, 8.954073686361955, 9.152781687123076, 9.160155473737817, 9.01762352781883, 10.586084291890993, 10.368840189471516, 10.64301395142709, 9.468074886825045, 10.624658482898269, 10.481613685908185, 10.9525151680842, 10.472272266397416, 11.89533928816295, 9.411799535253364, 10.743089914545076, 10.880853111334567, 9.599601796394376, 10.754201398007673, 10.918259998040053, 11.142119649465831, 10.791832764560878, 11.088625351627813, 12.293620181612434, 12.86137301583302, 11.969373848767402, 27.559309540295033, 12.864785863395415, 18.38157561328944, 13.725093340605502, 13.339449353646994, 12.878524940580341, 9.48125936383762, 9.279004956411942, 9.45675342672571, 10.463134478572691, 9.909125048867107, 9.679130092934232, 7.396375907818879, 7.2370534894081695, 7.4093558091751435, 10.33704176009983, 7.567449556244718, 7.305206315940952, 10.139114432628205, 10.325601166596671, 9.885619834564462, 10.276045422906286, 10.565787068962624, 10.272716288293415, 7.590589503395295, 7.538592336818089, 10.246590507181828, 10.006818249790971, 7.78617288717258, 7.862503310967486, 7.725541648741235, 8.094782791561805, 8.7759450289513, 10.839631521825925, 7.801891068067274, 7.903104625209728, 10.48680685116474, 10.724652871694648, 10.831461062411611, 10.75343249473646, 11.484373220191607, 11.18443535478789, 13.05617804512831, 36.31833646126615, 16.31768907138991, 37.56609581692267, 46.527930142602045, 43.97675184759757, 43.854272271548105, 46.16071196588082, 45.791770643420875, 46.71652236537319, 33.60462587011629, 55.796257536745074, 68.90020656120168, 58.169772651913576, 56.509210721572344, 32.590599434567615, 51.00291245292913, 53.484654748860834, 60.29472488023818, 61.03076665832756, 64.81447411229742, 29.951907933376628, 31.373140677402752, 13.54747356611109, 10.122736406865647, 9.297603597577623, 9.584967662245823, 9.293740730601014, 6.9301460689326415, 9.198764265763408, 9.392567998275625, 9.14613078159389, 6.85607839518697, 13.969346914825255, 9.757338114107805, 7.324816842088644, 9.649807293669962, 9.487394698348423, 10.002126455966218, 9.394760819134039, 9.488089461252383, 9.951138846372343, 7.1277542323793215, 9.789548626869067, 7.270953760919282, 14.712841959840132, 9.806329372619162, 11.348685464504246, 7.560243800496031, 9.916759249674001, 9.832501091756638, 9.931497035420541, 7.535198701763516, 9.939103057966264, 10.390822851497457, 10.625576560949373, 10.52300145515397, 10.355323842656484, 10.185080021146074, 10.04825218040986, 10.802459860952775, 11.115830669992478, 11.392645470331376, 11.727589818183928, 30.260301879011017, 12.635037689804722, 13.388734225489744, 29.19165367546479, 49.271741492452456, 11.077438600873872, 12.87120706688472, 12.794399370109879, 11.744027562590224, 56.509210721572344, 17.11024848421437, 48.6069152147445, 47.32469617916297, 48.67360250864251, 51.00291245292913, 53.484654748860834, 60.29472488023818, 61.03076665832756, 64.81447411229742, 14.995871426471469, 14.463358339419326, 12.728182854376984, 16.165682588078607, 12.571301468800703, 14.468093569016403, 10.73937073765302, 12.644414324470658, 8.474781005680105, 14.90807179161889, 19.290609954961468, 8.762490307529202, 13.027684297253467, 13.024494966985564, 20.029485569103166, 10.97044336797542, 10.965650945266685, 11.013570181550634, 13.214632124982213, 8.839416553185249, 9.843220429945951, 9.379168346552111, 13.386710958266763, 9.112737537791553, 9.25187327192414, 13.25285654938191, 20.351091098628014, 16.64230903253117, 9.126929804964853, 9.124182441421931, 9.303928664810142, 11.437945921686978, 18.572442197316875, 11.607471702248255, 17.517074586081822, 14.222987825719875, 20.044800715277034, 19.73966352483271, 23.97553037029409, 11.59656744261755, 12.071400130547726, 16.067608656092816, 15.40199219829425, 17.15522428967912, 15.710964912748606, 20.65154242686491, 13.620584983746102, 15.677074987585952, 15.052780888552606, 11.174917608147492, 11.426534466209597, 11.517505833150377, 11.111623244606266, 11.67956977971678, 8.93986059154361, 12.108416306123958, 12.116533280439986, 9.167895140783573, 11.864540216364418, 11.878325874318577, 11.823078474211593, 9.47093653545515, 9.61705117122762, 12.043255436493403, 13.406771481864801, 6.792030398092039, 9.58997223630555, 12.825490453374648, 10.13950627742921, 7.013261076460958, 10.879753206569122, 10.355922231593416, 9.13726340756941, 10.26152521622247, 7.381289831509117, 10.827643330547728, 7.566099399693936, 8.65688162943824, 9.681205664890523, 13.765264117673546, 11.03815098111183, 14.979440585520363, 14.351374043544382, 14.507502061004052, 14.566725558713182, 15.919513686629157, 17.304388154654497, 15.923141461174955, 16.34300564274455, 18.343052355897004, 17.22653388129702, 15.51058924020903, 13.407846237615217, 12.17201229897016, 16.014633877891164, 12.008319249010384, 12.59866796790972, 12.290717812394988, 11.259025080309746, 12.551199394314333, 10.711388260328118, 10.671107538161426, 12.876351643570692, 10.788967394646757, 10.757829556217086, 10.762146322880255, 11.048575330693813, 10.913146024532175, 13.045534766978122, 11.076545053222194, 12.246634370420091, 11.202326733836163, 11.13181897766543, 11.297315062721946, 11.25777600230808, 11.202279728986472, 13.377590168377424, 13.455509120438906, 11.354334133715742, 12.455823269369608, 11.727265184160931, 11.433691327899853, 12.611145243118296, 6.989802925891064, 11.528054541031025, 11.820612313787395, 14.172532272929312, 12.18603681827057, 13.182324113425427, 12.542292209268911, 28.798152477587227, 28.162862066827813, 28.812714454997423, 29.07428866783322, 28.488129072595388, 36.39091758484491, 29.832045725428635, 35.246598652614274, 33.887748776875334, 15.141447618460864, 12.46629920426709, 13.395496791459564, 12.506476314612941, 8.915710634948132, 11.404087219057054, 11.900011502833344, 9.610321719308027, 10.033912769070083, 12.114364244383793, 10.007940847949888, 10.313193556392665, 10.219269231600505, 12.538206586914493, 10.398527828511392, 7.281756147986679, 7.357279125491351, 13.278223044652387, 10.804130375440126, 11.191889256510716, 11.24269298299773, 5.629362158255437, 10.014528924634964, 13.754491842431262, 8.93988917557013, 10.768158801101393, 10.22191465923293, 7.896542836029715, 11.467248593462347, 8.42084323740722, 8.140077156305386, 10.332378961609948, 12.010687344558185, 9.244891024253846, 11.034912532692493, 11.808679141252671, 12.132350268059898, 10.698839408575141, 11.227956686921507, 12.395300869544593, 11.993782515261346, 12.662662993374685, 11.465148022095155, 12.399227754245667, 11.7447152340089, 12.154489646065782, 29.395704748613426, 14.722751034878886, 8.283938091389665, 8.99325128245825, 8.887057229612795, 8.557888602613254, 8.958649461396696, 8.680575547755025, 9.6732236861345, 9.865624552095351, 6.748902589307192, 9.441230940472373, 9.061390618129833, 9.5278615451873, 9.104150169935334, 10.324344731040357, 9.206732421249644, 9.212245194244629, 9.48705542031151, 9.22606184250169, 7.587443964399019, 9.409124195938606, 9.430981194388336, 7.014969514586701, 9.687923393731207, 9.358825136816957, 7.442075323646749, 7.262396927374529, 9.544741909199992, 9.43964100983347, 9.707541422060894, 10.408272814206684, 9.566669214626438, 9.543971013783123, 9.85506025949907, 9.69121158175556, 10.074911473843263, 10.875564265372594, 19.489032927255863, 19.116796084606047, 18.34671960845384, 19.802924248830372, 18.88585312882391, 19.352893556477635, 49.271741492452456, 13.43924318288504, 29.19165367546479, 30.260301879011017, 10.593496152848807, 10.071105738438579, 12.436227673008341, 20.89468174821536, 30.698184477359874, 27.965877192995606, 10.16411548561265, 12.048721593011026, 9.07151345323666, 11.566003886362935, 12.728497546018534, 14.089952316527016, 14.095584486962426, 13.37288694760756, 13.143186355048016, 9.870298914986341, 8.921468238584064, 9.061390229041285, 9.345049666130588, 8.974634938119156, 13.485212166634936, 9.256546667714753, 6.772980097430267, 12.732352114920797, 9.29497680524385, 13.919669619031888, 6.9093493660562935, 10.494020894854215, 10.433351953846035, 9.351556107052321, 10.594699681434607, 6.994226379179085, 9.677770505715518, 10.53120889068761, 10.57538642995601, 10.81077383675746, 15.58669678443963, 14.420460419744352, 14.360841656274701, 10.580793897489347, 10.901506238183694, 10.799340597658597, 17.383237876574785, 19.660549950279925, 20.093987418038168, 20.486036382540423, 23.886669339778557, 22.918938720607787, 26.79399534259826, 14.126008806529896, 12.120582427070406, 12.045523269307129, 15.729614425678061, 13.993224805864688, 17.688221167763892, 20.19186622526914, 13.025729200728913, 43.935266327819036, 21.96947238017711, 9.358415906220491, 8.689826470099264, 10.445908010621347, 6.994796295049222, 7.2830653355626795, 11.082013245757453, 7.23659770846218, 7.391211416971832, 7.236803702567378, 7.174721231229435, 11.319454316071228, 7.308799922087823, 8.556922270870695, 7.428602871069858, 7.601437264734646, 8.741060729672489, 7.450885250916991, 8.126344424888734, 7.406132240479431, 7.629724610587907, 7.833672006832084, 7.825066685194168, 7.653590441986324, 7.504909634578522, 8.310927397915883, 8.567995665655886, 7.67073836629961, 7.629614854482454, 10.21023041260978, 7.842646761722824, 10.265206387924755, 10.674040230386561, 8.574769130324121, 9.150156205092163, 10.960178019413851, 13.59550321189339, 12.280383571791704, 14.19334466798423, 13.958974424649803, 10.331514170267683, 12.586825416748063, 15.83543882580951, 10.33494170914283, 9.684634471705794, 12.970532762112652, 21.97124948184209, 13.420918037952307, 18.036316709195432, 17.616244263790808, 18.188845713586115, 20.24186899805313, 13.287670167444887, 14.555089344858073, 18.87696136171557, 18.628725093035026, 13.852815165870418, 20.679328627818975, 15.544994904332198, 15.48818967100065, 16.40677827945725, 28.322646784815372, 29.515662428884802, 35.24967032779073, 16.672297651916903, 17.15308408924456, 15.183637732285732, 10.131247555406382, 8.447491829751876, 10.810589818899201, 9.424157936743246, 9.788940504881966, 8.96536733621007, 8.861011424420457, 9.225311565832351, 9.139306836164046, 9.204883414804906, 11.208772623274271, 9.034302460240383, 10.506575467865826, 9.219295644423381, 11.332364128809722, 11.901028904898967, 8.285973601160165, 9.315496868196501, 10.54137548951618, 9.603703912085871, 9.668935661343728, 11.773080028218574, 12.284124709109216, 9.760827197553274, 10.469098639377128, 10.685466783873693, 7.398976007453107, 10.684022524498848, 12.202705993761908, 7.247194269521175, 9.710070538372598, 9.661758470167568, 9.775669756611688, 12.632522840155573, 9.835487958034086, 11.608348791752645, 17.959743581916445, 19.425547203286797, 11.136565562559596, 10.4324574092191, 14.05160358746612, 10.901434018058524, 12.347987211522364, 15.764772958446908, 24.044416496626088, 16.209065437678476, 11.750024105475632, 12.95404021968923, 11.541472985395604, 10.324731077037347, 11.625191604434459, 10.83381763551518, 9.942901872968047, 12.58161123929819, 10.239481388870368, 12.14729599084256, 11.061511759625137, 11.680632179942279, 10.437739478089622, 12.725690892172427, 12.694382082730906, 6.524206132741427, 10.645402275313032, 13.034145584256411, 13.240412275713599, 14.124888752771618, 14.143328713555878, 12.299471385708062, 6.640242777787301, 14.294788648951673, 14.58648290616675, 13.288862275068839, 9.22420935717291, 13.565598464847616, 13.469187256749091, 12.58937754441506, 15.786137542306848, 13.804414082250874, 14.169893655558257, 13.841998646886365, 17.244300185805788, 14.374323853528757, 13.773868040734786, 15.81678838165062, 14.31994052092442, 14.260865053708818, 15.107543249313029, 19.625625203586445, 14.381311991565369, 64.81447411229742, 15.426190070668756, 30.674578599024446, 60.29472488023818, 61.03076665832756, 30.28815338715865, 32.29570924660704, 56.509210721572344, 48.67360250864251, 47.32469617916297, 48.6069152147445, 53.484654748860834, 51.00291245292913, 11.055865071949748, 11.452067112032818, 12.032416422769078, 11.353485060779665, 11.346280936196749, 11.622113900903267, 12.126708178780538, 12.204991970781073, 12.197514194943, 12.17466486817338, 8.284602819243302, 12.15105392214511, 12.400720861743325, 12.31158378939623, 6.210879544240197, 12.314553351760305, 12.955511553275631, 12.744337488239243, 9.007463209552663, 12.917510320634944, 12.938106377773034, 12.88458139762349, 12.962011681846501, 8.874662091775207, 13.105398117499243, 11.044260326742284, 13.703571638791418, 9.008843099693776, 11.23615048652419, 13.725323507560974, 13.759640413665876, 13.792593196057606, 14.073952572257797, 14.206429411714767, 15.214718041044769, 15.030054523875512, 16.270925394496153, 15.528207074854919, 48.6069152147445, 64.81447411229742, 53.484654748860834, 56.509210721572344, 48.67360250864251, 15.93465281862125, 47.32469617916297, 51.00291245292913, 61.03076665832756, 60.29472488023818, 16.90817510188716, 15.218545229318247, 16.681393151286873, 8.528763547459965, 10.497892368229172, 8.844071226125818, 8.750097373224712, 7.045981513847874, 8.665222282442782, 8.51712806166667, 8.583371373163317, 8.587854666022007, 8.77086313867518, 8.998269010210084, 8.730002234315377, 9.216572099048564, 9.008235150198713, 8.969407930782722, 9.0923130491496, 9.566435954362314, 9.497946958132733, 9.204486495353638, 6.609598613162597, 9.357732128680139, 9.458435372987536, 9.878437249234734, 9.924421417464012, 9.836120565200392, 9.642729961289723, 10.145577570443024, 9.804845246543339, 10.636022960969248, 9.213321755917342, 9.785438257420388, 9.846692514876894, 15.591821323520564, 10.194704154898028, 9.944588214450167, 10.866510694916968, 10.286529686323584, 10.169507570596831, 10.865128885302342, 11.471933138640734, 10.059345540130806, 10.253756277396914, 10.191008985680483, 12.21572354683217, 12.21933393804407, 10.486654661622724, 8.426445552000068, 12.688893767951056, 8.575903547353926, 11.312977142752798, 8.661739238821024, 8.980321839345287, 8.712571428756435, 9.191533358101863, 9.065239717843246, 9.207799825534284, 9.121746453798028, 9.613950116247903, 13.811241613516438, 9.327337920436564, 9.872742187638789, 6.386943769117094, 14.394598318308446, 7.835200011030357, 7.408362437255397, 9.789743747123863, 9.897970333667722, 8.993257395305024, 7.611459924247044, 10.256391371760042, 7.8275595064119, 7.330355712557349, 11.290200937069246, 11.423090215561002, 10.131859184796856, 11.109732986206637, 11.756155829620187, 10.183582969008201, 16.40677827945725, 16.75331011475648, 16.448962541031765, 16.733451170240265, 16.672297651916903, 18.188845713586115, 18.971371992918286, 17.15308408924456, 16.94851936073487, 17.37471288593857, 18.036316709195432, 18.87696136171557, 17.616244263790808, 17.95373492540801, 18.628725093035026, 20.679328627818975, 16.301237618550406, 20.24186899805313, 21.97124948184209, 15.599271924393612, 15.5646895425155, 15.83822890137398, 11.091052175165379, 10.223479955118346, 10.296353731850513, 10.893895160267157, 8.26271964351529, 7.234540648394001, 8.35584000420653, 8.53205278100411, 10.143223335618924, 8.560203352594787, 7.459120905829294, 9.128135095672917, 8.63883181253582, 8.72114491332894, 6.780666902226309, 10.015507586656321, 8.885637726479816, 8.827264576571848, 8.971161817538585, 9.645233194167975, 7.449136194555393, 9.18520288251454, 6.967013836244644, 9.10715006481986, 9.261375734266263, 11.426316034871867, 7.1126326541705405, 9.460259093085574, 11.814444372987989, 13.117747481254598, 12.222063673379207, 10.02468865239111, 12.246256370555512, 15.854280636346708, 10.236066690370327, 9.740957973934025, 11.220892764454096, 10.128629007986126, 11.48601860384748, 9.878996311465961, 10.146315040529593, 24.264949900631663, 14.498877911589537, 12.491612349161844, 12.045664812508134, 10.370025964676433, 11.814201393212873, 10.278853391877922, 12.088782544189403, 11.953296122044922, 12.247382362740453, 6.889744270328145, 12.244134329125327, 10.623688262100808, 10.736388123104271, 10.909804147397201, 11.05137019191477, 11.13626162360849, 12.913868709517748, 13.087123201566275, 11.484776054696415, 11.622151646962639, 11.919798873131406, 11.408344015986978, 13.54076928710661, 11.65066592450655, 11.895483457224971, 8.199332271220635, 11.699536331625664, 11.875671012789256, 8.163859918520501, 7.27119652075514, 12.259434484498577, 13.314981496601781, 21.379139714892023, 21.54283102255366, 21.91436412810862, 23.02777787606049, 23.017355152768115, 31.60675799525491, 31.223754477402572, 29.694571324442606, 30.990875548156808, 8.457409551911368, 8.839122365572873, 8.695136661917283, 7.221998779426569, 9.37542662619889, 7.929439517962049, 9.508572186748157, 9.347401995175103, 7.414249173293057, 7.147837471467139, 6.476650130970566, 8.809303296684277, 9.701811622130943, 9.698380815911802, 9.803878882709034, 8.604770940680513, 6.792192728062874, 8.171021187213622, 7.573018018020719, 8.110281176892368, 7.964025729138401, 10.065910525820287, 7.3435919188774275, 6.630446435690648, 7.8984040524244135, 9.847421049821142, 7.054260922228244, 6.724924388666401, 6.703771022864267, 10.439192294586618, 10.261726860603233, 10.23072784237039, 10.847293863624937, 9.555486120713562, 12.288548206988919, 9.548300643090803, 11.132360968492028, 12.862423163996674, 12.062717916483463, 12.283620310969496, 9.88041063737855, 12.806078085430215, 13.879668894636849, 14.122975127192062, 15.839239149940068, 49.23490903057877, 33.99506275918635, 56.34320751094172, 48.831902519271495, 33.56594552526707, 9.478485986695413, 11.361378723943147, 8.472578668215771, 11.538089260649631, 9.40451854050441, 9.507423866610509, 10.1581978206135, 9.911093106934754, 10.081103499473722, 6.03567180652652, 10.225026609245338, 6.322692095909327, 6.163743086732127, 6.539132836776808, 6.30261500724996, 10.571891023673768, 10.662068026012191, 11.042388293997147, 6.770924801808662, 10.796258098292473, 6.656411125833454, 6.895249282306669, 11.155158624485171, 11.936403120165656, 6.898778825865365, 6.956723471131075, 6.90744460394342, 6.421550000736372, 5.894891376657571, 11.68483307307097, 13.182731914316205, 7.594935400693819, 13.29590467329066, 13.559567484117618, 12.461551819440718, 13.620159121577725, 14.268805251051027, 14.276441170906446, 15.831424480814832, 15.899493335325651, 16.9949790183781, 16.571652339488885, 25.20471862057808, 9.696617118300871, 12.304747283395315, 8.234467904535482, 9.219525328324814, 7.672819098805981, 9.89907540461948, 9.414195588336007, 7.3923608156180896, 9.624263873668, 6.452028947020339, 6.805776736760138, 6.729393030031644, 6.729582789612268, 10.233171050794045, 7.536154324197416, 6.772697491928664, 6.871287711406703, 8.696136673141675, 6.953293419985743, 6.949308618179715, 7.246259102972781, 7.138974733514934, 7.3968296922850865, 7.175303327170372, 7.07788648495713, 7.714797041156224, 7.616386914057988, 7.313209699436198, 7.22274491819748, 7.256204043540444, 7.249374749842014, 7.602984599590362, 7.996954291987595, 7.635851192434841, 9.101678892645822, 9.476738987138805, 8.071626989030651, 9.733547388993507, 10.202659986532208, 8.376932639291077, 8.920966105547103, 10.395482981670755, 8.165861249333096, 8.274194114488301, 8.484906666457494, 7.912528085726655, 9.116788114195165, 13.457116075452095, 13.483902697173335, 12.176071472032488, 14.667526542242744, 7.013951373512096, 6.2375797481503, 6.163198099873032, 10.508267405911381, 6.383049472202501, 6.458813831132762, 10.886270153314015, 6.771267943410339, 7.750894521460086, 6.704141541115723, 6.818276148470528, 5.755682676199699, 6.809586119631392, 11.57155840390684, 6.857177521091976, 6.888707337733603, 7.0557288180376085, 12.099730636799322, 8.64029883559947, 7.24737098196953, 7.289661067757505, 7.726099651161197, 7.507412957500849, 12.618385458718116, 7.804404377135924, 7.707279509103686, 7.956622408779466, 8.114175965882847, 13.090428611331712, 7.823127354327502, 14.04439894683534, 9.599322734896715, 9.971063769217617, 10.527790391021371, 9.952008022783662, 21.285502127084193, 34.59135137172803, 18.4868256941836, 17.546293731148904, 17.937780594078028, 17.51532229449555, 24.321288312212307, 17.360495050564058, 18.38935097921847, 18.303769834115677, 24.211378941881325, 24.66357612330095, 18.06367808202541, 17.728233171792503, 19.119192980440758, 18.312351215832898, 17.272731333022428, 18.236597653919304, 19.891717730571195, 18.67764194655616, 18.33075121083521, 17.972486975057723, 19.38823186726689, 6.01119206245749, 6.642265981971416, 6.32271824093279, 6.366730801445898, 6.676455012686566, 6.641867207254162, 6.968829531359425, 6.775657066569146, 6.634544297596209, 6.693275858056752, 6.871769640074997, 6.7843585337995655, 6.797913095026132, 6.796995604775679, 8.08063334840257, 6.906499768161936, 7.2295820085979265, 6.863861228830607, 7.443974715921915, 6.961804500959445, 7.2927255560377695, 7.02982055867226, 7.580689914345904, 7.436915842265273, 7.464317440126513, 7.284175261694543, 7.114232807111592, 7.281091462088129, 7.244862394194101, 7.489043577861016, 8.721003328251065, 8.56919487325519, 8.134991351938398, 7.992529328637768, 20.80068011826275, 21.23442058167868, 19.76321981338001, 8.264218108531637, 12.2453016201541, 7.970902994988966, 8.268383463664708, 11.372702207705396, 15.103037386627259, 25.20471862057808, 10.720356660994819, 9.1319203887915, 9.977042959173616, 8.593062578479232, 8.70758962035474, 23.215071266030275, 24.61354411551173, 16.310097404823882, 11.60811225452004, 13.180900213349597, 18.636555774189862, 21.966256227445, 20.364470368192734, 10.725683279172697, 10.13147038499525, 10.000600593886617, 6.834325768334127, 8.846347556400987, 8.769383823622212, 8.835060155244634, 8.752170714390354, 7.17790726070525, 10.864473328054903, 9.154686363468608, 7.52209611213806, 7.577726343470934, 9.522667121091931, 5.790567607663847, 6.027843772628362, 13.426455350034226, 14.157709012263458, 6.350285434323951, 8.287631054226232, 8.718333228936999, 8.4391875485067, 12.597650030376112, 8.510936933594387, 12.843286871302697, 8.698524149463474, 12.797583926239986, 8.66078908467731, 8.816795650263565, 8.64869544064283, 8.71814228257225, 10.95565171039482, 11.659745599022997, 11.93522542628028, 12.03304265295542, 12.823177796179463, 15.344600989507652, 9.227258830089278, 20.93562392491142, 12.808367619194916, 10.261835520852916, 11.767929912781039, 13.267367121240419, 9.95638451330887, 10.03807370975086, 10.296176491542354, 10.304847982795428, 10.428873442194712, 10.774505080128817, 10.875703940251217, 11.141185530827364, 11.29861706265371, 11.18614873091632, 11.079357906649284, 11.286006723551376, 11.145740047889522, 11.179987812552767, 11.585990362284885, 11.447016500400439, 11.700997103798208, 11.979681760801276, 11.931902701398146, 12.386931448426175, 12.359815765933318, 12.129749440098829, 12.197356080102749, 12.205621583659257, 12.271394211603463, 12.679776758396791, 12.838846584291574, 12.775842510662045, 7.553951395980375, 7.383092747374614, 14.149412260250331, 13.447276245216342, 13.748198683786647, 14.084281693484996, 18.12590154710026, 14.207956281417772, 17.794719508783537, 25.75017433616322, 6.32980167466953, 6.230762872913436, 6.745223460617353, 8.564356411883676, 6.810714295363705, 7.334883781845001, 6.845633993314752, 6.836399909883129, 6.748024016952075, 6.866824505095171, 9.496395674202054, 6.468701647549212, 7.086488805224288, 5.7816018928389905, 7.204334971829237, 7.1107246632370735, 7.081504876835861, 7.11016278204916, 8.167443341337096, 12.071641901273923, 7.428087595362735, 7.232947672813553, 7.674189398882054, 8.511157258332672, 7.661113127431543, 7.459848465287541, 7.932612699548444, 7.604816867257709, 7.622152535142839, 7.66796917088829, 7.901546699874007, 8.034791107949342, 9.199772642485138, 30.231490442023183, 8.264976109522873, 7.98086646581859, 7.983358186325067, 11.214993165154885, 10.360553889519778, 11.969989289008932, 10.183721564501878, 9.253385052355716, 9.834810136734635, 56.34320751094172, 5.911903563040317, 6.1304406621428935, 6.299397784451659, 6.597459387261903, 6.269684463232508, 6.7718048573187914, 6.29324296223408, 6.831742355859736, 6.638844271651223, 6.8968702992078015, 6.502037365054615, 6.770025527986638, 6.6720273590349075, 6.780203552038962, 6.671961002363482, 7.953844015583904, 7.18449029653759, 8.105483983611343, 7.017372181038542, 7.180572585710337, 7.036930182801353, 7.1650717044026955, 7.334656469200422, 7.244526225962799, 7.208232941762539, 7.3255213872466385, 7.211201966759399, 7.075254747674872, 7.679228811339264, 7.648698077901486, 7.869212455978289, 8.731836836282923, 8.592800230207816, 15.00273018986581, 17.06304741480497, 10.548185144775884, 8.304024306607635, 8.53162534395617, 11.579961961273522, 8.409202548436228, 8.502982486090337, 10.336112813450715, 8.674983902234418, 61.03076665832756, 60.29472488023818, 53.484654748860834, 48.6069152147445, 47.32469617916297, 48.67360250864251, 51.00291245292913, 64.81447411229742, 56.509210721572344, 12.23497184544526, 16.159659166633936, 13.070048973939459, 14.427126440151342, 6.991255737423079, 7.503597557378729, 7.773527204958339, 7.993319538234416, 8.270004961901519, 8.057614718307391, 6.573557015770441, 8.294315600023486, 6.38463638965324, 6.5376200098692205, 6.972812890584264, 6.605238013089659, 6.637072121047698, 6.673240475611433, 8.686086349398986, 6.611359014246854, 6.796061435870019, 7.747863929316986, 6.908991441258841, 8.853718655737795, 9.471857155697029, 6.660848790454362, 6.676764313018004, 9.071884962802894, 9.016071597286125, 6.983985928204434, 6.975650662290833, 9.175615441891326, 7.033105515913605, 6.955857943412081, 7.374954818391068, 8.09204612326338, 9.464587688308209, 13.12248349939731, 12.319646079327336, 14.182540024380312, 9.041151730800653, 15.187204341181104, 12.68581293970746, 12.83886357267414, 13.179680183785136, 12.776995037713316, 8.501925440865751, 19.091713183787256, 20.828075226150645, 29.395704748613426, 12.270057549745172, 23.518084855093424, 20.89468174821536, 18.59019154721712, 36.720885591763626, 5.775009156861322, 6.426392625796549, 6.818021543324278, 8.903665963240705, 7.415189477449482, 6.634136185282347, 7.540779606189453, 6.477313695646906, 5.989396853824867, 6.89926577903313, 6.583950557346297, 6.57788845508194, 6.723748489699147, 6.796441725663291, 6.96866464207908, 6.917305751177821, 6.9419771418164435, 9.330144267862387, 6.9861683966072, 6.936735932034815, 7.089280064831919, 7.049001002342762, 7.036513864352364, 7.2350946734092245, 6.1800549152578625, 9.611746401486599, 7.26623311145271, 5.9822955253541705, 7.525603994626155, 7.335037092817467, 12.228097870299763, 7.558949204405076, 13.170631518879635, 9.867050495420441, 10.140960679407975, 12.725071842986912, 10.017329139735924, 13.094338705066052, 11.79398005939196, 10.278686379196769, 10.160980992188025, 26.84436565973564, 13.893130555652078, 10.51911445831582, 10.593584548605541, 10.894603837886379, 15.505473489013214, 10.714575696154986, 16.12676731163639, 10.806880915660521, 11.148685373085412, 16.096821378142714, 11.067141120886793, 11.71314796103453, 16.379387832291776, 20.389706004798754, 33.18283478462419, 24.68635237779248, 33.86783980326232, 14.431614143082648, 14.970785469879171, 8.239727489815998, 8.77269133783319, 9.233234198951763, 9.083623652942796, 8.328545643633387, 10.077946384651595, 8.675926518275993, 8.78339627888105, 11.079505671970075, 8.042944127493612, 10.634760420307165, 5.97345026351713, 8.56450756792733, 8.759874134541375, 10.81673381790794, 7.279317330984112, 11.268252792400425, 7.683432968879323, 10.960873340864595, 7.5281932572016945, 8.208968023331366, 6.5183995095482175, 5.2071693937241035, 6.6281971034045, 7.915230048154935, 8.206174697284414, 7.408352615429279, 8.21193133399663, 8.308482738484601, 5.686184613204858, 9.77458863932136, 19.190850754863252, 19.09224825863753, 19.064234341709486, 19.387503980964507, 19.580878297446713, 19.68699782792132, 19.972662932296593, 21.189166503029863, 20.49092885351479, 20.582908893537194, 20.650993781512053, 20.970987219794964, 21.344228689290482, 21.48743839495819, 21.81063721076345, 24.652837386741567, 15.220406108698102, 33.20950128738842, 37.97865590415061, 21.06673824296421, 6.84982642031705, 7.1462719162944515, 4.9210693003568675, 7.202735236924651, 5.170565505828271, 8.072615876936403, 5.448364376466805, 6.065843855662532, 5.953237034362934, 9.218684192478227, 10.982862395270537, 7.580831039950873, 5.954032552974481, 8.987574147989719, 6.798908533796674, 6.448372639207291, 9.418164073297383, 6.438772136072929, 6.466816833549142, 4.887740826917536, 6.483231451912615, 5.26619007920955, 6.727470738593002, 7.89725680131809, 6.707928714218221, 6.802131744023939, 6.721683301369618, 6.846049921754025, 7.079502685542827, 7.226714965707603, 11.150131653857798, 7.3056601392309695, 8.88920384679019, 18.10468263844742, 9.172774383212996, 7.324396626900649, 7.224132599743009, 21.97124948184209, 17.15308408924456, 20.24186899805313, 16.40677827945725, 20.679328627818975, 17.95373492540801, 16.75331011475648, 7.155150400096686, 7.2275839324607585, 7.328554592427144, 7.481477993220003, 7.5986561387214335, 8.288616587861993, 7.901154300075379, 8.15664774940699, 7.850912431561543, 7.989223325582119, 8.052342798833404, 8.482814732845313, 8.267476351794272, 5.74140123361593, 6.235316850854663, 8.842838819605188, 8.600468643729021, 5.929555277654715, 6.0358039950828255, 6.167058733144672, 8.996440763902655, 9.1683909230608, 6.250950413487734, 5.11380044937101, 6.412144190042052, 9.048318460832961, 6.5012717826015045, 5.44712613784162, 6.851892812432997, 6.59059840998248, 9.017387500077005, 10.241247745386026, 9.275595545579506, 10.182493883556393, 10.4643571031006, 9.965186597442688, 10.990070348119728, 10.834214298484781, 10.25493625914933, 10.064914411234318, 10.057906993620787, 17.88744140745961, 11.138428728509616, 13.165157450136794, 11.7703474012335, 7.313423449550727, 7.639148845089908, 6.140824509249904, 6.818479704850314, 6.541280681160306, 6.940753109834301, 6.272355264668475, 7.103952914584616, 7.606450835826325, 7.32692886500716, 5.515555788909119, 9.179978078184504, 7.581110218776621, 6.436435952396243, 5.835836472152982, 6.486489396449065, 5.823355026751287, 7.819410269590743, 6.8815772980245224, 5.953408459010054, 6.999454844258043, 8.318451194882739, 6.27855424567158, 8.084903636801167, 8.136175033704584, 6.164843601421828, 7.434327369032782, 5.711710341511704, 6.355186867924732, 6.440687685256874, 6.857055331689409, 9.254979261927534, 22.3462568841977, 21.436449727477555, 21.822191831387514, 20.45257223071381, 19.934484953853786, 21.021466267092354, 20.625875591310525, 19.912598001001207, 19.98017096452654, 20.911188312555648, 20.665248235159453, 21.47147942651476, 21.502687017760074, 21.527106880416, 22.13936966136191, 24.211378941881325, 24.321288312212307, 24.66357612330095, 20.80138151206054, 18.033305188774577, 4.818921590352966, 5.888664813471282, 5.518296223539669, 8.035291653965757, 8.331028691770324, 6.820928531165963, 4.527779811757121, 6.892937855718902, 6.9339213421229795, 6.974960702317111, 6.94774019812014, 7.094752055032432, 3.9803892065890114, 8.652728029196972, 6.453869069517422, 7.603328689592235, 5.917725720888511, 7.885179349949818, 8.916595641816826, 8.297655052036085, 5.641637241027452, 4.058706019300302, 5.9013957309832135, 8.230378885809479, 6.946060476968398, 4.524504810647024, 8.065303453233014, 5.855814625201856, 5.0683369260126545, 5.942911361850586, 7.278582472121337, 7.385336911968209, 7.747182217558722, 7.602859507445075, 9.29841573616432, 11.372702207705396, 9.656165707537452, 12.2453016201541, 9.442279705574553, 9.682105288238606, 15.103037386627259, 11.740933638774035, 18.743580277989526, 10.835350687720918, 12.283620310969496, 12.806078085430215], \"Category\": [\"Default\", \"Default\", \"Default\", \"Default\", \"Default\", \"Default\", \"Default\", \"Default\", \"Default\", \"Default\", \"Default\", \"Default\", \"Default\", \"Default\", \"Default\", \"Default\", \"Default\", \"Default\", \"Default\", \"Default\", \"Default\", \"Default\", \"Default\", \"Default\", \"Default\", \"Default\", \"Default\", \"Default\", \"Default\", \"Default\", \"Topic1\", \"Topic1\", \"Topic1\", \"Topic1\", \"Topic1\", \"Topic1\", \"Topic1\", \"Topic1\", \"Topic1\", \"Topic1\", \"Topic1\", \"Topic1\", \"Topic1\", \"Topic1\", \"Topic1\", \"Topic1\", \"Topic1\", \"Topic1\", \"Topic1\", \"Topic1\", \"Topic1\", \"Topic1\", \"Topic1\", \"Topic1\", \"Topic1\", \"Topic1\", \"Topic1\", \"Topic1\", \"Topic1\", \"Topic1\", \"Topic1\", \"Topic1\", \"Topic1\", \"Topic1\", \"Topic1\", \"Topic1\", \"Topic1\", \"Topic1\", \"Topic1\", \"Topic1\", \"Topic1\", \"Topic1\", \"Topic2\", \"Topic2\", \"Topic2\", \"Topic2\", \"Topic2\", \"Topic2\", \"Topic2\", \"Topic2\", \"Topic2\", \"Topic2\", \"Topic2\", \"Topic2\", \"Topic2\", \"Topic2\", \"Topic2\", \"Topic2\", \"Topic2\", \"Topic2\", \"Topic2\", \"Topic2\", \"Topic2\", \"Topic2\", \"Topic2\", \"Topic2\", \"Topic2\", \"Topic2\", \"Topic2\", \"Topic2\", \"Topic2\", \"Topic2\", \"Topic2\", \"Topic2\", \"Topic2\", \"Topic2\", \"Topic2\", \"Topic2\", \"Topic2\", \"Topic2\", \"Topic2\", \"Topic2\", \"Topic2\", \"Topic2\", \"Topic2\", \"Topic2\", \"Topic2\", \"Topic2\", \"Topic2\", \"Topic2\", \"Topic2\", \"Topic2\", \"Topic2\", \"Topic2\", \"Topic2\", \"Topic2\", \"Topic2\", \"Topic2\", \"Topic2\", \"Topic2\", \"Topic2\", \"Topic2\", \"Topic2\", \"Topic2\", \"Topic3\", \"Topic3\", \"Topic3\", \"Topic3\", \"Topic3\", \"Topic3\", \"Topic3\", \"Topic3\", \"Topic3\", \"Topic3\", \"Topic3\", \"Topic3\", \"Topic3\", \"Topic3\", \"Topic3\", \"Topic3\", \"Topic3\", \"Topic3\", \"Topic3\", \"Topic3\", \"Topic3\", \"Topic3\", \"Topic3\", \"Topic3\", \"Topic3\", \"Topic3\", \"Topic3\", \"Topic3\", \"Topic3\", \"Topic3\", \"Topic3\", \"Topic3\", \"Topic3\", \"Topic3\", \"Topic3\", \"Topic3\", \"Topic3\", \"Topic3\", \"Topic3\", \"Topic3\", \"Topic4\", \"Topic4\", \"Topic4\", \"Topic4\", \"Topic4\", \"Topic4\", \"Topic4\", \"Topic4\", \"Topic4\", \"Topic4\", \"Topic4\", \"Topic4\", \"Topic4\", \"Topic4\", \"Topic4\", \"Topic4\", \"Topic4\", \"Topic4\", \"Topic4\", \"Topic4\", \"Topic4\", \"Topic4\", \"Topic4\", \"Topic4\", \"Topic4\", \"Topic4\", \"Topic4\", \"Topic4\", \"Topic4\", \"Topic4\", \"Topic4\", \"Topic4\", \"Topic4\", \"Topic4\", \"Topic4\", \"Topic4\", \"Topic4\", \"Topic4\", \"Topic4\", \"Topic4\", \"Topic4\", \"Topic4\", \"Topic4\", \"Topic4\", \"Topic4\", \"Topic4\", \"Topic4\", \"Topic4\", \"Topic4\", \"Topic4\", \"Topic4\", \"Topic4\", \"Topic4\", \"Topic4\", \"Topic4\", \"Topic4\", \"Topic4\", \"Topic4\", \"Topic4\", \"Topic4\", \"Topic4\", \"Topic4\", \"Topic4\", \"Topic4\", \"Topic5\", \"Topic5\", \"Topic5\", \"Topic5\", \"Topic5\", \"Topic5\", \"Topic5\", \"Topic5\", \"Topic5\", \"Topic5\", \"Topic5\", \"Topic5\", \"Topic5\", \"Topic5\", \"Topic5\", \"Topic5\", \"Topic5\", \"Topic5\", \"Topic5\", \"Topic5\", \"Topic5\", \"Topic5\", \"Topic5\", \"Topic5\", \"Topic5\", \"Topic5\", \"Topic5\", \"Topic5\", \"Topic5\", \"Topic5\", \"Topic5\", \"Topic5\", \"Topic5\", \"Topic5\", \"Topic5\", \"Topic5\", \"Topic5\", \"Topic5\", \"Topic5\", \"Topic5\", \"Topic5\", \"Topic5\", \"Topic5\", \"Topic5\", \"Topic5\", \"Topic5\", \"Topic6\", \"Topic6\", \"Topic6\", \"Topic6\", \"Topic6\", \"Topic6\", \"Topic6\", \"Topic6\", \"Topic6\", \"Topic6\", \"Topic6\", \"Topic6\", \"Topic6\", \"Topic6\", \"Topic6\", \"Topic6\", \"Topic6\", \"Topic6\", \"Topic6\", \"Topic6\", \"Topic6\", \"Topic6\", \"Topic6\", \"Topic6\", \"Topic6\", \"Topic6\", \"Topic6\", \"Topic6\", \"Topic6\", \"Topic6\", \"Topic6\", \"Topic6\", \"Topic6\", \"Topic6\", \"Topic6\", \"Topic6\", \"Topic6\", \"Topic6\", \"Topic6\", \"Topic6\", \"Topic6\", \"Topic6\", \"Topic6\", \"Topic6\", \"Topic6\", \"Topic7\", \"Topic7\", \"Topic7\", \"Topic7\", \"Topic7\", \"Topic7\", \"Topic7\", \"Topic7\", \"Topic7\", \"Topic7\", \"Topic7\", \"Topic7\", \"Topic7\", \"Topic7\", \"Topic7\", \"Topic7\", \"Topic7\", \"Topic7\", \"Topic7\", \"Topic7\", \"Topic7\", \"Topic7\", \"Topic7\", \"Topic7\", \"Topic7\", \"Topic7\", \"Topic7\", \"Topic7\", \"Topic7\", \"Topic7\", \"Topic7\", \"Topic7\", \"Topic7\", \"Topic7\", \"Topic7\", \"Topic7\", \"Topic7\", \"Topic7\", \"Topic7\", \"Topic7\", \"Topic7\", \"Topic7\", \"Topic7\", \"Topic7\", \"Topic7\", \"Topic7\", \"Topic7\", \"Topic7\", \"Topic7\", \"Topic7\", \"Topic7\", \"Topic7\", \"Topic7\", \"Topic7\", \"Topic7\", \"Topic7\", \"Topic7\", \"Topic7\", \"Topic8\", \"Topic8\", \"Topic8\", \"Topic8\", \"Topic8\", \"Topic8\", \"Topic8\", \"Topic8\", \"Topic8\", \"Topic8\", \"Topic8\", \"Topic8\", \"Topic8\", \"Topic8\", \"Topic8\", \"Topic8\", \"Topic8\", \"Topic8\", \"Topic8\", \"Topic8\", \"Topic8\", \"Topic8\", \"Topic8\", \"Topic8\", \"Topic8\", \"Topic8\", \"Topic8\", \"Topic8\", \"Topic8\", \"Topic8\", \"Topic8\", \"Topic8\", \"Topic8\", \"Topic8\", \"Topic8\", \"Topic8\", \"Topic8\", \"Topic8\", \"Topic8\", \"Topic8\", \"Topic8\", \"Topic8\", \"Topic8\", \"Topic8\", \"Topic8\", \"Topic8\", \"Topic8\", \"Topic8\", \"Topic8\", \"Topic8\", \"Topic8\", \"Topic8\", \"Topic8\", \"Topic8\", \"Topic8\", \"Topic9\", \"Topic9\", \"Topic9\", \"Topic9\", \"Topic9\", \"Topic9\", \"Topic9\", \"Topic9\", \"Topic9\", \"Topic9\", \"Topic9\", \"Topic9\", \"Topic9\", \"Topic9\", \"Topic9\", \"Topic9\", \"Topic9\", \"Topic9\", \"Topic9\", \"Topic9\", \"Topic9\", \"Topic9\", \"Topic9\", \"Topic9\", \"Topic9\", \"Topic9\", \"Topic9\", \"Topic9\", \"Topic9\", \"Topic9\", \"Topic9\", \"Topic9\", \"Topic9\", \"Topic9\", \"Topic9\", \"Topic9\", \"Topic9\", \"Topic9\", \"Topic9\", \"Topic9\", \"Topic9\", \"Topic9\", \"Topic9\", \"Topic9\", \"Topic9\", \"Topic9\", \"Topic9\", \"Topic9\", \"Topic9\", \"Topic9\", \"Topic9\", \"Topic9\", \"Topic9\", \"Topic9\", \"Topic9\", \"Topic9\", \"Topic9\", \"Topic10\", \"Topic10\", \"Topic10\", \"Topic10\", \"Topic10\", \"Topic10\", \"Topic10\", \"Topic10\", \"Topic10\", \"Topic10\", \"Topic10\", \"Topic10\", \"Topic10\", \"Topic10\", \"Topic10\", \"Topic10\", \"Topic10\", \"Topic10\", \"Topic10\", \"Topic10\", \"Topic10\", \"Topic10\", \"Topic10\", \"Topic10\", \"Topic10\", \"Topic10\", \"Topic10\", \"Topic10\", \"Topic10\", \"Topic10\", \"Topic10\", \"Topic10\", \"Topic10\", \"Topic10\", \"Topic10\", \"Topic10\", \"Topic10\", \"Topic10\", \"Topic10\", \"Topic10\", \"Topic10\", \"Topic10\", \"Topic10\", \"Topic10\", \"Topic10\", \"Topic10\", \"Topic10\", \"Topic10\", \"Topic10\", \"Topic10\", \"Topic10\", \"Topic10\", \"Topic10\", \"Topic10\", \"Topic10\", \"Topic11\", \"Topic11\", \"Topic11\", \"Topic11\", \"Topic11\", \"Topic11\", \"Topic11\", \"Topic11\", \"Topic11\", \"Topic11\", \"Topic11\", \"Topic11\", \"Topic11\", \"Topic11\", \"Topic11\", \"Topic11\", \"Topic11\", \"Topic11\", \"Topic11\", \"Topic11\", \"Topic11\", \"Topic11\", \"Topic11\", \"Topic11\", \"Topic11\", \"Topic11\", \"Topic11\", \"Topic11\", \"Topic11\", \"Topic11\", \"Topic11\", \"Topic11\", \"Topic11\", \"Topic11\", \"Topic11\", \"Topic11\", \"Topic11\", \"Topic11\", \"Topic11\", \"Topic11\", \"Topic11\", \"Topic11\", \"Topic11\", \"Topic11\", \"Topic11\", \"Topic11\", \"Topic11\", \"Topic11\", \"Topic11\", \"Topic11\", \"Topic11\", \"Topic11\", \"Topic12\", \"Topic12\", \"Topic12\", \"Topic12\", \"Topic12\", \"Topic12\", \"Topic12\", \"Topic12\", \"Topic12\", \"Topic12\", \"Topic12\", \"Topic12\", \"Topic12\", \"Topic12\", \"Topic12\", \"Topic12\", \"Topic12\", \"Topic12\", \"Topic12\", \"Topic12\", \"Topic12\", \"Topic12\", \"Topic12\", \"Topic12\", \"Topic12\", \"Topic12\", \"Topic12\", \"Topic12\", \"Topic12\", \"Topic12\", \"Topic12\", \"Topic12\", \"Topic12\", \"Topic12\", \"Topic12\", \"Topic12\", \"Topic12\", \"Topic12\", \"Topic12\", \"Topic12\", \"Topic12\", \"Topic12\", \"Topic12\", \"Topic12\", \"Topic12\", \"Topic12\", \"Topic12\", \"Topic12\", \"Topic12\", \"Topic12\", \"Topic12\", \"Topic12\", \"Topic12\", \"Topic12\", \"Topic13\", \"Topic13\", \"Topic13\", \"Topic13\", \"Topic13\", \"Topic13\", \"Topic13\", \"Topic13\", \"Topic13\", \"Topic13\", \"Topic13\", \"Topic13\", \"Topic13\", \"Topic13\", \"Topic13\", \"Topic13\", \"Topic13\", \"Topic13\", \"Topic13\", \"Topic13\", \"Topic13\", \"Topic13\", \"Topic13\", \"Topic13\", \"Topic13\", \"Topic13\", \"Topic13\", \"Topic13\", \"Topic13\", \"Topic13\", \"Topic13\", \"Topic13\", \"Topic13\", \"Topic13\", \"Topic13\", \"Topic13\", \"Topic13\", \"Topic13\", \"Topic13\", \"Topic13\", \"Topic13\", \"Topic13\", \"Topic13\", \"Topic13\", \"Topic14\", \"Topic14\", \"Topic14\", \"Topic14\", \"Topic14\", \"Topic14\", \"Topic14\", \"Topic14\", \"Topic14\", \"Topic14\", \"Topic14\", \"Topic14\", \"Topic14\", \"Topic14\", \"Topic14\", \"Topic14\", \"Topic14\", \"Topic14\", \"Topic14\", \"Topic14\", \"Topic14\", \"Topic14\", \"Topic14\", \"Topic14\", \"Topic14\", \"Topic14\", \"Topic14\", \"Topic14\", \"Topic14\", \"Topic14\", \"Topic14\", \"Topic14\", \"Topic14\", \"Topic14\", \"Topic14\", \"Topic14\", \"Topic14\", \"Topic14\", \"Topic14\", \"Topic14\", \"Topic14\", \"Topic14\", \"Topic14\", \"Topic14\", \"Topic14\", \"Topic14\", \"Topic14\", \"Topic14\", \"Topic14\", \"Topic14\", \"Topic14\", \"Topic14\", \"Topic14\", \"Topic14\", \"Topic14\", \"Topic14\", \"Topic14\", \"Topic14\", \"Topic14\", \"Topic15\", \"Topic15\", \"Topic15\", \"Topic15\", \"Topic15\", \"Topic15\", \"Topic15\", \"Topic15\", \"Topic15\", \"Topic15\", \"Topic15\", \"Topic15\", \"Topic15\", \"Topic15\", \"Topic15\", \"Topic15\", \"Topic15\", \"Topic15\", \"Topic15\", \"Topic15\", \"Topic15\", \"Topic15\", \"Topic15\", \"Topic15\", \"Topic15\", \"Topic15\", \"Topic15\", \"Topic15\", \"Topic15\", \"Topic15\", \"Topic15\", \"Topic15\", \"Topic15\", \"Topic15\", \"Topic15\", \"Topic15\", \"Topic15\", \"Topic15\", \"Topic15\", \"Topic15\", \"Topic15\", \"Topic15\", \"Topic15\", \"Topic15\", \"Topic15\", \"Topic15\", \"Topic15\", \"Topic15\", \"Topic15\", \"Topic15\", \"Topic15\", \"Topic15\", \"Topic15\", \"Topic15\", \"Topic15\", \"Topic15\", \"Topic15\", \"Topic15\", \"Topic15\", \"Topic15\", \"Topic15\", \"Topic16\", \"Topic16\", \"Topic16\", \"Topic16\", \"Topic16\", \"Topic16\", \"Topic16\", \"Topic16\", \"Topic16\", \"Topic16\", \"Topic16\", \"Topic16\", \"Topic16\", \"Topic16\", \"Topic16\", \"Topic16\", \"Topic16\", \"Topic16\", \"Topic16\", \"Topic16\", \"Topic16\", \"Topic16\", \"Topic16\", \"Topic16\", \"Topic16\", \"Topic16\", \"Topic16\", \"Topic16\", \"Topic16\", \"Topic16\", \"Topic16\", \"Topic16\", \"Topic16\", \"Topic16\", \"Topic16\", \"Topic16\", \"Topic16\", \"Topic16\", \"Topic16\", \"Topic16\", \"Topic16\", \"Topic16\", \"Topic16\", \"Topic16\", \"Topic16\", \"Topic16\", \"Topic16\", \"Topic16\", \"Topic17\", \"Topic17\", \"Topic17\", \"Topic17\", \"Topic17\", \"Topic17\", \"Topic17\", \"Topic17\", \"Topic17\", \"Topic17\", \"Topic17\", \"Topic17\", \"Topic17\", \"Topic17\", \"Topic17\", \"Topic17\", \"Topic17\", \"Topic17\", \"Topic17\", \"Topic17\", \"Topic17\", \"Topic17\", \"Topic17\", \"Topic17\", \"Topic17\", \"Topic17\", \"Topic17\", \"Topic17\", \"Topic17\", \"Topic17\", \"Topic17\", \"Topic17\", \"Topic17\", \"Topic17\", \"Topic17\", \"Topic17\", \"Topic17\", \"Topic17\", \"Topic17\", \"Topic17\", \"Topic17\", \"Topic17\", \"Topic17\", \"Topic17\", \"Topic17\", \"Topic17\", \"Topic18\", \"Topic18\", \"Topic18\", \"Topic18\", \"Topic18\", \"Topic18\", \"Topic18\", \"Topic18\", \"Topic18\", \"Topic18\", \"Topic18\", \"Topic18\", \"Topic18\", \"Topic18\", \"Topic18\", \"Topic18\", \"Topic18\", \"Topic18\", \"Topic18\", \"Topic18\", \"Topic18\", \"Topic18\", \"Topic18\", \"Topic18\", \"Topic18\", \"Topic18\", \"Topic18\", \"Topic18\", \"Topic18\", \"Topic18\", \"Topic18\", \"Topic18\", \"Topic18\", \"Topic18\", \"Topic18\", \"Topic18\", \"Topic18\", \"Topic18\", \"Topic18\", \"Topic18\", \"Topic18\", \"Topic18\", \"Topic18\", \"Topic18\", \"Topic18\", \"Topic18\", \"Topic18\", \"Topic18\", \"Topic19\", \"Topic19\", \"Topic19\", \"Topic19\", \"Topic19\", \"Topic19\", \"Topic19\", \"Topic19\", \"Topic19\", \"Topic19\", \"Topic19\", \"Topic19\", \"Topic19\", \"Topic19\", \"Topic19\", \"Topic19\", \"Topic19\", \"Topic19\", \"Topic19\", \"Topic19\", \"Topic19\", \"Topic19\", \"Topic19\", \"Topic19\", \"Topic19\", \"Topic19\", \"Topic19\", \"Topic19\", \"Topic19\", \"Topic19\", \"Topic19\", \"Topic19\", \"Topic19\", \"Topic19\", \"Topic19\", \"Topic19\", \"Topic19\", \"Topic19\", \"Topic19\", \"Topic19\", \"Topic19\", \"Topic19\", \"Topic19\", \"Topic19\", \"Topic20\", \"Topic20\", \"Topic20\", \"Topic20\", \"Topic20\", \"Topic20\", \"Topic20\", \"Topic20\", \"Topic20\", \"Topic20\", \"Topic20\", \"Topic20\", \"Topic20\", \"Topic20\", \"Topic20\", \"Topic20\", \"Topic20\", \"Topic20\", \"Topic20\", \"Topic20\", \"Topic20\", \"Topic20\", \"Topic20\", \"Topic20\", \"Topic20\", \"Topic20\", \"Topic20\", \"Topic20\", \"Topic20\", \"Topic20\", \"Topic20\", \"Topic20\", \"Topic20\", \"Topic20\", \"Topic20\", \"Topic20\", \"Topic20\", \"Topic20\", \"Topic20\", \"Topic20\", \"Topic20\", \"Topic20\", \"Topic20\", \"Topic20\", \"Topic20\", \"Topic20\", \"Topic20\", \"Topic20\", \"Topic20\", \"Topic20\", \"Topic20\", \"Topic20\", \"Topic21\", \"Topic21\", \"Topic21\", \"Topic21\", \"Topic21\", \"Topic21\", \"Topic21\", \"Topic21\", \"Topic21\", \"Topic21\", \"Topic21\", \"Topic21\", \"Topic21\", \"Topic21\", \"Topic21\", \"Topic21\", \"Topic21\", \"Topic21\", \"Topic21\", \"Topic21\", \"Topic21\", \"Topic21\", \"Topic21\", \"Topic21\", \"Topic21\", \"Topic21\", \"Topic21\", \"Topic21\", \"Topic21\", \"Topic21\", \"Topic21\", \"Topic21\", \"Topic21\", \"Topic21\", \"Topic21\", \"Topic21\", \"Topic21\", \"Topic21\", \"Topic21\", \"Topic21\", \"Topic21\", \"Topic21\", \"Topic21\", \"Topic21\", \"Topic21\", \"Topic21\", \"Topic21\", \"Topic21\", \"Topic21\", \"Topic21\", \"Topic21\", \"Topic21\", \"Topic21\", \"Topic22\", \"Topic22\", \"Topic22\", \"Topic22\", \"Topic22\", \"Topic22\", \"Topic22\", \"Topic22\", \"Topic22\", \"Topic22\", \"Topic22\", \"Topic22\", \"Topic22\", \"Topic22\", \"Topic22\", \"Topic22\", \"Topic22\", \"Topic22\", \"Topic22\", \"Topic22\", \"Topic22\", \"Topic22\", \"Topic22\", \"Topic22\", \"Topic22\", \"Topic22\", \"Topic22\", \"Topic22\", \"Topic22\", \"Topic22\", \"Topic22\", \"Topic22\", \"Topic22\", \"Topic22\", \"Topic22\", \"Topic22\", \"Topic22\", \"Topic22\", \"Topic22\", \"Topic22\", \"Topic22\", \"Topic22\", \"Topic22\", \"Topic22\", \"Topic22\", \"Topic22\", \"Topic22\", \"Topic22\", \"Topic22\", \"Topic22\", \"Topic22\", \"Topic22\", \"Topic22\", \"Topic22\", \"Topic22\", \"Topic22\", \"Topic22\", \"Topic22\", \"Topic22\", \"Topic22\", \"Topic22\", \"Topic22\", \"Topic22\", \"Topic22\", \"Topic22\", \"Topic22\", \"Topic23\", \"Topic23\", \"Topic23\", \"Topic23\", \"Topic23\", \"Topic23\", \"Topic23\", \"Topic23\", \"Topic23\", \"Topic23\", \"Topic23\", \"Topic23\", \"Topic23\", \"Topic23\", \"Topic23\", \"Topic23\", \"Topic23\", \"Topic23\", \"Topic23\", \"Topic23\", \"Topic23\", \"Topic23\", \"Topic23\", \"Topic23\", \"Topic23\", \"Topic23\", \"Topic23\", \"Topic23\", \"Topic23\", \"Topic23\", \"Topic23\", \"Topic23\", \"Topic23\", \"Topic23\", \"Topic23\", \"Topic23\", \"Topic23\", \"Topic23\", \"Topic23\", \"Topic23\", \"Topic23\", \"Topic23\", \"Topic23\", \"Topic23\", \"Topic23\", \"Topic23\", \"Topic23\", \"Topic24\", \"Topic24\", \"Topic24\", \"Topic24\", \"Topic24\", \"Topic24\", \"Topic24\", \"Topic24\", \"Topic24\", \"Topic24\", \"Topic24\", \"Topic24\", \"Topic24\", \"Topic24\", \"Topic24\", \"Topic24\", \"Topic24\", \"Topic24\", \"Topic24\", \"Topic24\", \"Topic24\", \"Topic24\", \"Topic24\", \"Topic24\", \"Topic24\", \"Topic24\", \"Topic24\", \"Topic24\", \"Topic24\", \"Topic24\", \"Topic24\", \"Topic24\", \"Topic24\", \"Topic24\", \"Topic24\", \"Topic24\", \"Topic24\", \"Topic24\", \"Topic24\", \"Topic24\", \"Topic24\", \"Topic24\", \"Topic24\", \"Topic24\", \"Topic24\", \"Topic24\", \"Topic24\", \"Topic24\", \"Topic24\", \"Topic24\", \"Topic24\", \"Topic24\", \"Topic24\", \"Topic24\", \"Topic24\", \"Topic25\", \"Topic25\", \"Topic25\", \"Topic25\", \"Topic25\", \"Topic25\", \"Topic25\", \"Topic25\", \"Topic25\", \"Topic25\", \"Topic25\", \"Topic25\", \"Topic25\", \"Topic25\", \"Topic25\", \"Topic25\", \"Topic25\", \"Topic25\", \"Topic25\", \"Topic25\", \"Topic25\", \"Topic25\", \"Topic25\", \"Topic25\", \"Topic25\", \"Topic25\", \"Topic25\", \"Topic25\", \"Topic25\", \"Topic25\", \"Topic25\", \"Topic25\", \"Topic25\", \"Topic25\", \"Topic25\", \"Topic25\", \"Topic25\", \"Topic25\", \"Topic25\", \"Topic25\", \"Topic25\", \"Topic25\", \"Topic25\", \"Topic25\", \"Topic25\", \"Topic25\", \"Topic25\", \"Topic25\", \"Topic25\", \"Topic25\", \"Topic25\", \"Topic26\", \"Topic26\", \"Topic26\", \"Topic26\", \"Topic26\", \"Topic26\", \"Topic26\", \"Topic26\", \"Topic26\", \"Topic26\", \"Topic26\", \"Topic26\", \"Topic26\", \"Topic26\", \"Topic26\", \"Topic26\", \"Topic26\", \"Topic26\", \"Topic26\", \"Topic26\", \"Topic26\", \"Topic26\", \"Topic26\", \"Topic26\", \"Topic26\", \"Topic26\", \"Topic26\", \"Topic26\", \"Topic26\", \"Topic26\", \"Topic26\", \"Topic26\", \"Topic26\", \"Topic26\", \"Topic26\", \"Topic26\", \"Topic26\", \"Topic26\", \"Topic26\", \"Topic26\", \"Topic26\", \"Topic26\", \"Topic26\", \"Topic27\", \"Topic27\", \"Topic27\", \"Topic27\", \"Topic27\", \"Topic27\", \"Topic27\", \"Topic27\", \"Topic27\", \"Topic27\", \"Topic27\", \"Topic27\", \"Topic27\", \"Topic27\", \"Topic27\", \"Topic27\", \"Topic27\", \"Topic27\", \"Topic27\", \"Topic27\", \"Topic27\", \"Topic27\", \"Topic27\", \"Topic27\", \"Topic27\", \"Topic27\", \"Topic27\", \"Topic27\", \"Topic27\", \"Topic27\", \"Topic27\", \"Topic27\", \"Topic27\", \"Topic27\", \"Topic27\", \"Topic27\", \"Topic27\", \"Topic27\", \"Topic27\", \"Topic27\", \"Topic27\", \"Topic27\", \"Topic27\", \"Topic27\", \"Topic27\", \"Topic27\", \"Topic27\", \"Topic27\", \"Topic27\", \"Topic27\", \"Topic27\", \"Topic27\", \"Topic27\", \"Topic27\", \"Topic28\", \"Topic28\", \"Topic28\", \"Topic28\", \"Topic28\", \"Topic28\", \"Topic28\", \"Topic28\", \"Topic28\", \"Topic28\", \"Topic28\", \"Topic28\", \"Topic28\", \"Topic28\", \"Topic28\", \"Topic28\", \"Topic28\", \"Topic28\", \"Topic28\", \"Topic28\", \"Topic28\", \"Topic28\", \"Topic28\", \"Topic28\", \"Topic28\", \"Topic28\", \"Topic28\", \"Topic28\", \"Topic28\", \"Topic28\", \"Topic28\", \"Topic28\", \"Topic28\", \"Topic28\", \"Topic28\", \"Topic28\", \"Topic28\", \"Topic28\", \"Topic28\", \"Topic28\", \"Topic28\", \"Topic28\", \"Topic28\", \"Topic28\", \"Topic28\", \"Topic28\", \"Topic29\", \"Topic29\", \"Topic29\", \"Topic29\", \"Topic29\", \"Topic29\", \"Topic29\", \"Topic29\", \"Topic29\", \"Topic29\", \"Topic29\", \"Topic29\", \"Topic29\", \"Topic29\", \"Topic29\", \"Topic29\", \"Topic29\", \"Topic29\", \"Topic29\", \"Topic29\", \"Topic29\", \"Topic29\", \"Topic29\", \"Topic29\", \"Topic29\", \"Topic29\", \"Topic29\", \"Topic29\", \"Topic29\", \"Topic29\", \"Topic29\", \"Topic29\", \"Topic29\", \"Topic29\", \"Topic29\", \"Topic29\", \"Topic29\", \"Topic29\", \"Topic29\", \"Topic29\", \"Topic30\", \"Topic30\", \"Topic30\", \"Topic30\", \"Topic30\", \"Topic30\", \"Topic30\", \"Topic30\", \"Topic30\", \"Topic30\", \"Topic30\", \"Topic30\", \"Topic30\", \"Topic30\", \"Topic30\", \"Topic30\", \"Topic30\", \"Topic30\", \"Topic30\", \"Topic30\", \"Topic30\", \"Topic30\", \"Topic30\", \"Topic30\", \"Topic30\", \"Topic30\", \"Topic30\", \"Topic30\", \"Topic30\", \"Topic30\", \"Topic30\", \"Topic30\", \"Topic30\", \"Topic30\", \"Topic30\", \"Topic30\", \"Topic30\", \"Topic30\", \"Topic30\", \"Topic30\", \"Topic30\", \"Topic30\", \"Topic30\", \"Topic30\", \"Topic30\", \"Topic30\", \"Topic30\", \"Topic30\", \"Topic30\", \"Topic30\", \"Topic31\", \"Topic31\", \"Topic31\", \"Topic31\", \"Topic31\", \"Topic31\", \"Topic31\", \"Topic31\", \"Topic31\", \"Topic31\", \"Topic31\", \"Topic31\", \"Topic31\", \"Topic31\", \"Topic31\", \"Topic31\", \"Topic31\", \"Topic31\", \"Topic31\", \"Topic31\", \"Topic31\", \"Topic31\", \"Topic31\", \"Topic31\", \"Topic31\", \"Topic31\", \"Topic31\", \"Topic31\", \"Topic31\", \"Topic31\", \"Topic31\", \"Topic31\", \"Topic31\", \"Topic31\", \"Topic31\", \"Topic31\", \"Topic31\", \"Topic31\", \"Topic31\", \"Topic31\", \"Topic31\", \"Topic31\", \"Topic31\", \"Topic31\", \"Topic31\", \"Topic32\", \"Topic32\", \"Topic32\", \"Topic32\", \"Topic32\", \"Topic32\", \"Topic32\", \"Topic32\", \"Topic32\", \"Topic32\", \"Topic32\", \"Topic32\", \"Topic32\", \"Topic32\", \"Topic32\", \"Topic32\", \"Topic32\", \"Topic32\", \"Topic32\", \"Topic32\", \"Topic32\", \"Topic32\", \"Topic32\", \"Topic32\", \"Topic32\", \"Topic32\", \"Topic32\", \"Topic32\", \"Topic32\", \"Topic32\", \"Topic32\", \"Topic32\", \"Topic32\", \"Topic32\", \"Topic32\", \"Topic32\", \"Topic32\", \"Topic32\", \"Topic32\", \"Topic32\", \"Topic32\", \"Topic32\", \"Topic32\", \"Topic32\", \"Topic32\", \"Topic32\", \"Topic32\", \"Topic32\", \"Topic32\", \"Topic33\", \"Topic33\", \"Topic33\", \"Topic33\", \"Topic33\", \"Topic33\", \"Topic33\", \"Topic33\", \"Topic33\", \"Topic33\", \"Topic33\", \"Topic33\", \"Topic33\", \"Topic33\", \"Topic33\", \"Topic33\", \"Topic33\", \"Topic33\", \"Topic33\", \"Topic33\", \"Topic33\", \"Topic33\", \"Topic33\", \"Topic33\", \"Topic33\", \"Topic33\", \"Topic33\", \"Topic33\", \"Topic33\", \"Topic33\", \"Topic33\", \"Topic33\", \"Topic33\", \"Topic33\", \"Topic33\", \"Topic33\", \"Topic33\", \"Topic33\", \"Topic33\", \"Topic33\", \"Topic33\", \"Topic33\", \"Topic33\", \"Topic33\", \"Topic33\", \"Topic33\", \"Topic33\", \"Topic33\", \"Topic33\", \"Topic33\", \"Topic33\", \"Topic33\", \"Topic33\", \"Topic33\", \"Topic33\", \"Topic33\", \"Topic33\", \"Topic33\", \"Topic34\", \"Topic34\", \"Topic34\", \"Topic34\", \"Topic34\", \"Topic34\", \"Topic34\", \"Topic34\", \"Topic34\", \"Topic34\", \"Topic34\", \"Topic34\", \"Topic34\", \"Topic34\", \"Topic34\", \"Topic34\", \"Topic34\", \"Topic34\", \"Topic34\", \"Topic34\", \"Topic34\", \"Topic34\", \"Topic34\", \"Topic34\", \"Topic34\", \"Topic34\", \"Topic34\", \"Topic34\", \"Topic34\", \"Topic34\", \"Topic34\", \"Topic34\", \"Topic34\", \"Topic34\", \"Topic34\", \"Topic34\", \"Topic34\", \"Topic34\", \"Topic34\", \"Topic34\", \"Topic34\", \"Topic34\", \"Topic34\", \"Topic34\", \"Topic34\", \"Topic34\", \"Topic34\", \"Topic34\", \"Topic34\", \"Topic34\", \"Topic34\", \"Topic34\", \"Topic34\", \"Topic34\", \"Topic34\", \"Topic34\", \"Topic34\", \"Topic34\", \"Topic35\", \"Topic35\", \"Topic35\", \"Topic35\", \"Topic35\", \"Topic35\", \"Topic35\", \"Topic35\", \"Topic35\", \"Topic35\", \"Topic35\", \"Topic35\", \"Topic35\", \"Topic35\", \"Topic35\", \"Topic35\", \"Topic35\", \"Topic35\", \"Topic35\", \"Topic35\", \"Topic35\", \"Topic35\", \"Topic35\", \"Topic35\", \"Topic35\", \"Topic35\", \"Topic35\", \"Topic35\", \"Topic35\", \"Topic35\", \"Topic35\", \"Topic35\", \"Topic35\", \"Topic35\", \"Topic35\", \"Topic35\", \"Topic35\", \"Topic35\", \"Topic35\", \"Topic35\", \"Topic35\", \"Topic35\", \"Topic36\", \"Topic36\", \"Topic36\", \"Topic36\", \"Topic36\", \"Topic36\", \"Topic36\", \"Topic36\", \"Topic36\", \"Topic36\", \"Topic36\", \"Topic36\", \"Topic36\", \"Topic36\", \"Topic36\", \"Topic36\", \"Topic36\", \"Topic36\", \"Topic36\", \"Topic36\", \"Topic36\", \"Topic36\", \"Topic36\", \"Topic36\", \"Topic36\", \"Topic36\", \"Topic36\", \"Topic36\", \"Topic36\", \"Topic36\", \"Topic36\", \"Topic36\", \"Topic36\", \"Topic36\", \"Topic36\", \"Topic36\", \"Topic36\", \"Topic36\", \"Topic37\", \"Topic37\", \"Topic37\", \"Topic37\", \"Topic37\", \"Topic37\", \"Topic37\", \"Topic37\", \"Topic37\", \"Topic37\", \"Topic37\", \"Topic37\", \"Topic37\", \"Topic37\", \"Topic37\", \"Topic37\", \"Topic37\", \"Topic37\", \"Topic37\", \"Topic37\", \"Topic37\", \"Topic37\", \"Topic37\", \"Topic37\", \"Topic37\", \"Topic37\", \"Topic37\", \"Topic37\", \"Topic37\", \"Topic37\", \"Topic37\", \"Topic37\", \"Topic37\", \"Topic37\", \"Topic37\", \"Topic37\", \"Topic37\", \"Topic37\", \"Topic37\", \"Topic37\", \"Topic37\", \"Topic37\", \"Topic37\", \"Topic37\", \"Topic38\", \"Topic38\", \"Topic38\", \"Topic38\", \"Topic38\", \"Topic38\", \"Topic38\", \"Topic38\", \"Topic38\", \"Topic38\", \"Topic38\", \"Topic38\", \"Topic38\", \"Topic38\", \"Topic38\", \"Topic38\", \"Topic38\", \"Topic38\", \"Topic38\", \"Topic38\", \"Topic38\", \"Topic38\", \"Topic38\", \"Topic38\", \"Topic38\", \"Topic38\", \"Topic38\", \"Topic38\", \"Topic38\", \"Topic38\", \"Topic38\", \"Topic38\", \"Topic38\", \"Topic38\", \"Topic38\", \"Topic38\", \"Topic38\", \"Topic38\", \"Topic38\", \"Topic38\", \"Topic38\", \"Topic38\", \"Topic38\", \"Topic38\", \"Topic38\", \"Topic38\", \"Topic38\", \"Topic38\", \"Topic38\", \"Topic38\", \"Topic38\", \"Topic38\", \"Topic38\", \"Topic38\", \"Topic38\", \"Topic38\", \"Topic39\", \"Topic39\", \"Topic39\", \"Topic39\", \"Topic39\", \"Topic39\", \"Topic39\", \"Topic39\", \"Topic39\", \"Topic39\", \"Topic39\", \"Topic39\", \"Topic39\", \"Topic39\", \"Topic39\", \"Topic39\", \"Topic39\", \"Topic39\", \"Topic39\", \"Topic39\", \"Topic39\", \"Topic39\", \"Topic39\", \"Topic39\", \"Topic39\", \"Topic39\", \"Topic39\", \"Topic39\", \"Topic39\", \"Topic39\", \"Topic39\", \"Topic39\", \"Topic39\", \"Topic39\", \"Topic39\", \"Topic39\", \"Topic39\", \"Topic39\", \"Topic39\", \"Topic39\", \"Topic39\", \"Topic39\", \"Topic39\", \"Topic39\", \"Topic39\", \"Topic39\", \"Topic39\", \"Topic39\", \"Topic39\", \"Topic39\", \"Topic39\", \"Topic40\", \"Topic40\", \"Topic40\", \"Topic40\", \"Topic40\", \"Topic40\", \"Topic40\", \"Topic40\", \"Topic40\", \"Topic40\", \"Topic40\", \"Topic40\", \"Topic40\", \"Topic40\", \"Topic40\", \"Topic40\", \"Topic40\", \"Topic40\", \"Topic40\", \"Topic40\", \"Topic40\", \"Topic40\", \"Topic40\", \"Topic40\", \"Topic40\", \"Topic40\", \"Topic40\", \"Topic40\", \"Topic40\", \"Topic40\", \"Topic40\", \"Topic40\", \"Topic40\", \"Topic40\", \"Topic40\", \"Topic40\", \"Topic40\", \"Topic40\", \"Topic40\", \"Topic40\", \"Topic40\", \"Topic40\", \"Topic40\", \"Topic40\", \"Topic40\", \"Topic40\", \"Topic40\", \"Topic40\", \"Topic40\", \"Topic40\", \"Topic40\", \"Topic40\", \"Topic40\", \"Topic40\", \"Topic40\", \"Topic40\", \"Topic40\", \"Topic40\", \"Topic40\", \"Topic40\", \"Topic40\", \"Topic41\", \"Topic41\", \"Topic41\", \"Topic41\", \"Topic41\", \"Topic41\", \"Topic41\", \"Topic41\", \"Topic41\", \"Topic41\", \"Topic41\", \"Topic41\", \"Topic41\", \"Topic41\", \"Topic41\", \"Topic41\", \"Topic41\", \"Topic41\", \"Topic41\", \"Topic41\", \"Topic41\", \"Topic41\", \"Topic41\", \"Topic41\", \"Topic41\", \"Topic41\", \"Topic41\", \"Topic41\", \"Topic41\", \"Topic41\", \"Topic41\", \"Topic41\", \"Topic41\", \"Topic41\", \"Topic41\", \"Topic41\", \"Topic41\", \"Topic41\", \"Topic41\", \"Topic41\", \"Topic41\", \"Topic41\", \"Topic41\", \"Topic41\", \"Topic41\", \"Topic41\", \"Topic41\", \"Topic41\", \"Topic41\", \"Topic41\", \"Topic41\", \"Topic42\", \"Topic42\", \"Topic42\", \"Topic42\", \"Topic42\", \"Topic42\", \"Topic42\", \"Topic42\", \"Topic42\", \"Topic42\", \"Topic42\", \"Topic42\", \"Topic42\", \"Topic42\", \"Topic42\", \"Topic42\", \"Topic42\", \"Topic42\", \"Topic42\", \"Topic42\", \"Topic42\", \"Topic42\", \"Topic42\", \"Topic42\", \"Topic42\", \"Topic42\", \"Topic42\", \"Topic42\", \"Topic42\", \"Topic42\", \"Topic42\", \"Topic42\", \"Topic42\", \"Topic42\", \"Topic42\", \"Topic42\", \"Topic42\", \"Topic42\", \"Topic42\", \"Topic42\", \"Topic42\", \"Topic42\", \"Topic42\", \"Topic42\", \"Topic43\", \"Topic43\", \"Topic43\", \"Topic43\", \"Topic43\", \"Topic43\", \"Topic43\", \"Topic43\", \"Topic43\", \"Topic43\", \"Topic43\", \"Topic43\", \"Topic43\", \"Topic43\", \"Topic43\", \"Topic43\", \"Topic43\", \"Topic43\", \"Topic43\", \"Topic43\", \"Topic43\", \"Topic43\", \"Topic43\", \"Topic43\", \"Topic43\", \"Topic43\", \"Topic43\", \"Topic43\", \"Topic43\", \"Topic43\", \"Topic43\", \"Topic43\", \"Topic43\", \"Topic43\", \"Topic43\", \"Topic43\", \"Topic43\", \"Topic43\", \"Topic43\", \"Topic43\", \"Topic43\", \"Topic43\", \"Topic43\", \"Topic43\", \"Topic43\", \"Topic44\", \"Topic44\", \"Topic44\", \"Topic44\", \"Topic44\", \"Topic44\", \"Topic44\", \"Topic44\", \"Topic44\", \"Topic44\", \"Topic44\", \"Topic44\", \"Topic44\", \"Topic44\", \"Topic44\", \"Topic44\", \"Topic44\", \"Topic44\", \"Topic44\", \"Topic44\", \"Topic44\", \"Topic44\", \"Topic44\", \"Topic44\", \"Topic44\", \"Topic44\", \"Topic44\", \"Topic44\", \"Topic44\", \"Topic44\", \"Topic44\", \"Topic44\", \"Topic44\", \"Topic44\", \"Topic44\", \"Topic44\", \"Topic44\", \"Topic44\", \"Topic44\", \"Topic44\", \"Topic44\", \"Topic44\", \"Topic44\", \"Topic44\", \"Topic44\", \"Topic44\", \"Topic44\", \"Topic44\", \"Topic44\", \"Topic44\", \"Topic44\", \"Topic44\", \"Topic45\", \"Topic45\", \"Topic45\", \"Topic45\", \"Topic45\", \"Topic45\", \"Topic45\", \"Topic45\", \"Topic45\", \"Topic45\", \"Topic45\", \"Topic45\", \"Topic45\", \"Topic45\", \"Topic45\", \"Topic45\", \"Topic45\", \"Topic45\", \"Topic45\", \"Topic45\", \"Topic45\", \"Topic45\", \"Topic45\", \"Topic45\", \"Topic45\", \"Topic45\", \"Topic45\", \"Topic45\", \"Topic45\", \"Topic45\", \"Topic45\", \"Topic45\", \"Topic45\", \"Topic45\", \"Topic45\", \"Topic45\", \"Topic45\", \"Topic45\", \"Topic45\", \"Topic45\", \"Topic45\", \"Topic45\", \"Topic45\", \"Topic45\", \"Topic45\", \"Topic45\"], \"logprob\": [30.0, 29.0, 28.0, 27.0, 26.0, 25.0, 24.0, 23.0, 22.0, 21.0, 20.0, 19.0, 18.0, 17.0, 16.0, 15.0, 14.0, 13.0, 12.0, 11.0, 10.0, 9.0, 8.0, 7.0, 6.0, 5.0, 4.0, 3.0, 2.0, 1.0, -7.5031, -7.5139, -7.5077, -7.5145, -7.5067, -7.5075, -7.5134, -7.5097, -7.8358, -7.868, -7.8644, -7.505, -7.8318, -8.1125, -8.1049, -8.1372, -7.8658, -7.8525, -7.8663, -8.1926, -8.0627, -8.4198, -8.1992, -8.4037, -8.0509, -7.8986, -8.2679, -8.172, -8.2068, -8.3068, -8.2796, -7.879, -7.8628, -7.8709, -7.8802, -8.0616, -7.8098, -8.0447, -8.0712, -7.9477, -8.0209, -8.0548, -8.0581, -8.1633, -8.1376, -8.1421, -8.0855, -8.1755, -7.9549, -7.9553, -8.1739, -8.1651, -8.157, -8.1816, -8.1694, -8.272, -8.0871, -8.1208, -8.3697, -7.981, -8.1759, -8.1737, -8.0846, -8.1311, -8.1355, -8.1501, -8.1789, -8.1698, -8.1592, -8.18, -8.1254, -8.1446, -7.9812, -7.997, -7.8193, -7.8365, -8.0641, -8.0793, -7.9679, -8.0855, -8.0754, -7.6318, -7.6332, -7.648, -8.0765, -7.765, -8.0786, -7.7762, -8.085, -7.7016, -7.8045, -7.79, -7.7173, -7.828, -7.8337, -7.8023, -7.7747, -7.8171, -7.7724, -7.846, -7.8421, -8.0626, -8.0746, -8.0364, -7.3695, -7.4503, -7.3594, -7.3475, -7.3717, -7.3634, -7.3724, -7.3571, -7.3601, -7.3702, -7.3716, -7.3683, -7.3696, -7.462, -7.4687, -7.3675, -7.4623, -7.4691, -7.4608, -7.437, -7.3504, -7.0932, -7.1313, -7.3723, -7.8773, -7.0948, -7.9679, -7.8084, -7.465, -7.1282, -7.0954, -7.1217, -7.122, -7.131, -7.1286, -7.3654, -7.3731, -7.364, -7.0556, -7.4493, -8.0182, -8.1282, -8.0867, -8.1146, -8.1277, -8.1015, -8.1333, -8.3553, -8.1263, -8.1029, -8.1059, -8.2846, -8.2381, -8.1013, -8.126, -8.2117, -8.1056, -8.1009, -8.1258, -8.1279, -8.3498, -8.1318, -8.1322, -8.3522, -8.3503, -8.1316, -8.2246, -8.1089, -8.1083, -8.3554, -8.1085, -7.5253, -7.5426, -7.5375, -8.1285, -8.1216, -8.0765, -8.1016, -8.1325, -8.1008, -7.8972, -7.934, -7.9505, -7.948, -7.9473, -8.091, -7.9462, -7.9534, -7.9363, -7.9509, -7.8391, -7.8492, -7.8324, -7.9646, -8.0825, -7.9962, -8.0039, -8.0069, -8.0139, -8.0145, -8.0619, -8.0926, -8.0955, -8.0993, -7.6943, -8.0103, -7.7077, -7.69, -7.3291, -7.7042, -7.674, -7.7068, -8.0279, -8.1167, -8.2612, -8.0256, -7.7093, -8.042, -8.1529, -8.2184, -8.2479, -8.2576, -7.7124, -7.5788, -7.8447, -8.5521, -8.2091, -7.7077, -7.6824, -8.2322, -8.0285, -8.2702, -8.1444, -8.2632, -8.2241, -7.5761, -7.7127, -8.0214, -7.6968, -8.0173, -7.6376, -7.6132, -7.6349, -8.0399, -7.8486, -8.0388, -8.0221, -7.9127, -7.9407, -7.947, -7.8498, -7.8584, -7.7056, -7.8619, -7.8583, -7.834, -8.0098, -7.8553, -7.8519, -7.8571, -7.8418, -7.8488, -7.8345, -7.8414, -7.8538, -7.8382, -7.8565, -7.8623, -8.2305, -7.8617, -7.8483, -7.856, -7.8589, -7.8606, -7.8597, -8.2531, -7.8515, -7.8539, -8.5037, -8.2057, -8.1768, -7.8415, -7.9731, -7.8581, -8.0367, -7.924, -7.6703, -7.687, -7.6971, -7.7035, -7.6945, -7.7016, -7.6864, -7.6813, -7.6966, -7.4772, -8.2505, -8.2508, -8.2057, -8.2382, -8.1899, -8.2586, -8.0235, -8.1313, -8.223, -8.3659, -8.2408, -8.3803, -8.2451, -8.5254, -8.3761, -8.1874, -8.2254, -8.54, -8.2272, -8.2372, -8.0156, -8.529, -8.2316, -7.9771, -8.2329, -8.2458, -8.472, -8.5351, -8.1872, -8.2249, -7.7457, -8.0032, -8.1295, -8.0183, -8.0284, -8.022, -8.0036, -8.0278, -8.0224, -8.0797, -8.0065, -8.004, -8.0294, -8.0296, -7.4168, -7.8388, -8.1641, -8.0237, -7.6789, -7.6822, -8.1971, -7.9373, -7.9612, -8.0092, -8.0203, -8.1168, -8.0642, -7.9905, -7.9117, -7.9231, -8.0136, -7.9259, -7.9948, -7.9772, -8.0141, -8.011, -8.0154, -8.2397, -8.5259, -8.022, -8.0068, -8.0191, -8.022, -8.7126, -7.9709, -8.5255, -8.2312, -8.1391, -8.5176, -8.3693, -7.9971, -8.673, -8.4773, -8.0024, -8.5044, -8.3366, -8.4827, -8.3985, -7.6471, -8.3557, -7.759, -8.1716, -8.232, -7.68, -8.1922, -7.833, -7.818, -7.8275, -7.829, -7.8367, -7.839, -7.8351, -7.7999, -7.8172, -7.6839, -7.6811, -7.6662, -7.837, -7.8352, -7.8339, -7.8359, -7.9738, -7.8308, -7.8186, -7.9892, -7.6736, -7.8017, -8.0093, -7.9149, -8.0122, -7.8972, -7.6722, -7.798, -7.9635, -8.0052, -7.6761, -7.8097, -7.5371, -8.0098, -7.8226, -7.968, -7.9863, -7.993, -7.6772, -7.7505, -7.973, -8.0081, -7.6264, -7.9905, -8.1037, -8.0144, -8.4483, -7.8312, -7.6638, -7.727, -7.7472, -7.7524, -7.8245, -7.8207, -7.8128, -7.4161, -7.8195, -7.3402, -7.4086, -7.5842, -7.7994, -7.3613, -7.3698, -7.3612, -7.7506, -7.7486, -7.7092, -7.7282, -7.7509, -7.7532, -7.6747, -7.7451, -7.7482, -7.7829, -7.9885, -7.9318, -7.9925, -8.0245, -7.9803, -7.7785, -7.9999, -7.726, -8.0994, -8.0465, -7.9757, -7.7818, -7.7725, -7.7461, -7.9758, -8.0968, -8.0902, -7.7679, -8.0534, -7.9917, -8.002, -8.0782, -8.0209, -8.0289, -8.2052, -7.9059, -7.8728, -8.1789, -7.9827, -7.8849, -7.9975, -7.8911, -7.8674, -7.9916, -7.986, -7.5247, -7.6032, -7.6425, -7.6607, -7.6472, -7.6595, -7.6556, -7.6644, -7.6598, -7.6643, -7.6643, -7.6389, -7.6432, -7.6484, -7.6615, -7.6495, -7.6593, -7.6637, -7.6582, -7.819, -7.9561, -7.9754, -8.4292, -7.9582, -7.9463, -7.7186, -8.2029, -7.9729, -7.7031, -7.9558, -8.4847, -7.9674, -7.9841, -7.9808, -8.4349, -7.9727, -8.3334, -7.9529, -8.3342, -8.4002, -8.4443, -8.4902, -8.4683, -8.3338, -7.9866, -8.4714, -8.4878, -8.4864, -8.4817, -7.9617, -7.9614, -7.9806, -7.69, -7.9638, -7.9331, -8.2041, -7.7168, -7.9676, -7.9725, -7.9384, -7.716, -8.1729, -8.1794, -7.9472, -7.9784, -7.9777, -7.9812, -7.9559, -7.5651, -7.967, -7.9665, -7.9741, -7.9641, -7.9559, -7.9299, -7.9419, -7.9416, -7.9654, -7.9681, -7.9583, -7.931, -7.9507, -7.9677, -7.9659, -7.903, -7.922, -7.9634, -7.9524, -7.963, -7.968, -7.9526, -7.9671, -7.9663, -7.9685, -7.9361, -7.9475, -7.8896, -7.9545, -7.9694, -7.9392, -7.9571, -7.959, -7.942, -7.7766, -7.9255, -7.9392, -7.7779, -7.9281, -7.7703, -7.9018, -7.9215, -7.9398, -7.929, -7.6115, -7.6105, -7.6219, -7.6347, -7.6224, -7.626, -7.8828, -7.6313, -7.631, -7.6325, -7.8902, -7.9365, -7.9397, -8.0363, -7.8417, -8.0435, -8.1019, -7.8932, -7.8308, -7.8286, -8.1493, -7.8411, -8.074, -7.8348, -7.8226, -8.0452, -8.16, -8.1403, -8.1474, -8.1648, -8.0185, -8.0462, -8.0202, -8.1387, -8.0253, -8.0397, -7.9993, -8.0446, -7.9185, -8.1536, -8.0254, -8.022, -8.1528, -8.042, -8.0276, -8.0232, -8.0466, -8.0451, -8.0145, -8.0074, -8.0399, -7.8339, -8.0344, -8.014, -8.0319, -8.0381, -8.041, -8.0907, -8.1341, -8.1428, -8.0589, -8.1135, -8.1413, -8.4124, -8.4386, -8.4176, -8.0858, -8.4023, -8.4411, -8.1144, -8.1065, -8.1505, -8.1137, -8.0896, -8.1196, -8.4232, -8.4322, -8.1264, -8.1574, -8.4226, -8.4149, -8.4338, -8.3876, -8.3201, -8.1095, -8.4385, -8.4269, -8.1467, -8.1311, -8.1362, -8.1511, -8.1221, -8.1535, -8.1456, -7.6447, -8.0826, -7.8059, -7.7407, -7.7711, -7.7733, -7.7636, -7.7687, -7.776, -7.8844, -7.7677, -7.7297, -7.7687, -7.7987, -7.9099, -7.9027, -7.8997, -7.8881, -7.907, -7.915, -8.0233, -8.0394, -7.7057, -7.999, -8.1012, -8.0745, -8.1083, -8.416, -8.1344, -8.1188, -8.1501, -8.4449, -7.7373, -8.0974, -8.387, -8.117, -8.1392, -8.0884, -8.1534, -8.1511, -8.1045, -8.4424, -8.1267, -8.4386, -7.7439, -8.1513, -8.0089, -8.4154, -8.1462, -8.1564, -8.1485, -8.4289, -8.1528, -8.1141, -8.0958, -8.1081, -8.1273, -8.1415, -8.1519, -8.1099, -8.0937, -8.0876, -8.0757, -7.6789, -8.0519, -8.03, -7.7488, -7.6667, -8.1051, -8.0695, -8.0713, -8.0934, -7.8343, -8.0347, -7.8871, -7.9112, -7.9272, -7.9277, -7.932, -7.9253, -7.9264, -7.9277, -8.0721, -7.4457, -7.6238, -7.4618, -7.7212, -7.5856, -7.9066, -7.7478, -8.1518, -7.5936, -7.3362, -8.1313, -7.7382, -7.7395, -7.3187, -7.9239, -7.9264, -7.9236, -7.7424, -8.1481, -8.0487, -8.0982, -7.7473, -8.1384, -8.1281, -7.7702, -7.342, -7.5506, -8.1537, -8.1545, -8.1357, -7.9304, -7.4543, -7.9203, -7.5245, -7.7336, -7.4264, -7.4519, -7.2914, -7.9304, -7.9053, -7.773, -7.8387, -7.8467, -7.8647, -7.8327, -7.8954, -7.893, -7.8964, -7.7499, -7.7406, -7.7476, -7.7847, -7.7444, -8.0396, -7.7382, -7.7397, -8.0303, -7.7764, -7.7891, -7.7941, -8.0184, -8.0048, -7.786, -7.7189, -8.4088, -8.065, -7.7753, -8.0223, -8.399, -7.9634, -8.0163, -8.1469, -8.0329, -8.3758, -8.0113, -8.37, -8.238, -8.1342, -7.7929, -8.0201, -7.7518, -7.7903, -7.7921, -7.7901, -7.775, -7.7348, -7.7896, -7.7835, -7.723, -7.7715, -7.9508, -7.9826, -7.997, -8.0025, -7.7365, -7.6999, -7.7305, -7.8184, -7.7233, -7.9036, -7.9097, -7.7239, -7.9012, -7.9047, -7.9169, -7.8931, -7.9072, -7.7294, -7.8944, -7.8094, -7.8994, -7.9074, -7.8993, -7.9035, -7.9115, -7.7358, -7.7334, -7.9037, -7.8121, -7.8802, -7.9091, -7.8131, -8.4039, -7.9055, -7.8915, -7.7234, -7.8649, -7.8138, -7.8531, -7.5326, -7.563, -7.5595, -7.5599, -7.5772, -7.5116, -7.5784, -7.5377, -7.5779, -7.8175, -7.8781, -7.8825, -7.8889, -8.0158, -7.8047, -7.7674, -8.0147, -7.993, -7.8101, -8.0173, -7.9995, -8.0115, -7.8075, -8.0144, -8.377, -8.3966, -7.811, -8.0207, -7.9942, -7.9988, -8.6963, -8.1273, -7.8131, -8.2453, -8.0638, -8.117, -8.3766, -8.0042, -8.3222, -8.359, -8.1216, -7.9717, -8.2335, -8.0773, -8.0181, -7.9982, -8.1144, -8.0812, -8.0125, -8.0387, -8.0156, -8.0872, -8.0578, -8.0859, -8.0847, -7.9919, -8.0748, -8.1298, -8.0577, -8.0753, -8.117, -8.084, -8.1305, -8.0396, -8.0247, -8.4121, -8.0786, -8.1205, -8.0733, -8.1263, -8.0091, -8.1237, -8.127, -8.0997, -8.1284, -8.3255, -8.1108, -8.1127, -8.4094, -8.0887, -8.1239, -8.3604, -8.3867, -8.118, -8.1292, -8.1056, -8.0398, -8.1243, -8.1272, -8.0981, -8.1172, -8.0853, -8.0666, -7.8489, -7.882, -7.8986, -7.8768, -7.8979, -7.8985, -7.7167, -8.0355, -7.8914, -7.9031, -8.1018, -8.1094, -8.101, -8.088, -8.0834, -8.0867, -7.8017, -7.7119, -8.0012, -7.8079, -7.7239, -7.6244, -7.6394, -7.6975, -7.7207, -8.0073, -8.1087, -8.0948, -8.0715, -8.1168, -7.7158, -8.0922, -8.41, -7.7847, -8.1043, -7.7028, -8.405, -7.9871, -8.0017, -8.1166, -7.9926, -8.4121, -8.0896, -8.0062, -8.0044, -7.9835, -7.6268, -7.7134, -7.7211, -8.0097, -7.9845, -8.0007, -7.678, -7.6445, -7.6421, -7.6401, -7.5868, -7.6263, -7.595, -7.9187, -7.9726, -7.9749, -7.9349, -7.9554, -7.9355, -7.925, -7.9677, -7.9046, -7.9742, -7.9974, -8.107, -7.9993, -8.401, -8.3719, -7.9582, -8.3869, -8.3777, -8.4036, -8.4122, -7.9597, -8.4015, -8.2466, -8.3955, -8.3735, -8.2402, -8.4039, -8.3183, -8.4136, -8.384, -8.3592, -8.362, -8.385, -8.4058, -8.3121, -8.291, -8.4074, -8.4133, -8.1227, -8.392, -8.1239, -8.0988, -8.3075, -8.2521, -8.1096, -7.9753, -8.0692, -8.0022, -8.021, -8.2078, -8.1047, -7.9916, -8.2192, -8.2534, -8.1109, -7.8528, -8.1064, -7.9813, -8.0013, -7.9958, -7.954, -8.1253, -8.0902, -7.9978, -8.003, -8.1159, -7.9999, -8.0976, -8.0997, -8.0869, -7.9738, -7.9968, -8.0009, -8.0939, -8.0977, -8.106, -7.8971, -8.0874, -7.8495, -8.0209, -7.9986, -8.0974, -8.1091, -8.0788, -8.0889, -8.0864, -7.8995, -8.1169, -7.9716, -8.1057, -7.9017, -7.8666, -8.2311, -8.1187, -8.0004, -8.0977, -8.0922, -7.8954, -7.8531, -8.0832, -8.0182, -7.9991, -8.3737, -8.007, -7.8789, -8.3999, -8.1074, -8.1164, -8.1055, -7.8722, -8.1001, -7.9818, -7.6745, -7.7109, -8.0511, -8.0776, -8.0459, -8.0805, -8.0752, -8.0637, -8.0586, -8.0759, -8.0843, -7.5301, -7.6582, -7.7908, -7.6985, -7.774, -7.8812, -7.6465, -7.8685, -7.6982, -7.7926, -7.7662, -7.8895, -7.6963, -7.7026, -8.3791, -7.8896, -7.6947, -7.6896, -7.6275, -7.6263, -7.7784, -8.3951, -7.6306, -7.6133, -7.7104, -8.0807, -7.7006, -7.708, -7.7761, -7.5535, -7.7047, -7.6811, -7.7031, -7.5385, -7.6797, -7.7104, -7.6275, -7.6971, -7.7043, -7.6828, -7.6245, -7.7103, -7.3511, -7.6948, -7.5631, -7.4609, -7.4707, -7.61, -7.6047, -7.5931, -7.6082, -7.6114, -7.6186, -7.6181, -7.6232, -7.693, -7.6644, -7.6195, -7.6842, -7.6864, -7.6835, -7.6649, -7.6697, -7.6803, -7.6825, -8.0729, -7.6946, -7.6754, -7.6864, -8.3743, -7.6957, -7.663, -7.6904, -8.0425, -7.6829, -7.6814, -7.6925, -7.6898, -8.0729, -7.6849, -7.8715, -7.6629, -8.0913, -7.8719, -7.6731, -7.6902, -7.6914, -7.6788, -7.6724, -7.6321, -7.6614, -7.607, -7.6594, -7.3973, -7.3462, -7.4072, -7.4792, -7.5223, -7.6636, -7.5368, -7.5365, -7.5269, -7.5398, -7.6621, -7.6802, -7.6824, -7.9239, -7.7321, -7.9086, -7.9211, -8.1472, -7.9411, -7.9721, -7.9664, -7.9702, -7.9513, -7.937, -7.9724, -7.9218, -7.9533, -7.966, -7.961, -7.9294, -7.9422, -7.9736, -8.309, -7.9701, -7.9622, -7.9371, -7.9336, -7.9435, -7.9678, -7.9189, -7.9557, -7.8771, -8.0211, -7.9633, -7.9619, -7.5741, -7.9372, -7.955, -7.9174, -7.9463, -7.9523, -7.9446, -7.942, -7.9567, -7.9559, -7.9585, -7.5552, -7.5601, -7.7189, -7.9607, -7.559, -7.9587, -7.6852, -7.9596, -7.9308, -7.9664, -7.9252, -7.9396, -7.9365, -7.955, -7.9127, -7.5583, -7.9666, -7.9112, -8.3531, -7.5494, -8.1602, -8.2266, -7.9604, -7.959, -8.0593, -8.2591, -7.965, -8.2545, -8.3255, -7.8991, -7.8988, -8.0208, -7.9467, -7.9148, -8.0221, -7.7428, -7.7446, -7.7667, -7.7654, -7.7672, -7.7295, -7.7158, -7.7627, -7.7678, -7.7637, -7.7535, -7.7439, -7.7674, -7.7647, -7.7601, -7.7362, -7.8031, -7.7675, -7.7642, -7.2515, -7.2653, -7.2614, -7.7405, -7.8316, -7.8365, -7.7924, -8.072, -8.2051, -8.0656, -8.0596, -7.8988, -8.0689, -8.2069, -8.014, -8.0724, -8.065, -8.3185, -7.9327, -8.057, -8.0641, -8.0624, -7.9984, -8.2609, -8.0522, -8.3375, -8.0725, -8.061, -7.8541, -8.3331, -8.0556, -7.8423, -7.7471, -7.8501, -8.0113, -7.895, -7.7382, -8.0121, -8.0402, -8.0233, -8.0469, -8.0362, -8.0534, -8.0517, -8.0464, -8.0527, -7.3614, -7.4552, -7.6069, -7.4876, -7.6365, -7.482, -7.4946, -7.4782, -8.0596, -7.4962, -7.6499, -7.6494, -7.6494, -7.6427, -7.6358, -7.4955, -7.5006, -7.6323, -7.6272, -7.6031, -7.6488, -7.4783, -7.6345, -7.6201, -8.0008, -7.6498, -7.6498, -8.0385, -8.1761, -7.6539, -7.6468, -7.4919, -7.4955, -7.4894, -7.4745, -7.5006, -7.4854, -7.4891, -7.499, -7.4949, -7.9397, -7.915, -7.9369, -8.1676, -7.9102, -8.0822, -7.9021, -7.9342, -8.1678, -8.2143, -8.3132, -8.0123, -7.9215, -7.9227, -7.912, -8.0457, -8.2875, -8.1082, -8.1864, -8.1245, -8.1427, -7.9161, -8.2324, -8.3403, -8.1705, -7.9511, -8.2856, -8.3351, -8.3402, -7.9087, -7.9368, -7.9421, -7.9128, -8.0324, -7.8317, -8.0401, -7.931, -7.8943, -7.9367, -7.9352, -8.047, -7.9416, -7.9252, -7.93, -7.9413, -7.9045, -7.946, -7.9166, -7.9339, -8.0052, -7.5538, -7.5254, -7.8257, -7.5606, -7.8177, -7.819, -7.7846, -7.8211, -7.8056, -8.3281, -7.808, -8.2927, -8.3308, -8.2718, -8.3277, -7.8124, -7.8228, -7.7977, -8.2871, -7.8265, -8.3189, -8.3015, -7.8247, -7.7704, -8.3201, -8.3199, -8.3272, -8.4002, -8.4872, -7.8077, -7.7613, -8.2579, -7.8095, -7.7974, -7.8755, -7.8108, -7.8177, -7.8259, -7.7915, -7.8101, -7.7991, -7.8227, -7.7183, -8.1508, -8.1235, -7.8822, -7.9052, -8.0987, -7.8535, -7.9107, -8.1631, -7.9016, -8.3181, -8.284, -8.2957, -8.3068, -7.8905, -8.2073, -8.3149, -8.3025, -8.0671, -8.2975, -8.3031, -8.2636, -8.2793, -8.2488, -8.2863, -8.3024, -8.2297, -8.2452, -8.2945, -8.3112, -8.3161, -8.3176, -8.2761, -8.2267, -8.272, -8.1256, -8.121, -8.2344, -8.1147, -8.1148, -8.2274, -8.2123, -8.1758, -8.2508, -8.2543, -8.2538, -8.2692, -8.2485, -8.2101, -8.2145, -8.254, -8.2562, -8.1469, -8.2824, -8.2975, -7.7864, -8.3075, -8.3082, -7.7862, -8.2836, -8.1495, -8.3035, -8.2898, -8.47, -8.3062, -7.7787, -8.3072, -8.3111, -8.2925, -7.7811, -8.1208, -8.2996, -8.3068, -8.2633, -8.3029, -7.7964, -8.2843, -8.2999, -8.2833, -8.2754, -7.7975, -8.3126, -7.7766, -8.1438, -8.1156, -8.0986, -8.1492, -7.7495, -7.6026, -7.9548, -7.9759, -7.9684, -7.9863, -7.8776, -7.994, -7.9753, -7.9852, -7.9035, -7.9048, -8.0003, -8.0079, -7.9893, -8.0035, -8.0197, -8.008, -7.9951, -8.0068, -8.0154, -8.0186, -8.0201, -8.275, -8.189, -8.2496, -8.287, -8.2708, -8.286, -8.2446, -8.2825, -8.3037, -8.298, -8.2793, -8.2946, -8.3006, -8.3025, -8.1305, -8.292, -8.2487, -8.3095, -8.2306, -8.3079, -8.2705, -8.3103, -8.2356, -8.2553, -8.2545, -8.2805, -8.3057, -8.2858, -8.294, -8.2731, -8.1348, -8.157, -8.218, -8.2309, -7.8434, -7.8406, -7.89, -8.234, -8.102, -8.2516, -8.2411, -8.1542, -8.0858, -7.9948, -8.1903, -8.2278, -8.2121, -8.2408, -8.246, -8.1217, -8.1513, -8.1965, -8.224, -8.2215, -8.2123, -8.2161, -8.2254, -8.242, -7.5159, -7.5693, -7.9687, -7.7508, -7.7763, -7.7718, -7.7857, -8.0081, -7.6085, -7.7831, -8.0149, -8.0111, -7.7838, -8.3043, -8.2784, -7.4803, -7.4548, -8.262, -8.0039, -7.9616, -7.9958, -7.6031, -8.0065, -7.5968, -7.9911, -7.6097, -8.002, -7.9846, -8.0129, -8.0157, -7.7928, -7.79, -7.7813, -7.7821, -7.7761, -7.7719, -7.9895, -7.8863, -7.9911, -7.9982, -7.9969, -7.9979, -7.3199, -7.3147, -7.3188, -7.3202, -7.3201, -7.3109, -7.3101, -7.2865, -7.2905, -7.3047, -7.3185, -7.3021, -7.3185, -7.3173, -7.2939, -7.3215, -7.3088, -7.3021, -7.319, -7.2893, -7.2966, -7.317, -7.3156, -7.3175, -7.315, -7.318, -7.3143, -7.3194, -7.8529, -7.8863, -7.2429, -7.3213, -7.3025, -7.2857, -7.2767, -7.3071, -7.3037, -7.3091, -8.2496, -8.2665, -8.2165, -7.9866, -8.2438, -8.1844, -8.2551, -8.2575, -8.2818, -8.2706, -7.9485, -8.3487, -8.2594, -8.468, -8.2497, -8.2681, -8.2729, -8.2799, -8.1419, -7.7595, -8.2471, -8.2813, -8.2369, -8.1388, -8.2548, -8.2823, -8.2242, -8.2722, -8.2736, -8.2856, -8.2614, -8.2525, -8.1738, -7.5732, -8.2596, -8.2667, -8.2673, -8.2391, -8.2468, -8.2397, -8.2517, -8.2621, -8.263, -8.2655, -8.2781, -8.2764, -8.254, -8.2159, -8.2813, -8.2043, -8.2813, -8.2294, -8.2593, -8.2217, -8.2818, -8.2449, -8.2736, -8.2591, -8.2823, -8.1139, -8.2276, -8.1094, -8.2616, -8.2406, -8.2623, -8.2488, -8.2333, -8.2486, -8.2609, -8.2594, -8.28, -8.3063, -8.2404, -8.2568, -8.2401, -8.1773, -8.1923, -7.8989, -7.8711, -8.1215, -8.2146, -8.2064, -8.1181, -8.2257, -8.2238, -8.1881, -8.2207, -7.9298, -7.9472, -7.971, -7.9842, -7.9889, -7.9866, -7.9872, -7.9723, -7.9887, -8.1887, -8.1831, -8.2113, -8.2142, -7.975, -7.9466, -7.9373, -7.9322, -7.9423, -7.9796, -8.1891, -7.9784, -8.2415, -8.2258, -8.1687, -8.2334, -8.235, -8.2351, -7.9789, -8.2547, -8.2355, -8.1092, -8.2272, -7.9803, -7.9136, -8.267, -8.2666, -7.9654, -7.9817, -8.2483, -8.2517, -7.9804, -8.2525, -8.266, -8.2099, -8.122, -7.9829, -7.7318, -7.7919, -7.7142, -8.0579, -7.7325, -7.8548, -7.8567, -7.8684, -7.8882, -8.1152, -7.752, -7.7515, -7.6427, -7.9826, -7.8775, -7.9628, -8.0052, -7.9588, -8.2263, -8.2027, -8.1985, -7.9334, -8.1179, -8.2312, -8.1059, -8.2614, -8.3411, -8.2123, -8.2648, -8.2661, -8.2464, -8.2361, -8.2115, -8.2262, -8.2572, -7.965, -8.256, -8.2639, -8.2513, -8.2574, -8.2633, -8.2362, -8.3938, -7.9548, -8.2348, -8.4344, -8.2115, -8.2416, -7.7471, -8.2127, -7.7039, -7.973, -7.9489, -7.761, -7.9663, -7.7553, -7.8496, -7.9621, -7.973, -7.25, -7.7489, -7.963, -7.9606, -7.9462, -7.7554, -7.9725, -7.7421, -7.9715, -7.9541, -7.7567, -7.9587, -7.9343, -7.8712, -7.8576, -7.7249, -7.8106, -7.7351, -7.9679, -7.972, -7.7611, -7.7575, -7.7606, -7.8472, -7.9686, -7.8067, -7.9731, -7.9782, -7.7727, -8.1214, -7.8492, -8.43, -8.096, -8.0749, -7.866, -8.2662, -7.8341, -8.2176, -7.8671, -8.2591, -8.1896, -8.4323, -8.659, -8.423, -8.2501, -8.2161, -8.3317, -8.254, -8.2446, -8.6238, -8.1089, -7.5166, -7.5302, -7.5436, -7.5331, -7.5405, -7.5404, -7.5404, -7.507, -7.5382, -7.5435, -7.5459, -7.543, -7.5322, -7.541, -7.5432, -7.5445, -7.8446, -7.5329, -7.5332, -7.8635, -7.809, -7.8214, -8.1968, -7.8215, -8.1806, -7.8161, -8.2168, -8.128, -8.181, -7.7473, -7.6078, -7.9871, -8.2288, -7.8231, -8.1128, -8.1879, -7.8273, -8.2143, -8.213, -8.5053, -8.2293, -8.4557, -8.2145, -8.0573, -8.2213, -8.2097, -8.2303, -8.2298, -8.2052, -8.1864, -7.8281, -8.1884, -8.0486, -7.789, -8.1274, -8.1976, -8.2096, -8.117, -8.1684, -8.1807, -8.1937, -8.1892, -8.1929, -8.1973, -7.819, -7.8148, -7.8093, -7.8227, -7.8127, -7.7263, -7.7762, -7.7541, -7.816, -7.8201, -7.8185, -7.7779, -7.818, -8.2096, -8.1401, -7.7943, -7.8226, -8.2083, -8.1912, -8.1845, -7.8074, -7.8154, -8.2116, -8.422, -8.2273, -7.8855, -8.2167, -8.3945, -8.1694, -8.2149, -7.9099, -7.8226, -7.9325, -7.8693, -7.865, -7.9009, -7.8486, -7.8806, -7.9152, -7.9292, -7.933, -7.665, -7.9092, -7.877, -7.9113, -7.6604, -7.6882, -7.9135, -7.8561, -7.9003, -7.9165, -8.0251, -7.9084, -7.8756, -7.9177, -8.2069, -7.6977, -7.8946, -8.0638, -8.1685, -8.0831, -8.1939, -7.9045, -8.0365, -8.204, -8.0457, -7.8741, -8.1561, -7.9043, -7.9172, -8.1969, -8.0167, -8.2824, -8.1817, -8.1765, -8.114, -7.8936, -7.2401, -7.2887, -7.2908, -7.4836, -7.4983, -7.4701, -7.4853, -7.5089, -7.5104, -7.5035, -7.5106, -7.5099, -7.5149, -7.5147, -7.5027, -7.4831, -7.5079, -7.5103, -7.8841, -7.8925, -8.2039, -8.0956, -8.2943, -7.982, -7.957, -8.1849, -8.5977, -8.1914, -8.1857, -8.1805, -8.1951, -8.1887, -8.772, -8.0216, -8.3286, -8.1707, -8.4386, -8.1527, -8.0486, -8.1449, -8.5342, -8.8668, -8.5213, -8.1948, -8.3691, -8.7983, -8.2301, -8.5517, -8.6997, -8.5638, -8.3671, -8.3542, -8.3249, -8.3417, -8.18, -8.0262, -8.1707, -8.0089, -8.1951, -8.1812, -7.9959, -8.1371, -8.1476, -8.3072, -8.3113, -8.3184], \"loglift\": [30.0, 29.0, 28.0, 27.0, 26.0, 25.0, 24.0, 23.0, 22.0, 21.0, 20.0, 19.0, 18.0, 17.0, 16.0, 15.0, 14.0, 13.0, 12.0, 11.0, 10.0, 9.0, 8.0, 7.0, 6.0, 5.0, 4.0, 3.0, 2.0, 1.0, 2.9174, 2.9026, 2.8966, 2.8929, 2.8786, 2.8772, 2.873, 2.8724, 2.8503, 2.8485, 2.8196, 2.8196, 2.8164, 2.8122, 2.7901, 2.7875, 2.7865, 2.7829, 2.7694, 2.7644, 2.7623, 2.761, 2.7603, 2.759, 2.7537, 2.7474, 2.7415, 2.7258, 2.7233, 2.7229, 2.7228, 2.7095, 2.7015, 2.6906, 2.6837, 2.695, 2.4683, 2.6256, 2.6371, 2.4278, 2.1516, 2.3402, 2.7934, 2.7932, 2.7909, 2.77, 2.7687, 2.7633, 2.7577, 2.7512, 2.7506, 2.7491, 2.7424, 2.7391, 2.7384, 2.7381, 2.7307, 2.7296, 2.7262, 2.7256, 2.7236, 2.723, 2.7228, 2.7207, 2.7196, 2.719, 2.7146, 2.714, 2.7137, 2.7108, 2.71, 2.7094, 2.7078, 2.7047, 2.6871, 2.6835, 2.7036, 2.6971, 2.6677, 2.6957, 2.6833, 2.4849, 2.4408, 2.4063, 2.6739, 2.4181, 2.6719, 2.3921, 2.6771, 2.2667, 2.364, 2.3458, 2.2331, 2.3174, 2.3239, 2.2642, 2.2183, 2.2446, 2.143, 2.2621, 2.1816, 2.6418, 2.6379, 1.372, 3.0345, 3.031, 3.0244, 3.0197, 3.0133, 3.0119, 3.002, 3.0013, 3.0011, 2.9951, 2.9917, 2.9895, 2.9815, 2.9741, 2.9728, 2.9724, 2.971, 2.9683, 2.9616, 2.9502, 2.9472, 2.9377, 2.9363, 2.9268, 2.9249, 2.9246, 2.9224, 2.9216, 2.9213, 2.9204, 2.9196, 2.9103, 2.9044, 2.896, 2.8073, 2.9008, 2.8976, 2.84, 2.2732, 2.8835, 2.883, 2.8603, 2.8383, 2.8351, 2.8279, 2.8276, 2.8098, 2.7932, 2.7907, 2.7884, 2.7826, 2.7821, 2.7814, 2.7775, 2.7758, 2.7738, 2.7724, 2.7713, 2.7662, 2.763, 2.7566, 2.7536, 2.7513, 2.7506, 2.7489, 2.7451, 2.7436, 2.743, 2.7362, 2.7328, 2.7297, 2.705, 2.7033, 2.6807, 2.7289, 2.7259, 2.7014, 2.705, 2.7123, 2.6724, 2.3914, 2.333, 2.3409, 2.3206, 2.2908, 2.6506, 2.2719, 2.2394, 2.1802, 2.1143, 1.6469, 1.5951, 1.4426, 1.699, 2.5347, 1.6874, 1.6637, 1.6687, 1.7101, 1.7123, 2.0793, 2.566, 2.4527, 2.6234, 3.0461, 3.036, 3.0316, 3.0265, 3.0119, 2.9819, 2.977, 2.9765, 2.9646, 2.9629, 2.9515, 2.9497, 2.9484, 2.9466, 2.945, 2.9422, 2.9363, 2.9342, 2.9284, 2.9253, 2.9232, 2.9135, 2.9133, 2.9088, 2.8988, 2.8986, 2.8985, 2.8908, 2.8879, 2.8872, 2.8869, 2.8777, 2.8624, 2.8776, 2.8431, 2.874, 2.8212, 2.7714, 2.7195, 2.8558, 2.568, 2.7383, 2.6232, 2.0629, 1.9198, 1.9526, 3.0822, 3.0763, 3.0595, 3.0525, 3.0518, 3.0344, 3.0317, 3.016, 3.0152, 3.0144, 3.0103, 3.0083, 3.0079, 3.0062, 2.9988, 2.9936, 2.985, 2.983, 2.9806, 2.9749, 2.9747, 2.9715, 2.9697, 2.9691, 2.968, 2.9678, 2.9639, 2.9576, 2.9474, 2.9441, 2.944, 2.9372, 2.9334, 2.9242, 2.9346, 2.8362, 2.4766, 2.4827, 2.4503, 2.4547, 2.4175, 2.4362, 2.2589, 2.232, 2.288, 2.9956, 2.9787, 2.9754, 2.9464, 2.9419, 2.9348, 2.9319, 2.9267, 2.9202, 2.9202, 2.9139, 2.9037, 2.8978, 2.8906, 2.8875, 2.8838, 2.8812, 2.8806, 2.8772, 2.8763, 2.8717, 2.8716, 2.8713, 2.8662, 2.8649, 2.8649, 2.8631, 2.8597, 2.859, 2.8549, 2.8544, 2.8333, 2.8335, 2.8422, 2.8239, 2.821, 2.7893, 2.7717, 2.7584, 2.755, 2.7777, 2.6675, 2.6247, 2.6462, 2.6434, 1.8582, 2.2852, 2.7876, 2.5521, 1.8071, 1.7621, 2.8151, 1.3915, 1.515, 1.6101, 1.5908, 2.3527, 1.6021, 3.0935, 3.0628, 3.0509, 3.0368, 3.0174, 3.0153, 2.9761, 2.9635, 2.9623, 2.9571, 2.9564, 2.9424, 2.9422, 2.9345, 2.9249, 2.9192, 2.9146, 2.9112, 2.9078, 2.8927, 2.8892, 2.8763, 2.8728, 2.872, 2.8663, 2.8662, 2.8579, 2.8568, 2.8511, 2.8508, 2.8445, 2.7482, 2.8338, 2.7103, 2.7939, 2.806, 2.6694, 2.7789, 2.6464, 2.6197, 2.6168, 2.6157, 2.5986, 2.5874, 2.5352, 2.1941, 2.1917, 1.9354, 1.93, 1.81, 2.176, 2.1589, 2.1476, 2.106, 2.2839, 3.1578, 3.1357, 3.0969, 3.0797, 3.0739, 3.0631, 3.0568, 3.0456, 3.0411, 3.04, 3.0386, 3.0346, 3.0344, 3.0291, 3.0253, 3.018, 3.0166, 3.0156, 3.0135, 3.0116, 3.0113, 3.0113, 3.0087, 3.0078, 3.0048, 3.0036, 3.0014, 3.0008, 2.9942, 2.9928, 2.991, 2.9881, 2.9782, 2.9753, 2.9748, 2.9819, 2.98, 2.9733, 2.8333, 2.9563, 2.7432, 2.7681, 2.8332, 2.9436, 2.6762, 2.5753, 2.5601, 2.8972, 2.8604, 2.7769, 2.7876, 2.8282, 2.7765, 2.4935, 2.5945, 2.5928, 2.6915, 3.191, 3.1671, 3.1634, 3.1429, 3.1414, 3.1342, 3.129, 3.1284, 3.1275, 3.1247, 3.1188, 3.1179, 3.1145, 3.1102, 3.0961, 3.0946, 3.0867, 3.0832, 3.0819, 3.0816, 3.0791, 3.0778, 3.0734, 3.0722, 3.0714, 3.058, 3.0558, 3.0537, 3.0475, 3.0472, 3.0455, 3.0319, 3.0001, 2.9952, 2.9647, 2.3749, 2.3609, 2.368, 2.3963, 2.3559, 2.3664, 2.3486, 2.3561, 2.3433, 2.3503, 2.3441, 2.28, 2.2839, 2.2855, 2.314, 2.2683, 2.2807, 2.2755, 2.2023, 1.8735, 3.1635, 3.1471, 3.1249, 3.1205, 3.1175, 3.0931, 3.0837, 3.0752, 3.0691, 3.0554, 3.0536, 3.0429, 3.0398, 3.0351, 3.0265, 3.0257, 3.0106, 3.0076, 3.005, 3.001, 2.9978, 2.9938, 2.9898, 2.9811, 2.9734, 2.9674, 2.9635, 2.9578, 2.957, 2.9552, 2.9506, 2.9441, 2.8969, 2.9151, 2.9058, 2.9395, 2.8344, 2.8851, 2.884, 2.8574, 2.7616, 2.9232, 2.9125, 2.7562, 2.7772, 2.7754, 2.7765, 2.7018, 2.0453, 2.6952, 2.1673, 2.1993, 3.1813, 3.164, 3.1631, 3.1572, 3.1498, 3.1454, 3.138, 3.1373, 3.1308, 3.1299, 3.1295, 3.1275, 3.1257, 3.1223, 3.1209, 3.1164, 3.1141, 3.1133, 3.1118, 3.1109, 3.11, 3.1072, 3.1071, 3.1063, 3.1057, 3.1042, 3.1042, 3.1032, 3.0984, 3.0954, 3.0932, 2.9941, 3.0778, 3.0862, 2.8924, 3.0621, 2.8265, 3.0106, 3.0422, 3.0698, 3.0393, 2.1125, 2.065, 2.0617, 2.0921, 2.0452, 2.0376, 2.8865, 1.8547, 1.8133, 1.6426, 2.7058, 2.5788, 2.8716, 3.2324, 3.2105, 3.2064, 3.2043, 3.1865, 3.1802, 3.1793, 3.1694, 3.1643, 3.1629, 3.1606, 3.1594, 3.1587, 3.1555, 3.1533, 3.1454, 3.1437, 3.1296, 3.1226, 3.1225, 3.1211, 3.1192, 3.1183, 3.1148, 3.1144, 3.1131, 3.1121, 3.108, 3.0987, 3.0932, 3.0903, 3.0896, 3.0737, 3.0823, 3.0566, 2.9841, 2.946, 2.9854, 2.3574, 2.9188, 2.5824, 2.8565, 2.8788, 2.9112, 3.1676, 3.1458, 3.1181, 3.101, 3.1008, 3.0964, 3.0942, 3.0899, 3.0873, 3.0861, 3.0815, 3.078, 3.0769, 3.0666, 3.0661, 3.0642, 3.0604, 3.0586, 3.0575, 3.0555, 3.0543, 3.047, 3.0328, 3.0307, 3.0293, 3.0288, 3.0156, 3.015, 3.0149, 3.0135, 3.0109, 3.0041, 2.9891, 2.9813, 2.9445, 2.9397, 2.7928, 2.2707, 2.6328, 2.0757, 1.9269, 1.9529, 1.9535, 1.912, 1.9149, 1.8875, 2.1086, 1.7183, 1.5454, 1.6756, 1.6745, 2.1138, 1.6731, 1.6286, 1.5203, 1.4893, 1.4212, 2.0848, 2.0223, 3.1957, 3.1939, 3.1767, 3.1729, 3.17, 3.1558, 3.1542, 3.149, 3.1442, 3.1377, 3.1335, 3.1323, 3.1294, 3.1237, 3.1185, 3.1164, 3.1141, 3.1065, 3.1055, 3.1013, 3.0997, 3.0851, 3.0751, 3.0733, 3.0696, 3.0694, 3.0673, 3.0656, 3.0635, 3.0592, 3.0584, 3.0527, 3.0486, 3.046, 3.0428, 3.0452, 3.0483, 3.018, 3.0056, 2.9871, 2.9701, 2.4189, 2.9193, 2.8832, 2.385, 1.9436, 2.9977, 2.8832, 2.8874, 2.9509, 1.6389, 2.6333, 1.7368, 1.7394, 1.6954, 1.6481, 1.5963, 1.4831, 1.4699, 1.4084, 2.7278, 3.3903, 3.3401, 3.263, 3.255, 3.2501, 3.2272, 3.2226, 3.2188, 3.2121, 3.2118, 3.2059, 3.2024, 3.2013, 3.1918, 3.1885, 3.1865, 3.1849, 3.1839, 3.1803, 3.1722, 3.171, 3.1661, 3.1596, 3.1547, 3.1532, 3.1525, 3.1451, 3.1427, 3.1422, 3.1416, 3.1404, 3.1317, 3.1358, 3.12, 3.1192, 3.0833, 3.0731, 3.0393, 3.1266, 3.1115, 2.9578, 2.9345, 2.8186, 2.8886, 2.6472, 3.0006, 2.8624, 2.8997, 3.3441, 3.3312, 3.3162, 3.315, 3.3054, 3.2776, 3.2756, 3.2734, 3.2616, 3.2577, 3.2439, 3.2436, 3.241, 3.2393, 3.2331, 3.193, 3.1832, 3.1819, 3.1809, 3.169, 3.1608, 3.1574, 3.1538, 3.1485, 3.1464, 3.1329, 3.1142, 3.114, 3.1114, 3.1033, 3.0926, 3.0862, 3.0492, 3.0535, 3.0409, 3.0388, 2.9651, 2.9219, 2.9503, 2.9304, 2.8754, 2.8898, 2.8153, 2.9292, 3.0116, 2.7317, 3.2856, 3.2741, 3.2684, 3.2681, 3.2546, 3.2328, 3.2305, 3.2284, 3.2279, 3.2273, 3.2148, 3.2123, 3.2105, 3.2099, 3.2084, 3.1931, 3.1922, 3.1904, 3.1838, 3.1831, 3.1801, 3.1783, 3.1749, 3.1744, 3.1733, 3.1656, 3.162, 3.16, 3.1593, 3.1573, 3.1463, 3.1329, 3.1424, 3.115, 3.1255, 2.6147, 2.6067, 2.5873, 2.5779, 2.581, 2.4018, 2.5337, 2.4076, 2.4067, 2.9727, 3.1066, 3.0302, 3.0925, 3.304, 3.269, 3.2637, 3.2301, 3.2087, 3.2032, 3.187, 3.1747, 3.1719, 3.1714, 3.1516, 3.1453, 3.1154, 3.1106, 3.1071, 3.0983, 3.0891, 3.0834, 3.0763, 3.0732, 3.0718, 3.0673, 3.0662, 3.0647, 3.064, 3.0548, 3.0519, 3.0508, 3.0502, 3.0501, 3.0293, 3.0207, 3.0136, 3.0232, 3.0081, 2.9778, 2.9846, 2.9534, 2.9812, 2.9322, 2.9584, 2.9253, 2.1349, 2.7435, 3.2635, 3.2535, 3.2478, 3.2438, 3.231, 3.2161, 3.1987, 3.1939, 3.1862, 3.184, 3.1831, 3.1802, 3.1726, 3.1641, 3.164, 3.1602, 3.158, 3.1572, 3.1557, 3.1552, 3.1509, 3.1502, 3.1481, 3.1475, 3.1401, 3.1383, 3.1337, 3.1335, 3.1292, 3.1252, 3.125, 3.1246, 3.1216, 3.1192, 3.1123, 3.0545, 2.689, 2.6751, 2.6996, 2.6451, 2.6714, 2.6464, 1.8936, 2.874, 2.2424, 2.1947, 3.0457, 3.0886, 2.8861, 2.3802, 2.0001, 2.09, 3.3871, 3.3068, 3.3014, 3.2517, 3.24, 3.2378, 3.2224, 3.2169, 3.211, 3.2108, 3.2105, 3.2088, 3.2013, 3.1965, 3.1903, 3.1901, 3.1847, 3.1788, 3.1739, 3.1716, 3.1698, 3.1697, 3.161, 3.1556, 3.1547, 3.1505, 3.1483, 3.1472, 3.1448, 3.1436, 3.1344, 3.1257, 3.1221, 3.1389, 3.1342, 3.1275, 2.9741, 2.8846, 2.8651, 2.8478, 2.7475, 2.7494, 2.6245, 2.9409, 3.0401, 3.0441, 2.8172, 2.9137, 2.6993, 2.5774, 2.9731, 1.8204, 2.4438, 3.274, 3.2385, 3.1622, 3.1615, 3.1503, 3.1441, 3.1416, 3.1297, 3.1249, 3.1249, 3.1215, 3.117, 3.1143, 3.1068, 3.1058, 3.0995, 3.0955, 3.0942, 3.0918, 3.0916, 3.09, 3.0883, 3.0875, 3.0863, 3.078, 3.0686, 3.0629, 3.0623, 3.0616, 3.0561, 3.055, 3.041, 3.0514, 3.0418, 3.0038, 2.9227, 2.9305, 2.8527, 2.8505, 2.9646, 2.8703, 2.7538, 2.9529, 2.9837, 2.8341, 2.5651, 2.8045, 2.634, 2.6375, 2.611, 2.5459, 2.7955, 2.7396, 2.572, 2.58, 2.7633, 2.4787, 2.6664, 2.6679, 2.623, 2.1902, 2.126, 1.9443, 2.6, 2.5678, 2.6815, 3.295, 3.2864, 3.2776, 3.2435, 3.2278, 3.2169, 3.2169, 3.207, 3.2061, 3.2015, 3.1915, 3.1897, 3.1841, 3.1806, 3.1783, 3.1645, 3.162, 3.1573, 3.152, 3.1478, 3.1466, 3.1465, 3.1463, 3.1461, 3.141, 3.1397, 3.1326, 3.1319, 3.1271, 3.1271, 3.1271, 3.1231, 3.1222, 3.0992, 3.1216, 3.0742, 2.945, 2.8302, 3.0464, 3.0851, 2.819, 3.0383, 2.919, 2.6861, 2.2691, 2.6462, 2.9596, 3.4162, 3.4035, 3.3823, 3.356, 3.351, 3.3296, 3.329, 3.3129, 3.3124, 3.3116, 3.2835, 3.2727, 3.2678, 3.2639, 3.2531, 3.2529, 3.2454, 3.2348, 3.2322, 3.2321, 3.2197, 3.2194, 3.2172, 3.2142, 3.2104, 3.2052, 3.1995, 3.1993, 3.1988, 3.1951, 3.178, 3.1755, 3.1769, 3.1217, 3.1625, 3.1745, 3.1191, 3.1489, 3.1458, 3.1097, 2.9064, 3.1315, 1.985, 3.0768, 2.5211, 1.9475, 1.9256, 2.4869, 2.4281, 1.8802, 2.0143, 2.0392, 2.0053, 1.9102, 1.9526, 3.4117, 3.4051, 3.4006, 3.3939, 3.3924, 3.3712, 3.3473, 3.3361, 3.3261, 3.3258, 3.3204, 3.3156, 3.3145, 3.3107, 3.307, 3.3012, 3.2831, 3.2721, 3.2671, 3.2662, 3.2661, 3.2592, 3.2558, 3.2516, 3.2497, 3.2342, 3.2271, 3.2182, 3.2167, 3.2153, 3.1958, 3.1921, 3.1846, 3.1816, 3.1533, 3.1362, 3.1113, 3.1056, 2.2266, 1.99, 2.1211, 1.9941, 2.1002, 3.0756, 2.1138, 2.0392, 1.8694, 1.8686, 3.0178, 3.105, 3.011, 3.4403, 3.4244, 3.4193, 3.4175, 3.408, 3.4073, 3.3934, 3.3914, 3.3871, 3.3849, 3.3737, 3.3685, 3.3649, 3.3562, 3.3479, 3.3392, 3.32, 3.3144, 3.3143, 3.3101, 3.3013, 3.2986, 3.2802, 3.279, 3.2781, 3.2736, 3.2718, 3.2691, 3.2663, 3.2659, 3.2635, 3.2586, 3.1868, 3.2486, 3.2556, 3.2046, 3.2305, 3.236, 3.1775, 3.1257, 3.2425, 3.2241, 3.2277, 3.4497, 3.4446, 3.4386, 3.4156, 3.4079, 3.4001, 3.3965, 3.3891, 3.3818, 3.3765, 3.3642, 3.3637, 3.3512, 3.342, 3.3317, 3.3239, 3.3082, 3.3067, 3.3003, 3.2914, 3.2889, 3.2785, 3.266, 3.2563, 3.2519, 3.2189, 3.2148, 3.1955, 3.1901, 3.1847, 3.1732, 3.1712, 3.1531, 3.1285, 3.1648, 2.9672, 2.9445, 2.9407, 2.9249, 2.9267, 2.8774, 2.849, 2.9028, 2.9097, 2.889, 2.8618, 2.8258, 2.8714, 2.8552, 2.8229, 2.7424, 2.9133, 2.7325, 2.6538, 3.509, 3.4973, 3.4838, 3.361, 3.3514, 3.3393, 3.3271, 3.3239, 3.3237, 3.3191, 3.3043, 3.292, 3.2917, 3.2914, 3.2823, 3.279, 3.2769, 3.2751, 3.2709, 3.2662, 3.2658, 3.2512, 3.2429, 3.2387, 3.2378, 3.2289, 3.2261, 3.2209, 3.2176, 3.2127, 3.2049, 3.1961, 3.1866, 3.1543, 3.1914, 3.1075, 3.0061, 3.1696, 3.1912, 3.0666, 3.1454, 3.0303, 3.1639, 3.1388, 2.2723, 2.7809, 3.6213, 3.5638, 3.5619, 3.5508, 3.5411, 3.5334, 3.532, 3.5242, 3.5181, 3.5065, 3.4947, 3.4846, 3.4686, 3.4624, 3.4616, 3.4539, 3.4354, 3.4344, 3.4276, 3.4264, 3.4245, 3.4237, 3.4178, 3.4114, 3.4028, 3.3983, 3.3834, 3.3695, 3.3477, 3.3475, 3.272, 2.9534, 2.9422, 2.9311, 2.8965, 2.8709, 2.5689, 2.5774, 2.6177, 2.579, 3.4329, 3.4135, 3.4081, 3.363, 3.3594, 3.3549, 3.3534, 3.3383, 3.3365, 3.3266, 3.3262, 3.3196, 3.3138, 3.313, 3.3128, 3.3097, 3.3044, 3.2989, 3.2967, 3.2901, 3.29, 3.2824, 3.2814, 3.2757, 3.2705, 3.2693, 3.2684, 3.2668, 3.2648, 3.2534, 3.2424, 3.2402, 3.2109, 3.2182, 3.1673, 3.2112, 3.1668, 3.0591, 3.0809, 3.0642, 3.1701, 3.0162, 2.952, 2.9299, 2.8039, 1.7065, 2.0354, 1.5596, 1.6854, 1.989, 3.7048, 3.552, 3.5452, 3.5014, 3.4488, 3.4366, 3.4047, 3.3929, 3.3915, 3.3819, 3.3748, 3.3708, 3.3582, 3.3581, 3.339, 3.3371, 3.3182, 3.3082, 3.308, 3.302, 3.2931, 3.2753, 3.271, 3.2577, 3.2562, 3.2481, 3.2479, 3.2478, 3.2464, 3.2417, 3.1674, 3.2223, 3.1107, 3.1032, 3.1095, 3.0853, 3.0319, 3.0231, 2.9541, 2.9313, 2.8756, 2.8773, 2.5624, 3.0851, 2.8742, 3.5171, 3.3812, 3.3713, 3.3617, 3.3548, 3.3441, 3.3417, 3.3252, 3.3059, 3.3055, 3.2943, 3.2916, 3.2806, 3.2798, 3.2778, 3.2777, 3.271, 3.266, 3.2636, 3.2628, 3.2578, 3.2508, 3.2483, 3.2348, 3.2322, 3.2234, 3.2192, 3.2097, 3.2091, 3.2031, 3.2019, 3.2028, 3.1736, 3.1379, 3.1849, 3.1174, 3.0702, 3.1548, 3.1069, 2.9905, 3.1569, 3.1402, 3.1156, 3.17, 3.049, 2.698, 2.6917, 2.7542, 2.5658, 3.4129, 3.3947, 3.3915, 3.3692, 3.3465, 3.334, 3.334, 3.3114, 3.3103, 3.3014, 3.2983, 3.2875, 3.2832, 3.2805, 3.2752, 3.2667, 3.2613, 3.2333, 3.2305, 3.2274, 3.2144, 3.1998, 3.1888, 3.1761, 3.1687, 3.1656, 3.1503, 3.1387, 3.1383, 3.138, 3.0889, 3.1021, 3.0924, 3.0551, 3.0607, 2.7002, 2.3615, 2.6358, 2.6669, 2.6523, 2.6583, 2.4388, 2.6595, 2.6206, 2.6154, 2.4174, 2.3975, 2.6135, 2.6246, 2.5677, 2.5966, 2.6388, 2.5962, 2.5222, 2.5735, 2.5836, 2.6003, 2.5229, 3.439, 3.4252, 3.4139, 3.3696, 3.3383, 3.3283, 3.3217, 3.3118, 3.3117, 3.3085, 3.301, 3.2984, 3.2904, 3.2887, 3.2877, 3.2832, 3.2808, 3.2719, 3.2696, 3.2594, 3.2503, 3.2472, 3.2465, 3.2459, 3.2431, 3.2415, 3.2398, 3.2366, 3.2334, 3.2211, 3.2071, 3.2025, 3.1935, 3.1983, 2.6293, 2.6115, 2.6339, 3.1617, 2.9005, 3.1803, 3.1542, 2.9222, 2.707, 2.2858, 2.9453, 3.068, 2.9953, 3.1159, 3.0975, 2.2412, 2.1531, 2.5193, 2.832, 2.7074, 2.3703, 2.2021, 2.2684, 2.893, 3.6761, 3.6357, 3.617, 3.5769, 3.5601, 3.5571, 3.5526, 3.5286, 3.5137, 3.5103, 3.4749, 3.4713, 3.4702, 3.4471, 3.4328, 3.4302, 3.4026, 3.3972, 3.3891, 3.3807, 3.379, 3.371, 3.3598, 3.3581, 3.3534, 3.3487, 3.3468, 3.3464, 3.3374, 3.3266, 3.321, 3.2616, 3.2469, 3.238, 3.1803, 3.0051, 3.296, 2.5799, 2.9664, 3.181, 3.0454, 2.9245, 3.8896, 3.8866, 3.8571, 3.8548, 3.843, 3.8196, 3.811, 3.8105, 3.7925, 3.7883, 3.784, 3.782, 3.7781, 3.7762, 3.764, 3.7485, 3.7392, 3.7223, 3.7095, 3.7017, 3.6966, 3.695, 3.6909, 3.6882, 3.6854, 3.6496, 3.6409, 3.6407, 3.6327, 3.6222, 3.6151, 3.5876, 3.5843, 3.5769, 3.3336, 3.5467, 3.3251, 2.9501, 3.4128, 3.4117, 3.3823, 3.3735, 3.3453, 3.3306, 3.3289, 3.3279, 3.3166, 3.3104, 3.3083, 3.292, 3.2901, 3.285, 3.2833, 3.278, 3.2773, 3.2662, 3.2657, 3.2573, 3.2553, 3.2477, 3.2329, 3.2275, 3.2167, 3.2158, 3.2125, 3.2067, 3.203, 3.185, 3.1792, 3.1714, 3.1147, 2.5256, 3.136, 3.1639, 3.163, 2.8514, 2.9228, 2.7856, 2.9352, 3.0206, 2.9588, 1.2108, 3.4526, 3.418, 3.4132, 3.4051, 3.3907, 3.3906, 3.3869, 3.3567, 3.3555, 3.355, 3.3538, 3.3502, 3.3362, 3.3345, 3.3275, 3.3201, 3.3081, 3.3057, 3.2976, 3.2957, 3.2942, 3.2897, 3.2817, 3.2788, 3.2715, 3.257, 3.252, 3.2448, 3.2287, 3.2163, 3.2046, 3.1634, 3.1644, 2.9005, 2.7997, 3.0302, 3.1763, 3.1575, 2.9403, 3.1526, 3.1435, 2.9839, 3.1266, 1.4665, 1.4613, 1.5572, 1.6397, 1.6618, 1.6359, 1.5886, 1.3639, 1.4845, 2.8146, 2.542, 2.726, 2.6243, 3.588, 3.5457, 3.5196, 3.4969, 3.4527, 3.4414, 3.4355, 3.4137, 3.4123, 3.4043, 3.3969, 3.3864, 3.38, 3.3744, 3.367, 3.3642, 3.3558, 3.3511, 3.3476, 3.3465, 3.3457, 3.3444, 3.3424, 3.3371, 3.3269, 3.3158, 3.3136, 3.3107, 3.3046, 3.3021, 3.2997, 3.2948, 3.2772, 3.2016, 3.2045, 3.1414, 3.248, 3.0547, 3.1124, 3.0985, 3.0606, 3.0718, 3.2522, 2.8064, 2.7199, 2.4841, 3.0179, 2.4724, 2.5053, 2.5798, 1.9455, 3.5278, 3.4446, 3.3896, 3.3878, 3.3863, 3.3842, 3.3815, 3.3779, 3.3766, 3.3639, 3.3582, 3.3578, 3.3556, 3.3552, 3.3547, 3.3474, 3.3129, 3.3094, 3.3077, 3.3069, 3.2978, 3.2974, 3.2932, 3.2926, 3.2925, 3.2899, 3.2897, 3.2844, 3.2779, 3.2734, 3.2568, 3.2723, 3.2258, 3.2455, 3.2422, 3.2031, 3.2371, 3.1802, 3.1905, 3.2155, 3.2161, 2.9676, 3.1274, 3.1915, 3.1868, 3.1732, 3.0111, 3.1635, 2.9851, 3.156, 3.1422, 2.9723, 3.145, 3.1127, 2.8404, 2.635, 2.2807, 2.4908, 2.2501, 2.8704, 2.8296, 3.6376, 3.5785, 3.5243, 3.454, 3.4194, 3.3906, 3.3741, 3.3566, 3.3298, 3.3014, 3.2944, 3.2903, 3.264, 3.2626, 3.2606, 3.2564, 3.2516, 3.251, 3.2463, 3.2299, 3.2128, 3.2007, 3.1986, 3.1933, 3.1888, 3.1867, 3.1733, 3.1481, 3.1458, 3.1458, 3.1189, 3.0367, 3.0282, 3.0163, 3.0099, 2.9927, 2.9873, 2.9729, 2.9472, 2.9495, 2.9397, 2.934, 2.9215, 2.9147, 2.8992, 2.8821, 2.7583, 2.9405, 2.4719, 2.3374, 2.5965, 3.7744, 3.7197, 3.7173, 3.7117, 3.684, 3.6031, 3.5955, 3.577, 3.5427, 3.5392, 3.5036, 3.4949, 3.4948, 3.4887, 3.4782, 3.4559, 3.4378, 3.431, 3.4279, 3.4157, 3.4091, 3.3907, 3.387, 3.3838, 3.3831, 3.3807, 3.372, 3.3542, 3.3453, 3.3435, 3.2681, 3.3306, 3.2742, 2.8225, 3.164, 3.3188, 3.3206, 2.301, 2.4971, 2.3193, 2.5163, 2.2894, 2.427, 2.4918, 3.7209, 3.715, 3.7066, 3.6725, 3.667, 3.6665, 3.6644, 3.6548, 3.631, 3.6095, 3.6032, 3.5917, 3.5774, 3.5504, 3.5373, 3.5338, 3.5332, 3.5194, 3.5187, 3.5039, 3.5034, 3.4765, 3.4634, 3.4538, 3.4222, 3.4196, 3.419, 3.4181, 3.4138, 3.4071, 3.3986, 3.3587, 3.3478, 3.3177, 3.2947, 3.3076, 3.2621, 3.2444, 3.2647, 3.2694, 3.2664, 2.9586, 3.188, 3.0531, 3.1308, 3.8576, 3.7862, 3.7792, 3.732, 3.7292, 3.6537, 3.6464, 3.6387, 3.603, 3.5984, 3.5932, 3.5929, 3.5874, 3.5819, 3.5752, 3.5549, 3.5519, 3.5466, 3.5424, 3.5198, 3.5162, 3.5151, 3.5144, 3.5134, 3.4942, 3.4919, 3.4848, 3.4828, 3.4767, 3.4685, 3.4684, 3.3889, 3.1609, 3.1539, 3.134, 3.0059, 3.0169, 2.992, 2.9959, 3.0074, 3.0025, 2.9639, 2.9686, 2.9311, 2.9246, 2.9237, 2.9076, 2.8378, 2.8084, 2.792, 2.5886, 2.723, 3.7312, 3.639, 3.5054, 3.4418, 3.4307, 3.4028, 3.3997, 3.3858, 3.3855, 3.3849, 3.3741, 3.3596, 3.3543, 3.3282, 3.3144, 3.3084, 3.2911, 3.2899, 3.2712, 3.2468, 3.2433, 3.24, 3.2112, 3.2051, 3.2004, 3.1998, 3.19, 3.1885, 3.1849, 3.1617, 3.1556, 3.154, 3.1354, 3.1374, 3.0978, 3.0502, 3.0694, 2.9936, 3.0673, 3.0562, 2.7969, 2.9075, 2.4293, 2.8176, 2.6881, 2.6393]}, \"token.table\": {\"Topic\": [37, 3, 8, 19, 3, 13, 3, 3, 5, 3, 25, 3, 11, 23, 24, 3, 3, 4, 36, 40, 3, 3, 3, 18, 3, 14, 14, 3, 14, 14, 14, 30, 14, 23, 1, 12, 14, 34, 5, 22, 34, 22, 34, 9, 22, 9, 15, 1, 4, 17, 4, 4, 4, 4, 4, 34, 34, 34, 34, 34, 34, 34, 34, 4, 20, 34, 42, 34, 4, 4, 4, 4, 3, 4, 4, 2, 15, 15, 15, 11, 14, 19, 11, 14, 3, 11, 14, 5, 15, 15, 4, 11, 7, 11, 7, 11, 15, 13, 13, 3, 13, 32, 13, 2, 13, 13, 28, 40, 28, 40, 4, 16, 28, 31, 40, 6, 28, 40, 15, 28, 40, 28, 40, 28, 40, 4, 5, 28, 40, 28, 40, 15, 4, 28, 40, 28, 40, 1, 3, 28, 40, 11, 14, 1, 3, 8, 11, 13, 14, 15, 17, 24, 28, 34, 45, 11, 14, 15, 21, 11, 2, 11, 26, 11, 15, 21, 13, 15, 19, 6, 13, 13, 8, 13, 6, 10, 11, 13, 21, 23, 13, 6, 13, 37, 13, 1, 2, 7, 9, 12, 14, 16, 21, 24, 26, 27, 29, 32, 33, 34, 38, 29, 18, 29, 1, 29, 29, 29, 29, 16, 16, 40, 9, 40, 25, 40, 40, 13, 40, 29, 4, 29, 29, 4, 29, 6, 29, 3, 4, 19, 29, 20, 16, 20, 7, 20, 20, 5, 9, 10, 20, 20, 23, 2, 20, 20, 20, 7, 25, 25, 25, 18, 40, 40, 4, 6, 4, 4, 18, 4, 4, 11, 11, 14, 11, 14, 34, 8, 11, 14, 30, 4, 15, 3, 11, 11, 11, 12, 15, 13, 29, 29, 29, 9, 29, 29, 29, 7, 29, 29, 12, 14, 14, 1, 14, 13, 11, 13, 13, 13, 28, 2, 13, 11, 13, 30, 16, 16, 16, 3, 4, 9, 3, 4, 45, 3, 4, 23, 3, 1, 3, 9, 11, 3, 20, 20, 23, 4, 20, 20, 34, 10, 28, 40, 19, 28, 40, 28, 40, 40, 40, 5, 28, 40, 14, 28, 40, 3, 40, 1, 7, 9, 15, 22, 26, 28, 32, 33, 40, 45, 7, 9, 22, 28, 32, 33, 40, 7, 9, 22, 28, 33, 40, 2, 7, 34, 3, 34, 34, 1, 4, 5, 9, 18, 19, 32, 33, 34, 35, 45, 4, 14, 14, 33, 14, 1, 8, 34, 12, 20, 20, 14, 14, 33, 14, 14, 20, 20, 20, 20, 12, 20, 20, 34, 9, 17, 20, 22, 23, 28, 30, 34, 9, 20, 23, 30, 34, 9, 28, 9, 28, 9, 28, 9, 7, 15, 32, 2, 32, 5, 11, 5, 9, 17, 20, 23, 28, 30, 34, 9, 28, 2, 9, 28, 9, 9, 11, 32, 32, 11, 3, 4, 7, 11, 3, 4, 3, 4, 3, 2, 3, 3, 4, 3, 4, 3, 4, 8, 9, 23, 3, 4, 9, 3, 6, 3, 7, 3, 15, 15, 27, 28, 28, 20, 21, 28, 15, 21, 4, 15, 15, 1, 22, 28, 6, 28, 28, 5, 6, 8, 13, 28, 2, 5, 28, 40, 28, 1, 2, 4, 45, 14, 14, 5, 9, 14, 8, 8, 3, 4, 45, 3, 4, 3, 4, 13, 3, 10, 3, 3, 1, 1, 3, 28, 6, 19, 9, 20, 23, 30, 34, 1, 9, 17, 20, 23, 28, 30, 34, 9, 20, 23, 30, 34, 5, 9, 18, 28, 9, 9, 28, 8, 9, 28, 34, 5, 9, 2, 9, 16, 27, 32, 32, 5, 32, 32, 14, 15, 32, 1, 32, 6, 28, 28, 20, 21, 28, 28, 6, 28, 28, 28, 15, 31, 7, 15, 31, 41, 5, 15, 27, 20, 20, 6, 20, 20, 20, 2, 20, 11, 2, 2, 19, 1, 2, 8, 8, 6, 8, 31, 8, 9, 8, 2, 2, 37, 31, 42, 24, 31, 42, 9, 31, 33, 42, 19, 19, 19, 1, 31, 42, 31, 42, 1, 8, 31, 33, 42, 8, 19, 8, 13, 19, 8, 19, 9, 15, 2, 9, 8, 11, 11, 14, 31, 42, 31, 42, 8, 31, 33, 34, 41, 42, 44, 8, 19, 8, 9, 19, 8, 19, 40, 1, 9, 37, 17, 4, 4, 4, 7, 22, 25, 34, 35, 8, 13, 22, 25, 34, 35, 2, 4, 11, 20, 22, 24, 34, 2, 4, 11, 20, 22, 24, 34, 2, 4, 11, 17, 20, 22, 24, 32, 34, 3, 22, 22, 4, 22, 22, 24, 1, 2, 16, 22, 23, 24, 2, 4, 20, 22, 24, 34, 15, 18, 15, 18, 1, 3, 14, 1, 14, 1, 14, 1, 14, 1, 22, 1, 10, 22, 25, 34, 35, 27, 45, 27, 1, 12, 38, 29, 1, 4, 20, 32, 32, 6, 24, 24, 24, 24, 32, 3, 4, 32, 24, 24, 4, 12, 24, 24, 8, 19, 24, 24, 1, 1, 1, 2, 8, 19, 38, 22, 22, 9, 1, 1, 4, 12, 9, 20, 1, 37, 38, 14, 38, 5, 9, 34, 8, 32, 25, 3, 25, 17, 25, 8, 17, 25, 1, 17, 25, 25, 3, 17, 18, 6, 17, 1, 12, 22, 1, 12, 22, 1, 5, 7, 12, 22, 5, 20, 31, 3, 5, 31, 5, 31, 3, 5, 17, 9, 30, 5, 9, 11, 20, 23, 27, 30, 32, 34, 38, 17, 17, 4, 8, 14, 17, 4, 9, 9, 34, 5, 7, 31, 5, 7, 31, 42, 5, 7, 31, 42, 2, 5, 17, 2, 5, 17, 2, 5, 17, 25, 17, 22, 25, 9, 25, 17, 25, 17, 25, 32, 6, 8, 32, 33, 39, 30, 30, 4, 15, 26, 28, 30, 6, 31, 34, 11, 2, 42, 42, 5, 22, 27, 42, 3, 22, 27, 42, 11, 22, 23, 27, 42, 27, 22, 42, 22, 27, 42, 3, 6, 22, 27, 42, 11, 19, 22, 27, 42, 19, 27, 27, 8, 10, 27, 21, 22, 28, 3, 28, 28, 2, 2, 1, 28, 7, 28, 28, 2, 2, 2, 4, 9, 40, 42, 1, 4, 5, 8, 28, 35, 40, 42, 43, 14, 9, 28, 9, 1, 11, 1, 1, 29, 22, 17, 17, 2, 17, 9, 21, 43, 8, 32, 33, 19, 3, 19, 30, 9, 19, 40, 19, 2, 3, 15, 24, 25, 30, 38, 2, 3, 13, 15, 17, 22, 24, 25, 30, 2, 15, 24, 25, 30, 38, 12, 17, 25, 17, 25, 13, 17, 25, 24, 6, 24, 24, 4, 22, 27, 22, 27, 22, 27, 11, 42, 1, 42, 17, 8, 17, 4, 8, 14, 17, 1, 2, 3, 4, 12, 22, 1, 2, 12, 22, 17, 22, 27, 42, 9, 22, 27, 42, 2, 11, 22, 27, 42, 1, 4, 6, 9, 5, 7, 31, 5, 7, 18, 31, 2, 5, 7, 8, 22, 31, 42, 8, 27, 31, 5, 17, 5, 17, 5, 17, 18, 9, 22, 23, 5, 6, 9, 12, 20, 31, 6, 31, 31, 8, 22, 28, 28, 19, 2, 21, 38, 4, 38, 38, 17, 8, 17, 17, 17, 17, 18, 17, 17, 1, 1, 14, 10, 10, 10, 10, 22, 10, 22, 10, 32, 10, 8, 14, 12, 14, 14, 22, 10, 23, 10, 22, 10, 25, 32, 9, 16, 23, 27, 31, 23, 8, 23, 23, 18, 10, 18, 14, 18, 40, 24, 1, 4, 6, 9, 11, 16, 22, 23, 24, 27, 23, 4, 10, 23, 24, 9, 23, 4, 18, 41, 30, 12, 12, 12, 12, 12, 12, 1, 11, 12, 12, 16, 2, 4, 12, 26, 12, 4, 12, 35, 4, 9, 16, 23, 27, 5, 33, 2, 33, 23, 33, 18, 2, 2, 43, 43, 43, 43, 43, 43, 12, 43, 2, 32, 2, 17, 20, 24, 35, 17, 18, 35, 17, 31, 35, 35, 5, 35, 5, 21, 24, 35, 2, 17, 35, 9, 17, 24, 29, 31, 35, 43, 7, 17, 35, 35, 11, 35, 17, 35, 8, 30, 8, 30, 8, 30, 30, 4, 14, 30, 24, 30, 8, 30, 33, 8, 30, 3, 6, 8, 30, 6, 30, 17, 12, 30, 30, 11, 17, 17, 17, 4, 4, 4, 27, 27, 27, 40, 4, 24, 40, 3, 8, 40, 32, 40, 22, 45, 20, 15, 18, 32, 32, 8, 14, 15, 42, 42, 2, 6, 7, 42, 20, 42, 32, 3, 32, 3, 31, 33, 3, 31, 33, 3, 10, 12, 27, 31, 33, 12, 33, 39, 44, 12, 33, 39, 44, 3, 12, 33, 39, 44, 31, 44, 1, 3, 44, 3, 10, 14, 31, 33, 44, 39, 1, 5, 8, 22, 32, 33, 8, 31, 32, 33, 8, 9, 32, 33, 39, 8, 2, 3, 5, 10, 22, 2, 3, 5, 10, 2, 3, 5, 8, 10, 12, 18, 3, 12, 23, 31, 32, 34, 23, 1, 23, 23, 18, 18, 4, 18, 2, 3, 4, 6, 10, 16, 19, 41, 3, 4, 10, 16, 41, 3, 4, 10, 13, 16, 41, 11, 41, 12, 12, 16, 7, 12, 23, 23, 37, 37, 37, 28, 37, 32, 1, 6, 11, 13, 17, 22, 27, 28, 42, 17, 21, 23, 7, 17, 21, 13, 17, 21, 22, 29, 2, 5, 8, 23, 26, 40, 3, 23, 31, 34, 3, 12, 18, 23, 28, 31, 32, 34, 3, 31, 33, 3, 31, 33, 3, 10, 12, 21, 31, 33, 3, 33, 6, 8, 12, 33, 39, 44, 8, 12, 33, 39, 44, 3, 12, 33, 39, 44, 44, 44, 3, 4, 10, 14, 19, 31, 33, 44, 2, 39, 8, 9, 32, 33, 8, 32, 33, 2, 8, 19, 28, 32, 33, 39, 1, 3, 13, 17, 18, 21, 1, 3, 7, 8, 13, 17, 18, 19, 21, 22, 41, 2, 3, 2, 3, 5, 10, 1, 2, 3, 5, 10, 17, 18, 2, 3, 5, 8, 10, 12, 18, 23, 37, 23, 37, 1, 2, 23, 25, 28, 18, 2, 6, 18, 22, 24, 37, 8, 18, 23, 6, 30, 30, 5, 10, 42, 45, 10, 42, 9, 10, 42, 45, 6, 10, 42, 45, 10, 42, 1, 10, 11, 42, 7, 10, 16, 42, 3, 4, 7, 8, 10, 16, 20, 22, 41, 3, 4, 10, 16, 18, 41, 1, 3, 4, 5, 10, 11, 16, 17, 18, 20, 21, 41, 3, 7, 41, 4, 12, 12, 18, 12, 4, 12, 16, 1, 5, 7, 16, 16, 16, 16, 5, 21, 43, 8, 21, 43, 1, 5, 21, 43, 16, 21, 8, 16, 16, 19, 22, 16, 21, 16, 21, 16, 21, 4, 14, 21, 29, 43, 4, 21, 43, 4, 21, 43, 26, 33, 45, 19, 45, 19, 45, 19, 45, 39, 8, 33, 45, 33, 45, 9, 19, 45, 19, 45, 39, 10, 39, 2, 5, 8, 11, 27, 29, 2, 4, 5, 8, 14, 26, 27, 29, 40, 2, 5, 8, 27, 29, 2, 16, 2, 16, 21, 21, 21, 22, 36, 36, 36, 36, 36, 36, 6, 36, 3, 7, 36, 36, 5, 36, 36, 6, 12, 36, 2, 13, 36, 6, 36, 2, 3, 5, 6, 7, 8, 16, 17, 24, 25, 26, 34, 35, 36, 37, 38, 43, 45, 21, 3, 3, 11, 24, 36, 14, 19, 22, 24, 30, 32, 36, 41, 36, 6, 32, 36, 13, 36, 1, 2, 6, 8, 14, 19, 21, 22, 24, 30, 32, 36, 41, 20, 40, 1, 2, 6, 11, 12, 14, 18, 23, 35, 40, 41, 43, 42, 4, 42, 42, 42, 3, 8, 42, 1, 32, 3, 12, 23, 31, 32, 34, 3, 7, 31, 33, 3, 31, 33, 3, 10, 12, 31, 33, 4, 10, 33, 12, 33, 39, 44, 12, 33, 39, 44, 3, 12, 33, 39, 44, 3, 8, 23, 34, 38, 43, 44, 33, 44, 10, 39, 8, 19, 32, 33, 3, 8, 10, 30, 32, 33, 8, 32, 33, 39, 2, 3, 5, 10, 2, 3, 5, 10, 13, 2, 3, 5, 8, 10, 12, 18, 3, 8, 2, 9, 23, 23, 4, 18, 6, 18, 4, 30, 30, 3, 4, 7, 10, 16, 41, 3, 4, 10, 16, 41, 3, 4, 10, 16, 41, 41, 41, 3, 12, 12, 31, 12, 12, 16, 12, 41, 13, 28, 16, 16, 17, 4, 16, 17, 35, 17, 35, 3, 8, 17, 35, 7, 16, 16, 2, 3, 16, 17, 22, 24, 35, 35, 35, 35, 16, 21, 16, 21, 16, 20, 21, 15, 21, 43, 15, 21, 43, 15, 21, 43, 8, 30, 45, 8, 30, 45, 8, 30, 45, 9, 30, 11, 30, 2, 5, 8, 20, 23, 30, 45, 9, 17, 21, 13, 17, 21, 1, 3, 7, 13, 17, 18, 21, 29, 1, 2, 3, 4, 10, 11, 13, 16, 17, 18, 19, 20, 21, 25, 31, 33, 35, 36, 40, 41, 44, 8, 6, 6, 6, 6, 12, 33, 45, 8, 22, 33, 45, 8, 22, 33, 45, 8, 15, 22, 33, 45, 9, 23, 39, 39, 37, 37, 37, 29, 37, 1, 5, 6, 12, 19, 22, 1, 5, 12, 22, 1, 2, 5, 8, 12, 22, 31, 23, 40, 21, 21, 17, 21, 5, 15, 17, 21, 41, 8, 17, 21, 17, 21, 9, 17, 21, 5, 17, 21, 41, 23, 40, 1, 5, 12, 22, 1, 5, 12, 22, 1, 5, 12, 22, 22, 8, 9, 29, 2, 4, 8, 9, 29, 8, 9, 25, 29, 8, 9, 29, 8, 9, 10, 29, 8, 9, 29, 15, 15, 11, 1, 11, 15, 3, 11, 1, 7, 15, 20, 21, 1, 15, 20, 21, 22, 1, 11, 15, 1, 11, 15, 1, 11, 15, 20, 21, 15, 1, 11, 1, 11, 15, 11, 1, 12, 15, 20, 21, 1, 15, 20, 21, 1, 11, 15, 1, 11, 15, 20, 21, 32, 10, 2, 10, 4, 18, 39, 40, 45, 7, 18, 39, 40, 45, 18, 39, 40, 45, 19, 19, 19, 40, 15, 11, 15, 2, 18, 19, 39, 40, 45, 1, 4, 8, 9, 12, 14, 18, 39, 40, 45, 18, 39, 40, 45, 19, 3, 19, 30, 19, 25, 28, 40, 32, 10, 28, 10, 10, 10, 28, 10, 10, 10, 10, 4, 10, 10, 30, 18, 2, 3, 5, 10, 14, 2, 3, 5, 9, 10, 18, 2, 3, 5, 10, 39, 22, 39, 39, 11, 11, 2, 3, 4, 5, 7, 9, 10, 14, 15, 17, 19, 21, 24, 26, 28, 33, 34, 35, 39, 3, 11, 2, 3, 5, 10, 2, 3, 5, 10, 18, 2, 3, 5, 10, 25, 15, 26, 15, 15, 20, 45, 21, 21, 15, 14, 24, 11, 14, 24, 14, 24, 28, 1, 14, 24, 4, 14, 24, 9, 14, 24, 14, 24, 45, 14, 24, 45, 3, 14, 24, 45, 13, 14, 24, 4, 14, 24, 3, 14, 24, 19, 19, 41, 1, 16, 1, 3, 6, 16, 1, 16, 18, 22, 27, 30, 34, 2, 3, 14, 24, 2, 3, 14, 24, 2, 3, 14, 24, 14, 24, 14, 24, 4, 14, 17, 22, 24, 15, 15, 9, 10, 10, 10, 1, 6, 7, 8, 9, 11, 13, 17, 21, 23, 24, 28, 32, 33, 37, 39, 11, 41, 1, 6, 9, 11, 15, 17, 36, 41, 3, 11, 41, 1, 15, 20, 21, 1, 15, 20, 21, 1, 11, 15, 17, 18, 41, 11, 1, 11, 15, 17, 41, 11, 41, 1, 11, 15, 17, 18, 20, 21, 26, 34, 36, 41, 5, 18, 5, 18, 2, 3, 5, 10, 2, 3, 5, 8, 10, 18, 2, 3, 5, 9, 10, 33, 11, 15, 10, 12, 18, 31, 35, 39, 40, 45, 3, 10, 18, 31, 35, 39, 40, 45, 10, 18, 31, 35, 39, 40, 45, 19, 19, 3, 5, 15, 19, 40, 8, 11, 18, 42, 45, 4, 19, 21, 41, 4, 5, 19, 41, 4, 19, 41, 4, 8, 9, 14, 18, 29, 1, 4, 7, 8, 9, 14, 18, 20, 21, 29, 34, 4, 8, 9, 14, 16, 18, 21, 22, 29, 39, 39, 39, 12, 21, 1, 15, 27, 29, 28, 45, 15, 15, 25, 15, 25, 29, 9, 15, 25, 32, 5, 20, 27, 32, 5, 27, 5, 15, 20, 26, 27, 34, 45, 2, 9, 14, 15, 24, 25, 26, 30, 38, 2, 14, 15, 24, 25, 26, 30, 38, 2, 14, 15, 24, 25, 26, 30, 38, 14, 38, 25, 7, 25, 7, 9, 25, 20, 24, 1, 2, 4, 24, 2, 5, 15, 24, 5, 7, 9, 13, 42, 5, 7, 13, 42, 3, 7, 13, 42, 2, 3, 14, 15, 24, 25, 26, 30, 38, 2, 3, 14, 15, 22, 24, 25, 26, 30, 38, 40, 1, 2, 3, 14, 15, 24, 25, 26, 30, 38, 38, 18, 25, 9, 12, 25, 25, 14, 24, 14, 24, 2, 14, 15, 24, 3, 7, 13, 42, 7, 13, 42, 2, 7, 13, 42, 1, 3, 4, 4, 4, 9, 4, 4, 17, 4, 4, 5, 20, 1, 14, 41, 10, 14, 41, 1, 14, 41, 4, 44, 44, 31, 37, 44, 2, 4, 15, 4, 15, 4, 6, 7, 15, 18, 3, 4, 5, 10, 3, 4, 39, 4, 4, 1, 2, 3, 8, 11, 14, 15, 24, 25, 26, 30, 38, 45, 2, 3, 8, 11, 14, 15, 24, 25, 26, 30, 38, 45, 2, 3, 8, 11, 14, 15, 19, 24, 25, 26, 30, 38, 45, 38, 45, 3, 4, 8, 25, 45, 5, 9, 25, 25, 25, 14, 24, 14, 24, 2, 6, 14, 15, 24, 3, 7, 13, 42, 7, 13, 42, 7, 13, 19, 42, 7, 4, 8, 13, 17, 21, 22, 44, 4, 8, 12, 13, 17, 21, 23, 44, 4, 8, 13, 17, 21, 44, 4, 8, 11, 13, 17, 21, 44, 4, 8, 13, 17, 21, 44, 4, 8, 13, 17, 21, 44, 9, 6, 9, 28, 9, 16, 28, 9, 28, 9, 9, 9, 7, 9, 28, 9, 9, 28, 9, 28, 9, 28, 7, 9, 24, 7, 9, 5, 28, 28, 28, 1, 1, 1, 9, 1, 1, 1, 1, 16, 1, 5, 15, 17, 18, 20, 21, 35, 37, 1, 17, 1, 5, 9, 1, 10, 23, 41, 5, 41, 6, 12, 19, 21, 35, 41, 3, 18, 22, 35, 41, 10, 23, 35, 41, 42, 42, 20, 42, 42, 27, 42, 22, 27, 42, 22, 27, 42, 11, 15, 16, 21, 22, 27, 42, 27, 4, 27, 27, 22, 10, 23, 41, 20, 28, 37, 17, 42, 42, 2, 5, 7, 42, 4, 35, 41, 1, 3, 4, 5, 19, 30, 35, 37, 41, 43, 10, 23, 35, 41, 42, 42, 5, 22, 27, 42, 9, 18, 22, 27, 42, 11, 22, 27, 42, 9, 27, 1, 27, 8, 27, 6, 9, 22, 23, 23, 23, 23, 23, 23, 23, 18, 23, 18, 3, 4, 10, 16, 41, 1, 3, 4, 10, 16, 17, 41, 3, 4, 10, 16, 41, 16, 41, 12, 29, 12, 23, 3, 4, 10, 15, 16, 41, 3, 4, 10, 16, 18, 30, 41, 3, 4, 10, 16, 20, 41, 18, 41, 16, 4, 12, 12, 12, 4, 12, 23, 9, 23, 23, 23, 2, 23, 33, 23, 24, 33, 3, 18, 18, 23, 41, 11, 31, 28, 45, 13, 45, 13, 31, 11, 3, 31, 34, 45, 45, 22, 45, 45, 22, 22, 22, 34, 34, 34, 34, 6, 6, 6, 6, 18, 6, 6, 17, 8, 8, 12, 15, 8, 3, 8, 10, 8, 37, 8, 6, 5, 6, 11, 6, 25, 6, 12, 6, 5, 6, 6, 7, 8, 14, 4, 6, 7, 8, 14, 21, 4, 6, 7, 8, 9, 14, 4, 7, 8, 14, 7, 8, 11, 14, 7, 8, 14, 22, 1, 22, 22, 22, 22, 1, 6, 7, 9, 15, 17, 20, 38, 1, 22, 1, 2, 9, 10, 11, 13, 14, 18, 21, 23, 26, 32, 14, 14, 11, 11, 1, 1, 12, 1, 7, 32, 7, 8, 24, 7, 9, 20, 23, 28, 8, 9, 23, 23, 23, 22, 4, 9, 28, 15, 18, 3, 9, 23, 5, 23, 2, 9, 28, 4, 9, 23, 18, 22, 9, 23, 1, 2, 5, 23, 25, 28, 23, 12, 18, 5, 23, 2, 12, 18, 23, 16, 34, 6, 6, 6, 6, 21, 4, 6, 21, 6, 21, 9, 3, 10, 16, 31, 34, 3, 8, 31, 34, 3, 4, 31, 34, 34, 31, 2, 8, 25, 4, 8, 26, 4, 6, 8, 12, 25, 28, 43, 2, 8, 9, 26, 8, 8, 37, 10, 23, 41, 41, 3, 13, 35, 36, 41, 35, 41, 10, 12, 18, 23, 35, 41, 1, 6, 7, 17, 20, 28, 37, 42, 4, 18, 42, 4, 8, 13, 16, 17, 21, 28, 34, 44, 1, 2, 4, 6, 8, 13, 16, 17, 21, 22, 28, 34, 44, 1, 4, 6, 8, 13, 16, 17, 21, 28, 34, 44, 3, 4, 5, 7, 10, 16, 41, 3, 4, 5, 10, 16, 41, 1, 2, 3, 4, 5, 10, 16, 17, 18, 20, 21, 41, 43, 4, 30, 41, 42, 42, 4, 19, 27, 42, 15, 22, 27, 42, 22, 27, 42, 9, 11, 22, 27, 42, 27, 21, 27, 27, 22, 1, 3, 19, 38, 45, 22, 45, 5, 12, 1, 12, 4, 12, 21, 26, 32, 4, 26, 26, 4, 26, 26, 26, 31, 16, 26, 26, 4, 26, 26, 26, 17, 26, 26, 17, 7, 7, 7, 23, 7, 8, 7, 7, 20, 43, 20, 43, 20, 43, 20, 43, 20, 43, 25, 16, 41, 41, 43, 43, 20, 23, 27, 43, 20, 43, 9, 10, 11, 12, 20, 39, 43, 20, 43, 19, 41, 33, 33, 33, 33, 31, 31, 4, 21, 18, 39, 8, 39, 39, 3, 6, 39, 39, 39, 20, 21, 33, 6, 8, 20, 21, 22, 33, 20, 21, 33, 6, 21, 28, 3, 6, 15, 21, 28, 6, 21, 28, 2, 8, 20, 21, 33, 2, 23, 39, 1, 6, 20, 21, 23, 33, 39, 9, 21, 25, 26, 39, 8, 20, 21, 33, 9, 39, 4, 6, 21, 28, 1, 2, 4, 6, 8, 21, 25, 28, 4, 6, 21, 28, 39, 2, 6, 14, 20, 26, 34, 36, 39, 14, 26, 38, 39, 12, 21, 4, 10, 10, 32, 15, 15, 10, 10, 18, 32, 26, 37, 16, 26, 37, 26, 37, 26, 37, 1, 2, 7, 8, 10, 13, 15, 16, 18, 20, 21, 22, 26, 27, 32, 34, 37, 38, 40, 8, 26, 37, 10, 37, 7, 45, 3, 18, 27, 29, 45, 45, 4, 6, 45, 45, 20, 45, 8, 40, 34, 2, 8, 25, 40, 40, 34, 35, 34, 34, 5, 30, 34, 24, 26, 43, 1, 43, 23, 43, 43, 32, 32, 6, 20, 32, 13, 34, 13, 18, 13, 23, 25, 1, 43, 43, 43, 1, 4, 32, 32, 32, 18, 32, 19, 32, 32, 6, 13, 21, 6, 13, 14, 6, 13, 15, 14, 1, 2, 14, 1, 4, 21, 39, 4, 5, 6, 9, 14, 26, 34, 39, 5, 39, 13, 39, 2, 26, 39, 2, 5, 9, 14, 26, 34, 39, 15, 45, 2, 26, 14, 33, 4, 33, 33, 26, 15, 26, 26, 26, 26, 6, 18, 26, 10, 10, 8, 20, 32, 34, 43, 1, 20, 32, 43, 4, 10, 20, 43, 12, 21, 4, 20, 43, 3, 4, 20, 43, 1, 4, 14, 17, 20, 43, 5, 14, 20, 21, 33, 6, 10, 12, 14, 16, 20, 21, 24, 33, 35, 37, 43, 10, 14, 20, 21, 33, 9, 17, 32, 43, 3, 32, 34, 43, 2, 32, 43, 17, 32, 32, 5, 7, 30, 34, 5, 6, 7, 12, 15, 30, 31, 32, 34, 43, 4, 5, 30, 34, 5, 6, 31, 15, 13, 13, 13, 2, 3, 5, 12, 18, 23, 34, 39, 24, 38, 28, 7, 4, 7, 25, 11, 40, 4, 6, 7, 19, 21, 28, 36, 39, 4, 6, 21, 28, 39, 4, 6, 9, 12, 21, 23, 28, 34, 34, 34, 41, 38, 38, 27, 38, 38, 39, 38, 9, 38, 44, 44, 2, 5, 9, 18, 26, 38, 33, 5, 16, 18, 37, 2, 3, 7, 7, 7, 33, 7, 7, 26, 38, 7, 7, 4, 7, 7, 4, 7, 7, 2, 7, 22, 7, 24, 3, 7, 21, 22, 7, 7, 7, 7, 21, 22, 5, 7, 18, 26, 38, 7, 13, 15, 18, 22, 26, 38, 44, 44, 38, 38, 13, 31, 38, 13, 31, 38, 5, 6, 19, 3, 4, 5, 19, 22, 4, 19, 5, 19, 5, 19, 5, 14, 19, 5, 19, 20, 6, 15, 17, 18, 33, 45, 13, 13, 33, 33, 33, 1, 8, 20, 12, 15, 22, 33, 33, 22, 17, 2, 2, 5, 5, 11, 24, 35, 35, 8, 35, 35, 35, 7, 32, 8, 32, 33, 2, 3, 8, 32, 33, 8, 16, 32, 33, 3, 8, 3, 8, 10, 11, 12, 13, 17, 19, 24, 30, 33, 34, 42, 45, 8, 12, 32, 33, 2, 3, 8, 32, 33, 1, 8, 12, 32, 33, 8, 35, 8, 35, 35, 35, 3, 11, 35, 36, 35, 35, 15, 25, 34, 15, 16, 25, 17, 25, 4, 8, 17, 25, 17, 18, 25, 15, 15, 15, 25, 2, 15, 25, 1, 17, 25, 36, 1, 3, 17, 25, 26, 26, 26, 26, 26, 26, 7, 34, 14, 26, 26, 6, 26, 12, 26, 9, 26, 1, 12, 16, 18, 38, 34, 8, 30, 30, 30, 30, 30, 39, 4, 24, 38, 38, 2, 38, 13, 20, 38, 7, 13, 19, 30, 31, 34, 38, 7, 15, 39, 39, 7, 9, 31, 42, 22, 22, 1, 13, 26, 17, 26, 26, 2, 26, 26, 9, 35, 9, 10, 19, 35, 35, 15, 17, 25, 15, 12, 17, 25, 5, 17, 25, 6, 11, 15, 17, 25, 35, 3, 6, 11, 15, 35, 15, 10, 15, 1, 3, 14, 15, 34, 35, 4, 20, 28, 3, 33, 33, 39, 7, 10, 17, 20, 22, 34, 19, 27, 45, 45, 5, 21, 45, 8, 45, 12, 30, 34, 8, 30, 34, 19, 30, 34, 1, 5, 30, 34, 36, 45, 1, 8, 30, 34, 45, 1, 4, 12, 19, 23, 30, 34, 36, 38, 45, 5, 3, 5, 5, 5, 5, 15, 18, 24, 5, 15, 18, 24, 34, 35, 2, 34, 35, 2, 34, 35, 2, 5, 7, 10, 11, 15, 34, 35, 42, 45, 3, 37, 11, 37, 37, 32, 8, 32, 33, 3, 8, 32, 33, 8, 32, 33, 39, 2, 3, 8, 30, 1, 4, 15, 30, 12, 22, 20, 30, 31, 34, 45, 2, 2, 2, 2, 6, 14, 2, 28, 2, 34, 34, 13, 37, 7, 17, 37, 16, 37, 1, 37, 20, 2, 10, 2, 2, 20, 23, 3, 5, 13, 33, 7, 8, 9, 24, 37, 1, 7, 8, 24, 37, 7, 8, 24, 37, 3, 7, 8, 24, 37, 3, 6, 7, 8, 9, 11, 19, 23, 24, 37, 7, 8, 10, 11, 24, 37, 1, 7, 8, 11, 16, 17, 23, 8, 44, 12, 14, 45, 8, 44, 31, 18, 31, 31, 21, 2, 10, 21, 21, 31, 18, 31, 2, 9, 18, 31, 31, 18, 18, 6, 22, 4, 6, 12, 6, 25, 6, 14, 18, 42, 6, 14, 18, 42, 6, 14, 18, 42, 3, 6, 3, 6, 7, 6, 9, 12, 6, 7, 2, 6, 14, 17, 18, 24, 42, 1, 2, 6, 14, 17, 18, 24, 42, 6, 10, 14, 17, 18, 24, 42, 40, 40, 8, 18, 28, 4, 8, 9, 11, 4, 8, 8, 3, 6, 8, 10, 12, 21, 30, 37, 3, 6, 8, 10, 21, 30, 37, 3, 6, 8, 10, 21, 30, 37, 12, 30, 30, 30, 2, 8, 8, 8, 15, 3, 6, 8, 10, 21, 30, 37, 1, 3, 6, 8, 10, 19, 21, 22, 30, 37, 3, 6, 8, 10, 21, 30, 37, 30, 4, 30, 30, 18, 31, 2, 5, 42, 11, 20, 15, 20, 5, 27, 5, 2, 3, 4, 5, 9, 10, 19, 26, 28, 39, 20, 1, 20, 20, 2, 2, 2, 26, 30, 17, 31, 35, 37, 26, 26, 27, 12, 26, 26, 1, 2, 4, 14, 22, 30, 1, 4, 6, 7, 9, 14, 15, 20, 22, 23, 30, 33, 1, 4, 7, 14, 22, 6, 18, 19, 26, 30, 5, 42, 22, 38, 38, 38, 16, 1, 2, 4, 4, 5, 10, 19, 20, 22, 28, 39, 40, 5, 21, 42, 1, 5, 19, 40, 44, 18, 18, 18, 6, 6, 5, 6, 6, 14, 18, 42, 6, 14, 18, 25, 42, 6, 14, 18, 42, 21, 41, 7, 8, 14, 24, 7, 8, 14, 16, 24, 7, 8, 14, 24, 3, 6, 7, 8, 10, 14, 21, 24, 30, 37, 3, 6, 7, 8, 10, 14, 21, 24, 30, 37, 3, 4, 6, 7, 8, 10, 14, 21, 24, 27, 30, 37, 38, 37, 37, 5, 30, 30, 30, 37, 15, 30, 37, 1, 2, 8, 28, 37, 41, 4, 7, 17, 31, 18, 31, 12, 31, 2, 31, 2, 5, 31, 20, 4, 13, 14, 20, 24, 4, 20, 10, 3, 17, 20, 37, 5, 11, 13, 21, 7, 21, 21, 8, 9, 15, 22, 22, 5, 13, 22, 22, 22, 7, 13, 2, 6, 2, 8, 1, 2, 7, 14, 1, 2, 7, 14, 1, 2, 3, 7, 14, 31, 34, 5, 19, 39, 5, 6, 19, 39, 1, 5, 19, 39, 5, 31, 5, 31, 5, 31, 2, 18, 29, 29, 29, 2, 12, 29, 2, 24, 29, 2, 29, 10, 13, 29, 35, 29, 29, 5, 19, 39, 2, 4, 5, 9, 14, 19, 23, 28, 39, 2, 5, 19, 39, 1, 2, 7, 14, 1, 2, 7, 9, 14, 1, 2, 7, 14, 18, 31, 2, 37, 39, 2, 16, 29, 2, 5, 14, 16, 26, 27, 29, 1, 2, 8, 16, 29, 5, 7, 31, 4, 5, 7, 31, 2, 3, 5, 7, 17, 22, 30, 31, 12, 33, 39, 44, 12, 16, 19, 33, 39, 44, 12, 33, 39, 44, 5, 44, 10, 44, 18, 33, 44, 39, 16, 16, 6, 16, 12, 16, 21, 2, 7, 12, 33, 39, 44, 6, 12, 33, 39, 44, 12, 16, 33, 39, 44, 12, 33, 39, 44, 7, 44, 44, 44, 9, 16, 16, 21, 2, 3, 8, 16, 16, 23, 11, 16, 1, 3, 16, 21, 7, 16, 21, 16, 21, 3, 16, 21, 27, 27, 19, 25, 1, 5, 23, 27, 3, 27, 32, 27, 1, 4, 7, 12, 14, 15, 16, 26, 1, 3, 4, 7, 12, 13, 14, 15, 26, 1, 4, 7, 12, 14, 15, 26, 12, 4, 12, 15, 4, 14, 1, 4, 7, 12, 14, 15, 20, 26, 1, 4, 7, 12, 14, 15, 26, 1, 4, 7, 12, 14, 15, 26, 12, 12, 3, 4, 12, 12, 26, 4, 12, 3, 4, 12, 15, 5, 18, 19, 31, 35, 36, 40, 3, 5, 6, 4, 5, 5, 9, 5, 10, 23, 38, 37, 4, 37, 4, 37, 4, 37, 28, 2, 2, 6, 14, 44, 1, 11, 28, 6, 18, 28, 37, 9, 28, 2, 2, 21, 44, 19, 34, 38, 38, 9, 38, 38, 28, 10, 28, 28, 32, 2, 30, 1, 2, 7, 14, 1, 2, 7, 14, 31, 1, 2, 5, 7, 11, 14, 30, 31, 2, 5, 14, 2, 6, 38, 38, 19, 27, 27, 8, 27, 17, 44, 22, 44, 33, 44, 28, 1, 4, 7, 12, 14, 15, 26, 30, 1, 2, 4, 7, 12, 14, 15, 26, 30, 1, 2, 4, 5, 6, 7, 12, 14, 15, 23, 26, 29, 30, 33, 37, 12, 12, 28, 4, 12, 15, 25, 30, 7, 7, 7, 1, 3, 42, 12, 19, 33, 39, 44, 3, 12, 16, 33, 39, 44, 12, 33, 39, 44, 44, 21, 44, 10, 33, 44, 44, 39, 5, 1, 3, 16, 21, 16, 21, 5, 19, 39, 2, 4, 5, 9, 19, 39, 5, 19, 39, 8, 10, 39, 5, 5, 18, 24, 3, 33, 3, 18, 33, 3, 6, 33, 3, 33, 3, 33, 33, 5, 6, 14, 31, 37, 5, 6, 14, 31, 37, 1, 5, 6, 14, 31, 37, 3, 27, 29, 29, 29, 2, 16, 24, 29, 2, 5, 6, 16, 24, 29, 2, 16, 24, 29, 13, 33, 13, 27, 5, 19, 5, 7, 19, 5, 19, 5, 19, 5, 11, 19, 40, 40, 40, 40, 4, 40, 34, 5, 28, 21, 28, 6, 28, 9, 20, 28, 16, 21, 28, 31, 13, 8, 44, 44, 31, 20, 34, 34, 31, 2, 29, 42, 15, 15, 8, 41, 28, 19, 34, 5, 19, 40, 17, 17, 17, 16, 41, 17, 26, 1, 13, 17, 2, 10, 17, 2, 5, 17, 18, 2, 5, 17, 2, 5, 17, 18, 1, 37, 40, 37, 4, 37, 1, 7, 32, 1, 17, 25, 17, 2, 5, 17, 20, 1, 2, 5, 17, 30, 43, 43, 43, 8, 43, 32, 37, 1, 38, 38, 38, 1, 43, 14, 16, 43, 4, 43, 4, 16, 20, 32, 32, 32, 32, 15, 38, 38, 16, 13, 13, 2, 6, 12, 17, 21, 18, 18, 1, 9, 10, 18, 4, 11, 18, 4, 5, 18, 18, 18, 12, 18, 18, 18, 43, 43, 43, 16, 18, 18, 3, 15, 18, 22, 18, 10, 8, 32, 32, 38, 38, 12, 21, 25, 9, 14, 5, 14, 14, 23, 41, 36, 36, 36, 12, 13, 36, 13, 36, 6, 13, 23, 24, 36, 36, 5, 36, 36, 13, 16, 36, 6, 11, 12, 27, 36, 41, 6, 17, 36, 36, 1, 2, 7, 36, 36, 7, 9, 13, 36, 6, 12, 15, 36, 6, 9, 22, 36], \"Freq\": [0.3091810550201735, 0.7667044326574107, 0.04035286487670583, 0.04035286487670583, 0.7662404553829717, 0.04256891418794287, 0.7713970006401061, 0.7772129868594693, 0.04571841099173349, 0.8244110594842408, 0.04849476820495534, 0.7496837110364772, 0.04409904182567513, 0.04409904182567513, 0.04409904182567513, 0.8357441314533716, 0.707112104465766, 0.03928400580365367, 0.03928400580365367, 0.03928400580365367, 0.8078928279034197, 0.7889763749963565, 0.7503121958500482, 0.044136011520591066, 0.7857650143528727, 0.5804368541065132, 0.5734419272052096, 0.1057445356642061, 0.5287226783210305, 0.5306030385094854, 0.5810799684390295, 0.09684666140650491, 0.5045854175159129, 0.10091708350318258, 0.09759343845146351, 0.09759343845146351, 0.48796719225731755, 0.4482110200775417, 0.09675913305977794, 0.3870365322391118, 0.09675913305977794, 0.4371510070805082, 0.10928775177012705, 0.2288051830152353, 0.4576103660304706, 0.09818283193885748, 0.4909141596942874, 0.06972142590451001, 0.6274928331405901, 0.06972142590451001, 0.6489001206915509, 0.6277233629905573, 0.6480278275898363, 0.6356878663683015, 0.6573242114876559, 0.395742344548709, 0.3491188354095437, 0.4140865397808169, 0.4343734309280092, 0.403393027920322, 0.36282787478150436, 0.4113688328112457, 0.45168021376932055, 0.10950599188615331, 0.10950599188615331, 0.32851797565845997, 0.10950599188615331, 0.40301050372770625, 0.6971488367070932, 0.7379071096713387, 0.7247439021235705, 0.7012556407702816, 0.07383633991363024, 0.6645270592226722, 0.6829764713888671, 0.10644230537123721, 0.5322115268561861, 0.6259802026910708, 0.5435512700993266, 0.49396930358302715, 0.07056704336900388, 0.07056704336900388, 0.5051722898902831, 0.07216746998432615, 0.07555311205590423, 0.5288717843913295, 0.07555311205590423, 0.09411254008325098, 0.5646752404995059, 0.5041969734381085, 0.07829993285351064, 0.5480995299745746, 0.08682201533929873, 0.6077541073750912, 0.05784435179216786, 0.40491046254517504, 0.2892217589608393, 0.5647240341567457, 0.5992925589194038, 0.08354655912957212, 0.5012793547774327, 0.08354655912957212, 0.5514273502828386, 0.09266266646420648, 0.5559759987852388, 0.563750083142142, 0.21435895765181093, 0.3215384364777164, 0.20807873163306415, 0.31211809744959623, 0.08537414564612722, 0.08537414564612722, 0.17074829129225444, 0.08537414564612722, 0.25612243693838166, 0.09841569438706961, 0.19683138877413922, 0.29524708316120885, 0.09333080733741592, 0.18666161467483183, 0.2799924220122477, 0.199654016764465, 0.2994810251466975, 0.27760091217926025, 0.27760091217926025, 0.0917885601789818, 0.0917885601789818, 0.1835771203579636, 0.27536568053694543, 0.19721997384933743, 0.29582996077400614, 0.5998724397671488, 0.0903575719399403, 0.1807151438798806, 0.2710727158198209, 0.19013007301378992, 0.2851951095206849, 0.08478901905584155, 0.08478901905584155, 0.1695780381116831, 0.3391560762233662, 0.5478360014633175, 0.07826228592333107, 0.10692732914359758, 0.07128488609573172, 0.07128488609573172, 0.24949710133506103, 0.03564244304786586, 0.10692732914359758, 0.10692732914359758, 0.07128488609573172, 0.03564244304786586, 0.03564244304786586, 0.03564244304786586, 0.03564244304786586, 0.5840085554927122, 0.08342979364181603, 0.5269764814527818, 0.10539529629055634, 0.5983005721279959, 0.08237820812574194, 0.5766474568801936, 0.08237820812574194, 0.4454471209741391, 0.31817651498152794, 0.06363530299630558, 0.5675585853741514, 0.08107979791059305, 0.08107979791059305, 0.08582039606360226, 0.6007427724452158, 0.5764970251081838, 0.08406653864804847, 0.5043992318882908, 0.054402300490335766, 0.21760920196134306, 0.054402300490335766, 0.3264138029420146, 0.054402300490335766, 0.054402300490335766, 0.5600469390451303, 0.08189546628662034, 0.5732682640063425, 0.08189546628662034, 0.5747027110149334, 0.07985924368133482, 0.23957773104400445, 0.026619747893778273, 0.026619747893778273, 0.026619747893778273, 0.1863382352564479, 0.026619747893778273, 0.053239495787556546, 0.053239495787556546, 0.026619747893778273, 0.026619747893778273, 0.026619747893778273, 0.026619747893778273, 0.026619747893778273, 0.026619747893778273, 0.026619747893778273, 0.5499640432529163, 0.0858320036365092, 0.6008240254555645, 0.08420576815601163, 0.5052346089360698, 0.534876908560182, 0.6641393500915662, 0.5856125313494257, 0.5374073877964359, 0.547829347529342, 0.3040489381444043, 0.14667011443798222, 0.4400103433139467, 0.14349951552578272, 0.43049854657734815, 0.297453125003712, 0.13821519207969027, 0.41464557623907083, 0.5872582309906925, 0.08604258749810259, 0.6022981124867182, 0.5884586385388484, 0.08165010043633861, 0.6532008034907089, 0.08167175997255137, 0.5717023198078596, 0.07385104780953548, 0.07385104780953548, 0.07385104780953548, 0.5908083824762839, 0.575998673416661, 0.10337815318314098, 0.5168907659157049, 0.10322129514846008, 0.5161064757423004, 0.6035776637680339, 0.08041023582821707, 0.16082047165643415, 0.08041023582821707, 0.4020511791410854, 0.5238486328457553, 0.10476972656915105, 0.0960774201301736, 0.48038710065086804, 0.4842922364813523, 0.5068102859172818, 0.08899845202316632, 0.5339907121389978, 0.5432686139669993, 0.5550102210315948, 0.16715991307380237, 0.33431982614760475, 0.33392343984065564, 0.6451906125145527, 0.07168784583495029, 0.6041677358060459, 0.6575853119745289, 0.07306503466383654, 0.6925452288238801, 0.6294228598627313, 0.06993587331808125, 0.5247152798220682, 0.0749593256888669, 0.5221726593744662, 0.07459609419635231, 0.07459609419635231, 0.1328283337080544, 0.4648991679781904, 0.0664141668540272, 0.0664141668540272, 0.10068975466976574, 0.5034487733488286, 0.08276076156665449, 0.5793253309665813, 0.6169065668928665, 0.4067363263353833, 0.05810518947648333, 0.29052594738241666, 0.08547347276462954, 0.5128408365877772, 0.5420529012224569, 0.5501157874886574, 0.09314119315862293, 0.5588471589517375, 0.6617705274089227, 0.6771511449428914, 0.0800537170101262, 0.7204834530911358, 0.5805730725343, 0.09324311117232327, 0.46621555586161634, 0.486568499284221, 0.09993186395894506, 0.4996593197947253, 0.5584985369876312, 0.224896839477096, 0.449793678954192, 0.6394114374681477, 0.5410950239309148, 0.09018250398848579, 0.09446363475170949, 0.566781808510257, 0.29143699796678646, 0.4371554969501797, 0.48953489513151405, 0.5479943032814664, 0.5899857467288911, 0.5404310946598315, 0.7274661413356865, 0.08082957125952073, 0.040414785629760364, 0.6981829954544856, 0.1469858937798917, 0.03674647344497293, 0.7430771296000802, 0.07821864522106108, 0.03910932261053054, 0.7878621397374187, 0.04180331130481287, 0.7106562921818188, 0.04180331130481287, 0.04180331130481287, 0.7921869271329808, 0.5842562613485283, 0.5517916852625367, 0.11035833705250735, 0.10495534546312951, 0.5247767273156476, 0.5226479444230727, 0.4516530967207073, 0.10134740877875575, 0.2026948175575115, 0.30404222633626726, 0.11231328804658186, 0.22462657609316372, 0.3369398641397456, 0.19457739308476601, 0.29186608962714905, 0.2883200426822824, 0.44140744835228, 0.09439675450852303, 0.18879350901704606, 0.2831902635255691, 0.08969667422978399, 0.17939334845956798, 0.269090022689352, 0.15073552487789943, 0.4522065746336983, 0.03725176495788531, 0.07450352991577062, 0.14900705983154125, 0.03725176495788531, 0.11175529487365594, 0.03725176495788531, 0.11175529487365594, 0.03725176495788531, 0.03725176495788531, 0.2607623547051972, 0.03725176495788531, 0.0692923182455872, 0.1385846364911744, 0.0692923182455872, 0.1385846364911744, 0.0692923182455872, 0.0692923182455872, 0.2078769547367616, 0.06679676240181077, 0.13359352480362155, 0.06679676240181077, 0.13359352480362155, 0.06679676240181077, 0.2003902872054323, 0.14552292238787654, 0.14552292238787654, 0.4365687671636296, 0.12100358277907033, 0.36301074833721103, 0.44276148726621584, 0.160054800390664, 0.05335160013022133, 0.05335160013022133, 0.10670320026044267, 0.10670320026044267, 0.160054800390664, 0.05335160013022133, 0.05335160013022133, 0.05335160013022133, 0.05335160013022133, 0.10670320026044267, 0.08940996735896148, 0.44704983679480736, 0.4867261841639588, 0.09734523683279177, 0.5165753484034687, 0.6578360391946381, 0.13397072244331706, 0.40191216732995116, 0.10147071389402441, 0.507353569470122, 0.5581198395522975, 0.5057851792477197, 0.47678955767595393, 0.0953579115351908, 0.5388508814778592, 0.5398579988622931, 0.4962822763238292, 0.5626159335780319, 0.5295919601506788, 0.5559724556738151, 0.10838860795331992, 0.5419430397665995, 0.531399086235701, 0.4521787579422664, 0.42084752558594746, 0.04208475255859475, 0.168339010234379, 0.04208475255859475, 0.04208475255859475, 0.04208475255859475, 0.0841695051171895, 0.04208475255859475, 0.4815680340502211, 0.19262721362008844, 0.04815680340502211, 0.04815680340502211, 0.04815680340502211, 0.6917565553846868, 0.06917565553846869, 0.5919331311963109, 0.06577034791070122, 0.6172145298208681, 0.06172145298208681, 0.6464126748359639, 0.11785633470232464, 0.11785633470232464, 0.3535690041069739, 0.1312958508127055, 0.3938875524381165, 0.12792175653056198, 0.5116870261222479, 0.04214491209581497, 0.4214491209581497, 0.04214491209581497, 0.16857964838325987, 0.04214491209581497, 0.04214491209581497, 0.08428982419162993, 0.04214491209581497, 0.6006807713295927, 0.06674230792551031, 0.06066058489931324, 0.6066058489931324, 0.06066058489931324, 0.7005798978975347, 0.6502720525484015, 0.08128400656855019, 0.379145573639312, 0.4365993866069442, 0.528660813783799, 0.723575294573697, 0.12583918166499078, 0.031459795416247695, 0.031459795416247695, 0.7081083028168667, 0.12314927005510723, 0.7373976149719881, 0.12824306347338923, 0.8286480336617196, 0.04357625201621356, 0.7843725362918441, 0.7772470797577102, 0.04318039331987279, 0.7426401695246194, 0.12377336158743657, 0.6464263831823279, 0.1405274746048539, 0.028105494920970777, 0.028105494920970777, 0.028105494920970777, 0.7384112875724389, 0.12306854792873982, 0.030767136982184955, 0.8170691322090406, 0.04300363853731793, 0.8220403576660663, 0.04326528198242455, 0.7927012770986969, 0.6149218085744926, 0.5030635028975239, 0.10061270057950478, 0.5840982736098658, 0.5627058128984546, 0.10265930750095781, 0.10265930750095781, 0.513296537504789, 0.48284342198972063, 0.09656868439794412, 0.09027357641333371, 0.5416414584800022, 0.583423900579672, 0.08181924319197365, 0.08181924319197365, 0.4909154591518418, 0.0971217603865553, 0.5827305623193318, 0.5868843120288139, 0.087517271266444, 0.087517271266444, 0.087517271266444, 0.087517271266444, 0.525103627598664, 0.08464215230352726, 0.08464215230352726, 0.5078529138211636, 0.08464215230352726, 0.5507671876523602, 0.12682019718503473, 0.12682019718503473, 0.12682019718503473, 0.25364039437006947, 0.5678706149232567, 0.49313971483640984, 0.08707484342652841, 0.08707484342652841, 0.435374217132642, 0.5742237608165934, 0.603903595412608, 0.741745994407276, 0.12362433240121266, 0.030906083100303166, 0.7300752214431011, 0.15209900446731273, 0.733275330292648, 0.12221255504877467, 0.030553138762193666, 0.7577442892594131, 0.04209690495885628, 0.775712074174627, 0.8147852161152233, 0.6712979653653369, 0.6532201012794387, 0.08165251265992984, 0.5529031066938523, 0.12284895840641877, 0.49139583362567507, 0.5006100793257603, 0.17878931404491438, 0.07151572561796575, 0.035757862808982875, 0.035757862808982875, 0.03257521632061033, 0.4886282448091549, 0.03257521632061033, 0.16287608160305164, 0.03257521632061033, 0.06515043264122065, 0.06515043264122065, 0.03257521632061033, 0.5383436349430241, 0.19226558390822288, 0.03845311678164457, 0.03845311678164457, 0.03845311678164457, 0.060660383650782704, 0.6672642201586098, 0.060660383650782704, 0.060660383650782704, 0.6330982052435594, 0.6719379481720564, 0.0610852680156415, 0.05220688188737272, 0.6264825826484727, 0.05220688188737272, 0.05220688188737272, 0.07193312728914063, 0.6473981456022656, 0.06928579903764245, 0.6235721913387822, 0.10986983959717611, 0.10986983959717611, 0.43947935838870444, 0.5213207751271586, 0.09801365539183189, 0.39205462156732757, 0.40582434689359304, 0.10273746662298877, 0.10273746662298877, 0.4109498664919551, 0.1149935928546909, 0.4599743714187636, 0.06424798883835521, 0.6424798883835522, 0.6410555600586935, 0.06313837274527893, 0.06313837274527893, 0.6313837274527893, 0.58991247581955, 0.09984516424632355, 0.49922582123161774, 0.49293994961562265, 0.5362562224824651, 0.6029460640263583, 0.10049101067105971, 0.07914499541278813, 0.47486997247672885, 0.07914499541278813, 0.07914499541278813, 0.08811593229257621, 0.5286955937554573, 0.08811593229257621, 0.5492000798176108, 0.5270339192174577, 0.10593623199847103, 0.5296811599923552, 0.5301675294374589, 0.5427558531685371, 0.0943975421873429, 0.4719877109367145, 0.5168487592596749, 0.7459772059907541, 0.7102832310184649, 0.06457120281986045, 0.07046808531859765, 0.7046808531859765, 0.5844746275154179, 0.5204404104576721, 0.5768139618020636, 0.06409044020022928, 0.06409044020022928, 0.553207223922945, 0.09220120398715749, 0.5946267073769165, 0.6590340148007271, 0.6666824409496315, 0.06060749463178468, 0.4188866570326262, 0.08377733140652524, 0.09379043517264242, 0.46895217586321214, 0.09379043517264242, 0.08964462395048656, 0.44822311975243273, 0.08964462395048656, 0.08964462395048656, 0.6243287347961977, 0.5553431689087313, 0.5778264429555346, 0.09262468448750398, 0.4631234224375199, 0.09262468448750398, 0.48899628246239124, 0.09779925649247825, 0.08558102574050577, 0.08558102574050577, 0.4279051287025289, 0.08558102574050577, 0.08558102574050577, 0.08894666086784503, 0.5336799652070702, 0.0872048767278068, 0.0872048767278068, 0.5232292603668408, 0.08403353221649443, 0.588234725515461, 0.07468965946729898, 0.4481379568037939, 0.7723498763106599, 0.0702136251191509, 0.5025306783190089, 0.5070158992549123, 0.5151723501734998, 0.5408053957576046, 0.4729522834470614, 0.09459045668941228, 0.5316593272122813, 0.10633186544245625, 0.12633101982854936, 0.3158275495713734, 0.06316550991427468, 0.06316550991427468, 0.06316550991427468, 0.06316550991427468, 0.06316550991427468, 0.09616745913379506, 0.5770047548027704, 0.08325918170312552, 0.08325918170312552, 0.49955509021875305, 0.07270352198073197, 0.5089246538651239, 0.07270352198073197, 0.7022457630036852, 0.12655750044683597, 0.3796725013405079, 0.5703480814974146, 0.661489258757685, 0.622811992343447, 0.6645360692654801, 0.08497671276185197, 0.08497671276185197, 0.08497671276185197, 0.08497671276185197, 0.33990685104740787, 0.07807396147042008, 0.07807396147042008, 0.07807396147042008, 0.07807396147042008, 0.07807396147042008, 0.3122958458816803, 0.21184460780045392, 0.07061486926681798, 0.14122973853363596, 0.14122973853363596, 0.21184460780045392, 0.07061486926681798, 0.07061486926681798, 0.20328190209033703, 0.06776063403011234, 0.1355212680602247, 0.1355212680602247, 0.16940158507528086, 0.06776063403011234, 0.06776063403011234, 0.170214357870735, 0.056738119290245, 0.19858341751585748, 0.0283690596451225, 0.11347623858049, 0.14184529822561248, 0.0851071789353675, 0.0283690596451225, 0.0851071789353675, 0.08834348123833247, 0.5300608874299948, 0.4786563307771833, 0.09023631156395087, 0.5414178693837052, 0.36776866012770926, 0.22066119607662554, 0.0704555566987455, 0.0704555566987455, 0.0704555566987455, 0.3522777834937275, 0.0704555566987455, 0.2113666700962365, 0.06314949721318379, 0.06314949721318379, 0.06314949721318379, 0.31574748606591896, 0.18944849163955138, 0.06314949721318379, 0.5397707268245082, 0.0899617878040847, 0.5701795277298296, 0.09502992128830492, 0.6320182422387913, 0.052668186853232615, 0.052668186853232615, 0.6860640153247818, 0.05717200127706514, 0.6477976907893522, 0.053983140899112686, 0.5857918684243799, 0.05857918684243799, 0.683828212550029, 0.0683828212550029, 0.6832252489908528, 0.07537290487718908, 0.07537290487718908, 0.07537290487718908, 0.07537290487718908, 0.3014916195087563, 0.4447776622170539, 0.11119441555426347, 0.5105166421238538, 0.1727121390112103, 0.1727121390112103, 0.25906820851681545, 0.48996431099039506, 0.0821282958380233, 0.1642565916760466, 0.2463848875140699, 0.2463848875140699, 0.388863113831234, 0.09393726738904234, 0.5636236043342541, 0.5748371103336023, 0.6034455611306305, 0.5859671766698652, 0.42022840981857973, 0.09619562667393071, 0.19239125334786142, 0.2885868800217921, 0.6461249612558324, 0.6779837603294391, 0.08561180461766253, 0.08561180461766253, 0.5992826323236378, 0.5560243129816503, 0.08130430720477924, 0.08130430720477924, 0.5691301504334546, 0.6328248933884624, 0.7720329327357927, 0.7356554853682797, 0.6304594580703218, 0.052538288172526815, 0.052538288172526815, 0.052538288172526815, 0.48936123279453636, 0.5384592593551747, 0.5472854699321643, 0.6330502778584508, 0.7448174997638618, 0.6849596565046279, 0.05268920434650984, 0.05268920434650984, 0.639732829582576, 0.079966603697822, 0.797494663377752, 0.32609501523394263, 0.5074507674237482, 0.12042353960889604, 0.3612706188266881, 0.592093512247629, 0.6892999353159297, 0.07658888170176997, 0.14381674116120508, 0.4314502234836152, 0.611243361702362, 0.08813460601083954, 0.6169422420758768, 0.07714851865166235, 0.5400396305616364, 0.07718722613829657, 0.07718722613829657, 0.540310582968076, 0.07105324498330153, 0.07105324498330153, 0.49737271488311074, 0.6440311668432682, 0.09745140015044719, 0.48725700075223594, 0.09745140015044719, 0.08215568432218946, 0.49293410593313675, 0.15889630099570579, 0.15889630099570579, 0.39724075248926444, 0.16286136245728036, 0.08143068122864018, 0.4071534061432009, 0.143277001530159, 0.0716385007650795, 0.0716385007650795, 0.0716385007650795, 0.35819250382539747, 0.6528237798070012, 0.059347616346091016, 0.059347616346091016, 0.05687669615510177, 0.6256436577061195, 0.05687669615510177, 0.6911762301652093, 0.06283420274229176, 0.07458319421910858, 0.22374958265732575, 0.4474991653146515, 0.14916977274273577, 0.44750931822820733, 0.0354582777871707, 0.3900410556588777, 0.0354582777871707, 0.1418331111486828, 0.0354582777871707, 0.0709165555743414, 0.0354582777871707, 0.0709165555743414, 0.0354582777871707, 0.0354582777871707, 0.6299709633691816, 0.589308634403968, 0.1372992160756188, 0.0686496080378094, 0.1372992160756188, 0.48054725626466577, 0.08475181417204056, 0.6780145133763245, 0.6334516113422621, 0.07918145141778277, 0.6320766931845453, 0.0574615175622314, 0.0574615175622314, 0.674284991610814, 0.042142811975675876, 0.042142811975675876, 0.042142811975675876, 0.6105891146273446, 0.05550810132975859, 0.05550810132975859, 0.05550810132975859, 0.06118825519979847, 0.1835647655993954, 0.4283177863985893, 0.06281598921202616, 0.1884479676360785, 0.4397119244841831, 0.06280167782458493, 0.18840503347375478, 0.43961174477209447, 0.5684331213684972, 0.07297367623264343, 0.07297367623264343, 0.5108157336285041, 0.08193368765780547, 0.5735358136046382, 0.08246260941199296, 0.5772382658839508, 0.07250268211244236, 0.5075187747870965, 0.39458188566653624, 0.06817782106069362, 0.3408891053034681, 0.20453346318208085, 0.13635564212138723, 0.06817782106069362, 0.4932011495972187, 0.3961432539657523, 0.14409565640091074, 0.07204782820045537, 0.07204782820045537, 0.07204782820045537, 0.3602391410022769, 0.2438083392454846, 0.32507778566064616, 0.08126944641516154, 0.505316089810541, 0.1679533981554108, 0.3359067963108216, 0.4064157356725221, 0.05968969673158441, 0.2984484836579221, 0.35813818038950646, 0.11937939346316882, 0.05997973529971285, 0.2998986764985643, 0.3598784117982771, 0.1199594705994257, 0.05368053879188348, 0.2684026939594174, 0.05368053879188348, 0.3220832327513009, 0.10736107758376696, 0.5721557726085689, 0.5753854829212585, 0.38680488579935723, 0.28777453951751464, 0.34532944742101757, 0.11510981580700586, 0.05569871696082615, 0.05569871696082615, 0.2784935848041308, 0.3341923017649569, 0.1113974339216523, 0.052974627687065325, 0.052974627687065325, 0.2648731384353266, 0.31784776612239196, 0.10594925537413065, 0.11135458370976438, 0.5567729185488219, 0.5830289452757124, 0.13894100799299178, 0.06947050399649589, 0.48629352797547126, 0.09741645342623871, 0.48708226713119357, 0.5443537898894184, 0.08706236986809592, 0.4353118493404796, 0.5983838845026808, 0.7039547421241904, 0.6398817177579088, 0.10980383466644678, 0.5490191733322339, 0.09873004522246095, 0.49365022611230475, 0.5398765953853321, 0.7405978439048462, 0.7799450543425175, 0.6545075955227894, 0.06545075955227894, 0.06545075955227894, 0.32362171977828613, 0.16181085988914307, 0.04904435599829876, 0.2452217799914938, 0.04904435599829876, 0.04904435599829876, 0.14713306799489628, 0.04904435599829876, 0.19617742399319504, 0.04904435599829876, 0.04904435599829876, 0.5527111283416963, 0.6504341334394527, 0.08130426667993158, 0.6691237435531384, 0.7479492400165328, 0.05753455692434868, 0.7354227495271307, 0.7736747522745661, 0.609805754250236, 0.46745779304513735, 0.5164645988394608, 0.5213779432093751, 0.09235620064975061, 0.4617810032487531, 0.6392582899665671, 0.1599756731140101, 0.3199513462280202, 0.2972405066265744, 0.22293037996993084, 0.1486202533132872, 0.5871261304523143, 0.16135146867745861, 0.4840544060323759, 0.08067573433872931, 0.08935041949403356, 0.5361025169642014, 0.08935041949403356, 0.5329200566001091, 0.23111346243273478, 0.03301620891896211, 0.03301620891896211, 0.2641296713516969, 0.23111346243273478, 0.09904862675688635, 0.03301620891896211, 0.2167470590767538, 0.0309638655823934, 0.0309638655823934, 0.0309638655823934, 0.0309638655823934, 0.0309638655823934, 0.2477109246591472, 0.2167470590767538, 0.0619277311647868, 0.22820199395412796, 0.03260028485058971, 0.2608022788047177, 0.22820199395412796, 0.09780085455176914, 0.03260028485058971, 0.07267631783508052, 0.07267631783508052, 0.5087342248455636, 0.0776121450235431, 0.5432850151648017, 0.08122431826044053, 0.08122431826044053, 0.5685702278230838, 0.6021406130914722, 0.08232284787938539, 0.5762599351556977, 0.6358486085639254, 0.098197265446092, 0.098197265446092, 0.392789061784368, 0.09869856871881211, 0.39479427487524843, 0.18002232839287077, 0.4500558209821769, 0.5581771158924825, 0.2941648633833219, 0.1550778864608128, 0.3101557729216256, 0.5777230036004003, 0.08458034023720575, 0.5920623816604402, 0.1378597081420357, 0.06892985407101784, 0.06892985407101784, 0.48250897849712493, 0.13172074013247165, 0.13172074013247165, 0.06586037006623582, 0.06586037006623582, 0.06586037006623582, 0.32930185033117915, 0.14437498631523346, 0.07218749315761673, 0.07218749315761673, 0.36093746578808367, 0.059002204187625334, 0.29501102093812664, 0.354013225125752, 0.11800440837525067, 0.058298554055770446, 0.29149277027885223, 0.3497913243346227, 0.11659710811154089, 0.09671493867114668, 0.04835746933557334, 0.2417873466778667, 0.29014481601344005, 0.09671493867114668, 0.4448060599514174, 0.04448060599514174, 0.26688363597085046, 0.04448060599514174, 0.6362639250986603, 0.05784217500896911, 0.05784217500896911, 0.5858336085259657, 0.05325760077508779, 0.05325760077508779, 0.05325760077508779, 0.04960919600775891, 0.5953103520931069, 0.04960919600775891, 0.04960919600775891, 0.04960919600775891, 0.04960919600775891, 0.04960919600775891, 0.08839406173825867, 0.530364370429552, 0.08839406173825867, 0.21793987927541686, 0.5085263849759727, 0.20027450176610082, 0.46730717078756856, 0.20903921749217297, 0.4877581741484036, 0.06967973916405766, 0.09123939394311771, 0.45619696971558854, 0.09123939394311771, 0.10876877484848703, 0.054384387424243515, 0.054384387424243515, 0.3806907119697046, 0.054384387424243515, 0.10876877484848703, 0.6394756333103252, 0.43431401509717754, 0.45069331555513975, 0.1310682149849927, 0.5242728599399707, 0.5183907842708528, 0.5664268875853495, 0.5065507884981159, 0.7174084919925039, 0.5905819805254763, 0.4160194117192578, 0.14748819741544147, 0.44246459224632445, 0.4095271641992402, 0.599337144434591, 0.08258718355217433, 0.5781102848652203, 0.6264028286791473, 0.6077704757788948, 0.5221242123406687, 0.07458917319152411, 0.6126091879126003, 0.5286739955018048, 0.6619044541742672, 0.7040151397443571, 0.4941454394761149, 0.5833506967513229, 0.5595610081516773, 0.6439410717497714, 0.5952766050170368, 0.08503951500243383, 0.6126953959581145, 0.08752791370830207, 0.5428017050518389, 0.07754310072169128, 0.6132157737313737, 0.10547122081841685, 0.6328273249105011, 0.09232364814293588, 0.4616182407146794, 0.5535243507049865, 0.09225405845083108, 0.5500266916231072, 0.07857524166044388, 0.6088911575387338, 0.07611139469234172, 0.6067886090407206, 0.07584857613009008, 0.07584857613009008, 0.12686513185262094, 0.1902976977789314, 0.31716282963155235, 0.12686513185262094, 0.06343256592631047, 0.5122516666674869, 0.10863798648352513, 0.5431899324176257, 0.5519377363488673, 0.6248728088700679, 0.08746081832381254, 0.6122257282666878, 0.0797302425517552, 0.5581116978622864, 0.1594604851035104, 0.6023876135042313, 0.041589697139887756, 0.041589697139887756, 0.041589697139887756, 0.08317939427977551, 0.041589697139887756, 0.12476909141966327, 0.041589697139887756, 0.20794848569943877, 0.08317939427977551, 0.08317939427977551, 0.5710709467943093, 0.08614489605192321, 0.08614489605192321, 0.5168693763115393, 0.08614489605192321, 0.10215610152102543, 0.6129366091261526, 0.07995857304999411, 0.5597100113499588, 0.07995857304999411, 0.40851943206269453, 0.6340239210896307, 0.5675065208255068, 0.627409003877292, 0.596065704858594, 0.6369894681362871, 0.6257501495782055, 0.0876717927117344, 0.0876717927117344, 0.6137025489821408, 0.5953890817306365, 0.08505558310437665, 0.06467450413630542, 0.06467450413630542, 0.5173960330904434, 0.06467450413630542, 0.6016903196036005, 0.0879866866759425, 0.6159068067315975, 0.49769040359383593, 0.0616938714847476, 0.1233877429694952, 0.18508161445424282, 0.308469357423738, 0.1233877429694952, 0.1332016775500373, 0.39960503265011194, 0.16031859156534892, 0.4809557746960468, 0.13718058915290923, 0.4115417674587277, 0.6165046683991875, 0.7251961665129641, 0.7428388035718346, 0.33135602177097456, 0.3372934235956814, 0.3483470181965321, 0.32075354754840785, 0.3243037056305399, 0.30763211674250196, 0.15173129020960305, 0.3034625804192061, 0.2110430605627385, 0.422086121125477, 0.7475686194025504, 0.23395136897297172, 0.07798378965765725, 0.07798378965765725, 0.3899189482882862, 0.1715303291152069, 0.08576516455760345, 0.3430606582304138, 0.16620900113811055, 0.08310450056905527, 0.3324180022762211, 0.4588133423786951, 0.11341989081601392, 0.4536795632640557, 0.11470082339602511, 0.11470082339602511, 0.11470082339602511, 0.45880329358410044, 0.08378559803303681, 0.16757119606607362, 0.33514239213214725, 0.06516950168230383, 0.1955085050469115, 0.06516950168230383, 0.06516950168230383, 0.06516950168230383, 0.32584750841151916, 0.06516950168230383, 0.09127708934478002, 0.27383126803434005, 0.36510835737912006, 0.5278628204153152, 0.11849481887352395, 0.4739792754940958, 0.11496203066375119, 0.45984812265500474, 0.20400088821245765, 0.5100022205311442, 0.1658001135272375, 0.331600227054475, 0.1986904209877245, 0.4967260524693112, 0.4600272722013776, 0.08982820471149872, 0.08982820471149872, 0.4491410235574936, 0.1066618128294641, 0.5333090641473205, 0.19158570352584908, 0.4789642588146227, 0.09579285176292454, 0.18437778354164014, 0.46094445885410035, 0.08137657786387376, 0.08137657786387376, 0.1627531557277475, 0.4068828893193688, 0.09774475632696596, 0.3909790253078638, 0.5472097910472784, 0.10698159772268008, 0.4279263908907203, 0.5153676647972042, 0.5052532307528194, 0.6238918659340041, 0.49312065727797055, 0.5453814559633645, 0.6319395429239753, 0.6966232292473306, 0.6296690845809387, 0.4697082217172405, 0.39414252060149574, 0.4092570835083509, 0.3986390995516406, 0.13229352029740285, 0.13229352029740285, 0.3968805608922085, 0.13762288997084954, 0.13762288997084954, 0.4128686699125486, 0.14105804691801369, 0.28211609383602737, 0.1373893891881053, 0.1373893891881053, 0.5271867599640098, 0.1384515182698106, 0.1384515182698106, 0.41535455480943173, 0.4134393109673693, 0.5193563668582727, 0.13653001754810137, 0.13653001754810137, 0.27306003509620275, 0.27675091787768746, 0.14125285975837215, 0.14125285975837215, 0.14125285975837215, 0.2825057195167443, 0.1384249231576361, 0.2768498463152722, 0.4102165975401035, 0.12504760731244044, 0.37514282193732135, 0.2102488573651969, 0.35041476227532814, 0.07008295245506563, 0.22026174387693112, 0.36710290646155186, 0.07342058129231037, 0.18868525787136692, 0.0628950859571223, 0.1257901719142446, 0.0628950859571223, 0.3144754297856115, 0.0628950859571223, 0.35153624854215604, 0.15065839223235258, 0.10043892815490173, 0.20087785630980345, 0.33474902981945837, 0.14346386992262503, 0.09564257994841668, 0.19128515989683337, 0.12334872896077743, 0.2878137009084807, 0.16446497194770326, 0.08223248597385163, 0.16446497194770326, 0.4744814320376203, 0.25577376439472554, 0.10804994497542829, 0.10804994497542829, 0.21609988995085658, 0.05545295160991801, 0.3327177096595081, 0.05545295160991801, 0.16635885482975404, 0.05545295160991801, 0.11090590321983602, 0.28671160538638435, 0.05230346286179632, 0.05230346286179632, 0.3138207771707779, 0.05230346286179632, 0.15691038858538894, 0.20921385144718527, 0.34195255658740925, 0.05699209276456821, 0.17097627829370463, 0.22796837105827283, 0.3094660741152878, 0.05157767901921464, 0.1547330370576439, 0.20631071607685855, 0.05157767901921464, 0.5587626069712037, 0.06056804016613968, 0.3028402008306984, 0.18170412049841905, 0.3028402008306984, 0.03028402008306984, 0.06150570715635292, 0.3075285357817646, 0.18451712146905877, 0.27677568220358817, 0.05572352386245989, 0.27861761931229945, 0.1950323335186096, 0.027861761931229946, 0.27861761931229945, 0.027861761931229946, 0.027861761931229946, 0.3641949687359409, 0.13657311327597785, 0.13657311327597785, 0.045524371091992616, 0.045524371091992616, 0.13657311327597785, 0.5470874421477026, 0.10412649214867407, 0.5206324607433704, 0.5731152419781745, 0.6414282356585691, 0.5715856118728792, 0.08459798642018013, 0.5921859049412609, 0.05157961545652516, 0.20631846182610064, 0.10315923091305032, 0.05157961545652516, 0.05157961545652516, 0.1547388463695755, 0.05157961545652516, 0.2578980772826258, 0.20950911311298076, 0.10475455655649038, 0.05237727827824519, 0.15713183483473558, 0.26188639139122594, 0.1887757123163875, 0.09438785615819376, 0.04719392807909688, 0.04719392807909688, 0.14158178423729062, 0.23596964039548438, 0.11399010423259628, 0.45596041693038514, 0.6296534150852283, 0.6180965808816331, 0.08829951155451903, 0.08943270160883257, 0.626028911261828, 0.5642696708662711, 0.5918916645044998, 0.44457458842226083, 0.3935896042709909, 0.4236387677728257, 0.13405098034541038, 0.40215294103623117, 0.4140067250381992, 0.041211706766143705, 0.08242341353228741, 0.16484682706457482, 0.041211706766143705, 0.041211706766143705, 0.041211706766143705, 0.16484682706457482, 0.20605853383071854, 0.041211706766143705, 0.09495586027965564, 0.47477930139827823, 0.09495586027965564, 0.09173044331226383, 0.09173044331226383, 0.550382659873583, 0.08301839427333746, 0.08301839427333746, 0.49811036564002475, 0.08301839427333746, 0.08301839427333746, 0.07116625471074271, 0.07116625471074271, 0.14233250942148543, 0.3558312735537136, 0.07116625471074271, 0.14233250942148543, 0.3756058836630339, 0.05365798338043341, 0.16097395014130025, 0.16097395014130025, 0.301528258077882, 0.1292263963190923, 0.04307546543969743, 0.1292263963190923, 0.04307546543969743, 0.04307546543969743, 0.04307546543969743, 0.1292263963190923, 0.2212459950152476, 0.3687433250254127, 0.07374866500508254, 0.22563338664923785, 0.3760556444153964, 0.07521112888307928, 0.18103203823865208, 0.06034401274621736, 0.12068802549243472, 0.06034401274621736, 0.3017200637310868, 0.06034401274621736, 0.1451651160330759, 0.43549534809922774, 0.04645306057869471, 0.04645306057869471, 0.3251714240508629, 0.1393591817360841, 0.1393591817360841, 0.18581224231477883, 0.04757042098273757, 0.3329929468791629, 0.14271126294821268, 0.14271126294821268, 0.19028168393095027, 0.12163686178363022, 0.2838193441618039, 0.16218248237817362, 0.12163686178363022, 0.16218248237817362, 0.4399807772201705, 0.24737462434262358, 0.048073730075101254, 0.048073730075101254, 0.2884423804506075, 0.09614746015020251, 0.048073730075101254, 0.14422119022530375, 0.048073730075101254, 0.09614746015020251, 0.14473892586235373, 0.43421677758706123, 0.34736833939685346, 0.05789472323280891, 0.17368416969842673, 0.23157889293123565, 0.33844320197382305, 0.16922160098691152, 0.22562880131588203, 0.05027217928309527, 0.3016330756985716, 0.05027217928309527, 0.05027217928309527, 0.1508165378492858, 0.20108871713238108, 0.05027217928309527, 0.0990497845858892, 0.0990497845858892, 0.1485746768788338, 0.1485746768788338, 0.0990497845858892, 0.2971493537576676, 0.10732508713872665, 0.128790104566472, 0.1502551219942173, 0.04293003485549066, 0.064395052283236, 0.064395052283236, 0.1502551219942173, 0.04293003485549066, 0.128790104566472, 0.02146501742774533, 0.02146501742774533, 0.06684360559857165, 0.7352796615842881, 0.06043959089827487, 0.3021979544913744, 0.1813187726948246, 0.27197815904223693, 0.0276339980569679, 0.0552679961139358, 0.3316079766836148, 0.1658039883418074, 0.27633998056967896, 0.0276339980569679, 0.0276339980569679, 0.05639729095867597, 0.28198645479337986, 0.1691918728760279, 0.028198645479337984, 0.2537878093140419, 0.028198645479337984, 0.028198645479337984, 0.48274351241475566, 0.4447591718073972, 0.5406153494714317, 0.39448681702203797, 0.2227203290378586, 0.05568008225946465, 0.4454406580757172, 0.05568008225946465, 0.05568008225946465, 0.5615138771580238, 0.06604388333257996, 0.13208776666515992, 0.4623071833280597, 0.06604388333257996, 0.06604388333257996, 0.43882745883005053, 0.08206113397759446, 0.5744279378431612, 0.08206113397759446, 0.6095585822698375, 0.4197073607193017, 0.44168357997338464, 0.10617780622820379, 0.10617780622820379, 0.21235561245640758, 0.10617780622820379, 0.13191165912154143, 0.26382331824308286, 0.11126472878375901, 0.11126472878375901, 0.333794186351277, 0.11126472878375901, 0.10847535061629804, 0.10847535061629804, 0.3254260518488941, 0.10847535061629804, 0.12387558323653383, 0.3716267497096015, 0.0910509450096199, 0.0910509450096199, 0.0910509450096199, 0.27315283502885973, 0.26905511909018937, 0.08968503969672979, 0.08968503969672979, 0.17937007939345959, 0.1861552748390222, 0.0930776374195111, 0.04653881870975555, 0.04653881870975555, 0.04653881870975555, 0.13961645612926665, 0.04653881870975555, 0.04653881870975555, 0.23269409354877776, 0.19369527889650656, 0.09684763944825328, 0.09684763944825328, 0.14527145917237994, 0.04842381972412664, 0.24211909862063322, 0.03011186441332554, 0.2710067797199298, 0.06022372882665108, 0.03011186441332554, 0.03011186441332554, 0.03011186441332554, 0.09033559323997661, 0.09033559323997661, 0.03011186441332554, 0.03011186441332554, 0.03011186441332554, 0.1505593220666277, 0.10830441191598159, 0.10830441191598159, 0.43321764766392634, 0.08835810557586218, 0.6185067390310354, 0.5721016432225815, 0.0817288061746545, 0.6284306529921603, 0.08687485839082534, 0.6081240087357773, 0.5656481929452991, 0.08615140537506628, 0.08615140537506628, 0.08615140537506628, 0.603059837625464, 0.6036268951685566, 0.6383569963096031, 0.6326904350577669, 0.078563867918001, 0.549947075426007, 0.078563867918001, 0.08299635710564177, 0.5809744997394923, 0.08299635710564177, 0.07608505068604779, 0.07608505068604779, 0.5325953548023346, 0.07608505068604779, 0.6518072772604345, 0.09311532532291922, 0.0828404318625321, 0.5798830230377247, 0.6380781309563279, 0.09115401870804686, 0.09115401870804686, 0.614076900964401, 0.07675961262055013, 0.46503035232004114, 0.26573162989716637, 0.5139280000347513, 0.29367314287700075, 0.06415727551704932, 0.06415727551704932, 0.5132582041363946, 0.06415727551704932, 0.06415727551704932, 0.07097256098070931, 0.5677804878456745, 0.07097256098070931, 0.0709442024858877, 0.5675536198871016, 0.0709442024858877, 0.45388535304181554, 0.16981778241348308, 0.33963556482696616, 0.12051597634859734, 0.24103195269719468, 0.24300217860545004, 0.24300217860545004, 0.14660760561129366, 0.2932152112225873, 0.4067821530945304, 0.14094925266495853, 0.14094925266495853, 0.28189850532991706, 0.14421853820652472, 0.28843707641304944, 0.10328332219385755, 0.10328332219385755, 0.2065666443877151, 0.13152134293087225, 0.2630426858617445, 0.3872034960046679, 0.22121075495133705, 0.3318161324270056, 0.4964306050443394, 0.17729664465869266, 0.07091865786347706, 0.03545932893173853, 0.07091865786347706, 0.03545932893173853, 0.4354982672284653, 0.029033217815231018, 0.1451660890761551, 0.058066435630462036, 0.029033217815231018, 0.08709965344569305, 0.058066435630462036, 0.029033217815231018, 0.029033217815231018, 0.503791507923277, 0.1799255385440275, 0.0359851077088055, 0.071970215417611, 0.0359851077088055, 0.6788998792267935, 0.06788998792267935, 0.6347210789284232, 0.06347210789284233, 0.535042635259776, 0.551791708956012, 0.08073024414186576, 0.08073024414186576, 0.4843814648511946, 0.5366732147295604, 0.5822502195100177, 0.529524190760413, 0.5977242420696388, 0.5827405935522388, 0.0814903329447627, 0.4889419976685762, 0.08975705477958576, 0.08975705477958576, 0.5385423286775146, 0.5316317938637534, 0.08735900747282212, 0.5241540448369327, 0.541778376199104, 0.09025793808861877, 0.09025793808861877, 0.5415476285317127, 0.07788861666308153, 0.07788861666308153, 0.46733169997848917, 0.07827272441449186, 0.46963634648695113, 0.03063204473293037, 0.38290055916162963, 0.015316022366465185, 0.09189613419879111, 0.12252817893172148, 0.09189613419879111, 0.015316022366465185, 0.015316022366465185, 0.015316022366465185, 0.015316022366465185, 0.015316022366465185, 0.015316022366465185, 0.015316022366465185, 0.03063204473293037, 0.015316022366465185, 0.015316022366465185, 0.015316022366465185, 0.015316022366465185, 0.5604458667885764, 0.7298942134113813, 0.7461704348030205, 0.08090735484555078, 0.08090735484555078, 0.4854441290733047, 0.05619644633939841, 0.16858933901819523, 0.05619644633939841, 0.05619644633939841, 0.05619644633939841, 0.05619644633939841, 0.33717867803639046, 0.05619644633939841, 0.5363776349063889, 0.08347467152859608, 0.08347467152859608, 0.5008480291715764, 0.08244193377104518, 0.49465160262627106, 0.07766937706480788, 0.03883468853240394, 0.03883468853240394, 0.03883468853240394, 0.07766937706480788, 0.07766937706480788, 0.03883468853240394, 0.03883468853240394, 0.03883468853240394, 0.03883468853240394, 0.11650406559721181, 0.23300813119442362, 0.03883468853240394, 0.14186407402519113, 0.28372814805038227, 0.06027212602483054, 0.06027212602483054, 0.03013606301241527, 0.09040818903724582, 0.18081637807449163, 0.09040818903724582, 0.12054425204966109, 0.06027212602483054, 0.03013606301241527, 0.12054425204966109, 0.06027212602483054, 0.03013606301241527, 0.29754451531396575, 0.14864427343598408, 0.29728854687196815, 0.30848813818145904, 0.2737603395017127, 0.1460696330627677, 0.1460696330627677, 0.2921392661255354, 0.14389920709291187, 0.4316976212787356, 0.3437359220956367, 0.14731539518384432, 0.0982102634558962, 0.0491051317279481, 0.0491051317279481, 0.14731539518384432, 0.21013640332953668, 0.07004546777651223, 0.35022733888256113, 0.07004546777651223, 0.2275704322517592, 0.379284053752932, 0.07585681075058641, 0.17652272455034207, 0.05884090818344735, 0.1176818163668947, 0.29420454091723675, 0.05884090818344735, 0.12813277627305392, 0.12813277627305392, 0.3843983288191617, 0.35034735250404175, 0.15014886535887503, 0.10009924357258336, 0.20019848714516672, 0.34225523914728134, 0.1466808167774063, 0.09778721118493752, 0.19557442236987505, 0.12390867976588232, 0.2891202527870588, 0.16521157302117645, 0.08260578651058822, 0.16521157302117645, 0.1517347045821956, 0.1517347045821956, 0.1517347045821956, 0.2276020568732934, 0.0758673522910978, 0.0758673522910978, 0.3256891638879122, 0.15287526231371223, 0.30575052462742447, 0.6166841608571453, 0.28752743605038794, 0.3290087391224818, 0.054834789853746964, 0.1645043695612409, 0.21933915941498786, 0.05463355412916848, 0.3278013247750109, 0.05463355412916848, 0.05463355412916848, 0.16390066238750545, 0.21853421651667393, 0.32627578900313065, 0.16313789450156532, 0.21751719266875377, 0.05437929816718844, 0.06081185375571499, 0.3040592687785749, 0.18243556126714497, 0.27365334190071744, 0.060117895696175344, 0.30058947848087675, 0.21041263493661372, 0.30058947848087675, 0.030058947848087672, 0.056102121182266027, 0.28051060591133015, 0.1683063635467981, 0.028051060591133013, 0.28051060591133015, 0.028051060591133013, 0.028051060591133013, 0.1692253000035592, 0.5076759000106776, 0.09173105101067186, 0.09173105101067186, 0.45865525505335936, 0.541987114941291, 0.6422519329618034, 0.6217924391607057, 0.07929493957304824, 0.5550645770113377, 0.6312474921494418, 0.44610166993935835, 0.42527488465118807, 0.25034218105762956, 0.10013687242305182, 0.05006843621152591, 0.05006843621152591, 0.15020530863457773, 0.25034218105762956, 0.20317978571252504, 0.10158989285626252, 0.05079494642813126, 0.15238483928439378, 0.2539747321406563, 0.2750951263835166, 0.09169837546117218, 0.09169837546117218, 0.1375475631917583, 0.22924593865293047, 0.48545294792137894, 0.35172969856720077, 0.08224384645332292, 0.5757069251732605, 0.522382235559544, 0.07462603365136343, 0.564624860916264, 0.6020579146340218, 0.08600827351914597, 0.6247376128537535, 0.08924823040767907, 0.16331521564489968, 0.4082880391122492, 0.6363700703427007, 0.6008781582202765, 0.06008781582202764, 0.07677840887764138, 0.6142272710211311, 0.15875976830420718, 0.39689942076051793, 0.23358506510535565, 0.38930844184225943, 0.07063289682912655, 0.07063289682912655, 0.1412657936582531, 0.4237973809747593, 0.0618594355389268, 0.618594355389268, 0.7605425892007338, 0.08341838404033886, 0.08341838404033886, 0.5005103042420331, 0.04170919202016943, 0.04170919202016943, 0.04170919202016943, 0.04170919202016943, 0.45702947651868625, 0.4602155897505585, 0.5701654871727053, 0.5991167351053095, 0.1997055783684365, 0.6220643114975039, 0.20735477049916795, 0.5896489746836714, 0.04913741455697262, 0.19654965822789047, 0.07184078554800857, 0.50288549883606, 0.07184078554800857, 0.07415530342742374, 0.5190871239919662, 0.07415530342742374, 0.07477816898608436, 0.5234471829025905, 0.07477816898608436, 0.16281844841898635, 0.3256368968379727, 0.16281844841898635, 0.15617583983619843, 0.31235167967239685, 0.15617583983619843, 0.23323754488169285, 0.3887292414694881, 0.07774584829389762, 0.11823951457736852, 0.47295805830947407, 0.10310999526429547, 0.5155499763214774, 0.06313434569259495, 0.06313434569259495, 0.06313434569259495, 0.1262686913851899, 0.06313434569259495, 0.2525373827703798, 0.06313434569259495, 0.0958464743088985, 0.0958464743088985, 0.575078845853391, 0.07677113385283954, 0.07677113385283954, 0.46062680311703724, 0.09103541338592114, 0.09103541338592114, 0.04551770669296057, 0.1365531200788817, 0.1365531200788817, 0.04551770669296057, 0.2731062401577634, 0.04551770669296057, 0.11380379403399879, 0.022760758806799758, 0.09104303522719903, 0.022760758806799758, 0.022760758806799758, 0.06828227642039927, 0.06828227642039927, 0.022760758806799758, 0.06828227642039927, 0.045521517613599516, 0.022760758806799758, 0.022760758806799758, 0.13656455284079855, 0.022760758806799758, 0.022760758806799758, 0.022760758806799758, 0.022760758806799758, 0.045521517613599516, 0.022760758806799758, 0.06828227642039927, 0.022760758806799758, 0.5684944984374841, 0.6623414384528694, 0.6035948496236384, 0.6332110443448502, 0.6792879960058328, 0.0849109995007291, 0.14336998338467996, 0.2867399667693599, 0.20712154912988198, 0.10356077456494099, 0.10356077456494099, 0.20712154912988198, 0.2150904042955836, 0.1075452021477918, 0.1075452021477918, 0.2150904042955836, 0.2243008520674023, 0.11215042603370115, 0.11215042603370115, 0.11215042603370115, 0.2243008520674023, 0.10298586359884461, 0.514929317994223, 0.29954629311993314, 0.30026203310097543, 0.43688316160898033, 0.39123787969696117, 0.44048243251698377, 0.1346241528740571, 0.4038724586221713, 0.12913065002972587, 0.12913065002972587, 0.06456532501486294, 0.06456532501486294, 0.06456532501486294, 0.32282662507431464, 0.15051547598615508, 0.15051547598615508, 0.07525773799307754, 0.37628868996538767, 0.12865877488596827, 0.06432938744298414, 0.12865877488596827, 0.06432938744298414, 0.06432938744298414, 0.32164693721492066, 0.06432938744298414, 0.4255310419039863, 0.17021241676159451, 0.5346703738674393, 0.5401582446982245, 0.09438681888759229, 0.5663209133255538, 0.08250428607841281, 0.08250428607841281, 0.08250428607841281, 0.49502571647047694, 0.08250428607841281, 0.09259824625003583, 0.09259824625003583, 0.555589477500215, 0.10131405427668184, 0.5065702713834092, 0.09529235838384446, 0.09529235838384446, 0.5717541503030668, 0.09250031636032596, 0.09250031636032596, 0.5550018981619558, 0.09250031636032596, 0.4049242936803753, 0.24295457620822516, 0.15419567080868604, 0.15419567080868604, 0.07709783540434302, 0.38548917702171515, 0.14902110230792748, 0.14902110230792748, 0.07451055115396374, 0.3725527557698187, 0.13740898132697116, 0.13740898132697116, 0.06870449066348558, 0.3435224533174279, 0.5106162214235453, 0.16527916062042228, 0.5509305354014076, 0.055093053540140755, 0.05089767403655339, 0.05089767403655339, 0.15269302210966018, 0.5089767403655339, 0.05089767403655339, 0.1461745803201379, 0.4872486010671263, 0.04872486010671263, 0.04872486010671263, 0.1718190551739001, 0.5727301839130003, 0.05727301839130003, 0.1604232253163099, 0.5347440843876996, 0.053474408438769966, 0.053474408438769966, 0.20077460772779576, 0.5019365193194893, 0.05019365193194894, 0.645327576835307, 0.5108979835088755, 0.569254405196203, 0.06933737627780324, 0.4853616339446228, 0.06933737627780324, 0.09181092175636608, 0.6426764522945626, 0.10462004151472411, 0.052310020757362054, 0.26155010378681026, 0.31386012454417234, 0.10462004151472411, 0.10334371933392757, 0.2583592983348189, 0.3100311580017827, 0.05167185966696378, 0.05167185966696378, 0.12110184349021408, 0.42385645221574925, 0.18165276523532112, 0.12785671629560527, 0.44749850703461846, 0.19178507444340792, 0.1370254677747821, 0.23979456860586867, 0.2740509355495642, 0.20553820166217315, 0.03425636694369553, 0.6217740745906764, 0.09207371321644874, 0.6445159925151411, 0.07029956139697079, 0.4920969297787955, 0.14059912279394157, 0.5761117473810637, 0.10099518509838903, 0.05049759254919452, 0.25248796274597257, 0.3029855552951671, 0.05049759254919452, 0.10589937273988252, 0.2647484318497063, 0.3176981182196476, 0.05294968636994126, 0.12759376099993022, 0.44657816349975576, 0.19139064149989532, 0.1321863878289482, 0.23132617870065933, 0.29741937261513346, 0.19827958174342228, 0.03304659695723705, 0.4181007914522646, 0.6663967305666494, 0.0952147859199934, 0.5712887155199603, 0.0763688814321804, 0.0763688814321804, 0.1527377628643608, 0.3054755257287216, 0.0763688814321804, 0.08177886786700095, 0.08177886786700095, 0.1635577357340019, 0.3271154714680038, 0.08177886786700095, 0.1571700360263386, 0.1571700360263386, 0.3143400720526772, 0.0785850180131693, 0.5979721109889681, 0.5995239271652062, 0.5081008577021525, 0.08468347628369208, 0.6388029345224369, 0.09257150805203734, 0.5554290483122241, 0.0719780179128292, 0.0719780179128292, 0.0719780179128292, 0.1439560358256584, 0.2879120716513168, 0.0719780179128292, 0.029526536260032592, 0.14763268130016297, 0.14763268130016297, 0.14763268130016297, 0.08857960878009778, 0.08857960878009778, 0.08857960878009778, 0.059053072520065183, 0.11810614504013037, 0.029526536260032592, 0.1518530069824724, 0.1518530069824724, 0.3037060139649448, 0.0759265034912362, 0.6729693510331053, 0.15794465990656414, 0.47383397971969243, 0.07897232995328207, 0.4945455635084849, 0.08242426058474749, 0.08242426058474749, 0.08242426058474749, 0.44080200042356044, 0.6183233019202226, 0.0883319002743175, 0.6265842102768231, 0.6308945205273566, 0.5707941094971516, 0.07134926368714395, 0.6338213481582822, 0.5971808294220646, 0.5894228346062457, 0.5820149133824671, 0.0701838322029375, 0.5614706576235, 0.6350113914134351, 0.07055682126815946, 0.5722622000090335, 0.06012048766273934, 0.3006024383136967, 0.2104217068195877, 0.270542194482327, 0.03006024383136967, 0.056443686726808065, 0.31044027699744436, 0.1693310601804242, 0.028221843363404032, 0.2539965902706363, 0.056443686726808065, 0.061173928090869495, 0.30586964045434745, 0.18352178427260848, 0.27528267640891274, 0.44143214835666733, 0.15125483245503601, 0.30250966491007203, 0.45418499591610073, 0.5424830592038155, 0.4701770432849522, 0.022033399742071986, 0.13220039845243192, 0.04406679948414397, 0.13220039845243192, 0.08813359896828794, 0.06610019922621596, 0.1762671979365759, 0.022033399742071986, 0.022033399742071986, 0.022033399742071986, 0.022033399742071986, 0.04406679948414397, 0.022033399742071986, 0.022033399742071986, 0.022033399742071986, 0.022033399742071986, 0.022033399742071986, 0.022033399742071986, 0.04406679948414397, 0.08930351619734153, 0.5358210971840491, 0.06344626051890644, 0.3172313025945322, 0.19033878155671932, 0.28550817233507897, 0.05520450353284108, 0.3312270211970465, 0.16561351059852325, 0.2760225176642054, 0.05520450353284108, 0.06018630734992584, 0.3009315367496292, 0.18055892204977753, 0.3009315367496292, 0.03009315367496292, 0.10853848660584774, 0.43415394642339095, 0.5098747767906714, 0.5107487781690626, 0.10214975563381251, 0.1689838372316208, 0.661411133977786, 0.4725543327317263, 0.6455958019405592, 0.14848705878655352, 0.5197047057529374, 0.07057215984170367, 0.14114431968340735, 0.49400511889192567, 0.06956848963400179, 0.48697942743801254, 0.06956848963400179, 0.0755263491178642, 0.0755263491178642, 0.5286844438250493, 0.0724405971917169, 0.1448811943834338, 0.5070841803420183, 0.06953468505422172, 0.06953468505422172, 0.486742795379552, 0.15716239039172325, 0.5500683663710314, 0.07858119519586163, 0.1396653845787685, 0.4888288460256898, 0.06983269228938425, 0.06334671779718123, 0.12669343559436247, 0.5067737423774499, 0.06334671779718123, 0.07260124730704576, 0.14520249461409152, 0.5082087311493203, 0.11598035167853606, 0.11598035167853606, 0.4639214067141442, 0.07012197340300408, 0.14024394680600816, 0.49085381382102855, 0.5493180379441783, 0.5436792504094186, 0.33481487444785596, 0.1509108615601273, 0.6036434462405093, 0.12447402988257389, 0.062237014941286944, 0.062237014941286944, 0.49789611953029556, 0.09684506651659422, 0.3389577328080798, 0.04842253325829711, 0.04842253325829711, 0.09684506651659422, 0.04842253325829711, 0.04842253325829711, 0.06322396025479614, 0.06322396025479614, 0.12644792050959228, 0.5057916820383691, 0.06995556384622281, 0.06995556384622281, 0.06995556384622281, 0.5596445107697825, 0.06855662234912217, 0.06855662234912217, 0.06855662234912217, 0.5484529787929774, 0.1414094263455159, 0.5656377053820636, 0.14159403553585903, 0.5663761421434361, 0.15286137225588978, 0.050953790751963254, 0.050953790751963254, 0.10190758150392651, 0.40763032601570603, 0.5466792591750643, 0.5774326139277141, 0.08765054504653445, 0.6135538153257412, 0.5800048452290143, 0.591811264781892, 0.1906272108418343, 0.05446491738338123, 0.08169737607507184, 0.027232458691690616, 0.027232458691690616, 0.13616229345845307, 0.027232458691690616, 0.027232458691690616, 0.05446491738338123, 0.027232458691690616, 0.05446491738338123, 0.05446491738338123, 0.027232458691690616, 0.027232458691690616, 0.027232458691690616, 0.08169737607507184, 0.6072784822993971, 0.06747538692215523, 0.05388852522444824, 0.05388852522444824, 0.05388852522444824, 0.48499672702003416, 0.05388852522444824, 0.05388852522444824, 0.05388852522444824, 0.05388852522444824, 0.06486063618239692, 0.5837457256415722, 0.06486063618239692, 0.10262181851019163, 0.2565545462754791, 0.3078654555305749, 0.051310909255095814, 0.10901131334009356, 0.2725282833502339, 0.3270339400202807, 0.05450565667004678, 0.09662000425769098, 0.4347900191596094, 0.14493000638653647, 0.04831000212884549, 0.04831000212884549, 0.04831000212884549, 0.6083537104123845, 0.1040021966642107, 0.46800988498894813, 0.15600329499631604, 0.05200109833210535, 0.05200109833210535, 0.5580185303409837, 0.11160370606819675, 0.20295608998378553, 0.20295608998378553, 0.182660480985407, 0.040591217996757106, 0.020295608998378553, 0.14206926298864989, 0.020295608998378553, 0.06088682699513566, 0.040591217996757106, 0.020295608998378553, 0.020295608998378553, 0.5889193685211267, 0.08413133836016096, 0.5870951044363157, 0.07338688805453947, 0.05848607537908753, 0.29243037689543766, 0.2631873392058939, 0.2631873392058939, 0.05213368353862858, 0.2867352594624572, 0.2346015759238286, 0.02606684176931429, 0.2346015759238286, 0.05213368353862858, 0.0542092318800563, 0.2710461594002815, 0.24394154346025335, 0.02710461594002815, 0.29815077534030965, 0.02710461594002815, 0.5380522584120448, 0.08967537640200748, 0.12401741535371973, 0.06200870767685986, 0.06200870767685986, 0.06200870767685986, 0.06200870767685986, 0.12401741535371973, 0.24803483070743945, 0.06200870767685986, 0.062124066392254526, 0.12424813278450905, 0.062124066392254526, 0.062124066392254526, 0.062124066392254526, 0.12424813278450905, 0.2484962655690181, 0.062124066392254526, 0.1289867092041497, 0.1289867092041497, 0.06449335460207485, 0.06449335460207485, 0.1289867092041497, 0.2579734184082994, 0.06449335460207485, 0.613815017856273, 0.558293560683994, 0.07531128198684202, 0.07531128198684202, 0.07531128198684202, 0.5271789739078941, 0.07531128198684202, 0.1703442044332035, 0.1703442044332035, 0.08517210221660175, 0.08517210221660175, 0.1703442044332035, 0.6413635026102178, 0.18863632429712288, 0.03772726485942458, 0.03772726485942458, 0.5963450753379127, 0.037271567208619544, 0.18635783604309772, 0.037271567208619544, 0.613072110904989, 0.19158503465780907, 0.038317006931561814, 0.1866594832862682, 0.0933297416431341, 0.46664870821567045, 0.0933297416431341, 0.0311099138810447, 0.0311099138810447, 0.028364839332894257, 0.17018903599736554, 0.028364839332894257, 0.08509451799868277, 0.42547258999341386, 0.08509451799868277, 0.028364839332894257, 0.028364839332894257, 0.028364839332894257, 0.028364839332894257, 0.028364839332894257, 0.1384925437925567, 0.08309552627553403, 0.4154776313776702, 0.08309552627553403, 0.027698508758511344, 0.027698508758511344, 0.05539701751702269, 0.027698508758511344, 0.027698508758511344, 0.027698508758511344, 0.44955670501670725, 0.2863694200647101, 0.09455919238727616, 0.567355154323657, 0.08506181905827184, 0.17012363811654369, 0.4253090952913592, 0.08506181905827184, 0.3415408663027918, 0.1707704331513959, 0.5927251050348954, 0.5905160073544593, 0.07381450091930741, 0.5726824631658217, 0.07158530789572772, 0.07158530789572772, 0.06796783400036371, 0.5437426720029097, 0.06796783400036371, 0.06796783400036371, 0.1750839713473958, 0.0875419856736979, 0.43770992836848954, 0.0875419856736979, 0.1771447657263014, 0.4428619143157535, 0.12269007095044424, 0.06134503547522212, 0.06134503547522212, 0.06134503547522212, 0.36807021285133273, 0.06134503547522212, 0.06134503547522212, 0.1643601374806707, 0.020545017185083836, 0.10272508592541917, 0.14381512029558685, 0.1643601374806707, 0.1643601374806707, 0.0616350515552515, 0.0616350515552515, 0.08218006874033534, 0.16904493099571963, 0.10565308187232476, 0.14791431462125465, 0.16904493099571963, 0.16904493099571963, 0.06339184912339485, 0.06339184912339485, 0.08452246549785981, 0.1645856348763574, 0.10286602179772339, 0.14401243051681276, 0.1645856348763574, 0.20573204359544678, 0.06171961307863403, 0.06171961307863403, 0.0822928174381787, 0.11527398912434059, 0.3458219673730218, 0.664870606112128, 0.08064047333611357, 0.564483313352795, 0.08807868197708521, 0.08807868197708521, 0.6165507738395964, 0.08664405325606048, 0.6065083727924233, 0.06482482034895917, 0.06482482034895917, 0.06482482034895917, 0.45377374244271423, 0.0737158778944614, 0.0737158778944614, 0.0737158778944614, 0.5160111452612298, 0.06519983069432152, 0.5215986455545721, 0.06519983069432152, 0.13039966138864303, 0.06519983069432152, 0.06745287251287238, 0.539622980102979, 0.06745287251287238, 0.06745287251287238, 0.0650681454997228, 0.5205451639977824, 0.0650681454997228, 0.0650681454997228, 0.1764605111189709, 0.019606723457663434, 0.13724706420364402, 0.13724706420364402, 0.15685378766130748, 0.15685378766130748, 0.058820170372990296, 0.058820170372990296, 0.07842689383065374, 0.1592660715851099, 0.01769623017612332, 0.14156984140898657, 0.12387361123286324, 0.01769623017612332, 0.14156984140898657, 0.1592660715851099, 0.03539246035224664, 0.05308869052836996, 0.07078492070449328, 0.01769623017612332, 0.01869695157789719, 0.1682725642010747, 0.01869695157789719, 0.13087866104528034, 0.13087866104528034, 0.1495756126231775, 0.1682725642010747, 0.05609085473369157, 0.05609085473369157, 0.07478780631158875, 0.4767017606030914, 0.07729106337523595, 0.5410374436266516, 0.08213778455735303, 0.08213778455735303, 0.5749644919014713, 0.6023000686179786, 0.07525098682647155, 0.5267569077853009, 0.07877500405162477, 0.5514250283613734, 0.07224390245298436, 0.07224390245298436, 0.07224390245298436, 0.5057073171708905, 0.07277208618720624, 0.5821766894976499, 0.07277208618720624, 0.07277208618720624, 0.5534754267775743, 0.06918442834719679, 0.06918442834719679, 0.06956767107803784, 0.5565413686243027, 0.06956767107803784, 0.06956767107803784, 0.06493122221713994, 0.12986244443427988, 0.5843809999542595, 0.6801569005971024, 0.6557601515133326, 0.07286223905703695, 0.6321776013462367, 0.6524661213042734, 0.07249623570047482, 0.6494449151102043, 0.6523231849296797, 0.06523231849296797, 0.5702091779133935, 0.12035891888756475, 0.12035891888756475, 0.2407178377751295, 0.12185945789466557, 0.12185945789466557, 0.3655783736839967, 0.12177403333368039, 0.12177403333368039, 0.24354806666736079, 0.16797100465810844, 0.33594200931621687, 0.34271008270081826, 0.4671769276352258, 0.1407666987694938, 0.2815333975389876, 0.07815919849556892, 0.15631839699113784, 0.46895519097341354, 0.15538558191217644, 0.4661567457365293, 0.20005506280243565, 0.06668502093414522, 0.06668502093414522, 0.4001101256048713, 0.06668502093414522, 0.17369547515246078, 0.5210864254573824, 0.05789849171748693, 0.05789849171748693, 0.07496633330600423, 0.6746969997540381, 0.07496633330600423, 0.6580748472187713, 0.6537586684858151, 0.016385178406792166, 0.16385178406792167, 0.016385178406792166, 0.03277035681358433, 0.03277035681358433, 0.11469624884754516, 0.11469624884754516, 0.14746660566112949, 0.13108142725433733, 0.0491555352203765, 0.0491555352203765, 0.06554071362716866, 0.016385178406792166, 0.18243718703168493, 0.01658519882106227, 0.03317039764212454, 0.01658519882106227, 0.11609639174743587, 0.11609639174743587, 0.1492667893895604, 0.13268159056849815, 0.03317039764212454, 0.0497555964631868, 0.06634079528424908, 0.03317039764212454, 0.1542865253010311, 0.015428652530103108, 0.030857305060206217, 0.015428652530103108, 0.10800056771072176, 0.10800056771072176, 0.015428652530103108, 0.1542865253010311, 0.1542865253010311, 0.06171461012041243, 0.046285957590309325, 0.06171461012041243, 0.015428652530103108, 0.4175661565644796, 0.3098916291076148, 0.12907918929976042, 0.12907918929976042, 0.12907918929976042, 0.12907918929976042, 0.25815837859952084, 0.07630443509111945, 0.07630443509111945, 0.5341310456378361, 0.6331481032415965, 0.5738874239557883, 0.07672156134329762, 0.5370509294030833, 0.077195993145063, 0.6947639383055669, 0.0661920991055559, 0.0661920991055559, 0.0661920991055559, 0.0661920991055559, 0.4633446937388913, 0.06577918360385851, 0.5262334688308681, 0.06577918360385851, 0.06577918360385851, 0.556418421354663, 0.06955230266933288, 0.06955230266933288, 0.5605197293825063, 0.07006496617281328, 0.07006496617281328, 0.07006496617281328, 0.5674654212455429, 0.43990332299587664, 0.07998242236288666, 0.15996484472577333, 0.03999121118144333, 0.11997363354433, 0.03999121118144333, 0.03999121118144333, 0.4312179855040017, 0.07840327009163667, 0.039201635045818334, 0.15680654018327334, 0.039201635045818334, 0.117604905137455, 0.039201635045818334, 0.039201635045818334, 0.4304904259287935, 0.0782709865325079, 0.1565419730650158, 0.03913549326625395, 0.11740647979876186, 0.03913549326625395, 0.4099896301494729, 0.07454356911808598, 0.03727178455904299, 0.14908713823617195, 0.03727178455904299, 0.07454356911808598, 0.03727178455904299, 0.44113383234889414, 0.08020615133616257, 0.16041230267232515, 0.04010307566808129, 0.08020615133616257, 0.04010307566808129, 0.4182480094133744, 0.07604509262061353, 0.15209018524122705, 0.038022546310306764, 0.1140676389309203, 0.038022546310306764, 0.7102204444350261, 0.06402823733815852, 0.6402823733815851, 0.06402823733815852, 0.5859001975110376, 0.06510002194567084, 0.06510002194567084, 0.6216210585498715, 0.06906900650554128, 0.6904776661037899, 0.6544639988022645, 0.7003162244659097, 0.09098006053982838, 0.5458803632389703, 0.18196012107965676, 0.7247922585402706, 0.6326168714974305, 0.0575106246815846, 0.7001445458468086, 0.0636495041678917, 0.6562343005704288, 0.05965766368822079, 0.12600338221299306, 0.6300169110649654, 0.06300169110649653, 0.13422846944216507, 0.6040281124897428, 0.1057053501558844, 0.528526750779422, 0.5733192200898144, 0.5860254417473922, 0.8106730144822769, 0.792961070298527, 0.8213942212561369, 0.045633012292007606, 0.8180764963410015, 0.7938700029442126, 0.7924496269248231, 0.6836280789976084, 0.07595867544417871, 0.39169273688978606, 0.03560843062634419, 0.10682529187903257, 0.07121686125268838, 0.07121686125268838, 0.07121686125268838, 0.03560843062634419, 0.03560843062634419, 0.03560843062634419, 0.7555637383240188, 0.07555637383240188, 0.6385679868314188, 0.06385679868314187, 0.06385679868314187, 0.6699429716700039, 0.23352189067935095, 0.11676094533967547, 0.35028283601902643, 0.13498277578166476, 0.2699655515633295, 0.0887449029076117, 0.0887449029076117, 0.0887449029076117, 0.0887449029076117, 0.0887449029076117, 0.3549796116304468, 0.0902567343351689, 0.0902567343351689, 0.0902567343351689, 0.0902567343351689, 0.3610269373406756, 0.18246721203716051, 0.09123360601858026, 0.09123360601858026, 0.36493442407432103, 0.4197993072667163, 0.20459349941241708, 0.15463558435923355, 0.3092711687184671, 0.294025472493548, 0.14907731471271984, 0.2981546294254397, 0.3047520917778505, 0.3657025101334206, 0.1219008367111402, 0.29880267669423083, 0.35856321203307695, 0.11952107067769233, 0.049402552703813093, 0.049402552703813093, 0.049402552703813093, 0.049402552703813093, 0.29641531622287853, 0.29641531622287853, 0.09880510540762619, 0.5738833868835966, 0.10879577552950417, 0.543978877647521, 0.5772512727686969, 0.4897049133998904, 0.22831378274189215, 0.11415689137094608, 0.3424706741128382, 0.19639185805821147, 0.09819592902910573, 0.2945877870873172, 0.14598910083822447, 0.4379673025146734, 0.18989060116684944, 0.11249601395529824, 0.11249601395529824, 0.22499202791059647, 0.22499202791059647, 0.11008822450234745, 0.11008822450234745, 0.4403528980093898, 0.09493638630403321, 0.18987277260806643, 0.047468193152016606, 0.047468193152016606, 0.047468193152016606, 0.047468193152016606, 0.047468193152016606, 0.047468193152016606, 0.18987277260806643, 0.047468193152016606, 0.1848986980421803, 0.09244934902109014, 0.09244934902109014, 0.3697973960843606, 0.3670826438552141, 0.3297150483247237, 0.06079410768341836, 0.3039705384170918, 0.3647646461005102, 0.12158821536683671, 0.05271100057356338, 0.05271100057356338, 0.2635550028678169, 0.3162660034413803, 0.10542200114712676, 0.054978749929856865, 0.2748937496492843, 0.3298724995791412, 0.10995749985971373, 0.1012889814191699, 0.5064449070958494, 0.10214771967793242, 0.5107385983896621, 0.10860357728747376, 0.5430178864373688, 0.09368523805571088, 0.09368523805571088, 0.4684261902785544, 0.5577016325706572, 0.5615103318701142, 0.4749645083504245, 0.5922271632577168, 0.5041580898547474, 0.5423407809927896, 0.47927346394738496, 0.6217234574103483, 0.5171199990491127, 0.6506888739424777, 0.20981697603499563, 0.10490848801749782, 0.05245424400874891, 0.15736273202624673, 0.26227122004374454, 0.04880208247994921, 0.19520832991979684, 0.09760416495989842, 0.04880208247994921, 0.14640624743984765, 0.04880208247994921, 0.24401041239974605, 0.20843265632641844, 0.10421632816320922, 0.05210816408160461, 0.15632449224481382, 0.26054082040802307, 0.1152614649159928, 0.3457843947479784, 0.6164755193720739, 0.0880679313388677, 0.552428314074085, 0.07891833058201214, 0.1907397090120924, 0.0953698545060462, 0.0953698545060462, 0.0476849272530231, 0.1430547817590693, 0.2384246362651155, 0.16225312880825726, 0.08112656440412863, 0.040563282202064316, 0.12168984660619295, 0.12168984660619295, 0.040563282202064316, 0.20281641101032158, 0.20428092852819518, 0.10214046426409759, 0.10214046426409759, 0.15321069639614637, 0.051070232132048796, 0.255351160660244, 0.12006898236361745, 0.3602069470908523, 0.7070922929823458, 0.08638079720678185, 0.604665580447473, 0.6428823609796727, 0.6154692241705239, 0.08785931238454976, 0.6150151866918484, 0.5367400226465869, 0.09359770607998663, 0.5615862364799198, 0.5352950052302247, 0.5698411702715126, 0.09250189090069703, 0.6475132363048792, 0.427718961857845, 0.1256814699283183, 0.1256814699283183, 0.3770444097849549, 0.09028085880525512, 0.6319660116367859, 0.5619861368147263, 0.5114739065953301, 0.10229478131906602, 0.508063502081926, 0.48671723622902174, 0.1439316916701306, 0.2878633833402612, 0.5280904576449399, 0.251231713306988, 0.5584050539605848, 0.11168101079211697, 0.5670961673411722, 0.42918198624182813, 0.18393513696078348, 0.18393513696078348, 0.2901520428391283, 0.24638394484466614, 0.22085879649079587, 0.22085879649079587, 0.2210186621189592, 0.5718536796891598, 0.5527302058201375, 0.5368489602638444, 0.3687772820170439, 0.3763689009747073, 0.4370717734500452, 0.4216898829907722, 0.644585294866517, 0.5875530036950557, 0.6729932209097863, 0.7141581051703237, 0.07141581051703237, 0.6849291485998086, 0.6169506189025012, 0.06855006876694458, 0.5391734250448142, 0.5791937108949495, 0.07239921386186869, 0.07239921386186869, 0.6352505197768287, 0.07774577221104773, 0.6219661776883818, 0.07774577221104773, 0.5376729657009555, 0.07681042367156506, 0.7087450919461975, 0.6355133507023405, 0.06440120968877659, 0.7084133065765426, 0.06440120968877659, 0.6176431427847765, 0.06862701586497517, 0.6701174876884102, 0.07445749863204557, 0.6322956502237465, 0.06958348690875076, 0.6958348690875075, 0.6434379059901245, 0.3241625972337485, 0.41678048215767666, 0.04630894246196407, 0.046749619279091895, 0.046749619279091895, 0.2804977156745514, 0.42074657351182704, 0.046749619279091895, 0.046749619279091895, 0.042498218334733245, 0.042498218334733245, 0.2549893100083995, 0.42498218334733245, 0.042498218334733245, 0.042498218334733245, 0.045898294088849344, 0.27538976453309605, 0.4130846467996441, 0.045898294088849344, 0.2903890935158597, 0.4355836402737895, 0.04839818225264328, 0.04839818225264328, 0.2803976125158609, 0.42059641877379134, 0.046732935419310145, 0.5492192937592212, 0.12750797407842532, 0.5100318963137013, 0.522630526198092, 0.521462186426991, 0.5242653181019309, 0.5234589278204177, 0.13086473195510442, 0.043621577318368146, 0.043621577318368146, 0.043621577318368146, 0.043621577318368146, 0.043621577318368146, 0.043621577318368146, 0.6709793235831314, 0.46648486264828476, 0.07257075860611671, 0.036285379303058356, 0.07257075860611671, 0.14514151721223342, 0.07257075860611671, 0.2539976551214085, 0.036285379303058356, 0.036285379303058356, 0.036285379303058356, 0.036285379303058356, 0.07257075860611671, 0.036285379303058356, 0.508743823919331, 0.4557913691123004, 0.5745204495416654, 0.5717622045811187, 0.7904612783929601, 0.7462041613130109, 0.04145578673961172, 0.8081262690825404, 0.11937543765239444, 0.35812631295718333, 0.577179808927847, 0.1649085168365277, 0.08245425841826386, 0.6077329324533984, 0.6189404774079629, 0.056267316127996625, 0.056267316127996625, 0.056267316127996625, 0.08979429020396867, 0.08979429020396867, 0.44897145101984337, 0.5691856822638791, 0.5083631865885989, 0.5411832748844294, 0.06819114612703203, 0.6137203151432883, 0.06819114612703203, 0.511614073566663, 0.0852690122611105, 0.0819490365916548, 0.0819490365916548, 0.4916942195499288, 0.08824284047295552, 0.5294570428377332, 0.062007369150363464, 0.6200736915036347, 0.062007369150363464, 0.08493953983181353, 0.08493953983181353, 0.5096372389908812, 0.12032351530958726, 0.48129406123834906, 0.6601210348118989, 0.6366616561684503, 0.20591440530041805, 0.05147860132510451, 0.10295720265020902, 0.4118288106008361, 0.05147860132510451, 0.05147860132510451, 0.5534461594577785, 0.07585915741379462, 0.5310141018965623, 0.10350082783456878, 0.5175041391728439, 0.07465195323234, 0.07465195323234, 0.52256367262638, 0.07465195323234, 0.1497800851050153, 0.44934025531504596, 0.6171367220296791, 0.6868230148526742, 0.6280272640427881, 0.6095320984599554, 0.06772578871777282, 0.06824396746136248, 0.6141957071522623, 0.06824396746136248, 0.5896612266697614, 0.06551791407441794, 0.6573389138812549, 0.35419329775712405, 0.05059904253673201, 0.05059904253673201, 0.151797127610196, 0.20239617014692804, 0.3365274577658681, 0.04807535110940973, 0.1442260533282292, 0.1923014044376389, 0.3767467998115521, 0.047093349976444016, 0.14128004992933205, 0.18837339990577606, 0.3445270311071208, 0.4759929008116584, 0.07931378210865984, 0.6345102568692788, 0.07931378210865984, 0.07681212388739495, 0.6144969910991596, 0.07681212388739495, 0.04791416278367627, 0.04791416278367627, 0.47914162783676273, 0.14374248835102882, 0.04791416278367627, 0.04791416278367627, 0.04791416278367627, 0.07083104544841586, 0.5666483635873268, 0.07083104544841586, 0.07083104544841586, 0.5547370816983529, 0.5501654954566524, 0.40900443541116155, 0.20461219124397423, 0.10230609562198711, 0.30691828686596134, 0.3840858341214102, 0.09922656480123465, 0.09922656480123465, 0.09922656480123465, 0.09922656480123465, 0.3969062592049386, 0.09403126732319156, 0.37612506929276623, 0.13140253852077227, 0.06570126926038614, 0.26280507704154454, 0.06570126926038614, 0.06570126926038614, 0.26280507704154454, 0.5144482093989873, 0.07914587836907497, 0.039572939184537484, 0.039572939184537484, 0.039572939184537484, 0.039572939184537484, 0.039572939184537484, 0.039572939184537484, 0.4418746331963345, 0.055234329149541815, 0.16570298744862544, 0.39971728450529265, 0.0726758699100532, 0.181689674775133, 0.0363379349550266, 0.0363379349550266, 0.1090138048650798, 0.0363379349550266, 0.0363379349550266, 0.0363379349550266, 0.06397258105415658, 0.03198629052707829, 0.3518491957978612, 0.03198629052707829, 0.06397258105415658, 0.15993145263539146, 0.03198629052707829, 0.03198629052707829, 0.06397258105415658, 0.03198629052707829, 0.03198629052707829, 0.03198629052707829, 0.03198629052707829, 0.06733815843150534, 0.3703598713732794, 0.03366907921575267, 0.06733815843150534, 0.13467631686301068, 0.03366907921575267, 0.03366907921575267, 0.10100723764725802, 0.03366907921575267, 0.03366907921575267, 0.03366907921575267, 0.187404288917079, 0.0937021444585395, 0.04685107222926975, 0.04685107222926975, 0.04685107222926975, 0.14055321668780926, 0.23425536114634876, 0.19433599112203018, 0.09716799556101509, 0.048583997780507544, 0.09716799556101509, 0.14575199334152264, 0.24291998890253771, 0.02633057901058347, 0.02633057901058347, 0.21064463208466777, 0.07899173703175041, 0.02633057901058347, 0.02633057901058347, 0.07899173703175041, 0.07899173703175041, 0.10532231604233389, 0.05266115802116694, 0.02633057901058347, 0.13165289505291736, 0.02633057901058347, 0.11385117649814086, 0.11385117649814086, 0.3415535294944226, 0.3106182293352316, 0.33595168283334165, 0.10901827061505952, 0.10901827061505952, 0.10901827061505952, 0.21803654123011904, 0.055443692640979814, 0.27721846320489907, 0.3326621558458789, 0.11088738528195963, 0.28382894362319994, 0.3405947323478399, 0.11353157744927997, 0.09102805016405094, 0.09102805016405094, 0.27308415049215284, 0.27308415049215284, 0.09102805016405094, 0.5200775892886973, 0.11867400006668813, 0.5933700003334407, 0.505154070122095, 0.5342784558951399, 0.10590662754987208, 0.10590662754987208, 0.10590662754987208, 0.10590662754987208, 0.21181325509974416, 0.16826769559770216, 0.16826769559770216, 0.07855843573136237, 0.5499090501195365, 0.09421200805029739, 0.6594840563520817, 0.08354787209392657, 0.584835104657486, 0.09203756444645002, 0.46018782223225013, 0.09203756444645002, 0.09856511303144404, 0.4928255651572202, 0.5550476776674402, 0.10123058686002873, 0.5061529343001436, 0.49705022857132936, 0.5264295559914334, 0.10528591119828667, 0.10686349921634751, 0.5343174960817376, 0.5727375395559804, 0.11428444248632008, 0.5714222124316004, 0.5574503956766376, 0.507784719838234, 0.09809014413817509, 0.4904507206908754, 0.509951954801401, 0.541910708196943, 0.5389374449351103, 0.543393048133047, 0.5389673031129645, 0.08982788385216076, 0.569080830954655, 0.09484680515910916, 0.5597666229449951, 0.6040362363133819, 0.29827279193402223, 0.29827279193402223, 0.29806512777211913, 0.29806512777211913, 0.2925420426015263, 0.2925420426015263, 0.22179372905765898, 0.33269059358648845, 0.30104805069780366, 0.30104805069780366, 0.5634017327413359, 0.12633871585742515, 0.2526774317148503, 0.30682378351777606, 0.2918901469636143, 0.3119081450329774, 0.17955853996541316, 0.08977926998270658, 0.08977926998270658, 0.26933780994811973, 0.3315533171147724, 0.3315533171147724, 0.1118102893779956, 0.0559051446889978, 0.0559051446889978, 0.0559051446889978, 0.2236205787559912, 0.1118102893779956, 0.16771543406699338, 0.27690055940831493, 0.27690055940831493, 0.260300312126197, 0.39045046818929546, 0.4139432088496078, 0.38829424100802457, 0.4430484844303849, 0.36972331048943313, 0.4430709375473546, 0.434859570907274, 0.6235959783724011, 0.06928844204137789, 0.11512664735012595, 0.34537994205037786, 0.11023067467238198, 0.330692024017146, 0.4291074611877631, 0.11091305001404428, 0.11091305001404428, 0.33273915004213284, 0.33884067437085336, 0.36275673519187485, 0.09516316642622306, 0.09516316642622306, 0.38065266570489226, 0.07120276231011884, 0.07120276231011884, 0.2136082869303565, 0.07120276231011884, 0.07120276231011884, 0.28481104924047534, 0.0864187834598299, 0.0864187834598299, 0.3456751338393196, 0.13869182687548726, 0.4854213940642054, 0.06934591343774363, 0.05752668214634368, 0.11505336429268737, 0.05752668214634368, 0.46021345717074946, 0.05752668214634368, 0.13926760338076266, 0.48743661183266934, 0.06963380169038133, 0.08264646792703517, 0.08264646792703517, 0.08264646792703517, 0.08264646792703517, 0.3305858717081407, 0.10565700619323541, 0.10565700619323541, 0.3169710185797062, 0.046980334033444086, 0.046980334033444086, 0.18792133613377635, 0.046980334033444086, 0.14094100210033225, 0.23490167016722044, 0.09396066806688817, 0.08149921024785807, 0.16299842049571614, 0.08149921024785807, 0.08149921024785807, 0.24449763074357422, 0.09185882638559897, 0.09185882638559897, 0.09185882638559897, 0.3674353055423959, 0.13326940742132967, 0.39980822226398904, 0.24883065247226893, 0.09953226098890758, 0.3981290439556303, 0.04976613049445379, 0.07464358989494609, 0.07464358989494609, 0.1866089747373652, 0.07464358989494609, 0.03732179494747304, 0.29857435957978434, 0.07464358989494609, 0.07464358989494609, 0.24406868691599787, 0.09762747476639914, 0.3905098990655966, 0.04881373738319957, 0.37531340835933197, 0.1435772047715555, 0.09571813651437035, 0.047859068257185174, 0.23929534128592586, 0.047859068257185174, 0.047859068257185174, 0.047859068257185174, 0.1435772047715555, 0.1089845151350278, 0.1089845151350278, 0.1089845151350278, 0.3269535454050834, 0.2858526219291184, 0.4287789328936776, 0.0895372986086022, 0.6267610902602154, 0.5626853254163643, 0.08038361791662346, 0.5771884113571168, 0.5290834668238553, 0.6823295927288763, 0.5876773173558358, 0.08395390247940511, 0.08395390247940511, 0.14064375607892882, 0.42193126823678645, 0.14111360752630864, 0.14111360752630864, 0.4233408225789259, 0.12529967820949264, 0.3758990346284779, 0.11676300610427963, 0.4670520244171185, 0.03307809126770519, 0.03307809126770519, 0.03307809126770519, 0.06615618253541038, 0.06615618253541038, 0.06615618253541038, 0.03307809126770519, 0.03307809126770519, 0.03307809126770519, 0.03307809126770519, 0.03307809126770519, 0.03307809126770519, 0.03307809126770519, 0.06615618253541038, 0.03307809126770519, 0.03307809126770519, 0.16539045633852595, 0.06615618253541038, 0.03307809126770519, 0.10530311018069771, 0.10530311018069771, 0.42121244072279085, 0.11749283553901801, 0.35247850661705404, 0.18121535334298486, 0.3624307066859697, 0.09229050621621714, 0.09229050621621714, 0.18458101243243427, 0.09229050621621714, 0.18458101243243427, 0.263058918561037, 0.13540343682621483, 0.13540343682621483, 0.27080687365242967, 0.4150306168093323, 0.14396649774584874, 0.14396649774584874, 0.5188689011769253, 0.43482887833035805, 0.44137147858270664, 0.6346017860216076, 0.06346017860216076, 0.06346017860216076, 0.5194796957915958, 0.46682488523305116, 0.4118517048561651, 0.1372839016187217, 0.412026138611317, 0.4990690646429857, 0.2004601972933328, 0.2004601972933328, 0.3006902959399992, 0.1251686126732647, 0.1251686126732647, 0.37550583801979415, 0.11788539906783738, 0.35365619720351216, 0.11115506968182383, 0.3334652090454715, 0.3910985615885729, 0.4457928661834396, 0.42385534246360135, 0.10968775269033228, 0.10968775269033228, 0.32906325807099684, 0.5478193737164677, 0.09130322895274462, 0.5786568112113811, 0.09644280186856351, 0.48805802614385296, 0.08134300435730883, 0.08134300435730883, 0.755501390922388, 0.41507646649751145, 0.40099028597273334, 0.409357665575693, 0.7333781448162979, 0.09772141939544779, 0.4886070969772389, 0.607203775394648, 0.5195202527312253, 0.10846545395647825, 0.5423272697823912, 0.10101953557534699, 0.5050976778767349, 0.4248902588082955, 0.1555043926910366, 0.4665131780731099, 0.0777521963455183, 0.15529728825527084, 0.4658918647658125, 0.07764864412763542, 0.1554631395529609, 0.4663894186588827, 0.07773156977648045, 0.5475546927773219, 0.09299356279862038, 0.09299356279862038, 0.4649678139931019, 0.06172693750053223, 0.55554243750479, 0.12345387500106446, 0.36169349524046385, 0.04801211773733428, 0.24006058868667138, 0.04801211773733428, 0.09602423547466855, 0.04801211773733428, 0.09602423547466855, 0.04801211773733428, 0.1920484709493371, 0.1286417315632665, 0.3859251946897995, 0.12410620698057691, 0.37231862094173074, 0.10557591648207353, 0.10557591648207353, 0.31672774944622056, 0.05237874623264314, 0.2618937311632157, 0.10475749246528628, 0.05237874623264314, 0.05237874623264314, 0.05237874623264314, 0.20951498493057255, 0.1694514392162942, 0.1694514392162942, 0.09525721591758748, 0.5715432955055249, 0.5126962123800712, 0.4405554092856369, 0.1458325961263366, 0.43749778837900977, 0.46999479058789684, 0.5038077072383782, 0.09812571075200824, 0.4906285537600412, 0.5109633179902243, 0.5556624273320391, 0.5862514504214505, 0.0972145155357444, 0.0972145155357444, 0.486072577678722, 0.6294976861793836, 0.6486559348559724, 0.09556248799113506, 0.09556248799113506, 0.09556248799113506, 0.09556248799113506, 0.2866874639734052, 0.09099122829282782, 0.09099122829282782, 0.09099122829282782, 0.2729736848784835, 0.08495925956231357, 0.08495925956231357, 0.16991851912462713, 0.2548777786869407, 0.28316561703904347, 0.4247484255585652, 0.1078097891489644, 0.3234293674468932, 0.3234293674468932, 0.09820776829681085, 0.09820776829681085, 0.1964155365936217, 0.29462330489043254, 0.07595807370990533, 0.07595807370990533, 0.07595807370990533, 0.07595807370990533, 0.227874221129716, 0.227874221129716, 0.07924944148136592, 0.07924944148136592, 0.07924944148136592, 0.07924944148136592, 0.3169977659254637, 0.0289089601979908, 0.28908960197990796, 0.08672688059397239, 0.0289089601979908, 0.0289089601979908, 0.08672688059397239, 0.0289089601979908, 0.08672688059397239, 0.14454480098995398, 0.0289089601979908, 0.0289089601979908, 0.0289089601979908, 0.07639169271618436, 0.07639169271618436, 0.07639169271618436, 0.07639169271618436, 0.30556677086473744, 0.11627273366424559, 0.11627273366424559, 0.11627273366424559, 0.34881820099273675, 0.0976443520224895, 0.0976443520224895, 0.0976443520224895, 0.2929330560674685, 0.11308585629571022, 0.11308585629571022, 0.33925756888713066, 0.46206014720101546, 0.41382879262316785, 0.4429549678802631, 0.17229330283407857, 0.08614665141703928, 0.17229330283407857, 0.2584399542511179, 0.0793502212862287, 0.0793502212862287, 0.03967511064311435, 0.0793502212862287, 0.03967511064311435, 0.0793502212862287, 0.19837555321557176, 0.03967511064311435, 0.1587004425724574, 0.03967511064311435, 0.09323415338413134, 0.18646830676826268, 0.18646830676826268, 0.279702460152394, 0.16049365512246141, 0.16049365512246141, 0.4012341378061535, 0.5460887399963185, 0.5384971790612254, 0.6275397195769106, 0.5729415591353861, 0.04062803777087059, 0.3250243021669647, 0.04062803777087059, 0.04062803777087059, 0.08125607554174118, 0.12188411331261176, 0.12188411331261176, 0.04062803777087059, 0.13956594452300228, 0.41869783356900686, 0.43060055147200027, 0.5851637884519347, 0.09399368585932191, 0.5639621151559315, 0.6035292347855354, 0.14313997934628162, 0.28627995869256323, 0.21816018887053445, 0.08726407554821378, 0.04363203777410689, 0.04363203777410689, 0.3490563021928551, 0.04363203777410689, 0.04363203777410689, 0.04363203777410689, 0.2543163854848735, 0.1017265541939494, 0.4069062167757976, 0.0508632770969747, 0.0508632770969747, 0.20932177395169455, 0.08372870958067782, 0.04186435479033891, 0.08372870958067782, 0.3349148383227113, 0.04186435479033891, 0.04186435479033891, 0.04186435479033891, 0.4309227585443621, 0.4304883605632958, 0.3654539756365794, 0.38123255875762785, 0.40901711110773276, 0.14250348623407402, 0.4275104587022221, 0.35675202050613924, 0.1189173401687131, 0.41619076745131484, 0.1302214095409405, 0.39066422862282146, 0.29167038958503627, 0.3626107824023234, 0.2295324222565454, 0.07651080741884847, 0.07651080741884847, 0.15302161483769694, 0.07651080741884847, 0.2295324222565454, 0.3474826727801017, 0.09651993616012657, 0.19303987232025313, 0.09651993616012657, 0.2895598084803797, 0.09034178819813123, 0.09034178819813123, 0.5420507291887874, 0.5647302408264465, 0.5449881038362044, 0.09083135063936741, 0.6459403964343918, 0.6154532517970575, 0.1413376670753273, 0.4240130012259819, 0.5449692225332752, 0.6106481589061604, 0.10244128649985826, 0.6146477189991495, 0.6199525902801066, 0.07918220977814461, 0.5542754684470123, 0.6003242959161539, 0.08818041821049163, 0.5290825092629498, 0.08818041821049163, 0.6128370419171427, 0.10213950698619045, 0.04807908373180874, 0.6250280885135137, 0.04807908373180874, 0.04807908373180874, 0.5281599420521007, 0.64656490478048, 0.5378942847028133, 0.4944088103174309, 0.07062983004534727, 0.07062983004534727, 0.0817329220395609, 0.1634658440791218, 0.0817329220395609, 0.1634658440791218, 0.2451987661186827, 0.13862774463762306, 0.06931387231881153, 0.06931387231881153, 0.06931387231881153, 0.06931387231881153, 0.13862774463762306, 0.20794161695643457, 0.30833319500913253, 0.3105258471976714, 0.44312979140156666, 0.47849297960575, 0.33327267348828604, 0.06665453469765721, 0.26661813879062884, 0.37921215309545914, 0.09480303827386478, 0.2844091148215943, 0.17028935654469052, 0.08514467827234526, 0.4257233913617263, 0.0822741249628432, 0.0822741249628432, 0.1645482499256864, 0.411370624814216, 0.0822741249628432, 0.10816785156001446, 0.43267140624005784, 0.19356626459705156, 0.48391566149262893, 0.1956580608108974, 0.48914515202724346, 0.18124294090004942, 0.09062147045002471, 0.4531073522501235, 0.16130036802615974, 0.4032509200653993, 0.550782343625779, 0.17533351445876136, 0.3506670289175227, 0.05844450481958712, 0.05844450481958712, 0.05844450481958712, 0.05844450481958712, 0.5312480340525444, 0.12974746780868915, 0.3892424034260674, 0.4399939126362546, 0.447484585699951, 0.09844978648305613, 0.49224893241528067, 0.09844978648305613, 0.09679123345519165, 0.09679123345519165, 0.3871649338207666, 0.425186409139004, 0.4644815717615835, 0.5400929756745827, 0.5889255149864534, 0.7172254074836381, 0.6909096864583556, 0.5680442963413088, 0.6695301993104968, 0.10841037548897155, 0.5420518774448577, 0.5852808507509883, 0.5572654890510509, 0.11749587710523363, 0.4699835084209345, 0.48264696797285905, 0.5317666698708335, 0.13096116920019893, 0.3928835076005968, 0.34255721357097657, 0.17127860678548829, 0.2283714757139844, 0.05564060229326099, 0.05564060229326099, 0.33384361375956595, 0.16692180687978297, 0.22256240917304396, 0.3456122640814355, 0.05760204401357259, 0.17280613204071776, 0.23040817605429037, 0.1573962895658339, 0.4721888686975017, 0.03877386039985508, 0.31019088319884064, 0.03877386039985508, 0.03877386039985508, 0.03877386039985508, 0.03877386039985508, 0.03877386039985508, 0.03877386039985508, 0.03877386039985508, 0.03877386039985508, 0.03877386039985508, 0.03877386039985508, 0.03877386039985508, 0.03877386039985508, 0.3245554482556594, 0.054092574709276565, 0.1622777241278297, 0.21637029883710626, 0.05353994914675955, 0.05353994914675955, 0.3212396948805573, 0.16061984744027866, 0.2141597965870382, 0.05535971109865316, 0.33215826659191894, 0.05535971109865316, 0.16607913329595947, 0.22143884439461264, 0.49138422362038264, 0.42005038600376216, 0.11304100292514802, 0.5652050146257401, 0.5999639665309511, 0.436934684727358, 0.07813974932796605, 0.23441924798389815, 0.39069874663983023, 0.07813974932796605, 0.47241970948025247, 0.5659271031710995, 0.26613343242673726, 0.4657335067467902, 0.06653335810668431, 0.25102523698072643, 0.06275630924518161, 0.43929416471627125, 0.08229738806257088, 0.5760817164379961, 0.07846622085477745, 0.07846622085477745, 0.07846622085477745, 0.5492635459834421, 0.1407813280901378, 0.0703906640450689, 0.4927346483154823, 0.5085176145255549, 0.5270150719955191, 0.25759574049455236, 0.4507925458654667, 0.0614593193536652, 0.2458372774146608, 0.4916745548293216, 0.13141860604041422, 0.13141860604041422, 0.4599651211414498, 0.06570930302020711, 0.1314516637511518, 0.0657258318755759, 0.0657258318755759, 0.5258066550046072, 0.5825216902105564, 0.5822175845362852, 0.5286286582112262, 0.47010052708125744, 0.5425010455368927, 0.5499150736420858, 0.14739787041295296, 0.4421936112388589, 0.5285796714296125, 0.5432133560654324, 0.5027860271513965, 0.10453213764986301, 0.522660688249315, 0.10166609827231483, 0.5083304913615742, 0.1037050714905895, 0.5185253574529475, 0.3712949597593402, 0.06188249329322336, 0.06188249329322336, 0.12376498658644672, 0.1856474798796701, 0.400585197403384, 0.15081940706392824, 0.45245822119178475, 0.5022585481316301, 0.539501695520086, 0.506431422531771, 0.5044492729831733, 0.28436940061181476, 0.11637649813904903, 0.11637649813904903, 0.3491294944171471, 0.44963844399372227, 0.11452344091506093, 0.34357032274518284, 0.2902445101117708, 0.09674817003725694, 0.2902445101117708, 0.11721235670157457, 0.23442471340314913, 0.05860617835078728, 0.05860617835078728, 0.05860617835078728, 0.05860617835078728, 0.23442471340314913, 0.5433294858864293, 0.07761849798377561, 0.46987797219928057, 0.4588825896077145, 0.5346828571415251, 0.10693657142830501, 0.053468285714152505, 0.053468285714152505, 0.46685364419985353, 0.5329844321602736, 0.09158968555241503, 0.5495381133144902, 0.5770192427874415, 0.09833317818566821, 0.491665890928341, 0.5653504898546899, 0.0920258607455078, 0.46012930372753896, 0.5870523448512734, 0.11546292032087498, 0.4618516812834999, 0.10837454745921812, 0.10837454745921812, 0.10837454745921812, 0.4334981898368725, 0.5922141379286885, 0.2957149408419563, 0.05914298816839126, 0.4140009171787388, 0.5501341545451214, 0.07741429851250517, 0.07741429851250517, 0.5419000895875362, 0.07285802767775364, 0.07285802767775364, 0.5100061937442755, 0.11989406291558517, 0.11989406291558517, 0.059947031457792586, 0.059947031457792586, 0.4196292202045481, 0.46249749773853666, 0.07447982166026053, 0.07447982166026053, 0.22343946498078157, 0.07447982166026053, 0.44687892996156314, 0.49759897644169737, 0.17555185099092058, 0.5266555529727618, 0.19106189595048928, 0.04776547398762232, 0.04776547398762232, 0.2865928439257339, 0.04776547398762232, 0.19106189595048928, 0.634245827879899, 0.13424375308521067, 0.5369750123408427, 0.12782611795867443, 0.38347835387602336, 0.48676027467976457, 0.4520065392217606, 0.33543788877523784, 0.04791969839646255, 0.0958393967929251, 0.0958393967929251, 0.0958393967929251, 0.04791969839646255, 0.12445098984135287, 0.12445098984135287, 0.24890197968270575, 0.19730337872125575, 0.12003319601909837, 0.12003319601909837, 0.24006639203819674, 0.1155704878999654, 0.2311409757999308, 0.11466570558006459, 0.11466570558006459, 0.3439971167401938, 0.12375267592084058, 0.12375267592084058, 0.3712580277625217, 0.11669707770575287, 0.11669707770575287, 0.3500912331172586, 0.08166397456099701, 0.08166397456099701, 0.08166397456099701, 0.24499192368299105, 0.08166397456099701, 0.16332794912199403, 0.08792985006874318, 0.08792985006874318, 0.08792985006874318, 0.2637895502062295, 0.17585970013748636, 0.06621184695506574, 0.06621184695506574, 0.06621184695506574, 0.06621184695506574, 0.06621184695506574, 0.06621184695506574, 0.1986355408651972, 0.06621184695506574, 0.06621184695506574, 0.13242369391013148, 0.6444943617685694, 0.09792849398479296, 0.5875709639087577, 0.6357723824005198, 0.6058146259259616, 0.4570583324895299, 0.1713968746835737, 0.057132291561191234, 0.057132291561191234, 0.45453009980225884, 0.22726504990112942, 0.04545300998022588, 0.04545300998022588, 0.04545300998022588, 0.5180839260091678, 0.6961120465852164, 0.09944457808360235, 0.049722289041801176, 0.6552873198721498, 0.10081343382648458, 0.05040671691324229, 0.42775443356206766, 0.057033924474942356, 0.057033924474942356, 0.057033924474942356, 0.08555088671241354, 0.028516962237471178, 0.057033924474942356, 0.057033924474942356, 0.028516962237471178, 0.028516962237471178, 0.12606187114831965, 0.37818561344495893, 0.13052933475415981, 0.3915880042624794, 0.4382355239748011, 0.40557916361505636, 0.3822556654520576, 0.1638238566223104, 0.2184318088297472, 0.05455313797554054, 0.38187196582878374, 0.16365941392662162, 0.21821255190216216, 0.3902377979977622, 0.16724477057046952, 0.22299302742729268, 0.05574825685682317, 0.07913175645530902, 0.15826351291061805, 0.4747905387318542, 0.5538632893977867, 0.1416132211512038, 0.1416132211512038, 0.0708066105756019, 0.3540330528780095, 0.10325634931515035, 0.4130253972606014, 0.09328047859064446, 0.09328047859064446, 0.09328047859064446, 0.2798414357719334, 0.1772535094471761, 0.6896175692904347, 0.7023878091369623, 0.7013897771219564, 0.6648845144062634, 0.06044404676420576, 0.06044404676420576, 0.6790139454239719, 0.05658449545199765, 0.7288320972056618, 0.47447947001310786, 0.4711994418420665, 0.5532339778315022, 0.4814819727840538, 0.12243733543137007, 0.12243733543137007, 0.3673120062941102, 0.12099248524721129, 0.36297745574163387, 0.13825621935005772, 0.41476865805017316, 0.5374844819549514, 0.7162156969819163, 0.059684641415159695, 0.7288967441307237, 0.7333135872374928, 0.061109465603124406, 0.061109465603124406, 0.08821586902850731, 0.08821586902850731, 0.6175110831995512, 0.08821586902850731, 0.4698735296350353, 0.11746838240875883, 0.058734191204379414, 0.058734191204379414, 0.11746838240875883, 0.05619082289844528, 0.4495265831875622, 0.11238164579689056, 0.05619082289844528, 0.11238164579689056, 0.47111472801530757, 0.11777868200382689, 0.058889341001913446, 0.11777868200382689, 0.05879615833377135, 0.4703692666701708, 0.1175923166675427, 0.05879615833377135, 0.1175923166675427, 0.03392417618470781, 0.16962088092353905, 0.3053175856623703, 0.10177252855412344, 0.06784835236941562, 0.03392417618470781, 0.03392417618470781, 0.06784835236941562, 0.03392417618470781, 0.06784835236941562, 0.4263898135967456, 0.1065974533991864, 0.0532987266995932, 0.0532987266995932, 0.0532987266995932, 0.1065974533991864, 0.05829128101820373, 0.05829128101820373, 0.11658256203640746, 0.05829128101820373, 0.4080389671274261, 0.05829128101820373, 0.05829128101820373, 0.15536548602300726, 0.3107309720460145, 0.12398789528485074, 0.12398789528485074, 0.24797579056970148, 0.14531552240023046, 0.2906310448004609, 0.5044852213628706, 0.10518096321674884, 0.5259048160837442, 0.5901391059084664, 0.5379249571853909, 0.10332958395835258, 0.10332958395835258, 0.5166479197917629, 0.5571257253888777, 0.4959774493200097, 0.09844265859547963, 0.49221329297739813, 0.09056011918577606, 0.09056011918577606, 0.09056011918577606, 0.4528005959288803, 0.33927681991216074, 0.5968996087386456, 0.6288280481424109, 0.6447379172055406, 0.07163754635617117, 0.07029632885062505, 0.6326669596556255, 0.07029632885062505, 0.6225697438453137, 0.06917441598281264, 0.38196894778444496, 0.10417334939575772, 0.34724449798585905, 0.0347244497985859, 0.38612574283025225, 0.10530702077188699, 0.31592106231566097, 0.03510234025729566, 0.3905853025128639, 0.10652326432169015, 0.31956979296507043, 0.03550775477389671, 0.07418255200417623, 0.5934604160334098, 0.06994420757516155, 0.629497868176454, 0.06994420757516155, 0.625647310078001, 0.06951636778644456, 0.06951636778644456, 0.6183600768965584, 0.06870667521072871, 0.05674306391126504, 0.3120868515119577, 0.08511459586689755, 0.05674306391126504, 0.2837153195563252, 0.05674306391126504, 0.02837153195563252, 0.027479384043244147, 0.08243815212973245, 0.3022732244756856, 0.08243815212973245, 0.054958768086488294, 0.2747938404324415, 0.054958768086488294, 0.027479384043244147, 0.32460108437496127, 0.02950918948863284, 0.08852756846589852, 0.05901837897726568, 0.2655827053976956, 0.05901837897726568, 0.02950918948863284, 0.3978368493275692, 0.4045749618567907, 0.5717044981830223, 0.07146306227287778, 0.07146306227287778, 0.07966059134852393, 0.5576241394396675, 0.07966059134852393, 0.07966059134852393, 0.07936745478660104, 0.6349396382928083, 0.6100766475386347, 0.08937629949204687, 0.17875259898409374, 0.26812889847614063, 0.11916839932272916, 0.02979209983068229, 0.02979209983068229, 0.11916839932272916, 0.02979209983068229, 0.09070707475622598, 0.18141414951245197, 0.27212122426867796, 0.1511784579270433, 0.03023569158540866, 0.12094276634163464, 0.03023569158540866, 0.12144095959108615, 0.21252167928440077, 0.2732421590799438, 0.12144095959108615, 0.03036023989777154, 0.12144095959108615, 0.03036023989777154, 0.10465192323729987, 0.4186076929491995, 0.4540654198505749, 0.46485839397412915, 0.08566293095975383, 0.5996405167182768, 0.6582575827520839, 0.6157445447121483, 0.07696806808901854, 0.11766414518293826, 0.17649621777440738, 0.2647443266616111, 0.11766414518293826, 0.05883207259146913, 0.11766414518293826, 0.029416036295734565, 0.02827347022063833, 0.11309388088255332, 0.16964082132382996, 0.25446123198574494, 0.11309388088255332, 0.02827347022063833, 0.02827347022063833, 0.02827347022063833, 0.11309388088255332, 0.02827347022063833, 0.119152973089697, 0.1787294596345455, 0.26809418945181823, 0.119152973089697, 0.02978824327242425, 0.119152973089697, 0.02978824327242425, 0.40484147337638104, 0.10473067798965933, 0.41892271195863734, 0.40619772220186035, 0.131666689345198, 0.395000068035594, 0.7583920166962373, 0.5890514266521781, 0.07363142833152227, 0.10318627258975294, 0.5159313629487647, 0.10301269461775851, 0.5150634730887925, 0.6371420555217941, 0.0910202936459706, 0.5741185896092657, 0.20411145272109918, 0.03401857545351653, 0.10205572636054959, 0.06803715090703306, 0.03401857545351653, 0.03401857545351653, 0.20411145272109918, 0.03401857545351653, 0.03401857545351653, 0.17009287726758265, 0.5342550936581081, 0.09194925206630097, 0.45974626033150484, 0.523890945684888, 0.7366077066118102, 0.6612197675963367, 0.6513326298478047, 0.06513326298478048, 0.06513326298478048, 0.09744845334617921, 0.09744845334617921, 0.38979381338471686, 0.09744845334617921, 0.5700693216785548, 0.4358463337934369, 0.17433853351737477, 0.09752523591811631, 0.4876261795905815, 0.5676994741099688, 0.11110108904676813, 0.055550544523384066, 0.4999549007104566, 0.055550544523384066, 0.055550544523384066, 0.055550544523384066, 0.0690246821945602, 0.345123410972801, 0.10353702329184031, 0.0345123410972801, 0.0690246821945602, 0.0345123410972801, 0.0345123410972801, 0.0690246821945602, 0.0345123410972801, 0.0345123410972801, 0.0345123410972801, 0.0345123410972801, 0.10370076824511797, 0.46665345710303086, 0.05185038412255898, 0.05185038412255898, 0.05185038412255898, 0.06413618904748995, 0.06413618904748995, 0.06413618904748995, 0.4489533233324297, 0.1282723780949799, 0.6467969581289804, 0.08084961976612255, 0.14637554344277606, 0.43912663032832816, 0.47623599947993117, 0.46139384189386323, 0.6095566022016786, 0.6085035139639096, 0.06085035139639096, 0.06085035139639096, 0.04050821217716988, 0.08101642435433976, 0.2025410608858494, 0.12152463653150963, 0.08101642435433976, 0.04050821217716988, 0.04050821217716988, 0.08101642435433976, 0.1620328487086795, 0.5214466988747133, 0.06518083735933916, 0.06518083735933916, 0.12210468550338754, 0.18315702825508132, 0.18315702825508132, 0.2442093710067751, 0.06105234275169377, 0.6535100614292897, 0.6559768960219908, 0.6335658481282603, 0.6071709263334204, 0.6419143951818517, 0.06884605917391343, 0.6196145325652208, 0.3783411565342961, 0.10318395178208076, 0.3439465059402692, 0.034394650594026924, 0.3687309982440686, 0.10056299952110961, 0.30168899856332887, 0.033520999840369874, 0.033520999840369874, 0.3817759002603139, 0.10412070007099469, 0.347069000236649, 0.034706900023664895, 0.5789257118261937, 0.274751039013931, 0.3249868274891906, 0.4178402067718165, 0.04642668964131295, 0.04642668964131295, 0.260378928946335, 0.3905683934195025, 0.0433964881577225, 0.0433964881577225, 0.0433964881577225, 0.2669648531377043, 0.4894355640857912, 0.044494142189617385, 0.08898828437923477, 0.12186475243152223, 0.12186475243152223, 0.162486336575363, 0.20310792071920372, 0.0812431682876815, 0.020310792071920374, 0.020310792071920374, 0.020310792071920374, 0.10155396035960186, 0.060932376215761114, 0.12287049429688106, 0.12287049429688106, 0.16382732572917474, 0.20478415716146844, 0.08191366286458737, 0.020478415716146843, 0.020478415716146843, 0.020478415716146843, 0.08191366286458737, 0.06143524714844053, 0.10649021000153061, 0.03549673666717687, 0.12423857833511905, 0.14198694666870748, 0.19523205166947277, 0.08874184166794218, 0.03549673666717687, 0.017748368333588435, 0.017748368333588435, 0.03549673666717687, 0.08874184166794218, 0.053245105000765305, 0.017748368333588435, 0.3909207662293334, 0.4164159511919914, 0.09744948521668363, 0.3897979408667345, 0.5656670191007074, 0.5258413042252933, 0.3459248902068424, 0.10806856024492585, 0.10806856024492585, 0.3242056807347775, 0.08283877273517117, 0.08283877273517117, 0.08283877273517117, 0.08283877273517117, 0.33135509094068466, 0.08283877273517117, 0.08666946297689647, 0.08666946297689647, 0.08666946297689647, 0.5200167778613788, 0.08801748663589432, 0.5281049198153659, 0.10550208138764584, 0.6330124883258751, 0.1437458315182122, 0.43123749455463667, 0.10312874972784622, 0.10312874972784622, 0.3093862491835387, 0.5926889515841448, 0.566182109953514, 0.12581824665633645, 0.06290912332816823, 0.5430808424995306, 0.10861616849990613, 0.09929396294423572, 0.4964698147211786, 0.5370487191901574, 0.1488179038643346, 0.0744089519321673, 0.3720447596608365, 0.0744089519321673, 0.6045808136404794, 0.0929869139502316, 0.5579214837013897, 0.6886974090277241, 0.0785400836368733, 0.549780585458113, 0.6052219996444452, 0.5865555879999945, 0.08379365542857065, 0.08379365542857065, 0.5262162747244133, 0.49222624477361704, 0.10322913920529878, 0.5161456960264938, 0.5527459396178075, 0.5111777523338442, 0.5575129501323599, 0.10916845274810039, 0.5458422637405019, 0.679749621374695, 0.07552773570829945, 0.6772624217377742, 0.07525138019308603, 0.14186835030004122, 0.49653922605014433, 0.10640126272503092, 0.14186835030004122, 0.14032327943452041, 0.45605065816219137, 0.10524245957589032, 0.14032327943452041, 0.12273477841458023, 0.39888802984738575, 0.03068369460364506, 0.09205108381093517, 0.2147858622255154, 0.03068369460364506, 0.03068369460364506, 0.15653132791369836, 0.23479699187054756, 0.31306265582739673, 0.1557770272017487, 0.07788851360087436, 0.23366554080262306, 0.3115540544034974, 0.07587437525459022, 0.15174875050918044, 0.22762312576377067, 0.30349750101836087, 0.690416759121709, 0.06276515992015536, 0.67487850479133, 0.06135259134466636, 0.6545988221089253, 0.05950898382808412, 0.7146186843234685, 0.09048651729462508, 0.5429191037677505, 0.5837226946675824, 0.5259308442655617, 0.43425814048675215, 0.04342581404867522, 0.34740651238940173, 0.4106895343796941, 0.04563217048663268, 0.3650573638930614, 0.4177723898301808, 0.3249340809790295, 0.07510337136069004, 0.07510337136069004, 0.4506202281641402, 0.07510337136069004, 0.675022417865124, 0.609502524617145, 0.16234232599880027, 0.16234232599880027, 0.32468465199760055, 0.2126023454208741, 0.04252046908417482, 0.12756140725252446, 0.04252046908417482, 0.04252046908417482, 0.12756140725252446, 0.04252046908417482, 0.04252046908417482, 0.17008187633669927, 0.07882821579923599, 0.15765643159847198, 0.23648464739770797, 0.31531286319694396, 0.13730187545025008, 0.4805565640758753, 0.10297640658768757, 0.13730187545025008, 0.13862650105665283, 0.4505361284341217, 0.10396987579248963, 0.06931325052832642, 0.13862650105665283, 0.1190312314578421, 0.41660931010244734, 0.08927342359338157, 0.20830465505122367, 0.029757807864460525, 0.029757807864460525, 0.12357813892399289, 0.12357813892399289, 0.37073441677197866, 0.4677456685983637, 0.04677456685983637, 0.374196534878691, 0.44837657207854864, 0.032026898005610614, 0.09608069401683185, 0.032026898005610614, 0.032026898005610614, 0.032026898005610614, 0.2562151840448849, 0.04344547813434325, 0.43445478134343246, 0.04344547813434325, 0.04344547813434325, 0.30411834694040274, 0.5894137965091005, 0.05358307240991823, 0.05358307240991823, 0.05141867098470515, 0.5656053808317567, 0.05141867098470515, 0.05141867098470515, 0.047177080011599704, 0.047177080011599704, 0.6133020401507961, 0.047177080011599704, 0.047177080011599704, 0.047177080011599704, 0.047177080011599704, 0.047177080011599704, 0.35115028134432646, 0.15049297771899706, 0.1003286518126647, 0.2006573036253294, 0.31617883015958426, 0.04516840430851204, 0.04516840430851204, 0.1355052129255361, 0.09033680861702408, 0.18067361723404815, 0.339379531744535, 0.14544837074765787, 0.14544837074765787, 0.19393116099687716, 0.12290787696398384, 0.24581575392796767, 0.12021468619244528, 0.3606440585773359, 0.13146735863853976, 0.13146735863853976, 0.39440207591561927, 0.4563739224901803, 0.5486825423495887, 0.6355795518265313, 0.08742828536231709, 0.6119979975362195, 0.0649266657926725, 0.4544866605487075, 0.25970666317069, 0.05379180722587531, 0.16137542167762592, 0.16137542167762592, 0.10758361445175062, 0.16137542167762592, 0.10758361445175062, 0.048390417991622255, 0.3387329259413558, 0.14517125397486677, 0.09678083598324451, 0.19356167196648902, 0.3255407100618808, 0.04650581572312582, 0.13951744716937747, 0.13951744716937747, 0.1860232628925033, 0.3260138652279274, 0.13972022795482603, 0.0931468186365507, 0.1862936372731014, 0.1319068013974043, 0.2638136027948086, 0.2729656636291153, 0.28815316844597383, 0.07030871517668522, 0.5624697214134817, 0.6053895352013644, 0.07567369190017055, 0.07470094806091745, 0.07470094806091745, 0.07470094806091745, 0.5976075844873396, 0.6036998027511294, 0.0670777558612366, 0.06911760663073897, 0.6220584596766507, 0.0570871577377737, 0.0570871577377737, 0.5708715773777371, 0.0570871577377737, 0.04988824853907654, 0.548770733929842, 0.19955299415630617, 0.5572536728481658, 0.2532971240218936, 0.05384321509125322, 0.5922753660037854, 0.21537286036501288, 0.5481406466760701, 0.4875008976126832, 0.47501181143369686, 0.11875295285842422, 0.07880907652688746, 0.07880907652688746, 0.07880907652688746, 0.5516635356882121, 0.08186170849121123, 0.5730319594384786, 0.08186170849121123, 0.5728626482828146, 0.09095714967449371, 0.22739287418623427, 0.13643572451174057, 0.22739287418623427, 0.18191429934898742, 0.022739287418623428, 0.022739287418623428, 0.022739287418623428, 0.09121118178023287, 0.022802795445058217, 0.22802795445058216, 0.1368167726703493, 0.22802795445058216, 0.022802795445058217, 0.18242236356046573, 0.022802795445058217, 0.022802795445058217, 0.10746233465954001, 0.21492466931908003, 0.128954801591448, 0.21492466931908003, 0.171939735455264, 0.021492466931908, 0.021492466931908, 0.6203758029855648, 0.1295293707392993, 0.5181174829571972, 0.06476468536964965, 0.3676991253939202, 0.3676991253939202, 0.10831722014373814, 0.21663444028747628, 0.12998066417248577, 0.21663444028747628, 0.173307552229981, 0.021663444028747626, 0.021663444028747626, 0.021663444028747626, 0.10918992495256075, 0.2183798499051215, 0.1310279099430729, 0.2183798499051215, 0.1747038799240972, 0.02183798499051215, 0.02183798499051215, 0.12843421762162818, 0.23546273230631834, 0.12843421762162818, 0.21405702936938031, 0.17124562349550423, 0.02140570293693803, 0.02140570293693803, 0.5949318152850124, 0.6027767490428684, 0.06744980353642041, 0.20234941060926123, 0.4721486247549429, 0.6108151657862688, 0.0872593093980384, 0.08382690608542949, 0.5867883425980064, 0.05858409197123582, 0.11716818394247164, 0.46867273576988655, 0.05858409197123582, 0.6488087207227285, 0.06792208858459627, 0.3396104429229813, 0.06792208858459627, 0.06792208858459627, 0.06792208858459627, 0.06792208858459627, 0.07306340859621244, 0.5845072687696995, 0.07306340859621244, 0.12917528852977547, 0.6458764426488774, 0.6825781664305604, 0.08532227080382004, 0.64431927825771, 0.6033715956598926, 0.07542144945748658, 0.15084289891497316, 0.473948498577031, 0.2033592893196454, 0.3050389339794681, 0.14063264257299504, 0.42189792771898516, 0.3566653979271291, 0.26749904844534683, 0.5477570114371105, 0.6573177758254507, 0.6718329229459579, 0.06718329229459578, 0.506130209543297, 0.32442023339225184, 0.09769377537768087, 0.09769377537768087, 0.48846887688840435, 0.13794170915814938, 0.27588341831629876, 0.3448542728953734, 0.06897085457907469, 0.1012248581203902, 0.506124290601951, 0.6629633294824171, 0.6421273670654626, 0.5719002764776798, 0.31470357073120875, 0.12511683834764709, 0.3753505150429413, 0.4263222629850963, 0.4177939801026641, 0.2514507445810373, 0.3771761168715559, 0.4518858821271666, 0.49278974485095645, 0.12102552708354512, 0.6051276354177256, 0.44559734282811797, 0.0891194685656236, 0.6110713928208951, 0.0611071392820895, 0.13354741904580433, 0.4340291118988641, 0.10016056428435326, 0.2003211285687065, 0.12749759551108936, 0.4462415842888127, 0.09562319663331702, 0.19124639326663403, 0.03187439887777234, 0.11013720312509462, 0.3854802109378312, 0.027534300781273655, 0.08260290234382096, 0.027534300781273655, 0.2478087070314629, 0.027534300781273655, 0.027534300781273655, 0.306368371063424, 0.076592092765856, 0.38296046382928006, 0.7040834452316068, 0.11760579321853913, 0.3528173796556174, 0.3701197863157544, 0.44743283965205366, 0.5360586313748539, 0.5515573945781517, 0.14480957295270908, 0.5068335053344818, 0.14286826935105432, 0.28573653870210863, 0.15942974493694514, 0.3188594898738903, 0.13451116023830703, 0.26902232047661406, 0.42178475198503745, 0.10753409394973582, 0.21506818789947163, 0.197145838907849, 0.17922348991622636, 0.1433787919329811, 0.017922348991622636, 0.03584469798324527, 0.03584469798324527, 0.10314635465233543, 0.01719105910872257, 0.20629270930467086, 0.1891016501959483, 0.1719105910872257, 0.13752847286978057, 0.03438211821744514, 0.03438211821744514, 0.051573177326167716, 0.11610995669358226, 0.014513744586697783, 0.1741649350403734, 0.014513744586697783, 0.014513744586697783, 0.20319242421376896, 0.14513744586697783, 0.11610995669358226, 0.014513744586697783, 0.014513744586697783, 0.029027489173395565, 0.014513744586697783, 0.029027489173395565, 0.029027489173395565, 0.014513744586697783, 0.6065663561953937, 0.5906224646963331, 0.08437463781376187, 0.10886098477673747, 0.4354439391069499, 0.05443049238836874, 0.05443049238836874, 0.16329147716510622, 0.6181374490541152, 0.5947183143668056, 0.5913310247967362, 0.138836145867687, 0.138836145867687, 0.416508437603061, 0.3265466105157935, 0.0466495157879705, 0.1399485473639115, 0.093299031575941, 0.23324757893985246, 0.04582491106881711, 0.3207743774817198, 0.04582491106881711, 0.13747473320645134, 0.09164982213763422, 0.18329964427526843, 0.3132515676462171, 0.13425067184837874, 0.13425067184837874, 0.22375111974729792, 0.410204608101052, 0.13090463614185943, 0.39271390842557824, 0.10893272200468772, 0.10893272200468772, 0.32679816601406314, 0.3501578127070542, 0.4302424354525631, 0.5570927418443747, 0.19094944305843753, 0.06364981435281251, 0.4455487004696876, 0.06364981435281251, 0.44651186560905143, 0.31893704686360813, 0.1410184633050163, 0.1410184633050163, 0.2820369266100326, 0.06584490321819363, 0.06584490321819363, 0.13168980643638725, 0.06584490321819363, 0.1975347096545809, 0.2633796128727745, 0.1524101744987415, 0.22861526174811225, 0.304820348997483, 0.11762041515835382, 0.11762041515835382, 0.3528612454750615, 0.617440757573531, 0.6288714877059625, 0.08983878395799465, 0.6131014132012452, 0.20096446821800118, 0.30144670232700177, 0.2005804040863065, 0.10029020204315325, 0.30087060612945976, 0.20834803196368615, 0.10417401598184307, 0.31252204794552924, 0.11573673770169077, 0.3472102131050723, 0.09498669358508982, 0.28496008075526946, 0.3870520998181343, 0.5689310115036416, 0.09482183525060693, 0.1422327528759104, 0.047410917625303466, 0.047410917625303466, 0.5282604633918276, 0.0880434105653046, 0.1320651158479569, 0.0440217052826523, 0.0440217052826523, 0.042710249311755745, 0.512522991741069, 0.08542049862351149, 0.12813074793526724, 0.042710249311755745, 0.042710249311755745, 0.12775373974236234, 0.5110149589694494, 0.5647756082418701, 0.5387804456102403, 0.48941898646195225, 0.5162809929373423, 0.032267562058583894, 0.032267562058583894, 0.22587293441008727, 0.5062208532239233, 0.031638803326495206, 0.031638803326495206, 0.031638803326495206, 0.031638803326495206, 0.25311042661196165, 0.5388190260497163, 0.03367618912810727, 0.03367618912810727, 0.2357333238967509, 0.5462820124983897, 0.10925640249967793, 0.5601540439071807, 0.5399303872991795, 0.16675306538659707, 0.4168826634664927, 0.19970984307411158, 0.09985492153705579, 0.4992746076852789, 0.18693616415973083, 0.46734041039932706, 0.18573277353556814, 0.46433193383892035, 0.17444170769934095, 0.08722085384967047, 0.4361042692483523, 0.40899588673350085, 0.28810236034235603, 0.28423165768665454, 0.4336948673244905, 0.1518844941634945, 0.303768988326989, 0.4149617497155699, 0.11575639180159739, 0.5787819590079869, 0.09975372150450557, 0.4987686075225279, 0.09016277123275629, 0.5409766273965377, 0.3153722401341413, 0.06307444802682825, 0.37844668816096955, 0.07623260025618046, 0.07623260025618046, 0.4573956015370828, 0.45877642722406053, 0.5724309423907304, 0.15927233577529376, 0.3185446715505875, 0.34344462784982444, 0.4970449183065299, 0.14225114164064417, 0.42675342492193247, 0.44131190823769534, 0.43508216703608565, 0.2532524964448656, 0.1266262482224328, 0.2532524964448656, 0.5308420067361795, 0.5611865770889181, 0.1328339969279309, 0.2656679938558618, 0.5573414125944112, 0.581779054876836, 0.096963175812806, 0.17812680042929183, 0.4453170010732296, 0.308769976872373, 0.5514830976475864, 0.4828155221894394, 0.559292837824518, 0.1508705888493209, 0.3017411776986418, 0.5899933644579924, 0.08428476635114177, 0.07796972783499906, 0.07796972783499906, 0.5457880948449934, 0.08303402724231902, 0.08303402724231902, 0.5812381906962332, 0.1160999661209511, 0.17414994918142662, 0.4063498814233288, 0.05804998306047555, 0.11557762008834992, 0.1733664301325249, 0.40452167030922476, 0.10903310753278372, 0.16354966129917559, 0.38161587636474303, 0.05451655376639186, 0.334169054242419, 0.2506267906818142, 0.08354226356060475, 0.3733762284164307, 0.1252605703841436, 0.37578171115243075, 0.22419096500729777, 0.11209548250364888, 0.3362864475109466, 0.09059488330166633, 0.4529744165083317, 0.09059488330166633, 0.5279308948256733, 0.12488577729904142, 0.18732866594856212, 0.37465733189712425, 0.06244288864952071, 0.06447208320156142, 0.12894416640312284, 0.19341624960468426, 0.3868324992093685, 0.463202417813857, 0.36716608894107305, 0.37969135724527986, 0.37256238028448435, 0.12095589481583122, 0.3628676844474937, 0.3716722792166936, 0.12389075973889786, 0.1498809719729715, 0.44964291591891453, 0.41410575466600635, 0.3922236136719214, 0.12259938527720567, 0.367798155831617, 0.10907039287392835, 0.10907039287392835, 0.32721117862178506, 0.12737372996034046, 0.38212118988102145, 0.14832500982221306, 0.07416250491110653, 0.14832500982221306, 0.2224875147333196, 0.44580543692599467, 0.3980810199663067, 0.36738317103355256, 0.11721096036037296, 0.3516328810811189, 0.454720495254927, 0.5706140405888646, 0.5544698095429798, 0.5208549381577481, 0.05653479739514236, 0.05653479739514236, 0.22613918958056944, 0.05653479739514236, 0.33920878437085417, 0.624870186910081, 0.6488109328677035, 0.0743190013138188, 0.0743190013138188, 0.0743190013138188, 0.5945520105105504, 0.07475187888203116, 0.07475187888203116, 0.5980150310562493, 0.0705590208399159, 0.0705590208399159, 0.5644721667193272, 0.6504278784165983, 0.6072143374309492, 0.08136221295321876, 0.6508977036257501, 0.6212939985989347, 0.6662048063603312, 0.3948066533386766, 0.4192783983911032, 0.3619421851884495, 0.6397155673408579, 0.6196162505105384, 0.637389284375801, 0.07665458088627215, 0.07665458088627215, 0.6132366470901772, 0.07665458088627215, 0.6349877638157411, 0.6741118333834122, 0.12085769153626422, 0.3625730746087927, 0.4649700155771082, 0.4430133565880413, 0.4349799068056406, 0.25429739672894563, 0.3814460950934184, 0.5550952453180561, 0.13174207346513692, 0.5269682938605477, 0.12944076227495785, 0.5177630490998314, 0.513731207611617, 0.24866516145043163, 0.3729977421756474, 0.5753258041970567, 0.5383222625164417, 0.5310384418489866, 0.08192946120325312, 0.16385892240650624, 0.4915767672195187, 0.16761786029026585, 0.5028535808707976, 0.07067431364688416, 0.07067431364688416, 0.07067431364688416, 0.07067431364688416, 0.4947201955281891, 0.6026283930657456, 0.08546280211242804, 0.5127768126745683, 0.5178668212543492, 0.0819849804689457, 0.0819849804689457, 0.49190988281367426, 0.11033933924902926, 0.05516966962451463, 0.11033933924902926, 0.05516966962451463, 0.33101801774708783, 0.11033933924902926, 0.14076619890896974, 0.07038309945448487, 0.42229859672690917, 0.5568701258553089, 0.07886574180714821, 0.07886574180714821, 0.07886574180714821, 0.47319445084288925, 0.551688427062994, 0.07100113600131788, 0.07100113600131788, 0.14200227200263577, 0.4260068160079073, 0.1487290038167743, 0.07436450190838716, 0.07436450190838716, 0.44618701145032297, 0.21821040479564224, 0.07273680159854741, 0.07273680159854741, 0.4364208095912845], \"Term\": [\"#\\u2026nd :: s\\u2026nd\", \"able :: b\\u0259\\u026b#\", \"able :: b\\u0259\\u026b#\", \"able :: b\\u0259\\u026b#\", \"able :: b\\u0259\\u2026#\", \"able :: b\\u0259\\u2026#\", \"able :: b\\u2026\\u026b#\", \"able :: \\u0259b\\u0259\\u026b\", \"able :: \\u0259b\\u0259\\u026b\", \"able :: \\u0259b\\u2026\\u026b\", \"able :: \\u0259b\\u2026\\u026b\", \"able :: \\u0259\\u2026\\u0259\\u026b\", \"able :: \\u0259\\u2026\\u0259\\u026b\", \"able :: \\u0259\\u2026\\u0259\\u026b\", \"able :: \\u0259\\u2026\\u0259\\u026b\", \"ab\\u2026e :: b\\u0259\\u026b#\", \"ab\\u2026e :: b\\u0259\\u2026#\", \"ab\\u2026e :: b\\u0259\\u2026#\", \"ab\\u2026e :: b\\u0259\\u2026#\", \"ab\\u2026e :: b\\u0259\\u2026#\", \"ab\\u2026e :: b\\u2026\\u026b#\", \"ab\\u2026e :: \\u0259b\\u0259\\u026b\", \"ab\\u2026e :: \\u0259b\\u2026\\u026b\", \"ab\\u2026e :: \\u0259b\\u2026\\u026b\", \"ab\\u2026e :: \\u0259\\u2026\\u0259\\u026b\", \"ach# :: b\\u0251k#\", \"ach# :: b\\u0251\\u2026#\", \"ach# :: b\\u2026k#\", \"ach# :: b\\u2026k#\", \"ach# :: nb\\u2026k\", \"ac\\u2026# :: b\\u0251k#\", \"ac\\u2026# :: b\\u0251k#\", \"ac\\u2026# :: b\\u0251\\u2026#\", \"ac\\u2026# :: b\\u0251\\u2026#\", \"ac\\u2026# :: b\\u2026k#\", \"ac\\u2026# :: b\\u2026k#\", \"ac\\u2026# :: b\\u2026k#\", \"ac\\u2026i :: t\\u0283\\u2026#\", \"ad\\u2026n :: d\\u0259n#\", \"ad\\u2026n :: d\\u0259n#\", \"ad\\u2026n :: d\\u0259n#\", \"ad\\u2026n :: d\\u0259\\u2026#\", \"ad\\u2026n :: d\\u0259\\u2026#\", \"ad\\u2026n :: \\u026ad\\u0259n\", \"ad\\u2026n :: \\u026ad\\u0259n\", \"al\\u2026e :: \\u00e6\\u026bi#\", \"al\\u2026e :: \\u00e6\\u026bi#\", \"ambl :: mb\\u0259\\u026b\", \"ambl :: mb\\u0259\\u026b\", \"ambl :: mb\\u0259\\u026b\", \"ambl :: mb\\u2026\\u026b\", \"ambl :: m\\u2026\\u0259\\u026b\", \"ambl :: \\u00e6mb\\u0259\", \"ambl :: \\u00e6m\\u2026\\u0259\", \"ambl :: \\u00e6\\u2026b\\u0259\", \"amp# :: k\\u00e6mp\", \"amp# :: k\\u00e6\\u2026p\", \"amp# :: k\\u2026mp\", \"amp# :: \\u00e6mp#\", \"amp# :: \\u00e6m\\u2026#\", \"amp# :: \\u00e6\\u2026p#\", \"am\\u2026# :: k\\u00e6mp\", \"am\\u2026# :: k\\u00e6\\u2026p\", \"am\\u2026# :: \\u00e6m\\u2026#\", \"am\\u2026# :: \\u00e6m\\u2026#\", \"am\\u2026# :: \\u00e6m\\u2026#\", \"am\\u2026# :: \\u00e6m\\u2026#\", \"am\\u2026# :: \\u00e6\\u2026p#\", \"am\\u2026l :: mb\\u0259\\u026b\", \"am\\u2026l :: mb\\u2026\\u026b\", \"am\\u2026l :: m\\u2026\\u0259\\u026b\", \"am\\u2026l :: \\u00e6mb\\u0259\", \"am\\u2026l :: \\u00e6m\\u2026\\u0259\", \"am\\u2026l :: \\u00e6m\\u2026\\u0259\", \"am\\u2026l :: \\u00e6\\u2026b\\u0259\", \"and# :: \\u00e6nd#\", \"and# :: \\u00e6nd#\", \"and# :: \\u00e6n\\u2026#\", \"and# :: \\u00e6\\u2026d#\", \"and# :: \\u0259nd#\", \"and# :: \\u0259nd#\", \"and# :: \\u0259nd#\", \"and# :: \\u0259n\\u2026#\", \"and# :: \\u0259n\\u2026#\", \"and# :: \\u0259\\u2026d#\", \"and# :: \\u0259\\u2026d#\", \"and# :: \\u0259\\u2026d#\", \"and# :: \\u026b\\u00e6nd\", \"and# :: \\u026b\\u00e6nd\", \"and# :: \\u026b\\u00e6\\u2026d\", \"and# :: \\u026b\\u0259nd\", \"and# :: \\u026b\\u0259nd\", \"and# :: \\u026b\\u0259\\u2026d\", \"and# :: \\u026b\\u0259\\u2026d\", \"and# :: \\u026b\\u2026nd\", \"and# :: \\u026b\\u2026nd\", \"and# :: \\u026b\\u2026nd\", \"ania :: e\\u026anj\", \"ania :: e\\u026a\\u2026j\", \"ania :: e\\u2026nj\", \"ania :: e\\u2026nj\", \"ania :: e\\u2026nj\", \"ania :: \\u026anj\\u0259\", \"ania :: \\u026an\\u2026\\u0259\", \"ania :: \\u026an\\u2026\\u0259\", \"ania :: \\u026a\\u2026j\\u0259\", \"ano# :: no\\u028a#\", \"ano# :: no\\u028a#\", \"ano# :: no\\u2026#\", \"ano# :: no\\u2026#\", \"ano# :: n\\u2026\\u028a#\", \"ano# :: n\\u2026\\u028a#\", \"ano# :: n\\u2026\\u028a#\", \"ano# :: n\\u2026\\u028a#\", \"ano# :: n\\u2026\\u028a#\", \"ano# :: \\u0251no\\u028a\", \"ano# :: \\u0251no\\u028a\", \"ano# :: \\u0251no\\u028a\", \"ano# :: \\u0251n\\u2026\\u028a\", \"ano# :: \\u0251n\\u2026\\u028a\", \"ano# :: \\u0251n\\u2026\\u028a\", \"ano# :: \\u0251\\u2026o\\u028a\", \"ano# :: \\u0251\\u2026o\\u028a\", \"an\\u2026# :: no\\u028a#\", \"an\\u2026# :: no\\u028a#\", \"an\\u2026# :: no\\u2026#\", \"an\\u2026# :: no\\u2026#\", \"an\\u2026# :: no\\u2026#\", \"an\\u2026# :: no\\u2026#\", \"an\\u2026# :: n\\u2026\\u028a#\", \"an\\u2026# :: n\\u2026\\u028a#\", \"an\\u2026# :: \\u00e6\\u2026d#\", \"an\\u2026# :: \\u0251no\\u028a\", \"an\\u2026# :: \\u0251no\\u028a\", \"an\\u2026# :: \\u0251no\\u028a\", \"an\\u2026# :: \\u0251n\\u2026\\u028a\", \"an\\u2026# :: \\u0251n\\u2026\\u028a\", \"an\\u2026# :: \\u0251\\u2026o\\u028a\", \"an\\u2026# :: \\u0251\\u2026o\\u028a\", \"an\\u2026# :: \\u0251\\u2026o\\u028a\", \"an\\u2026# :: \\u0251\\u2026o\\u028a\", \"an\\u2026# :: \\u0259nd#\", \"an\\u2026# :: \\u0259nd#\", \"an\\u2026# :: \\u0259n\\u2026#\", \"an\\u2026# :: \\u0259n\\u2026#\", \"an\\u2026# :: \\u0259n\\u2026#\", \"an\\u2026# :: \\u0259n\\u2026#\", \"an\\u2026# :: \\u0259n\\u2026#\", \"an\\u2026# :: \\u0259n\\u2026#\", \"an\\u2026# :: \\u0259n\\u2026#\", \"an\\u2026# :: \\u0259n\\u2026#\", \"an\\u2026# :: \\u0259n\\u2026#\", \"an\\u2026# :: \\u0259n\\u2026#\", \"an\\u2026# :: \\u0259n\\u2026#\", \"an\\u2026# :: \\u0259n\\u2026#\", \"an\\u2026# :: \\u0259\\u2026d#\", \"an\\u2026# :: \\u0259\\u2026d#\", \"an\\u2026# :: \\u026b\\u00e6\\u2026d\", \"an\\u2026# :: \\u026b\\u00e6\\u2026d\", \"an\\u2026# :: \\u026b\\u0259nd\", \"an\\u2026# :: \\u026b\\u0259\\u2026d\", \"an\\u2026# :: \\u026b\\u0259\\u2026d\", \"an\\u2026# :: \\u026b\\u0259\\u2026d\", \"an\\u2026# :: \\u026b\\u2026nd\", \"an\\u2026# :: \\u026b\\u2026nd\", \"an\\u2026# :: \\u026b\\u2026nd\", \"an\\u2026a :: e\\u026anj\", \"an\\u2026a :: e\\u026anj\", \"an\\u2026a :: e\\u026anj\", \"an\\u2026a :: e\\u026a\\u2026j\", \"an\\u2026a :: e\\u026a\\u2026j\", \"an\\u2026a :: e\\u2026nj\", \"an\\u2026a :: nj\\u2026#\", \"an\\u2026a :: nj\\u2026#\", \"an\\u2026a :: n\\u2026\\u0259#\", \"an\\u2026a :: n\\u2026\\u0259#\", \"an\\u2026a :: n\\u2026\\u0259#\", \"an\\u2026a :: n\\u2026\\u0259#\", \"an\\u2026a :: n\\u2026\\u0259#\", \"an\\u2026a :: n\\u2026\\u0259#\", \"an\\u2026a :: \\u026anj\\u0259\", \"an\\u2026a :: \\u026an\\u2026\\u0259\", \"an\\u2026a :: \\u026an\\u2026\\u0259\", \"an\\u2026a :: \\u026an\\u2026\\u0259\", \"an\\u2026a :: \\u026a\\u2026j\\u0259\", \"ar\\u2026# :: \\u0251\\u0279\\u2026#\", \"ar\\u2026# :: \\u0251\\u0279\\u2026#\", \"ar\\u2026# :: \\u0251\\u0279\\u2026#\", \"ar\\u2026# :: \\u0251\\u0279\\u2026#\", \"ar\\u2026# :: \\u0251\\u0279\\u2026#\", \"ar\\u2026# :: \\u0251\\u0279\\u2026#\", \"ar\\u2026# :: \\u0251\\u0279\\u2026#\", \"ar\\u2026# :: \\u0251\\u0279\\u2026#\", \"ar\\u2026# :: \\u0251\\u0279\\u2026#\", \"ar\\u2026# :: \\u0251\\u0279\\u2026#\", \"ar\\u2026# :: \\u0251\\u0279\\u2026#\", \"ar\\u2026# :: \\u0251\\u0279\\u2026#\", \"ar\\u2026# :: \\u0251\\u0279\\u2026#\", \"ar\\u2026# :: \\u0251\\u0279\\u2026#\", \"ar\\u2026# :: \\u0251\\u0279\\u2026#\", \"ar\\u2026# :: \\u0251\\u0279\\u2026#\", \"ates :: e\\u026ats\", \"ates :: e\\u026a\\u2026s\", \"ates :: e\\u026a\\u2026s\", \"ates :: e\\u2026ts\", \"ates :: e\\u2026ts\", \"ates :: \\u026ats#\", \"ates :: \\u026at\\u2026#\", \"ates :: \\u026a\\u2026s#\", \"atio :: \\u026a\\u0283\\u2026n\", \"atio :: \\u0283\\u2026n#\", \"ato# :: \\u0251to\\u028a\", \"ato# :: \\u0251\\u2026o\\u028a\", \"ato# :: \\u0251\\u2026o\\u028a\", \"at\\u2026# :: t\\u2026\\u028a#\", \"at\\u2026# :: t\\u2026\\u028a#\", \"at\\u2026# :: \\u0251t\\u2026\\u028a\", \"at\\u2026# :: \\u0251\\u2026o\\u028a\", \"at\\u2026# :: \\u0251\\u2026o\\u028a\", \"at\\u2026s :: e\\u026ats\", \"at\\u2026s :: e\\u026a\\u2026s\", \"at\\u2026s :: e\\u026a\\u2026s\", \"at\\u2026s :: e\\u2026ts\", \"at\\u2026s :: \\u026ats#\", \"at\\u2026s :: \\u026ats#\", \"at\\u2026s :: \\u026at\\u2026#\", \"at\\u2026s :: \\u026at\\u2026#\", \"at\\u2026s :: \\u026a\\u2026s#\", \"at\\u2026s :: \\u026a\\u2026s#\", \"at\\u2026s :: \\u026a\\u2026s#\", \"at\\u2026s :: \\u026a\\u2026s#\", \"aum# :: a\\u028a\\u2026#\", \"aum# :: a\\u2026m#\", \"aum# :: a\\u2026m#\", \"aum# :: ba\\u028am\", \"aum# :: ba\\u028am\", \"aum# :: ba\\u2026m\", \"au\\u2026# :: a\\u028a\\u2026#\", \"au\\u2026# :: a\\u028a\\u2026#\", \"au\\u2026# :: a\\u028a\\u2026#\", \"au\\u2026# :: a\\u028a\\u2026#\", \"au\\u2026# :: a\\u2026m#\", \"au\\u2026# :: a\\u2026m#\", \"au\\u2026# :: ba\\u028am\", \"au\\u2026# :: ba\\u028am\", \"au\\u2026# :: ba\\u2026m\", \"au\\u2026# :: b\\u2026\\u028am\", \"ays# :: e\\u026a\\u2026#\", \"ays# :: e\\u026a\\u2026#\", \"ays# :: e\\u2026z#\", \"ays# :: we\\u2026z\", \"a\\u2026an :: no\\u2026#\", \"a\\u2026an :: no\\u2026#\", \"a\\u2026an :: n\\u2026\\u028a#\", \"a\\u2026bl :: mb\\u2026\\u026b\", \"a\\u2026bl :: mb\\u2026\\u026b\", \"a\\u2026bl :: m\\u2026\\u0259\\u026b\", \"a\\u2026bl :: \\u00e6mb\\u0259\", \"a\\u2026bl :: \\u00e6mb\\u0259\", \"a\\u2026bl :: \\u00e6m\\u2026\\u0259\", \"a\\u2026bl :: \\u00e6\\u2026b\\u0259\", \"a\\u2026bl :: \\u00e6\\u2026b\\u0259\", \"a\\u2026d# :: \\u0259nd#\", \"a\\u2026d# :: \\u0259nd#\", \"a\\u2026d# :: \\u0259n\\u2026#\", \"a\\u2026d# :: \\u0259n\\u2026#\", \"a\\u2026d# :: \\u0259n\\u2026#\", \"a\\u2026d# :: \\u0259\\u2026d#\", \"a\\u2026d# :: \\u0259\\u2026d#\", \"a\\u2026d# :: \\u0259\\u2026d#\", \"a\\u2026d# :: \\u0259\\u2026d#\", \"a\\u2026d# :: \\u026b\\u00e6nd\", \"a\\u2026d# :: \\u026b\\u00e6nd\", \"a\\u2026d# :: \\u026b\\u0259nd\", \"a\\u2026d# :: \\u026b\\u0259nd\", \"a\\u2026d# :: \\u026b\\u0259\\u2026d\", \"a\\u2026d# :: \\u026b\\u2026nd\", \"a\\u2026d# :: \\u026b\\u2026nd\", \"a\\u2026d# :: \\u026b\\u2026nd\", \"a\\u2026es :: e\\u026ats\", \"a\\u2026es :: e\\u026ats\", \"a\\u2026es :: e\\u026a\\u2026s\", \"a\\u2026es :: e\\u2026s#\", \"a\\u2026es :: e\\u2026ts\", \"a\\u2026es :: e\\u2026ts\", \"a\\u2026es :: \\u026ats#\", \"a\\u2026es :: \\u026at\\u2026#\", \"a\\u2026es :: \\u026a\\u2026s#\", \"a\\u2026es :: \\u026a\\u2026s#\", \"a\\u2026e\\u2026# :: \\u026a\\u2026s#\", \"a\\u2026h# :: b\\u0251k#\", \"a\\u2026h# :: b\\u0251k#\", \"a\\u2026h# :: b\\u0251\\u2026#\", \"a\\u2026h# :: b\\u2026k#\", \"a\\u2026h# :: b\\u2026k#\", \"a\\u2026ia :: e\\u026anj\", \"a\\u2026ia :: e\\u026a\\u2026j\", \"a\\u2026ia :: e\\u026a\\u2026j\", \"a\\u2026ia :: e\\u2026nj\", \"a\\u2026ia :: \\u026anj\\u0259\", \"a\\u2026ia :: \\u026anj\\u0259\", \"a\\u2026ia :: \\u026an\\u2026\\u0259\", \"a\\u2026ia :: \\u026an\\u2026\\u0259\", \"a\\u2026ia :: \\u026a\\u2026j\\u0259\", \"a\\u2026ia :: \\u026a\\u2026j\\u0259\", \"a\\u2026ic :: \\u026ak\\u2026\\u028a\", \"a\\u2026io :: e\\u026a\\u0283\\u0259\", \"a\\u2026io :: e\\u2026\\u0283\\u0259\", \"a\\u2026io :: \\u026a\\u0283\\u2026n\", \"a\\u2026le :: b\\u0259\\u026b#\", \"a\\u2026le :: b\\u0259\\u026b#\", \"a\\u2026le :: b\\u0259\\u026b#\", \"a\\u2026le :: b\\u0259\\u2026#\", \"a\\u2026le :: b\\u0259\\u2026#\", \"a\\u2026le :: b\\u0259\\u2026#\", \"a\\u2026le :: b\\u2026\\u026b#\", \"a\\u2026le :: b\\u2026\\u026b#\", \"a\\u2026le :: b\\u2026\\u026b#\", \"a\\u2026le :: \\u0259b\\u0259\\u026b\", \"a\\u2026le :: \\u0259b\\u2026\\u026b\", \"a\\u2026le :: \\u0259b\\u2026\\u026b\", \"a\\u2026le :: \\u0259b\\u2026\\u026b\", \"a\\u2026le :: \\u0259b\\u2026\\u026b\", \"a\\u2026le :: \\u0259\\u2026\\u0259\\u026b\", \"a\\u2026m# :: a\\u028a\\u2026#\", \"a\\u2026m# :: a\\u2026m#\", \"a\\u2026m# :: a\\u2026m#\", \"a\\u2026m# :: ba\\u2026m\", \"a\\u2026m# :: ba\\u2026m\", \"a\\u2026m# :: b\\u2026\\u028am\", \"a\\u2026ni :: n\\u026a\\u2026#\", \"a\\u2026o# :: no\\u028a#\", \"a\\u2026o# :: no\\u028a#\", \"a\\u2026o# :: no\\u028a#\", \"a\\u2026o# :: no\\u2026#\", \"a\\u2026o# :: no\\u2026#\", \"a\\u2026o# :: no\\u2026#\", \"a\\u2026o# :: n\\u2026\\u028a#\", \"a\\u2026o# :: n\\u2026\\u028a#\", \"a\\u2026o# :: s\\u0251\\u2026o\", \"a\\u2026o# :: t\\u2026\\u028a#\", \"a\\u2026o# :: \\u0251no\\u028a\", \"a\\u2026o# :: \\u0251no\\u028a\", \"a\\u2026o# :: \\u0251no\\u028a\", \"a\\u2026o# :: \\u0251n\\u2026\\u028a\", \"a\\u2026o# :: \\u0251n\\u2026\\u028a\", \"a\\u2026o# :: \\u0251n\\u2026\\u028a\", \"a\\u2026o# :: \\u0251to\\u028a\", \"a\\u2026o# :: \\u0251to\\u028a\", \"a\\u2026o# :: \\u0251\\u2026o\\u028a\", \"a\\u2026o# :: \\u0251\\u2026o\\u028a\", \"a\\u2026o# :: \\u0251\\u2026o\\u028a\", \"a\\u2026o# :: \\u0251\\u2026o\\u028a\", \"a\\u2026o# :: \\u0251\\u2026o\\u028a\", \"a\\u2026o# :: \\u0251\\u2026o\\u028a\", \"a\\u2026o# :: \\u0251\\u2026o\\u028a\", \"a\\u2026o# :: \\u0251\\u2026o\\u028a\", \"a\\u2026o# :: \\u0251\\u2026o\\u028a\", \"a\\u2026o# :: \\u0251\\u2026o\\u028a\", \"a\\u2026o# :: \\u0251\\u2026o\\u028a\", \"a\\u2026o# :: \\u0251\\u2026o\\u028a#\", \"a\\u2026o# :: \\u0251\\u2026o\\u028a#\", \"a\\u2026o# :: \\u0251\\u2026o\\u028a#\", \"a\\u2026o# :: \\u0251\\u2026o\\u028a#\", \"a\\u2026o# :: \\u0251\\u2026o\\u028a#\", \"a\\u2026o# :: \\u0251\\u2026o\\u028a#\", \"a\\u2026o# :: \\u0251\\u2026o\\u028a#\", \"a\\u2026o# :: \\u0251\\u2026o\\u2026#\", \"a\\u2026o# :: \\u0251\\u2026o\\u2026#\", \"a\\u2026o# :: \\u0251\\u2026o\\u2026#\", \"a\\u2026o# :: \\u0251\\u2026o\\u2026#\", \"a\\u2026o# :: \\u0251\\u2026o\\u2026#\", \"a\\u2026o# :: \\u0251\\u2026o\\u2026#\", \"a\\u2026p# :: k\\u00e6mp\", \"a\\u2026p# :: k\\u00e6mp\", \"a\\u2026p# :: k\\u00e6mp\", \"a\\u2026p# :: \\u00e6mp#\", \"a\\u2026p# :: \\u00e6mp#\", \"a\\u2026p# :: \\u00e6m\\u2026#\", \"a\\u2026t# :: \\u00e6\\u2026t#\", \"a\\u2026t# :: \\u00e6\\u2026t#\", \"a\\u2026t# :: \\u00e6\\u2026t#\", \"a\\u2026t# :: \\u00e6\\u2026t#\", \"a\\u2026t# :: \\u00e6\\u2026t#\", \"a\\u2026t# :: \\u00e6\\u2026t#\", \"a\\u2026t# :: \\u00e6\\u2026t#\", \"a\\u2026t# :: \\u00e6\\u2026t#\", \"a\\u2026t# :: \\u00e6\\u2026t#\", \"a\\u2026t# :: \\u00e6\\u2026t#\", \"a\\u2026t# :: \\u00e6\\u2026t#\", \"bach :: b\\u0251k#\", \"bach :: b\\u0251k#\", \"bach :: b\\u0251\\u2026#\", \"bach :: b\\u0251\\u2026#\", \"bach :: b\\u2026k#\", \"bail :: be\\u2026\\u026b\", \"bart :: \\u0251\\u0279\\u2026\\u0259\", \"bart :: \\u0251\\u0279\\u2026\\u0259\", \"baum :: a\\u028am#\", \"baum :: a\\u028am#\", \"baum :: a\\u028a\\u2026#\", \"ba\\u2026h :: b\\u0251k#\", \"ba\\u2026h :: b\\u0251\\u2026#\", \"ba\\u2026h :: b\\u0251\\u2026#\", \"ba\\u2026h :: b\\u2026k#\", \"ba\\u2026h :: nb\\u2026k\", \"ba\\u2026m :: a\\u028am#\", \"ba\\u2026m :: a\\u028a\\u2026#\", \"ba\\u2026m :: a\\u2026m#\", \"ba\\u2026m :: ba\\u028am\", \"ba\\u2026m :: ba\\u2026m\", \"ba\\u2026m :: ba\\u2026m\", \"ba\\u2026m :: b\\u2026\\u028am\", \"ba\\u2026t :: \\u0251\\u0279\\u2026\\u0259\", \"berg :: b\\u025d\\u2026#\", \"berg :: b\\u025d\\u2026#\", \"berg :: b\\u025d\\u2026#\", \"berg :: b\\u025d\\u2026#\", \"berg :: b\\u025d\\u2026#\", \"berg :: b\\u025d\\u2026#\", \"berg :: b\\u025d\\u2026#\", \"berg :: b\\u025d\\u2026#\", \"berg :: b\\u2026\\u0261#\", \"berg :: b\\u2026\\u0261#\", \"berg :: b\\u2026\\u0261#\", \"berg :: b\\u2026\\u0261#\", \"berg :: b\\u2026\\u0261#\", \"berg :: nb\\u025d\\u0261\", \"berg :: nb\\u025d\\u0261\", \"berg :: nb\\u2026\\u0261\", \"berg :: nb\\u2026\\u0261\", \"berg :: n\\u2026\\u025d\\u0261\", \"berg :: n\\u2026\\u025d\\u0261\", \"berg :: \\u0259\\u2026b\\u025d\", \"beri :: b\\u025d\\u2026\\u014b\", \"beri :: b\\u025d\\u2026\\u014b\", \"beri :: b\\u025d\\u2026\\u014b\", \"beri :: \\u025d\\u026a\\u014b#\", \"beri :: \\u025d\\u026a\\u014b#\", \"berr :: b\\u025b\\u0279i\", \"berr :: b\\u025b\\u0279i\", \"be\\u2026g :: b\\u025d\\u2026#\", \"be\\u2026g :: b\\u025d\\u2026#\", \"be\\u2026g :: b\\u025d\\u2026#\", \"be\\u2026g :: b\\u025d\\u2026#\", \"be\\u2026g :: b\\u025d\\u2026#\", \"be\\u2026g :: b\\u025d\\u2026#\", \"be\\u2026g :: b\\u025d\\u2026#\", \"be\\u2026g :: b\\u025d\\u2026#\", \"be\\u2026g :: nb\\u2026\\u0261\", \"be\\u2026g :: nb\\u2026\\u0261\", \"be\\u2026g :: n\\u2026\\u025d\\u0261\", \"be\\u2026g :: n\\u2026\\u025d\\u0261\", \"be\\u2026g :: n\\u2026\\u025d\\u0261\", \"be\\u2026g :: \\u0259nb\\u025d\", \"be\\u2026g :: \\u0259\\u2026b\\u025d\", \"be\\u2026g :: \\u0259\\u2026b\\u025d\", \"be\\u2026i :: \\u025d\\u026a\\u014b#\", \"be\\u2026i :: \\u025d\\u2026\\u014b#\", \"be\\u2026r :: b\\u2026\\u0279i\", \"ble# :: b\\u0259\\u026b#\", \"ble# :: b\\u0259\\u026b#\", \"ble# :: b\\u0259\\u026b#\", \"ble# :: b\\u0259\\u026b#\", \"ble# :: b\\u0259\\u2026#\", \"ble# :: b\\u0259\\u2026#\", \"ble# :: b\\u2026\\u026b#\", \"ble# :: b\\u2026\\u026b#\", \"ble# :: \\u0259b\\u0259\\u026b\", \"ble# :: \\u0259b\\u2026\\u026b\", \"ble# :: \\u0259b\\u2026\\u026b\", \"ble# :: \\u0259\\u2026\\u0259\\u026b\", \"ble# :: \\u0259\\u2026\\u0259\\u026b\", \"bl\\u2026# :: b\\u0259\\u026b#\", \"bl\\u2026# :: b\\u0259\\u026b#\", \"bl\\u2026# :: b\\u0259\\u2026#\", \"bl\\u2026# :: b\\u0259\\u2026#\", \"bl\\u2026# :: b\\u0259\\u2026#\", \"bl\\u2026# :: b\\u0259\\u2026#\", \"bl\\u2026# :: b\\u0259\\u2026#\", \"bl\\u2026# :: b\\u2026\\u026b#\", \"bl\\u2026# :: b\\u2026\\u026b#\", \"bl\\u2026# :: b\\u2026\\u026b#\", \"bl\\u2026# :: \\u0259b\\u0259\\u026b\", \"bl\\u2026# :: \\u0259b\\u0259\\u026b\", \"bl\\u2026# :: \\u0259b\\u2026\\u026b\", \"bl\\u2026# :: \\u0259b\\u2026\\u026b\", \"bl\\u2026# :: \\u0259\\u2026\\u0259\\u026b\", \"boro :: b\\u025do\\u028a\", \"boro :: b\\u2026o\\u028a\", \"boro :: b\\u2026o\\u028a\", \"bo\\u2026n :: b\\u025dn#\", \"bo\\u2026n :: b\\u025d\\u2026#\", \"bo\\u2026n :: b\\u2026n#\", \"bo\\u2026n :: b\\u2026n#\", \"bo\\u2026n :: b\\u2026n#\", \"bo\\u2026o :: b\\u025do\\u028a\", \"bo\\u2026o :: b\\u025do\\u028a\", \"bo\\u2026o :: b\\u025d\\u2026\\u028a\", \"bo\\u2026o :: b\\u025d\\u2026\\u028a\", \"bo\\u2026o :: \\u025do\\u028a#\", \"burn :: b\\u025dn#\", \"burn :: b\\u025dn#\", \"burn :: b\\u025dn#\", \"burn :: b\\u025d\\u2026#\", \"burn :: b\\u025d\\u2026#\", \"burn :: b\\u2026n#\", \"bu\\u2026n :: b\\u025dn#\", \"bu\\u2026n :: b\\u025dn#\", \"bu\\u2026n :: b\\u025dn#\", \"bu\\u2026n :: b\\u025dn#\", \"bu\\u2026n :: b\\u025dn#\", \"bu\\u2026n :: b\\u025d\\u2026#\", \"bu\\u2026n :: b\\u025d\\u2026#\", \"bu\\u2026n :: b\\u025d\\u2026#\", \"bu\\u2026n :: b\\u025d\\u2026#\", \"bu\\u2026n :: b\\u2026n#\", \"b\\u2026ac :: b\\u2026\\u00e6k\", \"b\\u2026ac :: b\\u2026\\u00e6k\", \"b\\u2026ac :: b\\u2026\\u00e6k\", \"b\\u2026ac :: b\\u2026\\u00e6k\", \"b\\u2026ch :: b\\u0251k#\", \"b\\u2026ch :: b\\u0251\\u2026#\", \"b\\u2026ch :: b\\u2026k#\", \"b\\u2026ch :: b\\u2026k#\", \"b\\u2026ch :: b\\u2026k#\", \"b\\u2026ck :: b\\u00e6ks\", \"b\\u2026ck :: b\\u00e6\\u2026s\", \"b\\u2026e# :: b\\u0259\\u026b#\", \"b\\u2026e# :: b\\u0259\\u026b#\", \"b\\u2026e# :: b\\u0259\\u026b#\", \"b\\u2026e# :: b\\u0259\\u2026#\", \"b\\u2026e# :: b\\u0259\\u2026#\", \"b\\u2026e# :: b\\u2026\\u026b#\", \"b\\u2026e# :: b\\u2026\\u026b#\", \"b\\u2026e# :: b\\u2026\\u026b#\", \"b\\u2026e# :: \\u0259b\\u0259\\u026b\", \"b\\u2026e# :: \\u0259b\\u0259\\u026b\", \"b\\u2026e# :: \\u0259b\\u2026\\u026b\", \"b\\u2026e# :: \\u0259\\u2026\\u0259\\u026b\", \"b\\u2026il :: be\\u2026\\u026b\", \"b\\u2026il :: b\\u2026\\u026a\\u026b\", \"b\\u2026il :: b\\u2026\\u026a\\u026b\", \"b\\u2026n# :: b\\u025dn#\", \"b\\u2026ow :: b\\u0279a\\u028a\", \"b\\u2026ow :: b\\u0279a\\u028a\", \"b\\u2026rg :: b\\u025d\\u0261#\", \"b\\u2026rg :: b\\u025d\\u0261#\", \"b\\u2026rg :: b\\u025d\\u0261#\", \"b\\u2026rg :: b\\u025d\\u0261#\", \"b\\u2026rg :: b\\u025d\\u0261#\", \"b\\u2026rg :: b\\u025d\\u2026#\", \"b\\u2026rg :: b\\u025d\\u2026#\", \"b\\u2026rg :: b\\u025d\\u2026#\", \"b\\u2026rg :: b\\u025d\\u2026#\", \"b\\u2026rg :: b\\u025d\\u2026#\", \"b\\u2026rg :: b\\u025d\\u2026#\", \"b\\u2026rg :: b\\u025d\\u2026#\", \"b\\u2026rg :: b\\u025d\\u2026#\", \"b\\u2026rg :: b\\u2026\\u0261#\", \"b\\u2026rg :: b\\u2026\\u0261#\", \"b\\u2026rg :: b\\u2026\\u0261#\", \"b\\u2026rg :: b\\u2026\\u0261#\", \"b\\u2026rg :: b\\u2026\\u0261#\", \"b\\u2026rg :: nb\\u025d\\u0261\", \"b\\u2026rg :: nb\\u025d\\u0261\", \"b\\u2026rg :: nb\\u025d\\u0261\", \"b\\u2026rg :: nb\\u025d\\u0261\", \"b\\u2026rg :: nb\\u025d\\u0261#\", \"b\\u2026rg :: nb\\u2026\\u0261\", \"b\\u2026rg :: nb\\u2026\\u0261\", \"b\\u2026rg :: n\\u2026\\u025d\\u0261\", \"b\\u2026rg :: n\\u2026\\u025d\\u0261\", \"b\\u2026rg :: n\\u2026\\u025d\\u0261\", \"b\\u2026rg :: n\\u2026\\u025d\\u0261\", \"b\\u2026rg :: \\u0259nb\\u025d\", \"b\\u2026rg :: \\u0259nb\\u025d\", \"b\\u2026rg :: \\u0259\\u2026b\\u025d\", \"b\\u2026rg :: \\u0259\\u2026b\\u025d\", \"b\\u2026ri :: b\\u025d\\u026a\\u014b\", \"b\\u2026ri :: b\\u025d\\u026a\\u014b\", \"b\\u2026ri :: b\\u025d\\u026a\\u014b\", \"b\\u2026ri :: b\\u025d\\u2026\\u014b\", \"b\\u2026ri :: b\\u2026\\u026a\\u014b\", \"b\\u2026ri :: b\\u2026\\u026a\\u014b\", \"b\\u2026ri :: \\u025d\\u026a\\u014b#\", \"b\\u2026ri :: \\u025d\\u026a\\u2026#\", \"b\\u2026ri :: \\u025d\\u026a\\u2026#\", \"b\\u2026ri :: \\u025d\\u026a\\u2026#\", \"b\\u2026ri :: \\u025d\\u2026\\u014b#\", \"b\\u2026ri :: \\u025d\\u2026\\u014b#\", \"b\\u2026rn :: b\\u025dn#\", \"b\\u2026rn :: b\\u025dn#\", \"b\\u2026rn :: b\\u025d\\u2026#\", \"b\\u2026rn :: b\\u2026n#\", \"b\\u2026rn :: b\\u2026n#\", \"b\\u2026rn :: b\\u2026n#\", \"b\\u2026rn :: \\u026anb\\u025d\", \"b\\u2026rn :: \\u026a\\u2026b\\u025d\", \"b\\u2026rn :: \\u026a\\u2026b\\u025d\", \"b\\u2026rn :: \\u026a\\u2026\\u025dn\", \"b\\u2026rn# :: b\\u025dn#\", \"b\\u2026ro :: b\\u025do\\u028a\", \"b\\u2026ro :: b\\u025do\\u028a\", \"b\\u2026ro :: b\\u025d\\u2026\\u028a\", \"b\\u2026ro :: b\\u025d\\u2026\\u028a\", \"b\\u2026ro :: b\\u025d\\u2026\\u028a\", \"b\\u2026ro :: b\\u025d\\u2026\\u028a\", \"b\\u2026ro :: b\\u2026o\\u028a\", \"b\\u2026ro :: b\\u2026o\\u028a\", \"b\\u2026ro :: b\\u2026o\\u028a\", \"b\\u2026um :: a\\u028am#\", \"b\\u2026um :: a\\u028a\\u2026#\", \"b\\u2026um :: a\\u2026m#\", \"b\\u2026um :: a\\u2026m#\", \"b\\u2026um :: ba\\u028am\", \"b\\u2026um :: ba\\u2026m\", \"b\\u2026um :: b\\u2026\\u028am\", \"b\\u2026um :: b\\u2026\\u028am\", \"cal# :: \\u026ak\\u2026\\u026b\", \"cher :: t\\u0283\\u025d#\", \"cher :: t\\u0283\\u2026#\", \"cher :: t\\u0283\\u2026#\", \"cher :: t\\u2026\\u025d#\", \"cher :: t\\u2026\\u025d#\", \"chip :: t\\u0283\\u026ap\", \"chip :: t\\u0283\\u2026p\", \"ch\\u2026k :: t\\u0283\\u2026k\", \"ch\\u2026k :: t\\u0283\\u2026k\", \"ch\\u2026k :: t\\u0283\\u2026k\", \"ch\\u2026p :: t\\u0283\\u026ap\", \"ch\\u2026p :: t\\u0283\\u026ap\", \"ch\\u2026p :: t\\u2026\\u026ap\", \"ch\\u2026r :: t\\u0283\\u025d#\", \"ch\\u2026r :: t\\u0283\\u2026#\", \"ch\\u2026r :: t\\u0283\\u2026#\", \"comp :: k\\u0259mp\", \"comp :: k\\u0259mp\", \"comp :: k\\u0259\\u2026p\", \"comp :: k\\u0259\\u2026p\", \"comp :: k\\u0259\\u2026p\", \"comp :: k\\u2026mp\", \"comp :: k\\u2026mp\", \"comp :: k\\u2026mp\", \"comp :: k\\u2026mp\", \"cont :: k\\u0259nt\", \"cont :: k\\u0259\\u2026t\", \"cont :: k\\u2026nt\", \"co\\u2026p :: k\\u0259mp\", \"co\\u2026p :: k\\u0259mp\", \"co\\u2026p :: k\\u0259mp\", \"co\\u2026p :: k\\u0259\\u2026p\", \"co\\u2026p :: k\\u0259\\u2026p\", \"co\\u2026p :: k\\u2026mp\", \"co\\u2026p :: k\\u2026mp\", \"co\\u2026p :: k\\u2026mp\", \"co\\u2026p :: k\\u2026mp\", \"co\\u2026p :: k\\u2026mp\", \"co\\u2026t :: k\\u0259nt\", \"co\\u2026t :: k\\u0259nt\", \"co\\u2026t :: k\\u0259\\u2026t\", \"co\\u2026t :: k\\u0259\\u2026t\", \"co\\u2026t :: k\\u0259\\u2026t\", \"co\\u2026t :: k\\u2026nt\", \"co\\u2026t :: k\\u2026nt\", \"cr\\u2026p :: k\\u0279\\u2026p\", \"cr\\u2026p :: k\\u0279\\u2026p\", \"c\\u2026er :: t\\u0283\\u2026#\", \"c\\u2026er :: t\\u0283\\u2026#\", \"c\\u2026ip :: t\\u2026\\u026ap\", \"c\\u2026l# :: k\\u0259\\u026b#\", \"c\\u2026l# :: n\\u026ak\\u0259\", \"c\\u2026ma :: m\\u2026n#\", \"c\\u2026mp :: k\\u0259mp\", \"c\\u2026mp :: k\\u0259mp\", \"c\\u2026mp :: k\\u0259\\u2026p\", \"c\\u2026mp :: k\\u0259\\u2026p\", \"c\\u2026mp :: k\\u2026mp\", \"c\\u2026mp :: k\\u2026mp\", \"c\\u2026mp :: k\\u2026mp\", \"c\\u2026mp :: k\\u2026mp\", \"c\\u2026mp :: k\\u2026mp\", \"c\\u2026mp :: k\\u2026mp\", \"c\\u2026mp :: k\\u2026mp\", \"c\\u2026nt :: k\\u0259nt\", \"c\\u2026nt :: k\\u0259nt\", \"c\\u2026nt :: k\\u0259\\u2026t\", \"c\\u2026nt :: k\\u0259\\u2026t\", \"c\\u2026nt :: k\\u0259\\u2026t\", \"c\\u2026nt :: k\\u2026nt\", \"c\\u2026nt :: k\\u2026nt\", \"c\\u2026nt :: k\\u2026nt\", \"d'\\u2026# :: nd\\u2026#\", \"da\\u2026# :: s\\u2026nd\", \"da\\u2026# :: s\\u2026nd\", \"ded# :: \\u028ad\\u2026d\", \"dge# :: \\u026ad\\u0292#\", \"dge# :: \\u026ad\\u2026#\", \"dg\\u2026# :: \\u0279\\u2026d\\u0292\", \"dl\\u2026# :: d\\u026bi#\", \"dl\\u2026# :: d\\u026bi#\", \"dl\\u2026# :: d\\u026bi#\", \"dl\\u2026# :: d\\u026bi#\", \"dl\\u2026# :: d\\u026bi#\", \"dl\\u2026# :: d\\u2026i#\", \"dl\\u2026# :: d\\u2026i#\", \"dl\\u2026# :: d\\u2026i#\", \"dl\\u2026# :: d\\u2026i#\", \"dl\\u2026# :: d\\u2026i#\", \"dl\\u2026# :: d\\u2026i#\", \"d\\u2026n# :: d\\u0259n#\", \"d\\u2026n# :: d\\u0259n#\", \"d\\u2026n# :: d\\u0259n#\", \"d\\u2026n# :: d\\u0259n#\", \"d\\u2026n# :: d\\u0259n#\", \"d\\u2026n# :: d\\u0259n#\", \"d\\u2026n# :: d\\u0259n#\", \"d\\u2026n# :: d\\u0259\\u2026#\", \"d\\u2026n# :: d\\u0259\\u2026#\", \"d\\u2026n# :: d\\u0259\\u2026#\", \"d\\u2026n# :: d\\u0259\\u2026#\", \"d\\u2026n# :: d\\u0259\\u2026#\", \"d\\u2026n# :: d\\u0259\\u2026#\", \"d\\u2026n# :: d\\u0259\\u2026#\", \"d\\u2026n# :: d\\u2026n#\", \"d\\u2026n# :: d\\u2026n#\", \"d\\u2026n# :: d\\u2026n#\", \"d\\u2026n# :: d\\u2026n#\", \"d\\u2026n# :: d\\u2026n#\", \"d\\u2026n# :: d\\u2026n#\", \"d\\u2026n# :: d\\u2026n#\", \"d\\u2026n# :: d\\u2026n#\", \"d\\u2026n# :: d\\u2026n#\", \"d\\u2026n# :: e\\u026ad\\u0259\", \"d\\u2026n# :: e\\u026ad\\u0259\", \"d\\u2026n# :: e\\u026a\\u2026\\u0259\", \"d\\u2026n# :: e\\u2026d\\u0259\", \"d\\u2026n# :: e\\u2026d\\u0259\", \"d\\u2026n# :: \\u026ad\\u0259n\", \"d\\u2026n# :: \\u026ad\\u0259n\", \"d\\u2026n# :: \\u026ad\\u2026n\", \"d\\u2026n# :: \\u026ad\\u2026n\", \"d\\u2026n# :: \\u026ad\\u2026n\", \"d\\u2026n# :: \\u026ad\\u2026n\", \"d\\u2026n# :: \\u026ad\\u2026n\", \"d\\u2026n# :: \\u026ad\\u2026n\", \"d\\u2026n# :: \\u026a\\u2026\\u0259n\", \"d\\u2026n# :: \\u026a\\u2026\\u0259n\", \"d\\u2026n# :: \\u026a\\u2026\\u0259n\", \"d\\u2026n# :: \\u026a\\u2026\\u0259n\", \"d\\u2026n# :: \\u026a\\u2026\\u0259n\", \"d\\u2026n# :: \\u026a\\u2026\\u0259n\", \"d\\u2026r# :: nd\\u025d#\", \"d\\u2026r# :: nd\\u025d#\", \"d\\u2026r# :: n\\u2026\\u025d#\", \"d\\u2026r# :: n\\u2026\\u025d#\", \"d\\u2026rs :: d\\u025dz#\", \"d\\u2026rs :: d\\u025dz#\", \"d\\u2026rs :: d\\u025dz#\", \"d\\u2026rs :: d\\u025d\\u2026#\", \"d\\u2026rs :: d\\u025d\\u2026#\", \"d\\u2026rs :: d\\u2026z#\", \"d\\u2026rs :: d\\u2026z#\", \"d\\u2026s# :: nd\\u2026#\", \"d\\u2026s# :: nd\\u2026#\", \"d\\u2026s# :: n\\u2026z#\", \"d\\u2026s# :: n\\u2026z#\", \"d\\u2026s# :: \\u0259ndz\", \"d\\u2026y# :: d\\u026bi#\", \"d\\u2026y# :: d\\u026bi#\", \"d\\u2026y# :: d\\u026bi#\", \"d\\u2026y# :: d\\u026bi#\", \"d\\u2026y# :: d\\u026bi#\", \"ea\\u2026e :: i\\u026b\\u2026#\", \"ea\\u2026e :: i\\u026b\\u2026#\", \"ea\\u2026e :: i\\u2026i#\", \"ee\\u2026# :: wi\\u2026#\", \"ee\\u2026# :: wi\\u2026#\", \"ee\\u2026# :: wi\\u2026#\", \"eld# :: i\\u026b\\u2026#\", \"ell# :: w\\u025b\\u026b#\", \"ell# :: w\\u025b\\u026b#\", \"ell# :: w\\u025b\\u026b#\", \"ell# :: w\\u025b\\u026b#\", \"ell# :: \\u0251w\\u2026\\u026b\", \"elma :: m\\u0259n#\", \"elma :: m\\u0259n#\", \"elma :: m\\u2026n#\", \"elma :: \\u026bm\\u0259n\", \"elma :: \\u026b\\u2026\\u0259n\", \"el\\u2026# :: \\u0251w\\u2026\\u026b\", \"el\\u2026# :: \\u0251\\u2026\\u025b\\u026b\", \"el\\u2026# :: \\u0251\\u2026\\u025b\\u026b\", \"el\\u2026# :: \\u0251\\u2026\\u025b\\u026b\", \"el\\u2026a :: m\\u0259n#\", \"el\\u2026a :: m\\u0259\\u2026#\", \"el\\u2026a :: m\\u2026n#\", \"el\\u2026a :: m\\u2026n#\", \"el\\u2026a :: m\\u2026n#\", \"el\\u2026a :: \\u026bm\\u0259n\", \"el\\u2026a :: \\u026bm\\u2026n\", \"el\\u2026a :: \\u026bm\\u2026n\", \"el\\u2026a :: \\u026bm\\u2026n\", \"el\\u2026a :: \\u026b\\u2026\\u0259n\", \"ence :: \\u0259ns#\", \"ence :: \\u0259n\\u2026#\", \"ence :: \\u0259\\u2026s#\", \"ence :: \\u0259\\u2026s#\", \"ence :: \\u0259\\u2026s#\", \"ence :: \\u0259\\u2026s#\", \"enty :: tw\\u025bn\", \"en\\u2026' :: nts#\", \"en\\u2026' :: \\u0259n\\u2026s\", \"en\\u2026e :: b\\u2026\\u0261#\", \"en\\u2026e :: \\u0259ns#\", \"en\\u2026e :: \\u0259n\\u2026#\", \"en\\u2026e :: \\u0259n\\u2026#\", \"en\\u2026e :: \\u0259n\\u2026#\", \"en\\u2026e :: \\u0259\\u2026b\\u025d\", \"en\\u2026e :: \\u0259\\u2026b\\u025d\", \"en\\u2026e :: \\u0259\\u2026s#\", \"en\\u2026o :: \\u025bn\\u2026\\u025d\", \"en\\u2026y :: tw\\u2026n\", \"en\\u2026y :: t\\u2026\\u025bn\", \"en\\u2026y :: t\\u2026\\u025bn\", \"ered :: t\\u025d\\u2026#\", \"erg# :: n\\u2026\\u025d\\u0261\", \"erg# :: n\\u2026\\u025d\\u0261\", \"erin :: b\\u025d\\u2026\\u014b\", \"erin :: b\\u025d\\u2026\\u014b\", \"erma :: m\\u0259n#\", \"erma :: m\\u2026n#\", \"erma :: m\\u2026n#\", \"erma :: \\u025dm\\u0259n\", \"erma :: \\u025dm\\u0259n\", \"erma :: \\u025dm\\u2026n\", \"erma :: \\u025dm\\u2026n\", \"erma :: \\u025dm\\u2026n\", \"erma :: \\u025d\\u2026\\u0259n\", \"erma :: \\u025d\\u2026\\u0259n\", \"erma :: \\u025d\\u2026\\u0259n\", \"erman :: m\\u2026n#\", \"ers# :: iv\\u025dz\", \"ers# :: iv\\u025dz\", \"ers# :: iv\\u025dz\", \"ers# :: iv\\u2026z\", \"ers# :: iv\\u2026z\", \"ers# :: k\\u025dz#\", \"ers# :: k\\u025dz#\", \"ers# :: k\\u025dz#\", \"ers# :: k\\u025d\\u2026#\", \"ers# :: k\\u025d\\u2026#\", \"ers# :: k\\u025d\\u2026#\", \"ers# :: k\\u2026z#\", \"ers# :: k\\u2026z#\", \"ers# :: k\\u2026z#\", \"ers# :: k\\u2026z#\", \"ers# :: k\\u2026z#\", \"ers# :: t\\u025dz#\", \"ers# :: t\\u025dz#\", \"ers# :: t\\u025dz#\", \"ers# :: t\\u025d\\u2026#\", \"ers# :: t\\u025d\\u2026#\", \"ers# :: t\\u025d\\u2026#\", \"ers# :: t\\u2026z#\", \"ers# :: t\\u2026z#\", \"ers# :: v\\u2026z#\", \"ers# :: v\\u2026z#\", \"ers# :: v\\u2026z#\", \"erso :: s\\u0259n#\", \"erso :: s\\u0259n#\", \"er\\u2026# :: b\\u025d\\u2026#\", \"er\\u2026# :: b\\u025d\\u2026#\", \"er\\u2026# :: b\\u025d\\u2026#\", \"er\\u2026# :: b\\u025d\\u2026#\", \"er\\u2026# :: b\\u025d\\u2026#\", \"er\\u2026# :: b\\u025d\\u2026#\", \"er\\u2026# :: b\\u025d\\u2026#\", \"er\\u2026# :: b\\u025d\\u2026#\", \"er\\u2026# :: b\\u025d\\u2026#\", \"er\\u2026# :: b\\u025d\\u2026#\", \"er\\u2026# :: iv\\u025dz\", \"er\\u2026# :: iv\\u2026z\", \"er\\u2026# :: i\\u2026\\u025dz\", \"er\\u2026# :: i\\u2026\\u025dz\", \"er\\u2026# :: i\\u2026\\u025dz\", \"er\\u2026# :: i\\u2026\\u025dz\", \"er\\u2026# :: nb\\u2026\\u0261\", \"er\\u2026# :: nb\\u2026\\u0261\", \"er\\u2026# :: n\\u2026\\u025d\\u0261\", \"er\\u2026# :: n\\u2026\\u025d\\u0261\", \"er\\u2026# :: t\\u025dz#\", \"er\\u2026# :: t\\u025dz#\", \"er\\u2026# :: t\\u025dz#\", \"er\\u2026# :: t\\u025d\\u2026#\", \"er\\u2026# :: t\\u025d\\u2026#\", \"er\\u2026# :: t\\u025d\\u2026#\", \"er\\u2026# :: t\\u025d\\u2026#\", \"er\\u2026# :: t\\u2026z#\", \"er\\u2026# :: t\\u2026z#\", \"er\\u2026# :: t\\u2026z#\", \"er\\u2026# :: t\\u2026z#\", \"er\\u2026# :: v\\u025dz#\", \"er\\u2026# :: v\\u025dz#\", \"er\\u2026# :: v\\u025dz#\", \"er\\u2026# :: v\\u025d\\u2026#\", \"er\\u2026# :: v\\u025d\\u2026#\", \"er\\u2026# :: v\\u025d\\u2026#\", \"er\\u2026# :: v\\u2026z#\", \"er\\u2026# :: v\\u2026z#\", \"er\\u2026# :: v\\u2026z#\", \"er\\u2026a :: m\\u0259n#\", \"er\\u2026a :: m\\u0259\\u2026#\", \"er\\u2026a :: m\\u0259\\u2026#\", \"er\\u2026a :: m\\u0259\\u2026#\", \"er\\u2026a :: m\\u2026n#\", \"er\\u2026a :: m\\u2026n#\", \"er\\u2026a :: \\u025dm\\u0259n\", \"er\\u2026a :: \\u025dm\\u0259n\", \"er\\u2026a :: \\u025dm\\u2026n\", \"er\\u2026a :: \\u025dm\\u2026n\", \"er\\u2026n :: b\\u025d\\u2026\\u014b\", \"er\\u2026n :: \\u025d\\u2026\\u014b#\", \"er\\u2026n :: \\u025d\\u2026\\u014b#\", \"er\\u2026n :: \\u025d\\u2026\\u014b#\", \"er\\u2026n :: \\u025d\\u2026\\u014b#\", \"er\\u2026n :: \\u025d\\u2026\\u014b#\", \"er\\u2026o :: s\\u0259n#\", \"er\\u2026o :: \\u025ds\\u0259n\", \"er\\u2026o :: \\u025d\\u2026\\u0259n\", \"er\\u2026o :: \\u025d\\u2026\\u0259n\", \"er\\u2026o :: \\u025d\\u2026\\u0259n\", \"er\\u2026o :: \\u025d\\u2026\\u0259n\", \"er\\u2026o :: \\u025d\\u2026\\u0259n\", \"er\\u2026s :: o\\u028a\\u2026\\u025d\", \"er\\u2026s :: o\\u028a\\u2026\\u025d\", \"er\\u2026s :: o\\u028a\\u2026\\u025d\", \"er\\u2026y :: \\u025b\\u0279i#\", \"ess# :: in\\u0259s\", \"ess# :: in\\u0259s\", \"ess# :: in\\u2026s\", \"ess# :: n\\u0259s#\", \"ess# :: n\\u0259s#\", \"ess# :: n\\u0259s#\", \"ess# :: n\\u0259s#\", \"ess# :: n\\u0259\\u2026#\", \"ess# :: n\\u0259\\u2026#\", \"ess# :: n\\u0259\\u2026#\", \"ess# :: n\\u0259\\u2026#\", \"ess# :: n\\u2026s#\", \"ess# :: n\\u2026s#\", \"ess# :: n\\u2026s#\", \"ess# :: n\\u2026s#\", \"ess# :: n\\u2026s#\", \"ess# :: t\\u2026\\u0259s\", \"ess# :: \\u0259\\u2026n\\u0259\", \"es\\u2026# :: in\\u0259s\", \"es\\u2026# :: n\\u0259s#\", \"es\\u2026# :: n\\u0259s#\", \"es\\u2026# :: n\\u0259s#\", \"es\\u2026# :: n\\u0259\\u2026#\", \"es\\u2026# :: n\\u0259\\u2026#\", \"es\\u2026# :: n\\u0259\\u2026#\", \"es\\u2026# :: n\\u0259\\u2026#\", \"es\\u2026# :: n\\u0259\\u2026#\", \"es\\u2026# :: n\\u2026s#\", \"es\\u2026# :: n\\u2026s#\", \"es\\u2026# :: n\\u2026s#\", \"es\\u2026# :: n\\u2026s#\", \"es\\u2026# :: n\\u2026s#\", \"es\\u2026# :: tn\\u0259s\", \"es\\u2026# :: tn\\u0259s\", \"es\\u2026# :: tn\\u2026s\", \"es\\u2026# :: t\\u2026\\u0259s\", \"es\\u2026# :: t\\u2026\\u0259s\", \"es\\u2026# :: t\\u2026\\u0259s\", \"es\\u2026# :: \\u0259\\u2026n\\u0259\", \"es\\u2026# :: \\u0259\\u2026n\\u0259\", \"etta :: \\u025bt\\u0259#\", \"etta :: \\u025bt\\u2026#\", \"etta :: \\u025bt\\u2026#\", \"etta :: \\u025b\\u2026\\u0259#\", \"ette :: \\u025d\\u025bt#\", \"ette :: \\u025d\\u2026t#\", \"et\\u2026a :: \\u025bt\\u0259#\", \"et\\u2026a :: \\u025bt\\u0259#\", \"et\\u2026a :: \\u025bt\\u2026#\", \"et\\u2026a :: \\u025bt\\u2026#\", \"et\\u2026a :: \\u025b\\u2026\\u0259#\", \"et\\u2026e :: v\\u025d\\u2026t\", \"et\\u2026e :: \\u025d\\u025b\\u2026#\", \"et\\u2026e :: \\u025d\\u2026t#\", \"et\\u2026e :: \\u025d\\u2026t#\", \"et\\u2026e :: \\u025d\\u2026t#\", \"e\\u2026a# :: \\u025b\\u0279\\u2026#\", \"e\\u2026a# :: \\u025b\\u0279\\u2026#\", \"e\\u2026a# :: \\u025b\\u2026\\u0259#\", \"e\\u2026a# :: \\u025b\\u2026\\u0259#\", \"e\\u2026a# :: \\u025b\\u2026\\u0259#\", \"e\\u2026a# :: \\u025b\\u2026\\u0259#\", \"e\\u2026a# :: \\u025b\\u2026\\u0259#\", \"e\\u2026a# :: \\u025b\\u2026\\u0259#\", \"e\\u2026a# :: \\u025b\\u2026\\u0259#\", \"e\\u2026a# :: \\u025b\\u2026\\u0259#\", \"e\\u2026a# :: \\u025b\\u2026\\u0259#\", \"e\\u2026ba :: nb\\u0251k\", \"e\\u2026be :: n\\u2026\\u025d\\u0261\", \"e\\u2026be :: n\\u2026\\u025d\\u0261\", \"e\\u2026be :: \\u0259\\u2026b\\u025d\", \"e\\u2026ce :: \\u0259ns#\", \"e\\u2026ce :: \\u0259ns#\", \"e\\u2026ce :: \\u0259n\\u2026#\", \"e\\u2026ce :: \\u0259\\u2026s#\", \"e\\u2026d# :: i\\u026b\\u2026#\", \"e\\u2026en :: n\\u2026s#\", \"e\\u2026er :: iv\\u2026z\", \"e\\u2026er :: v\\u025dz#\", \"e\\u2026er :: v\\u025d\\u2026#\", \"e\\u2026er :: v\\u025d\\u2026#\", \"e\\u2026g# :: nb\\u2026\\u0261\", \"e\\u2026ho :: \\u028a\\u026b\\u2026#\", \"e\\u2026ho :: \\u028a\\u026b\\u2026#\", \"e\\u2026in :: \\u025d\\u026a\\u014b#\", \"e\\u2026in :: \\u025d\\u026a\\u014b#\", \"e\\u2026in :: \\u025d\\u026a\\u014b#\", \"e\\u2026le :: \\u025b\\u026b\\u025d#\", \"e\\u2026le :: \\u025b\\u026b\\u2026#\", \"e\\u2026le :: \\u025b\\u026b\\u2026#\", \"e\\u2026le :: \\u025b\\u026b\\u2026#\", \"e\\u2026le :: \\u025b\\u2026\\u025d#\", \"e\\u2026le :: \\u025b\\u2026\\u025d#\", \"e\\u2026le :: \\u025b\\u2026\\u025d#\", \"e\\u2026ler :: \\u025b\\u026b\\u025d#\", \"e\\u2026ma :: m\\u0259n#\", \"e\\u2026ma :: m\\u0259n#\", \"e\\u2026ma :: m\\u0259n#\", \"e\\u2026ma :: m\\u0259n#\", \"e\\u2026ma :: m\\u0259n#\", \"e\\u2026ma :: m\\u0259n#\", \"e\\u2026ma :: m\\u0259n#\", \"e\\u2026ma :: m\\u0259\\u2026#\", \"e\\u2026ma :: m\\u0259\\u2026#\", \"e\\u2026ma :: m\\u0259\\u2026#\", \"e\\u2026ma :: m\\u0259\\u2026#\", \"e\\u2026ma :: m\\u0259\\u2026#\", \"e\\u2026ma :: m\\u0259\\u2026#\", \"e\\u2026ma :: m\\u0259\\u2026#\", \"e\\u2026ma :: m\\u0259\\u2026#\", \"e\\u2026ma :: m\\u0259\\u2026#\", \"e\\u2026ma :: m\\u2026n#\", \"e\\u2026ma :: m\\u2026n#\", \"e\\u2026ma :: m\\u2026n#\", \"e\\u2026ma :: m\\u2026n#\", \"e\\u2026ma :: m\\u2026n#\", \"e\\u2026ma :: m\\u2026n#\", \"e\\u2026ma :: \\u025dm\\u0259n\", \"e\\u2026ma :: \\u025dm\\u0259n\", \"e\\u2026ma :: \\u025dm\\u0259n\", \"e\\u2026ma :: \\u025dm\\u2026n\", \"e\\u2026ma :: \\u025dm\\u2026n\", \"e\\u2026ma :: \\u025d\\u2026\\u0259n\", \"e\\u2026ma :: \\u025d\\u2026\\u0259n\", \"e\\u2026ma :: \\u025d\\u2026\\u0259n\", \"e\\u2026ma :: \\u026bm\\u0259n\", \"e\\u2026ma :: \\u026bm\\u2026n\", \"e\\u2026ma :: \\u026bm\\u2026n\", \"e\\u2026ma :: \\u026b\\u2026\\u0259n\", \"e\\u2026ne :: n\\u0259s#\", \"e\\u2026ne :: n\\u0259s#\", \"e\\u2026ne :: n\\u0259s#\", \"e\\u2026ne :: n\\u0259\\u2026#\", \"e\\u2026ne :: n\\u0259\\u2026#\", \"e\\u2026ne :: n\\u2026s#\", \"e\\u2026ne :: n\\u2026s#\", \"e\\u2026ry :: b\\u025b\\u2026i\", \"e\\u2026s# :: in\\u0259s\", \"e\\u2026s# :: in\\u2026s\", \"e\\u2026s# :: in\\u2026s\", \"e\\u2026s# :: iv\\u025dz\", \"e\\u2026s# :: iv\\u2026z\", \"e\\u2026s# :: iv\\u2026z\", \"e\\u2026s# :: i\\u2026\\u025dz\", \"e\\u2026s# :: i\\u2026\\u025dz\", \"e\\u2026s# :: i\\u2026\\u025dz\", \"e\\u2026s# :: i\\u2026\\u025dz\", \"e\\u2026s# :: k\\u025dz#\", \"e\\u2026s# :: k\\u025dz#\", \"e\\u2026s# :: k\\u025dz#\", \"e\\u2026s# :: k\\u025dz#\", \"e\\u2026s# :: k\\u025dz#\", \"e\\u2026s# :: k\\u025dz#\", \"e\\u2026s# :: k\\u025d\\u2026#\", \"e\\u2026s# :: k\\u025d\\u2026#\", \"e\\u2026s# :: k\\u025d\\u2026#\", \"e\\u2026s# :: k\\u025d\\u2026#\", \"e\\u2026s# :: n\\u0259s#\", \"e\\u2026s# :: n\\u0259s#\", \"e\\u2026s# :: n\\u0259s#\", \"e\\u2026s# :: n\\u0259s#\", \"e\\u2026s# :: n\\u0259\\u2026#\", \"e\\u2026s# :: n\\u0259\\u2026#\", \"e\\u2026s# :: n\\u0259\\u2026#\", \"e\\u2026s# :: n\\u0259\\u2026#\", \"e\\u2026s# :: n\\u2026s#\", \"e\\u2026s# :: n\\u2026s#\", \"e\\u2026s# :: n\\u2026s#\", \"e\\u2026s# :: n\\u2026s#\", \"e\\u2026s# :: n\\u2026s#\", \"e\\u2026s# :: n\\u2026z#\", \"e\\u2026s# :: n\\u2026z#\", \"e\\u2026s# :: n\\u2026z#\", \"e\\u2026s# :: n\\u2026z#\", \"e\\u2026s# :: t\\u025dz#\", \"e\\u2026s# :: t\\u025dz#\", \"e\\u2026s# :: t\\u025dz#\", \"e\\u2026s# :: t\\u025d\\u2026#\", \"e\\u2026s# :: t\\u025d\\u2026#\", \"e\\u2026s# :: t\\u025d\\u2026#\", \"e\\u2026s# :: t\\u025d\\u2026#\", \"e\\u2026s# :: t\\u2026z#\", \"e\\u2026s# :: t\\u2026z#\", \"e\\u2026s# :: t\\u2026z#\", \"e\\u2026s# :: t\\u2026z#\", \"e\\u2026s# :: t\\u2026z#\", \"e\\u2026s# :: t\\u2026z#\", \"e\\u2026s# :: t\\u2026z#\", \"e\\u2026s# :: t\\u2026\\u0259s\", \"e\\u2026s# :: t\\u2026\\u0259s\", \"e\\u2026s# :: t\\u2026\\u0259s\", \"e\\u2026s# :: v\\u025dz#\", \"e\\u2026s# :: v\\u025dz#\", \"e\\u2026s# :: v\\u025d\\u2026#\", \"e\\u2026s# :: v\\u025d\\u2026#\", \"e\\u2026s# :: v\\u2026z#\", \"e\\u2026s# :: v\\u2026z#\", \"e\\u2026s# :: v\\u2026z#\", \"e\\u2026s# :: \\u0259\\u2026n\\u0259\", \"e\\u2026s# :: \\u0259\\u2026n\\u0259\", \"e\\u2026s# :: \\u0259\\u2026n\\u0259\", \"e\\u2026s# :: \\u028a\\u2026z#\", \"e\\u2026s# :: \\u028a\\u2026z#\", \"e\\u2026s# :: \\u028a\\u2026z#\", \"e\\u2026s# :: \\u028a\\u2026z#\", \"e\\u2026s# :: \\u028a\\u2026z#\", \"e\\u2026s# :: \\u028a\\u2026z#\", \"e\\u2026se :: s\\u2026\\u026b#\", \"e\\u2026si :: s\\u026a\\u014b#\", \"e\\u2026si :: s\\u2026\\u014b#\", \"e\\u2026t' :: nt\\u2026#\", \"e\\u2026t' :: nt\\u2026#\", \"e\\u2026ta :: \\u025bt\\u0259#\", \"e\\u2026ta :: \\u025bt\\u2026#\", \"e\\u2026te :: kw\\u2026s\", \"e\\u2026te :: \\u025d\\u025bt#\", \"e\\u2026te :: \\u026b\\u025bt#\", \"e\\u2026ty :: tw\\u025bn\", \"e\\u2026ty :: t\\u2026\\u025bn\", \"e\\u2026ty :: t\\u2026\\u025bn\", \"e\\u2026ty :: \\u025dti#\", \"e\\u2026ve :: iv\\u025dz\", \"e\\u2026ve :: iv\\u2026z\", \"e\\u2026ve :: iv\\u2026z\", \"e\\u2026ve :: i\\u2026\\u025dz\", \"e\\u2026ve :: v\\u025dz#\", \"e\\u2026ve :: v\\u025d\\u2026#\", \"e\\u2026ve :: v\\u025d\\u2026#\", \"e\\u2026ve :: v\\u2026z#\", \"e\\u2026ver :: iv\\u2026z\", \"fa\\u2026l :: f\\u0251\\u2026\\u026b\", \"fa\\u2026l :: f\\u2026\\u0279\\u026b\", \"fing :: f\\u2026\\u014b#\", \"flei :: f\\u026b\\u2026\\u026a\", \"fl\\u2026i :: f\\u2026a\\u026a\", \"ford :: f\\u025dd#\", \"ford :: f\\u025d\\u2026#\", \"ford :: f\\u025d\\u2026#\", \"fo\\u2026d :: f\\u025d\\u2026#\", \"fo\\u2026d :: f\\u025d\\u2026#\", \"fo\\u2026d :: f\\u2026d#\", \"fo\\u2026d :: f\\u2026d#\", \"f\\u2026ei :: f\\u026ba\\u026a\", \"f\\u2026ng :: f\\u026a\\u014b#\", \"f\\u2026ng :: f\\u026a\\u014b#\", \"f\\u2026ng :: f\\u026a\\u2026#\", \"f\\u2026ng :: f\\u026a\\u2026#\", \"f\\u2026ng :: f\\u2026\\u014b#\", \"f\\u2026ng :: f\\u2026\\u014b#\", \"f\\u2026rd :: f\\u025dd#\", \"f\\u2026rd :: f\\u025dd#\", \"f\\u2026rd :: f\\u025d\\u2026#\", \"f\\u2026rd :: f\\u025d\\u2026#\", \"f\\u2026rd :: f\\u2026d#\", \"f\\u2026rd :: f\\u2026d#\", \"f\\u2026rd :: f\\u2026d#\", \"ger# :: d\\u2026\\u025d#\", \"ger# :: d\\u2026\\u025d#\", \"ger# :: d\\u2026\\u025d#\", \"ger# :: d\\u2026\\u025d#\", \"ger# :: d\\u2026\\u025d#\", \"ger# :: nd\\u0292\\u025d\", \"ger# :: n\\u2026\\u0292\\u025d\", \"ger# :: n\\u2026\\u0292\\u025d\", \"ger# :: \\u026and\\u0292\", \"ger# :: \\u026a\\u014b\\u025d#\", \"ger# :: \\u026a\\u014b\\u2026#\", \"ger# :: \\u026a\\u014b\\u2026#\", \"ger# :: \\u026a\\u2026\\u025d#\", \"ger# :: \\u026a\\u2026\\u025d#\", \"ger# :: \\u026a\\u2026\\u025d#\", \"ge\\u2026# :: d\\u0292\\u026az\", \"ge\\u2026# :: d\\u0292\\u2026#\", \"ge\\u2026# :: d\\u0292\\u2026#\", \"ge\\u2026# :: d\\u0292\\u2026#\", \"ge\\u2026# :: d\\u0292\\u2026#\", \"ge\\u2026# :: d\\u0292\\u2026#\", \"ge\\u2026# :: d\\u0292\\u2026#\", \"ge\\u2026# :: d\\u0292\\u2026#\", \"ge\\u2026# :: d\\u0292\\u2026#\", \"ge\\u2026# :: d\\u0292\\u2026#\", \"ge\\u2026# :: d\\u0292\\u2026#\", \"ge\\u2026# :: nd\\u0292\\u025d\", \"ge\\u2026# :: nd\\u2026\\u025d\", \"ge\\u2026# :: nd\\u2026\\u025d\", \"ge\\u2026# :: nd\\u2026\\u025d\", \"ge\\u2026# :: nd\\u2026\\u025d\", \"ge\\u2026# :: n\\u2026\\u0292\\u025d\", \"ge\\u2026# :: n\\u2026\\u0292\\u025d\", \"ge\\u2026# :: \\u026a\\u014b\\u2026#\", \"ge\\u2026# :: \\u026a\\u014b\\u2026#\", \"ge\\u2026# :: \\u026a\\u014b\\u2026#\", \"gl\\u2026# :: \\u026a\\u014b\\u2026i\", \"gton :: t\\u0259n#\", \"gton :: t\\u2026n#\", \"gton :: \\u014bt\\u0259n\", \"gt\\u2026n :: t\\u0259n#\", \"gt\\u2026n :: t\\u0259\\u2026#\", \"gt\\u2026n :: \\u014bt\\u2026n\", \"gt\\u2026n :: \\u014b\\u2026\\u0259n\", \"gt\\u2026n :: \\u014b\\u2026\\u0259n\", \"gt\\u2026n :: \\u014b\\u2026\\u0259n\", \"gt\\u2026n :: \\u026a\\u014b\\u2026\\u0259\", \"gt\\u2026n :: \\u026a\\u014b\\u2026\\u0259\", \"g\\u2026on :: t\\u0259\\u2026#\", \"g\\u2026on :: t\\u0259\\u2026#\", \"g\\u2026on :: t\\u0259\\u2026#\", \"g\\u2026on :: t\\u0259\\u2026#\", \"g\\u2026on :: \\u014bt\\u2026n\", \"g\\u2026on :: \\u026a\\u2026t\\u0259\", \"g\\u2026on :: \\u026a\\u2026t\\u0259\", \"g\\u2026or :: \\u0292\\u0254\\u2026d\", \"g\\u2026r# :: d\\u0292\\u025d#\", \"g\\u2026r# :: d\\u0292\\u025d#\", \"g\\u2026r# :: d\\u0292\\u025d#\", \"g\\u2026r# :: d\\u0292\\u025d#\", \"g\\u2026r# :: d\\u0292\\u025d#\", \"g\\u2026r# :: \\u014b\\u0261\\u025d#\", \"g\\u2026r# :: \\u014b\\u0261\\u025d#\", \"g\\u2026r# :: \\u014b\\u0261\\u2026#\", \"g\\u2026r# :: \\u014b\\u0261\\u2026#\", \"g\\u2026r# :: \\u014b\\u2026\\u025d#\", \"g\\u2026r# :: \\u014b\\u2026\\u025d#\", \"g\\u2026r# :: \\u026a\\u014b\\u025d#\", \"her# :: t\\u0283\\u025d#\", \"he\\u2026# :: t\\u0283\\u025d#\", \"hold :: o\\u028a\\u026bd\", \"ho\\u2026d :: o\\u028a\\u026bd\", \"ho\\u2026d :: o\\u028a\\u2026d\", \"ho\\u2026d :: o\\u2026\\u026bd\", \"ho\\u2026d :: \\u028a\\u026bd#\", \"ho\\u2026d :: \\u028a\\u026b\\u2026#\", \"ho\\u2026d :: \\u028a\\u2026d#\", \"ho\\u2026d :: \\u028a\\u2026d#\", \"h\\u2026mp :: h\\u2026mp\", \"h\\u2026mp :: h\\u2026mp\", \"h\\u2026r# :: t\\u2026\\u025d#\", \"ian# :: i\\u0259n#\", \"ian# :: i\\u0259n#\", \"ian# :: i\\u0259n#\", \"ian# :: i\\u0259n#\", \"ian# :: i\\u0259\\u2026#\", \"ian# :: i\\u0259\\u2026#\", \"ian# :: i\\u0259\\u2026#\", \"ian# :: i\\u2026n#\", \"ian# :: i\\u2026n#\", \"ian# :: i\\u2026n#\", \"ian# :: \\u0279i\\u0259n\", \"ian# :: \\u0279i\\u2026n\", \"ian# :: \\u0279i\\u2026n\", \"ian# :: \\u0279\\u2026\\u0259n\", \"ian# :: \\u0279\\u2026\\u0259n\", \"ian# :: \\u0279\\u2026\\u0259n\", \"ian# :: \\u0279\\u2026\\u0259n\", \"ia\\u2026# :: i\\u0259n#\", \"ia\\u2026# :: i\\u0259n#\", \"ia\\u2026# :: i\\u0259n#\", \"ia\\u2026# :: i\\u0259\\u2026#\", \"ia\\u2026# :: i\\u0259\\u2026#\", \"ia\\u2026# :: i\\u0259\\u2026#\", \"ia\\u2026# :: i\\u0259\\u2026#\", \"ia\\u2026# :: i\\u0259\\u2026#\", \"ia\\u2026# :: i\\u0259\\u2026#\", \"ia\\u2026# :: i\\u0259\\u2026#\", \"ia\\u2026# :: i\\u2026n#\", \"ia\\u2026# :: i\\u2026n#\", \"ia\\u2026# :: i\\u2026n#\", \"ia\\u2026# :: \\u0279i\\u0259n\", \"ia\\u2026# :: \\u0279i\\u2026n\", \"ia\\u2026# :: \\u0279i\\u2026n\", \"ia\\u2026# :: \\u0279\\u2026\\u0259n\", \"ia\\u2026# :: \\u0279\\u2026\\u0259n\", \"ico# :: ko\\u028a#\", \"ico# :: ko\\u028a#\", \"ico# :: ko\\u2026#\", \"ico# :: ko\\u2026#\", \"ico# :: k\\u2026\\u028a#\", \"ico# :: k\\u2026\\u028a#\", \"ico# :: \\u026ako\\u028a\", \"ico# :: \\u026ak\\u2026\\u028a\", \"ico# :: \\u026ak\\u2026\\u028a\", \"ico# :: \\u026ak\\u2026\\u028a\", \"ico# :: \\u026a\\u2026o\\u028a\", \"ico# :: \\u026a\\u2026o\\u028a\", \"ic\\u2026# :: ko\\u028a#\", \"ic\\u2026# :: ko\\u028a#\", \"ic\\u2026# :: ko\\u028a#\", \"ic\\u2026# :: ko\\u2026#\", \"ic\\u2026# :: ko\\u2026#\", \"ic\\u2026# :: k\\u2026\\u028a#\", \"ic\\u2026# :: k\\u2026\\u028a#\", \"ic\\u2026# :: k\\u2026\\u028a#\", \"ic\\u2026# :: k\\u2026\\u028a#\", \"ic\\u2026# :: \\u026ako\\u028a\", \"ic\\u2026# :: \\u026ako\\u028a\", \"ic\\u2026# :: \\u026aks#\", \"ic\\u2026# :: \\u026ak\\u2026\\u028a\", \"ic\\u2026# :: \\u026ak\\u2026\\u028a\", \"ic\\u2026# :: \\u026a\\u2026o\\u028a\", \"ic\\u2026l :: k\\u0259\\u026b#\", \"ic\\u2026s :: \\u026aks#\", \"ic\\u2026s :: \\u026ak\\u2026#\", \"ic\\u2026s :: \\u026a\\u2026s#\", \"idge :: \\u026ad\\u0292#\", \"idge :: \\u026a\\u2026\\u0292#\", \"id\\u2026e :: \\u026ad\\u0292#\", \"ield :: i\\u026bdz\", \"ield :: \\u026bdz#\", \"ield :: \\u026b\\u2026z#\", \"ifer :: \\u026a\\u2026\\u025d#\", \"if\\u2026r :: \\u026af\\u025d#\", \"if\\u2026r :: \\u026af\\u025d#\", \"if\\u2026r :: \\u026af\\u025d#\", \"if\\u2026r :: \\u026af\\u2026#\", \"if\\u2026r :: \\u026af\\u2026#\", \"if\\u2026r :: \\u026af\\u2026#\", \"if\\u2026r :: \\u026a\\u2026\\u025d#\", \"if\\u2026r :: \\u026a\\u2026\\u025d#\", \"ik\\u2026# :: ik\\u2026#\", \"ik\\u2026# :: ik\\u2026#\", \"illo :: \\u026bo\\u2026#\", \"il\\u2026d :: \\u026a\\u026b\\u2026#\", \"il\\u2026d :: \\u026a\\u026b\\u2026#\", \"il\\u2026d :: \\u026a\\u026b\\u2026#\", \"il\\u2026d :: \\u026a\\u2026d#\", \"il\\u2026e :: \\u0259nz#\", \"ines :: in\\u0259s\", \"ines :: in\\u0259s\", \"ines :: in\\u0259s\", \"ines :: i\\u2026\\u0259s\", \"ines :: n\\u0259s#\", \"ines :: n\\u0259s#\", \"ines :: n\\u0259s#\", \"ines :: n\\u0259s#\", \"ines :: n\\u0259\\u2026#\", \"ines :: n\\u0259\\u2026#\", \"ing# :: b\\u025d\\u026a\\u014b\", \"ing# :: b\\u025d\\u2026\\u014b\", \"ing# :: b\\u025d\\u2026\\u014b\", \"ing# :: s\\u026a\\u014b#\", \"ing# :: s\\u026a\\u014b#\", \"ing# :: s\\u026a\\u014b#\", \"ing# :: s\\u026a\\u2026#\", \"ing# :: s\\u026a\\u2026#\", \"ing# :: s\\u026a\\u2026#\", \"ing# :: s\\u2026\\u014b#\", \"ing# :: s\\u2026\\u014b#\", \"ing# :: s\\u2026\\u014b#\", \"ing# :: s\\u2026\\u014b#\", \"ing# :: s\\u2026\\u014b#\", \"ing# :: s\\u2026\\u014b#\", \"ing# :: t\\u026a\\u014b#\", \"ing# :: t\\u026a\\u014b#\", \"ing# :: t\\u026a\\u014b#\", \"ing# :: t\\u026a\\u014b#\", \"ing# :: t\\u026a\\u2026#\", \"ing# :: t\\u026a\\u2026#\", \"ing# :: t\\u026a\\u2026#\", \"ing# :: t\\u026a\\u2026#\", \"ing# :: t\\u2026\\u014b#\", \"ing# :: t\\u2026\\u014b#\", \"ing# :: t\\u2026\\u014b#\", \"ing# :: t\\u2026\\u014b#\", \"ing# :: t\\u2026\\u014b#\", \"ing# :: \\u0259n\\u026a\\u014b\", \"ing# :: \\u0259t\\u026a\\u014b\", \"ing# :: \\u0259t\\u2026\\u014b\", \"ing# :: \\u0259t\\u2026\\u014b\", \"ing# :: \\u0259t\\u2026\\u014b\", \"ing# :: \\u0259\\u2026\\u026a\\u014b\", \"ing# :: \\u0259\\u2026\\u026a\\u014b\", \"ing# :: \\u0259\\u2026\\u026a\\u014b\", \"ing# :: \\u0259\\u2026\\u026a\\u014b\", \"ing# :: \\u0259\\u2026\\u026a\\u014b\", \"ing# :: \\u0259\\u2026\\u026a\\u014b\", \"ing# :: \\u025dt\\u026a\\u014b\", \"ing# :: \\u025d\\u026a\\u014b#\", \"ing# :: \\u025d\\u026a\\u014b#\", \"ing# :: \\u025d\\u026a\\u014b#\", \"ing# :: \\u025d\\u026a\\u014b#\", \"ing# :: \\u025d\\u026a\\u014b#\", \"ing# :: \\u025d\\u026a\\u014b#\", \"ing# :: \\u025d\\u026a\\u2026#\", \"ing# :: \\u025d\\u026a\\u2026#\", \"ing# :: \\u025d\\u026a\\u2026#\", \"ing# :: \\u025d\\u026a\\u2026#\", \"ing# :: \\u025d\\u2026\\u014b#\", \"ing# :: \\u025d\\u2026\\u014b#\", \"ing# :: \\u025d\\u2026\\u014b#\", \"ing# :: \\u025d\\u2026\\u014b#\", \"ing# :: \\u025d\\u2026\\u014b#\", \"ing# :: \\u026a\\u2026\\u025d\\u026a\", \"ing# :: \\u026b\\u026a\\u014b#\", \"ing# :: \\u026b\\u026a\\u014b#\", \"ing# :: \\u026b\\u026a\\u014b#\", \"ing# :: \\u026b\\u026a\\u014b#\", \"ing# :: \\u026b\\u026a\\u014b#\", \"ing# :: \\u026b\\u026a\\u2026#\", \"ing# :: \\u026b\\u026a\\u2026#\", \"ing# :: \\u026b\\u026a\\u2026#\", \"ing# :: \\u026b\\u026a\\u2026#\", \"ing# :: \\u026b\\u2026\\u014b#\", \"ing# :: \\u026b\\u2026\\u014b#\", \"ing# :: \\u026b\\u2026\\u014b#\", \"ing# :: \\u026b\\u2026\\u014b#\", \"ing# :: \\u026b\\u2026\\u014b#\", \"ing# :: \\u026b\\u2026\\u014b#\", \"ing# :: \\u026b\\u2026\\u014b#\", \"ing# :: \\u028a\\u2026\\u026a\\u014b\", \"ing# :: \\u028a\\u2026\\u026a\\u014b\", \"ing# :: \\u028a\\u2026\\u026a\\u014b\", \"ing# :: \\u028a\\u2026\\u026a\\u014b\", \"ing# :: \\u028a\\u2026\\u026a\\u014b\", \"ing# :: \\u028a\\u2026\\u026a\\u014b\", \"inge :: d\\u0292\\u2026#\", \"inge :: n\\u2026\\u0292\\u025d\", \"inge :: n\\u2026\\u0292\\u025d\", \"inge :: \\u026an\\u2026\\u0292\", \"inge :: \\u026a\\u014b\\u025d#\", \"inge :: \\u026a\\u014b\\u2026#\", \"inge :: \\u026a\\u2026\\u025d#\", \"inge :: \\u026a\\u2026\\u025d#\", \"ings :: \\u026a\\u014bz#\", \"ings :: \\u026a\\u014bz#\", \"ings :: \\u026a\\u014bz#\", \"ings :: \\u026a\\u014bz#\", \"ings :: \\u026a\\u014bz#\", \"ings :: \\u026a\\u014bz#\", \"ings :: \\u026a\\u014bz#\", \"ings :: \\u026a\\u014bz#\", \"ings :: \\u026a\\u014b\\u2026#\", \"ings :: \\u026a\\u014b\\u2026#\", \"ings :: \\u026a\\u014b\\u2026#\", \"ings :: \\u026a\\u014b\\u2026#\", \"ings :: \\u026a\\u014b\\u2026#\", \"ings :: \\u026a\\u2026z#\", \"ings :: \\u026a\\u2026z#\", \"ings :: \\u026a\\u2026z#\", \"ings :: \\u026a\\u2026z#\", \"ings :: \\u026a\\u2026z#\", \"ings :: \\u026a\\u2026z#\", \"ings :: \\u028a\\u2026\\u026a\\u014b\", \"ings :: \\u028a\\u2026\\u026a\\u014b\", \"ingt :: \\u014bt\\u0259n\", \"ingt :: \\u014bt\\u2026n\", \"ingt :: \\u014bt\\u2026n\", \"ingt :: \\u026a\\u014bt\\u0259\", \"ingt :: \\u026a\\u014bt\\u0259\", \"inte :: \\u026an\\u2026\\u025d\", \"inte :: \\u026a\\u2026t\\u025d\", \"inve :: v\\u025b\\u2026t\", \"inve :: \\u026anv\\u025b\", \"inve :: \\u026an\\u2026\\u025b\", \"inve :: \\u026a\\u2026v\\u025b\", \"inve :: \\u026a\\u2026v\\u025b\", \"in\\u2026# :: b\\u025d\\u2026\\u014b\", \"in\\u2026# :: in\\u2026#\", \"in\\u2026# :: in\\u2026#\", \"in\\u2026# :: in\\u2026#\", \"in\\u2026# :: in\\u2026#\", \"in\\u2026# :: in\\u2026#\", \"in\\u2026# :: in\\u2026#\", \"in\\u2026# :: in\\u2026#\", \"in\\u2026# :: in\\u2026#\", \"in\\u2026# :: in\\u2026#\", \"in\\u2026# :: k\\u026anz\", \"in\\u2026# :: k\\u026anz\", \"in\\u2026# :: k\\u026anz\", \"in\\u2026# :: k\\u026a\\u2026z\", \"in\\u2026# :: k\\u026a\\u2026z\", \"in\\u2026# :: k\\u026a\\u2026z\", \"in\\u2026# :: k\\u2026nz\", \"in\\u2026# :: k\\u2026nz\", \"in\\u2026# :: k\\u2026nz\", \"in\\u2026# :: k\\u2026nz\", \"in\\u2026# :: k\\u2026nz\", \"in\\u2026# :: k\\u2026\\u014b#\", \"in\\u2026# :: k\\u2026\\u014b#\", \"in\\u2026# :: k\\u2026\\u014b#\", \"in\\u2026# :: k\\u2026\\u014b#\", \"in\\u2026# :: k\\u2026\\u014b#\", \"in\\u2026# :: k\\u2026\\u014b#\", \"in\\u2026# :: n\\u026a\\u2026#\", \"in\\u2026# :: n\\u026a\\u2026#\", \"in\\u2026# :: n\\u026a\\u2026#\", \"in\\u2026# :: n\\u026a\\u2026#\", \"in\\u2026# :: o\\u028a\\u2026\\u026a\", \"in\\u2026# :: o\\u028a\\u2026\\u026a\", \"in\\u2026# :: o\\u028a\\u2026\\u026a\", \"in\\u2026# :: o\\u028a\\u2026\\u026a\", \"in\\u2026# :: o\\u028a\\u2026\\u026a\", \"in\\u2026# :: o\\u028a\\u2026\\u026a\", \"in\\u2026# :: o\\u028a\\u2026\\u026a\", \"in\\u2026# :: o\\u028a\\u2026\\u026a\", \"in\\u2026# :: s\\u026a\\u014b#\", \"in\\u2026# :: s\\u026a\\u014b#\", \"in\\u2026# :: s\\u026a\\u014b#\", \"in\\u2026# :: s\\u026a\\u2026#\", \"in\\u2026# :: s\\u026a\\u2026#\", \"in\\u2026# :: s\\u026a\\u2026#\", \"in\\u2026# :: s\\u2026\\u014b#\", \"in\\u2026# :: s\\u2026\\u014b#\", \"in\\u2026# :: s\\u2026\\u014b#\", \"in\\u2026# :: s\\u2026\\u014b#\", \"in\\u2026# :: s\\u2026\\u014b#\", \"in\\u2026# :: s\\u2026\\u014b#\", \"in\\u2026# :: t\\u025d\\u2026\\u014b\", \"in\\u2026# :: t\\u025d\\u2026\\u014b\", \"in\\u2026# :: t\\u026a\\u014b#\", \"in\\u2026# :: t\\u026a\\u014b#\", \"in\\u2026# :: t\\u026a\\u014b#\", \"in\\u2026# :: t\\u026a\\u014b#\", \"in\\u2026# :: t\\u026a\\u014b#\", \"in\\u2026# :: t\\u026a\\u014b#\", \"in\\u2026# :: t\\u026a\\u2026#\", \"in\\u2026# :: t\\u026a\\u2026#\", \"in\\u2026# :: t\\u026a\\u2026#\", \"in\\u2026# :: t\\u026a\\u2026#\", \"in\\u2026# :: t\\u026a\\u2026#\", \"in\\u2026# :: t\\u2026\\u014b#\", \"in\\u2026# :: t\\u2026\\u014b#\", \"in\\u2026# :: t\\u2026\\u014b#\", \"in\\u2026# :: t\\u2026\\u014b#\", \"in\\u2026# :: t\\u2026\\u014b#\", \"in\\u2026# :: \\u0259t\\u026a\\u014b\", \"in\\u2026# :: \\u0259t\\u2026\\u014b\", \"in\\u2026# :: \\u0259\\u2026\\u026a\\u014b\", \"in\\u2026# :: \\u0259\\u2026\\u026a\\u014b\", \"in\\u2026# :: \\u0259\\u2026\\u026a\\u014b\", \"in\\u2026# :: \\u0259\\u2026\\u026a\\u014b\", \"in\\u2026# :: \\u0259\\u2026\\u026a\\u014b\", \"in\\u2026# :: \\u0259\\u2026\\u026a\\u014b\", \"in\\u2026# :: \\u0259\\u2026\\u026a\\u014b\", \"in\\u2026# :: \\u0259\\u2026\\u026a\\u014b\", \"in\\u2026# :: \\u025dt\\u026a\\u014b\", \"in\\u2026# :: \\u025dt\\u026a\\u014b\", \"in\\u2026# :: \\u025d\\u026a\\u014b#\", \"in\\u2026# :: \\u025d\\u026a\\u014b#\", \"in\\u2026# :: \\u025d\\u026a\\u014b#\", \"in\\u2026# :: \\u025d\\u026a\\u014b#\", \"in\\u2026# :: \\u025d\\u026a\\u2026#\", \"in\\u2026# :: \\u025d\\u026a\\u2026#\", \"in\\u2026# :: \\u025d\\u026a\\u2026#\", \"in\\u2026# :: \\u025d\\u2026\\u014b#\", \"in\\u2026# :: \\u025d\\u2026\\u014b#\", \"in\\u2026# :: \\u025d\\u2026\\u014b#\", \"in\\u2026# :: \\u025d\\u2026\\u014b#\", \"in\\u2026# :: \\u025d\\u2026\\u014b#\", \"in\\u2026# :: \\u025d\\u2026\\u014b#\", \"in\\u2026# :: \\u025d\\u2026\\u014b#\", \"in\\u2026# :: \\u026anz#\", \"in\\u2026# :: \\u026anz#\", \"in\\u2026# :: \\u026anz#\", \"in\\u2026# :: \\u026anz#\", \"in\\u2026# :: \\u026anz#\", \"in\\u2026# :: \\u026anz#\", \"in\\u2026# :: \\u026an\\u2026#\", \"in\\u2026# :: \\u026an\\u2026#\", \"in\\u2026# :: \\u026an\\u2026#\", \"in\\u2026# :: \\u026an\\u2026#\", \"in\\u2026# :: \\u026an\\u2026#\", \"in\\u2026# :: \\u026an\\u2026#\", \"in\\u2026# :: \\u026an\\u2026#\", \"in\\u2026# :: \\u026an\\u2026#\", \"in\\u2026# :: \\u026an\\u2026#\", \"in\\u2026# :: \\u026an\\u2026#\", \"in\\u2026# :: \\u026an\\u2026#\", \"in\\u2026# :: \\u026ba\\u2026n\", \"in\\u2026# :: \\u026ba\\u2026n\", \"in\\u2026# :: \\u026b\\u026a\\u014b#\", \"in\\u2026# :: \\u026b\\u026a\\u014b#\", \"in\\u2026# :: \\u026b\\u026a\\u014b#\", \"in\\u2026# :: \\u026b\\u026a\\u014b#\", \"in\\u2026# :: \\u026b\\u026a\\u2026#\", \"in\\u2026# :: \\u026b\\u026a\\u2026#\", \"in\\u2026# :: \\u026b\\u026a\\u2026#\", \"in\\u2026# :: \\u026b\\u026a\\u2026#\", \"in\\u2026# :: \\u026b\\u026a\\u2026#\", \"in\\u2026# :: \\u026b\\u026a\\u2026#\", \"in\\u2026# :: \\u026b\\u026a\\u2026#\", \"in\\u2026# :: \\u026b\\u2026\\u014b#\", \"in\\u2026# :: \\u026b\\u2026\\u014b#\", \"in\\u2026# :: \\u026b\\u2026\\u014b#\", \"in\\u2026# :: \\u026b\\u2026\\u014b#\", \"in\\u2026# :: \\u026b\\u2026\\u014b#\", \"in\\u2026# :: \\u026b\\u2026\\u014b#\", \"in\\u2026# :: \\u026b\\u2026\\u014b#\", \"in\\u2026e :: d\\u0292\\u2026#\", \"in\\u2026e :: v\\u025b\\u2026t\", \"in\\u2026e :: w\\u2026nt\", \"in\\u2026e :: \\u026anv\\u025b\", \"in\\u2026e :: \\u026an\\u2026\\u025d\", \"in\\u2026e :: \\u026an\\u2026\\u025d\", \"in\\u2026e :: \\u026an\\u2026\\u025d\", \"in\\u2026e :: \\u026an\\u2026\\u025d\", \"in\\u2026e :: \\u026an\\u2026\\u025d\", \"in\\u2026e :: \\u026a\\u014b\\u025d#\", \"in\\u2026e :: \\u026a\\u014b\\u2026#\", \"in\\u2026e :: \\u026a\\u014b\\u2026#\", \"in\\u2026e :: \\u026a\\u014b\\u2026#\", \"in\\u2026e :: \\u026a\\u014b\\u2026#\", \"in\\u2026e :: \\u026a\\u014b\\u2026#\", \"in\\u2026e :: \\u026a\\u2026v\\u025b\", \"in\\u2026e :: \\u026a\\u2026\\u025d#\", \"in\\u2026e :: \\u026a\\u2026\\u025d#\", \"in\\u2026e :: \\u026a\\u2026\\u025d#\", \"in\\u2026k :: nski\", \"in\\u2026l :: \\u026a\\u014b\\u026bi\", \"in\\u2026l :: \\u026a\\u2026\\u026bi\", \"in\\u2026s :: in\\u0259s\", \"in\\u2026s :: in\\u0259s\", \"in\\u2026s :: in\\u0259s\", \"in\\u2026s :: in\\u0259s\", \"in\\u2026s :: in\\u2026#\", \"in\\u2026s :: in\\u2026#\", \"in\\u2026s :: in\\u2026s\", \"in\\u2026s :: in\\u2026s\", \"in\\u2026s :: in\\u2026s\", \"in\\u2026s :: in\\u2026s\", \"in\\u2026s :: i\\u2026\\u0259s\", \"in\\u2026s :: i\\u2026\\u0259s\", \"in\\u2026s :: i\\u2026\\u0259s\", \"in\\u2026s :: i\\u2026\\u0259s\", \"in\\u2026s :: n\\u0259s#\", \"in\\u2026s :: n\\u0259s#\", \"in\\u2026s :: n\\u0259\\u2026#\", \"in\\u2026s :: n\\u0259\\u2026#\", \"in\\u2026s :: n\\u0259\\u2026#\", \"in\\u2026s :: n\\u0259\\u2026#\", \"in\\u2026s :: n\\u2026s#\", \"in\\u2026s :: n\\u2026s#\", \"in\\u2026s :: n\\u2026s#\", \"in\\u2026s :: n\\u2026s#\", \"in\\u2026s :: \\u026a\\u014bz#\", \"in\\u2026s :: \\u026a\\u014bz#\", \"in\\u2026s :: \\u026a\\u014bz#\", \"in\\u2026s :: \\u026a\\u014bz#\", \"in\\u2026s :: \\u026a\\u014bz#\", \"in\\u2026s :: \\u026a\\u014bz#\", \"in\\u2026s :: \\u026a\\u014bz#\", \"in\\u2026s :: \\u026a\\u014bz#\", \"in\\u2026s :: \\u026a\\u014bz#\", \"in\\u2026s :: \\u026a\\u014b\\u2026#\", \"in\\u2026s :: \\u026a\\u014b\\u2026#\", \"in\\u2026s :: \\u026a\\u014b\\u2026#\", \"in\\u2026s :: \\u026a\\u014b\\u2026#\", \"in\\u2026s :: \\u026a\\u014b\\u2026#\", \"in\\u2026s :: \\u026a\\u014b\\u2026#\", \"in\\u2026s :: \\u026a\\u2026z#\", \"in\\u2026s :: \\u026a\\u2026z#\", \"in\\u2026s :: \\u026a\\u2026z#\", \"in\\u2026s :: \\u026a\\u2026z#\", \"in\\u2026s :: \\u026a\\u2026z#\", \"in\\u2026s :: \\u026a\\u2026z#\", \"in\\u2026s :: \\u026a\\u2026z#\", \"in\\u2026s :: \\u026a\\u2026z#\", \"in\\u2026s :: \\u026a\\u2026z#\", \"in\\u2026s :: \\u026a\\u2026z#\", \"in\\u2026s :: \\u026a\\u2026z#\", \"in\\u2026s :: \\u026a\\u2026z#\", \"in\\u2026s :: \\u028a\\u2026\\u026a\\u014b\", \"in\\u2026s :: \\u028a\\u2026\\u026a\\u014b\", \"in\\u2026s :: \\u028a\\u2026\\u026a\\u014b\", \"in\\u2026t :: t\\u0259n#\", \"in\\u2026t :: t\\u0259n#\", \"in\\u2026t :: \\u014b\\u2026\\u0259n\", \"in\\u2026t :: \\u014b\\u2026\\u0259n\", \"in\\u2026t :: \\u026a\\u014bt\\u0259\", \"in\\u2026t :: \\u026a\\u014b\\u2026\\u0259\", \"in\\u2026t :: \\u026a\\u014b\\u2026\\u0259\", \"ion# :: e\\u026a\\u0283\\u0259\", \"ion# :: e\\u026a\\u2026\\u0259\", \"ion# :: e\\u026a\\u2026\\u0259\", \"ion# :: e\\u026a\\u2026\\u0259\", \"ion# :: e\\u026a\\u2026\\u0259\", \"ion# :: \\u026a\\u0283\\u0259n\", \"ion# :: \\u026a\\u0283\\u2026n\", \"ion# :: \\u026a\\u2026\\u0259n\", \"ions :: \\u0259nz#\", \"ions :: \\u0259nz#\", \"ions :: \\u0259nz#\", \"ions :: \\u0259n\\u2026#\", \"ions :: \\u0259n\\u2026#\", \"ions :: \\u0259n\\u2026#\", \"ions :: \\u0259\\u2026z#\", \"ions :: \\u0259\\u2026z#\", \"ions :: \\u0259\\u2026z#\", \"ions :: \\u0259\\u2026z#\", \"io\\u2026# :: e\\u026a\\u2026\\u0259\", \"io\\u2026# :: e\\u026a\\u2026\\u0259\", \"io\\u2026# :: \\u026a\\u0283\\u0259n\", \"io\\u2026# :: \\u026a\\u0283\\u0259n\", \"io\\u2026# :: \\u026a\\u0283\\u2026n\", \"io\\u2026# :: \\u026a\\u0283\\u2026n\", \"io\\u2026# :: \\u026a\\u0283\\u2026n\", \"io\\u2026# :: \\u026a\\u2026\\u0259n\", \"io\\u2026# :: \\u026a\\u2026\\u0259n\", \"io\\u2026# :: \\u0283\\u0259n#\", \"io\\u2026# :: \\u0283\\u0259n#\", \"io\\u2026# :: \\u0283\\u2026n#\", \"io\\u2026# :: \\u0283\\u2026n#\", \"io\\u2026s :: \\u0259nz#\", \"io\\u2026s :: \\u0259nz#\", \"io\\u2026s :: \\u0259nz#\", \"io\\u2026s :: \\u0259nz#\", \"io\\u2026s :: \\u0259nz#\", \"io\\u2026s :: \\u0259n\\u2026#\", \"io\\u2026s :: \\u0259n\\u2026#\", \"io\\u2026s :: \\u0259n\\u2026#\", \"io\\u2026s :: \\u0259\\u2026z#\", \"io\\u2026s :: \\u0259\\u2026z#\", \"io\\u2026s :: \\u0259\\u2026z#\", \"irs# :: \\u025b\\u0279\\u2026#\", \"ist# :: n\\u2026st\", \"ist# :: n\\u2026st\", \"ist# :: \\u0259st#\", \"ist# :: \\u0259st#\", \"ist# :: \\u0259s\\u2026#\", \"ist# :: \\u0259s\\u2026#\", \"ist# :: \\u0259\\u2026t#\", \"ist# :: \\u0259\\u2026t#\", \"ists :: s\\u2026s#\", \"is\\u2026# :: n\\u2026st\", \"is\\u2026# :: n\\u2026st\", \"is\\u2026# :: n\\u2026st\", \"is\\u2026# :: \\u0259st#\", \"is\\u2026# :: \\u0259st#\", \"is\\u2026# :: \\u0259s\\u2026#\", \"is\\u2026# :: \\u0259s\\u2026#\", \"is\\u2026# :: \\u0259s\\u2026#\", \"is\\u2026# :: \\u0259\\u2026t#\", \"is\\u2026# :: \\u0259\\u2026t#\", \"is\\u2026s :: sts#\", \"is\\u2026s :: s\\u2026s#\", \"is\\u2026s :: s\\u2026s#\", \"it\\u2026# :: \\u026ats#\", \"it\\u2026# :: \\u026ats#\", \"it\\u2026# :: \\u026ats#\", \"it\\u2026# :: \\u026ats#\", \"it\\u2026# :: \\u026ats#\", \"it\\u2026# :: \\u026ats#\", \"it\\u2026# :: \\u026at\\u2026#\", \"it\\u2026# :: \\u026at\\u2026#\", \"it\\u2026# :: \\u026at\\u2026#\", \"it\\u2026# :: \\u026at\\u2026#\", \"it\\u2026# :: \\u026at\\u2026#\", \"it\\u2026# :: \\u026at\\u2026#\", \"it\\u2026# :: \\u026at\\u2026#\", \"it\\u2026# :: \\u026at\\u2026#\", \"it\\u2026# :: \\u026at\\u2026#\", \"it\\u2026# :: \\u026a\\u2026s#\", \"it\\u2026# :: \\u026a\\u2026s#\", \"it\\u2026# :: \\u026a\\u2026s#\", \"it\\u2026# :: \\u026a\\u2026s#\", \"it\\u2026# :: \\u026a\\u2026s#\", \"it\\u2026s :: \\u026ats#\", \"it\\u2026s :: \\u026ats#\", \"it\\u2026s :: \\u026a\\u2026s#\", \"it\\u2026s :: \\u026a\\u2026s#\", \"ive# :: s\\u026a\\u2026#\", \"iv\\u2026# :: s\\u026a\\u2026#\", \"ized :: a\\u026azd\", \"ized :: a\\u026azd\", \"ized :: a\\u026azd\", \"ized :: a\\u026a\\u2026d\", \"ized :: a\\u2026zd\", \"ized :: \\u0259\\u2026a\\u026a\", \"ized :: \\u026azd#\", \"ized :: \\u026az\\u2026#\", \"ized :: \\u026a\\u2026d#\", \"ized :: \\u026a\\u2026d#\", \"iz\\u2026d :: a\\u026azd\", \"iz\\u2026d :: a\\u026azd\", \"iz\\u2026d :: a\\u026azd\", \"iz\\u2026d :: a\\u026a\\u2026d\", \"iz\\u2026d :: a\\u2026zd\", \"iz\\u2026d :: a\\u2026zd\", \"iz\\u2026d :: \\u0259\\u2026a\\u026a\", \"iz\\u2026d :: \\u026azd#\", \"iz\\u2026d :: \\u026azd#\", \"iz\\u2026d :: \\u026azd#\", \"iz\\u2026d :: \\u026az\\u2026#\", \"iz\\u2026d :: \\u026az\\u2026#\", \"iz\\u2026d :: \\u026az\\u2026#\", \"iz\\u2026d :: \\u026a\\u2026d#\", \"iz\\u2026d :: \\u026a\\u2026d#\", \"i\\u2026e# :: a\\u026a\\u2026#\", \"i\\u2026e# :: a\\u026a\\u2026#\", \"i\\u2026e# :: a\\u026a\\u2026#\", \"i\\u2026e# :: a\\u026a\\u2026#\", \"i\\u2026e# :: a\\u026a\\u2026#\", \"i\\u2026e# :: a\\u026a\\u2026#\", \"i\\u2026e# :: a\\u026a\\u2026#\", \"i\\u2026e# :: a\\u026a\\u2026#\", \"i\\u2026e# :: a\\u026a\\u2026#\", \"i\\u2026e# :: a\\u026a\\u2026#\", \"i\\u2026e# :: a\\u026a\\u2026#\", \"i\\u2026e# :: a\\u026a\\u2026#\", \"i\\u2026e# :: a\\u026a\\u2026#\", \"i\\u2026e# :: a\\u026a\\u2026#\", \"i\\u2026e# :: a\\u026a\\u2026#\", \"i\\u2026e# :: a\\u026a\\u2026#\", \"i\\u2026e# :: a\\u026a\\u2026#\", \"i\\u2026e# :: a\\u026a\\u2026#\", \"i\\u2026e# :: s\\u026av#\", \"i\\u2026e# :: \\u026ba\\u2026n\", \"i\\u2026e# :: \\u026b\\u2026\\u026an\", \"i\\u2026ed :: a\\u026azd\", \"i\\u2026ed :: a\\u026azd\", \"i\\u2026ed :: a\\u026azd\", \"i\\u2026ed :: a\\u026a\\u2026d\", \"i\\u2026ed :: a\\u026a\\u2026d\", \"i\\u2026ed :: a\\u026a\\u2026d\", \"i\\u2026ed :: a\\u026a\\u2026d\", \"i\\u2026ed :: a\\u026a\\u2026d\", \"i\\u2026ed :: a\\u026a\\u2026d\", \"i\\u2026ed :: a\\u026a\\u2026d\", \"i\\u2026ed :: a\\u026a\\u2026d\", \"i\\u2026ed :: a\\u2026zd\", \"i\\u2026ed :: \\u026azd#\", \"i\\u2026ed :: \\u026azd#\", \"i\\u2026ed :: \\u026azd#\", \"i\\u2026ed :: \\u026az\\u2026#\", \"i\\u2026ed :: \\u026az\\u2026#\", \"i\\u2026ed :: \\u026a\\u2026d#\", \"i\\u2026ed :: \\u026a\\u2026d#\", \"i\\u2026ed :: \\u026a\\u2026d#\", \"i\\u2026ed :: \\u026a\\u2026d#\", \"i\\u2026ed :: \\u026a\\u2026d#\", \"i\\u2026ed :: \\u026a\\u2026d#\", \"i\\u2026ed :: \\u026a\\u2026d#\", \"i\\u2026ed :: \\u026a\\u2026d#\", \"i\\u2026ed :: \\u026a\\u2026d#\", \"i\\u2026ed :: \\u026a\\u2026d#\", \"i\\u2026ed :: \\u026a\\u2026d#\", \"i\\u2026ed :: \\u026a\\u2026d#\", \"i\\u2026ed :: \\u026a\\u2026d#\", \"i\\u2026er :: \\u026af\\u025d#\", \"i\\u2026er :: \\u026af\\u025d#\", \"i\\u2026er :: \\u026a\\u2026\\u025d#\", \"i\\u2026er :: \\u026a\\u2026\\u025d#\", \"i\\u2026er :: \\u026a\\u2026\\u025d#\", \"i\\u2026er :: \\u026a\\u2026\\u025d#\", \"i\\u2026er :: \\u026a\\u2026\\u025d#\", \"i\\u2026er :: \\u026a\\u2026\\u025d#\", \"i\\u2026er :: \\u026a\\u2026\\u025d#\", \"i\\u2026er :: \\u026a\\u2026\\u025d#\", \"i\\u2026er :: \\u026a\\u2026\\u025d#\", \"i\\u2026er :: \\u026a\\u2026\\u025d#\", \"i\\u2026er :: \\u026a\\u2026\\u025d#\", \"i\\u2026er :: \\u026a\\u2026\\u025d#\", \"i\\u2026es :: in\\u0259s\", \"i\\u2026es :: in\\u2026s\", \"i\\u2026es :: in\\u2026s\", \"i\\u2026es :: i\\u2026\\u0259s\", \"i\\u2026es :: n\\u0259s#\", \"i\\u2026es :: n\\u0259\\u2026#\", \"i\\u2026es :: n\\u0259\\u2026#\", \"i\\u2026es :: n\\u0259\\u2026#\", \"i\\u2026g# :: b\\u025d\\u2026\\u014b\", \"i\\u2026g# :: b\\u025d\\u2026\\u014b\", \"i\\u2026g# :: o\\u028a\\u2026\\u026a\", \"i\\u2026g# :: o\\u028a\\u2026\\u026a\", \"i\\u2026g# :: o\\u028a\\u2026\\u026a\", \"i\\u2026g# :: o\\u028a\\u2026\\u026a\", \"i\\u2026g# :: o\\u028a\\u2026\\u026a\", \"i\\u2026g# :: o\\u028a\\u2026\\u026a\", \"i\\u2026g# :: s\\u026a\\u014b#\", \"i\\u2026g# :: s\\u026a\\u014b#\", \"i\\u2026g# :: s\\u026a\\u014b#\", \"i\\u2026g# :: s\\u026a\\u014b#\", \"i\\u2026g# :: s\\u026a\\u2026#\", \"i\\u2026g# :: s\\u026a\\u2026#\", \"i\\u2026g# :: s\\u026a\\u2026#\", \"i\\u2026g# :: s\\u2026\\u014b#\", \"i\\u2026g# :: s\\u2026\\u014b#\", \"i\\u2026g# :: s\\u2026\\u014b#\", \"i\\u2026g# :: s\\u2026\\u014b#\", \"i\\u2026g# :: s\\u2026\\u014b#\", \"i\\u2026g# :: t\\u025d\\u026a\\u014b\", \"i\\u2026g# :: t\\u025d\\u026a\\u014b\", \"i\\u2026g# :: t\\u025d\\u026a\\u014b\", \"i\\u2026g# :: t\\u026a\\u014b#\", \"i\\u2026g# :: t\\u026a\\u014b#\", \"i\\u2026g# :: t\\u026a\\u014b#\", \"i\\u2026g# :: t\\u026a\\u014b#\", \"i\\u2026g# :: t\\u026a\\u2026#\", \"i\\u2026g# :: t\\u026a\\u2026#\", \"i\\u2026g# :: t\\u026a\\u2026#\", \"i\\u2026g# :: t\\u026a\\u2026#\", \"i\\u2026g# :: t\\u2026\\u014b#\", \"i\\u2026g# :: t\\u2026\\u014b#\", \"i\\u2026g# :: t\\u2026\\u014b#\", \"i\\u2026g# :: t\\u2026\\u014b#\", \"i\\u2026g# :: t\\u2026\\u014b#\", \"i\\u2026g# :: \\u00e6\\u2026\\u026a\\u014b\", \"i\\u2026g# :: \\u00e6\\u2026\\u026a\\u014b\", \"i\\u2026g# :: \\u00e6\\u2026\\u026a\\u014b\", \"i\\u2026g# :: \\u00e6\\u2026\\u026a\\u014b\", \"i\\u2026g# :: \\u00e6\\u2026\\u026a\\u014b\", \"i\\u2026g# :: \\u00e6\\u2026\\u026a\\u014b\", \"i\\u2026g# :: \\u0259t\\u026a\\u014b\", \"i\\u2026g# :: \\u0259t\\u2026\\u014b\", \"i\\u2026g# :: \\u0259t\\u2026\\u014b\", \"i\\u2026g# :: \\u0259\\u026b\\u026a\\u014b\", \"i\\u2026g# :: \\u025dt\\u2026\\u014b\", \"i\\u2026g# :: \\u025d\\u026a\\u014b#\", \"i\\u2026g# :: \\u025d\\u026a\\u014b#\", \"i\\u2026g# :: \\u025d\\u026a\\u014b#\", \"i\\u2026g# :: \\u025d\\u026a\\u014b#\", \"i\\u2026g# :: \\u025d\\u026a\\u2026#\", \"i\\u2026g# :: \\u025d\\u026a\\u2026#\", \"i\\u2026g# :: \\u025d\\u026a\\u2026#\", \"i\\u2026g# :: \\u025d\\u026a\\u2026#\", \"i\\u2026g# :: \\u025d\\u026a\\u2026#\", \"i\\u2026g# :: \\u025d\\u026a\\u2026#\", \"i\\u2026g# :: \\u025d\\u2026\\u014b#\", \"i\\u2026g# :: \\u025d\\u2026\\u014b#\", \"i\\u2026g# :: \\u025d\\u2026\\u014b#\", \"i\\u2026g# :: \\u025d\\u2026\\u014b#\", \"i\\u2026g# :: \\u026b\\u026a\\u014b#\", \"i\\u2026g# :: \\u026b\\u026a\\u014b#\", \"i\\u2026g# :: \\u026b\\u026a\\u014b#\", \"i\\u2026g# :: \\u026b\\u026a\\u014b#\", \"i\\u2026g# :: \\u026b\\u026a\\u2026#\", \"i\\u2026g# :: \\u026b\\u026a\\u2026#\", \"i\\u2026g# :: \\u026b\\u026a\\u2026#\", \"i\\u2026g# :: \\u026b\\u026a\\u2026#\", \"i\\u2026g# :: \\u026b\\u026a\\u2026#\", \"i\\u2026g# :: \\u026b\\u2026\\u014b#\", \"i\\u2026g# :: \\u026b\\u2026\\u014b#\", \"i\\u2026g# :: \\u026b\\u2026\\u014b#\", \"i\\u2026g# :: \\u026b\\u2026\\u014b#\", \"i\\u2026g# :: \\u026b\\u2026\\u014b#\", \"i\\u2026g# :: \\u026b\\u2026\\u014b#\", \"i\\u2026g# :: \\u026b\\u2026\\u014b#\", \"i\\u2026g# :: \\u0279\\u026a\\u014b#\", \"i\\u2026g# :: \\u0279\\u026a\\u014b#\", \"i\\u2026ge :: nd\\u2026\\u025d\", \"i\\u2026ge :: nd\\u2026\\u025d\", \"i\\u2026ge :: nd\\u2026\\u025d\", \"i\\u2026ge :: n\\u2026\\u0292\\u025d\", \"i\\u2026ge :: \\u026ad\\u2026#\", \"i\\u2026ge :: \\u026a\\u014b\\u025d#\", \"i\\u2026ge :: \\u026a\\u014b\\u2026#\", \"i\\u2026ge :: \\u026a\\u014b\\u2026#\", \"i\\u2026ge :: \\u026a\\u2026\\u0292#\", \"i\\u2026gl :: \\u026a\\u014b\\u026bi\", \"i\\u2026gl :: \\u026a\\u2026\\u026bi\", \"i\\u2026gs :: \\u026a\\u014bz#\", \"i\\u2026gs :: \\u026a\\u014bz#\", \"i\\u2026gs :: \\u026a\\u014bz#\", \"i\\u2026gs :: \\u026a\\u014bz#\", \"i\\u2026gs :: \\u026a\\u014bz#\", \"i\\u2026gs :: \\u026a\\u014bz#\", \"i\\u2026gs :: \\u026a\\u014b\\u2026#\", \"i\\u2026gs :: \\u026a\\u014b\\u2026#\", \"i\\u2026gs :: \\u026a\\u014b\\u2026#\", \"i\\u2026gs :: \\u026a\\u014b\\u2026#\", \"i\\u2026gs :: \\u026a\\u014b\\u2026#\", \"i\\u2026gs :: \\u026a\\u2026z#\", \"i\\u2026gs :: \\u026a\\u2026z#\", \"i\\u2026gs :: \\u026a\\u2026z#\", \"i\\u2026gs :: \\u026a\\u2026z#\", \"i\\u2026gs :: \\u026a\\u2026z#\", \"i\\u2026gs :: \\u028a\\u2026\\u026a\\u014b\", \"i\\u2026gs# :: \\u028a\\u2026\\u026a\\u014b\", \"i\\u2026gt :: t\\u0259n#\", \"i\\u2026gt :: t\\u0259n#\", \"i\\u2026gt :: t\\u2026n#\", \"i\\u2026gt :: t\\u2026n#\", \"i\\u2026gt :: \\u014bt\\u0259n\", \"i\\u2026gt :: \\u014b\\u2026\\u0259n\", \"i\\u2026gt :: \\u014b\\u2026\\u0259n\", \"i\\u2026gt :: \\u026a\\u2026t\\u0259\", \"i\\u2026gt :: \\u026a\\u2026t\\u0259\", \"i\\u2026i# :: i\\u2026i#\", \"i\\u2026i# :: i\\u2026i#\", \"i\\u2026n# :: e\\u026a\\u0283\\u0259\", \"i\\u2026n# :: e\\u026a\\u2026\\u0259\", \"i\\u2026n# :: e\\u026a\\u2026\\u0259\", \"i\\u2026n# :: e\\u2026\\u0283\\u0259\", \"i\\u2026n# :: e\\u2026\\u0283\\u0259\", \"i\\u2026n# :: i\\u0259n#\", \"i\\u2026n# :: i\\u0259n#\", \"i\\u2026n# :: i\\u0259\\u2026#\", \"i\\u2026n# :: i\\u0259\\u2026#\", \"i\\u2026n# :: i\\u2026n#\", \"i\\u2026n# :: i\\u2026n#\", \"i\\u2026n# :: i\\u2026n#\", \"i\\u2026n# :: i\\u2026n#\", \"i\\u2026n# :: \\u026a\\u0283\\u0259n\", \"i\\u2026n# :: \\u026a\\u0283\\u0259n\", \"i\\u2026n# :: \\u026a\\u0283\\u2026n\", \"i\\u2026n# :: \\u026a\\u2026\\u0259n\", \"i\\u2026n# :: \\u026a\\u2026\\u0259n\", \"i\\u2026n# :: \\u026a\\u2026\\u0259n\", \"i\\u2026n# :: \\u026a\\u2026\\u0259n\", \"i\\u2026n# :: \\u026a\\u2026\\u0259n\", \"i\\u2026n# :: \\u026a\\u2026\\u0259n\", \"i\\u2026n# :: \\u026a\\u2026\\u0259n\", \"i\\u2026n# :: \\u0279i\\u0259n\", \"i\\u2026n# :: \\u0279i\\u2026n\", \"i\\u2026n# :: \\u0279\\u2026\\u0259n\", \"i\\u2026n# :: \\u0283\\u0259n#\", \"i\\u2026n# :: \\u0283\\u0259n#\", \"i\\u2026n# :: \\u0283\\u0259\\u2026#\", \"i\\u2026n# :: \\u0283\\u0259\\u2026#\", \"i\\u2026n# :: \\u0283\\u2026n#\", \"i\\u2026n# :: \\u0283\\u2026n#\", \"i\\u2026n# :: \\u0283\\u2026n#\", \"i\\u2026ns :: \\u0259nz#\", \"i\\u2026ns :: \\u0259nz#\", \"i\\u2026ns :: \\u0259nz#\", \"i\\u2026ns :: \\u0259n\\u2026#\", \"i\\u2026ns :: \\u0259n\\u2026#\", \"i\\u2026ns :: \\u0259n\\u2026#\", \"i\\u2026ns :: \\u0259\\u2026z#\", \"i\\u2026ns :: \\u0259\\u2026z#\", \"i\\u2026ns :: \\u0259\\u2026z#\", \"i\\u2026o# :: ko\\u028a#\", \"i\\u2026o# :: ko\\u028a#\", \"i\\u2026o# :: ko\\u028a#\", \"i\\u2026o# :: ko\\u2026#\", \"i\\u2026o# :: ko\\u2026#\", \"i\\u2026o# :: ko\\u2026#\", \"i\\u2026o# :: k\\u2026\\u028a#\", \"i\\u2026o# :: k\\u2026\\u028a#\", \"i\\u2026o# :: k\\u2026\\u028a#\", \"i\\u2026o# :: \\u026ako\\u028a\", \"i\\u2026o# :: \\u026ako\\u028a\", \"i\\u2026o# :: \\u026ak\\u2026\\u028a\", \"i\\u2026o# :: \\u026ak\\u2026\\u028a\", \"i\\u2026o# :: \\u026a\\u2026o\\u028a\", \"i\\u2026o# :: \\u026a\\u2026o\\u028a\", \"i\\u2026o# :: \\u026a\\u2026o\\u028a\", \"i\\u2026o# :: \\u026a\\u2026o\\u028a\", \"i\\u2026o# :: \\u026a\\u2026o\\u028a\", \"i\\u2026o# :: \\u026a\\u2026o\\u028a\", \"i\\u2026o# :: \\u026a\\u2026o\\u028a\", \"i\\u2026s# :: k\\u026anz\", \"i\\u2026s# :: k\\u026anz\", \"i\\u2026s# :: k\\u026anz\", \"i\\u2026s# :: k\\u2026nz\", \"i\\u2026s# :: k\\u2026nz\", \"i\\u2026s# :: k\\u2026nz\", \"i\\u2026s# :: \\u026an\\u2026#\", \"i\\u2026s# :: \\u026an\\u2026#\", \"i\\u2026s# :: \\u026an\\u2026#\", \"i\\u2026s# :: \\u026an\\u2026#\", \"i\\u2026s# :: \\u026an\\u2026#\", \"i\\u2026s# :: \\u026an\\u2026#\", \"i\\u2026s# :: \\u026an\\u2026#\", \"i\\u2026s# :: \\u026an\\u2026#\", \"i\\u2026s# :: \\u026a\\u2026z#\", \"i\\u2026s# :: \\u026a\\u2026z#\", \"i\\u2026s# :: \\u026a\\u2026z#\", \"i\\u2026s# :: \\u026a\\u2026z#\", \"i\\u2026s# :: \\u026a\\u2026z#\", \"i\\u2026s# :: \\u026a\\u2026z#\", \"i\\u2026s# :: \\u026a\\u2026z#\", \"i\\u2026s# :: \\u026a\\u2026z#\", \"i\\u2026s# :: \\u026a\\u2026z#\", \"i\\u2026s# :: \\u026a\\u2026z#\", \"i\\u2026s# :: \\u026a\\u2026z#\", \"i\\u2026s# :: \\u026a\\u2026z#\", \"i\\u2026s# :: \\u026a\\u2026z#\", \"i\\u2026s# :: \\u026a\\u2026z#\", \"i\\u2026s# :: \\u026a\\u2026z#\", \"i\\u2026s# :: \\u026a\\u2026z#\", \"i\\u2026s# :: \\u026a\\u2026z#\", \"i\\u2026s# :: \\u026a\\u2026z#\", \"i\\u2026s# :: \\u026a\\u2026z#\", \"i\\u2026s# :: \\u026a\\u2026z#\", \"i\\u2026s# :: \\u026a\\u2026z#\", \"i\\u2026si :: \\u026a\\u2026i#\", \"i\\u2026sk :: nski\", \"i\\u2026sk :: n\\u2026ki\", \"i\\u2026sk :: ski#\", \"i\\u2026sk :: \\u026a\\u2026sk\", \"i\\u2026sk :: \\u026a\\u2026sk\", \"i\\u2026t# :: n\\u2026st\", \"i\\u2026t# :: n\\u2026st\", \"i\\u2026t# :: \\u0259st#\", \"i\\u2026t# :: \\u0259st#\", \"i\\u2026t# :: \\u0259st#\", \"i\\u2026t# :: \\u0259st#\", \"i\\u2026t# :: \\u0259s\\u2026#\", \"i\\u2026t# :: \\u0259s\\u2026#\", \"i\\u2026t# :: \\u0259s\\u2026#\", \"i\\u2026t# :: \\u0259s\\u2026#\", \"i\\u2026t# :: \\u0259\\u2026t#\", \"i\\u2026t# :: \\u0259\\u2026t#\", \"i\\u2026t# :: \\u0259\\u2026t#\", \"i\\u2026t# :: \\u0259\\u2026t#\", \"i\\u2026t# :: \\u0259\\u2026t#\", \"i\\u2026te :: \\u026an\\u2026\\u025d\", \"i\\u2026te :: \\u026an\\u2026\\u025d\", \"i\\u2026ts :: st\\u2026#\", \"i\\u2026ts :: s\\u2026s#\", \"i\\u2026ve :: v\\u025b\\u2026t\", \"i\\u2026ve :: \\u026anv\\u025b\", \"i\\u2026ve :: \\u026an\\u2026\\u025b\", \"i\\u2026ve :: \\u026a\\u2026v\\u025b\", \"i\\u2026ve :: \\u026a\\u2026v\\u025b\", \"kers :: k\\u025d\\u2026#\", \"kers :: k\\u025d\\u2026#\", \"kers :: k\\u025d\\u2026#\", \"kers :: k\\u025d\\u2026#\", \"kers :: k\\u025d\\u2026#\", \"kers :: k\\u025d\\u2026#\", \"kers :: k\\u2026z#\", \"kers :: k\\u2026z#\", \"kers :: k\\u2026z#\", \"kers :: k\\u2026z#\", \"ke\\u2026s :: k\\u025d\\u2026#\", \"ke\\u2026s :: k\\u025d\\u2026#\", \"ke\\u2026s :: k\\u025d\\u2026#\", \"ke\\u2026s :: k\\u025d\\u2026#\", \"ke\\u2026s :: k\\u025d\\u2026#\", \"ke\\u2026s :: k\\u025d\\u2026#\", \"ke\\u2026s :: k\\u025d\\u2026#\", \"king :: k\\u026a\\u014b#\", \"king :: k\\u026a\\u014b#\", \"kins :: \\u026an\\u2026#\", \"kins :: \\u026a\\u2026z#\", \"ki\\u2026s :: k\\u026anz\", \"ki\\u2026s :: k\\u026anz\", \"ki\\u2026s :: k\\u026a\\u2026z\", \"ki\\u2026s :: k\\u026a\\u2026z\", \"ki\\u2026s :: k\\u026a\\u2026z\", \"ki\\u2026s :: k\\u026a\\u2026z\", \"ki\\u2026s :: k\\u026a\\u2026z\", \"ki\\u2026s :: k\\u2026nz\", \"ki\\u2026s :: k\\u2026nz\", \"ki\\u2026s :: k\\u2026nz\", \"ki\\u2026s :: \\u026anz#\", \"ki\\u2026s :: \\u026anz#\", \"ki\\u2026s :: \\u026an\\u2026#\", \"ki\\u2026s :: \\u026an\\u2026#\", \"ki\\u2026s :: \\u026an\\u2026#\", \"ki\\u2026s :: \\u026a\\u2026z#\", \"ki\\u2026s :: \\u026a\\u2026z#\", \"ki\\u2026s :: \\u026a\\u2026z#\", \"ki\\u2026s :: \\u026a\\u2026z#\", \"k\\u2026ng :: k\\u026a\\u014b#\", \"k\\u2026ng :: k\\u026a\\u014b#\", \"k\\u2026rs :: k\\u025dz#\", \"k\\u2026rs :: k\\u025dz#\", \"k\\u2026rs :: k\\u025dz#\", \"k\\u2026rs :: k\\u025dz#\", \"k\\u2026rs :: k\\u025d\\u2026#\", \"k\\u2026rs :: k\\u025d\\u2026#\", \"k\\u2026rs :: k\\u025d\\u2026#\", \"k\\u2026rs :: k\\u025d\\u2026#\", \"k\\u2026rs :: k\\u2026z#\", \"k\\u2026rs :: k\\u2026z#\", \"k\\u2026rs :: k\\u2026z#\", \"k\\u2026rs :: k\\u2026z#\", \"k\\u2026rs :: \\u014b\\u2026\\u025dz\", \"l's# :: \\u0259\\u026bz#\", \"l's# :: \\u0259\\u026bz#\", \"l's# :: \\u0259\\u026bz#\", \"l's# :: \\u0259\\u026b\\u2026#\", \"l's# :: \\u0259\\u026b\\u2026#\", \"l's# :: \\u0259\\u026b\\u2026#\", \"l's# :: \\u0259\\u026b\\u2026#\", \"l's# :: \\u0259\\u026b\\u2026#\", \"l's# :: \\u0259\\u2026z#\", \"l's# :: \\u0259\\u2026z#\", \"l's# :: \\u0259\\u2026z#\", \"l's# :: \\u0259\\u2026z#\", \"l'\\u2026# :: \\u0259\\u026bz#\", \"l'\\u2026# :: \\u0259\\u026bz#\", \"l'\\u2026# :: \\u0259\\u026bz#\", \"l'\\u2026# :: \\u0259\\u026b\\u2026#\", \"l'\\u2026# :: \\u0259\\u026b\\u2026#\", \"l'\\u2026# :: \\u0259\\u026b\\u2026#\", \"l'\\u2026# :: \\u0259\\u026b\\u2026#\", \"l'\\u2026# :: \\u0259\\u2026z#\", \"l'\\u2026# :: \\u0259\\u2026z#\", \"l'\\u2026# :: \\u0259\\u2026z#\", \"land :: \\u00e6nd#\", \"land :: \\u00e6\\u2026d#\", \"land :: \\u0259nd#\", \"land :: \\u0259n\\u2026#\", \"land :: \\u0259n\\u2026#\", \"land :: \\u0259n\\u2026#\", \"land :: \\u0259\\u2026d#\", \"land :: \\u0259\\u2026d#\", \"land :: \\u026b\\u00e6nd\", \"land :: \\u026b\\u00e6nd\", \"land :: \\u026b\\u00e6nd\", \"land :: \\u026b\\u00e6nd\", \"land :: \\u026b\\u00e6nd\", \"land :: \\u026b\\u00e6\\u2026d\", \"land :: \\u026b\\u00e6\\u2026d\", \"land :: \\u026b\\u00e6\\u2026d\", \"land :: \\u026b\\u00e6\\u2026d\", \"land :: \\u026b\\u00e6\\u2026d\", \"land :: \\u026b\\u0259nd\", \"land :: \\u026b\\u0259nd\", \"land :: \\u026b\\u0259nd\", \"land :: \\u026b\\u0259\\u2026d\", \"land :: \\u026b\\u0259\\u2026d\", \"land :: \\u026b\\u0259\\u2026d\", \"land :: \\u026b\\u2026nd\", \"land :: \\u026b\\u2026nd\", \"land :: \\u026b\\u2026nd\", \"land :: \\u026b\\u2026nd\", \"land :: \\u026b\\u2026nd\", \"la\\u2026d :: \\u00e6nd#\", \"la\\u2026d :: \\u0259nd#\", \"la\\u2026d :: \\u0259nd#\", \"la\\u2026d :: \\u0259n\\u2026#\", \"la\\u2026d :: \\u0259n\\u2026#\", \"la\\u2026d :: \\u0259n\\u2026#\", \"la\\u2026d :: \\u0259\\u2026d#\", \"la\\u2026d :: \\u026b\\u00e6nd\", \"la\\u2026d :: \\u026b\\u00e6nd\", \"la\\u2026d :: \\u026b\\u00e6nd\", \"la\\u2026d :: \\u026b\\u00e6nd\", \"la\\u2026d :: \\u026b\\u00e6nd\", \"la\\u2026d :: \\u026b\\u00e6\\u2026d\", \"la\\u2026d :: \\u026b\\u00e6\\u2026d\", \"la\\u2026d :: \\u026b\\u00e6\\u2026d\", \"la\\u2026d :: \\u026b\\u00e6\\u2026d\", \"la\\u2026d :: \\u026b\\u0259nd\", \"la\\u2026d :: \\u026b\\u0259nd\", \"la\\u2026d :: \\u026b\\u0259nd\", \"la\\u2026d :: \\u026b\\u2026nd\", \"la\\u2026d :: \\u026b\\u2026nd\", \"la\\u2026d :: \\u026b\\u2026nd\", \"la\\u2026d :: \\u026b\\u2026nd\", \"la\\u2026d :: \\u026b\\u2026nd\", \"led# :: \\u026a\\u026b\\u2026#\", \"leis :: a\\u026a\\u2026#\", \"leis :: \\u026ba\\u026as\", \"leis :: \\u026ba\\u026as\", \"ler# :: \\u0259\\u026b\\u025d#\", \"ler# :: \\u0259\\u026b\\u025d#\", \"ler# :: \\u0259\\u026b\\u025d#\", \"ler# :: \\u0259\\u026b\\u025d#\", \"ler# :: \\u0259\\u026b\\u025d#\", \"ler# :: \\u0259\\u026b\\u2026#\", \"ler# :: \\u0259\\u026b\\u2026#\", \"ler# :: \\u0259\\u026b\\u2026#\", \"ler# :: \\u0259\\u026b\\u2026#\", \"ler# :: \\u0259\\u026b\\u2026#\", \"ler# :: \\u0259\\u2026\\u025d#\", \"ler# :: \\u0259\\u2026\\u025d#\", \"ler# :: \\u0259\\u2026\\u025d#\", \"ler# :: \\u0259\\u2026\\u025d#\", \"ler# :: \\u025b\\u026b\\u025d#\", \"ler# :: \\u025b\\u026b\\u2026#\", \"ler# :: \\u025b\\u2026\\u025d#\", \"ler# :: \\u025b\\u2026\\u025d#\", \"ley# :: \\u00e6\\u026bi#\", \"le\\u2026# :: \\u00e6\\u026b\\u2026#\", \"le\\u2026# :: \\u00e6\\u026b\\u2026#\", \"le\\u2026# :: \\u0259\\u026b\\u025d#\", \"le\\u2026# :: \\u0259\\u026b\\u025d#\", \"le\\u2026# :: \\u0259\\u026b\\u025d#\", \"le\\u2026# :: \\u0259\\u026b\\u025d#\", \"le\\u2026# :: \\u0259\\u026b\\u025d#\", \"le\\u2026# :: \\u0259\\u026b\\u025d#\", \"le\\u2026# :: \\u0259\\u026b\\u2026#\", \"le\\u2026# :: \\u0259\\u026b\\u2026#\", \"le\\u2026# :: \\u0259\\u026b\\u2026#\", \"le\\u2026# :: \\u0259\\u026b\\u2026#\", \"le\\u2026# :: \\u0259\\u026b\\u2026#\", \"le\\u2026# :: \\u0259\\u026b\\u2026#\", \"le\\u2026# :: \\u0259\\u026b\\u2026#\", \"le\\u2026# :: \\u0259\\u026b\\u2026#\", \"le\\u2026# :: \\u0259\\u026b\\u2026#\", \"le\\u2026# :: \\u0259\\u026b\\u2026#\", \"le\\u2026# :: \\u0259\\u2026\\u025d#\", \"le\\u2026# :: \\u0259\\u2026\\u025d#\", \"le\\u2026# :: \\u0259\\u2026\\u025d#\", \"le\\u2026# :: \\u0259\\u2026\\u025d#\", \"le\\u2026# :: \\u025b\\u026b\\u025d#\", \"le\\u2026# :: \\u025b\\u026b\\u2026#\", \"le\\u2026# :: \\u025b\\u026b\\u2026#\", \"le\\u2026# :: \\u025b\\u026b\\u2026#\", \"le\\u2026# :: \\u025b\\u2026\\u025d#\", \"le\\u2026# :: \\u025b\\u2026\\u025d#\", \"le\\u2026# :: \\u025b\\u2026\\u025d#\", \"le\\u2026# :: \\u025b\\u2026\\u025d#\", \"le\\u2026# :: \\u026a\\u026bd#\", \"le\\u2026s :: #\\u2026a\\u026a\", \"le\\u2026s :: #\\u2026a\\u026a\", \"le\\u2026s :: #\\u2026\\u026ba\", \"le\\u2026s :: #\\u2026\\u026ba\\u026a\", \"le\\u2026s :: a\\u026a\\u2026#\", \"le\\u2026s :: a\\u026a\\u2026#\", \"le\\u2026s :: f\\u026ba\\u026a\", \"le\\u2026s :: f\\u026b\\u2026\\u026a\", \"le\\u2026s :: f\\u2026a\\u026a\", \"le\\u2026s :: \\u026ba\\u026as\", \"le\\u2026s :: \\u026ba\\u2026s\", \"le\\u2026s :: \\u026ba\\u2026s\", \"le\\u2026s :: \\u026b\\u2026\\u026as\", \"le\\u2026s :: \\u026b\\u2026\\u026as\", \"ling :: \\u026a\\u014b\\u025d#\", \"ling :: \\u026b\\u026a\\u014b#\", \"ling :: \\u026b\\u026a\\u014b#\", \"ling :: \\u026b\\u026a\\u014b#\", \"ling :: \\u026b\\u026a\\u014b#\", \"ling :: \\u026b\\u026a\\u014b#\", \"ling :: \\u026b\\u026a\\u2026#\", \"ling :: \\u026b\\u026a\\u2026#\", \"ling :: \\u026b\\u026a\\u2026#\", \"ling :: \\u026b\\u026a\\u2026#\", \"ling :: \\u026b\\u026a\\u2026#\", \"ling :: \\u026b\\u026a\\u2026#\", \"ling :: \\u026b\\u2026\\u014b#\", \"ling :: \\u026b\\u2026\\u014b#\", \"ling :: \\u026b\\u2026\\u014b#\", \"ling :: \\u026b\\u2026\\u014b#\", \"list :: \\u026b\\u026ast\", \"list :: \\u026b\\u026a\\u2026t\", \"list :: \\u026b\\u026a\\u2026t\", \"list :: \\u026b\\u2026st\", \"li\\u2026# :: i\\u2026\\u028a#\", \"li\\u2026# :: \\u026bi\\u2026\\u028a\", \"li\\u2026# :: \\u026b\\u026a\\u2026#\", \"li\\u2026# :: \\u026b\\u026a\\u2026#\", \"li\\u2026# :: \\u026b\\u026a\\u2026#\", \"li\\u2026# :: \\u026b\\u026a\\u2026#\", \"li\\u2026# :: \\u026b\\u026a\\u2026#\", \"li\\u2026# :: \\u026b\\u026a\\u2026#\", \"li\\u2026# :: \\u026b\\u026a\\u2026#\", \"li\\u2026# :: \\u026b\\u026a\\u2026#\", \"li\\u2026# :: \\u026b\\u026a\\u2026#\", \"li\\u2026# :: \\u026b\\u026a\\u2026#\", \"li\\u2026# :: \\u026b\\u026a\\u2026#\", \"li\\u2026# :: \\u026b\\u026a\\u2026#\", \"li\\u2026# :: \\u026b\\u026a\\u2026#\", \"li\\u2026# :: \\u026b\\u026a\\u2026#\", \"li\\u2026# :: \\u026b\\u026a\\u2026#\", \"li\\u2026# :: \\u026b\\u026a\\u2026#\", \"li\\u2026# :: \\u026b\\u026a\\u2026#\", \"li\\u2026# :: \\u026b\\u026a\\u2026#\", \"li\\u2026# :: \\u026b\\u026a\\u2026#\", \"li\\u2026# :: \\u026b\\u2026o\\u028a\", \"li\\u2026# :: \\u026b\\u2026o\\u028a\", \"li\\u2026g :: \\u026b\\u026a\\u014b#\", \"li\\u2026g :: \\u026b\\u026a\\u014b#\", \"li\\u2026g :: \\u026b\\u026a\\u014b#\", \"li\\u2026g :: \\u026b\\u026a\\u014b#\", \"li\\u2026g :: \\u026b\\u026a\\u2026#\", \"li\\u2026g :: \\u026b\\u026a\\u2026#\", \"li\\u2026g :: \\u026b\\u026a\\u2026#\", \"li\\u2026g :: \\u026b\\u026a\\u2026#\", \"li\\u2026g :: \\u026b\\u026a\\u2026#\", \"li\\u2026g :: \\u026b\\u2026\\u014b#\", \"li\\u2026g :: \\u026b\\u2026\\u014b#\", \"li\\u2026g :: \\u026b\\u2026\\u014b#\", \"li\\u2026g :: \\u026b\\u2026\\u014b#\", \"li\\u2026g :: \\u026b\\u2026\\u014b#\", \"li\\u2026h :: \\u026ba\\u026at\", \"li\\u2026h :: \\u026ba\\u026at\", \"lley :: \\u00e6\\u026bi#\", \"lley :: \\u00e6\\u026b\\u2026#\", \"lley :: \\u00e6\\u026b\\u2026#\", \"ll\\u2026# :: k\\u2026i#\", \"ll\\u2026t :: \\u026b\\u025bt#\", \"ll\\u2026t :: \\u026b\\u025b\\u2026#\", \"ll\\u2026y :: \\u00e6\\u026b\\u2026#\", \"lman :: m\\u0259n#\", \"lman :: m\\u0259n#\", \"lman :: m\\u0259\\u2026#\", \"lman :: m\\u0259\\u2026#\", \"lman :: m\\u0259\\u2026#\", \"lman :: m\\u2026n#\", \"lman :: m\\u2026n#\", \"lman :: m\\u2026n#\", \"lman :: \\u026bm\\u0259n\", \"lman :: \\u026bm\\u0259n\", \"lman :: \\u026bm\\u0259n\", \"lman :: \\u026bm\\u2026n\", \"lman :: \\u026bm\\u2026n\", \"lman :: \\u026bm\\u2026n\", \"lman :: \\u026b\\u2026\\u0259n\", \"lman :: \\u026b\\u2026\\u0259n\", \"lman :: \\u026b\\u2026\\u0259n\", \"lm\\u2026n :: m\\u0259n#\", \"lm\\u2026n :: m\\u0259n#\", \"lm\\u2026n :: m\\u0259n#\", \"lm\\u2026n :: m\\u0259\\u2026#\", \"lm\\u2026n :: m\\u0259\\u2026#\", \"lm\\u2026n :: m\\u0259\\u2026#\", \"lm\\u2026n :: m\\u2026n#\", \"lm\\u2026n :: m\\u2026n#\", \"lm\\u2026n :: m\\u2026n#\", \"lm\\u2026n :: m\\u2026n#\", \"lm\\u2026n :: \\u026bm\\u0259n\", \"lm\\u2026n :: \\u026bm\\u0259n\", \"lm\\u2026n :: \\u026bm\\u0259n\", \"lm\\u2026n :: \\u026bm\\u2026n\", \"lm\\u2026n :: \\u026bm\\u2026n\", \"lm\\u2026n :: \\u026bm\\u2026n\", \"lm\\u2026n :: \\u026b\\u2026\\u0259n\", \"lm\\u2026n :: \\u026b\\u2026\\u0259n\", \"lm\\u2026n :: \\u026b\\u2026\\u0259n\", \"lt\\u2026s :: \\u026bts#\", \"lt\\u2026s :: \\u028a\\u026b\\u2026s\", \"lv\\u2026# :: \\u0251\\u026b\\u2026#\", \"l\\u2026's :: \\u026biz#\", \"l\\u2026's :: \\u026biz#\", \"l\\u2026's :: \\u026bi\\u2026#\", \"l\\u2026's :: \\u026bi\\u2026#\", \"l\\u2026's :: \\u026bi\\u2026#\", \"l\\u2026's :: \\u026bi\\u2026#\", \"l\\u2026's :: \\u026b\\u2026z#\", \"l\\u2026's :: \\u026b\\u2026z#\", \"l\\u2026's :: \\u026b\\u2026z#\", \"l\\u2026's :: \\u026b\\u2026z#\", \"l\\u2026's :: \\u026b\\u2026z#\", \"l\\u2026's :: \\u026b\\u2026z#\", \"l\\u2026's :: \\u026b\\u2026z#\", \"l\\u2026an :: m\\u0259n#\", \"l\\u2026an :: m\\u0259n#\", \"l\\u2026an :: m\\u0259n#\", \"l\\u2026an :: m\\u0259n#\", \"l\\u2026an :: m\\u0259\\u2026#\", \"l\\u2026an :: m\\u0259\\u2026#\", \"l\\u2026an :: m\\u0259\\u2026#\", \"l\\u2026an :: m\\u0259\\u2026#\", \"l\\u2026an :: m\\u2026n#\", \"l\\u2026an :: m\\u2026n#\", \"l\\u2026an :: m\\u2026n#\", \"l\\u2026an :: m\\u2026n#\", \"l\\u2026an :: \\u026bm\\u0259n\", \"l\\u2026an :: \\u026bm\\u0259n\", \"l\\u2026an :: \\u026bm\\u2026n\", \"l\\u2026an :: \\u026bm\\u2026n\", \"l\\u2026an :: \\u026b\\u2026\\u0259n\", \"l\\u2026an :: \\u026b\\u2026\\u0259n\", \"l\\u2026an :: \\u026b\\u2026\\u0259n\", \"l\\u2026an :: \\u026b\\u2026\\u0259n\", \"l\\u2026an :: \\u026b\\u2026\\u0259n\", \"l\\u2026ey :: \\u00e6\\u026bi#\", \"l\\u2026ey :: \\u00e6\\u2026i#\", \"l\\u2026is :: a\\u026a\\u2026#\", \"l\\u2026is :: a\\u026a\\u2026#\", \"l\\u2026is :: f\\u026b\\u2026\\u026a\", \"l\\u2026is :: \\u026ba\\u026as\", \"l\\u2026n# :: \\u026b\\u2026n#\", \"l\\u2026n# :: \\u026b\\u2026n#\", \"l\\u2026n# :: \\u026b\\u2026n#\", \"l\\u2026n# :: \\u026b\\u2026n#\", \"l\\u2026n# :: \\u026b\\u2026n#\", \"l\\u2026n# :: \\u026b\\u2026n#\", \"l\\u2026n# :: \\u026b\\u2026n#\", \"l\\u2026n# :: \\u026b\\u2026n#\", \"l\\u2026n# :: \\u026b\\u2026n#\", \"l\\u2026n# :: \\u026b\\u2026n#\", \"l\\u2026n# :: \\u026b\\u2026n#\", \"l\\u2026n# :: \\u026b\\u2026n#\", \"l\\u2026n# :: \\u026b\\u2026n#\", \"l\\u2026n# :: \\u026b\\u2026n#\", \"l\\u2026n# :: \\u026b\\u2026n#\", \"l\\u2026n# :: \\u026b\\u2026n#\", \"l\\u2026nd :: \\u0259nd#\", \"l\\u2026nd :: \\u0259nd#\", \"l\\u2026nd :: \\u0259n\\u2026#\", \"l\\u2026nd :: \\u0259n\\u2026#\", \"l\\u2026nd :: \\u0259n\\u2026#\", \"l\\u2026nd :: \\u0259n\\u2026#\", \"l\\u2026nd :: \\u0259n\\u2026#\", \"l\\u2026nd :: \\u0259n\\u2026#\", \"l\\u2026nd :: \\u0259n\\u2026#\", \"l\\u2026nd :: \\u0259n\\u2026#\", \"l\\u2026nd :: \\u0259\\u2026d#\", \"l\\u2026nd :: \\u0259\\u2026d#\", \"l\\u2026nd :: \\u0259\\u2026d#\", \"l\\u2026nd :: \\u026b\\u00e6nd\", \"l\\u2026nd :: \\u026b\\u00e6nd\", \"l\\u2026nd :: \\u026b\\u00e6nd\", \"l\\u2026nd :: \\u026b\\u00e6nd\", \"l\\u2026nd :: \\u026b\\u00e6\\u2026d\", \"l\\u2026nd :: \\u026b\\u00e6\\u2026d\", \"l\\u2026nd :: \\u026b\\u00e6\\u2026d\", \"l\\u2026nd :: \\u026b\\u00e6\\u2026d\", \"l\\u2026nd :: \\u026b\\u0259nd\", \"l\\u2026nd :: \\u026b\\u0259nd\", \"l\\u2026nd :: \\u026b\\u0259nd\", \"l\\u2026nd :: \\u026b\\u0259nd\", \"l\\u2026nd :: \\u026b\\u0259nd\", \"l\\u2026nd :: \\u026b\\u0259nd\", \"l\\u2026nd :: \\u026b\\u0259\\u2026#\", \"l\\u2026nd :: \\u026b\\u0259\\u2026d\", \"l\\u2026nd :: \\u026b\\u0259\\u2026d\", \"l\\u2026nd :: \\u026b\\u0259\\u2026d\", \"l\\u2026nd :: \\u026b\\u0259\\u2026d\", \"l\\u2026nd :: \\u026b\\u0259\\u2026d\", \"l\\u2026nd :: \\u026b\\u0259\\u2026d#\", \"l\\u2026nd :: \\u026b\\u0259\\u2026d#\", \"l\\u2026nd :: \\u026b\\u2026nd\", \"l\\u2026nd :: \\u026b\\u2026nd\", \"l\\u2026nd :: \\u026b\\u2026nd\", \"l\\u2026nd :: \\u026b\\u2026nd\", \"l\\u2026nd :: \\u026b\\u2026nd\", \"l\\u2026nd :: \\u026b\\u2026nd\", \"l\\u2026nd :: \\u026b\\u2026nd\", \"l\\u2026nd :: \\u026b\\u2026nd\", \"l\\u2026nd :: \\u026b\\u2026nd\", \"l\\u2026nd :: \\u026b\\u2026nd\", \"l\\u2026nd :: \\u026b\\u2026nd\", \"l\\u2026ng :: \\u025b\\u026b\\u026a\\u014b\", \"l\\u2026ng :: \\u025b\\u026b\\u026a\\u014b\", \"l\\u2026ng :: \\u025b\\u2026\\u026a\\u014b\", \"l\\u2026ng :: \\u025b\\u2026\\u026a\\u014b\", \"l\\u2026ng :: \\u026b\\u026a\\u014b#\", \"l\\u2026ng :: \\u026b\\u026a\\u014b#\", \"l\\u2026ng :: \\u026b\\u026a\\u014b#\", \"l\\u2026ng :: \\u026b\\u026a\\u014b#\", \"l\\u2026ng :: \\u026b\\u026a\\u2026#\", \"l\\u2026ng :: \\u026b\\u026a\\u2026#\", \"l\\u2026ng :: \\u026b\\u026a\\u2026#\", \"l\\u2026ng :: \\u026b\\u026a\\u2026#\", \"l\\u2026ng :: \\u026b\\u026a\\u2026#\", \"l\\u2026ng :: \\u026b\\u026a\\u2026#\", \"l\\u2026ng :: \\u026b\\u2026\\u014b#\", \"l\\u2026ng :: \\u026b\\u2026\\u014b#\", \"l\\u2026ng :: \\u026b\\u2026\\u014b#\", \"l\\u2026ng :: \\u026b\\u2026\\u014b#\", \"l\\u2026ng :: \\u026b\\u2026\\u014b#\", \"l\\u2026ng :: \\u026b\\u2026\\u014b#\", \"l\\u2026o# :: \\u026bi\\u2026\\u028a\", \"l\\u2026o# :: \\u026bi\\u2026\\u028a\", \"l\\u2026r# :: \\u0259\\u026b\\u025d#\", \"l\\u2026r# :: \\u0259\\u026b\\u025d#\", \"l\\u2026r# :: \\u0259\\u026b\\u025d#\", \"l\\u2026r# :: \\u0259\\u026b\\u025d#\", \"l\\u2026r# :: \\u0259\\u026b\\u025d#\", \"l\\u2026r# :: \\u0259\\u026b\\u025d#\", \"l\\u2026r# :: \\u0259\\u026b\\u025d#\", \"l\\u2026r# :: \\u0259\\u026b\\u025d#\", \"l\\u2026r# :: \\u0259\\u026b\\u2026#\", \"l\\u2026r# :: \\u0259\\u026b\\u2026#\", \"l\\u2026r# :: \\u0259\\u026b\\u2026#\", \"l\\u2026r# :: \\u0259\\u026b\\u2026#\", \"l\\u2026r# :: \\u0259\\u026b\\u2026#\", \"l\\u2026r# :: \\u0259\\u026b\\u2026#\", \"l\\u2026r# :: \\u0259\\u026b\\u2026#\", \"l\\u2026r# :: \\u0259\\u026b\\u2026#\", \"l\\u2026r# :: \\u0259\\u2026\\u025d#\", \"l\\u2026r# :: \\u0259\\u2026\\u025d#\", \"l\\u2026r# :: \\u0259\\u2026\\u025d#\", \"l\\u2026r# :: \\u0259\\u2026\\u025d#\", \"l\\u2026r# :: \\u0259\\u2026\\u025d#\", \"l\\u2026r# :: \\u0259\\u2026\\u025d#\", \"l\\u2026r# :: \\u0259\\u2026\\u025d#\", \"l\\u2026r# :: \\u025b\\u026b\\u025d#\", \"l\\u2026r# :: \\u025b\\u026b\\u2026#\", \"l\\u2026r# :: \\u025b\\u2026\\u025d#\", \"l\\u2026r# :: \\u025b\\u2026\\u025d#\", \"l\\u2026r# :: \\u025b\\u2026\\u025d#\", \"l\\u2026r# :: \\u025b\\u2026\\u025d#\", \"l\\u2026r# :: \\u025b\\u2026\\u025d#\", \"l\\u2026ri :: \\u026b\\u2026\\u0279\\u026a\", \"l\\u2026ri :: \\u026b\\u2026\\u0279\\u026a\", \"l\\u2026ri :: \\u026b\\u2026\\u0279\\u026a\", \"l\\u2026ri :: \\u026b\\u2026\\u0279\\u026a\", \"l\\u2026ri :: \\u026b\\u2026\\u0279\\u026a\", \"l\\u2026rs :: \\u026b\\u025dz#\", \"l\\u2026rs :: \\u026b\\u025dz#\", \"l\\u2026rs :: \\u026b\\u025dz#\", \"l\\u2026rs :: \\u026b\\u025dz#\", \"l\\u2026rs :: \\u026b\\u025d\\u2026#\", \"l\\u2026rs :: \\u026b\\u025d\\u2026#\", \"l\\u2026rs :: \\u026b\\u025d\\u2026#\", \"l\\u2026rs :: \\u026b\\u025d\\u2026#\", \"l\\u2026rs :: \\u026b\\u2026z#\", \"l\\u2026rs :: \\u026b\\u2026z#\", \"l\\u2026rs :: \\u026b\\u2026z#\", \"l\\u2026s# :: \\u0259\\u026bz#\", \"l\\u2026s# :: \\u0259\\u026bz#\", \"l\\u2026s# :: \\u0259\\u026bz#\", \"l\\u2026s# :: \\u0259\\u026bz#\", \"l\\u2026s# :: \\u0259\\u026bz#\", \"l\\u2026s# :: \\u0259\\u026bz#\", \"l\\u2026s# :: \\u0259\\u026b\\u2026#\", \"l\\u2026s# :: \\u0259\\u026b\\u2026#\", \"l\\u2026s# :: \\u0259\\u026b\\u2026#\", \"l\\u2026s# :: \\u0259\\u026b\\u2026#\", \"l\\u2026s# :: \\u0259\\u026b\\u2026#\", \"l\\u2026s# :: \\u0259\\u026b\\u2026#\", \"l\\u2026s# :: \\u0259\\u026b\\u2026#\", \"l\\u2026s# :: \\u0259\\u026b\\u2026#\", \"l\\u2026s# :: \\u0259\\u026b\\u2026#\", \"l\\u2026s# :: \\u0259\\u026b\\u2026#\", \"l\\u2026s# :: \\u0259\\u026b\\u2026#\", \"l\\u2026s# :: \\u0259\\u2026z#\", \"l\\u2026s# :: \\u0259\\u2026z#\", \"l\\u2026s# :: \\u0259\\u2026z#\", \"l\\u2026s# :: \\u0259\\u2026z#\", \"l\\u2026s# :: \\u0259\\u2026z#\", \"l\\u2026s# :: \\u0259\\u2026z#\", \"l\\u2026s# :: \\u0259\\u2026z#\", \"l\\u2026s# :: \\u0259\\u2026z#\", \"l\\u2026s# :: \\u0259\\u2026z#\", \"l\\u2026s# :: \\u0259\\u2026z#\", \"l\\u2026st :: \\u026b\\u026ast\", \"l\\u2026st :: \\u026b\\u026a\\u2026t\", \"l\\u2026tt :: \\u026b\\u025bt#\", \"l\\u2026tt :: \\u026b\\u025bt#\", \"l\\u2026y# :: d\\u2026\\u026bi\", \"l\\u2026y# :: d\\u2026\\u026bi\", \"l\\u2026y# :: d\\u2026\\u026bi\", \"l\\u2026y# :: d\\u2026\\u026bi\", \"l\\u2026y# :: k\\u2026i#\", \"l\\u2026y# :: k\\u2026i#\", \"l\\u2026y# :: m\\u2026\\u026bi\", \"l\\u2026y# :: \\u00e6\\u026bi#\", \"l\\u2026y# :: \\u00e6\\u026bi#\", \"l\\u2026y# :: \\u00e6\\u026b\\u2026#\", \"l\\u2026y# :: \\u00e6\\u026b\\u2026#\", \"l\\u2026y# :: \\u00e6\\u026b\\u2026#\", \"l\\u2026y# :: \\u00e6\\u2026i#\", \"l\\u2026y# :: \\u00e6\\u2026i#\", \"l\\u2026y# :: \\u00e6\\u2026i#\", \"l\\u2026y# :: \\u00e6\\u2026i#\", \"l\\u2026y# :: \\u026a\\u026bi#\", \"l\\u2026y# :: \\u026a\\u026bi#\", \"l\\u2026y# :: \\u026a\\u026bi#\", \"l\\u2026y# :: \\u026a\\u026bi#\", \"l\\u2026y# :: \\u026a\\u026b\\u2026#\", \"l\\u2026y# :: \\u026a\\u026b\\u2026#\", \"l\\u2026y# :: \\u026a\\u2026i#\", \"l\\u2026y# :: \\u026a\\u2026i#\", \"l\\u2026y# :: \\u026a\\u2026i#\", \"l\\u2026y# :: \\u026a\\u2026i#\", \"l\\u2026y# :: \\u026a\\u2026i#\", \"l\\u2026y# :: \\u026a\\u2026i#\", \"l\\u2026y# :: \\u026a\\u2026i#\", \"man# :: m\\u0259n#\", \"man# :: m\\u0259n#\", \"man# :: m\\u0259n#\", \"man# :: m\\u0259n#\", \"man# :: m\\u0259n#\", \"man# :: m\\u0259n#\", \"man# :: m\\u0259n#\", \"man# :: m\\u0259n#\", \"man# :: m\\u0259n#\", \"man# :: m\\u0259\\u2026#\", \"man# :: m\\u0259\\u2026#\", \"man# :: m\\u0259\\u2026#\", \"man# :: m\\u0259\\u2026#\", \"man# :: m\\u0259\\u2026#\", \"man# :: m\\u0259\\u2026#\", \"man# :: m\\u0259\\u2026#\", \"man# :: m\\u0259\\u2026#\", \"man# :: m\\u2026n#\", \"man# :: m\\u2026n#\", \"man# :: m\\u2026n#\", \"man# :: m\\u2026n#\", \"man# :: m\\u2026n#\", \"man# :: m\\u2026n#\", \"man# :: m\\u2026n#\", \"man# :: m\\u2026n#\", \"man# :: sm\\u0259n\", \"man# :: sm\\u0259n\", \"man# :: \\u025dm\\u0259n\", \"man# :: \\u025dm\\u2026n\", \"man# :: \\u025dm\\u2026n\", \"man# :: \\u025d\\u2026\\u0259n\", \"man# :: \\u025d\\u2026\\u0259n\", \"man# :: \\u025d\\u2026\\u0259n\", \"man# :: \\u026bm\\u0259n\", \"man# :: \\u026bm\\u0259n\", \"man# :: \\u026bm\\u2026n\", \"man# :: \\u026bm\\u2026n\", \"man# :: \\u026bm\\u2026n\", \"man# :: \\u026bm\\u2026n\", \"man# :: \\u026b\\u2026\\u0259n\", \"man# :: \\u026b\\u2026\\u0259n\", \"man# :: \\u026b\\u2026\\u0259n\", \"man# :: \\u026b\\u2026\\u0259n\", \"mart :: m\\u0251\\u0279t\", \"mart :: m\\u0251\\u0279t\", \"mart :: m\\u0251\\u0279t\", \"mart :: m\\u0251\\u0279t\", \"mart :: m\\u0251\\u0279t\", \"mart :: m\\u0251\\u2026t\", \"mart :: m\\u0251\\u2026t\", \"mart :: m\\u0251\\u2026t\", \"mart :: m\\u0251\\u2026t\", \"mart :: m\\u2026\\u0279t\", \"mart :: m\\u2026\\u0279t\", \"mart :: m\\u2026\\u0279t\", \"mart :: m\\u2026\\u0279t\", \"ma\\u2026# :: m\\u0259n#\", \"ma\\u2026# :: m\\u0259n#\", \"ma\\u2026# :: m\\u0259n#\", \"ma\\u2026# :: m\\u0259n#\", \"ma\\u2026# :: m\\u0259n#\", \"ma\\u2026# :: m\\u0259n#\", \"ma\\u2026# :: m\\u0259n#\", \"ma\\u2026# :: m\\u0259n#\", \"ma\\u2026# :: m\\u0259n#\", \"ma\\u2026# :: m\\u0259\\u2026#\", \"ma\\u2026# :: m\\u0259\\u2026#\", \"ma\\u2026# :: m\\u0259\\u2026#\", \"ma\\u2026# :: m\\u0259\\u2026#\", \"ma\\u2026# :: m\\u0259\\u2026#\", \"ma\\u2026# :: m\\u0259\\u2026#\", \"ma\\u2026# :: m\\u0259\\u2026#\", \"ma\\u2026# :: m\\u0259\\u2026#\", \"ma\\u2026# :: m\\u0259\\u2026#\", \"ma\\u2026# :: m\\u0259\\u2026#\", \"ma\\u2026# :: m\\u0259\\u2026#\", \"ma\\u2026# :: m\\u2026n#\", \"ma\\u2026# :: m\\u2026n#\", \"ma\\u2026# :: m\\u2026n#\", \"ma\\u2026# :: m\\u2026n#\", \"ma\\u2026# :: m\\u2026n#\", \"ma\\u2026# :: m\\u2026n#\", \"ma\\u2026# :: m\\u2026n#\", \"ma\\u2026# :: m\\u2026n#\", \"ma\\u2026# :: m\\u2026n#\", \"ma\\u2026# :: m\\u2026n#\", \"ma\\u2026# :: s\\u2026\\u0259n\", \"ma\\u2026# :: \\u025dm\\u0259n\", \"ma\\u2026# :: \\u025dm\\u0259n\", \"ma\\u2026# :: \\u025dm\\u2026n\", \"ma\\u2026# :: \\u025dm\\u2026n\", \"ma\\u2026# :: \\u025dm\\u2026n\", \"ma\\u2026# :: \\u025d\\u2026\\u0259n\", \"ma\\u2026# :: \\u026bm\\u0259n\", \"ma\\u2026# :: \\u026bm\\u0259n\", \"ma\\u2026# :: \\u026bm\\u2026n\", \"ma\\u2026# :: \\u026bm\\u2026n\", \"ma\\u2026# :: \\u026b\\u2026\\u0259n\", \"ma\\u2026# :: \\u026b\\u2026\\u0259n\", \"ma\\u2026# :: \\u026b\\u2026\\u0259n\", \"ma\\u2026# :: \\u026b\\u2026\\u0259n\", \"ma\\u2026t :: m\\u0251\\u0279t\", \"ma\\u2026t :: m\\u0251\\u0279t\", \"ma\\u2026t :: m\\u0251\\u0279t\", \"ma\\u2026t :: m\\u0251\\u0279t\", \"ma\\u2026t :: m\\u0251\\u2026t\", \"ma\\u2026t :: m\\u0251\\u2026t\", \"ma\\u2026t :: m\\u0251\\u2026t\", \"ma\\u2026t :: m\\u2026\\u0279t\", \"ma\\u2026t :: m\\u2026\\u0279t\", \"ma\\u2026t :: m\\u2026\\u0279t\", \"ma\\u2026t :: m\\u2026\\u0279t\", \"mble :: m\\u2026\\u0259\\u026b\", \"mble :: m\\u2026\\u0259\\u026b\", \"mble :: m\\u2026\\u0259\\u026b\", \"mble :: \\u00e6mb\\u0259\", \"mble :: \\u00e6m\\u2026\\u0259\", \"mble :: \\u00e6m\\u2026\\u0259\", \"mble :: \\u00e6\\u2026b\\u0259\", \"mb\\u2026e :: \\u00e6mb\\u0259\", \"mb\\u2026e :: \\u00e6mb\\u0259\", \"mb\\u2026e :: \\u00e6m\\u2026\\u0259\", \"mb\\u2026e :: \\u00e6\\u2026b\\u0259\", \"mb\\u2026e :: \\u00e6\\u2026b\\u0259\", \"mb\\u2026r :: m\\u2026\\u025d\\u0261\", \"moni :: m\\u0251n\\u026a\", \"moni :: m\\u0251n\\u026a\", \"moni :: m\\u0251n\\u026a\", \"moni :: m\\u2026n\\u026a\", \"moni :: m\\u2026n\\u026a\", \"moni :: m\\u2026n\\u026a\", \"mo\\u2026i :: m\\u0251n\\u026a\", \"mo\\u2026i :: m\\u0251n\\u026a\", \"mo\\u2026i :: m\\u0251n\\u026a\", \"mper :: m\\u2026\\u025d#\", \"mper :: m\\u2026\\u025d#\", \"mp\\u2026r :: mp\\u2026#\", \"mp\\u2026t :: k\\u0259\\u2026p\", \"m\\u2026er :: m\\u2026\\u025d#\", \"m\\u2026er :: m\\u2026\\u025d#\", \"m\\u2026l# :: m\\u0259\\u026b#\", \"m\\u2026l# :: m\\u0259\\u026b#\", \"m\\u2026l# :: m\\u0259\\u026b#\", \"m\\u2026l# :: m\\u0259\\u2026#\", \"m\\u2026l# :: m\\u0259\\u2026#\", \"m\\u2026l# :: m\\u2026\\u026b#\", \"m\\u2026l# :: m\\u2026\\u026b#\", \"m\\u2026l# :: m\\u2026\\u026b#\", \"m\\u2026l# :: m\\u2026\\u026b#\", \"m\\u2026l# :: m\\u2026\\u026b#\", \"m\\u2026le :: m\\u2026\\u0259\\u026b\", \"m\\u2026le :: m\\u2026\\u0259\\u026b\", \"m\\u2026le :: m\\u2026\\u0259\\u026b\", \"m\\u2026le :: m\\u2026\\u0259\\u026b\", \"m\\u2026le :: \\u00e6mb\\u0259\", \"m\\u2026le :: \\u00e6mb\\u0259\", \"m\\u2026le :: \\u00e6mb\\u0259\", \"m\\u2026le :: \\u00e6m\\u2026\\u0259\", \"m\\u2026le :: \\u00e6\\u2026b\\u0259\", \"m\\u2026n# :: m\\u0259n#\", \"m\\u2026n# :: m\\u0259n#\", \"m\\u2026n# :: m\\u0259n#\", \"m\\u2026n# :: m\\u0259n#\", \"m\\u2026n# :: m\\u0259n#\", \"m\\u2026n# :: m\\u0259n#\", \"m\\u2026n# :: m\\u0259n#\", \"m\\u2026n# :: m\\u0259n#\", \"m\\u2026n# :: m\\u0259n#\", \"m\\u2026n# :: m\\u0259n#\", \"m\\u2026n# :: m\\u0259n#\", \"m\\u2026n# :: m\\u0259n#\", \"m\\u2026n# :: m\\u0259n#\", \"m\\u2026n# :: m\\u0259\\u2026#\", \"m\\u2026n# :: m\\u0259\\u2026#\", \"m\\u2026n# :: m\\u0259\\u2026#\", \"m\\u2026n# :: m\\u0259\\u2026#\", \"m\\u2026n# :: m\\u0259\\u2026#\", \"m\\u2026n# :: m\\u0259\\u2026#\", \"m\\u2026n# :: m\\u0259\\u2026#\", \"m\\u2026n# :: m\\u0259\\u2026#\", \"m\\u2026n# :: m\\u0259\\u2026#\", \"m\\u2026n# :: m\\u0259\\u2026#\", \"m\\u2026n# :: m\\u0259\\u2026#\", \"m\\u2026n# :: m\\u0259\\u2026#\", \"m\\u2026n# :: m\\u2026n#\", \"m\\u2026n# :: m\\u2026n#\", \"m\\u2026n# :: m\\u2026n#\", \"m\\u2026n# :: m\\u2026n#\", \"m\\u2026n# :: m\\u2026n#\", \"m\\u2026n# :: m\\u2026n#\", \"m\\u2026n# :: m\\u2026n#\", \"m\\u2026n# :: m\\u2026n#\", \"m\\u2026n# :: m\\u2026n#\", \"m\\u2026n# :: m\\u2026n#\", \"m\\u2026n# :: m\\u2026n#\", \"m\\u2026n# :: m\\u2026n#\", \"m\\u2026n# :: m\\u2026n#\", \"m\\u2026n# :: sm\\u2026n\", \"m\\u2026n# :: \\u00e6m\\u2026n\", \"m\\u2026n# :: \\u00e6\\u2026\\u0259n\", \"m\\u2026n# :: \\u00e6\\u2026\\u0259n\", \"m\\u2026n# :: \\u00e6\\u2026\\u0259n\", \"m\\u2026n# :: \\u00e6\\u2026\\u0259n\", \"m\\u2026n# :: \\u00e6\\u2026\\u0259n\", \"m\\u2026n# :: \\u025dm\\u0259n\", \"m\\u2026n# :: \\u025dm\\u0259n\", \"m\\u2026n# :: \\u025dm\\u0259n\", \"m\\u2026n# :: \\u025dm\\u2026n\", \"m\\u2026n# :: \\u025d\\u2026\\u0259n\", \"m\\u2026n# :: \\u026bm\\u0259n\", \"m\\u2026n# :: \\u026bm\\u0259n\", \"m\\u2026n# :: \\u026bm\\u2026n\", \"m\\u2026n# :: \\u026bm\\u2026n\", \"m\\u2026n# :: \\u026b\\u2026\\u0259n\", \"m\\u2026n# :: \\u026b\\u2026\\u0259n\", \"m\\u2026n# :: \\u026b\\u2026\\u0259n\", \"m\\u2026n# :: \\u026b\\u2026\\u0259n\", \"m\\u2026n# :: \\u026b\\u2026\\u0259n\", \"m\\u2026rt :: m\\u0251\\u0279t\", \"m\\u2026rt :: m\\u0251\\u0279t\", \"m\\u2026rt :: m\\u0251\\u0279t\", \"m\\u2026rt :: m\\u0251\\u0279t\", \"m\\u2026rt :: m\\u0251\\u2026t\", \"m\\u2026rt :: m\\u0251\\u2026t\", \"m\\u2026rt :: m\\u0251\\u2026t\", \"m\\u2026rt :: m\\u2026\\u0279t\", \"m\\u2026rt :: m\\u2026\\u0279t\", \"m\\u2026rt :: m\\u2026\\u0279t\", \"m\\u2026rt :: m\\u2026\\u0279t\", \"m\\u2026rt :: \\u0279t\\u026an\", \"n's# :: \\u0259nz#\", \"n's# :: \\u0259nz#\", \"n's# :: \\u0259nz#\", \"n's# :: \\u0259nz#\", \"n's# :: \\u0259nz#\", \"n's# :: \\u0259nz#\", \"n's# :: \\u0259nz#\", \"n's# :: \\u0259n\\u2026#\", \"n's# :: \\u0259n\\u2026#\", \"n's# :: \\u0259n\\u2026#\", \"n's# :: \\u0259n\\u2026#\", \"n's# :: \\u0259n\\u2026#\", \"n's# :: \\u0259n\\u2026#\", \"n's# :: \\u0259n\\u2026#\", \"n's# :: \\u0259n\\u2026#\", \"n's# :: \\u0259\\u2026z#\", \"n's# :: \\u0259\\u2026z#\", \"n's# :: \\u0259\\u2026z#\", \"n's# :: \\u0259\\u2026z#\", \"n's# :: \\u0259\\u2026z#\", \"n's# :: \\u0259\\u2026z#\", \"n'\\u2026# :: \\u0259nz#\", \"n'\\u2026# :: \\u0259nz#\", \"n'\\u2026# :: \\u0259nz#\", \"n'\\u2026# :: \\u0259nz#\", \"n'\\u2026# :: \\u0259nz#\", \"n'\\u2026# :: \\u0259nz#\", \"n'\\u2026# :: \\u0259nz#\", \"n'\\u2026# :: \\u0259n\\u2026#\", \"n'\\u2026# :: \\u0259n\\u2026#\", \"n'\\u2026# :: \\u0259n\\u2026#\", \"n'\\u2026# :: \\u0259n\\u2026#\", \"n'\\u2026# :: \\u0259n\\u2026#\", \"n'\\u2026# :: \\u0259n\\u2026#\", \"n'\\u2026# :: \\u0259\\u2026z#\", \"n'\\u2026# :: \\u0259\\u2026z#\", \"n'\\u2026# :: \\u0259\\u2026z#\", \"n'\\u2026# :: \\u0259\\u2026z#\", \"n'\\u2026# :: \\u0259\\u2026z#\", \"n'\\u2026# :: \\u0259\\u2026z#\", \"nber :: b\\u025d\\u0261#\", \"nber :: b\\u025d\\u2026#\", \"nber :: b\\u025d\\u2026#\", \"nber :: b\\u025d\\u2026#\", \"nber :: nb\\u025d\\u0261\", \"nber :: nb\\u025d\\u0261\", \"nber :: nb\\u025d\\u0261\", \"nber :: nb\\u2026\\u0261\", \"nber :: nb\\u2026\\u0261\", \"nber :: \\u0259n\\u2026\\u025d\", \"nber :: \\u0259\\u2026b\\u025d\", \"nb\\u2026r :: b\\u025d\\u0261#\", \"nb\\u2026r :: b\\u025d\\u2026#\", \"nb\\u2026r :: b\\u025d\\u2026#\", \"nb\\u2026r :: b\\u025d\\u2026#\", \"nb\\u2026r :: b\\u2026\\u0261#\", \"nb\\u2026r :: nb\\u025d\\u0261\", \"nb\\u2026r :: nb\\u025d\\u0261\", \"nb\\u2026r :: nb\\u2026\\u0261\", \"nb\\u2026r :: nb\\u2026\\u0261\", \"nb\\u2026r :: n\\u2026\\u025d\\u0261\", \"nb\\u2026r :: n\\u2026\\u025d\\u0261\", \"nb\\u2026r :: \\u0259nb\\u025d\", \"nb\\u2026r :: \\u0259nb\\u025d\", \"nb\\u2026r :: \\u0259nb\\u025d\", \"nb\\u2026r :: \\u0259n\\u2026\\u025d\", \"nb\\u2026r :: \\u0259n\\u2026\\u025d\", \"nb\\u2026r :: \\u026anb\\u025d\", \"nb\\u2026r :: \\u026anb\\u025d\", \"nb\\u2026r :: \\u026an\\u2026\\u025d\", \"nb\\u2026r :: \\u026a\\u2026b\\u025d\", \"nce# :: \\u0259ns#\", \"nce# :: \\u0259n\\u2026#\", \"nce# :: \\u0259\\u2026s#\", \"nce# :: \\u0259\\u2026s#\", \"nc\\u2026# :: \\u0259ns#\", \"nc\\u2026# :: \\u0259n\\u2026#\", \"nc\\u2026# :: \\u0259\\u2026s#\", \"nd's :: n\\u2026z#\", \"nd's :: n\\u2026z#\", \"nd\\u2026# :: nd\\u2026#\", \"nd\\u2026# :: nd\\u2026#\", \"nd\\u2026# :: nd\\u2026#\", \"nd\\u2026# :: nd\\u2026#\", \"nd\\u2026# :: nd\\u2026#\", \"nd\\u2026# :: nd\\u2026#\", \"nd\\u2026# :: nd\\u2026#\", \"nd\\u2026# :: nd\\u2026#\", \"nd\\u2026# :: nd\\u2026#\", \"nd\\u2026s :: ndz#\", \"nd\\u2026s :: ndz#\", \"nd\\u2026s :: nd\\u2026#\", \"nd\\u2026s :: nd\\u2026#\", \"nd\\u2026s :: nd\\u2026#\", \"nd\\u2026s :: n\\u2026z#\", \"ner# :: a\\u026a\\u2026\\u025d\", \"ner# :: a\\u026a\\u2026\\u025d\", \"ner# :: a\\u026a\\u2026\\u025d\", \"ner# :: a\\u2026n\\u025d#\", \"ner# :: a\\u2026n\\u025d#\", \"ner# :: \\u026an\\u025d#\", \"ner# :: \\u026an\\u025d#\", \"ner# :: \\u026an\\u025d#\", \"ner# :: \\u026an\\u025d#\", \"ner# :: \\u026an\\u025d#\", \"ner# :: \\u026an\\u025d#\", \"ner# :: \\u026an\\u2026#\", \"ner# :: \\u026an\\u2026#\", \"ner# :: \\u026an\\u2026#\", \"ner# :: \\u026an\\u2026#\", \"ner# :: \\u026an\\u2026#\", \"ner# :: \\u026a\\u2026\\u025d#\", \"ner# :: \\u026a\\u2026\\u025d#\", \"ner# :: \\u026a\\u2026\\u025d#\", \"ner# :: \\u026a\\u2026\\u025d#\", \"nes# :: t\\u2026nz\", \"nes# :: t\\u2026n\\u2026#\", \"ness :: in\\u0259s\", \"ness :: in\\u0259s\", \"ness :: in\\u2026s\", \"ness :: i\\u2026\\u0259s\", \"ness :: i\\u2026\\u0259s\", \"ness :: n\\u0259s#\", \"ness :: n\\u0259s#\", \"ness :: n\\u0259s#\", \"ness :: n\\u0259\\u2026#\", \"ness :: n\\u0259\\u2026#\", \"ness :: n\\u0259\\u2026#\", \"ness :: n\\u2026s#\", \"ness :: n\\u2026s#\", \"ness :: n\\u2026s#\", \"ness :: n\\u2026s#\", \"ness :: n\\u2026s#\", \"ness :: n\\u2026s#\", \"ness :: n\\u2026s#\", \"ness :: tn\\u0259s\", \"ness :: tn\\u2026s\", \"ness :: tn\\u2026s\", \"ness :: t\\u2026\\u0259s\", \"ness :: \\u0259\\u2026n\\u0259\", \"ne\\u2026# :: a\\u026a\\u2026\\u025d\", \"ne\\u2026# :: a\\u026a\\u2026\\u025d\", \"ne\\u2026# :: a\\u026a\\u2026\\u025d\", \"ne\\u2026# :: n\\u2026k#\", \"ne\\u2026# :: n\\u2026k#\", \"ne\\u2026# :: n\\u2026k#\", \"ne\\u2026# :: t\\u2026nz\", \"ne\\u2026# :: t\\u2026nz\", \"ne\\u2026# :: t\\u2026nz#\", \"ne\\u2026# :: un\\u2026#\", \"ne\\u2026# :: un\\u2026#\", \"ne\\u2026# :: un\\u2026#\", \"ne\\u2026# :: un\\u2026#\", \"ne\\u2026# :: \\u026an\\u025d#\", \"ne\\u2026# :: \\u026an\\u025d#\", \"ne\\u2026# :: \\u026an\\u025d#\", \"ne\\u2026# :: \\u026an\\u2026#\", \"ne\\u2026# :: \\u026an\\u2026#\", \"ne\\u2026# :: \\u026an\\u2026#\", \"ne\\u2026# :: \\u026an\\u2026#\", \"ne\\u2026# :: \\u026an\\u2026#\", \"ne\\u2026# :: \\u026an\\u2026#\", \"ne\\u2026# :: \\u026an\\u2026#\", \"ne\\u2026# :: \\u026an\\u2026#\", \"ne\\u2026# :: \\u026an\\u2026#\", \"ne\\u2026# :: \\u026an\\u2026#\", \"ne\\u2026# :: \\u026a\\u2026\\u025d#\", \"ne\\u2026# :: \\u026a\\u2026\\u025d#\", \"ne\\u2026# :: \\u026a\\u2026\\u025d#\", \"ne\\u2026# :: \\u026a\\u2026\\u025d#\", \"ne\\u2026s :: in\\u0259s\", \"ne\\u2026s :: in\\u2026s\", \"ne\\u2026s :: n\\u0259s#\", \"ne\\u2026s :: n\\u0259s#\", \"ne\\u2026s :: n\\u0259s#\", \"ne\\u2026s :: n\\u0259s#\", \"ne\\u2026s :: n\\u0259\\u2026#\", \"ne\\u2026s :: n\\u0259\\u2026#\", \"ne\\u2026s :: n\\u0259\\u2026#\", \"ne\\u2026s :: n\\u0259\\u2026#\", \"ne\\u2026s :: n\\u0259\\u2026#\", \"ne\\u2026s :: n\\u2026s#\", \"ne\\u2026s :: n\\u2026s#\", \"ne\\u2026s :: n\\u2026s#\", \"ne\\u2026s :: n\\u2026s#\", \"ne\\u2026s :: tn\\u0259s\", \"ne\\u2026s :: tn\\u0259s\", \"ne\\u2026s :: tn\\u2026s\", \"ne\\u2026s :: tn\\u2026s\", \"ne\\u2026s :: t\\u2026\\u0259s\", \"ne\\u2026s :: t\\u2026\\u0259s\", \"ne\\u2026s :: \\u0259\\u2026n\\u0259\", \"ne\\u2026s :: \\u0259\\u2026n\\u0259\", \"ne\\u2026s :: \\u0259\\u2026n\\u0259\", \"nger :: d\\u0292\\u025d#\", \"nger :: d\\u0292\\u2026#\", \"nger :: nd\\u0292\\u025d\", \"nger :: nd\\u2026\\u025d\", \"nger :: n\\u2026\\u0292\\u025d\", \"nger :: \\u026and\\u0292\", \"nger :: \\u026an\\u2026\\u0292\", \"nger :: \\u026a\\u014b\\u2026#\", \"nger :: \\u026a\\u2026d\\u0292\", \"nger :: \\u026a\\u2026\\u025d#\", \"ngs# :: \\u026a\\u014bz#\", \"ngs# :: \\u026a\\u014bz#\", \"ngs# :: \\u026a\\u014bz#\", \"ngs# :: \\u026a\\u014bz#\", \"ngs# :: \\u026a\\u014bz#\", \"ngs# :: \\u026a\\u014b\\u2026#\", \"ngs# :: \\u026a\\u014b\\u2026#\", \"ngs# :: \\u026a\\u014b\\u2026#\", \"ngs# :: \\u026a\\u014b\\u2026#\", \"ngs# :: \\u026a\\u014b\\u2026#\", \"ngs# :: \\u026a\\u014b\\u2026#\", \"ngs# :: \\u026a\\u014b\\u2026#\", \"ngs# :: \\u026a\\u2026z#\", \"ngs# :: \\u026a\\u2026z#\", \"ngs# :: \\u026a\\u2026z#\", \"ngs# :: \\u026a\\u2026z#\", \"ngs# :: \\u026a\\u2026z#\", \"ngs# :: \\u028a\\u2026\\u026a\\u014b\", \"ngs# :: \\u028a\\u2026\\u026a\\u014b\", \"ngto :: \\u014bt\\u0259n\", \"ngto :: \\u014bt\\u0259n\", \"ngto :: \\u026a\\u2026t\\u0259\", \"ngto :: \\u026a\\u2026t\\u0259\", \"ng\\u2026# :: \\u026a\\u014bz#\", \"ng\\u2026# :: \\u026a\\u014bz#\", \"ng\\u2026# :: \\u026a\\u014bz#\", \"ng\\u2026# :: \\u026a\\u014bz#\", \"ng\\u2026# :: \\u026a\\u014bz#\", \"ng\\u2026# :: \\u026a\\u014bz#\", \"ng\\u2026# :: \\u026a\\u014b\\u2026#\", \"ng\\u2026# :: \\u026a\\u014b\\u2026#\", \"ng\\u2026# :: \\u026a\\u014b\\u2026#\", \"ng\\u2026# :: \\u026a\\u014b\\u2026#\", \"ng\\u2026# :: \\u026a\\u014b\\u2026#\", \"ng\\u2026# :: \\u026a\\u014b\\u2026#\", \"ng\\u2026# :: \\u026a\\u014b\\u2026#\", \"ng\\u2026# :: \\u026a\\u2026z#\", \"ng\\u2026# :: \\u026a\\u2026z#\", \"ng\\u2026# :: \\u026a\\u2026z#\", \"ng\\u2026# :: \\u026a\\u2026z#\", \"ng\\u2026# :: \\u026a\\u2026z#\", \"ng\\u2026# :: \\u026a\\u2026z#\", \"ng\\u2026# :: \\u028a\\u2026\\u026a\\u014b\", \"ng\\u2026# :: \\u028a\\u2026\\u026a\\u014b\", \"ng\\u2026l :: \\u014b\\u0261\\u2026\\u026b\", \"ng\\u2026o :: t\\u0259n#\", \"ng\\u2026o :: t\\u0259n#\", \"ng\\u2026o :: \\u014bt\\u2026n\", \"ng\\u2026o :: \\u026a\\u014bt\\u0259\", \"ng\\u2026o :: \\u026a\\u014b\\u2026\\u0259\", \"ng\\u2026o :: \\u026a\\u014b\\u2026\\u0259\", \"ng\\u2026r :: d\\u0292\\u025d#\", \"ng\\u2026r :: d\\u0292\\u2026#\", \"ng\\u2026r :: d\\u0292\\u2026#\", \"ng\\u2026r :: nd\\u0292\\u025d\", \"ng\\u2026r :: nd\\u2026\\u025d\", \"ng\\u2026r :: n\\u2026\\u0292\\u025d\", \"ng\\u2026r :: n\\u2026\\u0292\\u025d\", \"ng\\u2026r :: \\u014b\\u0261\\u025d#\", \"ng\\u2026r :: \\u014b\\u2026\\u025d#\", \"ng\\u2026r :: \\u014b\\u2026\\u025d#\", \"ng\\u2026r :: \\u014b\\u2026\\u025d#\", \"ng\\u2026r :: \\u026a\\u014b\\u025d#\", \"ng\\u2026r :: \\u026a\\u014b\\u025d#\", \"ng\\u2026r :: \\u026a\\u014b\\u2026#\", \"ng\\u2026r :: \\u026a\\u2026d\\u0292\", \"ng\\u2026r :: \\u026a\\u2026d\\u0292\", \"nica :: \\u026ak\\u2026\\u026b\", \"ning :: \\u0259n\\u2026\\u014b\", \"nist :: n\\u2026st\", \"nist :: n\\u2026st\", \"ni\\u2026# :: e\\u2026nj\", \"ni\\u2026# :: n\\u2026st\", \"ni\\u2026# :: \\u026a\\u2026j\\u0259\", \"ni\\u2026# :: \\u026a\\u2026j\\u0259\", \"ni\\u2026a :: \\u026ak\\u0259\\u026b\", \"ni\\u2026g :: n\\u026a\\u2026#\", \"ni\\u2026g :: n\\u026a\\u2026#\", \"ni\\u2026g :: n\\u026a\\u2026#\", \"ni\\u2026t :: n\\u2026st\", \"ni\\u2026t :: n\\u2026s\\u2026#\", \"ni\\u2026t :: \\u0259\\u2026t#\", \"ni\\u2026t :: \\u0259\\u2026t#\", \"ni\\u2026t# :: n\\u2026st\", \"nk\\u2026r :: j\\u2026\\u014bk\", \"nk\\u2026r :: \\u014bk\\u2026z\", \"nk\\u2026r :: \\u014b\\u2026\\u025dz\", \"nnin :: n\\u026a\\u014b#\", \"nnin :: n\\u026a\\u2026#\", \"nn\\u2026n :: n\\u026a\\u2026#\", \"nn\\u2026n :: n\\u2026\\u014b#\", \"nski :: nski\", \"nski :: ns\\u2026i\", \"nski :: n\\u2026ki\", \"nski :: ski#\", \"nski :: ski#\", \"nski :: sk\\u2026#\", \"nski :: s\\u2026i#\", \"nski :: s\\u2026i#\", \"nson :: ns\\u0259n\", \"nson :: ns\\u2026n\", \"nson :: ns\\u2026n\", \"nson :: ns\\u2026n\", \"nson :: n\\u2026\\u0259n\", \"nson :: s\\u0259n#\", \"nson :: s\\u0259n#\", \"nson :: s\\u0259n#\", \"nson :: s\\u0259\\u2026#\", \"nson :: s\\u0259\\u2026#\", \"nson :: s\\u2026n#\", \"ns\\u2026i :: nski\", \"ns\\u2026i :: ns\\u2026i\", \"ns\\u2026i :: ns\\u2026i\", \"ns\\u2026i :: ns\\u2026i\", \"ns\\u2026i :: n\\u2026ki\", \"ns\\u2026i :: n\\u2026ki\", \"ns\\u2026i :: ski#\", \"ns\\u2026i :: ski#\", \"ns\\u2026i :: sk\\u2026#\", \"ns\\u2026i :: s\\u2026i#\", \"ns\\u2026i :: s\\u2026i#\", \"ns\\u2026i :: \\u026ansk\", \"ns\\u2026n :: ns\\u0259n\", \"ns\\u2026n :: ns\\u0259n\", \"ns\\u2026n :: ns\\u0259n\", \"ns\\u2026n :: ns\\u2026n\", \"ns\\u2026n :: ns\\u2026n\", \"ns\\u2026n :: ns\\u2026n\", \"ns\\u2026n :: ns\\u2026n\", \"ns\\u2026n :: ns\\u2026n\", \"ns\\u2026n :: ns\\u2026n\", \"ns\\u2026n :: n\\u2026\\u0259n\", \"ns\\u2026n :: n\\u2026\\u0259n\", \"ns\\u2026n :: n\\u2026\\u0259n\", \"ns\\u2026n :: n\\u2026\\u0259n\", \"ns\\u2026n :: n\\u2026\\u0259n\", \"ns\\u2026n :: n\\u2026\\u0259n\", \"ns\\u2026n :: s\\u0259n#\", \"ns\\u2026n :: s\\u0259n#\", \"ns\\u2026n :: s\\u0259n#\", \"ns\\u2026n :: s\\u0259n#\", \"ns\\u2026n :: s\\u0259\\u2026#\", \"ns\\u2026n :: s\\u0259\\u2026#\", \"ns\\u2026n :: s\\u0259\\u2026#\", \"ns\\u2026n :: s\\u0259\\u2026#\", \"ns\\u2026n :: s\\u2026n#\", \"ns\\u2026n :: s\\u2026n#\", \"ns\\u2026n :: s\\u2026n#\", \"nt's :: n\\u2026s#\", \"nt's :: \\u0259n\\u2026s\", \"nt's :: \\u0259n\\u2026s\", \"nt\\u2026s :: nt\\u2026#\", \"nt\\u2026s :: n\\u2026s#\", \"n\\u2026's :: nt\\u2026#\", \"n\\u2026's :: n\\u2026z#\", \"n\\u2026's :: n\\u2026z#\", \"n\\u2026's :: n\\u2026z#\", \"n\\u2026's :: n\\u2026z#\", \"n\\u2026's :: n\\u2026z#\", \"n\\u2026's :: n\\u2026z#\", \"n\\u2026's :: n\\u2026z#\", \"n\\u2026's :: n\\u2026z#\", \"n\\u2026's :: \\u0259ndz\", \"n\\u2026's :: \\u0259n\\u2026s\", \"n\\u2026a# :: n\\u2026\\u0259#\", \"n\\u2026a# :: n\\u2026\\u0259#\", \"n\\u2026a# :: n\\u2026\\u0259#\", \"n\\u2026a# :: n\\u2026\\u0259#\", \"n\\u2026a# :: n\\u2026\\u0259#\", \"n\\u2026a# :: n\\u2026\\u0259#\", \"n\\u2026a# :: n\\u2026\\u0259#\", \"n\\u2026a# :: n\\u2026\\u0259#\", \"n\\u2026a# :: n\\u2026\\u0259#\", \"n\\u2026a# :: n\\u2026\\u0259#\", \"n\\u2026a# :: n\\u2026\\u0259#\", \"n\\u2026a# :: n\\u2026\\u0259#\", \"n\\u2026ac :: b\\u0251k#\", \"n\\u2026ac :: n\\u2026\\u0251k\", \"n\\u2026ca :: k\\u2026\\u026b#\", \"n\\u2026ca :: \\u026ak\\u0259\\u026b\", \"n\\u2026e# :: \\u0259ns#\", \"n\\u2026e# :: \\u0259n\\u2026#\", \"n\\u2026e# :: \\u0259n\\u2026#\", \"n\\u2026e# :: \\u0259\\u2026s#\", \"n\\u2026ei :: \\u0259n\\u2026e\", \"n\\u2026ei :: \\u0259n\\u2026e\", \"n\\u2026en :: s\\u2026n#\", \"n\\u2026en :: s\\u2026n#\", \"n\\u2026en :: s\\u2026n#\", \"n\\u2026en :: \\u026a\\u2026s\\u0259\", \"n\\u2026er :: b\\u025d\\u2026#\", \"n\\u2026er :: b\\u025d\\u2026#\", \"n\\u2026er :: b\\u025d\\u2026#\", \"n\\u2026er :: b\\u025d\\u2026#\", \"n\\u2026er :: d\\u0292\\u025d#\", \"n\\u2026er :: d\\u0292\\u025d#\", \"n\\u2026er :: d\\u0292\\u025d#\", \"n\\u2026er :: d\\u0292\\u2026#\", \"n\\u2026er :: d\\u2026\\u025d#\", \"n\\u2026er :: k\\u025dz#\", \"n\\u2026er :: nb\\u025d\\u0261\", \"n\\u2026er :: nb\\u025d\\u0261\", \"n\\u2026er :: nb\\u025d\\u0261\", \"n\\u2026er :: nd\\u025d#\", \"n\\u2026er :: nd\\u025d#\", \"n\\u2026er :: nd\\u0292\\u025d\", \"n\\u2026er :: nd\\u0292\\u025d\", \"n\\u2026er :: nd\\u0292\\u025d\", \"n\\u2026er :: nd\\u2026\\u025d\", \"n\\u2026er :: nd\\u2026\\u025d\", \"n\\u2026er :: n\\u2026\\u025d\\u0261\", \"n\\u2026er :: n\\u2026\\u025d\\u0261\", \"n\\u2026er :: n\\u2026\\u025d\\u0261\", \"n\\u2026er :: n\\u2026\\u0292\\u025d\", \"n\\u2026er :: n\\u2026\\u0292\\u025d\", \"n\\u2026er :: n\\u2026\\u0292\\u025d\", \"n\\u2026er :: \\u014bk\\u025dz\", \"n\\u2026er :: \\u014bk\\u025dz\", \"n\\u2026er :: \\u0259nb\\u025d\", \"n\\u2026er :: \\u026and\\u0292\", \"n\\u2026er :: \\u026an\\u2026\\u025d\", \"n\\u2026er :: \\u026an\\u2026\\u025d\", \"n\\u2026er :: \\u026an\\u2026\\u025d\", \"n\\u2026er :: \\u026an\\u2026\\u025d\", \"n\\u2026er :: \\u026an\\u2026\\u025d\", \"n\\u2026er :: \\u026an\\u2026\\u025d\", \"n\\u2026er :: \\u026an\\u2026\\u0292\", \"n\\u2026er :: \\u026a\\u014b\\u2026#\", \"n\\u2026er :: \\u026a\\u014b\\u2026#\", \"n\\u2026er :: \\u026a\\u2026d\\u0292\", \"n\\u2026er :: \\u026a\\u2026d\\u0292\", \"n\\u2026er :: \\u026a\\u2026\\u025d#\", \"n\\u2026er :: \\u026a\\u2026\\u025d#\", \"n\\u2026er :: \\u026a\\u2026\\u025d#\", \"n\\u2026er :: \\u026a\\u2026\\u025d#\", \"n\\u2026in :: n\\u026a\\u2026#\", \"n\\u2026in :: n\\u026a\\u2026#\", \"n\\u2026ki :: nski\", \"n\\u2026ki :: ns\\u2026i\", \"n\\u2026ki :: n\\u2026ki\", \"n\\u2026ki :: ski#\", \"n\\u2026ki :: ski#\", \"n\\u2026ki :: sk\\u2026#\", \"n\\u2026ki :: sk\\u2026#\", \"n\\u2026ki :: sk\\u2026#\", \"n\\u2026ki :: s\\u2026i#\", \"n\\u2026ki :: s\\u2026i#\", \"n\\u2026l' :: \\u0259\\u026bz#\", \"n\\u2026ng :: n\\u026a\\u014b#\", \"n\\u2026ng :: n\\u026a\\u014b#\", \"n\\u2026ng :: n\\u026a\\u014b#\", \"n\\u2026ng :: n\\u026a\\u014b#\", \"n\\u2026ng :: n\\u026a\\u014b#\", \"n\\u2026ng :: n\\u026a\\u2026#\", \"n\\u2026ng :: n\\u026a\\u2026#\", \"n\\u2026ng :: n\\u026a\\u2026#\", \"n\\u2026ng :: n\\u026a\\u2026#\", \"n\\u2026ng :: n\\u2026\\u014b#\", \"n\\u2026ng :: n\\u2026\\u014b#\", \"n\\u2026ng :: n\\u2026\\u014b#\", \"n\\u2026ng :: n\\u2026\\u014b#\", \"n\\u2026ng :: \\u00e6n\\u2026\\u014b\", \"n\\u2026ng :: \\u0259n\\u026a\\u014b\", \"n\\u2026on :: ns\\u0259n\", \"n\\u2026on :: ns\\u0259n\", \"n\\u2026on :: ns\\u0259n\", \"n\\u2026on :: ns\\u2026n\", \"n\\u2026on :: ns\\u2026n\", \"n\\u2026on :: ns\\u2026n\", \"n\\u2026on :: n\\u2026\\u0259n\", \"n\\u2026on :: n\\u2026\\u0259n\", \"n\\u2026on :: n\\u2026\\u0259n\", \"n\\u2026on :: n\\u2026\\u0259n\", \"n\\u2026on :: n\\u2026\\u0259n\", \"n\\u2026on :: n\\u2026\\u0259n\", \"n\\u2026on :: n\\u2026\\u0259n\", \"n\\u2026on :: s\\u0259n#\", \"n\\u2026on :: s\\u0259n#\", \"n\\u2026on :: s\\u0259n#\", \"n\\u2026on :: s\\u0259n#\", \"n\\u2026on :: s\\u0259\\u2026#\", \"n\\u2026on :: s\\u2026n#\", \"n\\u2026or :: \\u025bn\\u2026\\u025d\", \"n\\u2026r# :: a\\u026a\\u2026\\u025d\", \"n\\u2026r# :: a\\u026a\\u2026\\u025d\", \"n\\u2026r# :: a\\u026a\\u2026\\u025d\", \"n\\u2026r# :: a\\u2026n\\u2026#\", \"n\\u2026r# :: \\u026an\\u025d#\", \"n\\u2026r# :: \\u026an\\u025d#\", \"n\\u2026r# :: \\u026an\\u025d#\", \"n\\u2026r# :: \\u026an\\u025d#\", \"n\\u2026r# :: \\u026an\\u025d#\", \"n\\u2026r# :: \\u026an\\u2026#\", \"n\\u2026r# :: \\u026an\\u2026#\", \"n\\u2026r# :: \\u026a\\u2026\\u025d#\", \"n\\u2026r# :: \\u026a\\u2026\\u025d#\", \"n\\u2026r# :: \\u026a\\u2026\\u025d#\", \"n\\u2026r# :: \\u026a\\u2026\\u025d#\", \"n\\u2026r# :: \\u026a\\u2026\\u025d#\", \"n\\u2026r# :: \\u026a\\u2026\\u025d#\", \"n\\u2026s# :: n\\u2026z#\", \"n\\u2026s# :: n\\u2026z#\", \"n\\u2026s# :: n\\u2026z#\", \"n\\u2026s# :: n\\u2026z#\", \"n\\u2026s# :: n\\u2026z#\", \"n\\u2026s# :: n\\u2026z#\", \"n\\u2026s# :: n\\u2026z#\", \"n\\u2026s# :: n\\u2026z#\", \"n\\u2026s# :: t\\u2026nz\", \"n\\u2026s# :: t\\u2026nz\", \"n\\u2026s# :: t\\u2026nz\", \"n\\u2026s# :: \\u0259nz#\", \"n\\u2026s# :: \\u0259nz#\", \"n\\u2026s# :: \\u0259nz#\", \"n\\u2026s# :: \\u0259nz#\", \"n\\u2026s# :: \\u0259nz#\", \"n\\u2026s# :: \\u0259nz#\", \"n\\u2026s# :: \\u0259nz#\", \"n\\u2026s# :: \\u0259nz#\", \"n\\u2026s# :: \\u0259nz#\", \"n\\u2026s# :: \\u0259n\\u2026#\", \"n\\u2026s# :: \\u0259n\\u2026#\", \"n\\u2026s# :: \\u0259n\\u2026#\", \"n\\u2026s# :: \\u0259n\\u2026#\", \"n\\u2026s# :: \\u0259n\\u2026#\", \"n\\u2026s# :: \\u0259n\\u2026#\", \"n\\u2026s# :: \\u0259n\\u2026#\", \"n\\u2026s# :: \\u0259n\\u2026#\", \"n\\u2026s# :: \\u0259n\\u2026#\", \"n\\u2026s# :: \\u0259n\\u2026#\", \"n\\u2026s# :: \\u0259n\\u2026#\", \"n\\u2026s# :: \\u0259n\\u2026#\", \"n\\u2026s# :: \\u0259n\\u2026#\", \"n\\u2026s# :: \\u0259\\u2026z#\", \"n\\u2026s# :: \\u0259\\u2026z#\", \"n\\u2026s# :: \\u0259\\u2026z#\", \"n\\u2026s# :: \\u0259\\u2026z#\", \"n\\u2026s# :: \\u0259\\u2026z#\", \"n\\u2026s# :: \\u0259\\u2026z#\", \"n\\u2026s# :: \\u0259\\u2026z#\", \"n\\u2026s# :: \\u0259\\u2026z#\", \"n\\u2026s# :: \\u0259\\u2026z#\", \"n\\u2026s# :: \\u0259\\u2026z#\", \"n\\u2026s# :: \\u0259\\u2026z#\", \"n\\u2026s# :: \\u026a\\u014bz#\", \"n\\u2026s# :: \\u026a\\u014bz#\", \"n\\u2026s# :: \\u026a\\u014bz#\", \"n\\u2026s# :: \\u026a\\u014bz#\", \"n\\u2026s# :: \\u026a\\u014bz#\", \"n\\u2026s# :: \\u026a\\u014bz#\", \"n\\u2026s# :: \\u026a\\u014bz#\", \"n\\u2026s# :: \\u026a\\u014b\\u2026#\", \"n\\u2026s# :: \\u026a\\u014b\\u2026#\", \"n\\u2026s# :: \\u026a\\u014b\\u2026#\", \"n\\u2026s# :: \\u026a\\u014b\\u2026#\", \"n\\u2026s# :: \\u026a\\u014b\\u2026#\", \"n\\u2026s# :: \\u026a\\u014b\\u2026#\", \"n\\u2026s# :: \\u026a\\u2026z#\", \"n\\u2026s# :: \\u026a\\u2026z#\", \"n\\u2026s# :: \\u026a\\u2026z#\", \"n\\u2026s# :: \\u026a\\u2026z#\", \"n\\u2026s# :: \\u026a\\u2026z#\", \"n\\u2026s# :: \\u026a\\u2026z#\", \"n\\u2026s# :: \\u026a\\u2026z#\", \"n\\u2026s# :: \\u026a\\u2026z#\", \"n\\u2026s# :: \\u026a\\u2026z#\", \"n\\u2026s# :: \\u026a\\u2026z#\", \"n\\u2026s# :: \\u026a\\u2026z#\", \"n\\u2026s# :: \\u026a\\u2026z#\", \"n\\u2026s# :: \\u026a\\u2026z#\", \"n\\u2026s# :: \\u028a\\u2026\\u026a\\u014b\", \"n\\u2026s# :: \\u028a\\u2026\\u026a\\u014b\", \"n\\u2026s# :: \\u028a\\u2026\\u026a\\u014b\", \"n\\u2026ss :: in\\u0259s\", \"n\\u2026ss :: in\\u2026s\", \"n\\u2026ss :: i\\u2026\\u0259s\", \"n\\u2026ss :: i\\u2026\\u0259s\", \"n\\u2026ss :: i\\u2026\\u0259s\", \"n\\u2026ss :: i\\u2026\\u0259s\", \"n\\u2026ss :: n\\u0259s#\", \"n\\u2026ss :: n\\u0259s#\", \"n\\u2026ss :: n\\u0259s#\", \"n\\u2026ss :: n\\u0259s#\", \"n\\u2026ss :: n\\u0259\\u2026#\", \"n\\u2026ss :: n\\u0259\\u2026#\", \"n\\u2026ss :: n\\u0259\\u2026#\", \"n\\u2026ss :: n\\u2026s#\", \"n\\u2026ss :: n\\u2026s#\", \"n\\u2026ss :: n\\u2026s#\", \"n\\u2026ss :: n\\u2026s#\", \"n\\u2026ss :: n\\u2026s#\", \"n\\u2026ss :: tn\\u0259s\", \"n\\u2026ss :: tn\\u2026s\", \"n\\u2026ss :: tn\\u2026s\", \"n\\u2026ss :: t\\u2026\\u0259s\", \"n\\u2026ss :: \\u0259\\u2026n\\u0259\", \"n\\u2026st :: n\\u2026st\", \"n\\u2026st :: n\\u2026st\", \"n\\u2026st :: n\\u2026st\", \"n\\u2026st :: n\\u2026st\", \"n\\u2026st :: n\\u2026st\", \"n\\u2026st :: \\u0259\\u2026t#\", \"n\\u2026st :: \\u0259\\u2026t#\", \"n\\u2026to :: \\u014bt\\u0259n\", \"n\\u2026to :: \\u014bt\\u0259n\", \"n\\u2026to :: \\u026a\\u014bt\\u0259\", \"n\\u2026to :: \\u026a\\u014bt\\u0259\", \"n\\u2026to :: \\u026a\\u014b\\u2026\\u0259\", \"n\\u2026to :: \\u026a\\u014b\\u2026\\u0259\", \"oach :: o\\u028at\\u0283\", \"oach :: o\\u028at\\u0283\", \"oach :: o\\u028at\\u0283\", \"oach :: o\\u028a\\u2026\\u0283\", \"oach :: o\\u028a\\u2026\\u0283\", \"oach :: o\\u2026t\\u0283\", \"oach :: \\u0279o\\u028at\", \"oach :: \\u0279o\\u028at\", \"oach :: \\u0279o\\u2026t\", \"oach :: \\u0279\\u2026\\u028at\", \"oach :: \\u0279\\u2026\\u028at\", \"oa\\u2026h :: o\\u028at\\u0283\", \"oa\\u2026h :: o\\u028at\\u0283\", \"oa\\u2026h :: o\\u028a\\u2026\\u0283\", \"oa\\u2026h :: o\\u2026t\\u0283\", \"oa\\u2026h :: o\\u2026t\\u0283\", \"oa\\u2026h :: \\u0279o\\u028at\", \"oa\\u2026h :: \\u0279o\\u2026t\", \"oa\\u2026h :: \\u0279\\u2026\\u028at\", \"oa\\u2026h :: \\u0279\\u2026\\u028at\", \"ocal :: \\u028ak\\u2026\\u026b\", \"oded :: d\\u2026d#\", \"oint :: p\\u0254\\u026an\", \"oint :: p\\u0254\\u2026n\", \"oint :: p\\u2026\\u026an\", \"oint :: p\\u2026\\u026an\", \"oi\\u2026t :: p\\u0254\\u026an\", \"oi\\u2026t :: p\\u0254\\u026an\", \"oi\\u2026t :: p\\u0254\\u2026n\", \"oi\\u2026t :: \\u026an\\u2026#\", \"old# :: o\\u028a\\u026bd\", \"old# :: o\\u028a\\u026bd\", \"old# :: o\\u028a\\u2026d\", \"old# :: o\\u028a\\u2026d\", \"old# :: \\u028a\\u026bd#\", \"old# :: \\u028a\\u026bd#\", \"old# :: \\u028a\\u026b\\u2026#\", \"old# :: \\u028a\\u026b\\u2026#\", \"old# :: \\u028a\\u2026d#\", \"old# :: \\u028a\\u2026d#\", \"olon :: \\u0251\\u2026\\u0259n\", \"olve :: \\u0251\\u026b\\u2026#\", \"olve :: \\u0251\\u026b\\u2026#\", \"olve :: \\u026bv\\u2026#\", \"ol\\u2026# :: ho\\u2026\\u026b\", \"ol\\u2026# :: h\\u2026\\u028a\\u026b\", \"ol\\u2026# :: o\\u028a\\u2026d\", \"ol\\u2026# :: o\\u028a\\u2026d\", \"ol\\u2026# :: o\\u028a\\u2026d\", \"ol\\u2026# :: o\\u028a\\u2026d\", \"ol\\u2026# :: \\u028a\\u026bd#\", \"ol\\u2026# :: \\u028a\\u026bd#\", \"ol\\u2026# :: \\u028a\\u026b\\u2026#\", \"ol\\u2026# :: \\u028a\\u026b\\u2026#\", \"ol\\u2026# :: \\u028a\\u026b\\u2026#\", \"ol\\u2026# :: \\u028a\\u026b\\u2026#\", \"ol\\u2026# :: \\u028a\\u026b\\u2026#\", \"ol\\u2026# :: \\u028a\\u026b\\u2026#\", \"ol\\u2026# :: \\u028a\\u026b\\u2026#\", \"ol\\u2026# :: \\u028a\\u2026d#\", \"ol\\u2026# :: \\u028a\\u2026d#\", \"ol\\u2026e :: \\u0251\\u026b\\u2026#\", \"ol\\u2026e :: \\u0251\\u026b\\u2026#\", \"omba :: \\u0251m\\u2026\\u0251\", \"omba :: \\u0251\\u2026b\\u0251\", \"om\\u2026a :: \\u0251m\\u2026\\u0251\", \"om\\u2026a :: \\u0251\\u2026b\\u0251\", \"om\\u2026o :: k\\u0259\\u2026p\", \"om\\u2026o :: k\\u2026mp\", \"on's :: \\u0259\\u2026z#\", \"on's :: \\u0259\\u2026z#\", \"ona# :: o\\u028an\\u0259\", \"ona# :: o\\u028an\\u0259\", \"ona# :: o\\u028a\\u2026\\u0259\", \"ona# :: o\\u028a\\u2026\\u0259\", \"ona# :: o\\u2026n\\u0259\", \"ona# :: \\u028an\\u0259#\", \"ona# :: \\u028an\\u0259#\", \"ona# :: \\u028an\\u0259#\", \"ona# :: \\u028an\\u2026#\", \"ona# :: \\u028a\\u2026\\u0259#\", \"one# :: o\\u028an#\", \"one# :: o\\u028an#\", \"one# :: o\\u028an#\", \"one# :: o\\u028a\\u2026#\", \"one# :: o\\u028a\\u2026#\", \"one# :: o\\u028a\\u2026#\", \"one# :: o\\u028a\\u2026#\", \"one# :: o\\u028a\\u2026#\", \"one# :: o\\u028a\\u2026#\", \"one# :: o\\u2026n#\", \"one# :: o\\u2026n#\", \"one# :: o\\u2026n#\", \"ons# :: \\u0259nz#\", \"ons# :: \\u0259nz#\", \"ons# :: \\u0259nz#\", \"ons# :: \\u0259n\\u2026#\", \"ons# :: \\u0259n\\u2026#\", \"ons# :: \\u0259n\\u2026#\", \"ons# :: \\u0259n\\u2026#\", \"ons# :: \\u0259n\\u2026#\", \"ons# :: \\u0259\\u2026z#\", \"ons# :: \\u0259\\u2026z#\", \"ons# :: \\u0259\\u2026z#\", \"on\\u2026# :: o\\u028an#\", \"on\\u2026# :: o\\u028an#\", \"on\\u2026# :: o\\u028an#\", \"on\\u2026# :: o\\u028an#\", \"on\\u2026# :: o\\u028an#\", \"on\\u2026# :: o\\u028an\\u0259\", \"on\\u2026# :: o\\u028an\\u0259\", \"on\\u2026# :: o\\u028an\\u0259\", \"on\\u2026# :: o\\u028a\\u2026#\", \"on\\u2026# :: o\\u028a\\u2026#\", \"on\\u2026# :: o\\u028a\\u2026#\", \"on\\u2026# :: o\\u028a\\u2026#\", \"on\\u2026# :: o\\u028a\\u2026#\", \"on\\u2026# :: o\\u028a\\u2026#\", \"on\\u2026# :: o\\u028a\\u2026#\", \"on\\u2026# :: o\\u028a\\u2026\\u0259\", \"on\\u2026# :: o\\u028a\\u2026\\u0259\", \"on\\u2026# :: o\\u028a\\u2026\\u0259\", \"on\\u2026# :: o\\u028a\\u2026\\u0259\", \"on\\u2026# :: o\\u028a\\u2026\\u0259\", \"on\\u2026# :: o\\u2026n#\", \"on\\u2026# :: o\\u2026n#\", \"on\\u2026# :: o\\u2026n#\", \"on\\u2026# :: o\\u2026n#\", \"on\\u2026# :: o\\u2026n\\u0259\", \"on\\u2026# :: o\\u2026n\\u0259\", \"on\\u2026# :: \\u0259nz#\", \"on\\u2026# :: \\u0259nz#\", \"on\\u2026# :: \\u0259nz#\", \"on\\u2026# :: \\u0259nz#\", \"on\\u2026# :: \\u0259n\\u2026#\", \"on\\u2026# :: \\u0259n\\u2026#\", \"on\\u2026# :: \\u0259n\\u2026#\", \"on\\u2026# :: \\u0259n\\u2026#\", \"on\\u2026# :: \\u0259n\\u2026#\", \"on\\u2026# :: \\u0259n\\u2026#\", \"on\\u2026# :: \\u0259n\\u2026#\", \"on\\u2026# :: \\u0259n\\u2026#\", \"on\\u2026# :: \\u0259\\u2026z#\", \"on\\u2026# :: \\u0259\\u2026z#\", \"on\\u2026# :: \\u0259\\u2026z#\", \"on\\u2026# :: \\u0259\\u2026z#\", \"on\\u2026# :: \\u028an\\u0259#\", \"on\\u2026# :: \\u028an\\u2026#\", \"on\\u2026# :: \\u028an\\u2026#\", \"on\\u2026# :: \\u028an\\u2026#\", \"on\\u2026# :: \\u028an\\u2026#\", \"on\\u2026# :: \\u028an\\u2026#\", \"on\\u2026# :: \\u028an\\u2026#\", \"on\\u2026# :: \\u028an\\u2026#\", \"on\\u2026# :: \\u028an\\u2026#\", \"on\\u2026# :: \\u028a\\u2026\\u0259#\", \"on\\u2026# :: \\u028a\\u2026\\u0259#\", \"on\\u2026# :: \\u028a\\u2026\\u0259#\", \"on\\u2026# :: \\u028a\\u2026\\u0259#\", \"oo\\u2026# :: w\\u2026d#\", \"oo\\u2026# :: w\\u2026d#\", \"ord# :: f\\u025d\\u2026#\", \"ord# :: f\\u025d\\u2026#\", \"ord# :: f\\u2026d#\", \"ord# :: f\\u2026d#\", \"orou :: \\u025do\\u028a#\", \"orou :: \\u025do\\u2026#\", \"or\\u2026# :: f\\u025dd#\", \"or\\u2026# :: f\\u2026d#\", \"or\\u2026# :: f\\u2026d#\", \"or\\u2026# :: f\\u2026d#\", \"or\\u2026# :: t\\u0254\\u0279i\", \"or\\u2026# :: t\\u0254\\u0279i\", \"or\\u2026# :: t\\u0254\\u2026i\", \"or\\u2026# :: t\\u0254\\u2026i\", \"or\\u2026# :: t\\u0254\\u2026i\", \"or\\u2026# :: t\\u2026\\u0279i\", \"or\\u2026# :: t\\u2026\\u0279i\", \"or\\u2026# :: \\u0254\\u0279i#\", \"or\\u2026# :: \\u0254\\u0279i#\", \"or\\u2026# :: \\u0254\\u0279\\u2026#\", \"or\\u2026# :: \\u0254\\u0279\\u2026#\", \"or\\u2026# :: \\u0254\\u0279\\u2026#\", \"or\\u2026# :: \\u0254\\u0279\\u2026#\", \"or\\u2026# :: \\u0254\\u0279\\u2026#\", \"or\\u2026# :: \\u0254\\u0279\\u2026#\", \"or\\u2026# :: \\u0254\\u0279\\u2026#\", \"or\\u2026# :: \\u0254\\u0279\\u2026#\", \"or\\u2026# :: \\u0254\\u0279\\u2026#\", \"or\\u2026# :: \\u0254\\u0279\\u2026#\", \"or\\u2026# :: \\u0254\\u0279\\u2026#\", \"or\\u2026# :: \\u0254\\u0279\\u2026#\", \"or\\u2026# :: \\u0254\\u0279\\u2026#\", \"or\\u2026# :: \\u0254\\u0279\\u2026#\", \"or\\u2026# :: \\u0254\\u0279\\u2026#\", \"or\\u2026# :: \\u0254\\u0279\\u2026#\", \"or\\u2026# :: \\u0254\\u0279\\u2026#\", \"or\\u2026# :: \\u0254\\u0279\\u2026#\", \"or\\u2026# :: \\u0254\\u0279\\u2026#\", \"or\\u2026# :: \\u0254\\u2026i#\", \"or\\u2026# :: \\u0254\\u2026i#\", \"or\\u2026# :: \\u0254\\u2026i#\", \"or\\u2026# :: \\u0259\\u2026\\u0254\\u0279\", \"or\\u2026# :: \\u0259\\u2026\\u0254\\u0279\", \"or\\u2026l :: \\u0254\\u0279\\u0259\\u026b\", \"or\\u2026l :: \\u0254\\u0279\\u0259\\u026b\", \"or\\u2026l :: \\u0254\\u0279\\u2026\\u026b\", \"or\\u2026l :: \\u0254\\u0279\\u2026\\u026b\", \"or\\u2026l :: \\u0254\\u0279\\u2026\\u026b\", \"or\\u2026l :: \\u0254\\u0279\\u2026\\u026b\", \"or\\u2026l :: \\u0254\\u0279\\u2026\\u026b\", \"or\\u2026l :: \\u0254\\u2026\\u0259\\u026b\", \"or\\u2026l :: \\u0279\\u0259\\u026b#\", \"or\\u2026l :: \\u0279\\u0259\\u026b#\", \"or\\u2026l :: \\u0279\\u0259\\u026b#\", \"or\\u2026l :: \\u0279\\u0259\\u2026#\", \"or\\u2026l :: \\u0279\\u2026\\u026b#\", \"or\\u2026l :: \\u0279\\u2026\\u026b#\", \"or\\u2026y :: \\u0254\\u0279\\u2026i\", \"ous# :: u\\u0259s#\", \"ous# :: \\u025d\\u2026s#\", \"ou\\u2026# :: a\\u028a\\u2026#\", \"ou\\u2026# :: a\\u028a\\u2026#\", \"ou\\u2026# :: a\\u028a\\u2026#\", \"ou\\u2026# :: u\\u0259\\u2026#\", \"ou\\u2026# :: u\\u2026s#\", \"ou\\u2026# :: \\u025d\\u0259s#\", \"ou\\u2026# :: \\u025d\\u0259s#\", \"ou\\u2026# :: \\u025d\\u0259\\u2026#\", \"ou\\u2026# :: \\u025d\\u2026s#\", \"ov\\u2026r :: o\\u028a\\u2026\\u025d\", \"ov\\u2026r :: o\\u028a\\u2026\\u025d\", \"ov\\u2026r :: o\\u028a\\u2026\\u025d\", \"owed :: o\\u028ad#\", \"owed :: o\\u028ad#\", \"owed :: o\\u028ad#\", \"owed :: o\\u028a\\u2026#\", \"owed :: o\\u028a\\u2026#\", \"owed :: o\\u2026d#\", \"owed :: o\\u2026d#\", \"owed# :: o\\u2026d#\", \"owel :: w\\u025b\\u026b#\", \"owel :: w\\u025b\\u2026#\", \"owel :: \\u0251w\\u2026\\u026b\", \"owel :: \\u0251w\\u2026\\u026b\", \"owel :: \\u0251w\\u2026\\u026b\", \"owin :: a\\u028a\\u026an\", \"owin :: a\\u028a\\u026an\", \"owin :: a\\u028a\\u2026n\", \"owin :: a\\u028a\\u2026n\", \"owin :: a\\u2026\\u026an\", \"owin :: a\\u2026\\u026an\", \"owin :: a\\u2026\\u026an\", \"owle :: \\u028a\\u026b\\u2026#\", \"ow\\u2026d :: o\\u028ad#\", \"ow\\u2026d :: o\\u028a\\u2026#\", \"ow\\u2026d :: o\\u2026d#\", \"ow\\u2026e :: \\u028a\\u026b\\u2026#\", \"ow\\u2026l :: w\\u025b\\u026b#\", \"ow\\u2026l :: w\\u025b\\u026b#\", \"ow\\u2026l :: w\\u025b\\u2026#\", \"ow\\u2026l :: w\\u2026\\u026b#\", \"ow\\u2026l :: \\u0251w\\u025b\\u026b\", \"ow\\u2026l :: \\u0251w\\u025b\\u026b\", \"ow\\u2026l :: \\u0251w\\u2026\\u026b\", \"ow\\u2026l :: \\u0251w\\u2026\\u026b\", \"ow\\u2026l :: \\u0251\\u2026\\u025b\\u026b\", \"ow\\u2026n :: a\\u028a\\u026an\", \"ow\\u2026n :: a\\u028a\\u026an\", \"ow\\u2026n :: a\\u028a\\u026an\", \"ow\\u2026n :: a\\u028a\\u2026n\", \"ow\\u2026n :: a\\u028a\\u2026n\", \"ow\\u2026n :: a\\u028a\\u2026n\", \"ow\\u2026n :: a\\u2026\\u026an\", \"ow\\u2026n :: a\\u2026\\u026an\", \"ow\\u2026n :: a\\u2026\\u026an\", \"ow\\u2026n :: \\u0279o\\u2026\\u0259\", \"ow\\u2026n :: \\u0279\\u2026\\u028a\\u0259\", \"ow\\u2026n :: \\u0279\\u2026\\u028a\\u0259\", \"ow\\u2026n :: \\u0279\\u2026\\u028a\\u0259\", \"o\\u2026's :: \\u0259n\\u2026#\", \"o\\u2026's :: \\u0259n\\u2026#\", \"o\\u2026's :: \\u0259n\\u2026#\", \"o\\u2026a# :: o\\u028an\\u0259\", \"o\\u2026a# :: o\\u028a\\u2026\\u0259\", \"o\\u2026a# :: o\\u028a\\u2026\\u0259\", \"o\\u2026a# :: o\\u028a\\u2026\\u0259\", \"o\\u2026a# :: o\\u028a\\u2026\\u0259\", \"o\\u2026a# :: o\\u028a\\u2026\\u0259\", \"o\\u2026a# :: o\\u028a\\u2026\\u0259\", \"o\\u2026a# :: o\\u028a\\u2026\\u0259\", \"o\\u2026a# :: o\\u028a\\u2026\\u0259\", \"o\\u2026a# :: o\\u2026n\\u0259\", \"o\\u2026a# :: o\\u2026n\\u0259\", \"o\\u2026a# :: \\u028an\\u0259#\", \"o\\u2026a# :: \\u028an\\u0259#\", \"o\\u2026a# :: \\u028an\\u2026#\", \"o\\u2026a# :: \\u028an\\u2026#\", \"o\\u2026a# :: \\u028an\\u2026#\", \"o\\u2026a# :: \\u028a\\u2026\\u0259#\", \"o\\u2026a# :: \\u028a\\u2026\\u0259#\", \"o\\u2026a# :: \\u028a\\u2026\\u0259#\", \"o\\u2026a# :: \\u028a\\u2026\\u0259#\", \"o\\u2026a# :: \\u028a\\u2026\\u0259#\", \"o\\u2026a# :: \\u028a\\u2026\\u0259#\", \"o\\u2026a# :: \\u028a\\u2026\\u0259#\", \"o\\u2026al :: \\u0254\\u0279\\u2026\\u026b\", \"o\\u2026al :: \\u0254\\u0279\\u2026\\u026b\", \"o\\u2026al :: \\u028ak\\u2026\\u026b\", \"o\\u2026al :: \\u028ak\\u2026\\u026b\", \"o\\u2026an :: \\u0279\\u2026\\u028a\\u0259\", \"o\\u2026ba :: \\u0251mb\\u0251\", \"o\\u2026ba :: \\u0251m\\u2026\\u0251\", \"o\\u2026ba :: \\u0251m\\u2026\\u0251\", \"o\\u2026ba :: \\u0251\\u2026b\\u0251\", \"o\\u2026ch :: o\\u028at\\u0283\", \"o\\u2026ch :: o\\u028a\\u2026\\u0283\", \"o\\u2026ch :: o\\u028a\\u2026\\u0283\", \"o\\u2026ch :: o\\u2026t\\u0283\", \"o\\u2026ch :: \\u0279o\\u028at\", \"o\\u2026ch :: \\u0279o\\u2026t\", \"o\\u2026ch :: \\u0279\\u2026\\u028at\", \"o\\u2026ch :: \\u0279\\u2026\\u028at\", \"o\\u2026ch :: \\u0279\\u2026\\u028at\", \"o\\u2026d# :: f\\u025dd#\", \"o\\u2026d# :: f\\u025d\\u2026#\", \"o\\u2026d# :: o\\u028a\\u2026#\", \"o\\u2026d# :: o\\u028a\\u2026#\", \"o\\u2026d# :: o\\u028a\\u2026#\", \"o\\u2026d# :: o\\u028a\\u2026#\", \"o\\u2026d# :: o\\u028a\\u2026#\", \"o\\u2026d# :: o\\u2026d#\", \"o\\u2026d# :: o\\u2026d#\", \"o\\u2026d# :: o\\u2026d#\", \"o\\u2026d# :: o\\u2026d#\", \"o\\u2026d# :: o\\u2026\\u026bd\", \"o\\u2026d# :: o\\u2026\\u026bd\", \"o\\u2026d# :: o\\u2026\\u026bd\", \"o\\u2026d# :: o\\u2026\\u026bd\", \"o\\u2026d# :: w\\u2026d#\", \"o\\u2026d# :: w\\u2026d#\", \"o\\u2026d# :: \\u028a\\u026bd#\", \"o\\u2026d# :: \\u028a\\u026bd#\", \"o\\u2026d# :: \\u028a\\u026bd#\", \"o\\u2026d# :: \\u028a\\u026b\\u2026#\", \"o\\u2026d# :: \\u028a\\u026b\\u2026#\", \"o\\u2026d# :: \\u028a\\u026b\\u2026#\", \"o\\u2026d# :: \\u028a\\u026b\\u2026#\", \"o\\u2026d# :: \\u028a\\u2026d#\", \"o\\u2026d# :: \\u028a\\u2026d#\", \"o\\u2026d# :: \\u028a\\u2026d#\", \"o\\u2026d# :: \\u028a\\u2026d#\", \"o\\u2026d# :: \\u028a\\u2026d#\", \"o\\u2026d# :: \\u028a\\u2026d#\", \"o\\u2026e# :: o\\u028an#\", \"o\\u2026e# :: o\\u028an#\", \"o\\u2026e# :: o\\u028an#\", \"o\\u2026e# :: o\\u028an#\", \"o\\u2026e# :: o\\u028an#\", \"o\\u2026e# :: o\\u028a\\u2026#\", \"o\\u2026e# :: o\\u028a\\u2026#\", \"o\\u2026e# :: o\\u028a\\u2026#\", \"o\\u2026e# :: o\\u028a\\u2026#\", \"o\\u2026e# :: o\\u028a\\u2026#\", \"o\\u2026e# :: o\\u028a\\u2026#\", \"o\\u2026e# :: o\\u028a\\u2026#\", \"o\\u2026e# :: o\\u028a\\u2026#\", \"o\\u2026e# :: o\\u028a\\u2026#\", \"o\\u2026e# :: o\\u028a\\u2026#\", \"o\\u2026e# :: o\\u028a\\u2026#\", \"o\\u2026e# :: o\\u028a\\u2026#\", \"o\\u2026e# :: o\\u2026n#\", \"o\\u2026e# :: o\\u2026n#\", \"o\\u2026e# :: o\\u2026n#\", \"o\\u2026e# :: o\\u2026n#\", \"o\\u2026e# :: o\\u2026n#\", \"o\\u2026ed :: o\\u028ad#\", \"o\\u2026ed :: o\\u028ad#\", \"o\\u2026ed :: o\\u028ad#\", \"o\\u2026ed :: o\\u028ad#\", \"o\\u2026ed :: o\\u028a\\u2026#\", \"o\\u2026ed :: o\\u028a\\u2026#\", \"o\\u2026ed :: o\\u028a\\u2026#\", \"o\\u2026ed :: o\\u028a\\u2026#\", \"o\\u2026ed :: o\\u2026d#\", \"o\\u2026ed :: o\\u2026d#\", \"o\\u2026ed :: o\\u2026d#\", \"o\\u2026ed :: \\u028ad\\u2026d\", \"o\\u2026el :: \\u0251w\\u025b\\u026b\", \"o\\u2026el :: \\u0251\\u2026\\u025b\\u026b\", \"o\\u2026er :: o\\u028av\\u025d\", \"o\\u2026er :: o\\u028av\\u025d\", \"o\\u2026er :: o\\u028av\\u025d\", \"o\\u2026er :: o\\u028av\\u025d\", \"o\\u2026er :: o\\u028a\\u2026\\u025d\", \"o\\u2026er :: o\\u028a\\u2026\\u025d\", \"o\\u2026er :: o\\u028a\\u2026\\u025d\", \"o\\u2026er :: o\\u028a\\u2026\\u025d\", \"o\\u2026er :: o\\u028a\\u2026\\u025d\", \"o\\u2026er :: o\\u028a\\u2026\\u025d\", \"o\\u2026er :: o\\u028a\\u2026\\u025d\", \"o\\u2026er :: o\\u028a\\u2026\\u025d\", \"o\\u2026er :: o\\u028a\\u2026\\u025d\", \"o\\u2026er :: o\\u028a\\u2026\\u025d\", \"o\\u2026er :: o\\u2026v\\u025d\", \"o\\u2026er :: o\\u2026v\\u025d\", \"o\\u2026er :: o\\u2026v\\u025d\", \"o\\u2026er :: o\\u2026v\\u025d\", \"o\\u2026er :: \\u028a\\u2026\\u025dz\", \"o\\u2026er :: \\u028a\\u2026\\u025dz\", \"o\\u2026er :: \\u028a\\u2026\\u025dz\", \"o\\u2026gh :: \\u025d\\u2026\\u028a#\", \"o\\u2026in :: a\\u028a\\u026an\", \"o\\u2026in :: a\\u028a\\u2026n\", \"o\\u2026in :: a\\u2026\\u026an\", \"o\\u2026in :: o\\u028a\\u2026\\u026a\", \"o\\u2026in :: o\\u028a\\u2026\\u026a\", \"o\\u2026in :: o\\u028a\\u2026\\u026a\", \"o\\u2026in :: o\\u028a\\u2026\\u026a\", \"o\\u2026in :: o\\u028a\\u2026\\u026a\", \"o\\u2026in :: o\\u028a\\u2026\\u026a\", \"o\\u2026in :: o\\u028a\\u2026\\u026a\", \"o\\u2026in :: o\\u028a\\u2026\\u026a\", \"o\\u2026l# :: \\u0279\\u2026\\u028a\\u026b\", \"o\\u2026l# :: \\u0279\\u2026\\u028a\\u026b\", \"o\\u2026n# :: b\\u025dn#\", \"o\\u2026nt :: p\\u0254\\u026an\", \"o\\u2026nt :: p\\u2026\\u026an\", \"o\\u2026nt :: p\\u2026\\u026an\", \"o\\u2026on :: \\u0251\\u026b\\u2026n\", \"o\\u2026s# :: u\\u2026s#\", \"o\\u2026s# :: u\\u2026s#\", \"o\\u2026s# :: \\u0259nz#\", \"o\\u2026s# :: \\u0259nz#\", \"o\\u2026s# :: \\u0259nz#\", \"o\\u2026s# :: \\u0259nz#\", \"o\\u2026s# :: \\u0259nz#\", \"o\\u2026s# :: \\u0259nz#\", \"o\\u2026s# :: \\u0259nz#\", \"o\\u2026s# :: \\u0259nz#\", \"o\\u2026s# :: \\u0259n\\u2026#\", \"o\\u2026s# :: \\u0259n\\u2026#\", \"o\\u2026s# :: \\u0259n\\u2026#\", \"o\\u2026s# :: \\u0259n\\u2026#\", \"o\\u2026s# :: \\u0259n\\u2026#\", \"o\\u2026s# :: \\u0259\\u2026z#\", \"o\\u2026s# :: \\u0259\\u2026z#\", \"o\\u2026s# :: \\u0259\\u2026z#\", \"o\\u2026s# :: \\u0259\\u2026z#\", \"o\\u2026s# :: \\u0259\\u2026z#\", \"o\\u2026s# :: \\u0259\\u2026z#\", \"o\\u2026s# :: \\u0259\\u2026z#\", \"o\\u2026s# :: \\u0259\\u2026z#\", \"o\\u2026s# :: \\u025d\\u0259s#\", \"o\\u2026s# :: \\u025d\\u2026s#\", \"o\\u2026ve :: \\u0251\\u026b\\u2026#\", \"part :: p\\u0251\\u0279t\", \"part :: p\\u0251\\u2026t\", \"pa\\u2026t :: p\\u0251\\u0279t\", \"pa\\u2026t :: p\\u0251\\u0279t\", \"pa\\u2026t :: p\\u0251\\u2026t\", \"pa\\u2026t :: p\\u0251\\u2026t\", \"pa\\u2026t :: p\\u2026\\u0279t\", \"pa\\u2026t :: \\u0279t\\u2026#\", \"pa\\u2026t :: \\u0279t\\u2026#\", \"per# :: mp\\u025d#\", \"pe\\u2026# :: m\\u2026\\u025d#\", \"pe\\u2026# :: p\\u0259\\u2026#\", \"pe\\u2026# :: p\\u0259\\u2026#\", \"pe\\u2026# :: p\\u0259\\u2026#\", \"pe\\u2026# :: p\\u0259\\u2026#\", \"pe\\u2026# :: p\\u0259\\u2026#\", \"pe\\u2026# :: p\\u0259\\u2026#\", \"pl\\u2026# :: p\\u026b\\u2026#\", \"pl\\u2026s :: p\\u026b\\u2026s\", \"pl\\u2026s :: p\\u026b\\u2026s\", \"pl\\u2026s :: p\\u026b\\u2026s\", \"pl\\u2026s :: p\\u026b\\u2026s\", \"poin :: p\\u0254\\u026an\", \"poin :: p\\u0254\\u026an\", \"poin :: p\\u0254\\u026an\", \"poin :: p\\u0254\\u2026n\", \"poin :: p\\u2026\\u026an\", \"poin :: p\\u2026\\u026an\", \"po\\u2026n :: p\\u0254\\u026an\", \"po\\u2026n :: \\u0254\\u026a\\u2026t\", \"pp\\u2026# :: p\\u0259\\u2026#\", \"pp\\u2026# :: p\\u0259\\u2026#\", \"prin :: p\\u0279\\u026an\", \"prin :: p\\u0279\\u2026n\", \"prin :: p\\u2026\\u026an\", \"prin :: p\\u2026\\u026an\", \"pr\\u2026n :: p\\u0279\\u2026n\", \"p\\u2026in :: p\\u0254\\u026an\", \"p\\u2026in :: p\\u0254\\u026an\", \"p\\u2026in :: p\\u0254\\u2026n\", \"p\\u2026in :: p\\u0279\\u026an\", \"p\\u2026in :: p\\u0279\\u026an\", \"p\\u2026in :: p\\u0279\\u026an\", \"p\\u2026in :: p\\u0279\\u2026n\", \"p\\u2026in :: p\\u0279\\u2026n\", \"p\\u2026in :: p\\u2026\\u026an\", \"p\\u2026in :: p\\u2026\\u026an\", \"p\\u2026in :: p\\u2026\\u026an\", \"p\\u2026in :: p\\u2026\\u026an\", \"p\\u2026in :: \\u0254\\u026ant\", \"p\\u2026in :: \\u0254\\u026a\\u2026t\", \"p\\u2026in :: \\u0254\\u2026nt\", \"p\\u2026in :: \\u026an\\u2026#\", \"p\\u2026in :: \\u026an\\u2026#\", \"p\\u2026in :: \\u026an\\u2026#\", \"p\\u2026l# :: p\\u0259\\u2026#\", \"p\\u2026l# :: p\\u0259\\u2026#\", \"p\\u2026l# :: p\\u0259\\u2026#\", \"p\\u2026l# :: p\\u0259\\u2026#\", \"p\\u2026l# :: p\\u0259\\u2026#\", \"p\\u2026l# :: p\\u2026\\u026b#\", \"p\\u2026l# :: p\\u2026\\u026b#\", \"p\\u2026l# :: p\\u2026\\u026b#\", \"p\\u2026l# :: p\\u2026\\u026b#\", \"p\\u2026l# :: p\\u2026\\u026b#\", \"p\\u2026l# :: p\\u2026\\u026b#\", \"p\\u2026l# :: p\\u2026\\u026b#\", \"p\\u2026r# :: mp\\u025d#\", \"p\\u2026r# :: m\\u2026\\u025d#\", \"p\\u2026rt :: p\\u0251\\u0279t\", \"p\\u2026rt :: p\\u0251\\u2026t\", \"p\\u2026rt :: p\\u2026\\u0279t\", \"p\\u2026rt :: p\\u2026\\u0279t\", \"p\\u2026rt :: p\\u2026\\u0279t\", \"p\\u2026rt :: \\u0279t\\u2026#\", \"p\\u2026rt :: \\u0279t\\u2026#\", \"p\\u2026rt :: \\u0279t\\u2026#\", \"ques :: kw\\u2026s\", \"ques :: kw\\u2026s\", \"ques :: kw\\u2026s\", \"ques :: k\\u2026\\u025bs\", \"ques :: k\\u2026\\u025bs\", \"ques :: k\\u2026\\u025bs\", \"ques :: k\\u2026\\u025bs\", \"ques :: k\\u2026\\u025bs\", \"ques :: st\\u2026#\", \"ques :: st\\u2026#\", \"qu\\u2026s :: kw\\u025bs\", \"qu\\u2026s :: kw\\u025bs\", \"qu\\u2026s :: w\\u025b\\u2026t\", \"qu\\u2026s :: w\\u025b\\u2026t\", \"qu\\u2026s :: w\\u2026st\", \"qu\\u2026s :: w\\u2026st\", \"qu\\u2026s :: w\\u2026st\", \"q\\u2026es :: w\\u2026st\", \"q\\u2026es :: w\\u2026st\", \"rand :: \\u0279\\u00e6\\u2026d\", \"ra\\u2026# :: \\u0279\\u0259\\u2026#\", \"ra\\u2026# :: \\u0279\\u0259\\u2026#\", \"ra\\u2026# :: \\u0279\\u0259\\u2026#\", \"ra\\u2026# :: \\u0279\\u0259\\u2026#\", \"ra\\u2026# :: \\u0279\\u0259\\u2026#\", \"ra\\u2026# :: \\u0279\\u0259\\u2026#\", \"ra\\u2026l :: \\u0254\\u026b\\u2026#\", \"rded :: d\\u026ad#\", \"rded :: d\\u026ad#\", \"rded :: d\\u026a\\u2026#\", \"rded :: d\\u2026d#\", \"rd\\u2026# :: \\u0254\\u0279\\u2026i\", \"rd\\u2026# :: \\u0254\\u0279\\u2026i\", \"rd\\u2026# :: \\u0254\\u0279\\u2026i\", \"rd\\u2026# :: \\u025ddz#\", \"rd\\u2026# :: \\u025ddz#\", \"rd\\u2026# :: \\u025ddz#\", \"rd\\u2026d :: d\\u026a\\u2026#\", \"rd\\u2026d :: d\\u2026d#\", \"rd\\u2026s :: \\u025ddz#\", \"red# :: nd\\u025dd\", \"ren# :: \\u0279\\u0259n#\", \"rett :: \\u025d\\u2026t#\", \"re\\u2026# :: t\\u025dd#\", \"re\\u2026# :: t\\u025d\\u2026#\", \"re\\u2026# :: \\u0283\\u025d\\u2026#\", \"re\\u2026# :: \\u0283\\u025d\\u2026#\", \"rian :: i\\u0259n#\", \"rian :: i\\u0259\\u2026#\", \"rian :: i\\u2026n#\", \"rian :: i\\u2026n#\", \"rian :: \\u0279i\\u0259n\", \"rian :: \\u0279\\u2026\\u0259n\", \"ring :: b\\u025d\\u026a\\u014b\", \"ring :: b\\u025d\\u026a\\u014b\", \"ring :: \\u025d\\u026a\\u014b#\", \"ring :: \\u025d\\u026a\\u014b#\", \"ring :: \\u025d\\u026a\\u014b#\", \"ring :: \\u025d\\u026a\\u2026#\", \"ring :: \\u025d\\u026a\\u2026#\", \"ring :: \\u025d\\u026a\\u2026#\", \"ring :: \\u025d\\u026a\\u2026#\", \"ring :: \\u025d\\u026a\\u2026#\", \"ring :: \\u025d\\u2026\\u014b#\", \"ring :: \\u025d\\u2026\\u014b#\", \"ring :: \\u025d\\u2026\\u014b#\", \"ring :: \\u025d\\u2026\\u014b#\", \"ring :: \\u0279\\u026a\\u014b#\", \"ring :: \\u0279\\u026a\\u014b#\", \"ri\\u2026# :: \\u0279\\u026a\\u2026#\", \"ri\\u2026# :: \\u0279\\u026a\\u2026#\", \"ri\\u2026# :: \\u0279\\u026a\\u2026#\", \"ri\\u2026# :: \\u0279\\u026a\\u2026#\", \"ri\\u2026# :: \\u0279\\u026a\\u2026#\", \"ri\\u2026# :: \\u0279\\u026a\\u2026#\", \"ri\\u2026# :: \\u0279\\u026a\\u2026#\", \"ri\\u2026# :: \\u0279\\u026a\\u2026#\", \"ri\\u2026# :: \\u0279\\u026a\\u2026#\", \"ri\\u2026# :: \\u0279\\u026a\\u2026#\", \"ri\\u2026# :: \\u0279\\u026a\\u2026#\", \"ri\\u2026# :: \\u0279\\u026a\\u2026#\", \"ri\\u2026# :: \\u0279\\u026a\\u2026#\", \"ri\\u2026# :: \\u0279\\u026a\\u2026#\", \"ri\\u2026g :: \\u025d\\u026a\\u014b#\", \"ri\\u2026g :: \\u025d\\u026a\\u014b#\", \"ri\\u2026g :: \\u025d\\u026a\\u014b#\", \"ri\\u2026g :: \\u025d\\u026a\\u014b#\", \"ri\\u2026g :: \\u025d\\u026a\\u2026#\", \"ri\\u2026g :: \\u025d\\u026a\\u2026#\", \"ri\\u2026g :: \\u025d\\u026a\\u2026#\", \"ri\\u2026g :: \\u025d\\u026a\\u2026#\", \"ri\\u2026g :: \\u025d\\u026a\\u2026#\", \"ri\\u2026g :: \\u025d\\u2026\\u014b#\", \"ri\\u2026g :: \\u025d\\u2026\\u014b#\", \"ri\\u2026g :: \\u025d\\u2026\\u014b#\", \"ri\\u2026g :: \\u025d\\u2026\\u014b#\", \"ri\\u2026g :: \\u025d\\u2026\\u014b#\", \"ri\\u2026g :: \\u026a\\u2026\\u026a\\u014b\", \"ri\\u2026n :: i\\u0259n#\", \"ri\\u2026n :: i\\u0259\\u2026#\", \"ri\\u2026n :: i\\u0259\\u2026#\", \"ri\\u2026n :: i\\u2026n#\", \"ri\\u2026n :: \\u0279i\\u0259n\", \"ri\\u2026n :: \\u0279i\\u2026n\", \"ri\\u2026n :: \\u0279i\\u2026n\", \"ri\\u2026n :: \\u0279i\\u2026n\", \"ri\\u2026n :: \\u0279i\\u2026n\", \"ri\\u2026n :: \\u0279\\u2026n#\", \"ri\\u2026n :: \\u0279\\u2026\\u0259n\", \"rman :: m\\u0259n#\", \"rman :: m\\u0259n#\", \"rman :: m\\u0259n#\", \"rman :: m\\u2026n#\", \"rman :: m\\u2026n#\", \"rman :: m\\u2026n#\", \"rman :: \\u025dm\\u0259n\", \"rman :: \\u025dm\\u0259n\", \"rman :: \\u025dm\\u2026n\", \"rman :: \\u025dm\\u2026n\", \"rman :: \\u025dm\\u2026n\", \"rman :: \\u025dm\\u2026n\", \"rman :: \\u025d\\u2026\\u0259n\", \"rman :: \\u025d\\u2026\\u0259n\", \"rman :: \\u025d\\u2026\\u0259n\", \"rman :: \\u0279m\\u0259n\", \"rman :: \\u0279\\u2026\\u0259n\", \"rm\\u2026n :: m\\u0259n#\", \"rm\\u2026n :: m\\u0259n#\", \"rm\\u2026n :: m\\u2026n#\", \"rm\\u2026n :: m\\u2026n#\", \"rm\\u2026n :: m\\u2026n#\", \"rm\\u2026n :: \\u025dm\\u2026n\", \"rm\\u2026n :: \\u025dm\\u2026n\", \"rm\\u2026n :: \\u025dm\\u2026n\", \"rm\\u2026n :: \\u025dm\\u2026n\", \"rm\\u2026n :: \\u025d\\u2026\\u0259n\", \"rm\\u2026n :: \\u025d\\u2026\\u0259n\", \"rm\\u2026n :: \\u025d\\u2026\\u0259n\", \"rm\\u2026n :: \\u025d\\u2026\\u0259n\", \"roac :: o\\u028at\\u0283\", \"roac :: o\\u028a\\u2026\\u0283\", \"roac :: o\\u2026t\\u0283\", \"roac :: \\u0279o\\u028at\", \"roac :: \\u0279o\\u2026t\", \"roac :: \\u0279\\u2026\\u028at\", \"rous :: \\u025d\\u0259s#\", \"rous :: \\u025d\\u0259s#\", \"rowa :: \\u0279\\u2026\\u028a\\u0259\", \"ro\\u2026c :: o\\u028at\\u0283\", \"ro\\u2026c :: o\\u2026t\\u0283\", \"ro\\u2026c :: \\u0279o\\u028at\", \"ro\\u2026c :: \\u0279o\\u028at\", \"ro\\u2026c :: \\u0279o\\u2026t\", \"ro\\u2026c :: \\u0279o\\u2026t\", \"ro\\u2026c :: \\u0279\\u2026\\u028at\", \"ro\\u2026c :: \\u0279\\u2026\\u028at\", \"ro\\u2026l :: \\u0279\\u2026\\u028a\\u026b\", \"ro\\u2026l :: \\u0279\\u2026\\u028a\\u026b\", \"ro\\u2026l :: \\u0279\\u2026\\u028a\\u026b\", \"ro\\u2026l :: \\u0279\\u2026\\u028a\\u026b\", \"ro\\u2026l :: \\u0279\\u2026\\u028a\\u026b\", \"ro\\u2026s :: \\u025d\\u2026s#\", \"rson :: s\\u0259n#\", \"rson :: s\\u0259n#\", \"rs\\u2026n :: s\\u0259n#\", \"rs\\u2026n :: s\\u2026n#\", \"rs\\u2026n :: \\u025ds\\u0259n\", \"rs\\u2026n :: \\u025ds\\u2026n\", \"rtin :: \\u025dt\\u026a\\u014b\", \"rty# :: \\u025dti#\", \"rty# :: \\u025dti#\", \"rty# :: \\u025dti#\", \"rt\\u2026# :: p\\u0251\\u0279t\", \"rt\\u2026# :: p\\u0251\\u2026t\", \"rt\\u2026# :: p\\u0251\\u2026t\", \"rt\\u2026# :: p\\u2026\\u0279t\", \"rt\\u2026# :: p\\u2026\\u0279t\", \"rt\\u2026# :: p\\u2026\\u0279t\", \"rt\\u2026# :: \\u0279t\\u2026#\", \"rt\\u2026# :: \\u0279t\\u2026#\", \"rt\\u2026# :: \\u0279t\\u2026#\", \"rt\\u2026# :: \\u0279t\\u2026#\", \"rt\\u2026# :: \\u0279t\\u2026#\", \"rt\\u2026# :: \\u0279t\\u2026#\", \"rt\\u2026# :: \\u0279t\\u2026#\", \"rt\\u2026n :: t\\u2026n#\", \"rt\\u2026n :: t\\u2026n#\", \"rt\\u2026n :: \\u025dt\\u026a\\u014b\", \"rt\\u2026n :: \\u025d\\u2026\\u026a\\u014b\", \"rt\\u2026n :: \\u0279t\\u2026n\", \"rt\\u2026n :: \\u0279t\\u2026n\", \"rt\\u2026n :: \\u0279t\\u2026n\", \"rt\\u2026n :: \\u0279t\\u2026n\", \"r\\u2026's :: \\u025ddz#\", \"r\\u2026's :: \\u025dd\\u2026#\", \"r\\u2026's :: \\u0279\\u2026s#\", \"r\\u2026's :: \\u0279\\u2026s#\", \"r\\u2026ac :: o\\u028at\\u0283\", \"r\\u2026ac :: o\\u028a\\u2026\\u0283\", \"r\\u2026ac :: o\\u028a\\u2026\\u0283\", \"r\\u2026ac :: o\\u2026t\\u0283\", \"r\\u2026ac :: \\u0279o\\u028at\", \"r\\u2026ac :: \\u0279o\\u028at\", \"r\\u2026ac :: \\u0279o\\u2026t\", \"r\\u2026an :: i\\u0259n#\", \"r\\u2026an :: i\\u0259n#\", \"r\\u2026an :: i\\u0259\\u2026#\", \"r\\u2026an :: i\\u0259\\u2026#\", \"r\\u2026an :: i\\u0259\\u2026#\", \"r\\u2026an :: i\\u0259\\u2026#\", \"r\\u2026an :: i\\u2026n#\", \"r\\u2026an :: m\\u0259\\u2026#\", \"r\\u2026an :: m\\u0259\\u2026#\", \"r\\u2026an :: m\\u0259\\u2026#\", \"r\\u2026an :: \\u0254\\u0279m\\u0259\", \"r\\u2026an :: \\u025dm\\u0259n\", \"r\\u2026an :: \\u025dm\\u0259n\", \"r\\u2026an :: \\u025dm\\u0259n\", \"r\\u2026an :: \\u025dm\\u2026n\", \"r\\u2026an :: \\u025dm\\u2026n\", \"r\\u2026an :: \\u025dm\\u2026n\", \"r\\u2026an :: \\u025d\\u2026\\u0259n\", \"r\\u2026an :: \\u025d\\u2026\\u0259n\", \"r\\u2026an :: \\u025d\\u2026\\u0259n\", \"r\\u2026an :: \\u025d\\u2026\\u0259n\", \"r\\u2026an :: \\u025d\\u2026\\u0259n\", \"r\\u2026an :: \\u0279i\\u0259n\", \"r\\u2026an :: \\u0279i\\u2026n\", \"r\\u2026an :: \\u0279i\\u2026n\", \"r\\u2026an :: \\u0279i\\u2026n\", \"r\\u2026an :: \\u0279i\\u2026n\", \"r\\u2026an :: \\u0279i\\u2026n\", \"r\\u2026an :: \\u0279m\\u0259n\", \"r\\u2026an :: \\u0279m\\u2026n\", \"r\\u2026an :: \\u0279m\\u2026n\", \"r\\u2026an :: \\u0279\\u2026\\u0259n\", \"r\\u2026an :: \\u0279\\u2026\\u0259n\", \"r\\u2026an :: \\u0279\\u2026\\u0259n\", \"r\\u2026an :: \\u0279\\u2026\\u0259n\", \"r\\u2026an :: \\u0279\\u2026\\u0259n\", \"r\\u2026an :: \\u0279\\u2026\\u0259n\", \"r\\u2026dg :: \\u026ad\\u0292#\", \"r\\u2026e# :: b\\u2026n#\", \"r\\u2026e# :: b\\u2026n#\", \"r\\u2026ed :: d\\u026ad#\", \"r\\u2026ed :: d\\u026ad#\", \"r\\u2026ed :: d\\u2026d#\", \"r\\u2026in :: \\u025dt\\u026a\\u014b\", \"r\\u2026in :: \\u0279\\u2026\\u026an\", \"r\\u2026in :: \\u0279\\u2026\\u026an\", \"r\\u2026in :: \\u0279\\u2026\\u026an\", \"r\\u2026in :: \\u0279\\u2026\\u026an\", \"r\\u2026in :: \\u0279\\u2026\\u026an\", \"r\\u2026in :: \\u0279\\u2026\\u026an\", \"r\\u2026l# :: \\u0254\\u0279\\u0259\\u026b\", \"r\\u2026l# :: \\u0254\\u0279\\u0259\\u026b\", \"r\\u2026l# :: \\u0254\\u0279\\u0259\\u026b\", \"r\\u2026l# :: \\u0254\\u0279\\u0259\\u2026#\", \"r\\u2026l# :: \\u0254\\u0279\\u2026\\u026b\", \"r\\u2026l# :: \\u0254\\u0279\\u2026\\u026b\", \"r\\u2026l# :: \\u0254\\u0279\\u2026\\u026b\", \"r\\u2026l# :: \\u0254\\u2026\\u0259\\u026b\", \"r\\u2026l# :: \\u0254\\u2026\\u0259\\u026b\", \"r\\u2026l# :: \\u025b\\u0279\\u0259\\u026b\", \"r\\u2026l# :: \\u025b\\u0279\\u0259\\u026b\", \"r\\u2026l# :: \\u025b\\u0279\\u0259\\u026b\", \"r\\u2026l# :: \\u025b\\u0279\\u2026\\u026b\", \"r\\u2026l# :: \\u025b\\u0279\\u2026\\u026b\", \"r\\u2026l# :: \\u025b\\u0279\\u2026\\u026b\", \"r\\u2026l# :: \\u025b\\u2026\\u0259\\u026b\", \"r\\u2026l# :: \\u025b\\u2026\\u0259\\u026b\", \"r\\u2026l# :: \\u025b\\u2026\\u0259\\u026b\", \"r\\u2026l# :: \\u0279\\u0259\\u026b#\", \"r\\u2026l# :: \\u0279\\u0259\\u026b#\", \"r\\u2026l# :: \\u0279\\u0259\\u026b#\", \"r\\u2026l# :: \\u0279\\u0259\\u026b#\", \"r\\u2026l# :: \\u0279\\u0259\\u026b#\", \"r\\u2026l# :: \\u0279\\u0259\\u026b#\", \"r\\u2026l# :: \\u0279\\u0259\\u2026#\", \"r\\u2026l# :: \\u0279\\u0259\\u2026#\", \"r\\u2026l# :: \\u0279\\u0259\\u2026#\", \"r\\u2026l# :: \\u0279\\u0259\\u2026#\", \"r\\u2026l# :: \\u0279\\u0259\\u2026#\", \"r\\u2026l# :: \\u0279\\u2026\\u026b#\", \"r\\u2026l# :: \\u0279\\u2026\\u026b#\", \"r\\u2026l# :: \\u0279\\u2026\\u026b#\", \"r\\u2026l# :: \\u0279\\u2026\\u026b#\", \"r\\u2026l# :: \\u0279\\u2026\\u026b#\", \"r\\u2026l# :: \\u0279\\u2026\\u026b#\", \"r\\u2026l# :: \\u0279\\u2026\\u026b#\", \"r\\u2026l# :: \\u0279\\u2026\\u026b#\", \"r\\u2026l# :: \\u0279\\u2026\\u026b#\", \"r\\u2026l# :: \\u0279\\u2026\\u026b#\", \"r\\u2026m# :: st\\u0279\\u0259\", \"r\\u2026m# :: st\\u2026\\u0259\", \"r\\u2026m# :: st\\u2026\\u0259\", \"r\\u2026m# :: s\\u2026\\u0279\\u0259\", \"r\\u2026m# :: t\\u0279\\u2026m\", \"r\\u2026m# :: \\u0279\\u0259m#\", \"r\\u2026m# :: \\u0279\\u0259m#\", \"r\\u2026m# :: \\u0279\\u0259m#\", \"r\\u2026m# :: \\u0279\\u0259m#\", \"r\\u2026m# :: \\u0279\\u2026m#\", \"r\\u2026m# :: \\u0279\\u2026m#\", \"r\\u2026m# :: \\u0279\\u2026m#\", \"r\\u2026m# :: \\u0279\\u2026m#\", \"r\\u2026m# :: \\u0279\\u2026m#\", \"r\\u2026n# :: i\\u0259\\u2026#\", \"r\\u2026n# :: \\u0279\\u0259n#\", \"r\\u2026n# :: \\u0279\\u0259n#\", \"r\\u2026n# :: \\u0279\\u0259n#\", \"r\\u2026n# :: \\u0279\\u0259\\u2026#\", \"r\\u2026n# :: \\u0279\\u0259\\u2026#\", \"r\\u2026n# :: \\u0279\\u0259\\u2026#\", \"r\\u2026n# :: \\u0279\\u2026n#\", \"r\\u2026n# :: \\u0279\\u2026n#\", \"r\\u2026n# :: \\u0279\\u2026n#\", \"r\\u2026n# :: \\u0279\\u2026n#\", \"r\\u2026n# :: \\u0279\\u2026n#\", \"r\\u2026n# :: \\u0279\\u2026n#\", \"r\\u2026n# :: \\u0279\\u2026n#\", \"r\\u2026n# :: \\u0279\\u2026n#\", \"r\\u2026n# :: \\u0279\\u2026n#\", \"r\\u2026n# :: \\u0279\\u2026n#\", \"r\\u2026ne :: \\u0279\\u026an\\u026a\", \"r\\u2026ne :: \\u0279\\u026an\\u026a\", \"r\\u2026ne :: \\u0279\\u026a\\u2026\\u026a\", \"r\\u2026ne :: \\u0279\\u026a\\u2026\\u026a\", \"r\\u2026ne :: \\u0279\\u2026n\\u026a\", \"r\\u2026ng :: b\\u025d\\u026a\\u014b\", \"r\\u2026ng :: \\u025d\\u026a\\u014b#\", \"r\\u2026ng :: \\u025d\\u026a\\u014b#\", \"r\\u2026ng :: \\u025d\\u026a\\u014b#\", \"r\\u2026ng :: \\u025d\\u026a\\u2026#\", \"r\\u2026ng :: \\u025d\\u026a\\u2026#\", \"r\\u2026ng :: \\u025d\\u026a\\u2026#\", \"r\\u2026ng :: \\u025d\\u026a\\u2026#\", \"r\\u2026ng :: \\u025d\\u2026\\u014b#\", \"r\\u2026ng :: \\u025d\\u2026\\u014b#\", \"r\\u2026ng :: \\u025d\\u2026\\u014b#\", \"r\\u2026ng :: \\u025d\\u2026\\u014b#\", \"r\\u2026ng :: \\u0279\\u026a\\u014b#\", \"r\\u2026ng :: \\u0279\\u026a\\u014b#\", \"r\\u2026ng :: \\u0279\\u026a\\u014b#\", \"r\\u2026on :: s\\u0259n#\", \"r\\u2026on :: \\u025d\\u2026\\u0259n\", \"r\\u2026on :: \\u025d\\u2026\\u0259n\", \"r\\u2026on :: \\u025d\\u2026\\u0259n\", \"r\\u2026on :: \\u025d\\u2026\\u0259n\", \"r\\u2026s# :: \\u025ddz#\", \"r\\u2026s# :: \\u025ddz#\", \"r\\u2026s# :: \\u025d\\u2026s#\", \"r\\u2026s# :: \\u025d\\u2026s#\", \"r\\u2026s# :: \\u025d\\u2026s#\", \"r\\u2026s# :: \\u025d\\u2026s#\", \"r\\u2026sh :: \\u0259\\u0283\\u2026#\", \"r\\u2026tt :: v\\u025d\\u025bt\", \"r\\u2026tt :: v\\u025d\\u2026t\", \"r\\u2026tt :: v\\u2026\\u025bt\", \"r\\u2026tt :: \\u025d\\u025bt#\", \"r\\u2026tt :: \\u025d\\u025bt#\", \"r\\u2026tt :: \\u025d\\u025bt#\", \"r\\u2026tt :: \\u025d\\u025b\\u2026#\", \"r\\u2026tt :: \\u025d\\u025b\\u2026#\", \"r\\u2026tt :: \\u025d\\u2026t#\", \"r\\u2026us :: \\u025d\\u0259\\u2026#\", \"r\\u2026us :: \\u025d\\u2026s#\", \"r\\u2026wl :: \\u0254\\u026b\\u2026#\", \"sand :: s\\u00e6nd\", \"sa\\u2026d :: s\\u00e6nd\", \"sa\\u2026d :: s\\u00e6nd\", \"sa\\u2026d :: s\\u00e6nd\", \"sa\\u2026d :: s\\u00e6\\u2026d\", \"sa\\u2026d :: s\\u00e6\\u2026d\", \"sa\\u2026d :: s\\u2026nd\", \"sa\\u2026d :: s\\u2026nd\", \"scon :: s\\u2026o\\u028a\", \"sc\\u2026o :: sku\\u026b\", \"sc\\u2026o :: sku\\u026b\", \"sc\\u2026o :: sk\\u2026\\u026b\", \"sc\\u2026o :: s\\u2026u\\u026b\", \"sc\\u2026o :: s\\u2026u\\u026b\", \"sc\\u2026o :: s\\u2026u\\u026b\", \"sc\\u2026t :: sk\\u2026t\", \"sc\\u2026t :: sk\\u2026t\", \"sc\\u2026t :: sk\\u2026t\", \"sc\\u2026t :: sk\\u2026t\", \"sen# :: s\\u0259n#\", \"sen# :: s\\u0259n#\", \"sen# :: s\\u0259n#\", \"sen# :: s\\u0259n#\", \"sen# :: s\\u0259n#\", \"sen# :: s\\u0259\\u2026#\", \"sen# :: s\\u0259\\u2026#\", \"sen# :: s\\u0259\\u2026#\", \"sen# :: s\\u0259\\u2026#\", \"sen# :: s\\u0259\\u2026#\", \"sen# :: s\\u2026n#\", \"sen# :: s\\u2026n#\", \"sen# :: s\\u2026n#\", \"sen# :: s\\u2026n#\", \"se\\u2026# :: s\\u0259n#\", \"se\\u2026# :: s\\u0259n#\", \"se\\u2026# :: s\\u0259n#\", \"se\\u2026# :: s\\u0259n#\", \"se\\u2026# :: s\\u0259n#\", \"se\\u2026# :: s\\u0259\\u2026#\", \"se\\u2026# :: s\\u0259\\u2026#\", \"se\\u2026# :: s\\u0259\\u2026#\", \"se\\u2026# :: s\\u0259\\u2026#\", \"se\\u2026# :: s\\u0259\\u2026#\", \"se\\u2026# :: s\\u0259\\u2026#\", \"se\\u2026# :: s\\u0259\\u2026#\", \"se\\u2026# :: s\\u0259\\u2026#\", \"se\\u2026# :: s\\u0259\\u2026#\", \"se\\u2026# :: s\\u0259\\u2026#\", \"se\\u2026# :: s\\u2026n#\", \"se\\u2026# :: s\\u2026n#\", \"se\\u2026# :: s\\u2026n#\", \"se\\u2026# :: s\\u2026n#\", \"se\\u2026# :: s\\u2026n#\", \"se\\u2026# :: s\\u2026n#\", \"se\\u2026# :: \\u0259s\\u2026#\", \"se\\u2026# :: \\u0259s\\u2026#\", \"se\\u2026# :: \\u0259s\\u2026#\", \"se\\u2026# :: \\u0259s\\u2026#\", \"se\\u2026# :: \\u0259s\\u2026#\", \"se\\u2026# :: \\u0259s\\u2026#\", \"se\\u2026# :: \\u0259s\\u2026#\", \"ship :: \\u0283\\u026a\\u2026#\", \"ship :: \\u0283\\u026a\\u2026#\", \"sh\\u2026# :: \\u0259\\u0283\\u2026#\", \"sh\\u2026# :: \\u0259\\u0283\\u2026#\", \"sh\\u2026# :: \\u0259\\u0283\\u2026#\", \"sh\\u2026p :: \\u0283\\u026a\\u2026#\", \"sh\\u2026p :: \\u0283\\u026a\\u2026#\", \"sing :: s\\u026a\\u014b#\", \"sing :: s\\u026a\\u2026#\", \"sing :: s\\u026a\\u2026#\", \"sing :: s\\u2026\\u014b#\", \"sive :: s\\u026av#\", \"sive :: s\\u2026v#\", \"sive :: s\\u2026v#\", \"sive :: s\\u2026v#\", \"si\\u2026e :: s\\u026av#\", \"si\\u2026g :: s\\u026a\\u014b#\", \"si\\u2026g :: s\\u026a\\u2026#\", \"si\\u2026g :: s\\u026a\\u2026#\", \"si\\u2026g :: s\\u2026\\u014b#\", \"si\\u2026g :: s\\u2026\\u014b#\", \"si\\u2026g :: s\\u2026\\u014b#\", \"si\\u2026g :: s\\u2026\\u014b#\", \"si\\u2026g# :: s\\u2026\\u014b#\", \"ski# :: fski\", \"ski# :: fs\\u2026i\", \"ski# :: nski\", \"ski# :: nski\", \"ski# :: ns\\u2026i\", \"ski# :: ns\\u2026i\", \"ski# :: ns\\u2026i\", \"ski# :: n\\u2026ki\", \"ski# :: n\\u2026ki\", \"ski# :: ski#\", \"ski# :: ski#\", \"ski# :: ski#\", \"ski# :: ski#\", \"ski# :: sk\\u2026#\", \"ski# :: sk\\u2026#\", \"ski# :: sk\\u2026#\", \"ski# :: sk\\u2026#\", \"ski# :: s\\u2026i#\", \"ski# :: s\\u2026i#\", \"ski# :: s\\u2026i#\", \"ski# :: s\\u2026i#\", \"ski# :: \\u026a\\u2026sk\", \"ski# :: \\u026a\\u2026sk\", \"sk\\u2026# :: nski\", \"sk\\u2026# :: nski\", \"sk\\u2026# :: nski\", \"sk\\u2026# :: ns\\u2026i\", \"sk\\u2026# :: ns\\u2026i\", \"sk\\u2026# :: ns\\u2026i\", \"sk\\u2026# :: n\\u2026ki\", \"sk\\u2026# :: n\\u2026ki\", \"sk\\u2026# :: ski#\", \"sk\\u2026# :: ski#\", \"sk\\u2026# :: ski#\", \"sk\\u2026# :: ski#\", \"sk\\u2026# :: ski#\", \"sk\\u2026# :: ski#\", \"sk\\u2026# :: ski#\", \"sk\\u2026# :: sk\\u2026#\", \"sk\\u2026# :: sk\\u2026#\", \"sk\\u2026# :: sk\\u2026#\", \"sk\\u2026# :: sk\\u2026#\", \"sk\\u2026# :: sk\\u2026#\", \"sk\\u2026# :: sk\\u2026#\", \"sk\\u2026# :: sk\\u2026#\", \"sk\\u2026# :: sk\\u2026#\", \"sk\\u2026# :: s\\u2026i#\", \"sk\\u2026# :: s\\u2026i#\", \"sk\\u2026# :: s\\u2026i#\", \"sk\\u2026# :: s\\u2026i#\", \"sk\\u2026# :: s\\u2026i#\", \"sk\\u2026# :: s\\u2026i#\", \"sk\\u2026# :: s\\u2026i#\", \"sler :: s\\u2026\\u025d#\", \"sl\\u2026r :: s\\u2026\\u025d#\", \"son# :: ns\\u0259n\", \"son# :: ns\\u0259n\", \"son# :: ns\\u0259n\", \"son# :: ns\\u2026n\", \"son# :: ns\\u2026n\", \"son# :: ns\\u2026n\", \"son# :: ns\\u2026n\", \"son# :: n\\u2026\\u0259n\", \"son# :: n\\u2026\\u0259n\", \"son# :: n\\u2026\\u0259\\u2026#\", \"son# :: s\\u0259n#\", \"son# :: s\\u0259n#\", \"son# :: s\\u0259n#\", \"son# :: s\\u0259n#\", \"son# :: s\\u0259n#\", \"son# :: s\\u0259n#\", \"son# :: s\\u0259n#\", \"son# :: s\\u0259n#\", \"son# :: s\\u0259\\u2026#\", \"son# :: s\\u0259\\u2026#\", \"son# :: s\\u0259\\u2026#\", \"son# :: s\\u0259\\u2026#\", \"son# :: s\\u0259\\u2026#\", \"son# :: s\\u0259\\u2026#\", \"son# :: s\\u0259\\u2026#\", \"son# :: s\\u2026n#\", \"son# :: s\\u2026n#\", \"son# :: s\\u2026n#\", \"son# :: s\\u2026n#\", \"son# :: s\\u2026n#\", \"son# :: s\\u2026n#\", \"son# :: s\\u2026n#\", \"son# :: \\u025ds\\u0259n\", \"son# :: \\u025ds\\u0259n\", \"son# :: \\u025ds\\u2026n\", \"son# :: \\u025d\\u2026\\u0259n\", \"so\\u2026# :: ns\\u0259n\", \"so\\u2026# :: ns\\u0259n\", \"so\\u2026# :: ns\\u2026n\", \"so\\u2026# :: n\\u2026\\u0259n\", \"so\\u2026# :: n\\u2026\\u0259n\", \"so\\u2026# :: s\\u0259n#\", \"so\\u2026# :: s\\u0259n#\", \"so\\u2026# :: s\\u0259n#\", \"so\\u2026# :: s\\u0259n#\", \"so\\u2026# :: s\\u0259n#\", \"so\\u2026# :: s\\u0259n#\", \"so\\u2026# :: s\\u0259n#\", \"so\\u2026# :: s\\u0259\\u2026#\", \"so\\u2026# :: s\\u0259\\u2026#\", \"so\\u2026# :: s\\u0259\\u2026#\", \"so\\u2026# :: s\\u0259\\u2026#\", \"so\\u2026# :: s\\u0259\\u2026#\", \"so\\u2026# :: s\\u0259\\u2026#\", \"so\\u2026# :: s\\u0259\\u2026#\", \"so\\u2026# :: s\\u0259\\u2026#\", \"so\\u2026# :: s\\u0259\\u2026#\", \"so\\u2026# :: s\\u0259\\u2026#\", \"so\\u2026# :: s\\u2026n#\", \"so\\u2026# :: s\\u2026n#\", \"so\\u2026# :: s\\u2026n#\", \"so\\u2026# :: s\\u2026n#\", \"so\\u2026# :: s\\u2026n#\", \"so\\u2026# :: s\\u2026n#\", \"so\\u2026# :: s\\u2026n#\", \"so\\u2026# :: \\u025ds\\u0259n\", \"so\\u2026# :: \\u025ds\\u2026n\", \"so\\u2026# :: \\u025ds\\u2026n\", \"so\\u2026# :: \\u025d\\u2026\\u0259n\", \"ssin :: s\\u026a\\u014b#\", \"ssin :: s\\u026a\\u014b#\", \"sted :: s\\u2026\\u026ad\", \"ster :: t\\u025d\\u2026#\", \"ster :: t\\u025d\\u2026#\", \"stra :: st\\u0279\\u00e6\", \"stra :: st\\u0279\\u00e6\", \"stra :: s\\u2026\\u0279\\u00e6\", \"stra :: s\\u2026\\u0279\\u00e6\", \"stro :: t\\u0279\\u2026m\", \"stro :: t\\u0279\\u2026m\", \"stro :: \\u0279\\u2026m#\", \"st\\u2026# :: st\\u2026#\", \"st\\u2026# :: st\\u2026#\", \"st\\u2026# :: st\\u2026#\", \"st\\u2026# :: st\\u2026#\", \"st\\u2026# :: st\\u2026#\", \"st\\u2026# :: st\\u2026#\", \"st\\u2026# :: st\\u2026#\", \"st\\u2026# :: st\\u2026#\", \"st\\u2026# :: st\\u2026#\", \"st\\u2026# :: st\\u2026#\", \"st\\u2026a :: st\\u0279\\u00e6\", \"st\\u2026a :: st\\u2026\\u00e6\", \"st\\u2026a :: st\\u2026\\u00e6\", \"st\\u2026a :: s\\u2026\\u0279\\u00e6\", \"st\\u2026d :: st\\u026ad\", \"st\\u2026d :: t\\u026a\\u2026#\", \"st\\u2026d :: t\\u2026d#\", \"st\\u2026d :: t\\u2026d#\", \"st\\u2026d :: t\\u2026d#\", \"st\\u2026e :: st\\u2026\\u025b\", \"st\\u2026e :: st\\u2026\\u025b\", \"st\\u2026e :: st\\u2026\\u025b\", \"st\\u2026e :: st\\u2026\\u025b\", \"st\\u2026f :: st\\u00e6f\", \"st\\u2026f :: st\\u2026f\", \"st\\u2026f :: st\\u2026f\", \"st\\u2026f :: s\\u2026\\u00e6f\", \"st\\u2026f :: s\\u2026\\u00e6f\", \"st\\u2026f :: t\\u00e6\\u2026#\", \"st\\u2026n :: st\\u0259n\", \"st\\u2026n :: st\\u0259n\", \"st\\u2026n :: st\\u0259n\", \"st\\u2026n :: st\\u0259n\", \"st\\u2026n :: st\\u0259n\", \"st\\u2026n :: st\\u0259n\", \"st\\u2026n :: st\\u2026n\", \"st\\u2026n :: st\\u2026n\", \"st\\u2026n :: st\\u2026n\", \"st\\u2026n :: st\\u2026n\", \"st\\u2026n :: st\\u2026n\", \"st\\u2026n :: st\\u2026n\", \"st\\u2026n :: st\\u2026n\", \"st\\u2026n :: st\\u2026n\", \"st\\u2026n :: st\\u2026n\", \"st\\u2026n :: st\\u2026n\", \"st\\u2026n :: st\\u2026n\", \"st\\u2026n :: st\\u2026n\", \"st\\u2026n :: s\\u2026\\u0259n\", \"st\\u2026n :: s\\u2026\\u0259n\", \"st\\u2026n :: s\\u2026\\u0259n\", \"st\\u2026n :: s\\u2026\\u0259n\", \"st\\u2026n :: s\\u2026\\u0259n\", \"st\\u2026p :: st\\u2026p\", \"st\\u2026p :: st\\u2026p\", \"st\\u2026p :: st\\u2026p\", \"st\\u2026p :: st\\u2026p\", \"st\\u2026p :: st\\u2026p\", \"st\\u2026r :: t\\u025d\\u2026#\", \"st\\u2026r :: t\\u025d\\u2026#\", \"s\\u2026an :: m\\u0259\\u2026#\", \"s\\u2026an :: m\\u0259\\u2026#\", \"s\\u2026an :: m\\u2026n#\", \"s\\u2026an :: sm\\u0259n\", \"s\\u2026d# :: \\u0259st#\", \"s\\u2026en :: s\\u2026\\u025bn\", \"s\\u2026en :: s\\u2026\\u025bn\", \"s\\u2026en :: s\\u2026\\u025bn\", \"s\\u2026er :: s\\u2026\\u025d#\", \"s\\u2026er :: s\\u2026\\u025d#\", \"s\\u2026er :: s\\u2026\\u025d#\", \"s\\u2026er :: s\\u2026\\u025d#\", \"s\\u2026er :: s\\u2026\\u025d#\", \"s\\u2026er :: s\\u2026\\u025d#\", \"s\\u2026er :: s\\u2026\\u025d#\", \"s\\u2026er :: s\\u2026\\u025d#\", \"s\\u2026er :: s\\u2026\\u025d#\", \"s\\u2026er :: t\\u025d\\u2026#\", \"s\\u2026er :: t\\u025d\\u2026#\", \"s\\u2026er :: t\\u025d\\u2026#\", \"s\\u2026er :: \\u025bs\\u2026\\u025d\", \"s\\u2026er :: \\u025bs\\u2026\\u025d\", \"s\\u2026er :: \\u025bs\\u2026\\u025d\", \"s\\u2026er :: \\u025bs\\u2026\\u025d\", \"s\\u2026er :: \\u025bs\\u2026\\u025d\", \"s\\u2026i# :: fski\", \"s\\u2026i# :: fs\\u2026i\", \"s\\u2026i# :: f\\u2026ki\", \"s\\u2026i# :: nski\", \"s\\u2026i# :: ns\\u2026i\", \"s\\u2026i# :: n\\u2026ki\", \"s\\u2026i# :: n\\u2026ki\", \"s\\u2026i# :: ski#\", \"s\\u2026i# :: ski#\", \"s\\u2026i# :: ski#\", \"s\\u2026i# :: ski#\", \"s\\u2026i# :: sk\\u2026#\", \"s\\u2026i# :: sk\\u2026#\", \"s\\u2026i# :: sk\\u2026#\", \"s\\u2026i# :: sk\\u2026#\", \"s\\u2026i# :: sk\\u2026#\", \"s\\u2026i# :: s\\u2026i#\", \"s\\u2026i# :: s\\u2026i#\", \"s\\u2026i# :: s\\u2026i#\", \"s\\u2026i# :: s\\u2026i#\", \"s\\u2026iv :: s\\u026a\\u2026#\", \"s\\u2026lv :: \\u0251\\u026b\\u2026#\", \"s\\u2026n# :: ns\\u0259n\", \"s\\u2026n# :: ns\\u0259n\", \"s\\u2026n# :: ns\\u0259n\", \"s\\u2026n# :: ns\\u0259n\", \"s\\u2026n# :: ns\\u2026n\", \"s\\u2026n# :: ns\\u2026n\", \"s\\u2026n# :: ns\\u2026n\", \"s\\u2026n# :: ns\\u2026n\", \"s\\u2026n# :: ns\\u2026n\", \"s\\u2026n# :: n\\u2026\\u0259n\", \"s\\u2026n# :: n\\u2026\\u0259n\", \"s\\u2026n# :: n\\u2026\\u0259n\", \"s\\u2026n# :: n\\u2026\\u0259n\", \"s\\u2026n# :: s\\u0259n#\", \"s\\u2026n# :: s\\u0259n#\", \"s\\u2026n# :: s\\u0259n#\", \"s\\u2026n# :: s\\u0259n#\", \"s\\u2026n# :: s\\u0259n#\", \"s\\u2026n# :: s\\u0259n#\", \"s\\u2026n# :: s\\u0259n#\", \"s\\u2026n# :: s\\u0259n#\", \"s\\u2026n# :: s\\u0259n#\", \"s\\u2026n# :: s\\u0259n#\", \"s\\u2026n# :: s\\u0259\\u2026#\", \"s\\u2026n# :: s\\u0259\\u2026#\", \"s\\u2026n# :: s\\u0259\\u2026#\", \"s\\u2026n# :: s\\u0259\\u2026#\", \"s\\u2026n# :: s\\u0259\\u2026#\", \"s\\u2026n# :: s\\u0259\\u2026#\", \"s\\u2026n# :: s\\u0259\\u2026#\", \"s\\u2026n# :: s\\u0259\\u2026#\", \"s\\u2026n# :: s\\u0259\\u2026#\", \"s\\u2026n# :: s\\u0259\\u2026#\", \"s\\u2026n# :: s\\u2026n#\", \"s\\u2026n# :: s\\u2026n#\", \"s\\u2026n# :: s\\u2026n#\", \"s\\u2026n# :: s\\u2026n#\", \"s\\u2026n# :: s\\u2026n#\", \"s\\u2026n# :: s\\u2026n#\", \"s\\u2026n# :: s\\u2026n#\", \"s\\u2026n# :: s\\u2026n#\", \"s\\u2026n# :: s\\u2026n#\", \"s\\u2026n# :: s\\u2026n#\", \"s\\u2026n# :: s\\u2026n#\", \"s\\u2026n# :: s\\u2026n#\", \"s\\u2026n# :: s\\u2026n#\", \"s\\u2026n# :: ts\\u0259n\", \"s\\u2026n# :: ts\\u2026n\", \"s\\u2026n# :: \\u025ds\\u0259n\", \"s\\u2026n# :: \\u025ds\\u0259n\", \"s\\u2026n# :: \\u025ds\\u2026n\", \"s\\u2026n# :: \\u025d\\u2026\\u0259n\", \"s\\u2026nd :: #s\\u2026nd\", \"s\\u2026nd :: s\\u00e6\\u2026d\", \"s\\u2026nd :: s\\u00e6\\u2026d\", \"s\\u2026nd :: s\\u00e6\\u2026d\", \"s\\u2026nd :: s\\u2026nd\", \"s\\u2026nd :: s\\u2026nd\", \"s\\u2026nd :: s\\u2026nd\", \"s\\u2026nd :: s\\u2026nd\", \"s\\u2026nd :: s\\u2026nd\", \"s\\u2026nd :: s\\u2026nd\", \"s\\u2026ng :: s\\u026a\\u014b#\", \"s\\u2026ng :: s\\u026a\\u014b#\", \"s\\u2026ng :: s\\u026a\\u014b#\", \"s\\u2026ng :: s\\u026a\\u014b#\", \"s\\u2026ng :: s\\u026a\\u2026#\", \"s\\u2026ng :: s\\u026a\\u2026#\", \"s\\u2026ng :: s\\u2026\\u014b#\", \"s\\u2026ng :: s\\u2026\\u014b#\", \"s\\u2026ng :: \\u025bs\\u2026\\u014b\", \"s\\u2026ng :: \\u025bs\\u2026\\u014b\", \"s\\u2026ng :: \\u025b\\u2026\\u026a\\u014b\", \"s\\u2026ng :: \\u025b\\u2026\\u026a\\u014b\", \"s\\u2026ng :: \\u025b\\u2026\\u026a\\u014b\", \"s\\u2026on :: sk\\u2026\\u028a\", \"s\\u2026on :: s\\u2026\\u0259n\", \"s\\u2026on :: s\\u2026\\u0259n\", \"s\\u2026on :: s\\u2026\\u0259n\", \"s\\u2026ra :: st\\u0279\\u00e6\", \"s\\u2026ra :: st\\u0279\\u00e6\", \"s\\u2026ra :: st\\u2026\\u00e6\", \"s\\u2026ra :: st\\u2026\\u00e6\", \"s\\u2026ra :: s\\u2026\\u0279e\", \"s\\u2026ra :: s\\u2026\\u0279\\u00e6\", \"s\\u2026ra :: s\\u2026\\u0279\\u00e6\", \"s\\u2026ra :: s\\u2026\\u0279\\u00e6\", \"s\\u2026ra :: s\\u2026\\u0279\\u00e6\", \"s\\u2026ro :: \\u0279\\u2026m#\", \"s\\u2026ut :: s\\u2026\\u0259t\", \"s\\u2026ut :: s\\u2026\\u0259t\", \"s\\u2026ve :: s\\u026av#\", \"s\\u2026ve :: s\\u026a\\u2026#\", \"s\\u2026ve :: s\\u026a\\u2026#\", \"s\\u2026ve :: s\\u2026v#\", \"s\\u2026y# :: \\u026a\\u2026i#\", \"s\\u2026y# :: \\u026a\\u2026i#\", \"s\\u2026y# :: \\u026a\\u2026i#\", \"t's# :: nts#\", \"t's# :: \\u0259\\u2026ts\", \"t's# :: \\u0279t\\u2026#\", \"t's# :: \\u0279t\\u2026#\", \"t'\\u2026# :: nts#\", \"t'\\u2026# :: nt\\u2026#\", \"t'\\u2026# :: \\u0259n\\u2026s\", \"t'\\u2026# :: \\u0279ts#\", \"t'\\u2026# :: \\u0279ts#\", \"ted# :: st\\u026ad\", \"ted# :: st\\u026ad\", \"ted# :: s\\u2026\\u026ad\", \"ted# :: s\\u2026\\u026ad\", \"ted# :: t\\u026ad#\", \"ted# :: t\\u026ad#\", \"ted# :: t\\u026ad#\", \"ted# :: t\\u026ad#\", \"ted# :: t\\u026a\\u2026#\", \"ted# :: t\\u026a\\u2026#\", \"ted# :: t\\u026a\\u2026#\", \"ted# :: t\\u026a\\u2026#\", \"ted# :: t\\u2026d#\", \"ted# :: t\\u2026d#\", \"ted# :: t\\u2026d#\", \"ted# :: t\\u2026d#\", \"ted# :: t\\u2026d#\", \"ted# :: t\\u2026d#\", \"ted# :: t\\u2026d#\", \"ter# :: st\\u025d#\", \"ter# :: st\\u025d#\", \"ter# :: st\\u025d#\", \"ter# :: st\\u2026#\", \"ter# :: st\\u2026#\", \"ter# :: st\\u2026#\", \"ter# :: st\\u2026#\", \"ter# :: s\\u2026\\u025d#\", \"ter# :: s\\u2026\\u025d#\", \"ter# :: s\\u2026\\u025d#\", \"ter# :: s\\u2026\\u025d#\", \"ters :: t\\u025dz#\", \"ters :: t\\u025dz#\", \"ters :: t\\u025d\\u2026#\", \"ters :: t\\u025d\\u2026#\", \"ters :: t\\u2026z#\", \"ters :: t\\u2026z#\", \"tes# :: a\\u026ats\", \"tes# :: e\\u026ats\", \"tes# :: e\\u026ats\", \"tes# :: e\\u026a\\u2026s\", \"tes# :: e\\u2026ts\", \"tes# :: \\u026ats#\", \"tes# :: \\u026ats#\", \"tes# :: \\u026ats#\", \"tes# :: \\u026at\\u2026#\", \"tes# :: \\u026at\\u2026#\", \"tes# :: \\u026at\\u2026#\", \"tes# :: \\u026a\\u2026s#\", \"tes# :: \\u026a\\u2026s#\", \"te\\u2026# :: e\\u026ats\", \"te\\u2026# :: e\\u026ats\", \"te\\u2026# :: e\\u026ats\", \"te\\u2026# :: e\\u026ats\", \"te\\u2026# :: e\\u026a\\u2026s\", \"te\\u2026# :: e\\u2026ts\", \"te\\u2026# :: st\\u025d#\", \"te\\u2026# :: st\\u025d#\", \"te\\u2026# :: st\\u025d#\", \"te\\u2026# :: st\\u2026#\", \"te\\u2026# :: st\\u2026#\", \"te\\u2026# :: st\\u2026#\", \"te\\u2026# :: st\\u2026#\", \"te\\u2026# :: st\\u2026#\", \"te\\u2026# :: st\\u2026#\", \"te\\u2026# :: st\\u2026#\", \"te\\u2026# :: st\\u2026#\", \"te\\u2026# :: st\\u2026#\", \"te\\u2026# :: s\\u2026\\u025d#\", \"te\\u2026# :: s\\u2026\\u025d#\", \"te\\u2026# :: s\\u2026\\u025d#\", \"te\\u2026# :: s\\u2026\\u025d#\", \"te\\u2026# :: t\\u026ad#\", \"te\\u2026# :: t\\u026ad#\", \"te\\u2026# :: t\\u026ad#\", \"te\\u2026# :: t\\u026ad#\", \"te\\u2026# :: t\\u026a\\u2026#\", \"te\\u2026# :: t\\u026a\\u2026#\", \"te\\u2026# :: t\\u026a\\u2026#\", \"te\\u2026# :: t\\u026a\\u2026#\", \"te\\u2026# :: t\\u026a\\u2026#\", \"te\\u2026# :: t\\u2026d#\", \"te\\u2026# :: t\\u2026d#\", \"te\\u2026# :: t\\u2026d#\", \"te\\u2026# :: t\\u2026d#\", \"te\\u2026# :: t\\u2026d#\", \"te\\u2026# :: t\\u2026d#\", \"te\\u2026# :: \\u00e6\\u2026st\", \"te\\u2026# :: \\u00e6\\u2026st\", \"te\\u2026# :: \\u00e6\\u2026st\", \"te\\u2026# :: \\u026ats#\", \"te\\u2026# :: \\u026ats#\", \"te\\u2026# :: \\u026ats#\", \"te\\u2026# :: \\u026at\\u2026#\", \"te\\u2026# :: \\u026at\\u2026#\", \"te\\u2026# :: \\u026at\\u2026#\", \"te\\u2026# :: \\u026at\\u2026#\", \"te\\u2026# :: \\u026at\\u2026#\", \"te\\u2026# :: \\u026at\\u2026#\", \"te\\u2026# :: \\u026at\\u2026#\", \"te\\u2026# :: \\u026a\\u2026s#\", \"te\\u2026# :: \\u026a\\u2026s#\", \"te\\u2026# :: \\u026a\\u2026s#\", \"te\\u2026# :: \\u026a\\u2026s#\", \"te\\u2026# :: \\u026a\\u2026s#\", \"te\\u2026s :: t\\u025dz#\", \"te\\u2026s :: t\\u025dz#\", \"te\\u2026s :: t\\u025dz#\", \"te\\u2026s :: t\\u025d\\u2026#\", \"te\\u2026s :: t\\u025d\\u2026#\", \"te\\u2026s :: t\\u025d\\u2026#\", \"te\\u2026s :: t\\u025d\\u2026#\", \"te\\u2026s :: t\\u2026z#\", \"te\\u2026s :: t\\u2026z#\", \"te\\u2026s :: t\\u2026z#\", \"te\\u2026s :: t\\u2026z#\", \"te\\u2026s :: t\\u2026z#\", \"te\\u2026s :: t\\u2026z#\", \"te\\u2026s :: t\\u2026z#\", \"te\\u2026s :: t\\u2026z#\", \"ting :: t\\u026a\\u014b#\", \"ting :: t\\u026a\\u014b#\", \"ting :: t\\u026a\\u014b#\", \"ting :: t\\u026a\\u014b#\", \"ting :: t\\u026a\\u2026#\", \"ting :: t\\u026a\\u2026#\", \"ting :: t\\u026a\\u2026#\", \"ting :: t\\u026a\\u2026#\", \"ting :: t\\u026a\\u2026#\", \"ting :: t\\u026a\\u2026#\", \"ting :: t\\u2026\\u014b#\", \"ting :: t\\u2026\\u014b#\", \"ting :: t\\u2026\\u014b#\", \"ting :: t\\u2026\\u014b#\", \"ting :: \\u0259t\\u026a\\u014b\", \"ting :: \\u0259t\\u026a\\u014b\", \"ting :: \\u0259t\\u2026\\u014b\", \"ting :: \\u0259t\\u2026\\u014b\", \"ting :: \\u0259\\u2026\\u026a\\u014b\", \"ting :: \\u0259\\u2026\\u026a\\u014b\", \"ting :: \\u0259\\u2026\\u026a\\u014b\", \"ting :: \\u025d\\u2026\\u026a\\u014b\", \"tion :: e\\u026a\\u0283\\u0259\", \"tion :: \\u026a\\u0283\\u0259n\", \"tion :: \\u026a\\u0283\\u2026n\", \"tion :: \\u026a\\u0283\\u2026n\", \"tion :: \\u0283\\u0259n#\", \"tion :: \\u0283\\u0259n#\", \"tion :: \\u0283\\u0259n#\", \"ti\\u2026# :: t\\u026a\\u2026#\", \"ti\\u2026# :: t\\u026a\\u2026#\", \"ti\\u2026# :: t\\u026a\\u2026#\", \"ti\\u2026# :: t\\u026a\\u2026#\", \"ti\\u2026# :: t\\u026a\\u2026#\", \"ti\\u2026# :: t\\u026a\\u2026#\", \"ti\\u2026g :: t\\u026a\\u014b#\", \"ti\\u2026g :: t\\u026a\\u014b#\", \"ti\\u2026g :: t\\u026a\\u014b#\", \"ti\\u2026g :: t\\u026a\\u014b#\", \"ti\\u2026g :: t\\u026a\\u014b#\", \"ti\\u2026g :: t\\u026a\\u2026#\", \"ti\\u2026g :: t\\u026a\\u2026#\", \"ti\\u2026g :: t\\u026a\\u2026#\", \"ti\\u2026g :: t\\u026a\\u2026#\", \"ti\\u2026g :: t\\u026a\\u2026#\", \"ti\\u2026g :: t\\u2026\\u014b#\", \"ti\\u2026g :: t\\u2026\\u014b#\", \"ti\\u2026g :: t\\u2026\\u014b#\", \"ti\\u2026g :: t\\u2026\\u014b#\", \"ti\\u2026g :: \\u0259t\\u026a\\u014b\", \"ti\\u2026g :: \\u0259t\\u026a\\u014b\", \"ti\\u2026g :: \\u0259t\\u2026\\u014b\", \"ti\\u2026g :: \\u0259\\u2026\\u026a\\u014b\", \"ti\\u2026n :: e\\u026a\\u0283\\u0259\", \"ti\\u2026n :: e\\u026a\\u0283\\u0259\", \"ti\\u2026n :: e\\u026a\\u2026\\u0259\", \"ti\\u2026n :: e\\u026a\\u2026\\u0259\", \"ti\\u2026n :: e\\u2026\\u0283\\u0259\", \"ti\\u2026n :: e\\u2026\\u0283\\u0259\", \"ti\\u2026n :: e\\u2026\\u0283\\u0259\", \"ti\\u2026n :: e\\u2026\\u0283\\u0259\", \"ti\\u2026n :: \\u026a\\u0283\\u0259n\", \"ti\\u2026n :: \\u026a\\u0283\\u0259n\", \"ti\\u2026n :: \\u026a\\u0283\\u2026n\", \"ti\\u2026n :: \\u026a\\u0283\\u2026n\", \"ti\\u2026n :: \\u026a\\u2026\\u0259n\", \"ti\\u2026n :: \\u026a\\u2026\\u0259n\", \"ti\\u2026n :: \\u026a\\u2026\\u0259n\", \"ti\\u2026n :: \\u026a\\u2026\\u0259n\", \"ti\\u2026n :: \\u0283\\u0259n#\", \"ti\\u2026n :: \\u0283\\u0259n#\", \"ti\\u2026n :: \\u0283\\u0259n#\", \"ti\\u2026n :: \\u0283\\u0259\\u2026#\", \"ti\\u2026n :: \\u0283\\u0259\\u2026#\", \"ti\\u2026n :: \\u0283\\u2026n#\", \"ti\\u2026n :: \\u0283\\u2026n#\", \"ti\\u2026n :: \\u0283\\u2026n#\", \"tnes :: tn\\u2026s\", \"tnes :: t\\u2026\\u0259s\", \"tn\\u2026r :: t\\u2026\\u025d#\", \"tn\\u2026r :: t\\u2026\\u025d#\", \"tn\\u2026s :: tn\\u0259s\", \"tn\\u2026s :: tn\\u0259s\", \"tn\\u2026s :: tn\\u0259s\", \"tn\\u2026s :: tn\\u0259s\", \"tn\\u2026s :: tn\\u2026s\", \"tn\\u2026s :: tn\\u2026s\", \"tn\\u2026s :: tn\\u2026s\", \"tn\\u2026s :: t\\u2026\\u0259s\", \"ton# :: t\\u0259n#\", \"ton# :: t\\u0259n#\", \"ton# :: t\\u0259n#\", \"ton# :: t\\u0259n#\", \"ton# :: t\\u0259n#\", \"ton# :: t\\u0259n#\", \"ton# :: t\\u0259n#\", \"ton# :: t\\u0259n#\", \"ton# :: t\\u0259\\u2026#\", \"ton# :: t\\u0259\\u2026#\", \"ton# :: t\\u0259\\u2026#\", \"ton# :: t\\u0259\\u2026#\", \"ton# :: t\\u0259\\u2026#\", \"ton# :: t\\u0259\\u2026#\", \"ton# :: t\\u0259\\u2026#\", \"ton# :: t\\u0259\\u2026#\", \"ton# :: t\\u0259\\u2026#\", \"ton# :: t\\u2026n#\", \"ton# :: t\\u2026n#\", \"ton# :: t\\u2026n#\", \"ton# :: t\\u2026n#\", \"ton# :: t\\u2026n#\", \"ton# :: t\\u2026n#\", \"ton# :: t\\u2026n#\", \"ton# :: \\u014bt\\u0259n\", \"ton# :: \\u026a\\u2026t\\u0259\", \"ton# :: \\u026a\\u2026t\\u0259\", \"ton# :: \\u026a\\u2026t\\u0259\", \"to\\u2026# :: st\\u0259n\", \"to\\u2026# :: st\\u0259n\", \"to\\u2026# :: t\\u0259n#\", \"to\\u2026# :: t\\u0259n#\", \"to\\u2026# :: t\\u0259n#\", \"to\\u2026# :: t\\u0259n#\", \"to\\u2026# :: t\\u0259n#\", \"to\\u2026# :: t\\u0259n#\", \"to\\u2026# :: t\\u0259n#\", \"to\\u2026# :: t\\u0259n#\", \"to\\u2026# :: t\\u0259\\u2026#\", \"to\\u2026# :: t\\u0259\\u2026#\", \"to\\u2026# :: t\\u0259\\u2026#\", \"to\\u2026# :: t\\u0259\\u2026#\", \"to\\u2026# :: t\\u0259\\u2026#\", \"to\\u2026# :: t\\u0259\\u2026#\", \"to\\u2026# :: t\\u0259\\u2026#\", \"to\\u2026# :: t\\u2026n#\", \"to\\u2026# :: t\\u2026n#\", \"to\\u2026# :: t\\u2026n#\", \"to\\u2026# :: t\\u2026n#\", \"to\\u2026# :: t\\u2026n#\", \"to\\u2026# :: t\\u2026n#\", \"to\\u2026# :: t\\u2026n#\", \"to\\u2026# :: \\u014bt\\u0259n\", \"to\\u2026# :: \\u014bt\\u2026n\", \"to\\u2026# :: \\u014b\\u2026\\u0259n\", \"to\\u2026# :: \\u014b\\u2026\\u0259n\", \"to\\u2026# :: \\u014b\\u2026\\u0259n\", \"to\\u2026# :: \\u026a\\u014bt\\u0259\", \"to\\u2026# :: \\u026a\\u014bt\\u0259\", \"to\\u2026# :: \\u026a\\u014b\\u2026\\u0259\", \"to\\u2026# :: \\u026a\\u014b\\u2026\\u0259\", \"to\\u2026# :: \\u026a\\u2026t\\u0259\", \"to\\u2026# :: \\u026a\\u2026t\\u0259\", \"to\\u2026# :: \\u026a\\u2026t\\u0259\", \"to\\u2026# :: \\u026a\\u2026t\\u0259\", \"trom :: \\u0279\\u0259m#\", \"tr\\u2026l :: t\\u0279\\u2026\\u026b\", \"tr\\u2026l :: t\\u0279\\u2026\\u026b\", \"tr\\u2026l :: t\\u0279\\u2026\\u026b\", \"tr\\u2026l :: t\\u0279\\u2026\\u026b\", \"tr\\u2026l :: t\\u0279\\u2026\\u026b\", \"tr\\u2026l :: t\\u0279\\u2026\\u026b\", \"tr\\u2026m :: t\\u0279\\u0259m\", \"tr\\u2026m :: t\\u0279\\u0259m\", \"tr\\u2026m :: t\\u0279\\u0259m\", \"tr\\u2026m :: t\\u0279\\u2026m\", \"tr\\u2026m :: t\\u0279\\u2026m\", \"tr\\u2026m :: t\\u2026\\u0259m\", \"tr\\u2026m :: t\\u2026\\u0259m\", \"tr\\u2026m :: \\u0279\\u2026m#\", \"tr\\u2026p :: t\\u0279\\u2026p\", \"tr\\u2026p :: t\\u0279\\u2026p\", \"tr\\u2026p :: t\\u0279\\u2026p\", \"ts\\u2026n :: s\\u0259n#\", \"ts\\u2026n :: s\\u0259\\u2026#\", \"ts\\u2026n :: s\\u0259\\u2026#\", \"ts\\u2026n :: s\\u2026n#\", \"ts\\u2026n :: s\\u2026n#\", \"ts\\u2026n :: ts\\u0259n\", \"ts\\u2026n :: ts\\u0259n\", \"tta# :: \\u025b\\u2026\\u0259#\", \"tte# :: \\u025d\\u025bt#\", \"tte# :: \\u025d\\u2026t#\", \"tte# :: \\u025d\\u2026t#\", \"tted :: t\\u2026d#\", \"ttin :: t\\u026a\\u014b#\", \"tt\\u2026# :: \\u025bt\\u0259#\", \"tt\\u2026# :: \\u025bt\\u0259#\", \"tt\\u2026# :: \\u025bt\\u0259#\", \"tt\\u2026# :: \\u025bt\\u2026#\", \"tt\\u2026# :: \\u025bt\\u2026#\", \"tt\\u2026# :: \\u025bt\\u2026#\", \"tt\\u2026# :: \\u025bt\\u2026#\", \"tt\\u2026# :: \\u025b\\u2026\\u0259#\", \"tt\\u2026# :: \\u025b\\u2026\\u0259#\", \"tt\\u2026# :: \\u025d\\u025bt#\", \"tt\\u2026# :: \\u025d\\u2026t#\", \"tt\\u2026# :: \\u026b\\u025bt#\", \"tt\\u2026n :: t\\u026a\\u2026#\", \"ture :: t\\u2026\\u025d#\", \"ture :: t\\u2026\\u025d#\", \"twen :: tw\\u025bn\", \"twen :: tw\\u2026n\", \"tw\\u2026n :: tw\\u2026n\", \"tw\\u2026n :: tw\\u2026n\", \"tw\\u2026n :: t\\u2026\\u025bn\", \"t\\u2026a# :: \\u025bt\\u0259#\", \"t\\u2026a# :: \\u025bt\\u2026#\", \"t\\u2026a# :: \\u025bt\\u2026#\", \"t\\u2026a# :: \\u025b\\u2026\\u0259#\", \"t\\u2026a# :: \\u025b\\u2026\\u0259#\", \"t\\u2026d# :: st\\u2026d\", \"t\\u2026d# :: st\\u2026d\", \"t\\u2026d# :: t\\u026ad#\", \"t\\u2026d# :: t\\u026ad#\", \"t\\u2026d# :: t\\u026ad#\", \"t\\u2026d# :: t\\u026ad#\", \"t\\u2026d# :: t\\u026a\\u2026#\", \"t\\u2026d# :: t\\u026a\\u2026#\", \"t\\u2026d# :: t\\u026a\\u2026#\", \"t\\u2026d# :: t\\u026a\\u2026#\", \"t\\u2026d# :: t\\u026a\\u2026#\", \"t\\u2026d# :: t\\u2026d#\", \"t\\u2026d# :: t\\u2026d#\", \"t\\u2026d# :: t\\u2026d#\", \"t\\u2026d# :: t\\u2026d#\", \"t\\u2026d# :: t\\u2026d#\", \"t\\u2026d# :: t\\u2026d#\", \"t\\u2026d# :: t\\u2026d#\", \"t\\u2026d# :: t\\u2026d#\", \"t\\u2026d# :: \\u026at\\u2026d\", \"t\\u2026d# :: \\u026at\\u2026d\", \"t\\u2026d# :: \\u026at\\u2026d\", \"t\\u2026e# :: \\u025d\\u2026t#\", \"t\\u2026en :: tw\\u025bn\", \"t\\u2026en :: tw\\u025bn\", \"t\\u2026en :: tw\\u2026n\", \"t\\u2026er :: tn\\u2026#\", \"t\\u2026es :: tn\\u0259s\", \"t\\u2026es :: tn\\u2026s\", \"t\\u2026es :: t\\u2026\\u0259s\", \"t\\u2026es :: t\\u2026\\u0259s\", \"t\\u2026in :: t\\u026a\\u014b#\", \"t\\u2026in :: t\\u026a\\u014b#\", \"t\\u2026in :: t\\u026a\\u2026#\", \"t\\u2026in :: t\\u026a\\u2026#\", \"t\\u2026in :: t\\u2026\\u014b#\", \"t\\u2026in :: t\\u2026\\u014b#\", \"t\\u2026l# :: t\\u025b\\u2026#\", \"t\\u2026n# :: t\\u0259n#\", \"t\\u2026n# :: t\\u0259n#\", \"t\\u2026n# :: t\\u0259n#\", \"t\\u2026n# :: t\\u0259n#\", \"t\\u2026n# :: t\\u0259n#\", \"t\\u2026n# :: t\\u0259n#\", \"t\\u2026n# :: t\\u0259n#\", \"t\\u2026n# :: t\\u0259n#\", \"t\\u2026n# :: t\\u0259\\u2026#\", \"t\\u2026n# :: t\\u0259\\u2026#\", \"t\\u2026n# :: t\\u0259\\u2026#\", \"t\\u2026n# :: t\\u0259\\u2026#\", \"t\\u2026n# :: t\\u0259\\u2026#\", \"t\\u2026n# :: t\\u0259\\u2026#\", \"t\\u2026n# :: t\\u0259\\u2026#\", \"t\\u2026n# :: t\\u0259\\u2026#\", \"t\\u2026n# :: t\\u0259\\u2026#\", \"t\\u2026n# :: t\\u2026n#\", \"t\\u2026n# :: t\\u2026n#\", \"t\\u2026n# :: t\\u2026n#\", \"t\\u2026n# :: t\\u2026n#\", \"t\\u2026n# :: t\\u2026n#\", \"t\\u2026n# :: t\\u2026n#\", \"t\\u2026n# :: t\\u2026n#\", \"t\\u2026n# :: t\\u2026n#\", \"t\\u2026n# :: t\\u2026n#\", \"t\\u2026n# :: t\\u2026n#\", \"t\\u2026n# :: t\\u2026n#\", \"t\\u2026n# :: t\\u2026n#\", \"t\\u2026n# :: t\\u2026n#\", \"t\\u2026n# :: t\\u2026n#\", \"t\\u2026n# :: t\\u2026n#\", \"t\\u2026n# :: \\u014bt\\u2026n\", \"t\\u2026n# :: \\u026a\\u014bt\\u0259\", \"t\\u2026n# :: \\u026a\\u014bt\\u0259\", \"t\\u2026n# :: \\u026a\\u2026t\\u0259\", \"t\\u2026n# :: \\u026a\\u2026t\\u0259\", \"t\\u2026n# :: \\u026a\\u2026t\\u0259\", \"t\\u2026n# :: \\u026a\\u2026t\\u0259\", \"t\\u2026n# :: \\u026a\\u2026t\\u0259\", \"t\\u2026n# :: \\u0279t\\u0259n\", \"t\\u2026n# :: \\u0279t\\u2026n\", \"t\\u2026n# :: \\u0279\\u2026\\u0259n\", \"t\\u2026ne :: t\\u2026nz\", \"t\\u2026ne :: t\\u2026nz\", \"t\\u2026ne :: t\\u2026nz\", \"t\\u2026ng :: t\\u026a\\u014b#\", \"t\\u2026ng :: t\\u026a\\u014b#\", \"t\\u2026ng :: t\\u026a\\u014b#\", \"t\\u2026ng :: t\\u026a\\u014b#\", \"t\\u2026ng :: t\\u026a\\u014b#\", \"t\\u2026ng :: t\\u026a\\u2026#\", \"t\\u2026ng :: t\\u026a\\u2026#\", \"t\\u2026ng :: t\\u026a\\u2026#\", \"t\\u2026ng :: t\\u026a\\u2026#\", \"t\\u2026ng :: t\\u026a\\u2026#\", \"t\\u2026ng :: t\\u026a\\u2026#\", \"t\\u2026ng :: t\\u2026\\u014b#\", \"t\\u2026ng :: t\\u2026\\u014b#\", \"t\\u2026ng :: t\\u2026\\u014b#\", \"t\\u2026ng :: t\\u2026\\u014b#\", \"t\\u2026ng :: \\u0259t\\u026a\\u014b\", \"t\\u2026ng :: \\u0259t\\u2026\\u014b\", \"t\\u2026ng :: \\u0259t\\u2026\\u014b\", \"t\\u2026ng :: \\u0259\\u2026\\u026a\\u014b\", \"t\\u2026ng :: \\u0259\\u2026\\u026a\\u014b\", \"t\\u2026ng :: \\u0259\\u2026\\u026a\\u014b\", \"t\\u2026ng :: \\u0259\\u2026\\u026a\\u2026#\", \"t\\u2026ng :: \\u025dt\\u2026\\u014b\", \"t\\u2026om :: \\u0279\\u2026m#\", \"t\\u2026on :: \\u026a\\u2026\\u0259n\", \"t\\u2026on :: \\u026a\\u2026\\u0259n\", \"t\\u2026on :: \\u026a\\u2026\\u0259n\", \"t\\u2026on :: \\u026a\\u2026\\u0259n\", \"t\\u2026on :: \\u0283\\u0259\\u2026#\", \"t\\u2026on :: \\u0283\\u0259\\u2026#\", \"t\\u2026r# :: st\\u025d#\", \"t\\u2026r# :: st\\u025d#\", \"t\\u2026r# :: st\\u025d#\", \"t\\u2026r# :: st\\u2026#\", \"t\\u2026r# :: st\\u2026#\", \"t\\u2026r# :: st\\u2026#\", \"t\\u2026r# :: st\\u2026#\", \"t\\u2026r# :: st\\u2026#\", \"t\\u2026r# :: st\\u2026#\", \"t\\u2026r# :: s\\u2026\\u025d#\", \"t\\u2026r# :: s\\u2026\\u025d#\", \"t\\u2026r# :: s\\u2026\\u025d#\", \"t\\u2026r# :: \\u00e6\\u2026st\", \"t\\u2026r# :: \\u00e6\\u2026st\", \"t\\u2026r# :: \\u00e6\\u2026st\", \"t\\u2026re :: t\\u025dd#\", \"t\\u2026re :: t\\u025d\\u2026#\", \"t\\u2026re :: t\\u025d\\u2026#\", \"t\\u2026re :: t\\u0283\\u025dz\", \"t\\u2026ri :: t\\u025d\\u026a\\u014b\", \"t\\u2026ri :: t\\u025d\\u026a\\u014b\", \"t\\u2026ri :: t\\u025d\\u2026\\u014b\", \"t\\u2026ri :: t\\u025d\\u2026\\u014b\", \"t\\u2026ri :: t\\u025d\\u2026\\u014b\", \"t\\u2026ri :: t\\u2026\\u026a\\u014b\", \"t\\u2026ri :: t\\u2026\\u026a\\u014b\", \"t\\u2026ri :: t\\u2026\\u026a\\u014b\", \"t\\u2026ri :: \\u025d\\u026a\\u014b#\", \"t\\u2026ri :: \\u025d\\u026a\\u014b#\", \"t\\u2026ri :: \\u025d\\u026a\\u2026#\", \"t\\u2026ri :: \\u025d\\u026a\\u2026#\", \"t\\u2026ri :: \\u025d\\u2026\\u014b#\", \"t\\u2026rs :: t\\u025dz#\", \"t\\u2026rs :: t\\u025dz#\", \"t\\u2026rs :: t\\u025dz#\", \"t\\u2026rs :: t\\u025dz#\", \"t\\u2026rs :: t\\u025dz#\", \"t\\u2026rs :: t\\u025d\\u2026#\", \"t\\u2026rs :: t\\u025d\\u2026#\", \"t\\u2026rs :: t\\u025d\\u2026#\", \"t\\u2026rs :: t\\u025d\\u2026#\", \"t\\u2026rs :: t\\u025d\\u2026#\", \"t\\u2026rs :: t\\u2026z#\", \"t\\u2026rs :: t\\u2026z#\", \"t\\u2026rs :: t\\u2026z#\", \"t\\u2026rs :: t\\u2026z#\", \"t\\u2026rs :: t\\u2026z#\", \"t\\u2026rs :: t\\u2026z#\", \"t\\u2026ry :: \\u0279\\u2026z#\", \"t\\u2026ry :: \\u0279\\u2026z#\", \"t\\u2026s# :: e\\u026ats\", \"t\\u2026s# :: e\\u026a\\u2026s\", \"t\\u2026s# :: e\\u2026ts\", \"t\\u2026s# :: \\u026ats#\", \"t\\u2026s# :: \\u026ats#\", \"t\\u2026s# :: \\u026ats#\", \"t\\u2026s# :: \\u026ats#\", \"t\\u2026s# :: \\u026at\\u2026#\", \"t\\u2026s# :: \\u026at\\u2026#\", \"t\\u2026s# :: \\u026at\\u2026#\", \"t\\u2026s# :: \\u026at\\u2026#\", \"t\\u2026s# :: \\u026at\\u2026#\", \"t\\u2026s# :: \\u026at\\u2026#\", \"t\\u2026s# :: \\u026a\\u2026s#\", \"t\\u2026s# :: \\u026a\\u2026s#\", \"t\\u2026s# :: \\u026a\\u2026s#\", \"t\\u2026s# :: \\u026a\\u2026s#\", \"t\\u2026s# :: \\u0279ts#\", \"t\\u2026s# :: \\u0279ts#\", \"t\\u2026s# :: \\u0279\\u2026s#\", \"t\\u2026ss :: t\\u2026\\u0259s\", \"uest :: kw\\u025bs\", \"uest :: kw\\u025bs\", \"uest :: w\\u2026st\", \"uest :: w\\u2026st\", \"uest :: w\\u2026st\", \"ue\\u2026t :: kw\\u025bs\", \"ue\\u2026t :: kw\\u025bs\", \"ue\\u2026t :: kw\\u2026s\", \"ue\\u2026t :: kw\\u2026s\", \"ue\\u2026t :: w\\u025bst\", \"ue\\u2026t :: w\\u025bst\", \"ue\\u2026t :: w\\u025bst\", \"uous :: u\\u0259s#\", \"uous :: u\\u0259\\u2026#\", \"uous :: u\\u2026s#\", \"uo\\u2026s :: u\\u0259\\u2026#\", \"uo\\u2026s :: u\\u2026s#\", \"uo\\u2026s :: u\\u2026s#\", \"ure# :: t\\u0283\\u025d#\", \"urn# :: b\\u025d\\u2026#\", \"urn# :: b\\u025d\\u2026#\", \"urn# :: b\\u2026n#\", \"urn# :: b\\u2026n#\", \"ur\\u2026# :: b\\u025dn#\", \"ur\\u2026# :: b\\u025dn#\", \"ur\\u2026# :: b\\u025d\\u2026#\", \"ur\\u2026# :: b\\u025d\\u2026#\", \"ur\\u2026# :: b\\u025d\\u2026#\", \"ur\\u2026# :: b\\u2026n#\", \"ur\\u2026# :: b\\u2026n#\", \"ur\\u2026# :: b\\u2026n#\", \"uter :: j\\u2026t\\u025d\", \"ut\\u2026# :: s\\u2026\\u0259t\", \"ut\\u2026i :: t\\u026a\\u014b#\", \"ut\\u2026i :: t\\u026a\\u014b#\", \"ut\\u2026i :: t\\u026a\\u2026#\", \"ut\\u2026r :: j\\u2026t\\u025d\", \"u\\u2026e# :: t\\u0283\\u2026#\", \"u\\u2026e# :: t\\u0283\\u2026#\", \"u\\u2026e# :: t\\u2026\\u025d#\", \"u\\u2026er :: ju\\u2026\\u025d\", \"u\\u2026es :: u\\u2026z#\", \"u\\u2026es :: u\\u2026z#\", \"u\\u2026es :: u\\u2026z#\", \"u\\u2026h# :: b\\u025do\\u028a\", \"u\\u2026h# :: \\u025do\\u2026#\", \"u\\u2026in :: \\u026a\\u014b\\u2026#\", \"u\\u2026in :: \\u026a\\u014b\\u2026#\", \"u\\u2026n# :: b\\u025dn#\", \"u\\u2026st :: st\\u2026#\", \"u\\u2026st :: st\\u2026#\", \"u\\u2026st :: w\\u025b\\u2026t\", \"u\\u2026st :: w\\u025b\\u2026t\", \"u\\u2026us :: u\\u2026s#\", \"vers :: iv\\u025dz\", \"vers :: iv\\u2026z\", \"vers :: i\\u2026\\u025dz\", \"ve\\u2026# :: \\u026bv\\u2026#\", \"ve\\u2026# :: \\u026bv\\u2026#\", \"ve\\u2026s :: iv\\u025dz\", \"ve\\u2026s :: iv\\u025dz\", \"ve\\u2026s :: iv\\u2026z\", \"ve\\u2026s :: iv\\u2026z\", \"ve\\u2026s :: iv\\u2026z\", \"ve\\u2026s :: i\\u2026\\u025dz\", \"ve\\u2026s :: i\\u2026\\u025dz\", \"ve\\u2026s :: i\\u2026\\u025dz\", \"ve\\u2026s :: v\\u025dz#\", \"ve\\u2026s :: v\\u025dz#\", \"ve\\u2026s :: v\\u025dz#\", \"ve\\u2026s :: v\\u025dz#\", \"ve\\u2026s :: v\\u025d\\u2026#\", \"ve\\u2026s :: v\\u025d\\u2026#\", \"ve\\u2026s :: v\\u025d\\u2026#\", \"ve\\u2026s :: v\\u2026z#\", \"ve\\u2026s :: v\\u2026z#\", \"ve\\u2026s :: v\\u2026z#\", \"ve\\u2026s :: v\\u2026z#\", \"ve\\u2026t :: v\\u025b\\u2026t\", \"ve\\u2026t :: v\\u025b\\u2026t\", \"ve\\u2026t :: v\\u025b\\u2026t\", \"ve\\u2026t :: \\u026anv\\u025b\", \"ve\\u2026t :: \\u026a\\u2026v\\u025b\", \"ve\\u2026t :: \\u026a\\u2026v\\u025b\", \"v\\u2026il :: ve\\u026a\\u026b\", \"v\\u2026il :: ve\\u026a\\u026b\", \"v\\u2026il :: ve\\u026a\\u026b\", \"v\\u2026rs :: iv\\u2026z\", \"v\\u2026rs :: iv\\u2026z\", \"v\\u2026rs :: iv\\u2026z\", \"v\\u2026rs :: i\\u2026\\u025dz\", \"v\\u2026rs :: v\\u025dz#\", \"v\\u2026rs :: v\\u025dz#\", \"v\\u2026rs :: v\\u025dz#\", \"v\\u2026rs :: v\\u025dz#\", \"v\\u2026rs :: v\\u025d\\u2026#\", \"v\\u2026rs :: v\\u025d\\u2026#\", \"v\\u2026rs :: v\\u025d\\u2026#\", \"v\\u2026rs :: v\\u025d\\u2026#\", \"wa\\u2026n :: w\\u0254\\u0279n\", \"wed# :: #\\u2026\\u028ad\", \"wed# :: o\\u028ad#\", \"wed# :: o\\u028a\\u2026#\", \"wed# :: o\\u2026d#\", \"wed# :: o\\u2026d#\", \"well :: \\u0251w\\u025b\\u026b\", \"well :: \\u0251w\\u025b\\u026b\", \"went :: tw\\u025bn\", \"went :: tw\\u025bn\", \"went :: tw\\u2026n\", \"went :: t\\u2026\\u025bn\", \"we\\u2026# :: o\\u028ad#\", \"we\\u2026# :: o\\u028ad#\", \"we\\u2026# :: o\\u028a\\u2026#\", \"we\\u2026# :: o\\u028a\\u2026#\", \"we\\u2026# :: o\\u028a\\u2026#\", \"we\\u2026# :: o\\u2026d#\", \"we\\u2026# :: o\\u2026d#\", \"we\\u2026l :: w\\u2026\\u026b#\", \"we\\u2026l :: w\\u2026\\u026b#\", \"we\\u2026l :: w\\u2026\\u026b#\", \"we\\u2026l :: w\\u2026\\u026b#\", \"we\\u2026l :: \\u0251w\\u025b\\u026b\", \"we\\u2026l :: \\u0251w\\u2026\\u026b\", \"we\\u2026l :: \\u0251\\u2026\\u025b\\u026b\", \"we\\u2026t :: tw\\u025bn\", \"we\\u2026t :: tw\\u025bn\", \"we\\u2026t :: t\\u2026\\u025bn\", \"whit :: hw\\u2026\\u026a\", \"wi\\u2026# :: a\\u028a\\u026an\", \"wi\\u2026# :: a\\u028a\\u2026n\", \"wood :: w\\u028a\\u2026#\", \"wood :: w\\u028a\\u2026#\", \"wood :: w\\u028a\\u2026#\", \"wood :: w\\u028a\\u2026#\", \"wood :: w\\u028a\\u2026#\", \"wski :: fski\", \"wski :: fs\\u2026i\", \"wski :: ski#\", \"wski :: ski#\", \"wski :: ski#\", \"wski :: ski#\", \"wski :: sk\\u2026#\", \"wski :: sk\\u2026#\", \"wski :: sk\\u2026#\", \"wski :: s\\u2026i#\", \"wski :: s\\u2026i#\", \"wski :: s\\u2026i#\", \"ws\\u2026i :: fski\", \"ws\\u2026i :: fs\\u2026i\", \"ws\\u2026i :: ski#\", \"ws\\u2026i :: ski#\", \"ws\\u2026i :: sk\\u2026#\", \"ws\\u2026i :: s\\u2026i#\", \"w\\u2026d# :: o\\u028ad#\", \"w\\u2026d# :: o\\u028a\\u2026#\", \"w\\u2026d# :: o\\u2026d#\", \"w\\u2026it :: wa\\u2026t\", \"w\\u2026ki :: f\\u2026ki\", \"w\\u2026ki :: ski#\", \"w\\u2026ki :: sk\\u2026#\", \"w\\u2026ki :: sk\\u2026#\", \"w\\u2026ki :: sk\\u2026#\", \"w\\u2026ki :: sk\\u2026#\", \"w\\u2026ki :: s\\u2026i#\", \"w\\u2026lf :: w\\u2026\\u026bf\", \"w\\u2026ll :: \\u0251w\\u025b\\u026b\", \"w\\u2026ll :: \\u0251w\\u025b\\u026b\", \"w\\u2026ll :: \\u0251w\\u2026\\u026b\", \"w\\u2026nt :: tw\\u025bn\", \"w\\u2026nt :: tw\\u2026n\", \"w\\u2026od :: w\\u028ad#\", \"w\\u2026od :: w\\u028ad#\", \"w\\u2026ys :: e\\u2026z#\", \"xton :: st\\u2026n\", \"xton :: st\\u2026n\", \"xt\\u2026n :: t\\u0259\\u2026#\", \"xt\\u2026n :: t\\u0259\\u2026#\", \"x\\u2026on :: kst\\u0259\", \"y\\u2026er :: \\u026a\\u2026\\u025d#\", \"y\\u2026er :: \\u026a\\u2026\\u025d#\", \"zed# :: a\\u026azd\", \"zed# :: a\\u026a\\u2026d\", \"zed# :: a\\u2026zd\", \"zed# :: \\u026azd#\", \"zed# :: \\u026azd#\", \"zed# :: \\u026azd#\", \"zed# :: \\u026az\\u2026#\", \"zed# :: \\u026az\\u2026#\", \"zed# :: \\u026a\\u2026d#\", \"zed# :: \\u026a\\u2026d#\", \"zed# :: \\u026a\\u2026d#\", \"zed# :: \\u026a\\u2026d#\", \"zed# :: \\u026a\\u2026d#\", \"ze\\u2026# :: a\\u026azd\", \"ze\\u2026# :: a\\u026a\\u2026d\", \"ze\\u2026# :: a\\u026a\\u2026d\", \"ze\\u2026# :: a\\u2026zd\", \"ze\\u2026# :: \\u026azd#\", \"ze\\u2026# :: \\u026azd#\", \"ze\\u2026# :: \\u026azd#\", \"ze\\u2026# :: \\u026az\\u2026#\", \"ze\\u2026# :: \\u026az\\u2026#\", \"ze\\u2026# :: \\u026az\\u2026#\", \"ze\\u2026# :: \\u026az\\u2026#\", \"ze\\u2026# :: \\u026az\\u2026#\", \"ze\\u2026# :: \\u026az\\u2026#\", \"ze\\u2026# :: \\u026a\\u2026d#\", \"ze\\u2026# :: \\u026a\\u2026d#\", \"ze\\u2026# :: \\u026a\\u2026d#\", \"z\\u2026d# :: a\\u026azd\", \"z\\u2026d# :: a\\u026a\\u2026d\", \"z\\u2026d# :: a\\u026a\\u2026d\", \"z\\u2026d# :: a\\u026a\\u2026d\", \"z\\u2026d# :: a\\u026a\\u2026d\", \"z\\u2026d# :: a\\u2026zd\", \"z\\u2026d# :: \\u026azd#\", \"z\\u2026d# :: \\u026azd#\", \"z\\u2026d# :: \\u026azd#\", \"z\\u2026d# :: \\u026azd#\", \"z\\u2026d# :: \\u026az\\u2026#\", \"z\\u2026d# :: \\u026az\\u2026#\", \"z\\u2026d# :: \\u026az\\u2026#\", \"z\\u2026d# :: \\u026az\\u2026#\", \"z\\u2026d# :: \\u026a\\u2026d#\", \"z\\u2026d# :: \\u026a\\u2026d#\", \"z\\u2026d# :: \\u026a\\u2026d#\", \"z\\u2026d# :: \\u026a\\u2026d#\"]}, \"R\": 30, \"lambda.step\": 0.01, \"plot.opts\": {\"xlab\": \"PC1\", \"ylab\": \"PC2\"}, \"topic.order\": [1, 2, 3, 4, 5, 6, 7, 8, 9, 10, 11, 12, 13, 14, 15, 16, 17, 18, 19, 20, 21, 22, 23, 24, 25, 26, 27, 28, 29, 30, 31, 32, 33, 34, 35, 36, 37, 38, 39, 40, 41, 42, 43, 44, 45]};\n",
       "\n",
       "function LDAvis_load_lib(url, callback){\n",
       "  var s = document.createElement('script');\n",
       "  s.src = url;\n",
       "  s.async = true;\n",
       "  s.onreadystatechange = s.onload = callback;\n",
       "  s.onerror = function(){console.warn(\"failed to load library \" + url);};\n",
       "  document.getElementsByTagName(\"head\")[0].appendChild(s);\n",
       "}\n",
       "\n",
       "if(typeof(LDAvis) !== \"undefined\"){\n",
       "   // already loaded: just create the visualization\n",
       "   !function(LDAvis){\n",
       "       new LDAvis(\"#\" + \"ldavis_el79104123411514403101636650\", ldavis_el79104123411514403101636650_data);\n",
       "   }(LDAvis);\n",
       "}else if(typeof define === \"function\" && define.amd){\n",
       "   // require.js is available: use it to load d3/LDAvis\n",
       "   require.config({paths: {d3: \"https://d3js.org/d3.v5\"}});\n",
       "   require([\"d3\"], function(d3){\n",
       "      window.d3 = d3;\n",
       "      LDAvis_load_lib(\"https://cdn.jsdelivr.net/gh/bmabey/pyLDAvis@3.4.0/pyLDAvis/js/ldavis.v3.0.0.js\", function(){\n",
       "        new LDAvis(\"#\" + \"ldavis_el79104123411514403101636650\", ldavis_el79104123411514403101636650_data);\n",
       "      });\n",
       "    });\n",
       "}else{\n",
       "    // require.js not available: dynamically load d3 & LDAvis\n",
       "    LDAvis_load_lib(\"https://d3js.org/d3.v5.js\", function(){\n",
       "         LDAvis_load_lib(\"https://cdn.jsdelivr.net/gh/bmabey/pyLDAvis@3.4.0/pyLDAvis/js/ldavis.v3.0.0.js\", function(){\n",
       "                 new LDAvis(\"#\" + \"ldavis_el79104123411514403101636650\", ldavis_el79104123411514403101636650_data);\n",
       "            })\n",
       "         });\n",
       "}\n",
       "</script>"
      ],
      "text/plain": [
       "<IPython.core.display.HTML object>"
      ]
     },
     "execution_count": 109,
     "metadata": {},
     "output_type": "execute_result"
    }
   ],
   "source": [
    "%%capture --no-display\n",
    "\n",
    "## pyLDAvis を使った LDA の結果の可視化: 階層クラスタリングより詳しい\n",
    "import pyLDAvis\n",
    "\n",
    "installed_version = pyLDAvis.__version__\n",
    "print(f\"installed_version: {installed_version}\")\n",
    "if float(installed_version[:3]) > 3.1:\n",
    "    import pyLDAvis.gensim_models as gensimvis\n",
    "else:\n",
    "    import pyLDAvis.gensim as gensimvis\n",
    "pyLDAvis.enable_notebook()\n",
    "\n",
    "## set variable names\n",
    "if use_HDP:\n",
    "    model_used  = pair_hdp\n",
    "else:\n",
    "    model_used  = pair_lda\n",
    "corpus_used   = pair_corpus\n",
    "diction_used  = pair_diction\n",
    "\n",
    "## 実行パラメター: Setting for tSNE or MMDS solves \"TypeError: Object of type complex\n",
    "# is not JSON serializable\" and gives a better layout where overlapping is avoided\n",
    "use_MMDS = False\n",
    "use_tSNE = False\n",
    "if use_MMDS:\n",
    "    vis_data = gensimvis.prepare(model_used, corpus_used, diction_used, mds = 'mmds',\n",
    "                            n_jobs = 1, sort_topics = False)    \n",
    "elif use_tSNE:\n",
    "    vis_data = gensimvis.prepare(model_used, corpus_used, diction_used, mds = 'tsne',\n",
    "                            n_jobs = 1, sort_topics = False)\n",
    "else:\n",
    "    vis_data = gensimvis.prepare(model_used, corpus_used, diction_used,\n",
    "                            n_jobs = 1, sort_topics = False)\n",
    "##\n",
    "pyLDAvis.display(vis_data)"
   ]
  },
  {
   "cell_type": "code",
   "execution_count": 110,
   "id": "25748b85",
   "metadata": {},
   "outputs": [],
   "source": [
    "## save LDAvis output as a html file\n",
    "save_LDAvis = True\n",
    "if save_LDAvis:\n",
    "\tif not apply_term_abuse_filtering:\n",
    "\t\tterm_abuse_threshold = 0\n",
    "\tif len(lang_attr) > 0:\n",
    "\t\tvis_output = f\"results/LDAvis/{lang_name}-pair/{lang_name}-{lang_attr}-{method_name}-ntop{n_topics}-{sp_term_type}-{sn_term_type}{hash_status}-abuse={term_abuse_threshold}.html\"\n",
    "\telse:\n",
    "\t\tvis_output = f\"results/LDAvis/{lang_name}-pair/{lang_name}-{method_name}-ntop{n_topics}-{sp_term_type}-{sn_term_type}{hash_status}-abuse={term_abuse_threshold}.html\"\t\n",
    "\t#\n",
    "\tpyLDAvis.save_html(vis_data, vis_output)"
   ]
  },
  {
   "cell_type": "code",
   "execution_count": 111,
   "id": "8f1c9232",
   "metadata": {},
   "outputs": [],
   "source": [
    "## save topic structures\n",
    "hdp_topics = pair_hdp.show_topics(num_topics = max_n_topics,\n",
    "                               num_words = n_terms_to_show, formatted = False)\n",
    "hdp_dict = { tid: values for tid, values in hdp_topics }\n",
    "## convert to Pandas dataframe\n",
    "topics_df = pd.DataFrame.from_dict(hdp_dict)\n",
    "lang_dir_name = lang_name\n",
    "target_class = \"pair\"\n",
    "term_type = f\"{sp_term_type}-{sn_term_type}\"\n",
    "accent_status = \"-unaccented\"\n",
    "#\n",
    "pair_hdp_topics_out = f\"results/terms-by-topics-raw/{lang_dir_name}/{target_lang_dict[target_lang_key]}-{target_class}-topics{max_n_topics}-{term_type}{accent_status}.csv\"\n",
    "topics_df.to_csv(pair_hdp_topics_out, header = False, index = None)"
   ]
  },
  {
   "cell_type": "markdown",
   "id": "6d79c463",
   "metadata": {},
   "source": [
    "# t-SNE を使った可視化"
   ]
  },
  {
   "cell_type": "code",
   "execution_count": 112,
   "id": "24f33ef0-49d0-4df7-8ffb-3718ec8d5441",
   "metadata": {},
   "outputs": [
    {
     "name": "stdout",
     "output_type": "stream",
     "text": [
      "top_perplexity_val: 15\n"
     ]
    }
   ],
   "source": [
    "## t-SNE の実行\n",
    "from sklearn.manifold import TSNE\n",
    "import numpy as np\n",
    "## tSNE のパラメターを設定\n",
    "top_perplexity_val = round(n_topics * top_perplexity_reduct_rate) # 大き過ぎると良くない\n",
    "print(f\"top_perplexity_val: {top_perplexity_val}\")\n",
    "tSNE_3d = TSNE(n_components = 3, random_state = 0,\n",
    "               perplexity = top_perplexity_val, max_iter = 1000)\n",
    "## データに適用\n",
    "pair_top_dist = model_used.get_topics()\n",
    "pair_top_tsne_3d_fitted = tSNE_3d.fit_transform(np.array(pair_top_dist))"
   ]
  },
  {
   "cell_type": "code",
   "execution_count": 113,
   "id": "876f8dc4-ce17-47c9-917f-0c2df723eb00",
   "metadata": {},
   "outputs": [
    {
     "name": "stderr",
     "output_type": "stream",
     "text": [
      "/Users/kowk/anaconda3/lib/python3.10/site-packages/plotly/io/_renderers.py:395: DeprecationWarning:\n",
      "\n",
      "distutils Version classes are deprecated. Use packaging.version instead.\n",
      "\n",
      "/Users/kowk/anaconda3/lib/python3.10/site-packages/plotly/io/_renderers.py:395: DeprecationWarning:\n",
      "\n",
      "distutils Version classes are deprecated. Use packaging.version instead.\n",
      "\n"
     ]
    },
    {
     "data": {
      "application/vnd.plotly.v1+json": {
       "config": {
        "plotlyServerURL": "https://plot.ly"
       },
       "data": [
        {
         "mode": "markers",
         "type": "scatter3d",
         "x": [
          83.58922576904297,
          127.43607330322266,
          -62.98427963256836,
          92.23529052734375,
          -67.81543731689453,
          -166.8370819091797,
          64.42992401123047,
          -35.31204605102539,
          -140.5022430419922,
          80.42756652832031,
          -0.8126906156539917,
          35.83802795410156,
          -32.228084564208984,
          133.6527557373047,
          57.91658020019531,
          -122.18976593017578,
          51.79436492919922,
          -86.596923828125,
          5.716435432434082,
          -100.4388656616211,
          -93.9808578491211,
          14.524737358093262,
          -66.07466125488281,
          136.99496459960938,
          30.858524322509766,
          56.06756591796875,
          -1.1912508010864258,
          -58.91451644897461,
          41.734230041503906,
          45.203102111816406,
          -9.629820823669434,
          -40.920921325683594,
          -119.40901947021484,
          97.219482421875,
          142.75303649902344,
          -10.415955543518066,
          -52.037174224853516,
          77.35651397705078,
          -9.793814659118652,
          -74.75039672851562,
          -57.10923767089844,
          147.55239868164062,
          2.7624106407165527,
          12.676592826843262,
          -12.214478492736816
         ],
         "y": [
          43.93820571899414,
          -82.45668029785156,
          -110.34899139404297,
          -75.13172149658203,
          -26.41549301147461,
          48.29093933105469,
          -124.7541732788086,
          -134.22821044921875,
          -29.457443237304688,
          -36.040687561035156,
          140.7331085205078,
          -27.171092987060547,
          11.645821571350098,
          72.916015625,
          157.35154724121094,
          -87.0822982788086,
          29.600839614868164,
          69.04851531982422,
          12.23349666595459,
          63.52888488769531,
          -83.83720397949219,
          10.235323905944824,
          6.845078468322754,
          18.331892013549805,
          91.03665161132812,
          86.58735656738281,
          -61.75948715209961,
          -25.03714370727539,
          -120.72655487060547,
          -40.57255554199219,
          -60.90320587158203,
          115.42583465576172,
          -0.5187897086143494,
          -16.292659759521484,
          -19.029525756835938,
          103.51788330078125,
          -9.698616027832031,
          77.81192779541016,
          -89.62362670898438,
          120.20227813720703,
          53.13569641113281,
          8.25112533569336,
          65.21595001220703,
          -5.567526340484619,
          27.191558837890625
         ],
         "z": [
          110.29962158203125,
          -41.47405242919922,
          -84.87606811523438,
          90.12956237792969,
          -137.7892608642578,
          -7.599973201751709,
          26.92333984375,
          12.459127426147461,
          -69.32830810546875,
          -107.3751220703125,
          71.64492797851562,
          128.32266235351562,
          154.20843505859375,
          36.19987106323242,
          -19.443588256835938,
          1.4382916688919067,
          -20.75400733947754,
          -17.413244247436523,
          -72.43849182128906,
          -104.21329498291016,
          90.98675537109375,
          52.929508209228516,
          -56.84645462036133,
          -69.52125549316406,
          -117.0649185180664,
          31.39897346496582,
          41.14455032348633,
          6.801880359649658,
          -68.36427307128906,
          -3.2477869987487793,
          -42.47736740112305,
          -82.80137634277344,
          39.40399932861328,
          13.01862907409668,
          77.61397552490234,
          -14.45274829864502,
          74.111083984375,
          -55.34629440307617,
          103.01182556152344,
          35.04443359375,
          52.898014068603516,
          4.9811482429504395,
          92.16423034667969,
          -141.52418518066406,
          -3.1794471740722656
         ]
        }
       ],
       "layout": {
        "autosize": false,
        "height": 600,
        "template": {
         "data": {
          "bar": [
           {
            "error_x": {
             "color": "#2a3f5f"
            },
            "error_y": {
             "color": "#2a3f5f"
            },
            "marker": {
             "line": {
              "color": "#E5ECF6",
              "width": 0.5
             },
             "pattern": {
              "fillmode": "overlay",
              "size": 10,
              "solidity": 0.2
             }
            },
            "type": "bar"
           }
          ],
          "barpolar": [
           {
            "marker": {
             "line": {
              "color": "#E5ECF6",
              "width": 0.5
             },
             "pattern": {
              "fillmode": "overlay",
              "size": 10,
              "solidity": 0.2
             }
            },
            "type": "barpolar"
           }
          ],
          "carpet": [
           {
            "aaxis": {
             "endlinecolor": "#2a3f5f",
             "gridcolor": "white",
             "linecolor": "white",
             "minorgridcolor": "white",
             "startlinecolor": "#2a3f5f"
            },
            "baxis": {
             "endlinecolor": "#2a3f5f",
             "gridcolor": "white",
             "linecolor": "white",
             "minorgridcolor": "white",
             "startlinecolor": "#2a3f5f"
            },
            "type": "carpet"
           }
          ],
          "choropleth": [
           {
            "colorbar": {
             "outlinewidth": 0,
             "ticks": ""
            },
            "type": "choropleth"
           }
          ],
          "contour": [
           {
            "colorbar": {
             "outlinewidth": 0,
             "ticks": ""
            },
            "colorscale": [
             [
              0,
              "#0d0887"
             ],
             [
              0.1111111111111111,
              "#46039f"
             ],
             [
              0.2222222222222222,
              "#7201a8"
             ],
             [
              0.3333333333333333,
              "#9c179e"
             ],
             [
              0.4444444444444444,
              "#bd3786"
             ],
             [
              0.5555555555555556,
              "#d8576b"
             ],
             [
              0.6666666666666666,
              "#ed7953"
             ],
             [
              0.7777777777777778,
              "#fb9f3a"
             ],
             [
              0.8888888888888888,
              "#fdca26"
             ],
             [
              1,
              "#f0f921"
             ]
            ],
            "type": "contour"
           }
          ],
          "contourcarpet": [
           {
            "colorbar": {
             "outlinewidth": 0,
             "ticks": ""
            },
            "type": "contourcarpet"
           }
          ],
          "heatmap": [
           {
            "colorbar": {
             "outlinewidth": 0,
             "ticks": ""
            },
            "colorscale": [
             [
              0,
              "#0d0887"
             ],
             [
              0.1111111111111111,
              "#46039f"
             ],
             [
              0.2222222222222222,
              "#7201a8"
             ],
             [
              0.3333333333333333,
              "#9c179e"
             ],
             [
              0.4444444444444444,
              "#bd3786"
             ],
             [
              0.5555555555555556,
              "#d8576b"
             ],
             [
              0.6666666666666666,
              "#ed7953"
             ],
             [
              0.7777777777777778,
              "#fb9f3a"
             ],
             [
              0.8888888888888888,
              "#fdca26"
             ],
             [
              1,
              "#f0f921"
             ]
            ],
            "type": "heatmap"
           }
          ],
          "heatmapgl": [
           {
            "colorbar": {
             "outlinewidth": 0,
             "ticks": ""
            },
            "colorscale": [
             [
              0,
              "#0d0887"
             ],
             [
              0.1111111111111111,
              "#46039f"
             ],
             [
              0.2222222222222222,
              "#7201a8"
             ],
             [
              0.3333333333333333,
              "#9c179e"
             ],
             [
              0.4444444444444444,
              "#bd3786"
             ],
             [
              0.5555555555555556,
              "#d8576b"
             ],
             [
              0.6666666666666666,
              "#ed7953"
             ],
             [
              0.7777777777777778,
              "#fb9f3a"
             ],
             [
              0.8888888888888888,
              "#fdca26"
             ],
             [
              1,
              "#f0f921"
             ]
            ],
            "type": "heatmapgl"
           }
          ],
          "histogram": [
           {
            "marker": {
             "pattern": {
              "fillmode": "overlay",
              "size": 10,
              "solidity": 0.2
             }
            },
            "type": "histogram"
           }
          ],
          "histogram2d": [
           {
            "colorbar": {
             "outlinewidth": 0,
             "ticks": ""
            },
            "colorscale": [
             [
              0,
              "#0d0887"
             ],
             [
              0.1111111111111111,
              "#46039f"
             ],
             [
              0.2222222222222222,
              "#7201a8"
             ],
             [
              0.3333333333333333,
              "#9c179e"
             ],
             [
              0.4444444444444444,
              "#bd3786"
             ],
             [
              0.5555555555555556,
              "#d8576b"
             ],
             [
              0.6666666666666666,
              "#ed7953"
             ],
             [
              0.7777777777777778,
              "#fb9f3a"
             ],
             [
              0.8888888888888888,
              "#fdca26"
             ],
             [
              1,
              "#f0f921"
             ]
            ],
            "type": "histogram2d"
           }
          ],
          "histogram2dcontour": [
           {
            "colorbar": {
             "outlinewidth": 0,
             "ticks": ""
            },
            "colorscale": [
             [
              0,
              "#0d0887"
             ],
             [
              0.1111111111111111,
              "#46039f"
             ],
             [
              0.2222222222222222,
              "#7201a8"
             ],
             [
              0.3333333333333333,
              "#9c179e"
             ],
             [
              0.4444444444444444,
              "#bd3786"
             ],
             [
              0.5555555555555556,
              "#d8576b"
             ],
             [
              0.6666666666666666,
              "#ed7953"
             ],
             [
              0.7777777777777778,
              "#fb9f3a"
             ],
             [
              0.8888888888888888,
              "#fdca26"
             ],
             [
              1,
              "#f0f921"
             ]
            ],
            "type": "histogram2dcontour"
           }
          ],
          "mesh3d": [
           {
            "colorbar": {
             "outlinewidth": 0,
             "ticks": ""
            },
            "type": "mesh3d"
           }
          ],
          "parcoords": [
           {
            "line": {
             "colorbar": {
              "outlinewidth": 0,
              "ticks": ""
             }
            },
            "type": "parcoords"
           }
          ],
          "pie": [
           {
            "automargin": true,
            "type": "pie"
           }
          ],
          "scatter": [
           {
            "fillpattern": {
             "fillmode": "overlay",
             "size": 10,
             "solidity": 0.2
            },
            "type": "scatter"
           }
          ],
          "scatter3d": [
           {
            "line": {
             "colorbar": {
              "outlinewidth": 0,
              "ticks": ""
             }
            },
            "marker": {
             "colorbar": {
              "outlinewidth": 0,
              "ticks": ""
             }
            },
            "type": "scatter3d"
           }
          ],
          "scattercarpet": [
           {
            "marker": {
             "colorbar": {
              "outlinewidth": 0,
              "ticks": ""
             }
            },
            "type": "scattercarpet"
           }
          ],
          "scattergeo": [
           {
            "marker": {
             "colorbar": {
              "outlinewidth": 0,
              "ticks": ""
             }
            },
            "type": "scattergeo"
           }
          ],
          "scattergl": [
           {
            "marker": {
             "colorbar": {
              "outlinewidth": 0,
              "ticks": ""
             }
            },
            "type": "scattergl"
           }
          ],
          "scattermapbox": [
           {
            "marker": {
             "colorbar": {
              "outlinewidth": 0,
              "ticks": ""
             }
            },
            "type": "scattermapbox"
           }
          ],
          "scatterpolar": [
           {
            "marker": {
             "colorbar": {
              "outlinewidth": 0,
              "ticks": ""
             }
            },
            "type": "scatterpolar"
           }
          ],
          "scatterpolargl": [
           {
            "marker": {
             "colorbar": {
              "outlinewidth": 0,
              "ticks": ""
             }
            },
            "type": "scatterpolargl"
           }
          ],
          "scatterternary": [
           {
            "marker": {
             "colorbar": {
              "outlinewidth": 0,
              "ticks": ""
             }
            },
            "type": "scatterternary"
           }
          ],
          "surface": [
           {
            "colorbar": {
             "outlinewidth": 0,
             "ticks": ""
            },
            "colorscale": [
             [
              0,
              "#0d0887"
             ],
             [
              0.1111111111111111,
              "#46039f"
             ],
             [
              0.2222222222222222,
              "#7201a8"
             ],
             [
              0.3333333333333333,
              "#9c179e"
             ],
             [
              0.4444444444444444,
              "#bd3786"
             ],
             [
              0.5555555555555556,
              "#d8576b"
             ],
             [
              0.6666666666666666,
              "#ed7953"
             ],
             [
              0.7777777777777778,
              "#fb9f3a"
             ],
             [
              0.8888888888888888,
              "#fdca26"
             ],
             [
              1,
              "#f0f921"
             ]
            ],
            "type": "surface"
           }
          ],
          "table": [
           {
            "cells": {
             "fill": {
              "color": "#EBF0F8"
             },
             "line": {
              "color": "white"
             }
            },
            "header": {
             "fill": {
              "color": "#C8D4E3"
             },
             "line": {
              "color": "white"
             }
            },
            "type": "table"
           }
          ]
         },
         "layout": {
          "annotationdefaults": {
           "arrowcolor": "#2a3f5f",
           "arrowhead": 0,
           "arrowwidth": 1
          },
          "autotypenumbers": "strict",
          "coloraxis": {
           "colorbar": {
            "outlinewidth": 0,
            "ticks": ""
           }
          },
          "colorscale": {
           "diverging": [
            [
             0,
             "#8e0152"
            ],
            [
             0.1,
             "#c51b7d"
            ],
            [
             0.2,
             "#de77ae"
            ],
            [
             0.3,
             "#f1b6da"
            ],
            [
             0.4,
             "#fde0ef"
            ],
            [
             0.5,
             "#f7f7f7"
            ],
            [
             0.6,
             "#e6f5d0"
            ],
            [
             0.7,
             "#b8e186"
            ],
            [
             0.8,
             "#7fbc41"
            ],
            [
             0.9,
             "#4d9221"
            ],
            [
             1,
             "#276419"
            ]
           ],
           "sequential": [
            [
             0,
             "#0d0887"
            ],
            [
             0.1111111111111111,
             "#46039f"
            ],
            [
             0.2222222222222222,
             "#7201a8"
            ],
            [
             0.3333333333333333,
             "#9c179e"
            ],
            [
             0.4444444444444444,
             "#bd3786"
            ],
            [
             0.5555555555555556,
             "#d8576b"
            ],
            [
             0.6666666666666666,
             "#ed7953"
            ],
            [
             0.7777777777777778,
             "#fb9f3a"
            ],
            [
             0.8888888888888888,
             "#fdca26"
            ],
            [
             1,
             "#f0f921"
            ]
           ],
           "sequentialminus": [
            [
             0,
             "#0d0887"
            ],
            [
             0.1111111111111111,
             "#46039f"
            ],
            [
             0.2222222222222222,
             "#7201a8"
            ],
            [
             0.3333333333333333,
             "#9c179e"
            ],
            [
             0.4444444444444444,
             "#bd3786"
            ],
            [
             0.5555555555555556,
             "#d8576b"
            ],
            [
             0.6666666666666666,
             "#ed7953"
            ],
            [
             0.7777777777777778,
             "#fb9f3a"
            ],
            [
             0.8888888888888888,
             "#fdca26"
            ],
            [
             1,
             "#f0f921"
            ]
           ]
          },
          "colorway": [
           "#636efa",
           "#EF553B",
           "#00cc96",
           "#ab63fa",
           "#FFA15A",
           "#19d3f3",
           "#FF6692",
           "#B6E880",
           "#FF97FF",
           "#FECB52"
          ],
          "font": {
           "color": "#2a3f5f"
          },
          "geo": {
           "bgcolor": "white",
           "lakecolor": "white",
           "landcolor": "#E5ECF6",
           "showlakes": true,
           "showland": true,
           "subunitcolor": "white"
          },
          "hoverlabel": {
           "align": "left"
          },
          "hovermode": "closest",
          "mapbox": {
           "style": "light"
          },
          "paper_bgcolor": "white",
          "plot_bgcolor": "#E5ECF6",
          "polar": {
           "angularaxis": {
            "gridcolor": "white",
            "linecolor": "white",
            "ticks": ""
           },
           "bgcolor": "#E5ECF6",
           "radialaxis": {
            "gridcolor": "white",
            "linecolor": "white",
            "ticks": ""
           }
          },
          "scene": {
           "xaxis": {
            "backgroundcolor": "#E5ECF6",
            "gridcolor": "white",
            "gridwidth": 2,
            "linecolor": "white",
            "showbackground": true,
            "ticks": "",
            "zerolinecolor": "white"
           },
           "yaxis": {
            "backgroundcolor": "#E5ECF6",
            "gridcolor": "white",
            "gridwidth": 2,
            "linecolor": "white",
            "showbackground": true,
            "ticks": "",
            "zerolinecolor": "white"
           },
           "zaxis": {
            "backgroundcolor": "#E5ECF6",
            "gridcolor": "white",
            "gridwidth": 2,
            "linecolor": "white",
            "showbackground": true,
            "ticks": "",
            "zerolinecolor": "white"
           }
          },
          "shapedefaults": {
           "line": {
            "color": "#2a3f5f"
           }
          },
          "ternary": {
           "aaxis": {
            "gridcolor": "white",
            "linecolor": "white",
            "ticks": ""
           },
           "baxis": {
            "gridcolor": "white",
            "linecolor": "white",
            "ticks": ""
           },
           "bgcolor": "#E5ECF6",
           "caxis": {
            "gridcolor": "white",
            "linecolor": "white",
            "ticks": ""
           }
          },
          "title": {
           "x": 0.05
          },
          "xaxis": {
           "automargin": true,
           "gridcolor": "white",
           "linecolor": "white",
           "ticks": "",
           "title": {
            "standoff": 15
           },
           "zerolinecolor": "white",
           "zerolinewidth": 2
          },
          "yaxis": {
           "automargin": true,
           "gridcolor": "white",
           "linecolor": "white",
           "ticks": "",
           "title": {
            "standoff": 15
           },
           "zerolinecolor": "white",
           "zerolinewidth": 2
          }
         }
        },
        "title": {
         "text": "t-SNE 3D view of 45 topics from LDA/HDP (term: sp_sk5gram-sn_sk5gram"
        },
        "width": 600
       }
      }
     },
     "metadata": {},
     "output_type": "display_data"
    }
   ],
   "source": [
    "## tSNE の結果の可視化 (3D)\n",
    "import numpy as np\n",
    "import plotly.graph_objects as go\n",
    "\n",
    "## 図の大きさを決める\n",
    "X = pair_top_tsne_3d_fitted[:,0] # 次元 1\n",
    "Y = pair_top_tsne_3d_fitted[:,1] # 次元 2\n",
    "Z = pair_top_tsne_3d_fitted[:,2] # 次元 3\n",
    "fig = go.Figure(data = [go.Scatter3d(x = X, y = Y, z = Z, mode = 'markers')])\n",
    "## 3D 散布図にラベルを追加する処理は未実装\n",
    "fig.update_layout(autosize = False, width = 600, height = 600,\n",
    "                 title = f\"t-SNE 3D view of {n_topics} topics from LDA/HDP (term: {sp_term_type}-{sn_term_type}\")\n",
    "fig.show()"
   ]
  },
  {
   "cell_type": "code",
   "execution_count": 114,
   "id": "404a29b7",
   "metadata": {},
   "outputs": [
    {
     "ename": "SystemExit",
     "evalue": "0",
     "output_type": "error",
     "traceback": [
      "An exception has occurred, use %tb to see the full traceback.\n",
      "\u001b[0;31mSystemExit\u001b[0m\u001b[0;31m:\u001b[0m 0\n"
     ]
    },
    {
     "name": "stderr",
     "output_type": "stream",
     "text": [
      "/Users/kowk/anaconda3/lib/python3.10/site-packages/IPython/core/interactiveshell.py:3585: UserWarning:\n",
      "\n",
      "To exit: use 'exit', 'quit', or Ctrl-D.\n",
      "\n"
     ]
    }
   ],
   "source": [
    "## stop if HDP is used\n",
    "if use_HDP:\n",
    "    sys.exit(0)"
   ]
  },
  {
   "cell_type": "code",
   "execution_count": null,
   "id": "2726147a-b2ad-4a58-b9b8-471d696f4432",
   "metadata": {},
   "outputs": [],
   "source": [
    "%%capture --no-display\n",
    "## LDA のtopic ごとに，関連度の高い term を表示\n",
    "import pandas as pd\n",
    "n_terms = 30 # topic ごとに表示する term 数の指定\n",
    "pair_topic_dfs = [ ]\n",
    "for topic in range(n_topics):\n",
    "    pair_terms = [ ]\n",
    "    if use_HDP:\n",
    "        for i, prob in pair_hdp.show_topics(topic, num_words = n_terms):\n",
    "            pair_terms.append(pair_diction.id2token[int(i)])\n",
    "    else:\n",
    "        for i, prob in model_used.get_topic_terms(topic, topn = n_terms):\n",
    "            pair_terms.append(pair_diction.id2token[int(i)])\n",
    "    pair_topic_dfs.append(pd.DataFrame([pair_terms], index = [ f'topic {topic + 1}' ]))\n",
    "#\n",
    "df_terms_by_topics = pd.concat(pair_topic_dfs)\n",
    "## Table として表示\n",
    "df_terms_by_topics.T"
   ]
  },
  {
   "cell_type": "code",
   "execution_count": 212,
   "id": "9bb82400-bebd-4899-bda7-c2ad6782e0c2",
   "metadata": {},
   "outputs": [],
   "source": [
    "## save encoding file\n",
    "from datetime import datetime\n",
    "datetime_str = datetime.today().strftime('%Y-%m-%d-%H-%M-%S')\n",
    "signature = \"-\".join(datetime_str.split(\"-\")[0:5])\n",
    "output_file = f\"../saved-term-lists/terms-by-topics-{sp_term_type}-{sn_term_type}-a={term_abuse_threshold}-{signature}.csv\"\n",
    "#\n",
    "save_results = False\n",
    "if save_results:\n",
    "    print(f\"saving a file: {output_file}\")\n",
    "    df_terms_by_topics.to_csv(output_file, index = False)"
   ]
  }
 ],
 "metadata": {
  "kernelspec": {
   "display_name": "Python 3 (ipykernel)",
   "language": "python",
   "name": "python3"
  },
  "language_info": {
   "codemirror_mode": {
    "name": "ipython",
    "version": 3
   },
   "file_extension": ".py",
   "mimetype": "text/x-python",
   "name": "python",
   "nbconvert_exporter": "python",
   "pygments_lexer": "ipython3",
   "version": "3.10.14"
  },
  "widgets": {
   "application/vnd.jupyter.widget-state+json": {
    "state": {},
    "version_major": 2,
    "version_minor": 0
   }
  }
 },
 "nbformat": 4,
 "nbformat_minor": 5
}
