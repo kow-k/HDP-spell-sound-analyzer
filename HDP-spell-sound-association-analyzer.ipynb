{
 "cells": [
  {
   "cell_type": "markdown",
   "id": "a4316af3",
   "metadata": {},
   "source": [
    "# Set up"
   ]
  },
  {
   "cell_type": "code",
   "execution_count": 1,
   "id": "c15cc18d",
   "metadata": {},
   "outputs": [],
   "source": [
    "## prepare packages\n",
    "#%pip install -U pandas\n",
    "#%pip install -U matplotlib\n",
    "#%pip install -U gensim\n",
    "#%pip install -U scipy\n",
    "#%pip install -U pyLDAvis\n",
    "#%pip install -U plotly\n",
    "#%pip install -U 'nbformat>=4.2.0'\n",
    "#!conda update conda -y"
   ]
  },
  {
   "cell_type": "code",
   "execution_count": 2,
   "id": "ece3e270",
   "metadata": {},
   "outputs": [],
   "source": [
    "## import modules\n",
    "import os, sys\n",
    "## maake accessible files on level immediately above \n",
    "sys.path.append(os.path.join(os.path.dirname(\"__file__\"), \"..\"))\n",
    "## import other modules\n",
    "import re\n",
    "import gzip, glob\n",
    "import unicodedata\n",
    "## https://stackoverflow.com/questions/41385708/multiprocessing-example-giving-attributeerror\n",
    "#import multiprocessing as mp # fails on IPython environment\n",
    "import multiprocess as mp # provides Pool"
   ]
  },
  {
   "cell_type": "markdown",
   "id": "e35a186e",
   "metadata": {},
   "source": [
    "# Preparation 1"
   ]
  },
  {
   "cell_type": "code",
   "execution_count": 3,
   "id": "a3fc73db-d5f9-44a1-9f49-16a02df376d3",
   "metadata": {},
   "outputs": [
    {
     "name": "stdout",
     "output_type": "stream",
     "text": [
      "sp_term_type: sp_4gram\n",
      "sn_term_type: sn_4gram\n"
     ]
    }
   ],
   "source": [
    "## parameters\n",
    "verbose              = True\n",
    "save_results         = False\n",
    "targets_csv          = True\n",
    "\n",
    "## source sampling\n",
    "source_sampling      = True\n",
    "source_sampling_rate = 0.03 # optimal values depend on kinds of source\n",
    "\n",
    "## doc settings # The longer sentences become, the less precise pairing becomes\n",
    "size_measures        = [ 'sp_size', 'sn_size' ]\n",
    "size_measure         = size_measures[1]\n",
    "max_doc_size         = 10 # values larger than 10 take considerably longer to complete\n",
    "min_doc_size         =  4\n",
    "\n",
    "## preprocessing settings\n",
    "lower_chars          = True\n",
    "strip_accents        = True\n",
    "add_boundaries       = True\n",
    "boundary_symbol      = '#'  # requires more processing resource\n",
    "if add_boundaries:\n",
    "    hash_status = \"-hashed\"\n",
    "else:\n",
    "    hash_status = \"\"\n",
    "\n",
    "## term settings\n",
    "ngram_is_inclusive    = True # takes significantly more time to complete but invites sum error if False with larger n, \n",
    "inclusion_degree      = 1    # Valid values are {0, 1, 2, ..., None}. With k, n-grams includes (n-k)-grams\n",
    "max_gap_size_factor   = 0.53 # It takes time at valuers larger than 0.5 with larger n such as n = 5\n",
    "max_gap_size          = round(max_doc_size * max_gap_size_factor) # This needs to be smaller than other cases.\n",
    "\n",
    "## Skippy n-gram の隙間を表わす記号\n",
    "gap_marker            = \"…\"\n",
    "\n",
    "## spell term と sound term の連結記号\n",
    "pair_marker           = \" :: \"\n",
    "\n",
    "## set spell term_type\n",
    "sp_term_types  = [ 'sp_1gram',\n",
    "                  'sp_2gram', 'sp_3gram', 'sp_4gram', 'sp_5gram',\n",
    "                 'sp_sk2gram', 'sp_sk3gram', 'sp_sk4gram', 'sp_sk5gram' ]\n",
    "sp_term_type   = sp_term_types[3]\n",
    "print(f\"sp_term_type: {sp_term_type}\")\n",
    "\n",
    "## set sound term_type\n",
    "sn_term_types = [ 'sn_1gram',\n",
    "                 'sn_2gram', 'sn_3gram', 'sn_4gram', 'sn_5gram',\n",
    "                 'sn_sk2gram', 'sn_sk3gram', 'sn_sk4gram', 'sn_sk5gram' ]\n",
    "sn_term_type = sn_term_types[3]\n",
    "print(f\"sn_term_type: {sn_term_type}\")"
   ]
  },
  {
   "cell_type": "code",
   "execution_count": 4,
   "id": "c2d56fdd",
   "metadata": {},
   "outputs": [],
   "source": [
    "## term filtering: some combinations cause \"Not all rows sum to 1\" error with HDP, but no with LDA\n",
    "apply_term_freq_filtering  = True\n",
    "term_minfreq               = 3 # Effective for speeding up\n",
    "apply_term_abuse_filtering = True\n",
    "term_abuse_threshold       = 0.1 # Larger values reveal deeper; 0.006 seems to be the smallest"
   ]
  },
  {
   "cell_type": "code",
   "execution_count": 5,
   "id": "536120cb",
   "metadata": {},
   "outputs": [
    {
     "name": "stdout",
     "output_type": "stream",
     "text": [
      "method_name: HDP\n",
      "max_n_topics for HDP: 45\n",
      "n_topics for LDA: 45\n",
      "top_perplexity_reduct_rate: 0.33\n"
     ]
    }
   ],
   "source": [
    "## select HDP or LDA: HDP takes considerably longer than LDA,\n",
    "## and is susceptible with \"Not all rows sum to 1\" error at pyLDAvis\n",
    "## HDP\n",
    "use_HDP         = True\n",
    "max_n_topics    = 45\n",
    "n_terms_to_show = 120\n",
    "\n",
    "## LDA\n",
    "n_topics  = max_n_topics # 精度にはあまり影響しない？\n",
    "if use_HDP:\n",
    "    method_name  = \"HDP\" # non-executive variable to be used in file names\n",
    "else:\n",
    "    method_name  = \"LDA\"\n",
    "\n",
    "## tSNE\n",
    "top_perplexity_reduct_rate = 0.33\n",
    "##\n",
    "print(f\"method_name: {method_name}\")\n",
    "print(f\"max_n_topics for HDP: {max_n_topics}\")\n",
    "print(f\"n_topics for LDA: {n_topics}\")\n",
    "print(f\"top_perplexity_reduct_rate: {top_perplexity_reduct_rate}\")"
   ]
  },
  {
   "cell_type": "code",
   "execution_count": 6,
   "id": "b88ae1c3-fd5d-4efe-ab39-45a8d4a9d786",
   "metadata": {},
   "outputs": [
    {
     "data": {
      "text/plain": [
       "['data/open-dict-ipa/data1/yue.csv.gz',\n",
       " 'data/open-dict-ipa/data1/vi_S.csv.gz',\n",
       " 'data/open-dict-ipa/data1/de.csv.gz',\n",
       " 'data/open-dict-ipa/data1/jam.csv.gz',\n",
       " 'data/open-dict-ipa/data1/fa.csv.gz',\n",
       " 'data/open-dict-ipa/data1/zh_hant.csv.gz',\n",
       " 'data/open-dict-ipa/data1/sw.csv.gz',\n",
       " 'data/open-dict-ipa/data1/ar.csv.gz',\n",
       " 'data/open-dict-ipa/data1/es_MX.csv.gz',\n",
       " 'data/open-dict-ipa/data1/vi_C.csv.gz',\n",
       " 'data/open-dict-ipa/data1/ma.csv.gz',\n",
       " 'data/open-dict-ipa/data1/fi.csv.gz',\n",
       " 'data/open-dict-ipa/data1/eo.csv.gz',\n",
       " 'data/open-dict-ipa/data1/fr_QC.csv.gz',\n",
       " 'data/open-dict-ipa/data1/es_ES.csv.gz',\n",
       " 'data/open-dict-ipa/data1/en_US.csv.gz',\n",
       " 'data/open-dict-ipa/data1/en_UK.csv.gz',\n",
       " 'data/open-dict-ipa/data1/nb.csv.gz',\n",
       " 'data/open-dict-ipa/data1/nl.csv.gz',\n",
       " 'data/open-dict-ipa/data1/sv.csv.gz',\n",
       " 'data/open-dict-ipa/data1/or.csv.gz',\n",
       " 'data/open-dict-ipa/data1/zh_hans.csv.gz',\n",
       " 'data/open-dict-ipa/data1/fr_FR.csv.gz',\n",
       " 'data/open-dict-ipa/data1/vi_N.csv.gz',\n",
       " 'data/open-dict-ipa/data1/ja.csv.gz',\n",
       " 'data/open-dict-ipa/data1/is.csv.gz',\n",
       " 'data/open-dict-ipa/data1a/de_N_only.csv.gz',\n",
       " 'data/open-dict-ipa/data1a/de_non_N_only.csv.gz']"
      ]
     },
     "execution_count": 6,
     "metadata": {},
     "output_type": "execute_result"
    }
   ],
   "source": [
    "## get data\n",
    "import glob\n",
    "data_dir1 = \"data/open-dict-ipa/data1\"\n",
    "data_dir2 = \"data/open-dict-ipa/data1a\"\n",
    "files = [ ]\n",
    "for dir in [ data_dir1, data_dir2 ]:\n",
    "    gz_files = glob.glob(f\"{dir}/*.gz\")\n",
    "    files.extend(gz_files)\n",
    "    csv_files = glob.glob(f\"{dir}/*.csv\")\n",
    "    files.extend(csv_files)\n",
    "    txt_files = glob.glob(f\"{data_dir2}/*.txt\")\n",
    "    files.extend(txt_files)\n",
    "#\n",
    "files"
   ]
  },
  {
   "cell_type": "code",
   "execution_count": 7,
   "id": "f508682d",
   "metadata": {},
   "outputs": [
    {
     "name": "stdout",
     "output_type": "stream",
     "text": [
      "lang_name: French () [lang_key: fr]\n",
      "['data/open-dict-ipa/data1/fr_QC.csv.gz', 'data/open-dict-ipa/data1/fr_FR.csv.gz']\n"
     ]
    }
   ],
   "source": [
    "## select language and file\n",
    "lang_names = {  'ar' : 'Arabic',  # 0\n",
    "                'de' : 'German',  # 1\n",
    "                'en' : 'English', # 2\n",
    "                'es' : 'Spanish', # 3\n",
    "                'fr' : 'French',  # 4\n",
    "                'sw' : 'Swahili'  # 5\n",
    "            }\n",
    "#\n",
    "lang_keys = [ 'ar', 'de', 'en', 'es', 'fr', 'sw' ]\n",
    "#\n",
    "lang_key  = lang_keys[4]\n",
    "lang_name = lang_names[lang_key]\n",
    "lang_attr = \"\"\n",
    "print(f\"lang_name: {lang_name} ({lang_attr}) [lang_key: {lang_key}]\")\n",
    "# aliases\n",
    "target_lang_dict = lang_names\n",
    "target_lang_keys = lang_keys\n",
    "target_lang_key  = lang_key\n",
    "target_lang_attr = lang_attr\n",
    "#\n",
    "files = [ file for file in files if f\"/{lang_key}\" in file ]\n",
    "print(files)\n",
    "if len(lang_attr) > 0:\n",
    "    print(f\"lang_attr: {lang_attr}\")\n",
    "    selected_files = [ file for file in files if lang_attr in file ]\n",
    "else:\n",
    "    selected_files = files\n",
    "selected_files\n",
    "if len(selected_files) == 0:\n",
    "    exit()"
   ]
  },
  {
   "cell_type": "code",
   "execution_count": 8,
   "id": "97086ae0-f619-46dc-932a-383d22e797f1",
   "metadata": {},
   "outputs": [
    {
     "data": {
      "text/html": [
       "<div>\n",
       "<style scoped>\n",
       "    .dataframe tbody tr th:only-of-type {\n",
       "        vertical-align: middle;\n",
       "    }\n",
       "\n",
       "    .dataframe tbody tr th {\n",
       "        vertical-align: top;\n",
       "    }\n",
       "\n",
       "    .dataframe thead th {\n",
       "        text-align: right;\n",
       "    }\n",
       "</style>\n",
       "<table border=\"1\" class=\"dataframe\">\n",
       "  <thead>\n",
       "    <tr style=\"text-align: right;\">\n",
       "      <th></th>\n",
       "      <th>sp_word</th>\n",
       "      <th>sn_word</th>\n",
       "    </tr>\n",
       "  </thead>\n",
       "  <tbody>\n",
       "    <tr>\n",
       "      <th>0</th>\n",
       "      <td>a</td>\n",
       "      <td>/a/</td>\n",
       "    </tr>\n",
       "    <tr>\n",
       "      <th>1</th>\n",
       "      <td>A</td>\n",
       "      <td>/a/</td>\n",
       "    </tr>\n",
       "    <tr>\n",
       "      <th>2</th>\n",
       "      <td>à</td>\n",
       "      <td>/a/</td>\n",
       "    </tr>\n",
       "    <tr>\n",
       "      <th>3</th>\n",
       "      <td>à aucun moment</td>\n",
       "      <td>/aokœ̃˞mɑɔ̯mæ̃/</td>\n",
       "    </tr>\n",
       "    <tr>\n",
       "      <th>4</th>\n",
       "      <td>à aucun prix</td>\n",
       "      <td>/aokœ̃˞pʁi/</td>\n",
       "    </tr>\n",
       "    <tr>\n",
       "      <th>...</th>\n",
       "      <td>...</td>\n",
       "      <td>...</td>\n",
       "    </tr>\n",
       "    <tr>\n",
       "      <th>245953</th>\n",
       "      <td>zyeutons</td>\n",
       "      <td>/zjøtõũ̯/</td>\n",
       "    </tr>\n",
       "    <tr>\n",
       "      <th>245954</th>\n",
       "      <td>zygomatique</td>\n",
       "      <td>/zɪgɑɔ̯mat͡sɪk/</td>\n",
       "    </tr>\n",
       "    <tr>\n",
       "      <th>245955</th>\n",
       "      <td>zygomatiques</td>\n",
       "      <td>/zɪgɑɔ̯mat͡sɪk/</td>\n",
       "    </tr>\n",
       "    <tr>\n",
       "      <th>245956</th>\n",
       "      <td>zygote</td>\n",
       "      <td>/zɪgɑɔ̯t/</td>\n",
       "    </tr>\n",
       "    <tr>\n",
       "      <th>245957</th>\n",
       "      <td>zygotes</td>\n",
       "      <td>/zɪgɑɔ̯t/</td>\n",
       "    </tr>\n",
       "  </tbody>\n",
       "</table>\n",
       "<p>245958 rows × 2 columns</p>\n",
       "</div>"
      ],
      "text/plain": [
       "               sp_word          sn_word\n",
       "0                    a              /a/\n",
       "1                    A              /a/\n",
       "2                    à              /a/\n",
       "3       à aucun moment  /aokœ̃˞mɑɔ̯mæ̃/\n",
       "4         à aucun prix      /aokœ̃˞pʁi/\n",
       "...                ...              ...\n",
       "245953        zyeutons        /zjøtõũ̯/\n",
       "245954     zygomatique  /zɪgɑɔ̯mat͡sɪk/\n",
       "245955    zygomatiques  /zɪgɑɔ̯mat͡sɪk/\n",
       "245956          zygote        /zɪgɑɔ̯t/\n",
       "245957         zygotes        /zɪgɑɔ̯t/\n",
       "\n",
       "[245958 rows x 2 columns]"
      ]
     },
     "execution_count": 8,
     "metadata": {},
     "output_type": "execute_result"
    }
   ],
   "source": [
    "## build data from files\n",
    "import re, unicodedata\n",
    "import pandas as pd\n",
    "check = False\n",
    "target_file = selected_files[0]\n",
    "col_names = [ 'sp_word', 'sn_word' ]\n",
    "if target_file.endswith(\".gz\"):\n",
    "    with gzip.open(target_file, \"rt\") as f:\n",
    "        raw_df = pd.read_csv(f, encoding = 'utf8', header = None, names = col_names )\n",
    "else:\n",
    "    with open(target_file, \"rt\") as f:\n",
    "        raw_df = pd.read_csv(f, encoding = 'utf8', header = None, names = col_names )\n",
    "#\n",
    "raw_df"
   ]
  },
  {
   "cell_type": "code",
   "execution_count": 9,
   "id": "83365b9b",
   "metadata": {},
   "outputs": [
    {
     "data": {
      "text/html": [
       "<div>\n",
       "<style scoped>\n",
       "    .dataframe tbody tr th:only-of-type {\n",
       "        vertical-align: middle;\n",
       "    }\n",
       "\n",
       "    .dataframe tbody tr th {\n",
       "        vertical-align: top;\n",
       "    }\n",
       "\n",
       "    .dataframe thead th {\n",
       "        text-align: right;\n",
       "    }\n",
       "</style>\n",
       "<table border=\"1\" class=\"dataframe\">\n",
       "  <thead>\n",
       "    <tr style=\"text-align: right;\">\n",
       "      <th></th>\n",
       "      <th>sp_word</th>\n",
       "      <th>sn_word</th>\n",
       "    </tr>\n",
       "  </thead>\n",
       "  <tbody>\n",
       "    <tr>\n",
       "      <th>0</th>\n",
       "      <td>a</td>\n",
       "      <td>a</td>\n",
       "    </tr>\n",
       "    <tr>\n",
       "      <th>1</th>\n",
       "      <td>a</td>\n",
       "      <td>a</td>\n",
       "    </tr>\n",
       "    <tr>\n",
       "      <th>2</th>\n",
       "      <td>à</td>\n",
       "      <td>a</td>\n",
       "    </tr>\n",
       "    <tr>\n",
       "      <th>3</th>\n",
       "      <td>à aucun moment</td>\n",
       "      <td>aokœ̃˞mɑɔ̯mæ̃</td>\n",
       "    </tr>\n",
       "    <tr>\n",
       "      <th>4</th>\n",
       "      <td>à aucun prix</td>\n",
       "      <td>aokœ̃˞pʁi</td>\n",
       "    </tr>\n",
       "    <tr>\n",
       "      <th>...</th>\n",
       "      <td>...</td>\n",
       "      <td>...</td>\n",
       "    </tr>\n",
       "    <tr>\n",
       "      <th>245953</th>\n",
       "      <td>zyeutons</td>\n",
       "      <td>zjøtõũ̯</td>\n",
       "    </tr>\n",
       "    <tr>\n",
       "      <th>245954</th>\n",
       "      <td>zygomatique</td>\n",
       "      <td>zɪgɑɔ̯mat͡sɪk</td>\n",
       "    </tr>\n",
       "    <tr>\n",
       "      <th>245955</th>\n",
       "      <td>zygomatiques</td>\n",
       "      <td>zɪgɑɔ̯mat͡sɪk</td>\n",
       "    </tr>\n",
       "    <tr>\n",
       "      <th>245956</th>\n",
       "      <td>zygote</td>\n",
       "      <td>zɪgɑɔ̯t</td>\n",
       "    </tr>\n",
       "    <tr>\n",
       "      <th>245957</th>\n",
       "      <td>zygotes</td>\n",
       "      <td>zɪgɑɔ̯t</td>\n",
       "    </tr>\n",
       "  </tbody>\n",
       "</table>\n",
       "<p>245958 rows × 2 columns</p>\n",
       "</div>"
      ],
      "text/plain": [
       "               sp_word        sn_word\n",
       "0                    a              a\n",
       "1                    a              a\n",
       "2                    à              a\n",
       "3       à aucun moment  aokœ̃˞mɑɔ̯mæ̃\n",
       "4         à aucun prix      aokœ̃˞pʁi\n",
       "...                ...            ...\n",
       "245953        zyeutons        zjøtõũ̯\n",
       "245954     zygomatique  zɪgɑɔ̯mat͡sɪk\n",
       "245955    zygomatiques  zɪgɑɔ̯mat͡sɪk\n",
       "245956          zygote        zɪgɑɔ̯t\n",
       "245957         zygotes        zɪgɑɔ̯t\n",
       "\n",
       "[245958 rows x 2 columns]"
      ]
     },
     "execution_count": 9,
     "metadata": {},
     "output_type": "execute_result"
    }
   ],
   "source": [
    "## modify spell\n",
    "raw_df['sp_word'] = raw_df['sp_word'].apply(lambda x: unicodedata.normalize('NFC', str(x)))\n",
    "if lower_chars:\n",
    "    raw_df['sp_word'] = raw_df['sp_word'].apply(lambda x: x.lower())\n",
    "\n",
    "## modify sound symbols\n",
    "raw_df['sn_word'] = raw_df['sn_word'].apply(lambda x: unicodedata.normalize('NFC', str(x)))\n",
    "raw_df['sn_word'] = raw_df['sn_word'].apply(lambda x: re.sub(r\"/\", \"\", x))\n",
    "raw_df['sn_word'] = raw_df['sn_word'].apply(lambda x: x.split(\",\")[0]) # pick up only the first\n",
    "if strip_accents:\n",
    "    raw_df['sn_word'] = raw_df['sn_word'].apply(lambda x: re.sub(r'\"', \"\", x))\n",
    "    raw_df['sn_word'] = raw_df['sn_word'].apply(lambda x: re.sub(r\"[ˈˌ]\", \"\", x))\n",
    "#\n",
    "raw_df"
   ]
  },
  {
   "cell_type": "code",
   "execution_count": 10,
   "id": "81bbbea3",
   "metadata": {},
   "outputs": [
    {
     "data": {
      "text/html": [
       "<div>\n",
       "<style scoped>\n",
       "    .dataframe tbody tr th:only-of-type {\n",
       "        vertical-align: middle;\n",
       "    }\n",
       "\n",
       "    .dataframe tbody tr th {\n",
       "        vertical-align: top;\n",
       "    }\n",
       "\n",
       "    .dataframe thead th {\n",
       "        text-align: right;\n",
       "    }\n",
       "</style>\n",
       "<table border=\"1\" class=\"dataframe\">\n",
       "  <thead>\n",
       "    <tr style=\"text-align: right;\">\n",
       "      <th></th>\n",
       "      <th>did</th>\n",
       "      <th>sid</th>\n",
       "      <th>sp_word</th>\n",
       "      <th>sn_word</th>\n",
       "    </tr>\n",
       "  </thead>\n",
       "  <tbody>\n",
       "    <tr>\n",
       "      <th>0</th>\n",
       "      <td>1</td>\n",
       "      <td>1</td>\n",
       "      <td>a</td>\n",
       "      <td>a</td>\n",
       "    </tr>\n",
       "    <tr>\n",
       "      <th>1</th>\n",
       "      <td>2</td>\n",
       "      <td>2</td>\n",
       "      <td>a</td>\n",
       "      <td>a</td>\n",
       "    </tr>\n",
       "    <tr>\n",
       "      <th>2</th>\n",
       "      <td>3</td>\n",
       "      <td>3</td>\n",
       "      <td>à</td>\n",
       "      <td>a</td>\n",
       "    </tr>\n",
       "    <tr>\n",
       "      <th>3</th>\n",
       "      <td>4</td>\n",
       "      <td>4</td>\n",
       "      <td>à aucun moment</td>\n",
       "      <td>aokœ̃˞mɑɔ̯mæ̃</td>\n",
       "    </tr>\n",
       "    <tr>\n",
       "      <th>4</th>\n",
       "      <td>5</td>\n",
       "      <td>5</td>\n",
       "      <td>à aucun prix</td>\n",
       "      <td>aokœ̃˞pʁi</td>\n",
       "    </tr>\n",
       "    <tr>\n",
       "      <th>...</th>\n",
       "      <td>...</td>\n",
       "      <td>...</td>\n",
       "      <td>...</td>\n",
       "      <td>...</td>\n",
       "    </tr>\n",
       "    <tr>\n",
       "      <th>245953</th>\n",
       "      <td>245954</td>\n",
       "      <td>245954</td>\n",
       "      <td>zyeutons</td>\n",
       "      <td>zjøtõũ̯</td>\n",
       "    </tr>\n",
       "    <tr>\n",
       "      <th>245954</th>\n",
       "      <td>245955</td>\n",
       "      <td>245955</td>\n",
       "      <td>zygomatique</td>\n",
       "      <td>zɪgɑɔ̯mat͡sɪk</td>\n",
       "    </tr>\n",
       "    <tr>\n",
       "      <th>245955</th>\n",
       "      <td>245956</td>\n",
       "      <td>245956</td>\n",
       "      <td>zygomatiques</td>\n",
       "      <td>zɪgɑɔ̯mat͡sɪk</td>\n",
       "    </tr>\n",
       "    <tr>\n",
       "      <th>245956</th>\n",
       "      <td>245957</td>\n",
       "      <td>245957</td>\n",
       "      <td>zygote</td>\n",
       "      <td>zɪgɑɔ̯t</td>\n",
       "    </tr>\n",
       "    <tr>\n",
       "      <th>245957</th>\n",
       "      <td>245958</td>\n",
       "      <td>245958</td>\n",
       "      <td>zygotes</td>\n",
       "      <td>zɪgɑɔ̯t</td>\n",
       "    </tr>\n",
       "  </tbody>\n",
       "</table>\n",
       "<p>245958 rows × 4 columns</p>\n",
       "</div>"
      ],
      "text/plain": [
       "           did     sid         sp_word        sn_word\n",
       "0            1       1               a              a\n",
       "1            2       2               a              a\n",
       "2            3       3               à              a\n",
       "3            4       4  à aucun moment  aokœ̃˞mɑɔ̯mæ̃\n",
       "4            5       5    à aucun prix      aokœ̃˞pʁi\n",
       "...        ...     ...             ...            ...\n",
       "245953  245954  245954        zyeutons        zjøtõũ̯\n",
       "245954  245955  245955     zygomatique  zɪgɑɔ̯mat͡sɪk\n",
       "245955  245956  245956    zygomatiques  zɪgɑɔ̯mat͡sɪk\n",
       "245956  245957  245957          zygote        zɪgɑɔ̯t\n",
       "245957  245958  245958         zygotes        zɪgɑɔ̯t\n",
       "\n",
       "[245958 rows x 4 columns]"
      ]
     },
     "execution_count": 10,
     "metadata": {},
     "output_type": "execute_result"
    }
   ],
   "source": [
    "## build df\n",
    "dids = [ ]\n",
    "sids = [ ]\n",
    "Spells = [ ]\n",
    "Sounds = [ ]\n",
    "for i, row in raw_df.iterrows():\n",
    "    spell = row['sp_word']\n",
    "    sound = row['sn_word']\n",
    "    if len(spell) > 0 and len(sound) > 0:\n",
    "        dids.append(i + 1)\n",
    "        sids.append(i + 1)\n",
    "        Spells.append(spell)\n",
    "        Sounds.append(sound)\n",
    "#\n",
    "var_names = [ 'did', 'sid', 'sp_word', 'sn_word',\n",
    "            'sp_size', 'sn_size', 'paired_terms', \n",
    "            'sp_1gram', 'sp_2gram', 'sp_3gram',\n",
    "            'sp_sk2gram', 'sp_sk3gram',\n",
    "            'sn_1gram', 'sn_2gram', 'sn_3gram', \n",
    "            'sn_sk2gram', 'sn_sk3gram' ]\n",
    "df = pd.DataFrame()\n",
    "df['did'] = dids\n",
    "df['sid'] = sids\n",
    "df['sp_word'] = Spells\n",
    "df['sn_word'] = Sounds\n",
    "#\n",
    "df[var_names[:4]]"
   ]
  },
  {
   "cell_type": "code",
   "execution_count": 11,
   "id": "fa5d409e-d2ae-4c3a-9fac-e4b646682d77",
   "metadata": {},
   "outputs": [
    {
     "name": "stdout",
     "output_type": "stream",
     "text": [
      "sampled 7379 (0.030) rows by discarding 238579 rows\n"
     ]
    }
   ],
   "source": [
    "## sampling\n",
    "if source_sampling:\n",
    "    original_size = len(df)\n",
    "    sample_size = round(len(df) * source_sampling_rate)\n",
    "    df = df.sample(sample_size)\n",
    "    print(f\"sampled {len(df)} ({source_sampling_rate:0.3f}) rows by discarding {original_size - len(df)} rows\")"
   ]
  },
  {
   "cell_type": "code",
   "execution_count": 12,
   "id": "5aa50f78-ca51-45b7-85a5-68b9ab978bcf",
   "metadata": {},
   "outputs": [],
   "source": [
    "## tokenization\n",
    "import gzip, re\n",
    "import pandas as pd\n",
    "check = False\n",
    "Snx = [ ]\n",
    "Spx = [ ]\n",
    "for i, row in df.iterrows():\n",
    "    Spt = row['sp_word']\n",
    "    Snt = row['sn_word']\n",
    "    split_pattern = r\"\"\n",
    "    ## Spell\n",
    "    sp_seg = [ x for x in re.split(split_pattern, Spt) if len(x) > 0 ]\n",
    "    if check:\n",
    "        print(sp_seg)\n",
    "    Spx.append(sp_seg)\n",
    "    ## Sound\n",
    "    sn_seg = [ x for x in re.split(split_pattern, Snt) if len(x) > 0 ]\n",
    "    if check:\n",
    "        print(sn_seg)\n",
    "    Snx.append(sn_seg)\n",
    "## Spell\n",
    "try:\n",
    "    df['sp_1gram'] = Spx\n",
    "except ValueError:\n",
    "    pass\n",
    "## Sound\n",
    "try:\n",
    "    df['sn_1gram'] = Snx\n",
    "except ValueError:\n",
    "    pass\n",
    "## check result\n",
    "if verbose:\n",
    "    df"
   ]
  },
  {
   "cell_type": "code",
   "execution_count": 13,
   "id": "756e28b8-e393-4e0f-a890-b73df31b846f",
   "metadata": {},
   "outputs": [],
   "source": [
    "## add size columns\n",
    "df['sp_size'] = df['sp_1gram'].apply(lambda x: len(x))\n",
    "df['sn_size'] = df['sn_1gram'].apply(lambda x: len(x))\n",
    "if verbose:\n",
    "    df"
   ]
  },
  {
   "cell_type": "code",
   "execution_count": 14,
   "id": "1b7f1f94-aed4-4a66-b5fd-9347a4c9700d",
   "metadata": {},
   "outputs": [
    {
     "data": {
      "image/png": "[encoded data removed]",
      "text/plain": [
       "<Figure size 640x480 with 1 Axes>"
      ]
     },
     "metadata": {},
     "output_type": "display_data"
    }
   ],
   "source": [
    "## 語の綴り文字数の分布\n",
    "import matplotlib.pyplot as plt\n",
    "plt.hist(df['sp_size'], bins = 20)\n",
    "plt.title(f\"Distribution of counts in spell\")\n",
    "plt.show()"
   ]
  },
  {
   "cell_type": "code",
   "execution_count": 15,
   "id": "4149bba3",
   "metadata": {},
   "outputs": [
    {
     "data": {
      "image/png": "[encoded data removed]",
      "text/plain": [
       "<Figure size 640x480 with 1 Axes>"
      ]
     },
     "metadata": {},
     "output_type": "display_data"
    }
   ],
   "source": [
    "## 語の発音記号数の分布\n",
    "import matplotlib.pyplot as plt\n",
    "plt.hist(df['sn_size'], bins = 20)\n",
    "plt.title(f\"Distribution of counts in sound\")\n",
    "plt.show()"
   ]
  },
  {
   "cell_type": "markdown",
   "id": "a39fc02b",
   "metadata": {},
   "source": [
    "# build terms, part 1"
   ]
  },
  {
   "cell_type": "code",
   "execution_count": 16,
   "id": "ecb048dc-7b78-46f9-80ef-5de9bff36232",
   "metadata": {
    "tags": [
     "Filtering by doc length"
    ]
   },
   "outputs": [
    {
     "name": "stdout",
     "output_type": "stream",
     "text": [
      "discarding pairs whose sn_size part has less than 4 chars\n",
      "discarding pairs whose sn_size part has more than 10 chars\n",
      "2818 (0.382) pairs were removed\n",
      "4561 pairs remain\n"
     ]
    }
   ],
   "source": [
    "## 長さで濾過\n",
    "original_size = len(df)\n",
    "print(f\"discarding pairs whose {size_measure} part has less than {min_doc_size} chars\")\n",
    "df = df[df[size_measure] >= min_doc_size]\n",
    "\n",
    "print(f\"discarding pairs whose {size_measure} part has more than {max_doc_size} chars\")\n",
    "df = df[df[size_measure] < max_doc_size]\n",
    "\n",
    "current_size = len(df)\n",
    "size_diff = original_size - current_size\n",
    "print(f\"{size_diff} ({size_diff/original_size:.3f}) pairs were removed\")\n",
    "print(f\"{current_size} pairs remain\")"
   ]
  },
  {
   "cell_type": "code",
   "execution_count": 17,
   "id": "ff957230",
   "metadata": {},
   "outputs": [],
   "source": [
    "## add boundaries\n",
    "if add_boundaries:\n",
    "    df['sp_word'] = df['sp_word'].apply(lambda x: f\"{boundary_symbol}{x}{boundary_symbol}\")\n",
    "    df['sn_word'] = df['sn_word'].apply(lambda x: f\"{boundary_symbol}{x}{boundary_symbol}\")\n",
    "    df[['sp_word', 'sn_word']]"
   ]
  },
  {
   "cell_type": "code",
   "execution_count": 18,
   "id": "d2915632",
   "metadata": {},
   "outputs": [
    {
     "data": {
      "text/html": [
       "<div>\n",
       "<style scoped>\n",
       "    .dataframe tbody tr th:only-of-type {\n",
       "        vertical-align: middle;\n",
       "    }\n",
       "\n",
       "    .dataframe tbody tr th {\n",
       "        vertical-align: top;\n",
       "    }\n",
       "\n",
       "    .dataframe thead th {\n",
       "        text-align: right;\n",
       "    }\n",
       "</style>\n",
       "<table border=\"1\" class=\"dataframe\">\n",
       "  <thead>\n",
       "    <tr style=\"text-align: right;\">\n",
       "      <th></th>\n",
       "      <th>sp_1gram</th>\n",
       "      <th>sn_1gram</th>\n",
       "    </tr>\n",
       "  </thead>\n",
       "  <tbody>\n",
       "    <tr>\n",
       "      <th>98362</th>\n",
       "      <td>[#, e, n, t, e, n, d, r, a, i, #]</td>\n",
       "      <td>[#, ɑ, ̃, t, ɑ, ̃, d, ʁ, a, #]</td>\n",
       "    </tr>\n",
       "    <tr>\n",
       "      <th>193951</th>\n",
       "      <td>[#, r, e, c, o, u, v, r, î, t, e, s, #]</td>\n",
       "      <td>[#, ʁ, ə, k, ʊ, v, ʁ, ɪ, t, #]</td>\n",
       "    </tr>\n",
       "    <tr>\n",
       "      <th>239393</th>\n",
       "      <td>[#, u, r, i, n, a, i, s, #]</td>\n",
       "      <td>[#, y, ʁ, ɪ, n, a, #]</td>\n",
       "    </tr>\n",
       "    <tr>\n",
       "      <th>173084</th>\n",
       "      <td>[#, p, i, c, a, r, d, #]</td>\n",
       "      <td>[#, p, ɪ, k, a, ʁ, #]</td>\n",
       "    </tr>\n",
       "    <tr>\n",
       "      <th>95479</th>\n",
       "      <td>[#, e, n, f, o, u, r, n, a, i, s, #]</td>\n",
       "      <td>[#, ɑ, ̃, f, ʊ, ʁ, n, a, #]</td>\n",
       "    </tr>\n",
       "    <tr>\n",
       "      <th>...</th>\n",
       "      <td>...</td>\n",
       "      <td>...</td>\n",
       "    </tr>\n",
       "    <tr>\n",
       "      <th>13389</th>\n",
       "      <td>[#, a, p, p, u, y, é, #]</td>\n",
       "      <td>[#, a, p, ɥ, i, j, e, #]</td>\n",
       "    </tr>\n",
       "    <tr>\n",
       "      <th>16932</th>\n",
       "      <td>[#, a, t, t, e, l, l, e, r, a, i, e, n, t, #]</td>\n",
       "      <td>[#, a, t, ə, l, a, ʁ, a, #]</td>\n",
       "    </tr>\n",
       "    <tr>\n",
       "      <th>207292</th>\n",
       "      <td>[#, r, e, v, e, n, d, a, i, t, #]</td>\n",
       "      <td>[#, ʁ, ə, v, ɑ, ̃, d, a, #]</td>\n",
       "    </tr>\n",
       "    <tr>\n",
       "      <th>158697</th>\n",
       "      <td>[#, n, é, c, r, o, s, a, i, s, #]</td>\n",
       "      <td>[#, n, e, k, ʁ, o, z, a, #]</td>\n",
       "    </tr>\n",
       "    <tr>\n",
       "      <th>44429</th>\n",
       "      <td>[#, c, o, l, l, i, e, r, #]</td>\n",
       "      <td>[#, k, ɑ, ɔ, ̯, l, j, e, #]</td>\n",
       "    </tr>\n",
       "  </tbody>\n",
       "</table>\n",
       "<p>4561 rows × 2 columns</p>\n",
       "</div>"
      ],
      "text/plain": [
       "                                             sp_1gram  \\\n",
       "98362               [#, e, n, t, e, n, d, r, a, i, #]   \n",
       "193951        [#, r, e, c, o, u, v, r, î, t, e, s, #]   \n",
       "239393                    [#, u, r, i, n, a, i, s, #]   \n",
       "173084                       [#, p, i, c, a, r, d, #]   \n",
       "95479            [#, e, n, f, o, u, r, n, a, i, s, #]   \n",
       "...                                               ...   \n",
       "13389                        [#, a, p, p, u, y, é, #]   \n",
       "16932   [#, a, t, t, e, l, l, e, r, a, i, e, n, t, #]   \n",
       "207292              [#, r, e, v, e, n, d, a, i, t, #]   \n",
       "158697              [#, n, é, c, r, o, s, a, i, s, #]   \n",
       "44429                     [#, c, o, l, l, i, e, r, #]   \n",
       "\n",
       "                              sn_1gram  \n",
       "98362   [#, ɑ, ̃, t, ɑ, ̃, d, ʁ, a, #]  \n",
       "193951  [#, ʁ, ə, k, ʊ, v, ʁ, ɪ, t, #]  \n",
       "239393           [#, y, ʁ, ɪ, n, a, #]  \n",
       "173084           [#, p, ɪ, k, a, ʁ, #]  \n",
       "95479      [#, ɑ, ̃, f, ʊ, ʁ, n, a, #]  \n",
       "...                                ...  \n",
       "13389         [#, a, p, ɥ, i, j, e, #]  \n",
       "16932      [#, a, t, ə, l, a, ʁ, a, #]  \n",
       "207292     [#, ʁ, ə, v, ɑ, ̃, d, a, #]  \n",
       "158697     [#, n, e, k, ʁ, o, z, a, #]  \n",
       "44429      [#, k, ɑ, ɔ, ̯, l, j, e, #]  \n",
       "\n",
       "[4561 rows x 2 columns]"
      ]
     },
     "execution_count": 18,
     "metadata": {},
     "output_type": "execute_result"
    }
   ],
   "source": [
    "## add 1gram\n",
    "import re\n",
    "w_splitter = r\"\"\n",
    "df['sp_1gram'] = [ [ x for x in re.split(w_splitter, w) if len(x) > 0 ] for w in df['sp_word'] ]\n",
    "df['sn_1gram'] = [ [ x for x in re.split(w_splitter, w) if len(x) > 0 ] for w in df['sn_word'] ]\n",
    "df[['sp_1gram', 'sn_1gram']]"
   ]
  },
  {
   "cell_type": "code",
   "execution_count": 19,
   "id": "9c4dcbd7-8763-42cf-92a9-b8b0ff711602",
   "metadata": {},
   "outputs": [
    {
     "data": {
      "text/plain": [
       "[('#', 9122),\n",
       " ('e', 4652),\n",
       " ('a', 4113),\n",
       " ('s', 4078),\n",
       " ('r', 3434),\n",
       " ('i', 3361),\n",
       " ('t', 2629),\n",
       " ('n', 2435),\n",
       " ('l', 1729),\n",
       " ('u', 1689)]"
      ]
     },
     "execution_count": 19,
     "metadata": {},
     "output_type": "execute_result"
    }
   ],
   "source": [
    "## inspect frequent tokens in sp_1gram\n",
    "from collections import Counter\n",
    "sp_chars_all = [ ] \n",
    "[ sp_chars_all.extend(list(x)) for x in df['sp_1gram'] ]\n",
    "sp_char_freqs = Counter(sp_chars_all)\n",
    "## Show most frequent 10 segments\n",
    "sｐ_char_freqs.most_common(10)"
   ]
  },
  {
   "cell_type": "code",
   "execution_count": 20,
   "id": "a8add992",
   "metadata": {},
   "outputs": [
    {
     "data": {
      "text/plain": [
       "[('#', 9122),\n",
       " ('a', 4155),\n",
       " ('ʁ', 3173),\n",
       " ('e', 2157),\n",
       " ('s', 1745),\n",
       " ('t', 1397),\n",
       " ('ɪ', 1258),\n",
       " ('l', 1205),\n",
       " ('̯', 1143),\n",
       " ('ɑ', 1075)]"
      ]
     },
     "execution_count": 20,
     "metadata": {},
     "output_type": "execute_result"
    }
   ],
   "source": [
    "## inspect frequent tokens in sn_1gram\n",
    "from collections import Counter\n",
    "sn_chars_all = [ ] \n",
    "[ sn_chars_all.extend(list(x)) for x in df['sn_1gram'] ]\n",
    "sn_char_freqs = Counter(sn_chars_all)\n",
    "## Show most frequent 10 segments\n",
    "sn_char_freqs.most_common(10)"
   ]
  },
  {
   "cell_type": "code",
   "execution_count": 21,
   "id": "bd49c4cc-4d7c-46e2-b3a0-3b29140a0fd9",
   "metadata": {},
   "outputs": [],
   "source": [
    "## Install nltk if necessary\n",
    "#!pip install -U nltk"
   ]
  },
  {
   "cell_type": "markdown",
   "id": "2c19a0e4",
   "metadata": {},
   "source": [
    "n-grams の構築"
   ]
  },
  {
   "cell_type": "code",
   "execution_count": 22,
   "id": "85034591",
   "metadata": {},
   "outputs": [],
   "source": [
    "def gen_ngrams_from_str(t: str, n: int, sep: str = r\"\", joint: str = \"\", check = False):\n",
    "    'returns the list of character n-grams from a given string'\n",
    "    import re\n",
    "    segs = [ x for x in re.split(sep, t) if len(x) > 0 ]\n",
    "    if check:\n",
    "        print(segs)\n",
    "    ## short input\n",
    "    if len(segs) <= n:\n",
    "        return segs\n",
    "    ## long enough input\n",
    "    G = [ ]\n",
    "    for i in range(len(segs)):\n",
    "        try:\n",
    "            b = segs[ i : i + n ]\n",
    "            if check:\n",
    "                print(b)\n",
    "            c = joint.join(b)\n",
    "            if check:\n",
    "                print(c)\n",
    "            if len(c) == n:\n",
    "                G.append(c)\n",
    "        except IndexError:\n",
    "            pass\n",
    "    return G"
   ]
  },
  {
   "cell_type": "code",
   "execution_count": 23,
   "id": "a202d751",
   "metadata": {},
   "outputs": [],
   "source": [
    "## generic n-gram generation function\n",
    "def add_ngrams(dfx, n_for_ngram: int, prefix: str = \"\", skippy: bool = False, skippiness_symbol: str = \"sk\", max_distance = None, seg_joint: str = \"\", gap_mark: str = \"…\", inclusive: bool = True, inclusion_degree = None, check: bool = False):\n",
    "    \"add ngram col to the dfx given\"\n",
    "    import gen_ngrams\n",
    "    ## set variable names\n",
    "    source_var_name = f\"{prefix}1gram\"\n",
    "    if skippy:\n",
    "        target_var_name  = f\"{prefix}{skippiness_symbol}{n_for_ngram}gram\"\n",
    "        if n_for_ngram == 2:\n",
    "            sub_var_name = f\"{prefix}{n_for_ngram - 1}gram\"\n",
    "        else:\n",
    "            sub_var_name = f\"{prefix}{skippiness_symbol}{n_for_ngram - 1}gram\"\n",
    "            \n",
    "    else:\n",
    "        target_var_name  = f\"{prefix}{n_for_ngram}gram\"\n",
    "        sub_var_name     = f\"{prefix}{n_for_ngram - 1}gram\"\n",
    "    if check:\n",
    "        print(f\"source_var_name: {source_var_name}\")\n",
    "        print(f\"target_var_name: {target_var_name}\")\n",
    "        print(f\"sub_var_name: {sub_var_name}\")\n",
    "        \n",
    "    ## 1gram\n",
    "    unigrams = dfx[source_var_name]\n",
    "    \n",
    "    ## ngram\n",
    "    pool = mp.Pool (processes = max(os.cpu_count() - 1, 1))\n",
    "    if skippy:\n",
    "        ngrams = [ gen_ngrams.gen_skippy_ngrams(g, n = n_for_ngram, sep = seg_joint, missing_mark = gap_mark, max_distance = max_distance, check = check) for g in unigrams ]\n",
    "    else:\n",
    "        ngrams = [ gen_ngrams.gen_ngrams(g, n = n_for_ngram, sep = seg_joint, check = check) for g in unigrams ]\n",
    "    \n",
    "    ## make ngrams inclusive\n",
    "    if inclusive:\n",
    "        sub_ngrams = list(dfx[sub_var_name])\n",
    "        if inclusion_degree is None:\n",
    "            for i, gram in enumerate(ngrams):\n",
    "                assert len(ngrams) == len(sub_ngrams)\n",
    "                supplement = sub_ngrams[i]\n",
    "                supplement = [ g for g in supplement if len(g) > 0 ]\n",
    "                if len(supplement) > 0:\n",
    "                    gram.extend(supplement)\n",
    "        else:\n",
    "            min_size = (n_for_ngram - inclusion_degree)\n",
    "            assert min_size >= 0\n",
    "            for i, gram in enumerate(ngrams):\n",
    "                assert len(ngrams) == len(sub_ngrams)\n",
    "                supplement = sub_ngrams[i]\n",
    "                supplement = [ g for g in supplement if len(g) >= min_size ]\n",
    "                if len(supplement) > 0:\n",
    "                    gram.extend(supplement)\n",
    "    ## update df\n",
    "    dfx[target_var_name] = ngrams\n",
    "    print(dfx[target_var_name])"
   ]
  },
  {
   "cell_type": "markdown",
   "id": "aa8e1371",
   "metadata": {},
   "source": [
    "# Spell n-grams 生成"
   ]
  },
  {
   "cell_type": "code",
   "execution_count": 24,
   "id": "53a99a97",
   "metadata": {},
   "outputs": [
    {
     "data": {
      "text/plain": [
       "Index(['did', 'sid', 'sp_word', 'sn_word', 'sp_1gram', 'sn_1gram', 'sp_size',\n",
       "       'sn_size'],\n",
       "      dtype='object')"
      ]
     },
     "execution_count": 24,
     "metadata": {},
     "output_type": "execute_result"
    }
   ],
   "source": [
    "df.columns\n",
    "#iter(df['sp_1gram'])"
   ]
  },
  {
   "cell_type": "code",
   "execution_count": 25,
   "id": "dd6de012",
   "metadata": {},
   "outputs": [
    {
     "name": "stdout",
     "output_type": "stream",
     "text": [
      "98362     [#e, en, nt, te, en, nd, dr, ra, ai, i#, #, e,...\n",
      "193951    [#r, re, ec, co, ou, uv, vr, rî, ît, te, es, s...\n",
      "239393    [#u, ur, ri, in, na, ai, is, s#, #, u, r, i, n...\n",
      "173084    [#p, pi, ic, ca, ar, rd, d#, #, p, i, c, a, r,...\n",
      "95479     [#e, en, nf, fo, ou, ur, rn, na, ai, is, s#, #...\n",
      "                                ...                        \n",
      "13389     [#a, ap, pp, pu, uy, yé, é#, #, a, p, p, u, y,...\n",
      "16932     [#a, at, tt, te, el, ll, le, er, ra, ai, ie, e...\n",
      "207292    [#r, re, ev, ve, en, nd, da, ai, it, t#, #, r,...\n",
      "158697    [#n, né, éc, cr, ro, os, sa, ai, is, s#, #, n,...\n",
      "44429     [#c, co, ol, ll, li, ie, er, r#, #, c, o, l, l...\n",
      "Name: sp_2gram, Length: 4561, dtype: object\n"
     ]
    }
   ],
   "source": [
    "## sp_2gram の追加\n",
    "add_ngrams(df, n_for_ngram = 2, prefix = \"sp_\", skippy = False, inclusive = True, inclusion_degree = inclusion_degree, check = False)"
   ]
  },
  {
   "cell_type": "code",
   "execution_count": 26,
   "id": "d9abc8d2",
   "metadata": {},
   "outputs": [
    {
     "name": "stdout",
     "output_type": "stream",
     "text": [
      "98362     [#en, ent, nte, ten, end, ndr, dra, rai, ai#, ...\n",
      "193951    [#re, rec, eco, cou, ouv, uvr, vrî, rît, îte, ...\n",
      "239393    [#ur, uri, rin, ina, nai, ais, is#, #u, ur, ri...\n",
      "173084    [#pi, pic, ica, car, ard, rd#, #p, pi, ic, ca,...\n",
      "95479     [#en, enf, nfo, fou, our, urn, rna, nai, ais, ...\n",
      "                                ...                        \n",
      "13389     [#ap, app, ppu, puy, uyé, yé#, #a, ap, pp, pu,...\n",
      "16932     [#at, att, tte, tel, ell, lle, ler, era, rai, ...\n",
      "207292    [#re, rev, eve, ven, end, nda, dai, ait, it#, ...\n",
      "158697    [#né, néc, écr, cro, ros, osa, sai, ais, is#, ...\n",
      "44429     [#co, col, oll, lli, lie, ier, er#, #c, co, ol...\n",
      "Name: sp_3gram, Length: 4561, dtype: object\n"
     ]
    }
   ],
   "source": [
    "## sp_3gram の追加\n",
    "add_ngrams(df, n_for_ngram = 3, prefix = \"sp_\", skippy = False, inclusive = True, inclusion_degree = inclusion_degree, check = False)"
   ]
  },
  {
   "cell_type": "code",
   "execution_count": 27,
   "id": "51e459f1",
   "metadata": {},
   "outputs": [
    {
     "name": "stdout",
     "output_type": "stream",
     "text": [
      "98362     [#ent, ente, nten, tend, endr, ndra, drai, rai...\n",
      "193951    [#rec, reco, ecou, couv, ouvr, uvrî, vrît, rît...\n",
      "239393    [#uri, urin, rina, inai, nais, ais#, #ur, uri,...\n",
      "173084    [#pic, pica, icar, card, ard#, #pi, pic, ica, ...\n",
      "95479     [#enf, enfo, nfou, four, ourn, urna, rnai, nai...\n",
      "                                ...                        \n",
      "13389     [#app, appu, ppuy, puyé, uyé#, #ap, app, ppu, ...\n",
      "16932     [#att, atte, ttel, tell, elle, ller, lera, era...\n",
      "207292    [#rev, reve, even, vend, enda, ndai, dait, ait...\n",
      "158697    [#néc, nécr, écro, cros, rosa, osai, sais, ais...\n",
      "44429     [#col, coll, olli, llie, lier, ier#, #co, col,...\n",
      "Name: sp_4gram, Length: 4561, dtype: object\n"
     ]
    }
   ],
   "source": [
    "## sp_4gram の追加\n",
    "add_ngrams(df, n_for_ngram = 4, prefix = \"sp_\", skippy = False, inclusive = True, inclusion_degree = inclusion_degree, check = False)"
   ]
  },
  {
   "cell_type": "code",
   "execution_count": 28,
   "id": "107fe329",
   "metadata": {},
   "outputs": [],
   "source": [
    "## sp_5gram の追加\n",
    "if \"5gram\" in sp_term_type:\n",
    "    add_ngrams(df, n_for_ngram = 5, prefix = \"sp_\", skippy = False, inclusive = True, inclusion_degree = inclusion_degree, check = False)"
   ]
  },
  {
   "cell_type": "code",
   "execution_count": 29,
   "id": "189db279",
   "metadata": {},
   "outputs": [
    {
     "name": "stdout",
     "output_type": "stream",
     "text": [
      "98362     [#e, #…n, #…t, #…e, en, e…t, e…e, nt, n…e, te,...\n",
      "193951    [#r, #…e, #…c, #…o, re, r…c, r…o, ec, e…o, co,...\n",
      "239393    [#u, #…r, #…i, #…n, ur, u…i, u…n, ri, r…n, in,...\n",
      "173084    [#p, #…i, #…c, #…a, pi, p…c, p…a, ic, i…a, ca,...\n",
      "95479     [#e, #…n, #…f, #…o, en, e…f, e…o, nf, n…o, fo,...\n",
      "                                ...                        \n",
      "13389     [#a, #…p, #…p, #…u, ap, a…p, a…u, pp, p…u, pu,...\n",
      "16932     [#a, #…t, #…t, #…e, at, a…t, a…e, tt, t…e, te,...\n",
      "207292    [#r, #…e, #…v, #…e, re, r…v, r…e, ev, e…e, ve,...\n",
      "158697    [#n, #…é, #…c, #…r, né, n…c, n…r, éc, é…r, cr,...\n",
      "44429     [#c, #…o, #…l, #…l, co, c…l, c…l, ol, o…l, ll,...\n",
      "Name: sp_sk2gram, Length: 4561, dtype: object\n"
     ]
    }
   ],
   "source": [
    "## sp_sk2gram の追加\n",
    "add_ngrams(df, n_for_ngram = 2, prefix = \"sp_\", skippy = True, max_distance = max_gap_size, inclusive = True, inclusion_degree = inclusion_degree, check = False)"
   ]
  },
  {
   "cell_type": "code",
   "execution_count": 30,
   "id": "5d008d2b",
   "metadata": {},
   "outputs": [
    {
     "name": "stdout",
     "output_type": "stream",
     "text": [
      "98362     [#en, #e…t, #e…e, #…nt, #…n…e, #…te, ent, en…e...\n",
      "193951    [#re, #r…c, #r…o, #…ec, #…e…o, #…co, rec, re…o...\n",
      "239393    [#ur, #u…i, #u…n, #…ri, #…r…n, #…in, uri, ur…n...\n",
      "173084    [#pi, #p…c, #p…a, #…ic, #…i…a, #…ca, pic, pi…a...\n",
      "95479     [#en, #e…f, #e…o, #…nf, #…n…o, #…fo, enf, en…o...\n",
      "                                ...                        \n",
      "13389     [#ap, #a…p, #a…u, #…pp, #…p…u, #…pu, app, ap…u...\n",
      "16932     [#at, #a…t, #a…e, #…tt, #…t…e, #…te, att, at…e...\n",
      "207292    [#re, #r…v, #r…e, #…ev, #…e…e, #…ve, rev, re…e...\n",
      "158697    [#né, #n…c, #n…r, #…éc, #…é…r, #…cr, néc, né…r...\n",
      "44429     [#co, #c…l, #c…l, #…ol, #…o…l, #…ll, col, co…l...\n",
      "Name: sp_sk3gram, Length: 4561, dtype: object\n"
     ]
    }
   ],
   "source": [
    "## sp_sk3gram の追加\n",
    "add_ngrams(df, n_for_ngram = 3, prefix = \"sp_\", skippy = True, max_distance = max_gap_size, inclusive = True, inclusion_degree = inclusion_degree, check = False)"
   ]
  },
  {
   "cell_type": "code",
   "execution_count": 31,
   "id": "71943f9f",
   "metadata": {},
   "outputs": [
    {
     "name": "stdout",
     "output_type": "stream",
     "text": [
      "98362     [#ent, #en…e, #e…te, #…nte, ente, ente, ent…n,...\n",
      "193951    [#rec, #re…o, #r…co, #…eco, reco, reco, rec…u,...\n",
      "239393    [#uri, #ur…n, #u…in, #…rin, urin, urin, uri…a,...\n",
      "173084    [#pic, #pi…a, #p…ca, #…ica, pica, pica, pic…r,...\n",
      "95479     [#enf, #en…o, #e…fo, #…nfo, enfo, enfo, enf…u,...\n",
      "                                ...                        \n",
      "13389     [#app, #ap…u, #a…pu, #…ppu, appu, appu, app…y,...\n",
      "16932     [#att, #at…e, #a…te, #…tte, atte, atte, att…l,...\n",
      "207292    [#rev, #re…e, #r…ve, #…eve, reve, reve, rev…n,...\n",
      "158697    [#néc, #né…r, #n…cr, #…écr, nécr, nécr, néc…o,...\n",
      "44429     [#col, #co…l, #c…ll, #…oll, coll, coll, col…i,...\n",
      "Name: sp_sk4gram, Length: 4561, dtype: object\n"
     ]
    }
   ],
   "source": [
    "## sp_sk4gram の追加\n",
    "add_ngrams(df, n_for_ngram = 4, prefix = \"sp_\", skippy = True, max_distance = max_gap_size, inclusive = True, inclusion_degree = inclusion_degree, check = False)"
   ]
  },
  {
   "cell_type": "code",
   "execution_count": 32,
   "id": "436b0185",
   "metadata": {},
   "outputs": [],
   "source": [
    "## sp_sk5gram の追加\n",
    "if \"5gram\" in sp_term_type:\n",
    "    add_ngrams(df, n_for_ngram = 5, prefix = \"sp_\", skippy = True, max_distance = max_gap_size, inclusive = True, inclusion_degree = inclusion_degree, check = False)"
   ]
  },
  {
   "cell_type": "code",
   "execution_count": 33,
   "id": "599db18c",
   "metadata": {},
   "outputs": [
    {
     "data": {
      "text/html": [
       "<div>\n",
       "<style scoped>\n",
       "    .dataframe tbody tr th:only-of-type {\n",
       "        vertical-align: middle;\n",
       "    }\n",
       "\n",
       "    .dataframe tbody tr th {\n",
       "        vertical-align: top;\n",
       "    }\n",
       "\n",
       "    .dataframe thead th {\n",
       "        text-align: right;\n",
       "    }\n",
       "</style>\n",
       "<table border=\"1\" class=\"dataframe\">\n",
       "  <thead>\n",
       "    <tr style=\"text-align: right;\">\n",
       "      <th></th>\n",
       "      <th>sp_word</th>\n",
       "      <th>sp_sk2gram</th>\n",
       "      <th>sp_sk3gram</th>\n",
       "      <th>sp_sk4gram</th>\n",
       "    </tr>\n",
       "  </thead>\n",
       "  <tbody>\n",
       "    <tr>\n",
       "      <th>98362</th>\n",
       "      <td>#entendrai#</td>\n",
       "      <td>[#e, #…n, #…t, #…e, en, e…t, e…e, nt, n…e, te,...</td>\n",
       "      <td>[#en, #e…t, #e…e, #…nt, #…n…e, #…te, ent, en…e...</td>\n",
       "      <td>[#ent, #en…e, #e…te, #…nte, ente, ente, ent…n,...</td>\n",
       "    </tr>\n",
       "    <tr>\n",
       "      <th>193951</th>\n",
       "      <td>#recouvrîtes#</td>\n",
       "      <td>[#r, #…e, #…c, #…o, re, r…c, r…o, ec, e…o, co,...</td>\n",
       "      <td>[#re, #r…c, #r…o, #…ec, #…e…o, #…co, rec, re…o...</td>\n",
       "      <td>[#rec, #re…o, #r…co, #…eco, reco, reco, rec…u,...</td>\n",
       "    </tr>\n",
       "    <tr>\n",
       "      <th>239393</th>\n",
       "      <td>#urinais#</td>\n",
       "      <td>[#u, #…r, #…i, #…n, ur, u…i, u…n, ri, r…n, in,...</td>\n",
       "      <td>[#ur, #u…i, #u…n, #…ri, #…r…n, #…in, uri, ur…n...</td>\n",
       "      <td>[#uri, #ur…n, #u…in, #…rin, urin, urin, uri…a,...</td>\n",
       "    </tr>\n",
       "    <tr>\n",
       "      <th>173084</th>\n",
       "      <td>#picard#</td>\n",
       "      <td>[#p, #…i, #…c, #…a, pi, p…c, p…a, ic, i…a, ca,...</td>\n",
       "      <td>[#pi, #p…c, #p…a, #…ic, #…i…a, #…ca, pic, pi…a...</td>\n",
       "      <td>[#pic, #pi…a, #p…ca, #…ica, pica, pica, pic…r,...</td>\n",
       "    </tr>\n",
       "    <tr>\n",
       "      <th>95479</th>\n",
       "      <td>#enfournais#</td>\n",
       "      <td>[#e, #…n, #…f, #…o, en, e…f, e…o, nf, n…o, fo,...</td>\n",
       "      <td>[#en, #e…f, #e…o, #…nf, #…n…o, #…fo, enf, en…o...</td>\n",
       "      <td>[#enf, #en…o, #e…fo, #…nfo, enfo, enfo, enf…u,...</td>\n",
       "    </tr>\n",
       "    <tr>\n",
       "      <th>...</th>\n",
       "      <td>...</td>\n",
       "      <td>...</td>\n",
       "      <td>...</td>\n",
       "      <td>...</td>\n",
       "    </tr>\n",
       "    <tr>\n",
       "      <th>13389</th>\n",
       "      <td>#appuyé#</td>\n",
       "      <td>[#a, #…p, #…p, #…u, ap, a…p, a…u, pp, p…u, pu,...</td>\n",
       "      <td>[#ap, #a…p, #a…u, #…pp, #…p…u, #…pu, app, ap…u...</td>\n",
       "      <td>[#app, #ap…u, #a…pu, #…ppu, appu, appu, app…y,...</td>\n",
       "    </tr>\n",
       "    <tr>\n",
       "      <th>16932</th>\n",
       "      <td>#attelleraient#</td>\n",
       "      <td>[#a, #…t, #…t, #…e, at, a…t, a…e, tt, t…e, te,...</td>\n",
       "      <td>[#at, #a…t, #a…e, #…tt, #…t…e, #…te, att, at…e...</td>\n",
       "      <td>[#att, #at…e, #a…te, #…tte, atte, atte, att…l,...</td>\n",
       "    </tr>\n",
       "    <tr>\n",
       "      <th>207292</th>\n",
       "      <td>#revendait#</td>\n",
       "      <td>[#r, #…e, #…v, #…e, re, r…v, r…e, ev, e…e, ve,...</td>\n",
       "      <td>[#re, #r…v, #r…e, #…ev, #…e…e, #…ve, rev, re…e...</td>\n",
       "      <td>[#rev, #re…e, #r…ve, #…eve, reve, reve, rev…n,...</td>\n",
       "    </tr>\n",
       "    <tr>\n",
       "      <th>158697</th>\n",
       "      <td>#nécrosais#</td>\n",
       "      <td>[#n, #…é, #…c, #…r, né, n…c, n…r, éc, é…r, cr,...</td>\n",
       "      <td>[#né, #n…c, #n…r, #…éc, #…é…r, #…cr, néc, né…r...</td>\n",
       "      <td>[#néc, #né…r, #n…cr, #…écr, nécr, nécr, néc…o,...</td>\n",
       "    </tr>\n",
       "    <tr>\n",
       "      <th>44429</th>\n",
       "      <td>#collier#</td>\n",
       "      <td>[#c, #…o, #…l, #…l, co, c…l, c…l, ol, o…l, ll,...</td>\n",
       "      <td>[#co, #c…l, #c…l, #…ol, #…o…l, #…ll, col, co…l...</td>\n",
       "      <td>[#col, #co…l, #c…ll, #…oll, coll, coll, col…i,...</td>\n",
       "    </tr>\n",
       "  </tbody>\n",
       "</table>\n",
       "<p>4561 rows × 4 columns</p>\n",
       "</div>"
      ],
      "text/plain": [
       "                sp_word                                         sp_sk2gram  \\\n",
       "98362       #entendrai#  [#e, #…n, #…t, #…e, en, e…t, e…e, nt, n…e, te,...   \n",
       "193951    #recouvrîtes#  [#r, #…e, #…c, #…o, re, r…c, r…o, ec, e…o, co,...   \n",
       "239393        #urinais#  [#u, #…r, #…i, #…n, ur, u…i, u…n, ri, r…n, in,...   \n",
       "173084         #picard#  [#p, #…i, #…c, #…a, pi, p…c, p…a, ic, i…a, ca,...   \n",
       "95479      #enfournais#  [#e, #…n, #…f, #…o, en, e…f, e…o, nf, n…o, fo,...   \n",
       "...                 ...                                                ...   \n",
       "13389          #appuyé#  [#a, #…p, #…p, #…u, ap, a…p, a…u, pp, p…u, pu,...   \n",
       "16932   #attelleraient#  [#a, #…t, #…t, #…e, at, a…t, a…e, tt, t…e, te,...   \n",
       "207292      #revendait#  [#r, #…e, #…v, #…e, re, r…v, r…e, ev, e…e, ve,...   \n",
       "158697      #nécrosais#  [#n, #…é, #…c, #…r, né, n…c, n…r, éc, é…r, cr,...   \n",
       "44429         #collier#  [#c, #…o, #…l, #…l, co, c…l, c…l, ol, o…l, ll,...   \n",
       "\n",
       "                                               sp_sk3gram  \\\n",
       "98362   [#en, #e…t, #e…e, #…nt, #…n…e, #…te, ent, en…e...   \n",
       "193951  [#re, #r…c, #r…o, #…ec, #…e…o, #…co, rec, re…o...   \n",
       "239393  [#ur, #u…i, #u…n, #…ri, #…r…n, #…in, uri, ur…n...   \n",
       "173084  [#pi, #p…c, #p…a, #…ic, #…i…a, #…ca, pic, pi…a...   \n",
       "95479   [#en, #e…f, #e…o, #…nf, #…n…o, #…fo, enf, en…o...   \n",
       "...                                                   ...   \n",
       "13389   [#ap, #a…p, #a…u, #…pp, #…p…u, #…pu, app, ap…u...   \n",
       "16932   [#at, #a…t, #a…e, #…tt, #…t…e, #…te, att, at…e...   \n",
       "207292  [#re, #r…v, #r…e, #…ev, #…e…e, #…ve, rev, re…e...   \n",
       "158697  [#né, #n…c, #n…r, #…éc, #…é…r, #…cr, néc, né…r...   \n",
       "44429   [#co, #c…l, #c…l, #…ol, #…o…l, #…ll, col, co…l...   \n",
       "\n",
       "                                               sp_sk4gram  \n",
       "98362   [#ent, #en…e, #e…te, #…nte, ente, ente, ent…n,...  \n",
       "193951  [#rec, #re…o, #r…co, #…eco, reco, reco, rec…u,...  \n",
       "239393  [#uri, #ur…n, #u…in, #…rin, urin, urin, uri…a,...  \n",
       "173084  [#pic, #pi…a, #p…ca, #…ica, pica, pica, pic…r,...  \n",
       "95479   [#enf, #en…o, #e…fo, #…nfo, enfo, enfo, enf…u,...  \n",
       "...                                                   ...  \n",
       "13389   [#app, #ap…u, #a…pu, #…ppu, appu, appu, app…y,...  \n",
       "16932   [#att, #at…e, #a…te, #…tte, atte, atte, att…l,...  \n",
       "207292  [#rev, #re…e, #r…ve, #…eve, reve, reve, rev…n,...  \n",
       "158697  [#néc, #né…r, #n…cr, #…écr, nécr, nécr, néc…o,...  \n",
       "44429   [#col, #co…l, #c…ll, #…oll, coll, coll, col…i,...  \n",
       "\n",
       "[4561 rows x 4 columns]"
      ]
     },
     "execution_count": 33,
     "metadata": {},
     "output_type": "execute_result"
    }
   ],
   "source": [
    "## check result\n",
    "if \"5gram\" in sp_term_type:\n",
    "    var_names = [ 'sp_word', 'sp_sk2gram', 'sp_sk3gram', 'sp_sk4gram', 'sp_sk5gram' ]\n",
    "else:\n",
    "    var_names = [ 'sp_word', 'sp_sk2gram', 'sp_sk3gram', 'sp_sk4gram' ]\n",
    "df[var_names]"
   ]
  },
  {
   "cell_type": "markdown",
   "id": "8a04f220",
   "metadata": {},
   "source": [
    "# Sound n-grams 生成"
   ]
  },
  {
   "cell_type": "code",
   "execution_count": 34,
   "id": "e00161ab",
   "metadata": {},
   "outputs": [
    {
     "name": "stdout",
     "output_type": "stream",
     "text": [
      "98362     [#ɑ, ɑ̃, ̃t, tɑ, ɑ̃, ̃d, dʁ, ʁa, a#, #, ɑ, ̃, ...\n",
      "193951    [#ʁ, ʁə, ək, kʊ, ʊv, vʁ, ʁɪ, ɪt, t#, #, ʁ, ə, ...\n",
      "239393        [#y, yʁ, ʁɪ, ɪn, na, a#, #, y, ʁ, ɪ, n, a, #]\n",
      "173084        [#p, pɪ, ɪk, ka, aʁ, ʁ#, #, p, ɪ, k, a, ʁ, #]\n",
      "95479     [#ɑ, ɑ̃, ̃f, fʊ, ʊʁ, ʁn, na, a#, #, ɑ, ̃, f, ʊ...\n",
      "                                ...                        \n",
      "13389     [#a, ap, pɥ, ɥi, ij, je, e#, #, a, p, ɥ, i, j,...\n",
      "16932     [#a, at, tə, əl, la, aʁ, ʁa, a#, #, a, t, ə, l...\n",
      "207292    [#ʁ, ʁə, əv, vɑ, ɑ̃, ̃d, da, a#, #, ʁ, ə, v, ɑ...\n",
      "158697    [#n, ne, ek, kʁ, ʁo, oz, za, a#, #, n, e, k, ʁ...\n",
      "44429     [#k, kɑ, ɑɔ, ɔ̯, ̯l, lj, je, e#, #, k, ɑ, ɔ, ̯...\n",
      "Name: sn_2gram, Length: 4561, dtype: object\n"
     ]
    }
   ],
   "source": [
    "## sn_2gram の追加\n",
    "add_ngrams(df, n_for_ngram = 2, prefix = \"sn_\", skippy = False, inclusive = True, inclusion_degree = inclusion_degree, check = False)"
   ]
  },
  {
   "cell_type": "code",
   "execution_count": 35,
   "id": "c323aec2",
   "metadata": {},
   "outputs": [
    {
     "name": "stdout",
     "output_type": "stream",
     "text": [
      "98362     [#ɑ̃, ɑ̃t, ̃tɑ, tɑ̃, ɑ̃d, ̃dʁ, dʁa, ʁa#, #ɑ, ɑ...\n",
      "193951    [#ʁə, ʁək, əkʊ, kʊv, ʊvʁ, vʁɪ, ʁɪt, ɪt#, #ʁ, ʁ...\n",
      "239393    [#yʁ, yʁɪ, ʁɪn, ɪna, na#, #y, yʁ, ʁɪ, ɪn, na, a#]\n",
      "173084    [#pɪ, pɪk, ɪka, kaʁ, aʁ#, #p, pɪ, ɪk, ka, aʁ, ʁ#]\n",
      "95479     [#ɑ̃, ɑ̃f, ̃fʊ, fʊʁ, ʊʁn, ʁna, na#, #ɑ, ɑ̃, ̃f...\n",
      "                                ...                        \n",
      "13389     [#ap, apɥ, pɥi, ɥij, ije, je#, #a, ap, pɥ, ɥi,...\n",
      "16932     [#at, atə, təl, əla, laʁ, aʁa, ʁa#, #a, at, tə...\n",
      "207292    [#ʁə, ʁəv, əvɑ, vɑ̃, ɑ̃d, ̃da, da#, #ʁ, ʁə, əv...\n",
      "158697    [#ne, nek, ekʁ, kʁo, ʁoz, oza, za#, #n, ne, ek...\n",
      "44429     [#kɑ, kɑɔ, ɑɔ̯, ɔ̯l, ̯lj, lje, je#, #k, kɑ, ɑɔ...\n",
      "Name: sn_3gram, Length: 4561, dtype: object\n"
     ]
    }
   ],
   "source": [
    "## sn_3gram の追加\n",
    "add_ngrams(df, n_for_ngram = 3, prefix = \"sn_\", skippy = False, inclusive = True, inclusion_degree = inclusion_degree, check = False)"
   ]
  },
  {
   "cell_type": "code",
   "execution_count": 36,
   "id": "9d680975",
   "metadata": {},
   "outputs": [
    {
     "name": "stdout",
     "output_type": "stream",
     "text": [
      "98362     [#ɑ̃t, ɑ̃tɑ, ̃tɑ̃, tɑ̃d, ɑ̃dʁ, ̃dʁa, dʁa#, #ɑ̃...\n",
      "193951    [#ʁək, ʁəkʊ, əkʊv, kʊvʁ, ʊvʁɪ, vʁɪt, ʁɪt#, #ʁə...\n",
      "239393    [#yʁɪ, yʁɪn, ʁɪna, ɪna#, #yʁ, yʁɪ, ʁɪn, ɪna, na#]\n",
      "173084    [#pɪk, pɪka, ɪkaʁ, kaʁ#, #pɪ, pɪk, ɪka, kaʁ, aʁ#]\n",
      "95479     [#ɑ̃f, ɑ̃fʊ, ̃fʊʁ, fʊʁn, ʊʁna, ʁna#, #ɑ̃, ɑ̃f,...\n",
      "                                ...                        \n",
      "13389     [#apɥ, apɥi, pɥij, ɥije, ije#, #ap, apɥ, pɥi, ...\n",
      "16932     [#atə, atəl, təla, əlaʁ, laʁa, aʁa#, #at, atə,...\n",
      "207292    [#ʁəv, ʁəvɑ, əvɑ̃, vɑ̃d, ɑ̃da, ̃da#, #ʁə, ʁəv,...\n",
      "158697    [#nek, nekʁ, ekʁo, kʁoz, ʁoza, oza#, #ne, nek,...\n",
      "44429     [#kɑɔ, kɑɔ̯, ɑɔ̯l, ɔ̯lj, ̯lje, lje#, #kɑ, kɑɔ,...\n",
      "Name: sn_4gram, Length: 4561, dtype: object\n"
     ]
    }
   ],
   "source": [
    "## sn_4gram の追加\n",
    "add_ngrams(df, n_for_ngram = 4, prefix = \"sn_\", skippy = False, inclusive = True, inclusion_degree = inclusion_degree, check = False)"
   ]
  },
  {
   "cell_type": "code",
   "execution_count": 37,
   "id": "9412c517",
   "metadata": {},
   "outputs": [],
   "source": [
    "## sn_5gram の追加\n",
    "if \"5gram\" in sn_term_type:\n",
    "    add_ngrams(df, n_for_ngram = 5, prefix = \"sn_\", skippy = False, inclusive = True, inclusion_degree = inclusion_degree, check = False)"
   ]
  },
  {
   "cell_type": "code",
   "execution_count": 38,
   "id": "564821d8",
   "metadata": {},
   "outputs": [
    {
     "name": "stdout",
     "output_type": "stream",
     "text": [
      "98362     [#ɑ, #…̃, #…t, #…ɑ, ɑ̃, ɑ…t, ɑ…ɑ, ̃t, ̃…ɑ, tɑ,...\n",
      "193951    [#ʁ, #…ə, #…k, #…ʊ, ʁə, ʁ…k, ʁ…ʊ, ək, ə…ʊ, kʊ,...\n",
      "239393    [#y, #…ʁ, #…ɪ, #…n, yʁ, y…ɪ, y…n, ʁɪ, ʁ…n, ɪn,...\n",
      "173084    [#p, #…ɪ, #…k, #…a, pɪ, p…k, p…a, ɪk, ɪ…a, ka,...\n",
      "95479     [#ɑ, #…̃, #…f, #…ʊ, ɑ̃, ɑ…f, ɑ…ʊ, ̃f, ̃…ʊ, fʊ,...\n",
      "                                ...                        \n",
      "13389     [#a, #…p, #…ɥ, #…i, ap, a…ɥ, a…i, pɥ, p…i, ɥi,...\n",
      "16932     [#a, #…t, #…ə, #…l, at, a…ə, a…l, tə, t…l, əl,...\n",
      "207292    [#ʁ, #…ə, #…v, #…ɑ, ʁə, ʁ…v, ʁ…ɑ, əv, ə…ɑ, vɑ,...\n",
      "158697    [#n, #…e, #…k, #…ʁ, ne, n…k, n…ʁ, ek, e…ʁ, kʁ,...\n",
      "44429     [#k, #…ɑ, #…ɔ, #…̯, kɑ, k…ɔ, k…̯, ɑɔ, ɑ…̯, ɔ̯,...\n",
      "Name: sn_sk2gram, Length: 4561, dtype: object\n"
     ]
    }
   ],
   "source": [
    "## sn_sk2gram の追加\n",
    "add_ngrams(df, n_for_ngram = 2, prefix = \"sn_\", skippy = True, max_distance = max_gap_size, inclusive = True, inclusion_degree = inclusion_degree, check = False)"
   ]
  },
  {
   "cell_type": "code",
   "execution_count": 39,
   "id": "621ecec8",
   "metadata": {},
   "outputs": [
    {
     "name": "stdout",
     "output_type": "stream",
     "text": [
      "98362     [#ɑ̃, #ɑ…t, #ɑ…ɑ, #…̃t, #…̃…ɑ, #…tɑ, ɑ̃t, ɑ̃…ɑ...\n",
      "193951    [#ʁə, #ʁ…k, #ʁ…ʊ, #…ək, #…ə…ʊ, #…kʊ, ʁək, ʁə…ʊ...\n",
      "239393    [#yʁ, #y…ɪ, #y…n, #…ʁɪ, #…ʁ…n, #…ɪn, yʁɪ, yʁ…n...\n",
      "173084    [#pɪ, #p…k, #p…a, #…ɪk, #…ɪ…a, #…ka, pɪk, pɪ…a...\n",
      "95479     [#ɑ̃, #ɑ…f, #ɑ…ʊ, #…̃f, #…̃…ʊ, #…fʊ, ɑ̃f, ɑ̃…ʊ...\n",
      "                                ...                        \n",
      "13389     [#ap, #a…ɥ, #a…i, #…pɥ, #…p…i, #…ɥi, apɥ, ap…i...\n",
      "16932     [#at, #a…ə, #a…l, #…tə, #…t…l, #…əl, atə, at…l...\n",
      "207292    [#ʁə, #ʁ…v, #ʁ…ɑ, #…əv, #…ə…ɑ, #…vɑ, ʁəv, ʁə…ɑ...\n",
      "158697    [#ne, #n…k, #n…ʁ, #…ek, #…e…ʁ, #…kʁ, nek, ne…ʁ...\n",
      "44429     [#kɑ, #k…ɔ, #k…̯, #…ɑɔ, #…ɑ…̯, #…ɔ̯, kɑɔ, kɑ…̯...\n",
      "Name: sn_sk3gram, Length: 4561, dtype: object\n"
     ]
    }
   ],
   "source": [
    "## sn_sk3gram の追加\n",
    "add_ngrams(df, n_for_ngram = 3, prefix = \"sn_\", skippy = True, max_distance = max_gap_size, inclusive = True, inclusion_degree = inclusion_degree, check = False)"
   ]
  },
  {
   "cell_type": "code",
   "execution_count": 40,
   "id": "a23e1a66",
   "metadata": {},
   "outputs": [
    {
     "name": "stdout",
     "output_type": "stream",
     "text": [
      "98362     [#ɑ̃t, #ɑ̃…ɑ, #ɑ…tɑ, #…̃tɑ, ɑ̃tɑ, ɑ̃tɑ, ɑ̃t…̃,...\n",
      "193951    [#ʁək, #ʁə…ʊ, #ʁ…kʊ, #…əkʊ, ʁəkʊ, ʁəkʊ, ʁək…v,...\n",
      "239393    [#yʁɪ, #yʁ…n, #y…ɪn, #…ʁɪn, yʁɪn, yʁɪn, yʁɪ…a,...\n",
      "173084    [#pɪk, #pɪ…a, #p…ka, #…ɪka, pɪka, pɪka, pɪk…ʁ,...\n",
      "95479     [#ɑ̃f, #ɑ̃…ʊ, #ɑ…fʊ, #…̃fʊ, ɑ̃fʊ, ɑ̃fʊ, ɑ̃f…ʁ,...\n",
      "                                ...                        \n",
      "13389     [#apɥ, #ap…i, #a…ɥi, #…pɥi, apɥi, apɥi, apɥ…j,...\n",
      "16932     [#atə, #at…l, #a…əl, #…təl, atəl, atəl, atə…a,...\n",
      "207292    [#ʁəv, #ʁə…ɑ, #ʁ…vɑ, #…əvɑ, ʁəvɑ, ʁəvɑ, ʁəv…̃,...\n",
      "158697    [#nek, #ne…ʁ, #n…kʁ, #…ekʁ, nekʁ, nekʁ, nek…o,...\n",
      "44429     [#kɑɔ, #kɑ…̯, #k…ɔ̯, #…ɑɔ̯, kɑɔ̯, kɑɔ̯, kɑɔ…l,...\n",
      "Name: sn_sk4gram, Length: 4561, dtype: object\n"
     ]
    }
   ],
   "source": [
    "## sn_sk4gram の追加\n",
    "add_ngrams(df, n_for_ngram = 4, prefix = \"sn_\", skippy = True, max_distance = max_gap_size, inclusive = True, inclusion_degree = inclusion_degree, check = False)"
   ]
  },
  {
   "cell_type": "code",
   "execution_count": 41,
   "id": "f44e0d37",
   "metadata": {},
   "outputs": [],
   "source": [
    "## sn_sk5gram の追加\n",
    "if \"5gram\" in sn_term_type:\n",
    "    add_ngrams(df, n_for_ngram = 5, prefix = \"sn_\", skippy = True, max_distance = max_gap_size, inclusive = True, inclusion_degree = inclusion_degree, check = False)"
   ]
  },
  {
   "cell_type": "code",
   "execution_count": 42,
   "id": "05c2a69d",
   "metadata": {},
   "outputs": [
    {
     "data": {
      "text/html": [
       "<div>\n",
       "<style scoped>\n",
       "    .dataframe tbody tr th:only-of-type {\n",
       "        vertical-align: middle;\n",
       "    }\n",
       "\n",
       "    .dataframe tbody tr th {\n",
       "        vertical-align: top;\n",
       "    }\n",
       "\n",
       "    .dataframe thead th {\n",
       "        text-align: right;\n",
       "    }\n",
       "</style>\n",
       "<table border=\"1\" class=\"dataframe\">\n",
       "  <thead>\n",
       "    <tr style=\"text-align: right;\">\n",
       "      <th></th>\n",
       "      <th>sn_word</th>\n",
       "      <th>sn_sk2gram</th>\n",
       "      <th>sn_sk3gram</th>\n",
       "      <th>sn_sk4gram</th>\n",
       "    </tr>\n",
       "  </thead>\n",
       "  <tbody>\n",
       "    <tr>\n",
       "      <th>98362</th>\n",
       "      <td>#ɑ̃tɑ̃dʁa#</td>\n",
       "      <td>[#ɑ, #…̃, #…t, #…ɑ, ɑ̃, ɑ…t, ɑ…ɑ, ̃t, ̃…ɑ, tɑ,...</td>\n",
       "      <td>[#ɑ̃, #ɑ…t, #ɑ…ɑ, #…̃t, #…̃…ɑ, #…tɑ, ɑ̃t, ɑ̃…ɑ...</td>\n",
       "      <td>[#ɑ̃t, #ɑ̃…ɑ, #ɑ…tɑ, #…̃tɑ, ɑ̃tɑ, ɑ̃tɑ, ɑ̃t…̃,...</td>\n",
       "    </tr>\n",
       "    <tr>\n",
       "      <th>193951</th>\n",
       "      <td>#ʁəkʊvʁɪt#</td>\n",
       "      <td>[#ʁ, #…ə, #…k, #…ʊ, ʁə, ʁ…k, ʁ…ʊ, ək, ə…ʊ, kʊ,...</td>\n",
       "      <td>[#ʁə, #ʁ…k, #ʁ…ʊ, #…ək, #…ə…ʊ, #…kʊ, ʁək, ʁə…ʊ...</td>\n",
       "      <td>[#ʁək, #ʁə…ʊ, #ʁ…kʊ, #…əkʊ, ʁəkʊ, ʁəkʊ, ʁək…v,...</td>\n",
       "    </tr>\n",
       "    <tr>\n",
       "      <th>239393</th>\n",
       "      <td>#yʁɪna#</td>\n",
       "      <td>[#y, #…ʁ, #…ɪ, #…n, yʁ, y…ɪ, y…n, ʁɪ, ʁ…n, ɪn,...</td>\n",
       "      <td>[#yʁ, #y…ɪ, #y…n, #…ʁɪ, #…ʁ…n, #…ɪn, yʁɪ, yʁ…n...</td>\n",
       "      <td>[#yʁɪ, #yʁ…n, #y…ɪn, #…ʁɪn, yʁɪn, yʁɪn, yʁɪ…a,...</td>\n",
       "    </tr>\n",
       "    <tr>\n",
       "      <th>173084</th>\n",
       "      <td>#pɪkaʁ#</td>\n",
       "      <td>[#p, #…ɪ, #…k, #…a, pɪ, p…k, p…a, ɪk, ɪ…a, ka,...</td>\n",
       "      <td>[#pɪ, #p…k, #p…a, #…ɪk, #…ɪ…a, #…ka, pɪk, pɪ…a...</td>\n",
       "      <td>[#pɪk, #pɪ…a, #p…ka, #…ɪka, pɪka, pɪka, pɪk…ʁ,...</td>\n",
       "    </tr>\n",
       "    <tr>\n",
       "      <th>95479</th>\n",
       "      <td>#ɑ̃fʊʁna#</td>\n",
       "      <td>[#ɑ, #…̃, #…f, #…ʊ, ɑ̃, ɑ…f, ɑ…ʊ, ̃f, ̃…ʊ, fʊ,...</td>\n",
       "      <td>[#ɑ̃, #ɑ…f, #ɑ…ʊ, #…̃f, #…̃…ʊ, #…fʊ, ɑ̃f, ɑ̃…ʊ...</td>\n",
       "      <td>[#ɑ̃f, #ɑ̃…ʊ, #ɑ…fʊ, #…̃fʊ, ɑ̃fʊ, ɑ̃fʊ, ɑ̃f…ʁ,...</td>\n",
       "    </tr>\n",
       "    <tr>\n",
       "      <th>...</th>\n",
       "      <td>...</td>\n",
       "      <td>...</td>\n",
       "      <td>...</td>\n",
       "      <td>...</td>\n",
       "    </tr>\n",
       "    <tr>\n",
       "      <th>13389</th>\n",
       "      <td>#apɥije#</td>\n",
       "      <td>[#a, #…p, #…ɥ, #…i, ap, a…ɥ, a…i, pɥ, p…i, ɥi,...</td>\n",
       "      <td>[#ap, #a…ɥ, #a…i, #…pɥ, #…p…i, #…ɥi, apɥ, ap…i...</td>\n",
       "      <td>[#apɥ, #ap…i, #a…ɥi, #…pɥi, apɥi, apɥi, apɥ…j,...</td>\n",
       "    </tr>\n",
       "    <tr>\n",
       "      <th>16932</th>\n",
       "      <td>#atəlaʁa#</td>\n",
       "      <td>[#a, #…t, #…ə, #…l, at, a…ə, a…l, tə, t…l, əl,...</td>\n",
       "      <td>[#at, #a…ə, #a…l, #…tə, #…t…l, #…əl, atə, at…l...</td>\n",
       "      <td>[#atə, #at…l, #a…əl, #…təl, atəl, atəl, atə…a,...</td>\n",
       "    </tr>\n",
       "    <tr>\n",
       "      <th>207292</th>\n",
       "      <td>#ʁəvɑ̃da#</td>\n",
       "      <td>[#ʁ, #…ə, #…v, #…ɑ, ʁə, ʁ…v, ʁ…ɑ, əv, ə…ɑ, vɑ,...</td>\n",
       "      <td>[#ʁə, #ʁ…v, #ʁ…ɑ, #…əv, #…ə…ɑ, #…vɑ, ʁəv, ʁə…ɑ...</td>\n",
       "      <td>[#ʁəv, #ʁə…ɑ, #ʁ…vɑ, #…əvɑ, ʁəvɑ, ʁəvɑ, ʁəv…̃,...</td>\n",
       "    </tr>\n",
       "    <tr>\n",
       "      <th>158697</th>\n",
       "      <td>#nekʁoza#</td>\n",
       "      <td>[#n, #…e, #…k, #…ʁ, ne, n…k, n…ʁ, ek, e…ʁ, kʁ,...</td>\n",
       "      <td>[#ne, #n…k, #n…ʁ, #…ek, #…e…ʁ, #…kʁ, nek, ne…ʁ...</td>\n",
       "      <td>[#nek, #ne…ʁ, #n…kʁ, #…ekʁ, nekʁ, nekʁ, nek…o,...</td>\n",
       "    </tr>\n",
       "    <tr>\n",
       "      <th>44429</th>\n",
       "      <td>#kɑɔ̯lje#</td>\n",
       "      <td>[#k, #…ɑ, #…ɔ, #…̯, kɑ, k…ɔ, k…̯, ɑɔ, ɑ…̯, ɔ̯,...</td>\n",
       "      <td>[#kɑ, #k…ɔ, #k…̯, #…ɑɔ, #…ɑ…̯, #…ɔ̯, kɑɔ, kɑ…̯...</td>\n",
       "      <td>[#kɑɔ, #kɑ…̯, #k…ɔ̯, #…ɑɔ̯, kɑɔ̯, kɑɔ̯, kɑɔ…l,...</td>\n",
       "    </tr>\n",
       "  </tbody>\n",
       "</table>\n",
       "<p>4561 rows × 4 columns</p>\n",
       "</div>"
      ],
      "text/plain": [
       "           sn_word                                         sn_sk2gram  \\\n",
       "98362   #ɑ̃tɑ̃dʁa#  [#ɑ, #…̃, #…t, #…ɑ, ɑ̃, ɑ…t, ɑ…ɑ, ̃t, ̃…ɑ, tɑ,...   \n",
       "193951  #ʁəkʊvʁɪt#  [#ʁ, #…ə, #…k, #…ʊ, ʁə, ʁ…k, ʁ…ʊ, ək, ə…ʊ, kʊ,...   \n",
       "239393     #yʁɪna#  [#y, #…ʁ, #…ɪ, #…n, yʁ, y…ɪ, y…n, ʁɪ, ʁ…n, ɪn,...   \n",
       "173084     #pɪkaʁ#  [#p, #…ɪ, #…k, #…a, pɪ, p…k, p…a, ɪk, ɪ…a, ka,...   \n",
       "95479    #ɑ̃fʊʁna#  [#ɑ, #…̃, #…f, #…ʊ, ɑ̃, ɑ…f, ɑ…ʊ, ̃f, ̃…ʊ, fʊ,...   \n",
       "...            ...                                                ...   \n",
       "13389     #apɥije#  [#a, #…p, #…ɥ, #…i, ap, a…ɥ, a…i, pɥ, p…i, ɥi,...   \n",
       "16932    #atəlaʁa#  [#a, #…t, #…ə, #…l, at, a…ə, a…l, tə, t…l, əl,...   \n",
       "207292   #ʁəvɑ̃da#  [#ʁ, #…ə, #…v, #…ɑ, ʁə, ʁ…v, ʁ…ɑ, əv, ə…ɑ, vɑ,...   \n",
       "158697   #nekʁoza#  [#n, #…e, #…k, #…ʁ, ne, n…k, n…ʁ, ek, e…ʁ, kʁ,...   \n",
       "44429    #kɑɔ̯lje#  [#k, #…ɑ, #…ɔ, #…̯, kɑ, k…ɔ, k…̯, ɑɔ, ɑ…̯, ɔ̯,...   \n",
       "\n",
       "                                               sn_sk3gram  \\\n",
       "98362   [#ɑ̃, #ɑ…t, #ɑ…ɑ, #…̃t, #…̃…ɑ, #…tɑ, ɑ̃t, ɑ̃…ɑ...   \n",
       "193951  [#ʁə, #ʁ…k, #ʁ…ʊ, #…ək, #…ə…ʊ, #…kʊ, ʁək, ʁə…ʊ...   \n",
       "239393  [#yʁ, #y…ɪ, #y…n, #…ʁɪ, #…ʁ…n, #…ɪn, yʁɪ, yʁ…n...   \n",
       "173084  [#pɪ, #p…k, #p…a, #…ɪk, #…ɪ…a, #…ka, pɪk, pɪ…a...   \n",
       "95479   [#ɑ̃, #ɑ…f, #ɑ…ʊ, #…̃f, #…̃…ʊ, #…fʊ, ɑ̃f, ɑ̃…ʊ...   \n",
       "...                                                   ...   \n",
       "13389   [#ap, #a…ɥ, #a…i, #…pɥ, #…p…i, #…ɥi, apɥ, ap…i...   \n",
       "16932   [#at, #a…ə, #a…l, #…tə, #…t…l, #…əl, atə, at…l...   \n",
       "207292  [#ʁə, #ʁ…v, #ʁ…ɑ, #…əv, #…ə…ɑ, #…vɑ, ʁəv, ʁə…ɑ...   \n",
       "158697  [#ne, #n…k, #n…ʁ, #…ek, #…e…ʁ, #…kʁ, nek, ne…ʁ...   \n",
       "44429   [#kɑ, #k…ɔ, #k…̯, #…ɑɔ, #…ɑ…̯, #…ɔ̯, kɑɔ, kɑ…̯...   \n",
       "\n",
       "                                               sn_sk4gram  \n",
       "98362   [#ɑ̃t, #ɑ̃…ɑ, #ɑ…tɑ, #…̃tɑ, ɑ̃tɑ, ɑ̃tɑ, ɑ̃t…̃,...  \n",
       "193951  [#ʁək, #ʁə…ʊ, #ʁ…kʊ, #…əkʊ, ʁəkʊ, ʁəkʊ, ʁək…v,...  \n",
       "239393  [#yʁɪ, #yʁ…n, #y…ɪn, #…ʁɪn, yʁɪn, yʁɪn, yʁɪ…a,...  \n",
       "173084  [#pɪk, #pɪ…a, #p…ka, #…ɪka, pɪka, pɪka, pɪk…ʁ,...  \n",
       "95479   [#ɑ̃f, #ɑ̃…ʊ, #ɑ…fʊ, #…̃fʊ, ɑ̃fʊ, ɑ̃fʊ, ɑ̃f…ʁ,...  \n",
       "...                                                   ...  \n",
       "13389   [#apɥ, #ap…i, #a…ɥi, #…pɥi, apɥi, apɥi, apɥ…j,...  \n",
       "16932   [#atə, #at…l, #a…əl, #…təl, atəl, atəl, atə…a,...  \n",
       "207292  [#ʁəv, #ʁə…ɑ, #ʁ…vɑ, #…əvɑ, ʁəvɑ, ʁəvɑ, ʁəv…̃,...  \n",
       "158697  [#nek, #ne…ʁ, #n…kʁ, #…ekʁ, nekʁ, nekʁ, nek…o,...  \n",
       "44429   [#kɑɔ, #kɑ…̯, #k…ɔ̯, #…ɑɔ̯, kɑɔ̯, kɑɔ̯, kɑɔ…l,...  \n",
       "\n",
       "[4561 rows x 4 columns]"
      ]
     },
     "execution_count": 42,
     "metadata": {},
     "output_type": "execute_result"
    }
   ],
   "source": [
    "## check result\n",
    "if \"5gram\" in sn_term_type:\n",
    "    var_names = [ 'sn_word', 'sn_sk2gram', 'sn_sk3gram', 'sn_sk4gram', 'sn_sk5gram' ]\n",
    "else:\n",
    "    var_names = [ 'sn_word', 'sn_sk2gram', 'sn_sk3gram', 'sn_sk4gram' ]\n",
    "df[var_names]"
   ]
  },
  {
   "cell_type": "markdown",
   "id": "ff6f78c0-9731-4f9c-ab72-fb83da641cc1",
   "metadata": {},
   "source": [
    "# Pair = sp term :: sn term の生成"
   ]
  },
  {
   "cell_type": "code",
   "execution_count": 43,
   "id": "6e9b07cd-fdb0-48e8-9803-3bad862a609d",
   "metadata": {},
   "outputs": [],
   "source": [
    "## pair spell and sound terms\n",
    "paired_terms = [ ]\n",
    "for s_pair in zip(df[sp_term_type], df[sn_term_type]):\n",
    "    if check:\n",
    "        print(s_pair)\n",
    "    sp_tok, sn_tok = s_pair\n",
    "    paired = [ f\"{sp}{pair_marker}{sn}\" for sp in sp_tok for sn in sn_tok if len(sp) > 0 and len(sn) > 0 ]\n",
    "    #\n",
    "    paired_terms.append(paired)"
   ]
  },
  {
   "cell_type": "code",
   "execution_count": 44,
   "id": "4702e88e-a5e5-4606-aa01-c7eb8aa8bf89",
   "metadata": {},
   "outputs": [
    {
     "data": {
      "text/plain": [
       "[['#pou :: #pʊd',\n",
       "  '#pou :: pʊdʁ',\n",
       "  '#pou :: ʊdʁw',\n",
       "  '#pou :: dʁwa',\n",
       "  '#pou :: ʁwaj',\n",
       "  '#pou :: waja',\n",
       "  '#pou :: aja#',\n",
       "  '#pou :: #pʊ',\n",
       "  '#pou :: pʊd',\n",
       "  '#pou :: ʊdʁ',\n",
       "  '#pou :: dʁw',\n",
       "  '#pou :: ʁwa',\n",
       "  '#pou :: waj',\n",
       "  '#pou :: aja',\n",
       "  '#pou :: ja#',\n",
       "  'poud :: #pʊd',\n",
       "  'poud :: pʊdʁ',\n",
       "  'poud :: ʊdʁw',\n",
       "  'poud :: dʁwa',\n",
       "  'poud :: ʁwaj',\n",
       "  'poud :: waja',\n",
       "  'poud :: aja#',\n",
       "  'poud :: #pʊ',\n",
       "  'poud :: pʊd',\n",
       "  'poud :: ʊdʁ',\n",
       "  'poud :: dʁw',\n",
       "  'poud :: ʁwa',\n",
       "  'poud :: waj',\n",
       "  'poud :: aja',\n",
       "  'poud :: ja#',\n",
       "  'oudr :: #pʊd',\n",
       "  'oudr :: pʊdʁ',\n",
       "  'oudr :: ʊdʁw',\n",
       "  'oudr :: dʁwa',\n",
       "  'oudr :: ʁwaj',\n",
       "  'oudr :: waja',\n",
       "  'oudr :: aja#',\n",
       "  'oudr :: #pʊ',\n",
       "  'oudr :: pʊd',\n",
       "  'oudr :: ʊdʁ',\n",
       "  'oudr :: dʁw',\n",
       "  'oudr :: ʁwa',\n",
       "  'oudr :: waj',\n",
       "  'oudr :: aja',\n",
       "  'oudr :: ja#',\n",
       "  'udro :: #pʊd',\n",
       "  'udro :: pʊdʁ',\n",
       "  'udro :: ʊdʁw',\n",
       "  'udro :: dʁwa',\n",
       "  'udro :: ʁwaj',\n",
       "  'udro :: waja',\n",
       "  'udro :: aja#',\n",
       "  'udro :: #pʊ',\n",
       "  'udro :: pʊd',\n",
       "  'udro :: ʊdʁ',\n",
       "  'udro :: dʁw',\n",
       "  'udro :: ʁwa',\n",
       "  'udro :: waj',\n",
       "  'udro :: aja',\n",
       "  'udro :: ja#',\n",
       "  'droy :: #pʊd',\n",
       "  'droy :: pʊdʁ',\n",
       "  'droy :: ʊdʁw',\n",
       "  'droy :: dʁwa',\n",
       "  'droy :: ʁwaj',\n",
       "  'droy :: waja',\n",
       "  'droy :: aja#',\n",
       "  'droy :: #pʊ',\n",
       "  'droy :: pʊd',\n",
       "  'droy :: ʊdʁ',\n",
       "  'droy :: dʁw',\n",
       "  'droy :: ʁwa',\n",
       "  'droy :: waj',\n",
       "  'droy :: aja',\n",
       "  'droy :: ja#',\n",
       "  'roya :: #pʊd',\n",
       "  'roya :: pʊdʁ',\n",
       "  'roya :: ʊdʁw',\n",
       "  'roya :: dʁwa',\n",
       "  'roya :: ʁwaj',\n",
       "  'roya :: waja',\n",
       "  'roya :: aja#',\n",
       "  'roya :: #pʊ',\n",
       "  'roya :: pʊd',\n",
       "  'roya :: ʊdʁ',\n",
       "  'roya :: dʁw',\n",
       "  'roya :: ʁwa',\n",
       "  'roya :: waj',\n",
       "  'roya :: aja',\n",
       "  'roya :: ja#',\n",
       "  'oyai :: #pʊd',\n",
       "  'oyai :: pʊdʁ',\n",
       "  'oyai :: ʊdʁw',\n",
       "  'oyai :: dʁwa',\n",
       "  'oyai :: ʁwaj',\n",
       "  'oyai :: waja',\n",
       "  'oyai :: aja#',\n",
       "  'oyai :: #pʊ',\n",
       "  'oyai :: pʊd',\n",
       "  'oyai :: ʊdʁ',\n",
       "  'oyai :: dʁw',\n",
       "  'oyai :: ʁwa',\n",
       "  'oyai :: waj',\n",
       "  'oyai :: aja',\n",
       "  'oyai :: ja#',\n",
       "  'yais :: #pʊd',\n",
       "  'yais :: pʊdʁ',\n",
       "  'yais :: ʊdʁw',\n",
       "  'yais :: dʁwa',\n",
       "  'yais :: ʁwaj',\n",
       "  'yais :: waja',\n",
       "  'yais :: aja#',\n",
       "  'yais :: #pʊ',\n",
       "  'yais :: pʊd',\n",
       "  'yais :: ʊdʁ',\n",
       "  'yais :: dʁw',\n",
       "  'yais :: ʁwa',\n",
       "  'yais :: waj',\n",
       "  'yais :: aja',\n",
       "  'yais :: ja#',\n",
       "  'ais# :: #pʊd',\n",
       "  'ais# :: pʊdʁ',\n",
       "  'ais# :: ʊdʁw',\n",
       "  'ais# :: dʁwa',\n",
       "  'ais# :: ʁwaj',\n",
       "  'ais# :: waja',\n",
       "  'ais# :: aja#',\n",
       "  'ais# :: #pʊ',\n",
       "  'ais# :: pʊd',\n",
       "  'ais# :: ʊdʁ',\n",
       "  'ais# :: dʁw',\n",
       "  'ais# :: ʁwa',\n",
       "  'ais# :: waj',\n",
       "  'ais# :: aja',\n",
       "  'ais# :: ja#',\n",
       "  '#po :: #pʊd',\n",
       "  '#po :: pʊdʁ',\n",
       "  '#po :: ʊdʁw',\n",
       "  '#po :: dʁwa',\n",
       "  '#po :: ʁwaj',\n",
       "  '#po :: waja',\n",
       "  '#po :: aja#',\n",
       "  '#po :: #pʊ',\n",
       "  '#po :: pʊd',\n",
       "  '#po :: ʊdʁ',\n",
       "  '#po :: dʁw',\n",
       "  '#po :: ʁwa',\n",
       "  '#po :: waj',\n",
       "  '#po :: aja',\n",
       "  '#po :: ja#',\n",
       "  'pou :: #pʊd',\n",
       "  'pou :: pʊdʁ',\n",
       "  'pou :: ʊdʁw',\n",
       "  'pou :: dʁwa',\n",
       "  'pou :: ʁwaj',\n",
       "  'pou :: waja',\n",
       "  'pou :: aja#',\n",
       "  'pou :: #pʊ',\n",
       "  'pou :: pʊd',\n",
       "  'pou :: ʊdʁ',\n",
       "  'pou :: dʁw',\n",
       "  'pou :: ʁwa',\n",
       "  'pou :: waj',\n",
       "  'pou :: aja',\n",
       "  'pou :: ja#',\n",
       "  'oud :: #pʊd',\n",
       "  'oud :: pʊdʁ',\n",
       "  'oud :: ʊdʁw',\n",
       "  'oud :: dʁwa',\n",
       "  'oud :: ʁwaj',\n",
       "  'oud :: waja',\n",
       "  'oud :: aja#',\n",
       "  'oud :: #pʊ',\n",
       "  'oud :: pʊd',\n",
       "  'oud :: ʊdʁ',\n",
       "  'oud :: dʁw',\n",
       "  'oud :: ʁwa',\n",
       "  'oud :: waj',\n",
       "  'oud :: aja',\n",
       "  'oud :: ja#',\n",
       "  'udr :: #pʊd',\n",
       "  'udr :: pʊdʁ',\n",
       "  'udr :: ʊdʁw',\n",
       "  'udr :: dʁwa',\n",
       "  'udr :: ʁwaj',\n",
       "  'udr :: waja',\n",
       "  'udr :: aja#',\n",
       "  'udr :: #pʊ',\n",
       "  'udr :: pʊd',\n",
       "  'udr :: ʊdʁ',\n",
       "  'udr :: dʁw',\n",
       "  'udr :: ʁwa',\n",
       "  'udr :: waj',\n",
       "  'udr :: aja',\n",
       "  'udr :: ja#',\n",
       "  'dro :: #pʊd',\n",
       "  'dro :: pʊdʁ',\n",
       "  'dro :: ʊdʁw',\n",
       "  'dro :: dʁwa',\n",
       "  'dro :: ʁwaj',\n",
       "  'dro :: waja',\n",
       "  'dro :: aja#',\n",
       "  'dro :: #pʊ',\n",
       "  'dro :: pʊd',\n",
       "  'dro :: ʊdʁ',\n",
       "  'dro :: dʁw',\n",
       "  'dro :: ʁwa',\n",
       "  'dro :: waj',\n",
       "  'dro :: aja',\n",
       "  'dro :: ja#',\n",
       "  'roy :: #pʊd',\n",
       "  'roy :: pʊdʁ',\n",
       "  'roy :: ʊdʁw',\n",
       "  'roy :: dʁwa',\n",
       "  'roy :: ʁwaj',\n",
       "  'roy :: waja',\n",
       "  'roy :: aja#',\n",
       "  'roy :: #pʊ',\n",
       "  'roy :: pʊd',\n",
       "  'roy :: ʊdʁ',\n",
       "  'roy :: dʁw',\n",
       "  'roy :: ʁwa',\n",
       "  'roy :: waj',\n",
       "  'roy :: aja',\n",
       "  'roy :: ja#',\n",
       "  'oya :: #pʊd',\n",
       "  'oya :: pʊdʁ',\n",
       "  'oya :: ʊdʁw',\n",
       "  'oya :: dʁwa',\n",
       "  'oya :: ʁwaj',\n",
       "  'oya :: waja',\n",
       "  'oya :: aja#',\n",
       "  'oya :: #pʊ',\n",
       "  'oya :: pʊd',\n",
       "  'oya :: ʊdʁ',\n",
       "  'oya :: dʁw',\n",
       "  'oya :: ʁwa',\n",
       "  'oya :: waj',\n",
       "  'oya :: aja',\n",
       "  'oya :: ja#',\n",
       "  'yai :: #pʊd',\n",
       "  'yai :: pʊdʁ',\n",
       "  'yai :: ʊdʁw',\n",
       "  'yai :: dʁwa',\n",
       "  'yai :: ʁwaj',\n",
       "  'yai :: waja',\n",
       "  'yai :: aja#',\n",
       "  'yai :: #pʊ',\n",
       "  'yai :: pʊd',\n",
       "  'yai :: ʊdʁ',\n",
       "  'yai :: dʁw',\n",
       "  'yai :: ʁwa',\n",
       "  'yai :: waj',\n",
       "  'yai :: aja',\n",
       "  'yai :: ja#',\n",
       "  'ais :: #pʊd',\n",
       "  'ais :: pʊdʁ',\n",
       "  'ais :: ʊdʁw',\n",
       "  'ais :: dʁwa',\n",
       "  'ais :: ʁwaj',\n",
       "  'ais :: waja',\n",
       "  'ais :: aja#',\n",
       "  'ais :: #pʊ',\n",
       "  'ais :: pʊd',\n",
       "  'ais :: ʊdʁ',\n",
       "  'ais :: dʁw',\n",
       "  'ais :: ʁwa',\n",
       "  'ais :: waj',\n",
       "  'ais :: aja',\n",
       "  'ais :: ja#',\n",
       "  'is# :: #pʊd',\n",
       "  'is# :: pʊdʁ',\n",
       "  'is# :: ʊdʁw',\n",
       "  'is# :: dʁwa',\n",
       "  'is# :: ʁwaj',\n",
       "  'is# :: waja',\n",
       "  'is# :: aja#',\n",
       "  'is# :: #pʊ',\n",
       "  'is# :: pʊd',\n",
       "  'is# :: ʊdʁ',\n",
       "  'is# :: dʁw',\n",
       "  'is# :: ʁwa',\n",
       "  'is# :: waj',\n",
       "  'is# :: aja',\n",
       "  'is# :: ja#']]"
      ]
     },
     "execution_count": 44,
     "metadata": {},
     "output_type": "execute_result"
    }
   ],
   "source": [
    "## random sampling\n",
    "import random\n",
    "random.sample(paired_terms, 1)"
   ]
  },
  {
   "cell_type": "code",
   "execution_count": 45,
   "id": "71f99e7f-7bd9-4699-a430-75b8992e5d89",
   "metadata": {},
   "outputs": [
    {
     "name": "stdout",
     "output_type": "stream",
     "text": [
      "4561\n"
     ]
    }
   ],
   "source": [
    "## number of sentences\n",
    "print(len(paired_terms))"
   ]
  },
  {
   "cell_type": "code",
   "execution_count": 46,
   "id": "070dc15d-e458-41b7-a042-48ef3439a8aa",
   "metadata": {},
   "outputs": [
    {
     "data": {
      "text/plain": [
       "1012671"
      ]
     },
     "execution_count": 46,
     "metadata": {},
     "output_type": "execute_result"
    }
   ],
   "source": [
    "## total number of units\n",
    "sum(map(len, paired_terms))"
   ]
  },
  {
   "cell_type": "code",
   "execution_count": 47,
   "id": "8830b5a7-77ff-418d-875d-763583142906",
   "metadata": {},
   "outputs": [
    {
     "data": {
      "text/html": [
       "<div>\n",
       "<style scoped>\n",
       "    .dataframe tbody tr th:only-of-type {\n",
       "        vertical-align: middle;\n",
       "    }\n",
       "\n",
       "    .dataframe tbody tr th {\n",
       "        vertical-align: top;\n",
       "    }\n",
       "\n",
       "    .dataframe thead th {\n",
       "        text-align: right;\n",
       "    }\n",
       "</style>\n",
       "<table border=\"1\" class=\"dataframe\">\n",
       "  <thead>\n",
       "    <tr style=\"text-align: right;\">\n",
       "      <th></th>\n",
       "      <th>sp_word</th>\n",
       "      <th>sn_word</th>\n",
       "      <th>paired_term</th>\n",
       "    </tr>\n",
       "  </thead>\n",
       "  <tbody>\n",
       "    <tr>\n",
       "      <th>98362</th>\n",
       "      <td>#entendrai#</td>\n",
       "      <td>#ɑ̃tɑ̃dʁa#</td>\n",
       "      <td>[#ent :: #ɑ̃t, #ent :: ɑ̃tɑ, #ent :: ̃tɑ̃, #en...</td>\n",
       "    </tr>\n",
       "    <tr>\n",
       "      <th>193951</th>\n",
       "      <td>#recouvrîtes#</td>\n",
       "      <td>#ʁəkʊvʁɪt#</td>\n",
       "      <td>[#rec :: #ʁək, #rec :: ʁəkʊ, #rec :: əkʊv, #re...</td>\n",
       "    </tr>\n",
       "    <tr>\n",
       "      <th>239393</th>\n",
       "      <td>#urinais#</td>\n",
       "      <td>#yʁɪna#</td>\n",
       "      <td>[#uri :: #yʁɪ, #uri :: yʁɪn, #uri :: ʁɪna, #ur...</td>\n",
       "    </tr>\n",
       "    <tr>\n",
       "      <th>173084</th>\n",
       "      <td>#picard#</td>\n",
       "      <td>#pɪkaʁ#</td>\n",
       "      <td>[#pic :: #pɪk, #pic :: pɪka, #pic :: ɪkaʁ, #pi...</td>\n",
       "    </tr>\n",
       "    <tr>\n",
       "      <th>95479</th>\n",
       "      <td>#enfournais#</td>\n",
       "      <td>#ɑ̃fʊʁna#</td>\n",
       "      <td>[#enf :: #ɑ̃f, #enf :: ɑ̃fʊ, #enf :: ̃fʊʁ, #en...</td>\n",
       "    </tr>\n",
       "    <tr>\n",
       "      <th>...</th>\n",
       "      <td>...</td>\n",
       "      <td>...</td>\n",
       "      <td>...</td>\n",
       "    </tr>\n",
       "    <tr>\n",
       "      <th>13389</th>\n",
       "      <td>#appuyé#</td>\n",
       "      <td>#apɥije#</td>\n",
       "      <td>[#app :: #apɥ, #app :: apɥi, #app :: pɥij, #ap...</td>\n",
       "    </tr>\n",
       "    <tr>\n",
       "      <th>16932</th>\n",
       "      <td>#attelleraient#</td>\n",
       "      <td>#atəlaʁa#</td>\n",
       "      <td>[#att :: #atə, #att :: atəl, #att :: təla, #at...</td>\n",
       "    </tr>\n",
       "    <tr>\n",
       "      <th>207292</th>\n",
       "      <td>#revendait#</td>\n",
       "      <td>#ʁəvɑ̃da#</td>\n",
       "      <td>[#rev :: #ʁəv, #rev :: ʁəvɑ, #rev :: əvɑ̃, #re...</td>\n",
       "    </tr>\n",
       "    <tr>\n",
       "      <th>158697</th>\n",
       "      <td>#nécrosais#</td>\n",
       "      <td>#nekʁoza#</td>\n",
       "      <td>[#néc :: #nek, #néc :: nekʁ, #néc :: ekʁo, #né...</td>\n",
       "    </tr>\n",
       "    <tr>\n",
       "      <th>44429</th>\n",
       "      <td>#collier#</td>\n",
       "      <td>#kɑɔ̯lje#</td>\n",
       "      <td>[#col :: #kɑɔ, #col :: kɑɔ̯, #col :: ɑɔ̯l, #co...</td>\n",
       "    </tr>\n",
       "  </tbody>\n",
       "</table>\n",
       "<p>4561 rows × 3 columns</p>\n",
       "</div>"
      ],
      "text/plain": [
       "                sp_word     sn_word  \\\n",
       "98362       #entendrai#  #ɑ̃tɑ̃dʁa#   \n",
       "193951    #recouvrîtes#  #ʁəkʊvʁɪt#   \n",
       "239393        #urinais#     #yʁɪna#   \n",
       "173084         #picard#     #pɪkaʁ#   \n",
       "95479      #enfournais#   #ɑ̃fʊʁna#   \n",
       "...                 ...         ...   \n",
       "13389          #appuyé#    #apɥije#   \n",
       "16932   #attelleraient#   #atəlaʁa#   \n",
       "207292      #revendait#   #ʁəvɑ̃da#   \n",
       "158697      #nécrosais#   #nekʁoza#   \n",
       "44429         #collier#   #kɑɔ̯lje#   \n",
       "\n",
       "                                              paired_term  \n",
       "98362   [#ent :: #ɑ̃t, #ent :: ɑ̃tɑ, #ent :: ̃tɑ̃, #en...  \n",
       "193951  [#rec :: #ʁək, #rec :: ʁəkʊ, #rec :: əkʊv, #re...  \n",
       "239393  [#uri :: #yʁɪ, #uri :: yʁɪn, #uri :: ʁɪna, #ur...  \n",
       "173084  [#pic :: #pɪk, #pic :: pɪka, #pic :: ɪkaʁ, #pi...  \n",
       "95479   [#enf :: #ɑ̃f, #enf :: ɑ̃fʊ, #enf :: ̃fʊʁ, #en...  \n",
       "...                                                   ...  \n",
       "13389   [#app :: #apɥ, #app :: apɥi, #app :: pɥij, #ap...  \n",
       "16932   [#att :: #atə, #att :: atəl, #att :: təla, #at...  \n",
       "207292  [#rev :: #ʁəv, #rev :: ʁəvɑ, #rev :: əvɑ̃, #re...  \n",
       "158697  [#néc :: #nek, #néc :: nekʁ, #néc :: ekʁo, #né...  \n",
       "44429   [#col :: #kɑɔ, #col :: kɑɔ̯, #col :: ɑɔ̯l, #co...  \n",
       "\n",
       "[4561 rows x 3 columns]"
      ]
     },
     "execution_count": 47,
     "metadata": {},
     "output_type": "execute_result"
    }
   ],
   "source": [
    "## add pair_token column\n",
    "#df.loc[:,'paired_token'] = paired_tokens # Causes error\n",
    "df['paired_term'] = paired_terms\n",
    "df[ ['sp_word', 'sn_word', 'paired_term'] ]"
   ]
  },
  {
   "cell_type": "markdown",
   "id": "0f26e250-4848-4002-bf7c-0b475c67e6c8",
   "metadata": {},
   "source": [
    "# LDA/HDP の実行"
   ]
  },
  {
   "cell_type": "code",
   "execution_count": 48,
   "id": "4a8b7c93-6ecb-402c-b1da-df482c7df1e9",
   "metadata": {},
   "outputs": [
    {
     "name": "stdout",
     "output_type": "stream",
     "text": [
      "Dictionary<674210 unique tokens: ['#en :: #ɑ̃', '#en :: #ɑ̃t', '#en :: dʁa', '#en :: dʁa#', '#en :: tɑ̃']...>\n"
     ]
    }
   ],
   "source": [
    "## build DTM\n",
    "from gensim.corpora.dictionary import Dictionary\n",
    "\n",
    "pair_bots = df['paired_term']\n",
    "pair_diction = Dictionary(pair_bots)\n",
    "\n",
    "## check\n",
    "print(pair_diction) # print(..) is required for inspection"
   ]
  },
  {
   "cell_type": "code",
   "execution_count": 49,
   "id": "71500974-f4e3-4657-8bc2-616459c3bba9",
   "metadata": {},
   "outputs": [
    {
     "name": "stdout",
     "output_type": "stream",
     "text": [
      "min freq filter: 3\n",
      "abuse filter: 0.1\n",
      "term filtering applied\n",
      "Dictionary<57949 unique tokens: ['#en :: #ɑ̃', '#en :: #ɑ̃t', '#en :: ɑ̃d', '#en :: ɑ̃t', '#en :: ʁa#']...>\n"
     ]
    }
   ],
   "source": [
    "## filter DTM\n",
    "import copy\n",
    "pair_diction_copy = copy.deepcopy(pair_diction)\n",
    "\n",
    "if apply_term_freq_filtering and apply_term_abuse_filtering:\n",
    "    print(f\"min freq filter: {term_minfreq}\")\n",
    "    print(f\"abuse filter: {term_abuse_threshold}\")\n",
    "    print(f\"term filtering applied\")\n",
    "    pair_diction_copy.filter_extremes(no_below = term_minfreq, no_above = term_abuse_threshold)\n",
    "    pair_diction = pair_diction_copy\n",
    "elif apply_term_freq_filtering:\n",
    "    print(f\"min freq filter: {term_minfreq}\")\n",
    "    print(f\"term filtering applied\")\n",
    "    pair_diction_copy.filter_extremes(no_below = term_minfreq)\n",
    "    pair_diction = pair_diction_copy\n",
    "elif apply_term_abuse_filtering:\n",
    "    print(f\"abuse filter: {term_abuse_threshold}\")\n",
    "    print(f\"term filtering applied\")\n",
    "    pair_diction_copy.filter_extremes(no_above = term_abuse_threshold)\n",
    "    pair_diction = pair_diction_copy\n",
    "else:\n",
    "    print(f\"term filtering not applied\")\n",
    "## check\n",
    "print(pair_diction)"
   ]
  },
  {
   "cell_type": "code",
   "execution_count": 50,
   "id": "529b2347-b684-42e1-84c1-9a89a74508e1",
   "metadata": {},
   "outputs": [
    {
     "name": "stdout",
     "output_type": "stream",
     "text": [
      "Building pair corpus ...\n",
      "Number of documents: 4561\n",
      "7 empty docs are removed out from pair_corpus\n"
     ]
    }
   ],
   "source": [
    "## build corpus\n",
    "print(f\"Building pair corpus ...\")\n",
    "pair_corpus = [ pair_diction.doc2bow(bot) for bot in pair_bots ]\n",
    "print(f\"Number of documents: {len(pair_corpus)}\")\n",
    "\n",
    "## sanitize corpus for HDP model\n",
    "size0 = len(pair_corpus)\n",
    "pair_corpus = [ doc for doc in pair_corpus if len(doc) > 0 ]\n",
    "size1 = len(pair_corpus)\n",
    "print(f\"{size0 - size1} empty docs are removed out from pair_corpus\")\n",
    "check = False\n",
    "if check:\n",
    "    print(random.sample(pair_corpus, 3))"
   ]
  },
  {
   "cell_type": "code",
   "execution_count": 51,
   "id": "0c7d5504-4b80-4cf6-affb-c065fe237933",
   "metadata": {},
   "outputs": [
    {
     "name": "stdout",
     "output_type": "stream",
     "text": [
      "Building an HDP model with n_topics limit: 45\n",
      "<gensim.models.hdpmodel.HdpModel object at 0x105b3e510>\n"
     ]
    }
   ],
   "source": [
    "## build model: takes quite a while when complex terms are selected\n",
    "import gensim\n",
    "if use_HDP:\n",
    "    print(f\"Building an HDP model with n_topics limit: {max_n_topics}\")\n",
    "    ## the outcome of the following needs to be checked to avoid \"Not all rows sum to 1 error\".\n",
    "    pair_hdp = gensim.models.HdpModel(pair_corpus,\n",
    "                                      id2word = pair_diction, random_state = 1, T = max_n_topics)\n",
    "    print(pair_hdp)\n",
    "    pair_lda = pair_hdp.hdp_to_lda()\n",
    "else:\n",
    "    print(f\"Building an LDA model with n_topics: {n_topics}\")\n",
    "    pair_lda = gensim.models.LdaModel(pair_corpus,\n",
    "                                      id2word = pair_diction, random_state = 1, num_topics = n_topics, alpha = 'auto')\n",
    "    ## check results\n",
    "    print(pair_lda) # print(..)しないと中身が見れない"
   ]
  },
  {
   "cell_type": "markdown",
   "id": "cd30fdd7",
   "metadata": {},
   "source": [
    "# pyLDAvis の実行"
   ]
  },
  {
   "cell_type": "code",
   "execution_count": 55,
   "id": "ca972ab6",
   "metadata": {},
   "outputs": [
    {
     "name": "stdout",
     "output_type": "stream",
     "text": [
      "Collecting pyLDAvis\n",
      "  Obtaining dependency information for pyLDAvis from https://files.pythonhosted.org/packages/6b/5a/66364c6799f2362bfb9b7100bc1ce6ffcdfe7f17e8d2e85a591bfe427643/pyLDAvis-3.4.1-py3-none-any.whl.metadata\n",
      "  Downloading pyLDAvis-3.4.1-py3-none-any.whl.metadata (4.2 kB)\n",
      "Requirement already satisfied: numpy>=1.24.2 in /Users/kowk/anaconda3/lib/python3.11/site-packages (from pyLDAvis) (1.26.4)\n",
      "Requirement already satisfied: scipy in /Users/kowk/anaconda3/lib/python3.11/site-packages (from pyLDAvis) (1.13.1)\n",
      "Requirement already satisfied: pandas>=2.0.0 in /Users/kowk/anaconda3/lib/python3.11/site-packages (from pyLDAvis) (2.2.2)\n",
      "Requirement already satisfied: joblib>=1.2.0 in /Users/kowk/anaconda3/lib/python3.11/site-packages (from pyLDAvis) (1.4.2)\n",
      "Requirement already satisfied: jinja2 in /Users/kowk/anaconda3/lib/python3.11/site-packages (from pyLDAvis) (3.1.4)\n",
      "Requirement already satisfied: numexpr in /Users/kowk/anaconda3/lib/python3.11/site-packages (from pyLDAvis) (2.8.7)\n",
      "Collecting funcy (from pyLDAvis)\n",
      "  Obtaining dependency information for funcy from https://files.pythonhosted.org/packages/d5/08/c2409cb01d5368dcfedcbaffa7d044cc8957d57a9d0855244a5eb4709d30/funcy-2.0-py2.py3-none-any.whl.metadata\n",
      "  Downloading funcy-2.0-py2.py3-none-any.whl.metadata (5.9 kB)\n",
      "Requirement already satisfied: scikit-learn>=1.0.0 in /Users/kowk/anaconda3/lib/python3.11/site-packages (from pyLDAvis) (1.5.1)\n",
      "Requirement already satisfied: gensim in /Users/kowk/anaconda3/lib/python3.11/site-packages (from pyLDAvis) (4.3.3)\n",
      "Requirement already satisfied: setuptools in /Users/kowk/anaconda3/lib/python3.11/site-packages (from pyLDAvis) (68.0.0)\n",
      "Requirement already satisfied: python-dateutil>=2.8.2 in /Users/kowk/anaconda3/lib/python3.11/site-packages (from pandas>=2.0.0->pyLDAvis) (2.9.0.post0)\n",
      "Requirement already satisfied: pytz>=2020.1 in /Users/kowk/anaconda3/lib/python3.11/site-packages (from pandas>=2.0.0->pyLDAvis) (2024.1)\n",
      "Requirement already satisfied: tzdata>=2022.7 in /Users/kowk/anaconda3/lib/python3.11/site-packages (from pandas>=2.0.0->pyLDAvis) (2023.3)\n",
      "Requirement already satisfied: threadpoolctl>=3.1.0 in /Users/kowk/anaconda3/lib/python3.11/site-packages (from scikit-learn>=1.0.0->pyLDAvis) (3.5.0)\n",
      "Requirement already satisfied: smart-open>=1.8.1 in /Users/kowk/anaconda3/lib/python3.11/site-packages (from gensim->pyLDAvis) (5.2.1)\n",
      "Requirement already satisfied: MarkupSafe>=2.0 in /Users/kowk/anaconda3/lib/python3.11/site-packages (from jinja2->pyLDAvis) (2.1.3)\n",
      "Requirement already satisfied: six>=1.5 in /Users/kowk/anaconda3/lib/python3.11/site-packages (from python-dateutil>=2.8.2->pandas>=2.0.0->pyLDAvis) (1.16.0)\n",
      "Using cached pyLDAvis-3.4.1-py3-none-any.whl (2.6 MB)\n",
      "Using cached funcy-2.0-py2.py3-none-any.whl (30 kB)\n",
      "Installing collected packages: funcy, pyLDAvis\n",
      "Successfully installed funcy-2.0 pyLDAvis-3.4.1\n",
      "Channels:\n",
      " - defaults\n",
      "Platform: osx-arm64\n",
      "Collecting package metadata (repodata.json): done\n",
      "Solving environment: done\n",
      "\n",
      "# All requested packages already installed.\n",
      "\n"
     ]
    }
   ],
   "source": [
    "##!conda install pyLDAvis\n",
    "#!pip install pyLDAvis\n",
    "#!conda update conda -y"
   ]
  },
  {
   "cell_type": "code",
   "execution_count": 56,
   "id": "c0b3b4f1-4b15-44b8-8bcc-76a2f6eb69fe",
   "metadata": {
    "scrolled": true
   },
   "outputs": [
    {
     "data": {
      "text/html": [
       "\n",
       "<link rel=\"stylesheet\" type=\"text/css\" href=\"https://cdn.jsdelivr.net/gh/bmabey/pyLDAvis@3.4.0/pyLDAvis/js/ldavis.v1.0.0.css\">\n",
       "\n",
       "\n",
       "<div id=\"ldavis_el3167113311937888974935706\" style=\"background-color:white;\"></div>\n",
       "<script type=\"text/javascript\">\n",
       "\n",
       "var ldavis_el3167113311937888974935706_data = {\"mdsDat\": {\"x\": [0.06753409898137532, 0.06263230879650702, 0.03387535019263515, -0.03755131054170766, 0.03482828893590277, -0.030106746402696952, -0.0381804843713535, 0.012307868961792595, 0.015342085833574654, 0.027924164106195744, 0.028016196623217075, -0.06837467947511534, 0.010730445024198548, -0.02432915832311062, 0.022852478326635936, -0.02342858636819923, 0.014996804083032545, -0.0005798526118669077, 0.04246387301525095, -0.019698467629313928, 0.007836856900024086, 0.00994641752116047, -0.01628224722016376, 0.029009165240914812, -0.018461962732871973, 0.010925526782057458, -0.010723945150708784, -0.011255458676097063, -0.014311373777558024, -0.010450241314355744, 0.009165038076847713, 0.029411819090898537, -0.02821331213538389, -0.014553248640164222, -0.017925546929208384, 0.019501269969019144, 0.0022723563238287977, -0.013578484815453675, -0.019188424255077663, -0.01028118831515124, -0.015645714938247558, -0.012840595525286838, -0.019779139726440378, -0.008911473330084302, -0.00692076957945085], \"y\": [0.050350457727201405, -0.0884152415823028, -0.028569385996503906, 0.024344335284084005, -0.030151776563996195, 0.03520681362851377, -0.07551888597825086, 0.00766831387553707, 0.01896883038839673, 0.025054104959647022, 0.013706611081767043, -0.00184843586014426, -0.020734888241625563, 0.008249456580113473, 0.02107070577638179, 0.016646972080919708, 0.019434202367067856, -0.011286423191110725, 0.013848821412352696, 0.027134318153017624, 0.009141969957078468, 0.004357571728158039, 0.007166344421928642, 0.007712623670393851, 0.015216381789733497, -0.0037656249969618416, -0.008161199169582274, -0.017273886691617047, 0.013844206654204215, -0.007931692022380444, 0.005603073163708156, 0.012678315138723811, -0.023690035287099502, 0.011499309229611301, -5.720730539936608e-05, 0.003820922173902666, -0.001459532457437871, 0.003553539463486994, 0.0018797512773576467, -0.04103142575814579, -0.015290720916641142, 0.0016779873535437678, 0.0012427783431921016, 0.0024502025866905168, -0.008342558247513406], \"topics\": [1, 2, 3, 4, 5, 6, 7, 8, 9, 10, 11, 12, 13, 14, 15, 16, 17, 18, 19, 20, 21, 22, 23, 24, 25, 26, 27, 28, 29, 30, 31, 32, 33, 34, 35, 36, 37, 38, 39, 40, 41, 42, 43, 44, 45], \"cluster\": [1, 1, 1, 1, 1, 1, 1, 1, 1, 1, 1, 1, 1, 1, 1, 1, 1, 1, 1, 1, 1, 1, 1, 1, 1, 1, 1, 1, 1, 1, 1, 1, 1, 1, 1, 1, 1, 1, 1, 1, 1, 1, 1, 1, 1], \"Freq\": [6.272692665374613, 5.5106822197964425, 4.690132260721429, 3.2023951037581404, 2.9835370762081292, 3.1109174189080506, 2.9390656464783227, 3.027703403244005, 3.03940545144747, 2.7520103724580984, 2.807876868913201, 3.2070602248846365, 2.5368124923988216, 2.7081744649452193, 2.4321571662568884, 2.5687898562617724, 2.276812611186988, 2.1365982021280336, 2.29070910398959, 2.3038277308331736, 2.05121539483759, 2.155995747739999, 2.047215997431508, 1.9867099746642334, 2.038643794475557, 1.7241189179010907, 1.5625104103203475, 1.6953650626345054, 1.708570383680873, 1.4286211772262591, 1.5737137148843432, 1.592450161185834, 1.5044542458318435, 1.5100069020685705, 1.5258928948013466, 1.469477726908374, 1.4247122314583345, 1.3469885087411084, 1.169052161015045, 1.2996464342132406, 0.979621862142985, 1.1665323382627288, 0.9010433929891393, 0.6784690599920729, 0.6616111644000501]}, \"tinfo\": {\"Term\": [\"rai :: \\u0259\\u0281a#\", \"era :: \\u0281a#\", \"ons# :: \\u0169\\u032f#\", \"rai :: \\u0281a#\", \"era :: \\u0259\\u0281a#\", \"ons# :: \\u00f5\\u0169\\u032f\", \"erai :: \\u0281a#\", \"ns# :: \\u0169\\u032f#\", \"erai :: \\u0259\\u0281a#\", \"rai :: \\u0259\\u0281a\", \"ns# :: \\u00f5\\u0169\\u032f\", \"ons :: \\u00f5\\u0169\\u032f\", \"ons :: \\u00f5\\u0169\\u032f#\", \"ons :: \\u0169\\u032f#\", \"ons# :: \\u00f5\\u0169\\u032f#\", \"era :: \\u0259\\u0281a\", \"ns# :: \\u00f5\\u0169\\u032f#\", \"erai :: \\u0259\\u0281a\", \"iez :: je#\", \"ez# :: je#\", \"ions :: j\\u00f5\\u0169\\u032f\", \"iez# :: je#\", \"ion :: \\u00f5\\u0169\\u032f#\", \"ons# :: j\\u00f5\\u0169\\u032f\", \"ons :: j\\u00f5\\u0169\", \"ns# :: j\\u00f5\\u0169\\u032f\", \"ion :: j\\u00f5\\u0169\\u032f\", \"ion :: \\u00f5\\u0169\\u032f\", \"ions :: j\\u00f5\\u0169\", \"ons :: j\\u00f5\\u0169\\u032f\", \"che :: \\u0281a#\", \"cher :: \\u0259\\u0281a\", \"che :: \\u0259\\u0281a\", \"che :: \\u0259\\u0281a#\", \"her :: \\u0281a#\", \"cher :: \\u0281a#\", \"lera :: j\\u0259\\u0281\", \"ait# :: \\u0283\\u0259\\u0281a\", \"her :: \\u0283\\u0259\\u0281a\", \"rai :: \\u0283\\u0259\\u0281a\", \"lera :: j\\u0259\\u0281a\", \"ller :: j\\u0259\\u0281\", \"era :: \\u0283\\u0259\\u0281a\", \"her :: \\u0259\\u0281a#\", \"lle :: j\\u0259\\u0281\", \"her :: \\u0259\\u0281a\", \"hera :: \\u0283\\u0259\\u0281a\", \"cher :: \\u0283\\u0259\\u0281a\", \"erai :: \\u0283\\u0259\\u0281\", \"hera :: \\u0259\\u0281a\", \"era :: \\u0283\\u0259\\u0281\", \"hera :: \\u0281a#\", \"erai :: \\u0283\\u0259\\u0281a\", \"che :: \\u0283\\u0259\\u0281a\", \"ille :: j\\u0259\\u0281\", \"hera :: \\u0259\\u0281a#\", \"ler :: j\\u0259\\u0281a\", \"ill :: j\\u0259\\u0281\", \"ille :: \\u0281a#\", \"rai :: \\u0283\\u0259\\u0281\", \"cher :: \\u0259\\u0281a#\", \"ler :: j\\u0259\\u0281\", \"era :: j\\u0259\\u0281\", \"era :: \\u0281a#\", \"erai :: \\u0281a#\", \"rai :: \\u0259\\u0281a#\", \"rai :: \\u0281a#\", \"rai :: \\u0259\\u0281a\", \"era :: \\u0259\\u0281a#\", \"erai :: \\u0259\\u0281a#\", \"erai :: \\u0259\\u0281a\", \"era :: \\u0259\\u0281a\", \"rais :: \\u0281a#\", \"ais :: \\u0259\\u0281a#\", \"is# :: \\u0281a#\", \"ais :: \\u0281a#\", \"ais# :: \\u0281a#\", \"ais# :: \\u0259\\u0281a#\", \"ais# :: \\u0259\\u0281a\", \"ant :: \\u00e6\\u0303#\", \"is# :: \\u0259\\u0281a\", \"ass :: asa\", \"rais :: \\u0259\\u0281a#\", \"#d\\u00e9 :: #de\", \"is# :: \\u0259\\u0281a#\", \"ser :: s\\u0259\\u0281e\", \"rez :: s\\u0259\\u0281e\", \"isse :: t\\u0361s\", \"#\\u00e9c :: ka\\u0281\", \"sse :: s\\u0259\\u0281\", \"tera :: at\\u0259\", \"ser :: s\\u0259\\u0281\", \"ach :: \\u0283\\u0251\\u0254\\u032f\", \"rez :: s\\u0259\\u0281\", \"seri :: \\u0259\\u0281j\", \"ez# :: as\\u0259\", \"rez# :: as\\u0259\", \"rge :: #ema\", \"ez# :: s\\u0259\\u0281\", \"ere :: s\\u0259\\u0281\", \"ser :: \\u0281je#\", \"tera :: \\u0259\\u0281\\u0254#\", \"ter :: t\\u0259\\u0281\\u0254\", \"era :: t\\u0259\\u0281\\u0254\", \"tera :: \\u0281\\u0254#\", \"tera :: t\\u0259\\u0281\\u0254\", \"ser :: \\u0259\\u0281e\", \"att :: \\u0361s\\u026as\", \"ez# :: s\\u0259\\u0281e\", \"ras# :: t\\u0259\\u0281\\u0254\", \"ser :: \\u0281je\", \"ter :: \\u0259\\u0281\\u0254#\", \"rez :: as\\u0259\\u0281\", \"rez# :: s\\u0259\\u0281e\", \"sser :: \\u0259\\u0281\\u0254\", \"d\\u00e9p :: #de\", \"sser :: s\\u0259\\u0281\", \"tera :: \\u0259\\u0281\\u0254\", \"ter :: \\u0259\\u0281\\u0254\", \"#d\\u00e9p :: dep\", \"#d\\u00e9 :: dep\", \"d\\u00e9p :: dep\", \"d\\u00e9p :: #dep\", \"#d\\u00e9 :: #dep\", \"tera :: t\\u0259\\u0281\", \"era :: t\\u0259\\u0281\", \"#d\\u00e9p :: #de\", \"#d\\u00e9 :: #de\", \"era :: \\u0259\\u0281\\u0254\", \"era :: \\u0259\\u0281\\u0254#\", \"ere :: \\u0259\\u0281e#\", \"era :: \\u0281\\u0254#\", \"erez :: \\u0259\\u0281e#\", \"rez# :: \\u0259\\u0281e\", \"ez# :: \\u0259\\u0281e#\", \"rez :: \\u0281e#\", \"ere :: \\u0281e#\", \"erez :: \\u0259\\u0281e\", \"ez# :: \\u0281e#\", \"rez :: \\u0259\\u0281e\", \"rez :: \\u0259\\u0281e#\", \"rez# :: \\u0281e#\", \"erez :: \\u0281e#\", \"ez# :: \\u0259\\u0281e\", \"ter :: t\\u0259\\u0281\", \"ere :: \\u0259\\u0281e\", \"rez# :: \\u0259\\u0281e#\", \"ras :: \\u0259\\u0281\\u0254#\", \"eras :: \\u0259\\u0281\\u0254#\", \"eras :: \\u0281\\u0254#\", \"as# :: \\u0281\\u0254#\", \"ass :: as#\", \"sse :: as#\", \"asse :: as#\", \"era :: \\u0281a#\", \"rai :: \\u0281a#\", \"erai :: \\u0281a#\", \"era :: \\u0259\\u0281a#\", \"des :: a\\u0281d\", \"nas :: nas#\", \"nass :: nas#\", \"ard :: a\\u0281d#\", \"\\u00e9tr :: #et\\u0281\", \"ses :: nas\", \"ard :: \\u0281d#\", \"rdes :: a\\u0281d#\", \"#fin :: n\\u0251\\u0303\", \"asse :: nas#\", \"ont :: \\u00f5\\u0169\\u032ft\", \"enn :: et\\u0281a\", \"#pon :: \\u00f5\\u0169\\u032f\", \"arde :: a\\u0281d#\", \"sse :: nas\", \"des :: a\\u0281d#\", \"arde :: \\u0281d#\", \"tren :: t\\u0281an\", \"rdes :: a\\u0281d\", \"sse :: nas#\", \"\\u00e9tre :: t\\u0281an\", \"rde :: \\u0281d#\", \"rde :: a\\u0281d#\", \"asse :: nas\", \"ont :: \\u0169\\u032ft\", \"\\u00e9tr :: t\\u0281a\", \"#\\u00e9tr :: et\\u0281a\", \"hip :: \\u0251\\u0254\\u032ft\", \"ravi :: \\u0281av\", \"ass :: nas#\", \"sse :: i\\u0292a\", \"nass :: as#\", \"cont :: k\\u00f5\\u0169\", \"des :: \\u0281d#\", \"arde :: a\\u0281d\", \"nass :: nas\", \"ses# :: nas\", \"nas :: as#\", \"asse :: tas\", \"ses :: as#\", \"ass :: nas\", \"ass :: as#\", \"sse :: as#\", \"asse :: as#\", \"ses# :: as#\", \"es# :: as#\", \"sses :: as#\", \"nas :: nas\", \"ard :: a\\u0281d\", \"#en :: #\\u0251\\u0303\", \"ren :: a\\u0281#\", \"\\u00e8re :: a\\u0281#\", \"ent :: a\\u0281#\", \"era :: \\u0259\\u0281a\", \"erai :: \\u0259\\u0281a#\", \"rai :: \\u0259\\u0281a\", \"rai :: \\u0281a#\", \"ez# :: je#\", \"erai :: \\u0281a#\", \"era :: \\u0259\\u0281a#\", \"erai :: \\u0259\\u0281a\", \"iez# :: je#\", \"era :: \\u0281a#\", \"rai :: \\u0259\\u0281a#\", \"iez :: je#\", \"ent# :: a\\u0281#\", \"nt# :: a\\u0281#\", \"rai# :: \\u0281a#\", \"\\u00e8ren :: a\\u0281#\", \"ait# :: \\u0281a#\", \"sou :: s\\u028ap\", \"forc :: \\u0251\\u0254\\u032f\\u0281\", \"#d\\u00e9 :: f\\u0281ej\", \"#mu :: my\\u0292\", \"roch :: k\\u0281\\u0251\", \"prof :: \\u0254\\u032ff\", \"orce :: f\\u0251\\u0254\\u032f\", \"lis\\u00e9 :: \\u026aze\", \"roch :: k\\u0281\\u0251\\u0254\", \"tan :: t\\u00e6\\u0303\", \"ant :: ta#\", \"nass :: sje\", \"ssi :: sas\", \"is\\u00e9 :: l\\u026aze\", \"soup :: #as\", \"rof :: p\\u0281\\u0251\", \"accr :: #ak\\u0281\", \"#ass :: as\\u028ap\", \"sso :: #as\\u028a\", \"is\\u00e9s :: \\u026aze#\", \"forc :: f\\u0251\\u0254\", \"ass :: sasj\", \"rera :: \\u026a\\u0281\\u0259\", \"\\u00e9fo :: \\u0251\\u0254\\u032f\", \"uine :: k\\u026an\", \"ssie :: sas\", \"oup :: #as\\u028a\", \"oten :: \\u0251\\u0254\\u032f\", \"sso :: s\\u028ap\", \"#av :: va\\u0283\\u026a\", \"is\\u00e9 :: l\\u026az\", \"roc :: \\u0251\\u0254\\u032f\\u0283\", \"ant :: t\\u00e6\\u0303\", \"och :: \\u0281\\u0251\\u0254\\u032f\", \"ass :: asje\", \"iez :: sje#\", \"nass :: sje#\", \"ass :: je#\", \"ass :: sje#\", \"ssie :: asje\", \"#d\\u00e9c :: dek\\u028a\", \"ez# :: sje#\", \"iez :: asje\", \"iez# :: sje#\", \"ass :: sje\", \"iez# :: sje\", \"siez :: sje#\", \"iez :: sje\", \"iez :: asj\", \"assi :: asje\", \"ez# :: sje\", \"siez :: asj\", \"ssie :: asj\", \"ass :: asj\", \"ssie :: sje#\", \"ssi :: asj\", \"ssie :: je#\", \"sie :: sje#\", \"ssi :: je#\", \"assi :: je#\", \"siez :: sje\", \"sie :: sje\", \"ssi :: sje\", \"sie :: asje\", \"ssie :: sje\", \"siez :: je#\", \"#d\\u00e9 :: #de\", \"ez# :: je#\", \"iez :: je#\", \"iez# :: je#\", \"sie :: je#\", \"fl\\u00e9 :: efl\", \"empi :: \\u0303pje\", \"uera :: \\u0259\\u0281\\u0254#\", \"mpie :: #\\u0251\\u0303p\", \"err :: \\u0259\\u0281a#\", \"cer :: #sa\", \"\\u00e9chi :: \\u0281ef\", \"r\\u00e9f :: le\\u0283\", \"enai :: na#\", \"r\\u00e9f :: fle\", \"ite :: \\u0265it\", \"ent :: t\\u0259\\u0281\", \"pier :: \\u0303pje\", \"sser :: dese\", \"riez :: t\\u0281j\", \"des :: dese\", \"ient :: t\\u0259\\u0281\", \"empi :: pje\", \"pie :: \\u0251\\u0303p\", \"imac :: \\u0281\\u026am\", \"aien :: t\\u0259\\u0281\", \"ent# :: t\\u0259\\u0281\", \"\\u00e9fl :: efle\", \"raie :: t\\u0259\\u0281a\", \"\\u00e9chi :: \\u0281efl\", \"erre :: \\u0259\\u0281a\", \"l\\u00e9ch :: \\u0281efl\", \"four :: \\u0281m\\u026aj\", \"uite :: \\u0265it\", \"\\u00e9fl :: le\\u0283\", \"#emp :: pje\", \"ter :: \\u0259\\u0281a#\", \"era :: t\\u0259\\u0281a\", \"ter :: \\u0259\\u0281a\", \"ter :: t\\u0259\\u0281a\", \"tera :: t\\u0259\\u0281a\", \"rai :: t\\u0259\\u0281\", \"tera :: \\u0259\\u0281a#\", \"rai :: t\\u0259\\u0281a\", \"erai :: t\\u0259\\u0281a\", \"ent :: t\\u0259\\u0281a\", \"it\\u00e9 :: te#\", \"ter :: t\\u0259\\u0281\", \"erai :: t\\u0259\\u0281\", \"ter :: \\u0281a#\", \"tera :: \\u0259\\u0281a\", \"tera :: \\u0281a#\", \"des :: des\", \"rai :: \\u026a\\u0281a\", \"era :: t\\u0259\\u0281\", \"tera :: t\\u0259\\u0281\", \"rai :: \\u0281a#\", \"era :: \\u0259\\u0281a#\", \"rai :: \\u0259\\u0281a\", \"rai :: \\u0259\\u0281a#\", \"erai :: \\u0259\\u0281a\", \"era :: \\u0259\\u0281a\", \"erai :: \\u0259\\u0281a#\", \"erai :: \\u0281a#\", \"era :: \\u0281a#\", \"#d\\u00e9 :: #de\", \"ait# :: \\u0281a#\", \"era :: \\u0259\\u0281\\u0254#\", \"ez# :: \\u0281je#\", \"iez :: je#\", \"iez# :: je#\", \"ez# :: je#\", \"riez :: je#\", \"ons :: \\u00f5\\u0169\\u032f\", \"onne :: \\u0254\\u032fn#\", \"poig :: pwa\", \"\\u00e9pe :: \\u0169\\u032f#\", \"poig :: wa\\u0272\", \"#emp :: \\u0303pwa\", \"iez :: asj\", \"ign :: wa\\u0272\", \"ez# :: asje\", \"tas :: asje\", \"nes :: \\u0251\\u0254\\u032fn\", \"mpoi :: \\u0303pwa\", \"oign :: pwa\", \"poi :: wa\\u0272\", \"nnes :: \\u032fn#\", \"ssie :: asj\", \"ign :: #\\u0251\\u0303\", \"oig :: pwa\", \"assi :: asje\", \"ez# :: asj\", \"siez :: tas\", \"ssie :: asje\", \"nes# :: \\u0251\\u0254\\u032fn\", \"lla :: sje#\", \"nes# :: \\u0254\\u032fn#\", \"oig :: pwa\\u0272\", \"iez# :: asje\", \"es# :: \\u032fn#\", \"ign :: pwa\", \"iez :: asje\", \"ouc :: b\\u028a\\u0283a\", \"assi :: sje\", \"sie :: asj\", \"assi :: sje#\", \"siez :: asje\", \"iez# :: asj\", \"assi :: je#\", \"siez :: asj\", \"ass :: sje#\", \"sie :: asje\", \"ass :: asje\", \"ssie :: sje#\", \"ssie :: sje\", \"ssi :: asje\", \"ass :: je#\", \"ssi :: sje\", \"sie :: sje#\", \"sie :: sje\", \"ssi :: sje#\", \"sie :: je#\", \"iez :: sje#\", \"ssie :: je#\", \"siez :: je#\", \"iez# :: sje\", \"ez# :: sje#\", \"iez# :: sje#\", \"ssi :: je#\", \"assi :: asj\", \"ez# :: sje\", \"iez :: sje\", \"siez :: sje\", \"ez# :: je#\", \"iez# :: je#\", \"iez :: je#\", \"ions :: sj\\u00f5\\u0169\", \"ions :: sj\\u00f5\", \"ion :: sj\\u00f5\\u0169\", \"ons# :: sj\\u00f5\", \"ons :: sj\\u00f5\\u0169\", \"ons :: sj\\u00f5\", \"sio :: sj\\u00f5\\u0169\", \"ns# :: sj\\u00f5\", \"ons# :: asj\", \"\\u00e9bo :: #deb\", \"sio :: sj\\u00f5\", \"sion :: \\u0169\\u032f#\", \"sio :: j\\u00f5\\u0169\", \"ssi :: j\\u00f5\\u0169\\u032f\", \"ion :: sj\\u00f5\", \"sion :: asj\", \"ons :: asj\\u00f5\", \"ssio :: asj\", \"ons# :: sj\\u00f5\\u0169\", \"ssio :: asj\\u00f5\", \"sion :: j\\u00f5\\u0169\", \"ns# :: asj\\u00f5\", \"ns# :: sj\\u00f5\\u0169\", \"assi :: sj\\u00f5\", \"sion :: sj\\u00f5\\u0169\", \"ion :: asj\", \"sion :: \\u00f5\\u0169\\u032f#\", \"sion :: asj\\u00f5\", \"abi :: #ab\", \"viol :: vj\\u0251\\u0254\", \"ssio :: j\\u00f5\\u0169\", \"sion :: sj\\u00f5\", \"ions :: j\\u00f5\\u0169\\u032f\", \"ion :: \\u00f5\\u0169\\u032f#\", \"ions :: \\u00f5\\u0169\\u032f#\", \"ion :: \\u00f5\\u0169\\u032f\", \"ion :: j\\u00f5\\u0169\", \"ions :: \\u0169\\u032f#\", \"ions :: \\u00f5\\u0169\\u032f\", \"ion :: j\\u00f5\\u0169\\u032f\", \"ons :: j\\u00f5\\u0169\\u032f\", \"ons :: j\\u00f5\\u0169\", \"ions :: j\\u00f5\\u0169\", \"ion :: \\u0169\\u032f#\", \"ons# :: j\\u00f5\\u0169\\u032f\", \"rie :: \\u0259\\u0281je\", \"ns# :: j\\u00f5\\u0169\\u032f\", \"ons# :: j\\u00f5\\u0169\", \"ns# :: j\\u00f5\\u0169\", \"iez# :: \\u0259\\u0281je\", \"ons :: \\u00f5\\u0169\\u032f#\", \"ons# :: \\u0169\\u032f#\", \"ons# :: \\u00f5\\u0169\\u032f\", \"ns# :: \\u00f5\\u0169\\u032f\", \"ons :: \\u0169\\u032f#\", \"ons :: \\u00f5\\u0169\\u032f\", \"ns# :: \\u0169\\u032f#\", \"ons# :: \\u00f5\\u0169\\u032f#\", \"ns# :: \\u00f5\\u0169\\u032f#\", \"iez :: je#\", \"#d\\u00e9 :: #de\", \"iez# :: je#\", \"ez# :: je#\", \"eco :: #\\u0281\\u0259k\", \"vers :: va\\u0281\", \"mod :: \\u0254\\u032fd\", \"ique :: n\\u026ak\", \"iff :: kwa\", \"niq :: n\\u026ak\", \"oup :: las\", \"#pan :: pan\\u026a\", \"acas :: kas\", \"seco :: s\\u0259k\", \"que :: n\\u026ak\", \"cou :: k\\u028apl\", \"iqu :: n\\u026ak\", \"coup :: las\", \"ecou :: \\u0281\\u0259k\\u028a\", \"es# :: #de\\u0281\", \"gu\\u00e2t :: gat\", \"raca :: akas\", \"log :: l\\u0251\\u0254\\u032f\", \"reco :: \\u0281\\u0259k\", \"couv :: #\\u0281\\u0259k\", \"ass :: sa#\", \"#ri :: \\u0251\\u0254\\u032fl\", \"fra :: kas\", \"niqu :: n\\u026ak\", \"#ing :: \\u0129\\u032f\\u0292e\", \"pla :: \\u028apla\", \"frac :: f\\u0281ak\", \"acas :: #f\\u0281\", \"bou :: deb\", \"iqu :: an\\u026ak\", \"ass :: kas\", \"\\u00e9mon :: em\\u00f5\", \"sai :: asa\", \"#re :: #\\u0281\\u0259k\", \"\\u00e7ai :: sa#\", \"rec :: \\u0259k\\u028a\", \"lass :: las#\", \"se# :: las#\", \"lass :: as#\", \"#fr :: #f\\u0281a\", \"las :: las#\", \"sse :: las#\", \"eco :: \\u0281\\u0259k\", \"asse :: las#\", \"ass :: as#\", \"era :: \\u028aj\\u0259\", \"sse :: as#\", \"asse :: as#\", \"ass :: las#\", \"las :: las\", \"ass :: las\", \"lass :: las\", \"las :: as#\", \"asse :: las\", \"#d\\u00e9 :: #de\", \"sse :: las\", \"sen :: as#\", \"ssen :: as#\", \"#re :: #\\u0281\\u0259\", \"ais# :: \\u0281a#\", \"d\\u00e9c :: #dek\", \"sse# :: as#\", \"se# :: as#\", \"is# :: \\u0259\\u0281a#\", \"ent# :: as#\", \"rai :: \\u0281a#\", \"ais :: \\u0281a#\", \"es# :: \\u0251\\u0254\\u032f\", \"rai :: \\u0259\\u0281a#\", \"is# :: \\u0281a#\", \"sse :: \\u0281da\", \"sse :: das\", \"ass :: \\u0281da\", \"dass :: das\", \"d\\u00e9sa :: deza\", \"het :: ta#\", \"dass :: as#\", \"das :: \\u0281da\", \"#d\\u00e9s :: eza\", \"ulag :: \\u028ala\", \"sent :: das#\", \"ard :: as#\", \"ass :: \\u0281das\", \"dass :: das#\", \"ffl :: #af\", \"sse :: das#\", \"das :: das\", \"ass :: das\", \"ulag :: \\u028ala\\u0292\", \"das :: as#\", \"arda :: \\u0281da\", \"dass :: \\u0281das\", \"rdas :: das#\", \"#min :: #m\\u026an\", \"arda :: as#\", \"leu :: fl\\u0153\\u0281\", \"ffl :: l\\u0153\\u0281\", \"fleu :: l\\u0153\\u0281\", \"ffl :: fl\\u0153\", \"rdas :: \\u0281das\", \"rda :: a\\u0281da\", \"ass :: das#\", \"#d\\u00e9 :: eza\", \"#d\\u00e9s :: deza\", \"asse :: das\", \"asse :: das#\", \"das :: das#\", \"arda :: a\\u0281da\", \"#d\\u00e9s :: #dez\", \"sse :: a\\u0281da\", \"d\\u00e9s :: eza\", \"#\\u00e9ch :: #e\\u0283\", \"rai :: \\u026a\\u0281a#\", \"ira :: \\u026a\\u0281a#\", \"rai :: \\u0281a#\", \"d\\u00e9s :: #dez\", \"d\\u00e9s :: dez\", \"#d\\u00e9s :: dez\", \"ass :: as#\", \"asse :: as#\", \"sse :: as#\", \"#d\\u00e9 :: #dez\", \"ai# :: \\u0281a#\", \"#d\\u00e9s :: #de\", \"d\\u00e9s :: #de\", \"#d\\u00e9 :: #de\", \"#d\\u00e9 :: dez\", \"ira :: \\u026a\\u0281a\", \"ira :: \\u0281a#\", \"#en :: \\u0251\\u0303t\", \"#ent :: #\\u0251\\u0303t\", \"ach :: #\\u02bca\", \"ican :: \\u026akan\", \"#rec :: \\u0259\\u0283\\u0251\\u0303\", \"#ent :: #\\u0251\\u0303\", \"ent :: #\\u0251\\u0303t\", \"chan :: \\u0259\\u0283\\u0251\\u0303\", \"uadr :: kad\", \"qua :: ad\\u0281\", \"hac :: \\u02bca\\u0283\", \"ent :: \\u0303ta\", \"her :: \\u0283\\u0259\\u0281\\u0254\", \"aie :: d\\u0281a#\", \"#re :: \\u0283\\u0251\\u0303\", \"enta :: \\u0251\\u0303ta\", \"ent :: \\u0251\\u0303ta\", \"cha :: \\u0281\\u0259\\u0283\\u0251\", \"#fr :: f\\u0281\\u026a\", \"ons# :: at\\u00f5\", \"enta :: \\u0303ta\", \"nger :: \\u0303\\u0292\\u0259\\u0281\", \"ent :: \\u0251\\u0303t\", \"aba :: \\u0281ab\", \"nta :: \\u0251\\u0303ta\", \"#ent :: \\u0251\\u0303t\", \"nge :: \\u0251\\u0303\\u0292\", \"ica :: \\u026akan\", \"ite :: f\\u0281\\u026at\", \"#caf :: kafa\", \"era :: la\\u0281a\", \"ech :: \\u0259\\u0283\\u0251\", \"#en :: #\\u0251\\u0303t\", \"ent :: #\\u0251\\u0303\", \"#pos :: \\u0251\\u0254\\u032fs\", \"ent :: \\u0281a#\", \"han :: \\u0283\\u0251\\u0303\", \"nta :: \\u0251\\u0303t\", \"aie :: \\u0281a#\", \"ien :: \\u0281a#\", \"nta :: \\u0303ta\", \"ient :: \\u0281a#\", \"raie :: \\u0281a#\", \"ent# :: \\u0281a#\", \"nt# :: \\u0281a#\", \"aien :: \\u0281a#\", \"rai :: \\u0281a#\", \"ent# :: \\u0259\\u0281a\", \"#en :: #\\u0251\\u0303\", \"#re :: #\\u0281\\u0259\", \"tra :: t\\u0281a\", \"rai :: \\u0259\\u0281a#\", \"ent :: \\u0259\\u0281a#\", \"era :: \\u0281a#\", \"erai :: \\u0281a#\", \"era :: \\u0259\\u0281a\", \"erai :: \\u0259\\u0281a\", \"era :: \\u0259\\u0281a#\", \"rai :: \\u0259\\u0281a\", \"erai :: \\u0259\\u0281a#\", \"ns# :: \\u0169\\u032f#\", \"\\u00e9se :: #de\", \"d\\u00e9se :: #de\", \"\\u00e9se :: dez\", \"\\u00e9se :: #dez\", \"mbl :: \\u0251\\u0303b\", \"semb :: \\u0303bl\", \"erai :: ap\\u0259\", \"per :: \\u0259\\u0281a#\", \"rai :: ap\\u0259\", \"#d\\u00e9s :: dez\\u0251\", \"mbl :: s\\u0251\\u0303\", \"d\\u00e9se :: dez\", \"ses :: zas\", \"d\\u00e9se :: #dez\", \"sem :: \\u0303bl\", \"ppe :: \\u0259\\u0281a\", \"erai :: ap\\u0259\\u0281\", \"era :: ap\\u0259\", \"erai :: p\\u0259\\u0281a\", \"embl :: \\u0251\\u0303b\", \"pera :: ap\\u0259\", \"napp :: ap\\u0259\\u0281\", \"#ar :: \\u0281az\", \"sem :: s\\u0251\\u0303b\", \"#d\\u00e9 :: ez\\u0251\\u0303\", \"embl :: \\u0303bl\", \"sem :: \\u0251\\u0303bl\", \"emb :: s\\u0251\\u0303\", \"per :: \\u0281a#\", \"#d\\u00e9s :: ez\\u0251\\u0303\", \"sem :: \\u0251\\u0303b\", \"per :: \\u0259\\u0281a\", \"#d\\u00e9 :: dez\", \"d\\u00e9s :: dez\", \"#d\\u00e9s :: #dez\", \"rai :: p\\u0259\\u0281a\", \"pera :: \\u0259\\u0281a#\", \"#d\\u00e9 :: #dez\", \"per :: p\\u0259\\u0281\", \"#d\\u00e9s :: #de\", \"d\\u00e9s :: #dez\", \"#d\\u00e9s :: dez\", \"pera :: \\u0281a#\", \"rai :: \\u0281a#\", \"d\\u00e9s :: #de\", \"era :: \\u0281a#\", \"erai :: \\u0281a#\", \"#d\\u00e9 :: #de\", \"asse :: as#\", \"sse :: as#\", \"ass :: as#\", \"era :: \\u0259\\u0281a\", \"rai :: \\u0259\\u0281a#\", \"rai :: \\u0259\\u0281a\", \"erai :: \\u0259\\u0281a#\", \"erai :: \\u0259\\u0281a\", \"era :: \\u0259\\u0281a#\", \"rais :: \\u0259\\u0281a#\", \"rion :: \\u0169\\u032f#\", \"ion :: j\\u00f5\\u0169\", \"rio :: \\u0169\\u032f#\", \"rio :: j\\u00f5\\u0169\", \"ions :: \\u0169\\u032f#\", \"rio :: \\u00f5\\u0169\\u032f\", \"rion :: \\u00f5\\u0169\\u032f#\", \"sem :: sm\\u00e6\\u0303\", \"rion :: \\u00f5\\u0169\\u032f\", \"ions :: \\u00f5\\u0169\\u032f#\", \"ions :: j\\u00f5\\u0169\", \"ion :: \\u00f5\\u0169\\u032f#\", \"ions :: \\u00f5\\u0169\\u032f\", \"rio :: j\\u00f5\\u0169\\u032f\", \"ions :: \\u0281j\\u00f5\\u0169\", \"iss :: \\u00e6\\u0303#\", \"ons :: j\\u00f5\\u0169\", \"ons# :: j\\u00f5\\u0169\\u032f\", \"ons :: j\\u00f5\\u0169\\u032f\", \"ion :: \\u00f5\\u0169\\u032f\", \"rio :: \\u00f5\\u0169\\u032f#\", \"ion :: j\\u00f5\\u0169\\u032f\", \"ion :: \\u0169\\u032f#\", \"rion :: j\\u00f5\\u0169\\u032f\", \"ns# :: j\\u00f5\\u0169\\u032f\", \"ions :: j\\u00f5\\u0169\\u032f\", \"ons# :: \\u0281j\\u00f5\\u0169\", \"sse :: sm\\u00e6\", \"emen :: sm\\u00e6\\u0303\", \"ent :: sm\\u00e6\", \"ns# :: j\\u00f5\\u0169\", \"ons# :: j\\u00f5\\u0169\", \"emen :: m\\u00e6\\u0303\", \"ent :: m\\u00e6\\u0303\", \"men :: \\u00e6\\u0303#\", \"ment :: m\\u00e6\\u0303#\", \"ons# :: \\u00f5\\u0169\\u032f\", \"ns# :: \\u0169\\u032f#\", \"ons# :: \\u0169\\u032f#\", \"ons# :: \\u00f5\\u0169\\u032f#\", \"ons :: \\u0169\\u032f#\", \"ns# :: \\u00f5\\u0169\\u032f\", \"ons :: \\u00f5\\u0169\\u032f#\", \"ons :: \\u00f5\\u0169\\u032f\", \"ns# :: \\u00f5\\u0169\\u032f#\", \"ent :: \\u00e6\\u0303#\", \"ment :: \\u00e6\\u0303#\", \"ment :: m\\u00e6\\u0303\", \"nt# :: \\u00e6\\u0303#\", \"ontr :: \\u00f5\\u0169\\u032ft\", \"ntr :: \\u032ft\\u0281a\", \"ntr :: \\u00f5\\u0169\\u032f\", \"ont :: \\u0169\\u032ft\\u0281\", \"ontr :: \\u032ft\\u0281\", \"ntr :: \\u0169\\u032ft\", \"ont :: t\\u0281a\", \"lin :: \\u0283l\\u1ebd\", \"ont :: \\u032ft\\u0281\", \"ontr :: \\u00f5\\u0169\\u032f\", \"con :: \\u032ft\\u0281\", \"ontr :: \\u0169\\u032ft\\u0281\", \"esc :: dese\", \"scel :: sel\", \"ntr :: #k\\u00f5\\u0169\", \"sce :: dese\", \"tra :: \\u0169\\u032ft\\u0281\", \"ntr :: \\u00f5\\u0169\\u032ft\", \"cont :: \\u0169\\u032ft\\u0281\", \"sce :: des\", \"ntr :: \\u0169\\u032ft\\u0281\", \"ntr :: t\\u0281a\", \"#co :: t\\u0281a\", \"#des :: sel\", \"empo :: \\u032f\\u0281t\", \"ntra :: \\u032ft\\u0281\", \"tra :: \\u00f5\\u0169\\u032ft\", \"ling :: l\\u1ebd\\u0129\\u032f\", \"desc :: #des\", \"tra :: \\u032ft\\u0281a\", \"ntr :: \\u032ft\\u0281\", \"#con :: \\u00f5\\u0169\\u032ft\", \"#co :: k\\u00f5\\u0169\\u032f\", \"#co :: #k\\u00f5\\u0169\", \"ontr :: \\u0169\\u032ft\", \"#co :: \\u00f5\\u0169\\u032f\", \"#co :: #k\\u00f5\", \"#co :: k\\u00f5\\u0169\", \"#con :: \\u00f5\\u0169\\u032f\", \"ont :: #k\\u00f5\", \"cont :: k\\u00f5\\u0169\", \"ont :: \\u00f5\\u0169\\u032ft\", \"con :: #k\\u00f5\\u0169\", \"con :: k\\u00f5\\u0169\", \"ont :: \\u0169\\u032ft\", \"#con :: k\\u00f5\\u0169\", \"#con :: #k\\u00f5\\u0169\", \"con :: #k\\u00f5\", \"#d\\u00e9 :: #de\", \"con :: \\u00f5\\u0169\\u032f\", \"nt# :: #de\", \"ont :: \\u00f5\\u0169\\u032f\", \"#con :: k\\u00f5\\u0169\\u032f\", \"#con :: #k\\u00f5\", \"con :: k\\u00f5\\u0169\\u032f\", \"ent :: #de\", \"asse :: as#\", \"sse :: as#\", \"ass :: as#\", \"ent# :: #de\", \"#ro :: \\u0281\\u028ak\", \"uco :: #\\u0281\\u028a\", \"upl :: k\\u028fp\", \"urif :: eb\\u028a\\u0281\", \"#ro :: \\u028ak\\u028al\", \"ouf :: s\\u028afl\", \"cou :: #\\u0281\\u028a\", \"bou :: \\u028a\\u0281\\u026a\", \"rsou :: #b\\u028a\", \"uco :: k\\u028al\", \"uco :: \\u0281\\u028ak\\u028a\", \"d\\u00e9cu :: \\u028fpl\", \"#reg :: #\\u0281\\u0259\", \"eure :: l\\u0153\\u0281\", \"gurg :: te#\", \"cou :: \\u028ak\\u028a\", \"rou :: \\u028ak\\u028a\", \"#bo :: \\u028afl\", \"souf :: s\\u028afl\", \"#ro :: #\\u0281\\u028ak\", \"nla :: \\u0251\\u0303la\", \"oul :: \\u028ak\\u028al\", \"ouf :: \\u028afl\", \"ouco :: \\u0281\\u028ak\\u028a\", \"coul :: \\u028ak\\u028a\", \"rou :: #\\u0281\\u028ak\", \"#d\\u00e9c :: ekap\", \"ouco :: \\u028ak\\u028a\", \"ucou :: k\\u028al\", \"egar :: \\u0259ga\\u0281\", \"coul :: #\\u0281\\u028ak\", \"\\u00e9bou :: #eb\\u028a\", \"ouc :: \\u0281\\u028ak\\u028a\", \"nqu :: ka#\", \"oul :: k\\u028al\", \"ill :: z\\u026aj\", \"sou :: \\u028afl\", \"\\u00e9cup :: dek\\u028f\", \"cup :: ek\\u028f\", \"rou :: #\\u0281\\u028a\", \"souf :: \\u028afl\", \"ent :: \\u0129\\u032fs\", \"#\\u00e9bo :: eb\\u028a\", \"las :: las\", \"ass :: las\", \"lass :: las\", \"#d\\u00e9 :: #dek\", \"bou :: b\\u028a\\u0281\", \"sou :: s\\u028afl\", \"#d\\u00e9c :: #de\", \"#d\\u00e9 :: dek\", \"d\\u00e9c :: #dek\", \"d\\u00e9c :: dek\", \"#d\\u00e9 :: #de\", \"#d\\u00e9c :: dek\", \"#d\\u00e9c :: #dek\", \"d\\u00e9c :: #de\", \"ass :: as#\", \"asse :: as#\", \"iez :: sje\", \"sse :: as#\", \"iez# :: je#\", \"ass :: sje\", \"bust :: a\\u0281a\", \"ara :: \\u0281ab\", \"tam :: ast\\u0251\", \"pli :: \\u028fpl\", \"ara :: ta\\u0281\", \"nai :: s\\u0251\\u0254\\u032f\", \"croq :: \\u0251\\u0254\\u032fk\", \"stam :: st\\u0251\\u0303\", \"\\u00e9chi :: \\u0283\\u026af\", \"oqu\\u00e9 :: ke#\", \"abu :: ta\\u0281a\", \"#ta :: a\\u0281a\", \"roqu :: \\u0251\\u0254\\u032f\", \"ess :: sot\", \"tara :: a\\u0281a\", \"tar :: \\u0281ab\", \"abu :: \\u0281ab\", \"abus :: ta\\u0281\", \"supp :: #s\\u028fp\", \"bus :: ab\\u028f\", \"\\u00e9chi :: de\\u0283\\u026a\", \"#esc :: #as\", \"rab :: a\\u0281ab\", \"ffr :: \\u0283\\u026af\", \"ache :: \\u0283\\u0259t\", \"ppl :: \\u028fpl\\u026a\", \"bust :: #ta\", \"croq :: k\\u0281\\u0251\\u0254\", \"#sup :: \\u028fpl\\u026a\", \"is# :: \\u0254\\u032fn\", \"#es :: #as\", \"#ta :: #ta\\u0281\", \"mera :: m\\u0259\\u0281a\", \"oqu :: ke#\", \"mera :: \\u0281a#\", \"#r\\u00e9t :: \\u0281eta\", \"roqu :: \\u0254\\u032fke\", \"est :: #ast\", \"erai :: m\\u0259\\u0281a\", \"#esc :: #ask\", \"era :: m\\u0259\\u0281a\", \"amp :: \\u0251\\u0303p\", \"mer :: \\u0259\\u0281a\", \"mer :: m\\u0259\\u0281a\", \"mer :: \\u0259\\u0281a#\", \"nna :: \\u0251\\u0254\\u032f\", \"mera :: m\\u0259\\u0281\", \"mer :: \\u0281a#\", \"rai :: \\u0259\\u0281a#\", \"onn :: \\u032fna\", \"rai :: \\u0281a#\", \"rai :: \\u0259\\u0281a\", \"mera :: \\u0259\\u0281a#\", \"rai :: m\\u0259\\u0281\", \"era :: \\u0259\\u0281a#\", \"era :: \\u0259\\u0281a\", \"erai :: \\u0259\\u0281a\", \"era :: \\u0281a#\", \"erai :: \\u0259\\u0281a#\", \"erai :: \\u0281a#\", \"#d\\u00e9 :: #de\", \"onn :: \\u0254\\u032fn\", \"raie :: \\u0281a#\", \"d\\u00e9c :: #de\", \"ent :: \\u0281a#\", \"#su :: #s\\u028f\", \"onn :: \\u0251\\u0254\\u032fn\", \"onn :: \\u0251\\u0254\\u032f\", \"ient :: \\u0281a#\", \"ent# :: \\u0281a#\", \"#d\\u00e9c :: #de\", \"aie :: \\u0281a#\", \"eron :: \\u0259\\u0281\\u00f5\", \"ons :: \\u0259\\u0281\\u00f5\", \"rons :: \\u0259\\u0281\\u00f5\\u0169\", \"rons :: \\u0259\\u0281\\u00f5\", \"ons# :: \\u0259\\u0281\\u00f5\\u0169\", \"ns# :: \\u0259\\u0281\\u00f5\", \"eron :: \\u0281\\u00f5\\u0169\\u032f\", \"ero :: \\u0169\\u032f#\", \"ron :: \\u0259\\u0281\\u00f5\", \"ons :: \\u0259\\u0281\\u00f5\\u0169\", \"ons# :: \\u0259\\u0281\\u00f5\", \"ero :: \\u0259\\u0281\\u00f5\\u0169\", \"eron :: \\u0259\\u0281\\u00f5\\u0169\", \"ero :: \\u0281\\u00f5\\u0169\", \"ero :: \\u0281\\u00f5\\u0169\\u032f\", \"eron :: \\u0281\\u00f5\\u0169\", \"ron :: \\u0259\\u0281\\u00f5\\u0169\", \"ero :: \\u0259\\u0281\\u00f5\", \"eron :: \\u00f5\\u0169\\u032f#\", \"eron :: \\u00f5\\u0169\\u032f\", \"ero :: \\u00f5\\u0169\\u032f\", \"uil :: #b\\u0281\", \"rons :: \\u0281\\u00f5\\u0169\\u032f\", \"eron :: \\u0169\\u032f#\", \"rons :: \\u00f5\\u0169\\u032f\", \"#ba :: bala\", \"ero :: \\u00f5\\u0169\\u032f#\", \"ns# :: \\u0259\\u0281\\u00f5\\u0169\", \"roui :: b\\u0281\\u028aj\", \"ns# :: \\u0281\\u00f5\\u0169\\u032f\", \"ons# :: \\u0281\\u00f5\\u0169\", \"ons :: \\u0281\\u00f5\\u0169\", \"ron :: \\u0169\\u032f#\", \"ron :: \\u00f5\\u0169\\u032f#\", \"ron :: \\u0281\\u00f5\\u0169\", \"ron :: \\u00f5\\u0169\\u032f\", \"ron :: \\u0281\\u00f5\\u0169\\u032f\", \"rons :: \\u0169\\u032f#\", \"ons# :: \\u00f5\\u0169\\u032f#\", \"ns# :: \\u00f5\\u0169\\u032f#\", \"ns# :: \\u00f5\\u0169\\u032f\", \"ons :: \\u00f5\\u0169\\u032f\", \"ns# :: \\u0169\\u032f#\", \"ons# :: \\u0169\\u032f#\", \"ons :: \\u00f5\\u0169\\u032f#\", \"bla :: #bl\", \"#bla :: #bla\", \"fi\\u00e9 :: je#\", \"fiai :: \\u026afj\", \"ifi :: \\u026afj\", \"hos :: \\u0283oz\\u026a\", \"ifi :: \\u026afja\", \"iai :: \\u026afja\", \"sis :: d\\u0265i\", \"ifi :: \\u0281\\u026af\", \"#d\\u00e9 :: ed\\u0265\", \"fia :: \\u026afja\", \"rif :: \\u0281\\u026afj\", \"bla :: bla\", \"com :: #k\\u00f5\", \"#fle :: l\\u0153\\u0281\", \"ifia :: fja#\", \"rifi :: \\u0281\\u026af\", \"#com :: \\u00f5\\u0169\\u032fp\", \"\\u00e9dui :: ed\\u0265\", \"rif :: \\u0281\\u026af\", \"cher :: \\u0254\\u032f\\u0283\\u0259\", \"rifi :: \\u0281\\u026afj\", \"vole :: v\\u0251\\u0254\\u032f\", \"mes# :: #\\u0251\\u0303f\", \"#cho :: oz\\u026af\", \"ifi :: fja#\", \"ifi :: \\u0281\\u026afj\", \"comp :: #k\\u00f5\\u0169\", \"fiai :: fja\", \"ifia :: \\u026afj\", \"#en :: \\u0251\\u0303f\", \"iai :: fja#\", \"comp :: #k\\u00f5\", \"iai :: fja\", \"enf :: \\u0251\\u0303f\", \"#bl :: bla\", \"enf :: #\\u0251\\u0303\", \"#bla :: bla\", \"#bl :: #bla\", \"bla :: #bla\", \"ifia :: fja\", \"#bl :: #bl\", \"ez# :: je#\", \"iez# :: je#\", \"iez :: je#\", \"era :: \\u0259\\u0281a#\", \"es# :: am#\", \"rai :: \\u0259\\u0281a#\", \"rai :: \\u0281a#\", \"erai :: \\u0281a#\", \"rai :: \\u0259\\u0281a\", \"erai :: \\u0259\\u0281a\", \"era :: \\u0281a#\", \"erai :: \\u0259\\u0281a#\", \"era :: \\u0259\\u0281a\", \"ssi :: sje\", \"iez# :: asj\", \"aien :: \\u0281a#\", \"iez :: sje\", \"#d\\u00e9 :: #de\", \"siez :: sje\", \"sie :: sje#\", \"\\u00e2mes :: am#\", \"ent# :: \\u0259\\u0281a#\", \"pos :: \\u0251\\u0254\\u032f\", \"pos :: \\u0251\\u0254\\u032fs\", \"#pos :: \\u0254\\u032fst\", \"ubli :: #p\\u028f\", \"emp :: p\\u0251\\u0254\\u032f\", \"port :: \\u0251\\u0303p\\u0251\", \"en\\u00e2c :: nak\", \"tock :: st\\u0251\\u0254\", \"post :: \\u0254\\u032fs\", \"tes :: jat#\", \"es# :: jat#\", \"ost :: \\u0251\\u0254\\u032f\", \"pos :: p\\u0251\\u0254\", \"post :: \\u0254\\u032fst\", \"#emp :: p\\u0251\\u0254\\u032f\", \"ccla :: am\\u0259\\u0281\", \"ubli :: \\u028fbl\\u026a\", \"post :: p\\u0251\\u0254\\u032f\", \"#em :: p\\u0251\\u0254\\u032f\", \"ses# :: n\\u00f8z\", \"#pos :: \\u0251\\u0254\\u032f\", \"emp :: \\u0251\\u0254\\u032f\", \"enco :: \\u0251\\u0303k\\u0251\", \"nasi :: #naz\", \"mpo :: \\u0303p\\u0251\", \"#pos :: \\u0254\\u032fs\", \"ost :: \\u0254\\u032fs\", \"#pis :: #p\\u026a\", \"#em :: \\u0251\\u0254\\u032f\\u0281\", \"empo :: \\u0251\\u0254\\u032f\", \"ost :: p\\u0251\\u0254\", \"bar :: \\u0281de#\", \"#po :: p\\u0251\\u0254\\u032f\", \"mpo :: \\u0251\\u0254\\u032f\", \"cla :: klam\", \"ch\\u00e9 :: \\u0254\\u032f\\u0283\", \"#bo :: bu\\u0292\", \"#em :: \\u0303p\\u0251\\u0254\", \"empo :: p\\u0251\\u0254\", \"#po :: #p\\u0251\", \"\\u00e2tes :: at#\", \"p\\u00e8re :: pa\\u0281\", \"och :: \\u0251\\u0254\\u032f\\u0283\", \"es# :: at#\", \"#em :: #\\u0251\\u0303p\", \"rai :: at\\u0259\\u0281\", \"tes# :: at#\", \"tes :: at#\", \"\\u00e2te :: at#\", \"es# :: \\u0251\\u0254\\u032f\", \"era :: \\u0281\\u0254#\", \"\\u00e8re :: a\\u0281#\", \"era :: \\u0259\\u0281\\u0254\", \"och :: \\u0254\\u032f\\u0283\", \"era :: \\u0259\\u0281\\u0254#\", \"och :: \\u0251\\u0254\\u032f\", \"as# :: \\u0281\\u0254#\", \"ras# :: \\u0259\\u0281\\u0254#\", \"ras :: \\u0281\\u0254#\", \"as# :: \\u0259\\u0281\\u0254\", \"eras :: \\u0281\\u0254#\", \"ras# :: \\u0281\\u0254#\", \"eras :: \\u0259\\u0281\\u0254#\", \"ras# :: \\u0259\\u0281\\u0254\", \"ras :: \\u0259\\u0281\\u0254#\", \"as# :: \\u0259\\u0281\\u0254#\", \"ras :: \\u0259\\u0281\\u0254\", \"eras :: \\u0259\\u0281\\u0254\", \"#em :: #\\u0251\\u0303\", \"rne :: \\u0281n\\u0259\", \"rne :: \\u0281n\\u0259\\u0281\", \"b\\u00e9to :: t\\u0251\\u0254\", \"era :: \\u0281n\\u0259\", \"rai :: n\\u0259\\u0281\", \"rne :: a\\u0281n\", \"era :: n\\u0259\\u0281\", \"exhi :: gz\\u026a\", \"#ber :: ba\\u0281n\", \"era :: an\\u0259\", \"rner :: n\\u0259\\u0281\", \"nera :: n\\u0259\\u0281\", \"ent# :: n\\u0259\\u0281a\", \"rai :: an\\u0259\", \"rner :: \\u0259\\u0281a#\", \"rner :: \\u0281n\\u0259\\u0281\", \"ner :: n\\u0259\\u0281\", \"rne :: n\\u0259\\u0281a\", \"rai :: \\u0281n\\u0259\", \"ern :: a\\u0281n\", \"gue :: ge\\u0281\", \"ner :: n\\u0259\\u0281\\u0254\", \"bern :: #ba\\u0281\", \"erne :: a\\u0281n\", \"exhi :: z\\u026ab\", \"toil :: #twa\", \"ent# :: n\\u0259\\u0281\", \"ien :: n\\u0259\\u0281a\", \"rner :: n\\u0259\\u0281a\", \"rner :: \\u0281n\\u0259\", \"ner :: n\\u0259\\u0281a\", \"nera :: \\u0281a#\", \"rai :: n\\u0259\\u0281a\", \"ner :: \\u0281a#\", \"erai :: n\\u0259\\u0281\", \"era :: n\\u0259\\u0281a\", \"ner :: \\u0259\\u0281a\", \"nera :: \\u0259\\u0281a#\", \"nera :: n\\u0259\\u0281a\", \"erai :: n\\u0259\\u0281a\", \"nera :: \\u0259\\u0281a\", \"ner :: \\u0259\\u0281a#\", \"nera :: an\\u0259\\u0281\", \"ner :: an\\u0259\\u0281\", \"erai :: \\u0259\\u0281a#\", \"ner :: an\\u0259\", \"rai :: \\u0259\\u0281a#\", \"rai :: \\u0281a#\", \"rai :: \\u0259\\u0281a\", \"era :: \\u0259\\u0281a#\", \"era :: \\u0281a#\", \"erai :: \\u0259\\u0281a\", \"era :: \\u0259\\u0281a\", \"erai :: \\u0281a#\", \"#ma :: #ma\", \"is# :: \\u0259\\u0281a\", \"ont# :: \\u0169\\u032f#\", \"ront :: \\u00f5\\u0169\\u032f#\", \"ront :: \\u00f5\\u0169\\u032f\", \"ront :: \\u0281\\u00f5\\u0169\\u032f\", \"nt# :: \\u0281\\u00f5\\u0169\", \"ront :: \\u0259\\u0281\\u00f5\", \"eron :: a\\u0283\\u0259\", \"sass :: \\u026azas\", \"utur :: \\u0361s\\u028f\", \"nt# :: \\u0169\\u032f#\", \"ront :: \\u0169\\u032f#\", \"ont# :: \\u00f5\\u0169\\u032f#\", \"ont# :: \\u00f5\\u0169\\u032f\", \"ont# :: \\u0281\\u00f5\\u0169\", \"lis :: #v\\u026a\", \"asse :: \\u026azas\", \"ont :: \\u0281\\u00f5\\u0169\\u032f\", \"ont :: \\u0169\\u032f#\", \"nt# :: \\u0281\\u00f5\\u0169\\u032f\", \"ont :: \\u00f5\\u0169\\u032f#\", \"nt# :: \\u00f5\\u0169\\u032f#\", \"her :: \\u0169\\u032f#\", \"ront :: \\u0281\\u00f5\\u0169\", \"ont :: \\u0281\\u00f5\\u0169\", \"ero :: \\u0281\\u00f5\\u0169\", \"ont :: \\u0259\\u0281\\u00f5\", \"eron :: \\u0169\\u032f#\", \"sero :: \\u0281\\u00f5\\u0169\\u032f\", \"eron :: \\u0281\\u00f5\\u0169\", \"sai :: al\\u026a\", \"ont :: \\u0259\\u0281\\u00f5\\u0169\", \"eron :: \\u00f5\\u0169\\u032f#\", \"ero :: \\u0169\\u032f#\", \"eron :: \\u0281\\u00f5\\u0169\\u032f\", \"eron :: \\u00f5\\u0169\\u032f\", \"eron :: \\u0259\\u0281\\u00f5\\u0169\", \"ero :: \\u00f5\\u0169\\u032f\", \"ero :: \\u0281\\u00f5\\u0169\\u032f\", \"ron :: \\u00f5\\u0169\\u032f#\", \"ero :: \\u0259\\u0281\\u00f5\\u0169\", \"ron :: \\u0169\\u032f#\", \"ron :: \\u0281\\u00f5\\u0169\", \"ron :: \\u0281\\u00f5\\u0169\\u032f\", \"ero :: \\u00f5\\u0169\\u032f#\", \"ron :: \\u00f5\\u0169\\u032f\", \"eron :: \\u0259\\u0281\\u00f5\", \"ron :: \\u0259\\u0281\\u00f5\", \"ero :: \\u0259\\u0281\\u00f5\", \"ron :: \\u0259\\u0281\\u00f5\\u0169\", \"ont :: \\u00f5\\u0169\\u032f\", \"tten :: #at\\u0251\", \"rais :: e\\u0281a#\", \"ns\\u00e9r :: \\u0129\\u032fs\", \"bom :: b\\u00f5\\u0169\", \"ns\\u00e9 :: \\u1ebd\\u0129\\u032f\", \"ns\\u00e9 :: \\u032fse\\u0281\", \"ndra :: \\u0303d\\u0281\", \"dra :: \\u0251\\u0303d\", \"s\\u00e9r :: \\u0129\\u032fse\", \"#dem :: #d\\u0259m\", \"r\\u00e9in :: \\u1ebd\\u0129\\u032f\", \"\\u00e9nu :: #en\\u028f\", \"ns\\u00e9 :: \\u0129\\u032fse\", \"s\\u00e9r :: \\u1ebd\\u0129\\u032fs\", \"ins\\u00e9 :: \\u0129\\u032fs\", \"rais :: e\\u0281a\", \"#dot :: #d\\u0251\", \"tten :: at\\u0251\", \"ras# :: \\u0251\\u0303d\", \"dras :: \\u0303d\\u0281\", \"as# :: d\\u0281\\u0254#\", \"as# :: \\u0303d\\u0281\", \"ront :: \\u00f5\\u0169\\u032f\", \"ais# :: e\\u0281a#\", \"#att :: at\\u0251\\u0303\", \"ndr :: \\u0281\\u0254#\", \"ins\\u00e9 :: \\u1ebd\\u0129\\u032fs\", \"endr :: d\\u0281\\u0254#\", \"ras :: d\\u0281\\u0254\", \"ns\\u00e9r :: \\u1ebd\\u0129\\u032fs\", \"ras# :: \\u0303d\\u0281\", \"s\\u00e9r :: \\u032fse\", \"ront :: \\u0259\\u0281\\u00f5\\u0169\", \"end :: \\u0303d\\u0281\", \"s\\u00e9r :: \\u1ebd\\u0129\\u032f\", \"ont# :: \\u0169\\u032f#\", \"ont :: \\u0259\\u0281\\u00f5\\u0169\", \"nt# :: \\u0259\\u0281\\u00f5\", \"ront :: \\u0281\\u00f5\\u0169\", \"ont# :: \\u0259\\u0281\\u00f5\\u0169\", \"ont# :: \\u00f5\\u0169\\u032f\", \"ont :: \\u0281\\u00f5\\u0169\", \"ndr :: \\u0303d\\u0281\", \"ront :: \\u0281\\u00f5\\u0169\\u032f\", \"ont :: \\u0259\\u0281\\u00f5\", \"nt# :: \\u0259\\u0281\\u00f5\\u0169\", \"ront :: \\u0259\\u0281\\u00f5\", \"ten :: t\\u0251\\u0303\", \"ront :: \\u00f5\\u0169\\u032f#\", \"ont :: \\u00f5\\u0169\\u032f#\", \"ont# :: \\u00f5\\u0169\\u032f#\", \"ont# :: \\u0259\\u0281\\u00f5\", \"nt# :: \\u0169\\u032f#\", \"nt# :: \\u0281\\u00f5\\u0169\", \"nt# :: \\u0281\\u00f5\\u0169\\u032f\", \"ont# :: \\u0281\\u00f5\\u0169\\u032f\", \"is# :: \\u0281a#\", \"ont# :: \\u0281\\u00f5\\u0169\", \"ont :: \\u0281\\u00f5\\u0169\\u032f\", \"rai :: \\u0281a#\", \"nt# :: \\u00f5\\u0169\\u032f\", \"ais# :: \\u0281a#\", \"nt# :: \\u00f5\\u0169\\u032f#\", \"ras# :: \\u0281\\u0254#\", \"rais :: \\u0281a#\", \"ais :: \\u0281a#\", \"ero :: \\u00f5\\u0169\\u032f#\", \"ero :: \\u0281\\u00f5\\u0169\\u032f\", \"ron :: \\u0259\\u0281\\u00f5\\u0169\", \"ron :: \\u0259\\u0281\\u00f5\", \"ron :: \\u0281\\u00f5\\u0169\", \"eron :: \\u0259\\u0281\\u00f5\", \"ero :: \\u0259\\u0281\\u00f5\\u0169\", \"as# :: \\u0281\\u0254#\", \"ras :: \\u0281\\u0254#\", \"eron :: \\u0169\\u032f#\", \"tif# :: s\\u026af#\", \"es# :: t\\u028a\\u0281n\", \"ppar :: #ap\", \"long :: \\u032f\\u0292e\", \"ala :: #sa\", \"ign :: \\u0292wa\", \"plon :: pl\\u00f5\", \"pico :: k\\u0251\\u0254\", \"#tou :: #t\\u028a\\u0281\", \"long :: \\u0169\\u032f\\u0292e\", \"sal :: sala\", \"a\\u00e7on :: as\\u0251\", \"ima :: #\\u0281\\u026am\", \"long :: \\u0169\\u032f\\u0292\", \"puy :: p\\u0265ij\", \"#sal :: sal\", \"#tou :: t\\u028a\\u0281\", \"ari :: sala\", \"ala :: sal\", \"sal :: ala\", \"plo :: \\u0169\\u032f\\u0292\", \"lon :: #pl\\u00f5\", \"aill :: gaj\", \"tou :: #t\\u028a\", \"#ap :: pa\\u0281\", \"ng\\u00e9 :: \\u0169\\u032f\\u0292e\", \"#tou :: #t\\u028a\", \"atif :: at\\u0361\", \"ppa :: apa\\u0281\", \"#to :: #t\\u028a\\u0281\", \"rou :: \\u0281\\u028at\", \"#to :: t\\u028a\\u0281\", \"gorg :: \\u0254\\u032f\\u0281\", \"rim :: maj\", \"ter :: \\u0259\\u0281a\", \"is# :: t\\u0259\\u0281\", \"ter :: \\u0259\\u0281a#\", \"tera :: \\u0259\\u0281a\", \"app :: #ap\", \"era :: t\\u0259\\u0281a\", \"erai :: t\\u0259\\u0281a\", \"tera :: \\u0281a#\", \"rai :: t\\u0259\\u0281\", \"ter :: \\u0281a#\", \"rai :: t\\u0259\\u0281a\", \"#to :: #t\\u028a\", \"tera :: t\\u0259\\u0281a\", \"tera :: \\u0259\\u0281a#\", \"erai :: t\\u0259\\u0281\", \"ter :: t\\u0259\\u0281a\", \"ong :: \\u00f5\\u0169\\u032f\", \"rai :: \\u0281a#\", \"erai :: \\u0259\\u0281a\", \"era :: \\u0259\\u0281a#\", \"era :: \\u0281a#\", \"era :: \\u0259\\u0281a\", \"rai :: \\u0259\\u0281a#\", \"rai :: \\u0259\\u0281a\", \"erai :: \\u0281a#\", \"erai :: \\u0259\\u0281a#\", \"ais# :: \\u0281a#\", \"tera :: t\\u0259\\u0281\", \"is# :: \\u0281a#\", \"ais :: \\u0281a#\", \"rais :: \\u0281a#\", \"ter :: t\\u0259\\u0281\", \"era :: t\\u0259\\u0281\", \"ant :: as\\u00e6\", \"com :: #k\\u0251\", \"mbar :: \\u0251\\u0303ba\", \"chop :: as#\", \"dis :: d\\u0361z\", \"#dis :: d\\u0361z\", \"ble# :: ab#\", \"dis :: #d\\u0361\", \"oppa :: as#\", \"sip :: \\u026as\\u026ap\", \"#di :: \\u0361z\\u026as\", \"#dis :: z\\u026as\", \"ssi :: \\u0361z\\u026a\", \"iss :: #d\\u0361z\", \"ant :: as\\u00e6\\u0303\", \"#dis :: \\u0361z\\u026a\", \"issi :: \\u026as\\u026a\", \"#com :: \\u0251\\u0254\\u032fm\", \"#dis :: #d\\u0361\", \"ssip :: \\u026as\\u026a\", \"#dis :: d\\u0361z\\u026a\", \"dis :: \\u0361z\\u026as\", \"able :: zab\", \"pac :: pas\", \"#dis :: #d\\u0361z\", \"ssip :: \\u0361z\\u026a\", \"iss :: \\u026as\\u026a\", \"tes# :: \\u0272at\", \"ssip :: s\\u026ap\", \"#di :: \\u0361z\\u026a\", \"#di :: d\\u0361z\\u026a\", \"dis :: z\\u026as\", \"dis :: d\\u0361z\\u026a\", \"dis :: #d\\u0361z\", \"#dis :: \\u0361z\\u026as\", \"rel :: #\\u0281\\u0259\", \"dis :: \\u0361z\\u026a\", \"#di :: z\\u026as\", \"#di :: #d\\u0361\", \"que :: \\u0251\\u0254\\u032fk\", \"#di :: d\\u0361z\", \"#di :: #d\\u0361z\", \"opp :: \\u0251\\u0254\\u032f\", \"rel :: #\\u0281\\u0259l\", \"#d\\u00e9 :: #de\", \"#co :: \\u0251\\u0254\\u032f\", \"es# :: \\u0251\\u0254\\u032f\", \"#co :: #k\\u0251\", \"#in :: \\u1ebd\\u0129\\u032f\", \"#co :: k\\u0251\\u0254\\u032f\", \"ant :: \\u00e6\\u0303#\", \"#piq :: #p\\u026a\", \"\\u00e2mes :: lam#\", \"\\u00e2me :: lam#\", \"#emp :: \\u0303pan\", \"mes :: lam#\", \"emp :: \\u0303pan\", \"\\u00e9c\\u00e9 :: #des\", \"urie :: \\u028f\\u0281j\", \"fla :: flas\", \"emp :: pan\", \"#em :: \\u0303pan\", \"dera :: d\\u0259\\u0281\", \"#d\\u00e9 :: ese\", \"hama :: ma\\u0281\", \"#cha :: ma\\u0281\", \"ez# :: vwa\", \"ses :: \\u0281da\", \"\\u00e9jo :: #de\\u0292\", \"teu :: t\\u0153\\u0281#\", \"ren :: p\\u0281e\", \"mpan :: ana\", \"sal :: \\u0259sa\", \"l\\u00e2me :: lam#\", \"#alt :: alt\", \"eur :: t\\u0153\\u0281\", \"l\\u00e2me :: lam\", \"empa :: \\u0303pan\", \"arr :: ama\", \"mpan :: #\\u0251\\u0303p\", \"empa :: pan\", \"teur :: t\\u0153\\u0281\", \"re# :: ja\\u0281#\", \"#mi :: #m\\u026al\", \"l\\u00e2me :: am#\", \"der :: d\\u0259\\u0281\", \"ara :: #ba\\u0281\", \"l\\u00e2m :: am#\", \"ama :: \\u0283ama\", \"eur :: \\u0153\\u0281#\", \"ra# :: \\u0281\\u0254#\", \"eurs :: \\u0153\\u0281#\", \"#em :: #\\u0251\\u0303\", \"ra# :: \\u0259\\u0281\\u0254\", \"asse :: as#\", \"sse :: as#\", \"ass :: as#\", \"ent# :: \\u0281a#\", \"raie :: \\u0281a#\", \"#pr :: #p\\u0281\", \"era :: \\u0281\\u0254#\", \"era :: \\u0259\\u0281\\u0254#\", \"era# :: \\u0259\\u0281\\u0254\", \"rai :: \\u0281a#\", \"erai :: \\u0281a#\", \"era :: \\u0259\\u0281a\", \"erai :: \\u0259\\u0281a\", \"ien :: \\u0281a#\", \"era :: \\u0281a#\", \"era :: \\u0259\\u0281\\u0254\", \"rai :: \\u0259\\u0281a#\", \"rai :: \\u0259\\u0281a\", \"era :: \\u0259\\u0281a#\", \"erai :: \\u0259\\u0281a#\", \"ient :: \\u0281a#\", \"era# :: \\u0281\\u0254#\", \"nt# :: \\u0281a#\", \"es# :: as#\", \"#d\\u00e9 :: #de\", \"rai :: \\u0281as\", \"\\u00e9ga :: egaj\", \"marg :: ema\", \"#mi :: m\\u026a\\u0281\", \"#acc :: k\\u00f5\\u0169\", \"engr :: #\\u0251\\u0303\", \"nor :: \\u0272\\u0251\\u0254\", \"acco :: k\\u00f5\\u0169\", \"gner :: \\u0259\\u0281\\u0254#\", \"gia :: la\\u0292\", \"siez :: fasj\", \"eras :: \\u0281\\u0259\\u0281\", \"acc :: \\u00f5\\u0169\\u032fp\", \"riss :: k\\u0281\\u026a\", \"engr :: \\u0303g\\u0281a\", \"\\u00e9s# :: \\u032f\\u0283e\", \"ons :: #k\\u00f5\", \"#en :: \\u0251\\u0303g\", \"lir# :: l\\u026a\\u0281\", \"comp :: ak\\u00f5\\u0169\", \"anl :: \\u0251\\u0303l\", \"gnor :: \\u0254\\u032f\\u0281\", \"craq :: ak\\u0259\", \"lagi :: la\\u0292\", \"plag :: \\u0292ja\", \"#ac :: k\\u00f5\\u0169\", \"engr :: \\u0251\\u0303g\\u0281\", \"llis :: el\\u026az\", \"ngr :: #\\u0251\\u0303\", \"#par :: l\\u026az\", \"spa :: asp\", \"mpa :: k\\u00f5\\u0169\", \"cco :: ak\\u00f5\\u0169\", \"ass :: #f\\u0281a\", \"iez# :: asje\", \"ssi :: sje#\", \"iez :: asj\", \"iez# :: asj\", \"iez :: sje#\", \"iez# :: sje#\", \"ez# :: asje\", \"iez :: asje\", \"siez :: sje\", \"ssie :: asj\", \"assi :: asje\", \"iez# :: sje\", \"ez# :: sje\", \"ez# :: asj\", \"ssie :: asje\", \"sie :: asj\", \"assi :: je#\", \"ssi :: je#\", \"iez :: sje\", \"ez# :: sje#\", \"siez :: asj\", \"siez :: asje\", \"ssi :: asje\", \"ass :: sje#\", \"assi :: sje\", \"iez :: je#\", \"ass :: sje\", \"siez :: sje#\", \"ez# :: je#\", \"iez# :: je#\", \"sie :: sje\", \"sie :: sje#\", \"sie :: je#\", \"ssi :: sje\", \"siez :: je#\", \"rans :: \\u0281\\u0251\\u0303\", \"ran :: t\\u0281\\u0251\\u0303\", \"toir :: twa\", \"tra :: t\\u0281\\u0251\\u0303\", \"ans :: #t\\u0281\", \"rre :: f\\u028a\\u0281\", \"rgne :: \\u0254\\u032f\\u0281\\u0272\", \"mail :: ja#\", \"ran :: t\\u0281\\u0251\", \"llai :: maj\", \"rgn :: \\u0254\\u032f\\u0281\\u0272\", \"ans :: t\\u0281\\u0251\", \"ter :: t\\u0281i#\", \"lla :: aja#\", \"ran :: \\u0251\\u0303s\", \"nt# :: aja#\", \"ans :: \\u0281\\u0251\\u0303s\", \"ess :: \\u0281as#\", \"lla :: maj\", \"rat :: g\\u0281at\", \"ran :: \\u0281\\u0251\\u0303s\", \"lav :: \\u0251\\u0303kl\", \"ble :: bl\\u0259\\u0281\", \"laie :: maja\", \"ient :: maj\", \"ran :: #t\\u0281\", \"tra :: \\u0251\\u0303s\", \"ass :: gas#\", \"#tra :: \\u0281\\u0251\\u0303\", \"ent :: maj\", \"lass :: \\u028apl\", \"ien :: aja#\", \"erez :: l\\u0259\\u0281e\", \"erez :: l\\u0259\\u0281\", \"mail :: aja#\", \"#tr :: t\\u0281\\u0251\", \"ail :: ja#\", \"ais# :: eal\", \"tra :: \\u0281\\u0251\\u0303\", \"asse :: #\\u0251\\u0303\", \"accl :: am\\u0259\", \"nera :: \\u0272\\u0259\\u0281\", \"lla :: aja\", \"lere :: l\\u0259\\u0281e\", \"#gra :: g\\u0281a\", \"#tr :: #t\\u0281\", \"rez :: l\\u0259\\u0281e\", \"oir :: wa\\u0281\", \"#cr :: #k\\u0281\", \"erai :: z\\u0259\\u0281\", \"ler :: l\\u0259\\u0281\", \"lere :: \\u0281e#\", \"sse :: as#\", \"erai :: \\u0259\\u0281a#\", \"rai :: \\u0259\\u0281a\", \"ass :: as#\", \"era :: \\u0259\\u0281\\u0254\", \"lla :: ja#\", \"gra :: g\\u0281a\", \"ere :: \\u0259\\u0281e\", \"asse :: as#\", \"era :: \\u0281a#\", \"rai :: \\u0259\\u0281a#\", \"erai :: \\u0281a#\", \"rez# :: \\u0259\\u0281e#\", \"rai :: \\u0281a#\", \"#occ :: \\u0254\\u032fk\\u028f\", \"rent :: apa\", \"ppe :: #\\u0281ap\", \"acqu :: #ak\", \"rapp :: \\u0281ap\", \"occu :: \\u0254\\u032fk\\u028f\", \"nce :: \\u00e3\\u0169\\u032f\", \"nces :: \\u00e3\\u0169\\u032fs\", \"cul :: lta\", \"#oc :: \\u032fk\\u028fl\", \"cult :: k\\u028flt\", \"nces :: \\u0169\\u032fs\", \"nce :: \\u00e3\\u0169\\u032fs\", \"port :: \\u0254\\u032f\\u0281\", \"ccul :: \\u0254\\u032fk\", \"ccul :: \\u0254\\u032fk\\u028f\", \"cqui :: jes\", \"#ch :: oz\\u026af\", \"#rap :: \\u0281ap\", \"ila :: \\u0303p\\u026al\", \"cult :: k\\u028fl\", \"tois :: twa\", \"ppe :: pal\", \"#oc :: \\u0254\\u032fk\", \"#occ :: \\u028flt\", \"inai :: \\u026anag\", \"es# :: \\u00e3\\u0169\\u032fs\", \"app :: \\u0281ap\", \"#oc :: lta\", \"dou :: d\\u028as\", \"cul :: \\u032fk\\u028f\", \"cul :: \\u028flt\", \"ccu :: \\u0254\\u032fk\", \"#oc :: \\u0251\\u0254\\u032f\", \"#oc :: \\u0251\\u0254\\u032fk\", \"uill :: #fa\", \"#oc :: #\\u0251\\u0254\\u032f\", \"occ :: \\u032fk\\u028fl\", \"rap :: \\u0281ap\", \"atti :: at\\u0361s\", \"#ra :: \\u0281ap\", \"ccu :: \\u0254\\u032fk\\u028f\", \"cul :: k\\u028fl\", \"rap :: #\\u0281a\", \"\\u00e8re :: a\\u0281#\", \"dra :: #d\\u0281a\", \"ez# :: je#\", \"rio :: \\u0281j\\u00f5\", \"#su :: #s\\u028f\", \"ent :: a\\u0281#\", \"ren :: a\\u0281#\", \"#ra :: #\\u0281a\", \"nne :: an#\", \"uet :: at#\", \"eass :: \\u0292as#\", \"#ca :: ata\", \"souf :: b\\u028a\\u0281\", \"enne :: an#\", \"enne :: jan#\", \"eas :: \\u0292as#\", \"sse :: a\\u0281\\u0292a\", \"gea :: as#\", \"sse :: \\u0292as\", \"#tr :: \\u0251\\u0303z\", \"ass :: \\u0292as\", \"uett :: kat\", \"es# :: jan\", \"aqui :: mak\", \"enne :: jan\", \"aien :: s\\u0259\\u0281a\", \"eas :: \\u0292as\", \"squi :: ask\", \"eass :: as#\", \"nnes :: jan#\", \"ass :: \\u0292as#\", \"geas :: \\u0292as#\", \"nne :: jan#\", \"eas :: as#\", \"sent :: a\\u0281\\u0292\", \"uet :: kat#\", \"nes :: jan#\", \"enn :: jan\", \"gea :: \\u0292as\", \"ien :: jan#\", \"sse :: \\u0292as#\", \"ien :: an#\", \"asse :: \\u0292as#\", \"eass :: \\u0292as\", \"geas :: as#\", \"enn :: an#\", \"geas :: \\u0292as\", \"tes :: at#\", \"gea :: \\u0292as#\", \"asse :: \\u0292as\", \"tes# :: at#\", \"es# :: at#\", \"\\u00e2te :: at#\", \"\\u00e2tes :: at#\", \"rie :: \\u0281je\", \"iez :: \\u0281je\", \"asse :: as#\", \"iez# :: je#\", \"ez# :: je#\", \"iez :: je#\", \"iez# :: \\u0281je\", \"sse :: as#\", \"ass :: as#\", \"ez# :: \\u0281je#\", \"rie :: \\u0281je#\", \"onn :: \\u0254\\u032fna\", \"onna :: \\u0251\\u0254\\u032fn\", \"onna :: \\u0254\\u032fn\", \"onn :: \\u032fna\", \"nna :: \\u0254\\u032fn\", \"lonn :: \\u0251\\u0254\\u032fn\", \"onna :: \\u0254\\u032fna\", \"#tr :: \\u0281es\", \"nas :: \\u0251\\u0254\\u032fn\", \"lon :: \\u0254\\u032fn\", \"lonn :: \\u0251\\u0254\\u032f\", \"onn :: l\\u0251\\u0254\", \"lon :: \\u0251\\u0254\\u032f\", \"onn :: nas#\", \"ent :: \\u0254\\u032fn\", \"lonn :: \\u0254\\u032fn\", \"onna :: \\u032fna\", \"nas :: \\u0254\\u032fn\", \"ent# :: \\u0251\\u0254\\u032fn\", \"nna :: \\u032fna\", \"onn :: nas\", \"sen :: t\\u0361s\\u026a\", \"nnas :: \\u0251\\u0254\\u032fn\", \"onna :: \\u0251\\u0254\\u032f\", \"nnas :: \\u0254\\u032fn\", \"nt# :: \\u0254\\u032fna\", \"nna :: \\u0251\\u0254\\u032fn\", \"lon :: l\\u0251\\u0254\", \"nnas :: \\u032fna\", \"asse :: \\u0254\\u032fna\", \"onn :: \\u0254\\u032fn\", \"nna :: \\u0251\\u0254\\u032f\", \"onn :: \\u0251\\u0254\\u032fn\", \"onn :: \\u0251\\u0254\\u032f\", \"nna :: \\u0254\\u032fna\", \"lonn :: l\\u0251\\u0254\", \"nnas :: \\u0251\\u0254\\u032f\", \"nas :: \\u0251\\u0254\\u032f\", \"ent# :: \\u0251\\u0254\\u032f\", \"nas :: as#\", \"nt# :: \\u0251\\u0254\\u032f\", \"ent :: \\u0251\\u0254\\u032f\", \"sse :: as#\", \"ass :: as#\", \"asse :: as#\", \"es# :: \\u0251\\u0254\\u032f\", \"#col :: k\\u0251\\u0254\", \"mas :: #ma\", \"ast :: t\\u0361s\", \"ast :: st\\u0361\", \"tiq :: s\\u026ak\", \"ersi :: \\u0281s\\u026a\", \"#as :: ast\\u0361\", \"piq :: \\u0281p\\u026ak\", \"tiq :: \\u0361s\\u026ak\", \"tiqu :: s\\u026ak\", \"ian :: j\\u00e6\\u0303\", \"ai# :: \\u028ala\", \"asti :: t\\u0361s\\u026a\", \"#co :: \\u0251\\u0254\\u032fl\", \"iqu :: \\u0361s\\u026ak\", \"tiqu :: \\u0361s\\u026ak\", \"es# :: zja\", \"qu\\u00e2 :: k\\u0254#\", \"tiqu :: t\\u0361s\\u026a\", \"asti :: t\\u0361s\", \"iqu :: s\\u026ak\", \"ns# :: \\u0129\\u032f#\", \"#col :: #k\\u0251\\u0254\", \"urfa :: \\u0281fas\", \"glou :: #gl\\u028a\", \"tiq :: \\u0361s\\u026a\", \"nt# :: #pla\", \"iqu :: #as\", \"iqu :: t\\u0361s\", \"tiq :: ast\", \"drai :: \\u0303d\\u0281a\", \"if# :: t\\u0361s\", \"tiq :: t\\u0361s\\u026a\", \"tiqu :: t\\u0361s\", \"sif :: #s\\u026a\", \"tiqu :: \\u0361s\\u026a\", \"tiq :: t\\u0361s\", \"ait :: #\\u0251\\u0303\", \"qua :: ka#\", \"col :: k\\u0251\\u0254\", \"#co :: k\\u0251\\u0254\", \"col :: \\u0251\\u0254\\u032fl\", \"iqu :: t\\u0361s\\u026a\", \"#en :: #\\u0251\\u0303\", \"iqu :: \\u0361s\\u026a\", \"que# :: \\u026ak#\", \"#ra :: d\\u0361z\", \"#rad :: #\\u0281ad\", \"#ra :: ad\\u0361z\", \"radi :: d\\u0361zj\", \"#rad :: \\u0281ad\", \"radi :: ad\\u0361\", \"adi :: #\\u0281a\", \"rad :: #\\u0281a\", \"#rad :: \\u0361zj\", \"radi :: \\u0281ad\\u0361\", \"rad :: d\\u0361z\", \"radi :: \\u0361zj\", \"#ra :: ad\\u0361\", \"rad :: \\u0281ad\", \"#rad :: d\\u0361z\", \"adi :: #\\u0281ad\", \"radi :: #\\u0281ad\", \"radi :: #\\u0281a\", \"adi :: \\u0281ad\", \"#rad :: \\u0281ad\\u0361\", \"rad :: #\\u0281ad\", \"#ra :: \\u0281ad\\u0361\", \"adi :: ad\\u0361\", \"radi :: \\u0281ad\", \"erie :: al\\u0259\\u0281\", \"#ki :: nap\", \"rad :: \\u0361zj\", \"adi :: ad\\u0361z\", \"adi :: d\\u0361z\", \"#rad :: ad\\u0361z\", \"#rad :: #\\u0281a\", \"#ra :: \\u0281ad\", \"radi :: ad\\u0361z\", \"rad :: \\u0281ad\\u0361\", \"rad :: ad\\u0361\", \"#ra :: #\\u0281ad\", \"#d\\u00e9 :: deg\\u0281\", \"#rad :: ad\\u0361\", \"iera :: j\\u0259\\u0281\", \"rad :: ad\\u0361z\", \"#re :: #\\u0281\\u0259\", \"#ra :: #\\u0281a\", \"erai :: d\\u0259\\u0281\", \"era :: \\u0281a#\", \"rai :: \\u0281a#\", \"era :: \\u0259\\u0281a\", \"rai :: \\u0259\\u0281a\", \"erai :: \\u0259\\u0281a#\", \"erai :: \\u0281a#\", \"rai :: \\u0259\\u0281a#\", \"era :: \\u0259\\u0281a#\", \"erai :: \\u0259\\u0281a\", \"era :: \\u0259\\u0281\\u0254#\", \"era :: \\u0259\\u0281\\u0254\", \"era :: \\u0281\\u0254#\", \"erai :: z\\u0259\\u0281a\", \"erai :: z\\u0259\\u0281\", \"sera :: z\\u0259\\u0281a\", \"ser :: z\\u0259\\u0281a\", \"rai :: z\\u0259\\u0281\", \"era :: z\\u0259\\u0281\", \"rai :: z\\u0259\\u0281a\", \"era :: z\\u0259\\u0281a\", \"sera :: z\\u0259\\u0281\", \"ser :: \\u0259\\u0281a\", \"ser :: \\u0259\\u0281a#\", \"ser :: \\u0281a#\", \"sera :: \\u0281a#\", \"#ser :: #sa\", \"sera :: \\u0259\\u0281a#\", \"rais :: z\\u0259\\u0281a\", \"aie :: z\\u0259\\u0281\", \"err :: #sa\", \"is# :: z\\u0259\\u0281\", \"ser :: z\\u0259\\u0281\", \"is# :: z\\u0259\\u0281a\", \"ais# :: z\\u0259\\u0281a\", \"neig :: #na\\u0292\", \"sera :: \\u0259\\u0281a\", \"pant :: p\\u00e6\\u0303#\", \"erai :: az\\u0259\", \"\\u00e2te :: \\u0281\\u0251t#\", \"rais :: az\\u0259\\u0281\", \"#p\\u00e9 :: pe\\u0281\\u026a\", \"iser :: z\\u0259\\u0281a\", \"asso :: s\\u0251\\u0254\\u032f\", \"ais# :: z\\u0259\\u0281\", \"erai :: \\u0259\\u0281a\", \"rai :: \\u0259\\u0281a\", \"erai :: \\u0259\\u0281a#\", \"era :: \\u0259\\u0281a#\", \"era :: \\u0259\\u0281a\", \"erai :: \\u0281a#\", \"era :: \\u0281a#\", \"rai :: \\u0259\\u0281a#\", \"rai :: \\u0281a#\", \"ais :: \\u0259\\u0281a#\", \"rais :: \\u0259\\u0281a#\", \"ais :: \\u0281a#\", \"ais :: \\u0259\\u0281a\", \"ais# :: \\u0281a#\", \"#pre :: #p\\u0281\", \"ress :: #p\\u0281e\", \"essu :: \\u0281es\", \"#pre :: p\\u0281e\", \"res :: #p\\u0281e\", \"res :: #p\\u0281\", \"ess :: #p\\u0281e\", \"ress :: #p\\u0281\", \"pres :: p\\u0281e\", \"pot :: ap\\u0251\", \"#pre :: #p\\u0281e\", \"#pr :: \\u0281es\", \"sur :: #p\\u0281e\", \"#pr :: p\\u0281es\", \"pre :: s\\u028f\\u0281\", \"ns# :: \\u0281j\\u00f5\", \"pre :: #p\\u0281\", \"ssur :: s\\u028f\\u0281\", \"ess :: #p\\u0281\", \"#pr :: es\\u028f\", \"essu :: s\\u028f\\u0281\", \"ion :: \\u0281j\\u00f5\", \"ress :: p\\u0281es\", \"pres :: #p\\u0281\", \"#pr :: es\\u028f\\u0281\", \"rio :: \\u0259\\u0281j\\u00f5\", \"res :: \\u0281es\", \"sur :: p\\u0281e\", \"essu :: p\\u0281e\", \"#su :: \\u028f\\u0281f\", \"ons# :: \\u0281j\\u00f5\\u0169\", \"essu :: es\\u028f\", \"rio :: \\u0169\\u032f#\", \"ions :: \\u0281j\\u00f5\\u0169\", \"res :: p\\u0281es\", \"ion :: \\u0281j\\u00f5\\u0169\", \"ons :: \\u0281j\\u00f5\\u0169\", \"rion :: j\\u00f5\\u0169\\u032f\", \"rion :: \\u0169\\u032f#\", \"rion :: \\u0281j\\u00f5\\u0169\", \"rio :: j\\u00f5\\u0169\", \"rion :: \\u0281j\\u00f5\", \"ions :: j\\u00f5\\u0169\\u032f\", \"ions :: \\u0281j\\u00f5\", \"rio :: \\u00f5\\u0169\\u032f\", \"rio :: j\\u00f5\\u0169\\u032f\", \"ions :: \\u00f5\\u0169\\u032f\", \"ons :: \\u0169\\u032f#\", \"ons :: \\u00f5\\u0169\\u032f#\", \"ion :: j\\u00f5\\u0169\\u032f\", \"ns# :: \\u0169\\u032f#\", \"ons# :: \\u00f5\\u0169\\u032f#\", \"ons# :: \\u0169\\u032f#\", \"ons :: \\u00f5\\u0169\\u032f\", \"ns# :: \\u00f5\\u0169\\u032f\", \"ns# :: \\u00f5\\u0169\\u032f#\", \"ons# :: \\u00f5\\u0169\\u032f\", \"ions :: \\u00f5\\u0169\\u032f#\", \"ion :: \\u0169\\u032f#\", \"ion :: \\u00f5\\u0169\\u032f#\", \"sur :: s\\u028f\\u0281\", \"ons :: j\\u00f5\\u0169\\u032f\", \"ons# :: j\\u00f5\\u0169\", \"ons :: j\\u00f5\\u0169\", \"ons# :: j\\u00f5\\u0169\\u032f\", \"ion :: j\\u00f5\\u0169\", \"ion :: \\u00f5\\u0169\\u032f\", \"ions :: \\u0169\\u032f#\", \"ions :: j\\u00f5\\u0169\", \"ns# :: j\\u00f5\\u0169\", \"ns# :: j\\u00f5\\u0169\\u032f\", \"eri :: \\u0259\\u0281j\", \"erg :: #g\\u0251\\u0254\", \"allo :: bal\", \"\\u00e9ri :: e\\u0281\\u026a\\u0281\", \"llo :: l\\u0251\\u0254\\u032f\", \"ref :: \\u0259fa\", \"as# :: k\\u0259\\u0281\", \"allo :: l\\u0251\\u0254\", \"#ir :: \\u0281\\u026ag\", \"aien :: \\u026ana#\", \"#ref :: #\\u0281\\u0259f\", \"bal :: l\\u0251\\u0254\", \"erm :: #\\u0281\\u0259\", \"#ref :: \\u0281\\u0259fa\", \"#ref :: #\\u0281\\u0259\", \"#ex :: as#\", \"ref :: a\\u0281m\", \"refe :: \\u0281\\u0259f\", \"#ref :: \\u0281\\u0259f\", \"ober :: \\u0251\\u0254\\u032fb\", \"onn\\u00e9 :: \\u0251\\u0254\\u032fn\", \"ent :: \\u0272is\", \"ref :: #\\u0281\\u0259\", \"#enc :: \\u0251\\u0303\\u0283\", \"ober :: a\\u0281\\u0292\", \"rm\\u00e9 :: me#\", \"ber :: #g\\u0251\\u0254\", \"#re :: \\u0281\\u0259f\", \"efo :: \\u0281\\u0259f\", \"t\\u00e2t :: \\u0251\\u0254\\u032ft\", \"#bal :: l\\u0251\\u0254\", \"#ra :: \\u0281apa\", \"onn\\u00e9 :: ne#\", \"bour :: \\u026af#\", \"eme :: nm\\u00e6\", \"nn\\u00e9 :: \\u0254\\u032fn\", \"ira :: \\u026a\\u0281\\u0254#\", \"ref :: \\u0281\\u0259f\", \"nn\\u00e9 :: \\u0254\\u032fne\", \"ref :: #\\u0281\\u0259f\", \"nn\\u00e9 :: \\u0251\\u0254\\u032f\", \"nn\\u00e9 :: ne#\", \"onn\\u00e9 :: \\u0251\\u0254\\u032f\", \"all :: al\\u0251\", \"onn :: \\u0254\\u032fne\", \"ira :: \\u0281\\u0254#\", \"onn\\u00e9 :: \\u032fne#\", \"onn :: \\u032fne#\", \"nn\\u00e9 :: \\u032fne\", \"onn\\u00e9 :: \\u0254\\u032fn\", \"#re :: #\\u0281\\u0259f\", \"nn\\u00e9 :: \\u032fne#\", \"onn :: ne#\", \"onn :: \\u0254\\u032fn\", \"onn :: \\u0251\\u0254\\u032fn\", \"nn\\u00e9 :: \\u0251\\u0254\\u032fn\", \"onn :: \\u0251\\u0254\\u032f\", \"nte# :: \\u032ft#\", \"#d\\u00e9 :: #de\", \"onn\\u00e9 :: \\u032fne\", \"#re :: #\\u0281\\u0259\", \"nte :: \\u032ft#\", \"onn :: \\u032fne\", \"nte :: \\u0169\\u032ft\", \"iez :: lje#\", \"expr :: #ak\", \"liez :: je#\", \"rim :: p\\u0281\\u026am\", \"#en :: \\u0303t\\u0281\\u0259\", \"pri :: p\\u0281\\u026am\", \"iez# :: lje#\", \"ail :: b\\u0281a\", \"xpri :: aksp\", \"con :: #\\u0281\\u028fb\", \"expr :: \\u0281\\u026am\", \"ubic :: b\\u026ak\", \"bico :: \\u026ak\\u00f5\\u0169\", \"ill :: aj\\u00f5\", \"#rub :: \\u0281\\u028fb\", \"#ex :: ksp\\u0281\", \"xpr :: aks\", \"prim :: sp\\u0281\", \"expr :: #aks\", \"#obs :: \\u0251\\u0254\\u032f\", \"prim :: aks\", \"ez# :: lje#\", \"rai :: aja\", \"#exp :: sp\\u0281\", \"#exp :: p\\u0281\\u026am\", \"aill :: \\u0281aja\", \"xpri :: ksp\\u0281\", \"xpri :: aks\", \"d\\u00e9br :: deb\", \"exp :: aksp\", \"pri :: p\\u0281\\u026a\", \"ill :: t\\u0281a\", \"prim :: ksp\\u0281\", \"liez :: lje#\", \"#ex :: aksp\", \"lie :: je#\", \"ill :: aja\", \"liez :: lje\", \"ez# :: lje\", \"lie :: lje\", \"lie :: lje#\", \"lla :: aja\", \"rim :: #ak\", \"aill :: aja\", \"ent :: #\\u0251\\u0303t\", \"ez# :: je#\", \"sse :: as#\", \"ent :: \\u0251\\u0303t\", \"ent :: #\\u0251\\u0303\", \"asse :: as#\", \"ass :: as#\", \"iez :: je#\", \"iez# :: je#\", \"ent :: as#\", \"#br :: #b\\u0281\", \"sent :: as#\", \"ipo :: t\\u0281\\u026ap\", \"hauf :: \\u0281e\\u0283\", \"ffa :: \\u00e6\\u0303#\", \"ez# :: \\u026aje\", \"sser :: kas\", \"#eff :: ef\\u026al\", \"nes :: an#\", \"\\u00e8re :: \\u0281\\u0259\\u0281a\", \"rai :: a\\u0281\\u0259\", \"erai :: a\\u0281\\u0259\\u0281\", \"chau :: #\\u0281e\", \"ass :: #\\u0251\\u0303m\", \"era :: a\\u0281\\u0259\\u0281\", \"ncai :: kas\\u0259\", \"rai :: a\\u0281\\u0259\\u0281\", \"ais :: kas\", \"rer :: efa\", \"fant :: f\\u00e6\\u0303#\", \"erai :: a\\u0281\\u0259\", \"anit :: an\\u026a\", \"aiss :: \\u0251\\u0303ka\", \"ais# :: #am\", \"auff :: \\u0281e\\u0283o\", \"ter :: \\u0281je#\", \"sold :: #s\\u0251\", \"#vic :: #v\\u026a\", \"sse :: kas\\u0259\", \"aiss :: kas\", \"ais :: kas\\u0259\", \"rera :: a\\u0281\\u0259\", \"asse :: \\u028apl\", \"gira :: \\u0292i\\u0281\", \"rera :: a\\u0281\\u0259\\u0281\", \"\\u00e8rer :: a\\u0281\\u0259\", \"\\u00e9ch :: e\\u0283o\", \"ent :: ev\\u0251\", \"rer :: a\\u0281\\u0259\", \"era :: a\\u0281\\u0259\", \"rera :: \\u0259\\u0281a\", \"era :: s\\u0259\\u0281a\", \"era :: \\u0281\\u0259\\u0281a\", \"rai :: \\u0281\\u0259\\u0281\", \"rer :: \\u0259\\u0281a#\", \"rera :: \\u0281\\u0259\\u0281a\", \"rer :: \\u0259\\u0281a\", \"erai :: \\u0281\\u0259\\u0281\", \"rai :: \\u0281a#\", \"era :: \\u0281a#\", \"rer :: a\\u0281\\u0259\\u0281\", \"erai :: \\u0281a#\", \"rai :: \\u0259\\u0281a#\", \"era :: \\u0259\\u0281a#\", \"rai :: \\u0259\\u0281a\", \"erai :: \\u0259\\u0281a\", \"ait :: \\u0259\\u0281a\", \"era :: \\u0259\\u0281a\", \"erai :: \\u0259\\u0281a#\", \"ait# :: \\u0259\\u0281a\", \"rer :: \\u0281a#\", \"it# :: \\u0281a#\", \"rait :: \\u0259\\u0281a\", \"rait :: \\u0281a#\", \"ait# :: \\u0281a#\", \"it# :: \\u0259\\u0281a\", \"rer :: \\u0281\\u0259\\u0281\", \"ait :: \\u0281a#\", \"ait :: \\u0259\\u0281a#\", \"rait :: \\u0259\\u0281a#\", \"it# :: \\u0259\\u0281a#\", \"ait# :: \\u0259\\u0281a#\", \"#end :: \\u0251\\u0303d\", \"oss :: \\u0251\\u0303do\", \"tis :: #pa\", \"endo :: dos\", \"ren :: \\u0281\\u0251\\u0303s\", \"doss :: \\u0303do\", \"anne :: #an\", \"pact :: pak\", \"s\\u00e9e :: pak\", \"end :: #\\u0251\\u0303d\", \"err :: #ta\", \"cti :: \\u026aze\", \"#pa :: \\u0361s\\u026a\", \"ctis :: akt\", \"#en :: \\u0251\\u0303d\", \"oss :: dos\", \"sses :: ta\\u0281\", \"ent :: ba\\u0281\", \"oss :: #\\u0251\\u0303\", \"#pa :: t\\u0361s\", \"tis\\u00e9 :: akt\\u0361\", \"end :: #\\u0251\\u0303\", \"#d\\u00e9c :: pla\", \"#end :: #\\u0251\\u0303d\", \"cti :: pak\", \"act :: #pa\", \"#pac :: pak\", \"act :: ze#\", \"doss :: #\\u0251\\u0303\", \"tis :: s\\u026aze\", \"is\\u00e9e :: \\u0361s\\u026a\", \"ter :: #ta\\u0281\", \"rang :: #\\u0281\\u0251\", \"s\\u00e9e :: ze#\", \"doss :: \\u0251\\u0303do\", \"#te :: #ta\", \"#end :: #\\u0251\\u0303\", \"axer :: s\\u0259\\u0281\", \"sec :: #s\\u0259\", \"oss :: \\u0303dos\", \"era :: s\\u0259\\u0281\", \"ote :: \\u0251\\u0254\\u032ft\", \"#pa :: #pa\", \"end :: \\u0251\\u0303d\", \"ula :: \\u028ala\", \"end :: \\u0303do\", \"#en :: #\\u0251\\u0303\", \"era :: s\\u0259\\u0281\\u0254\", \"era :: \\u0281\\u0254#\", \"ser :: \\u0259\\u0281\\u0254\", \"era :: \\u0259\\u0281\\u0254\", \"era :: \\u0259\\u0281\\u0254#\", \"con :: \\u00f5\\u0169\\u032ff\", \"conf :: \\u0169\\u032ff\", \"nfi :: #k\\u00f5\\u0169\", \"onfi :: k\\u00f5\\u0169\\u032f\", \"onf :: \\u00f5\\u0169\\u032ff\", \"onf :: \\u032ff\\u026a\", \"tine :: at\\u0361s\", \"merc :: ma\\u0281s\", \"sol :: \\u0254\\u032fld\", \"ati :: \\u0361s\\u026an\", \"atin :: t\\u0361s\\u026a\", \"onf :: k\\u00f5\\u0169\", \"lote :: \\u0251\\u0254\\u032ft\", \"ent# :: #p\\u0281\", \"#con :: \\u0169\\u032ff\", \"onfi :: \\u00f5\\u0169\\u032ff\", \"n\\u00e2cl :: \\u0259nak\", \"caf :: #kaf\", \"cin :: \\u0129\\u032fd\", \"conf :: \\u032ff\\u026a\", \"old :: s\\u0251\\u0254\\u032f\", \"mer :: a\\u0281s\", \"ati :: lat\\u0361\", \"com :: \\u0251\\u0254\\u032fm\", \"onf :: #k\\u00f5\\u0169\", \"souf :: le#\", \"conf :: \\u00f5\\u0169\\u032f\", \"onfi :: #k\\u00f5\", \"cons :: #k\\u00f5\", \"nfi :: k\\u00f5\\u0169\\u032f\", \"#con :: \\u00f5\\u0169\\u032f\", \"#con :: k\\u00f5\\u0169\", \"#con :: #k\\u00f5\\u0169\", \"con :: k\\u00f5\\u0169\\u032f\", \"con :: #k\\u00f5\", \"con :: k\\u00f5\\u0169\", \"con :: #k\\u00f5\\u0169\", \"nai :: \\u026ana\", \"#con :: k\\u00f5\\u0169\\u032f\", \"con :: \\u00f5\\u0169\\u032f\", \"#co :: k\\u00f5\\u0169\\u032f\", \"#co :: #k\\u00f5\\u0169\", \"#co :: k\\u00f5\\u0169\", \"#co :: \\u00f5\\u0169\\u032f\", \"#con :: #k\\u00f5\", \"#co :: #k\\u00f5\", \"#re :: #\\u0281\\u0259\", \"pla :: #pla\", \"tin :: \\u0361s\\u026an\", \"onf :: \\u00f5\\u0169\\u032f\", \"\\u00e9gr :: g\\u0281\\u028aj\", \"los\\u00e9 :: loze\", \"pou :: d\\u0281w\", \"pou :: \\u028ad\\u0281\", \"ur# :: t\\u0153\\u0281#\", \"ina :: \\u026ana#\", \"eur :: t\\u0153\\u0281\", \"los :: ploz\", \"oudr :: \\u028ad\\u0281w\", \"r\\u00e9f :: efj\", \"ass :: s\\u0259\\u0281\\u0254\", \"omm :: p\\u0251\\u0254\", \"ur# :: t\\u0153\\u0281\", \"din :: \\u0361z\\u026an\", \"din\\u00e9 :: \\u0361z\\u026a\", \"#pom :: p\\u0251\\u0254\", \"udro :: \\u028ad\\u0281\", \"rim :: me#\", \"#po :: \\u0254\\u032fm\", \"eur# :: t\\u0153\\u0281#\", \"udro :: p\\u028ad\", \"roy :: waj\", \"surv :: #s\\u028f\", \"omma :: #p\\u0251\", \"pou :: \\u0281wa\", \"pou :: waj\", \"ent :: \\u0361s\\u026al\", \"#pom :: \\u032fma\", \"ent :: \\u0303ta#\", \"roy :: #p\\u028ad\", \"nti :: \\u0361s\\u026a\", \"ur# :: \\u0153\\u0281#\", \"teur :: at\\u0153\", \"aien :: \\u0251\\u0303t\", \"teur :: t\\u0153\\u0281\", \"pou :: p\\u028ad\\u0281\", \"plo :: loze\", \"teur :: \\u0153\\u0281#\", \"teu :: t\\u0153\\u0281#\", \"r\\u00e9ch :: #\\u0281e\\u0283\", \"nt\\u00e9 :: \\u0303te#\", \"roy :: \\u0281waj\", \"eur# :: \\u0153\\u0281#\", \"ier :: je#\", \"teur :: t\\u0153\\u0281#\", \"ique :: k\\u0259t\", \"eur :: \\u0153\\u0281#\", \"teu :: \\u0153\\u0281#\", \"teu :: t\\u0153\\u0281\", \"ssi :: \\u026as\\u026a\", \"\\u00e9rit :: \\u0281\\u026at\", \"eur :: t\\u0153\\u0281#\", \"naie :: \\u026ana\", \"lie :: lje\", \"ent# :: na#\", \"gra :: g\\u0281an\", \"ran :: g\\u0281a\", \"ran :: \\u0281an\", \"#gr :: n\\u028fl\", \"ili :: #f\\u026al\", \"iez# :: lje#\", \"ach :: \\u0283m\\u026a\", \"riez :: l\\u0259\\u0281j\", \"gran :: g\\u0281a\", \"gran :: g\\u0281an\", \"deur :: d\\u0153\\u0281\", \"ez# :: al\\u0259\\u0281\", \"fili :: f\\u026al\", \"ran :: n\\u028fl\", \"ez# :: l\\u0259\\u0281\", \"rac :: se#\", \"riez :: al\\u0259\", \"#\\u00e9n :: en\\u028f\", \"erie :: al\\u0259\\u0281\", \"gran :: #g\\u0281\", \"riez :: l\\u0259\\u0281\", \"inh :: nal\", \"#car :: a\\u0281ta\", \"igra :: g\\u0281a\", \"ez# :: l\\u0259\\u0281j\", \"ranu :: \\u0281an\", \"gou :: \\u0251\\u0303g\", \"iez :: f\\u026al\", \"iez :: l\\u0259\\u0281\", \"iez# :: f\\u026al\", \"ere :: l\\u0259\\u0281\", \"ez# :: al\\u0259\", \"rie :: l\\u0259\\u0281\", \"riez :: \\u0259\\u0281j\", \"riez :: \\u0259\\u0281je\", \"erie :: \\u0259\\u0281je\", \"ez# :: \\u0259\\u0281je\", \"erie :: \\u0281je\", \"eri :: \\u0281je\", \"eri :: \\u0281je#\", \"eri :: je#\", \"erie :: \\u0259\\u0281j\", \"eri :: \\u0259\\u0281je\", \"eri :: \\u0259\\u0281j\", \"rie :: \\u0259\\u0281je\", \"iez :: \\u0259\\u0281j\", \"rie :: \\u0259\\u0281j\", \"ez# :: \\u0259\\u0281j\", \"erie :: je#\", \"iez# :: \\u0259\\u0281je\", \"iez# :: \\u0259\\u0281j\", \"erie :: \\u0281je#\", \"iez :: \\u0259\\u0281je\", \"gra :: g\\u0281a\", \"rie :: je#\", \"riez :: \\u0281je#\", \"iez :: je#\", \"ez# :: je#\", \"iez# :: je#\", \"rie :: \\u0281je\", \"rie :: \\u0281je#\", \"iez# :: \\u0281je#\", \"iez :: \\u0281je#\", \"ez# :: \\u0281je\", \"riez :: je#\", \"riez :: \\u0281je\", \"iez :: \\u0281je\", \"iez# :: \\u0281je\", \"ez# :: \\u0281je#\", \"lass :: #las\", \"#d\\u00e9c :: ek\\u0251\", \"uri :: \\u028f\\u0281j\", \"fic :: #f\\u026a\", \"aju :: a\\u0292ys\", \"nj\\u00f4l :: \\u0251\\u0303\\u0292o\", \"enj\\u00f4 :: \\u0303\\u0292ol\", \"#bar :: \\u0281at\", \"nj\\u00f4 :: \\u0303\\u0292o\", \"nj\\u00f4 :: \\u0251\\u0303\\u0292\", \"rie :: \\u028f\\u0281j\", \"ser :: l\\u026as\", \"ranu :: an\\u028f\", \"bar :: #ba\", \"oier :: \\u00f5\\u0169\\u032f\", \"iez :: s\\u0259\\u0281j\", \"ssi :: s\\u026as\", \"apta :: apt\", \"fle :: \\u0153\\u0281e\", \"#v\\u00e9g :: ve\\u0292\", \"enga :: \\u0281\\u0251\\u0303g\", \"#fr :: \\u00f5\\u0169\\u032f\", \"es# :: \\u0281\\u0259l\", \"urie :: \\u028f\\u0281j\", \"nj\\u00f4l :: \\u0251\\u0303\\u0292\", \"\\u00e2me :: \\u0283am\", \"#enj :: \\u0303\\u0292ol\", \"#her :: \\u0281ba\\u0292\", \"#go :: g\\u028a\\u0281\", \"rba :: #a\\u0281\", \"#min :: m\\u026an\\u026a\", \"rner :: \\u0281a#\", \"mur :: m\\u028f\\u0281\", \"bara :: a\\u0281a\", \"hon :: \\u00f5\\u0169\\u032f#\", \"#st :: at\\u0361s\", \"des :: sela\", \"iez :: \\u028f\\u0281je\", \"#ren :: \\u0281\\u0251\\u0303\", \"ira :: t\\u0361s\\u026a\", \"y\\u00e2me :: \\u0251m#\", \"sous :: \\u0281\\u0254#\", \"ns# :: pa\\u0272\", \"bara :: #ba\", \"ssen :: l\\u026as#\", \"iez :: \\u0281je#\", \"age :: a\\u0292a\", \"#re :: \\u0281\\u0251\\u0303\", \"#fi :: #f\\u026a\", \"iez :: \\u0281je\", \"es# :: ne#\", \"iez# :: \\u0281je#\", \"rie :: je#\", \"lai :: la#\", \"riez :: \\u0281je\", \"ez# :: \\u0281je#\", \"ez# :: \\u0281je\", \"riez :: \\u0281je#\", \"iez# :: \\u0281je\", \"rie :: \\u0281je#\", \"iez :: je#\", \"riez :: je#\", \"rie :: \\u0281je\", \"#en :: #\\u0251\\u0303\", \"ez# :: je#\", \"iez# :: je#\", \"ass :: as#\", \"sse :: as#\", \"rass :: k\\u0265i\", \"#sa :: al\\u026a\", \"#pr :: \\u0281\\u0251\\u0254\\u032f\", \"dur :: \\u028f\\u0281s\\u026a\", \"#dur :: d\\u0361z\\u028f\", \"urci :: z\\u028f\\u0281\", \"#dur :: \\u0361z\\u028f\\u0281\", \"dur :: #d\\u0361\", \"sali :: #sal\", \"ulu :: yl\\u028f\", \"rass :: \\u0265i\\u0281\", \"bos :: \\u0251\\u0254\\u032fs\", \"ass :: k\\u0265i\\u0281\", \"urci :: \\u028f\\u0281s\", \"rass :: #k\\u0265\", \"#cui :: \\u0281as\", \"rci :: #d\\u0361\", \"#dur :: #d\\u0361\", \"#dur :: z\\u028f\\u0281s\", \"durc :: \\u028f\\u0281s\", \"aqu\\u00e9 :: ake\", \"#sal :: sal\\u026a\", \"rci :: \\u0361z\\u028f\", \"rci :: z\\u028f\\u0281s\", \"#pla :: lan\", \"boss :: #b\\u0251\", \"durc :: \\u0361z\\u028f\", \"#\\u00e9t\\u00ea :: #ete\", \"ali :: sal\", \"#du :: d\\u0361z\\u028f\", \"dur :: d\\u0361z\\u028f\", \"las :: k\\u028apl\", \"gor :: g\\u0251\\u0254\", \"#pro :: \\u0281\\u0251\\u0254\\u032f\", \"#pro :: p\\u0281\\u0251\", \"#pr :: #p\\u0281\\u0251\", \"lla :: as#\", \"gu\\u00e9 :: ge#\", \"pro :: \\u0251\\u0254\\u032f\", \"pro :: p\\u0281\\u0251\", \"pro :: #p\\u0281\\u0251\", \"dur :: d\\u0361z\", \"nt# :: fla\", \"ais# :: la\\u0281\", \"ge\\u00e2 :: #de\", \"#pro :: p\\u0281\\u0251\\u0254\", \"d\\u00e9cu :: k\\u028fp\", \"boss :: \\u0251\\u0254\\u032f\", \"\\u00e8ren :: a\\u0281#\", \"pro :: \\u0281\\u0251\\u0254\\u032f\", \"nt# :: ta\\u0281#\", \"ent :: a\\u0281#\", \"\\u00e8re :: a\\u0281#\", \"enc :: \\u0303k\\u028a\\u0281\", \"lise :: \\u0281al\", \"toi :: a\\u0281#\", \"d\\u00e9te :: et\\u0251\\u0303\", \"\\u00e9ra :: e\\u0281al\", \"fine :: \\u026an#\", \"\\u00e9ral :: e\\u0281a\", \"vali :: al\\u026a\", \"plo :: ze#\", \"our :: \\u0303k\\u028a\\u0281\", \"ouff :: #b\\u028af\", \"erai :: \\u0251\\u0303s\", \"ent :: da#\", \"nnez :: \\u032fne#\", \"\\u00e2tes :: ata\", \"anc :: \\u00e3\\u0169\\u032fs\", \"an\\u00e9 :: #ane\", \"g\\u00e9n :: ne\\u0281\", \"lle :: \\u028aje\", \"uff :: s\\u028afl\", \"#d\\u00e9 :: le\\u0281a\", \"tru :: t\\u0281y\", \"ienn :: jan#\", \"omi :: \\u0254\\u032fm\", \"souv :: #s\\u028av\", \"rali :: \\u0281al\", \"sig :: #si\\u0272\", \"ina :: nal#\", \"tas :: eta\", \"#d\\u00e9 :: \\u028a\\u0281b\", \"ass :: #f\\u0281a\", \"\\u00e9ral :: \\u0281al\", \"acho :: \\u0251\\u0254\\u032f\", \"es# :: g\\u0251\\u0254\", \"enne :: an#\", \"lera :: #va\", \"erm :: \\u0281me\", \"\\u00e9ra :: e\\u0281a\", \"rai# :: \\u0281a#\", \"#enc :: #\\u0251\\u0303\", \"ton :: t\\u0251\\u0254\", \"cou :: #ak\", \"rrig :: \\u0281\\u026ag\", \"#ac :: ak\\u028a\", \"cco :: #ak\\u028a\", \"cou :: #ak\\u028a\", \"#ac :: #ak\\u028a\", \"ncl :: kla\", \"out :: ak\\u028a\", \"lon :: al\\u0251\\u0254\", \"ccou :: #ak\", \"outr :: ak\\u028at\", \"ccou :: ak\\u028a\", \"acc :: ak\\u028a\", \"irr :: i\\u0281\\u026a\", \"ille :: aje#\", \"roy :: aje\", \"tro :: #t\\u0281\\u028a\", \"ait :: k\\u00f5\\u0169\\u032f\", \"fil :: le#\", \"ccou :: #ak\\u028a\", \"rrig :: #i\\u0281\\u026a\", \"#ef :: ef\\u026a\", \"#acc :: #ak\\u028a\", \"pla :: la\\u0281\", \"allo :: bal\", \"ant# :: \\u0254\\u032fl\", \"otta :: \\u0254\\u032ft\", \"#irr :: #i\\u0281\\u026a\", \"cou :: k\\u028at\", \"acco :: ak\\u028a\", \"#acc :: ak\\u028a\", \"cou :: ak\\u028a\", \"nd\\u00e9 :: \\u00f5\\u0169\\u032f\", \"cco :: ak\\u028a\", \"jure :: \\u0281\\u0259\\u0281\", \"asse :: #sa\", \"urci :: d\\u0361z\", \"#acc :: #ak\", \"lez# :: ble#\", \"te# :: \\u00e3\\u0169\\u032ft\", \"sce :: esel\", \"orgn :: l\\u0251\\u0254\", \"sse :: as#\", \"ica :: \\u026aka\\u0281\", \"asse :: as#\", \"ass :: as#\", \"ord :: \\u0251\\u0254\\u032f\", \"man :: m\\u0251\\u0303d\", \"ord :: #k\\u0251\\u0254\", \"nt# :: k\\u0251\\u0254\\u032f\", \"ail :: \\u0153\\u0281#\", \"t\\u00e8r :: \\u032fta\\u0281\", \"urs :: j\\u0153\\u0281#\", \"#cor :: \\u032f\\u0281d\", \"iez :: alje\", \"ord :: \\u0254\\u032f\\u0281\", \"ais# :: b\\u0251\\u0254\\u032f\", \"era :: z\\u028fm\\u0259\", \"ens :: p\\u0251\\u0303\", \"cord :: \\u0254\\u032f\\u0281\", \"ffa :: \\u026afa\", \"can :: kan\\u0254\", \"ord :: \\u032f\\u0281d\", \"#pi :: \\u026ak\\u0251\\u0254\", \"ant :: n\\u00e6\\u0303\", \"ais# :: #va\", \"ord :: \\u0251\\u0254\\u032f\\u0281\", \"#can :: #ka\", \"har :: a\\u0283a\", \"din :: \\u0361z\\u026an\", \"imac :: \\u026ama\", \"d\\u00e9b :: deb\\u0251\", \"#cor :: \\u0251\\u0254\\u032f\\u0281\", \"sses :: \\u0292as#\", \"rda :: \\u0254\\u032f\\u0281\", \"oppr :: \\u0251\\u0254\\u032f\", \"nt# :: \\u0254\\u032f\\u0281\", \"can :: #ka\", \"ens :: \\u0303se\", \"#ca :: #kan\", \"ord :: \\u0254\\u032f\\u0281d\", \"can :: #kan\", \"cord :: \\u0254\\u032f\\u0281d\", \"\\u00e9cha :: de\\u0283\", \"#co :: k\\u0251\\u0254\\u032f\", \"nt# :: a\\u0281#\", \"#co :: \\u0251\\u0254\\u032f\", \"ent# :: a\\u0281#\", \"ant :: \\u00e6\\u0303#\", \"ent :: a\\u0281#\", \"#co :: #k\\u0251\", \"\\u00e8re :: a\\u0281#\", \"#co :: #k\\u0251\\u0254\", \"ren :: a\\u0281#\", \"#co :: k\\u0251\\u0254\", \"ent# :: \\u0251\\u0254\\u032f\", \"nt# :: \\u0251\\u0254\\u032f\", \"\\u00e8ren :: a\\u0281#\"], \"Freq\": [61.0, 63.0, 38.0, 82.0, 59.0, 38.0, 64.0, 38.0, 60.0, 61.0, 38.0, 39.0, 38.0, 38.0, 38.0, 61.0, 39.0, 60.0, 41.0, 45.0, 17.0, 41.0, 16.0, 17.0, 17.0, 18.0, 17.0, 17.0, 16.0, 17.0, 6.15508265246695, 5.461744661461449, 5.467191701806208, 5.447206882360319, 5.5726954039954, 5.223252327696172, 5.808482288490984, 3.481089779381521, 5.447887737972408, 4.798992258633526, 4.19177053053173, 6.173315681026876, 5.177219598115831, 5.223531837708149, 6.079323623735096, 5.12310216662688, 5.083425068480122, 5.87140089512768, 4.930506159705286, 4.825454111484419, 4.782329394973025, 5.110985398876947, 4.960474155501313, 5.323941601442355, 6.249104407982223, 5.0470837471161865, 4.022729151556852, 6.268720184120601, 4.090125106086092, 5.059858656364103, 5.585972729269977, 6.061711542251245, 6.358951060501802, 16.101266976993156, 16.11627935605088, 15.576151692733347, 18.619660264578396, 15.369375277372917, 14.894478522260815, 15.02883683536999, 14.954560654424986, 15.053424384298179, 6.608852064077805, 6.008613056659925, 6.229345832851411, 6.182681951864866, 6.076450094617305, 5.876802177346565, 5.714754633125756, 5.831210648677328, 5.682352932589377, 5.589848976825474, 5.614387836997267, 5.615585358614133, 5.605618293980189, 3.6589366084394928, 3.3151176169462, 2.527625666288526, 2.702339575419868, 5.042712410765457, 3.107906946985316, 5.463184362737591, 2.232187908768557, 3.143016150733583, 3.3167293570822385, 2.9948478013175754, 2.4455953975837263, 3.6602573590388836, 3.7430058017294408, 2.9987402001376133, 3.649536058156072, 4.194354634791442, 4.593639374466146, 4.448836660107092, 4.263557375566849, 4.453922672125039, 2.9481138773434012, 2.041535477180044, 3.155739155460374, 3.0054490982839788, 2.468402232503841, 4.922759221412799, 2.247031838173631, 2.854565396036038, 1.9592000569271233, 4.651550933307107, 5.259372679237103, 4.623699407426973, 4.18656686046062, 5.248723980888462, 4.790663261327378, 4.770245759833807, 4.707005639773631, 4.73487330278056, 6.129996186812076, 5.9592594262983, 4.817330551654423, 15.898116370693245, 9.507759447633754, 9.410614621753028, 6.222704903835151, 9.234982434408849, 5.852170120160562, 5.961998866689868, 6.16657102251104, 6.7748031226064, 5.951413716747921, 5.963255924449516, 6.770258947122817, 6.023617576263954, 5.881800023265156, 6.601055421963845, 5.885866902298889, 5.864290106990805, 6.009099450168146, 5.8398097701461795, 5.887445806320878, 5.889383929156328, 5.59042320261065, 5.721503664811908, 5.955202004034928, 6.933258003855284, 6.877640609780512, 6.688709162718428, 6.35913996442199, 6.503755486468663, 6.336927243547836, 5.841588020866565, 2.2644049775420507, 2.8984134525470817, 3.100610485176179, 2.3262337703104055, 1.9793409613495887, 1.831043307531792, 2.2807635708454495, 2.1335841769878328, 1.9236534579345974, 3.1743234379490284, 2.964496065079496, 1.741278529702378, 2.766622861662141, 2.78310097532123, 3.325338953216129, 2.1454443333977746, 2.331060877529917, 2.0977459216060117, 2.0436811904223537, 3.1883036549026733, 1.568102244834437, 2.2892003353318247, 2.334819507943557, 2.9121056245694685, 3.0426467744934262, 1.9728417288103073, 1.9288081915975976, 1.5237950917251968, 2.346747839551325, 3.1235642763140916, 2.205511950313212, 2.9865617830461475, 2.3958117963620973, 2.3749551606796153, 2.607048080229852, 3.3482699633405524, 2.307828745850555, 2.9981403651704053, 3.8064971245084522, 4.732607197192775, 2.91596970491865, 8.828051223719182, 8.662307723871228, 8.60728026152304, 4.752721217725167, 4.67501758517634, 4.710225660135327, 3.0269785580153967, 3.0998830099328893, 4.233545457685354, 3.782843122433924, 3.9265373571638342, 3.6381102298458567, 5.40452452313215, 5.220332004841039, 5.084753578958985, 5.536454149317351, 4.604935110752958, 5.092524897748452, 4.97458657146648, 4.994048081489295, 4.484934523976315, 5.014298379898763, 4.9431936992739045, 4.175420757819572, 3.4727233930777373, 3.468373276768899, 3.52444657690259, 3.336973336429776, 3.4185854672932066, 1.8603024517976567, 1.270805885343834, 1.647914588430447, 1.177809798168491, 1.16924085482485, 1.4019981650110338, 1.3005016876749729, 1.3756337804288084, 1.202258483592742, 1.8881750597953144, 1.3454936355835172, 1.2093007092159076, 1.74200960017132, 1.1281233167106264, 1.4549015473194735, 1.2097072177588477, 1.2551953379903313, 1.2058674100785707, 1.3613011602968408, 1.078111897319759, 1.3168923113147155, 1.6630595869195803, 1.3432469854795335, 0.9563673551658227, 1.5148235384796644, 1.4371068846759893, 1.158178931855692, 1.3340168775195707, 1.5779569698884122, 1.1848729887137308, 1.3556540813763758, 1.4901834720132323, 1.5251265398612655, 1.4870572466618839, 2.9423328382825935, 3.2726652943289833, 1.660577333932996, 2.792421413637161, 2.7522780584007136, 2.5783716696670504, 1.763322589272549, 3.2183526576274413, 2.6443769042620437, 3.120826615073347, 2.7323697389463657, 2.9897792470535323, 2.7246961360435997, 3.0357696894572044, 2.4191898413647075, 2.403750058521279, 2.9841526036959145, 2.5086725547283693, 2.3608698533976624, 2.7358089683769884, 2.586757343100345, 2.660099067662815, 2.6560544209326027, 2.6424083784474717, 2.707648704914213, 2.4421625947698233, 2.5975108263966162, 2.551844334236082, 2.566914051734766, 2.3883386530114694, 2.512437179678611, 2.5205011536283957, 3.982079418860814, 3.4612625558011985, 3.3252988313074985, 3.316451133984427, 2.526540895108809, 1.3151744244332788, 1.2790495841190594, 1.4581374661218522, 1.183036472850561, 1.5466297382382834, 1.5934182502874856, 1.2960893198900598, 1.458511622620463, 1.1186277817376042, 1.2094576365922223, 1.286930679446406, 1.7599093846991885, 1.0936533195786478, 0.9270433543782798, 1.1267077713705091, 1.4332375600996234, 1.4379656464676909, 1.0389485362994946, 0.9075563870047065, 1.1750150491461884, 1.1409213388019557, 1.1999373999604885, 1.2991404602032772, 1.4135692081982048, 1.163108719015971, 1.2895422607213542, 1.3717337672148973, 1.0962657740397197, 0.883546315373424, 0.9707845493377794, 1.1239597705146946, 2.167519562557449, 1.9118332472638804, 2.104704209875592, 2.253640687883636, 1.9455460836605896, 1.8488345280095884, 1.9290286063407702, 2.129799469024048, 1.9632585441591097, 1.39613158868424, 1.512758568824317, 3.124404891740517, 1.8321927614917448, 1.8174094317462914, 1.9082584197465267, 1.852626652767295, 1.5022568360493829, 1.7294363534667236, 2.2109858427883555, 2.21605816728235, 4.115456518550735, 3.2380031983377444, 3.2053875279495028, 3.195335751067196, 3.175832419179708, 3.169952731372676, 3.140063617582983, 3.1814149662170172, 3.140836800158531, 2.495910326612391, 2.0011796678413933, 2.0825814784188834, 1.898029146055404, 2.0980078665822304, 2.0563810943918788, 2.0466505241321284, 1.9141184377016371, 1.9228498267721534, 2.1236021126599676, 1.4548821756133667, 1.443197697853755, 1.4750757398358771, 1.1813021487722961, 3.8550322545431683, 1.777538950275808, 4.054438233502128, 1.2236249625833926, 1.2754373297006916, 1.190194820487791, 1.6904578995127673, 1.4983651705581715, 1.2814378417796628, 3.491073966502455, 1.5768408634952922, 1.6305511319731365, 3.487070627929233, 3.936337240465804, 1.1299742208399688, 3.4856083061993184, 1.2649636115043248, 0.8490609470382483, 1.3236050252509122, 1.6578533565230469, 3.6205170151073305, 1.403470058659946, 1.76511085959034, 3.621775467902607, 1.4467838162800954, 3.774408473202385, 3.6870238988689, 3.4718143652950655, 3.6250462811679856, 3.658141453298651, 3.5279020953832783, 3.4851083798343097, 3.44783162290185, 3.415049694013605, 3.4836800700762405, 3.64496758484348, 3.8069621365648643, 3.4932362013075453, 3.3781530962606663, 3.7963206258529896, 3.749901980699525, 3.6587201813722263, 3.834998508906707, 3.799454924640178, 3.8089969912957713, 3.6709486822156756, 3.6289723280677246, 3.7928114616278696, 3.809667439584785, 3.7684229917443557, 3.6814014512457685, 3.6353324074696096, 3.729074570673726, 3.711277075341594, 3.589460239800137, 4.0546714400239665, 3.9764109126557057, 3.921104137590779, 2.3904836117587336, 2.697585745882785, 2.467390280508053, 2.7360563990022038, 2.3677160287288626, 2.4021642528971285, 1.9056647143089347, 2.3617902300517297, 1.9150361029388139, 2.0886201079050735, 1.7749106124335858, 1.999603722510421, 2.2236389646855717, 1.9029910599529352, 2.388669381328483, 1.6482449557168732, 1.8121287423851933, 1.7731599045807334, 2.3498853020718067, 1.863729360108278, 1.934383373973248, 1.9609081972244922, 2.4290682138331077, 1.648140927208363, 1.8383037580416814, 1.7648029694881315, 1.8409368527519645, 1.5664046596901477, 1.533261405876391, 1.12610383035668, 1.7529111052776019, 1.9801667914810936, 3.945397744252029, 3.6395309119934907, 3.449741012285375, 3.545265162717464, 3.3094120818027615, 3.2468862680469215, 3.2527309898841312, 3.302232530394558, 3.3363337186998843, 3.3263732461864164, 3.2348017617989266, 3.2580135992291495, 3.2481233132040033, 3.047754108432059, 3.3074116146121826, 3.3306645736494844, 3.2641494051021076, 2.7754526513591933, 4.0552535903412625, 4.029520324802738, 3.9135910854509763, 3.8792347783580565, 3.8442774339512957, 3.8627729926969225, 3.7241580999212758, 3.6052633315227283, 3.616154686866415, 3.404267292414712, 3.717476315479451, 3.3142679918348303, 3.2759409820607526, 1.8053004282190332, 1.4372264453326162, 1.127494966519801, 1.603170752446712, 1.4836351570096562, 1.8014987462829528, 1.597642925825876, 1.14130500431842, 1.6737849153325233, 1.4319152176101013, 1.4692677615987475, 0.9622744826545029, 1.719533090532966, 0.9607948785602919, 0.9438760898040904, 1.0556777879252275, 0.9008280399850208, 1.3652857263328706, 1.1827863634240914, 1.2823229206722346, 1.1472167319540632, 1.8914155208865882, 1.123607969204968, 0.9674913511084954, 1.4358795746346928, 1.1017333519835237, 0.9804412321539865, 1.1649963518149062, 1.0560514710925446, 1.1258587689639905, 1.2289820658524515, 1.6033478342308383, 1.5638285087776915, 1.8440143952764663, 1.5733386621495224, 1.8429395204087446, 1.4330869498466925, 1.9045463065602877, 1.4968073242443243, 2.3259998378143734, 1.3794647936850672, 1.8877648465579902, 2.070228371319366, 1.4320221880458797, 2.089278650804347, 5.101215472513617, 1.6009570847192505, 4.635160609115648, 4.5814798953678535, 1.905050126483197, 2.06370907238519, 2.2170130283291862, 2.0505564072775955, 1.9290484971370845, 1.8910759748280943, 3.131799382273322, 1.8607714758860807, 2.125233852449673, 2.0820133073244635, 2.254967109138616, 2.0508195192310623, 1.7775564352590454, 1.940557364080887, 1.9136387904790113, 1.8910706849972687, 1.8974180854111573, 2.0722459936586075, 1.8967358026524228, 1.8956976541878305, 1.9404059884882805, 1.8714546671210581, 1.5289016536440174, 2.0114777005942597, 1.588518866022632, 2.1341816465061605, 1.45079460721064, 1.5375413380042526, 2.033814694628741, 1.3723530967563202, 1.6746652712708854, 1.2463828201092662, 1.343298578100413, 1.322514134614283, 1.4970816338776993, 1.9907240932579409, 1.3392773558786386, 1.9969432526412478, 1.9172901718055702, 2.0224538200875077, 1.2569550901998088, 2.120181963756749, 1.392702924483247, 1.3380456166316117, 1.6185563912217975, 1.2083973288936027, 1.3091760231687306, 1.6167665649345595, 1.3616146211573847, 1.5206276743441656, 1.4528843273065781, 1.3367182657617003, 1.6338086016218136, 2.2236934971307094, 1.7202139455090293, 1.5770917719108093, 1.9502227107483028, 1.934881957345532, 1.959971750818328, 1.5657349364564142, 1.830064193069675, 1.5736603391645099, 1.551627629424092, 1.6683928901159353, 1.9692642214770812, 1.9407869154291673, 4.642136152246947, 1.7933152906395011, 1.9524504140012744, 1.8242950394329598, 3.2747457132456286, 3.2083269826607985, 3.1340789967204943, 1.8015922069088635, 2.19832673465031, 1.7402961878809873, 1.767161246562846, 2.51791274858409, 1.7047635057113322, 1.7725597116739178, 1.7173197394336854, 2.0594045487250314, 2.1265082044239465, 1.1475456345391954, 0.9852048968879479, 1.2153433047625903, 1.92141665410806, 2.3022675305913975, 0.8651665323324137, 1.2016438004848593, 0.7963330376837952, 1.0394924828743541, 2.380139986525234, 1.1857868663019868, 1.3090176715157744, 1.0182616570547576, 1.4781359595182326, 2.0257063567046965, 0.93551974980983, 1.3250393682054857, 1.0822046608508555, 1.482490539670231, 1.0152221395999068, 3.520112285933284, 1.0202616571591867, 1.7183945928347286, 2.076125423969381, 1.1874875514272505, 1.0226614756074937, 0.9014454584034383, 1.20752001641124, 0.958949638298161, 0.9900556882031879, 1.8759629458214164, 2.450346594773366, 1.2185992598176505, 3.264519181601616, 1.3321760517213646, 1.8077371330145218, 2.8218483033966, 2.7772276821929016, 1.7311658794763252, 2.6450302112379616, 2.7019190583163444, 2.6297785672196285, 2.6176530680419754, 2.646378836398764, 4.6486957630320065, 1.8919309212497697, 2.1803614125207917, 2.358943527408551, 1.746597273635644, 2.549170477121166, 1.7440860790900117, 2.5147192466981845, 2.4504823721643834, 2.316487940717462, 2.282171606452031, 2.2281193868124025, 2.2354684995896523, 2.2201050357286296, 1.9231723629874513, 2.1448445938678664, 1.8275733131178498, 1.890161792458197, 2.0456340013469325, 1.4052448372573012, 1.3599074597821834, 1.8049871295526132, 1.811248981799223, 1.7608728055212841, 1.2043748760706454, 1.4628497499961588, 1.8965112520402168, 1.4846330696034116, 1.978741575322101, 1.504233820960817, 1.2855486515973187, 1.5329249845620168, 1.6970238855756337, 1.6115038030502782, 1.452815952318747, 1.51234053288085, 1.3948790445967671, 1.0027817177833096, 1.4254342180789876, 1.2796578906080014, 1.4768935802573444, 1.5653697377840126, 1.552359418636625, 1.9847913137800286, 1.6127766791781581, 1.72077028092507, 1.7623599065689106, 1.9318758268886096, 2.404432308039766, 1.8782689678410882, 1.6941058881183797, 1.7776564778850534, 2.0560880243219133, 1.714146662201047, 1.8164293256909627, 1.8309719874500587, 1.9060114004910542, 1.7306608982134821, 3.9263637665423894, 1.8215105993754825, 3.402812516456603, 3.3983056817791413, 3.4126354341610323, 3.0097235935791216, 3.010342465982152, 2.993933815217952, 2.80711182069525, 2.669561273678756, 2.6600386031614556, 2.641733770780805, 2.628047776852456, 2.577841243965663, 1.917733066513289, 3.0148959056929483, 6.221732954618412, 2.810522613179834, 2.7401638194957596, 6.370447765920201, 2.713362136354306, 2.9028777998075332, 2.0813468452275017, 2.8166287762069433, 6.151147273383021, 6.374241940298623, 6.269093287336304, 6.234327649982821, 2.7769399361087777, 2.3799180667262005, 3.079130148315745, 6.474075567460711, 6.3659277504759, 6.3906808268145765, 6.294142705884995, 2.770752451198982, 6.234096828284841, 6.232379967683966, 2.8425355721310455, 6.622630024439394, 6.487639671844878, 2.707823379217302, 1.9868635692365184, 2.074961791846627, 2.37491483113811, 6.41261857884699, 6.510980554337268, 3.4877913392074773, 3.7987139017229445, 3.927394809188506, 3.4948782261303326, 9.79504728766306, 9.699634773062192, 9.340237129705665, 9.254240708736166, 9.398275384750653, 9.193795412133149, 9.165538694720338, 9.18529518748029, 9.162825627891984, 4.0068152362772524, 3.695603269758136, 3.67092824861756, 4.33597616972326, 1.852453222907959, 1.31973942829663, 1.950304477554864, 1.8056997058214292, 1.772081783027615, 1.7950036031556427, 1.4674545957846816, 1.2636329108263473, 1.512927027408028, 1.6301729625396528, 1.6159049373817773, 1.499036775208673, 1.016636420485354, 1.1903981050018553, 1.3291906086033598, 1.3254636554884645, 1.1614900000013686, 1.4778065463727688, 1.2443268181578466, 0.9889206014251536, 1.6531803659935063, 1.1660859549305926, 1.1026244978395494, 1.2175360071682135, 1.1262209042236184, 0.9376710610916238, 1.1652101033760416, 1.2713917504408807, 1.5773068235921255, 1.2393442184512584, 1.6549284789759684, 1.5609218990513039, 2.5146671511837346, 2.5588064060526596, 1.4462974741488213, 2.566647374167264, 2.5687055908913567, 2.5126497873525677, 2.0529090339825675, 1.6009213590683975, 1.5180575889800134, 1.630036488387737, 1.7952888329304102, 1.7737657209370672, 1.6215486025335, 1.71739335049016, 1.7555941357704237, 1.7075828171877505, 2.970723084343319, 1.7850686884327662, 1.877557261465329, 1.8101191080995411, 1.7291212887797949, 1.7426511512053833, 1.7375124320459105, 1.7500081866953816, 1.9353299715482069, 1.9205409598941563, 1.8787149354997024, 1.6872668678578469, 1.3989664899370953, 1.1844928830124668, 1.2310347351229776, 1.1313954337709844, 1.2444965213682286, 1.5052815349256048, 1.2931619232593494, 1.0069950768533684, 1.3630066748842145, 1.1129741121589989, 1.056643396878352, 1.31504694283986, 1.230200443842975, 1.4346845979743668, 0.9461608040586332, 1.014487756880256, 1.2548688262540546, 1.4624736728809873, 1.2407768693305397, 0.9847773094665734, 1.067258999417036, 0.9358231571862637, 1.4556559009404066, 1.423662081183727, 1.2278301357682244, 0.996880851932744, 0.9341352379536761, 0.9603113649117283, 0.9482280862694311, 0.8488104856390621, 0.9652797158372359, 1.3953573816162044, 1.2632807830982744, 1.4569143870840275, 1.332957400702065, 1.3818705054317408, 1.2682660032271142, 1.339653832767553, 1.3687257972143358, 1.3363829967228815, 1.3232784691124606, 1.454557017363832, 1.290708454868176, 1.9628487265366374, 2.1425928910426273, 1.9686879593930884, 1.8754347094000272, 1.346233467529593, 1.302158795627923, 1.7647720593507001, 1.5982431829349095, 1.5872422914958622, 1.5891086610961591, 2.2738757676747903, 1.5386184988848426, 1.5192595550121626, 1.5257656748813564, 1.7493922279996506, 1.578006690154685, 1.4167445307591455, 1.4149435599807323, 1.393465442751026, 1.3539197401053735, 1.1201246234313302, 1.219769853860205, 0.8168641952582375, 0.9263064143881133, 0.9171341450548034, 1.0743590969977848, 1.238950789470494, 0.9066836693420343, 0.9796558696054186, 1.1492835277782407, 1.0021556201668165, 0.9173595899505231, 1.007525755460685, 1.1320953823000486, 0.8434340632960035, 0.9498571503490132, 0.7639996124903565, 0.7537545978847806, 1.014389355294187, 0.8709745170711046, 0.830649705678697, 0.900398469147799, 1.108925767112112, 0.8686628424791512, 1.2580977945059313, 1.097059212409575, 1.0322690215113541, 1.0494418674082633, 0.9595937637473537, 1.038748132620733, 1.7450478842460713, 0.9737995984679092, 1.3448460637218422, 0.967620793511617, 1.2918094167459315, 1.2849236730851863, 1.0717873057029252, 1.143983715165968, 1.2388240101588281, 1.2024396010468783, 1.303736905823452, 1.2331891008567963, 1.1800057935424444, 1.2691631820672886, 1.2367130436077836, 1.2818695736171872, 1.3172542465251196, 1.2240040806858958, 2.5854162536835514, 1.2542337794458494, 2.668528483775438, 2.34410336820037, 1.1999639545474003, 1.2150296314405642, 2.22854561693473, 2.226458337277337, 2.166170840162009, 2.1710991237451447, 2.132937141355044, 2.165723030486689, 2.2103647809956857, 1.4532588731069824, 1.457844266765963, 1.4084534867547804, 1.3628437292535274, 1.290197763585856, 1.3026690176530835, 1.2973567010550366, 1.285740993399126, 1.278971407880391, 1.2665814562141684, 1.2585654361241636, 4.107738957093232, 2.5409721453030407, 2.6243431245101734, 2.6967568239835593, 2.6604171513855075, 2.5559112997720312, 4.124234768533133, 4.225356584967049, 4.115654772277803, 2.6415949203052573, 2.679639450591901, 3.759591727140111, 3.824624670020424, 3.785780849171604, 3.9459666470686723, 3.763533090004338, 3.7545685176245343, 3.9027373256231046, 3.7664708442102346, 3.7734540767127043, 3.767851510403956, 1.1550441755619634, 2.709828793371833, 3.7450681733203592, 2.750280656742838, 1.0476891866115468, 3.748355657657549, 2.59326258055422, 1.0204122544757142, 2.9402107991740993, 2.894059183377333, 2.808758388986065, 3.9677058045154356, 3.9335512180625085, 4.273177816037596, 4.202204428775797, 4.086577084381437, 2.776677840173804, 3.329072416136282, 3.109811218265512, 3.0708867718687936, 3.0453544955665137, 3.035698732901672, 2.9969550191699805, 2.8276806171764237, 2.0168432454586944, 1.191148478614104, 1.3942831002089282, 1.0191331923600795, 2.106807899197322, 0.9206164508004117, 1.1205539014601555, 1.2118738442892345, 1.0546106209330293, 1.5051873867653185, 0.7493071072462653, 0.9276150784568844, 1.0834712007433551, 1.4122728347174198, 1.13963239677065, 0.9795740170314107, 1.1963722604810978, 1.1104451736971845, 1.097525757318366, 0.8435628267599938, 1.178602905328263, 0.8452806017240511, 1.1388933147481353, 0.7574873658244092, 0.7505131492378372, 0.6197250824616044, 1.0113123092821303, 1.0310158463498604, 0.9762310000892925, 1.1355052850487566, 1.2403949237221854, 1.247639337901338, 1.0529901158172261, 1.2147041137565409, 1.1017842071269015, 1.2975858567555925, 1.1678365905335688, 1.2044976099358113, 1.1473974075295292, 1.1086529678374395, 1.1453687086093913, 1.1437263986553272, 1.2176659269146046, 2.101363875877496, 1.827194432508487, 1.822448191687271, 1.791149277489206, 1.3353099769325767, 1.693759498508763, 1.7725363443713742, 1.6846325296868498, 1.671294925008633, 1.6510218841291482, 1.6426345179790889, 1.616647626885567, 1.6193407763798653, 1.3035480382090885, 1.2726063648899526, 1.3327566102858945, 1.287205096510821, 1.362569413255012, 1.2626657554509857, 1.2357237089202628, 1.2219099992510045, 1.218415233616448, 1.1708966473429598, 1.0451436624385355, 1.0767327578565489, 0.7224650888980035, 1.0419780483689858, 0.8540781945332054, 0.8458354532188733, 0.8092833727884253, 0.8292878562219101, 0.8494582792865902, 0.8766237538811147, 0.838005022147808, 0.900412475899589, 0.8768022848100036, 0.6273515845819435, 0.9536207190173016, 0.8461315061633242, 0.8228501215900694, 0.6888090455057453, 0.747396096151017, 0.8237103660911812, 0.8536043148317244, 0.7294442783971569, 0.7850071181209719, 0.6207932412658582, 0.871903704401748, 0.7678964435977564, 0.8521036731532227, 0.6743108550227985, 0.8613996219017899, 0.7832365117719776, 0.908834127201514, 1.1239699959577885, 0.924526435151262, 0.9712725278771889, 0.9060470388390798, 1.1012855228013863, 1.0804994588160748, 0.9383393738405468, 1.0994023692560035, 1.7316959466263822, 1.0162448325214566, 1.0452129946485353, 1.6251988261601347, 1.1727784097670313, 0.9623799141650677, 1.5031449539083457, 1.3916077566522715, 1.258225311894143, 1.5495952574478264, 1.6952073853971192, 1.443274009885568, 1.5988119830480192, 1.0579282884222054, 1.568805986857537, 1.018976452076351, 1.3548183538409888, 1.2722604867813316, 1.343729564190285, 1.275842896587661, 1.2745314668686567, 1.2982327304756414, 1.185796063486419, 1.1764194897611133, 1.1577759855076204, 1.1459450989809237, 1.133731788390645, 1.1338980766160678, 1.1065670458885954, 1.5082012786999315, 1.316792260649335, 0.9885449628017139, 1.0071749078883723, 1.8974067870703617, 1.194696719324166, 2.2153069246442194, 0.7657318309963486, 0.8501096183587252, 1.1424192706760337, 1.2010243216730156, 2.4255643544852385, 1.4149585839434387, 1.2030373895349966, 0.9581587919013697, 1.1097971356781409, 2.5247293271013853, 0.8888073321286347, 1.0472522688623906, 1.8703597702940626, 0.9372799310517655, 1.0911301296272982, 0.8761665596956931, 1.2020704617449574, 1.1194940918814047, 1.0219578834296994, 1.242522037092851, 0.9037915850880637, 0.9327735838395919, 1.1436814392376373, 1.6380742614246357, 1.6957780347194593, 1.8656113952545266, 1.7201139056388437, 1.825713685613006, 1.7668288112767863, 1.6675443220960118, 1.674829706178032, 1.617614445289781, 1.609838852306899, 1.6201841065903932, 1.58516319613017, 1.2431003907902791, 1.282744744804221, 3.318077542564813, 1.2622720248379018, 3.1801036718052162, 3.534026239274819, 3.1470834334639166, 3.0410048892334762, 2.9709290404216815, 2.867693128550585, 2.8713593264429607, 2.8706529615650753, 1.5438465130540624, 1.51231895786946, 2.38029564408554, 2.372953158210462, 2.4548152391221056, 2.3885233377943953, 2.4866093093646473, 2.1985454983660246, 1.0131600214271945, 1.2509888216587262, 0.8789250638097303, 2.386570668746281, 2.5482006633905296, 2.346956771769399, 2.3597812087098897, 2.4908082785518157, 1.1650485398022845, 1.254183729292689, 2.5250482491692954, 2.475696942569296, 2.3728598366720277, 2.3533494481717963, 2.389964193321764, 1.0915562575566682, 2.51526683942317, 2.3392815973165493, 2.998035721510672, 1.8641390450153024, 3.184725299925754, 1.1012815925634947, 2.92126690762445, 1.0103274533000581, 1.9266197156240468, 2.8580989285356035, 2.9251528573669305, 2.8351353071719085, 2.867128633706728, 2.6882018922412714, 2.864625910680314, 2.841660631369116, 3.205472713258358, 2.584877001011083, 3.142833669199108, 3.396939633577235, 3.3993083743787724, 2.831335357900034, 3.1621809877851077, 2.5756217253319202, 2.54399403297985, 2.551537541189139, 2.5225921443746233, 2.537620646997554, 1.0291105394456848, 0.8505592782676575, 1.002001086645255, 0.9843787914090457, 0.8604530110030777, 0.890754772395265, 1.1168836660576145, 1.265685099711534, 1.134596312571584, 0.9007074732820504, 0.9679992253803718, 0.9619970376898551, 0.9876944759927065, 0.8852847559353567, 0.9262604364497388, 0.873725981853294, 0.8927498128996375, 0.6731529049614094, 0.9658685133652286, 0.8395221701839252, 0.9846175078049205, 0.8479469059399581, 1.7557497069676085, 0.8782164966386835, 0.6778938066553919, 0.8858080482698834, 0.7840919060408187, 0.9434142148414827, 0.881214084766408, 0.8320989034791373, 1.041754527656021, 0.9175868963206932, 1.453095636779704, 1.2057958658584687, 1.1486314931234851, 1.5033804244291669, 1.489476214427275, 1.6017484111197744, 1.7224166610441365, 1.4938221308774176, 1.5537645040490793, 1.575496136397163, 1.226556295161708, 1.4126614450867871, 1.312218988509938, 1.4288785366757533, 1.3212048582464275, 1.223151796124245, 1.3230748924960003, 1.4195209829016113, 1.35339267371361, 1.3676276245433352, 1.3440958852401925, 1.3379818243111647, 1.3722239806450602, 1.4699859546299638, 2.006812148279256, 1.3664284429876006, 1.3744535935827165, 2.4995095882671596, 1.4423970975842644, 1.7064306081497262, 1.3425800093304092, 1.662288749943785, 1.6458359092931865, 1.6175082047570961, 1.4408033218119722, 1.4169518261636256, 1.401519617765211, 1.4017847045077314, 1.4486197922496131, 1.3873106726686018, 1.3842238374394045, 1.4391796876992233, 1.4170958069642943, 1.3819143749346896, 1.2233404241140025, 1.095733959068372, 0.7373031495083701, 0.8154341508947528, 1.0509315490859683, 0.7739831121702785, 1.1407956982988747, 1.0097137941828438, 1.0892595810218564, 0.8856461848812436, 1.3569921318451723, 0.8946203703957516, 0.775544512528098, 1.0686881609275944, 0.7760782417767899, 1.0251998142581602, 0.9110652137054429, 0.8967336773620957, 0.7880451181385532, 0.7756173538010543, 0.7384427301993467, 0.8460749180901265, 0.7494759907980197, 1.0963965571973004, 0.8813705404569285, 0.9360905978572686, 1.0757840273560106, 0.7978387660280187, 0.7888567644998182, 0.7773486811104994, 0.8586207457521793, 1.2612278069311855, 1.0994256535834406, 0.8754936637899866, 1.5087198042449974, 0.9100322514061527, 1.4496544249597065, 1.4785811982315056, 1.131800322898559, 1.245662384926895, 1.343594660256821, 1.3861513644778543, 1.24669539427736, 1.3304932885720153, 1.354841375661604, 1.0940030072379487, 1.23632392651237, 1.2432400729697035, 1.2696853754256063, 1.3109841780817046, 1.0842404186781627, 2.514317930737113, 2.221886155712147, 2.208789612457767, 2.218258638025438, 2.1784226329807863, 2.1681540683670057, 2.1625221850571745, 2.1845001741143943, 2.1340614096279755, 1.5239349059370904, 1.394496675750068, 1.4606117339988136, 1.4015152340265342, 1.3860855976085984, 1.3195935877835323, 1.2557359356065767, 0.9363977803187433, 0.8657566493713645, 1.11429460088938, 0.8615238714471536, 1.1963492531642983, 1.2352061318169072, 1.0217570079038722, 1.1511988352035216, 0.8118415504640978, 0.7438968751187779, 1.2605578602693173, 1.2843542661787715, 0.6998788218830082, 1.0455183243611263, 0.7736309774252266, 1.3155229904394798, 1.0685146673636194, 0.7584965839727746, 1.17676964354499, 0.7472645688513375, 1.1266396247487112, 1.2091348789768344, 0.8393117724121443, 0.8303196622225892, 1.2446940078874416, 0.740821806147712, 0.9551402101709394, 1.102142370977619, 0.7162755727682076, 1.318009745727228, 1.3591212940190356, 1.1536812372957779, 1.1904781279148091, 1.2453509031497205, 1.1454889913825592, 1.246939379486707, 1.1999598523578772, 1.2294321681875764, 1.3005700546712118, 1.0793918534859153, 1.2975636790322116, 1.1786963330142957, 1.074441625658582, 1.1700878999909736, 1.674988539460167, 1.1527554122140302, 1.3191182668432437, 1.138479832816125, 1.1336348140346373, 1.1267871909347176, 1.1472788094135387, 1.2912902414253964, 1.081740289202146, 0.9927536918642117, 0.92756708970402, 1.0634368855065575, 0.9513025379098349, 0.7576474938212935, 0.8387239337902992, 0.8440297403474617, 0.6726587625748331, 0.8503463832397432, 1.0451224326444533, 0.7943551754137916, 0.9104190602850267, 0.7301314480735586, 0.7034290795612854, 0.7515446529484152, 0.9297299797937846, 1.0566424818778195, 0.7339207773404604, 0.7696243815768802, 0.9037994301612687, 0.7217881574781325, 0.8810594750576013, 0.8951017527849495, 0.8306022098407895, 0.8362790089349481, 0.9570163875428056, 0.6944000164349042, 0.6178318704557585, 0.999063180721047, 0.9639666169895373, 0.9393897235296278, 0.9667812402615132, 1.149780415420471, 0.8895992398208071, 0.9520750929010809, 0.9598625512200017, 1.6645999761911958, 1.835458082424587, 1.13486051521064, 1.4016665369263874, 1.4532254973646581, 2.272190218787927, 2.1237193684088926, 2.106803517656444, 1.4244653682897512, 1.4353417344211417, 1.2392375904443167, 1.5867340475938507, 1.518041990385645, 1.262904252870806, 1.8256638941982772, 1.7004984632392324, 1.66580996090508, 1.6487867841493662, 1.2803567205804642, 1.6342567413384763, 1.3990499967824015, 1.567165071408042, 1.5377427876900305, 1.5218750732092448, 1.5095483137844665, 1.2514286453458978, 1.2374591048591093, 1.243970262824204, 1.249064131310181, 1.2940636006471042, 1.2643664682818354, 0.7784182552643575, 1.3115972935464786, 0.8588318167163455, 0.6795977339282042, 0.8210926902870971, 1.071248985013163, 0.9443184939195954, 1.1348231480607653, 0.7848719891257374, 0.8426498034803356, 1.21697877714595, 0.596988343179579, 0.8337663530713545, 0.8297703401983518, 0.9178104434920047, 0.8175861422851413, 1.1115520406059838, 0.8849324438032068, 0.8279734520687753, 0.8480205205516083, 0.8120398698312509, 0.9964204185664666, 0.6400257398343833, 0.6960467472146666, 0.6975303347663784, 0.6998110477402208, 0.8417481382701408, 0.5885863612022696, 0.6756111161443331, 0.7673248455423425, 0.8587185926830874, 0.7389542693031488, 0.918395506182485, 1.8458263624821534, 2.057186777426442, 1.6803433287475362, 1.7839976023632054, 1.9893298883765536, 2.054226115026571, 1.6727030238796718, 1.6751389455558228, 1.8589548183030693, 1.5800103005356099, 1.5786356600415443, 1.9225767033762615, 1.9658451270435138, 1.6871327200326645, 1.5605962509864546, 1.6263484189482753, 1.619188677410184, 1.7904393117197113, 1.844668612942253, 1.8270059256183144, 1.5711921670364353, 1.5763663068418712, 1.5985850775504742, 1.5620780331254533, 1.5687870746578718, 2.390160951036713, 1.5974881460547192, 1.586141990291925, 2.0658120630490826, 1.9728517114430661, 1.5929027990295372, 1.5830448857415254, 1.587504572644822, 1.57944007019301, 1.5764407499715687, 0.8178895456098978, 0.86509565522103, 0.6031703875899954, 0.7226810807330257, 0.851389679943555, 0.8039972181749528, 0.6053128167579952, 0.6089390314566828, 0.670975642714579, 0.7660945469159032, 0.7694047111930971, 0.7086536175314393, 0.6637785087583681, 0.7972514462359978, 0.7306527194398288, 0.6446220875711283, 0.7338141897561216, 0.6825702085340282, 0.790900506304186, 0.8405402849640538, 0.7571835356272107, 0.6101134625572013, 0.9814304896821154, 0.7452193771031422, 0.6581889144828958, 0.7618684688076469, 0.6104111023042493, 0.6065416722726136, 0.735029540674213, 0.5543699106734988, 0.923244073569424, 0.8886364419041998, 0.6717379353840965, 0.9755167328247678, 0.7587717163294186, 0.9134094026562223, 0.8380916422139114, 0.7921691173078237, 0.7639367888042706, 0.9729817695871916, 0.7392344589816087, 0.8015528766043546, 0.8888938723025828, 0.8002449460400268, 0.8850370044886303, 1.2056373742747166, 0.8072659937900015, 0.8484532909648064, 0.979553725105481, 0.8103912013299606, 0.9518759012067102, 0.7985090112126666, 1.1256111602810446, 1.0632124945998234, 1.0570993926792303, 1.0193458127233748, 0.9376532011554414, 0.8300012324048871, 0.8172429980149918, 0.8381901223772277, 0.860318763868031, 0.8523269545992188, 0.8434802632315674, 0.8426824452456217, 0.8255741084629656, 0.8194388060894608, 1.0265348035458537, 0.5917861649974266, 0.9387252737558115, 0.526283410926697, 0.7429930120683568, 0.8106294850772705, 0.6931190274838257, 0.6664751590581465, 0.6638692720806234, 0.6992060082461488, 0.8131320564840478, 0.5962545532184983, 0.841795128628859, 0.777828656817477, 0.6847745205287514, 0.4726113099928833, 0.5782726332781041, 0.7394608771673861, 0.8085333841059842, 0.6606302518950029, 0.8505699282010157, 0.7335540798558501, 0.605902735905213, 0.8253063196451904, 0.5231917079616444, 0.6030020010693911, 0.7606664832182385, 0.8125562713517569, 0.7504488195104692, 0.7758411377459881, 0.7302900999889521, 0.7826477958440602, 0.6972728743995915, 0.7752594256845625, 0.8186901356750711, 0.920864820663717, 0.7833786799625515, 0.7354321082274051, 0.7972026582609103, 0.7570905212759869, 0.8054834228799526, 0.727689914390897, 0.8119181938878911, 0.7589482024597515, 0.9761933587954845, 0.7424641295494873, 0.92553269930802, 0.7748661291720842, 0.7705066157382121, 0.7757331368031734, 0.7682864323960498, 0.7539863626421565, 1.1993874265104778, 1.0223733559481745, 1.2399578930555288, 0.6981890380246419, 0.9103537240556542, 0.9847423274083036, 0.9481591189583375, 1.2600269810789786, 0.7571966149229651, 1.1231487122771426, 1.110595403916405, 0.6553524770461195, 1.0675139557700217, 0.7120599672679838, 0.7675583360210886, 0.800869836230283, 0.9174423408806612, 0.7273880989852576, 1.0685972490586715, 0.7852871992195541, 1.0303243102812072, 0.5982580238439952, 1.1531261792619296, 1.250495906457997, 0.8029906930992745, 1.0132160678145463, 0.5582545138936197, 0.7420120179322707, 0.553507388705004, 0.8490937562948018, 1.0939956271503262, 1.0652647842167107, 1.0139035815509014, 0.8532425962475806, 1.0611867597513778, 1.0472685028364412, 1.0335291832269624, 0.8514643869783047, 1.175582868927816, 1.67463407769672, 1.076887677892749, 1.0094554366997428, 1.3610249205543918, 1.3066751023802203, 1.1454761086550702, 1.0835284856496734, 1.1332551098802819, 1.1172122886502711, 1.3021465965867698, 1.2277975688430638, 1.1781650749406258, 1.1483975730101932, 1.073498448880215, 1.110597818687416, 1.1089814595128937, 1.067025369765486, 1.0560869896974416, 1.8398554925282908, 2.103834306798921, 2.0031266581592013, 1.7645976509290313, 1.5334407534207857, 1.0521357384303782, 1.167494961367588, 0.6929606272648361, 0.9511163922069767, 0.9636055741285021, 0.9391436983221302, 0.9543906516280256, 0.9667225166440453, 0.6717488444440798, 0.9696296893070351, 0.920183175584332, 1.1858506040736032, 0.9760554319805079, 1.0124761784590208, 1.2801150979885363, 0.6799455657601479, 0.8442461063850883, 0.9072473872453127, 1.5232651657029508, 0.9566522121011067, 0.7633137764413711, 1.587917904723658, 1.015708500601846, 0.7522508432437627, 0.6986312269841398, 2.80416754818247, 1.4419616172124914, 2.7319673376756723, 2.768846711737821, 1.1671211727564, 0.9263619625324434, 0.9440134227604488, 0.9859226566481114, 1.2527412464683898, 1.0686413801803347, 1.1806092732668796, 1.1758170220394595, 1.3475508805139782, 1.341904219993838, 1.3356665908042742, 0.9644191110971796, 0.7316862762267128, 0.7245692284159604, 0.5213786111444291, 0.5978467313853539, 0.8470426073573666, 0.6079197097414318, 0.5542267757231386, 0.6063698018177293, 0.7263888486696382, 0.6244603011548944, 0.6926787764451998, 0.632097990712544, 0.5867097332112262, 0.7370803064400694, 0.6424883421249257, 0.6361181063735537, 0.6267854255993991, 0.590630135712547, 0.7774595708821032, 0.4473343611884128, 0.6376536170558124, 0.6222284761073258, 0.48792095379654865, 0.6858025728281344, 0.4191602281536644, 0.7227578834504796, 0.5267465958986123, 0.484230444923994, 0.637777954915282, 0.5537881068063906, 0.7264933437958638, 0.6473130201798523, 0.6739779469482426, 0.697612575932261, 0.6268783887470692, 0.6472633499057167, 0.6560216545954061, 0.7247895528742135, 0.7065114693480091, 0.6773710718358111, 0.747417864392803, 0.6470185334040714, 0.6294011144189678, 0.7055227509677583, 0.6303422841362771, 0.630188897189466, 0.9412589199957689, 1.0323381198616464, 0.8129565730039205, 0.7068951755897805, 0.8989849100516112, 0.9479688602758389, 1.1325781330454303, 1.0581049449391515, 0.8368818158133566, 0.9271077535758159, 1.0754789440699075, 0.5993613391797373, 0.9824059767507286, 1.0907025429723507, 0.8534801867212173, 0.8318982407319017, 0.8765977312660352, 0.8243400542497958, 0.9462630181139007, 0.8982103499070803, 0.9078699156447713, 0.9222117281809976, 0.8966783987656222, 0.9168648279089062, 0.5982972438378004, 0.5566925024702076, 0.6675629053368645, 0.8569790689649179, 0.8282809430796185, 0.8689544827982689, 0.9704791765788078, 0.9016611877489141, 0.8095531209690505, 0.8840024491124049, 0.9402162181828948, 0.9489784229801244, 1.0108270599669844, 0.9313756440435552, 1.0078168584286906, 0.93986295080729, 1.3012912317637, 1.1355799520153576, 0.905204814813843, 1.3556901668387797, 1.4094335912290898, 1.3315171025642671, 1.3152928736187093, 1.3109364855422312, 1.2927336797148041, 1.2239054237700435, 1.201215827629761, 1.1958223635463774, 0.9832316236269806, 0.9676732655959447, 0.9489862348830305, 1.6211275169192338, 1.6758769177622888, 1.6624275437404632, 1.6443285337472389, 1.613595460465926, 1.6698274893126606, 1.6452070640677703, 1.7664671483978005, 1.6577199865055354, 1.7621327018796724, 1.7079779998814022, 1.7213005895574895, 1.7833520487535515, 1.1189959789694557, 1.5836883460461963, 0.9636417315840237, 1.0231622776709486, 0.7431540039590423, 0.9237323937880767, 1.727926420884489, 0.9543868035702869, 1.0625550619284214, 0.9056096373292085, 1.5853297200281675, 0.7796761221436604, 0.8063636293453877, 0.5986659671634919, 0.8327209516711791, 0.7980026816894839, 0.7110282199885772, 0.7972231577201843, 0.9751637205162277, 2.504160060666859, 2.500885674772301, 2.4563991912550205, 2.413523827083744, 2.3935745578304544, 2.4275390883105588, 2.405202976754501, 2.3516556139099696, 2.3752270086564833, 1.328609845893435, 1.3172618502689426, 1.389372005761626, 1.3089429233790595, 1.3175825328645219, 0.937852894006889, 0.8648936489145913, 0.7350889250317526, 0.8426776116850264, 0.9032093903190471, 0.9386529955544536, 0.792509348822296, 1.0742435058596296, 0.7974684505022738, 1.0678723108516648, 0.8693615425958183, 1.0182328575370074, 0.7658782842754178, 0.8282372946865739, 0.661280290694813, 1.2447103770927481, 0.99368688139863, 0.8043836733550196, 0.9353858773152124, 0.7329302290793099, 0.6505291047693557, 1.0840202568393147, 0.753347937831271, 0.9799435630181661, 0.759820280508539, 0.8752569655629617, 1.1314565953323183, 0.6127824326628662, 0.6312687640067216, 0.5849210387954153, 1.1938810334073695, 0.8473654796339761, 1.0951185239837755, 0.9851771764268031, 0.9837578218844486, 1.0529114040239365, 1.132924675322449, 1.1023389145012683, 1.0687573586611525, 1.0842057228763609, 0.9991042240962494, 1.044445197913849, 1.5774033361038378, 1.030452283349554, 0.9901121623648677, 1.0081542503841678, 1.4001654845808167, 1.9242700080950481, 1.9037720545725705, 1.4025819259850676, 1.8356536071966436, 1.8175895814759762, 1.8164383993471354, 1.8167195902086757, 1.7916582276070347, 1.8040286750080967, 1.792302866642087, 1.3414444129529295, 1.3600459731925005, 1.328688954836299, 1.2479754011550293, 1.3462693490399118, 1.360156040391625, 1.3081011604531412, 1.2794220209322393, 1.2420231432972604, 1.2419552789175332, 1.230254057741914, 1.2240497503909904, 1.2327708750616402, 1.2294280221572194, 1.163167668411772, 0.6729436724804881, 0.7122504528220445, 0.6291405199657347, 0.5899752099587671, 0.6470547259897463, 0.6600880484877101, 0.6969599572342249, 0.6791738628544385, 0.6548977587432819, 0.8803331995969409, 0.5839994434118906, 0.57494640887526, 0.5698066271732201, 0.7144778239286543, 0.761816355684795, 0.5020466775010394, 0.5980758966823538, 0.7221418444708709, 0.542910016020059, 0.7738871686031626, 0.47785912793222957, 0.7458074830592436, 0.6785338312117077, 0.574722438326555, 0.6321562945614118, 0.3637516125200225, 0.6821263117382599, 0.4179685804877251, 0.5280008848021541, 0.5456874995716068, 0.8123532018973707, 0.9522972861687395, 0.5823543585920608, 0.6251706568441282, 1.0666828953116674, 0.7953314589656657, 0.8400234553858847, 0.8616775692231189, 0.7238424228584722, 0.8035010186338585, 0.7702675301398569, 0.817270010033262, 0.6945076235682603, 0.8256273532100956, 0.6740649833509301, 0.834517340409742, 0.7891290537276465, 0.7375536490630676, 0.7919482201294478, 0.7303375592130515, 0.7455052329127131, 0.7837464414875766, 0.9263814046492901, 0.9225156823879648, 0.7656024817032444, 0.8554334757725554, 0.7668116427245781, 0.9732159104873044, 0.7495362299538778, 0.8659893779169333, 0.7600884296938699, 0.7513080961498962, 0.7386197336704179, 0.8626933286249009, 0.7373992048836363, 1.084100672217518, 0.7887840482605933, 0.6688396768602517, 0.9757033536222838, 0.8141753800905096, 0.5313471184864619, 0.7761295695508508, 0.9510076258960931, 0.7167590828327063, 0.7088804840851947, 0.5545602013446475, 0.8663233928038135, 0.5599830678491415, 0.6862545316506369, 0.6630349382033756, 0.6963142456629318, 0.6091938649419923, 0.6839715473866267, 0.713538535885694, 0.7350313510286387, 0.8547138403602195, 0.6792855785093009, 0.5401615396806133, 0.6745125609760784, 0.534690151718314, 0.6193352872981093, 0.5573576301812772, 0.6310921391075721, 0.7633844534989374, 0.8751115816852038, 0.6859799712110175, 0.7635430519704491, 0.792077308836568, 0.9242366995079992, 0.9992383054768899, 0.7531016070429528, 0.7193629305855603, 0.808130746890522, 0.7981986965484901, 0.8251107876620111, 0.7452228597832036, 0.8050726241148138, 0.8426024491677527, 1.266406166423211, 1.303038985656169, 0.9230588430428526, 0.8698393803732262, 1.0380332286681542, 0.9736751047234344, 0.9153047938771436, 0.871725471124537, 0.8183934814231337, 0.7961328451612921, 0.7657996885643829, 0.784896942645669, 0.6931363398469859, 0.5948505177262231, 0.6931375126931258, 0.47806091232807635, 0.639359367800984, 0.7508788346029157, 0.6786893765028521, 0.745338605909803, 0.7991721635609241, 0.5540307693995608, 0.6479135900550179, 0.7795227313022626, 0.4629710811306171, 0.7712507152001747, 0.6863554393958108, 0.632346179210556, 0.5769379736706538, 0.7386792201997113, 0.46858092480374647, 0.6191806412618525, 0.5884116074629733, 0.4829055390997024, 0.5742799890438686, 0.48418615912102514, 0.5234681401539866, 0.5250160723001626, 0.4951960534049172, 0.6540984002299097, 0.839617599110638, 0.6862946897672016, 0.6387075530087549, 0.9645887060690194, 0.8515332608057612, 0.6856449141814451, 0.6989321147250815, 0.9170055189577707, 0.7607217974513526, 1.0586097689612084, 0.8039724047720529, 0.9873027500090508, 0.9600558723818363, 0.9243103759208896, 0.9036310151519656, 0.9648089315690399, 0.9620679623799184, 2.4074474937717634, 2.1204301224369844, 0.8632535458723934, 2.0702698250545435, 2.0056267778270485, 1.888243134109024, 1.8581849343897692, 1.8005458799376763, 1.161771052421545, 1.7542624873967858, 1.7403740713807823, 1.1389727969997883, 0.9283200401202831, 1.1745139880133464, 1.0611568760746608, 1.092124376091806, 1.0948411855616331, 1.038748610161269, 1.0190546980222177, 1.0734777853828374, 0.9943250534585901, 0.9552749736451764, 0.9461426147660157, 0.9476311565238946, 0.8029644607541564, 0.5335720847186718, 0.6376435480173981, 0.6795506984678705, 0.6319839931226531, 0.8633709519372177, 0.9303884069221041, 0.5575934910958782, 0.4396601018672792, 0.6620159832508837, 0.6462755343494577, 0.564714274363145, 0.6621400881376774, 0.569150429079017, 0.7061857294570394, 0.7041019941135777, 0.5698119758413434, 0.5549898091443649, 0.5519802199128503, 0.6021548662036864, 0.4714544080798084, 0.7406622742973784, 0.6561625418509642, 0.7137205235373577, 0.45116935420859605, 0.5050280627652638, 0.5726494870402624, 0.5373924361489402, 0.5224668737793247, 0.6330918307881847, 0.6313060292235609, 0.6609980437401473, 0.6135230993814872, 0.794942941212803, 0.5858275671240533, 0.6822801004680774, 0.6519074762524364, 0.6816135123091636, 0.6261686370320848, 0.6166725858336233, 0.8498943708667495, 0.752183824179935, 0.8978844319852619, 0.7698056760536236, 0.6719316287251942, 0.6480687983196162, 0.8861295374461846, 0.6868373822717472, 0.7874195782859139, 0.6520504997567328, 0.6985864475395723, 0.6826194721835955, 0.7870082568436679, 0.9101165790879026, 0.6750484436842782, 0.7160756012661605, 0.7328902286768206, 0.7006637604297885, 0.5265532190698665, 0.674187745250045, 0.45635015059319606, 0.74168966335099, 1.0414178506545253, 0.6967253220727587, 0.6771352482234453, 0.7393041464525496, 0.5671693378805032, 0.7798861688422256, 0.5689374449814267, 0.7119186571963567, 0.5214913375334411, 0.5654722722147666, 0.5022433653102353, 0.5741151158429117, 0.4908864248020009, 0.6586363524836828, 0.6416338394947406, 0.7648061642719873, 0.6493154991411862, 0.6711616753509327, 0.6083955104703318, 0.6956076756520644, 1.3189189566356192, 1.2341175921606697, 1.2805300008573341, 1.4089578103338298, 1.1735943023966149, 1.1781603653487716, 1.1255553099097606, 0.792343447501814, 1.1289419310682018, 1.198235028441533, 1.1606730492191355, 1.1564024760754708, 1.1907458485914646, 1.1688994382066107, 1.1009041501410481, 1.1265525615529441, 1.5007307155212428, 0.7761163531198038, 0.7419769189978416, 0.7332925997805302, 0.6575740742172859, 0.565613164309146, 0.4307520031613923, 0.5974908001541158, 0.6494018705034612, 0.7355786481594228, 0.5999226564510806, 0.4859467245491111, 0.4144236544011255, 0.48035545416313263, 0.4872251032808108, 0.47695142153076103, 0.535810767858829, 0.3746664792407014, 0.39599401932513273, 0.4168216313656785, 0.44433690570903084, 0.49242617385055276, 0.3674049362396815, 0.5225796192453568, 0.3172354206959801, 0.4865464498397431, 0.3584004241705535, 0.28563239822448144, 0.4147665167694691, 0.36054557156715267, 0.39691966267941736, 0.49819432248666795, 0.47094229184537484, 0.39038616091803274, 0.49495589175127214, 0.8659788493314399, 0.48992936662026043, 0.45092544969649284, 0.5743726426050687, 0.5552094478931767, 0.5582330089694116, 0.6274921121574163, 0.559959399900275, 0.5493561783617074, 0.5485997695232234, 0.5184977703629103, 0.741302011082353, 0.6342963861750073, 0.5654945388763483, 0.5312875229550327, 0.803998815761041, 0.5284778427909365, 0.533971806471099, 0.5252684140597454, 0.5140060660418551, 0.5164282634864784, 0.5076144886695733, 0.5175223376534774, 0.5095559377201831, 0.7989578209979197, 0.667051981047677, 0.5319840180947338, 0.5087853373409912, 0.4672391310603527, 0.6716171169327628, 0.4918264002120393, 0.5989309675532646, 0.70026005174588, 0.5903899637170135, 0.6393271143769039, 0.5279109062284604, 0.5482030222964853, 0.6076669768922869, 0.8203935077323408, 0.47907463680986906, 0.5060674856976576, 0.5020562395864706, 0.4212528952484139, 0.45310518650982, 0.6398849550695439, 0.5667029007428097, 0.4640370401031662, 0.5052075426001276, 0.5404941755823989, 0.5012571254322826, 0.47205809278184674, 0.44265743109066763, 0.4960889505562002, 0.4591116808329793, 0.6007527707749003, 0.4981074156463547, 0.6161546049834903, 1.2165092324423914, 1.2495167873014037, 1.1011767525692908, 1.0891363827499791, 1.0964932684003714, 1.1066103035346975, 1.1198376656984468, 1.1066328696872605, 1.069840061246191, 1.0966512900746177, 1.114714392596265, 1.1182702840644492, 1.048676392626967, 1.054096158400153, 1.0417452397711446, 1.0652891955312118, 1.0395950157136171, 1.0329327405662174, 1.0463300989650477, 1.0425663810959749, 0.8392166912297332, 1.1855024334569852, 1.1433889559662314, 1.611642402638689, 1.661197670485739, 1.5781174763921562, 1.1276742799338277, 1.1203217538854562, 1.1154536867092095, 1.0951747732495725, 1.0630904541532766, 1.0742125180024025, 1.0554089054139426, 1.0544699600160001, 1.0540699656459085, 1.0505763432297808, 0.3799845740442996, 0.5420209095194565, 0.3258570589495061, 0.39988990445156825, 0.29763115156736103, 0.36708780383653655, 0.3054984469734993, 0.37766247832177796, 0.31365146369050906, 0.3134966524996002, 0.3354883920760746, 0.39575584958296, 0.3939139798187012, 0.36912229256708395, 0.3465746509703377, 0.5209795734863717, 0.41775996754692285, 0.35996355811727104, 0.3159322915097978, 0.3103559634742664, 0.2734686443538629, 0.42251693690262165, 0.29174396363767274, 0.3504423250138673, 0.26012436725945626, 0.36052177576632016, 0.36380851845865425, 0.37609321867185963, 0.30373410822805247, 0.2239529930505269, 0.3238937426352051, 0.4327302207492743, 0.37280186215500627, 0.3511741899374893, 0.3414094686903514, 0.3921807585417976, 0.40898022722306576, 0.3973965498893393, 0.4955712961796874, 0.3776359828129729, 0.38668323150999956, 0.4140399986372023, 0.37520553407605606, 0.41473935730293965, 0.40343895785364037, 0.6592783376749887, 0.4222611233622107, 0.4488360297494783, 0.4334326428563977, 0.5475875925228106, 0.4028014587359094, 0.5278983889601497, 0.52936163218689, 0.46414487609699817, 0.5159957757749742, 0.5026970433363211, 0.49736704434079154, 0.4876420803075556, 0.49061779208106127, 0.47527545168713925, 0.4995547607789812, 0.4596860622814699, 0.45216674807124996, 0.46224629961219565, 0.4663223583073676, 0.46203101510179334, 0.4267611789237506, 0.40910024249189236, 0.7680301906563298, 0.7237575820832383, 0.8320803935135124, 0.46263871207916135, 0.4930214298738231, 0.4499941063605923, 0.5954558588907403, 0.4767044258076168, 0.4333827381568681, 0.6040620465822529, 0.4936172700395614, 0.547539117655457, 0.4842503431428945, 0.46373990778437374, 0.4499652449209925, 0.5977112193278818, 0.43014685844410105, 0.5040642369506981, 0.4198068267915391, 0.5858832137487837, 0.46837378019033554, 0.39568301216374746, 0.564306998659955, 0.4187751164014127, 0.5309278558187853, 0.5017203958572436, 0.388486707698282, 0.46360682327899727, 0.49882539329090225, 0.5049305499916106, 0.6046059177511538, 0.5665118417625078, 0.48844003248586626, 0.6586212547120143, 0.6215099057971248, 0.6610378528588968, 0.5989222949838462, 0.6171709056073617, 0.5978951753459434, 0.6364553645920994, 0.5442678015081255, 0.5303726224211137, 0.5605514734470631, 0.579806287650351, 0.5314818385471283, 0.5628580473193683, 0.5197604987644378, 0.5281328880837477, 0.6090014650758905, 0.5424698985169834, 0.5366663824316245, 0.5769192068646324, 0.5479369371485158, 0.4641949142827734, 0.4794781022500552, 0.4810136301602495, 0.4880005398608396, 0.5013884306213949, 0.4786243666765955, 0.3374548432035244, 0.38243616332364755, 0.45922991114665973, 0.3987314597318068, 0.39700872317380625, 0.4363721098175941, 0.3441151971742658, 0.42325051891248516, 0.3554426748467095, 0.3884506231547651, 0.2920602451265248, 0.370870785330547, 0.3742748559691443, 0.41995578076768564, 0.3320775069128582, 0.41950031459596077, 0.4190161293419999, 0.4011144505073244, 0.38179212451377176, 0.31609108588969165, 0.34765259593966535, 0.39017611719617035, 0.36719071722826113, 0.40414381803382327, 0.43343943758538733, 0.38952730293968857, 0.4581641818965944, 0.37663383846572845, 0.37509369738784043, 0.38087312802766965, 0.3782000088260038, 0.39397371444231655, 0.4321347737917661, 0.3946331217505511, 0.38260883348788916, 0.4167544409133236, 0.3385038279638351, 0.46425336944356266, 0.34552843524456245, 0.3919118484469435, 0.36652605041888914, 0.35506786538696594, 0.31940440532536324, 0.3864138946292811, 0.334483647552375, 0.2720122634876049, 0.2739963411600491, 0.32767241872472175, 0.29512948071633943, 0.3027703853676349, 0.27040836513248806, 0.2702845625639446, 0.3057214111258122, 0.2881138224308541, 0.31488008497502723, 0.24205751625164318, 0.25035984365027397, 0.4060684905492475, 0.32677748847586546, 0.28805916304690865, 0.26820105487368534, 0.23027475379375306, 0.20740044154616802, 0.22162833236032384, 0.28981745374866663, 0.3237279605385425, 0.26236353453354305, 0.35280367170057786, 0.3414947355457669, 0.32762804604565604, 0.3189869110075585, 0.3100831343704583, 0.3645954842628544, 0.3490278512024632, 0.35541923634486056, 0.3141317509278268, 0.30486320778470755, 0.36391599220172144, 0.29448964320437643, 0.3552426826263101, 0.3148029537333586, 0.3761776908207678, 0.40063602321238834, 0.34090708889037385, 0.294073187723862, 0.3068577168007054, 0.35430303278793013, 0.27274827398150425, 0.25802026334818673, 0.29892734455507836, 0.33867667164851295, 0.3137955943832029, 0.27811393893784153, 0.28528137420366906, 0.2601786386666594, 0.2594518027937799, 0.25320553451871247, 0.30625465623325004, 0.2574443723986411, 0.21847746303229493, 0.2847264346901038, 0.3437773555152173, 0.2967955659779748, 0.24706435892563805, 0.19766209460688455, 0.2228931654911162, 0.23855833176354646, 0.34825255194789495, 0.2479226010449141, 0.22089519783822745, 0.2624358708382722, 0.2771128218697263, 0.24832108610270232, 0.29289849370140075, 0.27976034637484365, 0.28356981480073307, 0.27361192947351615, 0.2804764872459783, 0.2803494884966329, 0.3587809610077998, 0.3951503493928434, 0.3220858573284, 0.36872634501013096, 0.37769137902958533, 0.3512236464490063, 0.309059342514521, 0.3502995444980076, 0.3060115583335512, 0.3356790732049818, 0.3077316113296066, 0.3033196949999487, 0.30020748067272246, 0.29444666352708276], \"Total\": [61.0, 63.0, 38.0, 82.0, 59.0, 38.0, 64.0, 38.0, 60.0, 61.0, 38.0, 39.0, 38.0, 38.0, 38.0, 61.0, 39.0, 60.0, 41.0, 45.0, 17.0, 41.0, 16.0, 17.0, 17.0, 18.0, 17.0, 17.0, 16.0, 17.0, 10.800611493697325, 9.815521509150605, 9.873572494233986, 9.925413353943892, 10.197972421109217, 9.568257542849468, 10.735002300065284, 6.447165521543113, 10.146111229763354, 9.01329056499304, 7.891976711844374, 11.64828776180257, 9.819973948180829, 9.91096971760012, 11.541205136783281, 9.823037089553825, 9.843656456217415, 11.410585330406578, 9.68469256876152, 9.514008305394492, 9.490859688942756, 10.146386352580844, 9.875882572287717, 10.640773716439261, 12.54118595452562, 10.171827509766471, 8.268634746243857, 12.997444132366692, 8.497443304454581, 10.562029798251297, 12.0972280379949, 13.632405472839542, 15.168582042087257, 63.57939161853528, 64.1039369346079, 61.26329871482286, 82.00823065482611, 61.69916812849271, 59.566768437872774, 60.52627347289689, 60.635252177750296, 61.51537982963172, 27.066507759453554, 20.040175142631707, 26.030255767377525, 25.96302796421393, 25.49866859016985, 21.1863408041118, 19.94151724759384, 28.13891749247031, 20.379422307509003, 15.920216945581357, 19.981670456920437, 69.87256003235728, 21.326006797452877, 7.401294046649527, 7.374552280201563, 5.702465040808996, 6.156178036976364, 11.52437486106183, 7.222997762149761, 12.707873482577078, 5.219906080988287, 7.401463920539944, 7.817304096957949, 7.079011657764815, 5.809364379762037, 8.719299038362662, 8.941724940659654, 7.195671305207639, 8.838742924161378, 10.163076515889145, 11.155960736807632, 10.974335005764503, 10.54946633898986, 11.027554116335866, 7.318843982716798, 5.079384817046066, 7.914776498116602, 7.56908122147829, 6.225626241906846, 12.429786016651608, 5.6745790586362075, 7.2259522178222175, 4.962375207516221, 11.811966365099716, 13.411799206478527, 11.916885558294604, 10.775189403698674, 13.678605364853688, 12.427898946210096, 12.5732977823871, 12.644460206261078, 12.736241917568261, 17.483638647721417, 17.126165300138716, 13.238963189537742, 69.87256003235728, 34.70182330582228, 36.262830653333346, 20.079266068802, 36.581564899686185, 18.465226650098092, 19.10762558444952, 20.332133941859787, 23.818290417268035, 19.438414960575333, 19.51696935285809, 25.627777473860156, 20.586077921151563, 19.709880894679102, 25.244499549773433, 20.06592199245673, 20.10584914151972, 21.30899563240596, 20.19846776252287, 20.63327677973865, 21.43556913686102, 20.075626334515533, 21.86076698486466, 25.812120210815838, 59.35303461630969, 58.321398166859744, 57.792314033665086, 63.57939161853528, 82.00823065482611, 64.1039369346079, 59.566768437872774, 5.5046698032854, 7.4772943262829905, 8.03979721062798, 6.042674666986022, 5.325634111548208, 5.103695224334226, 6.387268682443066, 5.9773274025291885, 5.395083779851696, 8.915899745414583, 8.361290090822724, 4.915278355459117, 7.849314128466442, 7.903715477488506, 9.492699450533905, 6.131444506782888, 6.688964150853668, 6.033477325447256, 5.911573309707769, 9.260002811033944, 4.5614881439353, 6.660324525650809, 6.805768820189519, 8.493283030927515, 8.880930460837158, 5.796410082961831, 5.723683866191627, 4.537769623104206, 6.992673998555463, 9.320195212108624, 6.641599735398662, 9.163715329978377, 7.308891189460828, 7.24774787741153, 8.103435284373626, 11.051169448344556, 7.011779212690949, 10.119074201238918, 14.210029352235637, 21.66611966195116, 10.111825715848262, 59.35303461630969, 58.321398166859744, 57.792314033665086, 22.34739559306849, 22.210410979563935, 22.706515187182188, 11.040868531330124, 12.199160103142477, 24.940366656931797, 19.733273496088774, 23.33691805843877, 19.428014355749568, 61.51537982963172, 60.52627347289689, 61.69916812849271, 82.00823065482611, 45.037670780629874, 64.1039369346079, 59.566768437872774, 60.635252177750296, 41.71951656371636, 63.57939161853528, 61.26329871482286, 41.66257585932805, 19.20642578045293, 19.602302370395332, 23.443687607523476, 17.71684679980116, 25.384312723002974, 5.866161180928624, 4.082455468067087, 5.451452471218804, 3.962087203479692, 3.983436169165798, 4.825651508409649, 4.479252159770613, 4.8924386147128525, 4.275840035879484, 6.910342213751218, 4.968422417700156, 4.501323879902645, 6.510265426147855, 4.232866721325697, 5.461612685323274, 4.570909858262905, 4.755574712481646, 4.573762497377475, 5.167384836938742, 4.099318568736665, 5.089284789983827, 6.430109772701198, 5.193858360806039, 3.721692789482847, 5.8959868192574305, 5.620398395857999, 4.5397674816658355, 5.236984654086509, 6.238079207767635, 4.696204970913795, 5.398137545712606, 5.977804567715249, 6.148297988946849, 5.980464001811252, 14.180847874921968, 16.84224564755275, 6.982794133795343, 13.97180074624076, 13.859493812810324, 12.890076026304657, 7.687906183368963, 18.18245792324913, 13.745753884082157, 18.08460000536293, 15.215871581947596, 17.522177941057798, 15.25833983868401, 18.085390863532623, 12.924817834355892, 12.821684148301102, 18.387897159487018, 13.961219653672082, 12.729725251163, 16.41877643987227, 15.00786035980008, 16.007106955481166, 16.077502040691844, 15.975506315125303, 16.872551456559233, 14.124266850810496, 16.092682359429034, 15.718107222716498, 16.153099171943033, 13.73446381022065, 15.791844399187983, 16.137664632937025, 69.87256003235728, 45.037670780629874, 41.66257585932805, 41.71951656371636, 16.585455560435864, 3.823510057663652, 4.23912424834016, 4.834903633514092, 3.954271266133901, 5.210260402039796, 5.499578727039191, 4.613733305463651, 5.3330460209132164, 4.17450623611399, 4.585134632582144, 4.922105162230989, 6.735989116841177, 4.195729697168268, 3.560889488365685, 4.37230869257461, 5.647259967781642, 5.6673066876859215, 4.1317682371280435, 3.62813240375544, 4.77507176435861, 4.650553439358573, 4.895281453412639, 5.376858117637052, 5.872764506253522, 4.8433149754434455, 5.391383787550508, 5.739278749167115, 4.604585053798557, 3.7145182626497504, 4.090391494981279, 4.771762668205578, 9.59258630726001, 8.42253920989239, 9.541184879006776, 10.579636386929213, 9.136928518454015, 8.616844078998144, 9.244798899543511, 10.53429697325569, 9.709547148187541, 6.115930899251862, 6.918637937166218, 21.30899563240596, 9.712851785073076, 9.718457412969725, 10.687804311183363, 10.289470308110564, 7.038185271177008, 9.349225378687034, 17.126165300138716, 17.483638647721417, 82.00823065482611, 59.566768437872774, 61.69916812849271, 61.26329871482286, 60.635252177750296, 61.51537982963172, 60.52627347289689, 64.1039369346079, 63.57939161853528, 69.87256003235728, 25.384312723002974, 36.262830653333346, 18.73223562828045, 41.66257585932805, 41.71951656371636, 45.037670780629874, 20.55164344586149, 39.667658644800014, 6.9428808643126025, 4.774067649462183, 4.772549295346057, 4.881630609956024, 3.934187777136391, 12.924817834355892, 5.972770359555397, 13.680167845476229, 4.147900199394594, 4.42393436993056, 4.146819865508845, 5.9073817778792135, 5.239149261253156, 4.530945846078794, 12.729725251163, 5.767667565569606, 5.988089579234146, 12.821684148301102, 14.486898311908535, 4.17463780528743, 12.890076026304657, 4.681093907860446, 3.1568680887163723, 4.942265461193232, 6.19857882554297, 13.683680772059189, 5.309900051738703, 6.683497260437791, 13.745753884082157, 5.5057565725043265, 14.412756877729697, 14.104876337019082, 13.391407438615783, 14.060575362686093, 14.240213658424256, 14.124266850810496, 13.961219653672082, 13.859493812810324, 13.73446381022065, 14.180847874921968, 15.00786035980008, 15.791844399187983, 14.452764379223998, 13.97180074624076, 16.153099171943033, 15.975506315125303, 15.718107222716498, 16.719726575765904, 16.585455560435864, 16.84224564755275, 16.077502040691844, 16.137664632937025, 17.522177941057798, 18.18245792324913, 18.08460000536293, 16.872551456559233, 16.42412900787641, 18.387897159487018, 18.085390863532623, 16.092682359429034, 45.037670780629874, 41.71951656371636, 41.66257585932805, 5.997793276594359, 6.956596941718133, 7.0374570748470555, 8.085829507236703, 7.140886160502218, 7.398447951922303, 5.961302030138172, 7.464938222369847, 6.091203301347803, 6.678187489378156, 5.689793633767544, 6.619389111025785, 7.381227932359525, 6.343816936408183, 7.964859968076264, 5.534933473479285, 6.170680103146368, 6.043473029069565, 8.049890228035474, 6.396583829399753, 6.641217729379587, 6.741732773740922, 8.448545151221785, 5.774331903414235, 6.444607882992516, 6.241837777228646, 6.605444340242209, 5.626217473602475, 5.6124443148793, 4.149844166198303, 6.519039781874533, 7.577027038432434, 17.945387643124192, 16.565593284241174, 16.134833627753093, 17.201283107172827, 15.813166194395912, 16.28600370261081, 16.57013800538316, 17.129646324071782, 17.4593397472905, 17.480163850565553, 16.720163561847777, 17.179751148051583, 17.359194097253443, 15.477657786379321, 18.27640366047126, 18.956066425106442, 18.34909605387109, 14.211851782583853, 38.69714353363701, 38.04838278823713, 38.98264078111063, 38.39843266493963, 38.95714764035288, 39.667658644800014, 38.8103695383693, 38.03282857959123, 39.548532438040645, 41.66257585932805, 69.87256003235728, 41.71951656371636, 45.037670780629874, 6.173065919915812, 5.09131554808324, 4.038643970644564, 5.808675803313818, 5.4304168342177634, 6.671806121034856, 5.990345123204915, 4.359208529596914, 6.415749200592196, 5.546548488522823, 5.7242610405984955, 3.7974277520037094, 6.786947911562067, 3.804787391581521, 3.8459018269245844, 4.312805314699642, 3.6899928235457504, 5.643942203355341, 4.959559658475983, 5.3826291850720445, 4.824248731760789, 8.024291097186145, 4.811186751612417, 4.161737357047208, 6.201285923931698, 4.787451736390398, 4.266777432426718, 5.07228242450947, 4.603535537141704, 4.920527720940379, 5.373191673980218, 7.054771948286415, 6.91843806880339, 8.329132982233148, 7.108572843157375, 8.569990879311895, 6.439874265611361, 9.22105973965715, 6.852785383342855, 12.437015674682243, 6.332213482350469, 10.079103141857606, 11.680891623351346, 6.757175538842022, 12.743157029365292, 59.35303461630969, 8.208267277610176, 58.321398166859744, 57.792314033665086, 11.535498837731494, 13.836668639415604, 16.65015391292265, 14.116689781023238, 12.37244117761753, 12.229762020236949, 69.87256003235728, 13.517455201752085, 22.615713429532324, 21.24977855430477, 32.19179508366693, 25.49866859016985, 13.35175855311855, 23.979279440841864, 22.327938749269823, 21.326006797452877, 22.076385457758242, 82.00823065482611, 25.96302796421393, 25.84571054629051, 61.26329871482286, 26.030255767377525, 4.262294404068171, 6.145432550411389, 5.02861411054923, 6.77734024027808, 4.613091230227159, 4.897768879519682, 6.55237438990819, 4.468556389596354, 5.774552122092236, 4.307320274909358, 4.656799322814202, 4.604674166367955, 5.223990888171461, 6.9485624460257664, 4.706963511305075, 7.127307608212361, 6.863308293764614, 7.361832758973191, 4.580633610805093, 7.729063024872406, 5.086316767790141, 4.891193542183949, 5.968744505938818, 4.466632106897594, 4.866137106854439, 6.019758539737389, 5.081882865725218, 5.688530476377528, 5.4571564109796356, 5.03805341749876, 6.253820093782012, 8.986461652297484, 6.702949190445575, 6.059124832220688, 8.061401817622684, 8.027595454189573, 8.321906384057813, 6.1224714569715095, 7.9229059577770595, 6.21593578105233, 6.094242497024272, 7.105579202253856, 10.025847561297958, 10.124179012939234, 82.00823065482611, 8.492733886035662, 10.50658483369132, 9.418556062787241, 59.35303461630969, 57.792314033665086, 58.321398166859744, 9.64293174690734, 23.217351696639728, 8.323951070748906, 9.351165702917541, 69.87256003235728, 7.8919966206314855, 10.685132769318813, 10.75462816289542, 7.76815924498228, 8.107184287877722, 4.545304910782039, 3.9065225471820377, 4.893674576288024, 7.78882402648744, 9.340679942201804, 3.5240318813246354, 4.9732480692253125, 3.3343412295457098, 4.447133270310932, 10.315698774132615, 5.2562182800135355, 5.806285947171584, 4.517642786135946, 6.574763321339353, 9.069304230311227, 4.214745467659551, 5.996294669620152, 4.911608878599485, 6.774685022707059, 4.69090951777517, 16.276229600720708, 4.728425194422696, 7.9802259607043275, 9.673489686152028, 5.545839755801523, 4.814337587330952, 4.249438124391311, 5.696617110671036, 4.524836327078143, 4.682098532594385, 9.43426177919097, 13.052948885524229, 5.890877506514721, 22.060002769634014, 6.717482644338549, 10.54636314081564, 20.784046931107763, 20.47071208983042, 10.306592669635045, 20.36189584900714, 21.358713911735922, 20.455385221886534, 20.842003659546734, 22.318050600652175, 82.00823065482611, 16.394050966261183, 24.940366656931797, 32.19179508366693, 15.2696709508139, 61.26329871482286, 15.915385881670266, 63.57939161853528, 64.1039369346079, 61.51537982963172, 60.635252177750296, 59.566768437872774, 61.69916812849271, 60.52627347289689, 38.8103695383693, 5.920728976827316, 5.232508648076422, 5.601446485835519, 6.245829715739667, 4.433916813634846, 4.348182526559822, 5.857947508557975, 5.983947765468401, 5.884032005226167, 4.0745208834239035, 5.038523048085082, 6.562880214533651, 5.138672484341506, 6.891478202119068, 5.243304536589225, 4.505720708204535, 5.391522900388504, 5.994996830545337, 5.8358359386704235, 5.270712014119497, 5.526589797672452, 5.141948647031275, 3.7105768525986957, 5.282461365676005, 4.757402843145386, 5.497376862381667, 5.843059828417077, 5.893155087313653, 7.55698506956591, 6.154085904194552, 6.58040967245106, 7.037502107832052, 7.8919966206314855, 10.50658483369132, 7.9229059577770595, 6.867260388750677, 7.484387582029667, 9.64293174690734, 7.105556805072311, 8.323951070748906, 8.492733886035662, 9.418556062787241, 7.776577685734065, 82.00823065482611, 9.351165702917541, 63.57939161853528, 64.1039369346079, 69.87256003235728, 57.792314033665086, 58.321398166859744, 59.35303461630969, 61.51537982963172, 61.26329871482286, 61.69916812849271, 60.52627347289689, 60.635252177750296, 59.566768437872774, 19.981670456920437, 7.575547754937546, 15.813166194395912, 7.1512477674432375, 6.978920963350547, 16.28600370261081, 6.940950857542688, 7.434680301672589, 5.373221068561132, 7.360193645211483, 16.134833627753093, 16.720163561847777, 16.565593284241174, 16.57013800538316, 7.398498998255236, 6.392465709380885, 8.293085390270374, 17.480163850565553, 17.359194097253443, 17.4593397472905, 17.201283107172827, 7.5971358093828885, 17.129646324071782, 17.179751148051583, 7.836451578047864, 18.27640366047126, 17.945387643124192, 7.537737514610801, 5.5591489194376456, 5.839107794113549, 6.769126684176839, 18.34909605387109, 18.956066425106442, 10.072869941593694, 11.269593981333008, 11.793033024846224, 10.27476416341777, 38.98264078111063, 38.8103695383693, 38.04838278823713, 38.03282857959123, 38.95714764035288, 38.39843266493963, 38.69714353363701, 39.667658644800014, 39.548532438040645, 12.888412638114048, 11.521792696631369, 11.7382579274329, 28.98731802347542, 5.645575783396483, 4.326771159198765, 6.437191453556341, 6.073648153414968, 6.260375701133151, 6.4142680586774095, 5.252318134816185, 4.638112612529866, 5.582210719025469, 6.111652748136836, 6.131555748519787, 5.705049565793361, 3.911529424325787, 4.655080353221662, 5.198026126092323, 5.200907896944389, 4.584107657413521, 5.839432580537661, 4.944251585631817, 3.955838068781769, 6.658768415491633, 4.700624825423777, 4.447431280652871, 4.953705074487001, 4.669269580204597, 3.8936865042453777, 4.919452500447373, 5.396445803624175, 6.706408738312977, 5.281570151558779, 7.170743606187899, 6.9376756355893985, 12.701518985721732, 13.007393627344676, 6.3924760478898115, 13.556867421538026, 13.574241745415872, 13.892371738791327, 10.743966681821265, 7.843802306113437, 7.308891189460828, 8.361290090822724, 10.810605243911438, 11.198180397433685, 8.880930460837158, 10.733696304461542, 11.543390726733389, 10.789049929919754, 69.87256003235728, 12.894061940082544, 16.352660407520602, 14.564295996090243, 11.622119141121942, 12.341362687900464, 13.358738020065438, 14.578649132491773, 57.792314033665086, 58.321398166859744, 59.35303461630969, 14.465154320705528, 4.669132217071637, 4.3070021712135915, 4.490941355052058, 4.196663670768888, 4.7189290355240425, 5.867773858963532, 5.088669468791822, 4.09692552196774, 5.550074593629941, 4.566308422489618, 4.372605337829761, 5.511869716303606, 5.181438353557053, 6.055599067101709, 4.011082401914837, 4.310119936301329, 5.3620577375246175, 6.279887898209037, 5.3282587038998095, 4.23647563882733, 4.636947837047426, 4.072311179474477, 6.334448942032594, 6.209306304598589, 5.373571845163573, 4.376020259889351, 4.102043099355713, 4.220465479035282, 4.207202658150322, 3.8094166155637454, 4.343015270843093, 6.419549178711432, 5.797005576295888, 6.835609688402612, 6.177927337309124, 6.458316964957142, 5.897154126269769, 6.325237942654871, 6.587969249044295, 6.385825472616252, 6.430378442933211, 7.573684492079184, 6.239141886998072, 13.836668639415604, 16.65015391292265, 14.116689781023238, 13.263776946099368, 6.935110588081237, 6.3844706957197, 17.698144269338346, 13.707849870337666, 13.35175855311855, 13.701400409178682, 69.87256003235728, 13.710875842588381, 13.007810963229018, 17.841774797508652, 59.35303461630969, 57.792314033665086, 18.085390863532623, 58.321398166859744, 41.71951656371636, 15.215871581947596, 3.686029892873439, 4.853303696573031, 3.2983642830744078, 3.794321860919784, 3.7705582002331797, 4.465789611083109, 5.223863548026201, 3.8308275062796535, 4.269101777537357, 5.038366908274985, 4.449913542044163, 4.075616852265234, 4.583963801089109, 5.2372040316037, 3.9084719468568485, 4.4054134689084945, 3.547721599772338, 3.5353826867393727, 4.762222234908549, 4.0903422851602365, 3.9710854653169534, 4.325170810898009, 5.331180875510692, 4.196910326139172, 6.104530050318438, 5.369158471004672, 5.076969623979538, 5.166767447724813, 4.737363222088544, 5.130989839247162, 8.79022263736383, 4.854790614614781, 7.566292503252301, 4.86641131059783, 7.292248804325327, 7.329290995137229, 5.622344777208542, 6.346465452027675, 7.304743934641979, 6.9601088859119375, 8.00573037269434, 7.391985823985528, 7.103709304996612, 8.401208177174148, 8.031801113350978, 8.836342526278884, 9.727669696095266, 8.02012917725024, 61.26329871482286, 8.771131585745033, 82.00823065482611, 61.69916812849271, 7.856121097152378, 8.230467286756374, 59.566768437872774, 61.51537982963172, 60.635252177750296, 63.57939161853528, 60.52627347289689, 64.1039369346079, 69.87256003235728, 17.507098563836514, 21.358713911735922, 17.841774797508652, 22.060002769634014, 15.406920582628127, 17.657902704877888, 18.888249838336066, 20.36189584900714, 20.455385221886534, 17.698144269338346, 20.784046931107763, 13.206094299219917, 8.192841067981963, 8.544810655667693, 8.878872611359, 8.815183254999598, 8.564757771326992, 13.97471708644383, 14.404658560017994, 14.04663111003223, 9.054224608151651, 9.206443733243944, 12.967240895587617, 13.226042966381268, 13.544980811266342, 14.222545899526526, 13.603565000666828, 13.595116689246556, 14.412520752538363, 14.04660997195131, 14.212990511678068, 14.358481698296307, 4.462311012354363, 10.623180838372049, 14.728951243137866, 10.834949706666196, 4.137691521744612, 14.906769757065039, 10.315606492610668, 4.1449564842803035, 11.959547813203555, 11.811058732678374, 11.683105922540273, 17.015480023508964, 17.123218345076204, 19.025197330982486, 19.76708124409693, 20.5330965890994, 11.779358131484459, 38.03282857959123, 39.548532438040645, 38.39843266493963, 39.667658644800014, 38.8103695383693, 38.04838278823713, 38.69714353363701, 6.501540128178158, 4.443885299661385, 5.63836548062785, 4.218993236639364, 8.869505557558954, 3.9350952343156367, 4.803807458171123, 5.195836413627313, 4.648190072872294, 6.841700271073118, 3.4958185942995788, 4.374907073289106, 5.2420090900397405, 6.866320642545404, 5.560521604182239, 4.815720721659223, 5.9401769731113685, 5.630352997225895, 5.591249077096732, 4.302484613042547, 6.067917074371811, 4.356635327136829, 5.880734678731226, 3.9165028188366686, 3.89328486186399, 3.22323748888099, 5.2670442217309175, 5.398236027902805, 5.111449638528076, 5.987178971881022, 6.592030142095033, 6.704556772680746, 5.651987782251601, 6.814212783156454, 6.043791440438222, 7.474906381538832, 6.587438190194844, 7.284026438358837, 6.812363889434314, 6.39839696004471, 6.915983424028191, 6.999467821228899, 8.542325677553041, 45.037670780629874, 41.71951656371636, 41.66257585932805, 59.566768437872774, 15.957195332244414, 61.26329871482286, 82.00823065482611, 64.1039369346079, 61.69916812849271, 60.635252177750296, 63.57939161853528, 60.52627347289689, 61.51537982963172, 16.153099171943033, 14.240213658424256, 22.318050600652175, 18.085390863532623, 69.87256003235728, 16.092682359429034, 15.975506315125303, 15.693128018226014, 15.859989049981131, 5.237500577273849, 4.720139013796977, 4.989394428481641, 3.3702070127429535, 4.925621865274181, 4.120146940531171, 4.129138167325578, 3.966798895419169, 4.192044741571045, 4.295045926591183, 4.6896661715302885, 4.496370049336815, 4.832006171507087, 4.769532993955459, 3.412728855321453, 5.268211980223879, 4.72097240635298, 4.637097271510427, 3.8915056826868755, 4.23589190053569, 4.669738646236745, 4.840975596816979, 4.17802706672515, 4.512654574625813, 3.5706797235984356, 5.017242108730152, 4.433178434180607, 4.929603143245625, 3.9144535722914773, 5.0236777431100395, 4.593423051792052, 5.410583768163355, 6.875611656687328, 5.574706806827101, 5.978473430355368, 5.488349265742055, 7.097635073436394, 7.12776290668451, 5.86856072805667, 7.4599022895277995, 15.09893690963785, 6.748867244237313, 7.109613798010501, 18.470799231356125, 9.828389678455014, 6.360759099522844, 18.522376845296666, 17.136593002972887, 13.504563229752469, 25.84571054629051, 36.581564899686185, 23.33691805843877, 34.70182330582228, 8.805187000509093, 36.262830653333346, 7.891070370021353, 25.812120210815838, 20.825948864465417, 26.185835243310247, 21.22730043027043, 21.86076698486466, 25.472988014576238, 20.075626334515533, 21.805449203372866, 21.43556913686102, 20.45019201089254, 20.790437206172886, 20.85857514280518, 14.89701089900561, 5.480455697850635, 5.067771152967919, 3.831545884876061, 3.9529793086984286, 7.853980718448222, 5.030518447962413, 9.552070916124869, 3.325991225352491, 3.72109494182236, 5.014284700827715, 5.289000369332381, 10.70896578088547, 6.287948355425901, 5.359808753572109, 4.283814144734219, 4.990507217393074, 11.384170607905233, 4.016153847105755, 4.792708227793041, 8.56191720703427, 4.325809826729625, 5.067665839031286, 4.078781689975271, 5.596928856069819, 5.2218713397301775, 4.785104508802783, 5.831775167519975, 4.252435269579208, 4.425861502891692, 5.515256827833001, 8.08523519565692, 8.437609949147268, 9.519093401705298, 9.276028637179788, 10.192691205209156, 9.987313485859241, 9.282686355040626, 9.442078374121195, 9.041865824566596, 9.1085277635709, 9.536297637867307, 9.227425953299171, 6.27242869154779, 6.766401666512924, 60.52627347289689, 6.741727685779048, 61.26329871482286, 82.00823065482611, 61.69916812849271, 59.566768437872774, 63.57939161853528, 60.635252177750296, 61.51537982963172, 64.1039369346079, 14.231798923876767, 20.379422307509003, 8.9207847741512, 8.915409219882509, 9.495223019582339, 9.301077915829653, 9.701570249583918, 8.758382211019166, 4.038866747002473, 5.006251058211203, 3.5219311654459347, 9.583873458547899, 10.241235809148957, 9.495612679999645, 9.78747690092914, 10.53041894273765, 4.9490886380282015, 5.358680167716986, 10.829848334034441, 10.639220595273466, 10.254833106293482, 10.257801995026666, 10.468948250297617, 4.810398813409685, 11.110796844259344, 10.52099138521241, 13.544980811266342, 8.462436328765941, 14.728951243137866, 5.094586369699133, 13.603565000666828, 4.721218740846793, 9.045871349111465, 14.04660997195131, 14.404658560017994, 13.97471708644383, 14.212990511678068, 13.226042966381268, 14.358481698296307, 14.222545899526526, 17.123218345076204, 12.967240895587617, 17.015480023508964, 19.025197330982486, 20.5330965890994, 14.906769757065039, 19.76708124409693, 13.206094299219917, 14.04663111003223, 14.412520752538363, 13.595116689246556, 14.564295996090243, 4.214110707360043, 3.6947702847436075, 4.390352698941663, 4.623116514698218, 4.136184384735577, 4.3082728921166344, 5.465204035777952, 6.204441414575185, 5.5974550320762155, 4.44793035694848, 4.810270239751581, 4.78125727043272, 4.9951412444960175, 4.542132660745619, 4.805228970133968, 4.534099583920401, 4.751266566580147, 3.5950380879659125, 5.183439790717161, 4.523135303236214, 5.319023102040466, 4.5822747626977485, 9.495223019582339, 4.771053959810415, 3.6874698346113233, 4.863820975311815, 4.310859521951384, 5.1888932584253675, 4.853875131827093, 4.6055297179854255, 5.798618079713328, 5.090881344848139, 8.309190593641206, 6.873446613239707, 6.5274538552850565, 8.9207847741512, 9.045871349111465, 10.08745085248384, 11.110796844259344, 9.308165299961498, 9.78747690092914, 10.52099138521241, 7.395580058351364, 9.301077915829653, 8.462436328765941, 9.731440879359333, 8.758382211019166, 7.744673878508533, 8.915409219882509, 10.257801995026666, 9.495612679999645, 9.806163483156102, 9.583873458547899, 9.701570249583918, 10.254833106293482, 12.119196833072628, 26.030255767377525, 10.53041894273765, 10.829848334034441, 82.00823065482611, 13.32195384569621, 25.49866859016985, 10.468948250297617, 25.472988014576238, 27.066507759453554, 25.96302796421393, 14.906769757065039, 14.222545899526526, 13.595116689246556, 14.04663111003223, 19.025197330982486, 13.206094299219917, 12.967240895587617, 25.812120210815838, 26.185835243310247, 14.728951243137866, 4.604680286693119, 4.511312077848415, 3.2202745810870503, 3.6807732973566827, 4.888874981435468, 3.6200708248439044, 5.431873837071434, 4.835443638372144, 5.224365110348339, 4.288885097465348, 6.597210522011219, 4.375020180214645, 3.866812217200939, 5.389578462785884, 3.96218776137522, 5.273878193947519, 4.693857221187901, 4.630773747851149, 4.073977016054717, 4.038336216289648, 3.8660805206395383, 4.447098627737605, 3.945016028381834, 5.78063060027557, 4.68421974617085, 5.022189662601485, 5.794713928665095, 4.31343543771296, 4.265558327427968, 4.235405010045738, 4.691973802865216, 7.047497896298016, 6.093643142978519, 4.789869450762584, 9.541184879006776, 5.065773896981555, 9.59258630726001, 10.687804311183363, 7.1407168359915865, 8.42253920989239, 9.709547148187541, 10.289470308110564, 8.616844078998144, 9.718457412969725, 10.53429697325569, 7.088378664578804, 9.136928518454015, 9.244798899543511, 9.712851785073076, 10.579636386929213, 7.312070706861909, 82.00823065482611, 60.635252177750296, 59.566768437872774, 63.57939161853528, 61.51537982963172, 61.26329871482286, 61.69916812849271, 64.1039369346079, 60.52627347289689, 25.49866859016985, 17.483638647721417, 26.030255767377525, 25.96302796421393, 27.066507759453554, 21.30899563240596, 17.126165300138716, 3.827492080898282, 3.754419194005887, 4.8521719394305824, 4.000479831553712, 5.6204875530913005, 5.877031753799798, 4.941159273790766, 5.615110507562075, 3.982332472208876, 3.666319827192606, 6.3029189379387685, 6.480301656657384, 3.53405645434247, 5.317137999410225, 3.968573482778747, 6.776283169950672, 5.508191605605246, 3.9933503965310893, 6.205640531073359, 3.9568131121477004, 6.003039247643123, 6.444429136577637, 4.5060688112622165, 4.4604446364496395, 6.698430136185868, 4.008609281608468, 5.179802828115216, 6.009524774495553, 3.9331452077603775, 7.288678522499079, 7.5730912392561125, 6.430988825700333, 6.870279892453315, 7.3559977732767825, 6.702926755237213, 7.620721650040959, 7.294812312433252, 7.614816504711, 8.319368384677169, 6.350565583048857, 8.858850601070944, 8.181019146415611, 6.909840032624749, 9.450671256128635, 69.87256003235728, 10.44665324758393, 25.84571054629051, 10.266836432789795, 11.770590645305967, 12.14744680211202, 28.13891749247031, 6.050853513740984, 5.1150423755223, 5.001139675712697, 4.722896821359563, 5.420136582818977, 4.862359512053267, 3.999805522699802, 4.457790744302107, 4.5056777583670184, 3.609959170405666, 4.5798501189091185, 5.730618496805894, 4.361805516108743, 5.00588899938915, 4.062892241106983, 3.9368975899518244, 4.206414033496395, 5.213637531404622, 5.937996507868561, 4.127911677269924, 4.353734257151956, 5.161184518736497, 4.130917947205388, 5.047200692661058, 5.151349182765193, 4.786227406752469, 4.85983447244806, 5.584680342868326, 4.0569287912046, 3.622243636332969, 5.863003195164784, 5.769225832528082, 5.790702805266024, 6.082233110640389, 8.075382487534185, 5.538770594221593, 6.243262775905386, 6.334234650052918, 16.431026519342176, 22.972188160570706, 9.384954478365604, 14.89701089900561, 18.487544144775534, 57.792314033665086, 58.321398166859744, 59.35303461630969, 20.455385221886534, 21.358713911735922, 15.200025384281123, 36.581564899686185, 36.262830653333346, 17.921261053916798, 82.00823065482611, 64.1039369346079, 61.51537982963172, 60.635252177750296, 20.47071208983042, 63.57939161853528, 34.70182330582228, 61.26329871482286, 61.69916812849271, 59.566768437872774, 60.52627347289689, 20.36189584900714, 18.954867683856854, 20.842003659546734, 22.210410979563935, 69.87256003235728, 4.891797555308862, 3.696828177130118, 6.326923803454352, 4.292216165880041, 3.397863088572937, 4.11317949751222, 5.3769831732888855, 4.80190085102092, 5.848623146279336, 4.066110518428847, 4.404047995200105, 6.574910762127905, 3.2925341046971774, 4.611501316265633, 4.607820601645724, 5.138281625709267, 4.606174842057785, 6.276246372146739, 5.0508462473377875, 4.7572203532927375, 4.890221548382783, 4.746975782348398, 5.86915145681005, 3.775143921305618, 4.112522934004076, 4.127011948036161, 4.146308416559562, 4.994356675623468, 3.5048306163030354, 4.034423121235368, 4.5904297508777185, 5.181576429875263, 4.446536644608253, 5.733396815906306, 13.683680772059189, 16.719726575765904, 12.924817834355892, 14.240213658424256, 16.84224564755275, 18.08460000536293, 13.680167845476229, 13.745753884082157, 16.092682359429034, 12.729725251163, 12.821684148301102, 17.522177941057798, 18.387897159487018, 14.486898311908535, 12.890076026304657, 14.104876337019082, 14.124266850810496, 16.872551456559233, 18.085390863532623, 18.18245792324913, 13.961219653672082, 14.060575362686093, 14.452764379223998, 13.859493812810324, 14.412756877729697, 41.66257585932805, 15.215871581947596, 15.25833983868401, 45.037670780629874, 41.71951656371636, 15.718107222716498, 15.975506315125303, 16.585455560435864, 16.153099171943033, 16.137664632937025, 4.059751774378961, 4.8051126595008045, 3.436508397647078, 4.151806552006099, 4.903174085429273, 4.70390141780507, 3.5988513697632984, 3.6403696624676787, 4.018101649388602, 4.641259374799528, 4.761165732743162, 4.390445293086968, 4.119841572756288, 4.9875887116240225, 4.574493567313733, 4.040354313531147, 4.602758990192286, 4.305721573008219, 5.0060563483669105, 5.35202683565137, 4.848732320441631, 3.911319065682458, 6.293336066734983, 4.7972352345694755, 4.253033411707127, 4.9232107597987715, 3.975205353513434, 3.9697478195113547, 4.810880692563767, 3.6325794363657353, 6.064835992007529, 5.8520590416610165, 4.4430991038009795, 7.058567565367941, 5.171065924405326, 6.658518012885473, 5.957149034931207, 5.53207154224949, 5.338916615324864, 8.750442051759794, 5.106940196383569, 6.108702379360192, 7.6935583475830205, 6.092600296917645, 8.162256170046016, 20.646552103289356, 6.390414953077221, 7.629993662917948, 16.097744884162278, 7.083916985625754, 15.335217612402971, 6.824191336213862, 58.321398166859744, 60.52627347289689, 61.69916812849271, 59.35303461630969, 34.70182330582228, 10.449712693675822, 9.74041194372889, 20.19846776252287, 57.792314033665086, 63.57939161853528, 61.26329871482286, 64.1039369346079, 20.63327677973865, 82.00823065482611, 4.867670727753726, 3.1323257229821615, 5.1483612080951175, 2.897702723515997, 4.260031845381807, 4.872087438382028, 4.169480985358669, 4.063143485795822, 4.052793618202494, 4.377309549670394, 5.093459419986767, 3.7892554732920494, 5.406618509253131, 4.998270699930401, 4.404949046033206, 3.073978145296011, 3.762353124384377, 4.820489407084575, 5.279471027173593, 4.317056902855854, 5.605943497472142, 4.852381730294788, 4.0400997081382855, 5.535194623295325, 3.552198007384263, 4.101137361780477, 5.219882438277574, 5.578213906998726, 5.185325419442177, 5.366448061817647, 5.059019631514474, 5.558643344386323, 4.872798156165884, 5.541209285254188, 6.229741851902563, 7.68725104732311, 5.948354929015592, 5.372877217524918, 6.288125556768337, 5.7062309473858575, 6.875335987422636, 5.391378420137339, 7.992797474631795, 6.414316361115924, 23.33691805843877, 6.12267906971774, 45.037670780629874, 9.458015362106194, 15.406920582628127, 19.428014355749568, 19.733273496088774, 20.460727708149104, 5.6660317915396154, 5.336515017645377, 6.542030326926181, 3.773713165375308, 5.140687571635336, 5.613734127903545, 5.542427304858694, 7.398697750171183, 4.5062635265884525, 6.719409834083377, 6.701917700531203, 3.976905790733373, 6.48652908534966, 4.454165712925323, 4.821397570840468, 5.034537894938907, 5.802197183013681, 4.618108733713896, 6.814348296895582, 5.036697692669284, 6.626746638021035, 3.871402693803591, 7.5525844727634235, 8.193992455301663, 5.279680028541357, 6.714330152437076, 3.707722936810236, 4.930966829910341, 3.6935952981349027, 5.6663703601766855, 7.3160270629004795, 7.135500281911699, 6.830794198447518, 5.720342869214451, 7.527042343597642, 7.474825234402354, 7.391529260987484, 5.729331553168733, 9.10286701550221, 17.136593002972887, 8.73170964867777, 7.926215102311559, 18.522376845296666, 18.470799231356125, 13.504563229752469, 15.09893690963785, 19.162807031040877, 19.9391143798599, 57.792314033665086, 41.71951656371636, 45.037670780629874, 41.66257585932805, 20.39389771427818, 58.321398166859744, 59.35303461630969, 18.73223562828045, 19.847141955731683, 7.334237939243338, 8.557182201581735, 8.364578815151294, 8.771131585745033, 7.808266760975146, 5.366299987196635, 6.076942309963134, 3.6185500516147138, 5.024162721564035, 5.160140028326473, 5.116990158606605, 5.274343356660681, 5.38336354703419, 3.757587077699243, 5.452019030064957, 5.179720549764732, 6.712379211088993, 5.5520868629268385, 5.790226661464248, 7.321463122159249, 3.8929198747168834, 4.899635452588871, 5.276521052652158, 8.879558971839636, 5.607377971048339, 4.4792776594281305, 9.416926339148521, 6.04441032736855, 4.487168997715712, 4.193245825851306, 17.507098563836514, 8.836342526278884, 17.657902704877888, 18.888249838336066, 7.203060939039925, 5.653787090510088, 6.073500950005042, 6.689687631030329, 15.345794929786495, 10.119074201238918, 15.391282969609579, 15.38534365492172, 58.321398166859744, 59.35303461630969, 57.792314033665086, 25.84571054629051, 4.197892398404864, 4.398349024560889, 3.4674511911464396, 3.977004647201911, 5.74000727279103, 4.122383867015251, 3.7649124661320714, 4.170301352674346, 5.059932023073502, 4.382985409683854, 4.937312927525166, 4.581116136385386, 4.310275977140465, 5.476475386185299, 4.893478037564123, 4.916823813464708, 4.892830467190706, 4.617172614820434, 6.0969055391374365, 3.5104805275929634, 5.00477390839034, 4.898354354104733, 3.854783953772158, 5.4513608181074575, 3.3411069159260065, 5.778483630198828, 4.22712736107497, 3.914359184323918, 5.204997452665744, 4.534615333757343, 5.986411201356339, 5.4296217982165285, 5.69798709475744, 6.01518267544217, 5.311819962060101, 5.585629086577475, 5.793347253556961, 7.084016066213663, 6.803572988943589, 6.285797616471, 11.554610957629752, 6.284178542436993, 6.058050622684591, 24.940366656931797, 6.393585152943568, 6.798176411034342, 3.6029229808666114, 4.652134601103957, 3.787134122643783, 3.4472574070725357, 4.71749559265365, 5.037335237779784, 6.023179411739836, 5.649825440724435, 4.477949962776728, 4.972728192313829, 5.770644103273518, 3.271295998238675, 5.362454261864863, 6.250642566342143, 4.912371092625834, 4.833585401170007, 5.095047926557864, 4.820556884863014, 5.549937348780564, 5.287178700419716, 5.397180065884863, 5.499485689371201, 5.388003083283809, 5.53741866458192, 3.6237016356111633, 3.393840758207708, 4.093713431026186, 5.256717131595657, 5.081228428158847, 5.382420077284838, 6.01799581604219, 5.619191190789214, 5.022683666561737, 5.637276308548248, 6.247298189043888, 6.432919876541228, 7.513078664452161, 6.370759655088722, 7.747288295167981, 6.686391698000095, 32.19179508366693, 20.460727708149104, 6.682605671947535, 63.57939161853528, 82.00823065482611, 61.51537982963172, 61.69916812849271, 60.52627347289689, 64.1039369346079, 61.26329871482286, 59.566768437872774, 60.635252177750296, 36.262830653333346, 34.70182330582228, 36.581564899686185, 6.446016850999876, 7.083916985625754, 7.164429940956408, 7.2202061972881655, 7.1816575083736485, 7.516049864934617, 7.409304766931224, 8.058957328659437, 7.751809975428289, 8.307360673945336, 8.100192885487523, 8.694995585964929, 9.123847588800302, 5.765757690087403, 8.436656918473208, 5.165887956567308, 5.5579009832825745, 4.146918066989931, 5.199115271123192, 9.734604755083867, 5.444566871841795, 6.20108971057021, 5.3312459781935555, 9.746479168077597, 4.906893364647239, 5.118298254668329, 3.8036110351097028, 5.2970657571076805, 5.192507665890176, 4.646343651195607, 5.27533162974783, 6.6520851804909835, 60.635252177750296, 61.69916812849271, 60.52627347289689, 59.566768437872774, 61.51537982963172, 64.1039369346079, 63.57939161853528, 61.26329871482286, 82.00823065482611, 20.040175142631707, 19.981670456920437, 25.96302796421393, 20.23024846210721, 25.49866859016985, 4.468947923610303, 4.170675416191447, 3.64952554889733, 4.2430973536446235, 4.567115199966391, 4.895193470268194, 4.259386509005645, 5.777811900874729, 4.30554829412842, 5.826874011597553, 4.779068533598655, 5.616923719645671, 4.262969145902392, 4.774504968022161, 3.8150148792527063, 7.22668888525544, 5.9482686870783, 4.8203172753042, 5.655974936722557, 4.464660329350491, 3.9634228613239957, 6.608171644268238, 4.617993221469238, 6.0186250058947355, 4.677161110017299, 5.4387978512117625, 7.059232833314756, 3.829732144381737, 3.9719264439613804, 3.6913416904187653, 7.537737514610801, 5.419297905157324, 7.1512477674432375, 6.392465709380885, 6.473801292357658, 7.027212836175423, 7.891285611181243, 7.836451578047864, 7.575547754937546, 7.910975080141057, 6.978920963350547, 7.6195863514367845, 17.945387643124192, 7.544349797239778, 6.940950857542688, 7.398498998255236, 16.57013800538316, 38.95714764035288, 38.69714353363701, 17.129646324071782, 38.8103695383693, 38.03282857959123, 38.04838278823713, 39.667658644800014, 38.39843266493963, 39.548532438040645, 38.98264078111063, 16.134833627753093, 17.179751148051583, 16.565593284241174, 13.263066781906016, 17.4593397472905, 18.956066425106442, 17.480163850565553, 17.359194097253443, 15.813166194395912, 17.201283107172827, 16.28600370261081, 16.720163561847777, 18.34909605387109, 18.27640366047126, 15.171504544591777, 3.337317059036227, 4.5549260825298035, 4.024886779644006, 3.8494129550031695, 4.3115415066980765, 4.628134783033792, 4.928497982775406, 4.876359790456029, 4.746622208067134, 6.381454785899338, 4.27660611817992, 4.254224259308928, 4.269719844550063, 5.384085836192773, 5.774326899180633, 3.8249293456534224, 4.577331405210477, 5.527737631032152, 4.167910897937739, 6.052637631972051, 3.757343897583217, 5.885206546919088, 5.3593051431252, 4.542399186050704, 5.016826971802838, 2.893060401816413, 5.458460174686799, 3.3492648190490693, 4.252390725267532, 4.419432975990561, 6.607082704186775, 7.847910933018912, 4.728352437320568, 5.100054293356701, 9.098613562687452, 6.62373180717896, 7.083246969654103, 7.463133097091208, 6.078091989158717, 7.094055708986387, 6.729015591578812, 7.64632770177734, 5.858947587596471, 7.914772593871158, 5.599876544344526, 8.384980487669978, 7.747083472044053, 6.702244176390106, 8.14885333180442, 6.576210930412488, 7.113797853977789, 8.400456631010497, 17.507098563836514, 17.657902704877888, 8.453392686441498, 18.888249838336066, 9.47773868840135, 69.87256003235728, 8.17900224239144, 32.19179508366693, 10.762532421647375, 9.532910083491519, 13.32148473439218, 4.288323476989649, 3.8473069909626947, 6.1771911733533305, 4.51898002165839, 3.87503075204058, 5.880715993490118, 4.923085739763799, 3.230606739143416, 4.738052012791482, 5.827482390265448, 4.399657871511262, 4.4354313514713075, 3.5109235959025598, 5.538431523958876, 3.62923068062192, 4.455604510772635, 4.369451586569162, 4.642978346933827, 4.09151440553841, 4.628295360640657, 4.860487060403949, 5.031637833857742, 5.86835335654527, 4.715597553326399, 3.753121531099074, 4.721472409530683, 3.7741472088540395, 4.375028817418851, 3.9831380741549856, 4.524693443367799, 5.482791361874132, 6.309684814197605, 4.9542026029402075, 5.6000474364651875, 5.843955073205551, 7.204756557735559, 7.954471055758348, 5.649071464398837, 5.385412104782398, 6.782024511226156, 6.699359461569493, 7.6935583475830205, 5.995330230879489, 7.444069304173961, 9.340679942201804, 45.037670780629874, 58.321398166859744, 16.276229600720708, 13.052948885524229, 57.792314033665086, 59.35303461630969, 41.66257585932805, 41.71951656371636, 22.6940179767493, 15.14153760804834, 21.70734365382457, 4.548208355877905, 4.25323674307302, 3.708211487764477, 4.629109023364516, 3.3055865964429176, 4.539309515323845, 5.380862080728293, 4.992040633073287, 5.512511714570349, 5.915892318742231, 4.107446086580007, 4.854202685850635, 5.920231560192937, 3.5206599106346377, 5.989272789032261, 5.356797414367967, 4.947127804125813, 4.519609728162425, 5.7971080173233025, 3.6835437365068677, 5.012743248451027, 4.80787139674139, 3.984384661514048, 4.7471509611939995, 4.030996605962861, 4.365752017528369, 4.390074075802274, 4.166822782742312, 5.534633239264602, 7.1125133440483745, 5.865867538364825, 5.446307878208532, 8.610798455107172, 7.516821335295099, 5.900285904297256, 6.034560063006014, 8.813429995280602, 6.933570007944972, 11.023719139765104, 8.204201011237657, 11.812583047521715, 11.40971450626864, 10.71411755138167, 10.268333068033668, 11.78826595329837, 11.890168133937012, 82.00823065482611, 63.57939161853528, 9.524649870363364, 64.1039369346079, 61.26329871482286, 59.566768437872774, 61.69916812849271, 60.635252177750296, 20.004836063362436, 61.51537982963172, 60.52627347289689, 20.54478573594704, 11.830113174000514, 25.494382426576358, 20.898294348131348, 24.33476973074263, 25.384312723002974, 20.691271335860737, 19.017439630896686, 25.376137136302766, 18.323167151785206, 19.4172762236293, 18.41883914143269, 19.215819437188884, 4.846570304333218, 3.3217780143311084, 4.262017937634659, 4.687591098675168, 4.3920766889006835, 6.0560452700053435, 6.541908530447015, 3.920939512617086, 3.1063164247674875, 4.6888149633663225, 4.592870781681218, 4.06591002815013, 4.843850411633597, 4.230840126574813, 5.265695778458378, 5.269151418447957, 4.273001403131429, 4.1756232514529446, 4.162454231558104, 4.557096092201512, 3.5913088507828608, 5.650827939453912, 5.04143617284969, 5.49493432219362, 3.5188422757331743, 3.9391523959116914, 4.492185146802311, 4.272665759401424, 4.181578816423413, 5.094761951124258, 5.095636084845569, 5.35576116097977, 4.970024809777708, 6.903131081156932, 4.772410012556152, 5.869564844939451, 5.6165909381730765, 6.3029582728017255, 5.400828192513162, 5.295275497300623, 12.349435812451633, 9.160009644890023, 17.28541488073767, 10.731038361054347, 7.032539066312039, 6.304506134764554, 24.940366656931797, 8.98876643256338, 36.581564899686185, 7.855471314488694, 34.70182330582228, 36.262830653333346, 4.302792136541596, 4.997265375973104, 3.76588023960064, 4.089174353043129, 4.251599387105992, 4.282352800167399, 3.2593990196580216, 4.2573483914923225, 2.9620589440986147, 4.885129963981994, 6.861968128683499, 4.635802585376122, 4.67404474946531, 5.153252748028608, 3.9671963406545583, 5.485530675169568, 4.015635654566059, 5.026302757042071, 3.699361399983959, 4.065195399437005, 3.7632381558296393, 4.334132429238211, 3.708506775813441, 5.007471771495722, 4.878506558976851, 5.819366725204038, 4.947249991328565, 5.159952391876921, 4.694488607174923, 5.382459278885957, 10.743966681821265, 10.733696304461542, 11.543390726733389, 13.358738020065438, 10.789049929919754, 11.198180397433685, 10.810605243911438, 6.581624829852133, 11.622119141121942, 12.894061940082544, 12.701518985721732, 13.007393627344676, 13.892371738791327, 13.556867421538026, 12.341362687900464, 13.574241745415872, 32.19179508366693, 7.574353615948056, 6.299931604746859, 6.072934517240505, 4.533307793531835, 4.332152670786069, 3.377785342149782, 4.921072852280412, 5.448544065230541, 6.215364739175279, 5.151349182765193, 4.2337004178726065, 3.674789787494604, 4.352175700206229, 4.431225586835156, 4.356769861947847, 4.897119454581298, 3.435009153146437, 3.644313498072742, 3.8717111187992743, 4.127643068664628, 4.575211472824076, 3.417353727581777, 4.8993358602956185, 3.041795710468156, 4.6682854449142654, 3.4447841510200035, 2.7683175349121822, 4.065742829887168, 3.5553497256473316, 3.927301506382009, 4.9357995932277134, 4.666635890920632, 3.883701173473244, 4.932641363366554, 8.789255007914061, 4.913534562926271, 4.505598652668172, 5.863003195164784, 5.705444774954216, 5.7668082404631305, 6.790747229905461, 5.937996507868561, 5.805410324348042, 5.797489903607604, 5.395523242704692, 9.569112056290814, 8.000762488993262, 6.7911632172164955, 5.973232722231693, 16.431026519342176, 6.189442268981314, 6.69030087597254, 6.455247614786602, 5.940935265119172, 6.350054531815126, 5.755125917505013, 6.782024511226156, 6.913245733723962, 5.450226535714177, 4.639841441959211, 3.771290861201382, 3.660261713258767, 3.4099409197235833, 4.923085739763799, 3.694687076583654, 4.511548967478711, 5.480029605010116, 4.6443517080022865, 5.064846759205635, 4.191139526056411, 4.433330879443642, 4.9154414246475255, 6.683359849911097, 4.038337573530886, 4.310165935878955, 4.3009085291673514, 3.6237016356111633, 3.913144488936971, 5.549721952647245, 4.930814216307888, 4.05289476103222, 4.423696048781326, 4.803710156093211, 4.471292036677634, 4.22329427910566, 3.976506527776444, 4.465121698076797, 4.152403478517213, 5.439038113321182, 4.514992174611516, 5.758016869354225, 13.664742817386667, 14.443116499536057, 12.814705116596985, 13.460597329835, 13.666399118893391, 14.064161654385998, 14.612940534089146, 14.469638433161437, 13.915644238216956, 14.74133612953099, 15.171504544591777, 15.477657786379321, 14.033651164306143, 14.521839052159578, 14.24804024456947, 14.832326745132564, 14.211851782583853, 14.151911901955307, 14.623913622581847, 14.610599026663884, 9.74041194372889, 20.66528703693286, 19.337546587159895, 41.66257585932805, 45.037670780629874, 41.71951656371636, 19.162807031040877, 19.847141955731683, 19.92007920493121, 20.116821544119563, 19.447542068696073, 20.55164344586149, 19.578343613255612, 19.9391143798599, 20.39389771427818, 18.73223562828045, 3.2157759402804627, 5.2344126516741, 3.3395298493156127, 4.101922044161306, 3.1124371888624656, 3.91311960947471, 3.3192295914733734, 4.13156277001038, 3.454460022213485, 3.563585755590821, 3.8172778714727804, 4.528133491072086, 4.524279562145428, 4.301379347213415, 4.057505165098921, 6.188110872803137, 5.063599269564407, 4.377450899825343, 3.8549804469800444, 3.8268809433833177, 3.3824646231814297, 5.245280749081041, 3.6772598346457883, 4.457790744302107, 3.312260933246553, 4.5917591308770795, 4.643724549638487, 4.825504437166147, 3.900846998667058, 2.891076531835866, 4.19924928683339, 5.658707960711122, 4.926323950437147, 4.603893849114587, 4.510016457889007, 5.43113905222545, 5.7664375614355565, 5.57683139278934, 7.863641469334332, 5.196580036239553, 5.526796981921091, 6.400385443970624, 5.189226283404092, 6.4862754422907924, 6.130613960100132, 20.116821544119563, 7.407795937732887, 9.24986965807638, 8.35756556201401, 19.9391143798599, 6.674820230052364, 19.92007920493121, 20.66528703693286, 12.259597283991877, 19.578343613255612, 18.73223562828045, 19.447542068696073, 19.337546587159895, 20.39389771427818, 19.847141955731683, 41.66257585932805, 20.55164344586149, 19.162807031040877, 24.940366656931797, 45.037670780629874, 41.71951656371636, 59.35303461630969, 58.321398166859744, 3.326282931398269, 4.671627836190412, 6.433759133329429, 3.5901560865518922, 3.8285345345213857, 3.554545387462564, 4.746859855223305, 3.829210358936721, 3.4894844143723676, 4.871322649146345, 3.985250696559502, 4.4966934646530445, 3.9794255258828497, 3.8408196473219567, 3.755168617831623, 5.041635681101627, 3.6474842968553256, 4.329698424600704, 3.608127514066514, 5.092263148172604, 4.088161240771918, 3.4670039003222533, 5.008255556081125, 3.7312939954099145, 4.731454194183344, 4.477002984252294, 3.477247302639931, 4.156151166978404, 4.494743175190399, 4.552291396312363, 5.593522538520115, 5.277269095186786, 4.453294161005115, 6.38228100443023, 6.081622649505777, 6.646440439533886, 5.8749594265174565, 6.4665989890260915, 6.291498318616733, 7.169707287697531, 5.350928628047795, 5.167079189381872, 6.0022878098857815, 6.896579971241139, 5.473047311856266, 6.73100448680955, 5.258488103664408, 5.753250156349757, 17.71684679980116, 7.859638637622347, 7.686632271415721, 19.428014355749568, 23.33691805843877, 4.296358832975992, 4.4419921147750525, 4.56280337893634, 4.825590957714444, 4.985372297655782, 4.946306568933562, 3.5515169578362604, 4.140859347180683, 4.994936792222256, 4.408851151736895, 4.4030706042530765, 4.901102530866852, 3.984961553570463, 4.92587425103345, 4.16921154814592, 4.572014436641326, 3.447124751336541, 4.384365794383889, 4.4370322686765675, 5.08157247229399, 4.037691674320659, 5.247523327424046, 5.2481048260042975, 5.029359274715145, 4.8253673805767905, 4.047462831833733, 4.45611363263594, 5.064245406650356, 4.778013582753118, 5.268969337980453, 5.733396815906306, 5.131041010238048, 6.341743466961114, 5.099859103888517, 5.613734127903545, 6.000092567201368, 5.874149272127946, 7.737741466488406, 23.443687607523476, 9.396097261181255, 8.708933349991735, 4.290762008348233, 3.671730558499125, 5.09921546859893, 3.9041995150703905, 4.473187761341573, 4.337463534264088, 4.275441669759545, 4.113616652758776, 5.044838607119004, 4.680216118415855, 3.867352674264427, 3.9125618070006913, 4.714784138413719, 4.31058399540517, 4.478348303743257, 4.029443201078697, 4.035987293841031, 4.658747030572339, 4.441204049984657, 4.861823053059907, 3.7482398808972226, 3.9085076058042665, 6.386144514459625, 5.157717777730498, 4.5549260825298035, 4.288982920574294, 3.697275453887075, 3.3726560149415494, 3.6518086570329555, 4.788868953840196, 5.44452151950782, 4.369417004261664, 6.203304452349225, 5.987813508807191, 5.711557714658412, 5.605862613781389, 5.3847780929028115, 7.736390411619945, 7.203706932386621, 7.535502737019319, 5.677462562320879, 6.399538271180636, 58.321398166859744, 5.629801893324896, 57.792314033665086, 59.35303461630969, 4.521797567126705, 5.243249290003135, 4.62898366560804, 4.054919958543113, 4.231663984122958, 4.894132683283876, 3.781173691747026, 3.9881503900939546, 4.633258538914453, 5.31212776833326, 4.9556406917442395, 4.464421964271091, 4.619241596384677, 4.24546558943848, 4.241036420677081, 4.138949185792543, 5.070167289160171, 4.330992365648491, 3.68344409293501, 4.814536844648718, 5.8545949992362845, 5.0632659158356, 4.230771153784985, 3.435009153146437, 3.9106295091373964, 4.201840190650376, 6.219086057301633, 4.463417049340149, 3.979031586560911, 4.748587443531617, 5.075484817767327, 4.5172214917905125, 5.532169132928579, 5.322394115123167, 5.523252924260522, 5.324487830417088, 5.8313454417761585, 5.868482067396173, 12.14744680211202, 19.602302370395332, 10.44665324758393, 19.20642578045293, 28.13891749247031, 19.428014355749568, 10.266836432789795, 23.33691805843877, 10.070238458810074, 19.733273496088774, 11.554610957629752, 15.345794929786495, 15.391282969609579, 17.71684679980116], \"Category\": [\"Default\", \"Default\", \"Default\", \"Default\", \"Default\", \"Default\", \"Default\", \"Default\", \"Default\", \"Default\", \"Default\", \"Default\", \"Default\", \"Default\", \"Default\", \"Default\", \"Default\", \"Default\", \"Default\", \"Default\", \"Default\", \"Default\", \"Default\", \"Default\", \"Default\", \"Default\", \"Default\", \"Default\", \"Default\", \"Default\", \"Topic1\", \"Topic1\", \"Topic1\", \"Topic1\", \"Topic1\", \"Topic1\", \"Topic1\", \"Topic1\", \"Topic1\", \"Topic1\", \"Topic1\", \"Topic1\", \"Topic1\", \"Topic1\", \"Topic1\", \"Topic1\", \"Topic1\", \"Topic1\", \"Topic1\", \"Topic1\", \"Topic1\", \"Topic1\", \"Topic1\", \"Topic1\", \"Topic1\", \"Topic1\", \"Topic1\", \"Topic1\", \"Topic1\", \"Topic1\", \"Topic1\", \"Topic1\", \"Topic1\", \"Topic1\", \"Topic1\", \"Topic1\", \"Topic1\", \"Topic1\", \"Topic1\", \"Topic1\", \"Topic1\", \"Topic1\", \"Topic1\", \"Topic1\", \"Topic1\", \"Topic1\", \"Topic1\", \"Topic1\", \"Topic1\", \"Topic1\", \"Topic1\", \"Topic1\", \"Topic1\", \"Topic1\", \"Topic1\", \"Topic2\", \"Topic2\", \"Topic2\", \"Topic2\", \"Topic2\", \"Topic2\", \"Topic2\", \"Topic2\", \"Topic2\", \"Topic2\", \"Topic2\", \"Topic2\", \"Topic2\", \"Topic2\", \"Topic2\", \"Topic2\", \"Topic2\", \"Topic2\", \"Topic2\", \"Topic2\", \"Topic2\", \"Topic2\", \"Topic2\", \"Topic2\", \"Topic2\", \"Topic2\", \"Topic2\", \"Topic2\", \"Topic2\", \"Topic2\", \"Topic2\", \"Topic2\", \"Topic2\", \"Topic2\", \"Topic2\", \"Topic2\", \"Topic2\", \"Topic2\", \"Topic2\", \"Topic2\", \"Topic2\", \"Topic2\", \"Topic2\", \"Topic2\", \"Topic2\", \"Topic2\", \"Topic2\", \"Topic2\", \"Topic2\", \"Topic2\", \"Topic2\", \"Topic2\", \"Topic2\", \"Topic2\", \"Topic2\", \"Topic2\", \"Topic2\", \"Topic2\", \"Topic2\", \"Topic2\", \"Topic2\", \"Topic2\", \"Topic2\", \"Topic2\", \"Topic2\", \"Topic2\", \"Topic2\", \"Topic2\", \"Topic2\", \"Topic2\", \"Topic2\", \"Topic2\", \"Topic2\", \"Topic3\", \"Topic3\", \"Topic3\", \"Topic3\", \"Topic3\", \"Topic3\", \"Topic3\", \"Topic3\", \"Topic3\", \"Topic3\", \"Topic3\", \"Topic3\", \"Topic3\", \"Topic3\", \"Topic3\", \"Topic3\", \"Topic3\", \"Topic3\", \"Topic3\", \"Topic3\", \"Topic3\", \"Topic3\", \"Topic3\", \"Topic3\", \"Topic3\", \"Topic3\", \"Topic3\", \"Topic3\", \"Topic3\", \"Topic3\", \"Topic3\", \"Topic3\", \"Topic3\", \"Topic3\", \"Topic3\", \"Topic3\", \"Topic3\", \"Topic3\", \"Topic3\", \"Topic3\", \"Topic3\", \"Topic3\", \"Topic3\", \"Topic3\", \"Topic3\", \"Topic3\", \"Topic3\", \"Topic3\", \"Topic3\", \"Topic3\", \"Topic3\", \"Topic3\", \"Topic3\", \"Topic3\", \"Topic3\", \"Topic3\", \"Topic3\", \"Topic3\", \"Topic3\", \"Topic3\", \"Topic3\", \"Topic3\", \"Topic3\", \"Topic3\", \"Topic3\", \"Topic3\", \"Topic3\", \"Topic3\", \"Topic3\", \"Topic3\", \"Topic4\", \"Topic4\", \"Topic4\", \"Topic4\", \"Topic4\", \"Topic4\", \"Topic4\", \"Topic4\", \"Topic4\", \"Topic4\", \"Topic4\", \"Topic4\", \"Topic4\", \"Topic4\", \"Topic4\", \"Topic4\", \"Topic4\", \"Topic4\", \"Topic4\", \"Topic4\", \"Topic4\", \"Topic4\", \"Topic4\", \"Topic4\", \"Topic4\", \"Topic4\", \"Topic4\", \"Topic4\", \"Topic4\", \"Topic4\", \"Topic4\", \"Topic4\", \"Topic4\", \"Topic4\", \"Topic4\", \"Topic4\", \"Topic4\", \"Topic4\", \"Topic4\", \"Topic4\", \"Topic4\", \"Topic4\", \"Topic4\", \"Topic4\", \"Topic4\", \"Topic4\", \"Topic4\", \"Topic4\", \"Topic4\", \"Topic4\", \"Topic4\", \"Topic4\", \"Topic4\", \"Topic4\", \"Topic4\", \"Topic4\", \"Topic4\", \"Topic4\", \"Topic4\", \"Topic4\", \"Topic4\", \"Topic4\", \"Topic4\", \"Topic4\", \"Topic4\", \"Topic4\", \"Topic4\", \"Topic4\", \"Topic4\", \"Topic4\", \"Topic4\", \"Topic5\", \"Topic5\", \"Topic5\", \"Topic5\", \"Topic5\", \"Topic5\", \"Topic5\", \"Topic5\", \"Topic5\", \"Topic5\", \"Topic5\", \"Topic5\", \"Topic5\", \"Topic5\", \"Topic5\", \"Topic5\", \"Topic5\", \"Topic5\", \"Topic5\", \"Topic5\", \"Topic5\", \"Topic5\", \"Topic5\", \"Topic5\", \"Topic5\", \"Topic5\", \"Topic5\", \"Topic5\", \"Topic5\", \"Topic5\", \"Topic5\", \"Topic5\", \"Topic5\", \"Topic5\", \"Topic5\", \"Topic5\", \"Topic5\", \"Topic5\", \"Topic5\", \"Topic5\", \"Topic5\", \"Topic5\", \"Topic5\", \"Topic5\", \"Topic5\", \"Topic5\", \"Topic5\", \"Topic5\", \"Topic5\", \"Topic5\", \"Topic5\", \"Topic5\", \"Topic5\", \"Topic5\", \"Topic5\", \"Topic5\", \"Topic5\", \"Topic5\", \"Topic5\", \"Topic5\", \"Topic5\", \"Topic5\", \"Topic5\", \"Topic5\", \"Topic5\", \"Topic5\", \"Topic5\", \"Topic5\", \"Topic5\", \"Topic6\", \"Topic6\", \"Topic6\", \"Topic6\", \"Topic6\", \"Topic6\", \"Topic6\", \"Topic6\", \"Topic6\", \"Topic6\", \"Topic6\", \"Topic6\", \"Topic6\", \"Topic6\", \"Topic6\", \"Topic6\", \"Topic6\", \"Topic6\", \"Topic6\", \"Topic6\", \"Topic6\", \"Topic6\", \"Topic6\", \"Topic6\", \"Topic6\", \"Topic6\", \"Topic6\", \"Topic6\", \"Topic6\", \"Topic6\", \"Topic6\", \"Topic6\", \"Topic6\", \"Topic6\", \"Topic6\", \"Topic6\", \"Topic6\", \"Topic6\", \"Topic6\", \"Topic6\", \"Topic6\", \"Topic6\", \"Topic6\", \"Topic6\", \"Topic6\", \"Topic6\", \"Topic6\", \"Topic6\", \"Topic6\", \"Topic6\", \"Topic6\", \"Topic6\", \"Topic6\", \"Topic6\", \"Topic6\", \"Topic6\", \"Topic6\", \"Topic6\", \"Topic6\", \"Topic6\", \"Topic6\", \"Topic6\", \"Topic6\", \"Topic7\", \"Topic7\", \"Topic7\", \"Topic7\", \"Topic7\", \"Topic7\", \"Topic7\", \"Topic7\", \"Topic7\", \"Topic7\", \"Topic7\", \"Topic7\", \"Topic7\", \"Topic7\", \"Topic7\", \"Topic7\", \"Topic7\", \"Topic7\", \"Topic7\", \"Topic7\", \"Topic7\", \"Topic7\", \"Topic7\", \"Topic7\", \"Topic7\", \"Topic7\", \"Topic7\", \"Topic7\", \"Topic7\", \"Topic7\", \"Topic7\", \"Topic7\", \"Topic7\", \"Topic7\", \"Topic7\", \"Topic7\", \"Topic7\", \"Topic7\", \"Topic7\", \"Topic7\", \"Topic7\", \"Topic7\", \"Topic7\", \"Topic7\", \"Topic7\", \"Topic7\", \"Topic7\", \"Topic7\", \"Topic7\", \"Topic7\", \"Topic7\", \"Topic7\", \"Topic7\", \"Topic7\", \"Topic7\", \"Topic7\", \"Topic7\", \"Topic7\", \"Topic7\", \"Topic7\", \"Topic7\", \"Topic7\", \"Topic7\", \"Topic8\", \"Topic8\", \"Topic8\", \"Topic8\", \"Topic8\", \"Topic8\", \"Topic8\", \"Topic8\", \"Topic8\", \"Topic8\", \"Topic8\", \"Topic8\", \"Topic8\", \"Topic8\", \"Topic8\", \"Topic8\", \"Topic8\", \"Topic8\", \"Topic8\", \"Topic8\", \"Topic8\", \"Topic8\", \"Topic8\", \"Topic8\", \"Topic8\", \"Topic8\", \"Topic8\", \"Topic8\", \"Topic8\", \"Topic8\", \"Topic8\", \"Topic8\", \"Topic8\", \"Topic8\", \"Topic8\", \"Topic8\", \"Topic8\", \"Topic8\", \"Topic8\", \"Topic8\", \"Topic8\", \"Topic8\", \"Topic8\", \"Topic8\", \"Topic8\", \"Topic8\", \"Topic8\", \"Topic8\", \"Topic8\", \"Topic8\", \"Topic8\", \"Topic8\", \"Topic8\", \"Topic8\", \"Topic8\", \"Topic8\", \"Topic8\", \"Topic8\", \"Topic8\", \"Topic8\", \"Topic8\", \"Topic8\", \"Topic8\", \"Topic8\", \"Topic8\", \"Topic8\", \"Topic8\", \"Topic8\", \"Topic8\", \"Topic8\", \"Topic8\", \"Topic9\", \"Topic9\", \"Topic9\", \"Topic9\", \"Topic9\", \"Topic9\", \"Topic9\", \"Topic9\", \"Topic9\", \"Topic9\", \"Topic9\", \"Topic9\", \"Topic9\", \"Topic9\", \"Topic9\", \"Topic9\", \"Topic9\", \"Topic9\", \"Topic9\", \"Topic9\", \"Topic9\", \"Topic9\", \"Topic9\", \"Topic9\", \"Topic9\", \"Topic9\", \"Topic9\", \"Topic9\", \"Topic9\", \"Topic9\", \"Topic9\", \"Topic9\", \"Topic9\", \"Topic9\", \"Topic9\", \"Topic9\", \"Topic9\", \"Topic9\", \"Topic9\", \"Topic9\", \"Topic9\", \"Topic9\", \"Topic9\", \"Topic9\", \"Topic9\", \"Topic9\", \"Topic9\", \"Topic9\", \"Topic9\", \"Topic9\", \"Topic9\", \"Topic9\", \"Topic9\", \"Topic9\", \"Topic9\", \"Topic9\", \"Topic9\", \"Topic9\", \"Topic9\", \"Topic10\", \"Topic10\", \"Topic10\", \"Topic10\", \"Topic10\", \"Topic10\", \"Topic10\", \"Topic10\", \"Topic10\", \"Topic10\", \"Topic10\", \"Topic10\", \"Topic10\", \"Topic10\", \"Topic10\", \"Topic10\", \"Topic10\", \"Topic10\", \"Topic10\", \"Topic10\", \"Topic10\", \"Topic10\", \"Topic10\", \"Topic10\", \"Topic10\", \"Topic10\", \"Topic10\", \"Topic10\", \"Topic10\", \"Topic10\", \"Topic10\", \"Topic10\", \"Topic10\", \"Topic10\", \"Topic10\", \"Topic10\", \"Topic10\", \"Topic10\", \"Topic10\", \"Topic10\", \"Topic10\", \"Topic10\", \"Topic10\", \"Topic10\", \"Topic10\", \"Topic10\", \"Topic10\", \"Topic10\", \"Topic10\", \"Topic10\", \"Topic10\", \"Topic10\", \"Topic10\", \"Topic10\", \"Topic10\", \"Topic10\", \"Topic10\", \"Topic10\", \"Topic10\", \"Topic10\", \"Topic10\", \"Topic11\", \"Topic11\", \"Topic11\", \"Topic11\", \"Topic11\", \"Topic11\", \"Topic11\", \"Topic11\", \"Topic11\", \"Topic11\", \"Topic11\", \"Topic11\", \"Topic11\", \"Topic11\", \"Topic11\", \"Topic11\", \"Topic11\", \"Topic11\", \"Topic11\", \"Topic11\", \"Topic11\", \"Topic11\", \"Topic11\", \"Topic11\", \"Topic11\", \"Topic11\", \"Topic11\", \"Topic11\", \"Topic11\", \"Topic11\", \"Topic11\", \"Topic11\", \"Topic11\", \"Topic11\", \"Topic11\", \"Topic11\", \"Topic11\", \"Topic11\", \"Topic11\", \"Topic11\", \"Topic11\", \"Topic11\", \"Topic11\", \"Topic11\", \"Topic11\", \"Topic11\", \"Topic11\", \"Topic11\", \"Topic11\", \"Topic11\", \"Topic11\", \"Topic11\", \"Topic11\", \"Topic11\", \"Topic11\", \"Topic11\", \"Topic11\", \"Topic11\", \"Topic12\", \"Topic12\", \"Topic12\", \"Topic12\", \"Topic12\", \"Topic12\", \"Topic12\", \"Topic12\", \"Topic12\", \"Topic12\", \"Topic12\", \"Topic12\", \"Topic12\", \"Topic12\", \"Topic12\", \"Topic12\", \"Topic12\", \"Topic12\", \"Topic12\", \"Topic12\", \"Topic12\", \"Topic12\", \"Topic12\", \"Topic12\", \"Topic12\", \"Topic12\", \"Topic12\", \"Topic12\", \"Topic12\", \"Topic12\", \"Topic12\", \"Topic12\", \"Topic12\", \"Topic12\", \"Topic12\", \"Topic12\", \"Topic12\", \"Topic12\", \"Topic12\", \"Topic12\", \"Topic12\", \"Topic12\", \"Topic12\", \"Topic12\", \"Topic12\", \"Topic12\", \"Topic12\", \"Topic12\", \"Topic12\", \"Topic13\", \"Topic13\", \"Topic13\", \"Topic13\", \"Topic13\", \"Topic13\", \"Topic13\", \"Topic13\", \"Topic13\", \"Topic13\", \"Topic13\", \"Topic13\", \"Topic13\", \"Topic13\", \"Topic13\", \"Topic13\", \"Topic13\", \"Topic13\", \"Topic13\", \"Topic13\", \"Topic13\", \"Topic13\", \"Topic13\", \"Topic13\", \"Topic13\", \"Topic13\", \"Topic13\", \"Topic13\", \"Topic13\", \"Topic13\", \"Topic13\", \"Topic13\", \"Topic13\", \"Topic13\", \"Topic13\", \"Topic13\", \"Topic13\", \"Topic13\", \"Topic13\", \"Topic13\", \"Topic13\", \"Topic13\", \"Topic13\", \"Topic13\", \"Topic13\", \"Topic13\", \"Topic13\", \"Topic13\", \"Topic13\", \"Topic13\", \"Topic13\", \"Topic13\", \"Topic13\", \"Topic13\", \"Topic13\", \"Topic13\", \"Topic13\", \"Topic13\", \"Topic13\", \"Topic13\", \"Topic14\", \"Topic14\", \"Topic14\", \"Topic14\", \"Topic14\", \"Topic14\", \"Topic14\", \"Topic14\", \"Topic14\", \"Topic14\", \"Topic14\", \"Topic14\", \"Topic14\", \"Topic14\", \"Topic14\", \"Topic14\", \"Topic14\", \"Topic14\", \"Topic14\", \"Topic14\", \"Topic14\", \"Topic14\", \"Topic14\", \"Topic14\", \"Topic14\", \"Topic14\", \"Topic14\", \"Topic14\", \"Topic14\", \"Topic14\", \"Topic14\", \"Topic14\", \"Topic14\", \"Topic14\", \"Topic14\", \"Topic14\", \"Topic14\", \"Topic14\", \"Topic14\", \"Topic14\", \"Topic14\", \"Topic14\", \"Topic14\", \"Topic14\", \"Topic14\", \"Topic14\", \"Topic14\", \"Topic14\", \"Topic14\", \"Topic14\", \"Topic14\", \"Topic14\", \"Topic14\", \"Topic14\", \"Topic14\", \"Topic14\", \"Topic14\", \"Topic14\", \"Topic14\", \"Topic14\", \"Topic14\", \"Topic14\", \"Topic14\", \"Topic15\", \"Topic15\", \"Topic15\", \"Topic15\", \"Topic15\", \"Topic15\", \"Topic15\", \"Topic15\", \"Topic15\", \"Topic15\", \"Topic15\", \"Topic15\", \"Topic15\", \"Topic15\", \"Topic15\", \"Topic15\", \"Topic15\", \"Topic15\", \"Topic15\", \"Topic15\", \"Topic15\", \"Topic15\", \"Topic15\", \"Topic15\", \"Topic15\", \"Topic15\", \"Topic15\", \"Topic15\", \"Topic15\", \"Topic15\", \"Topic15\", \"Topic15\", \"Topic15\", \"Topic15\", \"Topic15\", \"Topic15\", \"Topic15\", \"Topic15\", \"Topic15\", \"Topic15\", \"Topic15\", \"Topic15\", \"Topic15\", \"Topic15\", \"Topic15\", \"Topic15\", \"Topic15\", \"Topic15\", \"Topic15\", \"Topic15\", \"Topic15\", \"Topic15\", \"Topic15\", \"Topic15\", \"Topic15\", \"Topic15\", \"Topic15\", \"Topic15\", \"Topic15\", \"Topic15\", \"Topic15\", \"Topic15\", \"Topic15\", \"Topic15\", \"Topic15\", \"Topic15\", \"Topic15\", \"Topic15\", \"Topic15\", \"Topic15\", \"Topic15\", \"Topic15\", \"Topic16\", \"Topic16\", \"Topic16\", \"Topic16\", \"Topic16\", \"Topic16\", \"Topic16\", \"Topic16\", \"Topic16\", \"Topic16\", \"Topic16\", \"Topic16\", \"Topic16\", \"Topic16\", \"Topic16\", \"Topic16\", \"Topic16\", \"Topic16\", \"Topic16\", \"Topic16\", \"Topic16\", \"Topic16\", \"Topic16\", \"Topic16\", \"Topic16\", \"Topic16\", \"Topic16\", \"Topic16\", \"Topic16\", \"Topic16\", \"Topic16\", \"Topic16\", \"Topic16\", \"Topic16\", \"Topic16\", \"Topic16\", \"Topic16\", \"Topic16\", \"Topic16\", \"Topic16\", \"Topic16\", \"Topic16\", \"Topic16\", \"Topic16\", \"Topic16\", \"Topic17\", \"Topic17\", \"Topic17\", \"Topic17\", \"Topic17\", \"Topic17\", \"Topic17\", \"Topic17\", \"Topic17\", \"Topic17\", \"Topic17\", \"Topic17\", \"Topic17\", \"Topic17\", \"Topic17\", \"Topic17\", \"Topic17\", \"Topic17\", \"Topic17\", \"Topic17\", \"Topic17\", \"Topic17\", \"Topic17\", \"Topic17\", \"Topic17\", \"Topic17\", \"Topic17\", \"Topic17\", \"Topic17\", \"Topic17\", \"Topic17\", \"Topic17\", \"Topic17\", \"Topic17\", \"Topic17\", \"Topic17\", \"Topic17\", \"Topic17\", \"Topic17\", \"Topic17\", \"Topic17\", \"Topic17\", \"Topic17\", \"Topic17\", \"Topic17\", \"Topic17\", \"Topic17\", \"Topic17\", \"Topic17\", \"Topic17\", \"Topic17\", \"Topic17\", \"Topic17\", \"Topic17\", \"Topic17\", \"Topic17\", \"Topic17\", \"Topic17\", \"Topic17\", \"Topic17\", \"Topic17\", \"Topic17\", \"Topic17\", \"Topic17\", \"Topic17\", \"Topic18\", \"Topic18\", \"Topic18\", \"Topic18\", \"Topic18\", \"Topic18\", \"Topic18\", \"Topic18\", \"Topic18\", \"Topic18\", \"Topic18\", \"Topic18\", \"Topic18\", \"Topic18\", \"Topic18\", \"Topic18\", \"Topic18\", \"Topic18\", \"Topic18\", \"Topic18\", \"Topic18\", \"Topic18\", \"Topic18\", \"Topic18\", \"Topic18\", \"Topic18\", \"Topic18\", \"Topic18\", \"Topic18\", \"Topic18\", \"Topic18\", \"Topic18\", \"Topic18\", \"Topic18\", \"Topic18\", \"Topic18\", \"Topic18\", \"Topic18\", \"Topic18\", \"Topic18\", \"Topic18\", \"Topic18\", \"Topic18\", \"Topic18\", \"Topic18\", \"Topic18\", \"Topic18\", \"Topic18\", \"Topic18\", \"Topic18\", \"Topic18\", \"Topic18\", \"Topic18\", \"Topic18\", \"Topic18\", \"Topic18\", \"Topic18\", \"Topic18\", \"Topic18\", \"Topic18\", \"Topic18\", \"Topic18\", \"Topic18\", \"Topic18\", \"Topic18\", \"Topic18\", \"Topic18\", \"Topic18\", \"Topic18\", \"Topic19\", \"Topic19\", \"Topic19\", \"Topic19\", \"Topic19\", \"Topic19\", \"Topic19\", \"Topic19\", \"Topic19\", \"Topic19\", \"Topic19\", \"Topic19\", \"Topic19\", \"Topic19\", \"Topic19\", \"Topic19\", \"Topic19\", \"Topic19\", \"Topic19\", \"Topic19\", \"Topic19\", \"Topic19\", \"Topic19\", \"Topic19\", \"Topic19\", \"Topic19\", \"Topic19\", \"Topic19\", \"Topic19\", \"Topic19\", \"Topic19\", \"Topic19\", \"Topic19\", \"Topic19\", \"Topic19\", \"Topic19\", \"Topic19\", \"Topic19\", \"Topic19\", \"Topic19\", \"Topic19\", \"Topic19\", \"Topic19\", \"Topic19\", \"Topic19\", \"Topic19\", \"Topic19\", \"Topic19\", \"Topic19\", \"Topic19\", \"Topic19\", \"Topic19\", \"Topic19\", \"Topic19\", \"Topic19\", \"Topic19\", \"Topic20\", \"Topic20\", \"Topic20\", \"Topic20\", \"Topic20\", \"Topic20\", \"Topic20\", \"Topic20\", \"Topic20\", \"Topic20\", \"Topic20\", \"Topic20\", \"Topic20\", \"Topic20\", \"Topic20\", \"Topic20\", \"Topic20\", \"Topic20\", \"Topic20\", \"Topic20\", \"Topic20\", \"Topic20\", \"Topic20\", \"Topic20\", \"Topic20\", \"Topic20\", \"Topic20\", \"Topic20\", \"Topic20\", \"Topic20\", \"Topic20\", \"Topic20\", \"Topic20\", \"Topic20\", \"Topic20\", \"Topic20\", \"Topic20\", \"Topic20\", \"Topic20\", \"Topic20\", \"Topic20\", \"Topic20\", \"Topic20\", \"Topic20\", \"Topic20\", \"Topic20\", \"Topic20\", \"Topic20\", \"Topic20\", \"Topic20\", \"Topic21\", \"Topic21\", \"Topic21\", \"Topic21\", \"Topic21\", \"Topic21\", \"Topic21\", \"Topic21\", \"Topic21\", \"Topic21\", \"Topic21\", \"Topic21\", \"Topic21\", \"Topic21\", \"Topic21\", \"Topic21\", \"Topic21\", \"Topic21\", \"Topic21\", \"Topic21\", \"Topic21\", \"Topic21\", \"Topic21\", \"Topic21\", \"Topic21\", \"Topic21\", \"Topic21\", \"Topic21\", \"Topic21\", \"Topic21\", \"Topic21\", \"Topic21\", \"Topic21\", \"Topic21\", \"Topic21\", \"Topic21\", \"Topic21\", \"Topic21\", \"Topic21\", \"Topic21\", \"Topic21\", \"Topic21\", \"Topic21\", \"Topic21\", \"Topic21\", \"Topic21\", \"Topic21\", \"Topic21\", \"Topic21\", \"Topic21\", \"Topic21\", \"Topic21\", \"Topic21\", \"Topic21\", \"Topic21\", \"Topic21\", \"Topic21\", \"Topic21\", \"Topic21\", \"Topic21\", \"Topic21\", \"Topic21\", \"Topic21\", \"Topic21\", \"Topic21\", \"Topic21\", \"Topic21\", \"Topic21\", \"Topic21\", \"Topic21\", \"Topic21\", \"Topic21\", \"Topic21\", \"Topic21\", \"Topic21\", \"Topic21\", \"Topic22\", \"Topic22\", \"Topic22\", \"Topic22\", \"Topic22\", \"Topic22\", \"Topic22\", \"Topic22\", \"Topic22\", \"Topic22\", \"Topic22\", \"Topic22\", \"Topic22\", \"Topic22\", \"Topic22\", \"Topic22\", \"Topic22\", \"Topic22\", \"Topic22\", \"Topic22\", \"Topic22\", \"Topic22\", \"Topic22\", \"Topic22\", \"Topic22\", \"Topic22\", \"Topic22\", \"Topic22\", \"Topic22\", \"Topic22\", \"Topic22\", \"Topic22\", \"Topic22\", \"Topic22\", \"Topic22\", \"Topic22\", \"Topic22\", \"Topic22\", \"Topic22\", \"Topic22\", \"Topic22\", \"Topic22\", \"Topic22\", \"Topic22\", \"Topic22\", \"Topic22\", \"Topic22\", \"Topic22\", \"Topic22\", \"Topic22\", \"Topic22\", \"Topic22\", \"Topic22\", \"Topic22\", \"Topic22\", \"Topic22\", \"Topic22\", \"Topic22\", \"Topic22\", \"Topic22\", \"Topic22\", \"Topic22\", \"Topic22\", \"Topic22\", \"Topic22\", \"Topic22\", \"Topic22\", \"Topic23\", \"Topic23\", \"Topic23\", \"Topic23\", \"Topic23\", \"Topic23\", \"Topic23\", \"Topic23\", \"Topic23\", \"Topic23\", \"Topic23\", \"Topic23\", \"Topic23\", \"Topic23\", \"Topic23\", \"Topic23\", \"Topic23\", \"Topic23\", \"Topic23\", \"Topic23\", \"Topic23\", \"Topic23\", \"Topic23\", \"Topic23\", \"Topic23\", \"Topic23\", \"Topic23\", \"Topic23\", \"Topic23\", \"Topic23\", \"Topic23\", \"Topic23\", \"Topic23\", \"Topic23\", \"Topic23\", \"Topic23\", \"Topic23\", \"Topic23\", \"Topic23\", \"Topic23\", \"Topic23\", \"Topic23\", \"Topic23\", \"Topic23\", \"Topic23\", \"Topic23\", \"Topic23\", \"Topic23\", \"Topic23\", \"Topic23\", \"Topic23\", \"Topic24\", \"Topic24\", \"Topic24\", \"Topic24\", \"Topic24\", \"Topic24\", \"Topic24\", \"Topic24\", \"Topic24\", \"Topic24\", \"Topic24\", \"Topic24\", \"Topic24\", \"Topic24\", \"Topic24\", \"Topic24\", \"Topic24\", \"Topic24\", \"Topic24\", \"Topic24\", \"Topic24\", \"Topic24\", \"Topic24\", \"Topic24\", \"Topic24\", \"Topic24\", \"Topic24\", \"Topic24\", \"Topic24\", \"Topic24\", \"Topic24\", \"Topic24\", \"Topic24\", \"Topic24\", \"Topic24\", \"Topic24\", \"Topic24\", \"Topic24\", \"Topic24\", \"Topic24\", \"Topic24\", \"Topic24\", \"Topic24\", \"Topic24\", \"Topic24\", \"Topic24\", \"Topic24\", \"Topic24\", \"Topic24\", \"Topic24\", \"Topic24\", \"Topic24\", \"Topic24\", \"Topic24\", \"Topic24\", \"Topic24\", \"Topic24\", \"Topic24\", \"Topic24\", \"Topic24\", \"Topic24\", \"Topic24\", \"Topic24\", \"Topic24\", \"Topic24\", \"Topic24\", \"Topic24\", \"Topic24\", \"Topic25\", \"Topic25\", \"Topic25\", \"Topic25\", \"Topic25\", \"Topic25\", \"Topic25\", \"Topic25\", \"Topic25\", \"Topic25\", \"Topic25\", \"Topic25\", \"Topic25\", \"Topic25\", \"Topic25\", \"Topic25\", \"Topic25\", \"Topic25\", \"Topic25\", \"Topic25\", \"Topic25\", \"Topic25\", \"Topic25\", \"Topic25\", \"Topic25\", \"Topic25\", \"Topic25\", \"Topic25\", \"Topic25\", \"Topic25\", \"Topic25\", \"Topic25\", \"Topic25\", \"Topic25\", \"Topic25\", \"Topic25\", \"Topic25\", \"Topic25\", \"Topic25\", \"Topic25\", \"Topic25\", \"Topic25\", \"Topic25\", \"Topic25\", \"Topic25\", \"Topic25\", \"Topic25\", \"Topic25\", \"Topic25\", \"Topic25\", \"Topic25\", \"Topic25\", \"Topic25\", \"Topic25\", \"Topic25\", \"Topic25\", \"Topic25\", \"Topic25\", \"Topic25\", \"Topic25\", \"Topic25\", \"Topic25\", \"Topic25\", \"Topic25\", \"Topic25\", \"Topic25\", \"Topic25\", \"Topic25\", \"Topic25\", \"Topic26\", \"Topic26\", \"Topic26\", \"Topic26\", \"Topic26\", \"Topic26\", \"Topic26\", \"Topic26\", \"Topic26\", \"Topic26\", \"Topic26\", \"Topic26\", \"Topic26\", \"Topic26\", \"Topic26\", \"Topic26\", \"Topic26\", \"Topic26\", \"Topic26\", \"Topic26\", \"Topic26\", \"Topic26\", \"Topic26\", \"Topic26\", \"Topic26\", \"Topic26\", \"Topic26\", \"Topic26\", \"Topic26\", \"Topic26\", \"Topic26\", \"Topic26\", \"Topic26\", \"Topic26\", \"Topic26\", \"Topic26\", \"Topic26\", \"Topic26\", \"Topic26\", \"Topic26\", \"Topic26\", \"Topic26\", \"Topic26\", \"Topic26\", \"Topic26\", \"Topic26\", \"Topic26\", \"Topic26\", \"Topic26\", \"Topic26\", \"Topic26\", \"Topic26\", \"Topic26\", \"Topic26\", \"Topic26\", \"Topic26\", \"Topic26\", \"Topic26\", \"Topic26\", \"Topic26\", \"Topic26\", \"Topic26\", \"Topic26\", \"Topic26\", \"Topic26\", \"Topic26\", \"Topic27\", \"Topic27\", \"Topic27\", \"Topic27\", \"Topic27\", \"Topic27\", \"Topic27\", \"Topic27\", \"Topic27\", \"Topic27\", \"Topic27\", \"Topic27\", \"Topic27\", \"Topic27\", \"Topic27\", \"Topic27\", \"Topic27\", \"Topic27\", \"Topic27\", \"Topic27\", \"Topic27\", \"Topic27\", \"Topic27\", \"Topic27\", \"Topic27\", \"Topic27\", \"Topic27\", \"Topic27\", \"Topic27\", \"Topic27\", \"Topic27\", \"Topic27\", \"Topic27\", \"Topic27\", \"Topic27\", \"Topic27\", \"Topic27\", \"Topic27\", \"Topic27\", \"Topic27\", \"Topic27\", \"Topic27\", \"Topic27\", \"Topic27\", \"Topic27\", \"Topic27\", \"Topic27\", \"Topic27\", \"Topic27\", \"Topic27\", \"Topic27\", \"Topic27\", \"Topic28\", \"Topic28\", \"Topic28\", \"Topic28\", \"Topic28\", \"Topic28\", \"Topic28\", \"Topic28\", \"Topic28\", \"Topic28\", \"Topic28\", \"Topic28\", \"Topic28\", \"Topic28\", \"Topic28\", \"Topic28\", \"Topic28\", \"Topic28\", \"Topic28\", \"Topic28\", \"Topic28\", \"Topic28\", \"Topic28\", \"Topic28\", \"Topic28\", \"Topic28\", \"Topic28\", \"Topic28\", \"Topic28\", \"Topic28\", \"Topic28\", \"Topic28\", \"Topic28\", \"Topic28\", \"Topic28\", \"Topic28\", \"Topic28\", \"Topic28\", \"Topic28\", \"Topic28\", \"Topic28\", \"Topic28\", \"Topic28\", \"Topic28\", \"Topic28\", \"Topic28\", \"Topic28\", \"Topic28\", \"Topic28\", \"Topic28\", \"Topic28\", \"Topic28\", \"Topic28\", \"Topic28\", \"Topic28\", \"Topic28\", \"Topic28\", \"Topic29\", \"Topic29\", \"Topic29\", \"Topic29\", \"Topic29\", \"Topic29\", \"Topic29\", \"Topic29\", \"Topic29\", \"Topic29\", \"Topic29\", \"Topic29\", \"Topic29\", \"Topic29\", \"Topic29\", \"Topic29\", \"Topic29\", \"Topic29\", \"Topic29\", \"Topic29\", \"Topic29\", \"Topic29\", \"Topic29\", \"Topic29\", \"Topic29\", \"Topic29\", \"Topic29\", \"Topic29\", \"Topic29\", \"Topic29\", \"Topic29\", \"Topic29\", \"Topic29\", \"Topic29\", \"Topic29\", \"Topic29\", \"Topic29\", \"Topic29\", \"Topic29\", \"Topic29\", \"Topic29\", \"Topic29\", \"Topic29\", \"Topic29\", \"Topic29\", \"Topic29\", \"Topic30\", \"Topic30\", \"Topic30\", \"Topic30\", \"Topic30\", \"Topic30\", \"Topic30\", \"Topic30\", \"Topic30\", \"Topic30\", \"Topic30\", \"Topic30\", \"Topic30\", \"Topic30\", \"Topic30\", \"Topic30\", \"Topic30\", \"Topic30\", \"Topic30\", \"Topic30\", \"Topic30\", \"Topic30\", \"Topic30\", \"Topic30\", \"Topic30\", \"Topic30\", \"Topic30\", \"Topic30\", \"Topic30\", \"Topic30\", \"Topic30\", \"Topic30\", \"Topic30\", \"Topic30\", \"Topic30\", \"Topic30\", \"Topic30\", \"Topic30\", \"Topic30\", \"Topic30\", \"Topic30\", \"Topic30\", \"Topic30\", \"Topic30\", \"Topic30\", \"Topic30\", \"Topic31\", \"Topic31\", \"Topic31\", \"Topic31\", \"Topic31\", \"Topic31\", \"Topic31\", \"Topic31\", \"Topic31\", \"Topic31\", \"Topic31\", \"Topic31\", \"Topic31\", \"Topic31\", \"Topic31\", \"Topic31\", \"Topic31\", \"Topic31\", \"Topic31\", \"Topic31\", \"Topic31\", \"Topic31\", \"Topic31\", \"Topic31\", \"Topic31\", \"Topic31\", \"Topic31\", \"Topic31\", \"Topic31\", \"Topic31\", \"Topic31\", \"Topic31\", \"Topic31\", \"Topic31\", \"Topic31\", \"Topic31\", \"Topic31\", \"Topic31\", \"Topic31\", \"Topic31\", \"Topic31\", \"Topic31\", \"Topic31\", \"Topic31\", \"Topic31\", \"Topic31\", \"Topic31\", \"Topic31\", \"Topic31\", \"Topic31\", \"Topic31\", \"Topic31\", \"Topic31\", \"Topic31\", \"Topic31\", \"Topic32\", \"Topic32\", \"Topic32\", \"Topic32\", \"Topic32\", \"Topic32\", \"Topic32\", \"Topic32\", \"Topic32\", \"Topic32\", \"Topic32\", \"Topic32\", \"Topic32\", \"Topic32\", \"Topic32\", \"Topic32\", \"Topic32\", \"Topic32\", \"Topic32\", \"Topic32\", \"Topic32\", \"Topic32\", \"Topic32\", \"Topic32\", \"Topic32\", \"Topic32\", \"Topic32\", \"Topic32\", \"Topic32\", \"Topic32\", \"Topic32\", \"Topic32\", \"Topic32\", \"Topic32\", \"Topic32\", \"Topic32\", \"Topic32\", \"Topic32\", \"Topic32\", \"Topic32\", \"Topic32\", \"Topic32\", \"Topic32\", \"Topic32\", \"Topic32\", \"Topic32\", \"Topic33\", \"Topic33\", \"Topic33\", \"Topic33\", \"Topic33\", \"Topic33\", \"Topic33\", \"Topic33\", \"Topic33\", \"Topic33\", \"Topic33\", \"Topic33\", \"Topic33\", \"Topic33\", \"Topic33\", \"Topic33\", \"Topic33\", \"Topic33\", \"Topic33\", \"Topic33\", \"Topic33\", \"Topic33\", \"Topic33\", \"Topic33\", \"Topic33\", \"Topic33\", \"Topic33\", \"Topic33\", \"Topic33\", \"Topic33\", \"Topic33\", \"Topic33\", \"Topic33\", \"Topic33\", \"Topic33\", \"Topic33\", \"Topic33\", \"Topic33\", \"Topic33\", \"Topic33\", \"Topic33\", \"Topic33\", \"Topic33\", \"Topic33\", \"Topic33\", \"Topic33\", \"Topic33\", \"Topic33\", \"Topic33\", \"Topic33\", \"Topic33\", \"Topic33\", \"Topic33\", \"Topic33\", \"Topic33\", \"Topic33\", \"Topic33\", \"Topic33\", \"Topic33\", \"Topic33\", \"Topic33\", \"Topic33\", \"Topic33\", \"Topic33\", \"Topic33\", \"Topic33\", \"Topic33\", \"Topic33\", \"Topic33\", \"Topic33\", \"Topic33\", \"Topic33\", \"Topic34\", \"Topic34\", \"Topic34\", \"Topic34\", \"Topic34\", \"Topic34\", \"Topic34\", \"Topic34\", \"Topic34\", \"Topic34\", \"Topic34\", \"Topic34\", \"Topic34\", \"Topic34\", \"Topic34\", \"Topic34\", \"Topic34\", \"Topic34\", \"Topic34\", \"Topic34\", \"Topic34\", \"Topic34\", \"Topic34\", \"Topic34\", \"Topic34\", \"Topic34\", \"Topic34\", \"Topic34\", \"Topic34\", \"Topic34\", \"Topic34\", \"Topic34\", \"Topic34\", \"Topic34\", \"Topic34\", \"Topic34\", \"Topic34\", \"Topic34\", \"Topic34\", \"Topic34\", \"Topic34\", \"Topic34\", \"Topic34\", \"Topic34\", \"Topic34\", \"Topic34\", \"Topic34\", \"Topic34\", \"Topic34\", \"Topic34\", \"Topic34\", \"Topic34\", \"Topic34\", \"Topic34\", \"Topic34\", \"Topic34\", \"Topic34\", \"Topic34\", \"Topic34\", \"Topic34\", \"Topic34\", \"Topic34\", \"Topic34\", \"Topic35\", \"Topic35\", \"Topic35\", \"Topic35\", \"Topic35\", \"Topic35\", \"Topic35\", \"Topic35\", \"Topic35\", \"Topic35\", \"Topic35\", \"Topic35\", \"Topic35\", \"Topic35\", \"Topic35\", \"Topic35\", \"Topic35\", \"Topic35\", \"Topic35\", \"Topic35\", \"Topic35\", \"Topic35\", \"Topic35\", \"Topic35\", \"Topic35\", \"Topic35\", \"Topic35\", \"Topic35\", \"Topic35\", \"Topic35\", \"Topic35\", \"Topic35\", \"Topic35\", \"Topic35\", \"Topic35\", \"Topic35\", \"Topic35\", \"Topic35\", \"Topic35\", \"Topic35\", \"Topic35\", \"Topic35\", \"Topic35\", \"Topic35\", \"Topic35\", \"Topic35\", \"Topic35\", \"Topic35\", \"Topic35\", \"Topic35\", \"Topic35\", \"Topic35\", \"Topic35\", \"Topic35\", \"Topic35\", \"Topic35\", \"Topic36\", \"Topic36\", \"Topic36\", \"Topic36\", \"Topic36\", \"Topic36\", \"Topic36\", \"Topic36\", \"Topic36\", \"Topic36\", \"Topic36\", \"Topic36\", \"Topic36\", \"Topic36\", \"Topic36\", \"Topic36\", \"Topic36\", \"Topic36\", \"Topic36\", \"Topic36\", \"Topic36\", \"Topic36\", \"Topic36\", \"Topic36\", \"Topic36\", \"Topic36\", \"Topic36\", \"Topic36\", \"Topic36\", \"Topic36\", \"Topic36\", \"Topic36\", \"Topic36\", \"Topic36\", \"Topic36\", \"Topic36\", \"Topic36\", \"Topic36\", \"Topic36\", \"Topic36\", \"Topic36\", \"Topic36\", \"Topic36\", \"Topic36\", \"Topic36\", \"Topic36\", \"Topic36\", \"Topic36\", \"Topic36\", \"Topic36\", \"Topic36\", \"Topic36\", \"Topic36\", \"Topic36\", \"Topic36\", \"Topic36\", \"Topic36\", \"Topic36\", \"Topic36\", \"Topic36\", \"Topic36\", \"Topic36\", \"Topic36\", \"Topic36\", \"Topic36\", \"Topic36\", \"Topic36\", \"Topic36\", \"Topic36\", \"Topic36\", \"Topic37\", \"Topic37\", \"Topic37\", \"Topic37\", \"Topic37\", \"Topic37\", \"Topic37\", \"Topic37\", \"Topic37\", \"Topic37\", \"Topic37\", \"Topic37\", \"Topic37\", \"Topic37\", \"Topic37\", \"Topic37\", \"Topic37\", \"Topic37\", \"Topic37\", \"Topic37\", \"Topic37\", \"Topic37\", \"Topic37\", \"Topic37\", \"Topic37\", \"Topic37\", \"Topic37\", \"Topic37\", \"Topic37\", \"Topic37\", \"Topic37\", \"Topic37\", \"Topic37\", \"Topic37\", \"Topic37\", \"Topic37\", \"Topic37\", \"Topic37\", \"Topic37\", \"Topic37\", \"Topic37\", \"Topic37\", \"Topic37\", \"Topic37\", \"Topic37\", \"Topic37\", \"Topic37\", \"Topic37\", \"Topic37\", \"Topic37\", \"Topic37\", \"Topic37\", \"Topic38\", \"Topic38\", \"Topic38\", \"Topic38\", \"Topic38\", \"Topic38\", \"Topic38\", \"Topic38\", \"Topic38\", \"Topic38\", \"Topic38\", \"Topic38\", \"Topic38\", \"Topic38\", \"Topic38\", \"Topic38\", \"Topic38\", \"Topic38\", \"Topic38\", \"Topic38\", \"Topic38\", \"Topic38\", \"Topic38\", \"Topic38\", \"Topic38\", \"Topic38\", \"Topic38\", \"Topic38\", \"Topic38\", \"Topic38\", \"Topic38\", \"Topic38\", \"Topic38\", \"Topic38\", \"Topic38\", \"Topic38\", \"Topic38\", \"Topic38\", \"Topic38\", \"Topic38\", \"Topic38\", \"Topic38\", \"Topic38\", \"Topic38\", \"Topic38\", \"Topic38\", \"Topic38\", \"Topic38\", \"Topic38\", \"Topic38\", \"Topic39\", \"Topic39\", \"Topic39\", \"Topic39\", \"Topic39\", \"Topic39\", \"Topic39\", \"Topic39\", \"Topic39\", \"Topic39\", \"Topic39\", \"Topic39\", \"Topic39\", \"Topic39\", \"Topic39\", \"Topic39\", \"Topic39\", \"Topic39\", \"Topic39\", \"Topic39\", \"Topic39\", \"Topic39\", \"Topic39\", \"Topic39\", \"Topic39\", \"Topic39\", \"Topic39\", \"Topic39\", \"Topic39\", \"Topic39\", \"Topic39\", \"Topic39\", \"Topic39\", \"Topic39\", \"Topic39\", \"Topic39\", \"Topic39\", \"Topic39\", \"Topic39\", \"Topic39\", \"Topic39\", \"Topic39\", \"Topic39\", \"Topic39\", \"Topic39\", \"Topic39\", \"Topic39\", \"Topic39\", \"Topic39\", \"Topic39\", \"Topic39\", \"Topic39\", \"Topic39\", \"Topic39\", \"Topic39\", \"Topic40\", \"Topic40\", \"Topic40\", \"Topic40\", \"Topic40\", \"Topic40\", \"Topic40\", \"Topic40\", \"Topic40\", \"Topic40\", \"Topic40\", \"Topic40\", \"Topic40\", \"Topic40\", \"Topic40\", \"Topic40\", \"Topic40\", \"Topic40\", \"Topic40\", \"Topic40\", \"Topic40\", \"Topic40\", \"Topic40\", \"Topic40\", \"Topic40\", \"Topic40\", \"Topic40\", \"Topic40\", \"Topic40\", \"Topic40\", \"Topic40\", \"Topic40\", \"Topic40\", \"Topic40\", \"Topic40\", \"Topic40\", \"Topic40\", \"Topic40\", \"Topic40\", \"Topic40\", \"Topic40\", \"Topic40\", \"Topic40\", \"Topic40\", \"Topic40\", \"Topic40\", \"Topic40\", \"Topic40\", \"Topic40\", \"Topic40\", \"Topic40\", \"Topic40\", \"Topic40\", \"Topic40\", \"Topic40\", \"Topic40\", \"Topic40\", \"Topic40\", \"Topic40\", \"Topic40\", \"Topic40\", \"Topic40\", \"Topic40\", \"Topic40\", \"Topic40\", \"Topic40\", \"Topic40\", \"Topic40\", \"Topic40\", \"Topic41\", \"Topic41\", \"Topic41\", \"Topic41\", \"Topic41\", \"Topic41\", \"Topic41\", \"Topic41\", \"Topic41\", \"Topic41\", \"Topic41\", \"Topic41\", \"Topic41\", \"Topic41\", \"Topic41\", \"Topic41\", \"Topic41\", \"Topic41\", \"Topic41\", \"Topic41\", \"Topic41\", \"Topic41\", \"Topic41\", \"Topic41\", \"Topic41\", \"Topic41\", \"Topic41\", \"Topic41\", \"Topic41\", \"Topic41\", \"Topic41\", \"Topic41\", \"Topic41\", \"Topic41\", \"Topic41\", \"Topic41\", \"Topic41\", \"Topic41\", \"Topic41\", \"Topic41\", \"Topic41\", \"Topic41\", \"Topic41\", \"Topic41\", \"Topic41\", \"Topic41\", \"Topic41\", \"Topic41\", \"Topic41\", \"Topic41\", \"Topic41\", \"Topic41\", \"Topic41\", \"Topic41\", \"Topic41\", \"Topic41\", \"Topic41\", \"Topic41\", \"Topic41\", \"Topic41\", \"Topic41\", \"Topic41\", \"Topic41\", \"Topic41\", \"Topic41\", \"Topic41\", \"Topic41\", \"Topic41\", \"Topic42\", \"Topic42\", \"Topic42\", \"Topic42\", \"Topic42\", \"Topic42\", \"Topic42\", \"Topic42\", \"Topic42\", \"Topic42\", \"Topic42\", \"Topic42\", \"Topic42\", \"Topic42\", \"Topic42\", \"Topic42\", \"Topic42\", \"Topic42\", \"Topic42\", \"Topic42\", \"Topic42\", \"Topic42\", \"Topic42\", \"Topic42\", \"Topic42\", \"Topic42\", \"Topic42\", \"Topic42\", \"Topic42\", \"Topic42\", \"Topic42\", \"Topic42\", \"Topic42\", \"Topic42\", \"Topic42\", \"Topic42\", \"Topic42\", \"Topic42\", \"Topic42\", \"Topic42\", \"Topic42\", \"Topic42\", \"Topic42\", \"Topic42\", \"Topic42\", \"Topic42\", \"Topic42\", \"Topic42\", \"Topic42\", \"Topic42\", \"Topic42\", \"Topic42\", \"Topic42\", \"Topic43\", \"Topic43\", \"Topic43\", \"Topic43\", \"Topic43\", \"Topic43\", \"Topic43\", \"Topic43\", \"Topic43\", \"Topic43\", \"Topic43\", \"Topic43\", \"Topic43\", \"Topic43\", \"Topic43\", \"Topic43\", \"Topic43\", \"Topic43\", \"Topic43\", \"Topic43\", \"Topic43\", \"Topic43\", \"Topic43\", \"Topic43\", \"Topic43\", \"Topic43\", \"Topic43\", \"Topic43\", \"Topic43\", \"Topic43\", \"Topic43\", \"Topic43\", \"Topic43\", \"Topic43\", \"Topic43\", \"Topic43\", \"Topic43\", \"Topic43\", \"Topic43\", \"Topic43\", \"Topic43\", \"Topic44\", \"Topic44\", \"Topic44\", \"Topic44\", \"Topic44\", \"Topic44\", \"Topic44\", \"Topic44\", \"Topic44\", \"Topic44\", \"Topic44\", \"Topic44\", \"Topic44\", \"Topic44\", \"Topic44\", \"Topic44\", \"Topic44\", \"Topic44\", \"Topic44\", \"Topic44\", \"Topic44\", \"Topic44\", \"Topic44\", \"Topic44\", \"Topic44\", \"Topic44\", \"Topic44\", \"Topic44\", \"Topic44\", \"Topic44\", \"Topic44\", \"Topic44\", \"Topic44\", \"Topic44\", \"Topic44\", \"Topic44\", \"Topic44\", \"Topic44\", \"Topic44\", \"Topic44\", \"Topic44\", \"Topic44\", \"Topic44\", \"Topic44\", \"Topic44\", \"Topic44\", \"Topic45\", \"Topic45\", \"Topic45\", \"Topic45\", \"Topic45\", \"Topic45\", \"Topic45\", \"Topic45\", \"Topic45\", \"Topic45\", \"Topic45\", \"Topic45\", \"Topic45\", \"Topic45\", \"Topic45\", \"Topic45\", \"Topic45\", \"Topic45\", \"Topic45\", \"Topic45\", \"Topic45\", \"Topic45\", \"Topic45\", \"Topic45\", \"Topic45\", \"Topic45\", \"Topic45\", \"Topic45\", \"Topic45\", \"Topic45\", \"Topic45\", \"Topic45\", \"Topic45\", \"Topic45\", \"Topic45\", \"Topic45\", \"Topic45\", \"Topic45\", \"Topic45\", \"Topic45\", \"Topic45\", \"Topic45\", \"Topic45\", \"Topic45\", \"Topic45\", \"Topic45\", \"Topic45\", \"Topic45\", \"Topic45\", \"Topic45\", \"Topic45\", \"Topic45\"], \"logprob\": [30.0, 29.0, 28.0, 27.0, 26.0, 25.0, 24.0, 23.0, 22.0, 21.0, 20.0, 19.0, 18.0, 17.0, 16.0, 15.0, 14.0, 13.0, 12.0, 11.0, 10.0, 9.0, 8.0, 7.0, 6.0, 5.0, 4.0, 3.0, 2.0, 1.0, -8.0532, -8.1727, -8.1717, -8.1754, -8.1526, -8.2174, -8.1112, -8.6231, -8.1752, -8.3021, -8.4374, -8.0502, -8.2262, -8.2173, -8.0656, -8.2367, -8.2445, -8.1004, -8.275, -8.2966, -8.3055, -8.2391, -8.269, -8.1983, -8.038, -8.2517, -8.4785, -8.0349, -8.4619, -8.2491, -8.1502, -8.0685, -8.0206, -7.0916, -7.0906, -7.1247, -6.9463, -7.1381, -7.1695, -7.1605, -7.1655, -7.1589, -7.9821, -8.0773, -8.0412, -8.0487, -8.0661, -8.0995, -8.1274, -8.1073, -8.1331, -8.1495, -8.1451, -8.1449, -8.1467, -8.4438, -8.5425, -8.8137, -8.7468, -8.123, -8.607, -8.0429, -8.938, -8.5958, -8.542, -8.6441, -8.8467, -8.4434, -8.4211, -8.6428, -8.4464, -8.3072, -8.2163, -8.2483, -8.2909, -8.2472, -8.6598, -9.0273, -8.5917, -8.6405, -8.8374, -8.1471, -8.9313, -8.692, -9.0684, -8.2038, -8.0809, -8.2098, -8.3091, -8.083, -8.1743, -8.1786, -8.1919, -8.186, -7.9278, -7.956, -8.1687, -6.9748, -7.4889, -7.4991, -7.9128, -7.518, -7.9741, -7.9556, -7.9218, -7.8277, -7.9573, -7.9553, -7.8284, -7.9453, -7.9691, -7.8537, -7.9684, -7.9721, -7.9477, -7.9763, -7.9681, -7.9678, -8.0199, -7.9967, -7.9567, -7.8046, -7.8127, -7.8405, -7.8911, -7.8686, -7.8946, -7.976, -8.7624, -8.5156, -8.4481, -8.7355, -8.897, -8.9748, -8.7552, -8.8219, -8.9255, -8.4246, -8.493, -9.0251, -8.5621, -8.5562, -8.3782, -8.8164, -8.7334, -8.8389, -8.865, -8.4202, -9.1299, -8.7515, -8.7318, -8.5109, -8.467, -8.9003, -8.9228, -9.1585, -8.7267, -8.4408, -8.7888, -8.4856, -8.706, -8.7148, -8.6215, -8.3713, -8.7434, -8.4817, -8.243, -8.0253, -8.5095, -7.4018, -7.4208, -7.4271, -8.021, -8.0375, -8.03, -8.4722, -8.4484, -8.1367, -8.2493, -8.212, -8.2883, -7.8925, -7.9272, -7.9535, -7.8684, -8.0526, -7.952, -7.9754, -7.9715, -8.079, -7.9674, -7.9817, -8.1505, -8.3348, -8.336, -8.32, -8.3747, -8.3505, -8.5774, -8.9585, -8.6987, -9.0345, -9.0418, -8.8603, -8.9354, -8.8793, -9.014, -8.5626, -8.9014, -9.0081, -8.6431, -9.0776, -8.8232, -9.0078, -8.9709, -9.011, -8.8897, -9.123, -8.9229, -8.6895, -8.9031, -9.2428, -8.7829, -8.8355, -9.0513, -8.91, -8.742, -9.0285, -8.8939, -8.7993, -8.7761, -8.8014, -8.119, -8.0126, -8.691, -8.1713, -8.1857, -8.251, -8.631, -8.0293, -8.2257, -8.0601, -8.193, -8.103, -8.1958, -8.0877, -8.3147, -8.3211, -8.1049, -8.2784, -8.3391, -8.1917, -8.2478, -8.2198, -8.2213, -8.2265, -8.2021, -8.3053, -8.2436, -8.2614, -8.2555, -8.3276, -8.2769, -8.2737, -7.8164, -7.9565, -7.9966, -7.9993, -8.2713, -8.8534, -8.8813, -8.7502, -8.9593, -8.6913, -8.6615, -8.868, -8.75, -9.0153, -8.9372, -8.8751, -8.5621, -9.0379, -9.2031, -9.0081, -8.7674, -8.7642, -9.0892, -9.2244, -8.9661, -8.9955, -8.9451, -8.8657, -8.7813, -8.9763, -8.8731, -8.8113, -9.0355, -9.2512, -9.157, -9.0105, -8.3538, -8.4793, -8.3832, -8.3148, -8.4618, -8.5128, -8.4704, -8.3714, -8.4528, -8.7937, -8.7134, -7.9881, -8.5219, -8.53, -8.4812, -8.5108, -8.7204, -8.5796, -8.3339, -8.3317, -7.7126, -7.9524, -7.9625, -7.9657, -7.9718, -7.9737, -7.9831, -7.9701, -7.9829, -8.2127, -8.4336, -8.3938, -8.4866, -8.3864, -8.4064, -8.4112, -8.4781, -8.4736, -8.4161, -8.7943, -8.8023, -8.7805, -9.0026, -7.8198, -8.594, -7.7694, -8.9674, -8.9259, -8.9951, -8.6442, -8.7648, -8.9212, -7.919, -8.7138, -8.6803, -7.9201, -7.7989, -9.047, -7.9205, -8.9341, -9.3328, -8.8888, -8.6637, -7.8826, -8.8302, -8.601, -7.8822, -8.7998, -7.8409, -7.8644, -7.9245, -7.8813, -7.8722, -7.9085, -7.9207, -7.9314, -7.941, -7.9211, -7.8758, -7.8324, -7.9184, -7.9519, -7.8352, -7.8475, -7.8721, -7.825, -7.8343, -7.8318, -7.8687, -7.8802, -7.8361, -7.8316, -7.8425, -7.8659, -7.8785, -7.853, -7.8578, -7.8912, -7.7693, -7.7888, -7.8028, -8.2409, -8.12, -8.2092, -8.1058, -8.2504, -8.236, -8.4675, -8.2529, -8.4626, -8.3759, -8.5386, -8.4194, -8.3132, -8.4689, -8.2416, -8.6127, -8.5179, -8.5396, -8.258, -8.4898, -8.4526, -8.439, -8.2249, -8.6127, -8.5035, -8.5443, -8.5021, -8.6636, -8.685, -8.9936, -8.5511, -8.4292, -7.7398, -7.8205, -7.8741, -7.8468, -7.9156, -7.9347, -7.9329, -7.9178, -7.9075, -7.9105, -7.9384, -7.9312, -7.9343, -7.998, -7.9162, -7.9092, -7.9294, -8.0915, -7.7123, -7.7187, -7.7479, -7.7567, -7.7658, -7.761, -7.7975, -7.83, -7.827, -7.8873, -7.7993, -7.9141, -7.9258, -8.5513, -8.7794, -9.0221, -8.6701, -8.7476, -8.5535, -8.6735, -9.0099, -8.627, -8.7831, -8.7573, -9.1805, -8.6, -9.1821, -9.1998, -9.0879, -9.2465, -8.8307, -8.9742, -8.8934, -9.0047, -8.5048, -9.0255, -9.1751, -8.7803, -9.0452, -9.1618, -8.9894, -9.0875, -9.0235, -8.9359, -8.67, -8.6949, -8.5301, -8.6889, -8.5307, -8.7822, -8.4978, -8.7387, -8.2979, -8.8204, -8.5067, -8.4144, -8.783, -8.4053, -7.5126, -8.6715, -7.6084, -7.6201, -8.4976, -8.4176, -8.3459, -8.424, -8.485, -8.5049, -8.0005, -8.5211, -8.3882, -8.4087, -8.3289, -8.4238, -8.5668, -8.4791, -8.4931, -8.5049, -8.5016, -8.4134, -8.5019, -8.5025, -8.4792, -8.5154, -8.7214, -8.4471, -8.6831, -8.3878, -8.7738, -8.7157, -8.436, -8.8294, -8.6303, -8.9257, -8.8508, -8.8664, -8.7424, -8.4574, -8.8538, -8.4543, -8.495, -8.4416, -8.9172, -8.3944, -8.8147, -8.8547, -8.6644, -8.9566, -8.8765, -8.6655, -8.8373, -8.7268, -8.7724, -8.8557, -8.655, -8.3468, -8.6035, -8.6904, -8.478, -8.4859, -8.473, -8.6976, -8.5416, -8.6925, -8.7066, -8.6341, -8.4683, -8.4828, -7.6108, -8.5619, -8.4768, -8.5447, -7.9597, -7.9802, -8.0036, -8.5573, -8.3582, -8.5919, -8.5766, -8.2225, -8.6125, -8.5735, -8.6052, -8.3242, -8.2921, -8.909, -9.0615, -8.8516, -8.3935, -8.2127, -9.1914, -8.8629, -9.2743, -9.0079, -8.1794, -8.8762, -8.7773, -9.0285, -8.6558, -8.3407, -9.1133, -8.7652, -8.9676, -8.6529, -9.0315, -7.7881, -9.0265, -8.5052, -8.3161, -8.8748, -9.0242, -9.1504, -8.858, -9.0885, -9.0566, -8.4175, -8.1504, -8.8489, -7.8635, -8.7598, -8.4545, -8.0092, -8.0251, -8.4978, -8.0739, -8.0526, -8.0797, -8.0843, -8.0734, -7.51, -8.409, -8.2671, -8.1884, -8.4889, -8.1108, -8.4904, -8.1244, -8.1503, -8.2066, -8.2215, -8.2454, -8.2422, -8.249, -8.3926, -8.3036, -8.4637, -8.43, -8.351, -8.7265, -8.7593, -8.4761, -8.4727, -8.5009, -8.8807, -8.6863, -8.4267, -8.6715, -8.3842, -8.6584, -8.8155, -8.6395, -8.5378, -8.5895, -8.6932, -8.653, -8.7339, -9.0639, -8.7122, -8.8201, -8.6768, -8.6186, -8.6269, -8.3812, -8.5887, -8.5239, -8.5, -8.4082, -8.1894, -8.4363, -8.5395, -8.4914, -8.3459, -8.5278, -8.4698, -8.4619, -8.4217, -8.5182, -7.699, -8.467, -7.8421, -7.8434, -7.8392, -7.9649, -7.9646, -7.9701, -8.0345, -8.0848, -8.0884, -8.0953, -8.1005, -8.1197, -8.4156, -8.0961, -7.3716, -8.1663, -8.1916, -7.348, -8.2014, -8.1339, -8.4666, -8.1641, -7.383, -7.3474, -7.364, -7.3696, -8.1783, -8.3326, -8.075, -7.3318, -7.3487, -7.3448, -7.36, -8.1805, -7.3696, -7.3699, -8.1549, -7.3091, -7.3297, -8.2035, -8.5131, -8.4697, -8.3347, -7.3414, -7.3261, -7.9504, -7.865, -7.8316, -7.9483, -6.9177, -6.9275, -6.9653, -6.9745, -6.9591, -6.9811, -6.9842, -6.982, -6.9845, -7.8116, -7.8925, -7.8992, -7.7327, -8.3487, -8.6877, -8.2972, -8.3742, -8.393, -8.3802, -8.5817, -8.7312, -8.5511, -8.4765, -8.4853, -8.5604, -8.9487, -8.7909, -8.6806, -8.6834, -8.8155, -8.5746, -8.7466, -8.9763, -8.4625, -8.8115, -8.8675, -8.7684, -8.8463, -9.0295, -8.8123, -8.7251, -8.5095, -8.7506, -8.4614, -8.5199, -8.043, -8.0256, -8.5962, -8.0226, -8.0218, -8.0438, -8.2459, -8.4946, -8.5477, -8.4766, -8.38, -8.3921, -8.4818, -8.4244, -8.4024, -8.4301, -7.8764, -8.3857, -8.3352, -8.3718, -8.4176, -8.4098, -8.4127, -8.4056, -8.3049, -8.3126, -8.3346, -8.4421, -8.6948, -8.8612, -8.8227, -8.9071, -8.8118, -8.6216, -8.7735, -9.0236, -8.7209, -8.9235, -8.9754, -8.7567, -8.8234, -8.6696, -9.0859, -9.0162, -8.8035, -8.6504, -8.8148, -9.0459, -8.9655, -9.0969, -8.6551, -8.6773, -8.8253, -9.0337, -9.0987, -9.071, -9.0837, -9.1945, -9.0659, -8.6974, -8.7968, -8.6542, -8.7431, -8.7071, -8.7929, -8.7381, -8.7167, -8.7406, -8.7504, -8.6558, -8.7754, -8.3561, -8.2685, -8.3532, -8.4017, -8.7332, -8.7665, -8.4625, -8.5616, -8.5685, -8.5674, -8.2091, -8.5997, -8.6123, -8.608, -8.4713, -8.5744, -8.6822, -8.6835, -8.6988, -8.7275, -8.8096, -8.7244, -9.1253, -8.9996, -9.0096, -8.8513, -8.7088, -9.021, -8.9436, -8.7839, -8.9209, -9.0093, -8.9156, -8.799, -9.0933, -8.9745, -9.1922, -9.2057, -8.9088, -9.0612, -9.1086, -9.028, -8.8197, -9.0639, -8.6934, -8.8304, -8.8913, -8.8748, -8.9643, -8.885, -8.3663, -8.9496, -8.6268, -8.956, -8.667, -8.6724, -8.8537, -8.7885, -8.7089, -8.7387, -8.6578, -8.7134, -8.7575, -8.6847, -8.7106, -8.6747, -8.6475, -8.7209, -7.9732, -8.6965, -7.9415, -8.0711, -8.7408, -8.7283, -8.1217, -8.1226, -8.1501, -8.1478, -8.1655, -8.1503, -8.1299, -8.5492, -8.5461, -8.5806, -8.6135, -8.6683, -8.6586, -8.6627, -8.6717, -8.677, -8.6867, -8.6931, -7.5648, -8.0452, -8.0129, -7.9857, -7.9992, -8.0393, -7.5608, -7.5366, -7.5629, -8.0063, -7.992, -7.6534, -7.6362, -7.6465, -7.605, -7.6523, -7.6547, -7.616, -7.6516, -7.6497, -7.6512, -8.8336, -7.9808, -7.6573, -7.966, -8.9311, -7.6564, -8.0248, -8.9575, -7.8992, -7.915, -7.945, -7.5995, -7.6082, -7.5253, -7.5421, -7.57, -7.9565, -7.775, -7.8431, -7.8557, -7.8641, -7.8673, -7.8801, -7.9382, -8.1555, -8.6821, -8.5247, -8.8381, -8.1119, -8.9398, -8.7432, -8.6649, -8.8039, -8.4481, -9.1457, -8.9322, -8.7769, -8.5118, -8.7263, -8.8777, -8.6778, -8.7523, -8.764, -9.0272, -8.6927, -9.0251, -8.727, -9.1348, -9.144, -9.3355, -8.8458, -8.8265, -8.8811, -8.73, -8.6416, -8.6358, -8.8054, -8.6625, -8.7601, -8.5965, -8.7019, -8.671, -8.7196, -8.7539, -8.7213, -8.7228, -8.6601, -8.1145, -8.2543, -8.2569, -8.2742, -8.5679, -8.3301, -8.2846, -8.3355, -8.3434, -8.3557, -8.3607, -8.3767, -8.375, -8.592, -8.616, -8.5698, -8.6046, -8.5477, -8.6238, -8.6454, -8.6566, -8.6595, -8.6357, -8.7493, -8.7196, -9.1186, -8.7524, -8.9512, -8.9609, -9.0051, -8.9807, -8.9566, -8.9252, -8.9702, -8.8984, -8.925, -9.2597, -8.841, -8.9606, -8.9885, -9.1663, -9.0846, -8.9874, -8.9518, -9.109, -9.0355, -9.2702, -8.9306, -9.0576, -8.9535, -9.1876, -8.9427, -9.0378, -8.8891, -8.6766, -8.872, -8.8226, -8.8922, -8.697, -8.7161, -8.8571, -8.6987, -8.2444, -8.7774, -8.7493, -8.3079, -8.6341, -8.8318, -8.3859, -8.463, -8.5638, -8.3555, -8.2657, -8.4266, -8.3242, -8.7372, -8.3432, -8.7747, -8.4898, -8.5527, -8.498, -8.5499, -8.5509, -8.5325, -8.6231, -8.631, -8.647, -8.6573, -8.668, -8.6678, -8.6922, -8.4522, -8.5879, -8.8747, -8.856, -8.2226, -8.6852, -8.0677, -9.1301, -9.0255, -8.73, -8.68, -7.9771, -8.516, -8.6783, -8.9059, -8.759, -7.937, -8.981, -8.817, -8.237, -8.9279, -8.7759, -8.9953, -8.6791, -8.7503, -8.8414, -8.646, -8.9643, -8.9327, -8.7289, -8.3696, -8.335, -8.2395, -8.3207, -8.2612, -8.2939, -8.3518, -8.3474, -8.3822, -8.387, -8.3806, -8.4024, -8.6455, -8.6141, -7.6637, -8.6302, -7.7062, -7.6007, -7.7167, -7.7509, -7.7743, -7.8096, -7.8083, -7.8086, -8.4289, -8.4495, -8.0016, -8.0047, -7.9708, -7.9982, -7.9579, -8.081, -8.8558, -8.6449, -8.9979, -7.999, -7.9335, -8.0157, -8.0103, -7.9562, -8.7161, -8.6424, -7.9426, -7.9623, -8.0047, -8.013, -7.9976, -8.7812, -7.9465, -8.019, -7.7709, -8.246, -7.7105, -8.7724, -7.7968, -8.8586, -8.2131, -7.8187, -7.7955, -7.8268, -7.8155, -7.88, -7.8164, -7.8245, -7.704, -7.9192, -7.7237, -7.646, -7.6453, -7.8281, -7.7176, -7.9228, -7.9351, -7.9321, -7.9436, -7.9376, -8.724, -8.9146, -8.7507, -8.7684, -8.903, -8.8684, -8.6422, -8.5171, -8.6264, -8.8573, -8.7852, -8.7914, -8.7651, -8.8745, -8.8293, -8.8877, -8.8662, -9.1485, -8.7874, -8.9276, -8.7682, -8.9176, -8.1898, -8.8826, -9.1415, -8.874, -8.9959, -8.811, -8.8792, -8.9365, -8.7118, -8.8387, -8.379, -8.5656, -8.6141, -8.345, -8.3543, -8.2816, -8.209, -8.3514, -8.312, -8.2981, -8.5485, -8.4072, -8.481, -8.3958, -8.4742, -8.5513, -8.4727, -8.4024, -8.4501, -8.4396, -8.457, -8.4615, -8.4363, -8.3675, -8.0562, -8.4405, -8.4346, -7.8366, -8.3864, -8.2183, -8.4581, -8.2445, -8.2545, -8.2718, -8.3875, -8.4042, -8.4151, -8.415, -8.3821, -8.4253, -8.4276, -8.3886, -8.4041, -8.4292, -8.6009, -8.7111, -9.1073, -9.0066, -8.7528, -9.0587, -8.6708, -8.7929, -8.717, -8.924, -8.4973, -8.9139, -9.0567, -8.7361, -9.056, -8.7776, -8.8957, -8.9115, -9.0407, -9.0566, -9.1057, -8.9697, -9.0909, -8.7105, -8.9288, -8.8686, -8.7295, -9.0284, -9.0397, -9.0544, -8.955, -8.5704, -8.7077, -8.9355, -8.3913, -8.8968, -8.4312, -8.4114, -8.6787, -8.5829, -8.5072, -8.476, -8.582, -8.517, -8.4988, -8.7127, -8.5904, -8.5848, -8.5638, -8.5317, -8.7216, -7.8805, -8.0042, -8.0101, -8.0058, -8.0239, -8.0286, -8.0312, -8.0211, -8.0445, -8.3812, -8.47, -8.4237, -8.465, -8.476, -8.5252, -8.5748, -8.8165, -8.8949, -8.6425, -8.8998, -8.5715, -8.5395, -8.7292, -8.6099, -8.9592, -9.0466, -8.5192, -8.5005, -9.1076, -8.7062, -9.0074, -8.4765, -8.6845, -9.0272, -8.588, -9.0421, -8.6315, -8.5608, -8.9259, -8.9367, -8.5319, -9.0507, -8.7966, -8.6535, -9.0844, -8.4746, -8.4439, -8.6078, -8.5764, -8.5313, -8.6149, -8.5301, -8.5685, -8.5442, -8.4879, -8.6744, -8.4903, -8.5863, -8.679, -8.5937, -8.2349, -8.6086, -8.4738, -8.6211, -8.6253, -8.6314, -8.6134, -8.4651, -8.6422, -8.728, -8.7959, -8.6592, -8.7707, -8.9983, -8.8966, -8.8903, -9.1173, -8.8829, -8.6766, -8.951, -8.8146, -9.0353, -9.0725, -9.0064, -8.7936, -8.6657, -9.0301, -8.9826, -8.8219, -9.0468, -8.8474, -8.8316, -8.9064, -8.8995, -8.7647, -9.0855, -9.2023, -8.7217, -8.7574, -8.7833, -8.7545, -8.5812, -8.8377, -8.7699, -8.7617, -8.2112, -8.1135, -8.5942, -8.3831, -8.347, -7.9, -7.9676, -7.9756, -8.367, -8.3593, -8.5063, -8.2591, -8.3033, -8.4873, -8.1188, -8.1898, -8.2104, -8.2207, -8.4736, -8.2296, -8.385, -8.2715, -8.2904, -8.3008, -8.3089, -8.4965, -8.5077, -8.5024, -8.4984, -8.463, -8.512, -8.997, -8.4753, -8.8987, -9.1328, -8.9437, -8.6777, -8.8038, -8.6201, -8.9888, -8.9178, -8.5502, -9.2624, -8.9284, -8.9332, -8.8323, -8.948, -8.6408, -8.8688, -8.9353, -8.9114, -8.9548, -8.7501, -9.1928, -9.1089, -9.1068, -9.1035, -8.9188, -9.2766, -9.1387, -9.0114, -8.8989, -9.0491, -8.8317, -8.1336, -8.0252, -8.2276, -8.1677, -8.0588, -8.0267, -8.2321, -8.2307, -8.1265, -8.2891, -8.29, -8.0929, -8.0706, -8.2235, -8.3015, -8.2602, -8.2646, -8.1641, -8.1343, -8.1439, -8.2947, -8.2914, -8.2774, -8.3005, -8.2963, -7.8752, -8.2781, -8.2853, -8.021, -8.0671, -8.281, -8.2872, -8.2844, -8.2895, -8.2914, -8.78, -8.7239, -9.0845, -8.9038, -8.7399, -8.7971, -9.081, -9.075, -8.978, -8.8454, -8.8411, -8.9234, -8.9888, -8.8056, -8.8928, -9.0181, -8.8885, -8.9609, -8.8136, -8.7527, -8.8571, -9.0731, -8.5977, -8.8731, -8.9973, -8.851, -9.0726, -9.079, -8.8868, -9.1689, -8.6588, -8.6971, -8.9769, -8.6038, -8.855, -8.6696, -8.7556, -8.812, -8.8483, -8.6064, -8.8811, -8.8002, -8.6968, -8.8018, -8.7011, -8.392, -8.7931, -8.7433, -8.5996, -8.7892, -8.6283, -8.804, -8.4607, -8.5177, -8.5235, -8.5598, -8.6434, -8.7653, -8.7808, -8.7555, -8.7294, -8.7388, -8.7492, -8.7502, -8.7707, -8.7781, -8.4544, -9.0052, -8.5438, -9.1225, -8.7776, -8.6905, -8.8471, -8.8863, -8.8902, -8.8384, -8.6874, -8.9977, -8.6528, -8.7318, -8.8592, -9.23, -9.0283, -8.7824, -8.6931, -8.8951, -8.6424, -8.7904, -8.9816, -8.6726, -9.1284, -8.9864, -8.7541, -8.6881, -8.7676, -8.7344, -8.7949, -8.7256, -8.8411, -8.7351, -8.6806, -8.563, -8.7247, -8.7879, -8.7072, -8.7588, -8.6969, -8.7984, -8.6889, -8.7564, -8.5047, -8.7783, -8.558, -8.7356, -8.7413, -8.7345, -8.7442, -8.7629, -8.3804, -8.54, -8.3471, -8.9214, -8.6561, -8.5775, -8.6154, -8.331, -8.8403, -8.446, -8.4573, -8.9848, -8.4968, -8.9018, -8.8267, -8.7842, -8.6483, -8.8805, -8.4958, -8.8039, -8.5323, -9.0759, -8.4197, -8.3386, -8.7816, -8.549, -9.1451, -8.8606, -9.1536, -8.7258, -8.4723, -8.4989, -8.5484, -8.7209, -8.5028, -8.516, -8.5292, -8.723, -8.4004, -8.0466, -8.4881, -8.5528, -8.2539, -8.2947, -8.4263, -8.4819, -8.4371, -8.4513, -8.2982, -8.3569, -8.3982, -8.4238, -8.4912, -8.4573, -8.4587, -8.4973, -8.5076, -7.9602, -7.8262, -7.8752, -8.002, -8.1424, -8.5191, -8.4151, -8.9367, -8.62, -8.607, -8.6327, -8.6166, -8.6038, -8.9678, -8.6008, -8.6531, -8.3995, -8.5942, -8.5575, -8.323, -8.9557, -8.7392, -8.6673, -8.1491, -8.6142, -8.84, -8.1075, -8.5543, -8.8546, -8.9286, -7.5388, -8.2039, -7.5649, -7.5515, -8.4154, -8.6464, -8.6275, -8.5841, -8.3446, -8.5035, -8.4039, -8.408, -8.2716, -8.2758, -8.2805, -8.6062, -8.7034, -8.7132, -9.0423, -8.9054, -8.557, -8.8887, -8.9812, -8.8912, -8.7107, -8.8618, -8.7582, -8.8497, -8.9242, -8.696, -8.8334, -8.8434, -8.8581, -8.9175, -8.6427, -9.1954, -8.8409, -8.8654, -9.1086, -8.7681, -9.2605, -8.7157, -9.032, -9.1162, -8.8407, -8.982, -8.7105, -8.8259, -8.7855, -8.7511, -8.858, -8.826, -8.8125, -8.7129, -8.7384, -8.7805, -8.6821, -8.8264, -8.854, -8.7398, -8.8525, -8.8527, -8.5482, -8.4559, -8.6948, -8.8346, -8.5942, -8.5411, -8.3632, -8.4312, -8.6658, -8.5634, -8.4149, -8.9996, -8.5055, -8.4009, -8.6461, -8.6718, -8.6194, -8.6809, -8.5429, -8.5951, -8.5844, -8.5687, -8.5968, -8.5745, -9.0014, -9.0735, -8.8918, -8.6421, -8.6761, -8.6282, -8.5177, -8.5912, -8.699, -8.611, -8.5494, -8.5401, -8.4769, -8.5588, -8.4799, -8.5497, -8.2244, -8.3606, -8.5873, -8.1834, -8.1445, -8.2014, -8.2137, -8.217, -8.231, -8.2857, -8.3044, -8.3089, -8.5046, -8.5206, -8.5401, -8.0164, -7.9832, -7.9913, -8.0022, -8.0211, -7.9868, -8.0017, -7.9306, -7.9941, -7.933, -7.9642, -7.9565, -7.9211, -8.3871, -8.0398, -8.5366, -8.4766, -8.7964, -8.5789, -7.9526, -8.5462, -8.4389, -8.5987, -8.0388, -8.7484, -8.7148, -9.0126, -8.6826, -8.7252, -8.8406, -8.7262, -8.5247, -7.5816, -7.5829, -7.6008, -7.6185, -7.6268, -7.6127, -7.6219, -7.6444, -7.6345, -8.2154, -8.224, -8.1707, -8.2303, -8.2237, -8.5069, -8.5879, -8.7505, -8.6139, -8.5445, -8.506, -8.6753, -8.3711, -8.669, -8.377, -8.5827, -8.4246, -8.7094, -8.6312, -8.8563, -8.2238, -8.449, -8.6604, -8.5095, -8.7534, -8.8727, -8.362, -8.7259, -8.463, -8.7174, -8.5759, -8.3192, -8.9324, -8.9027, -8.979, -8.2655, -8.6083, -8.3518, -8.4576, -8.4591, -8.3911, -8.3179, -8.3453, -8.3762, -8.3619, -8.4436, -8.3992, -7.9869, -8.4127, -8.4526, -8.4346, -8.1061, -7.7882, -7.7989, -8.1044, -7.8353, -7.8452, -7.8458, -7.8457, -7.8596, -7.8527, -7.8592, -8.149, -8.1352, -8.1585, -8.2212, -8.1454, -8.1351, -8.1741, -8.1963, -8.226, -8.226, -8.2355, -8.2405, -8.2334, -8.2362, -8.2916, -8.8425, -8.7857, -8.9098, -8.9741, -8.8817, -8.8618, -8.8074, -8.8333, -8.8697, -8.5738, -8.9842, -8.9999, -9.0088, -8.7826, -8.7184, -9.1354, -8.9604, -8.7719, -9.0572, -8.7027, -9.1848, -8.7397, -8.8342, -9.0003, -8.905, -9.4577, -8.8289, -9.3187, -9.085, -9.0521, -8.6542, -8.4953, -8.9871, -8.9161, -8.3818, -8.6754, -8.6207, -8.5953, -8.7696, -8.6652, -8.7074, -8.6482, -8.8109, -8.638, -8.8408, -8.6273, -8.6832, -8.7508, -8.6796, -8.7606, -8.7401, -8.6901, -8.5229, -8.527, -8.7135, -8.6025, -8.7119, -8.4735, -8.7347, -8.5903, -8.7207, -8.7323, -8.7494, -8.6045, -8.7615, -8.3761, -8.6941, -8.8591, -8.4814, -8.6624, -9.0892, -8.7103, -8.5071, -8.7899, -8.8009, -9.0464, -8.6003, -9.0367, -8.8334, -8.8678, -8.8188, -8.9525, -8.8367, -8.7944, -8.7647, -8.6138, -8.8436, -9.0727, -8.8506, -9.0829, -8.936, -9.0414, -8.9172, -8.7268, -8.5903, -8.8338, -8.7266, -8.6899, -8.5356, -8.4576, -8.7404, -8.7862, -8.6699, -8.6822, -8.6491, -8.7509, -8.6737, -8.6281, -8.2207, -8.1922, -8.5369, -8.5963, -8.4195, -8.4835, -8.5453, -8.5941, -8.6573, -8.6848, -8.7237, -8.6614, -8.7857, -8.9386, -8.7857, -9.1572, -8.8665, -8.7057, -8.8068, -8.7131, -8.6434, -9.0097, -8.8532, -8.6683, -9.1893, -8.6789, -8.7955, -8.8775, -8.9692, -8.7221, -9.1772, -8.8985, -8.9495, -9.1471, -8.9738, -9.1445, -9.0665, -9.0635, -9.122, -8.8437, -8.594, -8.7956, -8.8675, -8.4552, -8.5799, -8.7966, -8.7774, -8.5058, -8.6927, -8.3622, -8.6374, -8.432, -8.4599, -8.4979, -8.5205, -8.455, -8.4578, -7.5406, -7.6676, -8.5662, -7.6915, -7.7232, -7.7835, -7.7996, -7.8311, -8.2692, -7.8571, -7.8651, -8.2891, -8.4936, -8.2583, -8.3598, -8.3311, -8.3286, -8.3812, -8.4003, -8.3483, -8.4249, -8.4649, -8.4745, -8.473, -8.6077, -9.0164, -8.8382, -8.7746, -8.8471, -8.5352, -8.4604, -8.9724, -9.21, -8.8007, -8.8248, -8.9597, -8.8005, -8.9519, -8.7361, -8.7391, -8.9507, -8.977, -8.9825, -8.8955, -9.1402, -8.6885, -8.8096, -8.7255, -9.1842, -9.0714, -8.9457, -9.0093, -9.0374, -8.8454, -8.8482, -8.8022, -8.8768, -8.6177, -8.923, -8.7706, -8.8161, -8.7715, -8.8564, -8.8717, -8.5509, -8.673, -8.496, -8.6499, -8.7858, -8.822, -8.5091, -8.7639, -8.6272, -8.8159, -8.7469, -8.7701, -8.5717, -8.4263, -8.7251, -8.6661, -8.6429, -8.6879, -8.9735, -8.7264, -9.1166, -8.631, -8.2916, -8.6935, -8.722, -8.6342, -8.8992, -8.5807, -8.8961, -8.6719, -8.9832, -8.9022, -9.0208, -8.8871, -9.0437, -8.7497, -8.7759, -8.6003, -8.764, -8.7309, -8.8291, -8.6951, -8.0553, -8.1218, -8.0849, -7.9893, -8.1721, -8.1682, -8.2139, -8.5649, -8.2109, -8.1513, -8.1831, -8.1868, -8.1576, -8.1761, -8.236, -8.213, -7.9262, -8.5856, -8.6306, -8.6424, -8.6097, -8.7603, -9.0327, -8.7055, -8.6222, -8.4976, -8.7014, -8.9121, -9.0713, -8.9237, -8.9095, -8.9308, -8.8144, -9.1722, -9.1168, -9.0656, -9.0016, -8.8989, -9.1918, -8.8394, -9.3386, -8.9109, -9.2166, -9.4435, -9.0705, -9.2106, -9.1145, -8.8872, -8.9435, -9.1311, -8.8938, -8.3344, -8.904, -8.9869, -8.7449, -8.7789, -8.7734, -8.6565, -8.7704, -8.7895, -8.7909, -8.8473, -8.4898, -8.6457, -8.7605, -8.8229, -8.4086, -8.8282, -8.8179, -8.8343, -8.856, -8.8513, -8.8685, -8.8492, -8.8647, -8.5208, -8.7013, -8.9275, -8.9721, -9.0573, -8.6944, -9.006, -8.809, -8.6527, -8.8233, -8.7437, -8.9352, -8.8975, -8.7945, -8.4943, -9.0323, -8.9774, -8.9854, -9.1609, -9.088, -8.7428, -8.8643, -9.0642, -8.9791, -8.9116, -8.987, -9.047, -9.1113, -8.9974, -9.0748, -8.8059, -8.9933, -8.7806, -8.1004, -8.0736, -8.2, -8.211, -8.2042, -8.1951, -8.1832, -8.195, -8.2289, -8.2041, -8.1878, -8.1846, -8.2488, -8.2437, -8.2555, -8.2331, -8.2575, -8.264, -8.2511, -8.2547, -8.4716, -8.1262, -8.1624, -7.8191, -7.7888, -7.8401, -8.1762, -8.1827, -8.1871, -8.2054, -8.2352, -8.2248, -8.2424, -8.2433, -8.2437, -8.247, -8.9813, -8.6261, -9.135, -8.9302, -9.2256, -9.0158, -9.1995, -8.9874, -9.1732, -9.1736, -9.1059, -8.9406, -8.9453, -9.0103, -9.0733, -8.6657, -8.8865, -9.0354, -9.1659, -9.1837, -9.3103, -8.8752, -9.2456, -9.0622, -9.3603, -9.0339, -9.0248, -8.9916, -9.2053, -9.51, -9.141, -8.8513, -9.0004, -9.0602, -9.0884, -8.9497, -8.9078, -8.9365, -8.7157, -8.9875, -8.9638, -8.8955, -8.994, -8.8938, -8.9214, -8.4303, -8.8758, -8.8148, -8.8497, -8.6159, -8.923, -8.6525, -8.6498, -8.7812, -8.6753, -8.7015, -8.7121, -8.7319, -8.7258, -8.7575, -8.7077, -8.7909, -8.8074, -8.7853, -8.7766, -8.7858, -8.8652, -8.9075, -8.4522, -8.5116, -8.3721, -8.9591, -8.8955, -8.9868, -8.7067, -8.9292, -9.0244, -8.6924, -8.8943, -8.7906, -8.9135, -8.9567, -8.9869, -8.703, -9.0319, -8.8734, -9.0563, -8.7229, -8.9468, -9.1154, -8.7605, -9.0587, -8.8214, -8.878, -9.1338, -8.957, -8.8838, -8.8716, -8.6915, -8.7566, -8.9048, -8.6059, -8.6639, -8.6023, -8.7009, -8.6709, -8.7026, -8.6401, -8.7966, -8.8225, -8.7671, -8.7334, -8.8204, -8.763, -8.8427, -8.8267, -8.6842, -8.7999, -8.8107, -8.7384, -8.7899, -8.6975, -8.6651, -8.6619, -8.6475, -8.6204, -8.6669, -9.0164, -8.8913, -8.7083, -8.8495, -8.8539, -8.7593, -8.9968, -8.7899, -8.9645, -8.8757, -9.1609, -8.922, -8.9128, -8.7977, -9.0325, -8.7988, -8.7999, -8.8436, -8.8929, -9.0818, -8.9866, -8.8712, -8.9319, -8.8361, -8.7661, -8.8729, -8.7106, -8.9066, -8.9106, -8.8954, -8.9024, -8.8615, -8.7691, -8.8599, -8.8908, -8.5216, -8.7296, -8.4137, -8.709, -8.5831, -8.65, -8.6818, -8.7877, -8.5972, -8.7415, -8.9483, -8.941, -8.7621, -8.8667, -8.8411, -8.9542, -8.9546, -8.8314, -8.8908, -8.8019, -9.0649, -9.0312, -8.5476, -8.7648, -8.8909, -8.9624, -9.1148, -9.2195, -9.1531, -8.8849, -8.7742, -8.9844, -8.6882, -8.7208, -8.7622, -8.789, -8.8173, -8.6553, -8.699, -8.6808, -8.8043, -8.8342, -8.6572, -8.8689, -8.6813, -8.8022, -8.5989, -8.5359, -8.6973, -8.8451, -8.8026, -8.6588, -8.9204, -8.9759, -8.8287, -8.7039, -8.7802, -8.9009, -8.8755, -8.9676, -8.9704, -8.9947, -8.8045, -8.9781, -9.1423, -8.8774, -8.689, -8.8359, -9.0193, -9.2424, -9.1223, -9.0543, -8.676, -9.0158, -9.1313, -8.9589, -8.9045, -9.0142, -8.8491, -8.895, -8.8815, -8.9172, -8.8925, -8.8929, -8.6462, -8.5497, -8.7541, -8.6189, -8.5949, -8.6675, -8.7954, -8.6702, -8.8053, -8.7128, -8.7997, -8.8142, -8.8245, -8.8439], \"loglift\": [30.0, 29.0, 28.0, 27.0, 26.0, 25.0, 24.0, 23.0, 22.0, 21.0, 20.0, 19.0, 18.0, 17.0, 16.0, 15.0, 14.0, 13.0, 12.0, 11.0, 10.0, 9.0, 8.0, 7.0, 6.0, 5.0, 4.0, 3.0, 2.0, 1.0, 2.2066, 2.1828, 2.1779, 2.169, 2.1647, 2.1636, 2.1548, 2.1527, 2.1471, 2.1387, 2.1362, 2.134, 2.1288, 2.1285, 2.1279, 2.118, 2.1081, 2.1045, 2.0939, 2.0901, 2.0836, 2.0832, 2.0804, 2.0765, 2.0724, 2.0682, 2.0485, 2.0398, 2.0378, 2.033, 1.9962, 1.9585, 1.8996, 1.3956, 1.3883, 1.3995, 1.2864, 1.3791, 1.3829, 1.3759, 1.3691, 1.3613, 1.3591, 1.5644, 1.339, 1.334, 1.3348, 1.4866, 1.5192, 1.195, 1.4918, 1.7223, 1.4995, 0.2478, 1.4328, 2.194, 2.0989, 2.0849, 2.0751, 2.072, 2.0552, 2.0543, 2.049, 2.042, 2.0411, 2.0382, 2.0333, 2.0305, 2.0276, 2.0232, 2.0139, 2.0135, 2.0112, 1.9956, 1.9925, 1.9919, 1.9892, 1.987, 1.979, 1.9748, 1.9734, 1.9723, 1.9721, 1.9697, 1.9691, 1.9666, 1.9624, 1.9517, 1.9531, 1.9406, 1.9452, 1.9293, 1.9103, 1.909, 1.8504, 1.8428, 1.8875, 1.418, 1.6038, 1.5495, 1.727, 1.5219, 1.7494, 1.7338, 1.7054, 1.6412, 1.7149, 1.7128, 1.5673, 1.6696, 1.6892, 1.5571, 1.672, 1.6664, 1.6326, 1.6576, 1.6444, 1.6066, 1.62, 1.558, 1.4319, 0.7513, 0.7608, 0.742, 0.5961, 0.364, 0.5844, 0.5764, 2.1714, 2.112, 2.1069, 2.1051, 2.0699, 2.0346, 2.0299, 2.0295, 2.0284, 2.027, 2.0228, 2.022, 2.0169, 2.0159, 2.0108, 2.0096, 2.0056, 2.0032, 1.9976, 1.9935, 1.9919, 1.9917, 1.9899, 1.9893, 1.9885, 1.9819, 1.972, 1.9685, 1.9679, 1.9665, 1.9573, 1.9386, 1.9443, 1.944, 1.9256, 1.8656, 1.9484, 1.8433, 1.7425, 1.5384, 1.8162, 1.1541, 1.1527, 1.1555, 1.5117, 1.5014, 1.4868, 1.7657, 1.6897, 1.2863, 1.4079, 1.2774, 1.3845, 0.6277, 0.6092, 0.5637, 0.3642, 0.7793, 0.527, 0.577, 0.5631, 0.8295, 0.5197, 0.5425, 0.7593, 1.3494, 1.3277, 1.1648, 1.3903, 1.0548, 2.2928, 2.2742, 2.2449, 2.2282, 2.2155, 2.2052, 2.2046, 2.1725, 2.1725, 2.1439, 2.1349, 2.1269, 2.1229, 2.1189, 2.1185, 2.1119, 2.1092, 2.1081, 2.1073, 2.1057, 2.0894, 2.0889, 2.0889, 2.0825, 2.0823, 2.0775, 2.0752, 2.0737, 2.0667, 2.0642, 2.0595, 2.0521, 2.0472, 2.0496, 1.8686, 1.803, 2.005, 1.8311, 1.8247, 1.832, 1.9688, 1.7097, 1.793, 1.6843, 1.7241, 1.673, 1.7185, 1.6566, 1.7656, 1.7672, 1.6229, 1.7247, 1.7564, 1.6493, 1.6831, 1.6466, 1.6407, 1.6419, 1.6117, 1.6863, 1.6175, 1.6233, 1.6019, 1.692, 1.603, 1.5846, 0.5764, 0.8754, 0.9132, 0.9092, 1.5596, 2.4449, 2.3138, 2.3134, 2.3053, 2.2975, 2.2733, 2.2424, 2.2156, 2.1952, 2.1794, 2.1706, 2.1699, 2.1675, 2.1663, 2.1561, 2.1408, 2.1406, 2.1316, 2.1263, 2.1099, 2.1069, 2.1061, 2.0917, 2.0879, 2.0856, 2.0815, 2.0808, 2.0769, 2.076, 2.0738, 2.0662, 2.0247, 2.0292, 2.0006, 1.9657, 1.9653, 1.9729, 1.945, 1.9135, 1.9136, 2.0349, 1.9918, 1.5922, 1.8441, 1.8354, 1.7891, 1.7975, 1.9677, 1.8246, 1.4649, 1.4465, 0.52, 0.5999, 0.5546, 0.5586, 0.5628, 0.5465, 0.5532, 0.5089, 0.5043, 0.18, 0.9717, 0.6549, 1.2226, 0.5234, 0.502, 0.4208, 1.1384, 0.4853, 2.2856, 2.282, 2.2742, 2.2735, 2.2672, 2.2605, 2.2583, 2.2541, 2.2495, 2.2265, 2.222, 2.219, 2.2185, 2.2073, 2.1765, 2.1734, 2.1694, 2.1682, 2.1673, 2.1634, 2.1624, 2.1618, 2.157, 2.1528, 2.1515, 2.1407, 2.1396, 2.1388, 2.1365, 2.1338, 2.1304, 2.1286, 2.1203, 2.1147, 2.1111, 2.0831, 2.0825, 2.079, 2.0785, 2.0664, 2.055, 2.0476, 2.0502, 2.0505, 2.0222, 2.0209, 2.0126, 1.9978, 1.9966, 1.9837, 1.9933, 1.978, 1.9399, 1.9073, 1.9018, 1.9479, 1.9622, 1.8747, 1.8865, 1.9699, 1.0626, 1.1197, 1.107, 2.6072, 2.5797, 2.479, 2.4435, 2.4232, 2.4022, 2.3866, 2.3763, 2.37, 2.3647, 2.3622, 2.33, 2.3273, 2.323, 2.3228, 2.3157, 2.3018, 2.3009, 2.2958, 2.2939, 2.2936, 2.2922, 2.2806, 2.2733, 2.2727, 2.2638, 2.2495, 2.2484, 2.2295, 2.2228, 2.2136, 2.1851, 2.0123, 2.0116, 1.9844, 1.9477, 1.963, 1.9145, 1.899, 1.8809, 1.8721, 1.8679, 1.8844, 1.8645, 1.851, 1.9021, 1.8176, 1.7881, 1.8005, 1.8938, 1.2713, 1.2819, 1.2284, 1.2347, 1.2112, 1.1979, 1.1832, 1.171, 1.135, 1.0225, 0.5935, 0.9943, 0.9062, 2.2679, 2.2325, 2.2215, 2.21, 2.1998, 2.1881, 2.1757, 2.1572, 2.1537, 2.1432, 2.1374, 2.1246, 2.1244, 2.1211, 2.0926, 2.09, 2.0873, 2.0781, 2.0639, 2.0629, 2.061, 2.0522, 2.043, 2.0384, 2.0344, 2.0283, 2.0268, 2.0263, 2.0251, 2.0225, 2.0221, 2.0158, 2.0103, 1.9896, 1.9893, 1.9605, 1.9947, 1.9201, 1.976, 1.8208, 1.9734, 1.8223, 1.7671, 1.9458, 1.6892, 1.0433, 1.8628, 0.9651, 0.9625, 1.6964, 1.5945, 1.4811, 1.5681, 1.6389, 1.6306, 0.3923, 1.5144, 1.1326, 1.1744, 0.8388, 0.977, 1.481, 0.9832, 1.0405, 1.0746, 1.0434, -0.1808, 0.8808, 0.8848, 0.0451, 0.8648, 2.4683, 2.3767, 2.3412, 2.338, 2.3367, 2.3349, 2.3236, 2.313, 2.2557, 2.2534, 2.2503, 2.246, 2.2438, 2.2435, 2.2366, 2.2212, 2.2182, 2.2015, 2.2004, 2.2, 2.1982, 2.1973, 2.1885, 2.1862, 2.1806, 2.1789, 2.1765, 2.1742, 2.1701, 2.1667, 2.1512, 2.097, 2.1334, 2.1475, 2.0744, 2.0707, 2.0475, 2.1299, 2.0281, 2.1198, 2.1255, 2.0445, 1.866, 1.8417, 0.6219, 1.9384, 1.8106, 1.852, 0.5962, 0.6024, 0.5699, 1.816, 1.1363, 1.9284, 1.8274, 0.1703, 1.9611, 1.6971, 1.6589, 2.2652, 2.2546, 2.2164, 2.2153, 2.1999, 2.1932, 2.1924, 2.1884, 2.1725, 2.1608, 2.1393, 2.1263, 2.1038, 2.1032, 2.1029, 2.1004, 2.0939, 2.0876, 2.0831, 2.0802, 2.0734, 2.0623, 2.0616, 2.0593, 2.0573, 2.054, 2.0516, 2.0436, 2.0423, 2.0415, 2.0413, 2.0391, 1.9776, 1.9201, 2.0171, 1.6822, 1.9749, 1.8291, 1.596, 1.5953, 1.8088, 1.5519, 1.5253, 1.5415, 1.5181, 1.4606, 0.7226, 1.4335, 1.1558, 0.9793, 1.4246, 0.4134, 1.3818, 0.3627, 0.3286, 0.3136, 0.3131, 0.3069, 0.275, 0.2873, 0.5881, 2.5573, 2.5208, 2.4864, 2.4565, 2.4237, 2.4104, 2.3955, 2.3777, 2.3663, 2.3539, 2.336, 2.3313, 2.3311, 2.3249, 2.3241, 2.3186, 2.3151, 2.3107, 2.2859, 2.2841, 2.2768, 2.2681, 2.2643, 2.2628, 2.2596, 2.2584, 2.2556, 2.2387, 2.2358, 2.2336, 2.2314, 2.1881, 2.1654, 2.0981, 2.1333, 2.1731, 2.1352, 2.0273, 2.1508, 2.0505, 2.0384, 1.9751, 2.0701, 0.5336, 1.9369, 0.6451, 0.6355, 0.5536, 0.6177, 0.6088, 0.5858, 0.4856, 0.4395, 0.4288, 0.4411, 0.4341, 0.4326, 1.2291, 2.5185, 2.507, 2.5059, 2.5049, 2.5012, 2.5006, 2.4994, 2.4914, 2.4793, 2.4755, 2.4755, 2.4681, 2.4623, 2.4599, 2.4518, 2.449, 2.4466, 2.4367, 2.4348, 2.4345, 2.4312, 2.429, 2.4258, 2.4257, 2.4247, 2.4224, 2.416, 2.4109, 2.4052, 2.3924, 2.3885, 2.3712, 2.3792, 2.3524, 2.3403, 2.3614, 2.0586, 2.0532, 2.0353, 2.0264, 2.0179, 2.0103, 1.9995, 1.9769, 1.9774, 2.2715, 2.3027, 2.2774, 1.5399, 2.5599, 2.4869, 2.4802, 2.4613, 2.4122, 2.4007, 2.3991, 2.3739, 2.3687, 2.3528, 2.3407, 2.3377, 2.3268, 2.3106, 2.3106, 2.3072, 2.3014, 2.3002, 2.2946, 2.2879, 2.281, 2.2802, 2.2796, 2.271, 2.2521, 2.2505, 2.234, 2.2286, 2.2269, 2.2246, 2.208, 2.1826, 2.0547, 2.0483, 2.1881, 2.01, 2.0095, 1.9643, 2.0192, 2.0851, 2.1026, 2.0393, 1.8789, 1.8316, 1.9737, 1.8417, 1.791, 1.8308, 0.5164, 1.697, 1.5098, 1.5891, 1.769, 1.7167, 1.6345, 1.5543, 0.2777, 0.2609, 0.2213, 1.5256, 2.4037, 2.318, 2.3147, 2.2981, 2.276, 2.2484, 2.239, 2.2056, 2.2048, 2.1972, 2.1886, 2.1759, 2.171, 2.1689, 2.1645, 2.1623, 2.1566, 2.1517, 2.1516, 2.1498, 2.1399, 2.1384, 2.1383, 2.1361, 2.1327, 2.1296, 2.1293, 2.1285, 2.1189, 2.1075, 2.105, 2.0827, 2.0853, 2.0631, 2.0753, 2.067, 2.0721, 2.0568, 2.0375, 2.0448, 2.028, 1.9589, 2.0332, 1.656, 1.5585, 1.6389, 1.6527, 1.9696, 2.0191, 1.3035, 1.4598, 1.4792, 1.4546, 0.1837, 1.4216, 1.4616, 1.1498, 0.0847, 0.0082, 1.0622, -0.11, 0.2097, 1.1896, 2.5253, 2.3354, 2.3207, 2.3063, 2.3027, 2.2917, 2.2774, 2.2753, 2.2444, 2.2384, 2.2257, 2.2251, 2.2013, 2.1847, 2.183, 2.1821, 2.1809, 2.1709, 2.17, 2.1696, 2.1518, 2.147, 2.1462, 2.1412, 2.137, 2.1284, 2.1234, 2.1224, 2.1197, 2.1191, 2.0995, 2.1099, 1.989, 2.1011, 1.9856, 1.9752, 2.059, 2.003, 1.942, 1.9605, 1.9015, 1.9256, 1.9213, 1.8264, 1.8454, 1.7858, 1.717, 1.8366, 0.5511, 1.7715, 0.2911, 0.446, 1.8374, 1.8033, 0.4306, 0.3975, 0.3845, 0.3393, 0.3708, 0.3286, 0.2629, 1.2276, 1.0319, 1.1773, 0.9322, 1.2364, 1.1096, 1.0382, 0.9541, 0.9442, 1.0793, 0.9122, 2.4939, 2.491, 2.4812, 2.4701, 2.4637, 2.4525, 2.4414, 2.4353, 2.4342, 2.4299, 2.4275, 2.4236, 2.421, 2.387, 2.3796, 2.3768, 2.375, 2.3553, 2.3455, 2.3356, 2.3239, 2.3102, 2.2956, 2.2924, 2.2907, 2.2882, 2.2812, 2.281, 2.26, 2.2587, 2.2554, 2.2363, 2.2058, 2.1908, 2.1683, 2.1133, 2.0474, 2.2166, 1.226, 1.1188, 1.1357, 1.0948, 1.1135, 1.1205, 1.0454, 2.6119, 2.4658, 2.3852, 2.3617, 2.3449, 2.3297, 2.3268, 2.3267, 2.2991, 2.2683, 2.2422, 2.2314, 2.2059, 2.201, 2.1974, 2.1899, 2.1799, 2.159, 2.1542, 2.1531, 2.1437, 2.1426, 2.1408, 2.1394, 2.1361, 2.1335, 2.1322, 2.1269, 2.1269, 2.1199, 2.112, 2.1009, 2.102, 2.0579, 2.0803, 2.0313, 2.0524, 1.9828, 2.0012, 2.0295, 1.9843, 1.9709, 1.8343, 0.7175, 0.6542, 0.653, 0.2782, 1.3016, 0.1942, -0.052, 0.1434, 0.1737, 0.1789, 0.1264, 0.1597, 0.1451, 1.2654, 1.3674, 0.9642, 1.1398, -0.1549, 1.2373, 1.223, 1.2296, 1.2161, 2.3479, 2.3383, 2.3126, 2.3059, 2.2926, 2.2723, 2.2605, 2.2564, 2.2256, 2.2253, 2.1689, 2.166, 2.1658, 2.1522, 2.1522, 2.1368, 2.1269, 2.1169, 2.1144, 2.1112, 2.1109, 2.1106, 2.1006, 2.097, 2.0964, 2.096, 2.0927, 2.0906, 2.0872, 2.0826, 2.077, 2.062, 2.0348, 2.0492, 2.0286, 2.0447, 1.9827, 1.9594, 2.0127, 1.9312, 1.6804, 1.9527, 1.9287, 1.4154, 1.7201, 1.9575, 1.3345, 1.3352, 1.4726, 1.0318, 0.7742, 1.0628, 0.7684, 1.7269, 0.7055, 1.799, 0.8988, 1.0506, 0.8762, 1.0343, 1.0038, 0.8693, 1.0169, 0.9263, 0.9274, 0.9642, 0.937, 0.9339, 1.2461, 2.486, 2.4286, 2.4215, 2.409, 2.3558, 2.3387, 2.3149, 2.3076, 2.2999, 2.2972, 2.2939, 2.2913, 2.2848, 2.2822, 2.2787, 2.2729, 2.2702, 2.2681, 2.2554, 2.2551, 2.2469, 2.2406, 2.2383, 2.2381, 2.2363, 2.2325, 2.2301, 2.2277, 2.2193, 2.203, 2.1798, 2.1718, 2.1466, 2.0913, 2.0566, 2.0442, 2.0595, 2.0468, 2.0554, 2.0432, 2.0037, 2.0148, 2.1578, 2.1133, 0.8726, 2.1009, 0.818, 0.6319, 0.8005, 0.8014, 0.7129, 0.7249, 0.7118, 0.6703, 1.5551, 1.1754, 2.4494, 2.447, 2.4179, 2.4111, 2.4092, 2.3884, 2.3877, 2.3838, 2.3825, 2.3804, 2.3796, 2.3729, 2.3481, 2.3289, 2.3242, 2.3184, 2.3146, 2.3126, 2.3069, 2.2984, 2.2935, 2.2874, 2.2851, 2.2671, 2.2625, 2.2578, 2.2391, 2.2389, 2.2323, 2.2288, 2.2241, 2.1784, 2.1764, 2.1754, 2.1698, 2.1773, 2.1587, 2.1602, 2.095, 2.1578, 2.0816, 2.0477, 1.9721, 2.1095, 1.9378, 2.136, 2.062, 2.0392, 2.0862, 2.0233, 2.477, 2.418, 2.4093, 2.3399, 2.3167, 2.3105, 2.2989, 2.2971, 2.2907, 2.2897, 2.2835, 2.2833, 2.2659, 2.2515, 2.2404, 2.2401, 2.2149, 2.2114, 2.2065, 2.2026, 2.1999, 2.1996, 2.1988, 2.1943, 2.193, 2.1837, 2.1824, 2.182, 2.1805, 2.1757, 2.17, 2.1733, 2.1431, 2.1462, 2.1493, 2.1061, 2.0829, 2.0465, 2.0225, 2.0572, 2.0463, 1.9879, 2.0901, 2.0021, 2.0228, 1.9683, 1.9953, 2.0412, 1.9789, 1.909, 1.9385, 1.9168, 1.9224, 1.9056, 1.8754, 1.7772, 1.324, 1.8447, 1.8225, 0.396, 1.6636, 1.1825, 1.8329, 1.1573, 1.0867, 1.111, 1.5501, 1.5804, 1.6146, 1.5821, 1.3116, 1.6334, 1.6495, 1.0, 0.9701, 1.5204, 2.5114, 2.4218, 2.3627, 2.3298, 2.2996, 2.2942, 2.2764, 2.2706, 2.2691, 2.2595, 2.2555, 2.2497, 2.2303, 2.2189, 2.2066, 2.199, 2.1975, 2.1952, 2.1941, 2.187, 2.1815, 2.1775, 2.1761, 2.1744, 2.1664, 2.157, 2.153, 2.1493, 2.1492, 2.1416, 2.1386, 2.1163, 2.1245, 2.1374, 1.9926, 2.1201, 1.9473, 1.8589, 1.9949, 1.9257, 1.8592, 1.8323, 1.9037, 1.8484, 1.786, 1.9683, 1.8367, 1.8306, 1.8022, 1.7488, 1.9283, 0.3521, 0.5304, 0.5423, 0.4814, 0.4962, 0.4956, 0.4859, 0.4578, 0.4919, 1.0196, 1.3082, 0.9565, 0.9178, 0.8651, 1.0551, 1.224, 2.4808, 2.4216, 2.4175, 2.3532, 2.3415, 2.3289, 2.3126, 2.304, 2.2984, 2.2936, 2.2792, 2.2702, 2.2694, 2.2623, 2.2536, 2.2495, 2.2487, 2.2276, 2.226, 2.2219, 2.2157, 2.2154, 2.2081, 2.2075, 2.2057, 2.2002, 2.198, 2.1926, 2.1856, 2.1785, 2.1709, 2.1705, 2.1358, 2.1126, 2.122, 2.0785, 2.0838, 2.0651, 2.0329, 2.1165, 1.9678, 1.9513, 2.0275, 1.7997, 0.1578, 1.6846, 0.9135, 1.6895, 1.5485, 1.5109, 0.6889, 2.3741, 2.3651, 2.3018, 2.2911, 2.2901, 2.2872, 2.2549, 2.2482, 2.2438, 2.2385, 2.2349, 2.217, 2.2156, 2.2142, 2.2023, 2.1965, 2.1965, 2.1946, 2.1924, 2.1916, 2.1858, 2.1764, 2.1742, 2.1732, 2.1686, 2.1673, 2.1589, 2.1547, 2.1536, 2.1501, 2.1491, 2.1295, 2.0999, 2.0795, 1.9694, 2.0899, 2.0381, 2.0318, 1.6291, 1.3917, 1.8061, 1.5552, 1.3754, 0.6826, 0.6059, 0.5804, 1.2542, 1.2186, 1.4119, 0.7808, 0.7453, 1.2661, 0.1138, 0.2891, 0.3097, 0.3139, 1.1468, 0.2576, 0.7077, 0.2528, 0.2267, 0.2515, 0.2274, 1.1293, 1.1897, 1.1, 1.0405, -0.0702, 2.5399, 2.3349, 2.3193, 2.2839, 2.2835, 2.2816, 2.2796, 2.2666, 2.2532, 2.248, 2.2392, 2.206, 2.1854, 2.1825, 2.1785, 2.1704, 2.1641, 2.1619, 2.1511, 2.1444, 2.1408, 2.1272, 2.1196, 2.1182, 2.1165, 2.1151, 2.1137, 2.1123, 2.1087, 2.1059, 2.1041, 2.0955, 2.0982, 2.0615, 1.8896, 1.7976, 1.8527, 1.8157, 1.7568, 1.7177, 1.7914, 1.7881, 1.7345, 1.8064, 1.7983, 1.6831, 1.6571, 1.7427, 1.7815, 1.7327, 1.7269, 1.6497, 1.6101, 1.5951, 1.7084, 1.7046, 1.6911, 1.7099, 1.6751, 1.0346, 1.639, 1.6291, 0.8109, 0.8414, 1.6036, 1.5812, 1.5465, 1.5678, 1.5669, 2.4583, 2.3459, 2.3204, 2.3121, 2.3097, 2.2939, 2.2778, 2.2723, 2.2706, 2.259, 2.2378, 2.2366, 2.2348, 2.2269, 2.2261, 2.225, 2.2243, 2.2186, 2.2152, 2.2093, 2.2036, 2.2025, 2.2022, 2.1983, 2.1946, 2.1945, 2.1868, 2.1818, 2.1817, 2.1806, 2.1781, 2.1756, 2.1712, 2.0814, 2.1413, 2.074, 2.0992, 2.1169, 2.1162, 1.864, 2.1277, 2.0295, 1.9023, 2.0305, 1.8388, 1.2199, 1.9916, 1.864, 1.2611, 1.8924, 1.281, 1.915, 0.1128, 0.0187, -0.0063, -0.0039, 0.4493, 1.5276, 1.5824, 0.8783, -0.1469, -0.2516, -0.2249, -0.2712, 0.8419, -0.5455, 2.6024, 2.4925, 2.457, 2.453, 2.4125, 2.3654, 2.3645, 2.3512, 2.3498, 2.3246, 2.3241, 2.3096, 2.299, 2.2985, 2.2975, 2.2864, 2.2861, 2.2842, 2.2825, 2.2817, 2.2732, 2.2696, 2.2616, 2.2557, 2.2435, 2.2418, 2.2328, 2.2324, 2.226, 2.2249, 2.2234, 2.1984, 2.2146, 2.1921, 2.1295, 2.0369, 2.1316, 2.1702, 2.0936, 2.139, 2.0146, 2.1562, 1.872, 2.0245, 0.9847, 2.0491, 0.274, 1.6569, 1.1634, 0.9382, 0.913, 0.858, 2.5246, 2.4248, 2.4141, 2.3899, 2.3462, 2.3367, 2.3116, 2.3071, 2.2937, 2.2884, 2.2798, 2.2742, 2.2729, 2.2438, 2.2397, 2.2389, 2.2329, 2.229, 2.2246, 2.2188, 2.216, 2.2099, 2.1979, 2.1974, 2.194, 2.1862, 2.1839, 2.1833, 2.1792, 2.1791, 2.177, 2.1754, 2.1696, 2.1745, 2.1182, 2.1119, 2.1099, 2.1709, 2.0304, 1.7517, 1.9844, 2.0165, 1.4665, 1.4286, 1.6101, 1.4429, 1.2494, 1.1954, 0.2844, 0.5515, 0.4337, 0.486, 1.133, 0.1162, 0.0972, 1.2119, 1.1438, 2.6866, 2.6665, 2.6402, 2.466, 2.4418, 2.4402, 2.4199, 2.4167, 2.4051, 2.3915, 2.3742, 2.36, 2.3524, 2.3479, 2.3427, 2.3416, 2.336, 2.3311, 2.3257, 2.3257, 2.3246, 2.311, 2.3089, 2.3066, 2.3011, 2.3, 2.2894, 2.286, 2.2836, 2.2774, 2.238, 2.2566, 2.2034, 2.1494, 2.2495, 2.2607, 2.208, 2.1548, 1.564, 1.8215, 1.5017, 1.4981, 0.3018, 0.2801, 0.3021, 0.7811, 2.5015, 2.4451, 2.3538, 2.3535, 2.335, 2.3343, 2.3326, 2.3202, 2.3074, 2.2999, 2.2845, 2.2678, 2.2542, 2.2429, 2.2182, 2.2034, 2.1935, 2.1921, 2.189, 2.1883, 2.1881, 2.1851, 2.1815, 2.1754, 2.1727, 2.1696, 2.1659, 2.1586, 2.1491, 2.1457, 2.1394, 2.1217, 2.1138, 2.0941, 2.1115, 2.0933, 2.0702, 1.9687, 1.9836, 2.0206, 1.5102, 1.975, 1.9841, 0.6832, 1.9317, 1.8701, 2.8094, 2.6462, 2.613, 2.5673, 2.494, 2.4814, 2.4806, 2.4766, 2.4745, 2.4721, 2.4717, 2.4547, 2.4546, 2.4059, 2.4015, 2.3921, 2.3918, 2.3857, 2.3827, 2.3791, 2.3692, 2.3661, 2.3585, 2.3534, 2.3506, 2.344, 2.3382, 2.3379, 2.3378, 2.3281, 2.327, 2.322, 2.3265, 2.299, 2.2579, 2.2379, 2.1459, 2.2289, 2.1122, 2.1896, 0.9434, 1.2604, 2.1526, 0.3038, 0.0881, 0.3188, 0.3035, 0.3194, 0.248, 0.2386, 0.248, 0.2257, 0.544, 0.5721, 0.4998, 2.7596, 2.6984, 2.679, 2.6603, 2.6468, 2.6356, 2.635, 2.6221, 2.5974, 2.5893, 2.5833, 2.5202, 2.5075, 2.5004, 2.4671, 2.4608, 2.4476, 2.4207, 2.4121, 2.4111, 2.3986, 2.3758, 2.3672, 2.3238, 2.3004, 2.2919, 2.2909, 2.2897, 2.267, 2.2628, 2.2502, 2.2198, 0.953, 0.9343, 0.9355, 0.9339, 0.8934, 0.8663, 0.8652, 0.8798, 0.5982, 1.4263, 1.4206, 1.2121, 1.4019, 1.1771, 2.6354, 2.6235, 2.5944, 2.5803, 2.5761, 2.5452, 2.5151, 2.5143, 2.5105, 2.4999, 2.4925, 2.489, 2.48, 2.445, 2.4442, 2.4379, 2.4073, 2.4062, 2.3972, 2.3898, 2.3897, 2.3891, 2.3836, 2.3816, 2.3794, 2.3699, 2.3659, 2.3642, 2.3575, 2.3545, 2.354, 2.3412, 2.3203, 2.3267, 2.3126, 2.2985, 2.2558, 2.2354, 2.2383, 2.2093, 2.2529, 2.2095, 1.7652, 2.2059, 2.2494, 2.2036, 1.7257, 1.1888, 1.1848, 1.6942, 1.1455, 1.1558, 1.1548, 1.1132, 1.1319, 1.1092, 1.1171, 1.7095, 1.6605, 1.6736, 1.8333, 1.6342, 1.5622, 1.6042, 1.589, 1.6526, 1.5684, 1.6137, 1.5823, 1.4964, 1.4977, 1.6285, 2.5918, 2.3375, 2.3372, 2.3175, 2.2964, 2.2455, 2.237, 2.2218, 2.2123, 2.2122, 2.202, 2.1917, 2.179, 2.1734, 2.1676, 2.1625, 2.1579, 2.1577, 2.1548, 2.1362, 2.1309, 2.1273, 2.1264, 2.1257, 2.1216, 2.1195, 2.1133, 2.112, 2.1069, 2.1013, 2.0971, 2.0839, 2.0988, 2.0941, 2.0495, 2.0734, 2.061, 2.0342, 2.0652, 2.015, 2.0256, 1.957, 2.0605, 1.9327, 2.0759, 1.8857, 1.9089, 1.9862, 1.8619, 1.9953, 1.9373, 1.8211, 1.254, 1.2412, 1.7914, 1.0984, 1.6786, -0.0808, 1.8032, 0.5775, 1.5427, 1.6524, 1.3007, 2.579, 2.5306, 2.4425, 2.437, 2.4258, 2.3863, 2.3831, 2.3776, 2.3735, 2.3698, 2.368, 2.3489, 2.3371, 2.3274, 2.3137, 2.3119, 2.297, 2.2853, 2.2781, 2.2706, 2.2639, 2.259, 2.256, 2.245, 2.2441, 2.2367, 2.2283, 2.2276, 2.216, 2.2127, 2.211, 2.2071, 2.2054, 2.19, 2.1841, 2.1291, 2.1081, 2.1675, 2.1695, 2.0553, 2.0552, 1.95, 2.0975, 1.9584, 1.777, 0.6113, 0.3813, 1.3128, 1.4741, 0.1631, 0.0724, 0.3645, 0.3143, 0.8601, 1.2372, 0.8381, 2.4633, 2.4061, 2.3903, 2.3214, 2.2866, 2.2602, 2.2509, 2.2248, 2.2193, 2.2184, 2.2169, 2.2064, 2.1928, 2.1915, 2.1706, 2.1655, 2.1631, 2.1618, 2.16, 2.1583, 2.1289, 2.1197, 2.1099, 2.1081, 2.101, 2.0992, 2.0966, 2.0903, 2.0847, 2.0836, 2.0747, 2.077, 2.0312, 2.0424, 2.0679, 2.0646, 1.9573, 2.0104, 1.8772, 1.8974, 1.7383, 1.745, 1.77, 1.7899, 1.7173, 1.7059, 0.692, 0.8196, 1.8193, 0.7874, 0.801, 0.7688, 0.7176, 0.7035, 1.3742, 0.663, 0.6713, 1.3278, 1.6752, 1.1427, 1.24, 1.1165, 1.0767, 1.2286, 1.2938, 1.0574, 1.3064, 1.2083, 1.2515, 1.2107, 2.4535, 2.4225, 2.3515, 2.32, 2.3125, 2.3032, 2.3008, 2.3007, 2.296, 2.2936, 2.2902, 2.2771, 2.2612, 2.2452, 2.2421, 2.2385, 2.2364, 2.2331, 2.2309, 2.2273, 2.2208, 2.2192, 2.2122, 2.2101, 2.1972, 2.1971, 2.1914, 2.1779, 2.1713, 2.1658, 2.1629, 2.159, 2.1592, 2.0897, 2.1536, 2.0991, 2.0976, 2.0269, 2.0965, 2.101, 1.5749, 1.7516, 1.2936, 1.6164, 1.9031, 1.9762, 0.9138, 1.6796, 0.4127, 1.7624, 0.3457, 0.2786, 2.6085, 2.6042, 2.5883, 2.565, 2.5492, 2.4971, 2.4844, 2.4644, 2.4369, 2.4223, 2.4219, 2.4121, 2.3754, 2.3656, 2.3621, 2.3566, 2.3531, 2.3528, 2.3481, 2.3347, 2.2933, 2.2859, 2.2851, 2.2788, 2.2787, 2.278, 2.2766, 2.2676, 2.264, 2.2612, 2.2098, 2.1443, 2.1085, 2.058, 2.0888, 2.0555, 2.045, 2.1903, 1.9757, 1.9314, 1.9146, 1.8871, 1.8505, 1.8565, 1.8905, 1.8183, 1.2415, 2.0291, 2.1683, 2.1932, 2.5183, 2.4131, 2.3895, 2.3404, 2.3219, 2.3149, 2.2988, 2.2842, 2.2666, 2.2451, 2.2413, 2.2369, 2.2364, 2.2332, 2.2295, 2.2202, 2.2201, 2.2199, 2.2188, 2.2109, 2.1884, 2.1878, 2.186, 2.1777, 2.1663, 2.1604, 2.157, 2.1557, 2.1555, 2.1516, 2.1498, 2.1316, 2.1435, 2.1472, 2.1258, 2.1191, 2.1139, 2.0674, 2.0877, 2.0912, 2.0912, 2.1066, 1.8911, 1.9142, 1.9633, 2.0292, 1.4316, 1.9884, 1.9209, 1.9402, 2.0016, 1.9397, 2.0209, 1.876, 1.8413, 2.423, 2.4035, 2.3845, 2.3698, 2.3555, 2.3511, 2.3266, 2.3238, 2.2857, 2.2805, 2.2734, 2.2713, 2.2528, 2.2526, 2.2455, 2.2113, 2.201, 2.1952, 2.1911, 2.1871, 2.1829, 2.1797, 2.1759, 2.1733, 2.1584, 2.1548, 2.1518, 2.1477, 2.1458, 2.1409, 2.1399, 2.1387, 2.1082, 1.9242, 1.8956, 1.8889, 1.8287, 1.8203, 1.8007, 1.7744, 1.7723, 1.7776, 1.7447, 1.7323, 1.7155, 1.7491, 1.7201, 1.7274, 1.7095, 1.7278, 1.7256, 1.7057, 1.703, 1.8915, 1.4848, 1.515, 1.0907, 1.0431, 1.0683, 1.5103, 1.4686, 1.4606, 1.4324, 1.4365, 1.3917, 1.4226, 1.4034, 1.3805, 1.4622, 2.4901, 2.3581, 2.2986, 2.2977, 2.2785, 2.2593, 2.2402, 2.2333, 2.2266, 2.195, 2.1941, 2.1885, 2.1847, 2.1702, 2.1655, 2.1511, 2.1308, 2.1275, 2.1242, 2.1137, 2.1106, 2.1069, 2.0917, 2.0825, 2.0815, 2.0813, 2.0791, 2.0739, 2.073, 2.0678, 2.0635, 2.0549, 2.0445, 2.0524, 2.0448, 1.9976, 1.9796, 1.9843, 1.8615, 2.0039, 1.966, 1.8876, 1.9989, 1.876, 1.9047, 1.2076, 1.7611, 1.6001, 1.6666, 1.0308, 1.8181, 0.9952, 0.9612, 1.3519, 0.9897, 1.0077, 0.9596, 0.9455, 0.8984, 0.8938, 0.2021, 0.8256, 0.8791, 0.6376, 0.0554, 0.1227, -0.3093, -0.334, 2.9854, 2.5863, 2.4057, 2.4021, 2.4014, 2.3844, 2.3752, 2.3676, 2.3652, 2.3637, 2.3625, 2.3455, 2.3448, 2.337, 2.3294, 2.3188, 2.3135, 2.3006, 2.3, 2.2888, 2.2846, 2.2807, 2.2679, 2.264, 2.2638, 2.2625, 2.2594, 2.2578, 2.2527, 2.2522, 2.2263, 2.2195, 2.241, 2.18, 2.1703, 2.1431, 2.1678, 2.1019, 2.0976, 2.0294, 2.1656, 2.1747, 2.0802, 1.975, 2.1192, 1.9697, 2.1369, 2.063, 1.0807, 1.7778, 1.7893, 0.9344, 0.6995, 2.4842, 2.4832, 2.4596, 2.418, 2.4125, 2.3739, 2.3557, 2.3273, 2.3227, 2.3063, 2.3033, 2.2907, 2.2601, 2.2551, 2.2473, 2.2438, 2.241, 2.2394, 2.2366, 2.2161, 2.2113, 2.1829, 2.1817, 2.1806, 2.1726, 2.1596, 2.1585, 2.146, 2.1435, 2.1416, 2.1271, 2.1312, 2.0817, 2.1037, 2.0036, 1.9523, 1.9665, 1.7318, 0.7158, 1.5393, 1.5843, 2.6614, 2.6092, 2.5967, 2.5684, 2.5583, 2.5221, 2.5048, 2.4375, 2.4239, 2.3546, 2.3386, 2.3343, 2.3266, 2.3117, 2.2991, 2.2916, 2.2896, 2.2693, 2.2578, 2.2561, 2.2532, 2.2451, 2.2377, 2.2341, 2.2323, 2.221, 2.217, 2.2043, 2.1911, 2.1883, 2.1706, 2.1804, 2.1262, 2.1289, 2.1347, 2.1267, 2.1386, 1.9382, 1.9659, 1.939, 2.0986, 1.949, -0.0837, 2.0425, -0.0987, -0.2462, 2.5316, 2.4466, 2.4098, 2.3944, 2.3943, 2.3926, 2.389, 2.2802, 2.2774, 2.2655, 2.2587, 2.2424, 2.2337, 2.226, 2.2243, 2.2243, 2.2115, 2.1955, 2.1933, 2.1904, 2.1833, 2.1815, 2.1778, 2.163, 2.1535, 2.1496, 2.1358, 2.1277, 2.1271, 2.1227, 2.1105, 2.1173, 2.0797, 2.0725, 2.049, 2.0499, 1.9837, 1.9769, 1.4961, 1.1141, 1.539, 1.0653, 0.7074, 1.0052, 1.5151, 0.8192, 1.5245, 0.9443, 1.3926, 1.0944, 1.0812, 0.9211]}, \"token.table\": {\"Topic\": [25, 3, 4, 7, 18, 25, 3, 4, 25, 24, 22, 11, 30, 4, 21, 4, 16, 34, 19, 3, 8, 14, 17, 18, 32, 2, 8, 17, 32, 17, 32, 17, 17, 1, 18, 8, 14, 1, 2, 5, 8, 9, 14, 16, 22, 35, 28, 10, 14, 22, 17, 27, 24, 17, 1, 2, 3, 10, 13, 17, 20, 38, 2, 3, 13, 17, 20, 38, 3, 4, 5, 7, 19, 23, 30, 3, 5, 7, 8, 19, 23, 30, 1, 3, 13, 17, 20, 38, 3, 13, 17, 20, 38, 3, 7, 8, 18, 19, 23, 30, 2, 3, 4, 7, 8, 19, 23, 30, 13, 1, 3, 12, 13, 17, 20, 38, 3, 7, 18, 19, 23, 30, 2, 30, 30, 8, 13, 17, 23, 3, 13, 18, 20, 38, 1, 2, 3, 13, 20, 38, 1, 2, 3, 13, 20, 25, 38, 1, 2, 3, 13, 20, 38, 1, 2, 3, 13, 20, 26, 38, 3, 13, 38, 3, 9, 1, 2, 4, 6, 9, 11, 12, 15, 26, 2, 42, 21, 13, 37, 7, 8, 16, 23, 7, 8, 16, 23, 6, 7, 8, 16, 23, 7, 8, 16, 17, 23, 34, 4, 7, 8, 23, 7, 8, 16, 23, 2, 7, 23, 7, 8, 23, 7, 8, 23, 7, 8, 23, 7, 8, 23, 7, 23, 2, 7, 8, 23, 7, 8, 13, 23, 21, 6, 42, 42, 4, 1, 2, 42, 1, 2, 3, 4, 5, 6, 7, 8, 9, 11, 12, 13, 14, 15, 16, 17, 18, 19, 20, 21, 22, 23, 24, 25, 28, 31, 34, 2, 3, 4, 8, 9, 14, 15, 19, 2, 3, 17, 23, 7, 9, 11, 1, 3, 23, 31, 2, 3, 4, 8, 9, 14, 15, 2, 3, 6, 17, 21, 23, 9, 11, 17, 24, 2, 9, 11, 11, 4, 7, 1, 2, 3, 4, 5, 7, 8, 9, 14, 15, 16, 24, 2, 3, 4, 7, 8, 9, 14, 15, 2, 3, 4, 6, 8, 9, 14, 15, 4, 8, 9, 14, 3, 41, 8, 37, 2, 3, 4, 6, 13, 17, 21, 23, 1, 2, 3, 4, 6, 17, 21, 23, 9, 11, 18, 19, 9, 11, 4, 9, 11, 19, 9, 11, 11, 9, 11, 5, 11, 9, 9, 36, 1, 2, 3, 5, 6, 11, 18, 23, 24, 25, 27, 5, 6, 18, 24, 18, 18, 24, 1, 2, 14, 18, 23, 5, 18, 24, 6, 1, 2, 3, 4, 5, 9, 10, 12, 17, 18, 19, 21, 22, 25, 26, 30, 34, 35, 37, 3, 7, 10, 16, 35, 12, 37, 3, 17, 25, 35, 3, 10, 35, 35, 2, 12, 19, 34, 2, 34, 9, 14, 37, 37, 37, 3, 10, 35, 3, 10, 35, 3, 9, 10, 21, 1, 8, 15, 17, 22, 15, 5, 9, 15, 35, 3, 5, 34, 35, 35, 35, 3, 4, 22, 3, 17, 8, 2, 10, 13, 40, 10, 12, 14, 26, 40, 2, 3, 4, 8, 16, 21, 23, 28, 8, 34, 31, 2, 3, 5, 9, 10, 11, 14, 18, 19, 20, 24, 15, 24, 25, 9, 9, 4, 35, 27, 2, 27, 12, 27, 3, 7, 27, 27, 27, 27, 27, 1, 2, 3, 6, 9, 10, 11, 17, 25, 37, 37, 37, 16, 37, 8, 25, 14, 2, 4, 24, 18, 42, 17, 18, 17, 18, 3, 3, 18, 18, 10, 18, 18, 18, 2, 4, 8, 11, 15, 24, 33, 35, 1, 4, 42, 33, 33, 33, 33, 4, 42, 33, 33, 33, 4, 42, 4, 14, 42, 4, 42, 2, 32, 1, 2, 3, 6, 8, 9, 10, 11, 12, 19, 25, 27, 31, 34, 35, 6, 31, 31, 31, 31, 3, 31, 13, 31, 9, 11, 27, 1, 34, 31, 31, 31, 16, 31, 1, 31, 31, 31, 31, 27, 1, 2, 3, 4, 5, 6, 7, 8, 10, 11, 12, 14, 16, 18, 21, 22, 23, 24, 26, 27, 31, 33, 34, 36, 38, 9, 34, 8, 1, 3, 11, 20, 34, 10, 10, 3, 34, 3, 34, 3, 9, 34, 34, 14, 2, 12, 20, 8, 14, 14, 14, 35, 2, 15, 42, 22, 12, 32, 9, 10, 2, 4, 5, 6, 8, 9, 10, 15, 22, 27, 30, 33, 33, 15, 15, 15, 8, 37, 1, 4, 22, 22, 4, 10, 22, 22, 22, 23, 22, 23, 1, 2, 3, 4, 6, 8, 10, 18, 21, 26, 28, 31, 1, 4, 8, 26, 28, 29, 26, 36, 2, 14, 2, 1, 9, 21, 3, 40, 2, 3, 2, 10, 1, 7, 15, 23, 15, 15, 15, 8, 1, 8, 25, 18, 26, 25, 4, 10, 2, 9, 15, 2, 27, 37, 37, 31, 31, 3, 6, 31, 6, 31, 31, 24, 31, 1, 3, 13, 1, 2, 3, 4, 5, 7, 9, 10, 11, 14, 22, 24, 30, 10, 32, 1, 2, 4, 5, 9, 10, 11, 15, 17, 19, 24, 32, 1, 28, 5, 34, 1, 2, 4, 5, 9, 10, 11, 15, 17, 19, 23, 24, 32, 35, 1, 26, 1, 6, 22, 26, 35, 2, 22, 35, 36, 36, 1, 6, 8, 10, 11, 15, 17, 19, 20, 22, 32, 36, 1, 6, 8, 10, 11, 15, 19, 22, 32, 36, 1, 6, 8, 9, 10, 11, 15, 17, 19, 21, 22, 32, 36, 5, 36, 1, 16, 26, 21, 22, 42, 1, 3, 32, 32, 1, 6, 8, 10, 11, 15, 19, 22, 32, 36, 1, 8, 10, 11, 15, 17, 19, 22, 25, 32, 36, 1, 8, 9, 10, 11, 13, 14, 15, 19, 20, 21, 22, 32, 36, 36, 5, 30, 4, 1, 2, 3, 5, 15, 17, 19, 31, 36, 1, 2, 3, 5, 15, 19, 31, 36, 1, 2, 3, 4, 5, 9, 11, 15, 17, 19, 22, 31, 32, 36, 1, 2, 3, 5, 15, 17, 18, 19, 24, 31, 36, 1, 2, 3, 5, 15, 17, 19, 22, 31, 36, 1, 2, 3, 5, 11, 14, 15, 17, 19, 31, 36, 1, 22, 22, 34, 34, 7, 34, 16, 24, 26, 7, 15, 25, 1, 37, 1, 26, 26, 26, 23, 23, 1, 2, 4, 1, 4, 1, 2, 4, 5, 9, 11, 12, 14, 15, 20, 23, 24, 26, 36, 1, 11, 22, 2, 27, 9, 28, 24, 15, 15, 9, 3, 6, 9, 10, 21, 28, 3, 1, 3, 9, 9, 9, 3, 21, 2, 3, 6, 3, 3, 22, 3, 6, 24, 1, 21, 34, 1, 2, 3, 5, 10, 14, 18, 19, 21, 25, 31, 1, 2, 3, 5, 18, 19, 25, 1, 2, 3, 4, 5, 10, 17, 18, 19, 21, 23, 25, 26, 34, 5, 21, 8, 25, 36, 1, 2, 3, 4, 5, 6, 7, 8, 9, 10, 11, 13, 14, 15, 16, 17, 18, 20, 22, 23, 24, 26, 28, 29, 30, 32, 35, 1, 2, 3, 4, 7, 8, 4, 6, 7, 11, 12, 14, 17, 25, 4, 6, 12, 14, 17, 25, 9, 1, 6, 9, 26, 2, 4, 6, 13, 14, 17, 23, 25, 1, 2, 8, 1, 2, 8, 12, 14, 2, 8, 14, 3, 4, 29, 3, 4, 12, 29, 1, 8, 4, 7, 1, 4, 6, 14, 17, 23, 25, 4, 6, 14, 17, 23, 25, 9, 9, 2, 6, 28, 2, 8, 28, 2, 7, 3, 6, 26, 1, 2, 3, 4, 5, 6, 7, 8, 9, 10, 11, 13, 14, 15, 16, 18, 20, 22, 23, 24, 26, 28, 29, 30, 32, 35, 37, 1, 3, 7, 9, 12, 7, 9, 14, 1, 2, 8, 14, 1, 2, 5, 8, 13, 14, 20, 3, 29, 2, 3, 9, 29, 2, 3, 8, 10, 15, 16, 1, 29, 20, 8, 36, 2, 28, 1, 2, 8, 28, 4, 6, 7, 12, 14, 16, 17, 25, 4, 6, 14, 17, 25, 4, 6, 14, 17, 23, 25, 4, 6, 12, 14, 17, 25, 4, 6, 14, 16, 17, 25, 7, 12, 1, 32, 30, 30, 30, 6, 38, 22, 14, 15, 38, 2, 2, 13, 27, 1, 2, 20, 37, 22, 34, 18, 21, 3, 9, 19, 35, 17, 17, 11, 17, 2, 26, 1, 23, 21, 1, 42, 3, 42, 1, 7, 8, 42, 7, 10, 14, 7, 8, 14, 22, 34, 15, 15, 15, 19, 10, 38, 3, 6, 1, 18, 25, 3, 22, 27, 27, 27, 29, 5, 10, 10, 36, 1, 1, 3, 1, 25, 1, 3, 17, 1, 3, 19, 1, 19, 21, 1, 1, 10, 23, 18, 38, 18, 8, 30, 2, 8, 14, 30, 13, 17, 23, 23, 38, 2, 6, 13, 17, 13, 17, 25, 1, 3, 13, 20, 38, 2, 3, 13, 20, 38, 1, 35, 3, 13, 20, 38, 1, 2, 3, 13, 20, 38, 2, 3, 13, 19, 20, 38, 38, 13, 38, 1, 38, 15, 38, 38, 3, 13, 25, 2, 13, 12, 9, 14, 8, 14, 14, 14, 8, 8, 27, 7, 25, 15, 15, 37, 37, 5, 16, 24, 27, 27, 16, 27, 27, 16, 27, 14, 16, 27, 14, 15, 16, 7, 9, 9, 9, 17, 9, 9, 7, 9, 9, 9, 24, 3, 13, 20, 24, 13, 24, 3, 3, 1, 5, 13, 5, 13, 13, 3, 13, 17, 3, 40, 7, 8, 23, 7, 8, 23, 7, 8, 23, 7, 8, 23, 7, 8, 23, 7, 8, 22, 23, 23, 37, 37, 2, 37, 27, 7, 19, 27, 3, 16, 21, 2, 25, 30, 21, 1, 42, 1, 42, 42, 35, 2, 3, 4, 5, 7, 8, 9, 14, 15, 24, 2, 3, 4, 8, 9, 14, 15, 1, 2, 3, 4, 8, 9, 14, 15, 14, 42, 2, 14, 2, 3, 4, 6, 17, 23, 2, 3, 6, 17, 21, 23, 2, 3, 4, 17, 21, 23, 4, 9, 11, 16, 18, 9, 11, 22, 9, 11, 9, 11, 9, 11, 11, 12, 11, 2, 2, 13, 28, 2, 8, 28, 29, 2, 12, 28, 29, 1, 2, 8, 28, 2, 8, 28, 2, 8, 28, 29, 10, 8, 3, 4, 8, 12, 8, 14, 11, 11, 11, 1, 34, 2, 4, 10, 12, 12, 17, 24, 18, 18, 24, 24, 24, 5, 5, 18, 18, 13, 18, 5, 1, 18, 37, 37, 2, 3, 11, 13, 21, 37, 2, 37, 2, 3, 10, 21, 37, 3, 21, 3, 17, 2, 3, 11, 17, 2, 25, 1, 25, 25, 2, 28, 3, 28, 3, 28, 28, 28, 2, 1, 13, 14, 1, 2, 4, 5, 7, 8, 11, 13, 15, 1, 3, 4, 10, 35, 3, 10, 35, 2, 3, 4, 7, 8, 9, 10, 11, 13, 15, 16, 24, 28, 29, 35, 1, 2, 3, 5, 6, 9, 10, 13, 14, 18, 27, 29, 42, 37, 15, 36, 26, 2, 4, 9, 10, 12, 12, 5, 11, 1, 5, 4, 9, 10, 12, 40, 3, 14, 16, 1, 2, 3, 4, 7, 8, 10, 15, 19, 23, 29, 1, 3, 5, 10, 35, 3, 10, 30, 1, 29, 1, 2, 5, 9, 10, 15, 17, 19, 24, 32, 1, 2, 4, 5, 9, 10, 11, 13, 15, 17, 19, 24, 31, 32, 1, 3, 4, 10, 10, 9, 1, 2, 4, 5, 7, 8, 11, 13, 15, 23, 24, 38, 2, 3, 4, 7, 8, 9, 10, 11, 13, 15, 16, 24, 28, 29, 35, 1, 2, 3, 9, 10, 13, 14, 16, 18, 22, 27, 1, 15, 39, 10, 19, 10, 19, 5, 1, 2, 3, 7, 8, 10, 12, 15, 29, 1, 29, 1, 2, 5, 9, 10, 11, 15, 17, 19, 24, 32, 1, 2, 5, 9, 10, 15, 17, 19, 24, 32, 1, 2, 5, 9, 10, 11, 15, 17, 19, 24, 32, 3, 10, 11, 3, 10, 18, 10, 19, 11, 3, 10, 16, 17, 36, 32, 36, 1, 2, 7, 8, 13, 17, 22, 31, 10, 11, 3, 10, 15, 1, 2, 3, 10, 19, 1, 2, 3, 5, 10, 19, 1, 2, 3, 36, 37, 2, 17, 26, 36, 1, 2, 3, 7, 37, 2, 3, 5, 10, 22, 2, 3, 5, 22, 2, 3, 2, 3, 32, 3, 32, 1, 2, 3, 4, 5, 6, 8, 9, 10, 11, 13, 14, 15, 16, 17, 19, 20, 21, 22, 24, 26, 31, 32, 36, 1, 2, 3, 5, 6, 8, 9, 10, 11, 15, 16, 17, 19, 20, 21, 22, 24, 26, 31, 32, 36, 1, 2, 3, 5, 7, 10, 13, 17, 18, 19, 24, 25, 26, 31, 37, 1, 2, 3, 5, 7, 10, 13, 17, 18, 19, 21, 24, 25, 26, 31, 37, 1, 2, 3, 5, 6, 8, 9, 10, 11, 13, 15, 16, 17, 19, 20, 21, 22, 24, 26, 31, 32, 36, 19, 1, 2, 3, 4, 5, 7, 10, 13, 17, 18, 19, 21, 24, 25, 26, 31, 37, 1, 3, 5, 15, 36, 1, 10, 19, 1, 1, 8, 17, 1, 2, 3, 5, 7, 10, 13, 18, 19, 24, 26, 37, 1, 2, 3, 5, 7, 10, 13, 17, 18, 19, 24, 27, 31, 37, 11, 25, 3, 11, 1, 32, 36, 32, 36, 1, 12, 31, 3, 10, 15, 1, 2, 3, 5, 10, 19, 1, 2, 3, 10, 19, 2, 11, 2, 3, 5, 10, 22, 2, 3, 5, 22, 26, 32, 3, 32, 1, 2, 3, 5, 6, 8, 9, 10, 11, 13, 15, 16, 17, 19, 20, 21, 22, 24, 26, 31, 32, 36, 1, 2, 3, 5, 6, 8, 9, 10, 11, 13, 15, 16, 17, 19, 20, 21, 22, 24, 26, 31, 32, 36, 1, 2, 3, 5, 6, 8, 9, 10, 11, 13, 15, 16, 17, 19, 20, 21, 22, 24, 26, 31, 32, 36, 1, 3, 5, 6, 8, 9, 11, 15, 24, 36, 1, 1, 19, 1, 2, 3, 5, 6, 18, 19, 21, 25, 1, 2, 3, 5, 18, 19, 21, 25, 31, 1, 2, 3, 5, 12, 18, 19, 21, 25, 31, 1, 2, 25, 7, 26, 40, 2, 1, 2, 3, 5, 6, 7, 10, 13, 19, 26, 40, 2, 3, 4, 5, 6, 7, 10, 13, 17, 19, 26, 40, 1, 2, 3, 5, 6, 7, 13, 19, 26, 40, 7, 26, 7, 26, 1, 2, 3, 5, 6, 7, 10, 19, 26, 36, 40, 2, 3, 5, 6, 7, 13, 19, 26, 40, 1, 2, 3, 5, 6, 7, 13, 18, 19, 26, 40, 34, 2, 3, 7, 16, 28, 40, 2, 3, 7, 12, 28, 33, 40, 1, 2, 3, 7, 28, 40, 2, 3, 7, 28, 33, 40, 1, 2, 3, 7, 28, 33, 40, 31, 1, 2, 3, 7, 18, 28, 33, 40, 2, 3, 7, 14, 28, 40, 2, 3, 7, 28, 40, 1, 2, 3, 7, 28, 33, 40, 2, 3, 7, 28, 40, 34, 1, 12, 18, 19, 1, 19, 4, 12, 16, 20, 21, 2, 4, 12, 16, 20, 21, 4, 6, 12, 16, 20, 21, 2, 4, 12, 16, 20, 21, 4, 12, 16, 20, 21, 2, 4, 12, 16, 20, 21, 4, 6, 12, 16, 20, 21, 20, 4, 12, 16, 20, 21, 4, 12, 13, 16, 20, 21, 4, 6, 12, 16, 20, 21, 4, 12, 16, 20, 21, 4, 12, 16, 20, 21, 4, 12, 16, 20, 21, 2, 4, 12, 16, 20, 21, 32, 37, 5, 2, 5, 2, 30, 8, 1, 3, 8, 9, 13, 15, 17, 19, 22, 24, 33, 1, 2, 3, 8, 9, 11, 14, 18, 24, 26, 30, 1, 4, 8, 9, 10, 12, 13, 17, 18, 20, 23, 28, 29, 8, 28, 18, 1, 5, 8, 22, 30, 27, 1, 2, 3, 6, 8, 12, 14, 15, 16, 17, 18, 19, 23, 25, 26, 29, 6, 13, 6, 33, 33, 15, 26, 18, 33, 33, 33, 33, 5, 12, 15, 1, 24, 39, 1, 24, 39, 1, 2, 3, 8, 12, 15, 16, 24, 39, 39, 1, 3, 8, 12, 16, 24, 39, 14, 16, 1, 9, 12, 15, 24, 19, 19, 2, 35, 35, 35, 35, 40, 4, 6, 14, 17, 25, 4, 6, 14, 17, 25, 2, 1, 2, 3, 4, 5, 6, 7, 12, 14, 15, 17, 18, 23, 25, 27, 28, 33, 35, 40, 35, 40, 35, 7, 26, 40, 7, 40, 1, 3, 4, 6, 7, 14, 17, 23, 25, 1, 3, 4, 6, 14, 17, 23, 25, 2, 2, 13, 24, 1, 2, 3, 4, 5, 6, 7, 13, 17, 19, 26, 40, 1, 2, 3, 5, 6, 7, 10, 19, 26, 40, 1, 2, 3, 7, 9, 16, 28, 40, 2, 3, 7, 28, 33, 40, 1, 36, 1, 2, 3, 5, 6, 7, 8, 10, 13, 19, 26, 36, 40, 1, 2, 3, 5, 7, 16, 17, 28, 40, 1, 2, 3, 5, 7, 28, 40, 41, 36, 36, 9, 9, 9, 15, 17, 3, 17, 17, 40, 1, 17, 24, 3, 9, 17, 5, 4, 4, 3, 5, 1, 8, 8, 2, 28, 2, 25, 28, 2, 14, 28, 1, 2, 28, 2, 3, 28, 1, 2, 3, 8, 28, 4, 13, 15, 42, 25, 36, 25, 26, 11, 25, 3, 22, 1, 2, 12, 14, 25, 26, 40, 1, 40, 3, 40, 40, 19, 14, 8, 17, 42, 10, 2, 24, 10, 7, 36, 20, 1, 1, 1, 19, 1, 10, 1, 1, 19, 1, 1, 9, 3, 17, 3, 5, 17, 3, 17, 17, 18, 30, 3, 10, 6, 7, 34, 10, 1, 3, 9, 26, 28, 12, 28, 19, 1, 2, 5, 9, 10, 11, 15, 17, 19, 24, 32, 28, 9, 26, 5, 16, 1, 2, 5, 9, 10, 11, 15, 17, 19, 24, 32, 2, 6, 7, 10, 39, 1, 2, 17, 31, 4, 6, 14, 17, 25, 4, 6, 14, 17, 25, 1, 2, 3, 4, 5, 6, 7, 12, 14, 17, 18, 23, 25, 27, 28, 30, 33, 35, 40, 35, 7, 1, 3, 4, 6, 14, 17, 23, 25, 1, 3, 4, 6, 14, 17, 23, 25, 2, 7, 16, 41, 2, 3, 7, 28, 33, 40, 2, 3, 7, 28, 33, 40, 1, 2, 3, 5, 7, 10, 28, 40, 41, 1, 2, 3, 5, 7, 28, 40, 41, 4, 6, 14, 17, 25, 4, 6, 14, 17, 25, 1, 2, 3, 4, 5, 6, 7, 12, 14, 15, 17, 18, 25, 27, 28, 33, 35, 40, 35, 40, 1, 3, 4, 6, 13, 14, 17, 23, 25, 1, 3, 4, 6, 14, 17, 25, 2, 3, 7, 28, 40, 2, 3, 7, 28, 40, 2, 3, 5, 7, 9, 17, 28, 40, 2, 3, 5, 7, 9, 28, 40, 41, 7, 30, 8, 17, 1, 13, 17, 24, 17, 24, 17, 9, 17, 2, 17, 24, 17, 13, 17, 6, 6, 6, 22, 23, 22, 40, 9, 27, 1, 3, 13, 22, 26, 35, 1, 29, 35, 1, 7, 16, 1, 9, 35, 7, 14, 18, 1, 7, 14, 16, 1, 14, 22, 17, 5, 17, 7, 10, 39, 27, 40, 21, 21, 7, 12, 6, 7, 12, 33, 3, 6, 7, 12, 25, 33, 1, 7, 12, 7, 12, 3, 6, 7, 12, 33, 6, 7, 12, 33, 6, 7, 12, 14, 22, 33, 12, 33, 12, 33, 1, 6, 7, 12, 33, 6, 7, 12, 15, 33, 7, 8, 12, 7, 12, 3, 6, 7, 12, 33, 6, 7, 12, 33, 6, 7, 12, 33, 8, 12, 33, 12, 33, 3, 36, 1, 8, 2, 8, 7, 30, 7, 30, 3, 7, 30, 1, 7, 30, 7, 30, 4, 5, 39, 8, 5, 9, 4, 5, 7, 9, 16, 4, 5, 9, 5, 6, 34, 1, 4, 5, 7, 9, 21, 5, 6, 34, 22, 32, 20, 32, 15, 1, 8, 10, 11, 13, 15, 17, 19, 20, 22, 32, 36, 1, 6, 8, 10, 11, 15, 17, 19, 21, 22, 32, 36, 1, 6, 8, 9, 10, 11, 15, 16, 19, 21, 22, 24, 32, 36, 32, 23, 4, 11, 12, 7, 23, 2, 23, 2, 4, 6, 4, 37, 4, 1, 2, 3, 5, 15, 17, 19, 22, 31, 36, 1, 2, 3, 5, 15, 19, 26, 31, 36, 1, 2, 3, 5, 12, 15, 17, 19, 26, 31, 36, 10, 5, 4, 5, 14, 20, 1, 25, 1, 3, 6, 9, 11, 13, 30, 26, 1, 2, 5, 7, 8, 14, 24, 8, 42, 1, 2, 8, 12, 14, 2, 8, 14, 1, 1, 2, 5, 8, 13, 14, 1, 2, 8, 12, 13, 14, 2, 8, 14, 2, 8, 26, 26, 1, 7, 9, 14, 16, 1, 8, 1, 2, 7, 8, 11, 12, 14, 16, 18, 21, 26, 31, 40, 1, 1, 16, 1, 8, 16, 7, 20, 26, 40, 4, 7, 26, 9, 16, 17, 3, 7, 12, 7, 35, 39, 40, 35, 39, 1, 6, 35, 35, 35, 40, 35, 13, 5, 13, 25, 20, 4, 1, 6, 13, 26, 35, 1, 26, 42, 1, 3, 6, 18, 26, 35, 1, 2, 26, 6, 26, 1, 7, 16, 1, 7, 16, 25, 34, 8, 22, 2, 14, 29, 34, 2, 29, 29, 22, 22, 22, 2, 29, 29, 7, 29, 12, 29, 39, 3, 24, 38, 9, 22, 24, 7, 22, 24, 24, 24, 1, 5, 26, 26, 12, 2, 25, 2, 30, 23, 11, 11, 2, 4, 9, 10, 12, 2, 4, 9, 10, 12, 40, 4, 9, 10, 12, 2, 3, 4, 9, 10, 12, 38, 1, 3, 15, 3, 15, 3, 10, 15, 1, 2, 3, 9, 15, 1, 3, 15, 19, 1, 3, 7, 15, 3, 10, 15, 3, 15, 38, 24, 17, 8, 13, 25, 24, 24, 5, 18, 18, 6, 24, 15, 6, 38, 2, 39, 1, 11, 3, 4, 6, 29, 3, 4, 5, 29, 3, 4, 29, 3, 27, 29, 6, 29, 29, 18, 3, 4, 6, 29, 3, 4, 29, 3, 4, 29, 4, 4, 13, 27, 27, 27, 27, 21, 2, 3, 10, 21, 3, 10, 21, 3, 6, 32, 10, 19, 3, 10, 19, 1, 2, 3, 10, 19, 1, 3, 10, 19, 11, 19, 1, 3, 10, 19, 20, 1, 3, 6, 10, 19, 1, 3, 10, 19, 3, 10, 19, 1, 3, 5, 10, 19, 1, 3, 10, 19, 1, 2, 3, 10, 19, 1, 3, 6, 10, 19, 6, 25, 26, 1, 3, 10, 19, 28, 36, 28, 1, 6, 6, 6, 38, 38, 10, 21, 10, 25, 22, 2, 8, 18, 8, 14, 1, 15, 29, 1, 15, 19, 29, 1, 6, 15, 29, 1, 3, 15, 29, 1, 15, 29, 6, 29, 3, 29, 1, 29, 12, 29, 28, 28, 28, 6, 1, 2, 3, 20, 34, 2, 3, 20, 34, 1, 3, 6, 8, 20, 34, 1, 3, 6, 20, 25, 34, 1, 3, 20, 34, 1, 3, 20, 34, 1, 3, 19, 20, 34, 25, 14, 24, 7, 12, 1, 5, 6, 7, 12, 22, 33, 5, 6, 7, 12, 33, 14, 7, 12, 17, 3, 7, 12, 1, 4, 5, 6, 7, 8, 10, 12, 14, 16, 19, 20, 22, 31, 33, 1, 4, 5, 6, 7, 8, 10, 12, 14, 16, 18, 19, 20, 31, 33, 35, 30, 1, 4, 5, 6, 7, 8, 10, 12, 14, 16, 18, 19, 20, 28, 31, 33, 35, 4, 12, 16, 20, 4, 7, 9, 16, 20, 12, 33, 4, 5, 12, 16, 20, 21, 21, 21, 4, 21, 15, 21, 1, 2, 4, 7, 8, 11, 12, 13, 15, 23, 1, 8, 30, 25, 26, 1, 2, 3, 6, 9, 10, 11, 13, 14, 18, 27, 2, 42, 1, 3, 12, 42, 1, 2, 4, 8, 9, 11, 12, 14, 15, 20, 23, 24, 27, 1, 3, 12, 16, 20, 21, 38, 1, 4, 6, 12, 16, 20, 21, 12, 16, 20, 21, 1, 3, 4, 7, 8, 10, 15, 29, 1, 29, 16, 20, 21, 6, 16, 20, 21, 1, 2, 4, 5, 9, 10, 11, 13, 15, 17, 19, 24, 32, 11, 12, 16, 20, 21, 1, 2, 12, 16, 20, 21, 3, 4, 5, 6, 10, 16, 3, 4, 6, 10, 3, 4, 5, 6, 10, 1, 3, 6, 8, 9, 34, 1, 6, 12, 34, 1, 3, 6, 8, 22, 34, 13, 13, 13, 20, 13, 13, 8, 13, 13, 16, 13, 13, 3, 39, 38, 1, 34, 34, 1, 27, 27, 4, 18, 4, 18, 4, 18, 37, 3, 4, 13, 1, 6, 2, 3, 6, 5, 6, 4, 6, 16, 26, 38, 1, 38, 38, 2, 38, 38, 38, 38, 3, 38, 5, 38, 6, 9, 22, 28, 29, 9, 29, 29, 29, 1, 3, 20, 34, 1, 2, 3, 6, 9, 10, 15, 18, 19, 20, 29, 34, 1, 3, 6, 10, 15, 18, 19, 20, 29, 34, 38, 1, 3, 6, 10, 15, 19, 20, 29, 34, 38, 1, 15, 29, 1, 3, 20, 34, 1, 15, 29, 1, 3, 6, 20, 34, 1, 3, 6, 20, 34, 1, 6, 9, 15, 29, 1, 15, 29, 1, 4, 15, 18, 29, 1, 15, 29, 1, 15, 29, 6, 10, 29, 1, 3, 5, 20, 34, 3, 20, 34, 3, 20, 34, 3, 6, 13, 20, 34, 1, 3, 6, 17, 20, 34, 1, 3, 7, 20, 34, 25, 7, 12, 5, 6, 7, 10, 12, 33, 5, 6, 7, 10, 12, 33, 2, 7, 12, 3, 7, 12, 1, 4, 5, 6, 7, 8, 10, 12, 14, 16, 18, 19, 20, 22, 28, 31, 33, 38, 1, 4, 5, 6, 7, 8, 10, 12, 14, 16, 19, 20, 22, 31, 33, 1, 4, 5, 6, 7, 8, 10, 12, 14, 16, 18, 19, 20, 22, 23, 31, 33, 35, 4, 12, 16, 20, 4, 12, 16, 20, 27, 12, 23, 33, 4, 5, 12, 16, 20, 7, 12, 10, 5, 6, 7, 12, 22, 33, 5, 6, 7, 12, 33, 1, 7, 12, 7, 12, 1, 4, 5, 6, 7, 8, 10, 12, 14, 16, 19, 20, 28, 31, 33, 1, 4, 5, 6, 7, 8, 10, 12, 14, 16, 19, 20, 31, 33, 1, 4, 5, 6, 7, 8, 10, 12, 14, 16, 18, 19, 20, 31, 33, 35, 4, 12, 16, 20, 4, 12, 16, 20, 1, 12, 33, 4, 5, 12, 16, 20, 1, 2, 3, 13, 13, 3, 12, 13, 16, 20, 21, 3, 12, 16, 20, 21, 3, 13, 5, 12, 16, 20, 21, 3, 10, 13, 9, 13, 9, 16, 20, 21, 16, 20, 21, 5, 16, 20, 21, 4, 12, 16, 20, 21, 13, 12, 16, 20, 21, 6, 12, 16, 20, 21, 1, 12, 16, 20, 21, 8, 16, 20, 21, 16, 20, 21, 1, 12, 16, 20, 21, 1, 6, 9, 12, 16, 20, 21, 13, 13, 13, 20, 26, 2, 13, 1, 6, 13, 2, 23, 6, 23, 6, 15, 6, 12, 15, 4, 12, 12, 1, 12, 14, 12, 22, 37, 37, 37, 37, 1, 7, 18, 3, 18, 3, 18, 3, 5, 15, 24, 37, 4, 8, 6, 14, 1, 14, 14, 11, 14, 5, 14, 12, 14, 14, 4, 10, 2, 8, 23, 1, 37, 9, 32, 2, 11, 2, 11, 2, 11, 2, 11, 11, 2, 11, 2, 11, 22, 5, 5, 30, 1, 8, 25, 38, 8, 25, 15, 39, 8, 22, 22, 6, 6, 6, 8, 14, 18, 27, 18, 1, 18, 18, 18, 18, 18, 33, 5, 39, 13, 39, 22, 22, 27, 27, 2, 11, 1, 15, 33, 33, 33, 6, 33, 17, 35, 2, 35, 35, 7, 35, 1, 35, 4, 42, 1, 4, 42, 4, 17, 42, 4, 23, 42, 4, 22, 1, 3, 18, 2, 10, 1, 2, 30, 8, 23, 2, 7, 8, 12, 30, 30, 1, 2, 3, 5, 7, 10, 13, 18, 19, 24, 26, 31, 1, 2, 3, 5, 7, 10, 13, 17, 18, 19, 24, 26, 31, 36, 9, 15, 8, 3, 31, 31, 3, 31, 1, 31, 1, 3, 31, 6, 9, 31, 1, 3, 31, 31, 31, 31, 2, 31, 31, 31, 1, 31, 6, 31, 31, 1, 35, 10, 19, 3, 11, 2, 18, 32, 36, 32, 36, 3, 10, 15, 1, 3, 10, 19, 1, 3, 10, 19, 2, 11, 2, 3, 5, 22, 1, 2, 3, 5, 10, 22, 3, 20, 32, 3, 32, 1, 2, 3, 5, 6, 8, 9, 10, 11, 13, 15, 16, 17, 19, 20, 21, 22, 24, 26, 31, 32, 36, 1, 2, 3, 5, 6, 8, 9, 10, 11, 13, 15, 16, 17, 19, 20, 21, 22, 24, 26, 31, 32, 36, 4, 5, 9, 37, 1, 4, 5, 9, 11, 21, 1, 2, 3, 4, 5, 6, 8, 9, 10, 11, 13, 14, 15, 16, 17, 19, 20, 21, 22, 23, 24, 26, 31, 32, 36, 25, 19, 1, 3, 5, 15, 32, 36, 1, 9, 19, 1, 12, 1, 2, 3, 4, 5, 9, 10, 11, 14, 22, 24, 36, 5, 1, 2, 5, 9, 10, 11, 15, 17, 19, 24, 32, 2, 4, 32, 21, 21, 32, 1, 8, 10, 11, 15, 17, 19, 21, 22, 32, 36, 1, 4, 6, 8, 9, 10, 11, 15, 19, 20, 21, 22, 24, 32, 36, 1, 2, 3, 5, 8, 13, 15, 17, 19, 26, 31, 36, 1, 2, 3, 5, 15, 17, 19, 22, 31, 36, 1, 2, 3, 5, 10, 15, 17, 19, 22, 31, 36, 2, 4, 26, 40, 2, 40, 26, 26, 26, 40, 26, 37, 26, 40, 2, 9, 27, 1, 2, 11, 27, 27, 3, 21, 1, 2, 3, 5, 13, 18, 19, 25, 1, 2, 3, 5, 18, 19, 21, 25, 1, 2, 3, 5, 18, 19, 21, 23, 24, 25, 31, 34, 37, 2, 3, 21, 1, 2, 3, 5, 9, 18, 19, 21, 25, 31, 1, 2, 3, 5, 17, 18, 19, 21, 25, 1, 2, 3, 4, 5, 7, 14, 17, 18, 19, 21, 23, 25, 31, 34, 1, 7, 21, 42, 26, 3, 12, 42, 9, 12, 9, 9, 3, 2, 3, 3, 3, 20, 21, 24, 3, 8, 3, 8, 12, 3, 34, 34, 34, 17, 34, 34, 7, 34, 19, 23, 1, 19, 23, 31, 33, 1, 2, 3, 6, 9, 10, 13, 14, 18, 23, 27, 24, 37, 27, 2, 3, 12, 16, 36, 2, 3, 16, 32, 36, 14, 36, 1, 3, 5, 8, 9, 15, 19, 32, 36, 1, 3, 5, 8, 15, 24, 32, 36, 1, 3, 5, 8, 9, 15, 32, 36, 1, 2, 3, 5, 7, 12, 15, 16, 24, 25, 32, 36, 40, 1, 36, 3, 16, 21, 32, 36, 1, 3, 5, 15, 32, 36, 4, 1, 3, 5, 9, 15, 32, 36, 33, 3, 33, 6, 26, 33, 29, 33, 33, 33, 6, 33, 2, 7, 13, 26, 2, 2, 1, 2, 3, 4, 5, 6, 7, 9, 19, 26, 40, 2, 3, 5, 6, 7, 13, 16, 20, 26, 40, 1, 2, 3, 4, 5, 6, 7, 9, 13, 26, 40, 2, 2, 6, 1, 2, 3, 5, 6, 7, 9, 13, 19, 26, 40, 1, 2, 3, 5, 6, 7, 13, 19, 20, 26, 40, 1, 2, 3, 5, 6, 7, 9, 10, 13, 17, 19, 26, 40, 2, 26, 26, 1, 2, 3, 5, 7, 9, 18, 28, 33, 40, 41, 1, 7, 40, 1, 2, 3, 7, 28, 33, 40, 2, 3, 7, 18, 28, 40, 2, 3, 5, 7, 28, 40, 1, 2, 3, 5, 7, 28, 40, 40, 1, 2, 3, 5, 7, 17, 28, 40, 1, 7, 40, 7, 40, 5, 2, 3, 7, 28, 40, 2, 3, 7, 28, 40, 1, 2, 3, 5, 7, 27, 28, 33, 40, 41, 2, 3, 5, 7, 28, 40, 14, 17, 17, 17, 17, 2, 35, 22, 35, 1, 12, 33, 12, 33, 12, 33, 12, 33, 12, 33, 12, 33, 1, 4, 12, 27, 29, 33, 12, 33, 12, 33, 12, 33, 12, 33, 12, 14, 33, 12, 33, 12, 25, 34, 3, 19, 19, 19, 15, 19, 19, 19, 19, 19, 31, 19, 19, 4, 4, 4, 4, 4, 5, 6, 7, 12, 16, 20, 21, 29, 31, 4, 5, 6, 12, 16, 20, 21, 4, 5, 11, 12, 16, 20, 21, 4, 6, 12, 16, 20, 21, 4, 6, 12, 16, 20, 21, 4, 5, 6, 7, 12, 16, 20, 21, 1, 4, 5, 7, 12, 16, 19, 20, 21, 29, 31, 4, 5, 12, 16, 20, 4, 5, 12, 16, 20, 29, 4, 14, 16, 20, 24, 4, 12, 16, 20, 4, 5, 12, 16, 20, 12, 16, 20, 21, 12, 16, 20, 21, 12, 16, 20, 21, 16, 20, 21, 16, 20, 21, 12, 16, 20, 21, 23, 12, 16, 20, 21, 15, 15, 9, 12, 14, 14, 2, 18, 22, 14, 16, 7, 39, 26, 14, 2, 36, 39, 12, 5, 5, 1, 21, 20, 1, 2, 5, 8, 22, 2, 22, 2, 4, 24, 20, 13, 13, 1, 13, 13, 1, 2, 3, 5, 6, 8, 9, 11, 13, 16, 20, 24, 26, 28, 35, 2, 8, 6, 37, 8, 12, 11, 11, 11, 11, 11, 2, 3, 4, 7, 8, 9, 10, 11, 13, 15, 16, 24, 28, 29, 35, 2, 29, 2, 3, 4, 7, 8, 9, 10, 11, 13, 15, 16, 20, 24, 28, 29, 35, 8, 28, 9, 2, 6, 9, 20, 36, 37, 2, 2, 20, 32, 3, 32, 2, 5, 26, 32, 36, 2, 26, 32, 36, 2, 6, 2, 37, 2, 3, 26, 32, 36, 2, 7, 1, 2, 20, 32, 3, 28, 32, 2, 9, 13, 20, 26, 32, 36, 1, 2, 3, 26, 32, 36, 1, 2, 3, 15, 26, 32, 36, 2, 20, 1, 2, 3, 8, 9, 11, 13, 14, 24, 26, 3, 11, 9, 24, 1, 2, 3, 7, 8, 9, 10, 11, 13, 14, 24, 26, 32, 3, 18, 4, 6, 14, 17, 25, 4, 6, 14, 17, 25, 1, 2, 4, 6, 14, 17, 23, 25, 1, 2, 3, 4, 6, 14, 17, 23, 25, 1, 2, 3, 4, 6, 14, 17, 23, 25, 1, 4, 6, 14, 17, 25, 4, 6, 14, 17, 25, 14, 25, 1, 4, 6, 12, 14, 17, 25, 1, 2, 4, 6, 14, 17, 23, 25, 1, 4, 6, 14, 17, 23, 25, 6, 30, 4, 7, 12, 7, 12, 7, 12, 7, 12, 7, 12, 14, 7, 12, 7, 12, 21, 2, 7, 12, 7, 12, 7, 12, 23, 1, 17, 2, 14, 4, 2, 14, 14, 28, 38, 14, 11, 14, 4, 1, 1, 25, 5, 28, 1, 2, 3, 4, 5, 6, 7, 8, 9, 10, 11, 13, 14, 15, 16, 18, 20, 23, 24, 26, 28, 29, 35, 9, 28, 9, 9, 3, 18, 36, 1, 2, 8, 14, 1, 2, 7, 8, 9, 13, 14, 3, 4, 29, 1, 3, 29, 12, 2, 20, 36, 9, 2, 5, 8, 28, 2, 15, 28, 1, 2, 3, 5, 6, 8, 9, 11, 13, 14, 16, 20, 23, 24, 26, 28, 29, 2, 3, 4, 7, 8, 9, 10, 11, 13, 15, 16, 24, 28, 29, 35, 1, 5, 2, 3, 11, 26, 36, 2, 1, 2, 3, 8, 9, 10, 11, 13, 14, 18, 24, 26, 1, 37, 8, 4, 6, 7, 12, 14, 17, 25, 1, 4, 6, 14, 17, 18, 25, 1, 2, 4, 6, 14, 17, 23, 25, 1, 7, 12, 3, 4, 1, 4, 6, 14, 17, 25, 1, 3, 4, 6, 14, 17, 23, 25, 4, 6, 23, 39, 23, 4, 6, 14, 17, 25, 4, 6, 14, 17, 25, 1, 4, 6, 14, 17, 23, 25, 4, 1, 3, 4, 6, 14, 17, 23, 25, 1, 2, 4, 6, 14, 17, 23, 25, 7, 6, 7, 7, 9, 12, 23, 23, 23, 4, 4, 33, 15, 15, 2, 33, 33, 2, 5, 6, 8, 9, 23, 27, 33, 1, 2, 37, 2, 21, 21, 2, 3, 21, 21, 15, 1, 4, 7, 15, 15, 6, 1, 6, 34, 2, 10, 11, 21, 1, 37, 2, 3, 4, 5, 6, 10, 16, 22, 2, 3, 5, 22, 2, 3, 26, 2, 3, 5, 22, 2, 3, 5, 22, 2, 3, 2, 3, 11, 29, 2, 3, 5, 10, 22, 36, 2, 2, 3, 5, 22, 2, 3, 5, 22, 2, 3, 5, 2, 3, 5, 19, 22, 2, 3, 5, 8, 22, 2, 3, 5, 2, 3, 2, 3, 5, 20, 22, 2, 3, 5, 1, 4, 8, 9, 10, 17, 18, 20, 26, 28, 29, 18, 1, 4, 5, 8, 9, 10, 13, 17, 18, 26, 28, 29, 1, 10, 23, 24, 39, 11, 24, 39, 24, 39, 24, 24, 39, 1, 24, 39, 1, 24, 39, 22, 14, 38, 38, 30, 1, 2, 7, 30, 7, 30, 1, 7, 30, 7, 30, 7, 30, 7, 30, 6, 7, 30, 7, 30, 7, 30, 7, 30, 37, 37, 18, 26, 19, 26, 27, 1, 2, 6, 19, 2, 22, 1, 2, 4, 5, 6, 10, 13, 18, 26, 13, 13, 26, 2, 4, 26, 13, 3, 9, 21, 21, 34, 3, 10, 35, 18, 18, 14, 2, 14, 14, 14, 5, 6, 28, 2, 28, 28, 2, 14, 16, 1, 8, 27, 4, 5, 9, 14, 37, 9, 9, 42, 14, 39, 3, 11, 24, 39, 1, 3, 8, 16, 24, 39, 3, 22, 30, 24, 14, 15, 20, 8, 7, 17, 35, 1, 35, 35, 35, 1, 24, 1, 2, 3, 8, 9, 10, 13, 15, 17, 19, 22, 24, 27, 33, 24, 1, 4, 5, 8, 9, 10, 17, 18, 20, 26, 28, 32, 1, 2, 4, 8, 9, 10, 17, 18, 28, 32, 2, 8, 1, 2, 3, 9, 10, 13, 14, 18, 21, 23, 27, 33, 42, 36, 1, 2, 3, 9, 10, 13, 14, 18, 27, 42, 2, 36, 7, 8, 3, 14, 16, 36, 1, 15, 5, 5, 15, 14, 23, 24, 17, 4, 5, 5, 4, 25, 1, 39, 24, 3, 8, 13, 25, 3, 21, 6, 1, 14, 21, 24, 43, 34, 39, 8, 25, 11, 11, 11, 3, 3, 3], \"Freq\": [0.24230605886078185, 0.12925924711581446, 0.12925924711581446, 0.12925924711581446, 0.12925924711581446, 0.12925924711581446, 0.1565890026033363, 0.18367086922459241, 0.2943026172428826, 0.1981296288562612, 0.21348272587285372, 0.26949987555160104, 0.265610424942326, 0.21863837498632355, 0.2711886591217104, 0.21293789478814387, 0.2416806556856034, 0.22627337159149075, 0.2687381041426109, 0.11706413894142832, 0.11706413894142832, 0.11706413894142832, 0.11706413894142832, 0.11706413894142832, 0.11706413894142832, 0.15628914652288348, 0.15628914652288348, 0.15628914652288348, 0.15628914652288348, 0.1518040809078805, 0.1518040809078805, 0.22502831026628836, 0.14679192365970897, 0.14089199989199214, 0.14089199989199214, 0.15923851129336086, 0.15923851129336086, 0.1320869816376455, 0.1320869816376455, 0.06604349081882276, 0.06604349081882276, 0.06604349081882276, 0.06604349081882276, 0.06604349081882276, 0.06604349081882276, 0.06604349081882276, 0.26499099326764725, 0.1755427792622356, 0.1755427792622356, 0.19750098387533893, 0.20744781609317933, 0.20744781609317933, 0.24613008188657698, 0.31024707408301133, 0.0736689399492762, 0.0736689399492762, 0.1473378798985524, 0.0736689399492762, 0.2210068198478286, 0.0736689399492762, 0.0736689399492762, 0.0736689399492762, 0.07687935251669166, 0.15375870503338332, 0.230638057550075, 0.07687935251669166, 0.07687935251669166, 0.07687935251669166, 0.19480197362572985, 0.09740098681286492, 0.09740098681286492, 0.09740098681286492, 0.09740098681286492, 0.09740098681286492, 0.09740098681286492, 0.19860502888591233, 0.09930251444295617, 0.09930251444295617, 0.09930251444295617, 0.09930251444295617, 0.09930251444295617, 0.09930251444295617, 0.07198194943255978, 0.14396389886511957, 0.21594584829767935, 0.07198194943255978, 0.07198194943255978, 0.07198194943255978, 0.15746148175255867, 0.23619222262883802, 0.07873074087627933, 0.07873074087627933, 0.07873074087627933, 0.1730910722424071, 0.08654553612120355, 0.08654553612120355, 0.08654553612120355, 0.08654553612120355, 0.08654553612120355, 0.08654553612120355, 0.08232182583636709, 0.16464365167273418, 0.08232182583636709, 0.08232182583636709, 0.08232182583636709, 0.08232182583636709, 0.08232182583636709, 0.08232182583636709, 0.2248488929666391, 0.07376335320734073, 0.14752670641468146, 0.07376335320734073, 0.2212900596220222, 0.07376335320734073, 0.07376335320734073, 0.07376335320734073, 0.1914488738737982, 0.0957244369368991, 0.0957244369368991, 0.0957244369368991, 0.0957244369368991, 0.0957244369368991, 0.18259919555606027, 0.18259919555606027, 0.23821477662933546, 0.17885091259773606, 0.17885091259773606, 0.17885091259773606, 0.2504162922614233, 0.1620566586184855, 0.1620566586184855, 0.08102832930924275, 0.08102832930924275, 0.08102832930924275, 0.08662965879549547, 0.08662965879549547, 0.17325931759099095, 0.17325931759099095, 0.08662965879549547, 0.08662965879549547, 0.09316455130040734, 0.09316455130040734, 0.18632910260081467, 0.18632910260081467, 0.09316455130040734, 0.09316455130040734, 0.09316455130040734, 0.08604282815013932, 0.08604282815013932, 0.17208565630027864, 0.17208565630027864, 0.08604282815013932, 0.08604282815013932, 0.09307549340151945, 0.09307549340151945, 0.1861509868030389, 0.1861509868030389, 0.09307549340151945, 0.09307549340151945, 0.09307549340151945, 0.2882809899240969, 0.2882809899240969, 0.252067181488428, 0.16079533082291594, 0.16079533082291594, 0.18636150725382297, 0.06212050241794099, 0.06212050241794099, 0.06212050241794099, 0.06212050241794099, 0.06212050241794099, 0.06212050241794099, 0.06212050241794099, 0.06212050241794099, 0.19834832646644038, 0.19834832646644038, 0.22482366398516498, 0.20186910301751435, 0.20186910301751435, 0.12020143282052832, 0.12020143282052832, 0.12020143282052832, 0.12020143282052832, 0.12223415959589029, 0.12223415959589029, 0.12223415959589029, 0.12223415959589029, 0.1128814611546909, 0.1128814611546909, 0.1128814611546909, 0.1128814611546909, 0.1128814611546909, 0.13204647460423674, 0.13204647460423674, 0.13204647460423674, 0.13204647460423674, 0.13204647460423674, 0.13204647460423674, 0.13132292805497514, 0.13132292805497514, 0.13132292805497514, 0.13132292805497514, 0.13719908168718747, 0.13719908168718747, 0.13719908168718747, 0.13719908168718747, 0.15865664937887144, 0.15865664937887144, 0.15865664937887144, 0.1611437199742272, 0.1611437199742272, 0.1611437199742272, 0.14928871088732543, 0.14928871088732543, 0.14928871088732543, 0.17015392155290796, 0.17015392155290796, 0.17015392155290796, 0.16658228586338394, 0.16658228586338394, 0.16658228586338394, 0.15431380404532152, 0.15431380404532152, 0.14757352591675704, 0.14757352591675704, 0.14757352591675704, 0.14757352591675704, 0.1491885614323128, 0.1491885614323128, 0.1491885614323128, 0.1491885614323128, 0.21047019483896842, 0.21966959338544578, 0.21966959338544578, 0.23096296830239915, 0.2611965468727351, 0.27715206740932424, 0.21066558324860368, 0.21066558324860368, 0.08587061927059006, 0.22898831805490683, 0.04293530963529503, 0.057247079513726706, 0.028623539756863353, 0.014311769878431677, 0.057247079513726706, 0.04293530963529503, 0.04293530963529503, 0.04293530963529503, 0.014311769878431677, 0.04293530963529503, 0.028623539756863353, 0.028623539756863353, 0.014311769878431677, 0.014311769878431677, 0.014311769878431677, 0.014311769878431677, 0.014311769878431677, 0.014311769878431677, 0.014311769878431677, 0.028623539756863353, 0.014311769878431677, 0.014311769878431677, 0.014311769878431677, 0.014311769878431677, 0.014311769878431677, 0.07539330645137858, 0.15078661290275716, 0.07539330645137858, 0.15078661290275716, 0.07539330645137858, 0.15078661290275716, 0.07539330645137858, 0.07539330645137858, 0.39258048271704415, 0.07851609654340883, 0.07851609654340883, 0.07851609654340883, 0.10370290138377447, 0.20740580276754894, 0.20740580276754894, 0.2662024569851667, 0.13310122849258335, 0.13310122849258335, 0.13310122849258335, 0.07295090108652955, 0.1459018021730591, 0.07295090108652955, 0.1459018021730591, 0.07295090108652955, 0.1459018021730591, 0.07295090108652955, 0.40232061924873924, 0.08046412384974785, 0.08046412384974785, 0.08046412384974785, 0.08046412384974785, 0.08046412384974785, 0.25342129452660206, 0.25342129452660206, 0.2860560332365758, 0.2292628583064659, 0.14918806208846191, 0.29837612417692383, 0.14918806208846191, 0.21019872249011476, 0.3668747018448923, 0.18979043829154085, 0.056503099126187964, 0.11300619825237593, 0.11300619825237593, 0.056503099126187964, 0.056503099126187964, 0.056503099126187964, 0.11300619825237593, 0.056503099126187964, 0.11300619825237593, 0.056503099126187964, 0.056503099126187964, 0.056503099126187964, 0.07687688595927775, 0.1537537719185555, 0.07687688595927775, 0.07687688595927775, 0.1537537719185555, 0.07687688595927775, 0.1537537719185555, 0.07687688595927775, 0.07293480091868565, 0.1458696018373713, 0.07293480091868565, 0.07293480091868565, 0.1458696018373713, 0.07293480091868565, 0.1458696018373713, 0.07293480091868565, 0.2601488561770623, 0.13007442808853115, 0.13007442808853115, 0.24378095884879047, 0.1910434019144773, 0.1910434019144773, 0.19835617584239817, 0.19835617584239817, 0.3776730797130181, 0.07553461594260362, 0.07553461594260362, 0.07553461594260362, 0.07553461594260362, 0.07553461594260362, 0.07553461594260362, 0.07553461594260362, 0.07310686823156963, 0.36553434115784816, 0.07310686823156963, 0.07310686823156963, 0.07310686823156963, 0.07310686823156963, 0.07310686823156963, 0.07310686823156963, 0.24027051372612884, 0.24027051372612884, 0.12013525686306442, 0.12013525686306442, 0.2524326314938544, 0.2524326314938544, 0.10617338722981166, 0.21234677445962333, 0.21234677445962333, 0.10617338722981166, 0.33008067260218404, 0.16504033630109202, 0.24542762906633564, 0.346347207145021, 0.1731736035725105, 0.16249366933900156, 0.3249873386780031, 0.2558521310064655, 0.22029782208597812, 0.22029782208597812, 0.06712756047367537, 0.06712756047367537, 0.06712756047367537, 0.06712756047367537, 0.13425512094735073, 0.06712756047367537, 0.06712756047367537, 0.06712756047367537, 0.06712756047367537, 0.06712756047367537, 0.06712756047367537, 0.10174606753658919, 0.10174606753658919, 0.10174606753658919, 0.10174606753658919, 0.2569699446794984, 0.25546349740319213, 0.21834775681222326, 0.14029647353480104, 0.14029647353480104, 0.14029647353480104, 0.14029647353480104, 0.14029647353480104, 0.20956616444129444, 0.2930206419536391, 0.21173445828362045, 0.25418207178913005, 0.040095641485770425, 0.040095641485770425, 0.1603825659430817, 0.040095641485770425, 0.040095641485770425, 0.040095641485770425, 0.08019128297154085, 0.040095641485770425, 0.040095641485770425, 0.040095641485770425, 0.040095641485770425, 0.040095641485770425, 0.040095641485770425, 0.040095641485770425, 0.040095641485770425, 0.040095641485770425, 0.040095641485770425, 0.040095641485770425, 0.040095641485770425, 0.10599663475585203, 0.10599663475585203, 0.21199326951170405, 0.10599663475585203, 0.10599663475585203, 0.18990842655417647, 0.18990842655417647, 0.14915229058462587, 0.14915229058462587, 0.1593309026933495, 0.1593309026933495, 0.12873062568148744, 0.2574612513629749, 0.12873062568148744, 0.2580624681425826, 0.21285433136827328, 0.10642716568413664, 0.10642716568413664, 0.10642716568413664, 0.1865913534113239, 0.1865913534113239, 0.17804394356076653, 0.17804394356076653, 0.17804394356076653, 0.1819857966201846, 0.20633147508577782, 0.12838908628559353, 0.25677817257118707, 0.12838908628559353, 0.24669477453355818, 0.24669477453355818, 0.12334738726677909, 0.10337531050780345, 0.10337531050780345, 0.2067506210156069, 0.10337531050780345, 0.11376276133773763, 0.11376276133773763, 0.22752552267547527, 0.11376276133773763, 0.11376276133773763, 0.2312047416671565, 0.14367591317775433, 0.14367591317775433, 0.14367591317775433, 0.17111698968819686, 0.17318035806769067, 0.17318035806769067, 0.17318035806769067, 0.22443643675784694, 0.26644487574244824, 0.21206220180825155, 0.2393041352963122, 0.1196520676481561, 0.1196520676481561, 0.3707078669415913, 0.20765323775990419, 0.15792266050209156, 0.1667696561122049, 0.1667696561122049, 0.1906475645131478, 0.27320450785736033, 0.12251514522048655, 0.12251514522048655, 0.12251514522048655, 0.12251514522048655, 0.12251514522048655, 0.1699150076888951, 0.08495750384444754, 0.08495750384444754, 0.08495750384444754, 0.08495750384444754, 0.08495750384444754, 0.08495750384444754, 0.08495750384444754, 0.20887939034430275, 0.20507100439085557, 0.29465142039489833, 0.0702651861053415, 0.0702651861053415, 0.0702651861053415, 0.0702651861053415, 0.0702651861053415, 0.0702651861053415, 0.0702651861053415, 0.0702651861053415, 0.140530372210683, 0.0702651861053415, 0.0702651861053415, 0.1726906100397014, 0.1726906100397014, 0.23297987830838154, 0.22388232925110413, 0.23813780313911526, 0.2523922237556389, 0.21606226960017913, 0.16811370739195156, 0.19285192714241978, 0.19285192714241978, 0.18046602258122935, 0.18046602258122935, 0.16052029502548326, 0.16052029502548326, 0.16052029502548326, 0.18066212085685607, 0.22845083004817396, 0.20543706752766902, 0.281515838340434, 0.05785224172515344, 0.17355672517546034, 0.05785224172515344, 0.05785224172515344, 0.05785224172515344, 0.05785224172515344, 0.05785224172515344, 0.05785224172515344, 0.05785224172515344, 0.05785224172515344, 0.21943798852766888, 0.20644733322033954, 0.22260881226407905, 0.22260881226407905, 0.2293994410247834, 0.2478669118111224, 0.23089396507173646, 0.16526594103279535, 0.16526594103279535, 0.16526594103279535, 0.20285608616794357, 0.2113515124439668, 0.13405001314880471, 0.13405001314880471, 0.14544160577006765, 0.14544160577006765, 0.20260141869861872, 0.3821989986513796, 0.1273996662171265, 0.21414474679560094, 0.16975399656402632, 0.16975399656402632, 0.19931268580002745, 0.2004251245986013, 0.06578936381475618, 0.06578936381475618, 0.06578936381475618, 0.13157872762951237, 0.06578936381475618, 0.06578936381475618, 0.06578936381475618, 0.06578936381475618, 0.15045647502561987, 0.15045647502561987, 0.15045647502561987, 0.22398120489167825, 0.21380490782287834, 0.20944579735441138, 0.1780333951309352, 0.1554301271273279, 0.1554301271273279, 0.22376631303238276, 0.20924579611479158, 0.2356768927635013, 0.1644298006686201, 0.1644298006686201, 0.1485662358359225, 0.1485662358359225, 0.1485662358359225, 0.1566837936634026, 0.1566837936634026, 0.19258517547678292, 0.19258517547678292, 0.09774823400848248, 0.04887411700424124, 0.14662235101272372, 0.04887411700424124, 0.04887411700424124, 0.04887411700424124, 0.04887411700424124, 0.04887411700424124, 0.04887411700424124, 0.04887411700424124, 0.04887411700424124, 0.04887411700424124, 0.04887411700424124, 0.04887411700424124, 0.04887411700424124, 0.15545040497809953, 0.15545040497809953, 0.18648177703099644, 0.26405191039336734, 0.2775524221057509, 0.17796155461646612, 0.17796155461646612, 0.18183518541246313, 0.18183518541246313, 0.145447437307696, 0.145447437307696, 0.145447437307696, 0.15135272930159027, 0.15135272930159027, 0.16616827770705603, 0.21495508744796396, 0.1569671521356543, 0.18579003229797145, 0.18579003229797145, 0.20356768272273684, 0.20356768272273684, 0.21197688060530598, 0.18913678857130672, 0.22331647479596017, 0.1894129155843399, 0.062127632050402025, 0.09319144807560303, 0.031063816025201012, 0.031063816025201012, 0.031063816025201012, 0.062127632050402025, 0.062127632050402025, 0.062127632050402025, 0.062127632050402025, 0.031063816025201012, 0.031063816025201012, 0.031063816025201012, 0.031063816025201012, 0.031063816025201012, 0.031063816025201012, 0.031063816025201012, 0.031063816025201012, 0.031063816025201012, 0.031063816025201012, 0.031063816025201012, 0.031063816025201012, 0.031063816025201012, 0.031063816025201012, 0.031063816025201012, 0.062127632050402025, 0.15206324897143708, 0.15206324897143708, 0.2813504263271601, 0.21621926296590907, 0.10810963148295454, 0.10810963148295454, 0.10810963148295454, 0.18320184960539335, 0.2213543760185885, 0.20434542273109735, 0.18573255152765655, 0.18573255152765655, 0.15670407979848597, 0.15670407979848597, 0.18090583648292252, 0.18090583648292252, 0.18090583648292252, 0.2342074038596269, 0.19299660282815115, 0.1271675474905205, 0.1271675474905205, 0.1271675474905205, 0.20784892618538678, 0.23604526149873087, 0.21417256001955218, 0.21191248956532546, 0.27554048998302744, 0.13643884526668007, 0.13643884526668007, 0.21405814740916376, 0.18961378386547376, 0.1734377429213195, 0.1734377429213195, 0.18412343900313924, 0.18412343900313924, 0.1298117939450583, 0.06490589697252915, 0.1298117939450583, 0.06490589697252915, 0.06490589697252915, 0.06490589697252915, 0.06490589697252915, 0.06490589697252915, 0.06490589697252915, 0.06490589697252915, 0.06490589697252915, 0.06490589697252915, 0.2709042087855472, 0.21108788858269845, 0.2059821070325086, 0.24536163144094336, 0.17037038118118206, 0.17037038118118206, 0.14107598469549604, 0.14107598469549604, 0.14107598469549604, 0.23610492919287573, 0.14189433111080324, 0.14189433111080324, 0.14189433111080324, 0.17257107293135454, 0.19141081813352132, 0.19141081813352132, 0.2130444009856193, 0.2130444009856193, 0.24217118553191325, 0.0968684742127653, 0.04843423710638265, 0.04843423710638265, 0.0968684742127653, 0.04843423710638265, 0.04843423710638265, 0.04843423710638265, 0.04843423710638265, 0.04843423710638265, 0.04843423710638265, 0.04843423710638265, 0.15018356908621613, 0.15018356908621613, 0.15018356908621613, 0.15018356908621613, 0.251451769948916, 0.27635378417766193, 0.20786214913741496, 0.22905561195070834, 0.16027845144601197, 0.16027845144601197, 0.4873153411062595, 0.14073448082639128, 0.28146896165278257, 0.14073448082639128, 0.23250901366963, 0.23250901366963, 0.17471265418880846, 0.3494253083776169, 0.24060722524850264, 0.2114869029078702, 0.17817548716677215, 0.3563509743335443, 0.17817548716677215, 0.22192293146981154, 0.22472346722058528, 0.28187104649479017, 0.282854810527537, 0.21722434679431005, 0.15586644189702686, 0.31173288379405373, 0.3037174310733442, 0.19581196598075312, 0.19581196598075312, 0.2082508637777043, 0.21027952675737915, 0.2200072425565716, 0.383148656119372, 0.1638127737528028, 0.1638127737528028, 0.3153706879534778, 0.34510096287124514, 0.2538617193480163, 0.234045922688812, 0.16602527197693806, 0.2068857622248574, 0.1855975181422007, 0.1855975181422007, 0.1855975181422007, 0.19023279643286678, 0.19023279643286678, 0.19680280352252222, 0.18018221416854743, 0.18018221416854743, 0.2699858388124131, 0.13499291940620656, 0.13499291940620656, 0.17228493810424228, 0.1292137035781817, 0.1292137035781817, 0.04307123452606057, 0.04307123452606057, 0.04307123452606057, 0.08614246905212114, 0.04307123452606057, 0.04307123452606057, 0.04307123452606057, 0.04307123452606057, 0.04307123452606057, 0.2182874151688773, 0.1722271360898321, 0.1799240402101201, 0.19245530060910063, 0.04811382515227516, 0.04811382515227516, 0.04811382515227516, 0.04811382515227516, 0.14434147545682546, 0.04811382515227516, 0.04811382515227516, 0.04811382515227516, 0.04811382515227516, 0.04811382515227516, 0.04811382515227516, 0.2165388598799399, 0.2165388598799399, 0.2150281709563421, 0.21067613055457574, 0.1344203422458561, 0.044806780748618706, 0.044806780748618706, 0.08961356149723741, 0.044806780748618706, 0.1344203422458561, 0.044806780748618706, 0.044806780748618706, 0.044806780748618706, 0.044806780748618706, 0.044806780748618706, 0.044806780748618706, 0.044806780748618706, 0.30953937781518603, 0.16786553335097953, 0.16786553335097953, 0.13433512762156719, 0.13433512762156719, 0.13433512762156719, 0.13433512762156719, 0.13433512762156719, 0.25348439469083217, 0.25348439469083217, 0.21179833604055745, 0.18667870420445742, 0.18068044561754412, 0.2965855813011123, 0.049430930216852055, 0.049430930216852055, 0.049430930216852055, 0.09886186043370411, 0.049430930216852055, 0.049430930216852055, 0.049430930216852055, 0.049430930216852055, 0.049430930216852055, 0.049430930216852055, 0.049430930216852055, 0.2993985809652994, 0.04989976349421657, 0.04989976349421657, 0.04989976349421657, 0.09979952698843314, 0.04989976349421657, 0.04989976349421657, 0.04989976349421657, 0.04989976349421657, 0.04989976349421657, 0.23109785223318652, 0.038516308705531084, 0.07703261741106217, 0.038516308705531084, 0.038516308705531084, 0.07703261741106217, 0.038516308705531084, 0.038516308705531084, 0.038516308705531084, 0.07703261741106217, 0.038516308705531084, 0.038516308705531084, 0.038516308705531084, 0.20799225217999082, 0.20799225217999082, 0.2077042989319906, 0.18076411202617473, 0.18076411202617473, 0.20959729410390832, 0.14499940610708753, 0.14499940610708753, 0.15032880260354559, 0.15032880260354559, 0.15032880260354559, 0.16126197921236762, 0.30087981398325975, 0.05014663566387662, 0.05014663566387662, 0.05014663566387662, 0.10029327132775324, 0.05014663566387662, 0.05014663566387662, 0.05014663566387662, 0.05014663566387662, 0.05014663566387662, 0.2832013350240988, 0.09440044500803292, 0.04720022250401646, 0.09440044500803292, 0.04720022250401646, 0.04720022250401646, 0.04720022250401646, 0.04720022250401646, 0.04720022250401646, 0.04720022250401646, 0.04720022250401646, 0.23530640350034188, 0.07843546783344729, 0.039217733916723646, 0.039217733916723646, 0.07843546783344729, 0.039217733916723646, 0.039217733916723646, 0.039217733916723646, 0.039217733916723646, 0.039217733916723646, 0.07843546783344729, 0.07843546783344729, 0.039217733916723646, 0.039217733916723646, 0.19949156588241518, 0.1411628644900138, 0.1411628644900138, 0.21464998924338405, 0.19995165105730317, 0.14996373829297738, 0.14996373829297738, 0.04998791276432579, 0.04998791276432579, 0.04998791276432579, 0.04998791276432579, 0.04998791276432579, 0.04998791276432579, 0.16372715345271044, 0.16372715345271044, 0.16372715345271044, 0.05457571781757015, 0.05457571781757015, 0.05457571781757015, 0.05457571781757015, 0.05457571781757015, 0.23644260620803784, 0.11822130310401892, 0.11822130310401892, 0.03940710103467297, 0.07881420206934595, 0.03940710103467297, 0.03940710103467297, 0.03940710103467297, 0.03940710103467297, 0.03940710103467297, 0.03940710103467297, 0.03940710103467297, 0.03940710103467297, 0.03940710103467297, 0.1946966033820072, 0.1460224525365054, 0.1460224525365054, 0.0486741508455018, 0.0486741508455018, 0.0486741508455018, 0.0486741508455018, 0.0486741508455018, 0.0486741508455018, 0.0486741508455018, 0.0486741508455018, 0.20816182276664685, 0.15612136707498514, 0.15612136707498514, 0.05204045569166171, 0.05204045569166171, 0.05204045569166171, 0.05204045569166171, 0.05204045569166171, 0.05204045569166171, 0.05204045569166171, 0.19697204547393782, 0.11818322728436269, 0.11818322728436269, 0.07878881818957513, 0.039394409094787565, 0.039394409094787565, 0.039394409094787565, 0.039394409094787565, 0.039394409094787565, 0.039394409094787565, 0.039394409094787565, 0.46532076615305473, 0.20454603641886965, 0.24546039313898996, 0.17067911686341475, 0.21954253085147774, 0.20290157437314518, 0.20290157437314518, 0.157872269539564, 0.157872269539564, 0.157872269539564, 0.13528164471787787, 0.13528164471787787, 0.204489712808759, 0.15286059035308294, 0.15286059035308294, 0.20394951975531375, 0.20394951975531375, 0.22776732956325932, 0.21726099544443533, 0.2612676862195644, 0.25197971118322654, 0.2714850489839222, 0.2714850489839222, 0.20127113114164158, 0.16264663843518284, 0.3252932768703657, 0.2132278187888905, 0.07107593959629684, 0.07107593959629684, 0.03553796979814842, 0.03553796979814842, 0.03553796979814842, 0.07107593959629684, 0.03553796979814842, 0.03553796979814842, 0.03553796979814842, 0.03553796979814842, 0.03553796979814842, 0.03553796979814842, 0.03553796979814842, 0.23315550994688974, 0.14004196258835913, 0.14004196258835913, 0.17926885140516868, 0.17926885140516868, 0.19862796166561275, 0.19862796166561275, 0.18054548080457877, 0.26521272100723914, 0.2060452142539752, 0.21717063224666197, 0.24591856936341105, 0.08197285645447035, 0.1639457129089407, 0.08197285645447035, 0.08197285645447035, 0.08197285645447035, 0.33097926170457964, 0.1565614427257051, 0.3131228854514102, 0.20550181345926327, 0.32666546737798974, 0.19660592244915792, 0.3702133594853398, 0.12340445316177993, 0.1265227730993375, 0.37956831929801244, 0.1265227730993375, 0.2989999579747715, 0.21594663320876717, 0.21594663320876717, 0.17906127810466477, 0.17906127810466477, 0.17906127810466477, 0.1880044475866975, 0.1880044475866975, 0.21606976608932926, 0.14132743868466466, 0.2826548773693293, 0.09421829245644311, 0.04710914622822156, 0.04710914622822156, 0.04710914622822156, 0.04710914622822156, 0.04710914622822156, 0.04710914622822156, 0.04710914622822156, 0.04710914622822156, 0.14669788911527518, 0.24449648185879194, 0.09779859274351678, 0.04889929637175839, 0.04889929637175839, 0.04889929637175839, 0.04889929637175839, 0.11622447034563767, 0.23244894069127534, 0.07748298023042512, 0.03874149011521256, 0.07748298023042512, 0.03874149011521256, 0.03874149011521256, 0.03874149011521256, 0.03874149011521256, 0.03874149011521256, 0.03874149011521256, 0.03874149011521256, 0.03874149011521256, 0.03874149011521256, 0.21823222128462336, 0.21823222128462336, 0.1744166734152562, 0.1744166734152562, 0.20600705506485525, 0.06739335277224115, 0.11793836735142202, 0.1516350437375426, 0.016848338193060287, 0.016848338193060287, 0.033696676386120575, 0.016848338193060287, 0.08424169096530144, 0.05054501457918087, 0.016848338193060287, 0.05054501457918087, 0.033696676386120575, 0.033696676386120575, 0.016848338193060287, 0.033696676386120575, 0.016848338193060287, 0.016848338193060287, 0.033696676386120575, 0.016848338193060287, 0.016848338193060287, 0.033696676386120575, 0.016848338193060287, 0.016848338193060287, 0.016848338193060287, 0.016848338193060287, 0.016848338193060287, 0.016848338193060287, 0.37687928628794815, 0.0628132143813247, 0.0628132143813247, 0.0628132143813247, 0.0628132143813247, 0.0628132143813247, 0.18271763495814664, 0.18271763495814664, 0.12181175663876442, 0.06090587831938221, 0.06090587831938221, 0.06090587831938221, 0.06090587831938221, 0.12181175663876442, 0.2115529357948569, 0.2115529357948569, 0.0705176452649523, 0.0705176452649523, 0.0705176452649523, 0.1410352905299046, 0.2716714798447764, 0.1112785030072809, 0.1112785030072809, 0.2225570060145618, 0.25190517016849, 0.07157273555229157, 0.21471820665687472, 0.21471820665687472, 0.07157273555229157, 0.07157273555229157, 0.07157273555229157, 0.07157273555229157, 0.14314547110458314, 0.1417480263473148, 0.1417480263473148, 0.2834960526946296, 0.18017851460649958, 0.24023801947533277, 0.12011900973766639, 0.06005950486883319, 0.12011900973766639, 0.26006677666918854, 0.17337785111279233, 0.08668892555639617, 0.296682328622229, 0.197788219081486, 0.098894109540743, 0.3218816700429682, 0.10729389001432273, 0.10729389001432273, 0.10729389001432273, 0.12462160057362165, 0.2492432011472433, 0.31103668066304696, 0.15551834033152348, 0.06572084908934296, 0.19716254726802887, 0.19716254726802887, 0.06572084908934296, 0.06572084908934296, 0.06572084908934296, 0.13144169817868592, 0.21645812181301322, 0.21645812181301322, 0.0721527072710044, 0.0721527072710044, 0.0721527072710044, 0.1443054145420088, 0.39772389688926796, 0.19142452990572253, 0.15416565421075182, 0.15416565421075182, 0.15416565421075182, 0.13240500700207447, 0.13240500700207447, 0.13240500700207447, 0.17838467848669914, 0.17838467848669914, 0.11427994084011914, 0.11427994084011914, 0.11427994084011914, 0.06921335590871004, 0.12112337284024258, 0.15573005079459762, 0.01730333897717751, 0.01730333897717751, 0.03460667795435502, 0.01730333897717751, 0.08651669488588756, 0.051910016931532535, 0.01730333897717751, 0.051910016931532535, 0.03460667795435502, 0.03460667795435502, 0.01730333897717751, 0.03460667795435502, 0.01730333897717751, 0.03460667795435502, 0.01730333897717751, 0.01730333897717751, 0.03460667795435502, 0.01730333897717751, 0.01730333897717751, 0.01730333897717751, 0.01730333897717751, 0.01730333897717751, 0.01730333897717751, 0.01730333897717751, 0.1240479041516009, 0.1240479041516009, 0.1240479041516009, 0.2480958083032018, 0.1240479041516009, 0.12457030323795198, 0.24914060647590397, 0.12457030323795198, 0.16353547981477815, 0.24530321972216723, 0.16353547981477815, 0.08176773990738907, 0.07847348955173376, 0.2354204686552013, 0.07847348955173376, 0.15694697910346753, 0.07847348955173376, 0.07847348955173376, 0.07847348955173376, 0.3532203023348891, 0.11774010077829637, 0.11215917950561262, 0.3364775385168378, 0.11215917950561262, 0.11215917950561262, 0.07037283141450175, 0.281491325658007, 0.07037283141450175, 0.07037283141450175, 0.07037283141450175, 0.1407456628290035, 0.2384787445169594, 0.2384787445169594, 0.18661311530112096, 0.17047776709236107, 0.17047776709236107, 0.12616362123560906, 0.12616362123560906, 0.1328543077548356, 0.1328543077548356, 0.1328543077548356, 0.1328543077548356, 0.12177205859993388, 0.24354411719986777, 0.06088602929996694, 0.06088602929996694, 0.06088602929996694, 0.06088602929996694, 0.06088602929996694, 0.12177205859993388, 0.15598574858553224, 0.23397862287829838, 0.07799287429276612, 0.07799287429276612, 0.15598574858553224, 0.14160027002642148, 0.28320054005284295, 0.07080013501321074, 0.07080013501321074, 0.07080013501321074, 0.14160027002642148, 0.13876595692045288, 0.27753191384090575, 0.06938297846022644, 0.06938297846022644, 0.06938297846022644, 0.13876595692045288, 0.14934949960769262, 0.22402424941153895, 0.07467474980384631, 0.07467474980384631, 0.07467474980384631, 0.14934949960769262, 0.34636041596733363, 0.17318020798366682, 0.1895615423229424, 0.1895615423229424, 0.2514455196082225, 0.2883962729030862, 0.23200370586558652, 0.20470284462705973, 0.20470284462705973, 0.2318337701908929, 0.1457307847029967, 0.1457307847029967, 0.1457307847029967, 0.39374846995016755, 0.17524702543946644, 0.17524702543946644, 0.17524702543946644, 0.15865565925053957, 0.15865565925053957, 0.15865565925053957, 0.15865565925053957, 0.22857037426303678, 0.23383027858211777, 0.1848229401574267, 0.1848229401574267, 0.15417168279348073, 0.15417168279348073, 0.24517124867402817, 0.2848253380298719, 0.3076194194867538, 0.14459259640873365, 0.14563840695171662, 0.14563840695171662, 0.1588982360700158, 0.1588982360700158, 0.20238165673069236, 0.20238165673069236, 0.21630430399508907, 0.2223856279865761, 0.2223856279865761, 0.22336371083902917, 0.22336371083902917, 0.17381479560667432, 0.17381479560667432, 0.17381479560667432, 0.17381479560667432, 0.14419380733720552, 0.14419380733720552, 0.14419380733720552, 0.20323023397353943, 0.20323023397353943, 0.24408547205410347, 0.2114901571437584, 0.2114901571437584, 0.24447831753054028, 0.19696789109724055, 0.27129459854175286, 0.2609912630688349, 0.19895339543543333, 0.19895339543543333, 0.2213750204229249, 0.18781149133017475, 0.24160721842940813, 0.18981772255062215, 0.22489413220344698, 0.16700586925914565, 0.20522089525391723, 0.20522089525391723, 0.18548132259922617, 0.22701738193782994, 0.22701738193782994, 0.3636642185276508, 0.23726225170017212, 0.2837658777434538, 0.243460286251166, 0.5064023182004206, 0.503757357169738, 0.1007514714339476, 0.5555241018993496, 0.09258735031655828, 0.469890642658376, 0.22953493347748197, 0.22953493347748197, 0.5093972842236357, 0.10187945684472713, 0.10187945684472713, 0.4959813918655775, 0.08266356531092958, 0.08266356531092958, 0.522561185002445, 0.5258275387513544, 0.08763792312522573, 0.24997001412493527, 0.18220414765545984, 0.27031692551161296, 0.16726677999814388, 0.15908880002430373, 0.15908880002430373, 0.15912978812537076, 0.15912978812537076, 0.15912978812537076, 0.15912978812537076, 0.17983924372272367, 0.17983924372272367, 0.2663527827677178, 0.19970157509271427, 0.19970157509271427, 0.14675209474993586, 0.14675209474993586, 0.14675209474993586, 0.14675209474993586, 0.195639216018563, 0.195639216018563, 0.21020678584035826, 0.09268656707453367, 0.18537313414906734, 0.18537313414906734, 0.09268656707453367, 0.09268656707453367, 0.09250175891522842, 0.18500351783045685, 0.18500351783045685, 0.09250175891522842, 0.09250175891522842, 0.1716006901488807, 0.1716006901488807, 0.1786004448060459, 0.1786004448060459, 0.08930022240302295, 0.08930022240302295, 0.07485737039666128, 0.14971474079332256, 0.22457211118998383, 0.14971474079332256, 0.07485737039666128, 0.07485737039666128, 0.07755507958988432, 0.15511015917976864, 0.15511015917976864, 0.07755507958988432, 0.07755507958988432, 0.07755507958988432, 0.23240722960039573, 0.3261814916194504, 0.20213249820663576, 0.20010944481916226, 0.20010944481916226, 0.24599063556415798, 0.24599063556415798, 0.21301574754524455, 0.2736393179424988, 0.2736393179424988, 0.1368196589712494, 0.20225508000159984, 0.20225508000159984, 0.23554542580387833, 0.1714870110139474, 0.1965150234521766, 0.26333614891615803, 0.23201210518010235, 0.23025477407678416, 0.18609595792415792, 0.2628267750814675, 0.20728616114182258, 0.2657911065069489, 0.17038238105777412, 0.17038238105777412, 0.193544611813398, 0.19142919618906254, 0.24594739998587, 0.23635967563954638, 0.12511264087121976, 0.12511264087121976, 0.12511264087121976, 0.12511264087121976, 0.24674338103688653, 0.1799000112158483, 0.1799000112158483, 0.19766675617754795, 0.17838210471634697, 0.17838210471634697, 0.19633021833373082, 0.19633021833373082, 0.19633021833373082, 0.1517918439198951, 0.1517918439198951, 0.1517918439198951, 0.12938178881217083, 0.25876357762434166, 0.29140465711222974, 0.24032954802656498, 0.12016477401328249, 0.22378591939181736, 0.30523286384251064, 0.14755050868730904, 0.2951010173746181, 0.2878293194506586, 0.20444907595161194, 0.20444907595161194, 0.12383314369860264, 0.12383314369860264, 0.12383314369860264, 0.12383314369860264, 0.17450123412636445, 0.17450123412636445, 0.3633278782328275, 0.32618740947382097, 0.14208207960867847, 0.28416415921735694, 0.14208207960867847, 0.1770770259745666, 0.1770770259745666, 0.1734172943599947, 0.2759477887238929, 0.29822220476575184, 0.14911110238287592, 0.19743933973568803, 0.19743933973568803, 0.17809088505974432, 0.17809088505974432, 0.17809088505974432, 0.1359434886770694, 0.1359434886770694, 0.1359434886770694, 0.1779205078836967, 0.1779205078836967, 0.1779205078836967, 0.14555447749639047, 0.14555447749639047, 0.14555447749639047, 0.15549708250209876, 0.15549708250209876, 0.15549708250209876, 0.13708371883613832, 0.13708371883613832, 0.13708371883613832, 0.13708371883613832, 0.15517278238411317, 0.23914412328483137, 0.20953773824315436, 0.1651242610343165, 0.1651242610343165, 0.18634299418921316, 0.16332719527076253, 0.16332719527076253, 0.16332719527076253, 0.16117486380818208, 0.16117486380818208, 0.16117486380818208, 0.16704499012253457, 0.16704499012253457, 0.16704499012253457, 0.2210855817831759, 0.19353293482611172, 0.19353293482611172, 0.17877821946965305, 0.17877821946965305, 0.19637634012666005, 0.25105833174315656, 0.11209647149448783, 0.11209647149448783, 0.056048235747243914, 0.056048235747243914, 0.056048235747243914, 0.11209647149448783, 0.056048235747243914, 0.11209647149448783, 0.056048235747243914, 0.056048235747243914, 0.07489650116286978, 0.14979300232573955, 0.07489650116286978, 0.14979300232573955, 0.07489650116286978, 0.14979300232573955, 0.07489650116286978, 0.07298524020435836, 0.07298524020435836, 0.1459704804087167, 0.07298524020435836, 0.1459704804087167, 0.07298524020435836, 0.1459704804087167, 0.07298524020435836, 0.19016872916440453, 0.19016872916440453, 0.18142663950167248, 0.18142663950167248, 0.42329954602421443, 0.08465990920484288, 0.08465990920484288, 0.08465990920484288, 0.08465990920484288, 0.08465990920484288, 0.3954300870450904, 0.07908601740901808, 0.07908601740901808, 0.07908601740901808, 0.07908601740901808, 0.07908601740901808, 0.39766814455027777, 0.07953362891005555, 0.07953362891005555, 0.07953362891005555, 0.07953362891005555, 0.07953362891005555, 0.10693853919068105, 0.2138770783813621, 0.2138770783813621, 0.10693853919068105, 0.10693853919068105, 0.23549542783726424, 0.23549542783726424, 0.11774771391863212, 0.19035681257592169, 0.19035681257592169, 0.32817860480224903, 0.16408930240112451, 0.216774381882484, 0.3822258374547056, 0.29021349866346785, 0.14510674933173393, 0.3047442486563984, 0.20722850501892362, 0.14893518449298082, 0.14893518449298082, 0.14893518449298082, 0.14674917636005938, 0.14674917636005938, 0.14674917636005938, 0.14674917636005938, 0.13515892036228444, 0.13515892036228444, 0.13515892036228444, 0.13515892036228444, 0.1509036114739152, 0.1509036114739152, 0.1509036114739152, 0.1509036114739152, 0.1337823920481205, 0.1337823920481205, 0.1337823920481205, 0.1528577444656783, 0.1528577444656783, 0.1528577444656783, 0.1528577444656783, 0.21357944371279444, 0.32398811643133657, 0.14799082756570953, 0.14799082756570953, 0.14799082756570953, 0.14799082756570953, 0.2600170376162879, 0.26250738654165623, 0.33937678041181224, 0.18972768713622382, 0.18190493848856545, 0.19607634399159118, 0.19607634399159118, 0.09927657219822929, 0.09927657219822929, 0.09927657219822929, 0.2978297165946879, 0.342518081617917, 0.1712590408089585, 0.2770114432866635, 0.20302005053413408, 0.20656993203136914, 0.205661468988689, 0.27607198752990686, 0.2057683251701918, 0.24202712800151913, 0.2358977801586147, 0.17039953173171687, 0.19905735422052048, 0.21416625937373746, 0.21416625937373746, 0.23954928881143342, 0.23275523271582096, 0.23934742021281993, 0.17696521832102335, 0.21327350467292755, 0.09318762698950485, 0.09318762698950485, 0.09318762698950485, 0.09318762698950485, 0.09318762698950485, 0.09318762698950485, 0.15861670662603702, 0.15861670662603702, 0.145487417924188, 0.145487417924188, 0.145487417924188, 0.145487417924188, 0.21332918741197912, 0.1927193237934253, 0.1927193237934253, 0.27457341306007393, 0.13728670653003697, 0.13378093971447622, 0.13378093971447622, 0.13378093971447622, 0.13378093971447622, 0.2956424120880929, 0.243120923996833, 0.24117839280990083, 0.24117839280990083, 0.21702233798834122, 0.17454043123877652, 0.17454043123877652, 0.4068945551738113, 0.17647981625557185, 0.17813454952015179, 0.17813454952015179, 0.1723485032407321, 0.18042636285429733, 0.21648575402132372, 0.18076092324216908, 0.18076092324216908, 0.18076092324216908, 0.06859346095182968, 0.20578038285548902, 0.06859346095182968, 0.06859346095182968, 0.06859346095182968, 0.06859346095182968, 0.06859346095182968, 0.13718692190365936, 0.06859346095182968, 0.07661104082840652, 0.22983312248521953, 0.07661104082840652, 0.15322208165681303, 0.07661104082840652, 0.21411717480692907, 0.21411717480692907, 0.10705858740346454, 0.13219342661460784, 0.08812895107640524, 0.04406447553820262, 0.04406447553820262, 0.08812895107640524, 0.08812895107640524, 0.04406447553820262, 0.04406447553820262, 0.04406447553820262, 0.04406447553820262, 0.04406447553820262, 0.04406447553820262, 0.04406447553820262, 0.04406447553820262, 0.04406447553820262, 0.10294412817376346, 0.05147206408688173, 0.20588825634752692, 0.05147206408688173, 0.05147206408688173, 0.05147206408688173, 0.05147206408688173, 0.05147206408688173, 0.05147206408688173, 0.05147206408688173, 0.05147206408688173, 0.05147206408688173, 0.05147206408688173, 0.23948520730457215, 0.16571216286840088, 0.16571216286840088, 0.2752864782498642, 0.08873434141961133, 0.08873434141961133, 0.08873434141961133, 0.08873434141961133, 0.3549373656784453, 0.29545908849292135, 0.29691259372727347, 0.14845629686363673, 0.1635074065539763, 0.1635074065539763, 0.07758907385093851, 0.07758907385093851, 0.07758907385093851, 0.31035629540375403, 0.07758907385093851, 0.13203613129723504, 0.13203613129723504, 0.13203613129723504, 0.0649969232036038, 0.0649969232036038, 0.1299938464072076, 0.0649969232036038, 0.0649969232036038, 0.0649969232036038, 0.0649969232036038, 0.0649969232036038, 0.0649969232036038, 0.0649969232036038, 0.0649969232036038, 0.061439290580892286, 0.18431787174267686, 0.12287858116178457, 0.24575716232356914, 0.061439290580892286, 0.2205240831281902, 0.2205240831281902, 0.1102620415640951, 0.18341828861666423, 0.18341828861666423, 0.25132912451760253, 0.06283228112940063, 0.12566456225880127, 0.06283228112940063, 0.12566456225880127, 0.06283228112940063, 0.06283228112940063, 0.06283228112940063, 0.06283228112940063, 0.06283228112940063, 0.18132363997279596, 0.04533090999319899, 0.04533090999319899, 0.09066181998639798, 0.04533090999319899, 0.13599272997959697, 0.04533090999319899, 0.04533090999319899, 0.04533090999319899, 0.04533090999319899, 0.04533090999319899, 0.04533090999319899, 0.04533090999319899, 0.04533090999319899, 0.09693962783283035, 0.1938792556656607, 0.09693962783283035, 0.1938792556656607, 0.21428712746704573, 0.2546277637138283, 0.06913165098892811, 0.2073949529667843, 0.06913165098892811, 0.06913165098892811, 0.06913165098892811, 0.06913165098892811, 0.06913165098892811, 0.13826330197785622, 0.06913165098892811, 0.06913165098892811, 0.06913165098892811, 0.19405219361354883, 0.13589181099144645, 0.04529727033048215, 0.04529727033048215, 0.04529727033048215, 0.0905945406609643, 0.0905945406609643, 0.04529727033048215, 0.04529727033048215, 0.04529727033048215, 0.04529727033048215, 0.04529727033048215, 0.04529727033048215, 0.04529727033048215, 0.04529727033048215, 0.04529727033048215, 0.15619772436020907, 0.05206590812006969, 0.15619772436020907, 0.05206590812006969, 0.05206590812006969, 0.05206590812006969, 0.05206590812006969, 0.05206590812006969, 0.05206590812006969, 0.05206590812006969, 0.05206590812006969, 0.14464985601796762, 0.14464985601796762, 0.14464985601796762, 0.17147437465859314, 0.17147437465859314, 0.15903438506092296, 0.15903438506092296, 0.20427834630486297, 0.13032886267220736, 0.06516443133610368, 0.13032886267220736, 0.06516443133610368, 0.06516443133610368, 0.06516443133610368, 0.06516443133610368, 0.06516443133610368, 0.06516443133610368, 0.17270481079010425, 0.17270481079010425, 0.18299320931562152, 0.060997736438540506, 0.060997736438540506, 0.060997736438540506, 0.12199547287708101, 0.060997736438540506, 0.060997736438540506, 0.060997736438540506, 0.060997736438540506, 0.060997736438540506, 0.060997736438540506, 0.1891552377839485, 0.06305174592798282, 0.06305174592798282, 0.06305174592798282, 0.06305174592798282, 0.06305174592798282, 0.06305174592798282, 0.06305174592798282, 0.06305174592798282, 0.06305174592798282, 0.14666064547100813, 0.048886881823669376, 0.048886881823669376, 0.048886881823669376, 0.14666064547100813, 0.048886881823669376, 0.048886881823669376, 0.048886881823669376, 0.048886881823669376, 0.048886881823669376, 0.048886881823669376, 0.15209672974148805, 0.15209672974148805, 0.15209672974148805, 0.14760833849075622, 0.14760833849075622, 0.24218128807438166, 0.19943023973786903, 0.19943023973786903, 0.33361151916039783, 0.1442258459717187, 0.1442258459717187, 0.1442258459717187, 0.1442258459717187, 0.1442258459717187, 0.16891231193115874, 0.16891231193115874, 0.395554441631538, 0.06592574027192301, 0.06592574027192301, 0.06592574027192301, 0.06592574027192301, 0.06592574027192301, 0.06592574027192301, 0.06592574027192301, 0.22100246897675913, 0.22100246897675913, 0.24982105403168822, 0.12491052701584411, 0.12491052701584411, 0.10468934001650869, 0.10468934001650869, 0.10468934001650869, 0.10468934001650869, 0.20937868003301738, 0.10012702629349446, 0.10012702629349446, 0.20025405258698892, 0.10012702629349446, 0.10012702629349446, 0.20025405258698892, 0.08097535913274066, 0.242926077398222, 0.08097535913274066, 0.08097535913274066, 0.08097535913274066, 0.12188877364538676, 0.12188877364538676, 0.12188877364538676, 0.12188877364538676, 0.11124997044948513, 0.22249994089897027, 0.11124997044948513, 0.11124997044948513, 0.11124997044948513, 0.3503411239380833, 0.11678037464602778, 0.11678037464602778, 0.05839018732301389, 0.05839018732301389, 0.23745808124597056, 0.11872904062298528, 0.23745808124597056, 0.11872904062298528, 0.3644867773672769, 0.18224338868363846, 0.13304861170032953, 0.13304861170032953, 0.26609722340065906, 0.12408553107035057, 0.24817106214070114, 0.2438414595104972, 0.09753658380419888, 0.08128048650349907, 0.016256097300699813, 0.04876829190209944, 0.016256097300699813, 0.032512194601399626, 0.016256097300699813, 0.032512194601399626, 0.04876829190209944, 0.016256097300699813, 0.016256097300699813, 0.032512194601399626, 0.016256097300699813, 0.032512194601399626, 0.04876829190209944, 0.016256097300699813, 0.016256097300699813, 0.032512194601399626, 0.032512194601399626, 0.016256097300699813, 0.016256097300699813, 0.032512194601399626, 0.032512194601399626, 0.251818260304733, 0.1007273041218932, 0.08393942010157766, 0.0503636520609466, 0.016787884020315533, 0.03357576804063107, 0.016787884020315533, 0.03357576804063107, 0.0503636520609466, 0.03357576804063107, 0.016787884020315533, 0.03357576804063107, 0.0503636520609466, 0.016787884020315533, 0.016787884020315533, 0.03357576804063107, 0.03357576804063107, 0.016787884020315533, 0.016787884020315533, 0.03357576804063107, 0.03357576804063107, 0.14408464811591323, 0.28816929623182647, 0.08645078886954793, 0.028816929623182646, 0.028816929623182646, 0.028816929623182646, 0.028816929623182646, 0.028816929623182646, 0.05763385924636529, 0.028816929623182646, 0.028816929623182646, 0.028816929623182646, 0.028816929623182646, 0.028816929623182646, 0.028816929623182646, 0.13788223119698437, 0.24818801615457187, 0.08272933871819062, 0.05515289247879375, 0.027576446239396875, 0.027576446239396875, 0.027576446239396875, 0.027576446239396875, 0.05515289247879375, 0.027576446239396875, 0.027576446239396875, 0.05515289247879375, 0.05515289247879375, 0.027576446239396875, 0.027576446239396875, 0.027576446239396875, 0.25165387073844736, 0.09437020152691775, 0.0786418346057648, 0.04718510076345887, 0.01572836692115296, 0.03145673384230592, 0.01572836692115296, 0.04718510076345887, 0.04718510076345887, 0.01572836692115296, 0.03145673384230592, 0.01572836692115296, 0.03145673384230592, 0.04718510076345887, 0.01572836692115296, 0.01572836692115296, 0.03145673384230592, 0.03145673384230592, 0.01572836692115296, 0.01572836692115296, 0.03145673384230592, 0.03145673384230592, 0.2529737501533403, 0.136680866816687, 0.24602556027003664, 0.08200852009001221, 0.027336173363337404, 0.027336173363337404, 0.027336173363337404, 0.027336173363337404, 0.027336173363337404, 0.027336173363337404, 0.05467234672667481, 0.027336173363337404, 0.027336173363337404, 0.05467234672667481, 0.05467234672667481, 0.027336173363337404, 0.027336173363337404, 0.027336173363337404, 0.0846554894875258, 0.0846554894875258, 0.0846554894875258, 0.0846554894875258, 0.0846554894875258, 0.5268226655826771, 0.10536453311653542, 0.10536453311653542, 0.5091663202351224, 0.24365678313807257, 0.24365678313807257, 0.12182839156903628, 0.11159928946868883, 0.22319857893737766, 0.055799644734344414, 0.055799644734344414, 0.055799644734344414, 0.055799644734344414, 0.055799644734344414, 0.055799644734344414, 0.055799644734344414, 0.055799644734344414, 0.055799644734344414, 0.055799644734344414, 0.10551379378413306, 0.21102758756826612, 0.05275689689206653, 0.05275689689206653, 0.05275689689206653, 0.05275689689206653, 0.05275689689206653, 0.05275689689206653, 0.05275689689206653, 0.05275689689206653, 0.05275689689206653, 0.05275689689206653, 0.05275689689206653, 0.05275689689206653, 0.34141651100119386, 0.17070825550059693, 0.18547635213196287, 0.37095270426392574, 0.19537743801622223, 0.19537743801622223, 0.17249980455974492, 0.16903620723992632, 0.16903620723992632, 0.14964222776122096, 0.14964222776122096, 0.14964222776122096, 0.27379467615766934, 0.13689733807883467, 0.13689733807883467, 0.19621903182722383, 0.09810951591361192, 0.09810951591361192, 0.09810951591361192, 0.09810951591361192, 0.19621903182722383, 0.10978722642746393, 0.10978722642746393, 0.10978722642746393, 0.10978722642746393, 0.21957445285492785, 0.17135505701481896, 0.3427101140296379, 0.10295637389801644, 0.10295637389801644, 0.20591274779603289, 0.10295637389801644, 0.10295637389801644, 0.1029914150204902, 0.1029914150204902, 0.2059828300409804, 0.1029914150204902, 0.14116483889197715, 0.2823296777839543, 0.15513456187209387, 0.31026912374418775, 0.24738084631078933, 0.09895233852431573, 0.08246028210359645, 0.049476169262157865, 0.016492056420719287, 0.032984112841438575, 0.016492056420719287, 0.032984112841438575, 0.049476169262157865, 0.016492056420719287, 0.032984112841438575, 0.016492056420719287, 0.032984112841438575, 0.049476169262157865, 0.016492056420719287, 0.016492056420719287, 0.032984112841438575, 0.032984112841438575, 0.016492056420719287, 0.016492056420719287, 0.049476169262157865, 0.032984112841438575, 0.2478262602226265, 0.0991305040890506, 0.08260875340754217, 0.0495652520445253, 0.016521750681508435, 0.03304350136301687, 0.016521750681508435, 0.03304350136301687, 0.0495652520445253, 0.016521750681508435, 0.03304350136301687, 0.016521750681508435, 0.03304350136301687, 0.0495652520445253, 0.016521750681508435, 0.016521750681508435, 0.03304350136301687, 0.03304350136301687, 0.016521750681508435, 0.016521750681508435, 0.03304350136301687, 0.03304350136301687, 0.2495946546359784, 0.0935979954884919, 0.07799832957374325, 0.04679899774424595, 0.01559966591474865, 0.0311993318294973, 0.01559966591474865, 0.0311993318294973, 0.04679899774424595, 0.01559966591474865, 0.0311993318294973, 0.01559966591474865, 0.0311993318294973, 0.04679899774424595, 0.01559966591474865, 0.01559966591474865, 0.0311993318294973, 0.0311993318294973, 0.01559966591474865, 0.01559966591474865, 0.0311993318294973, 0.0311993318294973, 0.08410310003487605, 0.08410310003487605, 0.08410310003487605, 0.08410310003487605, 0.08410310003487605, 0.08410310003487605, 0.08410310003487605, 0.08410310003487605, 0.08410310003487605, 0.08410310003487605, 0.516278649476986, 0.5062838651028803, 0.10125677302057605, 0.1438257397478466, 0.23970956624641102, 0.0958838264985644, 0.0479419132492822, 0.0479419132492822, 0.0479419132492822, 0.0479419132492822, 0.0479419132492822, 0.0479419132492822, 0.14943493916511952, 0.29886987833023904, 0.09962329277674635, 0.049811646388373175, 0.049811646388373175, 0.049811646388373175, 0.049811646388373175, 0.049811646388373175, 0.049811646388373175, 0.13723214753064497, 0.27446429506128994, 0.09148809835376331, 0.04574404917688166, 0.04574404917688166, 0.04574404917688166, 0.04574404917688166, 0.04574404917688166, 0.04574404917688166, 0.04574404917688166, 0.15209331900899592, 0.15209331900899592, 0.15209331900899592, 0.18385603835921288, 0.18385603835921288, 0.18385603835921288, 0.41691732053253255, 0.04950870589577315, 0.29705223537463893, 0.04950870589577315, 0.04950870589577315, 0.04950870589577315, 0.0990174117915463, 0.04950870589577315, 0.04950870589577315, 0.04950870589577315, 0.04950870589577315, 0.04950870589577315, 0.29881570269754293, 0.04980261711625716, 0.04980261711625716, 0.04980261711625716, 0.04980261711625716, 0.09960523423251431, 0.04980261711625716, 0.04980261711625716, 0.04980261711625716, 0.04980261711625716, 0.04980261711625716, 0.04980261711625716, 0.05144452374476948, 0.3086671424686169, 0.05144452374476948, 0.05144452374476948, 0.05144452374476948, 0.10288904748953896, 0.05144452374476948, 0.05144452374476948, 0.05144452374476948, 0.05144452374476948, 0.14167180390910847, 0.14167180390910847, 0.2250681284926822, 0.2250681284926822, 0.05123746325161692, 0.3074247795097015, 0.05123746325161692, 0.05123746325161692, 0.05123746325161692, 0.10247492650323384, 0.05123746325161692, 0.05123746325161692, 0.05123746325161692, 0.05123746325161692, 0.05123746325161692, 0.324935085482318, 0.054155847580386336, 0.054155847580386336, 0.054155847580386336, 0.10831169516077267, 0.054155847580386336, 0.054155847580386336, 0.054155847580386336, 0.054155847580386336, 0.04983573644789033, 0.29901441868734197, 0.04983573644789033, 0.04983573644789033, 0.04983573644789033, 0.09967147289578066, 0.04983573644789033, 0.04983573644789033, 0.04983573644789033, 0.04983573644789033, 0.04983573644789033, 0.2996418926671554, 0.20733068167927518, 0.06911022722642506, 0.20733068167927518, 0.06911022722642506, 0.06911022722642506, 0.06911022722642506, 0.1977391227865675, 0.06591304092885583, 0.1977391227865675, 0.06591304092885583, 0.06591304092885583, 0.06591304092885583, 0.06591304092885583, 0.06783645601817072, 0.20350936805451214, 0.13567291203634144, 0.13567291203634144, 0.06783645601817072, 0.06783645601817072, 0.21330812839913788, 0.0711027094663793, 0.21330812839913788, 0.0711027094663793, 0.0711027094663793, 0.0711027094663793, 0.06843249636629908, 0.20529748909889722, 0.06843249636629908, 0.13686499273259817, 0.06843249636629908, 0.06843249636629908, 0.06843249636629908, 0.2759609097428748, 0.06742030547083006, 0.20226091641249017, 0.06742030547083006, 0.20226091641249017, 0.06742030547083006, 0.06742030547083006, 0.06742030547083006, 0.06742030547083006, 0.21558470083339792, 0.07186156694446598, 0.21558470083339792, 0.07186156694446598, 0.07186156694446598, 0.07186156694446598, 0.23410605025273235, 0.07803535008424412, 0.23410605025273235, 0.07803535008424412, 0.07803535008424412, 0.07317216417436029, 0.21951649252308086, 0.07317216417436029, 0.21951649252308086, 0.07317216417436029, 0.07317216417436029, 0.07317216417436029, 0.2051434436379248, 0.06838114787930827, 0.2051434436379248, 0.06838114787930827, 0.06838114787930827, 0.23506048084132822, 0.11679627072058388, 0.11679627072058388, 0.11679627072058388, 0.23359254144116776, 0.1786694141940913, 0.1786694141940913, 0.06964524669197121, 0.06964524669197121, 0.27858098676788484, 0.20893574007591362, 0.06964524669197121, 0.06708361478019419, 0.06708361478019419, 0.06708361478019419, 0.26833445912077675, 0.20125084434058257, 0.06708361478019419, 0.06942198566064108, 0.06942198566064108, 0.06942198566064108, 0.2776879426425643, 0.20826595698192324, 0.06942198566064108, 0.06938411518497747, 0.06938411518497747, 0.06938411518497747, 0.2775364607399099, 0.20815234555493242, 0.06938411518497747, 0.07711740747719675, 0.07711740747719675, 0.308469629908787, 0.23135222243159026, 0.07711740747719675, 0.07382808539442356, 0.07382808539442356, 0.07382808539442356, 0.29531234157769426, 0.22148425618327067, 0.07382808539442356, 0.07031089982513541, 0.07031089982513541, 0.07031089982513541, 0.28124359930054166, 0.21093269947540624, 0.07031089982513541, 0.24759420467193435, 0.07035816981502609, 0.07035816981502609, 0.28143267926010435, 0.21107450944507825, 0.07035816981502609, 0.07119155454567543, 0.07119155454567543, 0.07119155454567543, 0.2847662181827017, 0.21357466363702626, 0.07119155454567543, 0.06789349652208906, 0.06789349652208906, 0.06789349652208906, 0.27157398608835626, 0.20368048956626716, 0.06789349652208906, 0.0757226154336237, 0.0757226154336237, 0.3028904617344948, 0.22716784630087108, 0.0757226154336237, 0.07560840400578303, 0.07560840400578303, 0.3024336160231321, 0.2268252120173491, 0.07560840400578303, 0.0735101423745159, 0.0735101423745159, 0.2940405694980636, 0.2205304271235477, 0.0735101423745159, 0.07155779926092741, 0.07155779926092741, 0.07155779926092741, 0.28623119704370964, 0.21467339778278224, 0.07155779926092741, 0.24114293647616164, 0.21772874690673324, 0.3838579736277688, 0.18548113794257162, 0.18548113794257162, 0.24257808885809432, 0.24257808885809432, 0.2318676422957532, 0.12533530851493913, 0.06266765425746956, 0.06266765425746956, 0.06266765425746956, 0.06266765425746956, 0.06266765425746956, 0.06266765425746956, 0.06266765425746956, 0.06266765425746956, 0.06266765425746956, 0.06266765425746956, 0.045023930485577776, 0.09004786097115555, 0.22511965242788887, 0.045023930485577776, 0.045023930485577776, 0.045023930485577776, 0.045023930485577776, 0.045023930485577776, 0.045023930485577776, 0.045023930485577776, 0.045023930485577776, 0.10827901786755333, 0.05413950893377666, 0.05413950893377666, 0.05413950893377666, 0.05413950893377666, 0.05413950893377666, 0.05413950893377666, 0.05413950893377666, 0.10827901786755333, 0.05413950893377666, 0.05413950893377666, 0.05413950893377666, 0.05413950893377666, 0.20740874099409304, 0.20740874099409304, 0.21323479399679512, 0.1498167689217534, 0.1498167689217534, 0.1498167689217534, 0.22166500183177998, 0.2043806763192769, 0.19157519576819704, 0.07738227960179059, 0.038691139800895294, 0.1160734194026859, 0.038691139800895294, 0.07738227960179059, 0.038691139800895294, 0.038691139800895294, 0.038691139800895294, 0.038691139800895294, 0.038691139800895294, 0.07738227960179059, 0.038691139800895294, 0.038691139800895294, 0.038691139800895294, 0.038691139800895294, 0.038691139800895294, 0.18832746195901645, 0.255654474636188, 0.1768041780926748, 0.1768041780926748, 0.23477559453355415, 0.1909415775985697, 0.2322491092477547, 0.1845257480767649, 0.1845257480767649, 0.25176699873692904, 0.2523071685734654, 0.2740082201375849, 0.15756802074460252, 0.15756802074460252, 0.15756802074460252, 0.1941239012384732, 0.1941239012384732, 0.1941239012384732, 0.15747896258052382, 0.15747896258052382, 0.15747896258052382, 0.12172094041998241, 0.060860470209991205, 0.060860470209991205, 0.060860470209991205, 0.060860470209991205, 0.060860470209991205, 0.060860470209991205, 0.12172094041998241, 0.060860470209991205, 0.20410929736498234, 0.10450290414799684, 0.10450290414799684, 0.10450290414799684, 0.10450290414799684, 0.10450290414799684, 0.10450290414799684, 0.10450290414799684, 0.16513642810877396, 0.16513642810877396, 0.10655352695692039, 0.10655352695692039, 0.10655352695692039, 0.10655352695692039, 0.10655352695692039, 0.3006622484080725, 0.1915022287875196, 0.2210094479363633, 0.2210094479363633, 0.2599220707754788, 0.24440828037813253, 0.227290400573012, 0.23859859443546966, 0.13805577680875677, 0.27611155361751355, 0.06902788840437839, 0.06902788840437839, 0.13805577680875677, 0.146197036658535, 0.29239407331707, 0.0730985183292675, 0.0730985183292675, 0.146197036658535, 0.4237879728181214, 0.06661090478263058, 0.13322180956526117, 0.11101817463771764, 0.06661090478263058, 0.044407269855087056, 0.08881453971017411, 0.06661090478263058, 0.022203634927543528, 0.022203634927543528, 0.022203634927543528, 0.044407269855087056, 0.022203634927543528, 0.022203634927543528, 0.044407269855087056, 0.022203634927543528, 0.022203634927543528, 0.022203634927543528, 0.022203634927543528, 0.044407269855087056, 0.18568681106353435, 0.18568681106353435, 0.1987424439157822, 0.14962534151341592, 0.14962534151341592, 0.14962534151341592, 0.20817242662560762, 0.20817242662560762, 0.0543835976091514, 0.0543835976091514, 0.1631507928274542, 0.2175343904366056, 0.0543835976091514, 0.0543835976091514, 0.0543835976091514, 0.0543835976091514, 0.1087671952183028, 0.054998064850261125, 0.054998064850261125, 0.16499419455078337, 0.2199922594010445, 0.054998064850261125, 0.054998064850261125, 0.054998064850261125, 0.10999612970052225, 0.4473409802409902, 0.3790378667943282, 0.1263459555981094, 0.2540071152859826, 0.04973677027820443, 0.29842062166922656, 0.04973677027820443, 0.04973677027820443, 0.04973677027820443, 0.04973677027820443, 0.09947354055640886, 0.04973677027820443, 0.04973677027820443, 0.04973677027820443, 0.04973677027820443, 0.04973677027820443, 0.04918322901371412, 0.29509937408228476, 0.09836645802742824, 0.04918322901371412, 0.04918322901371412, 0.09836645802742824, 0.04918322901371412, 0.04918322901371412, 0.04918322901371412, 0.04918322901371412, 0.07018509092021566, 0.21055527276064698, 0.07018509092021566, 0.14037018184043132, 0.07018509092021566, 0.07018509092021566, 0.07018509092021566, 0.07018509092021566, 0.22287272447787976, 0.07429090815929325, 0.1485818163185865, 0.07429090815929325, 0.07429090815929325, 0.07429090815929325, 0.21602429213757915, 0.21602429213757915, 0.03902016087895179, 0.2731411261526625, 0.03902016087895179, 0.03902016087895179, 0.03902016087895179, 0.11706048263685537, 0.03902016087895179, 0.03902016087895179, 0.03902016087895179, 0.03902016087895179, 0.03902016087895179, 0.03902016087895179, 0.03902016087895179, 0.05142037983348342, 0.2571018991674171, 0.10284075966696685, 0.10284075966696685, 0.15426113950045026, 0.05142037983348342, 0.05142037983348342, 0.05142037983348342, 0.05142037983348342, 0.05338391102075819, 0.266919555103791, 0.10676782204151639, 0.10676782204151639, 0.1601517330622746, 0.05338391102075819, 0.05338391102075819, 0.05338391102075819, 0.2212580422085644, 0.26967178201663394, 0.21245119015650396, 0.18324561817360227, 0.19677745954053852, 0.2382705186174234, 0.22857628362108007, 0.16702356897906878, 0.16702356897906878, 0.2370233711956716, 0.2255640346261487, 0.20217105148328945, 0.17735636390293855, 0.22194219241334018, 0.1757923253031076, 0.3515846506062152, 0.1757923253031076, 0.26153978541148337, 0.19649126375637113, 0.24495062048367383, 0.21717483515155162, 0.21717483515155162, 0.24028426452877108, 0.24028426452877108, 0.19714990536961435, 0.14882259375334175, 0.14882259375334175, 0.13668620843011814, 0.13668620843011814, 0.13668620843011814, 0.11452510908346895, 0.11452510908346895, 0.11452510908346895, 0.13529000084975693, 0.13529000084975693, 0.13529000084975693, 0.10985549918470709, 0.10985549918470709, 0.10985549918470709, 0.12204062982178873, 0.12204062982178873, 0.12204062982178873, 0.12204062982178873, 0.12204062982178873, 0.18271356760130672, 0.18271356760130672, 0.18271356760130672, 0.18271356760130672, 0.24593527290212516, 0.18361062620075982, 0.17098041282351398, 0.17098041282351398, 0.2106604385298308, 0.2106604385298308, 0.1641054417753792, 0.1641054417753792, 0.10266506239952447, 0.10266506239952447, 0.10266506239952447, 0.10266506239952447, 0.10266506239952447, 0.10266506239952447, 0.10266506239952447, 0.18347861202597954, 0.18347861202597954, 0.18248076599545196, 0.18248076599545196, 0.21531530402337645, 0.23117058771767934, 0.24930926363482672, 0.2710032370846429, 0.15464079366866787, 0.15464079366866787, 0.22486396049248208, 0.19976471714055713, 0.19976471714055713, 0.14886528971426424, 0.23636352892908605, 0.23511505716878733, 0.2078829716181442, 0.5090075456721203, 0.5044915020899408, 0.5883522480979008, 0.0980587080163168, 0.49279964380171876, 0.19025085084507276, 0.5255408487677032, 0.4915537542491017, 0.09831075084982034, 0.49278628136688246, 0.5079413348321312, 0.4083491992370488, 0.44074516031332506, 0.2541234558390333, 0.1654590516325779, 0.1654590516325779, 0.1654590516325779, 0.1769289033391411, 0.1769289033391411, 0.19246179448168593, 0.2025393193988316, 0.2025393193988316, 0.20771289546282018, 0.20771289546282018, 0.17762614368112542, 0.17762614368112542, 0.17762614368112542, 0.25598213959403565, 0.17088002579621367, 0.17088002579621367, 0.17088002579621367, 0.17088002579621367, 0.17481469605288283, 0.14014434314227037, 0.14014434314227037, 0.23515937024455946, 0.1954011166024433, 0.048850279150610826, 0.048850279150610826, 0.048850279150610826, 0.14655083745183248, 0.048850279150610826, 0.048850279150610826, 0.048850279150610826, 0.048850279150610826, 0.048850279150610826, 0.048850279150610826, 0.19054497445344684, 0.23512629767905102, 0.23512629767905102, 0.17645065903576865, 0.17645065903576865, 0.14733402146079055, 0.04911134048693018, 0.04911134048693018, 0.04911134048693018, 0.14733402146079055, 0.04911134048693018, 0.04911134048693018, 0.04911134048693018, 0.04911134048693018, 0.04911134048693018, 0.04911134048693018, 0.12498808724489836, 0.12498808724489836, 0.12498808724489836, 0.12498808724489836, 0.12498808724489836, 0.12907742191854465, 0.12907742191854465, 0.12907742191854465, 0.12907742191854465, 0.15474105907193003, 0.30948211814386006, 0.07737052953596502, 0.07737052953596502, 0.15474105907193003, 0.21824921537945305, 0.2909989538392707, 0.07274973845981768, 0.07274973845981768, 0.14549947691963536, 0.04800471307278063, 0.12001178268195158, 0.09600942614556127, 0.07200706960917094, 0.04800471307278063, 0.09600942614556127, 0.07200706960917094, 0.024002356536390317, 0.024002356536390317, 0.04800471307278063, 0.024002356536390317, 0.024002356536390317, 0.04800471307278063, 0.024002356536390317, 0.024002356536390317, 0.024002356536390317, 0.024002356536390317, 0.024002356536390317, 0.04800471307278063, 0.2331913637965548, 0.22395806153071188, 0.05529324787867315, 0.05529324787867315, 0.16587974363601946, 0.2211729915146926, 0.05529324787867315, 0.05529324787867315, 0.05529324787867315, 0.1105864957573463, 0.059374505094295676, 0.059374505094295676, 0.17812351528288703, 0.2374980203771827, 0.059374505094295676, 0.059374505094295676, 0.059374505094295676, 0.11874901018859135, 0.16160020732579608, 0.16160020732579608, 0.16160020732579608, 0.16160020732579608, 0.21377188052317725, 0.1425145870154515, 0.1425145870154515, 0.07125729350772575, 0.07125729350772575, 0.07125729350772575, 0.20533039025471128, 0.1368869268364742, 0.20533039025471128, 0.0684434634182371, 0.0684434634182371, 0.0684434634182371, 0.05015267884766637, 0.2507633942383318, 0.10030535769533273, 0.10030535769533273, 0.1504580365429991, 0.05015267884766637, 0.05015267884766637, 0.05015267884766637, 0.05015267884766637, 0.0497096421423649, 0.2485482107118245, 0.0994192842847298, 0.0994192842847298, 0.1491289264270947, 0.0497096421423649, 0.0497096421423649, 0.0497096421423649, 0.14044733091605235, 0.2808946618321047, 0.07022366545802618, 0.07022366545802618, 0.14044733091605235, 0.14615950439912448, 0.29231900879824896, 0.07307975219956224, 0.07307975219956224, 0.14615950439912448, 0.04793919404472219, 0.14381758213416657, 0.09587838808944438, 0.07190879106708328, 0.04793919404472219, 0.09587838808944438, 0.07190879106708328, 0.023969597022361094, 0.023969597022361094, 0.023969597022361094, 0.04793919404472219, 0.023969597022361094, 0.04793919404472219, 0.023969597022361094, 0.023969597022361094, 0.023969597022361094, 0.023969597022361094, 0.04793919404472219, 0.20312463622621738, 0.20312463622621738, 0.057070531035802896, 0.057070531035802896, 0.1712115931074087, 0.22828212414321158, 0.057070531035802896, 0.057070531035802896, 0.057070531035802896, 0.057070531035802896, 0.11414106207160579, 0.05529566590930699, 0.11059133181861398, 0.16588699772792098, 0.22118266363722797, 0.05529566590930699, 0.05529566590930699, 0.11059133181861398, 0.2119854914858185, 0.14132366099054566, 0.14132366099054566, 0.07066183049527283, 0.07066183049527283, 0.211091421856538, 0.14072761457102534, 0.211091421856538, 0.07036380728551267, 0.07036380728551267, 0.24517137773518397, 0.09806855109407359, 0.09806855109407359, 0.14710282664111038, 0.04903427554703679, 0.04903427554703679, 0.04903427554703679, 0.04903427554703679, 0.25100301803831443, 0.10040120721532576, 0.10040120721532576, 0.15060181082298865, 0.05020060360766288, 0.05020060360766288, 0.05020060360766288, 0.05020060360766288, 0.18417489047367364, 0.18417489047367364, 0.18414792649044356, 0.18985980711423917, 0.11274585640771816, 0.11274585640771816, 0.2254917128154363, 0.11274585640771816, 0.2081682100515981, 0.2081682100515981, 0.2923249953605905, 0.18524569782260825, 0.18524569782260825, 0.1428680044741501, 0.1428680044741501, 0.1428680044741501, 0.16834515276675607, 0.15169833548154665, 0.15169833548154665, 0.3467606232958198, 0.2992445305302621, 0.3348529877430072, 0.1674264938715036, 0.1674264938715036, 0.27623768936706355, 0.2260553141474283, 0.2316392909573353, 0.2316392909573353, 0.1257154615297879, 0.1257154615297879, 0.1257154615297879, 0.1257154615297879, 0.1257154615297879, 0.1257154615297879, 0.18055653404290878, 0.18055653404290878, 0.18055653404290878, 0.4616292202448164, 0.07693820337413607, 0.15387640674827213, 0.15848652182274953, 0.15848652182274953, 0.15848652182274953, 0.15483910211065896, 0.15483910211065896, 0.15483910211065896, 0.47842365321397984, 0.0797372755356633, 0.0797372755356633, 0.0797372755356633, 0.47072982504079736, 0.11768245626019934, 0.2586109549234506, 0.2557133059174862, 0.20942093634362802, 0.20942093634362802, 0.16089160362496935, 0.16089160362496935, 0.16089160362496935, 0.24383479795611082, 0.20280626203531624, 0.2081066284698022, 0.23197230039807304, 0.32041845228601773, 0.16020922614300886, 0.06323844242871449, 0.18971532728614346, 0.3794306545722869, 0.06323844242871449, 0.05837832148318963, 0.05837832148318963, 0.1751349644495689, 0.3502699288991378, 0.05837832148318963, 0.05837832148318963, 0.12555148540063132, 0.25110297080126265, 0.12555148540063132, 0.2841935629203772, 0.1420967814601886, 0.058135198041302294, 0.058135198041302294, 0.23254079216520918, 0.34881118824781376, 0.058135198041302294, 0.06036608425919152, 0.2414643370367661, 0.36219650555514915, 0.06036608425919152, 0.058208060837564204, 0.1746241825126926, 0.3492483650253852, 0.058208060837564204, 0.058208060837564204, 0.058208060837564204, 0.3026555767108062, 0.1513277883554031, 0.2846078589941364, 0.1423039294970682, 0.05980802737371596, 0.05980802737371596, 0.17942408212114788, 0.35884816424229576, 0.05980802737371596, 0.055724625173151486, 0.22289850069260594, 0.3343477510389089, 0.055724625173151486, 0.11144925034630297, 0.43124533807748006, 0.14374844602582668, 0.14374844602582668, 0.3334559741838304, 0.1667279870919152, 0.06034952754618753, 0.06034952754618753, 0.1810485826385626, 0.3620971652771252, 0.06034952754618753, 0.06197770755317408, 0.18593312265952225, 0.3718662453190445, 0.06197770755317408, 0.06140241757649177, 0.1842072527294753, 0.3684145054589506, 0.06140241757649177, 0.1325495273782064, 0.2650990547564128, 0.1325495273782064, 0.31286831888124456, 0.15643415944062228, 0.21986679627542655, 0.21986679627542655, 0.25546965746137024, 0.1861091248321773, 0.14734163471277364, 0.2946832694255473, 0.19980922581208568, 0.19980922581208568, 0.19212305271885372, 0.19212305271885372, 0.1650696011445437, 0.1650696011445437, 0.1650696011445437, 0.15640676961025632, 0.15640676961025632, 0.15640676961025632, 0.20435362993838638, 0.20435362993838638, 0.16741353409488194, 0.16741353409488194, 0.16741353409488194, 0.34431255379393194, 0.19243425349485022, 0.19243425349485022, 0.0935879807569065, 0.0935879807569065, 0.0935879807569065, 0.187175961513813, 0.0935879807569065, 0.09877344115724815, 0.09877344115724815, 0.1975468823144963, 0.15097229614824922, 0.15097229614824922, 0.15097229614824922, 0.09298322404582089, 0.18596644809164178, 0.09298322404582089, 0.09298322404582089, 0.18596644809164178, 0.09298322404582089, 0.17857536538192584, 0.17857536538192584, 0.17857536538192584, 0.1974032043940711, 0.19234041713869612, 0.18366933927688517, 0.18366933927688517, 0.19489416883092556, 0.2944146261589191, 0.04906910435981986, 0.04906910435981986, 0.09813820871963971, 0.04906910435981986, 0.04906910435981986, 0.04906910435981986, 0.09813820871963971, 0.04906910435981986, 0.04906910435981986, 0.04906910435981986, 0.04906910435981986, 0.2813466232560999, 0.04689110387601665, 0.0937822077520333, 0.04689110387601665, 0.0937822077520333, 0.04689110387601665, 0.04689110387601665, 0.04689110387601665, 0.04689110387601665, 0.04689110387601665, 0.04689110387601665, 0.04689110387601665, 0.2305010005902252, 0.0384168334317042, 0.0768336668634084, 0.0384168334317042, 0.0384168334317042, 0.0768336668634084, 0.0384168334317042, 0.0384168334317042, 0.0384168334317042, 0.0768336668634084, 0.0384168334317042, 0.0384168334317042, 0.0384168334317042, 0.0384168334317042, 0.2152229957727466, 0.18807110142917483, 0.12058238314695535, 0.12058238314695535, 0.36174714944086606, 0.19305754160605218, 0.19305754160605218, 0.5260882756020187, 0.1815477876590894, 0.18524907739600593, 0.18524907739600593, 0.18524907739600593, 0.23624651231324587, 0.19624635341876195, 0.24394298301831704, 0.19331823236339596, 0.14498867427254697, 0.14498867427254697, 0.04832955809084899, 0.04832955809084899, 0.04832955809084899, 0.04832955809084899, 0.04832955809084899, 0.04832955809084899, 0.04832955809084899, 0.1628767142686848, 0.1628767142686848, 0.1628767142686848, 0.054292238089561594, 0.054292238089561594, 0.054292238089561594, 0.054292238089561594, 0.054292238089561594, 0.054292238089561594, 0.19612163638009136, 0.11767298182805483, 0.11767298182805483, 0.07844865455203655, 0.039224327276018274, 0.039224327276018274, 0.039224327276018274, 0.039224327276018274, 0.039224327276018274, 0.039224327276018274, 0.039224327276018274, 0.23532522906031014, 0.20316510254054404, 0.14453711974550684, 0.2890742394910137, 0.14453711974550684, 0.14453711974550684, 0.17508358489200812, 0.26489056333888167, 0.08156874788258849, 0.16313749576517697, 0.08156874788258849, 0.08156874788258849, 0.08156874788258849, 0.08156874788258849, 0.08156874788258849, 0.2084534009910282, 0.08082479323555472, 0.16164958647110944, 0.08082479323555472, 0.08082479323555472, 0.16164958647110944, 0.08082479323555472, 0.08082479323555472, 0.18949194781673448, 0.18949194781673448, 0.14454346288981237, 0.21681519433471855, 0.14454346288981237, 0.07227173144490619, 0.14454346288981237, 0.19843035355935393, 0.19843035355935393, 0.09921517677967696, 0.3109669387951156, 0.08040514108506576, 0.16081028217013152, 0.08040514108506576, 0.16081028217013152, 0.08040514108506576, 0.08040514108506576, 0.14167627333488314, 0.14167627333488314, 0.14167627333488314, 0.07083813666744157, 0.07083813666744157, 0.14167627333488314, 0.216894809974885, 0.216894809974885, 0.1084474049874425, 0.1648849204360741, 0.1648849204360741, 0.1648849204360741, 0.25566822425045943, 0.4401277538255498, 0.07335462563759164, 0.07335462563759164, 0.07335462563759164, 0.07335462563759164, 0.4837557979951958, 0.12093894949879895, 0.06520937786961757, 0.13041875573923514, 0.13041875573923514, 0.06520937786961757, 0.06520937786961757, 0.06520937786961757, 0.06520937786961757, 0.06520937786961757, 0.06520937786961757, 0.06520937786961757, 0.06520937786961757, 0.06520937786961757, 0.06520937786961757, 0.16666409539518678, 0.5589193026967038, 0.09315321711611729, 0.5068438676455737, 0.1267109669113934, 0.1267109669113934, 0.16413353104846182, 0.16413353104846182, 0.16413353104846182, 0.16413353104846182, 0.14653750909551888, 0.14653750909551888, 0.14653750909551888, 0.332239239630241, 0.1661196198151205, 0.1661196198151205, 0.13881741850215656, 0.13881741850215656, 0.13881741850215656, 0.13879719487903114, 0.13879719487903114, 0.13879719487903114, 0.13879719487903114, 0.14744859714746222, 0.14744859714746222, 0.14926800177486296, 0.14926800177486296, 0.14926800177486296, 0.16188587530101373, 0.17702024240658426, 0.17702024240658426, 0.17856991594185695, 0.215604941824504, 0.18530715148263222, 0.18530715148263222, 0.19798662462296937, 0.2020574035219576, 0.20439704588070587, 0.1299788673617009, 0.1299788673617009, 0.1299788673617009, 0.1299788673617009, 0.1299788673617009, 0.20049768692222164, 0.20049768692222164, 0.17021394147615032, 0.09569641092670433, 0.09569641092670433, 0.09569641092670433, 0.09569641092670433, 0.09569641092670433, 0.09569641092670433, 0.19975803914516918, 0.19975803914516918, 0.19975803914516918, 0.3167696501397416, 0.2154587622121837, 0.5198763845620629, 0.08664606409367713, 0.08664606409367713, 0.5150971647245347, 0.08584952745408912, 0.08584952745408912, 0.20022598803982405, 0.25977987077231535, 0.2016308037127814, 0.22486571216630183, 0.19822239676584577, 0.16544211028693556, 0.16544211028693556, 0.16544211028693556, 0.18575747137696497, 0.18575747137696497, 0.19379319059376732, 0.18554326779076113, 0.2331608278783177, 0.2716820404881066, 0.17687259601241537, 0.17687259601241537, 0.1954273838729265, 0.18634813603150832, 0.18634813603150832, 0.19306060826880342, 0.19306060826880342, 0.23083212342526932, 0.21394745955617897, 0.21394745955617897, 0.21394745955617897, 0.1601726590556621, 0.1601726590556621, 0.1601726590556621, 0.16441329719023406, 0.16441329719023406, 0.16441329719023406, 0.2089328222451753, 0.24207694579760683, 0.17423792147142533, 0.17423792147142533, 0.19338372680193597, 0.2746973776619529, 0.19072142953542498, 0.15805469309651296, 0.15805469309651296, 0.22735803693974363, 0.22735803693974363, 0.2060932737922212, 0.19847085950714374, 0.22553422674166454, 0.08479582800227421, 0.08479582800227421, 0.08479582800227421, 0.08479582800227421, 0.33918331200909685, 0.08519151701914385, 0.08519151701914385, 0.08519151701914385, 0.08519151701914385, 0.3407660680765754, 0.08519151701914385, 0.09732583484109505, 0.09732583484109505, 0.09732583484109505, 0.29197750452328514, 0.08679204932166246, 0.08679204932166246, 0.08679204932166246, 0.08679204932166246, 0.08679204932166246, 0.3471681972866498, 0.23072668321206907, 0.11903049881765489, 0.23806099763530977, 0.11903049881765489, 0.28154305224641424, 0.14077152612320712, 0.24901014999929105, 0.12450507499964553, 0.12450507499964553, 0.12468627099381176, 0.12468627099381176, 0.2493725419876235, 0.12468627099381176, 0.12468627099381176, 0.1027995430808475, 0.205599086161695, 0.1027995430808475, 0.1027995430808475, 0.13216512572969644, 0.13216512572969644, 0.13216512572969644, 0.13216512572969644, 0.25457856049659716, 0.12728928024829858, 0.12728928024829858, 0.27426381815356043, 0.13713190907678022, 0.234887988494987, 0.1844971957293199, 0.2568525128472694, 0.2476078622598666, 0.19299145994148217, 0.19299145994148217, 0.24649187882419696, 0.22968788192740114, 0.2528910974227881, 0.17938163111562092, 0.2800587219825548, 0.2411486470192485, 0.20299111671518538, 0.22392456588600138, 0.15193816509630292, 0.15193816509630292, 0.17375814436281253, 0.17375814436281253, 0.19447879950675004, 0.19447879950675004, 0.2964698094251249, 0.09882326980837497, 0.09882326980837497, 0.09882326980837497, 0.27171775404145504, 0.18114516936097005, 0.09057258468048503, 0.09057258468048503, 0.4012146465138973, 0.13373821550463244, 0.13373821550463244, 0.14948381077787073, 0.14948381077787073, 0.14948381077787073, 0.19903813937154835, 0.19903813937154835, 0.18011245585463337, 0.2215990573758727, 0.32737813124614806, 0.10912604374871601, 0.10912604374871601, 0.10912604374871601, 0.2714644829239673, 0.18097632194931154, 0.09048816097465577, 0.37314373999809797, 0.12438124666603266, 0.12438124666603266, 0.2221568646648079, 0.28641829641237676, 0.14320914820618838, 0.23983800466090324, 0.1849584908364729, 0.24611486242015798, 0.2639040853931167, 0.2055996725775646, 0.13521589815943685, 0.13521589815943685, 0.13521589815943685, 0.13521589815943685, 0.18297578525037694, 0.18297578525037694, 0.18297578525037694, 0.1612044044720866, 0.18757341231117627, 0.18757341231117627, 0.14832993063623628, 0.14832993063623628, 0.14778903903222634, 0.14778903903222634, 0.14778903903222634, 0.08784126964028405, 0.08784126964028405, 0.1756825392805681, 0.08784126964028405, 0.26352380892085214, 0.12368224000919129, 0.12368224000919129, 0.12368224000919129, 0.24736448001838257, 0.19732950667306742, 0.19732950667306742, 0.10772743597622322, 0.10772743597622322, 0.10772743597622322, 0.21545487195244645, 0.10772743597622322, 0.10837258462555967, 0.10837258462555967, 0.10837258462555967, 0.10837258462555967, 0.21674516925111934, 0.10780475558169819, 0.10780475558169819, 0.10780475558169819, 0.21560951116339638, 0.15942787860586088, 0.15942787860586088, 0.15942787860586088, 0.09337969888604081, 0.09337969888604081, 0.09337969888604081, 0.09337969888604081, 0.18675939777208161, 0.11059664226414608, 0.11059664226414608, 0.11059664226414608, 0.22119328452829215, 0.10486249884117915, 0.10486249884117915, 0.2097249976823583, 0.10486249884117915, 0.2097249976823583, 0.10590888577463999, 0.10590888577463999, 0.10590888577463999, 0.10590888577463999, 0.21181777154927997, 0.163700887340453, 0.163700887340453, 0.163700887340453, 0.11851697412263804, 0.11851697412263804, 0.11851697412263804, 0.23703394824527607, 0.18584382669489483, 0.18584382669489483, 0.27073891947635803, 0.22604313635324036, 0.22604313635324036, 0.21362528068937262, 0.20233635927734359, 0.2655421671364799, 0.1857886791494643, 0.18031534339842697, 0.18031534339842697, 0.21317827517472251, 0.2853204931925697, 0.1991163351409556, 0.14988445135526376, 0.29976890271052753, 0.14988445135526376, 0.1612568767617776, 0.2156591005856019, 0.1131689946407176, 0.1131689946407176, 0.1131689946407176, 0.10619176193857964, 0.10619176193857964, 0.10619176193857964, 0.21238352387715928, 0.12806939499017753, 0.12806939499017753, 0.12806939499017753, 0.25613878998035505, 0.13882986808845285, 0.13882986808845285, 0.13882986808845285, 0.13882986808845285, 0.13658472129339627, 0.13658472129339627, 0.13658472129339627, 0.16464968199258614, 0.16464968199258614, 0.18951881173626062, 0.18951881173626062, 0.17833647119262105, 0.17833647119262105, 0.22285766382079011, 0.22285766382079011, 0.17649036164837203, 0.18940541748630835, 0.2583043095983167, 0.220704469656248, 0.2030096484477247, 0.14861014756028712, 0.14861014756028712, 0.14861014756028712, 0.14861014756028712, 0.14096308811520203, 0.14096308811520203, 0.14096308811520203, 0.14096308811520203, 0.11829569938279484, 0.11829569938279484, 0.11829569938279484, 0.11829569938279484, 0.11829569938279484, 0.11829569938279484, 0.10990685483125745, 0.10990685483125745, 0.10990685483125745, 0.10990685483125745, 0.10990685483125745, 0.10990685483125745, 0.13399198258835218, 0.13399198258835218, 0.13399198258835218, 0.13399198258835218, 0.14920375529179983, 0.14920375529179983, 0.14920375529179983, 0.14920375529179983, 0.14057188867699336, 0.14057188867699336, 0.14057188867699336, 0.14057188867699336, 0.14057188867699336, 0.18597789276478988, 0.14629272962975248, 0.14629272962975248, 0.29665963738432477, 0.14832981869216239, 0.054498597482083105, 0.054498597482083105, 0.054498597482083105, 0.16349579244624932, 0.32699158489249863, 0.054498597482083105, 0.054498597482083105, 0.054715359683307346, 0.054715359683307346, 0.16414607904992204, 0.38300751778315145, 0.054715359683307346, 0.19270695579380437, 0.2679191629485545, 0.13395958147427725, 0.13395958147427725, 0.11836357409481149, 0.23672714818962298, 0.11836357409481149, 0.07812818888150097, 0.052085459254333985, 0.052085459254333985, 0.07812818888150097, 0.10417091850866797, 0.026042729627166993, 0.052085459254333985, 0.23438456664450294, 0.026042729627166993, 0.07812818888150097, 0.026042729627166993, 0.026042729627166993, 0.026042729627166993, 0.026042729627166993, 0.052085459254333985, 0.07585616494619614, 0.05057077663079743, 0.05057077663079743, 0.07585616494619614, 0.10114155326159487, 0.025285388315398716, 0.025285388315398716, 0.22756849483858843, 0.025285388315398716, 0.07585616494619614, 0.025285388315398716, 0.025285388315398716, 0.025285388315398716, 0.025285388315398716, 0.05057077663079743, 0.025285388315398716, 0.20415019570032084, 0.0772989290151977, 0.05153261934346514, 0.05153261934346514, 0.0772989290151977, 0.10306523868693028, 0.02576630967173257, 0.05153261934346514, 0.2576630967173257, 0.02576630967173257, 0.0772989290151977, 0.02576630967173257, 0.02576630967173257, 0.02576630967173257, 0.02576630967173257, 0.02576630967173257, 0.05153261934346514, 0.02576630967173257, 0.1167575343867622, 0.1167575343867622, 0.3502726031602866, 0.1167575343867622, 0.0969404950369448, 0.0969404950369448, 0.1938809900738896, 0.2908214851108344, 0.0969404950369448, 0.2767519166461677, 0.13837595832308386, 0.08361520147910459, 0.08361520147910459, 0.16723040295820918, 0.2508456044373138, 0.08361520147910459, 0.20019453926390315, 0.2321115734868653, 0.24176871894068844, 0.22777213325960344, 0.22777213325960344, 0.21713028929002876, 0.21713028929002876, 0.06115212907742517, 0.18345638723227553, 0.06115212907742517, 0.06115212907742517, 0.06115212907742517, 0.06115212907742517, 0.06115212907742517, 0.12230425815485034, 0.06115212907742517, 0.06115212907742517, 0.23656727479005912, 0.23656727479005912, 0.23656727479005912, 0.2475030461192475, 0.2475030461192475, 0.10202883121630292, 0.05101441560815146, 0.1530432468244544, 0.05101441560815146, 0.05101441560815146, 0.05101441560815146, 0.05101441560815146, 0.05101441560815146, 0.05101441560815146, 0.05101441560815146, 0.05101441560815146, 0.16660314061464992, 0.16660314061464992, 0.13009598543157838, 0.13009598543157838, 0.13009598543157838, 0.13009598543157838, 0.2069870691431643, 0.10349353457158215, 0.0689956897143881, 0.03449784485719405, 0.03449784485719405, 0.03449784485719405, 0.1379913794287762, 0.03449784485719405, 0.03449784485719405, 0.03449784485719405, 0.03449784485719405, 0.03449784485719405, 0.03449784485719405, 0.07506406429437225, 0.1501281285887445, 0.07506406429437225, 0.1501281285887445, 0.1501281285887445, 0.07506406429437225, 0.07506406429437225, 0.09552057915383921, 0.09552057915383921, 0.09552057915383921, 0.09552057915383921, 0.09552057915383921, 0.19104115830767843, 0.09552057915383921, 0.10434194528185216, 0.10434194528185216, 0.20868389056370432, 0.10434194528185216, 0.12994368331405792, 0.12994368331405792, 0.06497184165702896, 0.06497184165702896, 0.06497184165702896, 0.06497184165702896, 0.06497184165702896, 0.06497184165702896, 0.22325028186077442, 0.22325028186077442, 0.19826614565438389, 0.19826614565438389, 0.19826614565438389, 0.10275970561780104, 0.10275970561780104, 0.20551941123560208, 0.10275970561780104, 0.14394009563595112, 0.047980031878650374, 0.047980031878650374, 0.047980031878650374, 0.047980031878650374, 0.14394009563595112, 0.047980031878650374, 0.047980031878650374, 0.047980031878650374, 0.047980031878650374, 0.047980031878650374, 0.047980031878650374, 0.047980031878650374, 0.103076097402159, 0.103076097402159, 0.103076097402159, 0.206152194804318, 0.103076097402159, 0.09751499508912448, 0.09751499508912448, 0.09751499508912448, 0.09751499508912448, 0.19502999017824896, 0.09751499508912448, 0.0948194165749788, 0.1896388331499576, 0.0948194165749788, 0.0948194165749788, 0.1896388331499576, 0.0948194165749788, 0.12530973495288608, 0.12530973495288608, 0.12530973495288608, 0.25061946990577216, 0.09702527615612172, 0.19405055231224344, 0.09702527615612172, 0.09702527615612172, 0.19405055231224344, 0.3002668305938278, 0.1501334152969139, 0.1501334152969139, 0.07506670764845695, 0.07506670764845695, 0.07506670764845695, 0.3716597398540275, 0.18582986992701375, 0.09291493496350688, 0.09291493496350688, 0.21102079997706163, 0.10551039998853082, 0.10551039998853082, 0.10551039998853082, 0.10551039998853082, 0.10551039998853082, 0.19238071832312273, 0.21273767576416752, 0.3106945030965429, 0.15534725154827145, 0.17124951546369696, 0.3118048671655282, 0.1501779214416736, 0.3003558428833472, 0.27891110181015627, 0.13945555090507814, 0.23111922567801824, 0.2568260179420394, 0.17248844183027037, 0.17248844183027037, 0.24902657661755992, 0.22014797886344056, 0.22014797886344056, 0.2399283536734902, 0.18612001717408727, 0.18612001717408727, 0.2052508319374683, 0.2534510410144255, 0.12672552050721275, 0.1406546161874267, 0.1406546161874267, 0.11356942219877698, 0.11356942219877698, 0.11356942219877698, 0.1672111059772517, 0.1672111059772517, 0.24645686433171066, 0.166998169744798, 0.333996339489596, 0.16132730229697514, 0.16132730229697514, 0.3226546045939503, 0.16927973129222845, 0.3385594625844569, 0.13106170780456045, 0.13106170780456045, 0.13106170780456045, 0.13106170780456045, 0.26572859824215433, 0.20498076366422388, 0.20498076366422388, 0.21571237807980684, 0.16466503914394132, 0.16466503914394132, 0.23520560357420853, 0.2335164912057011, 0.1938002376871257, 0.24454814435970637, 0.24454814435970637, 0.18229776829551467, 0.18229776829551467, 0.13676016549751963, 0.13676016549751963, 0.13676016549751963, 0.13676016549751963, 0.13676016549751963, 0.18959706116537794, 0.18959706116537794, 0.2568765944797993, 0.2661282305165623, 0.23808229574294207, 0.11904114787147103, 0.11904114787147103, 0.11904114787147103, 0.1588289029251998, 0.05294296764173327, 0.05294296764173327, 0.10588593528346654, 0.05294296764173327, 0.05294296764173327, 0.05294296764173327, 0.05294296764173327, 0.05294296764173327, 0.05294296764173327, 0.1588289029251998, 0.05294296764173327, 0.16989560142786767, 0.056631867142622555, 0.11326373428524511, 0.056631867142622555, 0.056631867142622555, 0.056631867142622555, 0.056631867142622555, 0.056631867142622555, 0.16989560142786767, 0.056631867142622555, 0.056631867142622555, 0.17135906267169485, 0.05711968755723161, 0.11423937511446322, 0.05711968755723161, 0.05711968755723161, 0.05711968755723161, 0.05711968755723161, 0.17135906267169485, 0.05711968755723161, 0.05711968755723161, 0.1363468172540866, 0.1363468172540866, 0.2726936345081732, 0.25269203584556676, 0.12634601792278338, 0.12634601792278338, 0.12634601792278338, 0.11401037485576138, 0.11401037485576138, 0.22802074971152275, 0.20979952422539594, 0.10489976211269797, 0.10489976211269797, 0.10489976211269797, 0.10489976211269797, 0.25816166912582705, 0.12908083456291353, 0.12908083456291353, 0.12908083456291353, 0.12908083456291353, 0.2252364116666987, 0.11261820583334935, 0.11261820583334935, 0.11261820583334935, 0.2252364116666987, 0.11686089841760726, 0.11686089841760726, 0.23372179683521452, 0.11955174577214053, 0.11955174577214053, 0.11955174577214053, 0.11955174577214053, 0.23910349154428107, 0.16455644121559326, 0.16455644121559326, 0.16455644121559326, 0.1489784722454266, 0.1489784722454266, 0.1489784722454266, 0.2880648593986806, 0.1440324296993403, 0.1440324296993403, 0.12742244509843373, 0.12742244509843373, 0.12742244509843373, 0.12742244509843373, 0.12742244509843373, 0.13078173457927475, 0.13078173457927475, 0.13078173457927475, 0.16521722607639128, 0.16521722607639128, 0.16521722607639128, 0.12271665218185583, 0.12271665218185583, 0.12271665218185583, 0.12271665218185583, 0.12271665218185583, 0.12226430197280544, 0.12226430197280544, 0.12226430197280544, 0.12226430197280544, 0.12226430197280544, 0.12226430197280544, 0.11926086190307647, 0.11926086190307647, 0.11926086190307647, 0.11926086190307647, 0.11926086190307647, 0.2170998788125149, 0.32411338240986115, 0.16205669120493058, 0.05720770174403405, 0.05720770174403405, 0.17162310523210217, 0.05720770174403405, 0.34324621046420434, 0.05720770174403405, 0.057275934512654704, 0.057275934512654704, 0.17182780353796412, 0.057275934512654704, 0.34365560707592824, 0.057275934512654704, 0.1351634838142201, 0.2703269676284402, 0.1351634838142201, 0.14003864191691162, 0.28007728383382324, 0.14003864191691162, 0.07562836079797884, 0.050418907198652566, 0.050418907198652566, 0.07562836079797884, 0.10083781439730513, 0.025209453599326283, 0.050418907198652566, 0.22688508239393654, 0.025209453599326283, 0.07562836079797884, 0.025209453599326283, 0.025209453599326283, 0.025209453599326283, 0.025209453599326283, 0.025209453599326283, 0.025209453599326283, 0.050418907198652566, 0.025209453599326283, 0.07752510201152928, 0.05168340134101952, 0.05168340134101952, 0.07752510201152928, 0.10336680268203904, 0.02584170067050976, 0.05168340134101952, 0.23257530603458784, 0.02584170067050976, 0.07752510201152928, 0.02584170067050976, 0.02584170067050976, 0.02584170067050976, 0.02584170067050976, 0.05168340134101952, 0.07700769131496983, 0.051338460876646556, 0.051338460876646556, 0.07700769131496983, 0.10267692175329311, 0.025669230438323278, 0.051338460876646556, 0.2310230739449095, 0.025669230438323278, 0.07700769131496983, 0.025669230438323278, 0.025669230438323278, 0.025669230438323278, 0.025669230438323278, 0.025669230438323278, 0.025669230438323278, 0.051338460876646556, 0.025669230438323278, 0.12205778089703834, 0.12205778089703834, 0.366173342691115, 0.12205778089703834, 0.11044568069359416, 0.11044568069359416, 0.33133704208078246, 0.11044568069359416, 0.11044568069359416, 0.25344412793349913, 0.12672206396674957, 0.12672206396674957, 0.08559367745444259, 0.08559367745444259, 0.08559367745444259, 0.2567810323633278, 0.08559367745444259, 0.32834234896698644, 0.16417117448349322, 0.2035992736223622, 0.052753560658320216, 0.10550712131664043, 0.15826068197496065, 0.3692749246082415, 0.052753560658320216, 0.052753560658320216, 0.05760636089426635, 0.1152127217885327, 0.17281908268279905, 0.3456381653655981, 0.05760636089426635, 0.12367314931696423, 0.3710194479508927, 0.12367314931696423, 0.24845059290803367, 0.12422529645401684, 0.10260977501396554, 0.05130488750698277, 0.05130488750698277, 0.07695733126047416, 0.10260977501396554, 0.025652443753491384, 0.025652443753491384, 0.2565244375349139, 0.025652443753491384, 0.07695733126047416, 0.025652443753491384, 0.025652443753491384, 0.025652443753491384, 0.025652443753491384, 0.05130488750698277, 0.07887922387160622, 0.05258614924773748, 0.05258614924773748, 0.07887922387160622, 0.10517229849547496, 0.02629307462386874, 0.05258614924773748, 0.23663767161481866, 0.02629307462386874, 0.07887922387160622, 0.02629307462386874, 0.02629307462386874, 0.02629307462386874, 0.05258614924773748, 0.07884697798318689, 0.05256465198879126, 0.05256465198879126, 0.07884697798318689, 0.10512930397758252, 0.02628232599439563, 0.05256465198879126, 0.2365409339495607, 0.02628232599439563, 0.07884697798318689, 0.02628232599439563, 0.02628232599439563, 0.02628232599439563, 0.02628232599439563, 0.05256465198879126, 0.02628232599439563, 0.1086195743953832, 0.1086195743953832, 0.3258587231861496, 0.1086195743953832, 0.113440636578127, 0.113440636578127, 0.340321909734381, 0.113440636578127, 0.13266580297624406, 0.39799740892873214, 0.13266580297624406, 0.0846664149788062, 0.0846664149788062, 0.0846664149788062, 0.25399924493641857, 0.0846664149788062, 0.12748918967789422, 0.12748918967789422, 0.25497837935578843, 0.25497837935578843, 0.190392122931639, 0.20598317974348668, 0.06866105991449556, 0.13732211982899112, 0.06866105991449556, 0.20598317974348668, 0.06866105991449556, 0.09748677157980182, 0.09748677157980182, 0.09748677157980182, 0.19497354315960364, 0.09748677157980182, 0.3587963062413984, 0.23919753749426562, 0.09399184752727617, 0.09399184752727617, 0.09399184752727617, 0.18798369505455234, 0.09399184752727617, 0.33780244234872725, 0.11260081411624243, 0.22520162823248485, 0.16464569147584557, 0.32929138295169114, 0.11816927905274152, 0.11816927905274152, 0.23633855810548304, 0.11816927905274152, 0.11054766991553837, 0.22109533983107674, 0.11054766991553837, 0.0950480770667232, 0.0950480770667232, 0.1900961541334464, 0.1900961541334464, 0.09233739653189309, 0.09233739653189309, 0.09233739653189309, 0.2770121895956793, 0.09233739653189309, 0.3582809930810272, 0.10217137778430604, 0.10217137778430604, 0.2043427555686121, 0.2043427555686121, 0.10531179331969523, 0.10531179331969523, 0.10531179331969523, 0.21062358663939046, 0.10531179331969523, 0.11209776105097756, 0.11209776105097756, 0.11209776105097756, 0.22419552210195512, 0.22419552210195512, 0.10197668045384771, 0.10197668045384771, 0.20395336090769542, 0.10197668045384771, 0.10743255709093782, 0.21486511418187565, 0.10743255709093782, 0.0949629834708195, 0.0949629834708195, 0.0949629834708195, 0.189925966941639, 0.0949629834708195, 0.0825137188358105, 0.0825137188358105, 0.0825137188358105, 0.0825137188358105, 0.0825137188358105, 0.165027437671621, 0.0825137188358105, 0.32724372316632494, 0.35425970294862696, 0.15643390644069835, 0.15643390644069835, 0.15643390644069835, 0.1752833149769378, 0.1752833149769378, 0.15973482227576155, 0.15973482227576155, 0.3194696445515231, 0.14472115060240306, 0.14472115060240306, 0.2511091193361189, 0.2511091193361189, 0.21058894079378698, 0.20549023421473836, 0.19847701015136587, 0.19847701015136587, 0.19847701015136587, 0.2232515527884929, 0.17080600795280412, 0.18824848415002662, 0.18105272630329247, 0.18105272630329247, 0.18105272630329247, 0.15626127348958135, 0.15626127348958135, 0.24024288181198253, 0.18978387990500237, 0.3010435964371224, 0.18884758696875562, 0.2177025692440555, 0.2177025692440555, 0.2177025692440555, 0.2224016237603694, 0.2224016237603694, 0.2255717911757892, 0.2255717911757892, 0.10917019072767649, 0.10917019072767649, 0.10917019072767649, 0.10917019072767649, 0.10917019072767649, 0.1909495761496423, 0.27046943417447167, 0.18162808086975482, 0.17250285286752645, 0.16104858593614615, 0.16104858593614615, 0.23694068935462093, 0.17042238232688767, 0.34084476465377533, 0.15786692878119885, 0.15786692878119885, 0.16186658492418637, 0.16186658492418637, 0.2455608021902314, 0.22027559870380345, 0.22027559870380345, 0.16693528994285833, 0.33387057988571667, 0.224192895889403, 0.2550409147557943, 0.2550409147557943, 0.20379493208568858, 0.20379493208568858, 0.2814698488614288, 0.2814698488614288, 0.14209587218270212, 0.28419174436540423, 0.16711375820669847, 0.33422751641339693, 0.13232790468612665, 0.2646558093722533, 0.3618868186747475, 0.13361146640789187, 0.26722293281578374, 0.12859126988912806, 0.2571825397782561, 0.2068062570442142, 0.27562389921738, 0.23833756513793253, 0.23979082455485295, 0.13202446713003554, 0.13202446713003554, 0.13202446713003554, 0.13202446713003554, 0.23436891561303042, 0.2431597382063399, 0.2635517061163571, 0.1734061474393139, 0.2002027336075855, 0.25865989977740483, 0.18409853210787103, 0.19087068341336189, 0.20946498320204027, 0.2048495840632662, 0.2048495840632662, 0.2427097903141968, 0.2427097903141968, 0.20006919593489095, 0.20695337805996702, 0.1909307665452337, 0.1909307665452337, 0.2118581671169001, 0.21565215078489675, 0.23854707228750424, 0.20966413300155873, 0.17161860682239638, 0.17527117331672437, 0.17527117331672437, 0.20320772116523383, 0.20320772116523383, 0.23443589871222711, 0.31053252597560654, 0.19423656569155096, 0.24751864365763612, 0.22194007679594627, 0.22194007679594627, 0.186248926233105, 0.186248926233105, 0.1681161448157758, 0.2621221755748125, 0.16615090639815314, 0.23225845622582472, 0.23225845622582472, 0.18238884794226043, 0.18238884794226043, 0.17004732095666378, 0.17004732095666378, 0.20574069791205063, 0.20184883020458683, 0.20184883020458683, 0.21537899280973155, 0.21537899280973155, 0.1868834494929219, 0.1868834494929219, 0.278951415970885, 0.1394757079854425, 0.1394757079854425, 0.15894465028163005, 0.15894465028163005, 0.15894465028163005, 0.12723231259172932, 0.12723231259172932, 0.12723231259172932, 0.2072259047834894, 0.2523858181957823, 0.14817301390153656, 0.14817301390153656, 0.14817301390153656, 0.29990931676067417, 0.29990931676067417, 0.14698159358694157, 0.14698159358694157, 0.14698159358694157, 0.17469503799837993, 0.157466289722168, 0.14709827158601935, 0.14709827158601935, 0.14709827158601935, 0.14709827158601935, 0.14709827158601935, 0.2165827625309371, 0.10818094519953791, 0.21636189039907583, 0.05409047259976896, 0.05409047259976896, 0.05409047259976896, 0.05409047259976896, 0.05409047259976896, 0.05409047259976896, 0.05409047259976896, 0.05409047259976896, 0.05409047259976896, 0.05409047259976896, 0.08706179777130614, 0.21765449442826534, 0.08706179777130614, 0.04353089888565307, 0.04353089888565307, 0.04353089888565307, 0.04353089888565307, 0.04353089888565307, 0.04353089888565307, 0.04353089888565307, 0.08706179777130614, 0.04353089888565307, 0.04353089888565307, 0.04353089888565307, 0.187575702897945, 0.187575702897945, 0.1771811198572333, 0.17699661883213466, 0.17699661883213466, 0.18528194127168718, 0.16006919627331637, 0.16006919627331637, 0.14955749605562307, 0.14955749605562307, 0.17329088089711325, 0.17329088089711325, 0.17329088089711325, 0.1599835519926709, 0.1599835519926709, 0.1599835519926709, 0.1773906307348499, 0.1773906307348499, 0.1773906307348499, 0.2442769912571351, 0.2074449122548664, 0.1962690075568307, 0.1985176591980708, 0.1985176591980708, 0.1990967511367378, 0.290085677370178, 0.18058955996882364, 0.18058955996882364, 0.201096854950903, 0.201096854950903, 0.3056892438160344, 0.1704055531837819, 0.1704055531837819, 0.18657382118970905, 0.18657382118970905, 0.16995148889601638, 0.33990297779203277, 0.157213940090109, 0.157213940090109, 0.18140551018818854, 0.18140551018818854, 0.16696517844891462, 0.16696517844891462, 0.24299956859292732, 0.12149978429646366, 0.12149978429646366, 0.12732396931547071, 0.12732396931547071, 0.12732396931547071, 0.25464793863094143, 0.10505202100662811, 0.10505202100662811, 0.10505202100662811, 0.21010404201325622, 0.2912369542993038, 0.2912369542993038, 0.1160517691665447, 0.1160517691665447, 0.2321035383330894, 0.1160517691665447, 0.09492802438917229, 0.09492802438917229, 0.09492802438917229, 0.18985604877834458, 0.09492802438917229, 0.09492802438917229, 0.13924362152247205, 0.13924362152247205, 0.2784872430449441, 0.13496542947769427, 0.26993085895538854, 0.24311510924687804, 0.09724604369875121, 0.08103836974895934, 0.04862302184937561, 0.01620767394979187, 0.03241534789958374, 0.01620767394979187, 0.03241534789958374, 0.04862302184937561, 0.01620767394979187, 0.03241534789958374, 0.01620767394979187, 0.03241534789958374, 0.04862302184937561, 0.01620767394979187, 0.01620767394979187, 0.03241534789958374, 0.03241534789958374, 0.01620767394979187, 0.01620767394979187, 0.04862302184937561, 0.03241534789958374, 0.26116778455693485, 0.09793791920885057, 0.08161493267404214, 0.04896895960442529, 0.016322986534808428, 0.032645973069616856, 0.016322986534808428, 0.04896895960442529, 0.04896895960442529, 0.016322986534808428, 0.04896895960442529, 0.016322986534808428, 0.032645973069616856, 0.04896895960442529, 0.016322986534808428, 0.016322986534808428, 0.032645973069616856, 0.032645973069616856, 0.016322986534808428, 0.016322986534808428, 0.032645973069616856, 0.032645973069616856, 0.10696073305491709, 0.21392146610983417, 0.21392146610983417, 0.10696073305491709, 0.09974219076103116, 0.09974219076103116, 0.09974219076103116, 0.19948438152206233, 0.09974219076103116, 0.09974219076103116, 0.2316840620543478, 0.08535728602002288, 0.07316338801716246, 0.024387796005720823, 0.048775592011441646, 0.012193898002860411, 0.024387796005720823, 0.060969490014302054, 0.060969490014302054, 0.048775592011441646, 0.012193898002860411, 0.012193898002860411, 0.03658169400858123, 0.012193898002860411, 0.024387796005720823, 0.048775592011441646, 0.012193898002860411, 0.024387796005720823, 0.03658169400858123, 0.012193898002860411, 0.024387796005720823, 0.012193898002860411, 0.012193898002860411, 0.024387796005720823, 0.024387796005720823, 0.2044238316679197, 0.20865029800916604, 0.08764461191825505, 0.1752892238365101, 0.08764461191825505, 0.08764461191825505, 0.08764461191825505, 0.08764461191825505, 0.4733938547330955, 0.0946787709466191, 0.0946787709466191, 0.5547363600392107, 0.11094727200784214, 0.17062162177576246, 0.12796621633182184, 0.17062162177576246, 0.042655405443940614, 0.042655405443940614, 0.08531081088788123, 0.042655405443940614, 0.042655405443940614, 0.042655405443940614, 0.042655405443940614, 0.042655405443940614, 0.042655405443940614, 0.17027755819855633, 0.1872771935861798, 0.04681929839654495, 0.04681929839654495, 0.04681929839654495, 0.14045789518963486, 0.04681929839654495, 0.04681929839654495, 0.04681929839654495, 0.04681929839654495, 0.04681929839654495, 0.04681929839654495, 0.18878376177569353, 0.18878376177569353, 0.18878376177569353, 0.22055095647796774, 0.27065282086120096, 0.19357756273608617, 0.30027519535645053, 0.05004586589274175, 0.05004586589274175, 0.1000917317854835, 0.05004586589274175, 0.05004586589274175, 0.05004586589274175, 0.05004586589274175, 0.05004586589274175, 0.05004586589274175, 0.05004586589274175, 0.25862220801481495, 0.03694602971640214, 0.03694602971640214, 0.07389205943280427, 0.03694602971640214, 0.03694602971640214, 0.07389205943280427, 0.03694602971640214, 0.03694602971640214, 0.03694602971640214, 0.07389205943280427, 0.03694602971640214, 0.03694602971640214, 0.03694602971640214, 0.03694602971640214, 0.14355238518631783, 0.14355238518631783, 0.14355238518631783, 0.04785079506210594, 0.04785079506210594, 0.04785079506210594, 0.04785079506210594, 0.04785079506210594, 0.04785079506210594, 0.04785079506210594, 0.04785079506210594, 0.04785079506210594, 0.20600211656526335, 0.1545015874239475, 0.1545015874239475, 0.10300105828263167, 0.05150052914131584, 0.05150052914131584, 0.05150052914131584, 0.05150052914131584, 0.05150052914131584, 0.05150052914131584, 0.20546732331242873, 0.12328039398745724, 0.12328039398745724, 0.0821869293249715, 0.04109346466248575, 0.04109346466248575, 0.04109346466248575, 0.04109346466248575, 0.04109346466248575, 0.04109346466248575, 0.04109346466248575, 0.24706835900626237, 0.2031194780783412, 0.2031194780783412, 0.21552460628433495, 0.2034405282475129, 0.2034405282475129, 0.2488737436874353, 0.20811166581552917, 0.21860343342601465, 0.265161197267463, 0.2062394733122571, 0.2012062390579347, 0.2463204785846727, 0.2236490016301963, 0.15590125957336254, 0.15590125957336254, 0.15590125957336254, 0.15902990342227374, 0.15902990342227374, 0.15902990342227374, 0.15902990342227374, 0.23474002925214627, 0.20602095703759496, 0.20602095703759496, 0.14429710978416896, 0.24049518297361494, 0.09619807318944598, 0.04809903659472299, 0.04809903659472299, 0.04809903659472299, 0.04809903659472299, 0.04809903659472299, 0.13995429656407593, 0.27990859312815186, 0.0933028643760506, 0.0466514321880253, 0.0466514321880253, 0.0466514321880253, 0.0466514321880253, 0.0466514321880253, 0.11456575557453019, 0.1909429259575503, 0.07637717038302012, 0.07637717038302012, 0.03818858519151006, 0.03818858519151006, 0.03818858519151006, 0.03818858519151006, 0.03818858519151006, 0.07637717038302012, 0.03818858519151006, 0.03818858519151006, 0.03818858519151006, 0.3963492942164625, 0.1321164314054875, 0.19292208270478314, 0.13758028885440068, 0.2293004814240011, 0.09172019256960044, 0.04586009628480022, 0.04586009628480022, 0.04586009628480022, 0.04586009628480022, 0.04586009628480022, 0.04586009628480022, 0.04586009628480022, 0.14405105954710157, 0.24008509924516927, 0.09603403969806772, 0.04801701984903386, 0.04801701984903386, 0.04801701984903386, 0.04801701984903386, 0.04801701984903386, 0.04801701984903386, 0.1177718137457345, 0.235543627491469, 0.07851454249715634, 0.03925727124857817, 0.07851454249715634, 0.03925727124857817, 0.03925727124857817, 0.03925727124857817, 0.03925727124857817, 0.03925727124857817, 0.07851454249715634, 0.03925727124857817, 0.03925727124857817, 0.03925727124857817, 0.03925727124857817, 0.1724548825690962, 0.1724548825690962, 0.1724548825690962, 0.30063588113944056, 0.1868451019973809, 0.2860136194556127, 0.14300680972780636, 0.1996703220916472, 0.3198045306721472, 0.2513174319544176, 0.3350788424617652, 0.19848936030068326, 0.2938683421139636, 0.15014283405391357, 0.30028566810782714, 0.3383194109621669, 0.33459769982714005, 0.17333348165394988, 0.17333348165394988, 0.17333348165394988, 0.15528253483766835, 0.15528253483766835, 0.18578281460914262, 0.18578281460914262, 0.18578281460914262, 0.16991757078152186, 0.16991757078152186, 0.16452531514555316, 0.26144273779498206, 0.23193560782065475, 0.23193560782065475, 0.1411781919060819, 0.21846790443481504, 0.21846790443481504, 0.1312211685352168, 0.1312211685352168, 0.10581258969848446, 0.10581258969848446, 0.10581258969848446, 0.10581258969848446, 0.10581258969848446, 0.15202748801888413, 0.05067582933962805, 0.2027033173585122, 0.05067582933962805, 0.05067582933962805, 0.05067582933962805, 0.05067582933962805, 0.05067582933962805, 0.05067582933962805, 0.05067582933962805, 0.05067582933962805, 0.24225324526840888, 0.22768272751865254, 0.31925160038846156, 0.1134632033766057, 0.2269264067532114, 0.1134632033766057, 0.1134632033766057, 0.1134632033766057, 0.10499073599666611, 0.10499073599666611, 0.10499073599666611, 0.10499073599666611, 0.10499073599666611, 0.20213749059929653, 0.20213749059929653, 0.08483011869274963, 0.16966023738549926, 0.08483011869274963, 0.08483011869274963, 0.08483011869274963, 0.08483011869274963, 0.08483011869274963, 0.08483011869274963, 0.08483011869274963, 0.09333479824206727, 0.18666959648413453, 0.09333479824206727, 0.09333479824206727, 0.09333479824206727, 0.09333479824206727, 0.09333479824206727, 0.09333479824206727, 0.16906009017694568, 0.16906009017694568, 0.08453004508847284, 0.08453004508847284, 0.08453004508847284, 0.08453004508847284, 0.08453004508847284, 0.08453004508847284, 0.15774994206507428, 0.05258331402169143, 0.15774994206507428, 0.05258331402169143, 0.05258331402169143, 0.05258331402169143, 0.05258331402169143, 0.05258331402169143, 0.05258331402169143, 0.05258331402169143, 0.05258331402169143, 0.05258331402169143, 0.05258331402169143, 0.14059727576283318, 0.14059727576283318, 0.11613324887506657, 0.11613324887506657, 0.11613324887506657, 0.11613324887506657, 0.11613324887506657, 0.18142697347808304, 0.09071348673904152, 0.09071348673904152, 0.09071348673904152, 0.09071348673904152, 0.09071348673904152, 0.19253509251353731, 0.09738679037526533, 0.19477358075053067, 0.09738679037526533, 0.09738679037526533, 0.09738679037526533, 0.09738679037526533, 0.09738679037526533, 0.2042820178760397, 0.21895659649823565, 0.21895659649823565, 0.15446875102275737, 0.15446875102275737, 0.15446875102275737, 0.14165845264101268, 0.14165845264101268, 0.17307590090439, 0.23976931796653075, 0.2165442762780507, 0.2165442762780507, 0.3524490502879111, 0.15648436092846568, 0.15648436092846568, 0.15648436092846568, 0.4053252210923629, 0.40680435720200814, 0.048576518743890046, 0.2914591124633403, 0.048576518743890046, 0.048576518743890046, 0.048576518743890046, 0.048576518743890046, 0.09715303748778009, 0.048576518743890046, 0.048576518743890046, 0.048576518743890046, 0.048576518743890046, 0.3044158425949578, 0.0507359737658263, 0.0507359737658263, 0.0507359737658263, 0.1014719475316526, 0.0507359737658263, 0.0507359737658263, 0.0507359737658263, 0.0507359737658263, 0.0507359737658263, 0.04198454139575901, 0.2938917897703131, 0.04198454139575901, 0.04198454139575901, 0.04198454139575901, 0.04198454139575901, 0.12595362418727704, 0.04198454139575901, 0.04198454139575901, 0.04198454139575901, 0.04198454139575901, 0.34427174287213913, 0.4151701961992976, 0.1383900653997659, 0.052335126391310306, 0.31401075834786185, 0.052335126391310306, 0.052335126391310306, 0.052335126391310306, 0.10467025278262061, 0.052335126391310306, 0.052335126391310306, 0.052335126391310306, 0.052335126391310306, 0.052335126391310306, 0.0484653993970543, 0.2907923963823258, 0.0484653993970543, 0.0484653993970543, 0.0484653993970543, 0.0969307987941086, 0.0484653993970543, 0.0484653993970543, 0.0484653993970543, 0.0484653993970543, 0.0484653993970543, 0.03961258958722257, 0.277288127110558, 0.03961258958722257, 0.03961258958722257, 0.03961258958722257, 0.11883776876166771, 0.03961258958722257, 0.03961258958722257, 0.03961258958722257, 0.03961258958722257, 0.03961258958722257, 0.03961258958722257, 0.03961258958722257, 0.45875247338129294, 0.2100325962448374, 0.2778664349413717, 0.048390327132297115, 0.24195163566148556, 0.09678065426459423, 0.09678065426459423, 0.14517098139689133, 0.048390327132297115, 0.048390327132297115, 0.048390327132297115, 0.048390327132297115, 0.048390327132297115, 0.048390327132297115, 0.17367090487738573, 0.17367090487738573, 0.17367090487738573, 0.06886180162224616, 0.20658540486673846, 0.06886180162224616, 0.20658540486673846, 0.06886180162224616, 0.06886180162224616, 0.06886180162224616, 0.19382777687720076, 0.06460925895906691, 0.19382777687720076, 0.06460925895906691, 0.06460925895906691, 0.06460925895906691, 0.2609221077006489, 0.10436884308025957, 0.10436884308025957, 0.15655326462038935, 0.05218442154012978, 0.05218442154012978, 0.050385088302913494, 0.25192544151456747, 0.10077017660582699, 0.10077017660582699, 0.15115526490874048, 0.050385088302913494, 0.050385088302913494, 0.23200962906688508, 0.048657909165963624, 0.29194745499578173, 0.09731581833192725, 0.09731581833192725, 0.14597372749789086, 0.048657909165963624, 0.048657909165963624, 0.048657909165963624, 0.18018920741119202, 0.18018920741119202, 0.18018920741119202, 0.22165336278259487, 0.22165336278259487, 0.2287121222017733, 0.21954310008548988, 0.07318103336182996, 0.14636206672365992, 0.07318103336182996, 0.07318103336182996, 0.20771140356697712, 0.06923713452232572, 0.13847426904465143, 0.06923713452232572, 0.06923713452232572, 0.0510768438716616, 0.255384219358308, 0.1021536877433232, 0.1021536877433232, 0.15323053161498482, 0.0510768438716616, 0.0510768438716616, 0.0510768438716616, 0.0510768438716616, 0.0510768438716616, 0.2585643415240687, 0.10342573660962748, 0.10342573660962748, 0.1551386049144412, 0.05171286830481374, 0.05171286830481374, 0.16480119746915398, 0.16480119746915398, 0.1907665520649486, 0.17760875747803118, 0.17004678065424148, 0.16679648351135185, 0.16679648351135185, 0.2087739572611509, 0.2212888738625175, 0.14328862660165514, 0.42986587980496543, 0.14328862660165514, 0.4054876537399654, 0.13516255124665513, 0.4322174384421579, 0.1440724794807193, 0.394885661553507, 0.131628553851169, 0.4195072101483879, 0.1398357367161293, 0.18386416030836672, 0.18386416030836672, 0.10573042670310394, 0.10573042670310394, 0.21146085340620788, 0.10573042670310394, 0.10573042670310394, 0.10573042670310394, 0.38282633027477075, 0.1276087767582569, 0.4075979715495379, 0.13586599051651266, 0.40351432452651476, 0.1345047748421716, 0.39601096805767977, 0.1320036560192266, 0.26248144029798554, 0.13124072014899277, 0.13124072014899277, 0.25281333587064453, 0.12640666793532226, 0.2168491194988521, 0.2168491194988521, 0.19932917870608596, 0.19878666788411145, 0.19878666788411145, 0.24899444544950658, 0.3649331570702003, 0.19732540594583758, 0.19732540594583758, 0.18907164495551507, 0.22594471140740338, 0.23343683134088047, 0.1767187857975854, 0.1767187857975854, 0.18131521907619122, 0.20038043357892926, 0.16728549564848114, 0.25103954413543866, 0.23387217286165693, 0.21877482405221457, 0.10117831637876547, 0.050589158189382734, 0.050589158189382734, 0.050589158189382734, 0.10117831637876547, 0.20235663275753094, 0.1517674745681482, 0.050589158189382734, 0.050589158189382734, 0.050589158189382734, 0.11680047288394835, 0.058400236441974174, 0.058400236441974174, 0.11680047288394835, 0.2336009457678967, 0.17520070932592252, 0.058400236441974174, 0.05877001404711345, 0.05877001404711345, 0.05877001404711345, 0.1175400280942269, 0.2350800561884538, 0.17631004214134033, 0.05877001404711345, 0.07119144741302354, 0.07119144741302354, 0.07119144741302354, 0.28476578965209415, 0.21357434223907062, 0.07119144741302354, 0.0735558232310708, 0.0735558232310708, 0.0735558232310708, 0.2942232929242832, 0.22066746969321235, 0.0735558232310708, 0.052561872689304644, 0.052561872689304644, 0.052561872689304644, 0.052561872689304644, 0.10512374537860929, 0.21024749075721857, 0.15768561806791395, 0.052561872689304644, 0.04870186022165207, 0.04870186022165207, 0.04870186022165207, 0.04870186022165207, 0.09740372044330414, 0.19480744088660829, 0.04870186022165207, 0.1461055806649562, 0.04870186022165207, 0.04870186022165207, 0.04870186022165207, 0.18458784342759813, 0.09229392171379906, 0.09229392171379906, 0.2768817651413972, 0.09229392171379906, 0.08489426918153968, 0.08489426918153968, 0.08489426918153968, 0.254682807544619, 0.08489426918153968, 0.08489426918153968, 0.11262691152035123, 0.11262691152035123, 0.3378807345610537, 0.11262691152035123, 0.11262691152035123, 0.11703009467350917, 0.11703009467350917, 0.3510902840205275, 0.11703009467350917, 0.09413376419121988, 0.09413376419121988, 0.18826752838243976, 0.28240129257365965, 0.09413376419121988, 0.10531611505466108, 0.10531611505466108, 0.21063223010932217, 0.21063223010932217, 0.1121653505001062, 0.1121653505001062, 0.2243307010002124, 0.1121653505001062, 0.09764446582771338, 0.09764446582771338, 0.2929333974831402, 0.09764446582771338, 0.1141763371255792, 0.2283526742511584, 0.1141763371255792, 0.12034866558064901, 0.24069733116129802, 0.12034866558064901, 0.09000254563350006, 0.09000254563350006, 0.27000763690050017, 0.18000509126700012, 0.09000254563350006, 0.10751442026929847, 0.10751442026929847, 0.21502884053859694, 0.10751442026929847, 0.2181518099602813, 0.17786173556159848, 0.15659682593710209, 0.15659682593710209, 0.15659682593710209, 0.2285181376251867, 0.2131299197342783, 0.2131299197342783, 0.2131299197342783, 0.18649556736433948, 0.24125705632676428, 0.18533883647931718, 0.18533883647931718, 0.21258948927263427, 0.18017775853819026, 0.1722531128947034, 0.1722531128947034, 0.1722531128947034, 0.22977013541815758, 0.21809610406943372, 0.1875101013714415, 0.20788852811970984, 0.20788852811970984, 0.21180971585752897, 0.12006051555823366, 0.12006051555823366, 0.12006051555823366, 0.24012103111646732, 0.24762673201063543, 0.1515792161950201, 0.1515792161950201, 0.19375397185853932, 0.19375397185853932, 0.19375397185853932, 0.19975026988704653, 0.25279093395952823, 0.19227412209847342, 0.17613502317683483, 0.17613502317683483, 0.214819063071151, 0.13436081286715762, 0.08957387524477174, 0.13436081286715762, 0.04478693762238587, 0.04478693762238587, 0.08957387524477174, 0.04478693762238587, 0.04478693762238587, 0.04478693762238587, 0.04478693762238587, 0.04478693762238587, 0.04478693762238587, 0.04478693762238587, 0.04478693762238587, 0.04478693762238587, 0.1459260642294025, 0.1459260642294025, 0.18515678787676285, 0.18515678787676285, 0.1802923028743455, 0.3722162134184384, 0.18930569118739377, 0.30393244487087434, 0.3422864147776171, 0.38143883996122074, 0.2299811458906662, 0.13265113255646863, 0.08843408837097909, 0.044217044185489544, 0.044217044185489544, 0.08843408837097909, 0.08843408837097909, 0.044217044185489544, 0.044217044185489544, 0.044217044185489544, 0.044217044185489544, 0.044217044185489544, 0.044217044185489544, 0.044217044185489544, 0.044217044185489544, 0.044217044185489544, 0.2040968169318841, 0.2040968169318841, 0.13820207796228612, 0.04606735932076204, 0.04606735932076204, 0.04606735932076204, 0.09213471864152407, 0.04606735932076204, 0.09213471864152407, 0.04606735932076204, 0.04606735932076204, 0.04606735932076204, 0.04606735932076204, 0.04606735932076204, 0.04606735932076204, 0.04606735932076204, 0.04606735932076204, 0.04606735932076204, 0.26970731552565863, 0.26970731552565863, 0.21473976666782343, 0.39345686017846876, 0.07869137203569375, 0.07869137203569375, 0.07869137203569375, 0.07869137203569375, 0.07869137203569375, 0.5404460321112022, 0.20545261469968837, 0.10272630734984418, 0.20545261469968837, 0.13850019967235694, 0.2770003993447139, 0.1203751756121935, 0.1203751756121935, 0.1203751756121935, 0.240750351224387, 0.1203751756121935, 0.12345385031406118, 0.12345385031406118, 0.24690770062812237, 0.12345385031406118, 0.40990079950937586, 0.13663359983645862, 0.2545996185246306, 0.1272998092623153, 0.1150086840313243, 0.1150086840313243, 0.1150086840313243, 0.2300173680626486, 0.1150086840313243, 0.32125282217189777, 0.16062641108594888, 0.11313826056264445, 0.4525530422505778, 0.12900213023407475, 0.2580042604681495, 0.13957844633016345, 0.13957844633016345, 0.2791568926603269, 0.10260115296560376, 0.10260115296560376, 0.10260115296560376, 0.10260115296560376, 0.10260115296560376, 0.20520230593120753, 0.10260115296560376, 0.1185303621639946, 0.1185303621639946, 0.1185303621639946, 0.1185303621639946, 0.2370607243279892, 0.1185303621639946, 0.10960288302355238, 0.10960288302355238, 0.10960288302355238, 0.10960288302355238, 0.10960288302355238, 0.21920576604710476, 0.10960288302355238, 0.3837640141397889, 0.19628678904094352, 0.04615501140040986, 0.09231002280081972, 0.23077505700204928, 0.04615501140040986, 0.04615501140040986, 0.04615501140040986, 0.04615501140040986, 0.04615501140040986, 0.04615501140040986, 0.04615501140040986, 0.3918729297282635, 0.19460278954286084, 0.237732185190718, 0.237732185190718, 0.04474794370714817, 0.08949588741429634, 0.22373971853574087, 0.04474794370714817, 0.04474794370714817, 0.04474794370714817, 0.04474794370714817, 0.04474794370714817, 0.04474794370714817, 0.04474794370714817, 0.04474794370714817, 0.04474794370714817, 0.04474794370714817, 0.2852343092007384, 0.23607779034057397, 0.14179493334166154, 0.2835898666833231, 0.07089746667083077, 0.07089746667083077, 0.14179493334166154, 0.14561908114037028, 0.21842862171055544, 0.07280954057018514, 0.07280954057018514, 0.14561908114037028, 0.060293791530542686, 0.060293791530542686, 0.18088137459162806, 0.24117516612217074, 0.060293791530542686, 0.060293791530542686, 0.060293791530542686, 0.12058758306108537, 0.06362089186888585, 0.06362089186888585, 0.06362089186888585, 0.19086267560665757, 0.2544835674755434, 0.06362089186888585, 0.06362089186888585, 0.06362089186888585, 0.1272417837377717, 0.06259582515098248, 0.06259582515098248, 0.06259582515098248, 0.18778747545294747, 0.25038330060392994, 0.06259582515098248, 0.06259582515098248, 0.06259582515098248, 0.12519165030196497, 0.07162697993487839, 0.21488093980463516, 0.21488093980463516, 0.07162697993487839, 0.07162697993487839, 0.14325395986975678, 0.14224168986054392, 0.28448337972108784, 0.07112084493027196, 0.07112084493027196, 0.14224168986054392, 0.22706382879793377, 0.22706382879793377, 0.06196683490119115, 0.18590050470357344, 0.2478673396047646, 0.06196683490119115, 0.06196683490119115, 0.06196683490119115, 0.1239336698023823, 0.062140044628052914, 0.062140044628052914, 0.18642013388415873, 0.24856017851221165, 0.062140044628052914, 0.062140044628052914, 0.062140044628052914, 0.12428008925610583, 0.06553792945840216, 0.19661378837520646, 0.19661378837520646, 0.06553792945840216, 0.06553792945840216, 0.06553792945840216, 0.13107585891680432, 0.23954173910211798, 0.18825939266438665, 0.2244107943469266, 0.2709576263363905, 0.13547881316819524, 0.3515065973799973, 0.17575329868999864, 0.33549717660483036, 0.16774858830241518, 0.36134128975226704, 0.18067064487613352, 0.35547861585225876, 0.17773930792612938, 0.17773930792612938, 0.3011495905566158, 0.1505747952783079, 0.26395576917642466, 0.13197788458821233, 0.13197788458821233, 0.1551684785414215, 0.310336957082843, 0.1551684785414215, 0.3027805393522798, 0.1513902696761399, 0.30214268514123754, 0.15107134257061877, 0.2727530731452104, 0.2151375017635761, 0.2151375017635761, 0.1566300555926153, 0.1566300555926153, 0.34093846696578434, 0.1695733193652423, 0.1695733193652423, 0.19452650760526258, 0.19452650760526258, 0.1718400037703309, 0.187678574853749, 0.1555118425571001, 0.1555118425571001, 0.18309610322373304, 0.15624059031351514, 0.20723810668286713, 0.21784452747780178, 0.19854278756008342, 0.19854278756008342, 0.06858546135255275, 0.12002455736696732, 0.15431728804324368, 0.017146365338138188, 0.017146365338138188, 0.034292730676276376, 0.017146365338138188, 0.08573182669069095, 0.05143909601441456, 0.017146365338138188, 0.05143909601441456, 0.034292730676276376, 0.017146365338138188, 0.017146365338138188, 0.034292730676276376, 0.017146365338138188, 0.034292730676276376, 0.017146365338138188, 0.034292730676276376, 0.017146365338138188, 0.017146365338138188, 0.017146365338138188, 0.017146365338138188, 0.3217536458623787, 0.2219133421957388, 0.32544495177416205, 0.2806108715857194, 0.30113226928451, 0.150566134642255, 0.22778658918579928, 0.1479568432185939, 0.2959136864371878, 0.1479568432185939, 0.07397842160929695, 0.08560990310028162, 0.25682970930084487, 0.08560990310028162, 0.17121980620056323, 0.08560990310028162, 0.08560990310028162, 0.08560990310028162, 0.3160323378647861, 0.10534411262159535, 0.10534411262159535, 0.10799132790850018, 0.3239739837255005, 0.10799132790850018, 0.3597673005317362, 0.43386301298596525, 0.08677260259719305, 0.08677260259719305, 0.4692308438598443, 0.14921102357325855, 0.14921102357325855, 0.14921102357325855, 0.14921102357325855, 0.14639586129344623, 0.14639586129344623, 0.14639586129344623, 0.12510801283254389, 0.12510801283254389, 0.12510801283254389, 0.0417026709441813, 0.0834053418883626, 0.0834053418883626, 0.0417026709441813, 0.0417026709441813, 0.0417026709441813, 0.0417026709441813, 0.0417026709441813, 0.0834053418883626, 0.0417026709441813, 0.0417026709441813, 0.0417026709441813, 0.0417026709441813, 0.0417026709441813, 0.1411779417998811, 0.0470593139332937, 0.0470593139332937, 0.0470593139332937, 0.0941186278665874, 0.0941186278665874, 0.0470593139332937, 0.0470593139332937, 0.0470593139332937, 0.0470593139332937, 0.0470593139332937, 0.0470593139332937, 0.0470593139332937, 0.0470593139332937, 0.0470593139332937, 0.3262315998065769, 0.2808287095870988, 0.37280605853275567, 0.07456121170655114, 0.07456121170655114, 0.07456121170655114, 0.07456121170655114, 0.4030328051314452, 0.04404022333486467, 0.08808044666972933, 0.22020111667432335, 0.04404022333486467, 0.04404022333486467, 0.04404022333486467, 0.04404022333486467, 0.04404022333486467, 0.04404022333486467, 0.04404022333486467, 0.04404022333486467, 0.04404022333486467, 0.23402753841062615, 0.23402753841062615, 0.2240435946149902, 0.18741675234279218, 0.18741675234279218, 0.12494450156186146, 0.06247225078093073, 0.06247225078093073, 0.06247225078093073, 0.12494450156186146, 0.06919091557581265, 0.1383818311516253, 0.20757274672743795, 0.06919091557581265, 0.06919091557581265, 0.06919091557581265, 0.1383818311516253, 0.059267858958654905, 0.059267858958654905, 0.1778035768759647, 0.23707143583461962, 0.059267858958654905, 0.059267858958654905, 0.059267858958654905, 0.11853571791730981, 0.15763380469900376, 0.3152676093980075, 0.15763380469900376, 0.1536035682944041, 0.3072071365888082, 0.06190762462084924, 0.1857228738625477, 0.24763049848339697, 0.06190762462084924, 0.06190762462084924, 0.12381524924169848, 0.059809590513844366, 0.059809590513844366, 0.11961918102768873, 0.23923836205537746, 0.059809590513844366, 0.059809590513844366, 0.059809590513844366, 0.11961918102768873, 0.15491272522364086, 0.15491272522364086, 0.15491272522364086, 0.15491272522364086, 0.28296095801504545, 0.15711258181454293, 0.23566887272181442, 0.07855629090727147, 0.07855629090727147, 0.15711258181454293, 0.2327371843174492, 0.2327371843174492, 0.07757906143914974, 0.07757906143914974, 0.15515812287829947, 0.062198717031353476, 0.18659615109406041, 0.2487948681254139, 0.062198717031353476, 0.062198717031353476, 0.062198717031353476, 0.12439743406270695, 0.1779233302637334, 0.06332382555969333, 0.06332382555969333, 0.18997147667908, 0.25329530223877333, 0.06332382555969333, 0.06332382555969333, 0.06332382555969333, 0.12664765111938667, 0.0666317500313763, 0.0666317500313763, 0.19989525009412887, 0.2665270001255052, 0.0666317500313763, 0.0666317500313763, 0.0666317500313763, 0.1332635000627526, 0.3309355382873139, 0.15633344714468295, 0.3126668942893659, 0.3067936485923553, 0.15339682429617765, 0.15339682429617765, 0.25424944851436665, 0.25272864086755276, 0.24946307553295557, 0.19352148747497183, 0.32061151091342455, 0.20745522397939917, 0.26104020563723057, 0.20998600037387868, 0.23457828705169254, 0.23457828705169254, 0.26111486712380444, 0.15079468669557455, 0.07539734334778728, 0.07539734334778728, 0.07539734334778728, 0.07539734334778728, 0.07539734334778728, 0.07539734334778728, 0.07539734334778728, 0.14486180086158884, 0.14486180086158884, 0.14486180086158884, 0.17865261878291117, 0.17865261878291117, 0.19642964199351812, 0.15319909143292282, 0.15319909143292282, 0.15319909143292282, 0.2201608968056525, 0.3031805810933349, 0.14471063357905092, 0.28942126715810185, 0.14471063357905092, 0.22699344954964343, 0.2558544652736191, 0.24108583908213482, 0.2654102944153536, 0.1327051472076768, 0.1327051472076768, 0.12912099536883012, 0.12912099536883012, 0.12912099536883012, 0.12912099536883012, 0.18671482352231375, 0.18671482352231375, 0.2815712248246658, 0.1407856124123329, 0.04692853747077763, 0.1407856124123329, 0.04692853747077763, 0.04692853747077763, 0.04692853747077763, 0.04692853747077763, 0.18904241382727796, 0.09452120691363898, 0.18904241382727796, 0.09452120691363898, 0.44819089256052635, 0.17927635702421055, 0.24272778026533975, 0.20961757112584084, 0.10480878556292042, 0.20961757112584084, 0.20961757112584084, 0.10424717255274153, 0.10424717255274153, 0.20849434510548306, 0.10424717255274153, 0.37122317298914176, 0.18561158649457088, 0.4022595395690426, 0.16090381582761704, 0.08045190791380852, 0.08045190791380852, 0.20579397686415837, 0.10289698843207919, 0.20579397686415837, 0.10289698843207919, 0.10289698843207919, 0.21065266476136685, 0.41534001515557967, 0.3431779917724369, 0.11439266392414563, 0.11439266392414563, 0.05719633196207281, 0.10944596950499091, 0.10944596950499091, 0.21889193900998183, 0.10944596950499091, 0.3627277597372683, 0.18136387986863414, 0.09068193993431707, 0.18712917469000312, 0.09356458734500156, 0.18712917469000312, 0.09356458734500156, 0.09356458734500156, 0.21633785891208038, 0.10816892945604019, 0.21633785891208038, 0.10816892945604019, 0.10816892945604019, 0.4195727126472076, 0.16782908505888303, 0.08391454252944151, 0.39358160826068017, 0.19679080413034009, 0.09718673265539828, 0.09718673265539828, 0.19437346531079655, 0.09718673265539828, 0.09718673265539828, 0.37916609916241606, 0.18958304958120803, 0.09479152479060401, 0.05835465660102438, 0.05835465660102438, 0.05835465660102438, 0.05835465660102438, 0.05835465660102438, 0.05835465660102438, 0.05835465660102438, 0.05835465660102438, 0.05835465660102438, 0.11670931320204876, 0.05835465660102438, 0.2328263811590165, 0.05398875146274368, 0.05398875146274368, 0.05398875146274368, 0.05398875146274368, 0.05398875146274368, 0.05398875146274368, 0.05398875146274368, 0.05398875146274368, 0.10797750292548736, 0.05398875146274368, 0.05398875146274368, 0.05398875146274368, 0.1664025089378122, 0.1664025089378122, 0.1664025089378122, 0.14947010882446066, 0.14947010882446066, 0.1684069700402955, 0.1684069700402955, 0.1684069700402955, 0.16156544589026184, 0.16156544589026184, 0.20351948016102828, 0.17056105322008003, 0.17056105322008003, 0.1472501790952201, 0.1472501790952201, 0.1472501790952201, 0.14725919934055942, 0.14725919934055942, 0.14725919934055942, 0.21717034359363882, 0.15873188198527777, 0.15873188198527777, 0.30680502570222923, 0.22052587185414219, 0.1742158071367318, 0.1742158071367318, 0.1742158071367318, 0.1742158071367318, 0.17261178317699266, 0.17261178317699266, 0.1755005729865679, 0.1755005729865679, 0.1755005729865679, 0.173055781411912, 0.173055781411912, 0.197631113509027, 0.197631113509027, 0.22815499175301393, 0.22815499175301393, 0.16624599018125263, 0.16624599018125263, 0.16624599018125263, 0.1640176305144914, 0.1640176305144914, 0.17903086375768243, 0.17903086375768243, 0.20338332995815364, 0.20338332995815364, 0.23463064084497529, 0.1962800243845212, 0.2520924368398894, 0.2191635091304582, 0.20898185152704152, 0.29099303254567455, 0.20608436342852376, 0.22964924860768374, 0.11482462430384187, 0.11482462430384187, 0.11482462430384187, 0.1729915071812976, 0.1729915071812976, 0.06548929595281805, 0.1309785919056361, 0.06548929595281805, 0.06548929595281805, 0.06548929595281805, 0.1309785919056361, 0.1309785919056361, 0.06548929595281805, 0.2408590061877553, 0.20327465300438624, 0.21814496402212058, 0.2515593311716998, 0.18730391801392682, 0.18730391801392682, 0.18730391801392682, 0.1893376347003295, 0.3314838014828773, 0.1905660894871885, 0.2372979898827709, 0.2781611697932814, 0.23516183356765424, 0.20432629532410182, 0.20107583335487444, 0.22545721503913776, 0.2967176782372538, 0.21182076782620182, 0.23218005476840245, 0.21899528185062572, 0.21899528185062572, 0.22869660596817695, 0.23768762316756223, 0.20682935499857785, 0.20682935499857785, 0.18738821060063812, 0.20279998517414136, 0.20279998517414136, 0.22450893488272103, 0.19678947913313274, 0.19678947913313274, 0.22409912649104874, 0.13008551351373188, 0.13008551351373188, 0.13008551351373188, 0.33921378410609976, 0.26921391396973515, 0.14219615285044038, 0.14219615285044038, 0.14219615285044038, 0.23216290783509097, 0.218310409643141, 0.20528305596330002, 0.22267046504071042, 0.2042016759596279, 0.18353526887695046, 0.18353526887695046, 0.18353526887695046, 0.18353526887695046, 0.11377528574373771, 0.11377528574373771, 0.11377528574373771, 0.11377528574373771, 0.11377528574373771, 0.11377528574373771, 0.26036109263741614, 0.18344043503382865, 0.18344043503382865, 0.22432636643570306, 0.23828452276633977, 0.2644681470683689, 0.2839351347383257, 0.1964128898623218, 0.24097290402981708, 0.25532983027369127, 0.22886167295543544, 0.22856992301823809, 0.22856992301823809, 0.21105720184165677, 0.2649605181414305, 0.18093662627216756, 0.19995442336001007, 0.06372215907743817, 0.06372215907743817, 0.06372215907743817, 0.06372215907743817, 0.06372215907743817, 0.06372215907743817, 0.06372215907743817, 0.06372215907743817, 0.06372215907743817, 0.06372215907743817, 0.06372215907743817, 0.06372215907743817, 0.06372215907743817, 0.06372215907743817, 0.1955018016635472, 0.07404904423690344, 0.07404904423690344, 0.07404904423690344, 0.07404904423690344, 0.07404904423690344, 0.07404904423690344, 0.07404904423690344, 0.07404904423690344, 0.07404904423690344, 0.07404904423690344, 0.07404904423690344, 0.2629080604639581, 0.0662298283637232, 0.0662298283637232, 0.0662298283637232, 0.0662298283637232, 0.0662298283637232, 0.0662298283637232, 0.0662298283637232, 0.1324596567274464, 0.0662298283637232, 0.0662298283637232, 0.11668623853661468, 0.23337247707322936, 0.12855167903866305, 0.0857011193591087, 0.1714022387182174, 0.04285055967955435, 0.04285055967955435, 0.04285055967955435, 0.04285055967955435, 0.04285055967955435, 0.04285055967955435, 0.04285055967955435, 0.04285055967955435, 0.04285055967955435, 0.04285055967955435, 0.20031888229731065, 0.1693303573654918, 0.056443452455163926, 0.1693303573654918, 0.056443452455163926, 0.056443452455163926, 0.056443452455163926, 0.056443452455163926, 0.056443452455163926, 0.056443452455163926, 0.056443452455163926, 0.13303495658524142, 0.13303495658524142, 0.29948245735554085, 0.14974122867777043, 0.1557741785538787, 0.1557741785538787, 0.16948331254112395, 0.16948331254112395, 0.17040181575330207, 0.25182031682115524, 0.21674421423877824, 0.20647015630207732, 0.23424131166459392, 0.1580968192921883, 0.1580968192921883, 0.2500121554222508, 0.23242384109140127, 0.18598221826233838, 0.18598221826233838, 0.24447537631225608, 0.2686949344196022, 0.2705021580895624, 0.22058947804665044, 0.22058947804665044, 0.19180466497266965, 0.14454129531189971, 0.28908259062379943, 0.14454129531189971, 0.14454129531189971, 0.20915000876108403, 0.20915000876108403, 0.20953162306257336, 0.1292366776960599, 0.1292366776960599, 0.1292366776960599, 0.1292366776960599, 0.20058682487368482, 0.24845419380677541, 0.16832366544561914, 0.19461759258124825, 0.19461759258124825, 0.33779624229172545, 0.320213661118545, 0.3570506305929079, 0.3755421341588528, 0.34504114984529294, 0.43845340312000775], \"Term\": [\"#ac :: k\\u00f5\\u0169\", \"#acc :: #ak\", \"#acc :: #ak\", \"#acc :: #ak\", \"#acc :: #ak\", \"#acc :: #ak\", \"#acc :: #ak\\u028a\", \"#acc :: ak\\u028a\", \"#acc :: k\\u00f5\\u0169\", \"#alt :: alt\", \"#ap :: pa\\u0281\", \"#ar :: \\u0281az\", \"#as :: ast\\u0361\", \"#ass :: as\\u028ap\", \"#att :: at\\u0251\\u0303\", \"#av :: va\\u0283\\u026a\", \"#ba :: bala\", \"#bal :: l\\u0251\\u0254\", \"#ber :: ba\\u0281n\", \"#bl :: #bl\", \"#bl :: #bl\", \"#bl :: #bl\", \"#bl :: #bl\", \"#bl :: #bl\", \"#bl :: #bl\", \"#bl :: #bla\", \"#bl :: #bla\", \"#bl :: #bla\", \"#bl :: #bla\", \"#bl :: bla\", \"#bl :: bla\", \"#bla :: #bla\", \"#bla :: bla\", \"#bo :: bu\\u0292\", \"#bo :: bu\\u0292\", \"#bo :: \\u028afl\", \"#bo :: \\u028afl\", \"#br :: #b\\u0281\", \"#br :: #b\\u0281\", \"#br :: #b\\u0281\", \"#br :: #b\\u0281\", \"#br :: #b\\u0281\", \"#br :: #b\\u0281\", \"#br :: #b\\u0281\", \"#br :: #b\\u0281\", \"#br :: #b\\u0281\", \"#ca :: ata\", \"#caf :: kafa\", \"#caf :: kafa\", \"#can :: #ka\", \"#ch :: oz\\u026af\", \"#ch :: oz\\u026af\", \"#cha :: ma\\u0281\", \"#cho :: oz\\u026af\", \"#co :: #k\\u00f5\", \"#co :: #k\\u00f5\", \"#co :: #k\\u00f5\", \"#co :: #k\\u00f5\", \"#co :: #k\\u00f5\", \"#co :: #k\\u00f5\", \"#co :: #k\\u00f5\", \"#co :: #k\\u00f5\", \"#co :: #k\\u00f5\\u0169\", \"#co :: #k\\u00f5\\u0169\", \"#co :: #k\\u00f5\\u0169\", \"#co :: #k\\u00f5\\u0169\", \"#co :: #k\\u00f5\\u0169\", \"#co :: #k\\u00f5\\u0169\", \"#co :: #k\\u0251\", \"#co :: #k\\u0251\", \"#co :: #k\\u0251\", \"#co :: #k\\u0251\", \"#co :: #k\\u0251\", \"#co :: #k\\u0251\", \"#co :: #k\\u0251\", \"#co :: #k\\u0251\\u0254\", \"#co :: #k\\u0251\\u0254\", \"#co :: #k\\u0251\\u0254\", \"#co :: #k\\u0251\\u0254\", \"#co :: #k\\u0251\\u0254\", \"#co :: #k\\u0251\\u0254\", \"#co :: #k\\u0251\\u0254\", \"#co :: k\\u00f5\\u0169\", \"#co :: k\\u00f5\\u0169\", \"#co :: k\\u00f5\\u0169\", \"#co :: k\\u00f5\\u0169\", \"#co :: k\\u00f5\\u0169\", \"#co :: k\\u00f5\\u0169\", \"#co :: k\\u00f5\\u0169\\u032f\", \"#co :: k\\u00f5\\u0169\\u032f\", \"#co :: k\\u00f5\\u0169\\u032f\", \"#co :: k\\u00f5\\u0169\\u032f\", \"#co :: k\\u00f5\\u0169\\u032f\", \"#co :: k\\u0251\\u0254\", \"#co :: k\\u0251\\u0254\", \"#co :: k\\u0251\\u0254\", \"#co :: k\\u0251\\u0254\", \"#co :: k\\u0251\\u0254\", \"#co :: k\\u0251\\u0254\", \"#co :: k\\u0251\\u0254\", \"#co :: k\\u0251\\u0254\\u032f\", \"#co :: k\\u0251\\u0254\\u032f\", \"#co :: k\\u0251\\u0254\\u032f\", \"#co :: k\\u0251\\u0254\\u032f\", \"#co :: k\\u0251\\u0254\\u032f\", \"#co :: k\\u0251\\u0254\\u032f\", \"#co :: k\\u0251\\u0254\\u032f\", \"#co :: k\\u0251\\u0254\\u032f\", \"#co :: t\\u0281a\", \"#co :: \\u00f5\\u0169\\u032f\", \"#co :: \\u00f5\\u0169\\u032f\", \"#co :: \\u00f5\\u0169\\u032f\", \"#co :: \\u00f5\\u0169\\u032f\", \"#co :: \\u00f5\\u0169\\u032f\", \"#co :: \\u00f5\\u0169\\u032f\", \"#co :: \\u00f5\\u0169\\u032f\", \"#co :: \\u0251\\u0254\\u032f\", \"#co :: \\u0251\\u0254\\u032f\", \"#co :: \\u0251\\u0254\\u032f\", \"#co :: \\u0251\\u0254\\u032f\", \"#co :: \\u0251\\u0254\\u032f\", \"#co :: \\u0251\\u0254\\u032f\", \"#co :: \\u0251\\u0254\\u032fl\", \"#co :: \\u0251\\u0254\\u032fl\", \"#col :: k\\u0251\\u0254\", \"#com :: \\u00f5\\u0169\\u032fp\", \"#com :: \\u00f5\\u0169\\u032fp\", \"#com :: \\u00f5\\u0169\\u032fp\", \"#com :: \\u0251\\u0254\\u032fm\", \"#con :: #k\\u00f5\", \"#con :: #k\\u00f5\", \"#con :: #k\\u00f5\", \"#con :: #k\\u00f5\", \"#con :: #k\\u00f5\", \"#con :: #k\\u00f5\\u0169\", \"#con :: #k\\u00f5\\u0169\", \"#con :: #k\\u00f5\\u0169\", \"#con :: #k\\u00f5\\u0169\", \"#con :: #k\\u00f5\\u0169\", \"#con :: #k\\u00f5\\u0169\", \"#con :: k\\u00f5\\u0169\", \"#con :: k\\u00f5\\u0169\", \"#con :: k\\u00f5\\u0169\", \"#con :: k\\u00f5\\u0169\", \"#con :: k\\u00f5\\u0169\", \"#con :: k\\u00f5\\u0169\", \"#con :: k\\u00f5\\u0169\", \"#con :: k\\u00f5\\u0169\\u032f\", \"#con :: k\\u00f5\\u0169\\u032f\", \"#con :: k\\u00f5\\u0169\\u032f\", \"#con :: k\\u00f5\\u0169\\u032f\", \"#con :: k\\u00f5\\u0169\\u032f\", \"#con :: k\\u00f5\\u0169\\u032f\", \"#con :: \\u00f5\\u0169\\u032f\", \"#con :: \\u00f5\\u0169\\u032f\", \"#con :: \\u00f5\\u0169\\u032f\", \"#con :: \\u00f5\\u0169\\u032f\", \"#con :: \\u00f5\\u0169\\u032f\", \"#con :: \\u00f5\\u0169\\u032f\", \"#con :: \\u00f5\\u0169\\u032f\", \"#con :: \\u00f5\\u0169\\u032ft\", \"#con :: \\u00f5\\u0169\\u032ft\", \"#con :: \\u0169\\u032ff\", \"#cor :: \\u0251\\u0254\\u032f\\u0281\", \"#cor :: \\u0251\\u0254\\u032f\\u0281\", \"#cr :: #k\\u0281\", \"#cr :: #k\\u0281\", \"#cr :: #k\\u0281\", \"#cr :: #k\\u0281\", \"#cr :: #k\\u0281\", \"#cr :: #k\\u0281\", \"#cr :: #k\\u0281\", \"#cr :: #k\\u0281\", \"#cr :: #k\\u0281\", \"#cui :: \\u0281as\", \"#cui :: \\u0281as\", \"#dem :: #d\\u0259m\", \"#des :: sel\", \"#des :: sel\", \"#di :: #d\\u0361\", \"#di :: #d\\u0361\", \"#di :: #d\\u0361\", \"#di :: #d\\u0361\", \"#di :: #d\\u0361z\", \"#di :: #d\\u0361z\", \"#di :: #d\\u0361z\", \"#di :: #d\\u0361z\", \"#di :: d\\u0361z\", \"#di :: d\\u0361z\", \"#di :: d\\u0361z\", \"#di :: d\\u0361z\", \"#di :: d\\u0361z\", \"#di :: d\\u0361z\\u026a\", \"#di :: d\\u0361z\\u026a\", \"#di :: d\\u0361z\\u026a\", \"#di :: d\\u0361z\\u026a\", \"#di :: d\\u0361z\\u026a\", \"#di :: d\\u0361z\\u026a\", \"#di :: z\\u026as\", \"#di :: z\\u026as\", \"#di :: z\\u026as\", \"#di :: z\\u026as\", \"#di :: \\u0361z\\u026a\", \"#di :: \\u0361z\\u026a\", \"#di :: \\u0361z\\u026a\", \"#di :: \\u0361z\\u026a\", \"#di :: \\u0361z\\u026as\", \"#di :: \\u0361z\\u026as\", \"#di :: \\u0361z\\u026as\", \"#dis :: #d\\u0361\", \"#dis :: #d\\u0361\", \"#dis :: #d\\u0361\", \"#dis :: #d\\u0361z\", \"#dis :: #d\\u0361z\", \"#dis :: #d\\u0361z\", \"#dis :: d\\u0361z\", \"#dis :: d\\u0361z\", \"#dis :: d\\u0361z\", \"#dis :: d\\u0361z\\u026a\", \"#dis :: d\\u0361z\\u026a\", \"#dis :: d\\u0361z\\u026a\", \"#dis :: z\\u026as\", \"#dis :: z\\u026as\", \"#dis :: \\u0361z\\u026a\", \"#dis :: \\u0361z\\u026a\", \"#dis :: \\u0361z\\u026a\", \"#dis :: \\u0361z\\u026a\", \"#dis :: \\u0361z\\u026as\", \"#dis :: \\u0361z\\u026as\", \"#dis :: \\u0361z\\u026as\", \"#dis :: \\u0361z\\u026as\", \"#dot :: #d\\u0251\", \"#du :: d\\u0361z\\u028f\", \"#du :: d\\u0361z\\u028f\", \"#dur :: #d\\u0361\", \"#dur :: d\\u0361z\\u028f\", \"#dur :: z\\u028f\\u0281s\", \"#dur :: \\u0361z\\u028f\\u0281\", \"#dur :: \\u0361z\\u028f\\u0281\", \"#d\\u00e9 :: #de\", \"#d\\u00e9 :: #de\", \"#d\\u00e9 :: #de\", \"#d\\u00e9 :: #de\", \"#d\\u00e9 :: #de\", \"#d\\u00e9 :: #de\", \"#d\\u00e9 :: #de\", \"#d\\u00e9 :: #de\", \"#d\\u00e9 :: #de\", \"#d\\u00e9 :: #de\", \"#d\\u00e9 :: #de\", \"#d\\u00e9 :: #de\", \"#d\\u00e9 :: #de\", \"#d\\u00e9 :: #de\", \"#d\\u00e9 :: #de\", \"#d\\u00e9 :: #de\", \"#d\\u00e9 :: #de\", \"#d\\u00e9 :: #de\", \"#d\\u00e9 :: #de\", \"#d\\u00e9 :: #de\", \"#d\\u00e9 :: #de\", \"#d\\u00e9 :: #de\", \"#d\\u00e9 :: #de\", \"#d\\u00e9 :: #de\", \"#d\\u00e9 :: #de\", \"#d\\u00e9 :: #de\", \"#d\\u00e9 :: #de\", \"#d\\u00e9 :: #dek\", \"#d\\u00e9 :: #dek\", \"#d\\u00e9 :: #dek\", \"#d\\u00e9 :: #dek\", \"#d\\u00e9 :: #dek\", \"#d\\u00e9 :: #dek\", \"#d\\u00e9 :: #dek\", \"#d\\u00e9 :: #dek\", \"#d\\u00e9 :: #dep\", \"#d\\u00e9 :: #dep\", \"#d\\u00e9 :: #dep\", \"#d\\u00e9 :: #dep\", \"#d\\u00e9 :: #dez\", \"#d\\u00e9 :: #dez\", \"#d\\u00e9 :: #dez\", \"#d\\u00e9 :: deg\\u0281\", \"#d\\u00e9 :: deg\\u0281\", \"#d\\u00e9 :: deg\\u0281\", \"#d\\u00e9 :: deg\\u0281\", \"#d\\u00e9 :: dek\", \"#d\\u00e9 :: dek\", \"#d\\u00e9 :: dek\", \"#d\\u00e9 :: dek\", \"#d\\u00e9 :: dek\", \"#d\\u00e9 :: dek\", \"#d\\u00e9 :: dek\", \"#d\\u00e9 :: dep\", \"#d\\u00e9 :: dep\", \"#d\\u00e9 :: dep\", \"#d\\u00e9 :: dep\", \"#d\\u00e9 :: dep\", \"#d\\u00e9 :: dep\", \"#d\\u00e9 :: dez\", \"#d\\u00e9 :: dez\", \"#d\\u00e9 :: ed\\u0265\", \"#d\\u00e9 :: ese\", \"#d\\u00e9 :: eza\", \"#d\\u00e9 :: eza\", \"#d\\u00e9 :: eza\", \"#d\\u00e9 :: ez\\u0251\\u0303\", \"#d\\u00e9 :: f\\u0281ej\", \"#d\\u00e9 :: \\u028a\\u0281b\", \"#d\\u00e9c :: #de\", \"#d\\u00e9c :: #de\", \"#d\\u00e9c :: #de\", \"#d\\u00e9c :: #de\", \"#d\\u00e9c :: #de\", \"#d\\u00e9c :: #de\", \"#d\\u00e9c :: #de\", \"#d\\u00e9c :: #de\", \"#d\\u00e9c :: #de\", \"#d\\u00e9c :: #de\", \"#d\\u00e9c :: #de\", \"#d\\u00e9c :: #de\", \"#d\\u00e9c :: #dek\", \"#d\\u00e9c :: #dek\", \"#d\\u00e9c :: #dek\", \"#d\\u00e9c :: #dek\", \"#d\\u00e9c :: #dek\", \"#d\\u00e9c :: #dek\", \"#d\\u00e9c :: #dek\", \"#d\\u00e9c :: #dek\", \"#d\\u00e9c :: dek\", \"#d\\u00e9c :: dek\", \"#d\\u00e9c :: dek\", \"#d\\u00e9c :: dek\", \"#d\\u00e9c :: dek\", \"#d\\u00e9c :: dek\", \"#d\\u00e9c :: dek\", \"#d\\u00e9c :: dek\", \"#d\\u00e9c :: dek\\u028a\", \"#d\\u00e9c :: dek\\u028a\", \"#d\\u00e9c :: dek\\u028a\", \"#d\\u00e9c :: ekap\", \"#d\\u00e9c :: ek\\u0251\", \"#d\\u00e9c :: ek\\u0251\", \"#d\\u00e9c :: pla\", \"#d\\u00e9c :: pla\", \"#d\\u00e9p :: #de\", \"#d\\u00e9p :: #de\", \"#d\\u00e9p :: #de\", \"#d\\u00e9p :: #de\", \"#d\\u00e9p :: #de\", \"#d\\u00e9p :: #de\", \"#d\\u00e9p :: #de\", \"#d\\u00e9p :: #de\", \"#d\\u00e9p :: dep\", \"#d\\u00e9p :: dep\", \"#d\\u00e9p :: dep\", \"#d\\u00e9p :: dep\", \"#d\\u00e9p :: dep\", \"#d\\u00e9p :: dep\", \"#d\\u00e9p :: dep\", \"#d\\u00e9p :: dep\", \"#d\\u00e9s :: #de\", \"#d\\u00e9s :: #de\", \"#d\\u00e9s :: #de\", \"#d\\u00e9s :: #de\", \"#d\\u00e9s :: #dez\", \"#d\\u00e9s :: #dez\", \"#d\\u00e9s :: dez\", \"#d\\u00e9s :: dez\", \"#d\\u00e9s :: dez\", \"#d\\u00e9s :: dez\", \"#d\\u00e9s :: deza\", \"#d\\u00e9s :: deza\", \"#d\\u00e9s :: dez\\u0251\", \"#d\\u00e9s :: eza\", \"#d\\u00e9s :: eza\", \"#d\\u00e9s :: ez\\u0251\\u0303\", \"#d\\u00e9s :: ez\\u0251\\u0303\", \"#ef :: ef\\u026a\", \"#eff :: ef\\u026al\", \"#eff :: ef\\u026al\", \"#em :: #\\u0251\\u0303\", \"#em :: #\\u0251\\u0303\", \"#em :: #\\u0251\\u0303\", \"#em :: #\\u0251\\u0303\", \"#em :: #\\u0251\\u0303\", \"#em :: #\\u0251\\u0303\", \"#em :: #\\u0251\\u0303\", \"#em :: #\\u0251\\u0303\", \"#em :: #\\u0251\\u0303\", \"#em :: #\\u0251\\u0303\", \"#em :: #\\u0251\\u0303\", \"#em :: #\\u0251\\u0303p\", \"#em :: #\\u0251\\u0303p\", \"#em :: #\\u0251\\u0303p\", \"#em :: #\\u0251\\u0303p\", \"#em :: p\\u0251\\u0254\\u032f\", \"#em :: \\u0251\\u0254\\u032f\\u0281\", \"#em :: \\u0303pan\", \"#em :: \\u0303p\\u0251\\u0254\", \"#em :: \\u0303p\\u0251\\u0254\", \"#em :: \\u0303p\\u0251\\u0254\", \"#em :: \\u0303p\\u0251\\u0254\", \"#em :: \\u0303p\\u0251\\u0254\", \"#emp :: pje\", \"#emp :: p\\u0251\\u0254\\u032f\", \"#emp :: \\u0303pan\", \"#emp :: \\u0303pwa\", \"#en :: #\\u0251\\u0303\", \"#en :: #\\u0251\\u0303\", \"#en :: #\\u0251\\u0303\", \"#en :: #\\u0251\\u0303\", \"#en :: #\\u0251\\u0303\", \"#en :: #\\u0251\\u0303\", \"#en :: #\\u0251\\u0303\", \"#en :: #\\u0251\\u0303\", \"#en :: #\\u0251\\u0303\", \"#en :: #\\u0251\\u0303\", \"#en :: #\\u0251\\u0303\", \"#en :: #\\u0251\\u0303\", \"#en :: #\\u0251\\u0303\", \"#en :: #\\u0251\\u0303\", \"#en :: #\\u0251\\u0303\", \"#en :: #\\u0251\\u0303\", \"#en :: #\\u0251\\u0303\", \"#en :: #\\u0251\\u0303\", \"#en :: #\\u0251\\u0303\", \"#en :: #\\u0251\\u0303t\", \"#en :: #\\u0251\\u0303t\", \"#en :: #\\u0251\\u0303t\", \"#en :: #\\u0251\\u0303t\", \"#en :: #\\u0251\\u0303t\", \"#en :: \\u0251\\u0303d\", \"#en :: \\u0251\\u0303d\", \"#en :: \\u0251\\u0303f\", \"#en :: \\u0251\\u0303f\", \"#en :: \\u0251\\u0303g\", \"#en :: \\u0251\\u0303g\", \"#en :: \\u0251\\u0303t\", \"#en :: \\u0251\\u0303t\", \"#en :: \\u0251\\u0303t\", \"#en :: \\u0303t\\u0281\\u0259\", \"#enc :: #\\u0251\\u0303\", \"#enc :: #\\u0251\\u0303\", \"#enc :: #\\u0251\\u0303\", \"#enc :: #\\u0251\\u0303\", \"#enc :: \\u0251\\u0303\\u0283\", \"#enc :: \\u0251\\u0303\\u0283\", \"#end :: #\\u0251\\u0303\", \"#end :: #\\u0251\\u0303\", \"#end :: #\\u0251\\u0303\", \"#end :: #\\u0251\\u0303d\", \"#end :: \\u0251\\u0303d\", \"#ent :: #\\u0251\\u0303\", \"#ent :: #\\u0251\\u0303\", \"#ent :: #\\u0251\\u0303\", \"#ent :: #\\u0251\\u0303t\", \"#ent :: #\\u0251\\u0303t\", \"#ent :: #\\u0251\\u0303t\", \"#ent :: \\u0251\\u0303t\", \"#ent :: \\u0251\\u0303t\", \"#ent :: \\u0251\\u0303t\", \"#ent :: \\u0251\\u0303t\", \"#es :: #as\", \"#es :: #as\", \"#es :: #as\", \"#es :: #as\", \"#es :: #as\", \"#esc :: #as\", \"#esc :: #ask\", \"#esc :: #ask\", \"#esc :: #ask\", \"#ex :: aksp\", \"#ex :: as#\", \"#ex :: as#\", \"#ex :: as#\", \"#ex :: ksp\\u0281\", \"#exp :: p\\u0281\\u026am\", \"#exp :: sp\\u0281\", \"#fi :: #f\\u026a\", \"#fi :: #f\\u026a\", \"#fi :: #f\\u026a\", \"#fin :: n\\u0251\\u0303\", \"#fle :: l\\u0153\\u0281\", \"#fr :: #f\\u0281a\", \"#fr :: f\\u0281\\u026a\", \"#fr :: f\\u0281\\u026a\", \"#fr :: \\u00f5\\u0169\\u032f\", \"#gr :: n\\u028fl\", \"#gra :: g\\u0281a\", \"#gra :: g\\u0281a\", \"#gra :: g\\u0281a\", \"#gra :: g\\u0281a\", \"#gra :: g\\u0281a\", \"#in :: \\u1ebd\\u0129\\u032f\", \"#in :: \\u1ebd\\u0129\\u032f\", \"#in :: \\u1ebd\\u0129\\u032f\", \"#in :: \\u1ebd\\u0129\\u032f\", \"#in :: \\u1ebd\\u0129\\u032f\", \"#in :: \\u1ebd\\u0129\\u032f\", \"#in :: \\u1ebd\\u0129\\u032f\", \"#in :: \\u1ebd\\u0129\\u032f\", \"#ing :: \\u0129\\u032f\\u0292e\", \"#ir :: \\u0281\\u026ag\", \"#ki :: nap\", \"#ma :: #ma\", \"#ma :: #ma\", \"#ma :: #ma\", \"#ma :: #ma\", \"#ma :: #ma\", \"#ma :: #ma\", \"#ma :: #ma\", \"#ma :: #ma\", \"#ma :: #ma\", \"#ma :: #ma\", \"#ma :: #ma\", \"#mi :: #m\\u026al\", \"#mi :: #m\\u026al\", \"#mi :: m\\u026a\\u0281\", \"#min :: #m\\u026an\", \"#min :: m\\u026an\\u026a\", \"#mu :: my\\u0292\", \"#obs :: \\u0251\\u0254\\u032f\", \"#oc :: #\\u0251\\u0254\\u032f\", \"#oc :: lta\", \"#oc :: lta\", \"#oc :: \\u0251\\u0254\\u032f\", \"#oc :: \\u0251\\u0254\\u032f\", \"#oc :: \\u0251\\u0254\\u032fk\", \"#oc :: \\u0251\\u0254\\u032fk\", \"#oc :: \\u0251\\u0254\\u032fk\", \"#oc :: \\u0254\\u032fk\", \"#oc :: \\u032fk\\u028fl\", \"#occ :: \\u0254\\u032fk\\u028f\", \"#occ :: \\u028flt\", \"#pa :: #pa\", \"#pa :: #pa\", \"#pa :: #pa\", \"#pa :: #pa\", \"#pa :: #pa\", \"#pa :: #pa\", \"#pa :: #pa\", \"#pa :: #pa\", \"#pa :: #pa\", \"#pa :: #pa\", \"#pa :: t\\u0361s\", \"#pa :: \\u0361s\\u026a\", \"#pac :: pak\", \"#pac :: pak\", \"#pan :: pan\\u026a\", \"#par :: l\\u026az\", \"#pi :: \\u026ak\\u0251\\u0254\", \"#piq :: #p\\u026a\", \"#piq :: #p\\u026a\", \"#piq :: #p\\u026a\", \"#pis :: #p\\u026a\", \"#pla :: lan\", \"#po :: #p\\u0251\", \"#po :: #p\\u0251\", \"#po :: p\\u0251\\u0254\\u032f\", \"#po :: p\\u0251\\u0254\\u032f\", \"#pom :: \\u032fma\", \"#pon :: \\u00f5\\u0169\\u032f\", \"#pon :: \\u00f5\\u0169\\u032f\", \"#pos :: \\u0251\\u0254\\u032f\", \"#pos :: \\u0251\\u0254\\u032fs\", \"#pos :: \\u0251\\u0254\\u032fs\", \"#pos :: \\u0254\\u032fs\", \"#pos :: \\u0254\\u032fst\", \"#pr :: #p\\u0281\", \"#pr :: #p\\u0281\", \"#pr :: #p\\u0281\", \"#pr :: #p\\u0281\", \"#pr :: #p\\u0281\", \"#pr :: #p\\u0281\", \"#pr :: #p\\u0281\", \"#pr :: #p\\u0281\", \"#pr :: #p\\u0281\\u0251\", \"#pr :: #p\\u0281\\u0251\", \"#pr :: #p\\u0281\\u0251\", \"#pr :: es\\u028f\", \"#pr :: es\\u028f\\u0281\", \"#pr :: p\\u0281es\", \"#pr :: \\u0281es\", \"#pr :: \\u0281\\u0251\\u0254\\u032f\", \"#pr :: \\u0281\\u0251\\u0254\\u032f\", \"#pre :: #p\\u0281\", \"#pre :: #p\\u0281e\", \"#pre :: p\\u0281e\", \"#pro :: p\\u0281\\u0251\", \"#pro :: p\\u0281\\u0251\", \"#pro :: p\\u0281\\u0251\\u0254\", \"#pro :: p\\u0281\\u0251\\u0254\", \"#pro :: p\\u0281\\u0251\\u0254\", \"#pro :: \\u0281\\u0251\\u0254\\u032f\", \"#pro :: \\u0281\\u0251\\u0254\\u032f\", \"#p\\u00e9 :: pe\\u0281\\u026a\", \"#p\\u00e9 :: pe\\u0281\\u026a\", \"#ra :: #\\u0281a\", \"#ra :: #\\u0281a\", \"#ra :: #\\u0281a\", \"#ra :: #\\u0281a\", \"#ra :: #\\u0281a\", \"#ra :: #\\u0281a\", \"#ra :: #\\u0281a\", \"#ra :: #\\u0281a\", \"#ra :: #\\u0281a\", \"#ra :: #\\u0281a\", \"#ra :: #\\u0281a\", \"#ra :: #\\u0281a\", \"#ra :: #\\u0281a\", \"#ra :: #\\u0281a\", \"#ra :: #\\u0281a\", \"#ra :: #\\u0281ad\", \"#ra :: #\\u0281ad\", \"#ra :: ad\\u0361\", \"#ra :: ad\\u0361z\", \"#ra :: d\\u0361z\", \"#ra :: \\u0281ad\", \"#ra :: \\u0281ad\", \"#ra :: \\u0281ad\\u0361\", \"#ra :: \\u0281ad\\u0361\", \"#ra :: \\u0281ap\", \"#ra :: \\u0281ap\", \"#ra :: \\u0281ap\", \"#ra :: \\u0281apa\", \"#ra :: \\u0281apa\", \"#rad :: #\\u0281a\", \"#rad :: #\\u0281ad\", \"#rad :: ad\\u0361\", \"#rad :: ad\\u0361z\", \"#rad :: ad\\u0361z\", \"#rad :: d\\u0361z\", \"#rad :: d\\u0361z\", \"#rad :: \\u0281ad\", \"#rad :: \\u0281ad\\u0361\", \"#rad :: \\u0361zj\", \"#rap :: \\u0281ap\", \"#re :: #\\u0281\\u0259\", \"#re :: #\\u0281\\u0259\", \"#re :: #\\u0281\\u0259\", \"#re :: #\\u0281\\u0259\", \"#re :: #\\u0281\\u0259\", \"#re :: #\\u0281\\u0259\", \"#re :: #\\u0281\\u0259\", \"#re :: #\\u0281\\u0259\", \"#re :: #\\u0281\\u0259\", \"#re :: #\\u0281\\u0259\", \"#re :: #\\u0281\\u0259\", \"#re :: #\\u0281\\u0259\", \"#re :: #\\u0281\\u0259\", \"#re :: #\\u0281\\u0259\", \"#re :: #\\u0281\\u0259\", \"#re :: #\\u0281\\u0259\", \"#re :: #\\u0281\\u0259\", \"#re :: #\\u0281\\u0259\", \"#re :: #\\u0281\\u0259\", \"#re :: #\\u0281\\u0259\", \"#re :: #\\u0281\\u0259\", \"#re :: #\\u0281\\u0259\", \"#re :: #\\u0281\\u0259\", \"#re :: #\\u0281\\u0259\", \"#re :: #\\u0281\\u0259\", \"#re :: #\\u0281\\u0259f\", \"#re :: #\\u0281\\u0259f\", \"#re :: #\\u0281\\u0259k\", \"#re :: \\u0281\\u0251\\u0303\", \"#re :: \\u0281\\u0251\\u0303\", \"#re :: \\u0281\\u0251\\u0303\", \"#re :: \\u0281\\u0251\\u0303\", \"#re :: \\u0281\\u0259f\", \"#re :: \\u0283\\u0251\\u0303\", \"#rec :: \\u0259\\u0283\\u0251\\u0303\", \"#ref :: #\\u0281\\u0259\", \"#ref :: #\\u0281\\u0259\", \"#ref :: #\\u0281\\u0259f\", \"#ref :: #\\u0281\\u0259f\", \"#ref :: \\u0281\\u0259f\", \"#ref :: \\u0281\\u0259f\", \"#ref :: \\u0281\\u0259f\", \"#ref :: \\u0281\\u0259fa\", \"#reg :: #\\u0281\\u0259\", \"#ren :: \\u0281\\u0251\\u0303\", \"#ren :: \\u0281\\u0251\\u0303\", \"#ren :: \\u0281\\u0251\\u0303\", \"#ri :: \\u0251\\u0254\\u032fl\", \"#ro :: #\\u0281\\u028ak\", \"#ro :: \\u0281\\u028ak\", \"#ro :: \\u028ak\\u028al\", \"#rub :: \\u0281\\u028fb\", \"#r\\u00e9t :: \\u0281eta\", \"#r\\u00e9t :: \\u0281eta\", \"#sa :: al\\u026a\", \"#sal :: sal\", \"#ser :: #sa\", \"#ser :: #sa\", \"#st :: at\\u0361s\", \"#st :: at\\u0361s\", \"#su :: #s\\u028f\", \"#su :: #s\\u028f\", \"#su :: #s\\u028f\", \"#su :: #s\\u028f\", \"#su :: #s\\u028f\", \"#su :: #s\\u028f\", \"#su :: #s\\u028f\", \"#su :: #s\\u028f\", \"#su :: #s\\u028f\", \"#su :: #s\\u028f\", \"#su :: #s\\u028f\", \"#su :: #s\\u028f\", \"#su :: \\u028f\\u0281f\", \"#sup :: \\u028fpl\\u026a\", \"#ta :: #ta\\u0281\", \"#ta :: a\\u0281a\", \"#te :: #ta\", \"#te :: #ta\", \"#to :: #t\\u028a\", \"#to :: #t\\u028a\", \"#to :: #t\\u028a\", \"#to :: #t\\u028a\\u0281\", \"#to :: t\\u028a\\u0281\", \"#to :: t\\u028a\\u0281\", \"#to :: t\\u028a\\u0281\", \"#tou :: #t\\u028a\", \"#tou :: #t\\u028a\\u0281\", \"#tou :: #t\\u028a\\u0281\", \"#tou :: t\\u028a\\u0281\", \"#tou :: t\\u028a\\u0281\", \"#tr :: #t\\u0281\", \"#tr :: #t\\u0281\", \"#tr :: #t\\u0281\", \"#tr :: #t\\u0281\", \"#tr :: #t\\u0281\", \"#tr :: #t\\u0281\", \"#tr :: #t\\u0281\", \"#tr :: #t\\u0281\", \"#tr :: #t\\u0281\", \"#tr :: #t\\u0281\", \"#tr :: #t\\u0281\", \"#tr :: #t\\u0281\", \"#tr :: t\\u0281\\u0251\", \"#tr :: t\\u0281\\u0251\", \"#tr :: t\\u0281\\u0251\", \"#tr :: t\\u0281\\u0251\", \"#tr :: \\u0251\\u0303z\", \"#tr :: \\u0281es\", \"#tra :: \\u0281\\u0251\\u0303\", \"#vic :: #v\\u026a\", \"#\\u00e9bo :: eb\\u028a\", \"#\\u00e9bo :: eb\\u028a\", \"#\\u00e9c :: ka\\u0281\", \"#\\u00e9ch :: #e\\u0283\", \"#\\u00e9ch :: #e\\u0283\", \"#\\u00e9ch :: #e\\u0283\", \"#\\u00e9n :: en\\u028f\", \"#\\u00e9n :: en\\u028f\", \"#\\u00e9tr :: et\\u0281a\", \"#\\u00e9tr :: et\\u0281a\", \"#\\u00e9t\\u00ea :: #ete\", \"aba :: \\u0281ab\", \"abi :: #ab\", \"abi :: #ab\", \"abi :: #ab\", \"able :: zab\", \"abu :: ta\\u0281a\", \"abu :: \\u0281ab\", \"abus :: ta\\u0281\", \"acas :: #f\\u0281\", \"acas :: kas\", \"acas :: kas\", \"acc :: \\u00f5\\u0169\\u032fp\", \"accl :: am\\u0259\", \"accl :: am\\u0259\", \"acco :: k\\u00f5\\u0169\", \"accr :: #ak\\u0281\", \"ach :: #\\u02bca\", \"ach :: \\u0283\\u0251\\u0254\\u032f\", \"ache :: \\u0283\\u0259t\", \"ache :: \\u0283\\u0259t\", \"acho :: \\u0251\\u0254\\u032f\", \"acqu :: #ak\", \"act :: #pa\", \"act :: ze#\", \"adi :: #\\u0281a\", \"adi :: #\\u0281ad\", \"adi :: ad\\u0361\", \"adi :: ad\\u0361\", \"adi :: ad\\u0361\", \"adi :: ad\\u0361z\", \"adi :: ad\\u0361z\", \"adi :: d\\u0361z\", \"adi :: \\u0281ad\", \"adi :: \\u0281ad\", \"age :: a\\u0292a\", \"age :: a\\u0292a\", \"age :: a\\u0292a\", \"ai# :: \\u0281a#\", \"ai# :: \\u0281a#\", \"ai# :: \\u0281a#\", \"ai# :: \\u0281a#\", \"ai# :: \\u0281a#\", \"ai# :: \\u0281a#\", \"ai# :: \\u0281a#\", \"ai# :: \\u0281a#\", \"ai# :: \\u0281a#\", \"ai# :: \\u0281a#\", \"ai# :: \\u0281a#\", \"ai# :: \\u0281a#\", \"ai# :: \\u028ala\", \"aie :: d\\u0281a#\", \"aie :: z\\u0259\\u0281\", \"aie :: \\u0281a#\", \"aie :: \\u0281a#\", \"aie :: \\u0281a#\", \"aie :: \\u0281a#\", \"aie :: \\u0281a#\", \"aie :: \\u0281a#\", \"aie :: \\u0281a#\", \"aie :: \\u0281a#\", \"aie :: \\u0281a#\", \"aie :: \\u0281a#\", \"aie :: \\u0281a#\", \"aie :: \\u0281a#\", \"aien :: s\\u0259\\u0281a\", \"aien :: s\\u0259\\u0281a\", \"aien :: t\\u0259\\u0281\", \"aien :: \\u026ana#\", \"aien :: \\u0281a#\", \"aien :: \\u0281a#\", \"aien :: \\u0281a#\", \"aien :: \\u0281a#\", \"aien :: \\u0281a#\", \"aien :: \\u0281a#\", \"aien :: \\u0281a#\", \"aien :: \\u0281a#\", \"aien :: \\u0281a#\", \"aien :: \\u0281a#\", \"aien :: \\u0281a#\", \"aien :: \\u0281a#\", \"aien :: \\u0281a#\", \"ail :: b\\u0281a\", \"ail :: ja#\", \"ail :: ja#\", \"aill :: aja\", \"aill :: aja\", \"aill :: aja\", \"aill :: aja\", \"aill :: aja\", \"aill :: gaj\", \"aill :: gaj\", \"aill :: \\u0281aja\", \"ais :: kas\", \"ais :: kas\\u0259\", \"ais :: \\u0259\\u0281a\", \"ais :: \\u0259\\u0281a\", \"ais :: \\u0259\\u0281a\", \"ais :: \\u0259\\u0281a\", \"ais :: \\u0259\\u0281a\", \"ais :: \\u0259\\u0281a\", \"ais :: \\u0259\\u0281a\", \"ais :: \\u0259\\u0281a\", \"ais :: \\u0259\\u0281a\", \"ais :: \\u0259\\u0281a\", \"ais :: \\u0259\\u0281a\", \"ais :: \\u0259\\u0281a\", \"ais :: \\u0259\\u0281a#\", \"ais :: \\u0259\\u0281a#\", \"ais :: \\u0259\\u0281a#\", \"ais :: \\u0259\\u0281a#\", \"ais :: \\u0259\\u0281a#\", \"ais :: \\u0259\\u0281a#\", \"ais :: \\u0259\\u0281a#\", \"ais :: \\u0259\\u0281a#\", \"ais :: \\u0259\\u0281a#\", \"ais :: \\u0259\\u0281a#\", \"ais :: \\u0281a#\", \"ais :: \\u0281a#\", \"ais :: \\u0281a#\", \"ais :: \\u0281a#\", \"ais :: \\u0281a#\", \"ais :: \\u0281a#\", \"ais :: \\u0281a#\", \"ais :: \\u0281a#\", \"ais :: \\u0281a#\", \"ais :: \\u0281a#\", \"ais :: \\u0281a#\", \"ais :: \\u0281a#\", \"ais :: \\u0281a#\", \"ais# :: #am\", \"ais# :: #am\", \"ais# :: #va\", \"ais# :: eal\", \"ais# :: eal\", \"ais# :: e\\u0281a#\", \"ais# :: la\\u0281\", \"ais# :: la\\u0281\", \"ais# :: z\\u0259\\u0281\", \"ais# :: z\\u0259\\u0281\", \"ais# :: z\\u0259\\u0281\", \"ais# :: z\\u0259\\u0281a\", \"ais# :: \\u0259\\u0281a\", \"ais# :: \\u0259\\u0281a\", \"ais# :: \\u0259\\u0281a\", \"ais# :: \\u0259\\u0281a\", \"ais# :: \\u0259\\u0281a\", \"ais# :: \\u0259\\u0281a\", \"ais# :: \\u0259\\u0281a\", \"ais# :: \\u0259\\u0281a\", \"ais# :: \\u0259\\u0281a\", \"ais# :: \\u0259\\u0281a\", \"ais# :: \\u0259\\u0281a#\", \"ais# :: \\u0259\\u0281a#\", \"ais# :: \\u0259\\u0281a#\", \"ais# :: \\u0259\\u0281a#\", \"ais# :: \\u0259\\u0281a#\", \"ais# :: \\u0259\\u0281a#\", \"ais# :: \\u0259\\u0281a#\", \"ais# :: \\u0259\\u0281a#\", \"ais# :: \\u0259\\u0281a#\", \"ais# :: \\u0259\\u0281a#\", \"ais# :: \\u0259\\u0281a#\", \"ais# :: \\u0281a#\", \"ais# :: \\u0281a#\", \"ais# :: \\u0281a#\", \"ais# :: \\u0281a#\", \"ais# :: \\u0281a#\", \"ais# :: \\u0281a#\", \"ais# :: \\u0281a#\", \"ais# :: \\u0281a#\", \"ais# :: \\u0281a#\", \"ais# :: \\u0281a#\", \"ais# :: \\u0281a#\", \"ais# :: \\u0281a#\", \"ais# :: \\u0281a#\", \"ais# :: \\u0281a#\", \"aiss :: \\u0251\\u0303ka\", \"ait :: #\\u0251\\u0303\", \"ait :: #\\u0251\\u0303\", \"ait :: k\\u00f5\\u0169\\u032f\", \"ait :: \\u0259\\u0281a\", \"ait :: \\u0259\\u0281a\", \"ait :: \\u0259\\u0281a\", \"ait :: \\u0259\\u0281a\", \"ait :: \\u0259\\u0281a\", \"ait :: \\u0259\\u0281a\", \"ait :: \\u0259\\u0281a\", \"ait :: \\u0259\\u0281a\", \"ait :: \\u0259\\u0281a\", \"ait :: \\u0259\\u0281a#\", \"ait :: \\u0259\\u0281a#\", \"ait :: \\u0259\\u0281a#\", \"ait :: \\u0259\\u0281a#\", \"ait :: \\u0259\\u0281a#\", \"ait :: \\u0259\\u0281a#\", \"ait :: \\u0259\\u0281a#\", \"ait :: \\u0259\\u0281a#\", \"ait :: \\u0281a#\", \"ait :: \\u0281a#\", \"ait :: \\u0281a#\", \"ait :: \\u0281a#\", \"ait :: \\u0281a#\", \"ait :: \\u0281a#\", \"ait :: \\u0281a#\", \"ait :: \\u0281a#\", \"ait :: \\u0281a#\", \"ait :: \\u0281a#\", \"ait :: \\u0281a#\", \"ait :: \\u0281a#\", \"ait :: \\u0281a#\", \"ait :: \\u0281a#\", \"ait# :: \\u0259\\u0281a\", \"ait# :: \\u0259\\u0281a\", \"ait# :: \\u0259\\u0281a\", \"ait# :: \\u0259\\u0281a\", \"ait# :: \\u0259\\u0281a\", \"ait# :: \\u0259\\u0281a\", \"ait# :: \\u0259\\u0281a\", \"ait# :: \\u0259\\u0281a\", \"ait# :: \\u0259\\u0281a\", \"ait# :: \\u0259\\u0281a\", \"ait# :: \\u0259\\u0281a\", \"ait# :: \\u0259\\u0281a#\", \"ait# :: \\u0259\\u0281a#\", \"ait# :: \\u0259\\u0281a#\", \"ait# :: \\u0259\\u0281a#\", \"ait# :: \\u0259\\u0281a#\", \"ait# :: \\u0259\\u0281a#\", \"ait# :: \\u0259\\u0281a#\", \"ait# :: \\u0259\\u0281a#\", \"ait# :: \\u0259\\u0281a#\", \"ait# :: \\u0259\\u0281a#\", \"ait# :: \\u0281a#\", \"ait# :: \\u0281a#\", \"ait# :: \\u0281a#\", \"ait# :: \\u0281a#\", \"ait# :: \\u0281a#\", \"ait# :: \\u0281a#\", \"ait# :: \\u0281a#\", \"ait# :: \\u0281a#\", \"ait# :: \\u0281a#\", \"ait# :: \\u0281a#\", \"ait# :: \\u0281a#\", \"ait# :: \\u0283\\u0259\\u0281a\", \"ala :: #sa\", \"ala :: sal\", \"all :: al\\u0251\", \"allo :: bal\", \"allo :: l\\u0251\\u0254\", \"allo :: l\\u0251\\u0254\", \"ama :: \\u0283ama\", \"ama :: \\u0283ama\", \"ama :: \\u0283ama\", \"amp :: \\u0251\\u0303p\", \"amp :: \\u0251\\u0303p\", \"anl :: \\u0251\\u0303l\", \"anne :: #an\", \"anne :: #an\", \"ans :: #t\\u0281\", \"ans :: #t\\u0281\", \"ans :: t\\u0281\\u0251\", \"ans :: \\u0281\\u0251\\u0303s\", \"ant :: as\\u00e6\", \"ant :: as\\u00e6\\u0303\", \"ant :: n\\u00e6\\u0303\", \"ant :: n\\u00e6\\u0303\", \"ant :: ta#\", \"ant :: t\\u00e6\\u0303\", \"ant :: t\\u00e6\\u0303\", \"ant :: \\u00e6\\u0303#\", \"ant :: \\u00e6\\u0303#\", \"ant :: \\u00e6\\u0303#\", \"ant :: \\u00e6\\u0303#\", \"ant :: \\u00e6\\u0303#\", \"ant :: \\u00e6\\u0303#\", \"ant :: \\u00e6\\u0303#\", \"ant :: \\u00e6\\u0303#\", \"ant :: \\u00e6\\u0303#\", \"ant :: \\u00e6\\u0303#\", \"ant :: \\u00e6\\u0303#\", \"ant :: \\u00e6\\u0303#\", \"ant :: \\u00e6\\u0303#\", \"ant :: \\u00e6\\u0303#\", \"ant# :: \\u0254\\u032fl\", \"app :: #ap\", \"app :: #ap\", \"app :: \\u0281ap\", \"app :: \\u0281ap\", \"aqui :: mak\", \"aqui :: mak\", \"ara :: #ba\\u0281\", \"ara :: ta\\u0281\", \"ara :: \\u0281ab\", \"ard :: as#\", \"ard :: a\\u0281d\", \"ard :: a\\u0281d\", \"ard :: a\\u0281d\", \"ard :: a\\u0281d\", \"ard :: a\\u0281d\", \"ard :: a\\u0281d\", \"ard :: a\\u0281d#\", \"ard :: \\u0281d#\", \"ard :: \\u0281d#\", \"arda :: as#\", \"arda :: a\\u0281da\", \"arda :: \\u0281da\", \"arde :: a\\u0281d\", \"arde :: a\\u0281d\", \"arde :: a\\u0281d#\", \"arde :: a\\u0281d#\", \"arde :: a\\u0281d#\", \"arde :: \\u0281d#\", \"ari :: sala\", \"ari :: sala\", \"arr :: ama\", \"arr :: ama\", \"arr :: ama\", \"as# :: d\\u0281\\u0254#\", \"as# :: d\\u0281\\u0254#\", \"as# :: k\\u0259\\u0281\", \"as# :: \\u0259\\u0281\\u0254\", \"as# :: \\u0259\\u0281\\u0254\", \"as# :: \\u0259\\u0281\\u0254\", \"as# :: \\u0259\\u0281\\u0254\", \"as# :: \\u0259\\u0281\\u0254\", \"as# :: \\u0259\\u0281\\u0254\", \"as# :: \\u0259\\u0281\\u0254\", \"as# :: \\u0259\\u0281\\u0254\", \"as# :: \\u0259\\u0281\\u0254\", \"as# :: \\u0259\\u0281\\u0254\", \"as# :: \\u0259\\u0281\\u0254\", \"as# :: \\u0259\\u0281\\u0254#\", \"as# :: \\u0259\\u0281\\u0254#\", \"as# :: \\u0259\\u0281\\u0254#\", \"as# :: \\u0259\\u0281\\u0254#\", \"as# :: \\u0259\\u0281\\u0254#\", \"as# :: \\u0259\\u0281\\u0254#\", \"as# :: \\u0259\\u0281\\u0254#\", \"as# :: \\u0281\\u0254#\", \"as# :: \\u0281\\u0254#\", \"as# :: \\u0281\\u0254#\", \"as# :: \\u0281\\u0254#\", \"as# :: \\u0281\\u0254#\", \"as# :: \\u0281\\u0254#\", \"as# :: \\u0281\\u0254#\", \"as# :: \\u0281\\u0254#\", \"as# :: \\u0281\\u0254#\", \"as# :: \\u0281\\u0254#\", \"as# :: \\u0281\\u0254#\", \"as# :: \\u0281\\u0254#\", \"as# :: \\u0281\\u0254#\", \"as# :: \\u0281\\u0254#\", \"as# :: \\u0303d\\u0281\", \"as# :: \\u0303d\\u0281\", \"ass :: #f\\u0281a\", \"ass :: #f\\u0281a\", \"ass :: #\\u0251\\u0303m\", \"ass :: as#\", \"ass :: as#\", \"ass :: as#\", \"ass :: as#\", \"ass :: as#\", \"ass :: as#\", \"ass :: as#\", \"ass :: as#\", \"ass :: as#\", \"ass :: as#\", \"ass :: as#\", \"ass :: as#\", \"ass :: as#\", \"ass :: as#\", \"ass :: as#\", \"ass :: as#\", \"ass :: as#\", \"ass :: as#\", \"ass :: as#\", \"ass :: as#\", \"ass :: as#\", \"ass :: as#\", \"ass :: as#\", \"ass :: as#\", \"ass :: as#\", \"ass :: as#\", \"ass :: as#\", \"ass :: asa\", \"ass :: asa\", \"ass :: asa\", \"ass :: asa\", \"ass :: asa\", \"ass :: asa\", \"ass :: asj\", \"ass :: asj\", \"ass :: asj\", \"ass :: asj\", \"ass :: asj\", \"ass :: asj\", \"ass :: asj\", \"ass :: asj\", \"ass :: asje\", \"ass :: asje\", \"ass :: asje\", \"ass :: asje\", \"ass :: asje\", \"ass :: asje\", \"ass :: das\", \"ass :: das#\", \"ass :: das#\", \"ass :: das#\", \"ass :: gas#\", \"ass :: je#\", \"ass :: je#\", \"ass :: je#\", \"ass :: je#\", \"ass :: je#\", \"ass :: je#\", \"ass :: je#\", \"ass :: je#\", \"ass :: kas\", \"ass :: kas\", \"ass :: kas\", \"ass :: las\", \"ass :: las\", \"ass :: las\", \"ass :: las\", \"ass :: las\", \"ass :: las#\", \"ass :: las#\", \"ass :: las#\", \"ass :: nas\", \"ass :: nas\", \"ass :: nas\", \"ass :: nas#\", \"ass :: nas#\", \"ass :: nas#\", \"ass :: nas#\", \"ass :: sa#\", \"ass :: sa#\", \"ass :: sasj\", \"ass :: sasj\", \"ass :: sje\", \"ass :: sje\", \"ass :: sje\", \"ass :: sje\", \"ass :: sje\", \"ass :: sje\", \"ass :: sje\", \"ass :: sje#\", \"ass :: sje#\", \"ass :: sje#\", \"ass :: sje#\", \"ass :: sje#\", \"ass :: sje#\", \"ass :: \\u0281da\", \"ass :: \\u0281das\", \"ass :: \\u0292as\", \"ass :: \\u0292as\", \"ass :: \\u0292as\", \"ass :: \\u0292as#\", \"ass :: \\u0292as#\", \"ass :: \\u0292as#\", \"asse :: #sa\", \"asse :: #sa\", \"asse :: #\\u0251\\u0303\", \"asse :: #\\u0251\\u0303\", \"asse :: #\\u0251\\u0303\", \"asse :: as#\", \"asse :: as#\", \"asse :: as#\", \"asse :: as#\", \"asse :: as#\", \"asse :: as#\", \"asse :: as#\", \"asse :: as#\", \"asse :: as#\", \"asse :: as#\", \"asse :: as#\", \"asse :: as#\", \"asse :: as#\", \"asse :: as#\", \"asse :: as#\", \"asse :: as#\", \"asse :: as#\", \"asse :: as#\", \"asse :: as#\", \"asse :: as#\", \"asse :: as#\", \"asse :: as#\", \"asse :: as#\", \"asse :: as#\", \"asse :: as#\", \"asse :: as#\", \"asse :: as#\", \"asse :: das\", \"asse :: das\", \"asse :: das\", \"asse :: das\", \"asse :: das\", \"asse :: das#\", \"asse :: das#\", \"asse :: das#\", \"asse :: las\", \"asse :: las\", \"asse :: las\", \"asse :: las\", \"asse :: las#\", \"asse :: las#\", \"asse :: las#\", \"asse :: las#\", \"asse :: las#\", \"asse :: las#\", \"asse :: las#\", \"asse :: nas\", \"asse :: nas\", \"asse :: nas#\", \"asse :: nas#\", \"asse :: nas#\", \"asse :: nas#\", \"asse :: tas\", \"asse :: tas\", \"asse :: tas\", \"asse :: tas\", \"asse :: tas\", \"asse :: tas\", \"asse :: \\u0254\\u032fna\", \"asse :: \\u0254\\u032fna\", \"asse :: \\u026azas\", \"asse :: \\u028apl\", \"asse :: \\u028apl\", \"asse :: \\u0292as\", \"asse :: \\u0292as\", \"asse :: \\u0292as#\", \"asse :: \\u0292as#\", \"asse :: \\u0292as#\", \"asse :: \\u0292as#\", \"assi :: asj\", \"assi :: asj\", \"assi :: asj\", \"assi :: asj\", \"assi :: asj\", \"assi :: asj\", \"assi :: asj\", \"assi :: asj\", \"assi :: asje\", \"assi :: asje\", \"assi :: asje\", \"assi :: asje\", \"assi :: asje\", \"assi :: je#\", \"assi :: je#\", \"assi :: je#\", \"assi :: je#\", \"assi :: je#\", \"assi :: je#\", \"assi :: sje\", \"assi :: sje\", \"assi :: sje\", \"assi :: sje\", \"assi :: sje\", \"assi :: sje\", \"assi :: sje#\", \"assi :: sje#\", \"assi :: sje#\", \"assi :: sje#\", \"assi :: sje#\", \"assi :: sje#\", \"assi :: sj\\u00f5\", \"assi :: sj\\u00f5\", \"asso :: s\\u0251\\u0254\\u032f\", \"asso :: s\\u0251\\u0254\\u032f\", \"ast :: st\\u0361\", \"ast :: t\\u0361s\", \"asti :: t\\u0361s\\u026a\", \"ati :: \\u0361s\\u026an\", \"ati :: \\u0361s\\u026an\", \"atif :: at\\u0361\", \"atin :: t\\u0361s\\u026a\", \"atin :: t\\u0361s\\u026a\", \"atin :: t\\u0361s\\u026a\", \"att :: \\u0361s\\u026as\", \"atti :: at\\u0361s\", \"atti :: at\\u0361s\", \"atti :: at\\u0361s\", \"axer :: s\\u0259\\u0281\", \"axer :: s\\u0259\\u0281\", \"axer :: s\\u0259\\u0281\", \"axer :: s\\u0259\\u0281\", \"a\\u00e7on :: as\\u0251\", \"bal :: l\\u0251\\u0254\", \"bar :: \\u0281de#\", \"bar :: \\u0281de#\", \"bara :: #ba\", \"bara :: #ba\", \"bern :: #ba\\u0281\", \"bico :: \\u026ak\\u00f5\\u0169\", \"bla :: #bl\", \"bla :: #bla\", \"bla :: bla\", \"bla :: bla\", \"ble :: bl\\u0259\\u0281\", \"ble :: bl\\u0259\\u0281\", \"ble# :: ab#\", \"ble# :: ab#\", \"bom :: b\\u00f5\\u0169\", \"bos :: \\u0251\\u0254\\u032fs\", \"bos :: \\u0251\\u0254\\u032fs\", \"boss :: #b\\u0251\", \"boss :: #b\\u0251\", \"boss :: \\u0251\\u0254\\u032f\", \"boss :: \\u0251\\u0254\\u032f\", \"boss :: \\u0251\\u0254\\u032f\", \"boss :: \\u0251\\u0254\\u032f\", \"bou :: b\\u028a\\u0281\", \"bou :: b\\u028a\\u0281\", \"bou :: b\\u028a\\u0281\", \"bou :: deb\", \"bou :: deb\", \"bou :: \\u028a\\u0281\\u026a\", \"bour :: \\u026af#\", \"bour :: \\u026af#\", \"bus :: ab\\u028f\", \"bust :: #ta\", \"bust :: a\\u0281a\", \"b\\u00e9to :: t\\u0251\\u0254\", \"caf :: #kaf\", \"caf :: #kaf\", \"can :: #ka\", \"can :: #kan\", \"can :: kan\\u0254\", \"ccla :: am\\u0259\\u0281\", \"cco :: ak\\u00f5\\u0169\", \"cco :: ak\\u028a\", \"ccu :: \\u0254\\u032fk\", \"ccu :: \\u0254\\u032fk\", \"ccu :: \\u0254\\u032fk\\u028f\", \"ccul :: \\u0254\\u032fk\", \"ccul :: \\u0254\\u032fk\", \"cer :: #sa\", \"cha :: \\u0281\\u0259\\u0283\\u0251\", \"chan :: \\u0259\\u0283\\u0251\\u0303\", \"chau :: #\\u0281e\", \"che :: \\u0259\\u0281a\", \"che :: \\u0259\\u0281a#\", \"che :: \\u0259\\u0281a#\", \"che :: \\u0281a#\", \"che :: \\u0281a#\", \"che :: \\u0283\\u0259\\u0281a\", \"cher :: \\u0254\\u032f\\u0283\\u0259\", \"cher :: \\u0254\\u032f\\u0283\\u0259\", \"cher :: \\u0259\\u0281a\", \"cher :: \\u0259\\u0281a\", \"cher :: \\u0259\\u0281a\", \"cher :: \\u0259\\u0281a#\", \"cher :: \\u0259\\u0281a#\", \"cher :: \\u0259\\u0281a#\", \"cher :: \\u0281a#\", \"cher :: \\u0283\\u0259\\u0281a\", \"cher :: \\u0283\\u0259\\u0281a\", \"chop :: as#\", \"ch\\u00e9 :: \\u0254\\u032f\\u0283\", \"cin :: \\u0129\\u032fd\", \"cla :: klam\", \"col :: k\\u0251\\u0254\", \"col :: k\\u0251\\u0254\", \"col :: \\u0251\\u0254\\u032fl\", \"col :: \\u0251\\u0254\\u032fl\", \"col :: \\u0251\\u0254\\u032fl\", \"col :: \\u0251\\u0254\\u032fl\", \"com :: #k\\u00f5\", \"com :: #k\\u00f5\", \"com :: #k\\u0251\", \"com :: \\u0251\\u0254\\u032fm\", \"com :: \\u0251\\u0254\\u032fm\", \"comp :: #k\\u00f5\", \"comp :: #k\\u00f5\", \"comp :: #k\\u00f5\", \"comp :: #k\\u00f5\", \"comp :: #k\\u00f5\\u0169\", \"comp :: #k\\u00f5\\u0169\", \"comp :: ak\\u00f5\\u0169\", \"con :: #k\\u00f5\", \"con :: #k\\u00f5\", \"con :: #k\\u00f5\", \"con :: #k\\u00f5\", \"con :: #k\\u00f5\", \"con :: #k\\u00f5\\u0169\", \"con :: #k\\u00f5\\u0169\", \"con :: #k\\u00f5\\u0169\", \"con :: #k\\u00f5\\u0169\", \"con :: #k\\u00f5\\u0169\", \"con :: #\\u0281\\u028fb\", \"con :: #\\u0281\\u028fb\", \"con :: k\\u00f5\\u0169\", \"con :: k\\u00f5\\u0169\", \"con :: k\\u00f5\\u0169\", \"con :: k\\u00f5\\u0169\", \"con :: k\\u00f5\\u0169\\u032f\", \"con :: k\\u00f5\\u0169\\u032f\", \"con :: k\\u00f5\\u0169\\u032f\", \"con :: k\\u00f5\\u0169\\u032f\", \"con :: k\\u00f5\\u0169\\u032f\", \"con :: k\\u00f5\\u0169\\u032f\", \"con :: \\u00f5\\u0169\\u032f\", \"con :: \\u00f5\\u0169\\u032f\", \"con :: \\u00f5\\u0169\\u032f\", \"con :: \\u00f5\\u0169\\u032f\", \"con :: \\u00f5\\u0169\\u032f\", \"con :: \\u00f5\\u0169\\u032f\", \"con :: \\u00f5\\u0169\\u032ff\", \"con :: \\u032ft\\u0281\", \"conf :: \\u00f5\\u0169\\u032f\", \"conf :: \\u0169\\u032ff\", \"conf :: \\u0169\\u032ff\", \"conf :: \\u032ff\\u026a\", \"conf :: \\u032ff\\u026a\", \"cons :: #k\\u00f5\", \"cont :: k\\u00f5\\u0169\", \"cont :: k\\u00f5\\u0169\", \"cont :: k\\u00f5\\u0169\", \"cont :: \\u0169\\u032ft\\u0281\", \"cont :: \\u0169\\u032ft\\u0281\", \"cord :: \\u0254\\u032f\\u0281\", \"cord :: \\u0254\\u032f\\u0281d\", \"cou :: #\\u0281\\u028a\", \"cou :: k\\u028apl\", \"cou :: \\u028ak\\u028a\", \"coul :: #\\u0281\\u028ak\", \"coul :: \\u028ak\\u028a\", \"coup :: las\", \"couv :: #\\u0281\\u0259k\", \"cqui :: jes\", \"craq :: ak\\u0259\", \"craq :: ak\\u0259\", \"croq :: k\\u0281\\u0251\\u0254\", \"croq :: \\u0251\\u0254\\u032fk\", \"cti :: \\u026aze\", \"ctis :: akt\", \"cul :: k\\u028fl\", \"cul :: k\\u028fl\", \"cul :: k\\u028fl\", \"cul :: k\\u028fl\", \"cul :: lta\", \"cul :: \\u028flt\", \"cul :: \\u028flt\", \"cul :: \\u032fk\\u028f\", \"cult :: k\\u028fl\", \"cult :: k\\u028fl\", \"cult :: k\\u028flt\", \"cult :: k\\u028flt\", \"cult :: k\\u028flt\", \"cup :: ek\\u028f\", \"cup :: ek\\u028f\", \"cup :: ek\\u028f\", \"das :: as#\", \"das :: as#\", \"das :: das\", \"das :: das#\", \"das :: das#\", \"das :: \\u0281da\", \"dass :: as#\", \"dass :: das\", \"dass :: das\", \"dass :: das#\", \"dass :: \\u0281das\", \"dass :: \\u0281das\", \"der :: d\\u0259\\u0281\", \"der :: d\\u0259\\u0281\", \"der :: d\\u0259\\u0281\", \"der :: d\\u0259\\u0281\", \"dera :: d\\u0259\\u0281\", \"dera :: d\\u0259\\u0281\", \"des :: a\\u0281d\", \"des :: a\\u0281d#\", \"des :: des\", \"des :: des\", \"des :: des\", \"des :: dese\", \"des :: dese\", \"des :: sela\", \"des :: \\u0281d#\", \"desc :: #des\", \"desc :: #des\", \"deur :: d\\u0153\\u0281\", \"deur :: d\\u0153\\u0281\", \"dis :: #d\\u0361\", \"dis :: #d\\u0361\", \"dis :: #d\\u0361\", \"dis :: #d\\u0361z\", \"dis :: #d\\u0361z\", \"dis :: #d\\u0361z\", \"dis :: d\\u0361z\", \"dis :: d\\u0361z\", \"dis :: d\\u0361z\", \"dis :: d\\u0361z\\u026a\", \"dis :: d\\u0361z\\u026a\", \"dis :: d\\u0361z\\u026a\", \"dis :: z\\u026as\", \"dis :: z\\u026as\", \"dis :: z\\u026as\", \"dis :: \\u0361z\\u026a\", \"dis :: \\u0361z\\u026a\", \"dis :: \\u0361z\\u026a\", \"dis :: \\u0361z\\u026a\", \"dis :: \\u0361z\\u026as\", \"doss :: #\\u0251\\u0303\", \"doss :: \\u0251\\u0303do\", \"doss :: \\u0303do\", \"doss :: \\u0303do\", \"dou :: d\\u028as\", \"dra :: #d\\u0281a\", \"dra :: #d\\u0281a\", \"dra :: #d\\u0281a\", \"dra :: \\u0251\\u0303d\", \"dra :: \\u0251\\u0303d\", \"dra :: \\u0251\\u0303d\", \"drai :: \\u0303d\\u0281a\", \"drai :: \\u0303d\\u0281a\", \"drai :: \\u0303d\\u0281a\", \"dras :: \\u0303d\\u0281\", \"dur :: d\\u0361z\", \"dur :: d\\u0361z\", \"dur :: d\\u0361z\\u028f\", \"dur :: d\\u0361z\\u028f\", \"durc :: \\u028f\\u0281s\", \"d\\u00e9br :: deb\", \"d\\u00e9c :: #de\", \"d\\u00e9c :: #de\", \"d\\u00e9c :: #de\", \"d\\u00e9c :: #de\", \"d\\u00e9c :: #de\", \"d\\u00e9c :: #de\", \"d\\u00e9c :: #de\", \"d\\u00e9c :: #de\", \"d\\u00e9c :: #de\", \"d\\u00e9c :: #de\", \"d\\u00e9c :: #dek\", \"d\\u00e9c :: #dek\", \"d\\u00e9c :: #dek\", \"d\\u00e9c :: #dek\", \"d\\u00e9c :: #dek\", \"d\\u00e9c :: #dek\", \"d\\u00e9c :: #dek\", \"d\\u00e9c :: dek\", \"d\\u00e9c :: dek\", \"d\\u00e9c :: dek\", \"d\\u00e9c :: dek\", \"d\\u00e9c :: dek\", \"d\\u00e9c :: dek\", \"d\\u00e9c :: dek\", \"d\\u00e9c :: dek\", \"d\\u00e9cu :: k\\u028fp\", \"d\\u00e9cu :: k\\u028fp\", \"d\\u00e9cu :: \\u028fpl\", \"d\\u00e9cu :: \\u028fpl\", \"d\\u00e9p :: #de\", \"d\\u00e9p :: #de\", \"d\\u00e9p :: #de\", \"d\\u00e9p :: #de\", \"d\\u00e9p :: #de\", \"d\\u00e9p :: #de\", \"d\\u00e9p :: #dep\", \"d\\u00e9p :: #dep\", \"d\\u00e9p :: #dep\", \"d\\u00e9p :: #dep\", \"d\\u00e9p :: #dep\", \"d\\u00e9p :: #dep\", \"d\\u00e9p :: dep\", \"d\\u00e9p :: dep\", \"d\\u00e9p :: dep\", \"d\\u00e9p :: dep\", \"d\\u00e9p :: dep\", \"d\\u00e9p :: dep\", \"d\\u00e9s :: #de\", \"d\\u00e9s :: #de\", \"d\\u00e9s :: #de\", \"d\\u00e9s :: #de\", \"d\\u00e9s :: #de\", \"d\\u00e9s :: #dez\", \"d\\u00e9s :: #dez\", \"d\\u00e9s :: #dez\", \"d\\u00e9s :: dez\", \"d\\u00e9s :: dez\", \"d\\u00e9s :: eza\", \"d\\u00e9s :: eza\", \"d\\u00e9sa :: deza\", \"d\\u00e9se :: #de\", \"d\\u00e9se :: #dez\", \"d\\u00e9se :: #dez\", \"d\\u00e9se :: dez\", \"d\\u00e9te :: et\\u0251\\u0303\", \"eas :: as#\", \"eas :: as#\", \"eas :: as#\", \"eas :: \\u0292as\", \"eas :: \\u0292as\", \"eas :: \\u0292as\", \"eas :: \\u0292as\", \"eas :: \\u0292as#\", \"eas :: \\u0292as#\", \"eas :: \\u0292as#\", \"eas :: \\u0292as#\", \"eass :: as#\", \"eass :: as#\", \"eass :: as#\", \"eass :: as#\", \"eass :: \\u0292as\", \"eass :: \\u0292as\", \"eass :: \\u0292as\", \"eass :: \\u0292as#\", \"eass :: \\u0292as#\", \"eass :: \\u0292as#\", \"eass :: \\u0292as#\", \"ech :: \\u0259\\u0283\\u0251\", \"eco :: #\\u0281\\u0259k\", \"eco :: \\u0281\\u0259k\", \"eco :: \\u0281\\u0259k\", \"eco :: \\u0281\\u0259k\", \"eco :: \\u0281\\u0259k\", \"ecou :: \\u0281\\u0259k\\u028a\", \"egar :: \\u0259ga\\u0281\", \"emb :: s\\u0251\\u0303\", \"embl :: \\u0251\\u0303b\", \"embl :: \\u0303bl\", \"eme :: nm\\u00e6\", \"eme :: nm\\u00e6\", \"emen :: m\\u00e6\\u0303\", \"emen :: m\\u00e6\\u0303\", \"emen :: m\\u00e6\\u0303\", \"emen :: m\\u00e6\\u0303\", \"emen :: sm\\u00e6\\u0303\", \"emen :: sm\\u00e6\\u0303\", \"emp :: pan\", \"emp :: p\\u0251\\u0254\\u032f\", \"emp :: \\u0251\\u0254\\u032f\", \"emp :: \\u0303pan\", \"empa :: pan\", \"empa :: \\u0303pan\", \"empi :: pje\", \"empi :: \\u0303pje\", \"empo :: p\\u0251\\u0254\", \"empo :: \\u0251\\u0254\\u032f\", \"empo :: \\u032f\\u0281t\", \"empo :: \\u032f\\u0281t\", \"enai :: na#\", \"enc :: \\u0303k\\u028a\\u0281\", \"enco :: \\u0251\\u0303k\\u0251\", \"end :: #\\u0251\\u0303\", \"end :: #\\u0251\\u0303d\", \"end :: \\u0251\\u0303d\", \"end :: \\u0251\\u0303d\", \"end :: \\u0251\\u0303d\", \"end :: \\u0251\\u0303d\", \"end :: \\u0251\\u0303d\", \"end :: \\u0251\\u0303d\", \"end :: \\u0303do\", \"end :: \\u0303do\", \"end :: \\u0303d\\u0281\", \"end :: \\u0303d\\u0281\", \"end :: \\u0303d\\u0281\", \"end :: \\u0303d\\u0281\", \"endo :: dos\", \"endr :: d\\u0281\\u0254#\", \"endr :: d\\u0281\\u0254#\", \"enf :: #\\u0251\\u0303\", \"enf :: #\\u0251\\u0303\", \"enf :: \\u0251\\u0303f\", \"enf :: \\u0251\\u0303f\", \"enf :: \\u0251\\u0303f\", \"enf :: \\u0251\\u0303f\", \"enga :: \\u0281\\u0251\\u0303g\", \"engr :: #\\u0251\\u0303\", \"engr :: \\u0251\\u0303g\\u0281\", \"engr :: \\u0251\\u0303g\\u0281\", \"engr :: \\u0303g\\u0281a\", \"enn :: an#\", \"enn :: an#\", \"enn :: et\\u0281a\", \"enn :: jan\", \"enne :: an#\", \"enne :: an#\", \"enne :: jan\", \"enne :: jan#\", \"ens :: p\\u0251\\u0303\", \"ens :: \\u0303se\", \"ens :: \\u0303se\", \"ens :: \\u0303se\", \"ent :: #de\", \"ent :: #de\", \"ent :: #de\", \"ent :: #de\", \"ent :: #de\", \"ent :: #de\", \"ent :: #de\", \"ent :: #de\", \"ent :: #de\", \"ent :: #\\u0251\\u0303\", \"ent :: #\\u0251\\u0303\", \"ent :: #\\u0251\\u0303\", \"ent :: #\\u0251\\u0303\", \"ent :: #\\u0251\\u0303\", \"ent :: #\\u0251\\u0303t\", \"ent :: #\\u0251\\u0303t\", \"ent :: #\\u0251\\u0303t\", \"ent :: as#\", \"ent :: as#\", \"ent :: as#\", \"ent :: as#\", \"ent :: as#\", \"ent :: as#\", \"ent :: as#\", \"ent :: as#\", \"ent :: as#\", \"ent :: as#\", \"ent :: as#\", \"ent :: as#\", \"ent :: as#\", \"ent :: as#\", \"ent :: as#\", \"ent :: a\\u0281#\", \"ent :: a\\u0281#\", \"ent :: a\\u0281#\", \"ent :: a\\u0281#\", \"ent :: a\\u0281#\", \"ent :: a\\u0281#\", \"ent :: a\\u0281#\", \"ent :: a\\u0281#\", \"ent :: a\\u0281#\", \"ent :: a\\u0281#\", \"ent :: a\\u0281#\", \"ent :: a\\u0281#\", \"ent :: a\\u0281#\", \"ent :: ba\\u0281\", \"ent :: ev\\u0251\", \"ent :: ev\\u0251\", \"ent :: maj\", \"ent :: m\\u00e6\\u0303\", \"ent :: m\\u00e6\\u0303\", \"ent :: m\\u00e6\\u0303\", \"ent :: m\\u00e6\\u0303\", \"ent :: m\\u00e6\\u0303\", \"ent :: sm\\u00e6\", \"ent :: t\\u0259\\u0281\", \"ent :: t\\u0259\\u0281\", \"ent :: t\\u0259\\u0281a\", \"ent :: t\\u0259\\u0281a\", \"ent :: \\u00e6\\u0303#\", \"ent :: \\u00e6\\u0303#\", \"ent :: \\u00e6\\u0303#\", \"ent :: \\u00e6\\u0303#\", \"ent :: \\u00e6\\u0303#\", \"ent :: \\u0129\\u032fs\", \"ent :: \\u0129\\u032fs\", \"ent :: \\u0129\\u032fs\", \"ent :: \\u0251\\u0254\\u032f\", \"ent :: \\u0251\\u0254\\u032f\", \"ent :: \\u0251\\u0254\\u032f\", \"ent :: \\u0251\\u0254\\u032f\", \"ent :: \\u0251\\u0254\\u032f\", \"ent :: \\u0251\\u0254\\u032f\", \"ent :: \\u0251\\u0254\\u032f\", \"ent :: \\u0251\\u0254\\u032f\", \"ent :: \\u0251\\u0254\\u032f\", \"ent :: \\u0251\\u0254\\u032f\", \"ent :: \\u0251\\u0254\\u032f\", \"ent :: \\u0251\\u0303t\", \"ent :: \\u0251\\u0303t\", \"ent :: \\u0251\\u0303t\", \"ent :: \\u0251\\u0303t\", \"ent :: \\u0251\\u0303t\", \"ent :: \\u0251\\u0303ta\", \"ent :: \\u0251\\u0303ta\", \"ent :: \\u0251\\u0303ta\", \"ent :: \\u0254\\u032fn\", \"ent :: \\u0254\\u032fn\", \"ent :: \\u0259\\u0281a#\", \"ent :: \\u0259\\u0281a#\", \"ent :: \\u0259\\u0281a#\", \"ent :: \\u0259\\u0281a#\", \"ent :: \\u0259\\u0281a#\", \"ent :: \\u0259\\u0281a#\", \"ent :: \\u0259\\u0281a#\", \"ent :: \\u0259\\u0281a#\", \"ent :: \\u0259\\u0281a#\", \"ent :: \\u0259\\u0281a#\", \"ent :: \\u0281a#\", \"ent :: \\u0281a#\", \"ent :: \\u0281a#\", \"ent :: \\u0281a#\", \"ent :: \\u0281a#\", \"ent :: \\u0281a#\", \"ent :: \\u0281a#\", \"ent :: \\u0281a#\", \"ent :: \\u0281a#\", \"ent :: \\u0281a#\", \"ent :: \\u0281a#\", \"ent :: \\u0281a#\", \"ent :: \\u0281a#\", \"ent :: \\u0281a#\", \"ent :: \\u0303ta\", \"ent :: \\u0303ta\", \"ent :: \\u0303ta\", \"ent :: \\u0303ta\", \"ent :: \\u0303ta#\", \"ent :: \\u0361s\\u026al\", \"ent# :: #de\", \"ent# :: #de\", \"ent# :: #de\", \"ent# :: #de\", \"ent# :: #de\", \"ent# :: #de\", \"ent# :: #de\", \"ent# :: #de\", \"ent# :: #de\", \"ent# :: #de\", \"ent# :: #de\", \"ent# :: #p\\u0281\", \"ent# :: as#\", \"ent# :: as#\", \"ent# :: as#\", \"ent# :: as#\", \"ent# :: as#\", \"ent# :: as#\", \"ent# :: as#\", \"ent# :: as#\", \"ent# :: as#\", \"ent# :: as#\", \"ent# :: as#\", \"ent# :: as#\", \"ent# :: as#\", \"ent# :: as#\", \"ent# :: as#\", \"ent# :: a\\u0281#\", \"ent# :: a\\u0281#\", \"ent# :: a\\u0281#\", \"ent# :: a\\u0281#\", \"ent# :: a\\u0281#\", \"ent# :: a\\u0281#\", \"ent# :: a\\u0281#\", \"ent# :: a\\u0281#\", \"ent# :: a\\u0281#\", \"ent# :: a\\u0281#\", \"ent# :: a\\u0281#\", \"ent# :: na#\", \"ent# :: na#\", \"ent# :: na#\", \"ent# :: n\\u0259\\u0281\", \"ent# :: n\\u0259\\u0281\", \"ent# :: n\\u0259\\u0281a\", \"ent# :: n\\u0259\\u0281a\", \"ent# :: t\\u0259\\u0281\", \"ent# :: \\u0251\\u0254\\u032f\", \"ent# :: \\u0251\\u0254\\u032f\", \"ent# :: \\u0251\\u0254\\u032f\", \"ent# :: \\u0251\\u0254\\u032f\", \"ent# :: \\u0251\\u0254\\u032f\", \"ent# :: \\u0251\\u0254\\u032f\", \"ent# :: \\u0251\\u0254\\u032f\", \"ent# :: \\u0251\\u0254\\u032f\", \"ent# :: \\u0251\\u0254\\u032f\", \"ent# :: \\u0251\\u0254\\u032fn\", \"ent# :: \\u0251\\u0254\\u032fn\", \"ent# :: \\u0259\\u0281a\", \"ent# :: \\u0259\\u0281a\", \"ent# :: \\u0259\\u0281a\", \"ent# :: \\u0259\\u0281a\", \"ent# :: \\u0259\\u0281a\", \"ent# :: \\u0259\\u0281a\", \"ent# :: \\u0259\\u0281a\", \"ent# :: \\u0259\\u0281a\", \"ent# :: \\u0259\\u0281a\", \"ent# :: \\u0259\\u0281a\", \"ent# :: \\u0259\\u0281a\", \"ent# :: \\u0259\\u0281a#\", \"ent# :: \\u0259\\u0281a#\", \"ent# :: \\u0259\\u0281a#\", \"ent# :: \\u0259\\u0281a#\", \"ent# :: \\u0259\\u0281a#\", \"ent# :: \\u0259\\u0281a#\", \"ent# :: \\u0259\\u0281a#\", \"ent# :: \\u0259\\u0281a#\", \"ent# :: \\u0259\\u0281a#\", \"ent# :: \\u0259\\u0281a#\", \"ent# :: \\u0281a#\", \"ent# :: \\u0281a#\", \"ent# :: \\u0281a#\", \"ent# :: \\u0281a#\", \"ent# :: \\u0281a#\", \"ent# :: \\u0281a#\", \"ent# :: \\u0281a#\", \"ent# :: \\u0281a#\", \"ent# :: \\u0281a#\", \"ent# :: \\u0281a#\", \"ent# :: \\u0281a#\", \"enta :: \\u0251\\u0303ta\", \"enta :: \\u0251\\u0303ta\", \"enta :: \\u0251\\u0303ta\", \"enta :: \\u0303ta\", \"enta :: \\u0303ta\", \"en\\u00e2c :: nak\", \"era :: an\\u0259\", \"era :: an\\u0259\", \"era :: ap\\u0259\", \"era :: a\\u0281\\u0259\", \"era :: a\\u0281\\u0259\", \"era :: a\\u0281\\u0259\", \"era :: a\\u0281\\u0259\", \"era :: a\\u0281\\u0259\", \"era :: a\\u0281\\u0259\\u0281\", \"era :: a\\u0281\\u0259\\u0281\", \"era :: j\\u0259\\u0281\", \"era :: j\\u0259\\u0281\", \"era :: j\\u0259\\u0281\", \"era :: j\\u0259\\u0281\", \"era :: j\\u0259\\u0281\", \"era :: j\\u0259\\u0281\", \"era :: j\\u0259\\u0281\", \"era :: j\\u0259\\u0281\", \"era :: la\\u0281a\", \"era :: la\\u0281a\", \"era :: m\\u0259\\u0281a\", \"era :: m\\u0259\\u0281a\", \"era :: m\\u0259\\u0281a\", \"era :: n\\u0259\\u0281\", \"era :: n\\u0259\\u0281\", \"era :: n\\u0259\\u0281\", \"era :: n\\u0259\\u0281\", \"era :: n\\u0259\\u0281\", \"era :: n\\u0259\\u0281a\", \"era :: n\\u0259\\u0281a\", \"era :: n\\u0259\\u0281a\", \"era :: n\\u0259\\u0281a\", \"era :: n\\u0259\\u0281a\", \"era :: n\\u0259\\u0281a\", \"era :: s\\u0259\\u0281\", \"era :: s\\u0259\\u0281\", \"era :: s\\u0259\\u0281\", \"era :: s\\u0259\\u0281\", \"era :: s\\u0259\\u0281\", \"era :: s\\u0259\\u0281a\", \"era :: s\\u0259\\u0281a\", \"era :: s\\u0259\\u0281a\", \"era :: s\\u0259\\u0281a\", \"era :: s\\u0259\\u0281\\u0254\", \"era :: s\\u0259\\u0281\\u0254\", \"era :: s\\u0259\\u0281\\u0254\", \"era :: s\\u0259\\u0281\\u0254\", \"era :: s\\u0259\\u0281\\u0254\", \"era :: t\\u0259\\u0281\", \"era :: t\\u0259\\u0281\", \"era :: t\\u0259\\u0281\", \"era :: t\\u0259\\u0281\", \"era :: t\\u0259\\u0281\", \"era :: t\\u0259\\u0281a\", \"era :: t\\u0259\\u0281a\", \"era :: t\\u0259\\u0281a\", \"era :: t\\u0259\\u0281a\", \"era :: t\\u0259\\u0281\\u0254\", \"era :: t\\u0259\\u0281\\u0254\", \"era :: z\\u0259\\u0281\", \"era :: z\\u0259\\u0281\", \"era :: z\\u0259\\u0281\", \"era :: z\\u0259\\u0281a\", \"era :: z\\u0259\\u0281a\", \"era :: \\u0259\\u0281a\", \"era :: \\u0259\\u0281a\", \"era :: \\u0259\\u0281a\", \"era :: \\u0259\\u0281a\", \"era :: \\u0259\\u0281a\", \"era :: \\u0259\\u0281a\", \"era :: \\u0259\\u0281a\", \"era :: \\u0259\\u0281a\", \"era :: \\u0259\\u0281a\", \"era :: \\u0259\\u0281a\", \"era :: \\u0259\\u0281a\", \"era :: \\u0259\\u0281a\", \"era :: \\u0259\\u0281a\", \"era :: \\u0259\\u0281a\", \"era :: \\u0259\\u0281a\", \"era :: \\u0259\\u0281a\", \"era :: \\u0259\\u0281a\", \"era :: \\u0259\\u0281a\", \"era :: \\u0259\\u0281a\", \"era :: \\u0259\\u0281a\", \"era :: \\u0259\\u0281a\", \"era :: \\u0259\\u0281a\", \"era :: \\u0259\\u0281a\", \"era :: \\u0259\\u0281a\", \"era :: \\u0259\\u0281a#\", \"era :: \\u0259\\u0281a#\", \"era :: \\u0259\\u0281a#\", \"era :: \\u0259\\u0281a#\", \"era :: \\u0259\\u0281a#\", \"era :: \\u0259\\u0281a#\", \"era :: \\u0259\\u0281a#\", \"era :: \\u0259\\u0281a#\", \"era :: \\u0259\\u0281a#\", \"era :: \\u0259\\u0281a#\", \"era :: \\u0259\\u0281a#\", \"era :: \\u0259\\u0281a#\", \"era :: \\u0259\\u0281a#\", \"era :: \\u0259\\u0281a#\", \"era :: \\u0259\\u0281a#\", \"era :: \\u0259\\u0281a#\", \"era :: \\u0259\\u0281a#\", \"era :: \\u0259\\u0281a#\", \"era :: \\u0259\\u0281a#\", \"era :: \\u0259\\u0281a#\", \"era :: \\u0259\\u0281a#\", \"era :: \\u0259\\u0281\\u0254\", \"era :: \\u0259\\u0281\\u0254\", \"era :: \\u0259\\u0281\\u0254\", \"era :: \\u0259\\u0281\\u0254\", \"era :: \\u0259\\u0281\\u0254\", \"era :: \\u0259\\u0281\\u0254\", \"era :: \\u0259\\u0281\\u0254\", \"era :: \\u0259\\u0281\\u0254\", \"era :: \\u0259\\u0281\\u0254\", \"era :: \\u0259\\u0281\\u0254\", \"era :: \\u0259\\u0281\\u0254\", \"era :: \\u0259\\u0281\\u0254\", \"era :: \\u0259\\u0281\\u0254\", \"era :: \\u0259\\u0281\\u0254\", \"era :: \\u0259\\u0281\\u0254\", \"era :: \\u0259\\u0281\\u0254#\", \"era :: \\u0259\\u0281\\u0254#\", \"era :: \\u0259\\u0281\\u0254#\", \"era :: \\u0259\\u0281\\u0254#\", \"era :: \\u0259\\u0281\\u0254#\", \"era :: \\u0259\\u0281\\u0254#\", \"era :: \\u0259\\u0281\\u0254#\", \"era :: \\u0259\\u0281\\u0254#\", \"era :: \\u0259\\u0281\\u0254#\", \"era :: \\u0259\\u0281\\u0254#\", \"era :: \\u0259\\u0281\\u0254#\", \"era :: \\u0259\\u0281\\u0254#\", \"era :: \\u0259\\u0281\\u0254#\", \"era :: \\u0259\\u0281\\u0254#\", \"era :: \\u0259\\u0281\\u0254#\", \"era :: \\u0259\\u0281\\u0254#\", \"era :: \\u0281a#\", \"era :: \\u0281a#\", \"era :: \\u0281a#\", \"era :: \\u0281a#\", \"era :: \\u0281a#\", \"era :: \\u0281a#\", \"era :: \\u0281a#\", \"era :: \\u0281a#\", \"era :: \\u0281a#\", \"era :: \\u0281a#\", \"era :: \\u0281a#\", \"era :: \\u0281a#\", \"era :: \\u0281a#\", \"era :: \\u0281a#\", \"era :: \\u0281a#\", \"era :: \\u0281a#\", \"era :: \\u0281a#\", \"era :: \\u0281a#\", \"era :: \\u0281a#\", \"era :: \\u0281a#\", \"era :: \\u0281a#\", \"era :: \\u0281a#\", \"era :: \\u0281n\\u0259\", \"era :: \\u0281\\u0254#\", \"era :: \\u0281\\u0254#\", \"era :: \\u0281\\u0254#\", \"era :: \\u0281\\u0254#\", \"era :: \\u0281\\u0254#\", \"era :: \\u0281\\u0254#\", \"era :: \\u0281\\u0254#\", \"era :: \\u0281\\u0254#\", \"era :: \\u0281\\u0254#\", \"era :: \\u0281\\u0254#\", \"era :: \\u0281\\u0254#\", \"era :: \\u0281\\u0254#\", \"era :: \\u0281\\u0254#\", \"era :: \\u0281\\u0254#\", \"era :: \\u0281\\u0254#\", \"era :: \\u0281\\u0254#\", \"era :: \\u0281\\u0254#\", \"era :: \\u0281\\u0259\\u0281a\", \"era :: \\u0281\\u0259\\u0281a\", \"era :: \\u0281\\u0259\\u0281a\", \"era :: \\u0281\\u0259\\u0281a\", \"era :: \\u0281\\u0259\\u0281a\", \"era :: \\u0283\\u0259\\u0281\", \"era :: \\u0283\\u0259\\u0281\", \"era :: \\u0283\\u0259\\u0281\", \"era :: \\u0283\\u0259\\u0281a\", \"era :: \\u028aj\\u0259\", \"era :: \\u028aj\\u0259\", \"era :: \\u028aj\\u0259\", \"era# :: \\u0259\\u0281\\u0254\", \"era# :: \\u0259\\u0281\\u0254\", \"era# :: \\u0259\\u0281\\u0254\", \"era# :: \\u0259\\u0281\\u0254\", \"era# :: \\u0259\\u0281\\u0254\", \"era# :: \\u0259\\u0281\\u0254\", \"era# :: \\u0259\\u0281\\u0254\", \"era# :: \\u0259\\u0281\\u0254\", \"era# :: \\u0259\\u0281\\u0254\", \"era# :: \\u0259\\u0281\\u0254\", \"era# :: \\u0259\\u0281\\u0254\", \"era# :: \\u0259\\u0281\\u0254\", \"era# :: \\u0281\\u0254#\", \"era# :: \\u0281\\u0254#\", \"era# :: \\u0281\\u0254#\", \"era# :: \\u0281\\u0254#\", \"era# :: \\u0281\\u0254#\", \"era# :: \\u0281\\u0254#\", \"era# :: \\u0281\\u0254#\", \"era# :: \\u0281\\u0254#\", \"era# :: \\u0281\\u0254#\", \"era# :: \\u0281\\u0254#\", \"era# :: \\u0281\\u0254#\", \"era# :: \\u0281\\u0254#\", \"era# :: \\u0281\\u0254#\", \"era# :: \\u0281\\u0254#\", \"erai :: ap\\u0259\", \"erai :: ap\\u0259\", \"erai :: ap\\u0259\\u0281\", \"erai :: ap\\u0259\\u0281\", \"erai :: az\\u0259\", \"erai :: az\\u0259\", \"erai :: a\\u0281\\u0259\", \"erai :: a\\u0281\\u0259\\u0281\", \"erai :: a\\u0281\\u0259\\u0281\", \"erai :: d\\u0259\\u0281\", \"erai :: d\\u0259\\u0281\", \"erai :: d\\u0259\\u0281\", \"erai :: m\\u0259\\u0281a\", \"erai :: m\\u0259\\u0281a\", \"erai :: m\\u0259\\u0281a\", \"erai :: n\\u0259\\u0281\", \"erai :: n\\u0259\\u0281\", \"erai :: n\\u0259\\u0281\", \"erai :: n\\u0259\\u0281\", \"erai :: n\\u0259\\u0281\", \"erai :: n\\u0259\\u0281\", \"erai :: n\\u0259\\u0281a\", \"erai :: n\\u0259\\u0281a\", \"erai :: n\\u0259\\u0281a\", \"erai :: n\\u0259\\u0281a\", \"erai :: n\\u0259\\u0281a\", \"erai :: p\\u0259\\u0281a\", \"erai :: p\\u0259\\u0281a\", \"erai :: t\\u0259\\u0281\", \"erai :: t\\u0259\\u0281\", \"erai :: t\\u0259\\u0281\", \"erai :: t\\u0259\\u0281\", \"erai :: t\\u0259\\u0281\", \"erai :: t\\u0259\\u0281a\", \"erai :: t\\u0259\\u0281a\", \"erai :: t\\u0259\\u0281a\", \"erai :: t\\u0259\\u0281a\", \"erai :: z\\u0259\\u0281\", \"erai :: z\\u0259\\u0281\", \"erai :: z\\u0259\\u0281a\", \"erai :: z\\u0259\\u0281a\", \"erai :: \\u0259\\u0281a\", \"erai :: \\u0259\\u0281a\", \"erai :: \\u0259\\u0281a\", \"erai :: \\u0259\\u0281a\", \"erai :: \\u0259\\u0281a\", \"erai :: \\u0259\\u0281a\", \"erai :: \\u0259\\u0281a\", \"erai :: \\u0259\\u0281a\", \"erai :: \\u0259\\u0281a\", \"erai :: \\u0259\\u0281a\", \"erai :: \\u0259\\u0281a\", \"erai :: \\u0259\\u0281a\", \"erai :: \\u0259\\u0281a\", \"erai :: \\u0259\\u0281a\", \"erai :: \\u0259\\u0281a\", \"erai :: \\u0259\\u0281a\", \"erai :: \\u0259\\u0281a\", \"erai :: \\u0259\\u0281a\", \"erai :: \\u0259\\u0281a\", \"erai :: \\u0259\\u0281a\", \"erai :: \\u0259\\u0281a\", \"erai :: \\u0259\\u0281a\", \"erai :: \\u0259\\u0281a#\", \"erai :: \\u0259\\u0281a#\", \"erai :: \\u0259\\u0281a#\", \"erai :: \\u0259\\u0281a#\", \"erai :: \\u0259\\u0281a#\", \"erai :: \\u0259\\u0281a#\", \"erai :: \\u0259\\u0281a#\", \"erai :: \\u0259\\u0281a#\", \"erai :: \\u0259\\u0281a#\", \"erai :: \\u0259\\u0281a#\", \"erai :: \\u0259\\u0281a#\", \"erai :: \\u0259\\u0281a#\", \"erai :: \\u0259\\u0281a#\", \"erai :: \\u0259\\u0281a#\", \"erai :: \\u0259\\u0281a#\", \"erai :: \\u0259\\u0281a#\", \"erai :: \\u0259\\u0281a#\", \"erai :: \\u0259\\u0281a#\", \"erai :: \\u0259\\u0281a#\", \"erai :: \\u0259\\u0281a#\", \"erai :: \\u0259\\u0281a#\", \"erai :: \\u0259\\u0281a#\", \"erai :: \\u0281a#\", \"erai :: \\u0281a#\", \"erai :: \\u0281a#\", \"erai :: \\u0281a#\", \"erai :: \\u0281a#\", \"erai :: \\u0281a#\", \"erai :: \\u0281a#\", \"erai :: \\u0281a#\", \"erai :: \\u0281a#\", \"erai :: \\u0281a#\", \"erai :: \\u0281a#\", \"erai :: \\u0281a#\", \"erai :: \\u0281a#\", \"erai :: \\u0281a#\", \"erai :: \\u0281a#\", \"erai :: \\u0281a#\", \"erai :: \\u0281a#\", \"erai :: \\u0281a#\", \"erai :: \\u0281a#\", \"erai :: \\u0281a#\", \"erai :: \\u0281a#\", \"erai :: \\u0281a#\", \"erai :: \\u0281\\u0259\\u0281\", \"erai :: \\u0281\\u0259\\u0281\", \"erai :: \\u0281\\u0259\\u0281\", \"erai :: \\u0281\\u0259\\u0281\", \"erai :: \\u0281\\u0259\\u0281\", \"erai :: \\u0281\\u0259\\u0281\", \"erai :: \\u0281\\u0259\\u0281\", \"erai :: \\u0281\\u0259\\u0281\", \"erai :: \\u0281\\u0259\\u0281\", \"erai :: \\u0281\\u0259\\u0281\", \"erai :: \\u0283\\u0259\\u0281\", \"erai :: \\u0283\\u0259\\u0281a\", \"erai :: \\u0283\\u0259\\u0281a\", \"eras :: \\u0259\\u0281\\u0254\", \"eras :: \\u0259\\u0281\\u0254\", \"eras :: \\u0259\\u0281\\u0254\", \"eras :: \\u0259\\u0281\\u0254\", \"eras :: \\u0259\\u0281\\u0254\", \"eras :: \\u0259\\u0281\\u0254\", \"eras :: \\u0259\\u0281\\u0254\", \"eras :: \\u0259\\u0281\\u0254\", \"eras :: \\u0259\\u0281\\u0254\", \"eras :: \\u0259\\u0281\\u0254#\", \"eras :: \\u0259\\u0281\\u0254#\", \"eras :: \\u0259\\u0281\\u0254#\", \"eras :: \\u0259\\u0281\\u0254#\", \"eras :: \\u0259\\u0281\\u0254#\", \"eras :: \\u0259\\u0281\\u0254#\", \"eras :: \\u0259\\u0281\\u0254#\", \"eras :: \\u0259\\u0281\\u0254#\", \"eras :: \\u0259\\u0281\\u0254#\", \"eras :: \\u0281\\u0254#\", \"eras :: \\u0281\\u0254#\", \"eras :: \\u0281\\u0254#\", \"eras :: \\u0281\\u0254#\", \"eras :: \\u0281\\u0254#\", \"eras :: \\u0281\\u0254#\", \"eras :: \\u0281\\u0254#\", \"eras :: \\u0281\\u0254#\", \"eras :: \\u0281\\u0254#\", \"eras :: \\u0281\\u0254#\", \"eras :: \\u0281\\u0259\\u0281\", \"eras :: \\u0281\\u0259\\u0281\", \"eras :: \\u0281\\u0259\\u0281\", \"ere :: l\\u0259\\u0281\", \"ere :: l\\u0259\\u0281\", \"ere :: l\\u0259\\u0281\", \"ere :: s\\u0259\\u0281\", \"ere :: \\u0259\\u0281e\", \"ere :: \\u0259\\u0281e\", \"ere :: \\u0259\\u0281e\", \"ere :: \\u0259\\u0281e\", \"ere :: \\u0259\\u0281e\", \"ere :: \\u0259\\u0281e\", \"ere :: \\u0259\\u0281e\", \"ere :: \\u0259\\u0281e\", \"ere :: \\u0259\\u0281e\", \"ere :: \\u0259\\u0281e\", \"ere :: \\u0259\\u0281e\", \"ere :: \\u0259\\u0281e#\", \"ere :: \\u0259\\u0281e#\", \"ere :: \\u0259\\u0281e#\", \"ere :: \\u0259\\u0281e#\", \"ere :: \\u0259\\u0281e#\", \"ere :: \\u0259\\u0281e#\", \"ere :: \\u0259\\u0281e#\", \"ere :: \\u0259\\u0281e#\", \"ere :: \\u0259\\u0281e#\", \"ere :: \\u0259\\u0281e#\", \"ere :: \\u0259\\u0281e#\", \"ere :: \\u0259\\u0281e#\", \"ere :: \\u0281e#\", \"ere :: \\u0281e#\", \"ere :: \\u0281e#\", \"ere :: \\u0281e#\", \"ere :: \\u0281e#\", \"ere :: \\u0281e#\", \"ere :: \\u0281e#\", \"ere :: \\u0281e#\", \"ere :: \\u0281e#\", \"ere :: \\u0281e#\", \"erez :: l\\u0259\\u0281\", \"erez :: l\\u0259\\u0281\", \"erez :: l\\u0259\\u0281e\", \"erez :: l\\u0259\\u0281e\", \"erez :: \\u0259\\u0281e\", \"erez :: \\u0259\\u0281e\", \"erez :: \\u0259\\u0281e\", \"erez :: \\u0259\\u0281e\", \"erez :: \\u0259\\u0281e\", \"erez :: \\u0259\\u0281e\", \"erez :: \\u0259\\u0281e\", \"erez :: \\u0259\\u0281e\", \"erez :: \\u0259\\u0281e\", \"erez :: \\u0259\\u0281e\", \"erez :: \\u0259\\u0281e\", \"erez :: \\u0259\\u0281e#\", \"erez :: \\u0259\\u0281e#\", \"erez :: \\u0259\\u0281e#\", \"erez :: \\u0259\\u0281e#\", \"erez :: \\u0259\\u0281e#\", \"erez :: \\u0259\\u0281e#\", \"erez :: \\u0259\\u0281e#\", \"erez :: \\u0259\\u0281e#\", \"erez :: \\u0259\\u0281e#\", \"erez :: \\u0281e#\", \"erez :: \\u0281e#\", \"erez :: \\u0281e#\", \"erez :: \\u0281e#\", \"erez :: \\u0281e#\", \"erez :: \\u0281e#\", \"erez :: \\u0281e#\", \"erez :: \\u0281e#\", \"erez :: \\u0281e#\", \"erez :: \\u0281e#\", \"erez :: \\u0281e#\", \"erg :: #g\\u0251\\u0254\", \"eri :: je#\", \"eri :: je#\", \"eri :: je#\", \"eri :: je#\", \"eri :: je#\", \"eri :: je#\", \"eri :: \\u0259\\u0281j\", \"eri :: \\u0259\\u0281j\", \"eri :: \\u0259\\u0281j\", \"eri :: \\u0259\\u0281j\", \"eri :: \\u0259\\u0281j\", \"eri :: \\u0259\\u0281j\", \"eri :: \\u0259\\u0281j\", \"eri :: \\u0259\\u0281je\", \"eri :: \\u0259\\u0281je\", \"eri :: \\u0259\\u0281je\", \"eri :: \\u0259\\u0281je\", \"eri :: \\u0259\\u0281je\", \"eri :: \\u0259\\u0281je\", \"eri :: \\u0281je\", \"eri :: \\u0281je\", \"eri :: \\u0281je\", \"eri :: \\u0281je\", \"eri :: \\u0281je\", \"eri :: \\u0281je\", \"eri :: \\u0281je#\", \"eri :: \\u0281je#\", \"eri :: \\u0281je#\", \"eri :: \\u0281je#\", \"eri :: \\u0281je#\", \"eri :: \\u0281je#\", \"eri :: \\u0281je#\", \"erie :: al\\u0259\\u0281\", \"erie :: je#\", \"erie :: je#\", \"erie :: je#\", \"erie :: je#\", \"erie :: je#\", \"erie :: je#\", \"erie :: je#\", \"erie :: je#\", \"erie :: \\u0259\\u0281j\", \"erie :: \\u0259\\u0281j\", \"erie :: \\u0259\\u0281j\", \"erie :: \\u0259\\u0281j\", \"erie :: \\u0259\\u0281j\", \"erie :: \\u0259\\u0281j\", \"erie :: \\u0259\\u0281je\", \"erie :: \\u0259\\u0281je\", \"erie :: \\u0259\\u0281je\", \"erie :: \\u0259\\u0281je\", \"erie :: \\u0259\\u0281je\", \"erie :: \\u0281je\", \"erie :: \\u0281je\", \"erie :: \\u0281je\", \"erie :: \\u0281je\", \"erie :: \\u0281je\", \"erie :: \\u0281je\", \"erie :: \\u0281je\", \"erie :: \\u0281je#\", \"erie :: \\u0281je#\", \"erie :: \\u0281je#\", \"erie :: \\u0281je#\", \"erie :: \\u0281je#\", \"erm :: #\\u0281\\u0259\", \"ern :: a\\u0281n\", \"ern :: a\\u0281n\", \"ern :: a\\u0281n\", \"ern :: a\\u0281n\", \"erne :: a\\u0281n\", \"erne :: a\\u0281n\", \"ero :: \\u00f5\\u0169\\u032f\", \"ero :: \\u00f5\\u0169\\u032f\", \"ero :: \\u00f5\\u0169\\u032f\", \"ero :: \\u00f5\\u0169\\u032f\", \"ero :: \\u00f5\\u0169\\u032f\", \"ero :: \\u00f5\\u0169\\u032f#\", \"ero :: \\u00f5\\u0169\\u032f#\", \"ero :: \\u00f5\\u0169\\u032f#\", \"ero :: \\u00f5\\u0169\\u032f#\", \"ero :: \\u00f5\\u0169\\u032f#\", \"ero :: \\u00f5\\u0169\\u032f#\", \"ero :: \\u0169\\u032f#\", \"ero :: \\u0169\\u032f#\", \"ero :: \\u0169\\u032f#\", \"ero :: \\u0169\\u032f#\", \"ero :: \\u0169\\u032f#\", \"ero :: \\u0169\\u032f#\", \"ero :: \\u0259\\u0281\\u00f5\", \"ero :: \\u0259\\u0281\\u00f5\", \"ero :: \\u0259\\u0281\\u00f5\", \"ero :: \\u0259\\u0281\\u00f5\", \"ero :: \\u0259\\u0281\\u00f5\", \"ero :: \\u0259\\u0281\\u00f5\", \"ero :: \\u0259\\u0281\\u00f5\\u0169\", \"ero :: \\u0259\\u0281\\u00f5\\u0169\", \"ero :: \\u0259\\u0281\\u00f5\\u0169\", \"ero :: \\u0259\\u0281\\u00f5\\u0169\", \"ero :: \\u0259\\u0281\\u00f5\\u0169\", \"ero :: \\u0281\\u00f5\\u0169\", \"ero :: \\u0281\\u00f5\\u0169\", \"ero :: \\u0281\\u00f5\\u0169\", \"ero :: \\u0281\\u00f5\\u0169\", \"ero :: \\u0281\\u00f5\\u0169\", \"ero :: \\u0281\\u00f5\\u0169\", \"ero :: \\u0281\\u00f5\\u0169\\u032f\", \"ero :: \\u0281\\u00f5\\u0169\\u032f\", \"ero :: \\u0281\\u00f5\\u0169\\u032f\", \"ero :: \\u0281\\u00f5\\u0169\\u032f\", \"ero :: \\u0281\\u00f5\\u0169\\u032f\", \"ero :: \\u0281\\u00f5\\u0169\\u032f\", \"eron :: a\\u0283\\u0259\", \"eron :: \\u00f5\\u0169\\u032f\", \"eron :: \\u00f5\\u0169\\u032f\", \"eron :: \\u00f5\\u0169\\u032f\", \"eron :: \\u00f5\\u0169\\u032f\", \"eron :: \\u00f5\\u0169\\u032f\", \"eron :: \\u00f5\\u0169\\u032f#\", \"eron :: \\u00f5\\u0169\\u032f#\", \"eron :: \\u00f5\\u0169\\u032f#\", \"eron :: \\u00f5\\u0169\\u032f#\", \"eron :: \\u00f5\\u0169\\u032f#\", \"eron :: \\u00f5\\u0169\\u032f#\", \"eron :: \\u0169\\u032f#\", \"eron :: \\u0169\\u032f#\", \"eron :: \\u0169\\u032f#\", \"eron :: \\u0169\\u032f#\", \"eron :: \\u0169\\u032f#\", \"eron :: \\u0169\\u032f#\", \"eron :: \\u0259\\u0281\\u00f5\", \"eron :: \\u0259\\u0281\\u00f5\", \"eron :: \\u0259\\u0281\\u00f5\", \"eron :: \\u0259\\u0281\\u00f5\", \"eron :: \\u0259\\u0281\\u00f5\", \"eron :: \\u0259\\u0281\\u00f5\\u0169\", \"eron :: \\u0259\\u0281\\u00f5\\u0169\", \"eron :: \\u0259\\u0281\\u00f5\\u0169\", \"eron :: \\u0259\\u0281\\u00f5\\u0169\", \"eron :: \\u0259\\u0281\\u00f5\\u0169\", \"eron :: \\u0281\\u00f5\\u0169\", \"eron :: \\u0281\\u00f5\\u0169\", \"eron :: \\u0281\\u00f5\\u0169\", \"eron :: \\u0281\\u00f5\\u0169\", \"eron :: \\u0281\\u00f5\\u0169\", \"eron :: \\u0281\\u00f5\\u0169\\u032f\", \"eron :: \\u0281\\u00f5\\u0169\\u032f\", \"eron :: \\u0281\\u00f5\\u0169\\u032f\", \"eron :: \\u0281\\u00f5\\u0169\\u032f\", \"eron :: \\u0281\\u00f5\\u0169\\u032f\", \"eron :: \\u0281\\u00f5\\u0169\\u032f\", \"err :: #sa\", \"err :: #ta\", \"err :: \\u0259\\u0281a#\", \"erre :: \\u0259\\u0281a\", \"erre :: \\u0259\\u0281a\", \"ersi :: \\u0281s\\u026a\", \"ersi :: \\u0281s\\u026a\", \"es# :: #de\\u0281\", \"es# :: am#\", \"es# :: am#\", \"es# :: am#\", \"es# :: am#\", \"es# :: am#\", \"es# :: am#\", \"es# :: am#\", \"es# :: am#\", \"es# :: am#\", \"es# :: am#\", \"es# :: am#\", \"es# :: as#\", \"es# :: as#\", \"es# :: as#\", \"es# :: as#\", \"es# :: as#\", \"es# :: as#\", \"es# :: as#\", \"es# :: as#\", \"es# :: as#\", \"es# :: as#\", \"es# :: as#\", \"es# :: at#\", \"es# :: at#\", \"es# :: at#\", \"es# :: at#\", \"es# :: at#\", \"es# :: at#\", \"es# :: at#\", \"es# :: at#\", \"es# :: at#\", \"es# :: at#\", \"es# :: at#\", \"es# :: at#\", \"es# :: at#\", \"es# :: jan\", \"es# :: jan\", \"es# :: jat#\", \"es# :: ne#\", \"es# :: ne#\", \"es# :: ne#\", \"es# :: t\\u028a\\u0281n\", \"es# :: zja\", \"es# :: \\u00e3\\u0169\\u032fs\", \"es# :: \\u0251\\u0254\\u032f\", \"es# :: \\u0251\\u0254\\u032f\", \"es# :: \\u0251\\u0254\\u032f\", \"es# :: \\u0251\\u0254\\u032f\", \"es# :: \\u0251\\u0254\\u032f\", \"es# :: \\u0251\\u0254\\u032f\", \"es# :: \\u0251\\u0254\\u032f\", \"es# :: \\u0251\\u0254\\u032f\", \"es# :: \\u0251\\u0254\\u032f\", \"es# :: \\u0251\\u0254\\u032f\", \"es# :: \\u0251\\u0254\\u032f\", \"es# :: \\u0251\\u0254\\u032f\", \"es# :: \\u0251\\u0254\\u032f\", \"es# :: \\u0251\\u0254\\u032f\", \"es# :: \\u0251\\u0254\\u032f\", \"es# :: \\u0251\\u0254\\u032f\", \"es# :: \\u032fn#\", \"esc :: dese\", \"ess :: #p\\u0281\", \"ess :: #p\\u0281\", \"ess :: #p\\u0281e\", \"ess :: sot\", \"ess :: \\u0281as#\", \"essu :: es\\u028f\", \"essu :: es\\u028f\", \"essu :: p\\u0281e\", \"essu :: s\\u028f\\u0281\", \"essu :: \\u0281es\", \"est :: #ast\", \"est :: #ast\", \"est :: #ast\", \"eur :: t\\u0153\\u0281\", \"eur :: t\\u0153\\u0281\", \"eur :: t\\u0153\\u0281\", \"eur :: t\\u0153\\u0281#\", \"eur :: t\\u0153\\u0281#\", \"eur :: t\\u0153\\u0281#\", \"eur :: \\u0153\\u0281#\", \"eur :: \\u0153\\u0281#\", \"eur :: \\u0153\\u0281#\", \"eur :: \\u0153\\u0281#\", \"eur :: \\u0153\\u0281#\", \"eur :: \\u0153\\u0281#\", \"eur :: \\u0153\\u0281#\", \"eur :: \\u0153\\u0281#\", \"eur :: \\u0153\\u0281#\", \"eur# :: t\\u0153\\u0281#\", \"eur# :: \\u0153\\u0281#\", \"eur# :: \\u0153\\u0281#\", \"eur# :: \\u0153\\u0281#\", \"eur# :: \\u0153\\u0281#\", \"eur# :: \\u0153\\u0281#\", \"eur# :: \\u0153\\u0281#\", \"eur# :: \\u0153\\u0281#\", \"eure :: l\\u0153\\u0281\", \"eure :: l\\u0153\\u0281\", \"eurs :: \\u0153\\u0281#\", \"eurs :: \\u0153\\u0281#\", \"eurs :: \\u0153\\u0281#\", \"eurs :: \\u0153\\u0281#\", \"eurs :: \\u0153\\u0281#\", \"exhi :: gz\\u026a\", \"exhi :: z\\u026ab\", \"exp :: aksp\", \"exp :: aksp\", \"expr :: #ak\", \"expr :: #aks\", \"expr :: \\u0281\\u026am\", \"ez# :: al\\u0259\\u0281\", \"ez# :: asj\", \"ez# :: asj\", \"ez# :: asj\", \"ez# :: asj\", \"ez# :: asj\", \"ez# :: asje\", \"ez# :: asje\", \"ez# :: asje\", \"ez# :: asje\", \"ez# :: asje\", \"ez# :: as\\u0259\", \"ez# :: je#\", \"ez# :: je#\", \"ez# :: je#\", \"ez# :: je#\", \"ez# :: je#\", \"ez# :: je#\", \"ez# :: je#\", \"ez# :: je#\", \"ez# :: je#\", \"ez# :: je#\", \"ez# :: je#\", \"ez# :: je#\", \"ez# :: je#\", \"ez# :: je#\", \"ez# :: je#\", \"ez# :: je#\", \"ez# :: je#\", \"ez# :: je#\", \"ez# :: je#\", \"ez# :: lje\", \"ez# :: lje\", \"ez# :: lje#\", \"ez# :: l\\u0259\\u0281\", \"ez# :: l\\u0259\\u0281\", \"ez# :: l\\u0259\\u0281\", \"ez# :: l\\u0259\\u0281j\", \"ez# :: l\\u0259\\u0281j\", \"ez# :: sje\", \"ez# :: sje\", \"ez# :: sje\", \"ez# :: sje\", \"ez# :: sje\", \"ez# :: sje\", \"ez# :: sje\", \"ez# :: sje\", \"ez# :: sje\", \"ez# :: sje#\", \"ez# :: sje#\", \"ez# :: sje#\", \"ez# :: sje#\", \"ez# :: sje#\", \"ez# :: sje#\", \"ez# :: sje#\", \"ez# :: sje#\", \"ez# :: s\\u0259\\u0281\", \"ez# :: s\\u0259\\u0281e\", \"ez# :: s\\u0259\\u0281e\", \"ez# :: vwa\", \"ez# :: \\u0259\\u0281e\", \"ez# :: \\u0259\\u0281e\", \"ez# :: \\u0259\\u0281e\", \"ez# :: \\u0259\\u0281e\", \"ez# :: \\u0259\\u0281e\", \"ez# :: \\u0259\\u0281e\", \"ez# :: \\u0259\\u0281e\", \"ez# :: \\u0259\\u0281e\", \"ez# :: \\u0259\\u0281e\", \"ez# :: \\u0259\\u0281e\", \"ez# :: \\u0259\\u0281e\", \"ez# :: \\u0259\\u0281e\", \"ez# :: \\u0259\\u0281e#\", \"ez# :: \\u0259\\u0281e#\", \"ez# :: \\u0259\\u0281e#\", \"ez# :: \\u0259\\u0281e#\", \"ez# :: \\u0259\\u0281e#\", \"ez# :: \\u0259\\u0281e#\", \"ez# :: \\u0259\\u0281e#\", \"ez# :: \\u0259\\u0281e#\", \"ez# :: \\u0259\\u0281e#\", \"ez# :: \\u0259\\u0281e#\", \"ez# :: \\u0259\\u0281j\", \"ez# :: \\u0259\\u0281j\", \"ez# :: \\u0259\\u0281j\", \"ez# :: \\u0259\\u0281j\", \"ez# :: \\u0259\\u0281j\", \"ez# :: \\u0259\\u0281j\", \"ez# :: \\u0259\\u0281j\", \"ez# :: \\u0259\\u0281j\", \"ez# :: \\u0259\\u0281je\", \"ez# :: \\u0259\\u0281je\", \"ez# :: \\u0259\\u0281je\", \"ez# :: \\u0259\\u0281je\", \"ez# :: \\u0259\\u0281je\", \"ez# :: \\u0259\\u0281je\", \"ez# :: \\u026aje\", \"ez# :: \\u026aje\", \"ez# :: \\u0281e#\", \"ez# :: \\u0281e#\", \"ez# :: \\u0281e#\", \"ez# :: \\u0281e#\", \"ez# :: \\u0281e#\", \"ez# :: \\u0281e#\", \"ez# :: \\u0281e#\", \"ez# :: \\u0281e#\", \"ez# :: \\u0281e#\", \"ez# :: \\u0281e#\", \"ez# :: \\u0281e#\", \"ez# :: \\u0281e#\", \"ez# :: \\u0281e#\", \"ez# :: \\u0281je\", \"ez# :: \\u0281je\", \"ez# :: \\u0281je\", \"ez# :: \\u0281je\", \"ez# :: \\u0281je\", \"ez# :: \\u0281je\", \"ez# :: \\u0281je\", \"ez# :: \\u0281je\", \"ez# :: \\u0281je\", \"ez# :: \\u0281je#\", \"ez# :: \\u0281je#\", \"ez# :: \\u0281je#\", \"ez# :: \\u0281je#\", \"ez# :: \\u0281je#\", \"ez# :: \\u0281je#\", \"ez# :: \\u0281je#\", \"ez# :: \\u0281je#\", \"fant :: f\\u00e6\\u0303#\", \"ffa :: \\u00e6\\u0303#\", \"ffl :: #af\", \"ffl :: fl\\u0153\", \"ffl :: l\\u0153\\u0281\", \"ffr :: \\u0283\\u026af\", \"fia :: \\u026afja\", \"fiai :: fja\", \"fiai :: fja\", \"fiai :: \\u026afj\", \"fili :: f\\u026al\", \"fine :: \\u026an#\", \"fi\\u00e9 :: je#\", \"fla :: flas\", \"fleu :: l\\u0153\\u0281\", \"fleu :: l\\u0153\\u0281\", \"fleu :: l\\u0153\\u0281\", \"fl\\u00e9 :: efl\", \"forc :: f\\u0251\\u0254\", \"forc :: \\u0251\\u0254\\u032f\\u0281\", \"four :: \\u0281m\\u026aj\", \"four :: \\u0281m\\u026aj\", \"fra :: kas\", \"fra :: kas\", \"frac :: f\\u0281ak\", \"gea :: as#\", \"gea :: as#\", \"gea :: \\u0292as\", \"gea :: \\u0292as\", \"gea :: \\u0292as\", \"gea :: \\u0292as#\", \"gea :: \\u0292as#\", \"gea :: \\u0292as#\", \"geas :: as#\", \"geas :: as#\", \"geas :: as#\", \"geas :: \\u0292as\", \"geas :: \\u0292as\", \"geas :: \\u0292as\", \"geas :: \\u0292as#\", \"geas :: \\u0292as#\", \"geas :: \\u0292as#\", \"geas :: \\u0292as#\", \"geas :: \\u0292as#\", \"ge\\u00e2 :: #de\", \"ge\\u00e2 :: #de\", \"ge\\u00e2 :: #de\", \"ge\\u00e2 :: #de\", \"gia :: la\\u0292\", \"gira :: \\u0292i\\u0281\", \"gner :: \\u0259\\u0281\\u0254#\", \"gner :: \\u0259\\u0281\\u0254#\", \"gnor :: \\u0254\\u032f\\u0281\", \"gnor :: \\u0254\\u032f\\u0281\", \"gorg :: \\u0254\\u032f\\u0281\", \"gorg :: \\u0254\\u032f\\u0281\", \"gra :: g\\u0281a\", \"gra :: g\\u0281a\", \"gra :: g\\u0281a\", \"gra :: g\\u0281a\", \"gra :: g\\u0281a\", \"gra :: g\\u0281a\", \"gra :: g\\u0281a\", \"gra :: g\\u0281an\", \"gra :: g\\u0281an\", \"gran :: g\\u0281a\", \"gran :: g\\u0281a\", \"gran :: g\\u0281an\", \"gue :: ge\\u0281\", \"gurg :: te#\", \"gu\\u00e2t :: gat\", \"gu\\u00e9 :: ge#\", \"gu\\u00e9 :: ge#\", \"hac :: \\u02bca\\u0283\", \"hama :: ma\\u0281\", \"hama :: ma\\u0281\", \"han :: \\u0283\\u0251\\u0303\", \"har :: a\\u0283a\", \"hauf :: \\u0281e\\u0283\", \"her :: \\u0169\\u032f#\", \"her :: \\u0259\\u0281a\", \"her :: \\u0259\\u0281a#\", \"her :: \\u0281a#\", \"her :: \\u0281a#\", \"her :: \\u0283\\u0259\\u0281a\", \"her :: \\u0283\\u0259\\u0281\\u0254\", \"hera :: \\u0259\\u0281a\", \"hera :: \\u0259\\u0281a#\", \"hera :: \\u0259\\u0281a#\", \"hera :: \\u0281a#\", \"hera :: \\u0283\\u0259\\u0281a\", \"het :: ta#\", \"hip :: \\u0251\\u0254\\u032ft\", \"hos :: \\u0283oz\\u026a\", \"iai :: fja\", \"iai :: fja\", \"iai :: fja\", \"iai :: fja#\", \"iai :: fja#\", \"iai :: \\u026afja\", \"ian :: j\\u00e6\\u0303\", \"ian :: j\\u00e6\\u0303\", \"ica :: \\u026akan\", \"ica :: \\u026akan\", \"ica :: \\u026aka\\u0281\", \"ica :: \\u026aka\\u0281\", \"ica :: \\u026aka\\u0281\", \"ican :: \\u026akan\", \"ien :: aja#\", \"ien :: aja#\", \"ien :: aja#\", \"ien :: aja#\", \"ien :: an#\", \"ien :: jan#\", \"ien :: jan#\", \"ien :: n\\u0259\\u0281a\", \"ien :: \\u0281a#\", \"ien :: \\u0281a#\", \"ien :: \\u0281a#\", \"ien :: \\u0281a#\", \"ien :: \\u0281a#\", \"ien :: \\u0281a#\", \"ien :: \\u0281a#\", \"ien :: \\u0281a#\", \"ien :: \\u0281a#\", \"ien :: \\u0281a#\", \"ien :: \\u0281a#\", \"ienn :: jan#\", \"ient :: maj\", \"ient :: maj\", \"ient :: t\\u0259\\u0281\", \"ient :: t\\u0259\\u0281\", \"ient :: \\u0281a#\", \"ient :: \\u0281a#\", \"ient :: \\u0281a#\", \"ient :: \\u0281a#\", \"ient :: \\u0281a#\", \"ient :: \\u0281a#\", \"ient :: \\u0281a#\", \"ient :: \\u0281a#\", \"ient :: \\u0281a#\", \"ient :: \\u0281a#\", \"ient :: \\u0281a#\", \"ier :: je#\", \"ier :: je#\", \"ier :: je#\", \"ier :: je#\", \"ier :: je#\", \"iera :: j\\u0259\\u0281\", \"iera :: j\\u0259\\u0281\", \"iera :: j\\u0259\\u0281\", \"iera :: j\\u0259\\u0281\", \"iez :: asj\", \"iez :: asj\", \"iez :: asj\", \"iez :: asj\", \"iez :: asj\", \"iez :: asje\", \"iez :: asje\", \"iez :: asje\", \"iez :: asje\", \"iez :: asje\", \"iez :: je#\", \"iez :: je#\", \"iez :: je#\", \"iez :: je#\", \"iez :: je#\", \"iez :: je#\", \"iez :: je#\", \"iez :: je#\", \"iez :: je#\", \"iez :: je#\", \"iez :: je#\", \"iez :: je#\", \"iez :: je#\", \"iez :: je#\", \"iez :: je#\", \"iez :: je#\", \"iez :: je#\", \"iez :: je#\", \"iez :: je#\", \"iez :: lje#\", \"iez :: l\\u0259\\u0281\", \"iez :: sje\", \"iez :: sje\", \"iez :: sje\", \"iez :: sje\", \"iez :: sje\", \"iez :: sje\", \"iez :: sje\", \"iez :: sje\", \"iez :: sje#\", \"iez :: sje#\", \"iez :: sje#\", \"iez :: sje#\", \"iez :: sje#\", \"iez :: sje#\", \"iez :: sje#\", \"iez :: sje#\", \"iez :: s\\u0259\\u0281j\", \"iez :: s\\u0259\\u0281j\", \"iez :: s\\u0259\\u0281j\", \"iez :: s\\u0259\\u0281j\", \"iez :: \\u0259\\u0281j\", \"iez :: \\u0259\\u0281j\", \"iez :: \\u0259\\u0281j\", \"iez :: \\u0259\\u0281j\", \"iez :: \\u0259\\u0281j\", \"iez :: \\u0259\\u0281j\", \"iez :: \\u0259\\u0281je\", \"iez :: \\u0259\\u0281je\", \"iez :: \\u0259\\u0281je\", \"iez :: \\u0259\\u0281je\", \"iez :: \\u0259\\u0281je\", \"iez :: \\u0259\\u0281je\", \"iez :: \\u0281je\", \"iez :: \\u0281je\", \"iez :: \\u0281je\", \"iez :: \\u0281je\", \"iez :: \\u0281je\", \"iez :: \\u0281je\", \"iez :: \\u0281je\", \"iez :: \\u0281je\", \"iez :: \\u0281je\", \"iez :: \\u0281je#\", \"iez :: \\u0281je#\", \"iez :: \\u0281je#\", \"iez :: \\u0281je#\", \"iez :: \\u0281je#\", \"iez :: \\u0281je#\", \"iez :: \\u0281je#\", \"iez :: \\u0281je#\", \"iez# :: asj\", \"iez# :: asj\", \"iez# :: asj\", \"iez# :: asj\", \"iez# :: asj\", \"iez# :: asje\", \"iez# :: asje\", \"iez# :: asje\", \"iez# :: asje\", \"iez# :: asje\", \"iez# :: je#\", \"iez# :: je#\", \"iez# :: je#\", \"iez# :: je#\", \"iez# :: je#\", \"iez# :: je#\", \"iez# :: je#\", \"iez# :: je#\", \"iez# :: je#\", \"iez# :: je#\", \"iez# :: je#\", \"iez# :: je#\", \"iez# :: je#\", \"iez# :: je#\", \"iez# :: je#\", \"iez# :: je#\", \"iez# :: je#\", \"iez# :: je#\", \"iez# :: lje#\", \"iez# :: lje#\", \"iez# :: sje\", \"iez# :: sje\", \"iez# :: sje\", \"iez# :: sje\", \"iez# :: sje\", \"iez# :: sje\", \"iez# :: sje\", \"iez# :: sje\", \"iez# :: sje\", \"iez# :: sje#\", \"iez# :: sje#\", \"iez# :: sje#\", \"iez# :: sje#\", \"iez# :: sje#\", \"iez# :: sje#\", \"iez# :: sje#\", \"iez# :: \\u0259\\u0281j\", \"iez# :: \\u0259\\u0281j\", \"iez# :: \\u0259\\u0281j\", \"iez# :: \\u0259\\u0281j\", \"iez# :: \\u0259\\u0281j\", \"iez# :: \\u0259\\u0281je\", \"iez# :: \\u0259\\u0281je\", \"iez# :: \\u0259\\u0281je\", \"iez# :: \\u0259\\u0281je\", \"iez# :: \\u0259\\u0281je\", \"iez# :: \\u0281je\", \"iez# :: \\u0281je\", \"iez# :: \\u0281je\", \"iez# :: \\u0281je\", \"iez# :: \\u0281je\", \"iez# :: \\u0281je\", \"iez# :: \\u0281je\", \"iez# :: \\u0281je\", \"iez# :: \\u0281je#\", \"iez# :: \\u0281je#\", \"iez# :: \\u0281je#\", \"iez# :: \\u0281je#\", \"iez# :: \\u0281je#\", \"iez# :: \\u0281je#\", \"iez# :: \\u0281je#\", \"iez# :: \\u0281je#\", \"if# :: t\\u0361s\", \"if# :: t\\u0361s\", \"iff :: kwa\", \"ifi :: fja#\", \"ifi :: \\u026afj\", \"ifi :: \\u026afj\", \"ifi :: \\u026afj\", \"ifi :: \\u026afj\", \"ifi :: \\u026afja\", \"ifi :: \\u026afja\", \"ifi :: \\u0281\\u026af\", \"ifi :: \\u0281\\u026afj\", \"ifi :: \\u0281\\u026afj\", \"ifia :: fja\", \"ifia :: fja\", \"ifia :: fja\", \"ifia :: fja#\", \"ifia :: \\u026afj\", \"ifia :: \\u026afj\", \"ign :: #\\u0251\\u0303\", \"ign :: pwa\", \"ign :: wa\\u0272\", \"ign :: wa\\u0272\", \"ign :: wa\\u0272\", \"ign :: \\u0292wa\", \"igra :: g\\u0281a\", \"ila :: \\u0303p\\u026al\", \"ila :: \\u0303p\\u026al\", \"ill :: aja\", \"ill :: aja\", \"ill :: aja\", \"ill :: aja\", \"ill :: aja\", \"ill :: aja\", \"ill :: aj\\u00f5\", \"ill :: aj\\u00f5\", \"ill :: aj\\u00f5\", \"ill :: j\\u0259\\u0281\", \"ill :: j\\u0259\\u0281\", \"ill :: j\\u0259\\u0281\", \"ill :: t\\u0281a\", \"ill :: t\\u0281a\", \"ill :: t\\u0281a\", \"ill :: z\\u026aj\", \"ill :: z\\u026aj\", \"ill :: z\\u026aj\", \"ille :: j\\u0259\\u0281\", \"ille :: j\\u0259\\u0281\", \"ille :: j\\u0259\\u0281\", \"ille :: j\\u0259\\u0281\", \"ille :: \\u0281a#\", \"ille :: \\u0281a#\", \"ima :: #\\u0281\\u026am\", \"imac :: \\u026ama\", \"imac :: \\u0281\\u026am\", \"imac :: \\u0281\\u026am\", \"ina :: \\u026ana#\", \"ina :: \\u026ana#\", \"ina :: \\u026ana#\", \"inai :: \\u026anag\", \"inh :: nal\", \"ins\\u00e9 :: \\u0129\\u032fs\", \"ins\\u00e9 :: \\u1ebd\\u0129\\u032fs\", \"ion :: asj\", \"ion :: asj\", \"ion :: j\\u00f5\\u0169\", \"ion :: j\\u00f5\\u0169\", \"ion :: j\\u00f5\\u0169\", \"ion :: j\\u00f5\\u0169\", \"ion :: j\\u00f5\\u0169\\u032f\", \"ion :: j\\u00f5\\u0169\\u032f\", \"ion :: j\\u00f5\\u0169\\u032f\", \"ion :: j\\u00f5\\u0169\\u032f\", \"ion :: j\\u00f5\\u0169\\u032f\", \"ion :: j\\u00f5\\u0169\\u032f\", \"ion :: sj\\u00f5\", \"ion :: sj\\u00f5\", \"ion :: sj\\u00f5\", \"ion :: sj\\u00f5\\u0169\", \"ion :: sj\\u00f5\\u0169\", \"ion :: \\u00f5\\u0169\\u032f\", \"ion :: \\u00f5\\u0169\\u032f\", \"ion :: \\u00f5\\u0169\\u032f\", \"ion :: \\u00f5\\u0169\\u032f\", \"ion :: \\u00f5\\u0169\\u032f\", \"ion :: \\u00f5\\u0169\\u032f#\", \"ion :: \\u00f5\\u0169\\u032f#\", \"ion :: \\u00f5\\u0169\\u032f#\", \"ion :: \\u00f5\\u0169\\u032f#\", \"ion :: \\u0169\\u032f#\", \"ion :: \\u0169\\u032f#\", \"ion :: \\u0169\\u032f#\", \"ion :: \\u0169\\u032f#\", \"ion :: \\u0169\\u032f#\", \"ion :: \\u0169\\u032f#\", \"ion :: \\u0281j\\u00f5\", \"ion :: \\u0281j\\u00f5\", \"ion :: \\u0281j\\u00f5\\u0169\", \"ion :: \\u0281j\\u00f5\\u0169\", \"ions :: j\\u00f5\\u0169\", \"ions :: j\\u00f5\\u0169\", \"ions :: j\\u00f5\\u0169\", \"ions :: j\\u00f5\\u0169\", \"ions :: j\\u00f5\\u0169\", \"ions :: j\\u00f5\\u0169\\u032f\", \"ions :: j\\u00f5\\u0169\\u032f\", \"ions :: j\\u00f5\\u0169\\u032f\", \"ions :: j\\u00f5\\u0169\\u032f\", \"ions :: j\\u00f5\\u0169\\u032f\", \"ions :: sj\\u00f5\", \"ions :: sj\\u00f5\", \"ions :: sj\\u00f5\", \"ions :: sj\\u00f5\\u0169\", \"ions :: sj\\u00f5\\u0169\", \"ions :: \\u00f5\\u0169\\u032f\", \"ions :: \\u00f5\\u0169\\u032f\", \"ions :: \\u00f5\\u0169\\u032f\", \"ions :: \\u00f5\\u0169\\u032f\", \"ions :: \\u00f5\\u0169\\u032f\", \"ions :: \\u00f5\\u0169\\u032f#\", \"ions :: \\u00f5\\u0169\\u032f#\", \"ions :: \\u00f5\\u0169\\u032f#\", \"ions :: \\u00f5\\u0169\\u032f#\", \"ions :: \\u0169\\u032f#\", \"ions :: \\u0169\\u032f#\", \"ions :: \\u0169\\u032f#\", \"ions :: \\u0169\\u032f#\", \"ions :: \\u0281j\\u00f5\", \"ions :: \\u0281j\\u00f5\", \"ions :: \\u0281j\\u00f5\", \"ions :: \\u0281j\\u00f5\\u0169\", \"ions :: \\u0281j\\u00f5\\u0169\", \"ipo :: t\\u0281\\u026ap\", \"ipo :: t\\u0281\\u026ap\", \"iqu :: #as\", \"iqu :: an\\u026ak\", \"iqu :: n\\u026ak\", \"iqu :: n\\u026ak\", \"iqu :: s\\u026ak\", \"iqu :: s\\u026ak\", \"iqu :: t\\u0361s\", \"iqu :: t\\u0361s\", \"iqu :: t\\u0361s\\u026a\", \"iqu :: t\\u0361s\\u026a\", \"iqu :: t\\u0361s\\u026a\", \"iqu :: \\u0361s\\u026a\", \"iqu :: \\u0361s\\u026a\", \"iqu :: \\u0361s\\u026a\", \"iqu :: \\u0361s\\u026ak\", \"iqu :: \\u0361s\\u026ak\", \"ique :: k\\u0259t\", \"ique :: k\\u0259t\", \"ique :: k\\u0259t\", \"ique :: n\\u026ak\", \"ira :: t\\u0361s\\u026a\", \"ira :: t\\u0361s\\u026a\", \"ira :: \\u026a\\u0281a\", \"ira :: \\u026a\\u0281a\", \"ira :: \\u026a\\u0281a\", \"ira :: \\u026a\\u0281a\", \"ira :: \\u026a\\u0281a\", \"ira :: \\u026a\\u0281a#\", \"ira :: \\u026a\\u0281a#\", \"ira :: \\u026a\\u0281a#\", \"ira :: \\u026a\\u0281\\u0254#\", \"ira :: \\u026a\\u0281\\u0254#\", \"ira :: \\u026a\\u0281\\u0254#\", \"ira :: \\u0281a#\", \"ira :: \\u0281a#\", \"ira :: \\u0281a#\", \"ira :: \\u0281a#\", \"ira :: \\u0281a#\", \"ira :: \\u0281a#\", \"ira :: \\u0281\\u0254#\", \"ira :: \\u0281\\u0254#\", \"ira :: \\u0281\\u0254#\", \"is# :: t\\u0259\\u0281\", \"is# :: z\\u0259\\u0281\", \"is# :: z\\u0259\\u0281a\", \"is# :: z\\u0259\\u0281a\", \"is# :: \\u0254\\u032fn\", \"is# :: \\u0259\\u0281a\", \"is# :: \\u0259\\u0281a\", \"is# :: \\u0259\\u0281a\", \"is# :: \\u0259\\u0281a\", \"is# :: \\u0259\\u0281a\", \"is# :: \\u0259\\u0281a\", \"is# :: \\u0259\\u0281a\", \"is# :: \\u0259\\u0281a\", \"is# :: \\u0259\\u0281a\", \"is# :: \\u0259\\u0281a\", \"is# :: \\u0259\\u0281a\", \"is# :: \\u0259\\u0281a\", \"is# :: \\u0259\\u0281a#\", \"is# :: \\u0259\\u0281a#\", \"is# :: \\u0259\\u0281a#\", \"is# :: \\u0259\\u0281a#\", \"is# :: \\u0259\\u0281a#\", \"is# :: \\u0259\\u0281a#\", \"is# :: \\u0259\\u0281a#\", \"is# :: \\u0259\\u0281a#\", \"is# :: \\u0259\\u0281a#\", \"is# :: \\u0259\\u0281a#\", \"is# :: \\u0259\\u0281a#\", \"is# :: \\u0259\\u0281a#\", \"is# :: \\u0281a#\", \"is# :: \\u0281a#\", \"is# :: \\u0281a#\", \"is# :: \\u0281a#\", \"is# :: \\u0281a#\", \"is# :: \\u0281a#\", \"is# :: \\u0281a#\", \"is# :: \\u0281a#\", \"is# :: \\u0281a#\", \"is# :: \\u0281a#\", \"is# :: \\u0281a#\", \"is# :: \\u0281a#\", \"is# :: \\u0281a#\", \"is# :: \\u0281a#\", \"iser :: z\\u0259\\u0281a\", \"iss :: #d\\u0361z\", \"iss :: \\u00e6\\u0303#\", \"iss :: \\u00e6\\u0303#\", \"iss :: \\u00e6\\u0303#\", \"iss :: \\u026as\\u026a\", \"iss :: \\u026as\\u026a\", \"isse :: t\\u0361s\", \"issi :: \\u026as\\u026a\", \"is\\u00e9 :: l\\u026az\", \"is\\u00e9 :: l\\u026az\", \"is\\u00e9 :: l\\u026az\", \"is\\u00e9 :: l\\u026aze\", \"is\\u00e9e :: \\u0361s\\u026a\", \"is\\u00e9s :: \\u026aze#\", \"it# :: \\u0259\\u0281a\", \"it# :: \\u0259\\u0281a\", \"it# :: \\u0259\\u0281a\", \"it# :: \\u0259\\u0281a\", \"it# :: \\u0259\\u0281a\", \"it# :: \\u0259\\u0281a\", \"it# :: \\u0259\\u0281a\", \"it# :: \\u0259\\u0281a\", \"it# :: \\u0259\\u0281a\", \"it# :: \\u0259\\u0281a\", \"it# :: \\u0259\\u0281a#\", \"it# :: \\u0259\\u0281a#\", \"it# :: \\u0259\\u0281a#\", \"it# :: \\u0259\\u0281a#\", \"it# :: \\u0259\\u0281a#\", \"it# :: \\u0259\\u0281a#\", \"it# :: \\u0259\\u0281a#\", \"it# :: \\u0259\\u0281a#\", \"it# :: \\u0259\\u0281a#\", \"it# :: \\u0281a#\", \"it# :: \\u0281a#\", \"it# :: \\u0281a#\", \"it# :: \\u0281a#\", \"it# :: \\u0281a#\", \"it# :: \\u0281a#\", \"it# :: \\u0281a#\", \"it# :: \\u0281a#\", \"it# :: \\u0281a#\", \"it# :: \\u0281a#\", \"it# :: \\u0281a#\", \"ite :: f\\u0281\\u026at\", \"ite :: \\u0265it\", \"it\\u00e9 :: te#\", \"it\\u00e9 :: te#\", \"it\\u00e9 :: te#\", \"it\\u00e9 :: te#\", \"jure :: \\u0281\\u0259\\u0281\", \"lagi :: la\\u0292\", \"lai :: la#\", \"lai :: la#\", \"lai :: la#\", \"lai :: la#\", \"lai :: la#\", \"lai :: la#\", \"lai :: la#\", \"laie :: maja\", \"las :: as#\", \"las :: as#\", \"las :: as#\", \"las :: as#\", \"las :: as#\", \"las :: as#\", \"las :: as#\", \"las :: k\\u028apl\", \"las :: k\\u028apl\", \"las :: las\", \"las :: las\", \"las :: las\", \"las :: las\", \"las :: las\", \"las :: las#\", \"las :: las#\", \"las :: las#\", \"lass :: #las\", \"lass :: as#\", \"lass :: as#\", \"lass :: as#\", \"lass :: as#\", \"lass :: as#\", \"lass :: as#\", \"lass :: las\", \"lass :: las\", \"lass :: las\", \"lass :: las\", \"lass :: las\", \"lass :: las\", \"lass :: las#\", \"lass :: las#\", \"lass :: las#\", \"lass :: \\u028apl\", \"lass :: \\u028apl\", \"lass :: \\u028apl\", \"lav :: \\u0251\\u0303kl\", \"ler :: j\\u0259\\u0281\", \"ler :: j\\u0259\\u0281\", \"ler :: j\\u0259\\u0281\", \"ler :: j\\u0259\\u0281\", \"ler :: j\\u0259\\u0281\", \"ler :: j\\u0259\\u0281a\", \"ler :: j\\u0259\\u0281a\", \"ler :: l\\u0259\\u0281\", \"ler :: l\\u0259\\u0281\", \"ler :: l\\u0259\\u0281\", \"ler :: l\\u0259\\u0281\", \"ler :: l\\u0259\\u0281\", \"ler :: l\\u0259\\u0281\", \"ler :: l\\u0259\\u0281\", \"ler :: l\\u0259\\u0281\", \"ler :: l\\u0259\\u0281\", \"ler :: l\\u0259\\u0281\", \"ler :: l\\u0259\\u0281\", \"ler :: l\\u0259\\u0281\", \"ler :: l\\u0259\\u0281\", \"lera :: #va\", \"lera :: j\\u0259\\u0281\", \"lera :: j\\u0259\\u0281\", \"lera :: j\\u0259\\u0281a\", \"lera :: j\\u0259\\u0281a\", \"lera :: j\\u0259\\u0281a\", \"lere :: l\\u0259\\u0281e\", \"lere :: l\\u0259\\u0281e\", \"lere :: l\\u0259\\u0281e\", \"lere :: l\\u0259\\u0281e\", \"lere :: \\u0281e#\", \"lere :: \\u0281e#\", \"lere :: \\u0281e#\", \"leu :: fl\\u0153\\u0281\", \"leu :: fl\\u0153\\u0281\", \"leu :: fl\\u0153\\u0281\", \"lez# :: ble#\", \"lez# :: ble#\", \"lez# :: ble#\", \"lie :: je#\", \"lie :: je#\", \"lie :: je#\", \"lie :: je#\", \"lie :: lje\", \"lie :: lje\", \"lie :: lje#\", \"lie :: lje#\", \"lie :: lje#\", \"liez :: je#\", \"liez :: lje\", \"liez :: lje\", \"liez :: lje#\", \"lin :: \\u0283l\\u1ebd\", \"ling :: l\\u1ebd\\u0129\\u032f\", \"ling :: l\\u1ebd\\u0129\\u032f\", \"lir# :: l\\u026a\\u0281\", \"lis :: #v\\u026a\", \"lis\\u00e9 :: \\u026aze\", \"lla :: aja\", \"lla :: aja\", \"lla :: aja\", \"lla :: aja\", \"lla :: aja\", \"lla :: aja#\", \"lla :: aja#\", \"lla :: as#\", \"lla :: ja#\", \"lla :: ja#\", \"lla :: ja#\", \"lla :: ja#\", \"lla :: ja#\", \"lla :: ja#\", \"lla :: maj\", \"lla :: maj\", \"lla :: maj\", \"lla :: sje#\", \"llai :: maj\", \"lle :: j\\u0259\\u0281\", \"lle :: j\\u0259\\u0281\", \"lle :: j\\u0259\\u0281\", \"ller :: j\\u0259\\u0281\", \"ller :: j\\u0259\\u0281\", \"ller :: j\\u0259\\u0281\", \"llis :: el\\u026az\", \"llo :: l\\u0251\\u0254\\u032f\", \"log :: l\\u0251\\u0254\\u032f\", \"lon :: #pl\\u00f5\", \"lon :: al\\u0251\\u0254\", \"lon :: l\\u0251\\u0254\", \"lon :: l\\u0251\\u0254\", \"lon :: l\\u0251\\u0254\", \"lon :: \\u0251\\u0254\\u032f\", \"lon :: \\u0251\\u0254\\u032f\", \"lon :: \\u0254\\u032fn\", \"long :: \\u0169\\u032f\\u0292\", \"long :: \\u0169\\u032f\\u0292e\", \"long :: \\u032f\\u0292e\", \"lonn :: l\\u0251\\u0254\", \"lonn :: l\\u0251\\u0254\", \"lonn :: \\u0251\\u0254\\u032f\", \"lonn :: \\u0251\\u0254\\u032fn\", \"lonn :: \\u0251\\u0254\\u032fn\", \"lonn :: \\u0254\\u032fn\", \"lonn :: \\u0254\\u032fn\", \"los\\u00e9 :: loze\", \"lote :: \\u0251\\u0254\\u032ft\", \"lote :: \\u0251\\u0254\\u032ft\", \"lote :: \\u0251\\u0254\\u032ft\", \"l\\u00e2m :: am#\", \"l\\u00e2m :: am#\", \"l\\u00e2m :: am#\", \"l\\u00e2me :: am#\", \"l\\u00e2me :: am#\", \"l\\u00e2me :: am#\", \"l\\u00e2me :: lam\", \"l\\u00e2me :: lam#\", \"l\\u00e9ch :: \\u0281efl\", \"l\\u00e9ch :: \\u0281efl\", \"mail :: aja#\", \"mail :: ja#\", \"man :: m\\u0251\\u0303d\", \"marg :: ema\", \"marg :: ema\", \"mas :: #ma\", \"mas :: #ma\", \"mbar :: \\u0251\\u0303ba\", \"mbl :: s\\u0251\\u0303\", \"mbl :: \\u0251\\u0303b\", \"men :: \\u00e6\\u0303#\", \"men :: \\u00e6\\u0303#\", \"men :: \\u00e6\\u0303#\", \"men :: \\u00e6\\u0303#\", \"men :: \\u00e6\\u0303#\", \"ment :: m\\u00e6\\u0303\", \"ment :: m\\u00e6\\u0303\", \"ment :: m\\u00e6\\u0303\", \"ment :: m\\u00e6\\u0303\", \"ment :: m\\u00e6\\u0303\", \"ment :: m\\u00e6\\u0303\", \"ment :: m\\u00e6\\u0303#\", \"ment :: m\\u00e6\\u0303#\", \"ment :: m\\u00e6\\u0303#\", \"ment :: m\\u00e6\\u0303#\", \"ment :: \\u00e6\\u0303#\", \"ment :: \\u00e6\\u0303#\", \"ment :: \\u00e6\\u0303#\", \"ment :: \\u00e6\\u0303#\", \"ment :: \\u00e6\\u0303#\", \"ment :: \\u00e6\\u0303#\", \"mer :: a\\u0281s\", \"mer :: m\\u0259\\u0281a\", \"mer :: m\\u0259\\u0281a\", \"mer :: m\\u0259\\u0281a\", \"mer :: \\u0259\\u0281a\", \"mer :: \\u0259\\u0281a\", \"mer :: \\u0259\\u0281a#\", \"mer :: \\u0259\\u0281a#\", \"mer :: \\u0259\\u0281a#\", \"mer :: \\u0281a#\", \"mer :: \\u0281a#\", \"mer :: \\u0281a#\", \"mer :: \\u0281a#\", \"mer :: \\u0281a#\", \"mera :: m\\u0259\\u0281\", \"mera :: m\\u0259\\u0281\", \"mera :: m\\u0259\\u0281\", \"mera :: m\\u0259\\u0281\", \"mera :: m\\u0259\\u0281a\", \"mera :: m\\u0259\\u0281a\", \"mera :: m\\u0259\\u0281a\", \"mera :: m\\u0259\\u0281a\", \"mera :: \\u0259\\u0281a#\", \"mera :: \\u0259\\u0281a#\", \"mera :: \\u0259\\u0281a#\", \"mera :: \\u0281a#\", \"mera :: \\u0281a#\", \"merc :: ma\\u0281s\", \"mes :: lam#\", \"mes# :: #\\u0251\\u0303f\", \"mod :: \\u0254\\u032fd\", \"mpa :: k\\u00f5\\u0169\", \"mpa :: k\\u00f5\\u0169\", \"mpan :: #\\u0251\\u0303p\", \"mpan :: ana\", \"mpie :: #\\u0251\\u0303p\", \"mpo :: \\u0251\\u0254\\u032f\", \"mpo :: \\u0303p\\u0251\", \"mpoi :: \\u0303pwa\", \"mur :: m\\u028f\\u0281\", \"nai :: s\\u0251\\u0254\\u032f\", \"nai :: \\u026ana\", \"nai :: \\u026ana\", \"naie :: \\u026ana\", \"naie :: \\u026ana\", \"napp :: ap\\u0259\\u0281\", \"napp :: ap\\u0259\\u0281\", \"nas :: as#\", \"nas :: as#\", \"nas :: as#\", \"nas :: as#\", \"nas :: nas\", \"nas :: nas\", \"nas :: nas\", \"nas :: nas\", \"nas :: nas#\", \"nas :: nas#\", \"nas :: nas#\", \"nas :: \\u0251\\u0254\\u032f\", \"nas :: \\u0251\\u0254\\u032f\", \"nas :: \\u0251\\u0254\\u032f\", \"nas :: \\u0251\\u0254\\u032fn\", \"nas :: \\u0251\\u0254\\u032fn\", \"nas :: \\u0254\\u032fn\", \"nasi :: #naz\", \"nass :: as#\", \"nass :: as#\", \"nass :: as#\", \"nass :: as#\", \"nass :: nas\", \"nass :: nas\", \"nass :: nas\", \"nass :: nas#\", \"nass :: nas#\", \"nass :: nas#\", \"nass :: sje\", \"nass :: sje#\", \"nass :: sje#\", \"nce :: \\u00e3\\u0169\\u032f\", \"nce :: \\u00e3\\u0169\\u032fs\", \"nces :: \\u00e3\\u0169\\u032fs\", \"nces :: \\u0169\\u032fs\", \"ndr :: \\u0281\\u0254#\", \"ndr :: \\u0303d\\u0281\", \"ndr :: \\u0303d\\u0281\", \"ndr :: \\u0303d\\u0281\", \"ndr :: \\u0303d\\u0281\", \"ndra :: \\u0303d\\u0281\", \"ndra :: \\u0303d\\u0281\", \"ndra :: \\u0303d\\u0281\", \"nd\\u00e9 :: \\u00f5\\u0169\\u032f\", \"neig :: #na\\u0292\", \"neig :: #na\\u0292\", \"ner :: an\\u0259\", \"ner :: an\\u0259\", \"ner :: an\\u0259\\u0281\", \"ner :: an\\u0259\\u0281\", \"ner :: an\\u0259\\u0281\", \"ner :: n\\u0259\\u0281\", \"ner :: n\\u0259\\u0281\", \"ner :: n\\u0259\\u0281\", \"ner :: n\\u0259\\u0281\", \"ner :: n\\u0259\\u0281\", \"ner :: n\\u0259\\u0281a\", \"ner :: n\\u0259\\u0281a\", \"ner :: n\\u0259\\u0281a\", \"ner :: n\\u0259\\u0281a\", \"ner :: n\\u0259\\u0281\\u0254\", \"ner :: n\\u0259\\u0281\\u0254\", \"ner :: \\u0259\\u0281a\", \"ner :: \\u0259\\u0281a\", \"ner :: \\u0259\\u0281a\", \"ner :: \\u0259\\u0281a\", \"ner :: \\u0259\\u0281a\", \"ner :: \\u0259\\u0281a#\", \"ner :: \\u0259\\u0281a#\", \"ner :: \\u0259\\u0281a#\", \"ner :: \\u0259\\u0281a#\", \"ner :: \\u0259\\u0281a#\", \"ner :: \\u0281a#\", \"ner :: \\u0281a#\", \"ner :: \\u0281a#\", \"ner :: \\u0281a#\", \"nera :: an\\u0259\\u0281\", \"nera :: an\\u0259\\u0281\", \"nera :: an\\u0259\\u0281\", \"nera :: n\\u0259\\u0281\", \"nera :: n\\u0259\\u0281\", \"nera :: n\\u0259\\u0281\", \"nera :: n\\u0259\\u0281\", \"nera :: n\\u0259\\u0281\", \"nera :: n\\u0259\\u0281a\", \"nera :: n\\u0259\\u0281a\", \"nera :: n\\u0259\\u0281a\", \"nera :: n\\u0259\\u0281a\", \"nera :: \\u0259\\u0281a\", \"nera :: \\u0259\\u0281a\", \"nera :: \\u0259\\u0281a\", \"nera :: \\u0259\\u0281a\", \"nera :: \\u0259\\u0281a\", \"nera :: \\u0259\\u0281a#\", \"nera :: \\u0259\\u0281a#\", \"nera :: \\u0259\\u0281a#\", \"nera :: \\u0259\\u0281a#\", \"nera :: \\u0259\\u0281a#\", \"nera :: \\u0272\\u0259\\u0281\", \"nera :: \\u0272\\u0259\\u0281\", \"nera :: \\u0272\\u0259\\u0281\", \"nera :: \\u0281a#\", \"nera :: \\u0281a#\", \"nera :: \\u0281a#\", \"nera :: \\u0281a#\", \"nes :: an#\", \"nes :: an#\", \"nes :: jan#\", \"nes :: \\u0251\\u0254\\u032fn\", \"nes :: \\u0251\\u0254\\u032fn\", \"nes# :: \\u0251\\u0254\\u032fn\", \"nes# :: \\u0254\\u032fn#\", \"nfi :: #k\\u00f5\\u0169\", \"nfi :: k\\u00f5\\u0169\\u032f\", \"nge :: \\u0251\\u0303\\u0292\", \"nge :: \\u0251\\u0303\\u0292\", \"nger :: \\u0303\\u0292\\u0259\\u0281\", \"ngr :: #\\u0251\\u0303\", \"ng\\u00e9 :: \\u0169\\u032f\\u0292e\", \"niq :: n\\u026ak\", \"niq :: n\\u026ak\", \"niq :: n\\u026ak\", \"niqu :: n\\u026ak\", \"nla :: \\u0251\\u0303la\", \"nna :: \\u0251\\u0254\\u032f\", \"nna :: \\u0251\\u0254\\u032f\", \"nna :: \\u0251\\u0254\\u032f\", \"nna :: \\u0251\\u0254\\u032fn\", \"nna :: \\u0251\\u0254\\u032fn\", \"nna :: \\u0251\\u0254\\u032fn\", \"nna :: \\u0251\\u0254\\u032fn\", \"nna :: \\u0254\\u032fn\", \"nna :: \\u0254\\u032fn\", \"nna :: \\u0254\\u032fn\", \"nna :: \\u0254\\u032fn\", \"nna :: \\u0254\\u032fna\", \"nna :: \\u0254\\u032fna\", \"nna :: \\u0254\\u032fna\", \"nna :: \\u0254\\u032fna\", \"nna :: \\u032fna\", \"nna :: \\u032fna\", \"nna :: \\u032fna\", \"nnas :: \\u0251\\u0254\\u032f\", \"nnas :: \\u0251\\u0254\\u032f\", \"nnas :: \\u0251\\u0254\\u032fn\", \"nnas :: \\u0251\\u0254\\u032fn\", \"nnas :: \\u0254\\u032fn\", \"nnas :: \\u0254\\u032fn\", \"nnas :: \\u032fna\", \"nnas :: \\u032fna\", \"nne :: an#\", \"nne :: jan#\", \"nnes :: jan#\", \"nnes :: \\u032fn#\", \"nnez :: \\u032fne#\", \"nn\\u00e9 :: ne#\", \"nn\\u00e9 :: ne#\", \"nn\\u00e9 :: ne#\", \"nn\\u00e9 :: ne#\", \"nn\\u00e9 :: \\u0251\\u0254\\u032f\", \"nn\\u00e9 :: \\u0251\\u0254\\u032f\", \"nn\\u00e9 :: \\u0251\\u0254\\u032f\", \"nn\\u00e9 :: \\u0251\\u0254\\u032f\", \"nn\\u00e9 :: \\u0251\\u0254\\u032fn\", \"nn\\u00e9 :: \\u0251\\u0254\\u032fn\", \"nn\\u00e9 :: \\u0251\\u0254\\u032fn\", \"nn\\u00e9 :: \\u0251\\u0254\\u032fn\", \"nn\\u00e9 :: \\u0251\\u0254\\u032fn\", \"nn\\u00e9 :: \\u0251\\u0254\\u032fn\", \"nn\\u00e9 :: \\u0254\\u032fn\", \"nn\\u00e9 :: \\u0254\\u032fn\", \"nn\\u00e9 :: \\u0254\\u032fn\", \"nn\\u00e9 :: \\u0254\\u032fn\", \"nn\\u00e9 :: \\u0254\\u032fn\", \"nn\\u00e9 :: \\u0254\\u032fn\", \"nn\\u00e9 :: \\u0254\\u032fne\", \"nn\\u00e9 :: \\u0254\\u032fne\", \"nn\\u00e9 :: \\u0254\\u032fne\", \"nn\\u00e9 :: \\u0254\\u032fne\", \"nn\\u00e9 :: \\u032fne\", \"nn\\u00e9 :: \\u032fne\", \"nn\\u00e9 :: \\u032fne\", \"nn\\u00e9 :: \\u032fne\", \"nn\\u00e9 :: \\u032fne#\", \"nn\\u00e9 :: \\u032fne#\", \"nn\\u00e9 :: \\u032fne#\", \"nn\\u00e9 :: \\u032fne#\", \"nn\\u00e9 :: \\u032fne#\", \"nor :: \\u0272\\u0251\\u0254\", \"nqu :: ka#\", \"nqu :: ka#\", \"ns# :: asj\\u00f5\", \"ns# :: asj\\u00f5\", \"ns# :: j\\u00f5\\u0169\", \"ns# :: j\\u00f5\\u0169\", \"ns# :: j\\u00f5\\u0169\", \"ns# :: j\\u00f5\\u0169\", \"ns# :: j\\u00f5\\u0169\", \"ns# :: j\\u00f5\\u0169\", \"ns# :: j\\u00f5\\u0169\", \"ns# :: j\\u00f5\\u0169\\u032f\", \"ns# :: j\\u00f5\\u0169\\u032f\", \"ns# :: j\\u00f5\\u0169\\u032f\", \"ns# :: j\\u00f5\\u0169\\u032f\", \"ns# :: j\\u00f5\\u0169\\u032f\", \"ns# :: pa\\u0272\", \"ns# :: sj\\u00f5\", \"ns# :: sj\\u00f5\", \"ns# :: sj\\u00f5\", \"ns# :: sj\\u00f5\\u0169\", \"ns# :: sj\\u00f5\\u0169\", \"ns# :: sj\\u00f5\\u0169\", \"ns# :: \\u00f5\\u0169\\u032f\", \"ns# :: \\u00f5\\u0169\\u032f\", \"ns# :: \\u00f5\\u0169\\u032f\", \"ns# :: \\u00f5\\u0169\\u032f\", \"ns# :: \\u00f5\\u0169\\u032f\", \"ns# :: \\u00f5\\u0169\\u032f\", \"ns# :: \\u00f5\\u0169\\u032f\", \"ns# :: \\u00f5\\u0169\\u032f\", \"ns# :: \\u00f5\\u0169\\u032f\", \"ns# :: \\u00f5\\u0169\\u032f\", \"ns# :: \\u00f5\\u0169\\u032f\", \"ns# :: \\u00f5\\u0169\\u032f\", \"ns# :: \\u00f5\\u0169\\u032f\", \"ns# :: \\u00f5\\u0169\\u032f\", \"ns# :: \\u00f5\\u0169\\u032f\", \"ns# :: \\u00f5\\u0169\\u032f#\", \"ns# :: \\u00f5\\u0169\\u032f#\", \"ns# :: \\u00f5\\u0169\\u032f#\", \"ns# :: \\u00f5\\u0169\\u032f#\", \"ns# :: \\u00f5\\u0169\\u032f#\", \"ns# :: \\u00f5\\u0169\\u032f#\", \"ns# :: \\u00f5\\u0169\\u032f#\", \"ns# :: \\u00f5\\u0169\\u032f#\", \"ns# :: \\u00f5\\u0169\\u032f#\", \"ns# :: \\u00f5\\u0169\\u032f#\", \"ns# :: \\u00f5\\u0169\\u032f#\", \"ns# :: \\u00f5\\u0169\\u032f#\", \"ns# :: \\u00f5\\u0169\\u032f#\", \"ns# :: \\u00f5\\u0169\\u032f#\", \"ns# :: \\u00f5\\u0169\\u032f#\", \"ns# :: \\u00f5\\u0169\\u032f#\", \"ns# :: \\u0129\\u032f#\", \"ns# :: \\u0169\\u032f#\", \"ns# :: \\u0169\\u032f#\", \"ns# :: \\u0169\\u032f#\", \"ns# :: \\u0169\\u032f#\", \"ns# :: \\u0169\\u032f#\", \"ns# :: \\u0169\\u032f#\", \"ns# :: \\u0169\\u032f#\", \"ns# :: \\u0169\\u032f#\", \"ns# :: \\u0169\\u032f#\", \"ns# :: \\u0169\\u032f#\", \"ns# :: \\u0169\\u032f#\", \"ns# :: \\u0169\\u032f#\", \"ns# :: \\u0169\\u032f#\", \"ns# :: \\u0169\\u032f#\", \"ns# :: \\u0169\\u032f#\", \"ns# :: \\u0169\\u032f#\", \"ns# :: \\u0169\\u032f#\", \"ns# :: \\u0259\\u0281\\u00f5\", \"ns# :: \\u0259\\u0281\\u00f5\", \"ns# :: \\u0259\\u0281\\u00f5\", \"ns# :: \\u0259\\u0281\\u00f5\", \"ns# :: \\u0259\\u0281\\u00f5\\u0169\", \"ns# :: \\u0259\\u0281\\u00f5\\u0169\", \"ns# :: \\u0259\\u0281\\u00f5\\u0169\", \"ns# :: \\u0259\\u0281\\u00f5\\u0169\", \"ns# :: \\u0259\\u0281\\u00f5\\u0169\", \"ns# :: \\u0281j\\u00f5\", \"ns# :: \\u0281j\\u00f5\", \"ns# :: \\u0281\\u00f5\\u0169\\u032f\", \"ns# :: \\u0281\\u00f5\\u0169\\u032f\", \"ns# :: \\u0281\\u00f5\\u0169\\u032f\", \"ns# :: \\u0281\\u00f5\\u0169\\u032f\", \"ns# :: \\u0281\\u00f5\\u0169\\u032f\", \"ns\\u00e9 :: \\u0129\\u032fse\", \"ns\\u00e9 :: \\u032fse\\u0281\", \"ns\\u00e9 :: \\u1ebd\\u0129\\u032f\", \"ns\\u00e9r :: \\u0129\\u032fs\", \"ns\\u00e9r :: \\u0129\\u032fs\", \"ns\\u00e9r :: \\u1ebd\\u0129\\u032fs\", \"ns\\u00e9r :: \\u1ebd\\u0129\\u032fs\", \"nt# :: #de\", \"nt# :: #de\", \"nt# :: #de\", \"nt# :: #de\", \"nt# :: #de\", \"nt# :: #de\", \"nt# :: #de\", \"nt# :: #de\", \"nt# :: #de\", \"nt# :: #de\", \"nt# :: #pla\", \"nt# :: #pla\", \"nt# :: #pla\", \"nt# :: aja#\", \"nt# :: aja#\", \"nt# :: a\\u0281#\", \"nt# :: a\\u0281#\", \"nt# :: a\\u0281#\", \"nt# :: a\\u0281#\", \"nt# :: a\\u0281#\", \"nt# :: a\\u0281#\", \"nt# :: a\\u0281#\", \"nt# :: a\\u0281#\", \"nt# :: a\\u0281#\", \"nt# :: a\\u0281#\", \"nt# :: a\\u0281#\", \"nt# :: fla\", \"nt# :: fla\", \"nt# :: ta\\u0281#\", \"nt# :: ta\\u0281#\", \"nt# :: ta\\u0281#\", \"nt# :: ta\\u0281#\", \"nt# :: \\u00e6\\u0303#\", \"nt# :: \\u00e6\\u0303#\", \"nt# :: \\u00e6\\u0303#\", \"nt# :: \\u00e6\\u0303#\", \"nt# :: \\u00e6\\u0303#\", \"nt# :: \\u00e6\\u0303#\", \"nt# :: \\u00e6\\u0303#\", \"nt# :: \\u00e6\\u0303#\", \"nt# :: \\u00e6\\u0303#\", \"nt# :: \\u00e6\\u0303#\", \"nt# :: \\u00e6\\u0303#\", \"nt# :: \\u00e6\\u0303#\", \"nt# :: \\u00e6\\u0303#\", \"nt# :: \\u00f5\\u0169\\u032f\", \"nt# :: \\u00f5\\u0169\\u032f\", \"nt# :: \\u00f5\\u0169\\u032f\", \"nt# :: \\u00f5\\u0169\\u032f\", \"nt# :: \\u00f5\\u0169\\u032f\", \"nt# :: \\u00f5\\u0169\\u032f\", \"nt# :: \\u00f5\\u0169\\u032f\", \"nt# :: \\u00f5\\u0169\\u032f#\", \"nt# :: \\u00f5\\u0169\\u032f#\", \"nt# :: \\u00f5\\u0169\\u032f#\", \"nt# :: \\u00f5\\u0169\\u032f#\", \"nt# :: \\u00f5\\u0169\\u032f#\", \"nt# :: \\u00f5\\u0169\\u032f#\", \"nt# :: \\u00f5\\u0169\\u032f#\", \"nt# :: \\u0169\\u032f#\", \"nt# :: \\u0169\\u032f#\", \"nt# :: \\u0169\\u032f#\", \"nt# :: \\u0169\\u032f#\", \"nt# :: \\u0251\\u0254\\u032f\", \"nt# :: \\u0251\\u0254\\u032f\", \"nt# :: \\u0251\\u0254\\u032f\", \"nt# :: \\u0251\\u0254\\u032f\", \"nt# :: \\u0251\\u0254\\u032f\", \"nt# :: \\u0251\\u0254\\u032f\", \"nt# :: \\u0251\\u0254\\u032f\", \"nt# :: \\u0251\\u0254\\u032f\", \"nt# :: \\u0254\\u032fna\", \"nt# :: \\u0254\\u032fna\", \"nt# :: \\u0259\\u0281\\u00f5\", \"nt# :: \\u0259\\u0281\\u00f5\", \"nt# :: \\u0259\\u0281\\u00f5\", \"nt# :: \\u0259\\u0281\\u00f5\\u0169\", \"nt# :: \\u0259\\u0281\\u00f5\\u0169\", \"nt# :: \\u0259\\u0281\\u00f5\\u0169\", \"nt# :: \\u0259\\u0281\\u00f5\\u0169\", \"nt# :: \\u0281a#\", \"nt# :: \\u0281a#\", \"nt# :: \\u0281a#\", \"nt# :: \\u0281a#\", \"nt# :: \\u0281a#\", \"nt# :: \\u0281a#\", \"nt# :: \\u0281a#\", \"nt# :: \\u0281a#\", \"nt# :: \\u0281a#\", \"nt# :: \\u0281a#\", \"nt# :: \\u0281a#\", \"nt# :: \\u0281a#\", \"nt# :: \\u0281a#\", \"nt# :: \\u0281\\u00f5\\u0169\", \"nt# :: \\u0281\\u00f5\\u0169\", \"nt# :: \\u0281\\u00f5\\u0169\", \"nt# :: \\u0281\\u00f5\\u0169\", \"nt# :: \\u0281\\u00f5\\u0169\", \"nt# :: \\u0281\\u00f5\\u0169\\u032f\", \"nt# :: \\u0281\\u00f5\\u0169\\u032f\", \"nt# :: \\u0281\\u00f5\\u0169\\u032f\", \"nt# :: \\u0281\\u00f5\\u0169\\u032f\", \"nt# :: \\u0281\\u00f5\\u0169\\u032f\", \"nt# :: \\u0281\\u00f5\\u0169\\u032f\", \"nta :: \\u0251\\u0303t\", \"nta :: \\u0251\\u0303t\", \"nta :: \\u0251\\u0303t\", \"nta :: \\u0251\\u0303t\", \"nta :: \\u0251\\u0303t\", \"nta :: \\u0251\\u0303t\", \"nta :: \\u0251\\u0303ta\", \"nta :: \\u0251\\u0303ta\", \"nta :: \\u0251\\u0303ta\", \"nta :: \\u0251\\u0303ta\", \"nta :: \\u0303ta\", \"nta :: \\u0303ta\", \"nta :: \\u0303ta\", \"nta :: \\u0303ta\", \"nta :: \\u0303ta\", \"nte :: \\u0169\\u032ft\", \"nte :: \\u0169\\u032ft\", \"nte :: \\u0169\\u032ft\", \"nte :: \\u0169\\u032ft\", \"nte :: \\u0169\\u032ft\", \"nte :: \\u0169\\u032ft\", \"nte :: \\u032ft#\", \"nte :: \\u032ft#\", \"nte :: \\u032ft#\", \"nte :: \\u032ft#\", \"nte# :: \\u032ft#\", \"nte# :: \\u032ft#\", \"nte# :: \\u032ft#\", \"nte# :: \\u032ft#\", \"nte# :: \\u032ft#\", \"nte# :: \\u032ft#\", \"ntr :: #k\\u00f5\\u0169\", \"ntr :: t\\u0281a\", \"ntr :: \\u00f5\\u0169\\u032f\", \"ntr :: \\u00f5\\u0169\\u032f\", \"ntr :: \\u00f5\\u0169\\u032ft\", \"ntr :: \\u0169\\u032ft\", \"ntr :: \\u0169\\u032ft\\u0281\", \"ntr :: \\u0169\\u032ft\\u0281\", \"ntr :: \\u032ft\\u0281\", \"ntr :: \\u032ft\\u0281\", \"ntr :: \\u032ft\\u0281a\", \"ntra :: \\u032ft\\u0281\", \"nt\\u00e9 :: \\u0303te#\", \"nt\\u00e9 :: \\u0303te#\", \"n\\u00e2cl :: \\u0259nak\", \"ober :: a\\u0281\\u0292\", \"ober :: a\\u0281\\u0292\", \"ober :: \\u0251\\u0254\\u032fb\", \"occ :: \\u032fk\\u028fl\", \"occ :: \\u032fk\\u028fl\", \"occu :: \\u0254\\u032fk\\u028f\", \"och :: \\u0251\\u0254\\u032f\", \"och :: \\u0251\\u0254\\u032f\", \"och :: \\u0251\\u0254\\u032f\\u0283\", \"och :: \\u0251\\u0254\\u032f\\u0283\", \"och :: \\u0254\\u032f\\u0283\", \"och :: \\u0254\\u032f\\u0283\", \"och :: \\u0254\\u032f\\u0283\", \"och :: \\u0281\\u0251\\u0254\\u032f\", \"och :: \\u0281\\u0251\\u0254\\u032f\", \"oier :: \\u00f5\\u0169\\u032f\", \"oig :: pwa\", \"oig :: pwa\", \"oig :: pwa\\u0272\", \"oig :: pwa\\u0272\", \"oig :: pwa\\u0272\", \"oign :: pwa\", \"oign :: pwa\", \"oir :: wa\\u0281\", \"oir :: wa\\u0281\", \"oir :: wa\\u0281\", \"oir :: wa\\u0281\", \"old :: s\\u0251\\u0254\\u032f\", \"onf :: #k\\u00f5\\u0169\", \"onf :: #k\\u00f5\\u0169\", \"onf :: k\\u00f5\\u0169\", \"onf :: \\u00f5\\u0169\\u032f\", \"onf :: \\u00f5\\u0169\\u032f\", \"onf :: \\u00f5\\u0169\\u032ff\", \"onf :: \\u032ff\\u026a\", \"onfi :: #k\\u00f5\", \"onfi :: k\\u00f5\\u0169\\u032f\", \"onfi :: k\\u00f5\\u0169\\u032f\", \"onfi :: \\u00f5\\u0169\\u032ff\", \"onfi :: \\u00f5\\u0169\\u032ff\", \"ong :: \\u00f5\\u0169\\u032f\", \"ong :: \\u00f5\\u0169\\u032f\", \"ong :: \\u00f5\\u0169\\u032f\", \"ong :: \\u00f5\\u0169\\u032f\", \"ong :: \\u00f5\\u0169\\u032f\", \"onn :: l\\u0251\\u0254\", \"onn :: l\\u0251\\u0254\", \"onn :: nas\", \"onn :: nas#\", \"onn :: ne#\", \"onn :: ne#\", \"onn :: ne#\", \"onn :: ne#\", \"onn :: \\u0251\\u0254\\u032f\", \"onn :: \\u0251\\u0254\\u032f\", \"onn :: \\u0251\\u0254\\u032f\", \"onn :: \\u0251\\u0254\\u032f\", \"onn :: \\u0251\\u0254\\u032f\", \"onn :: \\u0251\\u0254\\u032f\", \"onn :: \\u0251\\u0254\\u032f\", \"onn :: \\u0251\\u0254\\u032f\", \"onn :: \\u0251\\u0254\\u032f\", \"onn :: \\u0251\\u0254\\u032f\", \"onn :: \\u0251\\u0254\\u032f\", \"onn :: \\u0251\\u0254\\u032f\", \"onn :: \\u0251\\u0254\\u032fn\", \"onn :: \\u0251\\u0254\\u032fn\", \"onn :: \\u0251\\u0254\\u032fn\", \"onn :: \\u0251\\u0254\\u032fn\", \"onn :: \\u0251\\u0254\\u032fn\", \"onn :: \\u0251\\u0254\\u032fn\", \"onn :: \\u0251\\u0254\\u032fn\", \"onn :: \\u0251\\u0254\\u032fn\", \"onn :: \\u0251\\u0254\\u032fn\", \"onn :: \\u0251\\u0254\\u032fn\", \"onn :: \\u0251\\u0254\\u032fn\", \"onn :: \\u0254\\u032fn\", \"onn :: \\u0254\\u032fn\", \"onn :: \\u0254\\u032fn\", \"onn :: \\u0254\\u032fn\", \"onn :: \\u0254\\u032fn\", \"onn :: \\u0254\\u032fn\", \"onn :: \\u0254\\u032fn\", \"onn :: \\u0254\\u032fn\", \"onn :: \\u0254\\u032fn\", \"onn :: \\u0254\\u032fn\", \"onn :: \\u0254\\u032fna\", \"onn :: \\u0254\\u032fna\", \"onn :: \\u0254\\u032fna\", \"onn :: \\u0254\\u032fne\", \"onn :: \\u0254\\u032fne\", \"onn :: \\u0254\\u032fne\", \"onn :: \\u0254\\u032fne\", \"onn :: \\u032fna\", \"onn :: \\u032fna\", \"onn :: \\u032fna\", \"onn :: \\u032fne\", \"onn :: \\u032fne\", \"onn :: \\u032fne\", \"onn :: \\u032fne\", \"onn :: \\u032fne\", \"onn :: \\u032fne#\", \"onn :: \\u032fne#\", \"onn :: \\u032fne#\", \"onn :: \\u032fne#\", \"onn :: \\u032fne#\", \"onna :: \\u0251\\u0254\\u032f\", \"onna :: \\u0251\\u0254\\u032f\", \"onna :: \\u0251\\u0254\\u032f\", \"onna :: \\u0251\\u0254\\u032f\", \"onna :: \\u0251\\u0254\\u032f\", \"onna :: \\u0251\\u0254\\u032fn\", \"onna :: \\u0251\\u0254\\u032fn\", \"onna :: \\u0251\\u0254\\u032fn\", \"onna :: \\u0254\\u032fn\", \"onna :: \\u0254\\u032fn\", \"onna :: \\u0254\\u032fn\", \"onna :: \\u0254\\u032fn\", \"onna :: \\u0254\\u032fn\", \"onna :: \\u0254\\u032fna\", \"onna :: \\u0254\\u032fna\", \"onna :: \\u0254\\u032fna\", \"onna :: \\u032fna\", \"onna :: \\u032fna\", \"onna :: \\u032fna\", \"onne :: \\u0254\\u032fn#\", \"onne :: \\u0254\\u032fn#\", \"onne :: \\u0254\\u032fn#\", \"onn\\u00e9 :: ne#\", \"onn\\u00e9 :: ne#\", \"onn\\u00e9 :: ne#\", \"onn\\u00e9 :: ne#\", \"onn\\u00e9 :: ne#\", \"onn\\u00e9 :: \\u0251\\u0254\\u032f\", \"onn\\u00e9 :: \\u0251\\u0254\\u032f\", \"onn\\u00e9 :: \\u0251\\u0254\\u032f\", \"onn\\u00e9 :: \\u0251\\u0254\\u032fn\", \"onn\\u00e9 :: \\u0251\\u0254\\u032fn\", \"onn\\u00e9 :: \\u0251\\u0254\\u032fn\", \"onn\\u00e9 :: \\u0254\\u032fn\", \"onn\\u00e9 :: \\u0254\\u032fn\", \"onn\\u00e9 :: \\u0254\\u032fn\", \"onn\\u00e9 :: \\u0254\\u032fn\", \"onn\\u00e9 :: \\u0254\\u032fn\", \"onn\\u00e9 :: \\u032fne\", \"onn\\u00e9 :: \\u032fne\", \"onn\\u00e9 :: \\u032fne\", \"onn\\u00e9 :: \\u032fne\", \"onn\\u00e9 :: \\u032fne\", \"onn\\u00e9 :: \\u032fne\", \"onn\\u00e9 :: \\u032fne#\", \"onn\\u00e9 :: \\u032fne#\", \"onn\\u00e9 :: \\u032fne#\", \"onn\\u00e9 :: \\u032fne#\", \"onn\\u00e9 :: \\u032fne#\", \"ons :: #k\\u00f5\", \"ons :: asj\\u00f5\", \"ons :: asj\\u00f5\", \"ons :: j\\u00f5\\u0169\", \"ons :: j\\u00f5\\u0169\", \"ons :: j\\u00f5\\u0169\", \"ons :: j\\u00f5\\u0169\", \"ons :: j\\u00f5\\u0169\", \"ons :: j\\u00f5\\u0169\", \"ons :: j\\u00f5\\u0169\\u032f\", \"ons :: j\\u00f5\\u0169\\u032f\", \"ons :: j\\u00f5\\u0169\\u032f\", \"ons :: j\\u00f5\\u0169\\u032f\", \"ons :: j\\u00f5\\u0169\\u032f\", \"ons :: j\\u00f5\\u0169\\u032f\", \"ons :: sj\\u00f5\", \"ons :: sj\\u00f5\", \"ons :: sj\\u00f5\", \"ons :: sj\\u00f5\\u0169\", \"ons :: sj\\u00f5\\u0169\", \"ons :: sj\\u00f5\\u0169\", \"ons :: \\u00f5\\u0169\\u032f\", \"ons :: \\u00f5\\u0169\\u032f\", \"ons :: \\u00f5\\u0169\\u032f\", \"ons :: \\u00f5\\u0169\\u032f\", \"ons :: \\u00f5\\u0169\\u032f\", \"ons :: \\u00f5\\u0169\\u032f\", \"ons :: \\u00f5\\u0169\\u032f\", \"ons :: \\u00f5\\u0169\\u032f\", \"ons :: \\u00f5\\u0169\\u032f\", \"ons :: \\u00f5\\u0169\\u032f\", \"ons :: \\u00f5\\u0169\\u032f\", \"ons :: \\u00f5\\u0169\\u032f\", \"ons :: \\u00f5\\u0169\\u032f\", \"ons :: \\u00f5\\u0169\\u032f\", \"ons :: \\u00f5\\u0169\\u032f\", \"ons :: \\u00f5\\u0169\\u032f\", \"ons :: \\u00f5\\u0169\\u032f\", \"ons :: \\u00f5\\u0169\\u032f\", \"ons :: \\u00f5\\u0169\\u032f#\", \"ons :: \\u00f5\\u0169\\u032f#\", \"ons :: \\u00f5\\u0169\\u032f#\", \"ons :: \\u00f5\\u0169\\u032f#\", \"ons :: \\u00f5\\u0169\\u032f#\", \"ons :: \\u00f5\\u0169\\u032f#\", \"ons :: \\u00f5\\u0169\\u032f#\", \"ons :: \\u00f5\\u0169\\u032f#\", \"ons :: \\u00f5\\u0169\\u032f#\", \"ons :: \\u00f5\\u0169\\u032f#\", \"ons :: \\u00f5\\u0169\\u032f#\", \"ons :: \\u00f5\\u0169\\u032f#\", \"ons :: \\u00f5\\u0169\\u032f#\", \"ons :: \\u00f5\\u0169\\u032f#\", \"ons :: \\u00f5\\u0169\\u032f#\", \"ons :: \\u0169\\u032f#\", \"ons :: \\u0169\\u032f#\", \"ons :: \\u0169\\u032f#\", \"ons :: \\u0169\\u032f#\", \"ons :: \\u0169\\u032f#\", \"ons :: \\u0169\\u032f#\", \"ons :: \\u0169\\u032f#\", \"ons :: \\u0169\\u032f#\", \"ons :: \\u0169\\u032f#\", \"ons :: \\u0169\\u032f#\", \"ons :: \\u0169\\u032f#\", \"ons :: \\u0169\\u032f#\", \"ons :: \\u0169\\u032f#\", \"ons :: \\u0169\\u032f#\", \"ons :: \\u0169\\u032f#\", \"ons :: \\u0169\\u032f#\", \"ons :: \\u0169\\u032f#\", \"ons :: \\u0169\\u032f#\", \"ons :: \\u0259\\u0281\\u00f5\", \"ons :: \\u0259\\u0281\\u00f5\", \"ons :: \\u0259\\u0281\\u00f5\", \"ons :: \\u0259\\u0281\\u00f5\", \"ons :: \\u0259\\u0281\\u00f5\\u0169\", \"ons :: \\u0259\\u0281\\u00f5\\u0169\", \"ons :: \\u0259\\u0281\\u00f5\\u0169\", \"ons :: \\u0259\\u0281\\u00f5\\u0169\", \"ons :: \\u0259\\u0281\\u00f5\\u0169\", \"ons :: \\u0281j\\u00f5\\u0169\", \"ons :: \\u0281j\\u00f5\\u0169\", \"ons :: \\u0281j\\u00f5\\u0169\", \"ons :: \\u0281\\u00f5\\u0169\", \"ons :: \\u0281\\u00f5\\u0169\", \"ons :: \\u0281\\u00f5\\u0169\", \"ons :: \\u0281\\u00f5\\u0169\", \"ons :: \\u0281\\u00f5\\u0169\", \"ons# :: asj\", \"ons# :: asj\", \"ons# :: at\\u00f5\", \"ons# :: j\\u00f5\\u0169\", \"ons# :: j\\u00f5\\u0169\", \"ons# :: j\\u00f5\\u0169\", \"ons# :: j\\u00f5\\u0169\", \"ons# :: j\\u00f5\\u0169\", \"ons# :: j\\u00f5\\u0169\", \"ons# :: j\\u00f5\\u0169\\u032f\", \"ons# :: j\\u00f5\\u0169\\u032f\", \"ons# :: j\\u00f5\\u0169\\u032f\", \"ons# :: j\\u00f5\\u0169\\u032f\", \"ons# :: j\\u00f5\\u0169\\u032f\", \"ons# :: sj\\u00f5\", \"ons# :: sj\\u00f5\", \"ons# :: sj\\u00f5\", \"ons# :: sj\\u00f5\\u0169\", \"ons# :: sj\\u00f5\\u0169\", \"ons# :: \\u00f5\\u0169\\u032f\", \"ons# :: \\u00f5\\u0169\\u032f\", \"ons# :: \\u00f5\\u0169\\u032f\", \"ons# :: \\u00f5\\u0169\\u032f\", \"ons# :: \\u00f5\\u0169\\u032f\", \"ons# :: \\u00f5\\u0169\\u032f\", \"ons# :: \\u00f5\\u0169\\u032f\", \"ons# :: \\u00f5\\u0169\\u032f\", \"ons# :: \\u00f5\\u0169\\u032f\", \"ons# :: \\u00f5\\u0169\\u032f\", \"ons# :: \\u00f5\\u0169\\u032f\", \"ons# :: \\u00f5\\u0169\\u032f\", \"ons# :: \\u00f5\\u0169\\u032f\", \"ons# :: \\u00f5\\u0169\\u032f\", \"ons# :: \\u00f5\\u0169\\u032f\", \"ons# :: \\u00f5\\u0169\\u032f#\", \"ons# :: \\u00f5\\u0169\\u032f#\", \"ons# :: \\u00f5\\u0169\\u032f#\", \"ons# :: \\u00f5\\u0169\\u032f#\", \"ons# :: \\u00f5\\u0169\\u032f#\", \"ons# :: \\u00f5\\u0169\\u032f#\", \"ons# :: \\u00f5\\u0169\\u032f#\", \"ons# :: \\u00f5\\u0169\\u032f#\", \"ons# :: \\u00f5\\u0169\\u032f#\", \"ons# :: \\u00f5\\u0169\\u032f#\", \"ons# :: \\u00f5\\u0169\\u032f#\", \"ons# :: \\u00f5\\u0169\\u032f#\", \"ons# :: \\u00f5\\u0169\\u032f#\", \"ons# :: \\u00f5\\u0169\\u032f#\", \"ons# :: \\u0169\\u032f#\", \"ons# :: \\u0169\\u032f#\", \"ons# :: \\u0169\\u032f#\", \"ons# :: \\u0169\\u032f#\", \"ons# :: \\u0169\\u032f#\", \"ons# :: \\u0169\\u032f#\", \"ons# :: \\u0169\\u032f#\", \"ons# :: \\u0169\\u032f#\", \"ons# :: \\u0169\\u032f#\", \"ons# :: \\u0169\\u032f#\", \"ons# :: \\u0169\\u032f#\", \"ons# :: \\u0169\\u032f#\", \"ons# :: \\u0169\\u032f#\", \"ons# :: \\u0169\\u032f#\", \"ons# :: \\u0169\\u032f#\", \"ons# :: \\u0169\\u032f#\", \"ons# :: \\u0259\\u0281\\u00f5\", \"ons# :: \\u0259\\u0281\\u00f5\", \"ons# :: \\u0259\\u0281\\u00f5\", \"ons# :: \\u0259\\u0281\\u00f5\", \"ons# :: \\u0259\\u0281\\u00f5\\u0169\", \"ons# :: \\u0259\\u0281\\u00f5\\u0169\", \"ons# :: \\u0259\\u0281\\u00f5\\u0169\", \"ons# :: \\u0259\\u0281\\u00f5\\u0169\", \"ons# :: \\u0281j\\u00f5\\u0169\", \"ons# :: \\u0281j\\u00f5\\u0169\", \"ons# :: \\u0281j\\u00f5\\u0169\", \"ons# :: \\u0281\\u00f5\\u0169\", \"ons# :: \\u0281\\u00f5\\u0169\", \"ons# :: \\u0281\\u00f5\\u0169\", \"ons# :: \\u0281\\u00f5\\u0169\", \"ons# :: \\u0281\\u00f5\\u0169\", \"ont :: #k\\u00f5\", \"ont :: #k\\u00f5\", \"ont :: #k\\u00f5\", \"ont :: #k\\u00f5\", \"ont :: t\\u0281a\", \"ont :: \\u00f5\\u0169\\u032f\", \"ont :: \\u00f5\\u0169\\u032f\", \"ont :: \\u00f5\\u0169\\u032f\", \"ont :: \\u00f5\\u0169\\u032f\", \"ont :: \\u00f5\\u0169\\u032f\", \"ont :: \\u00f5\\u0169\\u032f\", \"ont :: \\u00f5\\u0169\\u032f#\", \"ont :: \\u00f5\\u0169\\u032f#\", \"ont :: \\u00f5\\u0169\\u032f#\", \"ont :: \\u00f5\\u0169\\u032f#\", \"ont :: \\u00f5\\u0169\\u032f#\", \"ont :: \\u00f5\\u0169\\u032ft\", \"ont :: \\u00f5\\u0169\\u032ft\", \"ont :: \\u0169\\u032f#\", \"ont :: \\u0169\\u032f#\", \"ont :: \\u0169\\u032f#\", \"ont :: \\u0169\\u032f#\", \"ont :: \\u0169\\u032f#\", \"ont :: \\u0169\\u032ft\", \"ont :: \\u0169\\u032ft\", \"ont :: \\u0169\\u032ft\", \"ont :: \\u0169\\u032ft\\u0281\", \"ont :: \\u0169\\u032ft\\u0281\", \"ont :: \\u0259\\u0281\\u00f5\", \"ont :: \\u0259\\u0281\\u00f5\", \"ont :: \\u0259\\u0281\\u00f5\", \"ont :: \\u0259\\u0281\\u00f5\", \"ont :: \\u0259\\u0281\\u00f5\\u0169\", \"ont :: \\u0259\\u0281\\u00f5\\u0169\", \"ont :: \\u0259\\u0281\\u00f5\\u0169\", \"ont :: \\u0281\\u00f5\\u0169\", \"ont :: \\u0281\\u00f5\\u0169\", \"ont :: \\u0281\\u00f5\\u0169\", \"ont :: \\u0281\\u00f5\\u0169\", \"ont :: \\u0281\\u00f5\\u0169\\u032f\", \"ont :: \\u0281\\u00f5\\u0169\\u032f\", \"ont :: \\u0281\\u00f5\\u0169\\u032f\", \"ont :: \\u0281\\u00f5\\u0169\\u032f\", \"ont :: \\u0281\\u00f5\\u0169\\u032f\", \"ont :: \\u032ft\\u0281\", \"ont# :: \\u00f5\\u0169\\u032f\", \"ont# :: \\u00f5\\u0169\\u032f\", \"ont# :: \\u00f5\\u0169\\u032f\", \"ont# :: \\u00f5\\u0169\\u032f\", \"ont# :: \\u00f5\\u0169\\u032f#\", \"ont# :: \\u00f5\\u0169\\u032f#\", \"ont# :: \\u00f5\\u0169\\u032f#\", \"ont# :: \\u00f5\\u0169\\u032f#\", \"ont# :: \\u00f5\\u0169\\u032f#\", \"ont# :: \\u0169\\u032f#\", \"ont# :: \\u0169\\u032f#\", \"ont# :: \\u0169\\u032f#\", \"ont# :: \\u0169\\u032f#\", \"ont# :: \\u0169\\u032f#\", \"ont# :: \\u0259\\u0281\\u00f5\", \"ont# :: \\u0259\\u0281\\u00f5\", \"ont# :: \\u0259\\u0281\\u00f5\", \"ont# :: \\u0259\\u0281\\u00f5\", \"ont# :: \\u0259\\u0281\\u00f5\\u0169\", \"ont# :: \\u0259\\u0281\\u00f5\\u0169\", \"ont# :: \\u0259\\u0281\\u00f5\\u0169\", \"ont# :: \\u0281\\u00f5\\u0169\", \"ont# :: \\u0281\\u00f5\\u0169\", \"ont# :: \\u0281\\u00f5\\u0169\", \"ont# :: \\u0281\\u00f5\\u0169\", \"ont# :: \\u0281\\u00f5\\u0169\", \"ont# :: \\u0281\\u00f5\\u0169\\u032f\", \"ont# :: \\u0281\\u00f5\\u0169\\u032f\", \"ont# :: \\u0281\\u00f5\\u0169\\u032f\", \"ont# :: \\u0281\\u00f5\\u0169\\u032f\", \"ont# :: \\u0281\\u00f5\\u0169\\u032f\", \"ont# :: \\u0281\\u00f5\\u0169\\u032f\", \"ont# :: \\u0281\\u00f5\\u0169\\u032f\", \"ontr :: \\u00f5\\u0169\\u032f\", \"ontr :: \\u00f5\\u0169\\u032ft\", \"ontr :: \\u0169\\u032ft\", \"ontr :: \\u0169\\u032ft\", \"ontr :: \\u0169\\u032ft\", \"ontr :: \\u0169\\u032ft\\u0281\", \"ontr :: \\u0169\\u032ft\\u0281\", \"ontr :: \\u032ft\\u0281\", \"ontr :: \\u032ft\\u0281\", \"ontr :: \\u032ft\\u0281\", \"opp :: \\u0251\\u0254\\u032f\", \"opp :: \\u0251\\u0254\\u032f\", \"oppa :: as#\", \"oppa :: as#\", \"oppr :: \\u0251\\u0254\\u032f\", \"oqu :: ke#\", \"oqu\\u00e9 :: ke#\", \"oqu\\u00e9 :: ke#\", \"oqu\\u00e9 :: ke#\", \"orce :: f\\u0251\\u0254\\u032f\", \"ord :: \\u0251\\u0254\\u032f\\u0281\", \"ord :: \\u0254\\u032f\\u0281\", \"ord :: \\u0254\\u032f\\u0281d\", \"ord :: \\u0254\\u032f\\u0281d\", \"ord :: \\u0254\\u032f\\u0281d\", \"orgn :: l\\u0251\\u0254\", \"orgn :: l\\u0251\\u0254\", \"oss :: #\\u0251\\u0303\", \"oss :: dos\", \"oss :: \\u0251\\u0303do\", \"oss :: \\u0303dos\", \"ost :: p\\u0251\\u0254\", \"ost :: p\\u0251\\u0254\", \"ost :: p\\u0251\\u0254\", \"ost :: \\u0251\\u0254\\u032f\", \"ost :: \\u0251\\u0254\\u032f\", \"ost :: \\u0254\\u032fs\", \"ost :: \\u0254\\u032fs\", \"ote :: \\u0251\\u0254\\u032ft\", \"ote :: \\u0251\\u0254\\u032ft\", \"ote :: \\u0251\\u0254\\u032ft\", \"ote :: \\u0251\\u0254\\u032ft\", \"ote :: \\u0251\\u0254\\u032ft\", \"oten :: \\u0251\\u0254\\u032f\", \"otta :: \\u0254\\u032ft\", \"ouc :: b\\u028a\\u0283a\", \"ouc :: \\u0281\\u028ak\\u028a\", \"ouco :: \\u0281\\u028ak\\u028a\", \"ouco :: \\u0281\\u028ak\\u028a\", \"ouco :: \\u028ak\\u028a\", \"ouf :: s\\u028afl\", \"ouf :: s\\u028afl\", \"ouf :: \\u028afl\", \"ouf :: \\u028afl\", \"oul :: k\\u028al\", \"oul :: k\\u028al\", \"oul :: \\u028ak\\u028al\", \"oup :: #as\\u028a\", \"oup :: #as\\u028a\", \"oup :: las\", \"oup :: las\", \"pac :: pas\", \"pact :: pak\", \"pact :: pak\", \"pant :: p\\u00e6\\u0303#\", \"pant :: p\\u00e6\\u0303#\", \"per :: p\\u0259\\u0281\", \"per :: p\\u0259\\u0281\", \"per :: \\u0259\\u0281a\", \"per :: \\u0259\\u0281a\", \"per :: \\u0259\\u0281a#\", \"per :: \\u0259\\u0281a#\", \"per :: \\u0281a#\", \"per :: \\u0281a#\", \"pera :: ap\\u0259\", \"pera :: \\u0259\\u0281a#\", \"pera :: \\u0259\\u0281a#\", \"pera :: \\u0281a#\", \"pera :: \\u0281a#\", \"pico :: k\\u0251\\u0254\", \"pie :: \\u0251\\u0303p\", \"pier :: \\u0303pje\", \"piq :: \\u0281p\\u026ak\", \"pla :: #pla\", \"pla :: #pla\", \"pla :: #pla\", \"pla :: #pla\", \"pla :: \\u028apla\", \"plag :: \\u0292ja\", \"pli :: \\u028fpl\", \"plo :: loze\", \"plo :: ze#\", \"plo :: \\u0169\\u032f\\u0292\", \"plon :: pl\\u00f5\", \"poi :: wa\\u0272\", \"poig :: pwa\", \"poig :: wa\\u0272\", \"poig :: wa\\u0272\", \"port :: \\u0251\\u0303p\\u0251\", \"port :: \\u0251\\u0303p\\u0251\", \"port :: \\u0254\\u032f\\u0281\", \"pos :: p\\u0251\\u0254\", \"pos :: \\u0251\\u0254\\u032f\", \"pos :: \\u0251\\u0254\\u032f\", \"pos :: \\u0251\\u0254\\u032fs\", \"post :: p\\u0251\\u0254\\u032f\", \"post :: \\u0254\\u032fs\", \"post :: \\u0254\\u032fst\", \"pot :: ap\\u0251\", \"pou :: p\\u028ad\\u0281\", \"pou :: p\\u028ad\\u0281\", \"pou :: \\u028ad\\u0281\", \"pou :: \\u028ad\\u0281\", \"ppa :: apa\\u0281\", \"ppar :: #ap\", \"ppe :: #\\u0281ap\", \"ppe :: pal\", \"ppe :: \\u0259\\u0281a\", \"ppe :: \\u0259\\u0281a\", \"ppl :: \\u028fpl\\u026a\", \"ppl :: \\u028fpl\\u026a\", \"pre :: #p\\u0281\", \"pre :: s\\u028f\\u0281\", \"pres :: #p\\u0281\", \"pres :: p\\u0281e\", \"pres :: p\\u0281e\", \"pri :: p\\u0281\\u026a\", \"pri :: p\\u0281\\u026a\", \"pri :: p\\u0281\\u026am\", \"pri :: p\\u0281\\u026am\", \"prim :: aks\", \"prim :: ksp\\u0281\", \"prim :: ksp\\u0281\", \"prim :: sp\\u0281\", \"prim :: sp\\u0281\", \"pro :: #p\\u0281\\u0251\", \"pro :: #p\\u0281\\u0251\", \"pro :: p\\u0281\\u0251\", \"pro :: p\\u0281\\u0251\", \"pro :: p\\u0281\\u0251\", \"pro :: \\u0251\\u0254\\u032f\", \"pro :: \\u0251\\u0254\\u032f\", \"pro :: \\u0251\\u0254\\u032f\", \"pro :: \\u0281\\u0251\\u0254\\u032f\", \"pro :: \\u0281\\u0251\\u0254\\u032f\", \"pro :: \\u0281\\u0251\\u0254\\u032f\", \"prof :: \\u0254\\u032ff\", \"puy :: p\\u0265ij\", \"p\\u00e8re :: pa\\u0281\", \"p\\u00e8re :: pa\\u0281\", \"p\\u00e8re :: pa\\u0281\", \"qua :: ad\\u0281\", \"qua :: ad\\u0281\", \"qua :: ka#\", \"qua :: ka#\", \"qua :: ka#\", \"que :: n\\u026ak\", \"que :: \\u0251\\u0254\\u032fk\", \"que# :: \\u026ak#\", \"que# :: \\u026ak#\", \"que# :: \\u026ak#\", \"que# :: \\u026ak#\", \"que# :: \\u026ak#\", \"qu\\u00e2 :: k\\u0254#\", \"ra# :: \\u0259\\u0281\\u0254\", \"ra# :: \\u0259\\u0281\\u0254\", \"ra# :: \\u0259\\u0281\\u0254\", \"ra# :: \\u0259\\u0281\\u0254\", \"ra# :: \\u0259\\u0281\\u0254\", \"ra# :: \\u0259\\u0281\\u0254\", \"ra# :: \\u0259\\u0281\\u0254\", \"ra# :: \\u0259\\u0281\\u0254\", \"ra# :: \\u0259\\u0281\\u0254\", \"ra# :: \\u0259\\u0281\\u0254\", \"ra# :: \\u0259\\u0281\\u0254\", \"ra# :: \\u0259\\u0281\\u0254\", \"ra# :: \\u0281\\u0254#\", \"ra# :: \\u0281\\u0254#\", \"ra# :: \\u0281\\u0254#\", \"ra# :: \\u0281\\u0254#\", \"ra# :: \\u0281\\u0254#\", \"ra# :: \\u0281\\u0254#\", \"ra# :: \\u0281\\u0254#\", \"ra# :: \\u0281\\u0254#\", \"ra# :: \\u0281\\u0254#\", \"ra# :: \\u0281\\u0254#\", \"ra# :: \\u0281\\u0254#\", \"ra# :: \\u0281\\u0254#\", \"ra# :: \\u0281\\u0254#\", \"ra# :: \\u0281\\u0254#\", \"rab :: a\\u0281ab\", \"rab :: a\\u0281ab\", \"raca :: akas\", \"rad :: #\\u0281a\", \"rad :: #\\u0281a\", \"rad :: #\\u0281ad\", \"rad :: ad\\u0361\", \"rad :: ad\\u0361\", \"rad :: ad\\u0361z\", \"rad :: ad\\u0361z\", \"rad :: d\\u0361z\", \"rad :: d\\u0361z\", \"rad :: d\\u0361z\", \"rad :: \\u0281ad\", \"rad :: \\u0281ad\", \"rad :: \\u0281ad\", \"rad :: \\u0281ad\\u0361\", \"rad :: \\u0281ad\\u0361\", \"rad :: \\u0281ad\\u0361\", \"rad :: \\u0361zj\", \"radi :: #\\u0281a\", \"radi :: #\\u0281ad\", \"radi :: ad\\u0361\", \"radi :: ad\\u0361\", \"radi :: ad\\u0361z\", \"radi :: d\\u0361zj\", \"radi :: \\u0281ad\", \"radi :: \\u0281ad\", \"radi :: \\u0281ad\\u0361\", \"radi :: \\u0281ad\\u0361\", \"radi :: \\u0361zj\", \"rai :: aja\", \"rai :: aja\", \"rai :: an\\u0259\", \"rai :: an\\u0259\", \"rai :: ap\\u0259\", \"rai :: ap\\u0259\", \"rai :: at\\u0259\\u0281\", \"rai :: at\\u0259\\u0281\", \"rai :: a\\u0281\\u0259\", \"rai :: a\\u0281\\u0259\", \"rai :: a\\u0281\\u0259\\u0281\", \"rai :: a\\u0281\\u0259\\u0281\", \"rai :: m\\u0259\\u0281\", \"rai :: m\\u0259\\u0281\", \"rai :: m\\u0259\\u0281\", \"rai :: n\\u0259\\u0281\", \"rai :: n\\u0259\\u0281\", \"rai :: n\\u0259\\u0281\", \"rai :: n\\u0259\\u0281\", \"rai :: n\\u0259\\u0281a\", \"rai :: n\\u0259\\u0281a\", \"rai :: n\\u0259\\u0281a\", \"rai :: n\\u0259\\u0281a\", \"rai :: p\\u0259\\u0281a\", \"rai :: p\\u0259\\u0281a\", \"rai :: t\\u0259\\u0281\", \"rai :: t\\u0259\\u0281\", \"rai :: t\\u0259\\u0281\", \"rai :: t\\u0259\\u0281\", \"rai :: t\\u0259\\u0281a\", \"rai :: t\\u0259\\u0281a\", \"rai :: t\\u0259\\u0281a\", \"rai :: t\\u0259\\u0281a\", \"rai :: t\\u0259\\u0281a\", \"rai :: t\\u0259\\u0281a\", \"rai :: z\\u0259\\u0281\", \"rai :: z\\u0259\\u0281\", \"rai :: z\\u0259\\u0281\", \"rai :: z\\u0259\\u0281a\", \"rai :: z\\u0259\\u0281a\", \"rai :: \\u0259\\u0281a\", \"rai :: \\u0259\\u0281a\", \"rai :: \\u0259\\u0281a\", \"rai :: \\u0259\\u0281a\", \"rai :: \\u0259\\u0281a\", \"rai :: \\u0259\\u0281a\", \"rai :: \\u0259\\u0281a\", \"rai :: \\u0259\\u0281a\", \"rai :: \\u0259\\u0281a\", \"rai :: \\u0259\\u0281a\", \"rai :: \\u0259\\u0281a\", \"rai :: \\u0259\\u0281a\", \"rai :: \\u0259\\u0281a\", \"rai :: \\u0259\\u0281a\", \"rai :: \\u0259\\u0281a\", \"rai :: \\u0259\\u0281a\", \"rai :: \\u0259\\u0281a\", \"rai :: \\u0259\\u0281a\", \"rai :: \\u0259\\u0281a\", \"rai :: \\u0259\\u0281a\", \"rai :: \\u0259\\u0281a\", \"rai :: \\u0259\\u0281a\", \"rai :: \\u0259\\u0281a#\", \"rai :: \\u0259\\u0281a#\", \"rai :: \\u0259\\u0281a#\", \"rai :: \\u0259\\u0281a#\", \"rai :: \\u0259\\u0281a#\", \"rai :: \\u0259\\u0281a#\", \"rai :: \\u0259\\u0281a#\", \"rai :: \\u0259\\u0281a#\", \"rai :: \\u0259\\u0281a#\", \"rai :: \\u0259\\u0281a#\", \"rai :: \\u0259\\u0281a#\", \"rai :: \\u0259\\u0281a#\", \"rai :: \\u0259\\u0281a#\", \"rai :: \\u0259\\u0281a#\", \"rai :: \\u0259\\u0281a#\", \"rai :: \\u0259\\u0281a#\", \"rai :: \\u0259\\u0281a#\", \"rai :: \\u0259\\u0281a#\", \"rai :: \\u0259\\u0281a#\", \"rai :: \\u0259\\u0281a#\", \"rai :: \\u0259\\u0281a#\", \"rai :: \\u0259\\u0281a#\", \"rai :: \\u026a\\u0281a\", \"rai :: \\u026a\\u0281a\", \"rai :: \\u026a\\u0281a\", \"rai :: \\u026a\\u0281a\", \"rai :: \\u026a\\u0281a#\", \"rai :: \\u026a\\u0281a#\", \"rai :: \\u026a\\u0281a#\", \"rai :: \\u026a\\u0281a#\", \"rai :: \\u026a\\u0281a#\", \"rai :: \\u026a\\u0281a#\", \"rai :: \\u0281a#\", \"rai :: \\u0281a#\", \"rai :: \\u0281a#\", \"rai :: \\u0281a#\", \"rai :: \\u0281a#\", \"rai :: \\u0281a#\", \"rai :: \\u0281a#\", \"rai :: \\u0281a#\", \"rai :: \\u0281a#\", \"rai :: \\u0281a#\", \"rai :: \\u0281a#\", \"rai :: \\u0281a#\", \"rai :: \\u0281a#\", \"rai :: \\u0281a#\", \"rai :: \\u0281a#\", \"rai :: \\u0281a#\", \"rai :: \\u0281a#\", \"rai :: \\u0281a#\", \"rai :: \\u0281a#\", \"rai :: \\u0281a#\", \"rai :: \\u0281a#\", \"rai :: \\u0281a#\", \"rai :: \\u0281a#\", \"rai :: \\u0281a#\", \"rai :: \\u0281a#\", \"rai :: \\u0281as\", \"rai :: \\u0281n\\u0259\", \"rai :: \\u0281\\u0259\\u0281\", \"rai :: \\u0281\\u0259\\u0281\", \"rai :: \\u0281\\u0259\\u0281\", \"rai :: \\u0281\\u0259\\u0281\", \"rai :: \\u0281\\u0259\\u0281\", \"rai :: \\u0281\\u0259\\u0281\", \"rai :: \\u0283\\u0259\\u0281\", \"rai :: \\u0283\\u0259\\u0281\", \"rai :: \\u0283\\u0259\\u0281\", \"rai :: \\u0283\\u0259\\u0281a\", \"rai :: \\u0283\\u0259\\u0281a\", \"rai# :: \\u0281a#\", \"rai# :: \\u0281a#\", \"rai# :: \\u0281a#\", \"rai# :: \\u0281a#\", \"rai# :: \\u0281a#\", \"rai# :: \\u0281a#\", \"rai# :: \\u0281a#\", \"rai# :: \\u0281a#\", \"rai# :: \\u0281a#\", \"rai# :: \\u0281a#\", \"rai# :: \\u0281a#\", \"rai# :: \\u0281a#\", \"raie :: t\\u0259\\u0281a\", \"raie :: \\u0281a#\", \"raie :: \\u0281a#\", \"raie :: \\u0281a#\", \"raie :: \\u0281a#\", \"raie :: \\u0281a#\", \"raie :: \\u0281a#\", \"raie :: \\u0281a#\", \"raie :: \\u0281a#\", \"raie :: \\u0281a#\", \"raie :: \\u0281a#\", \"raie :: \\u0281a#\", \"rais :: az\\u0259\\u0281\", \"rais :: az\\u0259\\u0281\", \"rais :: az\\u0259\\u0281\", \"rais :: e\\u0281a\", \"rais :: e\\u0281a#\", \"rais :: z\\u0259\\u0281a\", \"rais :: \\u0259\\u0281a#\", \"rais :: \\u0259\\u0281a#\", \"rais :: \\u0259\\u0281a#\", \"rais :: \\u0259\\u0281a#\", \"rais :: \\u0259\\u0281a#\", \"rais :: \\u0259\\u0281a#\", \"rais :: \\u0259\\u0281a#\", \"rais :: \\u0259\\u0281a#\", \"rais :: \\u0259\\u0281a#\", \"rais :: \\u0259\\u0281a#\", \"rais :: \\u0259\\u0281a#\", \"rais :: \\u0281a#\", \"rais :: \\u0281a#\", \"rais :: \\u0281a#\", \"rais :: \\u0281a#\", \"rais :: \\u0281a#\", \"rais :: \\u0281a#\", \"rais :: \\u0281a#\", \"rais :: \\u0281a#\", \"rais :: \\u0281a#\", \"rais :: \\u0281a#\", \"rais :: \\u0281a#\", \"rais :: \\u0281a#\", \"rais :: \\u0281a#\", \"rais :: \\u0281a#\", \"rais :: \\u0281a#\", \"rait :: \\u0259\\u0281a\", \"rait :: \\u0259\\u0281a\", \"rait :: \\u0259\\u0281a\", \"rait :: \\u0259\\u0281a\", \"rait :: \\u0259\\u0281a\", \"rait :: \\u0259\\u0281a\", \"rait :: \\u0259\\u0281a\", \"rait :: \\u0259\\u0281a\", \"rait :: \\u0259\\u0281a\", \"rait :: \\u0259\\u0281a\", \"rait :: \\u0259\\u0281a\", \"rait :: \\u0259\\u0281a\", \"rait :: \\u0259\\u0281a#\", \"rait :: \\u0259\\u0281a#\", \"rait :: \\u0259\\u0281a#\", \"rait :: \\u0259\\u0281a#\", \"rait :: \\u0259\\u0281a#\", \"rait :: \\u0259\\u0281a#\", \"rait :: \\u0259\\u0281a#\", \"rait :: \\u0259\\u0281a#\", \"rait :: \\u0259\\u0281a#\", \"rait :: \\u0259\\u0281a#\", \"rait :: \\u0281a#\", \"rait :: \\u0281a#\", \"rait :: \\u0281a#\", \"rait :: \\u0281a#\", \"rait :: \\u0281a#\", \"rait :: \\u0281a#\", \"rait :: \\u0281a#\", \"rait :: \\u0281a#\", \"rait :: \\u0281a#\", \"rait :: \\u0281a#\", \"rait :: \\u0281a#\", \"rali :: \\u0281al\", \"ran :: #t\\u0281\", \"ran :: #t\\u0281\", \"ran :: g\\u0281a\", \"ran :: n\\u028fl\", \"ran :: n\\u028fl\", \"ran :: t\\u0281\\u0251\", \"ran :: t\\u0281\\u0251\\u0303\", \"ran :: \\u0251\\u0303s\", \"ran :: \\u0281an\", \"ran :: \\u0281\\u0251\\u0303s\", \"rang :: #\\u0281\\u0251\", \"rans :: \\u0281\\u0251\\u0303\", \"ranu :: \\u0281an\", \"rap :: #\\u0281a\", \"rap :: #\\u0281a\", \"rap :: #\\u0281a\", \"rap :: \\u0281ap\", \"rap :: \\u0281ap\", \"rap :: \\u0281ap\", \"rap :: \\u0281ap\", \"rapp :: \\u0281ap\", \"ras :: d\\u0281\\u0254\", \"ras :: d\\u0281\\u0254\", \"ras :: \\u0259\\u0281\\u0254\", \"ras :: \\u0259\\u0281\\u0254\", \"ras :: \\u0259\\u0281\\u0254\", \"ras :: \\u0259\\u0281\\u0254\", \"ras :: \\u0259\\u0281\\u0254\", \"ras :: \\u0259\\u0281\\u0254\", \"ras :: \\u0259\\u0281\\u0254\", \"ras :: \\u0259\\u0281\\u0254\", \"ras :: \\u0259\\u0281\\u0254#\", \"ras :: \\u0259\\u0281\\u0254#\", \"ras :: \\u0259\\u0281\\u0254#\", \"ras :: \\u0259\\u0281\\u0254#\", \"ras :: \\u0259\\u0281\\u0254#\", \"ras :: \\u0259\\u0281\\u0254#\", \"ras :: \\u0259\\u0281\\u0254#\", \"ras :: \\u0259\\u0281\\u0254#\", \"ras :: \\u0281\\u0254#\", \"ras :: \\u0281\\u0254#\", \"ras :: \\u0281\\u0254#\", \"ras :: \\u0281\\u0254#\", \"ras :: \\u0281\\u0254#\", \"ras :: \\u0281\\u0254#\", \"ras :: \\u0281\\u0254#\", \"ras :: \\u0281\\u0254#\", \"ras :: \\u0281\\u0254#\", \"ras :: \\u0281\\u0254#\", \"ras :: \\u0281\\u0254#\", \"ras :: \\u0281\\u0254#\", \"ras :: \\u0281\\u0254#\", \"ras# :: t\\u0259\\u0281\\u0254\", \"ras# :: t\\u0259\\u0281\\u0254\", \"ras# :: \\u0251\\u0303d\", \"ras# :: \\u0259\\u0281\\u0254\", \"ras# :: \\u0259\\u0281\\u0254\", \"ras# :: \\u0259\\u0281\\u0254\", \"ras# :: \\u0259\\u0281\\u0254\", \"ras# :: \\u0259\\u0281\\u0254\", \"ras# :: \\u0259\\u0281\\u0254\", \"ras# :: \\u0259\\u0281\\u0254\", \"ras# :: \\u0259\\u0281\\u0254\", \"ras# :: \\u0259\\u0281\\u0254\", \"ras# :: \\u0259\\u0281\\u0254\", \"ras# :: \\u0259\\u0281\\u0254#\", \"ras# :: \\u0259\\u0281\\u0254#\", \"ras# :: \\u0259\\u0281\\u0254#\", \"ras# :: \\u0259\\u0281\\u0254#\", \"ras# :: \\u0259\\u0281\\u0254#\", \"ras# :: \\u0259\\u0281\\u0254#\", \"ras# :: \\u0259\\u0281\\u0254#\", \"ras# :: \\u0259\\u0281\\u0254#\", \"ras# :: \\u0259\\u0281\\u0254#\", \"ras# :: \\u0281\\u0254#\", \"ras# :: \\u0281\\u0254#\", \"ras# :: \\u0281\\u0254#\", \"ras# :: \\u0281\\u0254#\", \"ras# :: \\u0281\\u0254#\", \"ras# :: \\u0281\\u0254#\", \"ras# :: \\u0281\\u0254#\", \"ras# :: \\u0281\\u0254#\", \"ras# :: \\u0281\\u0254#\", \"ras# :: \\u0281\\u0254#\", \"ras# :: \\u0281\\u0254#\", \"ras# :: \\u0281\\u0254#\", \"ras# :: \\u0281\\u0254#\", \"ras# :: \\u0281\\u0254#\", \"ras# :: \\u0281\\u0254#\", \"ras# :: \\u0303d\\u0281\", \"ras# :: \\u0303d\\u0281\", \"ras# :: \\u0303d\\u0281\", \"rass :: k\\u0265i\", \"rat :: g\\u0281at\", \"ravi :: \\u0281av\", \"ravi :: \\u0281av\", \"rci :: \\u0361z\\u028f\", \"rda :: a\\u0281da\", \"rda :: \\u0254\\u032f\\u0281\", \"rdas :: das#\", \"rdas :: \\u0281das\", \"rde :: a\\u0281d#\", \"rde :: \\u0281d#\", \"rde :: \\u0281d#\", \"rdes :: a\\u0281d\", \"rdes :: a\\u0281d#\", \"re# :: ja\\u0281#\", \"re# :: ja\\u0281#\", \"re# :: ja\\u0281#\", \"rec :: \\u0259k\\u028a\", \"rec :: \\u0259k\\u028a\", \"reco :: \\u0281\\u0259k\", \"reco :: \\u0281\\u0259k\", \"reco :: \\u0281\\u0259k\", \"ref :: #\\u0281\\u0259\", \"ref :: #\\u0281\\u0259\", \"ref :: #\\u0281\\u0259f\", \"ref :: a\\u0281m\", \"ref :: \\u0259fa\", \"ref :: \\u0259fa\", \"ref :: \\u0281\\u0259f\", \"refe :: \\u0281\\u0259f\", \"refe :: \\u0281\\u0259f\", \"rel :: #\\u0281\\u0259\", \"rel :: #\\u0281\\u0259\", \"rel :: #\\u0281\\u0259l\", \"rel :: #\\u0281\\u0259l\", \"rel :: #\\u0281\\u0259l\", \"rel :: #\\u0281\\u0259l\", \"rel :: #\\u0281\\u0259l\", \"ren :: a\\u0281#\", \"ren :: a\\u0281#\", \"ren :: a\\u0281#\", \"ren :: a\\u0281#\", \"ren :: a\\u0281#\", \"ren :: a\\u0281#\", \"ren :: a\\u0281#\", \"ren :: a\\u0281#\", \"ren :: a\\u0281#\", \"ren :: a\\u0281#\", \"ren :: a\\u0281#\", \"ren :: p\\u0281e\", \"ren :: \\u0281\\u0251\\u0303s\", \"rent :: apa\", \"rer :: a\\u0281\\u0259\", \"rer :: a\\u0281\\u0259\", \"rer :: a\\u0281\\u0259\", \"rer :: a\\u0281\\u0259\", \"rer :: a\\u0281\\u0259\", \"rer :: a\\u0281\\u0259\\u0281\", \"rer :: a\\u0281\\u0259\\u0281\", \"rer :: a\\u0281\\u0259\\u0281\", \"rer :: a\\u0281\\u0259\\u0281\", \"rer :: a\\u0281\\u0259\\u0281\", \"rer :: efa\", \"rer :: efa\", \"rer :: \\u0259\\u0281a\", \"rer :: \\u0259\\u0281a\", \"rer :: \\u0259\\u0281a\", \"rer :: \\u0259\\u0281a\", \"rer :: \\u0259\\u0281a\", \"rer :: \\u0259\\u0281a\", \"rer :: \\u0259\\u0281a\", \"rer :: \\u0259\\u0281a\", \"rer :: \\u0259\\u0281a\", \"rer :: \\u0259\\u0281a#\", \"rer :: \\u0259\\u0281a#\", \"rer :: \\u0259\\u0281a#\", \"rer :: \\u0259\\u0281a#\", \"rer :: \\u0259\\u0281a#\", \"rer :: \\u0259\\u0281a#\", \"rer :: \\u0259\\u0281a#\", \"rer :: \\u0259\\u0281a#\", \"rer :: \\u0281a#\", \"rer :: \\u0281a#\", \"rer :: \\u0281a#\", \"rer :: \\u0281a#\", \"rer :: \\u0281a#\", \"rer :: \\u0281a#\", \"rer :: \\u0281a#\", \"rer :: \\u0281a#\", \"rer :: \\u0281\\u0259\\u0281\", \"rer :: \\u0281\\u0259\\u0281\", \"rer :: \\u0281\\u0259\\u0281\", \"rer :: \\u0281\\u0259\\u0281\", \"rer :: \\u0281\\u0259\\u0281\", \"rer :: \\u0281\\u0259\\u0281\", \"rer :: \\u0281\\u0259\\u0281\", \"rer :: \\u0281\\u0259\\u0281\", \"rer :: \\u0281\\u0259\\u0281\", \"rer :: \\u0281\\u0259\\u0281\", \"rer :: \\u0281\\u0259\\u0281\", \"rer :: \\u0281\\u0259\\u0281\", \"rer :: \\u0281\\u0259\\u0281\", \"rera :: a\\u0281\\u0259\", \"rera :: a\\u0281\\u0259\", \"rera :: a\\u0281\\u0259\\u0281\", \"rera :: a\\u0281\\u0259\\u0281\", \"rera :: a\\u0281\\u0259\\u0281\", \"rera :: a\\u0281\\u0259\\u0281\", \"rera :: a\\u0281\\u0259\\u0281\", \"rera :: \\u0259\\u0281a\", \"rera :: \\u0259\\u0281a\", \"rera :: \\u0259\\u0281a\", \"rera :: \\u0259\\u0281a\", \"rera :: \\u0259\\u0281a\", \"rera :: \\u0259\\u0281a\", \"rera :: \\u026a\\u0281\\u0259\", \"rera :: \\u0281\\u0259\\u0281a\", \"rera :: \\u0281\\u0259\\u0281a\", \"rera :: \\u0281\\u0259\\u0281a\", \"rera :: \\u0281\\u0259\\u0281a\", \"rera :: \\u0281\\u0259\\u0281a\", \"rera :: \\u0281\\u0259\\u0281a\", \"rera :: \\u0281\\u0259\\u0281a\", \"res :: #p\\u0281\", \"res :: #p\\u0281e\", \"res :: #p\\u0281e\", \"res :: p\\u0281es\", \"res :: p\\u0281es\", \"res :: p\\u0281es\", \"res :: \\u0281es\", \"res :: \\u0281es\", \"ress :: #p\\u0281\", \"ress :: #p\\u0281e\", \"ress :: p\\u0281es\", \"ress :: p\\u0281es\", \"rez :: as\\u0259\\u0281\", \"rez :: l\\u0259\\u0281e\", \"rez :: l\\u0259\\u0281e\", \"rez :: l\\u0259\\u0281e\", \"rez :: s\\u0259\\u0281\", \"rez :: s\\u0259\\u0281e\", \"rez :: \\u0259\\u0281e\", \"rez :: \\u0259\\u0281e\", \"rez :: \\u0259\\u0281e\", \"rez :: \\u0259\\u0281e\", \"rez :: \\u0259\\u0281e\", \"rez :: \\u0259\\u0281e\", \"rez :: \\u0259\\u0281e\", \"rez :: \\u0259\\u0281e\", \"rez :: \\u0259\\u0281e\", \"rez :: \\u0259\\u0281e\", \"rez :: \\u0259\\u0281e\", \"rez :: \\u0259\\u0281e#\", \"rez :: \\u0259\\u0281e#\", \"rez :: \\u0259\\u0281e#\", \"rez :: \\u0259\\u0281e#\", \"rez :: \\u0259\\u0281e#\", \"rez :: \\u0259\\u0281e#\", \"rez :: \\u0259\\u0281e#\", \"rez :: \\u0259\\u0281e#\", \"rez :: \\u0259\\u0281e#\", \"rez :: \\u0259\\u0281e#\", \"rez :: \\u0281e#\", \"rez :: \\u0281e#\", \"rez :: \\u0281e#\", \"rez :: \\u0281e#\", \"rez :: \\u0281e#\", \"rez :: \\u0281e#\", \"rez :: \\u0281e#\", \"rez :: \\u0281e#\", \"rez :: \\u0281e#\", \"rez :: \\u0281e#\", \"rez :: \\u0281e#\", \"rez# :: as\\u0259\", \"rez# :: s\\u0259\\u0281e\", \"rez# :: s\\u0259\\u0281e\", \"rez# :: \\u0259\\u0281e\", \"rez# :: \\u0259\\u0281e\", \"rez# :: \\u0259\\u0281e\", \"rez# :: \\u0259\\u0281e\", \"rez# :: \\u0259\\u0281e\", \"rez# :: \\u0259\\u0281e\", \"rez# :: \\u0259\\u0281e\", \"rez# :: \\u0259\\u0281e\", \"rez# :: \\u0259\\u0281e\", \"rez# :: \\u0259\\u0281e\", \"rez# :: \\u0259\\u0281e\", \"rez# :: \\u0259\\u0281e#\", \"rez# :: \\u0259\\u0281e#\", \"rez# :: \\u0259\\u0281e#\", \"rez# :: \\u0259\\u0281e#\", \"rez# :: \\u0259\\u0281e#\", \"rez# :: \\u0259\\u0281e#\", \"rez# :: \\u0259\\u0281e#\", \"rez# :: \\u0259\\u0281e#\", \"rez# :: \\u0259\\u0281e#\", \"rez# :: \\u0259\\u0281e#\", \"rez# :: \\u0259\\u0281e#\", \"rez# :: \\u0281e#\", \"rez# :: \\u0281e#\", \"rez# :: \\u0281e#\", \"rez# :: \\u0281e#\", \"rez# :: \\u0281e#\", \"rez# :: \\u0281e#\", \"rez# :: \\u0281e#\", \"rez# :: \\u0281e#\", \"rez# :: \\u0281e#\", \"rez# :: \\u0281e#\", \"rez# :: \\u0281e#\", \"rez# :: \\u0281e#\", \"rez# :: \\u0281e#\", \"rge :: #ema\", \"rgn :: \\u0254\\u032f\\u0281\\u0272\", \"rgne :: \\u0254\\u032f\\u0281\\u0272\", \"rie :: je#\", \"rie :: je#\", \"rie :: je#\", \"rie :: je#\", \"rie :: je#\", \"rie :: je#\", \"rie :: je#\", \"rie :: je#\", \"rie :: je#\", \"rie :: je#\", \"rie :: je#\", \"rie :: l\\u0259\\u0281\", \"rie :: l\\u0259\\u0281\", \"rie :: l\\u0259\\u0281\", \"rie :: \\u0259\\u0281j\", \"rie :: \\u0259\\u0281j\", \"rie :: \\u0259\\u0281j\", \"rie :: \\u0259\\u0281j\", \"rie :: \\u0259\\u0281j\", \"rie :: \\u0259\\u0281j\", \"rie :: \\u0259\\u0281j\", \"rie :: \\u0259\\u0281je\", \"rie :: \\u0259\\u0281je\", \"rie :: \\u0259\\u0281je\", \"rie :: \\u0259\\u0281je\", \"rie :: \\u0259\\u0281je\", \"rie :: \\u0259\\u0281je\", \"rie :: \\u0281je\", \"rie :: \\u0281je\", \"rie :: \\u0281je\", \"rie :: \\u0281je\", \"rie :: \\u0281je\", \"rie :: \\u0281je\", \"rie :: \\u0281je#\", \"rie :: \\u0281je#\", \"rie :: \\u0281je#\", \"rie :: \\u0281je#\", \"rie :: \\u0281je#\", \"rie :: \\u0281je#\", \"rie :: \\u0281je#\", \"riez :: al\\u0259\", \"riez :: je#\", \"riez :: je#\", \"riez :: je#\", \"riez :: je#\", \"riez :: je#\", \"riez :: je#\", \"riez :: je#\", \"riez :: je#\", \"riez :: l\\u0259\\u0281\", \"riez :: l\\u0259\\u0281\", \"riez :: l\\u0259\\u0281\", \"riez :: l\\u0259\\u0281j\", \"riez :: l\\u0259\\u0281j\", \"riez :: t\\u0281j\", \"riez :: \\u0259\\u0281j\", \"riez :: \\u0259\\u0281j\", \"riez :: \\u0259\\u0281j\", \"riez :: \\u0259\\u0281j\", \"riez :: \\u0259\\u0281j\", \"riez :: \\u0259\\u0281je\", \"riez :: \\u0259\\u0281je\", \"riez :: \\u0259\\u0281je\", \"riez :: \\u0259\\u0281je\", \"riez :: \\u0259\\u0281je\", \"riez :: \\u0281je\", \"riez :: \\u0281je\", \"riez :: \\u0281je\", \"riez :: \\u0281je\", \"riez :: \\u0281je\", \"riez :: \\u0281je\", \"riez :: \\u0281je\", \"riez :: \\u0281je\", \"riez :: \\u0281je\", \"riez :: \\u0281je\", \"riez :: \\u0281je#\", \"riez :: \\u0281je#\", \"riez :: \\u0281je#\", \"riez :: \\u0281je#\", \"riez :: \\u0281je#\", \"riez :: \\u0281je#\", \"rif :: \\u0281\\u026af\", \"rif :: \\u0281\\u026af\", \"rif :: \\u0281\\u026afj\", \"rifi :: \\u0281\\u026af\", \"rifi :: \\u0281\\u026afj\", \"rim :: #ak\", \"rim :: #ak\", \"rim :: maj\", \"rim :: p\\u0281\\u026am\", \"rio :: j\\u00f5\\u0169\", \"rio :: j\\u00f5\\u0169\", \"rio :: j\\u00f5\\u0169\", \"rio :: j\\u00f5\\u0169\\u032f\", \"rio :: j\\u00f5\\u0169\\u032f\", \"rio :: \\u00f5\\u0169\\u032f\", \"rio :: \\u00f5\\u0169\\u032f\", \"rio :: \\u00f5\\u0169\\u032f#\", \"rio :: \\u00f5\\u0169\\u032f#\", \"rio :: \\u0169\\u032f#\", \"rio :: \\u0169\\u032f#\", \"rio :: \\u0259\\u0281j\\u00f5\", \"rio :: \\u0259\\u0281j\\u00f5\", \"rio :: \\u0281j\\u00f5\", \"rio :: \\u0281j\\u00f5\", \"rio :: \\u0281j\\u00f5\", \"rio :: \\u0281j\\u00f5\", \"rio :: \\u0281j\\u00f5\", \"rio :: \\u0281j\\u00f5\", \"rion :: j\\u00f5\\u0169\\u032f\", \"rion :: j\\u00f5\\u0169\\u032f\", \"rion :: \\u00f5\\u0169\\u032f\", \"rion :: \\u00f5\\u0169\\u032f\", \"rion :: \\u00f5\\u0169\\u032f#\", \"rion :: \\u00f5\\u0169\\u032f#\", \"rion :: \\u0169\\u032f#\", \"rion :: \\u0169\\u032f#\", \"rion :: \\u0281j\\u00f5\", \"rion :: \\u0281j\\u00f5\", \"rion :: \\u0281j\\u00f5\", \"rion :: \\u0281j\\u00f5\\u0169\", \"rion :: \\u0281j\\u00f5\\u0169\", \"riss :: k\\u0281\\u026a\", \"riss :: k\\u0281\\u026a\", \"rm\\u00e9 :: me#\", \"rne :: a\\u0281n\", \"rne :: a\\u0281n\", \"rne :: n\\u0259\\u0281a\", \"rne :: \\u0281n\\u0259\", \"rne :: \\u0281n\\u0259\\u0281\", \"rne :: \\u0281n\\u0259\\u0281\", \"rner :: n\\u0259\\u0281\", \"rner :: n\\u0259\\u0281a\", \"rner :: \\u0259\\u0281a#\", \"rner :: \\u0281a#\", \"rner :: \\u0281a#\", \"rner :: \\u0281n\\u0259\", \"rner :: \\u0281n\\u0259\\u0281\", \"roc :: \\u0251\\u0254\\u032f\\u0283\", \"roch :: k\\u0281\\u0251\", \"roch :: k\\u0281\\u0251\\u0254\", \"rof :: p\\u0281\\u0251\", \"ron :: \\u00f5\\u0169\\u032f\", \"ron :: \\u00f5\\u0169\\u032f\", \"ron :: \\u00f5\\u0169\\u032f\", \"ron :: \\u00f5\\u0169\\u032f\", \"ron :: \\u00f5\\u0169\\u032f\", \"ron :: \\u00f5\\u0169\\u032f\", \"ron :: \\u00f5\\u0169\\u032f\", \"ron :: \\u00f5\\u0169\\u032f\", \"ron :: \\u00f5\\u0169\\u032f\", \"ron :: \\u00f5\\u0169\\u032f\", \"ron :: \\u00f5\\u0169\\u032f#\", \"ron :: \\u00f5\\u0169\\u032f#\", \"ron :: \\u00f5\\u0169\\u032f#\", \"ron :: \\u00f5\\u0169\\u032f#\", \"ron :: \\u00f5\\u0169\\u032f#\", \"ron :: \\u00f5\\u0169\\u032f#\", \"ron :: \\u00f5\\u0169\\u032f#\", \"ron :: \\u0169\\u032f#\", \"ron :: \\u0169\\u032f#\", \"ron :: \\u0169\\u032f#\", \"ron :: \\u0169\\u032f#\", \"ron :: \\u0169\\u032f#\", \"ron :: \\u0169\\u032f#\", \"ron :: \\u0169\\u032f#\", \"ron :: \\u0259\\u0281\\u00f5\", \"ron :: \\u0259\\u0281\\u00f5\", \"ron :: \\u0259\\u0281\\u00f5\", \"ron :: \\u0259\\u0281\\u00f5\", \"ron :: \\u0259\\u0281\\u00f5\", \"ron :: \\u0259\\u0281\\u00f5\", \"ron :: \\u0259\\u0281\\u00f5\\u0169\", \"ron :: \\u0259\\u0281\\u00f5\\u0169\", \"ron :: \\u0259\\u0281\\u00f5\\u0169\", \"ron :: \\u0259\\u0281\\u00f5\\u0169\", \"ron :: \\u0259\\u0281\\u00f5\\u0169\", \"ron :: \\u0259\\u0281\\u00f5\\u0169\", \"ron :: \\u0281\\u00f5\\u0169\", \"ron :: \\u0281\\u00f5\\u0169\", \"ron :: \\u0281\\u00f5\\u0169\", \"ron :: \\u0281\\u00f5\\u0169\", \"ron :: \\u0281\\u00f5\\u0169\", \"ron :: \\u0281\\u00f5\\u0169\", \"ron :: \\u0281\\u00f5\\u0169\", \"ron :: \\u0281\\u00f5\\u0169\", \"ron :: \\u0281\\u00f5\\u0169\\u032f\", \"ron :: \\u0281\\u00f5\\u0169\\u032f\", \"ron :: \\u0281\\u00f5\\u0169\\u032f\", \"ron :: \\u0281\\u00f5\\u0169\\u032f\", \"ron :: \\u0281\\u00f5\\u0169\\u032f\", \"ron :: \\u0281\\u00f5\\u0169\\u032f\", \"ron :: \\u0281\\u00f5\\u0169\\u032f\", \"ron :: \\u0281\\u00f5\\u0169\\u032f\", \"ron :: \\u0281\\u00f5\\u0169\\u032f\", \"ron :: \\u0281\\u00f5\\u0169\\u032f\", \"ron :: \\u0281\\u00f5\\u0169\\u032f\", \"rons :: \\u00f5\\u0169\\u032f\", \"rons :: \\u00f5\\u0169\\u032f\", \"rons :: \\u00f5\\u0169\\u032f\", \"rons :: \\u00f5\\u0169\\u032f\", \"rons :: \\u00f5\\u0169\\u032f\", \"rons :: \\u0169\\u032f#\", \"rons :: \\u0169\\u032f#\", \"rons :: \\u0169\\u032f#\", \"rons :: \\u0169\\u032f#\", \"rons :: \\u0169\\u032f#\", \"rons :: \\u0169\\u032f#\", \"rons :: \\u0259\\u0281\\u00f5\", \"rons :: \\u0259\\u0281\\u00f5\", \"rons :: \\u0259\\u0281\\u00f5\", \"rons :: \\u0259\\u0281\\u00f5\", \"rons :: \\u0259\\u0281\\u00f5\", \"rons :: \\u0259\\u0281\\u00f5\\u0169\", \"rons :: \\u0259\\u0281\\u00f5\\u0169\", \"rons :: \\u0259\\u0281\\u00f5\\u0169\", \"rons :: \\u0259\\u0281\\u00f5\\u0169\", \"rons :: \\u0281\\u00f5\\u0169\\u032f\", \"rons :: \\u0281\\u00f5\\u0169\\u032f\", \"rons :: \\u0281\\u00f5\\u0169\\u032f\", \"rons :: \\u0281\\u00f5\\u0169\\u032f\", \"rons :: \\u0281\\u00f5\\u0169\\u032f\", \"ront :: \\u00f5\\u0169\\u032f\", \"ront :: \\u00f5\\u0169\\u032f\", \"ront :: \\u00f5\\u0169\\u032f\", \"ront :: \\u00f5\\u0169\\u032f\", \"ront :: \\u00f5\\u0169\\u032f#\", \"ront :: \\u00f5\\u0169\\u032f#\", \"ront :: \\u00f5\\u0169\\u032f#\", \"ront :: \\u00f5\\u0169\\u032f#\", \"ront :: \\u0169\\u032f#\", \"ront :: \\u0169\\u032f#\", \"ront :: \\u0169\\u032f#\", \"ront :: \\u0169\\u032f#\", \"ront :: \\u0259\\u0281\\u00f5\", \"ront :: \\u0259\\u0281\\u00f5\", \"ront :: \\u0259\\u0281\\u00f5\", \"ront :: \\u0259\\u0281\\u00f5\\u0169\", \"ront :: \\u0259\\u0281\\u00f5\\u0169\", \"ront :: \\u0259\\u0281\\u00f5\\u0169\", \"ront :: \\u0281\\u00f5\\u0169\", \"ront :: \\u0281\\u00f5\\u0169\", \"ront :: \\u0281\\u00f5\\u0169\", \"ront :: \\u0281\\u00f5\\u0169\", \"ront :: \\u0281\\u00f5\\u0169\", \"ront :: \\u0281\\u00f5\\u0169\\u032f\", \"ront :: \\u0281\\u00f5\\u0169\\u032f\", \"ront :: \\u0281\\u00f5\\u0169\\u032f\", \"ront :: \\u0281\\u00f5\\u0169\\u032f\", \"roqu :: \\u0251\\u0254\\u032f\", \"roqu :: \\u0254\\u032fke\", \"rou :: #\\u0281\\u028a\", \"rou :: #\\u0281\\u028a\", \"rou :: #\\u0281\\u028a\", \"rou :: #\\u0281\\u028ak\", \"rou :: \\u0281\\u028at\", \"rou :: \\u0281\\u028at\", \"rou :: \\u0281\\u028at\", \"rou :: \\u028ak\\u028a\", \"roui :: b\\u0281\\u028aj\", \"roy :: \\u0281waj\", \"roy :: \\u0281waj\", \"rre :: f\\u028a\\u0281\", \"rsou :: #b\\u028a\", \"r\\u00e9ch :: #\\u0281e\\u0283\", \"r\\u00e9ch :: #\\u0281e\\u0283\", \"r\\u00e9ch :: #\\u0281e\\u0283\", \"r\\u00e9f :: efj\", \"r\\u00e9f :: fle\", \"r\\u00e9f :: le\\u0283\", \"r\\u00e9in :: \\u1ebd\\u0129\\u032f\", \"r\\u00e9in :: \\u1ebd\\u0129\\u032f\", \"sai :: al\\u026a\", \"sai :: asa\", \"sai :: asa\", \"sai :: asa\", \"sai :: asa\", \"sal :: ala\", \"sal :: sala\", \"sal :: sala\", \"sal :: \\u0259sa\", \"sal :: \\u0259sa\", \"sal :: \\u0259sa\", \"sass :: \\u026azas\", \"sce :: des\", \"sce :: dese\", \"sce :: esel\", \"sce :: esel\", \"scel :: sel\", \"se# :: as#\", \"se# :: as#\", \"se# :: as#\", \"se# :: as#\", \"se# :: as#\", \"se# :: as#\", \"se# :: as#\", \"se# :: as#\", \"se# :: as#\", \"se# :: as#\", \"se# :: as#\", \"se# :: as#\", \"se# :: as#\", \"se# :: as#\", \"se# :: as#\", \"se# :: las#\", \"se# :: las#\", \"sec :: #s\\u0259\", \"sec :: #s\\u0259\", \"seco :: s\\u0259k\", \"sem :: sm\\u00e6\\u0303\", \"sem :: s\\u0251\\u0303b\", \"sem :: \\u0251\\u0303b\", \"sem :: \\u0251\\u0303bl\", \"sem :: \\u0303bl\", \"semb :: \\u0303bl\", \"sen :: as#\", \"sen :: as#\", \"sen :: as#\", \"sen :: as#\", \"sen :: as#\", \"sen :: as#\", \"sen :: as#\", \"sen :: as#\", \"sen :: as#\", \"sen :: as#\", \"sen :: as#\", \"sen :: as#\", \"sen :: as#\", \"sen :: as#\", \"sen :: as#\", \"sen :: t\\u0361s\\u026a\", \"sen :: t\\u0361s\\u026a\", \"sent :: as#\", \"sent :: as#\", \"sent :: as#\", \"sent :: as#\", \"sent :: as#\", \"sent :: as#\", \"sent :: as#\", \"sent :: as#\", \"sent :: as#\", \"sent :: as#\", \"sent :: as#\", \"sent :: as#\", \"sent :: as#\", \"sent :: as#\", \"sent :: as#\", \"sent :: as#\", \"sent :: a\\u0281\\u0292\", \"sent :: a\\u0281\\u0292\", \"sent :: das#\", \"ser :: s\\u0259\\u0281\", \"ser :: s\\u0259\\u0281\", \"ser :: s\\u0259\\u0281\", \"ser :: s\\u0259\\u0281\", \"ser :: s\\u0259\\u0281\", \"ser :: s\\u0259\\u0281\", \"ser :: s\\u0259\\u0281e\", \"ser :: z\\u0259\\u0281\", \"ser :: z\\u0259\\u0281\", \"ser :: z\\u0259\\u0281\", \"ser :: z\\u0259\\u0281a\", \"ser :: z\\u0259\\u0281a\", \"ser :: \\u0259\\u0281a\", \"ser :: \\u0259\\u0281a\", \"ser :: \\u0259\\u0281a\", \"ser :: \\u0259\\u0281a\", \"ser :: \\u0259\\u0281a\", \"ser :: \\u0259\\u0281a#\", \"ser :: \\u0259\\u0281a#\", \"ser :: \\u0259\\u0281a#\", \"ser :: \\u0259\\u0281a#\", \"ser :: \\u0259\\u0281e\", \"ser :: \\u0259\\u0281e\", \"ser :: \\u0259\\u0281\\u0254\", \"ser :: \\u0259\\u0281\\u0254\", \"ser :: \\u0281a#\", \"ser :: \\u0281a#\", \"ser :: \\u0281a#\", \"ser :: \\u0281a#\", \"ser :: \\u0281a#\", \"ser :: \\u0281je\", \"ser :: \\u0281je\", \"ser :: \\u0281je#\", \"ser :: \\u0281je#\", \"sera :: z\\u0259\\u0281\", \"sera :: z\\u0259\\u0281\", \"sera :: z\\u0259\\u0281a\", \"sera :: z\\u0259\\u0281a\", \"sera :: z\\u0259\\u0281a\", \"sera :: \\u0259\\u0281a\", \"sera :: \\u0259\\u0281a\", \"sera :: \\u0259\\u0281a\", \"sera :: \\u0259\\u0281a\", \"sera :: \\u0259\\u0281a\", \"sera :: \\u0259\\u0281a\", \"sera :: \\u0259\\u0281a\", \"sera :: \\u0259\\u0281a#\", \"sera :: \\u0259\\u0281a#\", \"sera :: \\u0259\\u0281a#\", \"sera :: \\u0259\\u0281a#\", \"sera :: \\u0259\\u0281a#\", \"sera :: \\u0259\\u0281a#\", \"sera :: \\u0281a#\", \"sera :: \\u0281a#\", \"sera :: \\u0281a#\", \"sera :: \\u0281a#\", \"sera :: \\u0281a#\", \"sera :: \\u0281a#\", \"sera :: \\u0281a#\", \"seri :: \\u0259\\u0281j\", \"sero :: \\u0281\\u00f5\\u0169\\u032f\", \"ses :: as#\", \"ses :: as#\", \"ses :: as#\", \"ses :: as#\", \"ses :: as#\", \"ses :: as#\", \"ses :: as#\", \"ses :: as#\", \"ses :: as#\", \"ses :: as#\", \"ses :: nas\", \"ses :: zas\", \"ses :: \\u0281da\", \"ses :: \\u0281da\", \"ses# :: as#\", \"ses# :: as#\", \"ses# :: as#\", \"ses# :: as#\", \"ses# :: as#\", \"ses# :: as#\", \"ses# :: as#\", \"ses# :: as#\", \"ses# :: as#\", \"ses# :: as#\", \"ses# :: as#\", \"ses# :: as#\", \"ses# :: as#\", \"ses# :: nas\", \"ses# :: n\\u00f8z\", \"sie :: asj\", \"sie :: asj\", \"sie :: asj\", \"sie :: asj\", \"sie :: asj\", \"sie :: asje\", \"sie :: asje\", \"sie :: asje\", \"sie :: asje\", \"sie :: asje\", \"sie :: je#\", \"sie :: je#\", \"sie :: je#\", \"sie :: je#\", \"sie :: je#\", \"sie :: je#\", \"sie :: je#\", \"sie :: je#\", \"sie :: sje\", \"sie :: sje\", \"sie :: sje\", \"sie :: sje\", \"sie :: sje\", \"sie :: sje\", \"sie :: sje\", \"sie :: sje\", \"sie :: sje\", \"sie :: sje#\", \"sie :: sje#\", \"sie :: sje#\", \"sie :: sje#\", \"sie :: sje#\", \"sie :: sje#\", \"sie :: sje#\", \"sie :: sje#\", \"sie :: sje#\", \"siez :: asj\", \"siez :: asj\", \"siez :: asj\", \"siez :: asj\", \"siez :: asj\", \"siez :: asj\", \"siez :: asje\", \"siez :: asje\", \"siez :: asje\", \"siez :: asje\", \"siez :: asje\", \"siez :: fasj\", \"siez :: fasj\", \"siez :: je#\", \"siez :: je#\", \"siez :: je#\", \"siez :: je#\", \"siez :: je#\", \"siez :: je#\", \"siez :: je#\", \"siez :: sje\", \"siez :: sje\", \"siez :: sje\", \"siez :: sje\", \"siez :: sje\", \"siez :: sje\", \"siez :: sje\", \"siez :: sje\", \"siez :: sje#\", \"siez :: sje#\", \"siez :: sje#\", \"siez :: sje#\", \"siez :: sje#\", \"siez :: sje#\", \"siez :: sje#\", \"siez :: tas\", \"sif :: #s\\u026a\", \"sig :: #si\\u0272\", \"sio :: j\\u00f5\\u0169\", \"sio :: j\\u00f5\\u0169\", \"sio :: sj\\u00f5\", \"sio :: sj\\u00f5\", \"sio :: sj\\u00f5\\u0169\", \"sio :: sj\\u00f5\\u0169\", \"sion :: asj\", \"sion :: asj\", \"sion :: asj\\u00f5\", \"sion :: asj\\u00f5\", \"sion :: asj\\u00f5\", \"sion :: j\\u00f5\\u0169\", \"sion :: j\\u00f5\\u0169\", \"sion :: sj\\u00f5\", \"sion :: sj\\u00f5\", \"sion :: sj\\u00f5\", \"sion :: sj\\u00f5\\u0169\", \"sion :: sj\\u00f5\\u0169\", \"sion :: sj\\u00f5\\u0169\", \"sion :: \\u00f5\\u0169\\u032f#\", \"sion :: \\u00f5\\u0169\\u032f#\", \"sion :: \\u0169\\u032f#\", \"sion :: \\u0169\\u032f#\", \"sip :: \\u026as\\u026ap\", \"sis :: d\\u0265i\", \"sis :: d\\u0265i\", \"sou :: s\\u028afl\", \"sou :: s\\u028afl\", \"sou :: s\\u028ap\", \"sou :: \\u028afl\", \"sou :: \\u028afl\", \"souf :: b\\u028a\\u0281\", \"souf :: b\\u028a\\u0281\", \"souf :: le#\", \"souf :: s\\u028afl\", \"souf :: \\u028afl\", \"souf :: \\u028afl\", \"soup :: #as\", \"sous :: \\u0281\\u0254#\", \"souv :: #s\\u028av\", \"spa :: asp\", \"squi :: ask\", \"squi :: ask\", \"sse :: as#\", \"sse :: as#\", \"sse :: as#\", \"sse :: as#\", \"sse :: as#\", \"sse :: as#\", \"sse :: as#\", \"sse :: as#\", \"sse :: as#\", \"sse :: as#\", \"sse :: as#\", \"sse :: as#\", \"sse :: as#\", \"sse :: as#\", \"sse :: as#\", \"sse :: as#\", \"sse :: as#\", \"sse :: as#\", \"sse :: as#\", \"sse :: as#\", \"sse :: as#\", \"sse :: as#\", \"sse :: as#\", \"sse :: a\\u0281da\", \"sse :: a\\u0281\\u0292a\", \"sse :: das\", \"sse :: das#\", \"sse :: i\\u0292a\", \"sse :: i\\u0292a\", \"sse :: kas\\u0259\", \"sse :: las\", \"sse :: las\", \"sse :: las\", \"sse :: las\", \"sse :: las#\", \"sse :: las#\", \"sse :: las#\", \"sse :: las#\", \"sse :: las#\", \"sse :: las#\", \"sse :: las#\", \"sse :: nas\", \"sse :: nas\", \"sse :: nas\", \"sse :: nas#\", \"sse :: nas#\", \"sse :: nas#\", \"sse :: sm\\u00e6\", \"sse :: s\\u0259\\u0281\", \"sse :: s\\u0259\\u0281\", \"sse :: s\\u0259\\u0281\", \"sse :: \\u0281da\", \"sse :: \\u0292as\", \"sse :: \\u0292as\", \"sse :: \\u0292as\", \"sse :: \\u0292as\", \"sse :: \\u0292as#\", \"sse :: \\u0292as#\", \"sse :: \\u0292as#\", \"sse# :: as#\", \"sse# :: as#\", \"sse# :: as#\", \"sse# :: as#\", \"sse# :: as#\", \"sse# :: as#\", \"sse# :: as#\", \"sse# :: as#\", \"sse# :: as#\", \"sse# :: as#\", \"sse# :: as#\", \"sse# :: as#\", \"sse# :: as#\", \"sse# :: as#\", \"sse# :: as#\", \"sse# :: as#\", \"sse# :: as#\", \"ssen :: as#\", \"ssen :: as#\", \"ssen :: as#\", \"ssen :: as#\", \"ssen :: as#\", \"ssen :: as#\", \"ssen :: as#\", \"ssen :: as#\", \"ssen :: as#\", \"ssen :: as#\", \"ssen :: as#\", \"ssen :: as#\", \"ssen :: as#\", \"ssen :: as#\", \"ssen :: as#\", \"ssen :: l\\u026as#\", \"sser :: dese\", \"sser :: s\\u0259\\u0281\", \"sser :: s\\u0259\\u0281\", \"sser :: s\\u0259\\u0281\", \"sser :: s\\u0259\\u0281\", \"sser :: s\\u0259\\u0281\", \"sser :: \\u0259\\u0281\\u0254\", \"sses :: as#\", \"sses :: as#\", \"sses :: as#\", \"sses :: as#\", \"sses :: as#\", \"sses :: as#\", \"sses :: as#\", \"sses :: as#\", \"sses :: as#\", \"sses :: as#\", \"sses :: as#\", \"sses :: as#\", \"sses :: ta\\u0281\", \"sses :: ta\\u0281\", \"sses :: \\u0292as#\", \"ssi :: asj\", \"ssi :: asj\", \"ssi :: asj\", \"ssi :: asj\", \"ssi :: asj\", \"ssi :: asj\", \"ssi :: asj\", \"ssi :: asje\", \"ssi :: asje\", \"ssi :: asje\", \"ssi :: asje\", \"ssi :: asje\", \"ssi :: asje\", \"ssi :: asje\", \"ssi :: je#\", \"ssi :: je#\", \"ssi :: je#\", \"ssi :: je#\", \"ssi :: je#\", \"ssi :: je#\", \"ssi :: je#\", \"ssi :: je#\", \"ssi :: j\\u00f5\\u0169\\u032f\", \"ssi :: j\\u00f5\\u0169\\u032f\", \"ssi :: j\\u00f5\\u0169\\u032f\", \"ssi :: sas\", \"ssi :: sas\", \"ssi :: sje\", \"ssi :: sje\", \"ssi :: sje\", \"ssi :: sje\", \"ssi :: sje\", \"ssi :: sje\", \"ssi :: sje#\", \"ssi :: sje#\", \"ssi :: sje#\", \"ssi :: sje#\", \"ssi :: sje#\", \"ssi :: sje#\", \"ssi :: sje#\", \"ssi :: sje#\", \"ssi :: \\u026as\\u026a\", \"ssi :: \\u026as\\u026a\", \"ssi :: \\u026as\\u026a\", \"ssi :: \\u026as\\u026a\", \"ssi :: \\u0361z\\u026a\", \"ssie :: asj\", \"ssie :: asj\", \"ssie :: asj\", \"ssie :: asj\", \"ssie :: asj\", \"ssie :: asje\", \"ssie :: asje\", \"ssie :: asje\", \"ssie :: asje\", \"ssie :: asje\", \"ssie :: je#\", \"ssie :: je#\", \"ssie :: je#\", \"ssie :: je#\", \"ssie :: je#\", \"ssie :: je#\", \"ssie :: je#\", \"ssie :: sas\", \"ssie :: sje\", \"ssie :: sje\", \"ssie :: sje\", \"ssie :: sje\", \"ssie :: sje\", \"ssie :: sje\", \"ssie :: sje\", \"ssie :: sje\", \"ssie :: sje#\", \"ssie :: sje#\", \"ssie :: sje#\", \"ssie :: sje#\", \"ssie :: sje#\", \"ssie :: sje#\", \"ssie :: sje#\", \"ssie :: sje#\", \"ssio :: asj\", \"ssio :: asj\\u00f5\", \"ssio :: asj\\u00f5\", \"ssio :: j\\u00f5\\u0169\", \"ssio :: j\\u00f5\\u0169\", \"ssio :: j\\u00f5\\u0169\", \"ssip :: s\\u026ap\", \"ssip :: \\u026as\\u026a\", \"ssip :: \\u0361z\\u026a\", \"sso :: #as\\u028a\", \"sso :: s\\u028ap\", \"ssur :: s\\u028f\\u0281\", \"stam :: st\\u0251\\u0303\", \"supp :: #s\\u028fp\", \"sur :: #p\\u0281e\", \"sur :: #p\\u0281e\", \"sur :: p\\u0281e\", \"sur :: s\\u028f\\u0281\", \"sur :: s\\u028f\\u0281\", \"sur :: s\\u028f\\u0281\", \"sur :: s\\u028f\\u0281\", \"sur :: s\\u028f\\u0281\", \"sur :: s\\u028f\\u0281\", \"sur :: s\\u028f\\u0281\", \"sur :: s\\u028f\\u0281\", \"s\\u00e9e :: ze#\", \"s\\u00e9e :: ze#\", \"s\\u00e9e :: ze#\", \"s\\u00e9r :: \\u0129\\u032fse\", \"s\\u00e9r :: \\u0129\\u032fse\", \"s\\u00e9r :: \\u032fse\", \"s\\u00e9r :: \\u1ebd\\u0129\\u032f\", \"s\\u00e9r :: \\u1ebd\\u0129\\u032f\", \"s\\u00e9r :: \\u1ebd\\u0129\\u032f\", \"s\\u00e9r :: \\u1ebd\\u0129\\u032fs\", \"tam :: ast\\u0251\", \"tan :: t\\u00e6\\u0303\", \"tan :: t\\u00e6\\u0303\", \"tan :: t\\u00e6\\u0303\", \"tar :: \\u0281ab\", \"tara :: a\\u0281a\", \"tas :: asje\", \"te# :: \\u00e3\\u0169\\u032ft\", \"te# :: \\u00e3\\u0169\\u032ft\", \"te# :: \\u00e3\\u0169\\u032ft\", \"ten :: t\\u0251\\u0303\", \"ten :: t\\u0251\\u0303\", \"ten :: t\\u0251\\u0303\", \"ten :: t\\u0251\\u0303\", \"ter :: #ta\\u0281\", \"ter :: #ta\\u0281\", \"ter :: t\\u0259\\u0281\", \"ter :: t\\u0259\\u0281\", \"ter :: t\\u0259\\u0281\", \"ter :: t\\u0259\\u0281\", \"ter :: t\\u0259\\u0281\", \"ter :: t\\u0259\\u0281\", \"ter :: t\\u0259\\u0281\", \"ter :: t\\u0259\\u0281\", \"ter :: t\\u0259\\u0281a\", \"ter :: t\\u0259\\u0281a\", \"ter :: t\\u0259\\u0281a\", \"ter :: t\\u0259\\u0281a\", \"ter :: t\\u0259\\u0281\\u0254\", \"ter :: t\\u0259\\u0281\\u0254\", \"ter :: t\\u0281i#\", \"ter :: \\u0259\\u0281a\", \"ter :: \\u0259\\u0281a\", \"ter :: \\u0259\\u0281a\", \"ter :: \\u0259\\u0281a\", \"ter :: \\u0259\\u0281a#\", \"ter :: \\u0259\\u0281a#\", \"ter :: \\u0259\\u0281a#\", \"ter :: \\u0259\\u0281a#\", \"ter :: \\u0259\\u0281\\u0254\", \"ter :: \\u0259\\u0281\\u0254\", \"ter :: \\u0259\\u0281\\u0254#\", \"ter :: \\u0259\\u0281\\u0254#\", \"ter :: \\u0259\\u0281\\u0254#\", \"ter :: \\u0259\\u0281\\u0254#\", \"ter :: \\u0281a#\", \"ter :: \\u0281a#\", \"ter :: \\u0281a#\", \"ter :: \\u0281a#\", \"ter :: \\u0281a#\", \"ter :: \\u0281je#\", \"tera :: at\\u0259\", \"tera :: t\\u0259\\u0281\", \"tera :: t\\u0259\\u0281\", \"tera :: t\\u0259\\u0281\", \"tera :: t\\u0259\\u0281\", \"tera :: t\\u0259\\u0281a\", \"tera :: t\\u0259\\u0281a\", \"tera :: t\\u0259\\u0281a\", \"tera :: t\\u0259\\u0281a\", \"tera :: t\\u0259\\u0281\\u0254\", \"tera :: t\\u0259\\u0281\\u0254\", \"tera :: t\\u0259\\u0281\\u0254\", \"tera :: \\u0259\\u0281a\", \"tera :: \\u0259\\u0281a\", \"tera :: \\u0259\\u0281a\", \"tera :: \\u0259\\u0281a\", \"tera :: \\u0259\\u0281a\", \"tera :: \\u0259\\u0281a#\", \"tera :: \\u0259\\u0281a#\", \"tera :: \\u0259\\u0281a#\", \"tera :: \\u0259\\u0281a#\", \"tera :: \\u0259\\u0281a#\", \"tera :: \\u0259\\u0281\\u0254\", \"tera :: \\u0259\\u0281\\u0254\", \"tera :: \\u0259\\u0281\\u0254\", \"tera :: \\u0259\\u0281\\u0254#\", \"tera :: \\u0259\\u0281\\u0254#\", \"tera :: \\u0281a#\", \"tera :: \\u0281a#\", \"tera :: \\u0281a#\", \"tera :: \\u0281a#\", \"tera :: \\u0281a#\", \"tera :: \\u0281\\u0254#\", \"tera :: \\u0281\\u0254#\", \"tera :: \\u0281\\u0254#\", \"tes :: at#\", \"tes :: at#\", \"tes :: at#\", \"tes :: at#\", \"tes :: at#\", \"tes :: at#\", \"tes :: at#\", \"tes :: at#\", \"tes :: at#\", \"tes :: at#\", \"tes :: at#\", \"tes :: jat#\", \"tes# :: at#\", \"tes# :: at#\", \"tes# :: at#\", \"tes# :: at#\", \"tes# :: at#\", \"tes# :: at#\", \"tes# :: at#\", \"tes# :: at#\", \"tes# :: at#\", \"tes# :: at#\", \"tes# :: at#\", \"tes# :: at#\", \"tes# :: \\u0272at\", \"tes# :: \\u0272at\", \"tes# :: \\u0272at\", \"teu :: t\\u0153\\u0281\", \"teu :: t\\u0153\\u0281\", \"teu :: t\\u0153\\u0281#\", \"teu :: t\\u0153\\u0281#\", \"teu :: t\\u0153\\u0281#\", \"teu :: \\u0153\\u0281#\", \"teu :: \\u0153\\u0281#\", \"teur :: at\\u0153\", \"teur :: t\\u0153\\u0281\", \"teur :: t\\u0153\\u0281\", \"teur :: t\\u0153\\u0281#\", \"teur :: t\\u0153\\u0281#\", \"teur :: t\\u0153\\u0281#\", \"teur :: \\u0153\\u0281#\", \"teur :: \\u0153\\u0281#\", \"teur :: \\u0153\\u0281#\", \"tif# :: s\\u026af#\", \"tin :: \\u0361s\\u026an\", \"tin :: \\u0361s\\u026an\", \"tine :: at\\u0361s\", \"tiq :: ast\", \"tiq :: s\\u026ak\", \"tiq :: s\\u026ak\", \"tiq :: s\\u026ak\", \"tiq :: s\\u026ak\", \"tiq :: t\\u0361s\", \"tiq :: t\\u0361s\", \"tiq :: t\\u0361s\\u026a\", \"tiq :: t\\u0361s\\u026a\", \"tiq :: t\\u0361s\\u026a\", \"tiq :: \\u0361s\\u026a\", \"tiq :: \\u0361s\\u026a\", \"tiq :: \\u0361s\\u026ak\", \"tiq :: \\u0361s\\u026ak\", \"tiqu :: s\\u026ak\", \"tiqu :: s\\u026ak\", \"tiqu :: t\\u0361s\", \"tiqu :: t\\u0361s\", \"tiqu :: t\\u0361s\", \"tiqu :: t\\u0361s\\u026a\", \"tiqu :: t\\u0361s\\u026a\", \"tiqu :: \\u0361s\\u026a\", \"tiqu :: \\u0361s\\u026a\", \"tiqu :: \\u0361s\\u026ak\", \"tiqu :: \\u0361s\\u026ak\", \"tis :: #pa\", \"tis :: s\\u026aze\", \"tock :: st\\u0251\\u0254\", \"toi :: a\\u0281#\", \"toil :: #twa\", \"toir :: twa\", \"tois :: twa\", \"ton :: t\\u0251\\u0254\", \"ton :: t\\u0251\\u0254\", \"ton :: t\\u0251\\u0254\", \"ton :: t\\u0251\\u0254\", \"tou :: #t\\u028a\", \"tou :: #t\\u028a\", \"tra :: t\\u0281a\", \"tra :: t\\u0281a\", \"tra :: t\\u0281a\", \"tra :: t\\u0281a\", \"tra :: t\\u0281a\", \"tra :: t\\u0281a\", \"tra :: t\\u0281a\", \"tra :: t\\u0281a\", \"tra :: t\\u0281\\u0251\\u0303\", \"tra :: \\u00f5\\u0169\\u032ft\", \"tra :: \\u0169\\u032ft\\u0281\", \"tra :: \\u0251\\u0303s\", \"tra :: \\u0281\\u0251\\u0303\", \"tra :: \\u0281\\u0251\\u0303\", \"tra :: \\u0281\\u0251\\u0303\", \"tra :: \\u032ft\\u0281a\", \"tren :: t\\u0281an\", \"tru :: t\\u0281y\", \"tten :: #at\\u0251\", \"tten :: at\\u0251\", \"t\\u00e2t :: \\u0251\\u0254\\u032ft\", \"t\\u00e8r :: \\u032fta\\u0281\", \"uadr :: kad\", \"ubic :: b\\u026ak\", \"ubli :: #p\\u028f\", \"ubli :: \\u028fbl\\u026a\", \"uco :: #\\u0281\\u028a\", \"uco :: k\\u028al\", \"uco :: k\\u028al\", \"uco :: \\u0281\\u028ak\\u028a\", \"ucou :: k\\u028al\", \"uera :: \\u0259\\u0281\\u0254#\", \"uera :: \\u0259\\u0281\\u0254#\", \"uet :: at#\", \"uet :: kat#\", \"uet :: kat#\", \"uett :: kat\", \"uff :: s\\u028afl\", \"uff :: s\\u028afl\", \"uil :: #b\\u0281\", \"uill :: #fa\", \"uill :: #fa\", \"uill :: #fa\", \"uine :: k\\u026an\", \"uite :: \\u0265it\", \"ula :: \\u028ala\", \"ula :: \\u028ala\", \"ula :: \\u028ala\", \"ulag :: \\u028ala\", \"ulag :: \\u028ala\\u0292\", \"ulu :: yl\\u028f\", \"upl :: k\\u028fp\", \"ur# :: t\\u0153\\u0281\", \"ur# :: t\\u0153\\u0281#\", \"ur# :: t\\u0153\\u0281#\", \"ur# :: t\\u0153\\u0281#\", \"ur# :: t\\u0153\\u0281#\", \"ur# :: \\u0153\\u0281#\", \"ur# :: \\u0153\\u0281#\", \"ur# :: \\u0153\\u0281#\", \"ur# :: \\u0153\\u0281#\", \"ur# :: \\u0153\\u0281#\", \"ur# :: \\u0153\\u0281#\", \"urci :: \\u028f\\u0281s\", \"urfa :: \\u0281fas\", \"urfa :: \\u0281fas\", \"urie :: \\u028f\\u0281j\", \"urif :: eb\\u028a\\u0281\", \"urs :: j\\u0153\\u0281#\", \"utur :: \\u0361s\\u028f\", \"vers :: va\\u0281\", \"viol :: vj\\u0251\\u0254\", \"vole :: v\\u0251\\u0254\\u032f\", \"xpr :: aks\", \"xpri :: aks\", \"xpri :: aks\", \"xpri :: aksp\", \"xpri :: ksp\\u0281\", \"y\\u00e2me :: \\u0251m#\", \"\\u00e2me :: lam#\", \"\\u00e2mes :: am#\", \"\\u00e2mes :: am#\", \"\\u00e2mes :: am#\", \"\\u00e2mes :: am#\", \"\\u00e2mes :: am#\", \"\\u00e2mes :: am#\", \"\\u00e2mes :: am#\", \"\\u00e2mes :: am#\", \"\\u00e2mes :: am#\", \"\\u00e2mes :: am#\", \"\\u00e2mes :: am#\", \"\\u00e2mes :: am#\", \"\\u00e2mes :: am#\", \"\\u00e2mes :: am#\", \"\\u00e2mes :: lam#\", \"\\u00e2te :: at#\", \"\\u00e2te :: at#\", \"\\u00e2te :: at#\", \"\\u00e2te :: at#\", \"\\u00e2te :: at#\", \"\\u00e2te :: at#\", \"\\u00e2te :: at#\", \"\\u00e2te :: at#\", \"\\u00e2te :: at#\", \"\\u00e2te :: at#\", \"\\u00e2te :: at#\", \"\\u00e2te :: \\u0281\\u0251t#\", \"\\u00e2tes :: at#\", \"\\u00e2tes :: at#\", \"\\u00e2tes :: at#\", \"\\u00e2tes :: at#\", \"\\u00e2tes :: at#\", \"\\u00e2tes :: at#\", \"\\u00e2tes :: at#\", \"\\u00e2tes :: at#\", \"\\u00e2tes :: at#\", \"\\u00e2tes :: at#\", \"\\u00e7ai :: sa#\", \"\\u00e7ai :: sa#\", \"\\u00e8re :: a\\u0281#\", \"\\u00e8re :: a\\u0281#\", \"\\u00e8re :: a\\u0281#\", \"\\u00e8re :: a\\u0281#\", \"\\u00e8re :: a\\u0281#\", \"\\u00e8re :: a\\u0281#\", \"\\u00e8re :: a\\u0281#\", \"\\u00e8re :: a\\u0281#\", \"\\u00e8re :: a\\u0281#\", \"\\u00e8re :: a\\u0281#\", \"\\u00e8re :: a\\u0281#\", \"\\u00e8re :: a\\u0281#\", \"\\u00e8re :: a\\u0281#\", \"\\u00e8re :: \\u0281\\u0259\\u0281a\", \"\\u00e8ren :: a\\u0281#\", \"\\u00e8ren :: a\\u0281#\", \"\\u00e8ren :: a\\u0281#\", \"\\u00e8ren :: a\\u0281#\", \"\\u00e8ren :: a\\u0281#\", \"\\u00e8ren :: a\\u0281#\", \"\\u00e8ren :: a\\u0281#\", \"\\u00e8ren :: a\\u0281#\", \"\\u00e8ren :: a\\u0281#\", \"\\u00e8ren :: a\\u0281#\", \"\\u00e8rer :: a\\u0281\\u0259\", \"\\u00e8rer :: a\\u0281\\u0259\", \"\\u00e9bo :: #deb\", \"\\u00e9bo :: #deb\", \"\\u00e9bou :: #eb\\u028a\", \"\\u00e9bou :: #eb\\u028a\", \"\\u00e9ch :: e\\u0283o\", \"\\u00e9ch :: e\\u0283o\", \"\\u00e9cha :: de\\u0283\", \"\\u00e9chi :: de\\u0283\\u026a\", \"\\u00e9chi :: \\u0281ef\", \"\\u00e9chi :: \\u0281efl\", \"\\u00e9chi :: \\u0283\\u026af\", \"\\u00e9cup :: dek\\u028f\", \"\\u00e9cup :: dek\\u028f\", \"\\u00e9c\\u00e9 :: #des\", \"\\u00e9dui :: ed\\u0265\", \"\\u00e9fl :: efle\", \"\\u00e9fl :: efle\", \"\\u00e9fl :: le\\u0283\", \"\\u00e9fo :: \\u0251\\u0254\\u032f\", \"\\u00e9ga :: egaj\", \"\\u00e9gr :: g\\u0281\\u028aj\", \"\\u00e9gr :: g\\u0281\\u028aj\", \"\\u00e9jo :: #de\\u0292\", \"\\u00e9mon :: em\\u00f5\", \"\\u00e9mon :: em\\u00f5\", \"\\u00e9mon :: em\\u00f5\", \"\\u00e9mon :: em\\u00f5\", \"\\u00e9nu :: #en\\u028f\", \"\\u00e9nu :: #en\\u028f\", \"\\u00e9pe :: \\u0169\\u032f#\", \"\\u00e9ra :: e\\u0281a\", \"\\u00e9ra :: e\\u0281a\", \"\\u00e9ra :: e\\u0281a\", \"\\u00e9ra :: e\\u0281a\", \"\\u00e9ra :: e\\u0281al\", \"\\u00e9ri :: e\\u0281\\u026a\\u0281\", \"\\u00e9rit :: \\u0281\\u026at\", \"\\u00e9s# :: \\u032f\\u0283e\", \"\\u00e9s# :: \\u032f\\u0283e\", \"\\u00e9se :: #de\", \"\\u00e9se :: #dez\", \"\\u00e9se :: dez\", \"\\u00e9tr :: #et\\u0281\", \"\\u00e9tr :: t\\u0281a\", \"\\u00e9tre :: t\\u0281an\"]}, \"R\": 30, \"lambda.step\": 0.01, \"plot.opts\": {\"xlab\": \"PC1\", \"ylab\": \"PC2\"}, \"topic.order\": [1, 2, 3, 4, 5, 6, 7, 8, 9, 10, 11, 12, 13, 14, 15, 16, 17, 18, 19, 20, 21, 22, 23, 24, 25, 26, 27, 28, 29, 30, 31, 32, 33, 34, 35, 36, 37, 38, 39, 40, 41, 42, 43, 44, 45]};\n",
       "\n",
       "function LDAvis_load_lib(url, callback){\n",
       "  var s = document.createElement('script');\n",
       "  s.src = url;\n",
       "  s.async = true;\n",
       "  s.onreadystatechange = s.onload = callback;\n",
       "  s.onerror = function(){console.warn(\"failed to load library \" + url);};\n",
       "  document.getElementsByTagName(\"head\")[0].appendChild(s);\n",
       "}\n",
       "\n",
       "if(typeof(LDAvis) !== \"undefined\"){\n",
       "   // already loaded: just create the visualization\n",
       "   !function(LDAvis){\n",
       "       new LDAvis(\"#\" + \"ldavis_el3167113311937888974935706\", ldavis_el3167113311937888974935706_data);\n",
       "   }(LDAvis);\n",
       "}else if(typeof define === \"function\" && define.amd){\n",
       "   // require.js is available: use it to load d3/LDAvis\n",
       "   require.config({paths: {d3: \"https://d3js.org/d3.v5\"}});\n",
       "   require([\"d3\"], function(d3){\n",
       "      window.d3 = d3;\n",
       "      LDAvis_load_lib(\"https://cdn.jsdelivr.net/gh/bmabey/pyLDAvis@3.4.0/pyLDAvis/js/ldavis.v3.0.0.js\", function(){\n",
       "        new LDAvis(\"#\" + \"ldavis_el3167113311937888974935706\", ldavis_el3167113311937888974935706_data);\n",
       "      });\n",
       "    });\n",
       "}else{\n",
       "    // require.js not available: dynamically load d3 & LDAvis\n",
       "    LDAvis_load_lib(\"https://d3js.org/d3.v5.js\", function(){\n",
       "         LDAvis_load_lib(\"https://cdn.jsdelivr.net/gh/bmabey/pyLDAvis@3.4.0/pyLDAvis/js/ldavis.v3.0.0.js\", function(){\n",
       "                 new LDAvis(\"#\" + \"ldavis_el3167113311937888974935706\", ldavis_el3167113311937888974935706_data);\n",
       "            })\n",
       "         });\n",
       "}\n",
       "</script>"
      ],
      "text/plain": [
       "<IPython.core.display.HTML object>"
      ]
     },
     "execution_count": 56,
     "metadata": {},
     "output_type": "execute_result"
    }
   ],
   "source": [
    "%%capture --no-display\n",
    "\n",
    "## pyLDAvis を使った LDA の結果の可視化: 階層クラスタリングより詳しい\n",
    "import pyLDAvis\n",
    "\n",
    "installed_version = pyLDAvis.__version__\n",
    "print(f\"installed_version: {installed_version}\")\n",
    "if float(installed_version[:3]) > 3.1:\n",
    "    import pyLDAvis.gensim_models as gensimvis\n",
    "else:\n",
    "    import pyLDAvis.gensim as gensimvis\n",
    "pyLDAvis.enable_notebook()\n",
    "\n",
    "## set variable names\n",
    "if use_HDP:\n",
    "    model_used  = pair_hdp\n",
    "else:\n",
    "    model_used  = pair_lda\n",
    "corpus_used   = pair_corpus\n",
    "diction_used  = pair_diction\n",
    "\n",
    "## 実行パラメター: Setting for tSNE or MMDS solves \"TypeError: Object of type complex\n",
    "# is not JSON serializable\" and gives a better layout where overlapping is avoided\n",
    "use_MMDS = False\n",
    "use_tSNE = False\n",
    "if use_MMDS:\n",
    "    vis_data = gensimvis.prepare(model_used, corpus_used, diction_used, mds = 'mmds',\n",
    "                            n_jobs = 1, sort_topics = False)    \n",
    "elif use_tSNE:\n",
    "    vis_data = gensimvis.prepare(model_used, corpus_used, diction_used, mds = 'tsne',\n",
    "                            n_jobs = 1, sort_topics = False)\n",
    "else:\n",
    "    vis_data = gensimvis.prepare(model_used, corpus_used, diction_used,\n",
    "                            n_jobs = 1, sort_topics = False)\n",
    "##\n",
    "pyLDAvis.display(vis_data)"
   ]
  },
  {
   "cell_type": "code",
   "execution_count": 57,
   "id": "25748b85",
   "metadata": {},
   "outputs": [],
   "source": [
    "## save LDAvis output as a html file\n",
    "save_LDAvis = True\n",
    "if save_LDAvis:\n",
    "\tif not apply_term_abuse_filtering:\n",
    "\t\tterm_abuse_threshold = 0\n",
    "\tif len(lang_attr) > 0:\n",
    "\t\tvis_output = f\"results/LDAvis/{lang_name}-pair/{lang_name}-{lang_attr}-{method_name}-ntop{n_topics}-{sp_term_type}-{sn_term_type}{hash_status}-abuse={term_abuse_threshold}.html\"\n",
    "\telse:\n",
    "\t\tvis_output = f\"results/LDAvis/{lang_name}-pair/{lang_name}-{method_name}-ntop{n_topics}-{sp_term_type}-{sn_term_type}{hash_status}-abuse={term_abuse_threshold}.html\"\t\n",
    "\t#\n",
    "\tpyLDAvis.save_html(vis_data, vis_output)"
   ]
  },
  {
   "cell_type": "code",
   "execution_count": 58,
   "id": "8f1c9232",
   "metadata": {},
   "outputs": [],
   "source": [
    "## save topic structures\n",
    "hdp_topics = pair_hdp.show_topics(num_topics = max_n_topics,\n",
    "                               num_words = n_terms_to_show, formatted = False)\n",
    "hdp_dict = { tid: values for tid, values in hdp_topics }\n",
    "## convert to Pandas dataframe\n",
    "topics_df = pd.DataFrame.from_dict(hdp_dict)\n",
    "lang_dir_name = lang_name\n",
    "target_class = \"pair\"\n",
    "term_type = f\"{sp_term_type}-{sn_term_type}\"\n",
    "accent_status = \"-unaccented\"\n",
    "#\n",
    "pair_hdp_topics_out = f\"results/terms-by-topics-raw/{lang_dir_name}/{target_lang_dict[target_lang_key]}-{target_class}-topics{max_n_topics}-{term_type}{accent_status}.csv\"\n",
    "topics_df.to_csv(pair_hdp_topics_out, header = False, index = None)"
   ]
  },
  {
   "cell_type": "markdown",
   "id": "6d79c463",
   "metadata": {},
   "source": [
    "# t-SNE を使った可視化"
   ]
  },
  {
   "cell_type": "code",
   "execution_count": 59,
   "id": "24f33ef0-49d0-4df7-8ffb-3718ec8d5441",
   "metadata": {},
   "outputs": [
    {
     "name": "stdout",
     "output_type": "stream",
     "text": [
      "top_perplexity_val: 15\n"
     ]
    }
   ],
   "source": [
    "## t-SNE の実行\n",
    "from sklearn.manifold import TSNE\n",
    "import numpy as np\n",
    "## tSNE のパラメターを設定\n",
    "top_perplexity_val = round(n_topics * top_perplexity_reduct_rate) # 大き過ぎると良くない\n",
    "print(f\"top_perplexity_val: {top_perplexity_val}\")\n",
    "tSNE_3d = TSNE(n_components = 3, random_state = 0,\n",
    "               perplexity = top_perplexity_val, max_iter = 1000)\n",
    "## データに適用\n",
    "pair_top_dist = model_used.get_topics()\n",
    "pair_top_tsne_3d_fitted = tSNE_3d.fit_transform(np.array(pair_top_dist))"
   ]
  },
  {
   "cell_type": "code",
   "execution_count": 60,
   "id": "876f8dc4-ce17-47c9-917f-0c2df723eb00",
   "metadata": {},
   "outputs": [
    {
     "data": {
      "application/vnd.plotly.v1+json": {
       "config": {
        "plotlyServerURL": "https://plot.ly"
       },
       "data": [
        {
         "mode": "markers",
         "type": "scatter3d",
         "x": [
          -147.78199768066406,
          -74.17532348632812,
          41.66330337524414,
          -39.50957489013672,
          -99.98101806640625,
          33.785484313964844,
          67.77167510986328,
          -44.509605407714844,
          -139.04421997070312,
          -52.903987884521484,
          -95.95526123046875,
          -12.658318519592285,
          140.78042602539062,
          89.16216278076172,
          -149.83975219726562,
          -29.58694839477539,
          -92.09911346435547,
          -2.4658639430999756,
          -26.74692726135254,
          65.64241027832031,
          76.72731018066406,
          -20.074445724487305,
          -61.4134407043457,
          108.01477813720703,
          -4.6601057052612305,
          -1.9565759897232056,
          121.5683364868164,
          69.77059936523438,
          18.22292709350586,
          181.65313720703125,
          135.87857055664062,
          -93.73965454101562,
          128.40451049804688,
          -8.02946662902832,
          62.59678649902344,
          9.605948448181152,
          44.92694091796875,
          146.56011962890625,
          120.11597442626953,
          -77.9561767578125,
          157.90829467773438,
          37.89191436767578,
          128.93093872070312,
          100.20745849609375,
          -7.314842224121094
         ],
         "y": [
          -41.69137191772461,
          105.34169006347656,
          74.97952270507812,
          -6.468243598937988,
          41.375240325927734,
          32.07096481323242,
          158.79917907714844,
          21.864517211914062,
          -21.67386245727539,
          -59.18885040283203,
          -129.3272705078125,
          10.865267753601074,
          -23.066482543945312,
          0.4071959853172302,
          52.82969284057617,
          167.8560028076172,
          74.4129867553711,
          -88.12610626220703,
          128.67184448242188,
          -114.43280792236328,
          -138.49636840820312,
          1.0378507375717163,
          112.36767578125,
          -81.63492584228516,
          -169.9186248779297,
          -69.52979278564453,
          67.92603302001953,
          -12.752396583557129,
          76.98216247558594,
          -211.5296173095703,
          -82.84160614013672,
          -26.424163818359375,
          103.57453918457031,
          -145.98452758789062,
          -0.8168501257896423,
          75.01069641113281,
          115.95304107666016,
          -76.451171875,
          75.36860656738281,
          -88.96507263183594,
          35.4805908203125,
          -53.26532745361328,
          15.236700057983398,
          136.97482299804688,
          -119.8744125366211
         ],
         "z": [
          -79.22745513916016,
          -61.20482635498047,
          -113.95861053466797,
          135.86036682128906,
          -105.02584838867188,
          75.98519134521484,
          -33.23099136352539,
          38.8263053894043,
          89.07550048828125,
          -124.10887908935547,
          -43.12488555908203,
          -170.99221801757812,
          -36.22200393676758,
          142.9787139892578,
          4.669798374176025,
          95.19215393066406,
          115.6990737915039,
          138.16952514648438,
          -133.93447875976562,
          -65.41000366210938,
          18.038759231567383,
          -60.92993927001953,
          27.908967971801758,
          110.61007690429688,
          -24.225576400756836,
          -9.265170097351074,
          -66.48139953613281,
          -103.09834289550781,
          -18.70796775817871,
          -50.62578201293945,
          -93.23532104492188,
          -13.900924682617188,
          22.642732620239258,
          66.37047576904297,
          -4.516022205352783,
          150.08255004882812,
          61.76045608520508,
          25.407365798950195,
          125.51998901367188,
          55.52395248413086,
          -0.5960279703140259,
          63.717185974121094,
          62.530521392822266,
          -594.8859252929688,
          -93.07671356201172
         ]
        }
       ],
       "layout": {
        "autosize": false,
        "height": 600,
        "template": {
         "data": {
          "bar": [
           {
            "error_x": {
             "color": "#2a3f5f"
            },
            "error_y": {
             "color": "#2a3f5f"
            },
            "marker": {
             "line": {
              "color": "#E5ECF6",
              "width": 0.5
             },
             "pattern": {
              "fillmode": "overlay",
              "size": 10,
              "solidity": 0.2
             }
            },
            "type": "bar"
           }
          ],
          "barpolar": [
           {
            "marker": {
             "line": {
              "color": "#E5ECF6",
              "width": 0.5
             },
             "pattern": {
              "fillmode": "overlay",
              "size": 10,
              "solidity": 0.2
             }
            },
            "type": "barpolar"
           }
          ],
          "carpet": [
           {
            "aaxis": {
             "endlinecolor": "#2a3f5f",
             "gridcolor": "white",
             "linecolor": "white",
             "minorgridcolor": "white",
             "startlinecolor": "#2a3f5f"
            },
            "baxis": {
             "endlinecolor": "#2a3f5f",
             "gridcolor": "white",
             "linecolor": "white",
             "minorgridcolor": "white",
             "startlinecolor": "#2a3f5f"
            },
            "type": "carpet"
           }
          ],
          "choropleth": [
           {
            "colorbar": {
             "outlinewidth": 0,
             "ticks": ""
            },
            "type": "choropleth"
           }
          ],
          "contour": [
           {
            "colorbar": {
             "outlinewidth": 0,
             "ticks": ""
            },
            "colorscale": [
             [
              0,
              "#0d0887"
             ],
             [
              0.1111111111111111,
              "#46039f"
             ],
             [
              0.2222222222222222,
              "#7201a8"
             ],
             [
              0.3333333333333333,
              "#9c179e"
             ],
             [
              0.4444444444444444,
              "#bd3786"
             ],
             [
              0.5555555555555556,
              "#d8576b"
             ],
             [
              0.6666666666666666,
              "#ed7953"
             ],
             [
              0.7777777777777778,
              "#fb9f3a"
             ],
             [
              0.8888888888888888,
              "#fdca26"
             ],
             [
              1,
              "#f0f921"
             ]
            ],
            "type": "contour"
           }
          ],
          "contourcarpet": [
           {
            "colorbar": {
             "outlinewidth": 0,
             "ticks": ""
            },
            "type": "contourcarpet"
           }
          ],
          "heatmap": [
           {
            "colorbar": {
             "outlinewidth": 0,
             "ticks": ""
            },
            "colorscale": [
             [
              0,
              "#0d0887"
             ],
             [
              0.1111111111111111,
              "#46039f"
             ],
             [
              0.2222222222222222,
              "#7201a8"
             ],
             [
              0.3333333333333333,
              "#9c179e"
             ],
             [
              0.4444444444444444,
              "#bd3786"
             ],
             [
              0.5555555555555556,
              "#d8576b"
             ],
             [
              0.6666666666666666,
              "#ed7953"
             ],
             [
              0.7777777777777778,
              "#fb9f3a"
             ],
             [
              0.8888888888888888,
              "#fdca26"
             ],
             [
              1,
              "#f0f921"
             ]
            ],
            "type": "heatmap"
           }
          ],
          "heatmapgl": [
           {
            "colorbar": {
             "outlinewidth": 0,
             "ticks": ""
            },
            "colorscale": [
             [
              0,
              "#0d0887"
             ],
             [
              0.1111111111111111,
              "#46039f"
             ],
             [
              0.2222222222222222,
              "#7201a8"
             ],
             [
              0.3333333333333333,
              "#9c179e"
             ],
             [
              0.4444444444444444,
              "#bd3786"
             ],
             [
              0.5555555555555556,
              "#d8576b"
             ],
             [
              0.6666666666666666,
              "#ed7953"
             ],
             [
              0.7777777777777778,
              "#fb9f3a"
             ],
             [
              0.8888888888888888,
              "#fdca26"
             ],
             [
              1,
              "#f0f921"
             ]
            ],
            "type": "heatmapgl"
           }
          ],
          "histogram": [
           {
            "marker": {
             "pattern": {
              "fillmode": "overlay",
              "size": 10,
              "solidity": 0.2
             }
            },
            "type": "histogram"
           }
          ],
          "histogram2d": [
           {
            "colorbar": {
             "outlinewidth": 0,
             "ticks": ""
            },
            "colorscale": [
             [
              0,
              "#0d0887"
             ],
             [
              0.1111111111111111,
              "#46039f"
             ],
             [
              0.2222222222222222,
              "#7201a8"
             ],
             [
              0.3333333333333333,
              "#9c179e"
             ],
             [
              0.4444444444444444,
              "#bd3786"
             ],
             [
              0.5555555555555556,
              "#d8576b"
             ],
             [
              0.6666666666666666,
              "#ed7953"
             ],
             [
              0.7777777777777778,
              "#fb9f3a"
             ],
             [
              0.8888888888888888,
              "#fdca26"
             ],
             [
              1,
              "#f0f921"
             ]
            ],
            "type": "histogram2d"
           }
          ],
          "histogram2dcontour": [
           {
            "colorbar": {
             "outlinewidth": 0,
             "ticks": ""
            },
            "colorscale": [
             [
              0,
              "#0d0887"
             ],
             [
              0.1111111111111111,
              "#46039f"
             ],
             [
              0.2222222222222222,
              "#7201a8"
             ],
             [
              0.3333333333333333,
              "#9c179e"
             ],
             [
              0.4444444444444444,
              "#bd3786"
             ],
             [
              0.5555555555555556,
              "#d8576b"
             ],
             [
              0.6666666666666666,
              "#ed7953"
             ],
             [
              0.7777777777777778,
              "#fb9f3a"
             ],
             [
              0.8888888888888888,
              "#fdca26"
             ],
             [
              1,
              "#f0f921"
             ]
            ],
            "type": "histogram2dcontour"
           }
          ],
          "mesh3d": [
           {
            "colorbar": {
             "outlinewidth": 0,
             "ticks": ""
            },
            "type": "mesh3d"
           }
          ],
          "parcoords": [
           {
            "line": {
             "colorbar": {
              "outlinewidth": 0,
              "ticks": ""
             }
            },
            "type": "parcoords"
           }
          ],
          "pie": [
           {
            "automargin": true,
            "type": "pie"
           }
          ],
          "scatter": [
           {
            "fillpattern": {
             "fillmode": "overlay",
             "size": 10,
             "solidity": 0.2
            },
            "type": "scatter"
           }
          ],
          "scatter3d": [
           {
            "line": {
             "colorbar": {
              "outlinewidth": 0,
              "ticks": ""
             }
            },
            "marker": {
             "colorbar": {
              "outlinewidth": 0,
              "ticks": ""
             }
            },
            "type": "scatter3d"
           }
          ],
          "scattercarpet": [
           {
            "marker": {
             "colorbar": {
              "outlinewidth": 0,
              "ticks": ""
             }
            },
            "type": "scattercarpet"
           }
          ],
          "scattergeo": [
           {
            "marker": {
             "colorbar": {
              "outlinewidth": 0,
              "ticks": ""
             }
            },
            "type": "scattergeo"
           }
          ],
          "scattergl": [
           {
            "marker": {
             "colorbar": {
              "outlinewidth": 0,
              "ticks": ""
             }
            },
            "type": "scattergl"
           }
          ],
          "scattermapbox": [
           {
            "marker": {
             "colorbar": {
              "outlinewidth": 0,
              "ticks": ""
             }
            },
            "type": "scattermapbox"
           }
          ],
          "scatterpolar": [
           {
            "marker": {
             "colorbar": {
              "outlinewidth": 0,
              "ticks": ""
             }
            },
            "type": "scatterpolar"
           }
          ],
          "scatterpolargl": [
           {
            "marker": {
             "colorbar": {
              "outlinewidth": 0,
              "ticks": ""
             }
            },
            "type": "scatterpolargl"
           }
          ],
          "scatterternary": [
           {
            "marker": {
             "colorbar": {
              "outlinewidth": 0,
              "ticks": ""
             }
            },
            "type": "scatterternary"
           }
          ],
          "surface": [
           {
            "colorbar": {
             "outlinewidth": 0,
             "ticks": ""
            },
            "colorscale": [
             [
              0,
              "#0d0887"
             ],
             [
              0.1111111111111111,
              "#46039f"
             ],
             [
              0.2222222222222222,
              "#7201a8"
             ],
             [
              0.3333333333333333,
              "#9c179e"
             ],
             [
              0.4444444444444444,
              "#bd3786"
             ],
             [
              0.5555555555555556,
              "#d8576b"
             ],
             [
              0.6666666666666666,
              "#ed7953"
             ],
             [
              0.7777777777777778,
              "#fb9f3a"
             ],
             [
              0.8888888888888888,
              "#fdca26"
             ],
             [
              1,
              "#f0f921"
             ]
            ],
            "type": "surface"
           }
          ],
          "table": [
           {
            "cells": {
             "fill": {
              "color": "#EBF0F8"
             },
             "line": {
              "color": "white"
             }
            },
            "header": {
             "fill": {
              "color": "#C8D4E3"
             },
             "line": {
              "color": "white"
             }
            },
            "type": "table"
           }
          ]
         },
         "layout": {
          "annotationdefaults": {
           "arrowcolor": "#2a3f5f",
           "arrowhead": 0,
           "arrowwidth": 1
          },
          "autotypenumbers": "strict",
          "coloraxis": {
           "colorbar": {
            "outlinewidth": 0,
            "ticks": ""
           }
          },
          "colorscale": {
           "diverging": [
            [
             0,
             "#8e0152"
            ],
            [
             0.1,
             "#c51b7d"
            ],
            [
             0.2,
             "#de77ae"
            ],
            [
             0.3,
             "#f1b6da"
            ],
            [
             0.4,
             "#fde0ef"
            ],
            [
             0.5,
             "#f7f7f7"
            ],
            [
             0.6,
             "#e6f5d0"
            ],
            [
             0.7,
             "#b8e186"
            ],
            [
             0.8,
             "#7fbc41"
            ],
            [
             0.9,
             "#4d9221"
            ],
            [
             1,
             "#276419"
            ]
           ],
           "sequential": [
            [
             0,
             "#0d0887"
            ],
            [
             0.1111111111111111,
             "#46039f"
            ],
            [
             0.2222222222222222,
             "#7201a8"
            ],
            [
             0.3333333333333333,
             "#9c179e"
            ],
            [
             0.4444444444444444,
             "#bd3786"
            ],
            [
             0.5555555555555556,
             "#d8576b"
            ],
            [
             0.6666666666666666,
             "#ed7953"
            ],
            [
             0.7777777777777778,
             "#fb9f3a"
            ],
            [
             0.8888888888888888,
             "#fdca26"
            ],
            [
             1,
             "#f0f921"
            ]
           ],
           "sequentialminus": [
            [
             0,
             "#0d0887"
            ],
            [
             0.1111111111111111,
             "#46039f"
            ],
            [
             0.2222222222222222,
             "#7201a8"
            ],
            [
             0.3333333333333333,
             "#9c179e"
            ],
            [
             0.4444444444444444,
             "#bd3786"
            ],
            [
             0.5555555555555556,
             "#d8576b"
            ],
            [
             0.6666666666666666,
             "#ed7953"
            ],
            [
             0.7777777777777778,
             "#fb9f3a"
            ],
            [
             0.8888888888888888,
             "#fdca26"
            ],
            [
             1,
             "#f0f921"
            ]
           ]
          },
          "colorway": [
           "#636efa",
           "#EF553B",
           "#00cc96",
           "#ab63fa",
           "#FFA15A",
           "#19d3f3",
           "#FF6692",
           "#B6E880",
           "#FF97FF",
           "#FECB52"
          ],
          "font": {
           "color": "#2a3f5f"
          },
          "geo": {
           "bgcolor": "white",
           "lakecolor": "white",
           "landcolor": "#E5ECF6",
           "showlakes": true,
           "showland": true,
           "subunitcolor": "white"
          },
          "hoverlabel": {
           "align": "left"
          },
          "hovermode": "closest",
          "mapbox": {
           "style": "light"
          },
          "paper_bgcolor": "white",
          "plot_bgcolor": "#E5ECF6",
          "polar": {
           "angularaxis": {
            "gridcolor": "white",
            "linecolor": "white",
            "ticks": ""
           },
           "bgcolor": "#E5ECF6",
           "radialaxis": {
            "gridcolor": "white",
            "linecolor": "white",
            "ticks": ""
           }
          },
          "scene": {
           "xaxis": {
            "backgroundcolor": "#E5ECF6",
            "gridcolor": "white",
            "gridwidth": 2,
            "linecolor": "white",
            "showbackground": true,
            "ticks": "",
            "zerolinecolor": "white"
           },
           "yaxis": {
            "backgroundcolor": "#E5ECF6",
            "gridcolor": "white",
            "gridwidth": 2,
            "linecolor": "white",
            "showbackground": true,
            "ticks": "",
            "zerolinecolor": "white"
           },
           "zaxis": {
            "backgroundcolor": "#E5ECF6",
            "gridcolor": "white",
            "gridwidth": 2,
            "linecolor": "white",
            "showbackground": true,
            "ticks": "",
            "zerolinecolor": "white"
           }
          },
          "shapedefaults": {
           "line": {
            "color": "#2a3f5f"
           }
          },
          "ternary": {
           "aaxis": {
            "gridcolor": "white",
            "linecolor": "white",
            "ticks": ""
           },
           "baxis": {
            "gridcolor": "white",
            "linecolor": "white",
            "ticks": ""
           },
           "bgcolor": "#E5ECF6",
           "caxis": {
            "gridcolor": "white",
            "linecolor": "white",
            "ticks": ""
           }
          },
          "title": {
           "x": 0.05
          },
          "xaxis": {
           "automargin": true,
           "gridcolor": "white",
           "linecolor": "white",
           "ticks": "",
           "title": {
            "standoff": 15
           },
           "zerolinecolor": "white",
           "zerolinewidth": 2
          },
          "yaxis": {
           "automargin": true,
           "gridcolor": "white",
           "linecolor": "white",
           "ticks": "",
           "title": {
            "standoff": 15
           },
           "zerolinecolor": "white",
           "zerolinewidth": 2
          }
         }
        },
        "title": {
         "text": "t-SNE 3D view of 45 topics from LDA/HDP (term: sp_4gram-sn_4gram"
        },
        "width": 600
       }
      }
     },
     "metadata": {},
     "output_type": "display_data"
    }
   ],
   "source": [
    "## tSNE の結果の可視化 (3D)\n",
    "import numpy as np\n",
    "import plotly.graph_objects as go\n",
    "\n",
    "## 図の大きさを決める\n",
    "X = pair_top_tsne_3d_fitted[:,0] # 次元 1\n",
    "Y = pair_top_tsne_3d_fitted[:,1] # 次元 2\n",
    "Z = pair_top_tsne_3d_fitted[:,2] # 次元 3\n",
    "fig = go.Figure(data = [go.Scatter3d(x = X, y = Y, z = Z, mode = 'markers')])\n",
    "## 3D 散布図にラベルを追加する処理は未実装\n",
    "fig.update_layout(autosize = False, width = 600, height = 600,\n",
    "                 title = f\"t-SNE 3D view of {n_topics} topics from LDA/HDP (term: {sp_term_type}-{sn_term_type}\")\n",
    "fig.show()"
   ]
  },
  {
   "cell_type": "code",
   "execution_count": 61,
   "id": "404a29b7",
   "metadata": {},
   "outputs": [
    {
     "ename": "SystemExit",
     "evalue": "0",
     "output_type": "error",
     "traceback": [
      "An exception has occurred, use %tb to see the full traceback.\n",
      "\u001b[0;31mSystemExit\u001b[0m\u001b[0;31m:\u001b[0m 0\n"
     ]
    },
    {
     "name": "stderr",
     "output_type": "stream",
     "text": [
      "/Users/kowk/anaconda3/lib/python3.11/site-packages/IPython/core/interactiveshell.py:3585: UserWarning:\n",
      "\n",
      "To exit: use 'exit', 'quit', or Ctrl-D.\n",
      "\n"
     ]
    }
   ],
   "source": [
    "## stop if HDP is used\n",
    "if use_HDP:\n",
    "    sys.exit(0)"
   ]
  },
  {
   "cell_type": "code",
   "execution_count": null,
   "id": "2726147a-b2ad-4a58-b9b8-471d696f4432",
   "metadata": {},
   "outputs": [],
   "source": [
    "%%capture --no-display\n",
    "## LDA のtopic ごとに，関連度の高い term を表示\n",
    "import pandas as pd\n",
    "n_terms = 30 # topic ごとに表示する term 数の指定\n",
    "pair_topic_dfs = [ ]\n",
    "for topic in range(n_topics):\n",
    "    pair_terms = [ ]\n",
    "    if use_HDP:\n",
    "        for i, prob in pair_hdp.show_topics(topic, num_words = n_terms):\n",
    "            pair_terms.append(pair_diction.id2token[int(i)])\n",
    "    else:\n",
    "        for i, prob in model_used.get_topic_terms(topic, topn = n_terms):\n",
    "            pair_terms.append(pair_diction.id2token[int(i)])\n",
    "    pair_topic_dfs.append(pd.DataFrame([pair_terms], index = [ f'topic {topic + 1}' ]))\n",
    "#\n",
    "df_terms_by_topics = pd.concat(pair_topic_dfs)\n",
    "## Table として表示\n",
    "df_terms_by_topics.T"
   ]
  },
  {
   "cell_type": "code",
   "execution_count": 212,
   "id": "9bb82400-bebd-4899-bda7-c2ad6782e0c2",
   "metadata": {},
   "outputs": [],
   "source": [
    "## save encoding file\n",
    "from datetime import datetime\n",
    "datetime_str = datetime.today().strftime('%Y-%m-%d-%H-%M-%S')\n",
    "signature = \"-\".join(datetime_str.split(\"-\")[0:5])\n",
    "output_file = f\"../saved-term-lists/terms-by-topics-{sp_term_type}-{sn_term_type}-a={term_abuse_threshold}-{signature}.csv\"\n",
    "#\n",
    "save_results = False\n",
    "if save_results:\n",
    "    print(f\"saving a file: {output_file}\")\n",
    "    df_terms_by_topics.to_csv(output_file, index = False)"
   ]
  }
 ],
 "metadata": {
  "kernelspec": {
   "display_name": "base",
   "language": "python",
   "name": "python3"
  },
  "language_info": {
   "codemirror_mode": {
    "name": "ipython",
    "version": 3
   },
   "file_extension": ".py",
   "mimetype": "text/x-python",
   "name": "python",
   "nbconvert_exporter": "python",
   "pygments_lexer": "ipython3",
   "version": "3.11.5"
  },
  "widgets": {
   "application/vnd.jupyter.widget-state+json": {
    "state": {},
    "version_major": 2,
    "version_minor": 0
   }
  }
 },
 "nbformat": 4,
 "nbformat_minor": 5
}
