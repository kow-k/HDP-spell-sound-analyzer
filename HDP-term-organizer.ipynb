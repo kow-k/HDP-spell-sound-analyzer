{
 "cells": [
  {
   "cell_type": "code",
   "execution_count": null,
   "metadata": {},
   "outputs": [],
   "source": [
    "## term のLDA モデルを使ったエンコード\n",
    "\n",
    "import pprint as pp\n",
    "## get_term_topics(..) では　minimu_probability = 0 としてもprobabaly = 0 の topic IDs が\n",
    "## 得られないので，sparse encoding しか得られない\n",
    "pair_term_sparse_enc = { term : { x[0] : x[1] for x\n",
    "                                 in pair_lda.get_term_topics(tid, minimum_probability = 0) }\n",
    "                       for tid, term in pair_diction.items() }\n",
    "## check\n",
    "pp.pprint(random.sample(sorted(pair_term_sparse_enc.items()), 3))\n",
    "print(f\"Number of terms: {len(pair_term_sparse_enc)}\")"
   ]
  },
  {
   "cell_type": "code",
   "execution_count": null,
   "metadata": {},
   "outputs": [],
   "source": [
    "## Pandas を使って sparse_enc を full enc に変換\n",
    "pair_term_enc_df = pd.DataFrame.from_dict({ k : pd.Series(v) for k, v in pair_term_sparse_enc.items()})\n",
    "## 上で生じたNaN を0に変換\n",
    "pair_term_enc_df = pair_term_enc_df.fillna(0)    \n",
    "## データを転地\n",
    "pair_term_enc_df = pair_term_enc_df.transpose()\n",
    "pair_term_enc_df"
   ]
  },
  {
   "cell_type": "code",
   "execution_count": null,
   "metadata": {},
   "outputs": [],
   "source": [
    "import matplotlib.pyplot as plt\n",
    "fig = plt.figure()\n",
    "plt.hist(pair_term_enc_df.sum(axis = 1))\n",
    "plt.show()"
   ]
  },
  {
   "cell_type": "code",
   "execution_count": null,
   "metadata": {},
   "outputs": [],
   "source": [
    "## density で filtering\n",
    "import heapq\n",
    "def nth_largest(n: int, numbers: list):\n",
    "    return heapq.nlargest(n, numbers)[-1]\n",
    "#\n",
    "threshold = 100\n",
    "lowest_density = nth_largest(threshold, pair_term_enc_df.sum(axis = 1))\n",
    "size0 = len(pair_term_enc_df)\n",
    "pair_term_enc_df_filtered = pair_term_enc_df[ pair_term_enc_df.sum(axis = 1) > lowest_density ]\n",
    "size1 = len(pair_term_enc_df_filtered)\n",
    "print(f\"{size1} rows remain, discarding {size0 - size1} rows\")"
   ]
  },
  {
   "cell_type": "code",
   "execution_count": null,
   "metadata": {},
   "outputs": [],
   "source": [
    "## sampling term_enc_df for hc\n",
    "term_hc_sampling_rate = 1.0\n",
    "sampled_pair_term_enc_df = \\\n",
    "    pair_term_enc_df_filtered.sample(round(len(pair_term_enc_df_filtered) * term_hc_sampling_rate))\n",
    "#\n",
    "sampled_pair_term_enc_df.sample(10)"
   ]
  },
  {
   "cell_type": "code",
   "execution_count": null,
   "metadata": {},
   "outputs": [],
   "source": [
    "## term = pair の階層クラスタリングの実行\n",
    "import numpy as np\n",
    "import matplotlib.pyplot as plt\n",
    "from scipy.cluster.hierarchy import dendrogram, linkage\n",
    "\n",
    "## 日本語表示のための設定\n",
    "#plt.rcParams[\"font.family\"] = \"Hiragino sans\" # Windows/Linux では別のフォントを指定\n",
    "## 変数名の変更\n",
    "hc_df = sampled_pair_term_enc_df\n",
    "\n",
    "## 描画サイズの指定\n",
    "plt.figure(figsize = (6, round(10 * len(hc_df) * 0.017))) # This needs to be run here, before dendrogram construction.\n",
    "\n",
    "## 距離行列の構築\n",
    "linkage_methods = [ 'centroid', 'median', 'ward' ]\n",
    "linkage_method = linkage_methods[-1]\n",
    "#pair_linkage = linkage(hc_df, method = linkage_method, metric = 'euclidean')\n",
    "pair_linkage = linkage(hc_df, metric = 'euclidean')\n",
    "\n",
    "## 事例ラベルの生成\n",
    "max_term_length = max([ len(x) for x in list(hc_df.index)])\n",
    "label_vals = [ x[:max_term_length] for x in list(hc_df.index) ] # truncate doc keys\n",
    "## 樹状分岐図の作成\n",
    "dendrogram(pair_linkage, orientation = 'left', labels = label_vals, leaf_font_size = 8)\n",
    "\n",
    "## 題の指定\n",
    "term_df_size = len(hc_df)\n",
    "hc_sampling_rate = f\"{100 * term_hc_sampling_rate:.2f}\"\n",
    "#domain_names = ', '.join(selected_domains.keys())\n",
    "title_header = f\"Hierarchical clustering of {term_df_size} terms (= {hc_sampling_rate}% sample) via\\n\"\n",
    "title_body = f\"LDA ({n_topics} topics; term: {sp_term_type}-{sn_term_type} pair)\"\n",
    "title_val = title_header + title_body\n",
    "plt.title(title_val)\n",
    "plt.show()"
   ]
  }
 ],
 "metadata": {
  "language_info": {
   "name": "python"
  }
 },
 "nbformat": 4,
 "nbformat_minor": 2
}
