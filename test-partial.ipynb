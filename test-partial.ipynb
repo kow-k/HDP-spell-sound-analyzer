{
 "cells": [
  {
   "cell_type": "code",
   "execution_count": null,
   "metadata": {},
   "outputs": [],
   "source": [
    "import functools\n",
    "\n",
    "def gen_skippy_ngrams (u: list, n_for_ngram: int = 2, sep: str = \"\", missing_mark: str = \"…\", max_distance: int = None, check: bool = check):\n",
    "    \"u is a list of unigrams\"\n",
    "    import gen_ngrams\n",
    "    return gen_ngrams.gen_skippy_ngrams (u, n = n_for_ngram, sep = sep, missing_mark = missing_mark, max_distance = max_distance, check = check)\n",
    "\n",
    "def item_picker(L):\n",
    "    for item in L:\n",
    "        yield item\n",
    "\n",
    "#n_free_params = { 'u': iter(df['sp_1gram']), 'sep': \"\", 'missing_mark': gap_marker, 'max_distance': max_gap_size, 'check': True }\n",
    "n_free_params = { 'sep': \"\", 'missing_mark': gap_marker, 'max_distance': max_gap_size, 'check': True }\n",
    "\n",
    "unigrams = lambda L: iter(df['sp_1gram'])\n",
    "gen_ngrams = functools.partial(gen_skippy_ngrams, unigrams)\n",
    "gen_ngrams = functools.partial(gen_skippy_ngrams, **n_free_params)\n",
    "gen_2gram = gen_ngrams (n_for_ngram = 2)"
   ]
  }
 ],
 "metadata": {
  "language_info": {
   "name": "python"
  }
 },
 "nbformat": 4,
 "nbformat_minor": 2
}
